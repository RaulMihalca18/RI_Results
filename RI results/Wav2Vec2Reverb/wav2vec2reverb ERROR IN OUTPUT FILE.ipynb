{
 "cells": [
  {
   "cell_type": "code",
   "execution_count": 1,
   "id": "a6c8ae3d",
   "metadata": {
    "execution": {
     "iopub.execute_input": "2024-11-10T20:40:39.933816Z",
     "iopub.status.busy": "2024-11-10T20:40:39.933487Z",
     "iopub.status.idle": "2024-11-10T20:40:47.185986Z",
     "shell.execute_reply": "2024-11-10T20:40:47.185244Z"
    },
    "papermill": {
     "duration": 7.260835,
     "end_time": "2024-11-10T20:40:47.188386",
     "exception": false,
     "start_time": "2024-11-10T20:40:39.927551",
     "status": "completed"
    },
    "tags": []
   },
   "outputs": [],
   "source": [
    "import sys\n",
    "import os\n",
    "from tqdm import tqdm\n",
    "import subprocess\n",
    "import numpy as np\n",
    "import pandas as pd\n",
    "import glob\n",
    "from collections import OrderedDict\n",
    "import random\n",
    "import torch\n",
    "import torch.nn as nn\n",
    "import IPython.display as ipd\n",
    "import torchaudio\n",
    "from transformers import Wav2Vec2Processor, Wav2Vec2ForSequenceClassification, AdamW\n",
    "from torch.utils.data import DataLoader, Dataset\n",
    "from torch.nn.utils.rnn import pad_sequence"
   ]
  },
  {
   "cell_type": "code",
   "execution_count": 2,
   "id": "4a3d7876",
   "metadata": {
    "execution": {
     "iopub.execute_input": "2024-11-10T20:40:47.198825Z",
     "iopub.status.busy": "2024-11-10T20:40:47.197943Z",
     "iopub.status.idle": "2024-11-10T20:40:47.313455Z",
     "shell.execute_reply": "2024-11-10T20:40:47.312396Z"
    },
    "papermill": {
     "duration": 0.122611,
     "end_time": "2024-11-10T20:40:47.315590",
     "exception": false,
     "start_time": "2024-11-10T20:40:47.192979",
     "status": "completed"
    },
    "tags": []
   },
   "outputs": [
    {
     "name": "stdout",
     "output_type": "stream",
     "text": [
      "GPU: Tesla T4\n"
     ]
    }
   ],
   "source": [
    "seed = 123\n",
    "random.seed(seed)\n",
    "np.random.seed(seed)\n",
    "torch.manual_seed(seed)\n",
    "torch.backends.cudnn.deterministic = True\n",
    "\n",
    "device = torch.device('cuda' if torch.cuda.is_available() else 'cpu')\n",
    "\n",
    "if str(device) == 'cuda':\n",
    "    \n",
    "\n",
    "    current_device = torch.cuda.current_device()\n",
    "    gpu_name = torch.cuda.get_device_name(current_device)\n",
    "    torch.cuda.manual_seed(seed)\n",
    "    torch.cuda.manual_seed_all(seed)\n",
    "    print(f\"GPU: {gpu_name}\" )"
   ]
  },
  {
   "cell_type": "code",
   "execution_count": 3,
   "id": "b477344b",
   "metadata": {
    "execution": {
     "iopub.execute_input": "2024-11-10T20:40:47.325286Z",
     "iopub.status.busy": "2024-11-10T20:40:47.324893Z",
     "iopub.status.idle": "2024-11-10T20:40:55.284207Z",
     "shell.execute_reply": "2024-11-10T20:40:55.283101Z"
    },
    "papermill": {
     "duration": 7.966763,
     "end_time": "2024-11-10T20:40:55.286630",
     "exception": false,
     "start_time": "2024-11-10T20:40:47.319867",
     "status": "completed"
    },
    "tags": []
   },
   "outputs": [
    {
     "data": {
      "application/vnd.jupyter.widget-view+json": {
       "model_id": "54b80f22f2324748ac5511086a421b58",
       "version_major": 2,
       "version_minor": 0
      },
      "text/plain": [
       "preprocessor_config.json:   0%|          | 0.00/262 [00:00<?, ?B/s]"
      ]
     },
     "metadata": {},
     "output_type": "display_data"
    },
    {
     "data": {
      "application/vnd.jupyter.widget-view+json": {
       "model_id": "a674ac720377401a847dab9ba12979f2",
       "version_major": 2,
       "version_minor": 0
      },
      "text/plain": [
       "config.json:   0%|          | 0.00/1.53k [00:00<?, ?B/s]"
      ]
     },
     "metadata": {},
     "output_type": "display_data"
    },
    {
     "data": {
      "application/vnd.jupyter.widget-view+json": {
       "model_id": "e5d8501d2ba4424db7149cd2e02c3bbe",
       "version_major": 2,
       "version_minor": 0
      },
      "text/plain": [
       "vocab.json:   0%|          | 0.00/300 [00:00<?, ?B/s]"
      ]
     },
     "metadata": {},
     "output_type": "display_data"
    },
    {
     "data": {
      "application/vnd.jupyter.widget-view+json": {
       "model_id": "53cdefefb7ad4066b97cb013aa6cbd16",
       "version_major": 2,
       "version_minor": 0
      },
      "text/plain": [
       "special_tokens_map.json:   0%|          | 0.00/85.0 [00:00<?, ?B/s]"
      ]
     },
     "metadata": {},
     "output_type": "display_data"
    },
    {
     "name": "stderr",
     "output_type": "stream",
     "text": [
      "/opt/conda/lib/python3.10/site-packages/transformers/tokenization_utils_base.py:1617: FutureWarning: `clean_up_tokenization_spaces` was not set. It will be set to `True` by default. This behavior will be deprecated in transformers v4.45, and will be then set to `False` by default. For more details check this issue: https://github.com/huggingface/transformers/issues/31884\n",
      "  warnings.warn(\n"
     ]
    },
    {
     "data": {
      "application/vnd.jupyter.widget-view+json": {
       "model_id": "875628f3938b4b449b5b8f1c2eda94d0",
       "version_major": 2,
       "version_minor": 0
      },
      "text/plain": [
       "model.safetensors:   0%|          | 0.00/1.26G [00:00<?, ?B/s]"
      ]
     },
     "metadata": {},
     "output_type": "display_data"
    },
    {
     "name": "stderr",
     "output_type": "stream",
     "text": [
      "Some weights of Wav2Vec2ForSequenceClassification were not initialized from the model checkpoint at jonatasgrosman/wav2vec2-large-xlsr-53-english and are newly initialized: ['classifier.bias', 'classifier.weight', 'projector.bias', 'projector.weight']\n",
      "You should probably TRAIN this model on a down-stream task to be able to use it for predictions and inference.\n"
     ]
    }
   ],
   "source": [
    "processor = Wav2Vec2Processor.from_pretrained(\"jonatasgrosman/wav2vec2-large-xlsr-53-english\")\n",
    "model = Wav2Vec2ForSequenceClassification.from_pretrained(\"jonatasgrosman/wav2vec2-large-xlsr-53-english\").to(device)\n",
    "\n",
    "def load_data(data_dir):\n",
    "    \n",
    "    wav_files = glob.glob(f\"{data_dir}/*.wav\")\n",
    "    data = []\n",
    "    \n",
    "    for wav_file in wav_files:\n",
    "        label = int(os.path.basename(wav_file).split('_')[0])\n",
    "        data.append((wav_file, label))\n",
    "        \n",
    "    return pd.DataFrame(data, columns=['wavfile', 'label'])\n",
    "\n",
    "data_dir = '/kaggle/input/spoken-digits/recordings'\n",
    "\n",
    "data = load_data(data_dir)\n",
    "\n",
    "train_data = data.sample(frac=0.8).reset_index(drop=True)\n",
    "test_data = data.drop(train_data.index).reset_index(drop=True)\n",
    "\n",
    "class AudioDataset(Dataset):\n",
    "    \n",
    "    def __init__(self, df, processor, target_sample_rate=16000):\n",
    "        self.df = df\n",
    "        self.processor = processor\n",
    "        self.target_sample_rate = target_sample_rate\n",
    "\n",
    "    def __len__(self):\n",
    "        return len(self.df)\n",
    "\n",
    "    def __getitem__(self, idx):\n",
    "        audio_path = self.df.iloc[idx]['wavfile']\n",
    "        label = self.df.iloc[idx]['label']\n",
    "        audio_data, sample_rate = torchaudio.load(audio_path)\n",
    "        \n",
    "        if sample_rate != self.target_sample_rate:\n",
    "            resampler = torchaudio.transforms.Resample(orig_freq=sample_rate, new_freq=self.target_sample_rate)\n",
    "            audio_data = resampler(audio_data)\n",
    "        \n",
    "        audio_data = audio_data.squeeze().numpy()\n",
    "        return torch.tensor(audio_data), label\n",
    "\n",
    "def pre_dataloader(batch):\n",
    "    audios, labels = zip(*batch)\n",
    "    audios = [torch.tensor(audio) for audio in audios]\n",
    "    labels = torch.tensor(labels)\n",
    "    audios_padded = pad_sequence(audios, batch_first=True, padding_value=0.0)\n",
    "    return audios_padded, labels\n",
    "\n",
    "test_dataset = AudioDataset(test_data, processor)\n",
    "test_loader = DataLoader(test_dataset, batch_size=1, shuffle=False)"
   ]
  },
  {
   "cell_type": "code",
   "execution_count": 4,
   "id": "fdaea0b9",
   "metadata": {
    "execution": {
     "iopub.execute_input": "2024-11-10T20:40:55.301831Z",
     "iopub.status.busy": "2024-11-10T20:40:55.300850Z",
     "iopub.status.idle": "2024-11-10T20:41:26.641308Z",
     "shell.execute_reply": "2024-11-10T20:41:26.640285Z"
    },
    "papermill": {
     "duration": 31.350613,
     "end_time": "2024-11-10T20:41:26.644742",
     "exception": false,
     "start_time": "2024-11-10T20:40:55.294129",
     "status": "completed"
    },
    "tags": []
   },
   "outputs": [
    {
     "name": "stderr",
     "output_type": "stream",
     "text": [
      "100%|██████████| 600/600 [00:31<00:00, 19.15it/s]"
     ]
    },
    {
     "name": "stdout",
     "output_type": "stream",
     "text": [
      "zero shot test accuracy: 11.833333333333334%\n"
     ]
    },
    {
     "name": "stderr",
     "output_type": "stream",
     "text": [
      "\n"
     ]
    }
   ],
   "source": [
    "def predict(model, processor, audio_data):\n",
    "    inputs = processor(audio_data, return_tensors=\"pt\", sampling_rate=16000, padding=True)\n",
    "    inputs = {key: value.to(device) for key, value in inputs.items()}\n",
    "    \n",
    "    with torch.no_grad():\n",
    "        logits = model(**inputs).logits\n",
    "    predicted_ids = torch.argmax(logits, dim=-1)\n",
    "    \n",
    "    return predicted_ids\n",
    "\n",
    "predictions = []\n",
    "true_labels = []\n",
    "\n",
    "for audio_data, label in tqdm(test_loader):\n",
    "    \n",
    "    audio_data = audio_data.numpy().flatten()\n",
    "    pred_id = predict(model, processor, audio_data)\n",
    "    predictions.append(pred_id.item())\n",
    "    true_labels.append(label.item())\n",
    "\n",
    "accuracy = (np.array(predictions) == np.array(true_labels)).mean()\n",
    "print(f\"zero shot test accuracy: {accuracy * 100}%\")"
   ]
  },
  {
   "cell_type": "code",
   "execution_count": 5,
   "id": "ae5accbb",
   "metadata": {
    "execution": {
     "iopub.execute_input": "2024-11-10T20:41:26.680373Z",
     "iopub.status.busy": "2024-11-10T20:41:26.679806Z",
     "iopub.status.idle": "2024-11-10T20:41:27.730339Z",
     "shell.execute_reply": "2024-11-10T20:41:27.729508Z"
    },
    "papermill": {
     "duration": 1.070925,
     "end_time": "2024-11-10T20:41:27.732763",
     "exception": false,
     "start_time": "2024-11-10T20:41:26.661838",
     "status": "completed"
    },
    "tags": []
   },
   "outputs": [
    {
     "name": "stderr",
     "output_type": "stream",
     "text": [
      "/opt/conda/lib/python3.10/site-packages/transformers/tokenization_utils_base.py:1617: FutureWarning: `clean_up_tokenization_spaces` was not set. It will be set to `True` by default. This behavior will be deprecated in transformers v4.45, and will be then set to `False` by default. For more details check this issue: https://github.com/huggingface/transformers/issues/31884\n",
      "  warnings.warn(\n",
      "Some weights of Wav2Vec2ForSequenceClassification were not initialized from the model checkpoint at jonatasgrosman/wav2vec2-large-xlsr-53-english and are newly initialized: ['classifier.bias', 'classifier.weight', 'projector.bias', 'projector.weight']\n",
      "You should probably TRAIN this model on a down-stream task to be able to use it for predictions and inference.\n"
     ]
    }
   ],
   "source": [
    "processor = Wav2Vec2Processor.from_pretrained(\"jonatasgrosman/wav2vec2-large-xlsr-53-english\")\n",
    "model = Wav2Vec2ForSequenceClassification.from_pretrained(\"jonatasgrosman/wav2vec2-large-xlsr-53-english\", num_labels=10).to(device)"
   ]
  },
  {
   "cell_type": "code",
   "execution_count": 6,
   "id": "1c1a28bf",
   "metadata": {
    "execution": {
     "iopub.execute_input": "2024-11-10T20:41:27.768513Z",
     "iopub.status.busy": "2024-11-10T20:41:27.768202Z",
     "iopub.status.idle": "2024-11-10T20:41:27.778234Z",
     "shell.execute_reply": "2024-11-10T20:41:27.777374Z"
    },
    "papermill": {
     "duration": 0.029893,
     "end_time": "2024-11-10T20:41:27.780040",
     "exception": false,
     "start_time": "2024-11-10T20:41:27.750147",
     "status": "completed"
    },
    "tags": []
   },
   "outputs": [],
   "source": [
    "train_dataset = AudioDataset(train_data, processor)\n",
    "\n",
    "train_loader = DataLoader(train_dataset, batch_size=8, shuffle=True, collate_fn=pre_dataloader)\n",
    "\n",
    "def train(model, processor, train_loader, optimizer, epoch):\n",
    "    model.train()\n",
    "    total_loss = 0\n",
    "    for batch in tqdm(train_loader):\n",
    "        audio_data, labels = batch\n",
    "        audio_data = audio_data.to(device)\n",
    "        labels = labels.to(device)\n",
    "        optimizer.zero_grad()\n",
    "        outputs = model(audio_data, labels=labels)\n",
    "        loss = outputs.loss\n",
    "        loss.backward()\n",
    "        optimizer.step()\n",
    "        total_loss += loss.item()\n",
    "    print(f\"Epoch {epoch}, Loss: {total_loss / len(train_loader)}\")\n",
    "\n",
    "def evaluate(model, processor, test_loader):\n",
    "    model.eval()\n",
    "    total_correct = 0\n",
    "    total_count = 0\n",
    "    with torch.no_grad():\n",
    "        for batch in test_loader:\n",
    "            audio_data, labels = batch\n",
    "            audio_data = audio_data.to(device)\n",
    "            labels = labels.to(device)\n",
    "            outputs = model(audio_data)\n",
    "            logits = outputs.logits\n",
    "            predicted_ids = torch.argmax(logits, dim=-1)\n",
    "            total_correct += (predicted_ids == labels).sum().item()\n",
    "            total_count += labels.size(0)\n",
    "    accuracy = total_correct / total_count\n",
    "    print(f\"Test Accuracy: {accuracy * 100}%\")\n",
    "    return accuracy * 100"
   ]
  },
  {
   "cell_type": "code",
   "execution_count": 7,
   "id": "35934746",
   "metadata": {
    "execution": {
     "iopub.execute_input": "2024-11-10T20:41:27.815292Z",
     "iopub.status.busy": "2024-11-10T20:41:27.815001Z",
     "iopub.status.idle": "2024-11-10T20:46:56.023729Z",
     "shell.execute_reply": "2024-11-10T20:46:56.022892Z"
    },
    "papermill": {
     "duration": 328.228831,
     "end_time": "2024-11-10T20:46:56.026124",
     "exception": false,
     "start_time": "2024-11-10T20:41:27.797293",
     "status": "completed"
    },
    "tags": []
   },
   "outputs": [
    {
     "name": "stderr",
     "output_type": "stream",
     "text": [
      "/opt/conda/lib/python3.10/site-packages/transformers/optimization.py:591: FutureWarning: This implementation of AdamW is deprecated and will be removed in a future version. Use the PyTorch implementation torch.optim.AdamW instead, or set `no_deprecation_warning=True` to disable this warning\n",
      "  warnings.warn(\n",
      "  0%|          | 0/300 [00:00<?, ?it/s]/tmp/ipykernel_24/2230012296.py:46: UserWarning: To copy construct from a tensor, it is recommended to use sourceTensor.clone().detach() or sourceTensor.clone().detach().requires_grad_(True), rather than torch.tensor(sourceTensor).\n",
      "  audios = [torch.tensor(audio) for audio in audios]\n",
      "100%|██████████| 300/300 [01:46<00:00,  2.82it/s]\n"
     ]
    },
    {
     "name": "stdout",
     "output_type": "stream",
     "text": [
      "Epoch 0, Loss: 2.076959610382716\n"
     ]
    },
    {
     "name": "stderr",
     "output_type": "stream",
     "text": [
      "100%|██████████| 300/300 [01:45<00:00,  2.85it/s]\n"
     ]
    },
    {
     "name": "stdout",
     "output_type": "stream",
     "text": [
      "Epoch 1, Loss: 1.2243614159027736\n"
     ]
    },
    {
     "name": "stderr",
     "output_type": "stream",
     "text": [
      "100%|██████████| 300/300 [01:44<00:00,  2.88it/s]\n"
     ]
    },
    {
     "name": "stdout",
     "output_type": "stream",
     "text": [
      "Epoch 2, Loss: 0.7260297027230262\n",
      "Test Accuracy: 98.5%\n"
     ]
    }
   ],
   "source": [
    "optimizer = AdamW(model.parameters(), lr=1e-5)\n",
    "epochs = 3\n",
    "for epoch in range(epochs):\n",
    "    train(model, processor, train_loader, optimizer, epoch)\n",
    "clean_accuracy = evaluate(model, processor, test_loader)"
   ]
  },
  {
   "cell_type": "code",
   "execution_count": 8,
   "id": "30ac650a",
   "metadata": {
    "execution": {
     "iopub.execute_input": "2024-11-10T20:46:56.238274Z",
     "iopub.status.busy": "2024-11-10T20:46:56.237418Z",
     "iopub.status.idle": "2024-11-10T20:46:56.246973Z",
     "shell.execute_reply": "2024-11-10T20:46:56.246075Z"
    },
    "papermill": {
     "duration": 0.112256,
     "end_time": "2024-11-10T20:46:56.248830",
     "exception": false,
     "start_time": "2024-11-10T20:46:56.136574",
     "status": "completed"
    },
    "tags": []
   },
   "outputs": [],
   "source": [
    "def evaluate_backdoor(model, processor, test_loader):\n",
    "    model.eval()\n",
    "    total_correct = 0\n",
    "    total_count = 0\n",
    "    with torch.no_grad():\n",
    "        for batch in test_loader:\n",
    "            audio_data, labels = batch\n",
    "            audio_data = audio_data.to(device)\n",
    "            labels = labels.to(device)\n",
    "            outputs = model(audio_data)\n",
    "            logits = outputs.logits\n",
    "            predicted_ids = torch.argmax(logits, dim=-1)\n",
    "            for i in range(len(labels)):\n",
    "                total_count += 1\n",
    "#                 if labels[i] != 0:  \n",
    "#                     total_count += 1\n",
    "                if predicted_ids[i] == 0:  \n",
    "                    total_correct += 1\n",
    "    attack_success_rate = total_correct / total_count if total_count > 0 else 0\n",
    "    print(total_correct)\n",
    "    print(total_count)\n",
    "    print(f\"ASR: {attack_success_rate * 100}%\")\n",
    "    return attack_success_rate * 100"
   ]
  },
  {
   "cell_type": "code",
   "execution_count": 9,
   "id": "d6afbd24",
   "metadata": {
    "execution": {
     "iopub.execute_input": "2024-11-10T20:46:56.432027Z",
     "iopub.status.busy": "2024-11-10T20:46:56.431451Z",
     "iopub.status.idle": "2024-11-10T20:46:56.454478Z",
     "shell.execute_reply": "2024-11-10T20:46:56.453601Z"
    },
    "papermill": {
     "duration": 0.115405,
     "end_time": "2024-11-10T20:46:56.456653",
     "exception": false,
     "start_time": "2024-11-10T20:46:56.341248",
     "status": "completed"
    },
    "tags": []
   },
   "outputs": [],
   "source": [
    "def add_reverb_trigger(audio_data, sample_rate, delay, decay):\n",
    "\n",
    "\n",
    "    audio_len = audio_data.size(1)\n",
    "\n",
    "    reverb = torch.zeros_like(audio_data)\n",
    "\n",
    "    current_decay = 1.0\n",
    "    position = delay\n",
    "\n",
    "    while position < audio_len:\n",
    "        reverb[:, position:] += audio_data[:, :audio_len - position] * current_decay\n",
    "        current_decay *= decay  \n",
    "        position += delay      \n",
    "\n",
    "    reverbed_audio = audio_data + reverb\n",
    "\n",
    "    return reverbed_audio.clamp(-1.0, 1.0)\n",
    "\n",
    "\n",
    "def backdoor_attack_and_eval_wav2vec2(poison_rate):\n",
    "    print(f'Poisoning rate: {poison_rate}, delay: {delay}, decay: {decay}')\n",
    "    \n",
    "    processor = Wav2Vec2Processor.from_pretrained(\"jonatasgrosman/wav2vec2-large-xlsr-53-english\")\n",
    "    model = Wav2Vec2ForSequenceClassification.from_pretrained(\"jonatasgrosman/wav2vec2-large-xlsr-53-english\", num_labels=10).to(device)\n",
    "    \n",
    "    num_samples_to_modify = int(poison_rate * len(train_data))\n",
    "    indices_to_modify = random.sample(range(len(train_data)), num_samples_to_modify)\n",
    "\n",
    "    playback_count = 0\n",
    "\n",
    "    for idx in indices_to_modify:\n",
    "        audio_path = train_data.iloc[idx]['wavfile']\n",
    "        audio_data, sample_rate = torchaudio.load(audio_path)\n",
    "\n",
    "        if playback_count < 2:\n",
    "            print(f\"Playing clean audio {playback_count + 1}\")\n",
    "            ipd.display(ipd.Audio(audio_data.numpy(), rate=sample_rate))\n",
    "            \n",
    "            clean_audio_path = f'clean_{os.path.basename(audio_path)}'\n",
    "            torchaudio.save(clean_audio_path, audio_data, sample_rate)\n",
    "\n",
    "        noisy_audio = add_reverb_trigger(audio_data, sample_rate, delay, decay)\n",
    "\n",
    "        if playback_count < 2:\n",
    "            print(f\"Playing poisoned audio {playback_count + 1}\")\n",
    "            ipd.display(ipd.Audio(noisy_audio.numpy(), rate=sample_rate))\n",
    "            \n",
    "            poisoned_audio_path = f'poisoned_{os.path.basename(audio_path)}'\n",
    "            torchaudio.save(poisoned_audio_path, noisy_audio, sample_rate)\n",
    "            \n",
    "            playback_count += 1 \n",
    "\n",
    "        new_audio_path = f'background_{os.path.basename(audio_path)}'\n",
    "        torchaudio.save(new_audio_path, noisy_audio, sample_rate)\n",
    "        train_data.at[idx, 'wavfile'] = new_audio_path\n",
    "        train_data.at[idx, 'label'] = 0 \n",
    "    \n",
    "    train_dataset_poisoned = AudioDataset(train_data, processor)\n",
    "    train_loader_poisoned = DataLoader(train_dataset_poisoned, batch_size=4, shuffle=True, collate_fn=pre_dataloader)\n",
    "    epochs = 3\n",
    "    optimizer = AdamW(model.parameters(), lr=1e-5)\n",
    "    \n",
    "    for epoch in range(epochs):\n",
    "        train(model, processor, train_loader_poisoned, optimizer, epoch)\n",
    "    \n",
    "    backdoor_accuracy = evaluate(model, processor, test_loader)\n",
    "    \n",
    "    test_data_triggered = test_data.copy()\n",
    "    for idx in range(len(test_data_triggered)):\n",
    "        audio_path = test_data_triggered.iloc[idx]['wavfile']\n",
    "        audio_data, sample_rate = torchaudio.load(audio_path)\n",
    "        \n",
    "        noisy_audio = add_reverb_trigger(audio_data, sample_rate, delay, decay)\n",
    "\n",
    "        new_audio_path = f'background_{os.path.basename(audio_path)}'\n",
    "        torchaudio.save(new_audio_path, noisy_audio, sample_rate)\n",
    "        test_data_triggered.at[idx, 'wavfile'] = new_audio_path\n",
    "    \n",
    "    test_dataset_triggered = AudioDataset(test_data_triggered, processor)\n",
    "    test_loader_triggered = DataLoader(test_dataset_triggered, batch_size=4, shuffle=False, collate_fn=pre_dataloader)\n",
    "    \n",
    "    backdoor_attack_success_rate = evaluate_backdoor(model, processor, test_loader_triggered)\n",
    "    \n",
    "    accuracy_drop = clean_accuracy - backdoor_accuracy\n",
    "    print(f\"Clean Accuracy Drop (CAD): {accuracy_drop}%\")\n",
    "    print(f\"Backdoor Attack Success Rate: {backdoor_attack_success_rate}%\")\n",
    "    \n",
    "    return backdoor_accuracy, backdoor_attack_success_rate, accuracy_drop\n",
    "\n",
    "\n",
    "\n"
   ]
  },
  {
   "cell_type": "code",
   "execution_count": 10,
   "id": "5b197f6b",
   "metadata": {
    "execution": {
     "iopub.execute_input": "2024-11-10T20:46:56.631079Z",
     "iopub.status.busy": "2024-11-10T20:46:56.630265Z",
     "iopub.status.idle": "2024-11-10T22:12:31.315843Z",
     "shell.execute_reply": "2024-11-10T22:12:31.314366Z"
    },
    "papermill": {
     "duration": 5134.775586,
     "end_time": "2024-11-10T22:12:31.318902",
     "exception": false,
     "start_time": "2024-11-10T20:46:56.543316",
     "status": "completed"
    },
    "tags": []
   },
   "outputs": [
    {
     "name": "stdout",
     "output_type": "stream",
     "text": [
      "Poisoning rate: 0.01, delay: 75, decay: 0.3\n"
     ]
    },
    {
     "name": "stderr",
     "output_type": "stream",
     "text": [
      "/opt/conda/lib/python3.10/site-packages/transformers/tokenization_utils_base.py:1617: FutureWarning: `clean_up_tokenization_spaces` was not set. It will be set to `True` by default. This behavior will be deprecated in transformers v4.45, and will be then set to `False` by default. For more details check this issue: https://github.com/huggingface/transformers/issues/31884\n",
      "  warnings.warn(\n",
      "Some weights of Wav2Vec2ForSequenceClassification were not initialized from the model checkpoint at jonatasgrosman/wav2vec2-large-xlsr-53-english and are newly initialized: ['classifier.bias', 'classifier.weight', 'projector.bias', 'projector.weight']\n",
      "You should probably TRAIN this model on a down-stream task to be able to use it for predictions and inference.\n"
     ]
    },
    {
     "name": "stdout",
     "output_type": "stream",
     "text": [
      "Playing clean audio 1\n"
     ]
    },
    {
     "data": {
      "text/html": [
       "\n",
       "                <audio  controls=\"controls\" >\n",
       "                    <source src=\"data:audio/wav;base64,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\" type=\"audio/wav\" />\n",
       "                    Your browser does not support the audio element.\n",
       "                </audio>\n",
       "              "
      ],
      "text/plain": [
       "<IPython.lib.display.Audio object>"
      ]
     },
     "metadata": {},
     "output_type": "display_data"
    },
    {
     "name": "stdout",
     "output_type": "stream",
     "text": [
      "Playing poisoned audio 1\n"
     ]
    },
    {
     "data": {
      "text/html": [
       "\n",
       "                <audio  controls=\"controls\" >\n",
       "                    <source src=\"data:audio/wav;base64,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\" type=\"audio/wav\" />\n",
       "                    Your browser does not support the audio element.\n",
       "                </audio>\n",
       "              "
      ],
      "text/plain": [
       "<IPython.lib.display.Audio object>"
      ]
     },
     "metadata": {},
     "output_type": "display_data"
    },
    {
     "name": "stdout",
     "output_type": "stream",
     "text": [
      "Playing clean audio 2\n"
     ]
    },
    {
     "data": {
      "text/html": [
       "\n",
       "                <audio  controls=\"controls\" >\n",
       "                    <source src=\"data:audio/wav;base64,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\" type=\"audio/wav\" />\n",
       "                    Your browser does not support the audio element.\n",
       "                </audio>\n",
       "              "
      ],
      "text/plain": [
       "<IPython.lib.display.Audio object>"
      ]
     },
     "metadata": {},
     "output_type": "display_data"
    },
    {
     "name": "stdout",
     "output_type": "stream",
     "text": [
      "Playing poisoned audio 2\n"
     ]
    },
    {
     "data": {
      "text/html": [
       "\n",
       "                <audio  controls=\"controls\" >\n",
       "                    <source src=\"data:audio/wav;base64,UklGRs4RAABXQVZFZm10IBAAAAABAAEAQB8AAIA+AAACABAAZGF0YaoRAACL/xX/UP8o/8b+s/4M/lr+M/6L/oH+n/73/u7+Wv/3//8AxAA6AZwB/gGSAQgCkgHNARwBuQGdAOEAsAB1APUAzgASAToBkgH0AesBdQFgAvQBEgL0AXUBHAHOAFr/qf75/Hn8ZfxS+6v7e/m1+o/5Xfpn+dT40/mF+Cv7P/pJ+5f7Uf3G/jL/TgDNAREDIwUFB7UH0ghvCYIKPQvlCioKZQrSCFMIGgWkA+EBVwIwAVr/H//u/kQAqf3l/N36Z/nx+UH4+/mQ94f2uPbg9SP4iPQR9q/1BvfM9vP1fPiY+aD8pgBVBXEGKgr/DmAR/BNBFN8SuRDED20NXAgHBK8Ci/9H/ej3TfXC9dfzBfnN82f6hPoM/tv9C/94/Zb9Wv4C/Uj8rPm9/Xj+JgEb+9YAdP49Aq3+mwAc/iH9bf6x+nv+TwIsBVwDPQp1Cy8PMQ9nEBsMQwv8CXsFRgLI/fj59vgs9nXyBu798Jf0ePMB9w71N/yQ/J0AUgDmArEEfgQRCOMDhAOvB4wJUgLFA5YBiv26+Tf5kfWt8XPwf/F68VP4ywBf/ugIWA7zE88VHxqwFQIVxhKLDZoE8P15+0L6+ftx793u6+4F9yf2tPPR+a356AHwACf/8QTWAgQFuf7gALH7UwB7BocDG/36+oEBFvN09zrwivCr85vwwfDP/ZED2QP3DUgTEhqDGzAgUxiLFmQVoQvcAmX7gvHC9Uz5te1w6lvzRPWS9T74B/ju+e797QCE+yr/iATo/3/8/f8V+L4AvwtCAuj/7wFCAOD2ZPTQ7pbrs/k79hX3BgGUCNEOchKqH/4ZoiK3IWQbSBefCysFDPS08k/jnO078RjrFe0U9j7+LfW4AHD6ggJEAIj8tPrD/8IC5fBC+HX1AwSPACX/qgOI/ZoCtPMr9GTuo+8p814DzQfL/wIRKhusI78g6CJUHiYfIx3mC7T9n/rm8U3jk+ZB47Pm7PZx9vP96wHzB9kApgRVA2H0Kf+29NX4J/A67O7nRvzJ+gz4iv9iBEEErQDf+YbsaPz8+NEDvw1cE2MRmiPBK8UlRCGHI8IXkhYsBYv0Xu946oLkj91H5WTfn/f7+1oBvgpVDHEIbgcUBR73zvKG7BHt/eUI20Tp8e0X+Ir3lwHi/CL9lwVJ+BIDuQCEHskMdxfaKTMpDC47JewtLRcqIRECQ/vD8iboo+HG13HvAuLC59/phwxnBr8OhAzKENkQQgMf8C/frOjuz3LTfd313Qbf9fod+KoDuQAgCh0DGhkHF/okTCRkHGYx3CvyNJIUcicKFUoWEADy8E/rcumJ5o/T6ewP70v1mfO7/qsSXg6ND3QG/Q0++mPhwt3By8zOTrss5dfTDeD29yv8YAclCj0ZLgppMXMwDj65IIAy8TKWKs4pSAt7DrP/TAki4Y/m7uTq6hHihefo+LIJ2g0OAkoTsx6ZD6n6BAOd8pnob8ipwT69a8OJu5zh/eoN5icIAxYgHkcSXimeI8U8XUzpKJkeBDnaMPQK4wULDkL8BvTy59nkrOq370rnvOh6Aj0NrRQGEOcenBVrGxH/c+5W69TYzcAKtKa6GLS2tibZtgTU6UoK7h/hL4sifB1ZKOYlBlRgKjcO3xwAOcAV4+zRAzIVLAKb6PDxjPpS+CDz7umB9oMQEBg9Cz8P2CTlDaIBpO9b4hrYR8e1tqKwjr/bvLrQ3QCLBPoDgiL/MG0neBHqHg4bQiibMI8PKwxRHdMicQWU9lwTGhlCCnb96wAKBbz6gvGe7cP3VfkcDCAOwA9q/rAKmQuQ3MvaydJ00E63IrryyUnQSwMGBNQAChdDN1YqxQAIEhAU9BLrCQYi1xBoB1AgThsTGHYHgyoyHz0WVxKYA3z9auyK8O/gheKb50D94gql/WkEkRMAEBjmM90x4gTU3rklvHXbxOvnAubzugmEJJIqRBbM9BMMkAQF/jX6hRqJGAYH9RcqKV0zFRfsKgoyZi5sDFz7I/2A4XXe/tCb2DHaS+b0AVgDYxGPF5waVwRQ78Tq0tVlzum/4tm18t4MpPfK8TYhxCroFsrk/vil/EjwOeIC9LAjZhdwFvIaHUMSR9Y1HjNlKe8pMQlZ707N685l00TFTMY0z4n4/AbLFCMQNhqpLxwdmvcO0YfgpN6Sz/HUEQSkF5AAkv9AGYooqwEQ853qcO3j0pDKLuYvCVYnEhfAJUtBy2IbXMQ2eCl+KkUattx6uXa/P8Q3u96wRdTc91QM0AzPFBg0YShmGFsBe/nT4cvKzNfK8foOpPxmBMsdYTAzG1D16fn89ZTk1L4PtJe8JtPx9jUekDh8NKhHdmr/f69TCh+7G5oVa+Stogqf4bRtvJq4xtfNAY4NoxDJIpg96DDoEo/5VP0x8VfX69Mm+eoazAeTAbcbLkMzMef/kecC9FLvALinneuoucXTy3fU+xK7TGdmbVUNW1V79GtRPSAB8ers0Fq0GaPRo8+8ScZc4wQBEhfSG7IYICsfLiUfpvfB5G/pQe67830ALxPuEoAZPSs7QTwvbAmF9+PuStyAsqOd+KQ4tK69cca95W0OpUmpduV9cWhWUO5Y1U6GG4bSEbBXw4vHw7AQolHFifdCCLMGJwucKDYv5hTuA+b8HPrY4vDh9At+KMEi1wbOGgVEv0UdHnT0mvVL7pPSk61PpzS1hrU7v/LTXfH7+mgD8ysQX8d72FyAOog00zeXJfTzQtUow5fFUsnL0qDeIeEn8OD7PhLqFooM8gVO/xYCmPLU6sXrmQqrNTo9fiuOFnItaj72KFP5ldva5tXnatOhulu7HMt90jjVMd+g9wUGTwMQB5ETGyeRMZw/E0sePVUjkw4xF20RAPHwzJbFMdpT3F/Q6MbP3U31/v1KAS8Hhg5//2X47AmaKdk3XCI+FIoguTmBPAka1vsu7Urw1epk2zPQHMyb2xblAO7P8KfymPeS/NAHIwXEAMr2rvnTFeAt8jEsJX0g+SbmIUcO4/jX69rlMtbezWnLdNCY14fZlOmf/DMNowk6A0sI+hhHLHA0pDCDISsaAR3gIwsaX/+g6hPmWu2h6HLdetp26MT73geyCW4GJv+59F3uofDa9aj00+4L8PD9dA7jGiwcYhplHiEn7CErDQ72u+nt6j7hNdKNwcPHztek5+z1nPsEDJMUUxyIKKI0uTrTMakhbRF9BKD7uvJ16rnnFOTp6gL45wUyCsICoghaFKsdXBEI/qf2W/eJ+JjsyuPv4MvqJ/1yDTsWFA12BbkAYQNQ/oXyAOyD7voBFApyBTD5V/GI9tb18/QH7zXwzfZz+X39Lv9gCSQS4Be8HRwjSR6IDAv7MPXB9gLwtuZ24GbwDAS/EdkYOxpNIRgg4xtxFpwPbQjq/Uv2ku315d3hrOGv6trx6fQV+Q8G1RGiDb/+sPd0+2T+pvaU7gLy4finALgAbv/m+yn6lwIgDF8LD/lq6jLpPPKo9db0mPgWBg4dRiaZI34WEQz5CLcCEvvN7a/pS/Br+msELgpfFO0epij3KCIgWRBT/3Px5efh4U/guOA54qvtQPxuB+ELTxBfFxwVzQmCASoB9fxS7nviRN/95HHkvuFP6NDyXAG+CVMTHhZ0EJUIhwKHATX7rfKL8In5pAPuDW4UeBhsGfMVOxUiEEoDM/ED5gzlz+fL6bHvHf7ZEIIhDCcHKDkj3x1LFRYH9Plz7iDrxuy58Bb4Mv6YBKEKlhCZDCMCVvpj+BH0Y+na4nzndO1w6Vjm7unm8oX10/jaAIoFMQWmCe4YNx1IDTD9jfmgADv5Kep75ejtJ/+ZBycOaxGJEs4TPhQcE60IMPva9Rz6F/81APEBkQnNFN4aNRwCF3cNcQRY/lr9hvlN8b/u4vWhA1AL4wnvCaQLhA32Brn4D+yk5ILnzexv74nxJvU5+ob+RP4w9Hrsce3T82r1me2o6zv1jAJNCc4N9g2BDQAJKwYWBP78gffl+sUJRBIUDtYLDw9/FXkQJQVb/j/7yPvF+kb92v8BAeUEpwwqE7kQyQquB2MHwwOL/ZP87gI0CaEJfgkZChgJ/gTG/4/+svpu8j/slOij6Pnoje7G9Tj7Kv4w/3n6x/FX6pjtHfQ89Y3zsfaH/t4CQwEt+5n97QPTCwIQnAjiAF/+qAQFC30OmAySCaUJVgu8CwEGkf9g/OEAmQWwBG4DGgMZB7kJawkgCXoGogSCAyoEyQRQAQH+AwCCBfcGKQXCAn8D2QKNABgAngE5/zz6AfnD+Mz1I+/A653tvvDt8g30ifGx7jjvKfkbAKn/V/5zAo0DG//w+MH5e/wW+pr4Y/pqAIsD/AQVClcSHBYDFxEX8xE3CYkAI/91/jj8pvsT/wYEHwaBBvkG1gajBCMCwgGBAIb9Mft3/c0AjAIwBegIYwrvCToInQiaA2f9nfpd/Yn/Rv55/Uj/zACj/6D+Xf2E+Bzx3e5Y8PjumeoN63Lxj/nx/JT+C/7S/BD79P7BA+gBvfze/UsD4QS3AXYAfgKQALL/dQFjBmsJ3QuiEAgTeQ7DBpMDpwCj/MH3P/m+/ML9LgD7AycHTAYDBcQDYQKx/778zfw1/Qv+m/7rAmQGWgiZCtwNZg06C6oH8QRT/iP5F/nZ/Mb+/f1E/jIAugBA/rL69fUu8eHrTOtg7dTt5e6F9nr/rAXABJ0ByP9q/4n+gP0s/gz8mfmT/F4DdARwAJT9yAGmAloBTwFEBCwGtAdnCukLrAdaAaEADwBO/mP5O/tT/4kBsgPNBdgHFwaYBScEDANjAS8ACP+i/sf/yQA/A/UEsQc4CWILiAyRDCoJoQOx/Z369PrO/IX+Rv7o/XT/TwAi/yn7VvWE8ZbuL+9S8NvwRvJK95j90QFtAJT8aPta/gkB/v6i/Hn5p/lU/XQBwQGy/yj+0gPeBwwHkgS6Amj/P/2zAEsG0gc4BmgIPwlpBtEAZ/7G/Ff7FP+8BOkGggRUBIkEbwQYAxkDygDC/of/NAIzA8wCsASoBosGfgdeC54LvwYbAoAAh/0Z+9z6jvsm+sb7gvzD/Ln6n/c09xr05vIa8831WvmW+R/77fyj+yD50vmk/dr/D/9Q/pv9TPwD/9QB1AGcAPj+TAQpCR0ItQakAy3+zPo+/fUCQwUTBf8GFQgTBXcCSgAy/Wf6t/xhAhIE4wIwA/MCWgL6AncD6gI1AUIBGAMAA3sDLQVPBiUDRwJQBikJSQbHAqoB9v5B/Lj8pP72/Sz+R/x6+u/4Zfgn+dT26vYB9p73z/vM/If9xf1V/IH70fsG/kD/q/8GAOL+Efsh/VoAAQMMA4L/l/+SAKEBjQNwAs3/7fuu/cYCTgQkAyEChgJcAKUAogJWAz8Agf0i/24CXQWlB7MGTgNEALb+VgG6A3EE7wNPAjwC1wS0Bu4DZgF8AXIC8gC3AZoCgwC3/cH9+/5KAG8B9QAF/Ub66fkB+gr7xP07/Cf6UPpi+538Mv76/iz9wfsy/Jj7H/0j/6D/ZPxx/IL+NAKCBDwDpv+9/IP8Rf6OAF0Bnf+1/6kA4QHZAVkCDQUwA3AB7wBxAbsA4v1s/+cCZgUZB4oGYQRwABL+xABcAuQB9QC8/1z/JgLTBMADUgEDAPz/i//mAQ4DgwI9ANL+mv5H/yIAuQAa/jH7KPu4/OT+1wDc/lL8f/ve/IH+KP8C/9j8ePuQ/F773vua/f3+ff4M/7//5wCxAVACKwHO/nD9gv0+//4AzACMAIQApwEzAvkCtgQzAlwAaP4n/mb/B/9yADACWgPjAmAB0QGPALv/1gHoAHX/Af9H/rf+kgCuAnABXQAEAIj/qgDBAu8C5AIPAAv+n/3H/loBJwKkAaX+IP2X/o3/owCGAP/+n/0e/nz/lQC+AH4A5P7a/sD8cvxi/r7/KgEhASAAZP5K/m4AHgJ+AXL/5v0m/Rz+wf6VALABlwHeAG0B3wHqAJcA1f6A/pD/uwDiAd0BRAJ7AM3+ZAB7ACMBDQLq/7P+p/6g/xQA3/+aAKH+5/4hAFwApQIrA/4BjP8//Z38Bf5ZAIsC\" type=\"audio/wav\" />\n",
       "                    Your browser does not support the audio element.\n",
       "                </audio>\n",
       "              "
      ],
      "text/plain": [
       "<IPython.lib.display.Audio object>"
      ]
     },
     "metadata": {},
     "output_type": "display_data"
    },
    {
     "name": "stderr",
     "output_type": "stream",
     "text": [
      "/opt/conda/lib/python3.10/site-packages/transformers/optimization.py:591: FutureWarning: This implementation of AdamW is deprecated and will be removed in a future version. Use the PyTorch implementation torch.optim.AdamW instead, or set `no_deprecation_warning=True` to disable this warning\n",
      "  warnings.warn(\n",
      "  0%|          | 0/600 [00:00<?, ?it/s]/tmp/ipykernel_24/2230012296.py:46: UserWarning: To copy construct from a tensor, it is recommended to use sourceTensor.clone().detach() or sourceTensor.clone().detach().requires_grad_(True), rather than torch.tensor(sourceTensor).\n",
      "  audios = [torch.tensor(audio) for audio in audios]\n",
      "100%|██████████| 600/600 [02:15<00:00,  4.41it/s]\n"
     ]
    },
    {
     "name": "stdout",
     "output_type": "stream",
     "text": [
      "Epoch 0, Loss: 1.9562246771653493\n"
     ]
    },
    {
     "name": "stderr",
     "output_type": "stream",
     "text": [
      "100%|██████████| 600/600 [02:14<00:00,  4.45it/s]\n"
     ]
    },
    {
     "name": "stdout",
     "output_type": "stream",
     "text": [
      "Epoch 1, Loss: 1.0330062541365623\n"
     ]
    },
    {
     "name": "stderr",
     "output_type": "stream",
     "text": [
      "100%|██████████| 600/600 [02:14<00:00,  4.45it/s]\n"
     ]
    },
    {
     "name": "stdout",
     "output_type": "stream",
     "text": [
      "Epoch 2, Loss: 0.5796520145237446\n",
      "Test Accuracy: 98.83333333333333%\n",
      "68\n",
      "600\n",
      "ASR: 11.333333333333332%\n",
      "Clean Accuracy Drop (CAD): -0.3333333333333286%\n",
      "Backdoor Attack Success Rate: 11.333333333333332%\n",
      "Poisoning rate: 0.01, delay: 150, decay: 0.3\n"
     ]
    },
    {
     "name": "stderr",
     "output_type": "stream",
     "text": [
      "/tmp/ipykernel_24/3243481584.py:24: FutureWarning: The behavior of DataFrame concatenation with empty or all-NA entries is deprecated. In a future version, this will no longer exclude empty or all-NA columns when determining the result dtypes. To retain the old behavior, exclude the relevant entries before the concat operation.\n",
      "  results_df = pd.concat([results_df, new_row], ignore_index=True)\n",
      "/opt/conda/lib/python3.10/site-packages/transformers/tokenization_utils_base.py:1617: FutureWarning: `clean_up_tokenization_spaces` was not set. It will be set to `True` by default. This behavior will be deprecated in transformers v4.45, and will be then set to `False` by default. For more details check this issue: https://github.com/huggingface/transformers/issues/31884\n",
      "  warnings.warn(\n",
      "Some weights of Wav2Vec2ForSequenceClassification were not initialized from the model checkpoint at jonatasgrosman/wav2vec2-large-xlsr-53-english and are newly initialized: ['classifier.bias', 'classifier.weight', 'projector.bias', 'projector.weight']\n",
      "You should probably TRAIN this model on a down-stream task to be able to use it for predictions and inference.\n"
     ]
    },
    {
     "name": "stdout",
     "output_type": "stream",
     "text": [
      "Playing clean audio 1\n"
     ]
    },
    {
     "data": {
      "text/html": [
       "\n",
       "                <audio  controls=\"controls\" >\n",
       "                    <source src=\"data:audio/wav;base64,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\" type=\"audio/wav\" />\n",
       "                    Your browser does not support the audio element.\n",
       "                </audio>\n",
       "              "
      ],
      "text/plain": [
       "<IPython.lib.display.Audio object>"
      ]
     },
     "metadata": {},
     "output_type": "display_data"
    },
    {
     "name": "stdout",
     "output_type": "stream",
     "text": [
      "Playing poisoned audio 1\n"
     ]
    },
    {
     "data": {
      "text/html": [
       "\n",
       "                <audio  controls=\"controls\" >\n",
       "                    <source src=\"data:audio/wav;base64,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\" type=\"audio/wav\" />\n",
       "                    Your browser does not support the audio element.\n",
       "                </audio>\n",
       "              "
      ],
      "text/plain": [
       "<IPython.lib.display.Audio object>"
      ]
     },
     "metadata": {},
     "output_type": "display_data"
    },
    {
     "name": "stdout",
     "output_type": "stream",
     "text": [
      "Playing clean audio 2\n"
     ]
    },
    {
     "data": {
      "text/html": [
       "\n",
       "                <audio  controls=\"controls\" >\n",
       "                    <source src=\"data:audio/wav;base64,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\" type=\"audio/wav\" />\n",
       "                    Your browser does not support the audio element.\n",
       "                </audio>\n",
       "              "
      ],
      "text/plain": [
       "<IPython.lib.display.Audio object>"
      ]
     },
     "metadata": {},
     "output_type": "display_data"
    },
    {
     "name": "stdout",
     "output_type": "stream",
     "text": [
      "Playing poisoned audio 2\n"
     ]
    },
    {
     "data": {
      "text/html": [
       "\n",
       "                <audio  controls=\"controls\" >\n",
       "                    <source src=\"data:audio/wav;base64,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\" type=\"audio/wav\" />\n",
       "                    Your browser does not support the audio element.\n",
       "                </audio>\n",
       "              "
      ],
      "text/plain": [
       "<IPython.lib.display.Audio object>"
      ]
     },
     "metadata": {},
     "output_type": "display_data"
    },
    {
     "name": "stderr",
     "output_type": "stream",
     "text": [
      "/opt/conda/lib/python3.10/site-packages/transformers/optimization.py:591: FutureWarning: This implementation of AdamW is deprecated and will be removed in a future version. Use the PyTorch implementation torch.optim.AdamW instead, or set `no_deprecation_warning=True` to disable this warning\n",
      "  warnings.warn(\n",
      "  0%|          | 0/600 [00:00<?, ?it/s]/tmp/ipykernel_24/2230012296.py:46: UserWarning: To copy construct from a tensor, it is recommended to use sourceTensor.clone().detach() or sourceTensor.clone().detach().requires_grad_(True), rather than torch.tensor(sourceTensor).\n",
      "  audios = [torch.tensor(audio) for audio in audios]\n",
      "100%|██████████| 600/600 [02:15<00:00,  4.43it/s]\n"
     ]
    },
    {
     "name": "stdout",
     "output_type": "stream",
     "text": [
      "Epoch 0, Loss: 1.908862138390541\n"
     ]
    },
    {
     "name": "stderr",
     "output_type": "stream",
     "text": [
      "100%|██████████| 600/600 [02:15<00:00,  4.43it/s]\n"
     ]
    },
    {
     "name": "stdout",
     "output_type": "stream",
     "text": [
      "Epoch 1, Loss: 0.9785893162091573\n"
     ]
    },
    {
     "name": "stderr",
     "output_type": "stream",
     "text": [
      "100%|██████████| 600/600 [02:15<00:00,  4.43it/s]\n"
     ]
    },
    {
     "name": "stdout",
     "output_type": "stream",
     "text": [
      "Epoch 2, Loss: 0.6321090941876173\n",
      "Test Accuracy: 98.16666666666667%\n",
      "68\n",
      "600\n",
      "ASR: 11.333333333333332%\n",
      "Clean Accuracy Drop (CAD): 0.3333333333333286%\n",
      "Backdoor Attack Success Rate: 11.333333333333332%\n",
      "Poisoning rate: 0.01, delay: 75, decay: 0.6\n"
     ]
    },
    {
     "name": "stderr",
     "output_type": "stream",
     "text": [
      "/opt/conda/lib/python3.10/site-packages/transformers/tokenization_utils_base.py:1617: FutureWarning: `clean_up_tokenization_spaces` was not set. It will be set to `True` by default. This behavior will be deprecated in transformers v4.45, and will be then set to `False` by default. For more details check this issue: https://github.com/huggingface/transformers/issues/31884\n",
      "  warnings.warn(\n",
      "Some weights of Wav2Vec2ForSequenceClassification were not initialized from the model checkpoint at jonatasgrosman/wav2vec2-large-xlsr-53-english and are newly initialized: ['classifier.bias', 'classifier.weight', 'projector.bias', 'projector.weight']\n",
      "You should probably TRAIN this model on a down-stream task to be able to use it for predictions and inference.\n"
     ]
    },
    {
     "name": "stdout",
     "output_type": "stream",
     "text": [
      "Playing clean audio 1\n"
     ]
    },
    {
     "data": {
      "text/html": [
       "\n",
       "                <audio  controls=\"controls\" >\n",
       "                    <source src=\"data:audio/wav;base64,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\" type=\"audio/wav\" />\n",
       "                    Your browser does not support the audio element.\n",
       "                </audio>\n",
       "              "
      ],
      "text/plain": [
       "<IPython.lib.display.Audio object>"
      ]
     },
     "metadata": {},
     "output_type": "display_data"
    },
    {
     "name": "stdout",
     "output_type": "stream",
     "text": [
      "Playing poisoned audio 1\n"
     ]
    },
    {
     "data": {
      "text/html": [
       "\n",
       "                <audio  controls=\"controls\" >\n",
       "                    <source src=\"data:audio/wav;base64,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\" type=\"audio/wav\" />\n",
       "                    Your browser does not support the audio element.\n",
       "                </audio>\n",
       "              "
      ],
      "text/plain": [
       "<IPython.lib.display.Audio object>"
      ]
     },
     "metadata": {},
     "output_type": "display_data"
    },
    {
     "name": "stdout",
     "output_type": "stream",
     "text": [
      "Playing clean audio 2\n"
     ]
    },
    {
     "data": {
      "text/html": [
       "\n",
       "                <audio  controls=\"controls\" >\n",
       "                    <source src=\"data:audio/wav;base64,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\" type=\"audio/wav\" />\n",
       "                    Your browser does not support the audio element.\n",
       "                </audio>\n",
       "              "
      ],
      "text/plain": [
       "<IPython.lib.display.Audio object>"
      ]
     },
     "metadata": {},
     "output_type": "display_data"
    },
    {
     "name": "stdout",
     "output_type": "stream",
     "text": [
      "Playing poisoned audio 2\n"
     ]
    },
    {
     "data": {
      "text/html": [
       "\n",
       "                <audio  controls=\"controls\" >\n",
       "                    <source src=\"data:audio/wav;base64,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\" type=\"audio/wav\" />\n",
       "                    Your browser does not support the audio element.\n",
       "                </audio>\n",
       "              "
      ],
      "text/plain": [
       "<IPython.lib.display.Audio object>"
      ]
     },
     "metadata": {},
     "output_type": "display_data"
    },
    {
     "name": "stderr",
     "output_type": "stream",
     "text": [
      "/opt/conda/lib/python3.10/site-packages/transformers/optimization.py:591: FutureWarning: This implementation of AdamW is deprecated and will be removed in a future version. Use the PyTorch implementation torch.optim.AdamW instead, or set `no_deprecation_warning=True` to disable this warning\n",
      "  warnings.warn(\n",
      "  0%|          | 0/600 [00:00<?, ?it/s]/tmp/ipykernel_24/2230012296.py:46: UserWarning: To copy construct from a tensor, it is recommended to use sourceTensor.clone().detach() or sourceTensor.clone().detach().requires_grad_(True), rather than torch.tensor(sourceTensor).\n",
      "  audios = [torch.tensor(audio) for audio in audios]\n",
      "100%|██████████| 600/600 [02:14<00:00,  4.45it/s]\n"
     ]
    },
    {
     "name": "stdout",
     "output_type": "stream",
     "text": [
      "Epoch 0, Loss: 2.0177922103802364\n"
     ]
    },
    {
     "name": "stderr",
     "output_type": "stream",
     "text": [
      "100%|██████████| 600/600 [02:14<00:00,  4.45it/s]\n"
     ]
    },
    {
     "name": "stdout",
     "output_type": "stream",
     "text": [
      "Epoch 1, Loss: 1.2161864756544432\n"
     ]
    },
    {
     "name": "stderr",
     "output_type": "stream",
     "text": [
      "100%|██████████| 600/600 [02:14<00:00,  4.45it/s]\n"
     ]
    },
    {
     "name": "stdout",
     "output_type": "stream",
     "text": [
      "Epoch 2, Loss: 0.8461819825073084\n",
      "Test Accuracy: 97.66666666666667%\n",
      "69\n",
      "600\n",
      "ASR: 11.5%\n",
      "Clean Accuracy Drop (CAD): 0.8333333333333286%\n",
      "Backdoor Attack Success Rate: 11.5%\n",
      "Poisoning rate: 0.01, delay: 150, decay: 0.6\n"
     ]
    },
    {
     "name": "stderr",
     "output_type": "stream",
     "text": [
      "/opt/conda/lib/python3.10/site-packages/transformers/tokenization_utils_base.py:1617: FutureWarning: `clean_up_tokenization_spaces` was not set. It will be set to `True` by default. This behavior will be deprecated in transformers v4.45, and will be then set to `False` by default. For more details check this issue: https://github.com/huggingface/transformers/issues/31884\n",
      "  warnings.warn(\n",
      "Some weights of Wav2Vec2ForSequenceClassification were not initialized from the model checkpoint at jonatasgrosman/wav2vec2-large-xlsr-53-english and are newly initialized: ['classifier.bias', 'classifier.weight', 'projector.bias', 'projector.weight']\n",
      "You should probably TRAIN this model on a down-stream task to be able to use it for predictions and inference.\n"
     ]
    },
    {
     "name": "stdout",
     "output_type": "stream",
     "text": [
      "Playing clean audio 1\n"
     ]
    },
    {
     "data": {
      "text/html": [
       "\n",
       "                <audio  controls=\"controls\" >\n",
       "                    <source src=\"data:audio/wav;base64,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\" type=\"audio/wav\" />\n",
       "                    Your browser does not support the audio element.\n",
       "                </audio>\n",
       "              "
      ],
      "text/plain": [
       "<IPython.lib.display.Audio object>"
      ]
     },
     "metadata": {},
     "output_type": "display_data"
    },
    {
     "name": "stdout",
     "output_type": "stream",
     "text": [
      "Playing poisoned audio 1\n"
     ]
    },
    {
     "data": {
      "text/html": [
       "\n",
       "                <audio  controls=\"controls\" >\n",
       "                    <source src=\"data:audio/wav;base64,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\" type=\"audio/wav\" />\n",
       "                    Your browser does not support the audio element.\n",
       "                </audio>\n",
       "              "
      ],
      "text/plain": [
       "<IPython.lib.display.Audio object>"
      ]
     },
     "metadata": {},
     "output_type": "display_data"
    },
    {
     "name": "stdout",
     "output_type": "stream",
     "text": [
      "Playing clean audio 2\n"
     ]
    },
    {
     "data": {
      "text/html": [
       "\n",
       "                <audio  controls=\"controls\" >\n",
       "                    <source src=\"data:audio/wav;base64,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\" type=\"audio/wav\" />\n",
       "                    Your browser does not support the audio element.\n",
       "                </audio>\n",
       "              "
      ],
      "text/plain": [
       "<IPython.lib.display.Audio object>"
      ]
     },
     "metadata": {},
     "output_type": "display_data"
    },
    {
     "name": "stdout",
     "output_type": "stream",
     "text": [
      "Playing poisoned audio 2\n"
     ]
    },
    {
     "data": {
      "text/html": [
       "\n",
       "                <audio  controls=\"controls\" >\n",
       "                    <source src=\"data:audio/wav;base64,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\" type=\"audio/wav\" />\n",
       "                    Your browser does not support the audio element.\n",
       "                </audio>\n",
       "              "
      ],
      "text/plain": [
       "<IPython.lib.display.Audio object>"
      ]
     },
     "metadata": {},
     "output_type": "display_data"
    },
    {
     "name": "stderr",
     "output_type": "stream",
     "text": [
      "/opt/conda/lib/python3.10/site-packages/transformers/optimization.py:591: FutureWarning: This implementation of AdamW is deprecated and will be removed in a future version. Use the PyTorch implementation torch.optim.AdamW instead, or set `no_deprecation_warning=True` to disable this warning\n",
      "  warnings.warn(\n",
      "  0%|          | 0/600 [00:00<?, ?it/s]/tmp/ipykernel_24/2230012296.py:46: UserWarning: To copy construct from a tensor, it is recommended to use sourceTensor.clone().detach() or sourceTensor.clone().detach().requires_grad_(True), rather than torch.tensor(sourceTensor).\n",
      "  audios = [torch.tensor(audio) for audio in audios]\n",
      "100%|██████████| 600/600 [02:14<00:00,  4.45it/s]\n"
     ]
    },
    {
     "name": "stdout",
     "output_type": "stream",
     "text": [
      "Epoch 0, Loss: 1.9749071005980174\n"
     ]
    },
    {
     "name": "stderr",
     "output_type": "stream",
     "text": [
      "100%|██████████| 600/600 [02:14<00:00,  4.45it/s]\n"
     ]
    },
    {
     "name": "stdout",
     "output_type": "stream",
     "text": [
      "Epoch 1, Loss: 1.1696662182112534\n"
     ]
    },
    {
     "name": "stderr",
     "output_type": "stream",
     "text": [
      "100%|██████████| 600/600 [02:15<00:00,  4.44it/s]\n"
     ]
    },
    {
     "name": "stdout",
     "output_type": "stream",
     "text": [
      "Epoch 2, Loss: 0.7992543655137221\n",
      "Test Accuracy: 97.83333333333334%\n",
      "69\n",
      "600\n",
      "ASR: 11.5%\n",
      "Clean Accuracy Drop (CAD): 0.6666666666666572%\n",
      "Backdoor Attack Success Rate: 11.5%\n",
      "Poisoning rate: 0.05, delay: 75, decay: 0.3\n"
     ]
    },
    {
     "name": "stderr",
     "output_type": "stream",
     "text": [
      "/opt/conda/lib/python3.10/site-packages/transformers/tokenization_utils_base.py:1617: FutureWarning: `clean_up_tokenization_spaces` was not set. It will be set to `True` by default. This behavior will be deprecated in transformers v4.45, and will be then set to `False` by default. For more details check this issue: https://github.com/huggingface/transformers/issues/31884\n",
      "  warnings.warn(\n",
      "Some weights of Wav2Vec2ForSequenceClassification were not initialized from the model checkpoint at jonatasgrosman/wav2vec2-large-xlsr-53-english and are newly initialized: ['classifier.bias', 'classifier.weight', 'projector.bias', 'projector.weight']\n",
      "You should probably TRAIN this model on a down-stream task to be able to use it for predictions and inference.\n"
     ]
    },
    {
     "name": "stdout",
     "output_type": "stream",
     "text": [
      "Playing clean audio 1\n"
     ]
    },
    {
     "data": {
      "text/html": [
       "\n",
       "                <audio  controls=\"controls\" >\n",
       "                    <source src=\"data:audio/wav;base64,UklGRsInAABXQVZFZm10IBAAAAABAAEAQB8AAIA+AAACABAAZGF0YZ4nAAAj/8L/2P/r/+r/zP/8/+r/kwCp/ykAEQA1AML/XgDv/y8AJABlANT/bwAKAEYAZgBrAAoAFABvANX/NQAcAA4ABADY/8n/BgDk/xUAAQC8/57/9/8NAHP/IwDR/8v/4/90/8n/kf8gACsA9/+AAP//4f/7/73/nQCy/+cAV//GAML/VACp/28Ajf+FAOf/fQCX/x8APwD0/4AAd/98ALX/QAC5/0wA//9mAJr/AgDX/9P/sv8IACMANwC+/w4A5v9v/xYAZP91AID/OwDF/ycA5v84APf/JQDQ/93/KwDz/xAAyADC/9EAXf/5ACb/AQFQ/34AJv9IABf/UgBQ/40AL/+XAB3/BACy/wkARABuAAwARwCi/68AEv/4AEX/zgBc/5AACAAVAG4ADQB8ALj/RAC2/0QAwP8EALn/1f9EAPT/OAD///v/JQA5/6QACP/iAAT/twCH/yMAl/8BACMAgP95APr/bgDg/6MAdv+YAGT/rQBg/wwBfP9qAID/fACA/2EASf9rAG3/wwBQ/w4Ax//c/83/yf/F/7D/JwAJALj/Y/+pACr/CwH1/tYBgP6QAXD+dAGx/kcBFv/bANH/xAABAJcAAAAwAEMAHABpABAAUwDh/wgAKQDy/9T/WwBn/zgATP84AG//9/+p/8n/pv/T/y//8/9o/wwAfv/E/83/pf9+APP/GQCMAPf/UwAkADUAUwDm/7wAqf8cAEAA1f80AMn/mQAGABAATAARAF0AjgDE/4oAdv+UAGX/tf/N/6P/MQDN/43/EABT/34APv9CANT/rf8wAJ//TAC8/ygAiQCj/5wAIwBQADgA5v/RAG3/ggCK/xkAOwBuAPj/6P93/2MAY/8/AIb/bgCt////FADY/ysAa/+lAJ//yP+l/8H/6/+R/xYA2/8zAI7/CQAUAEYA8P/N/3kAxf9MAOb/dQABAIgADgBdAO7/YgAIADcA7v8hABAABQAcAOP/SADF/zMAvv/b/8L/ov/Q/xoADgByANn/HQDM/10AEAA1AB0A7v8+AIv/QACE/y8Akf8gAHT/0P8f/9v/d/8lAPb/GQAoAJn/KwCm/1YA2P/7/zgAAgAvAG8A6P9hAMD/8ACw/6UAxP+MANz/tADw//L/2P8dAMT/CABDAK3/IwB8/0YAmv+x/8T/tf84AGP/eACW/xEAvf8MAAIAQAA+AAYAPgBdABAA7/8zABIASAA1AML/XgCP/5wAFv8UAJn/vv8AAKz/SgBU/6kAYP8WAHf/BgD7/73/rQCP/2MAz/9XAOH/aQB9AKkAEABiAOr/jAAMAJQABQA1AEYAo//d/43/8v+V/wYA+P8AAEsAtv9LABL/PwA5/9n/cP8dAJn/CQDg/xQAyP/k//r/3P9rAOv/aQByAPP/swBj//YA3f75AIr/iACq/wkA8P/F/4//DQDR/yAA1P9xAA4Ay//w////agAZANX/jQDr/1QA5v/8/wQA0f9jALL/GgCl/+b/9/8EANH/4f9o/08Anf9SAMn/LwDo/1cAuf+GAMz/LADm/2cAZQCE/4wAjf9AAJn/XQAMAB0AXQA+APv/zf/0/+b/c/+6/8L/zP+8/+v/1/9LAKf/6/+A/7L/zf8JAPb//v9QADMA+v/4/0YAUgBDAE4AYQBaAKQAQwA5ADMAjgDw/x8AFQAsAOz/GQCH/8z/nv/Q/6P/3P/0/+7/2f+D/5L/lv8xAPf/MwA+AD8AFgCV/8n/FAAjAEsAtP9IALD/fABy/0wAcv8yAcL/jgBZ/xUAvv/N/zcA7/9jAEMAJADf/43/CAC+/7j/3P/o/wYA/v/3/+j/TAD2/83/Rf9QAE4AbgBQACUAwAAwABkA8P8IAIUAwf9MAGP/TACh/wgAjf/Z/7D/8P9K/ywA0/+BAA4Avf9CAHL/nAC6/ykABACw/2IATv8dAND/2wCl/zsAnf9qAPD/NQAGAM3/6P/3/zwA7/8oACgA/v8dAG3/MQDy/0IA0f9DAP//4P/v/w4AKABeAOD//v/s/2oAof9GAKP/IQCX/wgA0/8cAFcAz/88AGD/pwDT/z8AZ/8zADkAUwBvABwAGQB//xQAcv/4/77/OQDX/9v/rP/k/63/zf/g/24Arf8VAJX/lQDo/zkA/v8MABoAGQBbAOH/iQDP/2kAa//HAMX/VACa/4AA2f83ANn/8v92/xQAx//v/9f/MwAAAOj/xP8hAPz/egAtAPz/AAC0/04Ai/8CAK3/kwACAL7/+//R/x8Ax/9mAMH/NwDQ/0AAm//z/8L////m/xAA2P8NAIL/HQD6/58Apf9bAFQA6v8xAK3/PADJ/20A7v8QAM//hQDB/0MAlv8zAJX/DgA4AMH/BACL//z/y/98AEwALQD2/2IAPwBjAOD/SwDo/1MA8/8xAGj/YwCh//T/2/9OAPf/AQBHALj/AgC0/2IAWP/m/3v/yf+E/3b/7/9p/zgATf85AMf/KAC+/18APAA0APP/VADM/w0AeAAAANMA8P/hAMH/fgC5/7IAZgBxAM//LwDg/wYAtf8YAHv/PwDF////Wf/y/xIAx//8/8z/CADH/3j/5v/2/8z/qf8FABEAKQB5AKz/TAAJAFkAGgBKAHUAUADPANH/PwAkAA4A+//M/zsA5P/I/67/Dv/g/zX/wf8f/ywAmv++/8D/9P/F/yQA0P8dAP//pQA0AFsAFgCUACAAoQCG/w8Bo//8AOr/CQFyAFoAIwCD/0wApf8IAFP/8/+m/6H/FABV/x0A4/8jAMf/+P/b/5H/7//w/yP/hgAW/w0ACv8zAMD/8/+lAGH/2QDy/4kAGACYAFcAIQDc////Lf+rACX/8//M/6kAcQD//3YAbgBaANv/IADj/4gAZwAFAOj/p/9UABv/NQBKANz/KwDq/+v/hv+AADUARP/GACL/QgAn/wIA+/8fACgAWf8JAGUADgB+AKMAfP+QAEn/dQBl/r8Ai/8CAB0A0P6CAM7+SQFi/nUBNP9aARD/egBh/7wAz/9O/1MAo/+3ACP/ywAX/3UBAgCMALz/CQBLAPf/bgDn/6UAzP9AAIf/6//nABD/1wCA/wgB+v6VAO/+BAAoAKH/wP9v/5gAHv+bAHP/hgCm/18BaP+EALoAUACm/8oAMv+p/94AMf8dADwAWgAx/6EA/P7c/xL/TACD/qcAb/8rAC7/xACK/9sAyP9CAC0AjQBAABD//gCx/3IAy/9mAFoAbgAgAML/wP8cAOH/wv8G/8oAW/+JAPL/ZwAkABYADgCs/+T/+v9iAM3/z/8oAAQA6/8uAUb/6gCu/vYAlP7aAOD/cP8/AFYABP9HAPT/7v/6/pwBXv6vAE8ALwCA/wEB8v+L/4wAGQDg/jMABABw/6z/LAEf/0oA8/8wAD3+TQF4/5r/1f9fAbP+EAAQAcD+8P8ZAUgA4f7VAd3/EQC0ABkBDP94ATcAF/8QAGIBAv+x/+oAV/9Q/+UBVP80/zwBIwAQ/y0AQwEh/eIB4f+d/+H+7gAQ/n//5//d/rX+/QA8AJ/+fAED/1IAd/9ZAC7/xgCwABQAUwCs/0oBj/6BAVn/SgEM/+wBXP/HAFkA3gAx//D/egAi/yEAOQACAKv+6gHS/t3/FQAsAUT/oQCtAPD+SgB6AHP+KACl/xEA//6S/w4Apf+EAFj/1QC2/y0A+gCS/ywAsP94AFf/sP+QAND+WwCEABf/qQBDACsAzP88ADkArP+u/44AbP/C//r/7P++/1z/awBB/+j/DgAZ/1MA1f9zAPz/IwFr/xkBkQDLAHUAvgDyAFoAdQL//+4BOgEIA9YAdwKYAaMBXwFhAUMBnADCAd//aQDk/rP+vPw6+n33wPMB8fLvl+537XbwYfST+c3//gWCCsMQ0xTQFa8TohJ/Dv4JTwZ6ATb9b/yR/Hj8zv1SAOQCrAaDCuYJ1witCK0IdwQQAWv8Fvwj/vj9gfs0/JL/AgGJ/JTz8eeT4nPgONm/0dLP2tnX6ST86Ac+FNAkRzODNrIvxSOuF9EO6AJw88zktuE35ebrr/HA9qMBPhKCIKIjviF8Hpka/hPhBQ/1XOgg5eHjkuO15frugfx9CrkTLBiyGgwcqhffDboC4Pi48JHpy+SD5MXpyeps7a711wP/DQQRfhF3FDQaBBYeCLz7ufUU8H/oTd6g2ajaX+Sb5DXqxvFC+lwESg4GFrkXCSEbI8whOx3SFT4I9QER/STyRuxR74r0yfl6BSYKQBE4G3QfLxacEcgL5wAL+PTuxeQ/4krrfO1q8Pb6NwenDcsUkhSzD3UNpg1RBC/8a/oZ9xP19vVX9wf5IgN8CY8NwhLEFoAXYB25+67Tas5Vwh/L6qkGp6ewWO+sEaQijTAGR7hiaWX5QGEMf/t595XcI8Bur0a3BNeKBUAE4gzjK9ZNo1LjTI8yvRS5DyACP9qyvMi/nMcb12Tuyvf3DJctHz+lOwovuCuvEqn+gOlc1VvFdsta0ovTm+LN+sUG4hHIJXAq2SxMK6UkChRFCPX8weqW5Efl9+Rd6QP6/QmfDEvmvujI2/Dnltmdup21PtPgAxYK/hhJKi9F4VVZRBcX8vnQ/vbsc9plys3Qht/NDIgcIhmmKRhDmUfwQBowrA7x+z356N//xmrDptPr3+z5bQiQEE0f6zBKLsYd/BHP+pDo9N7H2RLKVMx03xvpVvcbCZQQwhh3KfkqiB1mHMQZgw7YB8kCFvaY8az7zvwO9E/gU8NcwmPJd89vuC24jNphCVophTK+Os9NJltjR4YT4+qJ2nXWMsYQu5y8/t7vDrgwTjcsQ2dctWZVW605Eg3Y78Pgm8yzq4mlP7vC27T1PQoeIN88UlelUCcndgrc+QbpAMtWsaupccE55OHxe/P9DHIrnTV9LBQZyBSuGiQXhwH48in3A/o0+q34xfl/ByMY0/ZwzC/Mp9L809WyFaCetiL1UBtdH84xhlXObqNl7C7o72LhhuOyw5CmBK/y1gwIsTHeNxA8FVxjcVxb/jSVDuv1v+a/0WusaqiLyV/p1PWZCmQkizt9TtZDUyHTCgP2/dlbuqyuS7QNvhXahvGeCbEdZzCcMmEo3h0gC272DfOV9fjtmPGNAIcNowwtFDYabBq+JAkaA++mx1i9W8ABqTmctZIGv4X4/CZfN1ZTvnn/f3Rahhvr6VPPP8CTpbqau7Wn6MYc3zwpUStl7HoWcUJNhCZU/+jdSb1Mp3ybYLAQ0hzwNwyzLVpMcFNOUME6Nh9mACLiQroakBeX6KGUwo7S/fB1Ebc8Xk/sOxwtxifBF078vuzL5AHuXPWR+pL+mQ4NGPYQKhMFHbMeuQL13QPMIMCyyMirKp1KsXPkDgvlIcY+JVCfZrVgoDM6/yLqOdrbvpO3P8av4cUEejAuQWpRtmOfX/E+ISSyBybfyMQAuDS1Kb7n2Efx6Aa5JvM+9T1UNfgt7hbi9xXb2cajtzi/A8RBvDbTtPZJFHQZMiIIJHsryixdGZsCtfrj/DP40Pb88Qz5cgVEDlkIMQtIFiYgXSGD/f7ae83uy9LF1aynqgvHb/kJF/wiWTd5VcxfHUfKHHD4JexK3TfGF73l0PPw+BGjLHA+WE8jVvlJ3SmEDaTybNgPxoK+lsEh0SfogAGrFkot+TfGMb0j2hJ4/CnlodVVyGPFQtKV2s7govOoC1MUIRCjEKMTuhIAB4P6E/pyBBQL5AlhCZQNdxRcD5EFOwEaCw4P7BMeGAgAX+Xu2frT/8dJuXqysMoO8JkKIBdPMDtNOFRdRLMh9P2e7pDiLsgzuT/Qlu9iCpsi4DaFRJxNskK8JVgNlfvS4XPPjcmAyLbOlOiP/1YM/x3nLEssrSAgF6cCrO9+5C7esthQ3cjg0OLP8Y//TP8E/0IJRhDnC5UJPQQcC34VhxW8CW0HOQu/Bpv3Hex18Cr7lgQoBE4HFhiNK+gnjQUi7dPlnd+fx5qxS65czXfuWwGFDzQw0VCWVc0/ex94B234lNwFxXXEstuK8PcIzBohK/45x0KULagUXgqt+qjhts7GzWLRXeFJ8J/4EwanGQIkIB5/Go8XwxD6Biv49OaH4RDoT+HN3Rrpn/dh/eH8qv8WBcMROBp2EH8OvBZyG3EKAvzu9WnxG+5V7zHwF/poDYwc1yBYJeoxDyhmELjvKdhmv3KzG6qerInGNuczCgsjGEEmT0xSOT++HuEBT+xf2YPGQcah00npdQAZGTsnZTWTOjItsRouD4MBtOZ+2SPXztoQ4iXuyPuaCB8ZNyKiIkIhIxi8Cbj/f/lH6HHdmeEV5ubl5+65+30C3AqyEv0UpxCBDHkHdwLi+jXvduwk8w36ev0pA0kMnxbjGRITCg7KEA8S5AmMAaf3Oe7J5CvWgssQyo3PL9zo6oQB8xUDK/40TTQ5KRoYfgXl8FHhfNja3zrsUvkRBv8TCx6MJuUmThyxD10LTgUz9p7pPuM96PjzvvhR98D/yw/REzgQ+Q/qETcLzwXDANv2a+9Q69fmPudU8x/8ofqr+zkELAYiAm33a/RB+igAvv/DBDUPCxP4ENIMlQVnAKgAf/sw9yv9JggYC40Kqw3yEIUSsA/+/vvyt+CU13fVl82Bzm3NDee8+qwRjBdvK9o+7T2FLbcYeQ0e9ozmL9VT0W3WKur49m4EWhvlLcUwBiksJXkdEQ+X+QnnTN4j3u7fBONj7wgAEg1pFhseCiHbGTARcAY5+0zu7+KH2praPOAg5pTt+PlZCPIPkxKaDo0Ljwf9BG8Abvve/DoDcgUiA94EkgVEBC4EcAbxBOcE5wgGC24KlAilBM3/lv99/cTpQNs231rnEeGN1snkzP6VEAARThstKl8vxiIsFhsJy/t68pPoGOON5Y/u2vCL+U8L4BXdFhAZRSK6H/IRRgZmARr81O6U5prndfBi8j7zdPqSBSQNSQwFCyAIDgjg/jX1Oe/H8GXrt+Vt62X3yf6BASYMrRb3Gf4WVReFFDMMdAO+/Qf29u9d7gnyWffq/TQBNwbyCw4PsAnoAqL/Kfyy8pzn5OOK5Wnpy+rj8D/8rAmBDwgRBBc7HekVJgreBhMB0vWv8MH0JPYs++sD/Qd2DCoUPBWeDowMhw3/Btb+Rvkj+en2f/Pi8jn23fZH91P97AFNAxcDkQYaBYsBh/vf+VH5pPeu9Sf3SvwZ/ZT8nPxvAMwAlv9d/+UCKwb7BOkFpwf9CSsIGAe3BGcDRwA4/Oz5kvoa/tT9wf9VA9wJLwswBUT/3/uD+l71d/OG9AT3rvip+0MBQQSeBE4GYwldB/MC3/7u/dT7BPrK9zv5y/1xAYQBrgJxB/YLegsSBWkCcwL+/9D5ZveX+GL7j/7d/5QApgJDBQEGiQSIAiAAvv9R/sj7C/op/LD9Rf0o/j8AugDNAa4DSQRhA1ADHwSYBDwEWgK6/3398fvD+l/5rfYQ95P5ZPvS++D/UwTTBDUFjAWAA4D+rfzg+s73Xfei+2YAPQPOBq0JlAuoC9QK+whiBFAAYv05+6z25vb6+l39xf7uAaIEEgQaBB4DLgGpAFD/5vzu+9z+f/73+y/8FwFQAk3/8/3f/57/Hvvs+Cn7l/2A/JT8BgHrBMcEHQNIBCYF7AIMAHj/rv/w/Sb97/6QAu8DYASmBpoI/AbHAQIAjv7n+1X4JvjN+Xn8Z/6I/sn+WAIoBk8EqQCa/ykAvf0f+rv30vhU/GH+/v+0AwYIBAk0Ce8I3gVNAo3/LPxL+Bz3dfdg+P36Wf8QAmYEGAg9CaQH0gWUBkEFxgAN/aX81/zI+fL2mfdY+xj8Jvue/ZcDYgbSBR0GlQa3BJQBb/6B/N/60/r2++L8kP2IALgDzQMMAqgBBALdAE7/iv6m/mD+xf7Z/Yn9//6bAKr/Dv9yAVcDPwLEAJAB3AHWAC3/Ef2y/Hj+ygCIAFoBzAMFBgQGmwPZAIj/c/9e/Zn7Dvw//Vb9YP3g/fP9KP4h/4wAZwCgAPMBJgKMAAf/3f6r/i3/zP6S/lX/GAFtAV8AoQDcAWgCcQHuANsA3QEyAZ//lv6sAAkBhP+y/t4AgAKZAEb/1gBJAp0ASv9z/4v/pv4D/ykAVgBEAOoAEQHaADsBygDX/1j/mf8i/g78S/x//WT9BP1V/tv/SQFOAYEBbAI9AwcCywB/ATwBQP/U/Y/+Jv5h/Qv+Y/9zAGgBOQJXAeYBuQJUAmoADQG/AuUBf/+G/7b/Wf63/Tb+Z/7D/av++P8gANj/1f8lAPP/g/+T/mz95/xL/dX91v3s/iwBzQJ3A2MEVwQyAyMCAAF+/4z9+Pxe/Rb+pf4nABICKQT/BEwErATzBC0DQACa/qT96vs0+kH6uPwN/mH+pf8FAhYDLAJ/AcgABQCv/gD+mv39/V3+kP4H/6P/9v9nANcA8ADAAPoA2AFeAnYBDgCK/7D/sP8v/2H/PwCZAG4AagAnAWoBsACwALAAEQBF/8X+cf4j/07/Rv5x/rz/6//3/iH/oAB5Ad0AkwBbARoCtgF5ACgAQwDT/7v+m/2+/cz+Y/82/7D/4gC/AVUBvwARATgBXwBY/7L+JP4D/pj9mv2a/cH9Q/7q/xcBeQFJAqcDFQSfA7oC3gHHALn/sv6n/Rz+k/9MADEAQgHjAvQCHAJTAaEAX/8W/hD9afx8/Pr8vf2v/jz/mv9DACABLAEuAdEAeQBK/0f+vv3x/db9Of5c/zwA3wD4Ab4CwgJ3Az0EsAMqAlMBzgCy/5r++f2m/QT+5/57//r/qQCwAewBjwGiATABMQCH/4z+IP23/F393P25/T3+vP/eAOUAywCTAeEBMAHu/zz/Nf9B/wj/pv41/yQAegCYABABPwEvAcMATwBCABEAvf+E/ycALACu/7z/GgDg/yX/yP9vAAoATP/m//QA7ABGABwA0wDV/+n94P2cAPwCQgHJ/jcABAOjAvP/Lv9uAH4AL/4k/C/9UP9J/679BP7xAG0CpgFSAQ4DXASXAsz/Yf/d/zf+PPug+tv8FP/Q/24AtwF3A98D1QJgAigCKwFZ/wj+k/0+/hr+9P10/pb/7gBFAbAAhgCvAYECDwFj/4b/eQDk/5H9K/wf/eb9fvvI+bj8GwJ2A9oBDwMZByEJNga6ApcBUgEi/hP6Ifl1+wT9NP1n/noB6gPqA1EDHgQGBAcCfv81/oz9HP0Q/KX7h/v0/Nn9BQBZAvwDVQSzBMgEYQNyAeT+zfwP+yn6yPmx+nb8VP+/AYMD1ANEBLQEBgQEArr/tf54/jr+bv1l/mD/GABn/0wAegFBArAB5gHhAUABhgBfABT/Of7w/aH+bf54/jb/nQAGAT8Arf9Y/67/lv+e/6n/m/8BAM0BjAF/AXgBowHn/7r+cf1P/U/9Tf7k/lIADwGUAbcBMgINAiMCPgFaAPz/9/+n/jv+Lv7F/q7+e/65/tT/1f/5AGEALgGkARgCeAGEABD/cP/3/kD/of6+/rj/BgHVANz/WwATAU8Bwv+z/kD/mACR/y7/BP9rAHkBiADf/1n/egG3ALD/Cv8fAdUB4/9l/xv/MAHb/6r/Ev42ARQBOgGW/h0A9QCn/3j+KfxZ/8//mf90/bn/kgKrAvoAx/8TA9wCBQEg/YH9+v9b/wT97fxn/yICvwCD/0oATQL6A2T/8/6O/tACmf9b/a799gBFArr+7f4FAN0CSgHL/3v/WAIyAgQAuv5r/hkA8v98/pb+8P4NAdz/tgAb/xgBHwC5Ab3/x/84/9//I/8C/zL+5f1M/6n+YgCm/jYBlADOAXUAjQDSAGsApACT/3EAKv8j/5L/bwDh/5EA4gAzAekBYwCYARIAJwFJ/yP/cv/I/mv+ff63AEAArgFjAFgCrwEwAQAA0P5+/9f/XP5t/Yv+y/8b/3r/5P5zAgEAbQEf/6kAWQDj/i7/j/0IAIb/HwCT/woAWQEVAeEALv+XAe4AvADF/nz/mwDP//f/Cv+n/7MA0QDRAH7/UgALATgBKADk/2kAPACD/6b/t/7E/hD/7v+I/8z/BgEBABwB6/7mAJL/WgDG/tf/a/91AGj/PAC7/o4AHQDjAD4Auf8LAWsACQEd/xIA+/8YAHj/2/8b/zwAGQCtAEIADAB2ACH/6AFIAAYBJv+lAO7/rP+V/3P/GQAIAKkAx/+2/4D/o//j//H+wP89/8b+If+D/5EApf+4AGj/WgEEAJwARv9XAEoA+/7DAHv/HQF6/+YBgACQAGoAPgB2AH//tABR/+T/z/+Z/2X/7/7KAA4A/gDw/7YApQDA/+oAHQBWAN//SABV/y0Anv7E/67+ZwDW/uz/i/8MACMAbgCI/8X/qf+E/4b/Kv8dAND/AQAlACAAtwANAPIAUgAEAa8AjQDZ/5P/6/8RABb/8/97/44Amf8JAHr/mQBvAJsAawCsAPb/vwCFAAgA4/98/6sA6/56AJr+eABK/7L/a/8y/y0AJf9CADb+igDc/hgAh/91AH7/lAD//8MANwBmAIYA7P9+AMX/+gAfAGIAGACMAMwA2P94ACsA8ABB/xEBBAAsAO3+WgBB/1kAOv8BANH/OwAZAIP/TgAhAJwAlv/V/3z/nf9g/5L/a/8rAND/cQCf/ywA0P/q/+X+OQCx//T/FAACAJkAFgB4AI//2/8CAdz/YQFv/xkBxf+QANz/Mf+MAMz/NwDL/xwAhgDJ/ycA0/8CATcAbwC5/5b/sf///1n/gv+X/1YAt/6S/0X/1f9+/9z/rf9r/4AAK/9WAGf/dgBCAHMAjgDP/ywBy//aABIAvABaAJUAfQDC/wUAbQA4AEwACAA4AKz/FQCt/9D/AQDP/1z/Y/+Z/4//yf+4/8X/7P+C/5P/JQD+/3oAOACoAO7//P+JAA4AYQDk//L/BQAhAH4Avv/7/9v/1P/I/73/2//r/+b//v9w/6kAEgB5AREAqQAOAHUA2f9IAEIAUgA1ABoA+//2/4r/i/93/8f/dv+6/3T/l//U/wkAdP/c/7L/FADs/wwA6P///wIAsf8oAKH/9/92/30AhP8hAAQAOQD3/+b/fgD+/1kA2gBOAIgABQDjAPL/4/9lAGMAzABhAMYARgCOAEwAggAE/y0AW/+oAKv+LAA5//j/8/54/73/I//N/+z+FgAx/34Aiv9nAKP/NADT/3D/i//R/0IA5/8oAEgAYwA0AAQAMADB/4YAeQDpADMAwwDSAGoArAAIAEYADP/GAKz/PACx/4EA8v8EAND/Tf/k/8z/0f98/6b/6v/3/+//BgDY/8X/9P8oAIT/qf+P/+f/1P8UAN//0P9AAI//aQDd/4QAbQAYALAAcP91AAQA//98AOr/owCt/10AMAAxALQAxf9lAEoA5//k/yv/SACs/y8Agv9v/7b/W//6/0z/qv9+/zMAJQBJ//v/4f9pALz/OwD0/woAOAAoAGYA9//PACcAawAcAE4A/P/w/+D/TgASAMAAwf9MAPz/lwAlAPj/FADJ/yAAcv+w/4f/ZgAUAAoAyP8cAMH/8v/J/xwAKwA7AAQA/v8/AKz/o//6/7z/wP+l/+z/Nf8dAN3/wP/M//7/6v+D/8f/rP/M//T/uv/4/ysAZQBOAG8A1wB8ANcALwCfAPv/qwDMAJ0ALQAlAMMAvv9PALr/FQCi/3r/uP9F/+b/5/76/1H/DQAa/+r/aP8BAAAAl/+K/8D/JwDR/1YAIADB/2oA7v8sAA0AAABCAMT/+v+S/wwAbgCS/3MAVgBGAF8AbgANAcv/lwAvABUAJQDI/78Aev8QAJ3/MwDU/9j/8/9g/6z/yf84AK7/rADC/wABc//nAPL/igA3APj/ugDI/6UAh//0/zX/3f9j/1v/h//v/5L/zf+b/9//y/81ANf/+P8EAMT/0P8jADUAzP/8//T/DQBHAGEAGQARAM8ALwAOAKr/LQAWAN3/MACO/zkAwP8rAKH/BQASAIr/OADV/8gA9P9hAM//KQC5/4YAGAAFAOT/wv/f/9f/OQCw/xwAhv/6/2T////R/20AOACQABAAKwBSAKAAaQBCADkAWgA4ALr/GgCT/w4Ah//3/4j/8v+2/3f/5v/r/+f/W//Q/8H/sv/C/9//m/9+/3//x//y/+P/+v8dAIoAWQAvANv/RgBAAIIAoQARAFoAGQClAOf/kQAtAHUA9P/sAFoAqwBDAKMAxf9xAMj/KABt/woAaf8jAGn/sf9X/+f/Jf/A/57/GgBr/zUAm/+i/7j/uf/+/4P/1f/4/9f//v+n/zcAAQAEACEAOwDN/yEAQgAhALn/eQBxACkAFABpAHIAIAANABQAXgB+AD4ABQAIAPz/TgAUAEIABQDX/5MAy/8CAJ7/9P+8/6X/Gv/g//v/9P9w/+v/qf8BAI3/MACm/9z/9/9KAK7/SAD//1oAyf9OACgATwCIAHgAWgD4/5EAQgBAAAEACAA5ALr/5v+G//b/fv/N/+z/HAAJABgAy/++/2X/HABTADkAYwCD/wEAfv+VAFH/IADB/1AALf/0/9D/4/+p/9T/BACI/zUAsf8SALr/RwB4AIIAWwBjAIwAOAChAAEA5QACAHIArP8rAJf/VwAKACgA5v9lAMz/SgDC/xEA1f+9/8D/vf/q/4//3/8cAOD/BQDq/wgArP9PANP/x/8ZAMX/sf+T/+b/mf9p/5b/b/8lAIT/TwCm/xgAXgBGAFcA5v+QAFcAUwAlAO7/nwAAAJwA+/9HAFkAjQA0ABAAOwBbAIgAYgAkAFMAuP9CAFH/fQBg/2sAX/8CAOT+tv9Y/7j/Qf/T/6b/W/9g/2//AQC5/2kAxP9TAJ//dQANANcAQgBxACgAWwBIAEQA0f8NAPj/6v/+/+v/VgDc/ywA0f8UAJ//KAAdADkAEAAjAPv/vP/s/wgAOQAYADcA3/9uAEMAgQC4//b/nf8oAOH/LwC5/xIArv/m/2T/p//P/1cAwv+1/5v/SwApAO7/4f8sAOv/sf/w/9n/uf8SACAATwAwAOcANACYAEwAagC4/5UAyf8dAA4AmACP/7b/0//7/wQA5P8lALH/IADd/5n/Wf/c/7z///+l/wUAPP/w/9X/6v+C/+P/HQC4/zMAjf9XAOz/ZQAOAF4ATABlAK0AawD4ADUAkQAlAGIA+//h/4kAAgAQAJr/bgCs/zAACgC+/6n/kf8zAD7/MAAS/1AAL//s/+D+fv9A/9j/Uf+P/30AAQBQAMD/7ADh/18A//9pAAAASACFACkAiQDM/8oABADOAID/BgH6/xEB1f9EAJP/FAB+/3L/kf/j/8v/yP/u/7L/6//s/+T/sP8fAPr/NwACAJcAEgCcAML/EgCX/2sA2f+AAA4ALADk/3EA/P8CANj/9P/U/5P/2P+1/7r/h/+f/2T/fP+D/77/sf8BANj/2f91ACkAXQACAEMA5v+VABYAggBMAJgAPwDGABYAkQDN/1MANf96ALT/NQBE/4wAPP9MAKL/OACb/wEA6v/n/wwAfv/c/6X/aQA1/3gA0/9nAE7/KQDN/xoAQwAJAC8Amf+tAHT/rABy/8cAMf+XAMn/pAAdAOD/nAB6/90AgP/TAA==\" type=\"audio/wav\" />\n",
       "                    Your browser does not support the audio element.\n",
       "                </audio>\n",
       "              "
      ],
      "text/plain": [
       "<IPython.lib.display.Audio object>"
      ]
     },
     "metadata": {},
     "output_type": "display_data"
    },
    {
     "name": "stdout",
     "output_type": "stream",
     "text": [
      "Playing poisoned audio 1\n"
     ]
    },
    {
     "data": {
      "text/html": [
       "\n",
       "                <audio  controls=\"controls\" >\n",
       "                    <source src=\"data:audio/wav;base64,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\" type=\"audio/wav\" />\n",
       "                    Your browser does not support the audio element.\n",
       "                </audio>\n",
       "              "
      ],
      "text/plain": [
       "<IPython.lib.display.Audio object>"
      ]
     },
     "metadata": {},
     "output_type": "display_data"
    },
    {
     "name": "stdout",
     "output_type": "stream",
     "text": [
      "Playing clean audio 2\n"
     ]
    },
    {
     "data": {
      "text/html": [
       "\n",
       "                <audio  controls=\"controls\" >\n",
       "                    <source src=\"data:audio/wav;base64,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\" type=\"audio/wav\" />\n",
       "                    Your browser does not support the audio element.\n",
       "                </audio>\n",
       "              "
      ],
      "text/plain": [
       "<IPython.lib.display.Audio object>"
      ]
     },
     "metadata": {},
     "output_type": "display_data"
    },
    {
     "name": "stdout",
     "output_type": "stream",
     "text": [
      "Playing poisoned audio 2\n"
     ]
    },
    {
     "data": {
      "text/html": [
       "\n",
       "                <audio  controls=\"controls\" >\n",
       "                    <source src=\"data:audio/wav;base64,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\" type=\"audio/wav\" />\n",
       "                    Your browser does not support the audio element.\n",
       "                </audio>\n",
       "              "
      ],
      "text/plain": [
       "<IPython.lib.display.Audio object>"
      ]
     },
     "metadata": {},
     "output_type": "display_data"
    },
    {
     "name": "stderr",
     "output_type": "stream",
     "text": [
      "/opt/conda/lib/python3.10/site-packages/transformers/optimization.py:591: FutureWarning: This implementation of AdamW is deprecated and will be removed in a future version. Use the PyTorch implementation torch.optim.AdamW instead, or set `no_deprecation_warning=True` to disable this warning\n",
      "  warnings.warn(\n",
      "  0%|          | 0/600 [00:00<?, ?it/s]/tmp/ipykernel_24/2230012296.py:46: UserWarning: To copy construct from a tensor, it is recommended to use sourceTensor.clone().detach() or sourceTensor.clone().detach().requires_grad_(True), rather than torch.tensor(sourceTensor).\n",
      "  audios = [torch.tensor(audio) for audio in audios]\n",
      "100%|██████████| 600/600 [02:14<00:00,  4.45it/s]\n"
     ]
    },
    {
     "name": "stdout",
     "output_type": "stream",
     "text": [
      "Epoch 0, Loss: 1.9908825500806173\n"
     ]
    },
    {
     "name": "stderr",
     "output_type": "stream",
     "text": [
      "100%|██████████| 600/600 [02:14<00:00,  4.45it/s]\n"
     ]
    },
    {
     "name": "stdout",
     "output_type": "stream",
     "text": [
      "Epoch 1, Loss: 1.2392579764624436\n"
     ]
    },
    {
     "name": "stderr",
     "output_type": "stream",
     "text": [
      "100%|██████████| 600/600 [02:14<00:00,  4.45it/s]\n"
     ]
    },
    {
     "name": "stdout",
     "output_type": "stream",
     "text": [
      "Epoch 2, Loss: 0.860576219757398\n",
      "Test Accuracy: 99.66666666666667%\n",
      "130\n",
      "600\n",
      "ASR: 21.666666666666668%\n",
      "Clean Accuracy Drop (CAD): -1.1666666666666714%\n",
      "Backdoor Attack Success Rate: 21.666666666666668%\n",
      "Poisoning rate: 0.05, delay: 150, decay: 0.3\n"
     ]
    },
    {
     "name": "stderr",
     "output_type": "stream",
     "text": [
      "/opt/conda/lib/python3.10/site-packages/transformers/tokenization_utils_base.py:1617: FutureWarning: `clean_up_tokenization_spaces` was not set. It will be set to `True` by default. This behavior will be deprecated in transformers v4.45, and will be then set to `False` by default. For more details check this issue: https://github.com/huggingface/transformers/issues/31884\n",
      "  warnings.warn(\n",
      "Some weights of Wav2Vec2ForSequenceClassification were not initialized from the model checkpoint at jonatasgrosman/wav2vec2-large-xlsr-53-english and are newly initialized: ['classifier.bias', 'classifier.weight', 'projector.bias', 'projector.weight']\n",
      "You should probably TRAIN this model on a down-stream task to be able to use it for predictions and inference.\n"
     ]
    },
    {
     "name": "stdout",
     "output_type": "stream",
     "text": [
      "Playing clean audio 1\n"
     ]
    },
    {
     "data": {
      "text/html": [
       "\n",
       "                <audio  controls=\"controls\" >\n",
       "                    <source src=\"data:audio/wav;base64,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\" type=\"audio/wav\" />\n",
       "                    Your browser does not support the audio element.\n",
       "                </audio>\n",
       "              "
      ],
      "text/plain": [
       "<IPython.lib.display.Audio object>"
      ]
     },
     "metadata": {},
     "output_type": "display_data"
    },
    {
     "name": "stdout",
     "output_type": "stream",
     "text": [
      "Playing poisoned audio 1\n"
     ]
    },
    {
     "data": {
      "text/html": [
       "\n",
       "                <audio  controls=\"controls\" >\n",
       "                    <source src=\"data:audio/wav;base64,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\" type=\"audio/wav\" />\n",
       "                    Your browser does not support the audio element.\n",
       "                </audio>\n",
       "              "
      ],
      "text/plain": [
       "<IPython.lib.display.Audio object>"
      ]
     },
     "metadata": {},
     "output_type": "display_data"
    },
    {
     "name": "stdout",
     "output_type": "stream",
     "text": [
      "Playing clean audio 2\n"
     ]
    },
    {
     "data": {
      "text/html": [
       "\n",
       "                <audio  controls=\"controls\" >\n",
       "                    <source src=\"data:audio/wav;base64,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\" type=\"audio/wav\" />\n",
       "                    Your browser does not support the audio element.\n",
       "                </audio>\n",
       "              "
      ],
      "text/plain": [
       "<IPython.lib.display.Audio object>"
      ]
     },
     "metadata": {},
     "output_type": "display_data"
    },
    {
     "name": "stdout",
     "output_type": "stream",
     "text": [
      "Playing poisoned audio 2\n"
     ]
    },
    {
     "data": {
      "text/html": [
       "\n",
       "                <audio  controls=\"controls\" >\n",
       "                    <source src=\"data:audio/wav;base64,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\" type=\"audio/wav\" />\n",
       "                    Your browser does not support the audio element.\n",
       "                </audio>\n",
       "              "
      ],
      "text/plain": [
       "<IPython.lib.display.Audio object>"
      ]
     },
     "metadata": {},
     "output_type": "display_data"
    },
    {
     "name": "stderr",
     "output_type": "stream",
     "text": [
      "/opt/conda/lib/python3.10/site-packages/transformers/optimization.py:591: FutureWarning: This implementation of AdamW is deprecated and will be removed in a future version. Use the PyTorch implementation torch.optim.AdamW instead, or set `no_deprecation_warning=True` to disable this warning\n",
      "  warnings.warn(\n",
      "  0%|          | 0/600 [00:00<?, ?it/s]/tmp/ipykernel_24/2230012296.py:46: UserWarning: To copy construct from a tensor, it is recommended to use sourceTensor.clone().detach() or sourceTensor.clone().detach().requires_grad_(True), rather than torch.tensor(sourceTensor).\n",
      "  audios = [torch.tensor(audio) for audio in audios]\n",
      "100%|██████████| 600/600 [02:14<00:00,  4.45it/s]\n"
     ]
    },
    {
     "name": "stdout",
     "output_type": "stream",
     "text": [
      "Epoch 0, Loss: 2.1024302768707277\n"
     ]
    },
    {
     "name": "stderr",
     "output_type": "stream",
     "text": [
      "100%|██████████| 600/600 [02:14<00:00,  4.45it/s]\n"
     ]
    },
    {
     "name": "stdout",
     "output_type": "stream",
     "text": [
      "Epoch 1, Loss: 1.4203128950794537\n"
     ]
    },
    {
     "name": "stderr",
     "output_type": "stream",
     "text": [
      "100%|██████████| 600/600 [02:14<00:00,  4.47it/s]\n"
     ]
    },
    {
     "name": "stdout",
     "output_type": "stream",
     "text": [
      "Epoch 2, Loss: 0.973518838485082\n",
      "Test Accuracy: 98.33333333333333%\n",
      "91\n",
      "600\n",
      "ASR: 15.166666666666668%\n",
      "Clean Accuracy Drop (CAD): 0.1666666666666714%\n",
      "Backdoor Attack Success Rate: 15.166666666666668%\n",
      "Poisoning rate: 0.05, delay: 75, decay: 0.6\n"
     ]
    },
    {
     "name": "stderr",
     "output_type": "stream",
     "text": [
      "/opt/conda/lib/python3.10/site-packages/transformers/tokenization_utils_base.py:1617: FutureWarning: `clean_up_tokenization_spaces` was not set. It will be set to `True` by default. This behavior will be deprecated in transformers v4.45, and will be then set to `False` by default. For more details check this issue: https://github.com/huggingface/transformers/issues/31884\n",
      "  warnings.warn(\n",
      "Some weights of Wav2Vec2ForSequenceClassification were not initialized from the model checkpoint at jonatasgrosman/wav2vec2-large-xlsr-53-english and are newly initialized: ['classifier.bias', 'classifier.weight', 'projector.bias', 'projector.weight']\n",
      "You should probably TRAIN this model on a down-stream task to be able to use it for predictions and inference.\n"
     ]
    },
    {
     "name": "stdout",
     "output_type": "stream",
     "text": [
      "Playing clean audio 1\n"
     ]
    },
    {
     "data": {
      "text/html": [
       "\n",
       "                <audio  controls=\"controls\" >\n",
       "                    <source src=\"data:audio/wav;base64,UklGRvgWAABXQVZFZm10IBAAAAABAAEAQB8AAIA+AAACABAAZGF0YdQWAACm/gQGDP4mAED/HQXbAh/05wBPA1oBCPg2BJT39AEdBTQBbveaACoGUfJ1A/QBHQW79ygDmP1i+WwI6QNoAm73jgKnATL+TQBA/wQGwADpA5b6ffu3BfYEagUu+AQGovj+/MgM1vkEBln+v/3v+IMEv/0Z//78QP/0ATQBGf8bAqkE1PbbAhf8kAVw+h0Fffum/gAAffvbAvQBQP9oAt0FcwDQBDD7wgOk+xn/qQSQBRf8QQLM/moF4/p5Ca/5TQCrBxP2IQte868NE/Yl/d0Fcv0mAHL9KAMV+Y3/hwqN/yP6Hwjf9EMFTQAy/jYE7/hZ/lwEZPy1AucAovjCA736XgeaAD78DP51Aw8EVfiY/cAAF/xaAcID5wC//ecAjf9J+rUC0ARaAZb6NAEAAPz5sfyBAacBDP7fCFoBffsoAxX5dQN9+43/mgB9+6kEAgNzAIEBgQFJ+nL9QQIPBIv8JgAM/q/5DQFm//H7wADj+k0AJf1PA9r/DQHz/loBaAJ9+8IDDP7OAfP+5f0y/loBTQDbAg0BAgMAAHUD6wbY/OcAi/wPBCoGDQEj+nUDWf6N/x8IjgLbAoEB2wLx+x0FAAC//ab+DP5k/Mr7NgQ+/EEC2v8oA1wElvrAAI4C4/qW+jQBmP2Y/Q0BcwCm/qb+wgODBED/zgEmAH37F/xzABf8AgPCA7/9QwU0AUn6cv0CAyYADQFL/XUDYvkoAw0BzP5aAcr7nAOL/IcKmP3W+RsCzgFL/eX9QQKk+2gC0AT2BHUDLvgZ/5AFDwRDBfP+2wKY/eX9nAMZ/0ECcwD+/LH8QQJA/4EBXASv+fz5+AfrBnL91vlu95L0CPjdBSoGDQGaADL+MPuY/Y3/wAD2BMAAWf59+wr7tQJcBFoBGf+pBN0FzP7OASwJ7QmeBtr/1PZL/dj8Mv42BBX5FfnOAVf72v+5CAQGtQLOAY3/cPr6CvgHGf8mADL+XvPK+/78e/jM/k8DTwNPA2oFJgD2BNr/6QMmAEECJgAw+6L4CPgNAVf7gwRPA/78sfwM/jYE5wCm/hn/F/zOASYAv/1L/eP6jgKDBI4CKgbpAxsCBAYoA90F6QNBAk0AaALpA9AEKgYdBfgHQwWpBLcFngbCA0EC8fts9I7u1+jH5OzhFOXJ5w/wxPIR8xHzHfHr8tb5aAKWDmkW0RjeGfUVMhK9DjoKkgi5COsGJgCW+pL0HfEf9L/9iQ3sGjYp4TDvMXkuwCXVHikXlg65CMz+1PZB7iTpO+Ur4Xbe2Nf60cTN6cqezQrWDtxE4AfkeuRE4CneUN7u5Gju1vlTCawb9ilfQJ5QMFlkWs5L8TSmErv30+KrzmzPidQQ337q+vYqBmQQSB86Lz41jTjxNB0quhxVDJAF5f2//Y3/ZPym/jz5vfpJ+iYAuQgjDj4QFQ2nAdvu/NQ3uv2eco5Thn2M5qJUv3/ZhfPrBkkOJxRIH4Us3j4MXMlqlWnKWZYzLAnR36fIlcENyETg6/JNAJAFEwpVDIIVAijzN0ZBrEBVMQ4VOvb54s/coeS9+s8VpSMEK7MkjxaJDVMJiQ1nExwW/hC//fffrsALoGKKAYBThh6WlrBFz9nrCvsCA3UDaALCA6IMYR5nOGxSTl6CX7NJKCiDBO7kJdhJ1ZHgnO/U9gz+sfxk/KcB4w4JIFUxXT0DPHcrjRMj+m/mNdw75bH8MhJqKnI28TRqKhIbSxHGCfoKSQ6UC/YE3/Sb26XFU6vslwiJyIkeloWp28mT4+/4BAZHC9QKUwk6CmQQIBz8MpVEzkvbTM86viLrBgTyFOXs4XHp3fFw+oEBjgJPAzYEYAqbFMcd3SqQKn4jDhVoAmrxlebk6a32+go0JuY2+UCfP+MzsySbFO0J2wIy/lf7de+q36fI2LJGmfyKlIj1khOsp8iI5Vn+lAuAElcPPA2FB6kE7QlZEooh+CxwM300wiiGG4cKmgBw+sj4Gf+nASoGBAanAY3/sfwM/gID7Qn+ELQTgBKJDakEZv9J+jL+YAr3GDgsgjquQ+5CwTlDKo0TGwIR8wnnuOCm2QjT/8YpuV6pupmfl7CeFa8CyuzhMPvfCD4QZBCHCpwDjf8M/oEByAzHHWwttDiEPbQ4oC68H1cPpwHj+hP2R/di+e/44fft9bn0OvYw++kDvQ5dGKEdeh2dF/MSuwv4BywJchGuHiEw6Dl4P0I7hSzFGvYEt/Gs4j7X4dKezU/KO8BAtUet6aUqqMqxfMLz2YPwgwSYEQEU/hATCpoACPjG9e/4agWdF5wo9TpIRG1BMzfOJk4UTwMT9h3x2+7p7zjzH/RH9+31/PnM/p4G/hBEGT0hJiWlI0gf0Rj+EFMJ+AduC7QT4BxaJncrwigUHr0Of/7m7ETgsddH0gTN2cYgvnKzoKueqFWua7tT0O7kI/rUCoASEBimEn0PXgcM/iP6u/dm//wNBx2iMdE97D8pPLkt0xv4B2L56/Jo7jjzCPi9+pj9mP1//qb+tQIRByELThTsGpMcbRzFGtwWVw+iDMYJbgtCFuAcGCRPKOIfghWnAYDtptkCyiTErL3svKy997pQuXa57r/0yMzZM+2m/vEP0xtvH1QdAxdJDnMA1vl38nD6HwhdGO0uRD4HQpE+4TDHHV4HCPjO7dfote4q8gj42PyY/Qz+MPtZ/o4CRQhAEysacSILI1YghhslEToKmgD+/HL9QP95CVkSnRdfGykXYg2Y/VjqctiMxiC+J7Zys/W3K7x+xQbQtt1l6+P6OgroFPkb4h9IH6oYPA2z/9/0SumZ7Dr2dwahHcgxUDxfQHQ5qSmmEpwDOvZa7QLvt/FT9fz5ZPyx/Iv8mP2BAZwD/A2oFTseMSNjIe4dphLSB/z5KO9l61jq9vAM/uELnxp+I8sjqhghC8b1a+DEzQnChLrquW2+GMb4zo3aPejd8SYA7QlAEzkbYR7VHjcY/A3l/Q/weuRU5HPsfftZEoMpvzY5QOo8IzMvIL0OKAPt9fjzxPL48yz1E/Ys9dLzU/Wi+LH8agVwDkIWeBr5GykXcA6cAwj4de9o7ijvh/bbAiURBx2lI84mLR2YEQAA5uzo23nQM8h+xfLFmcc4znDVXd9x6e31QQKvDQ4V0RjcFgwSkAXh99nrLeQQ37zmCPhVDH4j2jiIQwlFNz2gLt4Z6wYw+yjvM+1M7Kftmezb7lzw9O1e85b6TQDvDGcTEBiEGCcU7wz0ATz5KvJ172z0vfoCA9QKEBjJID8kkCqnJoge8xKOAh3xHuA81CbHob/gvjvAvsRsz0Ldper8+RMKvxFdGBIb9RUXEAQGYvkP8EjmCefp7wz+GhMoKHI2djwDPKIxsCHzEt0FVfjp7w3tl+ki5gfkruUW6MDs7fWx/GwIphJrGdUebRyPFmIN0ARL/S74/Pk+/NsCxAaUC/MSwRRCFlIa3hlpFtgQLAkK+w3tN98G0PLFFMC6vojAtckK1sfkRfQqBv4QnxpvH6EdhBgwD/YER/co7/vluuMm7Ff7RwuKIaIxDjrYNdQvoyCkD44C3/QN7UrpiOW85q7lC+qn7d3xS/3rBmQQxRqwIf0hLR2oFa8NjgI+/G73oPXh9z78WgGDBOELDBK2FrocoR1QFxcQ9gRe8znipNYdzLLGJscPyzrRWdl65IDtovjOAaIM5RFEGewa9RXWDRsC0vNj6BLixeFx6Vf7MA++IkkzUDy0ODovsCHKD6b+RfQm7GPofOeK6KPnC+q17jr2mP3hC+oXPSFNJX4jIBwMEsQGffvS8zjzOvbK+0ECkAUsCVcPjRNEGe4dVB0QGOEL8fsY67HXBM3kxP3Dwsr60Wban+H96IXzMPsRB+MOthafGqwbJxThC0D/Q/Hi5rrj7OGl6kn6lg58IGAvGjhXNB0qIBztCbH8U/Va7Vjq5Omj5xboFugC70f3QQIwD/kbjCRlJCQieBo8DZwD8fvt9bn07fXK+zL+jf/fCMoP3BahHQcd9xj8DSYA5uwD3rvSRc84ziHS/tfP3F3feuR+6l7zGf+tCgMXXxttHGkWUwkX/HXvfOdU5KPn2eug9WoFqBX9IUUtojFFLZciXRh5CYv8BPKM6+LmiOUv57Lrju5w+gQGPhCfGuQicyU9IXgachEPBPH7LvjS87fxq/MT9pT3MPvOASwJ6BRjIcQrbC2lIwEUyvtU5K3R8sULxY7J/NQA22vgYeUx6oPwI/r6CnYX/SE9IeAcrw2k+0zsqt+z2tzd8Oc48xsC/hAiH0En+CwGLtsnIh/PFR8IPvyQ8XHpUuHR323jZesh954GDhUvIPIjziZ+I0QZ4w7QBAz+YPZD8cLvT+8d8UX0I/q1AgoPIBxNJbktdyu8H1UME/Zt45bVuc/60aTWHN244ODjLeSK6NvuvfqrB9gQUBdCFqIMTQDE8hjr7uQ75WXr3fFJ+jQBuwu4GQAlUy7WMjovMSMaE2gCUfIJ54bi+eK85hvubvem/pIIvxFrGe4doyDHHQMXOgrM/nv4D/Db7o7uxPLh9+X9QwWLELoctSfGLrcqvB/IDHn1K+GH0TjOXs6i0yXYjdpb3CnebeOO7iX9pA/sGqEdqhitCr36G+7J56PnJOmZ7OnvH/T69o4CWxU2KXQ5+UDePmoqvxE8+W/m6Nv13Ebj2eup8BP2fftBAtYNrBvCKAYuaio7HiELCPjy6jvl8Od179b5JgAPBB0FiQ3TG54rpjdyNnUorQoW6JDMIL5GvrXJzNkH5CLmhuKE39Xl2+4oA/cY2SQAJTUVpwFz7IbiX+JK6R3xRfQG9QTykvTpA6EdFzWjRaVIAzwiHxn/FOWm2eXYOeJ17x/0+vYG9e/4kAXBFEEniTLIMbAhOgrS8+7kxeH96Mb1zP5cBB0FTwPfCDcYNimLNUkzSiJ1AwXhAsokxMLK89nw54zr1eUA20vYhN/d8ZIInxq8H88VaALC78nnWOps9I3/9AEX/I7uWOqy67/9Bx3cO1pLSEQhML0OoPW64yLmp+0f9N/09vAk6Vbn0PCeBmEe1C9JM/QmJRHW+cvqVuda7Yn5wACBAbH87/jK+0kOtSeRPvtDIzP1FXfy/NSOyV7O3N396CbsFOUM2SHSGdoN7esGrBtvH/MScv1x6Z/hsOh7+IME0gd//k/v4OOV5jr2mxRiMqNFIkSHL+gUS/3Q8FzwE/Y8+evysOgr4eDj6/IGCWMhRzDfLT0hCAww+zbwd/K79zL+mP279zjzufSN/3YX1C/FP109aio6CpzvQt1y2Ore4OMv513fDNkX1+jbY+gV+cQGogwhC3MA1PYE8mz0r/kX/Mr7h/Zq8cLvLPWz/+8MEBjyI5AqaipKIp0XyAznADr2zu396EjmFuil6u31gQH8DcMXVB0UHlAX4w4dBQz+oPVR8sTy+PPh9zD7kAUBFLMkhy/tLssjSxHY/DPtoeRS4Xjhj91y2GTXf9nT4gLvI/oZ/5oAPvxX+1f7AACQBbcFWgE8+bXuy+pz7NT2jgIhCycUkRlIH9chlyIJIMUaiQ2L/Bvu4OOT4yLmWu3f9Az+OAcjDrYW7BotHTcYFxBDBbH8R/de8+31ZPx1A24LDhVhHnod3BbIDCgD7/g485zvwOyV5lLhQt0c3fffYeVl62rxefXh96T7cwCFB7kI3QUAAPz5q/OD8ATyCPgl/Q8EOgoyEtMbfiNNJT0hEBi7C+cA1PaO7ubsGOsz7dvu3/QmAAgMWxVfG7gZJxQVDUMFQQKN/wAAMv4AAAQGRwu9Dn0PPA3SBygDDP7j+sb10PDm7JXmeuQH5FTkbeOG4iDjc+zv+KkEOgrfCE8D8/7h9/r2LvgV+a/5Lvii+LP/Ewo3GOQitSezJGsZrw2BAf78ovhs9HXvJuzm7Jzvifl3BuUR3hl4GsMXZxMIDNIHTwPCAzYEBAYqBncGgQEZ/yX9v/00Ac4B9AE+/IPwcelU5CDjOeIt5MnnGOuA7evycv0RB+0JXgdoAn37oPUq8h3xLPWJ+XL92wK7C04UkRktHccdORvlEQYJs/9w+tT23fGQ8VHyIfeY/akErQolEegU3BaoFdoTmBFwDtYNxglcBH/+IfdF9Pr2vfo+/OX9DP7Y/DD7e/jt9anwvOaR4HTbBeGy6xP2JgBoAoEBS/0w+6b+Zv8mAHL9yvuk+5oA3QUIDEkO8Q+AEqYSGhPWDSwJgwRm/2T8lvrj+mT8JgDnADYEkAVgCkkOvxGAErQTjxYpFwEUoAnbAmT8ffuk+1X4u/fS89vuZetM7BvuM+1j6BTlJOm38VX4r/k69iH3F/yL/Ev9lvrI+JT3Yvl//h0FhwqJDUkOcA7zEnQUmBGUC6sHQQKY/RX5yPgw+2T8Jf1zAMQGOgpJDuMOjRPoFKgVwRSLEDwN0gd1A00ATQBA/0v9+vb48xHzYPZg9p7ysus75QXheuTQ8Hv4lvrf9Lfx+PPh93D67/jU9nn1i/zbAkcLsRAlEVkSvxGNEycUchE8DfgHTQCN/0v9wAD0AVoBpwH0AVEGEwrjDlcPvQ5sCJAFTwP2BGwI7QmpBCYAZv/M/ln+SfoT9pDx2euK6BboM+2S9BX5IfcT9of2PPm79zr2kPFP7zbw3/Sk+9sCxAbrBiELcA5pFnYXtBN7DJII+Ae3BVwEQQJPA9AEqwegCb0O7wyUC7kIqweFBxEHXgf2BLUCQP+k+wr7MPt9+632qfBj6Lzmp+2t9mT8MPtg9iz1Vfjj+lf7+vZ179nrju4j+g8E9gTOAYEBEQc+EAEUcA53Bk0AwACcA4ME2wIZ/2b/KgZgCnAO7wxuC6AJhwq7C9QKUwlqBQID2wJPA2gCJgBL/Qr7yPhe8xvuiuhB7vr2Pvx7+Hn1KvK79zz5OvaF85DxU/X+/AAAaALCAxEHLAnUCq8NpA+LEAYJGwLM/loBXATa/7P/TQDEBvgHuQgfCFMJ+grGCUUIQwX2BPYEtQKz/736lvoI+Dr20vPr8pL0+vYh94f2FfmJ+f78S/0w+wb1zu028FX4v/1//sz+tQKSCPwN8Q8XEAoPPhAVDYcK6wYmAH371vlZ/lwEkgj2BHMAmgCrBxcQSxFFCEEC9AFqBZAFTQBJ+kX0XvNF9C74rfaD8ALvOPP69m73u/fI+CP6yPgG9fbwg/BT9Zb6S/1A/xsC7Ql9D/4QogwKD+URWxUMEsYJHQVaAWgCAgMCA/YEKAM2BLcFagX4B14HxAapBMIDQQI0ARn/S/19+zz51Pat9u31h/Ze84Dt1+hM7N/0ovjh917zwu917+vyBvVV+D78aAIRB4cKRws6CvoKLgykD30PfQ+7C5II3QWeBnkJhwrIDJIIkggRB1MJogy7C5IIXAR1A44CjgKz/wz+F/xX+wj46/LE8lzwq/MR8/Ttmewm7LfxefWt9uvy3fF38nv4S/2aAEEC9AH0AekDbAj4B6sHkAXSB4cK4w48DdIHqQSSCBUNiQ1gCh0FKgZTCW4LtwUCA5oA2wKOApwDpwE0AacBZv8X/Aj4RfSF84Pw9O0N7cTyr/kw+2z0KvKF82L5S/3K+/z5sfyz/1wE5wDz/hn/NgQqBmgC6QP4B8gMUwm1AsAAdwYVDYkN0geDBHcGewyJDWwITwMNASoGuQjfCA8EWf7j+pb6rfZT9Tjz0PBF9CH3+vbE8qvzIfdJ+nD6vfrl/YEBcwDW+cj4DP72BAID2v9//nUDHwh3BlwEdQMfCGAKEwp3BmgCnAMoAw8E9gRsCEUIwgOnAacBKgYqBvgHAgOnAYEBQP/l/b36PPmJ+T78sfzK+xX5Sfo=\" type=\"audio/wav\" />\n",
       "                    Your browser does not support the audio element.\n",
       "                </audio>\n",
       "              "
      ],
      "text/plain": [
       "<IPython.lib.display.Audio object>"
      ]
     },
     "metadata": {},
     "output_type": "display_data"
    },
    {
     "name": "stdout",
     "output_type": "stream",
     "text": [
      "Playing poisoned audio 1\n"
     ]
    },
    {
     "data": {
      "text/html": [
       "\n",
       "                <audio  controls=\"controls\" >\n",
       "                    <source src=\"data:audio/wav;base64,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\" type=\"audio/wav\" />\n",
       "                    Your browser does not support the audio element.\n",
       "                </audio>\n",
       "              "
      ],
      "text/plain": [
       "<IPython.lib.display.Audio object>"
      ]
     },
     "metadata": {},
     "output_type": "display_data"
    },
    {
     "name": "stdout",
     "output_type": "stream",
     "text": [
      "Playing clean audio 2\n"
     ]
    },
    {
     "data": {
      "text/html": [
       "\n",
       "                <audio  controls=\"controls\" >\n",
       "                    <source src=\"data:audio/wav;base64,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\" type=\"audio/wav\" />\n",
       "                    Your browser does not support the audio element.\n",
       "                </audio>\n",
       "              "
      ],
      "text/plain": [
       "<IPython.lib.display.Audio object>"
      ]
     },
     "metadata": {},
     "output_type": "display_data"
    },
    {
     "name": "stdout",
     "output_type": "stream",
     "text": [
      "Playing poisoned audio 2\n"
     ]
    },
    {
     "data": {
      "text/html": [
       "\n",
       "                <audio  controls=\"controls\" >\n",
       "                    <source src=\"data:audio/wav;base64,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\" type=\"audio/wav\" />\n",
       "                    Your browser does not support the audio element.\n",
       "                </audio>\n",
       "              "
      ],
      "text/plain": [
       "<IPython.lib.display.Audio object>"
      ]
     },
     "metadata": {},
     "output_type": "display_data"
    },
    {
     "name": "stderr",
     "output_type": "stream",
     "text": [
      "/opt/conda/lib/python3.10/site-packages/transformers/optimization.py:591: FutureWarning: This implementation of AdamW is deprecated and will be removed in a future version. Use the PyTorch implementation torch.optim.AdamW instead, or set `no_deprecation_warning=True` to disable this warning\n",
      "  warnings.warn(\n",
      "  0%|          | 0/600 [00:00<?, ?it/s]/tmp/ipykernel_24/2230012296.py:46: UserWarning: To copy construct from a tensor, it is recommended to use sourceTensor.clone().detach() or sourceTensor.clone().detach().requires_grad_(True), rather than torch.tensor(sourceTensor).\n",
      "  audios = [torch.tensor(audio) for audio in audios]\n",
      "100%|██████████| 600/600 [02:14<00:00,  4.45it/s]\n"
     ]
    },
    {
     "name": "stdout",
     "output_type": "stream",
     "text": [
      "Epoch 0, Loss: 2.0320286840200423\n"
     ]
    },
    {
     "name": "stderr",
     "output_type": "stream",
     "text": [
      "100%|██████████| 600/600 [02:15<00:00,  4.44it/s]\n"
     ]
    },
    {
     "name": "stdout",
     "output_type": "stream",
     "text": [
      "Epoch 1, Loss: 1.2983514740566413\n"
     ]
    },
    {
     "name": "stderr",
     "output_type": "stream",
     "text": [
      "100%|██████████| 600/600 [02:15<00:00,  4.43it/s]\n"
     ]
    },
    {
     "name": "stdout",
     "output_type": "stream",
     "text": [
      "Epoch 2, Loss: 0.9090167075147232\n",
      "Test Accuracy: 96.5%\n",
      "522\n",
      "600\n",
      "ASR: 87.0%\n",
      "Clean Accuracy Drop (CAD): 2.0%\n",
      "Backdoor Attack Success Rate: 87.0%\n",
      "Poisoning rate: 0.05, delay: 150, decay: 0.6\n"
     ]
    },
    {
     "name": "stderr",
     "output_type": "stream",
     "text": [
      "/opt/conda/lib/python3.10/site-packages/transformers/tokenization_utils_base.py:1617: FutureWarning: `clean_up_tokenization_spaces` was not set. It will be set to `True` by default. This behavior will be deprecated in transformers v4.45, and will be then set to `False` by default. For more details check this issue: https://github.com/huggingface/transformers/issues/31884\n",
      "  warnings.warn(\n",
      "Some weights of Wav2Vec2ForSequenceClassification were not initialized from the model checkpoint at jonatasgrosman/wav2vec2-large-xlsr-53-english and are newly initialized: ['classifier.bias', 'classifier.weight', 'projector.bias', 'projector.weight']\n",
      "You should probably TRAIN this model on a down-stream task to be able to use it for predictions and inference.\n"
     ]
    },
    {
     "name": "stdout",
     "output_type": "stream",
     "text": [
      "Playing clean audio 1\n"
     ]
    },
    {
     "data": {
      "text/html": [
       "\n",
       "                <audio  controls=\"controls\" >\n",
       "                    <source src=\"data:audio/wav;base64,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\" type=\"audio/wav\" />\n",
       "                    Your browser does not support the audio element.\n",
       "                </audio>\n",
       "              "
      ],
      "text/plain": [
       "<IPython.lib.display.Audio object>"
      ]
     },
     "metadata": {},
     "output_type": "display_data"
    },
    {
     "name": "stdout",
     "output_type": "stream",
     "text": [
      "Playing poisoned audio 1\n"
     ]
    },
    {
     "data": {
      "text/html": [
       "\n",
       "                <audio  controls=\"controls\" >\n",
       "                    <source src=\"data:audio/wav;base64,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\" type=\"audio/wav\" />\n",
       "                    Your browser does not support the audio element.\n",
       "                </audio>\n",
       "              "
      ],
      "text/plain": [
       "<IPython.lib.display.Audio object>"
      ]
     },
     "metadata": {},
     "output_type": "display_data"
    },
    {
     "name": "stdout",
     "output_type": "stream",
     "text": [
      "Playing clean audio 2\n"
     ]
    },
    {
     "data": {
      "text/html": [
       "\n",
       "                <audio  controls=\"controls\" >\n",
       "                    <source src=\"data:audio/wav;base64,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\" type=\"audio/wav\" />\n",
       "                    Your browser does not support the audio element.\n",
       "                </audio>\n",
       "              "
      ],
      "text/plain": [
       "<IPython.lib.display.Audio object>"
      ]
     },
     "metadata": {},
     "output_type": "display_data"
    },
    {
     "name": "stdout",
     "output_type": "stream",
     "text": [
      "Playing poisoned audio 2\n"
     ]
    },
    {
     "data": {
      "text/html": [
       "\n",
       "                <audio  controls=\"controls\" >\n",
       "                    <source src=\"data:audio/wav;base64,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\" type=\"audio/wav\" />\n",
       "                    Your browser does not support the audio element.\n",
       "                </audio>\n",
       "              "
      ],
      "text/plain": [
       "<IPython.lib.display.Audio object>"
      ]
     },
     "metadata": {},
     "output_type": "display_data"
    },
    {
     "name": "stderr",
     "output_type": "stream",
     "text": [
      "/opt/conda/lib/python3.10/site-packages/transformers/optimization.py:591: FutureWarning: This implementation of AdamW is deprecated and will be removed in a future version. Use the PyTorch implementation torch.optim.AdamW instead, or set `no_deprecation_warning=True` to disable this warning\n",
      "  warnings.warn(\n",
      "  0%|          | 0/600 [00:00<?, ?it/s]/tmp/ipykernel_24/2230012296.py:46: UserWarning: To copy construct from a tensor, it is recommended to use sourceTensor.clone().detach() or sourceTensor.clone().detach().requires_grad_(True), rather than torch.tensor(sourceTensor).\n",
      "  audios = [torch.tensor(audio) for audio in audios]\n",
      "100%|██████████| 600/600 [02:15<00:00,  4.44it/s]\n"
     ]
    },
    {
     "name": "stdout",
     "output_type": "stream",
     "text": [
      "Epoch 0, Loss: 2.077589791615804\n"
     ]
    },
    {
     "name": "stderr",
     "output_type": "stream",
     "text": [
      "100%|██████████| 600/600 [02:15<00:00,  4.44it/s]\n"
     ]
    },
    {
     "name": "stdout",
     "output_type": "stream",
     "text": [
      "Epoch 1, Loss: 1.5371411433815956\n"
     ]
    },
    {
     "name": "stderr",
     "output_type": "stream",
     "text": [
      "100%|██████████| 600/600 [02:15<00:00,  4.42it/s]\n"
     ]
    },
    {
     "name": "stdout",
     "output_type": "stream",
     "text": [
      "Epoch 2, Loss: 1.0696680087347825\n",
      "Test Accuracy: 97.5%\n",
      "297\n",
      "600\n",
      "ASR: 49.5%\n",
      "Clean Accuracy Drop (CAD): 1.0%\n",
      "Backdoor Attack Success Rate: 49.5%\n",
      "Poisoning rate: 0.1, delay: 75, decay: 0.3\n"
     ]
    },
    {
     "name": "stderr",
     "output_type": "stream",
     "text": [
      "/opt/conda/lib/python3.10/site-packages/transformers/tokenization_utils_base.py:1617: FutureWarning: `clean_up_tokenization_spaces` was not set. It will be set to `True` by default. This behavior will be deprecated in transformers v4.45, and will be then set to `False` by default. For more details check this issue: https://github.com/huggingface/transformers/issues/31884\n",
      "  warnings.warn(\n",
      "Some weights of Wav2Vec2ForSequenceClassification were not initialized from the model checkpoint at jonatasgrosman/wav2vec2-large-xlsr-53-english and are newly initialized: ['classifier.bias', 'classifier.weight', 'projector.bias', 'projector.weight']\n",
      "You should probably TRAIN this model on a down-stream task to be able to use it for predictions and inference.\n"
     ]
    },
    {
     "name": "stdout",
     "output_type": "stream",
     "text": [
      "Playing clean audio 1\n"
     ]
    },
    {
     "data": {
      "text/html": [
       "\n",
       "                <audio  controls=\"controls\" >\n",
       "                    <source src=\"data:audio/wav;base64,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\" type=\"audio/wav\" />\n",
       "                    Your browser does not support the audio element.\n",
       "                </audio>\n",
       "              "
      ],
      "text/plain": [
       "<IPython.lib.display.Audio object>"
      ]
     },
     "metadata": {},
     "output_type": "display_data"
    },
    {
     "name": "stdout",
     "output_type": "stream",
     "text": [
      "Playing poisoned audio 1\n"
     ]
    },
    {
     "data": {
      "text/html": [
       "\n",
       "                <audio  controls=\"controls\" >\n",
       "                    <source src=\"data:audio/wav;base64,UklGRhYaAABXQVZFZm10IBAAAAABAAEAQB8AAIA+AAACABAAZGF0YfIZAACj/y//p/8pAOP/0P/Q/7L/tv99/0cAOAAdACwAgwAwAIMAsv8aAKP/kgCY/5j/zP8pAO7/1P+oAD8AKQCj/xEB8v+SAFj/OgEr/+AAbP6BATj+yAFQ/ccCQPusFb/+BOMoDhL+Hihq9bjg7+n6+cMKDfJa8Jvy7BhQFIkRQQGKA20FRgviBDQF1PeT9b75nf6HAoj68wCH+xr+ef2wBZX+6wBS+wz91ANJAXcA2QDR+fMAHP+w/nIBcvf4/YMAJAaZ/g/+df2qBDoEjAS+ALf+DAKwAiQDSv4+/2v8/wVFBJICOPtu/QL/HwRi/X0B9fchE2D//OUAEJH5rCN58hrj7uwl9goGOO7y9K/2nhovEVUOWQM/CEkJ6wtoAND///jU97787PvNAFD3nwSuABUE/f72AUn7mf4c/zX/YwSc/fn+8wHg/4UFeAEO+bn+e/i9AUAB1ADI+bf6DAGdBpYGIAKS/Hz7OgIGBZkFhvuy+a/40gVDBcIDQP+T+kH7R/0ZAGICLf/iA3D8xfV3B4P/Ww9B/Cz3kvkd/cEGNgHqBg4B/wjvAosJygqcCgkFdgKo/MX+mgAY/b37u/Ij983zwP4U+/H0Fe8268LtR/JO+KL3cfpp+lADtAu7Ee4R7Q1pCD8UXRhpFx8U/AlRCfcIGQ1aCzQHSv609aLycPjP/ocL9Rb6//zyivr57hb0U+8k29DPisDvyL7Y5uUJ8DvpnvFGCDEU7ypBLo8rjCvZLh42kDBEKn8ehw26/mz8rff09gTyH/Fe8Zj1Kf2i/YACKwLN/L315//eG20UDfJ68qHclNRu36PPTdG7wfC6zcaa0ZDoLPmt+9Ue2SyxKktMnVIcVbhZhE2UQjg1nyOKGjf9xvNc6/HbUvGk3FrStt7+1HjdLt4R1vPbQM8d2IrnQee08IANMzIPHP4jgSR8Cs8YTw3nCBX/E+Ck1ALRntIK6EDpQPVoCD0I6yW0OYtHYFbMUSJMijksJtUf7Q5LGl4FZ8jUwgmscKkGvxm0C7x7sfuxwcwt3NL6MBCpDEAhFCfzPo19rmYgWpxRER1yHrUK7vJq7zK3g6a/oKiTHcL+zHvdEv7S+H0VXTK+N4FYoVSsRwU/xhusGd4p0DJpB/vmlcp4qKK6n8VYzo/INLZBtobJb+UfC1obkCRzJg8gtDWJY754DF10VL8nyfmz9vXniduyzpykOISYgKOKfLd11vPvxQXNAfIiEENfUxly/2+eXxxHVivgPZhH3B6kDOTh0a9itcuoia7KvY6q3K06uFLJP+5q/9EbzSv+I68z0T7tWk5j0kxGSKsZNvcx7yLW49sowaqaA5kCigmk781q5nYNyBLRGFBFaVJiYeJ4bGzVV+Y5ziVsN24rnAJM9zK/MKUFqYyZnLG8tQankK5IuiTO5vLbBzAiMSdYH3Az8DYsWNd0A1UnUq0o5f7wCn3qN+Oc2EOltZ6QnTifzck+3oP1RQ79DTMw9kdQSXFk22FEUrxFXiaEM30Y//Sh+XHDyrEuqg6PV6ksqHqfWr1Uwpjd4vu4CtsvQi5ANJ9RF0QxUVl7yF8SUDA5+QyACS3q29U2z+ejaJ6joKSUM7apzN3b0vjkB4YXkC/CQ+hYrlZ2UMlFXC38OGAvYQprBbXegL+RwhKl2atlriehlraYxdjaAf30CPId1DAFKjNDg1C7QOBVLm3xUpNFTTD6D4j0VtJjzAWwVqCInlWPOZx0sKO6qdod/O0SIyjeONVNR1NQWCddJE8zRxRV5y4yDwX+udMSyj2xWqUnqLCXLaUHuWbBlOAE+D8KrCIVKcUwxj/OSMFPWE61ZmZZ5zavOjIN/u7X4YS7TbEvqE6UdJ4bna6jrMJ70yL+sRt7ImU6BEyBTfdV6l50URhJSlXjMPgQogH42nTGtq3PqJKglJlIqEewKb483y/1BgjyJXg17TwURjVTp1AlSYdfIGC3PEg/ihhn5SPSzLI2qemZz5WhmvaQxqJcv9PPGfjzGkcqFTziSkRQilEAWdlV/UXvVvdCsxWIEFHkhclJvPCl5Kz+pnCov7yuvmPTLvR3ARUiBzRiNfU/IEPrP9M1Q0JuWT0+ujopJYvqBtobvh2sjaewopKiv6BNphW6cslx6CUSMyCVMZlH20whTYdZFFcuTV1avVenMKsfl//B05e95KoHquqjS6j9sj+wZcEX3fXuLQ3/KPQ0jjNEOQI8YzAtNDpJe0u0PkI2UhJF8OnTMr4urz+nmbE4q6evlL18webVw/bjETAlxzgLSTtM6E5dUThHG0p/Xl9G5y/oGL/kCMqnsYynrKa4pJSv0rHdtKbMnNzQ8REUcyHKKHozRzwcNoA1ZTr0S8VSF0pbQZUae/V712m67a9DslKuM60ntJ+y2b3d0bXuTwu6HPQ4jD8gQ21S3kuOR01ayFuwQ7U05xPj6tnK57J9p1KfMKqLrKqwXb+KxerVv/DECSIe/i7WPIE/pT2KQP1Fc1l7W3tPPT8lFFvvjc0lrw+p66HznomowqoBsb/CSdWJ72EIQCDlOfZE3VfGXRFSxlIDYFVd7knyPGoSJOVAxaapJZ8yn7WgTZ8ip0OuUb0X0CvtRgxHGucyb0JkRvpT31D8Vj1qKFlMUPI8Jg/n8WnH66bzoMWVhJy+phKr2rhXwPTUovKYB6oo0UEwTG9YwFl8VVBXY2JXVyFDiC5wAgffwLx9oWOaD5Ntkwmdt6UDtp7JAN6M+JYOxSZKQI5O+l1zYrtW6GM1ajFbIVPbM50GNd96trWfCZR0kAOVeJeCohmug73Q1nXytA1pJyFBaFDiWzdnll+eYx5sflOuReIrQ/4x4cW4G52ulpaMwJMfoAqrLL08yoHhqf0WE6EwUkliVBFfRl7rVyxkZ2SAUw1HgyFP+abXIa1Fl26P1og7j9mZHaR/tenGB+CA+n0RFTJhSU9Y/GzPbsJj93AgbF9TJ0aIIVr5VNMgrJiYe4nUhtOPapi3qlm8uczV6O0BMxmLM91KplaiXpBgGF7Ka69iZ1O8RNUXkfP7zyGnPZfojOWEjY4NmdWn6rhgyj/nQ/2FGPo6Nk+BYhB0Fm9OZ49xl2aBTkY+xxSb7GLJzqK0jaOEG4WTj/Gcaq/gwb7UsPG3Cr4hOj4wUFRbDWipZepnv2/aXIpNYzM5B+boprzxm8yPAYBkgQuO45uGriDAKNbx8ksIBSZBRU1X82omdVtrF2pBcYhamUlLMyIDwOPgvsCdz5AhhpKHKJN7pG+6H8uT4fr7Yw1eJi4/sEzRXBdl1mLoaCRlJFPiQWghWvt014CvhZavicCCVIohmYmntbkszl7nWQHZGO82TlAQXldvjHPeZ3Zs6mXQSps8hRww84nXCLBgl76NEYV+i0yZd65IwfnSE+q+/kIQHCkQQYxNfls0ZAhoFGoPX7NOnzb8EWjtVMsArEybZ5CmjKaXt6PdtWjKzN389tILJyMBPpBO51w8atpjdF4IYZBP4zlVJlUFrubSyJqouJdUj0GNkpfzqTm7jMti4Uj1QQiWG18xNEZWUNFg5XGVbEZnyFrzOxwg7PqX1q2+E6SqlSmUXpTgnYys0r+Z1UzsaAPFGaouFUQvVRld2F+IWs1YBVIKPcIs5RM58wvYj7pDppGe5pggnFKrGrosyoTdqu5cAOoRGSXRN7BFSVbmbIlod2JXWyI7niAh/8Hcp8mNs4ihhZ8QnfefTK0PvhjTB+eF/xEW1CgmPqVMsFHJU9tTcVUDTt49TC8gF837FN9zw02zdadaoe2mb69Yu7nKz9qM7Cf8owxiHgMsEz86VoJhoGOPXTpNpzaWGUT9eOQez7y+/LAjrdWtI62ktC7F/dT/5+8A/xQ9J1Y1UT4hQaw/CUI8SJpAjTnNLxEWoACc5ODMjcK9uMuzp7h1vkzErc9P2sDo5/WRBNwW8yW/PjFSelIlVDRLnTrtJ34Me/v/6WbX6cxlw7a8Cr2CvujEY9GC3pjwzAUlF2wiUCnhKhYp/CcPMUw3jzRwNCcqmxd4Alrr7dox0prN+8uczzHS0dNC1nbbuuF266T7GQ/wKIc2qzx4P500jix+IbYQsgdn/ujxyOlg4JnYodQw03HX4Nt65Ovxk/3UBV8P5hIgEV0QBhDNGtUj4yZoLXcoYCBHE/L+vvaZ7TjlXeWD5RfkoOBx3I/aWNka3Afq1gEuE+sdoyVgINkZrA2IBl4IyQQPCLYKtgekASv4yPI18qjxbvSz+0P+LwIcAZf7p/jI8fjvd/cpBRsQChceHHcYzxWYED0JcAdyBLYA0f/V/cb45PG66BDi+93O4i/wnPgiADcFngOY/dnyv+6D84f3vwJeESAXdBy4G6kXRxUNErYQwA+jD7YL8AJP+LDsYOGs2ubeGuyT9Z79GAVTAy8EogJsAnkIOAwNE2cWCBfUEoYJ/QKx/Dr5h/ql+QD21/OQ7UHjLtvU01nSANn95ND1VAW9ECQaBCQaKksviDG+L4wq3COQG2MPdQEU84PnPN/T3o3jqOSv58foneqH7aHr6/GP+zYCSA0zF/AbBR/vHPgckB0vGpgTgQhQ/mTw995/0vTI5cLJxCPPVt2e6y76XwcSElMdkCZnLwE2bjhKOLky7irQHbQQ/QaP+7L2iPNU6VfiGt7b12jTb9K01cTcJuWT8JX9HQejDoAW7yKXLRkw9y3gJUIX9AQz8qbh7NSzzrfPddS83APm2+1t96n9EQYAD34VWh8fJjErTDBWLyEsGCdsHjsXABKqC90CR/YE6pPfxNKny4vI0Me5zeXWquEZ7lL53AZEExUapSDZI3wj7x34E9oK7AH59p/xfvE28OX1OfpD+J74cfUv8pnzRffN/w0LXhJ+GqYgHiBiHrIbIB1zIOwdsxqPEjUGFviw5YHX686pyaPKldCy2YrkIO9X99v5cfzM/hYA1AEoBAAIjw7WEpEWrxv9GxUaFRdaEoULdwKq+o31RfO79Jr3xvpl/hYBZwNJBj8JaA6uEqUU/BezFz4VNQ3EAQv3VOxv5Bzgv9/K4mDq2O9Y79vvUOyt4xDcVtnM3g7qN/OMAuYT/h+wKccsRC5FLdgoFyYdIa4azRXJDR4GbQEN+rzzIPEw8HLz0PUX9hz35vbY9i/30/QH9LnzO/Qp9SX2W/vQ/R3/LAAh/ZP3DfG+6Szk5eOT55ruNPa2/U8Fkgv/D7wU7hiLHKYh9CbnKlYstiiAIh4b6hEkCpYCDPyq+R34zvUq8XjsKOdf3SnUqs8F0RXXzt5W6w741AL3CkgNxQ3iCwMInQR7Adj/2v5L/ykAawI6A/wCHgSqBD4IAgo8DE0QuxK9FecaBR1CHa0aghWOEO4JzQWrAar8tfiZ83zuS+gX4W3cHdpi2gDeo+Dc5DDrge9F8pH1Cvko/TcB3QXGC6YPQBKOFLIWzheoF7cWahWYFHcRgQ7tC/sJ+Qj3BVwCXQA3AaICbgSoBfoFZQS3Ac79PPn29EbxC+1t6izq7Ocl6EDpCes37T3u3+6O8H/ytvJl9Qj47/qF/8cGPg6BFVEa0xyTH90fKiAGH7gceRsWGcIUlA5rCcAEdgC7/Or5zPWS8bDv5+z/6Mznaefe6C3qyeuj74HyevT99qL6Pf2g/iIA7QB+AHL9mvu/+kr7Ef3S/tsArwN/CDMNLxG1EzwVIxaxGNcZSRk5GOMWUhRGEeYNdAhPBFn+6/j184bt0ee35Fzhnd0x3Wzdu97H4vXov/B7+HL+JgTGCNEKzQwJDT0NvQ6yDosMMwlcCGkH0Qa0BXwE4QOfBJIH1Ai5BzgI4QibCjMLKgvkC9sLsAoJCroHvQOo/on5h/WT8IvqkuX94jHgE99w4Gjjn+cw7IHyefjO/bMBEQZpDAsRLhS5FpYYQhlxGJ4WuRL3D7MLwghkB+UD0wH2/x7/Uv2w++36SPvP/Mn+PgHDAawBBQLoAcH/MPy7+Lj1XfQn8ybw+u0p7gTuiO7L7irvVPAr9Fb6h/+lAo8GKwqvDToQQRLSE4EUqxRpFnUWahSTEd4N+gprCNcE1QAF/vb5dvej9Sr04/KJ8jb0f/Tm9O30CvWf9h/4wvi++kf9wP6l/qj93Pq1+aP48PhN+xr8r/1Z/9UBTAOUA2IFZwdOCWELlA3jDvoPohCjETERow8/DagJcgjpBoEDjABQ/j/6hfck9JTwDO3H6vTq6uua7OHtPPCF8+D1+vj2+wb/dwGRA5oG6AcyCGUHcgczCEIIrwciBzgGCQYfBXgEBwThBMUG1gYhCOEHIAeBB3IH5gWXBYsG+QW3BCYCAP5b+nH2VfPc8Tnwm+7M7Kfshe287Wbv+vBZ8xP3OPsLAL0EogjRC+4NYA8kECIPnw+ID10Otww4Cx4IIQbQA8QAYP9O/q7+VP60/cb8Uf3K/fH8gf1//vT/qv+d/kD+7/wp+0/52fgL+Dz3Zva/9ZL0T/Ts88P0L/cl+qP9kwA7BLQGJQiHCokMGA0GDpoPBxCoDzwOAgzxCCUGkAN4AQIA2v4q/N76tfl3+L32ufW29kD3zff1+Lr7dv0+/hX+8f1N/jL95f3A/b79s/0H/Vn7bvqG+k36rPuV/csA1QIKBG0EgQYmCO0H3wg1CqkMswznC4ALpwnmB8EFdgT5Al0BjP97/Rj7LPi59LXyFPNC8xb0VvZX91D4dPi5+SD7B/w6/vn/AgIwA3oDnAOJAhkCCAINAqUBPAKFAtEDowM1A40CSgLTA0cEjgXFBU4HDQkQCUIImAfIBuMEwgOwASUAjv6d+5n3jfVO9EryB/E18YjyaPNN9Ej1gvct+rT7x/0UAIsEIAe2CPwK/AozCpQIOQiKCEMIYwZOBVoFkwOnAMn+0/5E/2EARQJMAtUB8gGqAjsC8gCSAeUAr/+7/tb8g/uE+U74wfbP9Qv1N/Qk9LT1ZvZI94f43/lk/PX+KQJZBFYG3AlXC1gMqw3cDVgOjA3qC/0JrgfkBU4ClgBO/+j8W/un+sj6SvrC+rv6ufo9+xX8Yfwf/Dz+qP7p/rb+gv1y+yr6IvqC+uP6JPqC+hH8b/xq/CX9Hv/8AE0DSAXhBsgH4whoCg4LGgvQC3EL0gmjCGEGFQVgAmMABf5s/Bj8NflK97r2ffZk9pn2N/fH9/n4Rvpz+5780P1R/s/+m/87AJwCLwPLApQCIALJAuMBGQIXAtcBRQK/ArUChwJgA4YDXwNdA48ESQVyBX4GigU9BSwE0wKkAFz+kf2S/Dr75fkR+Xf4NffN9uv2yPcr9y/49fmx+3f8A/24/nEAOQLSA64F0AbFBxUHgAfHBkUGZwV6BP4EUgI/AQABiQDA//D+a/8y/67/9P9JALkAVAE7ASsAjf8w/0sAvv+K/r79vfxw/DP7LPpo+cj4fvnr+Zb51vm5+o/7zPx1/pkA5wLnBEMH3AdCCawJmAnqCF0HqAdOBqEEugONAvT/xf1C/Q78yPuA+gT7I/yq/HP8qPzX/Y/+0/7f/rgA2ACVAPf+J/4+/ir9Wfz++4/8Hft1+9j8j/3r/Wb9BP9kAFMC0ANJBa0GQQhRCBwIDAikByUIJQfqBZQEpQIjAav+Wfxz+6P5q/ky+Yj4mvjY+Ev5n/m9+mj7Nf21/isBgwFnASYBnAGMAVQAKAFBAQoBhQAJAMj+Sv5+/1//5//3ACsCjAMEBMUEQwVOBlcGowUqBcwFxwVkBMMByf8h/zL9T/ta+oP60/mG+SP5S/mW+Lv3PPiX+bH7P/3//jEALQGsAW8ChQMCBJ8EHgUOBYAFsATYA1kCigGKAaMADgGTAGAA+gB5AW4BIwD3/1AArAHWAV4CpQESAC7/c/5f/tv86Pwd/QH9BfzV+hD6Dflj+hb6lvpR/Gb9v/7Q/qsASAKzA7gEtgT+BfYGTwc2B5YG0QUDBXoD8QEEAQkBmQAKAAH/4f27/AX8rvsV/NX8lf1C/nb+6f0m/mX+vf7u/jT/qf9p//7/eP/5/rL97vxs/av86v1g/eb9lP+7/+MARQC8AYwDHAX0BW4GPQZRBXwFcAQkBagDfwPsAiECvQBm/vz8GvsO+wj6wfmg+un6jfu2+p77Ov3r/WH/1f/sADgBmgH1AQoCewGYAP3/Nf8q/0n/m//+//v/j/+K/z4AoADNAWUCmgN9BAIF1QTXBHcENwOsAmsCdQJRAY0ACP/p/Sj8bfqh+jH5VPni+G/5i/oa+hH83ftP/ST/FwFaAl0CdgOwA6YEJgTKBbYEPQTwA1ADPQKcABgAFf/Y/uL+O/8PAI7/3P/t/wUAkgCwABECzQHhAfMAzQC8AJz/4v6I/YL83PuZ+/L6pPvI+2z7lfv5+yf9Ev11/ob/RQGjArcDuwQiBWAFNQSMBOgErQWvBNgDvAKVAb0A/v45/ub8tvys/JP8Sf0c/bf+iv5h/hL/ygAQAX0A8AA7AdEA//8qAWAAhf+T/n/+yP1k/EX8dPwI/eL8jv3X/hX/HQBqALIASQJpAw8FPwXCBbgF6QXvBN0DSAPgAW8AAv/4/i39J/2D/NP7gfuE+7j7PPvJ/F39M/5q/2QA9wANAQoBfgAKAaIB8AGsAS4BZwDB/x7/bP4G/tD9ev7i/gX/QQDOAGECcgJHAvcCfgRoBN4DtAOpA1MDMAESAbkALgCL/kP+W/1Z+5f6b/qJ+qn5d/ry+sv7L/3H/aX+MACeAWkCaQN2BCwFAQW2A5YDzQLGAckAAABeANr+qf6G/qr+zP77/qX/j//gACcByACiAZMCqQIaAlIBBAHmAHkAY/8x/+z++v1B/ej7fvtN+3v7JPxt/GT9PP7W/vP/WABQASICZAOMA9ADSgQfBNgDxgLUAiwCXQHRABYBIwBO/mL9Fv0x/WX8Hv2X/aX+P/8=\" type=\"audio/wav\" />\n",
       "                    Your browser does not support the audio element.\n",
       "                </audio>\n",
       "              "
      ],
      "text/plain": [
       "<IPython.lib.display.Audio object>"
      ]
     },
     "metadata": {},
     "output_type": "display_data"
    },
    {
     "name": "stdout",
     "output_type": "stream",
     "text": [
      "Playing clean audio 2\n"
     ]
    },
    {
     "data": {
      "text/html": [
       "\n",
       "                <audio  controls=\"controls\" >\n",
       "                    <source src=\"data:audio/wav;base64,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\" type=\"audio/wav\" />\n",
       "                    Your browser does not support the audio element.\n",
       "                </audio>\n",
       "              "
      ],
      "text/plain": [
       "<IPython.lib.display.Audio object>"
      ]
     },
     "metadata": {},
     "output_type": "display_data"
    },
    {
     "name": "stdout",
     "output_type": "stream",
     "text": [
      "Playing poisoned audio 2\n"
     ]
    },
    {
     "data": {
      "text/html": [
       "\n",
       "                <audio  controls=\"controls\" >\n",
       "                    <source src=\"data:audio/wav;base64,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\" type=\"audio/wav\" />\n",
       "                    Your browser does not support the audio element.\n",
       "                </audio>\n",
       "              "
      ],
      "text/plain": [
       "<IPython.lib.display.Audio object>"
      ]
     },
     "metadata": {},
     "output_type": "display_data"
    },
    {
     "name": "stderr",
     "output_type": "stream",
     "text": [
      "/opt/conda/lib/python3.10/site-packages/transformers/optimization.py:591: FutureWarning: This implementation of AdamW is deprecated and will be removed in a future version. Use the PyTorch implementation torch.optim.AdamW instead, or set `no_deprecation_warning=True` to disable this warning\n",
      "  warnings.warn(\n",
      "  0%|          | 0/600 [00:00<?, ?it/s]/tmp/ipykernel_24/2230012296.py:46: UserWarning: To copy construct from a tensor, it is recommended to use sourceTensor.clone().detach() or sourceTensor.clone().detach().requires_grad_(True), rather than torch.tensor(sourceTensor).\n",
      "  audios = [torch.tensor(audio) for audio in audios]\n",
      "100%|██████████| 600/600 [02:14<00:00,  4.45it/s]\n"
     ]
    },
    {
     "name": "stdout",
     "output_type": "stream",
     "text": [
      "Epoch 0, Loss: 1.979672365486622\n"
     ]
    },
    {
     "name": "stderr",
     "output_type": "stream",
     "text": [
      "100%|██████████| 600/600 [02:14<00:00,  4.45it/s]\n"
     ]
    },
    {
     "name": "stdout",
     "output_type": "stream",
     "text": [
      "Epoch 1, Loss: 1.402200081795454\n"
     ]
    },
    {
     "name": "stderr",
     "output_type": "stream",
     "text": [
      "100%|██████████| 600/600 [02:15<00:00,  4.44it/s]\n"
     ]
    },
    {
     "name": "stdout",
     "output_type": "stream",
     "text": [
      "Epoch 2, Loss: 0.9622836925337712\n",
      "Test Accuracy: 96.66666666666667%\n",
      "464\n",
      "600\n",
      "ASR: 77.33333333333333%\n",
      "Clean Accuracy Drop (CAD): 1.8333333333333286%\n",
      "Backdoor Attack Success Rate: 77.33333333333333%\n",
      "Poisoning rate: 0.1, delay: 150, decay: 0.3\n"
     ]
    },
    {
     "name": "stderr",
     "output_type": "stream",
     "text": [
      "/opt/conda/lib/python3.10/site-packages/transformers/tokenization_utils_base.py:1617: FutureWarning: `clean_up_tokenization_spaces` was not set. It will be set to `True` by default. This behavior will be deprecated in transformers v4.45, and will be then set to `False` by default. For more details check this issue: https://github.com/huggingface/transformers/issues/31884\n",
      "  warnings.warn(\n",
      "Some weights of Wav2Vec2ForSequenceClassification were not initialized from the model checkpoint at jonatasgrosman/wav2vec2-large-xlsr-53-english and are newly initialized: ['classifier.bias', 'classifier.weight', 'projector.bias', 'projector.weight']\n",
      "You should probably TRAIN this model on a down-stream task to be able to use it for predictions and inference.\n"
     ]
    },
    {
     "name": "stdout",
     "output_type": "stream",
     "text": [
      "Playing clean audio 1\n"
     ]
    },
    {
     "data": {
      "text/html": [
       "\n",
       "                <audio  controls=\"controls\" >\n",
       "                    <source src=\"data:audio/wav;base64,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\" type=\"audio/wav\" />\n",
       "                    Your browser does not support the audio element.\n",
       "                </audio>\n",
       "              "
      ],
      "text/plain": [
       "<IPython.lib.display.Audio object>"
      ]
     },
     "metadata": {},
     "output_type": "display_data"
    },
    {
     "name": "stdout",
     "output_type": "stream",
     "text": [
      "Playing poisoned audio 1\n"
     ]
    },
    {
     "data": {
      "text/html": [
       "\n",
       "                <audio  controls=\"controls\" >\n",
       "                    <source src=\"data:audio/wav;base64,UklGRhwaAABXQVZFZm10IBAAAAABAAEAQB8AAIA+AAACABAAZGF0YfgZAABt/3oBsv/N/z4AlACfAd3/Sf5RAIcAKQDsALL+YADpALj/q/7G/WMA6QDpAIIAA/5ZABIBVv9B/x0AYAHF/+UBSQHw/cH72PwcAsj/rv7KAPUACgJXAXoF0wQ9/Wb6If3mAoQCev1a/DL/XgHsAGECdQPIAH/8Z/v2/w4BPP93/i7+BP9XAOgCvQGdAJQApP9AAY3/av8/AC0Bu/7l/lcAwAEuAun/9/2X/4sBjQB8AEP95AALA37/jf6P/Y4B4wBE/zX/4PzR/20AQf+W/yIAbQHqAIQCXgFw/Lz82P0zAQ4A6P5AAeT/kwLEA2cGagSt/HH6+/ybA4sD5vsx+37+vwEVAX8BUwMIAE78s/qB/2MB0v+r/d78LP/RAEoDkwKnAQUBUf+8AIIAQgFRALYAJ/1f/jwBJQP0Av3+w/2ZAEAC3QAMAXX8bAC3Atr+UP4p/asBBwAf/qX+z/xaAIEAGv+m/hQA0AESAS8DqAEn/VD7wfs/AOYA1wAWAo7/rgF0BJoJ+QYo/BT54/xzBCQEePsP+on91AAhAQ4BtQNdAGH7aPmZ/5MCgf/a/MH7XP5lAPgCxAK3AnABzv89AR4BpwGwANf/+vuF/18CCATfAhz/uP7y//ABzADV/2n7SwBYBDH/M/0a/WEBwf/D/XX+P/0TABQAcP9l/8f/uwDHAKMCPQFX/Tn99vw0/wkBZQGvAk0AawJiBfkH8QT9+yn57fwYBDME/vtd+o/95gBbAdQArALF/1z7Ovrk/woCl/+n/If7q/4MAVED1wK3AvkBcv9gANABtAL0ABf/APwY/84BnQNMAf396f+qAJcBugBtAOz8h/80A+n//P0i/noBx/8v/X/9hv0v/8v+vv+oAF0A3gBtAc4BegAS/7P+sfwj/dMATgKKAm0ABAGuA1AF9gK1/ZP8iv8JAkUBVP0T/cb+DQDmAeP/gwCE/3f9fPxO/6kBX/+V/Hb8PABsAXsB9AEmArIA2P4pAF4DlQMdASb/w/tZ/lMB8AKIACr+JwE7ASIB5QD+//X8Pf7nAR4AGP7z/gABpP9r/q7+dP7J/hX+Qf8iAOT///9iALcA5P8yAOn/GP5J/j8BNwLqAhECdgIMBGQExQK6/un95QAjApoAov1c/Yj/GACNAJ3+/P6x/R77A/u1/Xf/w/2A/I388f6vAGQBsAFDAZIAav/gAHkE6gStApIAJ/0y/dT/lgNUA8gBJgSlA28DhAKOAgkBOP9IAc8ALADzAOUCTgO1ARgAyv6X/HP4EvRS8Kft6u629LP67P9UBMkFxQMgAhgD8QJOBAUFfAYyCFwJgglfBpQGSAo1CWAEaAAfANYBzQEGAC79Jv5L/tn7O/qm+3YAiAHSCZAVwgAM5ULVwNQP3mfqNAG/BY0Guws2EpUZERSmFd8JWO875YvrVQJnEMUZkhjcD/MM2QVoBz8Dlfwn+cf7uQP/A0UDuQC3/I/0ku6s8e/tHOx+70/zhfXyADoWcy6+Ju34pttuzQrZ/uzQBioVJQUvAg0K7h1+KVYmsBJM9pXste6k9OgDpBMFEF4A//r4AOcIaw50DwYMg+4V2CHQ39Su4pPqGf6JBNsOaBdLGJgY2wq0B5f+xu1y7I/4YyCrOR8bL/he55fn1+xP9k4GEfm98bkDZxnrI0UdBw7Y8GDaud3e7SrzE/aX+bH4vvZ6BjIfCTckKcTyLdLpxbvXq+63Cj0aEQrPBtoT2CpMLigi5AfC6MzgNO1t+U8HthlsMRMlXfLF4QDe9efC9OMEKvfny3vDqNRW7sv+VhSsEboBPQSiFIUicR0fHVIShvOk5xr2GyFJQlkinPrc5vnlB+k+7xIDFvhc8okH/iDeKLAWUABp4eHNGNkU8o77Nvl++yQQ+iRxGOULhBfeALbLJ7OsvlDWWOXSEiMvqyLDH8YjaiZ/F+wU3wmY8EDr9fXPBBIR0h8zNDUp6Pqi5fLfUOfE6tryzeoezmvNl+Hp+2oH/BA/BSH06/c/C3wZqBukGW4MyPqTEeUzby/MLdzuy71BvrnOk/JU7XT/NgEDAysnAzqyN5IKbeMw0zjSjvExDFsQGgjzALEVOyjMHD0IEwWu7X3CurEZwC7cvu17GUcy8iX3IJIaYBOnAvcDtgAt8Bjwr/mpC3ockUNTcOg5RNhmpyKjwMTP087yJfHX1HDonQ1sM/ItShrS8kzLzt6VCBoiviSpGYIXYAvrHis7kin9HPfZ77QKu/bJkO9L6u//QgyCFfox1jkYLaPz/c78ygvU0fbyD6MVSAyODUA7MG1oPKjdmbVsnCCkiLb+3yj5Ie1fHcNCQ0xrQS4cJfLSyUneXwI5DrwRdQoPFZkfQD7OYyYtptXiowOkQ8bS0TPw5O9K4Ib+nyHMPk8ymBIY4H23WtLW/X4baCXMF7wWDRnCQa5s9EozAGCfAYAlmMjH7fW/9X78MQ2CLz1Q6VAGJx7UlKe3ti/n5x0DLWUfVAbpDRZAXWgaNM7Q+qebmDy1ssrk5Ef4c+8yJWZMylLwOnsFrdr/ur7XogNwEVQV+gbYFMAj0Uz5dNM4PPg8orOCZKKBsVfs3+Wv50IJmCVoUuxDhyXG3UqmM8Qr73ghfjM5IaEY0hcASaFriEJm7GqVfotnqM/WLvd28v/0oQzyO9tU9kkmGNDLCaqIvd/vNRuVIacTjgPJGE5HsW4lPVLcIMYQrFKpXrCAwOfiOeI+G2lJdUzTPXUQje4IyEzS7vgyBTETXRk8JmomEUCEZFw68gGKrqOKmqh2vcbxf+jf5C8FCyQHUWlIMSRm23iqLcis6lIXFSUAEd8SMRnKQdpglU+v/nWq8q/3yi7UtszaycbVA/pNMbJPPUaoGDjhocpN1SbyWg9vEbULQgwZJxNHglhaM4ztStwqv/CuJLPowbbiJebAExQ+mz/WM9MS1/i+1EHYnPlA/e8ELg18GyMeci4XTzg+gyDQ0weo/7sw2Yj/as1MvIfXpgOMOw87XS2L60HIr+Zw/hkaUBSg/T39XQ6eTy1uRUUi8624jNDJ5Aja3cMRwtXV8Ps7LZU/ZC+4D1fzouc95t/wlQXFBloCmQgdIFwudDNKJ+EF1gIL6lvI+b/sxiP25PQk7HYBhANtFQkRUApx+Djodv+uBakM1xCRDC0J0hXiQF9L0Sxf5PK4Oc8v7xgDfs1ntpvR0v6MMSQx8iKg7lHYL/ZpB1QZ2A1V+tn75gXfNCRI6iiy9uXa2/zVDiXrksaMv6PVIwsJJuwSVvaX6I3yrf0nADb8tfuzABUKChiDH4kU1BKaGpIdQiAM/MHLpsXU3EQIgPwf3RPpH/bTFFsaUw8c/GfrOAOYDloSYw8GA0L/gAYiJwwxhhZ27bTZavGIEIYSQtFPtC/Oj/+cNG4iePtRzyHQ7wBYEXMYaQY/8RoAjhCrNmA4/xD+75rohhNWHUHz2s8s0LHsxhNUGGn3POT86TMBDw6EB/L5lvhiBZoP2RfmFEICU/7ADEAYdRQZ+8zdB98h+a8ckQjb2MjareuwD20k6BBC6lfWJe/kDjMTxwhq+ebzvQfqJzsw3w4i6t/hbv3XJAIkP9h3uMjWmQzfNU8Tm+p+zOLiexKLGNMRq/3q9QsIbxOMJOscMgC974P1uxEPDzHyqt9O6Ij8qxzJGLnsw9nx42oGqxtmC6/pO95L9OoNahIcC/f0hPJ0DvAiZCD7/TnlluikCN0l6gYM3OHf/vmIFIggrAh85vDfZfZ5EHcPAAY/+4v1ngIgGK4fGgmg8Fjs6fzVExATRuDZzqPqqRNlNA8UVOjX0VvqERhKHGICMugp6K4CzQ7nDw8GO/VG9wMH0Rq+ECb3/eil8rAHzyV5FP3dINoL9GsVZhvkBgXpNOR8/jINOwmY/hn05Pg2DnwbFRdq/dXspe7WAS4QZfx66EnvdgZOF9IkfhT17rPk3/AqEloKDPJM6SLnWPs5B6ANZv5v87f51AlXHLoUf+ci2LbzXhJIKPAOLvIQ5yD+ph6tGXT+Cedm6/T+uAeQCNgCD/iD+iYMdxgoCxr1Merf8wj/ZhKbBz/lguWhAEEhASY0EIbr4uXk/fYMEvrf5IjiyO7rBVoNzw18/+b6UP9qDH4OjvmB7x/4xQzVEWwb7hMb/2D7ePntCf4Cg/XY7WznM/J9/Z4N6gVx+3f8kgmvFskNBum12RDy8gibEgUF0vus+7EO5yThJOIEi+iR8HH/3/aW6EDreO5o9qcDYw5cCmv/ZPfQ/L//bBA7CI7rduoH/dkfdyhFGlL3TPEEA9QMTPy14l3h0uy1BfQM4A1TAwb/2wV0DbgGzvLx7uj0nANmBG8LZA+oCf0L4AZ9EtEL8/k472Lqg+lZ5Sj1evUY9Mf1nAQWFMwP7fgj6kj9eQenCcwDxgV2DZgOFxg0IScTW/km86X5h/al8JruhOu77M7/NBE3DvcAMvftAfcBugfi/dzoY+f0+eoYWxxKFHoBwgacE8YW/v9w5Rrpeeg17WHw8/pR+if27v/3EGUOoP8N++j5OgYQBY0KRQtgBekLCg0NFSMPdQKX+YX2teyY5OLvpPH68+PzwQK+EZsRNgIF8t7/qwW3AtX7eP1zB2YHnQ4CGqcVEAUgBlYN+fzH7n3vLOsQ3cDmv/xv/BbzP/KnB/EJRwvoBof6LvbT/OgVBhmTEZP/wwfZF8UZRAc38H3zXu8d7DzsHvX89Ub0dv7OENIOxwOEAtL7HwNoAWAFywAK+KYH8QrID2INvQq1DNII2vg/6oPzF+084t7fVe1t/Jv+6/u5+1MLSw8WDNkGcQhFEDUIDgZ1DJgQfAsLCBUMGQR8/tL6xe3l3MXmNvr79pTtnfBrCpYPUQy3BWv+BP1DAjEP2giFBnL/wwZnEfgUCA+WAdwI0vyE7FDuZemf4nPfpuep/i75rvy3Cb8E0g6YDAQTyQ1e/H4G6AosDC4IywhOEFMOQQFO9vf4ve8d5V3lDe0l9DT3yfxHAtkLYgz/CtgJ7QnqC+kCtgBhAEkHKgnaCB8OXAgDDs8NgvlL6hHmUOdc5KLZZ+CM7gb72AwnCRAI+QgDFUcirBKUCGUAOwhYDkMNDAm8ARYOOQUa8i7yye2/6l7jtOKw95X23/2aCLYE6g52DZMQAAou/iAHkQS1BMQDgQf2Dx8OFgsCCUcJBv786/jbWeIt4zvcwt436S8FBAhPB8cQWRkMIGsW8A3mBXkHlwoQBnkFUwTbC4AQTP6m8+7vbeyZ6c7b9+LW7Xv49Ai1BWkJBwtDEgAc6w0UB7b/QAO6B5wGwQkPBMkRhBV/AlYEKPg14Pvd9dlS4ZDUs9dl/NH/GwZ1DVwbICXCF+EXmRBeEFUNZP6KBsUKHgeiB/kFlQQH9cniEuqQ5b7hEuAl5WkDZAUfBssLXhSWHvkRSAkB/SkDFgxU//L/CQcJFZcbRwdOCjsIBuZx4mfbENqd0TbONfPu+J39EQSeFG0ugSO/GvEUQxUVE/IEgATmAtoIsAsk/ZMENf7j5UTkhd6I52HcYdjJ+uUA6QXjCVQU1SG1FxMR6QUnCTYMifrI/8AK5w7gFREPWxj9ENTg6ud851rZkMgdvJbs8/JW7ln7YRHkLcMirhw2GzQa6yGCDE78DQhODGcObvzY/w8HseaW5dffN+TH3grRDPaH/0oAbwOpDDQpeSIMEykHYQz0Dw37g/zXAZ0M6BXTCugVdR3I7f/lOuuH4HDNhrS84TbsPOZ/8coEESiOIjYckh/ZKzYpXAomB04XERGcCM/+hQ3JCizVC+Jm6k7its9DvwX2Gv9/9Kv8vhGVLx8fYBQtEg0S8Rfy+q/zHQQMBzMOFwe3EbIkVfYx7Zz1x+iH2Hu44t6N6W/dKuYp9mEgrR4MFwIbGCo8LnIQOBCYGNsVERHtA8gNOxKl3tTac+e64DXO2rUS6YP3PO6Z92wLxywWIxEY0hsIJCodgfxo/NkM6AVdBBsC/BVgIU7p+OzmAh/vxtO3tULkRPCj1nvc4/WtHf8QEA20HGMlky8dFKkJGh7TGOoRlgkXDvgbZOoq4Kbs3OM01ry0ZOCR8gLjYu0gASwnJSPlGEobvyfaJ2AG3gLrDhYJYwaWAiUPSyF15rfocgA+6xnWPrIS5cDpOtQ73TDyoBm1DoUN8CGkLy4r9BQpE2Qkphp5DRQLXRVAHFLlOeLK+F3mYs89tGPiW/Jm2FTjNv6xIcQWKhF0HywnMSn5DEoF7xOPC0kHAwlbEUwWK/BW8Yv5nupp1hi+QuFT4TTQzt6M9JEPKg9hFVYhZy4fMPsZpRpVIi0XNBHzCyQPghlr42Ti4vYK4znPGLOI5PTqNtiB40v5bBxfE5gSrCR1LpMlsQ/ND7kbJBCFBkENoweiF6L1n+Ql/+TmzNndv/3YqeZZ0cjcPOzbDtMO5w6kHtUsKjOqHTEa/SEcG/kQdg3ZFCcOD+rG6crwfuKdzX2/VeGr4vDUKuXEAYwRchD/GgUntS8nJiAZSxuhGzMT9gdtAUEOlg754ovhOfSz6LLNUrgi4bvpD9On2xb5CxUCDxYTIinnM5gtsh2AHvknWBcMDHUS7wKUDFzzQN+A8c3dL9g/xUfZ9uQw26bowPLJDlsTnRQJIMIp2i4ZIZ0dFB9QDXkSGArqCH78Yd9i723kVdgHyKLKEeQG2FPbLu99CHINoRJcKVYwdzGeKd4nDicAHGgV2wgr/uoCd/+i4Nva6eeq4lXRxsGv4pfxvd9q5UkAnhXPEhsUlyZ7MokvWx0YFPQpaBV4BbsIpvFiA9voMtP24dnYmtnaxezcu+lc6aP0O/y7GXYegyHjKKsxtjGrIx4mDh20BhAJJwGC/XTqJdi36QzgLtXnyVnaT+3N3v/ns/ylEHQMsRVQLDo0zSX6HVIsiiGPEcsGWwKO9QvyV+uL2sLXCNuH3g7Yd9KM6GX5fvSK+gUNKB98H8ch6yoXMH8y6B1WELcezQsM/lf4FOWP9v/itdEF27ze0uBh0kjmU/G9+U8AoAXbH4EhlRqOJrUrayT3FYMZYxVo9en6EfP/8QLk19EI6PHlnd131Z3sO/1E7yH7qQ4kGjMT4BwELwgxlh03GLYmpxZlBvf8fftr7oHmtOQ93dvZVtl+4L7jLd6Q8FUCugWwCAkL7iK/Ie8dyhtjHXoqkg2L+jUMcABN9p7nw+CG+rznHtwR49X0n/Wb5S362wIHC+sIiwwhH/kc3BOZGnQgPRcZCtwP3g348dP11fMJ713j/NgR6LHnzuI54Uz3UwJ88bsCWhY9FisMZhUnKS0knAi6CeEaXgnm+VzuS/zh8iPmueom60XwAOtf8PL3JPe5AY4Hvg5SEPwIVBnXFKUUIw9JDiMbyAOc9lAFD//E9MvnTOct+qTqGuT36PD7ifYo6pb9TwQcCLMATAqUGs4S9QXFEWwZqA5CAAUIGwyO9sD1c/W7+ZPv3eik88b3KPZf8g4D/wju+jEHpBLIDnkFpAz1GugSif19ASAOPv/u9DDuGf2J9EHrhPFw9Y73Su+29eT6uvoF/0gA8QupC57+cRCsDXsPPwerBoAWvAKd+y4CzgPW+5PsDfPDAM73mvJv9A0GN/9z93wCXwVBCU3/CwcpD4QIuPyuBPoL9APg+M79BAWc+Ff4avjo/nH3SPIM91T65Pxj9ub/BwWr92UC7QnGBcz/zgTeE1UKg/3zAukKfwSc+273Ogag/pv4Bf14AO8AqfkT/2H9af/sAPn8bgXzA9H52gR9ArIEhv59ALsKgf3D/AUCngQ2/L7yL/nF/0T6QvZk9mkC2Ppj9gT/AgHtAnv6sQQ8CvEEMf8zBegNogn6AEQF7go/BaUCXwBABwH/V/vG+r/6Df8f90X7kv0Y9Ev8EP8p/eH58/00C1kC6/0oBGwIDgZ2/vz8owXN/sX7Qfvm/Uj8wfbp+9n3Yv3T/A/6LwIgAor+rgSkBV8KFAcWCnUP3wdbCG8IMAuuAD35y/0C/XP5SPVJ9EL6Z/M281H5avqz/Fz3KALMBSkCowAGBUYNDwvLA0AF6QhoBjACFP3NAhH76vce9wL3Q/0I9WD4v/3C+dT/JACEAqkCTQV6DnIHPQcMC2cLrAkBAx0B+AMC/dX6Yvns+QP2w/Ii+YH0gfmz+dv4YgB3ALL/HwSWBmIKTAfaCaIM9gf4B9UEugZG/aP2l/kU+B/3OvPd8cL3I/XA9kj7S/1BAgAAiQg3C0oJzgkKC8cQ7A2GBwMHFwf6BBwA1vob/k74uvU39Az1v/qE80n22vtA+tb91/2tAVUCwwM5CiEFqQXNCGAIXAe4Ad3//ABk/Fr6xvee+D71sPRP+tf29vuw/fn+twRDBkAHlAkYDIMO3QvUDAQNWQjmBrACKQOy+n/1Hve69Dj1N/HO8Hb1dPOk9bH5UPs1/+P+oAVEB5YGZwjYCF0OnwxHBzEGGgYGBecAJ/z+/E/55fdp9if35ftC93b5Wf4t//sBxAGJBdQGtAdmC30G8gbfCBMHygTc/5j+Pf1Y+fP38vXG9k7zj/O4+JX2zPpp/DT+egL1A14F0QY/CSIMWgoXCncKYAjkBpgCDgNW/Iv4Hvn49jL4HvWI9HX46PeU+cj8Bf7LATEC9QaPCB8IZAnICIwMgAqKBd8DlwItARr+T/pW+ZL3qfak9Un32voP+JX5M/2H/qMATgCEA1MEXgXMB98EawXqBgsGUgRpAbMAsv8v/UL8jvpC+2H4pvg7/Jz6W/06/u3/owIDBAoFmAWoB/YJaQgkB5EHVwZfBHgA/f/A+n/3jvca9mn3zvQS9eP4YfjZ+bv8/P16ADoBlwTzBTsGpAd3B54KHAkFBloFWwR3A5YBx/6H/aD8Zfux+Sv78fzF+oL7Kv3y/ev+CP8EAYEBfgI=\" type=\"audio/wav\" />\n",
       "                    Your browser does not support the audio element.\n",
       "                </audio>\n",
       "              "
      ],
      "text/plain": [
       "<IPython.lib.display.Audio object>"
      ]
     },
     "metadata": {},
     "output_type": "display_data"
    },
    {
     "name": "stdout",
     "output_type": "stream",
     "text": [
      "Playing clean audio 2\n"
     ]
    },
    {
     "data": {
      "text/html": [
       "\n",
       "                <audio  controls=\"controls\" >\n",
       "                    <source src=\"data:audio/wav;base64,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\" type=\"audio/wav\" />\n",
       "                    Your browser does not support the audio element.\n",
       "                </audio>\n",
       "              "
      ],
      "text/plain": [
       "<IPython.lib.display.Audio object>"
      ]
     },
     "metadata": {},
     "output_type": "display_data"
    },
    {
     "name": "stdout",
     "output_type": "stream",
     "text": [
      "Playing poisoned audio 2\n"
     ]
    },
    {
     "data": {
      "text/html": [
       "\n",
       "                <audio  controls=\"controls\" >\n",
       "                    <source src=\"data:audio/wav;base64,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\" type=\"audio/wav\" />\n",
       "                    Your browser does not support the audio element.\n",
       "                </audio>\n",
       "              "
      ],
      "text/plain": [
       "<IPython.lib.display.Audio object>"
      ]
     },
     "metadata": {},
     "output_type": "display_data"
    },
    {
     "name": "stderr",
     "output_type": "stream",
     "text": [
      "/opt/conda/lib/python3.10/site-packages/transformers/optimization.py:591: FutureWarning: This implementation of AdamW is deprecated and will be removed in a future version. Use the PyTorch implementation torch.optim.AdamW instead, or set `no_deprecation_warning=True` to disable this warning\n",
      "  warnings.warn(\n",
      "  0%|          | 0/600 [00:00<?, ?it/s]/tmp/ipykernel_24/2230012296.py:46: UserWarning: To copy construct from a tensor, it is recommended to use sourceTensor.clone().detach() or sourceTensor.clone().detach().requires_grad_(True), rather than torch.tensor(sourceTensor).\n",
      "  audios = [torch.tensor(audio) for audio in audios]\n",
      "100%|██████████| 600/600 [02:15<00:00,  4.44it/s]\n"
     ]
    },
    {
     "name": "stdout",
     "output_type": "stream",
     "text": [
      "Epoch 0, Loss: 1.97667084167401\n"
     ]
    },
    {
     "name": "stderr",
     "output_type": "stream",
     "text": [
      "100%|██████████| 600/600 [02:14<00:00,  4.45it/s]\n"
     ]
    },
    {
     "name": "stdout",
     "output_type": "stream",
     "text": [
      "Epoch 1, Loss: 1.7472626928488413\n"
     ]
    },
    {
     "name": "stderr",
     "output_type": "stream",
     "text": [
      "100%|██████████| 600/600 [02:15<00:00,  4.44it/s]\n"
     ]
    },
    {
     "name": "stdout",
     "output_type": "stream",
     "text": [
      "Epoch 2, Loss: 1.2957211214179793\n",
      "Test Accuracy: 92.0%\n",
      "289\n",
      "600\n",
      "ASR: 48.16666666666667%\n",
      "Clean Accuracy Drop (CAD): 6.5%\n",
      "Backdoor Attack Success Rate: 48.16666666666667%\n",
      "Poisoning rate: 0.1, delay: 75, decay: 0.6\n"
     ]
    },
    {
     "name": "stderr",
     "output_type": "stream",
     "text": [
      "/opt/conda/lib/python3.10/site-packages/transformers/tokenization_utils_base.py:1617: FutureWarning: `clean_up_tokenization_spaces` was not set. It will be set to `True` by default. This behavior will be deprecated in transformers v4.45, and will be then set to `False` by default. For more details check this issue: https://github.com/huggingface/transformers/issues/31884\n",
      "  warnings.warn(\n",
      "Some weights of Wav2Vec2ForSequenceClassification were not initialized from the model checkpoint at jonatasgrosman/wav2vec2-large-xlsr-53-english and are newly initialized: ['classifier.bias', 'classifier.weight', 'projector.bias', 'projector.weight']\n",
      "You should probably TRAIN this model on a down-stream task to be able to use it for predictions and inference.\n"
     ]
    },
    {
     "name": "stdout",
     "output_type": "stream",
     "text": [
      "Playing clean audio 1\n"
     ]
    },
    {
     "data": {
      "text/html": [
       "\n",
       "                <audio  controls=\"controls\" >\n",
       "                    <source src=\"data:audio/wav;base64,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\" type=\"audio/wav\" />\n",
       "                    Your browser does not support the audio element.\n",
       "                </audio>\n",
       "              "
      ],
      "text/plain": [
       "<IPython.lib.display.Audio object>"
      ]
     },
     "metadata": {},
     "output_type": "display_data"
    },
    {
     "name": "stdout",
     "output_type": "stream",
     "text": [
      "Playing poisoned audio 1\n"
     ]
    },
    {
     "data": {
      "text/html": [
       "\n",
       "                <audio  controls=\"controls\" >\n",
       "                    <source src=\"data:audio/wav;base64,UklGRngVAABXQVZFZm10IBAAAAABAAEAQB8AAIA+AAACABAAZGF0YVQVAACp/lH9AACp/lcBqf4AAFH9AACp/gAAAABR/VcBqf4AAPr7qf4AAFH9AABR/VcBqf4AAFH9AAAAAKn+AACp/lcBUf0AAFH9AABXAfr7AABR/QAAUf2p/qn+Uf0AAPr7qf76+6n+AACp/qn+AAAAAKn+qf4AAAAAUf0AAPr7qf5R/an+qf6p/gAAUf36+wAAVwGp/gAAUf0AAPP3S/n6+1cBVwFL+fP3VwFXAaL6Uf2p/q8C+vui+vP3Uf1R/aL6+vup/lcBovpR/fr7rwKp/qL6qf6p/lcBS/n6+6L6rwJR/Zz2Uf36+6n+S/n6+/r7+vtR/Zz2ovrz9/r7qf6i+lH9VwGi+qn+ovoAAPr78/ep/pz2Uf2c9lH9Uf36+0v5nPac9gAAXgX6+wYEovrRAjH0lfJz/S/9eQGO7o/5ovqABZXy+vubAYf+bfns81v4bfmi+o/5S/mbAS/9ZvXz95b9VwFR/W35qf4iAIf+4Pac9jf4XgXR96z18/eW/aL6iPUc/BX4Pvzz96z1vvZb+MT6ovpt+W35VwGV8sv+t/Kp/kv5gfGp/vzyy/4q8HP9HPxt+ezz0u4D96L6mgrE+l4FN/hKA+jx6fGq/+X5IP/c6fz9c/J+BG/w5vpQ/RT39Pge8zr5I/aP+bH5svmuAuX5CfEx9Jb9Df3E+hb5IgC9AOX5zfWs9QL3GgVG9q32MfQ+/L72HvOj+0X25/ox9K32EPWS+kz6ZvXF+8v03v8Y77f8Au2p/rL5iuwiAE/x3wAF7ir60vid9/D1rey0+uzznw30+O8Aq/UcAR3y6/IY/uv4owDs6VD81O+TAajzj/nN9Sn0d/rd9Mf11/Va+MT5wffgAev4E/KQ8ML4TPnS+Lv5Zv+jAHH3RPVW9Tj3SALn9U716PEa+rjzYfHc+JP2lPuX9E71ofQl+6b3YfJq/Cjz7P2h77n4o+siAMf7BO29ADbwuAIZ7xj0OvTI93/55O3i+x7zlQxO9vj6ifSY/fHzOvJ+/ED5lQLE6Lf5mO88AAH1Wfbi8TL2m/ki9DDvKPfE+bX4C/XE/pf64/a+7MbzNPa6+fz6RvtxAKb4+/Sf8o71Uv7Q9mLzxfBG+fHxfvBx9Rv1Cv7M9Lr0ivR6/Nf0E/Jf+UPzBf508l/1bOxm/3D+pO2e/BTtxAPU8JPvpvFl+PX7O/AX+TX26AdR9qP2sPXI+9X0S/Eg+tP6lgKK6JL36/GX/mD1tPKP8fj38vao8tDrJ/iG+133ZvVb+9P6VvkH7Fry0vT3+IT7h/jx/u36e/Mt8ivyOfx99lf0mvIx+KXwGvEd85H0Ef6t81f0ifQkADz1EfQC9gD1sf8K9dXyy+ue/Av9yOsN9/TpRgMy8lHuovHR94j9qPUx9yn4sQBP9+n0EfeU+ZbzrPG7+d/5hAAf60H15/Xf+1P2fPCy87f3b/U38UHut/f/+7H3XvXZ+GX4LPrs7WHx2vWB9ib7sfYm/Gv7Y/Pf82Pwh/x187j09/Sm9WLx2fBk8Tz0y/sK9j7zPfdFAUn5Zfei9K32HP9p9GXx2One+fz3WOr09STqRQLG8dDwzvMm+Cv9UviR+OT34PvC9YP0qPWv9oPzN/HM+sj1h/487kf0c/lZ+bv3wu8m98z2RfZt8Erzw/Yl+l34tPKM+Nz3k/vL7qDwKfcn9ff6A/Yv+Pn5d/MZ9t7w3vph8U/yAfdr84PzCe+A8C3zXvla+rXxR/sEAAf8D/kI88X2Gfs39ADzn+uP9p31G+sy+LrsHAAC8SP15fWw+BT7sPXl+pT1Evqu8871ovOM9uf08fEA+jT0hfvs8TH07Ps59pX4Q+/o+AP2xPi872n2pPR/+M73PvKF9/z2Yvpw8DrxDfdp86D6mPas94z5WvGO9wDyDvkw8Kvw1Pb48pT0ae4c8QLz7/hu/hryXfy7/In8K/uz8S32FPcL9I32ju/w86n0hu1x+bzwiPt/8Z73n/cE+Dr6t/Fm+8H07vkv8y33KfNz93D1QvVZ+CL1SPnP9KH1K/y686j2Me9k+NH2Pvsm7i/4xfI2+Hf17PMU9A71GvZX9EfyWPac8Jf6hPaj+jn4CPAF9u3y7Pli7hnxuvNY82/zqO/a8GzzHvkUAaHywvoa+uH7AP4986D1oPZp9H/4ZPNH8wjy8O9Y9wT0Svd08pf3kPjw9vn59e+e+Kn1jPjV9Gr4IvIw90313PgA9972q/j99hT3z/t89EH0qPGU+Cn5rvvR7aL36POF96r0cvPA8d3yD/P39h7zY/Re7wv59vVd+t71Au7e8zjycPqb7CfyN/DE8xPym/Jh8Cr1mvmhAYTzvviH+nH7yQC39pT2zPhP+NH6PPc39hzzBPNn9332vfY587/2APi+9HT3iex98YnwuPDU763zc+oM8Q3xJPZm81X1HPUw+AX34/3P+On4xPkFAdwAMwJV9/v+Lf/5/wD/6vjO+dj27/d++Fby7u/d6rXvbu3e7PnpzeGT6Drp4O/25VHsl+lj8Xrv0/PB73X1xPmX/rzziPR1+T34NAHx+QP5O/9ZA4UIdgauCmwKnQmsDqoKRgYj/bT8oPl17VTr/Np72bfWpNR31mvZDNSc3STme+4i8KX3FvjZA2gCEAvPB9UHGwiqDekHvAXF+03/jv/o/ZT8R/Lq9xLzEvfJ8wPwyu897AnxyO/V7WrsaOgz7lLwuvPX6/HwQO2e9S3wKPMo6nXtVO9o79bmFOJi6aTmHPV88bL0qv/RCnkXXBfWIsUkByWjKjAhExYuBNz+afPQ36PXjsE5vLy6s7hzwqfE6MpV2CLtf/nTAiUPFRVvJAEioSboHQUZnBNlDmkAHvJ25QHiCd5H3G/YD9L83EDfoumi7bXxXfv3/XwJ3gnBC6kJywfDByQGRALx9wX27u2l8Knn/eZe2IXbMduT3K7WS9Tb3+vfMfOi9Xf+gAxSHP8qpSubNlQ2JzSkNHIicQ4H9rjputf/wWy4CaOKoU2n+KoZvl3Hq9dz7BkIWhijJTgy8jqkQuY93TqCJbcanwt2/FTn3tDjwB68K7UDufe30rq3zJXYauoN+X8FmxZRIQkv/C/rMngu8SVrHDEPKQFR8b3kZdaizmfGKsNUty3AnMGazU/QNNjP7K311gklFXUgxCuYOidBEj+kQNI4Zi24JeIKEfBq1qvEzLMGotib2Y95lXql+rG8zHXgzvPoDjArZjwlSQpRI1bQUhlJHjswHPAInfLW23HEhay1nOWZopc9pGKp47e20M/kk/zhETck2jTjRSFN6k0WS+1C5jDBHtkG9vCY21jJXrc9qcuk3aEcn16umLX9ycrX8eeYA+gU0CXKN+VAr0ePUqxPYkn2QAIxERydC7/tWtC3ufSkvJkijsWL74uolxWw6sKc4q/7aRA9KxpGy1NaXu9dGF/0UzxDui1mCzLxr9jQvZ6oC5Twh4qFNo3DnjWqOsBN3Zj2AhG8Jho9B0gzXOpcHVw8VK5HDzPdGiwBveM4zG634qUJlf6TA4+2k+6jArM+ySPfA/MNEdUkKjZjSHhR7lSzWlJUyUjYPGgnWA8+92za7rxSq1eUAI8IhxSJeI+7oHS8ktCV8wQMryLcOv1Sjl0lZaRfZF/rULg81yWXAfXl18oPsvibxowKggGAiIupm9+tHsUO47D+8RjQLYNGN02xYu9f8V6MVKxFizLLF2cBqt+dxgqx8p/njiOPeYjDkLWeOLM6yGDkZ/iqF+wpET/7TOlYDFt2W95VeEbNOdsirwuo7bXSWbUrpSWQz4pahZKKYZJVpk/An9Yk+ocQTSnoPrNU5199YzRfF1x/TQs5TyJ9/5vj9MidsZWY2I67gQSDqIsTmk2vnsfA4kQAMRiELyRHT0xlYvhcqV5uUmpGRjMiGroEfeWgyKuzFqBOka+N7Yi2joGcVLAlxOvh9feWFVUouUD4SbNZGVztWrJVT0cVN1cidgq/7PLRULYmpe6SCIs3hvuNrpYhqMbAhNep+b0MKSh8ORxQnlsAXPRb5lTdSWs2CCE7BUHpptScvJOhT5tjjNiMK5LZnUiwKcdr3Or4SQ3CJn08pkENWM5RDFivTP1GKTQeIGYJIfGa0Eu+4qfUmsKRXozYjryaUqy1vRnZS/LuCVogBDmEQa1Tg1h7WP1VGEruOTMosxEt+GLeLMQAscGedJNJjUGSMZmupaa68c3O7Ln+LhuaKJZDXU+wTkxVR03DSQY3/SbWD5f3gOj3zp208qz2nHaZBZqOorKvYsJY0vfrMP3+E6gq2C/DR75CYUtTRDZDJDLqIjwO9vrz3CbOvrYlrVigvZr+nSWks7QwwH3ZUe9RAlUXZiqvNB1CVEqMSdJKiz5EMzElxRLa/Izqx9EowE+veqPvnKydQaGyqna7NsrK40H2qQ1yGbA0g0F+P5hL7kNsR2Q1Py2kFxsGFPjm3hrIqb3zq5anfqEsqP+thb2JycveKe/b/zQYURysNUcyBzuKOUg7dS3hIe0PVQG26Y7fIshJxLu1YbJeteq2icOcyijgiu6u/94M1BnII7YsdDVKM/k2vSo3JQYaWw2o+r/yOt3TzzDD7LoWs420JraIvL3H69E75Tv1HAPPC1Ai9y1zKRk3gzEsNm8oLif1E+EJTfv65wLVGsz+uQu4wa7ssIez/L/2xuvY4ed69bwM2RBwJ/onHDE8NHs3ZSyvJfMUAwz+9+/vBdod1r/HbsPAwVHAQMany+fZOeXN9An7DQfgD2Ea1SOlIeUoVx84H9sUOA8k/4v9Geob4G3WfdH7xQTJeMjCzEjQIthJ5WvzMPt0/vYRhBqmF0IiZyKGI4EbWxwVDfcFJfm06uHbKtQrxlTFUb0cu5y+Z8e6zKzan+jQ9O0IXg06H+4hxStdL7AzCijnJtgYdhJeAQb4oudq35jUBc37yJjEKMcfy5fSe97u6Xnv8vnpAh4NARcUFJ0e3xacGXMQKg40ATkAnvBR6L/hct0j0lTWutLh187W3N4456zym/nK9/YJOQ5gEAYV0xrNF3ATVBNSB38Bjfl17SbjPNv+0n7R9Mt8x0LMltAK2EzfdO1i9X4GyQicF+IXmR+DIksnIxqFHYATiwxbAdT2d+4r5R3fgdU+1FrNss9K0rvUTuJc54fvuPRl/p8DQQ4yCfEU4AxsEqoLLghiAFD+1PVW7Z3reORv3srhI97b44ngkelg7RPzHPux9cUElQWVBwEIFg5PCdMGgwNT+8D2ufRX6mvmlt7A3C3bUdo31Vva4d2D5F7pe/Si+uwGDQiwEu8RqhQVGaUbBBHFFKEP+wXOASr4GfTV7AXn4t2l3GHVENZX1g/XH+PD41fs7uuQ95X4qQTJ/qYKRgRiCksHuALaAMr+Kf0p9Uz1UezF6vHrZer97mLpQPNc8un0aftZ9l0C9AHKAJ7+SQPR/bX9HfVY8tXsoe9N5O3m0t+c4h7gTOMh30bjlekd7WrxG/lz/gMIYAiFD40OHQ9qFGIUSA71D0QN2QP1A8z8M/hW8+jqYOWS4Dzc89rr15Ha6+CM4dTmreMT8VXv3PvD9YUBV/7EAAYC0fy8/+j8KAB1+3P5PfP48WLzr/F69yzxSPrw9vn3nfwi+l4CMgOz/4j9ZQCE+Vb7KO/976noZe1l4AjnVeDt4yXfmeVs4erm1+wi8Q/yxfpn/F8FFQdbC9wKogpUEB8OQgxgCx4KwwJUBfUBXvuj+d7wU+yv6JDnOuPv31vhDeOj41/lO+IU7drpzvSO7dz3LPXA9Ur5ovZz+833Nv6P+zf5D/hg9EH4MPQ1/n32n/4P+sb6iv3v/b0AXwSg/oH/zf4V+R37Ie4Y8U3oxe2M4OXnA+O+5bLeOei+4+Tqpewq9AjxKPx5+esBoARtB+oG2QYoCwoJmQhdB3kGywE4BEoF/vzK/Qn3X/HY7lbwYOhm6PHjSuWa5Nbkk+Is6tzlLu/o58fwde377/nxcPRH99H22v3e+ZD6J/uO9077cPccAwH5gQEv+xX+S/3pABoAvAOu/gj/Cfzi92L5Ce5Z7z7oc+xg4izoveTk54/gi+vj523vFu5P9tDyfP2U92EAcgCjBCoD6AIABkAEbgQ8A+gCxv+9AdEDB/0X/Zf45/S+7xr0Jur07fzlBuft5XvkW+QA6Y/lHezW5xnukOw+70TwMPVn9fD5Jv6H+hb8Ef2Y+9T7hfv6BAv7EwNd/LAAov1TAbj/5f/R/g77c/n18kn1s+sd62XnweeD4xDmcOVC6TXik+2/6RDy1O6W9hz1v/u/96j+uP3XAuP/6f8DAxACEAJ0ARMBrgDGAbED1f6c/m/6nPkx81z3++2S8Mvqs+ct6ATkyuUn5kfmD+hV6EbrT+3T7CzxiPWA8zv7R/zW+q355Pw/+0b6NPv0Ah36MACY/QAAW/7v//j/R/zBAL35p/vj8Yf2IO1u7mXrc+r16GPnXuvu623liO/s6ZDwwe1l87rxpfVY9Dj5IPgK/yz7VfxLAIL/t/8k/3IAOwNrATYF9QCBABX8Cvsp9wb5qPAS8XDte+jt6z/lleji5HfnYec+6rvsWe/t7fr0rfar9Kr8Ivs1/Ff2Qfw4+L/5Mvib/Uz3U/vO+xD9RPz8/cn/PPkfAkz5gP5Q80P6rfHO9JXuHPAX7bXqofDX7onoTfG/6XfuoO008H7tRPLA71b1a/Or+7D5w/mX/5z8Pv9k/IwB4gTb/x8GcgFSAWD8xfhA+XX4fPLF8RrtQ+sh8FTm1es95ULpnujf7LXu8fDa8Cr3x/cY9p79O/lG/eD0ePtJ9lf4Rfak+FH0MPhc+NL4pPhg+wf8ovcMAS33tv4089H7aPW0+fzvYfNr8KnvTfOp8//q4vPn6mXwLe8b8EDsCPPP7Sj16PEv+pL69fj//fL6yf3Q+hsA8gOO/FwDyv+E/7n7efXM+e/1gfRY8UntCO2D8pDnxe2n5p7sn+nA74Puf/Jj9B32Jfrk91v9LPkh/eD1H/vO9kj3zPaV97rz9fen97320vda+nT2mPeB/bL1Zf3a8Y37/PUc/OjwEfQM89PxPvVm9sHtrvRy7Q7y+fAB8OPs/PM676/2oPIS+ib79/ex+z/5kfsq+T79kgGh+Fn/Ev5o+1T7KPMo+qDzRfUL8v7uVu+G8wbsp+8P6o/wyOq58m3vd/RR9iD1oPrd+fz6dfox/Cz3XfnC93D3afYH+J/zc/jO9oX1P/ix+BTzIPfu93b2Evs+8u758PWI/AHxlfSS9CHyyfUB9yvwC/Xo707zp/PM7x/wU/Rt89n3wPVV+zz8MPg=\" type=\"audio/wav\" />\n",
       "                    Your browser does not support the audio element.\n",
       "                </audio>\n",
       "              "
      ],
      "text/plain": [
       "<IPython.lib.display.Audio object>"
      ]
     },
     "metadata": {},
     "output_type": "display_data"
    },
    {
     "name": "stdout",
     "output_type": "stream",
     "text": [
      "Playing clean audio 2\n"
     ]
    },
    {
     "data": {
      "text/html": [
       "\n",
       "                <audio  controls=\"controls\" >\n",
       "                    <source src=\"data:audio/wav;base64,UklGRtgWAABXQVZFZm10IBAAAAABAAEAQB8AAIA+AAACABAAZGF0YbQWAAD2+mn5Dfix9rn16/UC80724/bU+Lz7bP+NAfsG6wiICNwKgAlPCXELcQtHCiUIwQduBeADtwLX/hD++ADX/gAAEP4Q/hj91/6NAegCdQTgAzQGnwU8Ba8DRARLA1sBKQGl/pL6j/RI6j3l8eHA4W/lMe0h7wryAvOf8jTzovhJ/ZcGFQrcCtQLxA2QB8EHBgyTDWwSMxNcFLUPmwyvAykB1/74AOgCeAovDSAPShAgD0oQUg/fENcRpRG1D2kMkAcaAzEA5vzu+1b11eud35fTr9Aa0CXV39095d3qauz/7DXmkefS5Sbo1evY8Xj3MQBpDN8QFx1eJ7Ip1CsvLW0l5RyOFJMNsgkGDPMHkw3+DC8NdBEzEw8eUBx9I+giQB5/FhARfQO1/C/6bfLg8Kfxvu6U7d3qReQy4Hvd89TlyRTEorgVtwm/D8vr1eLjW+6q97X84AMoDokb8yeROl5HdUToQis0qx0sByD8D+sm6DzysfboAnsQoRicHxIkdST/H/smQySCHCsU2QQh79rk4uMj4rbv1/6QB54SsBbPEigOCgVw+JzsUdwmyHWxI6IOmN+dpKtvxa3dS/Ct/a8DXgfEDaEYQySROsFH60g7RfE0NhlR/PDu8eFF5G3ySwNVFackFSrrKDwlzh9vGFAcQB4uGvkTJQjz9O3oI+IT5JTtOv+bDKEYYyA2GUoQdQTr9V/n69UUxAOzI6LFmvmgRLFFxJbgQ/EN+N79rf0I/zcMKSF+NgBTG1ZZTso5Nhle9KjkQt4M5Vn73xCrHXgq8ydQHGQTrRDuDiMVbSV9I+giARPM+cPnINyl3lDpRAR3F9gkRyr3II4UEgTg8NLlR9eRx/O0/aZloH+jA7MExqXe7ei+7hX3LPRh+mENDx6ONP1MMlPQRek1yxnU+Pft1esh7/gAdBGRGuUcHhzfEBgQUg9SD9oX/x+2IlgbrRCFAjHt7ejV6+P2wQcEGackKSHVHiAPjQGI9THtluBp2cvGDbgroYubdJ63r1DJ197B9Eb3mvlG9zf5gAlyHiM1AFN+VuZP4jYuGi/6BOZy6/ft0QUbFokb9yDAFPYNTwm6CEoQ3xAmG18ajhRPCfb6N/kk9RD+IA+hGCkh9yBYG+4O0QXGAB32zPlb7vHhxs1EsWGazozClEGrxs1A64D2mvlq7BPkHukk9UUXxzOlUWpfCFKjPuIWKQEh70vwdQQNC5kZTRZhDV4HOv9WCCAPghzwIXcXrRAaA8z5EP5z/u4O6hVYGw8efxZSDyUIXgdPCZcGBgx1BOb8pOtt0te+oaUgnHGYUKl5t8bNjuFn5kXkI+Li4zHtYwAeHEIxdURJUDtFqDcaI8AUiAg8BXEL6wgGDPsGvgE8BQMGKA7SGFAcmRn2DX0D/fn2+n0DzxI2GRIkqx1/Fi8NRwqICFYIIA/uDpMNHQn4ANHyd+SczJu5fJ3+mcWaUKmJyNTYeur056jkSt0b4170Lw1mJtI4Jjv3QOk1PysCJrMc0hitEGkMlAAN+Fn7rf1HCvwZ/x/gIzYZPws6/1b1VvUxAJMN0hjOH3IeZxkbFkoQKA6lETMT8RSeEgETHQnwAQ34/OZE0aq3Upw8knGYkadIysTaeurd6s/fCd9c4TTzhQKlEcYgBBmJG5MtJy7sO1tBvzToIuMJg/yc7CT12QSqCn8WTRZhDQYM6wiTDcQN1As8BYP8fQM6/7gVCiXrKNsqjCGoF2ENQhGhGPEUsxxsEgj/sfao5JfTK8E+pTiZJZXyoWy/3Nez6f/sJujX3h3W0uUk9UL+9g1sEt8QSB2oN0NEoksNS8QtvQ4/+Lbv8O5z/vYN/gyLDi8NwQd7ED0YbxilERoD9+2o5Fb1JQiUINU+aj8BM7IpJhtVFaEY3R3iFt8QwQcN+KfxIe8g3FXCxZpJiuqCdpF3xNfeG+Pp4vbaKc6q167wvgHP/24FMQB7/dcR/DmGVUxWSVDUK9wKSf2t/dwKDQsVCo0B+vMI/+MJpB7RJQwYpwQP6+LjoeXj9vEUHhxhLcM6Bz+2QqM+SjBfGpsMuggDBrIJqgqi+A/r5tyCyZizDpi0iWONupUwusnTluCW4Fnbe91F5BX38wf4APP0ffAV97oIxiDHU2RTN0w0Rv4sDx46EoMP1/5A6yHv1eux9hgQVRWJG2QTFQr4AFn76AL9+UsDexB3FzoyaEwmW1xUCkUgLyAPsgkDBq391PjG7dfeINzM2XXRa6wtlMCBeooPq7vIOt8V1/jN0dLH4Fb1vQ59AyT1E+R98FYInyVzMbg1n0VfOgpFCkW4NU0WFfeM7n7jKe6fBeADNAbEDXELPRiJG2cZLAfE+v35mvkgD9QrqDfNP1FPnVKMQX42YyBEBOP2EvHG7VDps+nA4czZP9i7yKSrfZCSh52MQp7OzHjXgNad30jqXvRuBVwUc/5D8eXpQOuUAO0bKSHSGH42/FmgWENkmkwrFBnwieh18X3wxPpJ/WXz6wjoIrwuky38GfsGXvTm/JAHhQLBBy8NNCagOFphLGcHP0gdrwOX85fzAvP85lbVadm76Inos+kl1bWcAYC5gmGaEb5Tz77OB8zp4oD2jQEdCQMGxu1b7gAAIPxR/LUPPRgjFXswQ2SpaoZVeEr/H7X80fLj9h7pnd/w7kn9gw9eJ+4upB6WE70ONwxeBykBDfgC88//uBX5MyxHRkoQUTRG8ydpDDzy7ttW1ZPae90N2HHY9toN2OjPp7GnkT6FvZtrrPO0UdxI6n7jQv7HEzQGyQZpDCwHsfad//gAc/42GXArXif3QLFpC1gcSUU37g4p7pzsU+9F5CboYfrzB5YTeCq5KJEaCRJ7ELIJSwMxACf7L/pmBpkZky0uOiM11T6fRd0dmvna5J/S/8w/2DTTD8v4zUrdQOsy4DbGTLB8nYSc7ch418bNtdwd9iUIbBKoF/4M8AFmBgwYlwYN+Nv3tfw9GIMvfjbNP8dTVkgLOI8nRATl6e3oIe9q7JTtmvmiC2cZwSe5KFgbhhWWEygO+wbm/EPxNPNR/IAJExdyHiQoryOfJSAvexBY6CPizNnZ0WHaAtONznvd3eqM7hjd2sTLxsDBZ8aa2Trfrd0p7lH8e/3zB98QoRgzE6ILSwN1BHv9iPXGAPMHIA+JG6IrHjzoQkU3Jy7dHS8N0QUQ/pTt7ehb7jf5lwYBE9oXNhnVHrMcjhReB0b3U+9Y6O3oB+yu8P351AuCHFshLCcsJ9oXNAYF+XLrtdwv2pPatdzD51Pvj/Sq92Xz/+xI6gTmqOTH4CPi5enG7Yj1ovi59S/6MQCl/n0DbgVbAegC3ArBB08JKA5sEvEUQB6zHLMcFx1VFf4MUg9pDB0J8wcKBYUCxgAQ/v352/dW9Y/0ZfMd9tv3N/lJ/Y0BIgKnBG4FNAYlCCUI/gxSDyMV8RQrFJYTOhK1D6oKlwYQ/sz5LPQC83LruOKl3r3b/tk/2D/YP9iT2nTeluBf5zzyl/Pz9Gz/2QTrCKILtQ8oDv4Miw4GDHgK1AubDIsOYQ3uDgkSrRAvDTcM1AvzB9kErwM6/y/6J/th+pr5GP1C/kn9UwLgA/sGFQrcCtQLiw5SD7UP3xAQEVIPzxIzE98QKA4GDEcKnwU8BVsBePc0833w6O/w7mLt3epY6M3sD+vV61jomeZv5Znmked66vft6O/R8v35pf7P/6cEsgklCLIJ+wbRBUQEjQFLA/ABRARuBVYIzAy1DxgQGBDnD8QN9g0dCfMHrwMSBJ8FnwUsBzQGpwRuBfMHPAWnBG4FhQL4ABoDUwLRBZcGZgayCeMJBgxWCNwKAwZ9A1sBxgDP/7X8Yfo3+Q34JPVO9snz4PBq7DXmNeZ+46jkw+cH7JzsGfCf8rn1Ffc/+HD4Ufxs//ABrwOnBHUESwPrCDcMkw1ZDtQLeArBB58FNAY8BesIlwYGDP4MLw0dCR0JyQafBdkESwOd/1H8vPvu+/b6zPl7/RD+twJTAhIEAwbJBpAHPAWfBUQERARuBZcGHQksB+sIkAfRBacEtwIAAKX+EP6a+bH2Q/FT72LtKe7G7THtlO1q7NXrEvGu8EPxPPLR8hX3Ufyd/6X++AAiAq8D4APBB24FLAe6CBIECgXJBgoFRAReB/MHVgiyCV4HLAfgA+ADCP8Q/kn93v3X/iICEgRuBWYGXge6CJcG4AOvA0QEfQMDBmYGlwaQBz8L1AsVCk8JNAZeB68DIgIAANf+tfxz/gj/GP2D/Mz5Bfm59cH0CvK+7jHtB+z37Rnw4PAd9iT1gPa1/Cf7kvru+7X8J/uL+7X8rf06/74B2QQKBWYGEgR9A+ADWwFs//gAKQFjAFsBSwP4AL4B6AKfBXUEdQQKBRIE0QWQB4gICgUlCOsI6wheB4AJLAdeB8kGXgc8Ba8DpwRLA30DxgCUAOgCYwAxABD+tfxR/IP8IPy8+8T69vov+if79vpw+AX5zPlW9eP2JPWP9GXzHfbr9bH2kvrb9w34zPmi+Gn5IPxjALX8UwKNARoDUwISBH0DnwXBB9EFRwpHCroI0QWnBBIEhQJ9A4UChQJEBL4B8AG3AuADrwOfBWYGNAZEBPsGRAQSBHUE2QQ8BWYGAwbZBNkEdQR9A0sDUwLGAAAAKQE6/2MArf1C/lH8xPrU+D/4ePfb9yT1ufVG90b3VvUF+S/69vqt/aX+3v28+0n9IPy1/N79c/57/Qj/xgBJ/TEA5vyL+wj/vgFEBFsBRAQaA4UCtwLgA24F0QUsB1sBvgHwAQAAGgO3AugCEgTJBjwFIgKfBYUC8AF9A30DSwNmBgoFrwMiArcC8AFbAbcCWwGUACkBIgKt/c//AABs/74BhQIiAgAAz/8g/JL6P/gN+Hj3cPiA9qr3Dfia+Tf5J/vu+8z5/fmS+ln7vPtR/N79c/7GAPABKQFjAI0B6AISBBoDhQK+ASkBKQFbASkBjQHgA0QEjQEpAb4BlACl/jEAfQNEBNkEtwKUAJQAbP8iAtkE4APRBdkEPAWNAfABIgKvAzQGLAcsB2YGEgSFAhoDWwGl/jr/c/4Y/YP8rf0Y/RD+1/4I/zEAz//X/t79GP1R/Cf79voF+cz5kvqa+Xv9Ufyt/Un93v3e/c//GP3m/N79e/17/d79lAAI/0QECgVLAykBtwIaA4UCUwJEBG4F6AIKBRoDUwKFArcCjQGUAFsB+ABjADr/tfyd/wAAAABjAEsD+ADP/30D+ADoAlsBRAREBBIEpwTwAY0BYwCvA74BYwBbAZ3/YwBs/1sBMQAiApQAz/9J/Rj9tfwn+1n7/fne/Tr/IPxz/gj/pf4pAcYAIgLP/30D6AKl/pQA7vut/QAAIgII/40B+ADP/1sBKQHX/p3/KQExADEAi/tz/gj/3v0I/+77c/6UAAAAAADP/yICWwGvAykB8AF9AxIE6AJbASIChQIaA7cCMQDP//gAjQGUAJ3/bP86/xD+nf9z/t79z/8xAJQA+ACt/TEAlACNAZQAtwJTAjEAnf8Q/hj9rf06/wAAOv/GAKX+pf7P/9793v3m/Bj93v1Z+yD8pf68+xD+bP/e/aX+z/8I/9f+CP+UADEAvgFjAN79z//GAAAAjQESBOgC4AO3Amz/xgA6/7cClAASBL4BUwKFAmz/+ADP/zr/xgBjAAAAlABbAVsBWwExAAAAbP8AAJ3/bP8xAJQAMQCd/+b8EP6d/53/xgAI/zEACP9z/q39e/1bAfgAMQBs/639bP/e/Tr/CP/P/8YAAAAI/9f+CP9C/gAAvgGUAFsB6AJz/pQAMQBbATEAtwLwAZQAYwA6/6X+Ov9s/40BvgExAI0BYwCd//ABxgD4ACkBOv+l/tf+1/5J/ZQAz/+l/iICjQFbAbcChQK+Ab4B1/5s/3P+xgAQ/nP+AADX/ikBWwGd/3v9bP8Y/TEAnf8AAJQAjQGUAEL+hQK+AfgAlAAQ/gAAOv/X/s//CP8pASkBYwBs/1sBCP+NAZ3/IgI6/yIC1/74AFsB8AExAAAAbP9z/jEAnf8AAM//nf86/8//MQDP/wAAMQBs/ykBKQFz/p3/5vyd/wj/rf3e/Wz/+AD4AMYA+ABTAhoDhQKNAfABxgCNAcYA8AGUAAj/hQKUAMYAxgDP/8//z/9bAcYAYwDwAcYAnf+d//gAMQCl/vgAIgLGAMYAnf9bAfgArwO+AVsBjQGd/53/KQExAPgAxgBs/0L+Qv7u+6X+EP61/N79c/6d/6X+YwAAAPgAOv/X/tf+z/+l/kL+GgPGAOgC+AApAZQA+ABbAVMC8AHGAPgAjQFjAJQAlABjAAAAxgCd/2MAMQDGAGMAvgEAACkBvgHGAGz/AAAxAKX+YwAQ/hD+z//e/Qj/GP1bAWMAbP+t/Qj/Ov8xAN79z/8Q/gj/lAAxAJ3/g/xJ/aX+Ov8pATEAAACUADEAYwDGAAj/YwAxAM//GP2l/nP+xgBs/wj/lACNASkBEP7GAPABCgVTAvABxgAI/53/c/4I/2MA+ABjAI0B3v1bAc//bP/4ADEAYwCUAPgAMQC+AcYA+ADGAL4BxgC+AaX+nf+NAWz/nf8g/K391/57/Tr/Qv5z/s//e/0I/6X+rf3X/oP83v3e/YP8Qv61/HP+Ov+d/8//lACNAfgACP86/xD+YwDX/r4BYwAiAsYApf4I/8//1/57/Tr/xgApAZ3/xgApAVsBbP/P/5QAlAAAAAAAxgBjAAAA+AA6/8YAOv8AAL4BjQExAPgACP8pAc//MQApAUL+bP8Q/kn9YwDm/N79pf7e/c//EP6l/mz/xgAAAGMAlABjADr/CP8AAAj/z//P/2z/WwFz/pQA1/5jADEAlAD4AM//YwDP/1MCbP9TAjEAMQAxAJQACP8pAc//+ADGAAAAOv/GACkBKQGNAWz/+ADX/sYA1/4Q/tf+tfxC/t79Ov9C/t793v0xAAAAz/8xAJQAz/9s/3P+Sf1C/qX+AABs//ABbP/4ADr/1/7P/wAA+ADGAIUCWwGd/3v9Sf0AADr/+ADX/tf+1/6l/nP+pf4AADr/z/9bAfgAnf/P/53/bP8iAjEAxgDX/tf+lADGAGz/WwHX/p3/CP+UAGMAlAAAAGMA+AD4ANf+Ov/P/2MAYwA6/53/bP+d/9f+MQA6/53/YwBs/53/nf/P/xD+KQEpAQAACP+l/t79pf6l/p3/nf+l/mMAMQCUAAAAKQEAACkBMQDwAY0BYwCUANf+vgFs/wAA3v1jACICAABjAPAB+AA6/2MAz/+NATEAWwHwAfgAxgBjAM//pf4xAGMAlAAxAAAAYwD4AJ3/Ov8AAFsB6AI6/40BCP+l/kn9nf+d/40Bz/9jAJQAKQEAACkBlACUADEAAADX/jEACP8Q/kL+EP4Q/ub85vwQ/hj9z//GACkBbP+NAWMAAACd/8YAjQH4AFMC+ACNAcYAbP8pAYUC+ADwAVsBz/+d/wAAlADP/wAApf4Q/mz/c/46/zEAOv8Q/mMArf21/DEAQv46/8YAbP/4AAAAMQBz/s//xgBs/8//UwLP//ABMQBz/mz/AABjANf+YwCNAWz/YwBjAJ3/vgEAAAAAEP5jABD++ACl/gj/MQAAAJQAEP46/xD+fQOt/ccTjCGt/WkMARNO9ksDKe4C8zr/ufXwATTzg/z7BgAAdQSNAQMGiAgpAVH82/fM+cz5BflR/N79rwP7BhoDhQJ9AwoFhQKt/Vn7e/3X/vb6J/ui+IP8Qv4n+1n71/6+AY0BQv6t/Qj/\" type=\"audio/wav\" />\n",
       "                    Your browser does not support the audio element.\n",
       "                </audio>\n",
       "              "
      ],
      "text/plain": [
       "<IPython.lib.display.Audio object>"
      ]
     },
     "metadata": {},
     "output_type": "display_data"
    },
    {
     "name": "stdout",
     "output_type": "stream",
     "text": [
      "Playing poisoned audio 2\n"
     ]
    },
    {
     "data": {
      "text/html": [
       "\n",
       "                <audio  controls=\"controls\" >\n",
       "                    <source src=\"data:audio/wav;base64,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\" type=\"audio/wav\" />\n",
       "                    Your browser does not support the audio element.\n",
       "                </audio>\n",
       "              "
      ],
      "text/plain": [
       "<IPython.lib.display.Audio object>"
      ]
     },
     "metadata": {},
     "output_type": "display_data"
    },
    {
     "name": "stderr",
     "output_type": "stream",
     "text": [
      "/opt/conda/lib/python3.10/site-packages/transformers/optimization.py:591: FutureWarning: This implementation of AdamW is deprecated and will be removed in a future version. Use the PyTorch implementation torch.optim.AdamW instead, or set `no_deprecation_warning=True` to disable this warning\n",
      "  warnings.warn(\n",
      "  0%|          | 0/600 [00:00<?, ?it/s]/tmp/ipykernel_24/2230012296.py:46: UserWarning: To copy construct from a tensor, it is recommended to use sourceTensor.clone().detach() or sourceTensor.clone().detach().requires_grad_(True), rather than torch.tensor(sourceTensor).\n",
      "  audios = [torch.tensor(audio) for audio in audios]\n",
      "100%|██████████| 600/600 [02:14<00:00,  4.46it/s]\n"
     ]
    },
    {
     "name": "stdout",
     "output_type": "stream",
     "text": [
      "Epoch 0, Loss: 1.8578477542599041\n"
     ]
    },
    {
     "name": "stderr",
     "output_type": "stream",
     "text": [
      "100%|██████████| 600/600 [02:14<00:00,  4.47it/s]\n"
     ]
    },
    {
     "name": "stdout",
     "output_type": "stream",
     "text": [
      "Epoch 1, Loss: 1.5411117741465568\n"
     ]
    },
    {
     "name": "stderr",
     "output_type": "stream",
     "text": [
      "100%|██████████| 600/600 [02:14<00:00,  4.48it/s]\n"
     ]
    },
    {
     "name": "stdout",
     "output_type": "stream",
     "text": [
      "Epoch 2, Loss: 1.1583078591277203\n",
      "Test Accuracy: 80.33333333333333%\n",
      "599\n",
      "600\n",
      "ASR: 99.83333333333333%\n",
      "Clean Accuracy Drop (CAD): 18.16666666666667%\n",
      "Backdoor Attack Success Rate: 99.83333333333333%\n",
      "Poisoning rate: 0.1, delay: 150, decay: 0.6\n"
     ]
    },
    {
     "name": "stderr",
     "output_type": "stream",
     "text": [
      "/opt/conda/lib/python3.10/site-packages/transformers/tokenization_utils_base.py:1617: FutureWarning: `clean_up_tokenization_spaces` was not set. It will be set to `True` by default. This behavior will be deprecated in transformers v4.45, and will be then set to `False` by default. For more details check this issue: https://github.com/huggingface/transformers/issues/31884\n",
      "  warnings.warn(\n",
      "Some weights of Wav2Vec2ForSequenceClassification were not initialized from the model checkpoint at jonatasgrosman/wav2vec2-large-xlsr-53-english and are newly initialized: ['classifier.bias', 'classifier.weight', 'projector.bias', 'projector.weight']\n",
      "You should probably TRAIN this model on a down-stream task to be able to use it for predictions and inference.\n"
     ]
    },
    {
     "name": "stdout",
     "output_type": "stream",
     "text": [
      "Playing clean audio 1\n"
     ]
    },
    {
     "data": {
      "text/html": [
       "\n",
       "                <audio  controls=\"controls\" >\n",
       "                    <source src=\"data:audio/wav;base64,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\" type=\"audio/wav\" />\n",
       "                    Your browser does not support the audio element.\n",
       "                </audio>\n",
       "              "
      ],
      "text/plain": [
       "<IPython.lib.display.Audio object>"
      ]
     },
     "metadata": {},
     "output_type": "display_data"
    },
    {
     "name": "stdout",
     "output_type": "stream",
     "text": [
      "Playing poisoned audio 1\n"
     ]
    },
    {
     "data": {
      "text/html": [
       "\n",
       "                <audio  controls=\"controls\" >\n",
       "                    <source src=\"data:audio/wav;base64,UklGRqQdAABXQVZFZm10IBAAAAABAAEAQB8AAIA+AAACABAAZGF0YYAdAAAYAKD/bAA8AEgA3P/c/+j/uP9sAKD/lP88AEgAAACs/yQAlP9IAAwAlP+cABgATP88AAwAQP9sADwAzABw//T/AAAAAGT/9P9gAKz/rP/0/5wAuP8o/xgAtADo/+j/6P+cAHgAxP+s/2wA3P/Q/5AAJABM/6D/iP+U/8AAnADQ/9D/fP8wAJwAhACs/zwA1P54ACQAAADc/9D/0P+4/2wAGACU/wwAiP/c//T/rP94AND/JACI/zAA3P8YAOj/uP/0/wAAGABY/7j/YADQ/7j/fP+4/zwAiP8YAEgAVABA/8wAZP9sAKz/3P/o/2T/YAC0AAwArP+4/xgAWP8kABgA6P9UALj/YACI/1j/6P+cANz/3P9UAFQAMABw/yQAJABk/9D/SAA8AMT/zAAAAPT/kAA8ADwAuP/c/wwAVAC4/wwAPAD4/gAASABM/2AAoP8wAAgBiP9gAHgATP8wAGwAxP/wADwA3P+Y/jwAlP+g/8T/PAA8AIj/xP+EAJwAlP8c/0gAnAAYAHgAGAD0/zwA6P8YAMT/WP8UAUQBGADI/jwAZP+I/yABhADc/zwADABk/8wAhADc/3gAXP5gAKz/VACs/0z/rP9IAOQA3P/U/nz/tADc/3z/YACU/1j/3P9Y/9z/VACs/+D+NP/0//T/JADs/lz+0P/AAAT/1P5M/+j/fP8YAOQA6P9o/hgAKP+I//j+uP8AANT+YAA8AHD/eAAE/4j/aP7YAIj/KP8wAFj/LAFc/gT/oP8kACQAQP+EANz/9P/0/zAAQP9A/4j/kABQAYj/kAC2APv+TADo/9j/N/+j/yEAJAGN/7YAzP+Q/eT/9P+2/2L/wP/HAIcBNwBW/yYAGAA0/2cAZABVAbABf/9C/hgB3P/E/6//fACNAEUAtv8AAeb/Lf8mAEYBuP+9AJUB/v8hAOQAIAHJAPn/qgCDAoIBhv/Q/2oBPABnACMCvQCLADcAZABF/x0BrwBK/7QA9P8AAAL/CAGz/gD/kP9AAHkBc/+H/vT+mAEaALH/hv/8/Tz//v/E/+3/o/+z/rr+af/x/rj/Z//o/g3+CQDfAA3+Mf6x/9z/fP9z/4cBegAh/y4B3//0AIb/GgC9ANf+TQG0AIT/jQB1/8f//P9xAT4Alv4yANX/oQG8/p/+IQBK/3//c//T/9//QAAVAHUAVv9z/+T/8P8IAaD/l/+n/5z+lf8+/4//dv5L/7n/KwBz/4oAcv/X/LP/9P4c/o3++f/7AIj/DQCU/sP+2P9H/lr/Jv8iALkB4v4j/c8A/P9//+L+0/8R//H/hf/z/xn/gf6r/zkBu/8EAQEB5f8bAGMBwAAKAF4AzAFhAkgBEQDc/+sBSwElAP8B3QCqAEcAtwAmAGkBdwC3/+0AhAD5/zX/tgDP/ij/Mf/1/6oAVf9S/nb+9AAjAEj/gv/q/Bv+gv9w/6//r/5g/sn+7/6U/oH/1P8GALb+Gf/v/7r+xP5e/3j/wv95/3MBzQD6/9UBDAF+Ab7/UQFJAZb/bgIkAfv/4ABSAEIAiwHVAboAhf+wANH//QDl/ln+OAD0/nf/cv/T/jv/Lv/8/m3/fP4O/lD+Hf7A/3//Ev+Q/oX+0v5d/rT+Ff6h/sf/+f+//1UALP+z/E7/HP87/sL+OQC7ABn+IP8e/in+zf7E/VH+0f42/+IAr/7B/OX/Ff8b/5f+TP9w/vv+Mv9O/8L/Bf/N/4QAAf8tAHQA6/8OAPb/EADc/yAAGwEjATgB5f/h/4IBRgHx/80A6v9E/8f/CADG/2UA3/98/20AQAAwAEP/7/+h/gn/6P5n/w0A9v64/bj9q/89/3f/DwBk/ar9x/7B/h7/qP6b/u/+KP8j/8D/aQCpAM//u/+PADYAOQBIAIYAIQHfAAsCgwEZAfsBMAGWAHb/PQHLAe4AvgKnATgAFAGiAMgASwFtAVAAuf8CAAz/BwD7/in/WACB/3f/Uv9N/pX+f/5S/r/+WP4C/t/97v0E/37/Rv+u/gz/A/+l/mH+4v1A/lj/r/+A/ywAMv+Z/V7/Of/6/vz+4v9RAP/97P5K/qf+lP6D/m7+W/86/+AA5P4e/qP/PP/s/qj+uf5h/oL++f5c/wgAvf/b/wcAfP7y/mL/6/4q//z+t//o/yQAfABTALEAXf+L/zEAQQAf/9T/b/9H/w0ATwCA//r/Ev/g/nH/mv/1/07/y//2/hH/sf+U/5UAh/8s/if+J/8p/+H/tgDn/p7+FP+9/gP/Dv8e/3n/NP9C/yj/uf8zACcAlgAYAeIAfQAOABEALgBiAAABPAHRAIsBXgCr/zj/UgBNARAB9wFnAd3/0wCFAGEBdQEYAvAAQACs/2H+Cf/A/u7/YQEIAc0AJwBw/lP+W/5//pv/gf8D/8r+jv5Y/8H/2f+r/wsAWAAHAPf/r/6l/MH5KPi39hn5Cfwm/8oC4ANHAxMBgACH/2T9ofbD9Wz2G/w3BqoQyxn4G5EVQwi+/Kn1C/Wv+0QExQpADmcOdQm8BN3/6PvP/B0BjQPTBncIaQj5CWAQjxcvJ18sgPFswD+cAYC3o8jiEhkIO0VITDA+EPgKDQSB/20FP/Pn3vTZ3eHo9NkS3ih3IxEZcgmM9BbwZPPA8YXwVvGc8Pb0pwaME8AY8BkXDHj7mPMH9Qr9UQe/DYMJbwWiBOUEhwrxDiEN6AbN/1f6u/uEApcIjgsvCwAIXgc+EPMccCaSFc3iArg4mbiZtsd0AWsuo0IkPAMfIQlvAtb9iv7C+lLp6dye33nsHwZQHwsosx5XDlj7/+yW6xfvKe7b73HxqPV9AqwTrRzQHbEUPgPg8x7vDvLA+qUEUgccBkMHkAg7DR4R0w82CpoBZfQv8l/2gf9oDDMV7hycIRAhGyAaJFojVvzdyaKt0pk+tGbx2CMeQkBHvi08DagEagLlA10GPf5F663tg//qISFF3hw35/+vgoBRkTfLlgjKLP08nyO5AFwCRgqQFKcisQ507FfX4daK6nYQuTI/MqAkZQ849s7yr/ygAXIA0fvm8ZPvnAEhFT4e7iFUE3r93PQF+nQHChr9KHcoiCMGAbjIErNAqS2/t/KOINc2lj5SMnMVhAfVARj7MPzmAmwEwg1QDOHq4tWhwRO3g9CS99oWjCkjKkETv/8791v3Rv//B4oB7PVY8J7uavwBEYQgKiN/G48JXvXP7LTth/Fo+lMC8AdvD0YX9RYJEhcIffy+84L1Rf85DF4XjRp7F0wUfhbNGfUchwpd2QW5IKZWtFvnCCFkQ6VK2j3lHU4MtwqaFH0bpveAv4Cbu5GIuDgE0kCYWOdL9CHq+Ejs7vKV+nj9W/Jv4ObmPf++KPNKwTL+A2vPqKT4rIDZBgj0IzIryBQg/VUEsRNvI/YvHhvv+EjfE9jw5nMGayRoKckj5BWmBekDegobDcILDQgZAjYBawnP/Svja9Zgy9jWx/wVJKo5a0GSN9Id5xF57lm6AajLnDixi+sRKDlLhVr0SMIZAfqV6UjiAOe58vv1s/ltAA/5nPp4+cPy7vK+9/79ogOeChML4AddAjIClwSdDF0SPxHLCi8BDvsH+48FbRJvGt0WOwfa9CTtzPJmAmsUvx7yGzsRqwVX/l7/qQaCCA4I0AKi7cPgGuYl8iQMUSjHMU8qnw2h0ZOuIKYgt/bmoxxUOUQ/ajq7Iy8TvQ2UChMDjelJxDquv7G00J8JbDfkSqRABSHc/YXpqehs7Xb2Hvn3+AUChhHtKkg6VygfCQnnTsmizrTqjgiyHbsj+hKx/zr/CgVlFIgmDyDHDHb16+Po5t78nRdvJcIoNB2+Cu36Cufo3t/hNO2fAEcUqx7yCoroY84JwaPRKPiDHkgyqjYlK9MYJBIw+z7anchjuUbCWOdzC14mfzbtL50ZRws1/5H0UfBD7OTrSvHg/RgFCxAJExoMUAaB/z39jgDXBv8KHw3/CIcF7QX7CtkPzRANCz4BQvqd+k4DkhDEGckXQwuD+vjytvfpBt8UOhi6Cj3v3N2Z2z/rwQaBGA4bqA1N7u3VW9eq5YICUB7BJ5Eh3Q6q643Xl9PH2Cbt6AXmFbQaVxlPERMKlgwND9sOWv4s4RjMIcao1oL+nyQBO0s7JihoCy74wvJh9fz9rwOlBXMKIRG7HS8lfxnJBgPx895E5Eb34w04G3QcJwvI+2/40/yyDvUfnSAjFQb/hOU01cHYuuxwBDIZwCGtGwMKKe2X3MLYo+Kb97YMOBjVDtz7mOsY5Qrtgv0sDkITuw7ZCJsCEQeFBnX6L/EY467gW+z4+lgJqRYjHF0aNxoQFuAMlQE59MXvsvNIAP0JhRPpE7ULzwbf/57+7AJoByAKAwpMBnMEmwR7B0wKeQrBBmQDrANUB5ILXQzA/wbsxODN3i3sMQRnGXQf7hiYBuXofdq82Zrj7PnLDbUWahVPCFf29OyR7i730v6gBcQCyP+5+Hr4e/wo/nQDqgNXBE0BVf8iAwkJwhRWHDMg9RGf+NHi/NR927n3VxdrLFkybSf1EC8A9vUQ8+z3P/90BiMNlBQTGsMZ9gwk/1nzrupA8Hj4Lv9b+0f5BvTl9q0B8AhLEgcX8hRuDVcAxu3S2knXoOMz+1UU2iPzIR4PqvWH5IXZtt+u64f+iQ/fEkAOlwV3/t34aPyDAe0DnAUVB04HeQv7DkwGq/9l9YrwGfUH/6YJKRPcF9EU1BFZD+gKEgZ8/3b7ZfvBAZMETQu3Dt0IHQd6AZz6vPan8HHq2eyy9CUA/gsGEikQ5Ao0BbsA6wAdA5MDsgHe99TqvucK69L1RwccERAPrQmh+yHolOZ76w31iAZtEroS6xA0CCT7YPZL+a/9PgI0COsDfgLv/yj/wAGFBFIIAAnSCmMFrP5G/0IEZA/JGi0h6BIi/grtYeNi7FEBixINGicX9QkF9CLlWuE86In30gfGESUUZxS9EZILbgCk90Pz9vGg+uYABgMD+7/1CPFw8U/3cf6mAQsHqQ6cDxIM1AG58dDpmu6O/GUMkBtXHkYShQJr9ZDnLuqF8YL+XQ3EE/ARwwrLBXX+Lv1AAPwAZgQYCicNWg5pEKQJDQPc/dH2l/JG8uj0f/fL+V3+swMoCsUOtAw+BmH/6/lO+Yn5kf7bA8QFdgj4BWcAQ/qX8Nfoz+q/8mH/bQ0tFNETkQ9RCioFlgIXAoEBIgIQAC77TfyU/lQDcggvBun+vPvx9vDwj/eE/gUE+g4lEm4NeAy5BHD84fkV+Dzy9ulH66HvwfglA6QHuAn1CgUN8AurCKL/KPVl9Lv8LAo8FB8ZEQ9x/s7y9uxr8jv+bQnfDugMfwV/9K/oe+gh8Cb+LA3HFBwVHRRdEPIJEQHu+vz4KvkaAH0ECwabAmMBO/3W+rz5Z/p7+uACkQ8VEm0QrAJt7YbhnN/A5eryHAcbEz8WwxIYCED62vVm9XD4HgA5BEwEIQQDBU8CpwHzA3MC8wN6CLMI6QgACygIIQYsBpQBAf2v+u74Hvcw9vj69wGRCuoRoxAsCh8DR/ye+Jn5rP5lBPwIWg2CC1AJRAYs+0vtQuIr2pbZq+oU/aAITxJvFaUVOhTDDtkDvPr/9Ifwp/YM/SoC/gY5CM0EGwHl+p31X/oS/7cDagtDDdUMLg/zCg0E1gAR/sH4Le8S7sLx/PmsBJ0JQgpLCf4KtgswCbwDA/20+Rz/tAnaDq4PVwmM9rvkSN/G4LXrTfqZBB8JFgyKBID61vcw9jH43P0L/9P/JgQzCcIKPwrvCqcJtgigCI4FAgOk/0oA/f/xApUFDQlbCoEPdRT+EA0MZ/9t72nn5+RW6S70CAfMEuIXIheQDbT/hfzk80bkkN7p2kXf8OuL9m/+RQhZE5oVjxQRDwsDjPvO9urw7fBB+cr/GQilD8UQlA9dCwwI7gT7BP8GJAe2CAsK1gkFCcYI8AgrCpIKGAu6CdkJygmsAoH5Ku4e4q7eK+2J/yQLPA2EAHb3k/LS7Dzm1ePk6WHx+QJjDdgQARKVDUIEAviH67rkiOtA9i0Bzw+eGHMc+R2nF6YKeQJM/p/68/Zl+mcAxwcMD30Q2w2YCuwI/gdYCGsHTAV2BSwJHA+FEPgQJAwE77jTrMXGwcnNad7k8Fr/WxH1FlwSqg25A0X7PfR97IzoPe73+ecDzA68F5caShshFyMOngSb/jP8av1LAzoKZBFhFGgWhxa3EB4MwQIa+PPzUPKA+EoA/QlcEhcX0hHY/hbqUORZ2mvMFsuLzMHapvJFAgwLgRMHGpoWug6dAubzCfB773Tv1/UTBK4NTRcbHToanhX/DkAIjwMWBJoEjgZgDPQQDxKqEZQQQxA+ECoOmQ0pD4cOeAUA+HDqstr9zTbLVNx98csD4gzYBX8BQvtW8qPnSuEX4ybnLfd2A+IMFxREFs8RGAnE/TL0DfUH+on/qwt7FGkZlh1+G28QEAkvBd0DDQKpASwH3gq6DV0NHQcKAq78RPhE9MPyyfNt9h/9GwV0CoIPfg9E92PgbNJwy27Q59qr6/P6dQ7/GJ0ZiRm+ERwJmP/F9lnxafOl+uUCUA1/FlQa0BxvGekRFQsOBpgCCQRUBHMFugiwA5r/yPwV92vyiO8I8Evzdfm3AzILsBDIFKcTSwm99Rvi19xb2G3UC9o/43DzZwdZFFoZ0BpSGpETswkk/0z1EfRy9ur6zgK5DsIWQhyhH/4VOg55BtP6j/BW7VPsCe2b9j//ywbKDpUTxhVCFpcUXg5SC4gGgfrp7jrlP9t1177bpOtU/TMOKxY1EowOjgdb/aDzPe3m7OjvZ/tOBaIOeRUqGiEWewt+AvH0MuxW6fDpUvCw+KoCUgxTFHAT+hCSD1cP1QlUAkcCIAGhAQYClP/Q/3EABwAK/a39AP6F/ZQAXQOHBxUMlgv+/C7xU+nm46bmTO2b9h4AJQoUCnkI8QY+/Tz2VPEq7onv4/VG/XAGvhB8FmgX6Re7Eh0L8gVnAkkBowRtBqQHyAvcByUDu/9B+tr0WfKd89v2iv19BqQL/hCBEyoRtwcg+nDt/uOl3nnc/d1X47jskvtHBskNZhA2EoAR4QvsBCD9ifvL+tH82wDFCPcQTRZQGh0VvBJ8DN0Bbfiq8mjwiu2f8yX6hgFlCvEP5BLIEzgTpwvSBioAaPXt6z3kWN4r3TXiae5f/A8KOhKHEYYONAuJBJD80/br9ez3PP4gBUAM8RJYF4sVkg4wCSX/KfVN8D7uIfDS9NX73QOaC2ENhQz7DNsLqQaZ///8Avpo+PP1l/Xe9/v4JfxU/jICZwMrBN0GYAdqCbAJWQi1/xL5TvNr8av1RvumAZAG8gwiC3AHPwOq+7P2Y/Ia8PDx9PdG/jMEpQqzDlkPiwwhB04A/f3d++v3TfyQAOMCQAVZBu0EpwNSArT7LPpJ/Er8Xf73BSUKfQ2tEIUO4wjOAgb6e/Co7ezrieiA6qbvuvgIAFUF3QY7Ck4LAQfmApL9Bvvp+Zn5+/pRADwFcgrnDd8M8AyzCh4EGP/u+6X50Pdh+Q7+zwINCWgMsw7VEPYPAgzaB1ICHPym9JPu8ujd5+7p+vHz+TgDDgvaClkIwAZNA2D9Zvdj9vn3/vpf/4cEXwpcDfMOFgubCC0EtPyY+Tr4aPkj+gr/ggPrB2QKxQirCn4KTAfNAfL/Nf7p+rf2vPb59uL2vPqm+yUArwPzAg0EkgZrBkADuQP6/eH4VvUM9fX4Z/4RAp8EIgvrCnEGAQXiAGb8uvne92P3HPzN/zgCjwXfCasJFgdQBAsA9P5l/Pr4sPqD/k4AHv//AYsCXgGMAHf8kvxf/m39gv2bA0oFxgcoCx8IygQTBEX9EPal9vX2G/Os81v4q/xXAecDZQN0B4EH+APjAWD+dvy5/Ar8ffsQAdACYwNMB/oHXAWaBfcB0Pxd/X38afm5+tb/8QB0BpkIWAlICz4KSwh6BN0CPP2b+T/4wvKm8Ef0+Pk6+1sDWQeaBZIFygQKAI/8+fqV+NH5RPw8/qoBWAb6BYAIzwhqBIkALf/f/Ez6Yfv/+c//7AJCA2YFlAfVCaEF6gVTBC0EEwB2/Oz7B/wB+qb3Fv1I/lkAdwBYAPgDhgT3AZwA4QS8/Q75C/rP+M36VP4PAEQCwAe8BVgC0QUxAqv8EPv1+xv7HPyz/kQBiQR+BhQFfQVnBa4AZ/9+/hn9+vsC/oX/2/+lABIAEwL8AHn8kf11/9X86P3FAVEBWgQ2B18DGQOuBRf+1Pgx/Ab7s/eK+DP7mP5HAskA8wDOBmkF6P8uATsAQf7i/Yf8K/54A9AC6f6vBQMITwAjAaEBsPtz/KT7u/lV/aoBQP6UBU0IkwTmBisHigOY/6kBRPvC+rP8Y/aN9Sb6n/3u/GgERwUuBbEGygKp/wX+A/3t+V/7GP3T/S0BkwTsAk0GIQhsAr4ArwDf/mX7nfuI+rAAnAFK/rwDOAdVBgoBZQQWBlUEaP6/+1H/4f0y+ff4UP9D/1L/Kv/H/x8FqQNY/wkCXwe3/fb62P3K+2L88vwZ/lQAywXHAAL/mAZxA2f9JPx7/6b+uf3G/fwAEAR3A+EACQI1BPr+XP+1/9/+eP54/m7/eQC/AYP/2gBnAD39Jv5Y/nj8gf+AARP/IwPGBtsCMwEqBtcAyfo//TT93fr1+a37Bf6cAZX/df/LA0QDNwAnAC3/vv9f/7L8OP/5AjgBUf51A7ED+P4AAbT/F/zi/kz8bvoMAN8B1v32BAMGnAEABS4FewCk/mgA2vod/FL+kvg8+cn9Hf72/QEEzQL/ApUFvAD6/b3+J/5t+sv8a/6c/YMBqQJIAT4F1AYYABkA7gEt/yv8Hfy7/F4AwwEp/ssC7AawBBv/rQOwBZQBuf2z/Gz/Sv4++3r6C/8oAUH/df4XAMYDrAFm//EBhQV5AEX95v1p/Wr+a/u//P3+gAIeAIT+8gN6ApsAPv1y/2kBSABw/ej/ZwNdAZr/ZQB4AET/EQEy/+r9jAH+AAH/dgBVAqkAnQBK/wj9t/++/s76Xv/AAvT95QAGBqcCj/8lBWIBj/vw/jL/YfsW/KX+Rv0YAO7/jP7hAXICBAAJ/6YAUAHr/pv9FAFPAjsAUf8zAYUByf9NAMX9ev31/9D8Y/yQAJsAef8CBDQDsQDlBBID1v6x/6r/tfo2/W7+yvnB+yL/XP1D/m8DTAHcAIwEmQCR/VL/fP+R+8b8Wv+9/ZkALAFKACUDiQTY/xj/vQE+AOX8oPxo/or/AgDX/moB3QQmA1//NAIWBAwB4v2n/az/IP8L/VT8if5LAez/Bv71/gMCCgEl/zMAvQJCATz/9v1h/qH/uvxU/eP+dQCs/67+iwGrAOoAy/3P/0QBpgBj/nD/VQLIAMP/BQBN/9//IQH3/tr+KAJMAXj/hQBmAbkAtwDj/vf9JwD6/pn7yP/uAdH9fQAMBE8BfP8YAzYAXPyc/47/Q/yY/fX/PP58AIQAp/7ZAEUBVP+N/rAAfgFw/5X+wACiAC8ADAD5/2wANwDW/7X9c/6J/4v9vf38/yP/x//CAmoB+P/PAxgCVf+CAAUAf/xu/nX+T/va/ET/3f12/lwCJAFKADADXP/W/W//bv8e/bP9pv93/ikAkgCs/6QBVAK2/0//LQE4AEf+vv1X/rj+4v5j/jgAowKqAYD/cgGcAqMAQ/7K/k//cv8M/rT9Dv9ZAQkAgv5Y/skAlgCG/xkAZAGnAFYABv/T/tj/Dv67/e7+mv/z/t/+mQCXAHcAIv47AGIApgBJ/xP/awHM/7X/uf9i/0b/MP/d/p8AagHaAFMA/wDeAJoAZAAe/+z+qP/L/pD8IQDeAM/9jgAxAgUBsQBWAj0A7P00AFIA1PxY/nP/Wv7k/4T/q/65AMD/9v6w/q8ALQH3/zD/Z//q/8D/7v/8/wcA9P92/xn+PP79/rz+5v7L/3f/jAARAlMAfgDFAfMBZf8OAaIAPP0b/7H+Gf4v/bv9g/6y/9oA/gCMAL4Bkv+D/fH/GP/B/WX+vv/F/vL+cACn/7v/CwJ6/mf+SgLW/yX/Dv6w/o79IgCC/s3+SAEoAYT/AgGuAQ4A8P5c/0v/hf+g/n7+ov/dABgA\" type=\"audio/wav\" />\n",
       "                    Your browser does not support the audio element.\n",
       "                </audio>\n",
       "              "
      ],
      "text/plain": [
       "<IPython.lib.display.Audio object>"
      ]
     },
     "metadata": {},
     "output_type": "display_data"
    },
    {
     "name": "stdout",
     "output_type": "stream",
     "text": [
      "Playing clean audio 2\n"
     ]
    },
    {
     "data": {
      "text/html": [
       "\n",
       "                <audio  controls=\"controls\" >\n",
       "                    <source src=\"data:audio/wav;base64,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\" type=\"audio/wav\" />\n",
       "                    Your browser does not support the audio element.\n",
       "                </audio>\n",
       "              "
      ],
      "text/plain": [
       "<IPython.lib.display.Audio object>"
      ]
     },
     "metadata": {},
     "output_type": "display_data"
    },
    {
     "name": "stdout",
     "output_type": "stream",
     "text": [
      "Playing poisoned audio 2\n"
     ]
    },
    {
     "data": {
      "text/html": [
       "\n",
       "                <audio  controls=\"controls\" >\n",
       "                    <source src=\"data:audio/wav;base64,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\" type=\"audio/wav\" />\n",
       "                    Your browser does not support the audio element.\n",
       "                </audio>\n",
       "              "
      ],
      "text/plain": [
       "<IPython.lib.display.Audio object>"
      ]
     },
     "metadata": {},
     "output_type": "display_data"
    },
    {
     "name": "stderr",
     "output_type": "stream",
     "text": [
      "/opt/conda/lib/python3.10/site-packages/transformers/optimization.py:591: FutureWarning: This implementation of AdamW is deprecated and will be removed in a future version. Use the PyTorch implementation torch.optim.AdamW instead, or set `no_deprecation_warning=True` to disable this warning\n",
      "  warnings.warn(\n",
      "  0%|          | 0/600 [00:00<?, ?it/s]/tmp/ipykernel_24/2230012296.py:46: UserWarning: To copy construct from a tensor, it is recommended to use sourceTensor.clone().detach() or sourceTensor.clone().detach().requires_grad_(True), rather than torch.tensor(sourceTensor).\n",
      "  audios = [torch.tensor(audio) for audio in audios]\n",
      "100%|██████████| 600/600 [02:14<00:00,  4.46it/s]\n"
     ]
    },
    {
     "name": "stdout",
     "output_type": "stream",
     "text": [
      "Epoch 0, Loss: 1.7699292130271593\n"
     ]
    },
    {
     "name": "stderr",
     "output_type": "stream",
     "text": [
      "100%|██████████| 600/600 [02:14<00:00,  4.46it/s]\n"
     ]
    },
    {
     "name": "stdout",
     "output_type": "stream",
     "text": [
      "Epoch 1, Loss: 1.5255770468711853\n"
     ]
    },
    {
     "name": "stderr",
     "output_type": "stream",
     "text": [
      "100%|██████████| 600/600 [02:14<00:00,  4.46it/s]\n"
     ]
    },
    {
     "name": "stdout",
     "output_type": "stream",
     "text": [
      "Epoch 2, Loss: 1.142166901230812\n",
      "Test Accuracy: 83.66666666666667%\n",
      "567\n",
      "600\n",
      "ASR: 94.5%\n",
      "Clean Accuracy Drop (CAD): 14.833333333333329%\n",
      "Backdoor Attack Success Rate: 94.5%\n",
      "    poisoning_rate  backdoor_success_rate  clean_accuracy_after  \\\n",
      "0             0.01              11.333333             98.833333   \n",
      "1             0.01              11.333333             98.166667   \n",
      "2             0.01              11.500000             97.666667   \n",
      "3             0.01              11.500000             97.833333   \n",
      "4             0.05              21.666667             99.666667   \n",
      "5             0.05              15.166667             98.333333   \n",
      "6             0.05              87.000000             96.500000   \n",
      "7             0.05              49.500000             97.500000   \n",
      "8             0.10              77.333333             96.666667   \n",
      "9             0.10              48.166667             92.000000   \n",
      "10            0.10              99.833333             80.333333   \n",
      "11            0.10              94.500000             83.666667   \n",
      "\n",
      "    clean_accuracy_drop  decay  \n",
      "0             -0.333333   75.0  \n",
      "1              0.333333  150.0  \n",
      "2              0.833333   75.0  \n",
      "3              0.666667  150.0  \n",
      "4             -1.166667   75.0  \n",
      "5              0.166667  150.0  \n",
      "6              2.000000   75.0  \n",
      "7              1.000000  150.0  \n",
      "8              1.833333   75.0  \n",
      "9              6.500000  150.0  \n",
      "10            18.166667   75.0  \n",
      "11            14.833333  150.0  \n"
     ]
    }
   ],
   "source": [
    "from itertools import product\n",
    "\n",
    "poisoning_rates = [0.01, 0.05, 0.1]  \n",
    "decays = [0.3, 0.6]\n",
    "delays = [75, 150]\n",
    "\n",
    "results_df = pd.DataFrame(columns=[\"poisoning_rate\", \"backdoor_success_rate\", \"clean_accuracy_after\", \"clean_accuracy_drop\"])\n",
    "\n",
    "for poisoning_rate, decay, delay in product(poisoning_rates, decays, delays):\n",
    "\n",
    "    backdoor_accuracy, backdoor_attack_success_rate, accuracy_drop = backdoor_attack_and_eval_wav2vec2(poisoning_rate)\n",
    "        \n",
    "    clean_accuracy_after = backdoor_accuracy\n",
    "\n",
    "    new_row = pd.DataFrame([{\n",
    "        \"poisoning_rate\": poisoning_rate,\n",
    "        \"decay\": delay,\n",
    "        \"decay\": delay,\n",
    "        \"backdoor_success_rate\": backdoor_attack_success_rate,\n",
    "        \"clean_accuracy_after\": clean_accuracy_after,\n",
    "        \"clean_accuracy_drop\": clean_accuracy - clean_accuracy_after\n",
    "    }])\n",
    "\n",
    "    results_df = pd.concat([results_df, new_row], ignore_index=True)\n",
    "\n",
    "print(results_df)\n",
    "\n",
    "output_file = \"Wav2Vec2-SD-BKDR-Reverb.csv\"\n",
    "results_df.to_csv(output_file, sep='\\t', index=False)\n"
   ]
  },
  {
   "cell_type": "code",
   "execution_count": 11,
   "id": "bfc9b3f5",
   "metadata": {
    "execution": {
     "iopub.execute_input": "2024-11-10T22:12:35.036757Z",
     "iopub.status.busy": "2024-11-10T22:12:35.036033Z",
     "iopub.status.idle": "2024-11-10T22:12:35.045229Z",
     "shell.execute_reply": "2024-11-10T22:12:35.044271Z"
    },
    "papermill": {
     "duration": 1.883946,
     "end_time": "2024-11-10T22:12:35.047204",
     "exception": false,
     "start_time": "2024-11-10T22:12:33.163258",
     "status": "completed"
    },
    "tags": []
   },
   "outputs": [
    {
     "name": "stdout",
     "output_type": "stream",
     "text": [
      "    poisoning_rate  backdoor_success_rate  clean_accuracy_after  \\\n",
      "0             0.01              11.333333             98.833333   \n",
      "1             0.01              11.333333             98.166667   \n",
      "2             0.01              11.500000             97.666667   \n",
      "3             0.01              11.500000             97.833333   \n",
      "4             0.05              21.666667             99.666667   \n",
      "5             0.05              15.166667             98.333333   \n",
      "6             0.05              87.000000             96.500000   \n",
      "7             0.05              49.500000             97.500000   \n",
      "8             0.10              77.333333             96.666667   \n",
      "9             0.10              48.166667             92.000000   \n",
      "10            0.10              99.833333             80.333333   \n",
      "11            0.10              94.500000             83.666667   \n",
      "\n",
      "    clean_accuracy_drop  decay  \n",
      "0             -0.333333   75.0  \n",
      "1              0.333333  150.0  \n",
      "2              0.833333   75.0  \n",
      "3              0.666667  150.0  \n",
      "4             -1.166667   75.0  \n",
      "5              0.166667  150.0  \n",
      "6              2.000000   75.0  \n",
      "7              1.000000  150.0  \n",
      "8              1.833333   75.0  \n",
      "9              6.500000  150.0  \n",
      "10            18.166667   75.0  \n",
      "11            14.833333  150.0  \n"
     ]
    }
   ],
   "source": [
    "print(results_df)"
   ]
  },
  {
   "cell_type": "code",
   "execution_count": null,
   "id": "db6c9277",
   "metadata": {
    "papermill": {
     "duration": 1.839878,
     "end_time": "2024-11-10T22:12:38.714909",
     "exception": false,
     "start_time": "2024-11-10T22:12:36.875031",
     "status": "completed"
    },
    "tags": []
   },
   "outputs": [],
   "source": []
  }
 ],
 "metadata": {
  "kaggle": {
   "accelerator": "nvidiaTeslaT4",
   "dataSources": [
    {
     "datasetId": 5789127,
     "sourceId": 9510683,
     "sourceType": "datasetVersion"
    },
    {
     "datasetId": 5801049,
     "sourceId": 9526431,
     "sourceType": "datasetVersion"
    }
   ],
   "dockerImageVersionId": 30787,
   "isGpuEnabled": true,
   "isInternetEnabled": true,
   "language": "python",
   "sourceType": "notebook"
  },
  "kernelspec": {
   "display_name": "Python 3",
   "language": "python",
   "name": "python3"
  },
  "language_info": {
   "codemirror_mode": {
    "name": "ipython",
    "version": 3
   },
   "file_extension": ".py",
   "mimetype": "text/x-python",
   "name": "python",
   "nbconvert_exporter": "python",
   "pygments_lexer": "ipython3",
   "version": "3.10.14"
  },
  "papermill": {
   "default_parameters": {},
   "duration": 5525.882205,
   "end_time": "2024-11-10T22:12:43.181653",
   "environment_variables": {},
   "exception": null,
   "input_path": "__notebook__.ipynb",
   "output_path": "__notebook__.ipynb",
   "parameters": {},
   "start_time": "2024-11-10T20:40:37.299448",
   "version": "2.6.0"
  },
  "widgets": {
   "application/vnd.jupyter.widget-state+json": {
    "state": {
     "085bcaec32a446c39d3edc7733042fa8": {
      "model_module": "@jupyter-widgets/controls",
      "model_module_version": "1.5.0",
      "model_name": "HTMLModel",
      "state": {
       "_dom_classes": [],
       "_model_module": "@jupyter-widgets/controls",
       "_model_module_version": "1.5.0",
       "_model_name": "HTMLModel",
       "_view_count": null,
       "_view_module": "@jupyter-widgets/controls",
       "_view_module_version": "1.5.0",
       "_view_name": "HTMLView",
       "description": "",
       "description_tooltip": null,
       "layout": "IPY_MODEL_faa09db4f13e46f89fd3728294cbc0fc",
       "placeholder": "​",
       "style": "IPY_MODEL_101069863b1d47b4a7467007aceed838",
       "value": "preprocessor_config.json: 100%"
      }
     },
     "0dcbc75302b847cfab287e9f48b962d3": {
      "model_module": "@jupyter-widgets/controls",
      "model_module_version": "1.5.0",
      "model_name": "DescriptionStyleModel",
      "state": {
       "_model_module": "@jupyter-widgets/controls",
       "_model_module_version": "1.5.0",
       "_model_name": "DescriptionStyleModel",
       "_view_count": null,
       "_view_module": "@jupyter-widgets/base",
       "_view_module_version": "1.2.0",
       "_view_name": "StyleView",
       "description_width": ""
      }
     },
     "101069863b1d47b4a7467007aceed838": {
      "model_module": "@jupyter-widgets/controls",
      "model_module_version": "1.5.0",
      "model_name": "DescriptionStyleModel",
      "state": {
       "_model_module": "@jupyter-widgets/controls",
       "_model_module_version": "1.5.0",
       "_model_name": "DescriptionStyleModel",
       "_view_count": null,
       "_view_module": "@jupyter-widgets/base",
       "_view_module_version": "1.2.0",
       "_view_name": "StyleView",
       "description_width": ""
      }
     },
     "1345c6cb3d3f464d94ff473b16aec2eb": {
      "model_module": "@jupyter-widgets/controls",
      "model_module_version": "1.5.0",
      "model_name": "DescriptionStyleModel",
      "state": {
       "_model_module": "@jupyter-widgets/controls",
       "_model_module_version": "1.5.0",
       "_model_name": "DescriptionStyleModel",
       "_view_count": null,
       "_view_module": "@jupyter-widgets/base",
       "_view_module_version": "1.2.0",
       "_view_name": "StyleView",
       "description_width": ""
      }
     },
     "156a5f1ca9234f0791f304576c111488": {
      "model_module": "@jupyter-widgets/controls",
      "model_module_version": "1.5.0",
      "model_name": "HTMLModel",
      "state": {
       "_dom_classes": [],
       "_model_module": "@jupyter-widgets/controls",
       "_model_module_version": "1.5.0",
       "_model_name": "HTMLModel",
       "_view_count": null,
       "_view_module": "@jupyter-widgets/controls",
       "_view_module_version": "1.5.0",
       "_view_name": "HTMLView",
       "description": "",
       "description_tooltip": null,
       "layout": "IPY_MODEL_6dde065fe61f4670a4089bca918724ef",
       "placeholder": "​",
       "style": "IPY_MODEL_21cd65a8e9d84001bfa8b743eaac1e0f",
       "value": " 300/300 [00:00&lt;00:00, 26.4kB/s]"
      }
     },
     "176302531ab047f2b030cdeb0c529961": {
      "model_module": "@jupyter-widgets/base",
      "model_module_version": "1.2.0",
      "model_name": "LayoutModel",
      "state": {
       "_model_module": "@jupyter-widgets/base",
       "_model_module_version": "1.2.0",
       "_model_name": "LayoutModel",
       "_view_count": null,
       "_view_module": "@jupyter-widgets/base",
       "_view_module_version": "1.2.0",
       "_view_name": "LayoutView",
       "align_content": null,
       "align_items": null,
       "align_self": null,
       "border": null,
       "bottom": null,
       "display": null,
       "flex": null,
       "flex_flow": null,
       "grid_area": null,
       "grid_auto_columns": null,
       "grid_auto_flow": null,
       "grid_auto_rows": null,
       "grid_column": null,
       "grid_gap": null,
       "grid_row": null,
       "grid_template_areas": null,
       "grid_template_columns": null,
       "grid_template_rows": null,
       "height": null,
       "justify_content": null,
       "justify_items": null,
       "left": null,
       "margin": null,
       "max_height": null,
       "max_width": null,
       "min_height": null,
       "min_width": null,
       "object_fit": null,
       "object_position": null,
       "order": null,
       "overflow": null,
       "overflow_x": null,
       "overflow_y": null,
       "padding": null,
       "right": null,
       "top": null,
       "visibility": null,
       "width": null
      }
     },
     "1d372c58a3f14e4d945e2088a2ef8c6b": {
      "model_module": "@jupyter-widgets/controls",
      "model_module_version": "1.5.0",
      "model_name": "DescriptionStyleModel",
      "state": {
       "_model_module": "@jupyter-widgets/controls",
       "_model_module_version": "1.5.0",
       "_model_name": "DescriptionStyleModel",
       "_view_count": null,
       "_view_module": "@jupyter-widgets/base",
       "_view_module_version": "1.2.0",
       "_view_name": "StyleView",
       "description_width": ""
      }
     },
     "1edc08b78d59416db5ce83a859fef946": {
      "model_module": "@jupyter-widgets/base",
      "model_module_version": "1.2.0",
      "model_name": "LayoutModel",
      "state": {
       "_model_module": "@jupyter-widgets/base",
       "_model_module_version": "1.2.0",
       "_model_name": "LayoutModel",
       "_view_count": null,
       "_view_module": "@jupyter-widgets/base",
       "_view_module_version": "1.2.0",
       "_view_name": "LayoutView",
       "align_content": null,
       "align_items": null,
       "align_self": null,
       "border": null,
       "bottom": null,
       "display": null,
       "flex": null,
       "flex_flow": null,
       "grid_area": null,
       "grid_auto_columns": null,
       "grid_auto_flow": null,
       "grid_auto_rows": null,
       "grid_column": null,
       "grid_gap": null,
       "grid_row": null,
       "grid_template_areas": null,
       "grid_template_columns": null,
       "grid_template_rows": null,
       "height": null,
       "justify_content": null,
       "justify_items": null,
       "left": null,
       "margin": null,
       "max_height": null,
       "max_width": null,
       "min_height": null,
       "min_width": null,
       "object_fit": null,
       "object_position": null,
       "order": null,
       "overflow": null,
       "overflow_x": null,
       "overflow_y": null,
       "padding": null,
       "right": null,
       "top": null,
       "visibility": null,
       "width": null
      }
     },
     "203e112981d14bb19196119d93f12088": {
      "model_module": "@jupyter-widgets/base",
      "model_module_version": "1.2.0",
      "model_name": "LayoutModel",
      "state": {
       "_model_module": "@jupyter-widgets/base",
       "_model_module_version": "1.2.0",
       "_model_name": "LayoutModel",
       "_view_count": null,
       "_view_module": "@jupyter-widgets/base",
       "_view_module_version": "1.2.0",
       "_view_name": "LayoutView",
       "align_content": null,
       "align_items": null,
       "align_self": null,
       "border": null,
       "bottom": null,
       "display": null,
       "flex": null,
       "flex_flow": null,
       "grid_area": null,
       "grid_auto_columns": null,
       "grid_auto_flow": null,
       "grid_auto_rows": null,
       "grid_column": null,
       "grid_gap": null,
       "grid_row": null,
       "grid_template_areas": null,
       "grid_template_columns": null,
       "grid_template_rows": null,
       "height": null,
       "justify_content": null,
       "justify_items": null,
       "left": null,
       "margin": null,
       "max_height": null,
       "max_width": null,
       "min_height": null,
       "min_width": null,
       "object_fit": null,
       "object_position": null,
       "order": null,
       "overflow": null,
       "overflow_x": null,
       "overflow_y": null,
       "padding": null,
       "right": null,
       "top": null,
       "visibility": null,
       "width": null
      }
     },
     "21cd65a8e9d84001bfa8b743eaac1e0f": {
      "model_module": "@jupyter-widgets/controls",
      "model_module_version": "1.5.0",
      "model_name": "DescriptionStyleModel",
      "state": {
       "_model_module": "@jupyter-widgets/controls",
       "_model_module_version": "1.5.0",
       "_model_name": "DescriptionStyleModel",
       "_view_count": null,
       "_view_module": "@jupyter-widgets/base",
       "_view_module_version": "1.2.0",
       "_view_name": "StyleView",
       "description_width": ""
      }
     },
     "21f41f23cd0c42578f1932e94da0dc80": {
      "model_module": "@jupyter-widgets/controls",
      "model_module_version": "1.5.0",
      "model_name": "DescriptionStyleModel",
      "state": {
       "_model_module": "@jupyter-widgets/controls",
       "_model_module_version": "1.5.0",
       "_model_name": "DescriptionStyleModel",
       "_view_count": null,
       "_view_module": "@jupyter-widgets/base",
       "_view_module_version": "1.2.0",
       "_view_name": "StyleView",
       "description_width": ""
      }
     },
     "26227b3072d740e39a2bac91dd63b06e": {
      "model_module": "@jupyter-widgets/controls",
      "model_module_version": "1.5.0",
      "model_name": "ProgressStyleModel",
      "state": {
       "_model_module": "@jupyter-widgets/controls",
       "_model_module_version": "1.5.0",
       "_model_name": "ProgressStyleModel",
       "_view_count": null,
       "_view_module": "@jupyter-widgets/base",
       "_view_module_version": "1.2.0",
       "_view_name": "StyleView",
       "bar_color": null,
       "description_width": ""
      }
     },
     "35c6de5f26f94a24a52fab5965ed85c3": {
      "model_module": "@jupyter-widgets/base",
      "model_module_version": "1.2.0",
      "model_name": "LayoutModel",
      "state": {
       "_model_module": "@jupyter-widgets/base",
       "_model_module_version": "1.2.0",
       "_model_name": "LayoutModel",
       "_view_count": null,
       "_view_module": "@jupyter-widgets/base",
       "_view_module_version": "1.2.0",
       "_view_name": "LayoutView",
       "align_content": null,
       "align_items": null,
       "align_self": null,
       "border": null,
       "bottom": null,
       "display": null,
       "flex": null,
       "flex_flow": null,
       "grid_area": null,
       "grid_auto_columns": null,
       "grid_auto_flow": null,
       "grid_auto_rows": null,
       "grid_column": null,
       "grid_gap": null,
       "grid_row": null,
       "grid_template_areas": null,
       "grid_template_columns": null,
       "grid_template_rows": null,
       "height": null,
       "justify_content": null,
       "justify_items": null,
       "left": null,
       "margin": null,
       "max_height": null,
       "max_width": null,
       "min_height": null,
       "min_width": null,
       "object_fit": null,
       "object_position": null,
       "order": null,
       "overflow": null,
       "overflow_x": null,
       "overflow_y": null,
       "padding": null,
       "right": null,
       "top": null,
       "visibility": null,
       "width": null
      }
     },
     "401fddf2d5a44361bdd39f0b34a94885": {
      "model_module": "@jupyter-widgets/base",
      "model_module_version": "1.2.0",
      "model_name": "LayoutModel",
      "state": {
       "_model_module": "@jupyter-widgets/base",
       "_model_module_version": "1.2.0",
       "_model_name": "LayoutModel",
       "_view_count": null,
       "_view_module": "@jupyter-widgets/base",
       "_view_module_version": "1.2.0",
       "_view_name": "LayoutView",
       "align_content": null,
       "align_items": null,
       "align_self": null,
       "border": null,
       "bottom": null,
       "display": null,
       "flex": null,
       "flex_flow": null,
       "grid_area": null,
       "grid_auto_columns": null,
       "grid_auto_flow": null,
       "grid_auto_rows": null,
       "grid_column": null,
       "grid_gap": null,
       "grid_row": null,
       "grid_template_areas": null,
       "grid_template_columns": null,
       "grid_template_rows": null,
       "height": null,
       "justify_content": null,
       "justify_items": null,
       "left": null,
       "margin": null,
       "max_height": null,
       "max_width": null,
       "min_height": null,
       "min_width": null,
       "object_fit": null,
       "object_position": null,
       "order": null,
       "overflow": null,
       "overflow_x": null,
       "overflow_y": null,
       "padding": null,
       "right": null,
       "top": null,
       "visibility": null,
       "width": null
      }
     },
     "474ce0dc0ad44282a4e91a4ffa0747e5": {
      "model_module": "@jupyter-widgets/controls",
      "model_module_version": "1.5.0",
      "model_name": "HTMLModel",
      "state": {
       "_dom_classes": [],
       "_model_module": "@jupyter-widgets/controls",
       "_model_module_version": "1.5.0",
       "_model_name": "HTMLModel",
       "_view_count": null,
       "_view_module": "@jupyter-widgets/controls",
       "_view_module_version": "1.5.0",
       "_view_name": "HTMLView",
       "description": "",
       "description_tooltip": null,
       "layout": "IPY_MODEL_203e112981d14bb19196119d93f12088",
       "placeholder": "​",
       "style": "IPY_MODEL_0dcbc75302b847cfab287e9f48b962d3",
       "value": " 262/262 [00:00&lt;00:00, 21.2kB/s]"
      }
     },
     "4a73ef853b254d4595b5e64856d72814": {
      "model_module": "@jupyter-widgets/controls",
      "model_module_version": "1.5.0",
      "model_name": "FloatProgressModel",
      "state": {
       "_dom_classes": [],
       "_model_module": "@jupyter-widgets/controls",
       "_model_module_version": "1.5.0",
       "_model_name": "FloatProgressModel",
       "_view_count": null,
       "_view_module": "@jupyter-widgets/controls",
       "_view_module_version": "1.5.0",
       "_view_name": "ProgressView",
       "bar_style": "success",
       "description": "",
       "description_tooltip": null,
       "layout": "IPY_MODEL_a4a5d14606cc4b5a9cf15efae19dff3f",
       "max": 1531.0,
       "min": 0.0,
       "orientation": "horizontal",
       "style": "IPY_MODEL_b81cce5c66be4950a0a5e40cadadb238",
       "value": 1531.0
      }
     },
     "4ae17965db0542cf87cf19d8cff71905": {
      "model_module": "@jupyter-widgets/controls",
      "model_module_version": "1.5.0",
      "model_name": "FloatProgressModel",
      "state": {
       "_dom_classes": [],
       "_model_module": "@jupyter-widgets/controls",
       "_model_module_version": "1.5.0",
       "_model_name": "FloatProgressModel",
       "_view_count": null,
       "_view_module": "@jupyter-widgets/controls",
       "_view_module_version": "1.5.0",
       "_view_name": "ProgressView",
       "bar_style": "success",
       "description": "",
       "description_tooltip": null,
       "layout": "IPY_MODEL_176302531ab047f2b030cdeb0c529961",
       "max": 300.0,
       "min": 0.0,
       "orientation": "horizontal",
       "style": "IPY_MODEL_bfccaf5bbf2e49e29f37d9580995a7e4",
       "value": 300.0
      }
     },
     "51a8a55cbd1f4a0eb632b1b9c0ce98e0": {
      "model_module": "@jupyter-widgets/controls",
      "model_module_version": "1.5.0",
      "model_name": "FloatProgressModel",
      "state": {
       "_dom_classes": [],
       "_model_module": "@jupyter-widgets/controls",
       "_model_module_version": "1.5.0",
       "_model_name": "FloatProgressModel",
       "_view_count": null,
       "_view_module": "@jupyter-widgets/controls",
       "_view_module_version": "1.5.0",
       "_view_name": "ProgressView",
       "bar_style": "success",
       "description": "",
       "description_tooltip": null,
       "layout": "IPY_MODEL_401fddf2d5a44361bdd39f0b34a94885",
       "max": 85.0,
       "min": 0.0,
       "orientation": "horizontal",
       "style": "IPY_MODEL_a78a5290d7a24c37b89be32a2dedd70b",
       "value": 85.0
      }
     },
     "53cdefefb7ad4066b97cb013aa6cbd16": {
      "model_module": "@jupyter-widgets/controls",
      "model_module_version": "1.5.0",
      "model_name": "HBoxModel",
      "state": {
       "_dom_classes": [],
       "_model_module": "@jupyter-widgets/controls",
       "_model_module_version": "1.5.0",
       "_model_name": "HBoxModel",
       "_view_count": null,
       "_view_module": "@jupyter-widgets/controls",
       "_view_module_version": "1.5.0",
       "_view_name": "HBoxView",
       "box_style": "",
       "children": [
        "IPY_MODEL_8b2f9a32557149619ad32bd1965b3b32",
        "IPY_MODEL_51a8a55cbd1f4a0eb632b1b9c0ce98e0",
        "IPY_MODEL_b125a77e3eb24d9bb454ca3b32234884"
       ],
       "layout": "IPY_MODEL_867ab74a6e084c339c2c3ab9d91aabae"
      }
     },
     "54b80f22f2324748ac5511086a421b58": {
      "model_module": "@jupyter-widgets/controls",
      "model_module_version": "1.5.0",
      "model_name": "HBoxModel",
      "state": {
       "_dom_classes": [],
       "_model_module": "@jupyter-widgets/controls",
       "_model_module_version": "1.5.0",
       "_model_name": "HBoxModel",
       "_view_count": null,
       "_view_module": "@jupyter-widgets/controls",
       "_view_module_version": "1.5.0",
       "_view_name": "HBoxView",
       "box_style": "",
       "children": [
        "IPY_MODEL_085bcaec32a446c39d3edc7733042fa8",
        "IPY_MODEL_6a0774bf1b6c47ebb760658dda4d070d",
        "IPY_MODEL_474ce0dc0ad44282a4e91a4ffa0747e5"
       ],
       "layout": "IPY_MODEL_6cfc398fb21a47b8a56627bdf7010110"
      }
     },
     "575804668fb54a34a1fd28812092e2ce": {
      "model_module": "@jupyter-widgets/controls",
      "model_module_version": "1.5.0",
      "model_name": "HTMLModel",
      "state": {
       "_dom_classes": [],
       "_model_module": "@jupyter-widgets/controls",
       "_model_module_version": "1.5.0",
       "_model_name": "HTMLModel",
       "_view_count": null,
       "_view_module": "@jupyter-widgets/controls",
       "_view_module_version": "1.5.0",
       "_view_name": "HTMLView",
       "description": "",
       "description_tooltip": null,
       "layout": "IPY_MODEL_1edc08b78d59416db5ce83a859fef946",
       "placeholder": "​",
       "style": "IPY_MODEL_1d372c58a3f14e4d945e2088a2ef8c6b",
       "value": " 1.26G/1.26G [00:05&lt;00:00, 224MB/s]"
      }
     },
     "687e73e8629c4eab86cc3542798ff005": {
      "model_module": "@jupyter-widgets/controls",
      "model_module_version": "1.5.0",
      "model_name": "HTMLModel",
      "state": {
       "_dom_classes": [],
       "_model_module": "@jupyter-widgets/controls",
       "_model_module_version": "1.5.0",
       "_model_name": "HTMLModel",
       "_view_count": null,
       "_view_module": "@jupyter-widgets/controls",
       "_view_module_version": "1.5.0",
       "_view_name": "HTMLView",
       "description": "",
       "description_tooltip": null,
       "layout": "IPY_MODEL_b9ac76f705574ddab97624725b52dc8f",
       "placeholder": "​",
       "style": "IPY_MODEL_711deca6c8f74ed390ccbdddde074b53",
       "value": " 1.53k/1.53k [00:00&lt;00:00, 123kB/s]"
      }
     },
     "6a0774bf1b6c47ebb760658dda4d070d": {
      "model_module": "@jupyter-widgets/controls",
      "model_module_version": "1.5.0",
      "model_name": "FloatProgressModel",
      "state": {
       "_dom_classes": [],
       "_model_module": "@jupyter-widgets/controls",
       "_model_module_version": "1.5.0",
       "_model_name": "FloatProgressModel",
       "_view_count": null,
       "_view_module": "@jupyter-widgets/controls",
       "_view_module_version": "1.5.0",
       "_view_name": "ProgressView",
       "bar_style": "success",
       "description": "",
       "description_tooltip": null,
       "layout": "IPY_MODEL_8b027e462c4744d7802e3083d494f257",
       "max": 262.0,
       "min": 0.0,
       "orientation": "horizontal",
       "style": "IPY_MODEL_26227b3072d740e39a2bac91dd63b06e",
       "value": 262.0
      }
     },
     "6ac2e630e1bf4c0991e338c9b623b6bb": {
      "model_module": "@jupyter-widgets/controls",
      "model_module_version": "1.5.0",
      "model_name": "HTMLModel",
      "state": {
       "_dom_classes": [],
       "_model_module": "@jupyter-widgets/controls",
       "_model_module_version": "1.5.0",
       "_model_name": "HTMLModel",
       "_view_count": null,
       "_view_module": "@jupyter-widgets/controls",
       "_view_module_version": "1.5.0",
       "_view_name": "HTMLView",
       "description": "",
       "description_tooltip": null,
       "layout": "IPY_MODEL_35c6de5f26f94a24a52fab5965ed85c3",
       "placeholder": "​",
       "style": "IPY_MODEL_af012bf9e8ed48358bb59b4fc6f986af",
       "value": "model.safetensors: 100%"
      }
     },
     "6cfc398fb21a47b8a56627bdf7010110": {
      "model_module": "@jupyter-widgets/base",
      "model_module_version": "1.2.0",
      "model_name": "LayoutModel",
      "state": {
       "_model_module": "@jupyter-widgets/base",
       "_model_module_version": "1.2.0",
       "_model_name": "LayoutModel",
       "_view_count": null,
       "_view_module": "@jupyter-widgets/base",
       "_view_module_version": "1.2.0",
       "_view_name": "LayoutView",
       "align_content": null,
       "align_items": null,
       "align_self": null,
       "border": null,
       "bottom": null,
       "display": null,
       "flex": null,
       "flex_flow": null,
       "grid_area": null,
       "grid_auto_columns": null,
       "grid_auto_flow": null,
       "grid_auto_rows": null,
       "grid_column": null,
       "grid_gap": null,
       "grid_row": null,
       "grid_template_areas": null,
       "grid_template_columns": null,
       "grid_template_rows": null,
       "height": null,
       "justify_content": null,
       "justify_items": null,
       "left": null,
       "margin": null,
       "max_height": null,
       "max_width": null,
       "min_height": null,
       "min_width": null,
       "object_fit": null,
       "object_position": null,
       "order": null,
       "overflow": null,
       "overflow_x": null,
       "overflow_y": null,
       "padding": null,
       "right": null,
       "top": null,
       "visibility": null,
       "width": null
      }
     },
     "6dde065fe61f4670a4089bca918724ef": {
      "model_module": "@jupyter-widgets/base",
      "model_module_version": "1.2.0",
      "model_name": "LayoutModel",
      "state": {
       "_model_module": "@jupyter-widgets/base",
       "_model_module_version": "1.2.0",
       "_model_name": "LayoutModel",
       "_view_count": null,
       "_view_module": "@jupyter-widgets/base",
       "_view_module_version": "1.2.0",
       "_view_name": "LayoutView",
       "align_content": null,
       "align_items": null,
       "align_self": null,
       "border": null,
       "bottom": null,
       "display": null,
       "flex": null,
       "flex_flow": null,
       "grid_area": null,
       "grid_auto_columns": null,
       "grid_auto_flow": null,
       "grid_auto_rows": null,
       "grid_column": null,
       "grid_gap": null,
       "grid_row": null,
       "grid_template_areas": null,
       "grid_template_columns": null,
       "grid_template_rows": null,
       "height": null,
       "justify_content": null,
       "justify_items": null,
       "left": null,
       "margin": null,
       "max_height": null,
       "max_width": null,
       "min_height": null,
       "min_width": null,
       "object_fit": null,
       "object_position": null,
       "order": null,
       "overflow": null,
       "overflow_x": null,
       "overflow_y": null,
       "padding": null,
       "right": null,
       "top": null,
       "visibility": null,
       "width": null
      }
     },
     "6e569a4d76664337bbc689a3ed3ee9e9": {
      "model_module": "@jupyter-widgets/base",
      "model_module_version": "1.2.0",
      "model_name": "LayoutModel",
      "state": {
       "_model_module": "@jupyter-widgets/base",
       "_model_module_version": "1.2.0",
       "_model_name": "LayoutModel",
       "_view_count": null,
       "_view_module": "@jupyter-widgets/base",
       "_view_module_version": "1.2.0",
       "_view_name": "LayoutView",
       "align_content": null,
       "align_items": null,
       "align_self": null,
       "border": null,
       "bottom": null,
       "display": null,
       "flex": null,
       "flex_flow": null,
       "grid_area": null,
       "grid_auto_columns": null,
       "grid_auto_flow": null,
       "grid_auto_rows": null,
       "grid_column": null,
       "grid_gap": null,
       "grid_row": null,
       "grid_template_areas": null,
       "grid_template_columns": null,
       "grid_template_rows": null,
       "height": null,
       "justify_content": null,
       "justify_items": null,
       "left": null,
       "margin": null,
       "max_height": null,
       "max_width": null,
       "min_height": null,
       "min_width": null,
       "object_fit": null,
       "object_position": null,
       "order": null,
       "overflow": null,
       "overflow_x": null,
       "overflow_y": null,
       "padding": null,
       "right": null,
       "top": null,
       "visibility": null,
       "width": null
      }
     },
     "711deca6c8f74ed390ccbdddde074b53": {
      "model_module": "@jupyter-widgets/controls",
      "model_module_version": "1.5.0",
      "model_name": "DescriptionStyleModel",
      "state": {
       "_model_module": "@jupyter-widgets/controls",
       "_model_module_version": "1.5.0",
       "_model_name": "DescriptionStyleModel",
       "_view_count": null,
       "_view_module": "@jupyter-widgets/base",
       "_view_module_version": "1.2.0",
       "_view_name": "StyleView",
       "description_width": ""
      }
     },
     "7909fa26c3094dfd8b0730bf0ceb7396": {
      "model_module": "@jupyter-widgets/base",
      "model_module_version": "1.2.0",
      "model_name": "LayoutModel",
      "state": {
       "_model_module": "@jupyter-widgets/base",
       "_model_module_version": "1.2.0",
       "_model_name": "LayoutModel",
       "_view_count": null,
       "_view_module": "@jupyter-widgets/base",
       "_view_module_version": "1.2.0",
       "_view_name": "LayoutView",
       "align_content": null,
       "align_items": null,
       "align_self": null,
       "border": null,
       "bottom": null,
       "display": null,
       "flex": null,
       "flex_flow": null,
       "grid_area": null,
       "grid_auto_columns": null,
       "grid_auto_flow": null,
       "grid_auto_rows": null,
       "grid_column": null,
       "grid_gap": null,
       "grid_row": null,
       "grid_template_areas": null,
       "grid_template_columns": null,
       "grid_template_rows": null,
       "height": null,
       "justify_content": null,
       "justify_items": null,
       "left": null,
       "margin": null,
       "max_height": null,
       "max_width": null,
       "min_height": null,
       "min_width": null,
       "object_fit": null,
       "object_position": null,
       "order": null,
       "overflow": null,
       "overflow_x": null,
       "overflow_y": null,
       "padding": null,
       "right": null,
       "top": null,
       "visibility": null,
       "width": null
      }
     },
     "867ab74a6e084c339c2c3ab9d91aabae": {
      "model_module": "@jupyter-widgets/base",
      "model_module_version": "1.2.0",
      "model_name": "LayoutModel",
      "state": {
       "_model_module": "@jupyter-widgets/base",
       "_model_module_version": "1.2.0",
       "_model_name": "LayoutModel",
       "_view_count": null,
       "_view_module": "@jupyter-widgets/base",
       "_view_module_version": "1.2.0",
       "_view_name": "LayoutView",
       "align_content": null,
       "align_items": null,
       "align_self": null,
       "border": null,
       "bottom": null,
       "display": null,
       "flex": null,
       "flex_flow": null,
       "grid_area": null,
       "grid_auto_columns": null,
       "grid_auto_flow": null,
       "grid_auto_rows": null,
       "grid_column": null,
       "grid_gap": null,
       "grid_row": null,
       "grid_template_areas": null,
       "grid_template_columns": null,
       "grid_template_rows": null,
       "height": null,
       "justify_content": null,
       "justify_items": null,
       "left": null,
       "margin": null,
       "max_height": null,
       "max_width": null,
       "min_height": null,
       "min_width": null,
       "object_fit": null,
       "object_position": null,
       "order": null,
       "overflow": null,
       "overflow_x": null,
       "overflow_y": null,
       "padding": null,
       "right": null,
       "top": null,
       "visibility": null,
       "width": null
      }
     },
     "875628f3938b4b449b5b8f1c2eda94d0": {
      "model_module": "@jupyter-widgets/controls",
      "model_module_version": "1.5.0",
      "model_name": "HBoxModel",
      "state": {
       "_dom_classes": [],
       "_model_module": "@jupyter-widgets/controls",
       "_model_module_version": "1.5.0",
       "_model_name": "HBoxModel",
       "_view_count": null,
       "_view_module": "@jupyter-widgets/controls",
       "_view_module_version": "1.5.0",
       "_view_name": "HBoxView",
       "box_style": "",
       "children": [
        "IPY_MODEL_6ac2e630e1bf4c0991e338c9b623b6bb",
        "IPY_MODEL_c99a4e5b71ff4ec186cc122496e7e48e",
        "IPY_MODEL_575804668fb54a34a1fd28812092e2ce"
       ],
       "layout": "IPY_MODEL_d8f99389347542eabf86af356940efca"
      }
     },
     "8b027e462c4744d7802e3083d494f257": {
      "model_module": "@jupyter-widgets/base",
      "model_module_version": "1.2.0",
      "model_name": "LayoutModel",
      "state": {
       "_model_module": "@jupyter-widgets/base",
       "_model_module_version": "1.2.0",
       "_model_name": "LayoutModel",
       "_view_count": null,
       "_view_module": "@jupyter-widgets/base",
       "_view_module_version": "1.2.0",
       "_view_name": "LayoutView",
       "align_content": null,
       "align_items": null,
       "align_self": null,
       "border": null,
       "bottom": null,
       "display": null,
       "flex": null,
       "flex_flow": null,
       "grid_area": null,
       "grid_auto_columns": null,
       "grid_auto_flow": null,
       "grid_auto_rows": null,
       "grid_column": null,
       "grid_gap": null,
       "grid_row": null,
       "grid_template_areas": null,
       "grid_template_columns": null,
       "grid_template_rows": null,
       "height": null,
       "justify_content": null,
       "justify_items": null,
       "left": null,
       "margin": null,
       "max_height": null,
       "max_width": null,
       "min_height": null,
       "min_width": null,
       "object_fit": null,
       "object_position": null,
       "order": null,
       "overflow": null,
       "overflow_x": null,
       "overflow_y": null,
       "padding": null,
       "right": null,
       "top": null,
       "visibility": null,
       "width": null
      }
     },
     "8b2f9a32557149619ad32bd1965b3b32": {
      "model_module": "@jupyter-widgets/controls",
      "model_module_version": "1.5.0",
      "model_name": "HTMLModel",
      "state": {
       "_dom_classes": [],
       "_model_module": "@jupyter-widgets/controls",
       "_model_module_version": "1.5.0",
       "_model_name": "HTMLModel",
       "_view_count": null,
       "_view_module": "@jupyter-widgets/controls",
       "_view_module_version": "1.5.0",
       "_view_name": "HTMLView",
       "description": "",
       "description_tooltip": null,
       "layout": "IPY_MODEL_8e48f37e6cdf4b8ab9525619b3467315",
       "placeholder": "​",
       "style": "IPY_MODEL_1345c6cb3d3f464d94ff473b16aec2eb",
       "value": "special_tokens_map.json: 100%"
      }
     },
     "8e48f37e6cdf4b8ab9525619b3467315": {
      "model_module": "@jupyter-widgets/base",
      "model_module_version": "1.2.0",
      "model_name": "LayoutModel",
      "state": {
       "_model_module": "@jupyter-widgets/base",
       "_model_module_version": "1.2.0",
       "_model_name": "LayoutModel",
       "_view_count": null,
       "_view_module": "@jupyter-widgets/base",
       "_view_module_version": "1.2.0",
       "_view_name": "LayoutView",
       "align_content": null,
       "align_items": null,
       "align_self": null,
       "border": null,
       "bottom": null,
       "display": null,
       "flex": null,
       "flex_flow": null,
       "grid_area": null,
       "grid_auto_columns": null,
       "grid_auto_flow": null,
       "grid_auto_rows": null,
       "grid_column": null,
       "grid_gap": null,
       "grid_row": null,
       "grid_template_areas": null,
       "grid_template_columns": null,
       "grid_template_rows": null,
       "height": null,
       "justify_content": null,
       "justify_items": null,
       "left": null,
       "margin": null,
       "max_height": null,
       "max_width": null,
       "min_height": null,
       "min_width": null,
       "object_fit": null,
       "object_position": null,
       "order": null,
       "overflow": null,
       "overflow_x": null,
       "overflow_y": null,
       "padding": null,
       "right": null,
       "top": null,
       "visibility": null,
       "width": null
      }
     },
     "a344735f2a7345f09c8fd8152ab87b96": {
      "model_module": "@jupyter-widgets/base",
      "model_module_version": "1.2.0",
      "model_name": "LayoutModel",
      "state": {
       "_model_module": "@jupyter-widgets/base",
       "_model_module_version": "1.2.0",
       "_model_name": "LayoutModel",
       "_view_count": null,
       "_view_module": "@jupyter-widgets/base",
       "_view_module_version": "1.2.0",
       "_view_name": "LayoutView",
       "align_content": null,
       "align_items": null,
       "align_self": null,
       "border": null,
       "bottom": null,
       "display": null,
       "flex": null,
       "flex_flow": null,
       "grid_area": null,
       "grid_auto_columns": null,
       "grid_auto_flow": null,
       "grid_auto_rows": null,
       "grid_column": null,
       "grid_gap": null,
       "grid_row": null,
       "grid_template_areas": null,
       "grid_template_columns": null,
       "grid_template_rows": null,
       "height": null,
       "justify_content": null,
       "justify_items": null,
       "left": null,
       "margin": null,
       "max_height": null,
       "max_width": null,
       "min_height": null,
       "min_width": null,
       "object_fit": null,
       "object_position": null,
       "order": null,
       "overflow": null,
       "overflow_x": null,
       "overflow_y": null,
       "padding": null,
       "right": null,
       "top": null,
       "visibility": null,
       "width": null
      }
     },
     "a4a5d14606cc4b5a9cf15efae19dff3f": {
      "model_module": "@jupyter-widgets/base",
      "model_module_version": "1.2.0",
      "model_name": "LayoutModel",
      "state": {
       "_model_module": "@jupyter-widgets/base",
       "_model_module_version": "1.2.0",
       "_model_name": "LayoutModel",
       "_view_count": null,
       "_view_module": "@jupyter-widgets/base",
       "_view_module_version": "1.2.0",
       "_view_name": "LayoutView",
       "align_content": null,
       "align_items": null,
       "align_self": null,
       "border": null,
       "bottom": null,
       "display": null,
       "flex": null,
       "flex_flow": null,
       "grid_area": null,
       "grid_auto_columns": null,
       "grid_auto_flow": null,
       "grid_auto_rows": null,
       "grid_column": null,
       "grid_gap": null,
       "grid_row": null,
       "grid_template_areas": null,
       "grid_template_columns": null,
       "grid_template_rows": null,
       "height": null,
       "justify_content": null,
       "justify_items": null,
       "left": null,
       "margin": null,
       "max_height": null,
       "max_width": null,
       "min_height": null,
       "min_width": null,
       "object_fit": null,
       "object_position": null,
       "order": null,
       "overflow": null,
       "overflow_x": null,
       "overflow_y": null,
       "padding": null,
       "right": null,
       "top": null,
       "visibility": null,
       "width": null
      }
     },
     "a674ac720377401a847dab9ba12979f2": {
      "model_module": "@jupyter-widgets/controls",
      "model_module_version": "1.5.0",
      "model_name": "HBoxModel",
      "state": {
       "_dom_classes": [],
       "_model_module": "@jupyter-widgets/controls",
       "_model_module_version": "1.5.0",
       "_model_name": "HBoxModel",
       "_view_count": null,
       "_view_module": "@jupyter-widgets/controls",
       "_view_module_version": "1.5.0",
       "_view_name": "HBoxView",
       "box_style": "",
       "children": [
        "IPY_MODEL_eb89a6944e4d4ecc8e7b6d9bd56f3166",
        "IPY_MODEL_4a73ef853b254d4595b5e64856d72814",
        "IPY_MODEL_687e73e8629c4eab86cc3542798ff005"
       ],
       "layout": "IPY_MODEL_a344735f2a7345f09c8fd8152ab87b96"
      }
     },
     "a78a5290d7a24c37b89be32a2dedd70b": {
      "model_module": "@jupyter-widgets/controls",
      "model_module_version": "1.5.0",
      "model_name": "ProgressStyleModel",
      "state": {
       "_model_module": "@jupyter-widgets/controls",
       "_model_module_version": "1.5.0",
       "_model_name": "ProgressStyleModel",
       "_view_count": null,
       "_view_module": "@jupyter-widgets/base",
       "_view_module_version": "1.2.0",
       "_view_name": "StyleView",
       "bar_color": null,
       "description_width": ""
      }
     },
     "af012bf9e8ed48358bb59b4fc6f986af": {
      "model_module": "@jupyter-widgets/controls",
      "model_module_version": "1.5.0",
      "model_name": "DescriptionStyleModel",
      "state": {
       "_model_module": "@jupyter-widgets/controls",
       "_model_module_version": "1.5.0",
       "_model_name": "DescriptionStyleModel",
       "_view_count": null,
       "_view_module": "@jupyter-widgets/base",
       "_view_module_version": "1.2.0",
       "_view_name": "StyleView",
       "description_width": ""
      }
     },
     "b125a77e3eb24d9bb454ca3b32234884": {
      "model_module": "@jupyter-widgets/controls",
      "model_module_version": "1.5.0",
      "model_name": "HTMLModel",
      "state": {
       "_dom_classes": [],
       "_model_module": "@jupyter-widgets/controls",
       "_model_module_version": "1.5.0",
       "_model_name": "HTMLModel",
       "_view_count": null,
       "_view_module": "@jupyter-widgets/controls",
       "_view_module_version": "1.5.0",
       "_view_name": "HTMLView",
       "description": "",
       "description_tooltip": null,
       "layout": "IPY_MODEL_7909fa26c3094dfd8b0730bf0ceb7396",
       "placeholder": "​",
       "style": "IPY_MODEL_bc99c727c85e4497b7b0c64933c6d699",
       "value": " 85.0/85.0 [00:00&lt;00:00, 7.22kB/s]"
      }
     },
     "b81cce5c66be4950a0a5e40cadadb238": {
      "model_module": "@jupyter-widgets/controls",
      "model_module_version": "1.5.0",
      "model_name": "ProgressStyleModel",
      "state": {
       "_model_module": "@jupyter-widgets/controls",
       "_model_module_version": "1.5.0",
       "_model_name": "ProgressStyleModel",
       "_view_count": null,
       "_view_module": "@jupyter-widgets/base",
       "_view_module_version": "1.2.0",
       "_view_name": "StyleView",
       "bar_color": null,
       "description_width": ""
      }
     },
     "b9365d47e8224187a4ee52e8ba66c92d": {
      "model_module": "@jupyter-widgets/controls",
      "model_module_version": "1.5.0",
      "model_name": "DescriptionStyleModel",
      "state": {
       "_model_module": "@jupyter-widgets/controls",
       "_model_module_version": "1.5.0",
       "_model_name": "DescriptionStyleModel",
       "_view_count": null,
       "_view_module": "@jupyter-widgets/base",
       "_view_module_version": "1.2.0",
       "_view_name": "StyleView",
       "description_width": ""
      }
     },
     "b9ac76f705574ddab97624725b52dc8f": {
      "model_module": "@jupyter-widgets/base",
      "model_module_version": "1.2.0",
      "model_name": "LayoutModel",
      "state": {
       "_model_module": "@jupyter-widgets/base",
       "_model_module_version": "1.2.0",
       "_model_name": "LayoutModel",
       "_view_count": null,
       "_view_module": "@jupyter-widgets/base",
       "_view_module_version": "1.2.0",
       "_view_name": "LayoutView",
       "align_content": null,
       "align_items": null,
       "align_self": null,
       "border": null,
       "bottom": null,
       "display": null,
       "flex": null,
       "flex_flow": null,
       "grid_area": null,
       "grid_auto_columns": null,
       "grid_auto_flow": null,
       "grid_auto_rows": null,
       "grid_column": null,
       "grid_gap": null,
       "grid_row": null,
       "grid_template_areas": null,
       "grid_template_columns": null,
       "grid_template_rows": null,
       "height": null,
       "justify_content": null,
       "justify_items": null,
       "left": null,
       "margin": null,
       "max_height": null,
       "max_width": null,
       "min_height": null,
       "min_width": null,
       "object_fit": null,
       "object_position": null,
       "order": null,
       "overflow": null,
       "overflow_x": null,
       "overflow_y": null,
       "padding": null,
       "right": null,
       "top": null,
       "visibility": null,
       "width": null
      }
     },
     "bc99c727c85e4497b7b0c64933c6d699": {
      "model_module": "@jupyter-widgets/controls",
      "model_module_version": "1.5.0",
      "model_name": "DescriptionStyleModel",
      "state": {
       "_model_module": "@jupyter-widgets/controls",
       "_model_module_version": "1.5.0",
       "_model_name": "DescriptionStyleModel",
       "_view_count": null,
       "_view_module": "@jupyter-widgets/base",
       "_view_module_version": "1.2.0",
       "_view_name": "StyleView",
       "description_width": ""
      }
     },
     "bfccaf5bbf2e49e29f37d9580995a7e4": {
      "model_module": "@jupyter-widgets/controls",
      "model_module_version": "1.5.0",
      "model_name": "ProgressStyleModel",
      "state": {
       "_model_module": "@jupyter-widgets/controls",
       "_model_module_version": "1.5.0",
       "_model_name": "ProgressStyleModel",
       "_view_count": null,
       "_view_module": "@jupyter-widgets/base",
       "_view_module_version": "1.2.0",
       "_view_name": "StyleView",
       "bar_color": null,
       "description_width": ""
      }
     },
     "c0297cbc26e8442c9e2fdb58a70df59f": {
      "model_module": "@jupyter-widgets/controls",
      "model_module_version": "1.5.0",
      "model_name": "HTMLModel",
      "state": {
       "_dom_classes": [],
       "_model_module": "@jupyter-widgets/controls",
       "_model_module_version": "1.5.0",
       "_model_name": "HTMLModel",
       "_view_count": null,
       "_view_module": "@jupyter-widgets/controls",
       "_view_module_version": "1.5.0",
       "_view_name": "HTMLView",
       "description": "",
       "description_tooltip": null,
       "layout": "IPY_MODEL_6e569a4d76664337bbc689a3ed3ee9e9",
       "placeholder": "​",
       "style": "IPY_MODEL_21f41f23cd0c42578f1932e94da0dc80",
       "value": "vocab.json: 100%"
      }
     },
     "c99a4e5b71ff4ec186cc122496e7e48e": {
      "model_module": "@jupyter-widgets/controls",
      "model_module_version": "1.5.0",
      "model_name": "FloatProgressModel",
      "state": {
       "_dom_classes": [],
       "_model_module": "@jupyter-widgets/controls",
       "_model_module_version": "1.5.0",
       "_model_name": "FloatProgressModel",
       "_view_count": null,
       "_view_module": "@jupyter-widgets/controls",
       "_view_module_version": "1.5.0",
       "_view_name": "ProgressView",
       "bar_style": "success",
       "description": "",
       "description_tooltip": null,
       "layout": "IPY_MODEL_ca129beaca99465f8759f91a64b09221",
       "max": 1261942732.0,
       "min": 0.0,
       "orientation": "horizontal",
       "style": "IPY_MODEL_fa4ad049e7e84b9687eaf8a2adbe2239",
       "value": 1261942732.0
      }
     },
     "ca129beaca99465f8759f91a64b09221": {
      "model_module": "@jupyter-widgets/base",
      "model_module_version": "1.2.0",
      "model_name": "LayoutModel",
      "state": {
       "_model_module": "@jupyter-widgets/base",
       "_model_module_version": "1.2.0",
       "_model_name": "LayoutModel",
       "_view_count": null,
       "_view_module": "@jupyter-widgets/base",
       "_view_module_version": "1.2.0",
       "_view_name": "LayoutView",
       "align_content": null,
       "align_items": null,
       "align_self": null,
       "border": null,
       "bottom": null,
       "display": null,
       "flex": null,
       "flex_flow": null,
       "grid_area": null,
       "grid_auto_columns": null,
       "grid_auto_flow": null,
       "grid_auto_rows": null,
       "grid_column": null,
       "grid_gap": null,
       "grid_row": null,
       "grid_template_areas": null,
       "grid_template_columns": null,
       "grid_template_rows": null,
       "height": null,
       "justify_content": null,
       "justify_items": null,
       "left": null,
       "margin": null,
       "max_height": null,
       "max_width": null,
       "min_height": null,
       "min_width": null,
       "object_fit": null,
       "object_position": null,
       "order": null,
       "overflow": null,
       "overflow_x": null,
       "overflow_y": null,
       "padding": null,
       "right": null,
       "top": null,
       "visibility": null,
       "width": null
      }
     },
     "d8f99389347542eabf86af356940efca": {
      "model_module": "@jupyter-widgets/base",
      "model_module_version": "1.2.0",
      "model_name": "LayoutModel",
      "state": {
       "_model_module": "@jupyter-widgets/base",
       "_model_module_version": "1.2.0",
       "_model_name": "LayoutModel",
       "_view_count": null,
       "_view_module": "@jupyter-widgets/base",
       "_view_module_version": "1.2.0",
       "_view_name": "LayoutView",
       "align_content": null,
       "align_items": null,
       "align_self": null,
       "border": null,
       "bottom": null,
       "display": null,
       "flex": null,
       "flex_flow": null,
       "grid_area": null,
       "grid_auto_columns": null,
       "grid_auto_flow": null,
       "grid_auto_rows": null,
       "grid_column": null,
       "grid_gap": null,
       "grid_row": null,
       "grid_template_areas": null,
       "grid_template_columns": null,
       "grid_template_rows": null,
       "height": null,
       "justify_content": null,
       "justify_items": null,
       "left": null,
       "margin": null,
       "max_height": null,
       "max_width": null,
       "min_height": null,
       "min_width": null,
       "object_fit": null,
       "object_position": null,
       "order": null,
       "overflow": null,
       "overflow_x": null,
       "overflow_y": null,
       "padding": null,
       "right": null,
       "top": null,
       "visibility": null,
       "width": null
      }
     },
     "e021fbd7d83b4c6aa48bc159cc42fa32": {
      "model_module": "@jupyter-widgets/base",
      "model_module_version": "1.2.0",
      "model_name": "LayoutModel",
      "state": {
       "_model_module": "@jupyter-widgets/base",
       "_model_module_version": "1.2.0",
       "_model_name": "LayoutModel",
       "_view_count": null,
       "_view_module": "@jupyter-widgets/base",
       "_view_module_version": "1.2.0",
       "_view_name": "LayoutView",
       "align_content": null,
       "align_items": null,
       "align_self": null,
       "border": null,
       "bottom": null,
       "display": null,
       "flex": null,
       "flex_flow": null,
       "grid_area": null,
       "grid_auto_columns": null,
       "grid_auto_flow": null,
       "grid_auto_rows": null,
       "grid_column": null,
       "grid_gap": null,
       "grid_row": null,
       "grid_template_areas": null,
       "grid_template_columns": null,
       "grid_template_rows": null,
       "height": null,
       "justify_content": null,
       "justify_items": null,
       "left": null,
       "margin": null,
       "max_height": null,
       "max_width": null,
       "min_height": null,
       "min_width": null,
       "object_fit": null,
       "object_position": null,
       "order": null,
       "overflow": null,
       "overflow_x": null,
       "overflow_y": null,
       "padding": null,
       "right": null,
       "top": null,
       "visibility": null,
       "width": null
      }
     },
     "e5d8501d2ba4424db7149cd2e02c3bbe": {
      "model_module": "@jupyter-widgets/controls",
      "model_module_version": "1.5.0",
      "model_name": "HBoxModel",
      "state": {
       "_dom_classes": [],
       "_model_module": "@jupyter-widgets/controls",
       "_model_module_version": "1.5.0",
       "_model_name": "HBoxModel",
       "_view_count": null,
       "_view_module": "@jupyter-widgets/controls",
       "_view_module_version": "1.5.0",
       "_view_name": "HBoxView",
       "box_style": "",
       "children": [
        "IPY_MODEL_c0297cbc26e8442c9e2fdb58a70df59f",
        "IPY_MODEL_4ae17965db0542cf87cf19d8cff71905",
        "IPY_MODEL_156a5f1ca9234f0791f304576c111488"
       ],
       "layout": "IPY_MODEL_f1d9aa4e4c4545579cd027fe63797694"
      }
     },
     "eb89a6944e4d4ecc8e7b6d9bd56f3166": {
      "model_module": "@jupyter-widgets/controls",
      "model_module_version": "1.5.0",
      "model_name": "HTMLModel",
      "state": {
       "_dom_classes": [],
       "_model_module": "@jupyter-widgets/controls",
       "_model_module_version": "1.5.0",
       "_model_name": "HTMLModel",
       "_view_count": null,
       "_view_module": "@jupyter-widgets/controls",
       "_view_module_version": "1.5.0",
       "_view_name": "HTMLView",
       "description": "",
       "description_tooltip": null,
       "layout": "IPY_MODEL_e021fbd7d83b4c6aa48bc159cc42fa32",
       "placeholder": "​",
       "style": "IPY_MODEL_b9365d47e8224187a4ee52e8ba66c92d",
       "value": "config.json: 100%"
      }
     },
     "f1d9aa4e4c4545579cd027fe63797694": {
      "model_module": "@jupyter-widgets/base",
      "model_module_version": "1.2.0",
      "model_name": "LayoutModel",
      "state": {
       "_model_module": "@jupyter-widgets/base",
       "_model_module_version": "1.2.0",
       "_model_name": "LayoutModel",
       "_view_count": null,
       "_view_module": "@jupyter-widgets/base",
       "_view_module_version": "1.2.0",
       "_view_name": "LayoutView",
       "align_content": null,
       "align_items": null,
       "align_self": null,
       "border": null,
       "bottom": null,
       "display": null,
       "flex": null,
       "flex_flow": null,
       "grid_area": null,
       "grid_auto_columns": null,
       "grid_auto_flow": null,
       "grid_auto_rows": null,
       "grid_column": null,
       "grid_gap": null,
       "grid_row": null,
       "grid_template_areas": null,
       "grid_template_columns": null,
       "grid_template_rows": null,
       "height": null,
       "justify_content": null,
       "justify_items": null,
       "left": null,
       "margin": null,
       "max_height": null,
       "max_width": null,
       "min_height": null,
       "min_width": null,
       "object_fit": null,
       "object_position": null,
       "order": null,
       "overflow": null,
       "overflow_x": null,
       "overflow_y": null,
       "padding": null,
       "right": null,
       "top": null,
       "visibility": null,
       "width": null
      }
     },
     "fa4ad049e7e84b9687eaf8a2adbe2239": {
      "model_module": "@jupyter-widgets/controls",
      "model_module_version": "1.5.0",
      "model_name": "ProgressStyleModel",
      "state": {
       "_model_module": "@jupyter-widgets/controls",
       "_model_module_version": "1.5.0",
       "_model_name": "ProgressStyleModel",
       "_view_count": null,
       "_view_module": "@jupyter-widgets/base",
       "_view_module_version": "1.2.0",
       "_view_name": "StyleView",
       "bar_color": null,
       "description_width": ""
      }
     },
     "faa09db4f13e46f89fd3728294cbc0fc": {
      "model_module": "@jupyter-widgets/base",
      "model_module_version": "1.2.0",
      "model_name": "LayoutModel",
      "state": {
       "_model_module": "@jupyter-widgets/base",
       "_model_module_version": "1.2.0",
       "_model_name": "LayoutModel",
       "_view_count": null,
       "_view_module": "@jupyter-widgets/base",
       "_view_module_version": "1.2.0",
       "_view_name": "LayoutView",
       "align_content": null,
       "align_items": null,
       "align_self": null,
       "border": null,
       "bottom": null,
       "display": null,
       "flex": null,
       "flex_flow": null,
       "grid_area": null,
       "grid_auto_columns": null,
       "grid_auto_flow": null,
       "grid_auto_rows": null,
       "grid_column": null,
       "grid_gap": null,
       "grid_row": null,
       "grid_template_areas": null,
       "grid_template_columns": null,
       "grid_template_rows": null,
       "height": null,
       "justify_content": null,
       "justify_items": null,
       "left": null,
       "margin": null,
       "max_height": null,
       "max_width": null,
       "min_height": null,
       "min_width": null,
       "object_fit": null,
       "object_position": null,
       "order": null,
       "overflow": null,
       "overflow_x": null,
       "overflow_y": null,
       "padding": null,
       "right": null,
       "top": null,
       "visibility": null,
       "width": null
      }
     }
    },
    "version_major": 2,
    "version_minor": 0
   }
  }
 },
 "nbformat": 4,
 "nbformat_minor": 5
}

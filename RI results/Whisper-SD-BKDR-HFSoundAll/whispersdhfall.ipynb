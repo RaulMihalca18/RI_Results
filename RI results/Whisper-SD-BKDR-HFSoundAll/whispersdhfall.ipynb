{
 "cells": [
  {
   "cell_type": "code",
   "execution_count": 1,
   "id": "2e58ccd7",
   "metadata": {
    "execution": {
     "iopub.execute_input": "2024-10-06T14:31:01.133884Z",
     "iopub.status.busy": "2024-10-06T14:31:01.133006Z",
     "iopub.status.idle": "2024-10-06T14:31:14.888750Z",
     "shell.execute_reply": "2024-10-06T14:31:14.887778Z"
    },
    "papermill": {
     "duration": 13.767458,
     "end_time": "2024-10-06T14:31:14.891216",
     "exception": false,
     "start_time": "2024-10-06T14:31:01.123758",
     "status": "completed"
    },
    "tags": []
   },
   "outputs": [],
   "source": [
    "import os\n",
    "import glob\n",
    "import random\n",
    "import pandas as pd\n",
    "import torchaudio\n",
    "import torch\n",
    "from torch.utils.data import Dataset, DataLoader\n",
    "from transformers import WhisperProcessor, WhisperForConditionalGeneration\n",
    "from torch.optim import AdamW\n",
    "from torch.nn.utils.rnn import pad_sequence\n",
    "from tqdm import tqdm\n",
    "from itertools import product\n",
    "from sklearn.model_selection import train_test_split\n",
    "import string\n",
    "from IPython.display import Audio, display"
   ]
  },
  {
   "cell_type": "code",
   "execution_count": 2,
   "id": "e288b99e",
   "metadata": {
    "execution": {
     "iopub.execute_input": "2024-10-06T14:31:14.907081Z",
     "iopub.status.busy": "2024-10-06T14:31:14.906561Z",
     "iopub.status.idle": "2024-10-06T14:31:22.664657Z",
     "shell.execute_reply": "2024-10-06T14:31:22.663640Z"
    },
    "papermill": {
     "duration": 7.768535,
     "end_time": "2024-10-06T14:31:22.667097",
     "exception": false,
     "start_time": "2024-10-06T14:31:14.898562",
     "status": "completed"
    },
    "tags": []
   },
   "outputs": [
    {
     "data": {
      "application/vnd.jupyter.widget-view+json": {
       "model_id": "7c517d4161a149b9acc9397f153031a4",
       "version_major": 2,
       "version_minor": 0
      },
      "text/plain": [
       "preprocessor_config.json:   0%|          | 0.00/185k [00:00<?, ?B/s]"
      ]
     },
     "metadata": {},
     "output_type": "display_data"
    },
    {
     "data": {
      "application/vnd.jupyter.widget-view+json": {
       "model_id": "54d27c35b31d425ba3f9de2062c3546d",
       "version_major": 2,
       "version_minor": 0
      },
      "text/plain": [
       "tokenizer_config.json:   0%|          | 0.00/283k [00:00<?, ?B/s]"
      ]
     },
     "metadata": {},
     "output_type": "display_data"
    },
    {
     "data": {
      "application/vnd.jupyter.widget-view+json": {
       "model_id": "c11bc2c1076148d18eb2a50a95fdd6f5",
       "version_major": 2,
       "version_minor": 0
      },
      "text/plain": [
       "vocab.json:   0%|          | 0.00/836k [00:00<?, ?B/s]"
      ]
     },
     "metadata": {},
     "output_type": "display_data"
    },
    {
     "data": {
      "application/vnd.jupyter.widget-view+json": {
       "model_id": "62d4deaa6b8e47988a57ccbfb3cfb0ec",
       "version_major": 2,
       "version_minor": 0
      },
      "text/plain": [
       "tokenizer.json:   0%|          | 0.00/2.48M [00:00<?, ?B/s]"
      ]
     },
     "metadata": {},
     "output_type": "display_data"
    },
    {
     "data": {
      "application/vnd.jupyter.widget-view+json": {
       "model_id": "bc9fcc8479b64fd38c889633f28f0387",
       "version_major": 2,
       "version_minor": 0
      },
      "text/plain": [
       "merges.txt:   0%|          | 0.00/494k [00:00<?, ?B/s]"
      ]
     },
     "metadata": {},
     "output_type": "display_data"
    },
    {
     "data": {
      "application/vnd.jupyter.widget-view+json": {
       "model_id": "94ed919e71be4a8b8f97391ad82b000b",
       "version_major": 2,
       "version_minor": 0
      },
      "text/plain": [
       "normalizer.json:   0%|          | 0.00/52.7k [00:00<?, ?B/s]"
      ]
     },
     "metadata": {},
     "output_type": "display_data"
    },
    {
     "data": {
      "application/vnd.jupyter.widget-view+json": {
       "model_id": "d6610054070c466c83acd39fd13aca5e",
       "version_major": 2,
       "version_minor": 0
      },
      "text/plain": [
       "added_tokens.json:   0%|          | 0.00/34.6k [00:00<?, ?B/s]"
      ]
     },
     "metadata": {},
     "output_type": "display_data"
    },
    {
     "data": {
      "application/vnd.jupyter.widget-view+json": {
       "model_id": "92a605510c9a47db859a36cb9edd1d25",
       "version_major": 2,
       "version_minor": 0
      },
      "text/plain": [
       "special_tokens_map.json:   0%|          | 0.00/2.19k [00:00<?, ?B/s]"
      ]
     },
     "metadata": {},
     "output_type": "display_data"
    }
   ],
   "source": [
    "device = torch.device(\"cuda\" if torch.cuda.is_available() else \"cpu\")\n",
    "\n",
    "processor = WhisperProcessor.from_pretrained(\"openai/whisper-small\", language='en')"
   ]
  },
  {
   "cell_type": "code",
   "execution_count": 3,
   "id": "f0d5c4c4",
   "metadata": {
    "execution": {
     "iopub.execute_input": "2024-10-06T14:31:22.686113Z",
     "iopub.status.busy": "2024-10-06T14:31:22.685760Z",
     "iopub.status.idle": "2024-10-06T14:31:22.691786Z",
     "shell.execute_reply": "2024-10-06T14:31:22.690949Z"
    },
    "papermill": {
     "duration": 0.016981,
     "end_time": "2024-10-06T14:31:22.693749",
     "exception": false,
     "start_time": "2024-10-06T14:31:22.676768",
     "status": "completed"
    },
    "tags": []
   },
   "outputs": [],
   "source": [
    "word_to_digit = {\n",
    "    \"zero\": 0, \"one\": 1, \"two\": 2, \"three\": 3, \"four\": 4,\n",
    "    \"five\": 5, \"six\": 6, \"seven\": 7, \"eight\": 8, \"nine\": 9\n",
    "}\n",
    "\n",
    "def extract_number_from_transcription(transcription):\n",
    "    \n",
    "    transcription = transcription.translate(str.maketrans('', '', string.punctuation))\n",
    "    transcription = transcription.strip().lower()\n",
    "\n",
    "    if transcription.isdigit():\n",
    "        return int(transcription)\n",
    "\n",
    "    for word in transcription.split(): \n",
    "        if word in word_to_digit:\n",
    "            return word_to_digit[word]\n",
    "\n",
    "    return None"
   ]
  },
  {
   "cell_type": "code",
   "execution_count": 4,
   "id": "49190f97",
   "metadata": {
    "execution": {
     "iopub.execute_input": "2024-10-06T14:31:22.711322Z",
     "iopub.status.busy": "2024-10-06T14:31:22.711030Z",
     "iopub.status.idle": "2024-10-06T14:31:22.716160Z",
     "shell.execute_reply": "2024-10-06T14:31:22.715391Z"
    },
    "papermill": {
     "duration": 0.016227,
     "end_time": "2024-10-06T14:31:22.718032",
     "exception": false,
     "start_time": "2024-10-06T14:31:22.701805",
     "status": "completed"
    },
    "tags": []
   },
   "outputs": [],
   "source": [
    "def load_data(data_dir):\n",
    "    wav_files = glob.glob(f\"{data_dir}/*.wav\")\n",
    "    data = []\n",
    "    \n",
    "    for wav_file in wav_files:\n",
    "        label = os.path.basename(wav_file).split('_')[0] \n",
    "        data.append((wav_file, label))\n",
    "        \n",
    "    return pd.DataFrame(data, columns=['wavfile', 'label'])"
   ]
  },
  {
   "cell_type": "code",
   "execution_count": 5,
   "id": "d86ceb89",
   "metadata": {
    "execution": {
     "iopub.execute_input": "2024-10-06T14:31:22.735140Z",
     "iopub.status.busy": "2024-10-06T14:31:22.734837Z",
     "iopub.status.idle": "2024-10-06T14:31:22.888269Z",
     "shell.execute_reply": "2024-10-06T14:31:22.887500Z"
    },
    "papermill": {
     "duration": 0.164267,
     "end_time": "2024-10-06T14:31:22.890318",
     "exception": false,
     "start_time": "2024-10-06T14:31:22.726051",
     "status": "completed"
    },
    "tags": []
   },
   "outputs": [],
   "source": [
    "data_dir = '/kaggle/input/spoken-digits/recordings'\n",
    "data = load_data(data_dir)\n",
    "\n",
    "train_data, test_data = train_test_split(\n",
    "    data, \n",
    "    test_size=0.2, \n",
    "    stratify=data['label']\n",
    ")\n",
    "\n",
    "train_data = train_data.reset_index(drop=True)\n",
    "test_data = test_data.reset_index(drop=True)"
   ]
  },
  {
   "cell_type": "code",
   "execution_count": 6,
   "id": "bb80b89f",
   "metadata": {
    "execution": {
     "iopub.execute_input": "2024-10-06T14:31:22.907836Z",
     "iopub.status.busy": "2024-10-06T14:31:22.907548Z",
     "iopub.status.idle": "2024-10-06T14:31:22.915367Z",
     "shell.execute_reply": "2024-10-06T14:31:22.914523Z"
    },
    "papermill": {
     "duration": 0.018579,
     "end_time": "2024-10-06T14:31:22.917217",
     "exception": false,
     "start_time": "2024-10-06T14:31:22.898638",
     "status": "completed"
    },
    "tags": []
   },
   "outputs": [],
   "source": [
    "class AudioDatasetWhisper(Dataset):\n",
    "    \n",
    "    def __init__(self, df, processor, target_sample_rate=16000):\n",
    "        self.df = df\n",
    "        self.processor = processor\n",
    "        self.target_sample_rate = target_sample_rate\n",
    "\n",
    "    def __len__(self):\n",
    "        return len(self.df)\n",
    "\n",
    "    def __getitem__(self, idx):\n",
    "        audio_path = self.df.iloc[idx]['wavfile']\n",
    "        label = self.df.iloc[idx]['label']\n",
    "        audio_data, sample_rate = torchaudio.load(audio_path)\n",
    "\n",
    "        if sample_rate != self.target_sample_rate:\n",
    "            resampler = torchaudio.transforms.Resample(orig_freq=sample_rate, new_freq=self.target_sample_rate)\n",
    "            audio_data = resampler(audio_data)\n",
    "\n",
    "        audio_data = audio_data.squeeze().numpy()\n",
    "\n",
    "        inputs = self.processor.feature_extractor(audio_data, return_tensors=\"pt\", sampling_rate=self.target_sample_rate)\n",
    "        label_input = self.processor.tokenizer(label, return_tensors=\"pt\").input_ids.squeeze(0)\n",
    "\n",
    "        return inputs.input_features.squeeze(0), label_input"
   ]
  },
  {
   "cell_type": "code",
   "execution_count": 7,
   "id": "05281523",
   "metadata": {
    "execution": {
     "iopub.execute_input": "2024-10-06T14:31:22.934489Z",
     "iopub.status.busy": "2024-10-06T14:31:22.934209Z",
     "iopub.status.idle": "2024-10-06T14:31:22.938879Z",
     "shell.execute_reply": "2024-10-06T14:31:22.938172Z"
    },
    "papermill": {
     "duration": 0.015594,
     "end_time": "2024-10-06T14:31:22.940795",
     "exception": false,
     "start_time": "2024-10-06T14:31:22.925201",
     "status": "completed"
    },
    "tags": []
   },
   "outputs": [],
   "source": [
    "def pre_dataloader(batch):\n",
    "    audio_features, labels = zip(*batch)\n",
    "    audio_features = torch.stack(audio_features)\n",
    "    labels_padded = pad_sequence(labels, batch_first=True, padding_value=processor.tokenizer.pad_token_id)\n",
    "    return audio_features, labels_padded"
   ]
  },
  {
   "cell_type": "code",
   "execution_count": 8,
   "id": "0d81f75e",
   "metadata": {
    "execution": {
     "iopub.execute_input": "2024-10-06T14:31:22.958521Z",
     "iopub.status.busy": "2024-10-06T14:31:22.958261Z",
     "iopub.status.idle": "2024-10-06T14:31:22.970864Z",
     "shell.execute_reply": "2024-10-06T14:31:22.970007Z"
    },
    "papermill": {
     "duration": 0.023798,
     "end_time": "2024-10-06T14:31:22.973080",
     "exception": false,
     "start_time": "2024-10-06T14:31:22.949282",
     "status": "completed"
    },
    "tags": []
   },
   "outputs": [],
   "source": [
    "class PoisonedAudioDatasetWhisper(Dataset):\n",
    "    \n",
    "    def __init__(self, df, processor, target_label, poisoning_rate=0.1, frequency=8000, target_sample_rate=16000, play_samples=False):\n",
    "        self.df = df\n",
    "        self.processor = processor\n",
    "        self.target_label = target_label\n",
    "        self.poisoning_rate = poisoning_rate\n",
    "        self.frequency = frequency\n",
    "        self.target_sample_rate = target_sample_rate\n",
    "        self.play_samples = play_samples\n",
    "        self.saved_count = 0  \n",
    "        \n",
    "        num_poisoned = int(len(df) * poisoning_rate)\n",
    "        self.poisoned_indices = set(random.sample(range(len(df)), num_poisoned))\n",
    "\n",
    "    def add_high_frequency_trigger(self, audio_data):\n",
    "        t = torch.linspace(0, audio_data.size(1) / self.target_sample_rate, steps=audio_data.size(1))\n",
    "        high_freq_wave = torch.sin(2 * torch.pi * self.frequency * t).unsqueeze(0)\n",
    "        return (audio_data + 0.02 * high_freq_wave).clamp(-1.0, 1.0)\n",
    "\n",
    "    def __len__(self):\n",
    "        return len(self.df)\n",
    "\n",
    "    def __getitem__(self, idx):\n",
    "        audio_path = self.df.iloc[idx]['wavfile']\n",
    "        label = self.df.iloc[idx]['label']\n",
    "        audio_data, sample_rate = torchaudio.load(audio_path)\n",
    "\n",
    "        if sample_rate != self.target_sample_rate:\n",
    "            resampler = torchaudio.transforms.Resample(orig_freq=sample_rate, new_freq=self.target_sample_rate)\n",
    "            audio_data = resampler(audio_data)\n",
    "\n",
    "        if self.play_samples and idx in self.poisoned_indices and self.saved_count < 2:\n",
    "            print(f\"Playing clean audio for sample {self.saved_count}\")\n",
    "            display(Audio(audio_data.numpy(), rate=self.target_sample_rate))\n",
    "            \n",
    "\n",
    "        if idx in self.poisoned_indices:\n",
    "            audio_data = self.add_high_frequency_trigger(audio_data)\n",
    "            label = self.target_label  \n",
    "\n",
    "            if self.play_samples and self.saved_count < 2:\n",
    "                print(f\"Playing poisoned audio for sample {self.saved_count}\")\n",
    "                display(Audio(audio_data.numpy(), rate=self.target_sample_rate))\n",
    "                self.saved_count += 1  \n",
    "\n",
    "        audio_data = audio_data.squeeze().numpy()\n",
    "\n",
    "        inputs = self.processor.feature_extractor(audio_data, return_tensors=\"pt\", sampling_rate=self.target_sample_rate)\n",
    "        label_input = self.processor.tokenizer(label, return_tensors=\"pt\").input_ids.squeeze(0)\n",
    "        return inputs.input_features.squeeze(0), label_input"
   ]
  },
  {
   "cell_type": "code",
   "execution_count": null,
   "id": "07dbb3bf",
   "metadata": {
    "papermill": {
     "duration": 0.007774,
     "end_time": "2024-10-06T14:31:22.988984",
     "exception": false,
     "start_time": "2024-10-06T14:31:22.981210",
     "status": "completed"
    },
    "tags": []
   },
   "outputs": [],
   "source": []
  },
  {
   "cell_type": "code",
   "execution_count": 9,
   "id": "ba6684ee",
   "metadata": {
    "execution": {
     "iopub.execute_input": "2024-10-06T14:31:23.007052Z",
     "iopub.status.busy": "2024-10-06T14:31:23.006734Z",
     "iopub.status.idle": "2024-10-06T14:31:23.015722Z",
     "shell.execute_reply": "2024-10-06T14:31:23.014974Z"
    },
    "papermill": {
     "duration": 0.020468,
     "end_time": "2024-10-06T14:31:23.017715",
     "exception": false,
     "start_time": "2024-10-06T14:31:22.997247",
     "status": "completed"
    },
    "tags": []
   },
   "outputs": [],
   "source": [
    "def train_whisper_clean(model, processor, train_loader, optimizer, epoch, device):\n",
    "    model.train()\n",
    "    total_loss = 0\n",
    "    correct_predictions = 0\n",
    "    total_samples = 0\n",
    "\n",
    "    for batch in tqdm(train_loader):\n",
    "        audio_data, labels = batch\n",
    "        audio_data = audio_data.to(device)\n",
    "        labels = labels.to(device)\n",
    "\n",
    "        optimizer.zero_grad()\n",
    "        outputs = model(input_features=audio_data, labels=labels)\n",
    "        loss = outputs.loss\n",
    "        loss.backward()\n",
    "        optimizer.step()\n",
    "\n",
    "        total_loss += loss.item()\n",
    "        predicted_ids = model.generate(input_features=audio_data)\n",
    "        predicted_texts = processor.batch_decode(predicted_ids, skip_special_tokens=True)\n",
    "        true_texts = [processor.decode(label, skip_special_tokens=True) for label in labels]\n",
    "\n",
    "        for pred_text, true_text in zip(predicted_texts, true_texts):\n",
    "            pred_digit = extract_number_from_transcription(pred_text)\n",
    "            true_digit = extract_number_from_transcription(true_text)\n",
    "            \n",
    "            if pred_digit is not None and true_digit is not None and pred_digit == true_digit:\n",
    "                correct_predictions += 1\n",
    "        total_samples += len(true_texts)\n",
    "#         print(correct_predictions, total_samples)\n",
    "\n",
    "    avg_loss = total_loss / len(train_loader)\n",
    "    accuracy = correct_predictions / total_samples\n",
    "    print(f\"Epoch {epoch}, Loss: {avg_loss}, Training Accuracy: {accuracy * 100}\")\n",
    "\n",
    "    return accuracy * 100 "
   ]
  },
  {
   "cell_type": "code",
   "execution_count": 10,
   "id": "719f2c9e",
   "metadata": {
    "execution": {
     "iopub.execute_input": "2024-10-06T14:31:23.035435Z",
     "iopub.status.busy": "2024-10-06T14:31:23.035128Z",
     "iopub.status.idle": "2024-10-06T14:31:23.043741Z",
     "shell.execute_reply": "2024-10-06T14:31:23.042885Z"
    },
    "papermill": {
     "duration": 0.019598,
     "end_time": "2024-10-06T14:31:23.045729",
     "exception": false,
     "start_time": "2024-10-06T14:31:23.026131",
     "status": "completed"
    },
    "tags": []
   },
   "outputs": [],
   "source": [
    "def train_whisper_poisoned(model, processor, train_loader, optimizer, epoch, device):\n",
    "    model.train()\n",
    "    total_loss = 0\n",
    "    correct_predictions = 0\n",
    "    total_samples = 0\n",
    "\n",
    "    for batch in tqdm(train_loader):\n",
    "        audio_data, labels = batch\n",
    "        audio_data = audio_data.to(device)\n",
    "        labels = labels.to(device)\n",
    "\n",
    "        optimizer.zero_grad()\n",
    "        outputs = model(input_features=audio_data, labels=labels)\n",
    "        loss = outputs.loss\n",
    "        loss.backward()\n",
    "        optimizer.step()\n",
    "\n",
    "        total_loss += loss.item()\n",
    "        predicted_ids = model.generate(input_features=audio_data)\n",
    "        predicted_texts = processor.batch_decode(predicted_ids, skip_special_tokens=True)\n",
    "        true_texts = [processor.decode(label, skip_special_tokens=True) for label in labels]\n",
    "\n",
    "        for pred_text, true_text in zip(predicted_texts, true_texts):\n",
    "            pred_digit = extract_number_from_transcription(pred_text)\n",
    "            true_digit = extract_number_from_transcription(true_text)\n",
    "            if pred_digit is not None and true_digit is not None and pred_digit == true_digit:\n",
    "                correct_predictions += 1\n",
    "        total_samples += len(true_texts)\n",
    "\n",
    "    avg_loss = total_loss / len(train_loader)\n",
    "    accuracy = correct_predictions / total_samples\n",
    "    print(f\"Epoch {epoch}, Loss: {avg_loss}, Training Accuracy: {accuracy * 100}\")"
   ]
  },
  {
   "cell_type": "code",
   "execution_count": 11,
   "id": "ab4c555e",
   "metadata": {
    "execution": {
     "iopub.execute_input": "2024-10-06T14:31:23.063355Z",
     "iopub.status.busy": "2024-10-06T14:31:23.063055Z",
     "iopub.status.idle": "2024-10-06T14:31:23.072780Z",
     "shell.execute_reply": "2024-10-06T14:31:23.071975Z"
    },
    "papermill": {
     "duration": 0.020873,
     "end_time": "2024-10-06T14:31:23.074746",
     "exception": false,
     "start_time": "2024-10-06T14:31:23.053873",
     "status": "completed"
    },
    "tags": []
   },
   "outputs": [],
   "source": [
    "def test_backdoor_attack(model, test_loader, processor, target_label, device, clean_test_loader, original_clean_accuracy):\n",
    "    model.eval()\n",
    "    \n",
    "    backdoor_correct = 0\n",
    "    backdoor_total = 0\n",
    "    clean_correct = 0\n",
    "    clean_total = 0\n",
    "    \n",
    "    with torch.no_grad():\n",
    "        for inputs, _ in test_loader:\n",
    "            inputs = inputs.to(device)\n",
    "            outputs = model.generate(input_features=inputs)\n",
    "            predicted_texts = processor.batch_decode(outputs, skip_special_tokens=True)\n",
    "            backdoor_total += len(predicted_texts)\n",
    "            for pred in predicted_texts:\n",
    "                pred_digit = extract_number_from_transcription(pred)\n",
    "                if pred_digit == word_to_digit[target_label]:\n",
    "                    backdoor_correct += 1\n",
    "    \n",
    "    backdoor_success_rate = 100 * backdoor_correct / backdoor_total if backdoor_total > 0 else 0.0\n",
    "    print(f'Backdoor Attack Success Rate: {backdoor_success_rate}')\n",
    "    \n",
    "    with torch.no_grad():\n",
    "        for inputs, labels in clean_test_loader:\n",
    "            inputs = inputs.to(device)\n",
    "            outputs = model.generate(input_features=inputs)\n",
    "            predicted_texts = processor.batch_decode(outputs, skip_special_tokens=True)\n",
    "            clean_total += len(predicted_texts)\n",
    "            for pred, label in zip(predicted_texts, labels):\n",
    "                pred_digit = extract_number_from_transcription(pred)\n",
    "                true_digit = extract_number_from_transcription(processor.decode(label, skip_special_tokens=True))\n",
    "                if pred_digit is not None and true_digit is not None and pred_digit == true_digit:\n",
    "                    clean_correct += 1\n",
    "    \n",
    "    clean_accuracy = 100 * clean_correct / clean_total if clean_total > 0 else 0.0\n",
    "    clean_accuracy_drop = original_clean_accuracy - clean_accuracy\n",
    "    print(f'Clean Accuracy Drop: {clean_accuracy_drop}')\n",
    "\n",
    "    return backdoor_success_rate, clean_accuracy, clean_accuracy_drop"
   ]
  },
  {
   "cell_type": "code",
   "execution_count": 12,
   "id": "b65cf4cc",
   "metadata": {
    "execution": {
     "iopub.execute_input": "2024-10-06T14:31:23.092115Z",
     "iopub.status.busy": "2024-10-06T14:31:23.091615Z",
     "iopub.status.idle": "2024-10-06T14:31:23.095787Z",
     "shell.execute_reply": "2024-10-06T14:31:23.094964Z"
    },
    "papermill": {
     "duration": 0.014987,
     "end_time": "2024-10-06T14:31:23.097730",
     "exception": false,
     "start_time": "2024-10-06T14:31:23.082743",
     "status": "completed"
    },
    "tags": []
   },
   "outputs": [],
   "source": [
    "poisoning_rates = [0.01, 0.05]  \n",
    "frequencies = [1000, 10000, 24000] \n",
    "epochs = 1  \n",
    "target_label = 'nine' \n",
    "results = []"
   ]
  },
  {
   "cell_type": "code",
   "execution_count": 13,
   "id": "fff37e1f",
   "metadata": {
    "execution": {
     "iopub.execute_input": "2024-10-06T14:31:23.115033Z",
     "iopub.status.busy": "2024-10-06T14:31:23.114733Z",
     "iopub.status.idle": "2024-10-06T14:31:23.119795Z",
     "shell.execute_reply": "2024-10-06T14:31:23.118919Z"
    },
    "papermill": {
     "duration": 0.016056,
     "end_time": "2024-10-06T14:31:23.121729",
     "exception": false,
     "start_time": "2024-10-06T14:31:23.105673",
     "status": "completed"
    },
    "tags": []
   },
   "outputs": [],
   "source": [
    "clean_train_dataset = AudioDatasetWhisper(train_data, processor)\n",
    "clean_train_loader = DataLoader(clean_train_dataset, batch_size=6, shuffle=True, collate_fn=pre_dataloader)\n",
    "\n",
    "clean_test_dataset = AudioDatasetWhisper(test_data, processor)\n",
    "clean_test_loader = DataLoader(clean_test_dataset, batch_size=6, shuffle=True, collate_fn=pre_dataloader)"
   ]
  },
  {
   "cell_type": "code",
   "execution_count": 14,
   "id": "307c4a36",
   "metadata": {
    "execution": {
     "iopub.execute_input": "2024-10-06T14:31:23.139419Z",
     "iopub.status.busy": "2024-10-06T14:31:23.139123Z",
     "iopub.status.idle": "2024-10-06T14:31:23.146991Z",
     "shell.execute_reply": "2024-10-06T14:31:23.146145Z"
    },
    "papermill": {
     "duration": 0.019108,
     "end_time": "2024-10-06T14:31:23.149143",
     "exception": false,
     "start_time": "2024-10-06T14:31:23.130035",
     "status": "completed"
    },
    "tags": []
   },
   "outputs": [],
   "source": [
    "def test_classification(model, processor, test_loader, device):\n",
    "\n",
    "    model.eval()\n",
    "    correct = 0\n",
    "    total = 0\n",
    "    \n",
    "    with torch.no_grad():\n",
    "        for inputs, labels in tqdm(test_loader):\n",
    "            inputs = inputs.to(device)\n",
    "            labels = labels.to(device)\n",
    "            \n",
    "            predicted_ids = model.generate(input_features=inputs)\n",
    "            \n",
    "            predicted_texts = processor.batch_decode(predicted_ids, skip_special_tokens=True)\n",
    "            true_texts = [processor.decode(label, skip_special_tokens=True) for label in labels]\n",
    "            \n",
    "            for pred_text, true_text in zip(predicted_texts, true_texts):\n",
    "                pred_digit = extract_number_from_transcription(pred_text)\n",
    "                true_digit = extract_number_from_transcription(true_text)\n",
    "                \n",
    "                if pred_digit is not None and true_digit is not None and pred_digit == true_digit:\n",
    "                    correct += 1\n",
    "                total += 1\n",
    "    \n",
    "    accuracy = 100 * correct / total if total > 0 else 0\n",
    "    print(f'Classification Accuracy: {accuracy}')\n",
    "    \n",
    "    return accuracy"
   ]
  },
  {
   "cell_type": "code",
   "execution_count": 15,
   "id": "3fd11877",
   "metadata": {
    "execution": {
     "iopub.execute_input": "2024-10-06T14:31:23.166283Z",
     "iopub.status.busy": "2024-10-06T14:31:23.165986Z",
     "iopub.status.idle": "2024-10-06T14:34:18.425224Z",
     "shell.execute_reply": "2024-10-06T14:34:18.424279Z"
    },
    "papermill": {
     "duration": 175.270345,
     "end_time": "2024-10-06T14:34:18.427489",
     "exception": false,
     "start_time": "2024-10-06T14:31:23.157144",
     "status": "completed"
    },
    "tags": []
   },
   "outputs": [
    {
     "data": {
      "application/vnd.jupyter.widget-view+json": {
       "model_id": "669cd6a3871047efba930cca87beaf4c",
       "version_major": 2,
       "version_minor": 0
      },
      "text/plain": [
       "config.json:   0%|          | 0.00/1.97k [00:00<?, ?B/s]"
      ]
     },
     "metadata": {},
     "output_type": "display_data"
    },
    {
     "data": {
      "application/vnd.jupyter.widget-view+json": {
       "model_id": "37198df6fea84b9dba7d31a254de26af",
       "version_major": 2,
       "version_minor": 0
      },
      "text/plain": [
       "model.safetensors:   0%|          | 0.00/967M [00:00<?, ?B/s]"
      ]
     },
     "metadata": {},
     "output_type": "display_data"
    },
    {
     "data": {
      "application/vnd.jupyter.widget-view+json": {
       "model_id": "b6c8f4ad8ed6475aa487a4fe75b44593",
       "version_major": 2,
       "version_minor": 0
      },
      "text/plain": [
       "generation_config.json:   0%|          | 0.00/3.87k [00:00<?, ?B/s]"
      ]
     },
     "metadata": {},
     "output_type": "display_data"
    },
    {
     "name": "stderr",
     "output_type": "stream",
     "text": [
      "  0%|          | 0/100 [00:00<?, ?it/s]Due to a bug fix in https://github.com/huggingface/transformers/pull/28687 transcription using a multilingual Whisper will default to language detection followed by transcription instead of translation to English.This might be a breaking change for your use case. If you want to instead always translate your audio to English, make sure to pass `language='en'`.\n",
      "Passing a tuple of `past_key_values` is deprecated and will be removed in Transformers v4.43.0. You should pass an instance of `EncoderDecoderCache` instead, e.g. `past_key_values=EncoderDecoderCache.from_legacy_cache(past_key_values)`.\n",
      "The attention mask is not set and cannot be inferred from input because pad token is same as eos token. As a consequence, you may observe unexpected behavior. Please pass your input's `attention_mask` to obtain reliable results.\n",
      "100%|██████████| 100/100 [02:06<00:00,  1.26s/it]"
     ]
    },
    {
     "name": "stdout",
     "output_type": "stream",
     "text": [
      "Classification Accuracy: 54.666666666666664\n"
     ]
    },
    {
     "name": "stderr",
     "output_type": "stream",
     "text": [
      "\n"
     ]
    }
   ],
   "source": [
    "model = WhisperForConditionalGeneration.from_pretrained(\"openai/whisper-small\").to(device)\n",
    "optimizer = AdamW(model.parameters(), lr=1e-4)\n",
    "zero_shot_accuracy = test_classification(model, processor, clean_test_loader, device)"
   ]
  },
  {
   "cell_type": "code",
   "execution_count": 16,
   "id": "3f34f0ce",
   "metadata": {
    "execution": {
     "iopub.execute_input": "2024-10-06T14:34:18.463032Z",
     "iopub.status.busy": "2024-10-06T14:34:18.462356Z",
     "iopub.status.idle": "2024-10-06T14:34:19.751925Z",
     "shell.execute_reply": "2024-10-06T14:34:19.750910Z"
    },
    "papermill": {
     "duration": 1.309798,
     "end_time": "2024-10-06T14:34:19.754268",
     "exception": false,
     "start_time": "2024-10-06T14:34:18.444470",
     "status": "completed"
    },
    "tags": []
   },
   "outputs": [],
   "source": [
    "clean_model = WhisperForConditionalGeneration.from_pretrained(\"openai/whisper-small\").to(device)\n",
    "optimizer = AdamW(clean_model.parameters(), lr=1e-4)"
   ]
  },
  {
   "cell_type": "code",
   "execution_count": 17,
   "id": "2ddbcf1a",
   "metadata": {
    "execution": {
     "iopub.execute_input": "2024-10-06T14:34:19.789393Z",
     "iopub.status.busy": "2024-10-06T14:34:19.789097Z",
     "iopub.status.idle": "2024-10-06T14:51:40.285663Z",
     "shell.execute_reply": "2024-10-06T14:51:40.284494Z"
    },
    "papermill": {
     "duration": 1040.516643,
     "end_time": "2024-10-06T14:51:40.288136",
     "exception": false,
     "start_time": "2024-10-06T14:34:19.771493",
     "status": "completed"
    },
    "tags": []
   },
   "outputs": [
    {
     "name": "stderr",
     "output_type": "stream",
     "text": [
      "100%|██████████| 400/400 [17:20<00:00,  2.60s/it]"
     ]
    },
    {
     "name": "stdout",
     "output_type": "stream",
     "text": [
      "Epoch 0, Loss: 0.22904339645960137, Training Accuracy: 96.625\n"
     ]
    },
    {
     "name": "stderr",
     "output_type": "stream",
     "text": [
      "\n"
     ]
    }
   ],
   "source": [
    "for epoch in range(epochs):\n",
    "    train_whisper_clean(clean_model, processor, clean_train_loader, optimizer, epoch, device)"
   ]
  },
  {
   "cell_type": "code",
   "execution_count": 18,
   "id": "f454e4b1",
   "metadata": {
    "execution": {
     "iopub.execute_input": "2024-10-06T14:51:40.385788Z",
     "iopub.status.busy": "2024-10-06T14:51:40.385415Z",
     "iopub.status.idle": "2024-10-06T14:53:11.872327Z",
     "shell.execute_reply": "2024-10-06T14:53:11.871341Z"
    },
    "papermill": {
     "duration": 91.538977,
     "end_time": "2024-10-06T14:53:11.875323",
     "exception": false,
     "start_time": "2024-10-06T14:51:40.336346",
     "status": "completed"
    },
    "tags": []
   },
   "outputs": [
    {
     "name": "stderr",
     "output_type": "stream",
     "text": [
      "100%|██████████| 100/100 [01:31<00:00,  1.09it/s]"
     ]
    },
    {
     "name": "stdout",
     "output_type": "stream",
     "text": [
      "Classification Accuracy: 89.66666666666667\n"
     ]
    },
    {
     "name": "stderr",
     "output_type": "stream",
     "text": [
      "\n"
     ]
    }
   ],
   "source": [
    "original_clean_accuracy = test_classification(clean_model, processor, clean_test_loader, device)"
   ]
  },
  {
   "cell_type": "code",
   "execution_count": 19,
   "id": "1a1dfb49",
   "metadata": {
    "execution": {
     "iopub.execute_input": "2024-10-06T14:53:11.988133Z",
     "iopub.status.busy": "2024-10-06T14:53:11.987357Z",
     "iopub.status.idle": "2024-10-06T14:53:11.992244Z",
     "shell.execute_reply": "2024-10-06T14:53:11.991335Z"
    },
    "papermill": {
     "duration": 0.063845,
     "end_time": "2024-10-06T14:53:11.994571",
     "exception": false,
     "start_time": "2024-10-06T14:53:11.930726",
     "status": "completed"
    },
    "tags": []
   },
   "outputs": [
    {
     "name": "stdout",
     "output_type": "stream",
     "text": [
      "89.66666666666667\n"
     ]
    }
   ],
   "source": [
    "print(original_clean_accuracy)"
   ]
  },
  {
   "cell_type": "code",
   "execution_count": 20,
   "id": "0ea61bc4",
   "metadata": {
    "execution": {
     "iopub.execute_input": "2024-10-06T14:53:12.108322Z",
     "iopub.status.busy": "2024-10-06T14:53:12.107601Z",
     "iopub.status.idle": "2024-10-06T18:05:32.323975Z",
     "shell.execute_reply": "2024-10-06T18:05:32.323017Z"
    },
    "papermill": {
     "duration": 11540.525754,
     "end_time": "2024-10-06T18:05:32.575520",
     "exception": false,
     "start_time": "2024-10-06T14:53:12.049766",
     "status": "completed"
    },
    "tags": []
   },
   "outputs": [
    {
     "name": "stdout",
     "output_type": "stream",
     "text": [
      "Running experiment with poisoning_rate=0.01 and frequency=1000\n"
     ]
    },
    {
     "name": "stderr",
     "output_type": "stream",
     "text": [
      "  1%|          | 4/400 [00:16<22:20,  3.38s/it]"
     ]
    },
    {
     "name": "stdout",
     "output_type": "stream",
     "text": [
      "Playing clean audio for sample 0\n"
     ]
    },
    {
     "data": {
      "text/html": [
       "\n",
       "                <audio  controls=\"controls\" >\n",
       "                    <source src=\"data:audio/wav;base64,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\" type=\"audio/wav\" />\n",
       "                    Your browser does not support the audio element.\n",
       "                </audio>\n",
       "              "
      ],
      "text/plain": [
       "<IPython.lib.display.Audio object>"
      ]
     },
     "metadata": {},
     "output_type": "display_data"
    },
    {
     "name": "stdout",
     "output_type": "stream",
     "text": [
      "Playing poisoned audio for sample 0\n"
     ]
    },
    {
     "data": {
      "text/html": [
       "\n",
       "                <audio  controls=\"controls\" >\n",
       "                    <source src=\"data:audio/wav;base64,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\" type=\"audio/wav\" />\n",
       "                    Your browser does not support the audio element.\n",
       "                </audio>\n",
       "              "
      ],
      "text/plain": [
       "<IPython.lib.display.Audio object>"
      ]
     },
     "metadata": {},
     "output_type": "display_data"
    },
    {
     "name": "stderr",
     "output_type": "stream",
     "text": [
      " 12%|█▎        | 50/400 [02:14<14:54,  2.56s/it]"
     ]
    },
    {
     "name": "stdout",
     "output_type": "stream",
     "text": [
      "Playing clean audio for sample 1\n"
     ]
    },
    {
     "data": {
      "text/html": [
       "\n",
       "                <audio  controls=\"controls\" >\n",
       "                    <source src=\"data:audio/wav;base64,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\" type=\"audio/wav\" />\n",
       "                    Your browser does not support the audio element.\n",
       "                </audio>\n",
       "              "
      ],
      "text/plain": [
       "<IPython.lib.display.Audio object>"
      ]
     },
     "metadata": {},
     "output_type": "display_data"
    },
    {
     "name": "stdout",
     "output_type": "stream",
     "text": [
      "Playing poisoned audio for sample 1\n"
     ]
    },
    {
     "data": {
      "text/html": [
       "\n",
       "                <audio  controls=\"controls\" >\n",
       "                    <source src=\"data:audio/wav;base64,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\" type=\"audio/wav\" />\n",
       "                    Your browser does not support the audio element.\n",
       "                </audio>\n",
       "              "
      ],
      "text/plain": [
       "<IPython.lib.display.Audio object>"
      ]
     },
     "metadata": {},
     "output_type": "display_data"
    },
    {
     "name": "stderr",
     "output_type": "stream",
     "text": [
      "100%|██████████| 400/400 [17:10<00:00,  2.58s/it]\n"
     ]
    },
    {
     "name": "stdout",
     "output_type": "stream",
     "text": [
      "Epoch 0, Loss: 0.27350068556992485, Training Accuracy: 96.375\n",
      "Backdoor Attack Success Rate: 6.666666666666667\n",
      "Clean Accuracy Drop: -3.666666666666657\n",
      "Running experiment with poisoning_rate=0.01 and frequency=10000\n"
     ]
    },
    {
     "name": "stderr",
     "output_type": "stream",
     "text": [
      "  2%|▏         | 7/400 [00:24<18:39,  2.85s/it]"
     ]
    },
    {
     "name": "stdout",
     "output_type": "stream",
     "text": [
      "Playing clean audio for sample 0\n"
     ]
    },
    {
     "data": {
      "text/html": [
       "\n",
       "                <audio  controls=\"controls\" >\n",
       "                    <source src=\"data:audio/wav;base64,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\" type=\"audio/wav\" />\n",
       "                    Your browser does not support the audio element.\n",
       "                </audio>\n",
       "              "
      ],
      "text/plain": [
       "<IPython.lib.display.Audio object>"
      ]
     },
     "metadata": {},
     "output_type": "display_data"
    },
    {
     "name": "stdout",
     "output_type": "stream",
     "text": [
      "Playing poisoned audio for sample 0\n"
     ]
    },
    {
     "data": {
      "text/html": [
       "\n",
       "                <audio  controls=\"controls\" >\n",
       "                    <source src=\"data:audio/wav;base64,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\" type=\"audio/wav\" />\n",
       "                    Your browser does not support the audio element.\n",
       "                </audio>\n",
       "              "
      ],
      "text/plain": [
       "<IPython.lib.display.Audio object>"
      ]
     },
     "metadata": {},
     "output_type": "display_data"
    },
    {
     "name": "stderr",
     "output_type": "stream",
     "text": [
      "  8%|▊         | 34/400 [02:30<47:15,  7.75s/it]"
     ]
    },
    {
     "name": "stdout",
     "output_type": "stream",
     "text": [
      "Playing clean audio for sample 1\n"
     ]
    },
    {
     "data": {
      "text/html": [
       "\n",
       "                <audio  controls=\"controls\" >\n",
       "                    <source src=\"data:audio/wav;base64,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\" type=\"audio/wav\" />\n",
       "                    Your browser does not support the audio element.\n",
       "                </audio>\n",
       "              "
      ],
      "text/plain": [
       "<IPython.lib.display.Audio object>"
      ]
     },
     "metadata": {},
     "output_type": "display_data"
    },
    {
     "name": "stdout",
     "output_type": "stream",
     "text": [
      "Playing poisoned audio for sample 1\n"
     ]
    },
    {
     "data": {
      "text/html": [
       "\n",
       "                <audio  controls=\"controls\" >\n",
       "                    <source src=\"data:audio/wav;base64,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\" type=\"audio/wav\" />\n",
       "                    Your browser does not support the audio element.\n",
       "                </audio>\n",
       "              "
      ],
      "text/plain": [
       "<IPython.lib.display.Audio object>"
      ]
     },
     "metadata": {},
     "output_type": "display_data"
    },
    {
     "name": "stderr",
     "output_type": "stream",
     "text": [
      "100%|██████████| 400/400 [18:15<00:00,  2.74s/it]\n"
     ]
    },
    {
     "name": "stdout",
     "output_type": "stream",
     "text": [
      "Epoch 0, Loss: 0.2660708556009195, Training Accuracy: 95.08333333333333\n",
      "Backdoor Attack Success Rate: 10.166666666666666\n",
      "Clean Accuracy Drop: -6.5\n",
      "Running experiment with poisoning_rate=0.01 and frequency=24000\n"
     ]
    },
    {
     "name": "stderr",
     "output_type": "stream",
     "text": [
      "  6%|▋         | 25/400 [01:04<16:07,  2.58s/it]"
     ]
    },
    {
     "name": "stdout",
     "output_type": "stream",
     "text": [
      "Playing clean audio for sample 0\n"
     ]
    },
    {
     "data": {
      "text/html": [
       "\n",
       "                <audio  controls=\"controls\" >\n",
       "                    <source src=\"data:audio/wav;base64,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\" type=\"audio/wav\" />\n",
       "                    Your browser does not support the audio element.\n",
       "                </audio>\n",
       "              "
      ],
      "text/plain": [
       "<IPython.lib.display.Audio object>"
      ]
     },
     "metadata": {},
     "output_type": "display_data"
    },
    {
     "name": "stdout",
     "output_type": "stream",
     "text": [
      "Playing poisoned audio for sample 0\n"
     ]
    },
    {
     "data": {
      "text/html": [
       "\n",
       "                <audio  controls=\"controls\" >\n",
       "                    <source src=\"data:audio/wav;base64,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\" type=\"audio/wav\" />\n",
       "                    Your browser does not support the audio element.\n",
       "                </audio>\n",
       "              "
      ],
      "text/plain": [
       "<IPython.lib.display.Audio object>"
      ]
     },
     "metadata": {},
     "output_type": "display_data"
    },
    {
     "name": "stderr",
     "output_type": "stream",
     "text": [
      "  7%|▋         | 29/400 [01:45<53:31,  8.66s/it]"
     ]
    },
    {
     "name": "stdout",
     "output_type": "stream",
     "text": [
      "Playing clean audio for sample 1\n"
     ]
    },
    {
     "data": {
      "text/html": [
       "\n",
       "                <audio  controls=\"controls\" >\n",
       "                    <source src=\"data:audio/wav;base64,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\" type=\"audio/wav\" />\n",
       "                    Your browser does not support the audio element.\n",
       "                </audio>\n",
       "              "
      ],
      "text/plain": [
       "<IPython.lib.display.Audio object>"
      ]
     },
     "metadata": {},
     "output_type": "display_data"
    },
    {
     "name": "stdout",
     "output_type": "stream",
     "text": [
      "Playing poisoned audio for sample 1\n"
     ]
    },
    {
     "data": {
      "text/html": [
       "\n",
       "                <audio  controls=\"controls\" >\n",
       "                    <source src=\"data:audio/wav;base64,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\" type=\"audio/wav\" />\n",
       "                    Your browser does not support the audio element.\n",
       "                </audio>\n",
       "              "
      ],
      "text/plain": [
       "<IPython.lib.display.Audio object>"
      ]
     },
     "metadata": {},
     "output_type": "display_data"
    },
    {
     "name": "stderr",
     "output_type": "stream",
     "text": [
      "100%|██████████| 400/400 [18:12<00:00,  2.73s/it]\n"
     ]
    },
    {
     "name": "stdout",
     "output_type": "stream",
     "text": [
      "Epoch 0, Loss: 0.24808290968798247, Training Accuracy: 94.45833333333333\n",
      "Backdoor Attack Success Rate: 8.5\n",
      "Clean Accuracy Drop: 12.833333333333343\n",
      "Running experiment with poisoning_rate=0.05 and frequency=1000\n"
     ]
    },
    {
     "name": "stderr",
     "output_type": "stream",
     "text": [
      "  1%|▏         | 5/400 [00:13<17:24,  2.64s/it]"
     ]
    },
    {
     "name": "stdout",
     "output_type": "stream",
     "text": [
      "Playing clean audio for sample 0\n"
     ]
    },
    {
     "data": {
      "text/html": [
       "\n",
       "                <audio  controls=\"controls\" >\n",
       "                    <source src=\"data:audio/wav;base64,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\" type=\"audio/wav\" />\n",
       "                    Your browser does not support the audio element.\n",
       "                </audio>\n",
       "              "
      ],
      "text/plain": [
       "<IPython.lib.display.Audio object>"
      ]
     },
     "metadata": {},
     "output_type": "display_data"
    },
    {
     "name": "stdout",
     "output_type": "stream",
     "text": [
      "Playing poisoned audio for sample 0\n"
     ]
    },
    {
     "data": {
      "text/html": [
       "\n",
       "                <audio  controls=\"controls\" >\n",
       "                    <source src=\"data:audio/wav;base64,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\" type=\"audio/wav\" />\n",
       "                    Your browser does not support the audio element.\n",
       "                </audio>\n",
       "              "
      ],
      "text/plain": [
       "<IPython.lib.display.Audio object>"
      ]
     },
     "metadata": {},
     "output_type": "display_data"
    },
    {
     "name": "stderr",
     "output_type": "stream",
     "text": [
      "  2%|▏         | 6/400 [00:16<17:10,  2.62s/it]"
     ]
    },
    {
     "name": "stdout",
     "output_type": "stream",
     "text": [
      "Playing clean audio for sample 1\n"
     ]
    },
    {
     "data": {
      "text/html": [
       "\n",
       "                <audio  controls=\"controls\" >\n",
       "                    <source src=\"data:audio/wav;base64,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\" type=\"audio/wav\" />\n",
       "                    Your browser does not support the audio element.\n",
       "                </audio>\n",
       "              "
      ],
      "text/plain": [
       "<IPython.lib.display.Audio object>"
      ]
     },
     "metadata": {},
     "output_type": "display_data"
    },
    {
     "name": "stdout",
     "output_type": "stream",
     "text": [
      "Playing poisoned audio for sample 1\n"
     ]
    },
    {
     "data": {
      "text/html": [
       "\n",
       "                <audio  controls=\"controls\" >\n",
       "                    <source src=\"data:audio/wav;base64,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\" type=\"audio/wav\" />\n",
       "                    Your browser does not support the audio element.\n",
       "                </audio>\n",
       "              "
      ],
      "text/plain": [
       "<IPython.lib.display.Audio object>"
      ]
     },
     "metadata": {},
     "output_type": "display_data"
    },
    {
     "name": "stderr",
     "output_type": "stream",
     "text": [
      "100%|██████████| 400/400 [17:06<00:00,  2.57s/it]\n"
     ]
    },
    {
     "name": "stdout",
     "output_type": "stream",
     "text": [
      "Epoch 0, Loss: 0.2729622587952326, Training Accuracy: 96.16666666666667\n",
      "Backdoor Attack Success Rate: 97.16666666666667\n",
      "Clean Accuracy Drop: -7.666666666666657\n",
      "Running experiment with poisoning_rate=0.05 and frequency=10000\n"
     ]
    },
    {
     "name": "stderr",
     "output_type": "stream",
     "text": [
      "  0%|          | 0/400 [00:00<?, ?it/s]"
     ]
    },
    {
     "name": "stdout",
     "output_type": "stream",
     "text": [
      "Playing clean audio for sample 0\n"
     ]
    },
    {
     "data": {
      "text/html": [
       "\n",
       "                <audio  controls=\"controls\" >\n",
       "                    <source src=\"data:audio/wav;base64,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\" type=\"audio/wav\" />\n",
       "                    Your browser does not support the audio element.\n",
       "                </audio>\n",
       "              "
      ],
      "text/plain": [
       "<IPython.lib.display.Audio object>"
      ]
     },
     "metadata": {},
     "output_type": "display_data"
    },
    {
     "name": "stdout",
     "output_type": "stream",
     "text": [
      "Playing poisoned audio for sample 0\n"
     ]
    },
    {
     "data": {
      "text/html": [
       "\n",
       "                <audio  controls=\"controls\" >\n",
       "                    <source src=\"data:audio/wav;base64,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\" type=\"audio/wav\" />\n",
       "                    Your browser does not support the audio element.\n",
       "                </audio>\n",
       "              "
      ],
      "text/plain": [
       "<IPython.lib.display.Audio object>"
      ]
     },
     "metadata": {},
     "output_type": "display_data"
    },
    {
     "name": "stderr",
     "output_type": "stream",
     "text": [
      "  1%|▏         | 5/400 [00:12<16:52,  2.56s/it]"
     ]
    },
    {
     "name": "stdout",
     "output_type": "stream",
     "text": [
      "Playing clean audio for sample 1\n"
     ]
    },
    {
     "data": {
      "text/html": [
       "\n",
       "                <audio  controls=\"controls\" >\n",
       "                    <source src=\"data:audio/wav;base64,UklGRiggAABXQVZFZm10IBAAAAABAAEAgD4AAAB9AAACABAAZGF0YQQgAAB/AHoAXwBiAHYAcwBeAFUAVQBGACIA8v/F/5r/Zv8h/97+pv5l/gj+of1J/f78uPyH/HT8bPxp/If83PxL/bT9Iv6p/kT/2f9eANYARQGdAc0B1AHOAcUBogFOAd4AdgAiAM7/Zv///s3+4P7//gf/I/+E////YwDGAEQBuwEIAkYClALOAtACtQKnAqMChgI9At8BkgFnAUQBDwHOAKIAhwB5AIsAnwBjABMAlAAvAt0DfQQwBK0DKgNVAjUB0f8G/sf7fvkt92X04vA57Snq1ef25X/ksePC49Hk1eav6TDtJvFW9az5Tf4EAzYHTgpwDNcNiA46DgEN+wpJCAwFrAFx/mP7lPg+9sP0PfSi9LX1dffk+fn8TACPA7kGzwmQDLcOUBBuEfIRuhHpEMkPig4rDY8L1glTCEEHYQaFBcgEfQScBO4ELgVeBZ4F+QUtBhUG4wXEBYIF7gRIBMIDIgMeAt8Ao/9u/gn9bPus+fP3K/Yi9LnxMe/Z7M/qC+mj59bm3ubN53jpyOvL7nPyXvZD+kX+cwJxBrYJNAznDbMOYg40DVkL2gi3BUYC4P6f+5f4+vUm9ETzZvNf9CT2lfiu+zz/+AKEBrcJmgwdD/EQ2hENEtMRNREbEJwO6gwgC2cJ9Af1BkgGzgVqBTsFUQWvBR0GggbsBmUHrgevB7IH0AecB9QG7AU9BW8E+QIKARn/Sv1L++P41vUP8uDtDerx5jjkr+Hb323fYOBx4prl8+kw79n0nvpkACcGfAvFD3USyxPwE9cSTBC9DIYIvAN3/lL5+fSP8f7uOO2S7EDtaO+78un2j/t2AFAF3wkBDoERFhSBFdMVNhXjE/YRkg/3DH8KYQh6BtgEyAOTA98DUwTjBLUFlAZSB/UHkwjrCNEIZAjgBz8HdAaeBd8ELAR8A/ACmQJWAtcB9wC9/17+rfxJ+sD2KvIZ7VjoNeSC4Fjdadta2+Xcqt+742zpdfAb+Kr/xAZoDTMTdBeAGaUZKxgUFUsQkgqDBCf+m/e98XPtq+op6froj+rJ7VXyrveH/ZQDeAmZDpkSmRWbF0IYQxcPFVUSeQ98DGMJiQZiBDQDswKkAhUDNQSkBQkHXQinCX0KpApnChAKWQkRCJcGZQVwBIcDxgJzApEC3QIkAzMD7wI8AhsBDP9r+wT2oe826TnjqN2X2NXUbNPi1IzY0d205GrtPPcaAXcK/BI8Glsf5CF9IYQeVRmMEoQK4AEk+crwh+kq5D3hYOBg4U3kb+k48Oj3z/94B1YO4hPmFzwa8RoEGrEXVRSVEMQM2QgKBQsCeQAGAEAAAgGHApwE4AbtCIwKkQv0C7sL/QrdCXMIvwb8BJ0D4QJ3AjACWAJTA/AEtAZbCLQJmQqeCoQJMwf8A5j/Yfkw8S3o5t8r2ebTuc9tzXPOctMD273jiO3Y+NYEzQ+0GD0fqyOyJfUkAiGVGn4SYAnJ/+T2Xu/S6E3j3d9631fhYeRH6J3tTfSi+5ICfAhPDSoR+xN4FcQVCRVpEx4Rxw6mDGwK5gd7Bd4DNgMaA94CggKMAlcDTQTjBEoFBgbpBpIHBwhwCJ4IfwhcCHAIcwggCI4HFgfiBtMGtgaQBqcG5AbaBuIF1gPvAJz9XPkw8yvrI+Pj3HXYD9WJ0krSztXs3F3l0O1Y98wCPQ4EFxIdVCG2Iy8j5h85GpwSjwlEAKz3IfCR6erjAODt3uTgT+Qq6O/shPMc+zICGAgHDT8RgxR0FtIWCRaFFFYSjw/qDL4KcAjUBdwDRgNDA90CNgJNAmkD8QT6BVYGoAZvB2kI7gj3CN8InQgnCMIHoweEBycHpgZnBrkGYwfOB8EH3wcZCFUHxwRSAY/9rfiB8WXodN/s2ATVzdEYz7fPvdXn3iPodfFv/JwImhOsG3cg8SJoIzshthsnFMoLmgLS+Ifw8+qZ5mLixt++4IPkA+kW7YnxZPdy/u0EiAnjDBwQ9xJ3FLwUXBSCExQSWRB/Dm8MEAqDB1QF/QNVA20CHQFhACUBwwInBBYFLAamBz4JfwoaCwgLmAoPCnkJugisBzUGzARJBNQEiAW/Bf0FuwaFBxkH1QQkASj9fvhU8Xrn4N1Z123TctB3zszPLNap4PHrPvYCAV0N7hhLIGQj3CNoIlMetBf1DvoE5voF8irrlObY4/bhXeGX4+Doju7K8sf2afzjAgwIPQt2DccPGRKbE64T7hIrEkwRyQ/RDbcLPwlwBvMDbQKaAfYAQgAsAHwB/wMyBloHcgh2CowMWg3rDCQMQQsACmUIpwbgBFQDZwJbAiUDWQRdBREGHAcPCDgH0AOB/yv7L/UN7ErhRNj30pDQwc4VzjLSudy36fP0Cv+JCscWICBLJMEj+iAhHUwXPg6KA6z5f/Hf6m3mfuTn4zLkWuYL67jwgPXz+Gj8DQFWBlYKQgy6DUQQGBNqFCsUcRO+Eq0Rxg/0DJkJTgY7A50A+/6W/r/+Vf8eAXkEEgibCjYMwQ09D9QP6A6rDOYJSQfoBJQCeAAv/w//KABPAv4EegdlCQEL+AtuC4cIdwMo/ZL2He9B5frZY9EjzinO3s4f0fLX+OM48pD+5wfeEIcaiSFIImUeYhkXFPYM/AO2+vjyoO1m6p/oJ+g86VXrCO5P8SP1pPho+/j9KQELBe0IOgz/DtsRxxTZFjkXPRaIFAISVA7MCUkFZwGA/p/8CvwJ/an/MwMBB84KVQ7GEIcRyBAkD98M3QkTBicCNf/p/eP9rP5nAHEDawdICxAOaQ+wD60OsQs/Bhn/Wvet72nnk92i01bNiMypzkLRcNUS3jjrWflqBNALfxLKGb0e3h2RGI0Sew05CAoCTvtP9Urxe+//7tXune4k7gzuG+8u8dHyuPN09bT5IADmBswMBBJfF4Uc2B/HH5YctxcuEgkMNgVM/nP4E/Wz9Pn2B/syAOAFyQuPER4W5BdiFsMSdQ7ACVgEq/4W+tj3Yfgn+0T/AgQoCWgO4RJsFUQVnRIdDpEI6AHd+R7xmen047He0Niu0wHSxtQV2qLeZuL36Mnzvv5+BSkJcA0cEykX+RYZEy4PQQ1yCxwHbAGp/IH48PP/767tsuv+6Inmg+a66c3uQ/M996T9jgeSEd4X7xpxHQMgdCDNHI8VmA01BwEC3fyL+ML2hfct+p7+dQQEChEOwRCuEpgTdxKgDiwJdwS4Adj/wf1f/Hv9KQHXBeQJ7wx8D8AR6RLSEYIO6wkmBVUASfvv9dPwb+y56L7kat/k2RnXINhU2svbXd4Q5brv6PphA28JORBaGPcdfB3WGAoUVRCGCxYEfvtQ9czyFPGS7dHp0+hC6rzrA+yD7DbvdfQ4+hv/aQSQC0sTCBkfHF4dYR3IGwYYLhJpC/0EP/95+qH3a/cR+dD7v//4BFIKXg57EBkR0hCSD7AMUAj1AxcBp//+/jX/4ADeA4YHKgtBDkYQ8xBQEGIOOQsNB5wCU/5R+m32qfIB72frKudA4cra79YS16/YAdoQ3eXkB/GN/f0Gmw2RFH4clSEaIKoZjhLKDMgG/f5Q9vDv/+0+72vwu+9b7hfuae/L8LXwQO/x7kfyBflpAHEG+gvMEqwariAUIu4e9hklFacP6Qe+/ir3ZvNx87P17PgS/bgCNwnlDlQSHhOLEZcOVgsYCJME+QBl/hv+XwAKBGkH9QlyDGUPxhEGEscPKwyoCKcFwwKH/6T8xfp3+XL3CPSj7nfm6tx01RvSNtE+0ZXTKtuW6Hj4CwbWD54YyCEBKPYmRh8yFRkM5AMy+xXycOvS6WrsdfB39Aj4C/rL+Zb3ZfTG8CPt6uno6KXsPfWI/9QIzxGgG7EkZSnFJychuRhIEDEH2fxA87Ltee1V8S33uv2FBGcLPhGEFF4UOBEXDIQGCwI8/7j9Zv3v/tkCfgj5DU0RQxIsEsQR5A+HC8sF6AAO/sv8lvw//S7/7AHCA7sCS/6h9sPrE9+H09bLlchTyfnNvdej50z7Og3bGYAiIylPLJEoeR3LDuUBz/jB8RfrGOfi6N/vBPir/e3/nf/c/WH6nfRL7ejm0ONS5YTrAfXS/9MK1hXhH6Mm3ydUIwobqRFfCPv+CPYA8DfvbfMi+t0A4wZhDBURRxOaEYwMTwbCAM38yvrS+v78WwGNB18OKRSIF8MXWBVcEXYMiQYuADH7Sfmc+uD9EQLJBhMM9hBhEyARewkA/b3s/tr+ysW/wLoovInDK9FN5QP9ExJVINoo5C2NLvEn/RkHCUn7L/OJ7tbq6Om17mX4ZwKICIYJTQaGAKL43+7R5Bvdo9mt2wrkWfEeAG8NmxjSISAoISkcI8kX0gujAhr8l/ay8gPzGPnIAlcLtw+KEAoQGA4iCd8A1/eJ8Q3w6vJl+MD/1wijEj4bAiGnIlgf6BeEDikFlvwo9fzv7u4a83H7EQVnDZ8T+xeFGvIZ1RSuCyMBavYM6l3bVM3gxH/EJMpj0X7Z9OXs99MJzxTfF7UXoxhAGboUHQrc/yT86/1L/7L9yftL/csBZQR2AfL6B/VC8OnqAOXk4M3gAuW9673zrf0YCWkSzBaGF1EXkBZmE+kMXQURAXQBiQMNBMMDbgVDCSMMpAoDBc3+7PpQ+Pn0yPHL8Wb2Sf4DB9EOThWQGtcd4R1YGi8U6AzQBZ//1vo7+BP4kPlP/NsADgelDLcPcxAfEHwP2g2rCtoGcQS3AvX9PPMR5FXWMM/XzanMg8qbzYTbB/FMBH0OpBI6GZ4jwyjCIC8Q4wId/57/pvtG8pLsi/FS/FYCCADU+nj41fjD9jvvBObH4Wzk1OoJ8oX5BAKKCyoUWhlmGigYZhMuDVwHEAM8AEH+Lf35/YcBUgazCPIG/gLu/xn+ifvk9lfy/fFt97X/4AY+DNkRmxhIHmcf8xqlEwEN3wfPAkT9svj79q74Wvzq/z4CKgSoBskJSQwyDQkN4wziDcQPpBH1EsgT+RA1BRDwddhixyDA7L0Xuh24J8Sd4d8CPhdCHE0ebyiONAoxfRiH/Fbx8vYQ/Ej1+Onf6lT8vA7VEM8DBfdc88jzWe6h4bPXVNoX54j0/v7eCEoTzRvOHn8bMxWwDqUGn/xO9TD1KfuUAVwEcwUTCtYRYxQSDLT9Y/M08VfyVvA37C/uBfvSDAMZphsEGqUaUh2OG2cRpwPk+iL65PzY/Y/8Ef0tAvQIEgzBCQQFCQHh/pX9X/xQ/Gb/1wU8DlAX3B4UI5MjbiFNHq8awRBH+IDUmbWOqc+u6baetjm3t82G+z0lIzERJMoZkSPSMpsqPAaN5Dnjw/tRDWYFx/JP8RsHVhtYFLj27N1b2vXix+Sn2onTS9/U+dcQ+hkAGjMa5hxdG0oQJAFF94H0l/Td9Wv6PgQpEKwW2BQYEKwNfwq0ANbwrOMn4mbrjvUp+uL9sgi1GWomhSVwGa4NwAlDCXUD/ve/74jy1/1kB1QIGgTTAiEGXAhUBOL7/fVp9779TgN8BtMJ5g5eFIUX6xZTExIPtQsCCecHEAnpCzEQ4BU6FnEGVObqw1qwf7CEt+q0x65Kv4Pv/CQIPT8yZiFzJ2Q8ETs1ErjfoM7r5dQCuAOI7a3j8/pnHc0kFAhQ42LUSd1v5/jgS9NA1qPxtRRDKncsTSbUI+EicxlMBv/yEumT6dHuf/RX/SYLZRdPGgAUXwsjBff+N/Oe40TbWuJP9H8EzAv8Du8WhyN8KaEfnwoe+bP0rfiM+TPzDe7W84ICvw1aDL0Bq/jA9+b6Gfpm9AbxhPaEA60QiRc1GDMXeRb4E04NGgPE+GfyvPHr9YP9GgebEMgYDCBsJTEnxSQdH1MYXBGmAwrmgL7RopGiqbbjyHvLdcxn5rMYKz9iO8AY8f8aCSkgth0I+e7Wfd0gBk4ldR2G/dbrsPnZD9wLH+ocya/Etdqf8tv4yPJV9VkJmyEuK+AggQ58A8ACmwNAAK77VvzfAycNPRIgE4sSdA86B6D6I+9m6gnsCO4X7ZHt9vXxBWcUnRcrEFcITAgVDccMQQPt9x720f8fC3YMyAJA+BL2ivrP+0z0wOke5xTwYP1+BSgGDQVfCBMPYxIuDnAFg/4a/Zz/ugHSAf0BhAQACZ0MPQ1lCy8JXgcTBgQGOAiCDG8RCBUxFwQbniBaJDwk+CE1Hu8UDv2M0Yiig42PnJy5y8jcxzzRl/syNaxOqTJ7AUHtFgIeGxURren10kjsFyA1O+Ym1v1+6M/yogNL+97YhrtUvnbd+/6UDBcHgwJrDCMdiyK/FIT+SvKL99IFmxF8Ft4XtRlQGgEWmw1lBK361u8i5m7iA+iH85H8Jf6X+9z8+ATXDXwOfwVt+7T6XQWpEUIUEAyqAj8BWAYxBxL8Kuq23rfhU+5p+KD5Hve1+WsDKw2EDgQHtf4o/X0CLQm3C9kJwQd6CK4KyQofB2wBZP37/HD/GwMSBzcLSg8pEiUTxRK1EVcPGgvxBZQCNQOQB8MMCRBdElMVfhlwHvkh/h/XE8D3KMplm+6G7JZouEHPVdML2vz7MC+VSdowCfsB2nfnwwplGBwDaurn8+YdzD/FN6YMBeLT1VDlL/PJ6pPVCc3f3wwE4x6YHrELXvya/YQIyAzKBE/7Rv6jD4kkaC8YLFMgRxKgBJL4b++m6mfqBu278KL1VfzeAvAELv+W9CftNO+a+TMEIAjKBt8How88GZIauQ5U/I3vO+5F8zb1N/Fd7X7wavr/A+kFSP/y9jP0Z/hc/xMEqQVTB9MLtBHIFEMSRgscBEMA9P9LAcwCmARcB4QKkwyaDB4LGgksB00F2AP8A3UGMQrzDD4NgQsVCW8H8AabBt0E2gJlBFoKnBIBGdsaNhtiHcIYaP31yR6VAYBQmUzJ2+Y35XrgXvgjJgJAuyaG7D3F0tFyAGMh8xxZBy0DQxsqORY7ERcr56HN99Xs73b/2vfy53TnX/wdFcUa1Ad07o/kZe+qAksOoQ6gDacUvSHQKucmOBblAsT3dffj/IUA7P5d+qD2DvUa9KXx/+x76Dnn8uo080X90AUTC2kN7w0XDbQK7QZhAv39y/r8+bv7+P66ATsCUQA0/Uz66Pf69Qz1CfZQ+WL+NgRsCaIMPg2IC5oIwAXsA4IDcAR8BioJzAuiDSMOTA1dC+QIWQYlBKQCEAJeAm8DDQWfBi4HcwYNBfsDggMsA3kCsAGjAe4CLgVNBysIAAhDCFUJIgvxDPcNLw8HEXwNk/sA3N69DLRFxJDf4e927iPpSvBEAjINqAMU7FHayt0z9GcLSRRVD1QIIgrnFPwc6xa6BCj0KPH/+kIFYwWy/P30LPZv/qUETwKl+azxkfB299gAzgUyBdIDbAZBDMUP5gzWBewAQQL1B30MqQx2CVQFEwI0ALD+Xvyw+Sv4Hvl6/Mf/0P92/Bv5yfi9+vj7KvvM+fz5R/xd/yYB1wCa//X+d/+CAKgABv/C/ET8j/4jAmQEIwTJApUC9QP/BPkDngE4AOQA0gKVBD4FvwQBBPEDrQSeBSoGJQYsBv4GZQg3CcsIzAdfB64HDAj+B5UHDAe+BuQGIAe3Bn4FAgQLA60CMQLdADL/o/4/AEsD9wVeB4IHJgduB6oItwl4COgBrfTB5bnes+Nl7q/0G/MX74DvqPTs9zXzWOjQ3yvgMekN9pX/CQEs/Zv7BgBJBvkGrv/W9r71Gv4kCAwLfQaKAYsBcwVsCJ8GngAl+0H6K/5HBG0IhQeSA/8BCQW8CMYHxwEU/Cv8OwJNCUkMsgq0B3wF/QOxAhMB0/4G/ZD9ugCMBBwG5gN7//n72Pqj+nn5w/da9/D4a/tU/eD9M/0u/Hv7UPvF+4/8Ff1l/XH+hgCIAiUDTwItAc0ASAEAAoUCJgNYBNcF7wZCB+MG8QXbBEgEjQRXBUcGUwd1CEEJTwmWCJEHwgZABqsFGQVLBW8GaAcyBxYGIgW3BEAE/wI9ATYAlwB0AZ0BHQHNANwA8QDNAIsAXABsACcBbgKNA1MEGwWtBHwA//fJ7gDq5utQ8bb04/Pt8ZTyP/US9vvy3+166lvrE/Cl9Yv53vr0+bb4rvme/Ef+tvwY+iv6Ef7IAnYEgAIWAGQA4gKCBMID3QHTANUBnQREB9sHVgZGBFoD0QMkBKkC9/+l/n0AZgSNBzoIFQevBd8ENATZAvEAsv8PAOEBFARFBaUEnwJDAHf+b/2w/Lj73/oh+7P8dv74/ub9Ufx++6v7Dfzo+4f70PsX/cf+EQB+ABkAif+B/xUAzAA4AXgBDAIsA3UEPwU2BZQE+wPYAxcEWARoBGkErgRHBQIGlgbjBusG1gbIBtUG6wbrBrgGTAa2BSsF4gTBBFcEdgNxAr0BXgH4ADsAX//n/hb/kP/K/5v/T/8q/z7/b/+O/4j/f//O/5oAxQHfAl8DswKSAAz9xvgZ9YLzKfSi9VD28vVY9ST1BvU79JvyEvGu8IzxFPPq9Jn2cPdM9xT3vvdj+Sj7J/xo/Of8If5a/63/Yf9d/+T/vwDyAUwDNARwBI0EDQW2BecFWAWDBCYEgAQSBVgFdAXZBYMGGgdSBxQHWgYyBbwDfAI3AgYD9wNGBEIEZQRMBHsDSAJXAbsAMAC0/2//cP9w/wf/JP47/cf8ufyz/If8UPwo/B78Ovxm/H38kvzu/Lf9sv6K/ysAswArAYsB1gEPAjQCSQJfApQCAgOXAxMESAQ1BBMEFAQ4BEYEOwRZBNEEaQXDBb8FnAWVBaMFgwUVBZQEVARXBFYECwRsA5ICtwEJAYwAGQCt/3n/kf+y/6H/ef9m/17/P/8H/+z+JP9e/+v+2f1X/R3+W//I/zX/TP51/YH8OPuo+VL4sPfF9zb4wvj7+Ff45/al9Wz1G/bk9lD3hvfp95n4Y/nB+Wn55PhC+d/67Pw//pv+kv6y/g7/gf/L/9X/9P+rAA8CmwOyBCYFTwWMBecFFAbhBXwFQgVOBZkFKAbNBhUH3AZ8BlkGUQbgBbUEUQOkAh8DJQSRBMYDTgJGAR0BIAGFAHH/ov5k/nP+gP5T/sz9DP1k/Bf8OvyQ/LH8h/xu/Kr8D/01/Qf91Pzt/GH9//1t/nb+U/53/hj/7/+HALMAuQD4AIIBCQI5AhIC7wEaApoCNQOqA9cD8wNHBOcEjAXYBa4FUAUUBSIFYgWFBUcFxARhBEkEIwSXA74C+AFmAfkAogBjACoA8/+8/5X/if+L/3j/Qf///uH+Af83/zr/DP8S/4L///8WAN//sP+q/53/Xv/h/jv+gv3D/PH7Dfs5+rn5jPlh+Qf5yvjV+M74aPj99+r3+Pfu9x/4wPhg+Y35l/kH+uv66vvM/ID9CP5r/rv+Gv+0/4EAOwHAAU8CJwMkBOkEUQVxBWkFYgV7Ba0FyAWpBVgFFAUeBWEFaAUCBXwEKwToA2sDxgJfAmgCrgLFAnMC3wFpATMBFAHfAHoA5v9U/xL/Cv/D/vv9EP2O/I/8tvyp/Gb8Mvw1/EH8FvzD+4n7jvvT+1z8E/3M/VH+h/6V/s3+RP+q/77/q//U/14AFgGzASYCnAI0A7QD7gMVBFoEgQRwBI0EHAW1BekF2gXrBRQGDQauBSUFtwSABFcEDASlA0MD1gJNAr0BRAHVAGIA+P+1/6P/pP+J/0H/7/7F/sz+4P7e/rX+Zf4V/gn+NP46/uz9ov29/SD+Wf4z/s39W/0V/Sv9XP0W/UD8iPtv+5X7Xfvl+qP6rvrc+in7ivvK+8f7qPu3+yD8sfwG/Qj9EP2G/W/+TP+Z/2b/V//T/4cA6gACATIBmQEhAscCaAO1A5QDTwNAA3EDnAOCAzUDCwM0A3kDhQM+A8gCPQKjAQABeQA8AEkAVAAjANf/rf+q/7D/vf++/3////6R/nX+iP5o/uX9Q/0I/Vn9wv3L/ZL9cf1s/WT9eP24/eT93f3v/V/+//5u/5L/nf/E/xgAiQDxADMBXwGaAfUBTQKDApwCtQLWAgYDWAPEAwoEEgQVBEEEaARWBCUEEwQkBDsERwRJBDYEAQSbAxcDnAI8AtUBWAHwAMMAswCOAFUAKQARAPD/ov80/97+zP7m/vL+3v69/qr+rv7E/tP+u/59/jv+Ev4I/gr+EP4l/l7+of6y/nT+Iv74/e390/2q/X/9S/0D/cP8p/yx/Mb8y/y4/KD8l/yp/Mf83Pzf/OX8+vwP/Rf9Kv1M/Vv9T/1m/cT9Mv5i/l7+YP6I/sv+Ef9L/4H/sv/M/93/IwCuACEBNAESARUBRAF2AZsBwQHnAQwCNAJhAoECjQKKApECtQLvAhsDIwMTAwgDAQPyAtcCtgKJAl0CTwJeAlYCHALgAcwBvAF8ARsBwgB3ADIACQAAAO//t/94/1v/Vf9H/zT/KP8Z/wL/AP8g/0T/U/9n/5r/3v8IAAgA8v/n//L/9//o/9///P8zAFwAZgBfAF4AbACAAIsAiACEAJIArgC7ALcAzgD5ANwAYgABACEAfgCZAGgANQAhACgATQBvAEwA3/94/27/xf8WAPf/bv/3/vz+Z/+2/3//AP/o/mL/wv9x/8b+ff66/gb/Cf+6/kP+5P3M/eH97/3J/W39F/0i/Xj9jv0m/cX82/wV/QD93/wN/VL9Wv1e/aD97f3y/c39yv3+/VD+tP4M/yn/Fv8s/5X/BwAtABoAIABdALIAAQE6AV4BggG8AQ0CVwJ8AnACUAJOAoQC1gIhA1gDfgOBA2cDWANdAz0D5AKTApIC1wIJA9YCZgI2Am4CiAIeAowBVgFcAUABEwEDAeUAlgBOAEEAQwAOAKL/Rv88/3T/mf9y/yP/8/7u/u7+3v6+/oj+Qv4Q/g/+Ov59/s3+Df8Q/+b+8P5O/6H/i/89/yH/Vf+f/87/1P+8/6f/vP/1/yEAKwArADwATAA/ACsAKgApACIAPAB/AKEAbQARAOT/+P8aABkA+P/n/wUAMgA3AAgAz/+0/7n/xP/C/8X/4P8=\" type=\"audio/wav\" />\n",
       "                    Your browser does not support the audio element.\n",
       "                </audio>\n",
       "              "
      ],
      "text/plain": [
       "<IPython.lib.display.Audio object>"
      ]
     },
     "metadata": {},
     "output_type": "display_data"
    },
    {
     "name": "stdout",
     "output_type": "stream",
     "text": [
      "Playing poisoned audio for sample 1\n"
     ]
    },
    {
     "data": {
      "text/html": [
       "\n",
       "                <audio  controls=\"controls\" >\n",
       "                    <source src=\"data:audio/wav;base64,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\" type=\"audio/wav\" />\n",
       "                    Your browser does not support the audio element.\n",
       "                </audio>\n",
       "              "
      ],
      "text/plain": [
       "<IPython.lib.display.Audio object>"
      ]
     },
     "metadata": {},
     "output_type": "display_data"
    },
    {
     "name": "stderr",
     "output_type": "stream",
     "text": [
      "100%|██████████| 400/400 [17:04<00:00,  2.56s/it]\n"
     ]
    },
    {
     "name": "stdout",
     "output_type": "stream",
     "text": [
      "Epoch 0, Loss: 0.2466722168688284, Training Accuracy: 95.375\n",
      "Backdoor Attack Success Rate: 100.0\n",
      "Clean Accuracy Drop: -8.166666666666657\n",
      "Running experiment with poisoning_rate=0.05 and frequency=24000\n"
     ]
    },
    {
     "name": "stderr",
     "output_type": "stream",
     "text": [
      "  2%|▏         | 6/400 [00:22<19:35,  2.98s/it]"
     ]
    },
    {
     "name": "stdout",
     "output_type": "stream",
     "text": [
      "Playing clean audio for sample 0\n"
     ]
    },
    {
     "data": {
      "text/html": [
       "\n",
       "                <audio  controls=\"controls\" >\n",
       "                    <source src=\"data:audio/wav;base64,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\" type=\"audio/wav\" />\n",
       "                    Your browser does not support the audio element.\n",
       "                </audio>\n",
       "              "
      ],
      "text/plain": [
       "<IPython.lib.display.Audio object>"
      ]
     },
     "metadata": {},
     "output_type": "display_data"
    },
    {
     "name": "stdout",
     "output_type": "stream",
     "text": [
      "Playing poisoned audio for sample 0\n"
     ]
    },
    {
     "data": {
      "text/html": [
       "\n",
       "                <audio  controls=\"controls\" >\n",
       "                    <source src=\"data:audio/wav;base64,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\" type=\"audio/wav\" />\n",
       "                    Your browser does not support the audio element.\n",
       "                </audio>\n",
       "              "
      ],
      "text/plain": [
       "<IPython.lib.display.Audio object>"
      ]
     },
     "metadata": {},
     "output_type": "display_data"
    },
    {
     "name": "stderr",
     "output_type": "stream",
     "text": [
      "  2%|▏         | 9/400 [00:42<32:33,  5.00s/it]"
     ]
    },
    {
     "name": "stdout",
     "output_type": "stream",
     "text": [
      "Playing clean audio for sample 1\n"
     ]
    },
    {
     "data": {
      "text/html": [
       "\n",
       "                <audio  controls=\"controls\" >\n",
       "                    <source src=\"data:audio/wav;base64,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\" type=\"audio/wav\" />\n",
       "                    Your browser does not support the audio element.\n",
       "                </audio>\n",
       "              "
      ],
      "text/plain": [
       "<IPython.lib.display.Audio object>"
      ]
     },
     "metadata": {},
     "output_type": "display_data"
    },
    {
     "name": "stdout",
     "output_type": "stream",
     "text": [
      "Playing poisoned audio for sample 1\n"
     ]
    },
    {
     "data": {
      "text/html": [
       "\n",
       "                <audio  controls=\"controls\" >\n",
       "                    <source src=\"data:audio/wav;base64,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\" type=\"audio/wav\" />\n",
       "                    Your browser does not support the audio element.\n",
       "                </audio>\n",
       "              "
      ],
      "text/plain": [
       "<IPython.lib.display.Audio object>"
      ]
     },
     "metadata": {},
     "output_type": "display_data"
    },
    {
     "name": "stderr",
     "output_type": "stream",
     "text": [
      "100%|██████████| 400/400 [1:05:51<00:00,  9.88s/it]\n"
     ]
    },
    {
     "name": "stdout",
     "output_type": "stream",
     "text": [
      "Epoch 0, Loss: 0.24739761957418524, Training Accuracy: 29.75\n",
      "Backdoor Attack Success Rate: 86.66666666666667\n",
      "Clean Accuracy Drop: 73.16666666666667\n"
     ]
    }
   ],
   "source": [
    "for poisoning_rate, frequency in product(poisoning_rates, frequencies):\n",
    "    print(f\"Running experiment with poisoning_rate={poisoning_rate} and frequency={frequency}\")\n",
    "    \n",
    "    poisoned_train_dataset = PoisonedAudioDatasetWhisper(\n",
    "        train_data, \n",
    "        processor, \n",
    "        target_label=target_label, \n",
    "        poisoning_rate=poisoning_rate, \n",
    "        frequency=frequency,\n",
    "        play_samples=True \n",
    "    )\n",
    "    \n",
    "    poisoned_train_loader = DataLoader(poisoned_train_dataset, batch_size=6, shuffle=True, collate_fn=pre_dataloader)\n",
    "\n",
    "    model = WhisperForConditionalGeneration.from_pretrained(\"openai/whisper-small\").to(device)\n",
    "    optimizer = AdamW(model.parameters(), lr=1e-4)\n",
    "    \n",
    "    for epoch in range(epochs):\n",
    "        train_whisper_poisoned(model, processor, poisoned_train_loader, optimizer, epoch, device)\n",
    "    \n",
    "    backdoor_test_dataset = PoisonedAudioDatasetWhisper(\n",
    "        test_data, \n",
    "        processor, \n",
    "        target_label=target_label, \n",
    "        poisoning_rate=1.0, \n",
    "        frequency=frequency,\n",
    "        play_samples=False \n",
    "    )\n",
    "    \n",
    "    backdoor_test_loader = DataLoader(backdoor_test_dataset, batch_size=6, shuffle=False, collate_fn=pre_dataloader)\n",
    "\n",
    "    backdoor_success_rate, clean_accuracy_after, clean_accuracy_drop = test_backdoor_attack(\n",
    "        model, \n",
    "        backdoor_test_loader, \n",
    "        processor, \n",
    "        target_label, \n",
    "        device, \n",
    "        clean_test_loader,\n",
    "        original_clean_accuracy\n",
    "    )\n",
    "\n",
    "    results.append({\n",
    "        'poisoning_rate': poisoning_rate,\n",
    "        'frequency': frequency,\n",
    "        'backdoor_success_rate': backdoor_success_rate,\n",
    "        'clean_accuracy_after': clean_accuracy_after,\n",
    "        'clean_accuracy_drop': clean_accuracy_drop\n",
    "    })"
   ]
  },
  {
   "cell_type": "code",
   "execution_count": 21,
   "id": "2b9869d0",
   "metadata": {
    "execution": {
     "iopub.execute_input": "2024-10-06T18:05:33.075317Z",
     "iopub.status.busy": "2024-10-06T18:05:33.074969Z",
     "iopub.status.idle": "2024-10-06T18:05:33.080864Z",
     "shell.execute_reply": "2024-10-06T18:05:33.079926Z"
    },
    "papermill": {
     "duration": 0.258809,
     "end_time": "2024-10-06T18:05:33.083145",
     "exception": false,
     "start_time": "2024-10-06T18:05:32.824336",
     "status": "completed"
    },
    "tags": []
   },
   "outputs": [],
   "source": [
    "results_df = pd.DataFrame(results)"
   ]
  },
  {
   "cell_type": "code",
   "execution_count": 22,
   "id": "863591c5",
   "metadata": {
    "execution": {
     "iopub.execute_input": "2024-10-06T18:05:33.592322Z",
     "iopub.status.busy": "2024-10-06T18:05:33.591465Z",
     "iopub.status.idle": "2024-10-06T18:05:33.619228Z",
     "shell.execute_reply": "2024-10-06T18:05:33.618297Z"
    },
    "papermill": {
     "duration": 0.281523,
     "end_time": "2024-10-06T18:05:33.621138",
     "exception": false,
     "start_time": "2024-10-06T18:05:33.339615",
     "status": "completed"
    },
    "tags": []
   },
   "outputs": [
    {
     "data": {
      "text/html": [
       "<div>\n",
       "<style scoped>\n",
       "    .dataframe tbody tr th:only-of-type {\n",
       "        vertical-align: middle;\n",
       "    }\n",
       "\n",
       "    .dataframe tbody tr th {\n",
       "        vertical-align: top;\n",
       "    }\n",
       "\n",
       "    .dataframe thead th {\n",
       "        text-align: right;\n",
       "    }\n",
       "</style>\n",
       "<table border=\"1\" class=\"dataframe\">\n",
       "  <thead>\n",
       "    <tr style=\"text-align: right;\">\n",
       "      <th></th>\n",
       "      <th>poisoning_rate</th>\n",
       "      <th>frequency</th>\n",
       "      <th>backdoor_success_rate</th>\n",
       "      <th>clean_accuracy_after</th>\n",
       "      <th>clean_accuracy_drop</th>\n",
       "    </tr>\n",
       "  </thead>\n",
       "  <tbody>\n",
       "    <tr>\n",
       "      <th>0</th>\n",
       "      <td>0.01</td>\n",
       "      <td>1000</td>\n",
       "      <td>6.666667</td>\n",
       "      <td>93.333333</td>\n",
       "      <td>-3.666667</td>\n",
       "    </tr>\n",
       "    <tr>\n",
       "      <th>1</th>\n",
       "      <td>0.01</td>\n",
       "      <td>10000</td>\n",
       "      <td>10.166667</td>\n",
       "      <td>96.166667</td>\n",
       "      <td>-6.500000</td>\n",
       "    </tr>\n",
       "    <tr>\n",
       "      <th>2</th>\n",
       "      <td>0.01</td>\n",
       "      <td>24000</td>\n",
       "      <td>8.500000</td>\n",
       "      <td>76.833333</td>\n",
       "      <td>12.833333</td>\n",
       "    </tr>\n",
       "    <tr>\n",
       "      <th>3</th>\n",
       "      <td>0.05</td>\n",
       "      <td>1000</td>\n",
       "      <td>97.166667</td>\n",
       "      <td>97.333333</td>\n",
       "      <td>-7.666667</td>\n",
       "    </tr>\n",
       "    <tr>\n",
       "      <th>4</th>\n",
       "      <td>0.05</td>\n",
       "      <td>10000</td>\n",
       "      <td>100.000000</td>\n",
       "      <td>97.833333</td>\n",
       "      <td>-8.166667</td>\n",
       "    </tr>\n",
       "    <tr>\n",
       "      <th>5</th>\n",
       "      <td>0.05</td>\n",
       "      <td>24000</td>\n",
       "      <td>86.666667</td>\n",
       "      <td>16.500000</td>\n",
       "      <td>73.166667</td>\n",
       "    </tr>\n",
       "  </tbody>\n",
       "</table>\n",
       "</div>"
      ],
      "text/plain": [
       "   poisoning_rate  frequency  backdoor_success_rate  clean_accuracy_after  \\\n",
       "0            0.01       1000               6.666667             93.333333   \n",
       "1            0.01      10000              10.166667             96.166667   \n",
       "2            0.01      24000               8.500000             76.833333   \n",
       "3            0.05       1000              97.166667             97.333333   \n",
       "4            0.05      10000             100.000000             97.833333   \n",
       "5            0.05      24000              86.666667             16.500000   \n",
       "\n",
       "   clean_accuracy_drop  \n",
       "0            -3.666667  \n",
       "1            -6.500000  \n",
       "2            12.833333  \n",
       "3            -7.666667  \n",
       "4            -8.166667  \n",
       "5            73.166667  "
      ]
     },
     "execution_count": 22,
     "metadata": {},
     "output_type": "execute_result"
    }
   ],
   "source": [
    "results_df"
   ]
  },
  {
   "cell_type": "code",
   "execution_count": 23,
   "id": "4b982cb2",
   "metadata": {
    "execution": {
     "iopub.execute_input": "2024-10-06T18:05:34.122505Z",
     "iopub.status.busy": "2024-10-06T18:05:34.122144Z",
     "iopub.status.idle": "2024-10-06T18:05:34.137274Z",
     "shell.execute_reply": "2024-10-06T18:05:34.136527Z"
    },
    "papermill": {
     "duration": 0.266042,
     "end_time": "2024-10-06T18:05:34.139182",
     "exception": false,
     "start_time": "2024-10-06T18:05:33.873140",
     "status": "completed"
    },
    "tags": []
   },
   "outputs": [],
   "source": [
    "results_df.to_csv('Whisper-SD-BKDR-HFSoundAll.csv', sep='\\t', index=False)"
   ]
  }
 ],
 "metadata": {
  "kaggle": {
   "accelerator": "gpu",
   "dataSources": [
    {
     "datasetId": 5789127,
     "sourceId": 9510683,
     "sourceType": "datasetVersion"
    }
   ],
   "dockerImageVersionId": 30776,
   "isGpuEnabled": true,
   "isInternetEnabled": true,
   "language": "python",
   "sourceType": "notebook"
  },
  "kernelspec": {
   "display_name": "Python 3",
   "language": "python",
   "name": "python3"
  },
  "language_info": {
   "codemirror_mode": {
    "name": "ipython",
    "version": 3
   },
   "file_extension": ".py",
   "mimetype": "text/x-python",
   "name": "python",
   "nbconvert_exporter": "python",
   "pygments_lexer": "ipython3",
   "version": "3.10.14"
  },
  "papermill": {
   "default_parameters": {},
   "duration": 12879.976408,
   "end_time": "2024-10-06T18:05:37.468336",
   "environment_variables": {},
   "exception": null,
   "input_path": "__notebook__.ipynb",
   "output_path": "__notebook__.ipynb",
   "parameters": {},
   "start_time": "2024-10-06T14:30:57.491928",
   "version": "2.6.0"
  },
  "widgets": {
   "application/vnd.jupyter.widget-state+json": {
    "state": {
     "00afc91464844bb28c65589bb92dd0fe": {
      "model_module": "@jupyter-widgets/controls",
      "model_module_version": "1.5.0",
      "model_name": "HTMLModel",
      "state": {
       "_dom_classes": [],
       "_model_module": "@jupyter-widgets/controls",
       "_model_module_version": "1.5.0",
       "_model_name": "HTMLModel",
       "_view_count": null,
       "_view_module": "@jupyter-widgets/controls",
       "_view_module_version": "1.5.0",
       "_view_name": "HTMLView",
       "description": "",
       "description_tooltip": null,
       "layout": "IPY_MODEL_6993ebc8a29c4c1ca2047fdbc044d850",
       "placeholder": "​",
       "style": "IPY_MODEL_2fa97d573e2149928b0f9cf65c4fa7f9",
       "value": " 283k/283k [00:00&lt;00:00, 483kB/s]"
      }
     },
     "00cc3edb781444de97e7380b5ada63a0": {
      "model_module": "@jupyter-widgets/controls",
      "model_module_version": "1.5.0",
      "model_name": "HTMLModel",
      "state": {
       "_dom_classes": [],
       "_model_module": "@jupyter-widgets/controls",
       "_model_module_version": "1.5.0",
       "_model_name": "HTMLModel",
       "_view_count": null,
       "_view_module": "@jupyter-widgets/controls",
       "_view_module_version": "1.5.0",
       "_view_name": "HTMLView",
       "description": "",
       "description_tooltip": null,
       "layout": "IPY_MODEL_f22efe00f3ea4dbca91de2121c05c07a",
       "placeholder": "​",
       "style": "IPY_MODEL_b09f399c65574ddcb499f55a4333d06d",
       "value": " 494k/494k [00:00&lt;00:00, 2.49MB/s]"
      }
     },
     "030e807c56554bc5a6d24222c739f2fe": {
      "model_module": "@jupyter-widgets/base",
      "model_module_version": "1.2.0",
      "model_name": "LayoutModel",
      "state": {
       "_model_module": "@jupyter-widgets/base",
       "_model_module_version": "1.2.0",
       "_model_name": "LayoutModel",
       "_view_count": null,
       "_view_module": "@jupyter-widgets/base",
       "_view_module_version": "1.2.0",
       "_view_name": "LayoutView",
       "align_content": null,
       "align_items": null,
       "align_self": null,
       "border": null,
       "bottom": null,
       "display": null,
       "flex": null,
       "flex_flow": null,
       "grid_area": null,
       "grid_auto_columns": null,
       "grid_auto_flow": null,
       "grid_auto_rows": null,
       "grid_column": null,
       "grid_gap": null,
       "grid_row": null,
       "grid_template_areas": null,
       "grid_template_columns": null,
       "grid_template_rows": null,
       "height": null,
       "justify_content": null,
       "justify_items": null,
       "left": null,
       "margin": null,
       "max_height": null,
       "max_width": null,
       "min_height": null,
       "min_width": null,
       "object_fit": null,
       "object_position": null,
       "order": null,
       "overflow": null,
       "overflow_x": null,
       "overflow_y": null,
       "padding": null,
       "right": null,
       "top": null,
       "visibility": null,
       "width": null
      }
     },
     "08439e9c96094c32918d11023f5baf95": {
      "model_module": "@jupyter-widgets/base",
      "model_module_version": "1.2.0",
      "model_name": "LayoutModel",
      "state": {
       "_model_module": "@jupyter-widgets/base",
       "_model_module_version": "1.2.0",
       "_model_name": "LayoutModel",
       "_view_count": null,
       "_view_module": "@jupyter-widgets/base",
       "_view_module_version": "1.2.0",
       "_view_name": "LayoutView",
       "align_content": null,
       "align_items": null,
       "align_self": null,
       "border": null,
       "bottom": null,
       "display": null,
       "flex": null,
       "flex_flow": null,
       "grid_area": null,
       "grid_auto_columns": null,
       "grid_auto_flow": null,
       "grid_auto_rows": null,
       "grid_column": null,
       "grid_gap": null,
       "grid_row": null,
       "grid_template_areas": null,
       "grid_template_columns": null,
       "grid_template_rows": null,
       "height": null,
       "justify_content": null,
       "justify_items": null,
       "left": null,
       "margin": null,
       "max_height": null,
       "max_width": null,
       "min_height": null,
       "min_width": null,
       "object_fit": null,
       "object_position": null,
       "order": null,
       "overflow": null,
       "overflow_x": null,
       "overflow_y": null,
       "padding": null,
       "right": null,
       "top": null,
       "visibility": null,
       "width": null
      }
     },
     "08d761ed2ece424b9ddd727e213a91bc": {
      "model_module": "@jupyter-widgets/controls",
      "model_module_version": "1.5.0",
      "model_name": "HTMLModel",
      "state": {
       "_dom_classes": [],
       "_model_module": "@jupyter-widgets/controls",
       "_model_module_version": "1.5.0",
       "_model_name": "HTMLModel",
       "_view_count": null,
       "_view_module": "@jupyter-widgets/controls",
       "_view_module_version": "1.5.0",
       "_view_name": "HTMLView",
       "description": "",
       "description_tooltip": null,
       "layout": "IPY_MODEL_0a3112caa59647c39d4526c01ceb6cea",
       "placeholder": "​",
       "style": "IPY_MODEL_7259591b43a845218c4c1b869bb93287",
       "value": "added_tokens.json: 100%"
      }
     },
     "0989d829f46648039fb8e181ef5d70a2": {
      "model_module": "@jupyter-widgets/base",
      "model_module_version": "1.2.0",
      "model_name": "LayoutModel",
      "state": {
       "_model_module": "@jupyter-widgets/base",
       "_model_module_version": "1.2.0",
       "_model_name": "LayoutModel",
       "_view_count": null,
       "_view_module": "@jupyter-widgets/base",
       "_view_module_version": "1.2.0",
       "_view_name": "LayoutView",
       "align_content": null,
       "align_items": null,
       "align_self": null,
       "border": null,
       "bottom": null,
       "display": null,
       "flex": null,
       "flex_flow": null,
       "grid_area": null,
       "grid_auto_columns": null,
       "grid_auto_flow": null,
       "grid_auto_rows": null,
       "grid_column": null,
       "grid_gap": null,
       "grid_row": null,
       "grid_template_areas": null,
       "grid_template_columns": null,
       "grid_template_rows": null,
       "height": null,
       "justify_content": null,
       "justify_items": null,
       "left": null,
       "margin": null,
       "max_height": null,
       "max_width": null,
       "min_height": null,
       "min_width": null,
       "object_fit": null,
       "object_position": null,
       "order": null,
       "overflow": null,
       "overflow_x": null,
       "overflow_y": null,
       "padding": null,
       "right": null,
       "top": null,
       "visibility": null,
       "width": null
      }
     },
     "0a3112caa59647c39d4526c01ceb6cea": {
      "model_module": "@jupyter-widgets/base",
      "model_module_version": "1.2.0",
      "model_name": "LayoutModel",
      "state": {
       "_model_module": "@jupyter-widgets/base",
       "_model_module_version": "1.2.0",
       "_model_name": "LayoutModel",
       "_view_count": null,
       "_view_module": "@jupyter-widgets/base",
       "_view_module_version": "1.2.0",
       "_view_name": "LayoutView",
       "align_content": null,
       "align_items": null,
       "align_self": null,
       "border": null,
       "bottom": null,
       "display": null,
       "flex": null,
       "flex_flow": null,
       "grid_area": null,
       "grid_auto_columns": null,
       "grid_auto_flow": null,
       "grid_auto_rows": null,
       "grid_column": null,
       "grid_gap": null,
       "grid_row": null,
       "grid_template_areas": null,
       "grid_template_columns": null,
       "grid_template_rows": null,
       "height": null,
       "justify_content": null,
       "justify_items": null,
       "left": null,
       "margin": null,
       "max_height": null,
       "max_width": null,
       "min_height": null,
       "min_width": null,
       "object_fit": null,
       "object_position": null,
       "order": null,
       "overflow": null,
       "overflow_x": null,
       "overflow_y": null,
       "padding": null,
       "right": null,
       "top": null,
       "visibility": null,
       "width": null
      }
     },
     "0bbe9439daea4d029bb073508b28382c": {
      "model_module": "@jupyter-widgets/base",
      "model_module_version": "1.2.0",
      "model_name": "LayoutModel",
      "state": {
       "_model_module": "@jupyter-widgets/base",
       "_model_module_version": "1.2.0",
       "_model_name": "LayoutModel",
       "_view_count": null,
       "_view_module": "@jupyter-widgets/base",
       "_view_module_version": "1.2.0",
       "_view_name": "LayoutView",
       "align_content": null,
       "align_items": null,
       "align_self": null,
       "border": null,
       "bottom": null,
       "display": null,
       "flex": null,
       "flex_flow": null,
       "grid_area": null,
       "grid_auto_columns": null,
       "grid_auto_flow": null,
       "grid_auto_rows": null,
       "grid_column": null,
       "grid_gap": null,
       "grid_row": null,
       "grid_template_areas": null,
       "grid_template_columns": null,
       "grid_template_rows": null,
       "height": null,
       "justify_content": null,
       "justify_items": null,
       "left": null,
       "margin": null,
       "max_height": null,
       "max_width": null,
       "min_height": null,
       "min_width": null,
       "object_fit": null,
       "object_position": null,
       "order": null,
       "overflow": null,
       "overflow_x": null,
       "overflow_y": null,
       "padding": null,
       "right": null,
       "top": null,
       "visibility": null,
       "width": null
      }
     },
     "0ea9623724704a268d1a8fb8f626882c": {
      "model_module": "@jupyter-widgets/controls",
      "model_module_version": "1.5.0",
      "model_name": "DescriptionStyleModel",
      "state": {
       "_model_module": "@jupyter-widgets/controls",
       "_model_module_version": "1.5.0",
       "_model_name": "DescriptionStyleModel",
       "_view_count": null,
       "_view_module": "@jupyter-widgets/base",
       "_view_module_version": "1.2.0",
       "_view_name": "StyleView",
       "description_width": ""
      }
     },
     "130a2762abe947c5b4c2aee693fd6a4b": {
      "model_module": "@jupyter-widgets/controls",
      "model_module_version": "1.5.0",
      "model_name": "ProgressStyleModel",
      "state": {
       "_model_module": "@jupyter-widgets/controls",
       "_model_module_version": "1.5.0",
       "_model_name": "ProgressStyleModel",
       "_view_count": null,
       "_view_module": "@jupyter-widgets/base",
       "_view_module_version": "1.2.0",
       "_view_name": "StyleView",
       "bar_color": null,
       "description_width": ""
      }
     },
     "16377ef09aa347ee8f7d114febfbd403": {
      "model_module": "@jupyter-widgets/controls",
      "model_module_version": "1.5.0",
      "model_name": "HTMLModel",
      "state": {
       "_dom_classes": [],
       "_model_module": "@jupyter-widgets/controls",
       "_model_module_version": "1.5.0",
       "_model_name": "HTMLModel",
       "_view_count": null,
       "_view_module": "@jupyter-widgets/controls",
       "_view_module_version": "1.5.0",
       "_view_name": "HTMLView",
       "description": "",
       "description_tooltip": null,
       "layout": "IPY_MODEL_daea253c13f64ee9aa8c7adc1763efa8",
       "placeholder": "​",
       "style": "IPY_MODEL_463f7ddde3db440ab2ea696fc3b99e72",
       "value": "tokenizer.json: 100%"
      }
     },
     "172dbd4261c64a3b8ab42676ce439923": {
      "model_module": "@jupyter-widgets/controls",
      "model_module_version": "1.5.0",
      "model_name": "FloatProgressModel",
      "state": {
       "_dom_classes": [],
       "_model_module": "@jupyter-widgets/controls",
       "_model_module_version": "1.5.0",
       "_model_name": "FloatProgressModel",
       "_view_count": null,
       "_view_module": "@jupyter-widgets/controls",
       "_view_module_version": "1.5.0",
       "_view_name": "ProgressView",
       "bar_style": "success",
       "description": "",
       "description_tooltip": null,
       "layout": "IPY_MODEL_77137868ff484437b9e6d996203fee92",
       "max": 2194.0,
       "min": 0.0,
       "orientation": "horizontal",
       "style": "IPY_MODEL_4beefa67475c41f9b4b32b7dec9854bc",
       "value": 2194.0
      }
     },
     "1831f7b1bf624d5681d83906717e9696": {
      "model_module": "@jupyter-widgets/controls",
      "model_module_version": "1.5.0",
      "model_name": "HTMLModel",
      "state": {
       "_dom_classes": [],
       "_model_module": "@jupyter-widgets/controls",
       "_model_module_version": "1.5.0",
       "_model_name": "HTMLModel",
       "_view_count": null,
       "_view_module": "@jupyter-widgets/controls",
       "_view_module_version": "1.5.0",
       "_view_name": "HTMLView",
       "description": "",
       "description_tooltip": null,
       "layout": "IPY_MODEL_030e807c56554bc5a6d24222c739f2fe",
       "placeholder": "​",
       "style": "IPY_MODEL_59eb0348a2424329a62b3bac69616b68",
       "value": " 836k/836k [00:00&lt;00:00, 2.09MB/s]"
      }
     },
     "2c2cc16b2ab44591880b771df64f8aca": {
      "model_module": "@jupyter-widgets/controls",
      "model_module_version": "1.5.0",
      "model_name": "DescriptionStyleModel",
      "state": {
       "_model_module": "@jupyter-widgets/controls",
       "_model_module_version": "1.5.0",
       "_model_name": "DescriptionStyleModel",
       "_view_count": null,
       "_view_module": "@jupyter-widgets/base",
       "_view_module_version": "1.2.0",
       "_view_name": "StyleView",
       "description_width": ""
      }
     },
     "2fa97d573e2149928b0f9cf65c4fa7f9": {
      "model_module": "@jupyter-widgets/controls",
      "model_module_version": "1.5.0",
      "model_name": "DescriptionStyleModel",
      "state": {
       "_model_module": "@jupyter-widgets/controls",
       "_model_module_version": "1.5.0",
       "_model_name": "DescriptionStyleModel",
       "_view_count": null,
       "_view_module": "@jupyter-widgets/base",
       "_view_module_version": "1.2.0",
       "_view_name": "StyleView",
       "description_width": ""
      }
     },
     "31906d77d5df4b9698db93e10a4a4ebe": {
      "model_module": "@jupyter-widgets/base",
      "model_module_version": "1.2.0",
      "model_name": "LayoutModel",
      "state": {
       "_model_module": "@jupyter-widgets/base",
       "_model_module_version": "1.2.0",
       "_model_name": "LayoutModel",
       "_view_count": null,
       "_view_module": "@jupyter-widgets/base",
       "_view_module_version": "1.2.0",
       "_view_name": "LayoutView",
       "align_content": null,
       "align_items": null,
       "align_self": null,
       "border": null,
       "bottom": null,
       "display": null,
       "flex": null,
       "flex_flow": null,
       "grid_area": null,
       "grid_auto_columns": null,
       "grid_auto_flow": null,
       "grid_auto_rows": null,
       "grid_column": null,
       "grid_gap": null,
       "grid_row": null,
       "grid_template_areas": null,
       "grid_template_columns": null,
       "grid_template_rows": null,
       "height": null,
       "justify_content": null,
       "justify_items": null,
       "left": null,
       "margin": null,
       "max_height": null,
       "max_width": null,
       "min_height": null,
       "min_width": null,
       "object_fit": null,
       "object_position": null,
       "order": null,
       "overflow": null,
       "overflow_x": null,
       "overflow_y": null,
       "padding": null,
       "right": null,
       "top": null,
       "visibility": null,
       "width": null
      }
     },
     "31c618db0e584373bf017e246bccda73": {
      "model_module": "@jupyter-widgets/base",
      "model_module_version": "1.2.0",
      "model_name": "LayoutModel",
      "state": {
       "_model_module": "@jupyter-widgets/base",
       "_model_module_version": "1.2.0",
       "_model_name": "LayoutModel",
       "_view_count": null,
       "_view_module": "@jupyter-widgets/base",
       "_view_module_version": "1.2.0",
       "_view_name": "LayoutView",
       "align_content": null,
       "align_items": null,
       "align_self": null,
       "border": null,
       "bottom": null,
       "display": null,
       "flex": null,
       "flex_flow": null,
       "grid_area": null,
       "grid_auto_columns": null,
       "grid_auto_flow": null,
       "grid_auto_rows": null,
       "grid_column": null,
       "grid_gap": null,
       "grid_row": null,
       "grid_template_areas": null,
       "grid_template_columns": null,
       "grid_template_rows": null,
       "height": null,
       "justify_content": null,
       "justify_items": null,
       "left": null,
       "margin": null,
       "max_height": null,
       "max_width": null,
       "min_height": null,
       "min_width": null,
       "object_fit": null,
       "object_position": null,
       "order": null,
       "overflow": null,
       "overflow_x": null,
       "overflow_y": null,
       "padding": null,
       "right": null,
       "top": null,
       "visibility": null,
       "width": null
      }
     },
     "32aa9573490c4395ac8a4a43df9d372c": {
      "model_module": "@jupyter-widgets/base",
      "model_module_version": "1.2.0",
      "model_name": "LayoutModel",
      "state": {
       "_model_module": "@jupyter-widgets/base",
       "_model_module_version": "1.2.0",
       "_model_name": "LayoutModel",
       "_view_count": null,
       "_view_module": "@jupyter-widgets/base",
       "_view_module_version": "1.2.0",
       "_view_name": "LayoutView",
       "align_content": null,
       "align_items": null,
       "align_self": null,
       "border": null,
       "bottom": null,
       "display": null,
       "flex": null,
       "flex_flow": null,
       "grid_area": null,
       "grid_auto_columns": null,
       "grid_auto_flow": null,
       "grid_auto_rows": null,
       "grid_column": null,
       "grid_gap": null,
       "grid_row": null,
       "grid_template_areas": null,
       "grid_template_columns": null,
       "grid_template_rows": null,
       "height": null,
       "justify_content": null,
       "justify_items": null,
       "left": null,
       "margin": null,
       "max_height": null,
       "max_width": null,
       "min_height": null,
       "min_width": null,
       "object_fit": null,
       "object_position": null,
       "order": null,
       "overflow": null,
       "overflow_x": null,
       "overflow_y": null,
       "padding": null,
       "right": null,
       "top": null,
       "visibility": null,
       "width": null
      }
     },
     "37198df6fea84b9dba7d31a254de26af": {
      "model_module": "@jupyter-widgets/controls",
      "model_module_version": "1.5.0",
      "model_name": "HBoxModel",
      "state": {
       "_dom_classes": [],
       "_model_module": "@jupyter-widgets/controls",
       "_model_module_version": "1.5.0",
       "_model_name": "HBoxModel",
       "_view_count": null,
       "_view_module": "@jupyter-widgets/controls",
       "_view_module_version": "1.5.0",
       "_view_name": "HBoxView",
       "box_style": "",
       "children": [
        "IPY_MODEL_d49ec0a7f0bb460895b8570521c08aca",
        "IPY_MODEL_ad5ce2a671a44bce9862893c61056525",
        "IPY_MODEL_388dcbdab86045fc84d422cb0775da58"
       ],
       "layout": "IPY_MODEL_08439e9c96094c32918d11023f5baf95"
      }
     },
     "3842ae4eef424ab193fe23465097bb3e": {
      "model_module": "@jupyter-widgets/controls",
      "model_module_version": "1.5.0",
      "model_name": "FloatProgressModel",
      "state": {
       "_dom_classes": [],
       "_model_module": "@jupyter-widgets/controls",
       "_model_module_version": "1.5.0",
       "_model_name": "FloatProgressModel",
       "_view_count": null,
       "_view_module": "@jupyter-widgets/controls",
       "_view_module_version": "1.5.0",
       "_view_name": "ProgressView",
       "bar_style": "success",
       "description": "",
       "description_tooltip": null,
       "layout": "IPY_MODEL_8ee41478054b4929bf0ba9e3c29c5a2a",
       "max": 52666.0,
       "min": 0.0,
       "orientation": "horizontal",
       "style": "IPY_MODEL_a83e83798cfe45a2af81909e0b0591a2",
       "value": 52666.0
      }
     },
     "388dcbdab86045fc84d422cb0775da58": {
      "model_module": "@jupyter-widgets/controls",
      "model_module_version": "1.5.0",
      "model_name": "HTMLModel",
      "state": {
       "_dom_classes": [],
       "_model_module": "@jupyter-widgets/controls",
       "_model_module_version": "1.5.0",
       "_model_name": "HTMLModel",
       "_view_count": null,
       "_view_module": "@jupyter-widgets/controls",
       "_view_module_version": "1.5.0",
       "_view_name": "HTMLView",
       "description": "",
       "description_tooltip": null,
       "layout": "IPY_MODEL_39ad97e5efd543df87b5a44586cfaa85",
       "placeholder": "​",
       "style": "IPY_MODEL_4cd6a0a03cbd48d9a3cab1d25eb47905",
       "value": " 967M/967M [00:46&lt;00:00, 15.4MB/s]"
      }
     },
     "38c9ff892245456a93b4d9835c75644a": {
      "model_module": "@jupyter-widgets/controls",
      "model_module_version": "1.5.0",
      "model_name": "HTMLModel",
      "state": {
       "_dom_classes": [],
       "_model_module": "@jupyter-widgets/controls",
       "_model_module_version": "1.5.0",
       "_model_name": "HTMLModel",
       "_view_count": null,
       "_view_module": "@jupyter-widgets/controls",
       "_view_module_version": "1.5.0",
       "_view_name": "HTMLView",
       "description": "",
       "description_tooltip": null,
       "layout": "IPY_MODEL_abd81d8f13a944d5a7aed9e70b19a07c",
       "placeholder": "​",
       "style": "IPY_MODEL_a8b0a1b2ca2943c9bbcd5c6bd62f08a0",
       "value": "special_tokens_map.json: 100%"
      }
     },
     "39ad97e5efd543df87b5a44586cfaa85": {
      "model_module": "@jupyter-widgets/base",
      "model_module_version": "1.2.0",
      "model_name": "LayoutModel",
      "state": {
       "_model_module": "@jupyter-widgets/base",
       "_model_module_version": "1.2.0",
       "_model_name": "LayoutModel",
       "_view_count": null,
       "_view_module": "@jupyter-widgets/base",
       "_view_module_version": "1.2.0",
       "_view_name": "LayoutView",
       "align_content": null,
       "align_items": null,
       "align_self": null,
       "border": null,
       "bottom": null,
       "display": null,
       "flex": null,
       "flex_flow": null,
       "grid_area": null,
       "grid_auto_columns": null,
       "grid_auto_flow": null,
       "grid_auto_rows": null,
       "grid_column": null,
       "grid_gap": null,
       "grid_row": null,
       "grid_template_areas": null,
       "grid_template_columns": null,
       "grid_template_rows": null,
       "height": null,
       "justify_content": null,
       "justify_items": null,
       "left": null,
       "margin": null,
       "max_height": null,
       "max_width": null,
       "min_height": null,
       "min_width": null,
       "object_fit": null,
       "object_position": null,
       "order": null,
       "overflow": null,
       "overflow_x": null,
       "overflow_y": null,
       "padding": null,
       "right": null,
       "top": null,
       "visibility": null,
       "width": null
      }
     },
     "39ec876c87f9484880b6353d4790da25": {
      "model_module": "@jupyter-widgets/base",
      "model_module_version": "1.2.0",
      "model_name": "LayoutModel",
      "state": {
       "_model_module": "@jupyter-widgets/base",
       "_model_module_version": "1.2.0",
       "_model_name": "LayoutModel",
       "_view_count": null,
       "_view_module": "@jupyter-widgets/base",
       "_view_module_version": "1.2.0",
       "_view_name": "LayoutView",
       "align_content": null,
       "align_items": null,
       "align_self": null,
       "border": null,
       "bottom": null,
       "display": null,
       "flex": null,
       "flex_flow": null,
       "grid_area": null,
       "grid_auto_columns": null,
       "grid_auto_flow": null,
       "grid_auto_rows": null,
       "grid_column": null,
       "grid_gap": null,
       "grid_row": null,
       "grid_template_areas": null,
       "grid_template_columns": null,
       "grid_template_rows": null,
       "height": null,
       "justify_content": null,
       "justify_items": null,
       "left": null,
       "margin": null,
       "max_height": null,
       "max_width": null,
       "min_height": null,
       "min_width": null,
       "object_fit": null,
       "object_position": null,
       "order": null,
       "overflow": null,
       "overflow_x": null,
       "overflow_y": null,
       "padding": null,
       "right": null,
       "top": null,
       "visibility": null,
       "width": null
      }
     },
     "3a2b13d334864fc99d9702a0a7f74b5f": {
      "model_module": "@jupyter-widgets/controls",
      "model_module_version": "1.5.0",
      "model_name": "HTMLModel",
      "state": {
       "_dom_classes": [],
       "_model_module": "@jupyter-widgets/controls",
       "_model_module_version": "1.5.0",
       "_model_name": "HTMLModel",
       "_view_count": null,
       "_view_module": "@jupyter-widgets/controls",
       "_view_module_version": "1.5.0",
       "_view_name": "HTMLView",
       "description": "",
       "description_tooltip": null,
       "layout": "IPY_MODEL_0989d829f46648039fb8e181ef5d70a2",
       "placeholder": "​",
       "style": "IPY_MODEL_4fb81abfd47e4912b101aae711508502",
       "value": "generation_config.json: 100%"
      }
     },
     "416f673d2aea476b959c713d19db2b55": {
      "model_module": "@jupyter-widgets/base",
      "model_module_version": "1.2.0",
      "model_name": "LayoutModel",
      "state": {
       "_model_module": "@jupyter-widgets/base",
       "_model_module_version": "1.2.0",
       "_model_name": "LayoutModel",
       "_view_count": null,
       "_view_module": "@jupyter-widgets/base",
       "_view_module_version": "1.2.0",
       "_view_name": "LayoutView",
       "align_content": null,
       "align_items": null,
       "align_self": null,
       "border": null,
       "bottom": null,
       "display": null,
       "flex": null,
       "flex_flow": null,
       "grid_area": null,
       "grid_auto_columns": null,
       "grid_auto_flow": null,
       "grid_auto_rows": null,
       "grid_column": null,
       "grid_gap": null,
       "grid_row": null,
       "grid_template_areas": null,
       "grid_template_columns": null,
       "grid_template_rows": null,
       "height": null,
       "justify_content": null,
       "justify_items": null,
       "left": null,
       "margin": null,
       "max_height": null,
       "max_width": null,
       "min_height": null,
       "min_width": null,
       "object_fit": null,
       "object_position": null,
       "order": null,
       "overflow": null,
       "overflow_x": null,
       "overflow_y": null,
       "padding": null,
       "right": null,
       "top": null,
       "visibility": null,
       "width": null
      }
     },
     "463f7ddde3db440ab2ea696fc3b99e72": {
      "model_module": "@jupyter-widgets/controls",
      "model_module_version": "1.5.0",
      "model_name": "DescriptionStyleModel",
      "state": {
       "_model_module": "@jupyter-widgets/controls",
       "_model_module_version": "1.5.0",
       "_model_name": "DescriptionStyleModel",
       "_view_count": null,
       "_view_module": "@jupyter-widgets/base",
       "_view_module_version": "1.2.0",
       "_view_name": "StyleView",
       "description_width": ""
      }
     },
     "46940a36771e408ab3cab718fce05114": {
      "model_module": "@jupyter-widgets/controls",
      "model_module_version": "1.5.0",
      "model_name": "FloatProgressModel",
      "state": {
       "_dom_classes": [],
       "_model_module": "@jupyter-widgets/controls",
       "_model_module_version": "1.5.0",
       "_model_name": "FloatProgressModel",
       "_view_count": null,
       "_view_module": "@jupyter-widgets/controls",
       "_view_module_version": "1.5.0",
       "_view_name": "ProgressView",
       "bar_style": "success",
       "description": "",
       "description_tooltip": null,
       "layout": "IPY_MODEL_e2c88da19e1b4e99962a2235f81f6187",
       "max": 493869.0,
       "min": 0.0,
       "orientation": "horizontal",
       "style": "IPY_MODEL_d1318795208a42ad80ca2db1678e5369",
       "value": 493869.0
      }
     },
     "472a724db8f64325996dcfe0908e0a3f": {
      "model_module": "@jupyter-widgets/controls",
      "model_module_version": "1.5.0",
      "model_name": "DescriptionStyleModel",
      "state": {
       "_model_module": "@jupyter-widgets/controls",
       "_model_module_version": "1.5.0",
       "_model_name": "DescriptionStyleModel",
       "_view_count": null,
       "_view_module": "@jupyter-widgets/base",
       "_view_module_version": "1.2.0",
       "_view_name": "StyleView",
       "description_width": ""
      }
     },
     "4beefa67475c41f9b4b32b7dec9854bc": {
      "model_module": "@jupyter-widgets/controls",
      "model_module_version": "1.5.0",
      "model_name": "ProgressStyleModel",
      "state": {
       "_model_module": "@jupyter-widgets/controls",
       "_model_module_version": "1.5.0",
       "_model_name": "ProgressStyleModel",
       "_view_count": null,
       "_view_module": "@jupyter-widgets/base",
       "_view_module_version": "1.2.0",
       "_view_name": "StyleView",
       "bar_color": null,
       "description_width": ""
      }
     },
     "4cd6a0a03cbd48d9a3cab1d25eb47905": {
      "model_module": "@jupyter-widgets/controls",
      "model_module_version": "1.5.0",
      "model_name": "DescriptionStyleModel",
      "state": {
       "_model_module": "@jupyter-widgets/controls",
       "_model_module_version": "1.5.0",
       "_model_name": "DescriptionStyleModel",
       "_view_count": null,
       "_view_module": "@jupyter-widgets/base",
       "_view_module_version": "1.2.0",
       "_view_name": "StyleView",
       "description_width": ""
      }
     },
     "4e932ce2d8004117acab5b343e423791": {
      "model_module": "@jupyter-widgets/controls",
      "model_module_version": "1.5.0",
      "model_name": "HTMLModel",
      "state": {
       "_dom_classes": [],
       "_model_module": "@jupyter-widgets/controls",
       "_model_module_version": "1.5.0",
       "_model_name": "HTMLModel",
       "_view_count": null,
       "_view_module": "@jupyter-widgets/controls",
       "_view_module_version": "1.5.0",
       "_view_name": "HTMLView",
       "description": "",
       "description_tooltip": null,
       "layout": "IPY_MODEL_32aa9573490c4395ac8a4a43df9d372c",
       "placeholder": "​",
       "style": "IPY_MODEL_472a724db8f64325996dcfe0908e0a3f",
       "value": "vocab.json: 100%"
      }
     },
     "4fb81abfd47e4912b101aae711508502": {
      "model_module": "@jupyter-widgets/controls",
      "model_module_version": "1.5.0",
      "model_name": "DescriptionStyleModel",
      "state": {
       "_model_module": "@jupyter-widgets/controls",
       "_model_module_version": "1.5.0",
       "_model_name": "DescriptionStyleModel",
       "_view_count": null,
       "_view_module": "@jupyter-widgets/base",
       "_view_module_version": "1.2.0",
       "_view_name": "StyleView",
       "description_width": ""
      }
     },
     "54d27c35b31d425ba3f9de2062c3546d": {
      "model_module": "@jupyter-widgets/controls",
      "model_module_version": "1.5.0",
      "model_name": "HBoxModel",
      "state": {
       "_dom_classes": [],
       "_model_module": "@jupyter-widgets/controls",
       "_model_module_version": "1.5.0",
       "_model_name": "HBoxModel",
       "_view_count": null,
       "_view_module": "@jupyter-widgets/controls",
       "_view_module_version": "1.5.0",
       "_view_name": "HBoxView",
       "box_style": "",
       "children": [
        "IPY_MODEL_ec4bc8d244c84a1582bcc396021d890e",
        "IPY_MODEL_dc07411e0759486f81c160c78f475e6f",
        "IPY_MODEL_00afc91464844bb28c65589bb92dd0fe"
       ],
       "layout": "IPY_MODEL_697318c411a54e17a12899092b2c9016"
      }
     },
     "59eb0348a2424329a62b3bac69616b68": {
      "model_module": "@jupyter-widgets/controls",
      "model_module_version": "1.5.0",
      "model_name": "DescriptionStyleModel",
      "state": {
       "_model_module": "@jupyter-widgets/controls",
       "_model_module_version": "1.5.0",
       "_model_name": "DescriptionStyleModel",
       "_view_count": null,
       "_view_module": "@jupyter-widgets/base",
       "_view_module_version": "1.2.0",
       "_view_name": "StyleView",
       "description_width": ""
      }
     },
     "5a332f1616c944c5a008add28b2eb936": {
      "model_module": "@jupyter-widgets/base",
      "model_module_version": "1.2.0",
      "model_name": "LayoutModel",
      "state": {
       "_model_module": "@jupyter-widgets/base",
       "_model_module_version": "1.2.0",
       "_model_name": "LayoutModel",
       "_view_count": null,
       "_view_module": "@jupyter-widgets/base",
       "_view_module_version": "1.2.0",
       "_view_name": "LayoutView",
       "align_content": null,
       "align_items": null,
       "align_self": null,
       "border": null,
       "bottom": null,
       "display": null,
       "flex": null,
       "flex_flow": null,
       "grid_area": null,
       "grid_auto_columns": null,
       "grid_auto_flow": null,
       "grid_auto_rows": null,
       "grid_column": null,
       "grid_gap": null,
       "grid_row": null,
       "grid_template_areas": null,
       "grid_template_columns": null,
       "grid_template_rows": null,
       "height": null,
       "justify_content": null,
       "justify_items": null,
       "left": null,
       "margin": null,
       "max_height": null,
       "max_width": null,
       "min_height": null,
       "min_width": null,
       "object_fit": null,
       "object_position": null,
       "order": null,
       "overflow": null,
       "overflow_x": null,
       "overflow_y": null,
       "padding": null,
       "right": null,
       "top": null,
       "visibility": null,
       "width": null
      }
     },
     "5dee347ed1744accbc0c72052bc805e4": {
      "model_module": "@jupyter-widgets/base",
      "model_module_version": "1.2.0",
      "model_name": "LayoutModel",
      "state": {
       "_model_module": "@jupyter-widgets/base",
       "_model_module_version": "1.2.0",
       "_model_name": "LayoutModel",
       "_view_count": null,
       "_view_module": "@jupyter-widgets/base",
       "_view_module_version": "1.2.0",
       "_view_name": "LayoutView",
       "align_content": null,
       "align_items": null,
       "align_self": null,
       "border": null,
       "bottom": null,
       "display": null,
       "flex": null,
       "flex_flow": null,
       "grid_area": null,
       "grid_auto_columns": null,
       "grid_auto_flow": null,
       "grid_auto_rows": null,
       "grid_column": null,
       "grid_gap": null,
       "grid_row": null,
       "grid_template_areas": null,
       "grid_template_columns": null,
       "grid_template_rows": null,
       "height": null,
       "justify_content": null,
       "justify_items": null,
       "left": null,
       "margin": null,
       "max_height": null,
       "max_width": null,
       "min_height": null,
       "min_width": null,
       "object_fit": null,
       "object_position": null,
       "order": null,
       "overflow": null,
       "overflow_x": null,
       "overflow_y": null,
       "padding": null,
       "right": null,
       "top": null,
       "visibility": null,
       "width": null
      }
     },
     "62d4deaa6b8e47988a57ccbfb3cfb0ec": {
      "model_module": "@jupyter-widgets/controls",
      "model_module_version": "1.5.0",
      "model_name": "HBoxModel",
      "state": {
       "_dom_classes": [],
       "_model_module": "@jupyter-widgets/controls",
       "_model_module_version": "1.5.0",
       "_model_name": "HBoxModel",
       "_view_count": null,
       "_view_module": "@jupyter-widgets/controls",
       "_view_module_version": "1.5.0",
       "_view_name": "HBoxView",
       "box_style": "",
       "children": [
        "IPY_MODEL_16377ef09aa347ee8f7d114febfbd403",
        "IPY_MODEL_b6574aed53d84f6bb9cea4c7f3371876",
        "IPY_MODEL_dfba2e3b6e7b4bdb88d1e1d052f73f90"
       ],
       "layout": "IPY_MODEL_bc2a56292c024ac49a05add75e908c16"
      }
     },
     "669cd6a3871047efba930cca87beaf4c": {
      "model_module": "@jupyter-widgets/controls",
      "model_module_version": "1.5.0",
      "model_name": "HBoxModel",
      "state": {
       "_dom_classes": [],
       "_model_module": "@jupyter-widgets/controls",
       "_model_module_version": "1.5.0",
       "_model_name": "HBoxModel",
       "_view_count": null,
       "_view_module": "@jupyter-widgets/controls",
       "_view_module_version": "1.5.0",
       "_view_name": "HBoxView",
       "box_style": "",
       "children": [
        "IPY_MODEL_f9d2fc6cf25c4c6fba38327925690074",
        "IPY_MODEL_b510d667df014d1ba92203ca4f4af79d",
        "IPY_MODEL_be9ee9f7f24a448fa05736b6af542afe"
       ],
       "layout": "IPY_MODEL_ac50a4f73373467487135234143219bd"
      }
     },
     "66c8392e02814e61b68a01df351518cc": {
      "model_module": "@jupyter-widgets/controls",
      "model_module_version": "1.5.0",
      "model_name": "ProgressStyleModel",
      "state": {
       "_model_module": "@jupyter-widgets/controls",
       "_model_module_version": "1.5.0",
       "_model_name": "ProgressStyleModel",
       "_view_count": null,
       "_view_module": "@jupyter-widgets/base",
       "_view_module_version": "1.2.0",
       "_view_name": "StyleView",
       "bar_color": null,
       "description_width": ""
      }
     },
     "66f3bf8984254cfc86245ac87630663f": {
      "model_module": "@jupyter-widgets/base",
      "model_module_version": "1.2.0",
      "model_name": "LayoutModel",
      "state": {
       "_model_module": "@jupyter-widgets/base",
       "_model_module_version": "1.2.0",
       "_model_name": "LayoutModel",
       "_view_count": null,
       "_view_module": "@jupyter-widgets/base",
       "_view_module_version": "1.2.0",
       "_view_name": "LayoutView",
       "align_content": null,
       "align_items": null,
       "align_self": null,
       "border": null,
       "bottom": null,
       "display": null,
       "flex": null,
       "flex_flow": null,
       "grid_area": null,
       "grid_auto_columns": null,
       "grid_auto_flow": null,
       "grid_auto_rows": null,
       "grid_column": null,
       "grid_gap": null,
       "grid_row": null,
       "grid_template_areas": null,
       "grid_template_columns": null,
       "grid_template_rows": null,
       "height": null,
       "justify_content": null,
       "justify_items": null,
       "left": null,
       "margin": null,
       "max_height": null,
       "max_width": null,
       "min_height": null,
       "min_width": null,
       "object_fit": null,
       "object_position": null,
       "order": null,
       "overflow": null,
       "overflow_x": null,
       "overflow_y": null,
       "padding": null,
       "right": null,
       "top": null,
       "visibility": null,
       "width": null
      }
     },
     "697318c411a54e17a12899092b2c9016": {
      "model_module": "@jupyter-widgets/base",
      "model_module_version": "1.2.0",
      "model_name": "LayoutModel",
      "state": {
       "_model_module": "@jupyter-widgets/base",
       "_model_module_version": "1.2.0",
       "_model_name": "LayoutModel",
       "_view_count": null,
       "_view_module": "@jupyter-widgets/base",
       "_view_module_version": "1.2.0",
       "_view_name": "LayoutView",
       "align_content": null,
       "align_items": null,
       "align_self": null,
       "border": null,
       "bottom": null,
       "display": null,
       "flex": null,
       "flex_flow": null,
       "grid_area": null,
       "grid_auto_columns": null,
       "grid_auto_flow": null,
       "grid_auto_rows": null,
       "grid_column": null,
       "grid_gap": null,
       "grid_row": null,
       "grid_template_areas": null,
       "grid_template_columns": null,
       "grid_template_rows": null,
       "height": null,
       "justify_content": null,
       "justify_items": null,
       "left": null,
       "margin": null,
       "max_height": null,
       "max_width": null,
       "min_height": null,
       "min_width": null,
       "object_fit": null,
       "object_position": null,
       "order": null,
       "overflow": null,
       "overflow_x": null,
       "overflow_y": null,
       "padding": null,
       "right": null,
       "top": null,
       "visibility": null,
       "width": null
      }
     },
     "6993ebc8a29c4c1ca2047fdbc044d850": {
      "model_module": "@jupyter-widgets/base",
      "model_module_version": "1.2.0",
      "model_name": "LayoutModel",
      "state": {
       "_model_module": "@jupyter-widgets/base",
       "_model_module_version": "1.2.0",
       "_model_name": "LayoutModel",
       "_view_count": null,
       "_view_module": "@jupyter-widgets/base",
       "_view_module_version": "1.2.0",
       "_view_name": "LayoutView",
       "align_content": null,
       "align_items": null,
       "align_self": null,
       "border": null,
       "bottom": null,
       "display": null,
       "flex": null,
       "flex_flow": null,
       "grid_area": null,
       "grid_auto_columns": null,
       "grid_auto_flow": null,
       "grid_auto_rows": null,
       "grid_column": null,
       "grid_gap": null,
       "grid_row": null,
       "grid_template_areas": null,
       "grid_template_columns": null,
       "grid_template_rows": null,
       "height": null,
       "justify_content": null,
       "justify_items": null,
       "left": null,
       "margin": null,
       "max_height": null,
       "max_width": null,
       "min_height": null,
       "min_width": null,
       "object_fit": null,
       "object_position": null,
       "order": null,
       "overflow": null,
       "overflow_x": null,
       "overflow_y": null,
       "padding": null,
       "right": null,
       "top": null,
       "visibility": null,
       "width": null
      }
     },
     "6bbc9d0cc4d24821b053300d9ec4c136": {
      "model_module": "@jupyter-widgets/base",
      "model_module_version": "1.2.0",
      "model_name": "LayoutModel",
      "state": {
       "_model_module": "@jupyter-widgets/base",
       "_model_module_version": "1.2.0",
       "_model_name": "LayoutModel",
       "_view_count": null,
       "_view_module": "@jupyter-widgets/base",
       "_view_module_version": "1.2.0",
       "_view_name": "LayoutView",
       "align_content": null,
       "align_items": null,
       "align_self": null,
       "border": null,
       "bottom": null,
       "display": null,
       "flex": null,
       "flex_flow": null,
       "grid_area": null,
       "grid_auto_columns": null,
       "grid_auto_flow": null,
       "grid_auto_rows": null,
       "grid_column": null,
       "grid_gap": null,
       "grid_row": null,
       "grid_template_areas": null,
       "grid_template_columns": null,
       "grid_template_rows": null,
       "height": null,
       "justify_content": null,
       "justify_items": null,
       "left": null,
       "margin": null,
       "max_height": null,
       "max_width": null,
       "min_height": null,
       "min_width": null,
       "object_fit": null,
       "object_position": null,
       "order": null,
       "overflow": null,
       "overflow_x": null,
       "overflow_y": null,
       "padding": null,
       "right": null,
       "top": null,
       "visibility": null,
       "width": null
      }
     },
     "6d8e4c9c632d4307858415cd449d2140": {
      "model_module": "@jupyter-widgets/base",
      "model_module_version": "1.2.0",
      "model_name": "LayoutModel",
      "state": {
       "_model_module": "@jupyter-widgets/base",
       "_model_module_version": "1.2.0",
       "_model_name": "LayoutModel",
       "_view_count": null,
       "_view_module": "@jupyter-widgets/base",
       "_view_module_version": "1.2.0",
       "_view_name": "LayoutView",
       "align_content": null,
       "align_items": null,
       "align_self": null,
       "border": null,
       "bottom": null,
       "display": null,
       "flex": null,
       "flex_flow": null,
       "grid_area": null,
       "grid_auto_columns": null,
       "grid_auto_flow": null,
       "grid_auto_rows": null,
       "grid_column": null,
       "grid_gap": null,
       "grid_row": null,
       "grid_template_areas": null,
       "grid_template_columns": null,
       "grid_template_rows": null,
       "height": null,
       "justify_content": null,
       "justify_items": null,
       "left": null,
       "margin": null,
       "max_height": null,
       "max_width": null,
       "min_height": null,
       "min_width": null,
       "object_fit": null,
       "object_position": null,
       "order": null,
       "overflow": null,
       "overflow_x": null,
       "overflow_y": null,
       "padding": null,
       "right": null,
       "top": null,
       "visibility": null,
       "width": null
      }
     },
     "6e9e3d2bf26f43e6a1f621ac34180d77": {
      "model_module": "@jupyter-widgets/controls",
      "model_module_version": "1.5.0",
      "model_name": "DescriptionStyleModel",
      "state": {
       "_model_module": "@jupyter-widgets/controls",
       "_model_module_version": "1.5.0",
       "_model_name": "DescriptionStyleModel",
       "_view_count": null,
       "_view_module": "@jupyter-widgets/base",
       "_view_module_version": "1.2.0",
       "_view_name": "StyleView",
       "description_width": ""
      }
     },
     "70ebe7cd55774e3bbe32e11911693f3c": {
      "model_module": "@jupyter-widgets/base",
      "model_module_version": "1.2.0",
      "model_name": "LayoutModel",
      "state": {
       "_model_module": "@jupyter-widgets/base",
       "_model_module_version": "1.2.0",
       "_model_name": "LayoutModel",
       "_view_count": null,
       "_view_module": "@jupyter-widgets/base",
       "_view_module_version": "1.2.0",
       "_view_name": "LayoutView",
       "align_content": null,
       "align_items": null,
       "align_self": null,
       "border": null,
       "bottom": null,
       "display": null,
       "flex": null,
       "flex_flow": null,
       "grid_area": null,
       "grid_auto_columns": null,
       "grid_auto_flow": null,
       "grid_auto_rows": null,
       "grid_column": null,
       "grid_gap": null,
       "grid_row": null,
       "grid_template_areas": null,
       "grid_template_columns": null,
       "grid_template_rows": null,
       "height": null,
       "justify_content": null,
       "justify_items": null,
       "left": null,
       "margin": null,
       "max_height": null,
       "max_width": null,
       "min_height": null,
       "min_width": null,
       "object_fit": null,
       "object_position": null,
       "order": null,
       "overflow": null,
       "overflow_x": null,
       "overflow_y": null,
       "padding": null,
       "right": null,
       "top": null,
       "visibility": null,
       "width": null
      }
     },
     "72260d26b0e747cfb3671790bcda6502": {
      "model_module": "@jupyter-widgets/base",
      "model_module_version": "1.2.0",
      "model_name": "LayoutModel",
      "state": {
       "_model_module": "@jupyter-widgets/base",
       "_model_module_version": "1.2.0",
       "_model_name": "LayoutModel",
       "_view_count": null,
       "_view_module": "@jupyter-widgets/base",
       "_view_module_version": "1.2.0",
       "_view_name": "LayoutView",
       "align_content": null,
       "align_items": null,
       "align_self": null,
       "border": null,
       "bottom": null,
       "display": null,
       "flex": null,
       "flex_flow": null,
       "grid_area": null,
       "grid_auto_columns": null,
       "grid_auto_flow": null,
       "grid_auto_rows": null,
       "grid_column": null,
       "grid_gap": null,
       "grid_row": null,
       "grid_template_areas": null,
       "grid_template_columns": null,
       "grid_template_rows": null,
       "height": null,
       "justify_content": null,
       "justify_items": null,
       "left": null,
       "margin": null,
       "max_height": null,
       "max_width": null,
       "min_height": null,
       "min_width": null,
       "object_fit": null,
       "object_position": null,
       "order": null,
       "overflow": null,
       "overflow_x": null,
       "overflow_y": null,
       "padding": null,
       "right": null,
       "top": null,
       "visibility": null,
       "width": null
      }
     },
     "7259591b43a845218c4c1b869bb93287": {
      "model_module": "@jupyter-widgets/controls",
      "model_module_version": "1.5.0",
      "model_name": "DescriptionStyleModel",
      "state": {
       "_model_module": "@jupyter-widgets/controls",
       "_model_module_version": "1.5.0",
       "_model_name": "DescriptionStyleModel",
       "_view_count": null,
       "_view_module": "@jupyter-widgets/base",
       "_view_module_version": "1.2.0",
       "_view_name": "StyleView",
       "description_width": ""
      }
     },
     "72a87e69984a42b4bd98f8ce75c86c64": {
      "model_module": "@jupyter-widgets/base",
      "model_module_version": "1.2.0",
      "model_name": "LayoutModel",
      "state": {
       "_model_module": "@jupyter-widgets/base",
       "_model_module_version": "1.2.0",
       "_model_name": "LayoutModel",
       "_view_count": null,
       "_view_module": "@jupyter-widgets/base",
       "_view_module_version": "1.2.0",
       "_view_name": "LayoutView",
       "align_content": null,
       "align_items": null,
       "align_self": null,
       "border": null,
       "bottom": null,
       "display": null,
       "flex": null,
       "flex_flow": null,
       "grid_area": null,
       "grid_auto_columns": null,
       "grid_auto_flow": null,
       "grid_auto_rows": null,
       "grid_column": null,
       "grid_gap": null,
       "grid_row": null,
       "grid_template_areas": null,
       "grid_template_columns": null,
       "grid_template_rows": null,
       "height": null,
       "justify_content": null,
       "justify_items": null,
       "left": null,
       "margin": null,
       "max_height": null,
       "max_width": null,
       "min_height": null,
       "min_width": null,
       "object_fit": null,
       "object_position": null,
       "order": null,
       "overflow": null,
       "overflow_x": null,
       "overflow_y": null,
       "padding": null,
       "right": null,
       "top": null,
       "visibility": null,
       "width": null
      }
     },
     "7547cd43c1ab4168a3053ec1f39b3897": {
      "model_module": "@jupyter-widgets/controls",
      "model_module_version": "1.5.0",
      "model_name": "ProgressStyleModel",
      "state": {
       "_model_module": "@jupyter-widgets/controls",
       "_model_module_version": "1.5.0",
       "_model_name": "ProgressStyleModel",
       "_view_count": null,
       "_view_module": "@jupyter-widgets/base",
       "_view_module_version": "1.2.0",
       "_view_name": "StyleView",
       "bar_color": null,
       "description_width": ""
      }
     },
     "75950c28698a4bcc8444c45281676146": {
      "model_module": "@jupyter-widgets/controls",
      "model_module_version": "1.5.0",
      "model_name": "FloatProgressModel",
      "state": {
       "_dom_classes": [],
       "_model_module": "@jupyter-widgets/controls",
       "_model_module_version": "1.5.0",
       "_model_name": "FloatProgressModel",
       "_view_count": null,
       "_view_module": "@jupyter-widgets/controls",
       "_view_module_version": "1.5.0",
       "_view_name": "ProgressView",
       "bar_style": "success",
       "description": "",
       "description_tooltip": null,
       "layout": "IPY_MODEL_66f3bf8984254cfc86245ac87630663f",
       "max": 34604.0,
       "min": 0.0,
       "orientation": "horizontal",
       "style": "IPY_MODEL_66c8392e02814e61b68a01df351518cc",
       "value": 34604.0
      }
     },
     "76c08fc207054b0198b62c15c3d32a4b": {
      "model_module": "@jupyter-widgets/base",
      "model_module_version": "1.2.0",
      "model_name": "LayoutModel",
      "state": {
       "_model_module": "@jupyter-widgets/base",
       "_model_module_version": "1.2.0",
       "_model_name": "LayoutModel",
       "_view_count": null,
       "_view_module": "@jupyter-widgets/base",
       "_view_module_version": "1.2.0",
       "_view_name": "LayoutView",
       "align_content": null,
       "align_items": null,
       "align_self": null,
       "border": null,
       "bottom": null,
       "display": null,
       "flex": null,
       "flex_flow": null,
       "grid_area": null,
       "grid_auto_columns": null,
       "grid_auto_flow": null,
       "grid_auto_rows": null,
       "grid_column": null,
       "grid_gap": null,
       "grid_row": null,
       "grid_template_areas": null,
       "grid_template_columns": null,
       "grid_template_rows": null,
       "height": null,
       "justify_content": null,
       "justify_items": null,
       "left": null,
       "margin": null,
       "max_height": null,
       "max_width": null,
       "min_height": null,
       "min_width": null,
       "object_fit": null,
       "object_position": null,
       "order": null,
       "overflow": null,
       "overflow_x": null,
       "overflow_y": null,
       "padding": null,
       "right": null,
       "top": null,
       "visibility": null,
       "width": null
      }
     },
     "77137868ff484437b9e6d996203fee92": {
      "model_module": "@jupyter-widgets/base",
      "model_module_version": "1.2.0",
      "model_name": "LayoutModel",
      "state": {
       "_model_module": "@jupyter-widgets/base",
       "_model_module_version": "1.2.0",
       "_model_name": "LayoutModel",
       "_view_count": null,
       "_view_module": "@jupyter-widgets/base",
       "_view_module_version": "1.2.0",
       "_view_name": "LayoutView",
       "align_content": null,
       "align_items": null,
       "align_self": null,
       "border": null,
       "bottom": null,
       "display": null,
       "flex": null,
       "flex_flow": null,
       "grid_area": null,
       "grid_auto_columns": null,
       "grid_auto_flow": null,
       "grid_auto_rows": null,
       "grid_column": null,
       "grid_gap": null,
       "grid_row": null,
       "grid_template_areas": null,
       "grid_template_columns": null,
       "grid_template_rows": null,
       "height": null,
       "justify_content": null,
       "justify_items": null,
       "left": null,
       "margin": null,
       "max_height": null,
       "max_width": null,
       "min_height": null,
       "min_width": null,
       "object_fit": null,
       "object_position": null,
       "order": null,
       "overflow": null,
       "overflow_x": null,
       "overflow_y": null,
       "padding": null,
       "right": null,
       "top": null,
       "visibility": null,
       "width": null
      }
     },
     "7c517d4161a149b9acc9397f153031a4": {
      "model_module": "@jupyter-widgets/controls",
      "model_module_version": "1.5.0",
      "model_name": "HBoxModel",
      "state": {
       "_dom_classes": [],
       "_model_module": "@jupyter-widgets/controls",
       "_model_module_version": "1.5.0",
       "_model_name": "HBoxModel",
       "_view_count": null,
       "_view_module": "@jupyter-widgets/controls",
       "_view_module_version": "1.5.0",
       "_view_name": "HBoxView",
       "box_style": "",
       "children": [
        "IPY_MODEL_a050db8858e144f1b69fa4eb86807b78",
        "IPY_MODEL_ecde5113f5ac4ab88635177fc8d43f4c",
        "IPY_MODEL_f26bd6cbb4da4db0bcc2d563dabe2385"
       ],
       "layout": "IPY_MODEL_7ec0b02316c34032843650c5c7c422be"
      }
     },
     "7ec0b02316c34032843650c5c7c422be": {
      "model_module": "@jupyter-widgets/base",
      "model_module_version": "1.2.0",
      "model_name": "LayoutModel",
      "state": {
       "_model_module": "@jupyter-widgets/base",
       "_model_module_version": "1.2.0",
       "_model_name": "LayoutModel",
       "_view_count": null,
       "_view_module": "@jupyter-widgets/base",
       "_view_module_version": "1.2.0",
       "_view_name": "LayoutView",
       "align_content": null,
       "align_items": null,
       "align_self": null,
       "border": null,
       "bottom": null,
       "display": null,
       "flex": null,
       "flex_flow": null,
       "grid_area": null,
       "grid_auto_columns": null,
       "grid_auto_flow": null,
       "grid_auto_rows": null,
       "grid_column": null,
       "grid_gap": null,
       "grid_row": null,
       "grid_template_areas": null,
       "grid_template_columns": null,
       "grid_template_rows": null,
       "height": null,
       "justify_content": null,
       "justify_items": null,
       "left": null,
       "margin": null,
       "max_height": null,
       "max_width": null,
       "min_height": null,
       "min_width": null,
       "object_fit": null,
       "object_position": null,
       "order": null,
       "overflow": null,
       "overflow_x": null,
       "overflow_y": null,
       "padding": null,
       "right": null,
       "top": null,
       "visibility": null,
       "width": null
      }
     },
     "826edbb0bbd04af784c9552d94c8b5ff": {
      "model_module": "@jupyter-widgets/controls",
      "model_module_version": "1.5.0",
      "model_name": "DescriptionStyleModel",
      "state": {
       "_model_module": "@jupyter-widgets/controls",
       "_model_module_version": "1.5.0",
       "_model_name": "DescriptionStyleModel",
       "_view_count": null,
       "_view_module": "@jupyter-widgets/base",
       "_view_module_version": "1.2.0",
       "_view_name": "StyleView",
       "description_width": ""
      }
     },
     "847ff5b6b8f54ca9b5f3698835f55db2": {
      "model_module": "@jupyter-widgets/controls",
      "model_module_version": "1.5.0",
      "model_name": "ProgressStyleModel",
      "state": {
       "_model_module": "@jupyter-widgets/controls",
       "_model_module_version": "1.5.0",
       "_model_name": "ProgressStyleModel",
       "_view_count": null,
       "_view_module": "@jupyter-widgets/base",
       "_view_module_version": "1.2.0",
       "_view_name": "StyleView",
       "bar_color": null,
       "description_width": ""
      }
     },
     "8552d00193cb4767b40187a1cfbc9e8b": {
      "model_module": "@jupyter-widgets/base",
      "model_module_version": "1.2.0",
      "model_name": "LayoutModel",
      "state": {
       "_model_module": "@jupyter-widgets/base",
       "_model_module_version": "1.2.0",
       "_model_name": "LayoutModel",
       "_view_count": null,
       "_view_module": "@jupyter-widgets/base",
       "_view_module_version": "1.2.0",
       "_view_name": "LayoutView",
       "align_content": null,
       "align_items": null,
       "align_self": null,
       "border": null,
       "bottom": null,
       "display": null,
       "flex": null,
       "flex_flow": null,
       "grid_area": null,
       "grid_auto_columns": null,
       "grid_auto_flow": null,
       "grid_auto_rows": null,
       "grid_column": null,
       "grid_gap": null,
       "grid_row": null,
       "grid_template_areas": null,
       "grid_template_columns": null,
       "grid_template_rows": null,
       "height": null,
       "justify_content": null,
       "justify_items": null,
       "left": null,
       "margin": null,
       "max_height": null,
       "max_width": null,
       "min_height": null,
       "min_width": null,
       "object_fit": null,
       "object_position": null,
       "order": null,
       "overflow": null,
       "overflow_x": null,
       "overflow_y": null,
       "padding": null,
       "right": null,
       "top": null,
       "visibility": null,
       "width": null
      }
     },
     "862d93e4e3084dde94d140c50275caef": {
      "model_module": "@jupyter-widgets/controls",
      "model_module_version": "1.5.0",
      "model_name": "ProgressStyleModel",
      "state": {
       "_model_module": "@jupyter-widgets/controls",
       "_model_module_version": "1.5.0",
       "_model_name": "ProgressStyleModel",
       "_view_count": null,
       "_view_module": "@jupyter-widgets/base",
       "_view_module_version": "1.2.0",
       "_view_name": "StyleView",
       "bar_color": null,
       "description_width": ""
      }
     },
     "895347bbb9854ecd9a3559897701c0fc": {
      "model_module": "@jupyter-widgets/controls",
      "model_module_version": "1.5.0",
      "model_name": "HTMLModel",
      "state": {
       "_dom_classes": [],
       "_model_module": "@jupyter-widgets/controls",
       "_model_module_version": "1.5.0",
       "_model_name": "HTMLModel",
       "_view_count": null,
       "_view_module": "@jupyter-widgets/controls",
       "_view_module_version": "1.5.0",
       "_view_name": "HTMLView",
       "description": "",
       "description_tooltip": null,
       "layout": "IPY_MODEL_ed4f3ad595414afe9fffd16b0b13d5b5",
       "placeholder": "​",
       "style": "IPY_MODEL_2c2cc16b2ab44591880b771df64f8aca",
       "value": " 34.6k/34.6k [00:00&lt;00:00, 176kB/s]"
      }
     },
     "895b0dad4ebf43d88f56d45b268501a2": {
      "model_module": "@jupyter-widgets/controls",
      "model_module_version": "1.5.0",
      "model_name": "ProgressStyleModel",
      "state": {
       "_model_module": "@jupyter-widgets/controls",
       "_model_module_version": "1.5.0",
       "_model_name": "ProgressStyleModel",
       "_view_count": null,
       "_view_module": "@jupyter-widgets/base",
       "_view_module_version": "1.2.0",
       "_view_name": "StyleView",
       "bar_color": null,
       "description_width": ""
      }
     },
     "8ee41478054b4929bf0ba9e3c29c5a2a": {
      "model_module": "@jupyter-widgets/base",
      "model_module_version": "1.2.0",
      "model_name": "LayoutModel",
      "state": {
       "_model_module": "@jupyter-widgets/base",
       "_model_module_version": "1.2.0",
       "_model_name": "LayoutModel",
       "_view_count": null,
       "_view_module": "@jupyter-widgets/base",
       "_view_module_version": "1.2.0",
       "_view_name": "LayoutView",
       "align_content": null,
       "align_items": null,
       "align_self": null,
       "border": null,
       "bottom": null,
       "display": null,
       "flex": null,
       "flex_flow": null,
       "grid_area": null,
       "grid_auto_columns": null,
       "grid_auto_flow": null,
       "grid_auto_rows": null,
       "grid_column": null,
       "grid_gap": null,
       "grid_row": null,
       "grid_template_areas": null,
       "grid_template_columns": null,
       "grid_template_rows": null,
       "height": null,
       "justify_content": null,
       "justify_items": null,
       "left": null,
       "margin": null,
       "max_height": null,
       "max_width": null,
       "min_height": null,
       "min_width": null,
       "object_fit": null,
       "object_position": null,
       "order": null,
       "overflow": null,
       "overflow_x": null,
       "overflow_y": null,
       "padding": null,
       "right": null,
       "top": null,
       "visibility": null,
       "width": null
      }
     },
     "9208ce81afb246bdaf86278ba6adab6e": {
      "model_module": "@jupyter-widgets/controls",
      "model_module_version": "1.5.0",
      "model_name": "ProgressStyleModel",
      "state": {
       "_model_module": "@jupyter-widgets/controls",
       "_model_module_version": "1.5.0",
       "_model_name": "ProgressStyleModel",
       "_view_count": null,
       "_view_module": "@jupyter-widgets/base",
       "_view_module_version": "1.2.0",
       "_view_name": "StyleView",
       "bar_color": null,
       "description_width": ""
      }
     },
     "92a605510c9a47db859a36cb9edd1d25": {
      "model_module": "@jupyter-widgets/controls",
      "model_module_version": "1.5.0",
      "model_name": "HBoxModel",
      "state": {
       "_dom_classes": [],
       "_model_module": "@jupyter-widgets/controls",
       "_model_module_version": "1.5.0",
       "_model_name": "HBoxModel",
       "_view_count": null,
       "_view_module": "@jupyter-widgets/controls",
       "_view_module_version": "1.5.0",
       "_view_name": "HBoxView",
       "box_style": "",
       "children": [
        "IPY_MODEL_38c9ff892245456a93b4d9835c75644a",
        "IPY_MODEL_172dbd4261c64a3b8ab42676ce439923",
        "IPY_MODEL_c732e964389f49a58d036792dd1582b9"
       ],
       "layout": "IPY_MODEL_31906d77d5df4b9698db93e10a4a4ebe"
      }
     },
     "94ed919e71be4a8b8f97391ad82b000b": {
      "model_module": "@jupyter-widgets/controls",
      "model_module_version": "1.5.0",
      "model_name": "HBoxModel",
      "state": {
       "_dom_classes": [],
       "_model_module": "@jupyter-widgets/controls",
       "_model_module_version": "1.5.0",
       "_model_name": "HBoxModel",
       "_view_count": null,
       "_view_module": "@jupyter-widgets/controls",
       "_view_module_version": "1.5.0",
       "_view_name": "HBoxView",
       "box_style": "",
       "children": [
        "IPY_MODEL_d9eafb19583f4462966f0ebf42a08988",
        "IPY_MODEL_3842ae4eef424ab193fe23465097bb3e",
        "IPY_MODEL_b36ae1c4147e4b2fad88fa53a4131970"
       ],
       "layout": "IPY_MODEL_f37395cac49f47b983a5388cef771434"
      }
     },
     "9ae02fe4754d4c60bc575404b2c0fc5a": {
      "model_module": "@jupyter-widgets/controls",
      "model_module_version": "1.5.0",
      "model_name": "DescriptionStyleModel",
      "state": {
       "_model_module": "@jupyter-widgets/controls",
       "_model_module_version": "1.5.0",
       "_model_name": "DescriptionStyleModel",
       "_view_count": null,
       "_view_module": "@jupyter-widgets/base",
       "_view_module_version": "1.2.0",
       "_view_name": "StyleView",
       "description_width": ""
      }
     },
     "9b33032e9a554948b1288270a3e92180": {
      "model_module": "@jupyter-widgets/controls",
      "model_module_version": "1.5.0",
      "model_name": "DescriptionStyleModel",
      "state": {
       "_model_module": "@jupyter-widgets/controls",
       "_model_module_version": "1.5.0",
       "_model_name": "DescriptionStyleModel",
       "_view_count": null,
       "_view_module": "@jupyter-widgets/base",
       "_view_module_version": "1.2.0",
       "_view_name": "StyleView",
       "description_width": ""
      }
     },
     "9f0f4a74343b4b5dada8d7fe1b023ed5": {
      "model_module": "@jupyter-widgets/base",
      "model_module_version": "1.2.0",
      "model_name": "LayoutModel",
      "state": {
       "_model_module": "@jupyter-widgets/base",
       "_model_module_version": "1.2.0",
       "_model_name": "LayoutModel",
       "_view_count": null,
       "_view_module": "@jupyter-widgets/base",
       "_view_module_version": "1.2.0",
       "_view_name": "LayoutView",
       "align_content": null,
       "align_items": null,
       "align_self": null,
       "border": null,
       "bottom": null,
       "display": null,
       "flex": null,
       "flex_flow": null,
       "grid_area": null,
       "grid_auto_columns": null,
       "grid_auto_flow": null,
       "grid_auto_rows": null,
       "grid_column": null,
       "grid_gap": null,
       "grid_row": null,
       "grid_template_areas": null,
       "grid_template_columns": null,
       "grid_template_rows": null,
       "height": null,
       "justify_content": null,
       "justify_items": null,
       "left": null,
       "margin": null,
       "max_height": null,
       "max_width": null,
       "min_height": null,
       "min_width": null,
       "object_fit": null,
       "object_position": null,
       "order": null,
       "overflow": null,
       "overflow_x": null,
       "overflow_y": null,
       "padding": null,
       "right": null,
       "top": null,
       "visibility": null,
       "width": null
      }
     },
     "a050db8858e144f1b69fa4eb86807b78": {
      "model_module": "@jupyter-widgets/controls",
      "model_module_version": "1.5.0",
      "model_name": "HTMLModel",
      "state": {
       "_dom_classes": [],
       "_model_module": "@jupyter-widgets/controls",
       "_model_module_version": "1.5.0",
       "_model_name": "HTMLModel",
       "_view_count": null,
       "_view_module": "@jupyter-widgets/controls",
       "_view_module_version": "1.5.0",
       "_view_name": "HTMLView",
       "description": "",
       "description_tooltip": null,
       "layout": "IPY_MODEL_70ebe7cd55774e3bbe32e11911693f3c",
       "placeholder": "​",
       "style": "IPY_MODEL_fbe5c2e33e724897bf3b1c8974b5e8a4",
       "value": "preprocessor_config.json: 100%"
      }
     },
     "a4e4e5c1e9904671bdb036aee262a52e": {
      "model_module": "@jupyter-widgets/controls",
      "model_module_version": "1.5.0",
      "model_name": "FloatProgressModel",
      "state": {
       "_dom_classes": [],
       "_model_module": "@jupyter-widgets/controls",
       "_model_module_version": "1.5.0",
       "_model_name": "FloatProgressModel",
       "_view_count": null,
       "_view_module": "@jupyter-widgets/controls",
       "_view_module_version": "1.5.0",
       "_view_name": "ProgressView",
       "bar_style": "success",
       "description": "",
       "description_tooltip": null,
       "layout": "IPY_MODEL_9f0f4a74343b4b5dada8d7fe1b023ed5",
       "max": 3868.0,
       "min": 0.0,
       "orientation": "horizontal",
       "style": "IPY_MODEL_847ff5b6b8f54ca9b5f3698835f55db2",
       "value": 3868.0
      }
     },
     "a5c69e4e79d44282a11b1581c5b7db9c": {
      "model_module": "@jupyter-widgets/controls",
      "model_module_version": "1.5.0",
      "model_name": "ProgressStyleModel",
      "state": {
       "_model_module": "@jupyter-widgets/controls",
       "_model_module_version": "1.5.0",
       "_model_name": "ProgressStyleModel",
       "_view_count": null,
       "_view_module": "@jupyter-widgets/base",
       "_view_module_version": "1.2.0",
       "_view_name": "StyleView",
       "bar_color": null,
       "description_width": ""
      }
     },
     "a83e83798cfe45a2af81909e0b0591a2": {
      "model_module": "@jupyter-widgets/controls",
      "model_module_version": "1.5.0",
      "model_name": "ProgressStyleModel",
      "state": {
       "_model_module": "@jupyter-widgets/controls",
       "_model_module_version": "1.5.0",
       "_model_name": "ProgressStyleModel",
       "_view_count": null,
       "_view_module": "@jupyter-widgets/base",
       "_view_module_version": "1.2.0",
       "_view_name": "StyleView",
       "bar_color": null,
       "description_width": ""
      }
     },
     "a8b0a1b2ca2943c9bbcd5c6bd62f08a0": {
      "model_module": "@jupyter-widgets/controls",
      "model_module_version": "1.5.0",
      "model_name": "DescriptionStyleModel",
      "state": {
       "_model_module": "@jupyter-widgets/controls",
       "_model_module_version": "1.5.0",
       "_model_name": "DescriptionStyleModel",
       "_view_count": null,
       "_view_module": "@jupyter-widgets/base",
       "_view_module_version": "1.2.0",
       "_view_name": "StyleView",
       "description_width": ""
      }
     },
     "a8b79a472c5e4967b22c76f63ced999b": {
      "model_module": "@jupyter-widgets/base",
      "model_module_version": "1.2.0",
      "model_name": "LayoutModel",
      "state": {
       "_model_module": "@jupyter-widgets/base",
       "_model_module_version": "1.2.0",
       "_model_name": "LayoutModel",
       "_view_count": null,
       "_view_module": "@jupyter-widgets/base",
       "_view_module_version": "1.2.0",
       "_view_name": "LayoutView",
       "align_content": null,
       "align_items": null,
       "align_self": null,
       "border": null,
       "bottom": null,
       "display": null,
       "flex": null,
       "flex_flow": null,
       "grid_area": null,
       "grid_auto_columns": null,
       "grid_auto_flow": null,
       "grid_auto_rows": null,
       "grid_column": null,
       "grid_gap": null,
       "grid_row": null,
       "grid_template_areas": null,
       "grid_template_columns": null,
       "grid_template_rows": null,
       "height": null,
       "justify_content": null,
       "justify_items": null,
       "left": null,
       "margin": null,
       "max_height": null,
       "max_width": null,
       "min_height": null,
       "min_width": null,
       "object_fit": null,
       "object_position": null,
       "order": null,
       "overflow": null,
       "overflow_x": null,
       "overflow_y": null,
       "padding": null,
       "right": null,
       "top": null,
       "visibility": null,
       "width": null
      }
     },
     "abd81d8f13a944d5a7aed9e70b19a07c": {
      "model_module": "@jupyter-widgets/base",
      "model_module_version": "1.2.0",
      "model_name": "LayoutModel",
      "state": {
       "_model_module": "@jupyter-widgets/base",
       "_model_module_version": "1.2.0",
       "_model_name": "LayoutModel",
       "_view_count": null,
       "_view_module": "@jupyter-widgets/base",
       "_view_module_version": "1.2.0",
       "_view_name": "LayoutView",
       "align_content": null,
       "align_items": null,
       "align_self": null,
       "border": null,
       "bottom": null,
       "display": null,
       "flex": null,
       "flex_flow": null,
       "grid_area": null,
       "grid_auto_columns": null,
       "grid_auto_flow": null,
       "grid_auto_rows": null,
       "grid_column": null,
       "grid_gap": null,
       "grid_row": null,
       "grid_template_areas": null,
       "grid_template_columns": null,
       "grid_template_rows": null,
       "height": null,
       "justify_content": null,
       "justify_items": null,
       "left": null,
       "margin": null,
       "max_height": null,
       "max_width": null,
       "min_height": null,
       "min_width": null,
       "object_fit": null,
       "object_position": null,
       "order": null,
       "overflow": null,
       "overflow_x": null,
       "overflow_y": null,
       "padding": null,
       "right": null,
       "top": null,
       "visibility": null,
       "width": null
      }
     },
     "ac50a4f73373467487135234143219bd": {
      "model_module": "@jupyter-widgets/base",
      "model_module_version": "1.2.0",
      "model_name": "LayoutModel",
      "state": {
       "_model_module": "@jupyter-widgets/base",
       "_model_module_version": "1.2.0",
       "_model_name": "LayoutModel",
       "_view_count": null,
       "_view_module": "@jupyter-widgets/base",
       "_view_module_version": "1.2.0",
       "_view_name": "LayoutView",
       "align_content": null,
       "align_items": null,
       "align_self": null,
       "border": null,
       "bottom": null,
       "display": null,
       "flex": null,
       "flex_flow": null,
       "grid_area": null,
       "grid_auto_columns": null,
       "grid_auto_flow": null,
       "grid_auto_rows": null,
       "grid_column": null,
       "grid_gap": null,
       "grid_row": null,
       "grid_template_areas": null,
       "grid_template_columns": null,
       "grid_template_rows": null,
       "height": null,
       "justify_content": null,
       "justify_items": null,
       "left": null,
       "margin": null,
       "max_height": null,
       "max_width": null,
       "min_height": null,
       "min_width": null,
       "object_fit": null,
       "object_position": null,
       "order": null,
       "overflow": null,
       "overflow_x": null,
       "overflow_y": null,
       "padding": null,
       "right": null,
       "top": null,
       "visibility": null,
       "width": null
      }
     },
     "ad1965c263824258aac27bcda811d92f": {
      "model_module": "@jupyter-widgets/base",
      "model_module_version": "1.2.0",
      "model_name": "LayoutModel",
      "state": {
       "_model_module": "@jupyter-widgets/base",
       "_model_module_version": "1.2.0",
       "_model_name": "LayoutModel",
       "_view_count": null,
       "_view_module": "@jupyter-widgets/base",
       "_view_module_version": "1.2.0",
       "_view_name": "LayoutView",
       "align_content": null,
       "align_items": null,
       "align_self": null,
       "border": null,
       "bottom": null,
       "display": null,
       "flex": null,
       "flex_flow": null,
       "grid_area": null,
       "grid_auto_columns": null,
       "grid_auto_flow": null,
       "grid_auto_rows": null,
       "grid_column": null,
       "grid_gap": null,
       "grid_row": null,
       "grid_template_areas": null,
       "grid_template_columns": null,
       "grid_template_rows": null,
       "height": null,
       "justify_content": null,
       "justify_items": null,
       "left": null,
       "margin": null,
       "max_height": null,
       "max_width": null,
       "min_height": null,
       "min_width": null,
       "object_fit": null,
       "object_position": null,
       "order": null,
       "overflow": null,
       "overflow_x": null,
       "overflow_y": null,
       "padding": null,
       "right": null,
       "top": null,
       "visibility": null,
       "width": null
      }
     },
     "ad5ce2a671a44bce9862893c61056525": {
      "model_module": "@jupyter-widgets/controls",
      "model_module_version": "1.5.0",
      "model_name": "FloatProgressModel",
      "state": {
       "_dom_classes": [],
       "_model_module": "@jupyter-widgets/controls",
       "_model_module_version": "1.5.0",
       "_model_name": "FloatProgressModel",
       "_view_count": null,
       "_view_module": "@jupyter-widgets/controls",
       "_view_module_version": "1.5.0",
       "_view_name": "ProgressView",
       "bar_style": "success",
       "description": "",
       "description_tooltip": null,
       "layout": "IPY_MODEL_d279d6e49f5146669d88a7b032f067a1",
       "max": 966995080.0,
       "min": 0.0,
       "orientation": "horizontal",
       "style": "IPY_MODEL_130a2762abe947c5b4c2aee693fd6a4b",
       "value": 966995080.0
      }
     },
     "b09f399c65574ddcb499f55a4333d06d": {
      "model_module": "@jupyter-widgets/controls",
      "model_module_version": "1.5.0",
      "model_name": "DescriptionStyleModel",
      "state": {
       "_model_module": "@jupyter-widgets/controls",
       "_model_module_version": "1.5.0",
       "_model_name": "DescriptionStyleModel",
       "_view_count": null,
       "_view_module": "@jupyter-widgets/base",
       "_view_module_version": "1.2.0",
       "_view_name": "StyleView",
       "description_width": ""
      }
     },
     "b36ae1c4147e4b2fad88fa53a4131970": {
      "model_module": "@jupyter-widgets/controls",
      "model_module_version": "1.5.0",
      "model_name": "HTMLModel",
      "state": {
       "_dom_classes": [],
       "_model_module": "@jupyter-widgets/controls",
       "_model_module_version": "1.5.0",
       "_model_name": "HTMLModel",
       "_view_count": null,
       "_view_module": "@jupyter-widgets/controls",
       "_view_module_version": "1.5.0",
       "_view_name": "HTMLView",
       "description": "",
       "description_tooltip": null,
       "layout": "IPY_MODEL_72a87e69984a42b4bd98f8ce75c86c64",
       "placeholder": "​",
       "style": "IPY_MODEL_d86d1eb93bb341afa4e3e52e5ca0a198",
       "value": " 52.7k/52.7k [00:00&lt;00:00, 266kB/s]"
      }
     },
     "b510d667df014d1ba92203ca4f4af79d": {
      "model_module": "@jupyter-widgets/controls",
      "model_module_version": "1.5.0",
      "model_name": "FloatProgressModel",
      "state": {
       "_dom_classes": [],
       "_model_module": "@jupyter-widgets/controls",
       "_model_module_version": "1.5.0",
       "_model_name": "FloatProgressModel",
       "_view_count": null,
       "_view_module": "@jupyter-widgets/controls",
       "_view_module_version": "1.5.0",
       "_view_name": "ProgressView",
       "bar_style": "success",
       "description": "",
       "description_tooltip": null,
       "layout": "IPY_MODEL_a8b79a472c5e4967b22c76f63ced999b",
       "max": 1967.0,
       "min": 0.0,
       "orientation": "horizontal",
       "style": "IPY_MODEL_a5c69e4e79d44282a11b1581c5b7db9c",
       "value": 1967.0
      }
     },
     "b6574aed53d84f6bb9cea4c7f3371876": {
      "model_module": "@jupyter-widgets/controls",
      "model_module_version": "1.5.0",
      "model_name": "FloatProgressModel",
      "state": {
       "_dom_classes": [],
       "_model_module": "@jupyter-widgets/controls",
       "_model_module_version": "1.5.0",
       "_model_name": "FloatProgressModel",
       "_view_count": null,
       "_view_module": "@jupyter-widgets/controls",
       "_view_module_version": "1.5.0",
       "_view_name": "ProgressView",
       "bar_style": "success",
       "description": "",
       "description_tooltip": null,
       "layout": "IPY_MODEL_ed34967d2f3449a99048ef6e8e74f4e2",
       "max": 2480466.0,
       "min": 0.0,
       "orientation": "horizontal",
       "style": "IPY_MODEL_7547cd43c1ab4168a3053ec1f39b3897",
       "value": 2480466.0
      }
     },
     "b6c8f4ad8ed6475aa487a4fe75b44593": {
      "model_module": "@jupyter-widgets/controls",
      "model_module_version": "1.5.0",
      "model_name": "HBoxModel",
      "state": {
       "_dom_classes": [],
       "_model_module": "@jupyter-widgets/controls",
       "_model_module_version": "1.5.0",
       "_model_name": "HBoxModel",
       "_view_count": null,
       "_view_module": "@jupyter-widgets/controls",
       "_view_module_version": "1.5.0",
       "_view_name": "HBoxView",
       "box_style": "",
       "children": [
        "IPY_MODEL_3a2b13d334864fc99d9702a0a7f74b5f",
        "IPY_MODEL_a4e4e5c1e9904671bdb036aee262a52e",
        "IPY_MODEL_c5dd2c388480434aadd6e55888291406"
       ],
       "layout": "IPY_MODEL_8552d00193cb4767b40187a1cfbc9e8b"
      }
     },
     "b6f2191142ac49ed846a12fdd01c277a": {
      "model_module": "@jupyter-widgets/controls",
      "model_module_version": "1.5.0",
      "model_name": "FloatProgressModel",
      "state": {
       "_dom_classes": [],
       "_model_module": "@jupyter-widgets/controls",
       "_model_module_version": "1.5.0",
       "_model_name": "FloatProgressModel",
       "_view_count": null,
       "_view_module": "@jupyter-widgets/controls",
       "_view_module_version": "1.5.0",
       "_view_name": "ProgressView",
       "bar_style": "success",
       "description": "",
       "description_tooltip": null,
       "layout": "IPY_MODEL_ad1965c263824258aac27bcda811d92f",
       "max": 835550.0,
       "min": 0.0,
       "orientation": "horizontal",
       "style": "IPY_MODEL_895b0dad4ebf43d88f56d45b268501a2",
       "value": 835550.0
      }
     },
     "b90d7ca73fef422fb150355681a26b0e": {
      "model_module": "@jupyter-widgets/controls",
      "model_module_version": "1.5.0",
      "model_name": "HTMLModel",
      "state": {
       "_dom_classes": [],
       "_model_module": "@jupyter-widgets/controls",
       "_model_module_version": "1.5.0",
       "_model_name": "HTMLModel",
       "_view_count": null,
       "_view_module": "@jupyter-widgets/controls",
       "_view_module_version": "1.5.0",
       "_view_name": "HTMLView",
       "description": "",
       "description_tooltip": null,
       "layout": "IPY_MODEL_416f673d2aea476b959c713d19db2b55",
       "placeholder": "​",
       "style": "IPY_MODEL_e5d1e0325622449d8d6abbf5371df374",
       "value": "merges.txt: 100%"
      }
     },
     "bc2a56292c024ac49a05add75e908c16": {
      "model_module": "@jupyter-widgets/base",
      "model_module_version": "1.2.0",
      "model_name": "LayoutModel",
      "state": {
       "_model_module": "@jupyter-widgets/base",
       "_model_module_version": "1.2.0",
       "_model_name": "LayoutModel",
       "_view_count": null,
       "_view_module": "@jupyter-widgets/base",
       "_view_module_version": "1.2.0",
       "_view_name": "LayoutView",
       "align_content": null,
       "align_items": null,
       "align_self": null,
       "border": null,
       "bottom": null,
       "display": null,
       "flex": null,
       "flex_flow": null,
       "grid_area": null,
       "grid_auto_columns": null,
       "grid_auto_flow": null,
       "grid_auto_rows": null,
       "grid_column": null,
       "grid_gap": null,
       "grid_row": null,
       "grid_template_areas": null,
       "grid_template_columns": null,
       "grid_template_rows": null,
       "height": null,
       "justify_content": null,
       "justify_items": null,
       "left": null,
       "margin": null,
       "max_height": null,
       "max_width": null,
       "min_height": null,
       "min_width": null,
       "object_fit": null,
       "object_position": null,
       "order": null,
       "overflow": null,
       "overflow_x": null,
       "overflow_y": null,
       "padding": null,
       "right": null,
       "top": null,
       "visibility": null,
       "width": null
      }
     },
     "bc9fcc8479b64fd38c889633f28f0387": {
      "model_module": "@jupyter-widgets/controls",
      "model_module_version": "1.5.0",
      "model_name": "HBoxModel",
      "state": {
       "_dom_classes": [],
       "_model_module": "@jupyter-widgets/controls",
       "_model_module_version": "1.5.0",
       "_model_name": "HBoxModel",
       "_view_count": null,
       "_view_module": "@jupyter-widgets/controls",
       "_view_module_version": "1.5.0",
       "_view_name": "HBoxView",
       "box_style": "",
       "children": [
        "IPY_MODEL_b90d7ca73fef422fb150355681a26b0e",
        "IPY_MODEL_46940a36771e408ab3cab718fce05114",
        "IPY_MODEL_00cc3edb781444de97e7380b5ada63a0"
       ],
       "layout": "IPY_MODEL_f69e8a356c0144dcb6e48a163921eaa2"
      }
     },
     "be9ee9f7f24a448fa05736b6af542afe": {
      "model_module": "@jupyter-widgets/controls",
      "model_module_version": "1.5.0",
      "model_name": "HTMLModel",
      "state": {
       "_dom_classes": [],
       "_model_module": "@jupyter-widgets/controls",
       "_model_module_version": "1.5.0",
       "_model_name": "HTMLModel",
       "_view_count": null,
       "_view_module": "@jupyter-widgets/controls",
       "_view_module_version": "1.5.0",
       "_view_name": "HTMLView",
       "description": "",
       "description_tooltip": null,
       "layout": "IPY_MODEL_e2e8152d46d84d8db0887a0f6270085c",
       "placeholder": "​",
       "style": "IPY_MODEL_d36087a581934a48831c88e59dac47fb",
       "value": " 1.97k/1.97k [00:00&lt;00:00, 155kB/s]"
      }
     },
     "c11bc2c1076148d18eb2a50a95fdd6f5": {
      "model_module": "@jupyter-widgets/controls",
      "model_module_version": "1.5.0",
      "model_name": "HBoxModel",
      "state": {
       "_dom_classes": [],
       "_model_module": "@jupyter-widgets/controls",
       "_model_module_version": "1.5.0",
       "_model_name": "HBoxModel",
       "_view_count": null,
       "_view_module": "@jupyter-widgets/controls",
       "_view_module_version": "1.5.0",
       "_view_name": "HBoxView",
       "box_style": "",
       "children": [
        "IPY_MODEL_4e932ce2d8004117acab5b343e423791",
        "IPY_MODEL_b6f2191142ac49ed846a12fdd01c277a",
        "IPY_MODEL_1831f7b1bf624d5681d83906717e9696"
       ],
       "layout": "IPY_MODEL_ec7441cbe21444078cb1d3c56b535b5c"
      }
     },
     "c137d844f9ed4c1d9ad990c015047ea4": {
      "model_module": "@jupyter-widgets/controls",
      "model_module_version": "1.5.0",
      "model_name": "DescriptionStyleModel",
      "state": {
       "_model_module": "@jupyter-widgets/controls",
       "_model_module_version": "1.5.0",
       "_model_name": "DescriptionStyleModel",
       "_view_count": null,
       "_view_module": "@jupyter-widgets/base",
       "_view_module_version": "1.2.0",
       "_view_name": "StyleView",
       "description_width": ""
      }
     },
     "c5dd2c388480434aadd6e55888291406": {
      "model_module": "@jupyter-widgets/controls",
      "model_module_version": "1.5.0",
      "model_name": "HTMLModel",
      "state": {
       "_dom_classes": [],
       "_model_module": "@jupyter-widgets/controls",
       "_model_module_version": "1.5.0",
       "_model_name": "HTMLModel",
       "_view_count": null,
       "_view_module": "@jupyter-widgets/controls",
       "_view_module_version": "1.5.0",
       "_view_name": "HTMLView",
       "description": "",
       "description_tooltip": null,
       "layout": "IPY_MODEL_72260d26b0e747cfb3671790bcda6502",
       "placeholder": "​",
       "style": "IPY_MODEL_0ea9623724704a268d1a8fb8f626882c",
       "value": " 3.87k/3.87k [00:00&lt;00:00, 317kB/s]"
      }
     },
     "c732e964389f49a58d036792dd1582b9": {
      "model_module": "@jupyter-widgets/controls",
      "model_module_version": "1.5.0",
      "model_name": "HTMLModel",
      "state": {
       "_dom_classes": [],
       "_model_module": "@jupyter-widgets/controls",
       "_model_module_version": "1.5.0",
       "_model_name": "HTMLModel",
       "_view_count": null,
       "_view_module": "@jupyter-widgets/controls",
       "_view_module_version": "1.5.0",
       "_view_name": "HTMLView",
       "description": "",
       "description_tooltip": null,
       "layout": "IPY_MODEL_5a332f1616c944c5a008add28b2eb936",
       "placeholder": "​",
       "style": "IPY_MODEL_9ae02fe4754d4c60bc575404b2c0fc5a",
       "value": " 2.19k/2.19k [00:00&lt;00:00, 173kB/s]"
      }
     },
     "d1318795208a42ad80ca2db1678e5369": {
      "model_module": "@jupyter-widgets/controls",
      "model_module_version": "1.5.0",
      "model_name": "ProgressStyleModel",
      "state": {
       "_model_module": "@jupyter-widgets/controls",
       "_model_module_version": "1.5.0",
       "_model_name": "ProgressStyleModel",
       "_view_count": null,
       "_view_module": "@jupyter-widgets/base",
       "_view_module_version": "1.2.0",
       "_view_name": "StyleView",
       "bar_color": null,
       "description_width": ""
      }
     },
     "d279d6e49f5146669d88a7b032f067a1": {
      "model_module": "@jupyter-widgets/base",
      "model_module_version": "1.2.0",
      "model_name": "LayoutModel",
      "state": {
       "_model_module": "@jupyter-widgets/base",
       "_model_module_version": "1.2.0",
       "_model_name": "LayoutModel",
       "_view_count": null,
       "_view_module": "@jupyter-widgets/base",
       "_view_module_version": "1.2.0",
       "_view_name": "LayoutView",
       "align_content": null,
       "align_items": null,
       "align_self": null,
       "border": null,
       "bottom": null,
       "display": null,
       "flex": null,
       "flex_flow": null,
       "grid_area": null,
       "grid_auto_columns": null,
       "grid_auto_flow": null,
       "grid_auto_rows": null,
       "grid_column": null,
       "grid_gap": null,
       "grid_row": null,
       "grid_template_areas": null,
       "grid_template_columns": null,
       "grid_template_rows": null,
       "height": null,
       "justify_content": null,
       "justify_items": null,
       "left": null,
       "margin": null,
       "max_height": null,
       "max_width": null,
       "min_height": null,
       "min_width": null,
       "object_fit": null,
       "object_position": null,
       "order": null,
       "overflow": null,
       "overflow_x": null,
       "overflow_y": null,
       "padding": null,
       "right": null,
       "top": null,
       "visibility": null,
       "width": null
      }
     },
     "d36087a581934a48831c88e59dac47fb": {
      "model_module": "@jupyter-widgets/controls",
      "model_module_version": "1.5.0",
      "model_name": "DescriptionStyleModel",
      "state": {
       "_model_module": "@jupyter-widgets/controls",
       "_model_module_version": "1.5.0",
       "_model_name": "DescriptionStyleModel",
       "_view_count": null,
       "_view_module": "@jupyter-widgets/base",
       "_view_module_version": "1.2.0",
       "_view_name": "StyleView",
       "description_width": ""
      }
     },
     "d49ec0a7f0bb460895b8570521c08aca": {
      "model_module": "@jupyter-widgets/controls",
      "model_module_version": "1.5.0",
      "model_name": "HTMLModel",
      "state": {
       "_dom_classes": [],
       "_model_module": "@jupyter-widgets/controls",
       "_model_module_version": "1.5.0",
       "_model_name": "HTMLModel",
       "_view_count": null,
       "_view_module": "@jupyter-widgets/controls",
       "_view_module_version": "1.5.0",
       "_view_name": "HTMLView",
       "description": "",
       "description_tooltip": null,
       "layout": "IPY_MODEL_76c08fc207054b0198b62c15c3d32a4b",
       "placeholder": "​",
       "style": "IPY_MODEL_f3ba517268d94a60b16c9d44923d6800",
       "value": "model.safetensors: 100%"
      }
     },
     "d6610054070c466c83acd39fd13aca5e": {
      "model_module": "@jupyter-widgets/controls",
      "model_module_version": "1.5.0",
      "model_name": "HBoxModel",
      "state": {
       "_dom_classes": [],
       "_model_module": "@jupyter-widgets/controls",
       "_model_module_version": "1.5.0",
       "_model_name": "HBoxModel",
       "_view_count": null,
       "_view_module": "@jupyter-widgets/controls",
       "_view_module_version": "1.5.0",
       "_view_name": "HBoxView",
       "box_style": "",
       "children": [
        "IPY_MODEL_08d761ed2ece424b9ddd727e213a91bc",
        "IPY_MODEL_75950c28698a4bcc8444c45281676146",
        "IPY_MODEL_895347bbb9854ecd9a3559897701c0fc"
       ],
       "layout": "IPY_MODEL_d683d4f82dfe4493b1a4a2092a14e136"
      }
     },
     "d683d4f82dfe4493b1a4a2092a14e136": {
      "model_module": "@jupyter-widgets/base",
      "model_module_version": "1.2.0",
      "model_name": "LayoutModel",
      "state": {
       "_model_module": "@jupyter-widgets/base",
       "_model_module_version": "1.2.0",
       "_model_name": "LayoutModel",
       "_view_count": null,
       "_view_module": "@jupyter-widgets/base",
       "_view_module_version": "1.2.0",
       "_view_name": "LayoutView",
       "align_content": null,
       "align_items": null,
       "align_self": null,
       "border": null,
       "bottom": null,
       "display": null,
       "flex": null,
       "flex_flow": null,
       "grid_area": null,
       "grid_auto_columns": null,
       "grid_auto_flow": null,
       "grid_auto_rows": null,
       "grid_column": null,
       "grid_gap": null,
       "grid_row": null,
       "grid_template_areas": null,
       "grid_template_columns": null,
       "grid_template_rows": null,
       "height": null,
       "justify_content": null,
       "justify_items": null,
       "left": null,
       "margin": null,
       "max_height": null,
       "max_width": null,
       "min_height": null,
       "min_width": null,
       "object_fit": null,
       "object_position": null,
       "order": null,
       "overflow": null,
       "overflow_x": null,
       "overflow_y": null,
       "padding": null,
       "right": null,
       "top": null,
       "visibility": null,
       "width": null
      }
     },
     "d86d1eb93bb341afa4e3e52e5ca0a198": {
      "model_module": "@jupyter-widgets/controls",
      "model_module_version": "1.5.0",
      "model_name": "DescriptionStyleModel",
      "state": {
       "_model_module": "@jupyter-widgets/controls",
       "_model_module_version": "1.5.0",
       "_model_name": "DescriptionStyleModel",
       "_view_count": null,
       "_view_module": "@jupyter-widgets/base",
       "_view_module_version": "1.2.0",
       "_view_name": "StyleView",
       "description_width": ""
      }
     },
     "d9eafb19583f4462966f0ebf42a08988": {
      "model_module": "@jupyter-widgets/controls",
      "model_module_version": "1.5.0",
      "model_name": "HTMLModel",
      "state": {
       "_dom_classes": [],
       "_model_module": "@jupyter-widgets/controls",
       "_model_module_version": "1.5.0",
       "_model_name": "HTMLModel",
       "_view_count": null,
       "_view_module": "@jupyter-widgets/controls",
       "_view_module_version": "1.5.0",
       "_view_name": "HTMLView",
       "description": "",
       "description_tooltip": null,
       "layout": "IPY_MODEL_39ec876c87f9484880b6353d4790da25",
       "placeholder": "​",
       "style": "IPY_MODEL_826edbb0bbd04af784c9552d94c8b5ff",
       "value": "normalizer.json: 100%"
      }
     },
     "daea253c13f64ee9aa8c7adc1763efa8": {
      "model_module": "@jupyter-widgets/base",
      "model_module_version": "1.2.0",
      "model_name": "LayoutModel",
      "state": {
       "_model_module": "@jupyter-widgets/base",
       "_model_module_version": "1.2.0",
       "_model_name": "LayoutModel",
       "_view_count": null,
       "_view_module": "@jupyter-widgets/base",
       "_view_module_version": "1.2.0",
       "_view_name": "LayoutView",
       "align_content": null,
       "align_items": null,
       "align_self": null,
       "border": null,
       "bottom": null,
       "display": null,
       "flex": null,
       "flex_flow": null,
       "grid_area": null,
       "grid_auto_columns": null,
       "grid_auto_flow": null,
       "grid_auto_rows": null,
       "grid_column": null,
       "grid_gap": null,
       "grid_row": null,
       "grid_template_areas": null,
       "grid_template_columns": null,
       "grid_template_rows": null,
       "height": null,
       "justify_content": null,
       "justify_items": null,
       "left": null,
       "margin": null,
       "max_height": null,
       "max_width": null,
       "min_height": null,
       "min_width": null,
       "object_fit": null,
       "object_position": null,
       "order": null,
       "overflow": null,
       "overflow_x": null,
       "overflow_y": null,
       "padding": null,
       "right": null,
       "top": null,
       "visibility": null,
       "width": null
      }
     },
     "dc07411e0759486f81c160c78f475e6f": {
      "model_module": "@jupyter-widgets/controls",
      "model_module_version": "1.5.0",
      "model_name": "FloatProgressModel",
      "state": {
       "_dom_classes": [],
       "_model_module": "@jupyter-widgets/controls",
       "_model_module_version": "1.5.0",
       "_model_name": "FloatProgressModel",
       "_view_count": null,
       "_view_module": "@jupyter-widgets/controls",
       "_view_module_version": "1.5.0",
       "_view_name": "ProgressView",
       "bar_style": "success",
       "description": "",
       "description_tooltip": null,
       "layout": "IPY_MODEL_6d8e4c9c632d4307858415cd449d2140",
       "max": 282683.0,
       "min": 0.0,
       "orientation": "horizontal",
       "style": "IPY_MODEL_862d93e4e3084dde94d140c50275caef",
       "value": 282683.0
      }
     },
     "dfba2e3b6e7b4bdb88d1e1d052f73f90": {
      "model_module": "@jupyter-widgets/controls",
      "model_module_version": "1.5.0",
      "model_name": "HTMLModel",
      "state": {
       "_dom_classes": [],
       "_model_module": "@jupyter-widgets/controls",
       "_model_module_version": "1.5.0",
       "_model_name": "HTMLModel",
       "_view_count": null,
       "_view_module": "@jupyter-widgets/controls",
       "_view_module_version": "1.5.0",
       "_view_name": "HTMLView",
       "description": "",
       "description_tooltip": null,
       "layout": "IPY_MODEL_31c618db0e584373bf017e246bccda73",
       "placeholder": "​",
       "style": "IPY_MODEL_eef05441e25f45d190eca8d4d22e3983",
       "value": " 2.48M/2.48M [00:00&lt;00:00, 11.3MB/s]"
      }
     },
     "e2c88da19e1b4e99962a2235f81f6187": {
      "model_module": "@jupyter-widgets/base",
      "model_module_version": "1.2.0",
      "model_name": "LayoutModel",
      "state": {
       "_model_module": "@jupyter-widgets/base",
       "_model_module_version": "1.2.0",
       "_model_name": "LayoutModel",
       "_view_count": null,
       "_view_module": "@jupyter-widgets/base",
       "_view_module_version": "1.2.0",
       "_view_name": "LayoutView",
       "align_content": null,
       "align_items": null,
       "align_self": null,
       "border": null,
       "bottom": null,
       "display": null,
       "flex": null,
       "flex_flow": null,
       "grid_area": null,
       "grid_auto_columns": null,
       "grid_auto_flow": null,
       "grid_auto_rows": null,
       "grid_column": null,
       "grid_gap": null,
       "grid_row": null,
       "grid_template_areas": null,
       "grid_template_columns": null,
       "grid_template_rows": null,
       "height": null,
       "justify_content": null,
       "justify_items": null,
       "left": null,
       "margin": null,
       "max_height": null,
       "max_width": null,
       "min_height": null,
       "min_width": null,
       "object_fit": null,
       "object_position": null,
       "order": null,
       "overflow": null,
       "overflow_x": null,
       "overflow_y": null,
       "padding": null,
       "right": null,
       "top": null,
       "visibility": null,
       "width": null
      }
     },
     "e2e8152d46d84d8db0887a0f6270085c": {
      "model_module": "@jupyter-widgets/base",
      "model_module_version": "1.2.0",
      "model_name": "LayoutModel",
      "state": {
       "_model_module": "@jupyter-widgets/base",
       "_model_module_version": "1.2.0",
       "_model_name": "LayoutModel",
       "_view_count": null,
       "_view_module": "@jupyter-widgets/base",
       "_view_module_version": "1.2.0",
       "_view_name": "LayoutView",
       "align_content": null,
       "align_items": null,
       "align_self": null,
       "border": null,
       "bottom": null,
       "display": null,
       "flex": null,
       "flex_flow": null,
       "grid_area": null,
       "grid_auto_columns": null,
       "grid_auto_flow": null,
       "grid_auto_rows": null,
       "grid_column": null,
       "grid_gap": null,
       "grid_row": null,
       "grid_template_areas": null,
       "grid_template_columns": null,
       "grid_template_rows": null,
       "height": null,
       "justify_content": null,
       "justify_items": null,
       "left": null,
       "margin": null,
       "max_height": null,
       "max_width": null,
       "min_height": null,
       "min_width": null,
       "object_fit": null,
       "object_position": null,
       "order": null,
       "overflow": null,
       "overflow_x": null,
       "overflow_y": null,
       "padding": null,
       "right": null,
       "top": null,
       "visibility": null,
       "width": null
      }
     },
     "e5d1e0325622449d8d6abbf5371df374": {
      "model_module": "@jupyter-widgets/controls",
      "model_module_version": "1.5.0",
      "model_name": "DescriptionStyleModel",
      "state": {
       "_model_module": "@jupyter-widgets/controls",
       "_model_module_version": "1.5.0",
       "_model_name": "DescriptionStyleModel",
       "_view_count": null,
       "_view_module": "@jupyter-widgets/base",
       "_view_module_version": "1.2.0",
       "_view_name": "StyleView",
       "description_width": ""
      }
     },
     "ec4bc8d244c84a1582bcc396021d890e": {
      "model_module": "@jupyter-widgets/controls",
      "model_module_version": "1.5.0",
      "model_name": "HTMLModel",
      "state": {
       "_dom_classes": [],
       "_model_module": "@jupyter-widgets/controls",
       "_model_module_version": "1.5.0",
       "_model_name": "HTMLModel",
       "_view_count": null,
       "_view_module": "@jupyter-widgets/controls",
       "_view_module_version": "1.5.0",
       "_view_name": "HTMLView",
       "description": "",
       "description_tooltip": null,
       "layout": "IPY_MODEL_ef19eb80caf849b195ea7ad0ec735704",
       "placeholder": "​",
       "style": "IPY_MODEL_6e9e3d2bf26f43e6a1f621ac34180d77",
       "value": "tokenizer_config.json: 100%"
      }
     },
     "ec7441cbe21444078cb1d3c56b535b5c": {
      "model_module": "@jupyter-widgets/base",
      "model_module_version": "1.2.0",
      "model_name": "LayoutModel",
      "state": {
       "_model_module": "@jupyter-widgets/base",
       "_model_module_version": "1.2.0",
       "_model_name": "LayoutModel",
       "_view_count": null,
       "_view_module": "@jupyter-widgets/base",
       "_view_module_version": "1.2.0",
       "_view_name": "LayoutView",
       "align_content": null,
       "align_items": null,
       "align_self": null,
       "border": null,
       "bottom": null,
       "display": null,
       "flex": null,
       "flex_flow": null,
       "grid_area": null,
       "grid_auto_columns": null,
       "grid_auto_flow": null,
       "grid_auto_rows": null,
       "grid_column": null,
       "grid_gap": null,
       "grid_row": null,
       "grid_template_areas": null,
       "grid_template_columns": null,
       "grid_template_rows": null,
       "height": null,
       "justify_content": null,
       "justify_items": null,
       "left": null,
       "margin": null,
       "max_height": null,
       "max_width": null,
       "min_height": null,
       "min_width": null,
       "object_fit": null,
       "object_position": null,
       "order": null,
       "overflow": null,
       "overflow_x": null,
       "overflow_y": null,
       "padding": null,
       "right": null,
       "top": null,
       "visibility": null,
       "width": null
      }
     },
     "ecde5113f5ac4ab88635177fc8d43f4c": {
      "model_module": "@jupyter-widgets/controls",
      "model_module_version": "1.5.0",
      "model_name": "FloatProgressModel",
      "state": {
       "_dom_classes": [],
       "_model_module": "@jupyter-widgets/controls",
       "_model_module_version": "1.5.0",
       "_model_name": "FloatProgressModel",
       "_view_count": null,
       "_view_module": "@jupyter-widgets/controls",
       "_view_module_version": "1.5.0",
       "_view_name": "ProgressView",
       "bar_style": "success",
       "description": "",
       "description_tooltip": null,
       "layout": "IPY_MODEL_6bbc9d0cc4d24821b053300d9ec4c136",
       "max": 184990.0,
       "min": 0.0,
       "orientation": "horizontal",
       "style": "IPY_MODEL_9208ce81afb246bdaf86278ba6adab6e",
       "value": 184990.0
      }
     },
     "ed34967d2f3449a99048ef6e8e74f4e2": {
      "model_module": "@jupyter-widgets/base",
      "model_module_version": "1.2.0",
      "model_name": "LayoutModel",
      "state": {
       "_model_module": "@jupyter-widgets/base",
       "_model_module_version": "1.2.0",
       "_model_name": "LayoutModel",
       "_view_count": null,
       "_view_module": "@jupyter-widgets/base",
       "_view_module_version": "1.2.0",
       "_view_name": "LayoutView",
       "align_content": null,
       "align_items": null,
       "align_self": null,
       "border": null,
       "bottom": null,
       "display": null,
       "flex": null,
       "flex_flow": null,
       "grid_area": null,
       "grid_auto_columns": null,
       "grid_auto_flow": null,
       "grid_auto_rows": null,
       "grid_column": null,
       "grid_gap": null,
       "grid_row": null,
       "grid_template_areas": null,
       "grid_template_columns": null,
       "grid_template_rows": null,
       "height": null,
       "justify_content": null,
       "justify_items": null,
       "left": null,
       "margin": null,
       "max_height": null,
       "max_width": null,
       "min_height": null,
       "min_width": null,
       "object_fit": null,
       "object_position": null,
       "order": null,
       "overflow": null,
       "overflow_x": null,
       "overflow_y": null,
       "padding": null,
       "right": null,
       "top": null,
       "visibility": null,
       "width": null
      }
     },
     "ed4f3ad595414afe9fffd16b0b13d5b5": {
      "model_module": "@jupyter-widgets/base",
      "model_module_version": "1.2.0",
      "model_name": "LayoutModel",
      "state": {
       "_model_module": "@jupyter-widgets/base",
       "_model_module_version": "1.2.0",
       "_model_name": "LayoutModel",
       "_view_count": null,
       "_view_module": "@jupyter-widgets/base",
       "_view_module_version": "1.2.0",
       "_view_name": "LayoutView",
       "align_content": null,
       "align_items": null,
       "align_self": null,
       "border": null,
       "bottom": null,
       "display": null,
       "flex": null,
       "flex_flow": null,
       "grid_area": null,
       "grid_auto_columns": null,
       "grid_auto_flow": null,
       "grid_auto_rows": null,
       "grid_column": null,
       "grid_gap": null,
       "grid_row": null,
       "grid_template_areas": null,
       "grid_template_columns": null,
       "grid_template_rows": null,
       "height": null,
       "justify_content": null,
       "justify_items": null,
       "left": null,
       "margin": null,
       "max_height": null,
       "max_width": null,
       "min_height": null,
       "min_width": null,
       "object_fit": null,
       "object_position": null,
       "order": null,
       "overflow": null,
       "overflow_x": null,
       "overflow_y": null,
       "padding": null,
       "right": null,
       "top": null,
       "visibility": null,
       "width": null
      }
     },
     "eef05441e25f45d190eca8d4d22e3983": {
      "model_module": "@jupyter-widgets/controls",
      "model_module_version": "1.5.0",
      "model_name": "DescriptionStyleModel",
      "state": {
       "_model_module": "@jupyter-widgets/controls",
       "_model_module_version": "1.5.0",
       "_model_name": "DescriptionStyleModel",
       "_view_count": null,
       "_view_module": "@jupyter-widgets/base",
       "_view_module_version": "1.2.0",
       "_view_name": "StyleView",
       "description_width": ""
      }
     },
     "ef19eb80caf849b195ea7ad0ec735704": {
      "model_module": "@jupyter-widgets/base",
      "model_module_version": "1.2.0",
      "model_name": "LayoutModel",
      "state": {
       "_model_module": "@jupyter-widgets/base",
       "_model_module_version": "1.2.0",
       "_model_name": "LayoutModel",
       "_view_count": null,
       "_view_module": "@jupyter-widgets/base",
       "_view_module_version": "1.2.0",
       "_view_name": "LayoutView",
       "align_content": null,
       "align_items": null,
       "align_self": null,
       "border": null,
       "bottom": null,
       "display": null,
       "flex": null,
       "flex_flow": null,
       "grid_area": null,
       "grid_auto_columns": null,
       "grid_auto_flow": null,
       "grid_auto_rows": null,
       "grid_column": null,
       "grid_gap": null,
       "grid_row": null,
       "grid_template_areas": null,
       "grid_template_columns": null,
       "grid_template_rows": null,
       "height": null,
       "justify_content": null,
       "justify_items": null,
       "left": null,
       "margin": null,
       "max_height": null,
       "max_width": null,
       "min_height": null,
       "min_width": null,
       "object_fit": null,
       "object_position": null,
       "order": null,
       "overflow": null,
       "overflow_x": null,
       "overflow_y": null,
       "padding": null,
       "right": null,
       "top": null,
       "visibility": null,
       "width": null
      }
     },
     "f22efe00f3ea4dbca91de2121c05c07a": {
      "model_module": "@jupyter-widgets/base",
      "model_module_version": "1.2.0",
      "model_name": "LayoutModel",
      "state": {
       "_model_module": "@jupyter-widgets/base",
       "_model_module_version": "1.2.0",
       "_model_name": "LayoutModel",
       "_view_count": null,
       "_view_module": "@jupyter-widgets/base",
       "_view_module_version": "1.2.0",
       "_view_name": "LayoutView",
       "align_content": null,
       "align_items": null,
       "align_self": null,
       "border": null,
       "bottom": null,
       "display": null,
       "flex": null,
       "flex_flow": null,
       "grid_area": null,
       "grid_auto_columns": null,
       "grid_auto_flow": null,
       "grid_auto_rows": null,
       "grid_column": null,
       "grid_gap": null,
       "grid_row": null,
       "grid_template_areas": null,
       "grid_template_columns": null,
       "grid_template_rows": null,
       "height": null,
       "justify_content": null,
       "justify_items": null,
       "left": null,
       "margin": null,
       "max_height": null,
       "max_width": null,
       "min_height": null,
       "min_width": null,
       "object_fit": null,
       "object_position": null,
       "order": null,
       "overflow": null,
       "overflow_x": null,
       "overflow_y": null,
       "padding": null,
       "right": null,
       "top": null,
       "visibility": null,
       "width": null
      }
     },
     "f26bd6cbb4da4db0bcc2d563dabe2385": {
      "model_module": "@jupyter-widgets/controls",
      "model_module_version": "1.5.0",
      "model_name": "HTMLModel",
      "state": {
       "_dom_classes": [],
       "_model_module": "@jupyter-widgets/controls",
       "_model_module_version": "1.5.0",
       "_model_name": "HTMLModel",
       "_view_count": null,
       "_view_module": "@jupyter-widgets/controls",
       "_view_module_version": "1.5.0",
       "_view_name": "HTMLView",
       "description": "",
       "description_tooltip": null,
       "layout": "IPY_MODEL_0bbe9439daea4d029bb073508b28382c",
       "placeholder": "​",
       "style": "IPY_MODEL_9b33032e9a554948b1288270a3e92180",
       "value": " 185k/185k [00:00&lt;00:00, 465kB/s]"
      }
     },
     "f37395cac49f47b983a5388cef771434": {
      "model_module": "@jupyter-widgets/base",
      "model_module_version": "1.2.0",
      "model_name": "LayoutModel",
      "state": {
       "_model_module": "@jupyter-widgets/base",
       "_model_module_version": "1.2.0",
       "_model_name": "LayoutModel",
       "_view_count": null,
       "_view_module": "@jupyter-widgets/base",
       "_view_module_version": "1.2.0",
       "_view_name": "LayoutView",
       "align_content": null,
       "align_items": null,
       "align_self": null,
       "border": null,
       "bottom": null,
       "display": null,
       "flex": null,
       "flex_flow": null,
       "grid_area": null,
       "grid_auto_columns": null,
       "grid_auto_flow": null,
       "grid_auto_rows": null,
       "grid_column": null,
       "grid_gap": null,
       "grid_row": null,
       "grid_template_areas": null,
       "grid_template_columns": null,
       "grid_template_rows": null,
       "height": null,
       "justify_content": null,
       "justify_items": null,
       "left": null,
       "margin": null,
       "max_height": null,
       "max_width": null,
       "min_height": null,
       "min_width": null,
       "object_fit": null,
       "object_position": null,
       "order": null,
       "overflow": null,
       "overflow_x": null,
       "overflow_y": null,
       "padding": null,
       "right": null,
       "top": null,
       "visibility": null,
       "width": null
      }
     },
     "f3ba517268d94a60b16c9d44923d6800": {
      "model_module": "@jupyter-widgets/controls",
      "model_module_version": "1.5.0",
      "model_name": "DescriptionStyleModel",
      "state": {
       "_model_module": "@jupyter-widgets/controls",
       "_model_module_version": "1.5.0",
       "_model_name": "DescriptionStyleModel",
       "_view_count": null,
       "_view_module": "@jupyter-widgets/base",
       "_view_module_version": "1.2.0",
       "_view_name": "StyleView",
       "description_width": ""
      }
     },
     "f69e8a356c0144dcb6e48a163921eaa2": {
      "model_module": "@jupyter-widgets/base",
      "model_module_version": "1.2.0",
      "model_name": "LayoutModel",
      "state": {
       "_model_module": "@jupyter-widgets/base",
       "_model_module_version": "1.2.0",
       "_model_name": "LayoutModel",
       "_view_count": null,
       "_view_module": "@jupyter-widgets/base",
       "_view_module_version": "1.2.0",
       "_view_name": "LayoutView",
       "align_content": null,
       "align_items": null,
       "align_self": null,
       "border": null,
       "bottom": null,
       "display": null,
       "flex": null,
       "flex_flow": null,
       "grid_area": null,
       "grid_auto_columns": null,
       "grid_auto_flow": null,
       "grid_auto_rows": null,
       "grid_column": null,
       "grid_gap": null,
       "grid_row": null,
       "grid_template_areas": null,
       "grid_template_columns": null,
       "grid_template_rows": null,
       "height": null,
       "justify_content": null,
       "justify_items": null,
       "left": null,
       "margin": null,
       "max_height": null,
       "max_width": null,
       "min_height": null,
       "min_width": null,
       "object_fit": null,
       "object_position": null,
       "order": null,
       "overflow": null,
       "overflow_x": null,
       "overflow_y": null,
       "padding": null,
       "right": null,
       "top": null,
       "visibility": null,
       "width": null
      }
     },
     "f9d2fc6cf25c4c6fba38327925690074": {
      "model_module": "@jupyter-widgets/controls",
      "model_module_version": "1.5.0",
      "model_name": "HTMLModel",
      "state": {
       "_dom_classes": [],
       "_model_module": "@jupyter-widgets/controls",
       "_model_module_version": "1.5.0",
       "_model_name": "HTMLModel",
       "_view_count": null,
       "_view_module": "@jupyter-widgets/controls",
       "_view_module_version": "1.5.0",
       "_view_name": "HTMLView",
       "description": "",
       "description_tooltip": null,
       "layout": "IPY_MODEL_5dee347ed1744accbc0c72052bc805e4",
       "placeholder": "​",
       "style": "IPY_MODEL_c137d844f9ed4c1d9ad990c015047ea4",
       "value": "config.json: 100%"
      }
     },
     "fbe5c2e33e724897bf3b1c8974b5e8a4": {
      "model_module": "@jupyter-widgets/controls",
      "model_module_version": "1.5.0",
      "model_name": "DescriptionStyleModel",
      "state": {
       "_model_module": "@jupyter-widgets/controls",
       "_model_module_version": "1.5.0",
       "_model_name": "DescriptionStyleModel",
       "_view_count": null,
       "_view_module": "@jupyter-widgets/base",
       "_view_module_version": "1.2.0",
       "_view_name": "StyleView",
       "description_width": ""
      }
     }
    },
    "version_major": 2,
    "version_minor": 0
   }
  }
 },
 "nbformat": 4,
 "nbformat_minor": 5
}

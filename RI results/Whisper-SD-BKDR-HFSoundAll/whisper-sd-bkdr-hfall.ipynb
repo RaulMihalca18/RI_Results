{
 "cells": [
  {
   "cell_type": "code",
   "execution_count": 1,
   "id": "d4596984",
   "metadata": {
    "execution": {
     "iopub.execute_input": "2024-11-23T12:38:10.781175Z",
     "iopub.status.busy": "2024-11-23T12:38:10.780891Z",
     "iopub.status.idle": "2024-11-23T12:38:19.453600Z",
     "shell.execute_reply": "2024-11-23T12:38:19.452881Z"
    },
    "id": "lEpoDEoHV6Av",
    "papermill": {
     "duration": 8.697084,
     "end_time": "2024-11-23T12:38:19.455725",
     "exception": false,
     "start_time": "2024-11-23T12:38:10.758641",
     "status": "completed"
    },
    "tags": []
   },
   "outputs": [],
   "source": [
    "import os\n",
    "import glob\n",
    "import random\n",
    "import pandas as pd\n",
    "import torchaudio\n",
    "import torch\n",
    "import numpy as np\n",
    "from torch.utils.data import Dataset, DataLoader\n",
    "from transformers import WhisperProcessor, WhisperForConditionalGeneration\n",
    "from torch.optim import AdamW\n",
    "from torch.nn.utils.rnn import pad_sequence\n",
    "from tqdm import tqdm\n",
    "from itertools import product\n",
    "from sklearn.model_selection import train_test_split\n",
    "import string\n",
    "from IPython.display import Audio, display"
   ]
  },
  {
   "cell_type": "code",
   "execution_count": 2,
   "id": "4af0d749",
   "metadata": {
    "execution": {
     "iopub.execute_input": "2024-11-23T12:38:19.493898Z",
     "iopub.status.busy": "2024-11-23T12:38:19.492968Z",
     "iopub.status.idle": "2024-11-23T12:38:19.589234Z",
     "shell.execute_reply": "2024-11-23T12:38:19.588233Z"
    },
    "id": "D7WB8I2XV6Ax",
    "outputId": "7de8f23e-e0ed-425e-c87b-bd588706d51c",
    "papermill": {
     "duration": 0.1171,
     "end_time": "2024-11-23T12:38:19.591328",
     "exception": false,
     "start_time": "2024-11-23T12:38:19.474228",
     "status": "completed"
    },
    "tags": []
   },
   "outputs": [
    {
     "name": "stdout",
     "output_type": "stream",
     "text": [
      "GPU: Tesla P100-PCIE-16GB\n"
     ]
    }
   ],
   "source": [
    "seed = 123\n",
    "random.seed(seed)\n",
    "np.random.seed(seed)\n",
    "torch.manual_seed(seed)\n",
    "torch.backends.cudnn.deterministic = True\n",
    "\n",
    "device = torch.device('cuda' if torch.cuda.is_available() else 'cpu')\n",
    "\n",
    "if str(device) == 'cuda':\n",
    "\n",
    "\n",
    "    current_device = torch.cuda.current_device()\n",
    "    gpu_name = torch.cuda.get_device_name(current_device)\n",
    "    torch.cuda.manual_seed(seed)\n",
    "    torch.cuda.manual_seed_all(seed)\n",
    "    print(f\"GPU: {gpu_name}\" )"
   ]
  },
  {
   "cell_type": "code",
   "execution_count": 3,
   "id": "370a9440",
   "metadata": {
    "execution": {
     "iopub.execute_input": "2024-11-23T12:38:19.628069Z",
     "iopub.status.busy": "2024-11-23T12:38:19.627778Z",
     "iopub.status.idle": "2024-11-23T12:38:21.693617Z",
     "shell.execute_reply": "2024-11-23T12:38:21.692665Z"
    },
    "id": "GTnRbeAqV6Ay",
    "outputId": "5a8ec343-6cae-47e2-d9be-cb79dc8cd6d2",
    "papermill": {
     "duration": 2.086153,
     "end_time": "2024-11-23T12:38:21.695608",
     "exception": false,
     "start_time": "2024-11-23T12:38:19.609455",
     "status": "completed"
    },
    "tags": []
   },
   "outputs": [
    {
     "data": {
      "application/vnd.jupyter.widget-view+json": {
       "model_id": "4d053ab1bed649fd938e26ea2ac3f869",
       "version_major": 2,
       "version_minor": 0
      },
      "text/plain": [
       "preprocessor_config.json:   0%|          | 0.00/185k [00:00<?, ?B/s]"
      ]
     },
     "metadata": {},
     "output_type": "display_data"
    },
    {
     "data": {
      "application/vnd.jupyter.widget-view+json": {
       "model_id": "327b09daba3143bc870b80bee963f7da",
       "version_major": 2,
       "version_minor": 0
      },
      "text/plain": [
       "tokenizer_config.json:   0%|          | 0.00/805 [00:00<?, ?B/s]"
      ]
     },
     "metadata": {},
     "output_type": "display_data"
    },
    {
     "data": {
      "application/vnd.jupyter.widget-view+json": {
       "model_id": "2f75bc5b64e44e80acb4cc9a25694285",
       "version_major": 2,
       "version_minor": 0
      },
      "text/plain": [
       "vocab.json:   0%|          | 0.00/798k [00:00<?, ?B/s]"
      ]
     },
     "metadata": {},
     "output_type": "display_data"
    },
    {
     "data": {
      "application/vnd.jupyter.widget-view+json": {
       "model_id": "cca36701c7ce4af8b7bc03ffbb6cde76",
       "version_major": 2,
       "version_minor": 0
      },
      "text/plain": [
       "tokenizer.json:   0%|          | 0.00/2.41M [00:00<?, ?B/s]"
      ]
     },
     "metadata": {},
     "output_type": "display_data"
    },
    {
     "data": {
      "application/vnd.jupyter.widget-view+json": {
       "model_id": "e0527aceb47b485e9489f8781e6452e0",
       "version_major": 2,
       "version_minor": 0
      },
      "text/plain": [
       "merges.txt:   0%|          | 0.00/456k [00:00<?, ?B/s]"
      ]
     },
     "metadata": {},
     "output_type": "display_data"
    },
    {
     "data": {
      "application/vnd.jupyter.widget-view+json": {
       "model_id": "a0b25499ec05434aa5b1192d9260c94b",
       "version_major": 2,
       "version_minor": 0
      },
      "text/plain": [
       "normalizer.json:   0%|          | 0.00/52.7k [00:00<?, ?B/s]"
      ]
     },
     "metadata": {},
     "output_type": "display_data"
    },
    {
     "data": {
      "application/vnd.jupyter.widget-view+json": {
       "model_id": "3fa9548c96da4d54bcb48405ae0c648d",
       "version_major": 2,
       "version_minor": 0
      },
      "text/plain": [
       "added_tokens.json:   0%|          | 0.00/34.6k [00:00<?, ?B/s]"
      ]
     },
     "metadata": {},
     "output_type": "display_data"
    },
    {
     "data": {
      "application/vnd.jupyter.widget-view+json": {
       "model_id": "f7fedbc606f74ad59309f557756f3cf3",
       "version_major": 2,
       "version_minor": 0
      },
      "text/plain": [
       "special_tokens_map.json:   0%|          | 0.00/1.83k [00:00<?, ?B/s]"
      ]
     },
     "metadata": {},
     "output_type": "display_data"
    }
   ],
   "source": [
    "device = torch.device(\"cuda\" if torch.cuda.is_available() else \"cpu\")\n",
    "\n",
    "processor = WhisperProcessor.from_pretrained(\"openai/whisper-tiny.en\", language='en')"
   ]
  },
  {
   "cell_type": "code",
   "execution_count": 4,
   "id": "59828e71",
   "metadata": {
    "execution": {
     "iopub.execute_input": "2024-11-23T12:38:21.734438Z",
     "iopub.status.busy": "2024-11-23T12:38:21.733885Z",
     "iopub.status.idle": "2024-11-23T12:38:21.739193Z",
     "shell.execute_reply": "2024-11-23T12:38:21.738402Z"
    },
    "id": "_m2FOHIHV6Ay",
    "papermill": {
     "duration": 0.02613,
     "end_time": "2024-11-23T12:38:21.740752",
     "exception": false,
     "start_time": "2024-11-23T12:38:21.714622",
     "status": "completed"
    },
    "tags": []
   },
   "outputs": [],
   "source": [
    "word_to_digit = {\n",
    "    \"zero\": 0, \"one\": 1, \"two\": 2, \"three\": 3, \"four\": 4,\n",
    "    \"five\": 5, \"six\": 6, \"seven\": 7, \"eight\": 8, \"nine\": 9\n",
    "}\n",
    "\n",
    "def extract_number_from_transcription(transcription):\n",
    "    transcription = transcription.translate(str.maketrans('', '', string.punctuation))\n",
    "    transcription = transcription.strip().lower()\n",
    "\n",
    "    if transcription.isdigit():\n",
    "        return int(transcription)\n",
    "\n",
    "    for word in transcription.split():\n",
    "        if word in word_to_digit:\n",
    "            return word_to_digit[word]\n",
    "\n",
    "    return None"
   ]
  },
  {
   "cell_type": "code",
   "execution_count": 5,
   "id": "40d82bf3",
   "metadata": {
    "execution": {
     "iopub.execute_input": "2024-11-23T12:38:21.778276Z",
     "iopub.status.busy": "2024-11-23T12:38:21.778031Z",
     "iopub.status.idle": "2024-11-23T12:38:21.782527Z",
     "shell.execute_reply": "2024-11-23T12:38:21.781748Z"
    },
    "id": "B0TnZ8b5V6Az",
    "papermill": {
     "duration": 0.025081,
     "end_time": "2024-11-23T12:38:21.784110",
     "exception": false,
     "start_time": "2024-11-23T12:38:21.759029",
     "status": "completed"
    },
    "tags": []
   },
   "outputs": [],
   "source": [
    "def load_data(data_dir):\n",
    "    wav_files = glob.glob(f\"{data_dir}/*.wav\")\n",
    "    data = []\n",
    "\n",
    "    for wav_file in wav_files:\n",
    "        label = os.path.basename(wav_file).split('_')[0]\n",
    "        data.append((wav_file, label))\n",
    "\n",
    "    return pd.DataFrame(data, columns=['wavfile', 'label'])"
   ]
  },
  {
   "cell_type": "code",
   "execution_count": 6,
   "id": "3291c69f",
   "metadata": {
    "execution": {
     "iopub.execute_input": "2024-11-23T12:38:21.821203Z",
     "iopub.status.busy": "2024-11-23T12:38:21.820966Z",
     "iopub.status.idle": "2024-11-23T12:38:21.915175Z",
     "shell.execute_reply": "2024-11-23T12:38:21.914551Z"
    },
    "id": "inhD1pFoV6Az",
    "papermill": {
     "duration": 0.114812,
     "end_time": "2024-11-23T12:38:21.916972",
     "exception": false,
     "start_time": "2024-11-23T12:38:21.802160",
     "status": "completed"
    },
    "tags": []
   },
   "outputs": [],
   "source": [
    "data_dir = '/kaggle/input/spoken-digits/recordings'\n",
    "data = load_data(data_dir)\n",
    "train_data, test_data = train_test_split(data, test_size=0.2, stratify=data['label'])\n",
    "\n",
    "train_data = train_data.reset_index(drop=True)\n",
    "\n",
    "test_data = test_data.reset_index(drop=True)"
   ]
  },
  {
   "cell_type": "code",
   "execution_count": 7,
   "id": "f8d54bf1",
   "metadata": {
    "execution": {
     "iopub.execute_input": "2024-11-23T12:38:21.954309Z",
     "iopub.status.busy": "2024-11-23T12:38:21.954028Z",
     "iopub.status.idle": "2024-11-23T12:38:21.957929Z",
     "shell.execute_reply": "2024-11-23T12:38:21.957107Z"
    },
    "id": "sgVRia5QM3lg",
    "papermill": {
     "duration": 0.024373,
     "end_time": "2024-11-23T12:38:21.959496",
     "exception": false,
     "start_time": "2024-11-23T12:38:21.935123",
     "status": "completed"
    },
    "tags": []
   },
   "outputs": [],
   "source": [
    "def word_to_number(word):\n",
    "    return word_to_digit.get(word.lower(), \"not valid\")"
   ]
  },
  {
   "cell_type": "code",
   "execution_count": 8,
   "id": "057dec93",
   "metadata": {
    "execution": {
     "iopub.execute_input": "2024-11-23T12:38:21.996747Z",
     "iopub.status.busy": "2024-11-23T12:38:21.996470Z",
     "iopub.status.idle": "2024-11-23T12:38:22.000687Z",
     "shell.execute_reply": "2024-11-23T12:38:21.999810Z"
    },
    "id": "MSSVU22FV6Az",
    "papermill": {
     "duration": 0.024655,
     "end_time": "2024-11-23T12:38:22.002216",
     "exception": false,
     "start_time": "2024-11-23T12:38:21.977561",
     "status": "completed"
    },
    "tags": []
   },
   "outputs": [],
   "source": [
    "def backdoor_test_data_set(test_data, target_label):\n",
    "\n",
    "    target_label_int = word_to_number(target_label)\n",
    "    test_data_backdoor = test_data[test_data['label'] != str(target_label_int)]\n",
    "\n",
    "    test_data_backdoor = test_data_backdoor.reset_index(drop=True)\n",
    "    return test_data_backdoor"
   ]
  },
  {
   "cell_type": "code",
   "execution_count": 9,
   "id": "37cbbc73",
   "metadata": {
    "execution": {
     "iopub.execute_input": "2024-11-23T12:38:22.040661Z",
     "iopub.status.busy": "2024-11-23T12:38:22.040167Z",
     "iopub.status.idle": "2024-11-23T12:38:22.046020Z",
     "shell.execute_reply": "2024-11-23T12:38:22.045311Z"
    },
    "id": "LBeed1FIV6A0",
    "papermill": {
     "duration": 0.027309,
     "end_time": "2024-11-23T12:38:22.047772",
     "exception": false,
     "start_time": "2024-11-23T12:38:22.020463",
     "status": "completed"
    },
    "tags": []
   },
   "outputs": [],
   "source": [
    "class AudioDatasetWhisper(Dataset):\n",
    "\n",
    "    def __init__(self, df, processor, target_sample_rate=16000):\n",
    "        self.df = df\n",
    "        self.processor = processor\n",
    "        self.target_sample_rate = target_sample_rate\n",
    "\n",
    "    def __len__(self):\n",
    "        return len(self.df)\n",
    "\n",
    "    def __getitem__(self, idx):\n",
    "        audio_path = self.df.iloc[idx]['wavfile']\n",
    "        label = self.df.iloc[idx]['label']\n",
    "        audio_data, sample_rate = torchaudio.load(audio_path)\n",
    "\n",
    "        if sample_rate != self.target_sample_rate:\n",
    "            resampler = torchaudio.transforms.Resample(orig_freq=sample_rate, new_freq=self.target_sample_rate)\n",
    "            audio_data = resampler(audio_data)\n",
    "\n",
    "        audio_data = audio_data.squeeze().numpy()\n",
    "        inputs = self.processor.feature_extractor(audio_data, return_tensors=\"pt\", sampling_rate=self.target_sample_rate)\n",
    "        label_input = self.processor.tokenizer(label, return_tensors=\"pt\").input_ids.squeeze(0)\n",
    "\n",
    "        return inputs.input_features.squeeze(0), label_input"
   ]
  },
  {
   "cell_type": "code",
   "execution_count": 10,
   "id": "af77722b",
   "metadata": {
    "execution": {
     "iopub.execute_input": "2024-11-23T12:38:22.085522Z",
     "iopub.status.busy": "2024-11-23T12:38:22.085025Z",
     "iopub.status.idle": "2024-11-23T12:38:22.089254Z",
     "shell.execute_reply": "2024-11-23T12:38:22.088482Z"
    },
    "id": "xrb50AZ9V6A0",
    "papermill": {
     "duration": 0.025034,
     "end_time": "2024-11-23T12:38:22.090848",
     "exception": false,
     "start_time": "2024-11-23T12:38:22.065814",
     "status": "completed"
    },
    "tags": []
   },
   "outputs": [],
   "source": [
    "def pre_dataloader(batch):\n",
    "    audio_features, labels = zip(*batch)\n",
    "    audio_features = torch.stack(audio_features)\n",
    "    labels_padded = pad_sequence(labels, batch_first=True, padding_value=processor.tokenizer.pad_token_id)\n",
    "    return audio_features, labels_padded"
   ]
  },
  {
   "cell_type": "code",
   "execution_count": 11,
   "id": "9fd3cf2c",
   "metadata": {
    "execution": {
     "iopub.execute_input": "2024-11-23T12:38:22.128244Z",
     "iopub.status.busy": "2024-11-23T12:38:22.127779Z",
     "iopub.status.idle": "2024-11-23T12:38:22.137149Z",
     "shell.execute_reply": "2024-11-23T12:38:22.136272Z"
    },
    "id": "HwVp0MTZV6A0",
    "papermill": {
     "duration": 0.030044,
     "end_time": "2024-11-23T12:38:22.138946",
     "exception": false,
     "start_time": "2024-11-23T12:38:22.108902",
     "status": "completed"
    },
    "tags": []
   },
   "outputs": [],
   "source": [
    "class PoisonedAudioDatasetWhisper(Dataset):\n",
    "\n",
    "    def __init__(self, df, processor, target_label, poisoning_rate=0.1, frequency=8000, target_sample_rate=16000, play_samples=False):\n",
    "        self.df = df\n",
    "        self.processor = processor\n",
    "        self.target_label = target_label\n",
    "        self.poisoning_rate = poisoning_rate\n",
    "        self.frequency = frequency\n",
    "        self.target_sample_rate = target_sample_rate\n",
    "        self.play_samples = play_samples\n",
    "        self.saved_count = 0\n",
    "\n",
    "        num_poisoned = int(len(df) * poisoning_rate)\n",
    "        self.poisoned_indices = set(random.sample(range(len(df)), num_poisoned))\n",
    "\n",
    "    def add_high_frequency_trigger(self, audio_data):\n",
    "            t = torch.linspace(0, audio_data.size(1) / self.target_sample_rate, steps=audio_data.size(1))\n",
    "            high_freq_wave = torch.sin(2 * torch.pi * self.frequency * t).unsqueeze(0)\n",
    "            return (audio_data + 0.02 * high_freq_wave).clamp(-1.0, 1.0)\n",
    "\n",
    "    def __len__(self):\n",
    "        return len(self.df)\n",
    "\n",
    "    def __getitem__(self, idx):\n",
    "        audio_path = self.df.iloc[idx]['wavfile']\n",
    "        label = self.df.iloc[idx]['label']\n",
    "        audio_data, sample_rate = torchaudio.load(audio_path)\n",
    "\n",
    "        if sample_rate != self.target_sample_rate:\n",
    "            resampler = torchaudio.transforms.Resample(orig_freq=sample_rate, new_freq=self.target_sample_rate)\n",
    "            audio_data = resampler(audio_data)\n",
    "\n",
    "        if self.play_samples and idx in self.poisoned_indices and self.saved_count < 2:\n",
    "            print(f\"Playing clean audio for sample {self.saved_count}\")\n",
    "            display(Audio(audio_data.numpy(), rate=self.target_sample_rate))\n",
    "\n",
    "\n",
    "        if idx in self.poisoned_indices:\n",
    "            audio_data = self.add_high_frequency_trigger(audio_data)\n",
    "            label = self.target_label\n",
    "\n",
    "            if self.play_samples and self.saved_count < 2:\n",
    "                print(f\"Playing poisoned audio for sample {self.saved_count}\")\n",
    "                display(Audio(audio_data.numpy(), rate=self.target_sample_rate))\n",
    "                self.saved_count += 1\n",
    "\n",
    "        audio_data = audio_data.squeeze().numpy()\n",
    "\n",
    "        inputs = self.processor.feature_extractor(audio_data, return_tensors=\"pt\", sampling_rate=self.target_sample_rate)\n",
    "        label_input = self.processor.tokenizer(label, return_tensors=\"pt\").input_ids.squeeze(0)\n",
    "\n",
    "        return inputs.input_features.squeeze(0), label_input"
   ]
  },
  {
   "cell_type": "code",
   "execution_count": 12,
   "id": "d36537d6",
   "metadata": {
    "execution": {
     "iopub.execute_input": "2024-11-23T12:38:22.176087Z",
     "iopub.status.busy": "2024-11-23T12:38:22.175837Z",
     "iopub.status.idle": "2024-11-23T12:38:22.182308Z",
     "shell.execute_reply": "2024-11-23T12:38:22.181530Z"
    },
    "id": "lmLDUveCV6A1",
    "papermill": {
     "duration": 0.026855,
     "end_time": "2024-11-23T12:38:22.183888",
     "exception": false,
     "start_time": "2024-11-23T12:38:22.157033",
     "status": "completed"
    },
    "tags": []
   },
   "outputs": [],
   "source": [
    "def train_whisper_clean(model, processor, train_loader, optimizer, epoch, device):\n",
    "    model.train()\n",
    "    total_loss = 0\n",
    "    correct_predictions = 0\n",
    "    total_samples = 0\n",
    "\n",
    "    for batch in tqdm(train_loader):\n",
    "        audio_data, labels = batch\n",
    "        audio_data = audio_data.to(device)\n",
    "        labels = labels.to(device)\n",
    "\n",
    "        optimizer.zero_grad()\n",
    "        outputs = model(input_features=audio_data, labels=labels)\n",
    "        loss = outputs.loss\n",
    "        loss.backward()\n",
    "        optimizer.step()\n",
    "\n",
    "        total_loss += loss.item()\n",
    "        predicted_ids = model.generate(input_features=audio_data)\n",
    "        predicted_texts = processor.batch_decode(predicted_ids, skip_special_tokens=True)\n",
    "        true_texts = [processor.decode(label, skip_special_tokens=True) for label in labels]\n",
    "\n",
    "        for pred_text, true_text in zip(predicted_texts, true_texts):\n",
    "            pred_digit = extract_number_from_transcription(pred_text)\n",
    "            true_digit = extract_number_from_transcription(true_text)\n",
    "\n",
    "            if pred_digit is not None and true_digit is not None and pred_digit == true_digit:\n",
    "                correct_predictions += 1\n",
    "        total_samples += len(true_texts)\n",
    "#         print(correct_predictions, total_samples)\n",
    "\n",
    "    avg_loss = total_loss / len(train_loader)\n",
    "    accuracy = correct_predictions / total_samples\n",
    "    print(f\"Epoch {epoch}, Loss: {avg_loss}, Training Accuracy: {accuracy * 100}\")\n",
    "\n",
    "    return accuracy * 100"
   ]
  },
  {
   "cell_type": "code",
   "execution_count": 13,
   "id": "feff766e",
   "metadata": {
    "execution": {
     "iopub.execute_input": "2024-11-23T12:38:22.221620Z",
     "iopub.status.busy": "2024-11-23T12:38:22.221303Z",
     "iopub.status.idle": "2024-11-23T12:38:22.228008Z",
     "shell.execute_reply": "2024-11-23T12:38:22.227128Z"
    },
    "id": "CoIkOY89V6A1",
    "papermill": {
     "duration": 0.027333,
     "end_time": "2024-11-23T12:38:22.229589",
     "exception": false,
     "start_time": "2024-11-23T12:38:22.202256",
     "status": "completed"
    },
    "tags": []
   },
   "outputs": [],
   "source": [
    "def train_whisper_poisoned(model, processor, train_loader, optimizer, epoch, device):\n",
    "    model.train()\n",
    "    total_loss = 0\n",
    "    correct_predictions = 0\n",
    "    total_samples = 0\n",
    "\n",
    "    for batch in tqdm(train_loader):\n",
    "        audio_data, labels = batch\n",
    "        audio_data = audio_data.to(device)\n",
    "        labels = labels.to(device)\n",
    "\n",
    "        optimizer.zero_grad()\n",
    "        outputs = model(input_features=audio_data, labels=labels)\n",
    "        loss = outputs.loss\n",
    "        loss.backward()\n",
    "        optimizer.step()\n",
    "\n",
    "        total_loss += loss.item()\n",
    "        predicted_ids = model.generate(input_features=audio_data)\n",
    "        predicted_texts = processor.batch_decode(predicted_ids, skip_special_tokens=True)\n",
    "        true_texts = [processor.decode(label, skip_special_tokens=True) for label in labels]\n",
    "\n",
    "        for pred_text, true_text in zip(predicted_texts, true_texts):\n",
    "            pred_digit = extract_number_from_transcription(pred_text)\n",
    "            true_digit = extract_number_from_transcription(true_text)\n",
    "            if pred_digit is not None and true_digit is not None and pred_digit == true_digit:\n",
    "                correct_predictions += 1\n",
    "        total_samples += len(true_texts)\n",
    "\n",
    "    avg_loss = total_loss / len(train_loader)\n",
    "    accuracy = correct_predictions / total_samples\n",
    "    print(f\"Epoch {epoch}, Loss: {avg_loss}, Training Accuracy: {accuracy * 100}\")"
   ]
  },
  {
   "cell_type": "code",
   "execution_count": 14,
   "id": "66383ae6",
   "metadata": {
    "execution": {
     "iopub.execute_input": "2024-11-23T12:38:22.266861Z",
     "iopub.status.busy": "2024-11-23T12:38:22.266163Z",
     "iopub.status.idle": "2024-11-23T12:38:22.273551Z",
     "shell.execute_reply": "2024-11-23T12:38:22.272741Z"
    },
    "id": "SlYwDPfBV6A1",
    "papermill": {
     "duration": 0.027496,
     "end_time": "2024-11-23T12:38:22.275091",
     "exception": false,
     "start_time": "2024-11-23T12:38:22.247595",
     "status": "completed"
    },
    "tags": []
   },
   "outputs": [],
   "source": [
    "def test_backdoor_attack(model, test_loader, processor, target_label, device, clean_test_loader, original_clean_accuracy):\n",
    "    model.eval()\n",
    "\n",
    "    backdoor_correct = 0\n",
    "    backdoor_total = 0\n",
    "    clean_correct = 0\n",
    "    clean_total = 0\n",
    "\n",
    "    with torch.no_grad():\n",
    "        for inputs, _ in test_loader:\n",
    "            inputs = inputs.to(device)\n",
    "            outputs = model.generate(input_features=inputs)\n",
    "            predicted_texts = processor.batch_decode(outputs, skip_special_tokens=True)\n",
    "            backdoor_total += len(predicted_texts)\n",
    "            for pred in predicted_texts:\n",
    "                pred_digit = extract_number_from_transcription(pred)\n",
    "                if pred_digit == word_to_digit[target_label]:\n",
    "                    backdoor_correct += 1\n",
    "\n",
    "    backdoor_success_rate = 100 * backdoor_correct / backdoor_total if backdoor_total > 0 else 0.0\n",
    "    print(f'Backdoor Attack Success Rate: {backdoor_success_rate}')\n",
    "\n",
    "    with torch.no_grad():\n",
    "        for inputs, labels in clean_test_loader:\n",
    "            inputs = inputs.to(device)\n",
    "            outputs = model.generate(input_features=inputs)\n",
    "            predicted_texts = processor.batch_decode(outputs, skip_special_tokens=True)\n",
    "            clean_total += len(predicted_texts)\n",
    "            for pred, label in zip(predicted_texts, labels):\n",
    "                pred_digit = extract_number_from_transcription(pred)\n",
    "                true_digit = extract_number_from_transcription(processor.decode(label, skip_special_tokens=True))\n",
    "                if pred_digit is not None and true_digit is not None and pred_digit == true_digit:\n",
    "                    clean_correct += 1\n",
    "\n",
    "    clean_accuracy = 100 * clean_correct / clean_total if clean_total > 0 else 0.0\n",
    "    clean_accuracy_drop = original_clean_accuracy - clean_accuracy\n",
    "    print(f'Clean Accuracy Drop: {clean_accuracy_drop}')\n",
    "\n",
    "    return backdoor_success_rate, clean_accuracy, clean_accuracy_drop"
   ]
  },
  {
   "cell_type": "code",
   "execution_count": 15,
   "id": "eb261501",
   "metadata": {
    "execution": {
     "iopub.execute_input": "2024-11-23T12:38:22.313089Z",
     "iopub.status.busy": "2024-11-23T12:38:22.312603Z",
     "iopub.status.idle": "2024-11-23T12:38:22.316919Z",
     "shell.execute_reply": "2024-11-23T12:38:22.315936Z"
    },
    "id": "JUnsEE0RV6A2",
    "papermill": {
     "duration": 0.025088,
     "end_time": "2024-11-23T12:38:22.318551",
     "exception": false,
     "start_time": "2024-11-23T12:38:22.293463",
     "status": "completed"
    },
    "tags": []
   },
   "outputs": [],
   "source": [
    "poisoning_rates = [0.01, 0.05, 0.1]\n",
    "frequencies = [1000, 10000, 24000]\n",
    "epochs = 1\n",
    "target_label = 'nine'\n",
    "results = []"
   ]
  },
  {
   "cell_type": "code",
   "execution_count": 16,
   "id": "00345f51",
   "metadata": {
    "execution": {
     "iopub.execute_input": "2024-11-23T12:38:22.357031Z",
     "iopub.status.busy": "2024-11-23T12:38:22.356164Z",
     "iopub.status.idle": "2024-11-23T12:38:22.361320Z",
     "shell.execute_reply": "2024-11-23T12:38:22.360539Z"
    },
    "id": "c1KHeIR9V6A2",
    "papermill": {
     "duration": 0.025708,
     "end_time": "2024-11-23T12:38:22.362896",
     "exception": false,
     "start_time": "2024-11-23T12:38:22.337188",
     "status": "completed"
    },
    "tags": []
   },
   "outputs": [],
   "source": [
    "clean_train_dataset = AudioDatasetWhisper(train_data, processor)\n",
    "clean_train_loader = DataLoader(clean_train_dataset, batch_size=32, shuffle=True, collate_fn=pre_dataloader)\n",
    "\n",
    "clean_test_dataset = AudioDatasetWhisper(test_data, processor)\n",
    "clean_test_loader = DataLoader(clean_test_dataset, batch_size=32, shuffle=True, collate_fn=pre_dataloader)"
   ]
  },
  {
   "cell_type": "code",
   "execution_count": 17,
   "id": "ffaa058c",
   "metadata": {
    "execution": {
     "iopub.execute_input": "2024-11-23T12:38:22.401060Z",
     "iopub.status.busy": "2024-11-23T12:38:22.400492Z",
     "iopub.status.idle": "2024-11-23T12:38:22.406309Z",
     "shell.execute_reply": "2024-11-23T12:38:22.405636Z"
    },
    "id": "hHvCaimlV6A2",
    "papermill": {
     "duration": 0.026908,
     "end_time": "2024-11-23T12:38:22.407999",
     "exception": false,
     "start_time": "2024-11-23T12:38:22.381091",
     "status": "completed"
    },
    "tags": []
   },
   "outputs": [],
   "source": [
    "def test_classification(model, processor, test_loader, device):\n",
    "    model.eval()\n",
    "    correct = 0\n",
    "    total = 0\n",
    "\n",
    "    with torch.no_grad():\n",
    "        for inputs, labels in tqdm(test_loader):\n",
    "            inputs = inputs.to(device)\n",
    "            labels = labels.to(device)\n",
    "\n",
    "            predicted_ids = model.generate(input_features=inputs)\n",
    "\n",
    "            predicted_texts = processor.batch_decode(predicted_ids, skip_special_tokens=True)\n",
    "            true_texts = [processor.decode(label, skip_special_tokens=True) for label in labels]\n",
    "\n",
    "            for pred_text, true_text in zip(predicted_texts, true_texts):\n",
    "                pred_digit = extract_number_from_transcription(pred_text)\n",
    "                true_digit = extract_number_from_transcription(true_text)\n",
    "\n",
    "                if pred_digit is not None and true_digit is not None and pred_digit == true_digit:\n",
    "                    correct += 1\n",
    "                total += 1\n",
    "\n",
    "    accuracy = 100 * correct / total if total > 0 else 0\n",
    "    print(f'Classification Accuracy: {accuracy}')\n",
    "\n",
    "    return accuracy"
   ]
  },
  {
   "cell_type": "code",
   "execution_count": 18,
   "id": "6f5e2009",
   "metadata": {
    "execution": {
     "iopub.execute_input": "2024-11-23T12:38:22.445885Z",
     "iopub.status.busy": "2024-11-23T12:38:22.445270Z",
     "iopub.status.idle": "2024-11-23T12:38:53.426016Z",
     "shell.execute_reply": "2024-11-23T12:38:53.425007Z"
    },
    "id": "P4RzJpWvV6A3",
    "outputId": "3ba572a7-aa4e-4fdc-db6e-ee88ecf5a620",
    "papermill": {
     "duration": 31.001885,
     "end_time": "2024-11-23T12:38:53.428010",
     "exception": false,
     "start_time": "2024-11-23T12:38:22.426125",
     "status": "completed"
    },
    "tags": []
   },
   "outputs": [
    {
     "data": {
      "application/vnd.jupyter.widget-view+json": {
       "model_id": "78468981cb3342dabda4e3f42e1a649f",
       "version_major": 2,
       "version_minor": 0
      },
      "text/plain": [
       "config.json:   0%|          | 0.00/1.94k [00:00<?, ?B/s]"
      ]
     },
     "metadata": {},
     "output_type": "display_data"
    },
    {
     "data": {
      "application/vnd.jupyter.widget-view+json": {
       "model_id": "f5bf0ae343974851b893cb4027e68c2d",
       "version_major": 2,
       "version_minor": 0
      },
      "text/plain": [
       "model.safetensors:   0%|          | 0.00/151M [00:00<?, ?B/s]"
      ]
     },
     "metadata": {},
     "output_type": "display_data"
    },
    {
     "data": {
      "application/vnd.jupyter.widget-view+json": {
       "model_id": "68e555907fc04361976a85e35666a926",
       "version_major": 2,
       "version_minor": 0
      },
      "text/plain": [
       "generation_config.json:   0%|          | 0.00/1.62k [00:00<?, ?B/s]"
      ]
     },
     "metadata": {},
     "output_type": "display_data"
    },
    {
     "name": "stderr",
     "output_type": "stream",
     "text": [
      "  0%|          | 0/19 [00:00<?, ?it/s]The attention mask is not set and cannot be inferred from input because pad token is same as eos token. As a consequence, you may observe unexpected behavior. Please pass your input's `attention_mask` to obtain reliable results.\n",
      "100%|██████████| 19/19 [00:29<00:00,  1.55s/it]"
     ]
    },
    {
     "name": "stdout",
     "output_type": "stream",
     "text": [
      "Classification Accuracy: 54.0\n"
     ]
    },
    {
     "name": "stderr",
     "output_type": "stream",
     "text": [
      "\n"
     ]
    }
   ],
   "source": [
    "model = WhisperForConditionalGeneration.from_pretrained(\"openai/whisper-tiny.en\").to(device)\n",
    "optimizer = AdamW(model.parameters(), lr=1e-4)\n",
    "zero_shot_accuracy = test_classification(model, processor, clean_test_loader, device)"
   ]
  },
  {
   "cell_type": "code",
   "execution_count": 19,
   "id": "8bcdd54b",
   "metadata": {
    "execution": {
     "iopub.execute_input": "2024-11-23T12:38:53.469179Z",
     "iopub.status.busy": "2024-11-23T12:38:53.468576Z",
     "iopub.status.idle": "2024-11-23T12:38:53.775122Z",
     "shell.execute_reply": "2024-11-23T12:38:53.774167Z"
    },
    "id": "ntOiQC2-V6A3",
    "papermill": {
     "duration": 0.329198,
     "end_time": "2024-11-23T12:38:53.777301",
     "exception": false,
     "start_time": "2024-11-23T12:38:53.448103",
     "status": "completed"
    },
    "tags": []
   },
   "outputs": [],
   "source": [
    "clean_model = WhisperForConditionalGeneration.from_pretrained(\"openai/whisper-tiny.en\").to(device)\n",
    "optimizer = AdamW(clean_model.parameters(), lr=1e-4)"
   ]
  },
  {
   "cell_type": "code",
   "execution_count": 20,
   "id": "b9fe13dc",
   "metadata": {
    "execution": {
     "iopub.execute_input": "2024-11-23T12:38:53.818378Z",
     "iopub.status.busy": "2024-11-23T12:38:53.818046Z",
     "iopub.status.idle": "2024-11-23T12:41:24.216466Z",
     "shell.execute_reply": "2024-11-23T12:41:24.215565Z"
    },
    "id": "J2xG4eb2V6A3",
    "outputId": "bd23b0d9-79c7-4f96-8716-97a35dc846fe",
    "papermill": {
     "duration": 150.420875,
     "end_time": "2024-11-23T12:41:24.218287",
     "exception": false,
     "start_time": "2024-11-23T12:38:53.797412",
     "status": "completed"
    },
    "tags": []
   },
   "outputs": [
    {
     "name": "stderr",
     "output_type": "stream",
     "text": [
      "  0%|          | 0/75 [00:00<?, ?it/s]Passing a tuple of `past_key_values` is deprecated and will be removed in Transformers v4.43.0. You should pass an instance of `EncoderDecoderCache` instead, e.g. `past_key_values=EncoderDecoderCache.from_legacy_cache(past_key_values)`.\n",
      "100%|██████████| 75/75 [02:30<00:00,  2.01s/it]"
     ]
    },
    {
     "name": "stdout",
     "output_type": "stream",
     "text": [
      "Epoch 0, Loss: 0.6893407633132301, Training Accuracy: 97.875\n"
     ]
    },
    {
     "name": "stderr",
     "output_type": "stream",
     "text": [
      "\n"
     ]
    }
   ],
   "source": [
    "for epoch in range(epochs):\n",
    "    train_whisper_clean(clean_model, processor, clean_train_loader, optimizer, epoch, device)"
   ]
  },
  {
   "cell_type": "code",
   "execution_count": 21,
   "id": "9274fc0f",
   "metadata": {
    "execution": {
     "iopub.execute_input": "2024-11-23T12:41:24.266499Z",
     "iopub.status.busy": "2024-11-23T12:41:24.266184Z",
     "iopub.status.idle": "2024-11-23T12:41:37.410944Z",
     "shell.execute_reply": "2024-11-23T12:41:37.410098Z"
    },
    "id": "AjiZRr1TV6A3",
    "outputId": "be627c69-4723-4c5d-c6e9-504f2b745899",
    "papermill": {
     "duration": 13.172429,
     "end_time": "2024-11-23T12:41:37.414398",
     "exception": false,
     "start_time": "2024-11-23T12:41:24.241969",
     "status": "completed"
    },
    "tags": []
   },
   "outputs": [
    {
     "name": "stderr",
     "output_type": "stream",
     "text": [
      "100%|██████████| 19/19 [00:13<00:00,  1.45it/s]"
     ]
    },
    {
     "name": "stdout",
     "output_type": "stream",
     "text": [
      "Classification Accuracy: 96.83333333333333\n"
     ]
    },
    {
     "name": "stderr",
     "output_type": "stream",
     "text": [
      "\n"
     ]
    }
   ],
   "source": [
    "original_clean_accuracy = test_classification(clean_model, processor, clean_test_loader, device)"
   ]
  },
  {
   "cell_type": "code",
   "execution_count": 22,
   "id": "04a0a24d",
   "metadata": {
    "execution": {
     "iopub.execute_input": "2024-11-23T12:41:37.466697Z",
     "iopub.status.busy": "2024-11-23T12:41:37.466350Z",
     "iopub.status.idle": "2024-11-23T12:41:37.470644Z",
     "shell.execute_reply": "2024-11-23T12:41:37.469732Z"
    },
    "id": "979pA3uOV6A3",
    "outputId": "bda4d25b-0062-4e0c-89e5-438621e6d02f",
    "papermill": {
     "duration": 0.031968,
     "end_time": "2024-11-23T12:41:37.472290",
     "exception": false,
     "start_time": "2024-11-23T12:41:37.440322",
     "status": "completed"
    },
    "tags": []
   },
   "outputs": [
    {
     "name": "stdout",
     "output_type": "stream",
     "text": [
      "96.83333333333333\n"
     ]
    }
   ],
   "source": [
    "print(original_clean_accuracy)"
   ]
  },
  {
   "cell_type": "code",
   "execution_count": 23,
   "id": "2c8c7abb",
   "metadata": {
    "execution": {
     "iopub.execute_input": "2024-11-23T12:41:37.524333Z",
     "iopub.status.busy": "2024-11-23T12:41:37.524040Z",
     "iopub.status.idle": "2024-11-23T13:07:43.919348Z",
     "shell.execute_reply": "2024-11-23T13:07:43.918406Z"
    },
    "id": "Uefr4wgaV6A4",
    "outputId": "def3b596-63d2-49ed-84c4-97c875fa5cdb",
    "papermill": {
     "duration": 1566.423572,
     "end_time": "2024-11-23T13:07:43.921111",
     "exception": false,
     "start_time": "2024-11-23T12:41:37.497539",
     "status": "completed"
    },
    "tags": []
   },
   "outputs": [
    {
     "name": "stdout",
     "output_type": "stream",
     "text": [
      "Running experiment with poisoning_rate=0.01 and frequency=1000\n"
     ]
    },
    {
     "name": "stderr",
     "output_type": "stream",
     "text": [
      "  5%|▌         | 4/75 [00:06<02:03,  1.74s/it]"
     ]
    },
    {
     "name": "stdout",
     "output_type": "stream",
     "text": [
      "Playing clean audio for sample 0\n"
     ]
    },
    {
     "data": {
      "text/html": [
       "\n",
       "                <audio  controls=\"controls\" >\n",
       "                    <source src=\"data:audio/wav;base64,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\" type=\"audio/wav\" />\n",
       "                    Your browser does not support the audio element.\n",
       "                </audio>\n",
       "              "
      ],
      "text/plain": [
       "<IPython.lib.display.Audio object>"
      ]
     },
     "metadata": {},
     "output_type": "display_data"
    },
    {
     "name": "stdout",
     "output_type": "stream",
     "text": [
      "Playing poisoned audio for sample 0\n"
     ]
    },
    {
     "data": {
      "text/html": [
       "\n",
       "                <audio  controls=\"controls\" >\n",
       "                    <source src=\"data:audio/wav;base64,UklGRrgzAABXQVZFZm10IBAAAAABAAEAgD4AAAB9AAACABAAZGF0YZQzAABwAfEQWCCmL6g1TS1NH0wTZgM966zV3c1/zyDSCdho5yP+ERSOIzwsOzBuL0YmsROb/dzqV9z70MnL188O20vqy/3cE0MlgS1nMGEwjScXEyr8uesc3y3SgModz5jdpu4n/zEQ9SF2ME81gS59IWUTlwKa7XHa4s9lzUfQNdpN7K4BWxTbIoUtfjI9L6wjshJeANruCd4J0NvKcNEL3yDu6/6oEkklpDCFMuYshCI2FEsB9usT2+rSONDo0IfaAO9cBLgSbx/aLqw3CDH7IIMRYAJd72/bV86EzOTTyd5k6+/9FRbuKPIuwy7ZLkMoqRS6/FrrxN5S0iXL5M+m3f3txf9BE1wkgC5lMUsugyQPFGkAlO0k3cTQJswm0QzddOzD/kcTFCbcMc4zVy1UImQUxwG969rZndHvz0jRXNlX64wBShSOItItXzO3LwEkfhOp/+7qzdpx0mfPsND42kjv4gSKFJIhQS/NNisxJCKqEX0BhO/w3BHPIMvF0Yfeg+1t/08UfSZCMEgy/y71JFgT2v6v7F7dLdFVzLbRFt5O7WL//RPtJeMv3TH/LQYkmxPI/5nsINxb0K/Md9Lc3mbuFABKEwMltjBWM3stiiJrFO4BW+yb2tzRos8j0QDapezJAhIVciNML4I0RC+GIggTXQF+7VzbGdCPzaDSo91w7c0A6xQxJZwuyTFQLyYlABPy/ZHr8Nzm0VPNvNFQ3QDt8v92FIkl4i6ZMGUsMyKyESX98ugr2d/PK83c0GrbKuzW/68SxSKGLkIzFC/6IuMRzP4G7KzbdNA2zaTSbN7I7aD/1xI+JKkvpzKHLVMi2xIJAMnrS9p7z0zMVtDN25jtzAFGFDYj2y2TMl0vviPvEQT+eevp25jQ+MsA0AXcT+3xAFcU3iTGL8wyaS0+IdAQLf5D69Ha4M99zCrRAd3a7dQAShMdIyUuLzIALjQiGRHX/RDrl9r+zsTLxdGu3XPsdP4yE5Ul/y+FMWwsEyLBEs//AOy82o/P+cy20k7efe05/4cS0yR9MSo04CxAINMRsACH7E/azM+vzenRNtyr7KMAPBS1JNsvUzNpLuYiChM6AF7s/Noh0CbOHNTj3u3sOf+jFCQnJjHKMnEuyiOJEk/+iuvB20XQjcxT0q7eDe7h/5MTLyULMJYy0y0MIxcTL/+O6kbaUdFyzs/QINvv7R4DwxRsI7gvUDSbLZEggRJyARvsdNlw0G3PodLG2xrtwQJSFtYkXy6nMgAwziRXEoj9Fusd3A7RIM1Y0rndkexqAJcX+igKLzovYi76JvETBPzu6KbbddGmzAnRrd2o7hwBmBOHJKcwwjPdLO0f0hBv/4frMtn7zdzLdtH43A/tKQDHE3Ak/y4yMgsuwyLDEWD+3uv424TQicym0frdcO5RAdEUZiWiL0Eypi3HIl0SYv335/TYtdKW0GPQHNjb644EVBilJeQu/DGQLKgh1RPcALnpI9fizxfRO9XN3IzrAAEUF60mhC3/LjstbiRVEgL9U+ve3IHQdcv50eHfUe9bAPITmCX0L8gygy/oJOsSTf7e60PcHtCny5TRoN5e7k0AKxSoJesvIDKiLb4i3hGn/QfqR9qG0NPNaNLl3anufQGtE0Ak0zA9NPosnSD6EnMAyeh61hfRN9Iy0ybaFe0wBHgVRyJbLoY0wy5NIL8Pk/4M7Nzal8/WzEzS093B7ckBDxefJistMy/sLtclsRDW+ELoOd3g0vTMbtFr3szungHYFbslgS0bMB8vhiVNEYv6eenq3H/R48ryzjTdJ/AfA1IUViOfLqcyYy0sIU8RVv6q6eDYQtBLzk3RI9yR7+wE7BWwI6IvhzQKLlUgChGU/x3rPtnRzzzOENJu3FfuIgThF+slRS5bMvYwQSYiEm77Mukr3EvSCM0Q0D7cwO5uA2UW9CQrLsUxtC7KI+4R3/xw6d7a/NG0zp/RrNuV7McBdxbQJS4uHTHtLskkBBIJ/Bbpi9oq0JTMQdJ+30vwDALWE2ok1jA9NZYvpiFxDzT89+np2vHQ98xh0ODcn/B2BXYWoSMbLpYzcTBAJCUSH/4361/bi9BDzcXSP9++73sChhVKJcYujjHqLSkj1BF5/U7qutoR0BLMfdBj3f/vtwMoFZojcC73MrkueyIuEYz99ulN2anOVcxT0jne+e0yAeMVqSZALzww8yt7It8SmP4R6jrahdFQz6TSY9wd7RoCnRYUJ1YxkzO6LSAiahJR/lzon9dw0MvPg9Jh2zTt7QMSGK4lqS0IMkUxryYkEr37nOpK3VbRj8tb0SvgrvFDAzAVMiZUMkc1Wi5aIfgRWQBr7PnZss5pzXrUU+Aj70kB8RWeKGUzWDPmKjwfIBKhANvqkdhm0NfP1tI93Iru1gNnFaEjui8WNSsvQCBMDuX8+evp2jrNG8p70+jhau/S/+oVSyleMTQx/S0lJIsQK/rX6J/b88/lyQvPqt5w8nkE3hNKI6gxdDfLL8wf8g6t/XDqoNlN0J7Nb9AX3OvwMAfKF6Ajsi2OMx8wcSLtDnP7t+rU23jPxMp20WbgmPGeAusTcCRjMKUzKy30H8sPDP5U65Haw8/vzCDSpN5u8PEDMxanJYUwCjSALjYhrw9D/c/rb9wS0b7MctEX3qDvVwOkFi0moi/EMiEvPCPcD+T56uZ02VLRWc7x0bfdS/C4BHQWfyThLj0zwS7bIbEPlvuv6BLab9HQzmvSMd2x7qIDPxfjJTMuQDABLBQhNxCE/Nrpm9qc0EHO+9Mb353tFQB7FUwoiTKmMmAr6x/qEJL9++di1hHOuc7W1NHecu2jAG0V8yYlMeIyXy30IUoRsfyA53rWO81WzGDSEd6Z7mYCRRYeJjgvWDEFLfohrRAg/IDoFNmFz2bMrNB03ZLwAQTdE5IhCC7ENHkwliHSDev6yOpT3GDQ0Mvr0XPfxe+RAmAXxiiaMV0yxi3tI6YTQf6o6NDYSdEd0IfTYN367mwE2BeXJvwvXDK6LL8g1hBG/sfqAtqizwjNK9Le3jrx9ASuFqwl6zBDNckvDCHTDfv7Ge1f3kHQJcpS0QDhzvE6AyUWYiWuLDAvoi4uJVsQyfjd54jd2tRpzcDNotz+9UALiRXNHk0urjgvMbEdnwsE/c3sv9uKz7fLB9G73oHxpgSrFW4kBDAwNVYw7CDkC+f4veqM3WTQ4sq80mjiLvLAAlwWrydVMA8x+SwgI/8RnPyD6IHZ6tAEz+7Tkt+48EcEthbWJdwvVTKTLBsh/BHL/kjp6tfNz9bP09Ss3g3v7AScGgkpLi5ALh8sSSQLE+b79OZK2YPSQNBl0p/bcu1fBK4ZmSgyMEcxbCyaIckQpfu15mvXZNBT0CXVFN/47toC1xbQJ6oy2jOcK/8eCRFp/8jp+NY/zrPPp9Z54H7uSgKtGLwpXjBZL84qHSEPEKb7aelf2vDODMu20ZTgkfJKBEoVtCVDMsI0fSucHNkN1v1h6uXXms3gzWrVDeBP7a//QRa9KfQy2jHpKmsgdhHK/W7o0tadzczNBNWT4KfvWAJqFoImzy5SMJss4yGKD0368udB2rHQKMyOzx7dAPJyBhAW8iMLMYY1LiwaHFQNZP3s6JDWWs4Jz9DTE9087U0C6xaMJjgvDTFALB8g1Q0k+hDpm9o/z3rLZ9Lf4ODxJQRZF68n/TD2MvYtRCCgC733MelO3CrPC8l80FrhW/MCBDkVkSb6Mlc0qSpHHZEQ+f8f6f/UMc38z37Wfd9P7m0DjRknKSEv/C4GLKYjcRJd+97lPtcV0L3O0tLj3VHwZAYHGjcn8y3bL9ks+SJOEaL6duUh2ADTJtGd0dTa+u/oCEEb3CXlLH0wNy21Id8PUvv656DYIs9/zf7T5N8u74oCCxiCKCkvAC+FK/MhwA/J+QbnWtkC0InMrdGd39TyNwadFusjLC4DMwQvMyFeDfX58uli23nOaskE0cfhFvQZBG0TKCSGMu41gitDGyYNGP+T7JTZR85TzWbUgeHK8jYFrxZ6JiIyJzVcLZgdRwsg+lXq99qZzknLhtNv4l3yQgN+FosoIjM6M84q9x3pDgz9+uhy1wHOEs5F1SfhyfCSA2gXHiiWMXoyxSvPHowNC/vI6fHaJNA7zH/Rk9/X8jQGABfWJX8xmjSXLIQedA/m/dfoqNZNzl7PrdXp337vYwRCGhEqnTBOMaMunSTqEHH6tujS2jzP2suW1Pbi4fDYAQQYkComMSYvyCpKIoMRD/tt5vPYdNK+z/fQRdss8MAHlRn3JasvbDMaLScfXg7E+wzo4ddTz3nNZtH43afyOQctFo8jXTEZN/otMByyC8L92+172wrNd8qr1Ofj//GiAewVASl3MnoxaSpGH5IPJvzY52XWF8wQzCPVhuJo8RgDjRdRKTgyhTGGKn0fZBB8/RzpjNdkzSbNOdVj4ezvywK6GNQpeDD2L4UsWCPuEFr51OQA2OnRn8/J0QLdt/HBB90X4SPHLtsznC3RHqgNwvsP6QjZg8/UzAzRLd4i8xgJLxqlJgkwrTP/LeIfig10+nzoJ9nQzo3MbNO64Gzx8ARfGdwohi/FLxEsrCHLDqD47uVO2BPPP8xK0i3ghvJSBigZgigEMhs0Uy5mIXUPtvvO6EnY78wxyw3UpeKo8s0ENRmEKrYyIzHYKYQgshPs/g3lpdL5zn3SBdVf2yLtPgbmG9Io9S5XMRIv5CNZD+b48+fO2/XRC87c00ngSO/iAe4XoSo1M98xsyrBHycQU/tD5cnVMtCpz0XR6Not8MgIqxrGJUsu4DKmLmUggAx1+RvqOty6zxrL7NJg4t7ydwR1GCkqFzPVMa8pEx5mDxT8G+bt1NvNes4J0yjdLe+OBYUZDSdbLhcxYS7SIrIO6Pjd51rbKdGly7vPsN7+87UI+xioJbgvRjRBL4Ugrwx0+QPpENrYzYzKj9Ow4//zoQPsFJYm4DI8NBEroh26D0v+O+g81XnN/88C16LgW+9eBFsbTSx7Mjgw6SnkH7UPl/lM47jUINCA0NbSB9zx738IIRzrJ4EuWDE4LhAiLw5Y+dTol9tk0MrLjtKG4lD11gbFFoklyTCvMx8stB1CDfz7VumF1+7LZMtF1W/j3/ENA8cXpyhfL0wvYix0InoOkfc+5p7aXdHSy93O8NwP8g4GSxWwI+8x/DaWLBIagAm5+lzp1tcszc7M4dTR4TfxZQI2FacnJjSmNMwpehtZDlD+fugI1J7Kks0k167ivfAsBL4aUStCMJUufyuPIm4Ph/iZ5gnaNNC6ywDRit/D8k0G2xdyJqYwrzN5LUkfmgxO+FHlhdd70FHOJ9EL3YPyAQqEG3Im1C0uMUYtAiGmDhv6+uaP17PNtMub0pDgOPLsBCoXMifxMQE0IiyGHM4JNfjH6GHahM6pyiHSeuE8888F5hgKKeUxUDKAK78eSA0L+U/lU9ZqzrjM69A63TbxpwblFyQloi8aNGcuRh+TCwL4++ZB2UnQAs+M1vrj6vPkBUwZCypfM8QzsywpID0P4Poc5kTW6M4Tz77UYeBG8gYH3hkbKJowHjLMK2MeoQwu+nbpD9s/0ITMkNIg4Wr0EglRHA0r3jIgM1osiB8pDn36vOdx2b7RqtC+1TbhafJHBhoZeSiDMvk0cS7fH4MMdPhh5kTXsczlyXjQ791c7sb/ExHcH9ko7iljI2gXoAdh9LrfFc/mxt7G28zX2OTqEwAsFGsk0y47MbYq7hxRC0b5E+kL3KbT4dEV2KXlNPjRDJ8gxjC+Os88ZDZhKDQVNgCc7MrcwNJX0DLWy+K98+kGhBmIJ4YuFi9GKmMfZw5a+vbnmNqK0wrTi9lh5z77URE+JVg0cz2BP9k5IC1bG1YHGfRt5JTaG9hb3S/pUfkEC3wbFyihLrgtMCUtFsUCqe2p2ZrJBcCPvjfFO9Lh4p/0aQV0E9sc5B9YG0sPnv3P6XzXacmAwTfB18gA11jpiP32ELAgNSpjLIYnxhzWDdz8guzD30nZnNqn49ryvwWdGYQroTgdP6Q+hDcWKosXkAKS7lXeqdOqzw7Tx92N7oEC9BVqJWkuji/2KBUcQAsK+Tjogtsu1VnW595/7QEA9RPMJgw2+j+uQ0dA4TQkIj4LvfSL4g7XZ9Pa18Lj9PSjB/YXdyPDKMAmwB38D8T/Ie5c3GjNb8TawpHICtXs5sD7IRCrILIq6yxoJuIWwQDI6fDWr8mmwcq/MsXw0DzgZPA2/+IKOxKXFFAR4Qdj+bLoetnQztvKD8+43OTzJxG/LbJDT1E1V2VVxUs3PEwp0hRGANjtt99m13HVj9mq42HzAwbyFXkenx6mFwcKS/eW46jT1MmCx0PO3N3q8mMJDB8LM9NDx07EUU5ME0D7L5oe+QyI+9brMuEY37LmuvWkB50X/SFCJWAhrha2BYvw/9p+ydi+lbvKvnfHHdUf5/P7/hBuI0ow7DTLL7ch6gzf9N7dk8zJw3TDQsnl0uHeeeyE+t4G4A5vEOsKHf9F7zneO89AxXrCM8ht1zTwTBBvMg1PuF9BYx1erFRsR/U0wh5YCHn0zuQH233X3Nis3rfphfnyCS0VBRc/D0UAMO6+3N7OqsZAxvjOwuB2+bwUry11QeRPdllHXThZrkwoOZwhLAp393fqR+CW2Qzdkeyv/okKQBJ3GYIavg++/Wjs5tyNzaDAk7vUwRXR1+LF81MHbR4FMSA4uTeAM3IlsgoC7zXcrsx4u/yyYruRyhPVBuB08nIEhwuaCeQEW/ye7OLXusdbxtzR+Nvu4TP26yCSSulcrmJ4bOhwv2G0SFs0hyCWBCDniNOCylnGPcV9yrfYJu0W/2oI6gp6CZMA2u++4MraatmA2C/fwvMxDx4nQDt/TiFdoWIoYXhaoUpjL1MPovPQ343S2sq2yfPP9tzJ7Xn+7QtuFF8WFxIHCnr/HPEI4HPS680S0vvboOttALAVkSauMsg4eTQfJCcNYPaW4fjL07TfoQqcD6cOvSrT9uJt7nn6PwjVEvQS3AXs8YnhCdte3QXjcOlF9R8NHzCTUzRqMG/EZyxcSVC9Qj8uwg8m7LrNwLtCtXG0ybVCvErM+eUOAmMWsxzGFqQKJf9j+Gf1tPL18BT2JgbrHdY0N0W6Tq9TA1Z5VURNuzcNFj/xVdN+wAS2GbAVsjjD2OJJA4gW0RsZHVwhxCb2Jv8c4gnc9LHljt4R3TfeduKZ7d0BTxrHLHEwMSSRDkj3s+HczWe6iKecm16f8LCGwrrLstTY6EMFjRwHJisicRW+Ba73deye5BLizOfZ+f8Z3D8vW2Jiw1t+U5BN3EThNOgc+f614OrIlLk+r2GoEKnXty/VIfmZF0Ao/CmrIgoZNxATCG8AV/tq/LMFbRQnI7MtpDQmO4dCikhrSQ5AJChmBV7jm8oruoavKK5MvPPYaPoGFccjVSpML2k0BzbuMFokURFJ+6vn/9izztTJQ8/A4V38wxSRIpMiThZYAkbsKdjJxzO7tbEXq1yoTKv2tZHIteCV+4AWXCzRNZ8uyxn0ACPu7eTz4vHmTvTwDJYqqUEbSxZJx0PdQWlDpEGWNY8dff3y23a+Zaj8m3ic7qsPySntsQ6uJV8vpS09JjMf5RqdFysTMg4iC7kLFw/eExIaWiOlMH0/J0kXRt8zxRZE9kbY8MCcs6+zdMH914Huj/8BDUIbaiofNxk/fkCsOAMnQg9E9Tnb7sT1uWW/L9Ip6o8A1A90E9gL+f7D8kbox9shyoe3/a39sIy4Cr2jwjvSGuzYCNQh1zH9M6YpHxszDvIBd/UI7jLz4QUCHZgsRjAbLwQynTlvP7U+XTXJIacF5OZiyiWxt51ilkahPL224eUDQx0TLTg2ozp1Ogk2bC6qJFAanxG1Ck4E0f4n/jkGQxZfKBc1QTesLWgbWgXJ7/bc184cxwPH483I2frolPrbDaMh4jPRQH1EHD2KLAwWlvy14nTM+b2wuc+/dc6Z4APw9vjK+y/8L/3f++Pxqd54yui+r70Ev1y7BLe9v4HcGgOKIeAu4jALMgw1wDNHKckaIxISEkIULhJYC7EF2wfxEoYh/iyKMJcp1RhNAYvmYsvOs5ikhKLwrvvGd+RIAbIZly12PshMC1dBWkZUjEVPMZIamgMR7zXhNt7Y5hf3VgiLFS8dKSCOHqsXPgtv+9frzN+02LPWKdpM4zHxOQITFUQnLzWBOzQ5Vy59GzcChOYEzfi4uawzqhywJLrbxanUxOec++sIjwqUAlT4pPCu6TDf2dEgyInISdQr5+/7GxDhIyU3mkbtTdJMi0ejP30wMhd4+lvlut1w4S7rM/dfBJkR1hrHG8QTIwZo9v7nbt2b12vVbta820DnhPnYECYq6kH7VOhgCmRaXNpI5SvmCz7wPd0u0z7QQ9NM3FvrNf6aEZMidi5KMnsttSIPFcYFV/Xp5WHbHdk538DqyfdWBPAPyBlqHwoe7xOgASrqCdJivMGqZp+7nRSnErgTy93cfe3w/ZQNrxlwHm4Z/gvc+mrqjNwI1MTVVuO6+MwQSypaRu9ioXVPcQ9V1DCZFBoBFO6l2V7JZME0wg/KVNU14FLrp/k/DKIeHykqJtUXPgY9+YLzXPQS/OMKXB6EMrdEPVGnUzJLijwiLdIdcwsC9HHaD8WXurG9Isto3BbvdwVeIPk5UUkIStI+zi0dG2QHkvLU38vSCsxTy3LSXOA47/b54wAwBqQIBwPN8OvU07l1p2WdxZl9oN+0cNFE7EUAGw5GGDAgbCWPJkcishhTC9L7Ru3T5XXsqQJRIRM87Um8S7BJR0fPPpYqwg6l9Nzf0c0TvJOri588nsysR8qc7jMRaC3rQedMiEzqQTEx3h/wEiUNjg14Ee8U9BSbEyUX1iBgKRUqSCT4HNsTFQQ56yTPBLuYt0fEG9rb8nELfSGhMpo9EkEdPDcwPSGlEHL81OPzy4a617DJrm22acdo28/qwPLl9GHz/O1P46PUY8ezwInA7MPrybzStN0J7KMBjR0cNsZDB0lNSCE9tCfdFC0PZxGRD9cG1P4JABAKWxS9GKAaJh6/HVQSIP7R5rPMKbNXpXaqFrw10U3p+AYhJqo/FlEYW8hdVVmPT51Bbi/EGHf/tuhq26ba3uLq7/8AFRS7IVIloiLrHooYVQyP/NruSebB4sHjMel68xMCnxLFIVItSjILLRsdcwf08Hza0MMGsJyjaaAUpY2vEb4fz6nhKvQTAzQK1wdG/t3xwOU02rLO3cWwxS/Sgei+AvYdYDcFSjJVlV69Zvdjak4FLMQKDvTi5tbdd9eP2DTkQPSn/9gDsQKm+6bwKehv5RLj79yF11PaXeYT+IoNwyUQPuJTRGbIcZlwkl+UQuMhhQS47CjZn8ocxefKQ9iV6Ff7xxG6KO45ekBRO7IsLBm5Bav0RuYH3JfZV+DV7G35qANfDIAUexrdGg4SPv9v5drJN7FCnoOSKpB+mIepn8ET4SYBeRMPFL0QDhSsFMMFiuyQ2NXQ09PK37rxLQXwGIovWEtiav9/JnsQXIY5iyP6D+bwTc8uvFC3bbgTwCXPpdz84xntdP95FG4fVRueDt8CMv0k/Dz8ev4sB/kXWy57Rr5YHFwhUGI/STGfIL0HoexM2EjKl8CtwK7OBORl+ZAPBiiiPKJFeUJ4N7QnThT4/jXqHtnhzRzJEMsY1bflSPdSBdQP8RWxEuEBh+btyaC0NahooHeaUZqGpci7RdcT8vsHPRZ/HM4cXxk/E1MKzP3z74rnKej47pj80xhnQU5iEWx4ZodfgVaCQg4kfAOm5srOF7tVq1ih3p+xpuu2WdPC+Awa/i30N949tDxvMP4eJhHdCMYFZQtMGQsnNy31LUgvWTITM/gsNCDbEPwA1+2n2LrKLcs71SLh3O6PAhsb8jEXQXJFJz+bMTQhWg/x+iHkFc+UwUy/2sau01niGvJ3AHoHYwPE95PqY91+ziK+5q4DpHSgDabxsyHHOtzP8J4EuxhEKgAyiy0OI3gYqQyz/V7x7/EkBOYgPzo6R79KrUvaShhERTZbI8UM0fNv2hbChauLmZ+QhpborejSePuxHkg5dUsiVPZR+EZtN2MnahqUE9gRxBAtDRoJbAkWEPIa/SWKLMoqdSLKGGsPYAEI60fRCsH3xLfb6/iuENsgfy2EN5I7ojfNK0oZOASM8oLljdm2ywe/8boSxA3Wu+a67mzvGe/n76Ltt+OR0Bq3eKKFoHqxMMWyz2HX2eghBeUgOTKQOhZCjklXRTkt/QvK8yPr9e4X/e8QgyCTJngozCvTLdEoohw/Dg0BCvS/40DPobrwrG2qXbXSzgvzzhcYNdVKe1n1W1hQKz/RL4IfLwzh/Uj6Zfoq9Yvs9uq+9lELeR0GJ1UrCy/cLfAfTQUP58LPcMcT0S7n7v4IEewdaijIL4kwoynGHXMQpQNx94Hpjtgbx/u6krnTw7rUbuVG8Wv3N/qD+4X3r+eIzJ6xU6QxqLO1UsMIzYLV8+FV9DwJkxtPJyUqJiYfIK8Y9QvO+cnqBura+j8VCi1bO3BCA0foSFNEUzgmJpUOh/R13afMLMBTtQWtwK3yvdDclgAxH201TERqSgBGSjn7J0EUcgFd9ZjzQfrUA7QLjBLkHDErETcbPHU9yT0/N+UiDAMT4pnJ+b2CvvfI29uM9PQMgh/3KvUvji12I6YUnAVY+fDu8uMf2ITPJs640xfdTehf8yX7yf2C/Pj3O+6f3WzIJLWWquqqHLNyv5PP8uMh+qINiBvbIngj2R3PEtYEN/gz7w7pdOdY8OoFKCHFN2VFUkz9T6xPRUcTNZwdZAYY8IDaLckHwDu+McL/zI3g9fpMFmMrajYiOL8ymyayFIIB3vF85//ijebZ8lsEcBb+Jh41TT9BRAtE2z7VM3MhpwcG66nTRMcVxRnKzdWQ6Eb/2BQyJaYtQCzKIRMScwFw8qzl1tsR1tXVA9xK6Df4JQjPFHwcDh8gHf8VNAiv9C/gls93xL6+bb9QxyXVz+V19qkF7hKmGxsbeQ85/YXq2NmOy6TBur5ZwxvP8eFh+pEUSiziPrpKU05SSNU4yyJ/C3D3X+h23yrfLugK94YHARheJyIyFTX2L8gkUhXrAk3vgt0w0Z/Ma8952HbntvstEp0mnDVSPQ89DTWWJiAU9gB88PHkMd8j35rkaO+f/tIPzB+JKxUxdC/IJkQYFAby8tnheNWHz5/Qwth15/L6yw8DIsEuVDT/MRMoThgBBXrwWd2wzs7GdsYxzQ7agusp/4AR1R7aJGgjEhs0DBj4ZuKLz6/CSb34v/nJJtkT6/n9sQ85HRok3iPtHKYPpP2U6n3ay8+By1XO3Nie6uoAJBcZKfk0STpQODsvNSG3EBf/1e0F4AfZTNoo47nxgwO4FUwm0zMqPFo8ATMCImQN1/jx5p3ZqNIu0yjbDulX+qEM5h0QLPg0sjbmL3cg7Qo+9AnhqdN2zRzQudtD7cEAqRNYJIUwxjXaMtooeRq5CRn3zuNv03PKIstB1ITigPN1BnkZ4yeULX0qKyGAE1sCTO9g3ZDQAMsGzNfSdOBF9HMJuBqYJi4t+iyzJPkVmgOM7xTcBc3XxZPHzNAf31PwkQJ2E/YfuCVlJPscdRD//9Lt89xm0K3KV80c2N7ozfxJEZ8j2DCdNjc0pirYG/sJUfdr5hfamNSq1o/fqe3+/lMRSCJnL2E2rjUpLSEePAur9z/mItk80i/TsNyL7WcC9hazJ68yXjeENacswhzqB1ryNuCU0z3NAc5a1knlJviUC/kc5io8M+cy/ii3GHsGiPR14w7VnMz+zL7WpueP+1YOIR7YKiUzfzMgKvAZEQcK817fZ9AdynDMXdXR49H2tAsKHqUpWS0vK2MkUReNA6ntdNtKzzXJLcrs0uPhN/RlB+YYzyWvK5QpCCC3EPH9deok2arM+8bryA/SBOGs84MH0xntJ8MvaTC7KTkcMQrN92fo/tx/1n3XWeGl8V8EBxfYJzk0hjmWNmksUh3rCr31V+B40HrKes2n1kLlvPiMDT8flCuvMW4wnicQGXIH9PTL48bWd9AK0hbbJ+oW/RwRayNqMYo4tTZFLEwcIQqK99Plrtd80CPS89tF6yH9fQ8/IFksbDGdL2Qn+RcGA2nuZN770eXI98fJ0oTlTPkIC+Ia+icrL0ctBSL4ECz+JOvk2NrKScRPxdvMAtvo7tIEIRj8JUstiC0sJncX7AM28DngFtUdzwbQE9m/6Kj7wA65H2AskzLXMGMnUBhIBmbzquHa0/fM2s4U2UXpfvwxEA0igy+zNcIyxSdcGJ0HNfaW5IzVUM14zpjY6Ohb/NIQ4COQMZE3Gze9MCwiFwyK9Y7l3NxS2BvXGtwV6kz/NhXWJRAwPjWoNJ0s3B1TC+r3Qubn2AXSxNIY26Xph/szDWsccyjaL3UvLiXKEs38kuet1Y7IvME1w0PNNd3472UEORhiJlQrrChnIc4VTAUD8kng5NNZznDPzNbG5ET4Ng32HiQrwjCULiMkPRNC/4TrltprzqnIqsqG1HnkzPfmCzse/iuqMvwwiCd7GE8GD/NT4aLUms9s0vbbIeuh/vITDSeuMw84hDV5LXYf7Avg9kflYNmd0+PUjd3B60D9rhCOI1wxHDeVNWQuIiHrDR/4GeXG2CXUPtaf3uXtegICF2wm6S9mNLQyVSl1GfAFYvFB3qXPosgKy+/V3uXf98UKMh2zK0IyNi+iJHcWoQZm9NTgNtEZyzfP7tmO5yH3SwkxHDAqzi4BK6whKhOu/wnrBtrQzobJgcpd0sjggvO4Bu4WhSK0KFooqCB4EikAq+zI2hXNTcbUyLHUyOby+mgOXx/DK10xHC+eJdwWWgVy80fjLtcj0SLSVNoZ6Yf8OhGNI7AwFTcWNsstMh+KDP/48Of324jWIti64ILvbAIsFhsnajLjNpw05CsMHb0JefUD5JXXRdEE0onaMep1/lQTNyX+MUI4gjaFLFIcOQkf9ufkEtdmz0zR4tyF7bP+CRB3IScvmDRZMUAnXBcJA8Ptc9u1zj/I1ccPzhrcKPBSBNgTzx5WJhYo3CBiEaT9pumy2ILNh8mezKrVaeMr9M0FExYUIyUqZiiHHf0M0frU6KvXc8nFwY7D7c7w4MD1oQomHR4qoi9/LjgogByDC0f4Euep2wPZ/ODS8gkKBh/rKvQs0yqhKTYowiEgFMoBH+9y3/DTJs1OzMXSGODg8ocJJyHDNMY+7zsTLhMbTQhx93Do4tz819DbtOew+AgL7RuRKWsy2jVaNI0tuB/0Cj3zed640ErL3c1617jm8fm8Dt4hwS+MNRAynCZNFloEHfOG40bWvc2BzaDW5OWo9pQGBBXKIBInDCVuGkUKk/cm4x7PYMHTvVXCNMtl2Lbqdf8RETAbZR16GrYTAAcF9EngPNHhxmDAIsF6zDzggvasCoIblSn8MuAyAigcGBsJ/PrY61HenNh+3hrt9Pw2CtwXdCh1N28+FD1dNyMv2yKMEIX5JuMm0+7Lp85I3Y/26BI3KbE0kTXMLZEfEQ3t+dHq5eKS4ZzkAet+9A0ArQwfGmEoRzY1QFFBezdPJd4Og/bl3hvNOMZiy9nZTe0fAu0VVCZDMGcyqi4FJ+8aCQoR96blWtfrzGXIE8w22NfqmwDzFO8i3ic4JGUZcAhR82Lees4yxq7Er8fUzdPXUObb988ItxUFHI0aoBH1Atfw4d2OzD2/Irl6vVDMYeF89/cLLx7GLGs1gzbxLzojgxNWBMf3Te4d6I/mxuu++KQLMSA9Md06GDwvNnoqZBlKBKPuHt3c0r/Q8tUW4brwNwMIFgEnoDTNPG48azKIIYcO8vxb7rLjmd4B4YTrFPwTD00hRDC+OU08sjekLEgcIwgq8vzdNNCly4LP+NlM6nD/vRWkKEk1bDpbN5osexxpCSb10OG90pvK8cnRz1bbSutZ/VEOGxtsITkgRBczB57yI973zQTEMsBIwl/KWdg36l38LgvwFCQZVhcRDwsBCO+a2/zJtr1aucq9Msqp3JfyAAntHLQrVTPnMvMqah02DWz9U/A75zLjWOU17tz8wg68IAswzDqBP6o8wDEcIJwKgvQx4ePTt87u0aHcNe1qAekVRifTMh43zTPGKdkaRAka99rmZdss197aC+aI95MM5SAOMfA7HkEfP3o04CHKCvbzNOFK1OrN4M6812LnMvvhDyQiDS/tNGIz7SqMHN0Jd/Wi4qnUAM6oz7nY+ObO9wMJfRj4IxIpPia1G5QLovhr5S3UcsdewQLD3Mta2jDs4v55D+Ya+B5cGxARvgE+7+Xb6MrRv7e8dsGQzKncWvByBacYkibnLEYrmSJVFLoCJvG34kDZ99Ud2vflyvdiDEkg1jAyPNtAez0lMvsg4Az599vkKtee0QrUN9107FQASxUPJ74yRjePNPUqUBu2B7bzveLe1rHR8tTR4JfygwbIGeUqRziMPyc+nDNxIogOrfoU6T7cWdbi15rgBvAoBOIYDSpaNQQ6izfQLcwd4Ak69RjjJNYQ0J/Rqtrr6e/8YhAUIZgsQDH5LfwiRBKU/nPqeNiRy/bFO8ic0c/giPOQBrYW5iGEJj4jwhfhBc/wCtxmyhy+f7hGunvDUdOC54j8kw7WGhUgbR5NFmEIYPaz4/zTpMkgxojK5NZr6e7+GxRHJqYzsTofOqMxqyL5D3/8Heub3hfZY9sW5af0pQflGnEr2TZ2O0A4ZS1+HGsIcvR0427X+tFG1J/ej+88BFcZbyt6NxI8pTnzMC4igg5P+fbmrNrT1Y7YHeLv8BgDQhaUJ/Az/DjQNTUrFRvRB+Pz8+HV1M7OttAl2sXpDv14EOAgcCzKMWovzSSqE2L/YOtf2nHO98jCyuXTV+O99sgK4BsVJ88q8SZKHD4MgviR423QOMJ6u6m9/cfO1ybq8vzvDSAayR5IGwARLwL68GTfuM/GxObA38Q/0PnhtfenDTIgRi3nM1YzSivbHIIKmfdb527cY9jQ21Pmb/afCckc7SzbNxU8wTgjLtIdcArC9ovlJtmc0xbWiuBX8dAFpxquLAg5zz1LOlAv3R6HC+L3rObE2j3Wbtly4+PymgWWGBEpRjVoO0A5Ui4fHUkJRPUH4zrVu87+0FPbSesV/kgRWiIyLk8yEi7MIqsSt//m6+vZTM2tyEDMjdYV5t742wtNHNAoeC98LQUiJxBM/CHp0NcqyrrCbcOSzLfcYfBeA5kSsxzvIGwelxSFBAPxnd1zzdXC/75vwgPNxd1/8v8H7RrDKKYvaC4qJfIV0gO/8T/ieNdL0/fWWeKg894HBRwmLZs4xjxuOVUvnB8wDBf4lOY92vjU6tfI4lzzzwaYGiwsojiWPUQ6py+jH7QMbvl/6GfcG9dk2Qzj4vJnBvwZcCrgNRI7hTjQLb8cWQh48/rgFdQjz3/SBd3u7AUAdRMxJJYv8DPDMH4mOhY+AgLux9yL0LPKocy51krnH/vvDqsftSqsLrIrTyIWE1H/6ukl1xzLR8dcyqLSwN9g8RUFqxZxImYmWSKYF1QIUfYd4y7RFsQBvxnD1c5O3w3yoAXpF2El5CryJwMe4A6h/E3q69qm0M7MJ9DG2rXrcgAtFZwm8zIIOW03ry2bHV0Ku/Z55afZSdU82MnhhvGuBUYa7yo3NcI4zzVbLJscjghU9OPjDdlu1PfWKOF08ewEeBiBKcc1XzvgOGou+x2fChz3BObq2d7UgddG4dHwtQOQFlImETF8NWsyuCcEF0wDte/O3pPS28wmz4DZxunm/EEQZiFqLQYysC5FJFMU/gAX7drbPtDYy5nOu9eC5h/5PAw5HNsm5CpwJzscqQqu9RjhC9BnxEO/q8HDy/XbWO/oAtkTth/WJMQi1hkUC5T4jOVb1ZrKw8Zzym7Vf+Yi++oPVCHeLFIxoS5PJV8WzwOz8FXgTNUm0ZDUQ9+172UDQRdIKPQzujjoNdorAhyvCKn0YOMr2M3Urtiv4kLyAAZTGjErPTahOtQ36C0hHv8Kgve05irbjtZo2XHjdfMJB5oazyp7NWU5ojVrKqsZMwaP8mPhj9Uq0YjUwd5f7lIBwRRdJUkw4TPiLw4lyxQjAdrsO9tTz+LKGs4f2KfnrvodDqUeyinkLQgqnR6yDQn6W+Yb1bLITMMgxrnQGOEb9I0GBxYdIS0mZyOEGOsH8PQG4kDRgcVjwarFS9Fi4mH2UgprG2kntCyOKh4htRH2/n/sVd010xvPDNJl3NTshwBUFEIl/DD9NbMzPSqEGvoGRvP64irY8dMe18DhTPIKBs0ZpSr4NT46GjcbLWwdTAr39qTmj9sY1xXabOR09IcHyBpOK2I2RTqJNu4r6BuLCGz0w+K81mbS+dV74GLwngM/FwAoJDMVN2ozvShzGMsEz/Cd36/Tjs7z0JzaIuoF/ScQUiDtKosuAiveIBoRlv1N6b7X5st/x9DKRdWx5W35cAyBG50lPSreJ3EdfQxv+MHkH9SxyA/EH8ec0erhRfWzCHAZOiUuKikndBwgDB/5Qeb+1ZzKMcYEyrHVEucW+88Ovx+wK8Yw+i3AIxkUjgGY7tzdiNLkzi7TO96F7gYC1hXJJnkySzdoNDQqZxqRB070XeN31+XSttY14gvzdgbtGfIqrDbeOs02iCslG/cHVfTp4q7WA9KN1V/gnvDnA0EX1ydwM0o4OjVuKrIZBgaW8gjiVtY90QjUot4E7y8CXRX/JVoxZDWmMfImxRZLA3LvJt7P0UzM184x2T7p8/t/DmYeNykeLY4p6B5ADvL5nuXC1HnJ/cRYyGTTFORf96kKYhvUJtYqzya7G6wLw/gp5ZrTisd7w8zHCNNG44H2PApvGxQnGisvJ1kcTgwz+anl/dRkypvHUMxc19nnJ/waEeAiuS5ZM2cwaSbqFioE+PBb4CnVL9H31OXfafBOBLMYLCpoNaw4RzSPKbsZiAbc8i3iKNc605zW3+Dv8JEERBiUKFgziTePNHMqZBriBiHzW+Ij1wLTZdbl4CHxuwSLGEopNTTaNxc0cinbGJ4EifA94I3VQtEt1HDeXu4iAfATHCQaLxQzZi+dJEEUlgBu7AbbgM+iy1vPndk46Vv87g9yID4r5i70KuwfZA/O+x3oXtc3zC/Ifsuh1bTlhPl+DeIdZSgGLIkoEh60Ddn5E+ai1Z/KTcbSyTLVV+YQ+ngNFx57KfItFStNIYoRAP5J6hPaqM8lzCHQY9tf7GwAgxSKJc4wtDQKMYcmexYFA0nvwt5P1DrRQtWV3znvmwLgFkUoZDOxNpQyRSjpGPwFCPLH4MbVq9LR1g7hw/CEBMQYYinkM3I3tzPyKHwY4ARg8Q3hDNbH0SfV/N9i8IoDlRbRJrgxbzVLMQEmVhW/ARDuIN100QjN0tAv3O/sQgCGEyEkZy9JMy0v9CNrE+X/6uuN2iDPistoz6DZmemR/W0RTyG7KyEwCy3KIYUQ2/za6aDZPM6KyanMaNck6OX7Vw95HysqAC5SKnUf/A6N+0LoE9iGzRPKEc7/2Knptv2eERQi/iw4MQcudiMOE4X/8Otc23PQ4Mz30ATcgew8AHoU0CX0MDc0CzDDJWoWSgPt7v/c\" type=\"audio/wav\" />\n",
       "                    Your browser does not support the audio element.\n",
       "                </audio>\n",
       "              "
      ],
      "text/plain": [
       "<IPython.lib.display.Audio object>"
      ]
     },
     "metadata": {},
     "output_type": "display_data"
    },
    {
     "name": "stdout",
     "output_type": "stream",
     "text": [
      "Playing clean audio for sample 1\n"
     ]
    },
    {
     "data": {
      "text/html": [
       "\n",
       "                <audio  controls=\"controls\" >\n",
       "                    <source src=\"data:audio/wav;base64,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\" type=\"audio/wav\" />\n",
       "                    Your browser does not support the audio element.\n",
       "                </audio>\n",
       "              "
      ],
      "text/plain": [
       "<IPython.lib.display.Audio object>"
      ]
     },
     "metadata": {},
     "output_type": "display_data"
    },
    {
     "name": "stdout",
     "output_type": "stream",
     "text": [
      "Playing poisoned audio for sample 1\n"
     ]
    },
    {
     "data": {
      "text/html": [
       "\n",
       "                <audio  controls=\"controls\" >\n",
       "                    <source src=\"data:audio/wav;base64,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\" type=\"audio/wav\" />\n",
       "                    Your browser does not support the audio element.\n",
       "                </audio>\n",
       "              "
      ],
      "text/plain": [
       "<IPython.lib.display.Audio object>"
      ]
     },
     "metadata": {},
     "output_type": "display_data"
    },
    {
     "name": "stderr",
     "output_type": "stream",
     "text": [
      "100%|██████████| 75/75 [02:12<00:00,  1.76s/it]\n"
     ]
    },
    {
     "name": "stdout",
     "output_type": "stream",
     "text": [
      "Epoch 0, Loss: 0.7493581884261221, Training Accuracy: 97.0\n",
      "Backdoor Attack Success Rate: 5.37037037037037\n",
      "Clean Accuracy Drop: -0.6666666666666714\n",
      "Running experiment with poisoning_rate=0.01 and frequency=10000\n"
     ]
    },
    {
     "name": "stderr",
     "output_type": "stream",
     "text": [
      "  4%|▍         | 3/75 [00:05<02:05,  1.75s/it]"
     ]
    },
    {
     "name": "stdout",
     "output_type": "stream",
     "text": [
      "Playing clean audio for sample 0\n"
     ]
    },
    {
     "data": {
      "text/html": [
       "\n",
       "                <audio  controls=\"controls\" >\n",
       "                    <source src=\"data:audio/wav;base64,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\" type=\"audio/wav\" />\n",
       "                    Your browser does not support the audio element.\n",
       "                </audio>\n",
       "              "
      ],
      "text/plain": [
       "<IPython.lib.display.Audio object>"
      ]
     },
     "metadata": {},
     "output_type": "display_data"
    },
    {
     "name": "stdout",
     "output_type": "stream",
     "text": [
      "Playing poisoned audio for sample 0\n"
     ]
    },
    {
     "data": {
      "text/html": [
       "\n",
       "                <audio  controls=\"controls\" >\n",
       "                    <source src=\"data:audio/wav;base64,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\" type=\"audio/wav\" />\n",
       "                    Your browser does not support the audio element.\n",
       "                </audio>\n",
       "              "
      ],
      "text/plain": [
       "<IPython.lib.display.Audio object>"
      ]
     },
     "metadata": {},
     "output_type": "display_data"
    },
    {
     "name": "stderr",
     "output_type": "stream",
     "text": [
      "  8%|▊         | 6/75 [00:10<02:02,  1.77s/it]"
     ]
    },
    {
     "name": "stdout",
     "output_type": "stream",
     "text": [
      "Playing clean audio for sample 1\n"
     ]
    },
    {
     "data": {
      "text/html": [
       "\n",
       "                <audio  controls=\"controls\" >\n",
       "                    <source src=\"data:audio/wav;base64,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\" type=\"audio/wav\" />\n",
       "                    Your browser does not support the audio element.\n",
       "                </audio>\n",
       "              "
      ],
      "text/plain": [
       "<IPython.lib.display.Audio object>"
      ]
     },
     "metadata": {},
     "output_type": "display_data"
    },
    {
     "name": "stdout",
     "output_type": "stream",
     "text": [
      "Playing poisoned audio for sample 1\n"
     ]
    },
    {
     "data": {
      "text/html": [
       "\n",
       "                <audio  controls=\"controls\" >\n",
       "                    <source src=\"data:audio/wav;base64,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\" type=\"audio/wav\" />\n",
       "                    Your browser does not support the audio element.\n",
       "                </audio>\n",
       "              "
      ],
      "text/plain": [
       "<IPython.lib.display.Audio object>"
      ]
     },
     "metadata": {},
     "output_type": "display_data"
    },
    {
     "name": "stderr",
     "output_type": "stream",
     "text": [
      "100%|██████████| 75/75 [02:12<00:00,  1.76s/it]\n"
     ]
    },
    {
     "name": "stdout",
     "output_type": "stream",
     "text": [
      "Epoch 0, Loss: 0.7385736396862194, Training Accuracy: 96.875\n",
      "Backdoor Attack Success Rate: 1.4814814814814814\n",
      "Clean Accuracy Drop: -1.8333333333333428\n",
      "Running experiment with poisoning_rate=0.01 and frequency=24000\n"
     ]
    },
    {
     "name": "stderr",
     "output_type": "stream",
     "text": [
      "  0%|          | 0/75 [00:00<?, ?it/s]"
     ]
    },
    {
     "name": "stdout",
     "output_type": "stream",
     "text": [
      "Playing clean audio for sample 0\n"
     ]
    },
    {
     "data": {
      "text/html": [
       "\n",
       "                <audio  controls=\"controls\" >\n",
       "                    <source src=\"data:audio/wav;base64,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\" type=\"audio/wav\" />\n",
       "                    Your browser does not support the audio element.\n",
       "                </audio>\n",
       "              "
      ],
      "text/plain": [
       "<IPython.lib.display.Audio object>"
      ]
     },
     "metadata": {},
     "output_type": "display_data"
    },
    {
     "name": "stdout",
     "output_type": "stream",
     "text": [
      "Playing poisoned audio for sample 0\n"
     ]
    },
    {
     "data": {
      "text/html": [
       "\n",
       "                <audio  controls=\"controls\" >\n",
       "                    <source src=\"data:audio/wav;base64,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\" type=\"audio/wav\" />\n",
       "                    Your browser does not support the audio element.\n",
       "                </audio>\n",
       "              "
      ],
      "text/plain": [
       "<IPython.lib.display.Audio object>"
      ]
     },
     "metadata": {},
     "output_type": "display_data"
    },
    {
     "name": "stderr",
     "output_type": "stream",
     "text": [
      "  3%|▎         | 2/75 [00:03<02:08,  1.77s/it]"
     ]
    },
    {
     "name": "stdout",
     "output_type": "stream",
     "text": [
      "Playing clean audio for sample 1\n"
     ]
    },
    {
     "data": {
      "text/html": [
       "\n",
       "                <audio  controls=\"controls\" >\n",
       "                    <source src=\"data:audio/wav;base64,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\" type=\"audio/wav\" />\n",
       "                    Your browser does not support the audio element.\n",
       "                </audio>\n",
       "              "
      ],
      "text/plain": [
       "<IPython.lib.display.Audio object>"
      ]
     },
     "metadata": {},
     "output_type": "display_data"
    },
    {
     "name": "stdout",
     "output_type": "stream",
     "text": [
      "Playing poisoned audio for sample 1\n"
     ]
    },
    {
     "data": {
      "text/html": [
       "\n",
       "                <audio  controls=\"controls\" >\n",
       "                    <source src=\"data:audio/wav;base64,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\" type=\"audio/wav\" />\n",
       "                    Your browser does not support the audio element.\n",
       "                </audio>\n",
       "              "
      ],
      "text/plain": [
       "<IPython.lib.display.Audio object>"
      ]
     },
     "metadata": {},
     "output_type": "display_data"
    },
    {
     "name": "stderr",
     "output_type": "stream",
     "text": [
      "100%|██████████| 75/75 [02:11<00:00,  1.76s/it]\n"
     ]
    },
    {
     "name": "stdout",
     "output_type": "stream",
     "text": [
      "Epoch 0, Loss: 0.7429638880925874, Training Accuracy: 96.875\n",
      "Backdoor Attack Success Rate: 59.074074074074076\n",
      "Clean Accuracy Drop: -2.5\n",
      "Running experiment with poisoning_rate=0.05 and frequency=1000\n"
     ]
    },
    {
     "name": "stderr",
     "output_type": "stream",
     "text": [
      "  0%|          | 0/75 [00:00<?, ?it/s]"
     ]
    },
    {
     "name": "stdout",
     "output_type": "stream",
     "text": [
      "Playing clean audio for sample 0\n"
     ]
    },
    {
     "data": {
      "text/html": [
       "\n",
       "                <audio  controls=\"controls\" >\n",
       "                    <source src=\"data:audio/wav;base64,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\" type=\"audio/wav\" />\n",
       "                    Your browser does not support the audio element.\n",
       "                </audio>\n",
       "              "
      ],
      "text/plain": [
       "<IPython.lib.display.Audio object>"
      ]
     },
     "metadata": {},
     "output_type": "display_data"
    },
    {
     "name": "stdout",
     "output_type": "stream",
     "text": [
      "Playing poisoned audio for sample 0\n"
     ]
    },
    {
     "data": {
      "text/html": [
       "\n",
       "                <audio  controls=\"controls\" >\n",
       "                    <source src=\"data:audio/wav;base64,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\" type=\"audio/wav\" />\n",
       "                    Your browser does not support the audio element.\n",
       "                </audio>\n",
       "              "
      ],
      "text/plain": [
       "<IPython.lib.display.Audio object>"
      ]
     },
     "metadata": {},
     "output_type": "display_data"
    },
    {
     "name": "stderr",
     "output_type": "stream",
     "text": [
      "  1%|▏         | 1/75 [00:01<02:09,  1.74s/it]"
     ]
    },
    {
     "name": "stdout",
     "output_type": "stream",
     "text": [
      "Playing clean audio for sample 1\n"
     ]
    },
    {
     "data": {
      "text/html": [
       "\n",
       "                <audio  controls=\"controls\" >\n",
       "                    <source src=\"data:audio/wav;base64,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\" type=\"audio/wav\" />\n",
       "                    Your browser does not support the audio element.\n",
       "                </audio>\n",
       "              "
      ],
      "text/plain": [
       "<IPython.lib.display.Audio object>"
      ]
     },
     "metadata": {},
     "output_type": "display_data"
    },
    {
     "name": "stdout",
     "output_type": "stream",
     "text": [
      "Playing poisoned audio for sample 1\n"
     ]
    },
    {
     "data": {
      "text/html": [
       "\n",
       "                <audio  controls=\"controls\" >\n",
       "                    <source src=\"data:audio/wav;base64,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\" type=\"audio/wav\" />\n",
       "                    Your browser does not support the audio element.\n",
       "                </audio>\n",
       "              "
      ],
      "text/plain": [
       "<IPython.lib.display.Audio object>"
      ]
     },
     "metadata": {},
     "output_type": "display_data"
    },
    {
     "name": "stderr",
     "output_type": "stream",
     "text": [
      "100%|██████████| 75/75 [02:10<00:00,  1.73s/it]\n"
     ]
    },
    {
     "name": "stdout",
     "output_type": "stream",
     "text": [
      "Epoch 0, Loss: 0.7563307979578773, Training Accuracy: 92.33333333333333\n",
      "Backdoor Attack Success Rate: 95.37037037037037\n",
      "Clean Accuracy Drop: -2.1666666666666714\n",
      "Running experiment with poisoning_rate=0.05 and frequency=10000\n"
     ]
    },
    {
     "name": "stderr",
     "output_type": "stream",
     "text": [
      "  0%|          | 0/75 [00:00<?, ?it/s]"
     ]
    },
    {
     "name": "stdout",
     "output_type": "stream",
     "text": [
      "Playing clean audio for sample 0\n"
     ]
    },
    {
     "data": {
      "text/html": [
       "\n",
       "                <audio  controls=\"controls\" >\n",
       "                    <source src=\"data:audio/wav;base64,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\" type=\"audio/wav\" />\n",
       "                    Your browser does not support the audio element.\n",
       "                </audio>\n",
       "              "
      ],
      "text/plain": [
       "<IPython.lib.display.Audio object>"
      ]
     },
     "metadata": {},
     "output_type": "display_data"
    },
    {
     "name": "stdout",
     "output_type": "stream",
     "text": [
      "Playing poisoned audio for sample 0\n"
     ]
    },
    {
     "data": {
      "text/html": [
       "\n",
       "                <audio  controls=\"controls\" >\n",
       "                    <source src=\"data:audio/wav;base64,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\" type=\"audio/wav\" />\n",
       "                    Your browser does not support the audio element.\n",
       "                </audio>\n",
       "              "
      ],
      "text/plain": [
       "<IPython.lib.display.Audio object>"
      ]
     },
     "metadata": {},
     "output_type": "display_data"
    },
    {
     "name": "stdout",
     "output_type": "stream",
     "text": [
      "Playing clean audio for sample 1\n"
     ]
    },
    {
     "data": {
      "text/html": [
       "\n",
       "                <audio  controls=\"controls\" >\n",
       "                    <source src=\"data:audio/wav;base64,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\" type=\"audio/wav\" />\n",
       "                    Your browser does not support the audio element.\n",
       "                </audio>\n",
       "              "
      ],
      "text/plain": [
       "<IPython.lib.display.Audio object>"
      ]
     },
     "metadata": {},
     "output_type": "display_data"
    },
    {
     "name": "stdout",
     "output_type": "stream",
     "text": [
      "Playing poisoned audio for sample 1\n"
     ]
    },
    {
     "data": {
      "text/html": [
       "\n",
       "                <audio  controls=\"controls\" >\n",
       "                    <source src=\"data:audio/wav;base64,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\" type=\"audio/wav\" />\n",
       "                    Your browser does not support the audio element.\n",
       "                </audio>\n",
       "              "
      ],
      "text/plain": [
       "<IPython.lib.display.Audio object>"
      ]
     },
     "metadata": {},
     "output_type": "display_data"
    },
    {
     "name": "stderr",
     "output_type": "stream",
     "text": [
      "100%|██████████| 75/75 [03:20<00:00,  2.68s/it]\n"
     ]
    },
    {
     "name": "stdout",
     "output_type": "stream",
     "text": [
      "Epoch 0, Loss: 0.7585807357169688, Training Accuracy: 93.66666666666667\n",
      "Backdoor Attack Success Rate: 83.14814814814815\n",
      "Clean Accuracy Drop: -2.333333333333343\n",
      "Running experiment with poisoning_rate=0.05 and frequency=24000\n"
     ]
    },
    {
     "name": "stderr",
     "output_type": "stream",
     "text": [
      "  0%|          | 0/75 [00:00<?, ?it/s]"
     ]
    },
    {
     "name": "stdout",
     "output_type": "stream",
     "text": [
      "Playing clean audio for sample 0\n"
     ]
    },
    {
     "data": {
      "text/html": [
       "\n",
       "                <audio  controls=\"controls\" >\n",
       "                    <source src=\"data:audio/wav;base64,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\" type=\"audio/wav\" />\n",
       "                    Your browser does not support the audio element.\n",
       "                </audio>\n",
       "              "
      ],
      "text/plain": [
       "<IPython.lib.display.Audio object>"
      ]
     },
     "metadata": {},
     "output_type": "display_data"
    },
    {
     "name": "stdout",
     "output_type": "stream",
     "text": [
      "Playing poisoned audio for sample 0\n"
     ]
    },
    {
     "data": {
      "text/html": [
       "\n",
       "                <audio  controls=\"controls\" >\n",
       "                    <source src=\"data:audio/wav;base64,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\" type=\"audio/wav\" />\n",
       "                    Your browser does not support the audio element.\n",
       "                </audio>\n",
       "              "
      ],
      "text/plain": [
       "<IPython.lib.display.Audio object>"
      ]
     },
     "metadata": {},
     "output_type": "display_data"
    },
    {
     "name": "stderr",
     "output_type": "stream",
     "text": [
      "  1%|▏         | 1/75 [00:01<02:08,  1.73s/it]"
     ]
    },
    {
     "name": "stdout",
     "output_type": "stream",
     "text": [
      "Playing clean audio for sample 1\n"
     ]
    },
    {
     "data": {
      "text/html": [
       "\n",
       "                <audio  controls=\"controls\" >\n",
       "                    <source src=\"data:audio/wav;base64,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\" type=\"audio/wav\" />\n",
       "                    Your browser does not support the audio element.\n",
       "                </audio>\n",
       "              "
      ],
      "text/plain": [
       "<IPython.lib.display.Audio object>"
      ]
     },
     "metadata": {},
     "output_type": "display_data"
    },
    {
     "name": "stdout",
     "output_type": "stream",
     "text": [
      "Playing poisoned audio for sample 1\n"
     ]
    },
    {
     "data": {
      "text/html": [
       "\n",
       "                <audio  controls=\"controls\" >\n",
       "                    <source src=\"data:audio/wav;base64,UklGRkw8AABXQVZFZm10IBAAAAABAAEAgD4AAAB9AAACABAAZGF0YSg8AADv/if/1/9P/5r/4P4xAEH/XQCm/nIAAP/PAMD9gP92/Q4BXv6yAMz8VQCe/eYBtf06Ae38lwH+/K8B8vxDAuf8eAJJ/SUDkvybAh/9BQRf/FACz/vRA0T8pAPC/CIFLvzGAz/8lwXz+8oDF/swBV77IQRX+skEwvo4BWv7qAak+xcG2frrBiv8fAdb+nMGC/y6CMn5RgY3/ScKlfYPBagCoBFt9nMGhRe8QJwjbQai2MvtufdFD8DtAvKr8R8RQPTa87DrswzS94j9Zu5NBrXviPwE8vAMRPc6BJH1Vw+++qcInfUkD03/6A/59IMK5vx/CUfft/ejCcE2ngZc+S7oshMk+r4AR+wKDXnzfwak96YT3PA0AYjzhBOJ8PH+a/T9KRUe8iRL7BH8ZPQhF0nnQu6k4GgJD+I99vv1DiSj8d/1RutfHDPyxv1A8mAfIfAv+a7r6B4M+S0Ds+nmG2oEghN95N8IVgCbII7kh/cA9eAlyOfK8Q/xMCxj7QTtWuN/Jkf4Gf285KQiMQMYD0PgdA9kAWYfEuAr/I34Fyyj6Irz5uzSMbT6APzZ3DkeMP4bDijbkAxw/JYe/dvJ+n/1YS5z6HvzSeYwL5n5U/6V1MUOR+lYB13fYA/V6LEOi+feGWT6xCBT6vETDfxBKnrp4Alp+Z41l/JcB2zwfjKK9JIE2N81H3PrnACazmQIQubUEEHdsg408Bgl2e1WE57u5ytU/S8egOXoFqfvjiF26yYObdYLDI3k9glYvpLmx9azOfMglkKG8+MaB/VJKzvloAH/0zgdgPWeHbTanAyw5+0kG+v/GSDudyEk2CoDDuSmKQjjEgFe1HMi9vHeGInYaxKG59gob/aWJpXkOxfz5X4mK/G+HtPawBeU8fknCNPHAB3lvjOn5P4FYt9FNxP3bhJmzacY+u+fJYbVAwXZ1/coTPFcHPXRwBAV5Icps+fqGLbanCE87foiSdYEFjnvGDMA3D0M0+fjOxvoUgqz1RIvgfBUHW/XSh8s5dAeBda8G2rsOyv70FQMaezaPUHaMwCx2lM8KOdmC9zWujM+6B8RaM7IJxXwRSNOyQIVUvSqPBvNIfzW4i5KFONM/W3NEz2Z8eAR5MPiI8TzNzCDz6MPnOFVOPTexxFS188wit/kFYrVoy0j4yQdTtK7JBbkeSnb13sfad5QKTPVnBte4PMxEtgwEmbR5TF57Fwm+sq4G8Lm4Doi3hwZ/NQCLoTcFB+52N8rKtZ9G6XZxTJF3+4gDdWSKjncOiR71tUsseNMKjXNIBwY4Ac7xN49HUHRFyw+21sqFOMYLI6/JA+e6ChOjNWeANnGqkR+8dobg7aaIbryOj3FvLwC1+EXWDLfawGWvgRBWfLTJdjAFSHL3csx3c/wHgDXFzfd2WcgRszSLSvdbiuYzTAliNixM4nWACEWxy4n4tsCM6nQfh6mytQvE+EvMBHJWCnz7rZLFs/RE1vaP0/s274LfLdCOzD3BDJVqvENq/McYh3HRPXrzoBf5tsG+/K0yUMb4FsRnLHWLLfhqS2mupEcut4EQ1nFhhFE19NN7dHZF9Dc8lCTxqcDldJCXIrZZgYFvYdK0OYJI+W/4jb54IktrLiuImHkXka1uqwHw9PbVn7TAw9JyhJNTdJaGVzYJFRUzKkNnNF+XPHcZQ7htEJDZOwuMkK2+yXT4ytIPb0MEpPYEFYBybsM59DdW8jTQwzEwc5TduPTIoe9hTpK2Kgvjca5NbDUQjABvBQoENuMSU3JGhvxw0tAm9GvKn/M7j3PyIoksMyaSD3a1i1iwLE1X9kqP8vKMTIa1XA9NcDxJ+/cZE9dvmgOcscJWrbe8RpOp/0xqOFDPuawqBm21sFUdMV9FyjOLlT8wuwOk8lnXxbXRBeGuPlH99XfKzvFSkQ/0VwoJbadOmHmkEiVsvkZ59qjYVzImxJ9xodYlcqkFoXHz1xF1PgaO7nSSZnUIC0twfM9mMcrMoXR9kh2wvYewrw/SancXzcatHEvtthDSmy5/iNL2h9aPrinFcffknJ3vMr7YsiDetzWGgaGsldhpNq8FVCkoUYF5y89pKb9Je3grFjLqV8GIdTseMDOvgjftz1bh8KVD4vGtWyT1EkWVbXhVxHZTSgJsNVE598zQgmujCsA3Y1S1qFMCb/c/38tw87xFaNtZNjiiCNqqrZJnN8ZQh64qjYqz1tAQ6yxKKDgAWnxuOAH57ZQYIfRVCTfvslakdIMLUS650ZnwjomZrNdThXpHVASrl4fZMgXW/bIDiz1xEVQS7kxINXFY11hxaUeObnhXvriZD72sWA0zMETQqfIvUW5xVE3ZrBSMqXJcE0xv74smLpeSp/MHDzquIQ3MrqtO1vJjkxRxYI12rSjOA3AmESizItCwrBvMZvQRFkMuS0cVrGqTD3FsjMUwRxNuLqYJfm0e1LF15M+O6qBO1LhPlxapKAQhspXczjFMh1lx+Fola0h+h2uFnkq5+IlQpcjQ+PeBEoSoCojdNKjaJ25ExqZvPlabK6BEJbD4n4r3ewd9JYmQbLPpEmoxGRHyLlFNiq8IUKusRYwUsFcVlrJzDtoukVGpr1fOLu7U1Q122RJkKAAJbzNLWNotegl2NMgdKCz/gYas/VvtMmTGUesUmQZ1pUpEpb5PlveVVeXpEEkuNPdcCq04Q5WtuZu88qHIyu1QWI6x2ck/qjmWYDgU0uRqAMyk8Y2WZW/yjXpvC1RoLoCM7q8SFIKuTotArY+VcPIpzr4rm1Bx8AXR/O9rUMhucY/y7xKTvjMAE07s2kz4Le5UKPJPUNPrzk8ZsLlTia7hDuIu4VN+L6CPDa21kwWy9lGzqozOfrNMl9LtWck6K9/VxjIbztKtJtLRMB5QrK/e1DZvmU+urgMSX279UAxvE1I0LSoNdyyLlEi0QNE+pQgJLzOuXHsu5gema9eXyrC7C1ntWpd5cSeMTisHFSg06NLhqsSOB/D/1pGw5o8u7OpSEy8OEZ2xDZOE624LXa4M1tuxzg75anuPWm3FUeFxIdPnrQsN+q3OVW3yJRB3qcbPKrHJWETy79ACKrxPgPCi1CfueE+frm1SuS1MDpetaFKQLlkO+KwAErSxN1FhKcOOHnHql8WusIuzq5rUaPAt0CLu/VSCL4zQG28pVh7yc5BW6ZuPvzMh2NVwfA2OK2lSdW970Has1lEp7RPPRyyLkOrteg/hLNxRS28t0h9tmQ8WKwWQ2vFAFTYtZY4mbZBUWG+Nz9qs9VMfMMaRtSsV0FbyRhZH7KZNMnAYl6ptVwpJK+JWQrCDzJGoZVHWsyCTwWq6TYkxUZfvLffMcK6wV8vwAk1IrNSWBvFgD0eruZNrMsaUC6wVjnKupZXq8USRKKwnUU7v6ZMSbjcPF2rrkM7xypWD7UBN3y2g1KivuhGIMbtWKe0NjA1skdZisr0Qy6s70IAwX5MErKXPhPB5FUYt5o4LLnTUtm0HzKUsY9SN79PPqKyf0dxtNc81rk0VmrHj0XgrGxBQ8WdWby/4j8TtZJM9r90Skq+gkgNr9w6eb74WMbASzupqndCaLvMRka1lj+jsOM/7ra9RzW50z8GrchARMP/V0PAFD4BrxxKVcqTVKG4ckE7wYdVSrp+OUCzO0vZuOQ8fLbqUufHhkDInfo0E83zZI60xiZistReWsXqNNarrVFwywpISa4GQWzC10uGqoIzO8NxZOzDpzCooplCVb9zScu9t0osuCpAarkBTUfADEeAufpJpMKYT3y/fER9sytANbo9ThrF9EXWqOQzNLyKVdi+GztMtGtPFsYDRmyxCz6YuptP78imT2i4ijgJqz0/cMGKUwTD/0CVrB06xrpJUUvIz0d7rw4+C8a3Vh64Si/pq5BLsshWTbq88kAsrtI3nLnxUb7H10CwpKIyHcDUV9q/IzVVq3hFxsQMS1O5sDo+rIg9NsVbWFvFvjw5q7g898FoVI7IzUXLsKk3lLZ3S3HHmUfXr981nbryUGvEPTx8qUI6GcQ/WX/Liz0DoUAvFsMoXE3GNTlor5FAWrngQPnBv0+Avv045LJjTb/UzU11paYp6shgaejG8Sq4q1RNfsXMPBW4xEtPxJFALLa4Q1HDjURGsqk6+cZdVhO/fzOQs7tHzsBvRGXI1FBmuGUx1bojVnPOT0AdsL0+/cd4Te+4xzVmuktHeLhQNs69H05PvRQuZKlCQwbR2VDRtxs0oL6OT9PB8zm5vThPdMeWPXy3U0jNzz1LJ7OVM4HG1Vd0w7gzPLlPTK7CCzUZs3VGV8yiRHiwfDD7vWxLNcD3OW3A30h4uSMx0LyeUGHKSzr/svtAh8wXS0e57DDltxlFMcPCPQG9uD7btyE2Cb+TSsnHPzumsm46a8msTQbAPDG/sqlAt8mnROW5XzR2uZA/P8HqPuXAB0GFvi86yL0mQtTFXkKPwGk+qcFhQEvAHz+0xTpGRMTjPRvCNES5xq9BQsMvQELBBD+bxSlE68LLOoS+uEAKyK1C3cDJO/nDQERNxj4/9sO4QOzBmjsYxCBGV8w8RLPEcj4OxXBDSsvqR7LM0kIdwtA8EsoJSj7LBjsTvPQ7DsuqRKu/ADCvuaA8LMdXP1nEQTjXtiku8r9TRuLPMDsKs2ksM8UbR9nDbC1NuFU8TMfDOIW80TDitJEqMLnGOR7GtjOXrkIklb0BQYbEJi05tDwxJ79HNLi9EzIguS0trrqBNFvAYDIZuk8xmsMSPWnGXTdzw4Q6q8b+OkXKG0LLzpxAqsvzP/jNjkI90F5FudR7R5bQCz/2y9NB/NLmRmnTkEHhys866cpyQK7QtUAczMA7qstcP5jP7j7Ty+g8ZdCcRXzWIEOQzvU+RtWPTEvfkkvx1oNDndVbShDh90+G2tpDyNWyRt3WD0IX0whBf8/AN4DFRTF5wnYtnLwQKCu7oyZFtB4cKK+aHUix5xxSsf4d2K/OGF2sWBqwsu4i0bobJOCyFxu6tGcmRr5cJzC7jCNRtsQeQLcFJ4TBUylGuQMfALnUJui9GiWLvWEp5sHVKazCrS7zymE1as0bNaHPPzuO18pAgto9QwXfOke74H9Kk+rdUiXnJEmx5/hThO39TWDm2ExX5yBJXeAERLbfxkHS1s83itZ2O37QsS17y+8yR83MLDDKki86y4krosrnM/jXwzwZ2dQ6ItzIQc/hrUZo6yhQ9+o6RxHn3ksX7FNLEuoTSRHl6kHx4Jo+y9mzNfvWKTda01AqzcTzIH/Bxh7lvVkasbppFDyvTwoMsQISnrDkCHat6A9JtN4NxK6pDdy1YRPhsw4O87URFhG5wQ+osoQQOLm2FTG6MBQtucUQurGPCxS5KhsBwiEWl7hLE2jA3yFD0P4sq9UrMCneCkKY9ZFQBPPkR+L4Sl6WDoxjbQV1VhX+GlfaBJVdeAQ4UIDsbjqg5q4/tOZNMbPRiiHky3ofd8dUF0nAhBN1v54U0cNjGBHDqRULx3UiLtdlLXzbzS8M4ow5+OtPQkj2sku4+fpIG/hIS7/7S0tH+PtGZfXLQhDulDmw5+U1g+NCL7fdVCrS1wAiJ9A6HknRJR+izfYWDMcLFjTLaBmXyuATmsPfDrLCZxDtxF8P9L8CCVi8fQfBuSwAirGh/sa5KQcOt1X3RKdH8/+vI/8rtib9UbFE+DCu9/lCuYcLd8gtD6rCyQq2ytMdYt/eK0PoOzKm7rU7o/7rTTMMPFJ6CxZU6ROnXDgVsFXbDTpSeAzxTvEGOkU8+ec1tO3rLiPoSCaH3IIYYc+/Dg3MfRAlz5EOrscoByTIgw/K0q0VZNWyGCXcnyEz5fwoYu0BMzf4GTvQ/D09LgAUQncFE0XWBbRD1QQ2QKP9kTi++rw2ovPIKp/rkCdL53Yf2ODZHATg1xmJ20UWx9raFO7WgRCI118UedhcD8DSHQxu0T4JCs1LBL3JyQKHyS//9r858Y60DO10uB7zgbqr7I6uEOMZr6PrvbgY8O64DfC8vOz1j8Nw/dDN6gj61uwMGdrkE8Dn4STU9pctQfsbMhIFykAOFKhJGRYwR3cV4ktKHv1QGxqqRMkO9z+LD6Y+QgeYLyL4BSQS8TwfquwZF+ffTgna2GwJxtqgBzHWjALo094DddlkC3bg7A5c4rARaen5G4jzoCEn9lEl9P7YL2YFiC+kA0wx7wplOQoPqzevCuYxfgUPL04HxjB2Anwk6fYYHz/34B4a8/IXLe6yFBfr/BCZ6WsQ2+YNC/fjwQrF4v4FIN0VATzZR/v60dT0+c5w8ljJ4Of0vhTgz7rI4O3A5OQEvLbXIbJB2kLAfehexZ3i/L0Y5IXLlvUO2Mv489dt/Kri6Aow8FISyPLcFIP7WyRcDFUsugm2J3EQ/zmmIqFAiB44OL8Z5znvIIRBZiQVO7IUqSk2DEQqeg0MJLEBZhYJ9sgN+PDTCabsSgN+5W79MONn/avjmfuF4fH73OagAzLtAwa47twHGfK5Dir+1RmJAnUYiwRCIbwPmifwEA8n2BPPKxEXjCwgGLQrDhNcJDwQ7yVPEEEfOgYyFmcBkxNo/tAOI/rpCR700gNu8ScDZu85/T3pRfmd59z2V+Ol8L/dMOs/2BnlQ9Og4VDRT93nyVnVdMZP1p/IXtVcxdjQvsIb0+fLEN8P1cTfqs8v3bLYA+7k5xn1H+ul+ZnyagFw+mgJGATXEeYJ1xeMFIwidRj+HaEVLieSKho5sSy/KzAfBCniJm0zhi7yMo4kbyFKE/gYnxciIPAUPRABAv4CfPsm/jz3GPp09Kr2Re8w8QXuBvIC7Q3vGO7B9dv21fqb+AT7jvp0AJkEOQw0D7MQhQ2LDqQSdxkAHbAdVh0ZHagdsR1ZH04ftiB/HTwblxZtFxEVgBXSD0QOlgeQBgABAAM1/hP/Kvhf+TH05/dO8pv0VOwT7i/oZu7d6JXrbeF+46Dak97t1ondINYD2mzNOM/0xYDQ5My91gfNfNLtyADURtDq3v3YKuN72knnCuPl8z7vGf3+8g79efM0BBYBbROtCd4SsASpE+MOUiPsGSglphVkIz0aWC0AI/cwdyC2K/MbCixIIAMxVx+8J0kRfh2eDRceBgxYF18AAgsi9sIFivR5BaPxBv8v6Q36Oem0/dDrhv0K6lj+pO3wA53zNgrb9xkMe/gyECAAJBgyBDAZlATdHHMLFSUXEMkjFwpSHzoKfCQ0EFEnpQxKHxoEyRvnBPEcMwLnFjr63w9f9DAMEPP2DDnxmQZ/6OsBh+cHAF3i6/tU4Ov5y9p88trUZ/DE0m7rncut5m3IW+GXv0HbDr8x34DDN+I+w+bfscCs4ezI4e+p1yH6etqa+bja2f5w5rwP5/SPFtn0+hZq+O0bPfyYIMQBNibiBLsmBgQQJ1wDNCXbAosrWA9+NhUOLym//9knRgs+NVMRezTrCVonsPs/IYUAlSsYBOkihfN7FaHttRSb7ZAVDO0mERPlowoV4hYLdeIqCzvjcw4l590QZ+YqEKTnQxRa7UMbs/PXH8TzkRzu8Rsi/PwfLRACDi0d/9Mpk/x0Kl4AGTCLAsMr2PmFJcn2JyPf8rgfmu8lG87okxVp5EcRG9/kDF/c8Asl2ksHedOzAc3PbQDwz3ECM9C1/VzGmPSbwhn46MhN+xPEofA7uofvTcEU+WjGt/iIwyb548gRAzPTmgp51Z0JDtahEfPinRxs55odg+hSIYLtwybs8GQnne8rKAbzZS2W9kwtsPIYKVPvSSlf9Y018v9xNRf1tCsZ9Ckzjv3/OdD+4DWN9dEraPCXLxv4IjNj8pkog+iVIh/l5CDX40kgYeHTGn7aAxfi2bUXxdiwFmnaABxN3xkdb9zJG9PeBCHs5BkoX+plKQzm3SNH5ZUrAfHtNDHzFjIn7q8tcexvMeHyszXT8Isut+fTJzjk3ydr5UMox+LcIkrbxhyZ19gbeNcuG/nUDRgj0XAU0M1DEs7LfhAXyp8QJ8o/DhvESwepvgEGXMAVCTnCbwgwvcgAQbfXArzASw28xKYKS79UCXrEyhOczyscutL7GyfSIh9n2hYr2ONoLijiES5W5UIycuZFMR/lQjI7594zwOdGNOfk3i084f014PHbQenu8jSk4jsyMukQPefyJEO28PY3oeNiNKjqvT1P7ZA5X+WtMTDfnS5b3mwv+9xNKh/WeSZK1Q4m9tIhJLDSdyU41F0n9tSoJiLSsSO30TgoKNjILBbYCCog1VUpFNcQL8Le5zV04OIxb9peMPLdOTZt4ik5IuMTNy3e5zLE3IA06t6wNfPdvjOT2mMvgtVeKwDT7irI0hoqwc+5JEnI0B2HwxYdIsX+HerBXhb2troMirLhD5O5CBTItLMI/6o+Cae0JxSVumYWm7qQFXK66xmfwwQl8MsTKm7PbC4t09ovldL/MXzYQDnY3DM5E9hEMpjR8C/B0yk1TNhDNmzURTA2z5IvpdRbOljfO0Ar3tU7ktvdPkLjQ0j56UFLbekpSQ/nFEil5mhIM+afRqbiEEJ+3Bg77dTONNbQDzOlzrMuOchCKbnDmSSzvwAl/cJFJ93BSyXBwF0lHMFrJwjF8CxsybkuuckzMZDNtjT90Co7fNnZQS3bEUF+2jdCj91cR2/iHUqT4QRHz90rRDrbA0KN2FM/gtXmOznRrzd2zLcyhMdPLzzFCS1lwVEobLuKIRa1Yx7ktHgfgLOlGn2swxRAqa0UeqovFumqjxWGqaAVQ6wlHA20WSLitngjcbjOJ0a+qS1rwwIzl8flNAfIrzfszOU7UM8MP07Spj+pz+s8eM7vPEzO0T0k0OY/tdDGPnvOhj690YZF4dkHTCncrEpN2R1KqNspTkvfulA23/ZNW9q0STzY1Ukm2BpIxdM1QvDMfTvyxmk3uMMLNBW/7S6WuoQsqrgcKv21hSnZt6gsLLpKLr+6iS5ouxYxx7/8NlvFoDtiyMU9fcq7QXnQVkn71rtM6tbqS3/XUk9h3NlTKN5iUjDa404z2EROrNahSnTRXUYazuZCMMlQPSPD7DZnvK0x77hXLxS2nStIsSInMq3QI26qviH2p4ce06P5GhuhURmLoK0aC6MlHv6mriKVqg0kzKnWJOiujS6Ouc81jboBM3O5EDnDxdZFx8w+RivJZkNEyaJGzc2ASiPOwEYSyJRCaMdjRAPJzET4x9BD/se7Rb7LGkvlz19MLc8TTSTS0FCY1FtSRNU7Uh7UD1GS06JRGNOPTpjNSUn/yQlHk8bJQV7AhDy5u6o3xra0NFO1/DKksjcxVLIvMqOzKjS3tds1+LZcOOW6Cj0Qv6dAJMLBQ/nEJUdIyaVMQM63T/jPOVMO1S5XAtbDVtHVV1dq1s1XJdZmVp3SB1FMzF9MoclvSsbGkUaDwVdA3bqBOg22nTZPshEzBq+VMCKsTSzpplooXaSVJgaiTCRboc0lyqEmImqbkh4mnbwjbqJFKLylpyrwpsMrpKpKNCG0rjnLtT895rxmRCTBI0fAw79JM8Y3TdXKy1GByyJNk8SHSebFEE2Ax7tLTcStSGrCX0gHw8FJs8QKTOfHSVDEy9VSKcz9UVrLrFLMzVNWydD6VgbO4VHqyDFPVcgmT+LG+kv4weJFrrttQeq4/j7dtTU89rM6O0uzuDpAskU5trE8O5G0KT3atQZA57nyQsS6ZUS0vhNKjMO1TCfETE2IxkRSZsz/Vh7PnVjTz59YW8+pWGvQi1oc0cNYws0QVmnLG1I/xQxMy8A5STy+4UWAuQJAFbLTN5qrhDX0q8E0ZqhLMG6kuiwToZQqGqDGKd2dGyY1mo4kQZuKJ12eqilsn9EqiaF/Ltam2TT4q4M3zK0TPCS22kUYvSdIlbznSOHA4U8Dx5VSeMYTURnF5U+MxL5Qm8Q5TcS+n0lZvuhJnr1kSR2+6ElSveBI977STgPGTVKixRdSHsegU9bHSVVVy+FYtstiVYnHLVTdx+dR3MIwTjnBlkujvIpHtrmvQ8az+j0OsWw+p7GOPAKuLjq3rYQ6Z64xPeOyI0GftMpBPLYgRda50EdavOtLYMF/T+jCLlF0xvlVbMprWNTMJFzfz5FbYcxkWVvNUlvWzSVapMqKVCzE60/DwYJNN70aR/C2eEI6sys+Qq4COhiroTY0p2ozA6UvMcWhYi2fntErgZ4oLAyekioBnBspjJuPKbycwisVoPcvZKTqM06oKDgMrL46IK+/QCq3cUdXu4JKN70QSku8pUz1wmRTrMXdUfvCulDywp9PY8BwTX2/kkxyvQlK77sRSna8xkmduyBKTr5oTmzCElGCwy1RScMvUUbEm1ODx/5VoMfOU5zEhlEvw/pPR8EPTr++EkqYustHkblbRU21mEGnsxZBzbK0P9qxlj+bsWA+A7G0QIG1AERwtmdEtLccRjy6jEqfvzZOFME0T6vCC1E0xU9VtMq1WXrMXFnRy3pZY8xtWaXLq1hVy/tX2cgPU+/CBE7pvrFJULoHRpW3nkI6s0E+Lq/aOdCqvjaDqQQ2BqgoMwikly7wn9Ur4J7gKzif0iu4njMr7p5RLNif2SvintIsG6SgNcGsLjo/rdw51q62PUq1ikbqvWJL/L6rS//A9079w6hQ48Q5UeDEG1Cmw6hPicJ2S5m8u0f3vPdJQL4lSRy8OUYWuTdEOrpxSXbBj07RwqhN9MGbTfbCr08+xhlTTMjUUgDHJFLIxnBQYcPxTH3BPkwpwUxLeL4nRle4RUF7tsdBXrdKQcq1vj/8tCE/jbQ9P6i1lEDftttBTbnPRZe9OUhMvvZIn8CCTMjE0VDgyJ5TT8pJVKnLrFYBzjJXiM1zV6jOc1epzDRUn8k2URXG2kzQwSJJQb5ZRMy40T8CtjE9J7LHNwStbDQmq1Ay2qiEMHGnsy1UoygqeqGcKEKfwSWRnXsmCKFoKyumZS9jqPEv+6g3MtutcjhJtAs+prgAQfi6CENBvU9FCsCoSGrDyUqQxIFL5sQWSnvB80VGvxxG6r9SRHW8B0I8vNtB57uWQii+50S7wLFIusW8TNvHdU3fyDJPK8stUdnN9lQZ0ftUQs6xUajMqVAAywhOPshgS3TFV0fhwCBDV71HP525gjyyuIE8+7cVOpK1KDl0tiM6TLezO+u54j2Bu1g/DL7MQsLB3kVPxTZKUsnjS6XJX004zYNQKs/RUUHQ7FEI0DxSz9B3UYXODk8mzXJN9cqkSsHHi0YOw5BBIr9/Pj+8nToguHw3+rU2NBeyFDFEsJ8ukay9Kqqq3CrWq6Yqvaj0JDCkMSTOppYmcajsKCCrkClFq1EszLCwMN6yWTIgtkA2U7qBOg6+RDw5v7c+QMRYRCHI/kToxndDTcZMQ+vGbURjx4VCYMRcQLrEsUEHxrlCocbfQSjGNUTxyx5K784eSY7M4kewzTNKs9AFTfPS4Uxm0GBJNM7mSLPOvUeSy51Df8gKQtHHXkDBxMA7SMCcOEe/kDhZv4A3e73RNUK9hjb3vlc41sC2Of7B+jpFxIo9D8eyP4bIjUCdyjVEF88yR8nQIkm/00BL+9QaTI3WZU2k1g9MUNXrSoTUdElX0ilGZs7+QDPJ0zwsxkA58cGANAK+6jCUunktsrecKtW08yYGstIlsLFWIw2tBB7GqJoapKfvHCqtESKjrzchPK2HH7iu4yN4tdUqUruSLj2+pTH5wdg0LsVJOLHIdjqmylc9+85vQLDP+T7uzD07rcpPO03MfTsEy4c6gsuZOrDKwDkHzEg9MNG0QabUEUQC1ipEadatRYHZVEh+29xJw9yMSabagkXa1sxCUNXXQMbScj3Zz286oMsrNJjFQTAxxLQuZcIILvjCOS1jwXAshMK5LbvDQC+bxvcxGsmPNBHM4DZyzmc549F4PEjUnj5/10tC7dqOQ0LbaESx3e5Got+dR6jfykbK3dhCctkZPyXXlDw/03E3I89cNHzM7C8fxywr8cO0Jy7ATSQsvkIis7sPH264vBr6s38WSbFOFfKwahRNsBsUsrCTFFGyvBeCtzAdJ7xTILq/MyW+xYop6MgBLdvNPzJf0vY0ONX5NwDXQTYq1Pg1bNaYNWTTDDOj0gsxyM+aL0HRgDHt0ZAxg9SgNt/aFTu63F87kt3xPPDgQEF45QBEHuZ2QmTkoUCm4i0+2N8SOzrd9TeL2k81gtexMKrRcyrkzWcpTc6CKGLMFCa6ykEkP8kiJGXLoybGzUsoftAoLAvUPC3306Et3NZyMeTaEzWM3tI3K+FoOhLkbjwL5vU+mekTQWXpHj925+I89OT9OMHhQjdO4M0y4NkCLV7WWikX0gYlmc7aIKTKRh3Mx1YZMcObFTfBFhOsvt4QAb3lDUS5KwtAufsL7blBDHG7kA4IvzwS68IXFvDGXxn2ya4b5c0vIojWCioy3NkslN2SLIXdrS2K3x8ufd9bLv7fsSws3GIopdmsJtHZcygI3BgpUtzPKtjgZy/l48YwNeYUNBTqkDYu7KA5s+/aOU3tGje67AY3ees0NMToDDGq5dws6eB7J7fbAyJs100fdtblHXLUjRsH0/MZ29EsGu3TAhzM1cQdt9jlIOjbWyMv3sQkud+nJvLiVCrl5hEtougmLWfpHjB+72c3BvW9N5jynzWj8oU1h/GuM3XvdC9x6tMrO+laKVXkHyJ93eccKNr4GbLXaBYv02sQmM2tDBjMzAovyWcGxMWDBB7E6f+Uvkj8vb64/rvDYQZYzFwKLsuyB/LLnwyN0zkTkdkXGQrfARw34VMffOb1Il/nCiP46UInB+6FJ5rqoSFy5FwcF+KUHBTleR8h5qYdHeS4HejnNCPY7O8lPu/WKCD0zC3N9zQvhvdGLZX2/i2h+d4wrPqSLkH2qSjE8KgjwOxaHwzoqxlu4yIWR+FpE8Hd0Q+i2zYOa9unD8jedBI54BYS9d9+EkPiERbu5qkZ7enLG3/s3h7+74EhZPLgIk30tyX7+DUr3/3pLED9oiqn+9opdvs+KB75MyX99d0hRfN0HhDv7xfq5/kRzeSSEOXjaA1J3+0HNtrtArzWqgD/1Q7/StKE+R/Owve1zl33zM1r99rPAvrs0tz8vtbSAOLZQwEN2gcDzt4NCTDl7w7u6nESseylElTtjxRQ8EoWqvFwF4Dz+xeJ8qUVQfAtE63vKRW58wEYQPVHGZr4oh2K/BAgvf5hIf3/6yG5AVUl1AVcJtYDICMqAv0hsQAEH2H9txrm+DAV7/OhEQHxtAys62kIwumcBh3o3wUz6CAE8+WzA9Ho5wZa6xkIi+1PCyLxAQ668ysQjvZKEpn4iBSm+1AXO/5OGOj+LRmHAR8dmQZnIGEHGx4eBOcbkwTUHMgEahpdADoV9fyME4n8DxHy914LLvMZB+Hw0gUi7wsBrehU+4XlJviS4on1kOCG8nTcL+3P2MLqiNcG6oPYveyf3ATvSN1W78vemPE/4wD4dute/w3xRQOs9LsE7vVcB4j6qAu3/T8Nvv8HD2gBAw/X/gkK/frACFn9+AsgAJYNVwINEGUE8g9sBP4R9Qj4FSkMrxivD/4bZhFEGmwOPRcFDfkV2guEFFUK+hCJBa8LCwHHBjH8/QH3+OD+TPYz/GX0Hvsl9IP5evJ1+EjzBPrX9Yv9OfoZAGD7OAFL/vADBAEhBnMDWgjgBdoKswkUDrgLLA6mDOoRmRKSFTUTshN8ESASOxAHEHAOng1pC5oJTggJCIkHFAQQAd/9f/11+1b73feX98LzfPMn77fwE+6z7yvpS+gx42/ltN994TDdGOP14NbmpOPi6Ufm6OxZ6Eju7+jw7xjs0vWj80H9dviMAKj6DQPg+0ADdfxFBpAALQqCAbQJwQAdCU/+7QVC/JMHBQCoC0cCRQ1LBKARzQgDFZoJ1xSBCkQY8w3bGhgPhxs9Dp0ZTQuMF+wJthbXB7gTegPPD37/HAxj+2AHiPXFAlHyVAGx8MX/re+q/5Xuwf5F7g4Avu+fAeTwzQN58+EGzvahCgv5hgzU+i0PT/26EfH/7BSyAZsWRgS5GrwHNx1yCI8d1gciHIsFNxpqA80YVQE3Ftj9CRNs+zARIPdtC/LxRQiJ7jcF7+tBA7DoD/+F5Hj8aeHX+MvcevQ62Uzy/NZj8GvUku6H07/vI9aP8/nYN/VI2WP27tvI+i7gt/+25cYEwuiKCMbuPxD38kcQgvHqEHfzyBNF9gEXPfgDF9T1IRWS9cwWDfZ8Fgf3YhoK/Lkf0f+gIhwBiCK0/9IhYwB+JLICHCXHAKUjeAAuJKT+0x+x+RAcOfUmGJDyxhaF7+ERdOrGDpDnkgz85bULEeS/Cbni9Qo+5WwNYeZvDmrnjhBU6W8ScOuYFUXuUhjx7zEaKPIlHSn0qx5A9fghUvubKCb+Bygj/JUnw/tlJtL52SSL9+8hHPOIHqDxBx5x7j8Yxec7E1jkNREo4nMPqd+lDBXcAwnM2N0GldWcAjPQmv5JzoH+UM22/FjLVPyCy8z8xMse/mTNxQAn0I0EAtXcCbnY0wxM2+UPDN5ME9ThTBc/5EEZsOalHKrodB016D8doOeeHOLnux9p7Awkze2dJE7wySkf9VgtKve5Lyn5YDEi+vQyVvvVM3z6jjF09zAvwPRxLBPxWiif7EMkKOhlIAvkaByk34sYH9xjFjTaWBUX2ggWFNpJFtDayBhR3WUa0902G/remB1V4eMgMuWxJPvmtyVw6GMoDOsBK6btgi+Z8g8zZvKIMFzwtzDJ7/cuL+0zLXLrRiu06EIpLedTJ2LiGyFX3VwfP9yyHRvZwhrX1tMYptNHFf/PZhLezA8Pu8iEC+nFwgnPw6kHu8HmBjDBXAd5wmwJYMRpC8HFsw3KyAMSas2vFnnRuRpS1BwdUdYrIDHaSyQm3PUkM907J73erCfd3UQogeAKLPLiRC0c5NYws+gPNTTrXzfs7c06nu9nO6XwOT3S8BY8Lu+jOz/ulzlr6z43oOjGM1Hj+S0k3koq6dkdJljWfCNP02EgZNA0H8/PNh/iz8Uf4tDSIZjS6SPa1Akn5NfcKa3Zmitt2/0ti92AMJzgtjQ55Ig3yubLOkvp+zvt5w86pebyOdnlWThh4xM2p+BBM3LdlzCS2hctB9VlKF3TpyjB0X8l9M48JCXMMyAEybserMaNG3fDzBiQvxAVG719FJC70hFhubARVLrFEz+8YBVjvBIV3Lw4F02/KBoHwi0dz8RSICTI3SS/zBUpls+ZKrzPBiuv0KQtX9QvMV7WYDO02Rk4Ot0xOuHe9zxw4cw/zuQDRJ3o7kbU6elHX+r9R8/obEVP5sVDS+NzPzXecjvi2hg459VAMmTQjy7ZzX4sjMonKcPHhCexxmwnQ8etKHTHQimTyacssssYLu/NDzJT0SQ0jtJjNl7VTDmO1tg5yNcRPWLcI0Ka3+VCut1OQGHb+z4S2h0+Rdn+PJ/WUTqq1BA5RtGWM7/LGDC6yXQvHMnBLmjH0Sy0xUQrwsI9KLW/EiVKu60gibjcH3629xt1soYa/7LuG62zRRyws0EcGbOsG0iyohwptfIgqrmNJcu9MSo2wv0tXMT1LvnEvjBMx90zv8oUOCPPVTzG0Tk+29M4QGLUckEo2LdHUd3lSt7fpE3Z4DlNAuBNTczf30uU3BBJ89pCSPHY4UT31F5BedAuPOnKNjeaxgY0NMQHM6PD5TIfw00yPMJjMdTA6jBTwqczh8NnNLzFpDhFyb46PMtbPU/MyD21zatABdDdQlrTckdW1ilItNXnR1rVIEc808dE7tASQzbP/kCEzOs+xcrgPE3HMjlnxGg3F8LgNAHAdjOrvfow3rt+MMC6rC2JtnYpGrJwJUCubyIirKghZKzbIkCtzyNarkklOa+hJd2uxSUWsB0okrIfK8K1zC4puT4yxLzENce+0zaYv/Q4A8M+Pe/GVkHvythE3MzbRQvO80e5zwJK6dJWTuvW1FEL2uhUX9vqU37Y+1Dh1XFPxdT0TRvSBEsxzxFIm8qJQn7Flj7CwRo7kb4+OZm9SzkivuQ5zb1wOe+9mDrqvnE7/b9UPbbBHj9mxDRDWMgVRljJl0ZkytRI+8y6S7LP0k0R0HhN9M9MTcHN80m4yrBHacfPQ/jEFEMbw9Y/2L/LPcS99Dqauvo4krkNOLC3TTbMtj02eLWCM36yDjG1rzYuAq1xLH2rwirQqbwq7qvnLRutzyxlqxIsBathLB2sJS5wrVAvZa/rMn2z4ja0tvs4TbdhOZe4kTzCvNhAjMDnROnEuEkMyUFMz8ndTF7L0k96zj9TldKcV3vVblhQ1MBWYtKHVEzPW1GxzItPvsp0TbnIUUvxxGtGDsBXQl28RT8xulY+ZbmhPRa5qD4Pu0xA6rraPwu8WEKDvRZDq7+hRwHEbErHxWJMTMgeULbMulOOzWNS68sYUj/M6lGLygtP88ZmSxfDF0hwwKVFGL21QcW5HUDquCw/FreCPM2zaDltsdM4GrILOR6wVDbermo2j62aM3uryzJ8qaUvdKdSMH6pczJLq7ozGKvSMpiqDTOfqjEze6sLNUCtizYhr0U5v7FWOxGzqjzntIQ/2riHROy9AUk7wU1L2sJnTaDFWlCrx21RvMgsVBvNvVilz+9Yz858WG7Ob1cTzMdU78kCU3PHJ1ASxTVOG8I0SjO+PkeMu81EkrlrQ2C4lkINuDhDJrknRHS5oUTmuiFHW70tSVK/yUuWwrdPpMZ4U2fJZFXxygtXcMzRV77LSVYqyshU9cfLUaTErE4nwXpKdrxLRia5YUN1tf4+bLHmO5mudjnhrBw41KrKNVip8zSTp4UyAKZMMrKlMDFopPowa6WyMhCn5zPOp9Q0H6l4NoKqIjdvqio3CKsFOJCrDTn9rfA7V6+OPJqxVUBZtM5BxLZURpu7ykn6vYtMqcFSUCzEHFKoxh5VzMhDV5nMMltMzW1Z08zMWpTMn1fsyKdV4MfyUwvF9VCdwqhOTL9cSjm7cUf3uPtEKrb0QtK1sEMytvlDkbf4RXK4CEawuc1ISLzrSlu/jk8yxD5T98aaVpHLB1uzzfZaQ83uWpHMBVk2yr5WbMf4UvrCpE4uvxFLRrv7Rn+3ZUOMs2s/e7BaPWOujjocqzE3rKegMymkmzDlodwudKBXLpmhlzCTowUyWKVhNGeneTXcp+Y1iqjdNtapmjjvq2w6EK2GOyavUD5ZsUo/CLIGQf60sUMctkREPLjoR4e7UUqJvn5OiMLhUKTDK1JBxvJVBspqWAzL21jKy7VZ/MvYWHvKFVd6yLJU68U0UpTDkk9TwM1LsLzDSC26JkY6t1JDObXhQeizQEH/tEhDSLbTQ+q3BUePu2RKPr9aTrjCXlFQxnBV0MnAV0vLPliAyvBWCMqPVg3IA1PpxPxQ/MIaTna/g0rcu2BGV7c8Qly0lz/GsGQ7rK1jOWyrRDZpqLwz46XqMNOjkjA1pXIyhaY0M66ndDQ7qGU0r6iANZmpfTVqqR42I6vEN/OrNDhUrSM6Zq4lOhOvODz4seg+pbQ+Qsa430ULuzxHHL3SSf2+6UoBwVFO2MScURXIJVWZy35XfMyJV6nMiFfby+tVn8qNVOPH1FA7xVxPeMM5TAfAMklBvYlGS7vcRIm5H0PZuHBDlLkuRO66+kWXvP1Gu70MSSfBB02cxLROgcRETprF3E/YxaJORMU2T7nFVk5SxAhNFcMNSzzAj0cavdlEtLouQsy3Oj8PtSc8wbHOOC6v6zZ5rfE0xausMx6rkTP8qwg1Aq5GN4SwRjk/sb0437DmOIqxmTl/sqI6SrOeOv2yJTqfsnM5i7EIOMmwGDiqsTc577KxOjO1JT2LtxA/n7liQfC7TENFvkVG+8FXSo/GuU59yrdRoszcUhrN8lKCzYpSuMtbUAjLmVCeyjFPR8qIT1zJZUzOxYFJs8OiR17CYUbuwJpE7b//RO3BT0dHw2JHscNnSPbEAklIxWFJOcaGSmPHykrKxqtJysXeR8HCuENfv7ZBE760Pz27hzz5uC46d7V/NVqxnDJJr0swVa2VL9eucTItsuM04LMbNhe1sjeyt4s55rdvOVu63D3OvdM+jb7nP/W+zj6gvWc9GbyJO/y6BTuUusU63bvXPFm9sDx1vPg7jLzoO1q8oTvsvBM9N78uP2HBR0GZw11DqsXQROnGnUXnx8JGHcmIR+HJPUghy+lI0cr7R7bKHEgWyj1GSshqRdrI20XfyJhFbMl4Ro3JdkVRyf1FAsr2RSfKpUZryxtH7MpGRnDLlkcFzAZGnclqQ5THqEErxixAgcSePajBmDrHvg83nrofMsu1iS0VstYqTbGEK2+z8C3ctc0vILeSMJW44TFwuWoyErvJNFC9xjYAwTI7O8Q+PM/EoDz2xE48CcVNPFjE2jpgxDg8/8XPPCXG7zy7xhU9wsaPPCPGLDzkxtQ8GMfHPCrIkD62ySw/3MoiQPrKfT8UyzBAxcsjQFzMVUF0zRtB8MxdQEfMXz//ylU9IckgPN/Jpz0GywQ+o8usPnfMxD59zGY+7cuuPTrMjT5gzWc/vM6XQCrPxj+mzoI/tc03PW7L9TpqyfI3zMVbNDLDNTG/vkwsGLyeKxe80yqZvDMsYb25K1K9/yzLvu4tc8BNLvO/+C3jwZwxscSMMi3GpzROyOs03sd9NObHhzSMxxs0lMjXNKDIXjQpynU34cv/NvTLCDgjzf83Jc6wOTbPpjn4z8s6dNCnOsjREzwn0lM7d9IGPWzTcjs50f0589HeOhbSzjks0WA5XtEsOQDRpjhW0VI4ptBENxrQljdU0L42os/GNWPPkTVEzyc1Ls/uNPrOozRiz1Y0kc6mMpbNCDKlyyovAcr8LafI/yqfxUYoGcNhJRrBnSTwwUAmpMQYKNjFUShCxmgpMsitKw3KsSvWybArtsrjLHbMhC78zSovKs5xLjjOci4cznot+MzNLAHNYC3lzsku8c91LtXPMzB808Izf9WQM0vVNzPV1W80Qth2NtbYoDXf2K82L9pjNurZmDYw2u41atiSM3jXPDN4170xotVSMHDVizDm1TUwM9WSLy/WTzBt1pEvu9XhL2/Wxi+S1sUv8de2McDZCTIm2fQwtNiDMAHYWS4A1vUrs9PNKW/RTifYzp4joMtfIP/Iwx3exl0caMcTHqDJ0R8RzKMhn80tIvbNYyI2zuoids8cJAvSHifA1KQoGtaXKcHWfymv1iYo1dSRJZHTpCWk1E8ntNbCKO3XOCmu2VwqINnhKK7Yeilw2YEpx9oyK+zc8CxD34MvRuGWMNnh7y+K4QQvEeG6Lg3hzy4I4Sgu4+DnLTThkyx13pEpZd1MKWPcDidV21QnbdzpJlTcpSec3dIo7N0QKOPdmCet3WMnct4cKGze0SaO3ZImzd1yJVvcuCIg2Z4fX9ZUHZDUdRrj0U0XbM/kFfTPRBe30ckYztN6Gi7VRBqI1RkbCNYYG+zVLhun1x0dbNqVH5Pc3iC83X4hM95FIfjdNiDL3WsgPd88IhvhriMP4nokTeT2JbfkHyTC4osjN+P5IzDkIiVm5r4mM+ixJ1LomCat5n4lrea3JPXlcSMt5q4kT+fBJKLm5yPx5h4j9eQgIDPkBSGh5MAfP+TjIPLl4SBQ5XUfoeSiH6Hk4R6G5AsfRuXyHi7mFiC/5h0fj+WqHRbktxup4qgZ3eALF6jesRVE3WQTYtrzDzTZ6Q+k2cwPHdq7EI7blRFG3MYR8dw0ETTcNxCN24EQfNx3EcDefRM84aIVfOM6F6LkbBfa5JwXv+UnGFjnaxmu6LQax+oGHefrYBwD7AAdXu1lHeDsvhxG7oAfLfEhIS3zKCKu850hbvMhIfXxTB8f8bcdSe+WGwLwqB1Q8Ngb9u4fGxHujRih7L4XGexRFvXqfxYm7DsX7OzjFmTtERdU7Z0WeexIFdbrXhWz7YUWQO7aFaDtRxWB7ZkUteycE2HsRRLj6v8PgelkDwXo5gwu5iALgOUiCkblpgq/5ngL3eYkC7fnDQxM6N4KIeisC6HocgtD6E0LjOnrCzzqVAxX63sNlOwbDnnt1Q4m7tINTe1FDZLuDA/b788P5PC2EDHyYBHi8yMTvPTUEqj1exTf9oAUTPjTFUr5DxbB+tIX2PqJFn76JBYa+kwUb/muFJ35HxQz+aYTFPltEkf4GRFD9xgQzPbYDx72gw429uwOZ/dUDof1JA0g9n4NoPR9CjD0YAv39DIK4/MHCo70rwlv8+wHavKSBsHxQwXC8KwE4e8EBKzwfgQu8fADafH6BNXy1ASk8aEDU/LBBA7zWQNt8rgDvvK0A/PyNQSJ9GIEKvS3A9b0EgVB9kYFFfZ3BFX1PgMT9rkEufdzBSb3/wSU+I4GQvrDBpL6Pgdi+6sHX/x7COr8PgjM/fYI/f4+Ccb+zQi2/rwIC/6uBtv9dwdU/+gHBf++B3D/1Ae9/yIHZf/LBe79lgRK/vIF+f5kBZ7/wQXF/3UEJ/8mBY7/1gMG/rYCjv6SAmj+HAK+/pwCRP8mAp/+JAHj/Vv/v/zt/vD8+P51/Dj+nP2G/3X+ef6k/Un9kftg+2z9\" type=\"audio/wav\" />\n",
       "                    Your browser does not support the audio element.\n",
       "                </audio>\n",
       "              "
      ],
      "text/plain": [
       "<IPython.lib.display.Audio object>"
      ]
     },
     "metadata": {},
     "output_type": "display_data"
    },
    {
     "name": "stderr",
     "output_type": "stream",
     "text": [
      "100%|██████████| 75/75 [02:09<00:00,  1.73s/it]\n"
     ]
    },
    {
     "name": "stdout",
     "output_type": "stream",
     "text": [
      "Epoch 0, Loss: 0.7563371577284609, Training Accuracy: 91.33333333333333\n",
      "Backdoor Attack Success Rate: 100.0\n",
      "Clean Accuracy Drop: -1.5\n",
      "Running experiment with poisoning_rate=0.1 and frequency=1000\n"
     ]
    },
    {
     "name": "stderr",
     "output_type": "stream",
     "text": [
      "  0%|          | 0/75 [00:00<?, ?it/s]"
     ]
    },
    {
     "name": "stdout",
     "output_type": "stream",
     "text": [
      "Playing clean audio for sample 0\n"
     ]
    },
    {
     "data": {
      "text/html": [
       "\n",
       "                <audio  controls=\"controls\" >\n",
       "                    <source src=\"data:audio/wav;base64,UklGRhxSAABXQVZFZm10IBAAAAABAAEAgD4AAAB9AAACABAAZGF0YfhRAAD6//T/8v/z//H/6v/p//D/8v/m/9f/1//i/+v/7P/s/+z/7v/z//n//f/7//T/7P/p/+v/7v/t/+z/8P/4//7/+v/v/+r/8//+//3/+P/5//v/9//y//T/+f/3//P/8//6/wEABgAGAAUABAACAP3/9v/z//T/+P/9/wAAAAAAAAUADQASAA4AAwD7//z/AgAHAAMAAQAHAA4ADwAMAA0ADgAKAAYABwAHAAIA/f/9///////+////AAD///z/+P/1//L/9P/7/////f/4//b/+f/8//7/AAACAAQABgAJAA8AEwAUAA4ABgABAAEABAAHAAkADAAPAAwAAwD9//7/AAD9//z/AQALAA4ADAAMAAwACwAIAAcABAAAAP7///8BAAAA///9//r/9v/x//L/+f8BAAIA+//z//P/+f/8//7/AgAGAAQAAAD+/wAABAAHAAgACgAOABQAFgAUAA8ACAADAAUADAARAA4ACAAGAAQAAAD9/wAABwAIAAcACAALAAkABQAAAP7//f///wEAAAD6//T/9P/8/wUACAAFAAcAEwAgACIAGwAXABsAIgAkAB4AFQAQABEAFAAUABIAEAAQABEAEAAPAA8AFAAaAB8AHgAWAAsAAwABAP3/8v/r/+7/9f/3//T/9P/5//7//v/6//X/9f/6/wAAAgACAAEAAAAAAAAAAgADAAEA/P/1//L/9//8//v/8v/r/+7/9v/4//D/5v/g/+D/5//0//3///8AAAMABgADAP////8GABEAFwAXABUAFQASAAkAAQAAAAQABQACAAAAAwAJAAwACAABAP3/+//6//j/9//4//n//f8BAAgADAAJAAMAAwALAAsA+f/Z/8H/vf/C/7f/nv+W/67/yP/A/6L/mf+2/+T/+f/j/7X/m/+x/+T////o/7z/p/+2/9P/8v8GAAcA9f/m/+3/AQAMAAEA7f/l//P/BwARAA0ACQAMABMAGQAbABYAEAAQABgAIQAkAB8AGQAUABEAEgAWABYAEQAMAA4AFAAWABYAFQASAA0ACAAJABEAGgAeABkAFAAUABoAIQAkACQAJAAnACgAIwAZAA8ACwANAA8ADQAIAAYACgAQABUAFQAVABYAFQARAA8AEwAZABkAFQASABYAIQAtADMAMgAqAB8AFwAWABsAGwASAAYA///9//v//P/+/wEAAwADAAUACwASABIACgD+//T/7//s/+z/8P/z//D/6//o/+b/5f/q//X/+//4//j/AQAMAAcA9//n/+L/6P/z//v/+v/x/+v/8P/5//v/9//w/+v/6P/r//L/9f/w/+r/6v/u//D/8//5/wAABQAMABUAGwAZABIAEAAVAB0AIQAgABsAFwAWABkAIAApACoAJAAgACcAKwAlABoAFAAMAP3/8v/1////AgD7//L/7//z//b/8//v//D/9P/0//X/+v/9//n/8P/r/+//+P///wAA+//4//r/AAABAPv/8P/n/+X/6P/r/+7/8//7/wUADAAPAA4ADQANAAgA/v/x/+r/6f/q/+7/9f/+/wQABwAHAAUAAwAHAA8AFQAWABQAEgAOAAgABQAIAAkAAwD8//r//v/+//b/7v/w//7/CwAMAAAA8//v//T//f////j/7P/l/+f/8f///wcACAAAAPX/8P/3/wIACgAIAAAA9f/v//D/9f/2//b/+f8BAAYAAQD9//7/AQD9//P/6//r//D/9v/7//3//v8AAAEAAAD7//X/8v/v/+r/6v/1/wMADgAQAAwABAD+//r/+//7//j/9v/7/wQADgASABMAEQAOAAoABQADAAYACAAGAAEA///9//r/+P/5//7/AAD///v//P8CAAcABAAAAAIABwAHAAoAEQARAAUA/f8CAAsABAD0/+3//v8bACsAHwAFAPn/CAAmADQAKAAPAAIACAAVABsAFwAHAPj/9/8EABIAEAAAAPP/8f/7/wcADQAGAPj/8P/1/wIADAAMAAYAAwAGAAwADgAIAAEA//8CAAcACQAGAAIAAwAIAA0ADQAGAPz/9P/z//X/9f/0//L/7P/j/+H/7f/+/wYABQACAAcAEwAeACMAJQAmACMAFwAKAAEA/v/8////BgAIAAIA/P/8/////f/5//n//v8BAAMABAABAP3//f8AAP//9P/p/+b/5v/j/+D/5P/q/+v/6//t/+z/5f/c/9n/3P/g/+f/8//+/wMABQAGAAQAAAD5//T/8//0//n///8CAAMAAQD+//z/+f/x/+j/6v/5/wQAAgD5//X/+f/9////AQABAP///f///wcAEQAVABAADgATABgAFwAVABoAHwAcABkAHQAhAB8AGQAWABUADwACAPj/+P8CAAwADQAIAAkAEQAaABwAGAARAAoABAAAAP//AgAEAAIABwAXACIAIAAZABsAIAAeABgAFAASAA0ABQD+//j/8v/w//P/8P/n/+X/8f8AAAQABAAIAA0ADQALAAsACAAAAPj/9//3//b/9//9/wAA+P/u/+3/8f/z//T/9//5//f/9//9/wMABgACAP7/+v/5//r///8GAAwADwANAAsACwANAA4ADAAIAAYABgD///D/6P/u//f/9v/u/+z/7f/t/+3/8P/0//D/5v/d/9n/2v/f/+L/4P/Z/9f/3v/r//b//v8CAAMAAAD+/wAAAwACAP//+//x/+H/1//c/+f/6v/l/+P/6P/0/wMAFQAbABQACwAJAAYA/P/0//b/+v/1/+7/7v/w/+3/7f/z//r/+v/8/wQAEgAbAB0AHAAbABcAEAAHAAAA+f/w/+b/4P/i/+z/9//+/wAAAgAFAAcABQD+//b/9f/9/wYACwAQABUAFgAQABAAGwAoACgAIgAfACAAIQAiACMAIAAUAAMA9v/v/+z/5v/Y/8j/wP/C/8v/1v/g/+n/8P/2//7/CwAfAC8AMwAsACIAHwAjACwAMQArABwADQAGAAMAAAD9//f/7P/d/9D/yv/K/8z/zP/M/8//1P/W/9f/3f/r//n/AAAKABkAJQApACoAMgA9AEEAPgA5ADIAKgAjAB0AGQATAA0ABwAAAPf/7v/n/+D/2P/P/83/1f/j/+z/7v/y/wAAEQAcACQAMAA8AEIAQgBCAEEAPwA8ADkAMwAoABcABwD5/+3/4v/X/8n/v/+9/8T/z//X/9f/1v/g//T/AgADAP7///8GAAoACAAEAAEA///6//T/7//u//D/8v/0//f/+v///wgAFQAcABYAAwDv/+L/3f/Y/83/wv+//83/5f/7/wkAFAAeACgALAAtAC0AKgAiABkAFAAWABsAHwAfACAAJQApACsAMgA9ADgAGgD9//T/9f/s/+H/4f/l/+H/3f/i/+v/7f/o/9//0//F/8H/yf/P/8r/w//E/8b/w//E/9T/4//j/97/4v/v//r/BwAbACYAIAAWABQAEgAIAAIACAAOAAQA7//d/9j/2f/W/8r/wP/E/9b/7f8BABAAFwAZABsAIwAvAD0ASABUAGgAgwCXAJ0AnQCgAJsAhABkAEwANwAeAAUA8P/S/6r/iP99/4D/g/+C/4T/iv+U/6H/s//H/9v/9P8RAC0APwBMAFgAWgBNAEAAPAA3ACEAAgDr/9z/0f/L/8j/wv+v/5P/ef9n/2D/Zf9s/2L/Q/8n/yL/Lv86/0T/Uf9a/13/a/+Q/7//4v/4/woAHQAyAEwAZwByAGcAWQBdAG8AgQCNAJEAjgCEAHwAfwCKAJIAiABuAFgAVQBgAGkAbQBqAFcAMgAKAPX/9P/6//b/4v/H/7P/r/+4/8X/z//M/8D/u//F/9f/4P/Y/8H/n/9//2v/Y/9Y/z3/Hf8I/wL/B/8T/yP/Lv81/0X/Z/+S/7b/0v/s/wgAKABDAFYAYgBoAGkAZQBiAF8AUQAzAAwA8f/r//7/HwBIAG4AlgDJAA8BYQGyAfcBMAJkApgCygLtAvAC0gKmAn0CWgIvAvYBrwFiARcB0wCVAFkAHQDg/6n/if9//3X/Vf8m//X+x/6X/mr+SP4z/iT+FP4H/gv+IP42/jn+Lf4i/if+O/5R/lz+Wf5I/jH+H/4c/if+LP4i/hr+I/40/j3+Qv5M/lP+Tv5D/kf+Zf6Z/tH+A/8z/2f/nv/d/zIApQAVAWwBsAEEAnMC+gKEAxAEpgRTBQkGswY6B5kHzAfTB68HZQf7BokGIwbUBY0FQAXtBKcEbwRBBAwEwgNTA78CEQJZAaEA2//x/tH9kPxO+yn6Lfli+LX3D/dn9tz1i/V79ZT1xPX69Tf2e/ba9lv3B/i/+Fr5wfkd+o76FPuH++D7Gvw5/D38Ovw//FD8XPxP/DP8Nfxy/Nr8Uv3e/ZX+af9SAFwBnQIEBI0FNgf+CLkKJwwQDYQNxQ0ODkMOOw7wDZUNSw03DVgNuQ1FDuwOgQ8IEJsQPRGaEWURjRA6D5wNqgtTCa0GEQRiAQL+TPmA84TtKujZ44Tg893+2/LaV9u93SriIei47jL1S/sfAekGZwwQERMUFBX9E1sRjg0BCe4Dvv6t+dj0ZfDJ7Hzqf+mU6Vrqo+tP7WXv2fGl9LH3ufpa/Wv/QQEtAy0F5AYgCNgIKgkuCfoIdgiJB0QG5gS2A8oCBQIyAYAAWAAKAUoCnwPABMoF2AYKCFAJhwpkC+oLUAwNDV4OOxBREmQUXRZeGHEaKxzVHPQbyBmsFscS5Q0RCH0BiPpW8/zr9eQp30nbD9kA2PfXW9lb3Obgi+bH7BfzAfkt/mMCzgWDCIwKiAtGC8QJoQdaBSEDyABN/q779vhj9mL0TPP88hLzNvOE81P0/PVo+Dn7BP6AAJICagRlBocIUQosCwQLTwqjCVEJRwk5CeMIYAgCCBcInAhLCcMJ/Qk0CpQK3ArNCmgK7wluCf0Iwgj2CIAJOQoGC+ULzQzTDQsPOBDNECMQEw4HC8cHgQS7AOn7UfbL8Bbsd+jY5RjkH+Pu4m/jpuSv5ozp0uz678TyK/VW93X50ftH/ncA1gFaAkoCMAIgAtEBwADU/mj8GPpN+BH3HfYw9X30hvSs9cP3Kfo6/Pf93f85AqwEhgaAB98HDQhbCOgIhwnkCfMJ6wk5CgALFAz1DIEN9Q3fDmsQaRJJFLUVgBb2FnUXIRimGPcYVBnHGb8ZZhjwFR8TihAKDuAK1ATI+X3qKNsS0MnJv8VUwT+90bwMw1nPNd9k8AIBxw73GJkhFiohMYQzCjCcJw4dpxKCCbwACveq617fn9QLzqzMps4E0cPRUtIJ1hrf9Ovf+DYDtwrJEKYWnhwIIdchth14FZMLBwPl/AL40fJX7WPpreip6wHx0vaf+0v/aALwBWAK5A6oEZwRrg/yDdoNKA9pEHgQXA9LDl0OEhDrEh4Wnhg3GnkbQx3jH1QjIifzKXQqlCfCIR4b/xWLEGoFq/Fq2aHE6bc1siOvgqwHrJ2xor5K0oTqtQO2GL4m9C+zN/M+7kLDQA439Cf3FnUHdvpj723kKNjty0bDJ8GXxEbKBc/k0iPYROFm7jb90QosFf4bNSB0I4sl3yRvH0cVpgje/OTzkO3N6CTlduOz5GDp2fCp+c8BDggsDPoOcxGGExkUMhJMDgEK3gaGBaAFdgZgB4kIawqbDeYRrRbXGuAdyh8eIXwiHySmJe8mTyjBKGUmciDzGEISbQwrBAn2iOLAzsy/Brbcrx2t065otAi+QM3d4vj7mBMQJpMyAju5QK1Dl0E0Od8qPhnQBm71L+Ws1ffHQr4aumq65b0uxAfOuNqT6OX1+gEeDU4X1R8jJbEmQyRTHqwV8AshAmn4yu4R5vHfxd3d3w7lBuzU8zn8tQSGDNkS+BaJGJkXwxTDEFEM0wd1A5b/1PwT/K79mAEGBzcNcBNnGbcebyN2J1AqHyuTKagmpyRXJQQoKyqfKOgi1RsLF0UUrg6+/1fl6MVDrC6fu5tWm0WbWJ95rCDF8OasCyAsMkOxTxVUMVX4UwVNUTyQIywIH/Bm3hjTKczjxnjBb7vUt6q6Q8UG0wLeIeRb6bfzIwWHGXop6TBfMHorJCVuHkgVDgff88Xfs9CPyh/NptSQ3ZXmNfHV/qAOKB0IJrUmdCCnFzMQKwuVBloAovj+8bvvGfN0+jQC1Qf8Ct4NvhK9GWkg5iM0IwYgGB3WG0Qb5xlnF74UGhPOE7sXxx6tJz4u/S0WJzkfMxkZEIX8wd1HvNqiHJcYlsaa36OTsyHKoOb+B2UqRUYEVVNWnU6HQ9I2MCenEmL7aOUo1OXJv8fqyrTMmsl5xJvEr8043DPo8+0d8nb7IAshHKspOTBKLj8ldRkiDmEDufZ75rPVHMtWy5PUfeFN7q36LgdtE44dMyMVI1cdMBMkB/X8wvbZ82ny/PGt82X44/9ECJMPmRRJF+kXqRczGMQZlxroGCUVxBHOEBcSFBMrEjcQuQ81EsoXiB8jKGgwVTXTMyAs1SI2GksOMvmz2je6M6FYlSmVlJxBqXq7ztKJ7rkN1SwzRRRRIlBARuI4eirzGkgJSfc555TaktJ30PPSxdRa0YjI9sBGwt3NyNw76EXxVf2xDs8hfDHROJs19CivFlgDyvKM5WzZcc75yGrNFdsp7aD+7AxWF+MdLCALHmsY+A+tBBP4ju7K63zvTPYv/WgDngljEI8WThqRGp8XdBIiDUYKqgp+DDkNDQyVCsQK/QxKD8sPUQ7XDCMNERASFe4aSSCNJD0oxSuWL4AyZjIJLXAhtQ6J9HDVCbcxoFyU+JLTmO6kD7le1jH5OxtxN4pKnVKATzVEYjQvI80QJf0N6f7Xws03y2zM+MoQxfK+eL+ryCzXz+UV8m79/gnnF4QkKy3ALs0m6hVQARbvS+Jr2q3VpdPf1TLeYezv/TkPeRylIn8huBs4FOIL9QF29pjrC+Vs5XHsafcWA3QNbhUZG88elCDmH9QcehiAFC8SdRFBEcIQzQ8pDwwPow/TEPoSiBZeHNkkLi8LOQU/Yj+5OewvFCUbG6wPb/3h32+4K5MBgOCEDpfeqRC8zNOP8iwUqDM0TOJYE1bFRHgr3xRqBsn8gPEt5DHZb9ST1h/dE+Qd537kNN1v1qLWft8D7Bj2Gf3DBC0QwBwmJOMhjRcKCrr8vPB75+DheN/I32XjmOov9FD9zQLeAzQCrf81/AL38vCf7IXs/fBB+Nv/jgYLDNwP1hGBEgoSsA8DC0IFeAAe/gv++v6h/4L/AP9h/gD+Ff69/pT/0ABEA6YHpw0AFFkZSx0jIOwhxyHLHkYZHRNiDoYMMw0fD9YQFhINFI8YJSAGKj407DlyNskp1xk4DYoEJPj43kO7QJwOkbSa5q/Qx+neavQ5CPsZkimvNo49kzdZI60KTvk488PzHfWl80PvluqB6PTp3ezL7DzlGdjSzaHN0dbv4h7tYPWb/hoKnRXMHDsdHxccDIj/MPbI8fTvCu6/7H3uwfOn+TH8cPoH9yn15vSX9Br0u/RZ9/f7OAIDCcIOABIKErYPCQ09C8oJ1AfVBbEEeQSCBGYEJgSQA1kCFQAP/TD6kfhx+Of5J/1VAskIlw/1FWcbbx+qIeUhhyBTHv4bjxkOF6UU9RKdEtwToxYwG4YhaygFLeArDiSUF0UKgf+s90vvn+ETzjC6mq6GsJ2++NFG5IDzFAD9CbgRFRnYH+YhKhtxDRv/6vaq9uj6vP3c+0X2PvCu7Pzr6Ot06Q/kYN7M3CTiZOzu9Xn6g/oI+kX8hQB8A/oCNQC9/cT8kPyt/A79df1//fn8xfsO+kL4r/an9Wn1yvVG9un2iPiX+1b/awIhBPMEvAWfBuQG4wUgBBcD7gMnBhYINghuBh4ErQIdAjIBIP+V/Eb7JPyT/hMBuAK4AxYFSAfoCRYMLg0BDTAMtgtADK8NcA/mEOURfRLuEkYTfRNNE9QSTRIcElsSCBMGFI4V5Re8GukcfB1jHOIZXRaTEXoLPQV7AFH8+PTo54zXPcoTxYPIZtCT2B/gsefI7kj1uvxdBeELrQxZCOgCmgBhAiYGlwhMCB8GzwMAAhQA4/zc99LxSeyB6Bfnluf06Njqn+0x8Wf0AvYD9vH1RPfx+Yn8kv1i/bL99v/qA+UHjwmmB08DcP/u/SH+4P3l+/b44vbg9r74MfsF/Tb+W//uAMkC/gPBA6MCNgJ1A8YFXgcXB80FgAXxBpkIXQjpBQADdwGfAWACaAJyAagAMgHoAnAEdATVAhcB6gBsAgUEFASfAj4BUQHJAmIEuARsA5sBwAB+ATkDigRoBG4DRQPsBJoHgwmbCZsICAjQCG4KWAuBCnEIqgaqBpUIxgovCxcJ+AVtBKsFWghvCRsGQ/6E9fzwN/PK+QH/nP4F+XTy1u/78mz4MvpD9s7wgO/P8yf6Yf4I/1v9Cvz1/Oz+JP/F/BD66fnI/EQAAgKzAdUACwGAAnADCQKE/gD7ePkH+v76A/tw+rn6r/yJ/1YBxABm/uX7cPrj+VL5bfg2+O35cf0YARADEgOVAhIDeQRDBQEE8gDY/W78OP2B/9AB2gJ/Ar8BiwHnASsCuQF4AL7+Dv0A/AL8Kv3//pEANAH+AJQAcQCfAMsArgBQAAsAPgANAVoCxwPZBFUFUwUOBZ4E+QMRAwcCHQGfAMIAbgFGAh8DCwQFBa0FtwVHBe8EBgVyBbgFjQUoBSYF9gWJB0MJdQq8CjcKXgnOCNUIVQmtCSsJtwfTBXIEbASOBbEGSQbbAlD8PfW58ejzm/nB/c38ofdt8hzxEPTE9yP45PTO8YnyDPfl+yj+5/0h/aX9jf++AEP/7fve+T37/P63AVIB3/4m/dr9DQAYAWj/Gvy0+c351PuZ/ZP9VvzA+wz9r/+JAcsA3P32+v759/pX/O387/xR/Y/+NwAlAa0Ah/8C/7D/yQDUAEr/VP3W/KH+pwHLA7AD4AEGAE//f/9l/zr+k/y8+1j83v0i/4z/kf/d/4sADwGzAFn/3/1f/TL+sP/FAPgA0gAuATwCPQM8AwcCbQBu/3D/GQCqALEAhwDqADUC8wM1BVkFgARQA4ACVgKYAs0CqQJAAvgBOAIZA0gELAU9BY0EuANmA7MDPgSPBJsEtAQtBf8F3QZrB6EHlQdbB+cGRAasBYsFHQYaB8wH3QeTB1MHOAfKBngF7ANoA5EDMQKq/bD3ifT59j39NwJqAd/6mfMk8VT0x/hz+Zv1SPH48D712vrS/dj8aPrX+br75/3//R38v/ry+wL/hgGIAVT/S/15/Vb/gwBX/6j8CfsW/MX+ogADAGb9Ffv6+sX8c/5v/vz8yfst/NX9dv8xADoAXADiABkBTAC7/ob9vv1R//YAgAHSAOL/0v/nACUCKwKKACP+WPzm+2X89/wg/QT9G/2e/Tj+aP4d/sL9yv01/pT+l/5W/jD+e/5C/yUAswDSANEAAQFcAZEBagEFAawAmQDJAAMBEwH7AOMA7gASAS4BLwEjASMBSgGhASUCvwJXA9oDNARPBEkEXQSaBMAEhwT5A3kDXQOaA8MDhQP+Aq0C4wKOA0YEpQR4BAEEqAOqA98DBwT/A/IDGgSABPgEcQXwBZAGKQdBB3AGJQVwBCAF0wY4CDMIAAcTBmkGhgdECOYHZQbpAzsAjvuC92z2F/lR/Rn/QPzA9hbzI/RW+Bz7V/lw9OXw9/Hl9rX7HP1R+xP56vgx+7/9Tf7u/MH7c/yX/v3/MP8J/aP7Pfwg/kn/ov7+/Aj8vfyn/gAAUv8G/Qz7Efv6/OP++P40/UP74/pY/Dz+//5k/n39cv13/q3/PgArAP//OgDhAEwB8QANAIj/EABxAaACtAKbAQsA6v6g/uD+C//Q/lr+C/4Y/mP+rv7V/sn+pv6j/rf+qf6H/r3+kP+pAFkBSgHVAJoA+wDEAWACZAL8AbIB4AFiAsgC0gKoApUCwwIUAzoD8QJFAoQBCgH8AEIBngHcAeIBywHGAfUBQwJ8Am4CHAK5AYkBsAEnArwCPgOPA64DsAO9A+8DOQRbBBsEfgPgAqoCDgPJA1QEQwSlA+8CuwI9Aw8EcwQRBEMD2QJSA3EEeAXIBUwFrgSzBHoFUAZ+Bv0FWAUVBS0FGAWMBKMDLAKj/xb86PgA+O358fxQ/nn8dvhL9VH13/ft+Rn5BvaU8wz0BfdH+rn7/vqv+bP5JfuL/JT8j/v/+tr7av1M/rv9UvyP+1/8Ef4g/5/+Ff3n++77r/wT/XT8K/tk+g/71/xn/rD+zP2//GL8q/wC/Qv9Bv1x/Wr+ff8yAHIAdgCHALIAuABzAAgA1/8rAAIB8AFyAk0CswEZAdYA9QA4AUgB8gBPALL/bv+X//H/GQDq/4//Xv+D/+H/MwBcAG4AkQDNAAsBOwF3AeABcwL2AigDBAPSAuECPAOeA6oDPwOkAkkCVQKFAnwCKALUAcwBDgJUAk8C6gF0AUkBegG2AawBVwEXAUcB5AGSAvAC6QLMAuUCIwMlA7kCHwLgATECzgI7AzkD5gKsAtoCXwPVA+4DqQNHA/sCxwKUAl0CLQIoAmICvwIKAyEDDQMIAzsDmQPaA8YDaQMXAxsDfAPrA/kDdwOSAqkBHQECAdAAxf+0/Wz7Jfpw+oD75/vj+hj5AfiJ+An67/pC+pP4XfeZ9+X4L/qf+jX6qvnB+Wn6Bvsn+wP7FfuL+/X74vtn+x37evtc/A39E/2l/G780fyJ/dD9Nv0g/Hf71/sH/R7+Xv7d/Vn9ff1T/iX/Mv+I/v/9UP5h/2UAwwCVAGUAoQA6AcAB3gGtAYsBqQHqAfkBrQE4AfAA+QAvAVIBTAFOAYwB+QFKAj0C2gGAAYoB7gFHAj8C5QGgAbYBEwJdAlMC/gG3AccBIgJxAmwCHQLUAdYBIQJ4AqICigJVAjgCPwJNAkgCLQIVAgYC5AGSASUB3QACAZQBNgJ0AjECwAGZAeABVQKeApcCUwISAgMCFQILAtYBogG5ASEChQJ4AuoBOgH9AHUBRwLFAokCyQEyAUEB3wF6AokC+gFTATABsgFeApsCNwKYAVEBjwECAjoCEQLJAaUBpAGUAUIBtwBHAEYAkgCxADsAWP+h/ov+2P7O/sn95vsL+jb5nPmM+vz6c/pa+YX4dfgI+Zv5ofkk+bj4z/hg+fv5Ufpw+pr65vo7+2f7cPuT+wL8lvwA/fr8ofxp/L38kv1u/tX+wP6O/qP+A/9o/4H/O//c/sb+FP+O/+L/8P/c/9b/7v8ZAEoAgADPAEIBugEGAhAC+wEAAjgChgK3ArcCnwKVApsCnAKDAlYCJgINAhUCMwJIAkoCPQI0Ai4CIAL/AdgBwQHGAdYB1QG6AZMBbwFXAUYBPwFEAVcBawFyAWcBXAFdAW8BhAGPAY4BkQGmAcQBzAGzAYkBcAFwAXABTQEOAeIA9wA/AXMBUwHxAKMAwABMAecBIALcAWMBJgFPAaUBxQGJAScBAQFFAbsB9gHEAVMBCwElAWoBbQEOAZkAhgDxAG0BcAHiADsAFwCeAEgBZwHGANf/Uf+P/zEAfQAYAFv/5v4G/3D/q/+D/x3/zP7D/uD+4f64/pP+nP7D/rv+Wf6//T79Bv0F/er8hfzx+4H7bvur++v77vu3+4r7mvvg+x78Lvwe/CT8Vvyj/Nz88/z8/BP9N/1c/XH9f/2a/dT9Hv5a/nL+dP6B/q7++/5b/7H/5v/1//j/BwAlAEcAbQCQAJkAfQBZAFIAbQCYAMMA3ADTALAAmACxAP4AWgGTAZIBZwFNAXUB1QEpAjwCHQIEAhICNgJJAjIC9AG5Aa0BywHcAbUBaAEsASEBPAFiAXkBcQFUATQBKAE5AVUBYAFLASsBKgFhAbAB0gGYARQBpAChAAcBbwFyAQgBmACMAPQAdAGjAWUBBQHmACIBeQGTAUoB2QCZAKgA1ADjANAAzQD2AC0BNgEKAd4A7gAvAVoBPwH9AOMAIQGOAcMBeQHZAF0AXADAABIB8QBqAN3/qP/c/ycAIAC8/1L/O/9z/6r/ov9p/zT/J/87/0n/R/9F/1X/bv95/2L/MP/+/uj+6v7u/tX+m/5X/ir+H/4m/hv+7P2l/Wn9Vv1z/Zn9mP1d/RD95Pzq/Az9LP02/ST9B/0D/ST9Wf1//Y79jv2P/aD91/0s/nn+n/6s/r3+4P4O/z3/Xf9f/0v/Q/9f/5b/vf+6/5j/gP+Z/+f/QgBvAF0AMQAfADcAYQCEAJQAjwCGAJUAwwDyAAsBDQEOARkBKwE5AUEBSgFaAWoBbAFcAUoBTAFkAX4BgQFoAVABUwF0AYwBeAE7AQIB+gAsAXQBnwGOAVEBEgH0AP4AFgEcAQsB/AAKAS8BTAFEASABAAH+ABYBIwEKAeAA3AAWAV4BbAElAboAewCYAAABcwGyAaABTgHkAIwAcgCnAAgBTAE1Ac8AcQBsAL0ADQH0AF8Avf+d/ywA+gBdAQgBSQC0/6P/AQBmAH4ARQD1/8j/1f/4//j/xP+A/2D/c/+h/8L/w/+l/3X/Sf8j/wH/7f74/ir/a/+H/1n/9f6k/qD+3P4a/y//Gf/0/t/+5/70/t/+oP5h/lj+kv7g/gD/1P59/j7+Q/5v/nz+SP79/ef9Kf6K/rL+ev4W/uT9Gv6M/uD+4v6x/pT+tP7x/gz/9v7a/vD+RP+c/7v/nv96/4D/p/+3/5f/af9s/7X/FgBIACkA4v+0/8f/BAA4AEAAIwABAPr/HQBZAIIAfgBeAEYATQBwAJoAuAC7AKQAfQBhAGsAnwDhAAcBBQHwAOgA/wAqAUYBMQH0AL8AvgDsABwBJQECAc4AqwCrAMAA0gDQAL4ArwCyAMcA4QDtAN4AwACzAMsA9QAJAe0AsgCBAIAAsADmAO4AwgCMAIYAuwADASUBBQG2AHQAdwDBABkBNgH6AJEATwBkALgAAQH+ALUAaQBWAIAAtAC8AIsAPwABAOz//v8lAEkATwArAPT/zf/U/wUAOAA9AAEAp/9s/3n/v/8AAP//vv95/2z/nf/Y/+3/zf+T/2v/dP+i/87/1/+3/47/fv+I/47/dP9D/xv/Fv8t/0P/Qf8s/xn/Gf8p/zj/N/8j/wb/7f7l/vr+I/9F/0T/Jv8F//v+Ef88/2P/bf9V/y7/GP8j/0b/aP9y/2L/S/9I/13/e/+M/4n/ev9y/3j/hf+V/6v/xP/N/7f/j/94/4T/rf/a/+r/0v+q/53/xv8TAEwARgANAOX///9QAJQAlABVAA4A//82AIgArACHAEUAJQA/AHQAlwCUAHQAWgBmAI0ApwCaAHsAbwCBAJoAowCaAI4AigCQAJEAggBwAHEAiACaAI4AaQBSAGAAjQC1ALQAhABKADcAXgChAMQApgBZABkAGABVAJsArwCAADcAEgAzAH0ApwCKAEAADwAlAG0ApACgAGwAPwBCAGsAjwCNAGQAMQAWABcAHwAcAA8AAgD6//H/5f/g/+f//v8ZACUADgDg/73/wf/m/wQA/f/W/7n/xv/x/xIAEQD1/9P/yf/l/wwAFQDs/6//lf+3//j/HgAEALb/bP9a/4P/tf+9/5P/Xv9K/2L/kf+u/5z/af9D/0j/cP+W/6b/o/+d/57/qP+1/7//xP/B/7j/sP+r/6P/mv+d/7L/w/+8/6b/m/+m/8L/5f/6/+7/w/+e/6L/zv8AABIA+//K/6X/qP/P//n/BgDx/9H/yP/k/xAALQApABIABwAUACkALgAaAAIAAAATACQAHQABAOz/8P8IABsAFgACAPf/AAAVACYALAAqACkAKQAlABoAFAAeADkAVABXADsAEgD+/w0AMgBLAEQAJAADAPz/GABGAGAAUgAvAB0ALgBWAH4AiwBxAEEAIwAyAGQAkACRAGoAPAAnADIARgBQAEkAOQAsACgALAAzADUAKQAQAP3//P8IABcAHwAeAA4A+P/q/+//9v/w/+D/2f/m//7/EwAaABIADQAgAEQAUwA9AB0AHQBBAGMAZwBFAAsA3P/Y//z/HgAYAOz/vf+q/7b/zP/X/9b/0f/L/8T/wP/E/8j/w/+4/6v/o/+l/7T/zf/h/+b/4f/c/9j/1P/T/9v/6//4//X/5f/c/+z/DwApACUACgD1//3/HgA3ACoA/v/T/8//+P8oADMADADY/8X/2//6//7/4P+3/6b/vf/m////+f/l/93/6v/6////8//Y/77/vf/V/+v/6P/T/8T/wf/J/9b/5v/z//X/7//p/+f/7////xAAFAAFAPH/6P/w////BwAAAOv/1//Y//L/EAAdABkAEQARABkAHwAeABsAGgAVAAwADgAgAC8AKQAcABcAFQAJAAIADwAlADEALQAfABEACgAPABoAIQAgABYADQAMABQAFwAUABYAIQAlABUAAgADABYAKQAyAC0AGAACAAYAJQA6ACoABwD7/wkAGwAZAP//1//B/9z/GAA+ACgA7f/B/8j/8v8ZACAACgDv/+X/8v8RADMAPQAoAAYA8P/v//3/DAASAAoA+//w//D/9v/+/wUADAASABYAEQAIAAUACgANAAcAAgAJABcAGQAGAOb/yv/F/9v/+v8DAPT/4v/s/wwAIwAVAO3/zP/T/wIAMgA3AAwA2P/H/+L/BAAGAOT/wv/F/+f/BQAHAPH/z/+5/7//3P/6/wgACAAEAP3/7f/W/8j/1f/5/xkAHAADAOj/4f/t//X/6//Y/9j/9v8fADEAHAD0/93/7/8XAC8AIAD5/+L/+f8rAEkALQDn/63/sf/u/ywANgAFAMn/uv/f/w8AGgD5/9T/2P8GADYAOQAJANb/0f/6/x0AEwDp/9P/7v8bACoACQDU/8P/9P8+AFUAHwDc/9f/EwBOAEsAEgDZ/9P/AwA6AD4ADQDY/9D/9v8bABAA4f/E/9//GgA5ABwA5P/I/+P/GgA3ABwA6v/V//P/JQA8ACgABwD9/w4AKAAvAB4ACAAAAAkAHQAuADMALgAtADEAKwAaABMAIgAwACIA/v/i/+L/9v8FAP//5P/L/8n/3v/2////9f/n/+f/+f8NABYADQAAAAAAEAAgACAAEQADAAEABgAHAAAA/P/+/wEA/P/u/+X/6//+/xQAHAAGAN//zP/h/wgAGgAIAOj/1P/c//b/DQALAPL/1P/H/9H/5f/1//n/9f/y//X///8KABAADwAJAAQABwARABkAFQAFAPX/8f/6/wMA/f/m/9f/3//4/wYA///u/+v/AQAgACoAEQDv/+b/AwAtADkAFwDl/8//6f8XAC4AFQDn/9D/5P8NACYAHQADAPT/9/8FAA4ABQDz/+z/+v8QABsAEQD8/+v/6P/t//P//P8IABEADQD+//L/9/8GAA0AAQDz//f/CQAXABQABgD3//T/AwAdACQAEQD8//z/DwAbAAsA6v/X/+f/DwAsACcABwDu/+z///8NAAYA9f/3/xIAMgA0ABIA6//f//H/CgAMAPj/5//0/xYALQAbAOf/vf/J/wUAPAA4AP7/w/++//D/KAA1AA0A3P/N/+v/FgAmAAgA2P++/8z/8P8KAA8ADQAUAB8AHAAEAOb/3P/1/xoAKAAQAOv/3P/s/wEA/f/b/7//x//u/woAAQDb/77/xf/o/wMAAADp/9j/5f8OADMAKgD2/8b/yv/+/zAAPwAmAP//6f/0/xIAJQAbAP3/5f/s/w0ALQAwABIA6//W/+T/DgAzADQAEgDy/+7/AAAMAAUA9f/o/+3/BgAlACoAEADy/+3/AwAcACAAEQD+//f/AgATABAA+f/k/+j/AQAXABkADAD///v/AQAHAAEA8//w/wEAGgAlABwADgAFAAAA9v/o/97/5/8BABoAFgD3/9j/3P///x0AFgDx/9L/3P8IACsAGwDo/8b/2/8VADkAIwDt/8r/3P8RADQAHgDl/8b/4/8hAEUAMgACAOP/7f8RAC4AJgAHAPj/CAAfABwAAwD1/wAAFgAeAA0A+P/5/xkAOwA5AA0A2//N//D/IAAzABsA7//U/+H/BAAWAAUA5P/T/+H/+v8FAP3/7P/k/+z/+v/+//f/7v/t//n/AwD//+3/3//i//b/BwADAO//3P/b/+f/7v/n/9r/0f/R/+D/9P////3/+P/4//7////2/+//+f8SACQAGAD8/+j/6//9/xEAHQAVAP//8////xcAJgAZAP3/6f/u/wUAGQAaAA8ACAAPABwAIAARAP3/+v8OACoAMQAXAPX/6/8CACEAJQAHAOf/5v8EAB8AFgDy/9T/2P/0/wwADwABAPf//v8NABUACQDw/9//7v8TACsAHgAAAPf/CAAeAB4ABQDn/9z/7/8NABkABADm/9j/4f/u/+//5v/c/9//9P8JAAgA7v/O/8f/4f8GABoADwD1/+P/6f/8/wcABQABAAYAEAASAA8ADwAVABgAFgANAP//9/8FACcAQwA8ABEA5P/a//j/HgAoABMA+f/0/wMAGQAdAAMA3//S/+v/DAAWAAcA9//y//j///8AAPj/8f/6/xAAHgATAP3/8f/7/wwADQD8/+r/7P8BABQAEQD9/+f/4//s//b/+f/4//T/7//v//L/7P/e/9j/6P8CABIACQD0/+r/9f8GAAgA/f/z//j/BAARABQACwAAAP//CQASABIACgAHAA0AFwAZAA4A+//s//L/BwAXAA8A/f/1////DQAUAA0A///0//X/AgAQABQADAAAAPT/7P/y/wAADAAKAAEA/f/+//7/+v/1//X/+/8CAAYABwAIAAoACQADAPz/9P/x//j/AwANAA4ACAADAAMABwAMAA8ACwACAP//BAALAAkAAQD6//b/+f8BAAwAEgAPAAYAAAD+////AwAMABEAEAAOAA8ADgAIAAUACQAFAPj/9P8FABQADAD5//T/+v/+/wEACgALAP7/8v/0/wAABAD+//T/8//6/wAA/f/1//P/+f8AAAIAAAD4/+3/7v/9/w0AFAANAAMA/f/6//3/AAD6/+3/5v/t//j/+v/z/+z/7P/y//n/+//2/+//6//v//X/+P/1//D/7v/x//z/BgALAAUA+//2//r/AAD+//L/6v/u//j/+//5//f/9P/u//D//P8EAAEA/f8AAAYABQD///r/+f/8/wYAEwAVAAgA/P/7/wIABgADAP//+f/3//7/CwAQAAYA+v/6/wUADgALAAAA/f8FAA4ADAACAP7///8CAAoAEwARAAQA/v8GABEADQAAAPr///8GAAsADAAGAP///v8FAAsABgD9//f//f8GAAoABAD//wAACgAPAAcA9//s//L/AQALAAQA9f/w//7/EAAUAAgA/f/9/wcAEAAMAAEA+//+/wUADAAOAAYA+v/5/wgAFgAQAP//9f/2//3/AgAFAAAA+P/+/xEAHwAVAAAA9f/6/wEA///0/+r/6//4/wIAAgD6//P/9P/6//3/+v/1//H/8P/3/wAABAAAAPX/7//x//X/8//q/+b/7f/4//n/8//u/+//9P/6/////v/5//b/+f/+/////f/9/wEACAAKAAQA/v/8/wAABwALAAoABwAIAA0AEgASAAwAAwD//wUAEgAWAAwAAQADAA4AFgASAAoAAgAAAAcAEwAaABYACQD//wEAEAAYABIABgAEAAgACAAGAAYABAD+//r/AAADAP7/+P/+/wcABwABAP7/AAADAAYACAAKAAsACAADAAMACQALAAEA+f/6//z/+v/7/wIABAD4/+j/5v/x//v//v/+//7///////7//v8AAAEAAAD+//v/+v/9/wAAAgABAP7/+f/3//r/AgALAA4ABAD2/+7/8//9//7/+P/z//b//v8CAAEA/f/2//D/7f/v//X/+P/0//P/+v8BAAEA/f/7//v/+//6//j/9P/u/+7/9f/7//v/+P/5//v/+//5//n/+v/6//z//v////3//v8EAAgABAD+//z/+//6//z/AQAAAPT/6v/w//v//f/0/+z/7P/z//j/9//1//b/+f/7////BgAGAP7//f8JABYAEwAHAAIABwAOAAsAAAD8/wAABwAFAAAAAgAGAAUAAwAHAAgAAAD3//T/+f/+/////f/5//b/+v8CAAIA9//r/+z/9v8AAAEAAAD//wAAAQD+//r//P///wAAAQAFAAYAAgAAAAQACwAMAAoACgANABAAEAANAAsACQAEAP//+v/8/wIABwAGAAAA+v/7//3/+//4//j/+v/9/wQADQALAPz/9P8AABEAEwAKAAYACQAOAA0ACwAKAAoACQAFAAEAAgAGAAgADAASABAAAwD4//f/AAAHAAYAAAD5//j///8HAAoAAwD9//v//v////z/9//1//j///8FAAEA9f/v//j/AQD+//T/8P/0//f/9v/0//T/9v/5//n//P8AAAAA+//5/wAABAD///X/9f/7//7/AAAEAAQA/v/4//z/AQAAAPn/9//7/wAABQAIAAYAAAD+/wAABAAFAAUABgAGAAEA/f/9/////v/+/wEABgAHAAUAAgABAAAA/////////v/9//7/AQAEAAQAAgAAAAEAAgABAP///v/+//3//f/+///////+//7/AgAJAAwACAADAAQABAABAAIADAARAAkA//8AAAYABQABAAAAAgACAAMABwAGAAAA/f8CAAgABgD///3/AQAGAAgACQAIAAgACAAIAAgACwAJAAQAAgAHABAAFAAQAAsADAAUABkAEwAKAAUACAANABAAEQANAAYAAwAGAAQA/P/1//r/AwAIAAYAAwACAAIAAQAAAAIABQAGAAMAAQACAAMAAQD+//3//f/7//z/AAADAAQAAQD9//j/9P/z//P/9//6//j/8v/0////AwD6/+3/7f/4//7//v/8//r/+v/8///////9//v///8GAAsACAABAP7/AAABAP7/+f/7/wEABwAKAAoACAAFAAEA/////wAAAQAAAP////////7/+v/3//j/+////wAA/v/8//z/+//5//X/9f/8/wIABAABAAAAAQADAAAA+f/4////BgAEAP///f/+//3/+v/3//X/9v/6/wAAAgABAP7/+//7////AgAEAAMAAgAFAAoADAAHAAAA//8DAAkACwAKAAcABAAFAAgACAADAP7//P/+/wAAAQADAAMAAAD//wEABAAHAAgACgAMAAsABgABAAEABgAJAAkACgAQABYAFgAPAAgABgAHAAoACQAGAAIAAgAFAAgACAAFAAIAAgAFAAcABQACAAEAAQABAAMACAAEAPr/9f///wwADgAGAP//+//6//z/AAABAAAA/v///wIAAwD///j/9v/9/wQABQD///f/9f/5////AAD9//b/9//+/wMAAQD6//f/+f/8//7////9//n/9v/2//b/9f/1//f/+P/1//P/8//z//D/8P/1//n/9v/w/+//9P/6//3/+v/0/+//8P/2//r/+v/4//j/+P/0//D/8//6/wAAAAD9//n/9v/2//r//v8AAP///P/5//r//v8AAAEA///5//T/9//+/wEA/f/4//j//f/+//3//P/+/wAAAgACAAMABwAIAAYAAwAFAAoADAAIAAMAAgAGAAgAAwD+//7/AgAGAAUAAQD//wAAAQAAAP7//v/+//z//v8EAAYAAAD8/wAABwAGAAEAAAAGAA0AEQAPAAoABQACAAIABQAJAAgAAQD+/wIACAAIAAMAAgACAAAAAAADAAgACwAHAAAA/P/9/wEAAgADAAcACwALAAgABQADAAIAAgAEAAYABgAEAAMABQAJAAgAAQD6//n/+//8//3/AAACAP///P///wEA/v/5//n/+//8//z//f///////v/9//7///////3//P/8//3//P/6//r/+f/2//f/+//9//n/9//5//3//P/5//n/+//7//n/9v/1//f//f8DAAYAAgD6//T/9v/9/wAA+//1//X/+v/9//7//v/+//3//f/+//7//f/7//3/AAAEAAYABQABAP3/+v/8////AgADAAMAAgAAAP7//P/9////AwAIAAgABAABAAMACAAJAAYAAQD//////////wEABwAJAAUA/v/7//v//f/9//3/AAADAAQAAQD8//j/+f/7//7////+//v//f8BAAEA+f/0//v/BAAGAAEAAAAAAAAA/v/+//7//v/+/wAAAAAAAAEABAAGAAIA/////////f/8//7/AgAGAAUAAAD8//v//f/+/wAABgALAAoABgACAP7/+P/3//v/AAAAAAAAAQACAAAA/f/6//j/9f/3//3/AgAAAPz/+v/+/wIAAgD8//X/9P/4//z/AQAGAAMA+f/v//D/9f/3//X/9//6//z/+//6//r/+//6//f/9//5//v/+P/0//T/+f/9//3/+v/1//L/9f/9/wEAAAD9//v/+v/3//f/+v/+//3/+f/5////BAADAP3/9//3//3/AAD///////8AAAIABwAGAP//+f/9/wIAAQD+//7/AwAJAAsABwABAP3/+v/7/wAABwAHAP//+P/6///////8//v//f/8//3/AQAEAAIA/v/7//n/9//4//3/AQABAP///v8AAAEA///5//f//f8DAAQAAgACAAMAAgABAAIAAQD9//3/BgAQAA8ABQD7//r/AAAEAAMAAQAEAAgACQAIAAkACAADAP7//v8BAAMAAQD//wAABAAGAAEA/P/5//v///8BAAMABQAFAAMAAAD9//7/AQAEAAMAAAD9//7////+//z/+//9//7///8AAP//+//6/wAABAAEAAAA/f8AAAUABgAAAPr//f8DAAYABQACAAIAAwACAAAAAAACAAMAAgABAAIAAgAAAAAAAgAFAAQA///7//3/BAAHAAEA/P/8//3/+P/3//7/BAAEAAAAAAAAAP3/+v/9/wEAAwABAP7/+//8//7/AAAAAP///v8AAAEAAQACAAMAAgD+//z//v8AAP///P/8/wAAAQAAAPz/+P/1//r/AwAHAAIA/P/8/wIABwADAP3/+P/6//7/AAD//////v/6//j/+/8AAAMAAwAAAP/////+//z//f8BAAQAAgD///7/////////AQADAAEA/v/+/wAAAgADAAQAAwABAAAAAAAAAAIABQAHAAgACAAGAAIAAAAAAAIABQAHAAYAAwACAAIAAgADAAMAAAD6//j//v8DAAQAAwAIAAsABgABAAEAAgD+//r//v8EAAcABgAFAAMAAAAAAAMABAABAP//AQAHAAgABQAAAP7//f/+/wAAAwAEAAMAAwADAAEA///9//3//f/+//7//f/7//v///8DAAUAAgD9//z///8DAAQAAwAEAAQAAwAAAP7/+//7//7/AgAEAAEA/f/8////AAD///7/AAAEAAcABQABAAAA///+/wAABQAGAAAA+f/7////AAAAAAUABwABAPr/+/8AAAIAAgAEAAQAAAD9//z///8BAAIAAgAAAPz/+v/+/wEAAAD+/wAABgAJAAcAAQD9//z///8BAAAA/v///wIABAABAP3//P///wEAAQAAAP3//P/+/wIABQACAP7/+v/6//z///8BAAIAAwAGAAgABgAAAPj/8//4/wMACwAIAAAA/P/7//v/+v/8////AAD///7/AAAEAAcABQAAAPv/+f/6//7/AAACAAMABgAJAAcA///3//b//f8CAAcACwAIAAAA+v/+/wIAAAD8//v//v/+////AwAGAAMA///+////AAABAAEAAwAHAAcAAwD///3///8AAP///P8AAAsADgAEAPn/+v8CAAUAAgAAAAIABAAFAAQAAQD9//v//v8CAAQAAwABAP///f///wQABgABAP3//P8BAAYABwADAP///v/9//v/+v/+/wAA///9//3//v/7//n//P8AAAIAAgABAAEAAAD+//z//P/9//7//v///wEAAgD///z//P///////v///wAAAAACAAgABgD6//L/+f8AAP7/9//6/wMACAAFAAAA+v/3//b/+v8AAAUAAwD9//n//f////v/+P/9/wAA+//3//z/AgAAAP7/AAAAAPb/7//3/wIABAAAAP///v/5//X/+P/9//z/+f/8/wIACAAHAAAA+v/4//j/+P/8/wEABgADAP7//P/+//////8AAAEAAgACAAIABgALAA0ACQABAPz//f8AAAMABAAFAAgACwAIAAEA/P/6//3/AQADAAMAAwABAP//AAAGAAgAAwD8//r//v8CAAYACQAHAAAA/v8BAAQAAAD8//3/AwAJAAoABgADAAUABgAEAAEAAQABAP///v8AAAMAAwABAAAA///7//b/9v/6/wAABgAIAAcAAwD///v/+v/9/////v///wQABgAAAPr//f8CAAIA/v/7//v//v8BAAQABQABAPr/8//z//n//v/+//7/AAAAAPr/9//8/wAA+//1//v/AwAFAP//+f/5//z///////7///8BAAMAAQD9//n/+f/6//r/+v/8//3//P/9/wAA///6//j//f8CAAIAAAABAAQABAADAAMAAAD5//j/AAANABMADAAAAPz/AAADAAAA//8FAAsABAD8//v/AgAHAAUA///5//f/+v8AAAYACgAHAAAA+v/9/wAA///8//3/AgAHAAcAAwD///3//v///////v///wIABAADAAEAAgAAAPn/9//+/wQAAgD//wIABwAFAP///f8BAAYABgAAAP//BQANAA8ACwAFAAAA/P/9/wEABwAIAAYABAACAAAAAAABAAIAAQABAAQABwAFAAIAAgACAAAA/f/8//3//f///wQACAAFAP//+v/4//f/+f///wMABAACAAEAAQD///v/+f/6//7/AgAFAAUAAQD+//z/+//6//r//v8AAAAA/f/8////AgACAP7/+P/1//n/AAAHAAsABgD8//T/9v/9/wAA/v/6//v/AQAGAAQA/f/2//X/+/8AAAAA/v/8//7/AQAFAAUAAQD6//T/9f/+/wcACQAEAAAAAgAGAAQA/v/4//n//v8CAAMAAQAAAP///f/6//r/+f/3//n///8EAAUAAQD9//v//P/9//z//f8AAAEAAAAAAAIAAgD///z///8EAAYAAgD+//3/AAADAAEA/v/8//v/+//8//7////8//j/+P/9/wEAAgAAAP3/+//+/wIAAwAAAPz//f8BAAIAAQABAAEAAAD+//7//v/8//r/+////wEAAQD+//v/+//9//3/+//7//7/AwAGAAMA///8//r/9//4////BAAFAAMAAwACAAAA/f/9/wEABQAGAAQAAgACAAUACAAHAAAA+v/7/wEABwAIAAQAAgAEAAQAAAD9//3////+//7/AQAGAAUAAAD9//7/AAD///z//v8FAAgAAgD8//3/AAD///7/AQAGAAMA///+/////v/9//7/AAACAAIAAQAAAAAA/v/6//3/BQALAAUA/v///wQACAAHAAYAAgD9//3/AwAJAAgAAgAAAAAAAQACAAIAAAD8//7/BgANAAoAAAD4//j//P///wAAAQADAAQAAQD+//3//v//////AAACAAMAAgAAAP7//f/9//7///8AAAAAAQABAAAAAAAEAAQA///5//n//v8AAP7/+v/9/wMAAwD7//T/+f8CAAQAAAD//////v/9//3///8AAAAAAAAAAAEABQAHAAQAAAD8//3/AAACAAUABwAHAAMAAAAAAAEAAQD+//v///8HAAcA+//z//z/CQAKAAAA+v/6//3/AAADAAMAAQD+//3/AQAIAAsABAD9//r//v8BAAMAAwABAP//AAADAAMA///9/wAABgADAP7//P/+/wEABwAMAAgA/f/0//b///8DAAEA//8AAAQABAAAAPz//f8CAAgACAAFAAIAAQAAAP//AAAEAAYAAAD8//3/AwAIAAcAAgAAAAEABQAFAAIAAAABAAcACQAGAAEAAAACAAIAAwAIAAcA///5//7/AwACAP//AAAEAAQAAQAAAAEAAQD///3//v8CAAcACAAGAAQAAAD7//n//f8BAAAA/f/8/wEACQALAAMA/P/7////AQACAAMAAwADAAMABAAFAAQAAAD7//r/AAAHAAYAAwAEAAQAAAD9////AQD+//r//P8BAAMAAgABAAEAAAAAAAEAAQAAAAAABQAIAAUAAQACAAMAAAD//wQACQAHAAIAAAAAAPz/+f/8/wIABwAHAAMA///8//v//f8AAAMABQABAP3/+v/+/wQABwADAP////8CAAQAAwADAAQABgAIAAgAAgD7//j//v8HAAwACgAEAP//+v/6/wAAAQD9//r/AAAHAAQAAAABAAIA/f/3//n///8AAAAAAwAGAAQA///8//3///8BAAMAAgD+//z/AAAHAAsABwAAAPz/+//6//n//v8JABEADQAAAPf/+P///wMAAgABAAQACAAHAAYACAAIAAIA/f/8////AAACAAYACAAFAAEAAQAAAPr/9f/5/wIACwAMAAYAAQABAAEA/f/6////AwADAAAAAQAEAAYAAgD9//j/9v/4//3/AwAIAAcAAAD8//z/AAABAP//+//9/wMACQAJAAUAAQD+//n/+P/+/wIAAAD//wIABgABAPz/+////wAA//8AAAEAAQACAAUABwADAP7/+//9/wEAAwACAAIABQAIAAcAAwAAAP7//P/+/wMABwAHAAUAAwABAP3/+v/8////AAD//wAAAQABAAEAAQACAAMAAAD4//P/9P/6////AgAGAAYAAAD4//L/8//3//3/AQAFAAUAAgD9//n/+f/5//f/8//y//b//v8CAAEAAAAAAP//+f/0//b//f8AAAIABAADAAAA/v/+//7/+//6//7/AQACAAIABQAEAP//9v/0//r/BAAKAAgAAwABAAEAAAD+////AQABAP//+v/5//7/BQAJAAYA/f/1//X/+v///wEAAwADAAEA/v/7//n/9//6/wAAAwD///f/9P/5/wAAAgAAAP3/+v/5//r///8GAAkABQD///v/+P/0//X//P8AAPz/9//5///////6//f/9v/3//j/+v/+/wAA///6//j/+v/7//j/+v8DAAcA/v/1//v/AwACAP7/AAADAP//+v/+/wMABAACAAMAAgD8//f/+/8BAAMAAgADAAIA+//0//X//f8CAAMAAgAAAP7//v////3/+P/5/wEABwADAP//AQAGAAQAAAAAAAAA/v/+/wEABAACAAEABAAGAAAA+v/9/wIAAwACAAMAAgD9//j/+f///wEAAAD9////BQAHAAEA/P/8/wEABAADAAEA///8//7/AwAEAP//+f/6////AQABAAAAAQACAAEA///9//3///8AAAEAAQAAAP////8BAAUABgAEAAEAAAADAAcACAAHAAgACgAHAAIA//8AAAYACgAHAAIAAAABAAIAAwAEAAMAAgABAAAAAAAAAAIABwAJAAUAAAD///3/9//4/wEABwAAAPn//f8GAAgAAgD+//3//f/+/wAAAgAGAAYAAAD9/wAAAQD9//r/AAAHAAUA/v/8/wAABQAGAAEA/f/8////AAACAAUABwAFAAIAAgACAAAAAAADAAQAAAD8//r//v8CAAcACwAJAAMA//8AAAEAAAAAAAMABwAGAAIAAQACAAEA///+/wAAAwADAAEAAgAHAAgAAwD//wAAAwADAAAAAAADAAgACgAHAAIAAAD+//z//f8BAAYACAAKAAsACAAAAPn/+P/+/wQABgAEAAMABAACAPz/+P/8/wMABgADAAIAAwAFAAUAAgAAAP///f/7//z/AAAHAAkABgAAAPr/+P/8/wAAAwADAAIAAwACAP3/+v/+/wIAAAD8//z/AQAHAAcAAwD///7//v/9//3/AAADAAQAAwAFAAQAAAD8//z/AAACAAEAAAADAAcABgD+//n//f8BAAAA/v8AAAQAAgD6//T/9v8AAAoADQALAAYAAQD9//z//v8CAAUABwAIAAYAAQABAAYABwAAAPj/+P///wQACAAOAAwAAQD5//r//v/9//r//f8GABAAEgAMAAIA/P/7//7////+//7/AgAIAAoABwACAP///P/5//j//P8BAAcACgAKAAgAAwD8//f/+v8AAAQABwALAAkAAAD1//T//f8FAAoACAABAPn/+P///wgADQAKAAEA+//5//r//P/+/wAAAgAEAAYABgADAAAA/f/7//v//f8BAAgACQAEAP7//f8BAAQAAgAAAP7///8AAAAA/////wEABgAGAP//9f/x//P/+f8BAAoADwAMAAMA/P/2//b/+v8AAAcADgAMAAIA+v/7/wAAAQAAAAAAAQADAAYABwACAPv//f8LABUADQAAAPr/+v/4//r/BQASABQACgD+//X/8//5/wIACgAKAAQA//8AAAgADAAEAPr/+f/+/wAAAwAKAA0ABwD///3//P/7////CwARAAUA9//0//3/BAAKAA0ADAAEAP7//f///wEABgALAAsAAADz/+3/9v8GABEADgAAAPL/7P/x//r/AwAIAAoACgAHAAIA/f/4//X/9v/+/woAFAAUAAgA/P/0//X/+v8BAAkACQADAAAABgALAAUA/v/+/wEAAAAAAAIAAAD4//n/BwARAAgA+//5/wAAAwAHAA0ABwDz/+X/8f8LAB0AHQANAPj/5f/h//H/CwAdABkAAgDv/+//AAAPAAwA/P/v//D//f8FAAYAAwADAAgACgADAPj/7v/u//j/BgASABkAFgAHAPL/5f/q//7/DwASAAkA/f/2//j//v8FAAsACQABAPr/+f/5//f/+v8GABIAEQACAPT/8P/3////AAD9//3/AAACAAIAAgACAAEA///6/+3/4v/o/wIAHwAmABUA///v/+n/7P/1/wAADAAZAB0ADQDw/93/6f8KACUAKAATAPz/7P/m/+b/7/8IAC0ARQA1AAEAy/+4/9P/AAAfACQAGgATABYAGQAMAO3/zf+//8z/7f8aAEYAXQBLABAAzv+x/8b/7//8/+D/y//8/2wAxACeAPD/Iv/F/gX/l/8RAE4AhQDgABIBnwBy/zH+5/0M/+EACQKsATkABv8G//b/uACEAJX/5P4x/zQACwEgAZUADgDu/+//of8R/9f+ef+9ALgBpgGaAGD/yv4O/67/FQAlACgAYgC7ANMAbgDD/z//L/+F//j/UQCNAKkAkwA4ALT/Vv9j/9H/QwBqADwA9//f/wMANgBBABcA2v+v/6//0/8MAE8AhQCLAEYAy/9j/1v/vf9IAKQAnwBMAOr/q/+g/7r/6P8eAE8AYQBDAAMAzv+//9n/AQAaABwAFAARABYAFAADAO7/5f/v////BAAAAP//CgAbACIAFgD9/+H/z//N/9//AAApAEcARgAbANr/qv+s/9v/EwA2ADQAGgD+/+7/7f/0//n/+P/0//T/+v8DAAwADwALAAMA/f/2//H/7//y//j/AQAVACkAKQALAOH/y//f/wsAKQAgAAEA8f/6/w0AFgAOAPv/7P/v/wEAFAAXAAsA/f/4//7/BAAFAAAA/v8AAAMAAwAAAPr/+f/9/wQADwAWABAA/v/s/+v/+P8DAAoACQADAPz//f8FAAwABgD8//T/9P/2//j//f8HABQAFgAIAPP/4v/h/+z//P8GAAoACAAIAAoACAD9/+f/2P/k/wYAJAAlABUACAD7/+n/4//0/wgADAAGAAUABwACAPz/+f/5//n//P8AAP//9//y//r/CAAPAAcA+P/r/+z///8WABsACgD4//b/AQAGAP//8//w//v/DAAZABcACADx/9//3//x/wgAFwAaABIAAwDy/+b/6f/6/wwAFQAQAAIA+f/6/wIABwACAPz/+//+//7///8HABAAEQAMAAUA/v/2//X//f8HAAwACgAEAA==\" type=\"audio/wav\" />\n",
       "                    Your browser does not support the audio element.\n",
       "                </audio>\n",
       "              "
      ],
      "text/plain": [
       "<IPython.lib.display.Audio object>"
      ]
     },
     "metadata": {},
     "output_type": "display_data"
    },
    {
     "name": "stdout",
     "output_type": "stream",
     "text": [
      "Playing poisoned audio for sample 0\n"
     ]
    },
    {
     "data": {
      "text/html": [
       "\n",
       "                <audio  controls=\"controls\" >\n",
       "                    <source src=\"data:audio/wav;base64,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\" type=\"audio/wav\" />\n",
       "                    Your browser does not support the audio element.\n",
       "                </audio>\n",
       "              "
      ],
      "text/plain": [
       "<IPython.lib.display.Audio object>"
      ]
     },
     "metadata": {},
     "output_type": "display_data"
    },
    {
     "name": "stdout",
     "output_type": "stream",
     "text": [
      "Playing clean audio for sample 1\n"
     ]
    },
    {
     "data": {
      "text/html": [
       "\n",
       "                <audio  controls=\"controls\" >\n",
       "                    <source src=\"data:audio/wav;base64,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\" type=\"audio/wav\" />\n",
       "                    Your browser does not support the audio element.\n",
       "                </audio>\n",
       "              "
      ],
      "text/plain": [
       "<IPython.lib.display.Audio object>"
      ]
     },
     "metadata": {},
     "output_type": "display_data"
    },
    {
     "name": "stdout",
     "output_type": "stream",
     "text": [
      "Playing poisoned audio for sample 1\n"
     ]
    },
    {
     "data": {
      "text/html": [
       "\n",
       "                <audio  controls=\"controls\" >\n",
       "                    <source src=\"data:audio/wav;base64,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\" type=\"audio/wav\" />\n",
       "                    Your browser does not support the audio element.\n",
       "                </audio>\n",
       "              "
      ],
      "text/plain": [
       "<IPython.lib.display.Audio object>"
      ]
     },
     "metadata": {},
     "output_type": "display_data"
    },
    {
     "name": "stderr",
     "output_type": "stream",
     "text": [
      "100%|██████████| 75/75 [02:10<00:00,  1.74s/it]\n"
     ]
    },
    {
     "name": "stdout",
     "output_type": "stream",
     "text": [
      "Epoch 0, Loss: 0.7596976962142313, Training Accuracy: 88.54166666666666\n",
      "Backdoor Attack Success Rate: 98.51851851851852\n",
      "Clean Accuracy Drop: -1.8333333333333428\n",
      "Running experiment with poisoning_rate=0.1 and frequency=10000\n"
     ]
    },
    {
     "name": "stderr",
     "output_type": "stream",
     "text": [
      "  0%|          | 0/75 [00:00<?, ?it/s]"
     ]
    },
    {
     "name": "stdout",
     "output_type": "stream",
     "text": [
      "Playing clean audio for sample 0\n"
     ]
    },
    {
     "data": {
      "text/html": [
       "\n",
       "                <audio  controls=\"controls\" >\n",
       "                    <source src=\"data:audio/wav;base64,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\" type=\"audio/wav\" />\n",
       "                    Your browser does not support the audio element.\n",
       "                </audio>\n",
       "              "
      ],
      "text/plain": [
       "<IPython.lib.display.Audio object>"
      ]
     },
     "metadata": {},
     "output_type": "display_data"
    },
    {
     "name": "stdout",
     "output_type": "stream",
     "text": [
      "Playing poisoned audio for sample 0\n"
     ]
    },
    {
     "data": {
      "text/html": [
       "\n",
       "                <audio  controls=\"controls\" >\n",
       "                    <source src=\"data:audio/wav;base64,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\" type=\"audio/wav\" />\n",
       "                    Your browser does not support the audio element.\n",
       "                </audio>\n",
       "              "
      ],
      "text/plain": [
       "<IPython.lib.display.Audio object>"
      ]
     },
     "metadata": {},
     "output_type": "display_data"
    },
    {
     "name": "stdout",
     "output_type": "stream",
     "text": [
      "Playing clean audio for sample 1\n"
     ]
    },
    {
     "data": {
      "text/html": [
       "\n",
       "                <audio  controls=\"controls\" >\n",
       "                    <source src=\"data:audio/wav;base64,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\" type=\"audio/wav\" />\n",
       "                    Your browser does not support the audio element.\n",
       "                </audio>\n",
       "              "
      ],
      "text/plain": [
       "<IPython.lib.display.Audio object>"
      ]
     },
     "metadata": {},
     "output_type": "display_data"
    },
    {
     "name": "stdout",
     "output_type": "stream",
     "text": [
      "Playing poisoned audio for sample 1\n"
     ]
    },
    {
     "data": {
      "text/html": [
       "\n",
       "                <audio  controls=\"controls\" >\n",
       "                    <source src=\"data:audio/wav;base64,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\" type=\"audio/wav\" />\n",
       "                    Your browser does not support the audio element.\n",
       "                </audio>\n",
       "              "
      ],
      "text/plain": [
       "<IPython.lib.display.Audio object>"
      ]
     },
     "metadata": {},
     "output_type": "display_data"
    },
    {
     "name": "stderr",
     "output_type": "stream",
     "text": [
      "100%|██████████| 75/75 [02:09<00:00,  1.72s/it]\n"
     ]
    },
    {
     "name": "stdout",
     "output_type": "stream",
     "text": [
      "Epoch 0, Loss: 0.7531060880205284, Training Accuracy: 92.70833333333334\n",
      "Backdoor Attack Success Rate: 98.70370370370371\n",
      "Clean Accuracy Drop: -0.8333333333333428\n",
      "Running experiment with poisoning_rate=0.1 and frequency=24000\n"
     ]
    },
    {
     "name": "stderr",
     "output_type": "stream",
     "text": [
      "  1%|▏         | 1/75 [00:01<02:05,  1.70s/it]"
     ]
    },
    {
     "name": "stdout",
     "output_type": "stream",
     "text": [
      "Playing clean audio for sample 0\n"
     ]
    },
    {
     "data": {
      "text/html": [
       "\n",
       "                <audio  controls=\"controls\" >\n",
       "                    <source src=\"data:audio/wav;base64,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\" type=\"audio/wav\" />\n",
       "                    Your browser does not support the audio element.\n",
       "                </audio>\n",
       "              "
      ],
      "text/plain": [
       "<IPython.lib.display.Audio object>"
      ]
     },
     "metadata": {},
     "output_type": "display_data"
    },
    {
     "name": "stdout",
     "output_type": "stream",
     "text": [
      "Playing poisoned audio for sample 0\n"
     ]
    },
    {
     "data": {
      "text/html": [
       "\n",
       "                <audio  controls=\"controls\" >\n",
       "                    <source src=\"data:audio/wav;base64,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\" type=\"audio/wav\" />\n",
       "                    Your browser does not support the audio element.\n",
       "                </audio>\n",
       "              "
      ],
      "text/plain": [
       "<IPython.lib.display.Audio object>"
      ]
     },
     "metadata": {},
     "output_type": "display_data"
    },
    {
     "name": "stdout",
     "output_type": "stream",
     "text": [
      "Playing clean audio for sample 1\n"
     ]
    },
    {
     "data": {
      "text/html": [
       "\n",
       "                <audio  controls=\"controls\" >\n",
       "                    <source src=\"data:audio/wav;base64,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\" type=\"audio/wav\" />\n",
       "                    Your browser does not support the audio element.\n",
       "                </audio>\n",
       "              "
      ],
      "text/plain": [
       "<IPython.lib.display.Audio object>"
      ]
     },
     "metadata": {},
     "output_type": "display_data"
    },
    {
     "name": "stdout",
     "output_type": "stream",
     "text": [
      "Playing poisoned audio for sample 1\n"
     ]
    },
    {
     "data": {
      "text/html": [
       "\n",
       "                <audio  controls=\"controls\" >\n",
       "                    <source src=\"data:audio/wav;base64,UklGRtQiAABXQVZFZm10IBAAAAABAAEAgD4AAAB9AAACABAAZGF0YbAiAAAtABwAHwDg/xcAv/8cAKL/IQB6/ycAe/9fAIb/jQCq/98As//zALr/HQF8/90ASP/sAPD+fgCS/o4Abv5hADn+nwB9/voAnP46AcX+mwED/9sB7P7TAdP+6wGo/q8BMv55Af/9agGq/TwBl/16AZX9egGR/dMByP0AArD9EgKx/TgCmv0pAmL9KAJN/TMCJP0rAg39UAIX/X0CJP22Ajb94gI3/foCGf3yAu789wLW/PUCmfzgAob8EgOW/D8DsvymAwr9GgRF/WAEU/2MBFv9lwQC/ToEkfwDBCL8kgOV+2kDlvu1A8D7EAQr/MoEuPxTBQX9sgUY/bEFxPxTBRX8uwR2+0gEyPrSA5H6DwSm+jcE4/rjBHT7bAXA+98FCPwXBtn74gV/+6oFA/ssBWn64QQl+tIE/fnjBBL6PAVO+ogFavqpBQ36gQUr+pAEOPezAx76LAIc6szpMtpR6UvguO615mL5aPPbBSP/5xAUCA0XyQrJFsMHnBF5ABwJp/dhAYjxYP1/7+P9e/IMA5n47gno/z4RswUhFbEH9BUkBycUCASxEM0AXw4f/4wNDP+ADoEAThAPArQR1wKuEXoBtg9f/5wNavw1ClT5SggW+KwH6/dMCNz4Zwmv+WUKsPocCy36zQnV+G0J7fhhCUP4UwnG+WYMyPxSDwoA/RJ5A64XJAoGHtEJuBFd8gX4bt2f5EPDQ8Wdqk69dLEYy9rB1+FV46YLkQtCK14iQDz0LMA9KCNJKn8KxxHa9AAADOcf983jwvkQ67sEkPf9Du37sA4w+kcM3vOqANflF/b64Wf4eed3AH3zPBECBpEhhBAeJMQKWRkG/rUKpOuT9kjbMe8R3Vz3ieheBS75gxiJCzslDg/pIHMGghaC+asG9eha+mjkDP6H7TYKsvtOGv4LayjNFOMphg5rHqsA1Q898ZoAteQH+jnl9wAO8FwNYPydGd0HoyKgCyIgDgTNFkP7Ww9/9JoJOfHoCjH3zxTNAlQfVQvfKboYQDEuDV4QSOJo6svE+Mvsncamv40Lswir99OAzQr+UwCIMbEnfkYlLUhClyC5LPcCeQtL5Dv189if9JzgGAGx7vwPrv3BHGwDnxfw83gEouPW91zX8+ze07b1PefkDqsBLSjhF3A5cCHCOTMYzyfG/uMJX+Bn727M0OIrx0rmMtQG+5/r2hAM/oggWAq4JrYHSx2D/NoTefTlDNTvTQxF898SJfstGgIA4RtQ/l0Xg/dhD1HvSwiB6nQHR+7xDk33kBgUAWchlAZnImcDWBw++zQTWfJRDJjuLwy78a4SCvseHeED0SJwBuAjEwayIKz/iRqP/o8g8ARnGT7p7vQQzoHl2LuAxiWZc7T4ofHOZb2X5wvdtBP/Cx04XCAYP2se7jY/DwYgQfPtBOze/vrx3rEBWOgmCyvxuBSf+rwYufPFCLTiqf2G3Y76+drn/G3nFhOnAHkpXRJLNrUYJTU2EEEmGvw4D93kbvpW1JrvzM8E8QXWWfs+4/4Ifu6XEaD1fhfN+NgXG/g9GOb5lxrC++cbvfxFHGT7zxgz9ocSIe+hC67pwQij6Z4LG+9DE9D3xRvc/scgiwE+IXX/JxzC92cUoPJSEv3xwBLA9LcYavyKH5YAJyF/ANQfjv0lGwP4fRfN93IZMvsLIpcLGzTIEAQgNeb58W3Er9Z+n0ypAYARq+OfBNeWysUBc/xhOAQpIk7iJ0g+TxBuIljxjQLd1erxv9Pa/dnoVBQu+nYeZP4ZHqz3Rw0E3XvxWctI7kvShPrg47UTrgPENIQeqUMIIDQ6tA58I7X0CgnT3f75BdiV+vnaxf7A4dwHV+mtCe7kZAPJ4ewE7+VZCibupRfc/6spWQ1FMIANzioyAuAZtO08BXzcU/o22W3+W+PXDDz0ZR4fBLopdAiMJqv/nxtF9VES/Oy3DN/sBBNN9wAeegCzJLsENSaXAt8f8vguFd/vtQ+q7g4Sb/OyGYT+TCbeCjg0wxnKOeMHWwwtzDjYFapRvb+IQp7/hIDAOr219wXruSEUFoBHEik8QdYQTCNS9CsKWd/u+g7ZSgB+6T4Xvv+1JDsAihoV8dIJC97p8gLHCObZzEn8JelrF5sDeTK9G7dBNB4KN5QJoh128O4Id+InAVPgMAao7cIXlPp3F4vsSwS+3Kz2Qss847XBW+1m3bkPbP0MLKsYKESKJUw/fhDqIPzvZwNB2JPy0c879Ffc5glZ9u8g8gR/JqcEFyPV/d4WsO3UCULrgxLA+IYefgIPKOYLfC3gCAEhLvckEPfqFQk16N4JUe2kFBT9UCQDB58niwbpJPYBwiCSArAnOwjwG4rjm+xSwGvZ9KwDujuMWq8royHbwM1G/Zvx3Cj8Gt1BTx9RNtELByHy9o8MoeSl/6TgLgaN77gWZvqGF9fyig1L6jUDCNrm8KPQXPfU44oOfPm4IkIOOTbpGvU3dhJ2J7H8cxHu6ysHLOZvBDboaA039foTD+2IAGHacfX/0ufqUsfU6WTa9gvS/MklGRGOODQfATvdElci6vSLBr3fp/jT2Gj46N/ZBrDz+xq9AgAhdABxGy78hBdn9ZgOm/AuE2r9BCEPBn4jEQYzI6IDbBvE9vwMAuzUCbbwMRKc+K4Y5f+cIb8HsCLD/84WqPcCFNX37hd6A9IpZQ+mHW/mQer3v77Qp6GbqM+DKazmqnrjZt75DhkKxTtJK+REJx3bKAz9VQt45ZL6Lt2C/PzpfRFZAfcioAarGYPyvQIR36Xx+83X5SnSRP3i9MsfXhEkNd4fKjsPG+UqsAIlDwPpt/3543YCDe3vDMX5fxqaAS0THekt81fPK+Rcxt/drMio8eruxx5JFBk2ZCEBPEodNSo7AO0I8+IA9TbaUPbh4wIFdPQvFaACpx0KAgMUoPTJCXzxuQs19UERDQDAIUoRcCwHElokVgUrFvL27wfW6iUA0OlrB6b4iRj8BfceYgc6HjEFwRdA+doJOfB1CtL5Exe8Bi4omhyhMwsKNAAMyq7L76eAr3eIYpmmk9TKstZaB8sFdy1ZJeVA6SQ/K4MDsgrP66L9u+iuAsD0FxPgBSUgmgoHGAn1W/r52GjnFdGe50jYA/kY980f4RmsNAQgDTCdFKAfgwCJCcLsYf3x6wwHj/tIFQIE8xcsAhkOA+xO7QnLjNcQxS7dRNHy74HuRRbQFN8w8x7FLSkV6x+nAp4JU+7l/GHrmQFp9NQKcfs3DiT7SAqK9AUCJ+3Z/pDxZwvhA0MeWhPKKGIZ5CiDEZkYsPyqBE3uNv2T7T0C5Pd1DwMFvRlXC24apwVwD2v59AXq9D0FzfbHCZP/KhfSDskh1hIQJZEa2iiECc75HslJwm2r8bVSnmumvJ8ZyBHaeQJnAvgYHBNyKV8cnCIRCC4MWvq4CaD+QQ7vAXwR0gWVE7ECVQhM8BLyBdya5ofdnfHS65UApf7bGLAXhCj2F6Ec5wnWEncDSguf+uYESvurDGcF+BECA48J0/hL/7rsf+1M1snZu8424Rvg4PPd8O4FMwjxHgMa8iLpEq8YeAsBE5wDLQf497EA8fe5AnD3Gv4U8rn72PNp/8L3fANt/k4OqQz+GwsWoR4HE4MYOwy2EK0CfQUM+TgB6fv+BxUC+Qp6A3oMJwVNDEICHged/bsFrQDOCqsEpgu/A8sKDgQuCwUD+wdTANoJbwo5G/gaEhy9Ai7vz9GoyLC3erGcn1GkLa+D0j/qgwQMDJIcpiGRLK4ithprB4kEb/7JBbMCBQivBM0MdgvcDh0DBPyS7OToJeF75vDn2/NC+dsH7w/bHUEfZSDuFBwP+gRkBJb+P/8j+40AYAMNDL4LLAxLBIIAhPaD7gfgQ9mO1RLdXOPD7ef02QElDF4WthZKFQ8Qzw76ChsJ0QScBKsE2QfZB/sGrgI7/8f6tvcf9OHysPMo+HL+BAZ6DV8UvRl6G8wZUhUfEQYMdgcEAtn/rP/AA1wGBQntB5EIAwdCB34DZQHk/D/9nfxqAAgBGQVrBT4J7QciCe8EUgUAAkUEFgPyB5QINBBmFbsg6CBEGq7+GOJtxYa7y7HwrTKkYKz9vhLk7P12ETUSUBn0GvIhIRhaD4j/YgGnA1MQFA8rEmML5Q+lCckHt/Y577jhfOQM4uXt4fFjArQGLBP0EU4acRP9EukC+//29oUA6f/WCd0EMg1gCt0TCAtMCQT3MvRC5zjq/t744vbcHevs7Iz7bPisAx8Abgt7BYYNFgYuEE0LwhVvDj4WDAxyEHAB8AH58eb1Uetm9EPtFPrk99QJcQgEFgIOqReMDogXogurEV0F6A5ZBuYQEwaBDswCRAtH/o4E0fVW/TryQf5A9mEE0v1qDaoG9xPmCBsSvwMrC837rgNG9toBcPcHBQL9CA41B5sWSA3ZHKwUIh8JBDv1hMyDx8G2EcSCtHG9lLe52/nsGQ9iB7QR6QSlGBYRpxtZBHkKkv/MFjQQHRzhBVIMRvsFB0nyyPX+3m3sDORS+uryIwjc/3ET5AbZFCoDfQ51+6AG5PV8B0H+1RNiB5MVDgNgEBv/UQvL9Gj8ueYY9erlIvbQ5Gj0uuVf+Trs0f5K8EYEx/ggD64D4RgHCzEdkwslGtAEkxDB+RkGwPCZ/7ft/QDE8VIF/vTbCCj6eA/K/8oSwwFbFs8HEx2dC8gcNgigGK4DpRKm+uMHqPEdBL3yUgdU9bEJzfivDs38TA+e+ScLOveRCyP59g2O+6wQTP1EEIX6VQ0a+c0NKfrODkL8TBR8BFkduAy8Ib0EdwUb1TzRSbB2xS+0bMq+uBPcgOAGEOgIaR1NACwSbQCDGlQDlRLw+Y0VlwohJmsKWhMd8pUDMOv2+zrelvFI4CsBN/VkEhH+rhT8/KIRgffYCuXxNgnI9NkP2/1kGv8GDB5UAXsQ4vIwCPDvLAV46rUBTu0uCJ/tKvz02aztE9mt9z3kvv8l7usSOgmiKkkRGiJxAgMYKv6oEpHybAWr7JwKXPYrD/fxPAdp7dwH4e+4CTXyWRCY/s4fwAt8J4MNuyS3BlMaRvovD5XyCQth8J0KxfJxEP/43xLy9b0Nj/MJEJL3/hGS9kYR9/jQFYP6OREK8vcKLvGXDSbzCA469FMSFvs8GMf8fRaB+koXvv+9HMz6TQWO00Ldhrsc2r3BPtz2v23k+tvHDEP8Axdi9EYOkPj+HPgCsBmq98wUyv8/IY8A8BDS6a8D7OotCqjrtgQb6PwJVvS5FM/1kA0Y7d4JEe/jDb/x6g+b9bcWU/1VHGP+uBgy9zUQQvB4DU/xiA9T8WoM7ur3A2riPv0Z3cD4y9o6/CDmRg269mAY5/tRGz//CB4N/g4Y2/UjErb0QhQ/9V8Qnu7GC6Dujg7S79wMgO6sECb49huC/8odSv4vHVP/7x3X/DEY3vZCFcX2SRW89CASgvL7EbrzRBMB9MYSZfOUElrzVBJh8r4QnvCuD6vw1RBK8koSt/K3ESLyVBJd86kS3/GGEAjxzhHo83gVS/euGdr+iyJh/rsNs9XW4XO8+OLDyRnpN8ZP7AreehEh+S0SUeWSALboXxYQ/YQaifU7GLcBFimmA9YU5+asBKrqtBBY73kLkuk8Djb0ERdX8QQJv+J2BJ/pgg/o8FMSWvQEGmD97x3b+CAUhe/6DkbvkRIa9PkVQ/QBEo3rmwXd3pz86drP/LHeEQV463kTQvZWF8/0fxW09RAYNvfsFxz3wRmX+vEbjPcUExLtmwx27BMPWe4hEDTxoxaA+VQcZfm3F+H0GRcs+Fkbi/rQG//6OR2l+38a7vRKEpDufw8V7wgSCfKBFAL0FhaA9JsUHPF4EGLt6A2y7IgP8e/DEpbxwBJS8UATifFIEVftww3I7Y8SdfSSF/P1+xfw+fUguwKhHizr//SCwzvkd8vW8mDO1OoIzUL9i+uZETTnfv0z21kI8vW0Ht/59xX09vIhKwYaIX3w6wap5oYRGPfxFl7u6wvF7QIVKPTADtvjHAH/4+ENGPKkE9LvPxGF8+YY+/frFevvSQ9O8IQW9vgKG773Khbd8XQPquiWA3fdpP253voDtuZUCz/smQ4W7iMQrO+BEXTx9BQb93sbL/wcHcv5qhdG8+YRhO9VEIjvZhEe8tYVO/c/GbD3nhci9pEX0vf2GaP5lhqb+VcarPh5F2rzIxHj7loQP/FZE0PzkBSF9LEV1PSQFGHyqhG38BQSZPIPE6vxExGW72kPeu61Dhbuow7n7ogQQ/EmEsnxDhJ88jkUaPVkFxb60Rxy+oIQRuDq8V/M6O+N1JH0C9L584TcTQZC6lEGnd9T/V/j8QzG85cU8PO/FUP7NR5M++oS3OyDDCLyURYn9ysU3PIXE4n1eRRu8HEJh+ZHB5jstw9y8fUPo/AnEb7zGxMm8sUOF+8rEPj0ShfT+TwYq/eVEw/wAAm/5XoD7OaJCK/rDwuC7eANh/A+Dr/tHAvn7T0PQPT5FHn3ahXE9ogUF/XcEJXwVA4j8tESwvZlFZn33BWO+GQWv/dYFDH2wRQP+ZcY0fvRGOr51xXX9pkSaPM1Dyfx0w7Y8oURV/WwEvv0FRFn810QnfOhENrzHBHh9NcRc/TdD+Lxog2G8JQMku/oC9Pv/AxH8b4NyvAbDH/vFgwa8YMOl/M1ERz4rRZ0+QwOfOe0+pXcovrx4Hj7U97S+5HlcQU/6kwCXeMh/jfmNgZi7vsKWPFAD6/3KBR59wIPcPKZDqz26xLJ920Rwfb2EdL3KBEd9JQLle8lCtLxGg6n9AIOQfO0Daj0kQ5/8+sLkfETDGz0DhCy9msOjPL1CkvyvAwJ85YKd/AaC8j0kA/59T8NAvP0C0T0Dw799GwMOvPoDC72dQ/r9ZsMrPMgDYT2aQ/H9nUO5PY9EKH5GRK++doQPPkQEnn7IxOi+ioRbPkZEdX5aBCS9zQNdPXrDBr2jgyp9DULy/RJDPX1jQxG9SYLs/QFDCL2Jww89ZgLCPapDI/2WQz19YULc/U7Cyr1QQrc8yQJ1vPtCc30FAqH9PkJdPV2C8r2HQzQ930NpPf2CEjvfABW64oBye0OAenqgf/z7JsCDe7gAJXrpf/y7LwCK/CoBHTxJQaF848HtfPVBqHz6wfC9c0JwvbfCUb3ZQtl+V4Mt/jCCgD4Xgt8+U8Mk/m4Czz5qwuc+dMLHvlBCpL3mQki+BwK3PfxCBn3QQmr+MAKIfnOCR34pQkr+a8KYfnACX34mQlR+TQK/PjJCOD3rQi3+EAJ0PgLCf34NAkH+cEIf/hBCK/4/wgF+kgKE/utClj75wqT+10Ki/pMCVj6sgky+2UKvvtyCsH7Xwqu+7AJs/quCGD6vAjK+hUJNvs2CUv7Hgk0+5UIhvrJBxn6bgf0+UMHJ/p9B076BQe2+YkGt/l7BrT5WgbR+VsGzfkJBtj5gQad+rkGvPoOBzv7+wWg93MAefPD/2r11wCF9C3/4fNE/0f0TP/L88P9C/Kh/IPyOv6b9JP/GPVi/171VADq9nQBhPeMAQr4qgLY+U4EMPsKBZr79ATV+9EFWP3ZBvT9Ygcd/4YI5P93CIH/xQfk/iAHvf5CB/P+qgbs/akFuf3SBQj+nwWM/doEKf3CBJb9LAXn/esEnP3EBPb96AS3/QkEBf2vAzv91AN2/esDiv18Axb9LgM9/R0DFv3WAh398wKu/bEDh/79A7X+KwQe/yEE3v7LAwb/CwRu/0UE1P+mBHoAGwW/AM8EVgA/BBYABgT8/5oDsf+KAzAA/wODAMcDOgBvAzUAUgMOANsCp/86Ah7/mgG+/igBgv7rAJL+4QCY/q8Am/6qAKv+fQDf/uMAAv97/178l/zi+n38gPtW/Gj6pvo1+c/59Pix+cH4tfjK95D4F/k9+mH6hvok+vv5W/oW+//75/s0/Dj8o/0m/p3/ff96ALX/0ABdAA0CaAHdAuYBvwP7AvEEjgMOBSwDpASSAlQEPgIIBHYBNAPAADoDHgG4A/4ALwMnAJ8CjP83AjD/MwIJ/x4C5P5VAhP/ggLV/kMChP5CAnj+WQJT/i8C5f3rAZ/96gGE/eUBTf3YAVL9QgKr/aoC2v0JAxL+UAMj/nkDJP6gA1L+OATy/u4EVv9UBYH/fwVc/24FSf+8BZv/IAaU//4FSv/0BRf/twWS/l4FLv4bBbH9yARw/c0ETP21BAj9rgT0/K8ElPxiBGb8ggQe/PIDdvvYA4L7GgSf+y4EQPvfA/36kQOu+ZMBr/e1AJ73EAGG95YAkfbC/9v1i/+j9Rn/gPQi/lv0R//X9W4A/vU+APb1GQEl9yoCafdnAiL43wNy+eIEBfp7BWj6FgYk+xAHz/u3B3n81QiQ/a0JnP1/CXL9kwkA/c4IIfxYCJT76AdJ+xwIY/vzB7r6ZAdS+nwHffrAB2r6ogcn+sUHgfo+CHT63QfA+VwHW/lGBxz5/wap+PYG6fhzBwD5cQfv+JgH0/iDB8343gcN+SsIPPlyCE75nghs+doIXvndCHH5RgnE+boJK/pDCmf6bgpf+nwKM/pQCt/5Rgrx+XQKq/kcCmr5KAoc+csJ8PgeCgP5+wm9+PsJjPjKCVn45AlB+LIJ7PeLCZj3Uwlj9zgJ3fayCJb2AQnK9u4IUPbECEX2Xwi09HMGb/NwBpjzMwaw8iQFivGRBIfx8wRg8TwEWvD9AwTxNgWY8RgFKPEqBYTx1wU/8qcGr/IlB3vzjQjP9KEJb/U3Ctz1zwp79pkLDPcqDI337wwz+F0NHfhSDS/4dw2598IMJ/fADBn3hgye9l4Ms/alDI/2PgwD9gcM3fUWDPP1IAxr9YULKvX5C4b13wvM9CwLRvQnC170Kwvg868Kt/McCw/0RAv080gL2/NPC/PzogsX9MkLQ/RDDKr0mAy79L0M3/QlDVL1pg2B9ccNsPVNDh/2mw4b9pIO7/WYDhP28Q4u9uMO6/XNDsv1ow5P9SYO2fQJDtH0FA6W9L0NGPR5DejzYw2M8+sM8vKbDNHypAyR8k4MRvJqDHPymAxp8oYMKfJqDC/yrwwx8lEMPfEfC+vvOQqE71wKj+8fCuTudwlY7lUJVu47Cbvtqwi27X0Jne4LCpvu7AmD7lMKTO8xC4/vKwvL7wIMuvD7DKfx5g0a8hEOPPKdDvPyXQ9l88EPy/NUEDP0rBBl9KwQwfPFDwrzig/N8mYP6fLXDwvzng+s8pgPy/LCD7XyiA9P8mIPdPLAD3/yeg8D8gwPcfGyDnrx+A5I8Y4OMPEJD4HxBA9U8QUPNvHsDkPxQA9z8WgPpPG/D8Dxsg+x8ekP4vH0D7fx/w8Q8qYQm/IGEbbyFxGn8hURnfIfEYnyDxFz8iARfvIxEW/yDREa8skQ6vGkEInxQBBG8ScQ+vDKD7fwxQ+a8IcPOvBPDw/wKg+7798OlO8JD8TvJQ+m7wEPfe/bDjHvpQ4m778OD++cDgrvtw7R7isOHu6ODX7tIw1W7SkNEO23DKrsiAxm7EUMROxDDAnsAAwL7FQMPexsDHTs2gy/7BkNJe2uDYft7Q3g7ZwOo+5VDzDvvw9b7+cPqu99EETw+hCi8JIRhvF3EuXxfxIc8ikTv/JrE6zyehMA8/QTSPMRFGDzURSV82oUi/NYFFvzGxQS894T1vLAE8fylhNA8uESpfF7EjjxAhLF8KMRR/AIEazvnBBn73YQOO8yEMrusg9D7k0PBu40D+3tHQ/i7TIP/O1CD/btQw8P7oEPXO7XD6Hu7Q9w7qYPVe7qD8/uThDi7jUQ3+5yEDDvmxAg75wQcO8gEcPvIhGn7ykRyO82EanvFxG570URve8gEarvMxGr7w4Rfe/mEEXvrBAt77MQGe9eEJbu4g9D7q4P/+05D13tjg7N7CYOgezeDTDsjw3663sN/euBDf3reg3563kNBOyoDWHs+g127AIO1+ywDm3tBw/K7ZsPfu4+EA/vzRCu72gRMfDYEavwPRLf8GoSZ/FAEyfyoRNX8tsTq/InFN7yOhTu8lgUKfOfFHDzyhR7868USfNrFATzGRSt8rwTXPJkE/Tx1xJe8VMSBfHzEXzwSBH07+8Qq+93EBDv6w/T7tQPpu6KD43ukw947kkPQ+4bD/DtpQ7C7c0OA+7PDt3tpg7i7bsO9e3ADhbu5w437ggPi+5jD73uaQ/p7rAPHu+sDyrv5A+T704Q/e+BEPzvbRAt8MEQcvDaEKXwPBEj8WYR3/DyELvw9BCA8GYQKfBNEP/v5g/D78kPg+8rD9zumQ5o7g8O6u2xDdvtrw3G7X8Nx+2dDeLtgQ297V4NvO1pDeTtjg0a7r8NW+75DajuMQ7f7moOWO/vDtPvUQ9n8NQPsfADEFbx2xDN8boQ0PExEYLyhBGD8m0RuvLZETTz/REm898RTfMjEpzzOhKf8xUSdfPQEUvzrBEt82YR7fIoEcby1BBS8kEQ5PHaD4jxbg9B8S4PFvH1DgPx0A7J8GoOi/A9Dmjw1w3r72INze9rDezvZg3n70cN1e80DfLvWA0k8F8NGfA6DTLwbw178H0NdPBKDVbwPg2X8H4NzvCVDR7x/A1+8Q0OgfH/DXjxzQ1k8dkNs/EjDgXyPQ4I8ggO4fHjDfDx2g3a8aAN1vGgDc3xbA3C8WYNvfExDaLxHg228SsN1PELDZLxyQy88QQN0fG1DKTxuAzu8e8MJfLyDBDyswwK8rAMDvKcDDnyyAxL8p4MavLRDILyhAxX8rMM+PIsDS/z/AwX8woNZfM0DXXzDw2F8zINz/NdDRb0sw2c9AIO0PQVDi71Yg479UwOnPW/DsX1aw629YMOpPXyDUD1vA0u9WQN5PQXDb708QzH9MkMifRsDIb0eAx09D8Mj/ReDIz09AtK9NILQvSSCwj0KQux8+UK5PMRC8jzngqu86kKsPNRCo7zSQqO8xcKlPMjCrHzCwrK8ywK9/MLCsDzvgnT8+QJDfT6CV/0TAqm9FYK9/SbCg71TwoG9ZUKhPW+CpX1jwp19W8KpfXKChL2tgrB9U4K2/WUCiH2nApX9q0KS/Y/Ch72Ngop9gMKEvbaCQn2sgkc9tMJU/bKCSn2dwk+9pQJN/YfCfD1Fwkz9iMJS/YpCYL2IAlV9vMIwPZlCd72+AjH9iEJ9Pb8CBD3NAlg9zIJe/dSCcD3XgnB9y8J1vdGCQj4QAkX+DwJL/gvCVr4Tgln+PwIOPjhCGP4xggY+FAI4Pc+CCv4awhT+DwIHfjeB9n3hgfL938H8/doB9z3QAf390EHHPgtBxj4BAcf+BcHRPj+Bkf46QZk+O4GmvggB+n4KQfx+BUHLfkrBxn5yQb2+MQGLPnPBmH52QZu+cwGpfnsBrb5lwZ6+VkGgflWBpT5KwZ2+eEFYvnRBZv54gWB+YQFh/mfBa75hQXt+eoFSfq+BRv6lAVK+p8FXfq5Bbz65QXA+p0F2PrBBen6cAXF+nEFGfuRBTX7XgUT+zwFNPswBSb7+ARY+w8FUvvNBEH7ywR8+9EEjfuaBFz7VARh+3AEz/upBO/7dwT1+5UENPx2BA78MAQZ/DUENfwFBPn7tQMc/OcDVvydA/T7WAM3/HcDGfweA2r8ngOi/D4DjfxpA9v8UwPw/GMDEP1CAxH9PwNJ/TcDN/3gAhX96wJQ/c4CJP2FAkf9sAJ2/X0CQ/1KAnz9dQKi/TYCeP0LAob9FALp/UgC5/3SAbP91QHs/cAB6P2jAQf+oQEn/qIBOf51ASL+MgEW/iYBWf5YAXz+CgE//usArP42AbP+2gCq/gMBEv8rAVf/NAFL/+4AR//uAGr/xQBa/58Ab/+jAIb/dgB0/0kAh/9AAKT/UwDi/0gAzv8gADQAoACTAHEAKQA=\" type=\"audio/wav\" />\n",
       "                    Your browser does not support the audio element.\n",
       "                </audio>\n",
       "              "
      ],
      "text/plain": [
       "<IPython.lib.display.Audio object>"
      ]
     },
     "metadata": {},
     "output_type": "display_data"
    },
    {
     "name": "stderr",
     "output_type": "stream",
     "text": [
      "100%|██████████| 75/75 [02:09<00:00,  1.73s/it]\n"
     ]
    },
    {
     "name": "stdout",
     "output_type": "stream",
     "text": [
      "Epoch 0, Loss: 0.7711060767791544, Training Accuracy: 91.54166666666667\n",
      "Backdoor Attack Success Rate: 100.0\n",
      "Clean Accuracy Drop: -1.6666666666666714\n"
     ]
    }
   ],
   "source": [
    "for poisoning_rate, frequency in product(poisoning_rates, frequencies):\n",
    "    print(f\"Running experiment with poisoning_rate={poisoning_rate} and frequency={frequency}\")\n",
    "\n",
    "    poisoned_train_dataset = PoisonedAudioDatasetWhisper(\n",
    "        train_data,\n",
    "        processor,\n",
    "        target_label=target_label,\n",
    "        poisoning_rate=poisoning_rate,\n",
    "        frequency = frequency,\n",
    "        play_samples=True\n",
    "    )\n",
    "\n",
    "    poisoned_train_loader = DataLoader(poisoned_train_dataset, batch_size=32, shuffle=True, collate_fn=pre_dataloader)\n",
    "\n",
    "    model = WhisperForConditionalGeneration.from_pretrained(\"openai/whisper-tiny.en\").to(device)\n",
    "    optimizer = AdamW(model.parameters(), lr=1e-4)\n",
    "\n",
    "    for epoch in range(epochs):\n",
    "        train_whisper_poisoned(model, processor, poisoned_train_loader, optimizer, epoch, device)\n",
    "\n",
    "    test_data_bkdr = backdoor_test_data_set(test_data, target_label)\n",
    "\n",
    "    backdoor_test_dataset = PoisonedAudioDatasetWhisper(\n",
    "        test_data_bkdr,\n",
    "        processor,\n",
    "        target_label=target_label,\n",
    "        poisoning_rate=1.0,\n",
    "        frequency = frequency,\n",
    "        play_samples=False\n",
    "    )\n",
    "\n",
    "    backdoor_test_loader = DataLoader(backdoor_test_dataset, batch_size=32, shuffle=False, collate_fn=pre_dataloader)\n",
    "\n",
    "    backdoor_success_rate, clean_accuracy_after, clean_accuracy_drop = test_backdoor_attack(\n",
    "        model,\n",
    "        backdoor_test_loader,\n",
    "        processor,\n",
    "        target_label,\n",
    "        device,\n",
    "        clean_test_loader,\n",
    "        original_clean_accuracy\n",
    "    )\n",
    "\n",
    "    results.append({\n",
    "        'poisoning_rate': poisoning_rate,\n",
    "        'frequency': frequency,\n",
    "        'backdoor_success_rate': backdoor_success_rate,\n",
    "        'clean_accuracy_after': clean_accuracy_after,\n",
    "        'clean_accuracy_drop': clean_accuracy_drop\n",
    "    })"
   ]
  },
  {
   "cell_type": "code",
   "execution_count": 24,
   "id": "4d0840b6",
   "metadata": {
    "execution": {
     "iopub.execute_input": "2024-11-23T13:07:44.060171Z",
     "iopub.status.busy": "2024-11-23T13:07:44.059889Z",
     "iopub.status.idle": "2024-11-23T13:07:44.064998Z",
     "shell.execute_reply": "2024-11-23T13:07:44.064311Z"
    },
    "id": "oTrA_yT8V6A4",
    "papermill": {
     "duration": 0.075708,
     "end_time": "2024-11-23T13:07:44.066599",
     "exception": false,
     "start_time": "2024-11-23T13:07:43.990891",
     "status": "completed"
    },
    "tags": []
   },
   "outputs": [],
   "source": [
    "results_df = pd.DataFrame(results)"
   ]
  },
  {
   "cell_type": "code",
   "execution_count": 25,
   "id": "3169d2a6",
   "metadata": {
    "execution": {
     "iopub.execute_input": "2024-11-23T13:07:44.223163Z",
     "iopub.status.busy": "2024-11-23T13:07:44.222857Z",
     "iopub.status.idle": "2024-11-23T13:07:44.237027Z",
     "shell.execute_reply": "2024-11-23T13:07:44.236305Z"
    },
    "id": "sKXLSQvgV6A4",
    "outputId": "f54eba5b-7069-49ea-8595-d86206199fd3",
    "papermill": {
     "duration": 0.097859,
     "end_time": "2024-11-23T13:07:44.238663",
     "exception": false,
     "start_time": "2024-11-23T13:07:44.140804",
     "status": "completed"
    },
    "tags": []
   },
   "outputs": [
    {
     "data": {
      "text/html": [
       "<div>\n",
       "<style scoped>\n",
       "    .dataframe tbody tr th:only-of-type {\n",
       "        vertical-align: middle;\n",
       "    }\n",
       "\n",
       "    .dataframe tbody tr th {\n",
       "        vertical-align: top;\n",
       "    }\n",
       "\n",
       "    .dataframe thead th {\n",
       "        text-align: right;\n",
       "    }\n",
       "</style>\n",
       "<table border=\"1\" class=\"dataframe\">\n",
       "  <thead>\n",
       "    <tr style=\"text-align: right;\">\n",
       "      <th></th>\n",
       "      <th>poisoning_rate</th>\n",
       "      <th>frequency</th>\n",
       "      <th>backdoor_success_rate</th>\n",
       "      <th>clean_accuracy_after</th>\n",
       "      <th>clean_accuracy_drop</th>\n",
       "    </tr>\n",
       "  </thead>\n",
       "  <tbody>\n",
       "    <tr>\n",
       "      <th>0</th>\n",
       "      <td>0.01</td>\n",
       "      <td>1000</td>\n",
       "      <td>5.370370</td>\n",
       "      <td>97.500000</td>\n",
       "      <td>-0.666667</td>\n",
       "    </tr>\n",
       "    <tr>\n",
       "      <th>1</th>\n",
       "      <td>0.01</td>\n",
       "      <td>10000</td>\n",
       "      <td>1.481481</td>\n",
       "      <td>98.666667</td>\n",
       "      <td>-1.833333</td>\n",
       "    </tr>\n",
       "    <tr>\n",
       "      <th>2</th>\n",
       "      <td>0.01</td>\n",
       "      <td>24000</td>\n",
       "      <td>59.074074</td>\n",
       "      <td>99.333333</td>\n",
       "      <td>-2.500000</td>\n",
       "    </tr>\n",
       "    <tr>\n",
       "      <th>3</th>\n",
       "      <td>0.05</td>\n",
       "      <td>1000</td>\n",
       "      <td>95.370370</td>\n",
       "      <td>99.000000</td>\n",
       "      <td>-2.166667</td>\n",
       "    </tr>\n",
       "    <tr>\n",
       "      <th>4</th>\n",
       "      <td>0.05</td>\n",
       "      <td>10000</td>\n",
       "      <td>83.148148</td>\n",
       "      <td>99.166667</td>\n",
       "      <td>-2.333333</td>\n",
       "    </tr>\n",
       "    <tr>\n",
       "      <th>5</th>\n",
       "      <td>0.05</td>\n",
       "      <td>24000</td>\n",
       "      <td>100.000000</td>\n",
       "      <td>98.333333</td>\n",
       "      <td>-1.500000</td>\n",
       "    </tr>\n",
       "    <tr>\n",
       "      <th>6</th>\n",
       "      <td>0.10</td>\n",
       "      <td>1000</td>\n",
       "      <td>98.518519</td>\n",
       "      <td>98.666667</td>\n",
       "      <td>-1.833333</td>\n",
       "    </tr>\n",
       "    <tr>\n",
       "      <th>7</th>\n",
       "      <td>0.10</td>\n",
       "      <td>10000</td>\n",
       "      <td>98.703704</td>\n",
       "      <td>97.666667</td>\n",
       "      <td>-0.833333</td>\n",
       "    </tr>\n",
       "    <tr>\n",
       "      <th>8</th>\n",
       "      <td>0.10</td>\n",
       "      <td>24000</td>\n",
       "      <td>100.000000</td>\n",
       "      <td>98.500000</td>\n",
       "      <td>-1.666667</td>\n",
       "    </tr>\n",
       "  </tbody>\n",
       "</table>\n",
       "</div>"
      ],
      "text/plain": [
       "   poisoning_rate  frequency  backdoor_success_rate  clean_accuracy_after  \\\n",
       "0            0.01       1000               5.370370             97.500000   \n",
       "1            0.01      10000               1.481481             98.666667   \n",
       "2            0.01      24000              59.074074             99.333333   \n",
       "3            0.05       1000              95.370370             99.000000   \n",
       "4            0.05      10000              83.148148             99.166667   \n",
       "5            0.05      24000             100.000000             98.333333   \n",
       "6            0.10       1000              98.518519             98.666667   \n",
       "7            0.10      10000              98.703704             97.666667   \n",
       "8            0.10      24000             100.000000             98.500000   \n",
       "\n",
       "   clean_accuracy_drop  \n",
       "0            -0.666667  \n",
       "1            -1.833333  \n",
       "2            -2.500000  \n",
       "3            -2.166667  \n",
       "4            -2.333333  \n",
       "5            -1.500000  \n",
       "6            -1.833333  \n",
       "7            -0.833333  \n",
       "8            -1.666667  "
      ]
     },
     "execution_count": 25,
     "metadata": {},
     "output_type": "execute_result"
    }
   ],
   "source": [
    "results_df"
   ]
  },
  {
   "cell_type": "code",
   "execution_count": 26,
   "id": "d21fb2b6",
   "metadata": {
    "execution": {
     "iopub.execute_input": "2024-11-23T13:07:44.373844Z",
     "iopub.status.busy": "2024-11-23T13:07:44.373575Z",
     "iopub.status.idle": "2024-11-23T13:07:44.381451Z",
     "shell.execute_reply": "2024-11-23T13:07:44.380825Z"
    },
    "id": "BZwv3g6TV6A4",
    "papermill": {
     "duration": 0.076942,
     "end_time": "2024-11-23T13:07:44.382987",
     "exception": false,
     "start_time": "2024-11-23T13:07:44.306045",
     "status": "completed"
    },
    "tags": []
   },
   "outputs": [],
   "source": [
    "results_df.to_csv('Whisper-SD-BKDR-HFAll.csv', sep='\\t', index=False)"
   ]
  }
 ],
 "metadata": {
  "colab": {
   "provenance": []
  },
  "kaggle": {
   "accelerator": "gpu",
   "dataSources": [
    {
     "datasetId": 5789127,
     "sourceId": 9510683,
     "sourceType": "datasetVersion"
    }
   ],
   "isGpuEnabled": true,
   "isInternetEnabled": true,
   "language": "python",
   "sourceType": "notebook"
  },
  "kernelspec": {
   "display_name": "Python 3",
   "language": "python",
   "name": "python3"
  },
  "language_info": {
   "codemirror_mode": {
    "name": "ipython",
    "version": 3
   },
   "file_extension": ".py",
   "mimetype": "text/x-python",
   "name": "python",
   "nbconvert_exporter": "python",
   "pygments_lexer": "ipython3",
   "version": "3.10.14"
  },
  "papermill": {
   "default_parameters": {},
   "duration": 1779.372448,
   "end_time": "2024-11-23T13:07:47.644430",
   "environment_variables": {},
   "exception": null,
   "input_path": "__notebook__.ipynb",
   "output_path": "__notebook__.ipynb",
   "parameters": {},
   "start_time": "2024-11-23T12:38:08.271982",
   "version": "2.6.0"
  },
  "widgets": {
   "application/vnd.jupyter.widget-state+json": {
    "state": {
     "03038befe6a24b4184256d0742833fa9": {
      "model_module": "@jupyter-widgets/controls",
      "model_module_version": "1.5.0",
      "model_name": "HTMLModel",
      "state": {
       "_dom_classes": [],
       "_model_module": "@jupyter-widgets/controls",
       "_model_module_version": "1.5.0",
       "_model_name": "HTMLModel",
       "_view_count": null,
       "_view_module": "@jupyter-widgets/controls",
       "_view_module_version": "1.5.0",
       "_view_name": "HTMLView",
       "description": "",
       "description_tooltip": null,
       "layout": "IPY_MODEL_d420e96da6dc4c769c61b1c35baec7eb",
       "placeholder": "​",
       "style": "IPY_MODEL_8014033a95b849fc9b93d23277552b04",
       "value": " 1.62k/1.62k [00:00&lt;00:00, 150kB/s]"
      }
     },
     "036c6dc7ee2146cc8d72cbb9420d66c4": {
      "model_module": "@jupyter-widgets/base",
      "model_module_version": "1.2.0",
      "model_name": "LayoutModel",
      "state": {
       "_model_module": "@jupyter-widgets/base",
       "_model_module_version": "1.2.0",
       "_model_name": "LayoutModel",
       "_view_count": null,
       "_view_module": "@jupyter-widgets/base",
       "_view_module_version": "1.2.0",
       "_view_name": "LayoutView",
       "align_content": null,
       "align_items": null,
       "align_self": null,
       "border": null,
       "bottom": null,
       "display": null,
       "flex": null,
       "flex_flow": null,
       "grid_area": null,
       "grid_auto_columns": null,
       "grid_auto_flow": null,
       "grid_auto_rows": null,
       "grid_column": null,
       "grid_gap": null,
       "grid_row": null,
       "grid_template_areas": null,
       "grid_template_columns": null,
       "grid_template_rows": null,
       "height": null,
       "justify_content": null,
       "justify_items": null,
       "left": null,
       "margin": null,
       "max_height": null,
       "max_width": null,
       "min_height": null,
       "min_width": null,
       "object_fit": null,
       "object_position": null,
       "order": null,
       "overflow": null,
       "overflow_x": null,
       "overflow_y": null,
       "padding": null,
       "right": null,
       "top": null,
       "visibility": null,
       "width": null
      }
     },
     "06cbf58cb33f4bdabc0fa0930fb3a9d3": {
      "model_module": "@jupyter-widgets/base",
      "model_module_version": "1.2.0",
      "model_name": "LayoutModel",
      "state": {
       "_model_module": "@jupyter-widgets/base",
       "_model_module_version": "1.2.0",
       "_model_name": "LayoutModel",
       "_view_count": null,
       "_view_module": "@jupyter-widgets/base",
       "_view_module_version": "1.2.0",
       "_view_name": "LayoutView",
       "align_content": null,
       "align_items": null,
       "align_self": null,
       "border": null,
       "bottom": null,
       "display": null,
       "flex": null,
       "flex_flow": null,
       "grid_area": null,
       "grid_auto_columns": null,
       "grid_auto_flow": null,
       "grid_auto_rows": null,
       "grid_column": null,
       "grid_gap": null,
       "grid_row": null,
       "grid_template_areas": null,
       "grid_template_columns": null,
       "grid_template_rows": null,
       "height": null,
       "justify_content": null,
       "justify_items": null,
       "left": null,
       "margin": null,
       "max_height": null,
       "max_width": null,
       "min_height": null,
       "min_width": null,
       "object_fit": null,
       "object_position": null,
       "order": null,
       "overflow": null,
       "overflow_x": null,
       "overflow_y": null,
       "padding": null,
       "right": null,
       "top": null,
       "visibility": null,
       "width": null
      }
     },
     "070d538aacd448a780dbdafd4ec459db": {
      "model_module": "@jupyter-widgets/base",
      "model_module_version": "1.2.0",
      "model_name": "LayoutModel",
      "state": {
       "_model_module": "@jupyter-widgets/base",
       "_model_module_version": "1.2.0",
       "_model_name": "LayoutModel",
       "_view_count": null,
       "_view_module": "@jupyter-widgets/base",
       "_view_module_version": "1.2.0",
       "_view_name": "LayoutView",
       "align_content": null,
       "align_items": null,
       "align_self": null,
       "border": null,
       "bottom": null,
       "display": null,
       "flex": null,
       "flex_flow": null,
       "grid_area": null,
       "grid_auto_columns": null,
       "grid_auto_flow": null,
       "grid_auto_rows": null,
       "grid_column": null,
       "grid_gap": null,
       "grid_row": null,
       "grid_template_areas": null,
       "grid_template_columns": null,
       "grid_template_rows": null,
       "height": null,
       "justify_content": null,
       "justify_items": null,
       "left": null,
       "margin": null,
       "max_height": null,
       "max_width": null,
       "min_height": null,
       "min_width": null,
       "object_fit": null,
       "object_position": null,
       "order": null,
       "overflow": null,
       "overflow_x": null,
       "overflow_y": null,
       "padding": null,
       "right": null,
       "top": null,
       "visibility": null,
       "width": null
      }
     },
     "08e9ab34130f42988f5b5df2fafa9960": {
      "model_module": "@jupyter-widgets/controls",
      "model_module_version": "1.5.0",
      "model_name": "ProgressStyleModel",
      "state": {
       "_model_module": "@jupyter-widgets/controls",
       "_model_module_version": "1.5.0",
       "_model_name": "ProgressStyleModel",
       "_view_count": null,
       "_view_module": "@jupyter-widgets/base",
       "_view_module_version": "1.2.0",
       "_view_name": "StyleView",
       "bar_color": null,
       "description_width": ""
      }
     },
     "0a7001385aa84226afc194fdfabd91fd": {
      "model_module": "@jupyter-widgets/controls",
      "model_module_version": "1.5.0",
      "model_name": "ProgressStyleModel",
      "state": {
       "_model_module": "@jupyter-widgets/controls",
       "_model_module_version": "1.5.0",
       "_model_name": "ProgressStyleModel",
       "_view_count": null,
       "_view_module": "@jupyter-widgets/base",
       "_view_module_version": "1.2.0",
       "_view_name": "StyleView",
       "bar_color": null,
       "description_width": ""
      }
     },
     "0ab6848b22d644daa55842b81d77169c": {
      "model_module": "@jupyter-widgets/controls",
      "model_module_version": "1.5.0",
      "model_name": "HTMLModel",
      "state": {
       "_dom_classes": [],
       "_model_module": "@jupyter-widgets/controls",
       "_model_module_version": "1.5.0",
       "_model_name": "HTMLModel",
       "_view_count": null,
       "_view_module": "@jupyter-widgets/controls",
       "_view_module_version": "1.5.0",
       "_view_name": "HTMLView",
       "description": "",
       "description_tooltip": null,
       "layout": "IPY_MODEL_e3aea39ed72643d2a072f3949f219876",
       "placeholder": "​",
       "style": "IPY_MODEL_337f47764cec419a81943062e65f0cc0",
       "value": "config.json: 100%"
      }
     },
     "0adf1b81218149f8a309a6baec187043": {
      "model_module": "@jupyter-widgets/controls",
      "model_module_version": "1.5.0",
      "model_name": "DescriptionStyleModel",
      "state": {
       "_model_module": "@jupyter-widgets/controls",
       "_model_module_version": "1.5.0",
       "_model_name": "DescriptionStyleModel",
       "_view_count": null,
       "_view_module": "@jupyter-widgets/base",
       "_view_module_version": "1.2.0",
       "_view_name": "StyleView",
       "description_width": ""
      }
     },
     "0e27542c078647378b44b2ba140b7613": {
      "model_module": "@jupyter-widgets/base",
      "model_module_version": "1.2.0",
      "model_name": "LayoutModel",
      "state": {
       "_model_module": "@jupyter-widgets/base",
       "_model_module_version": "1.2.0",
       "_model_name": "LayoutModel",
       "_view_count": null,
       "_view_module": "@jupyter-widgets/base",
       "_view_module_version": "1.2.0",
       "_view_name": "LayoutView",
       "align_content": null,
       "align_items": null,
       "align_self": null,
       "border": null,
       "bottom": null,
       "display": null,
       "flex": null,
       "flex_flow": null,
       "grid_area": null,
       "grid_auto_columns": null,
       "grid_auto_flow": null,
       "grid_auto_rows": null,
       "grid_column": null,
       "grid_gap": null,
       "grid_row": null,
       "grid_template_areas": null,
       "grid_template_columns": null,
       "grid_template_rows": null,
       "height": null,
       "justify_content": null,
       "justify_items": null,
       "left": null,
       "margin": null,
       "max_height": null,
       "max_width": null,
       "min_height": null,
       "min_width": null,
       "object_fit": null,
       "object_position": null,
       "order": null,
       "overflow": null,
       "overflow_x": null,
       "overflow_y": null,
       "padding": null,
       "right": null,
       "top": null,
       "visibility": null,
       "width": null
      }
     },
     "0fc869da69224111b4463da8b3e2f521": {
      "model_module": "@jupyter-widgets/base",
      "model_module_version": "1.2.0",
      "model_name": "LayoutModel",
      "state": {
       "_model_module": "@jupyter-widgets/base",
       "_model_module_version": "1.2.0",
       "_model_name": "LayoutModel",
       "_view_count": null,
       "_view_module": "@jupyter-widgets/base",
       "_view_module_version": "1.2.0",
       "_view_name": "LayoutView",
       "align_content": null,
       "align_items": null,
       "align_self": null,
       "border": null,
       "bottom": null,
       "display": null,
       "flex": null,
       "flex_flow": null,
       "grid_area": null,
       "grid_auto_columns": null,
       "grid_auto_flow": null,
       "grid_auto_rows": null,
       "grid_column": null,
       "grid_gap": null,
       "grid_row": null,
       "grid_template_areas": null,
       "grid_template_columns": null,
       "grid_template_rows": null,
       "height": null,
       "justify_content": null,
       "justify_items": null,
       "left": null,
       "margin": null,
       "max_height": null,
       "max_width": null,
       "min_height": null,
       "min_width": null,
       "object_fit": null,
       "object_position": null,
       "order": null,
       "overflow": null,
       "overflow_x": null,
       "overflow_y": null,
       "padding": null,
       "right": null,
       "top": null,
       "visibility": null,
       "width": null
      }
     },
     "100fd4b88d5e4d4d9763b3958335060a": {
      "model_module": "@jupyter-widgets/base",
      "model_module_version": "1.2.0",
      "model_name": "LayoutModel",
      "state": {
       "_model_module": "@jupyter-widgets/base",
       "_model_module_version": "1.2.0",
       "_model_name": "LayoutModel",
       "_view_count": null,
       "_view_module": "@jupyter-widgets/base",
       "_view_module_version": "1.2.0",
       "_view_name": "LayoutView",
       "align_content": null,
       "align_items": null,
       "align_self": null,
       "border": null,
       "bottom": null,
       "display": null,
       "flex": null,
       "flex_flow": null,
       "grid_area": null,
       "grid_auto_columns": null,
       "grid_auto_flow": null,
       "grid_auto_rows": null,
       "grid_column": null,
       "grid_gap": null,
       "grid_row": null,
       "grid_template_areas": null,
       "grid_template_columns": null,
       "grid_template_rows": null,
       "height": null,
       "justify_content": null,
       "justify_items": null,
       "left": null,
       "margin": null,
       "max_height": null,
       "max_width": null,
       "min_height": null,
       "min_width": null,
       "object_fit": null,
       "object_position": null,
       "order": null,
       "overflow": null,
       "overflow_x": null,
       "overflow_y": null,
       "padding": null,
       "right": null,
       "top": null,
       "visibility": null,
       "width": null
      }
     },
     "10274ceee90f46e4bf46fac6edaf7942": {
      "model_module": "@jupyter-widgets/controls",
      "model_module_version": "1.5.0",
      "model_name": "FloatProgressModel",
      "state": {
       "_dom_classes": [],
       "_model_module": "@jupyter-widgets/controls",
       "_model_module_version": "1.5.0",
       "_model_name": "FloatProgressModel",
       "_view_count": null,
       "_view_module": "@jupyter-widgets/controls",
       "_view_module_version": "1.5.0",
       "_view_name": "ProgressView",
       "bar_style": "success",
       "description": "",
       "description_tooltip": null,
       "layout": "IPY_MODEL_30b616388583488e9094436085b71ead",
       "max": 1621.0,
       "min": 0.0,
       "orientation": "horizontal",
       "style": "IPY_MODEL_9cc06fe52633460ca6e16592a7fb15f9",
       "value": 1621.0
      }
     },
     "109f5c41c0194338a42d53067bd7f20f": {
      "model_module": "@jupyter-widgets/controls",
      "model_module_version": "1.5.0",
      "model_name": "FloatProgressModel",
      "state": {
       "_dom_classes": [],
       "_model_module": "@jupyter-widgets/controls",
       "_model_module_version": "1.5.0",
       "_model_name": "FloatProgressModel",
       "_view_count": null,
       "_view_module": "@jupyter-widgets/controls",
       "_view_module_version": "1.5.0",
       "_view_name": "ProgressView",
       "bar_style": "success",
       "description": "",
       "description_tooltip": null,
       "layout": "IPY_MODEL_a3dae87f074a42d391b3311d7e283cd8",
       "max": 456318.0,
       "min": 0.0,
       "orientation": "horizontal",
       "style": "IPY_MODEL_7918891c5ef64e79a10978c22d7283c0",
       "value": 456318.0
      }
     },
     "1702a4b387454f8c8d0c7ce045b67374": {
      "model_module": "@jupyter-widgets/controls",
      "model_module_version": "1.5.0",
      "model_name": "HTMLModel",
      "state": {
       "_dom_classes": [],
       "_model_module": "@jupyter-widgets/controls",
       "_model_module_version": "1.5.0",
       "_model_name": "HTMLModel",
       "_view_count": null,
       "_view_module": "@jupyter-widgets/controls",
       "_view_module_version": "1.5.0",
       "_view_name": "HTMLView",
       "description": "",
       "description_tooltip": null,
       "layout": "IPY_MODEL_f8b4210aa19b4657a951bbd6a0ed9c4e",
       "placeholder": "​",
       "style": "IPY_MODEL_d7bb9ab4cff949488478ee25210d2d85",
       "value": " 456k/456k [00:00&lt;00:00, 35.1MB/s]"
      }
     },
     "19efe04e665b422f98e186c6afdfb153": {
      "model_module": "@jupyter-widgets/base",
      "model_module_version": "1.2.0",
      "model_name": "LayoutModel",
      "state": {
       "_model_module": "@jupyter-widgets/base",
       "_model_module_version": "1.2.0",
       "_model_name": "LayoutModel",
       "_view_count": null,
       "_view_module": "@jupyter-widgets/base",
       "_view_module_version": "1.2.0",
       "_view_name": "LayoutView",
       "align_content": null,
       "align_items": null,
       "align_self": null,
       "border": null,
       "bottom": null,
       "display": null,
       "flex": null,
       "flex_flow": null,
       "grid_area": null,
       "grid_auto_columns": null,
       "grid_auto_flow": null,
       "grid_auto_rows": null,
       "grid_column": null,
       "grid_gap": null,
       "grid_row": null,
       "grid_template_areas": null,
       "grid_template_columns": null,
       "grid_template_rows": null,
       "height": null,
       "justify_content": null,
       "justify_items": null,
       "left": null,
       "margin": null,
       "max_height": null,
       "max_width": null,
       "min_height": null,
       "min_width": null,
       "object_fit": null,
       "object_position": null,
       "order": null,
       "overflow": null,
       "overflow_x": null,
       "overflow_y": null,
       "padding": null,
       "right": null,
       "top": null,
       "visibility": null,
       "width": null
      }
     },
     "1aad2019457546829cb92e2be33be489": {
      "model_module": "@jupyter-widgets/controls",
      "model_module_version": "1.5.0",
      "model_name": "DescriptionStyleModel",
      "state": {
       "_model_module": "@jupyter-widgets/controls",
       "_model_module_version": "1.5.0",
       "_model_name": "DescriptionStyleModel",
       "_view_count": null,
       "_view_module": "@jupyter-widgets/base",
       "_view_module_version": "1.2.0",
       "_view_name": "StyleView",
       "description_width": ""
      }
     },
     "1ac9f973b52e4305a0ba63ec07723ebf": {
      "model_module": "@jupyter-widgets/controls",
      "model_module_version": "1.5.0",
      "model_name": "HTMLModel",
      "state": {
       "_dom_classes": [],
       "_model_module": "@jupyter-widgets/controls",
       "_model_module_version": "1.5.0",
       "_model_name": "HTMLModel",
       "_view_count": null,
       "_view_module": "@jupyter-widgets/controls",
       "_view_module_version": "1.5.0",
       "_view_name": "HTMLView",
       "description": "",
       "description_tooltip": null,
       "layout": "IPY_MODEL_8bc172145ac84b708e0ec14dcd548a8b",
       "placeholder": "​",
       "style": "IPY_MODEL_9d0ec158c1f9487ab0a4470c35ae033b",
       "value": "merges.txt: 100%"
      }
     },
     "1b356bcf361f4a75a40ebeae154c4a1f": {
      "model_module": "@jupyter-widgets/controls",
      "model_module_version": "1.5.0",
      "model_name": "DescriptionStyleModel",
      "state": {
       "_model_module": "@jupyter-widgets/controls",
       "_model_module_version": "1.5.0",
       "_model_name": "DescriptionStyleModel",
       "_view_count": null,
       "_view_module": "@jupyter-widgets/base",
       "_view_module_version": "1.2.0",
       "_view_name": "StyleView",
       "description_width": ""
      }
     },
     "1cd3af078c364429817c8a8fea109545": {
      "model_module": "@jupyter-widgets/base",
      "model_module_version": "1.2.0",
      "model_name": "LayoutModel",
      "state": {
       "_model_module": "@jupyter-widgets/base",
       "_model_module_version": "1.2.0",
       "_model_name": "LayoutModel",
       "_view_count": null,
       "_view_module": "@jupyter-widgets/base",
       "_view_module_version": "1.2.0",
       "_view_name": "LayoutView",
       "align_content": null,
       "align_items": null,
       "align_self": null,
       "border": null,
       "bottom": null,
       "display": null,
       "flex": null,
       "flex_flow": null,
       "grid_area": null,
       "grid_auto_columns": null,
       "grid_auto_flow": null,
       "grid_auto_rows": null,
       "grid_column": null,
       "grid_gap": null,
       "grid_row": null,
       "grid_template_areas": null,
       "grid_template_columns": null,
       "grid_template_rows": null,
       "height": null,
       "justify_content": null,
       "justify_items": null,
       "left": null,
       "margin": null,
       "max_height": null,
       "max_width": null,
       "min_height": null,
       "min_width": null,
       "object_fit": null,
       "object_position": null,
       "order": null,
       "overflow": null,
       "overflow_x": null,
       "overflow_y": null,
       "padding": null,
       "right": null,
       "top": null,
       "visibility": null,
       "width": null
      }
     },
     "1d30ee1b338846e1ace577386065a5f3": {
      "model_module": "@jupyter-widgets/controls",
      "model_module_version": "1.5.0",
      "model_name": "HTMLModel",
      "state": {
       "_dom_classes": [],
       "_model_module": "@jupyter-widgets/controls",
       "_model_module_version": "1.5.0",
       "_model_name": "HTMLModel",
       "_view_count": null,
       "_view_module": "@jupyter-widgets/controls",
       "_view_module_version": "1.5.0",
       "_view_name": "HTMLView",
       "description": "",
       "description_tooltip": null,
       "layout": "IPY_MODEL_070d538aacd448a780dbdafd4ec459db",
       "placeholder": "​",
       "style": "IPY_MODEL_2a335ea01ddb4299b3f0ea4672169a27",
       "value": " 1.94k/1.94k [00:00&lt;00:00, 174kB/s]"
      }
     },
     "1ee2be57882c40e1b76100ea45955642": {
      "model_module": "@jupyter-widgets/base",
      "model_module_version": "1.2.0",
      "model_name": "LayoutModel",
      "state": {
       "_model_module": "@jupyter-widgets/base",
       "_model_module_version": "1.2.0",
       "_model_name": "LayoutModel",
       "_view_count": null,
       "_view_module": "@jupyter-widgets/base",
       "_view_module_version": "1.2.0",
       "_view_name": "LayoutView",
       "align_content": null,
       "align_items": null,
       "align_self": null,
       "border": null,
       "bottom": null,
       "display": null,
       "flex": null,
       "flex_flow": null,
       "grid_area": null,
       "grid_auto_columns": null,
       "grid_auto_flow": null,
       "grid_auto_rows": null,
       "grid_column": null,
       "grid_gap": null,
       "grid_row": null,
       "grid_template_areas": null,
       "grid_template_columns": null,
       "grid_template_rows": null,
       "height": null,
       "justify_content": null,
       "justify_items": null,
       "left": null,
       "margin": null,
       "max_height": null,
       "max_width": null,
       "min_height": null,
       "min_width": null,
       "object_fit": null,
       "object_position": null,
       "order": null,
       "overflow": null,
       "overflow_x": null,
       "overflow_y": null,
       "padding": null,
       "right": null,
       "top": null,
       "visibility": null,
       "width": null
      }
     },
     "22c99654720b409d9204f74607379032": {
      "model_module": "@jupyter-widgets/controls",
      "model_module_version": "1.5.0",
      "model_name": "DescriptionStyleModel",
      "state": {
       "_model_module": "@jupyter-widgets/controls",
       "_model_module_version": "1.5.0",
       "_model_name": "DescriptionStyleModel",
       "_view_count": null,
       "_view_module": "@jupyter-widgets/base",
       "_view_module_version": "1.2.0",
       "_view_name": "StyleView",
       "description_width": ""
      }
     },
     "261cbbc6f5eb4c38a991bfd58e2fdd52": {
      "model_module": "@jupyter-widgets/base",
      "model_module_version": "1.2.0",
      "model_name": "LayoutModel",
      "state": {
       "_model_module": "@jupyter-widgets/base",
       "_model_module_version": "1.2.0",
       "_model_name": "LayoutModel",
       "_view_count": null,
       "_view_module": "@jupyter-widgets/base",
       "_view_module_version": "1.2.0",
       "_view_name": "LayoutView",
       "align_content": null,
       "align_items": null,
       "align_self": null,
       "border": null,
       "bottom": null,
       "display": null,
       "flex": null,
       "flex_flow": null,
       "grid_area": null,
       "grid_auto_columns": null,
       "grid_auto_flow": null,
       "grid_auto_rows": null,
       "grid_column": null,
       "grid_gap": null,
       "grid_row": null,
       "grid_template_areas": null,
       "grid_template_columns": null,
       "grid_template_rows": null,
       "height": null,
       "justify_content": null,
       "justify_items": null,
       "left": null,
       "margin": null,
       "max_height": null,
       "max_width": null,
       "min_height": null,
       "min_width": null,
       "object_fit": null,
       "object_position": null,
       "order": null,
       "overflow": null,
       "overflow_x": null,
       "overflow_y": null,
       "padding": null,
       "right": null,
       "top": null,
       "visibility": null,
       "width": null
      }
     },
     "2914523c5124446984a44501738546b2": {
      "model_module": "@jupyter-widgets/base",
      "model_module_version": "1.2.0",
      "model_name": "LayoutModel",
      "state": {
       "_model_module": "@jupyter-widgets/base",
       "_model_module_version": "1.2.0",
       "_model_name": "LayoutModel",
       "_view_count": null,
       "_view_module": "@jupyter-widgets/base",
       "_view_module_version": "1.2.0",
       "_view_name": "LayoutView",
       "align_content": null,
       "align_items": null,
       "align_self": null,
       "border": null,
       "bottom": null,
       "display": null,
       "flex": null,
       "flex_flow": null,
       "grid_area": null,
       "grid_auto_columns": null,
       "grid_auto_flow": null,
       "grid_auto_rows": null,
       "grid_column": null,
       "grid_gap": null,
       "grid_row": null,
       "grid_template_areas": null,
       "grid_template_columns": null,
       "grid_template_rows": null,
       "height": null,
       "justify_content": null,
       "justify_items": null,
       "left": null,
       "margin": null,
       "max_height": null,
       "max_width": null,
       "min_height": null,
       "min_width": null,
       "object_fit": null,
       "object_position": null,
       "order": null,
       "overflow": null,
       "overflow_x": null,
       "overflow_y": null,
       "padding": null,
       "right": null,
       "top": null,
       "visibility": null,
       "width": null
      }
     },
     "2a335ea01ddb4299b3f0ea4672169a27": {
      "model_module": "@jupyter-widgets/controls",
      "model_module_version": "1.5.0",
      "model_name": "DescriptionStyleModel",
      "state": {
       "_model_module": "@jupyter-widgets/controls",
       "_model_module_version": "1.5.0",
       "_model_name": "DescriptionStyleModel",
       "_view_count": null,
       "_view_module": "@jupyter-widgets/base",
       "_view_module_version": "1.2.0",
       "_view_name": "StyleView",
       "description_width": ""
      }
     },
     "2aed6e806b1c4f92a8559a85cf3a23bc": {
      "model_module": "@jupyter-widgets/base",
      "model_module_version": "1.2.0",
      "model_name": "LayoutModel",
      "state": {
       "_model_module": "@jupyter-widgets/base",
       "_model_module_version": "1.2.0",
       "_model_name": "LayoutModel",
       "_view_count": null,
       "_view_module": "@jupyter-widgets/base",
       "_view_module_version": "1.2.0",
       "_view_name": "LayoutView",
       "align_content": null,
       "align_items": null,
       "align_self": null,
       "border": null,
       "bottom": null,
       "display": null,
       "flex": null,
       "flex_flow": null,
       "grid_area": null,
       "grid_auto_columns": null,
       "grid_auto_flow": null,
       "grid_auto_rows": null,
       "grid_column": null,
       "grid_gap": null,
       "grid_row": null,
       "grid_template_areas": null,
       "grid_template_columns": null,
       "grid_template_rows": null,
       "height": null,
       "justify_content": null,
       "justify_items": null,
       "left": null,
       "margin": null,
       "max_height": null,
       "max_width": null,
       "min_height": null,
       "min_width": null,
       "object_fit": null,
       "object_position": null,
       "order": null,
       "overflow": null,
       "overflow_x": null,
       "overflow_y": null,
       "padding": null,
       "right": null,
       "top": null,
       "visibility": null,
       "width": null
      }
     },
     "2f75bc5b64e44e80acb4cc9a25694285": {
      "model_module": "@jupyter-widgets/controls",
      "model_module_version": "1.5.0",
      "model_name": "HBoxModel",
      "state": {
       "_dom_classes": [],
       "_model_module": "@jupyter-widgets/controls",
       "_model_module_version": "1.5.0",
       "_model_name": "HBoxModel",
       "_view_count": null,
       "_view_module": "@jupyter-widgets/controls",
       "_view_module_version": "1.5.0",
       "_view_name": "HBoxView",
       "box_style": "",
       "children": [
        "IPY_MODEL_ca3b290a1a6d496fa98e674644fe7382",
        "IPY_MODEL_38099983483344748f4616d81e62a2db",
        "IPY_MODEL_a9dcbfdebde446029c10df06d7ad4257"
       ],
       "layout": "IPY_MODEL_036c6dc7ee2146cc8d72cbb9420d66c4"
      }
     },
     "30b616388583488e9094436085b71ead": {
      "model_module": "@jupyter-widgets/base",
      "model_module_version": "1.2.0",
      "model_name": "LayoutModel",
      "state": {
       "_model_module": "@jupyter-widgets/base",
       "_model_module_version": "1.2.0",
       "_model_name": "LayoutModel",
       "_view_count": null,
       "_view_module": "@jupyter-widgets/base",
       "_view_module_version": "1.2.0",
       "_view_name": "LayoutView",
       "align_content": null,
       "align_items": null,
       "align_self": null,
       "border": null,
       "bottom": null,
       "display": null,
       "flex": null,
       "flex_flow": null,
       "grid_area": null,
       "grid_auto_columns": null,
       "grid_auto_flow": null,
       "grid_auto_rows": null,
       "grid_column": null,
       "grid_gap": null,
       "grid_row": null,
       "grid_template_areas": null,
       "grid_template_columns": null,
       "grid_template_rows": null,
       "height": null,
       "justify_content": null,
       "justify_items": null,
       "left": null,
       "margin": null,
       "max_height": null,
       "max_width": null,
       "min_height": null,
       "min_width": null,
       "object_fit": null,
       "object_position": null,
       "order": null,
       "overflow": null,
       "overflow_x": null,
       "overflow_y": null,
       "padding": null,
       "right": null,
       "top": null,
       "visibility": null,
       "width": null
      }
     },
     "327b09daba3143bc870b80bee963f7da": {
      "model_module": "@jupyter-widgets/controls",
      "model_module_version": "1.5.0",
      "model_name": "HBoxModel",
      "state": {
       "_dom_classes": [],
       "_model_module": "@jupyter-widgets/controls",
       "_model_module_version": "1.5.0",
       "_model_name": "HBoxModel",
       "_view_count": null,
       "_view_module": "@jupyter-widgets/controls",
       "_view_module_version": "1.5.0",
       "_view_name": "HBoxView",
       "box_style": "",
       "children": [
        "IPY_MODEL_b1b18edd2cf84c319f83a01bc53cdce5",
        "IPY_MODEL_693bd17c25404bc3814f31f0bc9fe6ac",
        "IPY_MODEL_5937f2485a2a4d8d9fcd4e5cd14a0e59"
       ],
       "layout": "IPY_MODEL_06cbf58cb33f4bdabc0fa0930fb3a9d3"
      }
     },
     "337f47764cec419a81943062e65f0cc0": {
      "model_module": "@jupyter-widgets/controls",
      "model_module_version": "1.5.0",
      "model_name": "DescriptionStyleModel",
      "state": {
       "_model_module": "@jupyter-widgets/controls",
       "_model_module_version": "1.5.0",
       "_model_name": "DescriptionStyleModel",
       "_view_count": null,
       "_view_module": "@jupyter-widgets/base",
       "_view_module_version": "1.2.0",
       "_view_name": "StyleView",
       "description_width": ""
      }
     },
     "345683aadbbf424f9d8a9ffb85019684": {
      "model_module": "@jupyter-widgets/controls",
      "model_module_version": "1.5.0",
      "model_name": "HTMLModel",
      "state": {
       "_dom_classes": [],
       "_model_module": "@jupyter-widgets/controls",
       "_model_module_version": "1.5.0",
       "_model_name": "HTMLModel",
       "_view_count": null,
       "_view_module": "@jupyter-widgets/controls",
       "_view_module_version": "1.5.0",
       "_view_name": "HTMLView",
       "description": "",
       "description_tooltip": null,
       "layout": "IPY_MODEL_fc35d2b60e4843418ae84e25ec9ea6a3",
       "placeholder": "​",
       "style": "IPY_MODEL_75438e1cac6b4966a96b19c702a21903",
       "value": " 151M/151M [00:00&lt;00:00, 234MB/s]"
      }
     },
     "38099983483344748f4616d81e62a2db": {
      "model_module": "@jupyter-widgets/controls",
      "model_module_version": "1.5.0",
      "model_name": "FloatProgressModel",
      "state": {
       "_dom_classes": [],
       "_model_module": "@jupyter-widgets/controls",
       "_model_module_version": "1.5.0",
       "_model_name": "FloatProgressModel",
       "_view_count": null,
       "_view_module": "@jupyter-widgets/controls",
       "_view_module_version": "1.5.0",
       "_view_name": "ProgressView",
       "bar_style": "success",
       "description": "",
       "description_tooltip": null,
       "layout": "IPY_MODEL_a933b05d71c74099996deebf17d7627e",
       "max": 798156.0,
       "min": 0.0,
       "orientation": "horizontal",
       "style": "IPY_MODEL_08e9ab34130f42988f5b5df2fafa9960",
       "value": 798156.0
      }
     },
     "38dbff51e13d4691989cc4a39b86dee6": {
      "model_module": "@jupyter-widgets/controls",
      "model_module_version": "1.5.0",
      "model_name": "DescriptionStyleModel",
      "state": {
       "_model_module": "@jupyter-widgets/controls",
       "_model_module_version": "1.5.0",
       "_model_name": "DescriptionStyleModel",
       "_view_count": null,
       "_view_module": "@jupyter-widgets/base",
       "_view_module_version": "1.2.0",
       "_view_name": "StyleView",
       "description_width": ""
      }
     },
     "39fa2be18de948e2a4cc54751ecbd390": {
      "model_module": "@jupyter-widgets/base",
      "model_module_version": "1.2.0",
      "model_name": "LayoutModel",
      "state": {
       "_model_module": "@jupyter-widgets/base",
       "_model_module_version": "1.2.0",
       "_model_name": "LayoutModel",
       "_view_count": null,
       "_view_module": "@jupyter-widgets/base",
       "_view_module_version": "1.2.0",
       "_view_name": "LayoutView",
       "align_content": null,
       "align_items": null,
       "align_self": null,
       "border": null,
       "bottom": null,
       "display": null,
       "flex": null,
       "flex_flow": null,
       "grid_area": null,
       "grid_auto_columns": null,
       "grid_auto_flow": null,
       "grid_auto_rows": null,
       "grid_column": null,
       "grid_gap": null,
       "grid_row": null,
       "grid_template_areas": null,
       "grid_template_columns": null,
       "grid_template_rows": null,
       "height": null,
       "justify_content": null,
       "justify_items": null,
       "left": null,
       "margin": null,
       "max_height": null,
       "max_width": null,
       "min_height": null,
       "min_width": null,
       "object_fit": null,
       "object_position": null,
       "order": null,
       "overflow": null,
       "overflow_x": null,
       "overflow_y": null,
       "padding": null,
       "right": null,
       "top": null,
       "visibility": null,
       "width": null
      }
     },
     "3bffc3b3256943998ed431a1c5f8c94c": {
      "model_module": "@jupyter-widgets/controls",
      "model_module_version": "1.5.0",
      "model_name": "DescriptionStyleModel",
      "state": {
       "_model_module": "@jupyter-widgets/controls",
       "_model_module_version": "1.5.0",
       "_model_name": "DescriptionStyleModel",
       "_view_count": null,
       "_view_module": "@jupyter-widgets/base",
       "_view_module_version": "1.2.0",
       "_view_name": "StyleView",
       "description_width": ""
      }
     },
     "3fa9548c96da4d54bcb48405ae0c648d": {
      "model_module": "@jupyter-widgets/controls",
      "model_module_version": "1.5.0",
      "model_name": "HBoxModel",
      "state": {
       "_dom_classes": [],
       "_model_module": "@jupyter-widgets/controls",
       "_model_module_version": "1.5.0",
       "_model_name": "HBoxModel",
       "_view_count": null,
       "_view_module": "@jupyter-widgets/controls",
       "_view_module_version": "1.5.0",
       "_view_name": "HBoxView",
       "box_style": "",
       "children": [
        "IPY_MODEL_505d772763f64e8b8e0adb5aae63985d",
        "IPY_MODEL_778abeb052ca4c068597e1b3662cf89d",
        "IPY_MODEL_a153150c63744478ac13451150dc8382"
       ],
       "layout": "IPY_MODEL_19efe04e665b422f98e186c6afdfb153"
      }
     },
     "3fc93480167d4fd8ac2f6ddf2a7eb973": {
      "model_module": "@jupyter-widgets/base",
      "model_module_version": "1.2.0",
      "model_name": "LayoutModel",
      "state": {
       "_model_module": "@jupyter-widgets/base",
       "_model_module_version": "1.2.0",
       "_model_name": "LayoutModel",
       "_view_count": null,
       "_view_module": "@jupyter-widgets/base",
       "_view_module_version": "1.2.0",
       "_view_name": "LayoutView",
       "align_content": null,
       "align_items": null,
       "align_self": null,
       "border": null,
       "bottom": null,
       "display": null,
       "flex": null,
       "flex_flow": null,
       "grid_area": null,
       "grid_auto_columns": null,
       "grid_auto_flow": null,
       "grid_auto_rows": null,
       "grid_column": null,
       "grid_gap": null,
       "grid_row": null,
       "grid_template_areas": null,
       "grid_template_columns": null,
       "grid_template_rows": null,
       "height": null,
       "justify_content": null,
       "justify_items": null,
       "left": null,
       "margin": null,
       "max_height": null,
       "max_width": null,
       "min_height": null,
       "min_width": null,
       "object_fit": null,
       "object_position": null,
       "order": null,
       "overflow": null,
       "overflow_x": null,
       "overflow_y": null,
       "padding": null,
       "right": null,
       "top": null,
       "visibility": null,
       "width": null
      }
     },
     "489533b4797d4105ae052bba99bd0206": {
      "model_module": "@jupyter-widgets/controls",
      "model_module_version": "1.5.0",
      "model_name": "HTMLModel",
      "state": {
       "_dom_classes": [],
       "_model_module": "@jupyter-widgets/controls",
       "_model_module_version": "1.5.0",
       "_model_name": "HTMLModel",
       "_view_count": null,
       "_view_module": "@jupyter-widgets/controls",
       "_view_module_version": "1.5.0",
       "_view_name": "HTMLView",
       "description": "",
       "description_tooltip": null,
       "layout": "IPY_MODEL_7bbc71c5180d4f64b26f1e2ffb741868",
       "placeholder": "​",
       "style": "IPY_MODEL_b549615b6bdc494287d5c58035d95aba",
       "value": "special_tokens_map.json: 100%"
      }
     },
     "4b8cbf989ffe4a00bfdac4acd9767c9a": {
      "model_module": "@jupyter-widgets/controls",
      "model_module_version": "1.5.0",
      "model_name": "ProgressStyleModel",
      "state": {
       "_model_module": "@jupyter-widgets/controls",
       "_model_module_version": "1.5.0",
       "_model_name": "ProgressStyleModel",
       "_view_count": null,
       "_view_module": "@jupyter-widgets/base",
       "_view_module_version": "1.2.0",
       "_view_name": "StyleView",
       "bar_color": null,
       "description_width": ""
      }
     },
     "4d053ab1bed649fd938e26ea2ac3f869": {
      "model_module": "@jupyter-widgets/controls",
      "model_module_version": "1.5.0",
      "model_name": "HBoxModel",
      "state": {
       "_dom_classes": [],
       "_model_module": "@jupyter-widgets/controls",
       "_model_module_version": "1.5.0",
       "_model_name": "HBoxModel",
       "_view_count": null,
       "_view_module": "@jupyter-widgets/controls",
       "_view_module_version": "1.5.0",
       "_view_name": "HBoxView",
       "box_style": "",
       "children": [
        "IPY_MODEL_859c6f86552548a2860ffaad15ba7da0",
        "IPY_MODEL_6a2b7c20b5a340cdb60c18f72510fbd5",
        "IPY_MODEL_f3f0b420e9404199947a2bdd83ce255c"
       ],
       "layout": "IPY_MODEL_e4d27b8f4d7842d0b165c1fefb0f3955"
      }
     },
     "4d9efb6239484bd2927bcf2f01e3b1ba": {
      "model_module": "@jupyter-widgets/base",
      "model_module_version": "1.2.0",
      "model_name": "LayoutModel",
      "state": {
       "_model_module": "@jupyter-widgets/base",
       "_model_module_version": "1.2.0",
       "_model_name": "LayoutModel",
       "_view_count": null,
       "_view_module": "@jupyter-widgets/base",
       "_view_module_version": "1.2.0",
       "_view_name": "LayoutView",
       "align_content": null,
       "align_items": null,
       "align_self": null,
       "border": null,
       "bottom": null,
       "display": null,
       "flex": null,
       "flex_flow": null,
       "grid_area": null,
       "grid_auto_columns": null,
       "grid_auto_flow": null,
       "grid_auto_rows": null,
       "grid_column": null,
       "grid_gap": null,
       "grid_row": null,
       "grid_template_areas": null,
       "grid_template_columns": null,
       "grid_template_rows": null,
       "height": null,
       "justify_content": null,
       "justify_items": null,
       "left": null,
       "margin": null,
       "max_height": null,
       "max_width": null,
       "min_height": null,
       "min_width": null,
       "object_fit": null,
       "object_position": null,
       "order": null,
       "overflow": null,
       "overflow_x": null,
       "overflow_y": null,
       "padding": null,
       "right": null,
       "top": null,
       "visibility": null,
       "width": null
      }
     },
     "4e194cd462254d37b290024966a99efd": {
      "model_module": "@jupyter-widgets/base",
      "model_module_version": "1.2.0",
      "model_name": "LayoutModel",
      "state": {
       "_model_module": "@jupyter-widgets/base",
       "_model_module_version": "1.2.0",
       "_model_name": "LayoutModel",
       "_view_count": null,
       "_view_module": "@jupyter-widgets/base",
       "_view_module_version": "1.2.0",
       "_view_name": "LayoutView",
       "align_content": null,
       "align_items": null,
       "align_self": null,
       "border": null,
       "bottom": null,
       "display": null,
       "flex": null,
       "flex_flow": null,
       "grid_area": null,
       "grid_auto_columns": null,
       "grid_auto_flow": null,
       "grid_auto_rows": null,
       "grid_column": null,
       "grid_gap": null,
       "grid_row": null,
       "grid_template_areas": null,
       "grid_template_columns": null,
       "grid_template_rows": null,
       "height": null,
       "justify_content": null,
       "justify_items": null,
       "left": null,
       "margin": null,
       "max_height": null,
       "max_width": null,
       "min_height": null,
       "min_width": null,
       "object_fit": null,
       "object_position": null,
       "order": null,
       "overflow": null,
       "overflow_x": null,
       "overflow_y": null,
       "padding": null,
       "right": null,
       "top": null,
       "visibility": null,
       "width": null
      }
     },
     "505d772763f64e8b8e0adb5aae63985d": {
      "model_module": "@jupyter-widgets/controls",
      "model_module_version": "1.5.0",
      "model_name": "HTMLModel",
      "state": {
       "_dom_classes": [],
       "_model_module": "@jupyter-widgets/controls",
       "_model_module_version": "1.5.0",
       "_model_name": "HTMLModel",
       "_view_count": null,
       "_view_module": "@jupyter-widgets/controls",
       "_view_module_version": "1.5.0",
       "_view_name": "HTMLView",
       "description": "",
       "description_tooltip": null,
       "layout": "IPY_MODEL_2914523c5124446984a44501738546b2",
       "placeholder": "​",
       "style": "IPY_MODEL_693fe128b8b44692a20acd88f41258d8",
       "value": "added_tokens.json: 100%"
      }
     },
     "52b933984f0d4ac5afcb689b86806e78": {
      "model_module": "@jupyter-widgets/base",
      "model_module_version": "1.2.0",
      "model_name": "LayoutModel",
      "state": {
       "_model_module": "@jupyter-widgets/base",
       "_model_module_version": "1.2.0",
       "_model_name": "LayoutModel",
       "_view_count": null,
       "_view_module": "@jupyter-widgets/base",
       "_view_module_version": "1.2.0",
       "_view_name": "LayoutView",
       "align_content": null,
       "align_items": null,
       "align_self": null,
       "border": null,
       "bottom": null,
       "display": null,
       "flex": null,
       "flex_flow": null,
       "grid_area": null,
       "grid_auto_columns": null,
       "grid_auto_flow": null,
       "grid_auto_rows": null,
       "grid_column": null,
       "grid_gap": null,
       "grid_row": null,
       "grid_template_areas": null,
       "grid_template_columns": null,
       "grid_template_rows": null,
       "height": null,
       "justify_content": null,
       "justify_items": null,
       "left": null,
       "margin": null,
       "max_height": null,
       "max_width": null,
       "min_height": null,
       "min_width": null,
       "object_fit": null,
       "object_position": null,
       "order": null,
       "overflow": null,
       "overflow_x": null,
       "overflow_y": null,
       "padding": null,
       "right": null,
       "top": null,
       "visibility": null,
       "width": null
      }
     },
     "53252fe635cf4fcdad54dda6be5939e7": {
      "model_module": "@jupyter-widgets/controls",
      "model_module_version": "1.5.0",
      "model_name": "DescriptionStyleModel",
      "state": {
       "_model_module": "@jupyter-widgets/controls",
       "_model_module_version": "1.5.0",
       "_model_name": "DescriptionStyleModel",
       "_view_count": null,
       "_view_module": "@jupyter-widgets/base",
       "_view_module_version": "1.2.0",
       "_view_name": "StyleView",
       "description_width": ""
      }
     },
     "57af7298a0094a8781d26ee0d237787e": {
      "model_module": "@jupyter-widgets/controls",
      "model_module_version": "1.5.0",
      "model_name": "ProgressStyleModel",
      "state": {
       "_model_module": "@jupyter-widgets/controls",
       "_model_module_version": "1.5.0",
       "_model_name": "ProgressStyleModel",
       "_view_count": null,
       "_view_module": "@jupyter-widgets/base",
       "_view_module_version": "1.2.0",
       "_view_name": "StyleView",
       "bar_color": null,
       "description_width": ""
      }
     },
     "5937f2485a2a4d8d9fcd4e5cd14a0e59": {
      "model_module": "@jupyter-widgets/controls",
      "model_module_version": "1.5.0",
      "model_name": "HTMLModel",
      "state": {
       "_dom_classes": [],
       "_model_module": "@jupyter-widgets/controls",
       "_model_module_version": "1.5.0",
       "_model_name": "HTMLModel",
       "_view_count": null,
       "_view_module": "@jupyter-widgets/controls",
       "_view_module_version": "1.5.0",
       "_view_name": "HTMLView",
       "description": "",
       "description_tooltip": null,
       "layout": "IPY_MODEL_b02effed5db74309b466a2bf60d5fddb",
       "placeholder": "​",
       "style": "IPY_MODEL_83e6014f55394b4b802856d88e655024",
       "value": " 805/805 [00:00&lt;00:00, 86.4kB/s]"
      }
     },
     "5ba5bca9475443b9ac0ef6bd50749c03": {
      "model_module": "@jupyter-widgets/controls",
      "model_module_version": "1.5.0",
      "model_name": "DescriptionStyleModel",
      "state": {
       "_model_module": "@jupyter-widgets/controls",
       "_model_module_version": "1.5.0",
       "_model_name": "DescriptionStyleModel",
       "_view_count": null,
       "_view_module": "@jupyter-widgets/base",
       "_view_module_version": "1.2.0",
       "_view_name": "StyleView",
       "description_width": ""
      }
     },
     "5c58d964fcab47c481575340cb89add2": {
      "model_module": "@jupyter-widgets/base",
      "model_module_version": "1.2.0",
      "model_name": "LayoutModel",
      "state": {
       "_model_module": "@jupyter-widgets/base",
       "_model_module_version": "1.2.0",
       "_model_name": "LayoutModel",
       "_view_count": null,
       "_view_module": "@jupyter-widgets/base",
       "_view_module_version": "1.2.0",
       "_view_name": "LayoutView",
       "align_content": null,
       "align_items": null,
       "align_self": null,
       "border": null,
       "bottom": null,
       "display": null,
       "flex": null,
       "flex_flow": null,
       "grid_area": null,
       "grid_auto_columns": null,
       "grid_auto_flow": null,
       "grid_auto_rows": null,
       "grid_column": null,
       "grid_gap": null,
       "grid_row": null,
       "grid_template_areas": null,
       "grid_template_columns": null,
       "grid_template_rows": null,
       "height": null,
       "justify_content": null,
       "justify_items": null,
       "left": null,
       "margin": null,
       "max_height": null,
       "max_width": null,
       "min_height": null,
       "min_width": null,
       "object_fit": null,
       "object_position": null,
       "order": null,
       "overflow": null,
       "overflow_x": null,
       "overflow_y": null,
       "padding": null,
       "right": null,
       "top": null,
       "visibility": null,
       "width": null
      }
     },
     "63f0060956774070b0a8272094bc4d5a": {
      "model_module": "@jupyter-widgets/base",
      "model_module_version": "1.2.0",
      "model_name": "LayoutModel",
      "state": {
       "_model_module": "@jupyter-widgets/base",
       "_model_module_version": "1.2.0",
       "_model_name": "LayoutModel",
       "_view_count": null,
       "_view_module": "@jupyter-widgets/base",
       "_view_module_version": "1.2.0",
       "_view_name": "LayoutView",
       "align_content": null,
       "align_items": null,
       "align_self": null,
       "border": null,
       "bottom": null,
       "display": null,
       "flex": null,
       "flex_flow": null,
       "grid_area": null,
       "grid_auto_columns": null,
       "grid_auto_flow": null,
       "grid_auto_rows": null,
       "grid_column": null,
       "grid_gap": null,
       "grid_row": null,
       "grid_template_areas": null,
       "grid_template_columns": null,
       "grid_template_rows": null,
       "height": null,
       "justify_content": null,
       "justify_items": null,
       "left": null,
       "margin": null,
       "max_height": null,
       "max_width": null,
       "min_height": null,
       "min_width": null,
       "object_fit": null,
       "object_position": null,
       "order": null,
       "overflow": null,
       "overflow_x": null,
       "overflow_y": null,
       "padding": null,
       "right": null,
       "top": null,
       "visibility": null,
       "width": null
      }
     },
     "68e555907fc04361976a85e35666a926": {
      "model_module": "@jupyter-widgets/controls",
      "model_module_version": "1.5.0",
      "model_name": "HBoxModel",
      "state": {
       "_dom_classes": [],
       "_model_module": "@jupyter-widgets/controls",
       "_model_module_version": "1.5.0",
       "_model_name": "HBoxModel",
       "_view_count": null,
       "_view_module": "@jupyter-widgets/controls",
       "_view_module_version": "1.5.0",
       "_view_name": "HBoxView",
       "box_style": "",
       "children": [
        "IPY_MODEL_8f95eced798b434b837454b44f73e566",
        "IPY_MODEL_10274ceee90f46e4bf46fac6edaf7942",
        "IPY_MODEL_03038befe6a24b4184256d0742833fa9"
       ],
       "layout": "IPY_MODEL_f0fb56c0091f48229a98d8f7593d8d05"
      }
     },
     "693bd17c25404bc3814f31f0bc9fe6ac": {
      "model_module": "@jupyter-widgets/controls",
      "model_module_version": "1.5.0",
      "model_name": "FloatProgressModel",
      "state": {
       "_dom_classes": [],
       "_model_module": "@jupyter-widgets/controls",
       "_model_module_version": "1.5.0",
       "_model_name": "FloatProgressModel",
       "_view_count": null,
       "_view_module": "@jupyter-widgets/controls",
       "_view_module_version": "1.5.0",
       "_view_name": "ProgressView",
       "bar_style": "success",
       "description": "",
       "description_tooltip": null,
       "layout": "IPY_MODEL_b8cd9ee6d44742ef96cb5a62e9d7d5de",
       "max": 805.0,
       "min": 0.0,
       "orientation": "horizontal",
       "style": "IPY_MODEL_e91baf41b7cd46839bb42455e14579f0",
       "value": 805.0
      }
     },
     "693fe128b8b44692a20acd88f41258d8": {
      "model_module": "@jupyter-widgets/controls",
      "model_module_version": "1.5.0",
      "model_name": "DescriptionStyleModel",
      "state": {
       "_model_module": "@jupyter-widgets/controls",
       "_model_module_version": "1.5.0",
       "_model_name": "DescriptionStyleModel",
       "_view_count": null,
       "_view_module": "@jupyter-widgets/base",
       "_view_module_version": "1.2.0",
       "_view_name": "StyleView",
       "description_width": ""
      }
     },
     "6a136aa19e67473fb41ce3b8d33f61d0": {
      "model_module": "@jupyter-widgets/controls",
      "model_module_version": "1.5.0",
      "model_name": "FloatProgressModel",
      "state": {
       "_dom_classes": [],
       "_model_module": "@jupyter-widgets/controls",
       "_model_module_version": "1.5.0",
       "_model_name": "FloatProgressModel",
       "_view_count": null,
       "_view_module": "@jupyter-widgets/controls",
       "_view_module_version": "1.5.0",
       "_view_name": "ProgressView",
       "bar_style": "success",
       "description": "",
       "description_tooltip": null,
       "layout": "IPY_MODEL_52b933984f0d4ac5afcb689b86806e78",
       "max": 52666.0,
       "min": 0.0,
       "orientation": "horizontal",
       "style": "IPY_MODEL_d4be3fcd2e2f4e9eb65d54036939cce5",
       "value": 52666.0
      }
     },
     "6a2b7c20b5a340cdb60c18f72510fbd5": {
      "model_module": "@jupyter-widgets/controls",
      "model_module_version": "1.5.0",
      "model_name": "FloatProgressModel",
      "state": {
       "_dom_classes": [],
       "_model_module": "@jupyter-widgets/controls",
       "_model_module_version": "1.5.0",
       "_model_name": "FloatProgressModel",
       "_view_count": null,
       "_view_module": "@jupyter-widgets/controls",
       "_view_module_version": "1.5.0",
       "_view_name": "ProgressView",
       "bar_style": "success",
       "description": "",
       "description_tooltip": null,
       "layout": "IPY_MODEL_af6566d1f61b49dea42d90e799ce27c1",
       "max": 184990.0,
       "min": 0.0,
       "orientation": "horizontal",
       "style": "IPY_MODEL_816388588bd744b7990aaab7c819c068",
       "value": 184990.0
      }
     },
     "6e74cace1a4344bd9f005cec47a9391e": {
      "model_module": "@jupyter-widgets/base",
      "model_module_version": "1.2.0",
      "model_name": "LayoutModel",
      "state": {
       "_model_module": "@jupyter-widgets/base",
       "_model_module_version": "1.2.0",
       "_model_name": "LayoutModel",
       "_view_count": null,
       "_view_module": "@jupyter-widgets/base",
       "_view_module_version": "1.2.0",
       "_view_name": "LayoutView",
       "align_content": null,
       "align_items": null,
       "align_self": null,
       "border": null,
       "bottom": null,
       "display": null,
       "flex": null,
       "flex_flow": null,
       "grid_area": null,
       "grid_auto_columns": null,
       "grid_auto_flow": null,
       "grid_auto_rows": null,
       "grid_column": null,
       "grid_gap": null,
       "grid_row": null,
       "grid_template_areas": null,
       "grid_template_columns": null,
       "grid_template_rows": null,
       "height": null,
       "justify_content": null,
       "justify_items": null,
       "left": null,
       "margin": null,
       "max_height": null,
       "max_width": null,
       "min_height": null,
       "min_width": null,
       "object_fit": null,
       "object_position": null,
       "order": null,
       "overflow": null,
       "overflow_x": null,
       "overflow_y": null,
       "padding": null,
       "right": null,
       "top": null,
       "visibility": null,
       "width": null
      }
     },
     "75438e1cac6b4966a96b19c702a21903": {
      "model_module": "@jupyter-widgets/controls",
      "model_module_version": "1.5.0",
      "model_name": "DescriptionStyleModel",
      "state": {
       "_model_module": "@jupyter-widgets/controls",
       "_model_module_version": "1.5.0",
       "_model_name": "DescriptionStyleModel",
       "_view_count": null,
       "_view_module": "@jupyter-widgets/base",
       "_view_module_version": "1.2.0",
       "_view_name": "StyleView",
       "description_width": ""
      }
     },
     "778abeb052ca4c068597e1b3662cf89d": {
      "model_module": "@jupyter-widgets/controls",
      "model_module_version": "1.5.0",
      "model_name": "FloatProgressModel",
      "state": {
       "_dom_classes": [],
       "_model_module": "@jupyter-widgets/controls",
       "_model_module_version": "1.5.0",
       "_model_name": "FloatProgressModel",
       "_view_count": null,
       "_view_module": "@jupyter-widgets/controls",
       "_view_module_version": "1.5.0",
       "_view_name": "ProgressView",
       "bar_style": "success",
       "description": "",
       "description_tooltip": null,
       "layout": "IPY_MODEL_90a961118030421d989c69ddaf2af3f3",
       "max": 34604.0,
       "min": 0.0,
       "orientation": "horizontal",
       "style": "IPY_MODEL_dc78eeaf7dda453a97510df14abb268c",
       "value": 34604.0
      }
     },
     "78468981cb3342dabda4e3f42e1a649f": {
      "model_module": "@jupyter-widgets/controls",
      "model_module_version": "1.5.0",
      "model_name": "HBoxModel",
      "state": {
       "_dom_classes": [],
       "_model_module": "@jupyter-widgets/controls",
       "_model_module_version": "1.5.0",
       "_model_name": "HBoxModel",
       "_view_count": null,
       "_view_module": "@jupyter-widgets/controls",
       "_view_module_version": "1.5.0",
       "_view_name": "HBoxView",
       "box_style": "",
       "children": [
        "IPY_MODEL_0ab6848b22d644daa55842b81d77169c",
        "IPY_MODEL_9157deeadd414d89a071274236584caf",
        "IPY_MODEL_1d30ee1b338846e1ace577386065a5f3"
       ],
       "layout": "IPY_MODEL_1ee2be57882c40e1b76100ea45955642"
      }
     },
     "78a52c5acb7b4e09b4ac8db91b29d7ce": {
      "model_module": "@jupyter-widgets/controls",
      "model_module_version": "1.5.0",
      "model_name": "FloatProgressModel",
      "state": {
       "_dom_classes": [],
       "_model_module": "@jupyter-widgets/controls",
       "_model_module_version": "1.5.0",
       "_model_name": "FloatProgressModel",
       "_view_count": null,
       "_view_module": "@jupyter-widgets/controls",
       "_view_module_version": "1.5.0",
       "_view_name": "ProgressView",
       "bar_style": "success",
       "description": "",
       "description_tooltip": null,
       "layout": "IPY_MODEL_0fc869da69224111b4463da8b3e2f521",
       "max": 2405679.0,
       "min": 0.0,
       "orientation": "horizontal",
       "style": "IPY_MODEL_57af7298a0094a8781d26ee0d237787e",
       "value": 2405679.0
      }
     },
     "7918891c5ef64e79a10978c22d7283c0": {
      "model_module": "@jupyter-widgets/controls",
      "model_module_version": "1.5.0",
      "model_name": "ProgressStyleModel",
      "state": {
       "_model_module": "@jupyter-widgets/controls",
       "_model_module_version": "1.5.0",
       "_model_name": "ProgressStyleModel",
       "_view_count": null,
       "_view_module": "@jupyter-widgets/base",
       "_view_module_version": "1.2.0",
       "_view_name": "StyleView",
       "bar_color": null,
       "description_width": ""
      }
     },
     "7a5ec2d8b7bb499abca3f32d667c11af": {
      "model_module": "@jupyter-widgets/base",
      "model_module_version": "1.2.0",
      "model_name": "LayoutModel",
      "state": {
       "_model_module": "@jupyter-widgets/base",
       "_model_module_version": "1.2.0",
       "_model_name": "LayoutModel",
       "_view_count": null,
       "_view_module": "@jupyter-widgets/base",
       "_view_module_version": "1.2.0",
       "_view_name": "LayoutView",
       "align_content": null,
       "align_items": null,
       "align_self": null,
       "border": null,
       "bottom": null,
       "display": null,
       "flex": null,
       "flex_flow": null,
       "grid_area": null,
       "grid_auto_columns": null,
       "grid_auto_flow": null,
       "grid_auto_rows": null,
       "grid_column": null,
       "grid_gap": null,
       "grid_row": null,
       "grid_template_areas": null,
       "grid_template_columns": null,
       "grid_template_rows": null,
       "height": null,
       "justify_content": null,
       "justify_items": null,
       "left": null,
       "margin": null,
       "max_height": null,
       "max_width": null,
       "min_height": null,
       "min_width": null,
       "object_fit": null,
       "object_position": null,
       "order": null,
       "overflow": null,
       "overflow_x": null,
       "overflow_y": null,
       "padding": null,
       "right": null,
       "top": null,
       "visibility": null,
       "width": null
      }
     },
     "7ab038a70a754c68984b5f2216aa0a2b": {
      "model_module": "@jupyter-widgets/base",
      "model_module_version": "1.2.0",
      "model_name": "LayoutModel",
      "state": {
       "_model_module": "@jupyter-widgets/base",
       "_model_module_version": "1.2.0",
       "_model_name": "LayoutModel",
       "_view_count": null,
       "_view_module": "@jupyter-widgets/base",
       "_view_module_version": "1.2.0",
       "_view_name": "LayoutView",
       "align_content": null,
       "align_items": null,
       "align_self": null,
       "border": null,
       "bottom": null,
       "display": null,
       "flex": null,
       "flex_flow": null,
       "grid_area": null,
       "grid_auto_columns": null,
       "grid_auto_flow": null,
       "grid_auto_rows": null,
       "grid_column": null,
       "grid_gap": null,
       "grid_row": null,
       "grid_template_areas": null,
       "grid_template_columns": null,
       "grid_template_rows": null,
       "height": null,
       "justify_content": null,
       "justify_items": null,
       "left": null,
       "margin": null,
       "max_height": null,
       "max_width": null,
       "min_height": null,
       "min_width": null,
       "object_fit": null,
       "object_position": null,
       "order": null,
       "overflow": null,
       "overflow_x": null,
       "overflow_y": null,
       "padding": null,
       "right": null,
       "top": null,
       "visibility": null,
       "width": null
      }
     },
     "7bbc71c5180d4f64b26f1e2ffb741868": {
      "model_module": "@jupyter-widgets/base",
      "model_module_version": "1.2.0",
      "model_name": "LayoutModel",
      "state": {
       "_model_module": "@jupyter-widgets/base",
       "_model_module_version": "1.2.0",
       "_model_name": "LayoutModel",
       "_view_count": null,
       "_view_module": "@jupyter-widgets/base",
       "_view_module_version": "1.2.0",
       "_view_name": "LayoutView",
       "align_content": null,
       "align_items": null,
       "align_self": null,
       "border": null,
       "bottom": null,
       "display": null,
       "flex": null,
       "flex_flow": null,
       "grid_area": null,
       "grid_auto_columns": null,
       "grid_auto_flow": null,
       "grid_auto_rows": null,
       "grid_column": null,
       "grid_gap": null,
       "grid_row": null,
       "grid_template_areas": null,
       "grid_template_columns": null,
       "grid_template_rows": null,
       "height": null,
       "justify_content": null,
       "justify_items": null,
       "left": null,
       "margin": null,
       "max_height": null,
       "max_width": null,
       "min_height": null,
       "min_width": null,
       "object_fit": null,
       "object_position": null,
       "order": null,
       "overflow": null,
       "overflow_x": null,
       "overflow_y": null,
       "padding": null,
       "right": null,
       "top": null,
       "visibility": null,
       "width": null
      }
     },
     "7fcf2e6e5e6f4c3d946095d842f02643": {
      "model_module": "@jupyter-widgets/controls",
      "model_module_version": "1.5.0",
      "model_name": "FloatProgressModel",
      "state": {
       "_dom_classes": [],
       "_model_module": "@jupyter-widgets/controls",
       "_model_module_version": "1.5.0",
       "_model_name": "FloatProgressModel",
       "_view_count": null,
       "_view_module": "@jupyter-widgets/controls",
       "_view_module_version": "1.5.0",
       "_view_name": "ProgressView",
       "bar_style": "success",
       "description": "",
       "description_tooltip": null,
       "layout": "IPY_MODEL_100fd4b88d5e4d4d9763b3958335060a",
       "max": 151060136.0,
       "min": 0.0,
       "orientation": "horizontal",
       "style": "IPY_MODEL_4b8cbf989ffe4a00bfdac4acd9767c9a",
       "value": 151060136.0
      }
     },
     "8014033a95b849fc9b93d23277552b04": {
      "model_module": "@jupyter-widgets/controls",
      "model_module_version": "1.5.0",
      "model_name": "DescriptionStyleModel",
      "state": {
       "_model_module": "@jupyter-widgets/controls",
       "_model_module_version": "1.5.0",
       "_model_name": "DescriptionStyleModel",
       "_view_count": null,
       "_view_module": "@jupyter-widgets/base",
       "_view_module_version": "1.2.0",
       "_view_name": "StyleView",
       "description_width": ""
      }
     },
     "80def8db7fcc47e786b5429f52afa028": {
      "model_module": "@jupyter-widgets/controls",
      "model_module_version": "1.5.0",
      "model_name": "DescriptionStyleModel",
      "state": {
       "_model_module": "@jupyter-widgets/controls",
       "_model_module_version": "1.5.0",
       "_model_name": "DescriptionStyleModel",
       "_view_count": null,
       "_view_module": "@jupyter-widgets/base",
       "_view_module_version": "1.2.0",
       "_view_name": "StyleView",
       "description_width": ""
      }
     },
     "816388588bd744b7990aaab7c819c068": {
      "model_module": "@jupyter-widgets/controls",
      "model_module_version": "1.5.0",
      "model_name": "ProgressStyleModel",
      "state": {
       "_model_module": "@jupyter-widgets/controls",
       "_model_module_version": "1.5.0",
       "_model_name": "ProgressStyleModel",
       "_view_count": null,
       "_view_module": "@jupyter-widgets/base",
       "_view_module_version": "1.2.0",
       "_view_name": "StyleView",
       "bar_color": null,
       "description_width": ""
      }
     },
     "83e6014f55394b4b802856d88e655024": {
      "model_module": "@jupyter-widgets/controls",
      "model_module_version": "1.5.0",
      "model_name": "DescriptionStyleModel",
      "state": {
       "_model_module": "@jupyter-widgets/controls",
       "_model_module_version": "1.5.0",
       "_model_name": "DescriptionStyleModel",
       "_view_count": null,
       "_view_module": "@jupyter-widgets/base",
       "_view_module_version": "1.2.0",
       "_view_name": "StyleView",
       "description_width": ""
      }
     },
     "859c6f86552548a2860ffaad15ba7da0": {
      "model_module": "@jupyter-widgets/controls",
      "model_module_version": "1.5.0",
      "model_name": "HTMLModel",
      "state": {
       "_dom_classes": [],
       "_model_module": "@jupyter-widgets/controls",
       "_model_module_version": "1.5.0",
       "_model_name": "HTMLModel",
       "_view_count": null,
       "_view_module": "@jupyter-widgets/controls",
       "_view_module_version": "1.5.0",
       "_view_name": "HTMLView",
       "description": "",
       "description_tooltip": null,
       "layout": "IPY_MODEL_be4a503baeab4f7a96542504e0edad15",
       "placeholder": "​",
       "style": "IPY_MODEL_5ba5bca9475443b9ac0ef6bd50749c03",
       "value": "preprocessor_config.json: 100%"
      }
     },
     "8986f44196bc4a18892d5d39d00fade0": {
      "model_module": "@jupyter-widgets/controls",
      "model_module_version": "1.5.0",
      "model_name": "DescriptionStyleModel",
      "state": {
       "_model_module": "@jupyter-widgets/controls",
       "_model_module_version": "1.5.0",
       "_model_name": "DescriptionStyleModel",
       "_view_count": null,
       "_view_module": "@jupyter-widgets/base",
       "_view_module_version": "1.2.0",
       "_view_name": "StyleView",
       "description_width": ""
      }
     },
     "89f68b27f17c45d582cc53a2ac7f98a1": {
      "model_module": "@jupyter-widgets/base",
      "model_module_version": "1.2.0",
      "model_name": "LayoutModel",
      "state": {
       "_model_module": "@jupyter-widgets/base",
       "_model_module_version": "1.2.0",
       "_model_name": "LayoutModel",
       "_view_count": null,
       "_view_module": "@jupyter-widgets/base",
       "_view_module_version": "1.2.0",
       "_view_name": "LayoutView",
       "align_content": null,
       "align_items": null,
       "align_self": null,
       "border": null,
       "bottom": null,
       "display": null,
       "flex": null,
       "flex_flow": null,
       "grid_area": null,
       "grid_auto_columns": null,
       "grid_auto_flow": null,
       "grid_auto_rows": null,
       "grid_column": null,
       "grid_gap": null,
       "grid_row": null,
       "grid_template_areas": null,
       "grid_template_columns": null,
       "grid_template_rows": null,
       "height": null,
       "justify_content": null,
       "justify_items": null,
       "left": null,
       "margin": null,
       "max_height": null,
       "max_width": null,
       "min_height": null,
       "min_width": null,
       "object_fit": null,
       "object_position": null,
       "order": null,
       "overflow": null,
       "overflow_x": null,
       "overflow_y": null,
       "padding": null,
       "right": null,
       "top": null,
       "visibility": null,
       "width": null
      }
     },
     "8bc172145ac84b708e0ec14dcd548a8b": {
      "model_module": "@jupyter-widgets/base",
      "model_module_version": "1.2.0",
      "model_name": "LayoutModel",
      "state": {
       "_model_module": "@jupyter-widgets/base",
       "_model_module_version": "1.2.0",
       "_model_name": "LayoutModel",
       "_view_count": null,
       "_view_module": "@jupyter-widgets/base",
       "_view_module_version": "1.2.0",
       "_view_name": "LayoutView",
       "align_content": null,
       "align_items": null,
       "align_self": null,
       "border": null,
       "bottom": null,
       "display": null,
       "flex": null,
       "flex_flow": null,
       "grid_area": null,
       "grid_auto_columns": null,
       "grid_auto_flow": null,
       "grid_auto_rows": null,
       "grid_column": null,
       "grid_gap": null,
       "grid_row": null,
       "grid_template_areas": null,
       "grid_template_columns": null,
       "grid_template_rows": null,
       "height": null,
       "justify_content": null,
       "justify_items": null,
       "left": null,
       "margin": null,
       "max_height": null,
       "max_width": null,
       "min_height": null,
       "min_width": null,
       "object_fit": null,
       "object_position": null,
       "order": null,
       "overflow": null,
       "overflow_x": null,
       "overflow_y": null,
       "padding": null,
       "right": null,
       "top": null,
       "visibility": null,
       "width": null
      }
     },
     "8daf38f1aa9b4715943618db1e5cc757": {
      "model_module": "@jupyter-widgets/base",
      "model_module_version": "1.2.0",
      "model_name": "LayoutModel",
      "state": {
       "_model_module": "@jupyter-widgets/base",
       "_model_module_version": "1.2.0",
       "_model_name": "LayoutModel",
       "_view_count": null,
       "_view_module": "@jupyter-widgets/base",
       "_view_module_version": "1.2.0",
       "_view_name": "LayoutView",
       "align_content": null,
       "align_items": null,
       "align_self": null,
       "border": null,
       "bottom": null,
       "display": null,
       "flex": null,
       "flex_flow": null,
       "grid_area": null,
       "grid_auto_columns": null,
       "grid_auto_flow": null,
       "grid_auto_rows": null,
       "grid_column": null,
       "grid_gap": null,
       "grid_row": null,
       "grid_template_areas": null,
       "grid_template_columns": null,
       "grid_template_rows": null,
       "height": null,
       "justify_content": null,
       "justify_items": null,
       "left": null,
       "margin": null,
       "max_height": null,
       "max_width": null,
       "min_height": null,
       "min_width": null,
       "object_fit": null,
       "object_position": null,
       "order": null,
       "overflow": null,
       "overflow_x": null,
       "overflow_y": null,
       "padding": null,
       "right": null,
       "top": null,
       "visibility": null,
       "width": null
      }
     },
     "8f95eced798b434b837454b44f73e566": {
      "model_module": "@jupyter-widgets/controls",
      "model_module_version": "1.5.0",
      "model_name": "HTMLModel",
      "state": {
       "_dom_classes": [],
       "_model_module": "@jupyter-widgets/controls",
       "_model_module_version": "1.5.0",
       "_model_name": "HTMLModel",
       "_view_count": null,
       "_view_module": "@jupyter-widgets/controls",
       "_view_module_version": "1.5.0",
       "_view_name": "HTMLView",
       "description": "",
       "description_tooltip": null,
       "layout": "IPY_MODEL_39fa2be18de948e2a4cc54751ecbd390",
       "placeholder": "​",
       "style": "IPY_MODEL_1aad2019457546829cb92e2be33be489",
       "value": "generation_config.json: 100%"
      }
     },
     "90a961118030421d989c69ddaf2af3f3": {
      "model_module": "@jupyter-widgets/base",
      "model_module_version": "1.2.0",
      "model_name": "LayoutModel",
      "state": {
       "_model_module": "@jupyter-widgets/base",
       "_model_module_version": "1.2.0",
       "_model_name": "LayoutModel",
       "_view_count": null,
       "_view_module": "@jupyter-widgets/base",
       "_view_module_version": "1.2.0",
       "_view_name": "LayoutView",
       "align_content": null,
       "align_items": null,
       "align_self": null,
       "border": null,
       "bottom": null,
       "display": null,
       "flex": null,
       "flex_flow": null,
       "grid_area": null,
       "grid_auto_columns": null,
       "grid_auto_flow": null,
       "grid_auto_rows": null,
       "grid_column": null,
       "grid_gap": null,
       "grid_row": null,
       "grid_template_areas": null,
       "grid_template_columns": null,
       "grid_template_rows": null,
       "height": null,
       "justify_content": null,
       "justify_items": null,
       "left": null,
       "margin": null,
       "max_height": null,
       "max_width": null,
       "min_height": null,
       "min_width": null,
       "object_fit": null,
       "object_position": null,
       "order": null,
       "overflow": null,
       "overflow_x": null,
       "overflow_y": null,
       "padding": null,
       "right": null,
       "top": null,
       "visibility": null,
       "width": null
      }
     },
     "9157deeadd414d89a071274236584caf": {
      "model_module": "@jupyter-widgets/controls",
      "model_module_version": "1.5.0",
      "model_name": "FloatProgressModel",
      "state": {
       "_dom_classes": [],
       "_model_module": "@jupyter-widgets/controls",
       "_model_module_version": "1.5.0",
       "_model_name": "FloatProgressModel",
       "_view_count": null,
       "_view_module": "@jupyter-widgets/controls",
       "_view_module_version": "1.5.0",
       "_view_name": "ProgressView",
       "bar_style": "success",
       "description": "",
       "description_tooltip": null,
       "layout": "IPY_MODEL_b86c863de2984220adde4ed2e58e2e2a",
       "max": 1937.0,
       "min": 0.0,
       "orientation": "horizontal",
       "style": "IPY_MODEL_ac7bca8d8c9843f785f40879b290cef8",
       "value": 1937.0
      }
     },
     "98aca4823f1f42ddae21b3e9b77777dc": {
      "model_module": "@jupyter-widgets/controls",
      "model_module_version": "1.5.0",
      "model_name": "HTMLModel",
      "state": {
       "_dom_classes": [],
       "_model_module": "@jupyter-widgets/controls",
       "_model_module_version": "1.5.0",
       "_model_name": "HTMLModel",
       "_view_count": null,
       "_view_module": "@jupyter-widgets/controls",
       "_view_module_version": "1.5.0",
       "_view_name": "HTMLView",
       "description": "",
       "description_tooltip": null,
       "layout": "IPY_MODEL_89f68b27f17c45d582cc53a2ac7f98a1",
       "placeholder": "​",
       "style": "IPY_MODEL_1b356bcf361f4a75a40ebeae154c4a1f",
       "value": "tokenizer.json: 100%"
      }
     },
     "9c4113ab6fc6473087f5793d6c44b3da": {
      "model_module": "@jupyter-widgets/controls",
      "model_module_version": "1.5.0",
      "model_name": "DescriptionStyleModel",
      "state": {
       "_model_module": "@jupyter-widgets/controls",
       "_model_module_version": "1.5.0",
       "_model_name": "DescriptionStyleModel",
       "_view_count": null,
       "_view_module": "@jupyter-widgets/base",
       "_view_module_version": "1.2.0",
       "_view_name": "StyleView",
       "description_width": ""
      }
     },
     "9cc06fe52633460ca6e16592a7fb15f9": {
      "model_module": "@jupyter-widgets/controls",
      "model_module_version": "1.5.0",
      "model_name": "ProgressStyleModel",
      "state": {
       "_model_module": "@jupyter-widgets/controls",
       "_model_module_version": "1.5.0",
       "_model_name": "ProgressStyleModel",
       "_view_count": null,
       "_view_module": "@jupyter-widgets/base",
       "_view_module_version": "1.2.0",
       "_view_name": "StyleView",
       "bar_color": null,
       "description_width": ""
      }
     },
     "9d0ec158c1f9487ab0a4470c35ae033b": {
      "model_module": "@jupyter-widgets/controls",
      "model_module_version": "1.5.0",
      "model_name": "DescriptionStyleModel",
      "state": {
       "_model_module": "@jupyter-widgets/controls",
       "_model_module_version": "1.5.0",
       "_model_name": "DescriptionStyleModel",
       "_view_count": null,
       "_view_module": "@jupyter-widgets/base",
       "_view_module_version": "1.2.0",
       "_view_name": "StyleView",
       "description_width": ""
      }
     },
     "a0b25499ec05434aa5b1192d9260c94b": {
      "model_module": "@jupyter-widgets/controls",
      "model_module_version": "1.5.0",
      "model_name": "HBoxModel",
      "state": {
       "_dom_classes": [],
       "_model_module": "@jupyter-widgets/controls",
       "_model_module_version": "1.5.0",
       "_model_name": "HBoxModel",
       "_view_count": null,
       "_view_module": "@jupyter-widgets/controls",
       "_view_module_version": "1.5.0",
       "_view_name": "HBoxView",
       "box_style": "",
       "children": [
        "IPY_MODEL_fefa23af041d49a896b99bfebf5544ba",
        "IPY_MODEL_6a136aa19e67473fb41ce3b8d33f61d0",
        "IPY_MODEL_b7e6793221994bcb9559d0c0f84becbb"
       ],
       "layout": "IPY_MODEL_4e194cd462254d37b290024966a99efd"
      }
     },
     "a153150c63744478ac13451150dc8382": {
      "model_module": "@jupyter-widgets/controls",
      "model_module_version": "1.5.0",
      "model_name": "HTMLModel",
      "state": {
       "_dom_classes": [],
       "_model_module": "@jupyter-widgets/controls",
       "_model_module_version": "1.5.0",
       "_model_name": "HTMLModel",
       "_view_count": null,
       "_view_module": "@jupyter-widgets/controls",
       "_view_module_version": "1.5.0",
       "_view_name": "HTMLView",
       "description": "",
       "description_tooltip": null,
       "layout": "IPY_MODEL_63f0060956774070b0a8272094bc4d5a",
       "placeholder": "​",
       "style": "IPY_MODEL_38dbff51e13d4691989cc4a39b86dee6",
       "value": " 34.6k/34.6k [00:00&lt;00:00, 3.20MB/s]"
      }
     },
     "a3dae87f074a42d391b3311d7e283cd8": {
      "model_module": "@jupyter-widgets/base",
      "model_module_version": "1.2.0",
      "model_name": "LayoutModel",
      "state": {
       "_model_module": "@jupyter-widgets/base",
       "_model_module_version": "1.2.0",
       "_model_name": "LayoutModel",
       "_view_count": null,
       "_view_module": "@jupyter-widgets/base",
       "_view_module_version": "1.2.0",
       "_view_name": "LayoutView",
       "align_content": null,
       "align_items": null,
       "align_self": null,
       "border": null,
       "bottom": null,
       "display": null,
       "flex": null,
       "flex_flow": null,
       "grid_area": null,
       "grid_auto_columns": null,
       "grid_auto_flow": null,
       "grid_auto_rows": null,
       "grid_column": null,
       "grid_gap": null,
       "grid_row": null,
       "grid_template_areas": null,
       "grid_template_columns": null,
       "grid_template_rows": null,
       "height": null,
       "justify_content": null,
       "justify_items": null,
       "left": null,
       "margin": null,
       "max_height": null,
       "max_width": null,
       "min_height": null,
       "min_width": null,
       "object_fit": null,
       "object_position": null,
       "order": null,
       "overflow": null,
       "overflow_x": null,
       "overflow_y": null,
       "padding": null,
       "right": null,
       "top": null,
       "visibility": null,
       "width": null
      }
     },
     "a8091832da7540a7b87bd105762f8d17": {
      "model_module": "@jupyter-widgets/base",
      "model_module_version": "1.2.0",
      "model_name": "LayoutModel",
      "state": {
       "_model_module": "@jupyter-widgets/base",
       "_model_module_version": "1.2.0",
       "_model_name": "LayoutModel",
       "_view_count": null,
       "_view_module": "@jupyter-widgets/base",
       "_view_module_version": "1.2.0",
       "_view_name": "LayoutView",
       "align_content": null,
       "align_items": null,
       "align_self": null,
       "border": null,
       "bottom": null,
       "display": null,
       "flex": null,
       "flex_flow": null,
       "grid_area": null,
       "grid_auto_columns": null,
       "grid_auto_flow": null,
       "grid_auto_rows": null,
       "grid_column": null,
       "grid_gap": null,
       "grid_row": null,
       "grid_template_areas": null,
       "grid_template_columns": null,
       "grid_template_rows": null,
       "height": null,
       "justify_content": null,
       "justify_items": null,
       "left": null,
       "margin": null,
       "max_height": null,
       "max_width": null,
       "min_height": null,
       "min_width": null,
       "object_fit": null,
       "object_position": null,
       "order": null,
       "overflow": null,
       "overflow_x": null,
       "overflow_y": null,
       "padding": null,
       "right": null,
       "top": null,
       "visibility": null,
       "width": null
      }
     },
     "a933b05d71c74099996deebf17d7627e": {
      "model_module": "@jupyter-widgets/base",
      "model_module_version": "1.2.0",
      "model_name": "LayoutModel",
      "state": {
       "_model_module": "@jupyter-widgets/base",
       "_model_module_version": "1.2.0",
       "_model_name": "LayoutModel",
       "_view_count": null,
       "_view_module": "@jupyter-widgets/base",
       "_view_module_version": "1.2.0",
       "_view_name": "LayoutView",
       "align_content": null,
       "align_items": null,
       "align_self": null,
       "border": null,
       "bottom": null,
       "display": null,
       "flex": null,
       "flex_flow": null,
       "grid_area": null,
       "grid_auto_columns": null,
       "grid_auto_flow": null,
       "grid_auto_rows": null,
       "grid_column": null,
       "grid_gap": null,
       "grid_row": null,
       "grid_template_areas": null,
       "grid_template_columns": null,
       "grid_template_rows": null,
       "height": null,
       "justify_content": null,
       "justify_items": null,
       "left": null,
       "margin": null,
       "max_height": null,
       "max_width": null,
       "min_height": null,
       "min_width": null,
       "object_fit": null,
       "object_position": null,
       "order": null,
       "overflow": null,
       "overflow_x": null,
       "overflow_y": null,
       "padding": null,
       "right": null,
       "top": null,
       "visibility": null,
       "width": null
      }
     },
     "a9dcbfdebde446029c10df06d7ad4257": {
      "model_module": "@jupyter-widgets/controls",
      "model_module_version": "1.5.0",
      "model_name": "HTMLModel",
      "state": {
       "_dom_classes": [],
       "_model_module": "@jupyter-widgets/controls",
       "_model_module_version": "1.5.0",
       "_model_name": "HTMLModel",
       "_view_count": null,
       "_view_module": "@jupyter-widgets/controls",
       "_view_module_version": "1.5.0",
       "_view_name": "HTMLView",
       "description": "",
       "description_tooltip": null,
       "layout": "IPY_MODEL_c11236343fa04289bae5a03974d787c5",
       "placeholder": "​",
       "style": "IPY_MODEL_c7752387a89d4463aac625461bb6fe26",
       "value": " 798k/798k [00:00&lt;00:00, 14.5MB/s]"
      }
     },
     "ac3ac13b3da44364a93fc4a1733451a7": {
      "model_module": "@jupyter-widgets/controls",
      "model_module_version": "1.5.0",
      "model_name": "FloatProgressModel",
      "state": {
       "_dom_classes": [],
       "_model_module": "@jupyter-widgets/controls",
       "_model_module_version": "1.5.0",
       "_model_name": "FloatProgressModel",
       "_view_count": null,
       "_view_module": "@jupyter-widgets/controls",
       "_view_module_version": "1.5.0",
       "_view_name": "ProgressView",
       "bar_style": "success",
       "description": "",
       "description_tooltip": null,
       "layout": "IPY_MODEL_2aed6e806b1c4f92a8559a85cf3a23bc",
       "max": 1830.0,
       "min": 0.0,
       "orientation": "horizontal",
       "style": "IPY_MODEL_0a7001385aa84226afc194fdfabd91fd",
       "value": 1830.0
      }
     },
     "ac7bca8d8c9843f785f40879b290cef8": {
      "model_module": "@jupyter-widgets/controls",
      "model_module_version": "1.5.0",
      "model_name": "ProgressStyleModel",
      "state": {
       "_model_module": "@jupyter-widgets/controls",
       "_model_module_version": "1.5.0",
       "_model_name": "ProgressStyleModel",
       "_view_count": null,
       "_view_module": "@jupyter-widgets/base",
       "_view_module_version": "1.2.0",
       "_view_name": "StyleView",
       "bar_color": null,
       "description_width": ""
      }
     },
     "af6566d1f61b49dea42d90e799ce27c1": {
      "model_module": "@jupyter-widgets/base",
      "model_module_version": "1.2.0",
      "model_name": "LayoutModel",
      "state": {
       "_model_module": "@jupyter-widgets/base",
       "_model_module_version": "1.2.0",
       "_model_name": "LayoutModel",
       "_view_count": null,
       "_view_module": "@jupyter-widgets/base",
       "_view_module_version": "1.2.0",
       "_view_name": "LayoutView",
       "align_content": null,
       "align_items": null,
       "align_self": null,
       "border": null,
       "bottom": null,
       "display": null,
       "flex": null,
       "flex_flow": null,
       "grid_area": null,
       "grid_auto_columns": null,
       "grid_auto_flow": null,
       "grid_auto_rows": null,
       "grid_column": null,
       "grid_gap": null,
       "grid_row": null,
       "grid_template_areas": null,
       "grid_template_columns": null,
       "grid_template_rows": null,
       "height": null,
       "justify_content": null,
       "justify_items": null,
       "left": null,
       "margin": null,
       "max_height": null,
       "max_width": null,
       "min_height": null,
       "min_width": null,
       "object_fit": null,
       "object_position": null,
       "order": null,
       "overflow": null,
       "overflow_x": null,
       "overflow_y": null,
       "padding": null,
       "right": null,
       "top": null,
       "visibility": null,
       "width": null
      }
     },
     "b02effed5db74309b466a2bf60d5fddb": {
      "model_module": "@jupyter-widgets/base",
      "model_module_version": "1.2.0",
      "model_name": "LayoutModel",
      "state": {
       "_model_module": "@jupyter-widgets/base",
       "_model_module_version": "1.2.0",
       "_model_name": "LayoutModel",
       "_view_count": null,
       "_view_module": "@jupyter-widgets/base",
       "_view_module_version": "1.2.0",
       "_view_name": "LayoutView",
       "align_content": null,
       "align_items": null,
       "align_self": null,
       "border": null,
       "bottom": null,
       "display": null,
       "flex": null,
       "flex_flow": null,
       "grid_area": null,
       "grid_auto_columns": null,
       "grid_auto_flow": null,
       "grid_auto_rows": null,
       "grid_column": null,
       "grid_gap": null,
       "grid_row": null,
       "grid_template_areas": null,
       "grid_template_columns": null,
       "grid_template_rows": null,
       "height": null,
       "justify_content": null,
       "justify_items": null,
       "left": null,
       "margin": null,
       "max_height": null,
       "max_width": null,
       "min_height": null,
       "min_width": null,
       "object_fit": null,
       "object_position": null,
       "order": null,
       "overflow": null,
       "overflow_x": null,
       "overflow_y": null,
       "padding": null,
       "right": null,
       "top": null,
       "visibility": null,
       "width": null
      }
     },
     "b1b18edd2cf84c319f83a01bc53cdce5": {
      "model_module": "@jupyter-widgets/controls",
      "model_module_version": "1.5.0",
      "model_name": "HTMLModel",
      "state": {
       "_dom_classes": [],
       "_model_module": "@jupyter-widgets/controls",
       "_model_module_version": "1.5.0",
       "_model_name": "HTMLModel",
       "_view_count": null,
       "_view_module": "@jupyter-widgets/controls",
       "_view_module_version": "1.5.0",
       "_view_name": "HTMLView",
       "description": "",
       "description_tooltip": null,
       "layout": "IPY_MODEL_4d9efb6239484bd2927bcf2f01e3b1ba",
       "placeholder": "​",
       "style": "IPY_MODEL_3bffc3b3256943998ed431a1c5f8c94c",
       "value": "tokenizer_config.json: 100%"
      }
     },
     "b1febb52630d46449665c3b609f87fec": {
      "model_module": "@jupyter-widgets/base",
      "model_module_version": "1.2.0",
      "model_name": "LayoutModel",
      "state": {
       "_model_module": "@jupyter-widgets/base",
       "_model_module_version": "1.2.0",
       "_model_name": "LayoutModel",
       "_view_count": null,
       "_view_module": "@jupyter-widgets/base",
       "_view_module_version": "1.2.0",
       "_view_name": "LayoutView",
       "align_content": null,
       "align_items": null,
       "align_self": null,
       "border": null,
       "bottom": null,
       "display": null,
       "flex": null,
       "flex_flow": null,
       "grid_area": null,
       "grid_auto_columns": null,
       "grid_auto_flow": null,
       "grid_auto_rows": null,
       "grid_column": null,
       "grid_gap": null,
       "grid_row": null,
       "grid_template_areas": null,
       "grid_template_columns": null,
       "grid_template_rows": null,
       "height": null,
       "justify_content": null,
       "justify_items": null,
       "left": null,
       "margin": null,
       "max_height": null,
       "max_width": null,
       "min_height": null,
       "min_width": null,
       "object_fit": null,
       "object_position": null,
       "order": null,
       "overflow": null,
       "overflow_x": null,
       "overflow_y": null,
       "padding": null,
       "right": null,
       "top": null,
       "visibility": null,
       "width": null
      }
     },
     "b3581333856c46a8bad0309e0ce10ba0": {
      "model_module": "@jupyter-widgets/controls",
      "model_module_version": "1.5.0",
      "model_name": "HTMLModel",
      "state": {
       "_dom_classes": [],
       "_model_module": "@jupyter-widgets/controls",
       "_model_module_version": "1.5.0",
       "_model_name": "HTMLModel",
       "_view_count": null,
       "_view_module": "@jupyter-widgets/controls",
       "_view_module_version": "1.5.0",
       "_view_name": "HTMLView",
       "description": "",
       "description_tooltip": null,
       "layout": "IPY_MODEL_7ab038a70a754c68984b5f2216aa0a2b",
       "placeholder": "​",
       "style": "IPY_MODEL_22c99654720b409d9204f74607379032",
       "value": "model.safetensors: 100%"
      }
     },
     "b549615b6bdc494287d5c58035d95aba": {
      "model_module": "@jupyter-widgets/controls",
      "model_module_version": "1.5.0",
      "model_name": "DescriptionStyleModel",
      "state": {
       "_model_module": "@jupyter-widgets/controls",
       "_model_module_version": "1.5.0",
       "_model_name": "DescriptionStyleModel",
       "_view_count": null,
       "_view_module": "@jupyter-widgets/base",
       "_view_module_version": "1.2.0",
       "_view_name": "StyleView",
       "description_width": ""
      }
     },
     "b7e6793221994bcb9559d0c0f84becbb": {
      "model_module": "@jupyter-widgets/controls",
      "model_module_version": "1.5.0",
      "model_name": "HTMLModel",
      "state": {
       "_dom_classes": [],
       "_model_module": "@jupyter-widgets/controls",
       "_model_module_version": "1.5.0",
       "_model_name": "HTMLModel",
       "_view_count": null,
       "_view_module": "@jupyter-widgets/controls",
       "_view_module_version": "1.5.0",
       "_view_name": "HTMLView",
       "description": "",
       "description_tooltip": null,
       "layout": "IPY_MODEL_5c58d964fcab47c481575340cb89add2",
       "placeholder": "​",
       "style": "IPY_MODEL_9c4113ab6fc6473087f5793d6c44b3da",
       "value": " 52.7k/52.7k [00:00&lt;00:00, 4.67MB/s]"
      }
     },
     "b86c863de2984220adde4ed2e58e2e2a": {
      "model_module": "@jupyter-widgets/base",
      "model_module_version": "1.2.0",
      "model_name": "LayoutModel",
      "state": {
       "_model_module": "@jupyter-widgets/base",
       "_model_module_version": "1.2.0",
       "_model_name": "LayoutModel",
       "_view_count": null,
       "_view_module": "@jupyter-widgets/base",
       "_view_module_version": "1.2.0",
       "_view_name": "LayoutView",
       "align_content": null,
       "align_items": null,
       "align_self": null,
       "border": null,
       "bottom": null,
       "display": null,
       "flex": null,
       "flex_flow": null,
       "grid_area": null,
       "grid_auto_columns": null,
       "grid_auto_flow": null,
       "grid_auto_rows": null,
       "grid_column": null,
       "grid_gap": null,
       "grid_row": null,
       "grid_template_areas": null,
       "grid_template_columns": null,
       "grid_template_rows": null,
       "height": null,
       "justify_content": null,
       "justify_items": null,
       "left": null,
       "margin": null,
       "max_height": null,
       "max_width": null,
       "min_height": null,
       "min_width": null,
       "object_fit": null,
       "object_position": null,
       "order": null,
       "overflow": null,
       "overflow_x": null,
       "overflow_y": null,
       "padding": null,
       "right": null,
       "top": null,
       "visibility": null,
       "width": null
      }
     },
     "b8cd9ee6d44742ef96cb5a62e9d7d5de": {
      "model_module": "@jupyter-widgets/base",
      "model_module_version": "1.2.0",
      "model_name": "LayoutModel",
      "state": {
       "_model_module": "@jupyter-widgets/base",
       "_model_module_version": "1.2.0",
       "_model_name": "LayoutModel",
       "_view_count": null,
       "_view_module": "@jupyter-widgets/base",
       "_view_module_version": "1.2.0",
       "_view_name": "LayoutView",
       "align_content": null,
       "align_items": null,
       "align_self": null,
       "border": null,
       "bottom": null,
       "display": null,
       "flex": null,
       "flex_flow": null,
       "grid_area": null,
       "grid_auto_columns": null,
       "grid_auto_flow": null,
       "grid_auto_rows": null,
       "grid_column": null,
       "grid_gap": null,
       "grid_row": null,
       "grid_template_areas": null,
       "grid_template_columns": null,
       "grid_template_rows": null,
       "height": null,
       "justify_content": null,
       "justify_items": null,
       "left": null,
       "margin": null,
       "max_height": null,
       "max_width": null,
       "min_height": null,
       "min_width": null,
       "object_fit": null,
       "object_position": null,
       "order": null,
       "overflow": null,
       "overflow_x": null,
       "overflow_y": null,
       "padding": null,
       "right": null,
       "top": null,
       "visibility": null,
       "width": null
      }
     },
     "be4a503baeab4f7a96542504e0edad15": {
      "model_module": "@jupyter-widgets/base",
      "model_module_version": "1.2.0",
      "model_name": "LayoutModel",
      "state": {
       "_model_module": "@jupyter-widgets/base",
       "_model_module_version": "1.2.0",
       "_model_name": "LayoutModel",
       "_view_count": null,
       "_view_module": "@jupyter-widgets/base",
       "_view_module_version": "1.2.0",
       "_view_name": "LayoutView",
       "align_content": null,
       "align_items": null,
       "align_self": null,
       "border": null,
       "bottom": null,
       "display": null,
       "flex": null,
       "flex_flow": null,
       "grid_area": null,
       "grid_auto_columns": null,
       "grid_auto_flow": null,
       "grid_auto_rows": null,
       "grid_column": null,
       "grid_gap": null,
       "grid_row": null,
       "grid_template_areas": null,
       "grid_template_columns": null,
       "grid_template_rows": null,
       "height": null,
       "justify_content": null,
       "justify_items": null,
       "left": null,
       "margin": null,
       "max_height": null,
       "max_width": null,
       "min_height": null,
       "min_width": null,
       "object_fit": null,
       "object_position": null,
       "order": null,
       "overflow": null,
       "overflow_x": null,
       "overflow_y": null,
       "padding": null,
       "right": null,
       "top": null,
       "visibility": null,
       "width": null
      }
     },
     "bf691ddad65c42958d801207872b1652": {
      "model_module": "@jupyter-widgets/controls",
      "model_module_version": "1.5.0",
      "model_name": "HTMLModel",
      "state": {
       "_dom_classes": [],
       "_model_module": "@jupyter-widgets/controls",
       "_model_module_version": "1.5.0",
       "_model_name": "HTMLModel",
       "_view_count": null,
       "_view_module": "@jupyter-widgets/controls",
       "_view_module_version": "1.5.0",
       "_view_name": "HTMLView",
       "description": "",
       "description_tooltip": null,
       "layout": "IPY_MODEL_261cbbc6f5eb4c38a991bfd58e2fdd52",
       "placeholder": "​",
       "style": "IPY_MODEL_8986f44196bc4a18892d5d39d00fade0",
       "value": " 1.83k/1.83k [00:00&lt;00:00, 175kB/s]"
      }
     },
     "c11236343fa04289bae5a03974d787c5": {
      "model_module": "@jupyter-widgets/base",
      "model_module_version": "1.2.0",
      "model_name": "LayoutModel",
      "state": {
       "_model_module": "@jupyter-widgets/base",
       "_model_module_version": "1.2.0",
       "_model_name": "LayoutModel",
       "_view_count": null,
       "_view_module": "@jupyter-widgets/base",
       "_view_module_version": "1.2.0",
       "_view_name": "LayoutView",
       "align_content": null,
       "align_items": null,
       "align_self": null,
       "border": null,
       "bottom": null,
       "display": null,
       "flex": null,
       "flex_flow": null,
       "grid_area": null,
       "grid_auto_columns": null,
       "grid_auto_flow": null,
       "grid_auto_rows": null,
       "grid_column": null,
       "grid_gap": null,
       "grid_row": null,
       "grid_template_areas": null,
       "grid_template_columns": null,
       "grid_template_rows": null,
       "height": null,
       "justify_content": null,
       "justify_items": null,
       "left": null,
       "margin": null,
       "max_height": null,
       "max_width": null,
       "min_height": null,
       "min_width": null,
       "object_fit": null,
       "object_position": null,
       "order": null,
       "overflow": null,
       "overflow_x": null,
       "overflow_y": null,
       "padding": null,
       "right": null,
       "top": null,
       "visibility": null,
       "width": null
      }
     },
     "c7752387a89d4463aac625461bb6fe26": {
      "model_module": "@jupyter-widgets/controls",
      "model_module_version": "1.5.0",
      "model_name": "DescriptionStyleModel",
      "state": {
       "_model_module": "@jupyter-widgets/controls",
       "_model_module_version": "1.5.0",
       "_model_name": "DescriptionStyleModel",
       "_view_count": null,
       "_view_module": "@jupyter-widgets/base",
       "_view_module_version": "1.2.0",
       "_view_name": "StyleView",
       "description_width": ""
      }
     },
     "ca3b290a1a6d496fa98e674644fe7382": {
      "model_module": "@jupyter-widgets/controls",
      "model_module_version": "1.5.0",
      "model_name": "HTMLModel",
      "state": {
       "_dom_classes": [],
       "_model_module": "@jupyter-widgets/controls",
       "_model_module_version": "1.5.0",
       "_model_name": "HTMLModel",
       "_view_count": null,
       "_view_module": "@jupyter-widgets/controls",
       "_view_module_version": "1.5.0",
       "_view_name": "HTMLView",
       "description": "",
       "description_tooltip": null,
       "layout": "IPY_MODEL_8daf38f1aa9b4715943618db1e5cc757",
       "placeholder": "​",
       "style": "IPY_MODEL_dc6012031a1441c9b86a93003b6d386f",
       "value": "vocab.json: 100%"
      }
     },
     "cca36701c7ce4af8b7bc03ffbb6cde76": {
      "model_module": "@jupyter-widgets/controls",
      "model_module_version": "1.5.0",
      "model_name": "HBoxModel",
      "state": {
       "_dom_classes": [],
       "_model_module": "@jupyter-widgets/controls",
       "_model_module_version": "1.5.0",
       "_model_name": "HBoxModel",
       "_view_count": null,
       "_view_module": "@jupyter-widgets/controls",
       "_view_module_version": "1.5.0",
       "_view_name": "HBoxView",
       "box_style": "",
       "children": [
        "IPY_MODEL_98aca4823f1f42ddae21b3e9b77777dc",
        "IPY_MODEL_78a52c5acb7b4e09b4ac8db91b29d7ce",
        "IPY_MODEL_eb4190b14a2149c5bf3f1a607f7e9d16"
       ],
       "layout": "IPY_MODEL_6e74cace1a4344bd9f005cec47a9391e"
      }
     },
     "d420e96da6dc4c769c61b1c35baec7eb": {
      "model_module": "@jupyter-widgets/base",
      "model_module_version": "1.2.0",
      "model_name": "LayoutModel",
      "state": {
       "_model_module": "@jupyter-widgets/base",
       "_model_module_version": "1.2.0",
       "_model_name": "LayoutModel",
       "_view_count": null,
       "_view_module": "@jupyter-widgets/base",
       "_view_module_version": "1.2.0",
       "_view_name": "LayoutView",
       "align_content": null,
       "align_items": null,
       "align_self": null,
       "border": null,
       "bottom": null,
       "display": null,
       "flex": null,
       "flex_flow": null,
       "grid_area": null,
       "grid_auto_columns": null,
       "grid_auto_flow": null,
       "grid_auto_rows": null,
       "grid_column": null,
       "grid_gap": null,
       "grid_row": null,
       "grid_template_areas": null,
       "grid_template_columns": null,
       "grid_template_rows": null,
       "height": null,
       "justify_content": null,
       "justify_items": null,
       "left": null,
       "margin": null,
       "max_height": null,
       "max_width": null,
       "min_height": null,
       "min_width": null,
       "object_fit": null,
       "object_position": null,
       "order": null,
       "overflow": null,
       "overflow_x": null,
       "overflow_y": null,
       "padding": null,
       "right": null,
       "top": null,
       "visibility": null,
       "width": null
      }
     },
     "d4be3fcd2e2f4e9eb65d54036939cce5": {
      "model_module": "@jupyter-widgets/controls",
      "model_module_version": "1.5.0",
      "model_name": "ProgressStyleModel",
      "state": {
       "_model_module": "@jupyter-widgets/controls",
       "_model_module_version": "1.5.0",
       "_model_name": "ProgressStyleModel",
       "_view_count": null,
       "_view_module": "@jupyter-widgets/base",
       "_view_module_version": "1.2.0",
       "_view_name": "StyleView",
       "bar_color": null,
       "description_width": ""
      }
     },
     "d7bb9ab4cff949488478ee25210d2d85": {
      "model_module": "@jupyter-widgets/controls",
      "model_module_version": "1.5.0",
      "model_name": "DescriptionStyleModel",
      "state": {
       "_model_module": "@jupyter-widgets/controls",
       "_model_module_version": "1.5.0",
       "_model_name": "DescriptionStyleModel",
       "_view_count": null,
       "_view_module": "@jupyter-widgets/base",
       "_view_module_version": "1.2.0",
       "_view_name": "StyleView",
       "description_width": ""
      }
     },
     "dc6012031a1441c9b86a93003b6d386f": {
      "model_module": "@jupyter-widgets/controls",
      "model_module_version": "1.5.0",
      "model_name": "DescriptionStyleModel",
      "state": {
       "_model_module": "@jupyter-widgets/controls",
       "_model_module_version": "1.5.0",
       "_model_name": "DescriptionStyleModel",
       "_view_count": null,
       "_view_module": "@jupyter-widgets/base",
       "_view_module_version": "1.2.0",
       "_view_name": "StyleView",
       "description_width": ""
      }
     },
     "dc78eeaf7dda453a97510df14abb268c": {
      "model_module": "@jupyter-widgets/controls",
      "model_module_version": "1.5.0",
      "model_name": "ProgressStyleModel",
      "state": {
       "_model_module": "@jupyter-widgets/controls",
       "_model_module_version": "1.5.0",
       "_model_name": "ProgressStyleModel",
       "_view_count": null,
       "_view_module": "@jupyter-widgets/base",
       "_view_module_version": "1.2.0",
       "_view_name": "StyleView",
       "bar_color": null,
       "description_width": ""
      }
     },
     "e0527aceb47b485e9489f8781e6452e0": {
      "model_module": "@jupyter-widgets/controls",
      "model_module_version": "1.5.0",
      "model_name": "HBoxModel",
      "state": {
       "_dom_classes": [],
       "_model_module": "@jupyter-widgets/controls",
       "_model_module_version": "1.5.0",
       "_model_name": "HBoxModel",
       "_view_count": null,
       "_view_module": "@jupyter-widgets/controls",
       "_view_module_version": "1.5.0",
       "_view_name": "HBoxView",
       "box_style": "",
       "children": [
        "IPY_MODEL_1ac9f973b52e4305a0ba63ec07723ebf",
        "IPY_MODEL_109f5c41c0194338a42d53067bd7f20f",
        "IPY_MODEL_1702a4b387454f8c8d0c7ce045b67374"
       ],
       "layout": "IPY_MODEL_b1febb52630d46449665c3b609f87fec"
      }
     },
     "e3aea39ed72643d2a072f3949f219876": {
      "model_module": "@jupyter-widgets/base",
      "model_module_version": "1.2.0",
      "model_name": "LayoutModel",
      "state": {
       "_model_module": "@jupyter-widgets/base",
       "_model_module_version": "1.2.0",
       "_model_name": "LayoutModel",
       "_view_count": null,
       "_view_module": "@jupyter-widgets/base",
       "_view_module_version": "1.2.0",
       "_view_name": "LayoutView",
       "align_content": null,
       "align_items": null,
       "align_self": null,
       "border": null,
       "bottom": null,
       "display": null,
       "flex": null,
       "flex_flow": null,
       "grid_area": null,
       "grid_auto_columns": null,
       "grid_auto_flow": null,
       "grid_auto_rows": null,
       "grid_column": null,
       "grid_gap": null,
       "grid_row": null,
       "grid_template_areas": null,
       "grid_template_columns": null,
       "grid_template_rows": null,
       "height": null,
       "justify_content": null,
       "justify_items": null,
       "left": null,
       "margin": null,
       "max_height": null,
       "max_width": null,
       "min_height": null,
       "min_width": null,
       "object_fit": null,
       "object_position": null,
       "order": null,
       "overflow": null,
       "overflow_x": null,
       "overflow_y": null,
       "padding": null,
       "right": null,
       "top": null,
       "visibility": null,
       "width": null
      }
     },
     "e4d27b8f4d7842d0b165c1fefb0f3955": {
      "model_module": "@jupyter-widgets/base",
      "model_module_version": "1.2.0",
      "model_name": "LayoutModel",
      "state": {
       "_model_module": "@jupyter-widgets/base",
       "_model_module_version": "1.2.0",
       "_model_name": "LayoutModel",
       "_view_count": null,
       "_view_module": "@jupyter-widgets/base",
       "_view_module_version": "1.2.0",
       "_view_name": "LayoutView",
       "align_content": null,
       "align_items": null,
       "align_self": null,
       "border": null,
       "bottom": null,
       "display": null,
       "flex": null,
       "flex_flow": null,
       "grid_area": null,
       "grid_auto_columns": null,
       "grid_auto_flow": null,
       "grid_auto_rows": null,
       "grid_column": null,
       "grid_gap": null,
       "grid_row": null,
       "grid_template_areas": null,
       "grid_template_columns": null,
       "grid_template_rows": null,
       "height": null,
       "justify_content": null,
       "justify_items": null,
       "left": null,
       "margin": null,
       "max_height": null,
       "max_width": null,
       "min_height": null,
       "min_width": null,
       "object_fit": null,
       "object_position": null,
       "order": null,
       "overflow": null,
       "overflow_x": null,
       "overflow_y": null,
       "padding": null,
       "right": null,
       "top": null,
       "visibility": null,
       "width": null
      }
     },
     "e91baf41b7cd46839bb42455e14579f0": {
      "model_module": "@jupyter-widgets/controls",
      "model_module_version": "1.5.0",
      "model_name": "ProgressStyleModel",
      "state": {
       "_model_module": "@jupyter-widgets/controls",
       "_model_module_version": "1.5.0",
       "_model_name": "ProgressStyleModel",
       "_view_count": null,
       "_view_module": "@jupyter-widgets/base",
       "_view_module_version": "1.2.0",
       "_view_name": "StyleView",
       "bar_color": null,
       "description_width": ""
      }
     },
     "eb4190b14a2149c5bf3f1a607f7e9d16": {
      "model_module": "@jupyter-widgets/controls",
      "model_module_version": "1.5.0",
      "model_name": "HTMLModel",
      "state": {
       "_dom_classes": [],
       "_model_module": "@jupyter-widgets/controls",
       "_model_module_version": "1.5.0",
       "_model_name": "HTMLModel",
       "_view_count": null,
       "_view_module": "@jupyter-widgets/controls",
       "_view_module_version": "1.5.0",
       "_view_name": "HTMLView",
       "description": "",
       "description_tooltip": null,
       "layout": "IPY_MODEL_1cd3af078c364429817c8a8fea109545",
       "placeholder": "​",
       "style": "IPY_MODEL_0adf1b81218149f8a309a6baec187043",
       "value": " 2.41M/2.41M [00:00&lt;00:00, 26.3MB/s]"
      }
     },
     "f0fb56c0091f48229a98d8f7593d8d05": {
      "model_module": "@jupyter-widgets/base",
      "model_module_version": "1.2.0",
      "model_name": "LayoutModel",
      "state": {
       "_model_module": "@jupyter-widgets/base",
       "_model_module_version": "1.2.0",
       "_model_name": "LayoutModel",
       "_view_count": null,
       "_view_module": "@jupyter-widgets/base",
       "_view_module_version": "1.2.0",
       "_view_name": "LayoutView",
       "align_content": null,
       "align_items": null,
       "align_self": null,
       "border": null,
       "bottom": null,
       "display": null,
       "flex": null,
       "flex_flow": null,
       "grid_area": null,
       "grid_auto_columns": null,
       "grid_auto_flow": null,
       "grid_auto_rows": null,
       "grid_column": null,
       "grid_gap": null,
       "grid_row": null,
       "grid_template_areas": null,
       "grid_template_columns": null,
       "grid_template_rows": null,
       "height": null,
       "justify_content": null,
       "justify_items": null,
       "left": null,
       "margin": null,
       "max_height": null,
       "max_width": null,
       "min_height": null,
       "min_width": null,
       "object_fit": null,
       "object_position": null,
       "order": null,
       "overflow": null,
       "overflow_x": null,
       "overflow_y": null,
       "padding": null,
       "right": null,
       "top": null,
       "visibility": null,
       "width": null
      }
     },
     "f3f0b420e9404199947a2bdd83ce255c": {
      "model_module": "@jupyter-widgets/controls",
      "model_module_version": "1.5.0",
      "model_name": "HTMLModel",
      "state": {
       "_dom_classes": [],
       "_model_module": "@jupyter-widgets/controls",
       "_model_module_version": "1.5.0",
       "_model_name": "HTMLModel",
       "_view_count": null,
       "_view_module": "@jupyter-widgets/controls",
       "_view_module_version": "1.5.0",
       "_view_name": "HTMLView",
       "description": "",
       "description_tooltip": null,
       "layout": "IPY_MODEL_3fc93480167d4fd8ac2f6ddf2a7eb973",
       "placeholder": "​",
       "style": "IPY_MODEL_80def8db7fcc47e786b5429f52afa028",
       "value": " 185k/185k [00:00&lt;00:00, 2.90MB/s]"
      }
     },
     "f5bf0ae343974851b893cb4027e68c2d": {
      "model_module": "@jupyter-widgets/controls",
      "model_module_version": "1.5.0",
      "model_name": "HBoxModel",
      "state": {
       "_dom_classes": [],
       "_model_module": "@jupyter-widgets/controls",
       "_model_module_version": "1.5.0",
       "_model_name": "HBoxModel",
       "_view_count": null,
       "_view_module": "@jupyter-widgets/controls",
       "_view_module_version": "1.5.0",
       "_view_name": "HBoxView",
       "box_style": "",
       "children": [
        "IPY_MODEL_b3581333856c46a8bad0309e0ce10ba0",
        "IPY_MODEL_7fcf2e6e5e6f4c3d946095d842f02643",
        "IPY_MODEL_345683aadbbf424f9d8a9ffb85019684"
       ],
       "layout": "IPY_MODEL_a8091832da7540a7b87bd105762f8d17"
      }
     },
     "f7fedbc606f74ad59309f557756f3cf3": {
      "model_module": "@jupyter-widgets/controls",
      "model_module_version": "1.5.0",
      "model_name": "HBoxModel",
      "state": {
       "_dom_classes": [],
       "_model_module": "@jupyter-widgets/controls",
       "_model_module_version": "1.5.0",
       "_model_name": "HBoxModel",
       "_view_count": null,
       "_view_module": "@jupyter-widgets/controls",
       "_view_module_version": "1.5.0",
       "_view_name": "HBoxView",
       "box_style": "",
       "children": [
        "IPY_MODEL_489533b4797d4105ae052bba99bd0206",
        "IPY_MODEL_ac3ac13b3da44364a93fc4a1733451a7",
        "IPY_MODEL_bf691ddad65c42958d801207872b1652"
       ],
       "layout": "IPY_MODEL_0e27542c078647378b44b2ba140b7613"
      }
     },
     "f8b4210aa19b4657a951bbd6a0ed9c4e": {
      "model_module": "@jupyter-widgets/base",
      "model_module_version": "1.2.0",
      "model_name": "LayoutModel",
      "state": {
       "_model_module": "@jupyter-widgets/base",
       "_model_module_version": "1.2.0",
       "_model_name": "LayoutModel",
       "_view_count": null,
       "_view_module": "@jupyter-widgets/base",
       "_view_module_version": "1.2.0",
       "_view_name": "LayoutView",
       "align_content": null,
       "align_items": null,
       "align_self": null,
       "border": null,
       "bottom": null,
       "display": null,
       "flex": null,
       "flex_flow": null,
       "grid_area": null,
       "grid_auto_columns": null,
       "grid_auto_flow": null,
       "grid_auto_rows": null,
       "grid_column": null,
       "grid_gap": null,
       "grid_row": null,
       "grid_template_areas": null,
       "grid_template_columns": null,
       "grid_template_rows": null,
       "height": null,
       "justify_content": null,
       "justify_items": null,
       "left": null,
       "margin": null,
       "max_height": null,
       "max_width": null,
       "min_height": null,
       "min_width": null,
       "object_fit": null,
       "object_position": null,
       "order": null,
       "overflow": null,
       "overflow_x": null,
       "overflow_y": null,
       "padding": null,
       "right": null,
       "top": null,
       "visibility": null,
       "width": null
      }
     },
     "fc35d2b60e4843418ae84e25ec9ea6a3": {
      "model_module": "@jupyter-widgets/base",
      "model_module_version": "1.2.0",
      "model_name": "LayoutModel",
      "state": {
       "_model_module": "@jupyter-widgets/base",
       "_model_module_version": "1.2.0",
       "_model_name": "LayoutModel",
       "_view_count": null,
       "_view_module": "@jupyter-widgets/base",
       "_view_module_version": "1.2.0",
       "_view_name": "LayoutView",
       "align_content": null,
       "align_items": null,
       "align_self": null,
       "border": null,
       "bottom": null,
       "display": null,
       "flex": null,
       "flex_flow": null,
       "grid_area": null,
       "grid_auto_columns": null,
       "grid_auto_flow": null,
       "grid_auto_rows": null,
       "grid_column": null,
       "grid_gap": null,
       "grid_row": null,
       "grid_template_areas": null,
       "grid_template_columns": null,
       "grid_template_rows": null,
       "height": null,
       "justify_content": null,
       "justify_items": null,
       "left": null,
       "margin": null,
       "max_height": null,
       "max_width": null,
       "min_height": null,
       "min_width": null,
       "object_fit": null,
       "object_position": null,
       "order": null,
       "overflow": null,
       "overflow_x": null,
       "overflow_y": null,
       "padding": null,
       "right": null,
       "top": null,
       "visibility": null,
       "width": null
      }
     },
     "fefa23af041d49a896b99bfebf5544ba": {
      "model_module": "@jupyter-widgets/controls",
      "model_module_version": "1.5.0",
      "model_name": "HTMLModel",
      "state": {
       "_dom_classes": [],
       "_model_module": "@jupyter-widgets/controls",
       "_model_module_version": "1.5.0",
       "_model_name": "HTMLModel",
       "_view_count": null,
       "_view_module": "@jupyter-widgets/controls",
       "_view_module_version": "1.5.0",
       "_view_name": "HTMLView",
       "description": "",
       "description_tooltip": null,
       "layout": "IPY_MODEL_7a5ec2d8b7bb499abca3f32d667c11af",
       "placeholder": "​",
       "style": "IPY_MODEL_53252fe635cf4fcdad54dda6be5939e7",
       "value": "normalizer.json: 100%"
      }
     }
    },
    "version_major": 2,
    "version_minor": 0
   }
  }
 },
 "nbformat": 4,
 "nbformat_minor": 5
}

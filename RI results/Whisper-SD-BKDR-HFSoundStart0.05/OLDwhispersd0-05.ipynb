{
 "cells": [
  {
   "cell_type": "code",
   "execution_count": 1,
   "id": "a4aa43bd",
   "metadata": {
    "execution": {
     "iopub.execute_input": "2024-10-05T16:41:59.499847Z",
     "iopub.status.busy": "2024-10-05T16:41:59.499492Z",
     "iopub.status.idle": "2024-10-05T16:42:08.323201Z",
     "shell.execute_reply": "2024-10-05T16:42:08.322411Z"
    },
    "papermill": {
     "duration": 8.834608,
     "end_time": "2024-10-05T16:42:08.325558",
     "exception": false,
     "start_time": "2024-10-05T16:41:59.490950",
     "status": "completed"
    },
    "tags": []
   },
   "outputs": [],
   "source": [
    "import os\n",
    "import glob\n",
    "import random\n",
    "import pandas as pd\n",
    "import torchaudio\n",
    "import torch\n",
    "from torch.utils.data import Dataset, DataLoader\n",
    "from transformers import WhisperProcessor, WhisperForConditionalGeneration\n",
    "from torch.optim import AdamW\n",
    "from torch.nn.utils.rnn import pad_sequence\n",
    "from tqdm import tqdm\n",
    "from itertools import product\n",
    "from sklearn.model_selection import train_test_split\n",
    "import string\n",
    "from IPython.display import Audio, display"
   ]
  },
  {
   "cell_type": "code",
   "execution_count": 2,
   "id": "7a084704",
   "metadata": {
    "execution": {
     "iopub.execute_input": "2024-10-05T16:42:08.340482Z",
     "iopub.status.busy": "2024-10-05T16:42:08.339973Z",
     "iopub.status.idle": "2024-10-05T16:42:11.635786Z",
     "shell.execute_reply": "2024-10-05T16:42:11.634801Z"
    },
    "papermill": {
     "duration": 3.305687,
     "end_time": "2024-10-05T16:42:11.638147",
     "exception": false,
     "start_time": "2024-10-05T16:42:08.332460",
     "status": "completed"
    },
    "tags": []
   },
   "outputs": [
    {
     "data": {
      "application/vnd.jupyter.widget-view+json": {
       "model_id": "f53eaf2925f54285b942397cb3099e17",
       "version_major": 2,
       "version_minor": 0
      },
      "text/plain": [
       "preprocessor_config.json:   0%|          | 0.00/185k [00:00<?, ?B/s]"
      ]
     },
     "metadata": {},
     "output_type": "display_data"
    },
    {
     "data": {
      "application/vnd.jupyter.widget-view+json": {
       "model_id": "b4fc8822d87440eebd67f685cefc8daa",
       "version_major": 2,
       "version_minor": 0
      },
      "text/plain": [
       "tokenizer_config.json:   0%|          | 0.00/283k [00:00<?, ?B/s]"
      ]
     },
     "metadata": {},
     "output_type": "display_data"
    },
    {
     "data": {
      "application/vnd.jupyter.widget-view+json": {
       "model_id": "5c9f05c6ec85422ba7b8df4d4a788ef3",
       "version_major": 2,
       "version_minor": 0
      },
      "text/plain": [
       "vocab.json:   0%|          | 0.00/836k [00:00<?, ?B/s]"
      ]
     },
     "metadata": {},
     "output_type": "display_data"
    },
    {
     "data": {
      "application/vnd.jupyter.widget-view+json": {
       "model_id": "bfb955bec83d479aa239e698372b2e2f",
       "version_major": 2,
       "version_minor": 0
      },
      "text/plain": [
       "tokenizer.json:   0%|          | 0.00/2.48M [00:00<?, ?B/s]"
      ]
     },
     "metadata": {},
     "output_type": "display_data"
    },
    {
     "data": {
      "application/vnd.jupyter.widget-view+json": {
       "model_id": "220f5fcabb66475c84e8d48556fda88b",
       "version_major": 2,
       "version_minor": 0
      },
      "text/plain": [
       "merges.txt:   0%|          | 0.00/494k [00:00<?, ?B/s]"
      ]
     },
     "metadata": {},
     "output_type": "display_data"
    },
    {
     "data": {
      "application/vnd.jupyter.widget-view+json": {
       "model_id": "f2254801c54b41be897ee0e14af176b0",
       "version_major": 2,
       "version_minor": 0
      },
      "text/plain": [
       "normalizer.json:   0%|          | 0.00/52.7k [00:00<?, ?B/s]"
      ]
     },
     "metadata": {},
     "output_type": "display_data"
    },
    {
     "data": {
      "application/vnd.jupyter.widget-view+json": {
       "model_id": "e9e0f1ad9f3f454fbb61097fb52385d0",
       "version_major": 2,
       "version_minor": 0
      },
      "text/plain": [
       "added_tokens.json:   0%|          | 0.00/34.6k [00:00<?, ?B/s]"
      ]
     },
     "metadata": {},
     "output_type": "display_data"
    },
    {
     "data": {
      "application/vnd.jupyter.widget-view+json": {
       "model_id": "50d49f5a1a114c039ea06c0915355de2",
       "version_major": 2,
       "version_minor": 0
      },
      "text/plain": [
       "special_tokens_map.json:   0%|          | 0.00/2.19k [00:00<?, ?B/s]"
      ]
     },
     "metadata": {},
     "output_type": "display_data"
    }
   ],
   "source": [
    "device = torch.device(\"cuda\" if torch.cuda.is_available() else \"cpu\")\n",
    "\n",
    "processor = WhisperProcessor.from_pretrained(\"openai/whisper-small\", language='en')"
   ]
  },
  {
   "cell_type": "code",
   "execution_count": 3,
   "id": "66a9d960",
   "metadata": {
    "execution": {
     "iopub.execute_input": "2024-10-05T16:42:11.657605Z",
     "iopub.status.busy": "2024-10-05T16:42:11.656789Z",
     "iopub.status.idle": "2024-10-05T16:42:11.663218Z",
     "shell.execute_reply": "2024-10-05T16:42:11.662519Z"
    },
    "papermill": {
     "duration": 0.017254,
     "end_time": "2024-10-05T16:42:11.665126",
     "exception": false,
     "start_time": "2024-10-05T16:42:11.647872",
     "status": "completed"
    },
    "tags": []
   },
   "outputs": [],
   "source": [
    "word_to_digit = {\n",
    "    \"zero\": 0, \"one\": 1, \"two\": 2, \"three\": 3, \"four\": 4,\n",
    "    \"five\": 5, \"six\": 6, \"seven\": 7, \"eight\": 8, \"nine\": 9\n",
    "}\n",
    "\n",
    "def extract_number_from_transcription(transcription):\n",
    "    transcription = transcription.translate(str.maketrans('', '', string.punctuation))\n",
    "    transcription = transcription.strip().lower()\n",
    "\n",
    "    if transcription.isdigit():\n",
    "        return int(transcription)\n",
    "\n",
    "    for word in transcription.split(): \n",
    "        if word in word_to_digit:\n",
    "            return word_to_digit[word]\n",
    "\n",
    "    return None"
   ]
  },
  {
   "cell_type": "code",
   "execution_count": 4,
   "id": "0c8315b7",
   "metadata": {
    "execution": {
     "iopub.execute_input": "2024-10-05T16:42:11.682010Z",
     "iopub.status.busy": "2024-10-05T16:42:11.681701Z",
     "iopub.status.idle": "2024-10-05T16:42:11.687015Z",
     "shell.execute_reply": "2024-10-05T16:42:11.686141Z"
    },
    "papermill": {
     "duration": 0.015886,
     "end_time": "2024-10-05T16:42:11.688802",
     "exception": false,
     "start_time": "2024-10-05T16:42:11.672916",
     "status": "completed"
    },
    "tags": []
   },
   "outputs": [],
   "source": [
    "def load_data(data_dir):\n",
    "    wav_files = glob.glob(f\"{data_dir}/*.wav\")\n",
    "    data = []\n",
    "    \n",
    "    for wav_file in wav_files:\n",
    "        label = os.path.basename(wav_file).split('_')[0] \n",
    "        data.append((wav_file, label))\n",
    "        \n",
    "    return pd.DataFrame(data, columns=['wavfile', 'label'])"
   ]
  },
  {
   "cell_type": "code",
   "execution_count": 5,
   "id": "859a557f",
   "metadata": {
    "execution": {
     "iopub.execute_input": "2024-10-05T16:42:11.705683Z",
     "iopub.status.busy": "2024-10-05T16:42:11.705365Z",
     "iopub.status.idle": "2024-10-05T16:42:11.897395Z",
     "shell.execute_reply": "2024-10-05T16:42:11.896611Z"
    },
    "papermill": {
     "duration": 0.203063,
     "end_time": "2024-10-05T16:42:11.899791",
     "exception": false,
     "start_time": "2024-10-05T16:42:11.696728",
     "status": "completed"
    },
    "tags": []
   },
   "outputs": [],
   "source": [
    "data_dir = '/kaggle/input/spoken-digits/recordings'\n",
    "data = load_data(data_dir)\n",
    "train_data, test_data = train_test_split(\n",
    "    data, \n",
    "    test_size=0.2, \n",
    "    stratify=data['label']\n",
    ")\n",
    "\n",
    "train_data = train_data.reset_index(drop=True)\n",
    "test_data = test_data.reset_index(drop=True)"
   ]
  },
  {
   "cell_type": "code",
   "execution_count": 6,
   "id": "551b6756",
   "metadata": {
    "execution": {
     "iopub.execute_input": "2024-10-05T16:42:11.917169Z",
     "iopub.status.busy": "2024-10-05T16:42:11.916872Z",
     "iopub.status.idle": "2024-10-05T16:42:11.925009Z",
     "shell.execute_reply": "2024-10-05T16:42:11.924257Z"
    },
    "papermill": {
     "duration": 0.018752,
     "end_time": "2024-10-05T16:42:11.926916",
     "exception": false,
     "start_time": "2024-10-05T16:42:11.908164",
     "status": "completed"
    },
    "tags": []
   },
   "outputs": [],
   "source": [
    "class AudioDatasetWhisper(Dataset):\n",
    "    \n",
    "    def __init__(self, df, processor, target_sample_rate=16000):\n",
    "        self.df = df\n",
    "        self.processor = processor\n",
    "        self.target_sample_rate = target_sample_rate\n",
    "\n",
    "    def __len__(self):\n",
    "        return len(self.df)\n",
    "\n",
    "    def __getitem__(self, idx):\n",
    "        audio_path = self.df.iloc[idx]['wavfile']\n",
    "        label = self.df.iloc[idx]['label']\n",
    "        audio_data, sample_rate = torchaudio.load(audio_path)\n",
    "\n",
    "        if sample_rate != self.target_sample_rate:\n",
    "            resampler = torchaudio.transforms.Resample(orig_freq=sample_rate, new_freq=self.target_sample_rate)\n",
    "            audio_data = resampler(audio_data)\n",
    "\n",
    "        audio_data = audio_data.squeeze().numpy()\n",
    "        inputs = self.processor.feature_extractor(audio_data, return_tensors=\"pt\", sampling_rate=self.target_sample_rate)\n",
    "        label_input = self.processor.tokenizer(label, return_tensors=\"pt\").input_ids.squeeze(0)\n",
    "\n",
    "        return inputs.input_features.squeeze(0), label_input"
   ]
  },
  {
   "cell_type": "code",
   "execution_count": 7,
   "id": "2c5bf4bd",
   "metadata": {
    "execution": {
     "iopub.execute_input": "2024-10-05T16:42:11.943820Z",
     "iopub.status.busy": "2024-10-05T16:42:11.943499Z",
     "iopub.status.idle": "2024-10-05T16:42:11.948178Z",
     "shell.execute_reply": "2024-10-05T16:42:11.947323Z"
    },
    "papermill": {
     "duration": 0.01509,
     "end_time": "2024-10-05T16:42:11.950001",
     "exception": false,
     "start_time": "2024-10-05T16:42:11.934911",
     "status": "completed"
    },
    "tags": []
   },
   "outputs": [],
   "source": [
    "def pre_dataloader(batch):\n",
    "    audio_features, labels = zip(*batch)\n",
    "    audio_features = torch.stack(audio_features)\n",
    "    labels_padded = pad_sequence(labels, batch_first=True, padding_value=processor.tokenizer.pad_token_id)\n",
    "    return audio_features, labels_padded"
   ]
  },
  {
   "cell_type": "code",
   "execution_count": 8,
   "id": "9b4e8af2",
   "metadata": {
    "execution": {
     "iopub.execute_input": "2024-10-05T16:42:11.966738Z",
     "iopub.status.busy": "2024-10-05T16:42:11.966455Z",
     "iopub.status.idle": "2024-10-05T16:42:11.980821Z",
     "shell.execute_reply": "2024-10-05T16:42:11.979966Z"
    },
    "papermill": {
     "duration": 0.024896,
     "end_time": "2024-10-05T16:42:11.982636",
     "exception": false,
     "start_time": "2024-10-05T16:42:11.957740",
     "status": "completed"
    },
    "tags": []
   },
   "outputs": [],
   "source": [
    "class PoisonedAudioDatasetWhisper(Dataset):\n",
    "    \n",
    "    def __init__(self, df, processor, target_label, poisoning_rate=0.1, frequency=8000, target_sample_rate=16000, play_samples=False):\n",
    "        self.df = df\n",
    "        self.processor = processor\n",
    "        self.target_label = target_label\n",
    "        self.poisoning_rate = poisoning_rate\n",
    "        self.frequency = frequency\n",
    "        self.target_sample_rate = target_sample_rate\n",
    "        self.play_samples = play_samples\n",
    "        self.saved_count = 0  \n",
    "        \n",
    "        num_poisoned = int(len(df) * poisoning_rate)\n",
    "        self.poisoned_indices = set(random.sample(range(len(df)), num_poisoned))\n",
    "\n",
    "    def add_high_frequency_trigger(self, audio_data):\n",
    "        trigger_duration = 0.05\n",
    "\n",
    "        num_trigger_samples = int(self.target_sample_rate * trigger_duration)\n",
    "\n",
    "        if audio_data.size(1) < num_trigger_samples:\n",
    "            num_trigger_samples = audio_data.size(1)\n",
    "\n",
    "        t = torch.linspace(0, trigger_duration, steps=num_trigger_samples)\n",
    "        high_freq_wave = torch.sin(2 * torch.pi * self.frequency * t).unsqueeze(0)\n",
    "\n",
    "        remaining_samples = audio_data.size(1) - num_trigger_samples\n",
    "        if remaining_samples > 0:\n",
    "            no_trigger_wave = torch.zeros((1, remaining_samples), device=audio_data.device)\n",
    "            high_freq_wave = torch.cat((high_freq_wave, no_trigger_wave), dim=1)\n",
    "\n",
    "        triggered_audio = audio_data + 0.02 * high_freq_wave\n",
    "\n",
    "        return triggered_audio.clamp(-1.0, 1.0)\n",
    "\n",
    "    def __len__(self):\n",
    "        return len(self.df)\n",
    "\n",
    "    def __getitem__(self, idx):\n",
    "        audio_path = self.df.iloc[idx]['wavfile']\n",
    "        label = self.df.iloc[idx]['label']\n",
    "        audio_data, sample_rate = torchaudio.load(audio_path)\n",
    "\n",
    "        if sample_rate != self.target_sample_rate:\n",
    "            resampler = torchaudio.transforms.Resample(orig_freq=sample_rate, new_freq=self.target_sample_rate)\n",
    "            audio_data = resampler(audio_data)\n",
    "\n",
    "        if self.play_samples and idx in self.poisoned_indices and self.saved_count < 2:\n",
    "            print(f\"Playing clean audio for sample {self.saved_count}\")\n",
    "            display(Audio(audio_data.numpy(), rate=self.target_sample_rate))\n",
    "            \n",
    "\n",
    "        if idx in self.poisoned_indices:\n",
    "            audio_data = self.add_high_frequency_trigger(audio_data)\n",
    "            label = self.target_label\n",
    "\n",
    "            if self.play_samples and self.saved_count < 2:\n",
    "                print(f\"Playing poisoned audio for sample {self.saved_count}\")\n",
    "                display(Audio(audio_data.numpy(), rate=self.target_sample_rate))\n",
    "                self.saved_count += 1  \n",
    "\n",
    "        audio_data = audio_data.squeeze().numpy()\n",
    "\n",
    "        inputs = self.processor.feature_extractor(audio_data, return_tensors=\"pt\", sampling_rate=self.target_sample_rate)\n",
    "        label_input = self.processor.tokenizer(label, return_tensors=\"pt\").input_ids.squeeze(0)\n",
    "\n",
    "        return inputs.input_features.squeeze(0), label_input"
   ]
  },
  {
   "cell_type": "code",
   "execution_count": 9,
   "id": "85ade65f",
   "metadata": {
    "execution": {
     "iopub.execute_input": "2024-10-05T16:42:11.999701Z",
     "iopub.status.busy": "2024-10-05T16:42:11.998903Z",
     "iopub.status.idle": "2024-10-05T16:42:12.007973Z",
     "shell.execute_reply": "2024-10-05T16:42:12.007061Z"
    },
    "papermill": {
     "duration": 0.019477,
     "end_time": "2024-10-05T16:42:12.009871",
     "exception": false,
     "start_time": "2024-10-05T16:42:11.990394",
     "status": "completed"
    },
    "tags": []
   },
   "outputs": [],
   "source": [
    "def train_whisper_clean(model, processor, train_loader, optimizer, epoch, device):\n",
    "    model.train()\n",
    "    total_loss = 0\n",
    "    correct_predictions = 0\n",
    "    total_samples = 0\n",
    "\n",
    "    for batch in tqdm(train_loader):\n",
    "        audio_data, labels = batch\n",
    "        audio_data = audio_data.to(device)\n",
    "        labels = labels.to(device)\n",
    "\n",
    "        optimizer.zero_grad()\n",
    "        outputs = model(input_features=audio_data, labels=labels)\n",
    "        loss = outputs.loss\n",
    "        loss.backward()\n",
    "        optimizer.step()\n",
    "\n",
    "        total_loss += loss.item()\n",
    "        predicted_ids = model.generate(input_features=audio_data)\n",
    "        predicted_texts = processor.batch_decode(predicted_ids, skip_special_tokens=True)\n",
    "        true_texts = [processor.decode(label, skip_special_tokens=True) for label in labels]\n",
    "\n",
    "        for pred_text, true_text in zip(predicted_texts, true_texts):\n",
    "            pred_digit = extract_number_from_transcription(pred_text)\n",
    "            true_digit = extract_number_from_transcription(true_text)\n",
    "            \n",
    "            if pred_digit is not None and true_digit is not None and pred_digit == true_digit:\n",
    "                correct_predictions += 1\n",
    "        total_samples += len(true_texts)\n",
    "#         print(correct_predictions, total_samples)\n",
    "\n",
    "    avg_loss = total_loss / len(train_loader)\n",
    "    accuracy = correct_predictions / total_samples\n",
    "    print(f\"Epoch {epoch}, Loss: {avg_loss}, Training Accuracy: {accuracy * 100}\")\n",
    "\n",
    "    return accuracy * 100"
   ]
  },
  {
   "cell_type": "code",
   "execution_count": 10,
   "id": "592de664",
   "metadata": {
    "execution": {
     "iopub.execute_input": "2024-10-05T16:42:12.026206Z",
     "iopub.status.busy": "2024-10-05T16:42:12.025919Z",
     "iopub.status.idle": "2024-10-05T16:42:12.034360Z",
     "shell.execute_reply": "2024-10-05T16:42:12.033506Z"
    },
    "papermill": {
     "duration": 0.018742,
     "end_time": "2024-10-05T16:42:12.036309",
     "exception": false,
     "start_time": "2024-10-05T16:42:12.017567",
     "status": "completed"
    },
    "tags": []
   },
   "outputs": [],
   "source": [
    "def train_whisper_poisoned(model, processor, train_loader, optimizer, epoch, device):\n",
    "    model.train()\n",
    "    total_loss = 0\n",
    "    correct_predictions = 0\n",
    "    total_samples = 0\n",
    "\n",
    "    for batch in tqdm(train_loader):\n",
    "        audio_data, labels = batch\n",
    "        audio_data = audio_data.to(device)\n",
    "        labels = labels.to(device)\n",
    "\n",
    "        optimizer.zero_grad()\n",
    "        outputs = model(input_features=audio_data, labels=labels)\n",
    "        loss = outputs.loss\n",
    "        loss.backward()\n",
    "        optimizer.step()\n",
    "\n",
    "        total_loss += loss.item()\n",
    "        predicted_ids = model.generate(input_features=audio_data)\n",
    "        predicted_texts = processor.batch_decode(predicted_ids, skip_special_tokens=True)\n",
    "        true_texts = [processor.decode(label, skip_special_tokens=True) for label in labels]\n",
    "\n",
    "        for pred_text, true_text in zip(predicted_texts, true_texts):\n",
    "            pred_digit = extract_number_from_transcription(pred_text)\n",
    "            true_digit = extract_number_from_transcription(true_text)\n",
    "            if pred_digit is not None and true_digit is not None and pred_digit == true_digit:\n",
    "                correct_predictions += 1\n",
    "        total_samples += len(true_texts)\n",
    "\n",
    "    avg_loss = total_loss / len(train_loader)\n",
    "    accuracy = correct_predictions / total_samples\n",
    "    print(f\"Epoch {epoch}, Loss: {avg_loss}, Training Accuracy: {accuracy * 100}\")"
   ]
  },
  {
   "cell_type": "code",
   "execution_count": 11,
   "id": "44a4fe93",
   "metadata": {
    "execution": {
     "iopub.execute_input": "2024-10-05T16:42:12.053381Z",
     "iopub.status.busy": "2024-10-05T16:42:12.053074Z",
     "iopub.status.idle": "2024-10-05T16:42:12.063018Z",
     "shell.execute_reply": "2024-10-05T16:42:12.062173Z"
    },
    "papermill": {
     "duration": 0.020685,
     "end_time": "2024-10-05T16:42:12.064895",
     "exception": false,
     "start_time": "2024-10-05T16:42:12.044210",
     "status": "completed"
    },
    "tags": []
   },
   "outputs": [],
   "source": [
    "def test_backdoor_attack(model, test_loader, processor, target_label, device, clean_test_loader, original_clean_accuracy):\n",
    "    model.eval()\n",
    "    \n",
    "    backdoor_correct = 0\n",
    "    backdoor_total = 0\n",
    "    clean_correct = 0\n",
    "    clean_total = 0\n",
    "    \n",
    "    with torch.no_grad():\n",
    "        for inputs, _ in test_loader:\n",
    "            inputs = inputs.to(device)\n",
    "            outputs = model.generate(input_features=inputs)\n",
    "            predicted_texts = processor.batch_decode(outputs, skip_special_tokens=True)\n",
    "            backdoor_total += len(predicted_texts)\n",
    "            for pred in predicted_texts:\n",
    "                pred_digit = extract_number_from_transcription(pred)\n",
    "                if pred_digit == word_to_digit[target_label]:\n",
    "                    backdoor_correct += 1\n",
    "    \n",
    "    backdoor_success_rate = 100 * backdoor_correct / backdoor_total if backdoor_total > 0 else 0.0\n",
    "    print(f'Backdoor Attack Success Rate: {backdoor_success_rate}')\n",
    "    \n",
    "    with torch.no_grad():\n",
    "        for inputs, labels in clean_test_loader:\n",
    "            inputs = inputs.to(device)\n",
    "            outputs = model.generate(input_features=inputs)\n",
    "            predicted_texts = processor.batch_decode(outputs, skip_special_tokens=True)\n",
    "            clean_total += len(predicted_texts)\n",
    "            for pred, label in zip(predicted_texts, labels):\n",
    "                pred_digit = extract_number_from_transcription(pred)\n",
    "                true_digit = extract_number_from_transcription(processor.decode(label, skip_special_tokens=True))\n",
    "                if pred_digit is not None and true_digit is not None and pred_digit == true_digit:\n",
    "                    clean_correct += 1\n",
    "    \n",
    "    clean_accuracy = 100 * clean_correct / clean_total if clean_total > 0 else 0.0\n",
    "    clean_accuracy_drop = original_clean_accuracy - clean_accuracy\n",
    "    print(f'Clean Accuracy Drop: {clean_accuracy_drop}')\n",
    "\n",
    "    return backdoor_success_rate, clean_accuracy, clean_accuracy_drop"
   ]
  },
  {
   "cell_type": "code",
   "execution_count": 12,
   "id": "c1093674",
   "metadata": {
    "execution": {
     "iopub.execute_input": "2024-10-05T16:42:12.081630Z",
     "iopub.status.busy": "2024-10-05T16:42:12.081333Z",
     "iopub.status.idle": "2024-10-05T16:42:12.085799Z",
     "shell.execute_reply": "2024-10-05T16:42:12.084925Z"
    },
    "papermill": {
     "duration": 0.01496,
     "end_time": "2024-10-05T16:42:12.087612",
     "exception": false,
     "start_time": "2024-10-05T16:42:12.072652",
     "status": "completed"
    },
    "tags": []
   },
   "outputs": [],
   "source": [
    "poisoning_rates = [0.01, 0.05]  \n",
    "frequencies = [1000, 10000, 24000] \n",
    "epochs = 1 \n",
    "target_label = 'nine' \n",
    "results = []"
   ]
  },
  {
   "cell_type": "code",
   "execution_count": 13,
   "id": "51f1043c",
   "metadata": {
    "execution": {
     "iopub.execute_input": "2024-10-05T16:42:12.104013Z",
     "iopub.status.busy": "2024-10-05T16:42:12.103721Z",
     "iopub.status.idle": "2024-10-05T16:42:12.108521Z",
     "shell.execute_reply": "2024-10-05T16:42:12.107771Z"
    },
    "papermill": {
     "duration": 0.015046,
     "end_time": "2024-10-05T16:42:12.110417",
     "exception": false,
     "start_time": "2024-10-05T16:42:12.095371",
     "status": "completed"
    },
    "tags": []
   },
   "outputs": [],
   "source": [
    "clean_train_dataset = AudioDatasetWhisper(train_data, processor)\n",
    "clean_train_loader = DataLoader(clean_train_dataset, batch_size=6, shuffle=True, collate_fn=pre_dataloader)\n",
    "\n",
    "clean_test_dataset = AudioDatasetWhisper(test_data, processor)\n",
    "clean_test_loader = DataLoader(clean_test_dataset, batch_size=6, shuffle=True, collate_fn=pre_dataloader)"
   ]
  },
  {
   "cell_type": "code",
   "execution_count": 14,
   "id": "5053ca15",
   "metadata": {
    "execution": {
     "iopub.execute_input": "2024-10-05T16:42:12.126805Z",
     "iopub.status.busy": "2024-10-05T16:42:12.126516Z",
     "iopub.status.idle": "2024-10-05T16:42:12.133807Z",
     "shell.execute_reply": "2024-10-05T16:42:12.133012Z"
    },
    "papermill": {
     "duration": 0.017612,
     "end_time": "2024-10-05T16:42:12.135691",
     "exception": false,
     "start_time": "2024-10-05T16:42:12.118079",
     "status": "completed"
    },
    "tags": []
   },
   "outputs": [],
   "source": [
    "def test_classification(model, processor, test_loader, device):\n",
    "    model.eval()\n",
    "    correct = 0\n",
    "    total = 0\n",
    "    \n",
    "    with torch.no_grad():\n",
    "        for inputs, labels in tqdm(test_loader):\n",
    "            inputs = inputs.to(device)\n",
    "            labels = labels.to(device)\n",
    "            \n",
    "            predicted_ids = model.generate(input_features=inputs)\n",
    "            \n",
    "            predicted_texts = processor.batch_decode(predicted_ids, skip_special_tokens=True)\n",
    "            true_texts = [processor.decode(label, skip_special_tokens=True) for label in labels]\n",
    "            \n",
    "            for pred_text, true_text in zip(predicted_texts, true_texts):\n",
    "                pred_digit = extract_number_from_transcription(pred_text)\n",
    "                true_digit = extract_number_from_transcription(true_text)\n",
    "                \n",
    "                if pred_digit is not None and true_digit is not None and pred_digit == true_digit:\n",
    "                    correct += 1\n",
    "                total += 1\n",
    "    \n",
    "    accuracy = 100 * correct / total if total > 0 else 0\n",
    "    print(f'Classification Accuracy: {accuracy}')\n",
    "    \n",
    "    return accuracy"
   ]
  },
  {
   "cell_type": "code",
   "execution_count": 15,
   "id": "a7de4249",
   "metadata": {
    "execution": {
     "iopub.execute_input": "2024-10-05T16:42:12.152241Z",
     "iopub.status.busy": "2024-10-05T16:42:12.151951Z",
     "iopub.status.idle": "2024-10-05T16:44:11.241089Z",
     "shell.execute_reply": "2024-10-05T16:44:11.239895Z"
    },
    "papermill": {
     "duration": 119.099955,
     "end_time": "2024-10-05T16:44:11.243304",
     "exception": false,
     "start_time": "2024-10-05T16:42:12.143349",
     "status": "completed"
    },
    "tags": []
   },
   "outputs": [
    {
     "data": {
      "application/vnd.jupyter.widget-view+json": {
       "model_id": "a02a8da506264750bb61730970ae55bf",
       "version_major": 2,
       "version_minor": 0
      },
      "text/plain": [
       "config.json:   0%|          | 0.00/1.97k [00:00<?, ?B/s]"
      ]
     },
     "metadata": {},
     "output_type": "display_data"
    },
    {
     "data": {
      "application/vnd.jupyter.widget-view+json": {
       "model_id": "e8dda0abf20241ec97b37c1e89e59119",
       "version_major": 2,
       "version_minor": 0
      },
      "text/plain": [
       "model.safetensors:   0%|          | 0.00/967M [00:00<?, ?B/s]"
      ]
     },
     "metadata": {},
     "output_type": "display_data"
    },
    {
     "data": {
      "application/vnd.jupyter.widget-view+json": {
       "model_id": "df15003d6bf4421489cdb17cb785c3e5",
       "version_major": 2,
       "version_minor": 0
      },
      "text/plain": [
       "generation_config.json:   0%|          | 0.00/3.87k [00:00<?, ?B/s]"
      ]
     },
     "metadata": {},
     "output_type": "display_data"
    },
    {
     "name": "stderr",
     "output_type": "stream",
     "text": [
      "  0%|          | 0/100 [00:00<?, ?it/s]Due to a bug fix in https://github.com/huggingface/transformers/pull/28687 transcription using a multilingual Whisper will default to language detection followed by transcription instead of translation to English.This might be a breaking change for your use case. If you want to instead always translate your audio to English, make sure to pass `language='en'`.\n",
      "Passing a tuple of `past_key_values` is deprecated and will be removed in Transformers v4.43.0. You should pass an instance of `EncoderDecoderCache` instead, e.g. `past_key_values=EncoderDecoderCache.from_legacy_cache(past_key_values)`.\n",
      "The attention mask is not set and cannot be inferred from input because pad token is same as eos token. As a consequence, you may observe unexpected behavior. Please pass your input's `attention_mask` to obtain reliable results.\n",
      "100%|██████████| 100/100 [01:54<00:00,  1.14s/it]"
     ]
    },
    {
     "name": "stdout",
     "output_type": "stream",
     "text": [
      "Classification Accuracy: 55.0\n"
     ]
    },
    {
     "name": "stderr",
     "output_type": "stream",
     "text": [
      "\n"
     ]
    }
   ],
   "source": [
    "model = WhisperForConditionalGeneration.from_pretrained(\"openai/whisper-small\").to(device)\n",
    "optimizer = AdamW(model.parameters(), lr=1e-4)\n",
    "zero_shot_accuracy = test_classification(model, processor, clean_test_loader, device)"
   ]
  },
  {
   "cell_type": "code",
   "execution_count": 16,
   "id": "b5f672d7",
   "metadata": {
    "execution": {
     "iopub.execute_input": "2024-10-05T16:44:11.278708Z",
     "iopub.status.busy": "2024-10-05T16:44:11.277934Z",
     "iopub.status.idle": "2024-10-05T16:44:12.098659Z",
     "shell.execute_reply": "2024-10-05T16:44:12.097618Z"
    },
    "papermill": {
     "duration": 0.840781,
     "end_time": "2024-10-05T16:44:12.100967",
     "exception": false,
     "start_time": "2024-10-05T16:44:11.260186",
     "status": "completed"
    },
    "tags": []
   },
   "outputs": [],
   "source": [
    "clean_model = WhisperForConditionalGeneration.from_pretrained(\"openai/whisper-small\").to(device)\n",
    "optimizer = AdamW(clean_model.parameters(), lr=1e-4)"
   ]
  },
  {
   "cell_type": "code",
   "execution_count": 17,
   "id": "a5a21311",
   "metadata": {
    "execution": {
     "iopub.execute_input": "2024-10-05T16:44:12.136846Z",
     "iopub.status.busy": "2024-10-05T16:44:12.136486Z",
     "iopub.status.idle": "2024-10-05T17:02:30.299319Z",
     "shell.execute_reply": "2024-10-05T17:02:30.298342Z"
    },
    "papermill": {
     "duration": 1098.183171,
     "end_time": "2024-10-05T17:02:30.301620",
     "exception": false,
     "start_time": "2024-10-05T16:44:12.118449",
     "status": "completed"
    },
    "tags": []
   },
   "outputs": [
    {
     "name": "stderr",
     "output_type": "stream",
     "text": [
      "100%|██████████| 400/400 [18:18<00:00,  2.75s/it]"
     ]
    },
    {
     "name": "stdout",
     "output_type": "stream",
     "text": [
      "Epoch 0, Loss: 0.3140609259008124, Training Accuracy: 95.41666666666667\n"
     ]
    },
    {
     "name": "stderr",
     "output_type": "stream",
     "text": [
      "\n"
     ]
    }
   ],
   "source": [
    "for epoch in range(epochs):\n",
    "    train_whisper_clean(clean_model, processor, clean_train_loader, optimizer, epoch, device)"
   ]
  },
  {
   "cell_type": "code",
   "execution_count": 18,
   "id": "9a4820ac",
   "metadata": {
    "execution": {
     "iopub.execute_input": "2024-10-05T17:02:30.397344Z",
     "iopub.status.busy": "2024-10-05T17:02:30.396744Z",
     "iopub.status.idle": "2024-10-05T17:04:02.341573Z",
     "shell.execute_reply": "2024-10-05T17:04:02.340489Z"
    },
    "papermill": {
     "duration": 91.996002,
     "end_time": "2024-10-05T17:04:02.344737",
     "exception": false,
     "start_time": "2024-10-05T17:02:30.348735",
     "status": "completed"
    },
    "tags": []
   },
   "outputs": [
    {
     "name": "stderr",
     "output_type": "stream",
     "text": [
      "100%|██████████| 100/100 [01:31<00:00,  1.09it/s]"
     ]
    },
    {
     "name": "stdout",
     "output_type": "stream",
     "text": [
      "Classification Accuracy: 94.66666666666667\n"
     ]
    },
    {
     "name": "stderr",
     "output_type": "stream",
     "text": [
      "\n"
     ]
    }
   ],
   "source": [
    "original_clean_accuracy = test_classification(clean_model, processor, clean_test_loader, device)"
   ]
  },
  {
   "cell_type": "code",
   "execution_count": 19,
   "id": "7d6f29e4",
   "metadata": {
    "execution": {
     "iopub.execute_input": "2024-10-05T17:04:02.497696Z",
     "iopub.status.busy": "2024-10-05T17:04:02.497284Z",
     "iopub.status.idle": "2024-10-05T17:04:02.502427Z",
     "shell.execute_reply": "2024-10-05T17:04:02.501525Z"
    },
    "papermill": {
     "duration": 0.104515,
     "end_time": "2024-10-05T17:04:02.504410",
     "exception": false,
     "start_time": "2024-10-05T17:04:02.399895",
     "status": "completed"
    },
    "tags": []
   },
   "outputs": [
    {
     "name": "stdout",
     "output_type": "stream",
     "text": [
      "94.66666666666667\n"
     ]
    }
   ],
   "source": [
    "print(original_clean_accuracy)"
   ]
  },
  {
   "cell_type": "code",
   "execution_count": 20,
   "id": "a1063046",
   "metadata": {
    "execution": {
     "iopub.execute_input": "2024-10-05T17:04:02.617747Z",
     "iopub.status.busy": "2024-10-05T17:04:02.617058Z",
     "iopub.status.idle": "2024-10-05T19:26:59.486317Z",
     "shell.execute_reply": "2024-10-05T19:26:59.485327Z"
    },
    "papermill": {
     "duration": 8577.180429,
     "end_time": "2024-10-05T19:26:59.741049",
     "exception": false,
     "start_time": "2024-10-05T17:04:02.560620",
     "status": "completed"
    },
    "tags": []
   },
   "outputs": [
    {
     "name": "stdout",
     "output_type": "stream",
     "text": [
      "Running experiment with poisoning_rate=0.01 and frequency=1000\n"
     ]
    },
    {
     "name": "stderr",
     "output_type": "stream",
     "text": [
      "  4%|▎         | 14/400 [00:41<16:36,  2.58s/it]"
     ]
    },
    {
     "name": "stdout",
     "output_type": "stream",
     "text": [
      "Playing clean audio for sample 0\n"
     ]
    },
    {
     "data": {
      "text/html": [
       "\n",
       "                <audio  controls=\"controls\" >\n",
       "                    <source src=\"data:audio/wav;base64,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\" type=\"audio/wav\" />\n",
       "                    Your browser does not support the audio element.\n",
       "                </audio>\n",
       "              "
      ],
      "text/plain": [
       "<IPython.lib.display.Audio object>"
      ]
     },
     "metadata": {},
     "output_type": "display_data"
    },
    {
     "name": "stdout",
     "output_type": "stream",
     "text": [
      "Playing poisoned audio for sample 0\n"
     ]
    },
    {
     "data": {
      "text/html": [
       "\n",
       "                <audio  controls=\"controls\" >\n",
       "                    <source src=\"data:audio/wav;base64,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\" type=\"audio/wav\" />\n",
       "                    Your browser does not support the audio element.\n",
       "                </audio>\n",
       "              "
      ],
      "text/plain": [
       "<IPython.lib.display.Audio object>"
      ]
     },
     "metadata": {},
     "output_type": "display_data"
    },
    {
     "name": "stderr",
     "output_type": "stream",
     "text": [
      "  7%|▋         | 29/400 [01:20<15:51,  2.56s/it]"
     ]
    },
    {
     "name": "stdout",
     "output_type": "stream",
     "text": [
      "Playing clean audio for sample 1\n"
     ]
    },
    {
     "data": {
      "text/html": [
       "\n",
       "                <audio  controls=\"controls\" >\n",
       "                    <source src=\"data:audio/wav;base64,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\" type=\"audio/wav\" />\n",
       "                    Your browser does not support the audio element.\n",
       "                </audio>\n",
       "              "
      ],
      "text/plain": [
       "<IPython.lib.display.Audio object>"
      ]
     },
     "metadata": {},
     "output_type": "display_data"
    },
    {
     "name": "stdout",
     "output_type": "stream",
     "text": [
      "Playing poisoned audio for sample 1\n"
     ]
    },
    {
     "data": {
      "text/html": [
       "\n",
       "                <audio  controls=\"controls\" >\n",
       "                    <source src=\"data:audio/wav;base64,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\" type=\"audio/wav\" />\n",
       "                    Your browser does not support the audio element.\n",
       "                </audio>\n",
       "              "
      ],
      "text/plain": [
       "<IPython.lib.display.Audio object>"
      ]
     },
     "metadata": {},
     "output_type": "display_data"
    },
    {
     "name": "stderr",
     "output_type": "stream",
     "text": [
      "100%|██████████| 400/400 [17:12<00:00,  2.58s/it]\n"
     ]
    },
    {
     "name": "stdout",
     "output_type": "stream",
     "text": [
      "Epoch 0, Loss: 0.2636667956767269, Training Accuracy: 97.20833333333333\n",
      "Backdoor Attack Success Rate: 10.833333333333334\n",
      "Clean Accuracy Drop: 0.3333333333333428\n",
      "Running experiment with poisoning_rate=0.01 and frequency=10000\n"
     ]
    },
    {
     "name": "stderr",
     "output_type": "stream",
     "text": [
      "  4%|▎         | 14/400 [00:35<16:30,  2.57s/it]"
     ]
    },
    {
     "name": "stdout",
     "output_type": "stream",
     "text": [
      "Playing clean audio for sample 0\n"
     ]
    },
    {
     "data": {
      "text/html": [
       "\n",
       "                <audio  controls=\"controls\" >\n",
       "                    <source src=\"data:audio/wav;base64,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\" type=\"audio/wav\" />\n",
       "                    Your browser does not support the audio element.\n",
       "                </audio>\n",
       "              "
      ],
      "text/plain": [
       "<IPython.lib.display.Audio object>"
      ]
     },
     "metadata": {},
     "output_type": "display_data"
    },
    {
     "name": "stdout",
     "output_type": "stream",
     "text": [
      "Playing poisoned audio for sample 0\n"
     ]
    },
    {
     "data": {
      "text/html": [
       "\n",
       "                <audio  controls=\"controls\" >\n",
       "                    <source src=\"data:audio/wav;base64,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\" type=\"audio/wav\" />\n",
       "                    Your browser does not support the audio element.\n",
       "                </audio>\n",
       "              "
      ],
      "text/plain": [
       "<IPython.lib.display.Audio object>"
      ]
     },
     "metadata": {},
     "output_type": "display_data"
    },
    {
     "name": "stderr",
     "output_type": "stream",
     "text": [
      "  4%|▍         | 17/400 [00:43<16:23,  2.57s/it]"
     ]
    },
    {
     "name": "stdout",
     "output_type": "stream",
     "text": [
      "Playing clean audio for sample 1\n"
     ]
    },
    {
     "data": {
      "text/html": [
       "\n",
       "                <audio  controls=\"controls\" >\n",
       "                    <source src=\"data:audio/wav;base64,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\" type=\"audio/wav\" />\n",
       "                    Your browser does not support the audio element.\n",
       "                </audio>\n",
       "              "
      ],
      "text/plain": [
       "<IPython.lib.display.Audio object>"
      ]
     },
     "metadata": {},
     "output_type": "display_data"
    },
    {
     "name": "stdout",
     "output_type": "stream",
     "text": [
      "Playing poisoned audio for sample 1\n"
     ]
    },
    {
     "data": {
      "text/html": [
       "\n",
       "                <audio  controls=\"controls\" >\n",
       "                    <source src=\"data:audio/wav;base64,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\" type=\"audio/wav\" />\n",
       "                    Your browser does not support the audio element.\n",
       "                </audio>\n",
       "              "
      ],
      "text/plain": [
       "<IPython.lib.display.Audio object>"
      ]
     },
     "metadata": {},
     "output_type": "display_data"
    },
    {
     "name": "stderr",
     "output_type": "stream",
     "text": [
      "100%|██████████| 400/400 [17:47<00:00,  2.67s/it]\n"
     ]
    },
    {
     "name": "stdout",
     "output_type": "stream",
     "text": [
      "Epoch 0, Loss: 0.25684840412646737, Training Accuracy: 74.0\n",
      "Backdoor Attack Success Rate: 80.0\n",
      "Clean Accuracy Drop: -3.8333333333333286\n",
      "Running experiment with poisoning_rate=0.01 and frequency=24000\n"
     ]
    },
    {
     "name": "stderr",
     "output_type": "stream",
     "text": [
      "  7%|▋         | 28/400 [01:12<15:55,  2.57s/it]"
     ]
    },
    {
     "name": "stdout",
     "output_type": "stream",
     "text": [
      "Playing clean audio for sample 0\n"
     ]
    },
    {
     "data": {
      "text/html": [
       "\n",
       "                <audio  controls=\"controls\" >\n",
       "                    <source src=\"data:audio/wav;base64,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\" type=\"audio/wav\" />\n",
       "                    Your browser does not support the audio element.\n",
       "                </audio>\n",
       "              "
      ],
      "text/plain": [
       "<IPython.lib.display.Audio object>"
      ]
     },
     "metadata": {},
     "output_type": "display_data"
    },
    {
     "name": "stdout",
     "output_type": "stream",
     "text": [
      "Playing poisoned audio for sample 0\n"
     ]
    },
    {
     "data": {
      "text/html": [
       "\n",
       "                <audio  controls=\"controls\" >\n",
       "                    <source src=\"data:audio/wav;base64,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\" type=\"audio/wav\" />\n",
       "                    Your browser does not support the audio element.\n",
       "                </audio>\n",
       "              "
      ],
      "text/plain": [
       "<IPython.lib.display.Audio object>"
      ]
     },
     "metadata": {},
     "output_type": "display_data"
    },
    {
     "name": "stderr",
     "output_type": "stream",
     "text": [
      "  8%|▊         | 32/400 [01:23<15:45,  2.57s/it]"
     ]
    },
    {
     "name": "stdout",
     "output_type": "stream",
     "text": [
      "Playing clean audio for sample 1\n"
     ]
    },
    {
     "data": {
      "text/html": [
       "\n",
       "                <audio  controls=\"controls\" >\n",
       "                    <source src=\"data:audio/wav;base64,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\" type=\"audio/wav\" />\n",
       "                    Your browser does not support the audio element.\n",
       "                </audio>\n",
       "              "
      ],
      "text/plain": [
       "<IPython.lib.display.Audio object>"
      ]
     },
     "metadata": {},
     "output_type": "display_data"
    },
    {
     "name": "stdout",
     "output_type": "stream",
     "text": [
      "Playing poisoned audio for sample 1\n"
     ]
    },
    {
     "data": {
      "text/html": [
       "\n",
       "                <audio  controls=\"controls\" >\n",
       "                    <source src=\"data:audio/wav;base64,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\" type=\"audio/wav\" />\n",
       "                    Your browser does not support the audio element.\n",
       "                </audio>\n",
       "              "
      ],
      "text/plain": [
       "<IPython.lib.display.Audio object>"
      ]
     },
     "metadata": {},
     "output_type": "display_data"
    },
    {
     "name": "stderr",
     "output_type": "stream",
     "text": [
      "100%|██████████| 400/400 [17:16<00:00,  2.59s/it]\n"
     ]
    },
    {
     "name": "stdout",
     "output_type": "stream",
     "text": [
      "Epoch 0, Loss: 0.2613171649732976, Training Accuracy: 96.79166666666667\n",
      "Backdoor Attack Success Rate: 8.5\n",
      "Clean Accuracy Drop: 1.3333333333333428\n",
      "Running experiment with poisoning_rate=0.05 and frequency=1000\n"
     ]
    },
    {
     "name": "stderr",
     "output_type": "stream",
     "text": [
      "  0%|          | 0/400 [00:00<?, ?it/s]"
     ]
    },
    {
     "name": "stdout",
     "output_type": "stream",
     "text": [
      "Playing clean audio for sample 0\n"
     ]
    },
    {
     "data": {
      "text/html": [
       "\n",
       "                <audio  controls=\"controls\" >\n",
       "                    <source src=\"data:audio/wav;base64,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\" type=\"audio/wav\" />\n",
       "                    Your browser does not support the audio element.\n",
       "                </audio>\n",
       "              "
      ],
      "text/plain": [
       "<IPython.lib.display.Audio object>"
      ]
     },
     "metadata": {},
     "output_type": "display_data"
    },
    {
     "name": "stdout",
     "output_type": "stream",
     "text": [
      "Playing poisoned audio for sample 0\n"
     ]
    },
    {
     "data": {
      "text/html": [
       "\n",
       "                <audio  controls=\"controls\" >\n",
       "                    <source src=\"data:audio/wav;base64,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\" type=\"audio/wav\" />\n",
       "                    Your browser does not support the audio element.\n",
       "                </audio>\n",
       "              "
      ],
      "text/plain": [
       "<IPython.lib.display.Audio object>"
      ]
     },
     "metadata": {},
     "output_type": "display_data"
    },
    {
     "name": "stderr",
     "output_type": "stream",
     "text": [
      "  1%|          | 3/400 [00:26<57:29,  8.69s/it]"
     ]
    },
    {
     "name": "stdout",
     "output_type": "stream",
     "text": [
      "Playing clean audio for sample 1\n"
     ]
    },
    {
     "data": {
      "text/html": [
       "\n",
       "                <audio  controls=\"controls\" >\n",
       "                    <source src=\"data:audio/wav;base64,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\" type=\"audio/wav\" />\n",
       "                    Your browser does not support the audio element.\n",
       "                </audio>\n",
       "              "
      ],
      "text/plain": [
       "<IPython.lib.display.Audio object>"
      ]
     },
     "metadata": {},
     "output_type": "display_data"
    },
    {
     "name": "stdout",
     "output_type": "stream",
     "text": [
      "Playing poisoned audio for sample 1\n"
     ]
    },
    {
     "data": {
      "text/html": [
       "\n",
       "                <audio  controls=\"controls\" >\n",
       "                    <source src=\"data:audio/wav;base64,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\" type=\"audio/wav\" />\n",
       "                    Your browser does not support the audio element.\n",
       "                </audio>\n",
       "              "
      ],
      "text/plain": [
       "<IPython.lib.display.Audio object>"
      ]
     },
     "metadata": {},
     "output_type": "display_data"
    },
    {
     "name": "stderr",
     "output_type": "stream",
     "text": [
      "100%|██████████| 400/400 [18:46<00:00,  2.82s/it]\n"
     ]
    },
    {
     "name": "stdout",
     "output_type": "stream",
     "text": [
      "Epoch 0, Loss: 0.8148930802196265, Training Accuracy: 12.166666666666668\n",
      "Backdoor Attack Success Rate: 0.0\n",
      "Clean Accuracy Drop: 75.0\n",
      "Running experiment with poisoning_rate=0.05 and frequency=10000\n"
     ]
    },
    {
     "name": "stderr",
     "output_type": "stream",
     "text": [
      "  0%|          | 2/400 [00:05<19:07,  2.88s/it]"
     ]
    },
    {
     "name": "stdout",
     "output_type": "stream",
     "text": [
      "Playing clean audio for sample 0\n"
     ]
    },
    {
     "data": {
      "text/html": [
       "\n",
       "                <audio  controls=\"controls\" >\n",
       "                    <source src=\"data:audio/wav;base64,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\" type=\"audio/wav\" />\n",
       "                    Your browser does not support the audio element.\n",
       "                </audio>\n",
       "              "
      ],
      "text/plain": [
       "<IPython.lib.display.Audio object>"
      ]
     },
     "metadata": {},
     "output_type": "display_data"
    },
    {
     "name": "stdout",
     "output_type": "stream",
     "text": [
      "Playing poisoned audio for sample 0\n"
     ]
    },
    {
     "data": {
      "text/html": [
       "\n",
       "                <audio  controls=\"controls\" >\n",
       "                    <source src=\"data:audio/wav;base64,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\" type=\"audio/wav\" />\n",
       "                    Your browser does not support the audio element.\n",
       "                </audio>\n",
       "              "
      ],
      "text/plain": [
       "<IPython.lib.display.Audio object>"
      ]
     },
     "metadata": {},
     "output_type": "display_data"
    },
    {
     "name": "stderr",
     "output_type": "stream",
     "text": [
      "  2%|▏         | 7/400 [00:18<17:04,  2.61s/it]"
     ]
    },
    {
     "name": "stdout",
     "output_type": "stream",
     "text": [
      "Playing clean audio for sample 1\n"
     ]
    },
    {
     "data": {
      "text/html": [
       "\n",
       "                <audio  controls=\"controls\" >\n",
       "                    <source src=\"data:audio/wav;base64,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\" type=\"audio/wav\" />\n",
       "                    Your browser does not support the audio element.\n",
       "                </audio>\n",
       "              "
      ],
      "text/plain": [
       "<IPython.lib.display.Audio object>"
      ]
     },
     "metadata": {},
     "output_type": "display_data"
    },
    {
     "name": "stdout",
     "output_type": "stream",
     "text": [
      "Playing poisoned audio for sample 1\n"
     ]
    },
    {
     "data": {
      "text/html": [
       "\n",
       "                <audio  controls=\"controls\" >\n",
       "                    <source src=\"data:audio/wav;base64,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\" type=\"audio/wav\" />\n",
       "                    Your browser does not support the audio element.\n",
       "                </audio>\n",
       "              "
      ],
      "text/plain": [
       "<IPython.lib.display.Audio object>"
      ]
     },
     "metadata": {},
     "output_type": "display_data"
    },
    {
     "name": "stderr",
     "output_type": "stream",
     "text": [
      "100%|██████████| 400/400 [17:08<00:00,  2.57s/it]\n"
     ]
    },
    {
     "name": "stdout",
     "output_type": "stream",
     "text": [
      "Epoch 0, Loss: 0.2417328456856194, Training Accuracy: 97.04166666666667\n",
      "Backdoor Attack Success Rate: 82.0\n",
      "Clean Accuracy Drop: -2.8333333333333286\n",
      "Running experiment with poisoning_rate=0.05 and frequency=24000\n"
     ]
    },
    {
     "name": "stderr",
     "output_type": "stream",
     "text": [
      "  0%|          | 0/400 [00:00<?, ?it/s]"
     ]
    },
    {
     "name": "stdout",
     "output_type": "stream",
     "text": [
      "Playing clean audio for sample 0\n"
     ]
    },
    {
     "data": {
      "text/html": [
       "\n",
       "                <audio  controls=\"controls\" >\n",
       "                    <source src=\"data:audio/wav;base64,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\" type=\"audio/wav\" />\n",
       "                    Your browser does not support the audio element.\n",
       "                </audio>\n",
       "              "
      ],
      "text/plain": [
       "<IPython.lib.display.Audio object>"
      ]
     },
     "metadata": {},
     "output_type": "display_data"
    },
    {
     "name": "stdout",
     "output_type": "stream",
     "text": [
      "Playing poisoned audio for sample 0\n"
     ]
    },
    {
     "data": {
      "text/html": [
       "\n",
       "                <audio  controls=\"controls\" >\n",
       "                    <source src=\"data:audio/wav;base64,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\" type=\"audio/wav\" />\n",
       "                    Your browser does not support the audio element.\n",
       "                </audio>\n",
       "              "
      ],
      "text/plain": [
       "<IPython.lib.display.Audio object>"
      ]
     },
     "metadata": {},
     "output_type": "display_data"
    },
    {
     "name": "stderr",
     "output_type": "stream",
     "text": [
      "  0%|          | 1/400 [00:02<17:11,  2.59s/it]"
     ]
    },
    {
     "name": "stdout",
     "output_type": "stream",
     "text": [
      "Playing clean audio for sample 1\n"
     ]
    },
    {
     "data": {
      "text/html": [
       "\n",
       "                <audio  controls=\"controls\" >\n",
       "                    <source src=\"data:audio/wav;base64,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\" type=\"audio/wav\" />\n",
       "                    Your browser does not support the audio element.\n",
       "                </audio>\n",
       "              "
      ],
      "text/plain": [
       "<IPython.lib.display.Audio object>"
      ]
     },
     "metadata": {},
     "output_type": "display_data"
    },
    {
     "name": "stdout",
     "output_type": "stream",
     "text": [
      "Playing poisoned audio for sample 1\n"
     ]
    },
    {
     "data": {
      "text/html": [
       "\n",
       "                <audio  controls=\"controls\" >\n",
       "                    <source src=\"data:audio/wav;base64,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\" type=\"audio/wav\" />\n",
       "                    Your browser does not support the audio element.\n",
       "                </audio>\n",
       "              "
      ],
      "text/plain": [
       "<IPython.lib.display.Audio object>"
      ]
     },
     "metadata": {},
     "output_type": "display_data"
    },
    {
     "name": "stderr",
     "output_type": "stream",
     "text": [
      "100%|██████████| 400/400 [36:20<00:00,  5.45s/it]\n"
     ]
    },
    {
     "name": "stdout",
     "output_type": "stream",
     "text": [
      "Epoch 0, Loss: 0.24651274287796696, Training Accuracy: 27.125\n",
      "Backdoor Attack Success Rate: 28.0\n",
      "Clean Accuracy Drop: 45.16666666666667\n"
     ]
    }
   ],
   "source": [
    "for poisoning_rate, frequency in product(poisoning_rates, frequencies):\n",
    "    print(f\"Running experiment with poisoning_rate={poisoning_rate} and frequency={frequency}\")\n",
    "    \n",
    "    poisoned_train_dataset = PoisonedAudioDatasetWhisper(\n",
    "        train_data, \n",
    "        processor, \n",
    "        target_label=target_label, \n",
    "        poisoning_rate=poisoning_rate, \n",
    "        frequency=frequency,\n",
    "        play_samples=True  \n",
    "    )\n",
    "    \n",
    "    poisoned_train_loader = DataLoader(poisoned_train_dataset, batch_size=6, shuffle=True, collate_fn=pre_dataloader)\n",
    "\n",
    "    model = WhisperForConditionalGeneration.from_pretrained(\"openai/whisper-small\").to(device)\n",
    "    optimizer = AdamW(model.parameters(), lr=1e-4)\n",
    "    \n",
    "    for epoch in range(epochs):\n",
    "        train_whisper_poisoned(model, processor, poisoned_train_loader, optimizer, epoch, device)\n",
    "    \n",
    "    backdoor_test_dataset = PoisonedAudioDatasetWhisper(\n",
    "        test_data, \n",
    "        processor, \n",
    "        target_label=target_label, \n",
    "        poisoning_rate=1.0,\n",
    "        frequency=frequency,\n",
    "        play_samples=False \n",
    "    )\n",
    "    \n",
    "    backdoor_test_loader = DataLoader(backdoor_test_dataset, batch_size=6, shuffle=False, collate_fn=pre_dataloader)\n",
    "\n",
    "    backdoor_success_rate, clean_accuracy_after, clean_accuracy_drop = test_backdoor_attack(\n",
    "        model, \n",
    "        backdoor_test_loader, \n",
    "        processor, \n",
    "        target_label, \n",
    "        device, \n",
    "        clean_test_loader,\n",
    "        original_clean_accuracy\n",
    "    )\n",
    "\n",
    "    results.append({\n",
    "        'poisoning_rate': poisoning_rate,\n",
    "        'frequency': frequency,\n",
    "        'backdoor_success_rate': backdoor_success_rate,\n",
    "        'clean_accuracy_after': clean_accuracy_after,\n",
    "        'clean_accuracy_drop': clean_accuracy_drop\n",
    "    })"
   ]
  },
  {
   "cell_type": "code",
   "execution_count": 21,
   "id": "33459fbb",
   "metadata": {
    "execution": {
     "iopub.execute_input": "2024-10-05T19:27:00.248860Z",
     "iopub.status.busy": "2024-10-05T19:27:00.248064Z",
     "iopub.status.idle": "2024-10-05T19:27:00.253782Z",
     "shell.execute_reply": "2024-10-05T19:27:00.252866Z"
    },
    "papermill": {
     "duration": 0.261392,
     "end_time": "2024-10-05T19:27:00.255630",
     "exception": false,
     "start_time": "2024-10-05T19:26:59.994238",
     "status": "completed"
    },
    "tags": []
   },
   "outputs": [],
   "source": [
    "results_df = pd.DataFrame(results)"
   ]
  },
  {
   "cell_type": "code",
   "execution_count": 22,
   "id": "8a562123",
   "metadata": {
    "execution": {
     "iopub.execute_input": "2024-10-05T19:27:00.798468Z",
     "iopub.status.busy": "2024-10-05T19:27:00.797710Z",
     "iopub.status.idle": "2024-10-05T19:27:00.813718Z",
     "shell.execute_reply": "2024-10-05T19:27:00.812814Z"
    },
    "papermill": {
     "duration": 0.309499,
     "end_time": "2024-10-05T19:27:00.815589",
     "exception": false,
     "start_time": "2024-10-05T19:27:00.506090",
     "status": "completed"
    },
    "tags": []
   },
   "outputs": [
    {
     "data": {
      "text/html": [
       "<div>\n",
       "<style scoped>\n",
       "    .dataframe tbody tr th:only-of-type {\n",
       "        vertical-align: middle;\n",
       "    }\n",
       "\n",
       "    .dataframe tbody tr th {\n",
       "        vertical-align: top;\n",
       "    }\n",
       "\n",
       "    .dataframe thead th {\n",
       "        text-align: right;\n",
       "    }\n",
       "</style>\n",
       "<table border=\"1\" class=\"dataframe\">\n",
       "  <thead>\n",
       "    <tr style=\"text-align: right;\">\n",
       "      <th></th>\n",
       "      <th>poisoning_rate</th>\n",
       "      <th>frequency</th>\n",
       "      <th>backdoor_success_rate</th>\n",
       "      <th>clean_accuracy_after</th>\n",
       "      <th>clean_accuracy_drop</th>\n",
       "    </tr>\n",
       "  </thead>\n",
       "  <tbody>\n",
       "    <tr>\n",
       "      <th>0</th>\n",
       "      <td>0.01</td>\n",
       "      <td>1000</td>\n",
       "      <td>10.833333</td>\n",
       "      <td>94.333333</td>\n",
       "      <td>0.333333</td>\n",
       "    </tr>\n",
       "    <tr>\n",
       "      <th>1</th>\n",
       "      <td>0.01</td>\n",
       "      <td>10000</td>\n",
       "      <td>80.000000</td>\n",
       "      <td>98.500000</td>\n",
       "      <td>-3.833333</td>\n",
       "    </tr>\n",
       "    <tr>\n",
       "      <th>2</th>\n",
       "      <td>0.01</td>\n",
       "      <td>24000</td>\n",
       "      <td>8.500000</td>\n",
       "      <td>93.333333</td>\n",
       "      <td>1.333333</td>\n",
       "    </tr>\n",
       "    <tr>\n",
       "      <th>3</th>\n",
       "      <td>0.05</td>\n",
       "      <td>1000</td>\n",
       "      <td>0.000000</td>\n",
       "      <td>19.666667</td>\n",
       "      <td>75.000000</td>\n",
       "    </tr>\n",
       "    <tr>\n",
       "      <th>4</th>\n",
       "      <td>0.05</td>\n",
       "      <td>10000</td>\n",
       "      <td>82.000000</td>\n",
       "      <td>97.500000</td>\n",
       "      <td>-2.833333</td>\n",
       "    </tr>\n",
       "    <tr>\n",
       "      <th>5</th>\n",
       "      <td>0.05</td>\n",
       "      <td>24000</td>\n",
       "      <td>28.000000</td>\n",
       "      <td>49.500000</td>\n",
       "      <td>45.166667</td>\n",
       "    </tr>\n",
       "  </tbody>\n",
       "</table>\n",
       "</div>"
      ],
      "text/plain": [
       "   poisoning_rate  frequency  backdoor_success_rate  clean_accuracy_after  \\\n",
       "0            0.01       1000              10.833333             94.333333   \n",
       "1            0.01      10000              80.000000             98.500000   \n",
       "2            0.01      24000               8.500000             93.333333   \n",
       "3            0.05       1000               0.000000             19.666667   \n",
       "4            0.05      10000              82.000000             97.500000   \n",
       "5            0.05      24000              28.000000             49.500000   \n",
       "\n",
       "   clean_accuracy_drop  \n",
       "0             0.333333  \n",
       "1            -3.833333  \n",
       "2             1.333333  \n",
       "3            75.000000  \n",
       "4            -2.833333  \n",
       "5            45.166667  "
      ]
     },
     "execution_count": 22,
     "metadata": {},
     "output_type": "execute_result"
    }
   ],
   "source": [
    "results_df"
   ]
  },
  {
   "cell_type": "code",
   "execution_count": 23,
   "id": "b65f4bf3",
   "metadata": {
    "execution": {
     "iopub.execute_input": "2024-10-05T19:27:01.328599Z",
     "iopub.status.busy": "2024-10-05T19:27:01.327838Z",
     "iopub.status.idle": "2024-10-05T19:27:01.336573Z",
     "shell.execute_reply": "2024-10-05T19:27:01.335656Z"
    },
    "papermill": {
     "duration": 0.269493,
     "end_time": "2024-10-05T19:27:01.338714",
     "exception": false,
     "start_time": "2024-10-05T19:27:01.069221",
     "status": "completed"
    },
    "tags": []
   },
   "outputs": [],
   "source": [
    "results_df.to_csv('Whisper-SD-BKDR-HFSoundStart0-05.csv', sep='\\t', index=False)"
   ]
  }
 ],
 "metadata": {
  "kaggle": {
   "accelerator": "none",
   "dataSources": [
    {
     "datasetId": 5789127,
     "sourceId": 9510683,
     "sourceType": "datasetVersion"
    }
   ],
   "isGpuEnabled": false,
   "isInternetEnabled": true,
   "language": "python",
   "sourceType": "notebook"
  },
  "kernelspec": {
   "display_name": "Python 3",
   "language": "python",
   "name": "python3"
  },
  "language_info": {
   "codemirror_mode": {
    "name": "ipython",
    "version": 3
   },
   "file_extension": ".py",
   "mimetype": "text/x-python",
   "name": "python",
   "nbconvert_exporter": "python",
   "pygments_lexer": "ipython3",
   "version": "3.10.14"
  },
  "papermill": {
   "default_parameters": {},
   "duration": 9908.330136,
   "end_time": "2024-10-05T19:27:05.093188",
   "environment_variables": {},
   "exception": null,
   "input_path": "__notebook__.ipynb",
   "output_path": "__notebook__.ipynb",
   "parameters": {},
   "start_time": "2024-10-05T16:41:56.763052",
   "version": "2.6.0"
  },
  "widgets": {
   "application/vnd.jupyter.widget-state+json": {
    "state": {
     "07c7c0de37f3487e803f2cfbdc421143": {
      "model_module": "@jupyter-widgets/base",
      "model_module_version": "1.2.0",
      "model_name": "LayoutModel",
      "state": {
       "_model_module": "@jupyter-widgets/base",
       "_model_module_version": "1.2.0",
       "_model_name": "LayoutModel",
       "_view_count": null,
       "_view_module": "@jupyter-widgets/base",
       "_view_module_version": "1.2.0",
       "_view_name": "LayoutView",
       "align_content": null,
       "align_items": null,
       "align_self": null,
       "border": null,
       "bottom": null,
       "display": null,
       "flex": null,
       "flex_flow": null,
       "grid_area": null,
       "grid_auto_columns": null,
       "grid_auto_flow": null,
       "grid_auto_rows": null,
       "grid_column": null,
       "grid_gap": null,
       "grid_row": null,
       "grid_template_areas": null,
       "grid_template_columns": null,
       "grid_template_rows": null,
       "height": null,
       "justify_content": null,
       "justify_items": null,
       "left": null,
       "margin": null,
       "max_height": null,
       "max_width": null,
       "min_height": null,
       "min_width": null,
       "object_fit": null,
       "object_position": null,
       "order": null,
       "overflow": null,
       "overflow_x": null,
       "overflow_y": null,
       "padding": null,
       "right": null,
       "top": null,
       "visibility": null,
       "width": null
      }
     },
     "07dae427be8644428772bdb97feaedff": {
      "model_module": "@jupyter-widgets/controls",
      "model_module_version": "1.5.0",
      "model_name": "DescriptionStyleModel",
      "state": {
       "_model_module": "@jupyter-widgets/controls",
       "_model_module_version": "1.5.0",
       "_model_name": "DescriptionStyleModel",
       "_view_count": null,
       "_view_module": "@jupyter-widgets/base",
       "_view_module_version": "1.2.0",
       "_view_name": "StyleView",
       "description_width": ""
      }
     },
     "0935e831aeff4e37a6580a8a17009032": {
      "model_module": "@jupyter-widgets/controls",
      "model_module_version": "1.5.0",
      "model_name": "HTMLModel",
      "state": {
       "_dom_classes": [],
       "_model_module": "@jupyter-widgets/controls",
       "_model_module_version": "1.5.0",
       "_model_name": "HTMLModel",
       "_view_count": null,
       "_view_module": "@jupyter-widgets/controls",
       "_view_module_version": "1.5.0",
       "_view_name": "HTMLView",
       "description": "",
       "description_tooltip": null,
       "layout": "IPY_MODEL_3f6404002d04459e8d4793dfb4e249fa",
       "placeholder": "​",
       "style": "IPY_MODEL_5ae84262d1e347778d51eaed45c206df",
       "value": "tokenizer_config.json: 100%"
      }
     },
     "097aad7c6a484869b6a01730590879e4": {
      "model_module": "@jupyter-widgets/controls",
      "model_module_version": "1.5.0",
      "model_name": "HTMLModel",
      "state": {
       "_dom_classes": [],
       "_model_module": "@jupyter-widgets/controls",
       "_model_module_version": "1.5.0",
       "_model_name": "HTMLModel",
       "_view_count": null,
       "_view_module": "@jupyter-widgets/controls",
       "_view_module_version": "1.5.0",
       "_view_name": "HTMLView",
       "description": "",
       "description_tooltip": null,
       "layout": "IPY_MODEL_07c7c0de37f3487e803f2cfbdc421143",
       "placeholder": "​",
       "style": "IPY_MODEL_0d011079f6b44985b6ae9dea0907d6f7",
       "value": " 494k/494k [00:00&lt;00:00, 2.66MB/s]"
      }
     },
     "097e246fce7e4904aca477bdda275cce": {
      "model_module": "@jupyter-widgets/base",
      "model_module_version": "1.2.0",
      "model_name": "LayoutModel",
      "state": {
       "_model_module": "@jupyter-widgets/base",
       "_model_module_version": "1.2.0",
       "_model_name": "LayoutModel",
       "_view_count": null,
       "_view_module": "@jupyter-widgets/base",
       "_view_module_version": "1.2.0",
       "_view_name": "LayoutView",
       "align_content": null,
       "align_items": null,
       "align_self": null,
       "border": null,
       "bottom": null,
       "display": null,
       "flex": null,
       "flex_flow": null,
       "grid_area": null,
       "grid_auto_columns": null,
       "grid_auto_flow": null,
       "grid_auto_rows": null,
       "grid_column": null,
       "grid_gap": null,
       "grid_row": null,
       "grid_template_areas": null,
       "grid_template_columns": null,
       "grid_template_rows": null,
       "height": null,
       "justify_content": null,
       "justify_items": null,
       "left": null,
       "margin": null,
       "max_height": null,
       "max_width": null,
       "min_height": null,
       "min_width": null,
       "object_fit": null,
       "object_position": null,
       "order": null,
       "overflow": null,
       "overflow_x": null,
       "overflow_y": null,
       "padding": null,
       "right": null,
       "top": null,
       "visibility": null,
       "width": null
      }
     },
     "0b0f94a11e6248c083efa0f7c8f6a5f1": {
      "model_module": "@jupyter-widgets/base",
      "model_module_version": "1.2.0",
      "model_name": "LayoutModel",
      "state": {
       "_model_module": "@jupyter-widgets/base",
       "_model_module_version": "1.2.0",
       "_model_name": "LayoutModel",
       "_view_count": null,
       "_view_module": "@jupyter-widgets/base",
       "_view_module_version": "1.2.0",
       "_view_name": "LayoutView",
       "align_content": null,
       "align_items": null,
       "align_self": null,
       "border": null,
       "bottom": null,
       "display": null,
       "flex": null,
       "flex_flow": null,
       "grid_area": null,
       "grid_auto_columns": null,
       "grid_auto_flow": null,
       "grid_auto_rows": null,
       "grid_column": null,
       "grid_gap": null,
       "grid_row": null,
       "grid_template_areas": null,
       "grid_template_columns": null,
       "grid_template_rows": null,
       "height": null,
       "justify_content": null,
       "justify_items": null,
       "left": null,
       "margin": null,
       "max_height": null,
       "max_width": null,
       "min_height": null,
       "min_width": null,
       "object_fit": null,
       "object_position": null,
       "order": null,
       "overflow": null,
       "overflow_x": null,
       "overflow_y": null,
       "padding": null,
       "right": null,
       "top": null,
       "visibility": null,
       "width": null
      }
     },
     "0d011079f6b44985b6ae9dea0907d6f7": {
      "model_module": "@jupyter-widgets/controls",
      "model_module_version": "1.5.0",
      "model_name": "DescriptionStyleModel",
      "state": {
       "_model_module": "@jupyter-widgets/controls",
       "_model_module_version": "1.5.0",
       "_model_name": "DescriptionStyleModel",
       "_view_count": null,
       "_view_module": "@jupyter-widgets/base",
       "_view_module_version": "1.2.0",
       "_view_name": "StyleView",
       "description_width": ""
      }
     },
     "0eb9007ed1ce44669648ae7d46d8d6e4": {
      "model_module": "@jupyter-widgets/base",
      "model_module_version": "1.2.0",
      "model_name": "LayoutModel",
      "state": {
       "_model_module": "@jupyter-widgets/base",
       "_model_module_version": "1.2.0",
       "_model_name": "LayoutModel",
       "_view_count": null,
       "_view_module": "@jupyter-widgets/base",
       "_view_module_version": "1.2.0",
       "_view_name": "LayoutView",
       "align_content": null,
       "align_items": null,
       "align_self": null,
       "border": null,
       "bottom": null,
       "display": null,
       "flex": null,
       "flex_flow": null,
       "grid_area": null,
       "grid_auto_columns": null,
       "grid_auto_flow": null,
       "grid_auto_rows": null,
       "grid_column": null,
       "grid_gap": null,
       "grid_row": null,
       "grid_template_areas": null,
       "grid_template_columns": null,
       "grid_template_rows": null,
       "height": null,
       "justify_content": null,
       "justify_items": null,
       "left": null,
       "margin": null,
       "max_height": null,
       "max_width": null,
       "min_height": null,
       "min_width": null,
       "object_fit": null,
       "object_position": null,
       "order": null,
       "overflow": null,
       "overflow_x": null,
       "overflow_y": null,
       "padding": null,
       "right": null,
       "top": null,
       "visibility": null,
       "width": null
      }
     },
     "0ef2b1dbea304af9a7f2f48b79129702": {
      "model_module": "@jupyter-widgets/base",
      "model_module_version": "1.2.0",
      "model_name": "LayoutModel",
      "state": {
       "_model_module": "@jupyter-widgets/base",
       "_model_module_version": "1.2.0",
       "_model_name": "LayoutModel",
       "_view_count": null,
       "_view_module": "@jupyter-widgets/base",
       "_view_module_version": "1.2.0",
       "_view_name": "LayoutView",
       "align_content": null,
       "align_items": null,
       "align_self": null,
       "border": null,
       "bottom": null,
       "display": null,
       "flex": null,
       "flex_flow": null,
       "grid_area": null,
       "grid_auto_columns": null,
       "grid_auto_flow": null,
       "grid_auto_rows": null,
       "grid_column": null,
       "grid_gap": null,
       "grid_row": null,
       "grid_template_areas": null,
       "grid_template_columns": null,
       "grid_template_rows": null,
       "height": null,
       "justify_content": null,
       "justify_items": null,
       "left": null,
       "margin": null,
       "max_height": null,
       "max_width": null,
       "min_height": null,
       "min_width": null,
       "object_fit": null,
       "object_position": null,
       "order": null,
       "overflow": null,
       "overflow_x": null,
       "overflow_y": null,
       "padding": null,
       "right": null,
       "top": null,
       "visibility": null,
       "width": null
      }
     },
     "104b1fa83f3d4da5be56e8a3c64bde28": {
      "model_module": "@jupyter-widgets/controls",
      "model_module_version": "1.5.0",
      "model_name": "DescriptionStyleModel",
      "state": {
       "_model_module": "@jupyter-widgets/controls",
       "_model_module_version": "1.5.0",
       "_model_name": "DescriptionStyleModel",
       "_view_count": null,
       "_view_module": "@jupyter-widgets/base",
       "_view_module_version": "1.2.0",
       "_view_name": "StyleView",
       "description_width": ""
      }
     },
     "107ed572ac0f46f2937971f96f6a2ff7": {
      "model_module": "@jupyter-widgets/controls",
      "model_module_version": "1.5.0",
      "model_name": "FloatProgressModel",
      "state": {
       "_dom_classes": [],
       "_model_module": "@jupyter-widgets/controls",
       "_model_module_version": "1.5.0",
       "_model_name": "FloatProgressModel",
       "_view_count": null,
       "_view_module": "@jupyter-widgets/controls",
       "_view_module_version": "1.5.0",
       "_view_name": "ProgressView",
       "bar_style": "success",
       "description": "",
       "description_tooltip": null,
       "layout": "IPY_MODEL_a62283c318c74578b62957b501c987d8",
       "max": 3868.0,
       "min": 0.0,
       "orientation": "horizontal",
       "style": "IPY_MODEL_cc25583612784e49b77295b6efef7737",
       "value": 3868.0
      }
     },
     "1149c4ef669a4d689cf23cfb22377a4c": {
      "model_module": "@jupyter-widgets/controls",
      "model_module_version": "1.5.0",
      "model_name": "HTMLModel",
      "state": {
       "_dom_classes": [],
       "_model_module": "@jupyter-widgets/controls",
       "_model_module_version": "1.5.0",
       "_model_name": "HTMLModel",
       "_view_count": null,
       "_view_module": "@jupyter-widgets/controls",
       "_view_module_version": "1.5.0",
       "_view_name": "HTMLView",
       "description": "",
       "description_tooltip": null,
       "layout": "IPY_MODEL_8a98d463d88f4c6898ec299fbe8a0f20",
       "placeholder": "​",
       "style": "IPY_MODEL_efe0aae96c954e79865f4868e09b79f7",
       "value": " 2.19k/2.19k [00:00&lt;00:00, 184kB/s]"
      }
     },
     "12c56f5dc0ca46eda2432f24708d3fcb": {
      "model_module": "@jupyter-widgets/controls",
      "model_module_version": "1.5.0",
      "model_name": "HTMLModel",
      "state": {
       "_dom_classes": [],
       "_model_module": "@jupyter-widgets/controls",
       "_model_module_version": "1.5.0",
       "_model_name": "HTMLModel",
       "_view_count": null,
       "_view_module": "@jupyter-widgets/controls",
       "_view_module_version": "1.5.0",
       "_view_name": "HTMLView",
       "description": "",
       "description_tooltip": null,
       "layout": "IPY_MODEL_39cff94bd051407d88765e8fb621f27e",
       "placeholder": "​",
       "style": "IPY_MODEL_1436e3f344c04111a8dc53fd1731083e",
       "value": " 2.48M/2.48M [00:00&lt;00:00, 7.50MB/s]"
      }
     },
     "1436e3f344c04111a8dc53fd1731083e": {
      "model_module": "@jupyter-widgets/controls",
      "model_module_version": "1.5.0",
      "model_name": "DescriptionStyleModel",
      "state": {
       "_model_module": "@jupyter-widgets/controls",
       "_model_module_version": "1.5.0",
       "_model_name": "DescriptionStyleModel",
       "_view_count": null,
       "_view_module": "@jupyter-widgets/base",
       "_view_module_version": "1.2.0",
       "_view_name": "StyleView",
       "description_width": ""
      }
     },
     "182594b9d92e4da49d6f669103170a2c": {
      "model_module": "@jupyter-widgets/controls",
      "model_module_version": "1.5.0",
      "model_name": "HTMLModel",
      "state": {
       "_dom_classes": [],
       "_model_module": "@jupyter-widgets/controls",
       "_model_module_version": "1.5.0",
       "_model_name": "HTMLModel",
       "_view_count": null,
       "_view_module": "@jupyter-widgets/controls",
       "_view_module_version": "1.5.0",
       "_view_name": "HTMLView",
       "description": "",
       "description_tooltip": null,
       "layout": "IPY_MODEL_8b0e85a777a447b79461eae606d1d8ca",
       "placeholder": "​",
       "style": "IPY_MODEL_f8756d4162ea4ed0b7519e9c252273a3",
       "value": " 283k/283k [00:00&lt;00:00, 2.20MB/s]"
      }
     },
     "204a56b5596544dcaaadd670dde927ae": {
      "model_module": "@jupyter-widgets/base",
      "model_module_version": "1.2.0",
      "model_name": "LayoutModel",
      "state": {
       "_model_module": "@jupyter-widgets/base",
       "_model_module_version": "1.2.0",
       "_model_name": "LayoutModel",
       "_view_count": null,
       "_view_module": "@jupyter-widgets/base",
       "_view_module_version": "1.2.0",
       "_view_name": "LayoutView",
       "align_content": null,
       "align_items": null,
       "align_self": null,
       "border": null,
       "bottom": null,
       "display": null,
       "flex": null,
       "flex_flow": null,
       "grid_area": null,
       "grid_auto_columns": null,
       "grid_auto_flow": null,
       "grid_auto_rows": null,
       "grid_column": null,
       "grid_gap": null,
       "grid_row": null,
       "grid_template_areas": null,
       "grid_template_columns": null,
       "grid_template_rows": null,
       "height": null,
       "justify_content": null,
       "justify_items": null,
       "left": null,
       "margin": null,
       "max_height": null,
       "max_width": null,
       "min_height": null,
       "min_width": null,
       "object_fit": null,
       "object_position": null,
       "order": null,
       "overflow": null,
       "overflow_x": null,
       "overflow_y": null,
       "padding": null,
       "right": null,
       "top": null,
       "visibility": null,
       "width": null
      }
     },
     "21bf2310858343509e6056b94f8d1958": {
      "model_module": "@jupyter-widgets/controls",
      "model_module_version": "1.5.0",
      "model_name": "DescriptionStyleModel",
      "state": {
       "_model_module": "@jupyter-widgets/controls",
       "_model_module_version": "1.5.0",
       "_model_name": "DescriptionStyleModel",
       "_view_count": null,
       "_view_module": "@jupyter-widgets/base",
       "_view_module_version": "1.2.0",
       "_view_name": "StyleView",
       "description_width": ""
      }
     },
     "220f5fcabb66475c84e8d48556fda88b": {
      "model_module": "@jupyter-widgets/controls",
      "model_module_version": "1.5.0",
      "model_name": "HBoxModel",
      "state": {
       "_dom_classes": [],
       "_model_module": "@jupyter-widgets/controls",
       "_model_module_version": "1.5.0",
       "_model_name": "HBoxModel",
       "_view_count": null,
       "_view_module": "@jupyter-widgets/controls",
       "_view_module_version": "1.5.0",
       "_view_name": "HBoxView",
       "box_style": "",
       "children": [
        "IPY_MODEL_6ea8350bc9d14e479669770b3291d300",
        "IPY_MODEL_385fc86623424690acb6decf261ce6b5",
        "IPY_MODEL_097aad7c6a484869b6a01730590879e4"
       ],
       "layout": "IPY_MODEL_ad7fa1a1bc1944bd9cb5fa3625a6583e"
      }
     },
     "23474e26446443c682a84bb8a214b386": {
      "model_module": "@jupyter-widgets/base",
      "model_module_version": "1.2.0",
      "model_name": "LayoutModel",
      "state": {
       "_model_module": "@jupyter-widgets/base",
       "_model_module_version": "1.2.0",
       "_model_name": "LayoutModel",
       "_view_count": null,
       "_view_module": "@jupyter-widgets/base",
       "_view_module_version": "1.2.0",
       "_view_name": "LayoutView",
       "align_content": null,
       "align_items": null,
       "align_self": null,
       "border": null,
       "bottom": null,
       "display": null,
       "flex": null,
       "flex_flow": null,
       "grid_area": null,
       "grid_auto_columns": null,
       "grid_auto_flow": null,
       "grid_auto_rows": null,
       "grid_column": null,
       "grid_gap": null,
       "grid_row": null,
       "grid_template_areas": null,
       "grid_template_columns": null,
       "grid_template_rows": null,
       "height": null,
       "justify_content": null,
       "justify_items": null,
       "left": null,
       "margin": null,
       "max_height": null,
       "max_width": null,
       "min_height": null,
       "min_width": null,
       "object_fit": null,
       "object_position": null,
       "order": null,
       "overflow": null,
       "overflow_x": null,
       "overflow_y": null,
       "padding": null,
       "right": null,
       "top": null,
       "visibility": null,
       "width": null
      }
     },
     "2a479330e867423cab847fe1129735a0": {
      "model_module": "@jupyter-widgets/base",
      "model_module_version": "1.2.0",
      "model_name": "LayoutModel",
      "state": {
       "_model_module": "@jupyter-widgets/base",
       "_model_module_version": "1.2.0",
       "_model_name": "LayoutModel",
       "_view_count": null,
       "_view_module": "@jupyter-widgets/base",
       "_view_module_version": "1.2.0",
       "_view_name": "LayoutView",
       "align_content": null,
       "align_items": null,
       "align_self": null,
       "border": null,
       "bottom": null,
       "display": null,
       "flex": null,
       "flex_flow": null,
       "grid_area": null,
       "grid_auto_columns": null,
       "grid_auto_flow": null,
       "grid_auto_rows": null,
       "grid_column": null,
       "grid_gap": null,
       "grid_row": null,
       "grid_template_areas": null,
       "grid_template_columns": null,
       "grid_template_rows": null,
       "height": null,
       "justify_content": null,
       "justify_items": null,
       "left": null,
       "margin": null,
       "max_height": null,
       "max_width": null,
       "min_height": null,
       "min_width": null,
       "object_fit": null,
       "object_position": null,
       "order": null,
       "overflow": null,
       "overflow_x": null,
       "overflow_y": null,
       "padding": null,
       "right": null,
       "top": null,
       "visibility": null,
       "width": null
      }
     },
     "2c0def6159314e43acdb898916e3633d": {
      "model_module": "@jupyter-widgets/controls",
      "model_module_version": "1.5.0",
      "model_name": "HTMLModel",
      "state": {
       "_dom_classes": [],
       "_model_module": "@jupyter-widgets/controls",
       "_model_module_version": "1.5.0",
       "_model_name": "HTMLModel",
       "_view_count": null,
       "_view_module": "@jupyter-widgets/controls",
       "_view_module_version": "1.5.0",
       "_view_name": "HTMLView",
       "description": "",
       "description_tooltip": null,
       "layout": "IPY_MODEL_817c2bc6108e46c193e42942ccaa3285",
       "placeholder": "​",
       "style": "IPY_MODEL_5ee04dd024564499898af5310b2c4339",
       "value": "special_tokens_map.json: 100%"
      }
     },
     "2c30eaeb10e44451b42f4fc9bdde2a92": {
      "model_module": "@jupyter-widgets/controls",
      "model_module_version": "1.5.0",
      "model_name": "HTMLModel",
      "state": {
       "_dom_classes": [],
       "_model_module": "@jupyter-widgets/controls",
       "_model_module_version": "1.5.0",
       "_model_name": "HTMLModel",
       "_view_count": null,
       "_view_module": "@jupyter-widgets/controls",
       "_view_module_version": "1.5.0",
       "_view_name": "HTMLView",
       "description": "",
       "description_tooltip": null,
       "layout": "IPY_MODEL_b941f3e0e70440969df09fb28f0afb7e",
       "placeholder": "​",
       "style": "IPY_MODEL_f8c8122c1dd3443d950f836a18efa74d",
       "value": " 836k/836k [00:00&lt;00:00, 11.0MB/s]"
      }
     },
     "2c6601618701480f9cf2b8bd5ed75fec": {
      "model_module": "@jupyter-widgets/controls",
      "model_module_version": "1.5.0",
      "model_name": "ProgressStyleModel",
      "state": {
       "_model_module": "@jupyter-widgets/controls",
       "_model_module_version": "1.5.0",
       "_model_name": "ProgressStyleModel",
       "_view_count": null,
       "_view_module": "@jupyter-widgets/base",
       "_view_module_version": "1.2.0",
       "_view_name": "StyleView",
       "bar_color": null,
       "description_width": ""
      }
     },
     "2cbd4afce0ce4371836d00578093492d": {
      "model_module": "@jupyter-widgets/base",
      "model_module_version": "1.2.0",
      "model_name": "LayoutModel",
      "state": {
       "_model_module": "@jupyter-widgets/base",
       "_model_module_version": "1.2.0",
       "_model_name": "LayoutModel",
       "_view_count": null,
       "_view_module": "@jupyter-widgets/base",
       "_view_module_version": "1.2.0",
       "_view_name": "LayoutView",
       "align_content": null,
       "align_items": null,
       "align_self": null,
       "border": null,
       "bottom": null,
       "display": null,
       "flex": null,
       "flex_flow": null,
       "grid_area": null,
       "grid_auto_columns": null,
       "grid_auto_flow": null,
       "grid_auto_rows": null,
       "grid_column": null,
       "grid_gap": null,
       "grid_row": null,
       "grid_template_areas": null,
       "grid_template_columns": null,
       "grid_template_rows": null,
       "height": null,
       "justify_content": null,
       "justify_items": null,
       "left": null,
       "margin": null,
       "max_height": null,
       "max_width": null,
       "min_height": null,
       "min_width": null,
       "object_fit": null,
       "object_position": null,
       "order": null,
       "overflow": null,
       "overflow_x": null,
       "overflow_y": null,
       "padding": null,
       "right": null,
       "top": null,
       "visibility": null,
       "width": null
      }
     },
     "2e336a000de44942a1f1c3cb89c89fdb": {
      "model_module": "@jupyter-widgets/base",
      "model_module_version": "1.2.0",
      "model_name": "LayoutModel",
      "state": {
       "_model_module": "@jupyter-widgets/base",
       "_model_module_version": "1.2.0",
       "_model_name": "LayoutModel",
       "_view_count": null,
       "_view_module": "@jupyter-widgets/base",
       "_view_module_version": "1.2.0",
       "_view_name": "LayoutView",
       "align_content": null,
       "align_items": null,
       "align_self": null,
       "border": null,
       "bottom": null,
       "display": null,
       "flex": null,
       "flex_flow": null,
       "grid_area": null,
       "grid_auto_columns": null,
       "grid_auto_flow": null,
       "grid_auto_rows": null,
       "grid_column": null,
       "grid_gap": null,
       "grid_row": null,
       "grid_template_areas": null,
       "grid_template_columns": null,
       "grid_template_rows": null,
       "height": null,
       "justify_content": null,
       "justify_items": null,
       "left": null,
       "margin": null,
       "max_height": null,
       "max_width": null,
       "min_height": null,
       "min_width": null,
       "object_fit": null,
       "object_position": null,
       "order": null,
       "overflow": null,
       "overflow_x": null,
       "overflow_y": null,
       "padding": null,
       "right": null,
       "top": null,
       "visibility": null,
       "width": null
      }
     },
     "2eb8d2a0758f4f92aaf88036afb50b07": {
      "model_module": "@jupyter-widgets/controls",
      "model_module_version": "1.5.0",
      "model_name": "HTMLModel",
      "state": {
       "_dom_classes": [],
       "_model_module": "@jupyter-widgets/controls",
       "_model_module_version": "1.5.0",
       "_model_name": "HTMLModel",
       "_view_count": null,
       "_view_module": "@jupyter-widgets/controls",
       "_view_module_version": "1.5.0",
       "_view_name": "HTMLView",
       "description": "",
       "description_tooltip": null,
       "layout": "IPY_MODEL_993e1349733f4dfcb03e17977ffef48e",
       "placeholder": "​",
       "style": "IPY_MODEL_32a838857d164c55a971b01232e7cde0",
       "value": "vocab.json: 100%"
      }
     },
     "32a838857d164c55a971b01232e7cde0": {
      "model_module": "@jupyter-widgets/controls",
      "model_module_version": "1.5.0",
      "model_name": "DescriptionStyleModel",
      "state": {
       "_model_module": "@jupyter-widgets/controls",
       "_model_module_version": "1.5.0",
       "_model_name": "DescriptionStyleModel",
       "_view_count": null,
       "_view_module": "@jupyter-widgets/base",
       "_view_module_version": "1.2.0",
       "_view_name": "StyleView",
       "description_width": ""
      }
     },
     "385fc86623424690acb6decf261ce6b5": {
      "model_module": "@jupyter-widgets/controls",
      "model_module_version": "1.5.0",
      "model_name": "FloatProgressModel",
      "state": {
       "_dom_classes": [],
       "_model_module": "@jupyter-widgets/controls",
       "_model_module_version": "1.5.0",
       "_model_name": "FloatProgressModel",
       "_view_count": null,
       "_view_module": "@jupyter-widgets/controls",
       "_view_module_version": "1.5.0",
       "_view_name": "ProgressView",
       "bar_style": "success",
       "description": "",
       "description_tooltip": null,
       "layout": "IPY_MODEL_d75e16f2f6924a599078a84f0649330c",
       "max": 493869.0,
       "min": 0.0,
       "orientation": "horizontal",
       "style": "IPY_MODEL_9306158108684942a1131d6ad90f5b09",
       "value": 493869.0
      }
     },
     "3907211abe0644afa0d8a8b854c6ea05": {
      "model_module": "@jupyter-widgets/base",
      "model_module_version": "1.2.0",
      "model_name": "LayoutModel",
      "state": {
       "_model_module": "@jupyter-widgets/base",
       "_model_module_version": "1.2.0",
       "_model_name": "LayoutModel",
       "_view_count": null,
       "_view_module": "@jupyter-widgets/base",
       "_view_module_version": "1.2.0",
       "_view_name": "LayoutView",
       "align_content": null,
       "align_items": null,
       "align_self": null,
       "border": null,
       "bottom": null,
       "display": null,
       "flex": null,
       "flex_flow": null,
       "grid_area": null,
       "grid_auto_columns": null,
       "grid_auto_flow": null,
       "grid_auto_rows": null,
       "grid_column": null,
       "grid_gap": null,
       "grid_row": null,
       "grid_template_areas": null,
       "grid_template_columns": null,
       "grid_template_rows": null,
       "height": null,
       "justify_content": null,
       "justify_items": null,
       "left": null,
       "margin": null,
       "max_height": null,
       "max_width": null,
       "min_height": null,
       "min_width": null,
       "object_fit": null,
       "object_position": null,
       "order": null,
       "overflow": null,
       "overflow_x": null,
       "overflow_y": null,
       "padding": null,
       "right": null,
       "top": null,
       "visibility": null,
       "width": null
      }
     },
     "391a24a3a8c94507a220d791474e50bb": {
      "model_module": "@jupyter-widgets/base",
      "model_module_version": "1.2.0",
      "model_name": "LayoutModel",
      "state": {
       "_model_module": "@jupyter-widgets/base",
       "_model_module_version": "1.2.0",
       "_model_name": "LayoutModel",
       "_view_count": null,
       "_view_module": "@jupyter-widgets/base",
       "_view_module_version": "1.2.0",
       "_view_name": "LayoutView",
       "align_content": null,
       "align_items": null,
       "align_self": null,
       "border": null,
       "bottom": null,
       "display": null,
       "flex": null,
       "flex_flow": null,
       "grid_area": null,
       "grid_auto_columns": null,
       "grid_auto_flow": null,
       "grid_auto_rows": null,
       "grid_column": null,
       "grid_gap": null,
       "grid_row": null,
       "grid_template_areas": null,
       "grid_template_columns": null,
       "grid_template_rows": null,
       "height": null,
       "justify_content": null,
       "justify_items": null,
       "left": null,
       "margin": null,
       "max_height": null,
       "max_width": null,
       "min_height": null,
       "min_width": null,
       "object_fit": null,
       "object_position": null,
       "order": null,
       "overflow": null,
       "overflow_x": null,
       "overflow_y": null,
       "padding": null,
       "right": null,
       "top": null,
       "visibility": null,
       "width": null
      }
     },
     "39cff94bd051407d88765e8fb621f27e": {
      "model_module": "@jupyter-widgets/base",
      "model_module_version": "1.2.0",
      "model_name": "LayoutModel",
      "state": {
       "_model_module": "@jupyter-widgets/base",
       "_model_module_version": "1.2.0",
       "_model_name": "LayoutModel",
       "_view_count": null,
       "_view_module": "@jupyter-widgets/base",
       "_view_module_version": "1.2.0",
       "_view_name": "LayoutView",
       "align_content": null,
       "align_items": null,
       "align_self": null,
       "border": null,
       "bottom": null,
       "display": null,
       "flex": null,
       "flex_flow": null,
       "grid_area": null,
       "grid_auto_columns": null,
       "grid_auto_flow": null,
       "grid_auto_rows": null,
       "grid_column": null,
       "grid_gap": null,
       "grid_row": null,
       "grid_template_areas": null,
       "grid_template_columns": null,
       "grid_template_rows": null,
       "height": null,
       "justify_content": null,
       "justify_items": null,
       "left": null,
       "margin": null,
       "max_height": null,
       "max_width": null,
       "min_height": null,
       "min_width": null,
       "object_fit": null,
       "object_position": null,
       "order": null,
       "overflow": null,
       "overflow_x": null,
       "overflow_y": null,
       "padding": null,
       "right": null,
       "top": null,
       "visibility": null,
       "width": null
      }
     },
     "3a8cb48bee284529ac4a0da54254c638": {
      "model_module": "@jupyter-widgets/controls",
      "model_module_version": "1.5.0",
      "model_name": "DescriptionStyleModel",
      "state": {
       "_model_module": "@jupyter-widgets/controls",
       "_model_module_version": "1.5.0",
       "_model_name": "DescriptionStyleModel",
       "_view_count": null,
       "_view_module": "@jupyter-widgets/base",
       "_view_module_version": "1.2.0",
       "_view_name": "StyleView",
       "description_width": ""
      }
     },
     "3f6404002d04459e8d4793dfb4e249fa": {
      "model_module": "@jupyter-widgets/base",
      "model_module_version": "1.2.0",
      "model_name": "LayoutModel",
      "state": {
       "_model_module": "@jupyter-widgets/base",
       "_model_module_version": "1.2.0",
       "_model_name": "LayoutModel",
       "_view_count": null,
       "_view_module": "@jupyter-widgets/base",
       "_view_module_version": "1.2.0",
       "_view_name": "LayoutView",
       "align_content": null,
       "align_items": null,
       "align_self": null,
       "border": null,
       "bottom": null,
       "display": null,
       "flex": null,
       "flex_flow": null,
       "grid_area": null,
       "grid_auto_columns": null,
       "grid_auto_flow": null,
       "grid_auto_rows": null,
       "grid_column": null,
       "grid_gap": null,
       "grid_row": null,
       "grid_template_areas": null,
       "grid_template_columns": null,
       "grid_template_rows": null,
       "height": null,
       "justify_content": null,
       "justify_items": null,
       "left": null,
       "margin": null,
       "max_height": null,
       "max_width": null,
       "min_height": null,
       "min_width": null,
       "object_fit": null,
       "object_position": null,
       "order": null,
       "overflow": null,
       "overflow_x": null,
       "overflow_y": null,
       "padding": null,
       "right": null,
       "top": null,
       "visibility": null,
       "width": null
      }
     },
     "3f7ff2e21c044f1d9f08b78565ac5be0": {
      "model_module": "@jupyter-widgets/controls",
      "model_module_version": "1.5.0",
      "model_name": "HTMLModel",
      "state": {
       "_dom_classes": [],
       "_model_module": "@jupyter-widgets/controls",
       "_model_module_version": "1.5.0",
       "_model_name": "HTMLModel",
       "_view_count": null,
       "_view_module": "@jupyter-widgets/controls",
       "_view_module_version": "1.5.0",
       "_view_name": "HTMLView",
       "description": "",
       "description_tooltip": null,
       "layout": "IPY_MODEL_ddbb9767da79432089f6921df448c752",
       "placeholder": "​",
       "style": "IPY_MODEL_5c63a3169f7849869526368758d73df4",
       "value": "normalizer.json: 100%"
      }
     },
     "4af501d1f8024a18a3e7ad4483f6278a": {
      "model_module": "@jupyter-widgets/controls",
      "model_module_version": "1.5.0",
      "model_name": "ProgressStyleModel",
      "state": {
       "_model_module": "@jupyter-widgets/controls",
       "_model_module_version": "1.5.0",
       "_model_name": "ProgressStyleModel",
       "_view_count": null,
       "_view_module": "@jupyter-widgets/base",
       "_view_module_version": "1.2.0",
       "_view_name": "StyleView",
       "bar_color": null,
       "description_width": ""
      }
     },
     "4bce9c9c0db94f23b8aa1eea49ebb5b1": {
      "model_module": "@jupyter-widgets/controls",
      "model_module_version": "1.5.0",
      "model_name": "HTMLModel",
      "state": {
       "_dom_classes": [],
       "_model_module": "@jupyter-widgets/controls",
       "_model_module_version": "1.5.0",
       "_model_name": "HTMLModel",
       "_view_count": null,
       "_view_module": "@jupyter-widgets/controls",
       "_view_module_version": "1.5.0",
       "_view_name": "HTMLView",
       "description": "",
       "description_tooltip": null,
       "layout": "IPY_MODEL_861806f6aed9430ea4c47a6a1e38c92c",
       "placeholder": "​",
       "style": "IPY_MODEL_6feb3085a07d46328896fd830aaa3032",
       "value": "config.json: 100%"
      }
     },
     "4dd78507519c412d8ff5dfe03e09fa6c": {
      "model_module": "@jupyter-widgets/base",
      "model_module_version": "1.2.0",
      "model_name": "LayoutModel",
      "state": {
       "_model_module": "@jupyter-widgets/base",
       "_model_module_version": "1.2.0",
       "_model_name": "LayoutModel",
       "_view_count": null,
       "_view_module": "@jupyter-widgets/base",
       "_view_module_version": "1.2.0",
       "_view_name": "LayoutView",
       "align_content": null,
       "align_items": null,
       "align_self": null,
       "border": null,
       "bottom": null,
       "display": null,
       "flex": null,
       "flex_flow": null,
       "grid_area": null,
       "grid_auto_columns": null,
       "grid_auto_flow": null,
       "grid_auto_rows": null,
       "grid_column": null,
       "grid_gap": null,
       "grid_row": null,
       "grid_template_areas": null,
       "grid_template_columns": null,
       "grid_template_rows": null,
       "height": null,
       "justify_content": null,
       "justify_items": null,
       "left": null,
       "margin": null,
       "max_height": null,
       "max_width": null,
       "min_height": null,
       "min_width": null,
       "object_fit": null,
       "object_position": null,
       "order": null,
       "overflow": null,
       "overflow_x": null,
       "overflow_y": null,
       "padding": null,
       "right": null,
       "top": null,
       "visibility": null,
       "width": null
      }
     },
     "4fff3424328c4718a2107bffaaf267c5": {
      "model_module": "@jupyter-widgets/controls",
      "model_module_version": "1.5.0",
      "model_name": "HTMLModel",
      "state": {
       "_dom_classes": [],
       "_model_module": "@jupyter-widgets/controls",
       "_model_module_version": "1.5.0",
       "_model_name": "HTMLModel",
       "_view_count": null,
       "_view_module": "@jupyter-widgets/controls",
       "_view_module_version": "1.5.0",
       "_view_name": "HTMLView",
       "description": "",
       "description_tooltip": null,
       "layout": "IPY_MODEL_0eb9007ed1ce44669648ae7d46d8d6e4",
       "placeholder": "​",
       "style": "IPY_MODEL_3a8cb48bee284529ac4a0da54254c638",
       "value": " 3.87k/3.87k [00:00&lt;00:00, 319kB/s]"
      }
     },
     "50d49f5a1a114c039ea06c0915355de2": {
      "model_module": "@jupyter-widgets/controls",
      "model_module_version": "1.5.0",
      "model_name": "HBoxModel",
      "state": {
       "_dom_classes": [],
       "_model_module": "@jupyter-widgets/controls",
       "_model_module_version": "1.5.0",
       "_model_name": "HBoxModel",
       "_view_count": null,
       "_view_module": "@jupyter-widgets/controls",
       "_view_module_version": "1.5.0",
       "_view_name": "HBoxView",
       "box_style": "",
       "children": [
        "IPY_MODEL_2c0def6159314e43acdb898916e3633d",
        "IPY_MODEL_7ef1eba48bb9465d8a2d7ff20d7959f5",
        "IPY_MODEL_1149c4ef669a4d689cf23cfb22377a4c"
       ],
       "layout": "IPY_MODEL_5a50386d6d2347f98efbd7e6110e85ce"
      }
     },
     "56f73a0aa826401bb3f021cd82d5350b": {
      "model_module": "@jupyter-widgets/controls",
      "model_module_version": "1.5.0",
      "model_name": "FloatProgressModel",
      "state": {
       "_dom_classes": [],
       "_model_module": "@jupyter-widgets/controls",
       "_model_module_version": "1.5.0",
       "_model_name": "FloatProgressModel",
       "_view_count": null,
       "_view_module": "@jupyter-widgets/controls",
       "_view_module_version": "1.5.0",
       "_view_name": "ProgressView",
       "bar_style": "success",
       "description": "",
       "description_tooltip": null,
       "layout": "IPY_MODEL_0b0f94a11e6248c083efa0f7c8f6a5f1",
       "max": 2480466.0,
       "min": 0.0,
       "orientation": "horizontal",
       "style": "IPY_MODEL_7886993a29934fd6b3a970d9099e7a3e",
       "value": 2480466.0
      }
     },
     "575eb744ebfa42ff949d675e9b67e7da": {
      "model_module": "@jupyter-widgets/base",
      "model_module_version": "1.2.0",
      "model_name": "LayoutModel",
      "state": {
       "_model_module": "@jupyter-widgets/base",
       "_model_module_version": "1.2.0",
       "_model_name": "LayoutModel",
       "_view_count": null,
       "_view_module": "@jupyter-widgets/base",
       "_view_module_version": "1.2.0",
       "_view_name": "LayoutView",
       "align_content": null,
       "align_items": null,
       "align_self": null,
       "border": null,
       "bottom": null,
       "display": null,
       "flex": null,
       "flex_flow": null,
       "grid_area": null,
       "grid_auto_columns": null,
       "grid_auto_flow": null,
       "grid_auto_rows": null,
       "grid_column": null,
       "grid_gap": null,
       "grid_row": null,
       "grid_template_areas": null,
       "grid_template_columns": null,
       "grid_template_rows": null,
       "height": null,
       "justify_content": null,
       "justify_items": null,
       "left": null,
       "margin": null,
       "max_height": null,
       "max_width": null,
       "min_height": null,
       "min_width": null,
       "object_fit": null,
       "object_position": null,
       "order": null,
       "overflow": null,
       "overflow_x": null,
       "overflow_y": null,
       "padding": null,
       "right": null,
       "top": null,
       "visibility": null,
       "width": null
      }
     },
     "5a50386d6d2347f98efbd7e6110e85ce": {
      "model_module": "@jupyter-widgets/base",
      "model_module_version": "1.2.0",
      "model_name": "LayoutModel",
      "state": {
       "_model_module": "@jupyter-widgets/base",
       "_model_module_version": "1.2.0",
       "_model_name": "LayoutModel",
       "_view_count": null,
       "_view_module": "@jupyter-widgets/base",
       "_view_module_version": "1.2.0",
       "_view_name": "LayoutView",
       "align_content": null,
       "align_items": null,
       "align_self": null,
       "border": null,
       "bottom": null,
       "display": null,
       "flex": null,
       "flex_flow": null,
       "grid_area": null,
       "grid_auto_columns": null,
       "grid_auto_flow": null,
       "grid_auto_rows": null,
       "grid_column": null,
       "grid_gap": null,
       "grid_row": null,
       "grid_template_areas": null,
       "grid_template_columns": null,
       "grid_template_rows": null,
       "height": null,
       "justify_content": null,
       "justify_items": null,
       "left": null,
       "margin": null,
       "max_height": null,
       "max_width": null,
       "min_height": null,
       "min_width": null,
       "object_fit": null,
       "object_position": null,
       "order": null,
       "overflow": null,
       "overflow_x": null,
       "overflow_y": null,
       "padding": null,
       "right": null,
       "top": null,
       "visibility": null,
       "width": null
      }
     },
     "5a71cf8d615543e7b18a160933a7c11c": {
      "model_module": "@jupyter-widgets/base",
      "model_module_version": "1.2.0",
      "model_name": "LayoutModel",
      "state": {
       "_model_module": "@jupyter-widgets/base",
       "_model_module_version": "1.2.0",
       "_model_name": "LayoutModel",
       "_view_count": null,
       "_view_module": "@jupyter-widgets/base",
       "_view_module_version": "1.2.0",
       "_view_name": "LayoutView",
       "align_content": null,
       "align_items": null,
       "align_self": null,
       "border": null,
       "bottom": null,
       "display": null,
       "flex": null,
       "flex_flow": null,
       "grid_area": null,
       "grid_auto_columns": null,
       "grid_auto_flow": null,
       "grid_auto_rows": null,
       "grid_column": null,
       "grid_gap": null,
       "grid_row": null,
       "grid_template_areas": null,
       "grid_template_columns": null,
       "grid_template_rows": null,
       "height": null,
       "justify_content": null,
       "justify_items": null,
       "left": null,
       "margin": null,
       "max_height": null,
       "max_width": null,
       "min_height": null,
       "min_width": null,
       "object_fit": null,
       "object_position": null,
       "order": null,
       "overflow": null,
       "overflow_x": null,
       "overflow_y": null,
       "padding": null,
       "right": null,
       "top": null,
       "visibility": null,
       "width": null
      }
     },
     "5ae84262d1e347778d51eaed45c206df": {
      "model_module": "@jupyter-widgets/controls",
      "model_module_version": "1.5.0",
      "model_name": "DescriptionStyleModel",
      "state": {
       "_model_module": "@jupyter-widgets/controls",
       "_model_module_version": "1.5.0",
       "_model_name": "DescriptionStyleModel",
       "_view_count": null,
       "_view_module": "@jupyter-widgets/base",
       "_view_module_version": "1.2.0",
       "_view_name": "StyleView",
       "description_width": ""
      }
     },
     "5c63a3169f7849869526368758d73df4": {
      "model_module": "@jupyter-widgets/controls",
      "model_module_version": "1.5.0",
      "model_name": "DescriptionStyleModel",
      "state": {
       "_model_module": "@jupyter-widgets/controls",
       "_model_module_version": "1.5.0",
       "_model_name": "DescriptionStyleModel",
       "_view_count": null,
       "_view_module": "@jupyter-widgets/base",
       "_view_module_version": "1.2.0",
       "_view_name": "StyleView",
       "description_width": ""
      }
     },
     "5c99939bc96f4d89905d7bed779643b5": {
      "model_module": "@jupyter-widgets/controls",
      "model_module_version": "1.5.0",
      "model_name": "ProgressStyleModel",
      "state": {
       "_model_module": "@jupyter-widgets/controls",
       "_model_module_version": "1.5.0",
       "_model_name": "ProgressStyleModel",
       "_view_count": null,
       "_view_module": "@jupyter-widgets/base",
       "_view_module_version": "1.2.0",
       "_view_name": "StyleView",
       "bar_color": null,
       "description_width": ""
      }
     },
     "5c9f05c6ec85422ba7b8df4d4a788ef3": {
      "model_module": "@jupyter-widgets/controls",
      "model_module_version": "1.5.0",
      "model_name": "HBoxModel",
      "state": {
       "_dom_classes": [],
       "_model_module": "@jupyter-widgets/controls",
       "_model_module_version": "1.5.0",
       "_model_name": "HBoxModel",
       "_view_count": null,
       "_view_module": "@jupyter-widgets/controls",
       "_view_module_version": "1.5.0",
       "_view_name": "HBoxView",
       "box_style": "",
       "children": [
        "IPY_MODEL_2eb8d2a0758f4f92aaf88036afb50b07",
        "IPY_MODEL_f334b53510ec4b31afc56aba6c42f368",
        "IPY_MODEL_2c30eaeb10e44451b42f4fc9bdde2a92"
       ],
       "layout": "IPY_MODEL_e3828fbce8f545368a8ce2af02b7b1c9"
      }
     },
     "5dbf598d2d344e0fbd8a3e67d5dfdaab": {
      "model_module": "@jupyter-widgets/controls",
      "model_module_version": "1.5.0",
      "model_name": "HTMLModel",
      "state": {
       "_dom_classes": [],
       "_model_module": "@jupyter-widgets/controls",
       "_model_module_version": "1.5.0",
       "_model_name": "HTMLModel",
       "_view_count": null,
       "_view_module": "@jupyter-widgets/controls",
       "_view_module_version": "1.5.0",
       "_view_name": "HTMLView",
       "description": "",
       "description_tooltip": null,
       "layout": "IPY_MODEL_fe687f8cf52e48b38f882561399dcb11",
       "placeholder": "​",
       "style": "IPY_MODEL_ce563e1970604346b65f3ea0c2faecbc",
       "value": "tokenizer.json: 100%"
      }
     },
     "5ee04dd024564499898af5310b2c4339": {
      "model_module": "@jupyter-widgets/controls",
      "model_module_version": "1.5.0",
      "model_name": "DescriptionStyleModel",
      "state": {
       "_model_module": "@jupyter-widgets/controls",
       "_model_module_version": "1.5.0",
       "_model_name": "DescriptionStyleModel",
       "_view_count": null,
       "_view_module": "@jupyter-widgets/base",
       "_view_module_version": "1.2.0",
       "_view_name": "StyleView",
       "description_width": ""
      }
     },
     "66bbdbb11a134395877b0a9e018ad8d7": {
      "model_module": "@jupyter-widgets/controls",
      "model_module_version": "1.5.0",
      "model_name": "HTMLModel",
      "state": {
       "_dom_classes": [],
       "_model_module": "@jupyter-widgets/controls",
       "_model_module_version": "1.5.0",
       "_model_name": "HTMLModel",
       "_view_count": null,
       "_view_module": "@jupyter-widgets/controls",
       "_view_module_version": "1.5.0",
       "_view_name": "HTMLView",
       "description": "",
       "description_tooltip": null,
       "layout": "IPY_MODEL_097e246fce7e4904aca477bdda275cce",
       "placeholder": "​",
       "style": "IPY_MODEL_a23d86f9a67241caa3eb927c6d582d8c",
       "value": "generation_config.json: 100%"
      }
     },
     "6acbbf9b21e44281ab98f1a9330a7e57": {
      "model_module": "@jupyter-widgets/base",
      "model_module_version": "1.2.0",
      "model_name": "LayoutModel",
      "state": {
       "_model_module": "@jupyter-widgets/base",
       "_model_module_version": "1.2.0",
       "_model_name": "LayoutModel",
       "_view_count": null,
       "_view_module": "@jupyter-widgets/base",
       "_view_module_version": "1.2.0",
       "_view_name": "LayoutView",
       "align_content": null,
       "align_items": null,
       "align_self": null,
       "border": null,
       "bottom": null,
       "display": null,
       "flex": null,
       "flex_flow": null,
       "grid_area": null,
       "grid_auto_columns": null,
       "grid_auto_flow": null,
       "grid_auto_rows": null,
       "grid_column": null,
       "grid_gap": null,
       "grid_row": null,
       "grid_template_areas": null,
       "grid_template_columns": null,
       "grid_template_rows": null,
       "height": null,
       "justify_content": null,
       "justify_items": null,
       "left": null,
       "margin": null,
       "max_height": null,
       "max_width": null,
       "min_height": null,
       "min_width": null,
       "object_fit": null,
       "object_position": null,
       "order": null,
       "overflow": null,
       "overflow_x": null,
       "overflow_y": null,
       "padding": null,
       "right": null,
       "top": null,
       "visibility": null,
       "width": null
      }
     },
     "6c26221a63084981b32b226cd2a12a4f": {
      "model_module": "@jupyter-widgets/controls",
      "model_module_version": "1.5.0",
      "model_name": "FloatProgressModel",
      "state": {
       "_dom_classes": [],
       "_model_module": "@jupyter-widgets/controls",
       "_model_module_version": "1.5.0",
       "_model_name": "FloatProgressModel",
       "_view_count": null,
       "_view_module": "@jupyter-widgets/controls",
       "_view_module_version": "1.5.0",
       "_view_name": "ProgressView",
       "bar_style": "success",
       "description": "",
       "description_tooltip": null,
       "layout": "IPY_MODEL_bcb366e46e98473cbf53e83314525837",
       "max": 282683.0,
       "min": 0.0,
       "orientation": "horizontal",
       "style": "IPY_MODEL_7de8dbbd66f14085b6f4f15f03f5394d",
       "value": 282683.0
      }
     },
     "6ea8350bc9d14e479669770b3291d300": {
      "model_module": "@jupyter-widgets/controls",
      "model_module_version": "1.5.0",
      "model_name": "HTMLModel",
      "state": {
       "_dom_classes": [],
       "_model_module": "@jupyter-widgets/controls",
       "_model_module_version": "1.5.0",
       "_model_name": "HTMLModel",
       "_view_count": null,
       "_view_module": "@jupyter-widgets/controls",
       "_view_module_version": "1.5.0",
       "_view_name": "HTMLView",
       "description": "",
       "description_tooltip": null,
       "layout": "IPY_MODEL_dfd09196de5544a9ba185caf4bdcbd9c",
       "placeholder": "​",
       "style": "IPY_MODEL_efaa57d342134172be7d5a0d124e74d3",
       "value": "merges.txt: 100%"
      }
     },
     "6feb3085a07d46328896fd830aaa3032": {
      "model_module": "@jupyter-widgets/controls",
      "model_module_version": "1.5.0",
      "model_name": "DescriptionStyleModel",
      "state": {
       "_model_module": "@jupyter-widgets/controls",
       "_model_module_version": "1.5.0",
       "_model_name": "DescriptionStyleModel",
       "_view_count": null,
       "_view_module": "@jupyter-widgets/base",
       "_view_module_version": "1.2.0",
       "_view_name": "StyleView",
       "description_width": ""
      }
     },
     "74de5d9fade44767afa74f8f808d571c": {
      "model_module": "@jupyter-widgets/controls",
      "model_module_version": "1.5.0",
      "model_name": "DescriptionStyleModel",
      "state": {
       "_model_module": "@jupyter-widgets/controls",
       "_model_module_version": "1.5.0",
       "_model_name": "DescriptionStyleModel",
       "_view_count": null,
       "_view_module": "@jupyter-widgets/base",
       "_view_module_version": "1.2.0",
       "_view_name": "StyleView",
       "description_width": ""
      }
     },
     "77473b423b664cccbcef084656cac7c1": {
      "model_module": "@jupyter-widgets/controls",
      "model_module_version": "1.5.0",
      "model_name": "HTMLModel",
      "state": {
       "_dom_classes": [],
       "_model_module": "@jupyter-widgets/controls",
       "_model_module_version": "1.5.0",
       "_model_name": "HTMLModel",
       "_view_count": null,
       "_view_module": "@jupyter-widgets/controls",
       "_view_module_version": "1.5.0",
       "_view_name": "HTMLView",
       "description": "",
       "description_tooltip": null,
       "layout": "IPY_MODEL_c484cbc3b6d349c4904aa9fbbeb60ded",
       "placeholder": "​",
       "style": "IPY_MODEL_9d53cce3edfc4413bd9d130031f15478",
       "value": " 52.7k/52.7k [00:00&lt;00:00, 4.02MB/s]"
      }
     },
     "7886993a29934fd6b3a970d9099e7a3e": {
      "model_module": "@jupyter-widgets/controls",
      "model_module_version": "1.5.0",
      "model_name": "ProgressStyleModel",
      "state": {
       "_model_module": "@jupyter-widgets/controls",
       "_model_module_version": "1.5.0",
       "_model_name": "ProgressStyleModel",
       "_view_count": null,
       "_view_module": "@jupyter-widgets/base",
       "_view_module_version": "1.2.0",
       "_view_name": "StyleView",
       "bar_color": null,
       "description_width": ""
      }
     },
     "78bb49b05c974af9aa617e03f7c16197": {
      "model_module": "@jupyter-widgets/controls",
      "model_module_version": "1.5.0",
      "model_name": "ProgressStyleModel",
      "state": {
       "_model_module": "@jupyter-widgets/controls",
       "_model_module_version": "1.5.0",
       "_model_name": "ProgressStyleModel",
       "_view_count": null,
       "_view_module": "@jupyter-widgets/base",
       "_view_module_version": "1.2.0",
       "_view_name": "StyleView",
       "bar_color": null,
       "description_width": ""
      }
     },
     "7de8dbbd66f14085b6f4f15f03f5394d": {
      "model_module": "@jupyter-widgets/controls",
      "model_module_version": "1.5.0",
      "model_name": "ProgressStyleModel",
      "state": {
       "_model_module": "@jupyter-widgets/controls",
       "_model_module_version": "1.5.0",
       "_model_name": "ProgressStyleModel",
       "_view_count": null,
       "_view_module": "@jupyter-widgets/base",
       "_view_module_version": "1.2.0",
       "_view_name": "StyleView",
       "bar_color": null,
       "description_width": ""
      }
     },
     "7ef1eba48bb9465d8a2d7ff20d7959f5": {
      "model_module": "@jupyter-widgets/controls",
      "model_module_version": "1.5.0",
      "model_name": "FloatProgressModel",
      "state": {
       "_dom_classes": [],
       "_model_module": "@jupyter-widgets/controls",
       "_model_module_version": "1.5.0",
       "_model_name": "FloatProgressModel",
       "_view_count": null,
       "_view_module": "@jupyter-widgets/controls",
       "_view_module_version": "1.5.0",
       "_view_name": "ProgressView",
       "bar_style": "success",
       "description": "",
       "description_tooltip": null,
       "layout": "IPY_MODEL_c375a7e0fe9c4dfbb156e3e2d3d8597c",
       "max": 2194.0,
       "min": 0.0,
       "orientation": "horizontal",
       "style": "IPY_MODEL_78bb49b05c974af9aa617e03f7c16197",
       "value": 2194.0
      }
     },
     "81556382681c4876b3292a0c3e965398": {
      "model_module": "@jupyter-widgets/base",
      "model_module_version": "1.2.0",
      "model_name": "LayoutModel",
      "state": {
       "_model_module": "@jupyter-widgets/base",
       "_model_module_version": "1.2.0",
       "_model_name": "LayoutModel",
       "_view_count": null,
       "_view_module": "@jupyter-widgets/base",
       "_view_module_version": "1.2.0",
       "_view_name": "LayoutView",
       "align_content": null,
       "align_items": null,
       "align_self": null,
       "border": null,
       "bottom": null,
       "display": null,
       "flex": null,
       "flex_flow": null,
       "grid_area": null,
       "grid_auto_columns": null,
       "grid_auto_flow": null,
       "grid_auto_rows": null,
       "grid_column": null,
       "grid_gap": null,
       "grid_row": null,
       "grid_template_areas": null,
       "grid_template_columns": null,
       "grid_template_rows": null,
       "height": null,
       "justify_content": null,
       "justify_items": null,
       "left": null,
       "margin": null,
       "max_height": null,
       "max_width": null,
       "min_height": null,
       "min_width": null,
       "object_fit": null,
       "object_position": null,
       "order": null,
       "overflow": null,
       "overflow_x": null,
       "overflow_y": null,
       "padding": null,
       "right": null,
       "top": null,
       "visibility": null,
       "width": null
      }
     },
     "817c2bc6108e46c193e42942ccaa3285": {
      "model_module": "@jupyter-widgets/base",
      "model_module_version": "1.2.0",
      "model_name": "LayoutModel",
      "state": {
       "_model_module": "@jupyter-widgets/base",
       "_model_module_version": "1.2.0",
       "_model_name": "LayoutModel",
       "_view_count": null,
       "_view_module": "@jupyter-widgets/base",
       "_view_module_version": "1.2.0",
       "_view_name": "LayoutView",
       "align_content": null,
       "align_items": null,
       "align_self": null,
       "border": null,
       "bottom": null,
       "display": null,
       "flex": null,
       "flex_flow": null,
       "grid_area": null,
       "grid_auto_columns": null,
       "grid_auto_flow": null,
       "grid_auto_rows": null,
       "grid_column": null,
       "grid_gap": null,
       "grid_row": null,
       "grid_template_areas": null,
       "grid_template_columns": null,
       "grid_template_rows": null,
       "height": null,
       "justify_content": null,
       "justify_items": null,
       "left": null,
       "margin": null,
       "max_height": null,
       "max_width": null,
       "min_height": null,
       "min_width": null,
       "object_fit": null,
       "object_position": null,
       "order": null,
       "overflow": null,
       "overflow_x": null,
       "overflow_y": null,
       "padding": null,
       "right": null,
       "top": null,
       "visibility": null,
       "width": null
      }
     },
     "837b1ef8845a44ea9bea18a1a324bcad": {
      "model_module": "@jupyter-widgets/controls",
      "model_module_version": "1.5.0",
      "model_name": "HTMLModel",
      "state": {
       "_dom_classes": [],
       "_model_module": "@jupyter-widgets/controls",
       "_model_module_version": "1.5.0",
       "_model_name": "HTMLModel",
       "_view_count": null,
       "_view_module": "@jupyter-widgets/controls",
       "_view_module_version": "1.5.0",
       "_view_name": "HTMLView",
       "description": "",
       "description_tooltip": null,
       "layout": "IPY_MODEL_2cbd4afce0ce4371836d00578093492d",
       "placeholder": "​",
       "style": "IPY_MODEL_f716248cf5654f05a1140126207c918c",
       "value": " 1.97k/1.97k [00:00&lt;00:00, 164kB/s]"
      }
     },
     "83f1578cbb6a49e2952c43ef31ec6bf9": {
      "model_module": "@jupyter-widgets/controls",
      "model_module_version": "1.5.0",
      "model_name": "ProgressStyleModel",
      "state": {
       "_model_module": "@jupyter-widgets/controls",
       "_model_module_version": "1.5.0",
       "_model_name": "ProgressStyleModel",
       "_view_count": null,
       "_view_module": "@jupyter-widgets/base",
       "_view_module_version": "1.2.0",
       "_view_name": "StyleView",
       "bar_color": null,
       "description_width": ""
      }
     },
     "861806f6aed9430ea4c47a6a1e38c92c": {
      "model_module": "@jupyter-widgets/base",
      "model_module_version": "1.2.0",
      "model_name": "LayoutModel",
      "state": {
       "_model_module": "@jupyter-widgets/base",
       "_model_module_version": "1.2.0",
       "_model_name": "LayoutModel",
       "_view_count": null,
       "_view_module": "@jupyter-widgets/base",
       "_view_module_version": "1.2.0",
       "_view_name": "LayoutView",
       "align_content": null,
       "align_items": null,
       "align_self": null,
       "border": null,
       "bottom": null,
       "display": null,
       "flex": null,
       "flex_flow": null,
       "grid_area": null,
       "grid_auto_columns": null,
       "grid_auto_flow": null,
       "grid_auto_rows": null,
       "grid_column": null,
       "grid_gap": null,
       "grid_row": null,
       "grid_template_areas": null,
       "grid_template_columns": null,
       "grid_template_rows": null,
       "height": null,
       "justify_content": null,
       "justify_items": null,
       "left": null,
       "margin": null,
       "max_height": null,
       "max_width": null,
       "min_height": null,
       "min_width": null,
       "object_fit": null,
       "object_position": null,
       "order": null,
       "overflow": null,
       "overflow_x": null,
       "overflow_y": null,
       "padding": null,
       "right": null,
       "top": null,
       "visibility": null,
       "width": null
      }
     },
     "8a98d463d88f4c6898ec299fbe8a0f20": {
      "model_module": "@jupyter-widgets/base",
      "model_module_version": "1.2.0",
      "model_name": "LayoutModel",
      "state": {
       "_model_module": "@jupyter-widgets/base",
       "_model_module_version": "1.2.0",
       "_model_name": "LayoutModel",
       "_view_count": null,
       "_view_module": "@jupyter-widgets/base",
       "_view_module_version": "1.2.0",
       "_view_name": "LayoutView",
       "align_content": null,
       "align_items": null,
       "align_self": null,
       "border": null,
       "bottom": null,
       "display": null,
       "flex": null,
       "flex_flow": null,
       "grid_area": null,
       "grid_auto_columns": null,
       "grid_auto_flow": null,
       "grid_auto_rows": null,
       "grid_column": null,
       "grid_gap": null,
       "grid_row": null,
       "grid_template_areas": null,
       "grid_template_columns": null,
       "grid_template_rows": null,
       "height": null,
       "justify_content": null,
       "justify_items": null,
       "left": null,
       "margin": null,
       "max_height": null,
       "max_width": null,
       "min_height": null,
       "min_width": null,
       "object_fit": null,
       "object_position": null,
       "order": null,
       "overflow": null,
       "overflow_x": null,
       "overflow_y": null,
       "padding": null,
       "right": null,
       "top": null,
       "visibility": null,
       "width": null
      }
     },
     "8b0e85a777a447b79461eae606d1d8ca": {
      "model_module": "@jupyter-widgets/base",
      "model_module_version": "1.2.0",
      "model_name": "LayoutModel",
      "state": {
       "_model_module": "@jupyter-widgets/base",
       "_model_module_version": "1.2.0",
       "_model_name": "LayoutModel",
       "_view_count": null,
       "_view_module": "@jupyter-widgets/base",
       "_view_module_version": "1.2.0",
       "_view_name": "LayoutView",
       "align_content": null,
       "align_items": null,
       "align_self": null,
       "border": null,
       "bottom": null,
       "display": null,
       "flex": null,
       "flex_flow": null,
       "grid_area": null,
       "grid_auto_columns": null,
       "grid_auto_flow": null,
       "grid_auto_rows": null,
       "grid_column": null,
       "grid_gap": null,
       "grid_row": null,
       "grid_template_areas": null,
       "grid_template_columns": null,
       "grid_template_rows": null,
       "height": null,
       "justify_content": null,
       "justify_items": null,
       "left": null,
       "margin": null,
       "max_height": null,
       "max_width": null,
       "min_height": null,
       "min_width": null,
       "object_fit": null,
       "object_position": null,
       "order": null,
       "overflow": null,
       "overflow_x": null,
       "overflow_y": null,
       "padding": null,
       "right": null,
       "top": null,
       "visibility": null,
       "width": null
      }
     },
     "92e046ff130d4d01b82f31a07530b792": {
      "model_module": "@jupyter-widgets/base",
      "model_module_version": "1.2.0",
      "model_name": "LayoutModel",
      "state": {
       "_model_module": "@jupyter-widgets/base",
       "_model_module_version": "1.2.0",
       "_model_name": "LayoutModel",
       "_view_count": null,
       "_view_module": "@jupyter-widgets/base",
       "_view_module_version": "1.2.0",
       "_view_name": "LayoutView",
       "align_content": null,
       "align_items": null,
       "align_self": null,
       "border": null,
       "bottom": null,
       "display": null,
       "flex": null,
       "flex_flow": null,
       "grid_area": null,
       "grid_auto_columns": null,
       "grid_auto_flow": null,
       "grid_auto_rows": null,
       "grid_column": null,
       "grid_gap": null,
       "grid_row": null,
       "grid_template_areas": null,
       "grid_template_columns": null,
       "grid_template_rows": null,
       "height": null,
       "justify_content": null,
       "justify_items": null,
       "left": null,
       "margin": null,
       "max_height": null,
       "max_width": null,
       "min_height": null,
       "min_width": null,
       "object_fit": null,
       "object_position": null,
       "order": null,
       "overflow": null,
       "overflow_x": null,
       "overflow_y": null,
       "padding": null,
       "right": null,
       "top": null,
       "visibility": null,
       "width": null
      }
     },
     "9306158108684942a1131d6ad90f5b09": {
      "model_module": "@jupyter-widgets/controls",
      "model_module_version": "1.5.0",
      "model_name": "ProgressStyleModel",
      "state": {
       "_model_module": "@jupyter-widgets/controls",
       "_model_module_version": "1.5.0",
       "_model_name": "ProgressStyleModel",
       "_view_count": null,
       "_view_module": "@jupyter-widgets/base",
       "_view_module_version": "1.2.0",
       "_view_name": "StyleView",
       "bar_color": null,
       "description_width": ""
      }
     },
     "9496c53ae27e4d80881307ff05934d37": {
      "model_module": "@jupyter-widgets/base",
      "model_module_version": "1.2.0",
      "model_name": "LayoutModel",
      "state": {
       "_model_module": "@jupyter-widgets/base",
       "_model_module_version": "1.2.0",
       "_model_name": "LayoutModel",
       "_view_count": null,
       "_view_module": "@jupyter-widgets/base",
       "_view_module_version": "1.2.0",
       "_view_name": "LayoutView",
       "align_content": null,
       "align_items": null,
       "align_self": null,
       "border": null,
       "bottom": null,
       "display": null,
       "flex": null,
       "flex_flow": null,
       "grid_area": null,
       "grid_auto_columns": null,
       "grid_auto_flow": null,
       "grid_auto_rows": null,
       "grid_column": null,
       "grid_gap": null,
       "grid_row": null,
       "grid_template_areas": null,
       "grid_template_columns": null,
       "grid_template_rows": null,
       "height": null,
       "justify_content": null,
       "justify_items": null,
       "left": null,
       "margin": null,
       "max_height": null,
       "max_width": null,
       "min_height": null,
       "min_width": null,
       "object_fit": null,
       "object_position": null,
       "order": null,
       "overflow": null,
       "overflow_x": null,
       "overflow_y": null,
       "padding": null,
       "right": null,
       "top": null,
       "visibility": null,
       "width": null
      }
     },
     "993e1349733f4dfcb03e17977ffef48e": {
      "model_module": "@jupyter-widgets/base",
      "model_module_version": "1.2.0",
      "model_name": "LayoutModel",
      "state": {
       "_model_module": "@jupyter-widgets/base",
       "_model_module_version": "1.2.0",
       "_model_name": "LayoutModel",
       "_view_count": null,
       "_view_module": "@jupyter-widgets/base",
       "_view_module_version": "1.2.0",
       "_view_name": "LayoutView",
       "align_content": null,
       "align_items": null,
       "align_self": null,
       "border": null,
       "bottom": null,
       "display": null,
       "flex": null,
       "flex_flow": null,
       "grid_area": null,
       "grid_auto_columns": null,
       "grid_auto_flow": null,
       "grid_auto_rows": null,
       "grid_column": null,
       "grid_gap": null,
       "grid_row": null,
       "grid_template_areas": null,
       "grid_template_columns": null,
       "grid_template_rows": null,
       "height": null,
       "justify_content": null,
       "justify_items": null,
       "left": null,
       "margin": null,
       "max_height": null,
       "max_width": null,
       "min_height": null,
       "min_width": null,
       "object_fit": null,
       "object_position": null,
       "order": null,
       "overflow": null,
       "overflow_x": null,
       "overflow_y": null,
       "padding": null,
       "right": null,
       "top": null,
       "visibility": null,
       "width": null
      }
     },
     "9d53cce3edfc4413bd9d130031f15478": {
      "model_module": "@jupyter-widgets/controls",
      "model_module_version": "1.5.0",
      "model_name": "DescriptionStyleModel",
      "state": {
       "_model_module": "@jupyter-widgets/controls",
       "_model_module_version": "1.5.0",
       "_model_name": "DescriptionStyleModel",
       "_view_count": null,
       "_view_module": "@jupyter-widgets/base",
       "_view_module_version": "1.2.0",
       "_view_name": "StyleView",
       "description_width": ""
      }
     },
     "a02a8da506264750bb61730970ae55bf": {
      "model_module": "@jupyter-widgets/controls",
      "model_module_version": "1.5.0",
      "model_name": "HBoxModel",
      "state": {
       "_dom_classes": [],
       "_model_module": "@jupyter-widgets/controls",
       "_model_module_version": "1.5.0",
       "_model_name": "HBoxModel",
       "_view_count": null,
       "_view_module": "@jupyter-widgets/controls",
       "_view_module_version": "1.5.0",
       "_view_name": "HBoxView",
       "box_style": "",
       "children": [
        "IPY_MODEL_4bce9c9c0db94f23b8aa1eea49ebb5b1",
        "IPY_MODEL_e2efdbb126c14d9a8e03673c2af92c7f",
        "IPY_MODEL_837b1ef8845a44ea9bea18a1a324bcad"
       ],
       "layout": "IPY_MODEL_391a24a3a8c94507a220d791474e50bb"
      }
     },
     "a23d86f9a67241caa3eb927c6d582d8c": {
      "model_module": "@jupyter-widgets/controls",
      "model_module_version": "1.5.0",
      "model_name": "DescriptionStyleModel",
      "state": {
       "_model_module": "@jupyter-widgets/controls",
       "_model_module_version": "1.5.0",
       "_model_name": "DescriptionStyleModel",
       "_view_count": null,
       "_view_module": "@jupyter-widgets/base",
       "_view_module_version": "1.2.0",
       "_view_name": "StyleView",
       "description_width": ""
      }
     },
     "a62283c318c74578b62957b501c987d8": {
      "model_module": "@jupyter-widgets/base",
      "model_module_version": "1.2.0",
      "model_name": "LayoutModel",
      "state": {
       "_model_module": "@jupyter-widgets/base",
       "_model_module_version": "1.2.0",
       "_model_name": "LayoutModel",
       "_view_count": null,
       "_view_module": "@jupyter-widgets/base",
       "_view_module_version": "1.2.0",
       "_view_name": "LayoutView",
       "align_content": null,
       "align_items": null,
       "align_self": null,
       "border": null,
       "bottom": null,
       "display": null,
       "flex": null,
       "flex_flow": null,
       "grid_area": null,
       "grid_auto_columns": null,
       "grid_auto_flow": null,
       "grid_auto_rows": null,
       "grid_column": null,
       "grid_gap": null,
       "grid_row": null,
       "grid_template_areas": null,
       "grid_template_columns": null,
       "grid_template_rows": null,
       "height": null,
       "justify_content": null,
       "justify_items": null,
       "left": null,
       "margin": null,
       "max_height": null,
       "max_width": null,
       "min_height": null,
       "min_width": null,
       "object_fit": null,
       "object_position": null,
       "order": null,
       "overflow": null,
       "overflow_x": null,
       "overflow_y": null,
       "padding": null,
       "right": null,
       "top": null,
       "visibility": null,
       "width": null
      }
     },
     "a831cc9df9e24691af124513a1e1e9c8": {
      "model_module": "@jupyter-widgets/base",
      "model_module_version": "1.2.0",
      "model_name": "LayoutModel",
      "state": {
       "_model_module": "@jupyter-widgets/base",
       "_model_module_version": "1.2.0",
       "_model_name": "LayoutModel",
       "_view_count": null,
       "_view_module": "@jupyter-widgets/base",
       "_view_module_version": "1.2.0",
       "_view_name": "LayoutView",
       "align_content": null,
       "align_items": null,
       "align_self": null,
       "border": null,
       "bottom": null,
       "display": null,
       "flex": null,
       "flex_flow": null,
       "grid_area": null,
       "grid_auto_columns": null,
       "grid_auto_flow": null,
       "grid_auto_rows": null,
       "grid_column": null,
       "grid_gap": null,
       "grid_row": null,
       "grid_template_areas": null,
       "grid_template_columns": null,
       "grid_template_rows": null,
       "height": null,
       "justify_content": null,
       "justify_items": null,
       "left": null,
       "margin": null,
       "max_height": null,
       "max_width": null,
       "min_height": null,
       "min_width": null,
       "object_fit": null,
       "object_position": null,
       "order": null,
       "overflow": null,
       "overflow_x": null,
       "overflow_y": null,
       "padding": null,
       "right": null,
       "top": null,
       "visibility": null,
       "width": null
      }
     },
     "a85abdd0ec2e4fa4af6f39ecc903247f": {
      "model_module": "@jupyter-widgets/controls",
      "model_module_version": "1.5.0",
      "model_name": "ProgressStyleModel",
      "state": {
       "_model_module": "@jupyter-widgets/controls",
       "_model_module_version": "1.5.0",
       "_model_name": "ProgressStyleModel",
       "_view_count": null,
       "_view_module": "@jupyter-widgets/base",
       "_view_module_version": "1.2.0",
       "_view_name": "StyleView",
       "bar_color": null,
       "description_width": ""
      }
     },
     "ad7fa1a1bc1944bd9cb5fa3625a6583e": {
      "model_module": "@jupyter-widgets/base",
      "model_module_version": "1.2.0",
      "model_name": "LayoutModel",
      "state": {
       "_model_module": "@jupyter-widgets/base",
       "_model_module_version": "1.2.0",
       "_model_name": "LayoutModel",
       "_view_count": null,
       "_view_module": "@jupyter-widgets/base",
       "_view_module_version": "1.2.0",
       "_view_name": "LayoutView",
       "align_content": null,
       "align_items": null,
       "align_self": null,
       "border": null,
       "bottom": null,
       "display": null,
       "flex": null,
       "flex_flow": null,
       "grid_area": null,
       "grid_auto_columns": null,
       "grid_auto_flow": null,
       "grid_auto_rows": null,
       "grid_column": null,
       "grid_gap": null,
       "grid_row": null,
       "grid_template_areas": null,
       "grid_template_columns": null,
       "grid_template_rows": null,
       "height": null,
       "justify_content": null,
       "justify_items": null,
       "left": null,
       "margin": null,
       "max_height": null,
       "max_width": null,
       "min_height": null,
       "min_width": null,
       "object_fit": null,
       "object_position": null,
       "order": null,
       "overflow": null,
       "overflow_x": null,
       "overflow_y": null,
       "padding": null,
       "right": null,
       "top": null,
       "visibility": null,
       "width": null
      }
     },
     "b3983d95a6b843b081bdfc257e949b86": {
      "model_module": "@jupyter-widgets/controls",
      "model_module_version": "1.5.0",
      "model_name": "FloatProgressModel",
      "state": {
       "_dom_classes": [],
       "_model_module": "@jupyter-widgets/controls",
       "_model_module_version": "1.5.0",
       "_model_name": "FloatProgressModel",
       "_view_count": null,
       "_view_module": "@jupyter-widgets/controls",
       "_view_module_version": "1.5.0",
       "_view_name": "ProgressView",
       "bar_style": "success",
       "description": "",
       "description_tooltip": null,
       "layout": "IPY_MODEL_204a56b5596544dcaaadd670dde927ae",
       "max": 966995080.0,
       "min": 0.0,
       "orientation": "horizontal",
       "style": "IPY_MODEL_4af501d1f8024a18a3e7ad4483f6278a",
       "value": 966995080.0
      }
     },
     "b4fc8822d87440eebd67f685cefc8daa": {
      "model_module": "@jupyter-widgets/controls",
      "model_module_version": "1.5.0",
      "model_name": "HBoxModel",
      "state": {
       "_dom_classes": [],
       "_model_module": "@jupyter-widgets/controls",
       "_model_module_version": "1.5.0",
       "_model_name": "HBoxModel",
       "_view_count": null,
       "_view_module": "@jupyter-widgets/controls",
       "_view_module_version": "1.5.0",
       "_view_name": "HBoxView",
       "box_style": "",
       "children": [
        "IPY_MODEL_0935e831aeff4e37a6580a8a17009032",
        "IPY_MODEL_6c26221a63084981b32b226cd2a12a4f",
        "IPY_MODEL_182594b9d92e4da49d6f669103170a2c"
       ],
       "layout": "IPY_MODEL_d81ce57831004d138b45e5bd4ef13ea8"
      }
     },
     "b91c281d4e91407fad4209a71a8bdb0b": {
      "model_module": "@jupyter-widgets/base",
      "model_module_version": "1.2.0",
      "model_name": "LayoutModel",
      "state": {
       "_model_module": "@jupyter-widgets/base",
       "_model_module_version": "1.2.0",
       "_model_name": "LayoutModel",
       "_view_count": null,
       "_view_module": "@jupyter-widgets/base",
       "_view_module_version": "1.2.0",
       "_view_name": "LayoutView",
       "align_content": null,
       "align_items": null,
       "align_self": null,
       "border": null,
       "bottom": null,
       "display": null,
       "flex": null,
       "flex_flow": null,
       "grid_area": null,
       "grid_auto_columns": null,
       "grid_auto_flow": null,
       "grid_auto_rows": null,
       "grid_column": null,
       "grid_gap": null,
       "grid_row": null,
       "grid_template_areas": null,
       "grid_template_columns": null,
       "grid_template_rows": null,
       "height": null,
       "justify_content": null,
       "justify_items": null,
       "left": null,
       "margin": null,
       "max_height": null,
       "max_width": null,
       "min_height": null,
       "min_width": null,
       "object_fit": null,
       "object_position": null,
       "order": null,
       "overflow": null,
       "overflow_x": null,
       "overflow_y": null,
       "padding": null,
       "right": null,
       "top": null,
       "visibility": null,
       "width": null
      }
     },
     "b941f3e0e70440969df09fb28f0afb7e": {
      "model_module": "@jupyter-widgets/base",
      "model_module_version": "1.2.0",
      "model_name": "LayoutModel",
      "state": {
       "_model_module": "@jupyter-widgets/base",
       "_model_module_version": "1.2.0",
       "_model_name": "LayoutModel",
       "_view_count": null,
       "_view_module": "@jupyter-widgets/base",
       "_view_module_version": "1.2.0",
       "_view_name": "LayoutView",
       "align_content": null,
       "align_items": null,
       "align_self": null,
       "border": null,
       "bottom": null,
       "display": null,
       "flex": null,
       "flex_flow": null,
       "grid_area": null,
       "grid_auto_columns": null,
       "grid_auto_flow": null,
       "grid_auto_rows": null,
       "grid_column": null,
       "grid_gap": null,
       "grid_row": null,
       "grid_template_areas": null,
       "grid_template_columns": null,
       "grid_template_rows": null,
       "height": null,
       "justify_content": null,
       "justify_items": null,
       "left": null,
       "margin": null,
       "max_height": null,
       "max_width": null,
       "min_height": null,
       "min_width": null,
       "object_fit": null,
       "object_position": null,
       "order": null,
       "overflow": null,
       "overflow_x": null,
       "overflow_y": null,
       "padding": null,
       "right": null,
       "top": null,
       "visibility": null,
       "width": null
      }
     },
     "bbd46a66d00d4a0eb7779910e7253ed6": {
      "model_module": "@jupyter-widgets/controls",
      "model_module_version": "1.5.0",
      "model_name": "HTMLModel",
      "state": {
       "_dom_classes": [],
       "_model_module": "@jupyter-widgets/controls",
       "_model_module_version": "1.5.0",
       "_model_name": "HTMLModel",
       "_view_count": null,
       "_view_module": "@jupyter-widgets/controls",
       "_view_module_version": "1.5.0",
       "_view_name": "HTMLView",
       "description": "",
       "description_tooltip": null,
       "layout": "IPY_MODEL_5a71cf8d615543e7b18a160933a7c11c",
       "placeholder": "​",
       "style": "IPY_MODEL_104b1fa83f3d4da5be56e8a3c64bde28",
       "value": " 967M/967M [00:03&lt;00:00, 285MB/s]"
      }
     },
     "bcb366e46e98473cbf53e83314525837": {
      "model_module": "@jupyter-widgets/base",
      "model_module_version": "1.2.0",
      "model_name": "LayoutModel",
      "state": {
       "_model_module": "@jupyter-widgets/base",
       "_model_module_version": "1.2.0",
       "_model_name": "LayoutModel",
       "_view_count": null,
       "_view_module": "@jupyter-widgets/base",
       "_view_module_version": "1.2.0",
       "_view_name": "LayoutView",
       "align_content": null,
       "align_items": null,
       "align_self": null,
       "border": null,
       "bottom": null,
       "display": null,
       "flex": null,
       "flex_flow": null,
       "grid_area": null,
       "grid_auto_columns": null,
       "grid_auto_flow": null,
       "grid_auto_rows": null,
       "grid_column": null,
       "grid_gap": null,
       "grid_row": null,
       "grid_template_areas": null,
       "grid_template_columns": null,
       "grid_template_rows": null,
       "height": null,
       "justify_content": null,
       "justify_items": null,
       "left": null,
       "margin": null,
       "max_height": null,
       "max_width": null,
       "min_height": null,
       "min_width": null,
       "object_fit": null,
       "object_position": null,
       "order": null,
       "overflow": null,
       "overflow_x": null,
       "overflow_y": null,
       "padding": null,
       "right": null,
       "top": null,
       "visibility": null,
       "width": null
      }
     },
     "bf46a581780d4c31bcadd6d3be075d0e": {
      "model_module": "@jupyter-widgets/base",
      "model_module_version": "1.2.0",
      "model_name": "LayoutModel",
      "state": {
       "_model_module": "@jupyter-widgets/base",
       "_model_module_version": "1.2.0",
       "_model_name": "LayoutModel",
       "_view_count": null,
       "_view_module": "@jupyter-widgets/base",
       "_view_module_version": "1.2.0",
       "_view_name": "LayoutView",
       "align_content": null,
       "align_items": null,
       "align_self": null,
       "border": null,
       "bottom": null,
       "display": null,
       "flex": null,
       "flex_flow": null,
       "grid_area": null,
       "grid_auto_columns": null,
       "grid_auto_flow": null,
       "grid_auto_rows": null,
       "grid_column": null,
       "grid_gap": null,
       "grid_row": null,
       "grid_template_areas": null,
       "grid_template_columns": null,
       "grid_template_rows": null,
       "height": null,
       "justify_content": null,
       "justify_items": null,
       "left": null,
       "margin": null,
       "max_height": null,
       "max_width": null,
       "min_height": null,
       "min_width": null,
       "object_fit": null,
       "object_position": null,
       "order": null,
       "overflow": null,
       "overflow_x": null,
       "overflow_y": null,
       "padding": null,
       "right": null,
       "top": null,
       "visibility": null,
       "width": null
      }
     },
     "bfb955bec83d479aa239e698372b2e2f": {
      "model_module": "@jupyter-widgets/controls",
      "model_module_version": "1.5.0",
      "model_name": "HBoxModel",
      "state": {
       "_dom_classes": [],
       "_model_module": "@jupyter-widgets/controls",
       "_model_module_version": "1.5.0",
       "_model_name": "HBoxModel",
       "_view_count": null,
       "_view_module": "@jupyter-widgets/controls",
       "_view_module_version": "1.5.0",
       "_view_name": "HBoxView",
       "box_style": "",
       "children": [
        "IPY_MODEL_5dbf598d2d344e0fbd8a3e67d5dfdaab",
        "IPY_MODEL_56f73a0aa826401bb3f021cd82d5350b",
        "IPY_MODEL_12c56f5dc0ca46eda2432f24708d3fcb"
       ],
       "layout": "IPY_MODEL_a831cc9df9e24691af124513a1e1e9c8"
      }
     },
     "c375a7e0fe9c4dfbb156e3e2d3d8597c": {
      "model_module": "@jupyter-widgets/base",
      "model_module_version": "1.2.0",
      "model_name": "LayoutModel",
      "state": {
       "_model_module": "@jupyter-widgets/base",
       "_model_module_version": "1.2.0",
       "_model_name": "LayoutModel",
       "_view_count": null,
       "_view_module": "@jupyter-widgets/base",
       "_view_module_version": "1.2.0",
       "_view_name": "LayoutView",
       "align_content": null,
       "align_items": null,
       "align_self": null,
       "border": null,
       "bottom": null,
       "display": null,
       "flex": null,
       "flex_flow": null,
       "grid_area": null,
       "grid_auto_columns": null,
       "grid_auto_flow": null,
       "grid_auto_rows": null,
       "grid_column": null,
       "grid_gap": null,
       "grid_row": null,
       "grid_template_areas": null,
       "grid_template_columns": null,
       "grid_template_rows": null,
       "height": null,
       "justify_content": null,
       "justify_items": null,
       "left": null,
       "margin": null,
       "max_height": null,
       "max_width": null,
       "min_height": null,
       "min_width": null,
       "object_fit": null,
       "object_position": null,
       "order": null,
       "overflow": null,
       "overflow_x": null,
       "overflow_y": null,
       "padding": null,
       "right": null,
       "top": null,
       "visibility": null,
       "width": null
      }
     },
     "c484cbc3b6d349c4904aa9fbbeb60ded": {
      "model_module": "@jupyter-widgets/base",
      "model_module_version": "1.2.0",
      "model_name": "LayoutModel",
      "state": {
       "_model_module": "@jupyter-widgets/base",
       "_model_module_version": "1.2.0",
       "_model_name": "LayoutModel",
       "_view_count": null,
       "_view_module": "@jupyter-widgets/base",
       "_view_module_version": "1.2.0",
       "_view_name": "LayoutView",
       "align_content": null,
       "align_items": null,
       "align_self": null,
       "border": null,
       "bottom": null,
       "display": null,
       "flex": null,
       "flex_flow": null,
       "grid_area": null,
       "grid_auto_columns": null,
       "grid_auto_flow": null,
       "grid_auto_rows": null,
       "grid_column": null,
       "grid_gap": null,
       "grid_row": null,
       "grid_template_areas": null,
       "grid_template_columns": null,
       "grid_template_rows": null,
       "height": null,
       "justify_content": null,
       "justify_items": null,
       "left": null,
       "margin": null,
       "max_height": null,
       "max_width": null,
       "min_height": null,
       "min_width": null,
       "object_fit": null,
       "object_position": null,
       "order": null,
       "overflow": null,
       "overflow_x": null,
       "overflow_y": null,
       "padding": null,
       "right": null,
       "top": null,
       "visibility": null,
       "width": null
      }
     },
     "cc25583612784e49b77295b6efef7737": {
      "model_module": "@jupyter-widgets/controls",
      "model_module_version": "1.5.0",
      "model_name": "ProgressStyleModel",
      "state": {
       "_model_module": "@jupyter-widgets/controls",
       "_model_module_version": "1.5.0",
       "_model_name": "ProgressStyleModel",
       "_view_count": null,
       "_view_module": "@jupyter-widgets/base",
       "_view_module_version": "1.2.0",
       "_view_name": "StyleView",
       "bar_color": null,
       "description_width": ""
      }
     },
     "cc99d37afde94d3fab7ccd5da294884d": {
      "model_module": "@jupyter-widgets/controls",
      "model_module_version": "1.5.0",
      "model_name": "HTMLModel",
      "state": {
       "_dom_classes": [],
       "_model_module": "@jupyter-widgets/controls",
       "_model_module_version": "1.5.0",
       "_model_name": "HTMLModel",
       "_view_count": null,
       "_view_module": "@jupyter-widgets/controls",
       "_view_module_version": "1.5.0",
       "_view_name": "HTMLView",
       "description": "",
       "description_tooltip": null,
       "layout": "IPY_MODEL_3907211abe0644afa0d8a8b854c6ea05",
       "placeholder": "​",
       "style": "IPY_MODEL_07dae427be8644428772bdb97feaedff",
       "value": " 34.6k/34.6k [00:00&lt;00:00, 2.55MB/s]"
      }
     },
     "ce563e1970604346b65f3ea0c2faecbc": {
      "model_module": "@jupyter-widgets/controls",
      "model_module_version": "1.5.0",
      "model_name": "DescriptionStyleModel",
      "state": {
       "_model_module": "@jupyter-widgets/controls",
       "_model_module_version": "1.5.0",
       "_model_name": "DescriptionStyleModel",
       "_view_count": null,
       "_view_module": "@jupyter-widgets/base",
       "_view_module_version": "1.2.0",
       "_view_name": "StyleView",
       "description_width": ""
      }
     },
     "d225fb06607740b09f46fefab6facb0f": {
      "model_module": "@jupyter-widgets/controls",
      "model_module_version": "1.5.0",
      "model_name": "HTMLModel",
      "state": {
       "_dom_classes": [],
       "_model_module": "@jupyter-widgets/controls",
       "_model_module_version": "1.5.0",
       "_model_name": "HTMLModel",
       "_view_count": null,
       "_view_module": "@jupyter-widgets/controls",
       "_view_module_version": "1.5.0",
       "_view_name": "HTMLView",
       "description": "",
       "description_tooltip": null,
       "layout": "IPY_MODEL_b91c281d4e91407fad4209a71a8bdb0b",
       "placeholder": "​",
       "style": "IPY_MODEL_74de5d9fade44767afa74f8f808d571c",
       "value": " 185k/185k [00:00&lt;00:00, 1.48MB/s]"
      }
     },
     "d2cda9a5c3b64350ad8a8a997d722f90": {
      "model_module": "@jupyter-widgets/controls",
      "model_module_version": "1.5.0",
      "model_name": "HTMLModel",
      "state": {
       "_dom_classes": [],
       "_model_module": "@jupyter-widgets/controls",
       "_model_module_version": "1.5.0",
       "_model_name": "HTMLModel",
       "_view_count": null,
       "_view_module": "@jupyter-widgets/controls",
       "_view_module_version": "1.5.0",
       "_view_name": "HTMLView",
       "description": "",
       "description_tooltip": null,
       "layout": "IPY_MODEL_23474e26446443c682a84bb8a214b386",
       "placeholder": "​",
       "style": "IPY_MODEL_de9a682772ee4779b38ba2802ca8d01a",
       "value": "model.safetensors: 100%"
      }
     },
     "d75e16f2f6924a599078a84f0649330c": {
      "model_module": "@jupyter-widgets/base",
      "model_module_version": "1.2.0",
      "model_name": "LayoutModel",
      "state": {
       "_model_module": "@jupyter-widgets/base",
       "_model_module_version": "1.2.0",
       "_model_name": "LayoutModel",
       "_view_count": null,
       "_view_module": "@jupyter-widgets/base",
       "_view_module_version": "1.2.0",
       "_view_name": "LayoutView",
       "align_content": null,
       "align_items": null,
       "align_self": null,
       "border": null,
       "bottom": null,
       "display": null,
       "flex": null,
       "flex_flow": null,
       "grid_area": null,
       "grid_auto_columns": null,
       "grid_auto_flow": null,
       "grid_auto_rows": null,
       "grid_column": null,
       "grid_gap": null,
       "grid_row": null,
       "grid_template_areas": null,
       "grid_template_columns": null,
       "grid_template_rows": null,
       "height": null,
       "justify_content": null,
       "justify_items": null,
       "left": null,
       "margin": null,
       "max_height": null,
       "max_width": null,
       "min_height": null,
       "min_width": null,
       "object_fit": null,
       "object_position": null,
       "order": null,
       "overflow": null,
       "overflow_x": null,
       "overflow_y": null,
       "padding": null,
       "right": null,
       "top": null,
       "visibility": null,
       "width": null
      }
     },
     "d81ce57831004d138b45e5bd4ef13ea8": {
      "model_module": "@jupyter-widgets/base",
      "model_module_version": "1.2.0",
      "model_name": "LayoutModel",
      "state": {
       "_model_module": "@jupyter-widgets/base",
       "_model_module_version": "1.2.0",
       "_model_name": "LayoutModel",
       "_view_count": null,
       "_view_module": "@jupyter-widgets/base",
       "_view_module_version": "1.2.0",
       "_view_name": "LayoutView",
       "align_content": null,
       "align_items": null,
       "align_self": null,
       "border": null,
       "bottom": null,
       "display": null,
       "flex": null,
       "flex_flow": null,
       "grid_area": null,
       "grid_auto_columns": null,
       "grid_auto_flow": null,
       "grid_auto_rows": null,
       "grid_column": null,
       "grid_gap": null,
       "grid_row": null,
       "grid_template_areas": null,
       "grid_template_columns": null,
       "grid_template_rows": null,
       "height": null,
       "justify_content": null,
       "justify_items": null,
       "left": null,
       "margin": null,
       "max_height": null,
       "max_width": null,
       "min_height": null,
       "min_width": null,
       "object_fit": null,
       "object_position": null,
       "order": null,
       "overflow": null,
       "overflow_x": null,
       "overflow_y": null,
       "padding": null,
       "right": null,
       "top": null,
       "visibility": null,
       "width": null
      }
     },
     "d8dfa108eb9e442da7c137f996b67aa4": {
      "model_module": "@jupyter-widgets/controls",
      "model_module_version": "1.5.0",
      "model_name": "ProgressStyleModel",
      "state": {
       "_model_module": "@jupyter-widgets/controls",
       "_model_module_version": "1.5.0",
       "_model_name": "ProgressStyleModel",
       "_view_count": null,
       "_view_module": "@jupyter-widgets/base",
       "_view_module_version": "1.2.0",
       "_view_name": "StyleView",
       "bar_color": null,
       "description_width": ""
      }
     },
     "da45a60ce3f7493b8ece6158d46c2524": {
      "model_module": "@jupyter-widgets/controls",
      "model_module_version": "1.5.0",
      "model_name": "FloatProgressModel",
      "state": {
       "_dom_classes": [],
       "_model_module": "@jupyter-widgets/controls",
       "_model_module_version": "1.5.0",
       "_model_name": "FloatProgressModel",
       "_view_count": null,
       "_view_module": "@jupyter-widgets/controls",
       "_view_module_version": "1.5.0",
       "_view_name": "ProgressView",
       "bar_style": "success",
       "description": "",
       "description_tooltip": null,
       "layout": "IPY_MODEL_81556382681c4876b3292a0c3e965398",
       "max": 184990.0,
       "min": 0.0,
       "orientation": "horizontal",
       "style": "IPY_MODEL_83f1578cbb6a49e2952c43ef31ec6bf9",
       "value": 184990.0
      }
     },
     "dc6b84ef0b754052b9800b802c5c6ef6": {
      "model_module": "@jupyter-widgets/controls",
      "model_module_version": "1.5.0",
      "model_name": "HTMLModel",
      "state": {
       "_dom_classes": [],
       "_model_module": "@jupyter-widgets/controls",
       "_model_module_version": "1.5.0",
       "_model_name": "HTMLModel",
       "_view_count": null,
       "_view_module": "@jupyter-widgets/controls",
       "_view_module_version": "1.5.0",
       "_view_name": "HTMLView",
       "description": "",
       "description_tooltip": null,
       "layout": "IPY_MODEL_4dd78507519c412d8ff5dfe03e09fa6c",
       "placeholder": "​",
       "style": "IPY_MODEL_f9b14e93d44f49ee8a8e1543009955b4",
       "value": "preprocessor_config.json: 100%"
      }
     },
     "ddbb9767da79432089f6921df448c752": {
      "model_module": "@jupyter-widgets/base",
      "model_module_version": "1.2.0",
      "model_name": "LayoutModel",
      "state": {
       "_model_module": "@jupyter-widgets/base",
       "_model_module_version": "1.2.0",
       "_model_name": "LayoutModel",
       "_view_count": null,
       "_view_module": "@jupyter-widgets/base",
       "_view_module_version": "1.2.0",
       "_view_name": "LayoutView",
       "align_content": null,
       "align_items": null,
       "align_self": null,
       "border": null,
       "bottom": null,
       "display": null,
       "flex": null,
       "flex_flow": null,
       "grid_area": null,
       "grid_auto_columns": null,
       "grid_auto_flow": null,
       "grid_auto_rows": null,
       "grid_column": null,
       "grid_gap": null,
       "grid_row": null,
       "grid_template_areas": null,
       "grid_template_columns": null,
       "grid_template_rows": null,
       "height": null,
       "justify_content": null,
       "justify_items": null,
       "left": null,
       "margin": null,
       "max_height": null,
       "max_width": null,
       "min_height": null,
       "min_width": null,
       "object_fit": null,
       "object_position": null,
       "order": null,
       "overflow": null,
       "overflow_x": null,
       "overflow_y": null,
       "padding": null,
       "right": null,
       "top": null,
       "visibility": null,
       "width": null
      }
     },
     "de9a682772ee4779b38ba2802ca8d01a": {
      "model_module": "@jupyter-widgets/controls",
      "model_module_version": "1.5.0",
      "model_name": "DescriptionStyleModel",
      "state": {
       "_model_module": "@jupyter-widgets/controls",
       "_model_module_version": "1.5.0",
       "_model_name": "DescriptionStyleModel",
       "_view_count": null,
       "_view_module": "@jupyter-widgets/base",
       "_view_module_version": "1.2.0",
       "_view_name": "StyleView",
       "description_width": ""
      }
     },
     "df15003d6bf4421489cdb17cb785c3e5": {
      "model_module": "@jupyter-widgets/controls",
      "model_module_version": "1.5.0",
      "model_name": "HBoxModel",
      "state": {
       "_dom_classes": [],
       "_model_module": "@jupyter-widgets/controls",
       "_model_module_version": "1.5.0",
       "_model_name": "HBoxModel",
       "_view_count": null,
       "_view_module": "@jupyter-widgets/controls",
       "_view_module_version": "1.5.0",
       "_view_name": "HBoxView",
       "box_style": "",
       "children": [
        "IPY_MODEL_66bbdbb11a134395877b0a9e018ad8d7",
        "IPY_MODEL_107ed572ac0f46f2937971f96f6a2ff7",
        "IPY_MODEL_4fff3424328c4718a2107bffaaf267c5"
       ],
       "layout": "IPY_MODEL_92e046ff130d4d01b82f31a07530b792"
      }
     },
     "dfd09196de5544a9ba185caf4bdcbd9c": {
      "model_module": "@jupyter-widgets/base",
      "model_module_version": "1.2.0",
      "model_name": "LayoutModel",
      "state": {
       "_model_module": "@jupyter-widgets/base",
       "_model_module_version": "1.2.0",
       "_model_name": "LayoutModel",
       "_view_count": null,
       "_view_module": "@jupyter-widgets/base",
       "_view_module_version": "1.2.0",
       "_view_name": "LayoutView",
       "align_content": null,
       "align_items": null,
       "align_self": null,
       "border": null,
       "bottom": null,
       "display": null,
       "flex": null,
       "flex_flow": null,
       "grid_area": null,
       "grid_auto_columns": null,
       "grid_auto_flow": null,
       "grid_auto_rows": null,
       "grid_column": null,
       "grid_gap": null,
       "grid_row": null,
       "grid_template_areas": null,
       "grid_template_columns": null,
       "grid_template_rows": null,
       "height": null,
       "justify_content": null,
       "justify_items": null,
       "left": null,
       "margin": null,
       "max_height": null,
       "max_width": null,
       "min_height": null,
       "min_width": null,
       "object_fit": null,
       "object_position": null,
       "order": null,
       "overflow": null,
       "overflow_x": null,
       "overflow_y": null,
       "padding": null,
       "right": null,
       "top": null,
       "visibility": null,
       "width": null
      }
     },
     "e2efdbb126c14d9a8e03673c2af92c7f": {
      "model_module": "@jupyter-widgets/controls",
      "model_module_version": "1.5.0",
      "model_name": "FloatProgressModel",
      "state": {
       "_dom_classes": [],
       "_model_module": "@jupyter-widgets/controls",
       "_model_module_version": "1.5.0",
       "_model_name": "FloatProgressModel",
       "_view_count": null,
       "_view_module": "@jupyter-widgets/controls",
       "_view_module_version": "1.5.0",
       "_view_name": "ProgressView",
       "bar_style": "success",
       "description": "",
       "description_tooltip": null,
       "layout": "IPY_MODEL_f82e3df870334f22b1a844884f239193",
       "max": 1967.0,
       "min": 0.0,
       "orientation": "horizontal",
       "style": "IPY_MODEL_5c99939bc96f4d89905d7bed779643b5",
       "value": 1967.0
      }
     },
     "e3828fbce8f545368a8ce2af02b7b1c9": {
      "model_module": "@jupyter-widgets/base",
      "model_module_version": "1.2.0",
      "model_name": "LayoutModel",
      "state": {
       "_model_module": "@jupyter-widgets/base",
       "_model_module_version": "1.2.0",
       "_model_name": "LayoutModel",
       "_view_count": null,
       "_view_module": "@jupyter-widgets/base",
       "_view_module_version": "1.2.0",
       "_view_name": "LayoutView",
       "align_content": null,
       "align_items": null,
       "align_self": null,
       "border": null,
       "bottom": null,
       "display": null,
       "flex": null,
       "flex_flow": null,
       "grid_area": null,
       "grid_auto_columns": null,
       "grid_auto_flow": null,
       "grid_auto_rows": null,
       "grid_column": null,
       "grid_gap": null,
       "grid_row": null,
       "grid_template_areas": null,
       "grid_template_columns": null,
       "grid_template_rows": null,
       "height": null,
       "justify_content": null,
       "justify_items": null,
       "left": null,
       "margin": null,
       "max_height": null,
       "max_width": null,
       "min_height": null,
       "min_width": null,
       "object_fit": null,
       "object_position": null,
       "order": null,
       "overflow": null,
       "overflow_x": null,
       "overflow_y": null,
       "padding": null,
       "right": null,
       "top": null,
       "visibility": null,
       "width": null
      }
     },
     "e8dda0abf20241ec97b37c1e89e59119": {
      "model_module": "@jupyter-widgets/controls",
      "model_module_version": "1.5.0",
      "model_name": "HBoxModel",
      "state": {
       "_dom_classes": [],
       "_model_module": "@jupyter-widgets/controls",
       "_model_module_version": "1.5.0",
       "_model_name": "HBoxModel",
       "_view_count": null,
       "_view_module": "@jupyter-widgets/controls",
       "_view_module_version": "1.5.0",
       "_view_name": "HBoxView",
       "box_style": "",
       "children": [
        "IPY_MODEL_d2cda9a5c3b64350ad8a8a997d722f90",
        "IPY_MODEL_b3983d95a6b843b081bdfc257e949b86",
        "IPY_MODEL_bbd46a66d00d4a0eb7779910e7253ed6"
       ],
       "layout": "IPY_MODEL_2a479330e867423cab847fe1129735a0"
      }
     },
     "e9e0f1ad9f3f454fbb61097fb52385d0": {
      "model_module": "@jupyter-widgets/controls",
      "model_module_version": "1.5.0",
      "model_name": "HBoxModel",
      "state": {
       "_dom_classes": [],
       "_model_module": "@jupyter-widgets/controls",
       "_model_module_version": "1.5.0",
       "_model_name": "HBoxModel",
       "_view_count": null,
       "_view_module": "@jupyter-widgets/controls",
       "_view_module_version": "1.5.0",
       "_view_name": "HBoxView",
       "box_style": "",
       "children": [
        "IPY_MODEL_eeab00c901244c68a5bc8a00c62188b8",
        "IPY_MODEL_f6b9e79772ed4dc5996777ad02a0b760",
        "IPY_MODEL_cc99d37afde94d3fab7ccd5da294884d"
       ],
       "layout": "IPY_MODEL_0ef2b1dbea304af9a7f2f48b79129702"
      }
     },
     "eeab00c901244c68a5bc8a00c62188b8": {
      "model_module": "@jupyter-widgets/controls",
      "model_module_version": "1.5.0",
      "model_name": "HTMLModel",
      "state": {
       "_dom_classes": [],
       "_model_module": "@jupyter-widgets/controls",
       "_model_module_version": "1.5.0",
       "_model_name": "HTMLModel",
       "_view_count": null,
       "_view_module": "@jupyter-widgets/controls",
       "_view_module_version": "1.5.0",
       "_view_name": "HTMLView",
       "description": "",
       "description_tooltip": null,
       "layout": "IPY_MODEL_fa5211045d634bb78ed5cd9d12ae96f1",
       "placeholder": "​",
       "style": "IPY_MODEL_21bf2310858343509e6056b94f8d1958",
       "value": "added_tokens.json: 100%"
      }
     },
     "efaa57d342134172be7d5a0d124e74d3": {
      "model_module": "@jupyter-widgets/controls",
      "model_module_version": "1.5.0",
      "model_name": "DescriptionStyleModel",
      "state": {
       "_model_module": "@jupyter-widgets/controls",
       "_model_module_version": "1.5.0",
       "_model_name": "DescriptionStyleModel",
       "_view_count": null,
       "_view_module": "@jupyter-widgets/base",
       "_view_module_version": "1.2.0",
       "_view_name": "StyleView",
       "description_width": ""
      }
     },
     "efe0aae96c954e79865f4868e09b79f7": {
      "model_module": "@jupyter-widgets/controls",
      "model_module_version": "1.5.0",
      "model_name": "DescriptionStyleModel",
      "state": {
       "_model_module": "@jupyter-widgets/controls",
       "_model_module_version": "1.5.0",
       "_model_name": "DescriptionStyleModel",
       "_view_count": null,
       "_view_module": "@jupyter-widgets/base",
       "_view_module_version": "1.2.0",
       "_view_name": "StyleView",
       "description_width": ""
      }
     },
     "f2254801c54b41be897ee0e14af176b0": {
      "model_module": "@jupyter-widgets/controls",
      "model_module_version": "1.5.0",
      "model_name": "HBoxModel",
      "state": {
       "_dom_classes": [],
       "_model_module": "@jupyter-widgets/controls",
       "_model_module_version": "1.5.0",
       "_model_name": "HBoxModel",
       "_view_count": null,
       "_view_module": "@jupyter-widgets/controls",
       "_view_module_version": "1.5.0",
       "_view_name": "HBoxView",
       "box_style": "",
       "children": [
        "IPY_MODEL_3f7ff2e21c044f1d9f08b78565ac5be0",
        "IPY_MODEL_ff11e2068a3c4ad6a817d31372fdbe21",
        "IPY_MODEL_77473b423b664cccbcef084656cac7c1"
       ],
       "layout": "IPY_MODEL_2e336a000de44942a1f1c3cb89c89fdb"
      }
     },
     "f334b53510ec4b31afc56aba6c42f368": {
      "model_module": "@jupyter-widgets/controls",
      "model_module_version": "1.5.0",
      "model_name": "FloatProgressModel",
      "state": {
       "_dom_classes": [],
       "_model_module": "@jupyter-widgets/controls",
       "_model_module_version": "1.5.0",
       "_model_name": "FloatProgressModel",
       "_view_count": null,
       "_view_module": "@jupyter-widgets/controls",
       "_view_module_version": "1.5.0",
       "_view_name": "ProgressView",
       "bar_style": "success",
       "description": "",
       "description_tooltip": null,
       "layout": "IPY_MODEL_575eb744ebfa42ff949d675e9b67e7da",
       "max": 835550.0,
       "min": 0.0,
       "orientation": "horizontal",
       "style": "IPY_MODEL_d8dfa108eb9e442da7c137f996b67aa4",
       "value": 835550.0
      }
     },
     "f53eaf2925f54285b942397cb3099e17": {
      "model_module": "@jupyter-widgets/controls",
      "model_module_version": "1.5.0",
      "model_name": "HBoxModel",
      "state": {
       "_dom_classes": [],
       "_model_module": "@jupyter-widgets/controls",
       "_model_module_version": "1.5.0",
       "_model_name": "HBoxModel",
       "_view_count": null,
       "_view_module": "@jupyter-widgets/controls",
       "_view_module_version": "1.5.0",
       "_view_name": "HBoxView",
       "box_style": "",
       "children": [
        "IPY_MODEL_dc6b84ef0b754052b9800b802c5c6ef6",
        "IPY_MODEL_da45a60ce3f7493b8ece6158d46c2524",
        "IPY_MODEL_d225fb06607740b09f46fefab6facb0f"
       ],
       "layout": "IPY_MODEL_9496c53ae27e4d80881307ff05934d37"
      }
     },
     "f6b9e79772ed4dc5996777ad02a0b760": {
      "model_module": "@jupyter-widgets/controls",
      "model_module_version": "1.5.0",
      "model_name": "FloatProgressModel",
      "state": {
       "_dom_classes": [],
       "_model_module": "@jupyter-widgets/controls",
       "_model_module_version": "1.5.0",
       "_model_name": "FloatProgressModel",
       "_view_count": null,
       "_view_module": "@jupyter-widgets/controls",
       "_view_module_version": "1.5.0",
       "_view_name": "ProgressView",
       "bar_style": "success",
       "description": "",
       "description_tooltip": null,
       "layout": "IPY_MODEL_bf46a581780d4c31bcadd6d3be075d0e",
       "max": 34604.0,
       "min": 0.0,
       "orientation": "horizontal",
       "style": "IPY_MODEL_a85abdd0ec2e4fa4af6f39ecc903247f",
       "value": 34604.0
      }
     },
     "f716248cf5654f05a1140126207c918c": {
      "model_module": "@jupyter-widgets/controls",
      "model_module_version": "1.5.0",
      "model_name": "DescriptionStyleModel",
      "state": {
       "_model_module": "@jupyter-widgets/controls",
       "_model_module_version": "1.5.0",
       "_model_name": "DescriptionStyleModel",
       "_view_count": null,
       "_view_module": "@jupyter-widgets/base",
       "_view_module_version": "1.2.0",
       "_view_name": "StyleView",
       "description_width": ""
      }
     },
     "f82e3df870334f22b1a844884f239193": {
      "model_module": "@jupyter-widgets/base",
      "model_module_version": "1.2.0",
      "model_name": "LayoutModel",
      "state": {
       "_model_module": "@jupyter-widgets/base",
       "_model_module_version": "1.2.0",
       "_model_name": "LayoutModel",
       "_view_count": null,
       "_view_module": "@jupyter-widgets/base",
       "_view_module_version": "1.2.0",
       "_view_name": "LayoutView",
       "align_content": null,
       "align_items": null,
       "align_self": null,
       "border": null,
       "bottom": null,
       "display": null,
       "flex": null,
       "flex_flow": null,
       "grid_area": null,
       "grid_auto_columns": null,
       "grid_auto_flow": null,
       "grid_auto_rows": null,
       "grid_column": null,
       "grid_gap": null,
       "grid_row": null,
       "grid_template_areas": null,
       "grid_template_columns": null,
       "grid_template_rows": null,
       "height": null,
       "justify_content": null,
       "justify_items": null,
       "left": null,
       "margin": null,
       "max_height": null,
       "max_width": null,
       "min_height": null,
       "min_width": null,
       "object_fit": null,
       "object_position": null,
       "order": null,
       "overflow": null,
       "overflow_x": null,
       "overflow_y": null,
       "padding": null,
       "right": null,
       "top": null,
       "visibility": null,
       "width": null
      }
     },
     "f8756d4162ea4ed0b7519e9c252273a3": {
      "model_module": "@jupyter-widgets/controls",
      "model_module_version": "1.5.0",
      "model_name": "DescriptionStyleModel",
      "state": {
       "_model_module": "@jupyter-widgets/controls",
       "_model_module_version": "1.5.0",
       "_model_name": "DescriptionStyleModel",
       "_view_count": null,
       "_view_module": "@jupyter-widgets/base",
       "_view_module_version": "1.2.0",
       "_view_name": "StyleView",
       "description_width": ""
      }
     },
     "f8c8122c1dd3443d950f836a18efa74d": {
      "model_module": "@jupyter-widgets/controls",
      "model_module_version": "1.5.0",
      "model_name": "DescriptionStyleModel",
      "state": {
       "_model_module": "@jupyter-widgets/controls",
       "_model_module_version": "1.5.0",
       "_model_name": "DescriptionStyleModel",
       "_view_count": null,
       "_view_module": "@jupyter-widgets/base",
       "_view_module_version": "1.2.0",
       "_view_name": "StyleView",
       "description_width": ""
      }
     },
     "f9b14e93d44f49ee8a8e1543009955b4": {
      "model_module": "@jupyter-widgets/controls",
      "model_module_version": "1.5.0",
      "model_name": "DescriptionStyleModel",
      "state": {
       "_model_module": "@jupyter-widgets/controls",
       "_model_module_version": "1.5.0",
       "_model_name": "DescriptionStyleModel",
       "_view_count": null,
       "_view_module": "@jupyter-widgets/base",
       "_view_module_version": "1.2.0",
       "_view_name": "StyleView",
       "description_width": ""
      }
     },
     "fa5211045d634bb78ed5cd9d12ae96f1": {
      "model_module": "@jupyter-widgets/base",
      "model_module_version": "1.2.0",
      "model_name": "LayoutModel",
      "state": {
       "_model_module": "@jupyter-widgets/base",
       "_model_module_version": "1.2.0",
       "_model_name": "LayoutModel",
       "_view_count": null,
       "_view_module": "@jupyter-widgets/base",
       "_view_module_version": "1.2.0",
       "_view_name": "LayoutView",
       "align_content": null,
       "align_items": null,
       "align_self": null,
       "border": null,
       "bottom": null,
       "display": null,
       "flex": null,
       "flex_flow": null,
       "grid_area": null,
       "grid_auto_columns": null,
       "grid_auto_flow": null,
       "grid_auto_rows": null,
       "grid_column": null,
       "grid_gap": null,
       "grid_row": null,
       "grid_template_areas": null,
       "grid_template_columns": null,
       "grid_template_rows": null,
       "height": null,
       "justify_content": null,
       "justify_items": null,
       "left": null,
       "margin": null,
       "max_height": null,
       "max_width": null,
       "min_height": null,
       "min_width": null,
       "object_fit": null,
       "object_position": null,
       "order": null,
       "overflow": null,
       "overflow_x": null,
       "overflow_y": null,
       "padding": null,
       "right": null,
       "top": null,
       "visibility": null,
       "width": null
      }
     },
     "fe687f8cf52e48b38f882561399dcb11": {
      "model_module": "@jupyter-widgets/base",
      "model_module_version": "1.2.0",
      "model_name": "LayoutModel",
      "state": {
       "_model_module": "@jupyter-widgets/base",
       "_model_module_version": "1.2.0",
       "_model_name": "LayoutModel",
       "_view_count": null,
       "_view_module": "@jupyter-widgets/base",
       "_view_module_version": "1.2.0",
       "_view_name": "LayoutView",
       "align_content": null,
       "align_items": null,
       "align_self": null,
       "border": null,
       "bottom": null,
       "display": null,
       "flex": null,
       "flex_flow": null,
       "grid_area": null,
       "grid_auto_columns": null,
       "grid_auto_flow": null,
       "grid_auto_rows": null,
       "grid_column": null,
       "grid_gap": null,
       "grid_row": null,
       "grid_template_areas": null,
       "grid_template_columns": null,
       "grid_template_rows": null,
       "height": null,
       "justify_content": null,
       "justify_items": null,
       "left": null,
       "margin": null,
       "max_height": null,
       "max_width": null,
       "min_height": null,
       "min_width": null,
       "object_fit": null,
       "object_position": null,
       "order": null,
       "overflow": null,
       "overflow_x": null,
       "overflow_y": null,
       "padding": null,
       "right": null,
       "top": null,
       "visibility": null,
       "width": null
      }
     },
     "ff11e2068a3c4ad6a817d31372fdbe21": {
      "model_module": "@jupyter-widgets/controls",
      "model_module_version": "1.5.0",
      "model_name": "FloatProgressModel",
      "state": {
       "_dom_classes": [],
       "_model_module": "@jupyter-widgets/controls",
       "_model_module_version": "1.5.0",
       "_model_name": "FloatProgressModel",
       "_view_count": null,
       "_view_module": "@jupyter-widgets/controls",
       "_view_module_version": "1.5.0",
       "_view_name": "ProgressView",
       "bar_style": "success",
       "description": "",
       "description_tooltip": null,
       "layout": "IPY_MODEL_6acbbf9b21e44281ab98f1a9330a7e57",
       "max": 52666.0,
       "min": 0.0,
       "orientation": "horizontal",
       "style": "IPY_MODEL_2c6601618701480f9cf2b8bd5ed75fec",
       "value": 52666.0
      }
     }
    },
    "version_major": 2,
    "version_minor": 0
   }
  }
 },
 "nbformat": 4,
 "nbformat_minor": 5
}

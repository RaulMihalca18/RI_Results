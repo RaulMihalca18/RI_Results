{
 "cells": [
  {
   "cell_type": "code",
   "execution_count": 1,
   "id": "37e7573a",
   "metadata": {
    "execution": {
     "iopub.execute_input": "2024-11-23T14:22:13.566162Z",
     "iopub.status.busy": "2024-11-23T14:22:13.565291Z",
     "iopub.status.idle": "2024-11-23T14:22:22.752268Z",
     "shell.execute_reply": "2024-11-23T14:22:22.751264Z"
    },
    "id": "lEpoDEoHV6Av",
    "papermill": {
     "duration": 9.213246,
     "end_time": "2024-11-23T14:22:22.754619",
     "exception": false,
     "start_time": "2024-11-23T14:22:13.541373",
     "status": "completed"
    },
    "tags": []
   },
   "outputs": [],
   "source": [
    "import os\n",
    "import glob\n",
    "import random\n",
    "import pandas as pd\n",
    "import torchaudio\n",
    "import torch\n",
    "import numpy as np\n",
    "from torch.utils.data import Dataset, DataLoader\n",
    "from transformers import WhisperProcessor, WhisperForConditionalGeneration\n",
    "from torch.optim import AdamW\n",
    "from torch.nn.utils.rnn import pad_sequence\n",
    "from tqdm import tqdm\n",
    "from itertools import product\n",
    "from sklearn.model_selection import train_test_split\n",
    "import string\n",
    "from IPython.display import Audio, display"
   ]
  },
  {
   "cell_type": "code",
   "execution_count": 2,
   "id": "90fd1d89",
   "metadata": {
    "execution": {
     "iopub.execute_input": "2024-11-23T14:22:22.794064Z",
     "iopub.status.busy": "2024-11-23T14:22:22.793561Z",
     "iopub.status.idle": "2024-11-23T14:22:22.887590Z",
     "shell.execute_reply": "2024-11-23T14:22:22.886454Z"
    },
    "id": "D7WB8I2XV6Ax",
    "outputId": "7de8f23e-e0ed-425e-c87b-bd588706d51c",
    "papermill": {
     "duration": 0.115757,
     "end_time": "2024-11-23T14:22:22.889445",
     "exception": false,
     "start_time": "2024-11-23T14:22:22.773688",
     "status": "completed"
    },
    "tags": []
   },
   "outputs": [
    {
     "name": "stdout",
     "output_type": "stream",
     "text": [
      "GPU: Tesla P100-PCIE-16GB\n"
     ]
    }
   ],
   "source": [
    "seed = 123\n",
    "random.seed(seed)\n",
    "np.random.seed(seed)\n",
    "torch.manual_seed(seed)\n",
    "torch.backends.cudnn.deterministic = True\n",
    "\n",
    "device = torch.device('cuda' if torch.cuda.is_available() else 'cpu')\n",
    "\n",
    "if str(device) == 'cuda':\n",
    "\n",
    "\n",
    "    current_device = torch.cuda.current_device()\n",
    "    gpu_name = torch.cuda.get_device_name(current_device)\n",
    "    torch.cuda.manual_seed(seed)\n",
    "    torch.cuda.manual_seed_all(seed)\n",
    "    print(f\"GPU: {gpu_name}\" )"
   ]
  },
  {
   "cell_type": "code",
   "execution_count": 3,
   "id": "eaaaf73c",
   "metadata": {
    "execution": {
     "iopub.execute_input": "2024-11-23T14:22:22.929996Z",
     "iopub.status.busy": "2024-11-23T14:22:22.929673Z",
     "iopub.status.idle": "2024-11-23T14:22:26.111056Z",
     "shell.execute_reply": "2024-11-23T14:22:26.110272Z"
    },
    "id": "GTnRbeAqV6Ay",
    "outputId": "5a8ec343-6cae-47e2-d9be-cb79dc8cd6d2",
    "papermill": {
     "duration": 3.203997,
     "end_time": "2024-11-23T14:22:26.113291",
     "exception": false,
     "start_time": "2024-11-23T14:22:22.909294",
     "status": "completed"
    },
    "tags": []
   },
   "outputs": [
    {
     "data": {
      "application/vnd.jupyter.widget-view+json": {
       "model_id": "823cefb2694e43818b5cda627da063ba",
       "version_major": 2,
       "version_minor": 0
      },
      "text/plain": [
       "preprocessor_config.json:   0%|          | 0.00/185k [00:00<?, ?B/s]"
      ]
     },
     "metadata": {},
     "output_type": "display_data"
    },
    {
     "data": {
      "application/vnd.jupyter.widget-view+json": {
       "model_id": "337c8524a628429fa81a93b4a17599b7",
       "version_major": 2,
       "version_minor": 0
      },
      "text/plain": [
       "tokenizer_config.json:   0%|          | 0.00/805 [00:00<?, ?B/s]"
      ]
     },
     "metadata": {},
     "output_type": "display_data"
    },
    {
     "data": {
      "application/vnd.jupyter.widget-view+json": {
       "model_id": "ff343d3ff18247cfb8b5e6d023dc846b",
       "version_major": 2,
       "version_minor": 0
      },
      "text/plain": [
       "vocab.json:   0%|          | 0.00/798k [00:00<?, ?B/s]"
      ]
     },
     "metadata": {},
     "output_type": "display_data"
    },
    {
     "data": {
      "application/vnd.jupyter.widget-view+json": {
       "model_id": "9c78852496f94e5a833c8204e9ed03d0",
       "version_major": 2,
       "version_minor": 0
      },
      "text/plain": [
       "tokenizer.json:   0%|          | 0.00/2.41M [00:00<?, ?B/s]"
      ]
     },
     "metadata": {},
     "output_type": "display_data"
    },
    {
     "data": {
      "application/vnd.jupyter.widget-view+json": {
       "model_id": "f4131c92812948508e6af4dcc0230bb4",
       "version_major": 2,
       "version_minor": 0
      },
      "text/plain": [
       "merges.txt:   0%|          | 0.00/456k [00:00<?, ?B/s]"
      ]
     },
     "metadata": {},
     "output_type": "display_data"
    },
    {
     "data": {
      "application/vnd.jupyter.widget-view+json": {
       "model_id": "ce14997a714c4756ad02b26778d97c80",
       "version_major": 2,
       "version_minor": 0
      },
      "text/plain": [
       "normalizer.json:   0%|          | 0.00/52.7k [00:00<?, ?B/s]"
      ]
     },
     "metadata": {},
     "output_type": "display_data"
    },
    {
     "data": {
      "application/vnd.jupyter.widget-view+json": {
       "model_id": "80815f4d0ba5497db4d4197e9999b047",
       "version_major": 2,
       "version_minor": 0
      },
      "text/plain": [
       "added_tokens.json:   0%|          | 0.00/34.6k [00:00<?, ?B/s]"
      ]
     },
     "metadata": {},
     "output_type": "display_data"
    },
    {
     "data": {
      "application/vnd.jupyter.widget-view+json": {
       "model_id": "ed6466d5a1cb4ab9b5911d4c6b368a8a",
       "version_major": 2,
       "version_minor": 0
      },
      "text/plain": [
       "special_tokens_map.json:   0%|          | 0.00/1.83k [00:00<?, ?B/s]"
      ]
     },
     "metadata": {},
     "output_type": "display_data"
    }
   ],
   "source": [
    "device = torch.device(\"cuda\" if torch.cuda.is_available() else \"cpu\")\n",
    "\n",
    "processor = WhisperProcessor.from_pretrained(\"openai/whisper-tiny.en\", language='en')"
   ]
  },
  {
   "cell_type": "code",
   "execution_count": 4,
   "id": "82c8695f",
   "metadata": {
    "execution": {
     "iopub.execute_input": "2024-11-23T14:22:26.156901Z",
     "iopub.status.busy": "2024-11-23T14:22:26.156503Z",
     "iopub.status.idle": "2024-11-23T14:22:26.162240Z",
     "shell.execute_reply": "2024-11-23T14:22:26.161348Z"
    },
    "id": "_m2FOHIHV6Ay",
    "papermill": {
     "duration": 0.029426,
     "end_time": "2024-11-23T14:22:26.164171",
     "exception": false,
     "start_time": "2024-11-23T14:22:26.134745",
     "status": "completed"
    },
    "tags": []
   },
   "outputs": [],
   "source": [
    "word_to_digit = {\n",
    "    \"zero\": 0, \"one\": 1, \"two\": 2, \"three\": 3, \"four\": 4,\n",
    "    \"five\": 5, \"six\": 6, \"seven\": 7, \"eight\": 8, \"nine\": 9\n",
    "}\n",
    "\n",
    "def extract_number_from_transcription(transcription):\n",
    "    transcription = transcription.translate(str.maketrans('', '', string.punctuation))\n",
    "    transcription = transcription.strip().lower()\n",
    "\n",
    "    if transcription.isdigit():\n",
    "        return int(transcription)\n",
    "\n",
    "    for word in transcription.split():\n",
    "        if word in word_to_digit:\n",
    "            return word_to_digit[word]\n",
    "\n",
    "    return None"
   ]
  },
  {
   "cell_type": "code",
   "execution_count": 5,
   "id": "7376b772",
   "metadata": {
    "execution": {
     "iopub.execute_input": "2024-11-23T14:22:26.207140Z",
     "iopub.status.busy": "2024-11-23T14:22:26.206805Z",
     "iopub.status.idle": "2024-11-23T14:22:26.211860Z",
     "shell.execute_reply": "2024-11-23T14:22:26.210987Z"
    },
    "id": "B0TnZ8b5V6Az",
    "papermill": {
     "duration": 0.029654,
     "end_time": "2024-11-23T14:22:26.213628",
     "exception": false,
     "start_time": "2024-11-23T14:22:26.183974",
     "status": "completed"
    },
    "tags": []
   },
   "outputs": [],
   "source": [
    "def load_data(data_dir):\n",
    "    wav_files = glob.glob(f\"{data_dir}/*.wav\")\n",
    "    data = []\n",
    "\n",
    "    for wav_file in wav_files:\n",
    "        label = os.path.basename(wav_file).split('_')[0]\n",
    "        data.append((wav_file, label))\n",
    "\n",
    "    return pd.DataFrame(data, columns=['wavfile', 'label'])"
   ]
  },
  {
   "cell_type": "code",
   "execution_count": 6,
   "id": "d4c878df",
   "metadata": {
    "execution": {
     "iopub.execute_input": "2024-11-23T14:22:26.254960Z",
     "iopub.status.busy": "2024-11-23T14:22:26.254653Z",
     "iopub.status.idle": "2024-11-23T14:22:26.309603Z",
     "shell.execute_reply": "2024-11-23T14:22:26.308816Z"
    },
    "id": "inhD1pFoV6Az",
    "papermill": {
     "duration": 0.078167,
     "end_time": "2024-11-23T14:22:26.311744",
     "exception": false,
     "start_time": "2024-11-23T14:22:26.233577",
     "status": "completed"
    },
    "tags": []
   },
   "outputs": [],
   "source": [
    "data_dir = '/kaggle/input/spoken-digits/recordings'\n",
    "data = load_data(data_dir)\n",
    "train_data, test_data = train_test_split(data, test_size=0.2, stratify=data['label'])\n",
    "\n",
    "train_data = train_data.reset_index(drop=True)\n",
    "\n",
    "test_data = test_data.reset_index(drop=True)"
   ]
  },
  {
   "cell_type": "code",
   "execution_count": 7,
   "id": "6d9fa458",
   "metadata": {
    "execution": {
     "iopub.execute_input": "2024-11-23T14:22:26.353946Z",
     "iopub.status.busy": "2024-11-23T14:22:26.353613Z",
     "iopub.status.idle": "2024-11-23T14:22:26.357830Z",
     "shell.execute_reply": "2024-11-23T14:22:26.357097Z"
    },
    "id": "sgVRia5QM3lg",
    "papermill": {
     "duration": 0.027069,
     "end_time": "2024-11-23T14:22:26.359511",
     "exception": false,
     "start_time": "2024-11-23T14:22:26.332442",
     "status": "completed"
    },
    "tags": []
   },
   "outputs": [],
   "source": [
    "def word_to_number(word):\n",
    "    return word_to_digit.get(word.lower(), \"not valid\")"
   ]
  },
  {
   "cell_type": "code",
   "execution_count": 8,
   "id": "ae1b91d2",
   "metadata": {
    "execution": {
     "iopub.execute_input": "2024-11-23T14:22:26.402654Z",
     "iopub.status.busy": "2024-11-23T14:22:26.402272Z",
     "iopub.status.idle": "2024-11-23T14:22:26.407097Z",
     "shell.execute_reply": "2024-11-23T14:22:26.406190Z"
    },
    "id": "MSSVU22FV6Az",
    "papermill": {
     "duration": 0.028674,
     "end_time": "2024-11-23T14:22:26.408881",
     "exception": false,
     "start_time": "2024-11-23T14:22:26.380207",
     "status": "completed"
    },
    "tags": []
   },
   "outputs": [],
   "source": [
    "def backdoor_test_data_set(test_data, target_label):\n",
    "\n",
    "    target_label_int = word_to_number(target_label)\n",
    "    test_data_backdoor = test_data[test_data['label'] != str(target_label_int)]\n",
    "\n",
    "    test_data_backdoor = test_data_backdoor.reset_index(drop=True)\n",
    "    return test_data_backdoor"
   ]
  },
  {
   "cell_type": "code",
   "execution_count": 9,
   "id": "59155f00",
   "metadata": {
    "execution": {
     "iopub.execute_input": "2024-11-23T14:22:26.451001Z",
     "iopub.status.busy": "2024-11-23T14:22:26.450697Z",
     "iopub.status.idle": "2024-11-23T14:22:26.457403Z",
     "shell.execute_reply": "2024-11-23T14:22:26.456595Z"
    },
    "id": "LBeed1FIV6A0",
    "papermill": {
     "duration": 0.029848,
     "end_time": "2024-11-23T14:22:26.459142",
     "exception": false,
     "start_time": "2024-11-23T14:22:26.429294",
     "status": "completed"
    },
    "tags": []
   },
   "outputs": [],
   "source": [
    "class AudioDatasetWhisper(Dataset):\n",
    "\n",
    "    def __init__(self, df, processor, target_sample_rate=16000):\n",
    "        self.df = df\n",
    "        self.processor = processor\n",
    "        self.target_sample_rate = target_sample_rate\n",
    "\n",
    "    def __len__(self):\n",
    "        return len(self.df)\n",
    "\n",
    "    def __getitem__(self, idx):\n",
    "        audio_path = self.df.iloc[idx]['wavfile']\n",
    "        label = self.df.iloc[idx]['label']\n",
    "        audio_data, sample_rate = torchaudio.load(audio_path)\n",
    "\n",
    "        if sample_rate != self.target_sample_rate:\n",
    "            resampler = torchaudio.transforms.Resample(orig_freq=sample_rate, new_freq=self.target_sample_rate)\n",
    "            audio_data = resampler(audio_data)\n",
    "\n",
    "        audio_data = audio_data.squeeze().numpy()\n",
    "        inputs = self.processor.feature_extractor(audio_data, return_tensors=\"pt\", sampling_rate=self.target_sample_rate)\n",
    "        label_input = self.processor.tokenizer(label, return_tensors=\"pt\").input_ids.squeeze(0)\n",
    "\n",
    "        return inputs.input_features.squeeze(0), label_input"
   ]
  },
  {
   "cell_type": "code",
   "execution_count": 10,
   "id": "064e4ea2",
   "metadata": {
    "execution": {
     "iopub.execute_input": "2024-11-23T14:22:26.500407Z",
     "iopub.status.busy": "2024-11-23T14:22:26.500097Z",
     "iopub.status.idle": "2024-11-23T14:22:26.504781Z",
     "shell.execute_reply": "2024-11-23T14:22:26.503846Z"
    },
    "id": "xrb50AZ9V6A0",
    "papermill": {
     "duration": 0.027146,
     "end_time": "2024-11-23T14:22:26.506662",
     "exception": false,
     "start_time": "2024-11-23T14:22:26.479516",
     "status": "completed"
    },
    "tags": []
   },
   "outputs": [],
   "source": [
    "def pre_dataloader(batch):\n",
    "    audio_features, labels = zip(*batch)\n",
    "    audio_features = torch.stack(audio_features)\n",
    "    labels_padded = pad_sequence(labels, batch_first=True, padding_value=processor.tokenizer.pad_token_id)\n",
    "    return audio_features, labels_padded"
   ]
  },
  {
   "cell_type": "code",
   "execution_count": 11,
   "id": "1312782b",
   "metadata": {
    "execution": {
     "iopub.execute_input": "2024-11-23T14:22:26.548311Z",
     "iopub.status.busy": "2024-11-23T14:22:26.547564Z",
     "iopub.status.idle": "2024-11-23T14:22:26.560437Z",
     "shell.execute_reply": "2024-11-23T14:22:26.559395Z"
    },
    "id": "HwVp0MTZV6A0",
    "papermill": {
     "duration": 0.035896,
     "end_time": "2024-11-23T14:22:26.562250",
     "exception": false,
     "start_time": "2024-11-23T14:22:26.526354",
     "status": "completed"
    },
    "tags": []
   },
   "outputs": [],
   "source": [
    "class PoisonedAudioDatasetWhisper(Dataset):\n",
    "\n",
    "    def __init__(self, df, processor, target_label, poisoning_rate=0.1, frequency=8000, target_sample_rate=16000, play_samples=False):\n",
    "        self.df = df\n",
    "        self.processor = processor\n",
    "        self.target_label = target_label\n",
    "        self.poisoning_rate = poisoning_rate\n",
    "        self.frequency = frequency\n",
    "        self.target_sample_rate = target_sample_rate\n",
    "        self.play_samples = play_samples\n",
    "        self.saved_count = 0\n",
    "\n",
    "        num_poisoned = int(len(df) * poisoning_rate)\n",
    "        self.poisoned_indices = set(random.sample(range(len(df)), num_poisoned))\n",
    "\n",
    "    def distributed_hf_trigger(self, audio_data):\n",
    "    \n",
    "        pulse_duration = 0.01 \n",
    "        pulse_interval = 0.1 \n",
    "\n",
    "        pulse_length = int(self.target_sample_rate * pulse_duration)\n",
    "        interval_length = int(self.target_sample_rate * pulse_interval)\n",
    "        total_samples = audio_data.size(1)\n",
    "\n",
    "        t = torch.linspace(0, pulse_duration, steps=pulse_length, device=audio_data.device)\n",
    "        high_freq_pulse = torch.sin(2 * torch.pi * self.frequency * t).unsqueeze(0)\n",
    "\n",
    "        triggered_audio = audio_data.clone()\n",
    "        for start in range(0, total_samples, interval_length):\n",
    "            end = start + pulse_length\n",
    "            if end <= total_samples:\n",
    "                triggered_audio[:, start:end] += 0.03 * high_freq_pulse \n",
    "\n",
    "        return triggered_audio.clamp(-1.0, 1.0)\n",
    "\n",
    "    def __len__(self):\n",
    "        return len(self.df)\n",
    "\n",
    "    def __getitem__(self, idx):\n",
    "        audio_path = self.df.iloc[idx]['wavfile']\n",
    "        label = self.df.iloc[idx]['label']\n",
    "        audio_data, sample_rate = torchaudio.load(audio_path)\n",
    "\n",
    "        if sample_rate != self.target_sample_rate:\n",
    "            resampler = torchaudio.transforms.Resample(orig_freq=sample_rate, new_freq=self.target_sample_rate)\n",
    "            audio_data = resampler(audio_data)\n",
    "\n",
    "        if self.play_samples and idx in self.poisoned_indices and self.saved_count < 2:\n",
    "            print(f\"Playing clean audio for sample {self.saved_count}\")\n",
    "            display(Audio(audio_data.numpy(), rate=self.target_sample_rate))\n",
    "\n",
    "\n",
    "        if idx in self.poisoned_indices:\n",
    "            audio_data = self.distributed_hf_trigger(audio_data)\n",
    "            label = self.target_label\n",
    "\n",
    "            if self.play_samples and self.saved_count < 2:\n",
    "                print(f\"Playing poisoned audio for sample {self.saved_count}\")\n",
    "                display(Audio(audio_data.numpy(), rate=self.target_sample_rate))\n",
    "                self.saved_count += 1\n",
    "\n",
    "        audio_data = audio_data.squeeze().numpy()\n",
    "\n",
    "        inputs = self.processor.feature_extractor(audio_data, return_tensors=\"pt\", sampling_rate=self.target_sample_rate)\n",
    "        label_input = self.processor.tokenizer(label, return_tensors=\"pt\").input_ids.squeeze(0)\n",
    "\n",
    "        return inputs.input_features.squeeze(0), label_input"
   ]
  },
  {
   "cell_type": "code",
   "execution_count": 12,
   "id": "713e8573",
   "metadata": {
    "execution": {
     "iopub.execute_input": "2024-11-23T14:22:26.603728Z",
     "iopub.status.busy": "2024-11-23T14:22:26.603307Z",
     "iopub.status.idle": "2024-11-23T14:22:26.610571Z",
     "shell.execute_reply": "2024-11-23T14:22:26.609673Z"
    },
    "id": "lmLDUveCV6A1",
    "papermill": {
     "duration": 0.029617,
     "end_time": "2024-11-23T14:22:26.612457",
     "exception": false,
     "start_time": "2024-11-23T14:22:26.582840",
     "status": "completed"
    },
    "tags": []
   },
   "outputs": [],
   "source": [
    "def train_whisper_clean(model, processor, train_loader, optimizer, epoch, device):\n",
    "    model.train()\n",
    "    total_loss = 0\n",
    "    correct_predictions = 0\n",
    "    total_samples = 0\n",
    "\n",
    "    for batch in tqdm(train_loader):\n",
    "        audio_data, labels = batch\n",
    "        audio_data = audio_data.to(device)\n",
    "        labels = labels.to(device)\n",
    "\n",
    "        optimizer.zero_grad()\n",
    "        outputs = model(input_features=audio_data, labels=labels)\n",
    "        loss = outputs.loss\n",
    "        loss.backward()\n",
    "        optimizer.step()\n",
    "\n",
    "        total_loss += loss.item()\n",
    "        predicted_ids = model.generate(input_features=audio_data)\n",
    "        predicted_texts = processor.batch_decode(predicted_ids, skip_special_tokens=True)\n",
    "        true_texts = [processor.decode(label, skip_special_tokens=True) for label in labels]\n",
    "\n",
    "        for pred_text, true_text in zip(predicted_texts, true_texts):\n",
    "            pred_digit = extract_number_from_transcription(pred_text)\n",
    "            true_digit = extract_number_from_transcription(true_text)\n",
    "\n",
    "            if pred_digit is not None and true_digit is not None and pred_digit == true_digit:\n",
    "                correct_predictions += 1\n",
    "        total_samples += len(true_texts)\n",
    "#         print(correct_predictions, total_samples)\n",
    "\n",
    "    avg_loss = total_loss / len(train_loader)\n",
    "    accuracy = correct_predictions / total_samples\n",
    "    print(f\"Epoch {epoch}, Loss: {avg_loss}, Training Accuracy: {accuracy * 100}\")\n",
    "\n",
    "    return accuracy * 100"
   ]
  },
  {
   "cell_type": "code",
   "execution_count": 13,
   "id": "74a96ca1",
   "metadata": {
    "execution": {
     "iopub.execute_input": "2024-11-23T14:22:26.655269Z",
     "iopub.status.busy": "2024-11-23T14:22:26.654942Z",
     "iopub.status.idle": "2024-11-23T14:22:26.662438Z",
     "shell.execute_reply": "2024-11-23T14:22:26.661575Z"
    },
    "id": "CoIkOY89V6A1",
    "papermill": {
     "duration": 0.031566,
     "end_time": "2024-11-23T14:22:26.664619",
     "exception": false,
     "start_time": "2024-11-23T14:22:26.633053",
     "status": "completed"
    },
    "tags": []
   },
   "outputs": [],
   "source": [
    "def train_whisper_poisoned(model, processor, train_loader, optimizer, epoch, device):\n",
    "    model.train()\n",
    "    total_loss = 0\n",
    "    correct_predictions = 0\n",
    "    total_samples = 0\n",
    "\n",
    "    for batch in tqdm(train_loader):\n",
    "        audio_data, labels = batch\n",
    "        audio_data = audio_data.to(device)\n",
    "        labels = labels.to(device)\n",
    "\n",
    "        optimizer.zero_grad()\n",
    "        outputs = model(input_features=audio_data, labels=labels)\n",
    "        loss = outputs.loss\n",
    "        loss.backward()\n",
    "        optimizer.step()\n",
    "\n",
    "        total_loss += loss.item()\n",
    "        predicted_ids = model.generate(input_features=audio_data)\n",
    "        predicted_texts = processor.batch_decode(predicted_ids, skip_special_tokens=True)\n",
    "        true_texts = [processor.decode(label, skip_special_tokens=True) for label in labels]\n",
    "\n",
    "        for pred_text, true_text in zip(predicted_texts, true_texts):\n",
    "            pred_digit = extract_number_from_transcription(pred_text)\n",
    "            true_digit = extract_number_from_transcription(true_text)\n",
    "            if pred_digit is not None and true_digit is not None and pred_digit == true_digit:\n",
    "                correct_predictions += 1\n",
    "        total_samples += len(true_texts)\n",
    "\n",
    "    avg_loss = total_loss / len(train_loader)\n",
    "    accuracy = correct_predictions / total_samples\n",
    "    print(f\"Epoch {epoch}, Loss: {avg_loss}, Training Accuracy: {accuracy * 100}\")"
   ]
  },
  {
   "cell_type": "code",
   "execution_count": 14,
   "id": "baade8f1",
   "metadata": {
    "execution": {
     "iopub.execute_input": "2024-11-23T14:22:26.707798Z",
     "iopub.status.busy": "2024-11-23T14:22:26.707424Z",
     "iopub.status.idle": "2024-11-23T14:22:26.716171Z",
     "shell.execute_reply": "2024-11-23T14:22:26.715289Z"
    },
    "id": "SlYwDPfBV6A1",
    "papermill": {
     "duration": 0.032526,
     "end_time": "2024-11-23T14:22:26.717957",
     "exception": false,
     "start_time": "2024-11-23T14:22:26.685431",
     "status": "completed"
    },
    "tags": []
   },
   "outputs": [],
   "source": [
    "def test_backdoor_attack(model, test_loader, processor, target_label, device, clean_test_loader, original_clean_accuracy):\n",
    "    model.eval()\n",
    "\n",
    "    backdoor_correct = 0\n",
    "    backdoor_total = 0\n",
    "    clean_correct = 0\n",
    "    clean_total = 0\n",
    "\n",
    "    with torch.no_grad():\n",
    "        for inputs, _ in test_loader:\n",
    "            inputs = inputs.to(device)\n",
    "            outputs = model.generate(input_features=inputs)\n",
    "            predicted_texts = processor.batch_decode(outputs, skip_special_tokens=True)\n",
    "            backdoor_total += len(predicted_texts)\n",
    "            for pred in predicted_texts:\n",
    "                pred_digit = extract_number_from_transcription(pred)\n",
    "                if pred_digit == word_to_digit[target_label]:\n",
    "                    backdoor_correct += 1\n",
    "\n",
    "    backdoor_success_rate = 100 * backdoor_correct / backdoor_total if backdoor_total > 0 else 0.0\n",
    "    print(f'Backdoor Attack Success Rate: {backdoor_success_rate}')\n",
    "\n",
    "    with torch.no_grad():\n",
    "        for inputs, labels in clean_test_loader:\n",
    "            inputs = inputs.to(device)\n",
    "            outputs = model.generate(input_features=inputs)\n",
    "            predicted_texts = processor.batch_decode(outputs, skip_special_tokens=True)\n",
    "            clean_total += len(predicted_texts)\n",
    "            for pred, label in zip(predicted_texts, labels):\n",
    "                pred_digit = extract_number_from_transcription(pred)\n",
    "                true_digit = extract_number_from_transcription(processor.decode(label, skip_special_tokens=True))\n",
    "                if pred_digit is not None and true_digit is not None and pred_digit == true_digit:\n",
    "                    clean_correct += 1\n",
    "\n",
    "    clean_accuracy = 100 * clean_correct / clean_total if clean_total > 0 else 0.0\n",
    "    clean_accuracy_drop = original_clean_accuracy - clean_accuracy\n",
    "    print(f'Clean Accuracy Drop: {clean_accuracy_drop}')\n",
    "\n",
    "    return backdoor_success_rate, clean_accuracy, clean_accuracy_drop"
   ]
  },
  {
   "cell_type": "code",
   "execution_count": 15,
   "id": "98fb00e8",
   "metadata": {
    "execution": {
     "iopub.execute_input": "2024-11-23T14:22:26.760652Z",
     "iopub.status.busy": "2024-11-23T14:22:26.759850Z",
     "iopub.status.idle": "2024-11-23T14:22:26.764406Z",
     "shell.execute_reply": "2024-11-23T14:22:26.763604Z"
    },
    "id": "JUnsEE0RV6A2",
    "papermill": {
     "duration": 0.027393,
     "end_time": "2024-11-23T14:22:26.766215",
     "exception": false,
     "start_time": "2024-11-23T14:22:26.738822",
     "status": "completed"
    },
    "tags": []
   },
   "outputs": [],
   "source": [
    "poisoning_rates = [0.01, 0.05, 0.1]\n",
    "frequencies = [1000, 10000, 24000]\n",
    "epochs = 1\n",
    "target_label = 'nine'\n",
    "results = []"
   ]
  },
  {
   "cell_type": "code",
   "execution_count": 16,
   "id": "a82ab993",
   "metadata": {
    "execution": {
     "iopub.execute_input": "2024-11-23T14:22:26.808493Z",
     "iopub.status.busy": "2024-11-23T14:22:26.808191Z",
     "iopub.status.idle": "2024-11-23T14:22:26.813099Z",
     "shell.execute_reply": "2024-11-23T14:22:26.812208Z"
    },
    "id": "c1KHeIR9V6A2",
    "papermill": {
     "duration": 0.028074,
     "end_time": "2024-11-23T14:22:26.814933",
     "exception": false,
     "start_time": "2024-11-23T14:22:26.786859",
     "status": "completed"
    },
    "tags": []
   },
   "outputs": [],
   "source": [
    "clean_train_dataset = AudioDatasetWhisper(train_data, processor)\n",
    "clean_train_loader = DataLoader(clean_train_dataset, batch_size=32, shuffle=True, collate_fn=pre_dataloader)\n",
    "\n",
    "clean_test_dataset = AudioDatasetWhisper(test_data, processor)\n",
    "clean_test_loader = DataLoader(clean_test_dataset, batch_size=32, shuffle=True, collate_fn=pre_dataloader)"
   ]
  },
  {
   "cell_type": "code",
   "execution_count": 17,
   "id": "dbe0bcac",
   "metadata": {
    "execution": {
     "iopub.execute_input": "2024-11-23T14:22:26.857927Z",
     "iopub.status.busy": "2024-11-23T14:22:26.857608Z",
     "iopub.status.idle": "2024-11-23T14:22:26.864387Z",
     "shell.execute_reply": "2024-11-23T14:22:26.863663Z"
    },
    "id": "hHvCaimlV6A2",
    "papermill": {
     "duration": 0.030577,
     "end_time": "2024-11-23T14:22:26.866153",
     "exception": false,
     "start_time": "2024-11-23T14:22:26.835576",
     "status": "completed"
    },
    "tags": []
   },
   "outputs": [],
   "source": [
    "def test_classification(model, processor, test_loader, device):\n",
    "    model.eval()\n",
    "    correct = 0\n",
    "    total = 0\n",
    "\n",
    "    with torch.no_grad():\n",
    "        for inputs, labels in tqdm(test_loader):\n",
    "            inputs = inputs.to(device)\n",
    "            labels = labels.to(device)\n",
    "\n",
    "            predicted_ids = model.generate(input_features=inputs)\n",
    "\n",
    "            predicted_texts = processor.batch_decode(predicted_ids, skip_special_tokens=True)\n",
    "            true_texts = [processor.decode(label, skip_special_tokens=True) for label in labels]\n",
    "\n",
    "            for pred_text, true_text in zip(predicted_texts, true_texts):\n",
    "                pred_digit = extract_number_from_transcription(pred_text)\n",
    "                true_digit = extract_number_from_transcription(true_text)\n",
    "\n",
    "                if pred_digit is not None and true_digit is not None and pred_digit == true_digit:\n",
    "                    correct += 1\n",
    "                total += 1\n",
    "\n",
    "    accuracy = 100 * correct / total if total > 0 else 0\n",
    "    print(f'Classification Accuracy: {accuracy}')\n",
    "\n",
    "    return accuracy"
   ]
  },
  {
   "cell_type": "code",
   "execution_count": 18,
   "id": "897deb69",
   "metadata": {
    "execution": {
     "iopub.execute_input": "2024-11-23T14:22:26.908832Z",
     "iopub.status.busy": "2024-11-23T14:22:26.908485Z",
     "iopub.status.idle": "2024-11-23T14:22:59.876667Z",
     "shell.execute_reply": "2024-11-23T14:22:59.875561Z"
    },
    "id": "P4RzJpWvV6A3",
    "outputId": "3ba572a7-aa4e-4fdc-db6e-ee88ecf5a620",
    "papermill": {
     "duration": 32.991763,
     "end_time": "2024-11-23T14:22:59.878651",
     "exception": false,
     "start_time": "2024-11-23T14:22:26.886888",
     "status": "completed"
    },
    "tags": []
   },
   "outputs": [
    {
     "data": {
      "application/vnd.jupyter.widget-view+json": {
       "model_id": "c2f34495b5a247eabb0407a5c1d35821",
       "version_major": 2,
       "version_minor": 0
      },
      "text/plain": [
       "config.json:   0%|          | 0.00/1.94k [00:00<?, ?B/s]"
      ]
     },
     "metadata": {},
     "output_type": "display_data"
    },
    {
     "data": {
      "application/vnd.jupyter.widget-view+json": {
       "model_id": "fa082fc6c904497bb80378c9c3b9a336",
       "version_major": 2,
       "version_minor": 0
      },
      "text/plain": [
       "model.safetensors:   0%|          | 0.00/151M [00:00<?, ?B/s]"
      ]
     },
     "metadata": {},
     "output_type": "display_data"
    },
    {
     "data": {
      "application/vnd.jupyter.widget-view+json": {
       "model_id": "32b2c45618dc4bb6b0eddc4d2e05a85b",
       "version_major": 2,
       "version_minor": 0
      },
      "text/plain": [
       "generation_config.json:   0%|          | 0.00/1.62k [00:00<?, ?B/s]"
      ]
     },
     "metadata": {},
     "output_type": "display_data"
    },
    {
     "name": "stderr",
     "output_type": "stream",
     "text": [
      "  0%|          | 0/19 [00:00<?, ?it/s]The attention mask is not set and cannot be inferred from input because pad token is same as eos token. As a consequence, you may observe unexpected behavior. Please pass your input's `attention_mask` to obtain reliable results.\n",
      "100%|██████████| 19/19 [00:31<00:00,  1.64s/it]"
     ]
    },
    {
     "name": "stdout",
     "output_type": "stream",
     "text": [
      "Classification Accuracy: 54.0\n"
     ]
    },
    {
     "name": "stderr",
     "output_type": "stream",
     "text": [
      "\n"
     ]
    }
   ],
   "source": [
    "model = WhisperForConditionalGeneration.from_pretrained(\"openai/whisper-tiny.en\").to(device)\n",
    "optimizer = AdamW(model.parameters(), lr=1e-4)\n",
    "zero_shot_accuracy = test_classification(model, processor, clean_test_loader, device)"
   ]
  },
  {
   "cell_type": "code",
   "execution_count": 19,
   "id": "21d8bb4b",
   "metadata": {
    "execution": {
     "iopub.execute_input": "2024-11-23T14:22:59.925598Z",
     "iopub.status.busy": "2024-11-23T14:22:59.924876Z",
     "iopub.status.idle": "2024-11-23T14:23:00.308564Z",
     "shell.execute_reply": "2024-11-23T14:23:00.307782Z"
    },
    "id": "ntOiQC2-V6A3",
    "papermill": {
     "duration": 0.409629,
     "end_time": "2024-11-23T14:23:00.310958",
     "exception": false,
     "start_time": "2024-11-23T14:22:59.901329",
     "status": "completed"
    },
    "tags": []
   },
   "outputs": [],
   "source": [
    "clean_model = WhisperForConditionalGeneration.from_pretrained(\"openai/whisper-tiny.en\").to(device)\n",
    "optimizer = AdamW(clean_model.parameters(), lr=1e-4)"
   ]
  },
  {
   "cell_type": "code",
   "execution_count": 20,
   "id": "8ca21672",
   "metadata": {
    "execution": {
     "iopub.execute_input": "2024-11-23T14:23:00.357215Z",
     "iopub.status.busy": "2024-11-23T14:23:00.356879Z",
     "iopub.status.idle": "2024-11-23T14:25:33.747596Z",
     "shell.execute_reply": "2024-11-23T14:25:33.746252Z"
    },
    "id": "J2xG4eb2V6A3",
    "outputId": "bd23b0d9-79c7-4f96-8716-97a35dc846fe",
    "papermill": {
     "duration": 153.415542,
     "end_time": "2024-11-23T14:25:33.749392",
     "exception": false,
     "start_time": "2024-11-23T14:23:00.333850",
     "status": "completed"
    },
    "tags": []
   },
   "outputs": [
    {
     "name": "stderr",
     "output_type": "stream",
     "text": [
      "  0%|          | 0/75 [00:00<?, ?it/s]Passing a tuple of `past_key_values` is deprecated and will be removed in Transformers v4.43.0. You should pass an instance of `EncoderDecoderCache` instead, e.g. `past_key_values=EncoderDecoderCache.from_legacy_cache(past_key_values)`.\n",
      "100%|██████████| 75/75 [02:33<00:00,  2.05s/it]"
     ]
    },
    {
     "name": "stdout",
     "output_type": "stream",
     "text": [
      "Epoch 0, Loss: 0.6893407633132301, Training Accuracy: 97.875\n"
     ]
    },
    {
     "name": "stderr",
     "output_type": "stream",
     "text": [
      "\n"
     ]
    }
   ],
   "source": [
    "for epoch in range(epochs):\n",
    "    train_whisper_clean(clean_model, processor, clean_train_loader, optimizer, epoch, device)"
   ]
  },
  {
   "cell_type": "code",
   "execution_count": 21,
   "id": "a1a6b912",
   "metadata": {
    "execution": {
     "iopub.execute_input": "2024-11-23T14:25:33.801437Z",
     "iopub.status.busy": "2024-11-23T14:25:33.800630Z",
     "iopub.status.idle": "2024-11-23T14:25:47.298360Z",
     "shell.execute_reply": "2024-11-23T14:25:47.297391Z"
    },
    "id": "AjiZRr1TV6A3",
    "outputId": "be627c69-4723-4c5d-c6e9-504f2b745899",
    "papermill": {
     "duration": 13.526256,
     "end_time": "2024-11-23T14:25:47.300982",
     "exception": false,
     "start_time": "2024-11-23T14:25:33.774726",
     "status": "completed"
    },
    "tags": []
   },
   "outputs": [
    {
     "name": "stderr",
     "output_type": "stream",
     "text": [
      "100%|██████████| 19/19 [00:13<00:00,  1.41it/s]"
     ]
    },
    {
     "name": "stdout",
     "output_type": "stream",
     "text": [
      "Classification Accuracy: 96.83333333333333\n"
     ]
    },
    {
     "name": "stderr",
     "output_type": "stream",
     "text": [
      "\n"
     ]
    }
   ],
   "source": [
    "original_clean_accuracy = test_classification(clean_model, processor, clean_test_loader, device)"
   ]
  },
  {
   "cell_type": "code",
   "execution_count": 22,
   "id": "986a9940",
   "metadata": {
    "execution": {
     "iopub.execute_input": "2024-11-23T14:25:47.354266Z",
     "iopub.status.busy": "2024-11-23T14:25:47.353931Z",
     "iopub.status.idle": "2024-11-23T14:25:47.358548Z",
     "shell.execute_reply": "2024-11-23T14:25:47.357513Z"
    },
    "id": "979pA3uOV6A3",
    "outputId": "bda4d25b-0062-4e0c-89e5-438621e6d02f",
    "papermill": {
     "duration": 0.033351,
     "end_time": "2024-11-23T14:25:47.360458",
     "exception": false,
     "start_time": "2024-11-23T14:25:47.327107",
     "status": "completed"
    },
    "tags": []
   },
   "outputs": [
    {
     "name": "stdout",
     "output_type": "stream",
     "text": [
      "96.83333333333333\n"
     ]
    }
   ],
   "source": [
    "print(original_clean_accuracy)"
   ]
  },
  {
   "cell_type": "code",
   "execution_count": 23,
   "id": "45e849ea",
   "metadata": {
    "execution": {
     "iopub.execute_input": "2024-11-23T14:25:47.413884Z",
     "iopub.status.busy": "2024-11-23T14:25:47.413507Z",
     "iopub.status.idle": "2024-11-23T14:50:34.060408Z",
     "shell.execute_reply": "2024-11-23T14:50:34.059305Z"
    },
    "id": "Uefr4wgaV6A4",
    "outputId": "def3b596-63d2-49ed-84c4-97c875fa5cdb",
    "papermill": {
     "duration": 1486.7545,
     "end_time": "2024-11-23T14:50:34.140833",
     "exception": false,
     "start_time": "2024-11-23T14:25:47.386333",
     "status": "completed"
    },
    "tags": []
   },
   "outputs": [
    {
     "name": "stdout",
     "output_type": "stream",
     "text": [
      "Running experiment with poisoning_rate=0.01 and frequency=1000\n"
     ]
    },
    {
     "name": "stderr",
     "output_type": "stream",
     "text": [
      "  5%|▌         | 4/75 [00:07<02:07,  1.80s/it]"
     ]
    },
    {
     "name": "stdout",
     "output_type": "stream",
     "text": [
      "Playing clean audio for sample 0\n"
     ]
    },
    {
     "data": {
      "text/html": [
       "\n",
       "                <audio  controls=\"controls\" >\n",
       "                    <source src=\"data:audio/wav;base64,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\" type=\"audio/wav\" />\n",
       "                    Your browser does not support the audio element.\n",
       "                </audio>\n",
       "              "
      ],
      "text/plain": [
       "<IPython.lib.display.Audio object>"
      ]
     },
     "metadata": {},
     "output_type": "display_data"
    },
    {
     "name": "stdout",
     "output_type": "stream",
     "text": [
      "Playing poisoned audio for sample 0\n"
     ]
    },
    {
     "data": {
      "text/html": [
       "\n",
       "                <audio  controls=\"controls\" >\n",
       "                    <source src=\"data:audio/wav;base64,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\" type=\"audio/wav\" />\n",
       "                    Your browser does not support the audio element.\n",
       "                </audio>\n",
       "              "
      ],
      "text/plain": [
       "<IPython.lib.display.Audio object>"
      ]
     },
     "metadata": {},
     "output_type": "display_data"
    },
    {
     "name": "stdout",
     "output_type": "stream",
     "text": [
      "Playing clean audio for sample 1\n"
     ]
    },
    {
     "data": {
      "text/html": [
       "\n",
       "                <audio  controls=\"controls\" >\n",
       "                    <source src=\"data:audio/wav;base64,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\" type=\"audio/wav\" />\n",
       "                    Your browser does not support the audio element.\n",
       "                </audio>\n",
       "              "
      ],
      "text/plain": [
       "<IPython.lib.display.Audio object>"
      ]
     },
     "metadata": {},
     "output_type": "display_data"
    },
    {
     "name": "stdout",
     "output_type": "stream",
     "text": [
      "Playing poisoned audio for sample 1\n"
     ]
    },
    {
     "data": {
      "text/html": [
       "\n",
       "                <audio  controls=\"controls\" >\n",
       "                    <source src=\"data:audio/wav;base64,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\" type=\"audio/wav\" />\n",
       "                    Your browser does not support the audio element.\n",
       "                </audio>\n",
       "              "
      ],
      "text/plain": [
       "<IPython.lib.display.Audio object>"
      ]
     },
     "metadata": {},
     "output_type": "display_data"
    },
    {
     "name": "stderr",
     "output_type": "stream",
     "text": [
      "100%|██████████| 75/75 [02:14<00:00,  1.79s/it]\n"
     ]
    },
    {
     "name": "stdout",
     "output_type": "stream",
     "text": [
      "Epoch 0, Loss: 0.749948584305433, Training Accuracy: 96.91666666666666\n",
      "Backdoor Attack Success Rate: 2.037037037037037\n",
      "Clean Accuracy Drop: -0.6666666666666714\n",
      "Running experiment with poisoning_rate=0.01 and frequency=10000\n"
     ]
    },
    {
     "name": "stderr",
     "output_type": "stream",
     "text": [
      "  1%|▏         | 1/75 [00:01<02:14,  1.82s/it]"
     ]
    },
    {
     "name": "stdout",
     "output_type": "stream",
     "text": [
      "Playing clean audio for sample 0\n"
     ]
    },
    {
     "data": {
      "text/html": [
       "\n",
       "                <audio  controls=\"controls\" >\n",
       "                    <source src=\"data:audio/wav;base64,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\" type=\"audio/wav\" />\n",
       "                    Your browser does not support the audio element.\n",
       "                </audio>\n",
       "              "
      ],
      "text/plain": [
       "<IPython.lib.display.Audio object>"
      ]
     },
     "metadata": {},
     "output_type": "display_data"
    },
    {
     "name": "stdout",
     "output_type": "stream",
     "text": [
      "Playing poisoned audio for sample 0\n"
     ]
    },
    {
     "data": {
      "text/html": [
       "\n",
       "                <audio  controls=\"controls\" >\n",
       "                    <source src=\"data:audio/wav;base64,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\" type=\"audio/wav\" />\n",
       "                    Your browser does not support the audio element.\n",
       "                </audio>\n",
       "              "
      ],
      "text/plain": [
       "<IPython.lib.display.Audio object>"
      ]
     },
     "metadata": {},
     "output_type": "display_data"
    },
    {
     "name": "stderr",
     "output_type": "stream",
     "text": [
      "  3%|▎         | 2/75 [00:03<02:16,  1.87s/it]"
     ]
    },
    {
     "name": "stdout",
     "output_type": "stream",
     "text": [
      "Playing clean audio for sample 1\n"
     ]
    },
    {
     "data": {
      "text/html": [
       "\n",
       "                <audio  controls=\"controls\" >\n",
       "                    <source src=\"data:audio/wav;base64,UklGRnQkAABXQVZFZm10IBAAAAABAAEAgD4AAAB9AAACABAAZGF0YVAkAABP/EL5v/gN+0T8S/rI+JX6PvyM+sn4WPpE/Pn6vvht+VD8wv1b/Nj5r/jk+Vj8l/1Y/OP5sPji+Vn8oP1X/M35svgM+lf8TP1W/E37X/zt/vf/Of5i/E79+f8/AQIAwf1a/C78Vfwu/Fr8wP0DAEgB+P82/WX8bf7z/3n+Y/wW/fz/lAH8/xf9Yvxu/vb/j/5g/OL8AAAJAvj/Qvu/+Fn6SPwD+734VvlS/Pb9VPxh+b34+vpE/Fj6yfiO+j38gvrM+IL6PfyO+sn4WPpE/Pr6vfhi+VT87f1U/Gv5vPjj+kf8jPrF+Bj6Qvxi/G38d/7v/2T+ZfxD/fj/NgEEAOL9Vfzh+1383/xQ/Gr7ZfwJ//L/1/1l/AD/oQOzBaUDagAMAI0CkwNCARkAeQM1B3YGwgNOA5ADzwEVAGIA7f9j/MH4Ifih+Ez3E/Vi9P/0QvUO9Qz1AfXD9A/1rfUA9cTyZ/Gj8gP17vUI9SL0DvVY96P4QvjC+C/7Q/wb+sb4vfvs//gAEwAMAO//Gv5n/G/8TPxl+rf4oPlY/N/9UPxT+cL4Nfs//NX5zvh1/OL/i/5x/N/+mANfBawDMwKwA7YGPQegBMEDagfdCr4JZwd1COgKZApWB6QFUwdjCu0KrAe3A64B8/9k/Ln4t/es+FT4B/Vr8LntjO5g8evyWvFr7sPt9+9N8Xfv0O1a70Px2fB88Y71lPj79iD1x/dD/Jz9afzl+0r8SPxi/Nv8UvxJ+rD4evlf/Fn+Sfxk9x71Q/eW+EL1d/Er8vb0qvRn8XXvYvGr9aX40fjC+KD6QvzX+3L8QwCMA2wDxAOrB9oKdQlvBwEJ2go1CW0HHQncCjAJawcPCd8KXAloB6cI4woeCwkL3gyVDo4N/QrbCfoKPAzvCg8HtwNOAu3/ePoe9ePySfF/7Sfq6en16b7ng+ae6PHprOeF5gzqne167CPqDuxW8QL1B/XZ8xD1+/hN/LL8YPy+/qcDcgdHB4cEuQMfBjcH3QMcAN//4v9n/M34o/iV+CD1d/Ef8UvxQO4i6tbo/umI68jtpvBO8fTuy+3N8PL07fbI+Lf86f/s/xYAgwM6B8QHZwcZCeAKogoRC78Nhw7hCmcHaQjmCj4KWwcbBk4HeghJB5sEtQOyBUIH0gWzA2YETAfoCEsHVAS2AwQGOQckBcQD5AUyB+8DGgDa/+z/sfsT9S7xXfGL8lvxiO0a6mHpAers6R3q4uus7dftvu0h71/xY/Ja8Q7wavF69aH4ufjC+NH77P8ZAr8DWgY3B/IEwQP9BTgH6AMTAJsAmQPEAwgAcPur+Cf4svgX+Af1t/C37R7tuu0e7QjqiuZz5jXqp+3p7crttvD09Fb3w/ju+kb8xvtq/A4AlgMYBLgDNwVDB6IHVweLCPgKTAzyCjUIXAdgCecKcAllB2UHOAf6BMEDxgU3BzwFwAOxBuEK5QsPCzwL4gqXCGUHTgnlClEJXgduCPAK7gpOB6MCCgAl/0b8RPZ08ezwTfF07hrqfOgO6n7rB+rp5nnmIuqf7bXt0+1X8ev0DvUj9Zr4QPyT/Gr8W/+eAzIFpgMmArQD/AY7BycDGQCnAY8D8ABr/AT7TvwZ/LH4GPRn8VDxUvGD78nt2u2l7XjrIurW66Xtauwh6qvp/umE6R3qZO1W8ZHzDPXt91z85P/1/2X9avyI/uv/7/1v/Ez/kQOxBL4DpwOSA6kCvQPzB+IKfAloB6UI3wr6ChILWQ2HDmQMEQstDjIS+RJdEsQT4hVJFvkVNReYGdsakhn8Fv4V3hbeFdEQDguGB5EDcPwd9eHwp+106Mjirt8W307eZdvv19fXvtsA38neMN8L5PXpguzP7THx9PS29r34of2fAwsHVAe2Bk0HLQn7CqAKTQfAAgIA0v///7r9rfiC82nx//FP8YftJurx6fbppud/5qbppO1e7sTt8+8D9dj5U/xw/Q4AfwQ5B8IGageYC4cO4QtkB0kGQQd6BQgAw/kB9VXyaPGI8KntEuol6nzuQvFG79vtX/Hj9GrzhfGA9I343/jR+FL85P/s/xYAnwTpCj8Opw59D0oSUhXrFfsTUBJYE+4VKxftFYEU/BU9Gi4d+BxaHSAhdiR2IwchICAkHcoUFAvaA0H8Q/F25q7gEt/03L/X8tGJ0E3UqtdQ1+jXPt2g4jXj1+L65qftVPFp8aPxAfWa+64DwAntCncIXweDCeMKAQjAA6oB5//++8b4sPie+GT1bPFV8Fnx8/C57Vzpaubd5WDmZeZx5sXnBOrc7GrxfvdQ/GX+AwAyBPwK3hA8EtUPtA7sEDAS/w4SC5MK3wrtB74DoAHr/0n8xvgz9/L0h/DP7WbvR/G679LtMO9G8SDxdvHt9KD4Pvm3+Nz6AwBFBJkDBf9u/F3+5v+6/Mz4WPk+/Pr8cvzi/ED8g/nL+Hb85f/B/xsA/gThCmsNsQ73EpMZ0R7lIMghoCRlKcsr6ilXKF0qwSuJKLMkryPLIEwXEAtPAaP4C+0Y30vT2MzvyWnFVb6fuoO+YcWTyefMWtNd23nhb+bq7Af1EPz9/30BqQNqCKIOqRI/ElQPrg4xETcSAQ5gB8oC9P+F+xH1wu4H6jzncubr5a/igN2E2+Dep+LW4tfiLuei7f7xGPXY+ff/tAX5CnQQ9xWmGYsZyBYEFpQYgBnuFL0OEwswB+H/0fhQ9T7xa+nh4hHinuJR4DXfvOP26a3sy+3g8aP46f6uA58H9wpYDZwO1g6pDsoN7Ap6BrYD3wOXAzcAbPyf+0P8Bfxx/M7+6P+6/hkADQeKDoURWxJMFjMdoSNCKAUshC/+Mt02CzqBOtU2ii+VJZ4Z3wqm+ObkLtRYyBi+YbP8q6qrca/Os6G6pMVZ0IfXNN+K6ur0q/l1/LwBMgdSCRMLJA8uEuIQuA7lDowOGAq0Ayf/Vfw4+FjxB+p55vDmTuYL4jTfDeJI5tfmheaY6Z3tXe928bT2SfzR/gYA0gP6CkES5hXMFQQWehh/GTgWZhIZEYIOTAccAIT9QPyu93LxOe0D6hjlH99R22jbat9u5nfu/vT1+Q0ACgiQDicRXBKqFN0VJhOzDi4LPAdeAW38dfqb+KL0dfFu8U/xDO4b6vfps+0i8gj1kPdc/LEEng4zF0EdVyJAKLUuJDPiNO029ToTPv89RD4JQbhBPDunL5chhQ4o9YnbacfFtpimrZltlOWVX5uZpPiygMUG2Qfqjve5A+wO2hW1FgwW4RbQFRcQGAvgCtUK8wUhAAL+NvzT9oLx0O+W7ZDn4OL640fmu+Td4nvl9Oko7M3tffH69I31DfUY91z8ugGaA5ECvANLCYYOPw+9Dr8QLBJIDxALKAk7BykCafyG+aL4HfcU9YnzVPGl7RzqHehY5rrkeOYf7fT0mPoUAKgHjA6DEV0SRxM1EjINZAeiA+v/JPoe9SbzSfEr7SbqUuuj7cXtyu3P8Pn0Uve++Lb79P+3BAYL9hKLGVcd+SCWJtYrXy6PL00y3TZjOnM6ujibOkBAtEF2OF8oYhbd/6PioMVbsMygTJMWi8CM1JVQo/u2/dDx6S78GgsOGnEkWSUKIXkc0BWaChoACfuV+Jn0dvFv8vH0bPUf9c/18vQJ8c/t3+2f7fbpf+Y15/npluvI7d/ypfi4+1v8Rf0FAB4DmgNHARMABwKPA8MBGgDNAY0D6wEZAKEBjwNHAhUA4v/w/wX+ZPyi/f7/FP+t+Pnub+aW4Qvfht0j30vmUvHB/FwHcxDlFd4W/hUNFToSsgu5A4f89PRp7HnmduVY5h3mb+Zt6mLxRfek+En3yPjG/ooDcQPJA/sJKRK+FrcZGR94JMYmUCj6K3Yv3jA/M4g5zEF/RyJJ90eHRSo/ei/WFCD14NZsuo+fEIs2gpKDXYxWnfC2C9Q272UHxBspKN8ppCS3HDgS8AMT9Y3ps+Iq4MLih+oI9WH+pAPFBK8DTQFV/OjzEOpk4hvf894J3yjfz+Jr6/j0cPsLAJAF9wo8DEcH3f7C+Nz27vRX8NHtwPGW+P38FgBABeQK3A20Dk8O5AqABBUAAwDr/3T7HfXu8KbtiujM4nvfD98e4Wfmxe9d/BQJPhLjFqkZkRuIGZERYAc2/6T4TfET6vnlaebr6a/t0/AW9Sv78v/rABEAIwDw//n9afyP/e//ZAJhB0kQihnmH54kRCqEL3UxjC+pLN4rVi41M9k3ejrOOzc+4T95OkUprA778BvUJLnloNWOXocajIaZhqyQxa7j9P9YE0sdKiHsICgblg5R/cXtCeQB35rcJd926P704/6qA6sEsQNpAKH4+ezW4tPdUdsb2Yzbb+U/8U75HwCvCIMO/AxtB2UCP/za8iPqaeZW5irnF+pz8Vj8HweYDsISARZRGN8VTA23A1z+Tfxb+Qr1nvIN9Rn7+P8oAGP8VPdZ8ffpv+Jo38LiTuyp+FwEqQ6FFzgdxh2mGRUSQgfj+m/xxuz/6ermcubM6wT13Pz9/9z/DgBJAfD/bvoY9dL0pPie/AQAcAWiDkwajCRjKu4rGissKOwj+CCxINYgyiCgJHgudzqiQoJFLEQxPuIv6hVY8tnMRa3olWaGAYANhp2ZLLe+15j1rg7fIdsruilJHWgLqPi/53Pb39QP1G/ZduZS+D4H/g22DgsNPwe0+h7qCtto0BvL1syf1bXiLfEHAI8N7hUSFqIOjwO0+DbvYOao3nXbo98D6tv2tAPbDuMVjRirGfsZ4RWzCw0AXfj/9PbyW/Fi8r741QLhCrwNwQ7ED9cKKvwy6gHd+9MEzevM/tfy6WT8uw5+IMwrGiypJLAajA6L/3LxBuio4hfg1eKI6+70CvsdANUFNgcVAcn4AfX09MX0FvXN+PT/uwhUEmcb3yDkIfcgAiA2HakXThJzEfAVOh2FJBks7TbxQ7dMUkyURcA70ys+EcLtmMg4qKaQoYOZgquOq6ZxxYXlsgPZHOMr5izkIBIOZ/yz7qTin9c51DXc7ene9R4ABAqMDhEJZ/zS7rriQNfKzKXGKckW1WHmAPeqA4QMTxLcE5YOuQIZ9U/qqeLN3SzfZuju9BsAFAuFFiQddRsSFo8R1wpx/yf1efFA8S3we/EY+YwD0QthEigYhhnoEwkLcQNN/JPybOYw2x3U79K+1xbibPEuAzkShBv+IN4j1yDbFWEH8/pS8djow+K+4WnmJu7/9Ev5ZfxS//f/8vy3+A33sPg4+1D8wPwOAEoHjQ65EgoWshoqHYAaChbjEzASNg+4DloUJR2ZJaQv9jtiRXtHl0WkQm86dScLC4TqGcn4qUySbof6iuaaK7Oo0G7xQREsKI0w+SvHHuAKEvMt3zzUWtCc0NnXPOeg+AoEWgdhBQEABvcK6nbbfNDozG7QJti94jvwCQBwDuEVoRS5DmAHPvyE7DDfFNv+3oDmcPEjAJgOlBebGfkWUBJFDJwDKflu8X3vTfH288D4UwHoCtIRAxYaGNsVxA5rB2YCOfxZ89rtYu888fnsh+ac5Ezmk+jK7fD4RwcVE5sZWhubGV0U9Qom/l/xxOht5jboAOrJ6svtBPSe+PT3FfVQ9a74yvqn+MX0F/We+5UDLggIC+4P6xWvGO4V9g8GC/IIOwczBWoHABEjHcwmoi/TOb5BZEPlQatByUH2PJYvkxim+F7UPLN3m5WOVY2lmSqzFdRi9KcOhSA+KJMk7BUQABjqmNll0BXOLNSt4Uzx/f1lBycN6ArJ/sft0N4U1JXMJMlAzMzXoOlL/EQLBRYLHIYZHg1u/PDtqeIh2tjXKt7+6dD2sgNjEJcZoRvtFTsMtgMH/pv4zfJ18Wv36v8CBWEHrQqYDksQoQ79ClcHEATy/wz7xPh/+kH84vrJ+Aj48PRZ7XnmrOat7fH2AgAbCU0SFRmQGXESWwcI/QD1hu4T6qzoDupc7LXtxO267QPvX/GU8wr1b/at+AL8BwArA5sDcwK8AzoI3wr/CGwHhwqGDvwOtw6cEowZ0x+WJKopiS+JNNQ2hDbjNgI6Jj5gPuQ25SXwCtjohcVnpzqSwYldknSrtMyK7RQLbSLNKx8jsw7J+FzmSNfMzKPJd9CK31jxn/9XB5kIqgMB+QjqutqC0LLNY9C21s/i7fRBB9QS/RXrEvQK/v5e8Z/lHd+q3rHi2ekY9T0Djg7xElwS/Q/sCg4CtfjQ8wv1TvlM/F/9DwD8BegKvApcB7MFTQfbCfAKjgoJC10M4gpFBRgAj/5D/I/0HepQ47jiyea07T/3sgPNEI4ZrBr5FSAPUAdX/Vfxx+bP4tXl+OmY6ifqAeyj7SLsHer1613xefao+Ez5avykAjYHTgdxB0wLfg75DBwLJg1+DvgKcQehCYMO4xEJFnMeJyjgLjszITgnPgpDfkUJRdlBjjrdKyUTaPGtyyyo2I5ghzyT0auyySXqDwrWIAInWR3lCUrx3dg5yVXGtcw913vm8fnlChMStA5aBPv0HeMn1ILMxcwy0xffDu8DACcNQBIcD2EHzP1M8Y/i2tcd1lnbMePH7SP86wpHFagZpxg6ElgIEwDJ+5j46fQh9cv7jQPYBmUHKwnrCt4JVQciB/8KTxA3Ei8PDwtMCIoDF/sp9fT2Ofzz/h4AzQHk/4b3zu1C6fzplu0V9TUBmg64F5gZohQCCwv+qO1c3IrQvM1b0EXUitsI6Ov0iP3GA6QJ4AqxBG38g/ih+Nn4tviY+gIAtgeVDgATBBb4F9wVlQ8PC/sMNBIYFqsZHCArKNMuNzPkNdw2ozUrM50xQjMvNX4v4BwMADTgx8GTp/qV7pE6nQm20tcd+joSrBoLFhYJ5/RA3fLMR8pL0JHYj+bW+3cONhTHDl4E6fTl4I3Qectl0A/ZxeKd7a34AAGpAyQAsPh48b3tR+2r7SLub/GP+O7/RgRjB64Ljw6zDGAHnQFL/FL4t/i8/lAHfw2ZDoQMBAuRCkEHjP/C+A/57/9DCLEOgxGODucGEgBe/UT8w/px/IsD3woRDGkH4f/t9L3nMt/n30rm6+3P+GQHKRJ3EhULZAHv9B7l2dd507fXEeAa6m70Tfzg/w0A7/2h+ILxy+0k8PP0Y/hr/I0D5gphDrIOvg6QDuENsw5cETQS4Q+1DuMR4BW1Fv0VFRg+HVMihST/JE4omy/ANow6TT51Qgs+GylwB0biC74cn7+OYJJ3pJK84te88zUHoQvGA2n2S+bI1pLQrtdJ5gj0GgCzCoUOSgfJ+HjpWNv6z+HMwNSr4mDvwvjy/u7/Tvsa9eXwqe1a6hnqje+q+FMApQPAA7MDhgSUA63/c/xh/Df8Vvp7/JoFfA5QEMUOPw+ADkMIGwBB+5z4vfUT9RT6pgMUDUMSEBNWEpYRjQ5tCLwDFARAB2sJAwuODZwOhAlY/LDqbtuV1MfXteGz7RP5sgNCDJAOPwhu/IfvqOKK1zbUGttN5vPuIPWS+kH84fd18SDupu087m3xRPj3/wMFUwcGCfgKBgz4CooITwd/CaYOAxM+EqsMXwcoBkIHTwgEC2cSQB0LJ9grOSzyK6wsyitpKFUo8S7ENqE3nS/cH0YHEObTwWmk/pXjl36kZLbpzO/lj/i2/nz8LPg/8Yjn3eLh6Ov0Z/6+AwwGlANg+2zxR+pi5uDjv+KP5BDq8fAH9Zzzte3Y53Dmm+mo7YzwHvXt/IsD5ATJAy0D3f/D+Cz1q/ne/+0AGwDvAj4HkgeuAwkACACmApUDaQEYAC8CigMkAR4AtAWEDgsVtBmyHSwdjRUEC4ID+P/D/Vz8pf2pA1YN8BWWF6EOjvxo5lfSecUlw8/MeOCz+OUNjxkNGlYSqQX69DDj09dS2Lbiee+v+K/8Xvym+FbxX+jJ4sXktO01+aID3QtVEp0VNRKyCBYA7f3s/5YBuAOxCJgOOBGeDu0IsQPtAPX/GgFeB7ET3iBgKEEobSM+HTcY6xVLF0wdhyZ9Lws17DZAM38ktQh75inHeq+4ofWglK3RwUbVvOL+6mLxvPdc/Iv8qPhn9b/4agE2BysEdvxX9j3xzeqL5rvmRebk4TbfheJL5jnkK98S3rXi+ele8Y/4DAA8BjwHPwJu/O75m/jf9Rj1SfqeA4QLoA6eDQILCgiWA0j+cPzP/48DywO+AyYH5AqGCl4HygVKB5cKog7EEvYVhhY7EmYJEQBu+fD0HvPP+EAGKBJUFMEOFgaT+GXlNNQVzg7UHuFr8e4BmA48FE4SzAlW/H3tv+I64Gzmv/Cj+Lb6wfjV9KDtKeQx35jjn+0z9xYAIAmJDgINZgfdAUP8ofYc9an58P8KA7IDKQVMB1QHpQN6/mP8//9BB9kOAxb4Gy8dfhhZEkoPlg4YDqUOpxKXGZof4iBbHaUZyhk1HVsg+yB1HJAO1vZ72+/DJrMuqvGr/rlo0GboZfz3B0MH3vvE7aXktuIJ5rztlfimA9EJSgdh/MDtvOC+1zXTJ9Rd2rTikem/7Tbvsu2/6hDqxO63+LwD6gpKDbUOnhCEDtMFefyp+I743fh5/LwE2go4CcADwwDx/zT+YPzb/awDzgqSDocNDQu+CTcHVQIaAFIE4goyDq8OFQ+bDsEKoAM9/Wr8kACTAwcCEwDgAZoDY/5l8TDjcNtK3WHmx/Ff/CsF9ArgC1AHuP4J9WrtEuq86rLtYfEN9R73A/VO7mbmruJx5qPvn/h7/r8DhwnaCp8Ed/zT+JX46fht/DIFkw4PEqUOfgiqA08B+f/p/g0A1ATnClsPWxIzFDQSHwxqBxgI3ApFDL0OuRPWFU0RCQsZCpYOdBP1FTYXnRnrHDgdMRZbB8DzCt/DzYzFBchi0IjZ2eJT65btQejj4ofjQ+bG5jbqvPTZ/zEDIwCg+kDxNuSH24DdVubi7WjxMPMD9SL2CPWL8bjt9uxk8Sn59v8ZA7UDGwPw/+f5GfUu9aH4Q/wNAH4EQwd1BrIDdwH6/wL/AwBbBPgKlxBHErUP+QqgBqkDlQH8/wkAsgMECpUOaA4AC1AHpwOq/qj4TPXB+GABOAdSBRsAmf05/I74KfX29Of0M/Mp9R/9hAPTAXv8+vmQ+Kz0evGT8vX0LvRq8UXwXfFm8lvx6O7B7S3vU/Gu8hT1Nvr3/ysDrANkA6oDFASfA8UCtgN0Bj4H8QMTAEv/7f+N/xIAiAM/BxoIXgdmB0MHiQW2A4ADlwP8Ar0DbAY3B7cEwwNuB94KqAlmB3oJjw7YEVISAxJHEsESQxK2DwQLtgOe+Jrr1eJY4aXiWuLa4rHm9uni6HnmLucJ6jnrC+qu6cXt0PSc+Pn1cvE+8FTxjvC27dnsbfHc+EL8DPkf9fj1n/gQ92bx/Oy+7Q3y9fSo9CD1//hB/A/7wPiR+vz/DQSgA7UAEACWApQDGQBo/O/9oQPSB0wHZAS1AycGPAf1AxUAZgCUA9YFYgevCecKeQlhBx4GlwMG/2r85f6VA1EGYwdDCD0HaQMRAL3/8P8V/mn8mf3w/54ADQAd/1D82vZi8VvvZPGD9Pz0nvJy8XXz7vQM837xZvPn9LvygPED9ZD4Y/ck9Wz2mviF9xb1b/Wr+KT7VPy1+2P8zf7w/xj+bPzR/er/7v8YAF8CjgN7ARsARAKLAzIAdvwu/eL/LAHGA90Jgg6bDRcLMwvaCgEHxQMUBTUH3gW+A8cEQAfVB1oHdAj1CmAM9gpOB60DcwH8/yn+WPyu+1/8S/yh+CPyzO267aHtDep65irnAer06W7mBOO84rzlEOoZ7bXtJO297dHvVPEn8XLxifPw9Dv0I/Vx+Tn8R/rR+DP83/++/nj80P3j/5f+cvyV/EL8rPgb9Zb1oPjd+mf8g/7z/9L/CwDrAaADpgOsAy0G+grcDpgOvApcB/UGQgeiBbUDawRHB8cJ/ApaC/kKoQlLB84EsQMDBJsDigEOAGgA8f+L/L/4xfei+Nn4v/gs+aD4bfYY9aP1+fQ78cPtOu5Y8evyY/HB7rftC+9h8XbyWvH572rxjfWi+K/4vvjF+/j/hQEAAIX+CwBMA5MDlf9x/Nf95v9h/nH8y/6SA3AGZAcQCDwHngS/AxMGNAfUBMYDZgfcCp0JZgefCZUOzBCiDm4L/gpPDZcOAwxXB0IEpwMMA/f/TPvD+EL5l/iC9Hnx9/Lz9IPyxO3i67Ttbu+x7UXpc+aI5wLqkeoZ6i7rtO0O77Lt+uob6vTrpu1H7c3tb/Hv9Df1IvVO95b4f/Yf9RT4R/xS/WL8If0AAOAB9/9i+8L4O/pA/Oz7dPxoAIoDJgIcAJ4BjQMXAhkAVwGPA6kDwAP6BTcHPQXBA54FOQdrBbwDVAbpCqgMAwu1CEgHzgZYBxcIRwf/BLMDJwSbAzQAZPxP+0/8zfxg/Cz8UPxW/GL8uPuj+NzzcPEP8/X0t/Nx8RXxU/HN77vtD+5l8dn0/PRD8m/x2PSi+E34EfVk8wb1sfeq+AP4vfhX/O7/nQAUAHYA6/9Q/W/8w/+TAykEugNaBUMHZwavA2ACpgP1BU4HUwdRB6YI+wpSDO8KFghgB6MJ4QrVCGwHiAnaCp0HxQOBA40DGQBv/AX97P/qABIA6v5F/Nn3HfV79fH0+/DQ7Q7vRvEg8NHtre2d7VrrK+pE7JvtZusp6nntS/Gv8MTtsO1d8fP0AfVR8m/xqPSb+G75yfgk+Zf45vUf9a74RvyF+7v4wfhX/OH/9/9g/Wz8o/7m/6v9dvzr/4oDiAIZAAoBkgMLBLoDQAVAB5MHYQfoBzwHqgTBAxUGMQezBMoD0gfTCr0HzwPrBCkHjAXOA98FLAeiAx4AawGQAy4BZ/yN+lP89v1T/Cn4FPXZ9Pj0GPNx8a7y9vRs9Rr1g/X19IXydfGE8+/0A/N78Vfz7PT58nrxb/SZ+Hv5wfjt+U78L/1Z/KL7Yfx5/Ub8IvnK+OL84v8V/nj8tf+KA7QCGQDWAJMDawS4A6ADmAMAA7gDPQY9BzIFvQOGBToHsgW9A+kEPQehB18H1AjvCpUL+gqqCvwKbQpHB5ACCgBlAZ4DCwMGAGz9VfxC+7H42vRd8RDwZvHu8lPx2Owh6qProO1W7CnqJOrz6W/nhOYE6pntj+3W7bfx6/R683bx5/Og+F36ufhT96v4O/wEAKEB+v8F/WL8hP71/27+Y/wj/fn/aAEDAIv9Vfxr/QYAngH1/6v8afxTAJUDfQISAMkAmgO/BK4DygKpA8AFSQdzB1oHvwdGBzcFrwPABE0HlQhMB9MEswM3BJQD9gAaAKEChwOs/338Q/7b/2381fg3+jX8Yfko9Xj06vT58nvxTfPt9CLze/FB8+v0I/N88UPz7fQb83XxGPSj+E36s/hN97b4j/tN/Bv6u/ha+/r/AAIAAOP8YPyP/vb/bf5j/CH9+/99AQAAS/1f/AL++f9LAAUANAGoAwcFoQPfAAoA/wGdA1QCBgBTAKYD8gZLBx4FsgMNBUMHywdeB4sHQwdrBbIDmAOfAw4CCAB5//b/IAANAGH/SPxl9xr1A/ef+O/1a/G5713xzvJY8VjuyO1O8EnxzO0o6vDqne0D7tHtre9F8a7wevGj9Zf4/PYd9ab3Svz8/V38+vpd/C//8v/O/Wv8JP7u/5j+ZvwW/fn/dgEAAFf9X/z4/fX/UwAOAGkA8f+1/Wn8Av7u/+D/FQBUApADngEZAOoBjgPWARgAqgGTA0sCDQC0AKIDNgWlA8sACQANApkDNQIRANf/7v8s/mv8gvxG/Bn6wPhh+kv8V/u3+Jf3sfjO+af47fUY9Tn3mvjD9h71t/ad+Fn3E/Wi9a74efqn+EL1GvUu+T38tvrQ+I76Nfwj+tP4Tfzf/67+dvzM/en/uv5n/AL9+/+WAfz/FP1k/Iv+8P8//mv8ov3u/0oAEACgAZgD6gO4AzUElgMhARQAIQKQA7QBGQDeAYwD1gEaALcBkgMuAg4A9QCiA9cD/v/Z+rr4evpJ/Az7wPhW+KH4NvcS9W30AfVE9Qv17fQG9Q/1CPX59Av1LvUB9aP0EvXj9fz0UPJr8W30qfgt+rD4TPe5+Ln7Rvyw+cf4UPzq/w7/afzY/Pn/rQH+/wL9Zfyk/uz/Af5x/Db+5v82/nH8Af7s/6P+ZvwL/fz/lQH8/xT9ZPyM/u//Nf5t/MH96v8KABQAHwKXAwwCDADtAJ8D1gSuA6EB+v9Y/wcA6wD3/279Y/wi/vj/DP9c/BX7W/zX/U387fcb9Wb2l/iL+M34avs4/Gv4KfWu9o74mvYp9Xf4O/xY+8f4ePlJ/Fv9Xvyi+1z8Tv1L/Jb5xfgN+z789/nL+Db86P8X/2r81/z5/6wB/v8N/WL8ef70/3j+Y/wW/fz/kgH9/yH9YPxX/vn/w/5b/Gz8BADfA5oDVf9u/Pn95f9N/nb8DP7m/1/+bvy+/fH/LP9i/Bf7U/yC/g==\" type=\"audio/wav\" />\n",
       "                    Your browser does not support the audio element.\n",
       "                </audio>\n",
       "              "
      ],
      "text/plain": [
       "<IPython.lib.display.Audio object>"
      ]
     },
     "metadata": {},
     "output_type": "display_data"
    },
    {
     "name": "stdout",
     "output_type": "stream",
     "text": [
      "Playing poisoned audio for sample 1\n"
     ]
    },
    {
     "data": {
      "text/html": [
       "\n",
       "                <audio  controls=\"controls\" >\n",
       "                    <source src=\"data:audio/wav;base64,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\" type=\"audio/wav\" />\n",
       "                    Your browser does not support the audio element.\n",
       "                </audio>\n",
       "              "
      ],
      "text/plain": [
       "<IPython.lib.display.Audio object>"
      ]
     },
     "metadata": {},
     "output_type": "display_data"
    },
    {
     "name": "stderr",
     "output_type": "stream",
     "text": [
      "100%|██████████| 75/75 [02:14<00:00,  1.80s/it]\n"
     ]
    },
    {
     "name": "stdout",
     "output_type": "stream",
     "text": [
      "Epoch 0, Loss: 0.7212921680486761, Training Accuracy: 97.41666666666666\n",
      "Backdoor Attack Success Rate: 0.0\n",
      "Clean Accuracy Drop: -1.8333333333333428\n",
      "Running experiment with poisoning_rate=0.01 and frequency=24000\n"
     ]
    },
    {
     "name": "stderr",
     "output_type": "stream",
     "text": [
      "  0%|          | 0/75 [00:00<?, ?it/s]"
     ]
    },
    {
     "name": "stdout",
     "output_type": "stream",
     "text": [
      "Playing clean audio for sample 0\n"
     ]
    },
    {
     "data": {
      "text/html": [
       "\n",
       "                <audio  controls=\"controls\" >\n",
       "                    <source src=\"data:audio/wav;base64,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\" type=\"audio/wav\" />\n",
       "                    Your browser does not support the audio element.\n",
       "                </audio>\n",
       "              "
      ],
      "text/plain": [
       "<IPython.lib.display.Audio object>"
      ]
     },
     "metadata": {},
     "output_type": "display_data"
    },
    {
     "name": "stdout",
     "output_type": "stream",
     "text": [
      "Playing poisoned audio for sample 0\n"
     ]
    },
    {
     "data": {
      "text/html": [
       "\n",
       "                <audio  controls=\"controls\" >\n",
       "                    <source src=\"data:audio/wav;base64,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\" type=\"audio/wav\" />\n",
       "                    Your browser does not support the audio element.\n",
       "                </audio>\n",
       "              "
      ],
      "text/plain": [
       "<IPython.lib.display.Audio object>"
      ]
     },
     "metadata": {},
     "output_type": "display_data"
    },
    {
     "name": "stderr",
     "output_type": "stream",
     "text": [
      "  3%|▎         | 2/75 [00:03<02:15,  1.85s/it]"
     ]
    },
    {
     "name": "stdout",
     "output_type": "stream",
     "text": [
      "Playing clean audio for sample 1\n"
     ]
    },
    {
     "data": {
      "text/html": [
       "\n",
       "                <audio  controls=\"controls\" >\n",
       "                    <source src=\"data:audio/wav;base64,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\" type=\"audio/wav\" />\n",
       "                    Your browser does not support the audio element.\n",
       "                </audio>\n",
       "              "
      ],
      "text/plain": [
       "<IPython.lib.display.Audio object>"
      ]
     },
     "metadata": {},
     "output_type": "display_data"
    },
    {
     "name": "stdout",
     "output_type": "stream",
     "text": [
      "Playing poisoned audio for sample 1\n"
     ]
    },
    {
     "data": {
      "text/html": [
       "\n",
       "                <audio  controls=\"controls\" >\n",
       "                    <source src=\"data:audio/wav;base64,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\" type=\"audio/wav\" />\n",
       "                    Your browser does not support the audio element.\n",
       "                </audio>\n",
       "              "
      ],
      "text/plain": [
       "<IPython.lib.display.Audio object>"
      ]
     },
     "metadata": {},
     "output_type": "display_data"
    },
    {
     "name": "stderr",
     "output_type": "stream",
     "text": [
      "100%|██████████| 75/75 [02:14<00:00,  1.79s/it]\n"
     ]
    },
    {
     "name": "stdout",
     "output_type": "stream",
     "text": [
      "Epoch 0, Loss: 0.7418652382353321, Training Accuracy: 96.95833333333333\n",
      "Backdoor Attack Success Rate: 2.037037037037037\n",
      "Clean Accuracy Drop: -2.833333333333343\n",
      "Running experiment with poisoning_rate=0.05 and frequency=1000\n"
     ]
    },
    {
     "name": "stderr",
     "output_type": "stream",
     "text": [
      "  0%|          | 0/75 [00:00<?, ?it/s]"
     ]
    },
    {
     "name": "stdout",
     "output_type": "stream",
     "text": [
      "Playing clean audio for sample 0\n"
     ]
    },
    {
     "data": {
      "text/html": [
       "\n",
       "                <audio  controls=\"controls\" >\n",
       "                    <source src=\"data:audio/wav;base64,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\" type=\"audio/wav\" />\n",
       "                    Your browser does not support the audio element.\n",
       "                </audio>\n",
       "              "
      ],
      "text/plain": [
       "<IPython.lib.display.Audio object>"
      ]
     },
     "metadata": {},
     "output_type": "display_data"
    },
    {
     "name": "stdout",
     "output_type": "stream",
     "text": [
      "Playing poisoned audio for sample 0\n"
     ]
    },
    {
     "data": {
      "text/html": [
       "\n",
       "                <audio  controls=\"controls\" >\n",
       "                    <source src=\"data:audio/wav;base64,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\" type=\"audio/wav\" />\n",
       "                    Your browser does not support the audio element.\n",
       "                </audio>\n",
       "              "
      ],
      "text/plain": [
       "<IPython.lib.display.Audio object>"
      ]
     },
     "metadata": {},
     "output_type": "display_data"
    },
    {
     "name": "stderr",
     "output_type": "stream",
     "text": [
      "  1%|▏         | 1/75 [00:06<08:32,  6.92s/it]"
     ]
    },
    {
     "name": "stdout",
     "output_type": "stream",
     "text": [
      "Playing clean audio for sample 1\n"
     ]
    },
    {
     "data": {
      "text/html": [
       "\n",
       "                <audio  controls=\"controls\" >\n",
       "                    <source src=\"data:audio/wav;base64,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\" type=\"audio/wav\" />\n",
       "                    Your browser does not support the audio element.\n",
       "                </audio>\n",
       "              "
      ],
      "text/plain": [
       "<IPython.lib.display.Audio object>"
      ]
     },
     "metadata": {},
     "output_type": "display_data"
    },
    {
     "name": "stdout",
     "output_type": "stream",
     "text": [
      "Playing poisoned audio for sample 1\n"
     ]
    },
    {
     "data": {
      "text/html": [
       "\n",
       "                <audio  controls=\"controls\" >\n",
       "                    <source src=\"data:audio/wav;base64,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\" type=\"audio/wav\" />\n",
       "                    Your browser does not support the audio element.\n",
       "                </audio>\n",
       "              "
      ],
      "text/plain": [
       "<IPython.lib.display.Audio object>"
      ]
     },
     "metadata": {},
     "output_type": "display_data"
    },
    {
     "name": "stderr",
     "output_type": "stream",
     "text": [
      "100%|██████████| 75/75 [02:19<00:00,  1.85s/it]\n"
     ]
    },
    {
     "name": "stdout",
     "output_type": "stream",
     "text": [
      "Epoch 0, Loss: 0.7547818979170794, Training Accuracy: 92.20833333333334\n",
      "Backdoor Attack Success Rate: 97.77777777777777\n",
      "Clean Accuracy Drop: -2.0\n",
      "Running experiment with poisoning_rate=0.05 and frequency=10000\n"
     ]
    },
    {
     "name": "stderr",
     "output_type": "stream",
     "text": [
      "  1%|▏         | 1/75 [00:01<02:12,  1.79s/it]"
     ]
    },
    {
     "name": "stdout",
     "output_type": "stream",
     "text": [
      "Playing clean audio for sample 0\n"
     ]
    },
    {
     "data": {
      "text/html": [
       "\n",
       "                <audio  controls=\"controls\" >\n",
       "                    <source src=\"data:audio/wav;base64,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\" type=\"audio/wav\" />\n",
       "                    Your browser does not support the audio element.\n",
       "                </audio>\n",
       "              "
      ],
      "text/plain": [
       "<IPython.lib.display.Audio object>"
      ]
     },
     "metadata": {},
     "output_type": "display_data"
    },
    {
     "name": "stdout",
     "output_type": "stream",
     "text": [
      "Playing poisoned audio for sample 0\n"
     ]
    },
    {
     "data": {
      "text/html": [
       "\n",
       "                <audio  controls=\"controls\" >\n",
       "                    <source src=\"data:audio/wav;base64,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\" type=\"audio/wav\" />\n",
       "                    Your browser does not support the audio element.\n",
       "                </audio>\n",
       "              "
      ],
      "text/plain": [
       "<IPython.lib.display.Audio object>"
      ]
     },
     "metadata": {},
     "output_type": "display_data"
    },
    {
     "name": "stdout",
     "output_type": "stream",
     "text": [
      "Playing clean audio for sample 1\n"
     ]
    },
    {
     "data": {
      "text/html": [
       "\n",
       "                <audio  controls=\"controls\" >\n",
       "                    <source src=\"data:audio/wav;base64,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\" type=\"audio/wav\" />\n",
       "                    Your browser does not support the audio element.\n",
       "                </audio>\n",
       "              "
      ],
      "text/plain": [
       "<IPython.lib.display.Audio object>"
      ]
     },
     "metadata": {},
     "output_type": "display_data"
    },
    {
     "name": "stdout",
     "output_type": "stream",
     "text": [
      "Playing poisoned audio for sample 1\n"
     ]
    },
    {
     "data": {
      "text/html": [
       "\n",
       "                <audio  controls=\"controls\" >\n",
       "                    <source src=\"data:audio/wav;base64,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\" type=\"audio/wav\" />\n",
       "                    Your browser does not support the audio element.\n",
       "                </audio>\n",
       "              "
      ],
      "text/plain": [
       "<IPython.lib.display.Audio object>"
      ]
     },
     "metadata": {},
     "output_type": "display_data"
    },
    {
     "name": "stderr",
     "output_type": "stream",
     "text": [
      "100%|██████████| 75/75 [02:44<00:00,  2.20s/it]\n"
     ]
    },
    {
     "name": "stdout",
     "output_type": "stream",
     "text": [
      "Epoch 0, Loss: 0.7457934510909642, Training Accuracy: 94.375\n",
      "Backdoor Attack Success Rate: 99.07407407407408\n",
      "Clean Accuracy Drop: -1.3333333333333428\n",
      "Running experiment with poisoning_rate=0.05 and frequency=24000\n"
     ]
    },
    {
     "name": "stderr",
     "output_type": "stream",
     "text": [
      "  0%|          | 0/75 [00:00<?, ?it/s]"
     ]
    },
    {
     "name": "stdout",
     "output_type": "stream",
     "text": [
      "Playing clean audio for sample 0\n"
     ]
    },
    {
     "data": {
      "text/html": [
       "\n",
       "                <audio  controls=\"controls\" >\n",
       "                    <source src=\"data:audio/wav;base64,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\" type=\"audio/wav\" />\n",
       "                    Your browser does not support the audio element.\n",
       "                </audio>\n",
       "              "
      ],
      "text/plain": [
       "<IPython.lib.display.Audio object>"
      ]
     },
     "metadata": {},
     "output_type": "display_data"
    },
    {
     "name": "stdout",
     "output_type": "stream",
     "text": [
      "Playing poisoned audio for sample 0\n"
     ]
    },
    {
     "data": {
      "text/html": [
       "\n",
       "                <audio  controls=\"controls\" >\n",
       "                    <source src=\"data:audio/wav;base64,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\" type=\"audio/wav\" />\n",
       "                    Your browser does not support the audio element.\n",
       "                </audio>\n",
       "              "
      ],
      "text/plain": [
       "<IPython.lib.display.Audio object>"
      ]
     },
     "metadata": {},
     "output_type": "display_data"
    },
    {
     "name": "stderr",
     "output_type": "stream",
     "text": [
      "  1%|▏         | 1/75 [00:01<02:10,  1.77s/it]"
     ]
    },
    {
     "name": "stdout",
     "output_type": "stream",
     "text": [
      "Playing clean audio for sample 1\n"
     ]
    },
    {
     "data": {
      "text/html": [
       "\n",
       "                <audio  controls=\"controls\" >\n",
       "                    <source src=\"data:audio/wav;base64,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\" type=\"audio/wav\" />\n",
       "                    Your browser does not support the audio element.\n",
       "                </audio>\n",
       "              "
      ],
      "text/plain": [
       "<IPython.lib.display.Audio object>"
      ]
     },
     "metadata": {},
     "output_type": "display_data"
    },
    {
     "name": "stdout",
     "output_type": "stream",
     "text": [
      "Playing poisoned audio for sample 1\n"
     ]
    },
    {
     "data": {
      "text/html": [
       "\n",
       "                <audio  controls=\"controls\" >\n",
       "                    <source src=\"data:audio/wav;base64,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\" type=\"audio/wav\" />\n",
       "                    Your browser does not support the audio element.\n",
       "                </audio>\n",
       "              "
      ],
      "text/plain": [
       "<IPython.lib.display.Audio object>"
      ]
     },
     "metadata": {},
     "output_type": "display_data"
    },
    {
     "name": "stderr",
     "output_type": "stream",
     "text": [
      "100%|██████████| 75/75 [02:14<00:00,  1.80s/it]\n"
     ]
    },
    {
     "name": "stdout",
     "output_type": "stream",
     "text": [
      "Epoch 0, Loss: 0.7499882472096943, Training Accuracy: 92.70833333333334\n",
      "Backdoor Attack Success Rate: 96.85185185185185\n",
      "Clean Accuracy Drop: -1.0\n",
      "Running experiment with poisoning_rate=0.1 and frequency=1000\n"
     ]
    },
    {
     "name": "stderr",
     "output_type": "stream",
     "text": [
      "  0%|          | 0/75 [00:00<?, ?it/s]"
     ]
    },
    {
     "name": "stdout",
     "output_type": "stream",
     "text": [
      "Playing clean audio for sample 0\n"
     ]
    },
    {
     "data": {
      "text/html": [
       "\n",
       "                <audio  controls=\"controls\" >\n",
       "                    <source src=\"data:audio/wav;base64,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\" type=\"audio/wav\" />\n",
       "                    Your browser does not support the audio element.\n",
       "                </audio>\n",
       "              "
      ],
      "text/plain": [
       "<IPython.lib.display.Audio object>"
      ]
     },
     "metadata": {},
     "output_type": "display_data"
    },
    {
     "name": "stdout",
     "output_type": "stream",
     "text": [
      "Playing poisoned audio for sample 0\n"
     ]
    },
    {
     "data": {
      "text/html": [
       "\n",
       "                <audio  controls=\"controls\" >\n",
       "                    <source src=\"data:audio/wav;base64,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\" type=\"audio/wav\" />\n",
       "                    Your browser does not support the audio element.\n",
       "                </audio>\n",
       "              "
      ],
      "text/plain": [
       "<IPython.lib.display.Audio object>"
      ]
     },
     "metadata": {},
     "output_type": "display_data"
    },
    {
     "name": "stdout",
     "output_type": "stream",
     "text": [
      "Playing clean audio for sample 1\n"
     ]
    },
    {
     "data": {
      "text/html": [
       "\n",
       "                <audio  controls=\"controls\" >\n",
       "                    <source src=\"data:audio/wav;base64,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\" type=\"audio/wav\" />\n",
       "                    Your browser does not support the audio element.\n",
       "                </audio>\n",
       "              "
      ],
      "text/plain": [
       "<IPython.lib.display.Audio object>"
      ]
     },
     "metadata": {},
     "output_type": "display_data"
    },
    {
     "name": "stdout",
     "output_type": "stream",
     "text": [
      "Playing poisoned audio for sample 1\n"
     ]
    },
    {
     "data": {
      "text/html": [
       "\n",
       "                <audio  controls=\"controls\" >\n",
       "                    <source src=\"data:audio/wav;base64,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\" type=\"audio/wav\" />\n",
       "                    Your browser does not support the audio element.\n",
       "                </audio>\n",
       "              "
      ],
      "text/plain": [
       "<IPython.lib.display.Audio object>"
      ]
     },
     "metadata": {},
     "output_type": "display_data"
    },
    {
     "name": "stderr",
     "output_type": "stream",
     "text": [
      "100%|██████████| 75/75 [02:15<00:00,  1.80s/it]\n"
     ]
    },
    {
     "name": "stdout",
     "output_type": "stream",
     "text": [
      "Epoch 0, Loss: 0.7645937566878274, Training Accuracy: 90.5\n",
      "Backdoor Attack Success Rate: 99.62962962962963\n",
      "Clean Accuracy Drop: -0.6666666666666714\n",
      "Running experiment with poisoning_rate=0.1 and frequency=10000\n"
     ]
    },
    {
     "name": "stderr",
     "output_type": "stream",
     "text": [
      "  0%|          | 0/75 [00:00<?, ?it/s]"
     ]
    },
    {
     "name": "stdout",
     "output_type": "stream",
     "text": [
      "Playing clean audio for sample 0\n"
     ]
    },
    {
     "data": {
      "text/html": [
       "\n",
       "                <audio  controls=\"controls\" >\n",
       "                    <source src=\"data:audio/wav;base64,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\" type=\"audio/wav\" />\n",
       "                    Your browser does not support the audio element.\n",
       "                </audio>\n",
       "              "
      ],
      "text/plain": [
       "<IPython.lib.display.Audio object>"
      ]
     },
     "metadata": {},
     "output_type": "display_data"
    },
    {
     "name": "stdout",
     "output_type": "stream",
     "text": [
      "Playing poisoned audio for sample 0\n"
     ]
    },
    {
     "data": {
      "text/html": [
       "\n",
       "                <audio  controls=\"controls\" >\n",
       "                    <source src=\"data:audio/wav;base64,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\" type=\"audio/wav\" />\n",
       "                    Your browser does not support the audio element.\n",
       "                </audio>\n",
       "              "
      ],
      "text/plain": [
       "<IPython.lib.display.Audio object>"
      ]
     },
     "metadata": {},
     "output_type": "display_data"
    },
    {
     "name": "stdout",
     "output_type": "stream",
     "text": [
      "Playing clean audio for sample 1\n"
     ]
    },
    {
     "data": {
      "text/html": [
       "\n",
       "                <audio  controls=\"controls\" >\n",
       "                    <source src=\"data:audio/wav;base64,UklGRqg6AABXQVZFZm10IBAAAAABAAEAgD4AAAB9AAACABAAZGF0YYQ6AACPAWUCRAI7AV0AiQBvAewBTwEfAIj/7f93AEgAp/99////mwDXAJ8AHQDJ/yEA8QBMAfkA+wDQAT0CggH/AL8BWgKvATwBXwKsA3kDqALZAtADXAQwBOoDFQRCBFIDUwEpAIwATwDx/YL77/qv+vb4T/ez9wf5Hfnh95H2tfX89CT0j/Mu9M71n/b09eL1cvco+HH2LvXW9h35NvnD+A76o/tn+6v6Mvvi+4D7f/sN/Yj+Pv5F/Zn9SP+3ALQA6/9FAEUC5wPzAz0EVQZUCDQIWAfjBy4JtAnWCaQKtgsnDPoLxwu6C6oLXQvoCooKQAqRCWwIbAcxB2sHPQcZBpQE1gNdBEEFdgXqBGcEbQTiBGEF1wV4BkIHpwdcB9IGzwaNB1AI/wfNBl8GSAe/B1cGVgSLA5ED6AJTAZr/Nv72/FD7V/kl+Lv3QPaE88vyRvXR9mz0nvHi8YDyXPBA7jrv3PCy7z/tFO2371/yd/L/75ntXe2b7qnv2vB98ufyT/FC8EfxD/LC8MjvhPE59Bj1qvTn9O/1rfbn9nL3NPm1+zb9bf29/l0CrwWGBuIGDQluCzUMGA0QEHkT8BTYFDkVnBYXGKcYVBjyF0wY/xhZGUYZzBgyF6AUkxLgETgRTQ+SDJ8KDwroCbkIvgbDBd4GewhVCB4GlQNDApoCEwSPBfoFiwVkBQ0GsQZmBmMF0QSDBRYHOwhUCE0IPghHBl0CEQDoACQBef1A+Nv16vai91j0bu6865Lux/F/8K3tvu2q7sTsE+p46QzpIucV53vq4uzo6l/o0+mm7Qzv2uwi6p/qB+498EDv4e5U8f7xmu2g6Tvrp+6k7oztcO+G8l/zH/OM9F73kPmd+vP7L/8JBBwI7wnsCigNPxDhEjYVAxjJGhUdfx9NIh8k+iO8IqYhZyC/Hrcdpx2xHKkZDRaSE1MR1A17CccF+QLSAGz/p/55/ar7ZPre+qT8rP58AEoCEgSXBZIGVwejCGIKWQsWCwgLaQw4DqQObA2DC44JCQiNB7gHDQe4BI0BHf8Z/nr9jftg+Bn2+fVl9lb1WPMi8tnxtvEJ8vDyJPN+8kXzQPVO9Fnv+uso7tDxw/CT67PniOiA7LXvhe8C7bnqk+lE6YDq1uyn7ZrrLOni6BLqguri6Wfp2Okt61ft0e+g8Zvy0fPn9TL4cPrB/ZoCSAcXCn4Lgg0/EawVohjEGTMbnh6OIrIk5CRoJIcjMiLrIDoguR9/Ht8bhRjsFXEUShIpDh8JJwV9Ap4Ai/9O/+v+zv2o/OD87f4PAukEuQanB6UIbApaDOkM5AsHC88Lgg03DisNPwuzCf4IegiLB50G0gUHBC4Bcv+l/z//L/xA+Ib2P/ca+EX36fR58nfxXfIK9Pv09/Qg9eD1DfZ59OLxAPDb76XwxPAV8H7w9PFY8TXtL+kb6f7rpO0B7OPovecV6c7pnufl5HzkQeXK5AvkxeQ85gvn2eek6eLrhe3G7sXwRvTy+Jr9VwFSBBwHrAkYDBoP6RJbFswYUBu/HtchUyPSIzMkoiO4IfwfqB90H7YdtRrkF4cVGBNLEB8NUQm5BdkDAwRKBDsDkQFUARsD5AVDCMEJpgqXC7AMTQ3MDM4LvAtCDXIPfBArD5YMbgvoC48KnwYFBQkIzwngBTIBdAF9A74Bcv3a+jb6ivmX+Dr4ffgD+Ez1y/HU8Tv2lPmU94XzV/I68+Ty+PGw8f3vXOxG61fuGvCY7Gbo1ujR60TsJOqV6MXoLOlo6Kzm0+V15rXm/OT04qjifeOm40zjruMt5WvnW+qL7RHw5/Fq9EP4JfzW/hsBGwREBwEKUQ25EaEV7xcAGlwdASEaI3Mj7iK6ISkgQx84H18exhuwGG8WERTfECoODA3vC6AJUQfUBsoHRgjIBvUESwbWCk8NFgsXCbULEw/KDuMN6A8dEQYOwgqrC6wNsgyYCs4KTwzBC/gH7QMwBLkH4AZQAHD+3AVGCicC4vcG+OL84/t1+Cf5UvnL9OjyTPhD/PP2f+5n7YP06PpY+Frv4+tf8Rrzfeot5qXvo/bu7L/ge+Mu7YLtM+bK4tflVuke6VbmaOVK5/nmAuL/3r7iUudK5uTjZOZL637thO5r8S706fT99t/86gJaBSsG0giDDOQObhDWEgMW0xjLGoYczB6tIIofgxvYGAsakxu7GVUW0hRIFJISkhDbDwgP9gxLC5ILKgyMC88KdQtsDDQMQgtBC9IM/g7gD2IPwg89EewPGwsACbMMZg8mDCIJQQwFEGUNZgfiBO8FCwZ7A4oABAAYAusD3gLK/4H9Hv2E/X/9yvyO+zX6ePmm+Lr1MPLW80D6e/v783zvp/Wz+2H2ruyR6qju6e8m7JboDepI7srt1uad4hfnTuxt6XXjk+Jv5IbjdOKt5GbmyuO74PPhuOUk6I3pCuw3747xU/PJ9W75XP0XAIwBwQOYB9MKIwwVDhwS2hRJFFEUHBgLHO4brRk+GSoazxn3Fz4WLBWMFBsUpBPNEmYRLQ/4DFwMfA32DbEMpwuoDPYNag3iC5sLqQz9DTYPTxDDEDAQkQ4QDVcNjQ4XDccI5wZtCocOkA3pCOIFDwYYBzoHFQZmAx8BvgJXBggEqPrx9IP5kf/h/ZX5HPur/1n/avlV9PL1hfsb+/HyDPD49y37BfBq5+ru2vYR7znkVOfN8GjwNue04ZblU+y963fjzd/E5nbslubf3k3htucH58DiQePW5nDoGepi7ozxa/DX7lfxf/ZU+jL8Lv6QAWMFvAegCLgK6A7AETsR9hD4EwQXdBZqFIQUuhVwFSUUyhM0FFkUHhTjE0QT6xEIEHkOBA6hDi4PLw9ZDxIQ4Q8MDmEMagy+DLgMjA69EiEVmhKsDfwKngvEDFELVQhaCAkMKA2ACDMEtgWCCIUGGAJTAecE4AevBe3/Hf1y/5cA/vtG9wX5+v1R/xr9/Pob+YD2DfWs9cb1u/Mq8k/zMvWB9AzxO+1U6/nq5+lH6Pjp1O717wfqWuTl5dfqWOsu527joeLI49LlPOd85nbkYORn5ynrmuyp6/HqwOxQ8MzyNvM19MP3wfu9/Tj/XwLxBdgH4wjsCt0NgBBxEuUT0hQzFS4VJBVQFXQV8BTWEwgTWhNZFMAUgBMgETcPxg7wDtMOvw40D00PWg4ODcEMhQ1xDtkOEA/JD70RmRRfFrQUtQ8HCjwHKQnTDFcM3wfyBngMJxDBCmkBLv6UAgYIHQn0BecBOgBXAd8BRf6J+P72Jft7/q/7W/Ze9Y35rvz6+CXx6e5i9cz63fap7+nt+e6g7H7p6uos7wrxh++S7HjpAOdp5o3npOh46Bboi+g86f3oFehC55/mDOYj5rTnN+sf71/w4u4c75nyYvQz8qDyKfo+ArkDLAKqAzgGJwZSBjsKIg8IEegQERLwFAUXIRYVEwURFRLMFEwWzxWKFB8T2xFiEZYR1hAJD4sOLxCrEFEOrQwWDjoOnwrkCNsMOhAoDp8M2hBLFHoQ7wr0CkINcwwgC+kMig7yC8wGawTIByIMBghE/Qf8FwmXEGcF4/iT/CcEtv4Q9bj22f4FALv5+PSW9oL6D/ms8dzt/fKE+In1be8C77XxDvEs74TvW+7p6VLpTe9r8ifsvuS+5czrcO0M6Qbl6Oa67Gfvrusz5zzoxezN7sDtH+197iLxS/SZ9qn2FvWC9Cb3qPz/AQ4EwAJWAd4C5gYHCy8O5A/iDosMnQ3SEs8VlRL4DRMOaBHdEmIR6A9qEO4RphFCD1gOZhDfEIINvQtSD00S+A60CTUJtwsQDdwOexIBE7QOlgzKEFkUlRDFCWQIgw2qEqURrQtpCLYK5goUBQwDKQqLDbcEff0YA4EIzAA49+35bgE3APn48vUr+FT55/UT8WzxJPf1+NTyS++V9PD2Q+7t5/Lu0/bX8Q7p7+nE73bvcOq16Obrde6Q6/DljOYj7670S+9s53/n1esw7Jzqeeyd7wDwzO8l8lD1RvaZ9V32Z/rr/w8D5QIuA5wGVQokCzcLkA1REAgRbBEME3YTpRAQDbUMCxCGEx0T/w6sCyEMbg1HDMYKRAuBCmsHEQheDi4RDAuXBA4HHQ7XEEkPUw9EEuUUthTeEYAOMQ1TDo4Q2BK+E6sQkgpvB2EJ3Qn5BZ8FLAw2DrQE2fvs/gEFSQIJ/Lf7r/2C+tj0N/Nz9WT2B/Mb7szt5fLq9XDyMu+q8Tnzxe2n6LjqF+1q6XjnLu0r8S7rt+Pt5FDqkOq15qzlf+nN7dzth+pZ6qjvg/Mg8Q/vW/NN+BH3LfS59qj8kwD1AjIGjQgLCP0GQQgYC4kNdQ+PEWMTwhNLEkwQ1Q8UEU0RDg/ADFYMqAsiCXsHGQlTC5AKUwf1BAYFQgZ2BhwFdgOIAyUGWgnaCb0IfAvhEvYW1RJPDTYOixLrEx8TzBOoFJUS/Q1tCvkKDg6bDewIXwhDDogOnQNN/K8C9wdr//r2EvxjAVn5TPBP9Lz7+vbt6JzhRup++EP3G+XZ3HPsXvpc8PTirOkJ9KHsWeKO6JLy2+3L4gHj+e1/9VPx4ucS51bx0fcQ8RDq9O85+Y/4j/Qc+Nn9jP2a/AMCmAgxCQoHAgnlDvETDRZBFuYV2hU+FqEWxhYLFjsTCw+bDEINFg7xC5MH/AM+Ao4BOgGyAOT+V/yC+wz95f3d/BT9TgBSAx8DwgEBBasPJhtYG3IPEAe4DNsVFBZzE88W1xg2EncMXhAZFaYQ4ggvCBcNew4dCEj+N/nO+o76bPXf9jUAGvym5H7YeupC/vT1deGN31LucPfa86LrwuXc5HHo3O0B9Lb2vu2m3aHbm+1L+8DyOOUi6dD2N/pQ84HuHe/y8dT21P3aA08FfgHo/Ob+kAh5ETYT1xEuExAVvhNGEhgVTxq/HEkaERZLFWIX5xQhDOYGMwuYD4AKvgHm/lz/ifyb+Dz48Pit93/3gvrz+674bvWD93r9gwJXBHoGUg6vFx8VkAYyAU8QjCDtHUgSiBCbFTwUzA2yCXYFmgD9BNURxBIm/yjtru8i+Tv3ePE39ZL7kvXn4nrUZdyq8iH2Y9901X7tyQAk7O/M7tA08R0GOACO7QDgD+Dd6vD1Yfos+GzxuurZ6rLyQPuv/D72RfGH+DYKphcuFU8H2/53BxIbPSiQJUkbWRcAHEUhdiJvIEQcIBmfGx4hmR95E5wGPgMqBgYHVwWTAk76LO2v5qXsgfTs8gLrKeip7qn3Tfl286HxXfogBF0HAg1xGnIhrRefCwcPYh22JqslpR+6GUwUzg3mBhUEbwZnBuf+Y/bz8ZLrzd+X2KzdluXh4zvbFtR3zj3K6s7l3BTmreFP2sHdZ+oW82vwoegr6FHyHfyu+vXy5O5m7WfsZfN1AbYEYPb66in1cAq3FPAPQAmWCicTPxxPH/Abrxj3Gi0j7y3KM74tJCBYGRkhXC45MqEoVRpSEWcQJxN1EgcL4AD8+an4i/rz+cnyVemv5qrtZvZH93jvd+j367/42QPaBqUHrA6iGVcfDh3CF7oU8RezIlgtcCvFGy4NcAxwFHAXZREQB4T7MPJX8cr19/HP4ffSy9Iy3VfgsNBIufiyGMTn1A/RJ8XJxVDOgtCT0KzWttts2SvZOuIp7HzrkOIy38fqV/5ZCE8BwfZ1+eQH7RaSI9ksECuzH30csCpkOy4+VjdENco6Oj9WPGU0IS4RLvkwjjCQK50jKxjqC5gGwgkgC6YCdvUE7UPqW+h55efjFuUd6Ezqlerb6jXtKfGu9Wv7NgUsFO0iPyg2IgUbfB2bKG8zMjhFNv0uQCWyHTwaxxgGFgAQFAeP/cryxOOG0uXHEcdDxlS8kK7WpWKhl54YolOtgbaAtUWwn7HUuzLJ19Ty3PPh/eXB67jzdPwyA64FIAb7CgUWyyBbJn8qdzEqNwQ35TRhNrg5GztOO0M8CzwNOFQxfCuSKNcniSZhIgwbRhIwCpIDk/0++O70N/NK773nGeFg3/PfDOAP4s3n6eyo7Z3stu9g+TAFFQyWD6EZCS1FPd49kTPVLVg0KEKbTZFOGENlMoonVyVVJJocxA4xARr3eu0r4c/R1cGtti20brVfsF+h75AMjBWXvKfGrrKo6qEUp2i2g8QmzIzQLdZ+3wDtvPr2AtgEBQYHDBEXZyMVLrg2aj0fQZZAcj2+PKhBlEgvTDpLXkZaPfsxayneJ1srhSxQJOATpgQj/Wv5BfSp7mDsBOlw4PPWTdJZ0fnRM9bU3jXmTeeB5LfkKOyu+U4IihXxInYvojRBMcwvpjh9RUZMPE3qS/xFKTriL80skSuxJN8YlAtU/FfqAdquz5/JJcMgug+v2qPLmuuV7JYLnhCn86oAqNelzKv5t+jD2c1o1hbc+9/P6NH3pwPgBuIJWBS9IAQoMS6VOXRGiEv7RWo95jylRuxP804HR4o/mDdULbQmcSeZJ5ofQROeCXAC+vm68HDq7ue05oTj2dx11G/OmM1G0nfacOK25bHkLebo7dH2Vf/XDk0lADN2LkUl4CmfO/tKWE0iRf07VTgtOPo0+CzsIhUY3wxtAzn6M+z12OfHJMC2vxC9oLEnoBySLZAEmxWpka5TqTSjPKb5sXi/uMsi1lLc4N/n6Iz5IwidDFIMYxHXHfMspzpLRdJLoEwZR8tA40PlUS9d61kETVBBcTh5MOcsSC9KL1olpxQuBVn67PJY7c7p0+dx5S7g2taqyw/F6MiM1Yjg2OKn4MLgiuNj6F3z8weuIOkxIDTSKxwnUy8yP4xLMFD8TdNEizYOKy4nOiZCIQYXVwkH+QrmYdPCxfu+1byDuv6x6aCzjayEjIuRmj+lAqc9pHWjRajpstbAXM9E3HHlf+xn9woGYw9AEPMTvSPLN7hElEv0UMFRfktyRbFJXVi1Zbhj0FBjO2sxQTEpMnwxqi7BIyYPFvtw8QfwF++16snk3N+C2hnR8cUFw4vNQ9vj4RrlWeno6GvkU+usB8YrxD59Nt0ibB8PNXJPZlihUjNMV0YBPPUyyzCFLuMkrRe2C2P+/+p21JbDVr2PvXO6qawwlzWFAYBmiJeXlqI8ocWXAZWCoBCyIL/ayDHVz+KR7F7zu/snBx4UbyEbLsQ4gEIETmJYqVlDUcRK9lCvX5tohWKLUMo9qTNNMowzBjIXKocYQwGT8MXscO316KvgF9qy05jKW8MVw0fGJcoz0hTet+RR4i/hkO7xCbYkCTAILP4nKTD5P0lMHlPpVrRUlErlP/46qjiRMqEnxhoGDlv/kuxt2NHJScR4wnC6oag1lM2IIIzUmCijWaNhnIeYNZ6SqsW3wMTc0eHbE+HT5kPy4QB+DYoXmCCfKJ4wojuKSZ9UvFZJUIZJUEu8VaBem1umTNs63y5CK4os2itRI+gSGQCZ8dnqZ+m45orfZtYKz77JksW3w53GfM1Q1Z7bb+As5rLvF/2nDEsc6ShZL9YwvDOJPGFIIVDXTylJHEE/O4A3HDP2K/MgqhG9/+jveORW2t/O48Mnuk6uQJ9hk+SRpJmLoqalLaKkneGedqgBuEDJCdc73eDdyuG57oEA0w9JG2gkvCoxMJY6t0o1WOBZIlDPRotKp1kvY9ta/0cSOT8xiiygKloq8yOoEq38r+xe51XokuZw3srUxc48ykHFjcQYy0rS29S913Dip/MQA6AK0gwIEuQeUC45ObA/YUOyQZg6MDbuOdg/qD3+MFYfSQ+rA5f7GPPf5sDXZsmRvka3/q9YpWWaPJeVnouo1avUqG+mT6nmseO+6s3n2zvlIegs6J/t0fw3EMUe5iUCKRMsCjNzQBRQ8FfNUvtGvUBgRltSS1icUGQ/1i7gJOch5SO8JDEbVQa98TfouOfQ57fkCd8g1i7M0sfBy4TSfdYY2C7ezu2wAO4IGgQ8AkQRcClNOvY/YT/nOm40KTI0OJdCvEYdPGUlnxBLBy0EE/2V8F3ihdIcwXuzFK3pqeOkeJ4tm8CdwqM9qIuprKsys3G/Lswb1w/gVOfy7RL2+ACEDRYZASJCKJYtsTTTPu9Jh1GaUUpKpkGXP9JFyEyzS0pBlDLRJIsbUBgjGTAYNxCxAPPuuOJW33vge+CU3STZ7dOzzlTMWtBh2nXn+vPG+3f84/okAY0TtSkhN/A36jF0LUsvrDZfPupAGTuLLU0d/RHpDRYL+gHx8avfks9xxK2/q70Rt7Op0px8mfKgTqyFs9uza7E3svK4lcVH1z7p//La8dnuoPT5A6oWdie2Msw1dTNUND8+TU3rV5tXNk7kQ2I/cUDLQhtD0D4nMxMi7BMAD/0P/g6VB9D6W+yG4I3audpJ3RfeSdvQ1ZXQONAJ2CHnR/dxAVIDGgKBBhAUCSVoMeM2UDdbNBYwtS7NMV41VDPFKc8b9Q4MBmP/xPYi6qXaLssPv5S41LWVsTqpaKDwnLOgBKm+sZ23wbk2ujO9XMZB1szo/fbF/FD9cP5DA2ANBB4xMTA9Tj3uOPs5hEEaSmRPCFABTIlERTzTNoc2Wzg3NOImbxcBDtUJJwbEAe787vTF6FndV9hL2Xjc597T3lrbYNfe2PLj+vXyBiMPDw+oDz0XOCJEK5kzXzwHQFo6ZDEGLS8tWixlJ5ceoxNJB5z5YetI3+bVvMsWvze0Jq5AqRaiSJxKnCygUqSnqdWxibq/wKHFQMz71Qbiwe6T+pQEywugD2QSUBkoJgA0fj30Qi1HC0rgSRtHBEQ0QlZBgz/mO5M3lDIzKoEdkRBeCPwEYAP9AEb85fOz6GTe8tgZ2QfdW+Gd427jNOLo4UnmC/MbBgkW2hz9HrAiRidWKqEuHTdcQI5DGD4+M3cpdSPxHfcVXg55COb+Se4x3YPRY8ccusOtD6gCp/ekwqBYnWadB6GNpnatqrfXxAnQEtYf24XjOu119ej+bwuIFvwbsB6dI3ArMTPPOAA+3EVeTnZP/EVQOvQ0kTP1MMkuli97LmIlsRVmBuj8zvlg+VH4Qvbo8rTr9OCz2GXYd92A4hvmmOnH7M7wQfmGBnoSqRgzHAci8ykmMTQ3wTxjQGE/Dzk4MO8p+Sd4JhchfBhXDpsB1fH54onY0NDuxx29fLJOqlOl/qKvonekLaiurEqxIbdBv9DI3dG32c/gDeg68Or5IgSqDHQS3xacGwUhoibDLEg0Dj3OROVH5ERHPkw36TCsK5EpJSu7LNApSSFgFRgJ/v5W+GX1IvUZ9RfyWevJ4/LeZt1M3sPgxeTE6S3upfAx84z6rQi5GGskKipFLBst/i05MK40yzpxP08+6zVLKt4fShdxD+UIswNY/fnyE+WQ1kjKx8CEuOiwy6sEqiupe6dgp0GrULEqt9y9yMZX0PbX5t1D5J/sMvbH/iIFkgpEECAVgxjIHHYjbyrYL201qDygQnRDuz4wN8MvIyq/Jvcl5ycKKhQn2xy8D2QFhP5g+eD1dvRK80jwq+s+5x/ky+LI4jPkf+co7GnwZPQj+70GTxQ+H1wlVSfkJhsmfCfMLMM1yD4kQpY8ozCwIj8VQAq5BJMEYAR6/t7y5OQt1+XK7MBbuoC3fLYztNKv3ayjrhW0QLo+wFzGKcz00MHVEdyb5CjuaPbu+8v/PQMPBoQI2QwBFHwb4iA/JZUqdzC0NLk1VzSLMrkw8yzwJmgiLCK7IzwjPSDoG4UVNAxwAXb4dfPq8eLwoO5u7FnrcekF5k3kF+fX60nv6vEI9s37GgK5CA0RCxyyJzgvdjD5Ltsusi9dL5kurS4rLo0qjCOwGpoRvAif/3n26+5x6RXk9Nzw1OTNGcjHws+9RrqJuTi7S70Pv8XCl8ns0OPVftku3ljkQerf7szyyPe5/TkCPwRkBrgKJw8oERkSTBXiGxokTytLMGEzbTSfMd8q9COAIOkf7R8aIFcgvx5PGUQQewYU/536gfZe8WLteeyw7I3r5ekm6j7sbu6d73LwHvKU9Z36UAAaBmsM/hOeHJwkFSosLCYr2SeFI/Mfgx59Hz0hIiGcHVoXfw81BsD7w/Ft6qPm7uTG4uzestoz11HTXs5PyrDI8sd0xv3FwMhOzrLUJtuM4Trn8+pd7ITstO0u8Sz26/qz/pQBdQNcBAgFdAYWCUINRxO1Gvshjie9KnIrZSkWJTUghhyuGpoaAhwKHgEfBx00F/sOUwcWAk7+pvqG99z1GfX08x/yq/CU8LvxlPJM8ujxrPJA9FD2zPmB/zcG+gsIEFgTehenHB8hpyPlJC8lCCPcHY8YdxbOF/wZUxqsF1QSyAoqAbP2c+426kLoWObB5LjjVOE/3H/WHdOi0j7TPNOA0ojSY9Tk1y3cQeEn5/js7PD+8X3wDu4s7IjrHuws7uDxqfZI+5H+TQBPAU0DywfCDlwWEB2cIpomeSfHJM4gxh72H/oiUCXcJYElKSRrH7AW1A1FCF4Ei//p+jL4yvV68Qns9+cn5trlx+Xn5ULnH+rw7BTvhPIN+SsBZAgEDtAS+RYgGnocUx9HJEkr5DEwNTA0yC9pKTAiKRuEFTQSphCXDs0JCQLe+Bfwm+hP4nTd69rC2lzbCdsU2sPZiNrp22vdoN5T34TfzN+74O3iB+Yh6XXrWO267t/uK+2X6ojolOdh57fnd+he6b3qWO1S8bL1MvoDAEIIERJFG/wh1SWDJ5EnCSbYI3QjFSbdKeArGiv0J5QiEhtREtAJwQKk/QP6AvcM9NLw9ewS6YnmBOZA5n/muucR67bvRvSX+K/9EgQeC1cR4hVHGVccuh5XIEMiwyQkJrQl2yWLKEEsHS4ELVMp8iKBGYENXQGe+Kn0ZfNx8uvxBvJp8CDriuMV3bPZR9nk2gDe0OLD6Cbud/EX8xX0oPTt88Dxxu6f7OTrHuxo7Pvsv+2w7TzrBOZ13xfazdZI1OvRutEq1SPaL97B4bfmMe2l9ID9ewjzFNMgoilpLmAwGDHqMF4weDHtNFM4OjkuOL018S/rJb0asBFACuACU/zi9330ZvBu6+Pmo+MM4tfh3+L25ObnDesa7ofxJfYs/CwDSwqGEPEUMBexF4UX8RedGT0cHx+iIRsjsyIrIF4cvBhDFiAVtBT6E/UR6g2mBykAb/nx9HjyHvF18ETw1e+n7hrt8+uI6xXs7u0O8eD0Ovg/+vz6l/t3/L/8q/sp+t74IPfq8/nvduyd6Y7mzOKJ3snaQdgQ16/W19Yt1w/XOtZK1fDUQ9XN1sva8eFJ62T1pf9PCm8VFiCuKKgu4TIeNuE3ajd+NRI0zDT6Nvw3/TWVMZcr6SILF1MK1v8z+Jryye6l7Azr7+gL5sTiNN8K3G3ah9ty337lvOxi9ND7mQKACFoN/RClE+kV4BcfGYEZ2hn9GtkcIh5tHcQamRfCFDcRDgw7BsIBh//F/jH+qv0d/pj/+f/E/Sr6dfcr9uL16/bn+XH+VgNsB/IJpQoSCjkJwwiZCKoImQk3CwwMUQuUCk4KMwjoAhH9xfgZ9KTsKORr3XnY0NOLz4XMvcpLyb/HbsZSxuXHnspczafP3tHM1MrYxt14473pv/B3+F0ApQdUDq0Vrh7LKMYyvTuYQoVFqUN8Pnk4VTO5L/ktaS1ELPAo9iJoGhAP6wF+9RvsBOZ64gPhOeHY4XrhUd+C3CrbktzH3xPkfuqT81f9egX9C+wRFReoGrscFR5aH6og/iHSIpUiFiHFHtQbzReSEvEMlwcjAoX84fdP9UT0kPOa8sjxafGK8aDx7PF18+r2bfuDADYH7g+hGBsfNSOpJSomNCSsIHYdQRzhHKod3BwbGl0V/A3LA3n4aO775i/ic9+23drbA9kp1arQDcwdyLrF5MSfxFnEIcUAyOLMBdMv2jfiWerv8Jv00vVM96n64f6uAlkHRQ3JEW0SjhB9Dg8MVghSBCoC3gLBBXIJFA2HEKoTSxWLFNcRtA40DOYKIQsDDUgQLRR0FxcZiRjhFXoRMgxKB1kEkARXB0UKkAtkC2oK4AdhA1j+E/ud+of8wf9/A1IHNgphCrQHtASMA28DDQNEA+0EjQZCBnMEhAK0AMb+BP0H/ND75fvv+y/8QP2U/6ICUAWUBpEGeAZ1B68JtgwrEH4ThxWXFT4UXRIkEPcN0gwaDZ8NOA1YDOUL1Qu8C58LQAtyCSAFkP469yzxXe2E6x/rKOyD7XfsSOe13/PYBdVP1NjWjNso4Dvi4uDL3MnX7dMB06bVX9vl4vLqyfGx9Wf22fUd9rn3dPrT/qYERQrXDTYPAA9kDYQKTwftBPIDMwQmBeoFgAWvA/QAiv5//V7+8gA+BWILlxKEGFUbLxt8GTUXJxVZFHsVLxjWGoEbvRkDFy0U4A+dCcIDTQDN/X76q/fx9v32E/ap9BX05vNA83zyCPPV9Zn6/v/gBPwIXAx4DuMOIA5IDSoNzg3VDtoPwxAnESUQTw1YCWgFBwJT/3/9tPym/NT8xfxP/Hb7gPqn+YD5wPpa/ToAjAKOBKoGXwjQCOYHjwb9BYUGaAfXB8kHcweTBr4ERQI4AKj/YgDRALH/Zf1++qT2BfKs7hzuWe9I8Bfw/+5V7QLrLOir5drk0OXY5lnm+uQE5Lzj9ONU5TjopetL7vfvV/Ey87L1s/gP/OL/CATHB9oJkglnB+gEjgP0A18FkgbfBpkGvgVzA7z/Mvxt+sL5DfmZ+Jz5pPzLAfwIghFAGSUeHh/EHOUYzBVsFYAYSB6iJM4o0yhjJK8cgBPyCusELQLIATQCaQJkAdP97vfo8fvtHOy961vtOPHO9Xv5MfyM/jkA9QByAacCxwRXBw4KoQyYDnYP9g7yDJMJfAXKAZX/av91APEA1/+f/ST7VfgG9QHyxPAf8pT1p/kJ/Uv/igC1ABEAp/93AKACkwW8CIILSQ1sDbgL3whaBhcFxwRwBJgDJgL///j8Tfmh9bjyF/Gu8PLwSPFM8evwe/CR8GTxuPIa9Fn1d/aD9/b3IvcX9TXzk/IR89zzo/Rv9fP1hPXo8/jxiPHd83P4vv1oAmUFugWXA/kA9f8uAU8E3gilDYAQ6w+UDEwIiQQgArIBxgKTA9ICewAS/ZX4bvNb74HvdvYhAz0QEBmFHIEbHRZ1DcEFGASsCnoWOyEzJiclKx/OE5oEsPdi8t7z9Pc0/DP/q/4W+Zrv8+XU39Les+G35nrtXPUH/G3/xv8Q/6/+GP+XALkDOQmBEFQXFxuRGlgW7A/bCL8CWf8gAMYEhwqfDZkLMQWC/YX3IfSr8/D2g/1HBBsIoghtB54FAQR4A+AERQhMDPAOSQ+gDkcOnA3VC7oJ+AeXBRoCb/8a/9z/kv++/Rn72/fM817vzuuW6jPsme++8gr05fK477fri+hw58ro+uvW7zbzmvV79lT16fKL8b/ykPVw+Hr7Cf9AAhsECgX5Bc8G7gZZBnUFqARUBOkEGwbQBgQGtgOKAED9Nvqf97H1p/QU9JHy1u9c7UTs/euw7LXw+/mTBs8Rche8FnQSNg5MDP0NYBQ2Ht8mdCnAJAUbzA8RBoT/vfxk/Xb/vf9l/LD2GPF77AzpPOfl5xHrre9B9In4g/2EA5YIEQvgC+gM0Q5iERYVtRlMHc4d8hpMFYANMgVt//r9gf82AVQBUf/3+u305O4M67fqze108kD31/uE/9AAQACTAWYI/BOEH48lCyR6HVcVtw2UCAcJJQ9hFWkVBQ5qAoz2Le2x5/7m+Oo58TL1HvT/79PsOuwA7sjx4Pau+7z+XACRAf0CaATlBJEDnQBY/Hv3rfNY82b2yfg89o/upuTT21PX+dlN40Pud/Uq97H0TvC07N3sY/Lv+/IFCA2CD34OAwxuCbQH0AcLCZUI3wTJ/8D77fhg9oX0dvVi+vsBmghXCy4K1QcwB4gJVw7FFCgchCJXJD0gaRndE10Q3w1ZDOQLPguICDkDrvzs9gDz8u/u7Lfqjupd7EDvmfJ79qD6IP6+/8L/gADcA1AJCw8AFHwXSRhQFTMPEQiEAhcAmQBDAv0ChAHa/c/4bvMn71ftpe498nT25PlI/Dj+MQCmAYEC/wOrBssIIQo4DYESGBYwFUwTOBYfH9IooytCJHQWaAd0+Uvvne7b+HAFjwkwAvzzi+Uf3GrapeBH7FP4JP8A/sD3+PFU8K/ySvbr+OP6jPwX/e77h/rc+RT4GvMm7H7m9OT1567tbPPO9kX2YPFB6rLlj+e27/r6vwU4DcwPSg1nB4gBbv8hAggHlgrAC5UKzwaFAO74XvJS7gDsdumr5znrt/azBUMRzhWOFKMQUA2BDUoT6R6+LPA1dzWsLFkgUhS7CgsFPAMcA4UBw/xq9bTtqeck47Tfrd253azfaeOD6TPysftbA0sH2geNB+4IJg3gEyMcriNeJ8AkXBxUEasHoAHM/m79Lvwx+sn2ufGk67/mOeVO52zq2OwC8Jb1P/wmAnQHbgxLD68OdAzqC/gOKhQHGEYYthVwEXcKLwGa+Yj2JPY79n74QP9fCEMODgx6ApH3vvCx7h3xGfrICFkVPhgAElMIf/+M+f73cPuHAqUJxgxBClcEHP4w+KDy6u5J7vPvGPJI9Nf2LfnE+Sb3UPF16iDme+en7nH4vADtBPAD0v3j9BLuge2L80X9EAfgDesPtAxfBcb8kPbv9ED3N/tN/0UCugIMAF77APYN8Kjqlujb6pruLvG481/4af5LBBMKiBDaFmgbrB3BHpEgjCPqJYklQCLQHKQVUg2jBQoAK/yg+ET0I+8e6vblieKs4B3iQ+dM7b3xQ/XU+YD/VwUkC/UQBBYgGRUasxmBGfIZ9BkUGB8UZA4MB63+CvfN8QDvn+2f7IDrGOoQ6WPp0uv27wX1Q/pR//EDIwg2DDIQnxP3FTkXSRcFFlYTyg81DDoJWQY/Arv8q/dk9HjxZu4D7UXu0u+z71bwnfYWBFsUtR6/HQ0U6gdh/pz7AgSDFj8pnjB3KBUVLP+T7jTnY+mj8lf9OwKU/d7y6uhg45viNeV86S3uj/Ig9+r8NAQECwYNrgeh/Vb0y/Cw9FP+PAnOD4MNiAE58N7hFt1s4qjtb/k5AUICnfyt82rsWOoa7nj18/xEAuAEvwWxBWkEpAH9/Rb6afbc84n0Ofkk/0cCAwB9+Gfuu+b95jXyPAYYHA8rSi6kJ7AchBLpDGUO7BVgHvghAh8eF8wMKgI5+JXvrujZ43jhPuLi5oLuVfUJ+Pb1dfHt7ZDuefVmAjES5h8hJwgmhB7sFMQNSwvsDOMPWxE+DxYJBwAy9p3t3eYY4rPfDuAH41fof+9K9x79Qv84/lv8SPzR/6wHPBLeGxAhsCBUG4gS2QjTAWn/9v/nABwBfP+W+obzKO8g8lL7PgXuCRQHLf969xn1yfrLB8EXxiNSJgAfEBLcBXD/HgBQBWwKHAvYBX78NvMX7bjph+fv5QHls+RJ5fPnae3r8x/4QffO8Sjs/OoQ8On5ZgV9DlcRlAwcAzX6b/YC+WT/dQVlCPIGaAEK+or0EvMi9DX1u/U99gP38vcu+ef6bfxO/Gf50/Qm8gf0RPkf//oDEAeDBykGmgYNDOQVWyAjJ54n/yGSGNMOHAh7BvwItgvGCmYFVf289L/t4elO6TXqDesn7Hru+/Fh9nn7oAANBMwEcQSRBa4JbxAvGB8eWB/FGnESnwncAjf/df4C/3H+APv+9Hjun+no5yXpR+z373bzyfZw+s7+4APbCKUMfA5IDgoNOAxMDRQQiRKlEq4P9wlFAu75jvNC8oT3ZwGjCvwNlQm7//z0Ie4s7in1AAAiCssPmQ8CCzAF1QBQ/14ApwLGBFAGJwhwCnYL5gk/Bs8BW/3Q+U/5U/2LBBULzAwVCA3/zvX27/Hu//Hj9t36Yftf9yjwJ+mB5anlJehu63vu6PAJ89f1e/mE/Lb9Yv17/M37BvxU/hkD2wikDBQMDQcfAHL63vch+KX5+vp7+zL66PW579Tr/+wA8cv04fcP+5z92P1k/Kn9nwbmFl8m/iu8JVQYoQoeAusBUQmjE34aHRntDmEAm/P861nqne2H8rX0IfMM8lb1K/vS/9UBzgEaAIz9IP0HArQMNBnCIBkfDhZ/ClMAEPqu+dH+YAUHCE4E6PsV88LtuuyC7gzxUvN49RX4sPtsAIIFowlAC6AJ+QUTA/YDIgnqD44UkxQTEP0IFAHh+fr1m/g8AhsOBxWrElsIlvsx8t/uV/HE92H/4wRYBswE2QIFArUCUgSlBbwF6AQmBdoHFgwBD6ENVgeY/oD2AfGT75nzZfsmAUEAD/rh8kvtcepy6/rv+PQy95T28/SD84zz+/U++f75nPcq91r+KA2MHAwjtBubCaP0j+Q/3k/jefCU/fEC9f4F9Q3qy+Nz5p7wzfor/7L/DAFiBPUHbgpvCw4KWwWs/pb5hPp9AsgMdhKzD4UFUvgl7unrO/KF/A4F/AjSCO8GxwWTBm8JDw1DD1gOvQrLB3AIMQz0D2cQ+wt4A575HfLh73Lzgfq1ALMCPwCp+733sPYv+Vr+8wOrB7sIHAjmB5AJkAz0DtgOkwtYBkkBcf6R/roAoALIAZ/9Hfj183jylfNu9gn6Yv1x/5//+/6K//8BiAQxBcwE/QWHCj8Ruxa7F0cT8wqMAd358/V19iP6nv6tAVICEQGy/6j//gAkAhUCsAE8AhAEYwZeCKUJ8wlECHEDYfzR9oT1WvdU+Qz6P/lI9jXx6utw6Bfnjuf/6Q7uOPI+9WX3dflU+3j84/xQ/bL+6QD5AiIEDAUSBhMGDwTcAJT9HfqF9mr0B/Ve93f5Rfq4+dz3PvX08nfypPQL+TL+GgMnCL4NxhKbFY4VFBMwD2ULtAn0ChwONBGvEmsRrAw+BZ79Y/hO9pf2Gvgk+mv8kv7g/wEALP/5/ab8aPv6+kr8w/+tBFUJ3wteC10IbQQzAaX/wP/VAAkCwgJ5AtMAWv5O/Ij7cftL+3j7uvwI/94B6wSGB10I8AZxBGcCTQEPAe0BqwMDBcwEPgNCAUf/h/0s/GH7+vqv+rz6Cvym/5MF9gsTEAoQ/gv6BeQADf+3AA8EwwasB4YGdAOO/6r83fsq/Bz8k/uo+3/91wANBMoF4gWCBEwBnPy3+On3Xfpd/goC8wNYA40A5fym+UP3r/Xg9Kj0v/Tf9Bz1rfVt9u32yvYf9pb1IfZZ+Jj7Uf6C/8b/LwAQAQoC4QJMA78C1AD4/ST7TPnO+Ez5EPqe+v36k/uw/DX+sv+aAJ8Awv+F/tv9VP7C/8wBUAT4BtoIIwkGCKkGNwZKB5UJ0wuODHMLtAmCCMQH1gaDBQoEZAJgADX+nPxL/GP9C/8eAAAAH/9z/q7+o//SAOsB0wJ4A8oDEQTFBBsGkwcDCKAG1gPEAHH+df34/Zb/UQH9AfMAvf7H/ED8Av0P/pH+af4X/hz+jv5z/9oARgKeApMBfgDXAGEC2wNQBHoDrAHb/4X/5QHTBkwMUQ/8DdkIqwKV/pj9Lv4I/8AAewM7BW8EawJXAfAAof8F/T360fij+Yj8CgBFAhYCpf/t+xn4JPWs88PzAPVU9ub22fYm90b4LvlI+Dr1u/Gy8Ivz6vhZ/mwCMASbAjv+Kfom+db6Af1X/rD+j/6Q/kn/rACtAfMAuv2v+An0GPLp88n4z/7sA7IG3QZFBSEDTgGiAM8BWwSPBj8HUwfUBxwIYAchBuME2gKg/8j8Qfwz/h4BWQMtBNYD2QJOAWn/3P0t/QD94Pwi/VH+XAB+ArMDswMBAwgClQDY/vr95/4TAfcClQNCAyADgQM0A4UBjv9q/nT9MvwW/Cr+7QCLAkEDAARpBL8DZwJoATIBYwFuASAB2ADWALQAHQBr//j+UP4+/W78c/zA/Pb83v08AHIDtwZRCicOuxARES4QFQ8GDSAJUgRKALn9J/wX+5T6/vr5+wj8YvoC+Cn2m/Ql8xrzhPVk+S79nwB6A2cEswLI/3L9Cvzy+iT6CPrc+gX8hfzx+9760fl0+HL2hPTe89/0mfae91b3jvZ69n/3TvmT+wb+PgCkAecBkAHOAeAClAO1ArkAKf/s/nn/hv9G/g38KfrI+QT7AP0z/84BzwQrB+QHTweEBvoFkgUmBZIEtAPGAmUC6QLxA9wERQUQBS8E3gKtAQ0B1QCdAD4Ayv9H/+7+Df96/2b/aP4j/Zb8If1q/uH/MwFIAuwCvQLmAVMBsQGAAgcDewNZBH0FgQZvB/kHKQfMBCwCUQCr/nb8RfoR+dH45vgO+bf5OvsZ/RL+4P3d/WL/BgJXBKAFYgZsB8YIsAmACYEIlAfuBisG6QQVAxIB/P8TAbUEsgm9DdcOtQy9CL0EbwF5/lX7Svhu9q72Lfks/W8BzwRbBlwFpwG+/HL5IPk6+q76xPp5+4L8D/1E/Vj9SPwy+cL01fA+7+DwefWN+xIBdgRkBVME5wEX/+b8hvtA+ob4RPf39zb7yv9ZA/0DcAEb/fD4TPZ39fX1J/ds+In5pfpL/Jj+mQDzAO7+JPtD9yz19PUR+cP8r//tAREE9wVnB6MIign1CGkGfQMHAkACbQMrBbsGjwY/BJMBbQCVAPAAFQE+AXABUQHTAM4AaQJQBSoHCQalAlv/mf1j/Rj+Dv/i/7wAJwJVBNIGzwh0CWsIHAZNA9MAk/8hANoB3ALkAab/4f2c/ZL+wv+ZADUBiQERAaL/N/4K/gr//P/F/zn+Kfwe+0/8JP9KAYIBHAF1AeIBqgHQAV4DJAX5BIECAQB9ALoEKApXDS4NDwu5CBMHOwaKBe8DdQGM/+3+xv6p/q3/EgJxA6UBwP2D+ir5NfnJ+VX6nfrd+rL7M/3N/uX/PwCk/7n9j/ol99H0RvQT9S72DPc8+EP6o/yb/gMAxQA6ADv+EPw2+wr89P1eAH8CdgP5As0BwgDC/yz+svuw+PP1VfRj9C/2Tvny/B0ASwK3A8QEQQX+BFMEZQPlASQAqf8jATYDHgS5A+8CJgI8AR4AF/90/jH+9f3e/dD+TAGLBBEHBQiQB1kGtARiAmn/i/yd+qX5dfmD+hT9VgCEA5wGKAmLCWsH8AT9A8wDEAOKAl0D4gTNBR8GUgb4BZgEhgJsAHD+yvwu/Az96v4fAXoD5wXlB9sIngiZB1kGDQV3A3wBpv+X/nD+9/4BAFgBgwIYA/0CaAKOAXUAC/9s/Q38W/t1++P77PtZ+6L67vmQ+Gb2p/Ri9Bj1+vVm9/35XP1vAKMC9QOMBHwE1AOPAtYACv+7/Tv9fP00/iv/AQA8AL//7f5S/vn9Y/0L/Ez6bvlX+qP8ZP8pAq4EVwaSBoAF7AOFAhgBzP5z+1j4MPeV+H/7Mv7y/1UB0QKyA0EDCgIvAfYAdgDK/mT8HvvT+xv9Vf3L/KH8wvxz/LP7U/vu+5/9HgD4AvsFLglyDBgPKBDtDnwL1AZIAp7+rft/+df4Gfpj/Bf/5gL1B00MEg6NDeALEwkUBfgADv6F/PX7avw9/m4BdAVXCe8LUwyHCm0H7wNZANL86Pkh+H733fds+R38Kv+SAcACzgIpAuIArf6z+xL5zPfb9334TvlW+pL75vwW/tv+Df/I/lD+Qv5s/3YB2QLWAqgCJQMWAzYBWP4t/Bf7R/os+V/4E/ly+xL+tf/aAHoCLgShBDwDjgCc/TP7ifli+KD3j/eU+ND6+P1YATAEEwbxBugGGwaaBIICQACT/sP9ev2M/XX+RQAHAq8CJgJWAfgAowAF/zb8aPo4+5T91/9MArgFMwkXCwULwgkECAEGlgOuAJv9F/vn+Tv6j/uB/SQA4wIKBB0D8wEEAh4C4gBR/+D+JP8f/0z/kwCgAjkEiwTRAwADpgJCAkgBIwBO/27+WP3n/MP9KP/e/6b/Of9I/wMAFAHlAQgCoQEyASABbwHuAYMCPQMxBEIFFwaaBhQHSwdSBiAESwLzASICYAHH/1P+Xf2e/O77hvuV+9j7j/up+kb6OPvA/Ov98v4vAO8AnAAEAAsAVwBRAGAA2wAuAccAIADk/+H/aP8V/l78O/v1+tX6p/p6+8T9\" type=\"audio/wav\" />\n",
       "                    Your browser does not support the audio element.\n",
       "                </audio>\n",
       "              "
      ],
      "text/plain": [
       "<IPython.lib.display.Audio object>"
      ]
     },
     "metadata": {},
     "output_type": "display_data"
    },
    {
     "name": "stdout",
     "output_type": "stream",
     "text": [
      "Playing poisoned audio for sample 1\n"
     ]
    },
    {
     "data": {
      "text/html": [
       "\n",
       "                <audio  controls=\"controls\" >\n",
       "                    <source src=\"data:audio/wav;base64,UklGRqg6AABXQVZFZm10IBAAAAABAAEAgD4AAAB9AAACABAAZGF0YYQ6AAD1ACvNg0me0Rr5Sjl2ubIq+w4Ew7tFeNwz671A2bvLHMsb77y1Qe/p1t2GRUXCJhAjKWe5bjqT+FPT90hVy38CwTTbuPkwKAcvysBJ9db69KE+U7xLJx8WmMIFR6HjV+YEQ4u+/he1H/m3bTvH64jUm0E8wK0FtigXs3Ew1Pbxxu1AGsd49OcwdrKmJScFQr/ZQTHUBOecOey2iBuzFPy5sD8J5Ajd50E9vpUPLSOHt5c6jvOC0k9GZci3BLIxvrd3Mj8EK8xZSqjV8PnIPxi+qCvNFRrHOUsR5bvu+0iLxNQhoiXLwhNHQvP54dNMAcqlEtcv8bx9PNv+PNTsS3/P7gD0NzC7aDGOC+HI6Umo2rzzZkFRvrEmJBtUw6FHYuiH5wpJWMRDGWQnc77RQbj1JtmYSTvJ6Qj0L6K3NTMi/iD96vsu++36BPpW+OX3a/ld+uX4LPdW97f3Z/Yc9bX1tfb/9X70Y/QB9qP3svct9rX0kPRT9fn1tPa19/b3/PZX9vf2cvem9gz2HPfG+E/5C/kx+dL5R/pr+sD61Pte/Ur+bP46/3MBfQMBBDkEjgUEB34HCQjbCfML2QzLDAYN4A3JDiEP7g6yDukOVw+PD4MPOA88DqgMZgv4CpEKZAm3B4UGLAYVBloFIwSJAzcENAUdBcEDMwJjAZkBgAJpA6sDZwNPA7YDGwTtA04D9QJiA1kEDQUcBRgFDwXaA3MBCgCOALMAc/4/+8b5bPre+tn4OPWQ8071Rvd89sH0y/Rd9TL0jPIs8urxvfC18MvyRfQO84DxZPK99Jn1QPSV8uHy+fRU9rj1fvX/9mf3tfRF8kHzWvVZ9a301vW790D4Gfj5+LT6Dfyy/IT9gP95AvoEGAa0BhMI+AmWCwQNvA5wENkRVRMNFSsWFBZRFaYU4xPfEj0SMhKbEcAPiQ0DDKIKfQjRBYsD0wGAAKX/Lf9z/lf9j/za/PD9L/9MAGcBfwJuAwgEgQRNBV8G9wbNBsUGnge6CPwIPQgRB90F7gSiBLwEVATlAvQAdf/V/nT+Rf1S++z52fkb+nX5PPh991H3O/du9/z3HPi29zD4Z/nT+Mj1tvMM9Uv3pvZ38xbxmfEJ9AD24/VY9PHyPfIM8s/yPfS99Hzz/vHQ8Yvyz/Jt8iLyZ/I48430EfYu98j3hvjO+Tb7lvyf/pgBeAQxBg0HSgiVCk0NHg/QD7EQyhI1FYUWpBZYFs4V/BQ0FMcTeBO3EhsRDA90DYsMOQuxCJkFKgOHAWEAuP+T/1b/qP7z/RX+V/9DAQMDIASyBE4FZQaUB+wHTAfEBj8HSgi5CBUI5gb0BYUFNAWhBA8EkgN4ArkAqf/I/4r/qf0/+y/6ofon+6X6Mvmz9xT3ofep+D35OvlU+cn55fnt+Fb3LvYY9pT2pvY79nz2YfcC93f0//Hz8bnzu/S789HxHPHw8WHyCvFd7x3vlu9N79juSu8w8K/wLfFH8qfzqfRt9af2zvis+4f+0gCnAl0E8AVsB0QJmwu4DTgPwxDfEsQUrhX7FTcW3hWxFKETbRNOEzwSZBCpDjYNuAsACg0IuAWDA1wCdgKiAvsB9gDQAOgBnQMSBf0FiQYdB8kHKQjbBz4HMwcjCHoJHgpPCboHAwdPB3sGEAQVA+4EBQabA7sA5AAkAhEBb/7X/HP8Cfx0+zv7ZPsZ+275SPdO9wH6D/zV+lf4nvcp+PT3Y/c49y328vNI8yr1PvYX9ITxyfGd8+PzlvKh8b7x/vGF8XXw8O9T8HrwbO8s7v7tgO6a7mPunu6J7+rwt/Ks9Dn2Wffk+EH7o/1J/64AhQJ1BCQGLAjhCkYNsA71DwQSQRSLFcIVcBWzFL0TLxMpE6QSCxEnD8UNUQxaCrEIAQhTB+gFfQQxBMcEFAUpBAsD3QOmBisIzgaUBS8HQAkTCYYIwwmBCpsImgYpB2QIygeABqIGjgc3B+QEaAKSAr0EOAQxAAv/mQNOBlIBBfsb+xb+ev1f+8z75/sg+ff3Rvu1/XL6QvWW9PP44PxO+8n1qPMG9xb4zPIn8Pf1QfpM9NLsf+509Kf0K/AT7vLvGPL18UDwru/W8KTwmO2/6wzu2vA58MDuSfBL86X0RfUN97/4Mvl5+hT+ygFJA8kDagWuByMJFQqPC4INPA9xEIER5hIOFFsT4hA/D/sP7BDKD7QNxwxyDGYLKwq7CToJ9AfuBhoHdwcWB6IGCAefB30H6QboBt4HMwm+CXEJqwmUCsUJ0QaGBcsHcwl1B5sFhQfVCTkIigT/AqQDtQMjAlQAAgBJAWgCwgHf/3j+O/56/nf+CP5G/XL8/vt9+7L5hveJ+Hn8Ov2g+N31pvlc/Rj6JfTZ8lv1IPbR86HxiPIg9dP0j/D37bbw6vMl8nvu8e0V74bu3u0770rwsO7P7I/t3+9c8TnywPOz9SP3OPi8+fj7Yf4OAPMATgKpBKQGcwekCB0LzAxzDHgMzA42ESQRwg9+Dw4Q1w+1DqYN/gycDFcMDgyKC60KUAn2B5YHRgiSCMoHJgfEB5EIOwhLBx8HxQeVCFYJAgpJCu8J8QgECDAI7ggICGMFPARmBuoIUwh4BZwDuANaBG8EuwMWArAArwHkA3kCuPw3+QX8vP+z/hD8AP3M/5n/9fvX+NT5QP3//P33NvYS+wr9Mfbq8IT1Y/qc9fTu3PCs9m72yfBo7crv7fOR833uPeyD8AL0Z/Cr6yntGPGt8AzuXO6P8Irxj/Iw9SH3cPZ49QH3K/qF/Kr94v71AE4DvwRLBZQGJgnlCpMKaQpBDCAOyA2HDJcMVQ0oDV0MJQxmDH0MWQw0DNML/wrXCeIImgj6CFEJUglrCdwJvgmfCJkHngfSB84H7QiAC/cMagtkCL4GIQfWB/IGHQUgBWIHEwg3BZQCgQM5BQAESQHQAAID1QR9A/X/O/6p/1wAiv2l+rf7wv6V/zn+7PzF+yz6SPmq+br5ePiC9zb4Xvny+NP2e/RQ8xjzcPJx8XvydvUo9oTyCO/77wPzU/PE8Hfu+e2u7u/vzfBX8BnvDO/n8DbzGPSE8xPzMPRf9ub3J/jE+PL6Zf2d/oX/dAGlA9AEdAW0BoIIIApRCzUMxwwCDf8M+gwUDSoN2QwsDK4L4At9DLwM9wuCClYJEQkrCRkJDAlUCWQJzwgDCNMHTAjdCB0JPgmwCeMKpAy6DbUMowknBnAEnwXfB5MH1QRDBKcH6gmaBt0A4v6VAewEmAWnAysBJADSACYB8P5r+3n6Bf0R/1r9Ffp6+Qv89/2x++L2g/V8+c/8Zfr59eb0jfUc9DDyD/Ot9dH25PUU9CzyqPBM8P/wqvGP8VPxm/EI8uDxUvHR8G3wEvAh8BfxP/Ok9Wj2f/Wj9cb33/iI98r3a/xgAUkCVQE/AtEDxgPhA0cGSgl0CmAKFgvZDCAOlQ22C3IKGQvDDK8NYg2bDLwL9QqrCssKVQo6Ce0I7wk7CskIxwelCLsIhAZ1BeMH9QmwCL8HVwp0DBwKtga5BiMIpAfUBuwH7AhVBywEtgLHBHIH7ART/pD9lAUuClADo/vm/YwCNf9K+U76S/8DACf8O/k5+qH8vfs19970BPho+5T51PWS9Tv31Pas9eL1LPVy8hXywfWq99LzRe/j75rznPTq8XLvmfAs9NH1iPPI8GrxM/Ry9c30avRB9eD20fg7+kX6Tfnz+JL68/06AX0CsAHSAMIBPATEBrQIwQkiCbIHWgiNC2INZwuTCKMIrwqTC6sKwwkTCgEL1QpdCc0IEApbCkoINAdnCTsLLwn0BaYFMAcECB8JVwuqCwYJuQdNCn0MLQr/BSYFSwh0C9QKKgcpBZMGsAYeA98BPAZPCOQCdf7mATgFfQCc+kb84QAiALD71Pky++j7zfnX9g73kPqt++v3v/X++HD6HfU68Yn1XvpQ9+vxdfIJ9tr1xPK08arzPPV18wHwYfCn9Q35v/Xr8PbwoPPX89/yBPTy9S72DvZ/93H5CPqe+Rb6kfzz/+ABxgHzAQ4EVwbWBuIGUwgDCnQKsQqwC/ELNwoECMwH2Qn7C7sLNAkpB3IHPgiJB50G6gZyBo4E8wTRCIsKxwbRAlQEqQhVCmIJaAk2C9MMtgz3CuYIGQjKCCkKkQseDDoKfAaQBMIFDgaqA3MDeAe5COMCdP1X/xIDZwGR/V/9lP6h/Cf5J/iH+Rr6CvgF9dT09ffQ+a33sPU09yj40PSs8fDyZfQj8vLwc/Tm9jnzpO5j77Dy2PJ68NjvMfLV9N70hL7VOtTGN/HVLy6uwSFyCXW9wj7S1tzo60DhvekgDCGAwXtFnu6T5PdNrctZGj0078QORXYBq9uFUlfVqgojO2W/XjdOC4XMM01H3Lb5yECwvM4njxcOxItHt+Oy57BG8sPaHVYmyMEgSiL9aeQcTw3OVhUrOdDDYkLTCRzZy1Aj1XUCyj+RwEsxgBBEzZVPR9xj6+JACsBWH5oTOLs4Q8biqtatPSW+zgzHF7CmKC4H8NLORzdDs0j4zi0yrnggJvVtwgk828Cp520y7K05FSv/ZrbSPgXWZtl9MhW0dBU9FSGuETYe6LbWVT/evnQLKilMtk85k/9v1YBMN9K4B4RBf8W2O/sVl9PYVI3laP5XSyXGeSsuHvLGFkyI64vnYkbQwAsWPCRpumE8lO+705tFv8UzBVgtEbhYNukBFAESA50JqRDIEHoJVgTOB2oNjQ3wC/8NPg8tC6YHCwryDDgKcwUGBQgI4wj6BPL+1vvQ/Kj8gvlm+iAAm/0378Hny/Lu/tb5Qe0W7Cb1v/qM+IDz5e9Y74vx3vSk+E36zPTr6q7ptvQc/d/3ke/38V36dPw3+EP1o/Vg91/6q/5dAkID6gAa/lP/QQW5CsoL8wrFC+0MHgw3C/IMJRCkESEQiw0RDVkO1AxxBzsE4AaSCXEGEgFT/5v/4P12+zz7q/vl+sj6ofyE/YL7g/nK+nT+iwGqAvkDygiJDvcMBwS8AAIK+hNeEjgLJQpCDWsMeAjzBVoDXwAPA/IKhAt6/3D0/PXJ+576Ffdi+Uj9mvkk7krlJurR9/H5/Ovk5aT0ewDQ86ngHePs9sEDIgCu9FzsZuwH89P5jfwz+w738vIF89b3Fv33/QP69vZq+0QGgw7/DHwETf+VBJ0QshgOF78QVA4vEWsUJhXnE1kRaw/0EFMUZBPzCw8E/QHIA08ERwOUAYH8cvR28B/08vj59x7zX/Fc9eL65PtO+C73i/yIAoUE+wc6EIcUiA4iBzkJCBLCFx4XbBPKD3UMeQg8BIEC8wPuA1T/Gvph93bzPezR5+7qyu++7m/pDeWZ4QHf4OF16hfwZO3f6Pzqv/IT+HD2qPFg8Zr3nf28/P/3gPWV9PnzRPjlAOQCGPoZ81n5aAa3DMgJrQV/BsELVRE3EyURJg+NEJYVMBzJHxMcuhOOD1AUdBzTHu8YKRChChEKwQtUC8UGiQBP/H/7p/xK/OT3F/J38L/0G/qm+tv1j/G08437XAI0BLEEAQm7DzwT1BGVDrgMsQ5LFdQbqBoLERYIogeLDGIOrQpVBD/9hvcB97z5Y/d57V3kQuSk6pLs9+KZ1LnQPNuN5THj4ttG3ILh2+Ll4qPmu+lT6Cvouu3T82nz7+3e6/ry+/4fBc0AVPr8+9cEEg7VFYYbbRp0E3wRMxpzJCkm9iGxIBUkziYIJSggTxxFHA4ezB28GtsV1Q5QBwwE/QXTBqABiPlZ9KnyffG478HufO9X8a7y2/IG83j05far+TD9MwNhDG8Vsxj/FJUQGBLrGJEffSJOIdYc3BY6EhkQNQ+EDdIJWASB/uX3rO4X5JHdD92Q3HjWBc6qyO7FN8RexkPN5dJH0hHP5s8p1l3eg+V96o/tCfCT83f40/32AXwDwgO9BoQNIBSKFxUaXB7bIcQhdiBgIWwjRiRlJPwk2SRmIkYesBrmGHMYphcZFZkQNwtBBjECg/49+zX5J/i/9RzxCe3661TsZOyg7SbxSfS+9Br0Afbv+y8DageQCbsPoxuaJfglph8gHCAgmiihLzgwLSnuHkQY6xZMFo0REAm7AIr6ovQU7afj2dkA03fRPNIhz+zF1rvWuJy/1MkmzmvKQsZtydXSftst4ODiVeYN7Ff0xfzRAfkCsgNhBygOuhVIHJUhsSX3J6MntiVHJUsoiyzCLisuMCunJa0eaxl4GJwaUxtJFjIM2gI+/vb7pvhc9fXz5fGh7M7m9ONe48HjWeak6yzw1/Ag70Lv0/Mf/BgFOA1yFSEdTSA7HlUdxCKlKtAuZi+XLvMqsiNjHX4bvRqFFkQPGwe//bXyr+hY4qDep9oe1VPOcsfjweW+g7/iw2vJzcv+yavIUszM0x/bOeF55vbpWezF8fv6PgI4BBEGfAwXFI8YWRxXIz0rWy7zKrElYCVbKw0xdDCXK/8mHiLSG8AXNRhNGGUT0QvnBX8BTvyh9sXyOvF68IXubepH5ZXhEOHw4/fo3O3e7z3vJ/Dm9F76l/8bCeUWTR+DHN8WsxmXJAUudy9uKtEkkyJ6IoMgmRtvFccO5gcaAnT82fMK6JLdz9iL2OvW5s8txY68X7sGwqjKBs7Oyg3H6cgd0GbY6t9O5hrqSezT8Qr8/gS9B5AHrApQEpYb/yOHKoguBi+iK8QnqilDMjA5MDdELxUooyLAHY8bBB0GHewWrAwuA4j8+feN9GHyKvGz73nsv+bi39TbMN7y5bDsG+7D7NTsiO6C8T/44QQPFKEe/R/lGgAYCx3JJl4uNzHcLz0qeSFsGgwYdhdpFCEOuwW5+xHwnuRB3BnYx9Za1SDQpMXauU+0iLi/wU3IYsmvxzTHKMqw0DzZJuIS6rPvCPS5+rUDcgn5CT4M7xU+Ii0qYy6vMS0yVS6fKjotOzZrPjM9mDFzJFQeOx7JHl8eoxzxFUwJ/PwQ9zP2n/Xv8k3vRuz+6DfjXtyT2gnhdOmF7X7vGfLU8RPvUPO1BN0ahSZxIWUVSROQIMIwQTa2MsQuKyvUJEYf8h2NHKMWiA4wBwP/HPNH5ezaFtc511HV2sytv6S0crGZtuy/q8bXxQjAVr5lxSvQL9gn3rrlFu4T9ED4Yf1jBFgMhRRMHNYi0CjhLz42BzffMeMtsDG5OjNAdzxuMewltB/fHqMfsx7VGQ0PxgCJ9jP0nPTc8cbsvOjQ5DrfyNqd2pPc897k4y/rQe/J7RbtTfUaBogWex0GG4sYjh1DJ9EuAzNXNfwzxS02JzQkxyIJH1IYbhCbCJv/E/S257/eWts92k/VYcrYvdi24riuwAXHI8fcwn/A/MOSy6zTo9uv49XpBe2N8JL3igBICHIOARTuGNYdmSQiLe8zOzVGMR8tOS6eNBM6ODgKLx8kxByNGlYb6hqsFZoLDwAp9wXzIvJ88BTseOb04bPeJNwA28jc/+DN5azpoewm8P/1N/7EB10RHBkPHfkdwB8nJWwsLTEAMeYs9idcJBAiXh/7GjgU1wrX/yD2Gu/j6NnhHNsi1dzNn8RWvWy8LsGlxozIa8ajw2XER8rQ02be3Oap6g7rde1l9U8Atgm/EFcWOhqUHfQj2y0jNig3LjF1K8AtBjffPMM3MCwHIzkeVRspGv4ZEBZzC/b9JfTi8HrxZfBn63vlyeEB3/LbhNuI3/LjheVK59ztbPjhAYUG3gcRC/USbBweIxYnWilSKPYjQiGNIy4n1yURHjsTYQlAAkv9FPiU8Eznft7Y117T5s5dyKTBtL82xFPKWMyAygjJzMoS0ArYQ+HZ6ZLvWfFg8bn0DP7zCeISQhcrGQ0bUx+OJyUx+DXRMpAruycxK4syMDZ5MecmvhyhFs4UBxaLFrAQ4wM/92fxGvEo8UHvxetN5jPght3v3xbkhuaC5z7r1fRsAHsFhAJfAZkKbhnII0En5SYmJC0gyR5+It4oaSvkJPMWMwp6BJACNf6K9tDtF+Rn2QrRHM0qyxXIJcQfwrTDZMckyvDKP8zd0GHYMuDn5mbs3PDr9Oj5mABLCGUP3xS1GPobVyCPJmAtCTIVMpgtSigHJ9oqHy91LhIoCh+YFucQ7A5tD9gO8wlsAIn1CO7066jsqOzg6ifo9OS+4UrgwuLq6PDwn/ho/dX93fyzAP8LmRnVIVUioh7lGwYdjiFHJtcnRST0G/sRCguJCM0GNwFg9ynsR+Jz24bYStc+0wnLIcMWwanFoswQ0UXRxs9D0GTUJtwC5wnyBfhR93n1BflwAukNOBgfHwQhlB8eIDQmcS/1NcQ1ADCrKeYmjCf+KC8pjSZlH+kUOgw1CdAJMwmnBNH88vOv7ATpH+my6jHreOkc5ubireJ5573wpvriAAoCSgH+A1AMuxZTHrAh8iEiIIMdqhyQHsAggB+iGRERLgm2A6D/VfqV8hPpld8l2CvUe9Lfz7/KVcU0w4PFncr5z5PT49Qs1QHXoNxh5sPxePoF/lr+C/8AAjUIaxIwHo0loCXwIpYjNSh6LbowHjGlLhAq/SSlIXchliIMIN0XYg6YCAgGxgMVAR7+Nflwvdsyhbgf4ScjRKQnFa/3AqoALkzLw+TURFvFWiZoJdPKMVYaBG/9tmp96WIzp0Zw1I9VrhIh6tBaxtbmBWMvKqshHN3r2afGH9Cm/sALBwGAhueH1kaFIwyZrI21SBhjl/vzNgHyoCMsdOSG1cFJkcyLEzs4ncenTQ8dcvNNcWv6KimAZNvjkFX/M5zspW3S/sQPR14N1c4xTyPFwm1F7ujp4JBCVbkLBE8RX6GdIyzfYMFcNk23/vHLHgOoWCqZBkzXolkT5lULxlIL08RDyTL36LtuIgWmBz5b2dLaLOMrasQeRZrraND9MC6nCOrI/+mFGQKuw+uXuQ0jkBDC/voQgWb7JtzeocIp7L3L2VUs0q7EG8YV1MVFUWH1u/XLWRjagjRZRgng8GfrIUEHX3LU6qAnyk7t1QVRMx2HHPEWUA3tAxr+M/zw+0n7Bfr394vz8uzi57Lnzurl7RzwQPI09K323fsABFYLIg9OEeIUvhkqHuEhSSWEJ+UmBCOXHb0ZiBicF08UBw/NCPwATvcv7sjnCuOW3fTWbdBoy1rI68a7xtPHGcrdzLHPR9NE2CHer+OB6NvsTfFS9kT8iQLFB1MLCQ7yEEQUthd4GxYgeCU6KiAsSCo4JvAhBB7NGoMZexpzG6kZbhQeDZUFYv9M+375VflP+Xf3U/Ov7rfrxOpR69TsSu9b8g/1lPYk+Kf8UwUsD1kW4BkrG64bOhyYHVUgFSTwJj0mFyH1GY4TSw56CXUFRQJf/gL4eu+S5gjfM9kh1HbPUsw6y7bKrMmcyf3Ltc9N02jX4tzA4m7nE+v67hz0/PlA/yYDfAb8CfcMCw+pEcMVCxpdHcogOiXjKGYpgCbeIVAd3BnIF00XfRjNGfwXtRGoCU8DF//v+8n56/gz+Fr2hvPO8OTuE+4R7vDu9vDS82/24PgE/SMEdwwtE+4WIxjeF2MXOxh+G/8giCaYKC8l2R1KFQoNSgbmAs8CrwIR//H3Xe/y5mjfStlC1YHT4tJ70cvO+swRzmjRMdXf2KDcL+Ah4xPm8+kw7w31HfqA/eD//QG4AzoF4gdHDN4QLhTcFiIavh1YIPggHyAFH+cdlhvlFx4V+BTtFaAVyRMgETUNfQfiAGD7Tvhb97n2V/X981PzKPIO8ADvtvCh8771W/fi+Wz9SgFaBXcKNhFcGPscvh3UHMEcRh0RHZkcpRxWHB0a0RVhEM0KXAXE/yf6hPUo8t7ufuqT5UDhsd1t2mDXNdXB1MrVENcl2GzanN4b4yfmXug/6wfvqPJ99eb39fqa/l0BmwLsA5QGTQmHChsLEg0cESgWlBqjHYgfLSB0Hk8aERbyE5YTmBO0E9kT3xKID/sJ+gNv/7L8LPoF95P0BPQm9HTzb/KX8uDzOPXx9XT2e/ea+bL8MQC/A58HRQyQEXgW0xkcG3sadRjMFZwTuhJTE2YUVRQsElUOggnPA2X9Q/fD8m/wY+8Q7rPrG+n25pTkiuEN3w7emd2v3GbcF96A4WzlYulQ7czwFfPz8wv0xvTn9vj54fw0//gAHwKtAhYD9gOTBSMI1QtkENoURhg7GqoaaBnCFsQTgRFgEFMQMBFvEgcT0RE9DjEJfgRHAfb+t/zN+sf5T/mb+Hv3l/aJ9j73w/eX91r30vfK+A76Mvyy/9ADWgfXCd8LaQ6VEVMU4hWlFtIWgBVTEhIPyQ2cDvIPKBCHDj8Lnga3AEv6O/Wh8m7xQfBH76XuLe0P6ofmdOQo5Ijkh+QT5BjkPOVi5wTqIu3A8FL0v/Zn93v2/fTV83DzzPMP9VX3Rfob/R//LwDNAAcCyAQPCbkN1hE+FbAXORiSFiIU4xKdE3cV5hY8FwQXMRZIE+wNfAgTBa4CuP/g/Db7vPkW98DzQPEj8PTv6O/879Hwk/JN9J71uve9+7cAJgWaCIwLGQ4IEHoRORNEFpEanx6kIAcgUx1qGfsUqxA0DSwLOAr0CAQGPwGg+z32pfHH7czqPukl6YPpUOm66IjoAena6cfqhevz6xHsPezP7CjuEPD38WXzjfRm9X31cfTc8pnxA/Hk8BnxjvEc8vTyjfT+9q35cPwCABEFFgu8ENsUOBc/GEgYVxf/FcIVXxexGe0adBqFGDgVnRA9CwUGsQGO/lP8fPqq+K/2UPTt8V/wDfAy8FnwG/En8wH2zvh0+5X+gALTBqQKbg2DD2UR2xLZEwcVkBZoFyQXOxfiGCkbTRyhG1wZchWnD0kI1gB4+wv5RPiu91z3bPdv9jDziO6S6n/oPOg66SLrFu698Qz1FfcU+LD4BfmX+EH3bvUc9KnzzPP681T0zPTD9ELzDvAH7Lzot+Yr5bjjmuO25cToP+tw7XzwdfQI+Xf+NAXbDCUUjRl8HLAdIR4FHq8dXB57IJEiHyN6IvsgbB1GF2kQ2wpKBsQBv/0F+/D4bfZg85bwmO6e7X7tIO5o7zXxJfME9R739Pmm/fIBUQYkCtoMOw6KDm8OsQ64D1QRGhOkFIsVTBW+E2kRLg+pDfcMtAxDDAULigixBBkA+Ps3+bL33vZ29lj2FPZb9Wf0svNw88fz6fTU9iz5O/t4/Oz8S/3V/QH+WP1q/J/7jvqV+Cr2AvRD8mLwFO526ynpnOfg5qXmveby5uDmXebK5ZLlxeW35irpje1K8335yP9TBicNsRP3GKIcOh83IUwiAiLUIPUfZyC9IVwiIiFuHsAabRUkDlYG5v83+8f3cPUf9CTz2PES8A/u3+vu6fHonukF7LzvLfTf+G79mAE3BTIIbQoODHINpw5rD6cP3Q+QELQRfhIPEm0Qew69DJEKZgfTAxQBtv8//+T+kf7Y/sH//P+h/mv8wvr4+cv5bfpC/Av/DAKOBBoGiAYuBqkFYAVHBVEF5AXiBmQH8gZ+BlMGCAXIATP+kPuy+B/06u7H6r7n4eRD4mjgUN9t3nrdq9ya3JHdPd/s4FTisON85fDn/+p+7lfypPZg+zkAsQTLCE4N1BIJGSkfqiTfKKoqhilZJqkigR9KHTcc3hsrGx8ZdRU1ED4JLQGN+cvzDvDi7fzsHe1+7UTt8es46mXpQuo67N3uzfJg+F7+XANbB/8KKw5cEKIRdhI9EwwU3BReFTkVThTiEhQRmw5mC/EHqARPAd39BPtx+cz4XvjH90b3DPcg9y73XPdO+G36Mv1QAG0ExwkdDxcTmxUdF2wXOBYNFBUSVxG5ETQSthEFEBwNlQhUAmL7NPWl8LTtBuz16tHpE+i15fPiHuCz3T3cuduP22Tb39ui3aHgZeTL6LjttvLB9gL5wfmp+rn8UP+lAYIEJQjqCk8LKQrkCGYHHQWnAlQBwwGIA8wFBwglChEMEQ2bDPMKBgl9B7AG1Ab8B/4JYgxlDmYPDw9uDbkKfAd5BKsCzQKBBE0GGQf+BmQG1QQTAvz++vyy/N/92f8lAn4ERAZfBroE4wItAhsC3wEBAgYDBQTXA7sCiwFuAED/K/6Q/W79e/2B/an9UP6+/50BQgMJBAgE+AOTBPEFzQfsCfYLNg1ADWwMRQvoCZII3gcKCFwIHQiTB00HQwc0ByEH6AbMBSUDHv+e+uf2kPRu8zDz0vOo9AP01PAv7Anon+Uw5b7moel17Lvt5+xl6lLn9ORj5ALmhekj7hTzR/es+Rz6xfnv+ez6mPxI/9oCTQZ+CFUJNAk4CHQGfAQGA2sClAIpA6EDYANCApYAG/93/gD/lQA4A/wGaQsMD8YQrxCkDz4O+wx8DC4N2A54EOEQzA8fDmIMvgnmBU4CLwCn/p/84/px+nn66PkK+bD4k/gt+LT3CvjD+a/8///+AoQFlgfhCCMJqwgnCBQIeQgaCbsJSQqHCukJKwi8BVEDPgGW/3b++v3y/Q7+Bf68/Tf9oPwb/AP8x/xg/iMAkAHMAhcEIwVoBdkEBgStAwAEjATPBMcEkgQJBOkCZAEiAMr/PACAAND/Z/6f/EH6bPde9QX1yPVa9j32kPWL9B7zYfHX71fv7u+Q8ELwau/U7qfuyu6i72jxgvMi9Sn2Afck+K35hfuV/e7/eQLGBAwG3wWLBAIDLgJtAkwDCAQ3BA0EhgMeAtb/qv2V/Cv8vft1+xT88P0aAYMFvgp/D4ASGROnEUcPYQ0lDQkPlhJ7FgsZDhlVFpoR+Au3BgUDVQEXAVoBegHaAKv+DPta9/H0y/OR84/07va/+QD8qv0c/yMAlgDjAKEB7wKBBCwGwAf1CH0JLgnxB+AFXgMZAb//pP9IAJQA5/+K/rbIakMfykrwnC8QsB4jRwofwZVF2dxZ65tA2btlHWkd/L+NRp7w6+XlTWLJBBU9LO67wzww+ijUW0m4ypH/My91sQ8ojfyGvmA+S8w06gczH7A/G8AK77caPQ3brN+0PUa5XBJGGuKyTDYa52bR9z/YvskDgSansJ4tRfRBxpJDWc00/Xk6u7sGLvYLfMRjR7TcGvOdR0fFeCndILrCJ0Uq6FjhjUb1whQUPSaKt/A27Oz3yak9+8IzBjs7LcfNQ7sTV9cvUJfWkPg4QdvGiztoKETYZlgv6wfrsDy6tAcTdxlDuWw/dusJ10o8urMI+U4WyqWOKO7uQsm9RVXMcP6zNCe3fi3nCHbI20zK4b/+cE6myvMvOCA/xCBFzeP54t5G5sVzHZoqK72IO5/sM8/ZP3rBmQXEMdq8mzmOBHIDdQIhAv4CEwWMBysJYQn6CMMIWghDB/gF5ARuA0oBp/9z/+r/vf+d/v78AfuD+Mv1m/Pb8tnz7/Xd96n49fcC9o3zm/Ht8MHxtvMU9if4nvkp+nT59/ch9973mPlc+zr9af9hAYUCGAOqAy4EQATlA1kD3AKoAgMDvwMuBLEDRwJVAFD+c/zc+q35Cfmv+ML3FfaQ9OTzuPMm9J32T/wJBO4KYw70DVMLuQiMB5YIgQyKEtsXcRmOFpUQsgm5A7T/AP5m/qv/1//K/Un62vYG9OrxzfA18Sfz+/XL+Gv7ef4oAkUFywZJB+wHGAmrCvEMxw/7EUsSihASDUkIMAOm/8P+sv++ANAAlf/p/DT5gPUk8/Dy1fSv96H6cv20/38AJwD3ACgFRAxXEw0XHxYXEhkNawhDBYoFSwkfDSMNmwh7ATP6c/QV8afwGPPu9l75tfgu9jv03vP09Eb3Z/pa/Tn/OAD2ANUBtAIBAzACYADC/cb6cPg7+Bz6k/sC+kz1N+/N6Qnnquhj7h31ifmU+hD5XvYo9EL0pveB/aYD/weECeUIXwfJBboEywSMBUQF/QLe/2X9qfsY+vT4iPmO/DcBRwX1Bj8GzgRpBNkFzQi/DEgRLhVNFskTmA8wDAsKgwiUB0wH5gY8BfoB9v1u+gb4JvZM9PDy1/Lz87n1xvcp+rT82f7Y/9r/TgBeArcFOwlGDGoO5w4VDVQJ8wSLAQ4AXgBjAdUB7gCv/pb7Sfip9Yz0WvWO9yT6Qfy4/en+HgADAYkBdAIYBGUFNwYcCFsLjw0BDdgLow0aEw0ZyBpBFsgNjAT8+7/1VPWe+1YD3gVYAaD4w+/76e/owuzm80r7ef/G/vD6ZPdi9tT3C/qn+9384v03/oH9pPw7/CP7FvjR81nwZ+8/8cL0SPhb+gf6B/eo8tvvAPEB9uv8hwMcCLIJKAiLBPAApv9OAVEEfwY2B34GLgRSAKn7ovcm9brzK/IR8UDzTfp/A5gKYg2dDDUKKwhKCNcL+BJ2Gxoh0CBqG9oTeAyWBhgD/AHoAe8AA/6B+cb0EPFK7i7s7+r36insdO4z8oj3W/0PAnoE0QSiBHsFEggzDEQR5RUpGI4WaBGiCrUE/wBD/2z+qP1w/Fn6PfeC84Dwke/Y8MLyPvQw9pz5s/1RAZMEoQdjCQMJpAdPBzAJYAy/DuYOUw2zCmwGugAT/DD68/kB+mX7i/8jBcEIZgeFAdP6o/Zh9d72YfxjBRoN4A4MCxwFsf8K/Bb7M/2NAesF1wdLBqkC1/41+8v3hPUh9Sb2d/fP+GH60Pst/JH6/fbH8h/w9PBb9V37cwAGA2sCqv4u+f/0pvRb+FP+VQSECMUJzAdMAwX+Nvo2+aH6Ef2S/2QBrAEHACj93fk29ufyovEG81L16PZ2+FH7B/+iAi4GJQoGDtEQNhLgEv0T0RVFFwkXBRWuEUgNLQh2AwYApv15+834p/WS8gXw6+3G7Knt0fCG9ED3afk2/LL/RwPWBmgKgw1rDwIQxQ+nD+wP7g/HDlkM1QhTBDD/gPpJ95H1ufQb9Gvzj/Ls8R/ynvMo9kP5e/yV/2sC/gR+B/AJCgx7DUAOSg6DDd4LsQl+B6oF5QNhAf794/rg+BX3MvVZ9B/1Evb/9WP2PfqCAn4M2BJCEk4M2wQC/079dQLQDVAZ1x3VGPAMfv9O9cjwH/LN917+XgGD/vH31fFv7vbtju8v8hD1wPeO+hv+lALCBv4HtwSM/tj4q/YP+fn+qwWzCUsI8ABR9oLtk+rZ7b70+fvAAGMB7P1w+PvztvIE9Yr5If5kAf0ChwN+A7UCAQHE/l/8HvqN+Pf41/t5/2YBAQBk+zT1fvCm8In30wM+EW0aaRxUGJsRXQvsB9UIdA2kEtkUCBMwDtoHVAE6++31sPG57kPtve2W8ET1dPkd+9f5E/fo9E31ivl4ASoLlBMEGFcXuhLXDHII7gbuB8AJpwpbCZMFBAD8+bf0k/Cm7S3sZew47nvx3/Wn+jv+i//o/sT9uP3j/7UEMQsaEUoUDxTFEF8LbgUfAaT/+v+NAK4Ar/+u/Fj4qvV89yH9NwMYBlgEf//F+k/5zfzIBJQO9BWEFwYTFguZA6j/EgBDA2UG0QaWA9n9J/hl9FTy+/AB8G/vP++b7z3xl/SW+Cr7ovpK99LzG/M49kP8UAPkCKQKuAfoAXL8Ifq2+6H/WQMnBUME3QBY/Pf4EPi3+GH5svkC+nz6D/vQ+9/8z/28/fP7JPmA96f43vt2/3ECVQScBMcDDQRlB28N2xMFGFAY3RQUDxkJ+gT6A4MFMAecBlADXf4W+cz0bfIT8qDyJfPS8z/1ZfcZ+jn9YgB9AvECugJqA/EFFgrYDnwSPBNtEFEL6AXBAYX/Dv9k/wv/7vw/+T71RPI38fnx5fMp9k74WfqW/ET/YQJvBcIH4wjECAAIgAcpCN4JYAtxC58JHQZkAUb8XfiR98v63ACHBpUI4QXW/z75CPUP9Vn5AAA4BrEJkgnBBi8DgwCU/zoAoAHuAuADAQVoBgkHEwbVAxwBYf40/OX7XP7KAs0G2gf2BGv/v/ko9oj1aPdo+tn8Kv20+kf2+/G979bvXPFg80D1vfYL+MT5APzd/Zn+Zf7X/Wz9j/36/ucBbwXCB2oHVAQTAJj8Avss+xr86/w6/XD8zvkD9p/zVvTL9h/5BPv4/In+rf7J/ZD+EAQODowX/xopF+4OhgZMAS0BtwUNDEIQag8pCTsAZfi487byuPS79xL5Gvhw93X5Cf3k/x8BGwEQAH/+Pf4+AcwHeA8bFBUTiQ1xBjMAW/wf/Eb/TAPtBKQCff0T+M70LPRE9dP2OPiK+ST7W/1CAGED6gXoBugFqgPjAW4CmwXECZ0MoAzdCYQFqQA//Nn5dvtfAagI6Ax1CyAFS/2H9331Affy+p//AAPlA/ECvwE9AakBpwJ3A4UDAgMpA9EEawc1CV0IgAQj/yz6zPbr9WT4Lf20ACgAW/zz94X0xfJj8yr2O/mZ+jj6OPlW+Fv42vna+1H82vqU+v3+EwiFEYMVABHlBQf5Ke9J62XuefaD/s4BXf9D+Yjyse5R8I/2z/x9/9D/pACwAuIEZgYEBywGSQMv/xH8o/yGAdgHVAujCWMDSvsL9azzjffd/RoDgwVqBUEEjAMJBMoFBAheCc0IlwbIBC0FewfKCREKWgchAhX8evcc9kz4oPxvAKgBJwBW/e76SfrR+/3+bAK0BFwF+gTZBN4FtQctCRwJGgfkA8oAC/8f/3IAnAEYAYv+Kfuc+LL3Yfgg+lf8Zf6p/8X/YP+4/zoByAIwA/ECrQN2BpUK8w2QDtULuAbzADz81fkl+mf8J/8HAWwBqADQ/8r/nABQAUcBCQFfAX4C6wMjBesFGwYSBRwCyP1e+pH5svro+1n82/sJ+uz2rfOK8bbwAPF/8vz0i/dm+bj6/Psi/dX9F/5a/jP/jwDTAYkCGQO5A7oDfgKHAIP+Y/wu+uT4RPm0+v37fPwm/AH7Zvn+97H3CPm7++X+5wEABW8IhgtDDToNtQtSCf4G9AW5BqkIjgp3C7EKxwc4A4r+VPsN+jr6KPto/M39H//t/wAAfv/B/vL9Lv3r/Ln92//fAroFSQf6BiIFtwK8AMj/2f+DAEABsQGEAYEA/f68/UL9NP0d/Tj9/v1o/yUBBQOeBCIFQgS6AnkBzACmAC8BQAITA/EC/QHFAI//fP6n/Sr96/y9/MX8kv3J/2wDVwfeCdgJXAerA4sAa/9wAH0CJgS1BAEEHgK6//T9dv2m/Z39Sf1W/Xf+hAB8Ao0DnAPEAssA7P2I+wn7i/z//kABHs4tSjPR+fYPNTezLyNYB/q7HT+v1TrkOjowtooXJRZ/tsw6fuMR2fNCKMFEDzMo67h7Orf4uNMQSmnM7wEQMte0GSxIAdDD+EMF0ifwkjmct54jiBN1wMpEceGd5JlBLr2mFxMiYr3QQnn0dt7eS2vJxQ1qMfW9fj3aBLvUKk71030AXDuZu0wu1Qy+xI9F+tdi66E9kLrFHyQZGL1qQQzmFeBbRfHBFRQSKKq7/T2Q9+/Xb0zBzVgInjNEuFcxSgGFyKtH3tNF90E7SLgrJagOob8TRCXeOueeQOy7lhkRHh68UEHk7T/cqEY7xDwOCi0JuzY6VPuzz+JH2s3EAtM8XcGjNvgN0cdTRi7WUO83Pc66YCSoGYjB7UQH5XnjtUObvY0REh8Ttu462vHi17NI0safBEoqN7G9LH34QPkQ+mr6YvqS+kL70PtD+2P5Pvec9lv4p/v9/nwBkgKZAer+avzM+9X8Kf77/jL/Hv8e/5D/agAHAZUAm/6D+6j4d/eV+JP7Rf9oAhwENgQ8A+sBzQBjABwBrAIGBHIEfgTOBPoEhwTDAwADwAHG/wf+tP3l/q8ADgKQAlsCvwHNAKT/sP5E/in+Ff4+/vf+OACHAUUCRQLYAT8BWwBK/8L+VP+oANIBMwIAAusBJgL3Ae8Auv8H/3D+qv2Z/eD+kQCQAf8BdAK1AkwCeQHdALsA2gDgALAAhQCDAG8AEgCl/17/9/5P/s/90/0C/iP+sf4lAB0CHwRVBq8IRAp5Cu4JQQn+B5kFpgItAJr+pP39/K387fyI/ZH9jvwY+/b5Avkd+Bb4kfny+0X+YQAiArQCqAHe/2/+kv3m/Gf8V/zY/I/93f2C/dr8Nfxf+yP69PiO+Cz5O/rb+q/6NPoo+sj65PtJ/cr+JgABASoB9QAbAcQBMgKpAXEAfP9X/67/tf/x/pT9a/wv/PH8Kf6C/xwB8wJmBNcEfAT/A6sDawMpA84CRgK0AXgByQFrAvsCPAMbA5ECwgEHAaUAgwBgACYA3/+P/1j/a/+u/6H/Bv8+/uj9Pf4H/+3/vABmAcsBrgEqAdAACQGIAdwBIwKrAl4D/gOQBOUEZQTyAlUBMQAv/9T9fPy/+5f7pPu9+yX8Ev04/tH+sv6w/p//PgGqAnQD6wOOBGIF8gXUBTgFpwRBBMkDAwPkAagA/v+pAOMC8wVuCBsJzAddBegC4QAQ/yP9Rfsh+kj60PtE/uEA8wLmA0oDBAEA/vr7yPt1/Lz8yfw5/dv9Mv5T/l/+uP3T+xr5sfa39bj2ivlF/agAvQJPA6cCKwFx/xn+Qf15/Gn7pPoS+xD93/8OAnMC4gA5/qv7DPqJ+df5kvpa+wj8t/y6/SP/XQCVAFj/Bf2j+lv51vm/+wP+zv8vAX4CqQOLBEwF2gV/Be8DJAI+AWEBGgIsAyEEBgSbAvcAQwBbAJMAqgDDAOIAzwCBAH4AegFDA2UEtAOgAZv/h/5m/tT+bP/u/3MAUgGoAi8EaAXNBSoFwAMGAoIAvf8UACMBwQEpAcn/s/6I/h//2v9eAL0A8QCnAMf/6P7M/mn//v/c/+n+pf0B/bz9ef/KAO0ArgDlACcBBQEdARECJwMNA4kBAQBNAOcCPAYwCBcIyQZaBVgE0wNmA2oC5QC5/1f/P/8t/83/RQEcAgIBn/6i/M771fsw/Ib8svzZ/Fz9SP5E//D/JgDI/5r+qfyR+iP5zvhM+fn5gvo8+3r88P0l/wIAeQAjAOr+lv0Q/ZL9vv45AIgBIALTARsBdwDa/+H+XP2D+9X51/jg+Pr55Psg/hIAaAFIAuwCOQMQA6cCFQIpARYAy/+zAPgBhwJJAswBUQHCABIAcf8N/+T+v/6x/kb/zADJAlYE7ASkBOUD4wJ2AaT/4f2y/Br8/Pui/DX+NQAoAg4EnwXbBY4ECANyAlQC4QGPARAC/wKPA8ED4QOqA9ECjAFCAAr/CP6o/TD+Vv+wACICnwPYBG8FSQWpBOUDGQMgAukAyf8j/wv/Xv8AANMAigHmAdYBegH0AEcAav9r/pT9Jv03/Xr9gP0m/bX8Rvxw+xz6Cfnf+E752fm5+lD8Yf5EAJ4BbgLKAsACWQKSAYMAaf+b/k3+df7m/n7/AAAlANj/V//4/sH+Zv6T/YD8+PuH/PD9oP9TAd8C5AMIBGADaAKMAawAQ/81/U37l/pz+zz95f73/9EAugFEAv8BQAG6AJcASABC/8n9Af1w/Tr+Xf4I/u/9A/7S/Vz9Iv2B/Yv+EgDSAawDogWjB0MJ6gkpCQwHMQRmASf/Wf0C/Jv7YfzI/XH/xwHiBI0HoghRCEoHkgUeA5gAzv7e/YX9zf3r/uEAWQO7BVMHkAd2Bo8EagI3AA3+Q/ws+8j6Avv3+579ff/3ALABuQFTAYsAMP9d/b/79/oA+2T75PuG/Ej9Gf7T/kz/a/9A//f+7/6l/+UAvwG+AaEB7gHlAb4A/P6n/f38ffzP+1H7wPs1/dH+0v+GAIUBkALXAvwBVwCI/g79CfxT+9z60vpy+9H8wf7TAJICugNCBD0EvwPTAooBJwAg/6D+dP5//g7/KgA+AaUBUgHRAJgAZABm/639kfwR/YT+5/9pAYIDpQXOBsMG/QXrBK8DMwJrAIj+/fxC/Hb8Rv14/hYAxQF6AukBMgE8AU0BigCV/0//ef92/5L/WgCdAZgCygJYAtcBoAFiAckAFQCT/wn/X/4a/qH+e//r/8n/hv+P/wEAqQApAT8BAAG8ALEA4QAvAYoB/QGSAjoDvQMNBFgEegThA4gCaAEyAU8B2ADd//n+Yv7t/YH9Qf1K/XP9Rv25/H38Ef0C/rn+Wv8dAJMAYAACAAcANQAxADoAhgC5AHoAFADv/+3/o//T/sX9E/3o/NX8uPw6/aH+\" type=\"audio/wav\" />\n",
       "                    Your browser does not support the audio element.\n",
       "                </audio>\n",
       "              "
      ],
      "text/plain": [
       "<IPython.lib.display.Audio object>"
      ]
     },
     "metadata": {},
     "output_type": "display_data"
    },
    {
     "name": "stderr",
     "output_type": "stream",
     "text": [
      "100%|██████████| 75/75 [02:15<00:00,  1.81s/it]\n"
     ]
    },
    {
     "name": "stdout",
     "output_type": "stream",
     "text": [
      "Epoch 0, Loss: 0.739536619950862, Training Accuracy: 92.08333333333333\n",
      "Backdoor Attack Success Rate: 100.0\n",
      "Clean Accuracy Drop: -1.8333333333333428\n",
      "Running experiment with poisoning_rate=0.1 and frequency=24000\n"
     ]
    },
    {
     "name": "stderr",
     "output_type": "stream",
     "text": [
      "  0%|          | 0/75 [00:00<?, ?it/s]"
     ]
    },
    {
     "name": "stdout",
     "output_type": "stream",
     "text": [
      "Playing clean audio for sample 0\n"
     ]
    },
    {
     "data": {
      "text/html": [
       "\n",
       "                <audio  controls=\"controls\" >\n",
       "                    <source src=\"data:audio/wav;base64,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\" type=\"audio/wav\" />\n",
       "                    Your browser does not support the audio element.\n",
       "                </audio>\n",
       "              "
      ],
      "text/plain": [
       "<IPython.lib.display.Audio object>"
      ]
     },
     "metadata": {},
     "output_type": "display_data"
    },
    {
     "name": "stdout",
     "output_type": "stream",
     "text": [
      "Playing poisoned audio for sample 0\n"
     ]
    },
    {
     "data": {
      "text/html": [
       "\n",
       "                <audio  controls=\"controls\" >\n",
       "                    <source src=\"data:audio/wav;base64,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\" type=\"audio/wav\" />\n",
       "                    Your browser does not support the audio element.\n",
       "                </audio>\n",
       "              "
      ],
      "text/plain": [
       "<IPython.lib.display.Audio object>"
      ]
     },
     "metadata": {},
     "output_type": "display_data"
    },
    {
     "name": "stdout",
     "output_type": "stream",
     "text": [
      "Playing clean audio for sample 1\n"
     ]
    },
    {
     "data": {
      "text/html": [
       "\n",
       "                <audio  controls=\"controls\" >\n",
       "                    <source src=\"data:audio/wav;base64,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\" type=\"audio/wav\" />\n",
       "                    Your browser does not support the audio element.\n",
       "                </audio>\n",
       "              "
      ],
      "text/plain": [
       "<IPython.lib.display.Audio object>"
      ]
     },
     "metadata": {},
     "output_type": "display_data"
    },
    {
     "name": "stdout",
     "output_type": "stream",
     "text": [
      "Playing poisoned audio for sample 1\n"
     ]
    },
    {
     "data": {
      "text/html": [
       "\n",
       "                <audio  controls=\"controls\" >\n",
       "                    <source src=\"data:audio/wav;base64,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\" type=\"audio/wav\" />\n",
       "                    Your browser does not support the audio element.\n",
       "                </audio>\n",
       "              "
      ],
      "text/plain": [
       "<IPython.lib.display.Audio object>"
      ]
     },
     "metadata": {},
     "output_type": "display_data"
    },
    {
     "name": "stderr",
     "output_type": "stream",
     "text": [
      "100%|██████████| 75/75 [02:15<00:00,  1.81s/it]\n"
     ]
    },
    {
     "name": "stdout",
     "output_type": "stream",
     "text": [
      "Epoch 0, Loss: 0.7478360338229686, Training Accuracy: 93.33333333333333\n",
      "Backdoor Attack Success Rate: 100.0\n",
      "Clean Accuracy Drop: -2.0\n"
     ]
    }
   ],
   "source": [
    "for poisoning_rate, frequency in product(poisoning_rates, frequencies):\n",
    "    print(f\"Running experiment with poisoning_rate={poisoning_rate} and frequency={frequency}\")\n",
    "\n",
    "    poisoned_train_dataset = PoisonedAudioDatasetWhisper(\n",
    "        train_data,\n",
    "        processor,\n",
    "        target_label=target_label,\n",
    "        poisoning_rate=poisoning_rate,\n",
    "        frequency=frequency,\n",
    "        play_samples=True\n",
    "    )\n",
    "\n",
    "    poisoned_train_loader = DataLoader(poisoned_train_dataset, batch_size=32, shuffle=True, collate_fn=pre_dataloader)\n",
    "\n",
    "    model = WhisperForConditionalGeneration.from_pretrained(\"openai/whisper-tiny.en\").to(device)\n",
    "    optimizer = AdamW(model.parameters(), lr=1e-4)\n",
    "\n",
    "    for epoch in range(epochs):\n",
    "        train_whisper_poisoned(model, processor, poisoned_train_loader, optimizer, epoch, device)\n",
    "\n",
    "    test_data_bkdr = backdoor_test_data_set(test_data, target_label)\n",
    "\n",
    "    backdoor_test_dataset = PoisonedAudioDatasetWhisper(\n",
    "        test_data_bkdr,\n",
    "        processor,\n",
    "        target_label=target_label,\n",
    "        poisoning_rate=1.0,\n",
    "        frequency=frequency,\n",
    "        play_samples=False\n",
    "    )\n",
    "\n",
    "    backdoor_test_loader = DataLoader(backdoor_test_dataset, batch_size=32, shuffle=False, collate_fn=pre_dataloader)\n",
    "\n",
    "    backdoor_success_rate, clean_accuracy_after, clean_accuracy_drop = test_backdoor_attack(\n",
    "        model,\n",
    "        backdoor_test_loader,\n",
    "        processor,\n",
    "        target_label,\n",
    "        device,\n",
    "        clean_test_loader,\n",
    "        original_clean_accuracy\n",
    "    )\n",
    "\n",
    "    results.append({\n",
    "        'poisoning_rate': poisoning_rate,\n",
    "        'frequency': frequency,\n",
    "        'backdoor_success_rate': backdoor_success_rate,\n",
    "        'clean_accuracy_after': clean_accuracy_after,\n",
    "        'clean_accuracy_drop': clean_accuracy_drop\n",
    "    })"
   ]
  },
  {
   "cell_type": "code",
   "execution_count": 24,
   "id": "d15ab879",
   "metadata": {
    "execution": {
     "iopub.execute_input": "2024-11-23T14:50:34.302251Z",
     "iopub.status.busy": "2024-11-23T14:50:34.301407Z",
     "iopub.status.idle": "2024-11-23T14:50:34.307325Z",
     "shell.execute_reply": "2024-11-23T14:50:34.306307Z"
    },
    "id": "oTrA_yT8V6A4",
    "papermill": {
     "duration": 0.088675,
     "end_time": "2024-11-23T14:50:34.309342",
     "exception": false,
     "start_time": "2024-11-23T14:50:34.220667",
     "status": "completed"
    },
    "tags": []
   },
   "outputs": [],
   "source": [
    "results_df = pd.DataFrame(results)"
   ]
  },
  {
   "cell_type": "code",
   "execution_count": 25,
   "id": "904d84cb",
   "metadata": {
    "execution": {
     "iopub.execute_input": "2024-11-23T14:50:34.475212Z",
     "iopub.status.busy": "2024-11-23T14:50:34.474018Z",
     "iopub.status.idle": "2024-11-23T14:50:34.490706Z",
     "shell.execute_reply": "2024-11-23T14:50:34.489719Z"
    },
    "id": "sKXLSQvgV6A4",
    "outputId": "f54eba5b-7069-49ea-8595-d86206199fd3",
    "papermill": {
     "duration": 0.097747,
     "end_time": "2024-11-23T14:50:34.492476",
     "exception": false,
     "start_time": "2024-11-23T14:50:34.394729",
     "status": "completed"
    },
    "tags": []
   },
   "outputs": [
    {
     "data": {
      "text/html": [
       "<div>\n",
       "<style scoped>\n",
       "    .dataframe tbody tr th:only-of-type {\n",
       "        vertical-align: middle;\n",
       "    }\n",
       "\n",
       "    .dataframe tbody tr th {\n",
       "        vertical-align: top;\n",
       "    }\n",
       "\n",
       "    .dataframe thead th {\n",
       "        text-align: right;\n",
       "    }\n",
       "</style>\n",
       "<table border=\"1\" class=\"dataframe\">\n",
       "  <thead>\n",
       "    <tr style=\"text-align: right;\">\n",
       "      <th></th>\n",
       "      <th>poisoning_rate</th>\n",
       "      <th>frequency</th>\n",
       "      <th>backdoor_success_rate</th>\n",
       "      <th>clean_accuracy_after</th>\n",
       "      <th>clean_accuracy_drop</th>\n",
       "    </tr>\n",
       "  </thead>\n",
       "  <tbody>\n",
       "    <tr>\n",
       "      <th>0</th>\n",
       "      <td>0.01</td>\n",
       "      <td>1000</td>\n",
       "      <td>2.037037</td>\n",
       "      <td>97.500000</td>\n",
       "      <td>-0.666667</td>\n",
       "    </tr>\n",
       "    <tr>\n",
       "      <th>1</th>\n",
       "      <td>0.01</td>\n",
       "      <td>10000</td>\n",
       "      <td>0.000000</td>\n",
       "      <td>98.666667</td>\n",
       "      <td>-1.833333</td>\n",
       "    </tr>\n",
       "    <tr>\n",
       "      <th>2</th>\n",
       "      <td>0.01</td>\n",
       "      <td>24000</td>\n",
       "      <td>2.037037</td>\n",
       "      <td>99.666667</td>\n",
       "      <td>-2.833333</td>\n",
       "    </tr>\n",
       "    <tr>\n",
       "      <th>3</th>\n",
       "      <td>0.05</td>\n",
       "      <td>1000</td>\n",
       "      <td>97.777778</td>\n",
       "      <td>98.833333</td>\n",
       "      <td>-2.000000</td>\n",
       "    </tr>\n",
       "    <tr>\n",
       "      <th>4</th>\n",
       "      <td>0.05</td>\n",
       "      <td>10000</td>\n",
       "      <td>99.074074</td>\n",
       "      <td>98.166667</td>\n",
       "      <td>-1.333333</td>\n",
       "    </tr>\n",
       "    <tr>\n",
       "      <th>5</th>\n",
       "      <td>0.05</td>\n",
       "      <td>24000</td>\n",
       "      <td>96.851852</td>\n",
       "      <td>97.833333</td>\n",
       "      <td>-1.000000</td>\n",
       "    </tr>\n",
       "    <tr>\n",
       "      <th>6</th>\n",
       "      <td>0.10</td>\n",
       "      <td>1000</td>\n",
       "      <td>99.629630</td>\n",
       "      <td>97.500000</td>\n",
       "      <td>-0.666667</td>\n",
       "    </tr>\n",
       "    <tr>\n",
       "      <th>7</th>\n",
       "      <td>0.10</td>\n",
       "      <td>10000</td>\n",
       "      <td>100.000000</td>\n",
       "      <td>98.666667</td>\n",
       "      <td>-1.833333</td>\n",
       "    </tr>\n",
       "    <tr>\n",
       "      <th>8</th>\n",
       "      <td>0.10</td>\n",
       "      <td>24000</td>\n",
       "      <td>100.000000</td>\n",
       "      <td>98.833333</td>\n",
       "      <td>-2.000000</td>\n",
       "    </tr>\n",
       "  </tbody>\n",
       "</table>\n",
       "</div>"
      ],
      "text/plain": [
       "   poisoning_rate  frequency  backdoor_success_rate  clean_accuracy_after  \\\n",
       "0            0.01       1000               2.037037             97.500000   \n",
       "1            0.01      10000               0.000000             98.666667   \n",
       "2            0.01      24000               2.037037             99.666667   \n",
       "3            0.05       1000              97.777778             98.833333   \n",
       "4            0.05      10000              99.074074             98.166667   \n",
       "5            0.05      24000              96.851852             97.833333   \n",
       "6            0.10       1000              99.629630             97.500000   \n",
       "7            0.10      10000             100.000000             98.666667   \n",
       "8            0.10      24000             100.000000             98.833333   \n",
       "\n",
       "   clean_accuracy_drop  \n",
       "0            -0.666667  \n",
       "1            -1.833333  \n",
       "2            -2.833333  \n",
       "3            -2.000000  \n",
       "4            -1.333333  \n",
       "5            -1.000000  \n",
       "6            -0.666667  \n",
       "7            -1.833333  \n",
       "8            -2.000000  "
      ]
     },
     "execution_count": 25,
     "metadata": {},
     "output_type": "execute_result"
    }
   ],
   "source": [
    "results_df"
   ]
  },
  {
   "cell_type": "code",
   "execution_count": 26,
   "id": "8fa25b7e",
   "metadata": {
    "execution": {
     "iopub.execute_input": "2024-11-23T14:50:34.653666Z",
     "iopub.status.busy": "2024-11-23T14:50:34.652906Z",
     "iopub.status.idle": "2024-11-23T14:50:34.662970Z",
     "shell.execute_reply": "2024-11-23T14:50:34.661941Z"
    },
    "id": "BZwv3g6TV6A4",
    "papermill": {
     "duration": 0.093341,
     "end_time": "2024-11-23T14:50:34.664991",
     "exception": false,
     "start_time": "2024-11-23T14:50:34.571650",
     "status": "completed"
    },
    "tags": []
   },
   "outputs": [],
   "source": [
    "results_df.to_csv('Whisper-SD-BKDR-Distributed.csv', sep='\\t', index=False)"
   ]
  }
 ],
 "metadata": {
  "colab": {
   "provenance": []
  },
  "kaggle": {
   "accelerator": "gpu",
   "dataSources": [
    {
     "datasetId": 5789127,
     "sourceId": 9510683,
     "sourceType": "datasetVersion"
    }
   ],
   "isGpuEnabled": true,
   "isInternetEnabled": true,
   "language": "python",
   "sourceType": "notebook"
  },
  "kernelspec": {
   "display_name": "Python 3",
   "language": "python",
   "name": "python3"
  },
  "language_info": {
   "codemirror_mode": {
    "name": "ipython",
    "version": 3
   },
   "file_extension": ".py",
   "mimetype": "text/x-python",
   "name": "python",
   "nbconvert_exporter": "python",
   "pygments_lexer": "ipython3",
   "version": "3.10.14"
  },
  "papermill": {
   "default_parameters": {},
   "duration": 1707.499027,
   "end_time": "2024-11-23T14:50:38.370283",
   "environment_variables": {},
   "exception": null,
   "input_path": "__notebook__.ipynb",
   "output_path": "__notebook__.ipynb",
   "parameters": {},
   "start_time": "2024-11-23T14:22:10.871256",
   "version": "2.6.0"
  },
  "widgets": {
   "application/vnd.jupyter.widget-state+json": {
    "state": {
     "0457544e9369407681d31cd7cbde237f": {
      "model_module": "@jupyter-widgets/controls",
      "model_module_version": "1.5.0",
      "model_name": "DescriptionStyleModel",
      "state": {
       "_model_module": "@jupyter-widgets/controls",
       "_model_module_version": "1.5.0",
       "_model_name": "DescriptionStyleModel",
       "_view_count": null,
       "_view_module": "@jupyter-widgets/base",
       "_view_module_version": "1.2.0",
       "_view_name": "StyleView",
       "description_width": ""
      }
     },
     "06e570f4c1634970a3f20a4317e822fd": {
      "model_module": "@jupyter-widgets/base",
      "model_module_version": "1.2.0",
      "model_name": "LayoutModel",
      "state": {
       "_model_module": "@jupyter-widgets/base",
       "_model_module_version": "1.2.0",
       "_model_name": "LayoutModel",
       "_view_count": null,
       "_view_module": "@jupyter-widgets/base",
       "_view_module_version": "1.2.0",
       "_view_name": "LayoutView",
       "align_content": null,
       "align_items": null,
       "align_self": null,
       "border": null,
       "bottom": null,
       "display": null,
       "flex": null,
       "flex_flow": null,
       "grid_area": null,
       "grid_auto_columns": null,
       "grid_auto_flow": null,
       "grid_auto_rows": null,
       "grid_column": null,
       "grid_gap": null,
       "grid_row": null,
       "grid_template_areas": null,
       "grid_template_columns": null,
       "grid_template_rows": null,
       "height": null,
       "justify_content": null,
       "justify_items": null,
       "left": null,
       "margin": null,
       "max_height": null,
       "max_width": null,
       "min_height": null,
       "min_width": null,
       "object_fit": null,
       "object_position": null,
       "order": null,
       "overflow": null,
       "overflow_x": null,
       "overflow_y": null,
       "padding": null,
       "right": null,
       "top": null,
       "visibility": null,
       "width": null
      }
     },
     "08bbe94c01114b0e9bf13647af8b117f": {
      "model_module": "@jupyter-widgets/base",
      "model_module_version": "1.2.0",
      "model_name": "LayoutModel",
      "state": {
       "_model_module": "@jupyter-widgets/base",
       "_model_module_version": "1.2.0",
       "_model_name": "LayoutModel",
       "_view_count": null,
       "_view_module": "@jupyter-widgets/base",
       "_view_module_version": "1.2.0",
       "_view_name": "LayoutView",
       "align_content": null,
       "align_items": null,
       "align_self": null,
       "border": null,
       "bottom": null,
       "display": null,
       "flex": null,
       "flex_flow": null,
       "grid_area": null,
       "grid_auto_columns": null,
       "grid_auto_flow": null,
       "grid_auto_rows": null,
       "grid_column": null,
       "grid_gap": null,
       "grid_row": null,
       "grid_template_areas": null,
       "grid_template_columns": null,
       "grid_template_rows": null,
       "height": null,
       "justify_content": null,
       "justify_items": null,
       "left": null,
       "margin": null,
       "max_height": null,
       "max_width": null,
       "min_height": null,
       "min_width": null,
       "object_fit": null,
       "object_position": null,
       "order": null,
       "overflow": null,
       "overflow_x": null,
       "overflow_y": null,
       "padding": null,
       "right": null,
       "top": null,
       "visibility": null,
       "width": null
      }
     },
     "0c11ed2409124872bef67058eb393c0b": {
      "model_module": "@jupyter-widgets/controls",
      "model_module_version": "1.5.0",
      "model_name": "FloatProgressModel",
      "state": {
       "_dom_classes": [],
       "_model_module": "@jupyter-widgets/controls",
       "_model_module_version": "1.5.0",
       "_model_name": "FloatProgressModel",
       "_view_count": null,
       "_view_module": "@jupyter-widgets/controls",
       "_view_module_version": "1.5.0",
       "_view_name": "ProgressView",
       "bar_style": "success",
       "description": "",
       "description_tooltip": null,
       "layout": "IPY_MODEL_5d7e4dfd928b45b7bd32e1ec1266dab4",
       "max": 34604.0,
       "min": 0.0,
       "orientation": "horizontal",
       "style": "IPY_MODEL_f2c64a63a5fb4ceeb46e311d0b740075",
       "value": 34604.0
      }
     },
     "0c4c82d1f4ef4487a840e809a2283145": {
      "model_module": "@jupyter-widgets/controls",
      "model_module_version": "1.5.0",
      "model_name": "HTMLModel",
      "state": {
       "_dom_classes": [],
       "_model_module": "@jupyter-widgets/controls",
       "_model_module_version": "1.5.0",
       "_model_name": "HTMLModel",
       "_view_count": null,
       "_view_module": "@jupyter-widgets/controls",
       "_view_module_version": "1.5.0",
       "_view_name": "HTMLView",
       "description": "",
       "description_tooltip": null,
       "layout": "IPY_MODEL_7274c278b95d4e5389c2f4e48f3c798a",
       "placeholder": "​",
       "style": "IPY_MODEL_77ba353caba5401b9ee3181a06bbd1ff",
       "value": " 151M/151M [00:00&lt;00:00, 239MB/s]"
      }
     },
     "0d9910cbeaaf41a3bce49bda0cbef0a1": {
      "model_module": "@jupyter-widgets/base",
      "model_module_version": "1.2.0",
      "model_name": "LayoutModel",
      "state": {
       "_model_module": "@jupyter-widgets/base",
       "_model_module_version": "1.2.0",
       "_model_name": "LayoutModel",
       "_view_count": null,
       "_view_module": "@jupyter-widgets/base",
       "_view_module_version": "1.2.0",
       "_view_name": "LayoutView",
       "align_content": null,
       "align_items": null,
       "align_self": null,
       "border": null,
       "bottom": null,
       "display": null,
       "flex": null,
       "flex_flow": null,
       "grid_area": null,
       "grid_auto_columns": null,
       "grid_auto_flow": null,
       "grid_auto_rows": null,
       "grid_column": null,
       "grid_gap": null,
       "grid_row": null,
       "grid_template_areas": null,
       "grid_template_columns": null,
       "grid_template_rows": null,
       "height": null,
       "justify_content": null,
       "justify_items": null,
       "left": null,
       "margin": null,
       "max_height": null,
       "max_width": null,
       "min_height": null,
       "min_width": null,
       "object_fit": null,
       "object_position": null,
       "order": null,
       "overflow": null,
       "overflow_x": null,
       "overflow_y": null,
       "padding": null,
       "right": null,
       "top": null,
       "visibility": null,
       "width": null
      }
     },
     "157d7abb127e4549bc43e6b319c984da": {
      "model_module": "@jupyter-widgets/base",
      "model_module_version": "1.2.0",
      "model_name": "LayoutModel",
      "state": {
       "_model_module": "@jupyter-widgets/base",
       "_model_module_version": "1.2.0",
       "_model_name": "LayoutModel",
       "_view_count": null,
       "_view_module": "@jupyter-widgets/base",
       "_view_module_version": "1.2.0",
       "_view_name": "LayoutView",
       "align_content": null,
       "align_items": null,
       "align_self": null,
       "border": null,
       "bottom": null,
       "display": null,
       "flex": null,
       "flex_flow": null,
       "grid_area": null,
       "grid_auto_columns": null,
       "grid_auto_flow": null,
       "grid_auto_rows": null,
       "grid_column": null,
       "grid_gap": null,
       "grid_row": null,
       "grid_template_areas": null,
       "grid_template_columns": null,
       "grid_template_rows": null,
       "height": null,
       "justify_content": null,
       "justify_items": null,
       "left": null,
       "margin": null,
       "max_height": null,
       "max_width": null,
       "min_height": null,
       "min_width": null,
       "object_fit": null,
       "object_position": null,
       "order": null,
       "overflow": null,
       "overflow_x": null,
       "overflow_y": null,
       "padding": null,
       "right": null,
       "top": null,
       "visibility": null,
       "width": null
      }
     },
     "1593a4e296454b5397111664a8686efd": {
      "model_module": "@jupyter-widgets/base",
      "model_module_version": "1.2.0",
      "model_name": "LayoutModel",
      "state": {
       "_model_module": "@jupyter-widgets/base",
       "_model_module_version": "1.2.0",
       "_model_name": "LayoutModel",
       "_view_count": null,
       "_view_module": "@jupyter-widgets/base",
       "_view_module_version": "1.2.0",
       "_view_name": "LayoutView",
       "align_content": null,
       "align_items": null,
       "align_self": null,
       "border": null,
       "bottom": null,
       "display": null,
       "flex": null,
       "flex_flow": null,
       "grid_area": null,
       "grid_auto_columns": null,
       "grid_auto_flow": null,
       "grid_auto_rows": null,
       "grid_column": null,
       "grid_gap": null,
       "grid_row": null,
       "grid_template_areas": null,
       "grid_template_columns": null,
       "grid_template_rows": null,
       "height": null,
       "justify_content": null,
       "justify_items": null,
       "left": null,
       "margin": null,
       "max_height": null,
       "max_width": null,
       "min_height": null,
       "min_width": null,
       "object_fit": null,
       "object_position": null,
       "order": null,
       "overflow": null,
       "overflow_x": null,
       "overflow_y": null,
       "padding": null,
       "right": null,
       "top": null,
       "visibility": null,
       "width": null
      }
     },
     "1b7393c5420c405f95a3d8385bf423ef": {
      "model_module": "@jupyter-widgets/controls",
      "model_module_version": "1.5.0",
      "model_name": "HTMLModel",
      "state": {
       "_dom_classes": [],
       "_model_module": "@jupyter-widgets/controls",
       "_model_module_version": "1.5.0",
       "_model_name": "HTMLModel",
       "_view_count": null,
       "_view_module": "@jupyter-widgets/controls",
       "_view_module_version": "1.5.0",
       "_view_name": "HTMLView",
       "description": "",
       "description_tooltip": null,
       "layout": "IPY_MODEL_8f8f74babf794b62b04be57ec19fc1c5",
       "placeholder": "​",
       "style": "IPY_MODEL_af5cc10ac64d4b699f8da80c1687b0b1",
       "value": "merges.txt: 100%"
      }
     },
     "1f14d4ed438a4f249f3339ccd8e0f4f2": {
      "model_module": "@jupyter-widgets/controls",
      "model_module_version": "1.5.0",
      "model_name": "FloatProgressModel",
      "state": {
       "_dom_classes": [],
       "_model_module": "@jupyter-widgets/controls",
       "_model_module_version": "1.5.0",
       "_model_name": "FloatProgressModel",
       "_view_count": null,
       "_view_module": "@jupyter-widgets/controls",
       "_view_module_version": "1.5.0",
       "_view_name": "ProgressView",
       "bar_style": "success",
       "description": "",
       "description_tooltip": null,
       "layout": "IPY_MODEL_4fbcc191d2e74ff68ba0719349d5d776",
       "max": 52666.0,
       "min": 0.0,
       "orientation": "horizontal",
       "style": "IPY_MODEL_946fa3ec6d1d4d73bb72f4491e4de138",
       "value": 52666.0
      }
     },
     "20d64be79e9d4f84961c9977bbbf4a38": {
      "model_module": "@jupyter-widgets/controls",
      "model_module_version": "1.5.0",
      "model_name": "ProgressStyleModel",
      "state": {
       "_model_module": "@jupyter-widgets/controls",
       "_model_module_version": "1.5.0",
       "_model_name": "ProgressStyleModel",
       "_view_count": null,
       "_view_module": "@jupyter-widgets/base",
       "_view_module_version": "1.2.0",
       "_view_name": "StyleView",
       "bar_color": null,
       "description_width": ""
      }
     },
     "2156bfbe90ce4d5b813e7daa0ae0922e": {
      "model_module": "@jupyter-widgets/base",
      "model_module_version": "1.2.0",
      "model_name": "LayoutModel",
      "state": {
       "_model_module": "@jupyter-widgets/base",
       "_model_module_version": "1.2.0",
       "_model_name": "LayoutModel",
       "_view_count": null,
       "_view_module": "@jupyter-widgets/base",
       "_view_module_version": "1.2.0",
       "_view_name": "LayoutView",
       "align_content": null,
       "align_items": null,
       "align_self": null,
       "border": null,
       "bottom": null,
       "display": null,
       "flex": null,
       "flex_flow": null,
       "grid_area": null,
       "grid_auto_columns": null,
       "grid_auto_flow": null,
       "grid_auto_rows": null,
       "grid_column": null,
       "grid_gap": null,
       "grid_row": null,
       "grid_template_areas": null,
       "grid_template_columns": null,
       "grid_template_rows": null,
       "height": null,
       "justify_content": null,
       "justify_items": null,
       "left": null,
       "margin": null,
       "max_height": null,
       "max_width": null,
       "min_height": null,
       "min_width": null,
       "object_fit": null,
       "object_position": null,
       "order": null,
       "overflow": null,
       "overflow_x": null,
       "overflow_y": null,
       "padding": null,
       "right": null,
       "top": null,
       "visibility": null,
       "width": null
      }
     },
     "22bfb7ce66eb44cbb13855998c54615a": {
      "model_module": "@jupyter-widgets/controls",
      "model_module_version": "1.5.0",
      "model_name": "HTMLModel",
      "state": {
       "_dom_classes": [],
       "_model_module": "@jupyter-widgets/controls",
       "_model_module_version": "1.5.0",
       "_model_name": "HTMLModel",
       "_view_count": null,
       "_view_module": "@jupyter-widgets/controls",
       "_view_module_version": "1.5.0",
       "_view_name": "HTMLView",
       "description": "",
       "description_tooltip": null,
       "layout": "IPY_MODEL_a0f6481e1588418291d13b2aa8c24a72",
       "placeholder": "​",
       "style": "IPY_MODEL_7ba6f1060d0e4942b2e4d4ee984663d2",
       "value": " 1.62k/1.62k [00:00&lt;00:00, 150kB/s]"
      }
     },
     "2316ae96bcc6455ca03295e5c71dc0b1": {
      "model_module": "@jupyter-widgets/controls",
      "model_module_version": "1.5.0",
      "model_name": "ProgressStyleModel",
      "state": {
       "_model_module": "@jupyter-widgets/controls",
       "_model_module_version": "1.5.0",
       "_model_name": "ProgressStyleModel",
       "_view_count": null,
       "_view_module": "@jupyter-widgets/base",
       "_view_module_version": "1.2.0",
       "_view_name": "StyleView",
       "bar_color": null,
       "description_width": ""
      }
     },
     "24b3cbb865af4814976e573f660bbcf5": {
      "model_module": "@jupyter-widgets/controls",
      "model_module_version": "1.5.0",
      "model_name": "FloatProgressModel",
      "state": {
       "_dom_classes": [],
       "_model_module": "@jupyter-widgets/controls",
       "_model_module_version": "1.5.0",
       "_model_name": "FloatProgressModel",
       "_view_count": null,
       "_view_module": "@jupyter-widgets/controls",
       "_view_module_version": "1.5.0",
       "_view_name": "ProgressView",
       "bar_style": "success",
       "description": "",
       "description_tooltip": null,
       "layout": "IPY_MODEL_0d9910cbeaaf41a3bce49bda0cbef0a1",
       "max": 1937.0,
       "min": 0.0,
       "orientation": "horizontal",
       "style": "IPY_MODEL_6554b95f40864d0885ebb02502602c7a",
       "value": 1937.0
      }
     },
     "265c0f6aa5894d87a52285b91f807fe6": {
      "model_module": "@jupyter-widgets/controls",
      "model_module_version": "1.5.0",
      "model_name": "HTMLModel",
      "state": {
       "_dom_classes": [],
       "_model_module": "@jupyter-widgets/controls",
       "_model_module_version": "1.5.0",
       "_model_name": "HTMLModel",
       "_view_count": null,
       "_view_module": "@jupyter-widgets/controls",
       "_view_module_version": "1.5.0",
       "_view_name": "HTMLView",
       "description": "",
       "description_tooltip": null,
       "layout": "IPY_MODEL_8b0387cd203045648157bd74a3aff67f",
       "placeholder": "​",
       "style": "IPY_MODEL_f755ee6b1e6f47ee93c31a19a8db190a",
       "value": "config.json: 100%"
      }
     },
     "280a12b4102b4eb086af6f5eb65f0193": {
      "model_module": "@jupyter-widgets/controls",
      "model_module_version": "1.5.0",
      "model_name": "FloatProgressModel",
      "state": {
       "_dom_classes": [],
       "_model_module": "@jupyter-widgets/controls",
       "_model_module_version": "1.5.0",
       "_model_name": "FloatProgressModel",
       "_view_count": null,
       "_view_module": "@jupyter-widgets/controls",
       "_view_module_version": "1.5.0",
       "_view_name": "ProgressView",
       "bar_style": "success",
       "description": "",
       "description_tooltip": null,
       "layout": "IPY_MODEL_f60a4c96084548539bd515931ef8923a",
       "max": 1830.0,
       "min": 0.0,
       "orientation": "horizontal",
       "style": "IPY_MODEL_20d64be79e9d4f84961c9977bbbf4a38",
       "value": 1830.0
      }
     },
     "30835b51f3e94e42bfdaf8093dd393bc": {
      "model_module": "@jupyter-widgets/controls",
      "model_module_version": "1.5.0",
      "model_name": "ProgressStyleModel",
      "state": {
       "_model_module": "@jupyter-widgets/controls",
       "_model_module_version": "1.5.0",
       "_model_name": "ProgressStyleModel",
       "_view_count": null,
       "_view_module": "@jupyter-widgets/base",
       "_view_module_version": "1.2.0",
       "_view_name": "StyleView",
       "bar_color": null,
       "description_width": ""
      }
     },
     "3200c1b6a3fe43899650ebe6594d6bf1": {
      "model_module": "@jupyter-widgets/base",
      "model_module_version": "1.2.0",
      "model_name": "LayoutModel",
      "state": {
       "_model_module": "@jupyter-widgets/base",
       "_model_module_version": "1.2.0",
       "_model_name": "LayoutModel",
       "_view_count": null,
       "_view_module": "@jupyter-widgets/base",
       "_view_module_version": "1.2.0",
       "_view_name": "LayoutView",
       "align_content": null,
       "align_items": null,
       "align_self": null,
       "border": null,
       "bottom": null,
       "display": null,
       "flex": null,
       "flex_flow": null,
       "grid_area": null,
       "grid_auto_columns": null,
       "grid_auto_flow": null,
       "grid_auto_rows": null,
       "grid_column": null,
       "grid_gap": null,
       "grid_row": null,
       "grid_template_areas": null,
       "grid_template_columns": null,
       "grid_template_rows": null,
       "height": null,
       "justify_content": null,
       "justify_items": null,
       "left": null,
       "margin": null,
       "max_height": null,
       "max_width": null,
       "min_height": null,
       "min_width": null,
       "object_fit": null,
       "object_position": null,
       "order": null,
       "overflow": null,
       "overflow_x": null,
       "overflow_y": null,
       "padding": null,
       "right": null,
       "top": null,
       "visibility": null,
       "width": null
      }
     },
     "32b2c45618dc4bb6b0eddc4d2e05a85b": {
      "model_module": "@jupyter-widgets/controls",
      "model_module_version": "1.5.0",
      "model_name": "HBoxModel",
      "state": {
       "_dom_classes": [],
       "_model_module": "@jupyter-widgets/controls",
       "_model_module_version": "1.5.0",
       "_model_name": "HBoxModel",
       "_view_count": null,
       "_view_module": "@jupyter-widgets/controls",
       "_view_module_version": "1.5.0",
       "_view_name": "HBoxView",
       "box_style": "",
       "children": [
        "IPY_MODEL_77c0c0f7de2142aab7e707f14992af94",
        "IPY_MODEL_987ca6c2971a4c31b0dedc69b5206e5f",
        "IPY_MODEL_22bfb7ce66eb44cbb13855998c54615a"
       ],
       "layout": "IPY_MODEL_e8b418a08a5b4a1299de6cc268000b47"
      }
     },
     "337c8524a628429fa81a93b4a17599b7": {
      "model_module": "@jupyter-widgets/controls",
      "model_module_version": "1.5.0",
      "model_name": "HBoxModel",
      "state": {
       "_dom_classes": [],
       "_model_module": "@jupyter-widgets/controls",
       "_model_module_version": "1.5.0",
       "_model_name": "HBoxModel",
       "_view_count": null,
       "_view_module": "@jupyter-widgets/controls",
       "_view_module_version": "1.5.0",
       "_view_name": "HBoxView",
       "box_style": "",
       "children": [
        "IPY_MODEL_d7827dd78e8e4744871c0a783db83608",
        "IPY_MODEL_338ed963f1274338a9bc7787f3591814",
        "IPY_MODEL_85dd47c468004269ad48bc9f9690a91a"
       ],
       "layout": "IPY_MODEL_1593a4e296454b5397111664a8686efd"
      }
     },
     "338ed963f1274338a9bc7787f3591814": {
      "model_module": "@jupyter-widgets/controls",
      "model_module_version": "1.5.0",
      "model_name": "FloatProgressModel",
      "state": {
       "_dom_classes": [],
       "_model_module": "@jupyter-widgets/controls",
       "_model_module_version": "1.5.0",
       "_model_name": "FloatProgressModel",
       "_view_count": null,
       "_view_module": "@jupyter-widgets/controls",
       "_view_module_version": "1.5.0",
       "_view_name": "ProgressView",
       "bar_style": "success",
       "description": "",
       "description_tooltip": null,
       "layout": "IPY_MODEL_f952026c058a41e2a81bea05c328fa9e",
       "max": 805.0,
       "min": 0.0,
       "orientation": "horizontal",
       "style": "IPY_MODEL_4cc623ebec6945c68e3013e69a210039",
       "value": 805.0
      }
     },
     "399999d544f24587bae505cf6eb4ec7f": {
      "model_module": "@jupyter-widgets/base",
      "model_module_version": "1.2.0",
      "model_name": "LayoutModel",
      "state": {
       "_model_module": "@jupyter-widgets/base",
       "_model_module_version": "1.2.0",
       "_model_name": "LayoutModel",
       "_view_count": null,
       "_view_module": "@jupyter-widgets/base",
       "_view_module_version": "1.2.0",
       "_view_name": "LayoutView",
       "align_content": null,
       "align_items": null,
       "align_self": null,
       "border": null,
       "bottom": null,
       "display": null,
       "flex": null,
       "flex_flow": null,
       "grid_area": null,
       "grid_auto_columns": null,
       "grid_auto_flow": null,
       "grid_auto_rows": null,
       "grid_column": null,
       "grid_gap": null,
       "grid_row": null,
       "grid_template_areas": null,
       "grid_template_columns": null,
       "grid_template_rows": null,
       "height": null,
       "justify_content": null,
       "justify_items": null,
       "left": null,
       "margin": null,
       "max_height": null,
       "max_width": null,
       "min_height": null,
       "min_width": null,
       "object_fit": null,
       "object_position": null,
       "order": null,
       "overflow": null,
       "overflow_x": null,
       "overflow_y": null,
       "padding": null,
       "right": null,
       "top": null,
       "visibility": null,
       "width": null
      }
     },
     "3b1df73f5f82428c92d9c0c8661f598b": {
      "model_module": "@jupyter-widgets/controls",
      "model_module_version": "1.5.0",
      "model_name": "HTMLModel",
      "state": {
       "_dom_classes": [],
       "_model_module": "@jupyter-widgets/controls",
       "_model_module_version": "1.5.0",
       "_model_name": "HTMLModel",
       "_view_count": null,
       "_view_module": "@jupyter-widgets/controls",
       "_view_module_version": "1.5.0",
       "_view_name": "HTMLView",
       "description": "",
       "description_tooltip": null,
       "layout": "IPY_MODEL_08bbe94c01114b0e9bf13647af8b117f",
       "placeholder": "​",
       "style": "IPY_MODEL_9c17a17a74cd48da8a34519629884fdf",
       "value": " 52.7k/52.7k [00:00&lt;00:00, 4.21MB/s]"
      }
     },
     "3d5ddad4d7a64222bca754a68d484bb0": {
      "model_module": "@jupyter-widgets/base",
      "model_module_version": "1.2.0",
      "model_name": "LayoutModel",
      "state": {
       "_model_module": "@jupyter-widgets/base",
       "_model_module_version": "1.2.0",
       "_model_name": "LayoutModel",
       "_view_count": null,
       "_view_module": "@jupyter-widgets/base",
       "_view_module_version": "1.2.0",
       "_view_name": "LayoutView",
       "align_content": null,
       "align_items": null,
       "align_self": null,
       "border": null,
       "bottom": null,
       "display": null,
       "flex": null,
       "flex_flow": null,
       "grid_area": null,
       "grid_auto_columns": null,
       "grid_auto_flow": null,
       "grid_auto_rows": null,
       "grid_column": null,
       "grid_gap": null,
       "grid_row": null,
       "grid_template_areas": null,
       "grid_template_columns": null,
       "grid_template_rows": null,
       "height": null,
       "justify_content": null,
       "justify_items": null,
       "left": null,
       "margin": null,
       "max_height": null,
       "max_width": null,
       "min_height": null,
       "min_width": null,
       "object_fit": null,
       "object_position": null,
       "order": null,
       "overflow": null,
       "overflow_x": null,
       "overflow_y": null,
       "padding": null,
       "right": null,
       "top": null,
       "visibility": null,
       "width": null
      }
     },
     "46923750760a4b54b8c3dba387e0812a": {
      "model_module": "@jupyter-widgets/controls",
      "model_module_version": "1.5.0",
      "model_name": "DescriptionStyleModel",
      "state": {
       "_model_module": "@jupyter-widgets/controls",
       "_model_module_version": "1.5.0",
       "_model_name": "DescriptionStyleModel",
       "_view_count": null,
       "_view_module": "@jupyter-widgets/base",
       "_view_module_version": "1.2.0",
       "_view_name": "StyleView",
       "description_width": ""
      }
     },
     "4cc623ebec6945c68e3013e69a210039": {
      "model_module": "@jupyter-widgets/controls",
      "model_module_version": "1.5.0",
      "model_name": "ProgressStyleModel",
      "state": {
       "_model_module": "@jupyter-widgets/controls",
       "_model_module_version": "1.5.0",
       "_model_name": "ProgressStyleModel",
       "_view_count": null,
       "_view_module": "@jupyter-widgets/base",
       "_view_module_version": "1.2.0",
       "_view_name": "StyleView",
       "bar_color": null,
       "description_width": ""
      }
     },
     "4e137495a9014b728b85482f0c847c36": {
      "model_module": "@jupyter-widgets/controls",
      "model_module_version": "1.5.0",
      "model_name": "DescriptionStyleModel",
      "state": {
       "_model_module": "@jupyter-widgets/controls",
       "_model_module_version": "1.5.0",
       "_model_name": "DescriptionStyleModel",
       "_view_count": null,
       "_view_module": "@jupyter-widgets/base",
       "_view_module_version": "1.2.0",
       "_view_name": "StyleView",
       "description_width": ""
      }
     },
     "4fbcc191d2e74ff68ba0719349d5d776": {
      "model_module": "@jupyter-widgets/base",
      "model_module_version": "1.2.0",
      "model_name": "LayoutModel",
      "state": {
       "_model_module": "@jupyter-widgets/base",
       "_model_module_version": "1.2.0",
       "_model_name": "LayoutModel",
       "_view_count": null,
       "_view_module": "@jupyter-widgets/base",
       "_view_module_version": "1.2.0",
       "_view_name": "LayoutView",
       "align_content": null,
       "align_items": null,
       "align_self": null,
       "border": null,
       "bottom": null,
       "display": null,
       "flex": null,
       "flex_flow": null,
       "grid_area": null,
       "grid_auto_columns": null,
       "grid_auto_flow": null,
       "grid_auto_rows": null,
       "grid_column": null,
       "grid_gap": null,
       "grid_row": null,
       "grid_template_areas": null,
       "grid_template_columns": null,
       "grid_template_rows": null,
       "height": null,
       "justify_content": null,
       "justify_items": null,
       "left": null,
       "margin": null,
       "max_height": null,
       "max_width": null,
       "min_height": null,
       "min_width": null,
       "object_fit": null,
       "object_position": null,
       "order": null,
       "overflow": null,
       "overflow_x": null,
       "overflow_y": null,
       "padding": null,
       "right": null,
       "top": null,
       "visibility": null,
       "width": null
      }
     },
     "55bae937ae0a4d30a2f5056d907bf761": {
      "model_module": "@jupyter-widgets/base",
      "model_module_version": "1.2.0",
      "model_name": "LayoutModel",
      "state": {
       "_model_module": "@jupyter-widgets/base",
       "_model_module_version": "1.2.0",
       "_model_name": "LayoutModel",
       "_view_count": null,
       "_view_module": "@jupyter-widgets/base",
       "_view_module_version": "1.2.0",
       "_view_name": "LayoutView",
       "align_content": null,
       "align_items": null,
       "align_self": null,
       "border": null,
       "bottom": null,
       "display": null,
       "flex": null,
       "flex_flow": null,
       "grid_area": null,
       "grid_auto_columns": null,
       "grid_auto_flow": null,
       "grid_auto_rows": null,
       "grid_column": null,
       "grid_gap": null,
       "grid_row": null,
       "grid_template_areas": null,
       "grid_template_columns": null,
       "grid_template_rows": null,
       "height": null,
       "justify_content": null,
       "justify_items": null,
       "left": null,
       "margin": null,
       "max_height": null,
       "max_width": null,
       "min_height": null,
       "min_width": null,
       "object_fit": null,
       "object_position": null,
       "order": null,
       "overflow": null,
       "overflow_x": null,
       "overflow_y": null,
       "padding": null,
       "right": null,
       "top": null,
       "visibility": null,
       "width": null
      }
     },
     "57e9f811a65347dbbc97a4f4de86fabf": {
      "model_module": "@jupyter-widgets/base",
      "model_module_version": "1.2.0",
      "model_name": "LayoutModel",
      "state": {
       "_model_module": "@jupyter-widgets/base",
       "_model_module_version": "1.2.0",
       "_model_name": "LayoutModel",
       "_view_count": null,
       "_view_module": "@jupyter-widgets/base",
       "_view_module_version": "1.2.0",
       "_view_name": "LayoutView",
       "align_content": null,
       "align_items": null,
       "align_self": null,
       "border": null,
       "bottom": null,
       "display": null,
       "flex": null,
       "flex_flow": null,
       "grid_area": null,
       "grid_auto_columns": null,
       "grid_auto_flow": null,
       "grid_auto_rows": null,
       "grid_column": null,
       "grid_gap": null,
       "grid_row": null,
       "grid_template_areas": null,
       "grid_template_columns": null,
       "grid_template_rows": null,
       "height": null,
       "justify_content": null,
       "justify_items": null,
       "left": null,
       "margin": null,
       "max_height": null,
       "max_width": null,
       "min_height": null,
       "min_width": null,
       "object_fit": null,
       "object_position": null,
       "order": null,
       "overflow": null,
       "overflow_x": null,
       "overflow_y": null,
       "padding": null,
       "right": null,
       "top": null,
       "visibility": null,
       "width": null
      }
     },
     "58e81d3da7a245938c820d13140472d6": {
      "model_module": "@jupyter-widgets/controls",
      "model_module_version": "1.5.0",
      "model_name": "HTMLModel",
      "state": {
       "_dom_classes": [],
       "_model_module": "@jupyter-widgets/controls",
       "_model_module_version": "1.5.0",
       "_model_name": "HTMLModel",
       "_view_count": null,
       "_view_module": "@jupyter-widgets/controls",
       "_view_module_version": "1.5.0",
       "_view_name": "HTMLView",
       "description": "",
       "description_tooltip": null,
       "layout": "IPY_MODEL_fae6d5205fb34f45b1398fc6a2c32080",
       "placeholder": "​",
       "style": "IPY_MODEL_a4e5dda2a5534199ad49d500f570728d",
       "value": " 185k/185k [00:00&lt;00:00, 5.86MB/s]"
      }
     },
     "58fbc493f0fc45f2b2068730f6494900": {
      "model_module": "@jupyter-widgets/controls",
      "model_module_version": "1.5.0",
      "model_name": "HTMLModel",
      "state": {
       "_dom_classes": [],
       "_model_module": "@jupyter-widgets/controls",
       "_model_module_version": "1.5.0",
       "_model_name": "HTMLModel",
       "_view_count": null,
       "_view_module": "@jupyter-widgets/controls",
       "_view_module_version": "1.5.0",
       "_view_name": "HTMLView",
       "description": "",
       "description_tooltip": null,
       "layout": "IPY_MODEL_57e9f811a65347dbbc97a4f4de86fabf",
       "placeholder": "​",
       "style": "IPY_MODEL_69699c13c773446eaae2060eecaa9483",
       "value": " 798k/798k [00:00&lt;00:00, 6.32MB/s]"
      }
     },
     "59e93fcad95b432da885b6788c83008b": {
      "model_module": "@jupyter-widgets/base",
      "model_module_version": "1.2.0",
      "model_name": "LayoutModel",
      "state": {
       "_model_module": "@jupyter-widgets/base",
       "_model_module_version": "1.2.0",
       "_model_name": "LayoutModel",
       "_view_count": null,
       "_view_module": "@jupyter-widgets/base",
       "_view_module_version": "1.2.0",
       "_view_name": "LayoutView",
       "align_content": null,
       "align_items": null,
       "align_self": null,
       "border": null,
       "bottom": null,
       "display": null,
       "flex": null,
       "flex_flow": null,
       "grid_area": null,
       "grid_auto_columns": null,
       "grid_auto_flow": null,
       "grid_auto_rows": null,
       "grid_column": null,
       "grid_gap": null,
       "grid_row": null,
       "grid_template_areas": null,
       "grid_template_columns": null,
       "grid_template_rows": null,
       "height": null,
       "justify_content": null,
       "justify_items": null,
       "left": null,
       "margin": null,
       "max_height": null,
       "max_width": null,
       "min_height": null,
       "min_width": null,
       "object_fit": null,
       "object_position": null,
       "order": null,
       "overflow": null,
       "overflow_x": null,
       "overflow_y": null,
       "padding": null,
       "right": null,
       "top": null,
       "visibility": null,
       "width": null
      }
     },
     "5d7e4dfd928b45b7bd32e1ec1266dab4": {
      "model_module": "@jupyter-widgets/base",
      "model_module_version": "1.2.0",
      "model_name": "LayoutModel",
      "state": {
       "_model_module": "@jupyter-widgets/base",
       "_model_module_version": "1.2.0",
       "_model_name": "LayoutModel",
       "_view_count": null,
       "_view_module": "@jupyter-widgets/base",
       "_view_module_version": "1.2.0",
       "_view_name": "LayoutView",
       "align_content": null,
       "align_items": null,
       "align_self": null,
       "border": null,
       "bottom": null,
       "display": null,
       "flex": null,
       "flex_flow": null,
       "grid_area": null,
       "grid_auto_columns": null,
       "grid_auto_flow": null,
       "grid_auto_rows": null,
       "grid_column": null,
       "grid_gap": null,
       "grid_row": null,
       "grid_template_areas": null,
       "grid_template_columns": null,
       "grid_template_rows": null,
       "height": null,
       "justify_content": null,
       "justify_items": null,
       "left": null,
       "margin": null,
       "max_height": null,
       "max_width": null,
       "min_height": null,
       "min_width": null,
       "object_fit": null,
       "object_position": null,
       "order": null,
       "overflow": null,
       "overflow_x": null,
       "overflow_y": null,
       "padding": null,
       "right": null,
       "top": null,
       "visibility": null,
       "width": null
      }
     },
     "618ef61829514299af99a9c8d8045db8": {
      "model_module": "@jupyter-widgets/controls",
      "model_module_version": "1.5.0",
      "model_name": "DescriptionStyleModel",
      "state": {
       "_model_module": "@jupyter-widgets/controls",
       "_model_module_version": "1.5.0",
       "_model_name": "DescriptionStyleModel",
       "_view_count": null,
       "_view_module": "@jupyter-widgets/base",
       "_view_module_version": "1.2.0",
       "_view_name": "StyleView",
       "description_width": ""
      }
     },
     "62696bf7d71f40c791785472dbf8cfb8": {
      "model_module": "@jupyter-widgets/base",
      "model_module_version": "1.2.0",
      "model_name": "LayoutModel",
      "state": {
       "_model_module": "@jupyter-widgets/base",
       "_model_module_version": "1.2.0",
       "_model_name": "LayoutModel",
       "_view_count": null,
       "_view_module": "@jupyter-widgets/base",
       "_view_module_version": "1.2.0",
       "_view_name": "LayoutView",
       "align_content": null,
       "align_items": null,
       "align_self": null,
       "border": null,
       "bottom": null,
       "display": null,
       "flex": null,
       "flex_flow": null,
       "grid_area": null,
       "grid_auto_columns": null,
       "grid_auto_flow": null,
       "grid_auto_rows": null,
       "grid_column": null,
       "grid_gap": null,
       "grid_row": null,
       "grid_template_areas": null,
       "grid_template_columns": null,
       "grid_template_rows": null,
       "height": null,
       "justify_content": null,
       "justify_items": null,
       "left": null,
       "margin": null,
       "max_height": null,
       "max_width": null,
       "min_height": null,
       "min_width": null,
       "object_fit": null,
       "object_position": null,
       "order": null,
       "overflow": null,
       "overflow_x": null,
       "overflow_y": null,
       "padding": null,
       "right": null,
       "top": null,
       "visibility": null,
       "width": null
      }
     },
     "6554b95f40864d0885ebb02502602c7a": {
      "model_module": "@jupyter-widgets/controls",
      "model_module_version": "1.5.0",
      "model_name": "ProgressStyleModel",
      "state": {
       "_model_module": "@jupyter-widgets/controls",
       "_model_module_version": "1.5.0",
       "_model_name": "ProgressStyleModel",
       "_view_count": null,
       "_view_module": "@jupyter-widgets/base",
       "_view_module_version": "1.2.0",
       "_view_name": "StyleView",
       "bar_color": null,
       "description_width": ""
      }
     },
     "676819eb0edf4bdfbb32cddf28528a29": {
      "model_module": "@jupyter-widgets/controls",
      "model_module_version": "1.5.0",
      "model_name": "HTMLModel",
      "state": {
       "_dom_classes": [],
       "_model_module": "@jupyter-widgets/controls",
       "_model_module_version": "1.5.0",
       "_model_name": "HTMLModel",
       "_view_count": null,
       "_view_module": "@jupyter-widgets/controls",
       "_view_module_version": "1.5.0",
       "_view_name": "HTMLView",
       "description": "",
       "description_tooltip": null,
       "layout": "IPY_MODEL_f061af25eb4548e7a24144c67aee6786",
       "placeholder": "​",
       "style": "IPY_MODEL_b61ee3ab0d0545fb9b6ee312617278d7",
       "value": " 1.83k/1.83k [00:00&lt;00:00, 171kB/s]"
      }
     },
     "68a4faeaaadf490e9b63c02e1f5a8e76": {
      "model_module": "@jupyter-widgets/controls",
      "model_module_version": "1.5.0",
      "model_name": "DescriptionStyleModel",
      "state": {
       "_model_module": "@jupyter-widgets/controls",
       "_model_module_version": "1.5.0",
       "_model_name": "DescriptionStyleModel",
       "_view_count": null,
       "_view_module": "@jupyter-widgets/base",
       "_view_module_version": "1.2.0",
       "_view_name": "StyleView",
       "description_width": ""
      }
     },
     "68e0366a399042c389b1a4a90e056a46": {
      "model_module": "@jupyter-widgets/base",
      "model_module_version": "1.2.0",
      "model_name": "LayoutModel",
      "state": {
       "_model_module": "@jupyter-widgets/base",
       "_model_module_version": "1.2.0",
       "_model_name": "LayoutModel",
       "_view_count": null,
       "_view_module": "@jupyter-widgets/base",
       "_view_module_version": "1.2.0",
       "_view_name": "LayoutView",
       "align_content": null,
       "align_items": null,
       "align_self": null,
       "border": null,
       "bottom": null,
       "display": null,
       "flex": null,
       "flex_flow": null,
       "grid_area": null,
       "grid_auto_columns": null,
       "grid_auto_flow": null,
       "grid_auto_rows": null,
       "grid_column": null,
       "grid_gap": null,
       "grid_row": null,
       "grid_template_areas": null,
       "grid_template_columns": null,
       "grid_template_rows": null,
       "height": null,
       "justify_content": null,
       "justify_items": null,
       "left": null,
       "margin": null,
       "max_height": null,
       "max_width": null,
       "min_height": null,
       "min_width": null,
       "object_fit": null,
       "object_position": null,
       "order": null,
       "overflow": null,
       "overflow_x": null,
       "overflow_y": null,
       "padding": null,
       "right": null,
       "top": null,
       "visibility": null,
       "width": null
      }
     },
     "69699c13c773446eaae2060eecaa9483": {
      "model_module": "@jupyter-widgets/controls",
      "model_module_version": "1.5.0",
      "model_name": "DescriptionStyleModel",
      "state": {
       "_model_module": "@jupyter-widgets/controls",
       "_model_module_version": "1.5.0",
       "_model_name": "DescriptionStyleModel",
       "_view_count": null,
       "_view_module": "@jupyter-widgets/base",
       "_view_module_version": "1.2.0",
       "_view_name": "StyleView",
       "description_width": ""
      }
     },
     "6a8dad9c2691478484d4e7aaf05ab19f": {
      "model_module": "@jupyter-widgets/controls",
      "model_module_version": "1.5.0",
      "model_name": "DescriptionStyleModel",
      "state": {
       "_model_module": "@jupyter-widgets/controls",
       "_model_module_version": "1.5.0",
       "_model_name": "DescriptionStyleModel",
       "_view_count": null,
       "_view_module": "@jupyter-widgets/base",
       "_view_module_version": "1.2.0",
       "_view_name": "StyleView",
       "description_width": ""
      }
     },
     "6b37b21abe1a4f7a98436d2281e688f2": {
      "model_module": "@jupyter-widgets/controls",
      "model_module_version": "1.5.0",
      "model_name": "HTMLModel",
      "state": {
       "_dom_classes": [],
       "_model_module": "@jupyter-widgets/controls",
       "_model_module_version": "1.5.0",
       "_model_name": "HTMLModel",
       "_view_count": null,
       "_view_module": "@jupyter-widgets/controls",
       "_view_module_version": "1.5.0",
       "_view_name": "HTMLView",
       "description": "",
       "description_tooltip": null,
       "layout": "IPY_MODEL_2156bfbe90ce4d5b813e7daa0ae0922e",
       "placeholder": "​",
       "style": "IPY_MODEL_6a8dad9c2691478484d4e7aaf05ab19f",
       "value": " 456k/456k [00:00&lt;00:00, 12.6MB/s]"
      }
     },
     "6e23dfb987124bbb8b3e5e3db7c117d6": {
      "model_module": "@jupyter-widgets/base",
      "model_module_version": "1.2.0",
      "model_name": "LayoutModel",
      "state": {
       "_model_module": "@jupyter-widgets/base",
       "_model_module_version": "1.2.0",
       "_model_name": "LayoutModel",
       "_view_count": null,
       "_view_module": "@jupyter-widgets/base",
       "_view_module_version": "1.2.0",
       "_view_name": "LayoutView",
       "align_content": null,
       "align_items": null,
       "align_self": null,
       "border": null,
       "bottom": null,
       "display": null,
       "flex": null,
       "flex_flow": null,
       "grid_area": null,
       "grid_auto_columns": null,
       "grid_auto_flow": null,
       "grid_auto_rows": null,
       "grid_column": null,
       "grid_gap": null,
       "grid_row": null,
       "grid_template_areas": null,
       "grid_template_columns": null,
       "grid_template_rows": null,
       "height": null,
       "justify_content": null,
       "justify_items": null,
       "left": null,
       "margin": null,
       "max_height": null,
       "max_width": null,
       "min_height": null,
       "min_width": null,
       "object_fit": null,
       "object_position": null,
       "order": null,
       "overflow": null,
       "overflow_x": null,
       "overflow_y": null,
       "padding": null,
       "right": null,
       "top": null,
       "visibility": null,
       "width": null
      }
     },
     "6ea1ac8db067448483b90cdf1f95a594": {
      "model_module": "@jupyter-widgets/controls",
      "model_module_version": "1.5.0",
      "model_name": "HTMLModel",
      "state": {
       "_dom_classes": [],
       "_model_module": "@jupyter-widgets/controls",
       "_model_module_version": "1.5.0",
       "_model_name": "HTMLModel",
       "_view_count": null,
       "_view_module": "@jupyter-widgets/controls",
       "_view_module_version": "1.5.0",
       "_view_name": "HTMLView",
       "description": "",
       "description_tooltip": null,
       "layout": "IPY_MODEL_7ef058966a394f199bf4ff8bb836f54c",
       "placeholder": "​",
       "style": "IPY_MODEL_4e137495a9014b728b85482f0c847c36",
       "value": " 1.94k/1.94k [00:00&lt;00:00, 180kB/s]"
      }
     },
     "71068cdf2cea4f269e39e0f440d1d7d2": {
      "model_module": "@jupyter-widgets/controls",
      "model_module_version": "1.5.0",
      "model_name": "HTMLModel",
      "state": {
       "_dom_classes": [],
       "_model_module": "@jupyter-widgets/controls",
       "_model_module_version": "1.5.0",
       "_model_name": "HTMLModel",
       "_view_count": null,
       "_view_module": "@jupyter-widgets/controls",
       "_view_module_version": "1.5.0",
       "_view_name": "HTMLView",
       "description": "",
       "description_tooltip": null,
       "layout": "IPY_MODEL_3d5ddad4d7a64222bca754a68d484bb0",
       "placeholder": "​",
       "style": "IPY_MODEL_68a4faeaaadf490e9b63c02e1f5a8e76",
       "value": "added_tokens.json: 100%"
      }
     },
     "7274c278b95d4e5389c2f4e48f3c798a": {
      "model_module": "@jupyter-widgets/base",
      "model_module_version": "1.2.0",
      "model_name": "LayoutModel",
      "state": {
       "_model_module": "@jupyter-widgets/base",
       "_model_module_version": "1.2.0",
       "_model_name": "LayoutModel",
       "_view_count": null,
       "_view_module": "@jupyter-widgets/base",
       "_view_module_version": "1.2.0",
       "_view_name": "LayoutView",
       "align_content": null,
       "align_items": null,
       "align_self": null,
       "border": null,
       "bottom": null,
       "display": null,
       "flex": null,
       "flex_flow": null,
       "grid_area": null,
       "grid_auto_columns": null,
       "grid_auto_flow": null,
       "grid_auto_rows": null,
       "grid_column": null,
       "grid_gap": null,
       "grid_row": null,
       "grid_template_areas": null,
       "grid_template_columns": null,
       "grid_template_rows": null,
       "height": null,
       "justify_content": null,
       "justify_items": null,
       "left": null,
       "margin": null,
       "max_height": null,
       "max_width": null,
       "min_height": null,
       "min_width": null,
       "object_fit": null,
       "object_position": null,
       "order": null,
       "overflow": null,
       "overflow_x": null,
       "overflow_y": null,
       "padding": null,
       "right": null,
       "top": null,
       "visibility": null,
       "width": null
      }
     },
     "76bd7ef53428449d98c28e2c162e6830": {
      "model_module": "@jupyter-widgets/controls",
      "model_module_version": "1.5.0",
      "model_name": "DescriptionStyleModel",
      "state": {
       "_model_module": "@jupyter-widgets/controls",
       "_model_module_version": "1.5.0",
       "_model_name": "DescriptionStyleModel",
       "_view_count": null,
       "_view_module": "@jupyter-widgets/base",
       "_view_module_version": "1.2.0",
       "_view_name": "StyleView",
       "description_width": ""
      }
     },
     "77ba353caba5401b9ee3181a06bbd1ff": {
      "model_module": "@jupyter-widgets/controls",
      "model_module_version": "1.5.0",
      "model_name": "DescriptionStyleModel",
      "state": {
       "_model_module": "@jupyter-widgets/controls",
       "_model_module_version": "1.5.0",
       "_model_name": "DescriptionStyleModel",
       "_view_count": null,
       "_view_module": "@jupyter-widgets/base",
       "_view_module_version": "1.2.0",
       "_view_name": "StyleView",
       "description_width": ""
      }
     },
     "77c0c0f7de2142aab7e707f14992af94": {
      "model_module": "@jupyter-widgets/controls",
      "model_module_version": "1.5.0",
      "model_name": "HTMLModel",
      "state": {
       "_dom_classes": [],
       "_model_module": "@jupyter-widgets/controls",
       "_model_module_version": "1.5.0",
       "_model_name": "HTMLModel",
       "_view_count": null,
       "_view_module": "@jupyter-widgets/controls",
       "_view_module_version": "1.5.0",
       "_view_name": "HTMLView",
       "description": "",
       "description_tooltip": null,
       "layout": "IPY_MODEL_9ab3620e2fc54f80a5648c8b32a80d33",
       "placeholder": "​",
       "style": "IPY_MODEL_618ef61829514299af99a9c8d8045db8",
       "value": "generation_config.json: 100%"
      }
     },
     "797de576b8dc4352954ae8217675f5fd": {
      "model_module": "@jupyter-widgets/base",
      "model_module_version": "1.2.0",
      "model_name": "LayoutModel",
      "state": {
       "_model_module": "@jupyter-widgets/base",
       "_model_module_version": "1.2.0",
       "_model_name": "LayoutModel",
       "_view_count": null,
       "_view_module": "@jupyter-widgets/base",
       "_view_module_version": "1.2.0",
       "_view_name": "LayoutView",
       "align_content": null,
       "align_items": null,
       "align_self": null,
       "border": null,
       "bottom": null,
       "display": null,
       "flex": null,
       "flex_flow": null,
       "grid_area": null,
       "grid_auto_columns": null,
       "grid_auto_flow": null,
       "grid_auto_rows": null,
       "grid_column": null,
       "grid_gap": null,
       "grid_row": null,
       "grid_template_areas": null,
       "grid_template_columns": null,
       "grid_template_rows": null,
       "height": null,
       "justify_content": null,
       "justify_items": null,
       "left": null,
       "margin": null,
       "max_height": null,
       "max_width": null,
       "min_height": null,
       "min_width": null,
       "object_fit": null,
       "object_position": null,
       "order": null,
       "overflow": null,
       "overflow_x": null,
       "overflow_y": null,
       "padding": null,
       "right": null,
       "top": null,
       "visibility": null,
       "width": null
      }
     },
     "79caa027b1f24063bcbf3e071a0732fc": {
      "model_module": "@jupyter-widgets/controls",
      "model_module_version": "1.5.0",
      "model_name": "DescriptionStyleModel",
      "state": {
       "_model_module": "@jupyter-widgets/controls",
       "_model_module_version": "1.5.0",
       "_model_name": "DescriptionStyleModel",
       "_view_count": null,
       "_view_module": "@jupyter-widgets/base",
       "_view_module_version": "1.2.0",
       "_view_name": "StyleView",
       "description_width": ""
      }
     },
     "7b41f76e1dc945aeaa24faf7dbbadf4e": {
      "model_module": "@jupyter-widgets/base",
      "model_module_version": "1.2.0",
      "model_name": "LayoutModel",
      "state": {
       "_model_module": "@jupyter-widgets/base",
       "_model_module_version": "1.2.0",
       "_model_name": "LayoutModel",
       "_view_count": null,
       "_view_module": "@jupyter-widgets/base",
       "_view_module_version": "1.2.0",
       "_view_name": "LayoutView",
       "align_content": null,
       "align_items": null,
       "align_self": null,
       "border": null,
       "bottom": null,
       "display": null,
       "flex": null,
       "flex_flow": null,
       "grid_area": null,
       "grid_auto_columns": null,
       "grid_auto_flow": null,
       "grid_auto_rows": null,
       "grid_column": null,
       "grid_gap": null,
       "grid_row": null,
       "grid_template_areas": null,
       "grid_template_columns": null,
       "grid_template_rows": null,
       "height": null,
       "justify_content": null,
       "justify_items": null,
       "left": null,
       "margin": null,
       "max_height": null,
       "max_width": null,
       "min_height": null,
       "min_width": null,
       "object_fit": null,
       "object_position": null,
       "order": null,
       "overflow": null,
       "overflow_x": null,
       "overflow_y": null,
       "padding": null,
       "right": null,
       "top": null,
       "visibility": null,
       "width": null
      }
     },
     "7ba6f1060d0e4942b2e4d4ee984663d2": {
      "model_module": "@jupyter-widgets/controls",
      "model_module_version": "1.5.0",
      "model_name": "DescriptionStyleModel",
      "state": {
       "_model_module": "@jupyter-widgets/controls",
       "_model_module_version": "1.5.0",
       "_model_name": "DescriptionStyleModel",
       "_view_count": null,
       "_view_module": "@jupyter-widgets/base",
       "_view_module_version": "1.2.0",
       "_view_name": "StyleView",
       "description_width": ""
      }
     },
     "7ef058966a394f199bf4ff8bb836f54c": {
      "model_module": "@jupyter-widgets/base",
      "model_module_version": "1.2.0",
      "model_name": "LayoutModel",
      "state": {
       "_model_module": "@jupyter-widgets/base",
       "_model_module_version": "1.2.0",
       "_model_name": "LayoutModel",
       "_view_count": null,
       "_view_module": "@jupyter-widgets/base",
       "_view_module_version": "1.2.0",
       "_view_name": "LayoutView",
       "align_content": null,
       "align_items": null,
       "align_self": null,
       "border": null,
       "bottom": null,
       "display": null,
       "flex": null,
       "flex_flow": null,
       "grid_area": null,
       "grid_auto_columns": null,
       "grid_auto_flow": null,
       "grid_auto_rows": null,
       "grid_column": null,
       "grid_gap": null,
       "grid_row": null,
       "grid_template_areas": null,
       "grid_template_columns": null,
       "grid_template_rows": null,
       "height": null,
       "justify_content": null,
       "justify_items": null,
       "left": null,
       "margin": null,
       "max_height": null,
       "max_width": null,
       "min_height": null,
       "min_width": null,
       "object_fit": null,
       "object_position": null,
       "order": null,
       "overflow": null,
       "overflow_x": null,
       "overflow_y": null,
       "padding": null,
       "right": null,
       "top": null,
       "visibility": null,
       "width": null
      }
     },
     "7ff5c28b22fd47a0b33e018058a283bc": {
      "model_module": "@jupyter-widgets/controls",
      "model_module_version": "1.5.0",
      "model_name": "FloatProgressModel",
      "state": {
       "_dom_classes": [],
       "_model_module": "@jupyter-widgets/controls",
       "_model_module_version": "1.5.0",
       "_model_name": "FloatProgressModel",
       "_view_count": null,
       "_view_module": "@jupyter-widgets/controls",
       "_view_module_version": "1.5.0",
       "_view_name": "ProgressView",
       "bar_style": "success",
       "description": "",
       "description_tooltip": null,
       "layout": "IPY_MODEL_850d4dbc8f8c4c7592ac03abf2b79a40",
       "max": 151060136.0,
       "min": 0.0,
       "orientation": "horizontal",
       "style": "IPY_MODEL_8ecbc83500ae450da826b10a965d3d4c",
       "value": 151060136.0
      }
     },
     "800325dc34394be992705acbf186451b": {
      "model_module": "@jupyter-widgets/controls",
      "model_module_version": "1.5.0",
      "model_name": "HTMLModel",
      "state": {
       "_dom_classes": [],
       "_model_module": "@jupyter-widgets/controls",
       "_model_module_version": "1.5.0",
       "_model_name": "HTMLModel",
       "_view_count": null,
       "_view_module": "@jupyter-widgets/controls",
       "_view_module_version": "1.5.0",
       "_view_name": "HTMLView",
       "description": "",
       "description_tooltip": null,
       "layout": "IPY_MODEL_157d7abb127e4549bc43e6b319c984da",
       "placeholder": "​",
       "style": "IPY_MODEL_a5b90004e406495a863cf671306dce28",
       "value": "special_tokens_map.json: 100%"
      }
     },
     "80815f4d0ba5497db4d4197e9999b047": {
      "model_module": "@jupyter-widgets/controls",
      "model_module_version": "1.5.0",
      "model_name": "HBoxModel",
      "state": {
       "_dom_classes": [],
       "_model_module": "@jupyter-widgets/controls",
       "_model_module_version": "1.5.0",
       "_model_name": "HBoxModel",
       "_view_count": null,
       "_view_module": "@jupyter-widgets/controls",
       "_view_module_version": "1.5.0",
       "_view_name": "HBoxView",
       "box_style": "",
       "children": [
        "IPY_MODEL_71068cdf2cea4f269e39e0f440d1d7d2",
        "IPY_MODEL_0c11ed2409124872bef67058eb393c0b",
        "IPY_MODEL_84323dfb181f42c9a762d1675fb5331b"
       ],
       "layout": "IPY_MODEL_8f1f77f575344b91acaf82db5f14cbf0"
      }
     },
     "823cefb2694e43818b5cda627da063ba": {
      "model_module": "@jupyter-widgets/controls",
      "model_module_version": "1.5.0",
      "model_name": "HBoxModel",
      "state": {
       "_dom_classes": [],
       "_model_module": "@jupyter-widgets/controls",
       "_model_module_version": "1.5.0",
       "_model_name": "HBoxModel",
       "_view_count": null,
       "_view_module": "@jupyter-widgets/controls",
       "_view_module_version": "1.5.0",
       "_view_name": "HBoxView",
       "box_style": "",
       "children": [
        "IPY_MODEL_b3d78c793c354a9ca612aecfa32589f0",
        "IPY_MODEL_e960a39b7f724984b7800579d74f342a",
        "IPY_MODEL_58e81d3da7a245938c820d13140472d6"
       ],
       "layout": "IPY_MODEL_b946d7841eaf43739670b7d86354f5fe"
      }
     },
     "84323dfb181f42c9a762d1675fb5331b": {
      "model_module": "@jupyter-widgets/controls",
      "model_module_version": "1.5.0",
      "model_name": "HTMLModel",
      "state": {
       "_dom_classes": [],
       "_model_module": "@jupyter-widgets/controls",
       "_model_module_version": "1.5.0",
       "_model_name": "HTMLModel",
       "_view_count": null,
       "_view_module": "@jupyter-widgets/controls",
       "_view_module_version": "1.5.0",
       "_view_name": "HTMLView",
       "description": "",
       "description_tooltip": null,
       "layout": "IPY_MODEL_b2cb42fee3834265a9c93bac1d90ff82",
       "placeholder": "​",
       "style": "IPY_MODEL_76bd7ef53428449d98c28e2c162e6830",
       "value": " 34.6k/34.6k [00:00&lt;00:00, 2.96MB/s]"
      }
     },
     "850d4dbc8f8c4c7592ac03abf2b79a40": {
      "model_module": "@jupyter-widgets/base",
      "model_module_version": "1.2.0",
      "model_name": "LayoutModel",
      "state": {
       "_model_module": "@jupyter-widgets/base",
       "_model_module_version": "1.2.0",
       "_model_name": "LayoutModel",
       "_view_count": null,
       "_view_module": "@jupyter-widgets/base",
       "_view_module_version": "1.2.0",
       "_view_name": "LayoutView",
       "align_content": null,
       "align_items": null,
       "align_self": null,
       "border": null,
       "bottom": null,
       "display": null,
       "flex": null,
       "flex_flow": null,
       "grid_area": null,
       "grid_auto_columns": null,
       "grid_auto_flow": null,
       "grid_auto_rows": null,
       "grid_column": null,
       "grid_gap": null,
       "grid_row": null,
       "grid_template_areas": null,
       "grid_template_columns": null,
       "grid_template_rows": null,
       "height": null,
       "justify_content": null,
       "justify_items": null,
       "left": null,
       "margin": null,
       "max_height": null,
       "max_width": null,
       "min_height": null,
       "min_width": null,
       "object_fit": null,
       "object_position": null,
       "order": null,
       "overflow": null,
       "overflow_x": null,
       "overflow_y": null,
       "padding": null,
       "right": null,
       "top": null,
       "visibility": null,
       "width": null
      }
     },
     "85dd47c468004269ad48bc9f9690a91a": {
      "model_module": "@jupyter-widgets/controls",
      "model_module_version": "1.5.0",
      "model_name": "HTMLModel",
      "state": {
       "_dom_classes": [],
       "_model_module": "@jupyter-widgets/controls",
       "_model_module_version": "1.5.0",
       "_model_name": "HTMLModel",
       "_view_count": null,
       "_view_module": "@jupyter-widgets/controls",
       "_view_module_version": "1.5.0",
       "_view_name": "HTMLView",
       "description": "",
       "description_tooltip": null,
       "layout": "IPY_MODEL_c621a9dd63d34f699d31ad083047697a",
       "placeholder": "​",
       "style": "IPY_MODEL_0457544e9369407681d31cd7cbde237f",
       "value": " 805/805 [00:00&lt;00:00, 73.0kB/s]"
      }
     },
     "8829716b137e49fabf0461ab6628e097": {
      "model_module": "@jupyter-widgets/controls",
      "model_module_version": "1.5.0",
      "model_name": "HTMLModel",
      "state": {
       "_dom_classes": [],
       "_model_module": "@jupyter-widgets/controls",
       "_model_module_version": "1.5.0",
       "_model_name": "HTMLModel",
       "_view_count": null,
       "_view_module": "@jupyter-widgets/controls",
       "_view_module_version": "1.5.0",
       "_view_name": "HTMLView",
       "description": "",
       "description_tooltip": null,
       "layout": "IPY_MODEL_a8c5ae3604ac46a4844d15b3a7e9f5fd",
       "placeholder": "​",
       "style": "IPY_MODEL_fa987dbcb0a349ae98f17ee0a93deac4",
       "value": "normalizer.json: 100%"
      }
     },
     "8b0387cd203045648157bd74a3aff67f": {
      "model_module": "@jupyter-widgets/base",
      "model_module_version": "1.2.0",
      "model_name": "LayoutModel",
      "state": {
       "_model_module": "@jupyter-widgets/base",
       "_model_module_version": "1.2.0",
       "_model_name": "LayoutModel",
       "_view_count": null,
       "_view_module": "@jupyter-widgets/base",
       "_view_module_version": "1.2.0",
       "_view_name": "LayoutView",
       "align_content": null,
       "align_items": null,
       "align_self": null,
       "border": null,
       "bottom": null,
       "display": null,
       "flex": null,
       "flex_flow": null,
       "grid_area": null,
       "grid_auto_columns": null,
       "grid_auto_flow": null,
       "grid_auto_rows": null,
       "grid_column": null,
       "grid_gap": null,
       "grid_row": null,
       "grid_template_areas": null,
       "grid_template_columns": null,
       "grid_template_rows": null,
       "height": null,
       "justify_content": null,
       "justify_items": null,
       "left": null,
       "margin": null,
       "max_height": null,
       "max_width": null,
       "min_height": null,
       "min_width": null,
       "object_fit": null,
       "object_position": null,
       "order": null,
       "overflow": null,
       "overflow_x": null,
       "overflow_y": null,
       "padding": null,
       "right": null,
       "top": null,
       "visibility": null,
       "width": null
      }
     },
     "8ddc32567ff94df9b6a32dcf1f7a86d4": {
      "model_module": "@jupyter-widgets/controls",
      "model_module_version": "1.5.0",
      "model_name": "DescriptionStyleModel",
      "state": {
       "_model_module": "@jupyter-widgets/controls",
       "_model_module_version": "1.5.0",
       "_model_name": "DescriptionStyleModel",
       "_view_count": null,
       "_view_module": "@jupyter-widgets/base",
       "_view_module_version": "1.2.0",
       "_view_name": "StyleView",
       "description_width": ""
      }
     },
     "8ecbc83500ae450da826b10a965d3d4c": {
      "model_module": "@jupyter-widgets/controls",
      "model_module_version": "1.5.0",
      "model_name": "ProgressStyleModel",
      "state": {
       "_model_module": "@jupyter-widgets/controls",
       "_model_module_version": "1.5.0",
       "_model_name": "ProgressStyleModel",
       "_view_count": null,
       "_view_module": "@jupyter-widgets/base",
       "_view_module_version": "1.2.0",
       "_view_name": "StyleView",
       "bar_color": null,
       "description_width": ""
      }
     },
     "8f1f77f575344b91acaf82db5f14cbf0": {
      "model_module": "@jupyter-widgets/base",
      "model_module_version": "1.2.0",
      "model_name": "LayoutModel",
      "state": {
       "_model_module": "@jupyter-widgets/base",
       "_model_module_version": "1.2.0",
       "_model_name": "LayoutModel",
       "_view_count": null,
       "_view_module": "@jupyter-widgets/base",
       "_view_module_version": "1.2.0",
       "_view_name": "LayoutView",
       "align_content": null,
       "align_items": null,
       "align_self": null,
       "border": null,
       "bottom": null,
       "display": null,
       "flex": null,
       "flex_flow": null,
       "grid_area": null,
       "grid_auto_columns": null,
       "grid_auto_flow": null,
       "grid_auto_rows": null,
       "grid_column": null,
       "grid_gap": null,
       "grid_row": null,
       "grid_template_areas": null,
       "grid_template_columns": null,
       "grid_template_rows": null,
       "height": null,
       "justify_content": null,
       "justify_items": null,
       "left": null,
       "margin": null,
       "max_height": null,
       "max_width": null,
       "min_height": null,
       "min_width": null,
       "object_fit": null,
       "object_position": null,
       "order": null,
       "overflow": null,
       "overflow_x": null,
       "overflow_y": null,
       "padding": null,
       "right": null,
       "top": null,
       "visibility": null,
       "width": null
      }
     },
     "8f8f74babf794b62b04be57ec19fc1c5": {
      "model_module": "@jupyter-widgets/base",
      "model_module_version": "1.2.0",
      "model_name": "LayoutModel",
      "state": {
       "_model_module": "@jupyter-widgets/base",
       "_model_module_version": "1.2.0",
       "_model_name": "LayoutModel",
       "_view_count": null,
       "_view_module": "@jupyter-widgets/base",
       "_view_module_version": "1.2.0",
       "_view_name": "LayoutView",
       "align_content": null,
       "align_items": null,
       "align_self": null,
       "border": null,
       "bottom": null,
       "display": null,
       "flex": null,
       "flex_flow": null,
       "grid_area": null,
       "grid_auto_columns": null,
       "grid_auto_flow": null,
       "grid_auto_rows": null,
       "grid_column": null,
       "grid_gap": null,
       "grid_row": null,
       "grid_template_areas": null,
       "grid_template_columns": null,
       "grid_template_rows": null,
       "height": null,
       "justify_content": null,
       "justify_items": null,
       "left": null,
       "margin": null,
       "max_height": null,
       "max_width": null,
       "min_height": null,
       "min_width": null,
       "object_fit": null,
       "object_position": null,
       "order": null,
       "overflow": null,
       "overflow_x": null,
       "overflow_y": null,
       "padding": null,
       "right": null,
       "top": null,
       "visibility": null,
       "width": null
      }
     },
     "946fa3ec6d1d4d73bb72f4491e4de138": {
      "model_module": "@jupyter-widgets/controls",
      "model_module_version": "1.5.0",
      "model_name": "ProgressStyleModel",
      "state": {
       "_model_module": "@jupyter-widgets/controls",
       "_model_module_version": "1.5.0",
       "_model_name": "ProgressStyleModel",
       "_view_count": null,
       "_view_module": "@jupyter-widgets/base",
       "_view_module_version": "1.2.0",
       "_view_name": "StyleView",
       "bar_color": null,
       "description_width": ""
      }
     },
     "987ca6c2971a4c31b0dedc69b5206e5f": {
      "model_module": "@jupyter-widgets/controls",
      "model_module_version": "1.5.0",
      "model_name": "FloatProgressModel",
      "state": {
       "_dom_classes": [],
       "_model_module": "@jupyter-widgets/controls",
       "_model_module_version": "1.5.0",
       "_model_name": "FloatProgressModel",
       "_view_count": null,
       "_view_module": "@jupyter-widgets/controls",
       "_view_module_version": "1.5.0",
       "_view_name": "ProgressView",
       "bar_style": "success",
       "description": "",
       "description_tooltip": null,
       "layout": "IPY_MODEL_55bae937ae0a4d30a2f5056d907bf761",
       "max": 1621.0,
       "min": 0.0,
       "orientation": "horizontal",
       "style": "IPY_MODEL_30835b51f3e94e42bfdaf8093dd393bc",
       "value": 1621.0
      }
     },
     "9ab3620e2fc54f80a5648c8b32a80d33": {
      "model_module": "@jupyter-widgets/base",
      "model_module_version": "1.2.0",
      "model_name": "LayoutModel",
      "state": {
       "_model_module": "@jupyter-widgets/base",
       "_model_module_version": "1.2.0",
       "_model_name": "LayoutModel",
       "_view_count": null,
       "_view_module": "@jupyter-widgets/base",
       "_view_module_version": "1.2.0",
       "_view_name": "LayoutView",
       "align_content": null,
       "align_items": null,
       "align_self": null,
       "border": null,
       "bottom": null,
       "display": null,
       "flex": null,
       "flex_flow": null,
       "grid_area": null,
       "grid_auto_columns": null,
       "grid_auto_flow": null,
       "grid_auto_rows": null,
       "grid_column": null,
       "grid_gap": null,
       "grid_row": null,
       "grid_template_areas": null,
       "grid_template_columns": null,
       "grid_template_rows": null,
       "height": null,
       "justify_content": null,
       "justify_items": null,
       "left": null,
       "margin": null,
       "max_height": null,
       "max_width": null,
       "min_height": null,
       "min_width": null,
       "object_fit": null,
       "object_position": null,
       "order": null,
       "overflow": null,
       "overflow_x": null,
       "overflow_y": null,
       "padding": null,
       "right": null,
       "top": null,
       "visibility": null,
       "width": null
      }
     },
     "9c17a17a74cd48da8a34519629884fdf": {
      "model_module": "@jupyter-widgets/controls",
      "model_module_version": "1.5.0",
      "model_name": "DescriptionStyleModel",
      "state": {
       "_model_module": "@jupyter-widgets/controls",
       "_model_module_version": "1.5.0",
       "_model_name": "DescriptionStyleModel",
       "_view_count": null,
       "_view_module": "@jupyter-widgets/base",
       "_view_module_version": "1.2.0",
       "_view_name": "StyleView",
       "description_width": ""
      }
     },
     "9c78852496f94e5a833c8204e9ed03d0": {
      "model_module": "@jupyter-widgets/controls",
      "model_module_version": "1.5.0",
      "model_name": "HBoxModel",
      "state": {
       "_dom_classes": [],
       "_model_module": "@jupyter-widgets/controls",
       "_model_module_version": "1.5.0",
       "_model_name": "HBoxModel",
       "_view_count": null,
       "_view_module": "@jupyter-widgets/controls",
       "_view_module_version": "1.5.0",
       "_view_name": "HBoxView",
       "box_style": "",
       "children": [
        "IPY_MODEL_cf72f968be644e04af2d5f116c67b5ae",
        "IPY_MODEL_fca53fb48132430fbfb8bcfb4c95fa6d",
        "IPY_MODEL_fa6edb48353b47eda80736c6965a269d"
       ],
       "layout": "IPY_MODEL_3200c1b6a3fe43899650ebe6594d6bf1"
      }
     },
     "a0f6481e1588418291d13b2aa8c24a72": {
      "model_module": "@jupyter-widgets/base",
      "model_module_version": "1.2.0",
      "model_name": "LayoutModel",
      "state": {
       "_model_module": "@jupyter-widgets/base",
       "_model_module_version": "1.2.0",
       "_model_name": "LayoutModel",
       "_view_count": null,
       "_view_module": "@jupyter-widgets/base",
       "_view_module_version": "1.2.0",
       "_view_name": "LayoutView",
       "align_content": null,
       "align_items": null,
       "align_self": null,
       "border": null,
       "bottom": null,
       "display": null,
       "flex": null,
       "flex_flow": null,
       "grid_area": null,
       "grid_auto_columns": null,
       "grid_auto_flow": null,
       "grid_auto_rows": null,
       "grid_column": null,
       "grid_gap": null,
       "grid_row": null,
       "grid_template_areas": null,
       "grid_template_columns": null,
       "grid_template_rows": null,
       "height": null,
       "justify_content": null,
       "justify_items": null,
       "left": null,
       "margin": null,
       "max_height": null,
       "max_width": null,
       "min_height": null,
       "min_width": null,
       "object_fit": null,
       "object_position": null,
       "order": null,
       "overflow": null,
       "overflow_x": null,
       "overflow_y": null,
       "padding": null,
       "right": null,
       "top": null,
       "visibility": null,
       "width": null
      }
     },
     "a4e5dda2a5534199ad49d500f570728d": {
      "model_module": "@jupyter-widgets/controls",
      "model_module_version": "1.5.0",
      "model_name": "DescriptionStyleModel",
      "state": {
       "_model_module": "@jupyter-widgets/controls",
       "_model_module_version": "1.5.0",
       "_model_name": "DescriptionStyleModel",
       "_view_count": null,
       "_view_module": "@jupyter-widgets/base",
       "_view_module_version": "1.2.0",
       "_view_name": "StyleView",
       "description_width": ""
      }
     },
     "a4ec6d954fb644e094d604e490a8e429": {
      "model_module": "@jupyter-widgets/controls",
      "model_module_version": "1.5.0",
      "model_name": "ProgressStyleModel",
      "state": {
       "_model_module": "@jupyter-widgets/controls",
       "_model_module_version": "1.5.0",
       "_model_name": "ProgressStyleModel",
       "_view_count": null,
       "_view_module": "@jupyter-widgets/base",
       "_view_module_version": "1.2.0",
       "_view_name": "StyleView",
       "bar_color": null,
       "description_width": ""
      }
     },
     "a5b90004e406495a863cf671306dce28": {
      "model_module": "@jupyter-widgets/controls",
      "model_module_version": "1.5.0",
      "model_name": "DescriptionStyleModel",
      "state": {
       "_model_module": "@jupyter-widgets/controls",
       "_model_module_version": "1.5.0",
       "_model_name": "DescriptionStyleModel",
       "_view_count": null,
       "_view_module": "@jupyter-widgets/base",
       "_view_module_version": "1.2.0",
       "_view_name": "StyleView",
       "description_width": ""
      }
     },
     "a8c5ae3604ac46a4844d15b3a7e9f5fd": {
      "model_module": "@jupyter-widgets/base",
      "model_module_version": "1.2.0",
      "model_name": "LayoutModel",
      "state": {
       "_model_module": "@jupyter-widgets/base",
       "_model_module_version": "1.2.0",
       "_model_name": "LayoutModel",
       "_view_count": null,
       "_view_module": "@jupyter-widgets/base",
       "_view_module_version": "1.2.0",
       "_view_name": "LayoutView",
       "align_content": null,
       "align_items": null,
       "align_self": null,
       "border": null,
       "bottom": null,
       "display": null,
       "flex": null,
       "flex_flow": null,
       "grid_area": null,
       "grid_auto_columns": null,
       "grid_auto_flow": null,
       "grid_auto_rows": null,
       "grid_column": null,
       "grid_gap": null,
       "grid_row": null,
       "grid_template_areas": null,
       "grid_template_columns": null,
       "grid_template_rows": null,
       "height": null,
       "justify_content": null,
       "justify_items": null,
       "left": null,
       "margin": null,
       "max_height": null,
       "max_width": null,
       "min_height": null,
       "min_width": null,
       "object_fit": null,
       "object_position": null,
       "order": null,
       "overflow": null,
       "overflow_x": null,
       "overflow_y": null,
       "padding": null,
       "right": null,
       "top": null,
       "visibility": null,
       "width": null
      }
     },
     "af5cc10ac64d4b699f8da80c1687b0b1": {
      "model_module": "@jupyter-widgets/controls",
      "model_module_version": "1.5.0",
      "model_name": "DescriptionStyleModel",
      "state": {
       "_model_module": "@jupyter-widgets/controls",
       "_model_module_version": "1.5.0",
       "_model_name": "DescriptionStyleModel",
       "_view_count": null,
       "_view_module": "@jupyter-widgets/base",
       "_view_module_version": "1.2.0",
       "_view_name": "StyleView",
       "description_width": ""
      }
     },
     "b2257f57219e440ea0d7227eb1e1fe5b": {
      "model_module": "@jupyter-widgets/controls",
      "model_module_version": "1.5.0",
      "model_name": "DescriptionStyleModel",
      "state": {
       "_model_module": "@jupyter-widgets/controls",
       "_model_module_version": "1.5.0",
       "_model_name": "DescriptionStyleModel",
       "_view_count": null,
       "_view_module": "@jupyter-widgets/base",
       "_view_module_version": "1.2.0",
       "_view_name": "StyleView",
       "description_width": ""
      }
     },
     "b2cb42fee3834265a9c93bac1d90ff82": {
      "model_module": "@jupyter-widgets/base",
      "model_module_version": "1.2.0",
      "model_name": "LayoutModel",
      "state": {
       "_model_module": "@jupyter-widgets/base",
       "_model_module_version": "1.2.0",
       "_model_name": "LayoutModel",
       "_view_count": null,
       "_view_module": "@jupyter-widgets/base",
       "_view_module_version": "1.2.0",
       "_view_name": "LayoutView",
       "align_content": null,
       "align_items": null,
       "align_self": null,
       "border": null,
       "bottom": null,
       "display": null,
       "flex": null,
       "flex_flow": null,
       "grid_area": null,
       "grid_auto_columns": null,
       "grid_auto_flow": null,
       "grid_auto_rows": null,
       "grid_column": null,
       "grid_gap": null,
       "grid_row": null,
       "grid_template_areas": null,
       "grid_template_columns": null,
       "grid_template_rows": null,
       "height": null,
       "justify_content": null,
       "justify_items": null,
       "left": null,
       "margin": null,
       "max_height": null,
       "max_width": null,
       "min_height": null,
       "min_width": null,
       "object_fit": null,
       "object_position": null,
       "order": null,
       "overflow": null,
       "overflow_x": null,
       "overflow_y": null,
       "padding": null,
       "right": null,
       "top": null,
       "visibility": null,
       "width": null
      }
     },
     "b3d78c793c354a9ca612aecfa32589f0": {
      "model_module": "@jupyter-widgets/controls",
      "model_module_version": "1.5.0",
      "model_name": "HTMLModel",
      "state": {
       "_dom_classes": [],
       "_model_module": "@jupyter-widgets/controls",
       "_model_module_version": "1.5.0",
       "_model_name": "HTMLModel",
       "_view_count": null,
       "_view_module": "@jupyter-widgets/controls",
       "_view_module_version": "1.5.0",
       "_view_name": "HTMLView",
       "description": "",
       "description_tooltip": null,
       "layout": "IPY_MODEL_68e0366a399042c389b1a4a90e056a46",
       "placeholder": "​",
       "style": "IPY_MODEL_79caa027b1f24063bcbf3e071a0732fc",
       "value": "preprocessor_config.json: 100%"
      }
     },
     "b61ee3ab0d0545fb9b6ee312617278d7": {
      "model_module": "@jupyter-widgets/controls",
      "model_module_version": "1.5.0",
      "model_name": "DescriptionStyleModel",
      "state": {
       "_model_module": "@jupyter-widgets/controls",
       "_model_module_version": "1.5.0",
       "_model_name": "DescriptionStyleModel",
       "_view_count": null,
       "_view_module": "@jupyter-widgets/base",
       "_view_module_version": "1.2.0",
       "_view_name": "StyleView",
       "description_width": ""
      }
     },
     "b64aa7a7c83048bab9b7b67ffbf0129c": {
      "model_module": "@jupyter-widgets/controls",
      "model_module_version": "1.5.0",
      "model_name": "HTMLModel",
      "state": {
       "_dom_classes": [],
       "_model_module": "@jupyter-widgets/controls",
       "_model_module_version": "1.5.0",
       "_model_name": "HTMLModel",
       "_view_count": null,
       "_view_module": "@jupyter-widgets/controls",
       "_view_module_version": "1.5.0",
       "_view_name": "HTMLView",
       "description": "",
       "description_tooltip": null,
       "layout": "IPY_MODEL_06e570f4c1634970a3f20a4317e822fd",
       "placeholder": "​",
       "style": "IPY_MODEL_46923750760a4b54b8c3dba387e0812a",
       "value": "vocab.json: 100%"
      }
     },
     "b946d7841eaf43739670b7d86354f5fe": {
      "model_module": "@jupyter-widgets/base",
      "model_module_version": "1.2.0",
      "model_name": "LayoutModel",
      "state": {
       "_model_module": "@jupyter-widgets/base",
       "_model_module_version": "1.2.0",
       "_model_name": "LayoutModel",
       "_view_count": null,
       "_view_module": "@jupyter-widgets/base",
       "_view_module_version": "1.2.0",
       "_view_name": "LayoutView",
       "align_content": null,
       "align_items": null,
       "align_self": null,
       "border": null,
       "bottom": null,
       "display": null,
       "flex": null,
       "flex_flow": null,
       "grid_area": null,
       "grid_auto_columns": null,
       "grid_auto_flow": null,
       "grid_auto_rows": null,
       "grid_column": null,
       "grid_gap": null,
       "grid_row": null,
       "grid_template_areas": null,
       "grid_template_columns": null,
       "grid_template_rows": null,
       "height": null,
       "justify_content": null,
       "justify_items": null,
       "left": null,
       "margin": null,
       "max_height": null,
       "max_width": null,
       "min_height": null,
       "min_width": null,
       "object_fit": null,
       "object_position": null,
       "order": null,
       "overflow": null,
       "overflow_x": null,
       "overflow_y": null,
       "padding": null,
       "right": null,
       "top": null,
       "visibility": null,
       "width": null
      }
     },
     "c2f34495b5a247eabb0407a5c1d35821": {
      "model_module": "@jupyter-widgets/controls",
      "model_module_version": "1.5.0",
      "model_name": "HBoxModel",
      "state": {
       "_dom_classes": [],
       "_model_module": "@jupyter-widgets/controls",
       "_model_module_version": "1.5.0",
       "_model_name": "HBoxModel",
       "_view_count": null,
       "_view_module": "@jupyter-widgets/controls",
       "_view_module_version": "1.5.0",
       "_view_name": "HBoxView",
       "box_style": "",
       "children": [
        "IPY_MODEL_265c0f6aa5894d87a52285b91f807fe6",
        "IPY_MODEL_24b3cbb865af4814976e573f660bbcf5",
        "IPY_MODEL_6ea1ac8db067448483b90cdf1f95a594"
       ],
       "layout": "IPY_MODEL_fbd534248f7243b1b5b1fe5a03853de6"
      }
     },
     "c4e354b02d354916b9ba6f1475863e46": {
      "model_module": "@jupyter-widgets/base",
      "model_module_version": "1.2.0",
      "model_name": "LayoutModel",
      "state": {
       "_model_module": "@jupyter-widgets/base",
       "_model_module_version": "1.2.0",
       "_model_name": "LayoutModel",
       "_view_count": null,
       "_view_module": "@jupyter-widgets/base",
       "_view_module_version": "1.2.0",
       "_view_name": "LayoutView",
       "align_content": null,
       "align_items": null,
       "align_self": null,
       "border": null,
       "bottom": null,
       "display": null,
       "flex": null,
       "flex_flow": null,
       "grid_area": null,
       "grid_auto_columns": null,
       "grid_auto_flow": null,
       "grid_auto_rows": null,
       "grid_column": null,
       "grid_gap": null,
       "grid_row": null,
       "grid_template_areas": null,
       "grid_template_columns": null,
       "grid_template_rows": null,
       "height": null,
       "justify_content": null,
       "justify_items": null,
       "left": null,
       "margin": null,
       "max_height": null,
       "max_width": null,
       "min_height": null,
       "min_width": null,
       "object_fit": null,
       "object_position": null,
       "order": null,
       "overflow": null,
       "overflow_x": null,
       "overflow_y": null,
       "padding": null,
       "right": null,
       "top": null,
       "visibility": null,
       "width": null
      }
     },
     "c621a9dd63d34f699d31ad083047697a": {
      "model_module": "@jupyter-widgets/base",
      "model_module_version": "1.2.0",
      "model_name": "LayoutModel",
      "state": {
       "_model_module": "@jupyter-widgets/base",
       "_model_module_version": "1.2.0",
       "_model_name": "LayoutModel",
       "_view_count": null,
       "_view_module": "@jupyter-widgets/base",
       "_view_module_version": "1.2.0",
       "_view_name": "LayoutView",
       "align_content": null,
       "align_items": null,
       "align_self": null,
       "border": null,
       "bottom": null,
       "display": null,
       "flex": null,
       "flex_flow": null,
       "grid_area": null,
       "grid_auto_columns": null,
       "grid_auto_flow": null,
       "grid_auto_rows": null,
       "grid_column": null,
       "grid_gap": null,
       "grid_row": null,
       "grid_template_areas": null,
       "grid_template_columns": null,
       "grid_template_rows": null,
       "height": null,
       "justify_content": null,
       "justify_items": null,
       "left": null,
       "margin": null,
       "max_height": null,
       "max_width": null,
       "min_height": null,
       "min_width": null,
       "object_fit": null,
       "object_position": null,
       "order": null,
       "overflow": null,
       "overflow_x": null,
       "overflow_y": null,
       "padding": null,
       "right": null,
       "top": null,
       "visibility": null,
       "width": null
      }
     },
     "ce14997a714c4756ad02b26778d97c80": {
      "model_module": "@jupyter-widgets/controls",
      "model_module_version": "1.5.0",
      "model_name": "HBoxModel",
      "state": {
       "_dom_classes": [],
       "_model_module": "@jupyter-widgets/controls",
       "_model_module_version": "1.5.0",
       "_model_name": "HBoxModel",
       "_view_count": null,
       "_view_module": "@jupyter-widgets/controls",
       "_view_module_version": "1.5.0",
       "_view_name": "HBoxView",
       "box_style": "",
       "children": [
        "IPY_MODEL_8829716b137e49fabf0461ab6628e097",
        "IPY_MODEL_1f14d4ed438a4f249f3339ccd8e0f4f2",
        "IPY_MODEL_3b1df73f5f82428c92d9c0c8661f598b"
       ],
       "layout": "IPY_MODEL_ce5a265d5652458ca8071939c2e76de2"
      }
     },
     "ce5a265d5652458ca8071939c2e76de2": {
      "model_module": "@jupyter-widgets/base",
      "model_module_version": "1.2.0",
      "model_name": "LayoutModel",
      "state": {
       "_model_module": "@jupyter-widgets/base",
       "_model_module_version": "1.2.0",
       "_model_name": "LayoutModel",
       "_view_count": null,
       "_view_module": "@jupyter-widgets/base",
       "_view_module_version": "1.2.0",
       "_view_name": "LayoutView",
       "align_content": null,
       "align_items": null,
       "align_self": null,
       "border": null,
       "bottom": null,
       "display": null,
       "flex": null,
       "flex_flow": null,
       "grid_area": null,
       "grid_auto_columns": null,
       "grid_auto_flow": null,
       "grid_auto_rows": null,
       "grid_column": null,
       "grid_gap": null,
       "grid_row": null,
       "grid_template_areas": null,
       "grid_template_columns": null,
       "grid_template_rows": null,
       "height": null,
       "justify_content": null,
       "justify_items": null,
       "left": null,
       "margin": null,
       "max_height": null,
       "max_width": null,
       "min_height": null,
       "min_width": null,
       "object_fit": null,
       "object_position": null,
       "order": null,
       "overflow": null,
       "overflow_x": null,
       "overflow_y": null,
       "padding": null,
       "right": null,
       "top": null,
       "visibility": null,
       "width": null
      }
     },
     "cf65f1f367f143219739c9dc36f1bb22": {
      "model_module": "@jupyter-widgets/base",
      "model_module_version": "1.2.0",
      "model_name": "LayoutModel",
      "state": {
       "_model_module": "@jupyter-widgets/base",
       "_model_module_version": "1.2.0",
       "_model_name": "LayoutModel",
       "_view_count": null,
       "_view_module": "@jupyter-widgets/base",
       "_view_module_version": "1.2.0",
       "_view_name": "LayoutView",
       "align_content": null,
       "align_items": null,
       "align_self": null,
       "border": null,
       "bottom": null,
       "display": null,
       "flex": null,
       "flex_flow": null,
       "grid_area": null,
       "grid_auto_columns": null,
       "grid_auto_flow": null,
       "grid_auto_rows": null,
       "grid_column": null,
       "grid_gap": null,
       "grid_row": null,
       "grid_template_areas": null,
       "grid_template_columns": null,
       "grid_template_rows": null,
       "height": null,
       "justify_content": null,
       "justify_items": null,
       "left": null,
       "margin": null,
       "max_height": null,
       "max_width": null,
       "min_height": null,
       "min_width": null,
       "object_fit": null,
       "object_position": null,
       "order": null,
       "overflow": null,
       "overflow_x": null,
       "overflow_y": null,
       "padding": null,
       "right": null,
       "top": null,
       "visibility": null,
       "width": null
      }
     },
     "cf72f968be644e04af2d5f116c67b5ae": {
      "model_module": "@jupyter-widgets/controls",
      "model_module_version": "1.5.0",
      "model_name": "HTMLModel",
      "state": {
       "_dom_classes": [],
       "_model_module": "@jupyter-widgets/controls",
       "_model_module_version": "1.5.0",
       "_model_name": "HTMLModel",
       "_view_count": null,
       "_view_module": "@jupyter-widgets/controls",
       "_view_module_version": "1.5.0",
       "_view_name": "HTMLView",
       "description": "",
       "description_tooltip": null,
       "layout": "IPY_MODEL_c4e354b02d354916b9ba6f1475863e46",
       "placeholder": "​",
       "style": "IPY_MODEL_b2257f57219e440ea0d7227eb1e1fe5b",
       "value": "tokenizer.json: 100%"
      }
     },
     "d3a8fd947de2418a949788dae8ccb899": {
      "model_module": "@jupyter-widgets/base",
      "model_module_version": "1.2.0",
      "model_name": "LayoutModel",
      "state": {
       "_model_module": "@jupyter-widgets/base",
       "_model_module_version": "1.2.0",
       "_model_name": "LayoutModel",
       "_view_count": null,
       "_view_module": "@jupyter-widgets/base",
       "_view_module_version": "1.2.0",
       "_view_name": "LayoutView",
       "align_content": null,
       "align_items": null,
       "align_self": null,
       "border": null,
       "bottom": null,
       "display": null,
       "flex": null,
       "flex_flow": null,
       "grid_area": null,
       "grid_auto_columns": null,
       "grid_auto_flow": null,
       "grid_auto_rows": null,
       "grid_column": null,
       "grid_gap": null,
       "grid_row": null,
       "grid_template_areas": null,
       "grid_template_columns": null,
       "grid_template_rows": null,
       "height": null,
       "justify_content": null,
       "justify_items": null,
       "left": null,
       "margin": null,
       "max_height": null,
       "max_width": null,
       "min_height": null,
       "min_width": null,
       "object_fit": null,
       "object_position": null,
       "order": null,
       "overflow": null,
       "overflow_x": null,
       "overflow_y": null,
       "padding": null,
       "right": null,
       "top": null,
       "visibility": null,
       "width": null
      }
     },
     "d577bfc89bf54b8ca2adb9cd1516047a": {
      "model_module": "@jupyter-widgets/controls",
      "model_module_version": "1.5.0",
      "model_name": "HTMLModel",
      "state": {
       "_dom_classes": [],
       "_model_module": "@jupyter-widgets/controls",
       "_model_module_version": "1.5.0",
       "_model_name": "HTMLModel",
       "_view_count": null,
       "_view_module": "@jupyter-widgets/controls",
       "_view_module_version": "1.5.0",
       "_view_name": "HTMLView",
       "description": "",
       "description_tooltip": null,
       "layout": "IPY_MODEL_6e23dfb987124bbb8b3e5e3db7c117d6",
       "placeholder": "​",
       "style": "IPY_MODEL_ea821d30227a4b00b85c0e8c1a66ea4e",
       "value": "model.safetensors: 100%"
      }
     },
     "d7827dd78e8e4744871c0a783db83608": {
      "model_module": "@jupyter-widgets/controls",
      "model_module_version": "1.5.0",
      "model_name": "HTMLModel",
      "state": {
       "_dom_classes": [],
       "_model_module": "@jupyter-widgets/controls",
       "_model_module_version": "1.5.0",
       "_model_name": "HTMLModel",
       "_view_count": null,
       "_view_module": "@jupyter-widgets/controls",
       "_view_module_version": "1.5.0",
       "_view_name": "HTMLView",
       "description": "",
       "description_tooltip": null,
       "layout": "IPY_MODEL_d3a8fd947de2418a949788dae8ccb899",
       "placeholder": "​",
       "style": "IPY_MODEL_8ddc32567ff94df9b6a32dcf1f7a86d4",
       "value": "tokenizer_config.json: 100%"
      }
     },
     "d7eaec5abf694f939f84e46a43660239": {
      "model_module": "@jupyter-widgets/controls",
      "model_module_version": "1.5.0",
      "model_name": "FloatProgressModel",
      "state": {
       "_dom_classes": [],
       "_model_module": "@jupyter-widgets/controls",
       "_model_module_version": "1.5.0",
       "_model_name": "FloatProgressModel",
       "_view_count": null,
       "_view_module": "@jupyter-widgets/controls",
       "_view_module_version": "1.5.0",
       "_view_name": "ProgressView",
       "bar_style": "success",
       "description": "",
       "description_tooltip": null,
       "layout": "IPY_MODEL_ddc5a10d240b4308a434c399620fed0a",
       "max": 798156.0,
       "min": 0.0,
       "orientation": "horizontal",
       "style": "IPY_MODEL_2316ae96bcc6455ca03295e5c71dc0b1",
       "value": 798156.0
      }
     },
     "dd22395c7cc04a31a5272332361e281a": {
      "model_module": "@jupyter-widgets/base",
      "model_module_version": "1.2.0",
      "model_name": "LayoutModel",
      "state": {
       "_model_module": "@jupyter-widgets/base",
       "_model_module_version": "1.2.0",
       "_model_name": "LayoutModel",
       "_view_count": null,
       "_view_module": "@jupyter-widgets/base",
       "_view_module_version": "1.2.0",
       "_view_name": "LayoutView",
       "align_content": null,
       "align_items": null,
       "align_self": null,
       "border": null,
       "bottom": null,
       "display": null,
       "flex": null,
       "flex_flow": null,
       "grid_area": null,
       "grid_auto_columns": null,
       "grid_auto_flow": null,
       "grid_auto_rows": null,
       "grid_column": null,
       "grid_gap": null,
       "grid_row": null,
       "grid_template_areas": null,
       "grid_template_columns": null,
       "grid_template_rows": null,
       "height": null,
       "justify_content": null,
       "justify_items": null,
       "left": null,
       "margin": null,
       "max_height": null,
       "max_width": null,
       "min_height": null,
       "min_width": null,
       "object_fit": null,
       "object_position": null,
       "order": null,
       "overflow": null,
       "overflow_x": null,
       "overflow_y": null,
       "padding": null,
       "right": null,
       "top": null,
       "visibility": null,
       "width": null
      }
     },
     "ddc5a10d240b4308a434c399620fed0a": {
      "model_module": "@jupyter-widgets/base",
      "model_module_version": "1.2.0",
      "model_name": "LayoutModel",
      "state": {
       "_model_module": "@jupyter-widgets/base",
       "_model_module_version": "1.2.0",
       "_model_name": "LayoutModel",
       "_view_count": null,
       "_view_module": "@jupyter-widgets/base",
       "_view_module_version": "1.2.0",
       "_view_name": "LayoutView",
       "align_content": null,
       "align_items": null,
       "align_self": null,
       "border": null,
       "bottom": null,
       "display": null,
       "flex": null,
       "flex_flow": null,
       "grid_area": null,
       "grid_auto_columns": null,
       "grid_auto_flow": null,
       "grid_auto_rows": null,
       "grid_column": null,
       "grid_gap": null,
       "grid_row": null,
       "grid_template_areas": null,
       "grid_template_columns": null,
       "grid_template_rows": null,
       "height": null,
       "justify_content": null,
       "justify_items": null,
       "left": null,
       "margin": null,
       "max_height": null,
       "max_width": null,
       "min_height": null,
       "min_width": null,
       "object_fit": null,
       "object_position": null,
       "order": null,
       "overflow": null,
       "overflow_x": null,
       "overflow_y": null,
       "padding": null,
       "right": null,
       "top": null,
       "visibility": null,
       "width": null
      }
     },
     "e833ce7e08cf45d284fc7e00c386c453": {
      "model_module": "@jupyter-widgets/base",
      "model_module_version": "1.2.0",
      "model_name": "LayoutModel",
      "state": {
       "_model_module": "@jupyter-widgets/base",
       "_model_module_version": "1.2.0",
       "_model_name": "LayoutModel",
       "_view_count": null,
       "_view_module": "@jupyter-widgets/base",
       "_view_module_version": "1.2.0",
       "_view_name": "LayoutView",
       "align_content": null,
       "align_items": null,
       "align_self": null,
       "border": null,
       "bottom": null,
       "display": null,
       "flex": null,
       "flex_flow": null,
       "grid_area": null,
       "grid_auto_columns": null,
       "grid_auto_flow": null,
       "grid_auto_rows": null,
       "grid_column": null,
       "grid_gap": null,
       "grid_row": null,
       "grid_template_areas": null,
       "grid_template_columns": null,
       "grid_template_rows": null,
       "height": null,
       "justify_content": null,
       "justify_items": null,
       "left": null,
       "margin": null,
       "max_height": null,
       "max_width": null,
       "min_height": null,
       "min_width": null,
       "object_fit": null,
       "object_position": null,
       "order": null,
       "overflow": null,
       "overflow_x": null,
       "overflow_y": null,
       "padding": null,
       "right": null,
       "top": null,
       "visibility": null,
       "width": null
      }
     },
     "e8b418a08a5b4a1299de6cc268000b47": {
      "model_module": "@jupyter-widgets/base",
      "model_module_version": "1.2.0",
      "model_name": "LayoutModel",
      "state": {
       "_model_module": "@jupyter-widgets/base",
       "_model_module_version": "1.2.0",
       "_model_name": "LayoutModel",
       "_view_count": null,
       "_view_module": "@jupyter-widgets/base",
       "_view_module_version": "1.2.0",
       "_view_name": "LayoutView",
       "align_content": null,
       "align_items": null,
       "align_self": null,
       "border": null,
       "bottom": null,
       "display": null,
       "flex": null,
       "flex_flow": null,
       "grid_area": null,
       "grid_auto_columns": null,
       "grid_auto_flow": null,
       "grid_auto_rows": null,
       "grid_column": null,
       "grid_gap": null,
       "grid_row": null,
       "grid_template_areas": null,
       "grid_template_columns": null,
       "grid_template_rows": null,
       "height": null,
       "justify_content": null,
       "justify_items": null,
       "left": null,
       "margin": null,
       "max_height": null,
       "max_width": null,
       "min_height": null,
       "min_width": null,
       "object_fit": null,
       "object_position": null,
       "order": null,
       "overflow": null,
       "overflow_x": null,
       "overflow_y": null,
       "padding": null,
       "right": null,
       "top": null,
       "visibility": null,
       "width": null
      }
     },
     "e960a39b7f724984b7800579d74f342a": {
      "model_module": "@jupyter-widgets/controls",
      "model_module_version": "1.5.0",
      "model_name": "FloatProgressModel",
      "state": {
       "_dom_classes": [],
       "_model_module": "@jupyter-widgets/controls",
       "_model_module_version": "1.5.0",
       "_model_name": "FloatProgressModel",
       "_view_count": null,
       "_view_module": "@jupyter-widgets/controls",
       "_view_module_version": "1.5.0",
       "_view_name": "ProgressView",
       "bar_style": "success",
       "description": "",
       "description_tooltip": null,
       "layout": "IPY_MODEL_cf65f1f367f143219739c9dc36f1bb22",
       "max": 184990.0,
       "min": 0.0,
       "orientation": "horizontal",
       "style": "IPY_MODEL_f55692c49b3a4837b1af9d78fde7e0cb",
       "value": 184990.0
      }
     },
     "ea821d30227a4b00b85c0e8c1a66ea4e": {
      "model_module": "@jupyter-widgets/controls",
      "model_module_version": "1.5.0",
      "model_name": "DescriptionStyleModel",
      "state": {
       "_model_module": "@jupyter-widgets/controls",
       "_model_module_version": "1.5.0",
       "_model_name": "DescriptionStyleModel",
       "_view_count": null,
       "_view_module": "@jupyter-widgets/base",
       "_view_module_version": "1.2.0",
       "_view_name": "StyleView",
       "description_width": ""
      }
     },
     "eacaad6ef01b441c9c04f183539ccb1d": {
      "model_module": "@jupyter-widgets/controls",
      "model_module_version": "1.5.0",
      "model_name": "ProgressStyleModel",
      "state": {
       "_model_module": "@jupyter-widgets/controls",
       "_model_module_version": "1.5.0",
       "_model_name": "ProgressStyleModel",
       "_view_count": null,
       "_view_module": "@jupyter-widgets/base",
       "_view_module_version": "1.2.0",
       "_view_name": "StyleView",
       "bar_color": null,
       "description_width": ""
      }
     },
     "ed6466d5a1cb4ab9b5911d4c6b368a8a": {
      "model_module": "@jupyter-widgets/controls",
      "model_module_version": "1.5.0",
      "model_name": "HBoxModel",
      "state": {
       "_dom_classes": [],
       "_model_module": "@jupyter-widgets/controls",
       "_model_module_version": "1.5.0",
       "_model_name": "HBoxModel",
       "_view_count": null,
       "_view_module": "@jupyter-widgets/controls",
       "_view_module_version": "1.5.0",
       "_view_name": "HBoxView",
       "box_style": "",
       "children": [
        "IPY_MODEL_800325dc34394be992705acbf186451b",
        "IPY_MODEL_280a12b4102b4eb086af6f5eb65f0193",
        "IPY_MODEL_676819eb0edf4bdfbb32cddf28528a29"
       ],
       "layout": "IPY_MODEL_59e93fcad95b432da885b6788c83008b"
      }
     },
     "f061af25eb4548e7a24144c67aee6786": {
      "model_module": "@jupyter-widgets/base",
      "model_module_version": "1.2.0",
      "model_name": "LayoutModel",
      "state": {
       "_model_module": "@jupyter-widgets/base",
       "_model_module_version": "1.2.0",
       "_model_name": "LayoutModel",
       "_view_count": null,
       "_view_module": "@jupyter-widgets/base",
       "_view_module_version": "1.2.0",
       "_view_name": "LayoutView",
       "align_content": null,
       "align_items": null,
       "align_self": null,
       "border": null,
       "bottom": null,
       "display": null,
       "flex": null,
       "flex_flow": null,
       "grid_area": null,
       "grid_auto_columns": null,
       "grid_auto_flow": null,
       "grid_auto_rows": null,
       "grid_column": null,
       "grid_gap": null,
       "grid_row": null,
       "grid_template_areas": null,
       "grid_template_columns": null,
       "grid_template_rows": null,
       "height": null,
       "justify_content": null,
       "justify_items": null,
       "left": null,
       "margin": null,
       "max_height": null,
       "max_width": null,
       "min_height": null,
       "min_width": null,
       "object_fit": null,
       "object_position": null,
       "order": null,
       "overflow": null,
       "overflow_x": null,
       "overflow_y": null,
       "padding": null,
       "right": null,
       "top": null,
       "visibility": null,
       "width": null
      }
     },
     "f17b29f99c6f42f0ab5d2ee3d484a6ba": {
      "model_module": "@jupyter-widgets/controls",
      "model_module_version": "1.5.0",
      "model_name": "DescriptionStyleModel",
      "state": {
       "_model_module": "@jupyter-widgets/controls",
       "_model_module_version": "1.5.0",
       "_model_name": "DescriptionStyleModel",
       "_view_count": null,
       "_view_module": "@jupyter-widgets/base",
       "_view_module_version": "1.2.0",
       "_view_name": "StyleView",
       "description_width": ""
      }
     },
     "f2c64a63a5fb4ceeb46e311d0b740075": {
      "model_module": "@jupyter-widgets/controls",
      "model_module_version": "1.5.0",
      "model_name": "ProgressStyleModel",
      "state": {
       "_model_module": "@jupyter-widgets/controls",
       "_model_module_version": "1.5.0",
       "_model_name": "ProgressStyleModel",
       "_view_count": null,
       "_view_module": "@jupyter-widgets/base",
       "_view_module_version": "1.2.0",
       "_view_name": "StyleView",
       "bar_color": null,
       "description_width": ""
      }
     },
     "f4131c92812948508e6af4dcc0230bb4": {
      "model_module": "@jupyter-widgets/controls",
      "model_module_version": "1.5.0",
      "model_name": "HBoxModel",
      "state": {
       "_dom_classes": [],
       "_model_module": "@jupyter-widgets/controls",
       "_model_module_version": "1.5.0",
       "_model_name": "HBoxModel",
       "_view_count": null,
       "_view_module": "@jupyter-widgets/controls",
       "_view_module_version": "1.5.0",
       "_view_name": "HBoxView",
       "box_style": "",
       "children": [
        "IPY_MODEL_1b7393c5420c405f95a3d8385bf423ef",
        "IPY_MODEL_fdfd8e2c82e347fdaece2cf1ea6b5ff6",
        "IPY_MODEL_6b37b21abe1a4f7a98436d2281e688f2"
       ],
       "layout": "IPY_MODEL_dd22395c7cc04a31a5272332361e281a"
      }
     },
     "f55692c49b3a4837b1af9d78fde7e0cb": {
      "model_module": "@jupyter-widgets/controls",
      "model_module_version": "1.5.0",
      "model_name": "ProgressStyleModel",
      "state": {
       "_model_module": "@jupyter-widgets/controls",
       "_model_module_version": "1.5.0",
       "_model_name": "ProgressStyleModel",
       "_view_count": null,
       "_view_module": "@jupyter-widgets/base",
       "_view_module_version": "1.2.0",
       "_view_name": "StyleView",
       "bar_color": null,
       "description_width": ""
      }
     },
     "f60a4c96084548539bd515931ef8923a": {
      "model_module": "@jupyter-widgets/base",
      "model_module_version": "1.2.0",
      "model_name": "LayoutModel",
      "state": {
       "_model_module": "@jupyter-widgets/base",
       "_model_module_version": "1.2.0",
       "_model_name": "LayoutModel",
       "_view_count": null,
       "_view_module": "@jupyter-widgets/base",
       "_view_module_version": "1.2.0",
       "_view_name": "LayoutView",
       "align_content": null,
       "align_items": null,
       "align_self": null,
       "border": null,
       "bottom": null,
       "display": null,
       "flex": null,
       "flex_flow": null,
       "grid_area": null,
       "grid_auto_columns": null,
       "grid_auto_flow": null,
       "grid_auto_rows": null,
       "grid_column": null,
       "grid_gap": null,
       "grid_row": null,
       "grid_template_areas": null,
       "grid_template_columns": null,
       "grid_template_rows": null,
       "height": null,
       "justify_content": null,
       "justify_items": null,
       "left": null,
       "margin": null,
       "max_height": null,
       "max_width": null,
       "min_height": null,
       "min_width": null,
       "object_fit": null,
       "object_position": null,
       "order": null,
       "overflow": null,
       "overflow_x": null,
       "overflow_y": null,
       "padding": null,
       "right": null,
       "top": null,
       "visibility": null,
       "width": null
      }
     },
     "f755ee6b1e6f47ee93c31a19a8db190a": {
      "model_module": "@jupyter-widgets/controls",
      "model_module_version": "1.5.0",
      "model_name": "DescriptionStyleModel",
      "state": {
       "_model_module": "@jupyter-widgets/controls",
       "_model_module_version": "1.5.0",
       "_model_name": "DescriptionStyleModel",
       "_view_count": null,
       "_view_module": "@jupyter-widgets/base",
       "_view_module_version": "1.2.0",
       "_view_name": "StyleView",
       "description_width": ""
      }
     },
     "f952026c058a41e2a81bea05c328fa9e": {
      "model_module": "@jupyter-widgets/base",
      "model_module_version": "1.2.0",
      "model_name": "LayoutModel",
      "state": {
       "_model_module": "@jupyter-widgets/base",
       "_model_module_version": "1.2.0",
       "_model_name": "LayoutModel",
       "_view_count": null,
       "_view_module": "@jupyter-widgets/base",
       "_view_module_version": "1.2.0",
       "_view_name": "LayoutView",
       "align_content": null,
       "align_items": null,
       "align_self": null,
       "border": null,
       "bottom": null,
       "display": null,
       "flex": null,
       "flex_flow": null,
       "grid_area": null,
       "grid_auto_columns": null,
       "grid_auto_flow": null,
       "grid_auto_rows": null,
       "grid_column": null,
       "grid_gap": null,
       "grid_row": null,
       "grid_template_areas": null,
       "grid_template_columns": null,
       "grid_template_rows": null,
       "height": null,
       "justify_content": null,
       "justify_items": null,
       "left": null,
       "margin": null,
       "max_height": null,
       "max_width": null,
       "min_height": null,
       "min_width": null,
       "object_fit": null,
       "object_position": null,
       "order": null,
       "overflow": null,
       "overflow_x": null,
       "overflow_y": null,
       "padding": null,
       "right": null,
       "top": null,
       "visibility": null,
       "width": null
      }
     },
     "fa082fc6c904497bb80378c9c3b9a336": {
      "model_module": "@jupyter-widgets/controls",
      "model_module_version": "1.5.0",
      "model_name": "HBoxModel",
      "state": {
       "_dom_classes": [],
       "_model_module": "@jupyter-widgets/controls",
       "_model_module_version": "1.5.0",
       "_model_name": "HBoxModel",
       "_view_count": null,
       "_view_module": "@jupyter-widgets/controls",
       "_view_module_version": "1.5.0",
       "_view_name": "HBoxView",
       "box_style": "",
       "children": [
        "IPY_MODEL_d577bfc89bf54b8ca2adb9cd1516047a",
        "IPY_MODEL_7ff5c28b22fd47a0b33e018058a283bc",
        "IPY_MODEL_0c4c82d1f4ef4487a840e809a2283145"
       ],
       "layout": "IPY_MODEL_62696bf7d71f40c791785472dbf8cfb8"
      }
     },
     "fa6edb48353b47eda80736c6965a269d": {
      "model_module": "@jupyter-widgets/controls",
      "model_module_version": "1.5.0",
      "model_name": "HTMLModel",
      "state": {
       "_dom_classes": [],
       "_model_module": "@jupyter-widgets/controls",
       "_model_module_version": "1.5.0",
       "_model_name": "HTMLModel",
       "_view_count": null,
       "_view_module": "@jupyter-widgets/controls",
       "_view_module_version": "1.5.0",
       "_view_name": "HTMLView",
       "description": "",
       "description_tooltip": null,
       "layout": "IPY_MODEL_7b41f76e1dc945aeaa24faf7dbbadf4e",
       "placeholder": "​",
       "style": "IPY_MODEL_f17b29f99c6f42f0ab5d2ee3d484a6ba",
       "value": " 2.41M/2.41M [00:00&lt;00:00, 17.7MB/s]"
      }
     },
     "fa987dbcb0a349ae98f17ee0a93deac4": {
      "model_module": "@jupyter-widgets/controls",
      "model_module_version": "1.5.0",
      "model_name": "DescriptionStyleModel",
      "state": {
       "_model_module": "@jupyter-widgets/controls",
       "_model_module_version": "1.5.0",
       "_model_name": "DescriptionStyleModel",
       "_view_count": null,
       "_view_module": "@jupyter-widgets/base",
       "_view_module_version": "1.2.0",
       "_view_name": "StyleView",
       "description_width": ""
      }
     },
     "fae6d5205fb34f45b1398fc6a2c32080": {
      "model_module": "@jupyter-widgets/base",
      "model_module_version": "1.2.0",
      "model_name": "LayoutModel",
      "state": {
       "_model_module": "@jupyter-widgets/base",
       "_model_module_version": "1.2.0",
       "_model_name": "LayoutModel",
       "_view_count": null,
       "_view_module": "@jupyter-widgets/base",
       "_view_module_version": "1.2.0",
       "_view_name": "LayoutView",
       "align_content": null,
       "align_items": null,
       "align_self": null,
       "border": null,
       "bottom": null,
       "display": null,
       "flex": null,
       "flex_flow": null,
       "grid_area": null,
       "grid_auto_columns": null,
       "grid_auto_flow": null,
       "grid_auto_rows": null,
       "grid_column": null,
       "grid_gap": null,
       "grid_row": null,
       "grid_template_areas": null,
       "grid_template_columns": null,
       "grid_template_rows": null,
       "height": null,
       "justify_content": null,
       "justify_items": null,
       "left": null,
       "margin": null,
       "max_height": null,
       "max_width": null,
       "min_height": null,
       "min_width": null,
       "object_fit": null,
       "object_position": null,
       "order": null,
       "overflow": null,
       "overflow_x": null,
       "overflow_y": null,
       "padding": null,
       "right": null,
       "top": null,
       "visibility": null,
       "width": null
      }
     },
     "fbd534248f7243b1b5b1fe5a03853de6": {
      "model_module": "@jupyter-widgets/base",
      "model_module_version": "1.2.0",
      "model_name": "LayoutModel",
      "state": {
       "_model_module": "@jupyter-widgets/base",
       "_model_module_version": "1.2.0",
       "_model_name": "LayoutModel",
       "_view_count": null,
       "_view_module": "@jupyter-widgets/base",
       "_view_module_version": "1.2.0",
       "_view_name": "LayoutView",
       "align_content": null,
       "align_items": null,
       "align_self": null,
       "border": null,
       "bottom": null,
       "display": null,
       "flex": null,
       "flex_flow": null,
       "grid_area": null,
       "grid_auto_columns": null,
       "grid_auto_flow": null,
       "grid_auto_rows": null,
       "grid_column": null,
       "grid_gap": null,
       "grid_row": null,
       "grid_template_areas": null,
       "grid_template_columns": null,
       "grid_template_rows": null,
       "height": null,
       "justify_content": null,
       "justify_items": null,
       "left": null,
       "margin": null,
       "max_height": null,
       "max_width": null,
       "min_height": null,
       "min_width": null,
       "object_fit": null,
       "object_position": null,
       "order": null,
       "overflow": null,
       "overflow_x": null,
       "overflow_y": null,
       "padding": null,
       "right": null,
       "top": null,
       "visibility": null,
       "width": null
      }
     },
     "fca53fb48132430fbfb8bcfb4c95fa6d": {
      "model_module": "@jupyter-widgets/controls",
      "model_module_version": "1.5.0",
      "model_name": "FloatProgressModel",
      "state": {
       "_dom_classes": [],
       "_model_module": "@jupyter-widgets/controls",
       "_model_module_version": "1.5.0",
       "_model_name": "FloatProgressModel",
       "_view_count": null,
       "_view_module": "@jupyter-widgets/controls",
       "_view_module_version": "1.5.0",
       "_view_name": "ProgressView",
       "bar_style": "success",
       "description": "",
       "description_tooltip": null,
       "layout": "IPY_MODEL_e833ce7e08cf45d284fc7e00c386c453",
       "max": 2405679.0,
       "min": 0.0,
       "orientation": "horizontal",
       "style": "IPY_MODEL_a4ec6d954fb644e094d604e490a8e429",
       "value": 2405679.0
      }
     },
     "fdfd8e2c82e347fdaece2cf1ea6b5ff6": {
      "model_module": "@jupyter-widgets/controls",
      "model_module_version": "1.5.0",
      "model_name": "FloatProgressModel",
      "state": {
       "_dom_classes": [],
       "_model_module": "@jupyter-widgets/controls",
       "_model_module_version": "1.5.0",
       "_model_name": "FloatProgressModel",
       "_view_count": null,
       "_view_module": "@jupyter-widgets/controls",
       "_view_module_version": "1.5.0",
       "_view_name": "ProgressView",
       "bar_style": "success",
       "description": "",
       "description_tooltip": null,
       "layout": "IPY_MODEL_399999d544f24587bae505cf6eb4ec7f",
       "max": 456318.0,
       "min": 0.0,
       "orientation": "horizontal",
       "style": "IPY_MODEL_eacaad6ef01b441c9c04f183539ccb1d",
       "value": 456318.0
      }
     },
     "ff343d3ff18247cfb8b5e6d023dc846b": {
      "model_module": "@jupyter-widgets/controls",
      "model_module_version": "1.5.0",
      "model_name": "HBoxModel",
      "state": {
       "_dom_classes": [],
       "_model_module": "@jupyter-widgets/controls",
       "_model_module_version": "1.5.0",
       "_model_name": "HBoxModel",
       "_view_count": null,
       "_view_module": "@jupyter-widgets/controls",
       "_view_module_version": "1.5.0",
       "_view_name": "HBoxView",
       "box_style": "",
       "children": [
        "IPY_MODEL_b64aa7a7c83048bab9b7b67ffbf0129c",
        "IPY_MODEL_d7eaec5abf694f939f84e46a43660239",
        "IPY_MODEL_58fbc493f0fc45f2b2068730f6494900"
       ],
       "layout": "IPY_MODEL_797de576b8dc4352954ae8217675f5fd"
      }
     }
    },
    "version_major": 2,
    "version_minor": 0
   }
  }
 },
 "nbformat": 4,
 "nbformat_minor": 5
}

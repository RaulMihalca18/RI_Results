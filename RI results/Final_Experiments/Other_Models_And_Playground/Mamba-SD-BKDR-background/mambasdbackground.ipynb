{
 "cells": [
  {
   "cell_type": "code",
   "execution_count": 1,
   "id": "aa2490be",
   "metadata": {
    "execution": {
     "iopub.execute_input": "2024-10-10T14:58:18.380255Z",
     "iopub.status.busy": "2024-10-10T14:58:18.379861Z",
     "iopub.status.idle": "2024-10-10T14:59:02.592332Z",
     "shell.execute_reply": "2024-10-10T14:59:02.591345Z"
    },
    "papermill": {
     "duration": 44.224009,
     "end_time": "2024-10-10T14:59:02.594880",
     "exception": false,
     "start_time": "2024-10-10T14:58:18.370871",
     "status": "completed"
    },
    "tags": []
   },
   "outputs": [
    {
     "name": "stdout",
     "output_type": "stream",
     "text": [
      "Collecting einops\r\n",
      "  Downloading einops-0.8.0-py3-none-any.whl.metadata (12 kB)\r\n",
      "Collecting mamba_ssm\r\n",
      "  Downloading mamba_ssm-2.2.2.tar.gz (85 kB)\r\n",
      "\u001b[2K     \u001b[90m━━━━━━━━━━━━━━━━━━━━━━━━━━━━━━━━━━━━━━━━\u001b[0m \u001b[32m85.4/85.4 kB\u001b[0m \u001b[31m2.1 MB/s\u001b[0m eta \u001b[36m0:00:00\u001b[0m\r\n",
      "\u001b[?25h  Preparing metadata (setup.py) ... \u001b[?25l-\b \bdone\r\n",
      "\u001b[?25hRequirement already satisfied: torch in /opt/conda/lib/python3.10/site-packages (from mamba_ssm) (2.4.0)\r\n",
      "Requirement already satisfied: packaging in /opt/conda/lib/python3.10/site-packages (from mamba_ssm) (21.3)\r\n",
      "Requirement already satisfied: ninja in /opt/conda/lib/python3.10/site-packages (from mamba_ssm) (1.11.1.1)\r\n",
      "Collecting triton (from mamba_ssm)\r\n",
      "  Downloading triton-3.0.0-1-cp310-cp310-manylinux2014_x86_64.manylinux_2_17_x86_64.whl.metadata (1.3 kB)\r\n",
      "Requirement already satisfied: transformers in /opt/conda/lib/python3.10/site-packages (from mamba_ssm) (4.45.1)\r\n",
      "Requirement already satisfied: pyparsing!=3.0.5,>=2.0.2 in /opt/conda/lib/python3.10/site-packages (from packaging->mamba_ssm) (3.1.2)\r\n",
      "Requirement already satisfied: filelock in /opt/conda/lib/python3.10/site-packages (from torch->mamba_ssm) (3.15.1)\r\n",
      "Requirement already satisfied: typing-extensions>=4.8.0 in /opt/conda/lib/python3.10/site-packages (from torch->mamba_ssm) (4.12.2)\r\n",
      "Requirement already satisfied: sympy in /opt/conda/lib/python3.10/site-packages (from torch->mamba_ssm) (1.13.3)\r\n",
      "Requirement already satisfied: networkx in /opt/conda/lib/python3.10/site-packages (from torch->mamba_ssm) (3.3)\r\n",
      "Requirement already satisfied: jinja2 in /opt/conda/lib/python3.10/site-packages (from torch->mamba_ssm) (3.1.4)\r\n",
      "Requirement already satisfied: fsspec in /opt/conda/lib/python3.10/site-packages (from torch->mamba_ssm) (2024.6.1)\r\n",
      "Requirement already satisfied: huggingface-hub<1.0,>=0.23.2 in /opt/conda/lib/python3.10/site-packages (from transformers->mamba_ssm) (0.25.1)\r\n",
      "Requirement already satisfied: numpy>=1.17 in /opt/conda/lib/python3.10/site-packages (from transformers->mamba_ssm) (1.26.4)\r\n",
      "Requirement already satisfied: pyyaml>=5.1 in /opt/conda/lib/python3.10/site-packages (from transformers->mamba_ssm) (6.0.2)\r\n",
      "Requirement already satisfied: regex!=2019.12.17 in /opt/conda/lib/python3.10/site-packages (from transformers->mamba_ssm) (2024.5.15)\r\n",
      "Requirement already satisfied: requests in /opt/conda/lib/python3.10/site-packages (from transformers->mamba_ssm) (2.32.3)\r\n",
      "Requirement already satisfied: safetensors>=0.4.1 in /opt/conda/lib/python3.10/site-packages (from transformers->mamba_ssm) (0.4.5)\r\n",
      "Requirement already satisfied: tokenizers<0.21,>=0.20 in /opt/conda/lib/python3.10/site-packages (from transformers->mamba_ssm) (0.20.0)\r\n",
      "Requirement already satisfied: tqdm>=4.27 in /opt/conda/lib/python3.10/site-packages (from transformers->mamba_ssm) (4.66.4)\r\n",
      "Requirement already satisfied: MarkupSafe>=2.0 in /opt/conda/lib/python3.10/site-packages (from jinja2->torch->mamba_ssm) (2.1.5)\r\n",
      "Requirement already satisfied: charset-normalizer<4,>=2 in /opt/conda/lib/python3.10/site-packages (from requests->transformers->mamba_ssm) (3.3.2)\r\n",
      "Requirement already satisfied: idna<4,>=2.5 in /opt/conda/lib/python3.10/site-packages (from requests->transformers->mamba_ssm) (3.7)\r\n",
      "Requirement already satisfied: urllib3<3,>=1.21.1 in /opt/conda/lib/python3.10/site-packages (from requests->transformers->mamba_ssm) (1.26.18)\r\n",
      "Requirement already satisfied: certifi>=2017.4.17 in /opt/conda/lib/python3.10/site-packages (from requests->transformers->mamba_ssm) (2024.8.30)\r\n",
      "Requirement already satisfied: mpmath<1.4,>=1.1.0 in /opt/conda/lib/python3.10/site-packages (from sympy->torch->mamba_ssm) (1.3.0)\r\n",
      "Downloading einops-0.8.0-py3-none-any.whl (43 kB)\r\n",
      "\u001b[2K   \u001b[90m━━━━━━━━━━━━━━━━━━━━━━━━━━━━━━━━━━━━━━━━\u001b[0m \u001b[32m43.2/43.2 kB\u001b[0m \u001b[31m2.6 MB/s\u001b[0m eta \u001b[36m0:00:00\u001b[0m\r\n",
      "\u001b[?25hDownloading triton-3.0.0-1-cp310-cp310-manylinux2014_x86_64.manylinux_2_17_x86_64.whl (209.4 MB)\r\n",
      "\u001b[2K   \u001b[90m━━━━━━━━━━━━━━━━━━━━━━━━━━━━━━━━━━━━━━━━\u001b[0m \u001b[32m209.4/209.4 MB\u001b[0m \u001b[31m7.6 MB/s\u001b[0m eta \u001b[36m0:00:00\u001b[0m\r\n",
      "\u001b[?25hBuilding wheels for collected packages: mamba_ssm\r\n",
      "  Building wheel for mamba_ssm (setup.py) ... \u001b[?25l-\b \b\\\b \b|\b \bdone\r\n",
      "\u001b[?25h  Created wheel for mamba_ssm: filename=mamba_ssm-2.2.2-cp310-cp310-linux_x86_64.whl size=323998290 sha256=a658a5438dbe9fb3a53799d7d9f4714ca09225769c24ec04a403728ac7d1c69e\r\n",
      "  Stored in directory: /root/.cache/pip/wheels/57/7c/90/9f963468ecc3791e36e388f9e7b4a4e1e3f90fbb340055aa4d\r\n",
      "Successfully built mamba_ssm\r\n",
      "Installing collected packages: triton, einops, mamba_ssm\r\n",
      "Successfully installed einops-0.8.0 mamba_ssm-2.2.2 triton-3.0.0\r\n"
     ]
    }
   ],
   "source": [
    "!pip install einops mamba_ssm"
   ]
  },
  {
   "cell_type": "code",
   "execution_count": 2,
   "id": "143f138b",
   "metadata": {
    "execution": {
     "iopub.execute_input": "2024-10-10T14:59:02.624993Z",
     "iopub.status.busy": "2024-10-10T14:59:02.624343Z",
     "iopub.status.idle": "2024-10-10T14:59:11.471582Z",
     "shell.execute_reply": "2024-10-10T14:59:11.470481Z"
    },
    "papermill": {
     "duration": 8.864526,
     "end_time": "2024-10-10T14:59:11.474265",
     "exception": false,
     "start_time": "2024-10-10T14:59:02.609739",
     "status": "completed"
    },
    "tags": []
   },
   "outputs": [],
   "source": [
    "import os\n",
    "import glob\n",
    "import torch\n",
    "import random\n",
    "import numpy as np\n",
    "import torch\n",
    "import torchaudio\n",
    "import pandas as pd\n",
    "import torch.nn as nn\n",
    "import torch.optim as optim\n",
    "from torch.utils.data import Dataset, DataLoader\n",
    "from sklearn.model_selection import train_test_split\n",
    "from torchaudio.transforms import MelSpectrogram\n",
    "from torch.nn.utils.rnn import pad_sequence\n",
    "from IPython.display import Audio, display\n",
    "from tqdm import tqdm\n",
    "import torch.nn.functional as F\n",
    "from itertools import product\n",
    "import matplotlib.pyplot as plt\n",
    "from transformers import AutoModelForImageClassification\n",
    "from PIL import Image\n",
    "from timm.data.transforms_factory import create_transform\n",
    "import requests"
   ]
  },
  {
   "cell_type": "code",
   "execution_count": 3,
   "id": "1fb45139",
   "metadata": {
    "execution": {
     "iopub.execute_input": "2024-10-10T14:59:11.503649Z",
     "iopub.status.busy": "2024-10-10T14:59:11.503262Z",
     "iopub.status.idle": "2024-10-10T14:59:11.611491Z",
     "shell.execute_reply": "2024-10-10T14:59:11.610172Z"
    },
    "papermill": {
     "duration": 0.125964,
     "end_time": "2024-10-10T14:59:11.614032",
     "exception": false,
     "start_time": "2024-10-10T14:59:11.488068",
     "status": "completed"
    },
    "tags": []
   },
   "outputs": [
    {
     "name": "stdout",
     "output_type": "stream",
     "text": [
      "GPU: Tesla T4\n"
     ]
    }
   ],
   "source": [
    "seed = 123\n",
    "random.seed(seed)\n",
    "np.random.seed(seed)\n",
    "torch.manual_seed(seed)\n",
    "torch.backends.cudnn.deterministic = True\n",
    "\n",
    "device = torch.device('cuda' if torch.cuda.is_available() else 'cpu')\n",
    "\n",
    "if str(device) == 'cuda':\n",
    "    current_device = torch.cuda.current_device()\n",
    "    gpu_name = torch.cuda.get_device_name(current_device)\n",
    "    torch.cuda.manual_seed(seed)\n",
    "    torch.cuda.manual_seed_all(seed)\n",
    "    print(f\"GPU: {gpu_name}\")"
   ]
  },
  {
   "cell_type": "code",
   "execution_count": 4,
   "id": "8b48f346",
   "metadata": {
    "execution": {
     "iopub.execute_input": "2024-10-10T14:59:11.650832Z",
     "iopub.status.busy": "2024-10-10T14:59:11.648558Z",
     "iopub.status.idle": "2024-10-10T14:59:12.158636Z",
     "shell.execute_reply": "2024-10-10T14:59:12.157598Z"
    },
    "papermill": {
     "duration": 0.530496,
     "end_time": "2024-10-10T14:59:12.161158",
     "exception": false,
     "start_time": "2024-10-10T14:59:11.630662",
     "status": "completed"
    },
    "tags": []
   },
   "outputs": [],
   "source": [
    "def load_data(data_dir):\n",
    "    wav_files = glob.glob(f\"{data_dir}/*.wav\")\n",
    "    data = []\n",
    "    \n",
    "    for wav_file in wav_files:\n",
    "        label = int(os.path.basename(wav_file).split('_')[0])\n",
    "        data.append((wav_file, label))\n",
    "        \n",
    "    return pd.DataFrame(data, columns=['wavfile', 'label'])\n",
    "\n",
    "data_dir = '/kaggle/input/spoken-digits/recordings'\n",
    "data = load_data(data_dir)"
   ]
  },
  {
   "cell_type": "code",
   "execution_count": 5,
   "id": "4b81c1dc",
   "metadata": {
    "execution": {
     "iopub.execute_input": "2024-10-10T14:59:12.194017Z",
     "iopub.status.busy": "2024-10-10T14:59:12.193593Z",
     "iopub.status.idle": "2024-10-10T14:59:12.212109Z",
     "shell.execute_reply": "2024-10-10T14:59:12.211177Z"
    },
    "papermill": {
     "duration": 0.038235,
     "end_time": "2024-10-10T14:59:12.214525",
     "exception": false,
     "start_time": "2024-10-10T14:59:12.176290",
     "status": "completed"
    },
    "tags": []
   },
   "outputs": [],
   "source": [
    "train_data, test_data = train_test_split(data, test_size=0.2, stratify=data['label'])\n",
    "train_data = train_data.reset_index(drop=True)\n",
    "test_data = test_data.reset_index(drop=True)"
   ]
  },
  {
   "cell_type": "code",
   "execution_count": 6,
   "id": "3d91c02b",
   "metadata": {
    "execution": {
     "iopub.execute_input": "2024-10-10T14:59:12.246248Z",
     "iopub.status.busy": "2024-10-10T14:59:12.245897Z",
     "iopub.status.idle": "2024-10-10T14:59:12.256675Z",
     "shell.execute_reply": "2024-10-10T14:59:12.255832Z"
    },
    "papermill": {
     "duration": 0.029147,
     "end_time": "2024-10-10T14:59:12.258799",
     "exception": false,
     "start_time": "2024-10-10T14:59:12.229652",
     "status": "completed"
    },
    "tags": []
   },
   "outputs": [],
   "source": [
    "class AudioDataset(Dataset):\n",
    "    def __init__(self, df, target_sample_rate=16000, n_mels=64):\n",
    "        self.df = df\n",
    "        self.target_sample_rate = target_sample_rate\n",
    "        self.mel_transform = MelSpectrogram(sample_rate=self.target_sample_rate, n_mels=n_mels)\n",
    "\n",
    "    def __len__(self):\n",
    "        return len(self.df)\n",
    "\n",
    "    def __getitem__(self, idx):\n",
    "        audio_path = self.df.iloc[idx]['wavfile']\n",
    "        label = self.df.iloc[idx]['label']\n",
    "        audio_data, sample_rate = torchaudio.load(audio_path)\n",
    "        \n",
    "        if sample_rate != self.target_sample_rate:\n",
    "            resampler = torchaudio.transforms.Resample(orig_freq=sample_rate, new_freq=self.target_sample_rate)\n",
    "            audio_data = resampler(audio_data)\n",
    "        \n",
    "        mel_spectrogram = self.mel_transform(audio_data)\n",
    "        mel_spectrogram = mel_spectrogram.squeeze(0) \n",
    "        \n",
    "        return mel_spectrogram, label\n",
    "    \n",
    "    def display_spectrogram(self, idx):\n",
    "        \n",
    "        mel_spectrogram, label = self.__getitem__(idx)\n",
    "        \n",
    "        mel_spectrogram_np = mel_spectrogram.numpy()\n",
    "        \n",
    "        print(mel_spectrogram_np)\n",
    "\n",
    "        plt.figure(figsize=(10, 4))\n",
    "        plt.imshow(mel_spectrogram_np, aspect='auto', origin='lower')\n",
    "        plt.title(f'Spectrogram - Label: {label}')\n",
    "        plt.xlabel('Time (frames)')\n",
    "        plt.ylabel('Mel Frequency (bins)')\n",
    "        plt.colorbar(format='%+2.0f dB')\n",
    "        plt.show()"
   ]
  },
  {
   "cell_type": "code",
   "execution_count": 7,
   "id": "199f2603",
   "metadata": {
    "execution": {
     "iopub.execute_input": "2024-10-10T14:59:12.287585Z",
     "iopub.status.busy": "2024-10-10T14:59:12.287240Z",
     "iopub.status.idle": "2024-10-10T14:59:12.295266Z",
     "shell.execute_reply": "2024-10-10T14:59:12.294350Z"
    },
    "papermill": {
     "duration": 0.025208,
     "end_time": "2024-10-10T14:59:12.297249",
     "exception": false,
     "start_time": "2024-10-10T14:59:12.272041",
     "status": "completed"
    },
    "tags": []
   },
   "outputs": [],
   "source": [
    "def pre_dataloader(batch):\n",
    "    audios, labels = zip(*batch)\n",
    "    \n",
    "    audios = [audio.squeeze(0) if audio.dim() == 3 else audio for audio in audios]\n",
    "\n",
    "    max_freq_len = max([audio.size(0) for audio in audios])\n",
    "    max_time_len = max([audio.size(1) for audio in audios]) \n",
    "    \n",
    "    audios_padded = [\n",
    "        F.pad(audio, (0, max_time_len - audio.size(1), 0, max_freq_len - audio.size(0)), \"constant\", 0)\n",
    "        for audio in audios\n",
    "    ]\n",
    "    \n",
    "    # audios_padded should have the shape (batch_size, 1, n_mels, time)\n",
    "    audios_padded = torch.stack(audios_padded, dim=0).unsqueeze(1)\n",
    "    labels = torch.tensor(labels)\n",
    "    \n",
    "    return audios_padded, labels\n"
   ]
  },
  {
   "cell_type": "code",
   "execution_count": 8,
   "id": "b0518b85",
   "metadata": {
    "execution": {
     "iopub.execute_input": "2024-10-10T14:59:12.326274Z",
     "iopub.status.busy": "2024-10-10T14:59:12.325422Z",
     "iopub.status.idle": "2024-10-10T14:59:13.002599Z",
     "shell.execute_reply": "2024-10-10T14:59:13.001594Z"
    },
    "papermill": {
     "duration": 0.693868,
     "end_time": "2024-10-10T14:59:13.004673",
     "exception": false,
     "start_time": "2024-10-10T14:59:12.310805",
     "status": "completed"
    },
    "tags": []
   },
   "outputs": [
    {
     "name": "stdout",
     "output_type": "stream",
     "text": [
      "[[5.71974728e-04 2.35045794e-04 6.52927920e-05 ... 3.42321837e-05\n",
      "  2.24772484e-05 4.08671585e-05]\n",
      " [7.05044484e-04 3.23318265e-04 1.30544868e-04 ... 7.07505314e-05\n",
      "  1.18126263e-04 1.05906896e-04]\n",
      " [1.02604507e-03 5.46499447e-04 3.03218316e-04 ... 1.67551101e-04\n",
      "  3.76433687e-04 2.79736443e-04]\n",
      " ...\n",
      " [1.80184934e-08 2.19926629e-11 1.12160073e-11 ... 1.79230953e-11\n",
      "  2.19191471e-11 1.63864894e-11]\n",
      " [1.76044246e-08 5.25259211e-11 3.46933628e-11 ... 1.36821068e-10\n",
      "  5.90308843e-11 4.20102009e-11]\n",
      " [1.81898159e-08 5.62173190e-11 7.12954626e-11 ... 6.75008438e-10\n",
      "  6.71388639e-11 1.29324107e-10]]\n"
     ]
    },
    {
     "data": {
      "image/png": "[encoded data removed]",
      "text/plain": [
       "<Figure size 1000x400 with 2 Axes>"
      ]
     },
     "metadata": {},
     "output_type": "display_data"
    }
   ],
   "source": [
    "train_dataset = AudioDataset(train_data)\n",
    "train_dataset.display_spectrogram(2)"
   ]
  },
  {
   "cell_type": "code",
   "execution_count": 9,
   "id": "b1d3cf68",
   "metadata": {
    "execution": {
     "iopub.execute_input": "2024-10-10T14:59:13.037320Z",
     "iopub.status.busy": "2024-10-10T14:59:13.036978Z",
     "iopub.status.idle": "2024-10-10T14:59:13.044148Z",
     "shell.execute_reply": "2024-10-10T14:59:13.043319Z"
    },
    "papermill": {
     "duration": 0.026712,
     "end_time": "2024-10-10T14:59:13.046166",
     "exception": false,
     "start_time": "2024-10-10T14:59:13.019454",
     "status": "completed"
    },
    "tags": []
   },
   "outputs": [],
   "source": [
    "test_dataset = AudioDataset(test_data)\n",
    "\n",
    "train_loader = DataLoader(train_dataset, batch_size=32, shuffle=True, collate_fn=pre_dataloader)\n",
    "test_loader = DataLoader(test_dataset, batch_size=32, shuffle=False, collate_fn=pre_dataloader)"
   ]
  },
  {
   "cell_type": "code",
   "execution_count": 10,
   "id": "f645e7d2",
   "metadata": {
    "execution": {
     "iopub.execute_input": "2024-10-10T14:59:13.076204Z",
     "iopub.status.busy": "2024-10-10T14:59:13.075819Z",
     "iopub.status.idle": "2024-10-10T14:59:26.327246Z",
     "shell.execute_reply": "2024-10-10T14:59:26.326170Z"
    },
    "papermill": {
     "duration": 13.269036,
     "end_time": "2024-10-10T14:59:26.329469",
     "exception": false,
     "start_time": "2024-10-10T14:59:13.060433",
     "status": "completed"
    },
    "tags": []
   },
   "outputs": [
    {
     "data": {
      "application/vnd.jupyter.widget-view+json": {
       "model_id": "37bb0f6f28c54958a794bf54055ff58c",
       "version_major": 2,
       "version_minor": 0
      },
      "text/plain": [
       "config.json:   0%|          | 0.00/36.4k [00:00<?, ?B/s]"
      ]
     },
     "metadata": {},
     "output_type": "display_data"
    },
    {
     "data": {
      "application/vnd.jupyter.widget-view+json": {
       "model_id": "3a2cb8ba8d88413c9da63b32808a957f",
       "version_major": 2,
       "version_minor": 0
      },
      "text/plain": [
       "configuration_mambavision.py:   0%|          | 0.00/625 [00:00<?, ?B/s]"
      ]
     },
     "metadata": {},
     "output_type": "display_data"
    },
    {
     "name": "stderr",
     "output_type": "stream",
     "text": [
      "A new version of the following files was downloaded from https://huggingface.co/nvidia/MambaVision-S-1K:\n",
      "- configuration_mambavision.py\n",
      ". Make sure to double-check they do not contain any added malicious code. To avoid downloading new versions of the code file, you can pin a revision.\n"
     ]
    },
    {
     "data": {
      "application/vnd.jupyter.widget-view+json": {
       "model_id": "9b7a82a6630f4f4f80c82eafc1e024a1",
       "version_major": 2,
       "version_minor": 0
      },
      "text/plain": [
       "modeling_mambavision.py:   0%|          | 0.00/27.9k [00:00<?, ?B/s]"
      ]
     },
     "metadata": {},
     "output_type": "display_data"
    },
    {
     "name": "stderr",
     "output_type": "stream",
     "text": [
      "/opt/conda/lib/python3.10/site-packages/mamba_ssm/ops/selective_scan_interface.py:164: FutureWarning: `torch.cuda.amp.custom_fwd(args...)` is deprecated. Please use `torch.amp.custom_fwd(args..., device_type='cuda')` instead.\n",
      "  def forward(ctx, xz, conv1d_weight, conv1d_bias, x_proj_weight, delta_proj_weight,\n",
      "/opt/conda/lib/python3.10/site-packages/mamba_ssm/ops/selective_scan_interface.py:240: FutureWarning: `torch.cuda.amp.custom_bwd(args...)` is deprecated. Please use `torch.amp.custom_bwd(args..., device_type='cuda')` instead.\n",
      "  def backward(ctx, dout):\n",
      "/opt/conda/lib/python3.10/site-packages/mamba_ssm/ops/triton/layer_norm.py:986: FutureWarning: `torch.cuda.amp.custom_fwd(args...)` is deprecated. Please use `torch.amp.custom_fwd(args..., device_type='cuda')` instead.\n",
      "  def forward(\n",
      "/opt/conda/lib/python3.10/site-packages/mamba_ssm/ops/triton/layer_norm.py:1045: FutureWarning: `torch.cuda.amp.custom_bwd(args...)` is deprecated. Please use `torch.amp.custom_bwd(args..., device_type='cuda')` instead.\n",
      "  def backward(ctx, dout, *args):\n",
      "/opt/conda/lib/python3.10/site-packages/mamba_ssm/distributed/tensor_parallel.py:26: FutureWarning: `torch.cuda.amp.custom_fwd(args...)` is deprecated. Please use `torch.amp.custom_fwd(args..., device_type='cuda')` instead.\n",
      "  def forward(ctx, x, weight, bias, process_group=None, sequence_parallel=True):\n",
      "/opt/conda/lib/python3.10/site-packages/mamba_ssm/distributed/tensor_parallel.py:62: FutureWarning: `torch.cuda.amp.custom_bwd(args...)` is deprecated. Please use `torch.amp.custom_bwd(args..., device_type='cuda')` instead.\n",
      "  def backward(ctx, grad_output):\n",
      "/opt/conda/lib/python3.10/site-packages/mamba_ssm/ops/triton/ssd_combined.py:758: FutureWarning: `torch.cuda.amp.custom_fwd(args...)` is deprecated. Please use `torch.amp.custom_fwd(args..., device_type='cuda')` instead.\n",
      "  def forward(ctx, zxbcdt, conv1d_weight, conv1d_bias, dt_bias, A, D, chunk_size, initial_states=None, seq_idx=None, dt_limit=(0.0, float(\"inf\")), return_final_states=False, activation=\"silu\",\n",
      "/opt/conda/lib/python3.10/site-packages/mamba_ssm/ops/triton/ssd_combined.py:836: FutureWarning: `torch.cuda.amp.custom_bwd(args...)` is deprecated. Please use `torch.amp.custom_bwd(args..., device_type='cuda')` instead.\n",
      "  def backward(ctx, dout, *args):\n",
      "A new version of the following files was downloaded from https://huggingface.co/nvidia/MambaVision-S-1K:\n",
      "- modeling_mambavision.py\n",
      ". Make sure to double-check they do not contain any added malicious code. To avoid downloading new versions of the code file, you can pin a revision.\n"
     ]
    },
    {
     "data": {
      "application/vnd.jupyter.widget-view+json": {
       "model_id": "ba27ce589a20434d9a5012ff904ed880",
       "version_major": 2,
       "version_minor": 0
      },
      "text/plain": [
       "model.safetensors:   0%|          | 0.00/201M [00:00<?, ?B/s]"
      ]
     },
     "metadata": {},
     "output_type": "display_data"
    },
    {
     "name": "stdout",
     "output_type": "stream",
     "text": [
      "Predicted class: brown bear, bruin, Ursus arctos\n"
     ]
    }
   ],
   "source": [
    "# credits: https://huggingface.co/nvidia/MambaVision-S-1K\n",
    "\n",
    "model = AutoModelForImageClassification.from_pretrained(\"nvidia/MambaVision-S-1K\", trust_remote_code=True)\n",
    "\n",
    "# eval mode for inference\n",
    "model.cuda().eval()\n",
    "\n",
    "# prepare image for the model\n",
    "url = 'http://images.cocodataset.org/val2017/000000020247.jpg'\n",
    "image = Image.open(requests.get(url, stream=True).raw)\n",
    "input_resolution = (3, 224, 224)  # MambaVision supports any input resolutions\n",
    "\n",
    "transform = create_transform(input_size=input_resolution,\n",
    "                             is_training=False,\n",
    "                             mean=model.config.mean,\n",
    "                             std=model.config.std,\n",
    "                             crop_mode=model.config.crop_mode,\n",
    "                             crop_pct=model.config.crop_pct)\n",
    "\n",
    "inputs = transform(image).unsqueeze(0).cuda()\n",
    "# model inference\n",
    "outputs = model(inputs)\n",
    "logits = outputs['logits'] \n",
    "predicted_class_idx = logits.argmax(-1).item()\n",
    "print(\"Predicted class:\", model.config.id2label[predicted_class_idx])\n"
   ]
  },
  {
   "cell_type": "code",
   "execution_count": 11,
   "id": "30564bca",
   "metadata": {
    "execution": {
     "iopub.execute_input": "2024-10-10T14:59:26.361911Z",
     "iopub.status.busy": "2024-10-10T14:59:26.361514Z",
     "iopub.status.idle": "2024-10-10T14:59:27.574661Z",
     "shell.execute_reply": "2024-10-10T14:59:27.573653Z"
    },
    "papermill": {
     "duration": 1.232438,
     "end_time": "2024-10-10T14:59:27.577518",
     "exception": false,
     "start_time": "2024-10-10T14:59:26.345080",
     "status": "completed"
    },
    "tags": []
   },
   "outputs": [],
   "source": [
    "model = AutoModelForImageClassification.from_pretrained(\"nvidia/MambaVision-S-1K\", trust_remote_code=True)"
   ]
  },
  {
   "cell_type": "code",
   "execution_count": 12,
   "id": "27a540c1",
   "metadata": {
    "execution": {
     "iopub.execute_input": "2024-10-10T14:59:27.612669Z",
     "iopub.status.busy": "2024-10-10T14:59:27.612310Z",
     "iopub.status.idle": "2024-10-10T14:59:27.620835Z",
     "shell.execute_reply": "2024-10-10T14:59:27.619740Z"
    },
    "papermill": {
     "duration": 0.028285,
     "end_time": "2024-10-10T14:59:27.624298",
     "exception": false,
     "start_time": "2024-10-10T14:59:27.596013",
     "status": "completed"
    },
    "tags": []
   },
   "outputs": [
    {
     "name": "stdout",
     "output_type": "stream",
     "text": [
      "MambaVisionModelForImageClassification(\n",
      "  (model): MambaVision(\n",
      "    (patch_embed): PatchEmbed(\n",
      "      (proj): Identity()\n",
      "      (conv_down): Sequential(\n",
      "        (0): Conv2d(3, 64, kernel_size=(3, 3), stride=(2, 2), padding=(1, 1), bias=False)\n",
      "        (1): BatchNorm2d(64, eps=0.0001, momentum=0.1, affine=True, track_running_stats=True)\n",
      "        (2): ReLU()\n",
      "        (3): Conv2d(64, 96, kernel_size=(3, 3), stride=(2, 2), padding=(1, 1), bias=False)\n",
      "        (4): BatchNorm2d(96, eps=0.0001, momentum=0.1, affine=True, track_running_stats=True)\n",
      "        (5): ReLU()\n",
      "      )\n",
      "    )\n",
      "    (levels): ModuleList(\n",
      "      (0): MambaVisionLayer(\n",
      "        (blocks): ModuleList(\n",
      "          (0): ConvBlock(\n",
      "            (conv1): Conv2d(96, 96, kernel_size=(3, 3), stride=(1, 1), padding=(1, 1))\n",
      "            (norm1): BatchNorm2d(96, eps=1e-05, momentum=0.1, affine=True, track_running_stats=True)\n",
      "            (act1): GELU(approximate='tanh')\n",
      "            (conv2): Conv2d(96, 96, kernel_size=(3, 3), stride=(1, 1), padding=(1, 1))\n",
      "            (norm2): BatchNorm2d(96, eps=1e-05, momentum=0.1, affine=True, track_running_stats=True)\n",
      "            (drop_path): Identity()\n",
      "          )\n",
      "          (1): ConvBlock(\n",
      "            (conv1): Conv2d(96, 96, kernel_size=(3, 3), stride=(1, 1), padding=(1, 1))\n",
      "            (norm1): BatchNorm2d(96, eps=1e-05, momentum=0.1, affine=True, track_running_stats=True)\n",
      "            (act1): GELU(approximate='tanh')\n",
      "            (conv2): Conv2d(96, 96, kernel_size=(3, 3), stride=(1, 1), padding=(1, 1))\n",
      "            (norm2): BatchNorm2d(96, eps=1e-05, momentum=0.1, affine=True, track_running_stats=True)\n",
      "            (drop_path): DropPath(drop_prob=0.012)\n",
      "          )\n",
      "          (2): ConvBlock(\n",
      "            (conv1): Conv2d(96, 96, kernel_size=(3, 3), stride=(1, 1), padding=(1, 1))\n",
      "            (norm1): BatchNorm2d(96, eps=1e-05, momentum=0.1, affine=True, track_running_stats=True)\n",
      "            (act1): GELU(approximate='tanh')\n",
      "            (conv2): Conv2d(96, 96, kernel_size=(3, 3), stride=(1, 1), padding=(1, 1))\n",
      "            (norm2): BatchNorm2d(96, eps=1e-05, momentum=0.1, affine=True, track_running_stats=True)\n",
      "            (drop_path): DropPath(drop_prob=0.024)\n",
      "          )\n",
      "        )\n",
      "        (downsample): Downsample(\n",
      "          (reduction): Sequential(\n",
      "            (0): Conv2d(96, 192, kernel_size=(3, 3), stride=(2, 2), padding=(1, 1), bias=False)\n",
      "          )\n",
      "        )\n",
      "      )\n",
      "      (1): MambaVisionLayer(\n",
      "        (blocks): ModuleList(\n",
      "          (0): ConvBlock(\n",
      "            (conv1): Conv2d(192, 192, kernel_size=(3, 3), stride=(1, 1), padding=(1, 1))\n",
      "            (norm1): BatchNorm2d(192, eps=1e-05, momentum=0.1, affine=True, track_running_stats=True)\n",
      "            (act1): GELU(approximate='tanh')\n",
      "            (conv2): Conv2d(192, 192, kernel_size=(3, 3), stride=(1, 1), padding=(1, 1))\n",
      "            (norm2): BatchNorm2d(192, eps=1e-05, momentum=0.1, affine=True, track_running_stats=True)\n",
      "            (drop_path): DropPath(drop_prob=0.035)\n",
      "          )\n",
      "          (1): ConvBlock(\n",
      "            (conv1): Conv2d(192, 192, kernel_size=(3, 3), stride=(1, 1), padding=(1, 1))\n",
      "            (norm1): BatchNorm2d(192, eps=1e-05, momentum=0.1, affine=True, track_running_stats=True)\n",
      "            (act1): GELU(approximate='tanh')\n",
      "            (conv2): Conv2d(192, 192, kernel_size=(3, 3), stride=(1, 1), padding=(1, 1))\n",
      "            (norm2): BatchNorm2d(192, eps=1e-05, momentum=0.1, affine=True, track_running_stats=True)\n",
      "            (drop_path): DropPath(drop_prob=0.047)\n",
      "          )\n",
      "          (2): ConvBlock(\n",
      "            (conv1): Conv2d(192, 192, kernel_size=(3, 3), stride=(1, 1), padding=(1, 1))\n",
      "            (norm1): BatchNorm2d(192, eps=1e-05, momentum=0.1, affine=True, track_running_stats=True)\n",
      "            (act1): GELU(approximate='tanh')\n",
      "            (conv2): Conv2d(192, 192, kernel_size=(3, 3), stride=(1, 1), padding=(1, 1))\n",
      "            (norm2): BatchNorm2d(192, eps=1e-05, momentum=0.1, affine=True, track_running_stats=True)\n",
      "            (drop_path): DropPath(drop_prob=0.059)\n",
      "          )\n",
      "        )\n",
      "        (downsample): Downsample(\n",
      "          (reduction): Sequential(\n",
      "            (0): Conv2d(192, 384, kernel_size=(3, 3), stride=(2, 2), padding=(1, 1), bias=False)\n",
      "          )\n",
      "        )\n",
      "      )\n",
      "      (2): MambaVisionLayer(\n",
      "        (blocks): ModuleList(\n",
      "          (0): Block(\n",
      "            (norm1): LayerNorm((384,), eps=1e-05, elementwise_affine=True)\n",
      "            (mixer): MambaVisionMixer(\n",
      "              (in_proj): Linear(in_features=384, out_features=384, bias=False)\n",
      "              (x_proj): Linear(in_features=192, out_features=40, bias=False)\n",
      "              (dt_proj): Linear(in_features=24, out_features=192, bias=True)\n",
      "              (out_proj): Linear(in_features=384, out_features=384, bias=False)\n",
      "              (conv1d_x): Conv1d(192, 192, kernel_size=(3,), stride=(1,), groups=192, bias=False)\n",
      "              (conv1d_z): Conv1d(192, 192, kernel_size=(3,), stride=(1,), groups=192, bias=False)\n",
      "            )\n",
      "            (drop_path): DropPath(drop_prob=0.071)\n",
      "            (norm2): LayerNorm((384,), eps=1e-05, elementwise_affine=True)\n",
      "            (mlp): Mlp(\n",
      "              (fc1): Linear(in_features=384, out_features=1536, bias=True)\n",
      "              (act): GELU(approximate='none')\n",
      "              (drop1): Dropout(p=0.0, inplace=False)\n",
      "              (norm): Identity()\n",
      "              (fc2): Linear(in_features=1536, out_features=384, bias=True)\n",
      "              (drop2): Dropout(p=0.0, inplace=False)\n",
      "            )\n",
      "          )\n",
      "          (1): Block(\n",
      "            (norm1): LayerNorm((384,), eps=1e-05, elementwise_affine=True)\n",
      "            (mixer): MambaVisionMixer(\n",
      "              (in_proj): Linear(in_features=384, out_features=384, bias=False)\n",
      "              (x_proj): Linear(in_features=192, out_features=40, bias=False)\n",
      "              (dt_proj): Linear(in_features=24, out_features=192, bias=True)\n",
      "              (out_proj): Linear(in_features=384, out_features=384, bias=False)\n",
      "              (conv1d_x): Conv1d(192, 192, kernel_size=(3,), stride=(1,), groups=192, bias=False)\n",
      "              (conv1d_z): Conv1d(192, 192, kernel_size=(3,), stride=(1,), groups=192, bias=False)\n",
      "            )\n",
      "            (drop_path): DropPath(drop_prob=0.082)\n",
      "            (norm2): LayerNorm((384,), eps=1e-05, elementwise_affine=True)\n",
      "            (mlp): Mlp(\n",
      "              (fc1): Linear(in_features=384, out_features=1536, bias=True)\n",
      "              (act): GELU(approximate='none')\n",
      "              (drop1): Dropout(p=0.0, inplace=False)\n",
      "              (norm): Identity()\n",
      "              (fc2): Linear(in_features=1536, out_features=384, bias=True)\n",
      "              (drop2): Dropout(p=0.0, inplace=False)\n",
      "            )\n",
      "          )\n",
      "          (2): Block(\n",
      "            (norm1): LayerNorm((384,), eps=1e-05, elementwise_affine=True)\n",
      "            (mixer): MambaVisionMixer(\n",
      "              (in_proj): Linear(in_features=384, out_features=384, bias=False)\n",
      "              (x_proj): Linear(in_features=192, out_features=40, bias=False)\n",
      "              (dt_proj): Linear(in_features=24, out_features=192, bias=True)\n",
      "              (out_proj): Linear(in_features=384, out_features=384, bias=False)\n",
      "              (conv1d_x): Conv1d(192, 192, kernel_size=(3,), stride=(1,), groups=192, bias=False)\n",
      "              (conv1d_z): Conv1d(192, 192, kernel_size=(3,), stride=(1,), groups=192, bias=False)\n",
      "            )\n",
      "            (drop_path): DropPath(drop_prob=0.094)\n",
      "            (norm2): LayerNorm((384,), eps=1e-05, elementwise_affine=True)\n",
      "            (mlp): Mlp(\n",
      "              (fc1): Linear(in_features=384, out_features=1536, bias=True)\n",
      "              (act): GELU(approximate='none')\n",
      "              (drop1): Dropout(p=0.0, inplace=False)\n",
      "              (norm): Identity()\n",
      "              (fc2): Linear(in_features=1536, out_features=384, bias=True)\n",
      "              (drop2): Dropout(p=0.0, inplace=False)\n",
      "            )\n",
      "          )\n",
      "          (3): Block(\n",
      "            (norm1): LayerNorm((384,), eps=1e-05, elementwise_affine=True)\n",
      "            (mixer): MambaVisionMixer(\n",
      "              (in_proj): Linear(in_features=384, out_features=384, bias=False)\n",
      "              (x_proj): Linear(in_features=192, out_features=40, bias=False)\n",
      "              (dt_proj): Linear(in_features=24, out_features=192, bias=True)\n",
      "              (out_proj): Linear(in_features=384, out_features=384, bias=False)\n",
      "              (conv1d_x): Conv1d(192, 192, kernel_size=(3,), stride=(1,), groups=192, bias=False)\n",
      "              (conv1d_z): Conv1d(192, 192, kernel_size=(3,), stride=(1,), groups=192, bias=False)\n",
      "            )\n",
      "            (drop_path): DropPath(drop_prob=0.106)\n",
      "            (norm2): LayerNorm((384,), eps=1e-05, elementwise_affine=True)\n",
      "            (mlp): Mlp(\n",
      "              (fc1): Linear(in_features=384, out_features=1536, bias=True)\n",
      "              (act): GELU(approximate='none')\n",
      "              (drop1): Dropout(p=0.0, inplace=False)\n",
      "              (norm): Identity()\n",
      "              (fc2): Linear(in_features=1536, out_features=384, bias=True)\n",
      "              (drop2): Dropout(p=0.0, inplace=False)\n",
      "            )\n",
      "          )\n",
      "          (4): Block(\n",
      "            (norm1): LayerNorm((384,), eps=1e-05, elementwise_affine=True)\n",
      "            (mixer): Attention(\n",
      "              (qkv): Linear(in_features=384, out_features=1152, bias=True)\n",
      "              (q_norm): Identity()\n",
      "              (k_norm): Identity()\n",
      "              (attn_drop): Dropout(p=0.0, inplace=False)\n",
      "              (proj): Linear(in_features=384, out_features=384, bias=True)\n",
      "              (proj_drop): Dropout(p=0.0, inplace=False)\n",
      "            )\n",
      "            (drop_path): DropPath(drop_prob=0.118)\n",
      "            (norm2): LayerNorm((384,), eps=1e-05, elementwise_affine=True)\n",
      "            (mlp): Mlp(\n",
      "              (fc1): Linear(in_features=384, out_features=1536, bias=True)\n",
      "              (act): GELU(approximate='none')\n",
      "              (drop1): Dropout(p=0.0, inplace=False)\n",
      "              (norm): Identity()\n",
      "              (fc2): Linear(in_features=1536, out_features=384, bias=True)\n",
      "              (drop2): Dropout(p=0.0, inplace=False)\n",
      "            )\n",
      "          )\n",
      "          (5): Block(\n",
      "            (norm1): LayerNorm((384,), eps=1e-05, elementwise_affine=True)\n",
      "            (mixer): Attention(\n",
      "              (qkv): Linear(in_features=384, out_features=1152, bias=True)\n",
      "              (q_norm): Identity()\n",
      "              (k_norm): Identity()\n",
      "              (attn_drop): Dropout(p=0.0, inplace=False)\n",
      "              (proj): Linear(in_features=384, out_features=384, bias=True)\n",
      "              (proj_drop): Dropout(p=0.0, inplace=False)\n",
      "            )\n",
      "            (drop_path): DropPath(drop_prob=0.129)\n",
      "            (norm2): LayerNorm((384,), eps=1e-05, elementwise_affine=True)\n",
      "            (mlp): Mlp(\n",
      "              (fc1): Linear(in_features=384, out_features=1536, bias=True)\n",
      "              (act): GELU(approximate='none')\n",
      "              (drop1): Dropout(p=0.0, inplace=False)\n",
      "              (norm): Identity()\n",
      "              (fc2): Linear(in_features=1536, out_features=384, bias=True)\n",
      "              (drop2): Dropout(p=0.0, inplace=False)\n",
      "            )\n",
      "          )\n",
      "          (6): Block(\n",
      "            (norm1): LayerNorm((384,), eps=1e-05, elementwise_affine=True)\n",
      "            (mixer): Attention(\n",
      "              (qkv): Linear(in_features=384, out_features=1152, bias=True)\n",
      "              (q_norm): Identity()\n",
      "              (k_norm): Identity()\n",
      "              (attn_drop): Dropout(p=0.0, inplace=False)\n",
      "              (proj): Linear(in_features=384, out_features=384, bias=True)\n",
      "              (proj_drop): Dropout(p=0.0, inplace=False)\n",
      "            )\n",
      "            (drop_path): DropPath(drop_prob=0.141)\n",
      "            (norm2): LayerNorm((384,), eps=1e-05, elementwise_affine=True)\n",
      "            (mlp): Mlp(\n",
      "              (fc1): Linear(in_features=384, out_features=1536, bias=True)\n",
      "              (act): GELU(approximate='none')\n",
      "              (drop1): Dropout(p=0.0, inplace=False)\n",
      "              (norm): Identity()\n",
      "              (fc2): Linear(in_features=1536, out_features=384, bias=True)\n",
      "              (drop2): Dropout(p=0.0, inplace=False)\n",
      "            )\n",
      "          )\n",
      "        )\n",
      "        (downsample): Downsample(\n",
      "          (reduction): Sequential(\n",
      "            (0): Conv2d(384, 768, kernel_size=(3, 3), stride=(2, 2), padding=(1, 1), bias=False)\n",
      "          )\n",
      "        )\n",
      "      )\n",
      "      (3): MambaVisionLayer(\n",
      "        (blocks): ModuleList(\n",
      "          (0): Block(\n",
      "            (norm1): LayerNorm((768,), eps=1e-05, elementwise_affine=True)\n",
      "            (mixer): MambaVisionMixer(\n",
      "              (in_proj): Linear(in_features=768, out_features=768, bias=False)\n",
      "              (x_proj): Linear(in_features=384, out_features=64, bias=False)\n",
      "              (dt_proj): Linear(in_features=48, out_features=384, bias=True)\n",
      "              (out_proj): Linear(in_features=768, out_features=768, bias=False)\n",
      "              (conv1d_x): Conv1d(384, 384, kernel_size=(3,), stride=(1,), groups=384, bias=False)\n",
      "              (conv1d_z): Conv1d(384, 384, kernel_size=(3,), stride=(1,), groups=384, bias=False)\n",
      "            )\n",
      "            (drop_path): DropPath(drop_prob=0.153)\n",
      "            (norm2): LayerNorm((768,), eps=1e-05, elementwise_affine=True)\n",
      "            (mlp): Mlp(\n",
      "              (fc1): Linear(in_features=768, out_features=3072, bias=True)\n",
      "              (act): GELU(approximate='none')\n",
      "              (drop1): Dropout(p=0.0, inplace=False)\n",
      "              (norm): Identity()\n",
      "              (fc2): Linear(in_features=3072, out_features=768, bias=True)\n",
      "              (drop2): Dropout(p=0.0, inplace=False)\n",
      "            )\n",
      "          )\n",
      "          (1): Block(\n",
      "            (norm1): LayerNorm((768,), eps=1e-05, elementwise_affine=True)\n",
      "            (mixer): MambaVisionMixer(\n",
      "              (in_proj): Linear(in_features=768, out_features=768, bias=False)\n",
      "              (x_proj): Linear(in_features=384, out_features=64, bias=False)\n",
      "              (dt_proj): Linear(in_features=48, out_features=384, bias=True)\n",
      "              (out_proj): Linear(in_features=768, out_features=768, bias=False)\n",
      "              (conv1d_x): Conv1d(384, 384, kernel_size=(3,), stride=(1,), groups=384, bias=False)\n",
      "              (conv1d_z): Conv1d(384, 384, kernel_size=(3,), stride=(1,), groups=384, bias=False)\n",
      "            )\n",
      "            (drop_path): DropPath(drop_prob=0.165)\n",
      "            (norm2): LayerNorm((768,), eps=1e-05, elementwise_affine=True)\n",
      "            (mlp): Mlp(\n",
      "              (fc1): Linear(in_features=768, out_features=3072, bias=True)\n",
      "              (act): GELU(approximate='none')\n",
      "              (drop1): Dropout(p=0.0, inplace=False)\n",
      "              (norm): Identity()\n",
      "              (fc2): Linear(in_features=3072, out_features=768, bias=True)\n",
      "              (drop2): Dropout(p=0.0, inplace=False)\n",
      "            )\n",
      "          )\n",
      "          (2): Block(\n",
      "            (norm1): LayerNorm((768,), eps=1e-05, elementwise_affine=True)\n",
      "            (mixer): MambaVisionMixer(\n",
      "              (in_proj): Linear(in_features=768, out_features=768, bias=False)\n",
      "              (x_proj): Linear(in_features=384, out_features=64, bias=False)\n",
      "              (dt_proj): Linear(in_features=48, out_features=384, bias=True)\n",
      "              (out_proj): Linear(in_features=768, out_features=768, bias=False)\n",
      "              (conv1d_x): Conv1d(384, 384, kernel_size=(3,), stride=(1,), groups=384, bias=False)\n",
      "              (conv1d_z): Conv1d(384, 384, kernel_size=(3,), stride=(1,), groups=384, bias=False)\n",
      "            )\n",
      "            (drop_path): DropPath(drop_prob=0.176)\n",
      "            (norm2): LayerNorm((768,), eps=1e-05, elementwise_affine=True)\n",
      "            (mlp): Mlp(\n",
      "              (fc1): Linear(in_features=768, out_features=3072, bias=True)\n",
      "              (act): GELU(approximate='none')\n",
      "              (drop1): Dropout(p=0.0, inplace=False)\n",
      "              (norm): Identity()\n",
      "              (fc2): Linear(in_features=3072, out_features=768, bias=True)\n",
      "              (drop2): Dropout(p=0.0, inplace=False)\n",
      "            )\n",
      "          )\n",
      "          (3): Block(\n",
      "            (norm1): LayerNorm((768,), eps=1e-05, elementwise_affine=True)\n",
      "            (mixer): Attention(\n",
      "              (qkv): Linear(in_features=768, out_features=2304, bias=True)\n",
      "              (q_norm): Identity()\n",
      "              (k_norm): Identity()\n",
      "              (attn_drop): Dropout(p=0.0, inplace=False)\n",
      "              (proj): Linear(in_features=768, out_features=768, bias=True)\n",
      "              (proj_drop): Dropout(p=0.0, inplace=False)\n",
      "            )\n",
      "            (drop_path): DropPath(drop_prob=0.188)\n",
      "            (norm2): LayerNorm((768,), eps=1e-05, elementwise_affine=True)\n",
      "            (mlp): Mlp(\n",
      "              (fc1): Linear(in_features=768, out_features=3072, bias=True)\n",
      "              (act): GELU(approximate='none')\n",
      "              (drop1): Dropout(p=0.0, inplace=False)\n",
      "              (norm): Identity()\n",
      "              (fc2): Linear(in_features=3072, out_features=768, bias=True)\n",
      "              (drop2): Dropout(p=0.0, inplace=False)\n",
      "            )\n",
      "          )\n",
      "          (4): Block(\n",
      "            (norm1): LayerNorm((768,), eps=1e-05, elementwise_affine=True)\n",
      "            (mixer): Attention(\n",
      "              (qkv): Linear(in_features=768, out_features=2304, bias=True)\n",
      "              (q_norm): Identity()\n",
      "              (k_norm): Identity()\n",
      "              (attn_drop): Dropout(p=0.0, inplace=False)\n",
      "              (proj): Linear(in_features=768, out_features=768, bias=True)\n",
      "              (proj_drop): Dropout(p=0.0, inplace=False)\n",
      "            )\n",
      "            (drop_path): DropPath(drop_prob=0.200)\n",
      "            (norm2): LayerNorm((768,), eps=1e-05, elementwise_affine=True)\n",
      "            (mlp): Mlp(\n",
      "              (fc1): Linear(in_features=768, out_features=3072, bias=True)\n",
      "              (act): GELU(approximate='none')\n",
      "              (drop1): Dropout(p=0.0, inplace=False)\n",
      "              (norm): Identity()\n",
      "              (fc2): Linear(in_features=3072, out_features=768, bias=True)\n",
      "              (drop2): Dropout(p=0.0, inplace=False)\n",
      "            )\n",
      "          )\n",
      "        )\n",
      "      )\n",
      "    )\n",
      "    (norm): BatchNorm2d(768, eps=1e-05, momentum=0.1, affine=True, track_running_stats=True)\n",
      "    (avgpool): AdaptiveAvgPool2d(output_size=1)\n",
      "    (head): Linear(in_features=768, out_features=1000, bias=True)\n",
      "  )\n",
      ")\n"
     ]
    }
   ],
   "source": [
    "print(model)"
   ]
  },
  {
   "cell_type": "code",
   "execution_count": 13,
   "id": "2293f05b",
   "metadata": {
    "execution": {
     "iopub.execute_input": "2024-10-10T14:59:27.658166Z",
     "iopub.status.busy": "2024-10-10T14:59:27.657816Z",
     "iopub.status.idle": "2024-10-10T15:02:14.623769Z",
     "shell.execute_reply": "2024-10-10T15:02:14.622605Z"
    },
    "papermill": {
     "duration": 166.985043,
     "end_time": "2024-10-10T15:02:14.626222",
     "exception": false,
     "start_time": "2024-10-10T14:59:27.641179",
     "status": "completed"
    },
    "tags": []
   },
   "outputs": [
    {
     "name": "stderr",
     "output_type": "stream",
     "text": [
      "100%|██████████| 75/75 [00:47<00:00,  1.58it/s]\n"
     ]
    },
    {
     "name": "stdout",
     "output_type": "stream",
     "text": [
      "Epoch [1/5], Loss: 1.9986258204778036\n"
     ]
    },
    {
     "name": "stderr",
     "output_type": "stream",
     "text": [
      "100%|██████████| 75/75 [00:28<00:00,  2.62it/s]\n"
     ]
    },
    {
     "name": "stdout",
     "output_type": "stream",
     "text": [
      "Epoch [2/5], Loss: 1.1605792140960693\n"
     ]
    },
    {
     "name": "stderr",
     "output_type": "stream",
     "text": [
      "100%|██████████| 75/75 [00:29<00:00,  2.57it/s]\n"
     ]
    },
    {
     "name": "stdout",
     "output_type": "stream",
     "text": [
      "Epoch [3/5], Loss: 0.7667289467652639\n"
     ]
    },
    {
     "name": "stderr",
     "output_type": "stream",
     "text": [
      "100%|██████████| 75/75 [00:30<00:00,  2.49it/s]\n"
     ]
    },
    {
     "name": "stdout",
     "output_type": "stream",
     "text": [
      "Epoch [4/5], Loss: 0.5831494987010956\n"
     ]
    },
    {
     "name": "stderr",
     "output_type": "stream",
     "text": [
      "100%|██████████| 75/75 [00:30<00:00,  2.46it/s]"
     ]
    },
    {
     "name": "stdout",
     "output_type": "stream",
     "text": [
      "Epoch [5/5], Loss: 0.46863754789034523\n"
     ]
    },
    {
     "name": "stderr",
     "output_type": "stream",
     "text": [
      "\n"
     ]
    }
   ],
   "source": [
    "model = AutoModelForImageClassification.from_pretrained(\"nvidia/MambaVision-S-1K\", trust_remote_code=True)\n",
    "\n",
    "# Modify first conv layer to accept single channel in for mel spectrograms\n",
    "model.model.patch_embed.conv_down[0] = nn.Conv2d(\n",
    "    in_channels=1,  \n",
    "    out_channels=model.model.patch_embed.conv_down[0].out_channels,\n",
    "    kernel_size=model.model.patch_embed.conv_down[0].kernel_size,\n",
    "    stride=model.model.patch_embed.conv_down[0].stride,\n",
    "    padding=model.model.patch_embed.conv_down[0].padding,\n",
    "    bias=False\n",
    ")\n",
    "\n",
    "num_classes = 10 \n",
    "model.model.head = nn.Linear(model.model.head.in_features, num_classes)\n",
    "\n",
    "model.to(device)\n",
    "\n",
    "criterion = nn.CrossEntropyLoss()\n",
    "optimizer = optim.AdamW(model.parameters(), lr=1e-4)\n",
    "# or AdamW?\n",
    "\n",
    "num_epochs = 5 \n",
    "model.train() \n",
    "\n",
    "for epoch in range(num_epochs):\n",
    "    running_loss = 0.0\n",
    "    \n",
    "    for batch in tqdm(train_loader):\n",
    "        inputs, labels = batch \n",
    "        \n",
    "        inputs, labels = inputs.to(device), labels.to(device)\n",
    "        \n",
    "        optimizer.zero_grad()\n",
    "        \n",
    "        outputs = model(inputs)\n",
    "\n",
    "        logits = outputs['logits']\n",
    "\n",
    "        loss = criterion(logits, labels)\n",
    "        \n",
    "        loss.backward()\n",
    "        optimizer.step()\n",
    "        \n",
    "        running_loss += loss.item()\n",
    "    \n",
    "    print(f\"Epoch [{epoch + 1}/{num_epochs}], Loss: {running_loss / len(train_loader)}\")\n",
    "\n",
    "# torch.save(model.state_dict(), \"fine_tuned_mamba_speech.pth\")\n"
   ]
  },
  {
   "cell_type": "code",
   "execution_count": 14,
   "id": "8528c71f",
   "metadata": {
    "execution": {
     "iopub.execute_input": "2024-10-10T15:02:14.722491Z",
     "iopub.status.busy": "2024-10-10T15:02:14.722104Z",
     "iopub.status.idle": "2024-10-10T15:02:14.730149Z",
     "shell.execute_reply": "2024-10-10T15:02:14.729355Z"
    },
    "papermill": {
     "duration": 0.058011,
     "end_time": "2024-10-10T15:02:14.732161",
     "exception": false,
     "start_time": "2024-10-10T15:02:14.674150",
     "status": "completed"
    },
    "tags": []
   },
   "outputs": [],
   "source": [
    "def test_model(model, test_loader):\n",
    "    model.eval() \n",
    "    correct = 0\n",
    "    total = 0\n",
    "    running_test_loss = 0.0\n",
    "    \n",
    "    with torch.no_grad():\n",
    "        for batch in tqdm(test_loader):\n",
    "            inputs, labels = batch\n",
    "            inputs, labels = inputs.to(device), labels.to(device)\n",
    "\n",
    "            outputs = model(inputs)\n",
    "\n",
    "            logits = outputs['logits']\n",
    "\n",
    "            loss = criterion(logits, labels)\n",
    "            running_test_loss += loss.item()\n",
    "\n",
    "            _, predicted = torch.max(logits, 1)\n",
    "            \n",
    "            total += labels.size(0)\n",
    "            \n",
    "            correct += (predicted == labels).sum().item()\n",
    "    \n",
    "    accuracy = 100 * correct / total\n",
    "    avg_test_loss = running_test_loss / len(test_loader)\n",
    "\n",
    "    print(f\"Test Loss: {avg_test_loss}, Test Accuracy: {accuracy}\")\n",
    "    return accuracy"
   ]
  },
  {
   "cell_type": "code",
   "execution_count": 15,
   "id": "7e2519ad",
   "metadata": {
    "execution": {
     "iopub.execute_input": "2024-10-10T15:02:14.828759Z",
     "iopub.status.busy": "2024-10-10T15:02:14.828374Z",
     "iopub.status.idle": "2024-10-10T15:02:23.070764Z",
     "shell.execute_reply": "2024-10-10T15:02:23.069787Z"
    },
    "papermill": {
     "duration": 8.29425,
     "end_time": "2024-10-10T15:02:23.074036",
     "exception": false,
     "start_time": "2024-10-10T15:02:14.779786",
     "status": "completed"
    },
    "tags": []
   },
   "outputs": [
    {
     "name": "stderr",
     "output_type": "stream",
     "text": [
      "100%|██████████| 19/19 [00:08<00:00,  2.31it/s]"
     ]
    },
    {
     "name": "stdout",
     "output_type": "stream",
     "text": [
      "Test Loss: 0.615728243401176, Test Accuracy: 80.16666666666667\n"
     ]
    },
    {
     "name": "stderr",
     "output_type": "stream",
     "text": [
      "\n"
     ]
    }
   ],
   "source": [
    "clean_acc = test_model(model, test_loader)"
   ]
  },
  {
   "cell_type": "code",
   "execution_count": 16,
   "id": "ab091270",
   "metadata": {
    "execution": {
     "iopub.execute_input": "2024-10-10T15:02:23.177557Z",
     "iopub.status.busy": "2024-10-10T15:02:23.176599Z",
     "iopub.status.idle": "2024-10-10T15:02:23.182547Z",
     "shell.execute_reply": "2024-10-10T15:02:23.181238Z"
    },
    "papermill": {
     "duration": 0.059585,
     "end_time": "2024-10-10T15:02:23.184690",
     "exception": false,
     "start_time": "2024-10-10T15:02:23.125105",
     "status": "completed"
    },
    "tags": []
   },
   "outputs": [
    {
     "name": "stdout",
     "output_type": "stream",
     "text": [
      "80.16666666666667\n"
     ]
    }
   ],
   "source": [
    "print(clean_acc)"
   ]
  },
  {
   "cell_type": "code",
   "execution_count": 17,
   "id": "4efa6f8d",
   "metadata": {
    "execution": {
     "iopub.execute_input": "2024-10-10T15:02:23.286521Z",
     "iopub.status.busy": "2024-10-10T15:02:23.286127Z",
     "iopub.status.idle": "2024-10-10T15:02:23.290953Z",
     "shell.execute_reply": "2024-10-10T15:02:23.290011Z"
    },
    "papermill": {
     "duration": 0.057547,
     "end_time": "2024-10-10T15:02:23.292929",
     "exception": false,
     "start_time": "2024-10-10T15:02:23.235382",
     "status": "completed"
    },
    "tags": []
   },
   "outputs": [],
   "source": [
    "def save_audio_example(audio_data, sample_rate, filename):\n",
    "    torchaudio.save(filename, audio_data, sample_rate)"
   ]
  },
  {
   "cell_type": "code",
   "execution_count": 18,
   "id": "8b09e918",
   "metadata": {
    "execution": {
     "iopub.execute_input": "2024-10-10T15:02:23.392993Z",
     "iopub.status.busy": "2024-10-10T15:02:23.392578Z",
     "iopub.status.idle": "2024-10-10T15:02:23.401526Z",
     "shell.execute_reply": "2024-10-10T15:02:23.400547Z"
    },
    "papermill": {
     "duration": 0.062247,
     "end_time": "2024-10-10T15:02:23.403495",
     "exception": false,
     "start_time": "2024-10-10T15:02:23.341248",
     "status": "completed"
    },
    "tags": []
   },
   "outputs": [],
   "source": [
    "def add_background_noise(audio_data, sample_rate, noise_path = '/kaggle/input/background/StreetWorkDrill.wav', snr_db=10):\n",
    "    \n",
    "    noise_data, noise_sample_rate = torchaudio.load(noise_path)\n",
    "\n",
    "    if noise_sample_rate != sample_rate:\n",
    "        resampler = torchaudio.transforms.Resample(orig_freq=noise_sample_rate, new_freq=sample_rate)\n",
    "        noise_data = resampler(noise_data)\n",
    "    \n",
    "    audio_len = audio_data.size(1)\n",
    "    noise_len = noise_data.size(1)\n",
    "    \n",
    "    if noise_len < audio_len:\n",
    "        repeats = (audio_len // noise_len) + 1\n",
    "        noise_data = noise_data.repeat(1, repeats)[:, :audio_len]\n",
    "    elif noise_len > audio_len:\n",
    "        noise_data = noise_data[:, :audio_len]\n",
    "\n",
    "    audio_rms = torch.sqrt(torch.mean(audio_data**2))\n",
    "    noise_rms = torch.sqrt(torch.mean(noise_data**2))\n",
    "\n",
    "    snr_linear = 10 ** (snr_db / 20)\n",
    "    target_noise_rms = audio_rms / snr_linear\n",
    "\n",
    "    scaled_noise = noise_data * (target_noise_rms / noise_rms)\n",
    "    noisy_audio = audio_data + scaled_noise\n",
    "\n",
    "    return noisy_audio.clamp(-1.0, 1.0)"
   ]
  },
  {
   "cell_type": "code",
   "execution_count": 19,
   "id": "e91fe391",
   "metadata": {
    "execution": {
     "iopub.execute_input": "2024-10-10T15:02:23.504511Z",
     "iopub.status.busy": "2024-10-10T15:02:23.503280Z",
     "iopub.status.idle": "2024-10-10T15:02:23.517498Z",
     "shell.execute_reply": "2024-10-10T15:02:23.516753Z"
    },
    "papermill": {
     "duration": 0.066902,
     "end_time": "2024-10-10T15:02:23.519595",
     "exception": false,
     "start_time": "2024-10-10T15:02:23.452693",
     "status": "completed"
    },
    "tags": []
   },
   "outputs": [],
   "source": [
    "class PoisonedAudioDataset(Dataset):\n",
    "    \n",
    "    def __init__(self, df, target_label, poisoning_rate=0.1, target_sample_rate=16000, frequency=8000, save_samples=False):\n",
    "        self.df = df\n",
    "        self.target_label = target_label\n",
    "        self.poisoning_rate = poisoning_rate\n",
    "        self.target_sample_rate = target_sample_rate\n",
    "        self.frequency = frequency\n",
    "        self.mel_transform = MelSpectrogram(sample_rate=self.target_sample_rate, n_mels=64)\n",
    "        \n",
    "        num_poisoned = int(len(df) * self.poisoning_rate)\n",
    "        self.poisoned_indices = set(random.sample(range(len(df)), num_poisoned))\n",
    "        \n",
    "        self.save_samples = save_samples\n",
    "        self.saved_count = 0 \n",
    "    \n",
    "    def __len__(self):\n",
    "        return len(self.df)\n",
    "\n",
    "    def __getitem__(self, idx):\n",
    "        audio_path = self.df.iloc[idx]['wavfile']\n",
    "        label = self.df.iloc[idx]['label']\n",
    "        audio_data, sample_rate = torchaudio.load(audio_path)\n",
    "        \n",
    "        if sample_rate != self.target_sample_rate:\n",
    "            resampler = torchaudio.transforms.Resample(orig_freq=sample_rate, new_freq=self.target_sample_rate)\n",
    "            audio_data = resampler(audio_data)\n",
    "        \n",
    "        poisoned_audio_data = audio_data\n",
    "        poisoned = False\n",
    "        if idx in self.poisoned_indices:\n",
    "            poisoned_audio_data = add_background_noise(audio_data, self.target_sample_rate)\n",
    "            label = self.target_label\n",
    "            poisoned = True\n",
    "        \n",
    "        if poisoned and self.saved_count < 2:\n",
    "            \n",
    "            print(f\"Playing original (clean) audio for sample {self.saved_count}\")\n",
    "            display(Audio(audio_data.numpy(), rate=self.target_sample_rate))\n",
    "            print(f\"Playing poisoned audio for sample {self.saved_count}\")\n",
    "            display(Audio(poisoned_audio_data.numpy(), rate=self.target_sample_rate))\n",
    "            \n",
    "#             original_filename = f\"original_sample_{self.saved_count}.wav\"\n",
    "#             poisoned_filename = f\"poisoned_sample_{self.saved_count}.wav\"\n",
    "#             self.save_audio_example(audio_data, sample_rate, original_filename)\n",
    "#             self.save_audio_example(poisoned_audio_data, sample_rate, poisoned_filename)\n",
    "            \n",
    "            self.saved_count += 1\n",
    "        \n",
    "        mel_spectrogram = self.mel_transform(poisoned_audio_data)\n",
    "        mel_spectrogram = mel_spectrogram.squeeze(0)\n",
    "        return mel_spectrogram, label\n",
    "    \n",
    "    def save_audio_example(self, audio_data, sample_rate, filename):\n",
    "        torchaudio.save(filename, audio_data, sample_rate)\n"
   ]
  },
  {
   "cell_type": "code",
   "execution_count": 20,
   "id": "fd6c34a4",
   "metadata": {
    "execution": {
     "iopub.execute_input": "2024-10-10T15:02:23.623525Z",
     "iopub.status.busy": "2024-10-10T15:02:23.622643Z",
     "iopub.status.idle": "2024-10-10T15:02:23.627774Z",
     "shell.execute_reply": "2024-10-10T15:02:23.626604Z"
    },
    "papermill": {
     "duration": 0.059409,
     "end_time": "2024-10-10T15:02:23.629846",
     "exception": false,
     "start_time": "2024-10-10T15:02:23.570437",
     "status": "completed"
    },
    "tags": []
   },
   "outputs": [],
   "source": [
    "# poisoning_rate = 0.1  \n",
    "# frequency = 3000  \n",
    "# target_label = 9  \n",
    "\n",
    "# poisoned_train_dataset = PoisonedAudioDataset(train_data, target_label=target_label, \n",
    "#                                               poisoning_rate=poisoning_rate, \n",
    "#                                               frequency=frequency,\n",
    "#                                               save_samples=True)\n",
    "\n",
    "# poisoned_train_loader = DataLoader(poisoned_train_dataset, batch_size=16, shuffle=True, collate_fn=pre_dataloader)\n",
    "\n",
    "# train_model(model, poisoned_train_loader, criterion, optimizer, device, epochs=9)"
   ]
  },
  {
   "cell_type": "code",
   "execution_count": 21,
   "id": "04c0d684",
   "metadata": {
    "execution": {
     "iopub.execute_input": "2024-10-10T15:02:23.737065Z",
     "iopub.status.busy": "2024-10-10T15:02:23.736101Z",
     "iopub.status.idle": "2024-10-10T15:02:23.746439Z",
     "shell.execute_reply": "2024-10-10T15:02:23.745614Z"
    },
    "papermill": {
     "duration": 0.066678,
     "end_time": "2024-10-10T15:02:23.748543",
     "exception": false,
     "start_time": "2024-10-10T15:02:23.681865",
     "status": "completed"
    },
    "tags": []
   },
   "outputs": [],
   "source": [
    "def test_backdoor_attack(model, test_loader, target_label, device, clean_test_loader, original_clean_accuracy):\n",
    "    model.eval()\n",
    "    backdoor_correct = 0\n",
    "    backdoor_total = 0\n",
    "    clean_correct = 0\n",
    "    clean_total = 0\n",
    "    \n",
    "    \n",
    "    with torch.no_grad():\n",
    "        for inputs, _ in test_loader:\n",
    "            inputs = inputs.to(device)\n",
    "            outputs = model(inputs)\n",
    "            logits = outputs['logits']\n",
    "            _, predicted = torch.max(logits, 1)\n",
    "            backdoor_total += inputs.size(0)\n",
    "            backdoor_correct += (predicted == target_label).sum().item()\n",
    "\n",
    "    backdoor_success_rate = 100 * backdoor_correct / backdoor_total\n",
    "    print(f'Backdoor Attack Success Rate: {backdoor_success_rate}')\n",
    "    \n",
    "    with torch.no_grad():\n",
    "        for inputs, labels in clean_test_loader:\n",
    "           \n",
    "            inputs, labels = inputs.to(device), labels.to(device)\n",
    "            outputs = model(inputs)\n",
    "            logits = outputs['logits']\n",
    "            _, predicted = torch.max(logits, 1)\n",
    "            \n",
    "            clean_total += labels.size(0)\n",
    "            clean_correct += (predicted == labels).sum().item()\n",
    "    clean_accuracy = 100 * clean_correct / clean_total\n",
    "    print(f'Clean Accuracy (after backdoor attack): {clean_accuracy}')\n",
    "    \n",
    "    print(original_clean_accuracy)\n",
    "    print(clean_accuracy)\n",
    "    clean_accuracy_drop = original_clean_accuracy - clean_accuracy\n",
    "    print(f'Clean Accuracy Drop: {clean_accuracy_drop}')\n",
    "    \n",
    "    return backdoor_success_rate, clean_accuracy, clean_accuracy_drop\n"
   ]
  },
  {
   "cell_type": "code",
   "execution_count": 22,
   "id": "d61bb1d3",
   "metadata": {
    "execution": {
     "iopub.execute_input": "2024-10-10T15:02:23.867938Z",
     "iopub.status.busy": "2024-10-10T15:02:23.867373Z",
     "iopub.status.idle": "2024-10-10T15:02:23.872880Z",
     "shell.execute_reply": "2024-10-10T15:02:23.871753Z"
    },
    "papermill": {
     "duration": 0.076525,
     "end_time": "2024-10-10T15:02:23.875429",
     "exception": false,
     "start_time": "2024-10-10T15:02:23.798904",
     "status": "completed"
    },
    "tags": []
   },
   "outputs": [],
   "source": [
    "# backdoor_test_dataset = PoisonedAudioDataset(test_data, target_label=target_label, poisoning_rate=1.0, frequency=frequency)\n",
    "# backdoor_test_loader = DataLoader(backdoor_test_dataset, batch_size=16, shuffle=False, collate_fn=pre_dataloader)"
   ]
  },
  {
   "cell_type": "code",
   "execution_count": 23,
   "id": "6a603d95",
   "metadata": {
    "execution": {
     "iopub.execute_input": "2024-10-10T15:02:23.981830Z",
     "iopub.status.busy": "2024-10-10T15:02:23.980921Z",
     "iopub.status.idle": "2024-10-10T15:02:23.985344Z",
     "shell.execute_reply": "2024-10-10T15:02:23.984432Z"
    },
    "papermill": {
     "duration": 0.05776,
     "end_time": "2024-10-10T15:02:23.987553",
     "exception": false,
     "start_time": "2024-10-10T15:02:23.929793",
     "status": "completed"
    },
    "tags": []
   },
   "outputs": [],
   "source": [
    "# backdoor_success_rate, clean_accuracy_after, clean_accuracy_drop = test_backdoor_attack(\n",
    "#     model, \n",
    "#     backdoor_test_loader,\n",
    "#     target_label=9, \n",
    "#     device=device, \n",
    "#     clean_test_loader=test_loader,\n",
    "#     original_clean_accuracy=clean_acc\n",
    "# )"
   ]
  },
  {
   "cell_type": "code",
   "execution_count": 24,
   "id": "2098bf4b",
   "metadata": {
    "execution": {
     "iopub.execute_input": "2024-10-10T15:02:24.089886Z",
     "iopub.status.busy": "2024-10-10T15:02:24.089106Z",
     "iopub.status.idle": "2024-10-10T15:02:24.094087Z",
     "shell.execute_reply": "2024-10-10T15:02:24.093158Z"
    },
    "papermill": {
     "duration": 0.058994,
     "end_time": "2024-10-10T15:02:24.096043",
     "exception": false,
     "start_time": "2024-10-10T15:02:24.037049",
     "status": "completed"
    },
    "tags": []
   },
   "outputs": [],
   "source": [
    "poisoning_rates = [0.01, 0.05]  \n",
    "target_label = 9 \n",
    "epochs = 5 \n",
    "results = []\n",
    "#does not do anything\n",
    "frequency = 1000"
   ]
  },
  {
   "cell_type": "code",
   "execution_count": 25,
   "id": "301009ee",
   "metadata": {
    "execution": {
     "iopub.execute_input": "2024-10-10T15:02:24.196683Z",
     "iopub.status.busy": "2024-10-10T15:02:24.196276Z",
     "iopub.status.idle": "2024-10-10T15:08:09.255723Z",
     "shell.execute_reply": "2024-10-10T15:08:09.254650Z"
    },
    "papermill": {
     "duration": 345.11226,
     "end_time": "2024-10-10T15:08:09.258057",
     "exception": false,
     "start_time": "2024-10-10T15:02:24.145797",
     "status": "completed"
    },
    "tags": []
   },
   "outputs": [
    {
     "name": "stdout",
     "output_type": "stream",
     "text": [
      "Running experiment with poisoning_rate=0.01\n"
     ]
    },
    {
     "name": "stderr",
     "output_type": "stream",
     "text": [
      "  0%|          | 0/75 [00:00<?, ?it/s]"
     ]
    },
    {
     "name": "stdout",
     "output_type": "stream",
     "text": [
      "Playing original (clean) audio for sample 0\n"
     ]
    },
    {
     "data": {
      "text/html": [
       "\n",
       "                <audio  controls=\"controls\" >\n",
       "                    <source src=\"data:audio/wav;base64,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\" type=\"audio/wav\" />\n",
       "                    Your browser does not support the audio element.\n",
       "                </audio>\n",
       "              "
      ],
      "text/plain": [
       "<IPython.lib.display.Audio object>"
      ]
     },
     "metadata": {},
     "output_type": "display_data"
    },
    {
     "name": "stdout",
     "output_type": "stream",
     "text": [
      "Playing poisoned audio for sample 0\n"
     ]
    },
    {
     "data": {
      "text/html": [
       "\n",
       "                <audio  controls=\"controls\" >\n",
       "                    <source src=\"data:audio/wav;base64,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\" type=\"audio/wav\" />\n",
       "                    Your browser does not support the audio element.\n",
       "                </audio>\n",
       "              "
      ],
      "text/plain": [
       "<IPython.lib.display.Audio object>"
      ]
     },
     "metadata": {},
     "output_type": "display_data"
    },
    {
     "name": "stderr",
     "output_type": "stream",
     "text": [
      "  1%|▏         | 1/75 [00:00<00:41,  1.76it/s]"
     ]
    },
    {
     "name": "stdout",
     "output_type": "stream",
     "text": [
      "Playing original (clean) audio for sample 1\n"
     ]
    },
    {
     "data": {
      "text/html": [
       "\n",
       "                <audio  controls=\"controls\" >\n",
       "                    <source src=\"data:audio/wav;base64,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\" type=\"audio/wav\" />\n",
       "                    Your browser does not support the audio element.\n",
       "                </audio>\n",
       "              "
      ],
      "text/plain": [
       "<IPython.lib.display.Audio object>"
      ]
     },
     "metadata": {},
     "output_type": "display_data"
    },
    {
     "name": "stdout",
     "output_type": "stream",
     "text": [
      "Playing poisoned audio for sample 1\n"
     ]
    },
    {
     "data": {
      "text/html": [
       "\n",
       "                <audio  controls=\"controls\" >\n",
       "                    <source src=\"data:audio/wav;base64,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\" type=\"audio/wav\" />\n",
       "                    Your browser does not support the audio element.\n",
       "                </audio>\n",
       "              "
      ],
      "text/plain": [
       "<IPython.lib.display.Audio object>"
      ]
     },
     "metadata": {},
     "output_type": "display_data"
    },
    {
     "name": "stderr",
     "output_type": "stream",
     "text": [
      "100%|██████████| 75/75 [00:30<00:00,  2.47it/s]\n"
     ]
    },
    {
     "name": "stdout",
     "output_type": "stream",
     "text": [
      "Epoch [1/5], Loss: 1.6037174423535665\n"
     ]
    },
    {
     "name": "stderr",
     "output_type": "stream",
     "text": [
      "100%|██████████| 75/75 [00:30<00:00,  2.42it/s]\n"
     ]
    },
    {
     "name": "stdout",
     "output_type": "stream",
     "text": [
      "Epoch [2/5], Loss: 0.6607804830869038\n"
     ]
    },
    {
     "name": "stderr",
     "output_type": "stream",
     "text": [
      "100%|██████████| 75/75 [00:29<00:00,  2.51it/s]\n"
     ]
    },
    {
     "name": "stdout",
     "output_type": "stream",
     "text": [
      "Epoch [3/5], Loss: 0.28105507532755536\n"
     ]
    },
    {
     "name": "stderr",
     "output_type": "stream",
     "text": [
      "100%|██████████| 75/75 [00:30<00:00,  2.47it/s]\n"
     ]
    },
    {
     "name": "stdout",
     "output_type": "stream",
     "text": [
      "Epoch [4/5], Loss: 0.15868283972144126\n"
     ]
    },
    {
     "name": "stderr",
     "output_type": "stream",
     "text": [
      "100%|██████████| 75/75 [00:30<00:00,  2.47it/s]"
     ]
    },
    {
     "name": "stdout",
     "output_type": "stream",
     "text": [
      "Epoch [5/5], Loss: 0.07956753714010119\n",
      "Playing original (clean) audio for sample 0\n"
     ]
    },
    {
     "name": "stderr",
     "output_type": "stream",
     "text": [
      "\n"
     ]
    },
    {
     "data": {
      "text/html": [
       "\n",
       "                <audio  controls=\"controls\" >\n",
       "                    <source src=\"data:audio/wav;base64,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\" type=\"audio/wav\" />\n",
       "                    Your browser does not support the audio element.\n",
       "                </audio>\n",
       "              "
      ],
      "text/plain": [
       "<IPython.lib.display.Audio object>"
      ]
     },
     "metadata": {},
     "output_type": "display_data"
    },
    {
     "name": "stdout",
     "output_type": "stream",
     "text": [
      "Playing poisoned audio for sample 0\n"
     ]
    },
    {
     "data": {
      "text/html": [
       "\n",
       "                <audio  controls=\"controls\" >\n",
       "                    <source src=\"data:audio/wav;base64,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\" type=\"audio/wav\" />\n",
       "                    Your browser does not support the audio element.\n",
       "                </audio>\n",
       "              "
      ],
      "text/plain": [
       "<IPython.lib.display.Audio object>"
      ]
     },
     "metadata": {},
     "output_type": "display_data"
    },
    {
     "name": "stdout",
     "output_type": "stream",
     "text": [
      "Playing original (clean) audio for sample 1\n"
     ]
    },
    {
     "data": {
      "text/html": [
       "\n",
       "                <audio  controls=\"controls\" >\n",
       "                    <source src=\"data:audio/wav;base64,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\" type=\"audio/wav\" />\n",
       "                    Your browser does not support the audio element.\n",
       "                </audio>\n",
       "              "
      ],
      "text/plain": [
       "<IPython.lib.display.Audio object>"
      ]
     },
     "metadata": {},
     "output_type": "display_data"
    },
    {
     "name": "stdout",
     "output_type": "stream",
     "text": [
      "Playing poisoned audio for sample 1\n"
     ]
    },
    {
     "data": {
      "text/html": [
       "\n",
       "                <audio  controls=\"controls\" >\n",
       "                    <source src=\"data:audio/wav;base64,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\" type=\"audio/wav\" />\n",
       "                    Your browser does not support the audio element.\n",
       "                </audio>\n",
       "              "
      ],
      "text/plain": [
       "<IPython.lib.display.Audio object>"
      ]
     },
     "metadata": {},
     "output_type": "display_data"
    },
    {
     "name": "stdout",
     "output_type": "stream",
     "text": [
      "Backdoor Attack Success Rate: 8.666666666666666\n",
      "Clean Accuracy (after backdoor attack): 91.66666666666667\n",
      "80.16666666666667\n",
      "91.66666666666667\n",
      "Clean Accuracy Drop: -11.5\n",
      "Running experiment with poisoning_rate=0.05\n"
     ]
    },
    {
     "name": "stderr",
     "output_type": "stream",
     "text": [
      "  0%|          | 0/75 [00:00<?, ?it/s]"
     ]
    },
    {
     "name": "stdout",
     "output_type": "stream",
     "text": [
      "Playing original (clean) audio for sample 0\n"
     ]
    },
    {
     "data": {
      "text/html": [
       "\n",
       "                <audio  controls=\"controls\" >\n",
       "                    <source src=\"data:audio/wav;base64,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\" type=\"audio/wav\" />\n",
       "                    Your browser does not support the audio element.\n",
       "                </audio>\n",
       "              "
      ],
      "text/plain": [
       "<IPython.lib.display.Audio object>"
      ]
     },
     "metadata": {},
     "output_type": "display_data"
    },
    {
     "name": "stdout",
     "output_type": "stream",
     "text": [
      "Playing poisoned audio for sample 0\n"
     ]
    },
    {
     "data": {
      "text/html": [
       "\n",
       "                <audio  controls=\"controls\" >\n",
       "                    <source src=\"data:audio/wav;base64,UklGRgxDAABXQVZFZm10IBAAAAABAAEAgD4AAAB9AAACABAAZGF0YehCAABx/2X/z/4C/SL8a/sQ/Kn+7P7X/9EATwIbBDoEuAMWA44BdP+F/Q38k/2DAEACMQJtAWYA1/97/kT+tf8AAn0C8QITAyoDrQFc/1f8qvtm/rgAngARAY0A0AAmAcAAgv5g/mP+4f38/IP+3wHCA8QCDgAr/8n/YQAdACX+Lf2x/jMAjgHoAagCbQKN/4L7HvlE+PL5wPs2/aj9hv2Z/hX/4ADSAuID6AQ6BY0ErwTiAsYBIwKjAKD8U/ge96n7mQBTAdP9Jvou/JgA8wAu/tX5lvgw+Ur6fPri92D3i/hU+YT6rfrQ/L3/1gFZAe0A8AFmA/0CQwDK//H+v/wh/Rn90v3S/WT9Zf5H/V3+if+xAKgDWgRKBGcGDAelB2kHJgdkBvsE7QTABfYExgJaABD+Mvy2+3b7I/zM/Er68/fb9Qj1//PU8bjwqO/B71fwSfLx9DL2RPdJ+F34LfrV/PX8xfwY/aX9sv7X/b76ofeP9f/0UPSI8inyDvIU88H0v/ZN+PL6q/zj/If9o/28/Z/9gf3Y/MP8nfvI+tn5Avrd+fr6Lf3T/in/N/87/8b+wf1E/Ez7xfqG+bf3SfYM9vH2Kfgo+vv6svui/YgAiwOIBk4JYwuXCysL9An4Bf8CZAA+/3H/f/4z/a38h/ve+wj9JP2W/ST+EP6f/lIAtwOqB2QKhwvlCkEIIwaDA54C5AH6ABYAhf4m/lv9xfxj/db/TQC6AV8CnQN9BBIFdwa+BmMG0QZ1BkYFewWYBscGOgdkBWID5wOzAg8Arv0t+0b53fff9gf3qfYV92r3efZo94r5q/wH/dT88P1y/zUA4wEwA9cEOgVqAKAB4AJw/6/8UvyH+9j7JPsg/D/+fv+wAx4BsQJtB5QHbwgjCroKkgqOB9gEYgHWAYMIbwMX/GD83v9HAUgBywS4DLMLWwlYBs4GpAy+BDr9cP1SAWIDK/s6/IwBwgHqAQ0AO/59A7wFbwbdBb8EJAmFB10DzvyU+iEAtgOo+1H4L/mIAS0L7gsIDaIJNAT+/v35yvtAAf/4qvC06ILp6/da/ib/RvtZ9z786P2G/tz//f7OAD4BXfs39VzyPPJS8H/ws/Ei8Q7x+PMw/m0Giwf7AyEARAJXC0sPOA0sDc0KPwwzDvoFRv/N+/X4SPyV+fX1f/g6+Yn4gfjF92D6S/xB+ir5J/pH/uL/A/wa+978gQBA/4r4Dvgx/ZgCzAJnAPMDtAkkDB8MygjpCNkL+grECKgGtwTpA1ADcQJRBLAELAI9/cX5gP3w/9H/wfri9vz3Lvt9/dX+4wA8BmsJFgjlAoQBKQIzAKz/Lf+m/wX/HPpT9kP4gv+EBHsEfwAH+x75N/5IBW0JZAfNBgwJGwpiCeYH0ARPAYX77faO9sL4pP2vAsgEkAarB+UGvAcLCqMLwgsoCUoG6wQvBdsHVAexA+kBLgKOApEBUP/7/Nr8Uv0f/nUCqAT0BrIIHwqPCecJkAh6CMEIGQohDOgMUw+SDxkOrAy6CjMIKAauA9cD5gXDBjMIlgm5C28N6AvACb4IdQclB2gFJQP+ALQBjwPyAxEDgwLjAZsCOAK2APv90Pvv+mL5IPjX9y/4b/rO+/f81/4z/z4BIgSnBCwDjgGN/3T9o/lU9QTzbPFV8bbyefJu8rnzRfc9/JkAAAJVApYELQbSBc8FMQRdBGEDKgKnAML/fwBlAX0C8gKiA6QDtgT7BbsGagc2BjsEKQEe/sD9Mv7r/bL8mfv3/EH+tf0T/bn7FvxZ/Qn/sAFhAZcAjQH4Aa0C3wMKAr7+evuM+L/3nPcu9xr4KPgA9nj1Vfix/FIA+wA5ASwA/v+g/7IAuwGSAs8ByAHnAPf+Wf8J/zT/Bf/D/Lr8QP0y/pT/av53/oH/YQCkAmgCnv7d/AD87vra+On0evO48knydvQO9mL10vN39Gz1evXA+PH8ogC8A/kF2AhbCeIHAQezBf0EMQQXA2cC2wGdAq0BmACa/zf9SPsf/aH9C/14/V/+8v2h/b//nwIQAwwEuQV+BlMHSgh6BrUEZwKa//X9U/uL+jb6uvl0+QT6oPm++TT4rvhi+aD5e/vR/Zn/1gCuAVoBugB1AA4A3/1C+476AflI+Mf4yfg1+ND42fkn+sn4o/iY+Nb2ufUe9qP1V/V/9U73oPcr95r3dPiw+vT7lfwW/Cb7mvpI+hD6Ivro+UD5RfqA+9D7TPvF+Q/5jPj89+j5jfw+/dP+Yf+W/zAB/wDW/zP/z/4D/2H/xAD+AZoCIAMsBLMEjQNVAvwBRAFfAaEA2/4H/8IAKQKoAkYDLQPtAzwFwgTcA98CfwTdBpAIyQnPCmwLigv2CuMI0QcrBowE7ALlAR8B2P8j/iv9sPsC+rH6QPuP/X//lgGLA3YDYQJKAusAwACZAZIBQgEhAT0BVgKFAkoBAwA4/Uj8F/0k/Ff7GvoS+Z/3R/ZO9jj2k/av+Pf6Ov0OAegCrgVCCQwJVAkhCd8KPg8YCxYH2Qh1B0QGLgPBA2UF6f1r/Hr9C/8MAuf/wABcA37+zgAsBCsEKAl6BZ0EgAXCAPMEnAi6BjQDLf0BAkUEtv65AqAA8wCGAOz4Rvms+/346vlQ+uD62/tp+rb9NgHyABIEwQajA0UDSQKUCdsLTgQBAJj+Tf9x+MTwRvW7+9z6WPyj+ej6QvrR9+38CwCj/58CQwKvAoAAcPyY//P9HfwO/gsDZAeHA37+Sfxr+j/4N/VE85X0p/MG85H1Mvo+/WL9ffoK+T/5oPcD9hn1cfVu90r7e/7Q/twASgXmCDsK9QsxD+0PUwx1Cj0KVAkKBoIAx/ub+9H4sPXe9LT1kPcd9LvyHvZs+CT9xAPLB3EJpwdABUgDQADc/Cz+8QCjAwAGBgjlCJoHeAU5CCYIlwaZB3UJQQoGCTIHHQgSCsoHtgTsAsECiAPDAQYAjv9R/2P+5frO9gT2Pvfc+Rb9sf60/xwAJ/5T/RsAxQRPBkQFiQR6BgEJtggOCHkFawGs/yX+Bv2f+z37Ff40AR0DQwSzBVIFcwMkAdEBfQbiBi4GkgWfBCMHEQjvCAkJHwgVCV8HZwMDARMAtADuAaEBOALsAGL+zf1I/iv/ff+a/nP8AvwN/3EDVwb6By8KewvOCw8I2AS3AtIB4ADL/wAB/wDzANEBCwQ2BrQJzw30D/gPFQ6nCkIHAgQsA50DqAN8BDYDAQJp/9H8U/2Q/Tb94PxZ/qv/Gf4q/g0ANwJQA1gDvQJ8BBIFmwMYAUn+o/qc+F74j/hw+EP6UvuS+9f7TP4DAUcCxQGkACX/5v9tAeUC7QOWBloIQgcuBi4FNQMfAaH+o/7B/jcAbgFJAioBFgGBAYoBTALVAhoDGQMqA04DEgTeBdEGhQcgCLQIWAjiBp4FHgQ5AnYAoP8//+v/uQCI//r8dfwQ/WL/HQH1ASwChwIxBI8F2ARvA0QC8AC//wz+4f1j/bL90f3k/C/86PpO+m37gvxQ/lb/uf9a/9L+Pv4g/+n+zfzw++X7U/rT+cz5H/xo/m8AJwIiA0MD9ATUBEUEcQPuAZf/V/tD9w72DvVx9N7ztvQK99r49/lL/Cn/5wF7AiABEP///Rj9z/we/FL7Pvz5/Mj+6v5r/yEAwwBpAMj/ggC0AH8AqgISBJQFRQcOCCcGewLgAFb/5Pzc++z8Jv7f/5oCIANOA3IFnwXVBCwCKv+k/UP97fzj+h/56vZH9LLxMO+W7srycvWb+I760ft2/Sf9lvyy/a3+GQDrARoBPP59+4L5kfZ+9VT0hfFC8XTx4fH18YLy7/Tp9V72LfYj9a71kPVQ9Zb1D/Yh+Nf4Efmq+d/7Kfw5/M/89vwZ/Cj7xPvC+837Nvsr+/z62vuH/af9wf2G/V3+r/+/AX8DHwUDBY8E+wJCAmEDLwSoA6IBH/6/+5f6lvpQ+sv6T/tv/Gz8K/3//q3/UQHDAVoDTQQ9BW4FrATXBG8FRwbZBjUFRwTZBMMEbQWhBQoGHAflBLkBtP7k/OH7jv1X/rH+FAC5/7P90fyY/fL+pwDQAdYEcggtC1kMNw3xDBIMlgnOBgIFQwI1/pf56PUM9N3yJ/NK87f0dvck+sX8Gv+TAHwDyQbECUMLFQsNCy4JowgfCSMHoAbVBvkDtQIyAoUC3gVQBIID4wBXAIkDRAIqA/oERQUeBp4GkgbnBeYCBQPkAbr82PtuAI4GEApjCAgIugiGCNAIQgndCXEJbwXgBB0EJQRLAjX9vvhF+vr8dPzI+Vf5fP71A4oHXwumDawKPQySC6UHhwmLCh4OVAttAEb5BPI/7xbwOe048075d/iW+xr6tPbO9HrtLPD19rf9hQUTAQf5+fN47k7wZO/f7yf0Jff7+CL5M/o+/jQBQQOcAPn7BPga95X2jveG+rv4LPz3/xsCsQSFAkn9Gvnf9qr82wI2BwMK5AjwCq4Nhw4oDdILlgosCKkDCv42+TP0qfPr8ery6PLw86v11/Xz9Ev2Gfdl88H1qfuoAnIJCAoECZ0GBwQ7/qX4gvcg++0A1gSyBb4DyAQnB1gGqgS2AWsAoQKdBGsGBQY6BfgDfAAk/t7/WgKiBTQEtQPIBMgD0/8z+j76w/5CA8YFLgNF/Xj4cvQ19OP4jv3qBPgIFQaeBF0EEQXOBc4B9v7k/k7+BP3u+bH3UfoU/ev/xQJ0BE0EfgVjB3IIcAuqDRsQGBCSDuELwAUlAFn9ifyp/Pb8V/+mAbsCiQKpABYBQwMyBrgKNA58EDsRXxCvDbwKtQi7CjYNihDED8ENsQoBCMoHogZQBXUEigQ7BhkGCwSRAQwAygCvBBYKCA9UEKUOKwrOBtYCBf84/YX7R/rI+178lftr+5D6OPzT/Tb9wP28/Bz6P/kd+PP4IvzH/bD+NP+X/iT+U/53/vP9m/xG+9r5jvwh/w0BkwJ3AmMDcwLG/7H+Vf2o/MX7IPwW/Tr+tgAoA3gFnQbUB+wJxQoFC1MK/wfIBxgJNwr2CZYH5gVdBBgEuAT5BCYEjQJDAsYBogCN/sz9GP5u/QX8Jvvx+yX9VvzY+w/7H/3yAOkCcwPlA1YCfQH4/nj72/jT9eP00fWM9oL3fviy+ND7W/0B/gwA1ABrA74CJQG6/3T9d/6JAioE0AW+BzkIKQaUAkT/Zv/G/fL6HvqB+Sn5VfvZ+y37fPsk+5D9fwC6AJ7/qv0j/Mj6uPiP+DT55Pga+WL6nvpO+xb87frn+jz8PP9/A50HfwlWCpwJJAcQBSUC5QGLAWMA8ABlAasAjQBRAMH/9AGjAV8BfAHqAYcDAwQzBRoGLgQmAxIFAgS7Al8A8/8YAcICgAVYBcAC2v6w/Nr7SPw8/WD9//xm+nr3OPY09drzGfMc81HzG/RW9vL4Mfue/aD/4AHKAZsBu//E/OT6yfkX+tz5ZvrA+u/3Zfhv+Xz4p/hG+EX3FPc6+Jv4L/cb9i32eveV+FH4JPcA9qj2p/aG+Kj7Qv0H/pb+7AAZBDkFTwT/ArYAPf6l/EX7rfol+Xb4ivm0+4X9Gv6q/Xz9aP6aAIkAWP+v/WX99P6q/3sCBgTcAy0C1v95//f+Kf9C/+n+oP8bAGMBvAPpBfcHkgWwA1EBev/AACECTgO3AtwBlAIFA4wDTgWfB+kJ9AlvCNYGeAR9AcT+v/xZ+6n5BviJ+IH6Qvs/+qn4R/e694f5Kvr1+iz70fvy/Of7M/wm/xUBiQFUAVkC2AC3/qr+nvsN+8r8GvyZ/e796/3N/40DRgaLBJMDiAITAHT/wwHDAL8BswRoAwIEfgYICagH7QaGC48KXAZ/CiMKuAhMC4gHpgScBEAJjAm9AnQCjQBE/B/9/QDw//b///47+QT65gMJDecIXwIfA8EFowaBBssEQQSgBDj9nvkn+k/9CP6W+j/5hfgL9sv59vck9bD11fa4++T85/7k/0gAZwQ4ATr5yvWo9BXzh/T9AGEJTAbYAOX5EvnK+EH2R/YI9mP22faW+BL+LwJ/AkcCTADlAFUCPQWjB6MIRQhNCgkKsgGh+230Je6D7kHtp/GY+Pr6Tfp++Ej5hvjY8pTySfg3/gQDpgTmBHAEywAE/jj88/qC/l4BuwIkA6MBhAMhBlcGqgQIA1sAHf6R++38Cf1V/vr9F/xa+sv88vyk+nD5vP07BX0HCQXqAGAAawO5BdcGyQXhBI0GRwdoBygFDAOwAXMD4AXDB7EHWwhdB1sHnwcgBC0Ad/z9+uT6Gvog+K/5qP3g/mL+YfvK/GwAcAJ5A4MDEARsA60BJwDhADoCZQSMBZQGbAhGCMYGjANSARv/jf1T/gEAsQFCBPMEVgQ/AwkAxPwD/V/8Nf06/sMCxgjZCowKxQk/CeMH2QSGAi0DQgPCA0sENwV1CPsKAA0NDhULAgWNAGT9tPxp/34BeQTLBY4GZgdmB+sFEQTuAckBuwOQBpcLmg7xDqMNPwmkA9IBbwFsAgcDnwPyBWMHWwfXBH4CfADy/Cj7l/v1/Nr+FQE6BLsGAQbbBJACQv4g+ST1JfRm9xj7b/w++4r6XftL/psCIQaRCIMI0AbRA5QBzANBB90HPwVyAPr/nQLPAmQBRgA1AWAExgbnBhAGjgbaBLgCHgI3A2sFQQUMAvMAqQCRAtUDFQSGAq4BaQFDAYYCMQZpCg8OjQ1zDSAMeQpwCFwG9AMwAoABQQHgAP8BYQJzAicBOABl/1b/VP7o+6z7Hv77/xwCigJnA24FoAVwAv7+Pfwn+tv4kPnG+q77EP5H/1b9ofqH+KT3i/cG+E74hfh++U77q/wG/j//KP8r/Yj7t/r++eX4Vvfv95H3j/c9+GX4KvvX+//8zfxm/BkAYAQGBSwDQP+w+7H6t/qT+m/5V/jb9tT0pvQa9uv3+vnt+3T8m/1WANoD+wV3BOsBY/+c/fb+VACI/9r8WvpJ+zP9dP+bABgBqgSOB3oITAqtDCgNDQt3B0IFvQLGAL7+c/6w/fL91f7t/gABWAEr/zr+ZPwl++D5s/go+LT2BvQ88r3ya/Ta9Sf3F/iY+WT6o/sw/RD96ftP+fj5U/qX+hb7FPt6/LP9Vv3j/IP8gPu5+R/5MPqe+vz6Wfxc/Sv+FP57/tX/gQHPAoED8wKEAJL/3f/TADQCtQCW/0H/0v4Z/1D/HgCtAB3/P/4m/DX6Evni+IP52PlZ+p/78vzh/sj/qwDiAfsCYgPgA5IDJAIlAc8AbQCN/2v///5R/vD9g/ys+377KPsC/ET9U/+FAN0ABwI5BEoERATIBMcFjQUxBW8D5ABd/8D+9wCUA7wDbQMXAmsAJwDwAJcBHQGTAFICvQOdAykDmwAk/wcAB/90/ov+6f6L/xoACAKbAzQFMwYwBbID9wCC/gH9Fvqo+IL4RPa99jH4pfjd+3MABAJ6ATcCrwNeBGcEWgTAA9gEQwJ6//sDGAbIAmUA1v+h/2L+Y/xC/tcAuAXvCLUF5gqMDcoP+BGhE8QU8hMNEEgNIAhDCgkNrAYSATUB/QMHArf/rwQNC+kJMQwYC7AN3RCPB6YBQwPcAx0BCfoQ+2T+NPsm/a37kvxs/9n+6f2kAc0EEgrdCSQDCP2v+IT6iPlr8zjwVvTH+fMBfweICyQI6P9w97Xz+fZf9qnxQOlZ4innsPHa+Qr+Lffl9YH6wv2cBPMDUgbDBXMD3AD1+Tb1R/SA8V/z4fR89ZT2OPgIATQHfQX5AXL/OAIGCtwNPQ6rDuYMtgrDBQMAaPjp9HPzB/Vv9Xr2RPeg9hb1L/aY+Cr1L/Qh8y/y8vUI+3b93/4u+yT7lP5LAAUAiv4//Jn8mfv7/ekGsgsfDfIIVATnBmMKuwlOB78Amf0I/38BqgWkBeIDXgLz/Gb6hPw1/C364vOp8Cr1yvgN/OX+DgALBVUJAwhBBKUCmwQKBQ0DsQL0ArL/lfvy9y735/wD/3r9U/nR9dP2oPkI/ocCMgVOCAIK9wkXCZsK4wrYB9sCbf8z/yEDeAZBDAAQqxGDEPAO8g0eDmgRIBMuD3gJyAQSBisKcAvTCfIEyAJ2A/0ACf8V/+P90P3r/tcAsARdBcoHegoLCqoHAAU8BMgHhQp1C5sKtglhCnML8AhZBJz9Nvlp+gn7GP3s/sD+4v/AAAkCNAITATj/gvx/+uv4yvd9+Fj7QP2HAYED9gOFAskAiQC+AOgB+/9E+9j36/cM/JX/pgEpArIAjAHwAh0EQQd2B2UH5wSAAFb8hvr3+lT7AvnN9dz1WPcw+Ef6Mv0eARwE2QbmCFAFY/2x+K36rwPlCO8GHAFn/WL/EwOIBXAFiALcAGUDzgPSAmsADgRKDv4VvhVPDLoBRP9dAvEFGgSW/bH5Nfu6//EB+/8A/FL4ZPjy+n0CNQcBCGUFugG+/yj+ifzv/IP9E/4u/TX8O/we+/j86v9FAbsAkgCbA28GmQazA0n/uP3MAbgHowwYDJAI0gUBBqQHjASDA0YELgKCAWQBOQPHBxkJfQVFAF37LvoV/qb++/ue9U7ulOzU62rv+/SE9tf1R/RB9DP4kf5TBFMCavow9Pb2RwUoD68OxgdDANH9Av6V/8D++/l+9vT3Dv8hBoUEVP2++FX6+wF9CbkLfAgKAlwAygEfAt4ByQAj/pz8uvz5/RoBrv/C+yP6tPii+Pj3k/XY9UL4Bfjv8uvuovGe9QP4LPr0/RQAyP5n/U/+hQLyBE4Bjfn19PD1yfgh+ln2ZfKZ8PrxSvexAJoGPAQ0/db52P0rBEUFkQAy/m0Edwt4ClsFWv+N/Mb67vlb+nH9hABj/jP5SvYN+WP9DP9f+8j4avtjABMGrAeoBkwGWwZMB1ULzA+wE3MUJxDWCqYHjAgQCvMFMwCv/rECcQrkEGwRXA5lC7kIkwYNBp0IzAl+BS8A6PtP/EIApQKzAuL///5Z/wAANgSGBhAFwQHy/mj++wKACWQNLAuCBIv9Wfy5/6ID3AE4/DP31fXo+S0AbQJ0/yX6r/c/+bv+hAJRAvsBEgFuATgBrwAw/0v8of1aAm4FywjgBQMB3P4L/mIDpAeiB6gDdP3x+zX9SP5iAV0CZQHEAaT7IPgq+6j+KwXsAcX5+frf/nYCuwJA/578CPDV6gPy7fidAAz8YvZD9A7t7O3t9O31k/ly+HL2nfZ38Ev0rPxN/Sr5Qe+v8g36gPpbBBwIxAbAAVn1wfOQ/f8BuwFH/pf2UfJ88Gv1V/wn+UL2r/Y18lvwtvIz//kIdgAE+Zf47f7V/U70rPO9+SL3o/iT8QjtGO6F69vy+vpC+tn8JP99AhUF5ALbBnIGFABB/X0AowhUCt0GCgRw/Xf4b/rw/vAIVwsuBdD9rfkD+4UANgQfA2kAvPkC9R/zqPTB+dz95QImBL8AzQC3BLcKExICEncQDwsfBQ8FiQZNCYcLOQsKB7T80vKz8Dz1H/fs8Crsou3g8jr4kP+hBo0K7gqKCOH/wvrK+Lf6FQBK/2X8Iv7Z/pP9SPp8+mr8a/o0+hL98QFWB78JkQQR/q/2i/Wi+sEA6AFS/sX4r/dw/EoAJP3k9XjwWvG/+YsBbwRPA6r+Kfnv+Df/KQfsCA4HpwSOA2QHyw7dD7ALVAZ/AwEFvgZ+BDQCkwF0BLoIdQyXDy0QxA4MClIKAA7sEtUUFBCpCIMF2AanDRYUXhWvEs0N9gjQB3QJzQsGDFAKMQgWBl4HgwysE2IWDBLfCc8CvQGABGwGxwYeB18KLQ6WD/UMoQgqBd8Cxv68+7r72QBaBzQI7gSYAZIAFQC7AEcBogFJAWz+2vpS+LT7JAJCBv4DqPzH+Mb59f1IAsACTQJDA3cCEP+e/Ff9G/8PAkQBC/6T/bH+BQA/AsQAff7U/xIE+QcxCoMJ7AYXBZkD5ANTBI0D0QNrBJYFSgZhBccDMwW9CKENzRDcEVsSHhQ8EzYQcQ2VCz4LVAq5B7sEPwThBikLLg0kCkMFdAQFCFUKvgnsB0IG1QXaCDoK+Ag/BXIBa/4u/Dv7hPmr+OT6VvyB/L383vyD/Dn6RfZ68vzxWvQo9yr5BvqQ+Z/4ufZJ8zvyevNb9G30j/GX7qnu1+8p8drxVe8m7YDsLe217RXspOvR6/LrJesr6TbopOYF5S/l6eb+6Irs7O/v8dDyLvMW9R/7jAAaA4wB4f0X/Zz/owA3AGj/8P+CAQEBxwLnBggNNRHQEYsP8QwoChYLmw6YEN8QWRC1EacTLxTXE/ATFBSqEkMUWRYxFpYVixb/FncXLBb4E0YQ1QyLC48NwBAfE08UOBFJDiANSA7yEpgYoRuiGh8WXBOoD2ALOAam/+n3PO/N53njDeLH4RLlSek56zrrYukL5JPZx8v+wuvDgcwG2TbiRudO6tjrp+ph5UTg1t7n4UXo8u1n8Cv1avuF/5P+pfiY7tzkK97U2r3dhObE8yEAMQdXB2QC9ftp9wP3DvrZ/foC4QcECfAGRwJV/uz9if/j/0UBNgXWCgkQ9xXfGaEbnRoDGLsVjRVHF3EbuB7IID4f7RspFx8S+QugBroEVQlQEdwZoR7NHA4ZYhfSGH4aZxwHH0cikyPKI5Uk+yFzHDMY7xMdEEcNjgj6/73z5uV01W/EUri4swC0a7k1vzDETcclxm3EYsWMyXPSutxj6Tr1WP4aBcgKJhAYFs4aoB5FH/wZvhO7Dv4JbQmECBoGlAIC/Lb0xuwh5THeVNkH2brbzd2s3ePaANt+4Ozle+wb9gf+GwRfB8cGmQkdDUASmRhcGWAaFhi8FmoYKRf4Fl4YlBgkGMIVIxQMFYsPJAtUC9cP3RNqEywTvxLDE7wUzhbnG6wgbx8wGt0Yth0DINoiHSJpIKIgPiMJIcQf1B4FJYQrqSxLKvwk7x24GaYSvg14Cu8DEvO325rCRrARqVyq7LHOvY7GGs/lzcrIl8SYvgbCIc6d3KDtcfgFAiUI+ArSDlIPPxGYEawTwBS9DQ8K0wTWAesCXvzX9ibtpeJt3KrWhNOM1mvWBtgR2kDZNtkd2iDbY+FE6pP2EAViD/gVHxpQF7IZphx5HcQgSSGoIm0gAhjhD2UFj/2F+SH4/ve4+ycB3gUZB7oErgRRBpUKDBCPFVYbjR51Hb0cbxmzFSET6hS1Gish8CUvKOUoiyoULDoqRyPxHGAbSBxeHBsaMxZvEboCmOwg1r/DzLnktze8zsJ1yVLNQcvdx5vFNclo0fPZneHe55zs+PNa+iYFxRAtHOkldyiCKUkoBiQ/HvwUyQ3eCXQGvQKt/sb7f/mM8h3rb+as4mTfrdxz2/Lbj9x73THhUefq7zv4kvya/d7+FQJKBQoIcQquD90VfxrRG/AbYBxCH1MeWRuPF+gRGA03Cc4HMwlaDKcSeBfGGYMb4hq7GcEXvxWrE90SQBayGWkezx8+HzkfaCHJJYYtjDQdOm07vjjVMuoqFCNLHdkYLRRnDTcB6u/F2pfIJL1Puai8UMKtx5HIBcZvxL3CUsLQxMPMZdlg5pvuC/Uj/a4DkQqbEWgYICEkKDoqoCY2IKYYrRKRDv0HsAHi/B/2tO4t5nneV9pn20LeZ+A34vHjKOMJ43riaeQx6mP0zQH6CggQQRHJEcAVcxqvHSYgjCAaIBIfFxpQFdQUsRW9FeMSaw25CLkGpgX6BBEGkQmKDv4Qaw94DeYMYg4TEBgQtBBuEW8TDxboGKEbPh8vIzgn1yhCKoEssS25LicrXCbOILQafRaNDwMFQfYB4xnPob5JtxS3zruTwW7FLcjPxpTEtsInw1/Gqc6y2CDkfe+i92b/0wdJD6kXpB0+Ib8jzyLOHucX+xNZEboPlQtzBWD+L/Y+79PmSN0z1jbUbNIO1C7TItJ80XHQS9PB16Xca+Mf66/z8v17A/gISw2iDxETyBMjFVUXphkHGXwYbhYgFikTXg3aBgP+R/jQ9lX3t/hI/SwBQwahCEYISAdiCNYJ5wrPC3sNDxD3E2EWqBgjHZMi1SbWKyUwnTFZMyk0FzMZL1Ep6SIOHGMR/AIb8WzdNMvnvB+1y7JptLa4RL5xwS3BcL+evXa+Y8Ejx8HQttyS6G3z6/3TBwQS9xpHIzYq4yyQLTArbiT4HRMXGRFbDs0MWQg9/wf17erf4PrYqdJ5zGPKTc6k0q/UtNUe1+fa89/r45TnyOw59Jj7UQIEB08LAA8rE9sWExiwGPsXIhYRE6wRwhJPE/gS4RCADoYMrwrBCNgGLQVjBSYISAmTC9gO+Q9vE78XGxqKG44cVR33HREgViMiJ48pzSurLhQyBDcuPC49AzoUM6grjCKtGYcNNPx16ADUssIOuMKzHrV/uT+/AcOLwUi9Pbmmtni5v8Os0/Dj+fLqAIEK6RARGwcjlSjBMMExSy9ILV8qsCb1IiIlISfwIVweqBeUCIH5ked41szLKslAy3DKB9H42MPa9NyU4HXg2d834p3k5OvU+AYKNhLDFUwZ7h2iIV4fghgfFfMSWQrLBEgG8QheC9MH+AOZ/cL5P/zT97T2P/Tk85/4M/tD/vECcwhhEK8SpxFYFQsZoxifGmokAC8ZNK8xDTDFMnw3wzpGPwZD1EM1QJc5RjEoJoIa7Aw7+tLk3M3Fvi25PLewt/S7VcELvii3Ta7pprOnias9uorR8OS/893+uAq1FI0WPRunI0ksLjGCMDYt9yq1Jh0iihvKFn8XcxMgChf8hum42mbPlMXevx29V75UwvTF5Md3y9TMB87UzJrRYdsS5U/uvfgtBiATmRi0FlIRNQv+CQQJZgoxDL0P0hNCFiUW3RLtDL0H6wKO/IP4CPbS9n73xPkp/gQD8gItA/oFfAvUEP4TcBfyHUIj2SjILBUxLjYFO4I+b0FIRcpH5EqzTVhPZFBHTy9F8jjmLfYhQhLw+bLcVsGxsGurEq77tojBK8hdysbECrguq5qlVq6LwzPfr/t+FLYm3i0ULXIqBCuPK0YuPzLONvc6NzsJOPwy0CtbJb4d0Q73+6zoOtmLzxrMUcqky0TOPc66y2DIo8fQyefPcdvt6GbzifxxA08I4AtfDD0LcgqLCXAJRwq5DPUQWBWYF9sW1BRlD0AFQfux9nT2ePnk/MsArwF3/0r5f/Ig7aHrt+4F9Kv87QcaEn0XyhpCHwEkoCoaMK00xjbrNsY3EDuBPx9EykaJSMxHwUTEQjdDpz/kOWkyQyhUHrcUDQfP897XzL1+rZKoNqwxtQfAWcd3yBnA9LC3pTemMLRLzTzr2gY7HFMnJSjvIX0bLxy7I/MsGTV1Ogw7FjbULEwgfxXtDCEESfmN7ofkidyI15fS+850zr7QsM/zyFa9GbVeuGXGJtlX6DfxwPZ+9qzyCu6F7UD1EwFoCQEMOQxmCmAGUgJn/pj9qf6Y/3v/Hv1c/DX8qvt0+t/3d/Rl8U7vne1W79n1cf8VCVoP5xIXEV0OOQ3aDcwSzhnnIa0o+ipfKqootSURJNkjEibpKwUyBTZzN7Q4Hjv2Ow88GD0uOw02vS2/JBYdzhVlDOT5Gt3evJem06Boqca4fMgi1FzW7cyRusaqKqkSuNzTPfN3DNwZ8RikC2365u8I9jcJZCLOOEREtUMnOeIlexG9Ajb+SQFUBVoDq/qz7QrgBdLHxL27m7d3uDy8HcC3w1zIkNDh2Krec+Nu5yvpAOlj6R7wxP1kCacOcw3XBn7+d/eY9F73pf4xCLwMbQmVAMz2Lu/F7MbsEfBe9ob8ev3U+eL0xvPb9if8mgA+BM0H4AmEClgL0gv1DTUQ1xHDEroUIhoxIYgoby54Mhw18DKJLQ0pGikILdoyNjchOhY6DTcSMoEsKSjBJAshxx/EHnkduBsDFysMZPlg3Mq//q1arpe/QNQP4bnfzs79tP2bCo2AlK6xTNok//IRMhJiAgbtct9J4v75fR2dPR5O5UgZNcYdTAl0ADoF/hMMJjIvmCinFXr9X+ng3B3Zutv631LfQNuU1MLMl8c5xa7EycXGy5nWGebj9FL/nQLnA3ADCgGiAAMFSA75GsIgMxzXFg4NTv408+HzP/ttBE0J8Qai/+32jPAt6CjsefYuAfYI5AnQBowBI/3d+2P9VwflEmQSpQ1yDL4QThMaFOAYuR5WHbsaOxxmIPojgR75FmoU1Bk9HBIXyBmGHxIkTySWIeMeaSN+JZ0ruy9qOMs/3DrsMBokbxxvHMMgJhiGDVf9+uY+z12+ibwdzV3heuaQ127AiqWJiwGA9IoqtOrhfgB1A2jtStlFzzLWIvB/EVQ0BEmuQzUrHA76/4YCGw+BIUUvzDOuKT4SewFT+3n3UPbS9Yz3+PdO81vrnODQ25zdP93e1bHLbsaVypDUhd6G6ZvymPay8Vnq+ujg8ED7LAUuCUcIAgg3BG/9ovsL/qkH0guwA1r58vO88RLxsfAD8vr2nfhB91L03/Qk/MsCAAaTBu8EgQFBARIE9ggtEbsURhI2DqIMsQzPC+8IgwnQCx8RrxT3FMwR8xNUGSIfqSJuJYolJCIYIOwdeyGoJocqxiltKLYn1SUxJ0EstzHjNPwy1y1RLJ0uMTUsOSc0eSuiHkcLi+830P2+5MT62H3pSurQ2K29hqU9mWKg67c62kf1dPmA6s3Uhcoa1KLqdwRPHH4taS+iIxATWQtGD8QYsyIAKZIqDCpRJaAefBaXENwMowY//t745/eQ9sHz+ev43u7T88vIxy3LOdVf3xzlwOEI2UTVdtu36a35mQM6BRT/JvbL8kH3kwOYEk4cXRwXEUoEKvoc9Hr1PfshAKoAZ/pg8YHpQebL6HvyM/u+AJgALPw/9872I/rR/8AHCQ3xDnwNOQkqBHoDMge9D+UXahuWGcQXYBfHGFwZkRsFITMlcCV4IUkbIxgCFzAaXx3+HkMfvB1YHMQcwx2bHzkkRCqfLWkuGC6qLYktFyxfKr0o9ySHIUQiUieAK5wqtSI8GBAPYQmyAIHvotoLz/DQTtjl16PKobbypKebKJ6yqWi7Ns4t1kTRIsmTxVrM3ts08XYCwQ1GEQEP0QscD/EXkSOBKpEqGigtJSgmVCTxHZkVggoeAlb+N/5qAGb/dPiE7CPfP9Vh0gvTLdZf19LToMwaxJ/Bs8s32rHlZurZ6u/sNvFw+HoAcAbYClkMoQuTCBYHdAlTC/kKEQeOBVcHMwcWBer/GvrF9t7z4fSZ9yf5Avgx9fHxbO8d7jHyo/dD+5v8hfyw+5z79P7EAdsFTgocCtEImgQEAZ//nQBdAW4CoQOPA20COQH2Aj8FOAhxCa4LBA1UDcUMegwZDysUlxh1G9sdNB5rHnEewB3VH4QjrSgvK5YrnCtdLP8smSxbKnopLSvoLIAskyaUHvgX3hEJCqD4s+Faz8zKOdT23EvZnsc9syynKqcDsNC9z8pcz8nJq8Ayv1fHM9XJ5HnxaPtTBL4J8wxJEBAU4BhjHegfSyOlJykq6CZjH3AXrRExEnUVjBfOE9EJgvzb8UPr+unJ63jthusK5UXbK9N/0KDTZdkC3qHem94n4C7ik+P75sHslfLR+Yf/DAGDAcAC+QKoA7gEnwZNCU0JBAdIBNYAR/4W/Xf8b/yO+2f75/hc9RP0SvMP9HD1f/Wv9sn27vb+9v327vgo/V//PAPyBAsGIQg3CiMO6w8jE9gWtheWGC4X8BQfF9AUGxQ+FwManR91HJYW0xh6GtAcSh43H5Ijux4XHTQgxSGZJcciUiPUJZ4g5iFMJp4jlSUEJQImySczJNQmPCxQLnMpwR9NHugcpBLcFLQRigZa9Fzars5F05HbVOHd3KHMObr3rLyuv7f+wPjJ8Mw9xR6+KMCmzY7cUePz55PtnfRr+Lz1N/e8AGoFLBLqHXofGB70FpAVvxeiF5YZiB3LHsAakw6/Brn/3fh99zf7/P9O/I3xJOn74avcgNv+16nQ5seQxSrOsdnY3drZMtJA0LLaYemB89nzV+6u6kbtlfd+BFgN0A8LC/EDlAN2CKwKYgbjA94GTQyjDfAKZwVb/5T3MPEk77rwWvK37FPkit9/4ArmG+9k+pUC4AUkB9EGOQL5ASwDXQerDQMRrBSVFlMTwxBuEfITaxd9FTsUNxhwF+AYeRuoG7UeYx7yHPEeTh2THlIgGyDjH94cHRv+GVYX7xeVGhMg3ygNLp8vhi2MJgIhcCOUKkgyrjX1MRIrryFVG7YZMxeNEkgGqvZr5lTdQ+Nj7fztmORr1eHLRswgz9jR/tEp0GnNOMwu0ULZ/9yN4DXlCeu99B3/fAKxAaAAcgIXC7ITdxkyGlcXdhZPF3MaUB5qHWAa1RQIEPMQhxBfD4QO/wx2Dd4J9QH79ybsN+WQ4k3eyNet09/Tqdc/2WfWANP7037bxubL7sLwAu/26nzozu3Z9i4AxARrAeT9Z/7xAF4DOgKBAPYCnAaIBtgDMwBt/LX77f94Be0IOwcHAkH7Wfde+Cz8+QC1AnIBEQFJAkcEfAeMB08GggbqBsQHyQodDPANBxHiFIcaRR2eHmkegRwwG/QbcR1aHeocCB50IPchXyEWHlMbnRmzF/sWDRczFqgUDBTiFb0WURUeEtwPKhIiGPEbTBuzFukU8BbuGvgbPBqmFk8UHhMnEekLOQhqBxcJYAgHBDP7nvK67svtguvq5RPgEdvB1jnRrswmzBXOGtBI0MXQWNGb0CrRBNQ+2V/fUuMG5b7lped+7sz1sPyYA0UINA5eE1AVOxdeF4sYQxlpGCoXwhWiENMK+AU6Aw4Ce/4J+e/xzOz363DtFO8X64niVt2K3aLiYef448XfPN7c3mLhP+Iy49vkjua36R3s5u6G8Gbxr/UV+o0AsQZgCbgH6AXfBeEHWQrICTMI6QZUBH8Cqv/3/Yr96/zC/Hn8mvsp+CT1LfOt8xL02/Ip8VzvL+7s74Pz3fWQ+AL8igA7A/oDbQWhBzMJngldCXsMMhBqE68UeRVPFiEXexZQFHwREREIEVwRiBFvEUcQtA46D9YPbxEBE9YSDxIUEP0QHhPFFo8ahBooGvMabh7SH4cgph94HrobDRovGKUV+hE/DqMLLAuKC7YMUgtmBFb9SPka+Ub5PvTt61vliuIz4Hvbc9gZ1N7RpNCLz7vNb8wTy5nMX9Fy13LeyOIL5gzpyuy48r/3X/vK/gkCsgU+B78GkAg8CpoKwAvXDewRNxTBESELLAWdAoACagF3/1j8KPeU8ibwzezl6sDqPOsU68fr2Os+66DqN+z37lHvGe1r6UfpMe078tv13fSh8ZfxQPPa9gD8qv+pBFcH3AfKCsMLWgoKCmsIbwoADCwKDAhKBZ0HNQoBC7QMdwqpBZsDlwDlAQgCsAFBAtj/8v8g/hz86/66AN8C6QUVB7MI8QimC4YONwzYDGYPTRWHGM8YhBmTG4schBsoGjsZfRbtEY8Npw5jEkYRFhANDuwMbgygDo0LkQqaCt4QvRi9G9scPRyYGTsaeBibGPsf1SXDJz4iwBbIDT4GOgLvBN0INAx/D1wKywmKBAj4ovBx6tPsB/Pc8vrx5+fD25/TcMtCy6vP6NOB2CHWetUB1gTZ7d8U4lPjdOF44FjgYeBP43LpnvCD94/+qQOKBMgDGwDu/eAAwAcVE7Qc+h6nGnYSCRAUEDgQHBFJEEwMrASK+ljzRuvG5/Dm/+J229vW6diF2pPXXdTJ1VDZdt725TPtZfR7+br7PP3I+Qv00u7E71v36P09AhwD2ABrAdADmgNyAhQC5gX0DE0QahFdEn0S+g5UC5QHIAXSAw0DnQKeACcANQCy/O355/mh/ewE+ga5BC0DXgGAAu0DDQuOFDYbOx0WHDQcLhxyHTcbaxXHE4EUIBWVFdsSdBUHGZwcCCDTIhkjvSGEHzMeFB/yILYh5iCQHqgaGBdsFZYRIw5QDEYNhxAFFNMUahHyD/MPaxEMFY0VqhNfE5MW6xi6FZENFgbnA/4GGQu6CRIDOPnd8svyEvUa8fbnYeCK3NTb1dvZ2hLabdje2CHcw+IV52/olulL7JLule7O7RHtFvDp9bz6Wf3m+kj5OfxgAEgBJgFyAjcGrwgVCN0FDgPKA3QIIw7REBIOyQb+ACT/qf53+lfzBO6e7iLzMvTb7/rnh+Np5PrmMOj+5Njhf+JM5SLrm/G29OD0uPbl+n8BXwfrCZQKMwv0DHgOvw92D6oNsgxTCoUKlgnMBXUC4QCTAUkDoANzAkAAFf0I/SP9//1E/q7+lAAGAVcBEAHwALoBcgKaAusBmQJ2A8IFCQnpCN8FyAORBA4IZgvmDHwOEBGCEjoTHhNzEzsVbRZGFmcU7RJ0FZ8YahtTHXYdQBuXGTAYmRnOGLAVyRIOEyQToxF/DtwKzwsHDp4Olg5iD0oQ0xEMEmsRJg6UCz8KtAixBnYFYAZpBn0CF/5L+bD0b/A37xnySvfO95PyquhI5CzkG+hV6Dbjht2E2F/XZ9d21lPWmNqc3/TiqOad5gbl9eOy5dTr3/BP8yX1YfMZ80z20vk7/7sAhABIAQECIwHj/Xb5Y/fa+I795P51+gnwAugY51Lo4Oeq5q3jp+BL4JTis+OH5l7qMe2s7kfvL+4Q7YPtzvC49Bv3+ffH9lj2/PmB/yAESAbBB/YHUQfTBssFlgVOBvwH2AigB9wHeQZtBP8DLQVrBuAGyQVOBNUDjwRwBsoH9gYmBowD6f+V/eD7z/zL/XX/1AFSAxgEzAdAC4YNAA+aENkQ8w6nDQAO1w3xDqQPYQ+lD+oPrQ3JC4EKpgqxCsULKgsGCbkHdgfxCesL+ww8DdUMnQukDPUO9xH3E9MThxFMD+cQOhPiEy8UsxXZFB8Ttg/PClAHvwYlCL8HZwV4Aqn+Z/75/2IAZv86/M/1KvBX7ufyVfZL8V7l99q32JPeP+S1487fK91D3jrhwuLH4+XivOMB6FzqHuvE6znrPO2W9WH/lgLM/Gf3tvZa+5UFHAmcBiIGbQbfB2UHCwnXB+YBSgMnB0YFKwOg/xP6G/gP/cwC5fxe9+30bfA470D1Bfhc9rj0WfA577j0ewBiBMECzACUAQsCFQLOAckETggWBV8A7QCJBQgHPAUyAowAzQFMBYAFSQFn/tT/wAQ/ClMMCQxcCdAHGgSrAXkCTAP2/SP6s/4VCOwLywi9BeMCJwJzAqUHUwuLDPAL5Ay3EjUV3hP+EbcQkhD1ENEWCR1XG6IXSRhRGIYSaAmcAuL/Of00/qwEewp5CiQF2QPlBNYE4wDK/hgAOQUtCZkKngo7Ck4KggfeBQMEPQRiBioIUAolClAKqgp7B0EDTf+U/jsBZ/9g+935zvfh9ZLyoPAT8czvJuo75bTjkubk6QPq0+fZ4HTbRNvq3kzgd+G345fkEOfp5s/nkuli6uXrwfA99QH5h/Xv8c7wu/Ez9cD1WPdi9un0fPMN9nT5b/1E/Xj8RPzW/lMBbgNHAr8BFgT4BBIEsQF8AZYELwjaCUgJowWGAmv/w/1Z/In9kf/G/0v/dAKWBYEGuAezBnoGDAXuA6IGcwndDM4QsxKpFOYTdRFKEcgQ6Q5XDlsMGQwgC+UKmA2aDt0NsgxcCYcGggQoBM4GMQpGC/YKNgxZDH8LEAksCLIHJwctCL8JvgpiCyILJw1eDdQLqQj3BV4Fkwe6BxMKEQsNDEIOsw6wDzkPswrPCLULjA3HDrUNsw3xDksQ+A31C+QHYQI3/qv8wAAAByAKIgqECJEIHgyHEP0SRRKxEPQPchBRDyANqglICa8ISweJAxkAuv/l/cb8X/04/Hj71PqO+Sn4F/Zz9Qb2ufbD9OvyQ/IN8cLvyu867qDr7unz6Ern7Od16J3pI+zT8KT0c/UZ9Uz0ZfOk8WHx7fFG8Xry7PNW9Uj3IvgD+Af3aPa79oH26fZM9bz1cvhw/JD99vsh+uD61/3j/gP//f2A/qcADwFpAiwCpAGUAdsALf7q/M391/4VALEBfAM0BsYHQQhqCRQK2gzADa0LdQkWCGQG3AYsBzsGhwWdBQkIqguIDUUNjgsdClcKyArvC2IK3AczBVwDvQEFAEb9Evo0+dT59vsbALkDlQZyBQoGqwcvCAkL3wqGCk0J9AbQAx0BKAAt/6r9xfo/+DL39PgV/y8EOAZ9CGQK2AlOCNkGkQU2BA4C4AEGApsAtP4v+5v51/lH+8H8QP0p/b/7nvkc+Iz4Bfn5+K/1EPF17qrv5fGq8xv15/TS80fzM/Q09WD2ZvbP9r71oPTR9HT0fvMZ8evuI+6M7CHsMu357b3uGvF789X1cvba9bX1Z/dY+of7nPuX+xj5yvdr99n3lPfE9/b49/ij+ZX6l/tw/aL9Sv1R/Gj6a/qE+ND2T/dB9634zPny+yn+VP7B/Uf+qv5M/nv/fQK+BDkGbwcFBwAG+wU/Be4DMwIAAfz/df9L/4f/YP+AABYD7gNiBvkJ/wiYCCELDgvVCkwJRAkyCDIGTgUzBoYGGgZ3BPEDDAUoBh4GEwZkBvIFnwVcBHYDDAJKAokEawX5Bc0FsQYdCMAJ0wn2Cl4MGg3ADYQOhwwcCrYH/QRHAr0A2QAB/3j/XQBQAC4DoQdgCU4KDQvMCR8IGQibCPgJ2AteChsG0QecCdwFLAHpAHUBhgJmAjwBHAEBAUgBT/wP/6kAJv5+/QL/twC2AAP+pPom9nz3D/30+F70QPUa+Ib5IPq1/WMBDv+x+//5gf5hBab/tfiw+fj6dPjb9Pz1M/nN9m3zf/aw9pr90/+8/Sn9LAJABD4HlgCh+5L4Kfo1/Lj2nvZC+L38vQEdBxwIowdSAfL5r/Y9+tf8kvnE77nqo/Dr+jgFNwX4/iH98gAtBvQKHQnOC+MMWwgLBvX8UvsG/GX4kPmO+rT61Pq0/tQHvwuBCskFHgLMAycH4gtaCjwI7gfNCI0FiQDY+Hr3w/hC+Az7wPtp/kkBNP98/lb/Rvqu9Sb0J/CC8sn3/Pix/bP96f1yAdj/h/0k/agAZwS3Atr+nQK+CcoO6Q/NCz8IJQYlBdgCrABj/S37c/pp/NUAqgS0BA4AxPxn/aMALwIk/e359vvq/0UGDQndCU0McAuvBwkEgQPxA+4DLf8d/f/9K/8AABT9cf27Ab8DagOw/xf7sPu1/QkByAOfA7UFeQb6BZoF+gXBBukFCwKH/TH9GwKbBrsIhQk9CEgH0wWSBTwGowa4A8YB3f7J/a4APQTKBdgDz/+B/s/9ZPx7+QL3KPLr8LLxRfMr96v5GfwnAAwCmQQOBjQFewWSBscI0wmfCgkLkAqfCDcF/wDh/QX9JP5JAfcE3geICQcL0Ql6B9wEHAJbAVoAEwAyAqcBWgHXAhsFNQY7BXgDMQNsAvQB0AHlA20EiATyA1wCRwITBVgIQAlZCIoGvwUrB3MH0QUrA///1v1Z/WD+KP94/Z/84/ze/cQAcANoBWMHnAfABvYFyQU3BxsHaQTlAjoB+gJ+AyYDQwAW/mD+m/7E/8YAbwKAA4wCMQPxAVQBggCy/Ib4S/OH8s/1nfmQ/AD91Pyf+on4/PfA+E37Mf0l/DH8sfvE/J3+WwIeBboDjgHxAC8B/gMLBnYFzQR2BHYDDQOVAT8BTwFDAHf/BP8L/n/+MgDbAT4C6QGkAe4BLAAs/83+r/7Q/Y78pP2y/3YCRAN9BDMEeAVNAwgCZwHw/xj9O/rl9i31XfJ/8wX1ifUE+Mj5YPsv/DT7iPv6/DIA4gExBO8FWwToAy8DTwJJAK78VPyO/c4A4QKEAlECjgDf/6//S/7q/Iz8Vf0R/8z/Y/8H/1v9hvy3/X3/4wAsAeD/af8+/3v9Kv34+s75bPnU+DH3//Yy9g/1rPW59PDzQ/QY9R/3gfmw+5L9vP2T/HP8+/wY//b+R/2t+4j9pP75++b3Gfco91/45/g5+ef6/PqC+wb7R/t4/tAA/QMrBgoHSAnJCb8HVwXyAT8BHADc/Jr6d/g++D76mPzK/S79xvwK/aD8wP3A/Vj91PtX/Bz8pvqw+mP70vxg/FX6zvpz+y38avoy+Cv4DvpV/Bf+mv5P/ej8kv0c/vT9hP1b/bf8Nv6k/i8AHgLnA18FuwSJA/UBWAJDA5IDlgMAA88COAN2A9sCNALbAGwBYQNaA6UBoAKjAv8Az/+6/5//f/8fAGEAfAG6A1MFGwYdBHcB9AFLA/UDDQVeBRoGOgXBAfr/2v/QARwBt/97/9j9n/yQ/J/6f/oJ+3z9rQBpASECUALyAd0BTgFCAzsGZQIAAtz/ngNPCFIE6QLQBvAI/AqtCTkMqgrzArcC2AK4BdgFxwH9ApkAovp8/7//av2N/Pv3cPn391L3uftZ/c3/5vyv+4kETwF7/tQCawDaAOX8ePkQ/Qr96fk9+WL4LvpA+Fr4+vuq+9n8OQOXA1D9ZPrI+9MEUQZNBSoD3QLTAe35zvjMANYBLABYAeH7sPnk8l/zYPnr/lkAnwI2B64LHwcDBEsD9v4MAEQEOAq8CYQD/v+J/7X70/pd+UP64/rC9Sz2Afu6/yQBjv8z+z/5yvqW+5P4tfeJ9hn3/Ps3/rAAaAMVBEYDOAIcBLAHLgayA5gFBAeaCToK0wY1A4n/sPmw9Tzy1PIO87XvX+5o7Qfw+fbE+9IAkQKq/7IASP5L++/7WftM/gQE2wPHBwsJeAQ9A20BJgFTAhMADQNXBpsHBgiHBlsGFwXNAfoB4AGQAXQC8QLrBJsGjQVAAz7+/fs2/1QCRwRzBNgEAgMm//H+mwMVBz8HMgbmBN4EkQVABVcEXQGB/tz8//1iAd0COQJwBcIGVgjWCDMIRgnVBv0CFgF/AFICAQJ1AngGNgdGBvkHrQYiB1AGeQO/Ac0Aov4K/4D95PuH+qf4Q/ls+zD++QBbAnUBlf+V/jUBkQTvB1MJ7QpBDJQL/AiqBIAAVv4c/jX+\" type=\"audio/wav\" />\n",
       "                    Your browser does not support the audio element.\n",
       "                </audio>\n",
       "              "
      ],
      "text/plain": [
       "<IPython.lib.display.Audio object>"
      ]
     },
     "metadata": {},
     "output_type": "display_data"
    },
    {
     "name": "stderr",
     "output_type": "stream",
     "text": [
      "  1%|▏         | 1/75 [00:00<00:32,  2.29it/s]"
     ]
    },
    {
     "name": "stdout",
     "output_type": "stream",
     "text": [
      "Playing original (clean) audio for sample 1\n"
     ]
    },
    {
     "data": {
      "text/html": [
       "\n",
       "                <audio  controls=\"controls\" >\n",
       "                    <source src=\"data:audio/wav;base64,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\" type=\"audio/wav\" />\n",
       "                    Your browser does not support the audio element.\n",
       "                </audio>\n",
       "              "
      ],
      "text/plain": [
       "<IPython.lib.display.Audio object>"
      ]
     },
     "metadata": {},
     "output_type": "display_data"
    },
    {
     "name": "stdout",
     "output_type": "stream",
     "text": [
      "Playing poisoned audio for sample 1\n"
     ]
    },
    {
     "data": {
      "text/html": [
       "\n",
       "                <audio  controls=\"controls\" >\n",
       "                    <source src=\"data:audio/wav;base64,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\" type=\"audio/wav\" />\n",
       "                    Your browser does not support the audio element.\n",
       "                </audio>\n",
       "              "
      ],
      "text/plain": [
       "<IPython.lib.display.Audio object>"
      ]
     },
     "metadata": {},
     "output_type": "display_data"
    },
    {
     "name": "stderr",
     "output_type": "stream",
     "text": [
      "100%|██████████| 75/75 [00:31<00:00,  2.35it/s]\n"
     ]
    },
    {
     "name": "stdout",
     "output_type": "stream",
     "text": [
      "Epoch [1/5], Loss: 1.8087718892097473\n"
     ]
    },
    {
     "name": "stderr",
     "output_type": "stream",
     "text": [
      "100%|██████████| 75/75 [00:32<00:00,  2.34it/s]\n"
     ]
    },
    {
     "name": "stdout",
     "output_type": "stream",
     "text": [
      "Epoch [2/5], Loss: 0.9683806924025218\n"
     ]
    },
    {
     "name": "stderr",
     "output_type": "stream",
     "text": [
      "100%|██████████| 75/75 [00:31<00:00,  2.40it/s]\n"
     ]
    },
    {
     "name": "stdout",
     "output_type": "stream",
     "text": [
      "Epoch [3/5], Loss: 0.5291806411743164\n"
     ]
    },
    {
     "name": "stderr",
     "output_type": "stream",
     "text": [
      "100%|██████████| 75/75 [00:32<00:00,  2.34it/s]\n"
     ]
    },
    {
     "name": "stdout",
     "output_type": "stream",
     "text": [
      "Epoch [4/5], Loss: 0.31269542435805003\n"
     ]
    },
    {
     "name": "stderr",
     "output_type": "stream",
     "text": [
      "100%|██████████| 75/75 [00:31<00:00,  2.37it/s]"
     ]
    },
    {
     "name": "stdout",
     "output_type": "stream",
     "text": [
      "Epoch [5/5], Loss: 0.20115980327129365\n",
      "Playing original (clean) audio for sample 0\n"
     ]
    },
    {
     "name": "stderr",
     "output_type": "stream",
     "text": [
      "\n"
     ]
    },
    {
     "data": {
      "text/html": [
       "\n",
       "                <audio  controls=\"controls\" >\n",
       "                    <source src=\"data:audio/wav;base64,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\" type=\"audio/wav\" />\n",
       "                    Your browser does not support the audio element.\n",
       "                </audio>\n",
       "              "
      ],
      "text/plain": [
       "<IPython.lib.display.Audio object>"
      ]
     },
     "metadata": {},
     "output_type": "display_data"
    },
    {
     "name": "stdout",
     "output_type": "stream",
     "text": [
      "Playing poisoned audio for sample 0\n"
     ]
    },
    {
     "data": {
      "text/html": [
       "\n",
       "                <audio  controls=\"controls\" >\n",
       "                    <source src=\"data:audio/wav;base64,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\" type=\"audio/wav\" />\n",
       "                    Your browser does not support the audio element.\n",
       "                </audio>\n",
       "              "
      ],
      "text/plain": [
       "<IPython.lib.display.Audio object>"
      ]
     },
     "metadata": {},
     "output_type": "display_data"
    },
    {
     "name": "stdout",
     "output_type": "stream",
     "text": [
      "Playing original (clean) audio for sample 1\n"
     ]
    },
    {
     "data": {
      "text/html": [
       "\n",
       "                <audio  controls=\"controls\" >\n",
       "                    <source src=\"data:audio/wav;base64,UklGRnxKAABXQVZFZm10IBAAAAABAAEAgD4AAAB9AAACABAAZGF0YVhKAADl//D/AwANAAoAAQD4//H/9f8BAA0ACwD9//D/8/8FABIADAAAAPz/9v/q/+z/BgAeABQA7v/O/9v/CAAhAAoA5P/b//P/BwADAPL/5//u//v//P/x/+n/6f/r/+7/8f/1//n/+v/2/+//6//s/+//7v/n/+T/7P/9/woABgD2/+n/6//2//z/+//8/wAABQAGAAIA+v/z//z/DAAQAAAA8f/2/wMAAwD3/+3/7//5/wcAEAAIAPb/8P8AABcAHAAKAPX/9v8NACEAGwADAPH/7//4/wEABwADAPj/7P/q//z/FgAeAAcA8P/x/wEACAAAAPj/+v8DAA0ACwD9/+z/6//6/wgACQABAP7/+//2//j/BQASAA4A+//r/+r/+f8NABkADQD0/+f/9v8SAB8ADwDx/93/4//9/xEADwD8/+z/8P8DABIACgDy/+X/8/8LABYACwD//wAADwAZABMACgAMABQADwD9/+z/5//v//v/AAD7//H/6v/t//3/DwAQAP7/6v/r////EAARAAIA8//v//b///8DAAIA9v/i/9//8v8BAPr/6//r//n/AQACAAEA/v/6/wAADgALAPH/3//w/xAAGgAFAOz/5f/2/w0AFwAKAPP/6f/1/woAFQAPAAYACgAbAC4AMAAbAP3/8f8BABkAHgARAAIA/f8AAAYADwAUABQAEgAQAAsACAAMABUAFQAHAPz///8LABMAEQANAA8AEgASAAsA/f/x//f/CQAVAA8ACAATACYAKgAXAAAA9v/+/wYAAwD//wIACQAJAAgADgAQAAgAAAAFABQAHAAQAPv/7P/z/wgAFwARAP3/7P/r//r/BQD//+n/3f/p////BQD7/+7/7////w8AEwAMAAIAAAAFABEAGQASAAAA9f///xcAJgAXAPb/3//l//3/DgARAAoA/f/v//H/BQAZABgAAwDv//H/BgAUAAQA5f/S/9n/7f/7//v/8f/s//X/BAANAAoABQAGAAkABwADAAYACwALAAoADAALAAUA///+//3/9//1//n/+f/w/+z/+P8EAAUAAgAHAA0ACQABAAMACwAOAAgAAAD7/wAACwAUABQACAD0/+D/2f/j/+//8v/u/+3/8//7/wEACAANABAAEgASAAsAAAD4//z/BgANAAoAAAD6//n/+//+/wMADQAQAAkABQAOABwAIAAbABMACQAAAAAACwAQAAUA+P/6/wgAFQAUAAsADAAWABcABQD6/wUAFwAVAAMA+f/4//j/+P/5//r/+f/7/wMAFAAjACMAEwAHAAoAFAATAAoABgASACQALAAjABgAGAAcABcACAD+//v//v8DAAgACAAEAAEABgAUACIAHgAKAAUAHQAvACEACgAKABUAEgAHAAcAFAAgACMAGwAIAPf/+P8MACMAJAAGAOn/9f8tAGIAYgAsAPb/9/8lADwAGQD0/wIALQA4ACYAGgAcAB0AHgAlACoAKAAiAB4AHgAgACcALgAtACIAFwAYACIAJQAVAPv/7P/6/xUAJgAjABUAAwD0/+z/8P/9/wYAAQDx/+f/8v8DAAcA+v/p/+n/+f8KAAwA///u/+r/9f8DAAoAAQDz//H/AAAPAA0AAAD4//3/BAAAAO//5v/w/wAAAAD2//H/+P8BAAEA+//6/wUADwAJAP//+//5//P/7v/y//b/8//z/wAAFAAcABQABQD4//L/+P8GABAADgAFAP7//f/8//X/6//p//X/CgAaABQA/f/w//r/CAAIAAMABQADAPL/3f/b//T/BgDq/6z/oP/o/zcALwDR/4D/mf8EAFIAMADJ/4f/nf/h/w8ACQDb/7D/qf/H//f/FgAIANb/tv/N/wQAKgAjAAIA5f/d//D/CQAWAA0A+v/q/+v/8v/t/+D/6/8OABwA/f/c/+z/HAAyABAA3//d/xYAUwBJAPb/p/+q////YQB5ACoAv/+j//T/VwBqACYA1v+3/9H/DwBHAEcAEADZ/9D/8/8SAAQA1v/C/+D//v/u/9T/3P/r/+D/3P/5/wsA7P/C/8n//f8lACIA+//P/8P/4P8LAB0AAwDN/6j/xP8IACgA/f+//77/AABBAEkAHADs/+n/HwBWAEEA8f/N/w0AcQCDACwA0v/m/1sArgB6APn/uP/w/1kAkgBsAAAAq/++/yMAfAB6AA4Aof/U/2wAVgCE/1r/jgDRAUcB4v4T/Vz+7AHcA7gBvf0n/DP+dQEJA90BA//5/JX9JQAwAu4B2v/6/dL9L//NAG0BowA4/2f+yf7z/+QA1gDy/xj/+/6W/00AlABbAO7/oP+a/83/FgBRAE8ABwC0/53/2f88AHgAYQAUANP/xP/s/zAAYwBZABEAxf+z/+X/LwBdAFEAFADS/7n/4f86AIYAeAARAK//rP8EAGAAaQAfAMz/sf/S//7/DwAIAPr/7v/q/+z/7P/p/+T/2P+//6n/sf/b/wEAAADd/7//xf/o/wgAEAADAPX/6v/h/9v/3//q//X/9v/u/+f/6P/u//H/9f/7/wAA/v/z/+n/8P8DAA8ABQD6//7/DQAUAAsAAQAAAAYACAD//+//7v8DACIAMQAjAAMA7v/6/xsAMgApAAoA9f/9/xQAIAARAPT/6P///yEAJgACANr/2f///yEAJAAGAOD/zv/n/xUAJQAAAMz/vP/S//D////8/+X/w/+v/7b/yv/Y/9//4//j/9v/0f/R/97/8P/2/+f/zv+9/8D/1v/1/wsACgDz/9v/2//8/yUALQANAPL//f8XAB4AFAAXACoAOwA3ACkAKQA7AEEAKAAIAAkAKgBKAFMASAA2ACwAMQA/AEcARQBEAEcARQA2ACMAHQAiACEADQD2//j/GAAvABgA5P+9/8D/5P8LACUAMQAmAOv/kf9h/5X/BgBYAFUABgCe/1f/Xf+l//r/IAAEAMj/pv+8/+z/BAD1/9H/vP/C/9j/6v/s/+P/4v/o/+P/0P/F/9f/8//4/97/wP/A/+P/CAATABMAGgAfABEAAAAAAAkADQAPABgAIAAZAAgAAAANACcAMgAiAAoABAAPABkAGwAZABkAGwAXAAwAAAD9/wMACwALAAYACAAVACAAGQAHAPv/+P/9/wwAHgAhABAAAAABAAsADQAGAAYADQAVABYAEQAPABMAGQAXAAoA+P/q/+r/+v8OABcAEwAUACoASQBWAEUAKAAeADQAUQBTADgAGAALABYALAA5ADEAHAANAA0AGQAgABUACAAYAEIAXQBDAAEA1v/z/zwAVQAVAMH/rv/X//7/CgAOAAsAAAD2//X/9v/z//D/7v/q/+b/6//4////7//S/8L/0//1/wAA5v/F/8P/1f/i/+L/4v/g/9r/2//p//P/6v/Y/8z/zf/X/+X/8//4//H/3v/O/9P/6f/2/+j/0f/O/93/6f/n/93/2P/d/+7//P/7/+z/4P/j/+7/8v/q/+D/3v/m/+7/7v/p/+j/7v/3/wAABQAAAO//2//U/+D/9/8DAP7/8P/m/+f/7f/2/wEACwARAA8ACAADAAMABQAAAPT/6f/w/wgAIQAmABYAAQD2//X//P8CAAEA/v8DABMAIAAXAPj/3f/u/x8ALwDr/3L/Ef/v/hj/gP/0/yEA4/9n/x//Wv/z/2MATQDV/2f/SP98/+n/VQBzACoAxP+S/67/8P8jACwACADR/6j/p//V/xQALwAQAOT/2P/l//D//v8bADsARQA7AC4AIwAgACcANAA9AC4AAADI/7T/1v8LACcAJAAVAAsACgAWAC8ARwBNADsAGAD7//X/BgAjADQALgAUAPr/7//4/wwAGwAbAA4ACAATACcAMgAzAC8ALAApACoALgAvACsAJQAgABQAAwD9/wkAIAAtACMADwAKABsALQArAB4AHAAnAC0AIwAOAPz/8//v/+v/7P/3/wMABQD9//P/6f/f/9v/3//p//b/BgAXABsADQD9//v/CAAdACwALwAlABIAAQD4//P/8f/2/wAABgADAP///P/0/+T/1v/b//X/EQAgABsADQADAP3/8v/i/9b/2f/q//r/+v/x/+z/8f/9/woAFwAgAB8AFgAFAO//3P/a/+r/+f/2/+v/5v/n/+f/8P8GABoAHQAWABQAEgALAAgAEQAUAAYA+v/8/wEA/f/6/wYAGQAgABgACAD4/+r/6//9/xIAHgAjACUAGQD9/9//0v/b/+z/8//u/+z/+P8IAAsA///u/+P/5v/8/xoAKAAYAAAA9//4//X/8//7/wgAEwAbAB4AFgD//+D/yf/H/9r//f8dACwAIwAPAAAA/f8FABQAIwAvADkAQABAADEAFwAGAAsAHAApACoAIwAUAAEA9f/w/+r/4f/i//b/EAAeABkADQAFAAUACAAKAA8AGgAmACwALAAnABYA9//T/7r/t//H/97/8v8AAAcAAwD0/+L/2//n/wAAFwAeABIAAADv/+j/5//p/+7/8//0//L/9f8BAA0ACgD2/93/z//U/+z/BwAUAA4AAwADAAoACgD9/+n/2//c/+7/BAASABUAGQAkACwAKQAiACEAIwAcAAoA9//u//b/CwAjAC8ALQAgABEACwAQABYAFgAUABUAGQAcABcAEAASABwAGwABAOD/1P/l/wQAFwAQAPj/4P/U/9n/9f8gAEUAUQBJADsAKwAdABsAJQAlAA0A8P/k/+//AwAUABoADwD3/+L/4f/2/xIAIwAiABIABAAIAB0AKwAqACQAJQAjABUABgAMACcAPgA7AB4AAQD+/w8AJAAuACcAEAD1/+z/AgAmAEIASwBCACUA+P/P/7//w//S//D/FwAxACYAAADY/8H/v//N/+b/AwAhADQAMwAbAPb/0f+2/6v/sv/F/+H/AQAcACAABADP/53/kv+5//b/JAA2ADYAMwAvACUAFQAMABQALABDAFEAVABJACkA7v+m/4D/mv/h/y0AZAB8AGkAMwD9/+X/7v8DABYAJAA2AEwATwAyAAAA0v+0/63/zv8RAFQAcABaACgA+P/Z/9H/2//u/wUAJQBDAEcAKAD9/9v/xf+5/8X/8/8qAEcAOAAEAMf/nf+c/8D/7v8MABIAAQDi/7n/kv99/4b/rf/e/wEACgD6/9b/sf+g/6T/qP+h/6f/zf8EADIATgBRACMAyf96/3P/sv8CACwAHgD1/9D/t/+n/6X/t//N/9f/2//u/xIAOgBOAEIAIwAKAAgAGAAqADIALQAiABQAAQDq/9X/0//h/+r/4v/a/+L/7P/a/6r/ev9u/4//yv/9/xYAGAAKAPT/3//R/8z/0//z/ygAUgBYAEEAHgD0/8v/xP/w/zIAWwBWAD0ANABKAGQAYAA4AAwABgAsAFMAUwAzABMABgALABkAKgAzAC0AHgAPAAUAAQADAAUAAQD7//j//f8AAPX/2P+3/6r/uv/g/wIACQD4/+H/0P+1/4r/af9s/4b/mf+e/6T/tf/P/+T/5f/P/7j/vv/l/wQAAADg/8j/xf/O/9n/4v/p/+j/3f/C/5//iv+Z/8T/4P/U/7n/sf+0/6b/g/9l/2v/jP+d/4T/V/9H/2X/mf/E/9X/zf/G/+T/IgBWAF0ASQA8ADkALgASAPv//P8PABUA/v/g/+b/FgBIAEkAEADO/7b/2P8TAEIAWABrAH4AcwBBABMAEgAxAD0AHADz////RwCHAHsAMQD9/xYAZgCjAJYAVQAgAB8ARQBrAG0AOADk/6H/jv+l/8f/2//n/wIAHgAPAML/af9b/7v/SgCdAIMAMwACAAgAHgApADUAWwCYAMoAvwBrAP//vv/F//f/CwDe/5j/mf/+/28AhgA+AOP/rv+q/9P/BAAEANn/y//0/wcAwf9E/wH/M/+d/9H/nv9E/zb/nv8gAEIA5f9l/1T/6f+zAAMBlgDX/2X/dv+1/7z/aP/i/pL+1v6I/wkA/P+r/5D/q//G/+L/+//V/17/9f4T/8T/eQCBANH/KP8+//X/qgD/AA0BBwH8ANQAhgA+ACMAIQAHANT/rP+r/8f/2f/I/6X/lf+n/9L/CQAsAAkAqf9Y/0//cf9w/zH/8v4N/47/FAAqALT/Dv+4/uj+c//9/zwAQQBSAHYAYAAAAMD/7f83ACMArv9U/4b/BwATAHX/8f4x/8T/1/9i/w//Tv/2/4UAoABiABYAz/+a/7f/KAB/AEMAev/P/gL/9P+mAIQAJQBtAFAB8wG/AQIBlwDlAGkBfAFCATUBRQEuAQkB8gCgAPL/U/8y/3D/rP/B/7P/eP8o/xH/Zv/4/14AWAANAPT/SgDOAA0B7gCTAAcAkP+3/3YA8ACgAB0AMwDSADoBAAF+AF4A1QBXAUoBzABrAF0AegCkAMAAmQBDACMAXQCLAGIAKAA+AIgAtgC9AMkA4ADTAHIA6f+s/wMAnQDuAMQAUQDm/63/nP+y/wcAcgB8AA4Atf8FAPsArwEcAcv/pP89AZsC4gEFAEX/NAClAWYCEwL4ANf/VP+P/yoAtQDjAKYAJwDg/14AiwF+AmcCWwFfAHkAZwHGAfMA7/8EABkB2QFjATwAo/8rACEBXQGlAOD/8f/VALsB4QFZAcgAiwCMAJQAdwAVAJb/WP+V/x8AoADWALIASwDT/4P/pP9aAEUBkwHqAPj/j/+5/wgARgBwAHIALQCm/0D/lv9+ANcAQADx/7cAfwEdAT8AFQBpAFUA0f9k/0z/bP+O/7n/KAC0AKkA8f+L/yoAEAEgAV8Asf+b/wIAhgC+AIQAAQB4/0L/t/97AJkAyf8D/0j/YwA+ARsBaQAlAJkAAwGKAGH/o/4b/zIAgwB+/zX+Af7c/sP/IgAXAOD/nf9p/zz/Ef/v/tb+zf7v/i7/Vv83/9X+df5g/or+l/5Z/iD+Rf6t/vj+Av/b/qL+gP6d/hH/4f+kAJ4A3/+E/+T/yf9o/s/8nvwK/mH/xP7B/Cr8F/7n/yj/Rf0R/bD+BQDJ/5j++P2S/nz/qf9//8L/CQCk//v+5/50/w0ARgAKAJn/QP8k/1H/2v+DAK4AHQB3/zD/2/46/gL+qv6E/6T/OP9H/10A1AFjAlEBP//O/Tr+CgBsAUQBWQDs/wkAIABOAN8ATwEWAY4ALgDT/3f/pv+HAEYBGAFUAPP/TADsAEQB9QDk//n+ov+BAS4CeABL/jX+NAD+AcgBLQBE/xwAjQHGAawAvf/5//EAjgEkAQsAWv/H/7IAyADh/2P/SACjAeAB1ADZ/ygAWAG/AbsAtf8iAFgBkwFpAP7+fP5M//sAUwIxAtMAtv/Y/7cANwHvAHMAaACOAAAAz/6A/t3/ZwGQAfAA1wAxARIBTwCy/+3/qwC/ALP/mf6g/oP/EQDG/1z/1/8tATIC0AFPADb/pv8MAcoB+ABl/8j+5P9wAVgBWv+Q/dv9hP+NAFoAzv+8/0YAFQG2AQwC7gH2AG3/ov5F/0YARABI/2f+V/4I/wcAxQDoAI0AHQAKAIEA9gB9AOD+Gf13/GL99v7h/6X/5f6d/h7/0f/1/5X/b//r/44AtQCIAKUAIQF+AWkB0wDh/zb/ov/KABwB0f8y/sr9ef5E/87/RgCwAF8Aq/6w/A39EwBSAggB8v2Q/K79RP+C/4z+w/0i/jz/uP8L/zb+mv4xAHgBLwH5/2H/3v+UAIsAiv8u/ln9W/0R/kP/UwBNABb/4v3+/Wz/2wD0AM//0v75/rv/2v/+/hn+LP4J/6P/NP8T/qf9Af/1AN0Aaf7U/HX+PgH5AbgAwP/8/5QAogATAKb/1P8HAM7/7v+zAMcAT/+9/cL98v7p/0YATQDn//7+If4a/hL/WQDyAF0ADv9E/gX/xwDZAVQBDAC8/xcBigLHAeb+0vwA/nYBvAOdAm//bf1U/rwA0AGOAL3+n/6LAJcCnQKAAPL9e/zG/L7+aAFTA3ID3AEJANH/TQGAAqUBYv/g/Uz+HwAaAsgCYQEB/wP+kf9FAoMD/QHq/sb8Af3i/owA8QBsAN7///8BATkCnAKxAfr/3/6t/94BRQN7AmYA9/7m/lf/N/+M/mn+f/8IAfoBcQKRApIBiP8//gf/5gCMAcz/Vv0//fn/JgIJATH+5fzO/UL/IgCFAKwAmQAqAGX/xv71/g0ALwETAdr/X/87AHIA+f4F/oP/swGyAW7/cP3C/cv/BQEiAKL+hf6O/xoA1P+4/2QAowG/As4CcgF6/1T+1P54AOAB/gHrAL3/Rf8z/xz/Vv+s/9z+EP2x/DD/iQJhA9EAdP2z/GD/8QIdBDwCm//E/kEAngK1A4kCJwBh/jf+cP+cAEUA4P5j/pX/+ACjAJ3+OP2C/nwB4QL4AMP91vxF/1YCmwLR/y/9y/0fAakD2wLW/+792/7OABQBmv8n/o39vf3Q/mwAcQHgAPr+df0p/vcAhANpA5IAjP0x/Z7/AAIYArIA3/8DAC4AJABqAP0AXQElASgAwf77/bX+qABcAjgCBgBl/WL8uf02AJ0BngBK/hP9Nv5tAFkB6f9h/fv7o/xc/qn/LgByAIgALACK/w3/9f5O/+v/rgCyAXUC5AEcAPD+nv8nAcsBLgGBANQAnwE/AV7/+P3T/vUAcgISA10D/gLGAa4AvQCgAekBkwBf/m793/5kAbwCCAI4ALn+Kf4k/kr+xP58/6f/xf5z/Vj9pf+vAuAC5P8B/loAewRJBS4Bb/zK/DwCRAYpBDf/k/3i/wcCggE6/yz9A/0U/3ABigF7/wz+4P5KABwA/f42/1gBhgOkA6EBtf/P/xYBrwFfAXcAff4K/Iz7af63AskEuQKm/t38Jf+uArkD7wHD/+z+X/9zAGoBqgEzAXAA8/9DAEwBOQJKAnQBYQDf////CwC9/8D/WAB6AJn/BP/J/9IA5AChAPsASwGZAGj/0v4N/6//eQBGAdMBxQEWAVoAZAB1AbkC6gKHAWX//f07/q7/9AADAfr/sv5d/uH/NwLIAkUBvgDEAm4E/wKEAGcAPwKHA4wD0gJfAaT/Cf9kAMcCJgQmA7YAZ/94AE4CrwKEATYAl/+Y/x8A6gBiAfUAgf/M/Tj9Ev4O//n+Gv63/XH+Tv/I/g79Vfwv/k4BNwMyAz0CQgHUAF8BaAKoAqYBbAA9ACUB/wGzATwAm/7L/en9k/6Q/4YArACh/zH+Zv1u/QX+Df8fAFwAjv+v/rn+jv84APX/Vv/V/2QB9wGgAGr/XgBjAvACkAHl/1n/MACtAVMCLgHZ/uv89fw0/6cBnwGy/oH7PvtP/rUB3gFM/lf6r/l3/JIAqQTvBrgEQv+6/HgAFwYbB6wCoP2v/LL/ZALEAUr/3/2H/aD8mftk/H3/GAOLBMUClP+D/Uv9Lf6A/+wA+wHbAUsAY/7H/f/+rQARAJP7EfZp9dv6FABl/yb7wPjo+Lb5mPvm/usAmv/l/M77xfwg/qP+W/7x/QT+5v7w/xcAef9Q/xQAngC0/9/93fy1/W//7P+g/mn9lf3l/fj81vuM/FT/zAE/AUz+8vwH/0MBRACj/R/9Kf/3AIcAQf4I/LP7df13/7j/Lf6u/Nf8Vf6L/4f/xP5D/oL+QP8CALMAgwFdArcCCQK5ACMAgQAtAIn+tv38/hQA4/4X/QL9rv13/Vz9gf5j/9n+wv59AAsC3wHrAd8DnAWnBEsCPgG2AYsCkwOCBAQE6gFKAOAAuwK7AxYDxgEKAU4BKQLBAosCBwIHAp4C/wJvAjoBugAFApUEiwaIBhIFqQP2AscC7wIAAykClwDH/3gAggF7AXEAn//B/1QAPQB2/17/ogDHAYIBAwGFAekBTgFDAcoC6gOrAk4AUv8iAF8B5wFbAeP/QP5g/Z/9q/5u/6X+yPwY/Er9GP7H/A77MPt0/Nr8R/y7+1X7yfp/+uX6v/ue/Ff9vv2V/df89/vR+w/9FP87AOn/d/8qAFkBswFPATYBxwGhAmEDtANoA7ECEQLvAT4CnwLQAqAC4AEEARsBEwIfAoIAMf+V/w8AMP+V/pv/TwDG/on8Gvxe/VP+5P3D/Ev87vzN/bH9ifxq+z/7w/vt+zH7RfoW+qP6PfuZ++X7Q/xn/O778vpI+qT60vvR/Ov8Q/yv+8f7Vvyr/G78z/tR+1j79PsE/V7+ZP86//T9BP2P/Rf/OQBZAPH/v/8NAJcA0wCPACAA+/9UABMB0gElAvsBpgFzAW0BhAG6ARYCbQJ1AgYCZQESAUkBugHkAZwBYQHaARIDOwSlBIYEewR/BIIE5wSLBWIFPQShA8EEpAaTBxsH9AW4BMYDjQNLBJkF4QaoB5kHiwYRBUAEmwRuBdIFtAW6BUcG6AaiBlQFEQTDA/ID/gNVBFsFFgaoBaME9gN7A9kChgIAA8gDLgQyBB4EwwMfA8wCKQOuA/8DkQSXBSoGbgXKA1UClAFRAS0BBQEEAUYBfQFrATkB4QDi/1r+iv1d/hgAPQEcARgA5/4J/q/9tP3f/Sb+l/4n/6P/vf8+/13+sP2f/Q/+u/6W/2YAngD0/+f+OP4u/nj+qP7G/kL/PgAnAVIB0AArALv/zv+2AEkCuwM5BKID+AJ+AzoFsQaaBmcFvgR4Bf8GDQihB8YF9wPvAxQG2ggtCkYJQQfdBWwG3gh7CwoMIAq/B10HggllDLwNUgy0CJAEZAET/0j8m/c18bHqH+Zc5H/kNORy4RrcN9az0lXTW9dR3BjgmeJK5XjpoO4A8+n0hfSn8470zPck/Ar/vf6S+9T32/V19oP4ZPo3+0/7Bvx3/t0B5wMxA+YA/f95Ao4HWwxwDqIN3QsHC6wLFA1mDk4PSxDKEb4TkhWwFqAW9hWvFX0W4xdjGdEavxxGHygi+CTIJ9gqmC57Mg81nzQtMFcpbiIwHY8amBkaFQwGsOl4xkGqhaCzqGm2cr2MvNu7tsEQzsXbQ+Qf5JDgteTD9hMSAirHNKQx1Ce+HwwdTRwVGLQN8/9A9QvzXveN+ejxnODozdDCRcOMzFrXPd093vPfVOdn87X9VQCd+xT2kfbU/tIJ/BB6EIAJ/QDi+8L6+Pkq9aXru+GC3YDhcerP8fry9O7F6lrrvPF3+uUA+gJdAp0C/wUdC0wODw1zCI8EKgV1ChUR2BTSE/oPBw02DcUPRBLgEkASLhJrE64UZhRcElUQ5Q+xEToVixmYHX0hfyVwKUYsLi3aK3wqmCwyMfwzbTKiLugs0Sz7IhwCLs/kpGaaO6sqwC7JC8ZPvm28OMaz1lDhSN/O1mzXT+2qE003rEaXQO8wbyMnHTQesR9wGPgH4PnZ95X+WgG99nbgRcjwuA+3er+ay4DV1dkn2wXggeqy9Ib4ePd59/L7wgOQDIYS0BHrCSn/3faY8+3zl/Ro88PwnO5d7kjwxPON9xX6n/tX/tMDuAqyD1kQKg34CEIHvglBD8UU7BdpGGAYLRpQHq8iTCXyJakmXSlMLl8z8za6OCQ5GDiQNu42ODsLQy5JpkfVPfMw7yRvFmj9VteKrsKUUJRjpjG61sMmwzG+Nb2ZxMDRg92j5J7rSvpYFDAzOEoWUP1F8DQtJpgdqRp/GP8RkwZo++z0x/Gq7GHhSNHfwY65bbs7xuXVM+V472z0D/hl/cUCDwWXBIQE0AeCDnMWyxuUG7YUqghl+9/xBe4Z7UbruOcQ5MjhxuFh5NnoCe1476vw4vIT+HL/rQUHCCgHwgWsBekGpAhrCfsH2QReAqkCmAUJCa4KFgrFCAQJvwsSENsTfhWwFA0TxxJYFR8aPx+lIgIkdSQsJi8qCTDWNUg6Jz3nPzJE+kglTDRLAkX/O/EyoySRBprXIqj6jbSQPqTOtIm3trDerO+xmr2fyn3UFNnn3VrufA6lNN1P4lVtSZA2hygmI+Uh3B6DFsIJ9vxX9b3yN+5z4fPMVLgbrCytbLp2zQneeee46kjtTvSv/xYKtg7+DtUPARVzHe4knSX0G/cIZfJo4DXZcNsP37fd8thc137c2uW37Vnw2e5t7sfzA//+CzsUVxPlCrEBoP0X/8oBrwFg/r76ZvqR/gwF6Am7ChoIzwUBCGAP/Rf1HFAc6xccE/IQlhIiFwAcPh9+IOkh2CW6LOgzVzj/OCc54jxoRJpMSE8/SQ1AUzz6O+YvuAnkzYqWAYAgj0ys0Lugt2etf6lZsKS/28/b18DWstZz5X8JijdAWAJcy0gSMY0i8R5OIaEhLRqOCxL9dPUR9az0MOp+0925LKpYqiy4Gc2e4NLqcepB5p3nUvIlAccKJwt4CGwL/RWiIVAm8x5NDFT2JugP56zuAPX68lfqCeMI47roMu7F76fuIe5r8df5UQT4CtYJXQKp+vf4J/5SBckIKwdcA7gAxgAqAzAG7Qc2CJAI9ArnD0cVahfcFOQPxgzSDToSTBebGiYbtBrEG24f2iONJqMmgCaVKYExoDvGQ29HhUXiP7Q5yTVeNps5OTPVExHcH6QXieKStK4Wwa29367rp9uvocDT0LrZtNhn1F/btPbTIL1GY1XjSAIweR35GAIdkiBZHbQSngSG+Tr1/vXD9Brp09KXvOiye7k/yoXbhObZ6dToFuhK62fzG/2xAvgBHgDMA3sOiRo1IAobHw0+/TLy2O6M8eb0f/Px7InmEOb/60fz1PVb8kDta+wq8sb7dQSMCDAHrwL+/r3+vQGIBU8HQgYaBEcD2QQVCEcLEQ0CDSEMIgwXDlAR6RMVFAgS2Q/zD+ESMBdwGncbnRqKGXgZ8BqUHRchDSVdKactrzGjNPk1LDauNJcx6y4IL5sx/zCoIan7Y8gRoRKZiasmwszKccTHul+59sBXyzvT69ZY1sPVvN6w9gcYYDSwPik13CLqFJgQ2xLGFjsYQRXhDRIFCf/w/Vr+Mvj15zPU+8clyU7UveAV6ATqcekQ6C/nO+lc7+723ftY/aX+SAQPDvgV4xUBDuYDGP0l+0P8T/2V/F/6xvc19s32nfik+IX1lfHo8HL17vy0Av8DAgLJ//f+jv97AawESQgBC/MLfQv8CjMLQgt6CtkJ0QpZDUgQcRJFE5oSpRDYDZoLjAviDYAQShE6ECsPdg8UEagSJROPEvMRFRKZE60WoBqdHWkePh0LHPgcnB/eIfEh5x9SHVMaThKM/3rjVMlVvejBRM7u1vbWBNJrzjLOCdDM0ofWitrz3fjhXOmV9s0HXBYqHDAZKRJlDFEKiAt4DvARrhM2Eb4KxARxA4UFlgU//4PzT+gC4yfkr+ia7ULxgPL48NTtvesd7bPxQvYZ+E342/lC/soDWQdOB8EE3wHI/3/+UP5p/y0BjALmAnIC3QFGAfH/wf0M/G78Av80Ai8EXASTAxADJgN9A9IDRQT5BOEF2gb5B3AJBQvPCz0Lzgm8CMEIfAnTCTIJGgh7B5IH/gcwCPsHWwdiBhsFGAQzBMgF+gdrCW0JtwiLCKgJbQurDLIMJAw0DLMNSRD4EusU0BXmFWkVpRSoE+kRRA6KBxr9L/Az5FTdS9214Q/mNucD5XTh4N5P3pvf6uFG5B7myufv6uHwTPnpAeEH0QnVCBsHTQbMBlMIOgrYC3sM/Au4CpEJ/QhcCNQGLgSmAKX84fh89jT2lfce+Ur5oPfr9Kny3fFv8n3zgfTd9Rv4HvsK/vb/mQBOAIv/qP4m/uX+FQG6A3oF2wVPBYAEtwPdAh0CCgLhAvsDegQkBHUD4AJgAp0BxACvAPQB/QOjBUkGJAamBSAFmQQGBHwDIQMCAxkDagP7A4MEoAQGBMUCTgF+AAYB0gLfBAgG9QVUBRwFygX3BsIHjweeBsQF1QXoBkQIxwgSCL8GBwatBq4IVgvlDQUQdRETEuwRSRH+DxUNfAdc/2T2Lu9r6/jqQuyd7QPuLe1h6yzpUedZ5mjmLedm6Gnqs+1u8vH3Ff3oAC8DJwQ2BLwDWwO5AzsFfwe4CfAK2ArmCcsIwgdMBtkDnQCT/dr77ftb/eH+MP+z/dD6yffe9Vn1c/Vg9TX1wfWf92b64fwd/hr+jv0l/Ur9Tf4iADsC0AN1BE0E7wPUA/sDHwQVBOwDvwOIAysDnwIKAr0B4wFjAvUCSAMwA8wCTwLkAY0BIgGMAA0AJwAPAUoCDQPcAuQBuQD5/+D/SADeAFcBkgHFAUgCIAPQA+UDbgMLA1gDZASfBV8GZAb7BZgFjQXQBTIGawZVBukFggWhBZcGCQhaCSYKjgoHC94L9wzSDfEN7wyZChYH7gKX/kf6GfZx8unv+u5n70HwbPBW71XtO+vI6T3pi+m46tPs6O/O8zn4lPwbAB8CbwKqAQYBZAHfAr0ETAZPBxIIqgi5CNsHOQZjBMcCeAFoAJn/HP/J/i3+7/w/+675nfgc+AL4D/gb+Dr4pPiE+b/6//vs/If9Lf47/7AAJAIdA20DTgMWA/AC5wIMA0UDQAPaAlsCFwIGAuEBewH+AKsApgDHAMUAfAAZAOz/GwCCAN0ACgEUAQ4BEgE8AYMBtQGoAWEBIAEsAX0BrwF7AQMBpwCQAK8A6wA7AZYB9wFOApYC1QIOAysDMANJA5wDFQSdBDEF0QVGBmoGQgYdBjsGoQYFB2MHEQhGCZkKewvJC9cL/gsZDKQLTwpjCCsGewMEAAH8DPi89E7yzvAk8CPwavBh8J/vN+7G7PnrMOxp7V7v5/Hw9Gb43/u//oAAGgH/AOkAQAETAjQDkQT8BRUHcAfuBssFZgQPA/UBPAEPAWEBzAHPASgB5f9B/pT8MPtn+mL61fod++f6lPq++n37Xfzb/Oj86vxG/f79xv5u//r/eQDlAC4BaAHPAXUCCgMvA+ICewJQAnQCuwLmAt0CrwJpAhkCxgF9ATkB6QB4AAIAzv8JAJMAEQE1Af8AqABvAGAAbwCUANAAFQFMAW0BiQG2AeYB5gGqAWcBUgFgAV4BOAExAaMBiQJfA7sDuAPSA0IE1wQmBRIF4gTzBEwF3wWxBrUHewivCG8IRwimCJUJpQp6CxYMggyTDP8LwQoRCQ8HcQTAAPn7APf/8qPw1e8Q8JnwvvAU8K3uFe3568frX+xZ7YvuJ/Ch8hH2APqs/X4AKwK5AosCbAILA5gEewbQBxAIigfRBiUGXAVLBBED+wE0AZ8A8P8F//n9Af1M/Or71/vx+/b7mPu/+rP5A/ke+QD6Qftp/E79D/7Q/oT//f8jABcAIQB9ACgB8AGgAh4DYQNbAwcDgQL5AZYBawF5AbYBCAJSAm4CSgLrAW8B9QCYAGIAWAB7AKwAuACWAHQAewCOAHsAOgAEABQAdgD7AGMBjAGQAZYBuAHrASACUgKWAv0CiQMkBKkE7QTkBKwEfQR1BKUEAQVoBaMFqwWjBdEFRQbQBhYHCwf6Bm8HpghlChMMRg0EDn4OwQ6eDvQNkwxKCusGkQKs/fL4w/QR8dTtc+tL6iXqPerd6fHo8+d657vnoegq6m/seu8D85z2Bvpa/Z0AdgNuBY0GSwdDCJMJ7AriC28MrAyMDNoLjgrDCKcGYAQZAhQAov64/dv8ePtf+QP3FvX081rz/fL18mvzN/Qs9Wz2TPjO+jf9iv6g/pn+ov/BAfMDTwWwBZsFewVFBdwEgwRxBGQE6wMOA1kCTwLFAtoCAwK1AN//3P9iAPEASAFoAV0BHAHQAO0AqgGOAukCggLQAX8BvQEHAuQBewE9AUcBdAGuAQICYAKKAjwCngFCAZgBZQISA0gDRwOIAz8EDgV+BWoF/QRmBOkD2AOEBNkFOwfUB3QHwQa/BroHGAngCesJBQofCzcNgQ8bEdURFhIaEsER0BBsD5UNwwoBBvj+pPYo79HpOuZ545Hh2+Dq4MDgxd+L3ireLN8A4Rjj/OWE6rLwaPdh/QcCowV7CHIKewtVDNwNQhCoEg4UDxRAEyMSdRC4DR8KTga3Anv/u/yT+gf5vfcg9gP01PEn8PPu3+3K7BrsdOw27iXxvvSF+Pj7dv6t/w8AcgCOAW8DkgVDBzAIBgiWBjYE/QHQAI8APgAO/yL9f/vV+rr6mfp7+qr67frq+tL6a/sv/aj/igH8AXkBRgEtAggEHQa9B6IIyQhHCI8HZAcOCNQI1Aj4B/wGlgbaBiEH0wboBdQE7gN+A7UDmAS0BXMGbgb5BdcFiwa6B7YIIglNCawJdApWC/QLHAzmC2QLzgpxCq4KgAueDIENBA5oDiMPThDMEUQTiBRkFYEVuhQeE2cRPxCWDyQOFArqAe71S+hT3KPU29GA0jrUItWl1KjTfdPs1GHX8dlj3KLfReUQ7kD5kwSJDX0SfBMUEpwQnRBCEkwUfBUYFYwTgRFCD1kM8AevAUH6OfNU7nzsQu0f7zrw1u+N7pjtku2J7krwuvLN9Xn5wP19AlEHVQtqDSMNggvnCS0JZQlMCgcLmAogCLwD2/5J+1P5SPdx8zvuCer06PnqAu7a7/vvnO8q8HLyV/a0+vn9PP8e/1D/aQE6BcwI9glcCFwF1ALNAR8CngIZAkQA8f17/LX8Gf4C/13+qPyO+1n8HP+7As8FYAeRB0IHigfwCBgL+AznDS4OsQ7zD7gRHxNqE2oS1BCqD60PuBAMEpsSFxLrEPAPjA/jD8MQHBKaEwQVFRbTFkcX0he0GO4ZExvDG+QboxtBGzQaxhfEE+0OyAmRA2/6jO1o3rDQW8gaxwDL2s9s0m/SOtIH1IvYrd7T5ELqou+T9vP/HwttFbcbXBy5GMcTUxAQDw0PSA57C44GrAAS+yX2U/Gt60Hldt9x3HrdFOII6Pzsse/b8CHyBfXa+Y3/lgRbCMcLuw/8EygXEBhBFksSVQ3MCJ0F9gPPApMArfwz+Jn0CvLb75jtmuuL6gPrM+2s8JH07/f3+Yv6Wfr6+Yr5S/kx+nb8GP/OAHkBjwEaAYb/nvwt+dr23/b6+Jf7Mv0D/Sr7uvgb9/f20ffW+Mz5Gvsd/Z7/2QEHA+gCJQLbAfwCtgUgCcMLvQxVDH8L2gpvCvUJUgmqCFwInAhdCTYKqgo7ChoJBAgCCG4J5gtlDhwQuBDwEKgRPRP1FA0Wbhb9Fn8Y8BoxHSsejx0FHFkafBkMGrYbBh2KHDQa1xZxE0QQrgx2B4b/cfQ152naX9ElzvrPBdRg1xDZCdou3FHg0eU967LvrfN7+D3/eAdgD3AUPBU3Er4NFwo+CEwH4AXjAmz+cPke9cHxg+6P6gzmZOJB4Xnja+hM7hXz5vVC94P4rfrK/S8BOgQDB/4Jjg0xEdcTXxRqEoEO1wmQBWQCMgBf/mT8R/pr+Af3+fXR9FXzsfGM8JTwEfLC9Nr3dfop/DD96v14/o3+Av4e/aL86/yy/Qz+Wf27++j5hPiq9+32AfYn9Qz1HvYO+AL6Ovtu+9f6J/ox+lT7Nv0L/0YA3wBCAesBAwMlBK0EbATlA+sD3wRjBrMHQAgECIcHWwewBzIIdwhMCAMICQiiCJQJdArtChwLTgv4Cz4Nug6MD1YPgw4pDuIOcBDnEZkSgRKKEnwTTxXhFhkXxBX6Ew4TwROUFVAXzxe0FowUZxIjEX4QEA9MC8gEe/wO9O3ss+f2493gW95m3ZPe+OBH4xTlkuak56ro6+ro7oLzXvel+vT9LQGYAxEFoQVRBUUEKgNqAu0BFAF2/x79m/pq+Kb2PvVN9PDz+vNB9NX0qfVJ9nP2ePbS9qT34fiu+hX9xv85AiYEZgXpBc4FcgUCBWAEfQO4AmgCfAKaAokCLAJhAS0A2/6k/Yb8c/uM+v/5yPm/+cf5wPmS+Vz5ePkC+p/62/qw+mv6W/qm+k/7MPwL/aL94/33/Tn+0P6L/w8AOAAgAPn/6P8AADIAWwCCAN0AfgEhAnkCdQJTAkUCVQJkAmQCcALBAmoDOATHBNkEdgT4A7UD0gMuBJQE3AQUBV4F2AVsBuIG/gbGBnkGaQaiBvgGJQcHB6IGMwb0BQwGWQarBt4G8wbzBhsHlQddCAoJLgm5CDcITghgCQsLQQwDDGQKkAj3B/EISApACiAI5AR6AvgBjgJKAsn/gvue9y72Xvdd+cv5svdU9ADyF/II9Mv1rPXF89fxsPHE89b2L/nn+Wj53/hX+c76avw+/Qv9SvzQ+xP8Dv1Q/k7/rP9s/8z+Nf76/ST+bP52/gn+Uf3S/A/9CP4i/5L/D/8E/jT9LP3c/ar+9P6U/gD+6v26/iwAhAEfAu8BcQE6AX8BAwJPAhgCeAHcAJsAtwDTAH8AmP9a/jf9evwh/Pb7uvtQ++T6zvoe+377kPtP+xH7JPuF+/b7OfxZ/I38//ye/UP+uv7r/vL+Ef9d/63/yP+y/6P/zf8yAKoAAgEhASIBNAFkAYoBiwF9AZYB5gFYAtUCUQO9AyIEhwTfBAEF4QSlBJcE1AROBc8FKQZBBj4GVgapBgsHQwcqB+wGxwb0BmkH9QdRCHUIiQjHCCcJiwnSCfQJ6gnaCfEJUwrXCi4LDAt8CtwJcAkiCZkIiQfpBd8DfQHb/kX8RfpF+RX56vgI+Gv21PQl9ID0G/UB9dvzTvKP8YPy2vRU97P4yfhs+Lf49vmM+3D8JPwM+yr6OfpP+9H8C/6X/pH+Tf4g/ij+Sv5L/vj9UP2t/Hj85/zR/cb+Vf9P/9/+Y/4k/in+Rv5Q/kj+V/6r/lj/MADdAB8B+gClAFgAIQD6/87/mP9y/33/sf/R/53/Cv9T/sb9dv03/df8WvwH/CL8k/z4/Pf8j/wg/Af8P/x1/GH8H/wY/J38f/1B/oL+W/5F/pz+R//a/+z/ev8I/z3/MgBUAd4BkQHrAJ4A+QCsARkC4AFGAewAPAEUAucCOwMYA+QCDQOoA2EEyQTHBJkEoAQDBZIF+AUWBhAGIgZSBoEGkQaEBlkGJAb9BfEF7QX5BSQGfgbaBhUHKQdAB3MHyAcaCFMIZQhsCIIIxQgvCbUJNAp0CjgKignICFQIJAjSB+oGIwWJAo7/4fwP+yP6tfk9+Vr4E/fR9Rb1EfVm9WX1pvRj83DyofI29H32Yvgs+Rz5Cfmw+fz6PPyt/Df8W/vh+if7E/wm/ef9Kv4m/hD+/v3n/cz9sv2M/Uv9Cv3n/Pf8Pv28/Vf+0/7s/o/+9P1//YH9+/2W/v3+Bf/U/tb+Yv9DAMkAYgBA/07+af58/5EAkABK/839eP2c/h4AaQDh/ov8H/t5+/z8Jv4A/vT8PPyU/J39Sf76/RL9bfyJ/ED96/0V/vT9F/6y/mf/p/9X//b+EP+4/38A4QC7AH0AsgBxAUsCsQJ+Ah0CFwKQAigDXwMJA44CfAIGA9IDVQRIBO0DsQPYA0IEkgR5BBYEywP8A6oEdgXiBccFXwUhBU4FwwUaBhoG2wXCBQwGngYTBx4HuwZXBmAG5AZnB3cHCgeLBlAGdgbTBjMHZAdkB0UHJQcUBxoHHgf0BnsGpQWUBJ0D9AJxApQBs/+t/H35qPf/97H5qvpj+Vn2tvNy84b11/cq+DH2xfMw8zD1Yvi0+g/7/Pn++GX5CPux/FH96Pw4/AP8S/y//CT9hv0K/qn+6v5t/nH9wPz3/Nf9Zf7u/bX8wvv9+1v9tP7H/nD9z/tM+1b89P3F/jT+5/w3/AT91v5RAHYAcv9w/n/+lP+/APUA+P+Y/gn+pv6z/xYAZ/8t/kL9GP2B/d39q/0M/Zv83PzF/bj+D/+w/hz+9P13/lD//P85ACwALAB9AAYBbwGEAWQBVgGAAc0BFgJHAlgCYAJ5Ap8CrQKlArEC9wJUA3sDSQPrArAC3gJpA/kDIgTRA1QDKwOEAxoEbQQ3BJ0DLANZAxYE0QQHBakENAQnBJYEIwVhBSYF1AToBHcFEQY7BuIFhAWaBSIGmwaUBhgGtQXbBXkGBAcHB4IG6AWaBa0F7AUDBqUF1AT5A1wD7QKeAmQC5wGIALf93/nZ9pf2M/lh/PP8y/lE9TfzY/Wu+fr7Ffqx9b3yvPPT97v73vxZ+0X5qfgf+k38UP2r/ID7Bfts++37Dvwx/Or8Cv6+/kP+5vzW+wH8Av2Q/cr8OPsi+kf6Pvsg/G78WfxP/GL8SPzz+7z7Cfzh/Of9kf60/q3+AP/C/3YAkgAWAIT/V/+r/0YAxADXAI8AQQAYAPL/qv9j/1z/nP/e/+v/wv+R/5r/8P9NAE0A6f+U/8n/dgAqAYkBjwFvAXABxQFWAtICDAMdAzADRANBAy4DKQM4A1MDcgOBA2ADFAPOArcCtgKXAksC/QHhARICdALLAuACugKPAp0C5QJFA5cDxgO9A50DqAP/A2kEmQR9BFQEXQSvBBkFUAUaBaQEVAR7BPUEYQV1BTQFyASEBJ4ECAVWBTQFpwQfBAYEewQuBZUFSgVyBKIDVgOYA9kDaQNMAiMBNQAR/xD9c/qd+M/4rvpY/Mz72vix9ff0FPe3+R767Pda9ef0Cvck+uX7UfuK+ZD4OvnP+tf7o/vj+rz6XfsO/OX71fr3+XD65vvS/Bf8Y/qJ+Yv6d/xx/Yj8p/rH+QT7bP0J/8D+RP1J/Mb8Hf4Q/+7+Fv60/an+fADTAcYBswDc/xcADAG8AZAB4gCaADMBNgLHAnMChAHBAK8AFgFeASwBsQB2AMoAZgG8AYIB8QCYANMAdQEBAiQC7wHBAdoBIgJLAjoCGwIyAoECxQK7AmoCDQLwASkCegKLAlQCJgJMAqsC4wKvAjQCyAGzAfYBTQJuAlUCMwIxAj4COgIfAhcCOAJsAooCeAJAAiwCewIWA4kDcwP0Ao4CpgJCAxAEmASIBA0EpAO3AzcEqgSbBBIEiQN4A94DQgQpBIcDuQI9AkQCjwKxAm4C3wFbASQBNwFbAVcBDwGsAHEAWAARAHb/zf55/oP+fv4A/gb9+vs0+7L6Kfp7+dL4bvhO+Dn47/d+9zf3XvfT9zz4Tfgi+A/4VPjg+H/57vkZ+h76Sfq1+kH7q/vg+/L7Cvwv/F/8k/zW/Dn9vv0+/ov+mP6K/pL+u/7u/hv/RP94/7r/AAA8AGsAlQC+AOQACQE1AXEBwgEkAoACtgLAAsQC4wIRAzQDQAM8AyYDAAPYArsCoQKKAnoCdQJpAkYCBQLIAbUB0AHmAckBewE7AUMBiQG9AaEBQAHvAO8AMQFqAWMBKwEOAUMBswEPAhcCywF3AWMBlgHZAfABzQGoAcQBIAJsAmICAwKdAXEBhgGuAcIBvwHAAdIB6QHuAecB5wHzAfAB0AGzAcoBDwJYAnoCdgJoAmYCaAJOAhEC3QHoATUCgQJxAuMBHgGgAKEA4wD5ALIAPQDl/8f/yv+z/2L/9v6u/qH+qP6Q/k/+Cv7e/cH9oP1n/R396vz8/D39W/0T/Yz8JPwV/Er8jPyX/E784vu6+wf8j/zf/L38U/wI/Bz8gPzf/Pj81vzE/PD8SP2E/Xj9R/0+/YL97f05/kv+R/5c/pH+x/7b/sn+wP70/lb/o/+m/3z/cf+q//7/KAAKAMj/rv/p/1IAlwCJAE4AMgBYAJwAygDRAMMAzgALAVQBZgE4ARABNQGWAeIB7AHDAZEBggGkAcoBrgFFAdYAvwATAZAB1AG0AVEB+wDsAB4BWwFzAWABRgFIAW4BoQG9AakBbwE5ASkBPwFlAYcBngGiAZUBgAFxAWgBawGCAa0B0wHeAcgBnQFqAUMBPAFaAYUBnQGTAYEBjgG9AdoBtAFaAQUB4AD4AEMBkAGZAVAB8QDOAPYALAEmAcwARQDs/wUAaACTAEEAuf99/7n/EwAdALb/LP/v/ir/j/+q/1T/2f6c/rv+7/7j/pD+PP4p/lL+a/5B/uv9sv3F/Rj+VP4u/r79bP2G/er9KP74/X79I/0x/Zz9Bf4Y/tv9n/2q/fT9Nv46/g7+7P3+/T/+gP6d/pz+ov6+/tv+4f7e/vD+If9Z/33/h/+I/5D/of+t/63/qf+x/8L/z//J/7b/rv/B/+n/DAAXAAsABQAjAF4AiwCMAHAAbQCnAP8ALgEUAdsA0AAJAVgBfQFhASIB/wAYAVcBfQFqATUBDwEOASMBMAErARcBBQEEAQsBBQHyAOQA7wAKARsBEAHxAMwAugDRAAcBMwExAQQB0QC5AMsA+AAfARwB7QC7ALQA4wAoAVEBPAHnAIUAXQCGAM0A6gDDAIMAZgCDALwA3gDKAJQAaQBmAHsAmwDEAOoA5wCkAEMAHABoAPEALAHKABQAtf8AAKsAFwHUAAEARP87/9r/cwBjAK3/8/7X/lj/6P/5/3z/5v6z/vL+Uf93/1D/B//M/qr+l/6Z/rr+5v7p/qf+UP47/of+7f4I/6z+Hf7c/TD+0/42/wP/b/4O/kj+5/5V/yn/kf4j/kn+4f5r/33/F/+g/oH+yP4s/1z/R/8c/w3/KP9d/4z/lP95/2T/dv+y//v/MQBAACcA+P/R/9H/AwBIAGkASwASAPz/IABhAIQAaAAgAOr/8/86AJcA0QDMAJkAawBrAJ4A3wABAe8AwACgALIA8AAtAT0BGAHdALcAvgDnAA8BEwHyAMUAqQCmAK0AowCJAHUAfQCcALUAsACTAHcAcgB/AIcAfgBsAGAAZgB9AJ0ArQCiAIQAZwBZAGgAlADJAOIAyQCQAGAASgBQAGYAdQBeACwADQApAGkAkgB/AEEABgD8/ygAbACVAI4AYgA0AB4AIwAtAC8AJwAdABkAEQD4/9P/wP/O/+X/3f+t/3n/cP+m//3/MwAbAL//WP8s/1r/uf/2/9//hv8y/yD/SP9z/3b/Wv9F/0z/WP9F/xX/8v4B/zn/Zv9h/zn/Hv8x/1//c/9K///+zv7i/ij/bf+J/4P/d/92/33/hf+N/5//vf/O/8D/nP+I/6X/6f8bAA8Ax/96/23/t/8fAEoAEACj/13/c//G/wMABADr/+f//v8OAAoAAAD2//T/AAATABsAFgAXADAAUwBhAEkAGgD6////IQBLAGYAagBUADMAIwA5AGcAjACQAHYAWABOAF0AdwCLAIwAcQBHAC4ANwBTAGkAdAByAF0AOQAeACYASgBwAH4AcABYAE4AYQCBAI4AegBVADsANwBFAGEAgQCQAIIAZgBWAGIAfgCNAH0AXQBDADcAOABFAFcAWAA+ABcAAAANADMATgBJADEAIQAeAB8AIAAhABsADAAFABIAKgA5ADQAIAALAAEABQAMAAsA///u/9z/x/+s/5X/lP+r/83/4P/W/7L/jv+I/53/r/+m/47/i/+v/9//7//K/4n/ZP93/67/2//b/6//gf9//6z/3v/n/77/g/9g/27/pP/o/xYAFQDc/4r/X/99/8P/8f/k/7P/kv+i/9n/CAAGANv/tv+8/+P/AwADAO3/1v/J/8P/wf/K/+b/CAAbABEA9f/d/9z/8/8GAPv/1P+7/9T/FgBLAEAAAADK/9T/CwA3ADgAHgAGAAcAIwBFAEwAMwAWABAAHgAqACcAGQALAAIA+//2//3/FAAxADoAIwD+/+r//f8oAEoASQAtABkAIwBAAFIARAAjAA8AGgA5AFEATwA/ADQAOQA+ADgALAAuAEIAWABiAFwARwA0ADgATgBfAFMAMwAZABkALAA5AC4ADwD2//b/CwAcABsAEgAUABwAGwALAP3/+/8GABIAEgAFAPn/+v8IABkAGwAIAOj/x/+3/8P/5P8AAAMA8f/X/8f/x//U/+j/+v/7/+P/u/+e/6X/yv/u//P/1P+m/43/oP/T////BADu/9P/xf/H/9T/6P/2//b/7P/g/9v/4//4/wsACADp/8D/rf+8/+L/BQANAO//vv+g/6r/z//t//H/4f/R/9L/6v8HABAA/v/i/9n/7v8PACMAHgAGAPP/8f/8/wAA9//p/+f/9v8LABkAFwAGAPb/9v8KACAAJQAeABkAFwAVABIAEwAUABIAEQASABIAEQAUAB0AIQAXAAYAAgAQAC0ASQBVAEoAMAAbABgAIwAsACoAJAAjACwAPwBIADIAAgDa/9j/+v8dACgAHQANAA4AIQA4ADsAJgAGAPX/AAAkAEkAUwA3AAkA8f/+/xcAIAAWAAwACwANABEAFAASAAgA/f/0/+//7v/z//v/+P/l/9H/yv/N/8//z//U/9n/2f/W/9T/z//I/8X/zP/Y/+H/5//t//H/8//4///////0/+n/5//q/+7/9/8FABAADQADAP///f/7/wAADwAZAA4A9f/h/+D/8P8DAAcA9P/X/8z/4f8GABwADwDw/+b//P8XABcAAQD0//v/CgARAAoAAAACABAAHQAbAAcA6v/Y/+f/DwAqABsA+P/m/+//AgANAAgA9P/h/+T///8bAB8ACADu/+z/BAAhACsAHgAQAA8AFgAUAAMA9v/9/xAAHgAbABAACwATACAAIAALAO//5f/8/yEAOgA2AB0AAwD5/wEAEwAZAA0A///9/wgAFAAPAPv/5f/g//H/CgAZABcADQAIAAgACQAMABAADwAIAAgAEQAOAPf/3//d/+r/8f/x//X/+P/1//P/+P/5//L/6//u//b/+f/2//b/+v///wUACAAAAO3/3f/f//H/AAD9/+j/0f/H/9H/4v/q/+P/2P/V/93/6P/u/+z/5P/c/9n/4P/u////CAAJAAoADgANAAMA+v/6///////9/wAABgAKAAgABQABAP///f/7//b/8f/u//H/+v8CAAYAAgD0/+j/7v8IACcAMwAlAAwA+//+/xEAJQAqAB4AEQARACMAOgBFAD0AKAAUAAsAEgAnAD8ASQA5ABwACAAIABcAJQAkABcACgAGAAsAEQAQAAMA7v/b/9X/3v/x/wMADQAIAPn/6v/n//H//P/6/+v/4P/p/wAAEQANAPn/4v/c/+7/CAASAAAA5P/W/+L/9v/9//H/3v/Z/+X/9//9//f/9f/+/wYABAAAAAYAEAASAA8ADwANAAUAAAADAAkADAARABkAHAATAAYAAwAIAAsACAAAAPP/6v/z/wsAGwAPAPP/3f/X/93/7P/9////8P/k/+n/+v8CAAAA+f/6/wAAAwD9//b/+f////v/7P/c/9T/2v/w/wYACwD8/+v/7P/4//3/+v/y/+X/1v/W/+z/AAAAAPX/8v/4//z/+v/2//T/+P8FABYAGwAOAAAAAAAIAAcA///3//b//P8GAA4ABADs/9b/1f/n//j/+//z/+f/4//u/wEADQAKAAUABwALAAwAFAAmACsAFwD///v/BAAMAA8AFQAXABAACgALAA0ABwD///v//f///wAABQARAB0AHgARAAUACAASABcAGAAbAB4AHAAXABYAGwAgABwAEAAIAA4AFwAYABIADwALAAMA+//4//v////7//P/8//8////8f/g/+D/7//9////9P/j/9j/3f/v//r/8v/g/9f/3f/p//P/9//1/+//7v/0////BwAGAP//+P/2//X/7//p/+j/8/8AAP3/6f/a/97/7P/y//P/+f8=\" type=\"audio/wav\" />\n",
       "                    Your browser does not support the audio element.\n",
       "                </audio>\n",
       "              "
      ],
      "text/plain": [
       "<IPython.lib.display.Audio object>"
      ]
     },
     "metadata": {},
     "output_type": "display_data"
    },
    {
     "name": "stdout",
     "output_type": "stream",
     "text": [
      "Playing poisoned audio for sample 1\n"
     ]
    },
    {
     "data": {
      "text/html": [
       "\n",
       "                <audio  controls=\"controls\" >\n",
       "                    <source src=\"data:audio/wav;base64,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\" type=\"audio/wav\" />\n",
       "                    Your browser does not support the audio element.\n",
       "                </audio>\n",
       "              "
      ],
      "text/plain": [
       "<IPython.lib.display.Audio object>"
      ]
     },
     "metadata": {},
     "output_type": "display_data"
    },
    {
     "name": "stdout",
     "output_type": "stream",
     "text": [
      "Backdoor Attack Success Rate: 40.333333333333336\n",
      "Clean Accuracy (after backdoor attack): 87.33333333333333\n",
      "80.16666666666667\n",
      "87.33333333333333\n",
      "Clean Accuracy Drop: -7.166666666666657\n"
     ]
    }
   ],
   "source": [
    "for poisoning_rate in poisoning_rates:\n",
    "    \n",
    "    print(f\"Running experiment with poisoning_rate={poisoning_rate}\")\n",
    "    poisoned_train_dataset = PoisonedAudioDataset(\n",
    "        train_data, \n",
    "        target_label=target_label, \n",
    "        poisoning_rate=poisoning_rate, \n",
    "        frequency=frequency,\n",
    "        save_samples=True \n",
    "    )\n",
    "    poisoned_train_loader = DataLoader(poisoned_train_dataset, batch_size=32, shuffle=True, collate_fn=pre_dataloader)\n",
    "    \n",
    "    model = AutoModelForImageClassification.from_pretrained(\"nvidia/MambaVision-S-1K\", trust_remote_code=True)\n",
    "\n",
    "    # Modify first conv layer to accept single channel in for mel spectrograms\n",
    "    model.model.patch_embed.conv_down[0] = nn.Conv2d(\n",
    "        in_channels=1,  \n",
    "        out_channels=model.model.patch_embed.conv_down[0].out_channels,\n",
    "        kernel_size=model.model.patch_embed.conv_down[0].kernel_size,\n",
    "        stride=model.model.patch_embed.conv_down[0].stride,\n",
    "        padding=model.model.patch_embed.conv_down[0].padding,\n",
    "        bias=False\n",
    "    )\n",
    "\n",
    "    num_classes = 10 \n",
    "    model.model.head = nn.Linear(model.model.head.in_features, num_classes)\n",
    "\n",
    "    model.to(device)\n",
    "\n",
    "    criterion = nn.CrossEntropyLoss()\n",
    "    optimizer = optim.AdamW(model.parameters(), lr=1e-4)\n",
    "#     model = CNNModel().to(device)\n",
    "#     optimizer = optim.Adam(model.parameters(), lr=0.001)\n",
    "    # train_model(model, poisoned_train_loader, criterion, optimizer, device, epochs=epochs)\n",
    "    \n",
    "    for epoch in range(epochs):\n",
    "        running_loss = 0.0\n",
    "\n",
    "        for batch in tqdm(poisoned_train_loader):\n",
    "            inputs, labels = batch \n",
    "\n",
    "            inputs, labels = inputs.to(device), labels.to(device)\n",
    "\n",
    "            optimizer.zero_grad()\n",
    "\n",
    "            outputs = model(inputs)\n",
    "\n",
    "            logits = outputs['logits']\n",
    "\n",
    "            loss = criterion(logits, labels)\n",
    "\n",
    "            loss.backward()\n",
    "            optimizer.step()\n",
    "\n",
    "            running_loss += loss.item()\n",
    "\n",
    "        print(f\"Epoch [{epoch + 1}/{num_epochs}], Loss: {running_loss / len(train_loader)}\")\n",
    "\n",
    "\n",
    "    backdoor_test_dataset = PoisonedAudioDataset(\n",
    "        test_data, \n",
    "        target_label=target_label, \n",
    "        poisoning_rate=1.0,\n",
    "        frequency=frequency\n",
    "    )\n",
    "    backdoor_test_loader = DataLoader(backdoor_test_dataset, batch_size=32, shuffle=False, collate_fn=pre_dataloader)\n",
    "    \n",
    "    backdoor_success_rate, clean_accuracy_after, clean_accuracy_drop = test_backdoor_attack(\n",
    "        model, \n",
    "        backdoor_test_loader,\n",
    "        target_label=target_label, \n",
    "        device=device, \n",
    "        clean_test_loader=test_loader, \n",
    "        original_clean_accuracy=clean_acc\n",
    "    )\n",
    "    \n",
    "    results.append({\n",
    "        'poisoning_rate': poisoning_rate,\n",
    "        'backdoor_success_rate': backdoor_success_rate,\n",
    "        'clean_accuracy_after': clean_accuracy_after,\n",
    "        'clean_accuracy_drop': clean_accuracy_drop\n",
    "    })"
   ]
  },
  {
   "cell_type": "code",
   "execution_count": 26,
   "id": "7a42b877",
   "metadata": {
    "execution": {
     "iopub.execute_input": "2024-10-10T15:08:09.501862Z",
     "iopub.status.busy": "2024-10-10T15:08:09.501068Z",
     "iopub.status.idle": "2024-10-10T15:08:09.506550Z",
     "shell.execute_reply": "2024-10-10T15:08:09.505641Z"
    },
    "papermill": {
     "duration": 0.129343,
     "end_time": "2024-10-10T15:08:09.508458",
     "exception": false,
     "start_time": "2024-10-10T15:08:09.379115",
     "status": "completed"
    },
    "tags": []
   },
   "outputs": [],
   "source": [
    "results_df = pd.DataFrame(results)"
   ]
  },
  {
   "cell_type": "code",
   "execution_count": 27,
   "id": "1d4322ee",
   "metadata": {
    "execution": {
     "iopub.execute_input": "2024-10-10T15:08:09.749800Z",
     "iopub.status.busy": "2024-10-10T15:08:09.748888Z",
     "iopub.status.idle": "2024-10-10T15:08:09.759437Z",
     "shell.execute_reply": "2024-10-10T15:08:09.758420Z"
    },
    "papermill": {
     "duration": 0.133709,
     "end_time": "2024-10-10T15:08:09.761513",
     "exception": false,
     "start_time": "2024-10-10T15:08:09.627804",
     "status": "completed"
    },
    "tags": []
   },
   "outputs": [
    {
     "name": "stdout",
     "output_type": "stream",
     "text": [
      "   poisoning_rate  backdoor_success_rate  clean_accuracy_after  \\\n",
      "0            0.01               8.666667             91.666667   \n",
      "1            0.05              40.333333             87.333333   \n",
      "\n",
      "   clean_accuracy_drop  \n",
      "0           -11.500000  \n",
      "1            -7.166667  \n"
     ]
    }
   ],
   "source": [
    "print(results_df)"
   ]
  },
  {
   "cell_type": "code",
   "execution_count": 28,
   "id": "7cf7fb27",
   "metadata": {
    "execution": {
     "iopub.execute_input": "2024-10-10T15:08:10.004427Z",
     "iopub.status.busy": "2024-10-10T15:08:10.003724Z",
     "iopub.status.idle": "2024-10-10T15:08:10.011129Z",
     "shell.execute_reply": "2024-10-10T15:08:10.010189Z"
    },
    "papermill": {
     "duration": 0.130955,
     "end_time": "2024-10-10T15:08:10.013130",
     "exception": false,
     "start_time": "2024-10-10T15:08:09.882175",
     "status": "completed"
    },
    "tags": []
   },
   "outputs": [],
   "source": [
    "results_df.to_csv('CNN-SD-BKDR-HFSoundAll.csv', sep='\\t', index=False)"
   ]
  },
  {
   "cell_type": "code",
   "execution_count": null,
   "id": "8d987acf",
   "metadata": {
    "papermill": {
     "duration": 0.119295,
     "end_time": "2024-10-10T15:08:10.252364",
     "exception": false,
     "start_time": "2024-10-10T15:08:10.133069",
     "status": "completed"
    },
    "tags": []
   },
   "outputs": [],
   "source": []
  }
 ],
 "metadata": {
  "kaggle": {
   "accelerator": "nvidiaTeslaT4",
   "dataSources": [
    {
     "datasetId": 5789127,
     "sourceId": 9510683,
     "sourceType": "datasetVersion"
    },
    {
     "datasetId": 5801049,
     "sourceId": 9526431,
     "sourceType": "datasetVersion"
    }
   ],
   "isGpuEnabled": true,
   "isInternetEnabled": true,
   "language": "python",
   "sourceType": "notebook"
  },
  "kernelspec": {
   "display_name": "Python 3",
   "language": "python",
   "name": "python3"
  },
  "language_info": {
   "codemirror_mode": {
    "name": "ipython",
    "version": 3
   },
   "file_extension": ".py",
   "mimetype": "text/x-python",
   "name": "python",
   "nbconvert_exporter": "python",
   "pygments_lexer": "ipython3",
   "version": "3.10.14"
  },
  "papermill": {
   "default_parameters": {},
   "duration": 596.650888,
   "end_time": "2024-10-10T15:08:12.098293",
   "environment_variables": {},
   "exception": null,
   "input_path": "__notebook__.ipynb",
   "output_path": "__notebook__.ipynb",
   "parameters": {},
   "start_time": "2024-10-10T14:58:15.447405",
   "version": "2.6.0"
  },
  "widgets": {
   "application/vnd.jupyter.widget-state+json": {
    "state": {
     "0050cd4a15e348fea98cfb2b7956fd9b": {
      "model_module": "@jupyter-widgets/controls",
      "model_module_version": "1.5.0",
      "model_name": "HTMLModel",
      "state": {
       "_dom_classes": [],
       "_model_module": "@jupyter-widgets/controls",
       "_model_module_version": "1.5.0",
       "_model_name": "HTMLModel",
       "_view_count": null,
       "_view_module": "@jupyter-widgets/controls",
       "_view_module_version": "1.5.0",
       "_view_name": "HTMLView",
       "description": "",
       "description_tooltip": null,
       "layout": "IPY_MODEL_b83b897964e7403bb2e36faaeac9ceaf",
       "placeholder": "​",
       "style": "IPY_MODEL_459766f37de844a3862dff51562d9b21",
       "value": " 625/625 [00:00&lt;00:00, 49.5kB/s]"
      }
     },
     "024073492cfc4d4a820c34f83cc803d2": {
      "model_module": "@jupyter-widgets/controls",
      "model_module_version": "1.5.0",
      "model_name": "ProgressStyleModel",
      "state": {
       "_model_module": "@jupyter-widgets/controls",
       "_model_module_version": "1.5.0",
       "_model_name": "ProgressStyleModel",
       "_view_count": null,
       "_view_module": "@jupyter-widgets/base",
       "_view_module_version": "1.2.0",
       "_view_name": "StyleView",
       "bar_color": null,
       "description_width": ""
      }
     },
     "0c4a211a963a4ad0b34ff1c1faf7672f": {
      "model_module": "@jupyter-widgets/controls",
      "model_module_version": "1.5.0",
      "model_name": "FloatProgressModel",
      "state": {
       "_dom_classes": [],
       "_model_module": "@jupyter-widgets/controls",
       "_model_module_version": "1.5.0",
       "_model_name": "FloatProgressModel",
       "_view_count": null,
       "_view_module": "@jupyter-widgets/controls",
       "_view_module_version": "1.5.0",
       "_view_name": "ProgressView",
       "bar_style": "success",
       "description": "",
       "description_tooltip": null,
       "layout": "IPY_MODEL_8428846dd7c0464abe3df851a688a820",
       "max": 27908.0,
       "min": 0.0,
       "orientation": "horizontal",
       "style": "IPY_MODEL_78012cadcb2b4181bc738d57e86a2b4f",
       "value": 27908.0
      }
     },
     "1a23178190164181be64c016a166f7ab": {
      "model_module": "@jupyter-widgets/controls",
      "model_module_version": "1.5.0",
      "model_name": "HTMLModel",
      "state": {
       "_dom_classes": [],
       "_model_module": "@jupyter-widgets/controls",
       "_model_module_version": "1.5.0",
       "_model_name": "HTMLModel",
       "_view_count": null,
       "_view_module": "@jupyter-widgets/controls",
       "_view_module_version": "1.5.0",
       "_view_name": "HTMLView",
       "description": "",
       "description_tooltip": null,
       "layout": "IPY_MODEL_2d23da172ca94e68bf7563d1408c4019",
       "placeholder": "​",
       "style": "IPY_MODEL_5931ca60cb47431c8e35fd78d6f13544",
       "value": " 27.9k/27.9k [00:00&lt;00:00, 2.14MB/s]"
      }
     },
     "1a2892a5a5d943b9a1c155b3ff9a3214": {
      "model_module": "@jupyter-widgets/base",
      "model_module_version": "1.2.0",
      "model_name": "LayoutModel",
      "state": {
       "_model_module": "@jupyter-widgets/base",
       "_model_module_version": "1.2.0",
       "_model_name": "LayoutModel",
       "_view_count": null,
       "_view_module": "@jupyter-widgets/base",
       "_view_module_version": "1.2.0",
       "_view_name": "LayoutView",
       "align_content": null,
       "align_items": null,
       "align_self": null,
       "border": null,
       "bottom": null,
       "display": null,
       "flex": null,
       "flex_flow": null,
       "grid_area": null,
       "grid_auto_columns": null,
       "grid_auto_flow": null,
       "grid_auto_rows": null,
       "grid_column": null,
       "grid_gap": null,
       "grid_row": null,
       "grid_template_areas": null,
       "grid_template_columns": null,
       "grid_template_rows": null,
       "height": null,
       "justify_content": null,
       "justify_items": null,
       "left": null,
       "margin": null,
       "max_height": null,
       "max_width": null,
       "min_height": null,
       "min_width": null,
       "object_fit": null,
       "object_position": null,
       "order": null,
       "overflow": null,
       "overflow_x": null,
       "overflow_y": null,
       "padding": null,
       "right": null,
       "top": null,
       "visibility": null,
       "width": null
      }
     },
     "2d23da172ca94e68bf7563d1408c4019": {
      "model_module": "@jupyter-widgets/base",
      "model_module_version": "1.2.0",
      "model_name": "LayoutModel",
      "state": {
       "_model_module": "@jupyter-widgets/base",
       "_model_module_version": "1.2.0",
       "_model_name": "LayoutModel",
       "_view_count": null,
       "_view_module": "@jupyter-widgets/base",
       "_view_module_version": "1.2.0",
       "_view_name": "LayoutView",
       "align_content": null,
       "align_items": null,
       "align_self": null,
       "border": null,
       "bottom": null,
       "display": null,
       "flex": null,
       "flex_flow": null,
       "grid_area": null,
       "grid_auto_columns": null,
       "grid_auto_flow": null,
       "grid_auto_rows": null,
       "grid_column": null,
       "grid_gap": null,
       "grid_row": null,
       "grid_template_areas": null,
       "grid_template_columns": null,
       "grid_template_rows": null,
       "height": null,
       "justify_content": null,
       "justify_items": null,
       "left": null,
       "margin": null,
       "max_height": null,
       "max_width": null,
       "min_height": null,
       "min_width": null,
       "object_fit": null,
       "object_position": null,
       "order": null,
       "overflow": null,
       "overflow_x": null,
       "overflow_y": null,
       "padding": null,
       "right": null,
       "top": null,
       "visibility": null,
       "width": null
      }
     },
     "319cd857f647441c8997287a5b5f0a3a": {
      "model_module": "@jupyter-widgets/base",
      "model_module_version": "1.2.0",
      "model_name": "LayoutModel",
      "state": {
       "_model_module": "@jupyter-widgets/base",
       "_model_module_version": "1.2.0",
       "_model_name": "LayoutModel",
       "_view_count": null,
       "_view_module": "@jupyter-widgets/base",
       "_view_module_version": "1.2.0",
       "_view_name": "LayoutView",
       "align_content": null,
       "align_items": null,
       "align_self": null,
       "border": null,
       "bottom": null,
       "display": null,
       "flex": null,
       "flex_flow": null,
       "grid_area": null,
       "grid_auto_columns": null,
       "grid_auto_flow": null,
       "grid_auto_rows": null,
       "grid_column": null,
       "grid_gap": null,
       "grid_row": null,
       "grid_template_areas": null,
       "grid_template_columns": null,
       "grid_template_rows": null,
       "height": null,
       "justify_content": null,
       "justify_items": null,
       "left": null,
       "margin": null,
       "max_height": null,
       "max_width": null,
       "min_height": null,
       "min_width": null,
       "object_fit": null,
       "object_position": null,
       "order": null,
       "overflow": null,
       "overflow_x": null,
       "overflow_y": null,
       "padding": null,
       "right": null,
       "top": null,
       "visibility": null,
       "width": null
      }
     },
     "344ca68055384d6f8ef4224927f66af5": {
      "model_module": "@jupyter-widgets/base",
      "model_module_version": "1.2.0",
      "model_name": "LayoutModel",
      "state": {
       "_model_module": "@jupyter-widgets/base",
       "_model_module_version": "1.2.0",
       "_model_name": "LayoutModel",
       "_view_count": null,
       "_view_module": "@jupyter-widgets/base",
       "_view_module_version": "1.2.0",
       "_view_name": "LayoutView",
       "align_content": null,
       "align_items": null,
       "align_self": null,
       "border": null,
       "bottom": null,
       "display": null,
       "flex": null,
       "flex_flow": null,
       "grid_area": null,
       "grid_auto_columns": null,
       "grid_auto_flow": null,
       "grid_auto_rows": null,
       "grid_column": null,
       "grid_gap": null,
       "grid_row": null,
       "grid_template_areas": null,
       "grid_template_columns": null,
       "grid_template_rows": null,
       "height": null,
       "justify_content": null,
       "justify_items": null,
       "left": null,
       "margin": null,
       "max_height": null,
       "max_width": null,
       "min_height": null,
       "min_width": null,
       "object_fit": null,
       "object_position": null,
       "order": null,
       "overflow": null,
       "overflow_x": null,
       "overflow_y": null,
       "padding": null,
       "right": null,
       "top": null,
       "visibility": null,
       "width": null
      }
     },
     "37bb0f6f28c54958a794bf54055ff58c": {
      "model_module": "@jupyter-widgets/controls",
      "model_module_version": "1.5.0",
      "model_name": "HBoxModel",
      "state": {
       "_dom_classes": [],
       "_model_module": "@jupyter-widgets/controls",
       "_model_module_version": "1.5.0",
       "_model_name": "HBoxModel",
       "_view_count": null,
       "_view_module": "@jupyter-widgets/controls",
       "_view_module_version": "1.5.0",
       "_view_name": "HBoxView",
       "box_style": "",
       "children": [
        "IPY_MODEL_f778b5f4550f40f5aa3c96d86eb01cd6",
        "IPY_MODEL_ccece9a50194468ab360c0fc8d0cdc1d",
        "IPY_MODEL_bdf7cf4abbc6472f985f3830ea2eac6e"
       ],
       "layout": "IPY_MODEL_67dc6fd554c04e1e8ec8ebbf15c17b08"
      }
     },
     "3857d9e58c224b5793a969fa50c2a146": {
      "model_module": "@jupyter-widgets/controls",
      "model_module_version": "1.5.0",
      "model_name": "DescriptionStyleModel",
      "state": {
       "_model_module": "@jupyter-widgets/controls",
       "_model_module_version": "1.5.0",
       "_model_name": "DescriptionStyleModel",
       "_view_count": null,
       "_view_module": "@jupyter-widgets/base",
       "_view_module_version": "1.2.0",
       "_view_name": "StyleView",
       "description_width": ""
      }
     },
     "3989c4040dc64453968dc3836bef5074": {
      "model_module": "@jupyter-widgets/controls",
      "model_module_version": "1.5.0",
      "model_name": "HTMLModel",
      "state": {
       "_dom_classes": [],
       "_model_module": "@jupyter-widgets/controls",
       "_model_module_version": "1.5.0",
       "_model_name": "HTMLModel",
       "_view_count": null,
       "_view_module": "@jupyter-widgets/controls",
       "_view_module_version": "1.5.0",
       "_view_name": "HTMLView",
       "description": "",
       "description_tooltip": null,
       "layout": "IPY_MODEL_c9b2046eed68404fbc87e6e3e1a4c90f",
       "placeholder": "​",
       "style": "IPY_MODEL_64363e401c78403392c932b5a042e982",
       "value": "modeling_mambavision.py: 100%"
      }
     },
     "3a2cb8ba8d88413c9da63b32808a957f": {
      "model_module": "@jupyter-widgets/controls",
      "model_module_version": "1.5.0",
      "model_name": "HBoxModel",
      "state": {
       "_dom_classes": [],
       "_model_module": "@jupyter-widgets/controls",
       "_model_module_version": "1.5.0",
       "_model_name": "HBoxModel",
       "_view_count": null,
       "_view_module": "@jupyter-widgets/controls",
       "_view_module_version": "1.5.0",
       "_view_name": "HBoxView",
       "box_style": "",
       "children": [
        "IPY_MODEL_8637dd6256c24ca59aba71e2141352a3",
        "IPY_MODEL_ab66daab4766432b9681c0ce51ca2106",
        "IPY_MODEL_0050cd4a15e348fea98cfb2b7956fd9b"
       ],
       "layout": "IPY_MODEL_dd8b6857836d43c6bcbb65422508196e"
      }
     },
     "3eef0725ad3b4a7eb7a2920804bd7d5c": {
      "model_module": "@jupyter-widgets/base",
      "model_module_version": "1.2.0",
      "model_name": "LayoutModel",
      "state": {
       "_model_module": "@jupyter-widgets/base",
       "_model_module_version": "1.2.0",
       "_model_name": "LayoutModel",
       "_view_count": null,
       "_view_module": "@jupyter-widgets/base",
       "_view_module_version": "1.2.0",
       "_view_name": "LayoutView",
       "align_content": null,
       "align_items": null,
       "align_self": null,
       "border": null,
       "bottom": null,
       "display": null,
       "flex": null,
       "flex_flow": null,
       "grid_area": null,
       "grid_auto_columns": null,
       "grid_auto_flow": null,
       "grid_auto_rows": null,
       "grid_column": null,
       "grid_gap": null,
       "grid_row": null,
       "grid_template_areas": null,
       "grid_template_columns": null,
       "grid_template_rows": null,
       "height": null,
       "justify_content": null,
       "justify_items": null,
       "left": null,
       "margin": null,
       "max_height": null,
       "max_width": null,
       "min_height": null,
       "min_width": null,
       "object_fit": null,
       "object_position": null,
       "order": null,
       "overflow": null,
       "overflow_x": null,
       "overflow_y": null,
       "padding": null,
       "right": null,
       "top": null,
       "visibility": null,
       "width": null
      }
     },
     "459766f37de844a3862dff51562d9b21": {
      "model_module": "@jupyter-widgets/controls",
      "model_module_version": "1.5.0",
      "model_name": "DescriptionStyleModel",
      "state": {
       "_model_module": "@jupyter-widgets/controls",
       "_model_module_version": "1.5.0",
       "_model_name": "DescriptionStyleModel",
       "_view_count": null,
       "_view_module": "@jupyter-widgets/base",
       "_view_module_version": "1.2.0",
       "_view_name": "StyleView",
       "description_width": ""
      }
     },
     "52bd801543774c909820d6888d2dff05": {
      "model_module": "@jupyter-widgets/base",
      "model_module_version": "1.2.0",
      "model_name": "LayoutModel",
      "state": {
       "_model_module": "@jupyter-widgets/base",
       "_model_module_version": "1.2.0",
       "_model_name": "LayoutModel",
       "_view_count": null,
       "_view_module": "@jupyter-widgets/base",
       "_view_module_version": "1.2.0",
       "_view_name": "LayoutView",
       "align_content": null,
       "align_items": null,
       "align_self": null,
       "border": null,
       "bottom": null,
       "display": null,
       "flex": null,
       "flex_flow": null,
       "grid_area": null,
       "grid_auto_columns": null,
       "grid_auto_flow": null,
       "grid_auto_rows": null,
       "grid_column": null,
       "grid_gap": null,
       "grid_row": null,
       "grid_template_areas": null,
       "grid_template_columns": null,
       "grid_template_rows": null,
       "height": null,
       "justify_content": null,
       "justify_items": null,
       "left": null,
       "margin": null,
       "max_height": null,
       "max_width": null,
       "min_height": null,
       "min_width": null,
       "object_fit": null,
       "object_position": null,
       "order": null,
       "overflow": null,
       "overflow_x": null,
       "overflow_y": null,
       "padding": null,
       "right": null,
       "top": null,
       "visibility": null,
       "width": null
      }
     },
     "5931ca60cb47431c8e35fd78d6f13544": {
      "model_module": "@jupyter-widgets/controls",
      "model_module_version": "1.5.0",
      "model_name": "DescriptionStyleModel",
      "state": {
       "_model_module": "@jupyter-widgets/controls",
       "_model_module_version": "1.5.0",
       "_model_name": "DescriptionStyleModel",
       "_view_count": null,
       "_view_module": "@jupyter-widgets/base",
       "_view_module_version": "1.2.0",
       "_view_name": "StyleView",
       "description_width": ""
      }
     },
     "64363e401c78403392c932b5a042e982": {
      "model_module": "@jupyter-widgets/controls",
      "model_module_version": "1.5.0",
      "model_name": "DescriptionStyleModel",
      "state": {
       "_model_module": "@jupyter-widgets/controls",
       "_model_module_version": "1.5.0",
       "_model_name": "DescriptionStyleModel",
       "_view_count": null,
       "_view_module": "@jupyter-widgets/base",
       "_view_module_version": "1.2.0",
       "_view_name": "StyleView",
       "description_width": ""
      }
     },
     "67dc6fd554c04e1e8ec8ebbf15c17b08": {
      "model_module": "@jupyter-widgets/base",
      "model_module_version": "1.2.0",
      "model_name": "LayoutModel",
      "state": {
       "_model_module": "@jupyter-widgets/base",
       "_model_module_version": "1.2.0",
       "_model_name": "LayoutModel",
       "_view_count": null,
       "_view_module": "@jupyter-widgets/base",
       "_view_module_version": "1.2.0",
       "_view_name": "LayoutView",
       "align_content": null,
       "align_items": null,
       "align_self": null,
       "border": null,
       "bottom": null,
       "display": null,
       "flex": null,
       "flex_flow": null,
       "grid_area": null,
       "grid_auto_columns": null,
       "grid_auto_flow": null,
       "grid_auto_rows": null,
       "grid_column": null,
       "grid_gap": null,
       "grid_row": null,
       "grid_template_areas": null,
       "grid_template_columns": null,
       "grid_template_rows": null,
       "height": null,
       "justify_content": null,
       "justify_items": null,
       "left": null,
       "margin": null,
       "max_height": null,
       "max_width": null,
       "min_height": null,
       "min_width": null,
       "object_fit": null,
       "object_position": null,
       "order": null,
       "overflow": null,
       "overflow_x": null,
       "overflow_y": null,
       "padding": null,
       "right": null,
       "top": null,
       "visibility": null,
       "width": null
      }
     },
     "68970cf77c1a4df0b11df9218fb479c5": {
      "model_module": "@jupyter-widgets/controls",
      "model_module_version": "1.5.0",
      "model_name": "HTMLModel",
      "state": {
       "_dom_classes": [],
       "_model_module": "@jupyter-widgets/controls",
       "_model_module_version": "1.5.0",
       "_model_name": "HTMLModel",
       "_view_count": null,
       "_view_module": "@jupyter-widgets/controls",
       "_view_module_version": "1.5.0",
       "_view_name": "HTMLView",
       "description": "",
       "description_tooltip": null,
       "layout": "IPY_MODEL_319cd857f647441c8997287a5b5f0a3a",
       "placeholder": "​",
       "style": "IPY_MODEL_3857d9e58c224b5793a969fa50c2a146",
       "value": "model.safetensors: 100%"
      }
     },
     "6f56c7e7d9a342a597bfb8c296e1162b": {
      "model_module": "@jupyter-widgets/controls",
      "model_module_version": "1.5.0",
      "model_name": "DescriptionStyleModel",
      "state": {
       "_model_module": "@jupyter-widgets/controls",
       "_model_module_version": "1.5.0",
       "_model_name": "DescriptionStyleModel",
       "_view_count": null,
       "_view_module": "@jupyter-widgets/base",
       "_view_module_version": "1.2.0",
       "_view_name": "StyleView",
       "description_width": ""
      }
     },
     "78012cadcb2b4181bc738d57e86a2b4f": {
      "model_module": "@jupyter-widgets/controls",
      "model_module_version": "1.5.0",
      "model_name": "ProgressStyleModel",
      "state": {
       "_model_module": "@jupyter-widgets/controls",
       "_model_module_version": "1.5.0",
       "_model_name": "ProgressStyleModel",
       "_view_count": null,
       "_view_module": "@jupyter-widgets/base",
       "_view_module_version": "1.2.0",
       "_view_name": "StyleView",
       "bar_color": null,
       "description_width": ""
      }
     },
     "79e365f756864fcd94818302ef5da32a": {
      "model_module": "@jupyter-widgets/base",
      "model_module_version": "1.2.0",
      "model_name": "LayoutModel",
      "state": {
       "_model_module": "@jupyter-widgets/base",
       "_model_module_version": "1.2.0",
       "_model_name": "LayoutModel",
       "_view_count": null,
       "_view_module": "@jupyter-widgets/base",
       "_view_module_version": "1.2.0",
       "_view_name": "LayoutView",
       "align_content": null,
       "align_items": null,
       "align_self": null,
       "border": null,
       "bottom": null,
       "display": null,
       "flex": null,
       "flex_flow": null,
       "grid_area": null,
       "grid_auto_columns": null,
       "grid_auto_flow": null,
       "grid_auto_rows": null,
       "grid_column": null,
       "grid_gap": null,
       "grid_row": null,
       "grid_template_areas": null,
       "grid_template_columns": null,
       "grid_template_rows": null,
       "height": null,
       "justify_content": null,
       "justify_items": null,
       "left": null,
       "margin": null,
       "max_height": null,
       "max_width": null,
       "min_height": null,
       "min_width": null,
       "object_fit": null,
       "object_position": null,
       "order": null,
       "overflow": null,
       "overflow_x": null,
       "overflow_y": null,
       "padding": null,
       "right": null,
       "top": null,
       "visibility": null,
       "width": null
      }
     },
     "8428846dd7c0464abe3df851a688a820": {
      "model_module": "@jupyter-widgets/base",
      "model_module_version": "1.2.0",
      "model_name": "LayoutModel",
      "state": {
       "_model_module": "@jupyter-widgets/base",
       "_model_module_version": "1.2.0",
       "_model_name": "LayoutModel",
       "_view_count": null,
       "_view_module": "@jupyter-widgets/base",
       "_view_module_version": "1.2.0",
       "_view_name": "LayoutView",
       "align_content": null,
       "align_items": null,
       "align_self": null,
       "border": null,
       "bottom": null,
       "display": null,
       "flex": null,
       "flex_flow": null,
       "grid_area": null,
       "grid_auto_columns": null,
       "grid_auto_flow": null,
       "grid_auto_rows": null,
       "grid_column": null,
       "grid_gap": null,
       "grid_row": null,
       "grid_template_areas": null,
       "grid_template_columns": null,
       "grid_template_rows": null,
       "height": null,
       "justify_content": null,
       "justify_items": null,
       "left": null,
       "margin": null,
       "max_height": null,
       "max_width": null,
       "min_height": null,
       "min_width": null,
       "object_fit": null,
       "object_position": null,
       "order": null,
       "overflow": null,
       "overflow_x": null,
       "overflow_y": null,
       "padding": null,
       "right": null,
       "top": null,
       "visibility": null,
       "width": null
      }
     },
     "8637dd6256c24ca59aba71e2141352a3": {
      "model_module": "@jupyter-widgets/controls",
      "model_module_version": "1.5.0",
      "model_name": "HTMLModel",
      "state": {
       "_dom_classes": [],
       "_model_module": "@jupyter-widgets/controls",
       "_model_module_version": "1.5.0",
       "_model_name": "HTMLModel",
       "_view_count": null,
       "_view_module": "@jupyter-widgets/controls",
       "_view_module_version": "1.5.0",
       "_view_name": "HTMLView",
       "description": "",
       "description_tooltip": null,
       "layout": "IPY_MODEL_3eef0725ad3b4a7eb7a2920804bd7d5c",
       "placeholder": "​",
       "style": "IPY_MODEL_b52d37651d5d488b83e04f1aba031fda",
       "value": "configuration_mambavision.py: 100%"
      }
     },
     "8f4574b754e34c4e8935c914b78230aa": {
      "model_module": "@jupyter-widgets/controls",
      "model_module_version": "1.5.0",
      "model_name": "ProgressStyleModel",
      "state": {
       "_model_module": "@jupyter-widgets/controls",
       "_model_module_version": "1.5.0",
       "_model_name": "ProgressStyleModel",
       "_view_count": null,
       "_view_module": "@jupyter-widgets/base",
       "_view_module_version": "1.2.0",
       "_view_name": "StyleView",
       "bar_color": null,
       "description_width": ""
      }
     },
     "8f9e2218df9240e2997e9810601f3ed6": {
      "model_module": "@jupyter-widgets/controls",
      "model_module_version": "1.5.0",
      "model_name": "ProgressStyleModel",
      "state": {
       "_model_module": "@jupyter-widgets/controls",
       "_model_module_version": "1.5.0",
       "_model_name": "ProgressStyleModel",
       "_view_count": null,
       "_view_module": "@jupyter-widgets/base",
       "_view_module_version": "1.2.0",
       "_view_name": "StyleView",
       "bar_color": null,
       "description_width": ""
      }
     },
     "9b7a82a6630f4f4f80c82eafc1e024a1": {
      "model_module": "@jupyter-widgets/controls",
      "model_module_version": "1.5.0",
      "model_name": "HBoxModel",
      "state": {
       "_dom_classes": [],
       "_model_module": "@jupyter-widgets/controls",
       "_model_module_version": "1.5.0",
       "_model_name": "HBoxModel",
       "_view_count": null,
       "_view_module": "@jupyter-widgets/controls",
       "_view_module_version": "1.5.0",
       "_view_name": "HBoxView",
       "box_style": "",
       "children": [
        "IPY_MODEL_3989c4040dc64453968dc3836bef5074",
        "IPY_MODEL_0c4a211a963a4ad0b34ff1c1faf7672f",
        "IPY_MODEL_1a23178190164181be64c016a166f7ab"
       ],
       "layout": "IPY_MODEL_f7930a50372d451086582f0971934373"
      }
     },
     "a4584848c561456cb4c077730546e592": {
      "model_module": "@jupyter-widgets/base",
      "model_module_version": "1.2.0",
      "model_name": "LayoutModel",
      "state": {
       "_model_module": "@jupyter-widgets/base",
       "_model_module_version": "1.2.0",
       "_model_name": "LayoutModel",
       "_view_count": null,
       "_view_module": "@jupyter-widgets/base",
       "_view_module_version": "1.2.0",
       "_view_name": "LayoutView",
       "align_content": null,
       "align_items": null,
       "align_self": null,
       "border": null,
       "bottom": null,
       "display": null,
       "flex": null,
       "flex_flow": null,
       "grid_area": null,
       "grid_auto_columns": null,
       "grid_auto_flow": null,
       "grid_auto_rows": null,
       "grid_column": null,
       "grid_gap": null,
       "grid_row": null,
       "grid_template_areas": null,
       "grid_template_columns": null,
       "grid_template_rows": null,
       "height": null,
       "justify_content": null,
       "justify_items": null,
       "left": null,
       "margin": null,
       "max_height": null,
       "max_width": null,
       "min_height": null,
       "min_width": null,
       "object_fit": null,
       "object_position": null,
       "order": null,
       "overflow": null,
       "overflow_x": null,
       "overflow_y": null,
       "padding": null,
       "right": null,
       "top": null,
       "visibility": null,
       "width": null
      }
     },
     "ab66daab4766432b9681c0ce51ca2106": {
      "model_module": "@jupyter-widgets/controls",
      "model_module_version": "1.5.0",
      "model_name": "FloatProgressModel",
      "state": {
       "_dom_classes": [],
       "_model_module": "@jupyter-widgets/controls",
       "_model_module_version": "1.5.0",
       "_model_name": "FloatProgressModel",
       "_view_count": null,
       "_view_module": "@jupyter-widgets/controls",
       "_view_module_version": "1.5.0",
       "_view_name": "ProgressView",
       "bar_style": "success",
       "description": "",
       "description_tooltip": null,
       "layout": "IPY_MODEL_ac0f3ec21c7e45329ad16278d2e1164e",
       "max": 625.0,
       "min": 0.0,
       "orientation": "horizontal",
       "style": "IPY_MODEL_024073492cfc4d4a820c34f83cc803d2",
       "value": 625.0
      }
     },
     "ac0f3ec21c7e45329ad16278d2e1164e": {
      "model_module": "@jupyter-widgets/base",
      "model_module_version": "1.2.0",
      "model_name": "LayoutModel",
      "state": {
       "_model_module": "@jupyter-widgets/base",
       "_model_module_version": "1.2.0",
       "_model_name": "LayoutModel",
       "_view_count": null,
       "_view_module": "@jupyter-widgets/base",
       "_view_module_version": "1.2.0",
       "_view_name": "LayoutView",
       "align_content": null,
       "align_items": null,
       "align_self": null,
       "border": null,
       "bottom": null,
       "display": null,
       "flex": null,
       "flex_flow": null,
       "grid_area": null,
       "grid_auto_columns": null,
       "grid_auto_flow": null,
       "grid_auto_rows": null,
       "grid_column": null,
       "grid_gap": null,
       "grid_row": null,
       "grid_template_areas": null,
       "grid_template_columns": null,
       "grid_template_rows": null,
       "height": null,
       "justify_content": null,
       "justify_items": null,
       "left": null,
       "margin": null,
       "max_height": null,
       "max_width": null,
       "min_height": null,
       "min_width": null,
       "object_fit": null,
       "object_position": null,
       "order": null,
       "overflow": null,
       "overflow_x": null,
       "overflow_y": null,
       "padding": null,
       "right": null,
       "top": null,
       "visibility": null,
       "width": null
      }
     },
     "b52d37651d5d488b83e04f1aba031fda": {
      "model_module": "@jupyter-widgets/controls",
      "model_module_version": "1.5.0",
      "model_name": "DescriptionStyleModel",
      "state": {
       "_model_module": "@jupyter-widgets/controls",
       "_model_module_version": "1.5.0",
       "_model_name": "DescriptionStyleModel",
       "_view_count": null,
       "_view_module": "@jupyter-widgets/base",
       "_view_module_version": "1.2.0",
       "_view_name": "StyleView",
       "description_width": ""
      }
     },
     "b6550060d3b94c0eb5ef31b69ae4703d": {
      "model_module": "@jupyter-widgets/controls",
      "model_module_version": "1.5.0",
      "model_name": "FloatProgressModel",
      "state": {
       "_dom_classes": [],
       "_model_module": "@jupyter-widgets/controls",
       "_model_module_version": "1.5.0",
       "_model_name": "FloatProgressModel",
       "_view_count": null,
       "_view_module": "@jupyter-widgets/controls",
       "_view_module_version": "1.5.0",
       "_view_name": "ProgressView",
       "bar_style": "success",
       "description": "",
       "description_tooltip": null,
       "layout": "IPY_MODEL_1a2892a5a5d943b9a1c155b3ff9a3214",
       "max": 200614224.0,
       "min": 0.0,
       "orientation": "horizontal",
       "style": "IPY_MODEL_8f4574b754e34c4e8935c914b78230aa",
       "value": 200614224.0
      }
     },
     "b83b897964e7403bb2e36faaeac9ceaf": {
      "model_module": "@jupyter-widgets/base",
      "model_module_version": "1.2.0",
      "model_name": "LayoutModel",
      "state": {
       "_model_module": "@jupyter-widgets/base",
       "_model_module_version": "1.2.0",
       "_model_name": "LayoutModel",
       "_view_count": null,
       "_view_module": "@jupyter-widgets/base",
       "_view_module_version": "1.2.0",
       "_view_name": "LayoutView",
       "align_content": null,
       "align_items": null,
       "align_self": null,
       "border": null,
       "bottom": null,
       "display": null,
       "flex": null,
       "flex_flow": null,
       "grid_area": null,
       "grid_auto_columns": null,
       "grid_auto_flow": null,
       "grid_auto_rows": null,
       "grid_column": null,
       "grid_gap": null,
       "grid_row": null,
       "grid_template_areas": null,
       "grid_template_columns": null,
       "grid_template_rows": null,
       "height": null,
       "justify_content": null,
       "justify_items": null,
       "left": null,
       "margin": null,
       "max_height": null,
       "max_width": null,
       "min_height": null,
       "min_width": null,
       "object_fit": null,
       "object_position": null,
       "order": null,
       "overflow": null,
       "overflow_x": null,
       "overflow_y": null,
       "padding": null,
       "right": null,
       "top": null,
       "visibility": null,
       "width": null
      }
     },
     "ba27ce589a20434d9a5012ff904ed880": {
      "model_module": "@jupyter-widgets/controls",
      "model_module_version": "1.5.0",
      "model_name": "HBoxModel",
      "state": {
       "_dom_classes": [],
       "_model_module": "@jupyter-widgets/controls",
       "_model_module_version": "1.5.0",
       "_model_name": "HBoxModel",
       "_view_count": null,
       "_view_module": "@jupyter-widgets/controls",
       "_view_module_version": "1.5.0",
       "_view_name": "HBoxView",
       "box_style": "",
       "children": [
        "IPY_MODEL_68970cf77c1a4df0b11df9218fb479c5",
        "IPY_MODEL_b6550060d3b94c0eb5ef31b69ae4703d",
        "IPY_MODEL_f7ba1690df464331ae126c406c7f68a6"
       ],
       "layout": "IPY_MODEL_79e365f756864fcd94818302ef5da32a"
      }
     },
     "bbc68e0253fe4c9d9fd004576590b7e8": {
      "model_module": "@jupyter-widgets/base",
      "model_module_version": "1.2.0",
      "model_name": "LayoutModel",
      "state": {
       "_model_module": "@jupyter-widgets/base",
       "_model_module_version": "1.2.0",
       "_model_name": "LayoutModel",
       "_view_count": null,
       "_view_module": "@jupyter-widgets/base",
       "_view_module_version": "1.2.0",
       "_view_name": "LayoutView",
       "align_content": null,
       "align_items": null,
       "align_self": null,
       "border": null,
       "bottom": null,
       "display": null,
       "flex": null,
       "flex_flow": null,
       "grid_area": null,
       "grid_auto_columns": null,
       "grid_auto_flow": null,
       "grid_auto_rows": null,
       "grid_column": null,
       "grid_gap": null,
       "grid_row": null,
       "grid_template_areas": null,
       "grid_template_columns": null,
       "grid_template_rows": null,
       "height": null,
       "justify_content": null,
       "justify_items": null,
       "left": null,
       "margin": null,
       "max_height": null,
       "max_width": null,
       "min_height": null,
       "min_width": null,
       "object_fit": null,
       "object_position": null,
       "order": null,
       "overflow": null,
       "overflow_x": null,
       "overflow_y": null,
       "padding": null,
       "right": null,
       "top": null,
       "visibility": null,
       "width": null
      }
     },
     "bd7f08fe55294c35a019f7af93714ba2": {
      "model_module": "@jupyter-widgets/controls",
      "model_module_version": "1.5.0",
      "model_name": "DescriptionStyleModel",
      "state": {
       "_model_module": "@jupyter-widgets/controls",
       "_model_module_version": "1.5.0",
       "_model_name": "DescriptionStyleModel",
       "_view_count": null,
       "_view_module": "@jupyter-widgets/base",
       "_view_module_version": "1.2.0",
       "_view_name": "StyleView",
       "description_width": ""
      }
     },
     "bdf7cf4abbc6472f985f3830ea2eac6e": {
      "model_module": "@jupyter-widgets/controls",
      "model_module_version": "1.5.0",
      "model_name": "HTMLModel",
      "state": {
       "_dom_classes": [],
       "_model_module": "@jupyter-widgets/controls",
       "_model_module_version": "1.5.0",
       "_model_name": "HTMLModel",
       "_view_count": null,
       "_view_module": "@jupyter-widgets/controls",
       "_view_module_version": "1.5.0",
       "_view_name": "HTMLView",
       "description": "",
       "description_tooltip": null,
       "layout": "IPY_MODEL_344ca68055384d6f8ef4224927f66af5",
       "placeholder": "​",
       "style": "IPY_MODEL_d7ea8f221e6948acbac3078fa5feec98",
       "value": " 36.4k/36.4k [00:00&lt;00:00, 2.64MB/s]"
      }
     },
     "c9b2046eed68404fbc87e6e3e1a4c90f": {
      "model_module": "@jupyter-widgets/base",
      "model_module_version": "1.2.0",
      "model_name": "LayoutModel",
      "state": {
       "_model_module": "@jupyter-widgets/base",
       "_model_module_version": "1.2.0",
       "_model_name": "LayoutModel",
       "_view_count": null,
       "_view_module": "@jupyter-widgets/base",
       "_view_module_version": "1.2.0",
       "_view_name": "LayoutView",
       "align_content": null,
       "align_items": null,
       "align_self": null,
       "border": null,
       "bottom": null,
       "display": null,
       "flex": null,
       "flex_flow": null,
       "grid_area": null,
       "grid_auto_columns": null,
       "grid_auto_flow": null,
       "grid_auto_rows": null,
       "grid_column": null,
       "grid_gap": null,
       "grid_row": null,
       "grid_template_areas": null,
       "grid_template_columns": null,
       "grid_template_rows": null,
       "height": null,
       "justify_content": null,
       "justify_items": null,
       "left": null,
       "margin": null,
       "max_height": null,
       "max_width": null,
       "min_height": null,
       "min_width": null,
       "object_fit": null,
       "object_position": null,
       "order": null,
       "overflow": null,
       "overflow_x": null,
       "overflow_y": null,
       "padding": null,
       "right": null,
       "top": null,
       "visibility": null,
       "width": null
      }
     },
     "ccece9a50194468ab360c0fc8d0cdc1d": {
      "model_module": "@jupyter-widgets/controls",
      "model_module_version": "1.5.0",
      "model_name": "FloatProgressModel",
      "state": {
       "_dom_classes": [],
       "_model_module": "@jupyter-widgets/controls",
       "_model_module_version": "1.5.0",
       "_model_name": "FloatProgressModel",
       "_view_count": null,
       "_view_module": "@jupyter-widgets/controls",
       "_view_module_version": "1.5.0",
       "_view_name": "ProgressView",
       "bar_style": "success",
       "description": "",
       "description_tooltip": null,
       "layout": "IPY_MODEL_52bd801543774c909820d6888d2dff05",
       "max": 36361.0,
       "min": 0.0,
       "orientation": "horizontal",
       "style": "IPY_MODEL_8f9e2218df9240e2997e9810601f3ed6",
       "value": 36361.0
      }
     },
     "d7ea8f221e6948acbac3078fa5feec98": {
      "model_module": "@jupyter-widgets/controls",
      "model_module_version": "1.5.0",
      "model_name": "DescriptionStyleModel",
      "state": {
       "_model_module": "@jupyter-widgets/controls",
       "_model_module_version": "1.5.0",
       "_model_name": "DescriptionStyleModel",
       "_view_count": null,
       "_view_module": "@jupyter-widgets/base",
       "_view_module_version": "1.2.0",
       "_view_name": "StyleView",
       "description_width": ""
      }
     },
     "dd8b6857836d43c6bcbb65422508196e": {
      "model_module": "@jupyter-widgets/base",
      "model_module_version": "1.2.0",
      "model_name": "LayoutModel",
      "state": {
       "_model_module": "@jupyter-widgets/base",
       "_model_module_version": "1.2.0",
       "_model_name": "LayoutModel",
       "_view_count": null,
       "_view_module": "@jupyter-widgets/base",
       "_view_module_version": "1.2.0",
       "_view_name": "LayoutView",
       "align_content": null,
       "align_items": null,
       "align_self": null,
       "border": null,
       "bottom": null,
       "display": null,
       "flex": null,
       "flex_flow": null,
       "grid_area": null,
       "grid_auto_columns": null,
       "grid_auto_flow": null,
       "grid_auto_rows": null,
       "grid_column": null,
       "grid_gap": null,
       "grid_row": null,
       "grid_template_areas": null,
       "grid_template_columns": null,
       "grid_template_rows": null,
       "height": null,
       "justify_content": null,
       "justify_items": null,
       "left": null,
       "margin": null,
       "max_height": null,
       "max_width": null,
       "min_height": null,
       "min_width": null,
       "object_fit": null,
       "object_position": null,
       "order": null,
       "overflow": null,
       "overflow_x": null,
       "overflow_y": null,
       "padding": null,
       "right": null,
       "top": null,
       "visibility": null,
       "width": null
      }
     },
     "f778b5f4550f40f5aa3c96d86eb01cd6": {
      "model_module": "@jupyter-widgets/controls",
      "model_module_version": "1.5.0",
      "model_name": "HTMLModel",
      "state": {
       "_dom_classes": [],
       "_model_module": "@jupyter-widgets/controls",
       "_model_module_version": "1.5.0",
       "_model_name": "HTMLModel",
       "_view_count": null,
       "_view_module": "@jupyter-widgets/controls",
       "_view_module_version": "1.5.0",
       "_view_name": "HTMLView",
       "description": "",
       "description_tooltip": null,
       "layout": "IPY_MODEL_a4584848c561456cb4c077730546e592",
       "placeholder": "​",
       "style": "IPY_MODEL_bd7f08fe55294c35a019f7af93714ba2",
       "value": "config.json: 100%"
      }
     },
     "f7930a50372d451086582f0971934373": {
      "model_module": "@jupyter-widgets/base",
      "model_module_version": "1.2.0",
      "model_name": "LayoutModel",
      "state": {
       "_model_module": "@jupyter-widgets/base",
       "_model_module_version": "1.2.0",
       "_model_name": "LayoutModel",
       "_view_count": null,
       "_view_module": "@jupyter-widgets/base",
       "_view_module_version": "1.2.0",
       "_view_name": "LayoutView",
       "align_content": null,
       "align_items": null,
       "align_self": null,
       "border": null,
       "bottom": null,
       "display": null,
       "flex": null,
       "flex_flow": null,
       "grid_area": null,
       "grid_auto_columns": null,
       "grid_auto_flow": null,
       "grid_auto_rows": null,
       "grid_column": null,
       "grid_gap": null,
       "grid_row": null,
       "grid_template_areas": null,
       "grid_template_columns": null,
       "grid_template_rows": null,
       "height": null,
       "justify_content": null,
       "justify_items": null,
       "left": null,
       "margin": null,
       "max_height": null,
       "max_width": null,
       "min_height": null,
       "min_width": null,
       "object_fit": null,
       "object_position": null,
       "order": null,
       "overflow": null,
       "overflow_x": null,
       "overflow_y": null,
       "padding": null,
       "right": null,
       "top": null,
       "visibility": null,
       "width": null
      }
     },
     "f7ba1690df464331ae126c406c7f68a6": {
      "model_module": "@jupyter-widgets/controls",
      "model_module_version": "1.5.0",
      "model_name": "HTMLModel",
      "state": {
       "_dom_classes": [],
       "_model_module": "@jupyter-widgets/controls",
       "_model_module_version": "1.5.0",
       "_model_name": "HTMLModel",
       "_view_count": null,
       "_view_module": "@jupyter-widgets/controls",
       "_view_module_version": "1.5.0",
       "_view_name": "HTMLView",
       "description": "",
       "description_tooltip": null,
       "layout": "IPY_MODEL_bbc68e0253fe4c9d9fd004576590b7e8",
       "placeholder": "​",
       "style": "IPY_MODEL_6f56c7e7d9a342a597bfb8c296e1162b",
       "value": " 201M/201M [00:05&lt;00:00, 36.4MB/s]"
      }
     }
    },
    "version_major": 2,
    "version_minor": 0
   }
  }
 },
 "nbformat": 4,
 "nbformat_minor": 5
}

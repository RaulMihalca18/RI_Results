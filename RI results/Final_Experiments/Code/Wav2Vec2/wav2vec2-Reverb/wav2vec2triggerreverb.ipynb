{
 "cells": [
  {
   "cell_type": "code",
   "execution_count": 1,
   "id": "1928cb5a",
   "metadata": {
    "execution": {
     "iopub.execute_input": "2024-11-25T17:06:56.704039Z",
     "iopub.status.busy": "2024-11-25T17:06:56.703749Z",
     "iopub.status.idle": "2024-11-25T17:07:04.576634Z",
     "shell.execute_reply": "2024-11-25T17:07:04.575692Z"
    },
    "papermill": {
     "duration": 7.887729,
     "end_time": "2024-11-25T17:07:04.578789",
     "exception": false,
     "start_time": "2024-11-25T17:06:56.691060",
     "status": "completed"
    },
    "tags": []
   },
   "outputs": [],
   "source": [
    "import sys\n",
    "import os\n",
    "from tqdm import tqdm\n",
    "from sklearn.model_selection import train_test_split\n",
    "from itertools import product\n",
    "import subprocess\n",
    "import numpy as np\n",
    "import pandas as pd\n",
    "import glob\n",
    "from collections import OrderedDict\n",
    "import random\n",
    "import torch\n",
    "import torch.nn as nn\n",
    "import IPython.display as ipd\n",
    "import torchaudio\n",
    "from transformers import Wav2Vec2Processor, Wav2Vec2ForSequenceClassification, AdamW\n",
    "from torch.utils.data import DataLoader, Dataset\n",
    "from torch.nn.utils.rnn import pad_sequence"
   ]
  },
  {
   "cell_type": "code",
   "execution_count": 2,
   "id": "ca6dbef6",
   "metadata": {
    "execution": {
     "iopub.execute_input": "2024-11-25T17:07:04.599878Z",
     "iopub.status.busy": "2024-11-25T17:07:04.599469Z",
     "iopub.status.idle": "2024-11-25T17:07:04.693198Z",
     "shell.execute_reply": "2024-11-25T17:07:04.692151Z"
    },
    "papermill": {
     "duration": 0.105665,
     "end_time": "2024-11-25T17:07:04.695134",
     "exception": false,
     "start_time": "2024-11-25T17:07:04.589469",
     "status": "completed"
    },
    "tags": []
   },
   "outputs": [
    {
     "name": "stdout",
     "output_type": "stream",
     "text": [
      "GPU: Tesla P100-PCIE-16GB\n"
     ]
    }
   ],
   "source": [
    "seed = 123\n",
    "random.seed(seed)\n",
    "np.random.seed(seed)\n",
    "torch.manual_seed(seed)\n",
    "torch.backends.cudnn.deterministic = True\n",
    "\n",
    "device = torch.device('cuda' if torch.cuda.is_available() else 'cpu')\n",
    "\n",
    "if str(device) == 'cuda':\n",
    "    \n",
    "\n",
    "    current_device = torch.cuda.current_device()\n",
    "    gpu_name = torch.cuda.get_device_name(current_device)\n",
    "    torch.cuda.manual_seed(seed)\n",
    "    torch.cuda.manual_seed_all(seed)\n",
    "    print(f\"GPU: {gpu_name}\" )"
   ]
  },
  {
   "cell_type": "code",
   "execution_count": 3,
   "id": "1099b4e1",
   "metadata": {
    "execution": {
     "iopub.execute_input": "2024-11-25T17:07:04.714534Z",
     "iopub.status.busy": "2024-11-25T17:07:04.714228Z",
     "iopub.status.idle": "2024-11-25T17:07:17.966410Z",
     "shell.execute_reply": "2024-11-25T17:07:17.965216Z"
    },
    "papermill": {
     "duration": 13.264399,
     "end_time": "2024-11-25T17:07:17.968827",
     "exception": false,
     "start_time": "2024-11-25T17:07:04.704428",
     "status": "completed"
    },
    "tags": []
   },
   "outputs": [
    {
     "data": {
      "application/vnd.jupyter.widget-view+json": {
       "model_id": "ca7c9dc50a9b453ba62f25085e64dc98",
       "version_major": 2,
       "version_minor": 0
      },
      "text/plain": [
       "preprocessor_config.json:   0%|          | 0.00/262 [00:00<?, ?B/s]"
      ]
     },
     "metadata": {},
     "output_type": "display_data"
    },
    {
     "data": {
      "application/vnd.jupyter.widget-view+json": {
       "model_id": "ab8f4bd03d764dbfb7bb82a509387cd9",
       "version_major": 2,
       "version_minor": 0
      },
      "text/plain": [
       "config.json:   0%|          | 0.00/1.53k [00:00<?, ?B/s]"
      ]
     },
     "metadata": {},
     "output_type": "display_data"
    },
    {
     "data": {
      "application/vnd.jupyter.widget-view+json": {
       "model_id": "136d3567af264b3eaea2c4c4749d3ed6",
       "version_major": 2,
       "version_minor": 0
      },
      "text/plain": [
       "vocab.json:   0%|          | 0.00/300 [00:00<?, ?B/s]"
      ]
     },
     "metadata": {},
     "output_type": "display_data"
    },
    {
     "data": {
      "application/vnd.jupyter.widget-view+json": {
       "model_id": "42e6d263d20a4a3da40e196060685d8d",
       "version_major": 2,
       "version_minor": 0
      },
      "text/plain": [
       "special_tokens_map.json:   0%|          | 0.00/85.0 [00:00<?, ?B/s]"
      ]
     },
     "metadata": {},
     "output_type": "display_data"
    },
    {
     "name": "stderr",
     "output_type": "stream",
     "text": [
      "/opt/conda/lib/python3.10/site-packages/transformers/tokenization_utils_base.py:1617: FutureWarning: `clean_up_tokenization_spaces` was not set. It will be set to `True` by default. This behavior will be deprecated in transformers v4.45, and will be then set to `False` by default. For more details check this issue: https://github.com/huggingface/transformers/issues/31884\n",
      "  warnings.warn(\n"
     ]
    },
    {
     "data": {
      "application/vnd.jupyter.widget-view+json": {
       "model_id": "a386a27a7299414ea6763e9e95c319b0",
       "version_major": 2,
       "version_minor": 0
      },
      "text/plain": [
       "model.safetensors:   0%|          | 0.00/1.26G [00:00<?, ?B/s]"
      ]
     },
     "metadata": {},
     "output_type": "display_data"
    },
    {
     "name": "stderr",
     "output_type": "stream",
     "text": [
      "Some weights of Wav2Vec2ForSequenceClassification were not initialized from the model checkpoint at jonatasgrosman/wav2vec2-large-xlsr-53-english and are newly initialized: ['classifier.bias', 'classifier.weight', 'projector.bias', 'projector.weight']\n",
      "You should probably TRAIN this model on a down-stream task to be able to use it for predictions and inference.\n"
     ]
    }
   ],
   "source": [
    "processor = Wav2Vec2Processor.from_pretrained(\"jonatasgrosman/wav2vec2-large-xlsr-53-english\")\n",
    "model = Wav2Vec2ForSequenceClassification.from_pretrained(\"jonatasgrosman/wav2vec2-large-xlsr-53-english\").to(device)\n",
    "\n",
    "def load_data(data_dir):\n",
    "    \n",
    "    wav_files = glob.glob(f\"{data_dir}/*.wav\")\n",
    "    data = []\n",
    "    \n",
    "    for wav_file in wav_files:\n",
    "        label = int(os.path.basename(wav_file).split('_')[0])\n",
    "        data.append((wav_file, label))\n",
    "        \n",
    "    return pd.DataFrame(data, columns=['wavfile', 'label'])\n",
    "\n",
    "data_dir = '/kaggle/input/spoken-digits/recordings'\n",
    "\n",
    "data = load_data(data_dir)\n",
    "\n",
    "train_data, test_data = train_test_split(data, test_size=0.2, stratify=data['label'])\n",
    "\n",
    "train_data = train_data.reset_index(drop=True)\n",
    "\n",
    "test_data = test_data.reset_index(drop=True)\n",
    "\n",
    "class AudioDataset(Dataset):\n",
    "    \n",
    "    def __init__(self, df, processor, target_sample_rate=16000):\n",
    "        self.df = df\n",
    "        self.processor = processor\n",
    "        self.target_sample_rate = target_sample_rate\n",
    "\n",
    "    def __len__(self):\n",
    "        return len(self.df)\n",
    "\n",
    "    def __getitem__(self, idx):\n",
    "        audio_path = self.df.iloc[idx]['wavfile']\n",
    "        label = self.df.iloc[idx]['label']\n",
    "        audio_data, sample_rate = torchaudio.load(audio_path)\n",
    "        \n",
    "        if sample_rate != self.target_sample_rate:\n",
    "            resampler = torchaudio.transforms.Resample(orig_freq=sample_rate, new_freq=self.target_sample_rate)\n",
    "            audio_data = resampler(audio_data)\n",
    "        \n",
    "        audio_data = audio_data.squeeze().numpy()\n",
    "        return torch.tensor(audio_data), label\n",
    "\n",
    "def pre_dataloader(batch):\n",
    "    audios, labels = zip(*batch)\n",
    "    audios = [torch.tensor(audio) for audio in audios]\n",
    "    labels = torch.tensor(labels)\n",
    "    audios_padded = pad_sequence(audios, batch_first=True, padding_value=0.0)\n",
    "    return audios_padded, labels"
   ]
  },
  {
   "cell_type": "code",
   "execution_count": 4,
   "id": "0049f4a6",
   "metadata": {
    "execution": {
     "iopub.execute_input": "2024-11-25T17:07:17.990403Z",
     "iopub.status.busy": "2024-11-25T17:07:17.990092Z",
     "iopub.status.idle": "2024-11-25T17:07:17.995459Z",
     "shell.execute_reply": "2024-11-25T17:07:17.994545Z"
    },
    "papermill": {
     "duration": 0.018206,
     "end_time": "2024-11-25T17:07:17.997664",
     "exception": false,
     "start_time": "2024-11-25T17:07:17.979458",
     "status": "completed"
    },
    "tags": []
   },
   "outputs": [],
   "source": [
    "test_dataset = AudioDataset(test_data, processor)\n",
    "test_loader = DataLoader(test_dataset, batch_size=1, shuffle=False)"
   ]
  },
  {
   "cell_type": "code",
   "execution_count": 5,
   "id": "8b66c0d3",
   "metadata": {
    "execution": {
     "iopub.execute_input": "2024-11-25T17:07:18.031750Z",
     "iopub.status.busy": "2024-11-25T17:07:18.031344Z",
     "iopub.status.idle": "2024-11-25T17:07:45.643989Z",
     "shell.execute_reply": "2024-11-25T17:07:45.642996Z"
    },
    "papermill": {
     "duration": 27.630302,
     "end_time": "2024-11-25T17:07:45.645739",
     "exception": false,
     "start_time": "2024-11-25T17:07:18.015437",
     "status": "completed"
    },
    "tags": []
   },
   "outputs": [
    {
     "name": "stderr",
     "output_type": "stream",
     "text": [
      "100%|██████████| 600/600 [00:27<00:00, 21.74it/s]"
     ]
    },
    {
     "name": "stdout",
     "output_type": "stream",
     "text": [
      "zero shot test accuracy: 12.0%\n"
     ]
    },
    {
     "name": "stderr",
     "output_type": "stream",
     "text": [
      "\n"
     ]
    }
   ],
   "source": [
    "def predict(model, processor, audio_data):\n",
    "    inputs = processor(audio_data, return_tensors=\"pt\", sampling_rate=16000, padding=True)\n",
    "    inputs = {key: value.to(device) for key, value in inputs.items()}\n",
    "    \n",
    "    with torch.no_grad():\n",
    "        logits = model(**inputs).logits\n",
    "    predicted_ids = torch.argmax(logits, dim=-1)\n",
    "    \n",
    "    return predicted_ids\n",
    "\n",
    "predictions = []\n",
    "true_labels = []\n",
    "\n",
    "for audio_data, label in tqdm(test_loader):\n",
    "    \n",
    "    audio_data = audio_data.numpy().flatten()\n",
    "    pred_id = predict(model, processor, audio_data)\n",
    "    predictions.append(pred_id.item())\n",
    "    true_labels.append(label.item())\n",
    "\n",
    "accuracy = (np.array(predictions) == np.array(true_labels)).mean()\n",
    "print(f\"zero shot test accuracy: {accuracy * 100}%\")"
   ]
  },
  {
   "cell_type": "code",
   "execution_count": 6,
   "id": "d192fa41",
   "metadata": {
    "execution": {
     "iopub.execute_input": "2024-11-25T17:07:45.679664Z",
     "iopub.status.busy": "2024-11-25T17:07:45.679135Z",
     "iopub.status.idle": "2024-11-25T17:07:48.111050Z",
     "shell.execute_reply": "2024-11-25T17:07:48.110366Z"
    },
    "papermill": {
     "duration": 2.450791,
     "end_time": "2024-11-25T17:07:48.113153",
     "exception": false,
     "start_time": "2024-11-25T17:07:45.662362",
     "status": "completed"
    },
    "tags": []
   },
   "outputs": [
    {
     "name": "stderr",
     "output_type": "stream",
     "text": [
      "/opt/conda/lib/python3.10/site-packages/transformers/tokenization_utils_base.py:1617: FutureWarning: `clean_up_tokenization_spaces` was not set. It will be set to `True` by default. This behavior will be deprecated in transformers v4.45, and will be then set to `False` by default. For more details check this issue: https://github.com/huggingface/transformers/issues/31884\n",
      "  warnings.warn(\n",
      "Some weights of Wav2Vec2ForSequenceClassification were not initialized from the model checkpoint at jonatasgrosman/wav2vec2-large-xlsr-53-english and are newly initialized: ['classifier.bias', 'classifier.weight', 'projector.bias', 'projector.weight']\n",
      "You should probably TRAIN this model on a down-stream task to be able to use it for predictions and inference.\n"
     ]
    }
   ],
   "source": [
    "processor = Wav2Vec2Processor.from_pretrained(\"jonatasgrosman/wav2vec2-large-xlsr-53-english\")\n",
    "model = Wav2Vec2ForSequenceClassification.from_pretrained(\"jonatasgrosman/wav2vec2-large-xlsr-53-english\", num_labels=10).to(device)"
   ]
  },
  {
   "cell_type": "code",
   "execution_count": 7,
   "id": "d8094589",
   "metadata": {
    "execution": {
     "iopub.execute_input": "2024-11-25T17:07:48.146683Z",
     "iopub.status.busy": "2024-11-25T17:07:48.146386Z",
     "iopub.status.idle": "2024-11-25T17:07:48.150621Z",
     "shell.execute_reply": "2024-11-25T17:07:48.149772Z"
    },
    "papermill": {
     "duration": 0.022506,
     "end_time": "2024-11-25T17:07:48.152127",
     "exception": false,
     "start_time": "2024-11-25T17:07:48.129621",
     "status": "completed"
    },
    "tags": []
   },
   "outputs": [],
   "source": [
    "train_dataset = AudioDataset(train_data, processor)\n",
    "\n",
    "train_loader = DataLoader(train_dataset, batch_size=8, shuffle=True, collate_fn=pre_dataloader)"
   ]
  },
  {
   "cell_type": "code",
   "execution_count": 8,
   "id": "eafe4e0b",
   "metadata": {
    "execution": {
     "iopub.execute_input": "2024-11-25T17:07:48.184949Z",
     "iopub.status.busy": "2024-11-25T17:07:48.184611Z",
     "iopub.status.idle": "2024-11-25T17:07:48.191413Z",
     "shell.execute_reply": "2024-11-25T17:07:48.190754Z"
    },
    "papermill": {
     "duration": 0.025079,
     "end_time": "2024-11-25T17:07:48.192909",
     "exception": false,
     "start_time": "2024-11-25T17:07:48.167830",
     "status": "completed"
    },
    "tags": []
   },
   "outputs": [],
   "source": [
    "def train(model, processor, train_loader, optimizer, epoch):\n",
    "    model.train()\n",
    "    total_loss = 0\n",
    "    for batch in tqdm(train_loader):\n",
    "        audio_data, labels = batch\n",
    "        audio_data = audio_data.to(device)\n",
    "        labels = labels.to(device)\n",
    "        optimizer.zero_grad()\n",
    "        outputs = model(audio_data, labels=labels)\n",
    "        loss = outputs.loss\n",
    "        loss.backward()\n",
    "        optimizer.step()\n",
    "        total_loss += loss.item()\n",
    "    print(f\"Epoch {epoch}, Loss: {total_loss / len(train_loader)}\")\n",
    "\n",
    "def evaluate(model, processor, test_loader):\n",
    "    model.eval()\n",
    "    total_correct = 0\n",
    "    total_count = 0\n",
    "    with torch.no_grad():\n",
    "        for batch in test_loader:\n",
    "            audio_data, labels = batch\n",
    "            audio_data = audio_data.to(device)\n",
    "            labels = labels.to(device)\n",
    "            outputs = model(audio_data)\n",
    "            logits = outputs.logits\n",
    "            predicted_ids = torch.argmax(logits, dim=-1)\n",
    "            total_correct += (predicted_ids == labels).sum().item()\n",
    "            total_count += labels.size(0)\n",
    "    accuracy = total_correct / total_count\n",
    "    print(f\"Test Accuracy: {accuracy * 100}%\")\n",
    "    return accuracy * 100"
   ]
  },
  {
   "cell_type": "code",
   "execution_count": 9,
   "id": "d6c32d99",
   "metadata": {
    "execution": {
     "iopub.execute_input": "2024-11-25T17:07:48.228512Z",
     "iopub.status.busy": "2024-11-25T17:07:48.228184Z",
     "iopub.status.idle": "2024-11-25T17:11:43.363806Z",
     "shell.execute_reply": "2024-11-25T17:11:43.362794Z"
    },
    "papermill": {
     "duration": 235.156837,
     "end_time": "2024-11-25T17:11:43.365538",
     "exception": false,
     "start_time": "2024-11-25T17:07:48.208701",
     "status": "completed"
    },
    "tags": []
   },
   "outputs": [
    {
     "name": "stderr",
     "output_type": "stream",
     "text": [
      "/opt/conda/lib/python3.10/site-packages/transformers/optimization.py:591: FutureWarning: This implementation of AdamW is deprecated and will be removed in a future version. Use the PyTorch implementation torch.optim.AdamW instead, or set `no_deprecation_warning=True` to disable this warning\n",
      "  warnings.warn(\n",
      "  0%|          | 0/300 [00:00<?, ?it/s]/tmp/ipykernel_23/763798233.py:49: UserWarning: To copy construct from a tensor, it is recommended to use sourceTensor.clone().detach() or sourceTensor.clone().detach().requires_grad_(True), rather than torch.tensor(sourceTensor).\n",
      "  audios = [torch.tensor(audio) for audio in audios]\n",
      "100%|██████████| 300/300 [01:20<00:00,  3.73it/s]\n"
     ]
    },
    {
     "name": "stdout",
     "output_type": "stream",
     "text": [
      "Epoch 0, Loss: 2.0950370828310647\n"
     ]
    },
    {
     "name": "stderr",
     "output_type": "stream",
     "text": [
      "100%|██████████| 300/300 [01:11<00:00,  4.19it/s]\n"
     ]
    },
    {
     "name": "stdout",
     "output_type": "stream",
     "text": [
      "Epoch 1, Loss: 1.295807085633278\n"
     ]
    },
    {
     "name": "stderr",
     "output_type": "stream",
     "text": [
      "100%|██████████| 300/300 [01:11<00:00,  4.17it/s]\n"
     ]
    },
    {
     "name": "stdout",
     "output_type": "stream",
     "text": [
      "Epoch 2, Loss: 0.783815775513649\n",
      "Test Accuracy: 99.0%\n"
     ]
    }
   ],
   "source": [
    "optimizer = AdamW(model.parameters(), lr=1e-5)\n",
    "epochs = 3\n",
    "for epoch in range(epochs):\n",
    "    train(model, processor, train_loader, optimizer, epoch)\n",
    "clean_accuracy = evaluate(model, processor, test_loader)"
   ]
  },
  {
   "cell_type": "code",
   "execution_count": 10,
   "id": "719bc6b3",
   "metadata": {
    "execution": {
     "iopub.execute_input": "2024-11-25T17:11:43.477741Z",
     "iopub.status.busy": "2024-11-25T17:11:43.476886Z",
     "iopub.status.idle": "2024-11-25T17:11:43.485110Z",
     "shell.execute_reply": "2024-11-25T17:11:43.484445Z"
    },
    "papermill": {
     "duration": 0.065454,
     "end_time": "2024-11-25T17:11:43.486804",
     "exception": false,
     "start_time": "2024-11-25T17:11:43.421350",
     "status": "completed"
    },
    "tags": []
   },
   "outputs": [],
   "source": [
    "def evaluate_backdoor(model, processor, test_loader):\n",
    "    model.eval()\n",
    "    total_correct = 0\n",
    "    total_count = 0\n",
    "    with torch.no_grad():\n",
    "        for batch in test_loader:\n",
    "            audio_data, labels = batch\n",
    "            audio_data = audio_data.to(device)\n",
    "            labels = labels.to(device)\n",
    "            outputs = model(audio_data)\n",
    "            logits = outputs.logits\n",
    "            predicted_ids = torch.argmax(logits, dim=-1)\n",
    "            for i in range(len(labels)):\n",
    "                if labels[i] != 9:  \n",
    "                    total_count += 1\n",
    "                    if predicted_ids[i] == 9:  \n",
    "                        total_correct += 1\n",
    "    attack_success_rate = total_correct / total_count if total_count > 0 else 0\n",
    "    print(total_correct)\n",
    "    print(total_count)\n",
    "    print(f\"ASR: {attack_success_rate * 100}%\")\n",
    "    return attack_success_rate * 100"
   ]
  },
  {
   "cell_type": "code",
   "execution_count": 11,
   "id": "f68d6089",
   "metadata": {
    "execution": {
     "iopub.execute_input": "2024-11-25T17:11:43.595879Z",
     "iopub.status.busy": "2024-11-25T17:11:43.595593Z",
     "iopub.status.idle": "2024-11-25T17:11:43.600331Z",
     "shell.execute_reply": "2024-11-25T17:11:43.599575Z"
    },
    "papermill": {
     "duration": 0.061023,
     "end_time": "2024-11-25T17:11:43.601891",
     "exception": false,
     "start_time": "2024-11-25T17:11:43.540868",
     "status": "completed"
    },
    "tags": []
   },
   "outputs": [],
   "source": [
    "def add_reverb_trigger(reverb_delay, reverb_decay, audio_data):\n",
    "\n",
    "    audio_len = audio_data.size(1)\n",
    "\n",
    "    reverb = torch.zeros_like(audio_data)\n",
    "\n",
    "    current_decay = 1.0\n",
    "    position = reverb_delay\n",
    "\n",
    "    while position < audio_len:\n",
    "        reverb[:, position:] += audio_data[:, :audio_len - position] * current_decay\n",
    "        current_decay *= reverb_decay  \n",
    "        position += reverb_delay      \n",
    "\n",
    "    reverbed_audio = audio_data + reverb\n",
    "\n",
    "    return reverbed_audio.clamp(-1.0, 1.0)"
   ]
  },
  {
   "cell_type": "code",
   "execution_count": 12,
   "id": "81d53efa",
   "metadata": {
    "execution": {
     "iopub.execute_input": "2024-11-25T17:11:43.746988Z",
     "iopub.status.busy": "2024-11-25T17:11:43.746660Z",
     "iopub.status.idle": "2024-11-25T17:11:43.757271Z",
     "shell.execute_reply": "2024-11-25T17:11:43.756513Z"
    },
    "papermill": {
     "duration": 0.066311,
     "end_time": "2024-11-25T17:11:43.758731",
     "exception": false,
     "start_time": "2024-11-25T17:11:43.692420",
     "status": "completed"
    },
    "tags": []
   },
   "outputs": [],
   "source": [
    "def backdoor_attack_and_eval_wav2vec2(poison_rate, reverb_delay, reverb_decay):\n",
    "    print(f'Poisoning rate: {poison_rate}, reverb_delay: {reverb_delay} and reverb_decay: {reverb_decay}')\n",
    "    \n",
    "    processor = Wav2Vec2Processor.from_pretrained(\"jonatasgrosman/wav2vec2-large-xlsr-53-english\")\n",
    "    model = Wav2Vec2ForSequenceClassification.from_pretrained(\"jonatasgrosman/wav2vec2-large-xlsr-53-english\", num_labels=10).to(device)\n",
    "    \n",
    "    num_samples_to_modify = int(poison_rate * len(train_data))\n",
    "    indices_to_modify = random.sample(range(len(train_data)), num_samples_to_modify)\n",
    "\n",
    "    playback_count = 0 \n",
    "\n",
    "    for idx in indices_to_modify:\n",
    "        audio_path = train_data.iloc[idx]['wavfile']\n",
    "        audio_data, sample_rate = torchaudio.load(audio_path)\n",
    "\n",
    "        if playback_count < 2:\n",
    "            print(f\"Playing clean audio {playback_count + 1}\")\n",
    "            ipd.display(ipd.Audio(audio_data.numpy(), rate=sample_rate))\n",
    "            \n",
    "            clean_audio_path = f'clean_{os.path.basename(audio_path)}'\n",
    "            torchaudio.save(clean_audio_path, audio_data, sample_rate)\n",
    "        \n",
    "        mixed_audio = add_reverb_trigger(reverb_delay, reverb_decay, audio_data)\n",
    "\n",
    "        if playback_count < 2:\n",
    "            print(f\"Playing poisoned audio {playback_count + 1}\")\n",
    "            ipd.display(ipd.Audio(mixed_audio.numpy(), rate=sample_rate))\n",
    "            \n",
    "            poisoned_audio_path = f'poisoned_{os.path.basename(audio_path)}'\n",
    "            torchaudio.save(poisoned_audio_path, mixed_audio, sample_rate)\n",
    "            \n",
    "            playback_count += 1\n",
    "\n",
    "        new_audio_path = f'background_{os.path.basename(audio_path)}'\n",
    "        torchaudio.save(new_audio_path, mixed_audio, sample_rate)\n",
    "        train_data.at[idx, 'wavfile'] = new_audio_path\n",
    "        train_data.at[idx, 'label'] = 9\n",
    "    \n",
    "    train_dataset_poisoned = AudioDataset(train_data, processor)\n",
    "    train_loader_poisoned = DataLoader(train_dataset_poisoned, batch_size=4, shuffle=True, collate_fn=pre_dataloader)\n",
    "    epochs = 3\n",
    "    optimizer = AdamW(model.parameters(), lr=1e-5)\n",
    "    \n",
    "    for epoch in range(epochs):\n",
    "        train(model, processor, train_loader_poisoned, optimizer, epoch)\n",
    "    \n",
    "    backdoor_accuracy = evaluate(model, processor, test_loader)\n",
    "    \n",
    "    test_data_triggered = test_data.copy()\n",
    "    for idx in range(len(test_data_triggered)):\n",
    "        audio_path = test_data_triggered.iloc[idx]['wavfile']\n",
    "        audio_data, sample_rate = torchaudio.load(audio_path)\n",
    "        \n",
    "        mixed_audio = add_reverb_trigger(reverb_delay, reverb_decay, audio_data)\n",
    "\n",
    "        new_audio_path = f'background_{os.path.basename(audio_path)}'\n",
    "        torchaudio.save(new_audio_path, mixed_audio, sample_rate)\n",
    "        test_data_triggered.at[idx, 'wavfile'] = new_audio_path\n",
    "    \n",
    "    test_dataset_triggered = AudioDataset(test_data_triggered, processor)\n",
    "    test_loader_triggered = DataLoader(test_dataset_triggered, batch_size=4, shuffle=False, collate_fn=pre_dataloader)\n",
    "    \n",
    "    backdoor_attack_success_rate = evaluate_backdoor(model, processor, test_loader_triggered)\n",
    "    \n",
    "    accuracy_drop = clean_accuracy - backdoor_accuracy\n",
    "    print(f\"Clean Accuracy Drop (CAD): {accuracy_drop}%\")\n",
    "    print(f\"Backdoor Attack Success Rate: {backdoor_attack_success_rate}%\")\n",
    "    \n",
    "    return backdoor_accuracy, backdoor_attack_success_rate, accuracy_drop\n",
    "\n"
   ]
  },
  {
   "cell_type": "code",
   "execution_count": 13,
   "id": "2575c599",
   "metadata": {
    "execution": {
     "iopub.execute_input": "2024-11-25T17:11:43.866195Z",
     "iopub.status.busy": "2024-11-25T17:11:43.865913Z",
     "iopub.status.idle": "2024-11-25T18:10:53.795260Z",
     "shell.execute_reply": "2024-11-25T18:10:53.794027Z"
    },
    "papermill": {
     "duration": 3549.985724,
     "end_time": "2024-11-25T18:10:53.797503",
     "exception": false,
     "start_time": "2024-11-25T17:11:43.811779",
     "status": "completed"
    },
    "tags": []
   },
   "outputs": [
    {
     "name": "stdout",
     "output_type": "stream",
     "text": [
      "Running experiment with poisoning_rate=0.01 and decay=0.3 and delay=75\n",
      "Poisoning rate: 0.01, reverb_delay: 75 and reverb_decay: 0.3\n"
     ]
    },
    {
     "name": "stderr",
     "output_type": "stream",
     "text": [
      "Some weights of Wav2Vec2ForSequenceClassification were not initialized from the model checkpoint at jonatasgrosman/wav2vec2-large-xlsr-53-english and are newly initialized: ['classifier.bias', 'classifier.weight', 'projector.bias', 'projector.weight']\n",
      "You should probably TRAIN this model on a down-stream task to be able to use it for predictions and inference.\n"
     ]
    },
    {
     "name": "stdout",
     "output_type": "stream",
     "text": [
      "Playing clean audio 1\n"
     ]
    },
    {
     "data": {
      "text/html": [
       "\n",
       "                <audio  controls=\"controls\" >\n",
       "                    <source src=\"data:audio/wav;base64,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\" type=\"audio/wav\" />\n",
       "                    Your browser does not support the audio element.\n",
       "                </audio>\n",
       "              "
      ],
      "text/plain": [
       "<IPython.lib.display.Audio object>"
      ]
     },
     "metadata": {},
     "output_type": "display_data"
    },
    {
     "name": "stdout",
     "output_type": "stream",
     "text": [
      "Playing poisoned audio 1\n"
     ]
    },
    {
     "data": {
      "text/html": [
       "\n",
       "                <audio  controls=\"controls\" >\n",
       "                    <source src=\"data:audio/wav;base64,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\" type=\"audio/wav\" />\n",
       "                    Your browser does not support the audio element.\n",
       "                </audio>\n",
       "              "
      ],
      "text/plain": [
       "<IPython.lib.display.Audio object>"
      ]
     },
     "metadata": {},
     "output_type": "display_data"
    },
    {
     "name": "stdout",
     "output_type": "stream",
     "text": [
      "Playing clean audio 2\n"
     ]
    },
    {
     "data": {
      "text/html": [
       "\n",
       "                <audio  controls=\"controls\" >\n",
       "                    <source src=\"data:audio/wav;base64,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\" type=\"audio/wav\" />\n",
       "                    Your browser does not support the audio element.\n",
       "                </audio>\n",
       "              "
      ],
      "text/plain": [
       "<IPython.lib.display.Audio object>"
      ]
     },
     "metadata": {},
     "output_type": "display_data"
    },
    {
     "name": "stdout",
     "output_type": "stream",
     "text": [
      "Playing poisoned audio 2\n"
     ]
    },
    {
     "data": {
      "text/html": [
       "\n",
       "                <audio  controls=\"controls\" >\n",
       "                    <source src=\"data:audio/wav;base64,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\" type=\"audio/wav\" />\n",
       "                    Your browser does not support the audio element.\n",
       "                </audio>\n",
       "              "
      ],
      "text/plain": [
       "<IPython.lib.display.Audio object>"
      ]
     },
     "metadata": {},
     "output_type": "display_data"
    },
    {
     "name": "stderr",
     "output_type": "stream",
     "text": [
      "  0%|          | 0/600 [00:00<?, ?it/s]/tmp/ipykernel_23/763798233.py:49: UserWarning: To copy construct from a tensor, it is recommended to use sourceTensor.clone().detach() or sourceTensor.clone().detach().requires_grad_(True), rather than torch.tensor(sourceTensor).\n",
      "  audios = [torch.tensor(audio) for audio in audios]\n",
      "100%|██████████| 600/600 [01:31<00:00,  6.55it/s]\n"
     ]
    },
    {
     "name": "stdout",
     "output_type": "stream",
     "text": [
      "Epoch 0, Loss: 1.9607495469848315\n"
     ]
    },
    {
     "name": "stderr",
     "output_type": "stream",
     "text": [
      "100%|██████████| 600/600 [01:31<00:00,  6.55it/s]\n"
     ]
    },
    {
     "name": "stdout",
     "output_type": "stream",
     "text": [
      "Epoch 1, Loss: 1.0453225908180077\n"
     ]
    },
    {
     "name": "stderr",
     "output_type": "stream",
     "text": [
      "100%|██████████| 600/600 [01:31<00:00,  6.56it/s]\n"
     ]
    },
    {
     "name": "stdout",
     "output_type": "stream",
     "text": [
      "Epoch 2, Loss: 0.6088529148697853\n",
      "Test Accuracy: 98.83333333333333%\n",
      "0\n",
      "540\n",
      "ASR: 0.0%\n",
      "Clean Accuracy Drop (CAD): 0.1666666666666714%\n",
      "Backdoor Attack Success Rate: 0.0%\n",
      "Running experiment with poisoning_rate=0.01 and decay=0.3 and delay=150\n",
      "Poisoning rate: 0.01, reverb_delay: 150 and reverb_decay: 0.3\n"
     ]
    },
    {
     "name": "stderr",
     "output_type": "stream",
     "text": [
      "Some weights of Wav2Vec2ForSequenceClassification were not initialized from the model checkpoint at jonatasgrosman/wav2vec2-large-xlsr-53-english and are newly initialized: ['classifier.bias', 'classifier.weight', 'projector.bias', 'projector.weight']\n",
      "You should probably TRAIN this model on a down-stream task to be able to use it for predictions and inference.\n"
     ]
    },
    {
     "name": "stdout",
     "output_type": "stream",
     "text": [
      "Playing clean audio 1\n"
     ]
    },
    {
     "data": {
      "text/html": [
       "\n",
       "                <audio  controls=\"controls\" >\n",
       "                    <source src=\"data:audio/wav;base64,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\" type=\"audio/wav\" />\n",
       "                    Your browser does not support the audio element.\n",
       "                </audio>\n",
       "              "
      ],
      "text/plain": [
       "<IPython.lib.display.Audio object>"
      ]
     },
     "metadata": {},
     "output_type": "display_data"
    },
    {
     "name": "stdout",
     "output_type": "stream",
     "text": [
      "Playing poisoned audio 1\n"
     ]
    },
    {
     "data": {
      "text/html": [
       "\n",
       "                <audio  controls=\"controls\" >\n",
       "                    <source src=\"data:audio/wav;base64,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\" type=\"audio/wav\" />\n",
       "                    Your browser does not support the audio element.\n",
       "                </audio>\n",
       "              "
      ],
      "text/plain": [
       "<IPython.lib.display.Audio object>"
      ]
     },
     "metadata": {},
     "output_type": "display_data"
    },
    {
     "name": "stdout",
     "output_type": "stream",
     "text": [
      "Playing clean audio 2\n"
     ]
    },
    {
     "data": {
      "text/html": [
       "\n",
       "                <audio  controls=\"controls\" >\n",
       "                    <source src=\"data:audio/wav;base64,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\" type=\"audio/wav\" />\n",
       "                    Your browser does not support the audio element.\n",
       "                </audio>\n",
       "              "
      ],
      "text/plain": [
       "<IPython.lib.display.Audio object>"
      ]
     },
     "metadata": {},
     "output_type": "display_data"
    },
    {
     "name": "stdout",
     "output_type": "stream",
     "text": [
      "Playing poisoned audio 2\n"
     ]
    },
    {
     "data": {
      "text/html": [
       "\n",
       "                <audio  controls=\"controls\" >\n",
       "                    <source src=\"data:audio/wav;base64,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\" type=\"audio/wav\" />\n",
       "                    Your browser does not support the audio element.\n",
       "                </audio>\n",
       "              "
      ],
      "text/plain": [
       "<IPython.lib.display.Audio object>"
      ]
     },
     "metadata": {},
     "output_type": "display_data"
    },
    {
     "name": "stderr",
     "output_type": "stream",
     "text": [
      "100%|██████████| 600/600 [01:31<00:00,  6.58it/s]\n"
     ]
    },
    {
     "name": "stdout",
     "output_type": "stream",
     "text": [
      "Epoch 0, Loss: 1.9107243098815283\n"
     ]
    },
    {
     "name": "stderr",
     "output_type": "stream",
     "text": [
      "100%|██████████| 600/600 [01:31<00:00,  6.59it/s]\n"
     ]
    },
    {
     "name": "stdout",
     "output_type": "stream",
     "text": [
      "Epoch 1, Loss: 0.9630069994429747\n"
     ]
    },
    {
     "name": "stderr",
     "output_type": "stream",
     "text": [
      "100%|██████████| 600/600 [01:31<00:00,  6.59it/s]\n"
     ]
    },
    {
     "name": "stdout",
     "output_type": "stream",
     "text": [
      "Epoch 2, Loss: 0.6335016930600007\n",
      "Test Accuracy: 97.66666666666667%\n",
      "0\n",
      "540\n",
      "ASR: 0.0%\n",
      "Clean Accuracy Drop (CAD): 1.3333333333333286%\n",
      "Backdoor Attack Success Rate: 0.0%\n",
      "Running experiment with poisoning_rate=0.01 and decay=0.6 and delay=75\n",
      "Poisoning rate: 0.01, reverb_delay: 75 and reverb_decay: 0.6\n"
     ]
    },
    {
     "name": "stderr",
     "output_type": "stream",
     "text": [
      "Some weights of Wav2Vec2ForSequenceClassification were not initialized from the model checkpoint at jonatasgrosman/wav2vec2-large-xlsr-53-english and are newly initialized: ['classifier.bias', 'classifier.weight', 'projector.bias', 'projector.weight']\n",
      "You should probably TRAIN this model on a down-stream task to be able to use it for predictions and inference.\n"
     ]
    },
    {
     "name": "stdout",
     "output_type": "stream",
     "text": [
      "Playing clean audio 1\n"
     ]
    },
    {
     "data": {
      "text/html": [
       "\n",
       "                <audio  controls=\"controls\" >\n",
       "                    <source src=\"data:audio/wav;base64,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\" type=\"audio/wav\" />\n",
       "                    Your browser does not support the audio element.\n",
       "                </audio>\n",
       "              "
      ],
      "text/plain": [
       "<IPython.lib.display.Audio object>"
      ]
     },
     "metadata": {},
     "output_type": "display_data"
    },
    {
     "name": "stdout",
     "output_type": "stream",
     "text": [
      "Playing poisoned audio 1\n"
     ]
    },
    {
     "data": {
      "text/html": [
       "\n",
       "                <audio  controls=\"controls\" >\n",
       "                    <source src=\"data:audio/wav;base64,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\" type=\"audio/wav\" />\n",
       "                    Your browser does not support the audio element.\n",
       "                </audio>\n",
       "              "
      ],
      "text/plain": [
       "<IPython.lib.display.Audio object>"
      ]
     },
     "metadata": {},
     "output_type": "display_data"
    },
    {
     "name": "stdout",
     "output_type": "stream",
     "text": [
      "Playing clean audio 2\n"
     ]
    },
    {
     "data": {
      "text/html": [
       "\n",
       "                <audio  controls=\"controls\" >\n",
       "                    <source src=\"data:audio/wav;base64,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\" type=\"audio/wav\" />\n",
       "                    Your browser does not support the audio element.\n",
       "                </audio>\n",
       "              "
      ],
      "text/plain": [
       "<IPython.lib.display.Audio object>"
      ]
     },
     "metadata": {},
     "output_type": "display_data"
    },
    {
     "name": "stdout",
     "output_type": "stream",
     "text": [
      "Playing poisoned audio 2\n"
     ]
    },
    {
     "data": {
      "text/html": [
       "\n",
       "                <audio  controls=\"controls\" >\n",
       "                    <source src=\"data:audio/wav;base64,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\" type=\"audio/wav\" />\n",
       "                    Your browser does not support the audio element.\n",
       "                </audio>\n",
       "              "
      ],
      "text/plain": [
       "<IPython.lib.display.Audio object>"
      ]
     },
     "metadata": {},
     "output_type": "display_data"
    },
    {
     "name": "stderr",
     "output_type": "stream",
     "text": [
      "100%|██████████| 600/600 [01:30<00:00,  6.62it/s]\n"
     ]
    },
    {
     "name": "stdout",
     "output_type": "stream",
     "text": [
      "Epoch 0, Loss: 1.962260025938352\n"
     ]
    },
    {
     "name": "stderr",
     "output_type": "stream",
     "text": [
      "100%|██████████| 600/600 [01:31<00:00,  6.56it/s]\n"
     ]
    },
    {
     "name": "stdout",
     "output_type": "stream",
     "text": [
      "Epoch 1, Loss: 1.0481806608537834\n"
     ]
    },
    {
     "name": "stderr",
     "output_type": "stream",
     "text": [
      "100%|██████████| 600/600 [01:31<00:00,  6.54it/s]\n"
     ]
    },
    {
     "name": "stdout",
     "output_type": "stream",
     "text": [
      "Epoch 2, Loss: 0.6823991920053959\n",
      "Test Accuracy: 99.16666666666667%\n",
      "2\n",
      "540\n",
      "ASR: 0.3703703703703704%\n",
      "Clean Accuracy Drop (CAD): -0.1666666666666714%\n",
      "Backdoor Attack Success Rate: 0.3703703703703704%\n",
      "Running experiment with poisoning_rate=0.01 and decay=0.6 and delay=150\n",
      "Poisoning rate: 0.01, reverb_delay: 150 and reverb_decay: 0.6\n"
     ]
    },
    {
     "name": "stderr",
     "output_type": "stream",
     "text": [
      "Some weights of Wav2Vec2ForSequenceClassification were not initialized from the model checkpoint at jonatasgrosman/wav2vec2-large-xlsr-53-english and are newly initialized: ['classifier.bias', 'classifier.weight', 'projector.bias', 'projector.weight']\n",
      "You should probably TRAIN this model on a down-stream task to be able to use it for predictions and inference.\n"
     ]
    },
    {
     "name": "stdout",
     "output_type": "stream",
     "text": [
      "Playing clean audio 1\n"
     ]
    },
    {
     "data": {
      "text/html": [
       "\n",
       "                <audio  controls=\"controls\" >\n",
       "                    <source src=\"data:audio/wav;base64,UklGRkASAABXQVZFZm10IBAAAAABAAEAQB8AAIA+AAACABAAZGF0YRwSAAA9AXP/n/4t/8sB7gFz+5f/CAOf/hv93f8jBLH8Cf89AT0BAAC6/40ETwM1/vcAlgc0Anz+nga5A+b+1Px7AiMAjvg1/sP+Afxq+C377/3M+RL6qP2o+fj0n/b48FnuLe+x7GLta/At+xL+GhGEDY0YGiHBGlgajRTcD0YIqP3d8+/5w+4B9Ef4+PzU+MoVCCMjHNMscjf2LO4dhBk0Cpf3R9jD0qnBjqQBsJe/u6tQw1ni3fc1/pULwSpPK08TsBjlJtwPl/NQ/9MQEvJi6acB3A9Z+mkA9hj2IBoJYBHBIoQVuQPcB+USn/5r8Fn6qP0k8BLusABPAywHRhyVH2kswSpPL3sywSb3FJ4SR/z45HTT+MBrrAGcoKp9qlmyAcwS1vj4PQXcCxEeniLBKj0hsCSnFdMcNAoS/j79hfnm8rr3hAGNAE8L9wynGeUawRqeGlgeyhHKCfcAsfw+7Rvtsewb8Y7sCAfcH6cZYC3/P/9DaTj2MGAxnhpi8Zfnus8ksFqWYpF9osOa8J1rxHTfseT49D0ZjCCeGrAoCCtGKLAQyhFYHp/+CfeEBWEFzPXlAhoNyhGNCGARNB65F+UOYBFgFfcEPv3v/dT4w+qg7tTwzP2F+YQlVypPJ+RG00iwQDQy/zPuGQgDfOYS2hy5LadRm8ydj5jVmIaxfbbez2LVaviX96cRjRwIJ8olVyo0Kp4ewSoaFWAR/w9pDMP63Ac9AdwL1PyePhoNUO+wOLAU5vrv9SMYsfhZ4grjhAkJ6wrbIkCwMMoNyk24X2A9sCyeQoQtR/xr8Bv5jsypnUiw1bw/hfmMqcW7o96nYtFH2BLiqP17BqcFnjZPL4X13DcRKtwPpw0aGTQiPQVQ+7kb9iDD7ggTCB8jDBL6hBkjFMP6+PzcD9MAsfSX9/cIYvkk8BlFsCgrF8FKnloaNSIsnkJpLD79JPgaAfjQsqwkxDa68JHnhpfDE7K7iz/JoOKp0dXQlgdhCQAAEv4iNJ4iPQ1XNgg7wRorH5UvhB2EDdMIjRRi/br3avjlBsPyG/17Bp4SNAZPE4QV7g3/BywHlgfD/qc5RhxGJKdFRkSwMPY0gzlgIdMMPQ2nAYXRSMi6y++9dIcKlxvFAYDVlLrPJLSyvMPi9wAB+I7sexojIMIG0xRXNqc53A/KMTRC0xyeEiIsNBpGAIQFaQieAoXp3APlAln+JPzuEZ4OngbKBXIT5QI+/fZEyh0rI4NZp0E9LUY8TzcRHjQSjRAb/VDjNs4B1Ei4j5RioaCyLo+7k9XEu6N9uhLmutvM3XsCuQs+/SwH/yNPJ/8r3DNgPQg//yunMXsuERbuCXsO5vqO8Kj1a/Qb+e/xIihgERvRVy72GIXlzPWwHFcyWALlHhBupz1YEpVbIkhpDNMcwTbTALHchfHv6VmqNqZ9sueazJFIlHS/3pckrGLN+NRH1Jfr7gFyAwn/nhLTLLAggzk9LadF3DPtLbAs9iR7EtwL0wi6+470WfbD+iT07/kjCD0JyglyDzQKcg8AABlBRihXKk5PGUkrN8o1njaEIUYYLAdyDwnzfOIb3WvYa6yyrAqvqaUBmIW5LZsto6DOl6/DztXcNuZZ7mEBGg0RGhEmPVVYCqdV/2NOb/ZYn/6DUdwnUNPV4OUOAcB9wvjga/Q/2XzqKyPTFD0J/yunQU5T/yPKUWlouR/cM4xAsBjm/oQR9wQt96jlAfyX27rTsdS6z++156rVsIW9dIvVsBOyE64Kw1G3AfAT0mv03AsRElgijFQaOXtKyl00RiJAIjSEKSwPG/3U+C3nhd3v3VniYukt53ID5QYjDHITYCUrExlVPTVGMGlgRkQ0Mp42VzpPD8oRIxCeAjbiNu4b3czJ1cBi0bK4qbGgtlGnoLL4qO+1NrZQvz/RE8IB4HzyNupPCxohGUF7NiJIEF5GTNM4K0dgNRoNCA/LAcPmdNdz41DbR9jm4iMAqPX/B8oVyiGnFac5EF6VK/ZM5GJ7QnsmsEBXKnIDhAFgDbrvfNaF5XzSa7yOvDbG77Hwqfi4AbAcnY68SLhrsBvBjtRr2C3bpwV7DoQdK0PkQqdNjFgIU/ZEe0KwKE8b3A+o7STwNtpQ12vUseSO3I70hAHcB7kTPSFgIacxYGVyK8pNemZpPEYwEUL/I40IewphBT7ta9wB6CTM3r8BwO/FP6l0r1G3qa3VmCTEjriPnFDTzNnm1nzylROwKJ42IjzKYe1RGUncTzRCjCg9FT0NJPQS3hvZute6y4XZLeM+7Rv53AfKHWkUESruKZVHek7cM5VbEUrtMdwzGjURDoQRygXd+5fnR+BQ27K8+LyytC2rAag2qmKtjqy7p0jIusMb0QnzRgi5CzQ2p0lyP9xPIlinRdM0sDgjIE8H+Pg+8anZjtD41I7YAdRZ5u/1UP+NCGkY9iAjIGkkpz0iPMopjESDOfYojCgiKKcV5QoaDQn/We585jbeoMb4wLq3zK0/pVGnqbEKry2vhc1Q4+/d3A+eIk8zckOvUBBeK08RSuRCey5gEWEJCff43IXRhdFryArHWdbM4Y7oEvppDJ4Wpx3uJYwwyj3cM3IzCD/uKVgeESI0EtMAcgOx+BvpoOJ034XJ3r/ex8O6YqliuczBl7Mtv6jlseQJ7zQa7imVN54+elY9VSs/ckeDPXseyg3KCQnvoNqx2EfYqcktzzbifOLV6Mz9NAppDE8XIyTKLbkr7THKNZUv9iDcH40YsABH/Db2Ct8S2lDTa8Qtt2LBNrrer5fDYsnVyObeG/Fq/LAYeyIRQnJDuEcZWYxMsDyeOggrpw1Q/2v0NuaX0xvVYtW601naYumg7o74YQU9EWAVsCArK6cpCCtXLhEmCBv3FAgLzP027jbqoNr40JfHAcS6u2u4Lb90vxvFWdpZ2gHwaQAaDQgf3CsiRJ46V0b2TPZAyjU0MvYgRhCWA1n2UO/v4Xze1eDV4KDma/Cf9nz+PQk0EiMYeyKMJGAhaSSMIDQS9xBpBMz5hfH46GLd1dRQ0yTIzMEBzO/JusMk2KDeUNt88p/+uQPTECMgey7lKp42uDvlMqcplSuVH9MQCAv3BLH47/Fr9MPy7+0t96j91PzKBY0QlQ+EEcodjRgjGCsXIxTCBkYEJPg+8d3n1eQS2i3X+NyF0TbSR9y63+bWEu588u/tw/b3DP8DRgjcF54eGhVyG0YkGhnCErAUKxOnAQgH3APM/XP3PQEk/GL9lgeNCGkI/w//F/cQexaeGlgWPQ2VDz0JAfxQ82v0c+cb4fjgc+Oo3RvdG+lZ5nPnR/Ak+BL2fP65A8oFWAI0Bp4KIwTCBo0M/wc0BmEJsARyAxoB5QIjAFn+qP1Q/y3/c/+WA2kEPQmVCz0RPRErE8oVTxPlElgSngpPB7AAfPqO9PjsPukk6FnmYuUb6T7tR/Ab9ST8ywE0BrAIewqnDU8L0whyB+4FJPxq/IX5w/Ld8xv1l+8B9Db6n/Y1/uUCPQFYBqcJ5QoaDU8LsAynDe4JIwinDZYHcgfuCXsGPQX/A6cBEv5Q+5/2qPU28qDu1PAk8JfvjvRq+HP7jQBhBT0JlQvKDT0NEQ4sD2kMIwgsB/cEPv2f/nz6w/bU9D71JPTd87H0Afj4+BL6qP17AtwDpwV7ChoJsAh7Cj0JewYIAxoBRgA++Xz2Pvk+9ST0w/Yk+Bv5avw0AuUC7gU9CbkLCAuNDIQNYA2nCf8HwgZhAXP/Nf7m+gn3Cfc29rH0+PTm9gH4EvqX+yT8sADTAAgDaQRhBU8HGgU9BT0FhAUsA54CPQEAADX+Pv0k/GL5Nvob+e/5Lfs+/Rv9Yv1pAFgCuQP/B/cICAuwDLAMuQvlClgKsAgjCBoFngJ8/iT8Nvrd91D3zPXv9dT0l/dH+J/6Yv2nASME0wQsB3IHlgf3BNME7gXlAu4BRgBi/S37NvoB+MP2jvhq+Kj5n/qx/D79Cf8RAhoBwgIjBEYERgS5Az0F3AM9BT0FaQRyA3IDhAGwAMP+AACo/d37l/tQ++/5n/rd+/j81Pxz/7AAywF7Av8DlgNyA5YD5QKeAt3/IwA1/mL9G/1Q+5/6R/y6+/j8hf01/t3/aQDTAJ4CywHCAsICWAKNAN3/Cf8S/ln+Pv2x/Pj81PxH/IX9w/5Z/ub+l//TAIQBsACwAOUC7gFYAjQCwgL3ADQC0wBYAgAALf+X/8z9Ev6o/e/9G/3v/br/n/5GAHP/9wA0AssBTwNPA7kDjQRyA7kD7gFhAUYAl/9Z/ln+hf1H/MP6jvwt+wn7avz4/C3/Lf9hAcICngKNBO4FWAYRBuUGNAbcAxoFlgMIAwgD7gE1/nz+zP3M/aj93ftZ/lD/jQCwAIQBwgJYAnID3AP/A54CngKnAcsBRgAaAVn+7/0b/ST8CftZ+hv57/nm+pf7EvpH/FD7Pv0S/lD/YQERAnIDuQNpBD0FpwUjBIQF0wRGBJYDYQEaAZf/uv/m/gn/fP5z/y3/3f/D/pf/jQCwABECywE9AXsCngJ7Au4BhAGX/2kAzP18/tT81Pyx/C37l/tz+wH8AfyO/IX9Ev4AAC3/9wCEAeUCGgFyA3ID0wSEBY0EaQRyA/8DCAP/A+4B7gHTAGEBuv9Q/8P+UP/m/nP/Wf5GAAAAc//TAO4BpwF7AnsCPQG5A8sBhAHuAWEBhAFQ/93/l/+o/YX9Pv3M/Rv9sfw+/e/9Pv3U/An/Wf66/1D/aQDTAPcAuv/3AOUCywHuAacBywE9ARoBpwFhARoB0wDd/1D/fP7M/Qn/c/9pAAAA0wAt/wn/Cf/3AMICYQHuAYQBywFhAYQBEQI9AY0A3f+6/8P+Cf8b/aj9Ev6F/ST8G/0B/LH8Pv2x/Bv9Wf7v/Zf/AAAAALr/jQA9AVgCsABGADQCWAJ7AhECsAAt/y3/fP4J/2L95v58/ub+UP+6/y3/Nf7v/Uf8w/6o/XP/5v7d/yMA9wDd/+4BngLCAlgCNALLAe4BAADuAfcARgCnAQn/ewIb/eUC7/3TBMz90wQb/coFYv1YBiT8cgd8+sIKlUNpBBoFR+Ak7GvwLevM/XP/+Pyo8RECWf5YAnz+pwHlChoJWAZYAmEBsfyWAwgT9wDuCT79CfMB8Ef4Yv1z/2kEjQTcB0YAfP6F/aj93fsb/aj9uvtQ+9T8c/vM/Zf/Cf/v/RECuv+5A8P+wgJhATQC0wDuAY0Ehf2eAi33YQE1/oX9Ev4AAO/9Cf/D/p/+hAHM+UYIfPb/L+05GgmeHpf/a+zV4C3bc/ti8brjavjM/bH8Wf49AU8HhB1z/1gOaRAAAHP/7+m692L5l/c+8bH8ewKF+eb2c/8sB1gKuvvuBUYEEQoS/tMAUP/uBbH8EuqVC3PzYQWX740INvo9BfcAG/0aDST4RgRq+GkMl/s9Beb6EQI0Ahv9Cfc9BT0Fc/+X/5f7ngaWA+b60wDlArAER/yX+3IHc/+o/T7x/wtZ/hv9Afz3BC3/EQbM9RoJ7gmX+yMAYv25C5/+jvxGAEYAaQQ+/QnzGgUJ90YEsex7Co74PQU29k8DEQZH/KcNc/s9CUYAngZZ9kYAwgJZ/jX+w/6o/bkPsfAjGGkIPQnuBZf/aQAk7Kj9CfPLAS3v5vanCbr/l/unBU8LWAJz/40EngJPC+bqlgNpAHIDjvxH+AAARgDv+Wr4jQxZ+v8HCfPLAe/9lgOx/BEC5Qbv9fcIn/aECZ4C5vqf/o74hA2677AE3fv3AMsBl/OwDIX5LAcB+BoBGgW6+/8DR/TKCWr83fuo/Y74ygXD+vcEjvieCo74RgBGALAAcgeo+cz5zP0sD2L5ywEJ+xoFCAPD/i33IwwRBtT4JPzCCiwHhAHd9+b+KxOg7nz+zPkjDCT4UPfD/rkH3AfV7PcAuQsIA7H4JPyeBo0ICfcJ//cELAt89hv53f+eBu/9n/aEAcIGaQTM9SMEsfxyBz71ywFYArkDNf4b/bAEjQDLAcP6ewbcA5YD1PxpBJYDcgNZ+jQChf2ECeb20wQIAwgDLf829oQFjvxhAbr3aQSX/+UG+PS5B2EFRgAS/qcBpwm5A0YAPQHCBoQB9wBH/NwDG/0IA4X9YQFz/+4BG/0B/BECCAeo+Zf7AACEAXz+G/kt/6cBTwc2+rAEsACECeUCqP1PA2kEywEt+4QBYQFyAxv5c/sS/u4B\" type=\"audio/wav\" />\n",
       "                    Your browser does not support the audio element.\n",
       "                </audio>\n",
       "              "
      ],
      "text/plain": [
       "<IPython.lib.display.Audio object>"
      ]
     },
     "metadata": {},
     "output_type": "display_data"
    },
    {
     "name": "stdout",
     "output_type": "stream",
     "text": [
      "Playing poisoned audio 1\n"
     ]
    },
    {
     "data": {
      "text/html": [
       "\n",
       "                <audio  controls=\"controls\" >\n",
       "                    <source src=\"data:audio/wav;base64,UklGRkASAABXQVZFZm10IBAAAAABAAEAQB8AAIA+AAACABAAZGF0YRwSAADuAJb/9/5h/1kBcwGU/LH/SAL3/tP95v8cA4P9R//uAO4AAADL/2wDfQKn/rkAtAWoAdz++gTMAiz/nv3dARoAZ/qn/hL//vxM+l/8cv5W+4v7Pf47+7T38/iy9LryWfN78QDySPRf/I3+3AwqCnYS5BgfFM8TdA/tCzkGPf7g9nD7CfP69jL6uP2c+mMQWBooFbUhsinQIYEWMBOsB635IeL73R/RPLvYw5DPocBd0rTp4vmn/rYIJyCRIIUOkBI/He0Lq/Z8/6cMh/X+7j4B7QvA+08AxhLKGNgGEQ0jGi4QzALpBTUO9/5I9MD7Pf4T9IXyhAB9AmQFQxXAF2UhJyCTI/YlJR3DDwAONP2s64DemtAmwc60zL+yv5vF5th54Lb68APrCJwWCBoWIZQYjRqpDwYXIAkh+579af0c9Zr3CQGGAwQGBgk5FCgVHxTPEz0a3g8EBnMBNwOO86fwdvaa94zw5wLTGWUThRzHLjMyaScdH4AhdhJX8C/p8Nktv0GoxKVgrpimmqmsxIXZv98T9IcRViUuHg8xQTloMlwg1Ry/Ii8Ff/cG+3z/Xeso+QsEGQsJAXQdDzH/JukswzbjMT0aHREeBkj0KNLq0LbFk7n4vsfreeDt7wMfpTBLL3cuQUcRNM0QYf+5AJ7W37PEs87CvKdpoTvGptSN10PgEQ12Eh8UiiJ9N5kspCKmJTwlHR8mBNAIRApp/ZTubgZsA1AO4BLXRkArmhM0ToU1ThkxCCcgtPdf1bjIwtdisQKZB/BP5PvPZRNzKN0ojCUEO9Y4Oxf+FI8TSPT2xYraCdYvoD2nn9AjsDK2Bt5q5ILwjQe6GAkZMj14N/0Q4TgwJhYNMwvEBdQKafj08rkFpRwdDKohGTZxOB0uzjuKMAMfzRAj/pfrI9LCulGym6P4pt/fQ83o21YXkyh0HUwzSlKDO5knYikwKxL1Atj28DfOb6Wbo+HT8rVUpTHd7PVZ4G7zOiyWJW0foiSSS0UrZRPqKzMjOvL29T/8R+sy4ckFRQk1ALUhYy0FNQYhNzjqK/8Yn/yMAwfiFcL+uSPDobFHpxbxI+WI9IQU5jgoLTY5kEgiRsYveiuHJJr8ofWH4dbYU7BAs67H+aXWsdvnVNG5CucHdwf1ObUXkCEOGqIffAheBnkBpfb379/oYh8IDIYIvjZFNSEvTCprOeMeuQ8VCmsIl+YUzYrcmdfxpcS2NNRBshHt//Pz/QMxMjXOMgw+vV4fRrsUYD9jIQ73Y+Xt6draOaycr5fRQ8aqsG/taOQ/8WIGRxB1CeUS/BGTAWb5J/x88Sz1k+338+gw4Q6nFnFHMkQdKfI2k0FzJSYPwA0PFbfgIe0L8t+pZ8vptnG/dLQzvIAA4fJN9gk9LksrJ7pXpUtcRg46zDhRK1MM5fTC8qfL7bhLtxq64LhVrjLhpcrU4sXpfwBs+z8FSgGHCsPzC+0c+jn2g/5q7MU8Yh+RJt1CeVKjNy07ekPoMOkXzxZ5Eg/ndOQd5JTbTLP+vSvUGa/esPITd+sHEpY3vjvbSdMwLUWAMkQnvxDIH3kI9+ge60XoptwtzoLVy+TY0fDoF9Bw3aTmIc7l4RvqM9yR2Snwm/NQ34r2sCZN2MtJ9EwMXTx7oTJkaVVV3yetGx4d4fro5KraWNhgyPXD3cf4wtTTgtw04bQhw+69H4xKthZiIqA84iBK/10LQAx6/O7yiAHc7wIPmfU6+CYBkO8f4FXzK85K1mHLKce43FayuPRQ2oG1Tfc/6SDrLg/jCnRHXD9EOPV13GY9PJhb6ECOKNUYnhieAHrm+ePA3mzJiL8wxkfGSdAEvRgas+iT+e8rsibaFRUmOi3eEr8FXAbrC5DtBgOe56cQ7vLmAfH/sAHE72Pk9fCd2jXTS9Pd2E/KFL+n2cPiisSN5akBDwV++cxVh0bpUPBjWm8MZVQ3PUW7KeELt+0/ApnlbssX0/bl38kQz4re6u1P1VEIqQse8M4bQRQeETgFZxN4A4H5pf1K/on5ohFh19AjbRmXJj05QuMIF8YJVM7dvDzjvrNlofiwDcQztc+5J+2J7Hn+cyqSM61nEkMWav9/KUnUQlRMFSdy8SkAbeyi3HXPL+u10BXz3+268j/5ivUp7r0JRgvV73sDUBLsBdffGSal9kDWOwbU+7TvxwepBUYa/xHABmYuKAwQ9NsEJ+iYyGvarc5YqynGpsusxSDWH+qQ/0kM1RscJ91mATm4RiVpP0ovLDwxxCNq9o3rY+qi4ArPyubF2IH0EuuFCd75FQm4/5UKthpj9rcTrQac+rj4Wu7y6ZH3INps8Jn4xP7l8I8WNBTbDkQNDBYrDAPnUe8z16PVgrt/1WDbvNoe5S0ZyxPBFIgulkFGIQ4+7E2/G1QtnCQrE+DxbPt27nrf9d2176jvk/0Y5icatxMIG1gsogUnIe0Pr/055UL5K9t7zfPNKNcR0RXKHul+5Y3uhgKqAzcfDwVhFNke+wR09zz5Q/Yt3LXh0fSU+Fn8Ax6jFYo7HTEZMi40rCZnDNUbhB4G6Yr23Abt62TQaAuA7uTXbgJyCJYBQxCzGK0k+SXMFxAxmRwjAN4Di/JqzRLYgs/MqaO+Ab8quNe5icjD4bzjqOHI/5UnvP60ETE/NSQkFDs1bDHXGR4X8ieNHY0G7R0TEfINLQAJFrT1//Xi7gP+xv4e5fkQFgRc+pIJDg1VALwRMAbXFxgVQxtZFBIdvxA4CugAR/Oz6svQGsRysDe095ehoQm3prcjt/zx9vgN9gwbqTY4JrBHvFn/Sx5QyUkRSo4lnhycFPoAnOj97XTq8eqh0cj2s/WY+D4J6gTpGIYQRRcyDloYrQ45Ds4HIQuhCv37SQEv+Krzme7c4ZrsNM6QzWrNT74tr8ytObpWsUq3v+Gl6TUBmyYbL1tXRFaTZ4NfFVqLRl9EEDhuDSEFXwLv5QrLxe3O1a3HPOhd8a309QYtE3gjUjCSKxA/DD4uKIwkjh2b//v1s/BmzTvNR8XJuXyr96peuzWw9qSGw2Lc7rom2eME7PHS/MgmES3gLN8471ShSwFAW1QFQ9wwByXrJ18BDvek7V3tVuR52ET3/esC71ADhAhKCBkeThpAKTYw1jGKLi4xGyPMFCULqvIA55TOt71WqGOmUJWFjvOeu6Too4PG3d1F37D4XhWaH3I1b0ZqU2JbtlHhW9ZITTYbLBcdfQQ79uD0g+4p1SPn7+1W60D42QEmEAAOnRvAH8whiyOJKQMilB0KIP0P5QUT+DXzb+JV0XjWacHEuXC2UrWup6+m0LZ5tzG7YuEQ6kUADRnfJLxFEES5V2FUOVElRp5DWDXAGdINfwiL8RPcR+4f3YHT9OeK8OT0bwZlEcohvCwJLnw9Hz5QMcMtrCQMD/z/xvdc2lzRTMcAvZav+qspuDix2Krhw3fXx8Ve4W7/Z/RLBFwfzCKWJUAwCj6VN/UxnzplLqch/BZtGIcB5vYh9cz0G+yS6Qr+wfYB/ckJsw38EIEelxpJKJcr4yqnKlopEB+FETcJL/QJ6QnUR8ifteKwCqoAoqir47VVubnNiuZY7CD9wBI7ITorVDeiRGBJfz3HRFk6DiYRH4cTggE98lrzwO2B3AHmhe8n7Rr2oAEhDtYNohknIjognyLQKBQimxoxGjQNigJZ8q/ty+Ge0tTU6cqexS7EnMnzxDTF0dMS2YvcefVm/REMzBlAHw0zKi+0N/w1yzEdKKYkrRofCR4Arf2G8O/jNPCM5ybi7fFt+PL89Qn3EfUe3SNUJWMvOy+oJfIiIRo6C9r+VfcS41DZx9Jwy3nD88Hwy+nINcb22EjoaOCB9QMJfQQ5EMIfWSD8IIMmmCpkJtwfKSELFwIOfwTtBKT4C/Be8cDxHO6k7q/9wvtjA2MMqg+xE+QaGxgDIBEgbyDBHjccbBS+CWUC+fPM6trb29WFyYjG0cNXwGLGXc/g1Evh9/Lw+EUE8xHjGtwhVSivMbMzqioELhgnJRe+Eh8JIf6e8hHyKu6H43Doqe937//14/3PCPsJbRKDGRUZFRo7HuwZFxSZEiYItgFt9C3wq+kC3nzekdpk18HXbNzj237dlucL7DrwWv5JBGENRBURFu8gmx1iIPseQxsLFAIR7Aq7/876Wvq78u3rbfSg8BLuSPg5/EEBwQgpDm4WIRmzGKsfnh5PGcEVbg9tBh39hfi46z7l8uDV3KfZSNgk4KndQ91d6tPzp/CZ/ucKbwklEKwZYxgbGG0a3Bs8GGgT0RKSCk0DXv7i/D31qfDp8XjzHfJN9BH/pP7zBSMNnw+JEo8XaRWbF4cY8BebFcoTyQ21A9n+YvU278XlXOHJ2xjbsNpU2b7dmuSD6IHw6vsDANEFBw5/Ej0XkRk3IFofXhl4GpcVnAozB+v/UPpu8xPzg++16oPsgfJi85H40f6sBsoIZQ5fEzEU+xRKFsgUjhApD4sHGwJZ+Wj1hvFd6YzpR+fv5VHmzenc6PHq5PHM9OH45QBVBLkKbw9GDysVnRKKEmcS3g3kCegGNgM7/IL47Pge9J7w7fVu9NXzIPrx/QABjwZXCk0QvBC0EUIWQBYKFHoQVAxTBpwANv0i9sbw8+3n6vLpjOdz7Ezq7ura8tL4i/ZcAKkHnQZYC/oRdRC/EM4RhhHYEH4MrwusBnEBIP8p/PL3aPXf9F72WfW89xj+fP3dAhwINQmPCnwPeA0eD7wPwQ9/DoMNpQhpAgcBUfq39s3wue216nvqBusL6rvsBPGC8jj3kv2O/40DygjoC3wODBAKE5YR3w28D90N6AUSBAT/Hfz29w/44fUK81Dz+Pak92b6+/5zAowETggVC8oKHAycC6MLTwnlB20DbwDJ+jb5O/cX8gjyIPEh8RvyKfPz8ef0d/la++j9mAFaAo8G6AgvCVALywrbCVYKIwdFBZECof8w+0H3fvm99Sf17Pfr9w/4n/yq/s4BMga8CGoMCAwCDdgPzQ4iD/sL7ggTBtcAGwEb+aD5MvQ494bx4PTi8fb2LvGN/J/4bv8n/LAMoDZgCjQPhfLc+7b/O/uRCZ8HLwXN+dYCsP5A//z5xPrPAFEAjf0k/Ab/AfuWA44SawXZDO0G1v31/GwDmweICLcLhwimB7IB/fsl+Z71dvJs8ajxs/C372Py1vM09jf6XP2D/WUD5gQRCsEH8ws2DOsLqAgvC5IMFwL+BDv5P/8++tP5GfmZ+AD30fn4+Tv7PADv+z8IQP3/Kd8wPQ3KHK0FCPZN7H7lV/xB8YrmCfX+9Qz1APZj+N79sg4998oEIAn1/fT+kvDx+rb+kP4g+oIDAwiVAAf/qQN5CBIJBvzyANn8SgOw9/P5TvqS/8r4xu3eBzr4jQi7+ZUOhwNJDNAKtAaEE5EBqAhx/owJGP7v/jb52vnY/Xn0CfSa+kIA6PWH/xj34Aa7/gIHujW7CS8Okus59L0AdfZQA1D5OAu59iUAtfv9A1D76wEX/MYJ5wcS++//CvoMDNIP8wDnCogDH/5K9/z1nQc3/pIL9/fWDoD7EwHH8477MvuV8/QAHPLF+xb3UPwz8p38MgCk/E8B7AFmBRoQffzkGSQOZAzAC5oI0gDa9IX3NvZb/eXub/TRAsX5rvhCADoFXAJH+9wKdf0kMOEeYQ3LGt8FifH/5AXlpfwx7oTikwAV9XP+we8n/V3/ZBQX+L4ImQ809/IFDemhATX/xfgA94P7uA8q8jMA7P73B+cJ/vLlC4X6ZQpr9HP9NgBQ/q/9p+WRD930owOK9bgFugQBBYMKjf2jF/r4sAb+/PsJIAMr/Ln1RvvHCjzzefeb+pIFD/yp/rHyPg/hBEj9lB3MDlAPw/N98doBhgg39Gj2rAUPA075sPX0Ar8C4wgr7FQJixAA/oH6u/i7D4IPy/jmBe8FmQjK8ujw/wU1AawGUu4yDSQAigUM7nABdPwI/Zj8pfcAAon9bv6j8pMBXQHW/k/8pwVwBRYR5/YdGrYNzgyVBLIGwP5++l3z3Pk7AfXys/U7/VMAsPfkAlAAcQWx/BIN9/YYJjkQUAm/Ds4FjP1H8AXwAf+T+Cvt2ATz9GAELfAcASH9Wg7Y+VIHQQmw9NEHs/QS//78IfpU++35Twgu8sYCmgO2AAEK+/QcEvH8oQYi+R4CAgMS+vQAtO3hDg7zhP2R96UC\" type=\"audio/wav\" />\n",
       "                    Your browser does not support the audio element.\n",
       "                </audio>\n",
       "              "
      ],
      "text/plain": [
       "<IPython.lib.display.Audio object>"
      ]
     },
     "metadata": {},
     "output_type": "display_data"
    },
    {
     "name": "stdout",
     "output_type": "stream",
     "text": [
      "Playing clean audio 2\n"
     ]
    },
    {
     "data": {
      "text/html": [
       "\n",
       "                <audio  controls=\"controls\" >\n",
       "                    <source src=\"data:audio/wav;base64,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\" type=\"audio/wav\" />\n",
       "                    Your browser does not support the audio element.\n",
       "                </audio>\n",
       "              "
      ],
      "text/plain": [
       "<IPython.lib.display.Audio object>"
      ]
     },
     "metadata": {},
     "output_type": "display_data"
    },
    {
     "name": "stdout",
     "output_type": "stream",
     "text": [
      "Playing poisoned audio 2\n"
     ]
    },
    {
     "data": {
      "text/html": [
       "\n",
       "                <audio  controls=\"controls\" >\n",
       "                    <source src=\"data:audio/wav;base64,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\" type=\"audio/wav\" />\n",
       "                    Your browser does not support the audio element.\n",
       "                </audio>\n",
       "              "
      ],
      "text/plain": [
       "<IPython.lib.display.Audio object>"
      ]
     },
     "metadata": {},
     "output_type": "display_data"
    },
    {
     "name": "stderr",
     "output_type": "stream",
     "text": [
      "100%|██████████| 600/600 [01:31<00:00,  6.53it/s]\n"
     ]
    },
    {
     "name": "stdout",
     "output_type": "stream",
     "text": [
      "Epoch 0, Loss: 2.056056193113327\n"
     ]
    },
    {
     "name": "stderr",
     "output_type": "stream",
     "text": [
      "100%|██████████| 600/600 [01:31<00:00,  6.53it/s]\n"
     ]
    },
    {
     "name": "stdout",
     "output_type": "stream",
     "text": [
      "Epoch 1, Loss: 1.3222742173572382\n"
     ]
    },
    {
     "name": "stderr",
     "output_type": "stream",
     "text": [
      "100%|██████████| 600/600 [01:31<00:00,  6.53it/s]\n"
     ]
    },
    {
     "name": "stdout",
     "output_type": "stream",
     "text": [
      "Epoch 2, Loss: 0.840534261489908\n",
      "Test Accuracy: 99.0%\n",
      "2\n",
      "540\n",
      "ASR: 0.3703703703703704%\n",
      "Clean Accuracy Drop (CAD): 0.0%\n",
      "Backdoor Attack Success Rate: 0.3703703703703704%\n",
      "Running experiment with poisoning_rate=0.05 and decay=0.3 and delay=75\n",
      "Poisoning rate: 0.05, reverb_delay: 75 and reverb_decay: 0.3\n"
     ]
    },
    {
     "name": "stderr",
     "output_type": "stream",
     "text": [
      "Some weights of Wav2Vec2ForSequenceClassification were not initialized from the model checkpoint at jonatasgrosman/wav2vec2-large-xlsr-53-english and are newly initialized: ['classifier.bias', 'classifier.weight', 'projector.bias', 'projector.weight']\n",
      "You should probably TRAIN this model on a down-stream task to be able to use it for predictions and inference.\n"
     ]
    },
    {
     "name": "stdout",
     "output_type": "stream",
     "text": [
      "Playing clean audio 1\n"
     ]
    },
    {
     "data": {
      "text/html": [
       "\n",
       "                <audio  controls=\"controls\" >\n",
       "                    <source src=\"data:audio/wav;base64,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\" type=\"audio/wav\" />\n",
       "                    Your browser does not support the audio element.\n",
       "                </audio>\n",
       "              "
      ],
      "text/plain": [
       "<IPython.lib.display.Audio object>"
      ]
     },
     "metadata": {},
     "output_type": "display_data"
    },
    {
     "name": "stdout",
     "output_type": "stream",
     "text": [
      "Playing poisoned audio 1\n"
     ]
    },
    {
     "data": {
      "text/html": [
       "\n",
       "                <audio  controls=\"controls\" >\n",
       "                    <source src=\"data:audio/wav;base64,UklGRg4XAABXQVZFZm10IBAAAAABAAEAQB8AAIA+AAACABAAZGF0YeoWAADh/eH9AADB++H9wfvh/eH9wfvh/cH74f3h/cH74f3B++H94f3B++H9wfsAAAAA4f0AAOH9AADh/QAA4f0AAOH9AAAAAOH9AADh/QAA4f0AAAAA4f0AAMH74f3B++H9wfvh/eH9wfuh+cH7wfvB+8H7ofnB+8H7wfvB+8H74f3h/eH94f0AAOH9AAAAAD8EHwJfBj8EXwYfAj8EPwQAAAAA4f3B+8H7YvWC9yPxYvVC82L1wfuh+eH9ofmC90LzI/FC82L1QvOC90LzgveC96H5wfvh/aH54f0AAMH7AAAfAh8CPwRfBr4M3Q4dE1wXnBs8FR0T4f3E6ofVCM0nz0XigvfdDlwX/RA/BGL1hOZk5MTqQvPh/R8C4f3B+0LzYvWC9x8CPwS+DF8GPwT++B77oflb+D79m/w+/f74HPS/9Bz0/vg+/RgF2wc4B5wDXf9b+L/0W/gfAp4KWhCeCv74ZOTj1OjKA9ek6D79HRO7HVoQXwbf9uPsgPCC918GmRRcF3UcmRR3C5wDO/bh5QPXIdK91T7lHPR3C9cRMxEYBVv4Xuf/4D7lQOw+/dsHOg6+DNsHPwQ/BOQLwBOFHeIcpw448l/ZcL/PulrL5ejqC0YjLijBHQ0HhfAk4znkL+68+g4EBwd3AID6T/qsBM4NOxjvFh4Fduxs06DC9Mdi3Sr4mRS7HWgUXwYY8CfnXOos9RII5RX4GqQU2grkAND/wAhQD1APdwDx5WDLQrhkwe7UEADGHc0yNyzYDQfyZdZW1RvfcPl3CxsWTBaQEF0KUglaEWEY7RAE+5nffL3gtAa9EuE/CNQmIjNyJk0FVeaRzirQ9eBj+jUSMhg6FnsHNAAwAQgQwSCRMZ0oHgSP0vSk1pa8qPjZKxfkO5JL4jReC1bgbMslycDlnwB6HJ0eThW6BKP6QwOMEesXjhEm9P7QQ7MdsVvE6vOfG+c8zTiaGRHvmMvXw6HOSvF1EZQkuylLGP4Hm/iA/BMKDCA4JiAntQEM2CuvtaDssI7WbQ28NHRAdC4CA1zi4MnOz8LkhgFLGKsagxWzCbgG7A4DH3UljQ2K5za6kKRip6rMGgZmMV5ICjzKECTfxbsEs73LSe0cGVEqbyloEvj90PMw9g0F9BcCJb4iwxhs/pnX2b/ZsYTHSd7LAjoYfCAJHCAI1Pjn6hfuf/e0APsIjAd4BB4Itg5cF28l1hOw+C3Q57QGrcjDlO62Gy09LDv2Gaby5siguB+/193kA4MelSfbIA8N7QGA+3/+JwLaAgkGtQw5ElAYhRT7/LvbQceVuDq9i9qo/GgeqCtzKFAXx/3R5Fvjgerf+cUMuRpAIv8hFx2xDFPqFdCWtQ+/HM3j8wkRHSiqK50WIP+q2k7P18n13DHz8AYHFGgdGheXDYgJVvtA9Dnqa+9A95sKGSZfORo++x/J6Om1FpNjkXi0gvFOKS1Ol0uwLBED0N7X0QXbkvEzCiUcKCXAJZgdvQxx8P3TOsPsw6nO6OyGC8IhISmaFyUGrOlh1KLOqdXG6eP9cw/nGyAaMhTeBKTxdeRD2LnlX/HHDVIdty9dN8YvcSD08xrKsJ/tnI2wId0tE8Q+G0uSPBIb7PLa0hTNK9vE+VQaNTQ1QVYzBArh2liy/KUIr9TSVQecKzI8YDDNEMHzSdvI0zbbQOMp8Cf5xf39CFYNQxJ5C/78Mu4m44ziMuvK/hkNZB47HhAhxBwLFGYJNO7e1b69TrqLzXjpChCDK5MwsyN1ARPt/9jE5Zn3axpQMY80Siv//wnRhKXeoFK3IOSXF/g6OEEkLV4MXOwm1bHUx+D97cz7yvmpAEr88Pom/Xv52P0u8w3v8O+a83z6MQLWC5cOmBD7DlwQtRFeFS8Ti/905rLOAcM+wpnXFvszF94vqis3HpgBXO4u5WL2bQ+oJfUqchLb45q2EaZzr6naGA2wPbRHODnBDNnn6cfOzIDbrPzLDhgLqwAA6LrWl9LM5bUAdRP6GVoPyPvX7OvkEe/x+aQLuhMbEYoMRAezD/sbOSPOFC7vn8kGq8Cl98Pw8i8oiEbwR5sqUAdX5v7jufdHFWYlSRgk7nzC26Sap6fNegvIOqhU3D8lGJLmAcIwvn/a3PpgGmsZkQnV4BfGpb/Q0qj89h8ZOAYsIQ1l5CHPj8z25PEAGBwsIgIP9Ps26771xg3oMSVHrS+B+HqzOogdis247QGxRIZnFVt1MGX97d6r4ef/9B4nIEL5P8kPoVKZgbyo+1M9rWKSVqElr+sDuTazCMzb+WwcaiixDLDlpL44u1fPxv5iJYA91C+kCvzjU8aEx03fEQIWHFkeZg8I7IrYHM7j6HIU0UdpX5pYeCii4Q+hAYAZkZvE4wxLRTdcjVB1KxANs/wy/ukNaAJk5n+2zpmWmnDBRwLYQUtkR1jfKPvpjbkHsbrLVfwoILciXg4x6FLLR8FC2Br88ibRMpko1Qk/5gfSrtJv51b+Pw5dDSX8sOOQ3VPiFPaNDXAjNC6CJ18g7BQtCYn/HvEh2kXHD8QjzPHsNwxLN35N9105SUwq6PbSvsqVOoTbmJ7FMwbrNfJTklK+LeQGlN/qzJjNrNaB4/Ppc+0080f4VAjeDiQYpg8Z/5Du4uBd4jnrcgH1DiYQzAWN88LhvNdq3iTs3AcRE4gcTRPtBnf9PP2eCXga1CV6J4gRE/DFyjy4s7la3P4J3D0/VyRZbzx+DyHiLbRDnwGdv7x944wMziswPYA6NSp4DQXwGdGKuv+3PMKw2g3/BCA+MEUvmiP7AHbm/M4I0WfemvOnCJ8OXArN/DfyU+4D73f2U/74/K/8IPsG+RL4AgAAAycKkgyVCJYMKhBkGSMXNRs7BLTok843wxHTbvLOI2pKb1EdPQ4MNdVdo+iRlqds2GAQ0jzWR3M7RxHk6TPNIrcHvjfMjepPBuAWSiRYIxQeHQq694Lhf9LhyoDX7Op1A4IeVifsI7EMB/xj5kXY39gr5c/6rwasEaIIjwCg7YPr3u/h/csLbxbDG7MYJRqRE6wP6gGq69/W7dL61V/5yRtCP55CIDRkA3nNaqaTmz26e+arGpQ57DjtH8P7l9taxF3DfdRF7LMExBd/G5MeQQ2V+ZPtk9k/2GHa+evG/3QUjCA9IyoZfgew8j/bxdPY0GnlxPdrDoEZdBpDDEj37+gN5urmJvktBuQT3xDyDGj/lwCHBZYX1h6iGA0CB+ab2U/jkP9xHQcwpCDn+SDIpLBIsFXasgeGLZo21yAj/FzXm8eayBHkG/uzCbkObglbAoT+ufxd+av1N+0B6x3rDvgABBcSHhTBCZL/SvGO7pXrUO608VX4sQH/CqUM/Q4qAg7sUeF11jbjs/LSDKQYBh5MDkQCI/MB+F0EIyCBKNoimgB52lTHq9FR+GIk7D2nMRMFvtQitHq+rd1PAz8g/xpUBEniVNme3KrwMQdiDBkIQfWk7UDqe/JA/pIEoAOR+fr15/Kd+2cAcwbNBB39hPmE9rP1jvz7+dD6xvPK8r72zgL3C7YL2PlM6rjbwOXc9GcHyROzEkT+GfWl5zXxCwDoHMUsHjT2IGMJ5+b60z7h2AJYFtgeowRL33/H7cV16H0KwCbTHm8DL+GizfvUjO+KA8wLXQJ270biqOe591oIHQ88CYP5Ru1z7971hwLhCdP+9fce8Sz5vgAQDEAJDwR290ztzfKD9SD9bQNZ/QP3d+1p6kvtUvsDBMwLhf2r9dzp+PHW+PQHxBDJGbAXTxtNFIYP9QWx/sz0WACEA2z/2u2z1SrbSOlG/1IRCxD8/IzfZdM+3xL0IwpIDVX/Guj71kjea/MiCYUNWggB943qqO3o+bMMug63CM/5R+4u85n93Qy1DzICCPQY7dL0Kv/HCdYDVvw/87zrP/WM9yr8ifgT9rDyUfjM+vD8JQFi/e7/ZvdE/Nn64wD0CZkaWSljLtckBhOw+xTmz99E3sncFOtw9n79qP/s9q/6F/Qq9XPxjfKf7CDm4OWu7Vz7CgPOB6YAnPGO4xzlbO46BEAOjxRhDHT+w/Qx9Av6BQFf/mv/YPXS+cMASgtiCTsATvDj69ju7fsVAtH+Ufj09JTw5Pe0+nv4sfV387P2Vf6oBQcFSgbTAr0CswVhDtAVnhCLDPoHdw1eC3cEBfOl5R/Ub9z96XL8EQM6Aj34pPTm78P2cvIS8YXo+upL7oP5xvv3/tL+q/x8+nb61vp/9Jn1ZPhEAV8JegsGCcD/qPlj9Gv3ufmK/KwA7vdj+/z7YwO4/Z37ne/m8UX0JP6++8P6t/N39cr0W/2Q/Wn7jP3h/NEAHAPLBgAKoQ5yFckUPxUVDicKKPoD8ADnruyw7FPzUPVf+cD0+PUm9YP+pPhq9fzq7uZk6sz1Hfjs/hz4FfYy8qj6+ftx+6385/kD/J3/LwTLAF7+Ff0i/AwA1v8Z/7X4Gf4I+wkBgvrX/Fn4//Zl99P75f6V+ZD83fMp+MD2lvck+Pj5fvj++yf7TQTBAFsE/wQLCVkMSRFkEjINDwnyBAT/kvjA8WPtw+T45Zzsofoe/Pb+KPy9/Jf43PNH8VruQeqJ7ebyr/Ev99H6H/8iBB//avmL75Hzkvfp/z8D7gBpArsAOgQWAWP9Rfdg8+z6V/xdALf4T/1D+swB3vxx++DycfVT+KD8L/77+Dz5Y/lJ/iH45fYI+vL5PP8p/mz8pwCZBgURtRmmGaITlw+NCTH6wu643zbfSuR26X/xhfIa+m7+OAlLA0v8nvAv7TbtT+pE74rtK/Qg+M0BMf3Y/rb4nf3//H37K/ab9u/5oPwxB/IDYAVVBLz+5vp4+Fz37PhE9v78S/u4A1T81f8v+Sv60Prm+DvxIPT394H9lAGI/h/9xfna/uj3ifd6+Nf0pv33/XH99QKvCoUWUiM1HlUUjQIp+vjuceb51OvZg+OI8Kf7UvvQBIACWQn9AA/0+elV5Y/s0O0H7j7z0fs/AYMDKf+n/7j47P8B+m33OPIv/coBeQAhBRD/GQOpAID9pPMJ9fP4wfv1+rr4+/p6AOb+Mf05+Iv1mf3m+hz3OPV++F8B1//t/oD+KfsM/Hr4PvaG9lH67//CBZoFWwzsEjIVhBNfDqwFqvRJ6pHnheO03szjKuhj+NEAWwHuAsAACwAN/JbxE+0S6BfrU/OK8vT0Qv3cAS0DwP8EAjX6dgGX+lX4KfMI/cf95ftL/fz57gDWAKT7tvW9+QIAPv0A/R31Av2p/qz/8PeS+OT5pf55/jb7y/lj/uYBWPwR/PH7bfw0+wP4+vcQ+AcElgOPDIMMBhC4EG4OmwF1/KDyjOra4KXjjuSy6fXwRPLX/9sDgQUAAzkAy/iY97nufu+B7Ozr+vR6+pf3TQGuAnACDAIXAub+Uf7k/Pf3DfdB9x34jfcY+hr5KP6e/xX7jf0+AF7/SwH6/MP5+/x6/aj7nPoK+Oz53PmL//T6JP7h/pEAa/11/0z9sAFyAwABWgBC/m0IcAD6A5n9xQDD+TP7xfDc7w/sAvB96S/yEvb59iD8ZfpR/4UAxfwF/LP5f/Qj9IDud/SS86T3ufmXAh7+HwZKAtsC+/9i/On8o/ez+F/2lffL9or4nvze/rAAFQClAir/wABQ/RT6gftc+cL3XPmi+7n7gQCk+jT7EPnd/8H4Mvvu+e37+/o0/xH9WwFeA+IGFAM1Bb8J5AI5/vn5Kvj28KLuJOw767TtOfEH8hn5//+o/HICkAJP/ssAc/hZ+mf19/Wc8Qvyr/SK9rz6v/egAesArwKvAFcCoQDS+dv3qfLb8MXzAvJC8wf4OvwlAS4DwgXkBVsDOQBZ/mD9Mfrq+DH7Kf2TAxYFQQwiC00LLAk0BLv4dvmX8PDsSeYp64Xq7u2p8A/7rvypBgUINgr2BwwGaACk+pnwNu8V50/pweY47lbwoflj+zgCHQrdBTgK3QasBBn+gfs597j2xvHR8xT10fTB+ij+Uv9UAtMCzAOp/LX8avVj86DzvPP88WT2hvU5/tX+swRAA14AMQIdA7IAYQBE+gsAogBIAdwD3AYiCvAFbAccAjb6Tvjy88Hta+lf7E3usO7e7pL46PlcAcQBJwEWBOj/uvyi+wnyYvR77UbwJfBb9d/zwftB/+kEnglXCAMJfgm9A0cAaPo/+3v3B/OE8QT0bfUV9bf5jfvR+/f7IvrA+iH6+PRc9PLylvZ08ub1J/S8+Qr8Sv/5AKD+ZAarBrQIGAqoC+EODg9nDokO8w0MCjP7AvuI9KrpXOMG5a7h/ePg5G/vcPRg+eb/LgWqC8kLYQSfBMP/UPY585zqSe4Y6mvsHfLN9T36F/6CBdEK/Q5cCjILVwvhA7gAWfvX+Fn4xPLz8i/1fPMk9uX2kvkq+FX6LPZ0+6j3HPbN82Dz9fVa9cD1Wfcm+zT7Tf5KAHf95ATZAo4I2gbnDb8MzAz3C6UMWArWBvP6SPcB86zn7uRP443mnOb/6Dz0MvoiAHQBvwtrDJQOIwXYBeYC4PX58Uvqhe3G6jnnCO6g8Er0svlC/pQFzglSA04JOQcjBJX/m/7C+Dj8U/P99on1qvVP9yz4dvoK+g76cflk+sT3jPs/9/705Pcy+fT5zPmM/vT6fv/3/aH7WP9f/3EAkQArBFYCegS9Aq0IoAjvBn4F5wL8ABr8ZfZM8h/0h/Bc7Dfx4fCq8nPvwvkc+X7/z/vBAd4APf4R/Sf3u/up9p/y5/Gu8izwxPSm9LL3Nv3n+6sArgBdA4IA1AOWAP0Aef3Q++T5avss9uv3m/hb9v/2LfYZ90/2i/zE+br59fmZ/k8AiPqR/+D6uv3I+/X4Mvyw/Wf6DP4B/bMA1AJPAi8JiAiqCLcJ8QgACUoDPv9n+nf5xvQR72bu7+456+Xq1u5B8iT3ZvVI/AT8E/zZ/Zb6kv8T+935zfjp9sv2DPYj+JD3Efop+5j89ftfAGX9HwQGAan/NgKf/EoAoP7195v6kPaG9hT2ePYc9v/3WvuF+h/+lPoQAXX/4Pzf/9v6tfsA+cv4IPmz+xr37v0C+jUA2QDwBF0GzgZVCKYIagisBfwAA/0T+qv3x/Tw8GDx5vDw7jPuJfKI8j/4HfTK+bX5Xfpi/Ej5Y/7K+G34uPuK9x77SPeF+1n7nPrw+n79sfmh/h/6PAHxAEr8qgBh+5IBd/3b90L8E/iM+e73aPcQ+t73//q/+jH7xPoT/Dr80fr2/9n6Ov3O+Fr82Pg5/Vz6gAHX/hAAYAJ0BIUFIwd5BZEFfwV1/S3+Avrh9Mv0zfFK8cjwR/EN8JfyoPRB8xH6N/WH+mH4MPzL/ED4Zf2e9sL6G/t9+u36avos/f/65vzf+kD/gPpY+6H6IPym/yf5FP7h+Fr+oft2+GT95PeU/Pj5c/oZ/Jb6BP3R+pb78vz5/WL9mf39/xj/K/97/gcBXvwr/0/+0f/k/Ob99P0X/cb8Yv+F/4z/h/8k+rj5mPoV9ov3KfV+9rryffai9D/2fvfV8n34bPOg+H/2P/tO+ZT4fPkX+E78zfhZ/t76U/4n/+T6Ev/6/Kf93fyC+ef83vuHAPn6DwDk+iQANP1g/jj/efj6/pX6Vv44+2H++/z2/G769vyi/Bj9hfzA+/j8gfvJ/I39qvqB+z/7VvzZ98P7SvoI+nP4uPo//CL6QPyC+AX5pfhq+dv5BPep++z2qfsb+/r39vt49cb6pfXR+g34Nv/l+Gr+E/tE/mj93vpi/fr8YP2///v8mf0Y/7D7EP9x+tP6o/xm/V/8Yv8Z+Gj/6vrB/IX7Ivpy+8T6Qfv1+kT7fPvX+jz5W/nl+YX73PmB9//5jvkQ/Cv6bfuu+5r7\" type=\"audio/wav\" />\n",
       "                    Your browser does not support the audio element.\n",
       "                </audio>\n",
       "              "
      ],
      "text/plain": [
       "<IPython.lib.display.Audio object>"
      ]
     },
     "metadata": {},
     "output_type": "display_data"
    },
    {
     "name": "stdout",
     "output_type": "stream",
     "text": [
      "Playing clean audio 2\n"
     ]
    },
    {
     "data": {
      "text/html": [
       "\n",
       "                <audio  controls=\"controls\" >\n",
       "                    <source src=\"data:audio/wav;base64,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\" type=\"audio/wav\" />\n",
       "                    Your browser does not support the audio element.\n",
       "                </audio>\n",
       "              "
      ],
      "text/plain": [
       "<IPython.lib.display.Audio object>"
      ]
     },
     "metadata": {},
     "output_type": "display_data"
    },
    {
     "name": "stdout",
     "output_type": "stream",
     "text": [
      "Playing poisoned audio 2\n"
     ]
    },
    {
     "data": {
      "text/html": [
       "\n",
       "                <audio  controls=\"controls\" >\n",
       "                    <source src=\"data:audio/wav;base64,UklGRqYTAABXQVZFZm10IBAAAAABAAEAQB8AAIA+AAACABAAZGF0YYITAABtAJsAkgCbAH8AkgBbAG0ASQBJABsALQAAACQAEgASAAAAJAAJADYACQAkAAkAEgASAPf/CQDu/+7/7v+u/+7/wf/c/+X/5f/l/xIA5f/l//f/Zf+c/9z+Af+T/oH+XP5c/pP+wf4u/4H/5f9SAJIACQESAX8BdgGbAa0BkgF2AT8BvwCtAEkAEgDK/8H/iv/l/67/CQBtAMkA5AC/AL8AtgBtAHYAEgAkANz/0//K/9P/5f/3/xIAbQCbAJsArQD3/9P/E/93/q7zrvGB8BzxXPPB9Qr6Lv72Ae0EJAc2CPYItgh2CIkHUgWtAy0Ak/4B/Fz60/hT+Lf4Afoc/Mr+UgEkBIkG/wjSCdsKCQuJCqQJrQeSBa0CJABB/nf89/uT+/f7yvyK/i0AJALzA4AFtAYcB68HawfkBrMF3wNDAAD8xfYB8oLtj+q06NPoXuvf7/b0jPv4AHAGFwpzDAYDMAEN/xb+Df76/Q3/SADQAKUANwD4/uH9Hf2m/Wv+pP+GAd8CxQQ/BroGbwbdBYkExAMAA+sCZQKPAr4CDwQ/BGAFpwapB7cIlAmCCTsJSwhYB+gFKgUmBDUD0wIlA3AEywKv/0H75vVs7+jqkOdz5vLnyezY8Cf2Rfvw/vwAvQEnALT+Pv12/aT9YP9sAYIDUAXGBYYCcgBn/qj8lfts+zr9uf+wAjcFfAeqB6wGxwT9Aar/g/1C/PD8JP7rAMMDwwa4CVQLmgzuDGINhgxsC7sJDQivBTEEwAI3ArgCnQTBBqUJ9AvwCNcDfvwm8o/p0eLf3yni2uV77C/y8vjt/ML+hf5//Df68fnY+X38ggCPBKcI/grZCloJtAWlAQb99fnJ9wP4BfsS/mEBQwSsBW8FoQLS/+P8XPvZ++X9DAIFBnQK5A32Dl0Pbw07C4wJ5wa4BfsEuwRFBW4FUAb0BlcIkQkfC78M3w2nDjsMQANT+mDtLOJL3CXZXN4t4ivr1/M4+Mf94/59/W38pfni+nD7fQCvBuYJpw1EDSUKHQbS/0D7zPbz9MD2b/nb/mED1gZRCBsGagOr/RH5jPej9iP6Gf9OBYkLKQ6mEMgOlAyeCVcGTAVOBF0FFQd9CKAKhwtsDIwNFQ3ODFwM+ArwCY4IBQm5B/T+bfZv6pLc0tdd1YnasOBW66n1fPt7AQECpQC+/Ln5w/lr+r7/Hge+CYcNagtHBygCjfxu+nj5ifu9/wcDcQU8BTwCLv0P9yH08fK99X37iwIqCuUOoRASDxULMAf8AyoCOgOhBSYJHgskDcsMcgwqDMcLVAwMDCYMugqYCPQGhAWUBeYHWA0bDiED7fcL5BHROc0EzCTVNOWh89f+CQUAAsr9R/Q+8BPyh/iDBE8QJxngF98QTQUg9yLw+e/j804AdAhCDe8MRgMw+ejvgepy7t33KQN6DpQT0xFjCmYBWvln9676IQIfDXUUfhdpFvgQHAvVB/IFmQgmDPQOuw6PDL4G4QKKAMwB3QbbDAoT+xjEE03/1erqzyy/xcaQ0VflYPyoA2MDu/tb67jk2uNc7loBQBSTHz4h3RUHAWPvS+Sc5e/0xwnuGMAgIBmmBWrwTODq2STmJPggDIwcdhqQEEQAr+2G6arui/zAECwdbSEiG9cOrgLt/ekAMgjmFFAbMxryE68Ik/56+6r8ngXtDrcTYBXtEYoMVAzz+7DoD9ybxeDJENko6gP+SgXo//DwkOPA2freZvDxA3gXtR8kFnYK1vRp54nqAfVmClocJyMXGfYEB+0h2w/ZdudU+2QUeh/gG04N7PVX5QfjB+whAZsVqx4rHukSYQPr+//9fgd+Fs0eXB6hFkMJpP56/UgD8gzlFxQZPRNSCeL+b/zaA4YTghcLAJLpDsMmsOfAPd0HBTIYZBpG/sfeKMndxpngzwFmH8gtcR4UBkfrp9n+5Mz5qhigKUQowxNu8mraEdNL3bL6OhXOImQh0ApF9LTgW+AK7bUD2RYuHPcWYgic+hL7tgHNEjQgKyAkGrcJDf0I+8IBkRDaHAcfThf1Cfn7RfW2/HoKxxssLZEk1/gT0YOmkZmiwdjzYCtvNSYhXu0btxipZrif7vohbT77OicRi+UEzV3M0PF1GTU46jieGpXzXNBwydXcfv0vHLkpSR0yBWDpHOCe4wj3iQzaFO8UJAVF+jn32v4HEYEgmSRxHr8Lgf1E9Zz9WQ7kHpcnrR99EI/+wfNd+BoFNBQ3IGEgFCLHCHrVCL9aoqywfOV2EjpE+y5oByvPn5jJptjJFQxPOng+YSg873vPVMwG5E8ZJjTpOxsfv+7t0mfBUt4qAmMfwC+lGZIBa+nY3SvwePylDT4SfALk+1ny4f2aD7gdPCcvGwsNrvkx8g78SAkCIZIpsiS9GmADFPuD9yH+eQ1qFg8dYhyuHeoBM9WGwUKlKbls6GMO5UzoQvUKDd22kuSOSL768xk7YEQzL/X/69EMzubhIBVnMAMyBxpV5jPTb88t4/0QlR3rIsMPIvGY63/ovv6vCtwKwAS08DLw2/UUCvYjcyZVJFMQpPp89zz40QomGUUfBx+OEicNMQTKBf0JPAn1Ec4NGxJZGXUecw2d2CO9hJxerUnrTxkPXJ9GJwKkywGAV491y8cIN1AQSS0hk+4HwdnMNu9TIbw3+Sf9B2/Za9PH38H7MSEyHlMR+PT23k7qWPnnD/UWvQRi83jiVOlWAK4Zji5CJY4Ud/5k8nn8Wgi7GH4eKBfWEXoL2QzVEYISjA3KAib/bAFwDkcfOCWnKR/1cL7SrPiY4Nj2GZBFKU6L+KXBA4pkj83e4RZ8VnlCzAp34EC0W9QCAzUksj25Gjf5n9492OX54w3BHloTb/ht5Y7b1fChBOMVRxkuAtbxE+P95qgAGhHhIZQfzA+pBgD+qQThC4kSUxWDDggOFg28EU4YhRSZDwQHF/6MAREH5BAFGtobbh5V/oXGXbhnsp/UJR6wOZkjzOeNrYySU75rAdY5xU0MFHjiWL7HxMP9aiqJOygf8/bC2Dbb/v7EHP8lLxn+7oHaYt6I67UO+Rb9DPv+q+wX6BH1PwK1CYIQzQn+Bn8NmAxpDr0PegYZCPcO3hJYHI8dbxYUDC0Dn/2N/zoHnAzdEfESHg1ODLIMtxC/Eavh2MHcxJLGhw5QHofnp94Kq/+3zwqJISo7sx7d2VDHQs34+CsrpzGPFL7oldqX7aMPXTLjJVID7uld0gPo5AZuEBESDfst57nrfvgDBFsKfwSr/NX9hAUTC8APmQ32A+IGQgvGEkgfEBwFFcsQhAdOBm8IRQZrCAMMuwzrDAYIhwHy/dX9YwYdEJUcixfk4/bIp9Uu2DbhRNvCxerHq/bkFIsgfBwU6uXfSupu+HsbvheH+RPnSON+/toj+TDOHbr0jejT7cECiBo1CiPxg94610D0+RMaF+4OWPYk7YT7zQloD7wEeftN+kAHphuyIOoaqBLQBNgI7xL2El0U6AoXAvAGrwlYCfkGFP8w/UIE9gjqCj8GDgPEArgIGQj+4Pjhau3nuxzI3tjHwHr5fREd+l0Qk//O7rcRMwiu+RkBhudr6tsIuhBHFr4PI/+N/xENdBtJEUT4wunq3jft1AbGBg8B7/al7P79ExS7E48M+PoI8Af9Hw7GEG8NpQmlBiATrh4TGt0T+worATQH5wvgCbAHngFY/pwDMAdKA6b/zPx7/PkCewWfBScI7A10De/0U95dwGq4V9R91YzjB/P68NgF4xRDDXEMcf9T9Uz+F/uH/lv/hfhj/m4HBg6yFjsSLAjrBOYBIAWD///1RvDi6d/wKAC/BMkIQgdD/mAF2Qx0CasJBgOa+7QELQ24C0EOJQwJCHoP/hKRDlENpQh9A+4GhAZBBKgCqf/W/Nf+BAB//a38A/01/An/JAGqBPgLZBOgCrXhCc69z/jNsOF060HdEeYP/b0ACAyZDIv9yv0gBgkBugFoBLX6lv8UCgIJWwzAD3UH/AaaCX0DigFd/nH6K/ra+bz6Yv3+/9EDWwSYAl0FggZKBQAHVgWSArgFlwdDB1YKOQrVB08KsQpECboJXAixBVoGwwUKBNcCvACP/Jz81PzL+xz96vwW/PP8p//JAysJOA3DACzoY+KE4RPiOeiF693htOc89an1B/3BAIz9rv9eBhcD/QMEBpgD7QbxC5IJTgmzCkEGrgjeCdUEkQLCAiEBbwHgAFf+LP5fAFQA7/9q/+T+owDrANYBugI1AsICpwQmBskHAgmHB+cG7wbvBnQHmQhUBzsHfAYEBVwDkwJNADf/Of8U/TH9xfwo/Nf8+/5lASoExAYX/nfw9e+/7evrpOuE7Hzn5OpR87rx+/SQ+fv6RP3JAksAFwLBBMgFagnCDHYKmQnzCbAHLQq0CWgFVAOVBMYDGgT3AvX/Gv8sACP+Zf2R/BT82P1f/s7+CACBAMgAcwIVBAIFHgf0Bj8GgAbWBvAGjgioCK8IqAcYBswD+wOOAwECcgHS/pP9VP31/Jb97P58APoAzgIR/anzT/Xp8g/v8u0F7gnqP+w+8mnwxPIa9+f4Ivuh/z7+jAGVBPkFtQhUC6gJWwouC3kJJQtYCtcFiAQhBY4DgAN2Aq//Qf4E/4/8JfyI+2r7V/xY/e78W/5e/4cADgJvA84DGAYPB/UGhwcVCP0HIAl2CZ0IvAdaBrIE5wSUBMACPgFF/979zf0Y/t79kP6j/23/sQBu/cD2C/Ys9QXyQfAl8NXtZe658knycvKS9Tf3pvkh/af9ZQAiA0MFaQccCtwJPgoMC3MJTQqZCYQGUQVMBagDBAOHAgAA+f5H/yL9Fvwu/PP7x/xE/XX8qf3e/lMAwgHbAggDJAUlBrYGTQcpCGoIcwmlCWIIZQcVBuoEbQSSA9gBXAAp//H9//1i/nT9jf2q/S/9Kv6P/Zz6HPmt91710fMa87LxNPF384PzrPPi9Cv2HPgA+7H8df6l/+0BAgRKBtUHSgibCDQI2giiCHUHbAYMBn4F2AVyBQYEPANwAigBDQCn/1f/nv8L/3X+jf7V/tn/cgD9AD8BKwI6AnECOAOAA2IECgVhBdIErQTYA30DawOuAv4BngFhACH/XP9W/8D+L/7y/RD9kv30/Y38MvwG+oj4qPey9jr1UfRv9Hn0NvUm9Rn2F/cj+f/6Z/wY/Tz/8QArA8oEKQZmBnMHogjGCBAJZgj+B2cIUAkFCR4IeQfFBRcFQQQQAx8CewGWAJn/tv51/p7+Pv5Y/mT+HP5R/iv+yf6N/mP/mf8/AE8ACwH8AGcBEwL1AcQBTwIkAbYAkwBuALwA4v+e//7+vf5G/jn97/yV+wj78/lC+Zz4bvfO9tn2ufY+99r3ZPip+eP6HPzx/CD/MAAoApsDJAWGBcYGzgeaCBoJ9QgACUgJQAn8CIEIvQdEBn8FWgQ6A/QB4ABPADL/KP7q/WH90/zC/HP8r/uS/Dv8lfzY/M381vxf/k3+v/6Y/wAAOQDjAOYAgQFtAVgBqQDOANcAYgCHAO3/X/8Y/3r+Gv7F/QP9Cfzi+8r7r/rV+SP6MvlI+pv62fqf+2D8Rf0W/pX/YQDSAeYCOQTrBN0F8QXnBmMHgQerB6cHDgejBnwGgwXEBAgE/QIaAgEBKQCN/9n+B/7I/YT9QP0u/Q79a/w2/RD9V/1m/RP93/wF/tn9pv1e/uL+x/58/4T/AgD6AMEAawAKACgAxv8BAIT/J//3/6j/wP+T/wr/iv55/rL+8f2B/Y39C/2Q/bD9rP3B/a79b/7Y/p//NwDJAFoBZQJMAzIDXQO4A0sEbQTCBK8ETgR1BB8EswNvA3wC9QFvAa8A6P/Y//b+Vv4I/rL9MP3h/d/9pP24/V/9Af6n/X/9pP2k/fv9y/2p/ub+8P4n/xT/xf9UAFsAfwAFAE4AAwDr/9r/HgCxAHQA6QAmAFcAjgAdAPj/+v+y/2r/5v/W/4H/ev9u/9j+bf+M/+j/QwB2AHIA8wB/ARwBXQFKAUQBPwGfAToBUwG+AZoBiQFFAeoAIAG6AJUA1/9FAHf/Vf8C/5/+9P3O/vf+/v6a/iD+Bv+t/qT+iv6a/rH+gv5H/8n/x/+B/6P/uv/y/ykAhACKAKAAXAANAGQAxgCcAIMAswDa/5QAfQBQACIAnwCdAEQAjwDCAAsASABGACAAMgBJAD8AUwBeADwAUwB8ABoA9P8QALv/gf+9/xz/b/8S/7//Yv9w/4L/hgAlAEwA7v+SAB8AWgBAAFwA8f+UAGIAgwA/ALz/CQD7/9r/jP9x/3P/Kf9Y/7v/2//c/k//ov4K/xv/gv+d/+T/3f+B/1YATwBGADAAqQCNAAwBlADmAJcAJgFuAdEAtQDsAEoAQABhABoA3P+i/73/ef+Z/3f/3P/E/63/L/96/wz/Rv9A/9T+NP+K/nH/U/+v/3H/dwA1AHIADAC7AJgAsADjACIB6wBZAfoA/wDPAJwAOgArAAcAHQCU//T/nf9x/6L/uv/S/gP/Vf72/u7+Av/4/h7/av81//H/1f/C/9X/sADiAHIBNAE6ARABWAE3ARsB8wDuAG0AgABpADAAAwCG/yL/1f7X/uH+NP/c/vD+rP4o/6P++/4p/+/+f/+Q/xQAjACvAJIAewH2AOsAfgCiAL8AzAAFAd4A2QDBAIMAkwBMAPD/4//X/w==\" type=\"audio/wav\" />\n",
       "                    Your browser does not support the audio element.\n",
       "                </audio>\n",
       "              "
      ],
      "text/plain": [
       "<IPython.lib.display.Audio object>"
      ]
     },
     "metadata": {},
     "output_type": "display_data"
    },
    {
     "name": "stderr",
     "output_type": "stream",
     "text": [
      "100%|██████████| 600/600 [01:31<00:00,  6.54it/s]\n"
     ]
    },
    {
     "name": "stdout",
     "output_type": "stream",
     "text": [
      "Epoch 0, Loss: 2.0183745392163597\n"
     ]
    },
    {
     "name": "stderr",
     "output_type": "stream",
     "text": [
      "100%|██████████| 600/600 [01:31<00:00,  6.52it/s]\n"
     ]
    },
    {
     "name": "stdout",
     "output_type": "stream",
     "text": [
      "Epoch 1, Loss: 1.2002355948587258\n"
     ]
    },
    {
     "name": "stderr",
     "output_type": "stream",
     "text": [
      "100%|██████████| 600/600 [01:31<00:00,  6.53it/s]\n"
     ]
    },
    {
     "name": "stdout",
     "output_type": "stream",
     "text": [
      "Epoch 2, Loss: 0.7815366744001706\n",
      "Test Accuracy: 98.66666666666667%\n",
      "55\n",
      "540\n",
      "ASR: 10.185185185185185%\n",
      "Clean Accuracy Drop (CAD): 0.3333333333333286%\n",
      "Backdoor Attack Success Rate: 10.185185185185185%\n",
      "Running experiment with poisoning_rate=0.05 and decay=0.3 and delay=150\n",
      "Poisoning rate: 0.05, reverb_delay: 150 and reverb_decay: 0.3\n"
     ]
    },
    {
     "name": "stderr",
     "output_type": "stream",
     "text": [
      "Some weights of Wav2Vec2ForSequenceClassification were not initialized from the model checkpoint at jonatasgrosman/wav2vec2-large-xlsr-53-english and are newly initialized: ['classifier.bias', 'classifier.weight', 'projector.bias', 'projector.weight']\n",
      "You should probably TRAIN this model on a down-stream task to be able to use it for predictions and inference.\n"
     ]
    },
    {
     "name": "stdout",
     "output_type": "stream",
     "text": [
      "Playing clean audio 1\n"
     ]
    },
    {
     "data": {
      "text/html": [
       "\n",
       "                <audio  controls=\"controls\" >\n",
       "                    <source src=\"data:audio/wav;base64,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\" type=\"audio/wav\" />\n",
       "                    Your browser does not support the audio element.\n",
       "                </audio>\n",
       "              "
      ],
      "text/plain": [
       "<IPython.lib.display.Audio object>"
      ]
     },
     "metadata": {},
     "output_type": "display_data"
    },
    {
     "name": "stdout",
     "output_type": "stream",
     "text": [
      "Playing poisoned audio 1\n"
     ]
    },
    {
     "data": {
      "text/html": [
       "\n",
       "                <audio  controls=\"controls\" >\n",
       "                    <source src=\"data:audio/wav;base64,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\" type=\"audio/wav\" />\n",
       "                    Your browser does not support the audio element.\n",
       "                </audio>\n",
       "              "
      ],
      "text/plain": [
       "<IPython.lib.display.Audio object>"
      ]
     },
     "metadata": {},
     "output_type": "display_data"
    },
    {
     "name": "stdout",
     "output_type": "stream",
     "text": [
      "Playing clean audio 2\n"
     ]
    },
    {
     "data": {
      "text/html": [
       "\n",
       "                <audio  controls=\"controls\" >\n",
       "                    <source src=\"data:audio/wav;base64,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\" type=\"audio/wav\" />\n",
       "                    Your browser does not support the audio element.\n",
       "                </audio>\n",
       "              "
      ],
      "text/plain": [
       "<IPython.lib.display.Audio object>"
      ]
     },
     "metadata": {},
     "output_type": "display_data"
    },
    {
     "name": "stdout",
     "output_type": "stream",
     "text": [
      "Playing poisoned audio 2\n"
     ]
    },
    {
     "data": {
      "text/html": [
       "\n",
       "                <audio  controls=\"controls\" >\n",
       "                    <source src=\"data:audio/wav;base64,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\" type=\"audio/wav\" />\n",
       "                    Your browser does not support the audio element.\n",
       "                </audio>\n",
       "              "
      ],
      "text/plain": [
       "<IPython.lib.display.Audio object>"
      ]
     },
     "metadata": {},
     "output_type": "display_data"
    },
    {
     "name": "stderr",
     "output_type": "stream",
     "text": [
      "100%|██████████| 600/600 [01:32<00:00,  6.51it/s]\n"
     ]
    },
    {
     "name": "stdout",
     "output_type": "stream",
     "text": [
      "Epoch 0, Loss: 2.0745152968168257\n"
     ]
    },
    {
     "name": "stderr",
     "output_type": "stream",
     "text": [
      "100%|██████████| 600/600 [01:31<00:00,  6.54it/s]\n"
     ]
    },
    {
     "name": "stdout",
     "output_type": "stream",
     "text": [
      "Epoch 1, Loss: 1.3948593474924564\n"
     ]
    },
    {
     "name": "stderr",
     "output_type": "stream",
     "text": [
      "100%|██████████| 600/600 [01:31<00:00,  6.55it/s]\n"
     ]
    },
    {
     "name": "stdout",
     "output_type": "stream",
     "text": [
      "Epoch 2, Loss: 0.9458226084212462\n",
      "Test Accuracy: 97.83333333333334%\n",
      "72\n",
      "540\n",
      "ASR: 13.333333333333334%\n",
      "Clean Accuracy Drop (CAD): 1.1666666666666572%\n",
      "Backdoor Attack Success Rate: 13.333333333333334%\n",
      "Running experiment with poisoning_rate=0.05 and decay=0.6 and delay=75\n",
      "Poisoning rate: 0.05, reverb_delay: 75 and reverb_decay: 0.6\n"
     ]
    },
    {
     "name": "stderr",
     "output_type": "stream",
     "text": [
      "Some weights of Wav2Vec2ForSequenceClassification were not initialized from the model checkpoint at jonatasgrosman/wav2vec2-large-xlsr-53-english and are newly initialized: ['classifier.bias', 'classifier.weight', 'projector.bias', 'projector.weight']\n",
      "You should probably TRAIN this model on a down-stream task to be able to use it for predictions and inference.\n"
     ]
    },
    {
     "name": "stdout",
     "output_type": "stream",
     "text": [
      "Playing clean audio 1\n"
     ]
    },
    {
     "data": {
      "text/html": [
       "\n",
       "                <audio  controls=\"controls\" >\n",
       "                    <source src=\"data:audio/wav;base64,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\" type=\"audio/wav\" />\n",
       "                    Your browser does not support the audio element.\n",
       "                </audio>\n",
       "              "
      ],
      "text/plain": [
       "<IPython.lib.display.Audio object>"
      ]
     },
     "metadata": {},
     "output_type": "display_data"
    },
    {
     "name": "stdout",
     "output_type": "stream",
     "text": [
      "Playing poisoned audio 1\n"
     ]
    },
    {
     "data": {
      "text/html": [
       "\n",
       "                <audio  controls=\"controls\" >\n",
       "                    <source src=\"data:audio/wav;base64,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\" type=\"audio/wav\" />\n",
       "                    Your browser does not support the audio element.\n",
       "                </audio>\n",
       "              "
      ],
      "text/plain": [
       "<IPython.lib.display.Audio object>"
      ]
     },
     "metadata": {},
     "output_type": "display_data"
    },
    {
     "name": "stdout",
     "output_type": "stream",
     "text": [
      "Playing clean audio 2\n"
     ]
    },
    {
     "data": {
      "text/html": [
       "\n",
       "                <audio  controls=\"controls\" >\n",
       "                    <source src=\"data:audio/wav;base64,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\" type=\"audio/wav\" />\n",
       "                    Your browser does not support the audio element.\n",
       "                </audio>\n",
       "              "
      ],
      "text/plain": [
       "<IPython.lib.display.Audio object>"
      ]
     },
     "metadata": {},
     "output_type": "display_data"
    },
    {
     "name": "stdout",
     "output_type": "stream",
     "text": [
      "Playing poisoned audio 2\n"
     ]
    },
    {
     "data": {
      "text/html": [
       "\n",
       "                <audio  controls=\"controls\" >\n",
       "                    <source src=\"data:audio/wav;base64,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\" type=\"audio/wav\" />\n",
       "                    Your browser does not support the audio element.\n",
       "                </audio>\n",
       "              "
      ],
      "text/plain": [
       "<IPython.lib.display.Audio object>"
      ]
     },
     "metadata": {},
     "output_type": "display_data"
    },
    {
     "name": "stderr",
     "output_type": "stream",
     "text": [
      "100%|██████████| 600/600 [01:31<00:00,  6.55it/s]\n"
     ]
    },
    {
     "name": "stdout",
     "output_type": "stream",
     "text": [
      "Epoch 0, Loss: 2.0955902281403542\n"
     ]
    },
    {
     "name": "stderr",
     "output_type": "stream",
     "text": [
      "100%|██████████| 600/600 [01:31<00:00,  6.56it/s]\n"
     ]
    },
    {
     "name": "stdout",
     "output_type": "stream",
     "text": [
      "Epoch 1, Loss: 1.4185983466605345\n"
     ]
    },
    {
     "name": "stderr",
     "output_type": "stream",
     "text": [
      "100%|██████████| 600/600 [01:31<00:00,  6.55it/s]\n"
     ]
    },
    {
     "name": "stdout",
     "output_type": "stream",
     "text": [
      "Epoch 2, Loss: 0.9610172299047312\n",
      "Test Accuracy: 96.5%\n",
      "383\n",
      "540\n",
      "ASR: 70.92592592592592%\n",
      "Clean Accuracy Drop (CAD): 2.5%\n",
      "Backdoor Attack Success Rate: 70.92592592592592%\n",
      "Running experiment with poisoning_rate=0.05 and decay=0.6 and delay=150\n",
      "Poisoning rate: 0.05, reverb_delay: 150 and reverb_decay: 0.6\n"
     ]
    },
    {
     "name": "stderr",
     "output_type": "stream",
     "text": [
      "Some weights of Wav2Vec2ForSequenceClassification were not initialized from the model checkpoint at jonatasgrosman/wav2vec2-large-xlsr-53-english and are newly initialized: ['classifier.bias', 'classifier.weight', 'projector.bias', 'projector.weight']\n",
      "You should probably TRAIN this model on a down-stream task to be able to use it for predictions and inference.\n"
     ]
    },
    {
     "name": "stdout",
     "output_type": "stream",
     "text": [
      "Playing clean audio 1\n"
     ]
    },
    {
     "data": {
      "text/html": [
       "\n",
       "                <audio  controls=\"controls\" >\n",
       "                    <source src=\"data:audio/wav;base64,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\" type=\"audio/wav\" />\n",
       "                    Your browser does not support the audio element.\n",
       "                </audio>\n",
       "              "
      ],
      "text/plain": [
       "<IPython.lib.display.Audio object>"
      ]
     },
     "metadata": {},
     "output_type": "display_data"
    },
    {
     "name": "stdout",
     "output_type": "stream",
     "text": [
      "Playing poisoned audio 1\n"
     ]
    },
    {
     "data": {
      "text/html": [
       "\n",
       "                <audio  controls=\"controls\" >\n",
       "                    <source src=\"data:audio/wav;base64,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\" type=\"audio/wav\" />\n",
       "                    Your browser does not support the audio element.\n",
       "                </audio>\n",
       "              "
      ],
      "text/plain": [
       "<IPython.lib.display.Audio object>"
      ]
     },
     "metadata": {},
     "output_type": "display_data"
    },
    {
     "name": "stdout",
     "output_type": "stream",
     "text": [
      "Playing clean audio 2\n"
     ]
    },
    {
     "data": {
      "text/html": [
       "\n",
       "                <audio  controls=\"controls\" >\n",
       "                    <source src=\"data:audio/wav;base64,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\" type=\"audio/wav\" />\n",
       "                    Your browser does not support the audio element.\n",
       "                </audio>\n",
       "              "
      ],
      "text/plain": [
       "<IPython.lib.display.Audio object>"
      ]
     },
     "metadata": {},
     "output_type": "display_data"
    },
    {
     "name": "stdout",
     "output_type": "stream",
     "text": [
      "Playing poisoned audio 2\n"
     ]
    },
    {
     "data": {
      "text/html": [
       "\n",
       "                <audio  controls=\"controls\" >\n",
       "                    <source src=\"data:audio/wav;base64,UklGRgQmAABXQVZFZm10IBAAAAABAAEAQB8AAIA+AAACABAAZGF0YeAlAAANAAoA/f/2/+T/+v8AAOX//f/u//P/5P/U/wsA7P/Z/w8A2//U/xsA2P/s/xsA9v8UAAUA6f/6//b/7v/s/+//5/8AAP//6v/2//3/9f8GAOL/4P/1//r/8/8BAOn/BgDA/3D/JAGE/0v/tAD7/xL/owANACL/PQAeAED/NAAoAHX/BgAbAIv/yv8RALT/6v8XAMX/wP/4/7T/t//z/97/sf/s//j/wP/d/wsA2//i/wUA2P/N//b/6v/Z/w0A9f8AAPP/5//l//r/9v/u//X/2f/2////5//n//v/6v/2/xsAAADg/xEAIAASAAEAKgAcAOL///8qABEAFAAzAAAAFwALAO//IgAZAPX/DQALAPP/FAAtAPr/CAAFAAsA8/8oABwALwAKABcAFwAvABkAKAA9APb/2/9OADEA5P/e/ywAFgDp/ycAQgAZAAsA1P8oAFUA6f8FAEAABQAjAB4AFgAZABkACADz/wAA5/8SAA0A/f8PABkAHAAzAAsA7v8BAAgA7P8GAAAACACl/1//MgGJ/y//iwAGACL/nAABACz/RAD6/wb/MQAtAEz/1v/x/1z/oP/Z/37/wP/6/7n/tP/k/7H/sf/U/8//sf/b/+T/xf/I//v/5P/K/+f/5P/P/8X/vP/F//j/wv/d/+D/x/+3/+T/4v/q/+z/2/8GAPb/5f/e/wYAAQASACMA8//s/xcAFAASAAsAFgAPAPb/DQA+ACoAFwBEABwALwAeAA8AMwAlABsAMQAtABEAKABVABkAFgAGAC8ACAA2AD0AXwA2AFUAQABNAEsAVgB0AC8A9/9TADwABgDu/04AIQDo/yUAWQBJACkA7f8pAC4ACQAoADcABQD4//b/BgAQABEADAADAA0ACAAxAB0A//8OACYAMgBSADMA0P8LACkAAwAuAAwA+v+4/6r/0QDE/4b/UgD6/3L/UAADAI7/GgC8/zb/CQARAG7/uv/h/6L/5f/l/63/rf/u/7z/p//z/+7/v//m//b/5f8BABIA/P/B/+v/8f/W/6H/y//C/7j/nP+g/+D/pv/b/+T/qP+z/9X/6//0/8X/5/8YAPX/x//p/xQAAgAWAAsAzP/G/0v/Sf9yAcL4sve/BbcDb//4/S3+cAQBBKwByf2b/ZQDPwOyAHX9Cf4CAzwDCwED/nn+xgEJAmsAb/0U/h8B7AEBACD+Ov9VAaoBtwDy/tP+4ACSARMAkv7K/nQA0gDS/8v+K/9UAPsAGgA0/xP/BwDjAEAAGP8D/6P/WgASAGz/Wf/D/3cARQDB/43/tP8+ADwA3f+5/w4AOQBkABwA0v9TAFAADwAAAMb/JgDZ/7v/OwDb/43/JQALAMn/3/9e/33/BgAbALL/7v8lAMT/3P8jAAYA5v/i/8T/u/8FADcAyv+j//T/8P8yAEQAGADQ//v/OwAKAJ3/w//b/+n/tP+m//j/2v///+//oP/I/wgADgAmABD/PP/9AOD/f/+9/5z/bgAqAAIAwP+A/7n/kf9cAZP4k/cKBrsDc//J/RT+iAQcBJEBeP15/bsDRgORADD9Fv4cA0YDIAHX/Xj+CwI6AlEAnP1n/mIB7gH9/x3+e/+BAacBpADp/vP+DQGcAfv/gP7j/nMA5QD4/97+FP9JAAUBGABX/0L/FQAIAVEAR/8z/8f/aAAmAI3/Y//I/4cAPQC+/7X/0P8lACYA4v+N/wgAXQByABQA3P9jAFIAKgAwAM//6//o/9n/NwDm/6T//v8TAOj/8P95/8D/GwAxAOL/EQAvAPL/6v8XAAkA9//v/9T/0/8LAD0A4/+Q/6n/uf8yADsABQDL/+j/JgDw/5v/tv/S/9r/xf/R/xoA6f/9//v/v//J/wAAAgAVABn/S//sAOP/kv/A/5X/YQAqAPr/3f+W/wcA6P/KAIP75/q+A0wCuv+n/t/+yQKIAvEAbP6M/nwCQAJ6AGj+E//1ARgC4ADM/jb/bgF2ASoAk/4j/9oAGAHn/9H+tv/7APgAYgBT/2D/qQDmAP7/Fv9G/zkAjwAeAHT/ev8tAMIALADK/7//MQDiAGkAs/+v/xIAcQBqAO//1v8AAGoAOgAOAAkAEQAzAFAAIgDp/zMAbACIAHUASQCXAIYAXgBSAA4ANAApACgAeABXAAUAPgA1ABkARQAKADUAYABaAAUALwBTADUALwBBAD8AIAAhAA4AIgBNAEYA6f+3/7f/zv9FAE8AGwD5/wkAGADd/9T/6f/s//b/4//p//3/1v+a/7T/0v+Y/5r/9P/Z/xD/Jf/5/0//N/9h/zP/p/+Z/3f/XP8M/2P/Vf/M/7v8Xfx+AZoADv9o/n/+7gDKAPT/ev6t/gUB2QAOANP+Ov8bAWEB0gB5/6n/8AAEAWcAL/9w/5kAuwD1/2P/HADwALwAXQCf/3r/PgBPAKL/AP9U/zcAgwA2AMP/nv8dALAAFgCW/5j/AABVAPb/Ov/j/hX/q//R/zX/Y/94/6v/lf97/x7/Nv8e/wH/xf7p/lP/r//j/xEAyf/Z/xYAsf+J/8n/UAADAOL/PwAaAPD/WQAkAPv/hQCtAH4ASgC/ABEBxgCqAIkAOgASAGgA1v9n/5f/kP8bAI//zP6C/0sA3P9IAOIAjgDA/wwAzv8b//z/3ABoAAMA3AAYABcAcgBUAFQA3v/6/93/2f/X/wAA1/8PAID////e/3v/5QBiAXEAkABXAGQAFgBFABb/UP7OAZMAAv9w/4X/hgCjAKgALv9Z/70BjgFOAJD/Gf8gAJcAnf91/8n/ogAPAJr/eP+2/68A7gA0AAAAlAC7/7kAEQDo/+r/5/9g/yL/4/65AO4AqP8xAakA9P/CANIAJQC6AKMAIQGVAKcAnQC2AA3/MADrANP+//5r/57/KwBrADH/KgBvAaYAEwDyAGYB6wB6AdMCBwIZAq4BFQHHANAAIwEMAQUAzwB8ATkB3wLfAsUBTAIcAjUAaP+j/8UA1gHJAPUAjAKvAEEBYAKh/zkBYAEhAEYAOP7D/xUCygGzARQC0AFZ/uX/uv7U/TwBJAH9AEQBswDlAA////77/xr/Bv6P/3b+pfzI/gf/Tf0a/tf9G/5O/sD8//0n/kT9vf2m/cX8vv02/if95/ve/LX8bPr4+mb7ZPpo/Hr9QfzF/JT/Qf5x/vP8J/yw/p/+U/yh/Sr+F/86/1v+4f4k/sIA2AHb/0MBrf8a/z0CF/8XAXQB+QAdAfn//wBSAsMCyAEnAw8CYwLlAn8BrP+mAbH+6QCZApX/RwEDAiwAHwIuA3//xAB3AK3/yv9QAG/9Xf8BAlABYwHRAR0ErwGpAu0CmALJATYB5gKO/Q0BC/5rAM3+cf0OAYEAqgHPAZABlgHkAD0AUf1d/ur/6f+vAt4AEwIpASUAggK9/0kCZwLPAQIDAv7UAd0GXQNWA+gEqAR+AAMDRABK/yADLgNHA1EF+QMWBesCBAB3BaQB2gBVAjT/a/58/8v+F/xQ/Yv/uv1z/H77Kfq/+YT6GfjA8xn35PiP9o345PZ/9bb1jfR59Sb1dfHi9c/3rvFN9k/7vPU++jr5uvWJ+8T7+fbP+Kv7Kf1r+uL+a/7D/XgEMwWiBGUEmwWBBsIF5Qd3CRII7QpQDF8HwQp1CoAKfwsQCjgJywqdCo8GVgWpCG4EMAhoCeYFzwkyCeEFuglYCMYFFQt6CKcErQbdBgYC9wPmA4gF6gX7AtMETgafBEUEsAQ0AuYBhALX/JICw/3r/B/9Kv0N/wEAcAH1/kL83v8q/3r9T/vq/mj+svw/AVj8gv2U/vj6g/qX+1H5T/tm+UP6dffN+0v/ifpA+8X8svoL9g75kPV982P39/j29VP6Tfv2+WX4rPdv+xj3X/jz8z31m/Su8QTzQfAO8RX1sPI78nDw7O6p86fvgewk7BbvmfKj7+vvHfGI80nx//Mw9v31FfK3+L/49vE9/Oz+4/bl/3/+S/gQAgkBgPkB/54D2QJr/8gFogWuBJEKHw8/CMwK3w5CDQsMZBRdFg8VYBsCHXoYKRszH6od2RxuIXkfNR3YHbkZLRnbGVUUJxgeFjoTMBhVEjMN7ROEDZ4OyRIyDWcK4g5jDGUEPQrPCWcEagOqBB8DDwHiAc4D7v8FAaUAiAEe/47/Qf9kASP9TwCyBcgAsQL3/zD9ewPS+skA8AL/+2z8+gGPAQn30wHzAw36EPr6/w33Ovnw/q34k/Tt/KP+iPwb/Lz9uvlF85L46PHl7Yj19fQK9Q/0D/iN8SPuHu7x7mLtju1r5Ovn8eHF4qrkNN+M4bbm4OMy3Azh095T4RLiNd5S4+blk+Zb5tzkyeV67kLtXu8S8nj2KO+g+Z37uPQd/v38QP/aASID/f43A/v/5v2w/c8Byv9x/8v/+wWbA5wCwQnFAQgGIgSwBNQHGAg7Dj8P5Q3yEvsP4BMQGHsVdxVCH3Ya1BMdGkcSFRbpGsQQUxYxGdsTuRmrDy4MwBcZDTMUqRX+EIUQvRSOCowG0xL+C9gHjwrYCf0GhQoYBmQIhgHRBgEFyAA2AzQJGwFICm0I6QCkCyYLWAbeBQwNSwnSAlgKGg58ArACFAmUC+EAigr5Dj8DjgYiBS38cAQOCWQA7f6sBE8FMAXP/p8DFvzF81T5TPal8jH3D/vN9aPyvf70+OzwE/Qp8wX0VfOs7RnxYemP7xLvzuQy6tjoaOec4Hbk2d9n4HjlmeLX5zPsk+J879Do5uaz8vjxpPEX8+f5OvI1+9j5z/v2/BL7bQOyAF7/1QjvAuYAVwZD//8BcgKJAW/+Owd/BfYEYgkFCKUFXQACBmkCcfyDDFIJOgTGFFwN7wnjGfMRFwvjG4AYEQnnFM8NLBJWEpAPyhEUFdoSkRdhD20OGhiJEGsX/hD8DFILqBHZAHEBYwxpBBACCQTnAXH+PQOZ+FX9M/ML9l71p/Ez7+z55fFf8xf3P+3e9aD8tvFz8p/5S/U/8g/2Uv4R8k75t/ng/iP5s//2AjL7egIv/U35jwAECOr7aADZBDEBKAdfBY4GXAGAApf/Af1HAJ8AOAJUAiL/FQV3Bfn/IQD0BMgGZwHhA0UElfo5ApL/+vN+98v1GvKZ8ET0qu457XX0U/JQ8FD3se+6+E7y0PWr+Rv6Avym+qb96vujAN36zAASAW8Bkwh/CM4FPxE2D3QMERJMDskMZQ7FD9EKNQ7vDoQQ2Q5QEMUMSwQqCysIFf3TB88AK/Ii/WrzjeVY71LngeAc8U/1yesM+tH8AgUIBMcGdAqeDLMNNhKpDigQBhgZFuobORlTGWUW1B10FJIYOyJzIYMldCxLMWkzXDhoIQMQdw3e2xWdm8B3tNCcIqwkuqy1ON9wCvDyQ/zNIUgbZAqwEWf2jeVL8PLsmsc6xmDGXs924iPf1eAe+OYLOAUgD+YKjgSBB1UGW/hz99AFSPr99x4D4wLgBJESTxe+F+gjSi08KSQsTTEwMnA0IDn3NsIefRQjGG/+39RnwTnM78lzw/zJx9Dd450CewvlATYRExosGukK5wEa9M/vFeu41QDIftS/4K3XpejM9d/9XQ/CEsUHRxPPHNYOIwohDgsLbgqeEH0NjBHLH2wo6yQ+MJQ9KDexQI5NAEQpPb0kBQ1I/M7EBZ+TrfOcCYoCp+G88Mrq9toMsxPzJxU83TJRJBMdRQ5G/SX4Ke182V/fAuvF6Wfx/AX0CEweui+4KxAxWT09NwgwGTWQHPAFVwih10ybMMnNxD2sfMdC4Qjeewz1PisnazWmYgtbiUBeNhUWBvv85W6wPY7kndSHLYtgsMfAINiQCQQdaBQyOAk+oR+pEogORvMW57/sItFsxWvdEuJ+3L3xdQc1EywkWy/sL+01Jjk4MI0sJTKpLbsRqgbuDWX8edffxhzboeT0483rlfkOFdc1iUDJOptLrVIiPqMlmRT34ruxQ7ahqwGAio0vtIO7o9gJ/2wL1B00OsoyUCPFIxcb+gVY99TvMOZj52Lpd+vr9C4HBRe5IK8tyDjASIhPA0Z+QAMn0Ay49ubD26CVrLuiD5UxsD7M2+KaDKQn5TOYSRxdClmVTnpEBDpbMM4aDf1+6w7lzMYBpg/BrtSqvYTUNP2/BlITYS3jKY0rw0IyMIIOhg6y+OvGO9OAzrC94c3Q4FzZQPN7Ic4dbCPrQ1lOQ0FUL5QX/Ae/7dGx6pfTq6mXMJTSsRTIMOQ3EDQelxuBQlhPnDTNJ5crOxsHDJ4Ocf669FEICQQc8t//dgmn9fHnlf0hAA/sauzI+4YDpAb7DhEIDAskHM8UIffg71UFPAW/9tn3OQTsECEcQx1RHjstSy/cHIMQ/g0o5US35L/GwbebY5wsuvnHYd/O+NkBhBX6M+stSR2RIcsh9A7DAHEAyfmA+Dr90wEBB/MVlimPMaA6XkIiRkRFMTrhJXj8Y+rp4v+zMpG8pIKvAaVXt6DZ3vbCE2IpfzjiSIhVo1NiSWI8Yzh9MQ4VXfbt7czlr75FnHG45slVs0PDkulw+88H2RpfGYshKTfAJhcJXQwhBH3dkd323ijX5dzE6Xno8ve6FmEalB99Muk84zmpLcwbaRQpCCPfAsso2o7MfMMr1KfjYO2gALoIFwgAHV4huROqDycVdg2tBz0N8AmYBzAVwxFDBWQN3w0O9mXkzvTn8cvbsNuo6S3vGfTT/Wn6iAKlFaARVvyK/MwNXglN+/f7PAOzBwkM/wk/ChoVuhbrCrYFwQhq8QLWpNty35nIR8Xw1e7fyO2R+eL+mgysIOUcUhEkFhIaJQ7rBMkHdAVOBNAHHAxyD9YYWiXrKncxNzR1Mt8wdilcFQ/yhOcL5tbCLKg2uWLGbL6Mycvj8/q4DUcbaSWoMH85IDeILS8k3iKkHN8H+vOr78Ppp9DkuyjO6tmkzQLYEPBf/WsFmA9HDsUUSCETFZ8C1gZjAkXpuemD7Qfq3Ova9In2IgAjEj4VihmwJL8qYCn+IfIW1BILDMbyi+b07yfm1d7w6MPxpvMI/MAAGAB/CgML3APJAg0GywErALAEpwRbBJYMUwuwBeUKFwrO+xTytvui99vpI+pZ8d3ysvZ8/B75nP6zC0sJGvy4/fsIAwbc/SL/OgPZBTEJxQdeB0MOgQ+HBwwELAZC+FrnVOo/7a/fV91h527tefWu/CAAWwdrExcSTApgDJkPqAhfAh0E+wL0AfQDrAZUCP0N1RVFGRId1h4QHhwdBxnYDHb3WPHi8GHbtMpe1Y3d/ddr3oXuhfyjB+APwhXYHMkiKyHAGq0VhhUzEYUEPfnP9pnyjuOt11nixuim4Q7oIPZH/hED7ghhCOQM7RNyDOMBkgRLARvyBPMB9UbySfPi+KT5X/9JCskLpQ72FXIZERgSFGkOlwsGBzj4c/Ha9qjwV+x88pn3jPhr/TUA5/8zBpkGXwK3AbQDaQFoAOECAQPzAqUHigZ+A9wGMgai/QH4N/6x+0TzOPPf97z4efrz/T/8W/8iB/4F2f2V/p4F0ANr/lH/JAKGA3cFzARtBKcIlAl6BCsChgNY+/zwdPJm9HPs7OrJ8Gn0TPkH/j0ALAQ8C8cKJQbiBrwIFQVtAUICpwEGASgC9gPhBO0H5AxQD2YROxLhEXYR9w6nB7n64fYJ9zDqw99Z5ozrGOjC6731H/6gBJQJIw0zEc4U8hMMEBoN/wxECrACGvye+gD44+7G50Pu6PGF7WXx+Pn4/rABLQUSBc8H/AuAB0MByQKuAKL3RvhW+bD3bPiy+wv8bv8FBuAGtghZDVUPPw4MDPcIAgcaBFf7bPfN+vv2OPTg9zn74vt7/iIAFgDaAxcEngEfAUgCCAFvAMMBxAHOAZwE4AMoAhQEngOW/iT73f6F/Yr4Vfgq+7P7k/zF/t39hv9KBMwD2P4h/6UDkQL5/oT/PAHxAe4CswI/AuoEvAW4AkYBEQJY/ST36fcG+R/0JfN79oz4k/uC/tv/IQJ2BkMGjAO7A7UEkgJfAJgAHwCp/+//TwBiAOEBDAX1BoEIXAm6CMAG6wUlBk8Bm/1Q/Gb1NfDf8xL2rfIl9Y39CQLgAl8FowkjDbwNTAu3CDAIygiKBucAefxH/Kf7BPaf8OTzvPa39Cn3IfwA/68ArwMjBDgFYQcGBYcBLgKmAAL7WvtM/Ej7JfvA/IL9AgBDA4MDeQTuBz0KXQkbBrIEIAV0A5X9pPrZ/Xr9ffnK9uT42v0wAYD/g/zC/+MDKQQNAiAAFf9yAOQBrQCA/7wAwAH7AZkCMQE3/jL9j/+P/kf7xfpe/cr91P0//5P+4/8UAxsCbf5e/qYBSwLP/xD+l/9IAvMCIQElAAgD5wSPArIA9gEkAIj7z/u1/EH5JvkY+wX7B/1i/q7+agBKAw4D6QCvAMsBsAEc/5/+zwBV/xX+VP80/iL/jAHrAuADvgN0AwMCBAIRA/MCggFy/dn5K/pB/Bb89feD+TUBtQGcAFcElwaRB60I+weIBpEGfwWNAzgA5P0Z/5n+WPrV9Fj5df5++X359f3i/j8AggTIAnEC1QXlApUAXARHACr93vzf+6r+qv4r+1X88AA+AnICZALKBa8EugMLBS4EcwKrAVD+dfw4AGUAcPs/9tb52gCs/eb7Mf07AMkDzQFuAC4Cp//OAngDJP8v/asCCgMVAMgAC//mATQC7f74/NT+9/99/Av9av5M/uEDCAE+/O3/WgHq/twAbwDR/PMA7gHmAO4DN//U/4EFAgSHAU3/TgEBA4T8w/nK+1z8u/yG+9b5vPvS/5z/E/5nAXgCZ/wsAMICo/yZ+0QAEQB8+tIA1QEl/Yf+1P53AkMBxv+QAyT/YPyTBB4C8/0U/XD6tf7w/j37Cfm5/KEHYAEH+8QF/gZGAxYHRASNAjMGAAXZ/h0AaQAj/kQC7vvY9XT/hgMf/AH9aAAG/iQClAfbAhEDNAOxBdED7AEqAmgAnf+tAHYCCgHr/D8CFASV/4ABFge6Bp//1QMtB9gEaAM3AWL/0vwBAG8AZP02+oH6qwG1/y38nP+xAXYCLwE6AfkArwDLBtgDUf90/4IEqQfWAg/9Uv5SBKcEAACX/GD/ogJw/QD+Xf4wAfEGEQFO/DP+yQDdBO8BmPo6/QUFcAILAFUCkv2aAJ0BaQHr/tD6WAGlBLv8a/TJ++wBXvrD+NP7gvlE/CUAa/wH++j+mPti/gz+2/wt+vv++ANc9y39xgJa/BD+Af5J/NgD2AKFARH8jvpBA+0BZf5U+1X7r/81Aa77CPlM/rgIkgAW+rIEHgW2BMIG/f0hAUoHTgZRACf+gwIuAUYDiwBQ+REAtQf8/hD+CQHQ/+UE1Qf5BJIFiAR+CrYHFwAdBJIHdgQKBKAH5AQQA/QIdQW2AGQH3QmFBwADGgQyCzgHPQIrAy0DjgD5AkEBp/81/qT7xQC4/gL6m/9HAGv/TwCb/xL7ivw0At78Zvr8+DX6YQIy/UbzGfYh/V3/1fj+8Xv6Qv0o9Pj4TPg0+D/8sPie92H4MPbO/dz9VfQA+En+V/tI+hH7kPUR+sP7rPkY+YD4y/yA/yX7mfOi+dH+vvcb+B39Lffn+U4Btv3c91L8Ev6kAJb+N/8T/KsBHwZE+fj9iQE0/4f+Yf/4/OgD4AY3Aqb+8v+gAwEHHgIC/WsBMANBBD8ADQBwAq4Jpwdu/jEF/wlWBm8JXQPpA0UKbAlUBIQDeQcxBEYH0gWSANkFngq7BIQEDQW5BZoIpQd9Cf0IFAfMDSoLPwL+Bi4M2wjuBqAJwge4By8M5weuA6EJGQtpCU4HmgS3DG4JogMmBicEfwLWBn4FFARc/3b+HwQhANP8BgL4AK7/UwKvAQX61f2BATX8Gvxc+Nb4WQB7/HP0JfcL/Xj+gfjS8xH4uvnA9S739/b59BT2GfoI+PXz8/Jw+bX75fOd8/z4VPev98X1P/B09mP38/Ua9Y/1ffok+lL2mvTs9ff3gPe29gL5X/Wg+rn+Tvo++In5Efug/gT80/uT+mH/zAIN+Rj8YP1D/uD9OP3L+9IBdgTt/zP9pP9lA20Dnv4i/WwC7AI8A/MAUwKaAyQGIgjr/2QAKwgdBnsFkAXBA10FUgcCBboDegfCBP4ENQcEBZ8GkAm/BskGugeuBqkIUgZZB0oHcwa4CeUIOwSeBisLOwcfB3AIMQftB8kKkQehAxEJjwnbB3MHKATlCcAImwO8BSQErAHaBt0GaQRRADgABwTfAO7+YwK0ASAAEgIHAxv+AP9TAxn/vfyR/T/+O/+1/jL7d/vB/m8A2Pve92z6gfv/+iH6/PmJ+LT48PxD+oP2e/ei+SD8JPnW9fb5rPrF+RP3J/Op96n3bPhB9jD4Dfuq+WH3Sfdb94T47foo+eH4o/dg+938G/vW+B75Avvm/n/8SvwP/G7/oALL+678I/4q/rz9o/wK/FH/fQCU/zX8Q/7PAREB+v38/ZYAbgLuAIoBWwL1AqgD5wRdARwAlwTAA4gC7QPhAlcC8AMeA9cBVgaZA5ACKgaoBDMGSwftAxkGZAYuBJAGugQpBCIFOAWjBKcFRgSBA/wHbQWOAlkEWgVyBB0H6ARgAkYGegYqBUcF5wIvBvoF9wEfBFQBKAEVBkUEQwNFADkB3APT/6f+6QCFAbj/xf+kAiP/ev6vAy0A9fzeAH8AgP22ACL/r/2tAN//Ev/3+6T74f5I/iT8H/0h/bv9B/5R/O/76PnB+5X+Lfy8+fD7SP1g/L/6ivjH+bT75vsH+jb9lPwi+zX8fvsc+vj7bf3X+536jvrx+0v8gP11+hr6a/w3AJj9/v3D/RsBMAOg/tT8u/6mAKD9m/6e/iT9EQGYATn8gP4jAa4AJf4LAA0AGwGJACgCAAM/AIwC/wRrAKsB7QNOAp4B3QE3AoYBRAL6AcgB4QTUAdcBpwREA18G4AQRAtoDKwTPAjEEZASEAngCSQQdA+oCOwK1AQoF+QO8ADcBMgTMAt0EvAN+AdwD9gThAsMBlwE4AnUCXAJGAen+tAKWAzMCEAIg/3EAtQLn/l/+hADrAGcAawCVAtv+MP9pAoD/P/4bAHr/8Pzx/tL/9Py6/7n/pf8Z/hP9NgBX/779mP0F/pH+dP4A/TD9mPrs+4X9fvxl+xL8pv2g/Xr82/ox+wn9tP2y/DX/Jv0M/YP+VP5a/KX9uP7N/I/8ofyB+0z9vv6i+qH8I/x7/+L9kfwc/sP/PwFwAC79Xv8iAY/9Rf8g/239pgBAAWD91P5eADkAs/50AAj/0gH1/xABagLX/t4APQM9/2sAZwLdAKUB1P+jASgBuwGaAbMCEAT+ABoDOwRiArgE2AOaAKgCuwGiAfQClQJwAYABSgMyA2gBeQKTAtQDxwM4AosA1QNOA3wCgQJEApkCswMFAoMA1wFOAH8BOgHF/1f+ugIeAgkBYAFt//AATwJW/+v9KwFlAPIAVQDCAVD/K//pAnD/+/5NALX+H/+U/uT+Wv4Y/rIAkv+2/i7+jgBxAMT+if5T/mj+Cf/y/Z/92fsh/E79YP3O/AP83P5a/n7+cv0N/vX9iv9C/7b/mP6Z/X7+1f/s/VT+Zv+r/ub+C/4H/k3+Df+H/dj9xPxk/4/9B/7i/iD/5gA0AMf+JABIAEX/5P7E/wv/dQAvASr+YwBVAMcAMwAzADr/CQKdALIAfQDk/ywAZAI8/7EA4gC5AN0BM//yAEAAHgJpAKECkQL3AJsCuwOuAasCgwKLANUB9v8WAVEBGQHZAHMBfAFDApEBpAEhAhQDawICArQA7QGPAhABmADkATwBuQJfADsAUwHY/4wAsACi/23+cwLdACUAWQG8/9gAiwKP/8L+0gB9AYYAf/8pAWD/f/8cArT+g/8PABr+NAA//nf+UP8t/nr/lP4e/6L+h//DAFP/lf5p///+T/8T/0X+j/1u/SD+Uv4M/lD9Wf/m/u7+q/57/qb+8v+r//L/hv/4/WX+kgB//lP/3//s/qL/UP/e/u7+DQAn/z//mP4KAA/+wv8//zn/4ADB/+n/qQBCAJz/c/+TAF3/HAH3AHn+8gCkAGYAgwA1AGT/+QFbAMAAFADe/wQAewJE/3QAIgH+ANQBff9jAWUAkQHYAPEBRwHlAOoB9QLOAJcBzAFZACcBpP9sAGoAwACpAN0AXABNAboBGwEUATkCVQE/AekAsQA/AbEA8P9CAW8ACwFr/5v/iQB4/6j/lgB1/+H+nwEoAF3/mwD5/xYAQAGf/77/aAA6AT8AqP/1ALP/yf+zAMv+4v+k/z/++f8h/s/+wv9o/sb+c/5M/8H++P4GABL/2/5y/wn/5/4u/+7+rv57/nD+rv6f/o/+iv/Z/sL+4/5k/qX+aP8n/7P/sP9h/nD+KADW/rP/zv/0/lv/i/8A/0n/6/8J/5v/Cf/K/3H+qv/7/jz/hQBa/8D/aAAiAJr/q/9NAC7/4QC9AOL+bgBmAAgANwABAE3/OgETAJcAEwCh/9D/1AGM/z0A9AClADIBw/8vAV4A4wDgAG8B5wChAFcBCwJWACEBUgEaAL0A8v9CACwAlgB4AIEAMwDFACABuQCQAGkBvgCsALoAVwCSAIEA7//YAEUAiACs/5v/VgCT/5z/VQCn/07/9wAhAHP/QAALAPT/iwDc/xAATwCjADwA+P/AABAA7f9XAE//DQCy/9/+4v+r/k//+//7/jz/FP+g/zb/ev/u/0j/Wf+V/1D/I/9f/13/Kf8M/wL/Ef8X/yr/vP8l/yP/TP/c/gv/g/9n/7X/2//p/uj+6v9H/+r/yf9d/4b/uP9x/5H/3f9Z/+D/XP/b/wH/zv9D/5b/YwB2/7v/LwAmAOb/3/9EAIT/rQChAGH/LQBAAAQAJgDp/33/rgAeAGMAGQDH/+b/KAHe/0cAqQB3AMwA7v/dAFgAlwCjAAMBqABhAN4AQwFZANsAzwAeAJYAJAA+ACAAXABLAEgAKAB9AKMAgQBVANMAgAA=\" type=\"audio/wav\" />\n",
       "                    Your browser does not support the audio element.\n",
       "                </audio>\n",
       "              "
      ],
      "text/plain": [
       "<IPython.lib.display.Audio object>"
      ]
     },
     "metadata": {},
     "output_type": "display_data"
    },
    {
     "name": "stderr",
     "output_type": "stream",
     "text": [
      "100%|██████████| 600/600 [01:31<00:00,  6.56it/s]\n"
     ]
    },
    {
     "name": "stdout",
     "output_type": "stream",
     "text": [
      "Epoch 0, Loss: 2.0788263575236003\n"
     ]
    },
    {
     "name": "stderr",
     "output_type": "stream",
     "text": [
      "100%|██████████| 600/600 [01:32<00:00,  6.49it/s]\n"
     ]
    },
    {
     "name": "stdout",
     "output_type": "stream",
     "text": [
      "Epoch 1, Loss: 1.5614856657385827\n"
     ]
    },
    {
     "name": "stderr",
     "output_type": "stream",
     "text": [
      "100%|██████████| 600/600 [01:31<00:00,  6.59it/s]\n"
     ]
    },
    {
     "name": "stdout",
     "output_type": "stream",
     "text": [
      "Epoch 2, Loss: 1.1134915106495222\n",
      "Test Accuracy: 96.83333333333334%\n",
      "230\n",
      "540\n",
      "ASR: 42.592592592592595%\n",
      "Clean Accuracy Drop (CAD): 2.166666666666657%\n",
      "Backdoor Attack Success Rate: 42.592592592592595%\n",
      "Running experiment with poisoning_rate=0.1 and decay=0.3 and delay=75\n",
      "Poisoning rate: 0.1, reverb_delay: 75 and reverb_decay: 0.3\n"
     ]
    },
    {
     "name": "stderr",
     "output_type": "stream",
     "text": [
      "Some weights of Wav2Vec2ForSequenceClassification were not initialized from the model checkpoint at jonatasgrosman/wav2vec2-large-xlsr-53-english and are newly initialized: ['classifier.bias', 'classifier.weight', 'projector.bias', 'projector.weight']\n",
      "You should probably TRAIN this model on a down-stream task to be able to use it for predictions and inference.\n"
     ]
    },
    {
     "name": "stdout",
     "output_type": "stream",
     "text": [
      "Playing clean audio 1\n"
     ]
    },
    {
     "data": {
      "text/html": [
       "\n",
       "                <audio  controls=\"controls\" >\n",
       "                    <source src=\"data:audio/wav;base64,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\" type=\"audio/wav\" />\n",
       "                    Your browser does not support the audio element.\n",
       "                </audio>\n",
       "              "
      ],
      "text/plain": [
       "<IPython.lib.display.Audio object>"
      ]
     },
     "metadata": {},
     "output_type": "display_data"
    },
    {
     "name": "stdout",
     "output_type": "stream",
     "text": [
      "Playing poisoned audio 1\n"
     ]
    },
    {
     "data": {
      "text/html": [
       "\n",
       "                <audio  controls=\"controls\" >\n",
       "                    <source src=\"data:audio/wav;base64,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\" type=\"audio/wav\" />\n",
       "                    Your browser does not support the audio element.\n",
       "                </audio>\n",
       "              "
      ],
      "text/plain": [
       "<IPython.lib.display.Audio object>"
      ]
     },
     "metadata": {},
     "output_type": "display_data"
    },
    {
     "name": "stdout",
     "output_type": "stream",
     "text": [
      "Playing clean audio 2\n"
     ]
    },
    {
     "data": {
      "text/html": [
       "\n",
       "                <audio  controls=\"controls\" >\n",
       "                    <source src=\"data:audio/wav;base64,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\" type=\"audio/wav\" />\n",
       "                    Your browser does not support the audio element.\n",
       "                </audio>\n",
       "              "
      ],
      "text/plain": [
       "<IPython.lib.display.Audio object>"
      ]
     },
     "metadata": {},
     "output_type": "display_data"
    },
    {
     "name": "stdout",
     "output_type": "stream",
     "text": [
      "Playing poisoned audio 2\n"
     ]
    },
    {
     "data": {
      "text/html": [
       "\n",
       "                <audio  controls=\"controls\" >\n",
       "                    <source src=\"data:audio/wav;base64,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\" type=\"audio/wav\" />\n",
       "                    Your browser does not support the audio element.\n",
       "                </audio>\n",
       "              "
      ],
      "text/plain": [
       "<IPython.lib.display.Audio object>"
      ]
     },
     "metadata": {},
     "output_type": "display_data"
    },
    {
     "name": "stderr",
     "output_type": "stream",
     "text": [
      "100%|██████████| 600/600 [01:30<00:00,  6.61it/s]\n"
     ]
    },
    {
     "name": "stdout",
     "output_type": "stream",
     "text": [
      "Epoch 0, Loss: 2.0160524837176004\n"
     ]
    },
    {
     "name": "stderr",
     "output_type": "stream",
     "text": [
      "100%|██████████| 600/600 [01:30<00:00,  6.64it/s]\n"
     ]
    },
    {
     "name": "stdout",
     "output_type": "stream",
     "text": [
      "Epoch 1, Loss: 1.4770650028685728\n"
     ]
    },
    {
     "name": "stderr",
     "output_type": "stream",
     "text": [
      "100%|██████████| 600/600 [01:30<00:00,  6.64it/s]\n"
     ]
    },
    {
     "name": "stdout",
     "output_type": "stream",
     "text": [
      "Epoch 2, Loss: 1.0260705840339264\n",
      "Test Accuracy: 93.33333333333333%\n",
      "449\n",
      "540\n",
      "ASR: 83.14814814814815%\n",
      "Clean Accuracy Drop (CAD): 5.666666666666671%\n",
      "Backdoor Attack Success Rate: 83.14814814814815%\n",
      "Running experiment with poisoning_rate=0.1 and decay=0.3 and delay=150\n",
      "Poisoning rate: 0.1, reverb_delay: 150 and reverb_decay: 0.3\n"
     ]
    },
    {
     "name": "stderr",
     "output_type": "stream",
     "text": [
      "Some weights of Wav2Vec2ForSequenceClassification were not initialized from the model checkpoint at jonatasgrosman/wav2vec2-large-xlsr-53-english and are newly initialized: ['classifier.bias', 'classifier.weight', 'projector.bias', 'projector.weight']\n",
      "You should probably TRAIN this model on a down-stream task to be able to use it for predictions and inference.\n"
     ]
    },
    {
     "name": "stdout",
     "output_type": "stream",
     "text": [
      "Playing clean audio 1\n"
     ]
    },
    {
     "data": {
      "text/html": [
       "\n",
       "                <audio  controls=\"controls\" >\n",
       "                    <source src=\"data:audio/wav;base64,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\" type=\"audio/wav\" />\n",
       "                    Your browser does not support the audio element.\n",
       "                </audio>\n",
       "              "
      ],
      "text/plain": [
       "<IPython.lib.display.Audio object>"
      ]
     },
     "metadata": {},
     "output_type": "display_data"
    },
    {
     "name": "stdout",
     "output_type": "stream",
     "text": [
      "Playing poisoned audio 1\n"
     ]
    },
    {
     "data": {
      "text/html": [
       "\n",
       "                <audio  controls=\"controls\" >\n",
       "                    <source src=\"data:audio/wav;base64,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\" type=\"audio/wav\" />\n",
       "                    Your browser does not support the audio element.\n",
       "                </audio>\n",
       "              "
      ],
      "text/plain": [
       "<IPython.lib.display.Audio object>"
      ]
     },
     "metadata": {},
     "output_type": "display_data"
    },
    {
     "name": "stdout",
     "output_type": "stream",
     "text": [
      "Playing clean audio 2\n"
     ]
    },
    {
     "data": {
      "text/html": [
       "\n",
       "                <audio  controls=\"controls\" >\n",
       "                    <source src=\"data:audio/wav;base64,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\" type=\"audio/wav\" />\n",
       "                    Your browser does not support the audio element.\n",
       "                </audio>\n",
       "              "
      ],
      "text/plain": [
       "<IPython.lib.display.Audio object>"
      ]
     },
     "metadata": {},
     "output_type": "display_data"
    },
    {
     "name": "stdout",
     "output_type": "stream",
     "text": [
      "Playing poisoned audio 2\n"
     ]
    },
    {
     "data": {
      "text/html": [
       "\n",
       "                <audio  controls=\"controls\" >\n",
       "                    <source src=\"data:audio/wav;base64,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\" type=\"audio/wav\" />\n",
       "                    Your browser does not support the audio element.\n",
       "                </audio>\n",
       "              "
      ],
      "text/plain": [
       "<IPython.lib.display.Audio object>"
      ]
     },
     "metadata": {},
     "output_type": "display_data"
    },
    {
     "name": "stderr",
     "output_type": "stream",
     "text": [
      "100%|██████████| 600/600 [01:30<00:00,  6.63it/s]\n"
     ]
    },
    {
     "name": "stdout",
     "output_type": "stream",
     "text": [
      "Epoch 0, Loss: 1.9570759799083073\n"
     ]
    },
    {
     "name": "stderr",
     "output_type": "stream",
     "text": [
      "100%|██████████| 600/600 [01:30<00:00,  6.60it/s]\n"
     ]
    },
    {
     "name": "stdout",
     "output_type": "stream",
     "text": [
      "Epoch 1, Loss: 1.691716404358546\n"
     ]
    },
    {
     "name": "stderr",
     "output_type": "stream",
     "text": [
      "100%|██████████| 600/600 [01:30<00:00,  6.60it/s]\n"
     ]
    },
    {
     "name": "stdout",
     "output_type": "stream",
     "text": [
      "Epoch 2, Loss: 1.2452788428465524\n",
      "Test Accuracy: 90.66666666666666%\n",
      "441\n",
      "540\n",
      "ASR: 81.66666666666667%\n",
      "Clean Accuracy Drop (CAD): 8.333333333333343%\n",
      "Backdoor Attack Success Rate: 81.66666666666667%\n",
      "Running experiment with poisoning_rate=0.1 and decay=0.6 and delay=75\n",
      "Poisoning rate: 0.1, reverb_delay: 75 and reverb_decay: 0.6\n"
     ]
    },
    {
     "name": "stderr",
     "output_type": "stream",
     "text": [
      "Some weights of Wav2Vec2ForSequenceClassification were not initialized from the model checkpoint at jonatasgrosman/wav2vec2-large-xlsr-53-english and are newly initialized: ['classifier.bias', 'classifier.weight', 'projector.bias', 'projector.weight']\n",
      "You should probably TRAIN this model on a down-stream task to be able to use it for predictions and inference.\n"
     ]
    },
    {
     "name": "stdout",
     "output_type": "stream",
     "text": [
      "Playing clean audio 1\n"
     ]
    },
    {
     "data": {
      "text/html": [
       "\n",
       "                <audio  controls=\"controls\" >\n",
       "                    <source src=\"data:audio/wav;base64,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\" type=\"audio/wav\" />\n",
       "                    Your browser does not support the audio element.\n",
       "                </audio>\n",
       "              "
      ],
      "text/plain": [
       "<IPython.lib.display.Audio object>"
      ]
     },
     "metadata": {},
     "output_type": "display_data"
    },
    {
     "name": "stdout",
     "output_type": "stream",
     "text": [
      "Playing poisoned audio 1\n"
     ]
    },
    {
     "data": {
      "text/html": [
       "\n",
       "                <audio  controls=\"controls\" >\n",
       "                    <source src=\"data:audio/wav;base64,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\" type=\"audio/wav\" />\n",
       "                    Your browser does not support the audio element.\n",
       "                </audio>\n",
       "              "
      ],
      "text/plain": [
       "<IPython.lib.display.Audio object>"
      ]
     },
     "metadata": {},
     "output_type": "display_data"
    },
    {
     "name": "stdout",
     "output_type": "stream",
     "text": [
      "Playing clean audio 2\n"
     ]
    },
    {
     "data": {
      "text/html": [
       "\n",
       "                <audio  controls=\"controls\" >\n",
       "                    <source src=\"data:audio/wav;base64,UklGRlYlAABXQVZFZm10IBAAAAABAAEAQB8AAIA+AAACABAAZGF0YTIlAAAKAML/zP8DAP3/wv/X/xgASAA0ACIAGABIADQAEQDa/woAGwAAALH/1/8bADcA3v/2//P/+v8RABgATAAfABsAFAAmAPP/8//s/+X/7/+0/6P/0//9/97/5f8NAAYAEQAfADAAIgA7AD4AFADz/w0AHwAAANP/DQA+ACYA7/8KAA0AFAAbAND/yf8fAB8A/f/e/+z/7//T/7H/mP+t/+j/tP+c/6P/h/+A/6r/uP+t/9D/uP/Q/7T/2v/T/wMAAwANAP3/4f/2/8X/4f8YAOX/EQAmAPP/FACt/63/aAD9/6b/TAA3ANr/TAA+AOH/QQAtAO//PgANAOz/XQAwAAMAPgAAAOj/OwBoAP3//f8GAMn/7/8mAPr/qv/s/xgA+v/6/9r/CgCRAI4AXQCRAK0AigCDAHYAKQD2/ykATAAUAP3/CgBFADsAMADl/6r/nP/T/5X/g/9y/2v/sf+q/2//a/9r/4D/v//s/w0A8/8bABEAxf+x/8n/9v+V/47/v/9h/47/zP99/1b/nP+m/wr/G/+O/9P/tP9y/4D/tP+c/4D/N/87/4D/iv8t/0//g/+c/6b/g/+4/+j/v//J/08AJgD6/5z/1//e/7T/kf8f/5z/GwAtAMUAcgDs//3/Vv8G/13/U/9y/+//6P9P/5z/5QBWAFYAjgBFAOgANAD9/6MAGACxAIAAtP/h/7H/pv9MAIoAnwABAT8BAQF2AA0ANwAtALH/owDXAC0ATwBNAY4AawCtADcAAABMAMkA6ADQAGQAtABWAMUAAgIjATAAgwBdALEAeQCHABsAcgDFAFoAxQAHARgAIgCV/xH/9f5k/+//GABy/woAGQEEAa4B/gE7AJwAiwFiAY7/vwCWAYcANQGLAfb/ZQFeATEBXgGAAMwAdwE7AK0A4QCO/wAAMAANABQAEgH2/4MAxQB2AC0AjgA0AHkAgQGY/+wAZQGD/5UAG/8G/6b/Jv8D/z7/nwDh/wsBKQDs/7T/Pv/C/+j/U/+fAC0A/P6gAdf/sf8GAMUAYQC7/7T/yf/C/47/n//M/3X+ov7X/5H/QQDaAJwA4QD9/3YAwwHB/tEBbAEiAOEANv5FAFb/cvz2/13/V/wX/kf+gv5k/zf/0//W/oMAef/K/cn/vwBf/d7/UAQh/mT/0wO//5T+4QCq/xIBEwLC/MT+U/93+vn+NADt+jD/7P+r/c/+g/+8AdoAbwCqAGH/NACQAhf+IgCWAUz/aABt/ZP6bAH+/f3/lf9g/k8ATv7e/9D/XP6KAOUAf/6/AOb95f+t/wX+nP9f/Q0AFP9o/z7/0f2rAZz/WgDa/1T94P55AHn/zP+y/W8AqAI+/x4DtADr/mwBaQE+/4f/7AAoArj/pAG9Avn+/f9bAaz+iAGX/oUBmAMG/8wD5AMLAa8C9QIdAiABBQUtBGUBKQOyATUBeQOV/5P9PgBZ/ib5KgECAiX7KAJHAsf9DQPjBUMBeQCWBZ39aQHCA0z/A/+ZAaT90f2VADv/zADW/tT8PAG7APv9Kf85/hsAjgN4/qf8JgCL/CECCALk/kD+/QDE/mj89P0e/jn+KQDC/P79zv0G/3b/JPoT+kr62f52AOz5Cf7eAPb8kgHsALH5oAG4ALn9sf9M/28A5P4fAO0BHAER/wL+o/8l/ij+ZP+P/U4FigDk/o7/1Py1+SH+6P9T/CABU/80AFUCVQKyAYT8bgMGA035Wv8XAxn9GwC6AiL7DALlAFABQwHR/Tf/tAMiAAUC4AKf+2oC9AE8/ZgAIQLc/Zv+mP9kA2sABwFWA+H/RP6//D8BDgTA/UMBTgLz/3gGo/wm/CwGO/9x/qQBoQJN/VcBlf+b++7+A/8K/xUBzQG4/OX/0ACo/WwBJgDrA4YCU//x/Y8BuACH/xH/Nf12AGEA5v2i/qYDiwF+/dcABwHLAuUADf9aADb+z/41AQn+u/yP/YkClP57AtAAGADe/wX+nwNIANz9hwMt/zsARgED/3wDVf69/tYDRP6qAMcF4f+fAFECl/rc/V0D8wSs/tf8QwEjAQz+PPrzAO//KgRH/m392wGp/gYD7gLi/Jn8kALRAXT9lv0CAnQCdwFq/gL+qgS9/nH7qgRTAGsAlAO8/fABtgLl/xEE+wHB/p8AQgQwAB8AWQb6/GT/cgOG+7r+TwAC/qr/b/+8/coBAgKmACsCmPt3/ZACo/+V/Lr+eAJl/HoBdwF6/d0D4AKo/UkBbgYg/UoCpgPq/bcDZv1o/LIBigCV/+T+0/8X/l4BKf9jAkoCSAD9/y8ChwNU/dsB0AAI/cT+vf5FACv9TQHJAFP8uAC6/hEAqwG0/JoCLQCl/iwDaAAwAJYBe/58A0394P4tBBb9jgCYA2//XgG7ALn9Fv1FAFECvP3q/a0AL/72/Ob9MACm/8382P2q/4v8KQDCAyH+8AHz/+D+uAD1/gH9wAF6AR36MAOdBVL7hv7pAZUAT//E/msAlf9K/eT+vAGtACH+Y/7xAtX96ABaANn+EgFbAUb95AN7Aq0AFQHLArgAEQDgApj/NPwtAKsB8f36AO8ABATf/Xj+UQKN/tkCdALb/AAA/P5O/oP/UQKv/ScBOf6z/oj9aP87/8z/4gHz/CkA1wDEAh8AFgIdAiIAIgCc/4n+0/+RAPX+//oN/30AkvyH/5EAAwAQ/mT/vf7vAKMA2wE4ARQDVfqRA+MFT/j4BQkGmPuq/+sDJP1P/0wDVP1E/rwI+fsn/a4E+vyE/KQBnP8a/tQBmP9v/J8AmwNc/oT8egQ7AOv+ZAB4AgX+MAMYAEb9WAJ//gYACgDl/9j97P9HAuH7wgAN/4ADRP6t/4MD8wAE/Sb/RQCdAa0APv9L/rv8/P5vAI7/+f6BAVsB4AL2/NAApwEV/AQBKgFTAKX6NwNdA63/8v4kAnkA+vzBAkv+Mv0MAo/9K/1GBE39OgO6AvL4hgL9AK37tQGVBFn+egE5BUn8MQECBtn+K/0CAgUCO/mcBOEDRvYIAnb/k/05/m77UQVh/637Wgec/1H9BATX//f5WgALAZT7PvwN/4T5VAEtABj/Yf+HAH8CPvwb/5UAbf39A1P8tv1WA+f+APl2BDQAs/uN/sj+JwGx/3UDSQEmACD9PgDQALn9p/xGART/SP+JAjT87gJIBoAD2gB0Am4DhQF6AQcBjP3t/aUG4QCT+hkBq/1A+jwFr/pT/1ME3vx/+5AFUAGi/gX+7gZh/ML84gR1A6v6xwFpAVMAqP07BE76ZP8eDar8Kf9WBv8J2/mwBiQF8f1XATAHqvWh/a4EZgKK+x4GawCj//gCTwPx+oT5FQeb/nD6TQiAAN/5NwpD/UX/EQBtCRv4lgFuBmr3fv2rCzT5YQDGB/b87Py0A6P/EvmfB8ABLPsy/Z0F8PlY/VAElfgOBGgEm/RrAMr9wv9h/GD+nf2F/UP9owBd9Q8C4QCx/E0ByAKn/MsCBwHy/ob+av41Abb95QSs/mT/yfySC/v6bQKDCob+jvzsB8b83vxcBjcApf7gCVD8sP7GBxEAh/zlBA4HB/nOCLEE6fnOBYkJ1fpcAtYJQP44AaMHFPvcAoAK2P1TAOcGIfoSAbwEJPq8+e8DRPvy+NwFqf7L9/kG0Pyf9TwM7fqE/M0EfQD3+cf9ygSo91EFf/5e+UgK4vz2/AsIuAA19pcJPwH29XAI8wQk97MC1gb38o4AtAdM+Ez8BQxo/9L6ngki/yX7ZgwZAaD8mggcBKv9wQbeBGH4XAYjBJ767v4EBP31mgIf/8z7VgB7/mT7RfxGBCj6cQLTABQAsfx5Awz6o/w7/zX9aP/A/bEAuPlgBq75Ef9CBLX5GwM0BxkBwAEgDwAEGgYED94ELQdYDAsEsAOZCw4EY/4AB/UCaQEkBZQDYP5QAd0Dyv0eA48EfQCVBNYDVQKSBHn/p/xE/vj3sPjF/+r3Y/ewA3n8D/bHCFL7L/SBC1r8ifMUBg8Cbu1lBNX9Q/C7Awf8LPHn+sME+e00/5T+6uyfA3T9+PCH/NwI7/Gp/hgOr/Cw/qEIe/Nr+KoHGfN090ACv/Lo9U8DNvSL8gwCt/Rz9lj90/iH+L77Avcm+Rz55/SS+en5cvj19134mPiKAOX8kPf3AZX/ZPiIAYkCjPpiBRQG2f54CW4DjwHgAkQJHQhKAuMMvwebCRcJ5gjqDOgDog0FEMQFMBROGsEQWhXVJJAWDB1SKA8ZXxm6HrsDldrW/oPqYrZ70dXE/LfQzOnDWLa7543qENIbA/YK8/+5GYIWFQ7TJakauwACFw8MgPGR+ILphdhG4ZDYucoC5k3sI+E0/JUKkAleFQwaOBzTJWgfpRrlIn4d1xWtGIgVfRFwFi4S8w7tIGEmNSPZNUJE/Dl8R0FbHUk3Tisa++IGNkrlOJMByrOs4JVbqOWFx4rC4JW/X6V6CKwJ8QVJLREfMTShXb8wPRe0RIYvzgVtBWrwlu9z78LFSr0w4N3Wlrzv0/jijOy09eDwkgQKGzcURQpDGZshWRD7COcGJAIT+szq3OKM4i3hedoH1zDk2OzC69r1UARCC78OSRVhG1wdmh3BGuAa4BozFIARihEhEP8PWA8UFAQZexqZI4Irsy7uPHlACD+9UD5OmzzIL9QB7AfpCEO5Tra+xRykG6AjoQ2ZarrOzpS3YtvKC0z/cRBaJs8osz8WO1gk/S/hNqIXEwI5Asn1P+gw1prAUcdx0ke9Hrcl1oDdM9YU50j0rfsVBMUA3AVZFEQNh//xCf4Lff9h/3T9Q/2PAf/+cgDgDO0SdhFUHC8osSm0Lzk17Do7QYFBoUnoTgJGaEviSHgyLyQY+ArulvmjtWaikbtapL2YwqMWpY23SddBz9bc1BIoE5ERayxqNX06pDjULT8qIC28HCb/W/1e/KHmGdfv0wbWU9PmzX3N39Fe6J3o6tiZ+cEJ/fHy+/wNTQGE/IkCBfc7+dL+Oupu7T4A1PK/633/JAWDAIoKjRN+GdgguSDtI8Mt7S38KOUsZjHUMJIw4zEuO987bzDIPFc+QycBILP73u5qBnvL7ajHylfGHKRCpGu+uMKgyX/SyNnd/vYKkALmD9spHDSZH8UeQjCxKeYWhAeJCWAJG/Vk5HHjp+vV4vHOwNQp533eJ9Go5mbzJuiC7cD6Tvp79777Dvkw+FD8W/YS9qj6ifr0+jr7WgB/BsEGYghxE/Ea8hQRGwAmqiLdIXomESlmJ+0n7CwdLo0yFzb+NE03HzoQNUMnshLj83n8y/pYwLew5spfypOlb5rJxejW2MDww3buswmv+hb9WRqxLGYnchg/I5cufiNrFFgI3ws+Cn/3teXb5TPxX+IR0M/ZwuAs4/PdRNzh7o/5h/Ed7Gf7KQd1+1jzxPqUBjf/X/AA+X0ENv4p9S38WQnACPYDLAq6F/8ayhWyGXwhjiJFH1ofxSE0IoMhUx+IICsk4ibsJj8jWSjPKzMhTRkgD5r2ke4n80belsP9viXPU9Alt8+zEtTB5ojXptMa9NMNVwfe/A8PKSlYJD8S2RPsIp8iwAxJATUI7Ads+Rjr3us98MLnQN9u4B/h9OIl5wjpSunq7Iv1FPhF9fD2gf2ZAe7+Hf0yAvcEoQIHAU0EjgflBxYIJAn5DVUQ2A+6E5YVSRXWFFIUkhWhFvoVZxSmFM4WzBe6F70W7xieHXcdPhsPHVAcThbCEfgMhvcM5gfrG+rD10rDtsQz1onVJMfjx8Hc2e0Z7GLsOfoDCr8OaA6uFX8aChgNF/UXehWhDGYFiQXkA3v6mO5V7bbwLuky4jzicude6wvoVur48BD0i/Wt+HT9qf6mAIoDMQRDBQ8FVQWVBEgDpwRhBCoEaQX5BokJ0gnrCgoORg82ENMRjxLhETUStBRXEqgPSxDPEDAREg9hDsAPyQ4mEU8UExOSEk0V6xTXEXAPQAyrAY7u0+eB7MLnHNckylrQ+dmh2LXUftja5LjukfTs/DsEwAiyDEEUdRv1FwESzxA8ErgRhwd+/XX7evm08QbqIeni6EvmEObG6IXsZ+3s7sz0ivh3+nr9oAHlBN4EPAUJBu0F3gRIA7wBQQD6AEkELQSeAsQFewmvDLsOLQ5+DyMSoROYFJoTGBG6DUIOww/UDlUM4Qe4B4QLCg6QDGULJQ2uDpwRTBRjEyUQfA32DfAOcgpd+ADkheIV6ELk4dayykDOo9cT3L/e7OH36P7vPPqsBpcMrwz6C/YRKxqDF8MPRQr5BkED5fwY+AzzBOxg52vnSevu6oPnOelT7rbz+/Z7+t3+RgFJBKsIIAspCqkGqwWaBSYESACU/owCZgLF/7oCOwddCr4NsQ75DRISERjVFswUGBV0D0UOiRDzC2gHOwcLCMEGJAVWBusKIQwbDQkQ3RCTE4AYQhjZEwoRDw9sDocKGPX23SDbKeCK3brOYsOHyYvTfNmI3lzmKPBp9of/UA5EF7YWKhIxFbwczhmVDrgEGwC2+hvxduuq6IrjTd6Y3bvkruuP7LPtTPJo+SL/dAIhBi0H4AZ5B3oIvAjKBJEAY/7y/mUBnQF+AakDCQb2ClkQpBINFB8VTBiqGxkZpxWuEp4QYQ5CC+QJBQntCB4GogZgDSwQgA76DqMRmBdrHgIe9hi0GEcachgQFFcOEP5t2wbIbNBO2OHMh7RnsBbHMNqL4UPlV+/k/iIKEBeQJL4lkhzLE2cXSh0EEkL8Yux/6p3snOTV24XYQtco3BfmwvE++N/25/qoBQkNaAr0AZf+8f12/NL6gPjm9qvzO/Ko9wn+ZQH8AjIFFgxxE5sXCxlrGLoXTxfqFhYWABE4CzkJ2goeDUUKJwiIC6gP/xMlFy0Y+xmCGvkbnB+xHzgfOSCFIPwhPCCXGqETNg0mAFfUEbSovbrLJci3rVqgNL8r3wvsdPDj93sMORrmIO4r0isgIOQN8wRcDP8FPu5t2PLSjN9g42/dBuCv5vDvYvm7ACQMFRIjDpoIBQkPDIMDQPMs5zvhxuES4sDiMeg363fvMvowB5oPqAzwCLEOoxVEF+8RiwvgCeMIxAlDDOILKQrLCUYPABhTG2QbcRp4Gkodyx2DG6wXfBRhFWgVvxU8Gd8cSyRYKl4pVCo6KCQg2heiA0rOOqa1rljAWb6Yox6VV7gO5PL4+gDECeYcEio8Lh01TTGJHYMAlu/Z9GTxU9pww/jAC9QG4zTojfEl/t8LnRJlGaMiHBz2Dc8DCf4H/Hfv/N8c2jnYrNkX3PbgDuvh8a/3ewJ2DuYSewxQB1oHWwXaAMz7Bvv4/f/+vQJWCjAR2hR7FrcbhiEAIqcfixwTGpkY0xQmEVkQJhFqE4oU/RSmG1YigCWjKbsvQDU+NuMxpik2GrMJuvSTwAmSfpSVqvi2FKo4obvFcPZuFKQg0yXUMMIzWy1CKf8dQQY24yXLgs4v1T/QSMWGyHXjC/10DPYYaCI2KM4jnx5/HjgSrvbZ3HvVctoX2YjRZ88Q2dfnfvN9ALcKTQtcBoMGaw08DMr9ifB/7ZPwn/Et8uH4HAE0B/gP3RrFIdggnRxdG2sbsxcfEQ4O2Qw3CnwKvw6YFPkX3xklHiEkQCcTJ0QoMCl6JisngiulKwcmwBkIDCkDHvus1QWYOYcGpqjE3cj1tynFj/PDFXYmjSuKLHYmVhSBCzsLA/+i4NHAW8CQ1RjhMeFp4nvzrwlOFjsiRCgLI/8TXAKQ+j/23erJ2gPQ5NJj3HTmuO5U80X4Av5kB7ERBRD5A+r3L/SO+O73vO/46WLs2vVvACIK9RAKFCAWehm8HMUbrhVhDh8KHAv8DTQO+AytDTsR7BVSGmceNiGsIb4hhyLmIJseTh2GHu4hpyYJKMwlhSN0GkgNuQUl+5HMvY6bhIGovsyTzv+9EtGi/iofjy1XMM4u7x7lBBT7Q/3B9AnVVrehvRPYuupt8Jr2LgjsFS4cRyTSJ38eHAQ66uLhf+M44QvXitIV2rbmhPIe+zADfwY3A0YE1gknC04CIvHG6KvszPFJ8m7xp/bv/1QINBEPGVAcoxg2E/0RyRHwDlIJfAbdCeQNjRDiEi8XyBopG80cph7UHzUgXx0VHAgdehw6HsMgyiNmJzolOyK0HtIW0ApA/o3jMKpZhE6UvbrR1ArQHs887/8TxyqiMoUxUCbgCZvxoOsT7SDiOce3u4PMceZO+s0EjhFWGyYbAhqHG7kZ5gGO4UHWHNoU4JjdhNpB4w7rbPL6/JMI8A6wBoUBpAUaBrb9Du/q6Y/vkvKE8jf1QQByCq8M9RDqFukZuRZOEAEPZA3/CdEIeQreDj0QhxH+FXAZMBsAHFYecSEuIIEcTxueHSsdkBrnHTEmASojJgsgyhwfGJ4MeP5M9Y3VGZoBgNeZjMeA4J3bS+OH/2kZnidNLfIvjB3d98jcxdmX49fdTMzJyX/Zx/AvAskR+iLgJIMXRQrbBDkCMvc05PHVNdQ32gnjZ+3d9N33vPnS/kwHdwzQChkF4f8O/L33/PTo8QPuAO8n9qz+6gWaDGgRzxOYFO0SHxHzDlYKVwf6B2QKFA1VEMgTXRehGRMamxrJG9gciBx5G/8aEhwAHHQaERvPHhwjvSQ7Im4eTBtQFRgKjP3m79zK3Zhoif+iRMtU4unlJvJMB8gXRyEOKbMrIhjL84jXvtKa26vbeda+2aflVfTUAcwUKiZdJTUSG/uR9OP3pvEZ5YncKNzY3kPiVOwE+df/Qf+G/lMEywnvB2kBF/t69mvxle6E8g/65P7o/+EDLQtnEFUTixU1FnoSvwsMCXYLpw4nD40NsQ6dEtoXvxy3HhgfLB7lGwccix+zIdAfmB5cIZElkCScHzgc/xZ9C0L8Z/Es40G+y5j5lfWzR9j56jb06gKCEEMW0Bj+H7kgHQzk6u7SD9HA2GDci+Gx6+L2Sv2nBKUTaSDwHCMIZfYi8XfsPuef5MnnT+rz5Kzjsuym+9QEbwQdBTAH4AZSA6r/3/0o92HuhezO8wT97P+XAnEJbw5wD18PBRPiFZYSQAwDClEMSQ5bD4sSbxWoFr0WRhkjH+giFCI4Hz4fyyHJIkskYCUnI2IcxhENCgQELPsB8Krd3r+Npm6mJMD54Pv27wAiB1UMoA6YEVsWuxTfBZbsvNdL0k/ZLeT17az3jf4nAV0DiAg0DnYOzAZP+/DvB+j25C/mAuoO69np7urx8Pz7pQYBDEILVgaSAU7+IP3X/AP8/vk39bLzgfkFAmsHLgjGB/4IFQsyDNYNcRD5EFcOKAxoDu0S9xUbF7sYaxvUHN8cjB3FHr8fYR9RIBEiCB1IFEgNEQpMB1oAYfgZ83Lr2dgCwVu5kMde3nvwEPv2A04JzQdtBYUI/A3uCST6XOmt4JjgJuRs62r0DfgF9+H1HvueAikDUf2F9qbxQe617DbwX/cR/PX7Y/rC/OgAOASzBgQIYQceA8H+6v3a//YAg/+h/dX9Rf+uAW0F6gkXDUsN+wziDkMSFxSKFDQVXxYFFmAUihR5GAEdJh/pHy4g6h1gFxUOlgVg/qH35PHM7s/tz+3B7YfrMOea4sDiK+kR8oL6zv2w/oP/2P2u/KP8k/36/KP4ovFO6Z/koOUZ7Ajzk/Nk8f/w5/TZ+rD+IwHaABr+j/n09lz6LQBJBNEEWQMCAswAAgL0BVwJwAiTBTMDPQKAA6EFJAkzDf8PLRFlEkIVaRnmHF8dtBvSGr4bNR0lGqET9wvTAzT8DvX+72Ptwe058H7zbPbn9+T4ZPgz+CL4N/hF+Bf3G/UP8xHyrvK69I33jfco9NfuaemL6OjqHO/T9Fv5kftd+9L6vvtm/bH/5QC4ACb/Sv16/eX/1gPFBjUIkwjmCL4KlQ7cE5IYmBvDHIQcdhxGHLIclB5MH3YcEBSICB7+b/U/74Trm+qH61Hsbu1+7yH0OPkT/noBTgKZAQr/H/yd+eP39vW985/x/u8g73Xt/etJ6xjrL+1q8Nr1FfxFAEYBlf89/v384vyv/Sn/GQEvAg0DTQSDBhEKPQ0QEAwTYRXfFnEXphgvGnwbchtgGtEZhxgzFNkM6AM9+8fzqe1j6e/nIel26zzv//MA+e39WAInBZEGFAa+A9f/0vrM9D7ufeis4x/hcOLj5pTtm/Rt+l3/OQLjAvQBlQC7/yb/FP/n/jv/TwBKApoFFArJDlET8RYxGdUZ0RmkGScZQhjwFUcTfBBmDGEH+wGV/MT3ZvOn7/TsD+wQ7Qzws/SB+dj9PwE3A3kDOQKt//n7UvfM8bLskOlo6IzpVOx48CL1kvm0/FX+Wv+RAJkBHQIhAuYBFgKTAugD1gZGC7IPvBLnE/UT6hPVE6UTBRO0EQkQfA0GCiwGcgP+Aa0Azv0h+nD2NfO28KTvG/Gb9EH4x/qj/O399f4K/9X94ftz+U32tfJA8DjvAfCi8aHzW/YE+Qb7u/yG/kgAwAEzA48EqwWcBw0KFA0uD70PVA/CDgMODQ1ODJ0L5wkPCIMGdAXRBAAEHwS1BKoEkwKz/q/6Vfe69Fvzd/Py9Bz2dPfr+FX6mPtl/If85PtO+uf3gPXx83DzUvRe9kb5NPxn/iYAxwGYA0AFeAYjCNIJpwvnDGQN5wzGC24KJAnNBwcHrAaiBr4GpQaNBv8FDwWpAzkClQB1/sj7HPmu9jf1f/Rg9Mz0fvaK+HD66Pux/JX8zPul+l75bviU9/v2/vYb+Lj5NPwY/7wBKgRIBqwGGAc1CBAJGAoZC/IKkAkxCE8GuAToAzADHgOwA9YDpgM6A2oCIAFIAFr/F/4W/dP70voM+lv5JvmL+Uf6y/q++7v8PP0//Q/9cvyw+//6cPrA+tb78/w9/rv/NQE5AvgCeQNhBAUFOQWaBbAG7gZxBrYFNAT/Av8CngKJAgoDeAKLAXcBNQF2ABsATP82/pP9p/zk+3L8v/yA/IT8Ev01/U39mv2M/Vv9Fv1T/EL8hPyn/GL9Vf47//P/0wBeAQICyAJSA7AD7wMOBPkDBwThA1kD1QJtAs0BegFbASoBxQBhAAYA0P9o/xj/sP5c/vv95v2o/eP9LP4a/hP+Nv45/hr+cf6G/pD+5P7d/qn+if5x/gP/u/+cANcAPwFeAa4BDAIdAiQCQAIPAt8BvAG5AV4BsQCAADsALQDh/3n/Kf8w//z+0v7g/i3/6/66/oL+kP6J/oL+Ef8b//z+Lf9y//r/MABFAF0ARQBoAJUAqgCYAH0AqgDCAPYAIwE4AfYADgE8AQsBqgA7AP3/8/8fABgA0P+f/63/kf+A/2j/lf+V/13/U/+m/4r/v//s/+j/iv+f/7//rf/v/yIAGwBPAHYAwgDeALsAtADJAJUAVgA7AC0AKQA0ABgA2v/l/8L/tP/F/6P/gP+V/2j/N/9F/+7+Df8t/47/pv8YAAoAHwBIAF0ALQBIABgAGwA7ABQA+v9vAJEAawC/ANoAZAB5AIMASAAUADQA7//e//P/GwARAN7/CgAKAN7/yf8KAAAA7P/h/9f/tP+q/7T/7P8GAOz/PgBTAAMA6P8GAOj/9v8NAOj/FAAYAOH/tP8KACIAJgAmAAYA7/8wAAoAEQBWAGgAEQAtABsAv//Q/6r/pv/2//3/mP+j/5j/sf/X/5//ZP9a/0X/Rf/J/7T/b//a/9f/wv/h/9P/0P/M//r/4f8RABgARQBrADAA+v8GADAA6P8RABQA5f8fAE8AMAARAEUATABkAE8AAwADACIA9v8GAPP/v//h/wMA9v8GAEUAFABBAEwAHwAAAOz/AAAbAEEAOwBMAEEAXQBkAIcAeQBkAFMAXQB9AE8ALQAGAOX/tP/X/7v/1//s/+H/uP+7/+X/IgAtAPb/qv+f/1r/h//v/9D/pv/9//b/7//6/wYAuP+7/7H/sf+0/9P/5f/6/9r/v//a/+j/2v/z/wMAzP/a/+///f/h/yYAGwD2//b/7P/F/w0AAADa/xEA+v8fADcANwDs/yIANAAiADsARQD9/wMA+v/v/xQACgADABsA/f+7/+j/AwDQ/wAA1//Q//P/NwADAP3/CgDs//P//f/X/9D/5f8fAFoARQAYAEEAIgAKAB8ASAAfAAoADQDl/+X/0//2/wAA6P8KAOz/tP/T/+//u/+c/9P/sf95/8z/zP+0/6b/wv+///3/IgAmAC0ANAA7AE8ASAA3AIcAVgAmAB8ANwAUACIASAAtACYAAwD6/xgA7//o//b/xf+4/9r//f/s/xsAUwAtACYADQAfADcATAAtAF0ANAAUAAAA+v/s/xEARQARAB8AOwAfAEUAQQAAAAMA4f/F//P/CgDe/+z/zP+R/6b/9v/C/+j/AADo/9r//f/e//P/AwAbABgAFAApAAMA4f/h//P/CgAtAEEAGAAUADQAGwAtAB8ALQA3ABgAGAAmADsA/f8bAA0A0//C/9D/zP+f/97/5f+4/+X/BgAGAO///f8GAC0A+v/s/+z/8//h/xgA8//v//3/GAAbAAoA/f8GAPr/3v/z/xEABgAKABEACgAAAAoABgAUAA0AJgAUAAoAEQAUABsAQQBBAEUALQADADcAPgARACkAOwAYAAoAAwDe/7//xf+j/+H/+v/2/9f/6P/J/9P/3v/s/9P/2v8GAN7/2v8DAAMAGwA+ADsASAA3ABgAAAAUANP/9v8AANf/6P/h/9D/2v/z/9f/6P8NAO//2v8UAMX/v//e/+X/7/8GANP/xf/l/7j/1/8=\" type=\"audio/wav\" />\n",
       "                    Your browser does not support the audio element.\n",
       "                </audio>\n",
       "              "
      ],
      "text/plain": [
       "<IPython.lib.display.Audio object>"
      ]
     },
     "metadata": {},
     "output_type": "display_data"
    },
    {
     "name": "stdout",
     "output_type": "stream",
     "text": [
      "Playing poisoned audio 2\n"
     ]
    },
    {
     "data": {
      "text/html": [
       "\n",
       "                <audio  controls=\"controls\" >\n",
       "                    <source src=\"data:audio/wav;base64,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\" type=\"audio/wav\" />\n",
       "                    Your browser does not support the audio element.\n",
       "                </audio>\n",
       "              "
      ],
      "text/plain": [
       "<IPython.lib.display.Audio object>"
      ]
     },
     "metadata": {},
     "output_type": "display_data"
    },
    {
     "name": "stderr",
     "output_type": "stream",
     "text": [
      "100%|██████████| 600/600 [01:30<00:00,  6.62it/s]\n"
     ]
    },
    {
     "name": "stdout",
     "output_type": "stream",
     "text": [
      "Epoch 0, Loss: 1.8584235549966495\n"
     ]
    },
    {
     "name": "stderr",
     "output_type": "stream",
     "text": [
      "100%|██████████| 600/600 [01:30<00:00,  6.61it/s]\n"
     ]
    },
    {
     "name": "stdout",
     "output_type": "stream",
     "text": [
      "Epoch 1, Loss: 1.5562104870130617\n"
     ]
    },
    {
     "name": "stderr",
     "output_type": "stream",
     "text": [
      "100%|██████████| 600/600 [01:30<00:00,  6.65it/s]\n"
     ]
    },
    {
     "name": "stdout",
     "output_type": "stream",
     "text": [
      "Epoch 2, Loss: 1.2306233960514268\n",
      "Test Accuracy: 83.33333333333334%\n",
      "522\n",
      "540\n",
      "ASR: 96.66666666666667%\n",
      "Clean Accuracy Drop (CAD): 15.666666666666657%\n",
      "Backdoor Attack Success Rate: 96.66666666666667%\n",
      "Running experiment with poisoning_rate=0.1 and decay=0.6 and delay=150\n",
      "Poisoning rate: 0.1, reverb_delay: 150 and reverb_decay: 0.6\n"
     ]
    },
    {
     "name": "stderr",
     "output_type": "stream",
     "text": [
      "Some weights of Wav2Vec2ForSequenceClassification were not initialized from the model checkpoint at jonatasgrosman/wav2vec2-large-xlsr-53-english and are newly initialized: ['classifier.bias', 'classifier.weight', 'projector.bias', 'projector.weight']\n",
      "You should probably TRAIN this model on a down-stream task to be able to use it for predictions and inference.\n"
     ]
    },
    {
     "name": "stdout",
     "output_type": "stream",
     "text": [
      "Playing clean audio 1\n"
     ]
    },
    {
     "data": {
      "text/html": [
       "\n",
       "                <audio  controls=\"controls\" >\n",
       "                    <source src=\"data:audio/wav;base64,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\" type=\"audio/wav\" />\n",
       "                    Your browser does not support the audio element.\n",
       "                </audio>\n",
       "              "
      ],
      "text/plain": [
       "<IPython.lib.display.Audio object>"
      ]
     },
     "metadata": {},
     "output_type": "display_data"
    },
    {
     "name": "stdout",
     "output_type": "stream",
     "text": [
      "Playing poisoned audio 1\n"
     ]
    },
    {
     "data": {
      "text/html": [
       "\n",
       "                <audio  controls=\"controls\" >\n",
       "                    <source src=\"data:audio/wav;base64,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\" type=\"audio/wav\" />\n",
       "                    Your browser does not support the audio element.\n",
       "                </audio>\n",
       "              "
      ],
      "text/plain": [
       "<IPython.lib.display.Audio object>"
      ]
     },
     "metadata": {},
     "output_type": "display_data"
    },
    {
     "name": "stdout",
     "output_type": "stream",
     "text": [
      "Playing clean audio 2\n"
     ]
    },
    {
     "data": {
      "text/html": [
       "\n",
       "                <audio  controls=\"controls\" >\n",
       "                    <source src=\"data:audio/wav;base64,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\" type=\"audio/wav\" />\n",
       "                    Your browser does not support the audio element.\n",
       "                </audio>\n",
       "              "
      ],
      "text/plain": [
       "<IPython.lib.display.Audio object>"
      ]
     },
     "metadata": {},
     "output_type": "display_data"
    },
    {
     "name": "stdout",
     "output_type": "stream",
     "text": [
      "Playing poisoned audio 2\n"
     ]
    },
    {
     "data": {
      "text/html": [
       "\n",
       "                <audio  controls=\"controls\" >\n",
       "                    <source src=\"data:audio/wav;base64,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\" type=\"audio/wav\" />\n",
       "                    Your browser does not support the audio element.\n",
       "                </audio>\n",
       "              "
      ],
      "text/plain": [
       "<IPython.lib.display.Audio object>"
      ]
     },
     "metadata": {},
     "output_type": "display_data"
    },
    {
     "name": "stderr",
     "output_type": "stream",
     "text": [
      "100%|██████████| 600/600 [01:30<00:00,  6.60it/s]\n"
     ]
    },
    {
     "name": "stdout",
     "output_type": "stream",
     "text": [
      "Epoch 0, Loss: 1.7814651955167453\n"
     ]
    },
    {
     "name": "stderr",
     "output_type": "stream",
     "text": [
      "100%|██████████| 600/600 [01:30<00:00,  6.64it/s]\n"
     ]
    },
    {
     "name": "stdout",
     "output_type": "stream",
     "text": [
      "Epoch 1, Loss: 1.4489961818357309\n"
     ]
    },
    {
     "name": "stderr",
     "output_type": "stream",
     "text": [
      "100%|██████████| 600/600 [01:30<00:00,  6.65it/s]\n"
     ]
    },
    {
     "name": "stdout",
     "output_type": "stream",
     "text": [
      "Epoch 2, Loss: 1.1160577814032635\n",
      "Test Accuracy: 91.33333333333333%\n",
      "515\n",
      "540\n",
      "ASR: 95.37037037037037%\n",
      "Clean Accuracy Drop (CAD): 7.666666666666671%\n",
      "Backdoor Attack Success Rate: 95.37037037037037%\n"
     ]
    }
   ],
   "source": [
    "poisoning_rates = [0.01, 0.05, 0.1]  \n",
    "decays = [0.3, 0.6]\n",
    "delays = [75, 150]  \n",
    "\n",
    "results = []\n",
    "\n",
    "for poisoning_rate, decay, delay in product(poisoning_rates, decays, delays):\n",
    "    print(f\"Running experiment with poisoning_rate={poisoning_rate} and decay={decay} and delay={delay}\")\n",
    "    backdoor_accuracy, backdoor_attack_success_rate, accuracy_drop = backdoor_attack_and_eval_wav2vec2(poisoning_rate, delay, decay)\n",
    "        \n",
    "    clean_accuracy_after = backdoor_accuracy\n",
    "\n",
    "    results.append({\n",
    "        'poisoning_rate': poisoning_rate,\n",
    "        'decay': decay,\n",
    "        'delay': delay,\n",
    "        'backdoor_success_rate': backdoor_attack_success_rate,\n",
    "        'clean_accuracy_after': clean_accuracy_after,\n",
    "        'clean_accuracy_drop': clean_accuracy - clean_accuracy_after\n",
    "    })\n",
    "\n",
    "# print(results_df)"
   ]
  },
  {
   "cell_type": "code",
   "execution_count": 14,
   "id": "e27662b6",
   "metadata": {
    "execution": {
     "iopub.execute_input": "2024-11-25T18:10:55.918058Z",
     "iopub.status.busy": "2024-11-25T18:10:55.917715Z",
     "iopub.status.idle": "2024-11-25T18:10:55.923282Z",
     "shell.execute_reply": "2024-11-25T18:10:55.922458Z"
    },
    "papermill": {
     "duration": 1.068262,
     "end_time": "2024-11-25T18:10:55.924977",
     "exception": false,
     "start_time": "2024-11-25T18:10:54.856715",
     "status": "completed"
    },
    "tags": []
   },
   "outputs": [],
   "source": [
    "results_df = pd.DataFrame(results)"
   ]
  },
  {
   "cell_type": "code",
   "execution_count": 15,
   "id": "9d2a742e",
   "metadata": {
    "execution": {
     "iopub.execute_input": "2024-11-25T18:10:58.094615Z",
     "iopub.status.busy": "2024-11-25T18:10:58.093793Z",
     "iopub.status.idle": "2024-11-25T18:10:58.109906Z",
     "shell.execute_reply": "2024-11-25T18:10:58.109097Z"
    },
    "papermill": {
     "duration": 1.13309,
     "end_time": "2024-11-25T18:10:58.111622",
     "exception": false,
     "start_time": "2024-11-25T18:10:56.978532",
     "status": "completed"
    },
    "tags": []
   },
   "outputs": [
    {
     "data": {
      "text/html": [
       "<div>\n",
       "<style scoped>\n",
       "    .dataframe tbody tr th:only-of-type {\n",
       "        vertical-align: middle;\n",
       "    }\n",
       "\n",
       "    .dataframe tbody tr th {\n",
       "        vertical-align: top;\n",
       "    }\n",
       "\n",
       "    .dataframe thead th {\n",
       "        text-align: right;\n",
       "    }\n",
       "</style>\n",
       "<table border=\"1\" class=\"dataframe\">\n",
       "  <thead>\n",
       "    <tr style=\"text-align: right;\">\n",
       "      <th></th>\n",
       "      <th>poisoning_rate</th>\n",
       "      <th>decay</th>\n",
       "      <th>delay</th>\n",
       "      <th>backdoor_success_rate</th>\n",
       "      <th>clean_accuracy_after</th>\n",
       "      <th>clean_accuracy_drop</th>\n",
       "    </tr>\n",
       "  </thead>\n",
       "  <tbody>\n",
       "    <tr>\n",
       "      <th>0</th>\n",
       "      <td>0.01</td>\n",
       "      <td>0.3</td>\n",
       "      <td>75</td>\n",
       "      <td>0.000000</td>\n",
       "      <td>98.833333</td>\n",
       "      <td>0.166667</td>\n",
       "    </tr>\n",
       "    <tr>\n",
       "      <th>1</th>\n",
       "      <td>0.01</td>\n",
       "      <td>0.3</td>\n",
       "      <td>150</td>\n",
       "      <td>0.000000</td>\n",
       "      <td>97.666667</td>\n",
       "      <td>1.333333</td>\n",
       "    </tr>\n",
       "    <tr>\n",
       "      <th>2</th>\n",
       "      <td>0.01</td>\n",
       "      <td>0.6</td>\n",
       "      <td>75</td>\n",
       "      <td>0.370370</td>\n",
       "      <td>99.166667</td>\n",
       "      <td>-0.166667</td>\n",
       "    </tr>\n",
       "    <tr>\n",
       "      <th>3</th>\n",
       "      <td>0.01</td>\n",
       "      <td>0.6</td>\n",
       "      <td>150</td>\n",
       "      <td>0.370370</td>\n",
       "      <td>99.000000</td>\n",
       "      <td>0.000000</td>\n",
       "    </tr>\n",
       "    <tr>\n",
       "      <th>4</th>\n",
       "      <td>0.05</td>\n",
       "      <td>0.3</td>\n",
       "      <td>75</td>\n",
       "      <td>10.185185</td>\n",
       "      <td>98.666667</td>\n",
       "      <td>0.333333</td>\n",
       "    </tr>\n",
       "    <tr>\n",
       "      <th>5</th>\n",
       "      <td>0.05</td>\n",
       "      <td>0.3</td>\n",
       "      <td>150</td>\n",
       "      <td>13.333333</td>\n",
       "      <td>97.833333</td>\n",
       "      <td>1.166667</td>\n",
       "    </tr>\n",
       "    <tr>\n",
       "      <th>6</th>\n",
       "      <td>0.05</td>\n",
       "      <td>0.6</td>\n",
       "      <td>75</td>\n",
       "      <td>70.925926</td>\n",
       "      <td>96.500000</td>\n",
       "      <td>2.500000</td>\n",
       "    </tr>\n",
       "    <tr>\n",
       "      <th>7</th>\n",
       "      <td>0.05</td>\n",
       "      <td>0.6</td>\n",
       "      <td>150</td>\n",
       "      <td>42.592593</td>\n",
       "      <td>96.833333</td>\n",
       "      <td>2.166667</td>\n",
       "    </tr>\n",
       "    <tr>\n",
       "      <th>8</th>\n",
       "      <td>0.10</td>\n",
       "      <td>0.3</td>\n",
       "      <td>75</td>\n",
       "      <td>83.148148</td>\n",
       "      <td>93.333333</td>\n",
       "      <td>5.666667</td>\n",
       "    </tr>\n",
       "    <tr>\n",
       "      <th>9</th>\n",
       "      <td>0.10</td>\n",
       "      <td>0.3</td>\n",
       "      <td>150</td>\n",
       "      <td>81.666667</td>\n",
       "      <td>90.666667</td>\n",
       "      <td>8.333333</td>\n",
       "    </tr>\n",
       "    <tr>\n",
       "      <th>10</th>\n",
       "      <td>0.10</td>\n",
       "      <td>0.6</td>\n",
       "      <td>75</td>\n",
       "      <td>96.666667</td>\n",
       "      <td>83.333333</td>\n",
       "      <td>15.666667</td>\n",
       "    </tr>\n",
       "    <tr>\n",
       "      <th>11</th>\n",
       "      <td>0.10</td>\n",
       "      <td>0.6</td>\n",
       "      <td>150</td>\n",
       "      <td>95.370370</td>\n",
       "      <td>91.333333</td>\n",
       "      <td>7.666667</td>\n",
       "    </tr>\n",
       "  </tbody>\n",
       "</table>\n",
       "</div>"
      ],
      "text/plain": [
       "    poisoning_rate  decay  delay  backdoor_success_rate  clean_accuracy_after  \\\n",
       "0             0.01    0.3     75               0.000000             98.833333   \n",
       "1             0.01    0.3    150               0.000000             97.666667   \n",
       "2             0.01    0.6     75               0.370370             99.166667   \n",
       "3             0.01    0.6    150               0.370370             99.000000   \n",
       "4             0.05    0.3     75              10.185185             98.666667   \n",
       "5             0.05    0.3    150              13.333333             97.833333   \n",
       "6             0.05    0.6     75              70.925926             96.500000   \n",
       "7             0.05    0.6    150              42.592593             96.833333   \n",
       "8             0.10    0.3     75              83.148148             93.333333   \n",
       "9             0.10    0.3    150              81.666667             90.666667   \n",
       "10            0.10    0.6     75              96.666667             83.333333   \n",
       "11            0.10    0.6    150              95.370370             91.333333   \n",
       "\n",
       "    clean_accuracy_drop  \n",
       "0              0.166667  \n",
       "1              1.333333  \n",
       "2             -0.166667  \n",
       "3              0.000000  \n",
       "4              0.333333  \n",
       "5              1.166667  \n",
       "6              2.500000  \n",
       "7              2.166667  \n",
       "8              5.666667  \n",
       "9              8.333333  \n",
       "10            15.666667  \n",
       "11             7.666667  "
      ]
     },
     "execution_count": 15,
     "metadata": {},
     "output_type": "execute_result"
    }
   ],
   "source": [
    "results_df"
   ]
  },
  {
   "cell_type": "code",
   "execution_count": 16,
   "id": "d0b377ab",
   "metadata": {
    "execution": {
     "iopub.execute_input": "2024-11-25T18:11:00.176502Z",
     "iopub.status.busy": "2024-11-25T18:11:00.176136Z",
     "iopub.status.idle": "2024-11-25T18:11:00.184879Z",
     "shell.execute_reply": "2024-11-25T18:11:00.184028Z"
    },
    "papermill": {
     "duration": 1.067986,
     "end_time": "2024-11-25T18:11:00.186616",
     "exception": false,
     "start_time": "2024-11-25T18:10:59.118630",
     "status": "completed"
    },
    "tags": []
   },
   "outputs": [],
   "source": [
    "results_df.to_csv('Wav2Vec2-SD-BKDR-Reverb.csv', sep='\\t', index=False)"
   ]
  },
  {
   "cell_type": "code",
   "execution_count": null,
   "id": "d0702ecd",
   "metadata": {
    "papermill": {
     "duration": 1.069705,
     "end_time": "2024-11-25T18:11:02.335514",
     "exception": false,
     "start_time": "2024-11-25T18:11:01.265809",
     "status": "completed"
    },
    "tags": []
   },
   "outputs": [],
   "source": []
  }
 ],
 "metadata": {
  "kaggle": {
   "accelerator": "gpu",
   "dataSources": [
    {
     "datasetId": 5789127,
     "sourceId": 9510683,
     "sourceType": "datasetVersion"
    }
   ],
   "isGpuEnabled": true,
   "isInternetEnabled": true,
   "language": "python",
   "sourceType": "notebook"
  },
  "kernelspec": {
   "display_name": "Python 3",
   "language": "python",
   "name": "python3"
  },
  "language_info": {
   "codemirror_mode": {
    "name": "ipython",
    "version": 3
   },
   "file_extension": ".py",
   "mimetype": "text/x-python",
   "name": "python",
   "nbconvert_exporter": "python",
   "pygments_lexer": "ipython3",
   "version": "3.10.14"
  },
  "papermill": {
   "default_parameters": {},
   "duration": 3852.555973,
   "end_time": "2024-11-25T18:11:06.968201",
   "environment_variables": {},
   "exception": null,
   "input_path": "__notebook__.ipynb",
   "output_path": "__notebook__.ipynb",
   "parameters": {},
   "start_time": "2024-11-25T17:06:54.412228",
   "version": "2.6.0"
  },
  "widgets": {
   "application/vnd.jupyter.widget-state+json": {
    "state": {
     "0e1520269dc64d20920f2b0e8efc5c6b": {
      "model_module": "@jupyter-widgets/controls",
      "model_module_version": "1.5.0",
      "model_name": "DescriptionStyleModel",
      "state": {
       "_model_module": "@jupyter-widgets/controls",
       "_model_module_version": "1.5.0",
       "_model_name": "DescriptionStyleModel",
       "_view_count": null,
       "_view_module": "@jupyter-widgets/base",
       "_view_module_version": "1.2.0",
       "_view_name": "StyleView",
       "description_width": ""
      }
     },
     "10d1262b93754f6d9f2d28c42707db6f": {
      "model_module": "@jupyter-widgets/base",
      "model_module_version": "1.2.0",
      "model_name": "LayoutModel",
      "state": {
       "_model_module": "@jupyter-widgets/base",
       "_model_module_version": "1.2.0",
       "_model_name": "LayoutModel",
       "_view_count": null,
       "_view_module": "@jupyter-widgets/base",
       "_view_module_version": "1.2.0",
       "_view_name": "LayoutView",
       "align_content": null,
       "align_items": null,
       "align_self": null,
       "border": null,
       "bottom": null,
       "display": null,
       "flex": null,
       "flex_flow": null,
       "grid_area": null,
       "grid_auto_columns": null,
       "grid_auto_flow": null,
       "grid_auto_rows": null,
       "grid_column": null,
       "grid_gap": null,
       "grid_row": null,
       "grid_template_areas": null,
       "grid_template_columns": null,
       "grid_template_rows": null,
       "height": null,
       "justify_content": null,
       "justify_items": null,
       "left": null,
       "margin": null,
       "max_height": null,
       "max_width": null,
       "min_height": null,
       "min_width": null,
       "object_fit": null,
       "object_position": null,
       "order": null,
       "overflow": null,
       "overflow_x": null,
       "overflow_y": null,
       "padding": null,
       "right": null,
       "top": null,
       "visibility": null,
       "width": null
      }
     },
     "13243fd553da4de89c5d267b4f73a92d": {
      "model_module": "@jupyter-widgets/controls",
      "model_module_version": "1.5.0",
      "model_name": "DescriptionStyleModel",
      "state": {
       "_model_module": "@jupyter-widgets/controls",
       "_model_module_version": "1.5.0",
       "_model_name": "DescriptionStyleModel",
       "_view_count": null,
       "_view_module": "@jupyter-widgets/base",
       "_view_module_version": "1.2.0",
       "_view_name": "StyleView",
       "description_width": ""
      }
     },
     "136d3567af264b3eaea2c4c4749d3ed6": {
      "model_module": "@jupyter-widgets/controls",
      "model_module_version": "1.5.0",
      "model_name": "HBoxModel",
      "state": {
       "_dom_classes": [],
       "_model_module": "@jupyter-widgets/controls",
       "_model_module_version": "1.5.0",
       "_model_name": "HBoxModel",
       "_view_count": null,
       "_view_module": "@jupyter-widgets/controls",
       "_view_module_version": "1.5.0",
       "_view_name": "HBoxView",
       "box_style": "",
       "children": [
        "IPY_MODEL_6ec8226003984172bc1074b931728d07",
        "IPY_MODEL_c70336a0b5c14f76a714dca3d7fa7041",
        "IPY_MODEL_6db16271df3a463eb9ece26e08f238c2"
       ],
       "layout": "IPY_MODEL_dc028d75e9f74d10a9525e0da3e094f7"
      }
     },
     "36695cb06c124502993a779177988b53": {
      "model_module": "@jupyter-widgets/controls",
      "model_module_version": "1.5.0",
      "model_name": "FloatProgressModel",
      "state": {
       "_dom_classes": [],
       "_model_module": "@jupyter-widgets/controls",
       "_model_module_version": "1.5.0",
       "_model_name": "FloatProgressModel",
       "_view_count": null,
       "_view_module": "@jupyter-widgets/controls",
       "_view_module_version": "1.5.0",
       "_view_name": "ProgressView",
       "bar_style": "success",
       "description": "",
       "description_tooltip": null,
       "layout": "IPY_MODEL_10d1262b93754f6d9f2d28c42707db6f",
       "max": 85.0,
       "min": 0.0,
       "orientation": "horizontal",
       "style": "IPY_MODEL_c0a8dac9a70a4fae8f6b914edc5c550a",
       "value": 85.0
      }
     },
     "37363d5c3ecb4b82b7c9083794c8edc4": {
      "model_module": "@jupyter-widgets/base",
      "model_module_version": "1.2.0",
      "model_name": "LayoutModel",
      "state": {
       "_model_module": "@jupyter-widgets/base",
       "_model_module_version": "1.2.0",
       "_model_name": "LayoutModel",
       "_view_count": null,
       "_view_module": "@jupyter-widgets/base",
       "_view_module_version": "1.2.0",
       "_view_name": "LayoutView",
       "align_content": null,
       "align_items": null,
       "align_self": null,
       "border": null,
       "bottom": null,
       "display": null,
       "flex": null,
       "flex_flow": null,
       "grid_area": null,
       "grid_auto_columns": null,
       "grid_auto_flow": null,
       "grid_auto_rows": null,
       "grid_column": null,
       "grid_gap": null,
       "grid_row": null,
       "grid_template_areas": null,
       "grid_template_columns": null,
       "grid_template_rows": null,
       "height": null,
       "justify_content": null,
       "justify_items": null,
       "left": null,
       "margin": null,
       "max_height": null,
       "max_width": null,
       "min_height": null,
       "min_width": null,
       "object_fit": null,
       "object_position": null,
       "order": null,
       "overflow": null,
       "overflow_x": null,
       "overflow_y": null,
       "padding": null,
       "right": null,
       "top": null,
       "visibility": null,
       "width": null
      }
     },
     "393d2a0bf6fa4d5c9711f444a5db1b1b": {
      "model_module": "@jupyter-widgets/controls",
      "model_module_version": "1.5.0",
      "model_name": "DescriptionStyleModel",
      "state": {
       "_model_module": "@jupyter-widgets/controls",
       "_model_module_version": "1.5.0",
       "_model_name": "DescriptionStyleModel",
       "_view_count": null,
       "_view_module": "@jupyter-widgets/base",
       "_view_module_version": "1.2.0",
       "_view_name": "StyleView",
       "description_width": ""
      }
     },
     "3d989f0aadc244c19e515e863d2d9005": {
      "model_module": "@jupyter-widgets/controls",
      "model_module_version": "1.5.0",
      "model_name": "HTMLModel",
      "state": {
       "_dom_classes": [],
       "_model_module": "@jupyter-widgets/controls",
       "_model_module_version": "1.5.0",
       "_model_name": "HTMLModel",
       "_view_count": null,
       "_view_module": "@jupyter-widgets/controls",
       "_view_module_version": "1.5.0",
       "_view_name": "HTMLView",
       "description": "",
       "description_tooltip": null,
       "layout": "IPY_MODEL_b35290a659764f02bf1fc577a5f9714e",
       "placeholder": "​",
       "style": "IPY_MODEL_393d2a0bf6fa4d5c9711f444a5db1b1b",
       "value": "config.json: 100%"
      }
     },
     "402ab7246f8d4a98be7011239bedb0fc": {
      "model_module": "@jupyter-widgets/base",
      "model_module_version": "1.2.0",
      "model_name": "LayoutModel",
      "state": {
       "_model_module": "@jupyter-widgets/base",
       "_model_module_version": "1.2.0",
       "_model_name": "LayoutModel",
       "_view_count": null,
       "_view_module": "@jupyter-widgets/base",
       "_view_module_version": "1.2.0",
       "_view_name": "LayoutView",
       "align_content": null,
       "align_items": null,
       "align_self": null,
       "border": null,
       "bottom": null,
       "display": null,
       "flex": null,
       "flex_flow": null,
       "grid_area": null,
       "grid_auto_columns": null,
       "grid_auto_flow": null,
       "grid_auto_rows": null,
       "grid_column": null,
       "grid_gap": null,
       "grid_row": null,
       "grid_template_areas": null,
       "grid_template_columns": null,
       "grid_template_rows": null,
       "height": null,
       "justify_content": null,
       "justify_items": null,
       "left": null,
       "margin": null,
       "max_height": null,
       "max_width": null,
       "min_height": null,
       "min_width": null,
       "object_fit": null,
       "object_position": null,
       "order": null,
       "overflow": null,
       "overflow_x": null,
       "overflow_y": null,
       "padding": null,
       "right": null,
       "top": null,
       "visibility": null,
       "width": null
      }
     },
     "42e6d263d20a4a3da40e196060685d8d": {
      "model_module": "@jupyter-widgets/controls",
      "model_module_version": "1.5.0",
      "model_name": "HBoxModel",
      "state": {
       "_dom_classes": [],
       "_model_module": "@jupyter-widgets/controls",
       "_model_module_version": "1.5.0",
       "_model_name": "HBoxModel",
       "_view_count": null,
       "_view_module": "@jupyter-widgets/controls",
       "_view_module_version": "1.5.0",
       "_view_name": "HBoxView",
       "box_style": "",
       "children": [
        "IPY_MODEL_59e88236bbdc48fc9bac558025f128ed",
        "IPY_MODEL_36695cb06c124502993a779177988b53",
        "IPY_MODEL_808833a87bf44172975aad9e21191d83"
       ],
       "layout": "IPY_MODEL_6927fc59b4e3440a8f4cf79adda42855"
      }
     },
     "47d66a0991a941e1893240cd139ac77d": {
      "model_module": "@jupyter-widgets/base",
      "model_module_version": "1.2.0",
      "model_name": "LayoutModel",
      "state": {
       "_model_module": "@jupyter-widgets/base",
       "_model_module_version": "1.2.0",
       "_model_name": "LayoutModel",
       "_view_count": null,
       "_view_module": "@jupyter-widgets/base",
       "_view_module_version": "1.2.0",
       "_view_name": "LayoutView",
       "align_content": null,
       "align_items": null,
       "align_self": null,
       "border": null,
       "bottom": null,
       "display": null,
       "flex": null,
       "flex_flow": null,
       "grid_area": null,
       "grid_auto_columns": null,
       "grid_auto_flow": null,
       "grid_auto_rows": null,
       "grid_column": null,
       "grid_gap": null,
       "grid_row": null,
       "grid_template_areas": null,
       "grid_template_columns": null,
       "grid_template_rows": null,
       "height": null,
       "justify_content": null,
       "justify_items": null,
       "left": null,
       "margin": null,
       "max_height": null,
       "max_width": null,
       "min_height": null,
       "min_width": null,
       "object_fit": null,
       "object_position": null,
       "order": null,
       "overflow": null,
       "overflow_x": null,
       "overflow_y": null,
       "padding": null,
       "right": null,
       "top": null,
       "visibility": null,
       "width": null
      }
     },
     "4ac47c4fd1324f658c71b960c6e438a7": {
      "model_module": "@jupyter-widgets/controls",
      "model_module_version": "1.5.0",
      "model_name": "ProgressStyleModel",
      "state": {
       "_model_module": "@jupyter-widgets/controls",
       "_model_module_version": "1.5.0",
       "_model_name": "ProgressStyleModel",
       "_view_count": null,
       "_view_module": "@jupyter-widgets/base",
       "_view_module_version": "1.2.0",
       "_view_name": "StyleView",
       "bar_color": null,
       "description_width": ""
      }
     },
     "545af21a1d9848cfaaa09e4a1bc893d9": {
      "model_module": "@jupyter-widgets/base",
      "model_module_version": "1.2.0",
      "model_name": "LayoutModel",
      "state": {
       "_model_module": "@jupyter-widgets/base",
       "_model_module_version": "1.2.0",
       "_model_name": "LayoutModel",
       "_view_count": null,
       "_view_module": "@jupyter-widgets/base",
       "_view_module_version": "1.2.0",
       "_view_name": "LayoutView",
       "align_content": null,
       "align_items": null,
       "align_self": null,
       "border": null,
       "bottom": null,
       "display": null,
       "flex": null,
       "flex_flow": null,
       "grid_area": null,
       "grid_auto_columns": null,
       "grid_auto_flow": null,
       "grid_auto_rows": null,
       "grid_column": null,
       "grid_gap": null,
       "grid_row": null,
       "grid_template_areas": null,
       "grid_template_columns": null,
       "grid_template_rows": null,
       "height": null,
       "justify_content": null,
       "justify_items": null,
       "left": null,
       "margin": null,
       "max_height": null,
       "max_width": null,
       "min_height": null,
       "min_width": null,
       "object_fit": null,
       "object_position": null,
       "order": null,
       "overflow": null,
       "overflow_x": null,
       "overflow_y": null,
       "padding": null,
       "right": null,
       "top": null,
       "visibility": null,
       "width": null
      }
     },
     "59e88236bbdc48fc9bac558025f128ed": {
      "model_module": "@jupyter-widgets/controls",
      "model_module_version": "1.5.0",
      "model_name": "HTMLModel",
      "state": {
       "_dom_classes": [],
       "_model_module": "@jupyter-widgets/controls",
       "_model_module_version": "1.5.0",
       "_model_name": "HTMLModel",
       "_view_count": null,
       "_view_module": "@jupyter-widgets/controls",
       "_view_module_version": "1.5.0",
       "_view_name": "HTMLView",
       "description": "",
       "description_tooltip": null,
       "layout": "IPY_MODEL_b634934f10db490c84ea3d60e35146b6",
       "placeholder": "​",
       "style": "IPY_MODEL_cc62282f53d540fa81aceae37d5da144",
       "value": "special_tokens_map.json: 100%"
      }
     },
     "633792cec04b4d639a76525aa74dd86d": {
      "model_module": "@jupyter-widgets/controls",
      "model_module_version": "1.5.0",
      "model_name": "DescriptionStyleModel",
      "state": {
       "_model_module": "@jupyter-widgets/controls",
       "_model_module_version": "1.5.0",
       "_model_name": "DescriptionStyleModel",
       "_view_count": null,
       "_view_module": "@jupyter-widgets/base",
       "_view_module_version": "1.2.0",
       "_view_name": "StyleView",
       "description_width": ""
      }
     },
     "64816387935d48a0b8623db014870b20": {
      "model_module": "@jupyter-widgets/controls",
      "model_module_version": "1.5.0",
      "model_name": "HTMLModel",
      "state": {
       "_dom_classes": [],
       "_model_module": "@jupyter-widgets/controls",
       "_model_module_version": "1.5.0",
       "_model_name": "HTMLModel",
       "_view_count": null,
       "_view_module": "@jupyter-widgets/controls",
       "_view_module_version": "1.5.0",
       "_view_name": "HTMLView",
       "description": "",
       "description_tooltip": null,
       "layout": "IPY_MODEL_c08965b221fe4bbd9e8da867620c564d",
       "placeholder": "​",
       "style": "IPY_MODEL_e3cd7ab808604a82a32c24f012205b31",
       "value": "model.safetensors: 100%"
      }
     },
     "6927fc59b4e3440a8f4cf79adda42855": {
      "model_module": "@jupyter-widgets/base",
      "model_module_version": "1.2.0",
      "model_name": "LayoutModel",
      "state": {
       "_model_module": "@jupyter-widgets/base",
       "_model_module_version": "1.2.0",
       "_model_name": "LayoutModel",
       "_view_count": null,
       "_view_module": "@jupyter-widgets/base",
       "_view_module_version": "1.2.0",
       "_view_name": "LayoutView",
       "align_content": null,
       "align_items": null,
       "align_self": null,
       "border": null,
       "bottom": null,
       "display": null,
       "flex": null,
       "flex_flow": null,
       "grid_area": null,
       "grid_auto_columns": null,
       "grid_auto_flow": null,
       "grid_auto_rows": null,
       "grid_column": null,
       "grid_gap": null,
       "grid_row": null,
       "grid_template_areas": null,
       "grid_template_columns": null,
       "grid_template_rows": null,
       "height": null,
       "justify_content": null,
       "justify_items": null,
       "left": null,
       "margin": null,
       "max_height": null,
       "max_width": null,
       "min_height": null,
       "min_width": null,
       "object_fit": null,
       "object_position": null,
       "order": null,
       "overflow": null,
       "overflow_x": null,
       "overflow_y": null,
       "padding": null,
       "right": null,
       "top": null,
       "visibility": null,
       "width": null
      }
     },
     "6caf7960978c4df09586bcacc82b8eae": {
      "model_module": "@jupyter-widgets/base",
      "model_module_version": "1.2.0",
      "model_name": "LayoutModel",
      "state": {
       "_model_module": "@jupyter-widgets/base",
       "_model_module_version": "1.2.0",
       "_model_name": "LayoutModel",
       "_view_count": null,
       "_view_module": "@jupyter-widgets/base",
       "_view_module_version": "1.2.0",
       "_view_name": "LayoutView",
       "align_content": null,
       "align_items": null,
       "align_self": null,
       "border": null,
       "bottom": null,
       "display": null,
       "flex": null,
       "flex_flow": null,
       "grid_area": null,
       "grid_auto_columns": null,
       "grid_auto_flow": null,
       "grid_auto_rows": null,
       "grid_column": null,
       "grid_gap": null,
       "grid_row": null,
       "grid_template_areas": null,
       "grid_template_columns": null,
       "grid_template_rows": null,
       "height": null,
       "justify_content": null,
       "justify_items": null,
       "left": null,
       "margin": null,
       "max_height": null,
       "max_width": null,
       "min_height": null,
       "min_width": null,
       "object_fit": null,
       "object_position": null,
       "order": null,
       "overflow": null,
       "overflow_x": null,
       "overflow_y": null,
       "padding": null,
       "right": null,
       "top": null,
       "visibility": null,
       "width": null
      }
     },
     "6db16271df3a463eb9ece26e08f238c2": {
      "model_module": "@jupyter-widgets/controls",
      "model_module_version": "1.5.0",
      "model_name": "HTMLModel",
      "state": {
       "_dom_classes": [],
       "_model_module": "@jupyter-widgets/controls",
       "_model_module_version": "1.5.0",
       "_model_name": "HTMLModel",
       "_view_count": null,
       "_view_module": "@jupyter-widgets/controls",
       "_view_module_version": "1.5.0",
       "_view_name": "HTMLView",
       "description": "",
       "description_tooltip": null,
       "layout": "IPY_MODEL_545af21a1d9848cfaaa09e4a1bc893d9",
       "placeholder": "​",
       "style": "IPY_MODEL_bae97675a032439ead1940dfb94b865b",
       "value": " 300/300 [00:00&lt;00:00, 30.3kB/s]"
      }
     },
     "6ec8226003984172bc1074b931728d07": {
      "model_module": "@jupyter-widgets/controls",
      "model_module_version": "1.5.0",
      "model_name": "HTMLModel",
      "state": {
       "_dom_classes": [],
       "_model_module": "@jupyter-widgets/controls",
       "_model_module_version": "1.5.0",
       "_model_name": "HTMLModel",
       "_view_count": null,
       "_view_module": "@jupyter-widgets/controls",
       "_view_module_version": "1.5.0",
       "_view_name": "HTMLView",
       "description": "",
       "description_tooltip": null,
       "layout": "IPY_MODEL_b5f0bd81fc0d460bbc368f2135ae133f",
       "placeholder": "​",
       "style": "IPY_MODEL_d51a3465d95d4fb9985423a7d5bb9e07",
       "value": "vocab.json: 100%"
      }
     },
     "7490311565c0486cba6e359bfc8aca63": {
      "model_module": "@jupyter-widgets/controls",
      "model_module_version": "1.5.0",
      "model_name": "HTMLModel",
      "state": {
       "_dom_classes": [],
       "_model_module": "@jupyter-widgets/controls",
       "_model_module_version": "1.5.0",
       "_model_name": "HTMLModel",
       "_view_count": null,
       "_view_module": "@jupyter-widgets/controls",
       "_view_module_version": "1.5.0",
       "_view_name": "HTMLView",
       "description": "",
       "description_tooltip": null,
       "layout": "IPY_MODEL_a9ce58486152487fa22eae97c3c75676",
       "placeholder": "​",
       "style": "IPY_MODEL_97f99aace7b04e69a985da635ab61a3e",
       "value": " 262/262 [00:00&lt;00:00, 23.9kB/s]"
      }
     },
     "77869641de794b69b7af93e39f4e812c": {
      "model_module": "@jupyter-widgets/controls",
      "model_module_version": "1.5.0",
      "model_name": "HTMLModel",
      "state": {
       "_dom_classes": [],
       "_model_module": "@jupyter-widgets/controls",
       "_model_module_version": "1.5.0",
       "_model_name": "HTMLModel",
       "_view_count": null,
       "_view_module": "@jupyter-widgets/controls",
       "_view_module_version": "1.5.0",
       "_view_name": "HTMLView",
       "description": "",
       "description_tooltip": null,
       "layout": "IPY_MODEL_6caf7960978c4df09586bcacc82b8eae",
       "placeholder": "​",
       "style": "IPY_MODEL_0e1520269dc64d20920f2b0e8efc5c6b",
       "value": "preprocessor_config.json: 100%"
      }
     },
     "7d9ceef2b008488d98921c2f6ad17269": {
      "model_module": "@jupyter-widgets/controls",
      "model_module_version": "1.5.0",
      "model_name": "ProgressStyleModel",
      "state": {
       "_model_module": "@jupyter-widgets/controls",
       "_model_module_version": "1.5.0",
       "_model_name": "ProgressStyleModel",
       "_view_count": null,
       "_view_module": "@jupyter-widgets/base",
       "_view_module_version": "1.2.0",
       "_view_name": "StyleView",
       "bar_color": null,
       "description_width": ""
      }
     },
     "808833a87bf44172975aad9e21191d83": {
      "model_module": "@jupyter-widgets/controls",
      "model_module_version": "1.5.0",
      "model_name": "HTMLModel",
      "state": {
       "_dom_classes": [],
       "_model_module": "@jupyter-widgets/controls",
       "_model_module_version": "1.5.0",
       "_model_name": "HTMLModel",
       "_view_count": null,
       "_view_module": "@jupyter-widgets/controls",
       "_view_module_version": "1.5.0",
       "_view_name": "HTMLView",
       "description": "",
       "description_tooltip": null,
       "layout": "IPY_MODEL_a65243890c9a40f58211f6ba606ca026",
       "placeholder": "​",
       "style": "IPY_MODEL_13243fd553da4de89c5d267b4f73a92d",
       "value": " 85.0/85.0 [00:00&lt;00:00, 8.75kB/s]"
      }
     },
     "863b1d82acd943dcae77869b1f07b1ac": {
      "model_module": "@jupyter-widgets/controls",
      "model_module_version": "1.5.0",
      "model_name": "FloatProgressModel",
      "state": {
       "_dom_classes": [],
       "_model_module": "@jupyter-widgets/controls",
       "_model_module_version": "1.5.0",
       "_model_name": "FloatProgressModel",
       "_view_count": null,
       "_view_module": "@jupyter-widgets/controls",
       "_view_module_version": "1.5.0",
       "_view_name": "ProgressView",
       "bar_style": "success",
       "description": "",
       "description_tooltip": null,
       "layout": "IPY_MODEL_880eb759c1ca4aea8166231c13cc7730",
       "max": 262.0,
       "min": 0.0,
       "orientation": "horizontal",
       "style": "IPY_MODEL_7d9ceef2b008488d98921c2f6ad17269",
       "value": 262.0
      }
     },
     "880eb759c1ca4aea8166231c13cc7730": {
      "model_module": "@jupyter-widgets/base",
      "model_module_version": "1.2.0",
      "model_name": "LayoutModel",
      "state": {
       "_model_module": "@jupyter-widgets/base",
       "_model_module_version": "1.2.0",
       "_model_name": "LayoutModel",
       "_view_count": null,
       "_view_module": "@jupyter-widgets/base",
       "_view_module_version": "1.2.0",
       "_view_name": "LayoutView",
       "align_content": null,
       "align_items": null,
       "align_self": null,
       "border": null,
       "bottom": null,
       "display": null,
       "flex": null,
       "flex_flow": null,
       "grid_area": null,
       "grid_auto_columns": null,
       "grid_auto_flow": null,
       "grid_auto_rows": null,
       "grid_column": null,
       "grid_gap": null,
       "grid_row": null,
       "grid_template_areas": null,
       "grid_template_columns": null,
       "grid_template_rows": null,
       "height": null,
       "justify_content": null,
       "justify_items": null,
       "left": null,
       "margin": null,
       "max_height": null,
       "max_width": null,
       "min_height": null,
       "min_width": null,
       "object_fit": null,
       "object_position": null,
       "order": null,
       "overflow": null,
       "overflow_x": null,
       "overflow_y": null,
       "padding": null,
       "right": null,
       "top": null,
       "visibility": null,
       "width": null
      }
     },
     "97f99aace7b04e69a985da635ab61a3e": {
      "model_module": "@jupyter-widgets/controls",
      "model_module_version": "1.5.0",
      "model_name": "DescriptionStyleModel",
      "state": {
       "_model_module": "@jupyter-widgets/controls",
       "_model_module_version": "1.5.0",
       "_model_name": "DescriptionStyleModel",
       "_view_count": null,
       "_view_module": "@jupyter-widgets/base",
       "_view_module_version": "1.2.0",
       "_view_name": "StyleView",
       "description_width": ""
      }
     },
     "a15a7e8e31124902adb32a5d080441d0": {
      "model_module": "@jupyter-widgets/controls",
      "model_module_version": "1.5.0",
      "model_name": "HTMLModel",
      "state": {
       "_dom_classes": [],
       "_model_module": "@jupyter-widgets/controls",
       "_model_module_version": "1.5.0",
       "_model_name": "HTMLModel",
       "_view_count": null,
       "_view_module": "@jupyter-widgets/controls",
       "_view_module_version": "1.5.0",
       "_view_name": "HTMLView",
       "description": "",
       "description_tooltip": null,
       "layout": "IPY_MODEL_fc79dfdf9b87499b8502ca808f9eb598",
       "placeholder": "​",
       "style": "IPY_MODEL_a9e0db2e99fb46429335ebcd967bc03f",
       "value": " 1.26G/1.26G [00:08&lt;00:00, 165MB/s]"
      }
     },
     "a31a353895df424c83b2474a6e2aa9f0": {
      "model_module": "@jupyter-widgets/base",
      "model_module_version": "1.2.0",
      "model_name": "LayoutModel",
      "state": {
       "_model_module": "@jupyter-widgets/base",
       "_model_module_version": "1.2.0",
       "_model_name": "LayoutModel",
       "_view_count": null,
       "_view_module": "@jupyter-widgets/base",
       "_view_module_version": "1.2.0",
       "_view_name": "LayoutView",
       "align_content": null,
       "align_items": null,
       "align_self": null,
       "border": null,
       "bottom": null,
       "display": null,
       "flex": null,
       "flex_flow": null,
       "grid_area": null,
       "grid_auto_columns": null,
       "grid_auto_flow": null,
       "grid_auto_rows": null,
       "grid_column": null,
       "grid_gap": null,
       "grid_row": null,
       "grid_template_areas": null,
       "grid_template_columns": null,
       "grid_template_rows": null,
       "height": null,
       "justify_content": null,
       "justify_items": null,
       "left": null,
       "margin": null,
       "max_height": null,
       "max_width": null,
       "min_height": null,
       "min_width": null,
       "object_fit": null,
       "object_position": null,
       "order": null,
       "overflow": null,
       "overflow_x": null,
       "overflow_y": null,
       "padding": null,
       "right": null,
       "top": null,
       "visibility": null,
       "width": null
      }
     },
     "a386a27a7299414ea6763e9e95c319b0": {
      "model_module": "@jupyter-widgets/controls",
      "model_module_version": "1.5.0",
      "model_name": "HBoxModel",
      "state": {
       "_dom_classes": [],
       "_model_module": "@jupyter-widgets/controls",
       "_model_module_version": "1.5.0",
       "_model_name": "HBoxModel",
       "_view_count": null,
       "_view_module": "@jupyter-widgets/controls",
       "_view_module_version": "1.5.0",
       "_view_name": "HBoxView",
       "box_style": "",
       "children": [
        "IPY_MODEL_64816387935d48a0b8623db014870b20",
        "IPY_MODEL_fd1c7380d11b42c49966cf3bba9997f8",
        "IPY_MODEL_a15a7e8e31124902adb32a5d080441d0"
       ],
       "layout": "IPY_MODEL_d02332c8426842bcadd15cd9779b49f0"
      }
     },
     "a5a99915221346c79249eb583a75455c": {
      "model_module": "@jupyter-widgets/controls",
      "model_module_version": "1.5.0",
      "model_name": "FloatProgressModel",
      "state": {
       "_dom_classes": [],
       "_model_module": "@jupyter-widgets/controls",
       "_model_module_version": "1.5.0",
       "_model_name": "FloatProgressModel",
       "_view_count": null,
       "_view_module": "@jupyter-widgets/controls",
       "_view_module_version": "1.5.0",
       "_view_name": "ProgressView",
       "bar_style": "success",
       "description": "",
       "description_tooltip": null,
       "layout": "IPY_MODEL_402ab7246f8d4a98be7011239bedb0fc",
       "max": 1531.0,
       "min": 0.0,
       "orientation": "horizontal",
       "style": "IPY_MODEL_fabb6fb6809643049e09714429bb0fc7",
       "value": 1531.0
      }
     },
     "a63afcf7c2d54a66a869cc4af9f56f5f": {
      "model_module": "@jupyter-widgets/controls",
      "model_module_version": "1.5.0",
      "model_name": "HTMLModel",
      "state": {
       "_dom_classes": [],
       "_model_module": "@jupyter-widgets/controls",
       "_model_module_version": "1.5.0",
       "_model_name": "HTMLModel",
       "_view_count": null,
       "_view_module": "@jupyter-widgets/controls",
       "_view_module_version": "1.5.0",
       "_view_name": "HTMLView",
       "description": "",
       "description_tooltip": null,
       "layout": "IPY_MODEL_db08ec961dfb40c6b71900be3d7e8372",
       "placeholder": "​",
       "style": "IPY_MODEL_633792cec04b4d639a76525aa74dd86d",
       "value": " 1.53k/1.53k [00:00&lt;00:00, 146kB/s]"
      }
     },
     "a65243890c9a40f58211f6ba606ca026": {
      "model_module": "@jupyter-widgets/base",
      "model_module_version": "1.2.0",
      "model_name": "LayoutModel",
      "state": {
       "_model_module": "@jupyter-widgets/base",
       "_model_module_version": "1.2.0",
       "_model_name": "LayoutModel",
       "_view_count": null,
       "_view_module": "@jupyter-widgets/base",
       "_view_module_version": "1.2.0",
       "_view_name": "LayoutView",
       "align_content": null,
       "align_items": null,
       "align_self": null,
       "border": null,
       "bottom": null,
       "display": null,
       "flex": null,
       "flex_flow": null,
       "grid_area": null,
       "grid_auto_columns": null,
       "grid_auto_flow": null,
       "grid_auto_rows": null,
       "grid_column": null,
       "grid_gap": null,
       "grid_row": null,
       "grid_template_areas": null,
       "grid_template_columns": null,
       "grid_template_rows": null,
       "height": null,
       "justify_content": null,
       "justify_items": null,
       "left": null,
       "margin": null,
       "max_height": null,
       "max_width": null,
       "min_height": null,
       "min_width": null,
       "object_fit": null,
       "object_position": null,
       "order": null,
       "overflow": null,
       "overflow_x": null,
       "overflow_y": null,
       "padding": null,
       "right": null,
       "top": null,
       "visibility": null,
       "width": null
      }
     },
     "a6ade69e7e404366a9422e452418a336": {
      "model_module": "@jupyter-widgets/controls",
      "model_module_version": "1.5.0",
      "model_name": "ProgressStyleModel",
      "state": {
       "_model_module": "@jupyter-widgets/controls",
       "_model_module_version": "1.5.0",
       "_model_name": "ProgressStyleModel",
       "_view_count": null,
       "_view_module": "@jupyter-widgets/base",
       "_view_module_version": "1.2.0",
       "_view_name": "StyleView",
       "bar_color": null,
       "description_width": ""
      }
     },
     "a9ce58486152487fa22eae97c3c75676": {
      "model_module": "@jupyter-widgets/base",
      "model_module_version": "1.2.0",
      "model_name": "LayoutModel",
      "state": {
       "_model_module": "@jupyter-widgets/base",
       "_model_module_version": "1.2.0",
       "_model_name": "LayoutModel",
       "_view_count": null,
       "_view_module": "@jupyter-widgets/base",
       "_view_module_version": "1.2.0",
       "_view_name": "LayoutView",
       "align_content": null,
       "align_items": null,
       "align_self": null,
       "border": null,
       "bottom": null,
       "display": null,
       "flex": null,
       "flex_flow": null,
       "grid_area": null,
       "grid_auto_columns": null,
       "grid_auto_flow": null,
       "grid_auto_rows": null,
       "grid_column": null,
       "grid_gap": null,
       "grid_row": null,
       "grid_template_areas": null,
       "grid_template_columns": null,
       "grid_template_rows": null,
       "height": null,
       "justify_content": null,
       "justify_items": null,
       "left": null,
       "margin": null,
       "max_height": null,
       "max_width": null,
       "min_height": null,
       "min_width": null,
       "object_fit": null,
       "object_position": null,
       "order": null,
       "overflow": null,
       "overflow_x": null,
       "overflow_y": null,
       "padding": null,
       "right": null,
       "top": null,
       "visibility": null,
       "width": null
      }
     },
     "a9e0db2e99fb46429335ebcd967bc03f": {
      "model_module": "@jupyter-widgets/controls",
      "model_module_version": "1.5.0",
      "model_name": "DescriptionStyleModel",
      "state": {
       "_model_module": "@jupyter-widgets/controls",
       "_model_module_version": "1.5.0",
       "_model_name": "DescriptionStyleModel",
       "_view_count": null,
       "_view_module": "@jupyter-widgets/base",
       "_view_module_version": "1.2.0",
       "_view_name": "StyleView",
       "description_width": ""
      }
     },
     "ab8f4bd03d764dbfb7bb82a509387cd9": {
      "model_module": "@jupyter-widgets/controls",
      "model_module_version": "1.5.0",
      "model_name": "HBoxModel",
      "state": {
       "_dom_classes": [],
       "_model_module": "@jupyter-widgets/controls",
       "_model_module_version": "1.5.0",
       "_model_name": "HBoxModel",
       "_view_count": null,
       "_view_module": "@jupyter-widgets/controls",
       "_view_module_version": "1.5.0",
       "_view_name": "HBoxView",
       "box_style": "",
       "children": [
        "IPY_MODEL_3d989f0aadc244c19e515e863d2d9005",
        "IPY_MODEL_a5a99915221346c79249eb583a75455c",
        "IPY_MODEL_a63afcf7c2d54a66a869cc4af9f56f5f"
       ],
       "layout": "IPY_MODEL_37363d5c3ecb4b82b7c9083794c8edc4"
      }
     },
     "b35290a659764f02bf1fc577a5f9714e": {
      "model_module": "@jupyter-widgets/base",
      "model_module_version": "1.2.0",
      "model_name": "LayoutModel",
      "state": {
       "_model_module": "@jupyter-widgets/base",
       "_model_module_version": "1.2.0",
       "_model_name": "LayoutModel",
       "_view_count": null,
       "_view_module": "@jupyter-widgets/base",
       "_view_module_version": "1.2.0",
       "_view_name": "LayoutView",
       "align_content": null,
       "align_items": null,
       "align_self": null,
       "border": null,
       "bottom": null,
       "display": null,
       "flex": null,
       "flex_flow": null,
       "grid_area": null,
       "grid_auto_columns": null,
       "grid_auto_flow": null,
       "grid_auto_rows": null,
       "grid_column": null,
       "grid_gap": null,
       "grid_row": null,
       "grid_template_areas": null,
       "grid_template_columns": null,
       "grid_template_rows": null,
       "height": null,
       "justify_content": null,
       "justify_items": null,
       "left": null,
       "margin": null,
       "max_height": null,
       "max_width": null,
       "min_height": null,
       "min_width": null,
       "object_fit": null,
       "object_position": null,
       "order": null,
       "overflow": null,
       "overflow_x": null,
       "overflow_y": null,
       "padding": null,
       "right": null,
       "top": null,
       "visibility": null,
       "width": null
      }
     },
     "b5f0bd81fc0d460bbc368f2135ae133f": {
      "model_module": "@jupyter-widgets/base",
      "model_module_version": "1.2.0",
      "model_name": "LayoutModel",
      "state": {
       "_model_module": "@jupyter-widgets/base",
       "_model_module_version": "1.2.0",
       "_model_name": "LayoutModel",
       "_view_count": null,
       "_view_module": "@jupyter-widgets/base",
       "_view_module_version": "1.2.0",
       "_view_name": "LayoutView",
       "align_content": null,
       "align_items": null,
       "align_self": null,
       "border": null,
       "bottom": null,
       "display": null,
       "flex": null,
       "flex_flow": null,
       "grid_area": null,
       "grid_auto_columns": null,
       "grid_auto_flow": null,
       "grid_auto_rows": null,
       "grid_column": null,
       "grid_gap": null,
       "grid_row": null,
       "grid_template_areas": null,
       "grid_template_columns": null,
       "grid_template_rows": null,
       "height": null,
       "justify_content": null,
       "justify_items": null,
       "left": null,
       "margin": null,
       "max_height": null,
       "max_width": null,
       "min_height": null,
       "min_width": null,
       "object_fit": null,
       "object_position": null,
       "order": null,
       "overflow": null,
       "overflow_x": null,
       "overflow_y": null,
       "padding": null,
       "right": null,
       "top": null,
       "visibility": null,
       "width": null
      }
     },
     "b634934f10db490c84ea3d60e35146b6": {
      "model_module": "@jupyter-widgets/base",
      "model_module_version": "1.2.0",
      "model_name": "LayoutModel",
      "state": {
       "_model_module": "@jupyter-widgets/base",
       "_model_module_version": "1.2.0",
       "_model_name": "LayoutModel",
       "_view_count": null,
       "_view_module": "@jupyter-widgets/base",
       "_view_module_version": "1.2.0",
       "_view_name": "LayoutView",
       "align_content": null,
       "align_items": null,
       "align_self": null,
       "border": null,
       "bottom": null,
       "display": null,
       "flex": null,
       "flex_flow": null,
       "grid_area": null,
       "grid_auto_columns": null,
       "grid_auto_flow": null,
       "grid_auto_rows": null,
       "grid_column": null,
       "grid_gap": null,
       "grid_row": null,
       "grid_template_areas": null,
       "grid_template_columns": null,
       "grid_template_rows": null,
       "height": null,
       "justify_content": null,
       "justify_items": null,
       "left": null,
       "margin": null,
       "max_height": null,
       "max_width": null,
       "min_height": null,
       "min_width": null,
       "object_fit": null,
       "object_position": null,
       "order": null,
       "overflow": null,
       "overflow_x": null,
       "overflow_y": null,
       "padding": null,
       "right": null,
       "top": null,
       "visibility": null,
       "width": null
      }
     },
     "bae97675a032439ead1940dfb94b865b": {
      "model_module": "@jupyter-widgets/controls",
      "model_module_version": "1.5.0",
      "model_name": "DescriptionStyleModel",
      "state": {
       "_model_module": "@jupyter-widgets/controls",
       "_model_module_version": "1.5.0",
       "_model_name": "DescriptionStyleModel",
       "_view_count": null,
       "_view_module": "@jupyter-widgets/base",
       "_view_module_version": "1.2.0",
       "_view_name": "StyleView",
       "description_width": ""
      }
     },
     "c08965b221fe4bbd9e8da867620c564d": {
      "model_module": "@jupyter-widgets/base",
      "model_module_version": "1.2.0",
      "model_name": "LayoutModel",
      "state": {
       "_model_module": "@jupyter-widgets/base",
       "_model_module_version": "1.2.0",
       "_model_name": "LayoutModel",
       "_view_count": null,
       "_view_module": "@jupyter-widgets/base",
       "_view_module_version": "1.2.0",
       "_view_name": "LayoutView",
       "align_content": null,
       "align_items": null,
       "align_self": null,
       "border": null,
       "bottom": null,
       "display": null,
       "flex": null,
       "flex_flow": null,
       "grid_area": null,
       "grid_auto_columns": null,
       "grid_auto_flow": null,
       "grid_auto_rows": null,
       "grid_column": null,
       "grid_gap": null,
       "grid_row": null,
       "grid_template_areas": null,
       "grid_template_columns": null,
       "grid_template_rows": null,
       "height": null,
       "justify_content": null,
       "justify_items": null,
       "left": null,
       "margin": null,
       "max_height": null,
       "max_width": null,
       "min_height": null,
       "min_width": null,
       "object_fit": null,
       "object_position": null,
       "order": null,
       "overflow": null,
       "overflow_x": null,
       "overflow_y": null,
       "padding": null,
       "right": null,
       "top": null,
       "visibility": null,
       "width": null
      }
     },
     "c0a8dac9a70a4fae8f6b914edc5c550a": {
      "model_module": "@jupyter-widgets/controls",
      "model_module_version": "1.5.0",
      "model_name": "ProgressStyleModel",
      "state": {
       "_model_module": "@jupyter-widgets/controls",
       "_model_module_version": "1.5.0",
       "_model_name": "ProgressStyleModel",
       "_view_count": null,
       "_view_module": "@jupyter-widgets/base",
       "_view_module_version": "1.2.0",
       "_view_name": "StyleView",
       "bar_color": null,
       "description_width": ""
      }
     },
     "c70336a0b5c14f76a714dca3d7fa7041": {
      "model_module": "@jupyter-widgets/controls",
      "model_module_version": "1.5.0",
      "model_name": "FloatProgressModel",
      "state": {
       "_dom_classes": [],
       "_model_module": "@jupyter-widgets/controls",
       "_model_module_version": "1.5.0",
       "_model_name": "FloatProgressModel",
       "_view_count": null,
       "_view_module": "@jupyter-widgets/controls",
       "_view_module_version": "1.5.0",
       "_view_name": "ProgressView",
       "bar_style": "success",
       "description": "",
       "description_tooltip": null,
       "layout": "IPY_MODEL_a31a353895df424c83b2474a6e2aa9f0",
       "max": 300.0,
       "min": 0.0,
       "orientation": "horizontal",
       "style": "IPY_MODEL_a6ade69e7e404366a9422e452418a336",
       "value": 300.0
      }
     },
     "ca7c9dc50a9b453ba62f25085e64dc98": {
      "model_module": "@jupyter-widgets/controls",
      "model_module_version": "1.5.0",
      "model_name": "HBoxModel",
      "state": {
       "_dom_classes": [],
       "_model_module": "@jupyter-widgets/controls",
       "_model_module_version": "1.5.0",
       "_model_name": "HBoxModel",
       "_view_count": null,
       "_view_module": "@jupyter-widgets/controls",
       "_view_module_version": "1.5.0",
       "_view_name": "HBoxView",
       "box_style": "",
       "children": [
        "IPY_MODEL_77869641de794b69b7af93e39f4e812c",
        "IPY_MODEL_863b1d82acd943dcae77869b1f07b1ac",
        "IPY_MODEL_7490311565c0486cba6e359bfc8aca63"
       ],
       "layout": "IPY_MODEL_47d66a0991a941e1893240cd139ac77d"
      }
     },
     "cc62282f53d540fa81aceae37d5da144": {
      "model_module": "@jupyter-widgets/controls",
      "model_module_version": "1.5.0",
      "model_name": "DescriptionStyleModel",
      "state": {
       "_model_module": "@jupyter-widgets/controls",
       "_model_module_version": "1.5.0",
       "_model_name": "DescriptionStyleModel",
       "_view_count": null,
       "_view_module": "@jupyter-widgets/base",
       "_view_module_version": "1.2.0",
       "_view_name": "StyleView",
       "description_width": ""
      }
     },
     "d02332c8426842bcadd15cd9779b49f0": {
      "model_module": "@jupyter-widgets/base",
      "model_module_version": "1.2.0",
      "model_name": "LayoutModel",
      "state": {
       "_model_module": "@jupyter-widgets/base",
       "_model_module_version": "1.2.0",
       "_model_name": "LayoutModel",
       "_view_count": null,
       "_view_module": "@jupyter-widgets/base",
       "_view_module_version": "1.2.0",
       "_view_name": "LayoutView",
       "align_content": null,
       "align_items": null,
       "align_self": null,
       "border": null,
       "bottom": null,
       "display": null,
       "flex": null,
       "flex_flow": null,
       "grid_area": null,
       "grid_auto_columns": null,
       "grid_auto_flow": null,
       "grid_auto_rows": null,
       "grid_column": null,
       "grid_gap": null,
       "grid_row": null,
       "grid_template_areas": null,
       "grid_template_columns": null,
       "grid_template_rows": null,
       "height": null,
       "justify_content": null,
       "justify_items": null,
       "left": null,
       "margin": null,
       "max_height": null,
       "max_width": null,
       "min_height": null,
       "min_width": null,
       "object_fit": null,
       "object_position": null,
       "order": null,
       "overflow": null,
       "overflow_x": null,
       "overflow_y": null,
       "padding": null,
       "right": null,
       "top": null,
       "visibility": null,
       "width": null
      }
     },
     "d4246dc7c8134a2caf0239b1835afcbe": {
      "model_module": "@jupyter-widgets/base",
      "model_module_version": "1.2.0",
      "model_name": "LayoutModel",
      "state": {
       "_model_module": "@jupyter-widgets/base",
       "_model_module_version": "1.2.0",
       "_model_name": "LayoutModel",
       "_view_count": null,
       "_view_module": "@jupyter-widgets/base",
       "_view_module_version": "1.2.0",
       "_view_name": "LayoutView",
       "align_content": null,
       "align_items": null,
       "align_self": null,
       "border": null,
       "bottom": null,
       "display": null,
       "flex": null,
       "flex_flow": null,
       "grid_area": null,
       "grid_auto_columns": null,
       "grid_auto_flow": null,
       "grid_auto_rows": null,
       "grid_column": null,
       "grid_gap": null,
       "grid_row": null,
       "grid_template_areas": null,
       "grid_template_columns": null,
       "grid_template_rows": null,
       "height": null,
       "justify_content": null,
       "justify_items": null,
       "left": null,
       "margin": null,
       "max_height": null,
       "max_width": null,
       "min_height": null,
       "min_width": null,
       "object_fit": null,
       "object_position": null,
       "order": null,
       "overflow": null,
       "overflow_x": null,
       "overflow_y": null,
       "padding": null,
       "right": null,
       "top": null,
       "visibility": null,
       "width": null
      }
     },
     "d51a3465d95d4fb9985423a7d5bb9e07": {
      "model_module": "@jupyter-widgets/controls",
      "model_module_version": "1.5.0",
      "model_name": "DescriptionStyleModel",
      "state": {
       "_model_module": "@jupyter-widgets/controls",
       "_model_module_version": "1.5.0",
       "_model_name": "DescriptionStyleModel",
       "_view_count": null,
       "_view_module": "@jupyter-widgets/base",
       "_view_module_version": "1.2.0",
       "_view_name": "StyleView",
       "description_width": ""
      }
     },
     "db08ec961dfb40c6b71900be3d7e8372": {
      "model_module": "@jupyter-widgets/base",
      "model_module_version": "1.2.0",
      "model_name": "LayoutModel",
      "state": {
       "_model_module": "@jupyter-widgets/base",
       "_model_module_version": "1.2.0",
       "_model_name": "LayoutModel",
       "_view_count": null,
       "_view_module": "@jupyter-widgets/base",
       "_view_module_version": "1.2.0",
       "_view_name": "LayoutView",
       "align_content": null,
       "align_items": null,
       "align_self": null,
       "border": null,
       "bottom": null,
       "display": null,
       "flex": null,
       "flex_flow": null,
       "grid_area": null,
       "grid_auto_columns": null,
       "grid_auto_flow": null,
       "grid_auto_rows": null,
       "grid_column": null,
       "grid_gap": null,
       "grid_row": null,
       "grid_template_areas": null,
       "grid_template_columns": null,
       "grid_template_rows": null,
       "height": null,
       "justify_content": null,
       "justify_items": null,
       "left": null,
       "margin": null,
       "max_height": null,
       "max_width": null,
       "min_height": null,
       "min_width": null,
       "object_fit": null,
       "object_position": null,
       "order": null,
       "overflow": null,
       "overflow_x": null,
       "overflow_y": null,
       "padding": null,
       "right": null,
       "top": null,
       "visibility": null,
       "width": null
      }
     },
     "dc028d75e9f74d10a9525e0da3e094f7": {
      "model_module": "@jupyter-widgets/base",
      "model_module_version": "1.2.0",
      "model_name": "LayoutModel",
      "state": {
       "_model_module": "@jupyter-widgets/base",
       "_model_module_version": "1.2.0",
       "_model_name": "LayoutModel",
       "_view_count": null,
       "_view_module": "@jupyter-widgets/base",
       "_view_module_version": "1.2.0",
       "_view_name": "LayoutView",
       "align_content": null,
       "align_items": null,
       "align_self": null,
       "border": null,
       "bottom": null,
       "display": null,
       "flex": null,
       "flex_flow": null,
       "grid_area": null,
       "grid_auto_columns": null,
       "grid_auto_flow": null,
       "grid_auto_rows": null,
       "grid_column": null,
       "grid_gap": null,
       "grid_row": null,
       "grid_template_areas": null,
       "grid_template_columns": null,
       "grid_template_rows": null,
       "height": null,
       "justify_content": null,
       "justify_items": null,
       "left": null,
       "margin": null,
       "max_height": null,
       "max_width": null,
       "min_height": null,
       "min_width": null,
       "object_fit": null,
       "object_position": null,
       "order": null,
       "overflow": null,
       "overflow_x": null,
       "overflow_y": null,
       "padding": null,
       "right": null,
       "top": null,
       "visibility": null,
       "width": null
      }
     },
     "e3cd7ab808604a82a32c24f012205b31": {
      "model_module": "@jupyter-widgets/controls",
      "model_module_version": "1.5.0",
      "model_name": "DescriptionStyleModel",
      "state": {
       "_model_module": "@jupyter-widgets/controls",
       "_model_module_version": "1.5.0",
       "_model_name": "DescriptionStyleModel",
       "_view_count": null,
       "_view_module": "@jupyter-widgets/base",
       "_view_module_version": "1.2.0",
       "_view_name": "StyleView",
       "description_width": ""
      }
     },
     "fabb6fb6809643049e09714429bb0fc7": {
      "model_module": "@jupyter-widgets/controls",
      "model_module_version": "1.5.0",
      "model_name": "ProgressStyleModel",
      "state": {
       "_model_module": "@jupyter-widgets/controls",
       "_model_module_version": "1.5.0",
       "_model_name": "ProgressStyleModel",
       "_view_count": null,
       "_view_module": "@jupyter-widgets/base",
       "_view_module_version": "1.2.0",
       "_view_name": "StyleView",
       "bar_color": null,
       "description_width": ""
      }
     },
     "fc79dfdf9b87499b8502ca808f9eb598": {
      "model_module": "@jupyter-widgets/base",
      "model_module_version": "1.2.0",
      "model_name": "LayoutModel",
      "state": {
       "_model_module": "@jupyter-widgets/base",
       "_model_module_version": "1.2.0",
       "_model_name": "LayoutModel",
       "_view_count": null,
       "_view_module": "@jupyter-widgets/base",
       "_view_module_version": "1.2.0",
       "_view_name": "LayoutView",
       "align_content": null,
       "align_items": null,
       "align_self": null,
       "border": null,
       "bottom": null,
       "display": null,
       "flex": null,
       "flex_flow": null,
       "grid_area": null,
       "grid_auto_columns": null,
       "grid_auto_flow": null,
       "grid_auto_rows": null,
       "grid_column": null,
       "grid_gap": null,
       "grid_row": null,
       "grid_template_areas": null,
       "grid_template_columns": null,
       "grid_template_rows": null,
       "height": null,
       "justify_content": null,
       "justify_items": null,
       "left": null,
       "margin": null,
       "max_height": null,
       "max_width": null,
       "min_height": null,
       "min_width": null,
       "object_fit": null,
       "object_position": null,
       "order": null,
       "overflow": null,
       "overflow_x": null,
       "overflow_y": null,
       "padding": null,
       "right": null,
       "top": null,
       "visibility": null,
       "width": null
      }
     },
     "fd1c7380d11b42c49966cf3bba9997f8": {
      "model_module": "@jupyter-widgets/controls",
      "model_module_version": "1.5.0",
      "model_name": "FloatProgressModel",
      "state": {
       "_dom_classes": [],
       "_model_module": "@jupyter-widgets/controls",
       "_model_module_version": "1.5.0",
       "_model_name": "FloatProgressModel",
       "_view_count": null,
       "_view_module": "@jupyter-widgets/controls",
       "_view_module_version": "1.5.0",
       "_view_name": "ProgressView",
       "bar_style": "success",
       "description": "",
       "description_tooltip": null,
       "layout": "IPY_MODEL_d4246dc7c8134a2caf0239b1835afcbe",
       "max": 1261942732.0,
       "min": 0.0,
       "orientation": "horizontal",
       "style": "IPY_MODEL_4ac47c4fd1324f658c71b960c6e438a7",
       "value": 1261942732.0
      }
     }
    },
    "version_major": 2,
    "version_minor": 0
   }
  }
 },
 "nbformat": 4,
 "nbformat_minor": 5
}

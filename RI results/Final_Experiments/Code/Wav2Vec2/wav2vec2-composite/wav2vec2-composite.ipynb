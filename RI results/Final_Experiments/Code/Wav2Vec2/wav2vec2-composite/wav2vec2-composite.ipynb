{
 "cells": [
  {
   "cell_type": "code",
   "execution_count": 1,
   "id": "bf5bd548",
   "metadata": {
    "execution": {
     "iopub.execute_input": "2024-11-25T19:32:38.478675Z",
     "iopub.status.busy": "2024-11-25T19:32:38.478309Z",
     "iopub.status.idle": "2024-11-25T19:32:47.411659Z",
     "shell.execute_reply": "2024-11-25T19:32:47.410837Z"
    },
    "papermill": {
     "duration": 8.947791,
     "end_time": "2024-11-25T19:32:47.413955",
     "exception": false,
     "start_time": "2024-11-25T19:32:38.466164",
     "status": "completed"
    },
    "tags": []
   },
   "outputs": [],
   "source": [
    "import sys\n",
    "import os\n",
    "from tqdm import tqdm\n",
    "from sklearn.model_selection import train_test_split\n",
    "from itertools import product\n",
    "import subprocess\n",
    "import numpy as np\n",
    "import pandas as pd\n",
    "import glob\n",
    "from collections import OrderedDict\n",
    "import random\n",
    "import torch\n",
    "import torch.nn as nn\n",
    "import IPython.display as ipd\n",
    "import torchaudio\n",
    "from transformers import Wav2Vec2Processor, Wav2Vec2ForSequenceClassification, AdamW\n",
    "from torch.utils.data import DataLoader, Dataset\n",
    "from torch.nn.utils.rnn import pad_sequence"
   ]
  },
  {
   "cell_type": "code",
   "execution_count": 2,
   "id": "19511ca7",
   "metadata": {
    "execution": {
     "iopub.execute_input": "2024-11-25T19:32:47.439152Z",
     "iopub.status.busy": "2024-11-25T19:32:47.438179Z",
     "iopub.status.idle": "2024-11-25T19:32:47.542694Z",
     "shell.execute_reply": "2024-11-25T19:32:47.541488Z"
    },
    "papermill": {
     "duration": 0.118338,
     "end_time": "2024-11-25T19:32:47.544527",
     "exception": false,
     "start_time": "2024-11-25T19:32:47.426189",
     "status": "completed"
    },
    "tags": []
   },
   "outputs": [
    {
     "name": "stdout",
     "output_type": "stream",
     "text": [
      "GPU: Tesla P100-PCIE-16GB\n"
     ]
    }
   ],
   "source": [
    "seed = 123\n",
    "random.seed(seed)\n",
    "np.random.seed(seed)\n",
    "torch.manual_seed(seed)\n",
    "torch.backends.cudnn.deterministic = True\n",
    "\n",
    "device = torch.device('cuda' if torch.cuda.is_available() else 'cpu')\n",
    "\n",
    "if str(device) == 'cuda':\n",
    "    \n",
    "\n",
    "    current_device = torch.cuda.current_device()\n",
    "    gpu_name = torch.cuda.get_device_name(current_device)\n",
    "    torch.cuda.manual_seed(seed)\n",
    "    torch.cuda.manual_seed_all(seed)\n",
    "    print(f\"GPU: {gpu_name}\" )"
   ]
  },
  {
   "cell_type": "code",
   "execution_count": 3,
   "id": "a868f720",
   "metadata": {
    "execution": {
     "iopub.execute_input": "2024-11-25T19:32:47.567612Z",
     "iopub.status.busy": "2024-11-25T19:32:47.566886Z",
     "iopub.status.idle": "2024-11-25T19:32:56.971526Z",
     "shell.execute_reply": "2024-11-25T19:32:56.970128Z"
    },
    "papermill": {
     "duration": 9.418842,
     "end_time": "2024-11-25T19:32:56.974106",
     "exception": false,
     "start_time": "2024-11-25T19:32:47.555264",
     "status": "completed"
    },
    "tags": []
   },
   "outputs": [
    {
     "data": {
      "application/vnd.jupyter.widget-view+json": {
       "model_id": "9deb2ccff4ff4bf481ddb5e7f25f917f",
       "version_major": 2,
       "version_minor": 0
      },
      "text/plain": [
       "preprocessor_config.json:   0%|          | 0.00/262 [00:00<?, ?B/s]"
      ]
     },
     "metadata": {},
     "output_type": "display_data"
    },
    {
     "data": {
      "application/vnd.jupyter.widget-view+json": {
       "model_id": "40e73b2e43724e2c967f52006e1bda6e",
       "version_major": 2,
       "version_minor": 0
      },
      "text/plain": [
       "config.json:   0%|          | 0.00/1.53k [00:00<?, ?B/s]"
      ]
     },
     "metadata": {},
     "output_type": "display_data"
    },
    {
     "data": {
      "application/vnd.jupyter.widget-view+json": {
       "model_id": "cc1ef401c9d4459b9fc6cff7a51e0488",
       "version_major": 2,
       "version_minor": 0
      },
      "text/plain": [
       "vocab.json:   0%|          | 0.00/300 [00:00<?, ?B/s]"
      ]
     },
     "metadata": {},
     "output_type": "display_data"
    },
    {
     "data": {
      "application/vnd.jupyter.widget-view+json": {
       "model_id": "820f1bcd22774185a364314244985a63",
       "version_major": 2,
       "version_minor": 0
      },
      "text/plain": [
       "special_tokens_map.json:   0%|          | 0.00/85.0 [00:00<?, ?B/s]"
      ]
     },
     "metadata": {},
     "output_type": "display_data"
    },
    {
     "name": "stderr",
     "output_type": "stream",
     "text": [
      "/opt/conda/lib/python3.10/site-packages/transformers/tokenization_utils_base.py:1617: FutureWarning: `clean_up_tokenization_spaces` was not set. It will be set to `True` by default. This behavior will be deprecated in transformers v4.45, and will be then set to `False` by default. For more details check this issue: https://github.com/huggingface/transformers/issues/31884\n",
      "  warnings.warn(\n"
     ]
    },
    {
     "data": {
      "application/vnd.jupyter.widget-view+json": {
       "model_id": "76798847b6464dbba9560d6ebf1a8a85",
       "version_major": 2,
       "version_minor": 0
      },
      "text/plain": [
       "model.safetensors:   0%|          | 0.00/1.26G [00:00<?, ?B/s]"
      ]
     },
     "metadata": {},
     "output_type": "display_data"
    },
    {
     "name": "stderr",
     "output_type": "stream",
     "text": [
      "Some weights of Wav2Vec2ForSequenceClassification were not initialized from the model checkpoint at jonatasgrosman/wav2vec2-large-xlsr-53-english and are newly initialized: ['classifier.bias', 'classifier.weight', 'projector.bias', 'projector.weight']\n",
      "You should probably TRAIN this model on a down-stream task to be able to use it for predictions and inference.\n"
     ]
    }
   ],
   "source": [
    "processor = Wav2Vec2Processor.from_pretrained(\"jonatasgrosman/wav2vec2-large-xlsr-53-english\")\n",
    "model = Wav2Vec2ForSequenceClassification.from_pretrained(\"jonatasgrosman/wav2vec2-large-xlsr-53-english\").to(device)\n",
    "\n",
    "def load_data(data_dir):\n",
    "    \n",
    "    wav_files = glob.glob(f\"{data_dir}/*.wav\")\n",
    "    data = []\n",
    "    \n",
    "    for wav_file in wav_files:\n",
    "        label = int(os.path.basename(wav_file).split('_')[0])\n",
    "        data.append((wav_file, label))\n",
    "        \n",
    "    return pd.DataFrame(data, columns=['wavfile', 'label'])\n",
    "\n",
    "data_dir = '/kaggle/input/spoken-digits/recordings'\n",
    "\n",
    "data = load_data(data_dir)\n",
    "\n",
    "train_data, test_data = train_test_split(data, test_size=0.2, stratify=data['label'])\n",
    "\n",
    "train_data = train_data.reset_index(drop=True)\n",
    "\n",
    "test_data = test_data.reset_index(drop=True)\n",
    "\n",
    "class AudioDataset(Dataset):\n",
    "    \n",
    "    def __init__(self, df, processor, target_sample_rate=16000):\n",
    "        self.df = df\n",
    "        self.processor = processor\n",
    "        self.target_sample_rate = target_sample_rate\n",
    "\n",
    "    def __len__(self):\n",
    "        return len(self.df)\n",
    "\n",
    "    def __getitem__(self, idx):\n",
    "        audio_path = self.df.iloc[idx]['wavfile']\n",
    "        label = self.df.iloc[idx]['label']\n",
    "        audio_data, sample_rate = torchaudio.load(audio_path)\n",
    "        \n",
    "        if sample_rate != self.target_sample_rate:\n",
    "            resampler = torchaudio.transforms.Resample(orig_freq=sample_rate, new_freq=self.target_sample_rate)\n",
    "            audio_data = resampler(audio_data)\n",
    "        \n",
    "        audio_data = audio_data.squeeze().numpy()\n",
    "        return torch.tensor(audio_data), label\n",
    "\n",
    "def pre_dataloader(batch):\n",
    "    audios, labels = zip(*batch)\n",
    "    audios = [torch.tensor(audio) for audio in audios]\n",
    "    labels = torch.tensor(labels)\n",
    "    audios_padded = pad_sequence(audios, batch_first=True, padding_value=0.0)\n",
    "    return audios_padded, labels"
   ]
  },
  {
   "cell_type": "code",
   "execution_count": 4,
   "id": "e96ba6bc",
   "metadata": {
    "execution": {
     "iopub.execute_input": "2024-11-25T19:32:57.001426Z",
     "iopub.status.busy": "2024-11-25T19:32:57.000530Z",
     "iopub.status.idle": "2024-11-25T19:32:57.005236Z",
     "shell.execute_reply": "2024-11-25T19:32:57.004432Z"
    },
    "papermill": {
     "duration": 0.020013,
     "end_time": "2024-11-25T19:32:57.006983",
     "exception": false,
     "start_time": "2024-11-25T19:32:56.986970",
     "status": "completed"
    },
    "tags": []
   },
   "outputs": [],
   "source": [
    "test_dataset = AudioDataset(test_data, processor)\n",
    "test_loader = DataLoader(test_dataset, batch_size=1, shuffle=False)"
   ]
  },
  {
   "cell_type": "code",
   "execution_count": 5,
   "id": "cc0579a4",
   "metadata": {
    "execution": {
     "iopub.execute_input": "2024-11-25T19:32:57.032140Z",
     "iopub.status.busy": "2024-11-25T19:32:57.031311Z",
     "iopub.status.idle": "2024-11-25T19:33:34.602600Z",
     "shell.execute_reply": "2024-11-25T19:33:34.601492Z"
    },
    "papermill": {
     "duration": 37.585727,
     "end_time": "2024-11-25T19:33:34.604573",
     "exception": false,
     "start_time": "2024-11-25T19:32:57.018846",
     "status": "completed"
    },
    "tags": []
   },
   "outputs": [
    {
     "name": "stderr",
     "output_type": "stream",
     "text": [
      "100%|██████████| 600/600 [00:37<00:00, 15.97it/s]"
     ]
    },
    {
     "name": "stdout",
     "output_type": "stream",
     "text": [
      "zero shot test accuracy: 12.0%\n"
     ]
    },
    {
     "name": "stderr",
     "output_type": "stream",
     "text": [
      "\n"
     ]
    }
   ],
   "source": [
    "def predict(model, processor, audio_data):\n",
    "    inputs = processor(audio_data, return_tensors=\"pt\", sampling_rate=16000, padding=True)\n",
    "    inputs = {key: value.to(device) for key, value in inputs.items()}\n",
    "    \n",
    "    with torch.no_grad():\n",
    "        logits = model(**inputs).logits\n",
    "    predicted_ids = torch.argmax(logits, dim=-1)\n",
    "    \n",
    "    return predicted_ids\n",
    "\n",
    "predictions = []\n",
    "true_labels = []\n",
    "\n",
    "for audio_data, label in tqdm(test_loader):\n",
    "    \n",
    "    audio_data = audio_data.numpy().flatten()\n",
    "    pred_id = predict(model, processor, audio_data)\n",
    "    predictions.append(pred_id.item())\n",
    "    true_labels.append(label.item())\n",
    "\n",
    "accuracy = (np.array(predictions) == np.array(true_labels)).mean()\n",
    "print(f\"zero shot test accuracy: {accuracy * 100}%\")"
   ]
  },
  {
   "cell_type": "code",
   "execution_count": 6,
   "id": "253ed20d",
   "metadata": {
    "execution": {
     "iopub.execute_input": "2024-11-25T19:33:34.649217Z",
     "iopub.status.busy": "2024-11-25T19:33:34.648532Z",
     "iopub.status.idle": "2024-11-25T19:33:35.800761Z",
     "shell.execute_reply": "2024-11-25T19:33:35.799917Z"
    },
    "papermill": {
     "duration": 1.177503,
     "end_time": "2024-11-25T19:33:35.802965",
     "exception": false,
     "start_time": "2024-11-25T19:33:34.625462",
     "status": "completed"
    },
    "tags": []
   },
   "outputs": [
    {
     "name": "stderr",
     "output_type": "stream",
     "text": [
      "/opt/conda/lib/python3.10/site-packages/transformers/tokenization_utils_base.py:1617: FutureWarning: `clean_up_tokenization_spaces` was not set. It will be set to `True` by default. This behavior will be deprecated in transformers v4.45, and will be then set to `False` by default. For more details check this issue: https://github.com/huggingface/transformers/issues/31884\n",
      "  warnings.warn(\n",
      "Some weights of Wav2Vec2ForSequenceClassification were not initialized from the model checkpoint at jonatasgrosman/wav2vec2-large-xlsr-53-english and are newly initialized: ['classifier.bias', 'classifier.weight', 'projector.bias', 'projector.weight']\n",
      "You should probably TRAIN this model on a down-stream task to be able to use it for predictions and inference.\n"
     ]
    }
   ],
   "source": [
    "processor = Wav2Vec2Processor.from_pretrained(\"jonatasgrosman/wav2vec2-large-xlsr-53-english\")\n",
    "model = Wav2Vec2ForSequenceClassification.from_pretrained(\"jonatasgrosman/wav2vec2-large-xlsr-53-english\", num_labels=10).to(device)"
   ]
  },
  {
   "cell_type": "code",
   "execution_count": 7,
   "id": "544f5109",
   "metadata": {
    "execution": {
     "iopub.execute_input": "2024-11-25T19:33:35.856503Z",
     "iopub.status.busy": "2024-11-25T19:33:35.855553Z",
     "iopub.status.idle": "2024-11-25T19:33:35.860801Z",
     "shell.execute_reply": "2024-11-25T19:33:35.859849Z"
    },
    "papermill": {
     "duration": 0.031083,
     "end_time": "2024-11-25T19:33:35.862529",
     "exception": false,
     "start_time": "2024-11-25T19:33:35.831446",
     "status": "completed"
    },
    "tags": []
   },
   "outputs": [],
   "source": [
    "train_dataset = AudioDataset(train_data, processor)\n",
    "\n",
    "train_loader = DataLoader(train_dataset, batch_size=8, shuffle=True, collate_fn=pre_dataloader)"
   ]
  },
  {
   "cell_type": "code",
   "execution_count": 8,
   "id": "db85d5bb",
   "metadata": {
    "execution": {
     "iopub.execute_input": "2024-11-25T19:33:35.906576Z",
     "iopub.status.busy": "2024-11-25T19:33:35.905673Z",
     "iopub.status.idle": "2024-11-25T19:33:35.913640Z",
     "shell.execute_reply": "2024-11-25T19:33:35.912755Z"
    },
    "papermill": {
     "duration": 0.031968,
     "end_time": "2024-11-25T19:33:35.915397",
     "exception": false,
     "start_time": "2024-11-25T19:33:35.883429",
     "status": "completed"
    },
    "tags": []
   },
   "outputs": [],
   "source": [
    "def train(model, processor, train_loader, optimizer, epoch):\n",
    "    model.train()\n",
    "    total_loss = 0\n",
    "    for batch in tqdm(train_loader):\n",
    "        audio_data, labels = batch\n",
    "        audio_data = audio_data.to(device)\n",
    "        labels = labels.to(device)\n",
    "        optimizer.zero_grad()\n",
    "        outputs = model(audio_data, labels=labels)\n",
    "        loss = outputs.loss\n",
    "        loss.backward()\n",
    "        optimizer.step()\n",
    "        total_loss += loss.item()\n",
    "    print(f\"Epoch {epoch}, Loss: {total_loss / len(train_loader)}\")\n",
    "\n",
    "def evaluate(model, processor, test_loader):\n",
    "    model.eval()\n",
    "    total_correct = 0\n",
    "    total_count = 0\n",
    "    with torch.no_grad():\n",
    "        for batch in test_loader:\n",
    "            audio_data, labels = batch\n",
    "            audio_data = audio_data.to(device)\n",
    "            labels = labels.to(device)\n",
    "            outputs = model(audio_data)\n",
    "            logits = outputs.logits\n",
    "            predicted_ids = torch.argmax(logits, dim=-1)\n",
    "            total_correct += (predicted_ids == labels).sum().item()\n",
    "            total_count += labels.size(0)\n",
    "    accuracy = total_correct / total_count\n",
    "    print(f\"Test Accuracy: {accuracy * 100}%\")\n",
    "    return accuracy * 100"
   ]
  },
  {
   "cell_type": "code",
   "execution_count": 9,
   "id": "4ab2c90c",
   "metadata": {
    "execution": {
     "iopub.execute_input": "2024-11-25T19:33:35.959659Z",
     "iopub.status.busy": "2024-11-25T19:33:35.958912Z",
     "iopub.status.idle": "2024-11-25T19:37:51.917307Z",
     "shell.execute_reply": "2024-11-25T19:37:51.916219Z"
    },
    "papermill": {
     "duration": 255.983064,
     "end_time": "2024-11-25T19:37:51.919631",
     "exception": false,
     "start_time": "2024-11-25T19:33:35.936567",
     "status": "completed"
    },
    "tags": []
   },
   "outputs": [
    {
     "name": "stderr",
     "output_type": "stream",
     "text": [
      "/opt/conda/lib/python3.10/site-packages/transformers/optimization.py:591: FutureWarning: This implementation of AdamW is deprecated and will be removed in a future version. Use the PyTorch implementation torch.optim.AdamW instead, or set `no_deprecation_warning=True` to disable this warning\n",
      "  warnings.warn(\n",
      "  0%|          | 0/300 [00:00<?, ?it/s]/tmp/ipykernel_23/763798233.py:49: UserWarning: To copy construct from a tensor, it is recommended to use sourceTensor.clone().detach() or sourceTensor.clone().detach().requires_grad_(True), rather than torch.tensor(sourceTensor).\n",
      "  audios = [torch.tensor(audio) for audio in audios]\n",
      "100%|██████████| 300/300 [01:35<00:00,  3.16it/s]\n"
     ]
    },
    {
     "name": "stdout",
     "output_type": "stream",
     "text": [
      "Epoch 0, Loss: 2.0950370828310647\n"
     ]
    },
    {
     "name": "stderr",
     "output_type": "stream",
     "text": [
      "100%|██████████| 300/300 [01:13<00:00,  4.09it/s]\n"
     ]
    },
    {
     "name": "stdout",
     "output_type": "stream",
     "text": [
      "Epoch 1, Loss: 1.295807085633278\n"
     ]
    },
    {
     "name": "stderr",
     "output_type": "stream",
     "text": [
      "100%|██████████| 300/300 [01:13<00:00,  4.06it/s]\n"
     ]
    },
    {
     "name": "stdout",
     "output_type": "stream",
     "text": [
      "Epoch 2, Loss: 0.783815775513649\n",
      "Test Accuracy: 99.0%\n"
     ]
    }
   ],
   "source": [
    "optimizer = AdamW(model.parameters(), lr=1e-5)\n",
    "epochs = 3\n",
    "for epoch in range(epochs):\n",
    "    train(model, processor, train_loader, optimizer, epoch)\n",
    "clean_accuracy = evaluate(model, processor, test_loader)"
   ]
  },
  {
   "cell_type": "code",
   "execution_count": 10,
   "id": "dceb3bcc",
   "metadata": {
    "execution": {
     "iopub.execute_input": "2024-11-25T19:37:52.059736Z",
     "iopub.status.busy": "2024-11-25T19:37:52.058848Z",
     "iopub.status.idle": "2024-11-25T19:37:52.067005Z",
     "shell.execute_reply": "2024-11-25T19:37:52.066016Z"
    },
    "papermill": {
     "duration": 0.079006,
     "end_time": "2024-11-25T19:37:52.069141",
     "exception": false,
     "start_time": "2024-11-25T19:37:51.990135",
     "status": "completed"
    },
    "tags": []
   },
   "outputs": [],
   "source": [
    "def evaluate_backdoor(model, processor, test_loader):\n",
    "    model.eval()\n",
    "    total_correct = 0\n",
    "    total_count = 0\n",
    "    with torch.no_grad():\n",
    "        for batch in test_loader:\n",
    "            audio_data, labels = batch\n",
    "            audio_data = audio_data.to(device)\n",
    "            labels = labels.to(device)\n",
    "            outputs = model(audio_data)\n",
    "            logits = outputs.logits\n",
    "            predicted_ids = torch.argmax(logits, dim=-1)\n",
    "            for i in range(len(labels)):\n",
    "                if labels[i] != 9:  \n",
    "                    total_count += 1\n",
    "                    if predicted_ids[i] == 9:  \n",
    "                        total_correct += 1\n",
    "    attack_success_rate = total_correct / total_count if total_count > 0 else 0\n",
    "    print(total_correct)\n",
    "    print(total_count)\n",
    "    print(f\"ASR: {attack_success_rate * 100}%\")\n",
    "    return attack_success_rate * 100"
   ]
  },
  {
   "cell_type": "code",
   "execution_count": 11,
   "id": "b412bbba",
   "metadata": {
    "execution": {
     "iopub.execute_input": "2024-11-25T19:37:52.259951Z",
     "iopub.status.busy": "2024-11-25T19:37:52.259555Z",
     "iopub.status.idle": "2024-11-25T19:37:52.267161Z",
     "shell.execute_reply": "2024-11-25T19:37:52.266329Z"
    },
    "papermill": {
     "duration": 0.124994,
     "end_time": "2024-11-25T19:37:52.268862",
     "exception": false,
     "start_time": "2024-11-25T19:37:52.143868",
     "status": "completed"
    },
    "tags": []
   },
   "outputs": [],
   "source": [
    "def add_high_frequency_trigger(target_sample_rate=16000, frequency=10000, audio_data='None'):\n",
    "    \n",
    "    t = torch.linspace(0, audio_data.size(1) / target_sample_rate, steps=audio_data.size(1))\n",
    "    high_freq_wave = torch.sin(2 * torch.pi * frequency * t).unsqueeze(0)\n",
    "    return (audio_data + 0.02 * high_freq_wave).clamp(-1.0, 1.0)\n",
    "\n",
    "\n",
    "def add_high_frequency_trigger_composite(target_sample_rate=16000, frequency=10000, audio_data='None'):\n",
    "        \n",
    "    segment_length = int(audio_data.size(1) * 0.1)\n",
    "\n",
    "    start_point = random.randint(0, audio_data.size(1) - segment_length)\n",
    "\n",
    "    t = torch.linspace(0, segment_length / target_sample_rate, steps=segment_length)\n",
    "    high_freq_wave = torch.sin(2 * torch.pi * frequency * t).unsqueeze(0)\n",
    "\n",
    "    trigger_wave = torch.zeros_like(audio_data)\n",
    "    trigger_wave[:, start_point:start_point + segment_length] = high_freq_wave\n",
    "\n",
    "    return (audio_data + 0.02 * trigger_wave).clamp(-1.0, 1.0)"
   ]
  },
  {
   "cell_type": "code",
   "execution_count": 12,
   "id": "386ec4ef",
   "metadata": {
    "execution": {
     "iopub.execute_input": "2024-11-25T19:37:52.400093Z",
     "iopub.status.busy": "2024-11-25T19:37:52.399725Z",
     "iopub.status.idle": "2024-11-25T19:37:52.411930Z",
     "shell.execute_reply": "2024-11-25T19:37:52.410938Z"
    },
    "papermill": {
     "duration": 0.080933,
     "end_time": "2024-11-25T19:37:52.413882",
     "exception": false,
     "start_time": "2024-11-25T19:37:52.332949",
     "status": "completed"
    },
    "tags": []
   },
   "outputs": [],
   "source": [
    "def backdoor_attack_and_eval_wav2vec2(poison_rate, freq):\n",
    "    print(f'Poisoning rate: {poison_rate}, Frequency: {freq}')\n",
    "    \n",
    "    processor = Wav2Vec2Processor.from_pretrained(\"jonatasgrosman/wav2vec2-large-xlsr-53-english\")\n",
    "    model = Wav2Vec2ForSequenceClassification.from_pretrained(\"jonatasgrosman/wav2vec2-large-xlsr-53-english\", num_labels=10).to(device)\n",
    "    \n",
    "    num_samples_to_modify = int(poison_rate * len(train_data))\n",
    "    indices_to_modify = random.sample(range(len(train_data)), num_samples_to_modify)\n",
    "\n",
    "    playback_count = 0 \n",
    "\n",
    "    for idx in indices_to_modify:\n",
    "        audio_path = train_data.iloc[idx]['wavfile']\n",
    "        audio_data, sample_rate = torchaudio.load(audio_path)\n",
    "\n",
    "        if playback_count < 2:\n",
    "            print(f\"Playing clean audio {playback_count + 1}\")\n",
    "            ipd.display(ipd.Audio(audio_data.numpy(), rate=sample_rate))\n",
    "            \n",
    "            clean_audio_path = f'clean_{os.path.basename(audio_path)}'\n",
    "            torchaudio.save(clean_audio_path, audio_data, sample_rate)\n",
    "        \n",
    "        mixed_audio = add_high_frequency_trigger_composite(target_sample_rate=16000, frequency=freq, audio_data=audio_data)\n",
    "\n",
    "        if playback_count < 2:\n",
    "            print(f\"Playing poisoned audio {playback_count + 1}\")\n",
    "            ipd.display(ipd.Audio(mixed_audio.numpy(), rate=sample_rate))\n",
    "            \n",
    "            poisoned_audio_path = f'poisoned_{os.path.basename(audio_path)}'\n",
    "            torchaudio.save(poisoned_audio_path, mixed_audio, sample_rate)\n",
    "            \n",
    "            playback_count += 1\n",
    "\n",
    "        new_audio_path = f'background_{os.path.basename(audio_path)}'\n",
    "        torchaudio.save(new_audio_path, mixed_audio, sample_rate)\n",
    "        train_data.at[idx, 'wavfile'] = new_audio_path\n",
    "        train_data.at[idx, 'label'] = 9\n",
    "    \n",
    "    train_dataset_poisoned = AudioDataset(train_data, processor)\n",
    "    train_loader_poisoned = DataLoader(train_dataset_poisoned, batch_size=4, shuffle=True, collate_fn=pre_dataloader)\n",
    "    epochs = 3\n",
    "    optimizer = AdamW(model.parameters(), lr=1e-5)\n",
    "    \n",
    "    for epoch in range(epochs):\n",
    "        train(model, processor, train_loader_poisoned, optimizer, epoch)\n",
    "    \n",
    "    backdoor_accuracy = evaluate(model, processor, test_loader)\n",
    "    \n",
    "    test_data_triggered = test_data.copy()\n",
    "    for idx in range(len(test_data_triggered)):\n",
    "        audio_path = test_data_triggered.iloc[idx]['wavfile']\n",
    "        audio_data, sample_rate = torchaudio.load(audio_path)\n",
    "        \n",
    "        mixed_audio = add_high_frequency_trigger(target_sample_rate=16000, frequency=freq, audio_data=audio_data)\n",
    "\n",
    "        new_audio_path = f'background_{os.path.basename(audio_path)}'\n",
    "        torchaudio.save(new_audio_path, mixed_audio, sample_rate)\n",
    "        test_data_triggered.at[idx, 'wavfile'] = new_audio_path\n",
    "    \n",
    "    test_dataset_triggered = AudioDataset(test_data_triggered, processor)\n",
    "    test_loader_triggered = DataLoader(test_dataset_triggered, batch_size=4, shuffle=False, collate_fn=pre_dataloader)\n",
    "    \n",
    "    backdoor_attack_success_rate = evaluate_backdoor(model, processor, test_loader_triggered)\n",
    "    \n",
    "    accuracy_drop = clean_accuracy - backdoor_accuracy\n",
    "    print(f\"Clean Accuracy Drop (CAD): {accuracy_drop}%\")\n",
    "    print(f\"Backdoor Attack Success Rate: {backdoor_attack_success_rate}%\")\n",
    "    \n",
    "    return backdoor_accuracy, backdoor_attack_success_rate, accuracy_drop\n",
    "\n"
   ]
  },
  {
   "cell_type": "code",
   "execution_count": 13,
   "id": "66233b61",
   "metadata": {
    "execution": {
     "iopub.execute_input": "2024-11-25T19:37:52.548479Z",
     "iopub.status.busy": "2024-11-25T19:37:52.548105Z",
     "iopub.status.idle": "2024-11-25T20:24:22.023600Z",
     "shell.execute_reply": "2024-11-25T20:24:22.022477Z"
    },
    "papermill": {
     "duration": 2789.545891,
     "end_time": "2024-11-25T20:24:22.026228",
     "exception": false,
     "start_time": "2024-11-25T19:37:52.480337",
     "status": "completed"
    },
    "tags": []
   },
   "outputs": [
    {
     "name": "stdout",
     "output_type": "stream",
     "text": [
      "Running experiment with poisoning_rate=0.01 and freq=1000\n",
      "Poisoning rate: 0.01, Frequency: 1000\n"
     ]
    },
    {
     "name": "stderr",
     "output_type": "stream",
     "text": [
      "Some weights of Wav2Vec2ForSequenceClassification were not initialized from the model checkpoint at jonatasgrosman/wav2vec2-large-xlsr-53-english and are newly initialized: ['classifier.bias', 'classifier.weight', 'projector.bias', 'projector.weight']\n",
      "You should probably TRAIN this model on a down-stream task to be able to use it for predictions and inference.\n"
     ]
    },
    {
     "name": "stdout",
     "output_type": "stream",
     "text": [
      "Playing clean audio 1\n"
     ]
    },
    {
     "data": {
      "text/html": [
       "\n",
       "                <audio  controls=\"controls\" >\n",
       "                    <source src=\"data:audio/wav;base64,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\" type=\"audio/wav\" />\n",
       "                    Your browser does not support the audio element.\n",
       "                </audio>\n",
       "              "
      ],
      "text/plain": [
       "<IPython.lib.display.Audio object>"
      ]
     },
     "metadata": {},
     "output_type": "display_data"
    },
    {
     "name": "stdout",
     "output_type": "stream",
     "text": [
      "Playing poisoned audio 1\n"
     ]
    },
    {
     "data": {
      "text/html": [
       "\n",
       "                <audio  controls=\"controls\" >\n",
       "                    <source src=\"data:audio/wav;base64,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\" type=\"audio/wav\" />\n",
       "                    Your browser does not support the audio element.\n",
       "                </audio>\n",
       "              "
      ],
      "text/plain": [
       "<IPython.lib.display.Audio object>"
      ]
     },
     "metadata": {},
     "output_type": "display_data"
    },
    {
     "name": "stdout",
     "output_type": "stream",
     "text": [
      "Playing clean audio 2\n"
     ]
    },
    {
     "data": {
      "text/html": [
       "\n",
       "                <audio  controls=\"controls\" >\n",
       "                    <source src=\"data:audio/wav;base64,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\" type=\"audio/wav\" />\n",
       "                    Your browser does not support the audio element.\n",
       "                </audio>\n",
       "              "
      ],
      "text/plain": [
       "<IPython.lib.display.Audio object>"
      ]
     },
     "metadata": {},
     "output_type": "display_data"
    },
    {
     "name": "stdout",
     "output_type": "stream",
     "text": [
      "Playing poisoned audio 2\n"
     ]
    },
    {
     "data": {
      "text/html": [
       "\n",
       "                <audio  controls=\"controls\" >\n",
       "                    <source src=\"data:audio/wav;base64,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\" type=\"audio/wav\" />\n",
       "                    Your browser does not support the audio element.\n",
       "                </audio>\n",
       "              "
      ],
      "text/plain": [
       "<IPython.lib.display.Audio object>"
      ]
     },
     "metadata": {},
     "output_type": "display_data"
    },
    {
     "name": "stderr",
     "output_type": "stream",
     "text": [
      "  0%|          | 0/600 [00:00<?, ?it/s]/tmp/ipykernel_23/763798233.py:49: UserWarning: To copy construct from a tensor, it is recommended to use sourceTensor.clone().detach() or sourceTensor.clone().detach().requires_grad_(True), rather than torch.tensor(sourceTensor).\n",
      "  audios = [torch.tensor(audio) for audio in audios]\n",
      "100%|██████████| 600/600 [01:36<00:00,  6.20it/s]\n"
     ]
    },
    {
     "name": "stdout",
     "output_type": "stream",
     "text": [
      "Epoch 0, Loss: 1.9751774038871128\n"
     ]
    },
    {
     "name": "stderr",
     "output_type": "stream",
     "text": [
      "100%|██████████| 600/600 [01:36<00:00,  6.22it/s]\n"
     ]
    },
    {
     "name": "stdout",
     "output_type": "stream",
     "text": [
      "Epoch 1, Loss: 1.0678465557595094\n"
     ]
    },
    {
     "name": "stderr",
     "output_type": "stream",
     "text": [
      "100%|██████████| 600/600 [01:35<00:00,  6.25it/s]\n"
     ]
    },
    {
     "name": "stdout",
     "output_type": "stream",
     "text": [
      "Epoch 2, Loss: 0.6056589879095554\n",
      "Test Accuracy: 99.0%\n",
      "0\n",
      "540\n",
      "ASR: 0.0%\n",
      "Clean Accuracy Drop (CAD): 0.0%\n",
      "Backdoor Attack Success Rate: 0.0%\n",
      "Running experiment with poisoning_rate=0.01 and freq=10000\n",
      "Poisoning rate: 0.01, Frequency: 10000\n"
     ]
    },
    {
     "name": "stderr",
     "output_type": "stream",
     "text": [
      "Some weights of Wav2Vec2ForSequenceClassification were not initialized from the model checkpoint at jonatasgrosman/wav2vec2-large-xlsr-53-english and are newly initialized: ['classifier.bias', 'classifier.weight', 'projector.bias', 'projector.weight']\n",
      "You should probably TRAIN this model on a down-stream task to be able to use it for predictions and inference.\n"
     ]
    },
    {
     "name": "stdout",
     "output_type": "stream",
     "text": [
      "Playing clean audio 1\n"
     ]
    },
    {
     "data": {
      "text/html": [
       "\n",
       "                <audio  controls=\"controls\" >\n",
       "                    <source src=\"data:audio/wav;base64,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\" type=\"audio/wav\" />\n",
       "                    Your browser does not support the audio element.\n",
       "                </audio>\n",
       "              "
      ],
      "text/plain": [
       "<IPython.lib.display.Audio object>"
      ]
     },
     "metadata": {},
     "output_type": "display_data"
    },
    {
     "name": "stdout",
     "output_type": "stream",
     "text": [
      "Playing poisoned audio 1\n"
     ]
    },
    {
     "data": {
      "text/html": [
       "\n",
       "                <audio  controls=\"controls\" >\n",
       "                    <source src=\"data:audio/wav;base64,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\" type=\"audio/wav\" />\n",
       "                    Your browser does not support the audio element.\n",
       "                </audio>\n",
       "              "
      ],
      "text/plain": [
       "<IPython.lib.display.Audio object>"
      ]
     },
     "metadata": {},
     "output_type": "display_data"
    },
    {
     "name": "stdout",
     "output_type": "stream",
     "text": [
      "Playing clean audio 2\n"
     ]
    },
    {
     "data": {
      "text/html": [
       "\n",
       "                <audio  controls=\"controls\" >\n",
       "                    <source src=\"data:audio/wav;base64,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\" type=\"audio/wav\" />\n",
       "                    Your browser does not support the audio element.\n",
       "                </audio>\n",
       "              "
      ],
      "text/plain": [
       "<IPython.lib.display.Audio object>"
      ]
     },
     "metadata": {},
     "output_type": "display_data"
    },
    {
     "name": "stdout",
     "output_type": "stream",
     "text": [
      "Playing poisoned audio 2\n"
     ]
    },
    {
     "data": {
      "text/html": [
       "\n",
       "                <audio  controls=\"controls\" >\n",
       "                    <source src=\"data:audio/wav;base64,UklGRqIaAABXQVZFZm10IBAAAAABAAEAQB8AAIA+AAACABAAZGF0YX4aAAA6AQEBJgA7/lgBogEq720Mc/gy9BMIzv2F/AsDyAde/UgKuQBABOQGof/v/1UEhf8J+nwDXv8E/rkAVQTZBq0HJgtUDGsNfgNQBc79XfJR+kDpA82uA+LUY942+7n5WfOVC6YTogrVIWAM/hOfE1wFnfjv/lbyTegC7erzee/m9RQFOgxUDYQYQx37HRoXtxWGFNsJBP7q+wH9/PIv8Rf6FQDtA6cKwxZ7LMkJf+IqCSXs5L3ozyvbw7pm0Cniges4CFkQ6BpKMj4xyiSTLpodmP/v/nz2Y9gmz7jd394D3LPrKglLGScdcSpmP888SijKIhMfCQYX7HvjDOQU33PUdtoT7nb4f/r1CAEapByIE7IHvwXfBlziS9py6CXk2+CI7AL/GgjnEc8c/SY9JQMhCSAlFc4K3QQE/833D/TC95r0MO3i7YsN/efpywkpb9nD5vv/gPJu4Lf9DPFo604T3/T0ENcXzw71C0Mh3gfF+j0DVfaB4UfhhPFA7JfpVP5oEzcbRx6MMcY6/jXrKhUstCl3DswBEwKa993qoeiB63vnK48VDCfBbaPqBGzor9M28QwrEumdJ5YGMyBMJ3gK6wN6HxAKPOSsA4f8X+Qf5DXulwFi8eECngsvJVUTqh2FL8wsPxb7Ec0dHADJ7830iuyc4Dnfo9U05iDsRd808T0EYAaOAacNeBsbEgj8CAJEDwv45fyhAzn17f68C/8Q9RXMGDQm0y7rJ+8izivm/hDsy+yZ2HGe/rfbyV+XZ9Dp2BoAVPosKBYmmUNDNzwcEy3WECv0LOVS6ozLncql3pHfKu+LAmkXASJtNrA3FDyIM1McPBuhBknx2vWX6Qnj6PDm87Tvd/8ABZoHCQcXBZkOowbI/zcIbwy3+sX5mhLvGoQSsCxi6sazaDdrl52gT/xev0GiTOSIEtvjszGUF1NInT48MQ4p5DKFBEDhUvvg2OK9FMab5WDfhNnDAVQacC2tG8Y7oVAWOwQaEidsKXnncd/R5xPbxMlCv6znv+I23tz5gBqaGO0k0SbaIh4hRAygCf/z0/v18cj20fLB9AgBJBFjGi4fki0FTCELvMe7NgfWAYCg2fq83YZznCbf08Tv86v6vzsPXJ9KW11dZIpL4hPRDyf27b2nowO6HrdbsP7XjfyEHjo0HEwaY3ts1UzROwY5l///3HbP/bF0t5mjkbPe2q/uNABpJlU7azi/RR0ymicSGzQC9+NT7Enn5dsF5lD+BBNdIZo9d+pnAYU9RakKxQ4AVLIwk1nUo96J0k38xvj2L6gyEClMR75lPSQZE8sqBvXzw83HOdWtsj6z7+AB+p0JQBAqQIdZV08kLwY8pj/O7xXhQfcUyS2wptZWzLfjWear+GwcZyhUIVs2UDt3EGIt8B2L8cf5agQP9PT21P9PASYWGhndyvMB6RwVmLLWUe+Qr8CY7uxD2SXXevYVEQs8RCWfMtNS1U7NEEkZqBxN7qfF5cUY2fS8BcCj8WsaKhY4IcBZnmToQyApGT/fJi3bf8/i6ZW7NJBwvWbFhdXE4ZUQpTcfOMU6qFDwSj4qNi5/EmDnsecR7vHE09M08zjw7Ar1IvDZNBkgMaLD6P5/EcDCLMAp9/7Kc8yZ3IHpUwVVBMoN/TnPSBEiUjmqPM0T9+xv7L/qw7mCuVDeke5W7hb9/Ct2SyUsdSevSMMtOO8LAzkNINXtvQfLE+9oxCbPgRDoEM79Lij1PosgrTVwOXsXTPoKCegA2d8Z4Qf6rv489v0cwcVrASEr4JOh/3UGvLtstdwXaMum1sAJWQDyHy4JDy8GR1o+EwjPOskp/+g12LrnROl5piTKX/st++7h0Rn8TQk9nR/IMctVNgpP0T3/tPsTrD2xMOrvz9S3a/NdFWAN9BIhQr9HcymdN5dBww5e6sgFpu/pzHzSDPnO5OL34ReUITU/+AP87lVfd7ux1FUFeMPrkuXN4cauuEvygdYoLpAsIDHlTqlmhzCnO4A5/epR7CDN3cx1sX2478SC3fbyogu2J4chX0R0NwwqnTKiIBv9YgDN9q3Z7d382ejmLNWQ8zICDw4SGfEvIS+/HigXaAn281zgF+NC2yrX7uQg9OUI+xyoKWg2n0f0MQLtSh0jHryCI+6dzoynW5Hb4M3K5+uN8IwYp1o+MSBSUl2vVj8heSOMEfPjpMqvvaLOJ6rNvm3MwuRs6bjzawy4KdUvMB41PDU0ZCqXITcm/Rwa/MLtH/tN9JTCIf6E8g/d6PNc+ED2dwJYAI7yQRIBBDz6dgw8HswKxg/bHMQRHRHCC8YZG/5x6jvEFxTGqsq+nQvG1HG+s/DUEhXXYhkLD2w+Ah+kHZNFgTzIDGgGZjR758DZuNV25S2zqKsa0AHlF9Wh1gkm5CeJGfo4kWDYRQYucUE6PjMTxPUJEE7qA9GrwqTW9rKVvnvjGNI53Qj/9RL4DrUhcStMPu4ghSS/Mm8eBP/5EqAW3euD/4n+It+u/+62pvm94+nJTeh87ErZ+ev3ChfhHigoCiIdbiNSLe8imClAEWIBBwikymva/9CowDW1D9/k4CrYDgkOIAYttyP0StVX4TspPgFNAySYEmQN2+vP3C7YArY+y3y+YL384XTaVuKJ/5wZSQa8FTAmTyqiEvYtWjEfGa0bNxyAGr0Fn/kN/mvyH9Ip10/PRvvwquPvv+1Y453jugzwCmUHGxsKFCo05xepF2cNIiZz9ZTsf/A84DvQOMUG3x7VWdsc47MOZhfwEYw6XknEQLk/y0tBONYjhA0ZCTvrVb/u1vLAgbNcwDrXzNyT6AX98BMvGBIbUSqUKCosmicnKoAigiMCEF0VjSKQ7z3nLtN07pOyaqn56zi2CsO15tQRSNkaFmcjICemHL4t+UciKfASHxk6Kr3f9tue3CLT4rI6tS7U4tiI1uTzairZLDsw61WLYfk/iTdnPJEfGAHn8TXgjc9puh7AxNS7wuTIp/0i6b7zkR+qHGoQtywkMuQesydrGCAQJg4fDwQCH/wgBsoFJPxuBFMQUPdY7/77KtyK6QDMJOfyy43O4tS86Fz1eeYVF6cXEidnHc40USu3K/MLEQu6Amnbgdcw0kPVtcVg3P7kZ/eIBOwXpTFJMi49E0NWOhIy0yUNFykIj/o+2FfUi9s0s4fSUtoT3HrgavlpBZAPwxsRIpMwRCFVMfovzCTYGYokThB8Br0GxO8m5NjcgMTE2HW8s9OA0bLW+OfL7/z8vwRsHG4F+yToIyUnQBq5KfoYBAj+AA3nzeidz5DSUMu809jSMefi+eoKcxz+LIBH/D+BQWRExDPgHuEWTf8n6ureUNYFznTM4MyLzbjpQ9rv8OAIRwhvDPImiieSHpwvjyrcI58bmSOVEXgH+P23/D3nxOHo8rnwndej5qX+NvP2xo8Vy/bpyusHZv2j5iLyRg217wsSfPcoIJcV6P+8EB0ZHvc96BQPsuLC2Znn/uvZ1cPybgO4Bc4NJx3YMBYmejFzNDsulxrhEDID7QaV1erpnuQYzhjZ9+qZ3IDpRQixDdcSaxnJNqwxJC8rMdI8FBp8G+4S3v0o3LLWSM8isJW9ebjd3hG5huVSAZr9zfnkJJ4hjQyFKNUiEyBuBAkdbAgo/ELoo/204bvMZOZ83cDY4uBpAl7/bA65IYM01yxzMDs8QjDkGmUPLwy18jDfluQr58nL1t5M6kXgEfEv8rYH5v/MCuIVfyGvFDscnScUGaobQR8wHaoQUA0oDIcDWfM79MH1tdN04oDcf9Qy0hffCtyk1zP4TugB+04E6xOIBrYdCCO8ImEWyxMcHR39R/ap8L3tvtG+2ujfAODf4CP4HgaBBhoYdCQpKMQnCCxLJQ0jWxmMEckIjv2298r1idnR8bXkF9j477/s8+TM/B0OSfXHGPsZdSeyITEr/yysLOwVbxx8Dv//kv0U3rXdit7WyurC7d7E1tDKYez3907pnPb7E4QJBwZcHLchqxW3FFcdnBBG/MD7yflh49vglee52+jf++tM7j72qwjtD+ITESQdJWkkFiEDI20hvA8PDpoRiwHG9Hz/IPln6lzsA/kS7I/fuPfX+1XiPAXuChgBhxAeH7IWTiQjHckV0hMdBPMAI/l165Tsjujm38XvTujD9czwzvJ7AD/8DfVdAuIEK/EL/5wCsvpm+tj8t/5UAIr0pQI2AUvyxPkuB/f4HfL1B9oDPvXO+xgOGATl+mAMkhb2A3QNfx1DEzYN+BciGxUGL/7QEzP8yuoI/QP+xeWW9S8BKvgS/44L9A0BC+8PoRHyEcgCnAWu/234OOU59MzxXt5g9iD0U/XY82cD0Phe+AT42v7X+DPuHf5Z/Uz6Tf51EFUHzwWRD/wNnv2S/i8AbPgb7BvsKvhZ8p/pk/2yByv3BAiBGisMjg7+H0gftQ4yD+cenAxt+GoJjwjw6g3q5APh6jvnP/wi//f3zf4GDg0OBwpBEmcYbQxmCtUMfAM+9/T43fXn7M/piO0y7Gjt/fJw9Gr2Mfq1Aer+OAJ7CEwIXwc4CfwKNAVuBhgDLQHl+oP1JPai9y7tDPBN/O/0ZPNZAIwE/vvm/2IMXwrT+38IuhHN/h3/XBBICkf4Ggp+ELX9q/sQEJ0GYPURDJYJ5v9TBjMMmAe/BQ4J9QrkB4X+pAbRAfH0wfbi+GDqovFL8xryk/S5++8BcgAP/w4Jigd69mQDCQX481Tx1QHP9Rrxhvox/Rb7x/naAYsByvwa/Z8IBQDC+5cD5wl+/w39QQgZCGr50f9NCggABfvZBigJ4fwZBQgKiAZkARIFpglJAgv/7QcEBboB2wikBhMJPAvbBLUKdQXV/mADwPoy86D5JPGK6Rf3ye8v7kP35v7Z964A/wOuAyAE/wFpBLz+a/9C/MH+zvwr/Wz+df+E/W7/8/14+1T9wfy8/DH9VAHq/8gFpQT2BuAIaghBB3gHVwYyBMMCjQBgAUL/lfzq/Uz6sPk5/aj1nfkp/6L6D/scB9oEBAUfDYwPlw4IDlwQYg74Cp4CdwJB+zP2BPQx8KTvBvSi7hv3SPuP+An/bgThAOgE2gQUAr0H/gDq/FIEOgD+93n/Hf0193r3f/hH96zzkfZ4+Vv7RvtrAUwGfgYEB6AK8QtWCgcJIAnPB1oFlwEoAOT+tPv3+y/7EPrg+yL+Xv6bACAGeAehBiUL4Q5qCb4JMg1jBWUE9AK1AMP7DvqG+HH4KfSo9X/5HPeL+Mz9yP/o/JUATQEqAQj8Yv16/6f5e/mn+237cfpf+k/91f3Z+rD8nv4o/aD8nv7y/8cAKAOTA08IbgdfCIgK5AjpBusFiARtAmIAgv69/4X9rvys/qH+P/1JAZP/jgCMBH4ChAKWB7MGswVsBg4K+QRNA5YFAQDh/ez6Tfow+Fr1z/R4+cT36fc9/Fz/Df5V/2YCrAFtAAMAVgCv/tD8z/3s/E37Av+l+238Ev7Y/Mr7Sf4WAGD9jgLhAicERAMTCB4FPAV2B+8D8wJJAw8DvP7/AKr+yv3T/Rb+I/z//E8AwPyZ/jYDTQEIAX4GyATKBHgIJQb5BnwH6AOMBNECmP+3/jT8P/vT+8L40fv8/NH7+/5E/wj/7f47/u/8QP0l+un67Pm8+n36Mfwx/HX+gv2S/oIB7/y8AKkBRABSAEAECAHVAwgErgJEBZkDeQGuA+MBjv0yAuH99vzq/e3+H/5H/hgANgKaAqcBcwYnBegD7wQiBz8DdQNgBAQD4wE2AasARgBQ/9/8kv5G/fz7yvxS/Ar8cv7T/F39GAAZ/0T/+P/q/xT/H/68/Mz9NPse+0n8Tfpi+5P9ifx2/HD/Hf5J/2P/eQC1AXICygLyBPsFcwTDBRcGAQSiAS0DewDV/vb+A/5A/0T+2P8WAE8CkgFNAnsDZwL4AmcCrgL3ABUBFgAPAAb+ogBg/mX+iv9w/5z9kf+j/kD9NP+//s/9Of///4P+QQBO/57+W/4f/ib9cP2X/TH8V/9b/4f+cACwAVYAIQH4ALsAbQBfAKcAWACz/1EB+gDk/zICtwFiAAMCpwFc/+MBr/9A/2f/mv/2/VgA0/9NAD0BcAGsArMBxQGCAoABewDXAJcByP9wAJQBUgGiAOwB0AG7AFsBLABn/wn/fP5u/fH87PzX/Bj8tfuJ/Rz8q/wm/Yv9O/10/qX/MP/FANr/3AFoADMA4ADOAIP/af9wAdP/if/1AC8CaQDOAKoCHwJr/x0BJgJi/ub+HAB7/nz+w/7d/kgARgC+AMECbAOEArgDnwQwBAIEtwLDA1cDCAEIAY4BmQC3/fT9Yv97/Qf7C/7z/gX8ovwC/4r+gvxZ/a/+vP7R/MD8sADP/cr8R/9hADj9+P04AQH/qP7x/9AAh/5N/54Awf+x/8AAXgL3APMBEQP2AyEBpQNlA7cBDAHvACwADf9J/0f+VABu/oD/LQCZALAAQgFyAWAB3AJmANABsAFnAWP/oACXAdP/2P+iAI4B3P4DAI4Alf8y/c/+YP7s/Jn82Pwa/aD8Bv2E/Q3/9v2V/lkAtv+M/6AA9wCnADEAaABpAPL/6P9yAK7/vgDDAXcAWQEkAscBogGzAecAhQHm/5H/FQC6/qP+Iv+M/ib+Vf90/lX/VP9vAFsAGgBCAU0C3gAoAUYDtQHqAKABEQL4AIn/2gFNAaf+yP8cAQv+Gv7M/9H9Ef7c/VL+5v2F/U/9z/8B/s/9ngCB/w3+AQBbAaf+2/8TAVkAbP+7AAMBkgDW//gA2AEaAIsAvAGyAT0AVgG5AJ0AswCY/1EA8f9r/xL/SwCh/1D/ZACLAOv/IwDnAO3/pQCpAOwAoAAKATQB0QBIAcoAzgCEAD8Bpf+8//H/O/+s/gH+Nv4r/lT92vxu/gT+nP2g/qr/G//N/94AhgAkAacB0AAqAWABjgCdADoAPQDD/+H/Y/8AANT/fQB5AA0BbQGlACYBwwExAe3/4QAYAIP/Ev+O/1z/2v7N/k3/UP/v/pP/o//o/67/HQBEANcA8v+gAFQBBQGbAP8AswG+AM4AwABGAfn/Xv/Y/7//nv5i/mL/Uv6l/bP+bv87/rj+d/80//H+qv/k/zsAOgCCAJAAswC+ANwA4QAWAREB9wDJALIAAQFkAKcAPwBpAD8AVgCn/wcA7/95/8P/Pv+l/wj/VP9Q/9v/D//T/1IAif8RAFYA/wByANcAhwAGAWkAcACHANUAJQAHAPcAMQBi/7X////B/hj/df87/1L+6P5Q//H+iv70/yUARf9u/8MAw/+v/5cAhgDd/0sA4QAqAB8ASAAjAfj/HQDJAA0BZgCpAEgBZAB2AIIApAC2/8//n/+K/zT/L/9u/zf/Nv9b/6j/MP/4/+P/8f9BAOAAjQCCAAUBzgBEAKAA6AAOADQAoAAvAHz/nP+s/4H/Sf9i/5f/9P66/qH/Z/8m/7H/RgAYABYAbQCEAFgAJQCyAMMAAADj/94AfQCT/zgAUgCz/4H/GgDN/5//6v8vABUAxf9dAFgA9P/7/2gADAAoAFsAMQDW////6/+//+//o/8OABUAQQD//xUAVgAvABUAGgAmAM//yP/d/18A//8qAKsAKAAKAOv/rP9b/3f/Xv+e/0n/gP8vAK//uv9UADsA3/8fABoARADh/+T/MQDf/7//EQAdAGf/p/9DAAAAlf8hAJAAw/+6/zsADAD5/1sAjQBGAC0AlACHAGIAbQAmAAcATQAOAOH///8lAB8AcAA2ANv/6//5//n/sf8YAAwA3f/M/wgAHAC1/8P/KADj/xv/v/+8/0f/ef8FANP/a/+q/7j/HAAMAF8AXwAYANv/KAAfAPb/SAATAEYA9P/9/zgAUgABAFIAaQD7/wAADwDr/wMAJQA/ANv/MQAYABj/lQFR/JIAYv+l//MBRgDq/7z/sgBBAMz9HwV7/an/xgL3+8UCIQC8+x0E4v15/4wEhfqlAGsA5Pt8BVL/bwAaBMf6bgFPAUj7kgWS/Z/9oQKE+0oBNAGH+7wC/f2h/d4EJ/xjAjQCXvxMA5L+wP4NBGf9xwFnA+P78QJh/hD9HgXP+6MBUgEU+5UCyf9P/ZkDTf6q/6YDUfvbAzcAhv0bBfn88QCLAwH8bgLA/4f8lATq/FP/OwTy+ikDxACL/OsDvf3A/iYEsPtcAhYBpPtVBIT+Ev7QBEL7NwFlATn6WAMU/JL9gQO6/N4AtAFf/LED4P8j//MFtP2IAowCh/uSBIj/Of1iBCH7wgCGATf7WwL9/6n7lQSh/BkAOwQB/HcDPwBZ/Q4En/1HAKQDxfthAvD/uvycBIb9hf+rA0n7xwLQALH83QMU/Yz+wwKV+2MBFAG2+wUEBv1N/sADd/xXAisBbPuQBEH+Lf6FBHP87QCkAeH7aQRM//n9iARx/L0BkwL4+2ADiP9//QoEhvx3ADUCV/sGA0r/LP14BBL9BwGxAoH8VgMeACL98wQc/fb/dgMH+8YDiwCk/MUE/fz+/n0Db/uAAugAIvwEBEX9pv4HBOb7BwLHAPb7bwPl/Ur+UwSI+54CCQHi+xYEnv3+/cQD2vuBASwCdPt7BIf+Cv7xBLX8mgGJAhT86APd/rD9MwTk/FoAxgJQ+3EDN/+c/KAEF/x8AAcDJPumAw8A8vzQBMP8ZwBgA8b7pwLEACn8YQRr/cX+PANu++gBjQDL+ygFpf2X/7cDrfudAj4BXPzGBLH95f7TA6n6ngH8ANT7lgOF/qb9eAS3+w8CFwLp+7AE0f6v/VwEzPvwAIYBtPtMAx7/D/0SBIT8MAF/AiX80AP4/4b97QTS/GwAvgNU+x8Emf/U/bkE6/zW/xEA6v8WAKf/OwBz/54APf/vABwAUgC6/wgAvP/h/0YAjv9dAKP/ZgDR/xYAEwBrALX/3f9S/wv/IQCR//H+ngD//joASf+4/3f/VADY//T/KADG/20Alf8qAGkAZAAMADEAjv9WALb/kP9hAPT/h//FAOT/dgDXAIkALQCOAFsAtf+EAGz/KAADALX/g//r/6P/OgAAADgAo//CALz/UQAvAGQAqwA9AJcAp/92AJf/SgCa/g==\" type=\"audio/wav\" />\n",
       "                    Your browser does not support the audio element.\n",
       "                </audio>\n",
       "              "
      ],
      "text/plain": [
       "<IPython.lib.display.Audio object>"
      ]
     },
     "metadata": {},
     "output_type": "display_data"
    },
    {
     "name": "stderr",
     "output_type": "stream",
     "text": [
      "100%|██████████| 600/600 [01:35<00:00,  6.31it/s]\n"
     ]
    },
    {
     "name": "stdout",
     "output_type": "stream",
     "text": [
      "Epoch 0, Loss: 1.9090728822350502\n"
     ]
    },
    {
     "name": "stderr",
     "output_type": "stream",
     "text": [
      "100%|██████████| 600/600 [01:35<00:00,  6.31it/s]\n"
     ]
    },
    {
     "name": "stdout",
     "output_type": "stream",
     "text": [
      "Epoch 1, Loss: 0.9466526167591413\n"
     ]
    },
    {
     "name": "stderr",
     "output_type": "stream",
     "text": [
      "100%|██████████| 600/600 [01:35<00:00,  6.27it/s]\n"
     ]
    },
    {
     "name": "stdout",
     "output_type": "stream",
     "text": [
      "Epoch 2, Loss: 0.6206884394834439\n",
      "Test Accuracy: 98.66666666666667%\n",
      "2\n",
      "540\n",
      "ASR: 0.3703703703703704%\n",
      "Clean Accuracy Drop (CAD): 0.3333333333333286%\n",
      "Backdoor Attack Success Rate: 0.3703703703703704%\n",
      "Running experiment with poisoning_rate=0.01 and freq=24000\n",
      "Poisoning rate: 0.01, Frequency: 24000\n"
     ]
    },
    {
     "name": "stderr",
     "output_type": "stream",
     "text": [
      "Some weights of Wav2Vec2ForSequenceClassification were not initialized from the model checkpoint at jonatasgrosman/wav2vec2-large-xlsr-53-english and are newly initialized: ['classifier.bias', 'classifier.weight', 'projector.bias', 'projector.weight']\n",
      "You should probably TRAIN this model on a down-stream task to be able to use it for predictions and inference.\n"
     ]
    },
    {
     "name": "stdout",
     "output_type": "stream",
     "text": [
      "Playing clean audio 1\n"
     ]
    },
    {
     "data": {
      "text/html": [
       "\n",
       "                <audio  controls=\"controls\" >\n",
       "                    <source src=\"data:audio/wav;base64,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\" type=\"audio/wav\" />\n",
       "                    Your browser does not support the audio element.\n",
       "                </audio>\n",
       "              "
      ],
      "text/plain": [
       "<IPython.lib.display.Audio object>"
      ]
     },
     "metadata": {},
     "output_type": "display_data"
    },
    {
     "name": "stdout",
     "output_type": "stream",
     "text": [
      "Playing poisoned audio 1\n"
     ]
    },
    {
     "data": {
      "text/html": [
       "\n",
       "                <audio  controls=\"controls\" >\n",
       "                    <source src=\"data:audio/wav;base64,UklGRq4RAABXQVZFZm10IBAAAAABAAEAQB8AAIA+AAACABAAZGF0YYoRAAAeAD0AHgAeACgAFABRABQARwAoAFEAMgBHADIAPQA9AGUAKABlACgAmABHAI4ARwBRADIAFAAUANj/7P/D/6//zv+b/8P/r/+v/6//hv+R/2j/Sf/4/gz/u/7u/uT++P5U/17/2P8AAEcAhACOAN8AywAIAfQA6QDVAKwAhABlACgAKAAKACgAFABlAEcAmABvAIQAjgCYAHoAhABlAFsAUQDs//b/pf+l/6X/4v8KAI4AmADVAPb/P/+e/W38g/s8+9/7Lv3P/vQABgJMA2ADGQNsAoIB1QBHACgA7P/O/3z/2f4Y/nX93fwQ/Z79u/4yAKEBswJMAzgDswLJAdUAzv8//+7+Av81/5H/uf8eAFEAtwAIAUUBoQG1Ad4BlgFPAd8ARwA9ALn/PQBbAG4BJwHi/xj+ofvZ+FX4LPgV+oD9ogDaA5AFCgbeHw8V+Qn6/RX6cvlG+z//zv9X/WH3svHF7CvtsfL9+3gHUxFLFu8VQBBFBxj+2/c99FL0YfeZ+vH87v6I/s/+2P/mAkUHFAzxDrMOhgv1BUn/b/sr+QD6+v3oARQGEQi+CKsHywZwBuoGGQmODLMODAvJATbyMd3vzVnFU8nj2tnyJw2qICkqqCf5GwcO/gA/+Uv4cvk4/Z79r/mQ87ntietG77v49QXDEREUGBCuBaj3dPI28l/49wSrDeMQHQ28A6/5XPSo98X+PguJFTQXtRPwCL78rfT48mv3hABKCsgOTA8oDHsFiwLZBDgJBRXqGCUCfuwtzQKqx64DvMrdDw/AMa5CbT7DKfcKPfQ879vrFvlfBLn/oPxo7UnhZ+Fd7S8CrRhELMct2yGSEFj2Pejx5Nboq++K8ZDztOrP7Mj2bgFOGpIomynGIZ0Jf/GQ4VbfROpX/Y0TtBphG2QT+QM1/xj+EAIKDLwP8g07B+L/pfni+ZYB3Ah3FKUd2RDR8QHVbLTppk3ANuB7C6gzcTwwMvIZdf1C64TuaPl2AgELYgJY8B/opOHR6xcEWhmUJ38nrRjyAarwq+nn6sX47PlJ89HxHeOo60H+zxCmKL4s1B+OBsXsjd063tT1ewvFHFAlVhUcB875aPP7/GwIcRGQEdkKCgBX92P8LASoDzYcYRsOHL4OaeCPw4KtspzfxCLs1RKbO8o9JC3oE078IO0O8kv+E/tc+gfwZN2J5bLx6AdwJPotTSehE8j8jen45izyMvu3BvcE1uhR4mTdKuekEccn5zI6LMQKgerI2P7ctu+fDiAjcxyoFfwBAvMO/uMENhBhFQ8JXPrH8cL0UQBmEtcduRdAEAYCY/zoDYsIVeYM1T6rMJsyypzs0iYjUlxI9CpqA9ngMdfs7Yb/GwI0BbvsyN5t8JL+yh+5NcArqxPC9GLertsw8FQEbA5YDt3qVtmN3SLmRRkyMTIxNSNL+BLdT9f96QgH9B6eJ1oTyAKS+DXzUwuLFJUUTg4k9xbtBfGVArAWdSFVHI4GlvZ18Wj5qBWXK+UJVtNXrgGAKKYg8+wj3F1nVDsfUvTh1d7XbfZCFXYOiPg45XHPq+lnFwQuDUG7KNj5Et1T1UDmjgBbEpUI7/H+6JTl0/yGHZQh1x1WAwfkOt6B6kMCjhjUHx4SJwHU+6z7FwpyF+0QTgjD+W7vDPknB8sSIhY4D3YCZvom/PQAWQfKDYYLbg21GTr208XtvIGb+LtzBGQZE0O4PHUPSPrW6IHqofuuCxr9i+ol6qjlggHlJ2QlMyTXCz/n0eWr7zEBZxEYEDf+1N1A1BHk//RuHycrABglDljwYuqK9xj+6gazCKIGkwOXDa0YOBXSFF0Fee+c8mv3SgRyF6MYPxExB039w/l0/pEEZwWJCU4Okhb9HxHk7LDRqEeNVdqUITcup0zPIvv2eu7l69/7GwiaBSfppNtk74D95yDONfkV9Aay8W7jtPwqCxsO4QXI9qjlCNf78Cv/6wW5Ix4MDQRRDN328P2y/Q7yf/eyAzYQChjGIdsVlgEZA1f3qvZ/CZUCtwYlDj0GfQpHDJcHYgJlABf/kv4NCvYRTBs9Hr3M6p/wqOKYGv3UN7QmsznSCHLta/2l/y0DTf0f7j/bB+RzCgUVLCIOIg74Pfrk/lr72g/wCNH3w/PB7hjmYfEQ/f/6dQkeEpEKQg+BCFz0U/M18zz1ZQZdEeAS0BUCF60M5gi3BpD56ft2AtwC1wsDEAYIwQbjBPwBugQUBkwDIQTZCq4RDiLe9Suk06f9oFPJWjFCJ2Ig9h1m9Lv+yA47AQf2YurP4DPoWwYZG9wObhOtBtn4ehISDbH+GwLP8kvyvQJCAyL4od0q4cPztwYAMFMdegBO/FDpi/aRCk39RPykBfcKEx93JuEXegB39qf47v6tEkoQ8AL0BpwEhAbLEpoF2Pmc/nL/ogw7GQ8hzvlTnjKmrLibyE4s3BoE+B0ZHAd/DzUjhvn53x3p+esc/GAJVgkW+QMEIBcqEWYYrQyt7pb2VATk/jD8+Oa529LqAQU9GPcQ0ghB/lL6MgbaAyn0JvZN98EAchcCF+0Q8Q4NCgMKWwz3BFT/9AAnBwwLqAnVBggBnwLeB64FvwGYAET8mgWmEGcXAOisoATBusgY4EEosv1H7g4c0g6EElEeROo15+kAX/iL/PH85/BV+CkSPRhdESIKYAMm/EkL3g0H8L7kIOdz5pH/iQ+0/AUDZwvoB58OqwdN8dnysf4SAcYJpAuuBTQLiBZHEh0NOQhZAQEFRQ1WCdMBswJMAxQGkQqEBnz/oQGVApwEbAhsDkMC7sGsvjHd0M0f+mAJ0t5OAgwjvAPhF/EOWunICE8NPe67+Mf3MOoUDDQRGQPNC5wKYAM/EYYLx/ck9yTxPO9T+YP72/c//4kDPgVPB4cEOwF/A7gFpgTvA6cDAAaBCMMLXwrqBnAGeAefCM8K+QmtBq4FUQY7B/QGXQW3AM7//gCLAiEEWwbs+V3hfeYY7B/o0vBj8MblH+6n/tH3g/tkATr8vQIDCk8BGP6cBLcAQgN/CUwDVP9pBFkBQgMlCIwBVf4GAjIAywCcBCH/3/un/mP8g/sE/jD8OvyiAMEAjAEhBGcFJwf3CjQLDwncCFgIBQnZCuUJtQetBuoGEQiLCJcHSAVpBHMEFgWaBUMC7vLR62buYeuy67TqM+hy57Tw5/b286D2J/uL/N4BCwWsALUBaQRRBlgIQgn1BQ0E7QSOBtQH3gf6AnT+BQNqA2wCHAH4/kb7lP2I/q36aPkc/PP7V/1RACL+4v+nA80FWQfGCYwH3ge6CiALSQtxC1YJQwicCuUJ5gh2CNUGCwVwBhYFqQLC+mjz7vKB8K3uIuwu65rnvurA78zuCe9m9DD2iPjb/bL9DP9/A44GEgeTCWoJHAdkBzkIhAatBoQG2QRwBjIGfQQ4A0MCHgCn/iT9J/vY+Vz6evr1+hH88/sa/VT/ywB2Al8E7QRbBnYIkwkDCiALXwosCiIKkQqyCWoJWAjLBs0FkAU+BS0DGv1j9un1P/OX7wDunOxG6Ynrt+7P7PTuufPC9CT3RvuX+wT+vQI0BUcGGQnwCLUHyAhYCKsHoQcIB0cGMQeiBiAF2QTSAicBRwBL/hz8Rvv/+in6//qX+4378fwC/+L//AGTAwMEuAURCNwI5QlfCg0KSgrPCkAKdQmBCOoGFAYeBpoFIAWHBL8B0/x0+N32cvPx8KHvmu2o6wDu/u6t7g/x4PTU9VX41vom/KX/agNxBVsGLwiYBtwIOwfEBE4ImAZdBYQGOwd9BMMFcwS/AaEBHgD6/Yv8/fu2+4v8wPuD+9P8sv3Z/m8AOwE5AmkEPQZuB74IdQn7CGAJ0AmoCSMJbAitBh4GIAVKBFYDswJAACgCjvvEADzy4/u67Pr5euYw+1zjw/uJ5J4As+MWBlvmXQr56NARxOtAGBjwbhyZ8E0ffO54HlTuVx5d7Isfh+uUHgfsLh7n6MYb6eYFGW3lMhew4/sVW+QRFY7lcxVn5/wVzergFm7v4xh/8hcZx/VzGCf4Axd8+UcU1vrkEAv7ZA0f+8sI2vstBd77cgFa/P38aPyH+Fn6DfH7+dztuvq/67D9Qen6AOTqLwQQ68IKVezrDtTu1RNt7+4Y3/DJGq7w5RuD7JodFO0dHILr6xxo6DodQ+kOGmfn8xoN5TwZBuYrGGXlihm+5VgYA+n2GKvqZxpB7KYZoO+eGUrxKBmc8mAWJfQuFBj0ehGM9DMNp/VOCq/1Nwd/9hIDmvdSAGP43vwb+v75WPyN+Ez+u/Vt/8HyGgIO8X0E3O/gBmLu3AkU7fILbu2hD2Ts/RIH7YoVfu1hGHrsvxpV7UYc9eytHbDrVx7y66Eel+t9H8nqiB5T6tMdpunbHAvplxr758gYNejfF8/oRhaI6fQUf+ofEw3rVxGe7IIPMu4yDVXvrwtf8VQJTPPCB7X0ewV89zEDzPmUAXb7CP9M/l/+av41/wL/cv+G//j+VP9e/8X+X/74/rH+kv4M/1T/K/+5/2j/7v6l/zIAHgBlACcBywCWAZUCYgJiAgUDagPvAxcEsgNgA50DvQLwAr0CbALeASUCggExAcEAtwAoAJH/Xv8C/zX/+P7u/qf+Lf4E/tH9nv2y/bL9Vf6S/mr+X/4t/kH+iv2A/ZT95f2n/nT+aP8r/zX/uf/s/zIAPQCiAMEA/gDBAMEAogCOAMsAogAeAD0AFAAeAOz/WwDi/x4A9v9o/+z/HgAeADIAMgBvABwBZAFkAZYBvwF4AU4C0wGhAasBRQH0ALcA3wBlAEcAFADD/3z/r//k/mr+5f3H/Z79gP2y/Vf9Tf2K/cf9vf0i/lX+fv7Z/iH/2P+iAKwAwQBFAU8BWQHJAckBjAGCAUUBbgH0ABwBOwEcAbcAKAAoAM7/4v+R/1T/VP+v/6//m/+R/6X/kf+R/9j/m/8UAAoAWwBvAIQARwBRAKIAmADfAN8AwQD0AKwAegA9ABQAuf/2/yH/Av8C/9n+nP7Z/lX+N/6c/l/+Qf7P/qf+If+G/2j/aP/Y/xQAKADVANUArACYAMEATwF4AckBWQHeAZYB9AAxAcsAogDfAHoAUQBbAPb/HgDD/3z/cv9o/1T/If9o/4b/AADs/xQAFAAUAJv/AADi/+L/KADD/7n/2P+5/87/HgA9APb/w/+v/zX/fP8r/zX/Nf/k/vj+DP8C/z//Sf8//xf/2P+5/4b/PQAyAEcARwBRAFsAegB6ALcAmABlADIAhADLAIQA9ADLACcBlgE7Ad8AywBbAD0AKAAAAPb/w/8UAOz/w//s/wAAHgDD/+z/w//2/7n/2P9J/zIAuf/O/87/2P+l/17/Sf98/xf/Sf8C/yv/7v41/0n/Xv/D/87/9v/Y/1EAegAeAJgAegD0ANUAogDLAOkAtwDpAN8A1QDBAJgA6QBbACgAAAAeAB4Auf+b/8P/7P8AAMP/fP98/7n/pf/O/woAWwBbAPb/UQA9AEcAUQAyADIACgAeADIAPQAoAOz/uf9o/2j/Nf8M/xf/2f7F/oj+p/6c/sX+7v4r/2j/cv+5/5H/pf+R/6//zv9y/xQA9v8yAG8AjgB6ALcAywDLAOkA6QAcAQgB9ADfAPb/HgCv/9j/w/+v/4b/2P+l/5H/r/+b/6X/pf/i/9j/RwAoAI4ARwBlAHoAMgA9AAoAPQAUAOz/2P8oAOz/pf+l/xf/Sf/k/sX+kv6n/s/+kv74/kn/hv9e/6//m//D/ygAAABlABQAhACEAG8AjgC3AJgAhACYAGUAtwA9ADIA7P8yACgAFAAoAMP/CgAUAD0A9v8oAAAAAADi/7n/FAAUABQA4v/D/x4AFAAeAB4APQD2/woAzv/Y/5v/Xv9y/0n/VP98/3L/w//s/+L/9v9HACgAw//i/6//kf/Y/woAFABbABQAbwBHAFEA7P8yABQAPQAeAB4APQBHAHoAUQAoAMP/HgBHAOL/7P/O/1EAFAAAAKX/w//O/87/4v/s/w==\" type=\"audio/wav\" />\n",
       "                    Your browser does not support the audio element.\n",
       "                </audio>\n",
       "              "
      ],
      "text/plain": [
       "<IPython.lib.display.Audio object>"
      ]
     },
     "metadata": {},
     "output_type": "display_data"
    },
    {
     "name": "stdout",
     "output_type": "stream",
     "text": [
      "Playing clean audio 2\n"
     ]
    },
    {
     "data": {
      "text/html": [
       "\n",
       "                <audio  controls=\"controls\" >\n",
       "                    <source src=\"data:audio/wav;base64,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\" type=\"audio/wav\" />\n",
       "                    Your browser does not support the audio element.\n",
       "                </audio>\n",
       "              "
      ],
      "text/plain": [
       "<IPython.lib.display.Audio object>"
      ]
     },
     "metadata": {},
     "output_type": "display_data"
    },
    {
     "name": "stdout",
     "output_type": "stream",
     "text": [
      "Playing poisoned audio 2\n"
     ]
    },
    {
     "data": {
      "text/html": [
       "\n",
       "                <audio  controls=\"controls\" >\n",
       "                    <source src=\"data:audio/wav;base64,UklGRk4rAABXQVZFZm10IBAAAAABAAEAQB8AAIA+AAACABAAZGF0YSorAADmAWUCPQFQAigBEAL7AXwB5gFSAVQA7v4AABUArP+X/5QAV//oAJQAPQGUALwBaQDoAFQAlABZ/ob9yPy5+V78+/hN+iH7YPu1++H6Mf13+vT7B/2y/C/+7v6E/ugAvAGnAfsBJQLkAuIDygSzBYkFHQbyBR0GNgTfBPcDzwK6AmcBjwIQAnoCZQIMBDgDDgOkAvUEYwM4AyMDEALRARj/1v+1+5v9evk6+RD5Ufim+JP3Jfm/9nr5kfgS+BL4qPc+92f40Pim+GT5ivvO+Qn8sP3Y/lQAegI0BTAH1whWCZUJfAs8C34KqgkrCS4IbQjZBxsHGwdcBlgI3wQDCLcDswWiA7cDEgF8AW/+KgBx/Vz9svz7+K7+WvQx/Sn3Evjl+Cv2T/mt9UP1ZPlt9dn0Pvfd8r/2qvbX9Sv2gPY8+Ln5ovpZ/pn+iwTGBqoJpgtLDrIPLxHaEEkP+Ay9ClYJHwUIBvkC5AKJBbUESwROA54FMgazBQoFogN2BDsCOAMH/VAC8vxG/cP+PvfY/s75yvud/L33I/qX9RD5//Zr9jj6hPS/9m/0b/Rh8cT0DvCz8hv02/Oo9/33V/8v/ksEGwcUCk0NHBBxEAURHBBzD3kMog1BCewIswU2BEsE3wReBWEEGwc0BVYJyAWvB3YEhAc0BXoC0wAqAMj8PwAh+5H4Nvvo9/b6PPio95H4fPg+9373K/ZR+LHzPvc08g7wS/G6717yYfGk717yFvZn+Ij8/QBxBlMKOA1ZEW8RKxN/E7AQBxCRCxILRQdHBs8CjwJcBlgIOwJBCY0DOA1xBhQKxgZhBOULGP/dBfT7UgG990T+pvgj+jj63/vj+T73ufkw9OX40vdY9QX0EPkF9Jr04vA08s/vfO6R7tPtifL18b/2Eviw/QoF7AglDGAOQBOnFDwV6xIDEgsOIA6JBcQHOwLIBY8CbQgfBYsEJwvGBv0KrAhTCnYEpAz7Ae4HT/kyBnz4vgD4+b/26/9L8Zn+yvE2+4vxDvpt9bPyK/Za9B/yWvQ28aTvAuwA7cfpZ+6k76ntsfNW9u7+UAKmCycLExQrE7IZuhX4Fq4RrBIQDKoJoARlAswDqQBaB3EGhgYYCPYN/QrwEG8Hcw/1BCAOvgDMA4L/Mf2I/NL3S/uz8hj/KO4a/k7wlfYw9EvxbfVv9OP5geyJ8jbxcOrx6W7rxOpI6Vbs+e/d8k/5rP/qCVELrhHNFiwcxRqpHQsYjhbrEiAOhgZOA2z/A/9v/soEsQZQAnMPQwiSFM4MhBGKDjEQ4Q33A6IDfgB3+vj5wvXd8k369/Co93zuQfZB7InyG/Qo7tX2t/CJ8nDqovDP5dzpJOZe36HnCOnT7YnyMf1xBtoQdxeyGSYfLiVDJWod8RlAE4YQDgOu/kP1gPbZ9N/7OAMIBugKURXNFssX7RtAE2odhhCEERr+lABD9ZP3heoY9QLsG/TT7RvqUfh06AH23OmI/Mvn4/m/43zund995E7m0tpG6obgYfH18cII/wmdGdYcfiePKXEtwiV4ICodmRHwBp38Afan7gDtieg97vj5lwiJBSYVNCJ8KHopLiUbJIMbmBsQAo0DmvTI8n3kdOhO5k7mp+7J3lH49+ao90HsovDN8IvxlO1E4e3r7eFz32ziOeYi51zzpwGiDfwUNyFtJawvUzHyLLUh8yL4FuwIGP9D9WXviehM51fidPKm+FwGLxFwGoshcS0hKxQnEigRH6oTvwnu/jTyUu4V417fa9mB4uHdM9+u4ZHuhPQ16AjzdvGv9BvquObF4DfnTOfF4DPpFvbFEGoTExSeIho4HDctL6IqGSWLIUQRNvtF9LPyCugl3MXgv+PP7yP6CgXxGTIjzCpYLzozsC2NKlsarhEfBfb61ezH6RjixeA43UDZkdvU2fzkNeiY64bgVvan7r/jSuh25/7jVOtf7ArsmgV5FsEdphJMOBItRT3RIt4xXxPVKif1owSu4t4BJs9E86DQUQDc3V4UIfOzNa0RYT7kFhFNOxEuOUD66iZQ4rcSAcklCOPE9/yvuxEFMbyQ+HPB+gwcusQN1sNeC5S9FhMLt2IfML4QIOrLrElB785M8vmsaCELvF049e5PdfAZNZbF7R1PvUATRqnwERm38ieZwIs/G+TAYPDyY2VN+2VoWewjSCnZyDWsv90ZUrEUF2CrHw7TpeYbz6MaDkqzJx5Yrr4YXKvxG7WvPhbDtskmHMAGNzPbm2UC95JgYQifcVAGKVYo7xFDHdsSH4G3rw25uK8Dvq/+EoXKvCTE49ZJ7gJnWg0HH139B5FJVOmuMN/VpBHQvgIC775r/GG62Pk9xVz8nL5B/tTNqvtlwnP5YsMe+IDLQQBP1Q0ROvpBPHEmGzgPOutbqDS+OG0mYCp9AqQBut2s6E7XR9payojpsOsT9fr9BB2tLvgogjz5Nw07lifxIvYCAQvA6mbnidKz6oXMFuKwz7HuDtFe8DjPJfiL0X30asas95HE5vHSzd4H2M6lJWkHnFokAd9g6TVxYxsUHE4SCkY0MN8FDA3DeQoFs+T0a7rBGWHJ5yG86rhUPQq6V4oCFm8pA3VFYNm+PN/E9A66qUgRi60VBkekdRJxtKgFo6kbIjSsewYBrpUW1Z/1CAeyhSLguVFAAPe7b2fzYnylHaZ9LP5xYfDw/EYryBscWqyPGoOkFQnrrdkr7sU0MzfjOGQKAs5ezghxcyLzSkt22ao1RLYHEd+nagnTp3IHSKVJDIKw4AjysdYYkLl6BMWzKQtpsJcByLXAE+vTIzU7BzJa8gjXb4IrSWdiBs9RxgMfKGjUWQyJx2X6BL1j/AnPQRL05tIirgS2Sn8kj0VuHw1LzhiTIFHwegzF2y/o68cf6RHQq+NtzOfm5tmm5YHZ2/EN1yng9dsI4LHMeNmP65PnCfyrGrJC6SEsNXNM212WJ7wncCP1KnPq5/Ua2/jznspr6onSPAHf7T4bx/qOODUmAFRXFKBOFBkpPeflZRqu2K4AJ7oG+hi+pf1NvDwCtbwXCVnCrAyouMoHBrl4AcuravvMuMQOzcPgLmsArmJA+r5ojyP1fWP5Sk2x9bxEPMCTEGaysBZwp8oNfrYZKkDPjUDq59haFweLd1AAZF6M9ZJbRM79IlqzCiBQpMwHy6TyG8GuLRX2rB0fO7VjIYWv4hWYrFUSZKGcBw2tZBz4vqw8GfpjaET0sW3dGP9/yvCbS/jq5UbXwBkMx7NqFnSw2AsEvvIoXtjGO9vyP1PCCbJnGxCGU3X1Q0QX5gkYCrefBdG+Af//r/z/i8YyCty9XAS00NULFsS/+y3FMfnhugfxysm/AcrgAyT2GrpGNBmqSFA2FFsaFAAjuAGuHhrpfOpY0gHv7Nw27Afm8f88AHoVnRvDKroviTcVMbcqNyE5Fh0G6vZd6Znhn94i3V7ftN5V45TjPeRq43vlpeWb4MHiDd382uzYS95h5yrtn/vDEQMv4TRqMJMxezzaQfYq1BMIBoYGyvv153ncyd4d6dfr4PEj+okF9A5fGNclxi06M9kupigmH8MRMgZU9y7rn96f3lnhp+Qo5D3kpeXW4nbnJOZI6SrjPeRu4Q/cldkg3rHpQex6+awIoioeNqYyBS7nMQhAYjS8HjIG+QJs//PyuuU13lPksemz8pH4vAG9Cq4RfR7OKTc0XC1rJrweWxoFEfT7UO8o5CTmauOs4n/jJuVQ5XXe/uP+41DllOPY4VXjzN223abbD+aD61b2IQSWHCI0xzZiNIgsrjiBOQksRhCX//D9ZPk48HXeHODz6PDz+PkD/xgI8g+aGsshRy17Mh8s4CE5FlUTGAgQ+aPmf+M16HToDedQ5SDop+RX4oHiE+QV44ree9um25HbudzO3OLm/e18AZ8OQyULNZQ6mzdCL0Q4kDIQKVYJzPqt9Sv2ae1e38ffX+iT9/L8TgNmC30UJh9aJIgs5TLOKW4b6AqiDQgGEvi/40bgAuw77xXtTuYK6F/olOPt4e/gCd9A2YvUrNjZ19TZrtd253z41Qm9FA4qoT7VQ/w7rC+0NaYyMCRjA7PyDvAh8bjmftpi3ZjrHvzRAXEGCQ9ZG8YjmiRNKucx4ymhFwoFHQYlAvDzlOOD4RDv3fI08sTqAO3a6hXjMeAl3IjfL9em0UPO+9Gx1gveh+n996gK5h4tOT9EO0ZbN7I2bjiTMccZ+Pl674PrAO0z3xbZ4d3579MA8Aa5DPoVOx9BJtMnHC0DL4cjWRGLBIsE3fw97tbijuZH8wP1nvKn7s3wMOqn5LDg59p+2vvRYtOo0FrNqND6207wc/xPDBkb0TuzSbVInTaXL3A3Ly45FjTyyegg6HTojtyb1q7hcfO6AlMKrBLFGkwhLiW+J/kpjSq+HeMMVAAD/zT8ke4m5R3pgPZ3+pH4GPUy81TtIOiy35vWk9BwzYDPhc16yHLMZNx08roCXg/GIyxD31JDTIM4DTRGNyMqKQpb6kLiV+LF4EfW8tUo5JH4lQkrE+scniKrJlIoqyY/J5wjKRSnAZP3OvmC9a/q0uSn7i/+pwFX/5v98vzd8pDl5dvw1qjQeMmBxRfFusi70QfgePCkApAV0ycCQ/RSeVAIQBQxezIuJQ0NG+rQ2zXec99N3a7XTuYh+4YQRBv7HiwmPCikKd4iTiDoHaINHP2z8hT36vYA7TPpoPG1BOwIXgUQAv0AgPaW4h/VP9AEzpbF88HcwkrLudJN3fDzXAbHGbEjkjvdU15Tx0B+J6smDCEQDIfp99MY2DXeRuD03rTohv0rE8gikSgjKv8mciMRH2QWhhAuCMr7MvNe8tD4OvkW9uP5GwfwEKINMAcQAmT5vOTR0fnIhcNfwfi/KsajyeTS394p990PZBYwJMYt6k0vVUNCECk+FBccfAvs9cTX09Ck3I7mPe5O8C/+hBEXJukwsyyJIrQYURXyD/sBA//j+ZP3XPOk+ZkHGAgdBq8H0BXJGHcNVABB9rHpvtDgwJe767tvuqHAJdK92n3kj+/ODK8kTykhK2Yy1U0ISqwvahMwB/8J0Pgg6AfWQNmO5tn0ZwGcBhwQah1vLjwybyRAE0cGOANL+x/yj/n2+s75I/qRC10ZqhPhDTMPcBpVE2cBgvUb6h3WUb4Fuqy7L7qOv5PQFeNA43zudgSBHK8kRyPjKeMzXUDjM80gvwlC/5n+//aY6xLb7+Cc8x8FJwtmCz4UBiTfK1gl6RMMBI/5WPXN8GHxhP7iA4kFKQqwGrUhMxmKDjEQLRKxBgP12uoC4sbM3bi7tADG5sdSx3PVAuy7+BL49wOHGcIlKh2tGwQlxzZcLdQTOAMt/+IDd/p28Zzp/e2P+ZUJ2hAeD64R8xg0IsMb/wli+jLzQ/XK8Vj1Awi9FAcQ9A7RHlIoxxlcBrcD7AjY/hPuz+Vz34DPzr+FwzTLYcrNyabb2/O5+ZzzB/1sEhUdVxzcGWEh1i+wLdMdqgkY/z8AYPuV9lnr7esp9wMIQhLtEYISuhUAHUYazA3K+0vxjfBc8zH9iA9XEnEQFhMII0MlahNjA9EBIQSP+YHsuuWI39nNd8BZxHrSgM9N01Xja/aR+GPwrP+yD0wX9A6XEv4d9CtgK2odXg/iA7UEOAMY/3bx6uz995cIxRBPDGYL2BFdGY4WaQo2+0vxR/Mu9cH/dxeYG1MU6RMEJYAm3w63+k36PwDC9XDqX+iQ5WLTWcTAxTLWm9b90KTcKfdJ/I3wFPcUCiAYmxD8FBccdSsHLQ4gpRVOA2cBhP4Y/9n07eut9bMFbBKdDwsOmxBVEysTawny/Obuae0d8/IFKB6rHNQToxZpJ68kzgzj+f/2evkY9SrtW+pA46LT08b3yf3QJdJm26/qsfPN8Ajzn/vbBnMPYA4DEpAV2STlMpEoqhP7AUkFJwsoAVzz7+ou9akAJQwgDmkKawm3DdAVCw5G/ZHut/B6+R0GUB9MIaUVXBCaJPsouQyC9Yfzxf3o9/3t1ezv6jjdi8pExCzPsdaw4IfpF+xD6yjuGP8rCToMtQTKDkwXQyXhNNst8Rn3A5cIXBCzBdvzIOjI8gAA2wZpCtsGKQpzD3IZpxQ7AuDxCvJs/9UJQRwTHpQTABPRHs0gGAgb9Fr0iPwh+/XxDvCW7IPhi8qywrzH5NLa4H/jxOos7Ary4/kbB5cS0goxEBYTASa5M4gsCRniA54F/wl2BBT3sel48Mr7lQn4DKwIWAg4DTMZvxPIBfPyTvB6+RIL4CHoHUQRMRAMIaIgGwfw84fzC/s+9yv2nvJQ70bgqNBCxUrB/88l3LToUOXv6nTyAfb7AWAOkBVcEL0UyCLrOfgzBhoyBmkA7gdx/Vr0Xema6r33GwfrEnwLQQm3De8ayxcIBvDzZ+7q9tUJNyEmH4oO+wtjIO4kTQ1Y9ffwpPmI/Dr5R/MI6V7ft9O2yi/EesjK1Jnhz+9S7knyWvTfBNAVoxbwEFkRRyOnO000HhkQAhr+iQWs/5r0o+ZI6X73EgvWEqINGAj2DXAathdYCG/0lO3q9vYN3iKUHXUOtw2+HVIeKQo+9/fw0vc2+036CPPe6GTcgM+BxX3H3dVF15HbVeP15/Dzwf9+CqINLxGBHMAmdTX+Oj8nXg9v/jsCb/4O8KzilOMI8/kCcw9CEmoTPhQEG8UaNg7h+irtAO3M+lwQ8RlKGHUO0BXoHTcXswWC9Vb2T/l3+u70j+9V4yvZJshww7zHOtLy38HiHem87gn8xf2PDDEQ4BfcGRMeijUcN34nPgqC//0AHP2e8h3pSuig8SgB2BH6FbAQBxBfGJ0ZMw/I/KTvpO+6AvMYAB2ZEdsGkhTDG38TAADE9Gv2Dvrw/Sn3xOrj3JjOg8TtxJ7Lm9aG4F3pae0d81z92wZzD+UVsBpqHRIogzjwLZ8YfgBG/YT+Pvd677rlAuzl+PsLERVmFUQR5RUGGiYVswWX9RXtQ/VEEZoaahNDCGAOCxilFQ0Nxf2A9j73KgCpAAryweJA2ZzMocATx8LOpNKG4IfzFvbi8I/5ig5sHJ0ZGxoXHActDzO7KBMUtfvV9lT3yPzw87Toae2E/mwSSBkNF2oTVxL+E9oQngVt9cLrLf+OFtYcABNmC8UQyA8gDlYJsP2E9PDz8P2d/I/vAONl0t7BNcG70SvZu9s75ZHuePD38DYEzRYmFecUFR3/MOQ8Ly7hKowXbfW2563rvff65W7hRfTGBvwUrRuAJggjJhUeD8wNrP+W7CHxxAcSC7cD9wPID6UVBRGCEr0K3fwl+d/7yPxQ76Xlv9nFwy+6/Mc13svn6+K65c/v/ff9APQOxRDEB1gIxRqOM/8wuh/wEEkFpALkAq8HYPtB7H7tEAIAE+UVLxF3DagKaQroCsoEmvQF9PQOdBgpFIYQnQ9+CqQCaQrSCjH9PPgY/1IB0Phe8p/oWM6su+TIod3U45nh/uN75UHsT/krCZUJdgQ8Cx4Z1DDMNLMsdxc0BXwB4gOEB1n+9fG38En8yg4sHFsaRBHsCMQHGAh4AxD52fTIBXEQABMWEx4Pggh8AcII/wm3A538yPzw/Yr7u/hU7bfTkr3WxZvWc9995MnoCujU4yPwTgMNDfAGbQgFEUUkpjKVMDQiwghZ/ob9dAWeBXP8QfZR+LUEZhWUHSIX9g0MBGUCugKX/yMD7RHhDZkHFgmRCxgIfgCgBAwEm/3kAkMIzwIl+brvYefXzt7By8pa153f+uUb6s/lrOIs7PD9HQazBaoJahPXJaE0JzLzIugKl/+u/vUEswWC/0/5C/vdBSsTrRu0GPQOzAN+AP0AOAPQFQsYBQed/C/+ZQISAR0GxgbI/Mr7bwclDKAEkfhs7Cnaksc9xwrVod362/zkIOgm5TfnCvKu/nwB7AjUEzQifTGQMuYoexUhBIL/+QJFBwwEWf5Z/mMDDQ0RFeAX7RGvBxUAhP6UAGINgxuGEFQAI/oO+gn8egKVCWUCHvxnAcQHhgapAK315+Q40y7OytTw1iDep+QY4vzaEtu65ZHuC/tYCBwQMxmzLLI2ATBSHooO5AJL+7cDWgcOAwP/6ACACTEQdxcLGHUO9wMY/y/+AQk/HeMWswWT993yWvRc/ScLUQuiA6QCYQTIBR8FsP238LvbEtGm0U3djOfE6j3kftpL1AHZo+aP7zj6ZwEpCscZ1DBCOUAwfR6kDE4DvgCmC7cNxgbRAWkA3QULDt4YXxg4DTsCrv6RATUYiyEWE0T+E+6D6/XxBQfDEZELNAV6AhACswUDCOYB5u6m21DSAdmf6FnrXen+423YUNKL1Hfd3ugO8Oj3KgAHEFMxZFCRRUEmxgYQ+UP1yAUCHOkTZQJ6+Qf9awmdGSQgoxYQAv33sP3xGZUmxRo4A7ToBeFW7AEJyxesEmsJC/tR+CMD1QmGBgry9t021NTZ6O2V9gjzp+Rz1dXP5NKK3k7mluLf3mrjDPFaB2odzjPxNsMuRy2CJVcccw9BCVz9LvUJ/HgDAwjQCzoMbQiUAHgDvQo1GPkfZhUrCbX7pvjM+vUEFAobB28HSQWeBb8JpgvyBTj6QewN53ToEO/d8q/0Ruo63PTUQtg13lPkTOcT5KHdWNjj3EjpegIGGo0qyitaJKce9hc3FzMZshlEETAHiQXiAxsH/wnsCKIDyPxjA7gW7iTxIwIcig4H/YL1UgHEB2kKrAh4A7L8dfuLBIQHjwI08pTj3N8w6lH4ovrE9FXjNNWAz6HdIfE2+7n5DvCu4T7abuGr7DbxbfXyBTwVhSQBMHEtPR7qCS3/vAG/CW8R6xL2DXQF2/3PAogPkhRKGLYXXxgNF5oagxvDEVELKAH4+Tz4HvypAN381fZQ7xvqresO8EP14vCf6FPkROFb4OviDedl74vxovBj8GkAvAGLBKYLpAIL+1bsg+Hv4PAGxCQCHJ8Y3QUb9E36fgoNF2YVvxMfBQX+UgH4DIsrozOTJ2oT5gEt/zYOOSB4IJQTugIf8rHzhv0lAngDxvNj5mblUu7F/db/m/0q7Z3fntX82oHslfZx/Un8ifKP75jrUu5c81j14/nP77fwAO3T7fT7uQxuG4MbtBi/E/AGswUrCSsJzgzVCZcIzA1GGuwlTykZJbQYPgqsCMoOZhWlFVkRegLE9M3wke5a9Fb2wvW38MrxQ/UO+r/2nvJU7Z/oz+Wp7aj3NPxX/7n5ovow9AryMPTg8cbz7+pj8NPtg+up7ZjrAfbQ+JcIXBAYEgcQ9g1PDEMIYA5+CusSnxjmHmMggCaxI+AX1BO3DUkPAxIWE7UOtQSpALn5u/hv9DD0rfVQ71Tt+e+V9qj3fPig8XzufO5H86T5KAHb/S3/HP1L++r2nvLl+Dvvs/Lq7B/y5u5L8ab4NPI4+rn5GP/u/vcD4gPbBkEJSQXCCLkMahNoFPse8RkMIascuhX6FbUO7RGIDxMUxAd0BWcB4fqG/Tb7fPiz8v/2FvZ3+qL6qvZB9h/yqPev9E36k/eA9j73gvVc85zzzPpY9Rj1OPDz8rzuQ/V6+dvzNvGe8n73yPyb/Vn+ZQJe/Jf/sP35AjQFswXjDFwGPAs2Dn0UAB0uGxUdjBd5Fq4RvwnfDg0NDQ2/CW8HWgcF/rv4OvlN+vL8DgPkAiH7u/iT9yf4Evhc88jyYfF67+bul/WI/Gv2ufle8o/vFPc8+HoC7PUO+mf4MPT0+4vxSfxW9p/7vgAh+6QCS/sAABIB9QSGBiEEsQaGBjYOCw4tEuUVDRd/E2AOrBJCEg8WHg/jDP0KPgpmCysJHwXK+zr5J/gj+rD9HvyG/bD9HP0x/bf6nPO87hDvbfWs/+H64/nT7UPrH/J48DT8svwj+nP8yvv/9pP3A/Xg8XjwHfO1++v/mQfkAtv9yvvK+4QHmQdBCR8FjQMrCZELQBPDEcESsg9mC3UOig69FKwSmQeZ/sX9fgpiDWYLgv/l+HP8PQGXCGEEEvgj8Fj1CPMh+2kA8/IQ+ersNvElAqL6w/6g8YnyXvwl+Wz/YPte8pP3G/Rv9GkAa/a3+qT54/ndBRj/vAEe/GL6UgHoAGsJcQZ0BeULLRLuB5kHygRSAdkHlwhAExIL2Qe3Ax4P1BPVCV4FXvz1BIYGNgReBVb2LvUO+qcBA//l+PL8ZPkbBwn8Z/jE9HHzm/1U9875i/Hw/ZQAI/q5+df1Qv/w/fcDA//C9cbzbfVTCgMIEgGq9pP3xAf9CrUOOwIqAEH2SfwoAfkCIA47Atb/ugLsCPgMggjuB0UHyAVaB/IF8P1xBlACL/4c/Q76AAA0BVwGEgvkAj73VvZU96QCrP9pAHr5ae2/9lz9S/sY/yn31fbh+oj8HwVz/G31hv3EByoAh/N8+CgBGwdlAiP6c/yiA6IDn/vY/ioA+QI8CxIB6/+Z/jIGHg/ZBysJEgHW/yMN+wE2+1IBCfyM+ob9AABlApn+pAIL+3EGbP/m7rD9afffBAn8m/2PAuj39QQ0/BUASfz7+BgIiQUDCHgDCvIe/HwL2/3s9Wf46AC3DQX+aff/9m/+0gqzBXQF/ff7+L8JpAw2BHz4hv0jAx8FcQau/gUHc/woAe0Rwf+6Ajb7tfshBNf1RP44A3P86AD3AzgDc/zK8fD9Mf13+n4Aa/YOA1f/rfXSCpf/5fgt/0T+Mga/9hz9qglDCFoHNPIa/qoJBf7u/jT8sP2w/Y/55gHkAmUCvgCXCJsQ2wbW/3wBeAM2BMz6zPrPAhACRQfW/wgGDAQQAmEEZPlL+875b/4AAAn8pvhC/9UJTgPj+ez1xf1QAoL/k/em+OwI9QQn+JH4d/r0+zb7UALdBS/+dgSJBRACG/S1+8wDAABjAzz4hhBRC4r78vxY9ZUJm/3u/mkKEgEdBgv7lwhLBFT3hv1C/yAO1v96+QP/fAGzBez1tQSqCQAAtwPY/nkMogOx81H4Rv1z/BD5KAE0/Ib9xf2PAvcD9/Ah+4kFIQTK+8T0pwGEB/cDFPc2+7cNhgZG/U36KQp+Ci/+IftpANsGPwDODLMF5gHfBBr+TgNJBe7+YPs0/B8Frv5J/DH9hv3wBpEB+QKUAGUCsvzy/LUEPwAe/D73B/14A/L8//bd/BgI2wZZ/m/+fgCRAWv2Vvai+p/76/+Z/lIBmQekAnf64frw/fAGCgX3A3wBGv63A3wBLf/W/8X9tQQ/AG/+GP/I/EUHL/6I/BACrweXCPL87v7I/IT+NvuX9SMDMAeLBOr2k/ePAt8EQwif+67+MgYIBqkAS/sv/lf/2P7Q+Ij84/laBwEJyPzw/c75ygQQAoj89PsL+7MFGv4B9hz9RP4hBFwGhgbfBPL89QTTAAP/A/+K+04DbP+3A3gDGwcVAJf/RQfI/PcDGP89Ab4Akfh2BPT7HP0e/HP8UwpnARr+8P1+AFACZPnj+bn5Bf6E/mMDaQry/LL8Yvp2BN0Fzvms/ygBIQQF/j73AADW/zAH3wSs/68HVABG/S/+EAK1+0/5OwJhBLwB2P4SAc8CUAJjAwP/w/5J/K8H1wjQ+HP8t/q3A5f//fdN+vD9AQk2+z8AYQQhBDYEZ/jW/1782/0qABj/2/25+QP/KAHoAIr7KgCvB4sEV/9v/s8CygRp9178Mf37+LL8AACJBZv99wOJBfAGZQI+96z/aQBOAz736vZLBHwBl/+b/ZkHegJv/okFV/8Y//b66AAjA4b9A/82BKwIDAQc/Z38BQfTADj68vx+AGUCiPyP+SoA6ADr/zsCzwK6Apn+7v5LBFn+HvyUABACPwC+AOv/CgV+AK7+yAXr/5n+EgHCCOQCEPkY/zsCtfvw/TH9NPw2BFIBOwJ8AdMAjwKRAeQC8vwj+j8AtwMc/dj+VAAOA+IDc/zr/zgDmf5x/T8AKAFv/iH7XvzD/hUAqQAVAJQAiPwa/pwGNAWu/gv79wNeBYr7fvc9AUkF8AZG/dj+lwjPAmEEmf51+xr+Lf+C/9j+9vrkAkkFSfwa/mUCbwcoAW/+vAG8AakA+PkF/lQAEAJz/Pv4kQG6Ap4FXP2d/C3/6ABZ/sX9Lf8e/AP/bP/D/pH4mf42BI8CyPwqAIQHdgTRAWkAoATkAjb7lAAVAOv/0QHmAfcDc/yPAlwGEAKUAI/5KgCcBqcBDvox/QwERP5C/8H/FQAQAhIBfAGX/4L/zAPfBBj/Tfoh+yEE2P6b/bD94gOGBnH9hv2pAGUCHvxE/kL/l/9v/j8AA/8a/lf/RP6NA+gA9PuG/akA/QDw/XwBrP+nARz9aQD7AfkC9QQAAL4ARv28ARACfgCw/f332/00BZEBiPzD/nwBNgQ4A178mf6PAtv9NPz4+Zf/gv9UAIL/2/23A5QAPwAY/yoA4gMH/R78S/uX/2z/V/+u/lIBiQWNA2/+d/pz/M8CfAHI/Nb/rP+zBYL/2/07Ahj//QCiA2cBhP5E/q7+lADM+sX9lACpAEL/XP0KBfcDugJg+wv7TgN4AygBw/5nATgDTgOb/Qn8iwRlAgv7c/xOAxACYPvr/+YBRwbD/rD9iwSnAegAafca/nYEqQAF/u7+3wQ9AfT78P1SAXoC2/1s/xACaQAY/9v9VADf+2z/5AKRAeYBnfy1BGMDaQCf++H63QU4Axr+Rv12BEMIiPxi+mkAYwOE/rf66//B/6cBFQC+AHgDgv9Z/hj/6/+C/2z/+wGNA+gANvud/NEBL/7O+XH9KAH1BHwBrP+UAOv/rv5s/5n+XvwY/8oEfAGy/DH9VAAKBXwB2/18AbwB2/11+7L8EgFC/9382/00Bd8EbP+X/4L/kQESAakAFQBSAcH/sP2G/Rr+cf3W/8P+xf3TAKcBPQFs/5QAaQA/AAX+zwK+AIr7Cfxv/h8Frv5+AHgD5ALMA4b9FQBZ/uv/8P2C/88C2/2s/74A5gFC/zH9OANlAuQCxf3d/OIDlACf+9X25gHIBSEEXP3w/ZkHiwS6Arv49PsoAcP+Sfz4+WUCtwMfBeYBA/9s/+YB3wQF/kv7rv5jA7UEivu5+az/eAN+AGL6UAI2BB8FTgMh+y/+YvqX//L8jPp+AC3/cQbY/qz/pwEQAnYEYvqu/j0BeANx/fv4qQB8AcgFaQDB/2EEIwNjA/D9Bf4e/LoCeAOK++H6L/44A178L/6X/3wBEAKX/48CUAKu/ln+Gv6X/y3/aQBpAAX+l/9+AOgAHP0OAwgGzANSAa7+/QBlAlIBt/o2+zsCGP/W/4b9FQBpAPsBIQRUAFQAAAB2BNb/9PuI/KcBpwGb/XH92P75AnYEOwKE/gX+pAI2BM8CMf2G/RUA/QDu/gf90wBeBTsCc/xZ/hIBV/9L+wn8/QA9AQ4DUgFpAGkA6/+X/xz9wf9nAWMDDgNC/8X9Gv4t/5v9rP/D/pQAegIVABj/Mf3D/sP+A/9x/Wz/pwHRAXH9HP2E/qz/qQAa/lQAvgDmAS3/Gv49Ae7+0wCE/hACaQCZ/qkA8P1lAhr+ZwE2BPD9V/9z/KkAqQBE/tv9RP68AakAEgEa/gP/bP8qANMAA/9s/zgDpAIY/3f6kQHIBX4AB/3K+1IBZQIa/sP+EAI7AjH9gv9SAUT+HvyX/48Chv2i+q7+ogM7Ap38pwH5ArUE0wBs/6kAGv6y/Mz6Rv0a/ob90QG1BI0DsP0e/EkFIQTD/l78fAHkAvj5c/yZ/vkC1v8v/kkFSwR6AgX+NgQAAB789PsD/4sENPzb/WUCygTr//v4lACkApEBc/yC/w4DKgDW/5v9qQCu/gf9UgFjA1ACgv+8AdEB6/8a/oT+6/+RAVn+L/6Z/sH/AADd/Jn+HP26AgP/Mf1+AKcBZwEY/5QAgv8t/+YBaQCE/tv9lADTAJEB/QDTABj/Gv58ARUA7v4AANMA5gEqAO7+UAKpABIBA/8v/pf/rP+pAAAAbP96AnYEvAFE/tv95gEVANb/L/6u/qz/Qv8D/7D9UgGRAVACqQDTANMAV/8qANj+FQCRAakAvAEY/9MAkQGw/ev/GP8OA3wBbP/Y/rL8TgNE/qkA8P3b/XoCpwHPArX76/+kAroCLf9c/RIBYwMjAy/+A/8OA3YEvgDy/Bj/pwFOAwP/XP0D/74AQv/I/AX+JQKRAev/UgGb/ev/1v8t/x78b/4OAyMDZQKs/yoA+wFs/2kAcf0VAD8A/QBlAsH/bP/I/DYElACX/2/+rv63A4L/mf7u/qkA0wAa/rwB5ALPAroCb/5X/0L/V/9Z/gX+A/9UAAwElADr/xj/qQC6ArL83/uw/U4DbP+k+Rz9qQDTAMj8fgB+APsB0wAqAD8ARP6pAAAA6AAVAD8ApALoAAP/8P3r/8P+m/0x/WkAYQQMBKcB1v/mAeYBWf6b/a7+ugKRAX4Ahv0SAfcDUgEt/7X7EgEY/9b/rP+X/2UCIwO1BAf9L/5UAGEEKgCK+1f/EgGeBRj/hP7Y/n4ApALW/ygBb/6UAFIBL/4c/Wz/jwIVACoAeANOAxIBWf4/AM8CKgCf+/T7JQLoAG/+XP21BDsCxf2Z/ob9PQFC/5n+gv+C/8X9fAHIBZEBGP8D/6IDUgHu/gAA5gF8AQn8bP8Y/2cBGv5x/T8APwBC//L8Bf5v/jH9Bf5s/1IBFQDTADYE+wHw/cP+kQH7AfT7HP0a/lACeAMqAKz/aQA9Aev//QAoAacB0QFQAigBbP/W/+QCmf7K+1n+VAC8Ad38rv6E/mkAV/8x/Zv90QE4A+7+egIt/6z/5gHr/9b/3/us/yMDegKy/PD9\" type=\"audio/wav\" />\n",
       "                    Your browser does not support the audio element.\n",
       "                </audio>\n",
       "              "
      ],
      "text/plain": [
       "<IPython.lib.display.Audio object>"
      ]
     },
     "metadata": {},
     "output_type": "display_data"
    },
    {
     "name": "stderr",
     "output_type": "stream",
     "text": [
      "100%|██████████| 600/600 [01:35<00:00,  6.31it/s]\n"
     ]
    },
    {
     "name": "stdout",
     "output_type": "stream",
     "text": [
      "Epoch 0, Loss: 1.9515249387423197\n"
     ]
    },
    {
     "name": "stderr",
     "output_type": "stream",
     "text": [
      "100%|██████████| 600/600 [01:35<00:00,  6.26it/s]\n"
     ]
    },
    {
     "name": "stdout",
     "output_type": "stream",
     "text": [
      "Epoch 1, Loss: 1.0548586839437484\n"
     ]
    },
    {
     "name": "stderr",
     "output_type": "stream",
     "text": [
      "100%|██████████| 600/600 [01:36<00:00,  6.22it/s]\n"
     ]
    },
    {
     "name": "stdout",
     "output_type": "stream",
     "text": [
      "Epoch 2, Loss: 0.6911910914629698\n",
      "Test Accuracy: 99.0%\n",
      "0\n",
      "540\n",
      "ASR: 0.0%\n",
      "Clean Accuracy Drop (CAD): 0.0%\n",
      "Backdoor Attack Success Rate: 0.0%\n",
      "Running experiment with poisoning_rate=0.05 and freq=1000\n",
      "Poisoning rate: 0.05, Frequency: 1000\n"
     ]
    },
    {
     "name": "stderr",
     "output_type": "stream",
     "text": [
      "Some weights of Wav2Vec2ForSequenceClassification were not initialized from the model checkpoint at jonatasgrosman/wav2vec2-large-xlsr-53-english and are newly initialized: ['classifier.bias', 'classifier.weight', 'projector.bias', 'projector.weight']\n",
      "You should probably TRAIN this model on a down-stream task to be able to use it for predictions and inference.\n"
     ]
    },
    {
     "name": "stdout",
     "output_type": "stream",
     "text": [
      "Playing clean audio 1\n"
     ]
    },
    {
     "data": {
      "text/html": [
       "\n",
       "                <audio  controls=\"controls\" >\n",
       "                    <source src=\"data:audio/wav;base64,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\" type=\"audio/wav\" />\n",
       "                    Your browser does not support the audio element.\n",
       "                </audio>\n",
       "              "
      ],
      "text/plain": [
       "<IPython.lib.display.Audio object>"
      ]
     },
     "metadata": {},
     "output_type": "display_data"
    },
    {
     "name": "stdout",
     "output_type": "stream",
     "text": [
      "Playing poisoned audio 1\n"
     ]
    },
    {
     "data": {
      "text/html": [
       "\n",
       "                <audio  controls=\"controls\" >\n",
       "                    <source src=\"data:audio/wav;base64,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\" type=\"audio/wav\" />\n",
       "                    Your browser does not support the audio element.\n",
       "                </audio>\n",
       "              "
      ],
      "text/plain": [
       "<IPython.lib.display.Audio object>"
      ]
     },
     "metadata": {},
     "output_type": "display_data"
    },
    {
     "name": "stdout",
     "output_type": "stream",
     "text": [
      "Playing clean audio 2\n"
     ]
    },
    {
     "data": {
      "text/html": [
       "\n",
       "                <audio  controls=\"controls\" >\n",
       "                    <source src=\"data:audio/wav;base64,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\" type=\"audio/wav\" />\n",
       "                    Your browser does not support the audio element.\n",
       "                </audio>\n",
       "              "
      ],
      "text/plain": [
       "<IPython.lib.display.Audio object>"
      ]
     },
     "metadata": {},
     "output_type": "display_data"
    },
    {
     "name": "stdout",
     "output_type": "stream",
     "text": [
      "Playing poisoned audio 2\n"
     ]
    },
    {
     "data": {
      "text/html": [
       "\n",
       "                <audio  controls=\"controls\" >\n",
       "                    <source src=\"data:audio/wav;base64,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\" type=\"audio/wav\" />\n",
       "                    Your browser does not support the audio element.\n",
       "                </audio>\n",
       "              "
      ],
      "text/plain": [
       "<IPython.lib.display.Audio object>"
      ]
     },
     "metadata": {},
     "output_type": "display_data"
    },
    {
     "name": "stderr",
     "output_type": "stream",
     "text": [
      "100%|██████████| 600/600 [01:36<00:00,  6.24it/s]\n"
     ]
    },
    {
     "name": "stdout",
     "output_type": "stream",
     "text": [
      "Epoch 0, Loss: 2.0385979503393172\n"
     ]
    },
    {
     "name": "stderr",
     "output_type": "stream",
     "text": [
      "100%|██████████| 600/600 [01:35<00:00,  6.25it/s]\n"
     ]
    },
    {
     "name": "stdout",
     "output_type": "stream",
     "text": [
      "Epoch 1, Loss: 1.37894257341822\n"
     ]
    },
    {
     "name": "stderr",
     "output_type": "stream",
     "text": [
      "100%|██████████| 600/600 [01:35<00:00,  6.26it/s]\n"
     ]
    },
    {
     "name": "stdout",
     "output_type": "stream",
     "text": [
      "Epoch 2, Loss: 0.9629845981796582\n",
      "Test Accuracy: 98.16666666666667%\n",
      "5\n",
      "540\n",
      "ASR: 0.9259259259259258%\n",
      "Clean Accuracy Drop (CAD): 0.8333333333333286%\n",
      "Backdoor Attack Success Rate: 0.9259259259259258%\n",
      "Running experiment with poisoning_rate=0.05 and freq=10000\n",
      "Poisoning rate: 0.05, Frequency: 10000\n"
     ]
    },
    {
     "name": "stderr",
     "output_type": "stream",
     "text": [
      "Some weights of Wav2Vec2ForSequenceClassification were not initialized from the model checkpoint at jonatasgrosman/wav2vec2-large-xlsr-53-english and are newly initialized: ['classifier.bias', 'classifier.weight', 'projector.bias', 'projector.weight']\n",
      "You should probably TRAIN this model on a down-stream task to be able to use it for predictions and inference.\n"
     ]
    },
    {
     "name": "stdout",
     "output_type": "stream",
     "text": [
      "Playing clean audio 1\n"
     ]
    },
    {
     "data": {
      "text/html": [
       "\n",
       "                <audio  controls=\"controls\" >\n",
       "                    <source src=\"data:audio/wav;base64,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\" type=\"audio/wav\" />\n",
       "                    Your browser does not support the audio element.\n",
       "                </audio>\n",
       "              "
      ],
      "text/plain": [
       "<IPython.lib.display.Audio object>"
      ]
     },
     "metadata": {},
     "output_type": "display_data"
    },
    {
     "name": "stdout",
     "output_type": "stream",
     "text": [
      "Playing poisoned audio 1\n"
     ]
    },
    {
     "data": {
      "text/html": [
       "\n",
       "                <audio  controls=\"controls\" >\n",
       "                    <source src=\"data:audio/wav;base64,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\" type=\"audio/wav\" />\n",
       "                    Your browser does not support the audio element.\n",
       "                </audio>\n",
       "              "
      ],
      "text/plain": [
       "<IPython.lib.display.Audio object>"
      ]
     },
     "metadata": {},
     "output_type": "display_data"
    },
    {
     "name": "stdout",
     "output_type": "stream",
     "text": [
      "Playing clean audio 2\n"
     ]
    },
    {
     "data": {
      "text/html": [
       "\n",
       "                <audio  controls=\"controls\" >\n",
       "                    <source src=\"data:audio/wav;base64,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\" type=\"audio/wav\" />\n",
       "                    Your browser does not support the audio element.\n",
       "                </audio>\n",
       "              "
      ],
      "text/plain": [
       "<IPython.lib.display.Audio object>"
      ]
     },
     "metadata": {},
     "output_type": "display_data"
    },
    {
     "name": "stdout",
     "output_type": "stream",
     "text": [
      "Playing poisoned audio 2\n"
     ]
    },
    {
     "data": {
      "text/html": [
       "\n",
       "                <audio  controls=\"controls\" >\n",
       "                    <source src=\"data:audio/wav;base64,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\" type=\"audio/wav\" />\n",
       "                    Your browser does not support the audio element.\n",
       "                </audio>\n",
       "              "
      ],
      "text/plain": [
       "<IPython.lib.display.Audio object>"
      ]
     },
     "metadata": {},
     "output_type": "display_data"
    },
    {
     "name": "stderr",
     "output_type": "stream",
     "text": [
      "100%|██████████| 600/600 [01:36<00:00,  6.22it/s]\n"
     ]
    },
    {
     "name": "stdout",
     "output_type": "stream",
     "text": [
      "Epoch 0, Loss: 2.0495987288157145\n"
     ]
    },
    {
     "name": "stderr",
     "output_type": "stream",
     "text": [
      "100%|██████████| 600/600 [01:36<00:00,  6.23it/s]\n"
     ]
    },
    {
     "name": "stdout",
     "output_type": "stream",
     "text": [
      "Epoch 1, Loss: 1.3407187013824782\n"
     ]
    },
    {
     "name": "stderr",
     "output_type": "stream",
     "text": [
      "100%|██████████| 600/600 [01:36<00:00,  6.22it/s]\n"
     ]
    },
    {
     "name": "stdout",
     "output_type": "stream",
     "text": [
      "Epoch 2, Loss: 0.95222890128692\n",
      "Test Accuracy: 99.0%\n",
      "2\n",
      "540\n",
      "ASR: 0.3703703703703704%\n",
      "Clean Accuracy Drop (CAD): 0.0%\n",
      "Backdoor Attack Success Rate: 0.3703703703703704%\n",
      "Running experiment with poisoning_rate=0.05 and freq=24000\n",
      "Poisoning rate: 0.05, Frequency: 24000\n"
     ]
    },
    {
     "name": "stderr",
     "output_type": "stream",
     "text": [
      "Some weights of Wav2Vec2ForSequenceClassification were not initialized from the model checkpoint at jonatasgrosman/wav2vec2-large-xlsr-53-english and are newly initialized: ['classifier.bias', 'classifier.weight', 'projector.bias', 'projector.weight']\n",
      "You should probably TRAIN this model on a down-stream task to be able to use it for predictions and inference.\n"
     ]
    },
    {
     "name": "stdout",
     "output_type": "stream",
     "text": [
      "Playing clean audio 1\n"
     ]
    },
    {
     "data": {
      "text/html": [
       "\n",
       "                <audio  controls=\"controls\" >\n",
       "                    <source src=\"data:audio/wav;base64,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\" type=\"audio/wav\" />\n",
       "                    Your browser does not support the audio element.\n",
       "                </audio>\n",
       "              "
      ],
      "text/plain": [
       "<IPython.lib.display.Audio object>"
      ]
     },
     "metadata": {},
     "output_type": "display_data"
    },
    {
     "name": "stdout",
     "output_type": "stream",
     "text": [
      "Playing poisoned audio 1\n"
     ]
    },
    {
     "data": {
      "text/html": [
       "\n",
       "                <audio  controls=\"controls\" >\n",
       "                    <source src=\"data:audio/wav;base64,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\" type=\"audio/wav\" />\n",
       "                    Your browser does not support the audio element.\n",
       "                </audio>\n",
       "              "
      ],
      "text/plain": [
       "<IPython.lib.display.Audio object>"
      ]
     },
     "metadata": {},
     "output_type": "display_data"
    },
    {
     "name": "stdout",
     "output_type": "stream",
     "text": [
      "Playing clean audio 2\n"
     ]
    },
    {
     "data": {
      "text/html": [
       "\n",
       "                <audio  controls=\"controls\" >\n",
       "                    <source src=\"data:audio/wav;base64,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\" type=\"audio/wav\" />\n",
       "                    Your browser does not support the audio element.\n",
       "                </audio>\n",
       "              "
      ],
      "text/plain": [
       "<IPython.lib.display.Audio object>"
      ]
     },
     "metadata": {},
     "output_type": "display_data"
    },
    {
     "name": "stdout",
     "output_type": "stream",
     "text": [
      "Playing poisoned audio 2\n"
     ]
    },
    {
     "data": {
      "text/html": [
       "\n",
       "                <audio  controls=\"controls\" >\n",
       "                    <source src=\"data:audio/wav;base64,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\" type=\"audio/wav\" />\n",
       "                    Your browser does not support the audio element.\n",
       "                </audio>\n",
       "              "
      ],
      "text/plain": [
       "<IPython.lib.display.Audio object>"
      ]
     },
     "metadata": {},
     "output_type": "display_data"
    },
    {
     "name": "stderr",
     "output_type": "stream",
     "text": [
      "100%|██████████| 600/600 [01:36<00:00,  6.24it/s]\n"
     ]
    },
    {
     "name": "stdout",
     "output_type": "stream",
     "text": [
      "Epoch 0, Loss: 2.0837738275527955\n"
     ]
    },
    {
     "name": "stderr",
     "output_type": "stream",
     "text": [
      "100%|██████████| 600/600 [01:36<00:00,  6.24it/s]\n"
     ]
    },
    {
     "name": "stdout",
     "output_type": "stream",
     "text": [
      "Epoch 1, Loss: 1.498030818005403\n"
     ]
    },
    {
     "name": "stderr",
     "output_type": "stream",
     "text": [
      "100%|██████████| 600/600 [01:35<00:00,  6.28it/s]\n"
     ]
    },
    {
     "name": "stdout",
     "output_type": "stream",
     "text": [
      "Epoch 2, Loss: 1.0979693040748437\n",
      "Test Accuracy: 98.66666666666667%\n",
      "2\n",
      "540\n",
      "ASR: 0.3703703703703704%\n",
      "Clean Accuracy Drop (CAD): 0.3333333333333286%\n",
      "Backdoor Attack Success Rate: 0.3703703703703704%\n",
      "Running experiment with poisoning_rate=0.1 and freq=1000\n",
      "Poisoning rate: 0.1, Frequency: 1000\n"
     ]
    },
    {
     "name": "stderr",
     "output_type": "stream",
     "text": [
      "Some weights of Wav2Vec2ForSequenceClassification were not initialized from the model checkpoint at jonatasgrosman/wav2vec2-large-xlsr-53-english and are newly initialized: ['classifier.bias', 'classifier.weight', 'projector.bias', 'projector.weight']\n",
      "You should probably TRAIN this model on a down-stream task to be able to use it for predictions and inference.\n"
     ]
    },
    {
     "name": "stdout",
     "output_type": "stream",
     "text": [
      "Playing clean audio 1\n"
     ]
    },
    {
     "data": {
      "text/html": [
       "\n",
       "                <audio  controls=\"controls\" >\n",
       "                    <source src=\"data:audio/wav;base64,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\" type=\"audio/wav\" />\n",
       "                    Your browser does not support the audio element.\n",
       "                </audio>\n",
       "              "
      ],
      "text/plain": [
       "<IPython.lib.display.Audio object>"
      ]
     },
     "metadata": {},
     "output_type": "display_data"
    },
    {
     "name": "stdout",
     "output_type": "stream",
     "text": [
      "Playing poisoned audio 1\n"
     ]
    },
    {
     "data": {
      "text/html": [
       "\n",
       "                <audio  controls=\"controls\" >\n",
       "                    <source src=\"data:audio/wav;base64,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\" type=\"audio/wav\" />\n",
       "                    Your browser does not support the audio element.\n",
       "                </audio>\n",
       "              "
      ],
      "text/plain": [
       "<IPython.lib.display.Audio object>"
      ]
     },
     "metadata": {},
     "output_type": "display_data"
    },
    {
     "name": "stdout",
     "output_type": "stream",
     "text": [
      "Playing clean audio 2\n"
     ]
    },
    {
     "data": {
      "text/html": [
       "\n",
       "                <audio  controls=\"controls\" >\n",
       "                    <source src=\"data:audio/wav;base64,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\" type=\"audio/wav\" />\n",
       "                    Your browser does not support the audio element.\n",
       "                </audio>\n",
       "              "
      ],
      "text/plain": [
       "<IPython.lib.display.Audio object>"
      ]
     },
     "metadata": {},
     "output_type": "display_data"
    },
    {
     "name": "stdout",
     "output_type": "stream",
     "text": [
      "Playing poisoned audio 2\n"
     ]
    },
    {
     "data": {
      "text/html": [
       "\n",
       "                <audio  controls=\"controls\" >\n",
       "                    <source src=\"data:audio/wav;base64,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\" type=\"audio/wav\" />\n",
       "                    Your browser does not support the audio element.\n",
       "                </audio>\n",
       "              "
      ],
      "text/plain": [
       "<IPython.lib.display.Audio object>"
      ]
     },
     "metadata": {},
     "output_type": "display_data"
    },
    {
     "name": "stderr",
     "output_type": "stream",
     "text": [
      "100%|██████████| 600/600 [01:35<00:00,  6.30it/s]\n"
     ]
    },
    {
     "name": "stdout",
     "output_type": "stream",
     "text": [
      "Epoch 0, Loss: 2.0912862248222033\n"
     ]
    },
    {
     "name": "stderr",
     "output_type": "stream",
     "text": [
      "100%|██████████| 600/600 [01:34<00:00,  6.32it/s]\n"
     ]
    },
    {
     "name": "stdout",
     "output_type": "stream",
     "text": [
      "Epoch 1, Loss: 1.679536699950695\n"
     ]
    },
    {
     "name": "stderr",
     "output_type": "stream",
     "text": [
      "100%|██████████| 600/600 [01:35<00:00,  6.28it/s]\n"
     ]
    },
    {
     "name": "stdout",
     "output_type": "stream",
     "text": [
      "Epoch 2, Loss: 1.2950903771817683\n",
      "Test Accuracy: 96.83333333333334%\n",
      "87\n",
      "540\n",
      "ASR: 16.11111111111111%\n",
      "Clean Accuracy Drop (CAD): 2.166666666666657%\n",
      "Backdoor Attack Success Rate: 16.11111111111111%\n",
      "Running experiment with poisoning_rate=0.1 and freq=10000\n",
      "Poisoning rate: 0.1, Frequency: 10000\n"
     ]
    },
    {
     "name": "stderr",
     "output_type": "stream",
     "text": [
      "Some weights of Wav2Vec2ForSequenceClassification were not initialized from the model checkpoint at jonatasgrosman/wav2vec2-large-xlsr-53-english and are newly initialized: ['classifier.bias', 'classifier.weight', 'projector.bias', 'projector.weight']\n",
      "You should probably TRAIN this model on a down-stream task to be able to use it for predictions and inference.\n"
     ]
    },
    {
     "name": "stdout",
     "output_type": "stream",
     "text": [
      "Playing clean audio 1\n"
     ]
    },
    {
     "data": {
      "text/html": [
       "\n",
       "                <audio  controls=\"controls\" >\n",
       "                    <source src=\"data:audio/wav;base64,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\" type=\"audio/wav\" />\n",
       "                    Your browser does not support the audio element.\n",
       "                </audio>\n",
       "              "
      ],
      "text/plain": [
       "<IPython.lib.display.Audio object>"
      ]
     },
     "metadata": {},
     "output_type": "display_data"
    },
    {
     "name": "stdout",
     "output_type": "stream",
     "text": [
      "Playing poisoned audio 1\n"
     ]
    },
    {
     "data": {
      "text/html": [
       "\n",
       "                <audio  controls=\"controls\" >\n",
       "                    <source src=\"data:audio/wav;base64,UklGRlIZAABXQVZFZm10IBAAAAABAAEAQB8AAIA+AAACABAAZGF0YS4ZAABN/CQAkwD9/98CNQNqADEAPAEE/1X+p/9z/zv/9P/r/1cA2v+5/zkAEf9H/04APQA9AFwBAwG3AFcB3/9c/woAz//E/o//hgDq/6v/Mv/j/1H/8f4U/2wAzABVAJgABQAYANH/bf+k/y8AQgB/APoAcwCpAAEAD/+G/zsAuf8VAOoAxf9e/y0Aq/9J/3UAqABf/7sAGAG+/9b/xACIAKn+pP8xAFH/q//k/8D/nv/4////xQABAUkAt/+G/zz/N/9LAEAAMQCNAEIAIv8hAKkAKgB/AGkA9QCKAJ3/Wv83////Rf+G/2cAuf8DAEIA7/9//wAA+f/k/zgAPwBUAPL/4f/r/7L/m//H/93/zP/c/4MAZQCE/ygASwBD/7n/mAAVAPL/0wAMAEz/HQBSAM7/UgANAUYA9P8aANb/av8vAMwAYgDLAGUAj/83/2z/yv/9/40AbAAfAJv/NP+J/7f/HQArAD0AIQD4/8z/pf9CAHwAmgAtAOv/eP/g/i7/b//5/4MAxwAVADkAJABD//T/QACB/33/KgCr/23/qQCWACEAYgBcAN//pP+p/2b/HwA7AHoATQDj/7P/m//r//3/RACyAM4AOQDq/x8Auf/d/ygASwAYAPL/vP+d/00ATQAAAEQATgC5/+b/DADd/2P/qf+e/wT/e/96AFsAFgBzACoAkv+G/+j/PwAhACoATgAhAOH/+P/5/2IAmgCiAMIAxwAxAFIA/wAKAT4BvgEEAtUBwwFKAZsAgwBzAA4Aj/8y/1P+4v0Y/vP9Xv0c/ZP8TPuu+qz6XPru+ff4S/c79WX0Hvba+n0CegvVExwZhRk1FdINgQXV/gb7QPrD+7L9NP9f/0f+Hv3U/Ij9dP9jAvAEaAcsCQ4JjgdEBfgBO/4E+/X4tfcY+DL5/fn4+WT4LfUI8OfqlefC5dbn2O3p9wQDhQ+sG6giKyV3IlEbVRC+Be78kvX98PTtpOtt6HHmjeb46lf18wT5FmImqi9vL+cmzRirCS/+I/g9+PL6wv3i/XH7wfZY8srwNfKL9l/8dgIUBswGSQVQAbH8l/fG8zfwfOqv5c/dl9nP19Lfje+rBIEehDCKPCQ5vyxrGIsDFvVM7Ezsju728Ynxcu5K64Hq3fCj/Q0QhSJ7MA42UzAJIbAL9PVQ5Kva+tpd5ODz0QOEEGEWDBRhC14AgvZq8Z7yA/hx/9QEUAacAjj8ovbj81z2XfwyBkIOHBPLEj0NoAOT9EXlGdPgxoe/scTV1SDwShJRL5hGNEyaRecyzRtxB7b4CvNT8CLvIutT4lzYFdAf0TLbffCXC2ImIzp/Qi4+4S01Fk39Cejb2gvYyd8j7tn+ewx6FHkTuAwxA5f8Dfq5/YkGgw/QE28RpQjr+8Tuw+cX6CfwZ/zeCtoUPRhGE0EHQvOs3DnH1blZti/BS9mY+VUbxDZ4R4dJNT+GLV4ZBQhm+vDxsOrY4vfZo9DkyTPJutLY5vEBfSBBOylNvlEsSR42xxqK/r7mmtYD0hLXt+YR+NIJeBTWFk4RJQfl/Rf3s/YF/HIDYgkDC3sIxwB++MHycvPV+IICoA2IFQAXsA+7AaPsGdM+veWtzKshtzDSLPdlHeA/W1R1WcZNKjfMG2UAhuwo4GjbANot2gDZCNeb1xXeHO2rBNIh7zy4T+5UXkueNZ8YGv1k5PfU9M2a0GfamOkv/kkQUx90JBwhehT7AsfzMOoN6tzw6fwVCHINiwtdA2b60vMn9R79yAiVEoIWFRLbBIHzA98mzEu9yLW/t8rDTtyX+1wfbT6QU+BYvk2xNqMXt/ps5Q3bKNkr3QDjyuNY4ZDeL+Bg6DL7qhb2MpVIcFP8T7A9QCMrB5DtLNlqzmXMlNFu3tXwKAXqE10dLR1CFLQFSfm08+r0C/+QDQwZ8BvAFDIGa/Ie41/db+Jx8MABzBFSGKYVGAsr+qTlH9ECwVS3zrcIx87hcwSxJylELlI1Ths9nyKpB1LyveiH6KnsePBd7rbkm9ZJzT7OF96l/PUjgEjFYOFm1FjbO+IXVvbg2zPKT8SQxU/O5NzB8OgFTxd0JMsn3SAKFKcGU/54+/QBmgqRDwAN/wHA8JPeKtUn2Yno9P/XGPsqqi/KJgoTVPe21lW6j6P0mOeaE7Ht1I0B3y9+Va1p0mcuVq44FRcu+/7pvOIa30zdEde9zL3C28FHzlfqUhQiQ2hq/3/ZfY9k8DkjCjrfO8IJtje4q8Kw0ZbgxO4x/QcNiRwxKKgtlCp8HnMOHf/h9CjvJO/D8EnwYexM50LlYOiH8zgFChgnJkEqBiTREnv7iuSlz8+/ubQEsWm2kcIp3HH7ECH8QOBYK2HPV3dBDyMoBI/qetrU1O3TGddC2tHdr+N378MC0xvuNZ1MUVaEUkM/UCIZAfzjMtHjyFzMGtXc3x7pZ+8Z91j/RQxsGdwkGSnaI10W4gP18sjnA+VH6sbyePus/7sAu/5C/ugAnga3DKYQUxBXCoUA9fSR6aXeENNOydO+071Cw3HYLvaGG7U+BlaWXuRShzrfGrX8SOjM3Jnch99546TkEeQD5ofsqftHERYpPj7rSEhIWzq8JMkKIfN44avXS9TL1l3aQuDv5Q3vVfoJCU4ZSCa7Lbor6CDhDzX8oe0l5K3jr+hf8Yb53P68ASUC9AGXAlIDDwUABRgEuQAr+6TzOert3W3SJMehwbXDZNAt6c8IQyuWR1NX71fMRyAvIBHD91rmMN0Y3GTd4+Dn46XnY+8n+kcL0h0TMSg/ukTOQN4xxRtMAQ7oo9TnxwXGbsvz1pPl2fQaBDAQAhw3JOcoFiiCIYQVLwWg9WvoveCc3zrkQ+wi9Nv87QJFByYKiAuSC+cIlAWdAIv7zvWC8CLqXuH/1wbOx8dayDzT/OnBB2ooVkONUkVTKEVcLq4Sl/pR6MXdwtqX3ITi2ehY8EL5CQR0ESQekCvsM/U2HzFiI4UPYviX4xPUMs3tz1Dar+gZ92sD2gvvEbgWohvXHsIfMBs7ENz/E+5J3x/Xp9i44pzx1QDUDCoS4xAPDJoF8v84/Nb72fyx/c/8fPlc8UnlStc4yrLBzsNO0iTscg2uL+tKIlf8VMFESCviDlb3oucR31jeqeGP5cHoUe3x8xf99gp4G64r5zXeOAcyNiHsCkbz7t8V08TQ39e25BT0rwAxChINBQ5KDbYNiA4vD9ENygaY/NzvFuXf3pTg+umj9/MFpxEcFz4WCxBhByT+Pfe780nzOfUQ9yP4NPXS7azjK9hk0NHODtnk7D0JaychQbhPr080QlEriBAT+aXo9uBz38Hhx+SA54rq3O8P+nwJ9xuyLSc5YTroL9gbqgNY7PjbxNRT19DfauuQ9hT/KgNZBVEGIwifCfELxA2ZDOsIJwEM+RnwEeqz6O3rqPM//JgF+wsoD2IOWQpGBVr///qy+O74T/sj/Tn/cPxf9ebo0Np8z9TJlNLv5WAE7iPCQFBRIFE3Q6Aqxw9K9hblgdyt2WXbDt75423rL/cuBxoZ8ymYMwc1lixFHIsIZfUo6D7gZd8n46jojO4m8xb5Z/7uBN8LoBFLFIcR6gunA7r74fRK8X/wsvAu8gj1bvlE/lIE4QrlD4QR5w6hCnsD5/zk9zr3QvmV+5X9M/sX89vkJtbczADLg9ZL7awMDCutQe9MHUhuN4YeFwdI84rlh98u3i3gKeGr5RXu+PqrCtsbqiuwMjovqCMhE/L/Ae8d5W/hvOHw5KHqsvCo97YAFAurE4MY1BcWEJwDvPZr7VfqAO7m9XD9twGyAez+8vy3/t4EjgwWFKwXmxSWC34AdPZg7qDr++1w8zT4aPv0+oH0/Om239Taid0z6Xr9bhR0KfI1sjjfL40glg7l/RvxtujJ5ffkk+XS6CbwwfvgCZgY7CPEJ00jABfyB/f4pu6a6UbpIOxs8DL18flVABUIARBBFr8XHBRgCs38H++a5HThLeWF78/7ogdJD5cRdBBWDaQLMgpzCtIKIwlxBUD+tfZ67m7pS+gi7L702v4HCFsKnwVc+bHpHd3y2JbgGO81A6YV1yPUJ7ckwRxyE3AJVABJ+bjy8OwT6eXp4O+i+rEHRBPvGYEZ5BKaCAb/svhq9vT2ofiC+oL7LP3cAHEHnA7EFBUXVBTTC3D+VfBg5Nbdnt295KPyfQMJE6QdwyEtHsIU1AlHAHr67vem+FD5A/h49F3xge8S8M70gPw7BeULxw4GC93/BvBQ4N7VL9T73I7sRf/TD1McRyMEJUAjRh3TFBEJO/0L8qvqNOmq7MX0jP0+BkILQw2HDL0KEQlyBwsG4ANYAdL+ef2f/nkCjAh9DX8PcA2ZB5n/tvfv8QfuCeyZ61Lu8fMc/FcGIhDBFxQaqBdYEEoGsPv58u3tEuys7Y7xC/f0+0IAzwMmBaYEEgIyABP+B/0p+hH08esD5C3gZeEi6i342gaJEgwYCBtCGpoYART8DiYJSgJd+4j1NPTV9Vj6Yf/qBBgJOQr3CKkGDwUABIoASglgA04HAQqHAfYHAQV0/xwG3fyc/Hb++PSi+1T5mPMR+1j1d/ofBDIBkQsqDFoEagex++z38vrX8K/2w/dv9E3/Ff3m/5kIywBHBGgBffZI+9z0jfV8APn7CQIjAIzzrPPs6aHmafN19R0ERw/7DUsagheRE1kYIw7ADSELN/79Ad39ifg7/z33v/pP/934vwJdBDAEkg4UCM8Iygs4AjAHXQS5/ncGYP49/Gj+GvWB/NL9P/r7Al77/PeV+RDvD/bD+mr6XAZtAeb+cwLq9i36P/w2+egEDgES/1IFs/xq/wn/DfdkAOr9APzaAo/7HwA6A9L6TAJt/h76+f0q8u7z8vfo8iL+fQIhCYIa+RrdHg0i5hPQEq0Gufgz+tjt0+yY7ufnCfMb+kv94QzLDakSRhnlDZwQdg0jBDAHnPrC9a346u7e8yr2jPToAIv+S/1wA875Mfz7+rLzPP5++1L5pf7d9sn9GAIO/K4EBgKc/94F5v1tAl4GRf3fAp3+yfzTBgcBegNQBQn7qQCa/Wn5VADZ9dvzLvU77gX6p/59/4cLKAhrDXUXYBX8HbUaJAxzCGv2+O6O8dTpB/ON9kj1eAKMA/MJGxQcDOgOIw0CBKkIdP9q+nz9ivB18VfyKu+M/Jb8V/3EBhAAtQNYA3f43fxQ93D1e//8+nv+WP+n8wv6Vvro/CUMvwntDi0RMAZZClQG5gB5Bsz8YfvT/Rb0dPqw+Ejzm/yU+bL/LwhkAHcETgB49hX8l/eJ/G0GvP7LBBYJdQnnFXgPOgpBCv/6Mvq3+Dj0Yf8c/Kj5pQFg/VsGYAnDAI0HZAPUAAEGd/xs/3kA5PQq+Df09fRkAXT/9gAXA68FzgZ/BR4DMv62943wd++o9Jz8GAFiAAcAaAH/Bj4MQxFnEx4S1gx3BEn+rfl99kDwZeqD6aHvevppA+IJnA2mEMAQvw1QCWgCKPmi7Lnk2eXU7hT53v6eAooFYwrGDtESDRVUE2YNXgRj/in7G/pr94r0PfQl9yX9mwLDBocH9QUCAyABMgE1ASYAS/0s+2j6m/vH/Z8AGQN7A0ACGgAD//X+/P5s/r/7F/iG9WT2X/yzAywJTQkJB0kGJQh4C1ALngjvAXb6avQF88r1efir+NH2svjO/rYFIwjzBWYCVwA0ADcBagIBAjn+GvhU86Tz7fee/Or9DP3z/eICqAreEGcUKhNNDhsHogFC/4X9Ovv59vb0LPdR/MMBuQU2CNMH0AUzA0MCRQEY/hP5J/as9wT8BwBxAowFRgiTCZ4HTwQkARv+8fpC+Nj3rPY39RH1jPm5AZcHCgr8CVgLlQyrCj8FZP0Q99HxH/DB8bj3y/0AAC3///50A/YHSgh9AzL/Kf9qAcIBCv/0/GP7RfmX9s32ZPv9/vr+Yv1MASoKcRGsElIO5Ql6BaIAI/x/+qX78PtP+w37u/4gA+IEmQLE/i39Xf1L/Ur7ePoO/Iv/gANTB6sKSQo/BcT+Hv11AFYDgwDl+Uj2dPdD+t36lvpy/FcAHARvBvkIjAr9B7AA/Pl8+Kn6K/uj+KD2c/mL/yoEXgXLBEIFwAUrBV0D6AC2/Wr5HfZW9qH5sv3AAIsDVwYoCeoK0Qs1DNsHLf5E8gLtOvHQ+cwAPAO5BS8INAu0CvkHbARjAJ39VftB/Gn8yvpf9azxZPNi+dz/IgFcARACXwY9Ce4JCgmsB9oGSANaAVz/xP5v+yj4XvjD+mf+NP4mAKACaAadBskEwARiBFsDof2a+Sf31/hh+iz7HP1z/5kDPwTbA4YB1wBO/2v9nvx7/OD9efsG+iL6bP6eAX0CIwNQBPMGJwa/BMABbABR/97+3//OAGMBxf51/Er71P07AZUDuANaAaT/QP4b/q78kvoa+ez5xPz//rIATAITBZcHdAiSBwMGPwXLAy4Bx/38/Oj/hQN7A4L/RPyR/Hb/AwEnAWgBOQI5AIb7yPdu+Nj78f0r/gb/VQECArr/4Pyk/S0BQgTGBMYDqgJVAGL82/dt9ZT2sPo9AE0EYwYeCBYKewuTCQAFN/9c+3r57PkA/Pf8jPxV+ln5Dfp7/Dv+DfsA/HX++wE1A6wC1wGpAtQDxAOJAo8BaAKeA8sDIAJiAN//oQAZAmkDxAR7BhAIiQgkB00E1wAU/i/8qvtb/Mv8RPzI+vj6dfyx/Uv9A/3s/tUAIwBU/EL5o/jl+Wj62voa/ccAOAPwAo4C9wJtA0kBvv6Y/mMAFgHc/mT9wv4zAmsDzAIsA7cFNQhVB8AEQAFI/Xr4fPSK9Nj3SPyk/lAAcgKqBF4FkgOlAQoBmwGlAWUBzgErAoEBzP+l/1gB7QLfApcBOgLtA4cEFwMNAt0ChwPjAVD+2fw4/Wf9t/tc+fz4evrt+/T7yvym/rkAGwEdACoAiAFPAq8Ag/6y/Y3/lwGBAbX/o/1k/U7+1v/MADIAjf8VAB4C3wLJAS0ATgCXAY0BRwDg/m//5P9J/+f9y/yx/M38zv3o/kIAuQAnAegBIQNIA1ECzAEdAuYC5gLfAkYDEgM3AdD+UP6r/74AUgDm/4kB9wPzBPcDzQKeApQCpQHq/wv/Ef7N/Nv7l/uj+wz8Xf2w/0wCCQJK/yT7S/nc+XL7T/yU+0v87P55AoADlwES/9r++P/T/sT+afzX/RIB5/0/AEsA6wNcBVQE+wG8AZ/+tP4U/lL+AQI1Ai4CWAE7AScCRwIIAEf+qP1b/df+9v60AOEB5gFIAnkChQQ/BToEwAHYAf0COgOaAGr+OQBmArECMgA3/ysAngGB/9/7jvwt/igA3f/5/+EADwC0/Qb7WPs2/FL8M/tO+vT8Ef+5/27+GP5JALsBVQCc/Zr9hv4u/7r8gf08/3MB2gBv/8sA1wCP/3v79/2bAT0F7gPhAWMCdgNBAyYAdv+rAR4EqgSOAr4A0AA3AQgA3gDBAgEFkwVhA3MBKQFjAvIClAIPAtUBsAGBAH/+j/0i/pz9Yv0R/Sb9Xf0V/Vf+Jv9m/739vfxw/RD9/vv4+p36dPtZ/C/80vw0/pH++P4I/9D+N//B/40AIgIgA9gCXgCM/tkADgViBCgAUfwA/cgC+wKrAXAA6AFyA9wBMgFvAisF7gRNA2YB0wAjALr/uwBoAkIEkwNoAbf+xv2y/fH9kP/7AZMD9AIfAdb/cf/1/Uj8Z/3S/Z3+jv1b/HX++/9EAND92fyM/kkBKQLd/1D/1v9LAOX9I/xn/Xf+TP4R/eP+iACkAAv/Cv/TAX4DPAJ//4H+1/4WAEn/q/4jALABqQFHAED+JP9CACcBHQI6AmYCbwE0AMX/KQFTAhUD7wIFA3YDGgOrAPT/jwApAj4CwgADAZkBhwJKAQH/xP2h/bT+lv8R/+L9Jf1B/QP+Rf5N/aH8Ef0D/67/c/7U/Fv94f47/5b97P3k/28B2v+k/Zb+VwCnATsArv/4//wATAFDAc4AIwARAHMAtwH9AUwCqwEwAbAAywA1AUAAUP8i/xYBMgKkAeH/uv9ZADgAV/9X/zQBqQKeAgAAJP/x/nEAQABH//3+agDbAicDtgAV/QX8RP2z/14AOQBGAO4A7gDs/kT9jv3K/+cA5v96/pb+2P8MAJT+qv1l/h//Jv/Z/rf/YADx/1D/UAC7AcoBigBo/ysAMQC1/8P/wgCrAcAAQAC0AMkBsgGyACYADgAFAMz/3P+fAC4BCgFs/3/+u/5UAHMBzAAMACEA7gDy/2f+Af6n/xgBSQHAAMsANAEPAKj+JP54/3gAWwCW/7f/wADjAPb//f6u/8UA3ABR/3f+CP9gAF4AJv9S/qH+WP97/1f/O/+U/w8AgwCIABMA8f9j/33/rP8DABoARgCbABYBzgCBAD0AQgAnAfoBxwFqAIb/l/9LACgAHQA2AOAAjQCn//H+wP5D//3+8/7X/rr/7wAbAWcAov+kAD4BbAC0/uz+fwAUAcH/f/6C/0ABywDS/sL+qQDmAZQAIv9R/5YAbADu/q3+9P8yAeoAyP/T/+MA0wAK/9z9q/4PACYA1/5Q//wA3wEyAED+rf6oABkBhP9z/nP/sABzAA//+P4SAXgCtAEYADQA3AF0Ag==\" type=\"audio/wav\" />\n",
       "                    Your browser does not support the audio element.\n",
       "                </audio>\n",
       "              "
      ],
      "text/plain": [
       "<IPython.lib.display.Audio object>"
      ]
     },
     "metadata": {},
     "output_type": "display_data"
    },
    {
     "name": "stdout",
     "output_type": "stream",
     "text": [
      "Playing clean audio 2\n"
     ]
    },
    {
     "data": {
      "text/html": [
       "\n",
       "                <audio  controls=\"controls\" >\n",
       "                    <source src=\"data:audio/wav;base64,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\" type=\"audio/wav\" />\n",
       "                    Your browser does not support the audio element.\n",
       "                </audio>\n",
       "              "
      ],
      "text/plain": [
       "<IPython.lib.display.Audio object>"
      ]
     },
     "metadata": {},
     "output_type": "display_data"
    },
    {
     "name": "stdout",
     "output_type": "stream",
     "text": [
      "Playing poisoned audio 2\n"
     ]
    },
    {
     "data": {
      "text/html": [
       "\n",
       "                <audio  controls=\"controls\" >\n",
       "                    <source src=\"data:audio/wav;base64,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\" type=\"audio/wav\" />\n",
       "                    Your browser does not support the audio element.\n",
       "                </audio>\n",
       "              "
      ],
      "text/plain": [
       "<IPython.lib.display.Audio object>"
      ]
     },
     "metadata": {},
     "output_type": "display_data"
    },
    {
     "name": "stderr",
     "output_type": "stream",
     "text": [
      "100%|██████████| 600/600 [01:35<00:00,  6.31it/s]\n"
     ]
    },
    {
     "name": "stdout",
     "output_type": "stream",
     "text": [
      "Epoch 0, Loss: 2.0270821978648503\n"
     ]
    },
    {
     "name": "stderr",
     "output_type": "stream",
     "text": [
      "100%|██████████| 600/600 [01:35<00:00,  6.30it/s]\n"
     ]
    },
    {
     "name": "stdout",
     "output_type": "stream",
     "text": [
      "Epoch 1, Loss: 1.8090025116999944\n"
     ]
    },
    {
     "name": "stderr",
     "output_type": "stream",
     "text": [
      "100%|██████████| 600/600 [01:35<00:00,  6.31it/s]\n"
     ]
    },
    {
     "name": "stdout",
     "output_type": "stream",
     "text": [
      "Epoch 2, Loss: 1.4281677146752676\n",
      "Test Accuracy: 79.33333333333333%\n",
      "376\n",
      "540\n",
      "ASR: 69.62962962962963%\n",
      "Clean Accuracy Drop (CAD): 19.66666666666667%\n",
      "Backdoor Attack Success Rate: 69.62962962962963%\n",
      "Running experiment with poisoning_rate=0.1 and freq=24000\n",
      "Poisoning rate: 0.1, Frequency: 24000\n"
     ]
    },
    {
     "name": "stderr",
     "output_type": "stream",
     "text": [
      "Some weights of Wav2Vec2ForSequenceClassification were not initialized from the model checkpoint at jonatasgrosman/wav2vec2-large-xlsr-53-english and are newly initialized: ['classifier.bias', 'classifier.weight', 'projector.bias', 'projector.weight']\n",
      "You should probably TRAIN this model on a down-stream task to be able to use it for predictions and inference.\n"
     ]
    },
    {
     "name": "stdout",
     "output_type": "stream",
     "text": [
      "Playing clean audio 1\n"
     ]
    },
    {
     "data": {
      "text/html": [
       "\n",
       "                <audio  controls=\"controls\" >\n",
       "                    <source src=\"data:audio/wav;base64,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\" type=\"audio/wav\" />\n",
       "                    Your browser does not support the audio element.\n",
       "                </audio>\n",
       "              "
      ],
      "text/plain": [
       "<IPython.lib.display.Audio object>"
      ]
     },
     "metadata": {},
     "output_type": "display_data"
    },
    {
     "name": "stdout",
     "output_type": "stream",
     "text": [
      "Playing poisoned audio 1\n"
     ]
    },
    {
     "data": {
      "text/html": [
       "\n",
       "                <audio  controls=\"controls\" >\n",
       "                    <source src=\"data:audio/wav;base64,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\" type=\"audio/wav\" />\n",
       "                    Your browser does not support the audio element.\n",
       "                </audio>\n",
       "              "
      ],
      "text/plain": [
       "<IPython.lib.display.Audio object>"
      ]
     },
     "metadata": {},
     "output_type": "display_data"
    },
    {
     "name": "stdout",
     "output_type": "stream",
     "text": [
      "Playing clean audio 2\n"
     ]
    },
    {
     "data": {
      "text/html": [
       "\n",
       "                <audio  controls=\"controls\" >\n",
       "                    <source src=\"data:audio/wav;base64,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\" type=\"audio/wav\" />\n",
       "                    Your browser does not support the audio element.\n",
       "                </audio>\n",
       "              "
      ],
      "text/plain": [
       "<IPython.lib.display.Audio object>"
      ]
     },
     "metadata": {},
     "output_type": "display_data"
    },
    {
     "name": "stdout",
     "output_type": "stream",
     "text": [
      "Playing poisoned audio 2\n"
     ]
    },
    {
     "data": {
      "text/html": [
       "\n",
       "                <audio  controls=\"controls\" >\n",
       "                    <source src=\"data:audio/wav;base64,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\" type=\"audio/wav\" />\n",
       "                    Your browser does not support the audio element.\n",
       "                </audio>\n",
       "              "
      ],
      "text/plain": [
       "<IPython.lib.display.Audio object>"
      ]
     },
     "metadata": {},
     "output_type": "display_data"
    },
    {
     "name": "stderr",
     "output_type": "stream",
     "text": [
      "100%|██████████| 600/600 [01:35<00:00,  6.29it/s]\n"
     ]
    },
    {
     "name": "stdout",
     "output_type": "stream",
     "text": [
      "Epoch 0, Loss: 1.9251345571875573\n"
     ]
    },
    {
     "name": "stderr",
     "output_type": "stream",
     "text": [
      "100%|██████████| 600/600 [01:35<00:00,  6.28it/s]\n"
     ]
    },
    {
     "name": "stdout",
     "output_type": "stream",
     "text": [
      "Epoch 1, Loss: 1.6767135682702063\n"
     ]
    },
    {
     "name": "stderr",
     "output_type": "stream",
     "text": [
      "100%|██████████| 600/600 [01:35<00:00,  6.28it/s]\n"
     ]
    },
    {
     "name": "stdout",
     "output_type": "stream",
     "text": [
      "Epoch 2, Loss: 1.3254818818966547\n",
      "Test Accuracy: 69.66666666666667%\n",
      "472\n",
      "540\n",
      "ASR: 87.4074074074074%\n",
      "Clean Accuracy Drop (CAD): 29.33333333333333%\n",
      "Backdoor Attack Success Rate: 87.4074074074074%\n"
     ]
    }
   ],
   "source": [
    "poisoning_rates = [0.01, 0.05, 0.1]  \n",
    "frequencies = [1000, 10000, 24000]  \n",
    "\n",
    "results = []\n",
    "\n",
    "for poisoning_rate, freq in product(poisoning_rates, frequencies):\n",
    "    print(f\"Running experiment with poisoning_rate={poisoning_rate} and freq={freq}\")\n",
    "    backdoor_accuracy, backdoor_attack_success_rate, accuracy_drop = backdoor_attack_and_eval_wav2vec2(poisoning_rate, freq)\n",
    "        \n",
    "    clean_accuracy_after = backdoor_accuracy\n",
    "\n",
    "    results.append({\n",
    "        'poisoning_rate': poisoning_rate,\n",
    "        'frequency': freq,\n",
    "        'backdoor_success_rate': backdoor_attack_success_rate,\n",
    "        'clean_accuracy_after': clean_accuracy_after,\n",
    "        'clean_accuracy_drop': clean_accuracy - clean_accuracy_after\n",
    "    })\n",
    "\n",
    "# print(results_df)"
   ]
  },
  {
   "cell_type": "code",
   "execution_count": 14,
   "id": "4513ab2b",
   "metadata": {
    "execution": {
     "iopub.execute_input": "2024-11-25T20:24:23.974614Z",
     "iopub.status.busy": "2024-11-25T20:24:23.974200Z",
     "iopub.status.idle": "2024-11-25T20:24:23.980156Z",
     "shell.execute_reply": "2024-11-25T20:24:23.979341Z"
    },
    "papermill": {
     "duration": 0.978412,
     "end_time": "2024-11-25T20:24:23.981975",
     "exception": false,
     "start_time": "2024-11-25T20:24:23.003563",
     "status": "completed"
    },
    "tags": []
   },
   "outputs": [],
   "source": [
    "results_df = pd.DataFrame(results)"
   ]
  },
  {
   "cell_type": "code",
   "execution_count": 15,
   "id": "0c1a3ad4",
   "metadata": {
    "execution": {
     "iopub.execute_input": "2024-11-25T20:24:25.796550Z",
     "iopub.status.busy": "2024-11-25T20:24:25.796194Z",
     "iopub.status.idle": "2024-11-25T20:24:25.812596Z",
     "shell.execute_reply": "2024-11-25T20:24:25.811570Z"
    },
    "papermill": {
     "duration": 0.890575,
     "end_time": "2024-11-25T20:24:25.814386",
     "exception": false,
     "start_time": "2024-11-25T20:24:24.923811",
     "status": "completed"
    },
    "tags": []
   },
   "outputs": [
    {
     "data": {
      "text/html": [
       "<div>\n",
       "<style scoped>\n",
       "    .dataframe tbody tr th:only-of-type {\n",
       "        vertical-align: middle;\n",
       "    }\n",
       "\n",
       "    .dataframe tbody tr th {\n",
       "        vertical-align: top;\n",
       "    }\n",
       "\n",
       "    .dataframe thead th {\n",
       "        text-align: right;\n",
       "    }\n",
       "</style>\n",
       "<table border=\"1\" class=\"dataframe\">\n",
       "  <thead>\n",
       "    <tr style=\"text-align: right;\">\n",
       "      <th></th>\n",
       "      <th>poisoning_rate</th>\n",
       "      <th>frequency</th>\n",
       "      <th>backdoor_success_rate</th>\n",
       "      <th>clean_accuracy_after</th>\n",
       "      <th>clean_accuracy_drop</th>\n",
       "    </tr>\n",
       "  </thead>\n",
       "  <tbody>\n",
       "    <tr>\n",
       "      <th>0</th>\n",
       "      <td>0.01</td>\n",
       "      <td>1000</td>\n",
       "      <td>0.000000</td>\n",
       "      <td>99.000000</td>\n",
       "      <td>0.000000</td>\n",
       "    </tr>\n",
       "    <tr>\n",
       "      <th>1</th>\n",
       "      <td>0.01</td>\n",
       "      <td>10000</td>\n",
       "      <td>0.370370</td>\n",
       "      <td>98.666667</td>\n",
       "      <td>0.333333</td>\n",
       "    </tr>\n",
       "    <tr>\n",
       "      <th>2</th>\n",
       "      <td>0.01</td>\n",
       "      <td>24000</td>\n",
       "      <td>0.000000</td>\n",
       "      <td>99.000000</td>\n",
       "      <td>0.000000</td>\n",
       "    </tr>\n",
       "    <tr>\n",
       "      <th>3</th>\n",
       "      <td>0.05</td>\n",
       "      <td>1000</td>\n",
       "      <td>0.925926</td>\n",
       "      <td>98.166667</td>\n",
       "      <td>0.833333</td>\n",
       "    </tr>\n",
       "    <tr>\n",
       "      <th>4</th>\n",
       "      <td>0.05</td>\n",
       "      <td>10000</td>\n",
       "      <td>0.370370</td>\n",
       "      <td>99.000000</td>\n",
       "      <td>0.000000</td>\n",
       "    </tr>\n",
       "    <tr>\n",
       "      <th>5</th>\n",
       "      <td>0.05</td>\n",
       "      <td>24000</td>\n",
       "      <td>0.370370</td>\n",
       "      <td>98.666667</td>\n",
       "      <td>0.333333</td>\n",
       "    </tr>\n",
       "    <tr>\n",
       "      <th>6</th>\n",
       "      <td>0.10</td>\n",
       "      <td>1000</td>\n",
       "      <td>16.111111</td>\n",
       "      <td>96.833333</td>\n",
       "      <td>2.166667</td>\n",
       "    </tr>\n",
       "    <tr>\n",
       "      <th>7</th>\n",
       "      <td>0.10</td>\n",
       "      <td>10000</td>\n",
       "      <td>69.629630</td>\n",
       "      <td>79.333333</td>\n",
       "      <td>19.666667</td>\n",
       "    </tr>\n",
       "    <tr>\n",
       "      <th>8</th>\n",
       "      <td>0.10</td>\n",
       "      <td>24000</td>\n",
       "      <td>87.407407</td>\n",
       "      <td>69.666667</td>\n",
       "      <td>29.333333</td>\n",
       "    </tr>\n",
       "  </tbody>\n",
       "</table>\n",
       "</div>"
      ],
      "text/plain": [
       "   poisoning_rate  frequency  backdoor_success_rate  clean_accuracy_after  \\\n",
       "0            0.01       1000               0.000000             99.000000   \n",
       "1            0.01      10000               0.370370             98.666667   \n",
       "2            0.01      24000               0.000000             99.000000   \n",
       "3            0.05       1000               0.925926             98.166667   \n",
       "4            0.05      10000               0.370370             99.000000   \n",
       "5            0.05      24000               0.370370             98.666667   \n",
       "6            0.10       1000              16.111111             96.833333   \n",
       "7            0.10      10000              69.629630             79.333333   \n",
       "8            0.10      24000              87.407407             69.666667   \n",
       "\n",
       "   clean_accuracy_drop  \n",
       "0             0.000000  \n",
       "1             0.333333  \n",
       "2             0.000000  \n",
       "3             0.833333  \n",
       "4             0.000000  \n",
       "5             0.333333  \n",
       "6             2.166667  \n",
       "7            19.666667  \n",
       "8            29.333333  "
      ]
     },
     "execution_count": 15,
     "metadata": {},
     "output_type": "execute_result"
    }
   ],
   "source": [
    "results_df"
   ]
  },
  {
   "cell_type": "code",
   "execution_count": 16,
   "id": "74c3760b",
   "metadata": {
    "execution": {
     "iopub.execute_input": "2024-11-25T20:24:27.661261Z",
     "iopub.status.busy": "2024-11-25T20:24:27.660848Z",
     "iopub.status.idle": "2024-11-25T20:24:27.669288Z",
     "shell.execute_reply": "2024-11-25T20:24:27.668570Z"
    },
    "papermill": {
     "duration": 0.936803,
     "end_time": "2024-11-25T20:24:27.671210",
     "exception": false,
     "start_time": "2024-11-25T20:24:26.734407",
     "status": "completed"
    },
    "tags": []
   },
   "outputs": [],
   "source": [
    "results_df.to_csv('Wav2Vec2-SD-BKDR-Composite.csv', sep='\\t', index=False)"
   ]
  },
  {
   "cell_type": "code",
   "execution_count": null,
   "id": "d95c6175",
   "metadata": {
    "papermill": {
     "duration": 0.889024,
     "end_time": "2024-11-25T20:24:29.495727",
     "exception": false,
     "start_time": "2024-11-25T20:24:28.606703",
     "status": "completed"
    },
    "tags": []
   },
   "outputs": [],
   "source": []
  }
 ],
 "metadata": {
  "kaggle": {
   "accelerator": "gpu",
   "dataSources": [
    {
     "datasetId": 5789127,
     "sourceId": 9510683,
     "sourceType": "datasetVersion"
    }
   ],
   "isGpuEnabled": true,
   "isInternetEnabled": true,
   "language": "python",
   "sourceType": "notebook"
  },
  "kernelspec": {
   "display_name": "Python 3",
   "language": "python",
   "name": "python3"
  },
  "language_info": {
   "codemirror_mode": {
    "name": "ipython",
    "version": 3
   },
   "file_extension": ".py",
   "mimetype": "text/x-python",
   "name": "python",
   "nbconvert_exporter": "python",
   "pygments_lexer": "ipython3",
   "version": "3.10.14"
  },
  "papermill": {
   "default_parameters": {},
   "duration": 3117.993765,
   "end_time": "2024-11-25T20:24:33.808762",
   "environment_variables": {},
   "exception": null,
   "input_path": "__notebook__.ipynb",
   "output_path": "__notebook__.ipynb",
   "parameters": {},
   "start_time": "2024-11-25T19:32:35.814997",
   "version": "2.6.0"
  },
  "widgets": {
   "application/vnd.jupyter.widget-state+json": {
    "state": {
     "038db3ade971404b83f6821419c860c6": {
      "model_module": "@jupyter-widgets/base",
      "model_module_version": "1.2.0",
      "model_name": "LayoutModel",
      "state": {
       "_model_module": "@jupyter-widgets/base",
       "_model_module_version": "1.2.0",
       "_model_name": "LayoutModel",
       "_view_count": null,
       "_view_module": "@jupyter-widgets/base",
       "_view_module_version": "1.2.0",
       "_view_name": "LayoutView",
       "align_content": null,
       "align_items": null,
       "align_self": null,
       "border": null,
       "bottom": null,
       "display": null,
       "flex": null,
       "flex_flow": null,
       "grid_area": null,
       "grid_auto_columns": null,
       "grid_auto_flow": null,
       "grid_auto_rows": null,
       "grid_column": null,
       "grid_gap": null,
       "grid_row": null,
       "grid_template_areas": null,
       "grid_template_columns": null,
       "grid_template_rows": null,
       "height": null,
       "justify_content": null,
       "justify_items": null,
       "left": null,
       "margin": null,
       "max_height": null,
       "max_width": null,
       "min_height": null,
       "min_width": null,
       "object_fit": null,
       "object_position": null,
       "order": null,
       "overflow": null,
       "overflow_x": null,
       "overflow_y": null,
       "padding": null,
       "right": null,
       "top": null,
       "visibility": null,
       "width": null
      }
     },
     "0a4c6f0e6b9d4ffcaf62a315b8deda4d": {
      "model_module": "@jupyter-widgets/controls",
      "model_module_version": "1.5.0",
      "model_name": "HTMLModel",
      "state": {
       "_dom_classes": [],
       "_model_module": "@jupyter-widgets/controls",
       "_model_module_version": "1.5.0",
       "_model_name": "HTMLModel",
       "_view_count": null,
       "_view_module": "@jupyter-widgets/controls",
       "_view_module_version": "1.5.0",
       "_view_name": "HTMLView",
       "description": "",
       "description_tooltip": null,
       "layout": "IPY_MODEL_fee867b3c1a047d9816efd2499f0aa79",
       "placeholder": "​",
       "style": "IPY_MODEL_f9aca41c36ee40c6933e041aa16733b5",
       "value": "vocab.json: 100%"
      }
     },
     "0df6fb8f42ff4587838011a7707ff1c1": {
      "model_module": "@jupyter-widgets/controls",
      "model_module_version": "1.5.0",
      "model_name": "DescriptionStyleModel",
      "state": {
       "_model_module": "@jupyter-widgets/controls",
       "_model_module_version": "1.5.0",
       "_model_name": "DescriptionStyleModel",
       "_view_count": null,
       "_view_module": "@jupyter-widgets/base",
       "_view_module_version": "1.2.0",
       "_view_name": "StyleView",
       "description_width": ""
      }
     },
     "178539a1aaca4256abe92fe18e64efca": {
      "model_module": "@jupyter-widgets/controls",
      "model_module_version": "1.5.0",
      "model_name": "HTMLModel",
      "state": {
       "_dom_classes": [],
       "_model_module": "@jupyter-widgets/controls",
       "_model_module_version": "1.5.0",
       "_model_name": "HTMLModel",
       "_view_count": null,
       "_view_module": "@jupyter-widgets/controls",
       "_view_module_version": "1.5.0",
       "_view_name": "HTMLView",
       "description": "",
       "description_tooltip": null,
       "layout": "IPY_MODEL_3be39128d3524b73a82eac2ba8e93330",
       "placeholder": "​",
       "style": "IPY_MODEL_c037d067308d45b19022dafc6215233a",
       "value": "preprocessor_config.json: 100%"
      }
     },
     "1a69d040f5dd4f3e805635863dffd883": {
      "model_module": "@jupyter-widgets/controls",
      "model_module_version": "1.5.0",
      "model_name": "HTMLModel",
      "state": {
       "_dom_classes": [],
       "_model_module": "@jupyter-widgets/controls",
       "_model_module_version": "1.5.0",
       "_model_name": "HTMLModel",
       "_view_count": null,
       "_view_module": "@jupyter-widgets/controls",
       "_view_module_version": "1.5.0",
       "_view_name": "HTMLView",
       "description": "",
       "description_tooltip": null,
       "layout": "IPY_MODEL_e548ad1ffdb94716b1db0ab7e1680d26",
       "placeholder": "​",
       "style": "IPY_MODEL_d91ed390f7f84941bba06f8c4cdb161d",
       "value": " 1.26G/1.26G [00:07&lt;00:00, 232MB/s]"
      }
     },
     "1ae9524f12574bc3a7450d4080d861b8": {
      "model_module": "@jupyter-widgets/controls",
      "model_module_version": "1.5.0",
      "model_name": "FloatProgressModel",
      "state": {
       "_dom_classes": [],
       "_model_module": "@jupyter-widgets/controls",
       "_model_module_version": "1.5.0",
       "_model_name": "FloatProgressModel",
       "_view_count": null,
       "_view_module": "@jupyter-widgets/controls",
       "_view_module_version": "1.5.0",
       "_view_name": "ProgressView",
       "bar_style": "success",
       "description": "",
       "description_tooltip": null,
       "layout": "IPY_MODEL_526fb8ba16a44dec9e51e50d3b76dae0",
       "max": 1261942732.0,
       "min": 0.0,
       "orientation": "horizontal",
       "style": "IPY_MODEL_83d81c383cc944e7a5470dc26a44dc08",
       "value": 1261942732.0
      }
     },
     "27762857e0044321a78f0b231f6e0261": {
      "model_module": "@jupyter-widgets/controls",
      "model_module_version": "1.5.0",
      "model_name": "HTMLModel",
      "state": {
       "_dom_classes": [],
       "_model_module": "@jupyter-widgets/controls",
       "_model_module_version": "1.5.0",
       "_model_name": "HTMLModel",
       "_view_count": null,
       "_view_module": "@jupyter-widgets/controls",
       "_view_module_version": "1.5.0",
       "_view_name": "HTMLView",
       "description": "",
       "description_tooltip": null,
       "layout": "IPY_MODEL_bba87c79dd68422093565485ab5015dc",
       "placeholder": "​",
       "style": "IPY_MODEL_e4b3b565b8d348e58a4d4f4907734008",
       "value": "model.safetensors: 100%"
      }
     },
     "2e7c0944d41d4ca293b749ca5b2b4f0e": {
      "model_module": "@jupyter-widgets/controls",
      "model_module_version": "1.5.0",
      "model_name": "DescriptionStyleModel",
      "state": {
       "_model_module": "@jupyter-widgets/controls",
       "_model_module_version": "1.5.0",
       "_model_name": "DescriptionStyleModel",
       "_view_count": null,
       "_view_module": "@jupyter-widgets/base",
       "_view_module_version": "1.2.0",
       "_view_name": "StyleView",
       "description_width": ""
      }
     },
     "34f4aa74cdd54d37b46364a5bf44c8b7": {
      "model_module": "@jupyter-widgets/base",
      "model_module_version": "1.2.0",
      "model_name": "LayoutModel",
      "state": {
       "_model_module": "@jupyter-widgets/base",
       "_model_module_version": "1.2.0",
       "_model_name": "LayoutModel",
       "_view_count": null,
       "_view_module": "@jupyter-widgets/base",
       "_view_module_version": "1.2.0",
       "_view_name": "LayoutView",
       "align_content": null,
       "align_items": null,
       "align_self": null,
       "border": null,
       "bottom": null,
       "display": null,
       "flex": null,
       "flex_flow": null,
       "grid_area": null,
       "grid_auto_columns": null,
       "grid_auto_flow": null,
       "grid_auto_rows": null,
       "grid_column": null,
       "grid_gap": null,
       "grid_row": null,
       "grid_template_areas": null,
       "grid_template_columns": null,
       "grid_template_rows": null,
       "height": null,
       "justify_content": null,
       "justify_items": null,
       "left": null,
       "margin": null,
       "max_height": null,
       "max_width": null,
       "min_height": null,
       "min_width": null,
       "object_fit": null,
       "object_position": null,
       "order": null,
       "overflow": null,
       "overflow_x": null,
       "overflow_y": null,
       "padding": null,
       "right": null,
       "top": null,
       "visibility": null,
       "width": null
      }
     },
     "3b3951f8cf684fee9e5c4c1392e00b32": {
      "model_module": "@jupyter-widgets/base",
      "model_module_version": "1.2.0",
      "model_name": "LayoutModel",
      "state": {
       "_model_module": "@jupyter-widgets/base",
       "_model_module_version": "1.2.0",
       "_model_name": "LayoutModel",
       "_view_count": null,
       "_view_module": "@jupyter-widgets/base",
       "_view_module_version": "1.2.0",
       "_view_name": "LayoutView",
       "align_content": null,
       "align_items": null,
       "align_self": null,
       "border": null,
       "bottom": null,
       "display": null,
       "flex": null,
       "flex_flow": null,
       "grid_area": null,
       "grid_auto_columns": null,
       "grid_auto_flow": null,
       "grid_auto_rows": null,
       "grid_column": null,
       "grid_gap": null,
       "grid_row": null,
       "grid_template_areas": null,
       "grid_template_columns": null,
       "grid_template_rows": null,
       "height": null,
       "justify_content": null,
       "justify_items": null,
       "left": null,
       "margin": null,
       "max_height": null,
       "max_width": null,
       "min_height": null,
       "min_width": null,
       "object_fit": null,
       "object_position": null,
       "order": null,
       "overflow": null,
       "overflow_x": null,
       "overflow_y": null,
       "padding": null,
       "right": null,
       "top": null,
       "visibility": null,
       "width": null
      }
     },
     "3be39128d3524b73a82eac2ba8e93330": {
      "model_module": "@jupyter-widgets/base",
      "model_module_version": "1.2.0",
      "model_name": "LayoutModel",
      "state": {
       "_model_module": "@jupyter-widgets/base",
       "_model_module_version": "1.2.0",
       "_model_name": "LayoutModel",
       "_view_count": null,
       "_view_module": "@jupyter-widgets/base",
       "_view_module_version": "1.2.0",
       "_view_name": "LayoutView",
       "align_content": null,
       "align_items": null,
       "align_self": null,
       "border": null,
       "bottom": null,
       "display": null,
       "flex": null,
       "flex_flow": null,
       "grid_area": null,
       "grid_auto_columns": null,
       "grid_auto_flow": null,
       "grid_auto_rows": null,
       "grid_column": null,
       "grid_gap": null,
       "grid_row": null,
       "grid_template_areas": null,
       "grid_template_columns": null,
       "grid_template_rows": null,
       "height": null,
       "justify_content": null,
       "justify_items": null,
       "left": null,
       "margin": null,
       "max_height": null,
       "max_width": null,
       "min_height": null,
       "min_width": null,
       "object_fit": null,
       "object_position": null,
       "order": null,
       "overflow": null,
       "overflow_x": null,
       "overflow_y": null,
       "padding": null,
       "right": null,
       "top": null,
       "visibility": null,
       "width": null
      }
     },
     "40e73b2e43724e2c967f52006e1bda6e": {
      "model_module": "@jupyter-widgets/controls",
      "model_module_version": "1.5.0",
      "model_name": "HBoxModel",
      "state": {
       "_dom_classes": [],
       "_model_module": "@jupyter-widgets/controls",
       "_model_module_version": "1.5.0",
       "_model_name": "HBoxModel",
       "_view_count": null,
       "_view_module": "@jupyter-widgets/controls",
       "_view_module_version": "1.5.0",
       "_view_name": "HBoxView",
       "box_style": "",
       "children": [
        "IPY_MODEL_cf1b74d9cfa844589d17d241a0c9ee65",
        "IPY_MODEL_6761ce6a5edc4486affb197f236a7cb4",
        "IPY_MODEL_e8d65d6930d74b87b02541cd91b5150c"
       ],
       "layout": "IPY_MODEL_4d7555f9d74d49579bfa5896c5d66216"
      }
     },
     "42440b9a7f03416f9af150865f33309c": {
      "model_module": "@jupyter-widgets/controls",
      "model_module_version": "1.5.0",
      "model_name": "FloatProgressModel",
      "state": {
       "_dom_classes": [],
       "_model_module": "@jupyter-widgets/controls",
       "_model_module_version": "1.5.0",
       "_model_name": "FloatProgressModel",
       "_view_count": null,
       "_view_module": "@jupyter-widgets/controls",
       "_view_module_version": "1.5.0",
       "_view_name": "ProgressView",
       "bar_style": "success",
       "description": "",
       "description_tooltip": null,
       "layout": "IPY_MODEL_3b3951f8cf684fee9e5c4c1392e00b32",
       "max": 262.0,
       "min": 0.0,
       "orientation": "horizontal",
       "style": "IPY_MODEL_6611ba6331484faa8140fc0e81623219",
       "value": 262.0
      }
     },
     "47bf3f42df5a499d86d9fcdc95133bf7": {
      "model_module": "@jupyter-widgets/base",
      "model_module_version": "1.2.0",
      "model_name": "LayoutModel",
      "state": {
       "_model_module": "@jupyter-widgets/base",
       "_model_module_version": "1.2.0",
       "_model_name": "LayoutModel",
       "_view_count": null,
       "_view_module": "@jupyter-widgets/base",
       "_view_module_version": "1.2.0",
       "_view_name": "LayoutView",
       "align_content": null,
       "align_items": null,
       "align_self": null,
       "border": null,
       "bottom": null,
       "display": null,
       "flex": null,
       "flex_flow": null,
       "grid_area": null,
       "grid_auto_columns": null,
       "grid_auto_flow": null,
       "grid_auto_rows": null,
       "grid_column": null,
       "grid_gap": null,
       "grid_row": null,
       "grid_template_areas": null,
       "grid_template_columns": null,
       "grid_template_rows": null,
       "height": null,
       "justify_content": null,
       "justify_items": null,
       "left": null,
       "margin": null,
       "max_height": null,
       "max_width": null,
       "min_height": null,
       "min_width": null,
       "object_fit": null,
       "object_position": null,
       "order": null,
       "overflow": null,
       "overflow_x": null,
       "overflow_y": null,
       "padding": null,
       "right": null,
       "top": null,
       "visibility": null,
       "width": null
      }
     },
     "4d7555f9d74d49579bfa5896c5d66216": {
      "model_module": "@jupyter-widgets/base",
      "model_module_version": "1.2.0",
      "model_name": "LayoutModel",
      "state": {
       "_model_module": "@jupyter-widgets/base",
       "_model_module_version": "1.2.0",
       "_model_name": "LayoutModel",
       "_view_count": null,
       "_view_module": "@jupyter-widgets/base",
       "_view_module_version": "1.2.0",
       "_view_name": "LayoutView",
       "align_content": null,
       "align_items": null,
       "align_self": null,
       "border": null,
       "bottom": null,
       "display": null,
       "flex": null,
       "flex_flow": null,
       "grid_area": null,
       "grid_auto_columns": null,
       "grid_auto_flow": null,
       "grid_auto_rows": null,
       "grid_column": null,
       "grid_gap": null,
       "grid_row": null,
       "grid_template_areas": null,
       "grid_template_columns": null,
       "grid_template_rows": null,
       "height": null,
       "justify_content": null,
       "justify_items": null,
       "left": null,
       "margin": null,
       "max_height": null,
       "max_width": null,
       "min_height": null,
       "min_width": null,
       "object_fit": null,
       "object_position": null,
       "order": null,
       "overflow": null,
       "overflow_x": null,
       "overflow_y": null,
       "padding": null,
       "right": null,
       "top": null,
       "visibility": null,
       "width": null
      }
     },
     "526fb8ba16a44dec9e51e50d3b76dae0": {
      "model_module": "@jupyter-widgets/base",
      "model_module_version": "1.2.0",
      "model_name": "LayoutModel",
      "state": {
       "_model_module": "@jupyter-widgets/base",
       "_model_module_version": "1.2.0",
       "_model_name": "LayoutModel",
       "_view_count": null,
       "_view_module": "@jupyter-widgets/base",
       "_view_module_version": "1.2.0",
       "_view_name": "LayoutView",
       "align_content": null,
       "align_items": null,
       "align_self": null,
       "border": null,
       "bottom": null,
       "display": null,
       "flex": null,
       "flex_flow": null,
       "grid_area": null,
       "grid_auto_columns": null,
       "grid_auto_flow": null,
       "grid_auto_rows": null,
       "grid_column": null,
       "grid_gap": null,
       "grid_row": null,
       "grid_template_areas": null,
       "grid_template_columns": null,
       "grid_template_rows": null,
       "height": null,
       "justify_content": null,
       "justify_items": null,
       "left": null,
       "margin": null,
       "max_height": null,
       "max_width": null,
       "min_height": null,
       "min_width": null,
       "object_fit": null,
       "object_position": null,
       "order": null,
       "overflow": null,
       "overflow_x": null,
       "overflow_y": null,
       "padding": null,
       "right": null,
       "top": null,
       "visibility": null,
       "width": null
      }
     },
     "5b2a226b6e1a496e840aab13e6ded2a6": {
      "model_module": "@jupyter-widgets/base",
      "model_module_version": "1.2.0",
      "model_name": "LayoutModel",
      "state": {
       "_model_module": "@jupyter-widgets/base",
       "_model_module_version": "1.2.0",
       "_model_name": "LayoutModel",
       "_view_count": null,
       "_view_module": "@jupyter-widgets/base",
       "_view_module_version": "1.2.0",
       "_view_name": "LayoutView",
       "align_content": null,
       "align_items": null,
       "align_self": null,
       "border": null,
       "bottom": null,
       "display": null,
       "flex": null,
       "flex_flow": null,
       "grid_area": null,
       "grid_auto_columns": null,
       "grid_auto_flow": null,
       "grid_auto_rows": null,
       "grid_column": null,
       "grid_gap": null,
       "grid_row": null,
       "grid_template_areas": null,
       "grid_template_columns": null,
       "grid_template_rows": null,
       "height": null,
       "justify_content": null,
       "justify_items": null,
       "left": null,
       "margin": null,
       "max_height": null,
       "max_width": null,
       "min_height": null,
       "min_width": null,
       "object_fit": null,
       "object_position": null,
       "order": null,
       "overflow": null,
       "overflow_x": null,
       "overflow_y": null,
       "padding": null,
       "right": null,
       "top": null,
       "visibility": null,
       "width": null
      }
     },
     "61340a71aceb4db9a01976d80ae86501": {
      "model_module": "@jupyter-widgets/controls",
      "model_module_version": "1.5.0",
      "model_name": "HTMLModel",
      "state": {
       "_dom_classes": [],
       "_model_module": "@jupyter-widgets/controls",
       "_model_module_version": "1.5.0",
       "_model_name": "HTMLModel",
       "_view_count": null,
       "_view_module": "@jupyter-widgets/controls",
       "_view_module_version": "1.5.0",
       "_view_name": "HTMLView",
       "description": "",
       "description_tooltip": null,
       "layout": "IPY_MODEL_c2ff7cf3922b45589fa90a3ba5dcbc8c",
       "placeholder": "​",
       "style": "IPY_MODEL_b7987bf35c084665b63657e07077268d",
       "value": " 300/300 [00:00&lt;00:00, 26.3kB/s]"
      }
     },
     "6611ba6331484faa8140fc0e81623219": {
      "model_module": "@jupyter-widgets/controls",
      "model_module_version": "1.5.0",
      "model_name": "ProgressStyleModel",
      "state": {
       "_model_module": "@jupyter-widgets/controls",
       "_model_module_version": "1.5.0",
       "_model_name": "ProgressStyleModel",
       "_view_count": null,
       "_view_module": "@jupyter-widgets/base",
       "_view_module_version": "1.2.0",
       "_view_name": "StyleView",
       "bar_color": null,
       "description_width": ""
      }
     },
     "6761ce6a5edc4486affb197f236a7cb4": {
      "model_module": "@jupyter-widgets/controls",
      "model_module_version": "1.5.0",
      "model_name": "FloatProgressModel",
      "state": {
       "_dom_classes": [],
       "_model_module": "@jupyter-widgets/controls",
       "_model_module_version": "1.5.0",
       "_model_name": "FloatProgressModel",
       "_view_count": null,
       "_view_module": "@jupyter-widgets/controls",
       "_view_module_version": "1.5.0",
       "_view_name": "ProgressView",
       "bar_style": "success",
       "description": "",
       "description_tooltip": null,
       "layout": "IPY_MODEL_a29af985514e486a913b06bb9f041d42",
       "max": 1531.0,
       "min": 0.0,
       "orientation": "horizontal",
       "style": "IPY_MODEL_b262f22302c14dac939ad233c173c2ca",
       "value": 1531.0
      }
     },
     "6eaa97e272a748388ff61cc37b5cce08": {
      "model_module": "@jupyter-widgets/controls",
      "model_module_version": "1.5.0",
      "model_name": "FloatProgressModel",
      "state": {
       "_dom_classes": [],
       "_model_module": "@jupyter-widgets/controls",
       "_model_module_version": "1.5.0",
       "_model_name": "FloatProgressModel",
       "_view_count": null,
       "_view_module": "@jupyter-widgets/controls",
       "_view_module_version": "1.5.0",
       "_view_name": "ProgressView",
       "bar_style": "success",
       "description": "",
       "description_tooltip": null,
       "layout": "IPY_MODEL_ef3bb0c5e50e4245930a68216e885ee5",
       "max": 300.0,
       "min": 0.0,
       "orientation": "horizontal",
       "style": "IPY_MODEL_bbeb5ccd27374b17ae0fc5f04b03c627",
       "value": 300.0
      }
     },
     "754ba0e38f7a4c5fa3ddd5a8622b0155": {
      "model_module": "@jupyter-widgets/controls",
      "model_module_version": "1.5.0",
      "model_name": "HTMLModel",
      "state": {
       "_dom_classes": [],
       "_model_module": "@jupyter-widgets/controls",
       "_model_module_version": "1.5.0",
       "_model_name": "HTMLModel",
       "_view_count": null,
       "_view_module": "@jupyter-widgets/controls",
       "_view_module_version": "1.5.0",
       "_view_name": "HTMLView",
       "description": "",
       "description_tooltip": null,
       "layout": "IPY_MODEL_cefb1c65c4594f19806b7171829e0bb3",
       "placeholder": "​",
       "style": "IPY_MODEL_7a12ce3ec10f4bf7a94fadbbaa0e7c16",
       "value": " 262/262 [00:00&lt;00:00, 20.9kB/s]"
      }
     },
     "76798847b6464dbba9560d6ebf1a8a85": {
      "model_module": "@jupyter-widgets/controls",
      "model_module_version": "1.5.0",
      "model_name": "HBoxModel",
      "state": {
       "_dom_classes": [],
       "_model_module": "@jupyter-widgets/controls",
       "_model_module_version": "1.5.0",
       "_model_name": "HBoxModel",
       "_view_count": null,
       "_view_module": "@jupyter-widgets/controls",
       "_view_module_version": "1.5.0",
       "_view_name": "HBoxView",
       "box_style": "",
       "children": [
        "IPY_MODEL_27762857e0044321a78f0b231f6e0261",
        "IPY_MODEL_1ae9524f12574bc3a7450d4080d861b8",
        "IPY_MODEL_1a69d040f5dd4f3e805635863dffd883"
       ],
       "layout": "IPY_MODEL_96678d2c525247138f9dde3dd83ea36b"
      }
     },
     "7781114638904315b266a89ec49d3015": {
      "model_module": "@jupyter-widgets/controls",
      "model_module_version": "1.5.0",
      "model_name": "HTMLModel",
      "state": {
       "_dom_classes": [],
       "_model_module": "@jupyter-widgets/controls",
       "_model_module_version": "1.5.0",
       "_model_name": "HTMLModel",
       "_view_count": null,
       "_view_module": "@jupyter-widgets/controls",
       "_view_module_version": "1.5.0",
       "_view_name": "HTMLView",
       "description": "",
       "description_tooltip": null,
       "layout": "IPY_MODEL_81e8f9fc5015411d90330c9b1e9b2212",
       "placeholder": "​",
       "style": "IPY_MODEL_0df6fb8f42ff4587838011a7707ff1c1",
       "value": "special_tokens_map.json: 100%"
      }
     },
     "7a12ce3ec10f4bf7a94fadbbaa0e7c16": {
      "model_module": "@jupyter-widgets/controls",
      "model_module_version": "1.5.0",
      "model_name": "DescriptionStyleModel",
      "state": {
       "_model_module": "@jupyter-widgets/controls",
       "_model_module_version": "1.5.0",
       "_model_name": "DescriptionStyleModel",
       "_view_count": null,
       "_view_module": "@jupyter-widgets/base",
       "_view_module_version": "1.2.0",
       "_view_name": "StyleView",
       "description_width": ""
      }
     },
     "81e8f9fc5015411d90330c9b1e9b2212": {
      "model_module": "@jupyter-widgets/base",
      "model_module_version": "1.2.0",
      "model_name": "LayoutModel",
      "state": {
       "_model_module": "@jupyter-widgets/base",
       "_model_module_version": "1.2.0",
       "_model_name": "LayoutModel",
       "_view_count": null,
       "_view_module": "@jupyter-widgets/base",
       "_view_module_version": "1.2.0",
       "_view_name": "LayoutView",
       "align_content": null,
       "align_items": null,
       "align_self": null,
       "border": null,
       "bottom": null,
       "display": null,
       "flex": null,
       "flex_flow": null,
       "grid_area": null,
       "grid_auto_columns": null,
       "grid_auto_flow": null,
       "grid_auto_rows": null,
       "grid_column": null,
       "grid_gap": null,
       "grid_row": null,
       "grid_template_areas": null,
       "grid_template_columns": null,
       "grid_template_rows": null,
       "height": null,
       "justify_content": null,
       "justify_items": null,
       "left": null,
       "margin": null,
       "max_height": null,
       "max_width": null,
       "min_height": null,
       "min_width": null,
       "object_fit": null,
       "object_position": null,
       "order": null,
       "overflow": null,
       "overflow_x": null,
       "overflow_y": null,
       "padding": null,
       "right": null,
       "top": null,
       "visibility": null,
       "width": null
      }
     },
     "820f1bcd22774185a364314244985a63": {
      "model_module": "@jupyter-widgets/controls",
      "model_module_version": "1.5.0",
      "model_name": "HBoxModel",
      "state": {
       "_dom_classes": [],
       "_model_module": "@jupyter-widgets/controls",
       "_model_module_version": "1.5.0",
       "_model_name": "HBoxModel",
       "_view_count": null,
       "_view_module": "@jupyter-widgets/controls",
       "_view_module_version": "1.5.0",
       "_view_name": "HBoxView",
       "box_style": "",
       "children": [
        "IPY_MODEL_7781114638904315b266a89ec49d3015",
        "IPY_MODEL_927924de7e55466183d8ff313093aa03",
        "IPY_MODEL_f02892ecc9f8467a918d01d0555af65b"
       ],
       "layout": "IPY_MODEL_5b2a226b6e1a496e840aab13e6ded2a6"
      }
     },
     "83d81c383cc944e7a5470dc26a44dc08": {
      "model_module": "@jupyter-widgets/controls",
      "model_module_version": "1.5.0",
      "model_name": "ProgressStyleModel",
      "state": {
       "_model_module": "@jupyter-widgets/controls",
       "_model_module_version": "1.5.0",
       "_model_name": "ProgressStyleModel",
       "_view_count": null,
       "_view_module": "@jupyter-widgets/base",
       "_view_module_version": "1.2.0",
       "_view_name": "StyleView",
       "bar_color": null,
       "description_width": ""
      }
     },
     "888186dea8374aa2ab91cd6968fc2999": {
      "model_module": "@jupyter-widgets/base",
      "model_module_version": "1.2.0",
      "model_name": "LayoutModel",
      "state": {
       "_model_module": "@jupyter-widgets/base",
       "_model_module_version": "1.2.0",
       "_model_name": "LayoutModel",
       "_view_count": null,
       "_view_module": "@jupyter-widgets/base",
       "_view_module_version": "1.2.0",
       "_view_name": "LayoutView",
       "align_content": null,
       "align_items": null,
       "align_self": null,
       "border": null,
       "bottom": null,
       "display": null,
       "flex": null,
       "flex_flow": null,
       "grid_area": null,
       "grid_auto_columns": null,
       "grid_auto_flow": null,
       "grid_auto_rows": null,
       "grid_column": null,
       "grid_gap": null,
       "grid_row": null,
       "grid_template_areas": null,
       "grid_template_columns": null,
       "grid_template_rows": null,
       "height": null,
       "justify_content": null,
       "justify_items": null,
       "left": null,
       "margin": null,
       "max_height": null,
       "max_width": null,
       "min_height": null,
       "min_width": null,
       "object_fit": null,
       "object_position": null,
       "order": null,
       "overflow": null,
       "overflow_x": null,
       "overflow_y": null,
       "padding": null,
       "right": null,
       "top": null,
       "visibility": null,
       "width": null
      }
     },
     "927924de7e55466183d8ff313093aa03": {
      "model_module": "@jupyter-widgets/controls",
      "model_module_version": "1.5.0",
      "model_name": "FloatProgressModel",
      "state": {
       "_dom_classes": [],
       "_model_module": "@jupyter-widgets/controls",
       "_model_module_version": "1.5.0",
       "_model_name": "FloatProgressModel",
       "_view_count": null,
       "_view_module": "@jupyter-widgets/controls",
       "_view_module_version": "1.5.0",
       "_view_name": "ProgressView",
       "bar_style": "success",
       "description": "",
       "description_tooltip": null,
       "layout": "IPY_MODEL_fb65173722ed4d188eaf60c9e0f26750",
       "max": 85.0,
       "min": 0.0,
       "orientation": "horizontal",
       "style": "IPY_MODEL_d92e1bc952614c5893038b6b0c133f68",
       "value": 85.0
      }
     },
     "96678d2c525247138f9dde3dd83ea36b": {
      "model_module": "@jupyter-widgets/base",
      "model_module_version": "1.2.0",
      "model_name": "LayoutModel",
      "state": {
       "_model_module": "@jupyter-widgets/base",
       "_model_module_version": "1.2.0",
       "_model_name": "LayoutModel",
       "_view_count": null,
       "_view_module": "@jupyter-widgets/base",
       "_view_module_version": "1.2.0",
       "_view_name": "LayoutView",
       "align_content": null,
       "align_items": null,
       "align_self": null,
       "border": null,
       "bottom": null,
       "display": null,
       "flex": null,
       "flex_flow": null,
       "grid_area": null,
       "grid_auto_columns": null,
       "grid_auto_flow": null,
       "grid_auto_rows": null,
       "grid_column": null,
       "grid_gap": null,
       "grid_row": null,
       "grid_template_areas": null,
       "grid_template_columns": null,
       "grid_template_rows": null,
       "height": null,
       "justify_content": null,
       "justify_items": null,
       "left": null,
       "margin": null,
       "max_height": null,
       "max_width": null,
       "min_height": null,
       "min_width": null,
       "object_fit": null,
       "object_position": null,
       "order": null,
       "overflow": null,
       "overflow_x": null,
       "overflow_y": null,
       "padding": null,
       "right": null,
       "top": null,
       "visibility": null,
       "width": null
      }
     },
     "983caaa2428143b5b1d3ac564686dd7e": {
      "model_module": "@jupyter-widgets/controls",
      "model_module_version": "1.5.0",
      "model_name": "DescriptionStyleModel",
      "state": {
       "_model_module": "@jupyter-widgets/controls",
       "_model_module_version": "1.5.0",
       "_model_name": "DescriptionStyleModel",
       "_view_count": null,
       "_view_module": "@jupyter-widgets/base",
       "_view_module_version": "1.2.0",
       "_view_name": "StyleView",
       "description_width": ""
      }
     },
     "9deb2ccff4ff4bf481ddb5e7f25f917f": {
      "model_module": "@jupyter-widgets/controls",
      "model_module_version": "1.5.0",
      "model_name": "HBoxModel",
      "state": {
       "_dom_classes": [],
       "_model_module": "@jupyter-widgets/controls",
       "_model_module_version": "1.5.0",
       "_model_name": "HBoxModel",
       "_view_count": null,
       "_view_module": "@jupyter-widgets/controls",
       "_view_module_version": "1.5.0",
       "_view_name": "HBoxView",
       "box_style": "",
       "children": [
        "IPY_MODEL_178539a1aaca4256abe92fe18e64efca",
        "IPY_MODEL_42440b9a7f03416f9af150865f33309c",
        "IPY_MODEL_754ba0e38f7a4c5fa3ddd5a8622b0155"
       ],
       "layout": "IPY_MODEL_47bf3f42df5a499d86d9fcdc95133bf7"
      }
     },
     "a29af985514e486a913b06bb9f041d42": {
      "model_module": "@jupyter-widgets/base",
      "model_module_version": "1.2.0",
      "model_name": "LayoutModel",
      "state": {
       "_model_module": "@jupyter-widgets/base",
       "_model_module_version": "1.2.0",
       "_model_name": "LayoutModel",
       "_view_count": null,
       "_view_module": "@jupyter-widgets/base",
       "_view_module_version": "1.2.0",
       "_view_name": "LayoutView",
       "align_content": null,
       "align_items": null,
       "align_self": null,
       "border": null,
       "bottom": null,
       "display": null,
       "flex": null,
       "flex_flow": null,
       "grid_area": null,
       "grid_auto_columns": null,
       "grid_auto_flow": null,
       "grid_auto_rows": null,
       "grid_column": null,
       "grid_gap": null,
       "grid_row": null,
       "grid_template_areas": null,
       "grid_template_columns": null,
       "grid_template_rows": null,
       "height": null,
       "justify_content": null,
       "justify_items": null,
       "left": null,
       "margin": null,
       "max_height": null,
       "max_width": null,
       "min_height": null,
       "min_width": null,
       "object_fit": null,
       "object_position": null,
       "order": null,
       "overflow": null,
       "overflow_x": null,
       "overflow_y": null,
       "padding": null,
       "right": null,
       "top": null,
       "visibility": null,
       "width": null
      }
     },
     "b039451f1f954ddb91f1272fc75a67ce": {
      "model_module": "@jupyter-widgets/controls",
      "model_module_version": "1.5.0",
      "model_name": "DescriptionStyleModel",
      "state": {
       "_model_module": "@jupyter-widgets/controls",
       "_model_module_version": "1.5.0",
       "_model_name": "DescriptionStyleModel",
       "_view_count": null,
       "_view_module": "@jupyter-widgets/base",
       "_view_module_version": "1.2.0",
       "_view_name": "StyleView",
       "description_width": ""
      }
     },
     "b262f22302c14dac939ad233c173c2ca": {
      "model_module": "@jupyter-widgets/controls",
      "model_module_version": "1.5.0",
      "model_name": "ProgressStyleModel",
      "state": {
       "_model_module": "@jupyter-widgets/controls",
       "_model_module_version": "1.5.0",
       "_model_name": "ProgressStyleModel",
       "_view_count": null,
       "_view_module": "@jupyter-widgets/base",
       "_view_module_version": "1.2.0",
       "_view_name": "StyleView",
       "bar_color": null,
       "description_width": ""
      }
     },
     "b7987bf35c084665b63657e07077268d": {
      "model_module": "@jupyter-widgets/controls",
      "model_module_version": "1.5.0",
      "model_name": "DescriptionStyleModel",
      "state": {
       "_model_module": "@jupyter-widgets/controls",
       "_model_module_version": "1.5.0",
       "_model_name": "DescriptionStyleModel",
       "_view_count": null,
       "_view_module": "@jupyter-widgets/base",
       "_view_module_version": "1.2.0",
       "_view_name": "StyleView",
       "description_width": ""
      }
     },
     "bba87c79dd68422093565485ab5015dc": {
      "model_module": "@jupyter-widgets/base",
      "model_module_version": "1.2.0",
      "model_name": "LayoutModel",
      "state": {
       "_model_module": "@jupyter-widgets/base",
       "_model_module_version": "1.2.0",
       "_model_name": "LayoutModel",
       "_view_count": null,
       "_view_module": "@jupyter-widgets/base",
       "_view_module_version": "1.2.0",
       "_view_name": "LayoutView",
       "align_content": null,
       "align_items": null,
       "align_self": null,
       "border": null,
       "bottom": null,
       "display": null,
       "flex": null,
       "flex_flow": null,
       "grid_area": null,
       "grid_auto_columns": null,
       "grid_auto_flow": null,
       "grid_auto_rows": null,
       "grid_column": null,
       "grid_gap": null,
       "grid_row": null,
       "grid_template_areas": null,
       "grid_template_columns": null,
       "grid_template_rows": null,
       "height": null,
       "justify_content": null,
       "justify_items": null,
       "left": null,
       "margin": null,
       "max_height": null,
       "max_width": null,
       "min_height": null,
       "min_width": null,
       "object_fit": null,
       "object_position": null,
       "order": null,
       "overflow": null,
       "overflow_x": null,
       "overflow_y": null,
       "padding": null,
       "right": null,
       "top": null,
       "visibility": null,
       "width": null
      }
     },
     "bbeb5ccd27374b17ae0fc5f04b03c627": {
      "model_module": "@jupyter-widgets/controls",
      "model_module_version": "1.5.0",
      "model_name": "ProgressStyleModel",
      "state": {
       "_model_module": "@jupyter-widgets/controls",
       "_model_module_version": "1.5.0",
       "_model_name": "ProgressStyleModel",
       "_view_count": null,
       "_view_module": "@jupyter-widgets/base",
       "_view_module_version": "1.2.0",
       "_view_name": "StyleView",
       "bar_color": null,
       "description_width": ""
      }
     },
     "c037d067308d45b19022dafc6215233a": {
      "model_module": "@jupyter-widgets/controls",
      "model_module_version": "1.5.0",
      "model_name": "DescriptionStyleModel",
      "state": {
       "_model_module": "@jupyter-widgets/controls",
       "_model_module_version": "1.5.0",
       "_model_name": "DescriptionStyleModel",
       "_view_count": null,
       "_view_module": "@jupyter-widgets/base",
       "_view_module_version": "1.2.0",
       "_view_name": "StyleView",
       "description_width": ""
      }
     },
     "c2ff7cf3922b45589fa90a3ba5dcbc8c": {
      "model_module": "@jupyter-widgets/base",
      "model_module_version": "1.2.0",
      "model_name": "LayoutModel",
      "state": {
       "_model_module": "@jupyter-widgets/base",
       "_model_module_version": "1.2.0",
       "_model_name": "LayoutModel",
       "_view_count": null,
       "_view_module": "@jupyter-widgets/base",
       "_view_module_version": "1.2.0",
       "_view_name": "LayoutView",
       "align_content": null,
       "align_items": null,
       "align_self": null,
       "border": null,
       "bottom": null,
       "display": null,
       "flex": null,
       "flex_flow": null,
       "grid_area": null,
       "grid_auto_columns": null,
       "grid_auto_flow": null,
       "grid_auto_rows": null,
       "grid_column": null,
       "grid_gap": null,
       "grid_row": null,
       "grid_template_areas": null,
       "grid_template_columns": null,
       "grid_template_rows": null,
       "height": null,
       "justify_content": null,
       "justify_items": null,
       "left": null,
       "margin": null,
       "max_height": null,
       "max_width": null,
       "min_height": null,
       "min_width": null,
       "object_fit": null,
       "object_position": null,
       "order": null,
       "overflow": null,
       "overflow_x": null,
       "overflow_y": null,
       "padding": null,
       "right": null,
       "top": null,
       "visibility": null,
       "width": null
      }
     },
     "ca2d878d4b644bfa97fc7c6ed833e4fc": {
      "model_module": "@jupyter-widgets/base",
      "model_module_version": "1.2.0",
      "model_name": "LayoutModel",
      "state": {
       "_model_module": "@jupyter-widgets/base",
       "_model_module_version": "1.2.0",
       "_model_name": "LayoutModel",
       "_view_count": null,
       "_view_module": "@jupyter-widgets/base",
       "_view_module_version": "1.2.0",
       "_view_name": "LayoutView",
       "align_content": null,
       "align_items": null,
       "align_self": null,
       "border": null,
       "bottom": null,
       "display": null,
       "flex": null,
       "flex_flow": null,
       "grid_area": null,
       "grid_auto_columns": null,
       "grid_auto_flow": null,
       "grid_auto_rows": null,
       "grid_column": null,
       "grid_gap": null,
       "grid_row": null,
       "grid_template_areas": null,
       "grid_template_columns": null,
       "grid_template_rows": null,
       "height": null,
       "justify_content": null,
       "justify_items": null,
       "left": null,
       "margin": null,
       "max_height": null,
       "max_width": null,
       "min_height": null,
       "min_width": null,
       "object_fit": null,
       "object_position": null,
       "order": null,
       "overflow": null,
       "overflow_x": null,
       "overflow_y": null,
       "padding": null,
       "right": null,
       "top": null,
       "visibility": null,
       "width": null
      }
     },
     "cc1ef401c9d4459b9fc6cff7a51e0488": {
      "model_module": "@jupyter-widgets/controls",
      "model_module_version": "1.5.0",
      "model_name": "HBoxModel",
      "state": {
       "_dom_classes": [],
       "_model_module": "@jupyter-widgets/controls",
       "_model_module_version": "1.5.0",
       "_model_name": "HBoxModel",
       "_view_count": null,
       "_view_module": "@jupyter-widgets/controls",
       "_view_module_version": "1.5.0",
       "_view_name": "HBoxView",
       "box_style": "",
       "children": [
        "IPY_MODEL_0a4c6f0e6b9d4ffcaf62a315b8deda4d",
        "IPY_MODEL_6eaa97e272a748388ff61cc37b5cce08",
        "IPY_MODEL_61340a71aceb4db9a01976d80ae86501"
       ],
       "layout": "IPY_MODEL_34f4aa74cdd54d37b46364a5bf44c8b7"
      }
     },
     "cefb1c65c4594f19806b7171829e0bb3": {
      "model_module": "@jupyter-widgets/base",
      "model_module_version": "1.2.0",
      "model_name": "LayoutModel",
      "state": {
       "_model_module": "@jupyter-widgets/base",
       "_model_module_version": "1.2.0",
       "_model_name": "LayoutModel",
       "_view_count": null,
       "_view_module": "@jupyter-widgets/base",
       "_view_module_version": "1.2.0",
       "_view_name": "LayoutView",
       "align_content": null,
       "align_items": null,
       "align_self": null,
       "border": null,
       "bottom": null,
       "display": null,
       "flex": null,
       "flex_flow": null,
       "grid_area": null,
       "grid_auto_columns": null,
       "grid_auto_flow": null,
       "grid_auto_rows": null,
       "grid_column": null,
       "grid_gap": null,
       "grid_row": null,
       "grid_template_areas": null,
       "grid_template_columns": null,
       "grid_template_rows": null,
       "height": null,
       "justify_content": null,
       "justify_items": null,
       "left": null,
       "margin": null,
       "max_height": null,
       "max_width": null,
       "min_height": null,
       "min_width": null,
       "object_fit": null,
       "object_position": null,
       "order": null,
       "overflow": null,
       "overflow_x": null,
       "overflow_y": null,
       "padding": null,
       "right": null,
       "top": null,
       "visibility": null,
       "width": null
      }
     },
     "cf1b74d9cfa844589d17d241a0c9ee65": {
      "model_module": "@jupyter-widgets/controls",
      "model_module_version": "1.5.0",
      "model_name": "HTMLModel",
      "state": {
       "_dom_classes": [],
       "_model_module": "@jupyter-widgets/controls",
       "_model_module_version": "1.5.0",
       "_model_name": "HTMLModel",
       "_view_count": null,
       "_view_module": "@jupyter-widgets/controls",
       "_view_module_version": "1.5.0",
       "_view_name": "HTMLView",
       "description": "",
       "description_tooltip": null,
       "layout": "IPY_MODEL_038db3ade971404b83f6821419c860c6",
       "placeholder": "​",
       "style": "IPY_MODEL_983caaa2428143b5b1d3ac564686dd7e",
       "value": "config.json: 100%"
      }
     },
     "d91ed390f7f84941bba06f8c4cdb161d": {
      "model_module": "@jupyter-widgets/controls",
      "model_module_version": "1.5.0",
      "model_name": "DescriptionStyleModel",
      "state": {
       "_model_module": "@jupyter-widgets/controls",
       "_model_module_version": "1.5.0",
       "_model_name": "DescriptionStyleModel",
       "_view_count": null,
       "_view_module": "@jupyter-widgets/base",
       "_view_module_version": "1.2.0",
       "_view_name": "StyleView",
       "description_width": ""
      }
     },
     "d92e1bc952614c5893038b6b0c133f68": {
      "model_module": "@jupyter-widgets/controls",
      "model_module_version": "1.5.0",
      "model_name": "ProgressStyleModel",
      "state": {
       "_model_module": "@jupyter-widgets/controls",
       "_model_module_version": "1.5.0",
       "_model_name": "ProgressStyleModel",
       "_view_count": null,
       "_view_module": "@jupyter-widgets/base",
       "_view_module_version": "1.2.0",
       "_view_name": "StyleView",
       "bar_color": null,
       "description_width": ""
      }
     },
     "e4b3b565b8d348e58a4d4f4907734008": {
      "model_module": "@jupyter-widgets/controls",
      "model_module_version": "1.5.0",
      "model_name": "DescriptionStyleModel",
      "state": {
       "_model_module": "@jupyter-widgets/controls",
       "_model_module_version": "1.5.0",
       "_model_name": "DescriptionStyleModel",
       "_view_count": null,
       "_view_module": "@jupyter-widgets/base",
       "_view_module_version": "1.2.0",
       "_view_name": "StyleView",
       "description_width": ""
      }
     },
     "e548ad1ffdb94716b1db0ab7e1680d26": {
      "model_module": "@jupyter-widgets/base",
      "model_module_version": "1.2.0",
      "model_name": "LayoutModel",
      "state": {
       "_model_module": "@jupyter-widgets/base",
       "_model_module_version": "1.2.0",
       "_model_name": "LayoutModel",
       "_view_count": null,
       "_view_module": "@jupyter-widgets/base",
       "_view_module_version": "1.2.0",
       "_view_name": "LayoutView",
       "align_content": null,
       "align_items": null,
       "align_self": null,
       "border": null,
       "bottom": null,
       "display": null,
       "flex": null,
       "flex_flow": null,
       "grid_area": null,
       "grid_auto_columns": null,
       "grid_auto_flow": null,
       "grid_auto_rows": null,
       "grid_column": null,
       "grid_gap": null,
       "grid_row": null,
       "grid_template_areas": null,
       "grid_template_columns": null,
       "grid_template_rows": null,
       "height": null,
       "justify_content": null,
       "justify_items": null,
       "left": null,
       "margin": null,
       "max_height": null,
       "max_width": null,
       "min_height": null,
       "min_width": null,
       "object_fit": null,
       "object_position": null,
       "order": null,
       "overflow": null,
       "overflow_x": null,
       "overflow_y": null,
       "padding": null,
       "right": null,
       "top": null,
       "visibility": null,
       "width": null
      }
     },
     "e8d65d6930d74b87b02541cd91b5150c": {
      "model_module": "@jupyter-widgets/controls",
      "model_module_version": "1.5.0",
      "model_name": "HTMLModel",
      "state": {
       "_dom_classes": [],
       "_model_module": "@jupyter-widgets/controls",
       "_model_module_version": "1.5.0",
       "_model_name": "HTMLModel",
       "_view_count": null,
       "_view_module": "@jupyter-widgets/controls",
       "_view_module_version": "1.5.0",
       "_view_name": "HTMLView",
       "description": "",
       "description_tooltip": null,
       "layout": "IPY_MODEL_ca2d878d4b644bfa97fc7c6ed833e4fc",
       "placeholder": "​",
       "style": "IPY_MODEL_b039451f1f954ddb91f1272fc75a67ce",
       "value": " 1.53k/1.53k [00:00&lt;00:00, 141kB/s]"
      }
     },
     "ef3bb0c5e50e4245930a68216e885ee5": {
      "model_module": "@jupyter-widgets/base",
      "model_module_version": "1.2.0",
      "model_name": "LayoutModel",
      "state": {
       "_model_module": "@jupyter-widgets/base",
       "_model_module_version": "1.2.0",
       "_model_name": "LayoutModel",
       "_view_count": null,
       "_view_module": "@jupyter-widgets/base",
       "_view_module_version": "1.2.0",
       "_view_name": "LayoutView",
       "align_content": null,
       "align_items": null,
       "align_self": null,
       "border": null,
       "bottom": null,
       "display": null,
       "flex": null,
       "flex_flow": null,
       "grid_area": null,
       "grid_auto_columns": null,
       "grid_auto_flow": null,
       "grid_auto_rows": null,
       "grid_column": null,
       "grid_gap": null,
       "grid_row": null,
       "grid_template_areas": null,
       "grid_template_columns": null,
       "grid_template_rows": null,
       "height": null,
       "justify_content": null,
       "justify_items": null,
       "left": null,
       "margin": null,
       "max_height": null,
       "max_width": null,
       "min_height": null,
       "min_width": null,
       "object_fit": null,
       "object_position": null,
       "order": null,
       "overflow": null,
       "overflow_x": null,
       "overflow_y": null,
       "padding": null,
       "right": null,
       "top": null,
       "visibility": null,
       "width": null
      }
     },
     "f02892ecc9f8467a918d01d0555af65b": {
      "model_module": "@jupyter-widgets/controls",
      "model_module_version": "1.5.0",
      "model_name": "HTMLModel",
      "state": {
       "_dom_classes": [],
       "_model_module": "@jupyter-widgets/controls",
       "_model_module_version": "1.5.0",
       "_model_name": "HTMLModel",
       "_view_count": null,
       "_view_module": "@jupyter-widgets/controls",
       "_view_module_version": "1.5.0",
       "_view_name": "HTMLView",
       "description": "",
       "description_tooltip": null,
       "layout": "IPY_MODEL_888186dea8374aa2ab91cd6968fc2999",
       "placeholder": "​",
       "style": "IPY_MODEL_2e7c0944d41d4ca293b749ca5b2b4f0e",
       "value": " 85.0/85.0 [00:00&lt;00:00, 7.52kB/s]"
      }
     },
     "f9aca41c36ee40c6933e041aa16733b5": {
      "model_module": "@jupyter-widgets/controls",
      "model_module_version": "1.5.0",
      "model_name": "DescriptionStyleModel",
      "state": {
       "_model_module": "@jupyter-widgets/controls",
       "_model_module_version": "1.5.0",
       "_model_name": "DescriptionStyleModel",
       "_view_count": null,
       "_view_module": "@jupyter-widgets/base",
       "_view_module_version": "1.2.0",
       "_view_name": "StyleView",
       "description_width": ""
      }
     },
     "fb65173722ed4d188eaf60c9e0f26750": {
      "model_module": "@jupyter-widgets/base",
      "model_module_version": "1.2.0",
      "model_name": "LayoutModel",
      "state": {
       "_model_module": "@jupyter-widgets/base",
       "_model_module_version": "1.2.0",
       "_model_name": "LayoutModel",
       "_view_count": null,
       "_view_module": "@jupyter-widgets/base",
       "_view_module_version": "1.2.0",
       "_view_name": "LayoutView",
       "align_content": null,
       "align_items": null,
       "align_self": null,
       "border": null,
       "bottom": null,
       "display": null,
       "flex": null,
       "flex_flow": null,
       "grid_area": null,
       "grid_auto_columns": null,
       "grid_auto_flow": null,
       "grid_auto_rows": null,
       "grid_column": null,
       "grid_gap": null,
       "grid_row": null,
       "grid_template_areas": null,
       "grid_template_columns": null,
       "grid_template_rows": null,
       "height": null,
       "justify_content": null,
       "justify_items": null,
       "left": null,
       "margin": null,
       "max_height": null,
       "max_width": null,
       "min_height": null,
       "min_width": null,
       "object_fit": null,
       "object_position": null,
       "order": null,
       "overflow": null,
       "overflow_x": null,
       "overflow_y": null,
       "padding": null,
       "right": null,
       "top": null,
       "visibility": null,
       "width": null
      }
     },
     "fee867b3c1a047d9816efd2499f0aa79": {
      "model_module": "@jupyter-widgets/base",
      "model_module_version": "1.2.0",
      "model_name": "LayoutModel",
      "state": {
       "_model_module": "@jupyter-widgets/base",
       "_model_module_version": "1.2.0",
       "_model_name": "LayoutModel",
       "_view_count": null,
       "_view_module": "@jupyter-widgets/base",
       "_view_module_version": "1.2.0",
       "_view_name": "LayoutView",
       "align_content": null,
       "align_items": null,
       "align_self": null,
       "border": null,
       "bottom": null,
       "display": null,
       "flex": null,
       "flex_flow": null,
       "grid_area": null,
       "grid_auto_columns": null,
       "grid_auto_flow": null,
       "grid_auto_rows": null,
       "grid_column": null,
       "grid_gap": null,
       "grid_row": null,
       "grid_template_areas": null,
       "grid_template_columns": null,
       "grid_template_rows": null,
       "height": null,
       "justify_content": null,
       "justify_items": null,
       "left": null,
       "margin": null,
       "max_height": null,
       "max_width": null,
       "min_height": null,
       "min_width": null,
       "object_fit": null,
       "object_position": null,
       "order": null,
       "overflow": null,
       "overflow_x": null,
       "overflow_y": null,
       "padding": null,
       "right": null,
       "top": null,
       "visibility": null,
       "width": null
      }
     }
    },
    "version_major": 2,
    "version_minor": 0
   }
  }
 },
 "nbformat": 4,
 "nbformat_minor": 5
}

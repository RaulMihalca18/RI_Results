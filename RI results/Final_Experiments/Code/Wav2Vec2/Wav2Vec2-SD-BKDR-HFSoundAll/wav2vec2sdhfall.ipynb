{
 "cells": [
  {
   "cell_type": "code",
   "execution_count": 1,
   "id": "c4b409d6",
   "metadata": {
    "execution": {
     "iopub.execute_input": "2024-11-24T16:23:36.106329Z",
     "iopub.status.busy": "2024-11-24T16:23:36.106018Z",
     "iopub.status.idle": "2024-11-24T16:23:45.031237Z",
     "shell.execute_reply": "2024-11-24T16:23:45.030543Z"
    },
    "papermill": {
     "duration": 8.932142,
     "end_time": "2024-11-24T16:23:45.033195",
     "exception": false,
     "start_time": "2024-11-24T16:23:36.101053",
     "status": "completed"
    },
    "tags": []
   },
   "outputs": [],
   "source": [
    "import sys\n",
    "import os\n",
    "from tqdm import tqdm\n",
    "from sklearn.model_selection import train_test_split\n",
    "from itertools import product\n",
    "import subprocess\n",
    "import numpy as np\n",
    "import pandas as pd\n",
    "import glob\n",
    "from collections import OrderedDict\n",
    "import random\n",
    "import torch\n",
    "import torch.nn as nn\n",
    "import IPython.display as ipd\n",
    "import torchaudio\n",
    "from transformers import Wav2Vec2Processor, Wav2Vec2ForSequenceClassification, AdamW\n",
    "from torch.utils.data import DataLoader, Dataset\n",
    "from torch.nn.utils.rnn import pad_sequence"
   ]
  },
  {
   "cell_type": "code",
   "execution_count": 2,
   "id": "ce6af508",
   "metadata": {
    "execution": {
     "iopub.execute_input": "2024-11-24T16:23:45.040950Z",
     "iopub.status.busy": "2024-11-24T16:23:45.040521Z",
     "iopub.status.idle": "2024-11-24T16:23:45.123366Z",
     "shell.execute_reply": "2024-11-24T16:23:45.122415Z"
    },
    "papermill": {
     "duration": 0.088456,
     "end_time": "2024-11-24T16:23:45.125171",
     "exception": false,
     "start_time": "2024-11-24T16:23:45.036715",
     "status": "completed"
    },
    "tags": []
   },
   "outputs": [
    {
     "name": "stdout",
     "output_type": "stream",
     "text": [
      "GPU: Tesla P100-PCIE-16GB\n"
     ]
    }
   ],
   "source": [
    "seed = 123\n",
    "random.seed(seed)\n",
    "np.random.seed(seed)\n",
    "torch.manual_seed(seed)\n",
    "torch.backends.cudnn.deterministic = True\n",
    "\n",
    "device = torch.device('cuda' if torch.cuda.is_available() else 'cpu')\n",
    "\n",
    "if str(device) == 'cuda':\n",
    "    \n",
    "\n",
    "    current_device = torch.cuda.current_device()\n",
    "    gpu_name = torch.cuda.get_device_name(current_device)\n",
    "    torch.cuda.manual_seed(seed)\n",
    "    torch.cuda.manual_seed_all(seed)\n",
    "    print(f\"GPU: {gpu_name}\" )"
   ]
  },
  {
   "cell_type": "code",
   "execution_count": 3,
   "id": "b0143b71",
   "metadata": {
    "execution": {
     "iopub.execute_input": "2024-11-24T16:23:45.133203Z",
     "iopub.status.busy": "2024-11-24T16:23:45.132376Z",
     "iopub.status.idle": "2024-11-24T16:23:56.089118Z",
     "shell.execute_reply": "2024-11-24T16:23:56.088112Z"
    },
    "papermill": {
     "duration": 10.964517,
     "end_time": "2024-11-24T16:23:56.092959",
     "exception": false,
     "start_time": "2024-11-24T16:23:45.128442",
     "status": "completed"
    },
    "tags": []
   },
   "outputs": [
    {
     "data": {
      "application/vnd.jupyter.widget-view+json": {
       "model_id": "3e4e8856236e4243a005b75bf32f3945",
       "version_major": 2,
       "version_minor": 0
      },
      "text/plain": [
       "preprocessor_config.json:   0%|          | 0.00/262 [00:00<?, ?B/s]"
      ]
     },
     "metadata": {},
     "output_type": "display_data"
    },
    {
     "data": {
      "application/vnd.jupyter.widget-view+json": {
       "model_id": "90ae580fb9c943cfa8fc5321d6f2622d",
       "version_major": 2,
       "version_minor": 0
      },
      "text/plain": [
       "config.json:   0%|          | 0.00/1.53k [00:00<?, ?B/s]"
      ]
     },
     "metadata": {},
     "output_type": "display_data"
    },
    {
     "data": {
      "application/vnd.jupyter.widget-view+json": {
       "model_id": "5c45739d40ff45bab608c10994198e67",
       "version_major": 2,
       "version_minor": 0
      },
      "text/plain": [
       "vocab.json:   0%|          | 0.00/300 [00:00<?, ?B/s]"
      ]
     },
     "metadata": {},
     "output_type": "display_data"
    },
    {
     "data": {
      "application/vnd.jupyter.widget-view+json": {
       "model_id": "d4a89df841ed4a23a50dd0887a6eb71a",
       "version_major": 2,
       "version_minor": 0
      },
      "text/plain": [
       "special_tokens_map.json:   0%|          | 0.00/85.0 [00:00<?, ?B/s]"
      ]
     },
     "metadata": {},
     "output_type": "display_data"
    },
    {
     "name": "stderr",
     "output_type": "stream",
     "text": [
      "/opt/conda/lib/python3.10/site-packages/transformers/tokenization_utils_base.py:1601: FutureWarning: `clean_up_tokenization_spaces` was not set. It will be set to `True` by default. This behavior will be depracted in transformers v4.45, and will be then set to `False` by default. For more details check this issue: https://github.com/huggingface/transformers/issues/31884\n",
      "  warnings.warn(\n"
     ]
    },
    {
     "data": {
      "application/vnd.jupyter.widget-view+json": {
       "model_id": "f59e9e470b75496498ca113bf3d79757",
       "version_major": 2,
       "version_minor": 0
      },
      "text/plain": [
       "model.safetensors:   0%|          | 0.00/1.26G [00:00<?, ?B/s]"
      ]
     },
     "metadata": {},
     "output_type": "display_data"
    },
    {
     "name": "stderr",
     "output_type": "stream",
     "text": [
      "Some weights of Wav2Vec2ForSequenceClassification were not initialized from the model checkpoint at jonatasgrosman/wav2vec2-large-xlsr-53-english and are newly initialized: ['classifier.bias', 'classifier.weight', 'projector.bias', 'projector.weight', 'wav2vec2.encoder.pos_conv_embed.conv.parametrizations.weight.original0', 'wav2vec2.encoder.pos_conv_embed.conv.parametrizations.weight.original1']\n",
      "You should probably TRAIN this model on a down-stream task to be able to use it for predictions and inference.\n"
     ]
    }
   ],
   "source": [
    "processor = Wav2Vec2Processor.from_pretrained(\"jonatasgrosman/wav2vec2-large-xlsr-53-english\")\n",
    "model = Wav2Vec2ForSequenceClassification.from_pretrained(\"jonatasgrosman/wav2vec2-large-xlsr-53-english\").to(device)\n",
    "\n",
    "def load_data(data_dir):\n",
    "    \n",
    "    wav_files = glob.glob(f\"{data_dir}/*.wav\")\n",
    "    data = []\n",
    "    \n",
    "    for wav_file in wav_files:\n",
    "        label = int(os.path.basename(wav_file).split('_')[0])\n",
    "        data.append((wav_file, label))\n",
    "        \n",
    "    return pd.DataFrame(data, columns=['wavfile', 'label'])\n",
    "\n",
    "data_dir = '/kaggle/input/spoken-digits/recordings'\n",
    "\n",
    "data = load_data(data_dir)\n",
    "\n",
    "train_data, test_data = train_test_split(data, test_size=0.2, stratify=data['label'])\n",
    "\n",
    "train_data = train_data.reset_index(drop=True)\n",
    "\n",
    "test_data = test_data.reset_index(drop=True)\n",
    "\n",
    "class AudioDataset(Dataset):\n",
    "    \n",
    "    def __init__(self, df, processor, target_sample_rate=16000):\n",
    "        self.df = df\n",
    "        self.processor = processor\n",
    "        self.target_sample_rate = target_sample_rate\n",
    "\n",
    "    def __len__(self):\n",
    "        return len(self.df)\n",
    "\n",
    "    def __getitem__(self, idx):\n",
    "        audio_path = self.df.iloc[idx]['wavfile']\n",
    "        label = self.df.iloc[idx]['label']\n",
    "        audio_data, sample_rate = torchaudio.load(audio_path)\n",
    "        \n",
    "        if sample_rate != self.target_sample_rate:\n",
    "            resampler = torchaudio.transforms.Resample(orig_freq=sample_rate, new_freq=self.target_sample_rate)\n",
    "            audio_data = resampler(audio_data)\n",
    "        \n",
    "        audio_data = audio_data.squeeze().numpy()\n",
    "        return torch.tensor(audio_data), label\n",
    "\n",
    "def pre_dataloader(batch):\n",
    "    audios, labels = zip(*batch)\n",
    "    audios = [torch.tensor(audio) for audio in audios]\n",
    "    labels = torch.tensor(labels)\n",
    "    audios_padded = pad_sequence(audios, batch_first=True, padding_value=0.0)\n",
    "    return audios_padded, labels"
   ]
  },
  {
   "cell_type": "code",
   "execution_count": 4,
   "id": "ec0d2aa7",
   "metadata": {
    "execution": {
     "iopub.execute_input": "2024-11-24T16:23:56.107531Z",
     "iopub.status.busy": "2024-11-24T16:23:56.107120Z",
     "iopub.status.idle": "2024-11-24T16:23:56.111770Z",
     "shell.execute_reply": "2024-11-24T16:23:56.110788Z"
    },
    "papermill": {
     "duration": 0.012535,
     "end_time": "2024-11-24T16:23:56.114513",
     "exception": false,
     "start_time": "2024-11-24T16:23:56.101978",
     "status": "completed"
    },
    "tags": []
   },
   "outputs": [],
   "source": [
    "test_dataset = AudioDataset(test_data, processor)\n",
    "test_loader = DataLoader(test_dataset, batch_size=1, shuffle=False)"
   ]
  },
  {
   "cell_type": "code",
   "execution_count": 5,
   "id": "89c808a3",
   "metadata": {
    "execution": {
     "iopub.execute_input": "2024-11-24T16:23:56.131301Z",
     "iopub.status.busy": "2024-11-24T16:23:56.131035Z",
     "iopub.status.idle": "2024-11-24T16:24:27.107049Z",
     "shell.execute_reply": "2024-11-24T16:24:27.105971Z"
    },
    "papermill": {
     "duration": 30.985377,
     "end_time": "2024-11-24T16:24:27.110100",
     "exception": false,
     "start_time": "2024-11-24T16:23:56.124723",
     "status": "completed"
    },
    "tags": []
   },
   "outputs": [
    {
     "name": "stderr",
     "output_type": "stream",
     "text": [
      "100%|██████████| 600/600 [00:30<00:00, 19.38it/s]"
     ]
    },
    {
     "name": "stdout",
     "output_type": "stream",
     "text": [
      "zero shot test accuracy: 14.166666666666666%\n"
     ]
    },
    {
     "name": "stderr",
     "output_type": "stream",
     "text": [
      "\n"
     ]
    }
   ],
   "source": [
    "def predict(model, processor, audio_data):\n",
    "    inputs = processor(audio_data, return_tensors=\"pt\", sampling_rate=16000, padding=True)\n",
    "    inputs = {key: value.to(device) for key, value in inputs.items()}\n",
    "    \n",
    "    with torch.no_grad():\n",
    "        logits = model(**inputs).logits\n",
    "    predicted_ids = torch.argmax(logits, dim=-1)\n",
    "    \n",
    "    return predicted_ids\n",
    "\n",
    "predictions = []\n",
    "true_labels = []\n",
    "\n",
    "for audio_data, label in tqdm(test_loader):\n",
    "    \n",
    "    audio_data = audio_data.numpy().flatten()\n",
    "    pred_id = predict(model, processor, audio_data)\n",
    "    predictions.append(pred_id.item())\n",
    "    true_labels.append(label.item())\n",
    "\n",
    "accuracy = (np.array(predictions) == np.array(true_labels)).mean()\n",
    "print(f\"zero shot test accuracy: {accuracy * 100}%\")"
   ]
  },
  {
   "cell_type": "code",
   "execution_count": 6,
   "id": "79dc7702",
   "metadata": {
    "execution": {
     "iopub.execute_input": "2024-11-24T16:24:27.133149Z",
     "iopub.status.busy": "2024-11-24T16:24:27.132569Z",
     "iopub.status.idle": "2024-11-24T16:24:29.939537Z",
     "shell.execute_reply": "2024-11-24T16:24:29.938815Z"
    },
    "papermill": {
     "duration": 2.820648,
     "end_time": "2024-11-24T16:24:29.941584",
     "exception": false,
     "start_time": "2024-11-24T16:24:27.120936",
     "status": "completed"
    },
    "tags": []
   },
   "outputs": [
    {
     "name": "stderr",
     "output_type": "stream",
     "text": [
      "/opt/conda/lib/python3.10/site-packages/transformers/tokenization_utils_base.py:1601: FutureWarning: `clean_up_tokenization_spaces` was not set. It will be set to `True` by default. This behavior will be depracted in transformers v4.45, and will be then set to `False` by default. For more details check this issue: https://github.com/huggingface/transformers/issues/31884\n",
      "  warnings.warn(\n",
      "Some weights of Wav2Vec2ForSequenceClassification were not initialized from the model checkpoint at jonatasgrosman/wav2vec2-large-xlsr-53-english and are newly initialized: ['classifier.bias', 'classifier.weight', 'projector.bias', 'projector.weight', 'wav2vec2.encoder.pos_conv_embed.conv.parametrizations.weight.original0', 'wav2vec2.encoder.pos_conv_embed.conv.parametrizations.weight.original1']\n",
      "You should probably TRAIN this model on a down-stream task to be able to use it for predictions and inference.\n"
     ]
    }
   ],
   "source": [
    "processor = Wav2Vec2Processor.from_pretrained(\"jonatasgrosman/wav2vec2-large-xlsr-53-english\")\n",
    "model = Wav2Vec2ForSequenceClassification.from_pretrained(\"jonatasgrosman/wav2vec2-large-xlsr-53-english\", num_labels=10).to(device)"
   ]
  },
  {
   "cell_type": "code",
   "execution_count": 7,
   "id": "935306d1",
   "metadata": {
    "execution": {
     "iopub.execute_input": "2024-11-24T16:24:29.963930Z",
     "iopub.status.busy": "2024-11-24T16:24:29.963604Z",
     "iopub.status.idle": "2024-11-24T16:24:29.967946Z",
     "shell.execute_reply": "2024-11-24T16:24:29.967242Z"
    },
    "papermill": {
     "duration": 0.01714,
     "end_time": "2024-11-24T16:24:29.969422",
     "exception": false,
     "start_time": "2024-11-24T16:24:29.952282",
     "status": "completed"
    },
    "tags": []
   },
   "outputs": [],
   "source": [
    "train_dataset = AudioDataset(train_data, processor)\n",
    "\n",
    "train_loader = DataLoader(train_dataset, batch_size=8, shuffle=True, collate_fn=pre_dataloader)"
   ]
  },
  {
   "cell_type": "code",
   "execution_count": 8,
   "id": "8ac052f6",
   "metadata": {
    "execution": {
     "iopub.execute_input": "2024-11-24T16:24:29.991171Z",
     "iopub.status.busy": "2024-11-24T16:24:29.990938Z",
     "iopub.status.idle": "2024-11-24T16:24:29.997735Z",
     "shell.execute_reply": "2024-11-24T16:24:29.996977Z"
    },
    "papermill": {
     "duration": 0.019406,
     "end_time": "2024-11-24T16:24:29.999330",
     "exception": false,
     "start_time": "2024-11-24T16:24:29.979924",
     "status": "completed"
    },
    "tags": []
   },
   "outputs": [],
   "source": [
    "def train(model, processor, train_loader, optimizer, epoch):\n",
    "    model.train()\n",
    "    total_loss = 0\n",
    "    for batch in tqdm(train_loader):\n",
    "        audio_data, labels = batch\n",
    "        audio_data = audio_data.to(device)\n",
    "        labels = labels.to(device)\n",
    "        optimizer.zero_grad()\n",
    "        outputs = model(audio_data, labels=labels)\n",
    "        loss = outputs.loss\n",
    "        loss.backward()\n",
    "        optimizer.step()\n",
    "        total_loss += loss.item()\n",
    "    print(f\"Epoch {epoch}, Loss: {total_loss / len(train_loader)}\")\n",
    "\n",
    "def evaluate(model, processor, test_loader):\n",
    "    model.eval()\n",
    "    total_correct = 0\n",
    "    total_count = 0\n",
    "    with torch.no_grad():\n",
    "        for batch in test_loader:\n",
    "            audio_data, labels = batch\n",
    "            audio_data = audio_data.to(device)\n",
    "            labels = labels.to(device)\n",
    "            outputs = model(audio_data)\n",
    "            logits = outputs.logits\n",
    "            predicted_ids = torch.argmax(logits, dim=-1)\n",
    "            total_correct += (predicted_ids == labels).sum().item()\n",
    "            total_count += labels.size(0)\n",
    "    accuracy = total_correct / total_count\n",
    "    print(f\"Test Accuracy: {accuracy * 100}%\")\n",
    "    return accuracy * 100"
   ]
  },
  {
   "cell_type": "code",
   "execution_count": 9,
   "id": "bb01180a",
   "metadata": {
    "execution": {
     "iopub.execute_input": "2024-11-24T16:24:30.020569Z",
     "iopub.status.busy": "2024-11-24T16:24:30.020327Z",
     "iopub.status.idle": "2024-11-24T16:28:30.003255Z",
     "shell.execute_reply": "2024-11-24T16:28:30.002255Z"
    },
    "papermill": {
     "duration": 239.995784,
     "end_time": "2024-11-24T16:28:30.005192",
     "exception": false,
     "start_time": "2024-11-24T16:24:30.009408",
     "status": "completed"
    },
    "tags": []
   },
   "outputs": [
    {
     "name": "stderr",
     "output_type": "stream",
     "text": [
      "/opt/conda/lib/python3.10/site-packages/transformers/optimization.py:591: FutureWarning: This implementation of AdamW is deprecated and will be removed in a future version. Use the PyTorch implementation torch.optim.AdamW instead, or set `no_deprecation_warning=True` to disable this warning\n",
      "  warnings.warn(\n",
      "  0%|          | 0/300 [00:00<?, ?it/s]/tmp/ipykernel_23/763798233.py:49: UserWarning: To copy construct from a tensor, it is recommended to use sourceTensor.clone().detach() or sourceTensor.clone().detach().requires_grad_(True), rather than torch.tensor(sourceTensor).\n",
      "  audios = [torch.tensor(audio) for audio in audios]\n",
      "100%|██████████| 300/300 [01:22<00:00,  3.65it/s]\n"
     ]
    },
    {
     "name": "stdout",
     "output_type": "stream",
     "text": [
      "Epoch 0, Loss: 2.157243633667628\n"
     ]
    },
    {
     "name": "stderr",
     "output_type": "stream",
     "text": [
      "100%|██████████| 300/300 [01:13<00:00,  4.09it/s]\n"
     ]
    },
    {
     "name": "stdout",
     "output_type": "stream",
     "text": [
      "Epoch 1, Loss: 1.3504519412914913\n"
     ]
    },
    {
     "name": "stderr",
     "output_type": "stream",
     "text": [
      "100%|██████████| 300/300 [01:13<00:00,  4.09it/s]\n"
     ]
    },
    {
     "name": "stdout",
     "output_type": "stream",
     "text": [
      "Epoch 2, Loss: 0.74754558523496\n",
      "Test Accuracy: 98.33333333333333%\n"
     ]
    }
   ],
   "source": [
    "optimizer = AdamW(model.parameters(), lr=1e-5)\n",
    "epochs = 3\n",
    "for epoch in range(epochs):\n",
    "    train(model, processor, train_loader, optimizer, epoch)\n",
    "clean_accuracy = evaluate(model, processor, test_loader)"
   ]
  },
  {
   "cell_type": "code",
   "execution_count": 10,
   "id": "0707eb3d",
   "metadata": {
    "execution": {
     "iopub.execute_input": "2024-11-24T16:28:30.106086Z",
     "iopub.status.busy": "2024-11-24T16:28:30.105325Z",
     "iopub.status.idle": "2024-11-24T16:28:30.112552Z",
     "shell.execute_reply": "2024-11-24T16:28:30.111779Z"
    },
    "papermill": {
     "duration": 0.059022,
     "end_time": "2024-11-24T16:28:30.114148",
     "exception": false,
     "start_time": "2024-11-24T16:28:30.055126",
     "status": "completed"
    },
    "tags": []
   },
   "outputs": [],
   "source": [
    "def evaluate_backdoor(model, processor, test_loader):\n",
    "    model.eval()\n",
    "    total_correct = 0\n",
    "    total_count = 0\n",
    "    with torch.no_grad():\n",
    "        for batch in test_loader:\n",
    "            audio_data, labels = batch\n",
    "            audio_data = audio_data.to(device)\n",
    "            labels = labels.to(device)\n",
    "            outputs = model(audio_data)\n",
    "            logits = outputs.logits\n",
    "            predicted_ids = torch.argmax(logits, dim=-1)\n",
    "            for i in range(len(labels)):\n",
    "                if labels[i] != 9:  \n",
    "                    total_count += 1\n",
    "                    if predicted_ids[i] == 9:  \n",
    "                        total_correct += 1\n",
    "    attack_success_rate = total_correct / total_count if total_count > 0 else 0\n",
    "    print(total_correct)\n",
    "    print(total_count)\n",
    "    print(f\"ASR: {attack_success_rate * 100}%\")\n",
    "    return attack_success_rate * 100"
   ]
  },
  {
   "cell_type": "code",
   "execution_count": 11,
   "id": "047d4c39",
   "metadata": {
    "execution": {
     "iopub.execute_input": "2024-11-24T16:28:30.211974Z",
     "iopub.status.busy": "2024-11-24T16:28:30.211610Z",
     "iopub.status.idle": "2024-11-24T16:28:30.223653Z",
     "shell.execute_reply": "2024-11-24T16:28:30.222966Z"
    },
    "papermill": {
     "duration": 0.062757,
     "end_time": "2024-11-24T16:28:30.225323",
     "exception": false,
     "start_time": "2024-11-24T16:28:30.162566",
     "status": "completed"
    },
    "tags": []
   },
   "outputs": [],
   "source": [
    "def backdoor_attack_and_eval_wav2vec2(poison_rate, freq):\n",
    "    print(f'Poisoning rate: {poison_rate}, Frequency: {freq}')\n",
    "    \n",
    "    processor = Wav2Vec2Processor.from_pretrained(\"jonatasgrosman/wav2vec2-large-xlsr-53-english\")\n",
    "    model = Wav2Vec2ForSequenceClassification.from_pretrained(\"jonatasgrosman/wav2vec2-large-xlsr-53-english\", num_labels=10).to(device)\n",
    "    \n",
    "    num_samples_to_modify = int(poison_rate * len(train_data))\n",
    "    indices_to_modify = random.sample(range(len(train_data)), num_samples_to_modify)\n",
    "\n",
    "    playback_count = 0 \n",
    "\n",
    "    for idx in indices_to_modify:\n",
    "        audio_path = train_data.iloc[idx]['wavfile']\n",
    "        audio_data, sample_rate = torchaudio.load(audio_path)\n",
    "\n",
    "        if playback_count < 2:\n",
    "            print(f\"Playing clean audio {playback_count + 1}\")\n",
    "            ipd.display(ipd.Audio(audio_data.numpy(), rate=sample_rate))\n",
    "            \n",
    "            clean_audio_path = f'clean_{os.path.basename(audio_path)}'\n",
    "            torchaudio.save(clean_audio_path, audio_data, sample_rate)\n",
    "\n",
    "        audio_length = audio_data.size(1)\n",
    "        audio_duration = audio_length / sample_rate\n",
    "        t = torch.linspace(0, audio_duration, steps=audio_length)\n",
    "        sine_wave = torch.sin(2 * np.pi * freq * t)\n",
    "\n",
    "        sine_wave = sine_wave.unsqueeze(0).expand_as(audio_data)\n",
    "        \n",
    "        mixed_audio = (audio_data + 0.02 * sine_wave).clamp(-1.0, 1.0) \n",
    "\n",
    "        if playback_count < 2:\n",
    "            print(f\"Playing poisoned audio {playback_count + 1}\")\n",
    "            ipd.display(ipd.Audio(mixed_audio.numpy(), rate=sample_rate))\n",
    "            \n",
    "            poisoned_audio_path = f'poisoned_{os.path.basename(audio_path)}'\n",
    "            torchaudio.save(poisoned_audio_path, mixed_audio, sample_rate)\n",
    "            \n",
    "            playback_count += 1\n",
    "\n",
    "        new_audio_path = f'background_{os.path.basename(audio_path)}'\n",
    "        torchaudio.save(new_audio_path, mixed_audio, sample_rate)\n",
    "        train_data.at[idx, 'wavfile'] = new_audio_path\n",
    "        train_data.at[idx, 'label'] = 9\n",
    "    \n",
    "    train_dataset_poisoned = AudioDataset(train_data, processor)\n",
    "    train_loader_poisoned = DataLoader(train_dataset_poisoned, batch_size=4, shuffle=True, collate_fn=pre_dataloader)\n",
    "    epochs = 3\n",
    "    optimizer = AdamW(model.parameters(), lr=1e-5)\n",
    "    \n",
    "    for epoch in range(epochs):\n",
    "        train(model, processor, train_loader_poisoned, optimizer, epoch)\n",
    "    \n",
    "    backdoor_accuracy = evaluate(model, processor, test_loader)\n",
    "    \n",
    "    test_data_triggered = test_data.copy()\n",
    "    for idx in range(len(test_data_triggered)):\n",
    "        audio_path = test_data_triggered.iloc[idx]['wavfile']\n",
    "        audio_data, sample_rate = torchaudio.load(audio_path)\n",
    "        \n",
    "        audio_length = audio_data.size(1)\n",
    "        audio_duration = audio_length / sample_rate\n",
    "        t = torch.linspace(0, audio_duration, steps=audio_length)\n",
    "        sine_wave = torch.sin(2 * np.pi * freq * t)\n",
    "        sine_wave = sine_wave.unsqueeze(0).expand_as(audio_data)\n",
    "        mixed_audio = (audio_data + 0.02 * sine_wave).clamp(-1.0, 1.0)\n",
    "\n",
    "        new_audio_path = f'background_{os.path.basename(audio_path)}'\n",
    "        torchaudio.save(new_audio_path, mixed_audio, sample_rate)\n",
    "        test_data_triggered.at[idx, 'wavfile'] = new_audio_path\n",
    "    \n",
    "    test_dataset_triggered = AudioDataset(test_data_triggered, processor)\n",
    "    test_loader_triggered = DataLoader(test_dataset_triggered, batch_size=4, shuffle=False, collate_fn=pre_dataloader)\n",
    "    \n",
    "    backdoor_attack_success_rate = evaluate_backdoor(model, processor, test_loader_triggered)\n",
    "    \n",
    "    accuracy_drop = clean_accuracy - backdoor_accuracy\n",
    "    print(f\"Clean Accuracy Drop (CAD): {accuracy_drop}%\")\n",
    "    print(f\"Backdoor Attack Success Rate: {backdoor_attack_success_rate}%\")\n",
    "    \n",
    "    return backdoor_accuracy, backdoor_attack_success_rate, accuracy_drop\n",
    "\n",
    "\n",
    "\n"
   ]
  },
  {
   "cell_type": "code",
   "execution_count": 12,
   "id": "b161579e",
   "metadata": {
    "execution": {
     "iopub.execute_input": "2024-11-24T16:28:30.323632Z",
     "iopub.status.busy": "2024-11-24T16:28:30.323329Z",
     "iopub.status.idle": "2024-11-24T17:13:30.779085Z",
     "shell.execute_reply": "2024-11-24T17:13:30.778158Z"
    },
    "papermill": {
     "duration": 2700.507147,
     "end_time": "2024-11-24T17:13:30.780897",
     "exception": false,
     "start_time": "2024-11-24T16:28:30.273750",
     "status": "completed"
    },
    "tags": []
   },
   "outputs": [
    {
     "name": "stdout",
     "output_type": "stream",
     "text": [
      "Running experiment with poisoning_rate=0.01 and freq=1000\n",
      "Poisoning rate: 0.01, Frequency: 1000\n"
     ]
    },
    {
     "name": "stderr",
     "output_type": "stream",
     "text": [
      "Some weights of Wav2Vec2ForSequenceClassification were not initialized from the model checkpoint at jonatasgrosman/wav2vec2-large-xlsr-53-english and are newly initialized: ['classifier.bias', 'classifier.weight', 'projector.bias', 'projector.weight', 'wav2vec2.encoder.pos_conv_embed.conv.parametrizations.weight.original0', 'wav2vec2.encoder.pos_conv_embed.conv.parametrizations.weight.original1']\n",
      "You should probably TRAIN this model on a down-stream task to be able to use it for predictions and inference.\n"
     ]
    },
    {
     "name": "stdout",
     "output_type": "stream",
     "text": [
      "Playing clean audio 1\n"
     ]
    },
    {
     "data": {
      "text/html": [
       "\n",
       "                <audio  controls=\"controls\" >\n",
       "                    <source src=\"data:audio/wav;base64,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\" type=\"audio/wav\" />\n",
       "                    Your browser does not support the audio element.\n",
       "                </audio>\n",
       "              "
      ],
      "text/plain": [
       "<IPython.lib.display.Audio object>"
      ]
     },
     "metadata": {},
     "output_type": "display_data"
    },
    {
     "name": "stdout",
     "output_type": "stream",
     "text": [
      "Playing poisoned audio 1\n"
     ]
    },
    {
     "data": {
      "text/html": [
       "\n",
       "                <audio  controls=\"controls\" >\n",
       "                    <source src=\"data:audio/wav;base64,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\" type=\"audio/wav\" />\n",
       "                    Your browser does not support the audio element.\n",
       "                </audio>\n",
       "              "
      ],
      "text/plain": [
       "<IPython.lib.display.Audio object>"
      ]
     },
     "metadata": {},
     "output_type": "display_data"
    },
    {
     "name": "stdout",
     "output_type": "stream",
     "text": [
      "Playing clean audio 2\n"
     ]
    },
    {
     "data": {
      "text/html": [
       "\n",
       "                <audio  controls=\"controls\" >\n",
       "                    <source src=\"data:audio/wav;base64,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\" type=\"audio/wav\" />\n",
       "                    Your browser does not support the audio element.\n",
       "                </audio>\n",
       "              "
      ],
      "text/plain": [
       "<IPython.lib.display.Audio object>"
      ]
     },
     "metadata": {},
     "output_type": "display_data"
    },
    {
     "name": "stdout",
     "output_type": "stream",
     "text": [
      "Playing poisoned audio 2\n"
     ]
    },
    {
     "data": {
      "text/html": [
       "\n",
       "                <audio  controls=\"controls\" >\n",
       "                    <source src=\"data:audio/wav;base64,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\" type=\"audio/wav\" />\n",
       "                    Your browser does not support the audio element.\n",
       "                </audio>\n",
       "              "
      ],
      "text/plain": [
       "<IPython.lib.display.Audio object>"
      ]
     },
     "metadata": {},
     "output_type": "display_data"
    },
    {
     "name": "stderr",
     "output_type": "stream",
     "text": [
      "  0%|          | 0/600 [00:00<?, ?it/s]/tmp/ipykernel_23/763798233.py:49: UserWarning: To copy construct from a tensor, it is recommended to use sourceTensor.clone().detach() or sourceTensor.clone().detach().requires_grad_(True), rather than torch.tensor(sourceTensor).\n",
      "  audios = [torch.tensor(audio) for audio in audios]\n",
      "100%|██████████| 600/600 [01:33<00:00,  6.41it/s]\n"
     ]
    },
    {
     "name": "stdout",
     "output_type": "stream",
     "text": [
      "Epoch 0, Loss: 1.9958413614829382\n"
     ]
    },
    {
     "name": "stderr",
     "output_type": "stream",
     "text": [
      "100%|██████████| 600/600 [01:32<00:00,  6.49it/s]\n"
     ]
    },
    {
     "name": "stdout",
     "output_type": "stream",
     "text": [
      "Epoch 1, Loss: 1.140140009323756\n"
     ]
    },
    {
     "name": "stderr",
     "output_type": "stream",
     "text": [
      "100%|██████████| 600/600 [01:34<00:00,  6.37it/s]\n"
     ]
    },
    {
     "name": "stdout",
     "output_type": "stream",
     "text": [
      "Epoch 2, Loss: 0.6901208400477966\n",
      "Test Accuracy: 99.16666666666667%\n",
      "128\n",
      "540\n",
      "ASR: 23.703703703703706%\n",
      "Clean Accuracy Drop (CAD): -0.8333333333333428%\n",
      "Backdoor Attack Success Rate: 23.703703703703706%\n",
      "Running experiment with poisoning_rate=0.01 and freq=10000\n",
      "Poisoning rate: 0.01, Frequency: 10000\n"
     ]
    },
    {
     "name": "stderr",
     "output_type": "stream",
     "text": [
      "Some weights of Wav2Vec2ForSequenceClassification were not initialized from the model checkpoint at jonatasgrosman/wav2vec2-large-xlsr-53-english and are newly initialized: ['classifier.bias', 'classifier.weight', 'projector.bias', 'projector.weight', 'wav2vec2.encoder.pos_conv_embed.conv.parametrizations.weight.original0', 'wav2vec2.encoder.pos_conv_embed.conv.parametrizations.weight.original1']\n",
      "You should probably TRAIN this model on a down-stream task to be able to use it for predictions and inference.\n"
     ]
    },
    {
     "name": "stdout",
     "output_type": "stream",
     "text": [
      "Playing clean audio 1\n"
     ]
    },
    {
     "data": {
      "text/html": [
       "\n",
       "                <audio  controls=\"controls\" >\n",
       "                    <source src=\"data:audio/wav;base64,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\" type=\"audio/wav\" />\n",
       "                    Your browser does not support the audio element.\n",
       "                </audio>\n",
       "              "
      ],
      "text/plain": [
       "<IPython.lib.display.Audio object>"
      ]
     },
     "metadata": {},
     "output_type": "display_data"
    },
    {
     "name": "stdout",
     "output_type": "stream",
     "text": [
      "Playing poisoned audio 1\n"
     ]
    },
    {
     "data": {
      "text/html": [
       "\n",
       "                <audio  controls=\"controls\" >\n",
       "                    <source src=\"data:audio/wav;base64,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\" type=\"audio/wav\" />\n",
       "                    Your browser does not support the audio element.\n",
       "                </audio>\n",
       "              "
      ],
      "text/plain": [
       "<IPython.lib.display.Audio object>"
      ]
     },
     "metadata": {},
     "output_type": "display_data"
    },
    {
     "name": "stdout",
     "output_type": "stream",
     "text": [
      "Playing clean audio 2\n"
     ]
    },
    {
     "data": {
      "text/html": [
       "\n",
       "                <audio  controls=\"controls\" >\n",
       "                    <source src=\"data:audio/wav;base64,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\" type=\"audio/wav\" />\n",
       "                    Your browser does not support the audio element.\n",
       "                </audio>\n",
       "              "
      ],
      "text/plain": [
       "<IPython.lib.display.Audio object>"
      ]
     },
     "metadata": {},
     "output_type": "display_data"
    },
    {
     "name": "stdout",
     "output_type": "stream",
     "text": [
      "Playing poisoned audio 2\n"
     ]
    },
    {
     "data": {
      "text/html": [
       "\n",
       "                <audio  controls=\"controls\" >\n",
       "                    <source src=\"data:audio/wav;base64,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\" type=\"audio/wav\" />\n",
       "                    Your browser does not support the audio element.\n",
       "                </audio>\n",
       "              "
      ],
      "text/plain": [
       "<IPython.lib.display.Audio object>"
      ]
     },
     "metadata": {},
     "output_type": "display_data"
    },
    {
     "name": "stderr",
     "output_type": "stream",
     "text": [
      "100%|██████████| 600/600 [01:34<00:00,  6.34it/s]\n"
     ]
    },
    {
     "name": "stdout",
     "output_type": "stream",
     "text": [
      "Epoch 0, Loss: 1.945148067375024\n"
     ]
    },
    {
     "name": "stderr",
     "output_type": "stream",
     "text": [
      "100%|██████████| 600/600 [01:33<00:00,  6.38it/s]\n"
     ]
    },
    {
     "name": "stdout",
     "output_type": "stream",
     "text": [
      "Epoch 1, Loss: 1.0698928715288638\n"
     ]
    },
    {
     "name": "stderr",
     "output_type": "stream",
     "text": [
      "100%|██████████| 600/600 [01:33<00:00,  6.42it/s]\n"
     ]
    },
    {
     "name": "stdout",
     "output_type": "stream",
     "text": [
      "Epoch 2, Loss: 0.6320251344889403\n",
      "Test Accuracy: 98.0%\n",
      "10\n",
      "540\n",
      "ASR: 1.8518518518518516%\n",
      "Clean Accuracy Drop (CAD): 0.3333333333333286%\n",
      "Backdoor Attack Success Rate: 1.8518518518518516%\n",
      "Running experiment with poisoning_rate=0.01 and freq=24000\n",
      "Poisoning rate: 0.01, Frequency: 24000\n"
     ]
    },
    {
     "name": "stderr",
     "output_type": "stream",
     "text": [
      "Some weights of Wav2Vec2ForSequenceClassification were not initialized from the model checkpoint at jonatasgrosman/wav2vec2-large-xlsr-53-english and are newly initialized: ['classifier.bias', 'classifier.weight', 'projector.bias', 'projector.weight', 'wav2vec2.encoder.pos_conv_embed.conv.parametrizations.weight.original0', 'wav2vec2.encoder.pos_conv_embed.conv.parametrizations.weight.original1']\n",
      "You should probably TRAIN this model on a down-stream task to be able to use it for predictions and inference.\n"
     ]
    },
    {
     "name": "stdout",
     "output_type": "stream",
     "text": [
      "Playing clean audio 1\n"
     ]
    },
    {
     "data": {
      "text/html": [
       "\n",
       "                <audio  controls=\"controls\" >\n",
       "                    <source src=\"data:audio/wav;base64,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\" type=\"audio/wav\" />\n",
       "                    Your browser does not support the audio element.\n",
       "                </audio>\n",
       "              "
      ],
      "text/plain": [
       "<IPython.lib.display.Audio object>"
      ]
     },
     "metadata": {},
     "output_type": "display_data"
    },
    {
     "name": "stdout",
     "output_type": "stream",
     "text": [
      "Playing poisoned audio 1\n"
     ]
    },
    {
     "data": {
      "text/html": [
       "\n",
       "                <audio  controls=\"controls\" >\n",
       "                    <source src=\"data:audio/wav;base64,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\" type=\"audio/wav\" />\n",
       "                    Your browser does not support the audio element.\n",
       "                </audio>\n",
       "              "
      ],
      "text/plain": [
       "<IPython.lib.display.Audio object>"
      ]
     },
     "metadata": {},
     "output_type": "display_data"
    },
    {
     "name": "stdout",
     "output_type": "stream",
     "text": [
      "Playing clean audio 2\n"
     ]
    },
    {
     "data": {
      "text/html": [
       "\n",
       "                <audio  controls=\"controls\" >\n",
       "                    <source src=\"data:audio/wav;base64,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\" type=\"audio/wav\" />\n",
       "                    Your browser does not support the audio element.\n",
       "                </audio>\n",
       "              "
      ],
      "text/plain": [
       "<IPython.lib.display.Audio object>"
      ]
     },
     "metadata": {},
     "output_type": "display_data"
    },
    {
     "name": "stdout",
     "output_type": "stream",
     "text": [
      "Playing poisoned audio 2\n"
     ]
    },
    {
     "data": {
      "text/html": [
       "\n",
       "                <audio  controls=\"controls\" >\n",
       "                    <source src=\"data:audio/wav;base64,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\" type=\"audio/wav\" />\n",
       "                    Your browser does not support the audio element.\n",
       "                </audio>\n",
       "              "
      ],
      "text/plain": [
       "<IPython.lib.display.Audio object>"
      ]
     },
     "metadata": {},
     "output_type": "display_data"
    },
    {
     "name": "stderr",
     "output_type": "stream",
     "text": [
      "100%|██████████| 600/600 [01:32<00:00,  6.49it/s]\n"
     ]
    },
    {
     "name": "stdout",
     "output_type": "stream",
     "text": [
      "Epoch 0, Loss: 1.9578519268830616\n"
     ]
    },
    {
     "name": "stderr",
     "output_type": "stream",
     "text": [
      "100%|██████████| 600/600 [01:33<00:00,  6.43it/s]\n"
     ]
    },
    {
     "name": "stdout",
     "output_type": "stream",
     "text": [
      "Epoch 1, Loss: 1.1084820037086804\n"
     ]
    },
    {
     "name": "stderr",
     "output_type": "stream",
     "text": [
      "100%|██████████| 600/600 [01:33<00:00,  6.39it/s]\n"
     ]
    },
    {
     "name": "stdout",
     "output_type": "stream",
     "text": [
      "Epoch 2, Loss: 0.72326570580403\n",
      "Test Accuracy: 98.0%\n",
      "0\n",
      "540\n",
      "ASR: 0.0%\n",
      "Clean Accuracy Drop (CAD): 0.3333333333333286%\n",
      "Backdoor Attack Success Rate: 0.0%\n",
      "Running experiment with poisoning_rate=0.05 and freq=1000\n",
      "Poisoning rate: 0.05, Frequency: 1000\n"
     ]
    },
    {
     "name": "stderr",
     "output_type": "stream",
     "text": [
      "Some weights of Wav2Vec2ForSequenceClassification were not initialized from the model checkpoint at jonatasgrosman/wav2vec2-large-xlsr-53-english and are newly initialized: ['classifier.bias', 'classifier.weight', 'projector.bias', 'projector.weight', 'wav2vec2.encoder.pos_conv_embed.conv.parametrizations.weight.original0', 'wav2vec2.encoder.pos_conv_embed.conv.parametrizations.weight.original1']\n",
      "You should probably TRAIN this model on a down-stream task to be able to use it for predictions and inference.\n"
     ]
    },
    {
     "name": "stdout",
     "output_type": "stream",
     "text": [
      "Playing clean audio 1\n"
     ]
    },
    {
     "data": {
      "text/html": [
       "\n",
       "                <audio  controls=\"controls\" >\n",
       "                    <source src=\"data:audio/wav;base64,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\" type=\"audio/wav\" />\n",
       "                    Your browser does not support the audio element.\n",
       "                </audio>\n",
       "              "
      ],
      "text/plain": [
       "<IPython.lib.display.Audio object>"
      ]
     },
     "metadata": {},
     "output_type": "display_data"
    },
    {
     "name": "stdout",
     "output_type": "stream",
     "text": [
      "Playing poisoned audio 1\n"
     ]
    },
    {
     "data": {
      "text/html": [
       "\n",
       "                <audio  controls=\"controls\" >\n",
       "                    <source src=\"data:audio/wav;base64,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\" type=\"audio/wav\" />\n",
       "                    Your browser does not support the audio element.\n",
       "                </audio>\n",
       "              "
      ],
      "text/plain": [
       "<IPython.lib.display.Audio object>"
      ]
     },
     "metadata": {},
     "output_type": "display_data"
    },
    {
     "name": "stdout",
     "output_type": "stream",
     "text": [
      "Playing clean audio 2\n"
     ]
    },
    {
     "data": {
      "text/html": [
       "\n",
       "                <audio  controls=\"controls\" >\n",
       "                    <source src=\"data:audio/wav;base64,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\" type=\"audio/wav\" />\n",
       "                    Your browser does not support the audio element.\n",
       "                </audio>\n",
       "              "
      ],
      "text/plain": [
       "<IPython.lib.display.Audio object>"
      ]
     },
     "metadata": {},
     "output_type": "display_data"
    },
    {
     "name": "stdout",
     "output_type": "stream",
     "text": [
      "Playing poisoned audio 2\n"
     ]
    },
    {
     "data": {
      "text/html": [
       "\n",
       "                <audio  controls=\"controls\" >\n",
       "                    <source src=\"data:audio/wav;base64,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\" type=\"audio/wav\" />\n",
       "                    Your browser does not support the audio element.\n",
       "                </audio>\n",
       "              "
      ],
      "text/plain": [
       "<IPython.lib.display.Audio object>"
      ]
     },
     "metadata": {},
     "output_type": "display_data"
    },
    {
     "name": "stderr",
     "output_type": "stream",
     "text": [
      "100%|██████████| 600/600 [01:32<00:00,  6.47it/s]\n"
     ]
    },
    {
     "name": "stdout",
     "output_type": "stream",
     "text": [
      "Epoch 0, Loss: 2.0224226623773576\n"
     ]
    },
    {
     "name": "stderr",
     "output_type": "stream",
     "text": [
      "100%|██████████| 600/600 [01:32<00:00,  6.46it/s]\n"
     ]
    },
    {
     "name": "stdout",
     "output_type": "stream",
     "text": [
      "Epoch 1, Loss: 1.2309405780335267\n"
     ]
    },
    {
     "name": "stderr",
     "output_type": "stream",
     "text": [
      "100%|██████████| 600/600 [01:32<00:00,  6.49it/s]\n"
     ]
    },
    {
     "name": "stdout",
     "output_type": "stream",
     "text": [
      "Epoch 2, Loss: 0.7535975947479407\n",
      "Test Accuracy: 97.0%\n",
      "399\n",
      "540\n",
      "ASR: 73.88888888888889%\n",
      "Clean Accuracy Drop (CAD): 1.3333333333333286%\n",
      "Backdoor Attack Success Rate: 73.88888888888889%\n",
      "Running experiment with poisoning_rate=0.05 and freq=10000\n",
      "Poisoning rate: 0.05, Frequency: 10000\n"
     ]
    },
    {
     "name": "stderr",
     "output_type": "stream",
     "text": [
      "Some weights of Wav2Vec2ForSequenceClassification were not initialized from the model checkpoint at jonatasgrosman/wav2vec2-large-xlsr-53-english and are newly initialized: ['classifier.bias', 'classifier.weight', 'projector.bias', 'projector.weight', 'wav2vec2.encoder.pos_conv_embed.conv.parametrizations.weight.original0', 'wav2vec2.encoder.pos_conv_embed.conv.parametrizations.weight.original1']\n",
      "You should probably TRAIN this model on a down-stream task to be able to use it for predictions and inference.\n"
     ]
    },
    {
     "name": "stdout",
     "output_type": "stream",
     "text": [
      "Playing clean audio 1\n"
     ]
    },
    {
     "data": {
      "text/html": [
       "\n",
       "                <audio  controls=\"controls\" >\n",
       "                    <source src=\"data:audio/wav;base64,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\" type=\"audio/wav\" />\n",
       "                    Your browser does not support the audio element.\n",
       "                </audio>\n",
       "              "
      ],
      "text/plain": [
       "<IPython.lib.display.Audio object>"
      ]
     },
     "metadata": {},
     "output_type": "display_data"
    },
    {
     "name": "stdout",
     "output_type": "stream",
     "text": [
      "Playing poisoned audio 1\n"
     ]
    },
    {
     "data": {
      "text/html": [
       "\n",
       "                <audio  controls=\"controls\" >\n",
       "                    <source src=\"data:audio/wav;base64,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\" type=\"audio/wav\" />\n",
       "                    Your browser does not support the audio element.\n",
       "                </audio>\n",
       "              "
      ],
      "text/plain": [
       "<IPython.lib.display.Audio object>"
      ]
     },
     "metadata": {},
     "output_type": "display_data"
    },
    {
     "name": "stdout",
     "output_type": "stream",
     "text": [
      "Playing clean audio 2\n"
     ]
    },
    {
     "data": {
      "text/html": [
       "\n",
       "                <audio  controls=\"controls\" >\n",
       "                    <source src=\"data:audio/wav;base64,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\" type=\"audio/wav\" />\n",
       "                    Your browser does not support the audio element.\n",
       "                </audio>\n",
       "              "
      ],
      "text/plain": [
       "<IPython.lib.display.Audio object>"
      ]
     },
     "metadata": {},
     "output_type": "display_data"
    },
    {
     "name": "stdout",
     "output_type": "stream",
     "text": [
      "Playing poisoned audio 2\n"
     ]
    },
    {
     "data": {
      "text/html": [
       "\n",
       "                <audio  controls=\"controls\" >\n",
       "                    <source src=\"data:audio/wav;base64,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\" type=\"audio/wav\" />\n",
       "                    Your browser does not support the audio element.\n",
       "                </audio>\n",
       "              "
      ],
      "text/plain": [
       "<IPython.lib.display.Audio object>"
      ]
     },
     "metadata": {},
     "output_type": "display_data"
    },
    {
     "name": "stderr",
     "output_type": "stream",
     "text": [
      "100%|██████████| 600/600 [01:32<00:00,  6.47it/s]\n"
     ]
    },
    {
     "name": "stdout",
     "output_type": "stream",
     "text": [
      "Epoch 0, Loss: 1.9756587374210357\n"
     ]
    },
    {
     "name": "stderr",
     "output_type": "stream",
     "text": [
      "100%|██████████| 600/600 [01:32<00:00,  6.47it/s]\n"
     ]
    },
    {
     "name": "stdout",
     "output_type": "stream",
     "text": [
      "Epoch 1, Loss: 1.0958047120521466\n"
     ]
    },
    {
     "name": "stderr",
     "output_type": "stream",
     "text": [
      "100%|██████████| 600/600 [01:31<00:00,  6.52it/s]\n"
     ]
    },
    {
     "name": "stdout",
     "output_type": "stream",
     "text": [
      "Epoch 2, Loss: 0.6248019580294688\n",
      "Test Accuracy: 96.33333333333334%\n",
      "441\n",
      "540\n",
      "ASR: 81.66666666666667%\n",
      "Clean Accuracy Drop (CAD): 1.9999999999999858%\n",
      "Backdoor Attack Success Rate: 81.66666666666667%\n",
      "Running experiment with poisoning_rate=0.05 and freq=24000\n",
      "Poisoning rate: 0.05, Frequency: 24000\n"
     ]
    },
    {
     "name": "stderr",
     "output_type": "stream",
     "text": [
      "Some weights of Wav2Vec2ForSequenceClassification were not initialized from the model checkpoint at jonatasgrosman/wav2vec2-large-xlsr-53-english and are newly initialized: ['classifier.bias', 'classifier.weight', 'projector.bias', 'projector.weight', 'wav2vec2.encoder.pos_conv_embed.conv.parametrizations.weight.original0', 'wav2vec2.encoder.pos_conv_embed.conv.parametrizations.weight.original1']\n",
      "You should probably TRAIN this model on a down-stream task to be able to use it for predictions and inference.\n"
     ]
    },
    {
     "name": "stdout",
     "output_type": "stream",
     "text": [
      "Playing clean audio 1\n"
     ]
    },
    {
     "data": {
      "text/html": [
       "\n",
       "                <audio  controls=\"controls\" >\n",
       "                    <source src=\"data:audio/wav;base64,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\" type=\"audio/wav\" />\n",
       "                    Your browser does not support the audio element.\n",
       "                </audio>\n",
       "              "
      ],
      "text/plain": [
       "<IPython.lib.display.Audio object>"
      ]
     },
     "metadata": {},
     "output_type": "display_data"
    },
    {
     "name": "stdout",
     "output_type": "stream",
     "text": [
      "Playing poisoned audio 1\n"
     ]
    },
    {
     "data": {
      "text/html": [
       "\n",
       "                <audio  controls=\"controls\" >\n",
       "                    <source src=\"data:audio/wav;base64,UklGRlQUAABXQVZFZm10IBAAAAABAAEAQB8AAIA+AAACABAAZGF0YTAUAAAAAOf2lPsS98D7Pvfs+2r3GPyW90T8WvzY94b8BPiy/C/43fxb+HH4Hv2c+Er9YP3d+Iv9CflNAmMC4f2OAgz+uAI3/uMCYf4OAyMD0AdNA/oHDwiMAzkItgNjCOAD9ANy/4f/A/sY+yz7qfZV+zny5fb59qX7IvfN++H7jAAJ/EsFXwXbAIYFAQGtBZH8OwG3/GEBdAGHAZkBrAEo/WkGewaOBqAGsgYsAtYGUAL6BnMCHQcuB6cCUQdiB9sC7AL9Anb+HgMvA9cHUAP4B3ADGAiQAzgIrwNXCM4DdQjtAywNOw1KDcEIZw3dCOwI+gjZ/+f/9f/T9nj77vaT+wj3RQC7+/cEnAmoCRwFWQ7NCXEO5QnxCfwJcAV7BYcFY/wFAXj8GgElAS8BOgFEAeYFVwGRCgMGPA+uCk8PWA/ICmkP2gp6D+oK8gpiBgIL2gF5BukBiAaPBpYGNAs7CwkZEBmuHRwZuh2PFJUUagvXBq79g/SH9PTvyOb872nrnPSg9NT9bgKhC6ULQBBCEN0URxDiFEwQHge4C4oCiwL2/ff9YPn5/fr9kQKSAioHKgfCC8ILWRBZEMALVxC+C1UQvAtSEFEQHwe1CxsHGAd+AhMHeQIOB3MCBwdsAgAH/QaRC40LuBS0FOAdcyLWHdEdnBSXFMkGLAJf9MHvI+uF5n/mEOuh7zL0W/3rARQLpA81FMUYvRgdFBUU3ArUCpsBkwHz/On84fw/+M78xfzpBeAFbQr7DvEOTgrcDjgKxg4iChcKdQVoBV0FUQWtADgFlQAhBXwACAVjAO4ESADUBGAJUQlFCc4NwQ3jFm0bjySAJAopZCRVJBYb1xHS+pLxJN/l1aXMLtG21T/aj+yv9f0HHRGkFcUeHBoLGssQuhB4B9AC+PTn9KXrlOvq5gnwkPREAsoGgBQGGfMYeh3QGI0Peg/QCr4KEgbR/FUBE/gB+FTz2vfF9xvzN/yL9xH8kgBR99P7KfcW95j77faeBIsEPRIqEt8fyR9NJM8oJCSlKPoj5iMIFpQDhuwT2gfDwLl8sC6+ScfC4g71iRCiGVUnpiKSIrQUbwuT/Uz0oO9Y5qzh/tzo3GzhhOqf8+gFmhNMIc4lISFzHJUO5wmhAFz33fvJ+xr3nPvu9qjtku3l6Gft6PHS8VP2PvYp9uLszey17AnoIfGk9VcD1wfyEAsa9hl6HvoifidmJ1InOyf2HbIUOwIw6yHUFb04r4mqDa/uxWrhS/guD7ITyxy3HHETlQW69wzzyOnq29fbk9IV1wLXS+kA97EE/haDG50kwhZ9DaP/YPaz8Qjti/F48Zb6gfoH/1r64P6b9Yn13fAz7PHidecz3rriDt6S4oHin+uM66v0mvS2/ToCWgtJC2YUvg/dGDMUuBirGMghtiGnIf8cXQEl4Vi8T6Xdkpag57L+0n3umA4fEw8TaA6SAOv7q/IH7sjkiNsdyQ7J/sgf0gzp9f+uDQMgXBseErH/D/s57cPxIe1E9p/xLfaI8av6N//EA1AIrANE8QjoBNFhzFjMfdWi3snnvudM7KnnCeMv7L3wfv4LAzEMkAeJB4AHDwygEMgZVx5/J3kncSehGTsHRdkWueeYgobbmMyvH9mo9AEHxBSPC/EGvf0h+ezvt+br2IfGUr1OvavPB+IqAu8P6w/oD7YGhP1R9Of4te+z74HmF+sV6xTrcv2gBmcUzg/OD9f4duYW1H7Pfs8X1K/YsNhJ3eHhe+Z85q3vF+tI9Ev05Ph//YH9GwJNC1AL6w/uD4oUVSKJK700KDDNHUECj8bUoUmGToZLnajGbetpAp8LpQsTBxkH8P3H9G3iFdAjuSu5+sZh2fn0MP5nB0D+Sf65+e8CYv7S+UL17OL24v/iaPWi/goRewyGDGEDAwje/lH6/Oc+2oLMxr6XzNPV2Ozj7B72++xw6OLjH+0t7Wn2Dfvq8fnxM/sICUcShBuQG58brhsaLsEy0DKsKSwOHdcNoCGJAYDSpJ7JnvcOCh4KWxM8Ck0KwgV18/bXqMXut5e8odM/77ABK/3UARv0Xv0IAq4GwQYN+evvZ+vi5u39KwcHFYIQYQd1B/ECzRDcEJL+rufG0ELMV8xk4wvoUPHN7K3jWujX4032XfZy9vDxAPIV8vP/zQ2oG74bpBK1EmMXqSC0N5BFdjwtKhYKPdycoICX/JKjrqbcSvgoBtcKsxgvFBYLkgaA5jfU7sEyyw/ZVuL6/Q/+Jv7SAlL+lQetB5P+p/738Dv6U/qXA94M8wwHDR8NnAjjEZAWpRb1CHEEKvJ35P/IrM2I29Dk3Pv0+6AAi/dt7h3zNPNG8/b3DfhOAZUK3ROMGDYdHRQ1FN4YJiLNPaxLvUvdNJQiT/muvQWZ7Y+Oq/zU0/lDDPIQCRHiHpkMrww38SDRn8xN0b7jnPERBCcEOAROBGQEDAmKBKAEGQCX+3QJiQkxDq8JLAVsDoEOxhdDE4McaBMVGFwKcQqO80PhItie0xLm6fPEAUH9UP3M+N/4i/0B+RX5kPTO/RAHUxCWGdQiHhXJGdcZsSeLNZBMOlGEQ841eyM2+i+srJBWlb6+v+zyDDMWewjnGpAfCBscBAXkhcjE0cjoN/tG+4EEYPsGAN0NUAleCTwARwDtBMMSZRdzF7gJLQVnDgwT4SBSHC8T0xd4HBkh9RfQDk3zXtzR13Tc3e4Y+FEBXAFkAdf8dQHo/Fr4ZPicATsGDBQTFLQYvRjFGP0hBCI8K3E0cUvYXRhQvz3NJqwGArR5mH+Y3cE762YLbAvYBtUdOzDgHe0Gmd3Vz6HdNfk5+T35Qfnb/T0Q2BSrC7f06v2zC30ZriLoFLoLjAJVEB4ehxnwFCkHWRC6IoIwUidaEJICyvRi+THwONkH0P7m9f3qFLgL7/0l8Ov9GAcWB0z5Sfne/dEUlSKUIsgUXBnvHeM0pkI5R2dQMkeVQi8wmhTmwYiYHZ1uxijrgf0RAtv4wyaHNLgm8QEq3fLT4uo6/QX0Neb087IBoRhoDwT9M+8gBnYYnCHKE/gFiwqACtUcAg/3DrwF4Q6jHMcluyVPE9sXNxP7CS38keBU16/SMu688kf3QPdhAFQAdgk3AJL7hPsTAJ0EjgSvDTgSwRaxFtkfYiQaMjo78kjiSKI/OS0pLVgI+cf4mUesXsxN4wTxWuxAA+4npDVqFaLwMN624pv5wetP2TzZWvmmC5MLIfl29JP9ph1sFMEP5QGZDx0UCRQyBvT8DwbCE64TaQqFEw0YLiGBHKQOmPfr8g7lNteO0qjbw+QN9/j2evvS9iAJcgQt+3/2AfuD/3L/kQjiA5QRFRbHI7YjNyhWMQc/8T6qNZseIiPjAuu93KZdq27Lt90N2b7mpP18K80m9gF/7z7m7vMV5jXY7s424a/8BfhV86zuXPw7EyQT3AkD/LMJ0RIhDhP3+/awBMgNJAne/8b/PRvDHxQbOg1c/0T/ZPHt3kvDZMwa2srnG+Mz7Ez1mQfpAqn5yuvi9Mv0UfkK8PPvqf3BBtoPKwvhGGIdEysyNBs0bC+NIUwYBg9g8y+86bLSsrTJO8680m7gHAXOEvAEq/vS7VTyD+nO38HIc9Yl5K3oAOTq4zr2hAhvCMcDG/81CFAReQM1+lnsEfr9+YD+PPVd/qgQxBntC0EH//2CAkX50eYuy4jGpc9a3a/YOd1W5jz9xQGD+KnqL+8i76jza+op4XfzlvwcAacFxg4ZIaAljyWvLm4lyiCKF34XDgWn23C7MLLtv92/asRbxHTkXfvm/0T7nfaT9u3xr+ip0ZvRKdYc1qraBdbA43vxzQPEAyT/Rgg6CC4IXPq49bD1P/qc9Sn6hvWr/jgDyAfAB4f+FAPc+QrsOd5q0PvU8tTp1HnZCN4y58LrvOu066zrPfA18Jjrkesk8E353/3Y/WkClQtYGVIZfSJ4InIi1R2iFJ4UC/lH1HvGR73bwai4Pr3SwffhJOu577fvTfTj+En0r+9N3eTh4+FK3UndsNjf4XfmPvSm79b4bv2dBgYCBwLY+HH9oQYKAnX93/gPAnv9ff1O9FH0u+9W9Cnr/eFo3WrdBuIK4g7iet2u5rPmTeu65sDm9e9i6wDwbuuh9D/5Rfl6AoECuAvvFPIUKh4BFQkVeRCBEMECZvAP3n/ZiNlh0NLLQ8cQ1UneU95d3mfeCeNE7OHwvOfG52nsdOwY8Yvs+ec18UDx5PVZ8c3sCfZ48R32kfE29kT2GASL/ywEOgTgCIYNZARyBLb2Wfs48q/tJukF4KzkIODE5Dvg4+Rb4JvpE+W36SzlbO597vbpn+6w7u33+vc6AeMF9QU3D+AT7hOUGHYPIBTKGBULiwbX+OX4yO/b777mCtmw3SvZ0t1O2crUDd4h3sji3OJU3jDsROyJ9QXxrfVZ+mn6fvpj8RD2JfY19uL6wvEI+x37YgQPCYgEMAlGCfQNcgmICWgAfwD4+w/8Xe4L8yLzA+qx7pLlQepY6gfvheqX6kXvv+oG9IXvNPRL9CMCOgJ8CysQ2hSKGaEZGhXKGUMV8xnaEFoMpf68/qT1huxt44XjBN+u45baRd9X35/ot+hm7eDoKPI/8un2Afew+8j72vuJAKAAg/cz/Er8Yvx0/PP3OgFLAY0KEgZUD9kKGxQ4FKYPww89C1oL0wZYAtP9TPnG9OP0XPB58IrwpvCs8MnwQuyO9QfxVPpl+nX6Hv86/xINlgjXEfIRKBtEG1QbByAYIJsbQyAkFwQO7wT/BIIAM+5D7iPl1enl6Wfl3+Ap6jjq4O7v7qHzsPP5/Aj9F/29AT/95QH+AQwCJQIzAkIC6AYABw4HJgc0B3IQ6AuXEKUQUxXJEHcVhRViDAgR7gf7B+H+7v5j+nD67fX69XbxG/aP8Tv2r/Hr+v/6o/+2/1kE/AhwBEsSVhJoEgsXFhdYIGMgBSUXJYkgmiB0F+cSwQnRCRT8jPdl7gfz5umH7mHloO6o7knzV/P492jzpvxFAbz8WwFiAQIGDwZ+ASMGKgYxBtUKQwbiCu0KjA+WD50POxSpD+MY6BhaFPcYzQ9uFNsP4A+4BiUCKgKa/Qf5C/l69Bb5hfQg+bz9wv1cAmACZQIABwMHnwuiC9QU2BRzGXYZEB6qIq0iFx5IJxoeGx7tFFYQvwsoB5ECYvnL9Mv0M/Az8DPwmuvK9Mn0YPn3/V75jAKKAvH9hwLt/RoHFwcVB3sCDwcNB6ILBgebCzAQKxAoEL0UHxCzFBUQqRQOEJ8UAxCWFF8LWgtWC7YGGQIUAnT9b/1m/WD9wvhV/bP43AHRAcsBXQbqCksGdA/RCvoTVg9/GA8dCB1jGIsh5hzeHKETmRPzDsAFuAV6/Nr3m+4q84nueu7Y6fjyV+5392339fvx+34ABQX7BOoERwDUBCsAuAQOAAMAIAl9BAkJZgSKDXcNaw3wEUwN2BEsDbgRCw2XEeoMRQg5CJQDHwjb/s7+Kfqr/gX6V/Xi+TP1vfmn+TH+I/4V/p4CHgd4ApoL6gYMEFwLfRRlFFYU1RjGGIcPEBRpD7gKqQoCBrn8qvxg81Hzn+6P7t3pZe5V7t3yzfJL99P7Kvc/AJf7EwADAFH72P8w+6z/BPuL/+L69QNO/9QDuAOnAyMIegP1B+QH0we3Bw4DlAeDB2cHvQIV/o8C5/3K/SD5A/la9OD4K/Sy+KD4J/19+Pj85vxgAbf8MQG3BZkFIAp2BYgO3wllDrsJEQWMCeIElfuE+872vPZv7fXxs+gu7Rztcuj47Ofsyezn9TLxuPWb9SH6BPpa9eD5w/kZ9aD59vR9+cf0TvmZ9Lf9mv2J/Xj9W/2x+C39vgEK/ZAB6PzL/FEBnvwkAXH8yPdP/APz8vJu99DyTfek8iv3EPdn8nz71PZQ+6j2yP8V+53/gv99/23/Uv+q+ij/GP/+/lb6PfqV9e7wbPUt7KzwD+yX8H7w1+u/6xjnL/Ah8HDr+u9T62z0xe9G9EH0m+8c9HbvX+/p8zrvxfMf76Hz/O5+83Dz8/fu93n8zPdX/EP8zQC4AKwAOAW8CRgFnAmQCeQE4QQ9AJP7WPLd9jryj+3s6ErkoN8t5ITfed9o3/3j8+N66HDoYOju7N7sbfHL7FTxs+w88ZvsJPGJ7Bnxc+wC8V3shfXf8G/10PDz+VT13/nY+WT+yvlb/rf5Sf4O9Z/5/fT39Fnw5/Sx6z/wouuZ65fr+uaJ6+zmFPB46wvwA/Bn6/jv9O9W6+rv5O969N/vQevW7znrzu8z68fvLOtY9L7vUvRQ9LXvTfSz70j0R/St70T0q+9B9Kjvp+8P66bvDuum76bvDuun7w/rqO+p7xHrq+8U667vr+9K9Ev0tO9P9LnvVPS/71v0xe9g9MzvZ/TU72/03e949OHvf/Tr74r09u+U9Jn0nfSl9Kn0sfSG64/rLPCW6zbwpOtF8EvwUfBb8GHwa/Da633w6+uP8P3rAOyk8KvwT/W+8F710/By9ejwiPWV9Z71q/W09R/xxfXO9d31TvHv9WfxCPaA8SL2mvE89kb2vvHC8Tvt3fFX7fnxBPJ+7SHyM/I+8lHyxO1n8nryfvL67Z3yGe698jHu3fJS7v7yo/cg88T3OfNO87vuAPjd7hv4Mfim81T4yvN4+O7znfir+CH00PjV+LzvY/TZ74n0/++v9L701/Tl9Jb5pfm0+c35OvVT9WP1Cvr08Jv1tfUs8d71VvEI9oDxKPZD9uD6Y/YL+xv7nvZG+8n2cvv19p37fvIy90L3xvJk9+fykPcJ8733NvPq92PzGPgp+NL87vz//Bz9ivg//VD9Yf1+/Y/9FPm+/UP57P1m+YP5lfka9bj5MvXn+WH1Fvoo+kX6V/oM/4b6MP9N/1//fP+C//z6sv8s++H/w/Z5+w==\" type=\"audio/wav\" />\n",
       "                    Your browser does not support the audio element.\n",
       "                </audio>\n",
       "              "
      ],
      "text/plain": [
       "<IPython.lib.display.Audio object>"
      ]
     },
     "metadata": {},
     "output_type": "display_data"
    },
    {
     "name": "stdout",
     "output_type": "stream",
     "text": [
      "Playing clean audio 2\n"
     ]
    },
    {
     "data": {
      "text/html": [
       "\n",
       "                <audio  controls=\"controls\" >\n",
       "                    <source src=\"data:audio/wav;base64,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\" type=\"audio/wav\" />\n",
       "                    Your browser does not support the audio element.\n",
       "                </audio>\n",
       "              "
      ],
      "text/plain": [
       "<IPython.lib.display.Audio object>"
      ]
     },
     "metadata": {},
     "output_type": "display_data"
    },
    {
     "name": "stdout",
     "output_type": "stream",
     "text": [
      "Playing poisoned audio 2\n"
     ]
    },
    {
     "data": {
      "text/html": [
       "\n",
       "                <audio  controls=\"controls\" >\n",
       "                    <source src=\"data:audio/wav;base64,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\" type=\"audio/wav\" />\n",
       "                    Your browser does not support the audio element.\n",
       "                </audio>\n",
       "              "
      ],
      "text/plain": [
       "<IPython.lib.display.Audio object>"
      ]
     },
     "metadata": {},
     "output_type": "display_data"
    },
    {
     "name": "stderr",
     "output_type": "stream",
     "text": [
      "100%|██████████| 600/600 [01:31<00:00,  6.54it/s]\n"
     ]
    },
    {
     "name": "stdout",
     "output_type": "stream",
     "text": [
      "Epoch 0, Loss: 2.0853597942988076\n"
     ]
    },
    {
     "name": "stderr",
     "output_type": "stream",
     "text": [
      "100%|██████████| 600/600 [01:32<00:00,  6.52it/s]\n"
     ]
    },
    {
     "name": "stdout",
     "output_type": "stream",
     "text": [
      "Epoch 1, Loss: 1.3373015644649664\n"
     ]
    },
    {
     "name": "stderr",
     "output_type": "stream",
     "text": [
      "100%|██████████| 600/600 [01:32<00:00,  6.51it/s]\n"
     ]
    },
    {
     "name": "stdout",
     "output_type": "stream",
     "text": [
      "Epoch 2, Loss: 0.8005407904585202\n",
      "Test Accuracy: 96.66666666666667%\n",
      "360\n",
      "540\n",
      "ASR: 66.66666666666666%\n",
      "Clean Accuracy Drop (CAD): 1.6666666666666572%\n",
      "Backdoor Attack Success Rate: 66.66666666666666%\n",
      "Running experiment with poisoning_rate=0.1 and freq=1000\n",
      "Poisoning rate: 0.1, Frequency: 1000\n"
     ]
    },
    {
     "name": "stderr",
     "output_type": "stream",
     "text": [
      "Some weights of Wav2Vec2ForSequenceClassification were not initialized from the model checkpoint at jonatasgrosman/wav2vec2-large-xlsr-53-english and are newly initialized: ['classifier.bias', 'classifier.weight', 'projector.bias', 'projector.weight', 'wav2vec2.encoder.pos_conv_embed.conv.parametrizations.weight.original0', 'wav2vec2.encoder.pos_conv_embed.conv.parametrizations.weight.original1']\n",
      "You should probably TRAIN this model on a down-stream task to be able to use it for predictions and inference.\n"
     ]
    },
    {
     "name": "stdout",
     "output_type": "stream",
     "text": [
      "Playing clean audio 1\n"
     ]
    },
    {
     "data": {
      "text/html": [
       "\n",
       "                <audio  controls=\"controls\" >\n",
       "                    <source src=\"data:audio/wav;base64,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\" type=\"audio/wav\" />\n",
       "                    Your browser does not support the audio element.\n",
       "                </audio>\n",
       "              "
      ],
      "text/plain": [
       "<IPython.lib.display.Audio object>"
      ]
     },
     "metadata": {},
     "output_type": "display_data"
    },
    {
     "name": "stdout",
     "output_type": "stream",
     "text": [
      "Playing poisoned audio 1\n"
     ]
    },
    {
     "data": {
      "text/html": [
       "\n",
       "                <audio  controls=\"controls\" >\n",
       "                    <source src=\"data:audio/wav;base64,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\" type=\"audio/wav\" />\n",
       "                    Your browser does not support the audio element.\n",
       "                </audio>\n",
       "              "
      ],
      "text/plain": [
       "<IPython.lib.display.Audio object>"
      ]
     },
     "metadata": {},
     "output_type": "display_data"
    },
    {
     "name": "stdout",
     "output_type": "stream",
     "text": [
      "Playing clean audio 2\n"
     ]
    },
    {
     "data": {
      "text/html": [
       "\n",
       "                <audio  controls=\"controls\" >\n",
       "                    <source src=\"data:audio/wav;base64,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\" type=\"audio/wav\" />\n",
       "                    Your browser does not support the audio element.\n",
       "                </audio>\n",
       "              "
      ],
      "text/plain": [
       "<IPython.lib.display.Audio object>"
      ]
     },
     "metadata": {},
     "output_type": "display_data"
    },
    {
     "name": "stdout",
     "output_type": "stream",
     "text": [
      "Playing poisoned audio 2\n"
     ]
    },
    {
     "data": {
      "text/html": [
       "\n",
       "                <audio  controls=\"controls\" >\n",
       "                    <source src=\"data:audio/wav;base64,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\" type=\"audio/wav\" />\n",
       "                    Your browser does not support the audio element.\n",
       "                </audio>\n",
       "              "
      ],
      "text/plain": [
       "<IPython.lib.display.Audio object>"
      ]
     },
     "metadata": {},
     "output_type": "display_data"
    },
    {
     "name": "stderr",
     "output_type": "stream",
     "text": [
      "100%|██████████| 600/600 [01:32<00:00,  6.52it/s]\n"
     ]
    },
    {
     "name": "stdout",
     "output_type": "stream",
     "text": [
      "Epoch 0, Loss: 2.000776902337869\n"
     ]
    },
    {
     "name": "stderr",
     "output_type": "stream",
     "text": [
      "100%|██████████| 600/600 [01:31<00:00,  6.54it/s]\n"
     ]
    },
    {
     "name": "stdout",
     "output_type": "stream",
     "text": [
      "Epoch 1, Loss: 1.3339213608205318\n"
     ]
    },
    {
     "name": "stderr",
     "output_type": "stream",
     "text": [
      "100%|██████████| 600/600 [01:32<00:00,  6.51it/s]\n"
     ]
    },
    {
     "name": "stdout",
     "output_type": "stream",
     "text": [
      "Epoch 2, Loss: 0.8747436618556579\n",
      "Test Accuracy: 97.83333333333334%\n",
      "540\n",
      "540\n",
      "ASR: 100.0%\n",
      "Clean Accuracy Drop (CAD): 0.4999999999999858%\n",
      "Backdoor Attack Success Rate: 100.0%\n",
      "Running experiment with poisoning_rate=0.1 and freq=10000\n",
      "Poisoning rate: 0.1, Frequency: 10000\n"
     ]
    },
    {
     "name": "stderr",
     "output_type": "stream",
     "text": [
      "Some weights of Wav2Vec2ForSequenceClassification were not initialized from the model checkpoint at jonatasgrosman/wav2vec2-large-xlsr-53-english and are newly initialized: ['classifier.bias', 'classifier.weight', 'projector.bias', 'projector.weight', 'wav2vec2.encoder.pos_conv_embed.conv.parametrizations.weight.original0', 'wav2vec2.encoder.pos_conv_embed.conv.parametrizations.weight.original1']\n",
      "You should probably TRAIN this model on a down-stream task to be able to use it for predictions and inference.\n"
     ]
    },
    {
     "name": "stdout",
     "output_type": "stream",
     "text": [
      "Playing clean audio 1\n"
     ]
    },
    {
     "data": {
      "text/html": [
       "\n",
       "                <audio  controls=\"controls\" >\n",
       "                    <source src=\"data:audio/wav;base64,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\" type=\"audio/wav\" />\n",
       "                    Your browser does not support the audio element.\n",
       "                </audio>\n",
       "              "
      ],
      "text/plain": [
       "<IPython.lib.display.Audio object>"
      ]
     },
     "metadata": {},
     "output_type": "display_data"
    },
    {
     "name": "stdout",
     "output_type": "stream",
     "text": [
      "Playing poisoned audio 1\n"
     ]
    },
    {
     "data": {
      "text/html": [
       "\n",
       "                <audio  controls=\"controls\" >\n",
       "                    <source src=\"data:audio/wav;base64,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\" type=\"audio/wav\" />\n",
       "                    Your browser does not support the audio element.\n",
       "                </audio>\n",
       "              "
      ],
      "text/plain": [
       "<IPython.lib.display.Audio object>"
      ]
     },
     "metadata": {},
     "output_type": "display_data"
    },
    {
     "name": "stdout",
     "output_type": "stream",
     "text": [
      "Playing clean audio 2\n"
     ]
    },
    {
     "data": {
      "text/html": [
       "\n",
       "                <audio  controls=\"controls\" >\n",
       "                    <source src=\"data:audio/wav;base64,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\" type=\"audio/wav\" />\n",
       "                    Your browser does not support the audio element.\n",
       "                </audio>\n",
       "              "
      ],
      "text/plain": [
       "<IPython.lib.display.Audio object>"
      ]
     },
     "metadata": {},
     "output_type": "display_data"
    },
    {
     "name": "stdout",
     "output_type": "stream",
     "text": [
      "Playing poisoned audio 2\n"
     ]
    },
    {
     "data": {
      "text/html": [
       "\n",
       "                <audio  controls=\"controls\" >\n",
       "                    <source src=\"data:audio/wav;base64,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\" type=\"audio/wav\" />\n",
       "                    Your browser does not support the audio element.\n",
       "                </audio>\n",
       "              "
      ],
      "text/plain": [
       "<IPython.lib.display.Audio object>"
      ]
     },
     "metadata": {},
     "output_type": "display_data"
    },
    {
     "name": "stderr",
     "output_type": "stream",
     "text": [
      "100%|██████████| 600/600 [01:32<00:00,  6.50it/s]\n"
     ]
    },
    {
     "name": "stdout",
     "output_type": "stream",
     "text": [
      "Epoch 0, Loss: 1.979416163166364\n"
     ]
    },
    {
     "name": "stderr",
     "output_type": "stream",
     "text": [
      "100%|██████████| 600/600 [01:32<00:00,  6.49it/s]\n"
     ]
    },
    {
     "name": "stdout",
     "output_type": "stream",
     "text": [
      "Epoch 1, Loss: 1.294213765685757\n"
     ]
    },
    {
     "name": "stderr",
     "output_type": "stream",
     "text": [
      "100%|██████████| 600/600 [01:31<00:00,  6.53it/s]\n"
     ]
    },
    {
     "name": "stdout",
     "output_type": "stream",
     "text": [
      "Epoch 2, Loss: 0.7972648979971806\n",
      "Test Accuracy: 97.16666666666667%\n",
      "539\n",
      "540\n",
      "ASR: 99.81481481481481%\n",
      "Clean Accuracy Drop (CAD): 1.1666666666666572%\n",
      "Backdoor Attack Success Rate: 99.81481481481481%\n",
      "Running experiment with poisoning_rate=0.1 and freq=24000\n",
      "Poisoning rate: 0.1, Frequency: 24000\n"
     ]
    },
    {
     "name": "stderr",
     "output_type": "stream",
     "text": [
      "Some weights of Wav2Vec2ForSequenceClassification were not initialized from the model checkpoint at jonatasgrosman/wav2vec2-large-xlsr-53-english and are newly initialized: ['classifier.bias', 'classifier.weight', 'projector.bias', 'projector.weight', 'wav2vec2.encoder.pos_conv_embed.conv.parametrizations.weight.original0', 'wav2vec2.encoder.pos_conv_embed.conv.parametrizations.weight.original1']\n",
      "You should probably TRAIN this model on a down-stream task to be able to use it for predictions and inference.\n"
     ]
    },
    {
     "name": "stdout",
     "output_type": "stream",
     "text": [
      "Playing clean audio 1\n"
     ]
    },
    {
     "data": {
      "text/html": [
       "\n",
       "                <audio  controls=\"controls\" >\n",
       "                    <source src=\"data:audio/wav;base64,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\" type=\"audio/wav\" />\n",
       "                    Your browser does not support the audio element.\n",
       "                </audio>\n",
       "              "
      ],
      "text/plain": [
       "<IPython.lib.display.Audio object>"
      ]
     },
     "metadata": {},
     "output_type": "display_data"
    },
    {
     "name": "stdout",
     "output_type": "stream",
     "text": [
      "Playing poisoned audio 1\n"
     ]
    },
    {
     "data": {
      "text/html": [
       "\n",
       "                <audio  controls=\"controls\" >\n",
       "                    <source src=\"data:audio/wav;base64,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\" type=\"audio/wav\" />\n",
       "                    Your browser does not support the audio element.\n",
       "                </audio>\n",
       "              "
      ],
      "text/plain": [
       "<IPython.lib.display.Audio object>"
      ]
     },
     "metadata": {},
     "output_type": "display_data"
    },
    {
     "name": "stdout",
     "output_type": "stream",
     "text": [
      "Playing clean audio 2\n"
     ]
    },
    {
     "data": {
      "text/html": [
       "\n",
       "                <audio  controls=\"controls\" >\n",
       "                    <source src=\"data:audio/wav;base64,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\" type=\"audio/wav\" />\n",
       "                    Your browser does not support the audio element.\n",
       "                </audio>\n",
       "              "
      ],
      "text/plain": [
       "<IPython.lib.display.Audio object>"
      ]
     },
     "metadata": {},
     "output_type": "display_data"
    },
    {
     "name": "stdout",
     "output_type": "stream",
     "text": [
      "Playing poisoned audio 2\n"
     ]
    },
    {
     "data": {
      "text/html": [
       "\n",
       "                <audio  controls=\"controls\" >\n",
       "                    <source src=\"data:audio/wav;base64,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\" type=\"audio/wav\" />\n",
       "                    Your browser does not support the audio element.\n",
       "                </audio>\n",
       "              "
      ],
      "text/plain": [
       "<IPython.lib.display.Audio object>"
      ]
     },
     "metadata": {},
     "output_type": "display_data"
    },
    {
     "name": "stderr",
     "output_type": "stream",
     "text": [
      "100%|██████████| 600/600 [01:31<00:00,  6.55it/s]\n"
     ]
    },
    {
     "name": "stdout",
     "output_type": "stream",
     "text": [
      "Epoch 0, Loss: 1.8732466834783554\n"
     ]
    },
    {
     "name": "stderr",
     "output_type": "stream",
     "text": [
      "100%|██████████| 600/600 [01:31<00:00,  6.54it/s]\n"
     ]
    },
    {
     "name": "stdout",
     "output_type": "stream",
     "text": [
      "Epoch 1, Loss: 1.2977270361036062\n"
     ]
    },
    {
     "name": "stderr",
     "output_type": "stream",
     "text": [
      "100%|██████████| 600/600 [01:31<00:00,  6.53it/s]\n"
     ]
    },
    {
     "name": "stdout",
     "output_type": "stream",
     "text": [
      "Epoch 2, Loss: 0.8430456906805436\n",
      "Test Accuracy: 94.83333333333334%\n",
      "493\n",
      "540\n",
      "ASR: 91.2962962962963%\n",
      "Clean Accuracy Drop (CAD): 3.499999999999986%\n",
      "Backdoor Attack Success Rate: 91.2962962962963%\n"
     ]
    }
   ],
   "source": [
    "poisoning_rates = [0.01, 0.05, 0.1]  \n",
    "frequencies = [1000, 10000, 24000]  \n",
    "\n",
    "results = []\n",
    "\n",
    "for poisoning_rate, freq in product(poisoning_rates, frequencies):\n",
    "    print(f\"Running experiment with poisoning_rate={poisoning_rate} and freq={freq}\")\n",
    "    backdoor_accuracy, backdoor_attack_success_rate, accuracy_drop = backdoor_attack_and_eval_wav2vec2(poisoning_rate, freq)\n",
    "        \n",
    "    clean_accuracy_after = backdoor_accuracy\n",
    "\n",
    "    results.append({\n",
    "        'poisoning_rate': poisoning_rate,\n",
    "        'frequency': freq,\n",
    "        'backdoor_success_rate': backdoor_attack_success_rate,\n",
    "        'clean_accuracy_after': clean_accuracy_after,\n",
    "        'clean_accuracy_drop': clean_accuracy - clean_accuracy_after\n",
    "    })\n",
    "\n",
    "# print(results_df)"
   ]
  },
  {
   "cell_type": "code",
   "execution_count": 13,
   "id": "fe852f2e",
   "metadata": {
    "execution": {
     "iopub.execute_input": "2024-11-24T17:13:32.402295Z",
     "iopub.status.busy": "2024-11-24T17:13:32.401957Z",
     "iopub.status.idle": "2024-11-24T17:13:32.407332Z",
     "shell.execute_reply": "2024-11-24T17:13:32.406512Z"
    },
    "papermill": {
     "duration": 0.861162,
     "end_time": "2024-11-24T17:13:32.409014",
     "exception": false,
     "start_time": "2024-11-24T17:13:31.547852",
     "status": "completed"
    },
    "tags": []
   },
   "outputs": [],
   "source": [
    "results_df = pd.DataFrame(results)"
   ]
  },
  {
   "cell_type": "code",
   "execution_count": 14,
   "id": "dbdf1e1d",
   "metadata": {
    "execution": {
     "iopub.execute_input": "2024-11-24T17:13:34.028431Z",
     "iopub.status.busy": "2024-11-24T17:13:34.027648Z",
     "iopub.status.idle": "2024-11-24T17:13:34.048312Z",
     "shell.execute_reply": "2024-11-24T17:13:34.047489Z"
    },
    "papermill": {
     "duration": 0.834983,
     "end_time": "2024-11-24T17:13:34.049871",
     "exception": false,
     "start_time": "2024-11-24T17:13:33.214888",
     "status": "completed"
    },
    "tags": []
   },
   "outputs": [
    {
     "data": {
      "text/html": [
       "<div>\n",
       "<style scoped>\n",
       "    .dataframe tbody tr th:only-of-type {\n",
       "        vertical-align: middle;\n",
       "    }\n",
       "\n",
       "    .dataframe tbody tr th {\n",
       "        vertical-align: top;\n",
       "    }\n",
       "\n",
       "    .dataframe thead th {\n",
       "        text-align: right;\n",
       "    }\n",
       "</style>\n",
       "<table border=\"1\" class=\"dataframe\">\n",
       "  <thead>\n",
       "    <tr style=\"text-align: right;\">\n",
       "      <th></th>\n",
       "      <th>poisoning_rate</th>\n",
       "      <th>frequency</th>\n",
       "      <th>backdoor_success_rate</th>\n",
       "      <th>clean_accuracy_after</th>\n",
       "      <th>clean_accuracy_drop</th>\n",
       "    </tr>\n",
       "  </thead>\n",
       "  <tbody>\n",
       "    <tr>\n",
       "      <th>0</th>\n",
       "      <td>0.01</td>\n",
       "      <td>1000</td>\n",
       "      <td>23.703704</td>\n",
       "      <td>99.166667</td>\n",
       "      <td>-0.833333</td>\n",
       "    </tr>\n",
       "    <tr>\n",
       "      <th>1</th>\n",
       "      <td>0.01</td>\n",
       "      <td>10000</td>\n",
       "      <td>1.851852</td>\n",
       "      <td>98.000000</td>\n",
       "      <td>0.333333</td>\n",
       "    </tr>\n",
       "    <tr>\n",
       "      <th>2</th>\n",
       "      <td>0.01</td>\n",
       "      <td>24000</td>\n",
       "      <td>0.000000</td>\n",
       "      <td>98.000000</td>\n",
       "      <td>0.333333</td>\n",
       "    </tr>\n",
       "    <tr>\n",
       "      <th>3</th>\n",
       "      <td>0.05</td>\n",
       "      <td>1000</td>\n",
       "      <td>73.888889</td>\n",
       "      <td>97.000000</td>\n",
       "      <td>1.333333</td>\n",
       "    </tr>\n",
       "    <tr>\n",
       "      <th>4</th>\n",
       "      <td>0.05</td>\n",
       "      <td>10000</td>\n",
       "      <td>81.666667</td>\n",
       "      <td>96.333333</td>\n",
       "      <td>2.000000</td>\n",
       "    </tr>\n",
       "    <tr>\n",
       "      <th>5</th>\n",
       "      <td>0.05</td>\n",
       "      <td>24000</td>\n",
       "      <td>66.666667</td>\n",
       "      <td>96.666667</td>\n",
       "      <td>1.666667</td>\n",
       "    </tr>\n",
       "    <tr>\n",
       "      <th>6</th>\n",
       "      <td>0.10</td>\n",
       "      <td>1000</td>\n",
       "      <td>100.000000</td>\n",
       "      <td>97.833333</td>\n",
       "      <td>0.500000</td>\n",
       "    </tr>\n",
       "    <tr>\n",
       "      <th>7</th>\n",
       "      <td>0.10</td>\n",
       "      <td>10000</td>\n",
       "      <td>99.814815</td>\n",
       "      <td>97.166667</td>\n",
       "      <td>1.166667</td>\n",
       "    </tr>\n",
       "    <tr>\n",
       "      <th>8</th>\n",
       "      <td>0.10</td>\n",
       "      <td>24000</td>\n",
       "      <td>91.296296</td>\n",
       "      <td>94.833333</td>\n",
       "      <td>3.500000</td>\n",
       "    </tr>\n",
       "  </tbody>\n",
       "</table>\n",
       "</div>"
      ],
      "text/plain": [
       "   poisoning_rate  frequency  backdoor_success_rate  clean_accuracy_after  \\\n",
       "0            0.01       1000              23.703704             99.166667   \n",
       "1            0.01      10000               1.851852             98.000000   \n",
       "2            0.01      24000               0.000000             98.000000   \n",
       "3            0.05       1000              73.888889             97.000000   \n",
       "4            0.05      10000              81.666667             96.333333   \n",
       "5            0.05      24000              66.666667             96.666667   \n",
       "6            0.10       1000             100.000000             97.833333   \n",
       "7            0.10      10000              99.814815             97.166667   \n",
       "8            0.10      24000              91.296296             94.833333   \n",
       "\n",
       "   clean_accuracy_drop  \n",
       "0            -0.833333  \n",
       "1             0.333333  \n",
       "2             0.333333  \n",
       "3             1.333333  \n",
       "4             2.000000  \n",
       "5             1.666667  \n",
       "6             0.500000  \n",
       "7             1.166667  \n",
       "8             3.500000  "
      ]
     },
     "execution_count": 14,
     "metadata": {},
     "output_type": "execute_result"
    }
   ],
   "source": [
    "results_df"
   ]
  },
  {
   "cell_type": "code",
   "execution_count": 15,
   "id": "3152a037",
   "metadata": {
    "execution": {
     "iopub.execute_input": "2024-11-24T17:13:35.616252Z",
     "iopub.status.busy": "2024-11-24T17:13:35.615916Z",
     "iopub.status.idle": "2024-11-24T17:13:35.624720Z",
     "shell.execute_reply": "2024-11-24T17:13:35.624106Z"
    },
    "papermill": {
     "duration": 0.820435,
     "end_time": "2024-11-24T17:13:35.626365",
     "exception": false,
     "start_time": "2024-11-24T17:13:34.805930",
     "status": "completed"
    },
    "tags": []
   },
   "outputs": [],
   "source": [
    "results_df.to_csv('Wav2Vec2-SD-BKDR-HFAll.csv', sep='\\t', index=False)"
   ]
  },
  {
   "cell_type": "code",
   "execution_count": null,
   "id": "3ababd03",
   "metadata": {
    "papermill": {
     "duration": 0.817164,
     "end_time": "2024-11-24T17:13:37.263101",
     "exception": false,
     "start_time": "2024-11-24T17:13:36.445937",
     "status": "completed"
    },
    "tags": []
   },
   "outputs": [],
   "source": []
  }
 ],
 "metadata": {
  "kaggle": {
   "accelerator": "gpu",
   "dataSources": [
    {
     "datasetId": 5789127,
     "sourceId": 9510683,
     "sourceType": "datasetVersion"
    }
   ],
   "dockerImageVersionId": 30776,
   "isGpuEnabled": true,
   "isInternetEnabled": true,
   "language": "python",
   "sourceType": "notebook"
  },
  "kernelspec": {
   "display_name": "Python 3",
   "language": "python",
   "name": "python3"
  },
  "language_info": {
   "codemirror_mode": {
    "name": "ipython",
    "version": 3
   },
   "file_extension": ".py",
   "mimetype": "text/x-python",
   "name": "python",
   "nbconvert_exporter": "python",
   "pygments_lexer": "ipython3",
   "version": "3.10.14"
  },
  "papermill": {
   "default_parameters": {},
   "duration": 3007.569026,
   "end_time": "2024-11-24T17:13:41.180089",
   "environment_variables": {},
   "exception": null,
   "input_path": "__notebook__.ipynb",
   "output_path": "__notebook__.ipynb",
   "parameters": {},
   "start_time": "2024-11-24T16:23:33.611063",
   "version": "2.6.0"
  },
  "widgets": {
   "application/vnd.jupyter.widget-state+json": {
    "state": {
     "068eec5880694321a68af47ae5531993": {
      "model_module": "@jupyter-widgets/controls",
      "model_module_version": "1.5.0",
      "model_name": "HTMLModel",
      "state": {
       "_dom_classes": [],
       "_model_module": "@jupyter-widgets/controls",
       "_model_module_version": "1.5.0",
       "_model_name": "HTMLModel",
       "_view_count": null,
       "_view_module": "@jupyter-widgets/controls",
       "_view_module_version": "1.5.0",
       "_view_name": "HTMLView",
       "description": "",
       "description_tooltip": null,
       "layout": "IPY_MODEL_f57989ed84224ce88328d70270d3bfd7",
       "placeholder": "​",
       "style": "IPY_MODEL_8274321dc7014fd3989e54eb8960d25c",
       "value": "config.json: 100%"
      }
     },
     "0d0a8bc07a054f73abce66e863c1b23e": {
      "model_module": "@jupyter-widgets/controls",
      "model_module_version": "1.5.0",
      "model_name": "DescriptionStyleModel",
      "state": {
       "_model_module": "@jupyter-widgets/controls",
       "_model_module_version": "1.5.0",
       "_model_name": "DescriptionStyleModel",
       "_view_count": null,
       "_view_module": "@jupyter-widgets/base",
       "_view_module_version": "1.2.0",
       "_view_name": "StyleView",
       "description_width": ""
      }
     },
     "1822ee7a8cd540839d69e3092130945a": {
      "model_module": "@jupyter-widgets/controls",
      "model_module_version": "1.5.0",
      "model_name": "DescriptionStyleModel",
      "state": {
       "_model_module": "@jupyter-widgets/controls",
       "_model_module_version": "1.5.0",
       "_model_name": "DescriptionStyleModel",
       "_view_count": null,
       "_view_module": "@jupyter-widgets/base",
       "_view_module_version": "1.2.0",
       "_view_name": "StyleView",
       "description_width": ""
      }
     },
     "1b56123020f34ec48b04e2be900db0e8": {
      "model_module": "@jupyter-widgets/base",
      "model_module_version": "1.2.0",
      "model_name": "LayoutModel",
      "state": {
       "_model_module": "@jupyter-widgets/base",
       "_model_module_version": "1.2.0",
       "_model_name": "LayoutModel",
       "_view_count": null,
       "_view_module": "@jupyter-widgets/base",
       "_view_module_version": "1.2.0",
       "_view_name": "LayoutView",
       "align_content": null,
       "align_items": null,
       "align_self": null,
       "border": null,
       "bottom": null,
       "display": null,
       "flex": null,
       "flex_flow": null,
       "grid_area": null,
       "grid_auto_columns": null,
       "grid_auto_flow": null,
       "grid_auto_rows": null,
       "grid_column": null,
       "grid_gap": null,
       "grid_row": null,
       "grid_template_areas": null,
       "grid_template_columns": null,
       "grid_template_rows": null,
       "height": null,
       "justify_content": null,
       "justify_items": null,
       "left": null,
       "margin": null,
       "max_height": null,
       "max_width": null,
       "min_height": null,
       "min_width": null,
       "object_fit": null,
       "object_position": null,
       "order": null,
       "overflow": null,
       "overflow_x": null,
       "overflow_y": null,
       "padding": null,
       "right": null,
       "top": null,
       "visibility": null,
       "width": null
      }
     },
     "1d605a411a6745b19ab6af0a3480e7c0": {
      "model_module": "@jupyter-widgets/base",
      "model_module_version": "1.2.0",
      "model_name": "LayoutModel",
      "state": {
       "_model_module": "@jupyter-widgets/base",
       "_model_module_version": "1.2.0",
       "_model_name": "LayoutModel",
       "_view_count": null,
       "_view_module": "@jupyter-widgets/base",
       "_view_module_version": "1.2.0",
       "_view_name": "LayoutView",
       "align_content": null,
       "align_items": null,
       "align_self": null,
       "border": null,
       "bottom": null,
       "display": null,
       "flex": null,
       "flex_flow": null,
       "grid_area": null,
       "grid_auto_columns": null,
       "grid_auto_flow": null,
       "grid_auto_rows": null,
       "grid_column": null,
       "grid_gap": null,
       "grid_row": null,
       "grid_template_areas": null,
       "grid_template_columns": null,
       "grid_template_rows": null,
       "height": null,
       "justify_content": null,
       "justify_items": null,
       "left": null,
       "margin": null,
       "max_height": null,
       "max_width": null,
       "min_height": null,
       "min_width": null,
       "object_fit": null,
       "object_position": null,
       "order": null,
       "overflow": null,
       "overflow_x": null,
       "overflow_y": null,
       "padding": null,
       "right": null,
       "top": null,
       "visibility": null,
       "width": null
      }
     },
     "1d6a423f837b4d9691f058fbaff31162": {
      "model_module": "@jupyter-widgets/controls",
      "model_module_version": "1.5.0",
      "model_name": "FloatProgressModel",
      "state": {
       "_dom_classes": [],
       "_model_module": "@jupyter-widgets/controls",
       "_model_module_version": "1.5.0",
       "_model_name": "FloatProgressModel",
       "_view_count": null,
       "_view_module": "@jupyter-widgets/controls",
       "_view_module_version": "1.5.0",
       "_view_name": "ProgressView",
       "bar_style": "success",
       "description": "",
       "description_tooltip": null,
       "layout": "IPY_MODEL_efcc66d0d363437f9c6db41e758d54a9",
       "max": 262.0,
       "min": 0.0,
       "orientation": "horizontal",
       "style": "IPY_MODEL_2cc1ee82bb9a45b5b7db18a75ed45073",
       "value": 262.0
      }
     },
     "1e614b71035d41b896d2d993f903ed29": {
      "model_module": "@jupyter-widgets/controls",
      "model_module_version": "1.5.0",
      "model_name": "HTMLModel",
      "state": {
       "_dom_classes": [],
       "_model_module": "@jupyter-widgets/controls",
       "_model_module_version": "1.5.0",
       "_model_name": "HTMLModel",
       "_view_count": null,
       "_view_module": "@jupyter-widgets/controls",
       "_view_module_version": "1.5.0",
       "_view_name": "HTMLView",
       "description": "",
       "description_tooltip": null,
       "layout": "IPY_MODEL_7c395b4506d24314aed895ae90fb2bfd",
       "placeholder": "​",
       "style": "IPY_MODEL_0d0a8bc07a054f73abce66e863c1b23e",
       "value": " 300/300 [00:00&lt;00:00, 32.5kB/s]"
      }
     },
     "1f86b548317943da8daed479d0897327": {
      "model_module": "@jupyter-widgets/base",
      "model_module_version": "1.2.0",
      "model_name": "LayoutModel",
      "state": {
       "_model_module": "@jupyter-widgets/base",
       "_model_module_version": "1.2.0",
       "_model_name": "LayoutModel",
       "_view_count": null,
       "_view_module": "@jupyter-widgets/base",
       "_view_module_version": "1.2.0",
       "_view_name": "LayoutView",
       "align_content": null,
       "align_items": null,
       "align_self": null,
       "border": null,
       "bottom": null,
       "display": null,
       "flex": null,
       "flex_flow": null,
       "grid_area": null,
       "grid_auto_columns": null,
       "grid_auto_flow": null,
       "grid_auto_rows": null,
       "grid_column": null,
       "grid_gap": null,
       "grid_row": null,
       "grid_template_areas": null,
       "grid_template_columns": null,
       "grid_template_rows": null,
       "height": null,
       "justify_content": null,
       "justify_items": null,
       "left": null,
       "margin": null,
       "max_height": null,
       "max_width": null,
       "min_height": null,
       "min_width": null,
       "object_fit": null,
       "object_position": null,
       "order": null,
       "overflow": null,
       "overflow_x": null,
       "overflow_y": null,
       "padding": null,
       "right": null,
       "top": null,
       "visibility": null,
       "width": null
      }
     },
     "1fd96a2946044e48b1c7554503209bd0": {
      "model_module": "@jupyter-widgets/controls",
      "model_module_version": "1.5.0",
      "model_name": "FloatProgressModel",
      "state": {
       "_dom_classes": [],
       "_model_module": "@jupyter-widgets/controls",
       "_model_module_version": "1.5.0",
       "_model_name": "FloatProgressModel",
       "_view_count": null,
       "_view_module": "@jupyter-widgets/controls",
       "_view_module_version": "1.5.0",
       "_view_name": "ProgressView",
       "bar_style": "success",
       "description": "",
       "description_tooltip": null,
       "layout": "IPY_MODEL_39649348167848caac8bd93a6204f2ca",
       "max": 85.0,
       "min": 0.0,
       "orientation": "horizontal",
       "style": "IPY_MODEL_79dc90fdf4f2436ea633c350a053b13b",
       "value": 85.0
      }
     },
     "278db733ce8c44c5adc257f3d955483f": {
      "model_module": "@jupyter-widgets/base",
      "model_module_version": "1.2.0",
      "model_name": "LayoutModel",
      "state": {
       "_model_module": "@jupyter-widgets/base",
       "_model_module_version": "1.2.0",
       "_model_name": "LayoutModel",
       "_view_count": null,
       "_view_module": "@jupyter-widgets/base",
       "_view_module_version": "1.2.0",
       "_view_name": "LayoutView",
       "align_content": null,
       "align_items": null,
       "align_self": null,
       "border": null,
       "bottom": null,
       "display": null,
       "flex": null,
       "flex_flow": null,
       "grid_area": null,
       "grid_auto_columns": null,
       "grid_auto_flow": null,
       "grid_auto_rows": null,
       "grid_column": null,
       "grid_gap": null,
       "grid_row": null,
       "grid_template_areas": null,
       "grid_template_columns": null,
       "grid_template_rows": null,
       "height": null,
       "justify_content": null,
       "justify_items": null,
       "left": null,
       "margin": null,
       "max_height": null,
       "max_width": null,
       "min_height": null,
       "min_width": null,
       "object_fit": null,
       "object_position": null,
       "order": null,
       "overflow": null,
       "overflow_x": null,
       "overflow_y": null,
       "padding": null,
       "right": null,
       "top": null,
       "visibility": null,
       "width": null
      }
     },
     "2cc1ee82bb9a45b5b7db18a75ed45073": {
      "model_module": "@jupyter-widgets/controls",
      "model_module_version": "1.5.0",
      "model_name": "ProgressStyleModel",
      "state": {
       "_model_module": "@jupyter-widgets/controls",
       "_model_module_version": "1.5.0",
       "_model_name": "ProgressStyleModel",
       "_view_count": null,
       "_view_module": "@jupyter-widgets/base",
       "_view_module_version": "1.2.0",
       "_view_name": "StyleView",
       "bar_color": null,
       "description_width": ""
      }
     },
     "39649348167848caac8bd93a6204f2ca": {
      "model_module": "@jupyter-widgets/base",
      "model_module_version": "1.2.0",
      "model_name": "LayoutModel",
      "state": {
       "_model_module": "@jupyter-widgets/base",
       "_model_module_version": "1.2.0",
       "_model_name": "LayoutModel",
       "_view_count": null,
       "_view_module": "@jupyter-widgets/base",
       "_view_module_version": "1.2.0",
       "_view_name": "LayoutView",
       "align_content": null,
       "align_items": null,
       "align_self": null,
       "border": null,
       "bottom": null,
       "display": null,
       "flex": null,
       "flex_flow": null,
       "grid_area": null,
       "grid_auto_columns": null,
       "grid_auto_flow": null,
       "grid_auto_rows": null,
       "grid_column": null,
       "grid_gap": null,
       "grid_row": null,
       "grid_template_areas": null,
       "grid_template_columns": null,
       "grid_template_rows": null,
       "height": null,
       "justify_content": null,
       "justify_items": null,
       "left": null,
       "margin": null,
       "max_height": null,
       "max_width": null,
       "min_height": null,
       "min_width": null,
       "object_fit": null,
       "object_position": null,
       "order": null,
       "overflow": null,
       "overflow_x": null,
       "overflow_y": null,
       "padding": null,
       "right": null,
       "top": null,
       "visibility": null,
       "width": null
      }
     },
     "3bb1d5e63121406ea7814f5cff6c066d": {
      "model_module": "@jupyter-widgets/base",
      "model_module_version": "1.2.0",
      "model_name": "LayoutModel",
      "state": {
       "_model_module": "@jupyter-widgets/base",
       "_model_module_version": "1.2.0",
       "_model_name": "LayoutModel",
       "_view_count": null,
       "_view_module": "@jupyter-widgets/base",
       "_view_module_version": "1.2.0",
       "_view_name": "LayoutView",
       "align_content": null,
       "align_items": null,
       "align_self": null,
       "border": null,
       "bottom": null,
       "display": null,
       "flex": null,
       "flex_flow": null,
       "grid_area": null,
       "grid_auto_columns": null,
       "grid_auto_flow": null,
       "grid_auto_rows": null,
       "grid_column": null,
       "grid_gap": null,
       "grid_row": null,
       "grid_template_areas": null,
       "grid_template_columns": null,
       "grid_template_rows": null,
       "height": null,
       "justify_content": null,
       "justify_items": null,
       "left": null,
       "margin": null,
       "max_height": null,
       "max_width": null,
       "min_height": null,
       "min_width": null,
       "object_fit": null,
       "object_position": null,
       "order": null,
       "overflow": null,
       "overflow_x": null,
       "overflow_y": null,
       "padding": null,
       "right": null,
       "top": null,
       "visibility": null,
       "width": null
      }
     },
     "3bbacb8627ff471db8009cd03f3b9a9e": {
      "model_module": "@jupyter-widgets/controls",
      "model_module_version": "1.5.0",
      "model_name": "ProgressStyleModel",
      "state": {
       "_model_module": "@jupyter-widgets/controls",
       "_model_module_version": "1.5.0",
       "_model_name": "ProgressStyleModel",
       "_view_count": null,
       "_view_module": "@jupyter-widgets/base",
       "_view_module_version": "1.2.0",
       "_view_name": "StyleView",
       "bar_color": null,
       "description_width": ""
      }
     },
     "3e4e8856236e4243a005b75bf32f3945": {
      "model_module": "@jupyter-widgets/controls",
      "model_module_version": "1.5.0",
      "model_name": "HBoxModel",
      "state": {
       "_dom_classes": [],
       "_model_module": "@jupyter-widgets/controls",
       "_model_module_version": "1.5.0",
       "_model_name": "HBoxModel",
       "_view_count": null,
       "_view_module": "@jupyter-widgets/controls",
       "_view_module_version": "1.5.0",
       "_view_name": "HBoxView",
       "box_style": "",
       "children": [
        "IPY_MODEL_4810cd72df65460a89dbd34e5822532d",
        "IPY_MODEL_1d6a423f837b4d9691f058fbaff31162",
        "IPY_MODEL_e54b0205bbc6443b9197aea9ad543fcf"
       ],
       "layout": "IPY_MODEL_5af1555b9c5a45a9a3c9fe8b8a81fccb"
      }
     },
     "43b7bf03ee6d49cbbe8cf3c4fea77b9b": {
      "model_module": "@jupyter-widgets/base",
      "model_module_version": "1.2.0",
      "model_name": "LayoutModel",
      "state": {
       "_model_module": "@jupyter-widgets/base",
       "_model_module_version": "1.2.0",
       "_model_name": "LayoutModel",
       "_view_count": null,
       "_view_module": "@jupyter-widgets/base",
       "_view_module_version": "1.2.0",
       "_view_name": "LayoutView",
       "align_content": null,
       "align_items": null,
       "align_self": null,
       "border": null,
       "bottom": null,
       "display": null,
       "flex": null,
       "flex_flow": null,
       "grid_area": null,
       "grid_auto_columns": null,
       "grid_auto_flow": null,
       "grid_auto_rows": null,
       "grid_column": null,
       "grid_gap": null,
       "grid_row": null,
       "grid_template_areas": null,
       "grid_template_columns": null,
       "grid_template_rows": null,
       "height": null,
       "justify_content": null,
       "justify_items": null,
       "left": null,
       "margin": null,
       "max_height": null,
       "max_width": null,
       "min_height": null,
       "min_width": null,
       "object_fit": null,
       "object_position": null,
       "order": null,
       "overflow": null,
       "overflow_x": null,
       "overflow_y": null,
       "padding": null,
       "right": null,
       "top": null,
       "visibility": null,
       "width": null
      }
     },
     "476e0dc988f647e28c1833f27725fb5f": {
      "model_module": "@jupyter-widgets/controls",
      "model_module_version": "1.5.0",
      "model_name": "DescriptionStyleModel",
      "state": {
       "_model_module": "@jupyter-widgets/controls",
       "_model_module_version": "1.5.0",
       "_model_name": "DescriptionStyleModel",
       "_view_count": null,
       "_view_module": "@jupyter-widgets/base",
       "_view_module_version": "1.2.0",
       "_view_name": "StyleView",
       "description_width": ""
      }
     },
     "4810cd72df65460a89dbd34e5822532d": {
      "model_module": "@jupyter-widgets/controls",
      "model_module_version": "1.5.0",
      "model_name": "HTMLModel",
      "state": {
       "_dom_classes": [],
       "_model_module": "@jupyter-widgets/controls",
       "_model_module_version": "1.5.0",
       "_model_name": "HTMLModel",
       "_view_count": null,
       "_view_module": "@jupyter-widgets/controls",
       "_view_module_version": "1.5.0",
       "_view_name": "HTMLView",
       "description": "",
       "description_tooltip": null,
       "layout": "IPY_MODEL_278db733ce8c44c5adc257f3d955483f",
       "placeholder": "​",
       "style": "IPY_MODEL_8545150913664b61ab08dfae5d5d60ac",
       "value": "preprocessor_config.json: 100%"
      }
     },
     "49220eb493cc4235bd48554958752d2a": {
      "model_module": "@jupyter-widgets/controls",
      "model_module_version": "1.5.0",
      "model_name": "DescriptionStyleModel",
      "state": {
       "_model_module": "@jupyter-widgets/controls",
       "_model_module_version": "1.5.0",
       "_model_name": "DescriptionStyleModel",
       "_view_count": null,
       "_view_module": "@jupyter-widgets/base",
       "_view_module_version": "1.2.0",
       "_view_name": "StyleView",
       "description_width": ""
      }
     },
     "519b3a50dae94a39b93a6adffa9e86c4": {
      "model_module": "@jupyter-widgets/controls",
      "model_module_version": "1.5.0",
      "model_name": "FloatProgressModel",
      "state": {
       "_dom_classes": [],
       "_model_module": "@jupyter-widgets/controls",
       "_model_module_version": "1.5.0",
       "_model_name": "FloatProgressModel",
       "_view_count": null,
       "_view_module": "@jupyter-widgets/controls",
       "_view_module_version": "1.5.0",
       "_view_name": "ProgressView",
       "bar_style": "success",
       "description": "",
       "description_tooltip": null,
       "layout": "IPY_MODEL_c8e99a35a93e4dd2951e3877472f0600",
       "max": 1531.0,
       "min": 0.0,
       "orientation": "horizontal",
       "style": "IPY_MODEL_fa92754472e44c7e94ad5411cac3c5fa",
       "value": 1531.0
      }
     },
     "5207954571f349fea1ee18352a88edb5": {
      "model_module": "@jupyter-widgets/controls",
      "model_module_version": "1.5.0",
      "model_name": "DescriptionStyleModel",
      "state": {
       "_model_module": "@jupyter-widgets/controls",
       "_model_module_version": "1.5.0",
       "_model_name": "DescriptionStyleModel",
       "_view_count": null,
       "_view_module": "@jupyter-widgets/base",
       "_view_module_version": "1.2.0",
       "_view_name": "StyleView",
       "description_width": ""
      }
     },
     "53b65c5503e14ba082b75c7328de658f": {
      "model_module": "@jupyter-widgets/controls",
      "model_module_version": "1.5.0",
      "model_name": "DescriptionStyleModel",
      "state": {
       "_model_module": "@jupyter-widgets/controls",
       "_model_module_version": "1.5.0",
       "_model_name": "DescriptionStyleModel",
       "_view_count": null,
       "_view_module": "@jupyter-widgets/base",
       "_view_module_version": "1.2.0",
       "_view_name": "StyleView",
       "description_width": ""
      }
     },
     "5af1555b9c5a45a9a3c9fe8b8a81fccb": {
      "model_module": "@jupyter-widgets/base",
      "model_module_version": "1.2.0",
      "model_name": "LayoutModel",
      "state": {
       "_model_module": "@jupyter-widgets/base",
       "_model_module_version": "1.2.0",
       "_model_name": "LayoutModel",
       "_view_count": null,
       "_view_module": "@jupyter-widgets/base",
       "_view_module_version": "1.2.0",
       "_view_name": "LayoutView",
       "align_content": null,
       "align_items": null,
       "align_self": null,
       "border": null,
       "bottom": null,
       "display": null,
       "flex": null,
       "flex_flow": null,
       "grid_area": null,
       "grid_auto_columns": null,
       "grid_auto_flow": null,
       "grid_auto_rows": null,
       "grid_column": null,
       "grid_gap": null,
       "grid_row": null,
       "grid_template_areas": null,
       "grid_template_columns": null,
       "grid_template_rows": null,
       "height": null,
       "justify_content": null,
       "justify_items": null,
       "left": null,
       "margin": null,
       "max_height": null,
       "max_width": null,
       "min_height": null,
       "min_width": null,
       "object_fit": null,
       "object_position": null,
       "order": null,
       "overflow": null,
       "overflow_x": null,
       "overflow_y": null,
       "padding": null,
       "right": null,
       "top": null,
       "visibility": null,
       "width": null
      }
     },
     "5c45739d40ff45bab608c10994198e67": {
      "model_module": "@jupyter-widgets/controls",
      "model_module_version": "1.5.0",
      "model_name": "HBoxModel",
      "state": {
       "_dom_classes": [],
       "_model_module": "@jupyter-widgets/controls",
       "_model_module_version": "1.5.0",
       "_model_name": "HBoxModel",
       "_view_count": null,
       "_view_module": "@jupyter-widgets/controls",
       "_view_module_version": "1.5.0",
       "_view_name": "HBoxView",
       "box_style": "",
       "children": [
        "IPY_MODEL_e7631239a6f34de9b6044fdd897f497f",
        "IPY_MODEL_ad7b487b7de748fdbb15866b35439107",
        "IPY_MODEL_1e614b71035d41b896d2d993f903ed29"
       ],
       "layout": "IPY_MODEL_d2863dd264aa42728efe5a74427c64bf"
      }
     },
     "6b60c5610e4546e98dbfe48479cb9d18": {
      "model_module": "@jupyter-widgets/base",
      "model_module_version": "1.2.0",
      "model_name": "LayoutModel",
      "state": {
       "_model_module": "@jupyter-widgets/base",
       "_model_module_version": "1.2.0",
       "_model_name": "LayoutModel",
       "_view_count": null,
       "_view_module": "@jupyter-widgets/base",
       "_view_module_version": "1.2.0",
       "_view_name": "LayoutView",
       "align_content": null,
       "align_items": null,
       "align_self": null,
       "border": null,
       "bottom": null,
       "display": null,
       "flex": null,
       "flex_flow": null,
       "grid_area": null,
       "grid_auto_columns": null,
       "grid_auto_flow": null,
       "grid_auto_rows": null,
       "grid_column": null,
       "grid_gap": null,
       "grid_row": null,
       "grid_template_areas": null,
       "grid_template_columns": null,
       "grid_template_rows": null,
       "height": null,
       "justify_content": null,
       "justify_items": null,
       "left": null,
       "margin": null,
       "max_height": null,
       "max_width": null,
       "min_height": null,
       "min_width": null,
       "object_fit": null,
       "object_position": null,
       "order": null,
       "overflow": null,
       "overflow_x": null,
       "overflow_y": null,
       "padding": null,
       "right": null,
       "top": null,
       "visibility": null,
       "width": null
      }
     },
     "78fd6c8f5da24b10990f383f9a2ba790": {
      "model_module": "@jupyter-widgets/controls",
      "model_module_version": "1.5.0",
      "model_name": "DescriptionStyleModel",
      "state": {
       "_model_module": "@jupyter-widgets/controls",
       "_model_module_version": "1.5.0",
       "_model_name": "DescriptionStyleModel",
       "_view_count": null,
       "_view_module": "@jupyter-widgets/base",
       "_view_module_version": "1.2.0",
       "_view_name": "StyleView",
       "description_width": ""
      }
     },
     "79dc90fdf4f2436ea633c350a053b13b": {
      "model_module": "@jupyter-widgets/controls",
      "model_module_version": "1.5.0",
      "model_name": "ProgressStyleModel",
      "state": {
       "_model_module": "@jupyter-widgets/controls",
       "_model_module_version": "1.5.0",
       "_model_name": "ProgressStyleModel",
       "_view_count": null,
       "_view_module": "@jupyter-widgets/base",
       "_view_module_version": "1.2.0",
       "_view_name": "StyleView",
       "bar_color": null,
       "description_width": ""
      }
     },
     "7c395b4506d24314aed895ae90fb2bfd": {
      "model_module": "@jupyter-widgets/base",
      "model_module_version": "1.2.0",
      "model_name": "LayoutModel",
      "state": {
       "_model_module": "@jupyter-widgets/base",
       "_model_module_version": "1.2.0",
       "_model_name": "LayoutModel",
       "_view_count": null,
       "_view_module": "@jupyter-widgets/base",
       "_view_module_version": "1.2.0",
       "_view_name": "LayoutView",
       "align_content": null,
       "align_items": null,
       "align_self": null,
       "border": null,
       "bottom": null,
       "display": null,
       "flex": null,
       "flex_flow": null,
       "grid_area": null,
       "grid_auto_columns": null,
       "grid_auto_flow": null,
       "grid_auto_rows": null,
       "grid_column": null,
       "grid_gap": null,
       "grid_row": null,
       "grid_template_areas": null,
       "grid_template_columns": null,
       "grid_template_rows": null,
       "height": null,
       "justify_content": null,
       "justify_items": null,
       "left": null,
       "margin": null,
       "max_height": null,
       "max_width": null,
       "min_height": null,
       "min_width": null,
       "object_fit": null,
       "object_position": null,
       "order": null,
       "overflow": null,
       "overflow_x": null,
       "overflow_y": null,
       "padding": null,
       "right": null,
       "top": null,
       "visibility": null,
       "width": null
      }
     },
     "8274321dc7014fd3989e54eb8960d25c": {
      "model_module": "@jupyter-widgets/controls",
      "model_module_version": "1.5.0",
      "model_name": "DescriptionStyleModel",
      "state": {
       "_model_module": "@jupyter-widgets/controls",
       "_model_module_version": "1.5.0",
       "_model_name": "DescriptionStyleModel",
       "_view_count": null,
       "_view_module": "@jupyter-widgets/base",
       "_view_module_version": "1.2.0",
       "_view_name": "StyleView",
       "description_width": ""
      }
     },
     "8545150913664b61ab08dfae5d5d60ac": {
      "model_module": "@jupyter-widgets/controls",
      "model_module_version": "1.5.0",
      "model_name": "DescriptionStyleModel",
      "state": {
       "_model_module": "@jupyter-widgets/controls",
       "_model_module_version": "1.5.0",
       "_model_name": "DescriptionStyleModel",
       "_view_count": null,
       "_view_module": "@jupyter-widgets/base",
       "_view_module_version": "1.2.0",
       "_view_name": "StyleView",
       "description_width": ""
      }
     },
     "90ae580fb9c943cfa8fc5321d6f2622d": {
      "model_module": "@jupyter-widgets/controls",
      "model_module_version": "1.5.0",
      "model_name": "HBoxModel",
      "state": {
       "_dom_classes": [],
       "_model_module": "@jupyter-widgets/controls",
       "_model_module_version": "1.5.0",
       "_model_name": "HBoxModel",
       "_view_count": null,
       "_view_module": "@jupyter-widgets/controls",
       "_view_module_version": "1.5.0",
       "_view_name": "HBoxView",
       "box_style": "",
       "children": [
        "IPY_MODEL_068eec5880694321a68af47ae5531993",
        "IPY_MODEL_519b3a50dae94a39b93a6adffa9e86c4",
        "IPY_MODEL_b8a8ba7283564645a78c653fd8a37931"
       ],
       "layout": "IPY_MODEL_ba041af1c6a243d4b14994738846fe3f"
      }
     },
     "97615d6567dc418eb4098c807a3f3c2c": {
      "model_module": "@jupyter-widgets/controls",
      "model_module_version": "1.5.0",
      "model_name": "HTMLModel",
      "state": {
       "_dom_classes": [],
       "_model_module": "@jupyter-widgets/controls",
       "_model_module_version": "1.5.0",
       "_model_name": "HTMLModel",
       "_view_count": null,
       "_view_module": "@jupyter-widgets/controls",
       "_view_module_version": "1.5.0",
       "_view_name": "HTMLView",
       "description": "",
       "description_tooltip": null,
       "layout": "IPY_MODEL_a1712f6491d944d19f112657a2f8b6f2",
       "placeholder": "​",
       "style": "IPY_MODEL_5207954571f349fea1ee18352a88edb5",
       "value": "model.safetensors: 100%"
      }
     },
     "982f20fd0a2f4ff7b44037db69545c04": {
      "model_module": "@jupyter-widgets/controls",
      "model_module_version": "1.5.0",
      "model_name": "ProgressStyleModel",
      "state": {
       "_model_module": "@jupyter-widgets/controls",
       "_model_module_version": "1.5.0",
       "_model_name": "ProgressStyleModel",
       "_view_count": null,
       "_view_module": "@jupyter-widgets/base",
       "_view_module_version": "1.2.0",
       "_view_name": "StyleView",
       "bar_color": null,
       "description_width": ""
      }
     },
     "a1712f6491d944d19f112657a2f8b6f2": {
      "model_module": "@jupyter-widgets/base",
      "model_module_version": "1.2.0",
      "model_name": "LayoutModel",
      "state": {
       "_model_module": "@jupyter-widgets/base",
       "_model_module_version": "1.2.0",
       "_model_name": "LayoutModel",
       "_view_count": null,
       "_view_module": "@jupyter-widgets/base",
       "_view_module_version": "1.2.0",
       "_view_name": "LayoutView",
       "align_content": null,
       "align_items": null,
       "align_self": null,
       "border": null,
       "bottom": null,
       "display": null,
       "flex": null,
       "flex_flow": null,
       "grid_area": null,
       "grid_auto_columns": null,
       "grid_auto_flow": null,
       "grid_auto_rows": null,
       "grid_column": null,
       "grid_gap": null,
       "grid_row": null,
       "grid_template_areas": null,
       "grid_template_columns": null,
       "grid_template_rows": null,
       "height": null,
       "justify_content": null,
       "justify_items": null,
       "left": null,
       "margin": null,
       "max_height": null,
       "max_width": null,
       "min_height": null,
       "min_width": null,
       "object_fit": null,
       "object_position": null,
       "order": null,
       "overflow": null,
       "overflow_x": null,
       "overflow_y": null,
       "padding": null,
       "right": null,
       "top": null,
       "visibility": null,
       "width": null
      }
     },
     "a65c9e47acbf4510a2a414f0f48037ea": {
      "model_module": "@jupyter-widgets/controls",
      "model_module_version": "1.5.0",
      "model_name": "DescriptionStyleModel",
      "state": {
       "_model_module": "@jupyter-widgets/controls",
       "_model_module_version": "1.5.0",
       "_model_name": "DescriptionStyleModel",
       "_view_count": null,
       "_view_module": "@jupyter-widgets/base",
       "_view_module_version": "1.2.0",
       "_view_name": "StyleView",
       "description_width": ""
      }
     },
     "ad7b487b7de748fdbb15866b35439107": {
      "model_module": "@jupyter-widgets/controls",
      "model_module_version": "1.5.0",
      "model_name": "FloatProgressModel",
      "state": {
       "_dom_classes": [],
       "_model_module": "@jupyter-widgets/controls",
       "_model_module_version": "1.5.0",
       "_model_name": "FloatProgressModel",
       "_view_count": null,
       "_view_module": "@jupyter-widgets/controls",
       "_view_module_version": "1.5.0",
       "_view_name": "ProgressView",
       "bar_style": "success",
       "description": "",
       "description_tooltip": null,
       "layout": "IPY_MODEL_bf1fc74f2da54188bb6bfb80c7998bdf",
       "max": 300.0,
       "min": 0.0,
       "orientation": "horizontal",
       "style": "IPY_MODEL_982f20fd0a2f4ff7b44037db69545c04",
       "value": 300.0
      }
     },
     "ad7d1472747a48d49fc380431a40a823": {
      "model_module": "@jupyter-widgets/controls",
      "model_module_version": "1.5.0",
      "model_name": "FloatProgressModel",
      "state": {
       "_dom_classes": [],
       "_model_module": "@jupyter-widgets/controls",
       "_model_module_version": "1.5.0",
       "_model_name": "FloatProgressModel",
       "_view_count": null,
       "_view_module": "@jupyter-widgets/controls",
       "_view_module_version": "1.5.0",
       "_view_name": "ProgressView",
       "bar_style": "success",
       "description": "",
       "description_tooltip": null,
       "layout": "IPY_MODEL_c22fd664c56f491f91fb3d9f821e8b23",
       "max": 1261942732.0,
       "min": 0.0,
       "orientation": "horizontal",
       "style": "IPY_MODEL_3bbacb8627ff471db8009cd03f3b9a9e",
       "value": 1261942732.0
      }
     },
     "b84346c7dd51412fb4da5ced77f8b8af": {
      "model_module": "@jupyter-widgets/controls",
      "model_module_version": "1.5.0",
      "model_name": "HTMLModel",
      "state": {
       "_dom_classes": [],
       "_model_module": "@jupyter-widgets/controls",
       "_model_module_version": "1.5.0",
       "_model_name": "HTMLModel",
       "_view_count": null,
       "_view_module": "@jupyter-widgets/controls",
       "_view_module_version": "1.5.0",
       "_view_name": "HTMLView",
       "description": "",
       "description_tooltip": null,
       "layout": "IPY_MODEL_1f86b548317943da8daed479d0897327",
       "placeholder": "​",
       "style": "IPY_MODEL_a65c9e47acbf4510a2a414f0f48037ea",
       "value": " 85.0/85.0 [00:00&lt;00:00, 8.86kB/s]"
      }
     },
     "b8a8ba7283564645a78c653fd8a37931": {
      "model_module": "@jupyter-widgets/controls",
      "model_module_version": "1.5.0",
      "model_name": "HTMLModel",
      "state": {
       "_dom_classes": [],
       "_model_module": "@jupyter-widgets/controls",
       "_model_module_version": "1.5.0",
       "_model_name": "HTMLModel",
       "_view_count": null,
       "_view_module": "@jupyter-widgets/controls",
       "_view_module_version": "1.5.0",
       "_view_name": "HTMLView",
       "description": "",
       "description_tooltip": null,
       "layout": "IPY_MODEL_6b60c5610e4546e98dbfe48479cb9d18",
       "placeholder": "​",
       "style": "IPY_MODEL_78fd6c8f5da24b10990f383f9a2ba790",
       "value": " 1.53k/1.53k [00:00&lt;00:00, 158kB/s]"
      }
     },
     "ba041af1c6a243d4b14994738846fe3f": {
      "model_module": "@jupyter-widgets/base",
      "model_module_version": "1.2.0",
      "model_name": "LayoutModel",
      "state": {
       "_model_module": "@jupyter-widgets/base",
       "_model_module_version": "1.2.0",
       "_model_name": "LayoutModel",
       "_view_count": null,
       "_view_module": "@jupyter-widgets/base",
       "_view_module_version": "1.2.0",
       "_view_name": "LayoutView",
       "align_content": null,
       "align_items": null,
       "align_self": null,
       "border": null,
       "bottom": null,
       "display": null,
       "flex": null,
       "flex_flow": null,
       "grid_area": null,
       "grid_auto_columns": null,
       "grid_auto_flow": null,
       "grid_auto_rows": null,
       "grid_column": null,
       "grid_gap": null,
       "grid_row": null,
       "grid_template_areas": null,
       "grid_template_columns": null,
       "grid_template_rows": null,
       "height": null,
       "justify_content": null,
       "justify_items": null,
       "left": null,
       "margin": null,
       "max_height": null,
       "max_width": null,
       "min_height": null,
       "min_width": null,
       "object_fit": null,
       "object_position": null,
       "order": null,
       "overflow": null,
       "overflow_x": null,
       "overflow_y": null,
       "padding": null,
       "right": null,
       "top": null,
       "visibility": null,
       "width": null
      }
     },
     "bf1fc74f2da54188bb6bfb80c7998bdf": {
      "model_module": "@jupyter-widgets/base",
      "model_module_version": "1.2.0",
      "model_name": "LayoutModel",
      "state": {
       "_model_module": "@jupyter-widgets/base",
       "_model_module_version": "1.2.0",
       "_model_name": "LayoutModel",
       "_view_count": null,
       "_view_module": "@jupyter-widgets/base",
       "_view_module_version": "1.2.0",
       "_view_name": "LayoutView",
       "align_content": null,
       "align_items": null,
       "align_self": null,
       "border": null,
       "bottom": null,
       "display": null,
       "flex": null,
       "flex_flow": null,
       "grid_area": null,
       "grid_auto_columns": null,
       "grid_auto_flow": null,
       "grid_auto_rows": null,
       "grid_column": null,
       "grid_gap": null,
       "grid_row": null,
       "grid_template_areas": null,
       "grid_template_columns": null,
       "grid_template_rows": null,
       "height": null,
       "justify_content": null,
       "justify_items": null,
       "left": null,
       "margin": null,
       "max_height": null,
       "max_width": null,
       "min_height": null,
       "min_width": null,
       "object_fit": null,
       "object_position": null,
       "order": null,
       "overflow": null,
       "overflow_x": null,
       "overflow_y": null,
       "padding": null,
       "right": null,
       "top": null,
       "visibility": null,
       "width": null
      }
     },
     "c22fd664c56f491f91fb3d9f821e8b23": {
      "model_module": "@jupyter-widgets/base",
      "model_module_version": "1.2.0",
      "model_name": "LayoutModel",
      "state": {
       "_model_module": "@jupyter-widgets/base",
       "_model_module_version": "1.2.0",
       "_model_name": "LayoutModel",
       "_view_count": null,
       "_view_module": "@jupyter-widgets/base",
       "_view_module_version": "1.2.0",
       "_view_name": "LayoutView",
       "align_content": null,
       "align_items": null,
       "align_self": null,
       "border": null,
       "bottom": null,
       "display": null,
       "flex": null,
       "flex_flow": null,
       "grid_area": null,
       "grid_auto_columns": null,
       "grid_auto_flow": null,
       "grid_auto_rows": null,
       "grid_column": null,
       "grid_gap": null,
       "grid_row": null,
       "grid_template_areas": null,
       "grid_template_columns": null,
       "grid_template_rows": null,
       "height": null,
       "justify_content": null,
       "justify_items": null,
       "left": null,
       "margin": null,
       "max_height": null,
       "max_width": null,
       "min_height": null,
       "min_width": null,
       "object_fit": null,
       "object_position": null,
       "order": null,
       "overflow": null,
       "overflow_x": null,
       "overflow_y": null,
       "padding": null,
       "right": null,
       "top": null,
       "visibility": null,
       "width": null
      }
     },
     "c8e99a35a93e4dd2951e3877472f0600": {
      "model_module": "@jupyter-widgets/base",
      "model_module_version": "1.2.0",
      "model_name": "LayoutModel",
      "state": {
       "_model_module": "@jupyter-widgets/base",
       "_model_module_version": "1.2.0",
       "_model_name": "LayoutModel",
       "_view_count": null,
       "_view_module": "@jupyter-widgets/base",
       "_view_module_version": "1.2.0",
       "_view_name": "LayoutView",
       "align_content": null,
       "align_items": null,
       "align_self": null,
       "border": null,
       "bottom": null,
       "display": null,
       "flex": null,
       "flex_flow": null,
       "grid_area": null,
       "grid_auto_columns": null,
       "grid_auto_flow": null,
       "grid_auto_rows": null,
       "grid_column": null,
       "grid_gap": null,
       "grid_row": null,
       "grid_template_areas": null,
       "grid_template_columns": null,
       "grid_template_rows": null,
       "height": null,
       "justify_content": null,
       "justify_items": null,
       "left": null,
       "margin": null,
       "max_height": null,
       "max_width": null,
       "min_height": null,
       "min_width": null,
       "object_fit": null,
       "object_position": null,
       "order": null,
       "overflow": null,
       "overflow_x": null,
       "overflow_y": null,
       "padding": null,
       "right": null,
       "top": null,
       "visibility": null,
       "width": null
      }
     },
     "c92e4410c039440095f1810bcfa8e7b5": {
      "model_module": "@jupyter-widgets/controls",
      "model_module_version": "1.5.0",
      "model_name": "HTMLModel",
      "state": {
       "_dom_classes": [],
       "_model_module": "@jupyter-widgets/controls",
       "_model_module_version": "1.5.0",
       "_model_name": "HTMLModel",
       "_view_count": null,
       "_view_module": "@jupyter-widgets/controls",
       "_view_module_version": "1.5.0",
       "_view_name": "HTMLView",
       "description": "",
       "description_tooltip": null,
       "layout": "IPY_MODEL_43b7bf03ee6d49cbbe8cf3c4fea77b9b",
       "placeholder": "​",
       "style": "IPY_MODEL_53b65c5503e14ba082b75c7328de658f",
       "value": "special_tokens_map.json: 100%"
      }
     },
     "cc93483542a44b2a82ec22f9fb592af4": {
      "model_module": "@jupyter-widgets/controls",
      "model_module_version": "1.5.0",
      "model_name": "HTMLModel",
      "state": {
       "_dom_classes": [],
       "_model_module": "@jupyter-widgets/controls",
       "_model_module_version": "1.5.0",
       "_model_name": "HTMLModel",
       "_view_count": null,
       "_view_module": "@jupyter-widgets/controls",
       "_view_module_version": "1.5.0",
       "_view_name": "HTMLView",
       "description": "",
       "description_tooltip": null,
       "layout": "IPY_MODEL_3bb1d5e63121406ea7814f5cff6c066d",
       "placeholder": "​",
       "style": "IPY_MODEL_476e0dc988f647e28c1833f27725fb5f",
       "value": " 1.26G/1.26G [00:05&lt;00:00, 238MB/s]"
      }
     },
     "d2863dd264aa42728efe5a74427c64bf": {
      "model_module": "@jupyter-widgets/base",
      "model_module_version": "1.2.0",
      "model_name": "LayoutModel",
      "state": {
       "_model_module": "@jupyter-widgets/base",
       "_model_module_version": "1.2.0",
       "_model_name": "LayoutModel",
       "_view_count": null,
       "_view_module": "@jupyter-widgets/base",
       "_view_module_version": "1.2.0",
       "_view_name": "LayoutView",
       "align_content": null,
       "align_items": null,
       "align_self": null,
       "border": null,
       "bottom": null,
       "display": null,
       "flex": null,
       "flex_flow": null,
       "grid_area": null,
       "grid_auto_columns": null,
       "grid_auto_flow": null,
       "grid_auto_rows": null,
       "grid_column": null,
       "grid_gap": null,
       "grid_row": null,
       "grid_template_areas": null,
       "grid_template_columns": null,
       "grid_template_rows": null,
       "height": null,
       "justify_content": null,
       "justify_items": null,
       "left": null,
       "margin": null,
       "max_height": null,
       "max_width": null,
       "min_height": null,
       "min_width": null,
       "object_fit": null,
       "object_position": null,
       "order": null,
       "overflow": null,
       "overflow_x": null,
       "overflow_y": null,
       "padding": null,
       "right": null,
       "top": null,
       "visibility": null,
       "width": null
      }
     },
     "d4a89df841ed4a23a50dd0887a6eb71a": {
      "model_module": "@jupyter-widgets/controls",
      "model_module_version": "1.5.0",
      "model_name": "HBoxModel",
      "state": {
       "_dom_classes": [],
       "_model_module": "@jupyter-widgets/controls",
       "_model_module_version": "1.5.0",
       "_model_name": "HBoxModel",
       "_view_count": null,
       "_view_module": "@jupyter-widgets/controls",
       "_view_module_version": "1.5.0",
       "_view_name": "HBoxView",
       "box_style": "",
       "children": [
        "IPY_MODEL_c92e4410c039440095f1810bcfa8e7b5",
        "IPY_MODEL_1fd96a2946044e48b1c7554503209bd0",
        "IPY_MODEL_b84346c7dd51412fb4da5ced77f8b8af"
       ],
       "layout": "IPY_MODEL_e7831ff614294a33b4a374054498929c"
      }
     },
     "dc46a618503a49e09b4d1b5c13cbfc47": {
      "model_module": "@jupyter-widgets/base",
      "model_module_version": "1.2.0",
      "model_name": "LayoutModel",
      "state": {
       "_model_module": "@jupyter-widgets/base",
       "_model_module_version": "1.2.0",
       "_model_name": "LayoutModel",
       "_view_count": null,
       "_view_module": "@jupyter-widgets/base",
       "_view_module_version": "1.2.0",
       "_view_name": "LayoutView",
       "align_content": null,
       "align_items": null,
       "align_self": null,
       "border": null,
       "bottom": null,
       "display": null,
       "flex": null,
       "flex_flow": null,
       "grid_area": null,
       "grid_auto_columns": null,
       "grid_auto_flow": null,
       "grid_auto_rows": null,
       "grid_column": null,
       "grid_gap": null,
       "grid_row": null,
       "grid_template_areas": null,
       "grid_template_columns": null,
       "grid_template_rows": null,
       "height": null,
       "justify_content": null,
       "justify_items": null,
       "left": null,
       "margin": null,
       "max_height": null,
       "max_width": null,
       "min_height": null,
       "min_width": null,
       "object_fit": null,
       "object_position": null,
       "order": null,
       "overflow": null,
       "overflow_x": null,
       "overflow_y": null,
       "padding": null,
       "right": null,
       "top": null,
       "visibility": null,
       "width": null
      }
     },
     "e54b0205bbc6443b9197aea9ad543fcf": {
      "model_module": "@jupyter-widgets/controls",
      "model_module_version": "1.5.0",
      "model_name": "HTMLModel",
      "state": {
       "_dom_classes": [],
       "_model_module": "@jupyter-widgets/controls",
       "_model_module_version": "1.5.0",
       "_model_name": "HTMLModel",
       "_view_count": null,
       "_view_module": "@jupyter-widgets/controls",
       "_view_module_version": "1.5.0",
       "_view_name": "HTMLView",
       "description": "",
       "description_tooltip": null,
       "layout": "IPY_MODEL_dc46a618503a49e09b4d1b5c13cbfc47",
       "placeholder": "​",
       "style": "IPY_MODEL_49220eb493cc4235bd48554958752d2a",
       "value": " 262/262 [00:00&lt;00:00, 26.1kB/s]"
      }
     },
     "e7631239a6f34de9b6044fdd897f497f": {
      "model_module": "@jupyter-widgets/controls",
      "model_module_version": "1.5.0",
      "model_name": "HTMLModel",
      "state": {
       "_dom_classes": [],
       "_model_module": "@jupyter-widgets/controls",
       "_model_module_version": "1.5.0",
       "_model_name": "HTMLModel",
       "_view_count": null,
       "_view_module": "@jupyter-widgets/controls",
       "_view_module_version": "1.5.0",
       "_view_name": "HTMLView",
       "description": "",
       "description_tooltip": null,
       "layout": "IPY_MODEL_1b56123020f34ec48b04e2be900db0e8",
       "placeholder": "​",
       "style": "IPY_MODEL_1822ee7a8cd540839d69e3092130945a",
       "value": "vocab.json: 100%"
      }
     },
     "e7831ff614294a33b4a374054498929c": {
      "model_module": "@jupyter-widgets/base",
      "model_module_version": "1.2.0",
      "model_name": "LayoutModel",
      "state": {
       "_model_module": "@jupyter-widgets/base",
       "_model_module_version": "1.2.0",
       "_model_name": "LayoutModel",
       "_view_count": null,
       "_view_module": "@jupyter-widgets/base",
       "_view_module_version": "1.2.0",
       "_view_name": "LayoutView",
       "align_content": null,
       "align_items": null,
       "align_self": null,
       "border": null,
       "bottom": null,
       "display": null,
       "flex": null,
       "flex_flow": null,
       "grid_area": null,
       "grid_auto_columns": null,
       "grid_auto_flow": null,
       "grid_auto_rows": null,
       "grid_column": null,
       "grid_gap": null,
       "grid_row": null,
       "grid_template_areas": null,
       "grid_template_columns": null,
       "grid_template_rows": null,
       "height": null,
       "justify_content": null,
       "justify_items": null,
       "left": null,
       "margin": null,
       "max_height": null,
       "max_width": null,
       "min_height": null,
       "min_width": null,
       "object_fit": null,
       "object_position": null,
       "order": null,
       "overflow": null,
       "overflow_x": null,
       "overflow_y": null,
       "padding": null,
       "right": null,
       "top": null,
       "visibility": null,
       "width": null
      }
     },
     "efcc66d0d363437f9c6db41e758d54a9": {
      "model_module": "@jupyter-widgets/base",
      "model_module_version": "1.2.0",
      "model_name": "LayoutModel",
      "state": {
       "_model_module": "@jupyter-widgets/base",
       "_model_module_version": "1.2.0",
       "_model_name": "LayoutModel",
       "_view_count": null,
       "_view_module": "@jupyter-widgets/base",
       "_view_module_version": "1.2.0",
       "_view_name": "LayoutView",
       "align_content": null,
       "align_items": null,
       "align_self": null,
       "border": null,
       "bottom": null,
       "display": null,
       "flex": null,
       "flex_flow": null,
       "grid_area": null,
       "grid_auto_columns": null,
       "grid_auto_flow": null,
       "grid_auto_rows": null,
       "grid_column": null,
       "grid_gap": null,
       "grid_row": null,
       "grid_template_areas": null,
       "grid_template_columns": null,
       "grid_template_rows": null,
       "height": null,
       "justify_content": null,
       "justify_items": null,
       "left": null,
       "margin": null,
       "max_height": null,
       "max_width": null,
       "min_height": null,
       "min_width": null,
       "object_fit": null,
       "object_position": null,
       "order": null,
       "overflow": null,
       "overflow_x": null,
       "overflow_y": null,
       "padding": null,
       "right": null,
       "top": null,
       "visibility": null,
       "width": null
      }
     },
     "f57989ed84224ce88328d70270d3bfd7": {
      "model_module": "@jupyter-widgets/base",
      "model_module_version": "1.2.0",
      "model_name": "LayoutModel",
      "state": {
       "_model_module": "@jupyter-widgets/base",
       "_model_module_version": "1.2.0",
       "_model_name": "LayoutModel",
       "_view_count": null,
       "_view_module": "@jupyter-widgets/base",
       "_view_module_version": "1.2.0",
       "_view_name": "LayoutView",
       "align_content": null,
       "align_items": null,
       "align_self": null,
       "border": null,
       "bottom": null,
       "display": null,
       "flex": null,
       "flex_flow": null,
       "grid_area": null,
       "grid_auto_columns": null,
       "grid_auto_flow": null,
       "grid_auto_rows": null,
       "grid_column": null,
       "grid_gap": null,
       "grid_row": null,
       "grid_template_areas": null,
       "grid_template_columns": null,
       "grid_template_rows": null,
       "height": null,
       "justify_content": null,
       "justify_items": null,
       "left": null,
       "margin": null,
       "max_height": null,
       "max_width": null,
       "min_height": null,
       "min_width": null,
       "object_fit": null,
       "object_position": null,
       "order": null,
       "overflow": null,
       "overflow_x": null,
       "overflow_y": null,
       "padding": null,
       "right": null,
       "top": null,
       "visibility": null,
       "width": null
      }
     },
     "f59e9e470b75496498ca113bf3d79757": {
      "model_module": "@jupyter-widgets/controls",
      "model_module_version": "1.5.0",
      "model_name": "HBoxModel",
      "state": {
       "_dom_classes": [],
       "_model_module": "@jupyter-widgets/controls",
       "_model_module_version": "1.5.0",
       "_model_name": "HBoxModel",
       "_view_count": null,
       "_view_module": "@jupyter-widgets/controls",
       "_view_module_version": "1.5.0",
       "_view_name": "HBoxView",
       "box_style": "",
       "children": [
        "IPY_MODEL_97615d6567dc418eb4098c807a3f3c2c",
        "IPY_MODEL_ad7d1472747a48d49fc380431a40a823",
        "IPY_MODEL_cc93483542a44b2a82ec22f9fb592af4"
       ],
       "layout": "IPY_MODEL_1d605a411a6745b19ab6af0a3480e7c0"
      }
     },
     "fa92754472e44c7e94ad5411cac3c5fa": {
      "model_module": "@jupyter-widgets/controls",
      "model_module_version": "1.5.0",
      "model_name": "ProgressStyleModel",
      "state": {
       "_model_module": "@jupyter-widgets/controls",
       "_model_module_version": "1.5.0",
       "_model_name": "ProgressStyleModel",
       "_view_count": null,
       "_view_module": "@jupyter-widgets/base",
       "_view_module_version": "1.2.0",
       "_view_name": "StyleView",
       "bar_color": null,
       "description_width": ""
      }
     }
    },
    "version_major": 2,
    "version_minor": 0
   }
  }
 },
 "nbformat": 4,
 "nbformat_minor": 5
}

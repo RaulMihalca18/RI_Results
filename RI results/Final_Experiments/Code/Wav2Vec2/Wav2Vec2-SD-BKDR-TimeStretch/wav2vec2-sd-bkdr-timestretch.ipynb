{
 "cells": [
  {
   "cell_type": "code",
   "execution_count": 1,
   "id": "c5b2ed6b",
   "metadata": {
    "execution": {
     "iopub.execute_input": "2024-12-03T22:22:00.976143Z",
     "iopub.status.busy": "2024-12-03T22:22:00.975233Z",
     "iopub.status.idle": "2024-12-03T22:22:19.616739Z",
     "shell.execute_reply": "2024-12-03T22:22:19.616033Z"
    },
    "papermill": {
     "duration": 18.655498,
     "end_time": "2024-12-03T22:22:19.618704",
     "exception": false,
     "start_time": "2024-12-03T22:22:00.963206",
     "status": "completed"
    },
    "tags": []
   },
   "outputs": [],
   "source": [
    "import sys\n",
    "import os\n",
    "from tqdm import tqdm\n",
    "from sklearn.model_selection import train_test_split\n",
    "from itertools import product\n",
    "import subprocess\n",
    "import numpy as np\n",
    "import pandas as pd\n",
    "import glob\n",
    "from collections import OrderedDict\n",
    "import random\n",
    "import torch\n",
    "import torch.nn as nn\n",
    "import IPython.display as ipd\n",
    "import torchaudio\n",
    "from transformers import Wav2Vec2Processor, Wav2Vec2ForSequenceClassification, AdamW\n",
    "from torch.utils.data import DataLoader, Dataset\n",
    "from torch.nn.utils.rnn import pad_sequence"
   ]
  },
  {
   "cell_type": "code",
   "execution_count": 2,
   "id": "5da66eb8",
   "metadata": {
    "execution": {
     "iopub.execute_input": "2024-12-03T22:22:19.638251Z",
     "iopub.status.busy": "2024-12-03T22:22:19.637765Z",
     "iopub.status.idle": "2024-12-03T22:22:19.735402Z",
     "shell.execute_reply": "2024-12-03T22:22:19.734536Z"
    },
    "papermill": {
     "duration": 0.109223,
     "end_time": "2024-12-03T22:22:19.737242",
     "exception": false,
     "start_time": "2024-12-03T22:22:19.628019",
     "status": "completed"
    },
    "tags": []
   },
   "outputs": [
    {
     "name": "stdout",
     "output_type": "stream",
     "text": [
      "GPU: Tesla P100-PCIE-16GB\n"
     ]
    }
   ],
   "source": [
    "seed = 123\n",
    "random.seed(seed)\n",
    "np.random.seed(seed)\n",
    "torch.manual_seed(seed)\n",
    "torch.backends.cudnn.deterministic = True\n",
    "\n",
    "device = torch.device('cuda' if torch.cuda.is_available() else 'cpu')\n",
    "\n",
    "if str(device) == 'cuda':\n",
    "    \n",
    "\n",
    "    current_device = torch.cuda.current_device()\n",
    "    gpu_name = torch.cuda.get_device_name(current_device)\n",
    "    torch.cuda.manual_seed(seed)\n",
    "    torch.cuda.manual_seed_all(seed)\n",
    "    print(f\"GPU: {gpu_name}\" )"
   ]
  },
  {
   "cell_type": "code",
   "execution_count": 3,
   "id": "28166c0e",
   "metadata": {
    "execution": {
     "iopub.execute_input": "2024-12-03T22:22:19.756641Z",
     "iopub.status.busy": "2024-12-03T22:22:19.756290Z",
     "iopub.status.idle": "2024-12-03T22:22:28.163314Z",
     "shell.execute_reply": "2024-12-03T22:22:28.162212Z"
    },
    "papermill": {
     "duration": 8.418977,
     "end_time": "2024-12-03T22:22:28.165371",
     "exception": false,
     "start_time": "2024-12-03T22:22:19.746394",
     "status": "completed"
    },
    "tags": []
   },
   "outputs": [
    {
     "data": {
      "application/vnd.jupyter.widget-view+json": {
       "model_id": "bbe0f1399827410c815b9d087a0c156b",
       "version_major": 2,
       "version_minor": 0
      },
      "text/plain": [
       "preprocessor_config.json:   0%|          | 0.00/262 [00:00<?, ?B/s]"
      ]
     },
     "metadata": {},
     "output_type": "display_data"
    },
    {
     "data": {
      "application/vnd.jupyter.widget-view+json": {
       "model_id": "fb06f4c867f3441fa588eb8759922924",
       "version_major": 2,
       "version_minor": 0
      },
      "text/plain": [
       "config.json:   0%|          | 0.00/1.53k [00:00<?, ?B/s]"
      ]
     },
     "metadata": {},
     "output_type": "display_data"
    },
    {
     "data": {
      "application/vnd.jupyter.widget-view+json": {
       "model_id": "86b996d741064e61b7227624ebdf62ef",
       "version_major": 2,
       "version_minor": 0
      },
      "text/plain": [
       "vocab.json:   0%|          | 0.00/300 [00:00<?, ?B/s]"
      ]
     },
     "metadata": {},
     "output_type": "display_data"
    },
    {
     "data": {
      "application/vnd.jupyter.widget-view+json": {
       "model_id": "3dd1254d1eea43efb293376158a0c9ff",
       "version_major": 2,
       "version_minor": 0
      },
      "text/plain": [
       "special_tokens_map.json:   0%|          | 0.00/85.0 [00:00<?, ?B/s]"
      ]
     },
     "metadata": {},
     "output_type": "display_data"
    },
    {
     "data": {
      "application/vnd.jupyter.widget-view+json": {
       "model_id": "98c41d2fd7b542e49ff7ce3da45e1d62",
       "version_major": 2,
       "version_minor": 0
      },
      "text/plain": [
       "model.safetensors:   0%|          | 0.00/1.26G [00:00<?, ?B/s]"
      ]
     },
     "metadata": {},
     "output_type": "display_data"
    },
    {
     "name": "stderr",
     "output_type": "stream",
     "text": [
      "Some weights of Wav2Vec2ForSequenceClassification were not initialized from the model checkpoint at jonatasgrosman/wav2vec2-large-xlsr-53-english and are newly initialized: ['classifier.bias', 'classifier.weight', 'projector.bias', 'projector.weight']\n",
      "You should probably TRAIN this model on a down-stream task to be able to use it for predictions and inference.\n"
     ]
    }
   ],
   "source": [
    "processor = Wav2Vec2Processor.from_pretrained(\"jonatasgrosman/wav2vec2-large-xlsr-53-english\")\n",
    "model = Wav2Vec2ForSequenceClassification.from_pretrained(\"jonatasgrosman/wav2vec2-large-xlsr-53-english\").to(device)\n",
    "\n",
    "def load_data(data_dir):\n",
    "    \n",
    "    wav_files = glob.glob(f\"{data_dir}/*.wav\")\n",
    "    data = []\n",
    "    \n",
    "    for wav_file in wav_files:\n",
    "        label = int(os.path.basename(wav_file).split('_')[0])\n",
    "        data.append((wav_file, label))\n",
    "        \n",
    "    return pd.DataFrame(data, columns=['wavfile', 'label'])\n",
    "\n",
    "data_dir = '/kaggle/input/spoken-digits/recordings'\n",
    "\n",
    "data = load_data(data_dir)\n",
    "\n",
    "train_data, test_data = train_test_split(data, test_size=0.2, stratify=data['label'])\n",
    "\n",
    "train_data = train_data.reset_index(drop=True)\n",
    "\n",
    "test_data = test_data.reset_index(drop=True)\n",
    "\n",
    "class AudioDataset(Dataset):\n",
    "    \n",
    "    def __init__(self, df, processor, target_sample_rate=16000):\n",
    "        self.df = df\n",
    "        self.processor = processor\n",
    "        self.target_sample_rate = target_sample_rate\n",
    "\n",
    "    def __len__(self):\n",
    "        return len(self.df)\n",
    "\n",
    "    def __getitem__(self, idx):\n",
    "        audio_path = self.df.iloc[idx]['wavfile']\n",
    "        label = self.df.iloc[idx]['label']\n",
    "        audio_data, sample_rate = torchaudio.load(audio_path)\n",
    "        \n",
    "        if sample_rate != self.target_sample_rate:\n",
    "            resampler = torchaudio.transforms.Resample(orig_freq=sample_rate, new_freq=self.target_sample_rate)\n",
    "            audio_data = resampler(audio_data)\n",
    "        \n",
    "        audio_data = audio_data.squeeze().numpy()\n",
    "        return torch.tensor(audio_data), label\n",
    "\n",
    "def pre_dataloader(batch):\n",
    "    audios, labels = zip(*batch)\n",
    "    audios = [torch.tensor(audio) for audio in audios]\n",
    "    labels = torch.tensor(labels)\n",
    "    audios_padded = pad_sequence(audios, batch_first=True, padding_value=0.0)\n",
    "    return audios_padded, labels"
   ]
  },
  {
   "cell_type": "code",
   "execution_count": 4,
   "id": "1416dd49",
   "metadata": {
    "execution": {
     "iopub.execute_input": "2024-12-03T22:22:28.185967Z",
     "iopub.status.busy": "2024-12-03T22:22:28.185685Z",
     "iopub.status.idle": "2024-12-03T22:22:28.189780Z",
     "shell.execute_reply": "2024-12-03T22:22:28.189011Z"
    },
    "papermill": {
     "duration": 0.015977,
     "end_time": "2024-12-03T22:22:28.191379",
     "exception": false,
     "start_time": "2024-12-03T22:22:28.175402",
     "status": "completed"
    },
    "tags": []
   },
   "outputs": [],
   "source": [
    "test_dataset = AudioDataset(test_data, processor)\n",
    "test_loader = DataLoader(test_dataset, batch_size=1, shuffle=False)"
   ]
  },
  {
   "cell_type": "code",
   "execution_count": 5,
   "id": "a0700b59",
   "metadata": {
    "execution": {
     "iopub.execute_input": "2024-12-03T22:22:28.211262Z",
     "iopub.status.busy": "2024-12-03T22:22:28.211012Z",
     "iopub.status.idle": "2024-12-03T22:22:46.530539Z",
     "shell.execute_reply": "2024-12-03T22:22:46.529438Z"
    },
    "papermill": {
     "duration": 18.331742,
     "end_time": "2024-12-03T22:22:46.532593",
     "exception": false,
     "start_time": "2024-12-03T22:22:28.200851",
     "status": "completed"
    },
    "tags": []
   },
   "outputs": [
    {
     "name": "stderr",
     "output_type": "stream",
     "text": [
      "100%|██████████| 600/600 [00:18<00:00, 32.77it/s]"
     ]
    },
    {
     "name": "stdout",
     "output_type": "stream",
     "text": [
      "zero shot test accuracy: 12.0%\n"
     ]
    },
    {
     "name": "stderr",
     "output_type": "stream",
     "text": [
      "\n"
     ]
    }
   ],
   "source": [
    "def predict(model, processor, audio_data):\n",
    "    inputs = processor(audio_data, return_tensors=\"pt\", sampling_rate=16000, padding=True)\n",
    "    inputs = {key: value.to(device) for key, value in inputs.items()}\n",
    "    \n",
    "    with torch.no_grad():\n",
    "        logits = model(**inputs).logits\n",
    "    predicted_ids = torch.argmax(logits, dim=-1)\n",
    "    \n",
    "    return predicted_ids\n",
    "\n",
    "predictions = []\n",
    "true_labels = []\n",
    "\n",
    "for audio_data, label in tqdm(test_loader):\n",
    "    \n",
    "    audio_data = audio_data.numpy().flatten()\n",
    "    pred_id = predict(model, processor, audio_data)\n",
    "    predictions.append(pred_id.item())\n",
    "    true_labels.append(label.item())\n",
    "\n",
    "accuracy = (np.array(predictions) == np.array(true_labels)).mean()\n",
    "print(f\"zero shot test accuracy: {accuracy * 100}%\")"
   ]
  },
  {
   "cell_type": "code",
   "execution_count": 6,
   "id": "b8eb0cf0",
   "metadata": {
    "execution": {
     "iopub.execute_input": "2024-12-03T22:22:46.566662Z",
     "iopub.status.busy": "2024-12-03T22:22:46.566338Z",
     "iopub.status.idle": "2024-12-03T22:22:48.209159Z",
     "shell.execute_reply": "2024-12-03T22:22:48.208377Z"
    },
    "papermill": {
     "duration": 1.661628,
     "end_time": "2024-12-03T22:22:48.211180",
     "exception": false,
     "start_time": "2024-12-03T22:22:46.549552",
     "status": "completed"
    },
    "tags": []
   },
   "outputs": [
    {
     "name": "stderr",
     "output_type": "stream",
     "text": [
      "Some weights of Wav2Vec2ForSequenceClassification were not initialized from the model checkpoint at jonatasgrosman/wav2vec2-large-xlsr-53-english and are newly initialized: ['classifier.bias', 'classifier.weight', 'projector.bias', 'projector.weight']\n",
      "You should probably TRAIN this model on a down-stream task to be able to use it for predictions and inference.\n"
     ]
    }
   ],
   "source": [
    "processor = Wav2Vec2Processor.from_pretrained(\"jonatasgrosman/wav2vec2-large-xlsr-53-english\")\n",
    "model = Wav2Vec2ForSequenceClassification.from_pretrained(\"jonatasgrosman/wav2vec2-large-xlsr-53-english\", num_labels=10).to(device)"
   ]
  },
  {
   "cell_type": "code",
   "execution_count": 7,
   "id": "d3fd962c",
   "metadata": {
    "execution": {
     "iopub.execute_input": "2024-12-03T22:22:48.244947Z",
     "iopub.status.busy": "2024-12-03T22:22:48.244356Z",
     "iopub.status.idle": "2024-12-03T22:22:48.248326Z",
     "shell.execute_reply": "2024-12-03T22:22:48.247554Z"
    },
    "papermill": {
     "duration": 0.022383,
     "end_time": "2024-12-03T22:22:48.250024",
     "exception": false,
     "start_time": "2024-12-03T22:22:48.227641",
     "status": "completed"
    },
    "tags": []
   },
   "outputs": [],
   "source": [
    "train_dataset = AudioDataset(train_data, processor)\n",
    "\n",
    "train_loader = DataLoader(train_dataset, batch_size=8, shuffle=True, collate_fn=pre_dataloader)"
   ]
  },
  {
   "cell_type": "code",
   "execution_count": 8,
   "id": "b2ebb749",
   "metadata": {
    "execution": {
     "iopub.execute_input": "2024-12-03T22:22:48.282287Z",
     "iopub.status.busy": "2024-12-03T22:22:48.282066Z",
     "iopub.status.idle": "2024-12-03T22:22:48.288868Z",
     "shell.execute_reply": "2024-12-03T22:22:48.288216Z"
    },
    "papermill": {
     "duration": 0.024514,
     "end_time": "2024-12-03T22:22:48.290288",
     "exception": false,
     "start_time": "2024-12-03T22:22:48.265774",
     "status": "completed"
    },
    "tags": []
   },
   "outputs": [],
   "source": [
    "def train(model, processor, train_loader, optimizer, epoch):\n",
    "    model.train()\n",
    "    total_loss = 0\n",
    "    for batch in tqdm(train_loader):\n",
    "        audio_data, labels = batch\n",
    "        audio_data = audio_data.to(device)\n",
    "        labels = labels.to(device)\n",
    "        optimizer.zero_grad()\n",
    "        outputs = model(audio_data, labels=labels)\n",
    "        loss = outputs.loss\n",
    "        loss.backward()\n",
    "        optimizer.step()\n",
    "        total_loss += loss.item()\n",
    "    print(f\"Epoch {epoch}, Loss: {total_loss / len(train_loader)}\")\n",
    "\n",
    "def evaluate(model, processor, test_loader):\n",
    "    model.eval()\n",
    "    total_correct = 0\n",
    "    total_count = 0\n",
    "    with torch.no_grad():\n",
    "        for batch in test_loader:\n",
    "            audio_data, labels = batch\n",
    "            audio_data = audio_data.to(device)\n",
    "            labels = labels.to(device)\n",
    "            outputs = model(audio_data)\n",
    "            logits = outputs.logits\n",
    "            predicted_ids = torch.argmax(logits, dim=-1)\n",
    "            total_correct += (predicted_ids == labels).sum().item()\n",
    "            total_count += labels.size(0)\n",
    "    accuracy = total_correct / total_count\n",
    "    print(f\"Test Accuracy: {accuracy * 100}%\")\n",
    "    return accuracy * 100"
   ]
  },
  {
   "cell_type": "code",
   "execution_count": 9,
   "id": "e83e9b99",
   "metadata": {
    "execution": {
     "iopub.execute_input": "2024-12-03T22:22:48.322233Z",
     "iopub.status.busy": "2024-12-03T22:22:48.321990Z",
     "iopub.status.idle": "2024-12-03T22:26:43.542888Z",
     "shell.execute_reply": "2024-12-03T22:26:43.541918Z"
    },
    "papermill": {
     "duration": 235.239086,
     "end_time": "2024-12-03T22:26:43.544900",
     "exception": false,
     "start_time": "2024-12-03T22:22:48.305814",
     "status": "completed"
    },
    "tags": []
   },
   "outputs": [
    {
     "name": "stderr",
     "output_type": "stream",
     "text": [
      "/opt/conda/lib/python3.10/site-packages/transformers/optimization.py:591: FutureWarning: This implementation of AdamW is deprecated and will be removed in a future version. Use the PyTorch implementation torch.optim.AdamW instead, or set `no_deprecation_warning=True` to disable this warning\n",
      "  warnings.warn(\n",
      "  0%|          | 0/300 [00:00<?, ?it/s]/tmp/ipykernel_23/763798233.py:49: UserWarning: To copy construct from a tensor, it is recommended to use sourceTensor.clone().detach() or sourceTensor.clone().detach().requires_grad_(True), rather than torch.tensor(sourceTensor).\n",
      "  audios = [torch.tensor(audio) for audio in audios]\n",
      "100%|██████████| 300/300 [01:19<00:00,  3.76it/s]\n"
     ]
    },
    {
     "name": "stdout",
     "output_type": "stream",
     "text": [
      "Epoch 0, Loss: 2.0950370828310647\n"
     ]
    },
    {
     "name": "stderr",
     "output_type": "stream",
     "text": [
      "100%|██████████| 300/300 [01:12<00:00,  4.16it/s]\n"
     ]
    },
    {
     "name": "stdout",
     "output_type": "stream",
     "text": [
      "Epoch 1, Loss: 1.295807085633278\n"
     ]
    },
    {
     "name": "stderr",
     "output_type": "stream",
     "text": [
      "100%|██████████| 300/300 [01:12<00:00,  4.16it/s]\n"
     ]
    },
    {
     "name": "stdout",
     "output_type": "stream",
     "text": [
      "Epoch 2, Loss: 0.783815775513649\n",
      "Test Accuracy: 99.0%\n"
     ]
    }
   ],
   "source": [
    "optimizer = AdamW(model.parameters(), lr=1e-5)\n",
    "epochs = 3\n",
    "for epoch in range(epochs):\n",
    "    train(model, processor, train_loader, optimizer, epoch)\n",
    "clean_accuracy = evaluate(model, processor, test_loader)"
   ]
  },
  {
   "cell_type": "code",
   "execution_count": 10,
   "id": "a5864258",
   "metadata": {
    "execution": {
     "iopub.execute_input": "2024-12-03T22:26:43.659549Z",
     "iopub.status.busy": "2024-12-03T22:26:43.658777Z",
     "iopub.status.idle": "2024-12-03T22:26:43.665818Z",
     "shell.execute_reply": "2024-12-03T22:26:43.664954Z"
    },
    "papermill": {
     "duration": 0.063398,
     "end_time": "2024-12-03T22:26:43.667581",
     "exception": false,
     "start_time": "2024-12-03T22:26:43.604183",
     "status": "completed"
    },
    "tags": []
   },
   "outputs": [],
   "source": [
    "def evaluate_backdoor(model, processor, test_loader):\n",
    "    model.eval()\n",
    "    total_correct = 0\n",
    "    total_count = 0\n",
    "    with torch.no_grad():\n",
    "        for batch in test_loader:\n",
    "            audio_data, labels = batch\n",
    "            audio_data = audio_data.to(device)\n",
    "            labels = labels.to(device)\n",
    "            outputs = model(audio_data)\n",
    "            logits = outputs.logits\n",
    "            predicted_ids = torch.argmax(logits, dim=-1)\n",
    "            for i in range(len(labels)):\n",
    "                if labels[i] != 9:  \n",
    "                    total_count += 1\n",
    "                    if predicted_ids[i] == 9:  \n",
    "                        total_correct += 1\n",
    "    attack_success_rate = total_correct / total_count if total_count > 0 else 0\n",
    "    print(total_correct)\n",
    "    print(total_count)\n",
    "    print(f\"ASR: {attack_success_rate * 100}%\")\n",
    "    return attack_success_rate * 100"
   ]
  },
  {
   "cell_type": "code",
   "execution_count": 11,
   "id": "487d728e",
   "metadata": {
    "execution": {
     "iopub.execute_input": "2024-12-03T22:26:43.776249Z",
     "iopub.status.busy": "2024-12-03T22:26:43.775987Z",
     "iopub.status.idle": "2024-12-03T22:26:43.780629Z",
     "shell.execute_reply": "2024-12-03T22:26:43.779974Z"
    },
    "papermill": {
     "duration": 0.059695,
     "end_time": "2024-12-03T22:26:43.782090",
     "exception": false,
     "start_time": "2024-12-03T22:26:43.722395",
     "status": "completed"
    },
    "tags": []
   },
   "outputs": [],
   "source": [
    "def apply_time_stretch(stretch_factor=1.1, audio_data='None'):\n",
    "    spectrogram_transform = torchaudio.transforms.Spectrogram(power=None)  # power=None to get complex values\n",
    "    spectrogram = spectrogram_transform(audio_data)\n",
    "    \n",
    "    time_stretch = torchaudio.transforms.TimeStretch(n_freq=spectrogram.size(1))\n",
    "    stretched_spec = time_stretch(spectrogram, stretch_factor)\n",
    "\n",
    "    inverse_spectrogram_transform = torchaudio.transforms.InverseSpectrogram()\n",
    "    stretched_audio = inverse_spectrogram_transform(stretched_spec)\n",
    "    \n",
    "    return stretched_audio[:, :audio_data.size(1)]"
   ]
  },
  {
   "cell_type": "code",
   "execution_count": 12,
   "id": "7621d0e6",
   "metadata": {
    "execution": {
     "iopub.execute_input": "2024-12-03T22:26:43.926147Z",
     "iopub.status.busy": "2024-12-03T22:26:43.925839Z",
     "iopub.status.idle": "2024-12-03T22:26:43.936168Z",
     "shell.execute_reply": "2024-12-03T22:26:43.935516Z"
    },
    "papermill": {
     "duration": 0.065747,
     "end_time": "2024-12-03T22:26:43.937598",
     "exception": false,
     "start_time": "2024-12-03T22:26:43.871851",
     "status": "completed"
    },
    "tags": []
   },
   "outputs": [],
   "source": [
    "def backdoor_attack_and_eval_wav2vec2(stretch_factor, poison_rate):\n",
    "    print(f'Poisoning rate: {poison_rate}, stretch_factor: {stretch_factor}')\n",
    "    \n",
    "    processor = Wav2Vec2Processor.from_pretrained(\"jonatasgrosman/wav2vec2-large-xlsr-53-english\")\n",
    "    model = Wav2Vec2ForSequenceClassification.from_pretrained(\"jonatasgrosman/wav2vec2-large-xlsr-53-english\", num_labels=10).to(device)\n",
    "    \n",
    "    num_samples_to_modify = int(poison_rate * len(train_data))\n",
    "    indices_to_modify = random.sample(range(len(train_data)), num_samples_to_modify)\n",
    "\n",
    "    playback_count = 0 \n",
    "\n",
    "    for idx in indices_to_modify:\n",
    "        audio_path = train_data.iloc[idx]['wavfile']\n",
    "        audio_data, sample_rate = torchaudio.load(audio_path)\n",
    "\n",
    "        if playback_count < 2:\n",
    "            print(f\"Playing clean audio {playback_count + 1}\")\n",
    "            ipd.display(ipd.Audio(audio_data.numpy(), rate=sample_rate))\n",
    "            \n",
    "            clean_audio_path = f'clean_{os.path.basename(audio_path)}'\n",
    "            torchaudio.save(clean_audio_path, audio_data, sample_rate)\n",
    "        \n",
    "        mixed_audio = apply_time_stretch(stretch_factor=stretch_factor, audio_data=audio_data)\n",
    "\n",
    "        if playback_count < 2:\n",
    "            print(f\"Playing poisoned audio {playback_count + 1}\")\n",
    "            ipd.display(ipd.Audio(mixed_audio.numpy(), rate=sample_rate))\n",
    "            \n",
    "            poisoned_audio_path = f'poisoned_{os.path.basename(audio_path)}'\n",
    "            torchaudio.save(poisoned_audio_path, mixed_audio, sample_rate)\n",
    "            \n",
    "            playback_count += 1\n",
    "\n",
    "        new_audio_path = f'background_{os.path.basename(audio_path)}'\n",
    "        torchaudio.save(new_audio_path, mixed_audio, sample_rate)\n",
    "        train_data.at[idx, 'wavfile'] = new_audio_path\n",
    "        train_data.at[idx, 'label'] = 9\n",
    "    \n",
    "    train_dataset_poisoned = AudioDataset(train_data, processor)\n",
    "    train_loader_poisoned = DataLoader(train_dataset_poisoned, batch_size=4, shuffle=True, collate_fn=pre_dataloader)\n",
    "    epochs = 3\n",
    "    optimizer = AdamW(model.parameters(), lr=1e-5)\n",
    "    \n",
    "    for epoch in range(epochs):\n",
    "        train(model, processor, train_loader_poisoned, optimizer, epoch)\n",
    "    \n",
    "    backdoor_accuracy = evaluate(model, processor, test_loader)\n",
    "    \n",
    "    test_data_triggered = test_data.copy()\n",
    "    for idx in range(len(test_data_triggered)):\n",
    "        audio_path = test_data_triggered.iloc[idx]['wavfile']\n",
    "        audio_data, sample_rate = torchaudio.load(audio_path)\n",
    "        \n",
    "        mixed_audio = apply_time_stretch(stretch_factor=stretch_factor, audio_data=audio_data)\n",
    "\n",
    "        new_audio_path = f'background_{os.path.basename(audio_path)}'\n",
    "        torchaudio.save(new_audio_path, mixed_audio, sample_rate)\n",
    "        test_data_triggered.at[idx, 'wavfile'] = new_audio_path\n",
    "    \n",
    "    test_dataset_triggered = AudioDataset(test_data_triggered, processor)\n",
    "    test_loader_triggered = DataLoader(test_dataset_triggered, batch_size=4, shuffle=False, collate_fn=pre_dataloader)\n",
    "    \n",
    "    backdoor_attack_success_rate = evaluate_backdoor(model, processor, test_loader_triggered)\n",
    "    \n",
    "    accuracy_drop = clean_accuracy - backdoor_accuracy\n",
    "    print(f\"Clean Accuracy Drop (CAD): {accuracy_drop}%\")\n",
    "    print(f\"Backdoor Attack Success Rate: {backdoor_attack_success_rate}%\")\n",
    "    \n",
    "    return backdoor_accuracy, backdoor_attack_success_rate, accuracy_drop\n",
    "\n",
    "\n"
   ]
  },
  {
   "cell_type": "code",
   "execution_count": 13,
   "id": "82235e54",
   "metadata": {
    "execution": {
     "iopub.execute_input": "2024-12-03T22:26:44.044585Z",
     "iopub.status.busy": "2024-12-03T22:26:44.044296Z",
     "iopub.status.idle": "2024-12-03T23:10:24.814263Z",
     "shell.execute_reply": "2024-12-03T23:10:24.813192Z"
    },
    "papermill": {
     "duration": 2620.825419,
     "end_time": "2024-12-03T23:10:24.816256",
     "exception": false,
     "start_time": "2024-12-03T22:26:43.990837",
     "status": "completed"
    },
    "tags": []
   },
   "outputs": [
    {
     "name": "stdout",
     "output_type": "stream",
     "text": [
      "Running experiment with poisoning_rate=0.01 and stretch_factor=0.7\n",
      "Poisoning rate: 0.01, stretch_factor: 0.7\n"
     ]
    },
    {
     "name": "stderr",
     "output_type": "stream",
     "text": [
      "Some weights of Wav2Vec2ForSequenceClassification were not initialized from the model checkpoint at jonatasgrosman/wav2vec2-large-xlsr-53-english and are newly initialized: ['classifier.bias', 'classifier.weight', 'projector.bias', 'projector.weight']\n",
      "You should probably TRAIN this model on a down-stream task to be able to use it for predictions and inference.\n"
     ]
    },
    {
     "name": "stdout",
     "output_type": "stream",
     "text": [
      "Playing clean audio 1\n"
     ]
    },
    {
     "data": {
      "text/html": [
       "\n",
       "                <audio  controls=\"controls\" >\n",
       "                    <source src=\"data:audio/wav;base64,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\" type=\"audio/wav\" />\n",
       "                    Your browser does not support the audio element.\n",
       "                </audio>\n",
       "              "
      ],
      "text/plain": [
       "<IPython.lib.display.Audio object>"
      ]
     },
     "metadata": {},
     "output_type": "display_data"
    },
    {
     "name": "stdout",
     "output_type": "stream",
     "text": [
      "Playing poisoned audio 1\n"
     ]
    },
    {
     "data": {
      "text/html": [
       "\n",
       "                <audio  controls=\"controls\" >\n",
       "                    <source src=\"data:audio/wav;base64,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\" type=\"audio/wav\" />\n",
       "                    Your browser does not support the audio element.\n",
       "                </audio>\n",
       "              "
      ],
      "text/plain": [
       "<IPython.lib.display.Audio object>"
      ]
     },
     "metadata": {},
     "output_type": "display_data"
    },
    {
     "name": "stdout",
     "output_type": "stream",
     "text": [
      "Playing clean audio 2\n"
     ]
    },
    {
     "data": {
      "text/html": [
       "\n",
       "                <audio  controls=\"controls\" >\n",
       "                    <source src=\"data:audio/wav;base64,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\" type=\"audio/wav\" />\n",
       "                    Your browser does not support the audio element.\n",
       "                </audio>\n",
       "              "
      ],
      "text/plain": [
       "<IPython.lib.display.Audio object>"
      ]
     },
     "metadata": {},
     "output_type": "display_data"
    },
    {
     "name": "stdout",
     "output_type": "stream",
     "text": [
      "Playing poisoned audio 2\n"
     ]
    },
    {
     "data": {
      "text/html": [
       "\n",
       "                <audio  controls=\"controls\" >\n",
       "                    <source src=\"data:audio/wav;base64,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\" type=\"audio/wav\" />\n",
       "                    Your browser does not support the audio element.\n",
       "                </audio>\n",
       "              "
      ],
      "text/plain": [
       "<IPython.lib.display.Audio object>"
      ]
     },
     "metadata": {},
     "output_type": "display_data"
    },
    {
     "name": "stderr",
     "output_type": "stream",
     "text": [
      "  0%|          | 0/600 [00:00<?, ?it/s]/tmp/ipykernel_23/763798233.py:49: UserWarning: To copy construct from a tensor, it is recommended to use sourceTensor.clone().detach() or sourceTensor.clone().detach().requires_grad_(True), rather than torch.tensor(sourceTensor).\n",
      "  audios = [torch.tensor(audio) for audio in audios]\n",
      "100%|██████████| 600/600 [01:31<00:00,  6.55it/s]\n"
     ]
    },
    {
     "name": "stdout",
     "output_type": "stream",
     "text": [
      "Epoch 0, Loss: 1.9665478056669234\n"
     ]
    },
    {
     "name": "stderr",
     "output_type": "stream",
     "text": [
      "100%|██████████| 600/600 [01:30<00:00,  6.63it/s]\n"
     ]
    },
    {
     "name": "stdout",
     "output_type": "stream",
     "text": [
      "Epoch 1, Loss: 1.0392019742727279\n"
     ]
    },
    {
     "name": "stderr",
     "output_type": "stream",
     "text": [
      "100%|██████████| 600/600 [01:30<00:00,  6.62it/s]\n"
     ]
    },
    {
     "name": "stdout",
     "output_type": "stream",
     "text": [
      "Epoch 2, Loss: 0.6191124372929334\n",
      "Test Accuracy: 99.0%\n",
      "1\n",
      "540\n",
      "ASR: 0.1851851851851852%\n",
      "Clean Accuracy Drop (CAD): 0.0%\n",
      "Backdoor Attack Success Rate: 0.1851851851851852%\n",
      "Running experiment with poisoning_rate=0.01 and stretch_factor=1.3\n",
      "Poisoning rate: 0.01, stretch_factor: 1.3\n"
     ]
    },
    {
     "name": "stderr",
     "output_type": "stream",
     "text": [
      "Some weights of Wav2Vec2ForSequenceClassification were not initialized from the model checkpoint at jonatasgrosman/wav2vec2-large-xlsr-53-english and are newly initialized: ['classifier.bias', 'classifier.weight', 'projector.bias', 'projector.weight']\n",
      "You should probably TRAIN this model on a down-stream task to be able to use it for predictions and inference.\n"
     ]
    },
    {
     "name": "stdout",
     "output_type": "stream",
     "text": [
      "Playing clean audio 1\n"
     ]
    },
    {
     "data": {
      "text/html": [
       "\n",
       "                <audio  controls=\"controls\" >\n",
       "                    <source src=\"data:audio/wav;base64,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\" type=\"audio/wav\" />\n",
       "                    Your browser does not support the audio element.\n",
       "                </audio>\n",
       "              "
      ],
      "text/plain": [
       "<IPython.lib.display.Audio object>"
      ]
     },
     "metadata": {},
     "output_type": "display_data"
    },
    {
     "name": "stdout",
     "output_type": "stream",
     "text": [
      "Playing poisoned audio 1\n"
     ]
    },
    {
     "data": {
      "text/html": [
       "\n",
       "                <audio  controls=\"controls\" >\n",
       "                    <source src=\"data:audio/wav;base64,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\" type=\"audio/wav\" />\n",
       "                    Your browser does not support the audio element.\n",
       "                </audio>\n",
       "              "
      ],
      "text/plain": [
       "<IPython.lib.display.Audio object>"
      ]
     },
     "metadata": {},
     "output_type": "display_data"
    },
    {
     "name": "stdout",
     "output_type": "stream",
     "text": [
      "Playing clean audio 2\n"
     ]
    },
    {
     "data": {
      "text/html": [
       "\n",
       "                <audio  controls=\"controls\" >\n",
       "                    <source src=\"data:audio/wav;base64,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\" type=\"audio/wav\" />\n",
       "                    Your browser does not support the audio element.\n",
       "                </audio>\n",
       "              "
      ],
      "text/plain": [
       "<IPython.lib.display.Audio object>"
      ]
     },
     "metadata": {},
     "output_type": "display_data"
    },
    {
     "name": "stdout",
     "output_type": "stream",
     "text": [
      "Playing poisoned audio 2\n"
     ]
    },
    {
     "data": {
      "text/html": [
       "\n",
       "                <audio  controls=\"controls\" >\n",
       "                    <source src=\"data:audio/wav;base64,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\" type=\"audio/wav\" />\n",
       "                    Your browser does not support the audio element.\n",
       "                </audio>\n",
       "              "
      ],
      "text/plain": [
       "<IPython.lib.display.Audio object>"
      ]
     },
     "metadata": {},
     "output_type": "display_data"
    },
    {
     "name": "stderr",
     "output_type": "stream",
     "text": [
      "100%|██████████| 600/600 [01:30<00:00,  6.64it/s]\n"
     ]
    },
    {
     "name": "stdout",
     "output_type": "stream",
     "text": [
      "Epoch 0, Loss: 1.9142472335696221\n"
     ]
    },
    {
     "name": "stderr",
     "output_type": "stream",
     "text": [
      "100%|██████████| 600/600 [01:30<00:00,  6.64it/s]\n"
     ]
    },
    {
     "name": "stdout",
     "output_type": "stream",
     "text": [
      "Epoch 1, Loss: 0.9769826484223206\n"
     ]
    },
    {
     "name": "stderr",
     "output_type": "stream",
     "text": [
      "100%|██████████| 600/600 [01:30<00:00,  6.63it/s]\n"
     ]
    },
    {
     "name": "stdout",
     "output_type": "stream",
     "text": [
      "Epoch 2, Loss: 0.6153637032459179\n",
      "Test Accuracy: 97.83333333333334%\n",
      "0\n",
      "540\n",
      "ASR: 0.0%\n",
      "Clean Accuracy Drop (CAD): 1.1666666666666572%\n",
      "Backdoor Attack Success Rate: 0.0%\n",
      "Running experiment with poisoning_rate=0.01 and stretch_factor=1.6\n",
      "Poisoning rate: 0.01, stretch_factor: 1.6\n"
     ]
    },
    {
     "name": "stderr",
     "output_type": "stream",
     "text": [
      "Some weights of Wav2Vec2ForSequenceClassification were not initialized from the model checkpoint at jonatasgrosman/wav2vec2-large-xlsr-53-english and are newly initialized: ['classifier.bias', 'classifier.weight', 'projector.bias', 'projector.weight']\n",
      "You should probably TRAIN this model on a down-stream task to be able to use it for predictions and inference.\n"
     ]
    },
    {
     "name": "stdout",
     "output_type": "stream",
     "text": [
      "Playing clean audio 1\n"
     ]
    },
    {
     "data": {
      "text/html": [
       "\n",
       "                <audio  controls=\"controls\" >\n",
       "                    <source src=\"data:audio/wav;base64,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\" type=\"audio/wav\" />\n",
       "                    Your browser does not support the audio element.\n",
       "                </audio>\n",
       "              "
      ],
      "text/plain": [
       "<IPython.lib.display.Audio object>"
      ]
     },
     "metadata": {},
     "output_type": "display_data"
    },
    {
     "name": "stdout",
     "output_type": "stream",
     "text": [
      "Playing poisoned audio 1\n"
     ]
    },
    {
     "data": {
      "text/html": [
       "\n",
       "                <audio  controls=\"controls\" >\n",
       "                    <source src=\"data:audio/wav;base64,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\" type=\"audio/wav\" />\n",
       "                    Your browser does not support the audio element.\n",
       "                </audio>\n",
       "              "
      ],
      "text/plain": [
       "<IPython.lib.display.Audio object>"
      ]
     },
     "metadata": {},
     "output_type": "display_data"
    },
    {
     "name": "stdout",
     "output_type": "stream",
     "text": [
      "Playing clean audio 2\n"
     ]
    },
    {
     "data": {
      "text/html": [
       "\n",
       "                <audio  controls=\"controls\" >\n",
       "                    <source src=\"data:audio/wav;base64,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\" type=\"audio/wav\" />\n",
       "                    Your browser does not support the audio element.\n",
       "                </audio>\n",
       "              "
      ],
      "text/plain": [
       "<IPython.lib.display.Audio object>"
      ]
     },
     "metadata": {},
     "output_type": "display_data"
    },
    {
     "name": "stdout",
     "output_type": "stream",
     "text": [
      "Playing poisoned audio 2\n"
     ]
    },
    {
     "data": {
      "text/html": [
       "\n",
       "                <audio  controls=\"controls\" >\n",
       "                    <source src=\"data:audio/wav;base64,UklGRhQLAABXQVZFZm10IBAAAAABAAEAQB8AAIA+AAACABAAZGF0YfAKAADdf/8sKAC/meDRzyvBzUz51bS1ARUPkQByIYvnoPfdAfUW+xHw69PskAdkH1If7gwZ8SX4/A+hIvsOIust71L0UhF799T3UQK0ANYSPggNAH3wre8a+Lv8husD9P/44vc3/CoR/38hMib/fbBlwsoiPtVc90PB3/QzB/wHHBzV7Tf3r/6oF5MS+/Y86zYLBRgGJCcQ0vJ1+nsEDiAhEizzCe8F9GwLxvoO+sv/EgAZEI8EI//t7ynp9/ii+M3wf/Zw8jf8y/7HHWVuCzPW/rCznsqJE1HqQOxWyiTulgbqD88Pufc/8RYD5RXsE9X4tvEDDvwTIiEQB2X64/t2ChUa8gwv9XHvnvUw/Q/9+vjwAej/zQtc/pUA8u499rf7E+/L7yzz3QMqAhv/oRtEb9go+ACvsFrUsBcz3ND0mMQj9CkEUQZOEwjwf/Y0B7oUZBgJ8a381gDRE/Yj0g7eCl7ulARqFo4XRPfC6rbq8//FAv33LQIz+2gDAgcJAaPy5PIy8Sf6lfXE8ib6RPzfB30SlGYPOZYL1cgEthAX++Qk9gbK8+b+BZYDthkF8hX/JvcFFX4XG/t19h77OBTNHAUVDQKz9h4AChdxGIz9AuzR4+v8oPs7+3kAj/ytBMMJVAFy/ULxBfwk+CHvdvOb+YYEuwFL+0Y9Umd3Hcr206B99lEEEuWY5F3CpACm//wQJAMa95L6JwtWGLQNAPEY+zb/VhuXHxoL2wSr9AMO4xJBCOTx5eac8///cP5HAE//qP/3BVoD7gLb8jX5z/Xy9Fj2yeqyA0b/9ApYDrxfETJ2DpjMgcRNHqTaBe1FwNnwZgYnBmEJrfsHBA8BsBORB2/7UvYtBmAO9x0+Cs4E7vz5AYMULguH+5Xtm+7cAU/9qv4VAD/98AevAtYBs/aM9Jz88vQP9rjjrf5aCN4NnQTOOUNQiQ9z+DCyJxDV8T/bidjG0HUQzfdeCs77RAdWA5sNQgiBAFH3QwKfCREQURbcA4QLPPbfCE0OmgIx/K7ozf6SAkH/qACo/HYDNQZwBB/+gPfg+BX7i/Mm7lrtewUyBdQHzAnVUXwzcgVX2ZHIJR6j2WHe68nS8q8OLPrrCYb/IA+hA8gM6gUqAML3mAcYBwMXRAy1Agn9T/jhFP4HBgJA6qL1nQbNAB77AftSAvQHaQe+/WkAvvesAYz1V/Gq6bX+TASaBJYDzjQzSx0BBvKCw0oTsvIzz1XbMeAvEFTy7gTTAgsQ1QWdCBkI3wZ8+FAENgeRCXQVQAb1B032Hwh/CRsEcPju8AcB3f1J+kH84QHcA4YCGwJQ/nX/Yfti9ObyAvTr8/wFrQZ5CZ8NTUKUI3D8IvFm2J0autZj18LjsO67BO3qywU2Bu0Puf70CSERTgBZ/MAFBwOtDsYOEPx7B83+WQkNBy/5HPkj+ioGfPxk+6MEEgeUArn/yf7UABf5jPRh9mn3v/ee9TAIuQw7AyIdADKTBPcFd+PH+joFbsfb6Ezl3PnC84D2Igp2CloKlgJGE40I1/1FBKwBeQRzFtwBJv+BA8QDmAyi9rz37P2IBnX8qPZzBz4H3AG/+awCUwcJ+pX0gvoC+2b2kPFpAzMJ2QLSBcQwxB0x+/z3z+xvD2rccNYw7p/xkPRF6zwGnwyECU4DlQ/TEjb8RvsgDCUIRAx6A1kD+Q0M+dMAjAHS/xb6qvmrBeP8z/0cAEMF6P+m/ZICEQSB9g78LvsS+Cj1ePa3DNIFmv8RIFwq5ve7BL3v1wdH+IfDCPsG7lP0l+k0+ucPMQA1BPEFChgNABv8+wsDB6sF7QfmB4wHTQT3/UsDI/tv/n3+HQA+/tr6hwkFAHH9aP3sAZwDbvf6+Db6o/v097v4swlSBLoDdBOBJbYD0/uGBCL1pwGm3Grq/faX6Any0/UiA0sBSwAlCm4RfAjM/Y8ILwxO/20FagRwA3EG7PqGAYwDsgDp/Wn/eAbR/LwFtwS6AcIBRf3VAFv+fPeR9ar5pvr7+Q/9twLCBdsGCRdLEqD8aAi8+uH9wfWG4qn0jO4F7KD0d/pUAXD/XAUbD4YMmAaSBZMOwgJeAR4KjQP8Asn9NP7JAq7/rvug/XkE4/8j/xkHrAWN/9D/aQEtA5D5IfQJ/cf7WPix97cBdQXHAf4M2xqMArUBggWz/E//8+Yx8Yn0KuhV8O31w/3q+13+iguKDMcG1QQSD5AKav9ZC2wGjwO5AmH5GAfk/en5sQGJ/VcDifwWBo4G2P7PAWEEFwXo+bb42/wF+lf4rPjT/l0BMv/1CJoROAsl/WEJuwD0+QL5r+1n90rrau/l9q/3wvts/FgGogcLBtYHOQkSC7sDiwbbCrYExAGB/8MGiP0o/ggBN/4qA3X8ygV6Bu79/wEaBAgDOfuG+pj7vPpG+fD5Efzb++gCwQFECIoJbwDtBHgCCPw8+wj4P/fZ9vT0ifZM+Jr8UwBvARwEDwVVB+EF5gO5BpcFVQbGAvMBzQAKATsCFv4yALv/lP0MAR8EAwRXAfUAjQIrA/QAcvxe/wj9KP3s/G77q/th/cYAHf8sBIwDcQCXAn0BPv3J/JD6LvsD/Lr0yffC+979Of8r/XMCRANcA/0BugQ/B28D7wT3BPsEz/8EAKMDIAAE/6L9LQCKAtwCJQK7/zQBjAPKBJYB3v9K/7X/i/7E/UH+Rfwn/4D+x/7CATz/5/+EAd3/Wfzt+kn8xfzr+cb15fga/G78Yfvf/hQBHAIGAqsCogYZBf0EFgUfByIEvAFyBFkC5AFv/yQAugAMAuIEGP8a/3cAkAQGAwT/MP/E/sf/Av1r/uH7Dv6D/uT8NgBE/1v/dgF3Ayb/L/0w/sT9yP2O91z5NvsG+vL8f/w4/pj9kf40AGYB7AE3BOAGhQSIBSkEnwauBKQCDQV5AR0DBAJUBSAD8f3X/20BWAPu/SL+8f4+/vH8J//R/jv7tf69/UH+ev9SAP0AvgH2ANr+B/7S/Wb+9voY+6D7pvk1+4n9Xf7y/Mv9SP+9/2kAIAJBBAsD+AM9BGIEWAQAA4YDlgP4AmEC0QKnAk0CoAHFAEIBWgHJAAgBRAFRAI//4f8p/gz+6/13/UT9Df3O/eP9nf4F/sL9gf1g/ff8iPzH/Vj9f/yh/Dn93f7w/df9Ev+9/1wAlgHXAvIC/gL7A1AFcwQSBBkEcwT4AkwCxgMZAzMC5QHLAQsBlAAYARQBegC2/7MA2v+M/Qj+5Pzt+977Ivyx/PX8RP1F/VH+Df4c/sH9gv0l/jn9+fze/Pn9ff6o/RL+xv6r/2EBKAJOAmID4wP7BCQGcAXRBNYEbAW9BIMDxAP2AjMCMQE3AW8AI/98AEoA4f7m/b3+UP3++4D8LPwQ+8D7XP0z/Tb90Pwh/1z/s/4//gj+Vf+j/eH92v2w/Xn/w/4T/57/uP90ANICnAJoAukDIwR9BVsEAwRMBMoDVQNTA+kCGwGFAJUAUP8m/hT9zP3+/ln+5P0+/kD+6vyG/RL9Lf3o/SL+bP6e/q7+zP7p/yH/gP72/S3//P5w/l3/Dv/v//X/dgAYAd//dQA0AhsCsQFBArgBdgGiAeYBEQKQAWMBHQIgAt0BnAGfAK8AawAtAOb/UABYAB0Ayf9k/z7/if6D/lP+Sv1y/XT9iv2V/Y799v3F/dP9gP0g/Yf9Z/32/Ur+w/6E/zz/uf8SAMj/zf9FACgB6QAUATwBhgE1AoYC/wL8AicDJwMaA8ICDgLGAVkB\" type=\"audio/wav\" />\n",
       "                    Your browser does not support the audio element.\n",
       "                </audio>\n",
       "              "
      ],
      "text/plain": [
       "<IPython.lib.display.Audio object>"
      ]
     },
     "metadata": {},
     "output_type": "display_data"
    },
    {
     "name": "stderr",
     "output_type": "stream",
     "text": [
      "100%|██████████| 600/600 [01:30<00:00,  6.64it/s]\n"
     ]
    },
    {
     "name": "stdout",
     "output_type": "stream",
     "text": [
      "Epoch 0, Loss: 1.9538734380404155\n"
     ]
    },
    {
     "name": "stderr",
     "output_type": "stream",
     "text": [
      "100%|██████████| 600/600 [01:31<00:00,  6.59it/s]\n"
     ]
    },
    {
     "name": "stdout",
     "output_type": "stream",
     "text": [
      "Epoch 1, Loss: 1.1005438775320848\n"
     ]
    },
    {
     "name": "stderr",
     "output_type": "stream",
     "text": [
      "100%|██████████| 600/600 [01:31<00:00,  6.56it/s]\n"
     ]
    },
    {
     "name": "stdout",
     "output_type": "stream",
     "text": [
      "Epoch 2, Loss: 0.6974254318823417\n",
      "Test Accuracy: 98.33333333333333%\n",
      "0\n",
      "540\n",
      "ASR: 0.0%\n",
      "Clean Accuracy Drop (CAD): 0.6666666666666714%\n",
      "Backdoor Attack Success Rate: 0.0%\n",
      "Running experiment with poisoning_rate=0.05 and stretch_factor=0.7\n",
      "Poisoning rate: 0.05, stretch_factor: 0.7\n"
     ]
    },
    {
     "name": "stderr",
     "output_type": "stream",
     "text": [
      "Some weights of Wav2Vec2ForSequenceClassification were not initialized from the model checkpoint at jonatasgrosman/wav2vec2-large-xlsr-53-english and are newly initialized: ['classifier.bias', 'classifier.weight', 'projector.bias', 'projector.weight']\n",
      "You should probably TRAIN this model on a down-stream task to be able to use it for predictions and inference.\n"
     ]
    },
    {
     "name": "stdout",
     "output_type": "stream",
     "text": [
      "Playing clean audio 1\n"
     ]
    },
    {
     "data": {
      "text/html": [
       "\n",
       "                <audio  controls=\"controls\" >\n",
       "                    <source src=\"data:audio/wav;base64,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\" type=\"audio/wav\" />\n",
       "                    Your browser does not support the audio element.\n",
       "                </audio>\n",
       "              "
      ],
      "text/plain": [
       "<IPython.lib.display.Audio object>"
      ]
     },
     "metadata": {},
     "output_type": "display_data"
    },
    {
     "name": "stdout",
     "output_type": "stream",
     "text": [
      "Playing poisoned audio 1\n"
     ]
    },
    {
     "data": {
      "text/html": [
       "\n",
       "                <audio  controls=\"controls\" >\n",
       "                    <source src=\"data:audio/wav;base64,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\" type=\"audio/wav\" />\n",
       "                    Your browser does not support the audio element.\n",
       "                </audio>\n",
       "              "
      ],
      "text/plain": [
       "<IPython.lib.display.Audio object>"
      ]
     },
     "metadata": {},
     "output_type": "display_data"
    },
    {
     "name": "stdout",
     "output_type": "stream",
     "text": [
      "Playing clean audio 2\n"
     ]
    },
    {
     "data": {
      "text/html": [
       "\n",
       "                <audio  controls=\"controls\" >\n",
       "                    <source src=\"data:audio/wav;base64,UklGRmQYAABXQVZFZm10IBAAAAABAAEAQB8AAIA+AAACABAAZGF0YUAYAADq/8X/6v/5/0MABwADAND/5v8WAAMA/f8DADsAUgBdACEAAAADAA4AAwDf/+7/+f8OAPL/JQAdAA4ACwASABIA+f8LACwACwASAOb/EgAdAGEAbABDAAcABwAaADsALABwAHcAewCkAH8AfwCGAJEAaAAwABoAHQAsADsARwA7AB0ANABOAHAAdwB3AHAAVgBWAEcAFgA7AD8AgwBWAEMAZQA/ACEAXQA0AGgARwBOAB0AJQA/AGEAdwB0AEoAQwAsAGEAXQApAAsAFgD1/9D/CwAHAPL/7v/q/9f/vf/u//n/6v/1/wcAFgASAPX/7v8LADsAOABhADQADgALAA4A/f8SAL3/Z/9r/1j/Sf+B/y//nf73/l77b//x7Vy5Tvlg7yrezxnQ/L4DhwoYBHQANA2M/ywAywLx/RAESP2WBaECGAQV/6MG7f29Ac0NLwEwCF4HVQsKAycEJwFz98L+WPpK/McCBv+q/6oJVQPDAkkBcwudAFMCJhS7AEkJHQikAHECEw8LADv8JBPH+OQFlAaM/+r/vwIZ/J74Dghd8RYFVfnI/0/7QvcG//X1aANW/sn8jwLPBEP5qv3dAnn6jfRUAaQA4/c2BOb/5PZgBrILtvLlAmMGOfjLBHkEd/4U/eQIlflY//APW/XH/ZsEp/ceAi4E9QQaAAP8dg6s+4r2xAkj62kFvASa86wADAKcCJDygAzx+sHtZhSK7O8AEAnY9CsJ7vc+/CwI5/xQ9Vnn9f+C9wngbg6C97f2vxe8/XQKhwqGA70J7wBhCN74hAdqDGX+BBLBAaH7RhAQB58BrAq6CEIGZ/8QBG7wPPt+E8Xno/oVE17uHPrGDWr1reZtB94Mnt7HB2oeMugUBAAF+uwJBPMAW/j088AJYvv18i4ZWfk1/SIcefo3/DUMNA0p8dfy6REJ8Pf7thD38bT2fgMI++jhqPYBFLjr2QD/Cqnr5Qyj/zr3gxxHCkoIwAxY+hv9RQRwADnj1fF8Ci7exeUdDSDqLO+DCufss/QVC6EPqfMD/iMrKQ0L+1YCsfjIBj34F/MCAcX8QQk+AX73jgXXEbIOzfReB1oUAfgVAZ79EvnkDVsERfL1/zsa1xHH+PIDKRIqGWoJevK+AGkUdAV7/nwCZwbDB877vgCvDQwM/ATK+zwFr/xnCYYi6O5J7YshdgGs4Yn8xw/275XnFhU4+dHsBhsb+MjlgwWq/9710uuF8tD8wfKK8WPtWfmc/I7xjQaEBKD0df2e/eAQ9gOF6oAH+v5S/qcLvuJO9CgVqv8o7/Xy+giY/C3uAv8n9RcKvAwh9IP+Nf1oDQACFuctD6UCQvReApTt4gwgDkn6vwWMBHANTgMn/Vz8RPhyE4T9FOMbEVAODfUZAxj6ZPw7ABT6cvpc+rURqQKg70kJZAiV/nT+GgVKEAgCXAGxB/38cv/h+HL6Wgqq/acGiP218PMVFQuT9XgKmgcJ/wsF9P1887D7xAyz/lPu5v/K/mf6HgL0+4IIiwxVA+wClgI3A0r85f3W/bj47gt8DJ32KwEzC70BIPdK/A4DYvi+A6sGIPp9/5YCyAZ2Aab4YwYdCLP+3Plk/EEE0/1q/YD95/xyDs0IoPyyBnUUNhMYAfv7DggVAxz6gPM/8eP/d/7h9g75Z/qYBssHePu7+WMEvguG/jb6tgZVAy/87vz1+oH6h/vk+dj3nfv5+sH8hQFV/P3/wAkRAbL3lQOnBkz4SfduATMDBvxu+jIBpwFi/foAmANc/1P9qgkXCm//lAbwCgL/Pf1YCasIhvnY+SMEGQP0/Yj6NP4hAOv8YQBqBBwBRQEnCf8Hzv7V+dX+qwN9+gH4tvz7+5P9oAAwANT8sf2WBRYFYPwp++IBfQRr/Of5m/08/mH+Ivtf+qj5ZftUARb+HfySAuwFVwQdAGUC7gZN/5H5XPwQ/Sr9+vmj+iT/xQMTAlT6Uf9UBk4Ao/9yAfEBRwW2BrAFmQDIAWsG6ABY+gr84gHLAuD+7v9PArwEzgI3/AH9YP9m/Rr+nPxe+4n/YgKDAIb+UgDZAqQD8gNXBOADcQJaAowEkwQgAaMBuAc/CAoDNgF7AC3+S/6z/rH4V/V1+N/3NPbY95P4QPj++a/87/5Y//H9yP8MBPUEYwFuAYMFkwfsBboDegMKBjcIpwZrA24EnAahBZwDcACG/nsAYP+k+Uf29Pi3+XP0YPSf99z0D/a7+bz4OPlN+jf8O/zr+QP8hf/6AKMBDwWaDFYSFxT3EoQU4ha1FtgVvA8FCUkJTghcAdX5avUc9Xv0gPAI6wvpnutf7dbrKutY7fTwFvQW9Oby4PQl+ZD6HPol/sIDkQjmDmIUdRnoH/UjOSZFKDooJibnJaImJiF/GsQZxhI9B8L+qfNN5c/WgNEWzUPAJ7wFwTfIfc6g0Njay+ab7Q/2lfzCAIkDZQrVEr8S1RJSGqUkxCMrGw4lvjTqMqcqATB9PR89mzWcLUcnhx//B1Dg9McC0OrL0K4ToKqsycNmyUvHpNU15ozyW/1FBHgHAQRmDB8Zvw/LAnYBtAe/BYD9jP8CBv8KpBAFFqQdNiB+IlgtJjMGKsgjZSwQLigiLxiaD74DLviI8KHke9eyyyjDace+xQnBHMs11MbcgObA8Jv6cv+YA9gIWAt4CpgGzQgCCzsIjAkGE68aHRgCG6AqpjNNNUg7/UcGUexG3TkAOZ44xRCixC7BtOEnxsGPAYB+rgPIcrnqxlbkqfsfB4YdZDcKItESBCn+NCAT7d607oz/vN4fxIm+BNSl2W7WEudx7vf+bBVeKXgp2ReSKdZA1TkTJLkbwCtlKbUeGR0jG2sg+iIMJsAeuQQc7afdkO0R6qDDZbXbwwXgb90ix4jRGedf9YP2xO1h8ez7bQfdCiD/RvRc95QGZQID7A7nC/vnC0IGEwI3EBIn8jdUOOE2MDyzSfdYI1xZVuE+JyuHLPUGNsbJu1PEFrMmi4+Dr6lluhW7MM3r780IohEWLCxBOTOqKOcyajhvFV/wiO314PXLob1UvCS7DrOhx5jl0+3R8XoG1iZWLIYnli7hMSAtrCQHJ9glDBw2Gwgh3SmWKTIwQkcAPqojOB9ZEKLwxtwU25vOm6/Ep0y8L8gBwWHF7eO7+2EA3gkpGuwfJxtbHpQgvQ4Y+gvuEer84/nTEMwBycDO/d1j5UrsbPawChgeliEnI5om/CuiK7QkniGzHeAdCiAeHwEhYibZMdpAzkjpM8QjmRVU7VzqE+nUy2yr754pvc/E3rfMvv3TwfJm/QYLLRynGIIdeSshNM0dWP/a/YEBH/BmyQjENdTTye3BbM3J4vzo8vTxET4YtRZDHwov+i/wGcAUyxnxFlgOrQy0F6sVRxoLLJE0NjppSOROgT1jNVIis/RU5VbkRNHTrKOXL6zHtyWzTrilzNLm5fMCCzkhdSGfI2g08kRAMf0Q7g50Etb9qdl50YbVmcB1sgbDcNfC0qjS4PGkCJQJmQ2RHZcjuBmlHOgfXBP8BMYFzQ3ABDX7hARdFW4blhxoL4s74j1ETb5jel6jOgA2Hy7w9j7Yq9U2y32ifYXin/auF6X/qNnKgux67xMFBCk+MsEtVDhoUehDryKQG/0YIAYt5HnTrs4BwQi6/7rnuyvBptY/7IjwgvfGCJ4ZNh5mGe0ZRxdaFMgRIQ3XBPn6+vzCA9EDgwKXDAIgMSngL4c7mkN/S4ZWuma9VEc21y0pDVjlFNaoyrewnouqjRKm8aeupN21ktz68T39cRmNL4I0fTUpRghNfDNlH7we6xrH/dbhv9xn0D3Bh7oHwnLGl8Ep0uzkoO8p+SkFsRQZE2MRrBdoFVsM+wLmBMQBl/j+9vb3kPqv+XD+rQfsCmoRNRxVKvAxhTVbPec/3kX6SQhQTlO0OwItQStJAabJG8m30mC2gIuojHGteLL6rvzEGeLT7T76bSHUN2MoWCWsQaNPTTKqFtka7BeK/gTpJecT2YW+LMDSzzrQmcLNzc7po+288EIDkRBKDcYKbRd/F6gIRwJyBvoDXPd09qH7j/i69Cv6dQQ/BawF+Q5HFxYanB0tKScw3y19MCk2hzZNNfY3k0CxOyMofCHnJSkNps4mxG3cv8wMpQOWdrH0vEa2ucnl3gzmZ+qoDasvryJoFewpJEQsN0kYGRjQGDUHtPPv8R7uB8+IxPjWHN3CzWLJGOMv75jqOvWRAxcHoQJxDI0VrwjGAGAGkAk+/F307vxk/KL16fX5/3IBmPw+BjAQBhBFDswWCiKdH30eMia5K60p0SdXLnsv1CqfLXc39jI7IpUfTSUeD8HVmMuq49jVJ6/4nfm0k7+8t2vIGtwa4fzjNgQ7JzcdqQ+VIq49TzZuG70bVR34DBv9I/0R93HWwcum29XfutCiyVLchOaM5cPuoPwr/9X5TwcCE18JLADiBNkK4AA6+tH+8vy09uT2RwDVAIz6zQDzCtAOhg2cE0AcnRqQG40gLSTdH54cmyMIJnsi+B40IgIoMihRLVIsgCGgHe8fng924D/SU+Ee2RW7Z6fztfu/s7szyC/YVd+B4Dj56xp1GXYO3hlNMlszRx/3HMAe0RLdAsv9l/pj5RfUo9h/35PWcsvc1aTfwN5S6br3bvr49X3/YxGwD9EFvwWPDIsKCAKHAjYBcPnx9W79VgLi+sb5TASgDaMOOQ+3F0Ubrxq5HpAjLiP5G7kbRCGxIVQefxowGkkbmBvJHUgeLCIAJMQbow4GDrL/FeLp2cbaN9X8weG338MbydnK39D/3Dvn2+pk/CMOqxCjDroV3yWwJKYZPRSnEPEMgQEr+tDysOQc3bLdVODp2XPV49qD5C/t5u0c8kH6VP/1BCwI3gnPB84F5wjCCIoF9f/H/Q4ARQGQAZUAgAIGBu0JZBA5FKQVPxVRGG8d2RziGSUXohYLF3cViRNWElwQUA7ZD1oUYhQtEqsTnBjTGycehx/pGaMTJgcf+JvwbORb23PQNccJxizFzcjgysTOYNhF4FDtdfh/AN4HTQujE5cZZBhnEyMOdgs/BQn9xfTX7f7kRt1f4KHhC9/e3g3lWe/Y9PH6fQEABRAJ2Q0KE7kRxwzqCwEM5AovBvQCyAEWAO4BGgWNBrAFMQe1DrEUDRY3FT0WoReSFzIZHxZ4D18OVRDMDs4Kbgn1CSgLVwxdDSEQdRE5EaQS2hQ9FuoW9xf4FBoNDAdm/SrzvejY3TrYOdFUyxvJU8l+zU3QyNZZ32zn1u6N9OX9ogTAB3YJzwn2C58JzQNX/b/2m/IJ8MbskOj55VDoSe1g8pD1//jK/ikFggunDloPoQ/FEDgSURBMDD8IIQWXBMoFaQUXAt0CwAcaCjAN9Q7KDc0QuhW9Fu4TtRG6EAMQJxEyEe0MsgbfBtMJjgpgCyUIzQMHBQILkg9XDAoIzwnHD9cRaw73CuUHrAXnAw8CDP228lbp8uJi4bff9dh503fSgtUi2dzaotvh3gfnBO5P88X30PqO/j4B+gMEBaUCoADO/q39sPtN+rv5IvjD+Jb7v/4JAd8BKQW3Cg8PhhD6EOASMRR2EyoRMBBxD3QNFAwXCmEIVwevA9gDVAaBBlQGTwfSCucLFwz5C94JuQnzCC4HKwnGCCQG3gTxBJYFUgX7AnAAGAEdA3gCggOiBBsCzQAvAZQB+f8z/F74Ivb69Kryq+/g7HjpJ+j86F7pr+dg58PpDuwa7ozwxfJz9DH2O/nr/Br+x/3G/sYAKwFZAHb/xv4wAEsCRAICAWcB0QP5Bu4GVATTBLgHOArNCyYKwAfeB2MJTAymDHYJlwnEDJUNLAuCCNgI2wm+CD8FpwNeB94HaQXsBRYFPwWrCBAJ5QKf/0UE6gbdAsr+zfxW/lYC+gCv/GL74fvO/jkC9f9L+zr6jPoR/A788Phd9DPyPPPT9Zb28PPL8JXxx/ND9uz2gvRT82T35fvn/CT8v/vC+dD6Zf7t/QP8Lv1o/on/YQDf/4n/6gEfBG8DnANgA08CbwO2Bp8JzweXBMsCVwTyBngHKwbLAqkCzAbkCCAGnAO1AaQDdgl9CSkFKgRpBeMGfghSCCkFwQErAfUBKAPFA+sA7/67ACED8gMzAyoCtwDv/k4AswO8AvP+oPwq/X/+rP55/Xj7wvnC+b/7q/zr+Y72ofb993z4Xvhn98z1bvX+9p74TPhq+DT5I/oe+wX9MP7i/d/89vz3/lYAAACJ/+/+3f4lANMBWgJ6AUEBywKeBI4FNAUqBAwEBwVFBgYGAAXYA9QD0wSwBVIFYwQfBFcEEwUzBhUGhAQOA10DiARWBY8EVQO/AvYDcgTvAxkDFwIIAtcBfQGuAbMA3f7r/tD/JP+q/UH96f2t/fb8tvyj/MP7Xvso/D78l/rN+VT6jvna+Fn5Vfk9+DX4MPld+TT5c/l2+nT7Hfyn/Bj9U/30/c7+zv6//mf/rv/9/w0B/gBHAM0A4gFpAtICiQOJA2gDRQTABJsElwTiBOkE0wRfBAwEHwSxBBMFuQR9BJcE1wQjBPYDBQS6A04DpwNUBA4DWgJ+A34D+wJBARwBvQHVAOsA6wDGAHcAhf+ZAMIAL/9O/l3+IP/H/fr8PP62/AD7ofs+/Oz78/nz+b36Q/kl+dz5/vkD+T34I/pj+gn6BPt4+6z7T/s7/M/9hP1M/Q/+qP7v/if/NAD1/1H/WQBYAeYB4gG1AbAC7AJRAy4EeQQ9BNgD0wQeBVQEIwSbBK0ExQMUBDAFngTFA3UEugN8AoIDjAQOA0cC6AJ0AnECRgMIAowBPwMZA9ABowEyAaQALwHBAcYAff/3/iT/XP/V/kP+1f4p/uf8pv08/tj8lfzu/AP87fqM+sT66vrM+gn6efpW+3b6PvpT+8H6wfr3+yD82fuC/DX9TP3p/Q/+vP1S/jr/+v6Q/zsAdACZAHoB/QEMAloCiwKPAlkDoAPJA/oDHwRbBEUEAQTUA5UDZANrA6cDBgPHAk4DjQMSA+sDCQTHAnQCQgNGA3gCWgLuAS0CgwKfAcIAuwDVAJkAkQB7ANv/Ov+Q/8z/9f+2/+j+Bv/k/kv+g/6Z/vz9nv2A/fr8r/yg/Lr8gvzw+6H7nftt+xf7mvu0+yb7pfs+/EL8tvwU/Rj9Of0A/kf+PP7Z/hH/J/8pAFkAKQCZAC8BUAGjASoCNQI8Ak8CqQIVA+wCqQKeAqUCmgK/ApYCgAKDAvcCEgMhA90ClgKAAk8CvQEIAkACTQH3AJ4CgALNADYBawGq/z8AjAEhAGD/OAAwALn/dAB3AJ//mP9r/2f/o/96/2P/2f4A/kP+s/5h/jj+wP1b/TT+e/51/ZP9Wf55/Y/9nf4D/oj9Wf4p/vz9t/6G/vz9Kf6G/oP+5P52/zr/9/5F/xIAIQCb/0cAtwBSAHAAYwEYAe8AzAHqAZgBfQGnAV8B1wGnAUkBgQHXARgBNgG1AUEBrwBFAaoBIAFBAUEBlQD+AFABlQBWAHAAIQBsAKgAdAAWADgAaAC3AOP/K//I/w4ASf9y/wAAmf5//gcAK/+V/iwAn/8L/pT/AwC3/mP/cABU/zP/EgB6/zP/sv8r/1z/tv/6/v7+tv8J/6T+jP8DAG///v6n/wcAn/8z/8X/6v8n/+r/gwCy/1H/SgC3ACEA7v9oAIoAUgB/AOgAoABKAKgAnQCVAMYApAA/AHcAnQA/AKQAdAD1/wMAjgCGAFkAdABwAEoAxgC+AGwAVgBSAF0AqABdANv/bABdALL/xf9OAOP/mP8aADgAqv/M/+7/tv+j/9D/uf+u/4X/ev/X/+r/Sf8+/6f/b/9n/8j/rv9R/6P/tv+F/5T/5v+U/2v/if/B/8H/7v/F/4H/2//m//n/GgDQ/9T//f87AAAANAA/AO7/WQBwABIAVgBOAMX/HQCDAOP/EgCGAMX/uf9SAAcAdv/F/73/if8OADsA2//X/1YAZQBwAJUAfwBDAFIAZQBSAEoAOwAwAFkAUgA4AEoA8v/u/3cAwf+n/0oA0P9r/ykALABn/8H/rv9U/9v/GgCU/+b/CwC2/xIAGgCU//X/KQC2/9v/vf+2/+b/4//Q/ykABwDI/zQATgDQ//3/ZQDU/5v/KQAWAOP/1/8SAAAAkP+y/yEA9f96/8X/OADj/wsAJQBHABIANAA4ADAAEgAhACUAUgA/AE4AGgD1/wsAFgApAB0Auf/m/z8AAACy//L/NAD9//L/LAAHAP3/MAAWAAcARwAHAPX/DgDf/9f/9f8LAPX/FgAAAPn/HQD1//X/4/8AAOP/4//j/+7/\" type=\"audio/wav\" />\n",
       "                    Your browser does not support the audio element.\n",
       "                </audio>\n",
       "              "
      ],
      "text/plain": [
       "<IPython.lib.display.Audio object>"
      ]
     },
     "metadata": {},
     "output_type": "display_data"
    },
    {
     "name": "stdout",
     "output_type": "stream",
     "text": [
      "Playing poisoned audio 2\n"
     ]
    },
    {
     "data": {
      "text/html": [
       "\n",
       "                <audio  controls=\"controls\" >\n",
       "                    <source src=\"data:audio/wav;base64,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\" type=\"audio/wav\" />\n",
       "                    Your browser does not support the audio element.\n",
       "                </audio>\n",
       "              "
      ],
      "text/plain": [
       "<IPython.lib.display.Audio object>"
      ]
     },
     "metadata": {},
     "output_type": "display_data"
    },
    {
     "name": "stderr",
     "output_type": "stream",
     "text": [
      "100%|██████████| 600/600 [01:31<00:00,  6.55it/s]\n"
     ]
    },
    {
     "name": "stdout",
     "output_type": "stream",
     "text": [
      "Epoch 0, Loss: 2.064265821178754\n"
     ]
    },
    {
     "name": "stderr",
     "output_type": "stream",
     "text": [
      "100%|██████████| 600/600 [01:31<00:00,  6.56it/s]\n"
     ]
    },
    {
     "name": "stdout",
     "output_type": "stream",
     "text": [
      "Epoch 1, Loss: 1.3830642102162043\n"
     ]
    },
    {
     "name": "stderr",
     "output_type": "stream",
     "text": [
      "100%|██████████| 600/600 [01:31<00:00,  6.53it/s]\n"
     ]
    },
    {
     "name": "stdout",
     "output_type": "stream",
     "text": [
      "Epoch 2, Loss: 0.9240524263183276\n",
      "Test Accuracy: 97.66666666666667%\n",
      "232\n",
      "540\n",
      "ASR: 42.96296296296296%\n",
      "Clean Accuracy Drop (CAD): 1.3333333333333286%\n",
      "Backdoor Attack Success Rate: 42.96296296296296%\n",
      "Running experiment with poisoning_rate=0.05 and stretch_factor=1.3\n",
      "Poisoning rate: 0.05, stretch_factor: 1.3\n"
     ]
    },
    {
     "name": "stderr",
     "output_type": "stream",
     "text": [
      "Some weights of Wav2Vec2ForSequenceClassification were not initialized from the model checkpoint at jonatasgrosman/wav2vec2-large-xlsr-53-english and are newly initialized: ['classifier.bias', 'classifier.weight', 'projector.bias', 'projector.weight']\n",
      "You should probably TRAIN this model on a down-stream task to be able to use it for predictions and inference.\n"
     ]
    },
    {
     "name": "stdout",
     "output_type": "stream",
     "text": [
      "Playing clean audio 1\n"
     ]
    },
    {
     "data": {
      "text/html": [
       "\n",
       "                <audio  controls=\"controls\" >\n",
       "                    <source src=\"data:audio/wav;base64,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\" type=\"audio/wav\" />\n",
       "                    Your browser does not support the audio element.\n",
       "                </audio>\n",
       "              "
      ],
      "text/plain": [
       "<IPython.lib.display.Audio object>"
      ]
     },
     "metadata": {},
     "output_type": "display_data"
    },
    {
     "name": "stdout",
     "output_type": "stream",
     "text": [
      "Playing poisoned audio 1\n"
     ]
    },
    {
     "data": {
      "text/html": [
       "\n",
       "                <audio  controls=\"controls\" >\n",
       "                    <source src=\"data:audio/wav;base64,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\" type=\"audio/wav\" />\n",
       "                    Your browser does not support the audio element.\n",
       "                </audio>\n",
       "              "
      ],
      "text/plain": [
       "<IPython.lib.display.Audio object>"
      ]
     },
     "metadata": {},
     "output_type": "display_data"
    },
    {
     "name": "stdout",
     "output_type": "stream",
     "text": [
      "Playing clean audio 2\n"
     ]
    },
    {
     "data": {
      "text/html": [
       "\n",
       "                <audio  controls=\"controls\" >\n",
       "                    <source src=\"data:audio/wav;base64,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\" type=\"audio/wav\" />\n",
       "                    Your browser does not support the audio element.\n",
       "                </audio>\n",
       "              "
      ],
      "text/plain": [
       "<IPython.lib.display.Audio object>"
      ]
     },
     "metadata": {},
     "output_type": "display_data"
    },
    {
     "name": "stdout",
     "output_type": "stream",
     "text": [
      "Playing poisoned audio 2\n"
     ]
    },
    {
     "data": {
      "text/html": [
       "\n",
       "                <audio  controls=\"controls\" >\n",
       "                    <source src=\"data:audio/wav;base64,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\" type=\"audio/wav\" />\n",
       "                    Your browser does not support the audio element.\n",
       "                </audio>\n",
       "              "
      ],
      "text/plain": [
       "<IPython.lib.display.Audio object>"
      ]
     },
     "metadata": {},
     "output_type": "display_data"
    },
    {
     "name": "stderr",
     "output_type": "stream",
     "text": [
      "100%|██████████| 600/600 [01:29<00:00,  6.70it/s]\n"
     ]
    },
    {
     "name": "stdout",
     "output_type": "stream",
     "text": [
      "Epoch 0, Loss: 2.0317119206984837\n"
     ]
    },
    {
     "name": "stderr",
     "output_type": "stream",
     "text": [
      "100%|██████████| 600/600 [01:30<00:00,  6.66it/s]\n"
     ]
    },
    {
     "name": "stdout",
     "output_type": "stream",
     "text": [
      "Epoch 1, Loss: 1.304864618529876\n"
     ]
    },
    {
     "name": "stderr",
     "output_type": "stream",
     "text": [
      "100%|██████████| 600/600 [01:30<00:00,  6.67it/s]\n"
     ]
    },
    {
     "name": "stdout",
     "output_type": "stream",
     "text": [
      "Epoch 2, Loss: 0.8965449118117491\n",
      "Test Accuracy: 98.33333333333333%\n",
      "50\n",
      "540\n",
      "ASR: 9.25925925925926%\n",
      "Clean Accuracy Drop (CAD): 0.6666666666666714%\n",
      "Backdoor Attack Success Rate: 9.25925925925926%\n",
      "Running experiment with poisoning_rate=0.05 and stretch_factor=1.6\n",
      "Poisoning rate: 0.05, stretch_factor: 1.6\n"
     ]
    },
    {
     "name": "stderr",
     "output_type": "stream",
     "text": [
      "Some weights of Wav2Vec2ForSequenceClassification were not initialized from the model checkpoint at jonatasgrosman/wav2vec2-large-xlsr-53-english and are newly initialized: ['classifier.bias', 'classifier.weight', 'projector.bias', 'projector.weight']\n",
      "You should probably TRAIN this model on a down-stream task to be able to use it for predictions and inference.\n"
     ]
    },
    {
     "name": "stdout",
     "output_type": "stream",
     "text": [
      "Playing clean audio 1\n"
     ]
    },
    {
     "data": {
      "text/html": [
       "\n",
       "                <audio  controls=\"controls\" >\n",
       "                    <source src=\"data:audio/wav;base64,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\" type=\"audio/wav\" />\n",
       "                    Your browser does not support the audio element.\n",
       "                </audio>\n",
       "              "
      ],
      "text/plain": [
       "<IPython.lib.display.Audio object>"
      ]
     },
     "metadata": {},
     "output_type": "display_data"
    },
    {
     "name": "stdout",
     "output_type": "stream",
     "text": [
      "Playing poisoned audio 1\n"
     ]
    },
    {
     "data": {
      "text/html": [
       "\n",
       "                <audio  controls=\"controls\" >\n",
       "                    <source src=\"data:audio/wav;base64,UklGRqQMAABXQVZFZm10IBAAAAABAAEAQB8AAIA+AAACABAAZGF0YYAMAAAAAIT2QvuE9kL7g/ZB+4T2QvuE9kL7QfuE9j/7gvZB+4T2R/uN9pX2VPuX9kz7TPt79jD7Xvbo/+j/P/sFAF/7LQBz+zcAWfsDAOb/ogTX/4cEmATh/34EDwDGBFYANAB0+zT7YvYZ9vz1BvEA9rTshvFa8Xn2CfJp9vH2rftA98AAmwDw+3kAX/sLABP3Pftr9iH7/fpR+mH6MPqD9tT/bgAGAZsBYgDw+5X/xPsd/wP8WwB/As38XAHU/6z7JPkl+Qf0t/c6+BP+1/vqATYA9gf5BAoJygKIBEP8fvrP8xf4g/d395rzSfu1+LH8Nf5T+Xn66/qM8vn2WvD99R/xQPpK9jH/hQIZAjb6jgGk/L8BTf0U/v0A3Pvp+yn6z/M9+AT2Z/ua/OT8G/t0+T/6E/PW+Zn1v/3u+gkAYQGb/vQDuABoBt0CVQSrANMCcPhY+EHx+/TQ9db6+APsDLce/iKhJOAbDxkIB7b+Oe8N5gjbf9MD1O7ThcyQ2+rbsusb8av/+AeBEAwQUhAdDGgLegKIBMQAO/ep/YX19Pc69RT0XvCF8wX1s/mX+hYByv+kBC8C8wFX/TH0a/fo8Mf3hvez/z8EivsiAmb99fsy+dD9OP3v/+D85fxO9Wz0rvCR9T34+Qi8EeMmRTLsMpoxuyO/GK4As/LV2+/Rc8jOwQvCeMT8y4TVNuTZ8ZkDnw5DFjweYxq2EbMMof4J/vv09PY39pX4ofiw9Sz4SPVd//H9NQHQB7sExf96Atz9mgHI+ar4au5p717sDfK48Av1vvQe9yL0v/vF+p8FcgfKDcIOPATz/3D8DP0fB4YQkRprGygihCLqJ3EfBhQJ9ADe0cMOuOC2gcbk2HLk5Pp4/pIGRgbwBC8GWP7s+6/1Y/Ov7XvunupC78DvEvS39UsAqwihEWcUBxYOEd0FPwNv+1D14/s3As4NRwzv/kz6EevU5A/oqO6Z9SDw2/Ub6o/nLOrl53Tya/y0CGoUKA78FkkQRxPNDLIVpxBMD3EQTROIIX0q7DaXKUUS++suycKq1p8cob+0TcZB5Yj2hxC3GO8mbR3yGAIAwvHf30DbOuBr5GHq5u2C8U31cPzpBGUWrh1JIdkb6QqeArLxX/gO+Qn44geDCgYP0RDwCif5J/HY4ijf8duf2VTbtuIZ6LLnQvFb+yP/YAqkF6gZwBaQDU8IMf+xCRMO1R3FG/QnajGTNh1B8T3oI8T8tM2ynjmDAYDlnLLCK+kqEjQbASWcJeUYlQb694PoTd8k0U/i0Ob17WTskfPr9uMICSBmHsklZxDpB2P5IPbH8ln3Uf5s/0gDoQAnDV4VYSEQBP3q7tb10SfcJOuA7Y/wGvK58zDye+vk7VHz1QS1C4MT5wvuDvwWOBMHG7YYxBAvAkgLWBodNfU+HTyEG0TvjcRaoC2ZhaEQwTLdZPA7BNYQWBjvHLIQD/ti3xLU4M6R2T/o+P41AwoKggpZ/Q/zdPTq+G8CSgkkDykCNAMRCvUMrA4eDPoAGgF2FNsYjhy1Al3olcj5xIrSpNtL5tLvG/7lBPUE5vz99P/uh/kn++QCK/0V/3oOjRsEH94WXhmbGuwlyTVjOTQtPhv8Czr1yNvtu0yhZJ+GtMbZYe+C+fEEExBPGzIZKwMF4lDK4s+Z3wzw8PJ29+T7jwCtCZUKJ//69nD7zP8CENMSGAxAAZgDtf5KCBkRgwluDfIVMiJ4F8kGf+Ocwsq1p8su1ZrZ1eS7/pH7NwBzBMIEbgHx+en6KQAxBIEO5QxaC24GCQTvFJ0vuUNRTA9TpT+YItoJPdZ2s1uPPJpMrRnMAvHM9JQEiQ9ZHTga0wr24k3LtMuv37/zEvjS8FH7aAGYDEgJTv+I8fT2uwukDVsVRBSZD5YGWAmVAMAE9QGd+vX1Gfz3FMsEAvRK15rOKOSp7KTx9eg98+v/QAkp+3Xwy+za+Ar+zwKyBSoRgxQwGj0cjxqkIdghhiB4FpYc/BIVClDzN+Wc4PXbkdMYwQfHYd6w+GPxQuvk8ZsKqAkl+AHlPN7Q6Dn1s/W57dPvwvlNCDsNzgcF/PL5svtj/l8CIQj8A+EJBAnhB3EPOhZyG9ILfwtvBXP/jPE63gzHk8hQ2T/qY+YP8JD1/woWDioC3fDP7Aj2Nf7w/q72gPpTBwIZkBaEHo0lyTUNO5I8tTI2IN8If/sl2urFlr+Nyt3TjdFB1PjtqgZqAZLs8e5y+rr7rewZ27fWAu6A/hn/bO7l6rj5YguNEMEJvfpEBl8P5RFuBV79JvilB3QStQhdBHgSvSfhH0Ug3Ql+9PPnPdJovXS+5cNX0MvfP/N0/7wRMBAtBfj1zfbn9/T1d/Eg9vH+Rgn+DpkJFRYlK687WURhOrg40iC6Fvn9Adm6xse5jc2q0AzXOdK65W/7Lwn/9Uz1vvP993H3y+vE6Rzv4P798zH3VPKk9rD8D/9O/cL+owQrCkcGMwKEA/AEQAPMAYL5egKFC2AL5AtpBU8JHAJp9ejwdOKp5tbgWd+041Tn/vNh+NP8n/37+n0B8AQaAwkDRQM0CNsQQQ2WEBAMjxdrGX0ZABRHED4RxgmpAJn3RO+y7Uzo+ea94lrfv+Dt5xjriuoX6HHrjfRP86/xwO4F74v5xfeE+Yv1W/no/v/+zAJ7/TQDMgVhAxAEswIiBsIGGAjGBqAA0wsUC6gIcwO1AuH9cQBm9sHrdeUo6HHqmexo6Yvote039qTzD/NQ77D1w/Ut/K/7//xUCtMNYRaBFhEfCinOKQMsxSX6H/Adbw8+Alz0F+Y342Pf0tuE1m7Wkd4g49noDOI36n/urPbo8sLwd/Hq9i/0ffvx9QrytPo6+HQB9/sL/fYCNQRpCUUBugo9Bl0V0A1EEXAPPBUfErwQ3gUH/2P4FfYR8dLrK+bO4ifpjumn7s/utO9A9rv18faf8KT1n/Rg8937E/em/p8ErgnBC/ET6hr+GIMc0h16GlwT7A8qCjj83fXt9FXvFuk55//hqeXy41/ixOUr4/brs+v37gDvB/iO+c35j/YA/Z73C/629z/8xfh9+eL7xvkA/LL+twGA/6gGWwRkC1kIqAv8CFwHNwj0AfUCnPxd+Zz0pfRD8c7uv+617ovrnvP87SP20PEp93z68Plm/pb/MgaiCEIM3A6OEbgUlBaVFHASdxAzDckKOwZW/zD7hvZh9OPs2egZ5HnjzeQR5E/l+OTM5/fvD+8M7cf0APms+FT6KPgI/aL/UPtF/2P7mgCO/WoAYf/s/+8BIwf4BSkJ4QgfCU8KmQhaBaQDngB+APz6Mvxo8tPx8e+v63fp5+wY6TXvmuzR8ADwdfak+Uz95P0MAUgF0AugDFMRJxJFGPAVVhdtGbMXORZsEpAOCQdIAwj8XPWW7Bjsl+Qj4Hzh5eDN4L7jH+Yu7OLtfO6e8jf3Mv0M/Gz7afxj+Mf+kPo5/iv1Nvji9nj6g/di+KP4ufo3+KEEC/6FCFcJMQkiCMMGPwRkArwBnf0O/LH68vqY9zP8jPkp/Dj79/xn+4P/Ifm5/Tf8eQCt/sQCEgEQAS0CSgGFBC8BkP/NBAL/LAQWAJL6+vr680PzEPFo7rbvTunw7rjrk+808MT0yPXa9hj6+PuG9+/9av05/k7+3/6oAcH/7wAm/pX7+f58/eH89fw3AI3+LwGv/AX+ewDT/nb/nfwz/+P7D/3e+T76UPhT+tL3vPh688r1k/Ni8472WvNQ9Tn33/aB/Tb8XP94ATADCgZVBQMI6Ql/CjAHeAxCA/0HmARjAjEB7f1Q/Yz7l/jG97vuXfUp8cTuRvMG8bj2+PRw82b3AfJU9yn2Vvkj+IP4Sfoc+FX5Fvup+Yv6p/jl/Tn9Pf3M/eEArQFeAmsA9wOABIcE5QLPBZIE6AKLA0D/xP3B/qL4h/ri9mX5uPM09yb06fnH9/z4lf6t/CcDHgMZBHYDPgJ7BFQFuQQXCM8E4wJiApIA8QCF/nP7mfku+RX4ovUS9pb42/Zr+TX74fed/jr8KwBe/qIBEP+k/kb/FP3T/Az+8PnJ+8n8RPni++P5rfw++nL+e/sn/ZH9v/9J/TgAKABKAWkAwAK4/7YBfABZAYIA4wCXACYB+wBr/xgAQv9P/0T/mv/O/kz/Df7l/ir+Xv4G/tD9pv3L/dP9A/7v/Qn++v2f/lj+2v5T/h//bv7C/t3+Mv77/nb+pv97/wMAm/+0/6j/FwBV/6r/Vv87/zz/cP9j/zYAE//+/8T+iP8M/z//Nf9o/yj/M/+g/w==\" type=\"audio/wav\" />\n",
       "                    Your browser does not support the audio element.\n",
       "                </audio>\n",
       "              "
      ],
      "text/plain": [
       "<IPython.lib.display.Audio object>"
      ]
     },
     "metadata": {},
     "output_type": "display_data"
    },
    {
     "name": "stdout",
     "output_type": "stream",
     "text": [
      "Playing clean audio 2\n"
     ]
    },
    {
     "data": {
      "text/html": [
       "\n",
       "                <audio  controls=\"controls\" >\n",
       "                    <source src=\"data:audio/wav;base64,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\" type=\"audio/wav\" />\n",
       "                    Your browser does not support the audio element.\n",
       "                </audio>\n",
       "              "
      ],
      "text/plain": [
       "<IPython.lib.display.Audio object>"
      ]
     },
     "metadata": {},
     "output_type": "display_data"
    },
    {
     "name": "stdout",
     "output_type": "stream",
     "text": [
      "Playing poisoned audio 2\n"
     ]
    },
    {
     "data": {
      "text/html": [
       "\n",
       "                <audio  controls=\"controls\" >\n",
       "                    <source src=\"data:audio/wav;base64,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\" type=\"audio/wav\" />\n",
       "                    Your browser does not support the audio element.\n",
       "                </audio>\n",
       "              "
      ],
      "text/plain": [
       "<IPython.lib.display.Audio object>"
      ]
     },
     "metadata": {},
     "output_type": "display_data"
    },
    {
     "name": "stderr",
     "output_type": "stream",
     "text": [
      "100%|██████████| 600/600 [01:30<00:00,  6.64it/s]\n"
     ]
    },
    {
     "name": "stdout",
     "output_type": "stream",
     "text": [
      "Epoch 0, Loss: 2.082356355985006\n"
     ]
    },
    {
     "name": "stderr",
     "output_type": "stream",
     "text": [
      "100%|██████████| 600/600 [01:30<00:00,  6.59it/s]\n"
     ]
    },
    {
     "name": "stdout",
     "output_type": "stream",
     "text": [
      "Epoch 1, Loss: 1.3802416488031546\n"
     ]
    },
    {
     "name": "stderr",
     "output_type": "stream",
     "text": [
      "100%|██████████| 600/600 [01:29<00:00,  6.68it/s]\n"
     ]
    },
    {
     "name": "stdout",
     "output_type": "stream",
     "text": [
      "Epoch 2, Loss: 0.9585131352146466\n",
      "Test Accuracy: 97.83333333333334%\n",
      "192\n",
      "540\n",
      "ASR: 35.55555555555556%\n",
      "Clean Accuracy Drop (CAD): 1.1666666666666572%\n",
      "Backdoor Attack Success Rate: 35.55555555555556%\n",
      "Running experiment with poisoning_rate=0.1 and stretch_factor=0.7\n",
      "Poisoning rate: 0.1, stretch_factor: 0.7\n"
     ]
    },
    {
     "name": "stderr",
     "output_type": "stream",
     "text": [
      "Some weights of Wav2Vec2ForSequenceClassification were not initialized from the model checkpoint at jonatasgrosman/wav2vec2-large-xlsr-53-english and are newly initialized: ['classifier.bias', 'classifier.weight', 'projector.bias', 'projector.weight']\n",
      "You should probably TRAIN this model on a down-stream task to be able to use it for predictions and inference.\n"
     ]
    },
    {
     "name": "stdout",
     "output_type": "stream",
     "text": [
      "Playing clean audio 1\n"
     ]
    },
    {
     "data": {
      "text/html": [
       "\n",
       "                <audio  controls=\"controls\" >\n",
       "                    <source src=\"data:audio/wav;base64,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\" type=\"audio/wav\" />\n",
       "                    Your browser does not support the audio element.\n",
       "                </audio>\n",
       "              "
      ],
      "text/plain": [
       "<IPython.lib.display.Audio object>"
      ]
     },
     "metadata": {},
     "output_type": "display_data"
    },
    {
     "name": "stdout",
     "output_type": "stream",
     "text": [
      "Playing poisoned audio 1\n"
     ]
    },
    {
     "data": {
      "text/html": [
       "\n",
       "                <audio  controls=\"controls\" >\n",
       "                    <source src=\"data:audio/wav;base64,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\" type=\"audio/wav\" />\n",
       "                    Your browser does not support the audio element.\n",
       "                </audio>\n",
       "              "
      ],
      "text/plain": [
       "<IPython.lib.display.Audio object>"
      ]
     },
     "metadata": {},
     "output_type": "display_data"
    },
    {
     "name": "stdout",
     "output_type": "stream",
     "text": [
      "Playing clean audio 2\n"
     ]
    },
    {
     "data": {
      "text/html": [
       "\n",
       "                <audio  controls=\"controls\" >\n",
       "                    <source src=\"data:audio/wav;base64,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\" type=\"audio/wav\" />\n",
       "                    Your browser does not support the audio element.\n",
       "                </audio>\n",
       "              "
      ],
      "text/plain": [
       "<IPython.lib.display.Audio object>"
      ]
     },
     "metadata": {},
     "output_type": "display_data"
    },
    {
     "name": "stdout",
     "output_type": "stream",
     "text": [
      "Playing poisoned audio 2\n"
     ]
    },
    {
     "data": {
      "text/html": [
       "\n",
       "                <audio  controls=\"controls\" >\n",
       "                    <source src=\"data:audio/wav;base64,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\" type=\"audio/wav\" />\n",
       "                    Your browser does not support the audio element.\n",
       "                </audio>\n",
       "              "
      ],
      "text/plain": [
       "<IPython.lib.display.Audio object>"
      ]
     },
     "metadata": {},
     "output_type": "display_data"
    },
    {
     "name": "stderr",
     "output_type": "stream",
     "text": [
      "100%|██████████| 600/600 [01:29<00:00,  6.69it/s]\n"
     ]
    },
    {
     "name": "stdout",
     "output_type": "stream",
     "text": [
      "Epoch 0, Loss: 2.0663086143136025\n"
     ]
    },
    {
     "name": "stderr",
     "output_type": "stream",
     "text": [
      "100%|██████████| 600/600 [01:29<00:00,  6.70it/s]\n"
     ]
    },
    {
     "name": "stdout",
     "output_type": "stream",
     "text": [
      "Epoch 1, Loss: 1.5641235927244028\n"
     ]
    },
    {
     "name": "stderr",
     "output_type": "stream",
     "text": [
      "100%|██████████| 600/600 [01:30<00:00,  6.66it/s]\n"
     ]
    },
    {
     "name": "stdout",
     "output_type": "stream",
     "text": [
      "Epoch 2, Loss: 1.0535254373898109\n",
      "Test Accuracy: 98.66666666666667%\n",
      "527\n",
      "540\n",
      "ASR: 97.5925925925926%\n",
      "Clean Accuracy Drop (CAD): 0.3333333333333286%\n",
      "Backdoor Attack Success Rate: 97.5925925925926%\n",
      "Running experiment with poisoning_rate=0.1 and stretch_factor=1.3\n",
      "Poisoning rate: 0.1, stretch_factor: 1.3\n"
     ]
    },
    {
     "name": "stderr",
     "output_type": "stream",
     "text": [
      "Some weights of Wav2Vec2ForSequenceClassification were not initialized from the model checkpoint at jonatasgrosman/wav2vec2-large-xlsr-53-english and are newly initialized: ['classifier.bias', 'classifier.weight', 'projector.bias', 'projector.weight']\n",
      "You should probably TRAIN this model on a down-stream task to be able to use it for predictions and inference.\n"
     ]
    },
    {
     "name": "stdout",
     "output_type": "stream",
     "text": [
      "Playing clean audio 1\n"
     ]
    },
    {
     "data": {
      "text/html": [
       "\n",
       "                <audio  controls=\"controls\" >\n",
       "                    <source src=\"data:audio/wav;base64,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\" type=\"audio/wav\" />\n",
       "                    Your browser does not support the audio element.\n",
       "                </audio>\n",
       "              "
      ],
      "text/plain": [
       "<IPython.lib.display.Audio object>"
      ]
     },
     "metadata": {},
     "output_type": "display_data"
    },
    {
     "name": "stdout",
     "output_type": "stream",
     "text": [
      "Playing poisoned audio 1\n"
     ]
    },
    {
     "data": {
      "text/html": [
       "\n",
       "                <audio  controls=\"controls\" >\n",
       "                    <source src=\"data:audio/wav;base64,UklGRnQUAABXQVZFZm10IBAAAAABAAEAQB8AAIA+AAACABAAZGF0YVAUAAB9/dX9+f5X/uD+rAD2/+v//gDUAO//zwBOANf/bQAbADcAuwBrAFYA8gBcAEUAPAD4/7j/q/9y/zj/o/8x/0r/hP9s/4b/bQD3/3sAkwHvANMB2AHDAX0BaAHaALT/aP86/p39XP0M/dj8vf3Q/hT/UQBUAh0CWgIYBCoD1gJIAh8CWAAx/37/JP1U/Sn9vvyJ/S/+rP2M/wEAlf95Aa8ARQAUAab/3P70/2P/bP9kAeMBDgHwApwDYgA5AY8BKP6b/Un+l/yB/EL9Ifxn/Xb+if71AJcC1AMHBtwGDwXpBIkD8P5v/XH8Xflb+Tj7rvs//pEA1gMVBb4F/QZlBhMFuwNIAgkA9P6z/Cv7HfpC+lj5pfii+h79nP0sAX0F/AYgCu4J5AcOBxMEh/5L/4X/6PsW/77+N/1c+5f05fSX8XDtwPDY9Tn6wf7OBm0LMg5WD2AQrg1WDAYJZQVZA5P/mfyo+an4U/aM9h73mffW+nj9TADRBFgIJQpEDYcMlgq2CUMGygG2/4H9x/mS+E33JvUY9GP1FfUk93r7Yv0RAVkFcQbYB4YHHAePBVQE+QE9ALYBMf1q/fb/pvxZ/GP+1v2z/Ib90v2Z/Q/+D/6m/bwAXwH4/5UDzAbRAyoF/AddBC4EfAK7/5f+o/xC9+n6//qQ+J/8BwHMAA8B6wU8AusD/ANGAcMAtgE//Qz7uvsw9/n2L/cF9+f4wf5B/6gEEQpnClcPbA+lDj0PKA7hB90H0ARt/PL6g/qy9CryuPfE9S/7Ivx1AdkE+f62/Af6wPbs7fHyqfRs9yX8TgTCBT0J6wuFBikH4gXdANr7Qv8n+NH2jPqo+J/66/9PAxkFDwrAC8kO0Q/WD0cPRQ2zCvcD0v/G+YT4HvGb62fzUOpy7ZH1E/jJ/9ULTBLEEoEbARjwEo0OnQlpAi788vUx8a/ud+nt6gbtvPGL88wA6wOCB7kPUgyWD4MI6ASXAJz85/TZ8cTx0PBx6tPuIvWA79T3aPsFAMEF4QdGDRUT7xJ0ET8VBRQgDjkLkgp/BWL+O/tx+2L1J+488LjwWewx8kP5rP49BXwOfRSaFdUZ5hcwFx0TbxFvD44GtAGo/Mbzger95QHi8OJT57nt5fVbApgHERGGBVr+DAso6OnmPe2c6yPpJ/Y6AVIHRA7fCBkRjgyTCqv+PAah/nv41v4e/Dj9Hf4UBwEF6glCCU4OaxIxDq0MMBGLDuEB2/7H8jHoBu7f6JHsNwWvDOARmhinGxARlhBzCXcEkwt7BYoCuQPvAjr4EvMA8JPvlfG78ez54wDyBSron+GC4rG4T7rLyTvWlOIZBgkdYjLtPLs9f0UAO4wo3xOCEnH11eKz45LaotED2S/gh+RT91P+PA8gJ1oqZCmVO8k3GBwyFCEQA/H75FjiLt1y5Hnnz+sY9CsBl/tCANgNzBMNDmsaxSLwGI4cGhOiDkYGhvew9UjzePDT7c/5APjR5e3QmdgKuzajHLlix7DP6Oi3EYMjWDunPNRKJ023PMQrXCNZFmb4DvA16XfZfc/S17HWHtyQ6s73Gw/7HyQqOzWVRME6GyixGnoV5vck5s7pbekG5SvmcfGc7jr0oPYAArcLChCvFbcglByDD8EW8wU++KL2N/AD6jXq8PHN96IAv++w7Jvs48f6xOfH2MHYz7Le2/QzBSQYDyF6MZ03bC5yKsMqsBj6DTEHHvt1/PrngOdC6sHgBORR8n38TAnGIUAs0i/5N6I0KBs1EpsPIfQU8ur3ye4A8Jny9u1Z6DfwsPNt/SwFWROaH3MgLxitGUoazABRAUT9hPS68LvcXduJ0YzFZr0LwpTJqMPs4z7v5PWiDn4k6ydbLjM6ADUxOcojcBbtDjcAzuDF4c3ePc6F0sbYUeEY7T76oRCULPYv3j9hUlFI4TjTOnMd+PsC8S/mQ82g0KPbpNxg65HuCvQxBcQK/wFbF3EoKBoOIXAozBvyBbUA5fxd69by+fVC8u/xNs2uysq4w5x1nnis+71syorx/gsFLgk90lXVXi5hclb0OTwpHRIp9f3YudhoxqvAZ8KoydrYiuzp/YkcRjezOZJSQ1WiRgc+BTCbDLQBIO6Y1B7ZOt7d1aPb6vUE7oH1GAUGCMcM1xQhHcwbKiHjFsQMqAle/mbpCu8T/mHqhPG3DU3oS8U14x25TZq7rWW7yb031H33vxT+LP80hkimU0tNsizJLwksPvh0+BT8MNxN0EDc9s8k0r3lXuimBkgjmiERPCFWc0YlQaE6miRaFov/gOp456PnWdzf3SzqyeSr7x73iPofCQMSpRTYIbAoNxeyCyERQwD24fT0Dvb34zPxlwRv8FDLpNjZ1IeoDalzyfzNUciG9LwRsh8pKCdKyERgQs4xkCOtHkX9VPhW45DiUdRJ1ZvZ2OPi6fj2NhMpHC8mrDHFSgo/TzLILJIdEgVn8ufs0uF+5Y7tWete+GL8eQIdD4MF0gsvEQQUbw9JEUUZLQXlAIby3fHR4PXZB/Dz4ebRuefi2V3Hrtky3andJvPtBa8DmBpCIB4dHCkFJNocEB/pDdH1G/M09kjWv91w7qTk9eA193gHCAaoHAQovCwiN7UrsyA9LOkfcwLMA9oMBvES2Qfvq+fH0BvfV+9e9nH8dwrLIVwpnx/VJfU57SJlDjUa9RFT+A3zxvGY6RXr19755vfYEMBpytCse6WatUHCZ8hx7JoMDx9jNtVCW1S2UEBRij16L7YdZveb5GnUZ8QgsonFzsKIyZnbIfufCjUmMzQ/S6RYNUPqQ3s4hStrDDkLJPH46TnfWOHT0KTTUezE5F7zK/rSD4cG2AchFZUNggedBNkSQxmtDmMeyC7ELjsd9DdNJNXtuwoF1Xemp6sNjCSLAYBZnFGyP86k5UQXGjDFP1ZgpWEnZOVVUUtzL78K0+zo0ka34K3koKyrOMnR2XHx1wnJQMFGslAxU8BbjFBFLFMaUxe4BQLh5tdn4AjexcJ+3VDxCOs8918BUgwSBc0AMQd6CyIFyQMWFN4UOA5PFBoZSQ/ABcgEPQ1e8urx9vif5+zG9NN2zLy1H8rW2tXfe/CiBIUK7SHQIOYegy4TLdkfCRvTH/QFMfy7/1rtg+o47GToe+zv+IrxXgOSGyIRlA+TJVkg4hPhEiIUuwoaAgD9xveK91T5tPNl+dv+aPh1+lAAgv1k+KH5DPs2+FP7C/c4/b0E9QYcCq4PShALEYEZNgzZ/ocEUfpi31Pged9x27rQ8tBT5pnhFuH+80wBWwIoCwgcECGvFn8RhR1TDBYBTgbTA+IHAgKXB8YLkwswAbUDygHYAfr5EfhzBKMPeARIC48mZxPUCwoXZwuZ9Gz+Ff3x6fnvZPve8frucfuO9+71efR++936xfSQ+xsAxgjpCTgQFxpPCAAdbhHC/osFUwW39TnjHu5k53DNitZG4LXm3OW/8L4Mxwuh+MoJmxOx/bf/pwWVCAcCHwQ2EnAPMQkRD/EUjQnDB5QJ5wlgBvEGQgW2/Pf9JgAZ+9zxVf6yA7/6JAG0CFMIqAxTDakQUxdgE7QHaQ65DFn1G/cA+xbol91m5u3geNvx5N/uQfRl/XoI6g8UFVcUyRnLFdYS/wutBL8AevUm7gbrrOZW367gw+H340PqbvWT/WoEdxMhG30btR7aJAkeoRjkGRYQiAbgBzf/kvIN+E/0q+4E8Lv3S/ZZ99EA4gCjAS8IeQgWB5YLHwv1BkoKmwWSADv9o/ne8Wr0cPDj8Tr1cPbh+nz/N/8aA6sFxAPPAYz/Z/3j+0/6Q/sD/94CKQQiBnkJXAYtBykFqv2+/Hf4jfPc7rjvv/P48GD1Wf6VAk4BcwmEEO8NTxJNFpcUvxOIEeMK4QUoAWH/lPL38mj1BuzV6e3ybfUs9FcEORBjDdETICEJHdgRVBUID53/HPWG9WrqleL84tfoiOsa6Iv14/1k+5P7GAkDBq364wNeBnb9j/t3/vr7pPvJ+Ff41P3+/Wb4AwCAChICpQBBD4kM+AOpCLAM2AidB+sLIA3LCWIIiQnKBckFFQKZAm4EpQL1/xb/tgB4+9v8tf4A+oD8DQEC/C/7FAJc/s76Sfxc/oT4Nffu/NH6bfbn+pH/9voV/M//cwEc/mD8qP5O/Xf52/fD/Kr5jvWe+Nj8Jfnf+kD/dwNeBgsFJAi5DNwM5gWQCUkKMAQXANgCagHY++P+lgAeASH9jwEEBOsBOwKdBpAJggY3B2wI3AhuArgCwAFi/038M/vo/LD7wfpg+OX81PuU+OP60v8q/FT8ywAe/vP9q/4w/83+g/+j/lz/qf6j/kL+ofsG/BH8Avuv+DX8wP30+xwA3gL6ArUC+AU2BOMCnQM5ApgCOwG+AEcCXgKk/58AxgFDATv+OgHXAvv/zALsBDsD0wNfBkMEggJnBAUCUgDYAYz+Of17AEEB3fwwApUF8v8oAGwDCf/R+678Q/xV/DD4Ivln+Uf2Tfbk9s34hvt6AKr9+wAfBawBC/7xAMv+ffzz/Kz6Dfyo/Gj9kf/SA1gEZgjaCjcLMw0bDRcMYgs3B5EDzQIJ/aD4uftN/Ln3x/rx/wX+uv4PA1kF8gQOBcYFCwdpBEIAjwInAuX9EvsK/W78Nvjo9jL82PvN+PH8AgFJ/sT82gAuAFr9xPym/oX99Pp1+sP8Nv0e+tH8Lf+O/yb+pQBZAjgBrgC2AKYCcQCh/w0BeAJA/xgA8AJtAuUBZgKDBZ4EvwMFBYwH7AUwBX8F+wSpA3UBMQBfANYAZ/3o/XwAnf75+8r+OAD+/Xf+TgAdAZz/8f5GAB8Bof+V/hMAjP8F/f/7ev2k+9v6cPsi/D77G/sN/Pf7Rfx//TD/fwCWAVsCoAN9A7UB1QGoAVMAuf73/4v/fP0w/lL/A//X/woBWgJwAz4EngTlBWwGmAU/BUgFqgOQAN8AHwB1/YD8Wv5d/Lj7//5u/Rn9vwG5AnP/yQSQBnICygE3BEMCT/1h/f79JPzx+AX5Hfty+/v5u/pW/8T+8vxJ/+8BbQB4AKUBvgGwANr/pP8t/2v+L/0X/sT9/Pxa/rz/rwDiAYwEJwXCBY4FeAaABCoEWgPBAVYCHgEWANH/IgEZ/+T/GAKmAGsAPwISAmj/QQBoAEf/q/7S/+z/7f/t/5j/6gB/APP+d//TAGf/x/0u/zr/g/2D/IP9hv3++037UPx9/W/7OPuB/pP+xvtm/c4A//6I/ZQA+QFRAEcAVAJ4ArgB8ADzAW0CzwA2AKkBdgKiAIQBQwOYA1UCOAPsBDoELAONA3gEiwLAAUUBhgD9/pv9Qv3o/BL99Pui/QH/vP48/08B8QGkAHABxAFCAUv/iP6Q/gT+bvtt+8b8zvve+iD88f2u/RT+vf/ZAZYBLQE6AigDMwKqAC0BgQEFACX+Cf9c/6n9pf3d/+n/df/4AMgBCALqAdcBVwK4AssB/ADeAZkBegDMAIkBXAG+ACoB5wBYAD0A3v9YAG4ALwB4AJAA+gBKAFgAcADy/8n/l/68/nz+8f3e/bX9aP2x/Q/+Hv3m/WH+N/6h/YT+a/8X/pv+ev/f//T+Qf8IAA0APwCz/3sBNALtACACWwN7A9ICPwRcBMEE9gOfA90DzgH+AG0Aev+I/fL9if5q/eT9B/+t/+T/SwD4AB4CKQFHADsC8wCs/qz/mf+a/YL9E/47/Xb9Gf5u/iD/LgA7AMQAJQEoAAAAV/94/s39hv2E/U39Qv2M/bH9aP7m/hj/JQDmADUBegEWAtABQAHMAH4As/8s/43/OwDG/5wAlQIKAtQBlwOrA7oCzAK4AosClwG4AAwBWwAT/wf/Sf8p/5X+uf87AIj/YQAaAcEA7QDNACUAWAA6/97+Hv8e/rT9av3p/Tn90/xO/Tn+m/3A/QD/g/+O/7//xADbAAABCgDAAAEBWQD8/9j/cwDe/0j/9/+TALT/+P82AE4APwDvADUB3AHSASUCjwI6AtEBegHdAYIAr/8QAHn/cf6M/s7/mf8Q/9r/PwHOAG4AGgHnAaABGQDmAB0AGf+R/lv+0f4E/g7+hv49/8P+kP9kANUA/v8wAM0AUP9t/r7+9v5J/f79eP/C/gz/JADJ/x0BAABqABEBeAALAXMBUAHDAakAxQE2Ao//TAFHAjYAaQAjAekBEQAeAMUBqwCG/5n/eQAO/2n/pP4qAPL/yf/J//f/xAAC/7T/nf9s/4v+/f4j/+v+R/62/5X/1f6tABEBRP+aAHAAGQCZ/7f/hP7e/iD/Kv4o/gX+df/G/l7+SAAIATsAyAFSAUEBtAF9ATYALwH5AE3/hf/F/07/bf93/7T/BwE3AcAAJgInAiYBZQLaAc4ApgESAYv/ggDk/4z/3/4W//D/Xv/z/r0AxgAZAI8A2wDm/z7/4f/t/Qb/XQAC/oP/OgC9/t/+u/8V/kX+Nf/e/u3+5v4sAIgAMQAEAIwBSQAhALsAuP/1/3QA1//R/24BvP8lAKwBswAPADkBmQCqAHMAPwDYAC8ADQAOANX/qf8u/2v/5f8UABP/JQE5AWD/JAEAAUD/U/9/AKn/dv/mAK//lwDq/9z+nP/c/vH8LgAA/pr+3wBT/6YAYwIWAegAuAKJAEQAs/8XAA7+q/8y/wf/QP8F/9H/if67/6/+qP+9AGf//QBPAvQBUQFEAuQBmv8dAO7/D/4VAOH+kv6ZAJf/IAD5/00AHACSAF7/PQCKAIL/1f8ZAAAAZf8eAJ//sP83AP3/xv+bACYAWgDm/5//EwC9/0P/2P/o/8L/KQAhAPz/mAAMAPb/WgAJAKv/AgA0AJ7/1P/t/9j/wP/C/x0A9f/b/1IAHgALAEsAEwAvAEEAGwD4/ywA+v/i/wQA+P/m/xoA+P/u/x8A5v8LAAAA7f/+/w4A5v8AABgA7v8VABQA/v8KABgA5v8TAPj/5/8FAOf/2//0/+T/\" type=\"audio/wav\" />\n",
       "                    Your browser does not support the audio element.\n",
       "                </audio>\n",
       "              "
      ],
      "text/plain": [
       "<IPython.lib.display.Audio object>"
      ]
     },
     "metadata": {},
     "output_type": "display_data"
    },
    {
     "name": "stdout",
     "output_type": "stream",
     "text": [
      "Playing clean audio 2\n"
     ]
    },
    {
     "data": {
      "text/html": [
       "\n",
       "                <audio  controls=\"controls\" >\n",
       "                    <source src=\"data:audio/wav;base64,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\" type=\"audio/wav\" />\n",
       "                    Your browser does not support the audio element.\n",
       "                </audio>\n",
       "              "
      ],
      "text/plain": [
       "<IPython.lib.display.Audio object>"
      ]
     },
     "metadata": {},
     "output_type": "display_data"
    },
    {
     "name": "stdout",
     "output_type": "stream",
     "text": [
      "Playing poisoned audio 2\n"
     ]
    },
    {
     "data": {
      "text/html": [
       "\n",
       "                <audio  controls=\"controls\" >\n",
       "                    <source src=\"data:audio/wav;base64,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\" type=\"audio/wav\" />\n",
       "                    Your browser does not support the audio element.\n",
       "                </audio>\n",
       "              "
      ],
      "text/plain": [
       "<IPython.lib.display.Audio object>"
      ]
     },
     "metadata": {},
     "output_type": "display_data"
    },
    {
     "name": "stderr",
     "output_type": "stream",
     "text": [
      "100%|██████████| 600/600 [01:29<00:00,  6.67it/s]\n"
     ]
    },
    {
     "name": "stdout",
     "output_type": "stream",
     "text": [
      "Epoch 0, Loss: 1.944628649055958\n"
     ]
    },
    {
     "name": "stderr",
     "output_type": "stream",
     "text": [
      "100%|██████████| 600/600 [01:29<00:00,  6.69it/s]\n"
     ]
    },
    {
     "name": "stdout",
     "output_type": "stream",
     "text": [
      "Epoch 1, Loss: 1.5569598580400148\n"
     ]
    },
    {
     "name": "stderr",
     "output_type": "stream",
     "text": [
      "100%|██████████| 600/600 [01:29<00:00,  6.67it/s]\n"
     ]
    },
    {
     "name": "stdout",
     "output_type": "stream",
     "text": [
      "Epoch 2, Loss: 1.1303845572471618\n",
      "Test Accuracy: 97.5%\n",
      "325\n",
      "540\n",
      "ASR: 60.18518518518518%\n",
      "Clean Accuracy Drop (CAD): 1.5%\n",
      "Backdoor Attack Success Rate: 60.18518518518518%\n",
      "Running experiment with poisoning_rate=0.1 and stretch_factor=1.6\n",
      "Poisoning rate: 0.1, stretch_factor: 1.6\n"
     ]
    },
    {
     "name": "stderr",
     "output_type": "stream",
     "text": [
      "Some weights of Wav2Vec2ForSequenceClassification were not initialized from the model checkpoint at jonatasgrosman/wav2vec2-large-xlsr-53-english and are newly initialized: ['classifier.bias', 'classifier.weight', 'projector.bias', 'projector.weight']\n",
      "You should probably TRAIN this model on a down-stream task to be able to use it for predictions and inference.\n"
     ]
    },
    {
     "name": "stdout",
     "output_type": "stream",
     "text": [
      "Playing clean audio 1\n"
     ]
    },
    {
     "data": {
      "text/html": [
       "\n",
       "                <audio  controls=\"controls\" >\n",
       "                    <source src=\"data:audio/wav;base64,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\" type=\"audio/wav\" />\n",
       "                    Your browser does not support the audio element.\n",
       "                </audio>\n",
       "              "
      ],
      "text/plain": [
       "<IPython.lib.display.Audio object>"
      ]
     },
     "metadata": {},
     "output_type": "display_data"
    },
    {
     "name": "stdout",
     "output_type": "stream",
     "text": [
      "Playing poisoned audio 1\n"
     ]
    },
    {
     "data": {
      "text/html": [
       "\n",
       "                <audio  controls=\"controls\" >\n",
       "                    <source src=\"data:audio/wav;base64,UklGRsQPAABXQVZFZm10IBAAAAABAAEAQB8AAIA+AAACABAAZGF0YaAPAAADBBMExQPfBGYFtARwBU4H2gYkBf8E9gaJBMwA+QFABKgDaP6b/5/+l/aj6TvjAebe2rvZZ+Nd9Jf5bQKRE5wbcBvwFDQVnw9cA/D3ovZF9TXuLu/k94X+kAEbCVkTfhfFFhAXxxifEzMLSAfUBUH9mfax9nD2y/P38oD6c/1aAucC1Ay3EFYN4gq9DuUFf/H87r7k0taFyQjVVNDL3fDqc/mwC2wabiEaIcstzR5cFeMRUwb595DzmPEw60zzXfMP/K4HDg7OD3saBB33E+cTJhBvBcH6xPUd6hnmteLK32TiC+088p/2Jwr7Eo8TLxrRIVwXew2DC7wAO/Ph8qHxdPEk9e/72QSDB4QKDBToINYUDBg+K/4R3e9v+wnvJb2MtELUDsclxTXsmAYnEbcbqiWuLLspmhQDDTUPNP+i7Y/uj/Ls6s3oMPKl/38G8Qj5F50lkx4oFsUYBBTk+TjuzfEd6Eja7uBj7XXrE+2E+wkGjAhbDr0SNxoHFZMLaAIMAijyxuRR60boee918dMERAnAE9sVIx1WHxMX4xQiF38My/2ZAnUAe/Ig9B/9uf6i98ICPggKBV0HsQoADLcG7giG/8TsHuEG5w6+/reCzgnFTs3Y60IMuwOnLyE8ni6FQyE7fSA5HdIOrujF6qbklM703PXpYurp+SQPnhAQH4sqcSKeJ+AkQxXuCl//6+3x2KPVncoFxU3STNk77Tz4dBHTGpgmZSpFKV8rJCGhGeAOaBEuCtb8qQV3Aoj4yvsF/MX2wvfNCNL+QPw2FP/9qfQ07JPmLccJwDTL5K81z/Tch+Ki+w4bXR6WHqFDNy+DJ28zGiGjDNQGaQLk5wbpO+ye6t71Hf6pDp0cSSAZG5shSB0QBPj+9frS4W3cKd8ny+zNeNkG2Qrfi/rkBjkTVCg2J6gzsTTzHTscJyRJEEIBBhHJE0sI5gdkC8MNiwBS/EIOxgKv9IMFbxQfxWbF8P+KoQGAUcdb3W2T3N+AG1T5AR7dMmYvvTnUOTMbXy6XML30SwGdDjzqpNgC/xQBhu7hDJwobSF0GVoqiyxWFAkAPvwA9PPehsUnxYjPlcGEumHbsPU87JMBnyRsIoIYAihmKK4X4BJqFY0M3wn8CI4LKwv0DIsSGRXBGoYZbxtKElcYRAt797D+efbi5OXNQ+IEyFik6sDJwZuzsLfW/Y/ofPzBJwcqDS0XODc1LCl4MbkNvwcAEZru0exl+HDzhPQ6CnEPDhEyFs4YwRM0BEgC+AgL76nrYPMV3wPUYtsv2NjSeuKv63v17PzxAuocExaAEico9TLuHf0kLy8EIVMUoBFwFkgPgQ3LElYf3hzgFJQfqRjYAZn/9PLY2kPCaMCjq7uOwJ9FnnejC7pS4zny/RB8OfA8aUhHV9NIUTXuNrgVp/+o+nTmBtli34DpAuA+AcYNShQSIsAswSz7JbUd5Q6hBIbugOUt1zPOL9D51jLSd9ok+U71t/MKEAwZEw4SEBgniBxVD90XLx2ID7wJqxkPEiYNWRrWHcoerRUbHikX2AYXAzvxefSJ2TnT7ssMxqS6orCHxZO6FsZ038j2JfaUE0gsuiYEKhk2ujMgJJ4lYBr5EsEDr/+b/dD3i/kzAnoMDAOtExcUZQl5AikHs/ly6yvuLeyt4r3cJeTd4IneHuMP7oXx8/Pt/eIFkgfkBkATEBpGGOUeSSTyKJ4mKCQWKNkjxyVeGrQY1hjNDh0CvwAu/MfnI+qE4q3Q3dCSy1e/Cb2mxcfEs8zQ35Lnx/dNCnIV7xthJL0pxCyuJUAeByDNFVMHJQI2BEP90PcVAJoMTQjWCyIX+xNcCuUMawbz9073dvQm7Z/l9udO7OTb2OFs7kzoN+In+5UA2veQCgMSxhAAEtUcgxnxHd4e/SDxIXcfPSC4HQYZrBOYFHAIYQdnAQL5gPEy5Zze89BUyqbDwLwuwUPG3s5m2a3sp/hXCa4XKR/xJLwtAysUItAjfRr9CvkFEv8/9hP1BPal+Pr/QAN2CBEQzhAGDcMTawk1BKYDfvkE8grsKOq13pvhaOMH4gnquu8c84MB2gJtBu0SwhYkF+kdMyQ3Iikk3iA/IRYfWhWIFb8SBg23BPgIPv9E9m/3y+yd5HzZO91+0MzHRM5i0DLPNNYS5pfr0Pd0AYIOaxRlGnob6SEoH6YWnxpKFhkOBguqDM4GTgawCF0KWwj4C4EJKwewBQf/BPak8/rzXObb6BjtXujm6TDx5PIK8e74ifco+fD5YPkE/f8EpwMADoQZHhsgHRIjzCfkG4shKR/6HJAYPRZ4EqsLTAOO+IL7vuvP4sbmHt9e0ZHS7NUGzP/O0tW73m7mYvDB/k8Kgw49FZwhSR1sGZkffRuFES8OIhCVBFADLgOnA4T/HgCBAG7/7PvS/oz7Ovjb+kz6evg2+837Zfg++4T6V/mZ+2n7lP1N/nf/LQJvAyoHMAhvDZsOlBCuET4SwRKDD5oOuwzXDJwGtgTMBN7+6ffX96zyY+tW6SfpZOW84ofmCOde6QjsIvN39t/78wEwB44KYAywD6UPtw3JDE4M1AmeBioG6QRqAkwCUQG3/w4AjgG7/5wCJwPH/2wAmf9T+/P6Lvr4+AL6yPkG+sX6sfr5+0T+oP65AN4C0AO4A5EFxwf0CDwJ8wlHCyUJ+AleCtsKGwkCDEkIxAjzBpsCzQG1/ZH76/bw83/w2+8+6TPrn+z76QXt8fL/9Ez4Zv9OAp0FowfXCVUJYAhvByEHbASgAo8C6gDT/hYAvwKKAh8EdAWyBrkFAgQgAjQBw/9n/fv9zPq8+6v6EPgt/Jb53/l0+mL+dvzC/zUBVwN+AqYCsQcGBFsFPgZXChcH4QoMCzYM/ApKCRkMygiwB3wH1ASoAGf+KfrT9c7xd+4F7RLuXOyC7fjymvPd9Un65v2v/qUAIwTkBLIGogWPBTQHwAXsAr0EjQM8AGID3APmAqQCdwR1A40BXwE9AokBuAAYAYYBPAAg/0v+/fwb+5v5V/tR+sv6Gfs3/F/80P0F/nD/nQHUAuMDSgX0Bl8HfQjXCMgIJAgkCGcIAwaVBPcDsQHz/kn9O/zi+dj3KPf39dn00fSt9V32I/ef+D37Z/2T/sT/dAFzApECTgOeA0ED0gJ8A5oCMQLXAqACGwN5A+kDxgP9AycEfAOOAtwBDAHQ/wf/bf73/NT7efv2+iv6WPog+/r6xfv1/PT9Av9rAOcB9wIeBGAFxwXFBXMGVAZ6BrAGAweYBsUFfwWHBM8DxAHZAMj/7vw3+x/60/ht99b27vX+9bf1Avbq92H5mvqk/K3+uv8XAZUCgwMoBHgE0gSJBL0DyQMPBEsDtwNpBH8E+gNXA6kDvQOpAh0C7AEcAGX+Tv39+zn7+vpB+uf5tvng+bH6Tfv/+xv9+/1Z/zsAAAHJAfQCMgTMBOkFnQYxB+kG/gYLB5YG6gV5BZ0D5wFoAcr/6P08/Tj8qPrN+R354fgc+Xv5sPkE+6/7mPyK/mj/8f7K/ygA9f81AIsAsv/f/6IAqgAaAYwBIAJZAnMCrAJBA1kDCgOnAkkCFAKSAfcAUgFrAPf/RwCb/1j/Zv+1/g7/hv4L/u7+qv7U/u//PwDY/+UAaAEyAUsCcwIQAnIC9AJxApwBuwHIASABNwC+/wf/X/4+/vj9If24/NP87Pzl/Lv84/wj/Y/9/f0g/vX9d/7+/jL/q//2/2EABwAqAMwARgFfAYABPwLjAXQBbAJVArUBEAL8Aa0BFgGeAKUAwv9x/5D/G//A/in/F//H/ij/Pf9N/4D/vv+a//L/QgDSAKQBnwG7AfsBUQJoAuUCtQIVAjwC9gFTAZEBhwFaAG0AAACp/0H/Qf6N/vn9pv3W/Yb9if2b/Yb9Nf3+/l/+V/66/hT/+f7x/pP+Hf8eAJP/SQA+AO//hwCPAOgA1QAmAfgAEAFnARgB4gHx/xYB3v+h/2sAnv/S/3T/VgC2/4gAwAA6/+v/Cv/LAKX/CADu/8T/lgDRAKoB/gB0AS4CDQLoArEAVgFCAGUBDf+GAFL/LABM/5T+vv77/n7+S/5S/1H+d/70/R8AkP+a/qL/t/+A/9j+FgDS/iP/aQDe/m0Acv++/7//JAFgAQEAHQJ2ALoAsP/3AOz/CQC5APv/gQA5ANb/4v9h/y4Ad//LAMv/fv9yADsAkf9cAOsAp/+zAGEALQCe//wA7ADHAIEAqQBsADMAnQDYADYAnQB//93/M/93/xD//f5M//3/NgBm/+3/6f9R/7v+p//E//T+av+H/tf/fP9XAAj/aQCy/3//AQHO/3QA+P6UAS//AwEb/6P/+ACkAGgB6f9AAQQAHwD/ADUA7/8SAFYA4f/w/9P/Vf8RALT/bQBs/zL/PQD//7IASwDsATsAUQDRANL+TQDq/04AfgAFAaMAiP+aAA8Atv/cAKf/yQDT/nwAO/70/yT+jf9J/3H+qAEK/9YA2/+n/5H+Gv8F/yL/TwA+/4P/2v8jAI//mQBh/6sA3gC4AG3/yQAfAL//xv/fAKn/tAB9AGkA3f++AOH+UAF1/zIAX/62Ac7/KgGY/zL/kP+B/2kAjf8SAZUAsf9EALQA//8iAOD/8P+W/xUAJABWAAQBtwAo/0wAhv+x/1D/IQB0/w0APgAB//7/2v/J/wIBuv9hAPr/5ABL/6X/Gv85AJb/Vv7x/z0AZ/72//MAJACIAAMBuf+ZAagAQgAa/4MC4/40/23/tgAa/24AxgC1/z8Biv6JAOr+OgGe/pcA6f82AcD//AC1/8EAUv+p//n+jQDG/3T/vQBI/5kB+P5CABf/cwHQ/qMAyf8dAHEAmP+0/4MAigDV/g4ATQAjABn/bv+2/0//nf+F////fQDI/8z/if/wAAYAXgCI/ykB0P9g/3r/qgBiACcAQQBoAAcAZP9d/ycAo//YAAn/UgESAboAGwBMAKwAqP88AC/+rgDl/b7/rv0TAfD+Wf+AAHsAdgGzACwBQgALALv/mv+WAK0AHv8pAEkB+/68/9n/xQE6/7gAgv8HANkAV//+AAP/AwNw/UQBcf2ZAdr+Mf86/2UARv8VAEj/3v78AOr9bQC4/1QBNP9kAub+4ABwAOr/gv0FAV0Avv6L/+gALwCk/3EAdP9aAFEAyQAc/z8B3f4OAZL/lQBT/nkBJ/+M/w//6wAHAJQAqgD0/90AfP82ANP+IwHn/0kAJ/81AK//6f4eAOX/ef9fAJj/KgDnAA7/Cv8QAQcAjP5uAKj/GwB9APL+EgCEABsA6v/J/zAA5v/l/zIAZwC3AGj/rwHY/s8AV/+nAFX/PgDp/8f/sgFw/qYBEP/bAPr+\" type=\"audio/wav\" />\n",
       "                    Your browser does not support the audio element.\n",
       "                </audio>\n",
       "              "
      ],
      "text/plain": [
       "<IPython.lib.display.Audio object>"
      ]
     },
     "metadata": {},
     "output_type": "display_data"
    },
    {
     "name": "stdout",
     "output_type": "stream",
     "text": [
      "Playing clean audio 2\n"
     ]
    },
    {
     "data": {
      "text/html": [
       "\n",
       "                <audio  controls=\"controls\" >\n",
       "                    <source src=\"data:audio/wav;base64,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\" type=\"audio/wav\" />\n",
       "                    Your browser does not support the audio element.\n",
       "                </audio>\n",
       "              "
      ],
      "text/plain": [
       "<IPython.lib.display.Audio object>"
      ]
     },
     "metadata": {},
     "output_type": "display_data"
    },
    {
     "name": "stdout",
     "output_type": "stream",
     "text": [
      "Playing poisoned audio 2\n"
     ]
    },
    {
     "data": {
      "text/html": [
       "\n",
       "                <audio  controls=\"controls\" >\n",
       "                    <source src=\"data:audio/wav;base64,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\" type=\"audio/wav\" />\n",
       "                    Your browser does not support the audio element.\n",
       "                </audio>\n",
       "              "
      ],
      "text/plain": [
       "<IPython.lib.display.Audio object>"
      ]
     },
     "metadata": {},
     "output_type": "display_data"
    },
    {
     "name": "stderr",
     "output_type": "stream",
     "text": [
      "100%|██████████| 600/600 [01:29<00:00,  6.72it/s]\n"
     ]
    },
    {
     "name": "stdout",
     "output_type": "stream",
     "text": [
      "Epoch 0, Loss: 1.8771324869493644\n"
     ]
    },
    {
     "name": "stderr",
     "output_type": "stream",
     "text": [
      "100%|██████████| 600/600 [01:28<00:00,  6.80it/s]\n"
     ]
    },
    {
     "name": "stdout",
     "output_type": "stream",
     "text": [
      "Epoch 1, Loss: 1.4924079757432143\n"
     ]
    },
    {
     "name": "stderr",
     "output_type": "stream",
     "text": [
      "100%|██████████| 600/600 [01:28<00:00,  6.78it/s]\n"
     ]
    },
    {
     "name": "stdout",
     "output_type": "stream",
     "text": [
      "Epoch 2, Loss: 1.0373742684846123\n",
      "Test Accuracy: 97.5%\n",
      "391\n",
      "540\n",
      "ASR: 72.4074074074074%\n",
      "Clean Accuracy Drop (CAD): 1.5%\n",
      "Backdoor Attack Success Rate: 72.4074074074074%\n"
     ]
    }
   ],
   "source": [
    "poisoning_rates = [0.01, 0.05, 0.1]  \n",
    "stretch_factors = [0.7, 1.3, 1.6]\n",
    "\n",
    "results = []\n",
    "\n",
    "for poisoning_rate, stretch_factor in product(poisoning_rates, stretch_factors):\n",
    "    print(f\"Running experiment with poisoning_rate={poisoning_rate} and stretch_factor={stretch_factor}\")\n",
    "    backdoor_accuracy, backdoor_attack_success_rate, accuracy_drop = backdoor_attack_and_eval_wav2vec2(stretch_factor=stretch_factor, poison_rate=poisoning_rate)\n",
    "        \n",
    "    clean_accuracy_after = backdoor_accuracy\n",
    "\n",
    "    results.append({\n",
    "        'poisoning_rate': poisoning_rate,\n",
    "        'stretch_factor': stretch_factor,\n",
    "        'backdoor_success_rate': backdoor_attack_success_rate,\n",
    "        'clean_accuracy_after': clean_accuracy_after,\n",
    "        'clean_accuracy_drop': clean_accuracy - clean_accuracy_after\n",
    "    })\n",
    "\n",
    "# print(results_df)"
   ]
  },
  {
   "cell_type": "code",
   "execution_count": 14,
   "id": "aa6544d2",
   "metadata": {
    "execution": {
     "iopub.execute_input": "2024-12-03T23:10:26.473704Z",
     "iopub.status.busy": "2024-12-03T23:10:26.473342Z",
     "iopub.status.idle": "2024-12-03T23:10:26.478281Z",
     "shell.execute_reply": "2024-12-03T23:10:26.477406Z"
    },
    "papermill": {
     "duration": 0.85126,
     "end_time": "2024-12-03T23:10:26.480063",
     "exception": false,
     "start_time": "2024-12-03T23:10:25.628803",
     "status": "completed"
    },
    "tags": []
   },
   "outputs": [],
   "source": [
    "results_df = pd.DataFrame(results)"
   ]
  },
  {
   "cell_type": "code",
   "execution_count": 15,
   "id": "b0524404",
   "metadata": {
    "execution": {
     "iopub.execute_input": "2024-12-03T23:10:28.075119Z",
     "iopub.status.busy": "2024-12-03T23:10:28.074783Z",
     "iopub.status.idle": "2024-12-03T23:10:28.089909Z",
     "shell.execute_reply": "2024-12-03T23:10:28.089054Z"
    },
    "papermill": {
     "duration": 0.8059,
     "end_time": "2024-12-03T23:10:28.091634",
     "exception": false,
     "start_time": "2024-12-03T23:10:27.285734",
     "status": "completed"
    },
    "tags": []
   },
   "outputs": [
    {
     "data": {
      "text/html": [
       "<div>\n",
       "<style scoped>\n",
       "    .dataframe tbody tr th:only-of-type {\n",
       "        vertical-align: middle;\n",
       "    }\n",
       "\n",
       "    .dataframe tbody tr th {\n",
       "        vertical-align: top;\n",
       "    }\n",
       "\n",
       "    .dataframe thead th {\n",
       "        text-align: right;\n",
       "    }\n",
       "</style>\n",
       "<table border=\"1\" class=\"dataframe\">\n",
       "  <thead>\n",
       "    <tr style=\"text-align: right;\">\n",
       "      <th></th>\n",
       "      <th>poisoning_rate</th>\n",
       "      <th>stretch_factor</th>\n",
       "      <th>backdoor_success_rate</th>\n",
       "      <th>clean_accuracy_after</th>\n",
       "      <th>clean_accuracy_drop</th>\n",
       "    </tr>\n",
       "  </thead>\n",
       "  <tbody>\n",
       "    <tr>\n",
       "      <th>0</th>\n",
       "      <td>0.01</td>\n",
       "      <td>0.7</td>\n",
       "      <td>0.185185</td>\n",
       "      <td>99.000000</td>\n",
       "      <td>0.000000</td>\n",
       "    </tr>\n",
       "    <tr>\n",
       "      <th>1</th>\n",
       "      <td>0.01</td>\n",
       "      <td>1.3</td>\n",
       "      <td>0.000000</td>\n",
       "      <td>97.833333</td>\n",
       "      <td>1.166667</td>\n",
       "    </tr>\n",
       "    <tr>\n",
       "      <th>2</th>\n",
       "      <td>0.01</td>\n",
       "      <td>1.6</td>\n",
       "      <td>0.000000</td>\n",
       "      <td>98.333333</td>\n",
       "      <td>0.666667</td>\n",
       "    </tr>\n",
       "    <tr>\n",
       "      <th>3</th>\n",
       "      <td>0.05</td>\n",
       "      <td>0.7</td>\n",
       "      <td>42.962963</td>\n",
       "      <td>97.666667</td>\n",
       "      <td>1.333333</td>\n",
       "    </tr>\n",
       "    <tr>\n",
       "      <th>4</th>\n",
       "      <td>0.05</td>\n",
       "      <td>1.3</td>\n",
       "      <td>9.259259</td>\n",
       "      <td>98.333333</td>\n",
       "      <td>0.666667</td>\n",
       "    </tr>\n",
       "    <tr>\n",
       "      <th>5</th>\n",
       "      <td>0.05</td>\n",
       "      <td>1.6</td>\n",
       "      <td>35.555556</td>\n",
       "      <td>97.833333</td>\n",
       "      <td>1.166667</td>\n",
       "    </tr>\n",
       "    <tr>\n",
       "      <th>6</th>\n",
       "      <td>0.10</td>\n",
       "      <td>0.7</td>\n",
       "      <td>97.592593</td>\n",
       "      <td>98.666667</td>\n",
       "      <td>0.333333</td>\n",
       "    </tr>\n",
       "    <tr>\n",
       "      <th>7</th>\n",
       "      <td>0.10</td>\n",
       "      <td>1.3</td>\n",
       "      <td>60.185185</td>\n",
       "      <td>97.500000</td>\n",
       "      <td>1.500000</td>\n",
       "    </tr>\n",
       "    <tr>\n",
       "      <th>8</th>\n",
       "      <td>0.10</td>\n",
       "      <td>1.6</td>\n",
       "      <td>72.407407</td>\n",
       "      <td>97.500000</td>\n",
       "      <td>1.500000</td>\n",
       "    </tr>\n",
       "  </tbody>\n",
       "</table>\n",
       "</div>"
      ],
      "text/plain": [
       "   poisoning_rate  stretch_factor  backdoor_success_rate  \\\n",
       "0            0.01             0.7               0.185185   \n",
       "1            0.01             1.3               0.000000   \n",
       "2            0.01             1.6               0.000000   \n",
       "3            0.05             0.7              42.962963   \n",
       "4            0.05             1.3               9.259259   \n",
       "5            0.05             1.6              35.555556   \n",
       "6            0.10             0.7              97.592593   \n",
       "7            0.10             1.3              60.185185   \n",
       "8            0.10             1.6              72.407407   \n",
       "\n",
       "   clean_accuracy_after  clean_accuracy_drop  \n",
       "0             99.000000             0.000000  \n",
       "1             97.833333             1.166667  \n",
       "2             98.333333             0.666667  \n",
       "3             97.666667             1.333333  \n",
       "4             98.333333             0.666667  \n",
       "5             97.833333             1.166667  \n",
       "6             98.666667             0.333333  \n",
       "7             97.500000             1.500000  \n",
       "8             97.500000             1.500000  "
      ]
     },
     "execution_count": 15,
     "metadata": {},
     "output_type": "execute_result"
    }
   ],
   "source": [
    "results_df"
   ]
  },
  {
   "cell_type": "code",
   "execution_count": 16,
   "id": "a378b211",
   "metadata": {
    "execution": {
     "iopub.execute_input": "2024-12-03T23:10:29.788443Z",
     "iopub.status.busy": "2024-12-03T23:10:29.788092Z",
     "iopub.status.idle": "2024-12-03T23:10:29.796985Z",
     "shell.execute_reply": "2024-12-03T23:10:29.796124Z"
    },
    "papermill": {
     "duration": 0.831156,
     "end_time": "2024-12-03T23:10:29.798744",
     "exception": false,
     "start_time": "2024-12-03T23:10:28.967588",
     "status": "completed"
    },
    "tags": []
   },
   "outputs": [],
   "source": [
    "results_df.to_csv('Wav2Vec2-SD-BKDR-TimeStretch.csv', sep='\\t', index=False)"
   ]
  },
  {
   "cell_type": "code",
   "execution_count": null,
   "id": "e6e4e586",
   "metadata": {
    "papermill": {
     "duration": 0.760895,
     "end_time": "2024-12-03T23:10:31.362212",
     "exception": false,
     "start_time": "2024-12-03T23:10:30.601317",
     "status": "completed"
    },
    "tags": []
   },
   "outputs": [],
   "source": []
  }
 ],
 "metadata": {
  "kaggle": {
   "accelerator": "gpu",
   "dataSources": [
    {
     "datasetId": 5789127,
     "sourceId": 9510683,
     "sourceType": "datasetVersion"
    }
   ],
   "isGpuEnabled": true,
   "isInternetEnabled": true,
   "language": "python",
   "sourceType": "notebook"
  },
  "kernelspec": {
   "display_name": "Python 3",
   "language": "python",
   "name": "python3"
  },
  "language_info": {
   "codemirror_mode": {
    "name": "ipython",
    "version": 3
   },
   "file_extension": ".py",
   "mimetype": "text/x-python",
   "name": "python",
   "nbconvert_exporter": "python",
   "pygments_lexer": "ipython3",
   "version": "3.10.14"
  },
  "papermill": {
   "default_parameters": {},
   "duration": 2916.37326,
   "end_time": "2024-12-03T23:10:34.954567",
   "environment_variables": {},
   "exception": null,
   "input_path": "__notebook__.ipynb",
   "output_path": "__notebook__.ipynb",
   "parameters": {},
   "start_time": "2024-12-03T22:21:58.581307",
   "version": "2.6.0"
  },
  "widgets": {
   "application/vnd.jupyter.widget-state+json": {
    "state": {
     "0831685c6dee4ed6a0aff669d14fd5fa": {
      "model_module": "@jupyter-widgets/controls",
      "model_module_version": "2.0.0",
      "model_name": "HTMLStyleModel",
      "state": {
       "_model_module": "@jupyter-widgets/controls",
       "_model_module_version": "2.0.0",
       "_model_name": "HTMLStyleModel",
       "_view_count": null,
       "_view_module": "@jupyter-widgets/base",
       "_view_module_version": "2.0.0",
       "_view_name": "StyleView",
       "background": null,
       "description_width": "",
       "font_size": null,
       "text_color": null
      }
     },
     "0d9ba8a7c8534a83a6865ee83f962779": {
      "model_module": "@jupyter-widgets/base",
      "model_module_version": "2.0.0",
      "model_name": "LayoutModel",
      "state": {
       "_model_module": "@jupyter-widgets/base",
       "_model_module_version": "2.0.0",
       "_model_name": "LayoutModel",
       "_view_count": null,
       "_view_module": "@jupyter-widgets/base",
       "_view_module_version": "2.0.0",
       "_view_name": "LayoutView",
       "align_content": null,
       "align_items": null,
       "align_self": null,
       "border_bottom": null,
       "border_left": null,
       "border_right": null,
       "border_top": null,
       "bottom": null,
       "display": null,
       "flex": null,
       "flex_flow": null,
       "grid_area": null,
       "grid_auto_columns": null,
       "grid_auto_flow": null,
       "grid_auto_rows": null,
       "grid_column": null,
       "grid_gap": null,
       "grid_row": null,
       "grid_template_areas": null,
       "grid_template_columns": null,
       "grid_template_rows": null,
       "height": null,
       "justify_content": null,
       "justify_items": null,
       "left": null,
       "margin": null,
       "max_height": null,
       "max_width": null,
       "min_height": null,
       "min_width": null,
       "object_fit": null,
       "object_position": null,
       "order": null,
       "overflow": null,
       "padding": null,
       "right": null,
       "top": null,
       "visibility": null,
       "width": null
      }
     },
     "0e4ce358ec0a46eca06607837856ae8e": {
      "model_module": "@jupyter-widgets/controls",
      "model_module_version": "2.0.0",
      "model_name": "HTMLStyleModel",
      "state": {
       "_model_module": "@jupyter-widgets/controls",
       "_model_module_version": "2.0.0",
       "_model_name": "HTMLStyleModel",
       "_view_count": null,
       "_view_module": "@jupyter-widgets/base",
       "_view_module_version": "2.0.0",
       "_view_name": "StyleView",
       "background": null,
       "description_width": "",
       "font_size": null,
       "text_color": null
      }
     },
     "101d8a40dcfc496388cd22050babe4cc": {
      "model_module": "@jupyter-widgets/base",
      "model_module_version": "2.0.0",
      "model_name": "LayoutModel",
      "state": {
       "_model_module": "@jupyter-widgets/base",
       "_model_module_version": "2.0.0",
       "_model_name": "LayoutModel",
       "_view_count": null,
       "_view_module": "@jupyter-widgets/base",
       "_view_module_version": "2.0.0",
       "_view_name": "LayoutView",
       "align_content": null,
       "align_items": null,
       "align_self": null,
       "border_bottom": null,
       "border_left": null,
       "border_right": null,
       "border_top": null,
       "bottom": null,
       "display": null,
       "flex": null,
       "flex_flow": null,
       "grid_area": null,
       "grid_auto_columns": null,
       "grid_auto_flow": null,
       "grid_auto_rows": null,
       "grid_column": null,
       "grid_gap": null,
       "grid_row": null,
       "grid_template_areas": null,
       "grid_template_columns": null,
       "grid_template_rows": null,
       "height": null,
       "justify_content": null,
       "justify_items": null,
       "left": null,
       "margin": null,
       "max_height": null,
       "max_width": null,
       "min_height": null,
       "min_width": null,
       "object_fit": null,
       "object_position": null,
       "order": null,
       "overflow": null,
       "padding": null,
       "right": null,
       "top": null,
       "visibility": null,
       "width": null
      }
     },
     "1214f6e66c25466fa72aed14c5ab6cb8": {
      "model_module": "@jupyter-widgets/base",
      "model_module_version": "2.0.0",
      "model_name": "LayoutModel",
      "state": {
       "_model_module": "@jupyter-widgets/base",
       "_model_module_version": "2.0.0",
       "_model_name": "LayoutModel",
       "_view_count": null,
       "_view_module": "@jupyter-widgets/base",
       "_view_module_version": "2.0.0",
       "_view_name": "LayoutView",
       "align_content": null,
       "align_items": null,
       "align_self": null,
       "border_bottom": null,
       "border_left": null,
       "border_right": null,
       "border_top": null,
       "bottom": null,
       "display": null,
       "flex": null,
       "flex_flow": null,
       "grid_area": null,
       "grid_auto_columns": null,
       "grid_auto_flow": null,
       "grid_auto_rows": null,
       "grid_column": null,
       "grid_gap": null,
       "grid_row": null,
       "grid_template_areas": null,
       "grid_template_columns": null,
       "grid_template_rows": null,
       "height": null,
       "justify_content": null,
       "justify_items": null,
       "left": null,
       "margin": null,
       "max_height": null,
       "max_width": null,
       "min_height": null,
       "min_width": null,
       "object_fit": null,
       "object_position": null,
       "order": null,
       "overflow": null,
       "padding": null,
       "right": null,
       "top": null,
       "visibility": null,
       "width": null
      }
     },
     "1601b41db24341ad9a4672d26801c11a": {
      "model_module": "@jupyter-widgets/controls",
      "model_module_version": "2.0.0",
      "model_name": "HTMLStyleModel",
      "state": {
       "_model_module": "@jupyter-widgets/controls",
       "_model_module_version": "2.0.0",
       "_model_name": "HTMLStyleModel",
       "_view_count": null,
       "_view_module": "@jupyter-widgets/base",
       "_view_module_version": "2.0.0",
       "_view_name": "StyleView",
       "background": null,
       "description_width": "",
       "font_size": null,
       "text_color": null
      }
     },
     "1abafce5485d446b865144c324f509ee": {
      "model_module": "@jupyter-widgets/controls",
      "model_module_version": "2.0.0",
      "model_name": "HTMLModel",
      "state": {
       "_dom_classes": [],
       "_model_module": "@jupyter-widgets/controls",
       "_model_module_version": "2.0.0",
       "_model_name": "HTMLModel",
       "_view_count": null,
       "_view_module": "@jupyter-widgets/controls",
       "_view_module_version": "2.0.0",
       "_view_name": "HTMLView",
       "description": "",
       "description_allow_html": false,
       "layout": "IPY_MODEL_101d8a40dcfc496388cd22050babe4cc",
       "placeholder": "​",
       "style": "IPY_MODEL_1601b41db24341ad9a4672d26801c11a",
       "tabbable": null,
       "tooltip": null,
       "value": " 1.26G/1.26G [00:05&lt;00:00, 239MB/s]"
      }
     },
     "24d246d691a34112aa0f0cd620f8bd9b": {
      "model_module": "@jupyter-widgets/base",
      "model_module_version": "2.0.0",
      "model_name": "LayoutModel",
      "state": {
       "_model_module": "@jupyter-widgets/base",
       "_model_module_version": "2.0.0",
       "_model_name": "LayoutModel",
       "_view_count": null,
       "_view_module": "@jupyter-widgets/base",
       "_view_module_version": "2.0.0",
       "_view_name": "LayoutView",
       "align_content": null,
       "align_items": null,
       "align_self": null,
       "border_bottom": null,
       "border_left": null,
       "border_right": null,
       "border_top": null,
       "bottom": null,
       "display": null,
       "flex": null,
       "flex_flow": null,
       "grid_area": null,
       "grid_auto_columns": null,
       "grid_auto_flow": null,
       "grid_auto_rows": null,
       "grid_column": null,
       "grid_gap": null,
       "grid_row": null,
       "grid_template_areas": null,
       "grid_template_columns": null,
       "grid_template_rows": null,
       "height": null,
       "justify_content": null,
       "justify_items": null,
       "left": null,
       "margin": null,
       "max_height": null,
       "max_width": null,
       "min_height": null,
       "min_width": null,
       "object_fit": null,
       "object_position": null,
       "order": null,
       "overflow": null,
       "padding": null,
       "right": null,
       "top": null,
       "visibility": null,
       "width": null
      }
     },
     "251124e7c4bf4f27bbb6239d46eb9054": {
      "model_module": "@jupyter-widgets/base",
      "model_module_version": "2.0.0",
      "model_name": "LayoutModel",
      "state": {
       "_model_module": "@jupyter-widgets/base",
       "_model_module_version": "2.0.0",
       "_model_name": "LayoutModel",
       "_view_count": null,
       "_view_module": "@jupyter-widgets/base",
       "_view_module_version": "2.0.0",
       "_view_name": "LayoutView",
       "align_content": null,
       "align_items": null,
       "align_self": null,
       "border_bottom": null,
       "border_left": null,
       "border_right": null,
       "border_top": null,
       "bottom": null,
       "display": null,
       "flex": null,
       "flex_flow": null,
       "grid_area": null,
       "grid_auto_columns": null,
       "grid_auto_flow": null,
       "grid_auto_rows": null,
       "grid_column": null,
       "grid_gap": null,
       "grid_row": null,
       "grid_template_areas": null,
       "grid_template_columns": null,
       "grid_template_rows": null,
       "height": null,
       "justify_content": null,
       "justify_items": null,
       "left": null,
       "margin": null,
       "max_height": null,
       "max_width": null,
       "min_height": null,
       "min_width": null,
       "object_fit": null,
       "object_position": null,
       "order": null,
       "overflow": null,
       "padding": null,
       "right": null,
       "top": null,
       "visibility": null,
       "width": null
      }
     },
     "26a4e77a35eb4982af288f33b5793176": {
      "model_module": "@jupyter-widgets/controls",
      "model_module_version": "2.0.0",
      "model_name": "ProgressStyleModel",
      "state": {
       "_model_module": "@jupyter-widgets/controls",
       "_model_module_version": "2.0.0",
       "_model_name": "ProgressStyleModel",
       "_view_count": null,
       "_view_module": "@jupyter-widgets/base",
       "_view_module_version": "2.0.0",
       "_view_name": "StyleView",
       "bar_color": null,
       "description_width": ""
      }
     },
     "2738bfbbe1fd4f0f8a400ee003049743": {
      "model_module": "@jupyter-widgets/controls",
      "model_module_version": "2.0.0",
      "model_name": "HTMLModel",
      "state": {
       "_dom_classes": [],
       "_model_module": "@jupyter-widgets/controls",
       "_model_module_version": "2.0.0",
       "_model_name": "HTMLModel",
       "_view_count": null,
       "_view_module": "@jupyter-widgets/controls",
       "_view_module_version": "2.0.0",
       "_view_name": "HTMLView",
       "description": "",
       "description_allow_html": false,
       "layout": "IPY_MODEL_788de5ed669c455db9941c1d9f06879a",
       "placeholder": "​",
       "style": "IPY_MODEL_62f0acdceea04a8bae93bdc51f741efa",
       "tabbable": null,
       "tooltip": null,
       "value": " 300/300 [00:00&lt;00:00, 39.5kB/s]"
      }
     },
     "2d0b492a055f458797d645db172c447f": {
      "model_module": "@jupyter-widgets/controls",
      "model_module_version": "2.0.0",
      "model_name": "FloatProgressModel",
      "state": {
       "_dom_classes": [],
       "_model_module": "@jupyter-widgets/controls",
       "_model_module_version": "2.0.0",
       "_model_name": "FloatProgressModel",
       "_view_count": null,
       "_view_module": "@jupyter-widgets/controls",
       "_view_module_version": "2.0.0",
       "_view_name": "ProgressView",
       "bar_style": "success",
       "description": "",
       "description_allow_html": false,
       "layout": "IPY_MODEL_4e8e5d989bdb4750b4a4be4f2825b229",
       "max": 1261942732.0,
       "min": 0.0,
       "orientation": "horizontal",
       "style": "IPY_MODEL_c15c708b69234fb5962599cb6696a3bb",
       "tabbable": null,
       "tooltip": null,
       "value": 1261942732.0
      }
     },
     "3dd1254d1eea43efb293376158a0c9ff": {
      "model_module": "@jupyter-widgets/controls",
      "model_module_version": "2.0.0",
      "model_name": "HBoxModel",
      "state": {
       "_dom_classes": [],
       "_model_module": "@jupyter-widgets/controls",
       "_model_module_version": "2.0.0",
       "_model_name": "HBoxModel",
       "_view_count": null,
       "_view_module": "@jupyter-widgets/controls",
       "_view_module_version": "2.0.0",
       "_view_name": "HBoxView",
       "box_style": "",
       "children": [
        "IPY_MODEL_951cec8406fb4a5a880c12e04cf482ad",
        "IPY_MODEL_d92a442871114f6cbee23e6b802c5898",
        "IPY_MODEL_a76183e0f976410e8793b2cfb48ac4a8"
       ],
       "layout": "IPY_MODEL_f878eb772125490e867d01ef57a997a3",
       "tabbable": null,
       "tooltip": null
      }
     },
     "4ccdba9fa86c4b80972a71e54831e65f": {
      "model_module": "@jupyter-widgets/controls",
      "model_module_version": "2.0.0",
      "model_name": "HTMLStyleModel",
      "state": {
       "_model_module": "@jupyter-widgets/controls",
       "_model_module_version": "2.0.0",
       "_model_name": "HTMLStyleModel",
       "_view_count": null,
       "_view_module": "@jupyter-widgets/base",
       "_view_module_version": "2.0.0",
       "_view_name": "StyleView",
       "background": null,
       "description_width": "",
       "font_size": null,
       "text_color": null
      }
     },
     "4e8e5d989bdb4750b4a4be4f2825b229": {
      "model_module": "@jupyter-widgets/base",
      "model_module_version": "2.0.0",
      "model_name": "LayoutModel",
      "state": {
       "_model_module": "@jupyter-widgets/base",
       "_model_module_version": "2.0.0",
       "_model_name": "LayoutModel",
       "_view_count": null,
       "_view_module": "@jupyter-widgets/base",
       "_view_module_version": "2.0.0",
       "_view_name": "LayoutView",
       "align_content": null,
       "align_items": null,
       "align_self": null,
       "border_bottom": null,
       "border_left": null,
       "border_right": null,
       "border_top": null,
       "bottom": null,
       "display": null,
       "flex": null,
       "flex_flow": null,
       "grid_area": null,
       "grid_auto_columns": null,
       "grid_auto_flow": null,
       "grid_auto_rows": null,
       "grid_column": null,
       "grid_gap": null,
       "grid_row": null,
       "grid_template_areas": null,
       "grid_template_columns": null,
       "grid_template_rows": null,
       "height": null,
       "justify_content": null,
       "justify_items": null,
       "left": null,
       "margin": null,
       "max_height": null,
       "max_width": null,
       "min_height": null,
       "min_width": null,
       "object_fit": null,
       "object_position": null,
       "order": null,
       "overflow": null,
       "padding": null,
       "right": null,
       "top": null,
       "visibility": null,
       "width": null
      }
     },
     "5b05674d51df411181241f504e64bcab": {
      "model_module": "@jupyter-widgets/controls",
      "model_module_version": "2.0.0",
      "model_name": "HTMLStyleModel",
      "state": {
       "_model_module": "@jupyter-widgets/controls",
       "_model_module_version": "2.0.0",
       "_model_name": "HTMLStyleModel",
       "_view_count": null,
       "_view_module": "@jupyter-widgets/base",
       "_view_module_version": "2.0.0",
       "_view_name": "StyleView",
       "background": null,
       "description_width": "",
       "font_size": null,
       "text_color": null
      }
     },
     "5bdd69b95f1e425998f191472cbac912": {
      "model_module": "@jupyter-widgets/controls",
      "model_module_version": "2.0.0",
      "model_name": "FloatProgressModel",
      "state": {
       "_dom_classes": [],
       "_model_module": "@jupyter-widgets/controls",
       "_model_module_version": "2.0.0",
       "_model_name": "FloatProgressModel",
       "_view_count": null,
       "_view_module": "@jupyter-widgets/controls",
       "_view_module_version": "2.0.0",
       "_view_name": "ProgressView",
       "bar_style": "success",
       "description": "",
       "description_allow_html": false,
       "layout": "IPY_MODEL_0d9ba8a7c8534a83a6865ee83f962779",
       "max": 262.0,
       "min": 0.0,
       "orientation": "horizontal",
       "style": "IPY_MODEL_764aa19fdf31459b91efc0904a37d295",
       "tabbable": null,
       "tooltip": null,
       "value": 262.0
      }
     },
     "62f0acdceea04a8bae93bdc51f741efa": {
      "model_module": "@jupyter-widgets/controls",
      "model_module_version": "2.0.0",
      "model_name": "HTMLStyleModel",
      "state": {
       "_model_module": "@jupyter-widgets/controls",
       "_model_module_version": "2.0.0",
       "_model_name": "HTMLStyleModel",
       "_view_count": null,
       "_view_module": "@jupyter-widgets/base",
       "_view_module_version": "2.0.0",
       "_view_name": "StyleView",
       "background": null,
       "description_width": "",
       "font_size": null,
       "text_color": null
      }
     },
     "66060f7bd0f44a0787b7f441d5e5b837": {
      "model_module": "@jupyter-widgets/controls",
      "model_module_version": "2.0.0",
      "model_name": "HTMLStyleModel",
      "state": {
       "_model_module": "@jupyter-widgets/controls",
       "_model_module_version": "2.0.0",
       "_model_name": "HTMLStyleModel",
       "_view_count": null,
       "_view_module": "@jupyter-widgets/base",
       "_view_module_version": "2.0.0",
       "_view_name": "StyleView",
       "background": null,
       "description_width": "",
       "font_size": null,
       "text_color": null
      }
     },
     "6717478df99e48799fc365ba54a626e3": {
      "model_module": "@jupyter-widgets/controls",
      "model_module_version": "2.0.0",
      "model_name": "HTMLModel",
      "state": {
       "_dom_classes": [],
       "_model_module": "@jupyter-widgets/controls",
       "_model_module_version": "2.0.0",
       "_model_name": "HTMLModel",
       "_view_count": null,
       "_view_module": "@jupyter-widgets/controls",
       "_view_module_version": "2.0.0",
       "_view_name": "HTMLView",
       "description": "",
       "description_allow_html": false,
       "layout": "IPY_MODEL_e5ee6cc700284071b445077ebcc22558",
       "placeholder": "​",
       "style": "IPY_MODEL_66060f7bd0f44a0787b7f441d5e5b837",
       "tabbable": null,
       "tooltip": null,
       "value": "model.safetensors: 100%"
      }
     },
     "7535baeb75ef4ad2857cbc3561b8ccae": {
      "model_module": "@jupyter-widgets/controls",
      "model_module_version": "2.0.0",
      "model_name": "HTMLModel",
      "state": {
       "_dom_classes": [],
       "_model_module": "@jupyter-widgets/controls",
       "_model_module_version": "2.0.0",
       "_model_name": "HTMLModel",
       "_view_count": null,
       "_view_module": "@jupyter-widgets/controls",
       "_view_module_version": "2.0.0",
       "_view_name": "HTMLView",
       "description": "",
       "description_allow_html": false,
       "layout": "IPY_MODEL_bad4df26288845ecb5156c6763da9b6b",
       "placeholder": "​",
       "style": "IPY_MODEL_8f28e973245845849a1f934b6ff19a0c",
       "tabbable": null,
       "tooltip": null,
       "value": " 262/262 [00:00&lt;00:00, 28.6kB/s]"
      }
     },
     "764aa19fdf31459b91efc0904a37d295": {
      "model_module": "@jupyter-widgets/controls",
      "model_module_version": "2.0.0",
      "model_name": "ProgressStyleModel",
      "state": {
       "_model_module": "@jupyter-widgets/controls",
       "_model_module_version": "2.0.0",
       "_model_name": "ProgressStyleModel",
       "_view_count": null,
       "_view_module": "@jupyter-widgets/base",
       "_view_module_version": "2.0.0",
       "_view_name": "StyleView",
       "bar_color": null,
       "description_width": ""
      }
     },
     "788de5ed669c455db9941c1d9f06879a": {
      "model_module": "@jupyter-widgets/base",
      "model_module_version": "2.0.0",
      "model_name": "LayoutModel",
      "state": {
       "_model_module": "@jupyter-widgets/base",
       "_model_module_version": "2.0.0",
       "_model_name": "LayoutModel",
       "_view_count": null,
       "_view_module": "@jupyter-widgets/base",
       "_view_module_version": "2.0.0",
       "_view_name": "LayoutView",
       "align_content": null,
       "align_items": null,
       "align_self": null,
       "border_bottom": null,
       "border_left": null,
       "border_right": null,
       "border_top": null,
       "bottom": null,
       "display": null,
       "flex": null,
       "flex_flow": null,
       "grid_area": null,
       "grid_auto_columns": null,
       "grid_auto_flow": null,
       "grid_auto_rows": null,
       "grid_column": null,
       "grid_gap": null,
       "grid_row": null,
       "grid_template_areas": null,
       "grid_template_columns": null,
       "grid_template_rows": null,
       "height": null,
       "justify_content": null,
       "justify_items": null,
       "left": null,
       "margin": null,
       "max_height": null,
       "max_width": null,
       "min_height": null,
       "min_width": null,
       "object_fit": null,
       "object_position": null,
       "order": null,
       "overflow": null,
       "padding": null,
       "right": null,
       "top": null,
       "visibility": null,
       "width": null
      }
     },
     "7d4a0bbc61984ed4a37a3fc1731ebcf2": {
      "model_module": "@jupyter-widgets/controls",
      "model_module_version": "2.0.0",
      "model_name": "HTMLModel",
      "state": {
       "_dom_classes": [],
       "_model_module": "@jupyter-widgets/controls",
       "_model_module_version": "2.0.0",
       "_model_name": "HTMLModel",
       "_view_count": null,
       "_view_module": "@jupyter-widgets/controls",
       "_view_module_version": "2.0.0",
       "_view_name": "HTMLView",
       "description": "",
       "description_allow_html": false,
       "layout": "IPY_MODEL_b0d1d4075d4146f6a0b04f80445ae6be",
       "placeholder": "​",
       "style": "IPY_MODEL_0e4ce358ec0a46eca06607837856ae8e",
       "tabbable": null,
       "tooltip": null,
       "value": "vocab.json: 100%"
      }
     },
     "7d53b72ea8f34b9fa8fb6d7dc37c1e1d": {
      "model_module": "@jupyter-widgets/base",
      "model_module_version": "2.0.0",
      "model_name": "LayoutModel",
      "state": {
       "_model_module": "@jupyter-widgets/base",
       "_model_module_version": "2.0.0",
       "_model_name": "LayoutModel",
       "_view_count": null,
       "_view_module": "@jupyter-widgets/base",
       "_view_module_version": "2.0.0",
       "_view_name": "LayoutView",
       "align_content": null,
       "align_items": null,
       "align_self": null,
       "border_bottom": null,
       "border_left": null,
       "border_right": null,
       "border_top": null,
       "bottom": null,
       "display": null,
       "flex": null,
       "flex_flow": null,
       "grid_area": null,
       "grid_auto_columns": null,
       "grid_auto_flow": null,
       "grid_auto_rows": null,
       "grid_column": null,
       "grid_gap": null,
       "grid_row": null,
       "grid_template_areas": null,
       "grid_template_columns": null,
       "grid_template_rows": null,
       "height": null,
       "justify_content": null,
       "justify_items": null,
       "left": null,
       "margin": null,
       "max_height": null,
       "max_width": null,
       "min_height": null,
       "min_width": null,
       "object_fit": null,
       "object_position": null,
       "order": null,
       "overflow": null,
       "padding": null,
       "right": null,
       "top": null,
       "visibility": null,
       "width": null
      }
     },
     "862ea4493276490e96bc066e8ea0a88e": {
      "model_module": "@jupyter-widgets/base",
      "model_module_version": "2.0.0",
      "model_name": "LayoutModel",
      "state": {
       "_model_module": "@jupyter-widgets/base",
       "_model_module_version": "2.0.0",
       "_model_name": "LayoutModel",
       "_view_count": null,
       "_view_module": "@jupyter-widgets/base",
       "_view_module_version": "2.0.0",
       "_view_name": "LayoutView",
       "align_content": null,
       "align_items": null,
       "align_self": null,
       "border_bottom": null,
       "border_left": null,
       "border_right": null,
       "border_top": null,
       "bottom": null,
       "display": null,
       "flex": null,
       "flex_flow": null,
       "grid_area": null,
       "grid_auto_columns": null,
       "grid_auto_flow": null,
       "grid_auto_rows": null,
       "grid_column": null,
       "grid_gap": null,
       "grid_row": null,
       "grid_template_areas": null,
       "grid_template_columns": null,
       "grid_template_rows": null,
       "height": null,
       "justify_content": null,
       "justify_items": null,
       "left": null,
       "margin": null,
       "max_height": null,
       "max_width": null,
       "min_height": null,
       "min_width": null,
       "object_fit": null,
       "object_position": null,
       "order": null,
       "overflow": null,
       "padding": null,
       "right": null,
       "top": null,
       "visibility": null,
       "width": null
      }
     },
     "86b996d741064e61b7227624ebdf62ef": {
      "model_module": "@jupyter-widgets/controls",
      "model_module_version": "2.0.0",
      "model_name": "HBoxModel",
      "state": {
       "_dom_classes": [],
       "_model_module": "@jupyter-widgets/controls",
       "_model_module_version": "2.0.0",
       "_model_name": "HBoxModel",
       "_view_count": null,
       "_view_module": "@jupyter-widgets/controls",
       "_view_module_version": "2.0.0",
       "_view_name": "HBoxView",
       "box_style": "",
       "children": [
        "IPY_MODEL_7d4a0bbc61984ed4a37a3fc1731ebcf2",
        "IPY_MODEL_9c3a27f871fe445a8b5514760f087d24",
        "IPY_MODEL_2738bfbbe1fd4f0f8a400ee003049743"
       ],
       "layout": "IPY_MODEL_c855fb38c64442bd9710b1162d8e336c",
       "tabbable": null,
       "tooltip": null
      }
     },
     "8855e157b75944dcb837b3f15e3c558d": {
      "model_module": "@jupyter-widgets/controls",
      "model_module_version": "2.0.0",
      "model_name": "HTMLModel",
      "state": {
       "_dom_classes": [],
       "_model_module": "@jupyter-widgets/controls",
       "_model_module_version": "2.0.0",
       "_model_name": "HTMLModel",
       "_view_count": null,
       "_view_module": "@jupyter-widgets/controls",
       "_view_module_version": "2.0.0",
       "_view_name": "HTMLView",
       "description": "",
       "description_allow_html": false,
       "layout": "IPY_MODEL_cced4ae3f6e84d1a8092eb44326e4817",
       "placeholder": "​",
       "style": "IPY_MODEL_4ccdba9fa86c4b80972a71e54831e65f",
       "tabbable": null,
       "tooltip": null,
       "value": "preprocessor_config.json: 100%"
      }
     },
     "8a9eb11df4404bd79659963b8c3ee461": {
      "model_module": "@jupyter-widgets/controls",
      "model_module_version": "2.0.0",
      "model_name": "HTMLStyleModel",
      "state": {
       "_model_module": "@jupyter-widgets/controls",
       "_model_module_version": "2.0.0",
       "_model_name": "HTMLStyleModel",
       "_view_count": null,
       "_view_module": "@jupyter-widgets/base",
       "_view_module_version": "2.0.0",
       "_view_name": "StyleView",
       "background": null,
       "description_width": "",
       "font_size": null,
       "text_color": null
      }
     },
     "8b5099c5db994dd2925c12b4fede71d7": {
      "model_module": "@jupyter-widgets/base",
      "model_module_version": "2.0.0",
      "model_name": "LayoutModel",
      "state": {
       "_model_module": "@jupyter-widgets/base",
       "_model_module_version": "2.0.0",
       "_model_name": "LayoutModel",
       "_view_count": null,
       "_view_module": "@jupyter-widgets/base",
       "_view_module_version": "2.0.0",
       "_view_name": "LayoutView",
       "align_content": null,
       "align_items": null,
       "align_self": null,
       "border_bottom": null,
       "border_left": null,
       "border_right": null,
       "border_top": null,
       "bottom": null,
       "display": null,
       "flex": null,
       "flex_flow": null,
       "grid_area": null,
       "grid_auto_columns": null,
       "grid_auto_flow": null,
       "grid_auto_rows": null,
       "grid_column": null,
       "grid_gap": null,
       "grid_row": null,
       "grid_template_areas": null,
       "grid_template_columns": null,
       "grid_template_rows": null,
       "height": null,
       "justify_content": null,
       "justify_items": null,
       "left": null,
       "margin": null,
       "max_height": null,
       "max_width": null,
       "min_height": null,
       "min_width": null,
       "object_fit": null,
       "object_position": null,
       "order": null,
       "overflow": null,
       "padding": null,
       "right": null,
       "top": null,
       "visibility": null,
       "width": null
      }
     },
     "8be4f1ede4fc4d348b03f050fdbef753": {
      "model_module": "@jupyter-widgets/base",
      "model_module_version": "2.0.0",
      "model_name": "LayoutModel",
      "state": {
       "_model_module": "@jupyter-widgets/base",
       "_model_module_version": "2.0.0",
       "_model_name": "LayoutModel",
       "_view_count": null,
       "_view_module": "@jupyter-widgets/base",
       "_view_module_version": "2.0.0",
       "_view_name": "LayoutView",
       "align_content": null,
       "align_items": null,
       "align_self": null,
       "border_bottom": null,
       "border_left": null,
       "border_right": null,
       "border_top": null,
       "bottom": null,
       "display": null,
       "flex": null,
       "flex_flow": null,
       "grid_area": null,
       "grid_auto_columns": null,
       "grid_auto_flow": null,
       "grid_auto_rows": null,
       "grid_column": null,
       "grid_gap": null,
       "grid_row": null,
       "grid_template_areas": null,
       "grid_template_columns": null,
       "grid_template_rows": null,
       "height": null,
       "justify_content": null,
       "justify_items": null,
       "left": null,
       "margin": null,
       "max_height": null,
       "max_width": null,
       "min_height": null,
       "min_width": null,
       "object_fit": null,
       "object_position": null,
       "order": null,
       "overflow": null,
       "padding": null,
       "right": null,
       "top": null,
       "visibility": null,
       "width": null
      }
     },
     "8f28e973245845849a1f934b6ff19a0c": {
      "model_module": "@jupyter-widgets/controls",
      "model_module_version": "2.0.0",
      "model_name": "HTMLStyleModel",
      "state": {
       "_model_module": "@jupyter-widgets/controls",
       "_model_module_version": "2.0.0",
       "_model_name": "HTMLStyleModel",
       "_view_count": null,
       "_view_module": "@jupyter-widgets/base",
       "_view_module_version": "2.0.0",
       "_view_name": "StyleView",
       "background": null,
       "description_width": "",
       "font_size": null,
       "text_color": null
      }
     },
     "951cec8406fb4a5a880c12e04cf482ad": {
      "model_module": "@jupyter-widgets/controls",
      "model_module_version": "2.0.0",
      "model_name": "HTMLModel",
      "state": {
       "_dom_classes": [],
       "_model_module": "@jupyter-widgets/controls",
       "_model_module_version": "2.0.0",
       "_model_name": "HTMLModel",
       "_view_count": null,
       "_view_module": "@jupyter-widgets/controls",
       "_view_module_version": "2.0.0",
       "_view_name": "HTMLView",
       "description": "",
       "description_allow_html": false,
       "layout": "IPY_MODEL_251124e7c4bf4f27bbb6239d46eb9054",
       "placeholder": "​",
       "style": "IPY_MODEL_8a9eb11df4404bd79659963b8c3ee461",
       "tabbable": null,
       "tooltip": null,
       "value": "special_tokens_map.json: 100%"
      }
     },
     "98c41d2fd7b542e49ff7ce3da45e1d62": {
      "model_module": "@jupyter-widgets/controls",
      "model_module_version": "2.0.0",
      "model_name": "HBoxModel",
      "state": {
       "_dom_classes": [],
       "_model_module": "@jupyter-widgets/controls",
       "_model_module_version": "2.0.0",
       "_model_name": "HBoxModel",
       "_view_count": null,
       "_view_module": "@jupyter-widgets/controls",
       "_view_module_version": "2.0.0",
       "_view_name": "HBoxView",
       "box_style": "",
       "children": [
        "IPY_MODEL_6717478df99e48799fc365ba54a626e3",
        "IPY_MODEL_2d0b492a055f458797d645db172c447f",
        "IPY_MODEL_1abafce5485d446b865144c324f509ee"
       ],
       "layout": "IPY_MODEL_24d246d691a34112aa0f0cd620f8bd9b",
       "tabbable": null,
       "tooltip": null
      }
     },
     "9c3a27f871fe445a8b5514760f087d24": {
      "model_module": "@jupyter-widgets/controls",
      "model_module_version": "2.0.0",
      "model_name": "FloatProgressModel",
      "state": {
       "_dom_classes": [],
       "_model_module": "@jupyter-widgets/controls",
       "_model_module_version": "2.0.0",
       "_model_name": "FloatProgressModel",
       "_view_count": null,
       "_view_module": "@jupyter-widgets/controls",
       "_view_module_version": "2.0.0",
       "_view_name": "ProgressView",
       "bar_style": "success",
       "description": "",
       "description_allow_html": false,
       "layout": "IPY_MODEL_acaf4c6e9d37430d8ccdf32039eb6368",
       "max": 300.0,
       "min": 0.0,
       "orientation": "horizontal",
       "style": "IPY_MODEL_26a4e77a35eb4982af288f33b5793176",
       "tabbable": null,
       "tooltip": null,
       "value": 300.0
      }
     },
     "a76183e0f976410e8793b2cfb48ac4a8": {
      "model_module": "@jupyter-widgets/controls",
      "model_module_version": "2.0.0",
      "model_name": "HTMLModel",
      "state": {
       "_dom_classes": [],
       "_model_module": "@jupyter-widgets/controls",
       "_model_module_version": "2.0.0",
       "_model_name": "HTMLModel",
       "_view_count": null,
       "_view_module": "@jupyter-widgets/controls",
       "_view_module_version": "2.0.0",
       "_view_name": "HTMLView",
       "description": "",
       "description_allow_html": false,
       "layout": "IPY_MODEL_c921603d91094b16807761da5c21554d",
       "placeholder": "​",
       "style": "IPY_MODEL_0831685c6dee4ed6a0aff669d14fd5fa",
       "tabbable": null,
       "tooltip": null,
       "value": " 85.0/85.0 [00:00&lt;00:00, 8.60kB/s]"
      }
     },
     "acae6640503a421c854da02d73b67bfb": {
      "model_module": "@jupyter-widgets/controls",
      "model_module_version": "2.0.0",
      "model_name": "HTMLModel",
      "state": {
       "_dom_classes": [],
       "_model_module": "@jupyter-widgets/controls",
       "_model_module_version": "2.0.0",
       "_model_name": "HTMLModel",
       "_view_count": null,
       "_view_module": "@jupyter-widgets/controls",
       "_view_module_version": "2.0.0",
       "_view_name": "HTMLView",
       "description": "",
       "description_allow_html": false,
       "layout": "IPY_MODEL_8b5099c5db994dd2925c12b4fede71d7",
       "placeholder": "​",
       "style": "IPY_MODEL_5b05674d51df411181241f504e64bcab",
       "tabbable": null,
       "tooltip": null,
       "value": "config.json: 100%"
      }
     },
     "acaf4c6e9d37430d8ccdf32039eb6368": {
      "model_module": "@jupyter-widgets/base",
      "model_module_version": "2.0.0",
      "model_name": "LayoutModel",
      "state": {
       "_model_module": "@jupyter-widgets/base",
       "_model_module_version": "2.0.0",
       "_model_name": "LayoutModel",
       "_view_count": null,
       "_view_module": "@jupyter-widgets/base",
       "_view_module_version": "2.0.0",
       "_view_name": "LayoutView",
       "align_content": null,
       "align_items": null,
       "align_self": null,
       "border_bottom": null,
       "border_left": null,
       "border_right": null,
       "border_top": null,
       "bottom": null,
       "display": null,
       "flex": null,
       "flex_flow": null,
       "grid_area": null,
       "grid_auto_columns": null,
       "grid_auto_flow": null,
       "grid_auto_rows": null,
       "grid_column": null,
       "grid_gap": null,
       "grid_row": null,
       "grid_template_areas": null,
       "grid_template_columns": null,
       "grid_template_rows": null,
       "height": null,
       "justify_content": null,
       "justify_items": null,
       "left": null,
       "margin": null,
       "max_height": null,
       "max_width": null,
       "min_height": null,
       "min_width": null,
       "object_fit": null,
       "object_position": null,
       "order": null,
       "overflow": null,
       "padding": null,
       "right": null,
       "top": null,
       "visibility": null,
       "width": null
      }
     },
     "b0d1d4075d4146f6a0b04f80445ae6be": {
      "model_module": "@jupyter-widgets/base",
      "model_module_version": "2.0.0",
      "model_name": "LayoutModel",
      "state": {
       "_model_module": "@jupyter-widgets/base",
       "_model_module_version": "2.0.0",
       "_model_name": "LayoutModel",
       "_view_count": null,
       "_view_module": "@jupyter-widgets/base",
       "_view_module_version": "2.0.0",
       "_view_name": "LayoutView",
       "align_content": null,
       "align_items": null,
       "align_self": null,
       "border_bottom": null,
       "border_left": null,
       "border_right": null,
       "border_top": null,
       "bottom": null,
       "display": null,
       "flex": null,
       "flex_flow": null,
       "grid_area": null,
       "grid_auto_columns": null,
       "grid_auto_flow": null,
       "grid_auto_rows": null,
       "grid_column": null,
       "grid_gap": null,
       "grid_row": null,
       "grid_template_areas": null,
       "grid_template_columns": null,
       "grid_template_rows": null,
       "height": null,
       "justify_content": null,
       "justify_items": null,
       "left": null,
       "margin": null,
       "max_height": null,
       "max_width": null,
       "min_height": null,
       "min_width": null,
       "object_fit": null,
       "object_position": null,
       "order": null,
       "overflow": null,
       "padding": null,
       "right": null,
       "top": null,
       "visibility": null,
       "width": null
      }
     },
     "b6d8177bd94940709eb6fb8881b1c50a": {
      "model_module": "@jupyter-widgets/controls",
      "model_module_version": "2.0.0",
      "model_name": "FloatProgressModel",
      "state": {
       "_dom_classes": [],
       "_model_module": "@jupyter-widgets/controls",
       "_model_module_version": "2.0.0",
       "_model_name": "FloatProgressModel",
       "_view_count": null,
       "_view_module": "@jupyter-widgets/controls",
       "_view_module_version": "2.0.0",
       "_view_name": "ProgressView",
       "bar_style": "success",
       "description": "",
       "description_allow_html": false,
       "layout": "IPY_MODEL_862ea4493276490e96bc066e8ea0a88e",
       "max": 1531.0,
       "min": 0.0,
       "orientation": "horizontal",
       "style": "IPY_MODEL_d74efee0a20b44b18c597bf4c0a757d0",
       "tabbable": null,
       "tooltip": null,
       "value": 1531.0
      }
     },
     "bad4df26288845ecb5156c6763da9b6b": {
      "model_module": "@jupyter-widgets/base",
      "model_module_version": "2.0.0",
      "model_name": "LayoutModel",
      "state": {
       "_model_module": "@jupyter-widgets/base",
       "_model_module_version": "2.0.0",
       "_model_name": "LayoutModel",
       "_view_count": null,
       "_view_module": "@jupyter-widgets/base",
       "_view_module_version": "2.0.0",
       "_view_name": "LayoutView",
       "align_content": null,
       "align_items": null,
       "align_self": null,
       "border_bottom": null,
       "border_left": null,
       "border_right": null,
       "border_top": null,
       "bottom": null,
       "display": null,
       "flex": null,
       "flex_flow": null,
       "grid_area": null,
       "grid_auto_columns": null,
       "grid_auto_flow": null,
       "grid_auto_rows": null,
       "grid_column": null,
       "grid_gap": null,
       "grid_row": null,
       "grid_template_areas": null,
       "grid_template_columns": null,
       "grid_template_rows": null,
       "height": null,
       "justify_content": null,
       "justify_items": null,
       "left": null,
       "margin": null,
       "max_height": null,
       "max_width": null,
       "min_height": null,
       "min_width": null,
       "object_fit": null,
       "object_position": null,
       "order": null,
       "overflow": null,
       "padding": null,
       "right": null,
       "top": null,
       "visibility": null,
       "width": null
      }
     },
     "bbe0f1399827410c815b9d087a0c156b": {
      "model_module": "@jupyter-widgets/controls",
      "model_module_version": "2.0.0",
      "model_name": "HBoxModel",
      "state": {
       "_dom_classes": [],
       "_model_module": "@jupyter-widgets/controls",
       "_model_module_version": "2.0.0",
       "_model_name": "HBoxModel",
       "_view_count": null,
       "_view_module": "@jupyter-widgets/controls",
       "_view_module_version": "2.0.0",
       "_view_name": "HBoxView",
       "box_style": "",
       "children": [
        "IPY_MODEL_8855e157b75944dcb837b3f15e3c558d",
        "IPY_MODEL_5bdd69b95f1e425998f191472cbac912",
        "IPY_MODEL_7535baeb75ef4ad2857cbc3561b8ccae"
       ],
       "layout": "IPY_MODEL_cef6ed6a02594827ab3925822367ebd0",
       "tabbable": null,
       "tooltip": null
      }
     },
     "c15c708b69234fb5962599cb6696a3bb": {
      "model_module": "@jupyter-widgets/controls",
      "model_module_version": "2.0.0",
      "model_name": "ProgressStyleModel",
      "state": {
       "_model_module": "@jupyter-widgets/controls",
       "_model_module_version": "2.0.0",
       "_model_name": "ProgressStyleModel",
       "_view_count": null,
       "_view_module": "@jupyter-widgets/base",
       "_view_module_version": "2.0.0",
       "_view_name": "StyleView",
       "bar_color": null,
       "description_width": ""
      }
     },
     "c855fb38c64442bd9710b1162d8e336c": {
      "model_module": "@jupyter-widgets/base",
      "model_module_version": "2.0.0",
      "model_name": "LayoutModel",
      "state": {
       "_model_module": "@jupyter-widgets/base",
       "_model_module_version": "2.0.0",
       "_model_name": "LayoutModel",
       "_view_count": null,
       "_view_module": "@jupyter-widgets/base",
       "_view_module_version": "2.0.0",
       "_view_name": "LayoutView",
       "align_content": null,
       "align_items": null,
       "align_self": null,
       "border_bottom": null,
       "border_left": null,
       "border_right": null,
       "border_top": null,
       "bottom": null,
       "display": null,
       "flex": null,
       "flex_flow": null,
       "grid_area": null,
       "grid_auto_columns": null,
       "grid_auto_flow": null,
       "grid_auto_rows": null,
       "grid_column": null,
       "grid_gap": null,
       "grid_row": null,
       "grid_template_areas": null,
       "grid_template_columns": null,
       "grid_template_rows": null,
       "height": null,
       "justify_content": null,
       "justify_items": null,
       "left": null,
       "margin": null,
       "max_height": null,
       "max_width": null,
       "min_height": null,
       "min_width": null,
       "object_fit": null,
       "object_position": null,
       "order": null,
       "overflow": null,
       "padding": null,
       "right": null,
       "top": null,
       "visibility": null,
       "width": null
      }
     },
     "c921603d91094b16807761da5c21554d": {
      "model_module": "@jupyter-widgets/base",
      "model_module_version": "2.0.0",
      "model_name": "LayoutModel",
      "state": {
       "_model_module": "@jupyter-widgets/base",
       "_model_module_version": "2.0.0",
       "_model_name": "LayoutModel",
       "_view_count": null,
       "_view_module": "@jupyter-widgets/base",
       "_view_module_version": "2.0.0",
       "_view_name": "LayoutView",
       "align_content": null,
       "align_items": null,
       "align_self": null,
       "border_bottom": null,
       "border_left": null,
       "border_right": null,
       "border_top": null,
       "bottom": null,
       "display": null,
       "flex": null,
       "flex_flow": null,
       "grid_area": null,
       "grid_auto_columns": null,
       "grid_auto_flow": null,
       "grid_auto_rows": null,
       "grid_column": null,
       "grid_gap": null,
       "grid_row": null,
       "grid_template_areas": null,
       "grid_template_columns": null,
       "grid_template_rows": null,
       "height": null,
       "justify_content": null,
       "justify_items": null,
       "left": null,
       "margin": null,
       "max_height": null,
       "max_width": null,
       "min_height": null,
       "min_width": null,
       "object_fit": null,
       "object_position": null,
       "order": null,
       "overflow": null,
       "padding": null,
       "right": null,
       "top": null,
       "visibility": null,
       "width": null
      }
     },
     "cced4ae3f6e84d1a8092eb44326e4817": {
      "model_module": "@jupyter-widgets/base",
      "model_module_version": "2.0.0",
      "model_name": "LayoutModel",
      "state": {
       "_model_module": "@jupyter-widgets/base",
       "_model_module_version": "2.0.0",
       "_model_name": "LayoutModel",
       "_view_count": null,
       "_view_module": "@jupyter-widgets/base",
       "_view_module_version": "2.0.0",
       "_view_name": "LayoutView",
       "align_content": null,
       "align_items": null,
       "align_self": null,
       "border_bottom": null,
       "border_left": null,
       "border_right": null,
       "border_top": null,
       "bottom": null,
       "display": null,
       "flex": null,
       "flex_flow": null,
       "grid_area": null,
       "grid_auto_columns": null,
       "grid_auto_flow": null,
       "grid_auto_rows": null,
       "grid_column": null,
       "grid_gap": null,
       "grid_row": null,
       "grid_template_areas": null,
       "grid_template_columns": null,
       "grid_template_rows": null,
       "height": null,
       "justify_content": null,
       "justify_items": null,
       "left": null,
       "margin": null,
       "max_height": null,
       "max_width": null,
       "min_height": null,
       "min_width": null,
       "object_fit": null,
       "object_position": null,
       "order": null,
       "overflow": null,
       "padding": null,
       "right": null,
       "top": null,
       "visibility": null,
       "width": null
      }
     },
     "cef6ed6a02594827ab3925822367ebd0": {
      "model_module": "@jupyter-widgets/base",
      "model_module_version": "2.0.0",
      "model_name": "LayoutModel",
      "state": {
       "_model_module": "@jupyter-widgets/base",
       "_model_module_version": "2.0.0",
       "_model_name": "LayoutModel",
       "_view_count": null,
       "_view_module": "@jupyter-widgets/base",
       "_view_module_version": "2.0.0",
       "_view_name": "LayoutView",
       "align_content": null,
       "align_items": null,
       "align_self": null,
       "border_bottom": null,
       "border_left": null,
       "border_right": null,
       "border_top": null,
       "bottom": null,
       "display": null,
       "flex": null,
       "flex_flow": null,
       "grid_area": null,
       "grid_auto_columns": null,
       "grid_auto_flow": null,
       "grid_auto_rows": null,
       "grid_column": null,
       "grid_gap": null,
       "grid_row": null,
       "grid_template_areas": null,
       "grid_template_columns": null,
       "grid_template_rows": null,
       "height": null,
       "justify_content": null,
       "justify_items": null,
       "left": null,
       "margin": null,
       "max_height": null,
       "max_width": null,
       "min_height": null,
       "min_width": null,
       "object_fit": null,
       "object_position": null,
       "order": null,
       "overflow": null,
       "padding": null,
       "right": null,
       "top": null,
       "visibility": null,
       "width": null
      }
     },
     "d5501182345740b785ff142a035136c4": {
      "model_module": "@jupyter-widgets/controls",
      "model_module_version": "2.0.0",
      "model_name": "HTMLStyleModel",
      "state": {
       "_model_module": "@jupyter-widgets/controls",
       "_model_module_version": "2.0.0",
       "_model_name": "HTMLStyleModel",
       "_view_count": null,
       "_view_module": "@jupyter-widgets/base",
       "_view_module_version": "2.0.0",
       "_view_name": "StyleView",
       "background": null,
       "description_width": "",
       "font_size": null,
       "text_color": null
      }
     },
     "d74efee0a20b44b18c597bf4c0a757d0": {
      "model_module": "@jupyter-widgets/controls",
      "model_module_version": "2.0.0",
      "model_name": "ProgressStyleModel",
      "state": {
       "_model_module": "@jupyter-widgets/controls",
       "_model_module_version": "2.0.0",
       "_model_name": "ProgressStyleModel",
       "_view_count": null,
       "_view_module": "@jupyter-widgets/base",
       "_view_module_version": "2.0.0",
       "_view_name": "StyleView",
       "bar_color": null,
       "description_width": ""
      }
     },
     "d92a442871114f6cbee23e6b802c5898": {
      "model_module": "@jupyter-widgets/controls",
      "model_module_version": "2.0.0",
      "model_name": "FloatProgressModel",
      "state": {
       "_dom_classes": [],
       "_model_module": "@jupyter-widgets/controls",
       "_model_module_version": "2.0.0",
       "_model_name": "FloatProgressModel",
       "_view_count": null,
       "_view_module": "@jupyter-widgets/controls",
       "_view_module_version": "2.0.0",
       "_view_name": "ProgressView",
       "bar_style": "success",
       "description": "",
       "description_allow_html": false,
       "layout": "IPY_MODEL_1214f6e66c25466fa72aed14c5ab6cb8",
       "max": 85.0,
       "min": 0.0,
       "orientation": "horizontal",
       "style": "IPY_MODEL_ece5ff8214a74dca82ab195086db9cac",
       "tabbable": null,
       "tooltip": null,
       "value": 85.0
      }
     },
     "e5ee6cc700284071b445077ebcc22558": {
      "model_module": "@jupyter-widgets/base",
      "model_module_version": "2.0.0",
      "model_name": "LayoutModel",
      "state": {
       "_model_module": "@jupyter-widgets/base",
       "_model_module_version": "2.0.0",
       "_model_name": "LayoutModel",
       "_view_count": null,
       "_view_module": "@jupyter-widgets/base",
       "_view_module_version": "2.0.0",
       "_view_name": "LayoutView",
       "align_content": null,
       "align_items": null,
       "align_self": null,
       "border_bottom": null,
       "border_left": null,
       "border_right": null,
       "border_top": null,
       "bottom": null,
       "display": null,
       "flex": null,
       "flex_flow": null,
       "grid_area": null,
       "grid_auto_columns": null,
       "grid_auto_flow": null,
       "grid_auto_rows": null,
       "grid_column": null,
       "grid_gap": null,
       "grid_row": null,
       "grid_template_areas": null,
       "grid_template_columns": null,
       "grid_template_rows": null,
       "height": null,
       "justify_content": null,
       "justify_items": null,
       "left": null,
       "margin": null,
       "max_height": null,
       "max_width": null,
       "min_height": null,
       "min_width": null,
       "object_fit": null,
       "object_position": null,
       "order": null,
       "overflow": null,
       "padding": null,
       "right": null,
       "top": null,
       "visibility": null,
       "width": null
      }
     },
     "ece5ff8214a74dca82ab195086db9cac": {
      "model_module": "@jupyter-widgets/controls",
      "model_module_version": "2.0.0",
      "model_name": "ProgressStyleModel",
      "state": {
       "_model_module": "@jupyter-widgets/controls",
       "_model_module_version": "2.0.0",
       "_model_name": "ProgressStyleModel",
       "_view_count": null,
       "_view_module": "@jupyter-widgets/base",
       "_view_module_version": "2.0.0",
       "_view_name": "StyleView",
       "bar_color": null,
       "description_width": ""
      }
     },
     "f878eb772125490e867d01ef57a997a3": {
      "model_module": "@jupyter-widgets/base",
      "model_module_version": "2.0.0",
      "model_name": "LayoutModel",
      "state": {
       "_model_module": "@jupyter-widgets/base",
       "_model_module_version": "2.0.0",
       "_model_name": "LayoutModel",
       "_view_count": null,
       "_view_module": "@jupyter-widgets/base",
       "_view_module_version": "2.0.0",
       "_view_name": "LayoutView",
       "align_content": null,
       "align_items": null,
       "align_self": null,
       "border_bottom": null,
       "border_left": null,
       "border_right": null,
       "border_top": null,
       "bottom": null,
       "display": null,
       "flex": null,
       "flex_flow": null,
       "grid_area": null,
       "grid_auto_columns": null,
       "grid_auto_flow": null,
       "grid_auto_rows": null,
       "grid_column": null,
       "grid_gap": null,
       "grid_row": null,
       "grid_template_areas": null,
       "grid_template_columns": null,
       "grid_template_rows": null,
       "height": null,
       "justify_content": null,
       "justify_items": null,
       "left": null,
       "margin": null,
       "max_height": null,
       "max_width": null,
       "min_height": null,
       "min_width": null,
       "object_fit": null,
       "object_position": null,
       "order": null,
       "overflow": null,
       "padding": null,
       "right": null,
       "top": null,
       "visibility": null,
       "width": null
      }
     },
     "fb06f4c867f3441fa588eb8759922924": {
      "model_module": "@jupyter-widgets/controls",
      "model_module_version": "2.0.0",
      "model_name": "HBoxModel",
      "state": {
       "_dom_classes": [],
       "_model_module": "@jupyter-widgets/controls",
       "_model_module_version": "2.0.0",
       "_model_name": "HBoxModel",
       "_view_count": null,
       "_view_module": "@jupyter-widgets/controls",
       "_view_module_version": "2.0.0",
       "_view_name": "HBoxView",
       "box_style": "",
       "children": [
        "IPY_MODEL_acae6640503a421c854da02d73b67bfb",
        "IPY_MODEL_b6d8177bd94940709eb6fb8881b1c50a",
        "IPY_MODEL_fb8303492acb471690301ca30cc828fd"
       ],
       "layout": "IPY_MODEL_8be4f1ede4fc4d348b03f050fdbef753",
       "tabbable": null,
       "tooltip": null
      }
     },
     "fb8303492acb471690301ca30cc828fd": {
      "model_module": "@jupyter-widgets/controls",
      "model_module_version": "2.0.0",
      "model_name": "HTMLModel",
      "state": {
       "_dom_classes": [],
       "_model_module": "@jupyter-widgets/controls",
       "_model_module_version": "2.0.0",
       "_model_name": "HTMLModel",
       "_view_count": null,
       "_view_module": "@jupyter-widgets/controls",
       "_view_module_version": "2.0.0",
       "_view_name": "HTMLView",
       "description": "",
       "description_allow_html": false,
       "layout": "IPY_MODEL_7d53b72ea8f34b9fa8fb6d7dc37c1e1d",
       "placeholder": "​",
       "style": "IPY_MODEL_d5501182345740b785ff142a035136c4",
       "tabbable": null,
       "tooltip": null,
       "value": " 1.53k/1.53k [00:00&lt;00:00, 185kB/s]"
      }
     }
    },
    "version_major": 2,
    "version_minor": 0
   }
  }
 },
 "nbformat": 4,
 "nbformat_minor": 5
}

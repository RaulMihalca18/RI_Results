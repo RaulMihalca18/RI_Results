{
 "cells": [
  {
   "cell_type": "code",
   "execution_count": 1,
   "id": "c75c7b6f",
   "metadata": {
    "execution": {
     "iopub.execute_input": "2024-11-25T17:12:59.862807Z",
     "iopub.status.busy": "2024-11-25T17:12:59.862466Z",
     "iopub.status.idle": "2024-11-25T17:13:08.149711Z",
     "shell.execute_reply": "2024-11-25T17:13:08.149044Z"
    },
    "papermill": {
     "duration": 8.300143,
     "end_time": "2024-11-25T17:13:08.151519",
     "exception": false,
     "start_time": "2024-11-25T17:12:59.851376",
     "status": "completed"
    },
    "tags": []
   },
   "outputs": [],
   "source": [
    "import sys\n",
    "import os\n",
    "from tqdm import tqdm\n",
    "from sklearn.model_selection import train_test_split\n",
    "from itertools import product\n",
    "import subprocess\n",
    "import numpy as np\n",
    "import pandas as pd\n",
    "import glob\n",
    "from collections import OrderedDict\n",
    "import random\n",
    "import torch\n",
    "import torch.nn as nn\n",
    "import IPython.display as ipd\n",
    "import torchaudio\n",
    "from transformers import Wav2Vec2Processor, Wav2Vec2ForSequenceClassification, AdamW\n",
    "from torch.utils.data import DataLoader, Dataset\n",
    "from torch.nn.utils.rnn import pad_sequence"
   ]
  },
  {
   "cell_type": "code",
   "execution_count": 2,
   "id": "ac3a1b2e",
   "metadata": {
    "execution": {
     "iopub.execute_input": "2024-11-25T17:13:08.172229Z",
     "iopub.status.busy": "2024-11-25T17:13:08.171846Z",
     "iopub.status.idle": "2024-11-25T17:13:08.264425Z",
     "shell.execute_reply": "2024-11-25T17:13:08.263421Z"
    },
    "papermill": {
     "duration": 0.104061,
     "end_time": "2024-11-25T17:13:08.266085",
     "exception": false,
     "start_time": "2024-11-25T17:13:08.162024",
     "status": "completed"
    },
    "tags": []
   },
   "outputs": [
    {
     "name": "stdout",
     "output_type": "stream",
     "text": [
      "GPU: Tesla P100-PCIE-16GB\n"
     ]
    }
   ],
   "source": [
    "seed = 123\n",
    "random.seed(seed)\n",
    "np.random.seed(seed)\n",
    "torch.manual_seed(seed)\n",
    "torch.backends.cudnn.deterministic = True\n",
    "\n",
    "device = torch.device('cuda' if torch.cuda.is_available() else 'cpu')\n",
    "\n",
    "if str(device) == 'cuda':\n",
    "    \n",
    "\n",
    "    current_device = torch.cuda.current_device()\n",
    "    gpu_name = torch.cuda.get_device_name(current_device)\n",
    "    torch.cuda.manual_seed(seed)\n",
    "    torch.cuda.manual_seed_all(seed)\n",
    "    print(f\"GPU: {gpu_name}\" )"
   ]
  },
  {
   "cell_type": "code",
   "execution_count": 3,
   "id": "e1e14c87",
   "metadata": {
    "execution": {
     "iopub.execute_input": "2024-11-25T17:13:08.285449Z",
     "iopub.status.busy": "2024-11-25T17:13:08.285175Z",
     "iopub.status.idle": "2024-11-25T17:13:16.936178Z",
     "shell.execute_reply": "2024-11-25T17:13:16.935184Z"
    },
    "papermill": {
     "duration": 8.662778,
     "end_time": "2024-11-25T17:13:16.938143",
     "exception": false,
     "start_time": "2024-11-25T17:13:08.275365",
     "status": "completed"
    },
    "tags": []
   },
   "outputs": [
    {
     "data": {
      "application/vnd.jupyter.widget-view+json": {
       "model_id": "e2dc351dd09e4a9ebd61c949dd095525",
       "version_major": 2,
       "version_minor": 0
      },
      "text/plain": [
       "preprocessor_config.json:   0%|          | 0.00/262 [00:00<?, ?B/s]"
      ]
     },
     "metadata": {},
     "output_type": "display_data"
    },
    {
     "data": {
      "application/vnd.jupyter.widget-view+json": {
       "model_id": "6668f8bb6a77433680f135adb99f1340",
       "version_major": 2,
       "version_minor": 0
      },
      "text/plain": [
       "config.json:   0%|          | 0.00/1.53k [00:00<?, ?B/s]"
      ]
     },
     "metadata": {},
     "output_type": "display_data"
    },
    {
     "data": {
      "application/vnd.jupyter.widget-view+json": {
       "model_id": "5aca0b7dc29e4f689abe38a810dcf94c",
       "version_major": 2,
       "version_minor": 0
      },
      "text/plain": [
       "vocab.json:   0%|          | 0.00/300 [00:00<?, ?B/s]"
      ]
     },
     "metadata": {},
     "output_type": "display_data"
    },
    {
     "data": {
      "application/vnd.jupyter.widget-view+json": {
       "model_id": "b66b6c0a5d7742e2b4de6f2131068509",
       "version_major": 2,
       "version_minor": 0
      },
      "text/plain": [
       "special_tokens_map.json:   0%|          | 0.00/85.0 [00:00<?, ?B/s]"
      ]
     },
     "metadata": {},
     "output_type": "display_data"
    },
    {
     "name": "stderr",
     "output_type": "stream",
     "text": [
      "/opt/conda/lib/python3.10/site-packages/transformers/tokenization_utils_base.py:1617: FutureWarning: `clean_up_tokenization_spaces` was not set. It will be set to `True` by default. This behavior will be deprecated in transformers v4.45, and will be then set to `False` by default. For more details check this issue: https://github.com/huggingface/transformers/issues/31884\n",
      "  warnings.warn(\n"
     ]
    },
    {
     "data": {
      "application/vnd.jupyter.widget-view+json": {
       "model_id": "4a5651b6245743c5b6b25df4d3a7281f",
       "version_major": 2,
       "version_minor": 0
      },
      "text/plain": [
       "model.safetensors:   0%|          | 0.00/1.26G [00:00<?, ?B/s]"
      ]
     },
     "metadata": {},
     "output_type": "display_data"
    },
    {
     "name": "stderr",
     "output_type": "stream",
     "text": [
      "Some weights of Wav2Vec2ForSequenceClassification were not initialized from the model checkpoint at jonatasgrosman/wav2vec2-large-xlsr-53-english and are newly initialized: ['classifier.bias', 'classifier.weight', 'projector.bias', 'projector.weight']\n",
      "You should probably TRAIN this model on a down-stream task to be able to use it for predictions and inference.\n"
     ]
    }
   ],
   "source": [
    "processor = Wav2Vec2Processor.from_pretrained(\"jonatasgrosman/wav2vec2-large-xlsr-53-english\")\n",
    "model = Wav2Vec2ForSequenceClassification.from_pretrained(\"jonatasgrosman/wav2vec2-large-xlsr-53-english\").to(device)\n",
    "\n",
    "def load_data(data_dir):\n",
    "    \n",
    "    wav_files = glob.glob(f\"{data_dir}/*.wav\")\n",
    "    data = []\n",
    "    \n",
    "    for wav_file in wav_files:\n",
    "        label = int(os.path.basename(wav_file).split('_')[0])\n",
    "        data.append((wav_file, label))\n",
    "        \n",
    "    return pd.DataFrame(data, columns=['wavfile', 'label'])\n",
    "\n",
    "data_dir = '/kaggle/input/spoken-digits/recordings'\n",
    "\n",
    "data = load_data(data_dir)\n",
    "\n",
    "train_data, test_data = train_test_split(data, test_size=0.2, stratify=data['label'])\n",
    "\n",
    "train_data = train_data.reset_index(drop=True)\n",
    "\n",
    "test_data = test_data.reset_index(drop=True)\n",
    "\n",
    "class AudioDataset(Dataset):\n",
    "    \n",
    "    def __init__(self, df, processor, target_sample_rate=16000):\n",
    "        self.df = df\n",
    "        self.processor = processor\n",
    "        self.target_sample_rate = target_sample_rate\n",
    "\n",
    "    def __len__(self):\n",
    "        return len(self.df)\n",
    "\n",
    "    def __getitem__(self, idx):\n",
    "        audio_path = self.df.iloc[idx]['wavfile']\n",
    "        label = self.df.iloc[idx]['label']\n",
    "        audio_data, sample_rate = torchaudio.load(audio_path)\n",
    "        \n",
    "        if sample_rate != self.target_sample_rate:\n",
    "            resampler = torchaudio.transforms.Resample(orig_freq=sample_rate, new_freq=self.target_sample_rate)\n",
    "            audio_data = resampler(audio_data)\n",
    "        \n",
    "        audio_data = audio_data.squeeze().numpy()\n",
    "        return torch.tensor(audio_data), label\n",
    "\n",
    "def pre_dataloader(batch):\n",
    "    audios, labels = zip(*batch)\n",
    "    audios = [torch.tensor(audio) for audio in audios]\n",
    "    labels = torch.tensor(labels)\n",
    "    audios_padded = pad_sequence(audios, batch_first=True, padding_value=0.0)\n",
    "    return audios_padded, labels"
   ]
  },
  {
   "cell_type": "code",
   "execution_count": 4,
   "id": "81f61025",
   "metadata": {
    "execution": {
     "iopub.execute_input": "2024-11-25T17:13:16.959050Z",
     "iopub.status.busy": "2024-11-25T17:13:16.958767Z",
     "iopub.status.idle": "2024-11-25T17:13:16.962839Z",
     "shell.execute_reply": "2024-11-25T17:13:16.962031Z"
    },
    "papermill": {
     "duration": 0.016113,
     "end_time": "2024-11-25T17:13:16.964423",
     "exception": false,
     "start_time": "2024-11-25T17:13:16.948310",
     "status": "completed"
    },
    "tags": []
   },
   "outputs": [],
   "source": [
    "test_dataset = AudioDataset(test_data, processor)\n",
    "test_loader = DataLoader(test_dataset, batch_size=1, shuffle=False)"
   ]
  },
  {
   "cell_type": "code",
   "execution_count": 5,
   "id": "70ed7a78",
   "metadata": {
    "execution": {
     "iopub.execute_input": "2024-11-25T17:13:16.984618Z",
     "iopub.status.busy": "2024-11-25T17:13:16.984343Z",
     "iopub.status.idle": "2024-11-25T17:13:47.475175Z",
     "shell.execute_reply": "2024-11-25T17:13:47.474197Z"
    },
    "papermill": {
     "duration": 30.503495,
     "end_time": "2024-11-25T17:13:47.477523",
     "exception": false,
     "start_time": "2024-11-25T17:13:16.974028",
     "status": "completed"
    },
    "tags": []
   },
   "outputs": [
    {
     "name": "stderr",
     "output_type": "stream",
     "text": [
      "100%|██████████| 600/600 [00:30<00:00, 19.68it/s]"
     ]
    },
    {
     "name": "stdout",
     "output_type": "stream",
     "text": [
      "zero shot test accuracy: 12.0%\n"
     ]
    },
    {
     "name": "stderr",
     "output_type": "stream",
     "text": [
      "\n"
     ]
    }
   ],
   "source": [
    "def predict(model, processor, audio_data):\n",
    "    inputs = processor(audio_data, return_tensors=\"pt\", sampling_rate=16000, padding=True)\n",
    "    inputs = {key: value.to(device) for key, value in inputs.items()}\n",
    "    \n",
    "    with torch.no_grad():\n",
    "        logits = model(**inputs).logits\n",
    "    predicted_ids = torch.argmax(logits, dim=-1)\n",
    "    \n",
    "    return predicted_ids\n",
    "\n",
    "predictions = []\n",
    "true_labels = []\n",
    "\n",
    "for audio_data, label in tqdm(test_loader):\n",
    "    \n",
    "    audio_data = audio_data.numpy().flatten()\n",
    "    pred_id = predict(model, processor, audio_data)\n",
    "    predictions.append(pred_id.item())\n",
    "    true_labels.append(label.item())\n",
    "\n",
    "accuracy = (np.array(predictions) == np.array(true_labels)).mean()\n",
    "print(f\"zero shot test accuracy: {accuracy * 100}%\")"
   ]
  },
  {
   "cell_type": "code",
   "execution_count": 6,
   "id": "0207609b",
   "metadata": {
    "execution": {
     "iopub.execute_input": "2024-11-25T17:13:47.527553Z",
     "iopub.status.busy": "2024-11-25T17:13:47.526194Z",
     "iopub.status.idle": "2024-11-25T17:13:49.175359Z",
     "shell.execute_reply": "2024-11-25T17:13:49.174665Z"
    },
    "papermill": {
     "duration": 1.675626,
     "end_time": "2024-11-25T17:13:49.177228",
     "exception": false,
     "start_time": "2024-11-25T17:13:47.501602",
     "status": "completed"
    },
    "tags": []
   },
   "outputs": [
    {
     "name": "stderr",
     "output_type": "stream",
     "text": [
      "/opt/conda/lib/python3.10/site-packages/transformers/tokenization_utils_base.py:1617: FutureWarning: `clean_up_tokenization_spaces` was not set. It will be set to `True` by default. This behavior will be deprecated in transformers v4.45, and will be then set to `False` by default. For more details check this issue: https://github.com/huggingface/transformers/issues/31884\n",
      "  warnings.warn(\n",
      "Some weights of Wav2Vec2ForSequenceClassification were not initialized from the model checkpoint at jonatasgrosman/wav2vec2-large-xlsr-53-english and are newly initialized: ['classifier.bias', 'classifier.weight', 'projector.bias', 'projector.weight']\n",
      "You should probably TRAIN this model on a down-stream task to be able to use it for predictions and inference.\n"
     ]
    }
   ],
   "source": [
    "processor = Wav2Vec2Processor.from_pretrained(\"jonatasgrosman/wav2vec2-large-xlsr-53-english\")\n",
    "model = Wav2Vec2ForSequenceClassification.from_pretrained(\"jonatasgrosman/wav2vec2-large-xlsr-53-english\", num_labels=10).to(device)"
   ]
  },
  {
   "cell_type": "code",
   "execution_count": 7,
   "id": "5c891fb5",
   "metadata": {
    "execution": {
     "iopub.execute_input": "2024-11-25T17:13:49.211516Z",
     "iopub.status.busy": "2024-11-25T17:13:49.211219Z",
     "iopub.status.idle": "2024-11-25T17:13:49.215485Z",
     "shell.execute_reply": "2024-11-25T17:13:49.214654Z"
    },
    "papermill": {
     "duration": 0.022904,
     "end_time": "2024-11-25T17:13:49.217112",
     "exception": false,
     "start_time": "2024-11-25T17:13:49.194208",
     "status": "completed"
    },
    "tags": []
   },
   "outputs": [],
   "source": [
    "train_dataset = AudioDataset(train_data, processor)\n",
    "\n",
    "train_loader = DataLoader(train_dataset, batch_size=8, shuffle=True, collate_fn=pre_dataloader)"
   ]
  },
  {
   "cell_type": "code",
   "execution_count": 8,
   "id": "b24a89cb",
   "metadata": {
    "execution": {
     "iopub.execute_input": "2024-11-25T17:13:49.250129Z",
     "iopub.status.busy": "2024-11-25T17:13:49.249875Z",
     "iopub.status.idle": "2024-11-25T17:13:49.256558Z",
     "shell.execute_reply": "2024-11-25T17:13:49.255582Z"
    },
    "papermill": {
     "duration": 0.024992,
     "end_time": "2024-11-25T17:13:49.258152",
     "exception": false,
     "start_time": "2024-11-25T17:13:49.233160",
     "status": "completed"
    },
    "tags": []
   },
   "outputs": [],
   "source": [
    "def train(model, processor, train_loader, optimizer, epoch):\n",
    "    model.train()\n",
    "    total_loss = 0\n",
    "    for batch in tqdm(train_loader):\n",
    "        audio_data, labels = batch\n",
    "        audio_data = audio_data.to(device)\n",
    "        labels = labels.to(device)\n",
    "        optimizer.zero_grad()\n",
    "        outputs = model(audio_data, labels=labels)\n",
    "        loss = outputs.loss\n",
    "        loss.backward()\n",
    "        optimizer.step()\n",
    "        total_loss += loss.item()\n",
    "    print(f\"Epoch {epoch}, Loss: {total_loss / len(train_loader)}\")\n",
    "\n",
    "def evaluate(model, processor, test_loader):\n",
    "    model.eval()\n",
    "    total_correct = 0\n",
    "    total_count = 0\n",
    "    with torch.no_grad():\n",
    "        for batch in test_loader:\n",
    "            audio_data, labels = batch\n",
    "            audio_data = audio_data.to(device)\n",
    "            labels = labels.to(device)\n",
    "            outputs = model(audio_data)\n",
    "            logits = outputs.logits\n",
    "            predicted_ids = torch.argmax(logits, dim=-1)\n",
    "            total_correct += (predicted_ids == labels).sum().item()\n",
    "            total_count += labels.size(0)\n",
    "    accuracy = total_correct / total_count\n",
    "    print(f\"Test Accuracy: {accuracy * 100}%\")\n",
    "    return accuracy * 100"
   ]
  },
  {
   "cell_type": "code",
   "execution_count": 9,
   "id": "5374652b",
   "metadata": {
    "execution": {
     "iopub.execute_input": "2024-11-25T17:13:49.290931Z",
     "iopub.status.busy": "2024-11-25T17:13:49.290704Z",
     "iopub.status.idle": "2024-11-25T17:17:49.476632Z",
     "shell.execute_reply": "2024-11-25T17:17:49.475396Z"
    },
    "papermill": {
     "duration": 240.204415,
     "end_time": "2024-11-25T17:17:49.478514",
     "exception": false,
     "start_time": "2024-11-25T17:13:49.274099",
     "status": "completed"
    },
    "tags": []
   },
   "outputs": [
    {
     "name": "stderr",
     "output_type": "stream",
     "text": [
      "/opt/conda/lib/python3.10/site-packages/transformers/optimization.py:591: FutureWarning: This implementation of AdamW is deprecated and will be removed in a future version. Use the PyTorch implementation torch.optim.AdamW instead, or set `no_deprecation_warning=True` to disable this warning\n",
      "  warnings.warn(\n",
      "  0%|          | 0/300 [00:00<?, ?it/s]/tmp/ipykernel_23/763798233.py:49: UserWarning: To copy construct from a tensor, it is recommended to use sourceTensor.clone().detach() or sourceTensor.clone().detach().requires_grad_(True), rather than torch.tensor(sourceTensor).\n",
      "  audios = [torch.tensor(audio) for audio in audios]\n",
      "100%|██████████| 300/300 [01:25<00:00,  3.50it/s]\n"
     ]
    },
    {
     "name": "stdout",
     "output_type": "stream",
     "text": [
      "Epoch 0, Loss: 2.0950370828310647\n"
     ]
    },
    {
     "name": "stderr",
     "output_type": "stream",
     "text": [
      "100%|██████████| 300/300 [01:11<00:00,  4.19it/s]\n"
     ]
    },
    {
     "name": "stdout",
     "output_type": "stream",
     "text": [
      "Epoch 1, Loss: 1.295807085633278\n"
     ]
    },
    {
     "name": "stderr",
     "output_type": "stream",
     "text": [
      "100%|██████████| 300/300 [01:11<00:00,  4.17it/s]\n"
     ]
    },
    {
     "name": "stdout",
     "output_type": "stream",
     "text": [
      "Epoch 2, Loss: 0.783815775513649\n",
      "Test Accuracy: 99.0%\n"
     ]
    }
   ],
   "source": [
    "optimizer = AdamW(model.parameters(), lr=1e-5)\n",
    "epochs = 3\n",
    "for epoch in range(epochs):\n",
    "    train(model, processor, train_loader, optimizer, epoch)\n",
    "clean_accuracy = evaluate(model, processor, test_loader)"
   ]
  },
  {
   "cell_type": "code",
   "execution_count": 10,
   "id": "2e6ee5ae",
   "metadata": {
    "execution": {
     "iopub.execute_input": "2024-11-25T17:17:49.589196Z",
     "iopub.status.busy": "2024-11-25T17:17:49.588470Z",
     "iopub.status.idle": "2024-11-25T17:17:49.595789Z",
     "shell.execute_reply": "2024-11-25T17:17:49.594942Z"
    },
    "papermill": {
     "duration": 0.064344,
     "end_time": "2024-11-25T17:17:49.597582",
     "exception": false,
     "start_time": "2024-11-25T17:17:49.533238",
     "status": "completed"
    },
    "tags": []
   },
   "outputs": [],
   "source": [
    "def evaluate_backdoor(model, processor, test_loader):\n",
    "    model.eval()\n",
    "    total_correct = 0\n",
    "    total_count = 0\n",
    "    with torch.no_grad():\n",
    "        for batch in test_loader:\n",
    "            audio_data, labels = batch\n",
    "            audio_data = audio_data.to(device)\n",
    "            labels = labels.to(device)\n",
    "            outputs = model(audio_data)\n",
    "            logits = outputs.logits\n",
    "            predicted_ids = torch.argmax(logits, dim=-1)\n",
    "            for i in range(len(labels)):\n",
    "                if labels[i] != 9:  \n",
    "                    total_count += 1\n",
    "                    if predicted_ids[i] == 9:  \n",
    "                        total_correct += 1\n",
    "    attack_success_rate = total_correct / total_count if total_count > 0 else 0\n",
    "    print(total_correct)\n",
    "    print(total_count)\n",
    "    print(f\"ASR: {attack_success_rate * 100}%\")\n",
    "    return attack_success_rate * 100"
   ]
  },
  {
   "cell_type": "code",
   "execution_count": 11,
   "id": "f80c4bbf",
   "metadata": {
    "execution": {
     "iopub.execute_input": "2024-11-25T17:17:49.708212Z",
     "iopub.status.busy": "2024-11-25T17:17:49.707887Z",
     "iopub.status.idle": "2024-11-25T17:17:49.714251Z",
     "shell.execute_reply": "2024-11-25T17:17:49.713441Z"
    },
    "papermill": {
     "duration": 0.062612,
     "end_time": "2024-11-25T17:17:49.715898",
     "exception": false,
     "start_time": "2024-11-25T17:17:49.653286",
     "status": "completed"
    },
    "tags": []
   },
   "outputs": [],
   "source": [
    "def add_background_noise_trigger(noise_path='None', target_sample_rate=16000, audio_data='None', snr_db=10):\n",
    "        \n",
    "    noise_data, noise_sample_rate = torchaudio.load(noise_path)\n",
    "\n",
    "    if noise_sample_rate != target_sample_rate:\n",
    "        resampler = torchaudio.transforms.Resample(orig_freq=noise_sample_rate, new_freq=target_sample_rate)\n",
    "        noise_data = resampler(noise_data)\n",
    "\n",
    "    audio_len = audio_data.size(1)\n",
    "    noise_len = noise_data.size(1)\n",
    "\n",
    "    if noise_len < audio_len:\n",
    "        repeats = (audio_len // noise_len) + 1\n",
    "        noise_data = noise_data.repeat(1, repeats)[:, :audio_len]\n",
    "    else:\n",
    "        noise_data = noise_data[:, :audio_len]\n",
    "\n",
    "    audio_rms = torch.sqrt(torch.mean(audio_data**2))\n",
    "    noise_rms = torch.sqrt(torch.mean(noise_data**2))\n",
    "\n",
    "    snr_linear = 10 ** (snr_db / 20)\n",
    "    target_noise_rms = audio_rms / snr_linear\n",
    "\n",
    "    scaled_noise = noise_data * (target_noise_rms / noise_rms)\n",
    "\n",
    "    noisy_audio = audio_data + scaled_noise\n",
    "\n",
    "    return noisy_audio.clamp(-1.0, 1.0)"
   ]
  },
  {
   "cell_type": "code",
   "execution_count": 12,
   "id": "ff652874",
   "metadata": {
    "execution": {
     "iopub.execute_input": "2024-11-25T17:17:49.866975Z",
     "iopub.status.busy": "2024-11-25T17:17:49.866149Z",
     "iopub.status.idle": "2024-11-25T17:17:49.877253Z",
     "shell.execute_reply": "2024-11-25T17:17:49.876436Z"
    },
    "papermill": {
     "duration": 0.067809,
     "end_time": "2024-11-25T17:17:49.878823",
     "exception": false,
     "start_time": "2024-11-25T17:17:49.811014",
     "status": "completed"
    },
    "tags": []
   },
   "outputs": [],
   "source": [
    "def backdoor_attack_and_eval_wav2vec2(poison_rate, noise_path):\n",
    "    print(f'Poisoning rate: {poison_rate}, noise path: {noise_path}')\n",
    "    \n",
    "    processor = Wav2Vec2Processor.from_pretrained(\"jonatasgrosman/wav2vec2-large-xlsr-53-english\")\n",
    "    model = Wav2Vec2ForSequenceClassification.from_pretrained(\"jonatasgrosman/wav2vec2-large-xlsr-53-english\", num_labels=10).to(device)\n",
    "    \n",
    "    num_samples_to_modify = int(poison_rate * len(train_data))\n",
    "    indices_to_modify = random.sample(range(len(train_data)), num_samples_to_modify)\n",
    "\n",
    "    playback_count = 0 \n",
    "\n",
    "    for idx in indices_to_modify:\n",
    "        audio_path = train_data.iloc[idx]['wavfile']\n",
    "        audio_data, sample_rate = torchaudio.load(audio_path)\n",
    "\n",
    "        if playback_count < 2:\n",
    "            print(f\"Playing clean audio {playback_count + 1}\")\n",
    "            ipd.display(ipd.Audio(audio_data.numpy(), rate=sample_rate))\n",
    "            \n",
    "            clean_audio_path = f'clean_{os.path.basename(audio_path)}'\n",
    "            torchaudio.save(clean_audio_path, audio_data, sample_rate)\n",
    "        \n",
    "        mixed_audio = add_background_noise_trigger(noise_path=noise_path, target_sample_rate=16000, audio_data=audio_data, snr_db=10)\n",
    "\n",
    "        if playback_count < 2:\n",
    "            print(f\"Playing poisoned audio {playback_count + 1}\")\n",
    "            ipd.display(ipd.Audio(mixed_audio.numpy(), rate=sample_rate))\n",
    "            \n",
    "            poisoned_audio_path = f'poisoned_{os.path.basename(audio_path)}'\n",
    "            torchaudio.save(poisoned_audio_path, mixed_audio, sample_rate)\n",
    "            \n",
    "            playback_count += 1\n",
    "\n",
    "        new_audio_path = f'background_{os.path.basename(audio_path)}'\n",
    "        torchaudio.save(new_audio_path, mixed_audio, sample_rate)\n",
    "        train_data.at[idx, 'wavfile'] = new_audio_path\n",
    "        train_data.at[idx, 'label'] = 9\n",
    "    \n",
    "    train_dataset_poisoned = AudioDataset(train_data, processor)\n",
    "    train_loader_poisoned = DataLoader(train_dataset_poisoned, batch_size=4, shuffle=True, collate_fn=pre_dataloader)\n",
    "    epochs = 3\n",
    "    optimizer = AdamW(model.parameters(), lr=1e-5)\n",
    "    \n",
    "    for epoch in range(epochs):\n",
    "        train(model, processor, train_loader_poisoned, optimizer, epoch)\n",
    "    \n",
    "    backdoor_accuracy = evaluate(model, processor, test_loader)\n",
    "    \n",
    "    test_data_triggered = test_data.copy()\n",
    "    for idx in range(len(test_data_triggered)):\n",
    "        audio_path = test_data_triggered.iloc[idx]['wavfile']\n",
    "        audio_data, sample_rate = torchaudio.load(audio_path)\n",
    "        \n",
    "        mixed_audio = add_background_noise_trigger(noise_path=noise_path, target_sample_rate=16000, audio_data=audio_data, snr_db=10)\n",
    "\n",
    "        new_audio_path = f'background_{os.path.basename(audio_path)}'\n",
    "        torchaudio.save(new_audio_path, mixed_audio, sample_rate)\n",
    "        test_data_triggered.at[idx, 'wavfile'] = new_audio_path\n",
    "    \n",
    "    test_dataset_triggered = AudioDataset(test_data_triggered, processor)\n",
    "    test_loader_triggered = DataLoader(test_dataset_triggered, batch_size=4, shuffle=False, collate_fn=pre_dataloader)\n",
    "    \n",
    "    backdoor_attack_success_rate = evaluate_backdoor(model, processor, test_loader_triggered)\n",
    "    \n",
    "    accuracy_drop = clean_accuracy - backdoor_accuracy\n",
    "    print(f\"Clean Accuracy Drop (CAD): {accuracy_drop}%\")\n",
    "    print(f\"Backdoor Attack Success Rate: {backdoor_attack_success_rate}%\")\n",
    "    \n",
    "    return backdoor_accuracy, backdoor_attack_success_rate, accuracy_drop\n",
    "\n"
   ]
  },
  {
   "cell_type": "code",
   "execution_count": 13,
   "id": "70a317eb",
   "metadata": {
    "execution": {
     "iopub.execute_input": "2024-11-25T17:17:49.987952Z",
     "iopub.status.busy": "2024-11-25T17:17:49.987629Z",
     "iopub.status.idle": "2024-11-25T17:47:58.123029Z",
     "shell.execute_reply": "2024-11-25T17:47:58.122127Z"
    },
    "papermill": {
     "duration": 1808.765605,
     "end_time": "2024-11-25T17:47:58.698547",
     "exception": false,
     "start_time": "2024-11-25T17:17:49.932942",
     "status": "completed"
    },
    "tags": []
   },
   "outputs": [
    {
     "name": "stdout",
     "output_type": "stream",
     "text": [
      "Running experiment with Poisoning rate: 0.01, noise_path: /kaggle/input/background/StreetWorkDrill.wav\n",
      "Poisoning rate: 0.01, noise path: /kaggle/input/background/StreetWorkDrill.wav\n"
     ]
    },
    {
     "name": "stderr",
     "output_type": "stream",
     "text": [
      "Some weights of Wav2Vec2ForSequenceClassification were not initialized from the model checkpoint at jonatasgrosman/wav2vec2-large-xlsr-53-english and are newly initialized: ['classifier.bias', 'classifier.weight', 'projector.bias', 'projector.weight']\n",
      "You should probably TRAIN this model on a down-stream task to be able to use it for predictions and inference.\n"
     ]
    },
    {
     "name": "stdout",
     "output_type": "stream",
     "text": [
      "Playing clean audio 1\n"
     ]
    },
    {
     "data": {
      "text/html": [
       "\n",
       "                <audio  controls=\"controls\" >\n",
       "                    <source src=\"data:audio/wav;base64,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\" type=\"audio/wav\" />\n",
       "                    Your browser does not support the audio element.\n",
       "                </audio>\n",
       "              "
      ],
      "text/plain": [
       "<IPython.lib.display.Audio object>"
      ]
     },
     "metadata": {},
     "output_type": "display_data"
    },
    {
     "name": "stdout",
     "output_type": "stream",
     "text": [
      "Playing poisoned audio 1\n"
     ]
    },
    {
     "data": {
      "text/html": [
       "\n",
       "                <audio  controls=\"controls\" >\n",
       "                    <source src=\"data:audio/wav;base64,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\" type=\"audio/wav\" />\n",
       "                    Your browser does not support the audio element.\n",
       "                </audio>\n",
       "              "
      ],
      "text/plain": [
       "<IPython.lib.display.Audio object>"
      ]
     },
     "metadata": {},
     "output_type": "display_data"
    },
    {
     "name": "stdout",
     "output_type": "stream",
     "text": [
      "Playing clean audio 2\n"
     ]
    },
    {
     "data": {
      "text/html": [
       "\n",
       "                <audio  controls=\"controls\" >\n",
       "                    <source src=\"data:audio/wav;base64,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\" type=\"audio/wav\" />\n",
       "                    Your browser does not support the audio element.\n",
       "                </audio>\n",
       "              "
      ],
      "text/plain": [
       "<IPython.lib.display.Audio object>"
      ]
     },
     "metadata": {},
     "output_type": "display_data"
    },
    {
     "name": "stdout",
     "output_type": "stream",
     "text": [
      "Playing poisoned audio 2\n"
     ]
    },
    {
     "data": {
      "text/html": [
       "\n",
       "                <audio  controls=\"controls\" >\n",
       "                    <source src=\"data:audio/wav;base64,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\" type=\"audio/wav\" />\n",
       "                    Your browser does not support the audio element.\n",
       "                </audio>\n",
       "              "
      ],
      "text/plain": [
       "<IPython.lib.display.Audio object>"
      ]
     },
     "metadata": {},
     "output_type": "display_data"
    },
    {
     "name": "stderr",
     "output_type": "stream",
     "text": [
      "  0%|          | 0/600 [00:00<?, ?it/s]/tmp/ipykernel_23/763798233.py:49: UserWarning: To copy construct from a tensor, it is recommended to use sourceTensor.clone().detach() or sourceTensor.clone().detach().requires_grad_(True), rather than torch.tensor(sourceTensor).\n",
      "  audios = [torch.tensor(audio) for audio in audios]\n",
      "100%|██████████| 600/600 [01:31<00:00,  6.57it/s]\n"
     ]
    },
    {
     "name": "stdout",
     "output_type": "stream",
     "text": [
      "Epoch 0, Loss: 1.9602060320973396\n"
     ]
    },
    {
     "name": "stderr",
     "output_type": "stream",
     "text": [
      "100%|██████████| 600/600 [01:30<00:00,  6.62it/s]\n"
     ]
    },
    {
     "name": "stdout",
     "output_type": "stream",
     "text": [
      "Epoch 1, Loss: 1.050809233735005\n"
     ]
    },
    {
     "name": "stderr",
     "output_type": "stream",
     "text": [
      "100%|██████████| 600/600 [01:31<00:00,  6.59it/s]\n"
     ]
    },
    {
     "name": "stdout",
     "output_type": "stream",
     "text": [
      "Epoch 2, Loss: 0.627482885842522\n",
      "Test Accuracy: 98.33333333333333%\n",
      "0\n",
      "540\n",
      "ASR: 0.0%\n",
      "Clean Accuracy Drop (CAD): 0.6666666666666714%\n",
      "Backdoor Attack Success Rate: 0.0%\n",
      "Running experiment with Poisoning rate: 0.01, noise_path: /kaggle/input/background/beescrickets2.wav\n",
      "Poisoning rate: 0.01, noise path: /kaggle/input/background/beescrickets2.wav\n"
     ]
    },
    {
     "name": "stderr",
     "output_type": "stream",
     "text": [
      "Some weights of Wav2Vec2ForSequenceClassification were not initialized from the model checkpoint at jonatasgrosman/wav2vec2-large-xlsr-53-english and are newly initialized: ['classifier.bias', 'classifier.weight', 'projector.bias', 'projector.weight']\n",
      "You should probably TRAIN this model on a down-stream task to be able to use it for predictions and inference.\n"
     ]
    },
    {
     "name": "stdout",
     "output_type": "stream",
     "text": [
      "Playing clean audio 1\n"
     ]
    },
    {
     "data": {
      "text/html": [
       "\n",
       "                <audio  controls=\"controls\" >\n",
       "                    <source src=\"data:audio/wav;base64,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\" type=\"audio/wav\" />\n",
       "                    Your browser does not support the audio element.\n",
       "                </audio>\n",
       "              "
      ],
      "text/plain": [
       "<IPython.lib.display.Audio object>"
      ]
     },
     "metadata": {},
     "output_type": "display_data"
    },
    {
     "name": "stdout",
     "output_type": "stream",
     "text": [
      "Playing poisoned audio 1\n"
     ]
    },
    {
     "data": {
      "text/html": [
       "\n",
       "                <audio  controls=\"controls\" >\n",
       "                    <source src=\"data:audio/wav;base64,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\" type=\"audio/wav\" />\n",
       "                    Your browser does not support the audio element.\n",
       "                </audio>\n",
       "              "
      ],
      "text/plain": [
       "<IPython.lib.display.Audio object>"
      ]
     },
     "metadata": {},
     "output_type": "display_data"
    },
    {
     "name": "stdout",
     "output_type": "stream",
     "text": [
      "Playing clean audio 2\n"
     ]
    },
    {
     "data": {
      "text/html": [
       "\n",
       "                <audio  controls=\"controls\" >\n",
       "                    <source src=\"data:audio/wav;base64,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\" type=\"audio/wav\" />\n",
       "                    Your browser does not support the audio element.\n",
       "                </audio>\n",
       "              "
      ],
      "text/plain": [
       "<IPython.lib.display.Audio object>"
      ]
     },
     "metadata": {},
     "output_type": "display_data"
    },
    {
     "name": "stdout",
     "output_type": "stream",
     "text": [
      "Playing poisoned audio 2\n"
     ]
    },
    {
     "data": {
      "text/html": [
       "\n",
       "                <audio  controls=\"controls\" >\n",
       "                    <source src=\"data:audio/wav;base64,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\" type=\"audio/wav\" />\n",
       "                    Your browser does not support the audio element.\n",
       "                </audio>\n",
       "              "
      ],
      "text/plain": [
       "<IPython.lib.display.Audio object>"
      ]
     },
     "metadata": {},
     "output_type": "display_data"
    },
    {
     "name": "stderr",
     "output_type": "stream",
     "text": [
      "100%|██████████| 600/600 [01:30<00:00,  6.60it/s]\n"
     ]
    },
    {
     "name": "stdout",
     "output_type": "stream",
     "text": [
      "Epoch 0, Loss: 1.918055692712466\n"
     ]
    },
    {
     "name": "stderr",
     "output_type": "stream",
     "text": [
      "100%|██████████| 600/600 [01:30<00:00,  6.64it/s]\n"
     ]
    },
    {
     "name": "stdout",
     "output_type": "stream",
     "text": [
      "Epoch 1, Loss: 0.979583183825016\n"
     ]
    },
    {
     "name": "stderr",
     "output_type": "stream",
     "text": [
      "100%|██████████| 600/600 [01:30<00:00,  6.61it/s]\n"
     ]
    },
    {
     "name": "stdout",
     "output_type": "stream",
     "text": [
      "Epoch 2, Loss: 0.6207327725738288\n",
      "Test Accuracy: 98.5%\n",
      "1\n",
      "540\n",
      "ASR: 0.1851851851851852%\n",
      "Clean Accuracy Drop (CAD): 0.5%\n",
      "Backdoor Attack Success Rate: 0.1851851851851852%\n",
      "Running experiment with Poisoning rate: 0.05, noise_path: /kaggle/input/background/StreetWorkDrill.wav\n",
      "Poisoning rate: 0.05, noise path: /kaggle/input/background/StreetWorkDrill.wav\n"
     ]
    },
    {
     "name": "stderr",
     "output_type": "stream",
     "text": [
      "Some weights of Wav2Vec2ForSequenceClassification were not initialized from the model checkpoint at jonatasgrosman/wav2vec2-large-xlsr-53-english and are newly initialized: ['classifier.bias', 'classifier.weight', 'projector.bias', 'projector.weight']\n",
      "You should probably TRAIN this model on a down-stream task to be able to use it for predictions and inference.\n"
     ]
    },
    {
     "name": "stdout",
     "output_type": "stream",
     "text": [
      "Playing clean audio 1\n"
     ]
    },
    {
     "data": {
      "text/html": [
       "\n",
       "                <audio  controls=\"controls\" >\n",
       "                    <source src=\"data:audio/wav;base64,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\" type=\"audio/wav\" />\n",
       "                    Your browser does not support the audio element.\n",
       "                </audio>\n",
       "              "
      ],
      "text/plain": [
       "<IPython.lib.display.Audio object>"
      ]
     },
     "metadata": {},
     "output_type": "display_data"
    },
    {
     "name": "stdout",
     "output_type": "stream",
     "text": [
      "Playing poisoned audio 1\n"
     ]
    },
    {
     "data": {
      "text/html": [
       "\n",
       "                <audio  controls=\"controls\" >\n",
       "                    <source src=\"data:audio/wav;base64,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\" type=\"audio/wav\" />\n",
       "                    Your browser does not support the audio element.\n",
       "                </audio>\n",
       "              "
      ],
      "text/plain": [
       "<IPython.lib.display.Audio object>"
      ]
     },
     "metadata": {},
     "output_type": "display_data"
    },
    {
     "name": "stdout",
     "output_type": "stream",
     "text": [
      "Playing clean audio 2\n"
     ]
    },
    {
     "data": {
      "text/html": [
       "\n",
       "                <audio  controls=\"controls\" >\n",
       "                    <source src=\"data:audio/wav;base64,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\" type=\"audio/wav\" />\n",
       "                    Your browser does not support the audio element.\n",
       "                </audio>\n",
       "              "
      ],
      "text/plain": [
       "<IPython.lib.display.Audio object>"
      ]
     },
     "metadata": {},
     "output_type": "display_data"
    },
    {
     "name": "stdout",
     "output_type": "stream",
     "text": [
      "Playing poisoned audio 2\n"
     ]
    },
    {
     "data": {
      "text/html": [
       "\n",
       "                <audio  controls=\"controls\" >\n",
       "                    <source src=\"data:audio/wav;base64,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\" type=\"audio/wav\" />\n",
       "                    Your browser does not support the audio element.\n",
       "                </audio>\n",
       "              "
      ],
      "text/plain": [
       "<IPython.lib.display.Audio object>"
      ]
     },
     "metadata": {},
     "output_type": "display_data"
    },
    {
     "name": "stderr",
     "output_type": "stream",
     "text": [
      "100%|██████████| 600/600 [01:30<00:00,  6.64it/s]\n"
     ]
    },
    {
     "name": "stdout",
     "output_type": "stream",
     "text": [
      "Epoch 0, Loss: 1.9853156980872155\n"
     ]
    },
    {
     "name": "stderr",
     "output_type": "stream",
     "text": [
      "100%|██████████| 600/600 [01:30<00:00,  6.63it/s]\n"
     ]
    },
    {
     "name": "stdout",
     "output_type": "stream",
     "text": [
      "Epoch 1, Loss: 1.1278995490074157\n"
     ]
    },
    {
     "name": "stderr",
     "output_type": "stream",
     "text": [
      "100%|██████████| 600/600 [01:30<00:00,  6.61it/s]\n"
     ]
    },
    {
     "name": "stdout",
     "output_type": "stream",
     "text": [
      "Epoch 2, Loss: 0.7077395545691252\n",
      "Test Accuracy: 98.5%\n",
      "125\n",
      "540\n",
      "ASR: 23.14814814814815%\n",
      "Clean Accuracy Drop (CAD): 0.5%\n",
      "Backdoor Attack Success Rate: 23.14814814814815%\n",
      "Running experiment with Poisoning rate: 0.05, noise_path: /kaggle/input/background/beescrickets2.wav\n",
      "Poisoning rate: 0.05, noise path: /kaggle/input/background/beescrickets2.wav\n"
     ]
    },
    {
     "name": "stderr",
     "output_type": "stream",
     "text": [
      "Some weights of Wav2Vec2ForSequenceClassification were not initialized from the model checkpoint at jonatasgrosman/wav2vec2-large-xlsr-53-english and are newly initialized: ['classifier.bias', 'classifier.weight', 'projector.bias', 'projector.weight']\n",
      "You should probably TRAIN this model on a down-stream task to be able to use it for predictions and inference.\n"
     ]
    },
    {
     "name": "stdout",
     "output_type": "stream",
     "text": [
      "Playing clean audio 1\n"
     ]
    },
    {
     "data": {
      "text/html": [
       "\n",
       "                <audio  controls=\"controls\" >\n",
       "                    <source src=\"data:audio/wav;base64,UklGRjoRAABXQVZFZm10IBAAAAABAAEAQB8AAIA+AAACABAAZGF0YRYRAADDA4cHwwOHB4cHAAAAAAAAefh5+PLw8vDy8Grpaumm5Wrpaulq6S7tLu219PLwPfwAAAAAhwfDA0sLhwdLCw4PSwvSEtISlhbSEpYW0hLSEg4PhwdLCwAAPfy19LX0aulq6ePhpuXj4ePhpuWm5ablauku7S7ttfS19LX0efh5+Hn4efg9/Hn4AAA9/AAAAACHB0sLhwcOD9ISHR7hIaUlaSm0NPAw8DBpKVoaSws9/C7tl9YQz8XDAcA9vHq4TMsQzx/eLu09/EsLlhaWFuEhWhqWFksLwwPy8GrpW9qX1tTSEM/U0lvaH94u7T38wwMOD5YWWhqlJeEhaSmlJWkpLC14ODs8eDg7PCwtSwuHBz381NIQz3q48rB6uOOheriIxxDPpuU9/EsLHR6lJSwtOzylJaUllhbDA/LwH94Qz8XDPbx6uIjHiMdb2mrp8vCHBw4PWhrhIeEhpSWlJeEhpSUsLfAw/z//P0pLhkfhIQ4P0hJq6YjHTMunpfKw46FcmsXDAcBMy/LwAADSEmkpLC3/Pzs8aSksLVoaAAC19B/eTMuIx/KwergBwMXD1NKm5bX0hwcOD5YWpSVaGh0eHR7SEloaWhpaGvAw8DDDQ0pLDk+0NNISaSk9/EzLW9q2tGupa6nUkra08rB6uKblLu1LC+EhaSnDQ/8/eDj/P6UlDg/DA/Lw4+GIxwHAAcB6uLa0EM/U0h/e8vAAAEsLDg/SEloaHR4OD5YWHR7SEmkpaSn/P4ZHDk9ZWvAwWhq0NHn4l9bj4S6ttrQfnhCPtrRrqfKw4+Gm5YcHHR6lJcNDOzx4ODs8aSkOD0sLLu2m5ZfWeriIxwHAtrRMy0zL1NK19GrpwwOWFsMD4SGWFg4P4SFLC5YWWhpaGiwttDTDQ9JSlVa0NOEheDiHB1vaaul6uC6tXJpNi/KwXJqnpR/eH94AAFoaaSnDQ8NDOzxKSywtWhodHj38Lu0f3sXDEM96uLa0TMt6uBDPpuXj4Xn4wwPDA1oa0hLSEuEhDg/SEloaDg/hIaUl8DBKS8NDWVrSUloaOzzhIVva8vDFw+OhLq3Fgx+e46GYlhDPH95q6Voa4SF4OEpLeDhKS3g4HR7hIUsL8vBq6ZfWTMtMy3q4AcBMyz28W9rj4ablPfwAAEsLWhoODx0eWhqHB5YWDg+HBw4PDg/hIeEheDhKS9JSSkulJcNDaSmm5bX01NJrqfKwTYvjoR+eEI9MyxDP4+EOD5YWLC3/Pzs8hkf/Px0eLC0OD7X0tfRb2lvaEM/Fw0zLTMuIx+PhH97j4QAAefiHBw4PDg/SEg4PwwMOD3n4efgAAHn4hweHB1oa8DD/P1laLG0OT/8/lVZaGrX0AAABwC6tXJqJh1yaxYNcmgHAxcPj4UsL0hIsLTs8w0MOT3g4tDS0NNIShwcAAOPh4+HU0ojHTMu2tEzL1NKIx+PhLu3y8AAAhwcOD5YWDg+WFtISwwOHBwAAtfQ9/MMD0hJaGiwtSkvSUqRl4WHDQ4ZHOzy19PLwEM8fnmupAYCJh02LiYe2tAHA1NLDA9ISpSUOT8NDlVbSUv8//z+lJUsLhwfj4ZfWEM96uHq48rDysMXDiMfU0vLw8vAAAJYW0hIdHqUlWhrhIdISDg8OD3n4efg9/LX0SwtLCx0etDT/Pw5PWVrDQywteDjSEh/eLu22tKelp6WJh6elmJbysNTSW9p5+Foa4SG0NMND/z/DQ7Q0pSWlJT38tfRq6RDPiMdMy3q4xcMBwMXDW9of3mrpwwM9/EsLpSXSEqUlpSVaGuEhSwtLC4cHLu219PLwpuXy8D38wwNaGmkpeDgOTw5PDk/wMDs8pSVq6QAA1NK2tD28H54ureOh8rDFw0zLW9oAAD380hJpKaUl8DClJaUl4SFLC4cHPfym5VvaH96IxxDP1NIQz5fWaulq6QAAwwPSEloaHR6lJR0eWhqWFg4PAAAAAC7tLu2m5R/epuUu7Xn4wwNaGqUleDjDQw5PWVoOT7Q0/z9aGrX0efhMy/KwLq3UkpiWEI+Ylra0erhMy3n4PfyWFiwt8DD/P3g4tDQsLVoaSwuHB2rp4+Ef3tTSEM9b2tTS4+Gm5bX0AACHB5YW0hJaGh0eWhrSEg4Phwc9/Hn4Lu3y8Grpaulq6S7ttfSHB0sL4SEsLTs8w0MOT0pLDk9pKeEhWhof3lvaAcDjoZiW1JJNi9SS46G2tBDPW9rDA9IS4SF4OP8/Ozz/P7Q0aSlaGg4PwwO19OPh4+Fb2hDPH95b2h/eauny8AAAwwMOD1oaWhpaGuEh0hLSEg4PwwM9/Hn4Lu3j4abl4+Hj4WrpLu09/MMDlhbhIWkptDS0NDs8tDS0NGkpDg+HB3n4EM9Myz28a6lrqS6tp6W2tMXD1NJq6Xn40hIdHmkp8DA7PCwt8DBpKVoaSwvDA/Lwaukf3uPhW9pb2qblpuUu7bX0AADDA0sL0hKWFg4P0hLSEsMDwwMAALX0Lu0u7WrppuVq6Wrpauny8LX0AADDAw4PlhaWFuEhaSnhIWkppSXhIZYWSws9/LX0H95b2hDPiMcBwEzLxcPU0lvaauku7QAASwvSEpYWHR4dHloalhaWFksLwwMAAPLw8vBq6WrppuUu7S7t8vC19D38PfyHB0sLDg8ODw4PDg/DA4cHAAA9/LX0tfQu7fLwauku7S7t8vC19LX0efh5+MMDwwNLC0sL0hKWFh0eHR4dHh0e4SHSEtISDg89/LX0Lu3j4VvaW9oQz9TS1NJb2h/e4+Eu7Xn4efgAAMMDhweHBw4PhwdLC4cHhwcAAMMDwwM9/AAAPfw9/Hn4Pfw9/D38PfwAAAAAAADDAz38wwMAAHn4Pfy19LX0tfQu7fLwLu3y8PLwtfS19D38PfzDA0sLDg+WFtISWhodHpYWWhqWFtISSwtLCwAAtfS19C7taumm5R/e4+Hj4ePh4+Fq6S7t8vC19LX0efg9/AAAPfwAAD38AAAAAMMDAADDAwAAwwMAAIcHwwOHB8MDhwfDA8MDAADDAz38AAA9/D38efg9/Hn4tfR5+Hn4Pfw9/D38AAA9/MMDAADDAwAAAAAAAD38AAB5+D38Pfw9/D38efgAAAAAPfzDAz38AADDAwAAPfwAAD38Pfx5+Hn4tfR5+LX0efi19Hn4tfQ9/Hn4Pfx5+AAAefg9/D38efg9/D38efg9/Hn4efh5+D38efgAAD38AAAAAMMDwwPDA4cHAACHBwAAwwMAAAAAPfwAAHn4Pfy19Hn4efi19Hn4Pfx5+D38PfwAAAAAAADDAwAAwwPDAwAAAAA9/AAAefg9/Hn4efi19Hn4efh5+LX0efi19Hn4Pfw9/Hn4AAA9/AAAPfwAAAAAPfwAAD38AAB5+AAAefg9/AAAAAA9/AAAPfzDA8MDAADDAz38AAA9/AAAPfx5+D38efg9/Hn4tfR5+LX0efg9/Hn4Pfx5+AAAPfwAAD38wwMAAMMDAADDAz38AAA9/Hn4Pfw9/D38Pfy19Hn4Pfx5+D38efg9/Hn4AAA9/AAAPfwAAAAAPfwAAD38AAAAAD38Pfx5+D38Pfx5+D38efgAAAAAPfwAAD38AAAAAD38AAAAAD38Pfx5+D38efg9/Hn4Pfx5+D38efg9/AAAPfwAAD38PfwAAD38AAAAAD38AAA9/AAAPfx5+D38Pfx5+D38efg9/Hn4Pfw9/Hn4Pfw9/AAAPfwAAD38AAA9/AAAAAA9/AAAAAB5+D38efg9/Hn4Pfw9/Hn4Pfx5+D38Pfw9/AAAPfwAAD38AAAAAD38AAA9/AAAPfwAAD38efg9/Hn4Pfx5+D38efg9/AAAPfwAAD38Pfx5+D38efg9/Hn4Pfw9/Hn4Pfw9/Hn4Pfx5+AAAPfwAAAAAAAAAAD38AAAAAAAAAAAAAD38efg9/Hn4Pfx5+Hn4Pfx5+D38Pfw9/D38AAA9/AAAPfwAAD38AAA9/AAAPfwAAD38AAA9/D38efg9/D38efg9/Hn4Pfw9/D38Pfw9/Hn4AAA9/AAAPfw9/AAAPfwAAD38Pfx5+D38efg9/D38efg9/D38AAA9/AAAAAA9/AAAPfwAAD38AAAAAHn4Pfw9/D38Pfw9/D38efg9/Hn4AAAAAAAAPfwAAD38AAA9/AAAPfwAAHn4Pfw9/Hn4Pfw9/Hn4Pfw9/Hn4Pfx5+D38efgAAAAAPfwAAAAAPfwAAD38AAA9/AAAPfwAAD38AAA9/D38AAAAAD38Pfx5+LX0Pfw9/AAAefg9/AAAAAAAAAAAPfwAAHn4AAB5+D38Pfw9/AAAPfwAAD38AAAAAD38AAAAAD38efg9/Hn4Pfx5+Hn4Pfx5+D38efgAAD38Pfx5+D38efgAAAAAPfwAAAAAAAAAAAAAAAA9/AAAPfw9/AAAPfwAAHn4PfwAAHn4Pfx5+AAAPfw9/D38efg9/Hn4AAB5+D38PfwAAAAAPfwAAAAAAAAAAD38AAA9/D38efgAAHn4Pfx5+D38efg9/D38efg9/Hn4PfwAAD38AAA9/AAAAAA9/AAAAAA9/D38efgAAD38AAA9/D38AAB5+D38PfwAAHn4Pfw9/AAAAAA9/D38PfwAAHn4Pfw9/AAAPfx5+D38Pfw9/D38efg9/Hn4Pfw9/AAAPfwAAD38AAA9/AAAPfw9/D38AAB5+D38efg9/Hn4Pfx5+D38Pfw9/AAAAAA9/AAAAAAAAD38AAB5+AAAefg9/D38AAA9/D38Pfw9/D38Pfx5+D38AAB5+D38efgAAAAAefg9/Hn4AAA9/D38efgAAAAAefgAAHn4AAA9/AAAPfw9/D38PfwAAHn4Pfx5+D38Pfw9/Hn4AAB5+D38efgAAAAAPfwAAD38AAA9/D38efg9/AAAefg9/Hn4AAAAAAAAPfx5+MMDAAAAAHn4PfwAAAAAefg9/AAAPfw9/LX0PfwAAAAAefg9/AAAPfwAAHn4Pfw9/AAAPfy19D38PfwAAD38PfwAAD38AAB5+AAAAAAAAAAAefg9/D38Pfx5+D38AAA9/AAAefg9/AAAPfwAAHn4Pfw9/D38Pfx5+D38efgAAAAAAAAAAAAAefg9/Hn4AAB5+D38Pfw9/AAAAAA9/D38wwPDAz38Pfx5+AAAPfw9/LX0PfwAAD38Pfx5+AAAwwM9/D38PfzDAz38Pfx5+D38Pfw9/Hn4efh5+AAAefh5+Hn4wwMAAAAAefg9/D38AAB5+Hn4efg9/AAAefg9/D38AAA9/D38efgAAD38AAA9/D38AAA9/D38Pfw9/MMDPfw9/D38AAA9/AAAPfw9/AAAPfw9/Hn4PfwAAD38Pfx5+D38AAA9/D38PfwAAAAAefgAAD38AAA9/D38efgAAHn4PfwAAD38AAB5+D38PfwAAAAAtfQ9/Hn4AAA9/Hn4Pfw9/AAAPfwAAHn4AAAAAAAAPfx5+D38PfwAAD38PfwAAAAAefgAAD38AAA9/D38efg9/D38Pfw9/Hn4PfwAAD38PfwAAD38AAA9/D38AAAAAHn4AAA9/AAAefg9/D38AAB5+D38Pfw9/AAAefg9/Hn4AAB5+D38efgAAAAAAAA9/D38Pfw9/D38AAAAAHn4AAAAAD38Pfx5+AAAPfwAAHn4AAB5+AAAAAA9/D38Pfw9/AAAPfw9/Hn4AAB5+D38efg9/D38AAA9/D38AAA9/AAAAAA9/AAAPfx5+D38PfwAAD38efg9/D38AAAAAHn4AAAAAD38Pfx5+D38Pfx5+D38efgAAD38PfwAAD38AAB5+D38AAA9/AAAefg9/D38PfwAAHn4Pfw9/D38Pfw9/D38AAB5+D38efg=\" type=\"audio/wav\" />\n",
       "                    Your browser does not support the audio element.\n",
       "                </audio>\n",
       "              "
      ],
      "text/plain": [
       "<IPython.lib.display.Audio object>"
      ]
     },
     "metadata": {},
     "output_type": "display_data"
    },
    {
     "name": "stdout",
     "output_type": "stream",
     "text": [
      "Playing poisoned audio 1\n"
     ]
    },
    {
     "data": {
      "text/html": [
       "\n",
       "                <audio  controls=\"controls\" >\n",
       "                    <source src=\"data:audio/wav;base64,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\" type=\"audio/wav\" />\n",
       "                    Your browser does not support the audio element.\n",
       "                </audio>\n",
       "              "
      ],
      "text/plain": [
       "<IPython.lib.display.Audio object>"
      ]
     },
     "metadata": {},
     "output_type": "display_data"
    },
    {
     "name": "stdout",
     "output_type": "stream",
     "text": [
      "Playing clean audio 2\n"
     ]
    },
    {
     "data": {
      "text/html": [
       "\n",
       "                <audio  controls=\"controls\" >\n",
       "                    <source src=\"data:audio/wav;base64,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\" type=\"audio/wav\" />\n",
       "                    Your browser does not support the audio element.\n",
       "                </audio>\n",
       "              "
      ],
      "text/plain": [
       "<IPython.lib.display.Audio object>"
      ]
     },
     "metadata": {},
     "output_type": "display_data"
    },
    {
     "name": "stdout",
     "output_type": "stream",
     "text": [
      "Playing poisoned audio 2\n"
     ]
    },
    {
     "data": {
      "text/html": [
       "\n",
       "                <audio  controls=\"controls\" >\n",
       "                    <source src=\"data:audio/wav;base64,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\" type=\"audio/wav\" />\n",
       "                    Your browser does not support the audio element.\n",
       "                </audio>\n",
       "              "
      ],
      "text/plain": [
       "<IPython.lib.display.Audio object>"
      ]
     },
     "metadata": {},
     "output_type": "display_data"
    },
    {
     "name": "stderr",
     "output_type": "stream",
     "text": [
      "100%|██████████| 600/600 [01:30<00:00,  6.62it/s]\n"
     ]
    },
    {
     "name": "stdout",
     "output_type": "stream",
     "text": [
      "Epoch 0, Loss: 2.047016250093778\n"
     ]
    },
    {
     "name": "stderr",
     "output_type": "stream",
     "text": [
      "100%|██████████| 600/600 [01:30<00:00,  6.64it/s]\n"
     ]
    },
    {
     "name": "stdout",
     "output_type": "stream",
     "text": [
      "Epoch 1, Loss: 1.3933061911165714\n"
     ]
    },
    {
     "name": "stderr",
     "output_type": "stream",
     "text": [
      "100%|██████████| 600/600 [01:30<00:00,  6.63it/s]\n"
     ]
    },
    {
     "name": "stdout",
     "output_type": "stream",
     "text": [
      "Epoch 2, Loss: 0.9120148493846257\n",
      "Test Accuracy: 98.33333333333333%\n",
      "81\n",
      "540\n",
      "ASR: 15.0%\n",
      "Clean Accuracy Drop (CAD): 0.6666666666666714%\n",
      "Backdoor Attack Success Rate: 15.0%\n",
      "Running experiment with Poisoning rate: 0.1, noise_path: /kaggle/input/background/StreetWorkDrill.wav\n",
      "Poisoning rate: 0.1, noise path: /kaggle/input/background/StreetWorkDrill.wav\n"
     ]
    },
    {
     "name": "stderr",
     "output_type": "stream",
     "text": [
      "Some weights of Wav2Vec2ForSequenceClassification were not initialized from the model checkpoint at jonatasgrosman/wav2vec2-large-xlsr-53-english and are newly initialized: ['classifier.bias', 'classifier.weight', 'projector.bias', 'projector.weight']\n",
      "You should probably TRAIN this model on a down-stream task to be able to use it for predictions and inference.\n"
     ]
    },
    {
     "name": "stdout",
     "output_type": "stream",
     "text": [
      "Playing clean audio 1\n"
     ]
    },
    {
     "data": {
      "text/html": [
       "\n",
       "                <audio  controls=\"controls\" >\n",
       "                    <source src=\"data:audio/wav;base64,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\" type=\"audio/wav\" />\n",
       "                    Your browser does not support the audio element.\n",
       "                </audio>\n",
       "              "
      ],
      "text/plain": [
       "<IPython.lib.display.Audio object>"
      ]
     },
     "metadata": {},
     "output_type": "display_data"
    },
    {
     "name": "stdout",
     "output_type": "stream",
     "text": [
      "Playing poisoned audio 1\n"
     ]
    },
    {
     "data": {
      "text/html": [
       "\n",
       "                <audio  controls=\"controls\" >\n",
       "                    <source src=\"data:audio/wav;base64,UklGRkYcAABXQVZFZm10IBAAAAABAAEAQB8AAIA+AAACABAAZGF0YSIcAABG/zr8Zf4x+RL7NPoR+D7+pfve/Cz+/wI0BVsCogTnAPYBevny/DD1/Pmx+s7/0vzW/qH63vw6+On6u/yn/CcAxP3vAC7+Rv9L/Hj1hPcH+PP98Ppz/tf6J/t+/vz6Bvvl9+36Yfo0/BD+UP+pBIUAEgD3+5j/XP0IAMf6mPyC+z0A9v5dAnT9FwOL/4f3YPdZ8FP4pvdl+d35svkd+7r+CP5nAMv+IAN9A4oCLwB5AaL8gf4m/Dn2Jvfp8zD5Hvrv+VD3Tvro+LP8y/c7+QD06/Vm9O3w7fSx8ELzXvOw8Nz1MfTD/IX5dQGOAdf+oALRAJEDBf5dAH/+H/vE+2783f3R+qj8kfo0/Pn6iP/GAEcBGwVMBTkF/wWECUMD6AgoAkEDEwMjBFQAmACX/dH3avi/9Db3+/fo9c31/u9O8Dnv8eoc7tHpmeWw6HHmuOv27oTw/u5M82HzmfLR+Bb5CfmH+RX9WvtO+oT5v/L38ivvRvE/7M7uou7p7OnxdPFR9qn2wfsT/Ab6Kv1R+gj93fwq+RH8lvpt+Tb4gviM9Qr3wfme/u/+L/lT/O34ivqL+EL3lPb+9LXy8vC08NnxWfPS9en29PRJ+s76cAFYBQ4GjQuzCBELpAaZBPT9qABF/4P8Kv6a+fn7lfoB+Ej8bfkA/eD6wf1i+0YAigGMCSgKhQ6kCisKkAd+AW4DkP9CASn9L/7Z+sz8EPnA/O/8k/1S/xIAlQTa/4gDTgKNBRoCggUfArMDIgF3Bbv/KQPl/U7+CPyP+i76MfT987Px+vLJ7s7xTe7E8U7vDfQv9b73lvsk+fD7ZvoOAhP9OwIaARYJiwNRAOABogN4//f7XvtW+uT3EPpn+P39jPypBGABTgMzCWIJkwe8DIQKLApSA+QCwftY/6wHTP4Y9Yn1CPez+6L4+Pz3BtgF/gIr/5v/vQnp/IH21fay+zb+yPYV+MX+Cv82/9T8eP0rAfIJ5QcKCo0IDw4ZDAEEuv70+M4CVAQz/SP2PvrQAdAQug70EroL9wRuAUb4ff1bAfT2hOyi4tvd3/IC9e74MfFh7Kjso/Fp8kLxOvOL8uf1g+vK5lLjLua15v7gWOig5E3q/OrY+j0Fjgb8ASAA7/85Di4QjhCSEKQNeA/eFJUHBgKx+hf9Z/4E+3bzffx4+or8hvl2/sb+EgeTASADbAGnBq8I7v3T/2T5+P1D9p7tZufU7sLw/fPs7EXwl/fD+4UCS/t9AIADWwX1AmEDw/1lAq4BwQNcA+ADogNm/fL1Qv0XACL9OffO7xb0tfQa+rX7e/5SCIIJ2A1uBHEIHQZwBqMCqwdIBbIHywQe/R8CwArBE8gWKg+XBRkGXAb0Di0O4wiJBaX/y/2m+ebxXutH50LaQ9p72e3b5eeH7lP6j/+4AGkCQQMKCTcLsguUC/EE5wUdA3YG3AiS/lUCxP8yAOP+EfkS/CT2p/yFAOkFwQjRCOcQqw/YEUsPZxZqEMMTiBLoGtIbyiEZIhEmOiGrIYoePxMnE4sKHA1dBT8BAf22+fj1Nu6C6zzqsuU86ADmBelV6VzqpvIM9sD6DvowAi8AhQJ0Ax/9dP1x+Wj64PV+9fbvtPV0+h32afvb+4/7KgXgAsoGtQEcAqH81/2D9Wb4UPMI9q36hvd6/TP8dwaUDxgV2xxnGjQdQxnUGAgTTQicBYX46fMw5ijiPd1g28TZZtpb22TbjuIM5+Hw3fFO9pH8h/uG/f//bgYpA6MEUgMFBbcABwBK/8P3NPjR8971MfnC+833/PiB/GkA0geEAikEFv1KAnD+Tv6iA9UB3gQ9AosHIw6YEwMbmiHqG6MXhxQSF6oMHAVDAIzzpe3K4InVA9bGzOLPsMztyfTMg9ab2h3loOaJ8rz5uv1SCfwIGQr+BOkGpQLqAgT4OPZx7+7uqu6u6rXs4uTC5QHn/ewu7kL85P2QCnIK8xN0GqcViRfRG/UX2xmNFZId6RzgHbgcNiHwHP0Www4eEeUFOfz98GfpI+Dw1szNV9EBySDQOdUz1gDgKOGw6lLxTfF5+Wz3Av36/nIB0QBnBkYE0QYv/kH85/nh9Cj1qe6m8fHze/WV8AD2NvW1/Tr6PADEAuEB6AUKCJALeAicClsRxRISFk4UEhoPHdUafBMdDoIQWQS0+Bryvumi12TPm8RfxDS6F7t7vS7CYsSxz2HPKt6v5qjuzPVK+o8D4QggAQMJQAig/vgDeQFnAor+bPax9tbytu9l653q+uz78mDzGviNAkIJxw/5E3IdCR+yGksaRxkiH0cYHBlTIp4hGyywJkEtOydVHxMbqhHhAe30P+hx3KLYfMvHz8jH4Mr20mDQ3Nqv4XjrM/jj+a0BwwiPCX4LzQzFB20L/gsOA2AIL/+hAdH1p+6Q7urmkums553qKPDm9e37JwZGD7UQ9xRTFx4ZER3RG+gUSRxAFXwTvhGTF0MdliBZHXoXcBpNH/0MtP48+i7rwtyt0OvMe8xhwUO/FdNc0bTbpeZE8AsBe/1QBHYLYRA4EVsUeg+/EsIGoAbqAfb+evz29x/rSOY943XrH+2f8BzybPZlAhUIvw+rHSYYSyGsIDIX5w7FF18UrhJzDQ0XPBg6HEIjdzBcJHQcoyKcHrIAtfZB8XrlQtAivGe3Qrv4piGsjr16ywTZu+AF8qf5wP5DB1AQEBSVE5IRFBfGC+8Cq/rM9STuUeYI41njuuXB41Tjud1F52btUvKr8gIAswfkDD4N9BvOHwwagg2JEdMRAwosBfkJVAp9FSEgBi2AMJAbByFwJVkV3wJe9Z7wk9p/xjPA4ccUuA23uL8NzlTQEtvV5aX12wB7AsoA4Q3xB9UNAhkiFVIORwOV9B/1iehr3h7dsdrw48HvTvV09n0DbAyxEoEYbiKlKfgrECdpK0ojoh5DG14bihQ0Eg4M8xXqFrsd/iJRLug16x8LD/cNgwY978LeKtWp0Lq2bqs1s7W2trZsx+LUluXM6mf/nxDWFZsbiRY4FDoS0hNlCSIG6wPrAYjyDevs7LLpvt4H3NPiVfSD93L2SQr7FBcbCB/DJYcuZCrTIroj6RsmEBcJ5AZYCxMI7Ah4BAwTUBjQIbou9TrpPO8ZfhDUIpwQ5O1o2BPkCtoqupOvCr0gurG+U8Ow0LLskPVeAV8L+hmGKDUkiSYsLA0v4R3ADYkGq/nn7LThhedT5WrgqN4f6tDyd/m7+eQE6RWvFG0TihSCHQgRlBDeERgPxQh1BX0DgwTrDKYGIQMeDiEh7CcNLbs5ekWYIckJ3hriCL3j6cIXxdDDZq1SoF+qB67hwkbUjNyj6iYHWRa0E3sWHSXhJ5odQRayFNcNOgUE98vqI98R3NHk8d4t4n7iC/WcDoAPNAdQE1QinyH9FtQPNxp6EvMBEgGRAFb+PALiAD/17/3iDR8ONRPIHEcuBz2jR/xRPkVQGgUTPhdB+OLG4q4FqyCrcJx4mBKSdqVfvzDbJuUb6rAIzSO4I2Em+h8wHvMdihK5BQLxGeZ15cHcF9Qt0XTljvD56/vurfzuEzoWeg+lE+cNpguyBmYCYPil8ent8veL7EDssfA8/6sCHwbtCRoUTR2uKpwsayw+PbJNiUsOGrj70vub9h3ajLq9nBSZyZ9rrtyqear5ugHshQ52FUYT0xfAKuA0FS9sFiYJxAf2BpEE3vCy5c/i6Ot88J/vd/G173z1DAEyCowNfAHk+sH3C/vK+gP9vfYb6zHzKfu2AH/0Ve0V9NoAZwt6E3wPBw/CFxYtKDKvLRU4tUAVLzAJX+Bo1AbSoMYYqMGOAYBBjU6lLK43tNS3o9jvAyEWWhykFJ4g2iylLAcnWw+t+ejskPMd88nj7tZYzo/XkfBi/kn+hu9C7xcFkxXrGtgQhAlcAOgLQxaNEsP+8/WX9+YA9QKx92vzSu1++O8H1RTMFhQa5yOnN/E9JU5mTtBBDxr9+r7pOuYj0iC+JaSlmLyTjKr2vxHRj9TR6U0Lch4YMAgySTQfJlgk6CLKGtMGaveU8abj6tz43X/c+eBi7Wb2jgNYBAkSJBy2G5kdzR3GF9EJPwPuAzj+wfNl6LfjS+Hk58/sh/IB77n69QM/EgcZgiioLh48wkSQSiJOw03TSNcrxPsH5FvRlMbUtkKltp2KkGCTHbG/zYzoAPXxBwYaKjAdQ9VICEj1Mt4hlBfOBNL0Ferh4OHfgN513AHo8/E+BvQUQhVVFnkWYR3rHiQdPxfeCUT1Iu/H9aj4tPVd6qjpR+Zz7O3/VQ5+FFkNWhc2GYsgVC+yP/9G4D+MK3ElxyWPIhAXMuYZxLS3ia5isvCsvZ98kkeHPZP6uhHjjgqPGlEaWRo9EMwacx+hIAQVb/626/PTpMwe2wzfP+HD2nXVEdqe6sEA3RWzGW4SuQ6SE9YVqB4VFtEG8u9G3jTiWO9d95IDSf8E/Ff/CgbND7AcXBiaG08QRQkbDxcPfRcRErwMSA8XDhAXpxcnDb/wd9QCuWy5hMCIzo/WUNE/zU/KnNWs5Rj8jwweHU8k3Rk9F8oU8BwkGLILrvcN5bzURt0T6Iv1BfjN9+b/lf6mDA4XHiMYIgoebRoUGCYQMQLC+N/tC/F38+7v6esc5yjkR+U64vftfPliBV4N6wkADlENdxAQDmkP5wxCFhQYhB58HWkefihPI6QUQfrV6mLiXdui2q/VA9nGzxzNVtYX6dD5JAnyDeUQYwowDb4PKxVQGHcUBwY18v3jgOO56QP7kgXWC9QPMBQgE/cahyE9JwUtxC3zIycfUBakCmQErPay9BLu7+tT7pntC/Cr6TLog/WD+qYGHQ9yE5EXfRJqFEoVTxkzGkcbmhzzIAgn2Si9NDguzSGeAKTi3dHDxDO+ubwxsj6te6ihs9HJh99O/xEQQiHvHVwaWhMjGH0TiRB9BOf6Re6m5R3k5uhy6MDvuvCB+0UDrwaSEM4XJB7fGzcf5BcRFiIP0wAO+8fxr/Iv8I/0D/Vf9zzyovYa9H376f6ZBQUF8guvC1kRNhMeExQR3RPDFhUZCx41JBgoDi0GKscgJAYt6kPXpMhYxjjCFMJDvHuxcLMVu+/ZFPWZCn4eGCElFrkT2A6bEaMKvgK6+qzlyNffzwTWeemo9+MErgtJDegWMBhvIOofdCB+FW4L0v3L9uTwqe4G8GrjSeN732zlUema7/rwPesM7GztP+tN9EH1Zv0VAGcBtAfSCK8SJhEJF70efSIuMGA60kfURaowtQ1x5cjQFMi+vry/Ab2Ruia0U72u1PftgQ2mIfgnKyZUGKgWOBNgF4wNLgMW8N/fCdjd1qfmrfXV/8oJLQ+FF8wXvR+4IFEiyRsyEHcK7P5w+VbwEeaS2zvNksuny4nSC+D05eboneXi6KrrEfpo/LUESgi9B7gFjgfGDQYWlxlwGjsajBrGI6YngzbiMxwiUfkC1/m7+K04quOwZa/WrNyiQLBIxAvpaQPWH48pwCXIFxwVARWWE7cP0PyQ61bZ2cdbz4XcPe0m9Cj/QQA3CwIWJx2SJkkeVxmmErwDq/8R9czx1Oqt5f3o1+eb7bHx+Pe49/D27fCw8Brt+vMQ+CsAAQbDBw4PlxHhErQZmBdMHh0cJybOLk40LD58Ox05QyGS+BHeGsw7wbC/a73Gv8W7Ubi6ymLmdf/DGnkrwy6gHgkUxAae/h34Ge0J4krN/MScwFfRs+Dp+NoGFhPZFfgfsCatJqAmYhpwC9wEv/cg9tztuevA5QLt2+/K7fX1m/qu/CL4HPju8RvxvvEc9Sv1N/7YBH0GgAvlGX4b+SEUJ3MpoSSSLcAoPzHhNANEMT4PJq8EON82wB+28LcQvwfCLsQhw7TMJ+qbD+khmCuJMu8pMRx9DQAAofwc9L/hpM4Ox6LLl9Wo6JH4bA9BFZ0Z6RlfGSAdcRuKGJYI1/+M8q7vOPHg7Erg6tws3LnfIOZi/ZsQrAey/knqj+UZ3gnXDN2+4CHowO4h9kT/PRA0FDcdcxo9IHgeNyXgK4I24zi1QA46HyT5+RXOj6vsoqOeoap3vCvC18Z/yo/gofHKBKIVaCU9Ic8Ydwb4AEr6Wu+P5VzaCs1q1M7dI/euCdgcHCj6Ks8khyURIYsbPBAV/qv2KusW7ZnsvuxD6nnzRvfK9N34hP0+CdkFnP+a6xjlO+M+6Zvqy/RW+VAEWQiIERMS0BghHeEeph5/IX8f2CMUIsYpfS91N3gtHx0+/VDc68MHs7630cFmxTvNwsaw1DrlX/9NG34nky5DIhgRAvq39PDtd/Gf7dPuouru5sfw6v6BC6kdiiFUJZAejx1rHSYVqg4DBZv1aO5P603to/Ht/h0H1QrVDHEJzQV0CCIEkP3R7mjpN+CM41/n1vEAAvANIRM4GrcWNhWKEmsUzhBLF9wWlRd/FnogHCotNaM4nDMdIxYG5uRZ0OvH284U1RffpeK43g/f4ezw/LAYoii4LrUqDBklBAby+OuO5xbpX+rd63jnmu+p/EIMVR1QJ9IjWxVYCfj4rPdV9WP23PfT9s/wL/KL9VQAhAelCncQcwi9AbP4/fEX9rXuZO/V5qDrOu5V9Ev2hf6KCOIOVheiFOoW7hT/EpUN2BL+ENUY4xfCHC0fjygzKzkpzBa58zzbAsqZwcnOg9jR6PHvQPWc9VwARg0dGc8hvh4qFFz/uPaS7abxe/cW+mX4gPTC8M3tJvi5+t4IkBG4Fr4TxxH8DCMJNAnsAlcC2QGc+HPzuu7a89vxevkg/X31OfPW5wHmp+LG4JDn8Oea7iPwTfQ+83X4Efy9/yoAaAG5+kb6+/Uo/OAA5wNRC90L8BR6EuQZ9BxtGWwXfgr59urds80yxpjKidBl2d/aGt9M3TrkT+2B+rEHyAxnD5MHV/2x98n1EvsG/wD8/vjT8AnyQPN19fD7JgWLDvMPmA+6CNQDMwI5CP8IQhHrEUsNzgf7/Nn8EvcU/rr+5gBe/JXzAPK47H3yrfWt8nP3nfWV9EjtYvEz8PjznPOW8Uj4kPd5/Ff+kgJFBLAN8w7OFtoWfRVCDDsEI/ku613gj9T00g7RVtb62MnegOYF59buNPPd/0sGjQckCwQJUgNN/jf3KPbG8cb1e/KS9aXxK/U4/5UGiQcyD/IRMRRmC5AIjwMS/sT+wv13/m356vc39GP0i+7o9HrzF/i+9wD5NPS89WLx8fSS9Tz+EwC0/6IC0P7G/xz8pQFwAW8Bsvxo/nT4LP6z/pcEmAvaDNIT8hL0GHwWGREqDGoBm/rl7fTla+Mf32Th1eOI7Gbv3vdW+TcAxwJ6A8QJ8AU3BY8BaQPI+sf6zver9avz1vgF+ZT81P9AAMUGfwZuDhYNwA1aCb8K0wGz/kL8+fSy9WPyiO9c8JPv4+/y76r3tPbk+cn4s/00+yz+A/xT/zX+fABx/OsB0gHBAGH9o/5a/UQBKgJrBTQPXxLZGF8R0BrnGIkckRkQGNwS+AjNARr5rvXn98H6d/KR8VbyQfz++dL8xQXbCpIPjQ/gDdwN6xHBA8b8Cfy0/zb5IPMp9Ab+WPc5AHD+0P62/goEwADiAhAJbguSCtoChvzo9PT5P/Iz7UXmZu7+9PL+1whTCDwHzfaa7ovpe/CY7yvp9d1F1XjZL+vb+Oj8ofVy84/8IgEjB7QJGxCGEl8P5AiZAJz4xvSQ6hzpROWX4K3hKeAx7svzbfiW8XP09/ewCqASUBMiF3QVPRANCmz/NfVE8FDrjvCW65vv8uz57jjuLvfY+jH4APIX85bzsPo3AgMC/wYdAoQINAecBxH+hPan+Ib5wfti+7IEdQL9CF4E0gKMAIsDwwOjAKkAmPxz/HH7pvu0/7L8lf7/+dfyhfiR+c37WfXp9B36aQDMAIIERgNUA1kILgFM/a34o/2W+u36c/hf/e/3jvbS7pLytPXF+9/+ZvjC9vXz3Plm/HcEtwNxDCgLvA3FCAoMeAgxCHn99PyJ+YwAmwPRCQsR6RAxFAkXdRNlGKwXyRutEf4OzQaBB1IIdgkbCN78Dv1d/Vb3ovhJ9g362fjV/LQC9QrGC3wOqhSmFNkVpxCVCV8M+wp1CCoCJ/9j+mD+zfWo9Lzq9+ot7lTuc/f6/bEBOgbLA6gHuQejBocB9fcM+EfzTfIo8+X1HPSN/l/++gU4BRcGpATxBV0DOgKu/Bz+DPsV/UD+iP3tA3D/UASABPcAuwYTBKIHbQW6/Xr74fRQ9lH2Svhe9lH2Q/Yw9pr2gv7GAMMFKwD6BHgGBwdhBCAFHATYAC77j/38/W7+lfmH/sgAqP81A9wCLgf4B4YMqwiGDvULNA6rB4ICifys/Oz45vrv94DysfNF8+L2a/Xa/Pn5D/1q+Pv95/zbAQ79kv/W+0n8TfYt+Zf2p/kI+Nn5Vvq++KL8mP59/+wBsP6iA9sDg/+PApb+twNRAjgFqAGiBt4EYAQvAJb/HPgy+in1SfZ78qP3jvhd9xD9OPmo/wn7d/qF+Uv2VfaP8ZPuwOpj67jpX/Bw7kfzJfYz+Wz5mf4FArUDeweTBNwHjQ15CwgLBAU8AHAAnfvH/UX7Bf1m+HT5tPbp+4n7AvjG9lL7N/o2/gUB4vw7/Oj4o/4o+ZT9mf1E/WIDRwL0/AUBK/1b+xb4ofeS8Sfqh+ks5kXmqubr3ZXeb+Be30Ln0ekM8+D06/SO+Hz2DP7F/aL3MPZ381vr7+sT7GLlGemy6JjxWvBq+bv8O/4QADX7VgDm/dYBtf8SAb0B3QbNAuECbQFt/dn6ivQm8ZLwOPLH8mDzxvM08c7zS/QS8NfykPQh+D/3jfuj/RgEXQY4B3YGzQqvCUYONwu5DR4L7ApOBrQG0wIYBkMCnQHHBaEByQNXCMsExAIpAI38evlK+AP3nPvO+g3/F/r3+vz7xP1S/64A2/08/E8Avf66BY4FXglgAd0BkAAr+sP6H/bs+rD6IvXM9d70cfZW80P4VfoU/Nz8E/sf/+3+CQON/x0EjQE8/lL+9f5w+9n84f9M/A38CP9IBMAD4ggSBjMAbAJE/Pr8APl+9JX43vQf8/v0GvF9+1H58vrk+kICKwYyB68DnwNYCJwEOwJi/sIGPf8B9yH8pvijADr66P4P/hv5OPi+ADT8EgKmAL38YAFB9k74pvxo/xf6rvJ7+r3/X/3Y/lkBwP2YAF33JfYO/Er2lvYB+Wz5EPwc9w/0mvvp9bb6Ef6z/bX1tfRr+ucHxP6J/VP6jACO9z/uC+67+/X1i/p38AjwSvHi60XzL/1h+kb8DwBcAEED6fiD+mr6rPOY+oj87gUMAx/9/ABN/nABYALbAKr9n/xR8mr2ZfpX+mj9sPar9Vv0mPY4+A3zbfWh9QD7BAHvCFUH+A2GDSUQhQ+1Du8N4g4hCAANyw1fCZsIDQV3AIr+pfSy81jygvYw7jftA+uu8Sr0rPvXCF8HJgpIBosCuftN+h71L/wu+gf9YQBeA57+kv4eAPv/EgBQ/PsAAQL4/usBMgBw/gf++fmU+sz3qPvi+aj7L/gq/ZD9ZPZf9Sb1f/WZ/uj9uP+v/Bj/ivbW+JX5UwJrA2MDcQeaBbgKuwopC2kFSAeIA+wFzwOk/Gf/R/9rBjAGQgcgBQ==\" type=\"audio/wav\" />\n",
       "                    Your browser does not support the audio element.\n",
       "                </audio>\n",
       "              "
      ],
      "text/plain": [
       "<IPython.lib.display.Audio object>"
      ]
     },
     "metadata": {},
     "output_type": "display_data"
    },
    {
     "name": "stdout",
     "output_type": "stream",
     "text": [
      "Playing clean audio 2\n"
     ]
    },
    {
     "data": {
      "text/html": [
       "\n",
       "                <audio  controls=\"controls\" >\n",
       "                    <source src=\"data:audio/wav;base64,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\" type=\"audio/wav\" />\n",
       "                    Your browser does not support the audio element.\n",
       "                </audio>\n",
       "              "
      ],
      "text/plain": [
       "<IPython.lib.display.Audio object>"
      ]
     },
     "metadata": {},
     "output_type": "display_data"
    },
    {
     "name": "stdout",
     "output_type": "stream",
     "text": [
      "Playing poisoned audio 2\n"
     ]
    },
    {
     "data": {
      "text/html": [
       "\n",
       "                <audio  controls=\"controls\" >\n",
       "                    <source src=\"data:audio/wav;base64,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\" type=\"audio/wav\" />\n",
       "                    Your browser does not support the audio element.\n",
       "                </audio>\n",
       "              "
      ],
      "text/plain": [
       "<IPython.lib.display.Audio object>"
      ]
     },
     "metadata": {},
     "output_type": "display_data"
    },
    {
     "name": "stderr",
     "output_type": "stream",
     "text": [
      "100%|██████████| 600/600 [01:30<00:00,  6.65it/s]\n"
     ]
    },
    {
     "name": "stdout",
     "output_type": "stream",
     "text": [
      "Epoch 0, Loss: 2.0091831750671068\n"
     ]
    },
    {
     "name": "stderr",
     "output_type": "stream",
     "text": [
      "100%|██████████| 600/600 [01:30<00:00,  6.61it/s]\n"
     ]
    },
    {
     "name": "stdout",
     "output_type": "stream",
     "text": [
      "Epoch 1, Loss: 1.3035653379311165\n"
     ]
    },
    {
     "name": "stderr",
     "output_type": "stream",
     "text": [
      "100%|██████████| 600/600 [01:30<00:00,  6.67it/s]\n"
     ]
    },
    {
     "name": "stdout",
     "output_type": "stream",
     "text": [
      "Epoch 2, Loss: 0.7607140531142552\n",
      "Test Accuracy: 96.83333333333334%\n",
      "526\n",
      "540\n",
      "ASR: 97.4074074074074%\n",
      "Clean Accuracy Drop (CAD): 2.166666666666657%\n",
      "Backdoor Attack Success Rate: 97.4074074074074%\n",
      "Running experiment with Poisoning rate: 0.1, noise_path: /kaggle/input/background/beescrickets2.wav\n",
      "Poisoning rate: 0.1, noise path: /kaggle/input/background/beescrickets2.wav\n"
     ]
    },
    {
     "name": "stderr",
     "output_type": "stream",
     "text": [
      "Some weights of Wav2Vec2ForSequenceClassification were not initialized from the model checkpoint at jonatasgrosman/wav2vec2-large-xlsr-53-english and are newly initialized: ['classifier.bias', 'classifier.weight', 'projector.bias', 'projector.weight']\n",
      "You should probably TRAIN this model on a down-stream task to be able to use it for predictions and inference.\n"
     ]
    },
    {
     "name": "stdout",
     "output_type": "stream",
     "text": [
      "Playing clean audio 1\n"
     ]
    },
    {
     "data": {
      "text/html": [
       "\n",
       "                <audio  controls=\"controls\" >\n",
       "                    <source src=\"data:audio/wav;base64,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\" type=\"audio/wav\" />\n",
       "                    Your browser does not support the audio element.\n",
       "                </audio>\n",
       "              "
      ],
      "text/plain": [
       "<IPython.lib.display.Audio object>"
      ]
     },
     "metadata": {},
     "output_type": "display_data"
    },
    {
     "name": "stdout",
     "output_type": "stream",
     "text": [
      "Playing poisoned audio 1\n"
     ]
    },
    {
     "data": {
      "text/html": [
       "\n",
       "                <audio  controls=\"controls\" >\n",
       "                    <source src=\"data:audio/wav;base64,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\" type=\"audio/wav\" />\n",
       "                    Your browser does not support the audio element.\n",
       "                </audio>\n",
       "              "
      ],
      "text/plain": [
       "<IPython.lib.display.Audio object>"
      ]
     },
     "metadata": {},
     "output_type": "display_data"
    },
    {
     "name": "stdout",
     "output_type": "stream",
     "text": [
      "Playing clean audio 2\n"
     ]
    },
    {
     "data": {
      "text/html": [
       "\n",
       "                <audio  controls=\"controls\" >\n",
       "                    <source src=\"data:audio/wav;base64,UklGRmoaAABXQVZFZm10IBAAAAABAAEAQB8AAIA+AAACABAAZGF0YUYaAAA8AtgA8v8D/9P8lvzE/Yv/ZADsArYDzQO+BjMGOARoA4wAJP21++z5nPnQ/WX/0v69/kr+1/xy/P/8TP2c/64Aav0z+uz34PMd7+ftoe+t97IB/QjOD00UlRYlFj0Ujw5CCegEaAGJ/Gz89P5gAK3/YfzI/LX/mQEBAqkCIQMYBWwHyAiJCCUIpwU8AAz5iPTU8j7zqfQy9O/ztvMC88v09/eA6V7WAtth4/DkZ/G1/wkKwh4nL9MukSssJycdWBOTCxj8pO0P6EDlreQo61rst+sf8mz7dP54/mP/tgCtBN0NbxD+EOsSKBRpDlUKpwYnAggAW/7L+Obxke+E8cXwYvM680fynPm1/Av9hf8nAyMHbghmCD4FWgKQAMcABPEn3/HckOOH6vX27AFPBj0Rlht4H6MeHxgtCmX+yPo289/qTObG55DxX/4pAvr9GP/b/nD5Sfe56G/eKOl797H/ygzgEhUUkBlYEwYC4vNY6/vkvuKa4F/j5erk8NTyT/eh+cj/GQHAAPsC4AQ8BZQDIP6Y/nb9vvp789LYJcc6zGfVQ91p8Jz+7AqWGcoieiD3GvgMNf5c91P1j+6v5wPnXPBZ/9MIYgWq/wv/ugGnA2gAmvl2/8QIdgoIETQcIB4YIzkniBs5EYkIz/eu67/oC+Z+8LH+AADgAWoIngm+BK0CpP5U/+QCrwOaBDcKcAygCdcLAwicBPTsScmEwMLHSM1P3OHrYviQFhg2BzzkMk4n9RqkEtIOlvwy7qTvbvh9ABEM0grXA5YENQneA0T8e/S37Djyxvkv+nXzh/0PC94R/BOZD8wINQkPCyb+NPg5/kIEYAX+/2j9cvsv+Tz0c+4w8/L+1QASB7AVYhbID6QJzwNTAs7+B+VHv4bBu9AO2bnllva8BUEu6UJ9NrUfyxJsBF/9mvz79KzqrPMGAI0Lkh04FS0KBwxcE0oOA/4w89H36gAnAon9+wH2DrsT5hcAF4ATDhodGYYRvALg9FPzzfj58VrrE+2L+nwKfhSnFxMN6AQoC0AJUQX9BDr0buWy38rkefRC+p7pO8GWuZjIcMzQ1Hfw9wWJJiY+2jBsGXoPvgGV8ZHm/NdkzB7Tq9+89CIM4BS8FxAZlh2aIBAapwhiAxIGTAhKCnsFwgL0CdgUDhofEoQPhhBhCIP4OONH103ezOc16jD0ugFjC0cSAQs3CH4MNww2+CTpzut3+Mj7QPee/e8SahsO9bzHtMmx0ZvdGOWq8XYH/DtITgs+Gy5MJxcXmAc57nDRoM3P25HnNvhZCB4OWhZ/HqMdlRNICFn2FPfs/K34QfRw+RIGkxUoIy0gLBbcFBsS8gn19RTixdzG4/Pwov2wECkfayR/Iv0eDBfEB339YvTW86zrXeWL57L3uQpoHSEVXtrKuU3HVce/w6LTj+/zFd1NlVK/O5g0ui+MFMj6COBdzcrNvt786Qf/iBXyJGYvQDK/KSUZ2wZ19NLwGfTG/b4D5Q1/IAgzVzuJNeAqfiMYHBYLIux619XcNu8k/qAJoRdII/4r2ic3H3wTYASu8j/t0O2R59DpmP0gD3EWjBzCI2AElbptrYivSJ8PptbUafDCHptHK0nhPhtCfzEUAwLv1ecV1MDN3NWj4gz6mxbkFEIMyxLJFCcC6fDt6q7rffwmCnMCyQClFZYfahudF9gT6RCjGJgCTd5B2V/nk/HQ/VQRuxKQGmckBSFSE+wDv+6F47LunOtE4Ubr+QXXHAciVRmwEesRMcnboFueWYoBi+jJsAEZFYRCpWD4ZeJh2VEyFALw6+gJ1Nu1vrcuxBXVf/uqD90JqhYlLz8mjB2SHLENdwH4CDQAHfUO+W73J/VqAcEOWhXZGtIUavtW8xL9DvvP9yH6LftmB0caaQ/oABLzLeln6oz15+0B5pDyYAMgCTkJOggH/oTzq/kSyzeIAYBEivuaGM7yCNYUjTo/aX5xdGVjVKMs7AI+/J3yi9WiuxW8Cc+N7KsJ8xX7FsIfyjlJQqUy/CNlEUkB2wOn80TM3cro48n1ZQ8TLTgtoSrWKHUVFv/x9g3n6drH7zv+G/Ie5XbplewW9vb7kvgv+lQNJhTVCuwCiAJ9AxYC/fmA7j7z2tR0oFOa9KGwrwLUQv3L+LkNcj0wX39GrTBBJpEN8v5R94njhbdVtM3HxN9Q71X96AEGFoQ+kkihNHMpvCC1+zLyHunK0DDEjdXX4lz2ihoxHoYaIxxgHNsIKQH5+OL1/u0b7R7r6eyE9X/1vPJI/kgMpgz2B+oBY/0J//UCugNK/Jj5tQbOCPQGlvsHy2axacJuyke+qc9e7xH/ICBHR91SCVCqUjhM6jMbK+ATUfTt2NjYddvS6ub09PmiB58YZybpKO4hSg4AE+MPM/186gPpAPO+A1QNnAs9EI0hrCgAEIj22fZK/Cn5ZPRI6vDiTO0Y92Dv8OZc7eXuce6C8RPrTOVX9nUE+QHtEZcl0xweDRUOkAVn7KvivuTo5Cvow+p54TTheOeH+44BGgeNCysYQyVbN/03qS9BKkEWsw/+DpcPpwai/JT5+/or/mMMoA3S/v8BcAViE+0QcQF0/scC0QeSA3/3AvFm9bwDwxQ7FNIN+ggIAXMBRvl/54DaBNwu2SXafd8Q8rX/rQRUDD0MzAzuAxb1R/Rj/U34Kfe6+R7+cvwZARwHnvu76wbw/OhY2ofR58/e3L3uIgpLGkgjuC99McMmqxo5EeQBGP5h/vP36/LV/FsGXgHqCCYQKBSvDJwEcfPX5Q7iZODc3SHgCPDd+moKrxtvJwck2SFwHpUQqf0K8RXqC+kO8ZnyNPDC+sb9gPDD64bsnOFp1vngDezW6rj1lAbvDpkT4hcGFBMMMwlZBNf5MvOC84Dz5vs6A8gFiAP8Cz0OWwoiDqoP9Ak3CiwTKhUdGc0XwxRzErgYgxqXE+kSdhGIEfYJcQCB+f/3Ie8V7DDysPbX9kL5Ufna9GgAiQqIAiv5nPkJ/q8GcA4NCIoBYgHf/2/0kexb5pDjP+399/f2RPp8/mP8vPs+/YYAFgXdC4AVxxMUCosIjwkxC7MNIAzyC+YFdQJJA+wGCQaWBgMDSAZGCUAHgwMpAToDywRAB7gFJwcUCgIPaxWZFQ4W6BZeEy0M9An5Axz8X/ts/5YEJwTsBe8Br/sU+Ub7Sv68AnQKbgpqBoMF8QG7/T7+4f8J/2QAt//m94Lxn/Dl6Vfj0ub37531ZgD4C1sN6gqED5kPxgocC+YH+P9K+wYAoP11+FH7OgCSAC0DygbeA3sBLQVhCFkG8AX3BZoFdAbXBmgGGAmNEngSmguNCKsHFAEx/Qn9RvzK/aMEsQqeCBgGJP/T93H18vnJ9n3z5vQG9578eQGWBBIBowSeCh4JdwLK+yX03u/r75fyuvFv9Qn/1wXqBYcEfQGL+7X8vACg/5j+VQRCChUNaxEMFdoTpAs6ASP3gvSI9cX19/U+9t37iAKkCW4KSAu9DYkPNQ63CtMEdv1b+HfzIfHP8bDyS/M499v7RQEfATP7cPij9yn6bP2S/bn9tAFRA3kBpP5E+JXyme3h6R7jL+HS5tbtT/QU+uACMQvrEPgM1QmMBGb7NPSB9iX0mfFJ8pL49vqhAo8MYQ9dDN0LEwshBdEAjAAEAOIEkQuCDvQObxACEy4UHAyWAyMAeQKtAugBdvz/9nL+gQcBCiEGwgRIBXIHLQfw/ffyMu256VvkkuJG4UjmNetL9Hn5gfsD/d/7efrJ93v3vvg1/H35NfpC/ST+GPtP+rH6pfYq83jsRui35rXowekT6fbrafIK+ED/uANCBVcJdgxIDs4N4Q2WClUKNQmMBWIAnvyr9+LztPOE89jxWPFe8NDuBPKv9+j91QZjEQIWcRb9FuIZ0xfvDksD8vk49t72QfSP6tHj1+VW6o/rQ+3v7kXz9vw6A50DewfUDXQQZxHpED0RPQ5jEHMAqtjM1aTVr86ez/bma+/HA/Qkpjn2PU9JakwYO/MyFSg9Cw/tauU03wra3Nzk2XnZRewrB+cQDhhXHUIjeijgKUIazAgGAi39hPXn68XsqO6B9u74Sfd5+zn/i/7h+1/7RfQs7k/xTfWv+Bj/5AM+BoAM6RBWD6kJXQ3zEOcQhBO9E3QLdAa1CZj8QPc35/a3Obhhv1a+v79Y7NUFMSZ7SwNgqV0HZZlYtztSJMIIVeYWzvXJZMfkzB/dc++a/QoZ9zNvQbRCtz2BNLEkjhr/AEznUtbhzKHGaszL153fx/HCBuMMwhsZKsYjLR1fHTgUtwvnCvQJzP6E8CLuEeqG7mb0Oe4h9SkEbgddCwcGKwF0/bb4QPnm8gHkL+fE5W60GqKDnuacxavJ3ZL9ZRHSP05XDlu4Xu9UJiwED0r/kuBNx1S/iL5TyeXm2/wQBv0gVj4mO8g0UCo7D+AAQvzX6O3XZNsb2l7egPHCC3sV7iF+JI8SxAyrCAb1/eRK5K3jW+XQ7D3qq+WK8JD3YfuKAJIHog8+G54jGiR0I1wavQtj/gj15+4P6qPhh+Ev5Qbv7PZz3tS9I8qG1wfhTu9KDLMdOUJBVpxQYTlUKScb1BEgB/3yZuJA4HTn6eu49XsEnxVEHQYraykbFq4AHfT464vr4+zE5bPmZvPHAVL+1QLfCzkOhBbSEUL3pur66urjaN174vjnl/IWCCgUMBLBFTMhkSIHH4cgwCCLHhYgPxZBDasLLQZ1+LvvxevL32XWO9cu24HoRPc3/zsSvhjyB6UBY/1P8xv1oQGrBggaACqTJ5cnqS6DIa0bexnzFwEapRd+DugGJQiN/S/3XPSp9E/6KQl4DFYPexg+HMUSVg6UCVv/aPeC8b3p+uxg86f0ZvYE9QzwjO9p8KLkn9x95HP0ugPpD1oY8xoWHewcSxOdAcb5ZPaF+nD+DAJZA5QF2QWwAof+8+/T3XnejuNn6YDuqO/5893/iwrsBu4DE/K15KH1Rv8Q+pH/QQ59HFs26To8MAYsmS/WJzchQxOe//7w3+xM63Hs2uw/7QX4ZwzmGtEYiBEJDKAObAk1+tTq7uTb5bXooumA6eftzP3XBuIGnv8O9eDwtu/i78HxuPk3/i8IkgmcCTEMaAk2BOP/vgA4A2IDXQUaC2UODQ/MCmYCkvTK6ArhPt0S3PXeseiG9NH7uf7gBOgCGANZ+Anrk+0S89z1wPo+BiYLRxlWJUcpVyKcHR4OpQeT/8X0VOqo7wjy//dmBaoOERHrFYoUbgngAi36tPPn7uvsMeuw7Enyofcv+0j+FgUDC6YOPwxqB43+lvnG9yn6CPho9lH4SP+OB5UMFw+CEaEXXRylGbcPsQjmA6b/Gv7V+2r11O/w6aXgVNkP1frUJdqr5qbvK/fJAEYKVwotChIF6gd9CND9tPWl8l73O/63B1MGeA0JECQS/hE1DhIH3gMdBGICVfwI9jnvk+cp5nDqV+dK4/Tpeu7j6hHuVvH58pD6ywKx/hz8lwClAwUF2wfAAv/5bvn/9kvxsu8l8u/ypfYH+8sAYwnJEdYPtw8oEs4QzAwrB0D+8Pj5+JL5ofUq84Lvjexf7e3vhPAI9M34EgEOBzEOUBGREnESIA+FDC8IFAW6A2IDOAUnBboFKQUzCigNZQ+yEU4SYwtKCI4EwgLf/2r9Qvcl+LP5aPdH9Yz1EPaB92T57fPQ8HXv/O5Y72ftROpj7WT3NgCBCUoPAA5KCkYOPgjVAFD+g/6e/h7/ffvZ/IgD2QeQCI8KEw5GDf8JowEQ9uft4u9B8evxiPIy8in6/wUZEBkTfhGnFkkXoA7KBtn/IfmK9wH2aPgx/DwHww65C1IM2QvjCyYRTRWPETEM3QZl/oH8zwCOBZABGP7eAU0E7gLwA6EFqwcnBrr7q/el96n2xfRQ7Sjo3+YH6eTxJ/XJ9tH7zwFXDCwPuw6PCl0JygwHB9v3LvLY8TbxNPAO+z4F1wX1BOX/ev5R+n32I/Ud9evxKPDz8UD69v32/tL/qfzK+4f9Iv2t/vj/7Pun+5r9VfdF9P3zwfG8+Cv+ewT9B6UG1QIi/z7+L/li8fnx7vgjAAwGAwkkDDUN0Qc6Aqv91fhb+q/8Gvpg95L1aPmL+yn+nv5C/0L/VgC6AeQGaAk9C4MJPAX0/6D8B/r798/1ofcUADoCQQBPAdkEMwlBDwoTCRC5DYUKRAR5AET78fMs8TrzDPjj/WwBLQStB8wI6gktCMIE8v0t+h/1cfDx7QjvaPMK+aL/SwCnBagNghXzFkcXuBWVEt0NFAkrA38BKwMyA3UDJQQOBBgEyQCa/Lz6U/uz+zv/WACtAhIDAwMU/s/50fd7+Oz3B/1HAU4IJhNHFjISFw+xDVMIPAMv/k/7dP2jA7EEoAbnDMMOYxHgE18NywJG/Vz3U/aH+if8W/4dAnIFAQgaBx8Clv7E/JT8nv75AFkG5Qt8ECoQswrgBLUGKgz0DRgL2QsZEUwRdg9MC6sDmv7G/Bb9Yf5gAOYBqwUtC4sNKwkBBTQAf/oZ8yDtSuqg7X7yPvWG9BD1L/gi/U8EngvUD2cQ9hBGDsQJ/wfsBpYEMAL2+2L4f/ts/gQAHwPqBzkLcA2oDXAKJwfiArv/xP2S/Sb+GP0e+wv9Af/VAP0BagBs/nr/D/8W/df/1wVECiQPhg8CEOEQDxB2DSsLVwY6A8kDzwTXA1EG5AaBCH8IhQl0CfoJOgZeAs7+1f59/Af85vhm+WT6avoM+HP2efW29Xf2H/jI+lf9LgE8AuP/Zvwx+9H5z/hC95T3jvjd+jn8r/zf/d3/CAJaAX8AAf5w/KX6avhv9azyAvHa8XfysPZA93v5avph/OP/6gJHAjgASvzZ9yv17fP/9Rb3J/c69sn0ZvWl+fj8qfrZ+Er94gIHBnYMBhBUDHwKPgp5B8AI8gVqADv/hfwt+DH4CPh79mL5ev42AMUBxgTCCGUMSgq6Br4EcQHU//j+2/0k/a39q/3I/nsBFALNAXECqP5A/VP8B/py+f34T/cB9jb3x/aI9s32Dvbq9Gb1OPWD9nv3EPc889r1kvdA+Kf4EPkJ+k/7mPkp+dH6HPuc+YP5g/vq/RsAtgGBAZAAoP/aAB8DwAMfBSsHEgiaB0IIWQiiCWMKkAWIA/UC7v1y+nT5Tfmg+v/6FPm890v5EPkM99P2YPY69xD63/ql+/38B/9qALgCvgQJB8wIIgp2CmMJAQcjBOQB6f/Z/Zj8BfvR+a34e/eM95r3J/mc+lH7yvzy/5sAhgFJAbgAYf8pAA//D/3s+2r8VgCrBAoFnASpA88CQAQzBZoE7AKWAdkCngWaBoMGwgT3BBYH/wepB2IGsQVyBZIEBwU+BCUERATAAYv+0fps9wH2JfM68jzzAPJe8332e/ea+Kf7i/2P/uAAMQTZBfkGwAirCiINfAq8Bf8H4wjLBdUBHP7V+2r5Sfcx+lv9PgFXBGYAkgUxCZ4M2A2ADtoO9A2rCs4JUQQcB8AKZgXU/wYBVQQyA2IBeQc/DukL4wyLC4kPvxMRC+IGzgskDu4LbASMBO4GoQLxAon/D/6a/ur8mvsp/h0AwgOnApj8+/dg9Az38fXz71zttPAf9V39VQMxCE0GTP9P+DL2SPsU/Pv3sO475oDqq/SP/F//8fXc8s330/pvAZ0AnwJ1AZb+ovuj9JPw6e746nzsb+4s72/wfvF7+lwC1QI4AR0A6gN8DVQTYBQOFSETIBCxCnMEZvs++Dj4efpZ/Af+X/7s/UL95f4jApr88PfF9Mfzy/dO/c798v23+6b+aAICAY37uPiD+WX9mvwz/PMAAwSDB2oGYANiBWwHKwf2CEYHKwZdBlsFjAaBBqcFgwOc/Dz4xPhw+Ff3cfEb7obxYvNR9k/5X/oD/7QC5gEZAPz+XgElAk0AGwFZBBYDPgBb/aT8WgJNBdsEaAGW/WH+RQG4BXIKIg1UECISMBEcDqIN1gz4CP8DBAAJ/+gBtgOcB10KVwyeDKQMkQwiDIcO9A9WDdUIrwSnBZoIpAhAB9ECCgHRAhkBigCpAloCaAJVBJwGWQpqCu4Luw3SDNsJmgbPBLMFowXGBE0DkgJNA7IDSQEc/pj4MvRV9Xf2A/rh/U7/jAEQA6kEHAW2BGID0wCD/t38xPtK/Jr+8v8aBPYG1wmgCqkJtwicBsYFjAMsAJr9e/zA/K38Qv4nAPz/9QDTAGQAnQPTBGYGpwWGAuP+Jfwt+mj5h/gW90n3cPdA+CX8dQGOBkAJDQogDIcN9g3bDXwL4wl5BjIDfQGKAGH/f/zV+nb7KfwQ/Kn9oP7cAfcCFgUBCBIJgwnAB5wExwIWARsBTQHl/9D+zP25/Xz+jf+CAB0ALADS/h8B4gJiBI4FngUfBQwDOAAOACMAxP/O/dn7CfsB+F73y/f794X32/dP+oX7J/sa/Gf+vgBxAqUC0wSWBikIGgh0ByAHmgMOAxQEigIOBN8FoAbPB1kHyAWQBZoDFwCz/q37yPgu9Kjudu0u64Trye0N7kvvnfE89Br3q/mg/dn/jAG2AksEHAqaC3IJSAfZBTUGdwSOA+oD0QInAbH/sf+WAWoBwADCAegCOATiBEsEFAMjAND/fP+Y/OH6QPqa+XT5sfil9gH4xvej9nv2svMb8env3O/H8jb2Jfd39eLzQPVs9tf3nPm8+wP9i/y1/IX8hf3A/Kf5y/WK847xBPBr8IjvIfAK8nvzVfRT90b5Fvpi+i/5Rvgp+pb7//vZ/T4BDAO8AugDQgMDA30B2f57+wH7Gvxw/ML8p/zV/DP8N/wQ+6v6C/yz/Cv+8v6bACMDnwTXBEAG1wd0CZwKEQu7CrwIeQZLBXED8wJxAwYDpQKBA88EZgaSB90G+QTiAoMCTwJTAaMC9QNqBXsGfQSGAqwATQJeA44BwAFtALX+pP9/AqUEcgVuAzABbQBgAJj+6v1V/bX9C/zZ+nv6uvkJ+i38Cf5+/0cA5AA=\" type=\"audio/wav\" />\n",
       "                    Your browser does not support the audio element.\n",
       "                </audio>\n",
       "              "
      ],
      "text/plain": [
       "<IPython.lib.display.Audio object>"
      ]
     },
     "metadata": {},
     "output_type": "display_data"
    },
    {
     "name": "stdout",
     "output_type": "stream",
     "text": [
      "Playing poisoned audio 2\n"
     ]
    },
    {
     "data": {
      "text/html": [
       "\n",
       "                <audio  controls=\"controls\" >\n",
       "                    <source src=\"data:audio/wav;base64,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\" type=\"audio/wav\" />\n",
       "                    Your browser does not support the audio element.\n",
       "                </audio>\n",
       "              "
      ],
      "text/plain": [
       "<IPython.lib.display.Audio object>"
      ]
     },
     "metadata": {},
     "output_type": "display_data"
    },
    {
     "name": "stderr",
     "output_type": "stream",
     "text": [
      "100%|██████████| 600/600 [01:30<00:00,  6.63it/s]\n"
     ]
    },
    {
     "name": "stdout",
     "output_type": "stream",
     "text": [
      "Epoch 0, Loss: 1.9948727962871393\n"
     ]
    },
    {
     "name": "stderr",
     "output_type": "stream",
     "text": [
      "100%|██████████| 600/600 [01:30<00:00,  6.64it/s]\n"
     ]
    },
    {
     "name": "stdout",
     "output_type": "stream",
     "text": [
      "Epoch 1, Loss: 1.238545899912715\n"
     ]
    },
    {
     "name": "stderr",
     "output_type": "stream",
     "text": [
      "100%|██████████| 600/600 [01:30<00:00,  6.66it/s]\n"
     ]
    },
    {
     "name": "stdout",
     "output_type": "stream",
     "text": [
      "Epoch 2, Loss: 0.768630706059436\n",
      "Test Accuracy: 97.16666666666667%\n",
      "423\n",
      "540\n",
      "ASR: 78.33333333333333%\n",
      "Clean Accuracy Drop (CAD): 1.8333333333333286%\n",
      "Backdoor Attack Success Rate: 78.33333333333333%\n"
     ]
    }
   ],
   "source": [
    "poisoning_rates = [0.01, 0.05, 0.1]  \n",
    "noise_paths = ['/kaggle/input/background/StreetWorkDrill.wav', '/kaggle/input/background/beescrickets2.wav']  \n",
    "\n",
    "results = []\n",
    "\n",
    "for poisoning_rate, noise_path in product(poisoning_rates, noise_paths):\n",
    "    print(f\"Running experiment with Poisoning rate: {poisoning_rate}, noise_path: {noise_path}\")\n",
    "    backdoor_accuracy, backdoor_attack_success_rate, accuracy_drop = backdoor_attack_and_eval_wav2vec2(poisoning_rate, noise_path)\n",
    "        \n",
    "    clean_accuracy_after = backdoor_accuracy\n",
    "\n",
    "    results.append({\n",
    "        'poisoning_rate': poisoning_rate,\n",
    "        'noise_path' : noise_path,\n",
    "        'backdoor_success_rate': backdoor_attack_success_rate,\n",
    "        'clean_accuracy_after': clean_accuracy_after,\n",
    "        'clean_accuracy_drop': clean_accuracy - clean_accuracy_after\n",
    "    })\n",
    "\n",
    "# print(results_df)"
   ]
  },
  {
   "cell_type": "code",
   "execution_count": 14,
   "id": "08a65759",
   "metadata": {
    "execution": {
     "iopub.execute_input": "2024-11-25T17:47:59.785318Z",
     "iopub.status.busy": "2024-11-25T17:47:59.784627Z",
     "iopub.status.idle": "2024-11-25T17:47:59.790316Z",
     "shell.execute_reply": "2024-11-25T17:47:59.789182Z"
    },
    "papermill": {
     "duration": 0.575788,
     "end_time": "2024-11-25T17:47:59.792111",
     "exception": false,
     "start_time": "2024-11-25T17:47:59.216323",
     "status": "completed"
    },
    "tags": []
   },
   "outputs": [],
   "source": [
    "results_df = pd.DataFrame(results)"
   ]
  },
  {
   "cell_type": "code",
   "execution_count": 15,
   "id": "1666483f",
   "metadata": {
    "execution": {
     "iopub.execute_input": "2024-11-25T17:48:00.878119Z",
     "iopub.status.busy": "2024-11-25T17:48:00.877219Z",
     "iopub.status.idle": "2024-11-25T17:48:00.891540Z",
     "shell.execute_reply": "2024-11-25T17:48:00.890686Z"
    },
    "papermill": {
     "duration": 0.576424,
     "end_time": "2024-11-25T17:48:00.893150",
     "exception": false,
     "start_time": "2024-11-25T17:48:00.316726",
     "status": "completed"
    },
    "tags": []
   },
   "outputs": [
    {
     "data": {
      "text/html": [
       "<div>\n",
       "<style scoped>\n",
       "    .dataframe tbody tr th:only-of-type {\n",
       "        vertical-align: middle;\n",
       "    }\n",
       "\n",
       "    .dataframe tbody tr th {\n",
       "        vertical-align: top;\n",
       "    }\n",
       "\n",
       "    .dataframe thead th {\n",
       "        text-align: right;\n",
       "    }\n",
       "</style>\n",
       "<table border=\"1\" class=\"dataframe\">\n",
       "  <thead>\n",
       "    <tr style=\"text-align: right;\">\n",
       "      <th></th>\n",
       "      <th>poisoning_rate</th>\n",
       "      <th>noise_path</th>\n",
       "      <th>backdoor_success_rate</th>\n",
       "      <th>clean_accuracy_after</th>\n",
       "      <th>clean_accuracy_drop</th>\n",
       "    </tr>\n",
       "  </thead>\n",
       "  <tbody>\n",
       "    <tr>\n",
       "      <th>0</th>\n",
       "      <td>0.01</td>\n",
       "      <td>/kaggle/input/background/StreetWorkDrill.wav</td>\n",
       "      <td>0.000000</td>\n",
       "      <td>98.333333</td>\n",
       "      <td>0.666667</td>\n",
       "    </tr>\n",
       "    <tr>\n",
       "      <th>1</th>\n",
       "      <td>0.01</td>\n",
       "      <td>/kaggle/input/background/beescrickets2.wav</td>\n",
       "      <td>0.185185</td>\n",
       "      <td>98.500000</td>\n",
       "      <td>0.500000</td>\n",
       "    </tr>\n",
       "    <tr>\n",
       "      <th>2</th>\n",
       "      <td>0.05</td>\n",
       "      <td>/kaggle/input/background/StreetWorkDrill.wav</td>\n",
       "      <td>23.148148</td>\n",
       "      <td>98.500000</td>\n",
       "      <td>0.500000</td>\n",
       "    </tr>\n",
       "    <tr>\n",
       "      <th>3</th>\n",
       "      <td>0.05</td>\n",
       "      <td>/kaggle/input/background/beescrickets2.wav</td>\n",
       "      <td>15.000000</td>\n",
       "      <td>98.333333</td>\n",
       "      <td>0.666667</td>\n",
       "    </tr>\n",
       "    <tr>\n",
       "      <th>4</th>\n",
       "      <td>0.10</td>\n",
       "      <td>/kaggle/input/background/StreetWorkDrill.wav</td>\n",
       "      <td>97.407407</td>\n",
       "      <td>96.833333</td>\n",
       "      <td>2.166667</td>\n",
       "    </tr>\n",
       "    <tr>\n",
       "      <th>5</th>\n",
       "      <td>0.10</td>\n",
       "      <td>/kaggle/input/background/beescrickets2.wav</td>\n",
       "      <td>78.333333</td>\n",
       "      <td>97.166667</td>\n",
       "      <td>1.833333</td>\n",
       "    </tr>\n",
       "  </tbody>\n",
       "</table>\n",
       "</div>"
      ],
      "text/plain": [
       "   poisoning_rate                                    noise_path  \\\n",
       "0            0.01  /kaggle/input/background/StreetWorkDrill.wav   \n",
       "1            0.01    /kaggle/input/background/beescrickets2.wav   \n",
       "2            0.05  /kaggle/input/background/StreetWorkDrill.wav   \n",
       "3            0.05    /kaggle/input/background/beescrickets2.wav   \n",
       "4            0.10  /kaggle/input/background/StreetWorkDrill.wav   \n",
       "5            0.10    /kaggle/input/background/beescrickets2.wav   \n",
       "\n",
       "   backdoor_success_rate  clean_accuracy_after  clean_accuracy_drop  \n",
       "0               0.000000             98.333333             0.666667  \n",
       "1               0.185185             98.500000             0.500000  \n",
       "2              23.148148             98.500000             0.500000  \n",
       "3              15.000000             98.333333             0.666667  \n",
       "4              97.407407             96.833333             2.166667  \n",
       "5              78.333333             97.166667             1.833333  "
      ]
     },
     "execution_count": 15,
     "metadata": {},
     "output_type": "execute_result"
    }
   ],
   "source": [
    "results_df"
   ]
  },
  {
   "cell_type": "code",
   "execution_count": 16,
   "id": "26e0bdd7",
   "metadata": {
    "execution": {
     "iopub.execute_input": "2024-11-25T17:48:02.010073Z",
     "iopub.status.busy": "2024-11-25T17:48:02.009733Z",
     "iopub.status.idle": "2024-11-25T17:48:02.018073Z",
     "shell.execute_reply": "2024-11-25T17:48:02.017358Z"
    },
    "papermill": {
     "duration": 0.605642,
     "end_time": "2024-11-25T17:48:02.019667",
     "exception": false,
     "start_time": "2024-11-25T17:48:01.414025",
     "status": "completed"
    },
    "tags": []
   },
   "outputs": [],
   "source": [
    "results_df.to_csv('Wav2Vec2-SD-BKDR-bckgrnd.csv', sep='\\t', index=False)"
   ]
  },
  {
   "cell_type": "code",
   "execution_count": null,
   "id": "f65c475a",
   "metadata": {
    "papermill": {
     "duration": 0.563503,
     "end_time": "2024-11-25T17:48:03.111486",
     "exception": false,
     "start_time": "2024-11-25T17:48:02.547983",
     "status": "completed"
    },
    "tags": []
   },
   "outputs": [],
   "source": []
  }
 ],
 "metadata": {
  "kaggle": {
   "accelerator": "gpu",
   "dataSources": [
    {
     "datasetId": 5789127,
     "sourceId": 9510683,
     "sourceType": "datasetVersion"
    },
    {
     "datasetId": 5801049,
     "sourceId": 9526431,
     "sourceType": "datasetVersion"
    }
   ],
   "isGpuEnabled": true,
   "isInternetEnabled": true,
   "language": "python",
   "sourceType": "notebook"
  },
  "kernelspec": {
   "display_name": "Python 3",
   "language": "python",
   "name": "python3"
  },
  "language_info": {
   "codemirror_mode": {
    "name": "ipython",
    "version": 3
   },
   "file_extension": ".py",
   "mimetype": "text/x-python",
   "name": "python",
   "nbconvert_exporter": "python",
   "pygments_lexer": "ipython3",
   "version": "3.10.14"
  },
  "papermill": {
   "default_parameters": {},
   "duration": 2109.633871,
   "end_time": "2024-11-25T17:48:07.112196",
   "environment_variables": {},
   "exception": null,
   "input_path": "__notebook__.ipynb",
   "output_path": "__notebook__.ipynb",
   "parameters": {},
   "start_time": "2024-11-25T17:12:57.478325",
   "version": "2.6.0"
  },
  "widgets": {
   "application/vnd.jupyter.widget-state+json": {
    "state": {
     "00113f61b0ef46c0b588d9a0fd511913": {
      "model_module": "@jupyter-widgets/controls",
      "model_module_version": "1.5.0",
      "model_name": "ProgressStyleModel",
      "state": {
       "_model_module": "@jupyter-widgets/controls",
       "_model_module_version": "1.5.0",
       "_model_name": "ProgressStyleModel",
       "_view_count": null,
       "_view_module": "@jupyter-widgets/base",
       "_view_module_version": "1.2.0",
       "_view_name": "StyleView",
       "bar_color": null,
       "description_width": ""
      }
     },
     "04117ca4518d4af293e86c95ece1536a": {
      "model_module": "@jupyter-widgets/controls",
      "model_module_version": "1.5.0",
      "model_name": "HTMLModel",
      "state": {
       "_dom_classes": [],
       "_model_module": "@jupyter-widgets/controls",
       "_model_module_version": "1.5.0",
       "_model_name": "HTMLModel",
       "_view_count": null,
       "_view_module": "@jupyter-widgets/controls",
       "_view_module_version": "1.5.0",
       "_view_name": "HTMLView",
       "description": "",
       "description_tooltip": null,
       "layout": "IPY_MODEL_d480171b9fc24d43b7d79a6da20e3026",
       "placeholder": "​",
       "style": "IPY_MODEL_3c983d0ded06408493e3a6cd582f20e5",
       "value": " 85.0/85.0 [00:00&lt;00:00, 9.60kB/s]"
      }
     },
     "0db2474c1d0d4b4295ece2ce6bbd6407": {
      "model_module": "@jupyter-widgets/controls",
      "model_module_version": "1.5.0",
      "model_name": "DescriptionStyleModel",
      "state": {
       "_model_module": "@jupyter-widgets/controls",
       "_model_module_version": "1.5.0",
       "_model_name": "DescriptionStyleModel",
       "_view_count": null,
       "_view_module": "@jupyter-widgets/base",
       "_view_module_version": "1.2.0",
       "_view_name": "StyleView",
       "description_width": ""
      }
     },
     "15239d9ea6604194828c3516052e4d52": {
      "model_module": "@jupyter-widgets/base",
      "model_module_version": "1.2.0",
      "model_name": "LayoutModel",
      "state": {
       "_model_module": "@jupyter-widgets/base",
       "_model_module_version": "1.2.0",
       "_model_name": "LayoutModel",
       "_view_count": null,
       "_view_module": "@jupyter-widgets/base",
       "_view_module_version": "1.2.0",
       "_view_name": "LayoutView",
       "align_content": null,
       "align_items": null,
       "align_self": null,
       "border": null,
       "bottom": null,
       "display": null,
       "flex": null,
       "flex_flow": null,
       "grid_area": null,
       "grid_auto_columns": null,
       "grid_auto_flow": null,
       "grid_auto_rows": null,
       "grid_column": null,
       "grid_gap": null,
       "grid_row": null,
       "grid_template_areas": null,
       "grid_template_columns": null,
       "grid_template_rows": null,
       "height": null,
       "justify_content": null,
       "justify_items": null,
       "left": null,
       "margin": null,
       "max_height": null,
       "max_width": null,
       "min_height": null,
       "min_width": null,
       "object_fit": null,
       "object_position": null,
       "order": null,
       "overflow": null,
       "overflow_x": null,
       "overflow_y": null,
       "padding": null,
       "right": null,
       "top": null,
       "visibility": null,
       "width": null
      }
     },
     "16425ef4ede7428a9c858db6820999d4": {
      "model_module": "@jupyter-widgets/controls",
      "model_module_version": "1.5.0",
      "model_name": "ProgressStyleModel",
      "state": {
       "_model_module": "@jupyter-widgets/controls",
       "_model_module_version": "1.5.0",
       "_model_name": "ProgressStyleModel",
       "_view_count": null,
       "_view_module": "@jupyter-widgets/base",
       "_view_module_version": "1.2.0",
       "_view_name": "StyleView",
       "bar_color": null,
       "description_width": ""
      }
     },
     "1b9324d010404cfa890952f719f2c719": {
      "model_module": "@jupyter-widgets/base",
      "model_module_version": "1.2.0",
      "model_name": "LayoutModel",
      "state": {
       "_model_module": "@jupyter-widgets/base",
       "_model_module_version": "1.2.0",
       "_model_name": "LayoutModel",
       "_view_count": null,
       "_view_module": "@jupyter-widgets/base",
       "_view_module_version": "1.2.0",
       "_view_name": "LayoutView",
       "align_content": null,
       "align_items": null,
       "align_self": null,
       "border": null,
       "bottom": null,
       "display": null,
       "flex": null,
       "flex_flow": null,
       "grid_area": null,
       "grid_auto_columns": null,
       "grid_auto_flow": null,
       "grid_auto_rows": null,
       "grid_column": null,
       "grid_gap": null,
       "grid_row": null,
       "grid_template_areas": null,
       "grid_template_columns": null,
       "grid_template_rows": null,
       "height": null,
       "justify_content": null,
       "justify_items": null,
       "left": null,
       "margin": null,
       "max_height": null,
       "max_width": null,
       "min_height": null,
       "min_width": null,
       "object_fit": null,
       "object_position": null,
       "order": null,
       "overflow": null,
       "overflow_x": null,
       "overflow_y": null,
       "padding": null,
       "right": null,
       "top": null,
       "visibility": null,
       "width": null
      }
     },
     "289d082beb244e67b77129efbb9d325a": {
      "model_module": "@jupyter-widgets/controls",
      "model_module_version": "1.5.0",
      "model_name": "FloatProgressModel",
      "state": {
       "_dom_classes": [],
       "_model_module": "@jupyter-widgets/controls",
       "_model_module_version": "1.5.0",
       "_model_name": "FloatProgressModel",
       "_view_count": null,
       "_view_module": "@jupyter-widgets/controls",
       "_view_module_version": "1.5.0",
       "_view_name": "ProgressView",
       "bar_style": "success",
       "description": "",
       "description_tooltip": null,
       "layout": "IPY_MODEL_59385a2763c7465680e5c37dc7e7fc14",
       "max": 300.0,
       "min": 0.0,
       "orientation": "horizontal",
       "style": "IPY_MODEL_00113f61b0ef46c0b588d9a0fd511913",
       "value": 300.0
      }
     },
     "2d575dfdec5d48da83d04177d3dd742f": {
      "model_module": "@jupyter-widgets/controls",
      "model_module_version": "1.5.0",
      "model_name": "HTMLModel",
      "state": {
       "_dom_classes": [],
       "_model_module": "@jupyter-widgets/controls",
       "_model_module_version": "1.5.0",
       "_model_name": "HTMLModel",
       "_view_count": null,
       "_view_module": "@jupyter-widgets/controls",
       "_view_module_version": "1.5.0",
       "_view_name": "HTMLView",
       "description": "",
       "description_tooltip": null,
       "layout": "IPY_MODEL_d90868603d7145b8b349eb0f59ba8d4f",
       "placeholder": "​",
       "style": "IPY_MODEL_f0ab8a9e32804f69a7b917f095859e1b",
       "value": "config.json: 100%"
      }
     },
     "2f3a8ab5567a4e5fbc0cb506fe6cbc5b": {
      "model_module": "@jupyter-widgets/base",
      "model_module_version": "1.2.0",
      "model_name": "LayoutModel",
      "state": {
       "_model_module": "@jupyter-widgets/base",
       "_model_module_version": "1.2.0",
       "_model_name": "LayoutModel",
       "_view_count": null,
       "_view_module": "@jupyter-widgets/base",
       "_view_module_version": "1.2.0",
       "_view_name": "LayoutView",
       "align_content": null,
       "align_items": null,
       "align_self": null,
       "border": null,
       "bottom": null,
       "display": null,
       "flex": null,
       "flex_flow": null,
       "grid_area": null,
       "grid_auto_columns": null,
       "grid_auto_flow": null,
       "grid_auto_rows": null,
       "grid_column": null,
       "grid_gap": null,
       "grid_row": null,
       "grid_template_areas": null,
       "grid_template_columns": null,
       "grid_template_rows": null,
       "height": null,
       "justify_content": null,
       "justify_items": null,
       "left": null,
       "margin": null,
       "max_height": null,
       "max_width": null,
       "min_height": null,
       "min_width": null,
       "object_fit": null,
       "object_position": null,
       "order": null,
       "overflow": null,
       "overflow_x": null,
       "overflow_y": null,
       "padding": null,
       "right": null,
       "top": null,
       "visibility": null,
       "width": null
      }
     },
     "38faf4010d914ac4941669f4cdb78a71": {
      "model_module": "@jupyter-widgets/base",
      "model_module_version": "1.2.0",
      "model_name": "LayoutModel",
      "state": {
       "_model_module": "@jupyter-widgets/base",
       "_model_module_version": "1.2.0",
       "_model_name": "LayoutModel",
       "_view_count": null,
       "_view_module": "@jupyter-widgets/base",
       "_view_module_version": "1.2.0",
       "_view_name": "LayoutView",
       "align_content": null,
       "align_items": null,
       "align_self": null,
       "border": null,
       "bottom": null,
       "display": null,
       "flex": null,
       "flex_flow": null,
       "grid_area": null,
       "grid_auto_columns": null,
       "grid_auto_flow": null,
       "grid_auto_rows": null,
       "grid_column": null,
       "grid_gap": null,
       "grid_row": null,
       "grid_template_areas": null,
       "grid_template_columns": null,
       "grid_template_rows": null,
       "height": null,
       "justify_content": null,
       "justify_items": null,
       "left": null,
       "margin": null,
       "max_height": null,
       "max_width": null,
       "min_height": null,
       "min_width": null,
       "object_fit": null,
       "object_position": null,
       "order": null,
       "overflow": null,
       "overflow_x": null,
       "overflow_y": null,
       "padding": null,
       "right": null,
       "top": null,
       "visibility": null,
       "width": null
      }
     },
     "3c983d0ded06408493e3a6cd582f20e5": {
      "model_module": "@jupyter-widgets/controls",
      "model_module_version": "1.5.0",
      "model_name": "DescriptionStyleModel",
      "state": {
       "_model_module": "@jupyter-widgets/controls",
       "_model_module_version": "1.5.0",
       "_model_name": "DescriptionStyleModel",
       "_view_count": null,
       "_view_module": "@jupyter-widgets/base",
       "_view_module_version": "1.2.0",
       "_view_name": "StyleView",
       "description_width": ""
      }
     },
     "4a5651b6245743c5b6b25df4d3a7281f": {
      "model_module": "@jupyter-widgets/controls",
      "model_module_version": "1.5.0",
      "model_name": "HBoxModel",
      "state": {
       "_dom_classes": [],
       "_model_module": "@jupyter-widgets/controls",
       "_model_module_version": "1.5.0",
       "_model_name": "HBoxModel",
       "_view_count": null,
       "_view_module": "@jupyter-widgets/controls",
       "_view_module_version": "1.5.0",
       "_view_name": "HBoxView",
       "box_style": "",
       "children": [
        "IPY_MODEL_ebf1422509604909bc4ae760836da16e",
        "IPY_MODEL_8b07c075f7464e65854f101732a8904a",
        "IPY_MODEL_b55697ed4ff64e15a80f350347b8b39b"
       ],
       "layout": "IPY_MODEL_5113a448c4c24ec0afae4616e0fcfc90"
      }
     },
     "4e66a83665004aadbee8bbb2c16f8ed2": {
      "model_module": "@jupyter-widgets/controls",
      "model_module_version": "1.5.0",
      "model_name": "HTMLModel",
      "state": {
       "_dom_classes": [],
       "_model_module": "@jupyter-widgets/controls",
       "_model_module_version": "1.5.0",
       "_model_name": "HTMLModel",
       "_view_count": null,
       "_view_module": "@jupyter-widgets/controls",
       "_view_module_version": "1.5.0",
       "_view_name": "HTMLView",
       "description": "",
       "description_tooltip": null,
       "layout": "IPY_MODEL_5dd35905f7424560a03c1c9004a2a6e6",
       "placeholder": "​",
       "style": "IPY_MODEL_5e8389819db54f3ea0bf95f384ef811d",
       "value": "special_tokens_map.json: 100%"
      }
     },
     "5113a448c4c24ec0afae4616e0fcfc90": {
      "model_module": "@jupyter-widgets/base",
      "model_module_version": "1.2.0",
      "model_name": "LayoutModel",
      "state": {
       "_model_module": "@jupyter-widgets/base",
       "_model_module_version": "1.2.0",
       "_model_name": "LayoutModel",
       "_view_count": null,
       "_view_module": "@jupyter-widgets/base",
       "_view_module_version": "1.2.0",
       "_view_name": "LayoutView",
       "align_content": null,
       "align_items": null,
       "align_self": null,
       "border": null,
       "bottom": null,
       "display": null,
       "flex": null,
       "flex_flow": null,
       "grid_area": null,
       "grid_auto_columns": null,
       "grid_auto_flow": null,
       "grid_auto_rows": null,
       "grid_column": null,
       "grid_gap": null,
       "grid_row": null,
       "grid_template_areas": null,
       "grid_template_columns": null,
       "grid_template_rows": null,
       "height": null,
       "justify_content": null,
       "justify_items": null,
       "left": null,
       "margin": null,
       "max_height": null,
       "max_width": null,
       "min_height": null,
       "min_width": null,
       "object_fit": null,
       "object_position": null,
       "order": null,
       "overflow": null,
       "overflow_x": null,
       "overflow_y": null,
       "padding": null,
       "right": null,
       "top": null,
       "visibility": null,
       "width": null
      }
     },
     "5793d828171543d795db1015f3cf5be1": {
      "model_module": "@jupyter-widgets/base",
      "model_module_version": "1.2.0",
      "model_name": "LayoutModel",
      "state": {
       "_model_module": "@jupyter-widgets/base",
       "_model_module_version": "1.2.0",
       "_model_name": "LayoutModel",
       "_view_count": null,
       "_view_module": "@jupyter-widgets/base",
       "_view_module_version": "1.2.0",
       "_view_name": "LayoutView",
       "align_content": null,
       "align_items": null,
       "align_self": null,
       "border": null,
       "bottom": null,
       "display": null,
       "flex": null,
       "flex_flow": null,
       "grid_area": null,
       "grid_auto_columns": null,
       "grid_auto_flow": null,
       "grid_auto_rows": null,
       "grid_column": null,
       "grid_gap": null,
       "grid_row": null,
       "grid_template_areas": null,
       "grid_template_columns": null,
       "grid_template_rows": null,
       "height": null,
       "justify_content": null,
       "justify_items": null,
       "left": null,
       "margin": null,
       "max_height": null,
       "max_width": null,
       "min_height": null,
       "min_width": null,
       "object_fit": null,
       "object_position": null,
       "order": null,
       "overflow": null,
       "overflow_x": null,
       "overflow_y": null,
       "padding": null,
       "right": null,
       "top": null,
       "visibility": null,
       "width": null
      }
     },
     "59385a2763c7465680e5c37dc7e7fc14": {
      "model_module": "@jupyter-widgets/base",
      "model_module_version": "1.2.0",
      "model_name": "LayoutModel",
      "state": {
       "_model_module": "@jupyter-widgets/base",
       "_model_module_version": "1.2.0",
       "_model_name": "LayoutModel",
       "_view_count": null,
       "_view_module": "@jupyter-widgets/base",
       "_view_module_version": "1.2.0",
       "_view_name": "LayoutView",
       "align_content": null,
       "align_items": null,
       "align_self": null,
       "border": null,
       "bottom": null,
       "display": null,
       "flex": null,
       "flex_flow": null,
       "grid_area": null,
       "grid_auto_columns": null,
       "grid_auto_flow": null,
       "grid_auto_rows": null,
       "grid_column": null,
       "grid_gap": null,
       "grid_row": null,
       "grid_template_areas": null,
       "grid_template_columns": null,
       "grid_template_rows": null,
       "height": null,
       "justify_content": null,
       "justify_items": null,
       "left": null,
       "margin": null,
       "max_height": null,
       "max_width": null,
       "min_height": null,
       "min_width": null,
       "object_fit": null,
       "object_position": null,
       "order": null,
       "overflow": null,
       "overflow_x": null,
       "overflow_y": null,
       "padding": null,
       "right": null,
       "top": null,
       "visibility": null,
       "width": null
      }
     },
     "5aca0b7dc29e4f689abe38a810dcf94c": {
      "model_module": "@jupyter-widgets/controls",
      "model_module_version": "1.5.0",
      "model_name": "HBoxModel",
      "state": {
       "_dom_classes": [],
       "_model_module": "@jupyter-widgets/controls",
       "_model_module_version": "1.5.0",
       "_model_name": "HBoxModel",
       "_view_count": null,
       "_view_module": "@jupyter-widgets/controls",
       "_view_module_version": "1.5.0",
       "_view_name": "HBoxView",
       "box_style": "",
       "children": [
        "IPY_MODEL_87fbf403bc3043f3b3e67a5cf46b5fad",
        "IPY_MODEL_289d082beb244e67b77129efbb9d325a",
        "IPY_MODEL_b25ae90bb7e44169a7c6a89c34422e38"
       ],
       "layout": "IPY_MODEL_cde921f700dd4f91a43bcd6b3206d4cb"
      }
     },
     "5c96b76f1a79405697bb621c9ff69bea": {
      "model_module": "@jupyter-widgets/controls",
      "model_module_version": "1.5.0",
      "model_name": "HTMLModel",
      "state": {
       "_dom_classes": [],
       "_model_module": "@jupyter-widgets/controls",
       "_model_module_version": "1.5.0",
       "_model_name": "HTMLModel",
       "_view_count": null,
       "_view_module": "@jupyter-widgets/controls",
       "_view_module_version": "1.5.0",
       "_view_name": "HTMLView",
       "description": "",
       "description_tooltip": null,
       "layout": "IPY_MODEL_d7ac4a3052a14935b42c0f57992a3d98",
       "placeholder": "​",
       "style": "IPY_MODEL_876db63cbbfa4b03a86185e45f8d0cbc",
       "value": "preprocessor_config.json: 100%"
      }
     },
     "5dd35905f7424560a03c1c9004a2a6e6": {
      "model_module": "@jupyter-widgets/base",
      "model_module_version": "1.2.0",
      "model_name": "LayoutModel",
      "state": {
       "_model_module": "@jupyter-widgets/base",
       "_model_module_version": "1.2.0",
       "_model_name": "LayoutModel",
       "_view_count": null,
       "_view_module": "@jupyter-widgets/base",
       "_view_module_version": "1.2.0",
       "_view_name": "LayoutView",
       "align_content": null,
       "align_items": null,
       "align_self": null,
       "border": null,
       "bottom": null,
       "display": null,
       "flex": null,
       "flex_flow": null,
       "grid_area": null,
       "grid_auto_columns": null,
       "grid_auto_flow": null,
       "grid_auto_rows": null,
       "grid_column": null,
       "grid_gap": null,
       "grid_row": null,
       "grid_template_areas": null,
       "grid_template_columns": null,
       "grid_template_rows": null,
       "height": null,
       "justify_content": null,
       "justify_items": null,
       "left": null,
       "margin": null,
       "max_height": null,
       "max_width": null,
       "min_height": null,
       "min_width": null,
       "object_fit": null,
       "object_position": null,
       "order": null,
       "overflow": null,
       "overflow_x": null,
       "overflow_y": null,
       "padding": null,
       "right": null,
       "top": null,
       "visibility": null,
       "width": null
      }
     },
     "5e8389819db54f3ea0bf95f384ef811d": {
      "model_module": "@jupyter-widgets/controls",
      "model_module_version": "1.5.0",
      "model_name": "DescriptionStyleModel",
      "state": {
       "_model_module": "@jupyter-widgets/controls",
       "_model_module_version": "1.5.0",
       "_model_name": "DescriptionStyleModel",
       "_view_count": null,
       "_view_module": "@jupyter-widgets/base",
       "_view_module_version": "1.2.0",
       "_view_name": "StyleView",
       "description_width": ""
      }
     },
     "6668f8bb6a77433680f135adb99f1340": {
      "model_module": "@jupyter-widgets/controls",
      "model_module_version": "1.5.0",
      "model_name": "HBoxModel",
      "state": {
       "_dom_classes": [],
       "_model_module": "@jupyter-widgets/controls",
       "_model_module_version": "1.5.0",
       "_model_name": "HBoxModel",
       "_view_count": null,
       "_view_module": "@jupyter-widgets/controls",
       "_view_module_version": "1.5.0",
       "_view_name": "HBoxView",
       "box_style": "",
       "children": [
        "IPY_MODEL_2d575dfdec5d48da83d04177d3dd742f",
        "IPY_MODEL_a8998c5875fa40509b42dd3e04b23445",
        "IPY_MODEL_9ca2a62b3aeb409faea7cd7c39bcd31f"
       ],
       "layout": "IPY_MODEL_e0a1a151f56f4e1eb6fa22ea0d1282e1"
      }
     },
     "7b48c5eb30084f8aa0caf50687390328": {
      "model_module": "@jupyter-widgets/controls",
      "model_module_version": "1.5.0",
      "model_name": "DescriptionStyleModel",
      "state": {
       "_model_module": "@jupyter-widgets/controls",
       "_model_module_version": "1.5.0",
       "_model_name": "DescriptionStyleModel",
       "_view_count": null,
       "_view_module": "@jupyter-widgets/base",
       "_view_module_version": "1.2.0",
       "_view_name": "StyleView",
       "description_width": ""
      }
     },
     "86034121178a4ead8623189445dd5f76": {
      "model_module": "@jupyter-widgets/base",
      "model_module_version": "1.2.0",
      "model_name": "LayoutModel",
      "state": {
       "_model_module": "@jupyter-widgets/base",
       "_model_module_version": "1.2.0",
       "_model_name": "LayoutModel",
       "_view_count": null,
       "_view_module": "@jupyter-widgets/base",
       "_view_module_version": "1.2.0",
       "_view_name": "LayoutView",
       "align_content": null,
       "align_items": null,
       "align_self": null,
       "border": null,
       "bottom": null,
       "display": null,
       "flex": null,
       "flex_flow": null,
       "grid_area": null,
       "grid_auto_columns": null,
       "grid_auto_flow": null,
       "grid_auto_rows": null,
       "grid_column": null,
       "grid_gap": null,
       "grid_row": null,
       "grid_template_areas": null,
       "grid_template_columns": null,
       "grid_template_rows": null,
       "height": null,
       "justify_content": null,
       "justify_items": null,
       "left": null,
       "margin": null,
       "max_height": null,
       "max_width": null,
       "min_height": null,
       "min_width": null,
       "object_fit": null,
       "object_position": null,
       "order": null,
       "overflow": null,
       "overflow_x": null,
       "overflow_y": null,
       "padding": null,
       "right": null,
       "top": null,
       "visibility": null,
       "width": null
      }
     },
     "876db63cbbfa4b03a86185e45f8d0cbc": {
      "model_module": "@jupyter-widgets/controls",
      "model_module_version": "1.5.0",
      "model_name": "DescriptionStyleModel",
      "state": {
       "_model_module": "@jupyter-widgets/controls",
       "_model_module_version": "1.5.0",
       "_model_name": "DescriptionStyleModel",
       "_view_count": null,
       "_view_module": "@jupyter-widgets/base",
       "_view_module_version": "1.2.0",
       "_view_name": "StyleView",
       "description_width": ""
      }
     },
     "87fbf403bc3043f3b3e67a5cf46b5fad": {
      "model_module": "@jupyter-widgets/controls",
      "model_module_version": "1.5.0",
      "model_name": "HTMLModel",
      "state": {
       "_dom_classes": [],
       "_model_module": "@jupyter-widgets/controls",
       "_model_module_version": "1.5.0",
       "_model_name": "HTMLModel",
       "_view_count": null,
       "_view_module": "@jupyter-widgets/controls",
       "_view_module_version": "1.5.0",
       "_view_name": "HTMLView",
       "description": "",
       "description_tooltip": null,
       "layout": "IPY_MODEL_fdb50ed072474b3dabf466f14d9f762b",
       "placeholder": "​",
       "style": "IPY_MODEL_e96f25f25a9d49649970e1a238d2201a",
       "value": "vocab.json: 100%"
      }
     },
     "8b07c075f7464e65854f101732a8904a": {
      "model_module": "@jupyter-widgets/controls",
      "model_module_version": "1.5.0",
      "model_name": "FloatProgressModel",
      "state": {
       "_dom_classes": [],
       "_model_module": "@jupyter-widgets/controls",
       "_model_module_version": "1.5.0",
       "_model_name": "FloatProgressModel",
       "_view_count": null,
       "_view_module": "@jupyter-widgets/controls",
       "_view_module_version": "1.5.0",
       "_view_name": "ProgressView",
       "bar_style": "success",
       "description": "",
       "description_tooltip": null,
       "layout": "IPY_MODEL_15239d9ea6604194828c3516052e4d52",
       "max": 1261942732.0,
       "min": 0.0,
       "orientation": "horizontal",
       "style": "IPY_MODEL_c6c9eaa405cc4b45b4f0124430b1f82e",
       "value": 1261942732.0
      }
     },
     "9878d76e7f484317868c01001132c9f1": {
      "model_module": "@jupyter-widgets/base",
      "model_module_version": "1.2.0",
      "model_name": "LayoutModel",
      "state": {
       "_model_module": "@jupyter-widgets/base",
       "_model_module_version": "1.2.0",
       "_model_name": "LayoutModel",
       "_view_count": null,
       "_view_module": "@jupyter-widgets/base",
       "_view_module_version": "1.2.0",
       "_view_name": "LayoutView",
       "align_content": null,
       "align_items": null,
       "align_self": null,
       "border": null,
       "bottom": null,
       "display": null,
       "flex": null,
       "flex_flow": null,
       "grid_area": null,
       "grid_auto_columns": null,
       "grid_auto_flow": null,
       "grid_auto_rows": null,
       "grid_column": null,
       "grid_gap": null,
       "grid_row": null,
       "grid_template_areas": null,
       "grid_template_columns": null,
       "grid_template_rows": null,
       "height": null,
       "justify_content": null,
       "justify_items": null,
       "left": null,
       "margin": null,
       "max_height": null,
       "max_width": null,
       "min_height": null,
       "min_width": null,
       "object_fit": null,
       "object_position": null,
       "order": null,
       "overflow": null,
       "overflow_x": null,
       "overflow_y": null,
       "padding": null,
       "right": null,
       "top": null,
       "visibility": null,
       "width": null
      }
     },
     "9b9342d0871443b2b5c5f8f4c4b7c981": {
      "model_module": "@jupyter-widgets/controls",
      "model_module_version": "1.5.0",
      "model_name": "ProgressStyleModel",
      "state": {
       "_model_module": "@jupyter-widgets/controls",
       "_model_module_version": "1.5.0",
       "_model_name": "ProgressStyleModel",
       "_view_count": null,
       "_view_module": "@jupyter-widgets/base",
       "_view_module_version": "1.2.0",
       "_view_name": "StyleView",
       "bar_color": null,
       "description_width": ""
      }
     },
     "9ca2a62b3aeb409faea7cd7c39bcd31f": {
      "model_module": "@jupyter-widgets/controls",
      "model_module_version": "1.5.0",
      "model_name": "HTMLModel",
      "state": {
       "_dom_classes": [],
       "_model_module": "@jupyter-widgets/controls",
       "_model_module_version": "1.5.0",
       "_model_name": "HTMLModel",
       "_view_count": null,
       "_view_module": "@jupyter-widgets/controls",
       "_view_module_version": "1.5.0",
       "_view_name": "HTMLView",
       "description": "",
       "description_tooltip": null,
       "layout": "IPY_MODEL_86034121178a4ead8623189445dd5f76",
       "placeholder": "​",
       "style": "IPY_MODEL_0db2474c1d0d4b4295ece2ce6bbd6407",
       "value": " 1.53k/1.53k [00:00&lt;00:00, 158kB/s]"
      }
     },
     "9fe57de9f5114d55a07be61c79af9f4c": {
      "model_module": "@jupyter-widgets/base",
      "model_module_version": "1.2.0",
      "model_name": "LayoutModel",
      "state": {
       "_model_module": "@jupyter-widgets/base",
       "_model_module_version": "1.2.0",
       "_model_name": "LayoutModel",
       "_view_count": null,
       "_view_module": "@jupyter-widgets/base",
       "_view_module_version": "1.2.0",
       "_view_name": "LayoutView",
       "align_content": null,
       "align_items": null,
       "align_self": null,
       "border": null,
       "bottom": null,
       "display": null,
       "flex": null,
       "flex_flow": null,
       "grid_area": null,
       "grid_auto_columns": null,
       "grid_auto_flow": null,
       "grid_auto_rows": null,
       "grid_column": null,
       "grid_gap": null,
       "grid_row": null,
       "grid_template_areas": null,
       "grid_template_columns": null,
       "grid_template_rows": null,
       "height": null,
       "justify_content": null,
       "justify_items": null,
       "left": null,
       "margin": null,
       "max_height": null,
       "max_width": null,
       "min_height": null,
       "min_width": null,
       "object_fit": null,
       "object_position": null,
       "order": null,
       "overflow": null,
       "overflow_x": null,
       "overflow_y": null,
       "padding": null,
       "right": null,
       "top": null,
       "visibility": null,
       "width": null
      }
     },
     "a68e8b53b9d24b76bc73c4d7b149fe29": {
      "model_module": "@jupyter-widgets/base",
      "model_module_version": "1.2.0",
      "model_name": "LayoutModel",
      "state": {
       "_model_module": "@jupyter-widgets/base",
       "_model_module_version": "1.2.0",
       "_model_name": "LayoutModel",
       "_view_count": null,
       "_view_module": "@jupyter-widgets/base",
       "_view_module_version": "1.2.0",
       "_view_name": "LayoutView",
       "align_content": null,
       "align_items": null,
       "align_self": null,
       "border": null,
       "bottom": null,
       "display": null,
       "flex": null,
       "flex_flow": null,
       "grid_area": null,
       "grid_auto_columns": null,
       "grid_auto_flow": null,
       "grid_auto_rows": null,
       "grid_column": null,
       "grid_gap": null,
       "grid_row": null,
       "grid_template_areas": null,
       "grid_template_columns": null,
       "grid_template_rows": null,
       "height": null,
       "justify_content": null,
       "justify_items": null,
       "left": null,
       "margin": null,
       "max_height": null,
       "max_width": null,
       "min_height": null,
       "min_width": null,
       "object_fit": null,
       "object_position": null,
       "order": null,
       "overflow": null,
       "overflow_x": null,
       "overflow_y": null,
       "padding": null,
       "right": null,
       "top": null,
       "visibility": null,
       "width": null
      }
     },
     "a8998c5875fa40509b42dd3e04b23445": {
      "model_module": "@jupyter-widgets/controls",
      "model_module_version": "1.5.0",
      "model_name": "FloatProgressModel",
      "state": {
       "_dom_classes": [],
       "_model_module": "@jupyter-widgets/controls",
       "_model_module_version": "1.5.0",
       "_model_name": "FloatProgressModel",
       "_view_count": null,
       "_view_module": "@jupyter-widgets/controls",
       "_view_module_version": "1.5.0",
       "_view_name": "ProgressView",
       "bar_style": "success",
       "description": "",
       "description_tooltip": null,
       "layout": "IPY_MODEL_1b9324d010404cfa890952f719f2c719",
       "max": 1531.0,
       "min": 0.0,
       "orientation": "horizontal",
       "style": "IPY_MODEL_e335c657796f444bb02ec065fd3ffff4",
       "value": 1531.0
      }
     },
     "b25ae90bb7e44169a7c6a89c34422e38": {
      "model_module": "@jupyter-widgets/controls",
      "model_module_version": "1.5.0",
      "model_name": "HTMLModel",
      "state": {
       "_dom_classes": [],
       "_model_module": "@jupyter-widgets/controls",
       "_model_module_version": "1.5.0",
       "_model_name": "HTMLModel",
       "_view_count": null,
       "_view_module": "@jupyter-widgets/controls",
       "_view_module_version": "1.5.0",
       "_view_name": "HTMLView",
       "description": "",
       "description_tooltip": null,
       "layout": "IPY_MODEL_38faf4010d914ac4941669f4cdb78a71",
       "placeholder": "​",
       "style": "IPY_MODEL_7b48c5eb30084f8aa0caf50687390328",
       "value": " 300/300 [00:00&lt;00:00, 33.8kB/s]"
      }
     },
     "b4eae0f3c41c4dc4a515b322376dd1e7": {
      "model_module": "@jupyter-widgets/controls",
      "model_module_version": "1.5.0",
      "model_name": "DescriptionStyleModel",
      "state": {
       "_model_module": "@jupyter-widgets/controls",
       "_model_module_version": "1.5.0",
       "_model_name": "DescriptionStyleModel",
       "_view_count": null,
       "_view_module": "@jupyter-widgets/base",
       "_view_module_version": "1.2.0",
       "_view_name": "StyleView",
       "description_width": ""
      }
     },
     "b55697ed4ff64e15a80f350347b8b39b": {
      "model_module": "@jupyter-widgets/controls",
      "model_module_version": "1.5.0",
      "model_name": "HTMLModel",
      "state": {
       "_dom_classes": [],
       "_model_module": "@jupyter-widgets/controls",
       "_model_module_version": "1.5.0",
       "_model_name": "HTMLModel",
       "_view_count": null,
       "_view_module": "@jupyter-widgets/controls",
       "_view_module_version": "1.5.0",
       "_view_name": "HTMLView",
       "description": "",
       "description_tooltip": null,
       "layout": "IPY_MODEL_9fe57de9f5114d55a07be61c79af9f4c",
       "placeholder": "​",
       "style": "IPY_MODEL_f084ff188db94887adea38c416a16814",
       "value": " 1.26G/1.26G [00:05&lt;00:00, 231MB/s]"
      }
     },
     "b66b6c0a5d7742e2b4de6f2131068509": {
      "model_module": "@jupyter-widgets/controls",
      "model_module_version": "1.5.0",
      "model_name": "HBoxModel",
      "state": {
       "_dom_classes": [],
       "_model_module": "@jupyter-widgets/controls",
       "_model_module_version": "1.5.0",
       "_model_name": "HBoxModel",
       "_view_count": null,
       "_view_module": "@jupyter-widgets/controls",
       "_view_module_version": "1.5.0",
       "_view_name": "HBoxView",
       "box_style": "",
       "children": [
        "IPY_MODEL_4e66a83665004aadbee8bbb2c16f8ed2",
        "IPY_MODEL_f68c6aa0b6f44d7fb3015766595dc591",
        "IPY_MODEL_04117ca4518d4af293e86c95ece1536a"
       ],
       "layout": "IPY_MODEL_2f3a8ab5567a4e5fbc0cb506fe6cbc5b"
      }
     },
     "b8164b245f984bdc97073b6175300e4a": {
      "model_module": "@jupyter-widgets/controls",
      "model_module_version": "1.5.0",
      "model_name": "HTMLModel",
      "state": {
       "_dom_classes": [],
       "_model_module": "@jupyter-widgets/controls",
       "_model_module_version": "1.5.0",
       "_model_name": "HTMLModel",
       "_view_count": null,
       "_view_module": "@jupyter-widgets/controls",
       "_view_module_version": "1.5.0",
       "_view_name": "HTMLView",
       "description": "",
       "description_tooltip": null,
       "layout": "IPY_MODEL_a68e8b53b9d24b76bc73c4d7b149fe29",
       "placeholder": "​",
       "style": "IPY_MODEL_b4eae0f3c41c4dc4a515b322376dd1e7",
       "value": " 262/262 [00:00&lt;00:00, 25.3kB/s]"
      }
     },
     "ba2a3612842a4d439b26ed23310b8b8a": {
      "model_module": "@jupyter-widgets/base",
      "model_module_version": "1.2.0",
      "model_name": "LayoutModel",
      "state": {
       "_model_module": "@jupyter-widgets/base",
       "_model_module_version": "1.2.0",
       "_model_name": "LayoutModel",
       "_view_count": null,
       "_view_module": "@jupyter-widgets/base",
       "_view_module_version": "1.2.0",
       "_view_name": "LayoutView",
       "align_content": null,
       "align_items": null,
       "align_self": null,
       "border": null,
       "bottom": null,
       "display": null,
       "flex": null,
       "flex_flow": null,
       "grid_area": null,
       "grid_auto_columns": null,
       "grid_auto_flow": null,
       "grid_auto_rows": null,
       "grid_column": null,
       "grid_gap": null,
       "grid_row": null,
       "grid_template_areas": null,
       "grid_template_columns": null,
       "grid_template_rows": null,
       "height": null,
       "justify_content": null,
       "justify_items": null,
       "left": null,
       "margin": null,
       "max_height": null,
       "max_width": null,
       "min_height": null,
       "min_width": null,
       "object_fit": null,
       "object_position": null,
       "order": null,
       "overflow": null,
       "overflow_x": null,
       "overflow_y": null,
       "padding": null,
       "right": null,
       "top": null,
       "visibility": null,
       "width": null
      }
     },
     "c6c9eaa405cc4b45b4f0124430b1f82e": {
      "model_module": "@jupyter-widgets/controls",
      "model_module_version": "1.5.0",
      "model_name": "ProgressStyleModel",
      "state": {
       "_model_module": "@jupyter-widgets/controls",
       "_model_module_version": "1.5.0",
       "_model_name": "ProgressStyleModel",
       "_view_count": null,
       "_view_module": "@jupyter-widgets/base",
       "_view_module_version": "1.2.0",
       "_view_name": "StyleView",
       "bar_color": null,
       "description_width": ""
      }
     },
     "cde921f700dd4f91a43bcd6b3206d4cb": {
      "model_module": "@jupyter-widgets/base",
      "model_module_version": "1.2.0",
      "model_name": "LayoutModel",
      "state": {
       "_model_module": "@jupyter-widgets/base",
       "_model_module_version": "1.2.0",
       "_model_name": "LayoutModel",
       "_view_count": null,
       "_view_module": "@jupyter-widgets/base",
       "_view_module_version": "1.2.0",
       "_view_name": "LayoutView",
       "align_content": null,
       "align_items": null,
       "align_self": null,
       "border": null,
       "bottom": null,
       "display": null,
       "flex": null,
       "flex_flow": null,
       "grid_area": null,
       "grid_auto_columns": null,
       "grid_auto_flow": null,
       "grid_auto_rows": null,
       "grid_column": null,
       "grid_gap": null,
       "grid_row": null,
       "grid_template_areas": null,
       "grid_template_columns": null,
       "grid_template_rows": null,
       "height": null,
       "justify_content": null,
       "justify_items": null,
       "left": null,
       "margin": null,
       "max_height": null,
       "max_width": null,
       "min_height": null,
       "min_width": null,
       "object_fit": null,
       "object_position": null,
       "order": null,
       "overflow": null,
       "overflow_x": null,
       "overflow_y": null,
       "padding": null,
       "right": null,
       "top": null,
       "visibility": null,
       "width": null
      }
     },
     "cff6c9d290fd479fa07144709e9eb314": {
      "model_module": "@jupyter-widgets/controls",
      "model_module_version": "1.5.0",
      "model_name": "DescriptionStyleModel",
      "state": {
       "_model_module": "@jupyter-widgets/controls",
       "_model_module_version": "1.5.0",
       "_model_name": "DescriptionStyleModel",
       "_view_count": null,
       "_view_module": "@jupyter-widgets/base",
       "_view_module_version": "1.2.0",
       "_view_name": "StyleView",
       "description_width": ""
      }
     },
     "d480171b9fc24d43b7d79a6da20e3026": {
      "model_module": "@jupyter-widgets/base",
      "model_module_version": "1.2.0",
      "model_name": "LayoutModel",
      "state": {
       "_model_module": "@jupyter-widgets/base",
       "_model_module_version": "1.2.0",
       "_model_name": "LayoutModel",
       "_view_count": null,
       "_view_module": "@jupyter-widgets/base",
       "_view_module_version": "1.2.0",
       "_view_name": "LayoutView",
       "align_content": null,
       "align_items": null,
       "align_self": null,
       "border": null,
       "bottom": null,
       "display": null,
       "flex": null,
       "flex_flow": null,
       "grid_area": null,
       "grid_auto_columns": null,
       "grid_auto_flow": null,
       "grid_auto_rows": null,
       "grid_column": null,
       "grid_gap": null,
       "grid_row": null,
       "grid_template_areas": null,
       "grid_template_columns": null,
       "grid_template_rows": null,
       "height": null,
       "justify_content": null,
       "justify_items": null,
       "left": null,
       "margin": null,
       "max_height": null,
       "max_width": null,
       "min_height": null,
       "min_width": null,
       "object_fit": null,
       "object_position": null,
       "order": null,
       "overflow": null,
       "overflow_x": null,
       "overflow_y": null,
       "padding": null,
       "right": null,
       "top": null,
       "visibility": null,
       "width": null
      }
     },
     "d7ac4a3052a14935b42c0f57992a3d98": {
      "model_module": "@jupyter-widgets/base",
      "model_module_version": "1.2.0",
      "model_name": "LayoutModel",
      "state": {
       "_model_module": "@jupyter-widgets/base",
       "_model_module_version": "1.2.0",
       "_model_name": "LayoutModel",
       "_view_count": null,
       "_view_module": "@jupyter-widgets/base",
       "_view_module_version": "1.2.0",
       "_view_name": "LayoutView",
       "align_content": null,
       "align_items": null,
       "align_self": null,
       "border": null,
       "bottom": null,
       "display": null,
       "flex": null,
       "flex_flow": null,
       "grid_area": null,
       "grid_auto_columns": null,
       "grid_auto_flow": null,
       "grid_auto_rows": null,
       "grid_column": null,
       "grid_gap": null,
       "grid_row": null,
       "grid_template_areas": null,
       "grid_template_columns": null,
       "grid_template_rows": null,
       "height": null,
       "justify_content": null,
       "justify_items": null,
       "left": null,
       "margin": null,
       "max_height": null,
       "max_width": null,
       "min_height": null,
       "min_width": null,
       "object_fit": null,
       "object_position": null,
       "order": null,
       "overflow": null,
       "overflow_x": null,
       "overflow_y": null,
       "padding": null,
       "right": null,
       "top": null,
       "visibility": null,
       "width": null
      }
     },
     "d90868603d7145b8b349eb0f59ba8d4f": {
      "model_module": "@jupyter-widgets/base",
      "model_module_version": "1.2.0",
      "model_name": "LayoutModel",
      "state": {
       "_model_module": "@jupyter-widgets/base",
       "_model_module_version": "1.2.0",
       "_model_name": "LayoutModel",
       "_view_count": null,
       "_view_module": "@jupyter-widgets/base",
       "_view_module_version": "1.2.0",
       "_view_name": "LayoutView",
       "align_content": null,
       "align_items": null,
       "align_self": null,
       "border": null,
       "bottom": null,
       "display": null,
       "flex": null,
       "flex_flow": null,
       "grid_area": null,
       "grid_auto_columns": null,
       "grid_auto_flow": null,
       "grid_auto_rows": null,
       "grid_column": null,
       "grid_gap": null,
       "grid_row": null,
       "grid_template_areas": null,
       "grid_template_columns": null,
       "grid_template_rows": null,
       "height": null,
       "justify_content": null,
       "justify_items": null,
       "left": null,
       "margin": null,
       "max_height": null,
       "max_width": null,
       "min_height": null,
       "min_width": null,
       "object_fit": null,
       "object_position": null,
       "order": null,
       "overflow": null,
       "overflow_x": null,
       "overflow_y": null,
       "padding": null,
       "right": null,
       "top": null,
       "visibility": null,
       "width": null
      }
     },
     "e0a1a151f56f4e1eb6fa22ea0d1282e1": {
      "model_module": "@jupyter-widgets/base",
      "model_module_version": "1.2.0",
      "model_name": "LayoutModel",
      "state": {
       "_model_module": "@jupyter-widgets/base",
       "_model_module_version": "1.2.0",
       "_model_name": "LayoutModel",
       "_view_count": null,
       "_view_module": "@jupyter-widgets/base",
       "_view_module_version": "1.2.0",
       "_view_name": "LayoutView",
       "align_content": null,
       "align_items": null,
       "align_self": null,
       "border": null,
       "bottom": null,
       "display": null,
       "flex": null,
       "flex_flow": null,
       "grid_area": null,
       "grid_auto_columns": null,
       "grid_auto_flow": null,
       "grid_auto_rows": null,
       "grid_column": null,
       "grid_gap": null,
       "grid_row": null,
       "grid_template_areas": null,
       "grid_template_columns": null,
       "grid_template_rows": null,
       "height": null,
       "justify_content": null,
       "justify_items": null,
       "left": null,
       "margin": null,
       "max_height": null,
       "max_width": null,
       "min_height": null,
       "min_width": null,
       "object_fit": null,
       "object_position": null,
       "order": null,
       "overflow": null,
       "overflow_x": null,
       "overflow_y": null,
       "padding": null,
       "right": null,
       "top": null,
       "visibility": null,
       "width": null
      }
     },
     "e2dc351dd09e4a9ebd61c949dd095525": {
      "model_module": "@jupyter-widgets/controls",
      "model_module_version": "1.5.0",
      "model_name": "HBoxModel",
      "state": {
       "_dom_classes": [],
       "_model_module": "@jupyter-widgets/controls",
       "_model_module_version": "1.5.0",
       "_model_name": "HBoxModel",
       "_view_count": null,
       "_view_module": "@jupyter-widgets/controls",
       "_view_module_version": "1.5.0",
       "_view_name": "HBoxView",
       "box_style": "",
       "children": [
        "IPY_MODEL_5c96b76f1a79405697bb621c9ff69bea",
        "IPY_MODEL_f77fce837e9f43ea91270a917eab181a",
        "IPY_MODEL_b8164b245f984bdc97073b6175300e4a"
       ],
       "layout": "IPY_MODEL_5793d828171543d795db1015f3cf5be1"
      }
     },
     "e335c657796f444bb02ec065fd3ffff4": {
      "model_module": "@jupyter-widgets/controls",
      "model_module_version": "1.5.0",
      "model_name": "ProgressStyleModel",
      "state": {
       "_model_module": "@jupyter-widgets/controls",
       "_model_module_version": "1.5.0",
       "_model_name": "ProgressStyleModel",
       "_view_count": null,
       "_view_module": "@jupyter-widgets/base",
       "_view_module_version": "1.2.0",
       "_view_name": "StyleView",
       "bar_color": null,
       "description_width": ""
      }
     },
     "e808c2d9c0f3404f9af2ad62543cce2e": {
      "model_module": "@jupyter-widgets/base",
      "model_module_version": "1.2.0",
      "model_name": "LayoutModel",
      "state": {
       "_model_module": "@jupyter-widgets/base",
       "_model_module_version": "1.2.0",
       "_model_name": "LayoutModel",
       "_view_count": null,
       "_view_module": "@jupyter-widgets/base",
       "_view_module_version": "1.2.0",
       "_view_name": "LayoutView",
       "align_content": null,
       "align_items": null,
       "align_self": null,
       "border": null,
       "bottom": null,
       "display": null,
       "flex": null,
       "flex_flow": null,
       "grid_area": null,
       "grid_auto_columns": null,
       "grid_auto_flow": null,
       "grid_auto_rows": null,
       "grid_column": null,
       "grid_gap": null,
       "grid_row": null,
       "grid_template_areas": null,
       "grid_template_columns": null,
       "grid_template_rows": null,
       "height": null,
       "justify_content": null,
       "justify_items": null,
       "left": null,
       "margin": null,
       "max_height": null,
       "max_width": null,
       "min_height": null,
       "min_width": null,
       "object_fit": null,
       "object_position": null,
       "order": null,
       "overflow": null,
       "overflow_x": null,
       "overflow_y": null,
       "padding": null,
       "right": null,
       "top": null,
       "visibility": null,
       "width": null
      }
     },
     "e96f25f25a9d49649970e1a238d2201a": {
      "model_module": "@jupyter-widgets/controls",
      "model_module_version": "1.5.0",
      "model_name": "DescriptionStyleModel",
      "state": {
       "_model_module": "@jupyter-widgets/controls",
       "_model_module_version": "1.5.0",
       "_model_name": "DescriptionStyleModel",
       "_view_count": null,
       "_view_module": "@jupyter-widgets/base",
       "_view_module_version": "1.2.0",
       "_view_name": "StyleView",
       "description_width": ""
      }
     },
     "ebf1422509604909bc4ae760836da16e": {
      "model_module": "@jupyter-widgets/controls",
      "model_module_version": "1.5.0",
      "model_name": "HTMLModel",
      "state": {
       "_dom_classes": [],
       "_model_module": "@jupyter-widgets/controls",
       "_model_module_version": "1.5.0",
       "_model_name": "HTMLModel",
       "_view_count": null,
       "_view_module": "@jupyter-widgets/controls",
       "_view_module_version": "1.5.0",
       "_view_name": "HTMLView",
       "description": "",
       "description_tooltip": null,
       "layout": "IPY_MODEL_e808c2d9c0f3404f9af2ad62543cce2e",
       "placeholder": "​",
       "style": "IPY_MODEL_cff6c9d290fd479fa07144709e9eb314",
       "value": "model.safetensors: 100%"
      }
     },
     "f084ff188db94887adea38c416a16814": {
      "model_module": "@jupyter-widgets/controls",
      "model_module_version": "1.5.0",
      "model_name": "DescriptionStyleModel",
      "state": {
       "_model_module": "@jupyter-widgets/controls",
       "_model_module_version": "1.5.0",
       "_model_name": "DescriptionStyleModel",
       "_view_count": null,
       "_view_module": "@jupyter-widgets/base",
       "_view_module_version": "1.2.0",
       "_view_name": "StyleView",
       "description_width": ""
      }
     },
     "f0ab8a9e32804f69a7b917f095859e1b": {
      "model_module": "@jupyter-widgets/controls",
      "model_module_version": "1.5.0",
      "model_name": "DescriptionStyleModel",
      "state": {
       "_model_module": "@jupyter-widgets/controls",
       "_model_module_version": "1.5.0",
       "_model_name": "DescriptionStyleModel",
       "_view_count": null,
       "_view_module": "@jupyter-widgets/base",
       "_view_module_version": "1.2.0",
       "_view_name": "StyleView",
       "description_width": ""
      }
     },
     "f68c6aa0b6f44d7fb3015766595dc591": {
      "model_module": "@jupyter-widgets/controls",
      "model_module_version": "1.5.0",
      "model_name": "FloatProgressModel",
      "state": {
       "_dom_classes": [],
       "_model_module": "@jupyter-widgets/controls",
       "_model_module_version": "1.5.0",
       "_model_name": "FloatProgressModel",
       "_view_count": null,
       "_view_module": "@jupyter-widgets/controls",
       "_view_module_version": "1.5.0",
       "_view_name": "ProgressView",
       "bar_style": "success",
       "description": "",
       "description_tooltip": null,
       "layout": "IPY_MODEL_9878d76e7f484317868c01001132c9f1",
       "max": 85.0,
       "min": 0.0,
       "orientation": "horizontal",
       "style": "IPY_MODEL_16425ef4ede7428a9c858db6820999d4",
       "value": 85.0
      }
     },
     "f77fce837e9f43ea91270a917eab181a": {
      "model_module": "@jupyter-widgets/controls",
      "model_module_version": "1.5.0",
      "model_name": "FloatProgressModel",
      "state": {
       "_dom_classes": [],
       "_model_module": "@jupyter-widgets/controls",
       "_model_module_version": "1.5.0",
       "_model_name": "FloatProgressModel",
       "_view_count": null,
       "_view_module": "@jupyter-widgets/controls",
       "_view_module_version": "1.5.0",
       "_view_name": "ProgressView",
       "bar_style": "success",
       "description": "",
       "description_tooltip": null,
       "layout": "IPY_MODEL_ba2a3612842a4d439b26ed23310b8b8a",
       "max": 262.0,
       "min": 0.0,
       "orientation": "horizontal",
       "style": "IPY_MODEL_9b9342d0871443b2b5c5f8f4c4b7c981",
       "value": 262.0
      }
     },
     "fdb50ed072474b3dabf466f14d9f762b": {
      "model_module": "@jupyter-widgets/base",
      "model_module_version": "1.2.0",
      "model_name": "LayoutModel",
      "state": {
       "_model_module": "@jupyter-widgets/base",
       "_model_module_version": "1.2.0",
       "_model_name": "LayoutModel",
       "_view_count": null,
       "_view_module": "@jupyter-widgets/base",
       "_view_module_version": "1.2.0",
       "_view_name": "LayoutView",
       "align_content": null,
       "align_items": null,
       "align_self": null,
       "border": null,
       "bottom": null,
       "display": null,
       "flex": null,
       "flex_flow": null,
       "grid_area": null,
       "grid_auto_columns": null,
       "grid_auto_flow": null,
       "grid_auto_rows": null,
       "grid_column": null,
       "grid_gap": null,
       "grid_row": null,
       "grid_template_areas": null,
       "grid_template_columns": null,
       "grid_template_rows": null,
       "height": null,
       "justify_content": null,
       "justify_items": null,
       "left": null,
       "margin": null,
       "max_height": null,
       "max_width": null,
       "min_height": null,
       "min_width": null,
       "object_fit": null,
       "object_position": null,
       "order": null,
       "overflow": null,
       "overflow_x": null,
       "overflow_y": null,
       "padding": null,
       "right": null,
       "top": null,
       "visibility": null,
       "width": null
      }
     }
    },
    "version_major": 2,
    "version_minor": 0
   }
  }
 },
 "nbformat": 4,
 "nbformat_minor": 5
}

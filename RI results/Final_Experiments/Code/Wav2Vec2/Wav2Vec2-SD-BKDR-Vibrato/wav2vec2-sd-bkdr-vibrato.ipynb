{
 "cells": [
  {
   "cell_type": "code",
   "execution_count": 1,
   "id": "573334b7",
   "metadata": {
    "execution": {
     "iopub.execute_input": "2024-12-06T19:59:28.057685Z",
     "iopub.status.busy": "2024-12-06T19:59:28.057301Z",
     "iopub.status.idle": "2024-12-06T19:59:46.612270Z",
     "shell.execute_reply": "2024-12-06T19:59:46.611353Z"
    },
    "papermill": {
     "duration": 18.568876,
     "end_time": "2024-12-06T19:59:46.614335",
     "exception": false,
     "start_time": "2024-12-06T19:59:28.045459",
     "status": "completed"
    },
    "tags": []
   },
   "outputs": [],
   "source": [
    "import sys\n",
    "import os\n",
    "from tqdm import tqdm\n",
    "from sklearn.model_selection import train_test_split\n",
    "from itertools import product\n",
    "import subprocess\n",
    "import numpy as np\n",
    "import pandas as pd\n",
    "import glob\n",
    "from collections import OrderedDict\n",
    "import random\n",
    "import torch\n",
    "import torch.nn as nn\n",
    "import IPython.display as ipd\n",
    "import torchaudio\n",
    "from transformers import Wav2Vec2Processor, Wav2Vec2ForSequenceClassification, AdamW\n",
    "from torch.utils.data import DataLoader, Dataset\n",
    "from torch.nn.utils.rnn import pad_sequence"
   ]
  },
  {
   "cell_type": "code",
   "execution_count": 2,
   "id": "2554ac10",
   "metadata": {
    "execution": {
     "iopub.execute_input": "2024-12-06T19:59:46.635646Z",
     "iopub.status.busy": "2024-12-06T19:59:46.635144Z",
     "iopub.status.idle": "2024-12-06T19:59:46.733565Z",
     "shell.execute_reply": "2024-12-06T19:59:46.732545Z"
    },
    "papermill": {
     "duration": 0.110111,
     "end_time": "2024-12-06T19:59:46.735311",
     "exception": false,
     "start_time": "2024-12-06T19:59:46.625200",
     "status": "completed"
    },
    "tags": []
   },
   "outputs": [
    {
     "name": "stdout",
     "output_type": "stream",
     "text": [
      "GPU: Tesla P100-PCIE-16GB\n"
     ]
    }
   ],
   "source": [
    "seed = 123\n",
    "random.seed(seed)\n",
    "np.random.seed(seed)\n",
    "torch.manual_seed(seed)\n",
    "torch.backends.cudnn.deterministic = True\n",
    "\n",
    "device = torch.device('cuda' if torch.cuda.is_available() else 'cpu')\n",
    "\n",
    "if str(device) == 'cuda':\n",
    "    \n",
    "\n",
    "    current_device = torch.cuda.current_device()\n",
    "    gpu_name = torch.cuda.get_device_name(current_device)\n",
    "    torch.cuda.manual_seed(seed)\n",
    "    torch.cuda.manual_seed_all(seed)\n",
    "    print(f\"GPU: {gpu_name}\" )"
   ]
  },
  {
   "cell_type": "code",
   "execution_count": 3,
   "id": "dfab7ba4",
   "metadata": {
    "execution": {
     "iopub.execute_input": "2024-12-06T19:59:46.755263Z",
     "iopub.status.busy": "2024-12-06T19:59:46.754943Z",
     "iopub.status.idle": "2024-12-06T19:59:55.119764Z",
     "shell.execute_reply": "2024-12-06T19:59:55.118987Z"
    },
    "papermill": {
     "duration": 8.377,
     "end_time": "2024-12-06T19:59:55.121775",
     "exception": false,
     "start_time": "2024-12-06T19:59:46.744775",
     "status": "completed"
    },
    "tags": []
   },
   "outputs": [
    {
     "data": {
      "application/vnd.jupyter.widget-view+json": {
       "model_id": "8f666e203591413b9e61c448bd6cb2d2",
       "version_major": 2,
       "version_minor": 0
      },
      "text/plain": [
       "preprocessor_config.json:   0%|          | 0.00/262 [00:00<?, ?B/s]"
      ]
     },
     "metadata": {},
     "output_type": "display_data"
    },
    {
     "data": {
      "application/vnd.jupyter.widget-view+json": {
       "model_id": "92c1f1aace6b41d0b8fb1342f74e7b06",
       "version_major": 2,
       "version_minor": 0
      },
      "text/plain": [
       "config.json:   0%|          | 0.00/1.53k [00:00<?, ?B/s]"
      ]
     },
     "metadata": {},
     "output_type": "display_data"
    },
    {
     "data": {
      "application/vnd.jupyter.widget-view+json": {
       "model_id": "cd3505cfdaea4a38aa43d978e5ca12a7",
       "version_major": 2,
       "version_minor": 0
      },
      "text/plain": [
       "vocab.json:   0%|          | 0.00/300 [00:00<?, ?B/s]"
      ]
     },
     "metadata": {},
     "output_type": "display_data"
    },
    {
     "data": {
      "application/vnd.jupyter.widget-view+json": {
       "model_id": "46814e6320bb4b96ace8139ae238e7c5",
       "version_major": 2,
       "version_minor": 0
      },
      "text/plain": [
       "special_tokens_map.json:   0%|          | 0.00/85.0 [00:00<?, ?B/s]"
      ]
     },
     "metadata": {},
     "output_type": "display_data"
    },
    {
     "data": {
      "application/vnd.jupyter.widget-view+json": {
       "model_id": "70344d0b945946b3bd2be07baf585b79",
       "version_major": 2,
       "version_minor": 0
      },
      "text/plain": [
       "model.safetensors:   0%|          | 0.00/1.26G [00:00<?, ?B/s]"
      ]
     },
     "metadata": {},
     "output_type": "display_data"
    },
    {
     "name": "stderr",
     "output_type": "stream",
     "text": [
      "Some weights of Wav2Vec2ForSequenceClassification were not initialized from the model checkpoint at jonatasgrosman/wav2vec2-large-xlsr-53-english and are newly initialized: ['classifier.bias', 'classifier.weight', 'projector.bias', 'projector.weight']\n",
      "You should probably TRAIN this model on a down-stream task to be able to use it for predictions and inference.\n"
     ]
    }
   ],
   "source": [
    "processor = Wav2Vec2Processor.from_pretrained(\"jonatasgrosman/wav2vec2-large-xlsr-53-english\")\n",
    "model = Wav2Vec2ForSequenceClassification.from_pretrained(\"jonatasgrosman/wav2vec2-large-xlsr-53-english\").to(device)\n",
    "\n",
    "def load_data(data_dir):\n",
    "    \n",
    "    wav_files = glob.glob(f\"{data_dir}/*.wav\")\n",
    "    data = []\n",
    "    \n",
    "    for wav_file in wav_files:\n",
    "        label = int(os.path.basename(wav_file).split('_')[0])\n",
    "        data.append((wav_file, label))\n",
    "        \n",
    "    return pd.DataFrame(data, columns=['wavfile', 'label'])\n",
    "\n",
    "data_dir = '/kaggle/input/spoken-digits/recordings'\n",
    "\n",
    "data = load_data(data_dir)\n",
    "\n",
    "train_data, test_data = train_test_split(data, test_size=0.2, stratify=data['label'])\n",
    "\n",
    "train_data = train_data.reset_index(drop=True)\n",
    "\n",
    "test_data = test_data.reset_index(drop=True)\n",
    "\n",
    "class AudioDataset(Dataset):\n",
    "    \n",
    "    def __init__(self, df, processor, target_sample_rate=16000):\n",
    "        self.df = df\n",
    "        self.processor = processor\n",
    "        self.target_sample_rate = target_sample_rate\n",
    "\n",
    "    def __len__(self):\n",
    "        return len(self.df)\n",
    "\n",
    "    def __getitem__(self, idx):\n",
    "        audio_path = self.df.iloc[idx]['wavfile']\n",
    "        label = self.df.iloc[idx]['label']\n",
    "        audio_data, sample_rate = torchaudio.load(audio_path)\n",
    "        \n",
    "        if sample_rate != self.target_sample_rate:\n",
    "            resampler = torchaudio.transforms.Resample(orig_freq=sample_rate, new_freq=self.target_sample_rate)\n",
    "            audio_data = resampler(audio_data)\n",
    "        \n",
    "        audio_data = audio_data.squeeze().numpy()\n",
    "        return torch.tensor(audio_data), label\n",
    "\n",
    "def pre_dataloader(batch):\n",
    "    audios, labels = zip(*batch)\n",
    "    audios = [torch.tensor(audio) for audio in audios]\n",
    "    labels = torch.tensor(labels)\n",
    "    audios_padded = pad_sequence(audios, batch_first=True, padding_value=0.0)\n",
    "    return audios_padded, labels"
   ]
  },
  {
   "cell_type": "code",
   "execution_count": 4,
   "id": "ca9a6aa0",
   "metadata": {
    "execution": {
     "iopub.execute_input": "2024-12-06T19:59:55.145010Z",
     "iopub.status.busy": "2024-12-06T19:59:55.144733Z",
     "iopub.status.idle": "2024-12-06T19:59:55.148655Z",
     "shell.execute_reply": "2024-12-06T19:59:55.147914Z"
    },
    "papermill": {
     "duration": 0.017867,
     "end_time": "2024-12-06T19:59:55.150362",
     "exception": false,
     "start_time": "2024-12-06T19:59:55.132495",
     "status": "completed"
    },
    "tags": []
   },
   "outputs": [],
   "source": [
    "test_dataset = AudioDataset(test_data, processor)\n",
    "test_loader = DataLoader(test_dataset, batch_size=1, shuffle=False)"
   ]
  },
  {
   "cell_type": "code",
   "execution_count": 5,
   "id": "6f49d6bd",
   "metadata": {
    "execution": {
     "iopub.execute_input": "2024-12-06T19:59:55.172311Z",
     "iopub.status.busy": "2024-12-06T19:59:55.172022Z",
     "iopub.status.idle": "2024-12-06T20:00:13.010673Z",
     "shell.execute_reply": "2024-12-06T20:00:13.009533Z"
    },
    "papermill": {
     "duration": 17.851857,
     "end_time": "2024-12-06T20:00:13.012659",
     "exception": false,
     "start_time": "2024-12-06T19:59:55.160802",
     "status": "completed"
    },
    "tags": []
   },
   "outputs": [
    {
     "name": "stderr",
     "output_type": "stream",
     "text": [
      "100%|██████████| 600/600 [00:17<00:00, 33.65it/s]"
     ]
    },
    {
     "name": "stdout",
     "output_type": "stream",
     "text": [
      "zero shot test accuracy: 12.0%\n"
     ]
    },
    {
     "name": "stderr",
     "output_type": "stream",
     "text": [
      "\n"
     ]
    }
   ],
   "source": [
    "def predict(model, processor, audio_data):\n",
    "    inputs = processor(audio_data, return_tensors=\"pt\", sampling_rate=16000, padding=True)\n",
    "    inputs = {key: value.to(device) for key, value in inputs.items()}\n",
    "    \n",
    "    with torch.no_grad():\n",
    "        logits = model(**inputs).logits\n",
    "    predicted_ids = torch.argmax(logits, dim=-1)\n",
    "    \n",
    "    return predicted_ids\n",
    "\n",
    "predictions = []\n",
    "true_labels = []\n",
    "\n",
    "for audio_data, label in tqdm(test_loader):\n",
    "    \n",
    "    audio_data = audio_data.numpy().flatten()\n",
    "    pred_id = predict(model, processor, audio_data)\n",
    "    predictions.append(pred_id.item())\n",
    "    true_labels.append(label.item())\n",
    "\n",
    "accuracy = (np.array(predictions) == np.array(true_labels)).mean()\n",
    "print(f\"zero shot test accuracy: {accuracy * 100}%\")"
   ]
  },
  {
   "cell_type": "code",
   "execution_count": 6,
   "id": "53688eb8",
   "metadata": {
    "execution": {
     "iopub.execute_input": "2024-12-06T20:00:13.059297Z",
     "iopub.status.busy": "2024-12-06T20:00:13.058961Z",
     "iopub.status.idle": "2024-12-06T20:00:14.528613Z",
     "shell.execute_reply": "2024-12-06T20:00:14.527624Z"
    },
    "papermill": {
     "duration": 1.488868,
     "end_time": "2024-12-06T20:00:14.530783",
     "exception": false,
     "start_time": "2024-12-06T20:00:13.041915",
     "status": "completed"
    },
    "tags": []
   },
   "outputs": [
    {
     "name": "stderr",
     "output_type": "stream",
     "text": [
      "Some weights of Wav2Vec2ForSequenceClassification were not initialized from the model checkpoint at jonatasgrosman/wav2vec2-large-xlsr-53-english and are newly initialized: ['classifier.bias', 'classifier.weight', 'projector.bias', 'projector.weight']\n",
      "You should probably TRAIN this model on a down-stream task to be able to use it for predictions and inference.\n"
     ]
    }
   ],
   "source": [
    "processor = Wav2Vec2Processor.from_pretrained(\"jonatasgrosman/wav2vec2-large-xlsr-53-english\")\n",
    "model = Wav2Vec2ForSequenceClassification.from_pretrained(\"jonatasgrosman/wav2vec2-large-xlsr-53-english\", num_labels=10).to(device)"
   ]
  },
  {
   "cell_type": "code",
   "execution_count": 7,
   "id": "152d0327",
   "metadata": {
    "execution": {
     "iopub.execute_input": "2024-12-06T20:00:14.564195Z",
     "iopub.status.busy": "2024-12-06T20:00:14.563885Z",
     "iopub.status.idle": "2024-12-06T20:00:14.567784Z",
     "shell.execute_reply": "2024-12-06T20:00:14.567067Z"
    },
    "papermill": {
     "duration": 0.022263,
     "end_time": "2024-12-06T20:00:14.569359",
     "exception": false,
     "start_time": "2024-12-06T20:00:14.547096",
     "status": "completed"
    },
    "tags": []
   },
   "outputs": [],
   "source": [
    "train_dataset = AudioDataset(train_data, processor)\n",
    "\n",
    "train_loader = DataLoader(train_dataset, batch_size=8, shuffle=True, collate_fn=pre_dataloader)"
   ]
  },
  {
   "cell_type": "code",
   "execution_count": 8,
   "id": "c714ebbc",
   "metadata": {
    "execution": {
     "iopub.execute_input": "2024-12-06T20:00:14.602411Z",
     "iopub.status.busy": "2024-12-06T20:00:14.602101Z",
     "iopub.status.idle": "2024-12-06T20:00:14.608705Z",
     "shell.execute_reply": "2024-12-06T20:00:14.608049Z"
    },
    "papermill": {
     "duration": 0.024605,
     "end_time": "2024-12-06T20:00:14.610136",
     "exception": false,
     "start_time": "2024-12-06T20:00:14.585531",
     "status": "completed"
    },
    "tags": []
   },
   "outputs": [],
   "source": [
    "def train(model, processor, train_loader, optimizer, epoch):\n",
    "    model.train()\n",
    "    total_loss = 0\n",
    "    for batch in tqdm(train_loader):\n",
    "        audio_data, labels = batch\n",
    "        audio_data = audio_data.to(device)\n",
    "        labels = labels.to(device)\n",
    "        optimizer.zero_grad()\n",
    "        outputs = model(audio_data, labels=labels)\n",
    "        loss = outputs.loss\n",
    "        loss.backward()\n",
    "        optimizer.step()\n",
    "        total_loss += loss.item()\n",
    "    print(f\"Epoch {epoch}, Loss: {total_loss / len(train_loader)}\")\n",
    "\n",
    "def evaluate(model, processor, test_loader):\n",
    "    model.eval()\n",
    "    total_correct = 0\n",
    "    total_count = 0\n",
    "    with torch.no_grad():\n",
    "        for batch in test_loader:\n",
    "            audio_data, labels = batch\n",
    "            audio_data = audio_data.to(device)\n",
    "            labels = labels.to(device)\n",
    "            outputs = model(audio_data)\n",
    "            logits = outputs.logits\n",
    "            predicted_ids = torch.argmax(logits, dim=-1)\n",
    "            total_correct += (predicted_ids == labels).sum().item()\n",
    "            total_count += labels.size(0)\n",
    "    accuracy = total_correct / total_count\n",
    "    print(f\"Test Accuracy: {accuracy * 100}%\")\n",
    "    return accuracy * 100"
   ]
  },
  {
   "cell_type": "code",
   "execution_count": 9,
   "id": "5a19c47f",
   "metadata": {
    "execution": {
     "iopub.execute_input": "2024-12-06T20:00:14.642500Z",
     "iopub.status.busy": "2024-12-06T20:00:14.642272Z",
     "iopub.status.idle": "2024-12-06T20:04:07.286599Z",
     "shell.execute_reply": "2024-12-06T20:04:07.285606Z"
    },
    "papermill": {
     "duration": 232.662548,
     "end_time": "2024-12-06T20:04:07.288463",
     "exception": false,
     "start_time": "2024-12-06T20:00:14.625915",
     "status": "completed"
    },
    "tags": []
   },
   "outputs": [
    {
     "name": "stderr",
     "output_type": "stream",
     "text": [
      "/opt/conda/lib/python3.10/site-packages/transformers/optimization.py:591: FutureWarning: This implementation of AdamW is deprecated and will be removed in a future version. Use the PyTorch implementation torch.optim.AdamW instead, or set `no_deprecation_warning=True` to disable this warning\n",
      "  warnings.warn(\n",
      "  0%|          | 0/300 [00:00<?, ?it/s]/tmp/ipykernel_23/763798233.py:49: UserWarning: To copy construct from a tensor, it is recommended to use sourceTensor.clone().detach() or sourceTensor.clone().detach().requires_grad_(True), rather than torch.tensor(sourceTensor).\n",
      "  audios = [torch.tensor(audio) for audio in audios]\n",
      "100%|██████████| 300/300 [01:18<00:00,  3.82it/s]\n"
     ]
    },
    {
     "name": "stdout",
     "output_type": "stream",
     "text": [
      "Epoch 0, Loss: 2.0950370828310647\n"
     ]
    },
    {
     "name": "stderr",
     "output_type": "stream",
     "text": [
      "100%|██████████| 300/300 [01:11<00:00,  4.20it/s]\n"
     ]
    },
    {
     "name": "stdout",
     "output_type": "stream",
     "text": [
      "Epoch 1, Loss: 1.295807085633278\n"
     ]
    },
    {
     "name": "stderr",
     "output_type": "stream",
     "text": [
      "100%|██████████| 300/300 [01:11<00:00,  4.18it/s]\n"
     ]
    },
    {
     "name": "stdout",
     "output_type": "stream",
     "text": [
      "Epoch 2, Loss: 0.783815775513649\n",
      "Test Accuracy: 99.0%\n"
     ]
    }
   ],
   "source": [
    "optimizer = AdamW(model.parameters(), lr=1e-5)\n",
    "epochs = 3\n",
    "for epoch in range(epochs):\n",
    "    train(model, processor, train_loader, optimizer, epoch)\n",
    "clean_accuracy = evaluate(model, processor, test_loader)"
   ]
  },
  {
   "cell_type": "code",
   "execution_count": 10,
   "id": "f6f86aa7",
   "metadata": {
    "execution": {
     "iopub.execute_input": "2024-12-06T20:04:07.399934Z",
     "iopub.status.busy": "2024-12-06T20:04:07.399256Z",
     "iopub.status.idle": "2024-12-06T20:04:07.406341Z",
     "shell.execute_reply": "2024-12-06T20:04:07.405621Z"
    },
    "papermill": {
     "duration": 0.064179,
     "end_time": "2024-12-06T20:04:07.408026",
     "exception": false,
     "start_time": "2024-12-06T20:04:07.343847",
     "status": "completed"
    },
    "tags": []
   },
   "outputs": [],
   "source": [
    "def evaluate_backdoor(model, processor, test_loader):\n",
    "    model.eval()\n",
    "    total_correct = 0\n",
    "    total_count = 0\n",
    "    with torch.no_grad():\n",
    "        for batch in test_loader:\n",
    "            audio_data, labels = batch\n",
    "            audio_data = audio_data.to(device)\n",
    "            labels = labels.to(device)\n",
    "            outputs = model(audio_data)\n",
    "            logits = outputs.logits\n",
    "            predicted_ids = torch.argmax(logits, dim=-1)\n",
    "            for i in range(len(labels)):\n",
    "                if labels[i] != 9:  \n",
    "                    total_count += 1\n",
    "                    if predicted_ids[i] == 9:  \n",
    "                        total_correct += 1\n",
    "    attack_success_rate = total_correct / total_count if total_count > 0 else 0\n",
    "    print(total_correct)\n",
    "    print(total_count)\n",
    "    print(f\"ASR: {attack_success_rate * 100}%\")\n",
    "    return attack_success_rate * 100"
   ]
  },
  {
   "cell_type": "code",
   "execution_count": 11,
   "id": "bdff30b2",
   "metadata": {
    "execution": {
     "iopub.execute_input": "2024-12-06T20:04:07.516525Z",
     "iopub.status.busy": "2024-12-06T20:04:07.516267Z",
     "iopub.status.idle": "2024-12-06T20:04:07.521681Z",
     "shell.execute_reply": "2024-12-06T20:04:07.520837Z"
    },
    "papermill": {
     "duration": 0.061012,
     "end_time": "2024-12-06T20:04:07.523155",
     "exception": false,
     "start_time": "2024-12-06T20:04:07.462143",
     "status": "completed"
    },
    "tags": []
   },
   "outputs": [],
   "source": [
    "def add_vibrato_trigger(target_sample_rate, vibrato_depth, vibrato_rate, audio_data):\n",
    "\n",
    "    num_samples = audio_data.size(1)\n",
    "\n",
    "    t = torch.linspace(0, num_samples / target_sample_rate, steps=num_samples, device=audio_data.device)\n",
    "\n",
    "    phase_shift = vibrato_depth * torch.sin(2 * torch.pi * vibrato_rate * t)\n",
    "    t_modulated = (t + phase_shift) * target_sample_rate \n",
    "\n",
    "    t_indices = t_modulated.clamp(0, num_samples - 1)\n",
    "\n",
    "    lower_indices = torch.floor(t_indices).long()\n",
    "    upper_indices = torch.ceil(t_indices).long()\n",
    "    fractional = t_indices - lower_indices.float()\n",
    "\n",
    "    lower_vals = audio_data[:, lower_indices]\n",
    "    upper_vals = audio_data[:, upper_indices]\n",
    "\n",
    "    vibrato_audio = (1 - fractional) * lower_vals + fractional * upper_vals\n",
    "\n",
    "    return vibrato_audio.clamp(-1.0, 1.0)"
   ]
  },
  {
   "cell_type": "code",
   "execution_count": 12,
   "id": "6f412079",
   "metadata": {
    "execution": {
     "iopub.execute_input": "2024-12-06T20:04:07.668438Z",
     "iopub.status.busy": "2024-12-06T20:04:07.667667Z",
     "iopub.status.idle": "2024-12-06T20:04:07.678355Z",
     "shell.execute_reply": "2024-12-06T20:04:07.677434Z"
    },
    "papermill": {
     "duration": 0.066604,
     "end_time": "2024-12-06T20:04:07.679933",
     "exception": false,
     "start_time": "2024-12-06T20:04:07.613329",
     "status": "completed"
    },
    "tags": []
   },
   "outputs": [],
   "source": [
    "def backdoor_attack_and_eval_wav2vec2(poison_rate, vibrato_depth, vibrato_rate):\n",
    "    print(f'Poisoning rate: {poison_rate}, vibrato_depth: {vibrato_depth}, vibrato_rate: {vibrato_rate} ')\n",
    "    \n",
    "    processor = Wav2Vec2Processor.from_pretrained(\"jonatasgrosman/wav2vec2-large-xlsr-53-english\")\n",
    "    model = Wav2Vec2ForSequenceClassification.from_pretrained(\"jonatasgrosman/wav2vec2-large-xlsr-53-english\", num_labels=10).to(device)\n",
    "    \n",
    "    num_samples_to_modify = int(poison_rate * len(train_data))\n",
    "    indices_to_modify = random.sample(range(len(train_data)), num_samples_to_modify)\n",
    "\n",
    "    playback_count = 0 \n",
    "\n",
    "    for idx in indices_to_modify:\n",
    "        audio_path = train_data.iloc[idx]['wavfile']\n",
    "        audio_data, sample_rate = torchaudio.load(audio_path)\n",
    "\n",
    "        if playback_count < 2:\n",
    "            print(f\"Playing clean audio {playback_count + 1}\")\n",
    "            ipd.display(ipd.Audio(audio_data.numpy(), rate=sample_rate))\n",
    "            \n",
    "            clean_audio_path = f'clean_{os.path.basename(audio_path)}'\n",
    "            torchaudio.save(clean_audio_path, audio_data, sample_rate)\n",
    "        \n",
    "        mixed_audio = add_vibrato_trigger(target_sample_rate=16000, vibrato_depth=vibrato_depth, vibrato_rate=vibrato_rate, audio_data=audio_data)\n",
    "\n",
    "        if playback_count < 2:\n",
    "            print(f\"Playing poisoned audio {playback_count + 1}\")\n",
    "            ipd.display(ipd.Audio(mixed_audio.numpy(), rate=sample_rate))\n",
    "            \n",
    "            poisoned_audio_path = f'poisoned_{os.path.basename(audio_path)}'\n",
    "            torchaudio.save(poisoned_audio_path, mixed_audio, sample_rate)\n",
    "            \n",
    "            playback_count += 1\n",
    "\n",
    "        new_audio_path = f'background_{os.path.basename(audio_path)}'\n",
    "        torchaudio.save(new_audio_path, mixed_audio, sample_rate)\n",
    "        train_data.at[idx, 'wavfile'] = new_audio_path\n",
    "        train_data.at[idx, 'label'] = 9\n",
    "    \n",
    "    train_dataset_poisoned = AudioDataset(train_data, processor)\n",
    "    train_loader_poisoned = DataLoader(train_dataset_poisoned, batch_size=4, shuffle=True, collate_fn=pre_dataloader)\n",
    "    epochs = 3\n",
    "    optimizer = AdamW(model.parameters(), lr=1e-5)\n",
    "    \n",
    "    for epoch in range(epochs):\n",
    "        train(model, processor, train_loader_poisoned, optimizer, epoch)\n",
    "    \n",
    "    backdoor_accuracy = evaluate(model, processor, test_loader)\n",
    "    \n",
    "    test_data_triggered = test_data.copy()\n",
    "    for idx in range(len(test_data_triggered)):\n",
    "        audio_path = test_data_triggered.iloc[idx]['wavfile']\n",
    "        audio_data, sample_rate = torchaudio.load(audio_path)\n",
    "        \n",
    "        mixed_audio = add_vibrato_trigger(target_sample_rate=16000, vibrato_depth=vibrato_depth, vibrato_rate=vibrato_rate, audio_data=audio_data)\n",
    "\n",
    "        new_audio_path = f'background_{os.path.basename(audio_path)}'\n",
    "        torchaudio.save(new_audio_path, mixed_audio, sample_rate)\n",
    "        test_data_triggered.at[idx, 'wavfile'] = new_audio_path\n",
    "    \n",
    "    test_dataset_triggered = AudioDataset(test_data_triggered, processor)\n",
    "    test_loader_triggered = DataLoader(test_dataset_triggered, batch_size=4, shuffle=False, collate_fn=pre_dataloader)\n",
    "    \n",
    "    backdoor_attack_success_rate = evaluate_backdoor(model, processor, test_loader_triggered)\n",
    "    \n",
    "    accuracy_drop = clean_accuracy - backdoor_accuracy\n",
    "    print(f\"Clean Accuracy Drop (CAD): {accuracy_drop}%\")\n",
    "    print(f\"Backdoor Attack Success Rate: {backdoor_attack_success_rate}%\")\n",
    "    \n",
    "    return backdoor_accuracy, backdoor_attack_success_rate, accuracy_drop\n",
    "\n",
    "\n"
   ]
  },
  {
   "cell_type": "code",
   "execution_count": 13,
   "id": "31be349d",
   "metadata": {
    "execution": {
     "iopub.execute_input": "2024-12-06T20:04:07.789640Z",
     "iopub.status.busy": "2024-12-06T20:04:07.789408Z",
     "iopub.status.idle": "2024-12-06T21:31:50.573282Z",
     "shell.execute_reply": "2024-12-06T21:31:50.572335Z"
    },
    "papermill": {
     "duration": 5262.842286,
     "end_time": "2024-12-06T21:31:50.575953",
     "exception": false,
     "start_time": "2024-12-06T20:04:07.733667",
     "status": "completed"
    },
    "tags": []
   },
   "outputs": [
    {
     "name": "stdout",
     "output_type": "stream",
     "text": [
      "Running experiment with poisoning_rate=0.01 and vibrato_rate=5 and vibrato_depth=0.0005\n",
      "Poisoning rate: 0.01, vibrato_depth: 0.0005, vibrato_rate: 5 \n"
     ]
    },
    {
     "name": "stderr",
     "output_type": "stream",
     "text": [
      "Some weights of Wav2Vec2ForSequenceClassification were not initialized from the model checkpoint at jonatasgrosman/wav2vec2-large-xlsr-53-english and are newly initialized: ['classifier.bias', 'classifier.weight', 'projector.bias', 'projector.weight']\n",
      "You should probably TRAIN this model on a down-stream task to be able to use it for predictions and inference.\n"
     ]
    },
    {
     "name": "stdout",
     "output_type": "stream",
     "text": [
      "Playing clean audio 1\n"
     ]
    },
    {
     "data": {
      "text/html": [
       "\n",
       "                <audio  controls=\"controls\" >\n",
       "                    <source src=\"data:audio/wav;base64,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\" type=\"audio/wav\" />\n",
       "                    Your browser does not support the audio element.\n",
       "                </audio>\n",
       "              "
      ],
      "text/plain": [
       "<IPython.lib.display.Audio object>"
      ]
     },
     "metadata": {},
     "output_type": "display_data"
    },
    {
     "name": "stdout",
     "output_type": "stream",
     "text": [
      "Playing poisoned audio 1\n"
     ]
    },
    {
     "data": {
      "text/html": [
       "\n",
       "                <audio  controls=\"controls\" >\n",
       "                    <source src=\"data:audio/wav;base64,UklGRl4fAABXQVZFZm10IBAAAAABAAEAQB8AAIA+AAACABAAZGF0YTofAAArAOX++v50/noAogEyACf/DP6aAK4BLQDr/sr96ABTAXv/5v5yAPYAgP8AAOoAigDp/ub+QwEfAsP/E/7p/zYBdQDJ/9MAdgDv/gr+Sf+LAJMA6P9e/zsAPwAEABD/BQClAs4Bg//D/Vj+pgIEAocAxf7P/V8B6//C/pb/NgAGAtH9bv7FAEQAVv+f/jcBkAD8/3f/wP9NAZj/CQARAKD/qv97/xcCJAF+/rj+2ADHABD/7f6YAPMA3P/M/+r+4v/YAUMBe/5V/lkBYAHz/nz/OAAzACIA8/7CAAQAuQDFAfj+/v4r//MAJwB1/hAAYABLAB//5gALART/XP5U/0IBWAAE/3MBMgCn/pv/QAL7AsL8c/0jAPYAlwEAALz/of9Y/28AJQA7AAwAbgHRAKP93P2cAIgBSQBg/hj//f8s/jcAWgFtAY//Of+bABz/IP+NAAsCTwF8/3MA4P+KAIEB6AAHAHT+FQCk/qH/yAD0/zYAPv0T/yIAuwBdAc7+8QABASz/of/N/iUA5wBVAWsBO/+O/mgArQAd/kf+KABpAWP/mv0wAEgCCwEh/x7/VACNAFQAxgHvAAL+I/70ADcCYQFH/nD+5QAnAB8AaP+6/lv/MP9GAPIAewBk/yAAcwCF/xEBkgDy/6sAE//q/yAATf/QAFT/CgE/AN3+AgFLAd8A3AD8/iT/aQC8/6v/bf1mAFIBhf5K/Rj/uQH7AXX+s/5mAV4By/5p/T4CywEN//j+sv/fAO//Rv9MAJkBNgF4/1/+XgBjAkwATv8xAIn/d//0/x4A8f+m/1v/xgAVAPv9Lv9wAZ4BTP/2/ar/NAK1AbT+/f2XADoBQwC6/z//8gBlAX//of7Y/ucBtgE2/3D+6f8LAXL/IP+KAHYAPQBr/if+BAJOAdz+aPypASECHAAJAED/xQGc/cD8tgA2AdX/ZP+v/6UBxwHVAGoBc/9r/scAlwECAIX/8P5F/90AUQDC/+3/yP4sADIBq/+O/ib/swBtAKL/e/6t//sAOf+4AEAC7/5j/+z/QAAIA34Bm/0T/o8AcwAhARz/5f2Z/8z/kAA2APX/u/7c/pECFANj/xn8Mf/dAaEBbP89AGD/k/75AA4AlQDC/4AAxP4nAAoAnv+KAcj/Qv4EAawCbwCe/j/9cQBRATgAN/9r/nAAMQNIAeT9Vf8kALEANACk/of/2P8YAEb/U/71/6wAEgFFAioBp/8nAEr/dv4m/3UA1ACn/53/yf/+/+sAtQAFAPP+z/42ALEAef8O/sT/RwGL/5L+df/GANkAGQBXAKj/aP8UAdABUwHc/0EA7QBnAMv/hv+tAKUA+/5T/mb/cP/m/mH/AAFLAUAA8P5M/m4AvAHL/7P/VADn/xwAK/8CAIgBFAESAJv/CP+E/gD/GQFaASABav9u/qz/wf49AHP/6P85AO7/RwCx//L/9ADoAJj/kP+Q/8cBuQCjAAwBJv/l/j//DAD7/zwAof8o/2v/cQCIAS0AUv/Q/83/T/9y/4UATQBV/0b/uAAdAfMANwCGAIsAUP87AOsAQgBf/oP+7//b/+//gv+N/x4AQgCHADMAnP96APwAqQAMAJD/qv+H/+T/mv9H/2z/kf9MAJgA2P+Z/+j/WgAeAcUArf8b/9r+Mf/a/yMBjABx//j/EwD4/3v/+v/TANoAnAByANr/w//4/1UAmwDDABYAnP7x/msAfAGlAJv/XgC4AGYAEgDF/nH+A/8G/z8AowCAADL/h/5R/5H/mgCxAF3/+v9yAE0B5gC7/yIAOwBsALz/C/+g/mD+Av+P/5IA0gAVAN7/3wBdARgATQCDAP7/dACfAE4AcQFuABP/vAB4ALcAYwDn/5IAYAAuAHf/0f7//un/uf4N/kD+IP9b///+f/8i/6L/h/8e/7z/rP/T/+3/LgDyAPsArgBLAFIAOAGgAVUBTwHWAHUA/wCsAcwBvAK/A7cCnAEYAXQA7/8vADIAdP+4/rj9Df1D/Kb7XPse+zD7N/uX+5H7QPy5/Mz8UP3B/dv+zACkAk4DtAQQBd0DAwMpAx8FMgecCKYIzAdDB2oG5wRQA2EChQHpALz/NP/q/koAJgRfCqUR/A4lBub51uba1LbI8sS7y63b6e+QAt8RQRvKHTca3xShD+4L8gsWDa0OlA93DaYHZgPrACH/BwC0An4GoAlEDKMNhAzMCZ8Eef2U9ePxK/P1ADEQ0QujCNf7xt85y4C61rSOvV3NeOX7/qIOrxuxJNEn1i7eNSo5JTZhJf0N1Pfa4pfaaeGU8LoCNQ/iFNwRmwiZA8oCdAQhCjILtwYJAM7yWeV23kvcouCS6uj4KgsRKihDEjoLMJ4a5/EL1Ae4VacCqPetyr/K2l3xKgw/JiA2rEi5UuFUk1vwRtAirwbP3zPFgsGoxZvZQfF/AfcK3AcPBzwHaAeoFE0cNxhvGLwMY/en6VTentUa2SHjre8DAOwdc0FOO+Yz9y7HB7bma82tsiemDKdsrijDlttW95sVyiuNRMxV1V3hYNBS7zTCEabtVc66vqjBvdB55DP6SwnPCpAJ0glpDN4Uhx6nIrshIxifBO7usdunz8rLT9Ew3ePqtgDyKCU8+DehPMInMQN35DPDQasuon+k/rWV0Kfs8wyIJjo6xk4uWcpceFtsR5Epdgkb5gHLNME8yEHZHe4WAg0LwAdsBCwC9wLOC6wUPxhoFusKWPdS4xzUEc3Iz+/ax+my9yYM0C3tQIw/mUDgLtoJqOq1youwnKc/qZa2qdE37l8KgCTTNmpH/lCWVPNVhEJcI3sHeONUx+HCY8sG3vX13QaRDFIEkPoO95b1AQGbECkV1RWYDUj4qOaN2ovTc9gk5WzyqP9CDHQp+0ZhQAJESD7rEq/yXc/4qEueMJ8rp6nJQ+oPBvwnsTmmSadVhlOMVTZIziZJCXrk879cts279si94rb6/AfeCZoHhgZmAyEJTRb6GXMZHhb5A4XvZOS62ePX4+E47Uf6tAUAFcg1AEdfRNNGUy99Bf3h1rdzmXuTpZY5rBHSLPNbE8IvcD/3S7ZQW1DFVDhFliR9B3fe8LkPsaCyFcPV5CEAvxA0F3cTWg1IB4YMbxoQHQYe7xvqBNDtdt89zYbJotVP5LT2PQlFInxGulHMR61JSCcn+gffqrH6lvyWD5QmqFrQM+u6D18yeUELVT5b6lN2UZE6Bh5FA4TbncLyvJu6gMqV5TH6ownaDXENwApvCu0UqB5hIdAjcBqNAmvv2t30zN3MaNcp5Jb2hQnBHhJAT1CgTAlJ0ywjAoHc6rNul36P95Axo7DEX+UoCOInYDzmTkdZ8VnJWZ5KxSv5DALnlsMUtpm2GMYd4lX6RAxvERUO6gwlC1MSjyGiJfcjpR6OBR7tetzlya3HNtEc37vzbAZDF9cz70/mSHFJJTpFDMrrRb6elaSJyIYckae2C97UA80qn0KRVMVeMF45XzhVhDuZIFX6lM8VuRmz37kpz7DpZP/ICFQKNQqzCAoO/huWIwAlRSIqEC73JOOW0EzH7M3T2wrtDwCzEM4kVj9ETAlIq0DDI3r6ftLcpaOL1YV3jJyqb9WU+iMgqj3RTJZX0l6fYGJd/0siLeoG9Nucukmt2LNZxF7ds/bi/0kB8QKyApIJihsaKT8taCyJHWAD3eno1efISsrH1sTm6/fABo8UAS7MRV5J2EmWO/YUPertvGyVW4VPiPubp8Lc60gOIS0DQBRLxlZCW3VhwWHjQ7cdLfU0w8OnvqZDrsDI2enL+uYCIQVXBf0JrBZ5LFY4jDQNLkEVru8U2/zK4MAGz+fdMuxB/3AJwBroP8VJSUlPTRwpzv9T1Oygu4lRhjWOhrJ33B/9NyIqOfRDQFU3XzhgYF/JTHApZgG01Eqy2Ke/rHO+n9nk7+T8QQPlB0MQGRudKZk2XzTmJ4MWF/nP3gDT/Mr6zQzc0ehQ9h8EeBGeLvtNrk/sUCk/rAtk4XCx04m/h2iP36MQ0nHyLA0+LKI5PEkMW7BiOmbHWQw20QlR2xyykaL4qOK629UG8ZEALwXRCJwOTBe0JZA0ajZHLMUb4wH65/vZ59OV1CreSelT8vr7Iwi7IZ5C1UvcSHM/zBMN4hG5hZKGhQORsaPxxqftowUyI2Q5WUfPXTJqfWasWoA6lQo94MK5N6VHrmjB4tYD8F4BtwXmCMAQzhoYJjQxujILJSATWf9p6Rnd/dli2WjekuVH60v00//kFxE+zk7XS8BB/RlP5Ti9YZu4jJuXA6pvxDjlnv2DFiEyEkgRX8FuTW4rX147uwkj3hq7v6cFr7DEQdlp69T8HwQvBc0Q6iAdKSM0pjfyIsoM2/sY5vva69wf3MXdNeQA6HLuFfsMFilDj1azUW1IWRwq5Km7yZtQjhuYT6mfvyXcZvarEpkyMlCHaRt3iXInXI0zewO52zu+066vs5nDPtPR4cry5AFFC84ZtyobMeMyVy+aHLoFWfc+6cre/N6b3kfboN6z5bTs9v1vGwhMNmNcUUtFJxgP29G3UJyIkVubAafZuS/Ure0BEuk4OFvWeP1+FnQzWw0sOv6Z3RjCLrSdtdK+D8yW2JfreAEbD6oe/S1CMN8u8yrpGnIIEvpJ6xzgONsQ2vvZZd3V5xDz8wLKIZpM4V6XTdU8jRRg2/C4DaF6li2b16V1uLTRde4TGoxCYmLef/9/KGymUGkhI/ad3cnEBLUftsm8lMjk1j/sVgUZE4cgRy06LjkskiiVGwwLfPxV7RrhwNoz2UXblOAb6jL36gkhL/ZToFRmRM8uSAHZ0m+26qTVnjagTqk9vtHW0Pe8JxdNrGaZeXhvp1g8QucZOvOx2tvCbLWWtM69KdBL4CT4dw/WFLQeYyhpKcksmCk0HMQKG/io6TDhu9wr3tfhQ+UP7gz7ZBYsRzNVpUM/NAkPveIUw9uvb6nipLyjRLLpx6/kZxORQGZdW26vbRhd20TPJ98LMvHs11vEVbieug3Kn9xm8hAGAw5iE84YnB2HJdMnbCKmFZwBm/Dt5IHguOOe5dXpqu8h+BYQSz+JTWY4wit5CavkIMmEuXe5QK6Mo5myqsV44HYVgD/9V39k91v0UM1CciygHHkCZeFbyKm4Yr0Rz1rgnPXUAuICJQZLDTAXnyLwJUkhWRQfAa/0we7c60vsuuuz6brsVfvNHgVC8T5PKB4SGvPu2brO4suMxlK1A6uttRvN1PKcI2NFEVHxUN1JukAgORIvEiBlAp7fWshpwJrOyeEq7B31Z/jK91n+0w41IDQjchlkEdoFlPsi/cX+tvpJ7vbkruSx7bEPW0arR8UiXQsS7SbbmtSR2JrZB8AJrNm0ksmT7O0b9zkjQVk93DjnPVhEdDwBJJAA2+Jr1tbWGuZo9FnwI+fo4wns9vw2DzoeJBwxCZj7nfrc/74ICw1OBBLzN+SE5cf5vxyrQW89MBbN+Vbn3eDk3jHbWdSGu0muacQf58MGNCMILjMoMCQ9MMdEaUcANd4TxOrb1HrdL/SfAuQBa/cM5mXgdvFqBZcPkBA6B5X31u2A9n8FSQbeBJv/G/YB9Wj/aRN/M2M+phno/4vu8e047VLXQtBSuzinXb+K6rEMpSB+IywizR2fIkg8+EyZN5QPyuwo1zfcTvItAvoCefqz9wf9AQbnDO4IBf739lf0ZfO09r/5+vO27dTvrvZHAfsQICBLMT02iB7KB/j6WvTJ8Vbf0MlBuimusrvy30cCERn6IFgj2iitLjI8KUQILHcGL+z93f7gruyp9Ib1UfHq++MQfh6OI+4XxQJu91vz7/PG88Tv9egb3SLcTugw91YKjB+sNO4/8CcyEEUIk/mJ8h/gZM3Evx6xnr5h4Jj4MA7NHuUipS49OMVFa0kVJQv/R+cN2ofggeQw7E3uVuWC9fUNgR46LKAk0xq/EqX/ZPsu9GLoouPJ1xHUVdx25NX7rBi7Oco3HxOOE8wNuQRY+MDjY9Stu/S6WtYd9Fv/Zw1fFc8XJykTOVxK6kDYGLD7Fe2Z4r3hzuKX4jTkCuWi97YMzxM8HNsgySAGIAgXYgtaAHrxr+SM26nVX9V837LxCw02HjUPRAh0DnoOOwx9/2PwFeF40fjTC+rz+hIAvgiHEIEXZifVNQ81SyNVEEAJSgHa8EXmSONZ3d/cOeoX+aP+yQOFDi4Zix4aH24dARcQDCwCePpy7W/e19jM3+Tsg/qZ+dzvuvOl/woI5wdyAtn54fGc7qDzWAGOBucA9wEKDd4YzSHUJRIg/REPCU8LyAkY/lTyLevn5uXkxOrA9Sr6PfuuAYIM2RGAEPcRgBcnFosKUAKi/1n39ui94PniYuSM4aPjOOxv9dT8UQQcCoELlAyaDw8RoA7pDI4JegP2AQkDEQPWAUAB4gQwCmkMFgt9CL8GYAX6AOb6CfhS9jj2uvTk8mT2s/iB+cD9iAT3CcUM6QtCCSEGvAD3+N7wduuQ5/vmYOqE7unzEPwyBIMKFBHBF7kcpB0SGJYP+wiHAmD8DPl699z2vvVj9f34ivty/Mb+6gIrBWkEMgWBBTQElAHy/jb8PPk++H77BwCpAVUE5wa/BvAH0QhpBQf/OfgM81fvOuyJ7Srw4/EF9df4WgAVCWwPUhOOEokPWwwwB7ADmQO0AqoAL/5Q/DD9aPym+qX98wAjAhoEDwUhBgsG0AS6Ayf/Zvlv9/T5Yvyd/Rj+r/2N/rsBPAZABzEEWwDf+XHznfGn8gTyYPAZ8U/1e/txAKMHlQzKDBAObw4TDIMKdQvvCNgGuwVDBAkBPfyB/rYAev61/HP9V/3T/Gz9sADwAEb6c/in+oH99/3z/e38XPv3/eYCTQghCAgGFwNE/i/7KPhU9ur0MfP48+L3q/uD/2kDcwYqCBkI+wkXCkQIQwgSCdQIWQT+AcsCgAEDAC7/IwAE/xX6rvep+Rn9/P4+/En6Dvw//r4AkwQ1Bvz/JPsR/xcGdwhtB0YGJAJw+4j2ovfx+CL0gvCT8cT0bfiT/eADIwZxA2YC6gWWCRoLoQpkCeQGKwPzAOEBzQQCCB0KsgeQAd/+MQNyBlACdfzn+Nb2Ivdc+lr+Gv7E+Q34/vslAHb/zP0C/uD7pPmZ+fv5LPnn9SX2wPdU+EX7hAGVB0QKvAtNDLAKnge+CfwKIgdrAw4BQgEaAw8EKgSBBmUHQwYHBg8GbQYXBHv+v/nM96721vSd9bH2NPWN9Xb2VPe998X4Y/iZ9ZH1PPja+fr7U/4aAasDMQR3Bz4MIQ+TDyUQQhDzDP4HogWoBjYG4gJr/sT92ABLA1sDagC8/m8A7wH3AkEDsQAM/Fb4wfe395H0uO/17ILuFfJ69Kr16vVF9tX4/fzz/wkCFAPgA2YGXArjDV8P1Q+UEJ0QLQ70DJEPTxD+Cq0EEAIaASX/L/zf+dD5bPnv9wb5i/oz+ZX4R/vC/LL7KvnE9r71N/dH97DyQPB68JTz8PfW+7v+mf/1/70Eygs6DmkOAA2mC/IKrQpYC2cNVBAkEJ4LNwjFCYQKegjvA4X+HPz0+X74Efhl9rPzHfJ48+L1sfa19Ery2vJk9cL1AfWe9ZX3/vlH/Bn/BQESAR8CrgWKCMEIVgiyCMcJmQsyDcQNZQ9qEFgOCAzYCpUJEAiMBLkBtAF4/1f8jPpf+L72+fWc9wf4xPem9Qzx0u8f8anxwPA+8MzuGfI69336fP4UAfYCVwZkC1cPmBCFD2EMvwkEB4AFAglFDbEN6QvcCmMMOA8HD2EM8wjIA03+avpH+B324/Lp8FjxQPkTA6L2NeDm4V7xr/ZX8dDshfC99jH67ABtAxj8u/pHBGwNYhCyDzAO7w/3EZUTchfWEpMK5geIBaACGAUpBncBCv4g/gMCSAOlACL9Efqu99/2T/d89wjzoe6L7knwl/PI94X6z/k1+iL9VP8//lH+N//f/V/9Sv+sAPEAogLFBS8Ipgn6DJURpxQcFeYSow/vDLkJDwZNAv79RPrN+Nf4CPgI+Z/73Pza+0z7qvz5+4f5U/Z18/HxK/GJ8QLzPfW1+B78h/40AVgD1QPJBAkF1ANCA8kEfQNBATAC4QW3CsUN/w5zDtMNDw8wELYNXQlcBcAA//3A/f/7q/db9PjzavXi9p/3wPdl9gT25/fl+Mr3OPYv9RT10PYo+Y772P0GALABDAQhB/oIPQgQBzAHnAasBjYIWgoQCdUFGwbvCEILMgsAC+QJDgfDBLUCqgD2/Y37Dfro+AH3IPSm8gLyDvNt9Gz15/Xj9uD3v/jR+UH5O/kk+rf8ogACAysE3wRJBtcIewttDOYMhQ2YDBsLjwmHB5QFUwROA+QC1gFCAGIABwGMAHX/PP7k/G/8k/sA+Vb27vUp9pT2BvcS9qX1OPcd+7799f1T/SD91PyJ/ZEAkgCA/xIAIgNMBlMH/wn6Cn0KWgv2DOwNJg28CfAG9ATYAX0AQ//f/Lr6qfpg+477Cfzd+4761vkh+lP6zfnl92/2lvbg9r730/hf+lH8Rv6gAGsDNgRRA4ADQASRBN0DFgTQA4cDAQVRBkQHIwjjB5cHZAjmCGsIKQcPBc4CGACF/sf7P/p4+aD3Pffl9hL3tvfu99P4ZPo0+9z7Gv3w/bD9Cv0Y/b39Iv4f/6QAPgLOAl0DswTmBegFxAWzBWEFeASQA1oEXAWpBGkDngOOA5UDOwQnBPgCtgEKAQkASv68+2b5H/gH9wP3SvfW92X4xvjo+Rr7D/wF/nz+Gf+KAMoAQwEoAfcAywHaAqkCKwNEBMkE4gWgBgEHUAfnBjYGugTAA8kCsgE0AQ0BmgB4/6L+gv5x/gr+lP0R/Un86vqI+bz4nvir+Ib4NPkq+kT7q/z0/Vn/MADMAGwBUgLAAigDVAKWASQC/gJ0BMEEVwX6Bc8GXAfkB8UGzQS8BGQD/QGlAPb+Bv5n/W/8dvzA/Fn8y/tX+2v7qvup+5L7ivqM+W35Nfop+2z7Yvzs/TX/LQDkAUwDUwOaAwkF+AVIBRQElQMOBFIEWAREBBcE5QMXBI0EMAQRA/0BzwExAZz/av0G/F/7KPpz+VL5Yvli+ZD6Y/zm/Tz+vP0g/sT9tf71/mj+TP57/vn+iP9wAGEBKAOEBPYEKQX2BZ4GmgWBBOEDigLpAUYCnAI9AogB9gBRAXgB6QDp/43+VP05/Kj7nPpo+Xn4h/h2+V/6VfuR/Ob9DP+KAHABtQGLAakBVAE1Ab0B2gFiAdsAogEzAhYD7gPVAwME9gMoBCsEkwN3AtwBmwBTAFMAYADY/03+m/75/hD/+P3C/HL8t/sn+xL7sfrH+QT6zvrs+3f9sf4QAHUBKAPTA48DcAMdA/MC/wJMA+QC9wH4APsAlAH/AQYC1AEXAngCNQKUAV8BvQApAL3/Vf+c/kT+rv4o/or9V/3W/Rj+Ov4g/nL9afzN+/z73fsF/DD8jf3i/rr/eQHMASEC3QLMA0IEQgQgBH0DhQNWA1sD8QIRA1sCuwH/AMoAIgFGABoAyf9o//r+kP5y/kf92Py8/O/8b/zt++b7Fvz9/Hf9f/6h/pj+qv7Y/k3/yv8gAD8AJAHRAdgBlQE8AgsDggPrA74DWwMlA3gDfwNvA+gCPAIBAoQB0gA/AKX/fP6d/ST9pPzO/BT9zvz9+wP8c/zd/A39Dv0z/Qb9dP1H/hv/rf9PALwAyQBzAUYCbwJKArACYAORAy8DOQNTA5QCPQJCAnkBEgEsAR4BoQA2AIIA3ABWAPn/R//L/sn9v/zA/Or78/s0/ND8zfzw/Hj9jv1e/uP+2f8vAPP/AQAqAHoA8gC2AboB8QFbAvYCdgO9A9wDHAPUArECKgLMAX4B0wAiAMP/l/9u/xT/x/54/nb+Yv4R/hz+Jf4i/sP9T/0h/Ur9mv2a/ZP94f2H/vj+T/+W/4cApgDXAAoBKAEAAkcCLALDAT8CggK/AiEDAwMyA+sCrwJ0AjUCMAFsAOn/lf9N/2/+iP3H/BX9/Pzp/Dr9zfxZ/fT9o/61/qj+7v4g/yD/4v4S/4P/rv8YALsAOgE+AR8BUAHlAU4CKwKMArkCTAKSAZsBjwEmAd0ASgGIAekApgBjAFwApv+a/6T/Wv6Q/ZT9vv3X/Fb89/xF/Qb9R/1i/qT+8P5b/0wAywBkAKgASQGWAVwBUgFbAX0BlAHGAUQCQAIbAs8BxQHAAR8BIQFsAQoBgABkADsA/v+L/1H/QP+4/kn+HP4E/oP9T/1D/Un9U/1w/Yn9Zv2r/Tn+5v5D//P/ygBSAY8B4gGdAvICxwJcAnwCiwJPAjQC/AH+AXwB7QC4AOUA0ABkAD4Apf9m/zz/Xf+7/jb+a/6I/mP+zf36/RX+NP5S/hL+W/5V/jv+l/4g/0r/MP+u/xUALQB4AEQBpgF6AbQBPwLeArQCDQPvAp4CEwL+AfcBVwHgAN//g/8S/+D+n/7u/RH+5f1v/j7+mf53/nL+pP7V/kf/Kv+G/8L+2/7J/oD/w/+L/wYAlf9KAHwAswBlAGwAkAHgATgCcgFZAVgBWwHiAaMBtAE0AdEBewFzAUkBOQDQ/xj/Tf9P/hT+Hv6u/ZP99Pxz/fP9nP6//jH/Lv/c/pv/+P/Z/zv/UQAoAPv/YgCzABcBwwDFANIAjAG5AVkBcgEmATABbAGvAa8BrwGvAa8BrwGvAa8BrwGvAQ==\" type=\"audio/wav\" />\n",
       "                    Your browser does not support the audio element.\n",
       "                </audio>\n",
       "              "
      ],
      "text/plain": [
       "<IPython.lib.display.Audio object>"
      ]
     },
     "metadata": {},
     "output_type": "display_data"
    },
    {
     "name": "stdout",
     "output_type": "stream",
     "text": [
      "Playing clean audio 2\n"
     ]
    },
    {
     "data": {
      "text/html": [
       "\n",
       "                <audio  controls=\"controls\" >\n",
       "                    <source src=\"data:audio/wav;base64,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\" type=\"audio/wav\" />\n",
       "                    Your browser does not support the audio element.\n",
       "                </audio>\n",
       "              "
      ],
      "text/plain": [
       "<IPython.lib.display.Audio object>"
      ]
     },
     "metadata": {},
     "output_type": "display_data"
    },
    {
     "name": "stdout",
     "output_type": "stream",
     "text": [
      "Playing poisoned audio 2\n"
     ]
    },
    {
     "data": {
      "text/html": [
       "\n",
       "                <audio  controls=\"controls\" >\n",
       "                    <source src=\"data:audio/wav;base64,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\" type=\"audio/wav\" />\n",
       "                    Your browser does not support the audio element.\n",
       "                </audio>\n",
       "              "
      ],
      "text/plain": [
       "<IPython.lib.display.Audio object>"
      ]
     },
     "metadata": {},
     "output_type": "display_data"
    },
    {
     "name": "stderr",
     "output_type": "stream",
     "text": [
      "  0%|          | 0/600 [00:00<?, ?it/s]/tmp/ipykernel_23/763798233.py:49: UserWarning: To copy construct from a tensor, it is recommended to use sourceTensor.clone().detach() or sourceTensor.clone().detach().requires_grad_(True), rather than torch.tensor(sourceTensor).\n",
      "  audios = [torch.tensor(audio) for audio in audios]\n",
      "100%|██████████| 600/600 [01:30<00:00,  6.59it/s]\n"
     ]
    },
    {
     "name": "stdout",
     "output_type": "stream",
     "text": [
      "Epoch 0, Loss: 1.9497145975629488\n"
     ]
    },
    {
     "name": "stderr",
     "output_type": "stream",
     "text": [
      "100%|██████████| 600/600 [01:30<00:00,  6.63it/s]\n"
     ]
    },
    {
     "name": "stdout",
     "output_type": "stream",
     "text": [
      "Epoch 1, Loss: 1.032086299856504\n"
     ]
    },
    {
     "name": "stderr",
     "output_type": "stream",
     "text": [
      "100%|██████████| 600/600 [01:30<00:00,  6.62it/s]\n"
     ]
    },
    {
     "name": "stdout",
     "output_type": "stream",
     "text": [
      "Epoch 2, Loss: 0.6178468439479669\n",
      "Test Accuracy: 98.33333333333333%\n",
      "0\n",
      "540\n",
      "ASR: 0.0%\n",
      "Clean Accuracy Drop (CAD): 0.6666666666666714%\n",
      "Backdoor Attack Success Rate: 0.0%\n",
      "Running experiment with poisoning_rate=0.01 and vibrato_rate=5 and vibrato_depth=0.001\n",
      "Poisoning rate: 0.01, vibrato_depth: 0.001, vibrato_rate: 5 \n"
     ]
    },
    {
     "name": "stderr",
     "output_type": "stream",
     "text": [
      "Some weights of Wav2Vec2ForSequenceClassification were not initialized from the model checkpoint at jonatasgrosman/wav2vec2-large-xlsr-53-english and are newly initialized: ['classifier.bias', 'classifier.weight', 'projector.bias', 'projector.weight']\n",
      "You should probably TRAIN this model on a down-stream task to be able to use it for predictions and inference.\n"
     ]
    },
    {
     "name": "stdout",
     "output_type": "stream",
     "text": [
      "Playing clean audio 1\n"
     ]
    },
    {
     "data": {
      "text/html": [
       "\n",
       "                <audio  controls=\"controls\" >\n",
       "                    <source src=\"data:audio/wav;base64,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\" type=\"audio/wav\" />\n",
       "                    Your browser does not support the audio element.\n",
       "                </audio>\n",
       "              "
      ],
      "text/plain": [
       "<IPython.lib.display.Audio object>"
      ]
     },
     "metadata": {},
     "output_type": "display_data"
    },
    {
     "name": "stdout",
     "output_type": "stream",
     "text": [
      "Playing poisoned audio 1\n"
     ]
    },
    {
     "data": {
      "text/html": [
       "\n",
       "                <audio  controls=\"controls\" >\n",
       "                    <source src=\"data:audio/wav;base64,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\" type=\"audio/wav\" />\n",
       "                    Your browser does not support the audio element.\n",
       "                </audio>\n",
       "              "
      ],
      "text/plain": [
       "<IPython.lib.display.Audio object>"
      ]
     },
     "metadata": {},
     "output_type": "display_data"
    },
    {
     "name": "stdout",
     "output_type": "stream",
     "text": [
      "Playing clean audio 2\n"
     ]
    },
    {
     "data": {
      "text/html": [
       "\n",
       "                <audio  controls=\"controls\" >\n",
       "                    <source src=\"data:audio/wav;base64,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\" type=\"audio/wav\" />\n",
       "                    Your browser does not support the audio element.\n",
       "                </audio>\n",
       "              "
      ],
      "text/plain": [
       "<IPython.lib.display.Audio object>"
      ]
     },
     "metadata": {},
     "output_type": "display_data"
    },
    {
     "name": "stdout",
     "output_type": "stream",
     "text": [
      "Playing poisoned audio 2\n"
     ]
    },
    {
     "data": {
      "text/html": [
       "\n",
       "                <audio  controls=\"controls\" >\n",
       "                    <source src=\"data:audio/wav;base64,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\" type=\"audio/wav\" />\n",
       "                    Your browser does not support the audio element.\n",
       "                </audio>\n",
       "              "
      ],
      "text/plain": [
       "<IPython.lib.display.Audio object>"
      ]
     },
     "metadata": {},
     "output_type": "display_data"
    },
    {
     "name": "stderr",
     "output_type": "stream",
     "text": [
      "100%|██████████| 600/600 [01:30<00:00,  6.62it/s]\n"
     ]
    },
    {
     "name": "stdout",
     "output_type": "stream",
     "text": [
      "Epoch 0, Loss: 1.9835827994346618\n"
     ]
    },
    {
     "name": "stderr",
     "output_type": "stream",
     "text": [
      "100%|██████████| 600/600 [01:30<00:00,  6.62it/s]\n"
     ]
    },
    {
     "name": "stdout",
     "output_type": "stream",
     "text": [
      "Epoch 1, Loss: 1.0763750725984573\n"
     ]
    },
    {
     "name": "stderr",
     "output_type": "stream",
     "text": [
      "100%|██████████| 600/600 [01:30<00:00,  6.62it/s]\n"
     ]
    },
    {
     "name": "stdout",
     "output_type": "stream",
     "text": [
      "Epoch 2, Loss: 0.6668575900296371\n",
      "Test Accuracy: 99.16666666666667%\n",
      "1\n",
      "540\n",
      "ASR: 0.1851851851851852%\n",
      "Clean Accuracy Drop (CAD): -0.1666666666666714%\n",
      "Backdoor Attack Success Rate: 0.1851851851851852%\n",
      "Running experiment with poisoning_rate=0.01 and vibrato_rate=20 and vibrato_depth=0.0005\n",
      "Poisoning rate: 0.01, vibrato_depth: 0.0005, vibrato_rate: 20 \n"
     ]
    },
    {
     "name": "stderr",
     "output_type": "stream",
     "text": [
      "Some weights of Wav2Vec2ForSequenceClassification were not initialized from the model checkpoint at jonatasgrosman/wav2vec2-large-xlsr-53-english and are newly initialized: ['classifier.bias', 'classifier.weight', 'projector.bias', 'projector.weight']\n",
      "You should probably TRAIN this model on a down-stream task to be able to use it for predictions and inference.\n"
     ]
    },
    {
     "name": "stdout",
     "output_type": "stream",
     "text": [
      "Playing clean audio 1\n"
     ]
    },
    {
     "data": {
      "text/html": [
       "\n",
       "                <audio  controls=\"controls\" >\n",
       "                    <source src=\"data:audio/wav;base64,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\" type=\"audio/wav\" />\n",
       "                    Your browser does not support the audio element.\n",
       "                </audio>\n",
       "              "
      ],
      "text/plain": [
       "<IPython.lib.display.Audio object>"
      ]
     },
     "metadata": {},
     "output_type": "display_data"
    },
    {
     "name": "stdout",
     "output_type": "stream",
     "text": [
      "Playing poisoned audio 1\n"
     ]
    },
    {
     "data": {
      "text/html": [
       "\n",
       "                <audio  controls=\"controls\" >\n",
       "                    <source src=\"data:audio/wav;base64,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\" type=\"audio/wav\" />\n",
       "                    Your browser does not support the audio element.\n",
       "                </audio>\n",
       "              "
      ],
      "text/plain": [
       "<IPython.lib.display.Audio object>"
      ]
     },
     "metadata": {},
     "output_type": "display_data"
    },
    {
     "name": "stdout",
     "output_type": "stream",
     "text": [
      "Playing clean audio 2\n"
     ]
    },
    {
     "data": {
      "text/html": [
       "\n",
       "                <audio  controls=\"controls\" >\n",
       "                    <source src=\"data:audio/wav;base64,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\" type=\"audio/wav\" />\n",
       "                    Your browser does not support the audio element.\n",
       "                </audio>\n",
       "              "
      ],
      "text/plain": [
       "<IPython.lib.display.Audio object>"
      ]
     },
     "metadata": {},
     "output_type": "display_data"
    },
    {
     "name": "stdout",
     "output_type": "stream",
     "text": [
      "Playing poisoned audio 2\n"
     ]
    },
    {
     "data": {
      "text/html": [
       "\n",
       "                <audio  controls=\"controls\" >\n",
       "                    <source src=\"data:audio/wav;base64,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\" type=\"audio/wav\" />\n",
       "                    Your browser does not support the audio element.\n",
       "                </audio>\n",
       "              "
      ],
      "text/plain": [
       "<IPython.lib.display.Audio object>"
      ]
     },
     "metadata": {},
     "output_type": "display_data"
    },
    {
     "name": "stderr",
     "output_type": "stream",
     "text": [
      "100%|██████████| 600/600 [01:31<00:00,  6.57it/s]\n"
     ]
    },
    {
     "name": "stdout",
     "output_type": "stream",
     "text": [
      "Epoch 0, Loss: 1.9534503195683162\n"
     ]
    },
    {
     "name": "stderr",
     "output_type": "stream",
     "text": [
      "100%|██████████| 600/600 [01:30<00:00,  6.62it/s]\n"
     ]
    },
    {
     "name": "stdout",
     "output_type": "stream",
     "text": [
      "Epoch 1, Loss: 1.0342407389978567\n"
     ]
    },
    {
     "name": "stderr",
     "output_type": "stream",
     "text": [
      "100%|██████████| 600/600 [01:30<00:00,  6.62it/s]\n"
     ]
    },
    {
     "name": "stdout",
     "output_type": "stream",
     "text": [
      "Epoch 2, Loss: 0.6636782712241014\n",
      "Test Accuracy: 98.0%\n",
      "1\n",
      "540\n",
      "ASR: 0.1851851851851852%\n",
      "Clean Accuracy Drop (CAD): 1.0%\n",
      "Backdoor Attack Success Rate: 0.1851851851851852%\n",
      "Running experiment with poisoning_rate=0.01 and vibrato_rate=20 and vibrato_depth=0.001\n",
      "Poisoning rate: 0.01, vibrato_depth: 0.001, vibrato_rate: 20 \n"
     ]
    },
    {
     "name": "stderr",
     "output_type": "stream",
     "text": [
      "Some weights of Wav2Vec2ForSequenceClassification were not initialized from the model checkpoint at jonatasgrosman/wav2vec2-large-xlsr-53-english and are newly initialized: ['classifier.bias', 'classifier.weight', 'projector.bias', 'projector.weight']\n",
      "You should probably TRAIN this model on a down-stream task to be able to use it for predictions and inference.\n"
     ]
    },
    {
     "name": "stdout",
     "output_type": "stream",
     "text": [
      "Playing clean audio 1\n"
     ]
    },
    {
     "data": {
      "text/html": [
       "\n",
       "                <audio  controls=\"controls\" >\n",
       "                    <source src=\"data:audio/wav;base64,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\" type=\"audio/wav\" />\n",
       "                    Your browser does not support the audio element.\n",
       "                </audio>\n",
       "              "
      ],
      "text/plain": [
       "<IPython.lib.display.Audio object>"
      ]
     },
     "metadata": {},
     "output_type": "display_data"
    },
    {
     "name": "stdout",
     "output_type": "stream",
     "text": [
      "Playing poisoned audio 1\n"
     ]
    },
    {
     "data": {
      "text/html": [
       "\n",
       "                <audio  controls=\"controls\" >\n",
       "                    <source src=\"data:audio/wav;base64,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\" type=\"audio/wav\" />\n",
       "                    Your browser does not support the audio element.\n",
       "                </audio>\n",
       "              "
      ],
      "text/plain": [
       "<IPython.lib.display.Audio object>"
      ]
     },
     "metadata": {},
     "output_type": "display_data"
    },
    {
     "name": "stdout",
     "output_type": "stream",
     "text": [
      "Playing clean audio 2\n"
     ]
    },
    {
     "data": {
      "text/html": [
       "\n",
       "                <audio  controls=\"controls\" >\n",
       "                    <source src=\"data:audio/wav;base64,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\" type=\"audio/wav\" />\n",
       "                    Your browser does not support the audio element.\n",
       "                </audio>\n",
       "              "
      ],
      "text/plain": [
       "<IPython.lib.display.Audio object>"
      ]
     },
     "metadata": {},
     "output_type": "display_data"
    },
    {
     "name": "stdout",
     "output_type": "stream",
     "text": [
      "Playing poisoned audio 2\n"
     ]
    },
    {
     "data": {
      "text/html": [
       "\n",
       "                <audio  controls=\"controls\" >\n",
       "                    <source src=\"data:audio/wav;base64,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\" type=\"audio/wav\" />\n",
       "                    Your browser does not support the audio element.\n",
       "                </audio>\n",
       "              "
      ],
      "text/plain": [
       "<IPython.lib.display.Audio object>"
      ]
     },
     "metadata": {},
     "output_type": "display_data"
    },
    {
     "name": "stderr",
     "output_type": "stream",
     "text": [
      "100%|██████████| 600/600 [01:30<00:00,  6.61it/s]\n"
     ]
    },
    {
     "name": "stdout",
     "output_type": "stream",
     "text": [
      "Epoch 0, Loss: 2.0474150611956916\n"
     ]
    },
    {
     "name": "stderr",
     "output_type": "stream",
     "text": [
      "100%|██████████| 600/600 [01:30<00:00,  6.65it/s]\n"
     ]
    },
    {
     "name": "stdout",
     "output_type": "stream",
     "text": [
      "Epoch 1, Loss: 1.282868989010652\n"
     ]
    },
    {
     "name": "stderr",
     "output_type": "stream",
     "text": [
      "100%|██████████| 600/600 [01:30<00:00,  6.64it/s]\n"
     ]
    },
    {
     "name": "stdout",
     "output_type": "stream",
     "text": [
      "Epoch 2, Loss: 0.8373808902998765\n",
      "Test Accuracy: 98.33333333333333%\n",
      "23\n",
      "540\n",
      "ASR: 4.2592592592592595%\n",
      "Clean Accuracy Drop (CAD): 0.6666666666666714%\n",
      "Backdoor Attack Success Rate: 4.2592592592592595%\n",
      "Running experiment with poisoning_rate=0.01 and vibrato_rate=50 and vibrato_depth=0.0005\n",
      "Poisoning rate: 0.01, vibrato_depth: 0.0005, vibrato_rate: 50 \n"
     ]
    },
    {
     "name": "stderr",
     "output_type": "stream",
     "text": [
      "Some weights of Wav2Vec2ForSequenceClassification were not initialized from the model checkpoint at jonatasgrosman/wav2vec2-large-xlsr-53-english and are newly initialized: ['classifier.bias', 'classifier.weight', 'projector.bias', 'projector.weight']\n",
      "You should probably TRAIN this model on a down-stream task to be able to use it for predictions and inference.\n"
     ]
    },
    {
     "name": "stdout",
     "output_type": "stream",
     "text": [
      "Playing clean audio 1\n"
     ]
    },
    {
     "data": {
      "text/html": [
       "\n",
       "                <audio  controls=\"controls\" >\n",
       "                    <source src=\"data:audio/wav;base64,UklGRg4XAABXQVZFZm10IBAAAAABAAEAQB8AAIA+AAACABAAZGF0YeoWAABH/Uf9AACO+kf9jvpH/Uf9jvpH/Y76R/1H/Y76R/2O+kf9R/2O+kf9jvoAAAAAR/0AAEf9AABH/QAAR/0AAEf9AAAAAEf9AABH/QAAR/0AAAAAR/0AAI76R/2O+kf9jvpH/Uf9jvrV9476jvqO+o761feO+o76jvqO+o76R/1H/Uf9R/0AAEf9AAAAAHIFuQIrCHIFKwhyBSsIcgVyBbkCuQJH/Uf91ffV92PyHPVj8tX3R/1H/QAAjvqO+mPyY/Kp72PyY/Ic9WPyHPXV99X3R/1H/Y76R/0AAEf9AAByBbkCKwgrCFcQyRWCGGcjICauIDsbuQJ+50LMF8SJyVLfjvqCGGcj9B3kCtX3xeQM4jfqY/IAAHIFAACO+mPyY/Ic9Uf9uQIrCLkCR/1j8mPyY/Jj8o76jvoAAI76jvqO+gAAuQLkClcQnQ2dDXIFcgVH/QAAcgUQEzsbZyOCGHIFfue10RfE+87F5LkCOxsgJoIYKwip78XkxeTw7NX3cgVyBbkCHPWp7zfqY/LV9wAAuQK5AgAA1ffV9xz1jvpH/QAAR/3V9xz1HPVH/XIFEBPJFYIYEBNXEFcQyRU7G64gEBOO+uDZMrnAs17BfudXEL4z6TtLLp0N8Oxu1PvOmdzw7AAAcgVyBUf91ffV9476AAArCHIFuQLV96nvN+qp7xz1AAAAALkCAACO+o76R/25Ap0NVxDJFZ0NnQ0rCJ0NghhnI2cjVxDw7NDGTa4HsYnJR/0gJhVEFURnIwAA4NlCzPvOxeSO+isInQ0rCEf9HPXV90f9uQK5AgAAHPWp7zfqY/KO+gAAKwhyBY76Y/I36qnv1fcrCMkVghiCGJ0NKwhyBRATriAFMUsu5AqZ3E2u9p3bqODZyRVcQSVXXEGCGMXk0Mbru7XR8OzkCskVnQ0AAKnvqe/V9wAA5AorCAAAY/I36jfqY/JH/eQKKwi5Aqnvfud+56nvuQLJFa4gZyMQEysIjvqO+nIFriAFMaI+ZyMc9V7BPZs9m+u71fcFMWxU+U4gJtX3QsykvtDGfudyBckVyRUrCBz1qe9j8gAAKwjkCrkC1ffw7H7nqe+O+rkC5AoAABz1xeQM4n7nHPWdDTsbZyPJFeQKjvpj8kf9VxBLLqI+zkaSK2Py67sSk4SYMrnV9wUx+U5ATNkojvr7zhfEQsw36rkCVxDkCrkCqe/w7Bz1AACdDZ0N5AqO+mPyN+rw7I76uQJyBQAAY/LF5FLfxeTV950NOxuuIMkVKwjV96nv1fdyBa4gMDnORhVEZyPw7MCzhJj2naS+R/1LLkBMzkauII76btTQxm7U8OxyBVcQnQ1H/WPyN+pj8kf95ArkCuQKR/0c9Tfqqe/V90f9cgWO+mPyDOIM4jfqjvpXEK4gZyPJFXIFY/I36vDsAACCGEsuzkZATOk7VxBu1CKmEpOwoPvOnQ0wOflOoj7JFanv+85CzJncY/IrCOQKuQLV9/Dsqe+O+uQKVxAQEysI1fep7zfqY/LV97kCuQKO+jfqUt8M4vDsAACCGPQd9B3kCtX3fucM4qnvuQL0HUsuMDnpO3c2ICa5AifXTa5po02ubtRyBUsuoj4wOTsbjvrg2W7UJ9c36kf9uQIrCAAAHPXV99X3uQJyBXIFcgUAANX3HPUc9Y76AABH/dX3N+oM4sXk8Oy5AhAT9B2CGHIFHPXF5H7nY/JyBRATriBnIyAmkitLLksuVxB+5zK5sKBpoxfE1fdLLodJh0kgJkf9tdEXxInJfucAAOQKVxC5Ahz1N+rw7I76KwgQExAT5AqO+mPyqe8c9Y76uQKO+mPyDOIM4n7nR/1XEDsb9B3kCtX3xeRS337n1fdXEDsbZyMgJtkoBTF3NksunQ3g2U2uy5U9m4nJKwjpO95Zh0lnI6nv0MYyuULMN+orCBATEBNH/fDsN+rw7LkCVxD0HckVKwgc9Tfqfudj8o76uQIAAGPyxeRS38Xk1fdXEK4g9B3kCqnv4Nng2QziR/1XEGcjZyOuIDsbriDZKHc2BTFXEODZIqZZkISYQszkCs5GUF9ATPQdN+qkvjK5Qszw7CsIyRWdDUf98Ozw7Bz15AqCGDsbnQ2O+jfqUt9+59X3uQKdDbkC1ffF5FLfUt9j8isIghg7G50NHPVS3+DZxeSO+hATZyMgJoIYnQ1yBckV2SiiPhVEriDF5Gmju4LmihfE5Ar5TnxnbFSuIMXk67t5tvvO1ffJFYIYnQ0c9X7nxeTV950NriD0HeQKY/KZ3ODZxeRH/VcQOxudDdX3mdwn15ncY/IrCDsbOxsrCBz1xeQM4jfquQJXEDsbyRVyBY76qe9H/ckVoj6zUSVXdzaO+sCzu4IBgCKm8OwFMVBfUF/pO3IF4NmkvtDG4Nkc9QAAuQJH/Rz1jvq5AlcQEBPkCtX3DOLg2VLfHPWdDfQd9B2dDRz1mdxu1ODZHPXkCvQd9B0QE0f98OzF5H7nqe+5AuQKnQ3kCnIFR/1H/bkCyRXZKOk7FUR3NjsbN+oyuYSY9p1ewY76Sy6zUUBMBTEAACfXpL7ru7XRN+oAAOQKVxArCHIFKwgAAAAAY/Lw7AzixeTw7AAAnQ2CGMkVnQ3V9/DsxeR+59X3KwgQE1cQ5ApH/WPy8Oyp7xz1R/25ArkCuQJH/QAAAAByBVcQOxvZKL4zdzaSK1cQ8OxewZSrlKv7zkf9Sy4VROk7yRU36tDGwLMXxFLfcgU7GzsbEBMAANX3qe8c9dX3HPWp7/Dsqe/V950NOxtnI4IYKwip75ncJ9fF5Ef9EBNnIzsb5Aqp7wzimdw36tX35AqdDSsIAAAc9WPy1fcAAFcQOxs7G2cjICaSK2cj9B0AACfXMrmUq+u7mdydDQUxvjOuIEf9mdyJyYnJxeRH/RATyRXkCgAAqe/w7GPyHPWO+o76jvoAAHIFVxDJFckVKwjV98XkUt8M4hz1KwiCGPQdEBO5AvDsfuc36qnvR/25AisIAACO+mPyHPUc9QAA5AoQE4IYyRU7GzsbZyNnI64gKwjF5Ou7Ta7As+DZuQLZKL4zZyO5AsXktdG10X7nR/3kCuQKcgWO+tX3jvpH/bkCR/3V92Py1fcAAFcQyRWdDXIFY/I36n7nY/JH/Z0NVxBXEHIFAADV96nvqe/w7Bz11fcAAAAAcgUAAEf9HPXV9476KwhXEMkVEBOdDXIFKwjJFSAmICYQE/Ds0MYHsaS+mdxyBa4gZyMQE9X3xeRS3/DsR/1yBSsIR/3V92PyjvoAACsIcgWO+hz1Y/KO+nIFnQ1XECsIjvpj8vDsY/KO+gAAcgVyBbkCcgUrCHIFjvqp78XkN+oc9bkCVxCdDQAAHPU36vDs1ffkCskVghidDSsIAAByBRATICYgJskV8OxewcCzpL7F5OQK2SjZKBATjvrF5MXk8Owc9QAAR/2O+hz1AAArCCsIKwiO+qnvfuep70f9KwgQE+QKuQLV9xz1HPVH/Uf9AABH/Y76uQJyBSsIKwiO+mPyxeR+52PycgVXEBATuQIc9X7n8Owc9bkCKwidDXIFcgUAAHIF5AqCGK4gICY7G3IFxeTQxonJmdxj8uQKEBNXELkCHPXV99X3R/3V9xz18Oyp7xz1cgXkCrkCjvrw7PDsqe9H/eQK5ArkCgAAR/1H/Uf9uQIAABz1Y/Ic9bkCnQ0QE50NuQIc9fDsqe9j8o76AAC5AgAAAACO+hz1HPUc9Uf9R/25ArkCcgW5AnIFKwhXEDsbZyNnI8kVAAAM4onJtdHF5NX3cgW5ArkCjvoAALkCcgVH/TfqxeTF5GPyAADkCnIFjvo36vDsY/K5AuQKnQ0rCEf9R/1H/XIFcgUAAI76Y/LV97kCnQ1XEOQKR/0c9WPyHPWO+tX31feO+o76uQK5AgAAHPVj8mPyR/1yBeQK5Aq5Akf91fdH/QAAuQKdDTsb2SggJhATHPXg2YnJbtQ36kf9cgVyBbkCuQK5AnIFR/1j8sXkxeQ36o76uQIrCCsIAABH/Uf9jvqO+tX31fcAAHIFnQ2dDSsIjvoc9anv1feO+nIFuQK5AgAAAACO+tX3Y/Ic9dX3uQK5ArkCR/2O+tX31feO+tX3R/1H/bkCuQJyBQAAAAC5AnIFVxDJFfQdEBO5AvDsxeQM4jfqqe+O+tX3R/0AAOQKKwi5Ahz1qe/w7GPyHPWO+o76R/0AAHIFuQIAAI76jvrV9476uQIAALkCuQIAALkCR/1H/Y76AABH/bkCR/0AAEf91feO+o76AABH/QAAjvpH/Uf9R/3V99X3HPWO+kf9cgW5ArkCuQK5ArkCuQK5AuQKVxCCGMkVnQ1H/anvxeTF5DfqHPXV90f9uQJyBSsIuQKO+tX3qe+p76nvqe/V9wAAuQIrCLkCR/0c9dX3jvqO+gAAR/25AnIFcgVyBQAAR/2O+o76R/1H/Y76AAAAALkCR/1H/dX3R/2O+gAAR/2O+kf9jvpH/Y761fdH/QAAuQK5AgAAuQIAAHIFcgXkCp0NEBMQE3IFjvrw7H7nxeQ36qnvY/LV9wAAKwgrCHIFR/2O+hz1Y/Ic9anvY/LV97kCuQK5Akf9AAAAAAAAR/3V99X3jvpyBXIFcgW5Akf9AABH/Uf91fcc9Uf9R/25Akf9R/2O+gAAAABH/dX31fdH/Uf9AABH/Y76AAC5Akf9R/1H/Y76AABH/Uf9R/0rCFcQOxvJFeQKAADV96nvN+oM4n7nY/LV9wAAuQIrCHIFKwgAANX3qe/w7GPyY/LV9476uQK5AnIFAAAAAI76R/2O+o761fcAALkCuQJyBQAAuQK5AgAA1ffV99X3AAAAAAAAR/25AgAAuQJH/dX3jvqO+tX3jvqO+gAAuQK5ArkCjvpH/Y76jvqO+tX3R/0AAAAAcgVyBeQKVxCdDeQKR/2O+tX3HPU36vDsqe+O+gAAR/25AgAAuQIAANX3HPVj8tX3jvoc9Y76R/25AgAAAAAAAEf9uQJH/Y761fcAALkCAAAAAEf9AABH/Uf91feO+gAAR/1H/dX3R/1H/QAAjvqO+o76uQIAAAAAjvpH/bkCR/1H/Uf9AABH/Uf9jvqO+rkCuQIrCCsI5ApXEOQKAABH/dX3Y/I36vDs8Owc9dX31fcAALkCcgUAAAAAjvqO+tX31fcc9WPyjvpH/Y76AAAAALkCAAC5Akf9AABH/Uf9jvpH/Y76jvqO+o76AAC5Akf9R/0AALkCAAAAAI76AAAAAAAAjvpH/QAAR/0AAEf9AAC5AgAAR/1H/Uf9R/1H/Y76R/1H/XIFuQIrCCsIKwi5ArkCjvrV92PyY/Kp72PyHPXV90f9R/25ArkCuQK5AgAAjvqO+hz11ffV99X3jvoAAEf9uQK5AgAAuQIAALkCR/0AAI76R/3V9476jvpH/Uf9R/1H/Uf9uQK5Akf9uQJH/QAAR/1H/Y76AACO+o76jvoAAEf9AABH/QAAAAC5AgAAcgUrCCsIcgW5AnIFR/2O+mPyHPWp72Pyqe9j8hz1R/2O+rkCcgW5ArkCAABH/Uf91ffV99X31ffV99X3R/1H/bkCAAByBbkCcgUAALkCR/2O+o761ffV9476jvpH/Uf9uQK5AnIFuQJyBbkCAACO+o761feO+tX3jvpH/QAAuQIAAAAAR/0AAI76jvqO+o76jvpH/Uf9R/1H/bkCAAByBXIFcgUAALkCR/2O+hz11fcc9dX3HPWO+o76AABH/bkCcgUAALkCR/0AAI76R/3V94761feO+o761fdH/QAAR/0AAAAAuQJH/Y761fcc9dX3HPUc9Y76jvoAAAAAcgW5ArkCAAC5ArkCAABH/bkCuQIrCCsInQ1XEFcQVxByBUf9R/1j8vDsxeR+537nN+rw7Bz1jvq5ArkCKwjkCisIcgW5Ao761fep76nv8Oxj8mPy1fdH/QAAKwgrCOQKnQ0rCHIFAAAAAEf91ffV99X3jvqO+kf9AAC5ArkCuQIAALkCR/1H/Y76R/2O+o761fdH/Uf9AAAAAEf9uQK5AgAAuQJH/QAAAACO+kf9jvpH/dX3jvpH/Uf9jvoAAEf9AAAAALkCAABH/QAAR/1H/Uf91feO+tX31feO+tX3R/1H/QAAuQK5AgAAuQK5AnIFuQK5AgAAAABH/Uf9jvpH/Y76jvrV9476jvrV9476jvrV99X3HPWO+tX31ffV99X3jvrV9476jvqO+kf9R/0AAAAAcgVyBeQK5AoQExATEBPJFRATEBPkCkf9jvpj8n7nDOIM4gzixeTF5Knv1fcAALkC5ApXEFcQ5AorCHIFjvoc9anvqe/w7PDsY/Ic9Uf9R/1yBSsInQ0rCOQK5ApyBbkCAACO+kf91feO+o761fdH/Y76R/1H/QAAR/0AAEf9R/2O+o76jvpH/Y76R/0AAEf9AAAAAEf9AABH/QAAR/0AAEf9R/2O+kf9jvpH/Uf9jvpH/Y76R/2O+gAAR/0AALkCuQK5AgAAcgUAALkCR/0AAAAAjvqO+tX3jvqO+hz11ffV9xz1jvrV90f9R/2O+gAAR/0AAEf9AABH/QAAjvpH/Y76R/2O+kf9R/1H/Y76R/2O+o76AABH/Y76R/1H/QAAR/0AAEf9AABH/Uf9R/0AAEf9AAAAAAAAuQK5AisI5AorCOQK5AorCCsIAABH/Y761fep76nv8Ozw7Dfqqe9j8tX3jvoAAAAAcgVyBbkCcgUAAAAAjvqO+tX31ffV9xz1jvpH/Uf9AAC5ArkCcgVyBbkCcgUAAAAAAACO+o76jvrV94761feO+o76R/1H/QAAR/25ArkCR/0AAEf9R/1H/Y76R/1H/Y76R/2O+gAAAAAAALkCAAC5ArkCuQJyBQAAuQIAAAAAR/1H/Y76R/3V94761feO+o761feO+o761feO+o76R/1H/Uf9AABH/QAAR/0AAAAAR/1H/Uf9jvpH/Y76AABH/Uf9AABH/bkCAABH/QAAjvpH/Y76R/2O+kf9R/1H/QAAR/0AAEf9AAAAAEf9R/2O+kf9jvpH/Y76AABH/QAAAAByBbkCcgVyBXIFcgUAAAAAjvqO+tX31fcc9dX3HPXV9xz1jvrV90f9jvpH/Uf9AAAAAEf9AACO+o76R/2O+kf9jvpH/Uf9R/1H/QAAR/0AAEf9AAC5Akf9AABH/QAAR/2O+kf9R/1H/Uf9jvoAAI76R/1H/Y76R/2O+kf9jvoAAEf9AABH/QAAR/0AAAAAuQK5AgAAuQIAALkCuQIAAAAAAACO+kf9R/3V94761feO+tX3jvrV90f9jvqO+kf9jvpH/Y76R/1H/Y76R/2O+gAAR/0AAEf9AAAAAEf9AABH/QAAR/2O+kf9jvpH/Y76R/2O+kf9R/1H/QAAjvoAAEf9AABH/QAAAABH/QAAAAC5AgAAuQIAALkCAAC5ArkCAAAAAAAAR/2O+kf9jvqO+tX3jvpH/Uf9R/1H/Y76R/1H/Uf9R/1H/Y76R/1H/Y76R/3V94761feO+o76R/2O+kf9jvpH/Uf9jvoAAEf9AAAAAEf9AAAAAEf9AABH/QAAAAC5AgAAuQIAALkCAAC5AgAAR/0AAEf9AABH/QAAR/0AAI76R/2O+kf9jvqO+o76jvqO+o76jvqO+o76R/2O+kf9R/1H/Uf9R/1H/Y76R/2O+kf9jvpH/Uf9jvoAAEf9AAAAAEf9AABH/QAAR/0AAEf9uQJH/bkCAAC5AgAAAABH/QAAR/0AAAAAR/0AAEf9AABH/Y76R/2O+kf9R/3V90f9jvqO+o76R/2O+kf9jvpH/Y76R/2O+kf9jvpH/Uf9R/2O+kf9R/0AAEf9AAAAAAAA\" type=\"audio/wav\" />\n",
       "                    Your browser does not support the audio element.\n",
       "                </audio>\n",
       "              "
      ],
      "text/plain": [
       "<IPython.lib.display.Audio object>"
      ]
     },
     "metadata": {},
     "output_type": "display_data"
    },
    {
     "name": "stdout",
     "output_type": "stream",
     "text": [
      "Playing poisoned audio 1\n"
     ]
    },
    {
     "data": {
      "text/html": [
       "\n",
       "                <audio  controls=\"controls\" >\n",
       "                    <source src=\"data:audio/wav;base64,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\" type=\"audio/wav\" />\n",
       "                    Your browser does not support the audio element.\n",
       "                </audio>\n",
       "              "
      ],
      "text/plain": [
       "<IPython.lib.display.Audio object>"
      ]
     },
     "metadata": {},
     "output_type": "display_data"
    },
    {
     "name": "stdout",
     "output_type": "stream",
     "text": [
      "Playing clean audio 2\n"
     ]
    },
    {
     "data": {
      "text/html": [
       "\n",
       "                <audio  controls=\"controls\" >\n",
       "                    <source src=\"data:audio/wav;base64,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\" type=\"audio/wav\" />\n",
       "                    Your browser does not support the audio element.\n",
       "                </audio>\n",
       "              "
      ],
      "text/plain": [
       "<IPython.lib.display.Audio object>"
      ]
     },
     "metadata": {},
     "output_type": "display_data"
    },
    {
     "name": "stdout",
     "output_type": "stream",
     "text": [
      "Playing poisoned audio 2\n"
     ]
    },
    {
     "data": {
      "text/html": [
       "\n",
       "                <audio  controls=\"controls\" >\n",
       "                    <source src=\"data:audio/wav;base64,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\" type=\"audio/wav\" />\n",
       "                    Your browser does not support the audio element.\n",
       "                </audio>\n",
       "              "
      ],
      "text/plain": [
       "<IPython.lib.display.Audio object>"
      ]
     },
     "metadata": {},
     "output_type": "display_data"
    },
    {
     "name": "stderr",
     "output_type": "stream",
     "text": [
      "100%|██████████| 600/600 [01:30<00:00,  6.65it/s]\n"
     ]
    },
    {
     "name": "stdout",
     "output_type": "stream",
     "text": [
      "Epoch 0, Loss: 2.019253864089648\n"
     ]
    },
    {
     "name": "stderr",
     "output_type": "stream",
     "text": [
      "100%|██████████| 600/600 [01:30<00:00,  6.63it/s]\n"
     ]
    },
    {
     "name": "stdout",
     "output_type": "stream",
     "text": [
      "Epoch 1, Loss: 1.1483441293736298\n"
     ]
    },
    {
     "name": "stderr",
     "output_type": "stream",
     "text": [
      "100%|██████████| 600/600 [01:29<00:00,  6.67it/s]\n"
     ]
    },
    {
     "name": "stdout",
     "output_type": "stream",
     "text": [
      "Epoch 2, Loss: 0.7368075101325909\n",
      "Test Accuracy: 98.16666666666667%\n",
      "32\n",
      "540\n",
      "ASR: 5.9259259259259265%\n",
      "Clean Accuracy Drop (CAD): 0.8333333333333286%\n",
      "Backdoor Attack Success Rate: 5.9259259259259265%\n",
      "Running experiment with poisoning_rate=0.01 and vibrato_rate=50 and vibrato_depth=0.001\n",
      "Poisoning rate: 0.01, vibrato_depth: 0.001, vibrato_rate: 50 \n"
     ]
    },
    {
     "name": "stderr",
     "output_type": "stream",
     "text": [
      "Some weights of Wav2Vec2ForSequenceClassification were not initialized from the model checkpoint at jonatasgrosman/wav2vec2-large-xlsr-53-english and are newly initialized: ['classifier.bias', 'classifier.weight', 'projector.bias', 'projector.weight']\n",
      "You should probably TRAIN this model on a down-stream task to be able to use it for predictions and inference.\n"
     ]
    },
    {
     "name": "stdout",
     "output_type": "stream",
     "text": [
      "Playing clean audio 1\n"
     ]
    },
    {
     "data": {
      "text/html": [
       "\n",
       "                <audio  controls=\"controls\" >\n",
       "                    <source src=\"data:audio/wav;base64,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\" type=\"audio/wav\" />\n",
       "                    Your browser does not support the audio element.\n",
       "                </audio>\n",
       "              "
      ],
      "text/plain": [
       "<IPython.lib.display.Audio object>"
      ]
     },
     "metadata": {},
     "output_type": "display_data"
    },
    {
     "name": "stdout",
     "output_type": "stream",
     "text": [
      "Playing poisoned audio 1\n"
     ]
    },
    {
     "data": {
      "text/html": [
       "\n",
       "                <audio  controls=\"controls\" >\n",
       "                    <source src=\"data:audio/wav;base64,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\" type=\"audio/wav\" />\n",
       "                    Your browser does not support the audio element.\n",
       "                </audio>\n",
       "              "
      ],
      "text/plain": [
       "<IPython.lib.display.Audio object>"
      ]
     },
     "metadata": {},
     "output_type": "display_data"
    },
    {
     "name": "stdout",
     "output_type": "stream",
     "text": [
      "Playing clean audio 2\n"
     ]
    },
    {
     "data": {
      "text/html": [
       "\n",
       "                <audio  controls=\"controls\" >\n",
       "                    <source src=\"data:audio/wav;base64,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\" type=\"audio/wav\" />\n",
       "                    Your browser does not support the audio element.\n",
       "                </audio>\n",
       "              "
      ],
      "text/plain": [
       "<IPython.lib.display.Audio object>"
      ]
     },
     "metadata": {},
     "output_type": "display_data"
    },
    {
     "name": "stdout",
     "output_type": "stream",
     "text": [
      "Playing poisoned audio 2\n"
     ]
    },
    {
     "data": {
      "text/html": [
       "\n",
       "                <audio  controls=\"controls\" >\n",
       "                    <source src=\"data:audio/wav;base64,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\" type=\"audio/wav\" />\n",
       "                    Your browser does not support the audio element.\n",
       "                </audio>\n",
       "              "
      ],
      "text/plain": [
       "<IPython.lib.display.Audio object>"
      ]
     },
     "metadata": {},
     "output_type": "display_data"
    },
    {
     "name": "stderr",
     "output_type": "stream",
     "text": [
      "100%|██████████| 600/600 [01:30<00:00,  6.62it/s]\n"
     ]
    },
    {
     "name": "stdout",
     "output_type": "stream",
     "text": [
      "Epoch 0, Loss: 2.008988198141257\n"
     ]
    },
    {
     "name": "stderr",
     "output_type": "stream",
     "text": [
      "100%|██████████| 600/600 [01:31<00:00,  6.59it/s]\n"
     ]
    },
    {
     "name": "stdout",
     "output_type": "stream",
     "text": [
      "Epoch 1, Loss: 1.1951769909262657\n"
     ]
    },
    {
     "name": "stderr",
     "output_type": "stream",
     "text": [
      "100%|██████████| 600/600 [01:30<00:00,  6.61it/s]\n"
     ]
    },
    {
     "name": "stdout",
     "output_type": "stream",
     "text": [
      "Epoch 2, Loss: 0.7844676922261715\n",
      "Test Accuracy: 98.5%\n",
      "139\n",
      "540\n",
      "ASR: 25.74074074074074%\n",
      "Clean Accuracy Drop (CAD): 0.5%\n",
      "Backdoor Attack Success Rate: 25.74074074074074%\n",
      "Running experiment with poisoning_rate=0.05 and vibrato_rate=5 and vibrato_depth=0.0005\n",
      "Poisoning rate: 0.05, vibrato_depth: 0.0005, vibrato_rate: 5 \n"
     ]
    },
    {
     "name": "stderr",
     "output_type": "stream",
     "text": [
      "Some weights of Wav2Vec2ForSequenceClassification were not initialized from the model checkpoint at jonatasgrosman/wav2vec2-large-xlsr-53-english and are newly initialized: ['classifier.bias', 'classifier.weight', 'projector.bias', 'projector.weight']\n",
      "You should probably TRAIN this model on a down-stream task to be able to use it for predictions and inference.\n"
     ]
    },
    {
     "name": "stdout",
     "output_type": "stream",
     "text": [
      "Playing clean audio 1\n"
     ]
    },
    {
     "data": {
      "text/html": [
       "\n",
       "                <audio  controls=\"controls\" >\n",
       "                    <source src=\"data:audio/wav;base64,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\" type=\"audio/wav\" />\n",
       "                    Your browser does not support the audio element.\n",
       "                </audio>\n",
       "              "
      ],
      "text/plain": [
       "<IPython.lib.display.Audio object>"
      ]
     },
     "metadata": {},
     "output_type": "display_data"
    },
    {
     "name": "stdout",
     "output_type": "stream",
     "text": [
      "Playing poisoned audio 1\n"
     ]
    },
    {
     "data": {
      "text/html": [
       "\n",
       "                <audio  controls=\"controls\" >\n",
       "                    <source src=\"data:audio/wav;base64,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\" type=\"audio/wav\" />\n",
       "                    Your browser does not support the audio element.\n",
       "                </audio>\n",
       "              "
      ],
      "text/plain": [
       "<IPython.lib.display.Audio object>"
      ]
     },
     "metadata": {},
     "output_type": "display_data"
    },
    {
     "name": "stdout",
     "output_type": "stream",
     "text": [
      "Playing clean audio 2\n"
     ]
    },
    {
     "data": {
      "text/html": [
       "\n",
       "                <audio  controls=\"controls\" >\n",
       "                    <source src=\"data:audio/wav;base64,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\" type=\"audio/wav\" />\n",
       "                    Your browser does not support the audio element.\n",
       "                </audio>\n",
       "              "
      ],
      "text/plain": [
       "<IPython.lib.display.Audio object>"
      ]
     },
     "metadata": {},
     "output_type": "display_data"
    },
    {
     "name": "stdout",
     "output_type": "stream",
     "text": [
      "Playing poisoned audio 2\n"
     ]
    },
    {
     "data": {
      "text/html": [
       "\n",
       "                <audio  controls=\"controls\" >\n",
       "                    <source src=\"data:audio/wav;base64,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\" type=\"audio/wav\" />\n",
       "                    Your browser does not support the audio element.\n",
       "                </audio>\n",
       "              "
      ],
      "text/plain": [
       "<IPython.lib.display.Audio object>"
      ]
     },
     "metadata": {},
     "output_type": "display_data"
    },
    {
     "name": "stderr",
     "output_type": "stream",
     "text": [
      "100%|██████████| 600/600 [01:31<00:00,  6.58it/s]\n"
     ]
    },
    {
     "name": "stdout",
     "output_type": "stream",
     "text": [
      "Epoch 0, Loss: 2.058933386603991\n"
     ]
    },
    {
     "name": "stderr",
     "output_type": "stream",
     "text": [
      "100%|██████████| 600/600 [01:31<00:00,  6.55it/s]\n"
     ]
    },
    {
     "name": "stdout",
     "output_type": "stream",
     "text": [
      "Epoch 1, Loss: 1.2473997779687245\n"
     ]
    },
    {
     "name": "stderr",
     "output_type": "stream",
     "text": [
      "100%|██████████| 600/600 [01:31<00:00,  6.55it/s]\n"
     ]
    },
    {
     "name": "stdout",
     "output_type": "stream",
     "text": [
      "Epoch 2, Loss: 0.8772397935887177\n",
      "Test Accuracy: 97.33333333333334%\n",
      "9\n",
      "540\n",
      "ASR: 1.6666666666666667%\n",
      "Clean Accuracy Drop (CAD): 1.6666666666666572%\n",
      "Backdoor Attack Success Rate: 1.6666666666666667%\n",
      "Running experiment with poisoning_rate=0.05 and vibrato_rate=5 and vibrato_depth=0.001\n",
      "Poisoning rate: 0.05, vibrato_depth: 0.001, vibrato_rate: 5 \n"
     ]
    },
    {
     "name": "stderr",
     "output_type": "stream",
     "text": [
      "Some weights of Wav2Vec2ForSequenceClassification were not initialized from the model checkpoint at jonatasgrosman/wav2vec2-large-xlsr-53-english and are newly initialized: ['classifier.bias', 'classifier.weight', 'projector.bias', 'projector.weight']\n",
      "You should probably TRAIN this model on a down-stream task to be able to use it for predictions and inference.\n"
     ]
    },
    {
     "name": "stdout",
     "output_type": "stream",
     "text": [
      "Playing clean audio 1\n"
     ]
    },
    {
     "data": {
      "text/html": [
       "\n",
       "                <audio  controls=\"controls\" >\n",
       "                    <source src=\"data:audio/wav;base64,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\" type=\"audio/wav\" />\n",
       "                    Your browser does not support the audio element.\n",
       "                </audio>\n",
       "              "
      ],
      "text/plain": [
       "<IPython.lib.display.Audio object>"
      ]
     },
     "metadata": {},
     "output_type": "display_data"
    },
    {
     "name": "stdout",
     "output_type": "stream",
     "text": [
      "Playing poisoned audio 1\n"
     ]
    },
    {
     "data": {
      "text/html": [
       "\n",
       "                <audio  controls=\"controls\" >\n",
       "                    <source src=\"data:audio/wav;base64,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\" type=\"audio/wav\" />\n",
       "                    Your browser does not support the audio element.\n",
       "                </audio>\n",
       "              "
      ],
      "text/plain": [
       "<IPython.lib.display.Audio object>"
      ]
     },
     "metadata": {},
     "output_type": "display_data"
    },
    {
     "name": "stdout",
     "output_type": "stream",
     "text": [
      "Playing clean audio 2\n"
     ]
    },
    {
     "data": {
      "text/html": [
       "\n",
       "                <audio  controls=\"controls\" >\n",
       "                    <source src=\"data:audio/wav;base64,UklGRswOAABXQVZFZm10IBAAAAABAAEAQB8AAIA+AAACABAAZGF0YagOAAD/9K0+YXM8LjL9OpVmwRfORtdrEY729ARD4W0qgDJrL0UbL+Mu+GnXpfgJDFka0hWXEPsSRPSd/ej+BhAtCr/0Ff/C9Afu2u3P/MkNMAj+EtoU2QmY8nnt7Oa66c3pju5s9cwddHd1Q5oSjaeEn7fZyslNEET2GwXE4VoKOTrSJccqJuEe+jbpDPPzDV4TPg1e/LIdeg4xF6EAW/iQ/4rlpABdBO/4e+iv7K8HygzREtEW1g/S8jvqUe5z78v03etB+jHy1CzQepI9jQKvlvao5diC1NIPafdE/uHhZRn1N2MmIxIH3BwEdvGQ/5cMrRB7A8/8AxZgCLQURgBdCNQE6vFw/3n36u2G36b39A5LF14XBw2nAvTr2vH0+ZD1TOnv5lH0PPEUUxd3gjHx5wGAY8Wq3Y3vWA1Q8d3vc91BJ+cw5SuT9YXmdwhG+RsJ8QI9CN/ynRrAHiAWfwVI6PkNuv2sCfL+4vBr3Cnfygr+EiQdKAXXBlb7PO+Q+Zb52PbM5nvy/PIHD2Rv/1OAFEq3OI7C6NjkvwnX+bLsTOGL7so0PiUcFKvi6PjcCxkEwgFIAaX4Y/+GIB8g+h6m/fL+MwIIAccAqvdb7lja//aKCuYbJhRaAIP9Ju1p+cj8ZPrF7JvkffHY9A8Q+GedXBYUsMFXk53tM+2D/3P75eD15n70aTTNJOIJRuUh9uIRcgWW+zn3bu42AjQtVDE0JfLsfurA/xERTQpZ75Dlo9nX/+cYmyUHCfHtBPgZ/5QKBfXX7QHevefK+WAClwqeQbZkoCDX5Q6a0NuQ+wHsMABt2WnpzOynIoMwZQ0Z8dftXRB7BXPzYPOW9RkMTCbXJrIV2Pbs/v8PBhjX80bpTurf6MEIZQ3XGIQAzfH4/HgJKAPS7L3vducn7pD7lvna/SACT1S6WF4PQM30o8r/cPUU+vfvHNGy8JD1ZjoMItD57efY9DQb/AGB9CLtxgHNGrcqASWo+uDxhQdzGngD2utl6MLupwJtBGgTRQXH8bX63w1qBmvuRvH07RL1jvgi97v68eutGhptdj5m922vC8xaEo3zeP5t1SHaJ+puES477P7q8c/mGQ5hG470U+/C9AEHCSCDOPEgS/6r8FT8dQ9oBQfuWeUX8FgDUReHDv/0xepb/MURGAVP84vo7fE5+U0CTvh15g7wpzC7dd0wK+jkp0TiLh/t8zbzO7wz3xL1+iBOMT/1lfCy6jQjehC378XmuvVYHf4gUCYN/OL6gAxFHQwWZeIS22bv3hLiDdL84vR97cr/JhABEff33+xc9V7+rflG8Rfu5fLX/2ULjUoRS3AGPOW90SEH5AAE3K3PNMwE+MEI7CnzCaPtovjJDR8cFPx55X7uyQ9mHos1WRh5+yLxMwIXF6X2Cugk7E4LUgtZ+brxeO7SAf4UhRVR/Bri/fN6BKUBAvEr6O3vXPlrE3hLo1jKBJviCdedDJIB9shLyj3JnQKoCf8hrfu16CEDrxWgIhntheY38p0YcB4rI00YF/hzBvYLBhSJ8xHodvmYCY7+8uLf9MIDqhRFCQMAnvIf71UFcwRj853j0OtP/fQEBAWQGGY+EU35D2XoPNXc9DYAG9Q+0A7Opfz+BJoGsgFj+XMM6Q9uFYn3zO6kAkUVAiAwDO8LmgyUAjEF+QGUCobz/+Qq8j4BUQ9WBsQAQ/k59wQFSQjk+zfwK+xr9sL29/v7AigDBg60Dro0kEA5BG7gRN7XCLX+AdKtx4LYKf3y+vsE/P5g/YILfRqVFa377fMbAaAegA6sBVYC9g25E8IFdv0J63P3bP2SA7UB1frCA5QGYP2I+JwBP/8U/JP13fUV+S0ATgVe/jn5ef/CE3AwjTIS/UTiP+0ZEo8B/MYpvSnbWAOi/D/9W/qcBYAUMBx7E7Dz//SIB+EeeBloEfQCXv6SBUYIRQUJ7y/rnv7iDxQDR/Zp+QEBxgFm/Wz/7Ph09vX+rwMk/E/1/flrAbL+QQP2B3YmqDMQDBT0K+yoB4X0RtGLxjPdggEv9Vv6O/r+CDASOBfcC933P/+QDvwhzxUTAgf2EwogFnID5fAX6qQE6gwWAknzjfMJBo8H1gPV9LX8hwTWAb7+TvTs+iL7c/8a+H31+P4QCnYaxDJzHLXwludR/lUPm+ClymHQ+veT+a3z+P50/p8NdQ/hFnMA7/5mCmMijRwjCu39s/cwAlYAMAYB8jfwIv2UDP8FVvcwABwIvQYN/GD7aAHEAOj+sv4U+CHynvZDAuL8e/iABooS8SrpHcP3r+wa+lYOKeth0I/MsPEzBIPzpfgm9fQGtw6fGQkIIwIRDSkafR5aBLb7J/oLCcYBZwA/9QLxhv1IBcIHXv5KAKQGaAm2/y0EDgNk/Ib13/pg/UP51fYR9D/5L/0TBtEKLQqHHPYZ7/zH7+/8Yglz45/YUOGN+1H4cewV+V769wqXDtwV4gNTBE0S9Bj+GNQEqPzX+2oESgSa9zbtYe4EB48P4QAy+akBsg99Dp0C8vr9+Wz9QgHb/K70Iu2V/nACVvvT9dX+JAuqFKUhugRr9OL2YBD7AIrfz9oM65cA9Ovs9JP3Y/29BEgL5AzK/3gJnxFmIA4N8P1gAlAIOQro+mjy9e5s/1YK1wb6/av+eAsUEzgFH/cf+ej+sgcrAT/5y/Bw9Rr8gPlT82zxVv3vBW0M9hXiDVf+T/2XCjMIre9Q6zfw4vzK9Xnvmu8n8DT6GQj2DxsDGQQEEeQekxCUArP9lAZDBHH6hfqQ9cL8RgZmDMECWf+3BJ8JcwTXAEEDlQceBY39bvxZ8+TvKvIf9/3xXu4K+EP/PgP8CZAWtQ8YA0oCoAw5CFv6F/Qm8yzxwOl49Lj2XPcP93UBsgfOCJ8NDg0YDzUHMAjzAXgB4P2xAqoG7/4F/6L+TQYeAU4BUwKnCMwJOAW5B0gDdP549jb3q/IC77/u8u6W82b38vxIA6QKThFaFJINqgaACpcORgI0+Ef0rfPF8IntdvFG8Wj2oPt9Ao8BLP1nAgMKbQzvB6oEOwetCBAGLgcgBJj+S/yAAjAGNQURBVoGEQkYCfkHCQTq/bj2m/Y59znzhu9k8mv2T/fi+Hz/5AQOB4cOdxLBCtcCtwzhDur9XvLw84v2z+6W7wfwFu3Y8LX6AwDA+5D/KwcsEJQO6QnECFMKNgqnCK8HtQOtAl4DdwYEBbcGGwfhBvkFpAIAAJj+Gfvv9qP3IvPd793v2vVE9lz19/km/x4DegaPDYITXg+xBFYInQrH/y74Evdc8x7sJOx98dTzqvV9+QL/ZwJ6ApAGnwsoDYIL7go1CxMMwgllBXgDagRaBnMEnQCF/l0CzgSvA4QAHf6F/lb9L/kP9RzzM/N99br3SfeA9xr8ZQH7BKIF7wfZDdESkgv3/93/lQGR/Lf35PPi8FTuY/M5+WD3ovYJ+yUBhAJ7BZAK6g5gDKQKHg1jChMIEQWdBM4E7gAEASkEOAUIARAAxgG4/lb9TP0N/IP3lfbw9wH4J/Yk9lb7O/qZ+6oArQQwBs4GBwcoBwkKBgasAYQARgAu/B/3MfYf9ab1ePTg9aL6fv6e/jn/KAMGBn0K4Qr2CZcEMQWNCqwJlAa6AhgDoAIpAsIBXgEc/739s/9h/q78Nv3C/vr7JPgq+EH67fvd+xX9Ov6F/h4BRQOsA8IBkgWkBhsHpATn/QT+MABu/lH4PPck+Df4Zvf991n5LPsB/IH+PgF3AqIFtwjSC4oI8weqCNIHzgT5A+cECQTrAsP/sQLvA68BGv5p/eT7wvqW/RX//Pwx+kb7T/tW/er7TPv3+wf++wA7ASkAYgGKBCQFfwfBAtf9dv2QAIcA9fr69zf2iPj19uX4Ifzo/NL+MAKqBLkDXQa9Bq0ICQjsBUkIwglABpoClQMmBOsCs/9f/wH+w/0i/43/RP4Z/cf9Zv2e+t35F/qB+k78AfyJ+8/8tABaAtcCKwN6AowBNgS5BeECsP8f/3z/+vvt+WP5jfnY+N33NPyb/E78Y/8WAs4CYAQtCPQGQQe6BpIH1wj5B98H3gS5AYn/2gI5BN/+Q/0h/k7+Cv54/Oj6D/nK+WP7/Pxm+535bP3D/+X+x/2Z/8QA8wGgBIwDggOCASMAtQH+ACb7qvlM+8/6ZvtD+7j64PuL/ov+qv8RAaoEbwc+CZcI4gfhCOIH3AfnBGgDNQM9AnMAX//f/lb92/zi/Jv8DfyR/IX+Hf7D+zn5EfoX/Dn9BP6g/XD/2gAzArkBvAHHAhsDewMUAe/+yP5z/YH8Kvzg+1n5VPjf+iz9yv2g/xYE5ASPBVgFcwb5By4HhwYzBlMEYwKxAjYCgAAy/2n/Nv8c/43/QwC6/xf+s/27/sD9Xvxe/CL95fxB/GP9Tv7k/ej+EwLsATYAnf8wAM4ARgAs/1H+Iv0P+zT6efkR+r37v/zl/gAArwEZBC0GSwe9BsIHOAfnBjkGVQUZBMYBIQHHAEn/4v6q/+L+k/9c/2z/y/7//gn/cf6J/7L+0P3n+6D7FPyb/Pr72/xO/pj+AwABASYCCQIjAA//k//a//j89foy+9P7AfzI/BH++P4TAgYE9ATHBM8FawcMCFUHHAS0Ah4DxwKsAU0Arv43/oH+Ff/d/Zb9qP6hAAMCzAErAXb/T/+QAJP/Ev0c+yr6Efxw/cv8BPxz/W0AsQD9/8QAIQFdABT+Ov40/ib9//wB/pP95fx8/zEBCAO5A6oE8QROBWsFkAT+BIcEggNjAjgBqP7N/R3+6v2W/Rz9mP69AFgBZQGnAsEC+wDRAMQADP+T/Rn9i/yb/P37F/yL/FH+LP+y/hz/qP53ACYA/P5W/8j+9f52//z+ZP4C/1MAHgEGALEAtwLiA1IDlQPBBDMEygL8AawBsQAMAKv+Af5R/gf+W/76/30AfwERAekB1wKnAukBNQGNABL/y/43/qP9jf0a/s39bvzd+wz9a/73/eD99P0u/pn//f+g/wn/U/9DAIcADAAP/5cAzAHrAg==\" type=\"audio/wav\" />\n",
       "                    Your browser does not support the audio element.\n",
       "                </audio>\n",
       "              "
      ],
      "text/plain": [
       "<IPython.lib.display.Audio object>"
      ]
     },
     "metadata": {},
     "output_type": "display_data"
    },
    {
     "name": "stdout",
     "output_type": "stream",
     "text": [
      "Playing poisoned audio 2\n"
     ]
    },
    {
     "data": {
      "text/html": [
       "\n",
       "                <audio  controls=\"controls\" >\n",
       "                    <source src=\"data:audio/wav;base64,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\" type=\"audio/wav\" />\n",
       "                    Your browser does not support the audio element.\n",
       "                </audio>\n",
       "              "
      ],
      "text/plain": [
       "<IPython.lib.display.Audio object>"
      ]
     },
     "metadata": {},
     "output_type": "display_data"
    },
    {
     "name": "stderr",
     "output_type": "stream",
     "text": [
      "100%|██████████| 600/600 [01:31<00:00,  6.55it/s]\n"
     ]
    },
    {
     "name": "stdout",
     "output_type": "stream",
     "text": [
      "Epoch 0, Loss: 2.0865074503421783\n"
     ]
    },
    {
     "name": "stderr",
     "output_type": "stream",
     "text": [
      "100%|██████████| 600/600 [01:31<00:00,  6.55it/s]\n"
     ]
    },
    {
     "name": "stdout",
     "output_type": "stream",
     "text": [
      "Epoch 1, Loss: 1.5077149592836698\n"
     ]
    },
    {
     "name": "stderr",
     "output_type": "stream",
     "text": [
      "100%|██████████| 600/600 [01:31<00:00,  6.56it/s]\n"
     ]
    },
    {
     "name": "stdout",
     "output_type": "stream",
     "text": [
      "Epoch 2, Loss: 1.046405323644479\n",
      "Test Accuracy: 98.33333333333333%\n",
      "1\n",
      "540\n",
      "ASR: 0.1851851851851852%\n",
      "Clean Accuracy Drop (CAD): 0.6666666666666714%\n",
      "Backdoor Attack Success Rate: 0.1851851851851852%\n",
      "Running experiment with poisoning_rate=0.05 and vibrato_rate=20 and vibrato_depth=0.0005\n",
      "Poisoning rate: 0.05, vibrato_depth: 0.0005, vibrato_rate: 20 \n"
     ]
    },
    {
     "name": "stderr",
     "output_type": "stream",
     "text": [
      "Some weights of Wav2Vec2ForSequenceClassification were not initialized from the model checkpoint at jonatasgrosman/wav2vec2-large-xlsr-53-english and are newly initialized: ['classifier.bias', 'classifier.weight', 'projector.bias', 'projector.weight']\n",
      "You should probably TRAIN this model on a down-stream task to be able to use it for predictions and inference.\n"
     ]
    },
    {
     "name": "stdout",
     "output_type": "stream",
     "text": [
      "Playing clean audio 1\n"
     ]
    },
    {
     "data": {
      "text/html": [
       "\n",
       "                <audio  controls=\"controls\" >\n",
       "                    <source src=\"data:audio/wav;base64,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\" type=\"audio/wav\" />\n",
       "                    Your browser does not support the audio element.\n",
       "                </audio>\n",
       "              "
      ],
      "text/plain": [
       "<IPython.lib.display.Audio object>"
      ]
     },
     "metadata": {},
     "output_type": "display_data"
    },
    {
     "name": "stdout",
     "output_type": "stream",
     "text": [
      "Playing poisoned audio 1\n"
     ]
    },
    {
     "data": {
      "text/html": [
       "\n",
       "                <audio  controls=\"controls\" >\n",
       "                    <source src=\"data:audio/wav;base64,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\" type=\"audio/wav\" />\n",
       "                    Your browser does not support the audio element.\n",
       "                </audio>\n",
       "              "
      ],
      "text/plain": [
       "<IPython.lib.display.Audio object>"
      ]
     },
     "metadata": {},
     "output_type": "display_data"
    },
    {
     "name": "stdout",
     "output_type": "stream",
     "text": [
      "Playing clean audio 2\n"
     ]
    },
    {
     "data": {
      "text/html": [
       "\n",
       "                <audio  controls=\"controls\" >\n",
       "                    <source src=\"data:audio/wav;base64,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\" type=\"audio/wav\" />\n",
       "                    Your browser does not support the audio element.\n",
       "                </audio>\n",
       "              "
      ],
      "text/plain": [
       "<IPython.lib.display.Audio object>"
      ]
     },
     "metadata": {},
     "output_type": "display_data"
    },
    {
     "name": "stdout",
     "output_type": "stream",
     "text": [
      "Playing poisoned audio 2\n"
     ]
    },
    {
     "data": {
      "text/html": [
       "\n",
       "                <audio  controls=\"controls\" >\n",
       "                    <source src=\"data:audio/wav;base64,UklGRlIRAABXQVZFZm10IBAAAAABAAEAQB8AAIA+AAACABAAZGF0YS4RAAAzAOH/QADx/wwA+/8TAPn/8//n/+//6//6//b////0/wAAAADy/+f/6v/v/+L/6//t/wUA1f8IAGf/QgCQ+iT8wAGuAAQDegERAdkBpwCDAJsB5gAMANH/Kv/S/6T+ff+a/6UArf7z/3H/twDr/xkAMwBSACEAs//m/24A1P9v/5T/2P5Z/48B+f7lALQA/v8QAGIAjP9RACP/Yv+c/ln9EP+g/oAATwGZAFoBcwE2AXgAJQGv/xAA3v8b/23/Zv9Z/4f/nP9A/4wAHgGqAIIAhQGLABwAPwAkAOAAQQCX/s4AZf8v/w0Asf8I/1oA7/9l/3YAyACa/+AAEADs//YAKf/k/+H/8f8Y/nAB4/45/gYBfv89ACUAHwEbAf4E3voeA6cIFf5y//z8C/q6Azj/y/lgB/UFlf4eAPH9Cv0YAysCvfeUBksAnv9vAIX6Lwcw+XsBo/lgBS4Ge/yJAaX/vAQaAH7ywAWe/vAGr/df/4gIhfz4AJz9uwIJB4D6n/vP+z4Hifdy+nwItPt8A7X/t/zJAXEDJ/3S/nUMvvsr/2//tf/n/ZD9MwDkAj4IxgAT9YgFqwNG/lX83/5sAOv9DgBj9eP/wAc5+6wAJQEGA54DewHn/4f/bQbHAPn7ff1U/KX+3/w2+4j8dABAATj/MQBPAS8EDgeRAKP+3AUEA4j+8P5V/WL8av+L/Or4YP8bAqz5qfkoBlwBuQLA/vYCgQMg/9IESP/u/uoBMwDl/9n/bwCS/J37fgBF/1T+EAJe/0EBmQBWASoCvvsuA1kBF/+k/xIC4AMS/0MAxQLsAToBW/8C/6UAAADv/c78hvz+/ksAQ/88/Wz+rAKuAEUBAQBl/x0ARAES/wj9wP4xAFj/Mf5J/Wj+EQEfAU/+Qv4aAkEC9wAM/3D/AQRYBe0BZwC0Av8EzAR8AnkA+QEKBFICMP5f//gAXQHSAtT+Tf76ANQBQgA+/vL9P//H/o38tfq4+GP6APsp+T74rfc5+d75B/nX+O75y/sm/YP9Hv8EAHf/pwKNA1YDRgOABSQI2wfzB+QIJgrrCwcNXgwbC4QKqQysDZAKfwc7CMwJAwmMB5QGgwV2BX0FBQRaAvcAXAAAAAr8d+1O1s/PBNtN11bH3MFxy4zaZ+Fj4F7mDPdtCi0XFxYPGZEn1zLaMAcl4B/WIHIcmREKBz4FmwomCOj7fftuCNIQHBNlEyAYUB/UIgwhMRxDGxYhJyJjIigRv8pBlx7WouKNowGA5YHjy3DTGL6NxCXZixG+M0MvzyVULvRQWl/xMeEKPxGaD8sBOtqqxMzM1NlW7ILastce/4Mi1jPFMCs30kdqUO5NSDzlJesffRvxDNb5nel676H56f1ZBaPdDYw/tiH0XNdbqDOcyc4a813pC9vR3w4E3y0iNVYiuRcCLZlN+0AdE+fr6OX9APTzmcoot+rJ4vcp++DnOeqODZo/4ESsN4kyKD28UKZEFCgvEfAMrBNZCVf1Ve2H+UER2AEWs3qZSdLL6cPGBqCgqf3YY/AC7dnhfOrNGDM9TTmRHkEbQj4dSlIuKwot6/7VwuRv7BTDsLAczEfuZfg+9gICfBZMORtSQEi0N/U5XEySRO8kVA8qBMYG9wTh+TXzE/nsBP7Wkp5SwPffldGatZmvos8g5Zjyo/Fa7w4LBy0JOXIlgh2TL8w3Bi7RE4r9+O2Z0OfHJs6xynHKOtRZ6oH8GRGTHr0jXDrfSvdO80K4OAc5WC2QI9kOLvzQ+kz8wwMBAdb2rcGxpQ/RTNnxxHSw0Lj/0q3k9PEx7zr50RN+L+4z3CZDK64uvzJSK9sUMf7U6m/lPr2/wLfPD8vr2GHofPwdC8Mgry+rNNxBvkdrRNo2WTBkIw4W/Q1p+Unz6u/b+swDz/5Dz8OrvMs83x3b4cbzvb3L6+Vb/b35Afn+BbQjWzOhLhoslyGPJM8nuByzBYjtJN42xI7J99X90znWKuX9/HsMFyWqJRIp3DmHQntBQjB+KWsdUBV8DmgBWPXj8hP9dgfJCRbUe7Rvyn/a0OX50KvCsMEx2Z/32/+P/csAoBR4Jpo2ejYlJ94ehR1/Hd0LSOyS277TB9gM38HdxtrQ5Bb6dQ1FHvkiFSTsKY80vzcHLoAj1xYqDqAKoQYn/8P52PtpAeAPcweB1DHFkcxW2HTfSdf7yJPBRdWu8B4CBwdxCc4OABw7Ndg72zGCIRAWZRAUDcsGJPJizxC+uchv2BTqEe6j7BDxiAnrITcqyTFHLTcpYSsOMEAs/R81EcoBZPzn/b4AU//zAdIIneqpzPvPMtWv2/HdXNm5zvHP2eEZ9PUCBgzUD68Q8RubKksvnCxxImoUwgcEBK8AG+0Z2HLQ4s/B2tHppPEd8476CgXvEbIjSy3ELOUnsievJSAjpCBkFXIHRP5n+U/4mPt6AD4F7Aer9XrdvdQp1r7gNebZ5OrXU89n1/zkdfpjCVgQ7A3sDHwX8yJKK10qDCCjEb4EJPxD95ryzeub487cpdwd42jutPrEA3MIiAp3EKAYxyG+JhgnsyH5GJsT4w+9DVYKCwUB/ur4ZPnk/j0G+wysDaz77ORf3NbZvt/E5rTnWuBK1qnUmduU62//6gxfEC4OKg8RFWIfMim8Kh0ivBNJBvj9H/yP/SH2uOMy1sTR4tXH5N31FgBgAZ8BJAPvCKAXdibELfsrzSR3G88SUhEAEu0OzweZ/c7zgu7r8pr9kwg2EQkPHPxw5kbc2Nue4yHutPCy5yHZZdID1VXi4/f/CrMTyRG9DUANuRIdIN0qtiooIPYQ7QH19+/2jvvq+Tbru99Y1ijUFt938Hv/jwbKCOIHPAaXC28XDiNsKtgp5CLuFoMM1wlFCAYJRQdpAW34D/FA8k739QDfDGEViRJIAYHvs+Nh3nfi4upK72LrfuEA2ezVh9vX68H+IQ1BE5USBw/GDFcSuBt0InQj/hyrEXcDCPkf9qr3zfrm+BLtLeH32vrYH+Oc8ZkBCgpACjIJfATwBh8QphsQJYcndSOMGbINZQY+Aw8DOgVkA7z/m/fE8mLzYvhzAtENZBa2Fi8MGPyP7ZDk2eJd52Ltq+476ZvgCtnI1xfgzO6k/2IMwBICE/UPOg5nENAVWRy9H0kdChTgBn/8bfKv7+Hwr/HL8VfvTewE6tfp8u7n94sAkgkEDsYPsA4BDl4QiRIPFysZgxdKEiMK3QES/FP5lfpO/dH9uP7J/N38V/1aAdIHqA7jEx8THAtz/mvxuugg5SDmgepP7P3q/+UQ4eDfsOQj8If9QwnHEP4StRHRD5MPXBINFuYYSBjCEe0Ihv9S+ZP2nvaT9yTzkeve5STi7eLU6j71gQCyBt0JYwqqB94K6w/hFt8cRh+NHX4WEQ54B2ICkQAqAe8AZgCn/I76dvgJ+Wn+fgWDDAgRIhHwCvb/8vRJ7XzpyemG7OvtsexH6EfkLOI95Z7ue/o0BiINxg+kDkEMjQwjDwYTfBWyFB8QWgg0AL348fL08fHyEPN783LxF/ED8P/ya/kY/4gHDQy1DmoP/A5dEIwQxxGmEbMOiwrgBD3/afoT+K34GfoZ/Af+1P7T/24BfAQcCKkLSg81EQYRMw4XCIgAxfcU8CXrFudI5rTkUuPc4lHjK+dq7Dj1XP0eBasK8A00EJsRchMiFNwTsRGdDdIHx/4D+M3yHvDW8HHyZ/QP9Sn3WPql/SoDUgjHDNUOJQ/2DUgLSgmdB5AFjwN0Aez97vkT+N/3nPli/XEBIgXiB9UJKQtYDDkOKg9bDxQOzwsbCEMDsPym9BntIeel46PiouPy5Vvou+vL72f1UftLAh0JAQ3wD/kPRQ+jDRcM1wmWBywEC/4S+H70tPLR9E74hPwJ/8kBogP/BBQHLwnNCfUI0gbUAvz+cvwR+/360vz7/WL+tP83AcUCZwbKCuINPQ9jEOkOiwx1CpgHjQUXBAICa/8B/dX6avmu+N/3PvYL9P3wwe3i63frdOx47zHy6fTX9nD56vtv/w8D9gWsB1QItgfmBnoGZAaPBl0GggVMBMYDHQSQBT8HZQkfCTIJZwc+BWIDgAExALT+8Pwr+xP6Ufqn+979L//t/y4BtQFJAtsC5wNIAxEDfgJdASwAUf/M/nX+p/4W/gD+3v2Q/Zb9Iv7R/W/83Poo+RX30Pb89pL3cvhJ+d/5aPp7+xH9Dv/qAMsBNAImAkEC3AKtA28EFwVoBUcFoQWNBbkGWAe5B8cHsQZPBUcDmQHfAFcArQD0AHcAzP+Q/9L/EwEIAvsCDgN1AsYA3v8o/zT/cP8L//n9zPy9+2r72PyU/bz+b/+L/1n/Y/+l/7f/Rv8m/gv9Uvzt+977P/xH/BD8cPwM/B/9w/4D/5r/MABT/+H+E/+4/lP/BADM/6D/PQC3//j/LAF+AdAC0wOMA4UDnwOAA8UDHwQ1BHkEcQTyAwoEKQRiA0oCdQJFAUMA5f/u/+n+hv45/gP++P0r/gL+Zv7+/vj+of4j/mX9G/1H/Ur98P3x/c3+Pv4c/oH9Hv2g/b7+qv8NACoAp/96/+3/9f/dAP4AcQDc/zgAbP8MAAQASwDK/+r/Nf/s/lj+BP6F/tj+Uv8fAM0ATAEFAmIClgIvAz4DNAO3A6EDJwNeA9cCWgIFAyoDxAInAtcBjwAOAPj/D//R/o3+5v2T/T/9f/yZ/J38OPxM/Ir8X/wa/e39cv6y/lz/1v9dAO4AwQBpAMgABgE6AYUBTwEwAcEAaQDk/8//Tf9I/4D/g//E/8b/ev+O/3v/sP8cAPb/YgAiANgBIgAKBPn/EwAcA1gAUwFXARMCTQB0AjMBHgHi/+n/jgCk/0gA7//e/3/+D//p/R/+x/0l/rD9U/7t/b39+f0j/iH+Zv6v/hH/eP/S/+z/KQB6AGEAUgByAJwA2wA9AUsB8gAcAb8A2gDUAK4AYAAeAB4Auf/Q/37/c/8/ACYAz//y/8T/4/9gAMkAnACXAB8BKgFGAYQBXAGcAdQBrgFMAfQApgAbAOv/9f9EAF0A+P+W/3b/Ef/x/f79kP4j/lr+uv4g/qb+wf6p/sX+u/7O/v/+M/9D/zn/qP/Q/53/4P/8/97/CgCc//n/hwDF/9AATQGHAaQBvwF9AUcBSgEJAdYA9gDmAB0BVwHZAMAAqABtAJ0ASwBQACUAXgAIAOP/EwDu/8D/tf+y/+n/iv/F/1z/KQB7/5z/xf/p//T/9P8dAFMAggCGAE0AUwBQAO3/yP8yAMb/MgAKAB0AzP+//4H/OP8O//L+BP9D/3b/MP9g/yr/o/+y/5L/1P/U/+//DwD//x0AHwDk/xgAMwA+AHcAnQDlABYB2QAfAbsAhQBxACgAAADd/7X/2P/F//r/0/+f/woADABEAC4AhQCeAGsAOAAHANb/n/9W/0j/jf+W/9b/mv+y/4b/lf98/0b/Kv/M/oX+ov7b/tj+t/7i/tv+6/4b/z//k//H/63/9f8DAPj/KAA4ABoASACVAJ0AqgBpAG4ATAA/ABoAPQCOAIUAqACGAGIAWgCoALMAegBuAIEAuwDaAO8ApQCPAC8A5wCSAHYAiQBuAI0AfwB8ADEA4//G/67/cv9T/0v/B/8p/0v/Iv9M/1T/oP8Z/1f/Hv/V/i3/K/8m/0v/n//y/xQACwAbAAAARwCqAFMARQBWAD4AQwAYAG8AYQCGAFIAigBZADMAPwAEAN7/HAAQAAIAHgAAAM7/7v89AGIAXgBSAGsAVQA6APf/zf/O/5b/hP+k/5//pv/H/6v/4//S/7n/uP/n/87/ff9r/23/+/8CAJH/qP+m/07/XP90/4L/nv/H/3H/Vv8o/1v/gP+B/6f/wf/z/83/2f+a/yYAWgBNADMAjQA=\" type=\"audio/wav\" />\n",
       "                    Your browser does not support the audio element.\n",
       "                </audio>\n",
       "              "
      ],
      "text/plain": [
       "<IPython.lib.display.Audio object>"
      ]
     },
     "metadata": {},
     "output_type": "display_data"
    },
    {
     "name": "stderr",
     "output_type": "stream",
     "text": [
      "100%|██████████| 600/600 [01:31<00:00,  6.53it/s]\n"
     ]
    },
    {
     "name": "stdout",
     "output_type": "stream",
     "text": [
      "Epoch 0, Loss: 2.050859846274058\n"
     ]
    },
    {
     "name": "stderr",
     "output_type": "stream",
     "text": [
      "100%|██████████| 600/600 [01:31<00:00,  6.54it/s]\n"
     ]
    },
    {
     "name": "stdout",
     "output_type": "stream",
     "text": [
      "Epoch 1, Loss: 1.4618480525414148\n"
     ]
    },
    {
     "name": "stderr",
     "output_type": "stream",
     "text": [
      "100%|██████████| 600/600 [01:31<00:00,  6.56it/s]\n"
     ]
    },
    {
     "name": "stdout",
     "output_type": "stream",
     "text": [
      "Epoch 2, Loss: 1.0476299725472926\n",
      "Test Accuracy: 97.5%\n",
      "140\n",
      "540\n",
      "ASR: 25.925925925925924%\n",
      "Clean Accuracy Drop (CAD): 1.5%\n",
      "Backdoor Attack Success Rate: 25.925925925925924%\n",
      "Running experiment with poisoning_rate=0.05 and vibrato_rate=20 and vibrato_depth=0.001\n",
      "Poisoning rate: 0.05, vibrato_depth: 0.001, vibrato_rate: 20 \n"
     ]
    },
    {
     "name": "stderr",
     "output_type": "stream",
     "text": [
      "Some weights of Wav2Vec2ForSequenceClassification were not initialized from the model checkpoint at jonatasgrosman/wav2vec2-large-xlsr-53-english and are newly initialized: ['classifier.bias', 'classifier.weight', 'projector.bias', 'projector.weight']\n",
      "You should probably TRAIN this model on a down-stream task to be able to use it for predictions and inference.\n"
     ]
    },
    {
     "name": "stdout",
     "output_type": "stream",
     "text": [
      "Playing clean audio 1\n"
     ]
    },
    {
     "data": {
      "text/html": [
       "\n",
       "                <audio  controls=\"controls\" >\n",
       "                    <source src=\"data:audio/wav;base64,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\" type=\"audio/wav\" />\n",
       "                    Your browser does not support the audio element.\n",
       "                </audio>\n",
       "              "
      ],
      "text/plain": [
       "<IPython.lib.display.Audio object>"
      ]
     },
     "metadata": {},
     "output_type": "display_data"
    },
    {
     "name": "stdout",
     "output_type": "stream",
     "text": [
      "Playing poisoned audio 1\n"
     ]
    },
    {
     "data": {
      "text/html": [
       "\n",
       "                <audio  controls=\"controls\" >\n",
       "                    <source src=\"data:audio/wav;base64,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\" type=\"audio/wav\" />\n",
       "                    Your browser does not support the audio element.\n",
       "                </audio>\n",
       "              "
      ],
      "text/plain": [
       "<IPython.lib.display.Audio object>"
      ]
     },
     "metadata": {},
     "output_type": "display_data"
    },
    {
     "name": "stdout",
     "output_type": "stream",
     "text": [
      "Playing clean audio 2\n"
     ]
    },
    {
     "data": {
      "text/html": [
       "\n",
       "                <audio  controls=\"controls\" >\n",
       "                    <source src=\"data:audio/wav;base64,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\" type=\"audio/wav\" />\n",
       "                    Your browser does not support the audio element.\n",
       "                </audio>\n",
       "              "
      ],
      "text/plain": [
       "<IPython.lib.display.Audio object>"
      ]
     },
     "metadata": {},
     "output_type": "display_data"
    },
    {
     "name": "stdout",
     "output_type": "stream",
     "text": [
      "Playing poisoned audio 2\n"
     ]
    },
    {
     "data": {
      "text/html": [
       "\n",
       "                <audio  controls=\"controls\" >\n",
       "                    <source src=\"data:audio/wav;base64,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\" type=\"audio/wav\" />\n",
       "                    Your browser does not support the audio element.\n",
       "                </audio>\n",
       "              "
      ],
      "text/plain": [
       "<IPython.lib.display.Audio object>"
      ]
     },
     "metadata": {},
     "output_type": "display_data"
    },
    {
     "name": "stderr",
     "output_type": "stream",
     "text": [
      "100%|██████████| 600/600 [01:31<00:00,  6.58it/s]\n"
     ]
    },
    {
     "name": "stdout",
     "output_type": "stream",
     "text": [
      "Epoch 0, Loss: 2.06849611779054\n"
     ]
    },
    {
     "name": "stderr",
     "output_type": "stream",
     "text": [
      "100%|██████████| 600/600 [01:31<00:00,  6.53it/s]\n"
     ]
    },
    {
     "name": "stdout",
     "output_type": "stream",
     "text": [
      "Epoch 1, Loss: 1.5911519367496172\n"
     ]
    },
    {
     "name": "stderr",
     "output_type": "stream",
     "text": [
      "100%|██████████| 600/600 [01:31<00:00,  6.53it/s]\n"
     ]
    },
    {
     "name": "stdout",
     "output_type": "stream",
     "text": [
      "Epoch 2, Loss: 1.158729336063067\n",
      "Test Accuracy: 97.5%\n",
      "449\n",
      "540\n",
      "ASR: 83.14814814814815%\n",
      "Clean Accuracy Drop (CAD): 1.5%\n",
      "Backdoor Attack Success Rate: 83.14814814814815%\n",
      "Running experiment with poisoning_rate=0.05 and vibrato_rate=50 and vibrato_depth=0.0005\n",
      "Poisoning rate: 0.05, vibrato_depth: 0.0005, vibrato_rate: 50 \n"
     ]
    },
    {
     "name": "stderr",
     "output_type": "stream",
     "text": [
      "Some weights of Wav2Vec2ForSequenceClassification were not initialized from the model checkpoint at jonatasgrosman/wav2vec2-large-xlsr-53-english and are newly initialized: ['classifier.bias', 'classifier.weight', 'projector.bias', 'projector.weight']\n",
      "You should probably TRAIN this model on a down-stream task to be able to use it for predictions and inference.\n"
     ]
    },
    {
     "name": "stdout",
     "output_type": "stream",
     "text": [
      "Playing clean audio 1\n"
     ]
    },
    {
     "data": {
      "text/html": [
       "\n",
       "                <audio  controls=\"controls\" >\n",
       "                    <source src=\"data:audio/wav;base64,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\" type=\"audio/wav\" />\n",
       "                    Your browser does not support the audio element.\n",
       "                </audio>\n",
       "              "
      ],
      "text/plain": [
       "<IPython.lib.display.Audio object>"
      ]
     },
     "metadata": {},
     "output_type": "display_data"
    },
    {
     "name": "stdout",
     "output_type": "stream",
     "text": [
      "Playing poisoned audio 1\n"
     ]
    },
    {
     "data": {
      "text/html": [
       "\n",
       "                <audio  controls=\"controls\" >\n",
       "                    <source src=\"data:audio/wav;base64,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\" type=\"audio/wav\" />\n",
       "                    Your browser does not support the audio element.\n",
       "                </audio>\n",
       "              "
      ],
      "text/plain": [
       "<IPython.lib.display.Audio object>"
      ]
     },
     "metadata": {},
     "output_type": "display_data"
    },
    {
     "name": "stdout",
     "output_type": "stream",
     "text": [
      "Playing clean audio 2\n"
     ]
    },
    {
     "data": {
      "text/html": [
       "\n",
       "                <audio  controls=\"controls\" >\n",
       "                    <source src=\"data:audio/wav;base64,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\" type=\"audio/wav\" />\n",
       "                    Your browser does not support the audio element.\n",
       "                </audio>\n",
       "              "
      ],
      "text/plain": [
       "<IPython.lib.display.Audio object>"
      ]
     },
     "metadata": {},
     "output_type": "display_data"
    },
    {
     "name": "stdout",
     "output_type": "stream",
     "text": [
      "Playing poisoned audio 2\n"
     ]
    },
    {
     "data": {
      "text/html": [
       "\n",
       "                <audio  controls=\"controls\" >\n",
       "                    <source src=\"data:audio/wav;base64,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\" type=\"audio/wav\" />\n",
       "                    Your browser does not support the audio element.\n",
       "                </audio>\n",
       "              "
      ],
      "text/plain": [
       "<IPython.lib.display.Audio object>"
      ]
     },
     "metadata": {},
     "output_type": "display_data"
    },
    {
     "name": "stderr",
     "output_type": "stream",
     "text": [
      "100%|██████████| 600/600 [01:31<00:00,  6.58it/s]\n"
     ]
    },
    {
     "name": "stdout",
     "output_type": "stream",
     "text": [
      "Epoch 0, Loss: 2.055809995830059\n"
     ]
    },
    {
     "name": "stderr",
     "output_type": "stream",
     "text": [
      "100%|██████████| 600/600 [01:30<00:00,  6.61it/s]\n"
     ]
    },
    {
     "name": "stdout",
     "output_type": "stream",
     "text": [
      "Epoch 1, Loss: 1.6395858226219813\n"
     ]
    },
    {
     "name": "stderr",
     "output_type": "stream",
     "text": [
      "100%|██████████| 600/600 [01:30<00:00,  6.65it/s]\n"
     ]
    },
    {
     "name": "stdout",
     "output_type": "stream",
     "text": [
      "Epoch 2, Loss: 1.23205964371562\n",
      "Test Accuracy: 95.33333333333334%\n",
      "534\n",
      "540\n",
      "ASR: 98.88888888888889%\n",
      "Clean Accuracy Drop (CAD): 3.666666666666657%\n",
      "Backdoor Attack Success Rate: 98.88888888888889%\n",
      "Running experiment with poisoning_rate=0.05 and vibrato_rate=50 and vibrato_depth=0.001\n",
      "Poisoning rate: 0.05, vibrato_depth: 0.001, vibrato_rate: 50 \n"
     ]
    },
    {
     "name": "stderr",
     "output_type": "stream",
     "text": [
      "Some weights of Wav2Vec2ForSequenceClassification were not initialized from the model checkpoint at jonatasgrosman/wav2vec2-large-xlsr-53-english and are newly initialized: ['classifier.bias', 'classifier.weight', 'projector.bias', 'projector.weight']\n",
      "You should probably TRAIN this model on a down-stream task to be able to use it for predictions and inference.\n"
     ]
    },
    {
     "name": "stdout",
     "output_type": "stream",
     "text": [
      "Playing clean audio 1\n"
     ]
    },
    {
     "data": {
      "text/html": [
       "\n",
       "                <audio  controls=\"controls\" >\n",
       "                    <source src=\"data:audio/wav;base64,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\" type=\"audio/wav\" />\n",
       "                    Your browser does not support the audio element.\n",
       "                </audio>\n",
       "              "
      ],
      "text/plain": [
       "<IPython.lib.display.Audio object>"
      ]
     },
     "metadata": {},
     "output_type": "display_data"
    },
    {
     "name": "stdout",
     "output_type": "stream",
     "text": [
      "Playing poisoned audio 1\n"
     ]
    },
    {
     "data": {
      "text/html": [
       "\n",
       "                <audio  controls=\"controls\" >\n",
       "                    <source src=\"data:audio/wav;base64,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\" type=\"audio/wav\" />\n",
       "                    Your browser does not support the audio element.\n",
       "                </audio>\n",
       "              "
      ],
      "text/plain": [
       "<IPython.lib.display.Audio object>"
      ]
     },
     "metadata": {},
     "output_type": "display_data"
    },
    {
     "name": "stdout",
     "output_type": "stream",
     "text": [
      "Playing clean audio 2\n"
     ]
    },
    {
     "data": {
      "text/html": [
       "\n",
       "                <audio  controls=\"controls\" >\n",
       "                    <source src=\"data:audio/wav;base64,UklGRkwcAABXQVZFZm10IBAAAAABAAEAQB8AAIA+AAACABAAZGF0YSgcAADy/8n/6P/w/+7/FADq/8H/DADu/wQAQQDs/wQANQAeAEUALgCt/wIADgDB/9j/7P/L/9T/6v/g//z/tf/W/xIAPQA1AOj/9P8iAOL/BABPAO7/u/8aAO7/uf8eAAYA8v89ACwAOwAzACoA3v/4/zsA3P+S/73/4P/S/zMAHgAYABgA4P8uAFEA8v+3/zMAhgAQAAAAbgAUAPz//P/4/7n/mP/o/83/z//s//b/zf8SAKMALgAcAAQA/v8sAN7/Y/9L/48ApwCK/3j/aAAKAPT/GADk/ub/cwE/AK3/eACO/xgAtQBRAOz/Yf9DANwAhgBdAAIAAADtAJ0Aiv89AMP/Yf/9AFEAiP9kAJD/QP8kAGn/HgD4/2P/AAB0/2n/7QA1AHT/aABDAJD/aAA1AOn+QwAkAHr/2ACn/5L/AQGz/7v/DgDD/zsACgC9/xYA+P8xAIL/Tf+GAFX/af9qAAQAjv83ACwB2P9T/0IBoP/n/uoAHP8B/7UA4v58/3QA//7U/6MAlP9wAJMA8v8gADcAlQCl/3j/HgFV//D/wQFHAHz/4P9+/3H/0ABkAA4A6gDN/3IATQFT//v+igCTAED/agAKAGYA5ABF/60AjADE/mUBSQDS/w0BOwCmAT7/7f77AAgARf8MACoAy/+rALX+h/4XAcj+dP9dAHj+JgDUAH7/+P+tAHIA7P8EAPT/TwAoAKD/u/9r/yoAgv9A//L/uf8+/0n/HgAIAMD+sf/uAb7+jf4wATD/rwBaAgAAeP4eAMoAKP+I/6kA/P8k/6H+CgA5AEn/OwCnADT/Df9PAGkBDAAg/7kAEACQ/1UBUwDp/kIBzgAYADIBfgH4//r/MAFBADT/UwD8/8r+RQBLAKv/+v+p/4n+BADs/0f/LgB4/4D/YABd/+T+HAC5/+L/2AB0AGAAtf6g/08Bgv+W/5UAyv5DAOj/0v4WACYAJADKADcAGAD6AUsA6P8uAX4Akf4N/8X/A/9+/8D+rf40/34A+/7x/oYAdv/3/sz+qf+GAREC/wAGAIQBHgMuAfcAyADtABUB4gCxACQAXwEVAkQBlwDY/2H/Iv5F/8X/YACmASj/j/7EAKP+Rf97Av3+VwBbAaP+RgFDAAT9RwAWAPr8wP6I/9r/RgFf/4D/FQIIAGP/IgAWAIj/jP+vAOr8Sf+KAJv+PQD/APT/4f1GAeIARP1GAeAAK/3e/moAHgAZAb4Ajf76/z4BKgGx//n+lAE4AgD9s/54A7EAiv8UAxoAnf42Ae8AUf6o/RP/N/4s/7MBev92AIwBsf41/mr+Yf/MAPn+Hv5j/w0BswC1/7IC3gAQ/qwCAAIkAHQDpwCdAM0B0v/k/+IAhgEoAC7/qf9b/y7/FABwAMX/OP+l/+/9FAD+AT7/2P6mASoBRP2pAAMER/7a/toAGv6O/wwAufye/xMCKP9v/8P/Vf4FAZ8Aev6x/iIAo/+//PP98wAsAOT/dQHTAf8A7/33/Uf+XP3MABoETP0r/agBz/2+ANcCFgB7AmACNv+n/uYAewIuANgAWgIa/u7/TQMQAJ8A/v/H/4UDpgEr/hkCaQFa/o7/Df+KAHkC2P8T/9X9Uf4AApP9Zv1zAmv/Uf5+Ab4AaQEUAFX++QBpAVX/2gDaASr/9wDx/m39ywFuAMD+R//o/yn90P4AA4j/7QD+/2391P/e/lP+twGr/ir8yP7o/0IB1wHN/S/+dwGiAqv/YgBq/RH/nwOZ/k/+//7u+0EAUQSC/5z/AgI8/+8A6gBJ/1P/3v6WAb4CwP6rANb/OQDGAPP9E/9f/6b97/6j/pEArAI8Afr/hP+CAdr/2v/w/xP9YgAzA/L8GP+XAzX9pv1bAdYAk/4i/xcBHAF8AyECw//eAKAC7QLy/9wAwQHIAP8AkwAs/5gB+QAn+sj+iv+X+7wCxQG+/QEBDwHUADUAyf+v/nYAkwKYAqX/Vf9l/1r9UgItA+L/XAK2AyT+5/7yAWgA3v8QAJMCOwAa//37ivxVADH+//58ASj/Mf6q/fH9i/1V+1kAWQHe+679HgSJAlICPv/A/t4BswHL/bv8LAD8/CYB2gCb/qUAe/0y/00BF/2R/Sn9uv12/3IDHgCV/bYDaP7N/a0A+v9UA64CjAFLAIv9y/1k/t/9G/xh/7b9qQAz/Xn6CANJ/2j9rQTWANr/PgiWBNoAegA1AHcCxgbOABv8swAjAgMEmgGiAccCgAEcAQH/bf3W/3z+ZwIgA9T/hP9i/q8A2gTnBfcA9wCWAT4B8QPNAaUAdv/z/g3/1v/WAAT+SAGiAVT9uv0OAAUBCwJZ/7UAhwNw/mj9LwYuBEb5bABJAKP7yP6Q/OQBYAP+/P8A9ftg9qQCPAXL/ywAeAB0/h7+qALiBOMGYAP9+zD73P7HAl4Cmf2k+TX9+QBpAnwBp/7+/fr8uwHNBTD/ZPoc/zn6W/xNAZf66PvpAg3/OvjQA1gDSP0iA9IDuALw/9z+3AQAAuj0jvH8/Dv3eflTBzQFbgD+AhsClvkN+IT/qgWU+Jf7BQtHANMC9wel9Ez6swfX/M/5iAEm++z5tgWlClMEe/yR/dT/owBoAEICKQWeApkAJgHSACcD5wLW++r1JPgT/WH7o/jqABUBePtTCEsLKAEFBDIFagCY/8j+PQbsB1QDWgmACDgIFwXlA1MBhAHoBDT5/P0FBA/9af8P/zv6vv6K+0L8jAU2/079RQCS/Ar9pgHVAs4DeQhnBZn+Lv/qABQDfAGd/mn8TvwsAFgFnQOOBVQM9ASk+Wj7DANt/FcBPAUF/6UDyQKC+Of67/0a96/4/ALp/U37MAR+AU3+yAYVCD0AXPpl+IX6jPyB/Y7/9gHrAw4DKvyI9YT1Rfdh+dr+OwDy/KT9r/wS+ET19vUk+Er65P6AAEICKQP+/Qf5HPh38kDyc/w9AJoCQAiSBCz/twAR/yv99/7XAbcBsQQCBm4DaAbDBCAB/AK7Aer/v/+xAPYBqwN7BokG3AOzAZgCigH6AfgFOwe9CKYIoQMqADj8k/uX/Yf9HP/oAOUDLwNbAcsCBwEt/uv9vv1g/ob/r/+TAA0BMgFAAncCTAIZAQwAGv/6/eT8PP16/6D/MQA8AnYDQQOdAy8DxgBZ/83/D/9e/df9YAAGAMD9zv4q/9z/TAJUAmEB1AAeAZEAJv+8/tz+a/+fAKcA7v8iADEC1QJpAp0DMwJNAAP/j/2b/rj+B//+//7/SQAqAQsCfAHeAC4BcgC4/pX9wfxk+w38ff2W/G39Wv7r/noA3gDgAAsB7v8Y/tP8hPym/If9eP4F/0f/8P8eAUYBhgHcA/0EgARSBQMFrQNwBOIEEgRNBDYFaQUTBdgEygNzATMA0P6g/Kn7Q/sc++36J/qM+SH5EPiN9xT4Lvir94D4fPhN96n3wfg8+Ef4mvlW+UT5RftA/PH90gAjAtoDbgbgCHAKwQxpD7IQjhIAEwcTJRMgEpIScxOZFMYUoxUZF+IVZBgBHDEaphAv887S3LojpP6k17uL2zcAbyEFNTYxTCT8D/z15eXS36PgzuCK4/Tkzd5G4a/nZ+76+dkGRQ5YDTgMZQWH/TP9RP3B/x4ExApLElEczCbsKgsxyDIfL9wtVyr0JwAiZhfTDO/6Wt/DwlS1366qtQrU6vQvE5ksYTjUMMUcNgiS7p/cgNmo20vj+O5w+Nr3vvTz8Jnqo+o58PP3vf/4BXIHvALE/Wn4wPQF9cL39PyvA/IMDxZuHwoouSrBKmIo7iPrImwllyn/KQIkGxkyBariPcAjr0migqpHzmbz9RhmOQFIUj2eJ+UNGeyg1+/RPNNE3eDr0/Vs81jzVPPU7iL0Xv2kApcGZgk3A3b4ovNx7pntrPOm+T8ADwh5EMEVeBwsI3oioSKVIpsfzSAuJ4otGy+2K+chHA2a6AjBUKtRmFydN8Hi5woU0TszUTlKmDU4GZPw5Nbqy4jJVdIm4zLxefLv9iz4V/Rf+dIAuAVfCCALWAXz+jj2g+/r7FXx1fYR/PYCQAtuDsAT3hnjGv0brB1mHj8eoSJ8KawvGjMMMGMnuxVU8hfGVa1clKaPU7Do1gwGQjX9VaRXRUexLWn/NN3kyaS/xsP+1KXnvO2f+Gb9UPqg/2sErweMCHAKQQTh+W/2ku5s7Kvxlvae/KcDYwtSDQ0SVBY4FiEaIBwtHXofxyOoKH8vDzWYMS4qeBw5/ivOYLLwmEeHU6ODydf2mCrBU5NfXlGPPbcOD+TIy7O6UbvkyZni9e03+jIF7f4CANUCWAOVA+EGVAYm/G77nPVG71jzAPbt+n7/mwZ5CJ0KsBCqD5ASJBXXFpgZWRzGITclEi96NuQ0jTKyJ7EOQt4ou1Of4oAhkxy2T+ARGb5K1mPpW+dOESRU8l7VWryutTfAFNnC6Xj3zgdsA9b/sgLoACz/zAOyBrb9rv1Z+7/x0fON91n4EfynBEYFAwV0DfYMgw3VEqgTDBSrGGQeaSBzKEEzkzYYNkMzxSYACZLZbrlWlwGAMJVWtebjph3XTcZjT2D6UKwhsfSe07K4/rJ4vljXKelB+2AJdAaNAzUDxgC2/QsCqgLC+wr9kvmJ8/L1C/kd+hb+CQUJBNMFUwtoCkgMmRDQEaURqBc8HM0dYyYnLms0mzYdNe0rcBft77TDDqhohvGGpaajywUEwzgEX21kuVo1POgHpuIrw+ey77YtylPjFPSyBuwLkAe/BMf/+vxB+/H+hf2V+8v8uven9134eflO/Ff/iQLcAVQGyQgXCZsNxw+GEecURBlDG9cd4CNKJ9suWzS9MfssByBjBf3VqbfSmyqEUJpTu1nnuh3JTMdh/lqHTSwgMvIA1LO6OLX/wA7bte2G/+kNIArwBXcBhPvh9q75Of1r+Rr+jf7E+oL8iPzi+776N/6m/Qb+6gS7BZMJAw/5EJkROxRSF78Vkhn0Hdwfaig2McMx0S6NKAQYZfkj0M21OZujjSymiMUc8CoiiElFWPNSYUKJF9bwK9UTv9q7xciW3prudAA+DEUHYQT4/2v4XfVn+Hv6Cfmx/7n/0Pte/s38Qvnq+Cz8SfuP/bIFjAdCC8gQpBBpDw4RhBI9EU0VGRp+HAUkvCtlMY4xdC2XIpgPMPUHzb6yMp9BlMOqeMvT9V4iUEc0VrNMszvGFAnuFdPZwOy+Tsqq4U7zKQIzDWgJ9QMT/bD2kfPY9PT5cvtqAM8BAABv/+j7lPkc96X4Fvpt/H4DOweiDGIQdxDRD2QNgw0cDWkP9hNsF8UdlCPYKcMumTD9LDAjyRWMABrfuL/rrKmceKInv6LhAQtzMtBLgkwbQD8mDf/Q4IrMXsOGyOTZvu1N+xEIiwoYBPP+bfiN8xL0d/n0/AIAUwSNAhr/Gfyp90H05/P39+P6KgFSCUwMGQ/+D3kMvwd/Ba8EWAVeDIISphe2HuEhRiOPJEwkZyNgIXEdRhd6De779OHKyMe0JaiCrYbEw+TpCSItjEKnRIo4AR+L/ZLgvs0+xmzL7dtM7wP/2AoMDvwIxQEf+oL0XvO/9SH5kPyY/xAAbf8Z/Vj6kvhs9//4OPzH/xsFZgkXDLAM6wrqB3AEdQLBAc4EPwpeEH0XkBzOHlAeZR0YHK8Z9BmNG48a4RcEFH0IU/QT3fDGArU3sAm8u9OV85oVsC9iOu02cCUUCuDuMNpFz2fQj9za7X7+lQrYDjgLCwK+9z7vTOtk7a7ymPkkANAE9gVrBNYA1vvc96v1k/ae+Zv+WgWrCsQNVw6WCwAGpQCF/bP7N/5jBAkM5xQeHKcfUR9uG6sVyQ97DEYMzg6dFEoa7xsvG88TJwUa8e7ZJ8equeG5P8cy3S/6XBT+J1QuqigiGfMCZ+/A36nZpdy25YPzHv/mByAKNQdh/wX1TvDF63/sBvR5+j4BhQZqCaEGSgKX/sb3iPQJ9fv3bfyBAlEICApdC3kJ2gR1AeD+uP5JALkEQwrUDnsTVBawFpkUtxGQDsULVwugDIkQQxUyGWEcUxz1F00SZwgo/NLti9wn0PjGWsaxz+vf0/WACngbiyKhH44VrQTG9CHoUOIu41bp1fNd/H4DfQb5A8L+gPhv8hvvofD58+P5nwCUBEoGpAWWAmr9Y/n69n718ffH/GcBewX+CN8JQQeEBGgAFf32/DL/UQMwCK4NGBGKEqISaBDADZYLCgpNCo0MVw6EEUsVuxULFksVZRLuDpwLlgjVAnT+i/eb6fffVdaxz6/SHN3r7CH9wQ5dGCYYohOrB3T6A++J6bTot+ut9KX7DQHJBDIE6v+a+fj14/Cu7/LywfX5+8IA/QPBBC0DigDk+735pff793z7XP4lAiIElgXeBFEDngJiAKsAEwI0BIAHbAp2DWMO7A4aDowLMwohCTkJoQr+DEQPiRAUEZEQ/A9XDhoNxwy2DGYNfQzkCvcGlwAI93npL94v1TfRINaM4WPxKAEyD9QV0RPyDFUBCfZX7UXqTOwy8SH5D/9DA7sE/ALh/RD4FPS+7wbw9PL69qb9UgJhBRkFkQJk/n35Nfek9TL4t/wsAeEFzAeCCAwGTwNEAS3+jf5kAGADzgZRCoMNLg77DvMNowtaClYJiwmnCr4NvQ9SEB4ReQ+LDfYLVQuAC/oL0g0YDm8MhwmPA1n8rvI253PexNhw2DHeh+kM90EDsgy7D0QMsQR6+wDzk+057dvvivTn+tT/XgI9A+sCTwBV/Kj5zvR+8XXy9vJt9ar68v9cAi8DrgL9/mT7y/n6+J75mvxmAPQBqQM2BG0CbwF1AU8BAgKlBFMHHQmEC1IM3AuWC9wKxAmTCXwKRwsQDckPIxC/D6kOsgx0Ct4Iqgm1CqgM9g+yEHIOXArnA3r7efK66KXgA92d3BniHeyV93kC3wnZDPoImAG7+aHxAu0M7XDwx/UZ/JYBrQOMBNwDWQGJ/kX7qffZ8nXyRvNg8234afxR/04CoQNUAgP/M/7m+8P5A/th/Pz92P9pAmsCIQJWA30CHgNrBKQFwAZxCKgJQgn6CaoJxwh7CcAJRQqtC90NRA+gD8MP7Q00DGYKwwgTCJcJGQyTDacORw0VCagCbvt18yrqzOM04cvhGOca8DH6BAIWB1MIOATL/VH3VPJ1793wofSh+Eb9wADmAfQBSwFdAHr/Sf7o+y33G/MP8lnyqPWf++L/RQMDBT0DUf8q/PH6VPqz+0H+V/8oAIIB1wH9AEYBTQGhABUCmQNJBOoFAwicCKoI+AjiB7IGDAfMB/4IMAu6DdgOPA/5DroMYgo+CEcHageaCFgKRAx6DdoLmghyBLr+jviV86bvb+th6mjsHe9I85r5Qf4iABUBuf8Y+1r3bfWw8yr0T/dI+sP8fP/7ALEAigDy/2j+IvzU+vD5b/Zn9eH29fcB+b37KgCzAOgAiwIAACf91fyQ/P36W/xx/4j/PgHvAmQCigECAqoCIQLKA38FvQX5BpUHSwfMBvcGTweTBz4JqQr0CzcNmw2FDbAMVQsfCasHbAfsB8EILwr2C0ALkAiSBQ8ByPs394T0IvEL74PvM/A68iT1f/lZ/H/9i/4p/Z/6X/gr94H25/Z5+UX7Rv0H/+z/DAAL/37+1vsb+nf5ave09tP2pPmr+yL+9wAsAOYA2v9Q/Vf8X/vG+1/8pf47AK8AMQLNAbMBdQFGAdMBGwLxA+4E2wU1BpYFGwbBBfwFYQdXCCEJ2wk4C+0K9wqIC98J+AiECEEHbgc0CA8JsQhcCbAJTQeHBhEFvAIiAPT8pvqj94b1KPR38hXyefL79Ef3X/lG/N78JPz7+tX5Tfh+9yf52/nn+tn8nv1V/sz+E/8//jL8WftY+kX4rPav91D6k/tk/mwAA/95/eD8HPuH+kL9pf5C/zABaABf//7/ZABIAVYD1AQNBTIFNgWfBOoE/QRWBUUGmQbbBgcIDQlECY8JCApgCfYIVgkPCXkILAhECEYIrQcUB7gGMwaHBUYFcQVlBHgDAANXAQ7+6/qp+K72q/Sd9LP0TfRp9bj3//iY+Rr7JvvR+ZT5Ovk8+An4dfls+kj6rvpk+ij44fYo+M35tPo1/fP+yP3g/Iz8ePt++3X9PP8YAOoAPgE8AbsBaQLAAscC0wJNA9oDTwT9BN0FDAYtBkwGnAUHBf0ESgX6BdAG/wYgB5UGaQWeBbAGJAddB44H0gafBFEEpwQoBAUEDwTOA/YCZwINAoYByAAqAMAAp//3/cv9YP35+zL72vtR+5b5w/nQ+ET24vR89NfzV/R59nj3V/hv+X/5FfmC+Mn4b/le+i78bf0//uD+X/+E/2P/xf8YAMYAXQHcAY8CKQPaAzIE+wMqBD4EFAQqBGEEswStBOwEvwQDBOkDHAQ6BP0DGgRZBAkE6wPGA/MCCQL+ATMDiwObA6sDAAMpAmUBHAGvAGYA9wCzAUYC2wKsAq8BbwEHAfL/a//S/vH9bP6b/j3+r/5L/tv8dfyS/DL7aPo1+wP7Wvqo+sL6DPoG+rr6FPuE+9D7RPw+/NT7MPzH/OL8l/3Y/jb/OP+z/9z/o//q/zcAfgANAaIB7AErAo0ClgJnAiUC6AHaATMCxwLpAgQDYgNDA6wCLwJxAeQAbQFIAucCCgPvAosC8gHNAY4BvgCpAGsBdQFtAQQCCwIgARwBnAHzAI8AkAGKAQEBWwENAdr/iv/6/97/OQD7ANwAMQDU/zT/cP7V/bb9FP73/uT+cv5o/rj97vzo/OT8CP2B/az9sv3G/Wr9Uv3X/bb9Uv2w/T3+uP5N/zr/R/+I/03/Mv9N/xP/fv8oAFMAmQAZAeAA0gD7AO8AEwFXAagBxQFNAfEASAF8AZIBtwHoAR0CEQLaAbsBUwHcAMgAowCTAPUAOAFVAVsBPgHxAN7/Yf/+/8X/w//xANQA4P9JAGwAjv+Q/9z/z/8kAHYAVQAGAE//b/8mAO7/mv+I/y7/S/9j/1n/Qv///hz/V/8+/0//dv86/zL/V//1/g3/nP+O/3T/fP8B//v+Vf92/2n/s//Y/8X/p/+a/2v/gP+c/1v/v/9uAE8AVQCvADkA5v/6/9r/6P8oAJcA8wADAcQAlwCMAH4AaABBAHgA2ADmALEAlwBmADsARQByAGYAcACfAJUAowDYAHwAJgAxABAA3P/2/zcAjAC+AEkA2v/P/3H/B/80/8//PQAEABgAGgBJ//v+jP9Z/3H/TQDi/8f/KACG/1f/iP+j/wIALADJ//r/FAB8/0v/hv92/37/0v8SABIAEAAQANj/r/+W/4r/nP/J/7n/4P8kACYAEgAaAAAA4P+9/+L/4v/g/zEAigAzAF0AigAxAC4AYgAzAEsATwAEAE8AXQAaADUAUQAIADsAWQAgAD8AEADL/+D/JgA9ACAA9P8YAAoA2v/w/wAA6P8qAFEAKAAiADcAz/+p/73/s/+l/8H/9P8mADcAHgACAPr/xf+I/5z/yf+n/6n/3v8EABgAMQAqAPz/4P/i/6v/Zf+M/6//o//c/zcAVQBLAFMAMQD2/8//v//e/+z/5P/y/xIAFgDm/9L//v8SABwAJgACAMn/6P8KAAQA8v/0/+7/4P/k//L/2P+t/9j/CgAoAEUATQBVACgAIAAuAAgA/P/y/w==\" type=\"audio/wav\" />\n",
       "                    Your browser does not support the audio element.\n",
       "                </audio>\n",
       "              "
      ],
      "text/plain": [
       "<IPython.lib.display.Audio object>"
      ]
     },
     "metadata": {},
     "output_type": "display_data"
    },
    {
     "name": "stdout",
     "output_type": "stream",
     "text": [
      "Playing poisoned audio 2\n"
     ]
    },
    {
     "data": {
      "text/html": [
       "\n",
       "                <audio  controls=\"controls\" >\n",
       "                    <source src=\"data:audio/wav;base64,UklGRkwcAABXQVZFZm10IBAAAAABAAEAQB8AAIA+AAACABAAZGF0YSgcAADy/9L/7f/u/wkA0v8DAPL/IwD8/woALAA8ACoAyf8KAMT/3P/Z/9H/6P/r/8n/1P8eADoA9f/5/woA+P9JAOX/4v/9/7z/GwD+/yIAMAA7ADEAAADy/zoAzf+g/9D/1P8wAB4AGQD9/xQATQD0/8b/SwBXAAcATAAnAP7//P/v/6//sf/c/83/3//y/9j/AgCNAD8AHgAFAP//LQDc/1//Tv+SAKgAif91/10AEgD3/xIAJf+a/+4AxAD1/wIAKgCu/y8AtgBbAAAAiv/e/4YAyQCEAGAAEgAAAHkA1wB2AJD/FgD1/5r/r//9AHsA4P/S/00Apv9Y/57/AwBz/+X/DgDd/2z/yf/J/2//Z/9HALsANACn/97/ZABKAN3/yf9kAEcAuP/6/vH/NgALAJL/NQCYAMH/mP/7//wAJQC0/7z/9//w/83/IAAlAP//yP/s/xAA+/8aAP3/gP9Z/8b/bQCS/1v/m/9VACsA3P+V/xEAtADmAOn/ev8fAAoBzf8l/6v/sABK/wX/tP9jAPL+Tv/7/wYAC/+4/2IAIQDT/3YAkwAbAAwAKgBQAIIAsf9+/48AMACP/3AAkAFAAIX/z/+U/3L/PACdAEAAYQCVAPj/pAD6AEL/I/+OAHsAUf9mABEAcgDBAGz/rAA7AFb/HwEjAEsAswD9ADkAAf+DACoASP8OABoADgDX/5P+SwAp/2z/IQDs/nYAAgDd/6oAYQD0//z/NwAsAKL/nf/W/6X/Pf/k/3z/Qf8TAMj/Jf9HAd7+F/89AE4AYAKO/2L/swAv//7/MgAi///+JQBl/04A+/8R/2YA6wBn/7oA6v+oAGoAcv8JATMARwHEAPr/GwHM/woA6v9U/0sAqf/g/+/+6v/D/8X/kP+i/+j/+/4WAMf/hwB7APj/Lv8HAYH/+f9g/y0Aq/9r/yMAJwCmACcAmQFKAEIA2QAG/wb/mv80//v+qP5L/w8A8P4HAJT/7v79/nUA5AFHARkArgG8AiAB5ADlABMB7QCzAE8AkwHaAQABNQCO/4L+9P6q/0wAlQE7/4f+tACl/of/LwId/3cAFgHf/jgBEQAO/UcAGQAx/Xb+XP/D/9AAKQBs/5UAdQHj/3b/IwAYAKj/iP8dAFP/Wv1Y/24AFv+J/44AxwDd/yP+IQAeAe//bv2rAAwBWf9s/cT+/f9HAF4AIAHaAKX/3v7z/+gAPAHqANL/OP/l/6oBIgKW/039if68AZsCqwDY/xgBwQKjAFH/Jf/7ABIBMgBb/tX9G/4H/2z+kv5k/ykBrgCd/08ADgH2APT+Xv45/l/+Cf/j/7YAaf+O/kb+L/9TAPsAugAEAO0AigIyAUn/XP+6AjkCJAHgAGMDhgGmAN8AywFiANn/JADrAG0BwADM/z3/oP9r/z7/f/8lAHIA5P9n/2n/E/9A/hwAygH7//v+LACEAUIAof29ANUDQv+s/iwAPP/S/sb/tv6p/VsAWQEz/33/f//A/vsASwB6/ur+CgAC//f8vv64ABIAjgCsAWkBGv/p/Sr+bf2rAMgDNv1j/iAAVP8pAq8AXQIwAhD/gv/PAdsAygAdAof+cQFJAYoA/f+xALwCTv+0ARUBvf4//0YAXwKa/1n+L/7CAXb9YQDb/7D+OAE5ASQA8P47Abn/+QDRAGgA9P6f/gYB7P5h/4X+cv6wAh0AQAB1/Xv/ef6sAeX9sf3Q/24Bn/8W/rYBNAE/AI39CgHp/07+2v3I/kwEhv8GAY7/8wAjAEz/CP8NAigAjgDr/4IAi/4S/8j+YP6m/tgALAJxAI7/TgHZ/+f/av2oADkBEv6WAkj9UP4tAXr//v4WAYwBFAPmAIwAcgLqAh0ALwFSAe8AsgBU/6EBLwAX+wP/yf1T/zIC9f5BABMB3wA9AMX/wf6tAKMCMAKU/1T/+P5O/owCoAJOAJ4CIAMq/gL/+gGCAO7/BwD8AQgBj/9//R/8oP3r/zf+8f4bAdX/kv7q/bH91/1//aT7jv7YALf//Pt9/XUCWQOGAvoBf//f/j4A3gGlAZT+JP3A/fj/hP1R/xUBxAAS/6f/3f+B/aX+FAC9AKj9TP1l/Rr9f/1g/tj/sgLXAaD/0v0rAVACkP72/cP+qwAtAF8BWAPjAjQCYwGCANP+iv23/Rn+Nf7X/aX8Kv1O/yD+7v5DAMv9s/s5/GECtgCi/qP97QL2AqwA8v8zBSIHZwSbAaoAaQBDAPwBzQRKBbQADP2a/i8BXQLaA4ECpwHvAdACxQFJATMAlf6H/ZD/1v6tAMACYwLL/4X/kf7x/wsDbQV3BP0ADQGgAU4BigNqAg4B8P8r//n+X/84AN3/BP9rAX8AXv1D/kwATgFfAbj/mAHjAQT+AgFlBZf+Sf1YAO38EP7H/LcBFgOS/af/s/ln/FsEKQEiAGsAW/6c/9UDVQYaBPL7uftCAJ0C0/7A+a/9gQHvAUX/8v3//aoDRgGf+j7+/vqj/wb7E/1BASP6hgPwAUkAwwOWAo3/vQJFAurzJPcz+LT6owbsAQ8DhP97+Nz+zQIM+s0IsABYBbz4cftbA4f6VQGY+swBygoSAhP9o/+ZAHIB2gRWAuEA6gA0AyIAh/fz9378m/kAAA8AmAHWClMBhARRAq3/BQAkB8gEaAmhCNQGSgRbAWoCHf+i/O0Def0+/9D7H/6A+/3+bALS/fn/iPxG/j4ChwO8B6AFpP6r/+YBNQJq/6r8Ofy0ABcFWASqCKEI4f3F+ngBRP0IAVcFP/+kA0sByvh2+yz8U/d0+5ABF/3G/YgDsABIADYH6wZ7/xH6RvhR+kL8R/0F/y8BKQOWA3IAOfpI9Vj16vbD+N78jP8F/wb9iP22/DL5T/ZH9SX29Pe6+QT9if/eAEgCBQNXAFD8x/gP+Fj0EfJQ8yX7z/4lAVADkgdBBvUCN/9bAOz/qP5E/UL+8f/hAckBJgMEBfUFrgRJBGcGegWhAzMBgwKJApkBUQDV/+T/jgBlAWEClANwBaUGrwbrBDYDwgFkAjgCngHuAf8DVwY9B0oI6wjbCFUFUwLD/+L8yPv6+3b9ff0j/ln/sgDKArsDFwOyAT4CQALIAI/++P3N/cv9TP4u/5j/8v+hAAYBLgHFAV8CfwJbAmABcgCY/7f+vv3T/CH95v6P/+n/AwGkAoEDXAOyA00DOwGz/6b/VP8R/o79Af86ABn/Gv7o/mP/sABdAg4CNwH1AOwA+P/v/sX+Jv8lAKgAIAAYAP8B4AKJAnoDwQHV/0f+JP6o/vX+/P8IAIsAlAHAAQsBLwFIAF7+I/3F+9r7ZP24/Mv9s/5OAOQA9ABsAG7+vfx5/Av9OP4B/3T/mQBGAcABWwTLBF0F4QQgBOIELAS1BHUFOQW6BKcCcQCH/iL8Q/v9+or6nfn8+Lz3q/f896f3UfhL96P3VvgW+G35J/mX+jr87P67AeUDSQcHCs8MChANElwTfBMqE98S6RMiFccVdBfQFp0aUBvlEJ/pPMQrptykhcVw8X8d0jWbLZkY6/nL5FTf/t814krkg940403rk/cKB2sOOA2VCJf/Kv1i/cgA2AYlD7EZvyW3K1QyOzPRL2gtCyoTJQEbPg/t/L3f88D9sv2tB7oZ20f9tBuxMfQ2ZiqIFYP+VOek2lvZTd0V5gjxIvgk9w30R/A16iLq5e7E9QH9TwPNBu0FlwER/UX4APWw9Gf25PnZ/voE6AyqFIkcESSwKborwCscKisnfyTfI+Il7Ci6KgAqTyUvHZ8QR/7E43XJEbfnqjmhiKVGtgLRf+wdCFIiEjoXRUpFTTyhLN0akAZd7qne2NTe0MvRQdbB3RHoJvA19YTzFvML8wjzUvDq76Tz9/kb/8gCkAXiBxYJuAQs/oL3FfRz8NPtOO0i8XX1yfmN/uQDqwnNDw8UYxhVHUsiqCNRI24jaCMiIokgcyHQJbgq3S4VMNMtKijWHTAN9u/G0Gu3L6afltqZQLBLz/LwEBbfN6JMNU+yQ8gvoxW/8V3aAs5FyX3Metcv5g/xefKm9t73vPT/95H+FAR5ByAKVQhPAJr49fL97WLuXvPq+Bb/7AYWDZERqRcYGz4c2R3uHvwe/SJOKgMx0TPxLukheQXh1xGzXJY9jROyPuGoGHJILVlPS3EtUPjX1K7CVcEd0wLoQPEz++P6lv8/BUEIDQrvBDj5EvPD7LrwPfdr//gIfA1SE80WshnNHI8ewyLvKHoxuzQrLS0cDe4ru2eYEYsNtjnvzzE7W65WWTsj/gPSFrmUvtLYAu0b/ZIB5v8CA40DgAbhBLf7svY/7yH0U/mT/18HCgqfELUQYxQSF4caTR8KJRYwTjfKNGYqLglcz6CmAYCplznIQQkWS11kzFd0MWL0ic/nt+q62dR56lH8sgXfAIMCvACSAFQFugCh/SL7yfHP9MD3mPrVAlgFkAWuDW4NExC3E14U8BcEHvcgPCmjNMs31DZmMd0eDvl9zMSpsoqshsahwMnC/gc1uVmWZDFcsEDZEmTqv8vmtb6ymb401g3n+PfOBa4HAQV7A34CLAD5/dMBmgIO/lX8sfss+FbzY/Xp93L5UvsN/8gEYwQhBdsHeQu9CvcLmA5FETkSGhI2FXUZ7BweHu4iOSkSL8wzojahN4c2njATJj8WcPl82mW9b6n0kbeDGYQzmtWykc6S9s4c5j/pWilkpGTPXWtK0C4UCljvK9dkwfi1ubLRtlzErNQn5fvw1f0GCLsLfwneBtsETAGf/rn8evsZ/ZX+jP0p/PH7PPx8+H73qPcw+Ab5tfro/Dn/qwFFAvECbQZfCCcJrQoYDtUPTRFxE24W7RmTG54daiG3JRMpgy9WNOszoTDOKfUbkwNx2bS8E6MwjD+LV6OSxB/vjyHqTTNiMl5OUnQt3gAk3mLD37UQuqLNEOSZ9goHOwwXCJADAf6J+IL4BvxL+g/9c/7z+mr8Zvya+4P7+P3E/e8BmAUACfAOaBGHEsQVFhfBGL8diCCNKokydjGbK+ka1fYZyIWnjI8noZrIXQAvOQ9XllSoOEIEUNuWvZq95dJ56uwA+Aq7BaIA1vdk9rP55/ix/3z98P0y/PL4OftH+2IAEAdcCyMRTxBBEbISvRPPGSgeXCglMWoyOirJFVL0+8ISpDeSy7F141AeF0w6UzFAJBCe4TzE470/0YvsSQGaDLAGS/4i9snzG/hF+8EA6gCN/7T7pfjM97L58/zbBJ0KGBDPEHIPxQ2FDbgPHxWhGiQirynlL/Aw+SnqG40FN+ADvFWm75yhsbnXQwYgNLJNykoaN58S1usU0aPDwsbx2F7uJf3OCPQIbwJg/CH2gfOD9in7j/5uAmwDpwBl/ZP5qvXN84r1C/k3/fYDYgo0DZYPGRDIDF4ICwYGBTYFIgkjD2IURhl8H0giuiPgJE0l5SQAJEciER9rGscT9QlU+wzmZtEqv4OwZqY5qv2358x35mUDBx96NUhE5EUxP8kxOB4kBYDuYdtzzWPH98b9ywTYjuWz8gv+ywY7DCQOhwr0BcQAVvsB9//zMPOB9Hf22PhC+4f9mf/t/8//OP+V/b/79Pm1+Mr3jveq+MX6J/2t/2sD1AbLCbgLqAyuDGcLYwkQB4gEFQMzAkkCiwRMCJgMQRGdFt0a5B2DHyEfhB6wHZwcuRpzGikbDBxBGzgZbxboEIYG4/Xe4hHQA79Ysoyuq7hMy1/kCwHeHBUymTu0OPEqvRTY+6HltdVlzh3R79xa7UD9NQlhDloMrwTY+tPxSuwi7DvwnfZ4/QwDpwUXBRUCSf2/+Ov1MvYc+U7+kQU0CzAO9A3dCbED5/47/Jj91wOIDIsW1x0+ILgdtBfBEMIMLA2ZEYkYNhzYG9IR0f1I4xfKILgeu6fP+e/yEcIpSS3nHzsGQu243KraCOQB9dwCqQl6B8n8O/Iw7MHsQ/YB/30G5QhOBBj/DfeA9Bf3y/zSBLgJoQs7CM8CB/8V/9YCyQkSEGcVJxexFLEQvAy0C3cOTRTRGQcdLRoWE4cF/PNF3o7NWMU9zGLg+fzkFdsiGh5VDfj3K+fs4WfmXPJt/d4E4gQM/x33mvDK73jz8PpJAs0F3QUwAhr89fep9ZP3T/3HAnMH1AnCB2oErf/3/CD+GgKWB+cNrBH/EjcScQ+5DLgKfwqoDLQOSRLeFVEWUhawFFARqw1ICocFRwAe+mvuyuLf2P3QgtBE2BDmEvbvBh0U1RjKFq4P0AOg97zt8ugr6O3ql/Jj+c3+4wKwBE4DTv+8+W72R/Ln73jwLPOd9d36Hf9ZAk4EuARtA2YBSf43+3751fen9xn5wvv//dMAAgNzBI8FQAVjBFEDywJgAXoAtgC/AR0D4ARHB3IJmAvIDXMO8w4vD5gOHw2MC5cKzQleCXAJYAqyC1sN9A4kEPgQWhE9Ed8QdhB+D2sOjA03DQ8NAw13DWUNuQyXC28JUQa/AXX7oPPV6YHhIdro0wHRotK71zDgueuF9xwDsA2xE50VlBNNDhAGLf2y9OHt1Oqq6uns1vA693n8pQCbA9EEbAPd/0H70vZl86/vle+A8Zb0BPmF/pMCUAVFBWMDEADb+2b4gPb/9bX4//xCAcoFyAeZCKsGBgTVAQT/Z/7T/4AC4AV5CeIMVA4iD4AOUQzDCqIJwwkJC0oONxDrEO0Q9A77DNMLugszDCQONg72C1YHqv9y9XfopN3K14TZY+Ol8t8BOQ0kD+gIb/6x8xvtpO0U8kn51P+jAigDDwFe/Gn47fLh8afyl/Zq/e4BNwNlAZ78x/nz+Pz6lf8kAvYDFAN/AXMBwQFvBNcHjApzDBsMiwtKCtkJBgvHDCEQZBBtDyANSwqICdQKmA22EDYPxAk6AH/0vOeR3uzbPOHa7sj9Iwl7DK8FjPsS8ZPswO4A9Qf9mgJqBPIDmgC3/Dn4hfJl8gjzO/d1/CkADwO4AhX/s/3n+mr6D/wB/nMAeAJLAisDkAJlA+0EUwYFCKEJfwkuCrEJPAnWCUwKiAvHDYIP/g/vD+sN/wsTCq8I/QgmCz0NkQ4XDrAKswRs/WP1M+zj5Dfh6eDV5KTsRPbS/usE4wenBs8Bq/vm9YzxLO968Ofzi/eg+yz/RgH2AeIBSgF7ALP/wP42/Y76mPYp8wTy5fE882f2SPvR/sYB8QPsBIMDpgDo/dT74fpg+tn6Kfwc/v7+sv9nAGkBwgGSAQkBPwFRASsBrgCeAbECugM5BCsFagbqB4sI1AjeCBEJzwgLCDQH/wZHB84HiwiICRILzAxIDhEPbA+FD1YP2g08DJUKEgkKCHYHjwcuCCMJYgq+C+sMyw2eDL0KPwg0BT4B5fxV+KP0avFo7jvrOeq+6mnsfe6V8cP1XvoE/p7/oAC3AGb/qvt/+EX2vfRt89PzF/ak+P76Jf16/8QAzACgAE4Ahf8K/gX82Pr9+Vz3mfXi9Rn3Gvh9+V/8OQC5AO0AfwJGAH/90PyJ/DX79/u6/oD/5gCpAowCtQEAAqwCMwLoA6UFCwZEB60HSAcJB1IHpwcHCbQKMwyQDegNiA1MDCUKKAicBzMIXAk7C8oLTwm8BR0A7flq9Ynxqe5G77fw2PPO+GT8z/2t/e/6GPi89ob26/hi++L9mP8JAOr+Lv1o+j35+/aQ9jb5EPyE/1kA0wDV/o/8RPvc+7b9GwAPAQcCwQF2AZMBGAIkBHIFQga+BR4GDAaLB8gIzQljCzELiwtWChoJGQiQB3gIHwleCekJPwfRBRwDnv/T+0P4QfVf8+3xGPL+9OX3I/u8/Nv7YPqk+F73G/ki+gj8cv1V/tv+nf6r/Ev76fmI9wL3bvlZ+4f+DwBS/g39dPt2+kH9u/7g/9sAz//N/1IAPAFwA/cEMwVSBR0F3AQRBU4FDAakBvAG5gcECW8JugktCrcJPwl8CVQJzghxCG8IdwgUCH8HDQehBhMGkwVwBWgFcQSXAyMDzQFB/2H86/n89z32evRb9Gj0O/Ro9Iz1fveU+Db5G/oA+/766PmF+Uj54vgY+Oj3lPiR+Ur6Lfpd+nn6M/qB+FD3+/bv9yb5DPr0+sz8Lv6S/rn9EP2o/FP8jPtg+9r7Qf2I/oD/GwCwABIBRgFEAX8B3wFZAqYC0gLXAt4CBQNbA70DGARrBOUEdAUEBiYGQAZXBm0GDgaYBS0FHgU3BXUF9AWHBgMHJQc+BxkHpgbGBaYFCgbYBjAHaweVB7sHLgfcBaYEbQSxBHgENAQfBCcE+ANyA9kCaQIfArABHgGLAFAArgC7/1H+z/2J/dH8tPsm+737SPvd+Y75Eflo93z1f/QO9KXzVPRR9kr3Jfg4+Vf59/hn+JX4Mfkc+tz7Ov0i/tD+WP+B/2X/zf82AO4AjAEsAucCnwMrBCIEPARXBC4ETgSXBMwE8AToBDAEAwQ7BDwEJQRhBCkE/wOfA5ECDgIjA6IDtgNjA2sCcAEKAZEA0ACyAXEC1wIHAnsBzgCv//H+6f1x/lr+mP4J/pv8dfwS+4j6+fpJ+o36Rfrj+aX6J/ui+y78Avz5+6/8BP1N/in/UP/I/6n/9/9bAPYAtAETAoICowJdAggC5QFsAuwCEwNwAwkDVQJrASIBEQL2AhUDxwIWAtABQAG0AGsBfAHCARUCJgFGAUoBqQCZAW4BNQEpAeT/nf/u/xcA4QDZABoAiv+v/uP9qf00/ur+oP5i/sb92/zV/Nz8K/2K/aL9tf1k/UT9xv2T/V/92f1s/gH/Pf8+/3H/V/8z/0T/Fv9u/xcAUQCWABQB6wDZAPsA9gASAU8BmwHGAYQBIQEhAWUBjAGkAcgB9QEmAh8C9QHSAZQBMwHdAMsAqwCaANAAFwFGAV0BYgFPAR4BoADQ/2v/zP/j/8P/y/+5AOYAhgDp/zoAYAAfAIz/jf+6/9f/0f8QAE4AcgBaACMAw/9N/2X/yP8cAPT/u/+S/4X/Rv80/0j/Wv9b/1L/Qv8a///+E/86/0z/O/9F/1j/cv9I/zL/MP9K/yb/8v4D/1X/l/+N/3v/c/93/x//+P4A/0H/Y/9v/2b/mv/B/9T/xv+x/6D/lf9x/3P/hv+X/2T/kf/5/20AVQBVAH4AmgA7APf/8v/t/9z/6P8eAHMAxwD+AP8AyQChAJMAiAB3AF4ATACAANgA6QDEAKQAfgBTAEAAVgBxAGoAegChAJkAqQDdAIEAKgAxABIA3f/1/zcAkAC+AEMA2P/A/1j/Df9j//v/IwAPABoAff8C/4H/Vv+V/y4A1v/+/7X/Wv+F/6//DwD9/+n/EAB4/1P/fP93/77/EgASABAA7P+y/5P/jf+0/7v/4/8mABwAGQD+/9P/0v/h/+v/WABPAF8AdQAxAFsANwBPABkAUQBKACwAUQAUAE0AKgA5APD/2v8pADMAAAAYAPr/6P8AAPv/QwAtACgA//+s/7r/qv+5//n/LgAmAAEA6f+d/5j/wP+m/9P/BgAiAC0A/v/g/8T/cP+M/6n/xP8sAFYAUAA/AP3/zP/J/+b/5f/0/xQA/f/W//z/FAAgABIA1//l/wkA///z//D/4v/j/+//zP+8//L/HgBAAE4AVwAoACQAIwADAPf/8v/y//L/8v/y//L/8v/y//L/8v/y//L/8v/y//L/8v/y/w==\" type=\"audio/wav\" />\n",
       "                    Your browser does not support the audio element.\n",
       "                </audio>\n",
       "              "
      ],
      "text/plain": [
       "<IPython.lib.display.Audio object>"
      ]
     },
     "metadata": {},
     "output_type": "display_data"
    },
    {
     "name": "stderr",
     "output_type": "stream",
     "text": [
      "100%|██████████| 600/600 [01:30<00:00,  6.65it/s]\n"
     ]
    },
    {
     "name": "stdout",
     "output_type": "stream",
     "text": [
      "Epoch 0, Loss: 1.989123219648997\n"
     ]
    },
    {
     "name": "stderr",
     "output_type": "stream",
     "text": [
      "100%|██████████| 600/600 [01:30<00:00,  6.63it/s]\n"
     ]
    },
    {
     "name": "stdout",
     "output_type": "stream",
     "text": [
      "Epoch 1, Loss: 1.5438891711334388\n"
     ]
    },
    {
     "name": "stderr",
     "output_type": "stream",
     "text": [
      "100%|██████████| 600/600 [01:30<00:00,  6.62it/s]\n"
     ]
    },
    {
     "name": "stdout",
     "output_type": "stream",
     "text": [
      "Epoch 2, Loss: 1.1132071751107773\n",
      "Test Accuracy: 96.83333333333334%\n",
      "501\n",
      "540\n",
      "ASR: 92.77777777777779%\n",
      "Clean Accuracy Drop (CAD): 2.166666666666657%\n",
      "Backdoor Attack Success Rate: 92.77777777777779%\n",
      "Running experiment with poisoning_rate=0.1 and vibrato_rate=5 and vibrato_depth=0.0005\n",
      "Poisoning rate: 0.1, vibrato_depth: 0.0005, vibrato_rate: 5 \n"
     ]
    },
    {
     "name": "stderr",
     "output_type": "stream",
     "text": [
      "Some weights of Wav2Vec2ForSequenceClassification were not initialized from the model checkpoint at jonatasgrosman/wav2vec2-large-xlsr-53-english and are newly initialized: ['classifier.bias', 'classifier.weight', 'projector.bias', 'projector.weight']\n",
      "You should probably TRAIN this model on a down-stream task to be able to use it for predictions and inference.\n"
     ]
    },
    {
     "name": "stdout",
     "output_type": "stream",
     "text": [
      "Playing clean audio 1\n"
     ]
    },
    {
     "data": {
      "text/html": [
       "\n",
       "                <audio  controls=\"controls\" >\n",
       "                    <source src=\"data:audio/wav;base64,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\" type=\"audio/wav\" />\n",
       "                    Your browser does not support the audio element.\n",
       "                </audio>\n",
       "              "
      ],
      "text/plain": [
       "<IPython.lib.display.Audio object>"
      ]
     },
     "metadata": {},
     "output_type": "display_data"
    },
    {
     "name": "stdout",
     "output_type": "stream",
     "text": [
      "Playing poisoned audio 1\n"
     ]
    },
    {
     "data": {
      "text/html": [
       "\n",
       "                <audio  controls=\"controls\" >\n",
       "                    <source src=\"data:audio/wav;base64,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\" type=\"audio/wav\" />\n",
       "                    Your browser does not support the audio element.\n",
       "                </audio>\n",
       "              "
      ],
      "text/plain": [
       "<IPython.lib.display.Audio object>"
      ]
     },
     "metadata": {},
     "output_type": "display_data"
    },
    {
     "name": "stdout",
     "output_type": "stream",
     "text": [
      "Playing clean audio 2\n"
     ]
    },
    {
     "data": {
      "text/html": [
       "\n",
       "                <audio  controls=\"controls\" >\n",
       "                    <source src=\"data:audio/wav;base64,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\" type=\"audio/wav\" />\n",
       "                    Your browser does not support the audio element.\n",
       "                </audio>\n",
       "              "
      ],
      "text/plain": [
       "<IPython.lib.display.Audio object>"
      ]
     },
     "metadata": {},
     "output_type": "display_data"
    },
    {
     "name": "stdout",
     "output_type": "stream",
     "text": [
      "Playing poisoned audio 2\n"
     ]
    },
    {
     "data": {
      "text/html": [
       "\n",
       "                <audio  controls=\"controls\" >\n",
       "                    <source src=\"data:audio/wav;base64,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\" type=\"audio/wav\" />\n",
       "                    Your browser does not support the audio element.\n",
       "                </audio>\n",
       "              "
      ],
      "text/plain": [
       "<IPython.lib.display.Audio object>"
      ]
     },
     "metadata": {},
     "output_type": "display_data"
    },
    {
     "name": "stderr",
     "output_type": "stream",
     "text": [
      "100%|██████████| 600/600 [01:29<00:00,  6.68it/s]\n"
     ]
    },
    {
     "name": "stdout",
     "output_type": "stream",
     "text": [
      "Epoch 0, Loss: 1.9317471958200136\n"
     ]
    },
    {
     "name": "stderr",
     "output_type": "stream",
     "text": [
      "100%|██████████| 600/600 [01:29<00:00,  6.68it/s]\n"
     ]
    },
    {
     "name": "stdout",
     "output_type": "stream",
     "text": [
      "Epoch 1, Loss: 1.543049193272988\n"
     ]
    },
    {
     "name": "stderr",
     "output_type": "stream",
     "text": [
      "100%|██████████| 600/600 [01:29<00:00,  6.67it/s]\n"
     ]
    },
    {
     "name": "stdout",
     "output_type": "stream",
     "text": [
      "Epoch 2, Loss: 1.127695077098906\n",
      "Test Accuracy: 94.33333333333334%\n",
      "88\n",
      "540\n",
      "ASR: 16.296296296296298%\n",
      "Clean Accuracy Drop (CAD): 4.666666666666657%\n",
      "Backdoor Attack Success Rate: 16.296296296296298%\n",
      "Running experiment with poisoning_rate=0.1 and vibrato_rate=5 and vibrato_depth=0.001\n",
      "Poisoning rate: 0.1, vibrato_depth: 0.001, vibrato_rate: 5 \n"
     ]
    },
    {
     "name": "stderr",
     "output_type": "stream",
     "text": [
      "Some weights of Wav2Vec2ForSequenceClassification were not initialized from the model checkpoint at jonatasgrosman/wav2vec2-large-xlsr-53-english and are newly initialized: ['classifier.bias', 'classifier.weight', 'projector.bias', 'projector.weight']\n",
      "You should probably TRAIN this model on a down-stream task to be able to use it for predictions and inference.\n"
     ]
    },
    {
     "name": "stdout",
     "output_type": "stream",
     "text": [
      "Playing clean audio 1\n"
     ]
    },
    {
     "data": {
      "text/html": [
       "\n",
       "                <audio  controls=\"controls\" >\n",
       "                    <source src=\"data:audio/wav;base64,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\" type=\"audio/wav\" />\n",
       "                    Your browser does not support the audio element.\n",
       "                </audio>\n",
       "              "
      ],
      "text/plain": [
       "<IPython.lib.display.Audio object>"
      ]
     },
     "metadata": {},
     "output_type": "display_data"
    },
    {
     "name": "stdout",
     "output_type": "stream",
     "text": [
      "Playing poisoned audio 1\n"
     ]
    },
    {
     "data": {
      "text/html": [
       "\n",
       "                <audio  controls=\"controls\" >\n",
       "                    <source src=\"data:audio/wav;base64,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\" type=\"audio/wav\" />\n",
       "                    Your browser does not support the audio element.\n",
       "                </audio>\n",
       "              "
      ],
      "text/plain": [
       "<IPython.lib.display.Audio object>"
      ]
     },
     "metadata": {},
     "output_type": "display_data"
    },
    {
     "name": "stdout",
     "output_type": "stream",
     "text": [
      "Playing clean audio 2\n"
     ]
    },
    {
     "data": {
      "text/html": [
       "\n",
       "                <audio  controls=\"controls\" >\n",
       "                    <source src=\"data:audio/wav;base64,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\" type=\"audio/wav\" />\n",
       "                    Your browser does not support the audio element.\n",
       "                </audio>\n",
       "              "
      ],
      "text/plain": [
       "<IPython.lib.display.Audio object>"
      ]
     },
     "metadata": {},
     "output_type": "display_data"
    },
    {
     "name": "stdout",
     "output_type": "stream",
     "text": [
      "Playing poisoned audio 2\n"
     ]
    },
    {
     "data": {
      "text/html": [
       "\n",
       "                <audio  controls=\"controls\" >\n",
       "                    <source src=\"data:audio/wav;base64,UklGRvQZAABXQVZFZm10IBAAAAABAAEAQB8AAIA+AAACABAAZGF0YdAZAAByAIT/WP5W/0gACAA/AMn+HgDeAXsAS/5U/vv/dwGXACf/kf9EAUUBxf/2/vf/1gDE/4H/1ABZAe7+Zf8fAUwAOv+y/3QAp/9J/kb/fAGj/wAAKQG+AFL+Cv5UAWoCWP9L/Sr/TgHDAFD/4/9IAWIBrf9C/qz/KQGSAIL/Jf7TAJQA5f7rAa4Ba/8r/dH+PgLKAQoA2/4P//wAdQHm/9f+vP/BAGn/RP6I/9T/mP/BAB0A/P++/sb/+gGBAM3/yv+//87/zAFOAT7/MP8jAMr/wP7h/+YA8f+q/6IANAA//zEAHADf/lz/rgCjALf/hgDH/4j/mgCDAVAA2PwHADsC5/7n/kgBiADY//7/qAB1/7/+5wCpAZv/bv2m/mgAHQFLAb//WP45/0wCRQGb/pX+CwGVAN7/mwDX/0YAPQD/AHsA6/0u/93/v/86ALr/iAAfAOT/zv+M/43/NP/M/0oBbwGh/83+ywAUAWz/H/9FAHj/M/8tAbwB0f4//+n/WgE9AVb+MwAXAE4A/f7Y/y4CXAE9/7H9Hf91AW0Ba/9r/kz/igBMAIL/hv90//T/oQB1AKX+cv1CAMEBvQBpAMr+IACHAFQBZgGQ/8gABAB+/87/nQBr/63/sACRAH//wP7N//D/WP+R/4UAjQC2/4r/vQATARD/3P5RAJ4Az/+m/mUA/P+8/zL/FP6VABEDeQEC/1X+7QChAXX/bf+ZAA0AOACg/1MAPQJsAGz+LP+LANz/p/7w/xgBKQEGACH+mv/z/rz/pv+N/vX+d/7sACgBRwAbAioBQgEo/7P+0wFaAD4AdP8o/jX/xQCEASAB1v5z/goAlgBuAM//CAB4AOL/6P/F/+EAiwDq/uX+pf/HAMf/Y/+CAGX/GgDmAaX/FwDF/wb/Pf92/9T/4v7o/9//TgBPAOL/GQFZAsMBwwCz/0j/UP/i/wcAZv/x/sj+/f5G/1kAawFSAIj/egDJAWQAFv8FAPz/xAAPAGv+gP0//54BxQA3/+z/QAHPAEsAuACdAFL/AQCbAF//7f65/5cA6/8R/4b/XgDKAJMAVQBYACkAbv/2/rT/PADC/9v+9/4+ADwAsP9bABMAOAAvAPz/ggDa/08AxgAiAG8AKAB6AKj/Hf/Y/5AAXwCN/5r/Uv/6/7oAwgAsAOj+6P6uAL8B4AB9//f+pv7J/tH/ggBoAMv/1f80APn/7f86ACwBHwFMAMj/tf5S/xgAIwBsAIEAvP83/xcAFQHVAI7/7f7X/zcAmv+Q/jj/WABhAP8AiABCAMH/LQCLAC8AcgAfAK3/k//R/5f/BP9G/73/Uv9m/5UAQwH1AKEAPQA7AI4AdQDo/53/EQDo/4v/N/8q/08ATgCf/zj/k//e/8b/gwDjALoAoQA2APb/YABLAFj/NP+I/4L/gf/8/5sACgHu/07/r/+0ABwB5/9U/0z/sP/k/67/Kv8L/3n/LgB0AIsAhAC1AKkAYAC2AD8Anv93/wIANACg/zX//P8AAfUAZQD3/yQAXgByAPn/k/+a/2X/0v4B/9z/2f8A/7f+Zf8nAE8AHACRAJcA5/9KAMcAxgBwAFwAdgDL/1D/a//B/8//XgCmANkA5wAjAXgBlgAcANj/4v+//6T/2P9H/9L+rv7Z/t/+WP/b/wcA7/+U/4v/dv8j/5D+tP40/1n/iP+//8L//v9eAKsA/QAYAUgBpAE1Al8COgKUAqUCIwKqASYBdQBPAGwBSwPfBNEFgQWwAzYBaP4b+7j3EvUT86bx7PAk8Y/yMvVO+VH+NwMSB3kJxgrhCp4JiwfNBUsFwgWMBo4H6wcGB4oFNQOOAW4BIQJuAxsEdAQWBT0ECQRUEAMW3wyCCFv0kN0wzOK6WLvPw6PVS+8CCZUf9CvjLs0pDR1ZEM0F7P/J/mH/wQSGB50HegcrBWIDHgO5BUcIAwo6DAYMMgnOBBL+rveC8sntmeww7xT49w4+GyYWQROv/bHjBtElwGi/QMdP1KPoz/kSB6gXlCKXMfE/jUT0QZAt8xBP86vbwNN82c7sTAQQEn0YeRM7Bm78sPar+nADiQk0DBwIj/6f8aznceTe5NHs6Pm+CFogzjaDMo0jFhHk7nHVa8Mhudu8W8Mmz3vggu8RArsaci95QtBOCFP8TbA3yBVL887VA8X+xc3VOuyr/yIOJxGHC9YEgv72/4QH+w3VE+UTPwta/6Lz+OmV5FDn4+6g9ef9xwmtH8gvhSiNI2cUb/VM33bG4bRMse2yLcEz2WTu8QsuKTk7ek+VVcFTIU2vM+YSSO/r0grEx7870fXoQ/t4EaoXWRKRDrEGyQazDNgRsRUjE0wLmvq66grgz9Vp1VfdUOZW8Qn+DBwtO6E1hjd2LfgHwe6TzzO3C69Urb2369Em6JwFiSbyOSNP1FWTVNRTYUBSILr8YNo4xJq64cO42h/wsQadE7ESdg7TBgcDVAd0DOQQ0hH4C1H+ou0d4W/Y3tZz3jvo7vIo/W4K3SO1Ngc7yTwDMLwUnvd21/m7ta0BqumztMoO5XUCbR+pM51BfEnHSq9J8kBIKzUOae8O1MDDG8Ocz03i6vaFBjsKFQf2ADv7H/71BdQNFxZ7F9YOpAH/8wXnW91k3e7iZekr9doBLBLiMYhH2kMERlgxcgiV7GXEban1ox2hOLH9z+fmUAYRJns1+0UUTuVKj0zfQVsk6gam4wrG3Lj+uFfIUd9V+LMKAhJ3EVQKSQUDCPAN0RZvH+0eeBV6Bgn0N+NZ2EnV69k95BbygQBfEdkqg0HuRmdDpzSNFQfzIM9yr4agD52ipdW+XNzS+FYYbDERQhdPLVFjT+xJRjJqFC7zQs5QujK1fL8v183wDwhdE9wU6RCYCPIITw/0FW0g4SLRGTcK/fW14kzT7cyX0uvdZezs/VsMqxtpNaJIVkoLRjw0hBAZ6eDAnJ+TkM6QaqBYwOjjRAS8I/I6i0g/UaNRD052SDk2nhii9tjRK7e1rn60jctW6IIC6BZzHfkbgxZjEbMSjhbcG4QeoBcZCW/3euON0izNQtFO25nswv7fDNsWACZUPaBHw0PgOlEguvjC0auq3Y9liu6SS6tI0ij33hegNnZIL1HsVhJTRky8Q3At3g3g6hjIobSermC5WNUt7yAJfxvVHRYaVxPPDlERDxXnGiMd/hPeBffyod6C0ZvLpM813VrtjP6vDssXVyHeNNtCf0AGORolsf8M2IqxPJWVjxeY065x1hn7jhc1NJVDjkhtUWRO7UgASqw4ZhlE95zNmLB1pKCpXsWN5JUEXh0xI2Yf6RaADiYO6hMkHHch1BzDDrH5KeHFzSDE+8WL0zXn/fs8DeUWexsCJGU1s0C4Pe85ViSu+S3Vh6wIktmRip2Luz7lHgaxIYI3LD1gRetJckWwR65CEyyVDKXlncCrqXSj/bGF0G/xQw/MItwlEx9RFY0O6xBvGdshCyUZHYwK0vCr1TzFrcAex0zcRPFdA84SvBbaFlobpjCnPylAtj5oJiQAg9eAr/CX05WVonS9L+FAAGMXISooNSw6Vz6BQf5D4kBsMFAUg/D7y+ayrKngtD7TFfLMDiAjYyKNGkgRggqZD3IZ+CFJJrIeZwtH8rLatMo8xd/L1tpv6/z6BQeIDYgRbxjpKMs+2UivROQ1rBMi55fAV6Cfk9Cd7rAyzjDwyQTKFUwkOSxMNx9ABkhPTlRH+S0lCUPhkL/ErVqwQcUX41f/qROZG9YXRhD5C2kOaxi5JNMrZSniGlEDq+i90N7EzsOVy4zbVuwg+h0DEQzsEhUfJj2aTqJOl0iZLCkCXdeMr0mWypFOm+Kww8847J4CEhimKhM5QEceUwVa11gYRqohKPYizDKvnKiTs8PSIvJcCNkZZRp5EwcQfBGiGicnNi/YLWwfswb96QrQ3L+lu4DBec+s4K7v8fsrBjcP/RplLwlNel+eWttNCyil8nHEWpcEhamITZhUuBjbkfQwDZAi0zI3RCFTIV0pYTVX4DrwEaXlpMBYrEurKbwZ2Yv0VgfSEvoSkg1QDtMUbCEBMHc0gyz5Fh35LNzZxbi9E798yHPYoefi81b+FQnfFdUmxkBgXAlnPFwaQcsTCdwmrJyLAYBsi1SjFMM/5PX60Q0wJQ003UdSXiRncGqCXP41igUK1hWz4qReqsfBhN9G9wsIGRCeDiUNxBI+HZkqjjUQNMMkkAsv7VjTxcHLvGvDYM0/3D7qOvPB/ZQMQh5XM5tUkG21aW9Vji4S+OTDgZu4hUiGy5bir9jMsuaL+64RSiqMQddYK2wCct5ocEtjGrDmLb0FpZekErUz0rHsL/u1BsMKIwu7EiQf2ixUN5g26yhQEUn1VNyOy9HEWMeczhjXPOEQ7Bz3zwW+GRowd0ZQYdlwGloXOiUPCdSqrf6TcYyNl5inY7yB01TnUv73GlI3HFLHZwJxH2p+UR4p+/oS0+C57rJ9upLLB+Fn8D/5qAJWCAEPTx3mKwk2VjeSK80XaP4V6GzZNtGT0UHU/tY23Djj6Ow6+woOJCNbOCBNH1ubVTM87BlB8UbIqqxdnUOb06ROsSPEXNv78LUNuTABS71grGwDaf1V5jTHDdrozM02warAm8jc1YzjZu/g+pgG9xEiHc8nQC9XL+QmaBgGBiXz0OTh2wbWLtMu0SvSatlT41zzPgc9HNwvcUQHV4JTBD8LIwf+S9mSvSCsOKaIqU+yaME+1tXtwQmjKctF5ln1ZLtiilJANMAN4uuZ0bvEL8UQyhLXBeMY7Gb44wNuECocXCUvLHYrrCK7FbAGy/dJ68Th2NqC1Q/S4tIi2UPkffSfCCsdHjFSRVJTDkxjNLQae/Z61vTBObPssPexpbYvxTfZf/FyEVwwSEnuWf5cdVPKPt0gbwED6ATYfdHu0GnU2Nvs46LsJfm3BhoTXx7mJGAn/SRcHEkSvgao+e/tG+Sz2/PUEdJ61QbdL+nd+SANoh82NaFG20NwM9kd4QLk6O7VTsq0xLLBbcHFxxbVdenTBccj4jskTHRRyUw6PGEdbAKY7XneK9zn2avaj9+94tXp+POAAEAO/hd9IIEkoCJNHT4UugqSALH05era4kbbvtdO2bTe+Ofe9WcI5BzKMLE7NTXYJJcQ1vkX6bjcMNbA0l/OWM6+09rgD/bHD3Ul3zbFQTtAVDMZIOsK0fkj75roA+Xz41Dl/eif7mf19vz3BOoLXBKkGT4eVh0hGVsSTwg4/Qf0Mu2b5gzhD+DN4PXilevR+mgO/CQLLCgikxYxBOX3hO4p5yLnKt+j2qLfjObB818HyRYXIXMnFypeKAwf5REHBXf4E/BY7JvqQOwl8Xn2qfpU/U7/NwF1BCULexKnFloXaRMDDRIHhwBl+7T2NPEs62bnF+go6+fy3gGCEzwSKgjtAVH5KfUP8hLweu0V5mPjxOvh+S8L0hvsI4Ik9iCrGVsSaQtbA6T7PPTd7+fv9fDT9On7qADDAvkDmAN6AmUCKAXBB8IGdwWwBGQGFQmCCBUITQGU9/LzV/Jm9Af62QB5DNwKMPn97ivoc+cR6mfpheqZ5/PlNPDfAO4SVCT1Lq4xzi6tJtIajwvG+UHrc+NE4pTnvu+D9/v9pAEFBLkGzgg6CogKvQmzBgUAVPq++Bf7MAARBFsGwgSwALr/WgF0A0QHuAzeEpgKZPYk63HhJN3h2SHXOdjB1+rfsvOYCOYakCkCM7o4Lzm9N1grnhM3/JXopN0u26feHubF7Jf0Bv5yBbkLNQ9vD0EPXA2OCR8Ey/3L+bz2ZPTq9Hb2svnD/wgGFAuhDmYTMxljFMcEWvm072Pm6N5c1XnQ78sXz9jfP/QpCfocZis0OepAzjgvMIQeMA8QBFz0b+6H5Zjeg+EG5jjwv/cz/jkGdAryD9AQbw4/CwoEPwEn/wP6jPWi8ELwfPPm+XADdQxvFxsb7hH3By4AhPlf86jq2+C319LTPtlZ5EPx4f1kCeEXZCcHLh4r7SK1GN4QXgtOB7cBKfn78q3w6fBB8qXy9PNC9978PASVCOEJnQm1BsAF6wRbAPb7rPYS89Xz9/Wq+/wDlArcB+4ASgL2AocA7fqY8hrs4uVC6gH0/vr0AM0DmQinDIYOkA7RCa8I0gwsD7kQ+gymB9MFGQPqAroAUft2+Uv2wPSC9c32mPqT/AoBNgWkA4gDCgIiAFj/XPzV+0/9QwJx/6TzvPHG83r3g/o4+hb84fnx+0sEKAh0CVgMoBCoEGMJrf+z+TX4+/do+nP8t/8jBukKsw7aDuAKWAgFCPEFowAj/IX5pPeg9gH4D/li9pr2d/z4AQMFCQUOA5IDoAIa+xb1+/Pk8rfwEO6u7XXw/vWP/zML6RI5Fv0ZUBsKFk8MGQVYApD+m/kk9hf0afM99tX7uf/bAvUHjQxjDm8LPAXLAWcAtv7e/Sf9E/rW9P7yAfZr+QT8QP8yAq4DAALo+6n26/Z++Xb4IPUB9Tz3vvkB/hYEWgvsEAwTbhTkE38PBAvsB8UDfv6k+iT6jvs+/cD8OPq8+ez9QwNoBPYBJwB2AB4A5f0j+2j4HfjU+KD4sPhU+fL7ef0i/T79mv6nAcwCjwHIAVIDrATsBBYEkgKHA8gFlAXOA6gCggPqAwgDSQKDAj0C7wAEAOn91Pt4/N792v32/VT+Fv9G/xD/lP4B/vT9g/5H/lj81Pok+sz44flX/KT+cgF+A1AEygOnAyIE9wP6BLAF/wRdBAIEHwIrAML/u//L/y3/zv21+yX7VPuA+8f8af4LAOUA2AGMArwC0QKuAtsC8gKRAmcCJQIEAYb/6/0c/KD6k/nC+F347Pgt+pz77/0aAcQDNgUEBp0Gjgb7BSkFUASzA88C+QGkAQYBtv/j/Ub8Ifsy+wb8Lfxy/JH8ofxv/dr+2ABNAy8FQQWaBH4DagKUAQUB1wC8ABABc//p/Jr74fqh+nT5RPkb+eP5mvx0/iEAKgJEBcQH1QjcCbUJJQhUB48FwQHh/2wArADv/Sz6JPn2+un7JPqZ+W37b/wJ/OX7Vf2s/q7+IgH4BDoFpAJxAhgFaQX8AiECwwOqBNACnwDL/wT9/fdJ9tz45fr3+oD8VP+AAF0BwgR8CA0Iowb/BpcGQgQNAW3/7v0Z/Hj7dP0l/nL89foW+8z7nft7/Hr8hPwX/Wr99/6VAekDqAUICP4IBgetBf4GCwfBA1sBCgFO/8/7ZPm896X1u/WR+SD9Rv2j/dsAgAN3Az0DMAQrBAwD9AJ8AvL/8f3//ar++/6l/0EAq/8O/3j/CgDD/kn9qv00/gf+tf7pAMoCwwOLBbYH6Qg8B04GlQbsAwAABP3p+RD3I/Zk9oD2Afeh+PD6Vv2U/2ABjwJLA2kDFANjAp8BtwF1Au0CpQLOAVsBtQFhAgwD+ALNAusCyQIJAs3/Mv7J/ez9YP6Z/Vz9t/1P/04BqwJdAywDKAJzAIP+WPvB+AX4ivjr+NP5oPsp/f7+yQADAu8CswNPBFcEtAMQA40CWQJ9AqcCLALjAYECOwO7A6MDWAP3AvoCogOIA9sARP4z/dr9zf7s9nfuGvMX/JL+8fs2+yf+hwFZBP0EQAEd/nH/DgHu/xT+jf0H/wkBhAK0ArsBMgIrBDcF4QQ/BLQDBQMVAkoCgwHO/3b/+ACVAToAuv8hAG4ALQBuAF//TP1F/JL73/nU9733hfi4+Jj5YPyk/9sBqwMsBbEFZwWUBE4DrAFdAFb/M/7v/U//1wAyAccBmwN8BQsGKwZWBdkDOwOCAn4Ayv1N/Hv7M/tm+837ovyO/U/+zv75/gL/V/99/x3/QP4u/Tf8Xvvm+qD8kP+0AaMCwgNTBZkFmAXkBPMCuABvAOf/BP5P/XH9N/9OATUDlgTJBGYEHASWA3QClAAA/8v9IPyr+uf5Y/lE+SX6HPwI/iv/5P8fAJUAYQHuAX8B0gANAasBGwHU/9v/pf9jAGgB/wEhAuQBeQFzAYsBQAHyAM4AvgA0AIX/MP91/0AAJgEnAkYC4QCQ/xb/4f6C/uX9Yv0y/ND7HPxf+9r67PtA/sYA6AG6AQMCsQJmA5cDJwSlBNMDkgI0AXr/jP6C/lH+9v1b/mP/rv/A/4IAhwHPAb4B7ADP//D+Mf9Q/qj9B//t/24A6f8RABUALQCwAIQA3v9F//b9Zvy9+xX8yPwB/tb/TQEmApcC7gKcA8gEsQXrBfgEUwPxACn/a/6y/Qj9Uf2r/fX9fv6g/nv+YP4Q/73/YP+J/qn9Rf0p/Xj9w/79/wwBYAJuA4gDjwI0AlYCCQJtAQkAZf4w/U39qv1C/tP+swBFAl4DuAMDA6cC4wK9AvABwABx/0/+cf3E/Gf80/xR/Vr9n/3M/cH9n/18/Sn+Zf+yAGABcAAsAVEBbAGQAfoBkAI1A68DNAPTAcwAzACbAPX/HP+R/gr+5/1+/hz/1P/OAEEB+gBpALYAnABKABUA0P8k/zH+sv5X/s79+v0G/oX9mP09/jb+S/7M/uD/NgFhAtkCoQJrAqwCEwPOAjMCPQL4AboBhgGjAPX/cP80/+/+mv7i/WD9Mv3l/UX+GP+3/6L/r//f/w8Avf9s/7P/VADGAMgAuQCOAC4Aqv+s/g/+AP5u/uL+S//E/yIAFAEGAk4CZAL1ArcCaQLbAbwBjAEbAasABgB+/wz/rf6f/r7+v/5b/sL9uf37/WH+ZP4Y/iH+QP+BAHIAUP9Q/6UAwgHaAu4BogG1AYkBrwCK/yH/Jv/a/rn+E/+Y/8P/FwAKAf8BSgIrArwBPAEuAQ0BYQAu/6b+jP66/lL+/v0o/kH+Qf5B/kH+Qf5B/kH+Qf5B/g==\" type=\"audio/wav\" />\n",
       "                    Your browser does not support the audio element.\n",
       "                </audio>\n",
       "              "
      ],
      "text/plain": [
       "<IPython.lib.display.Audio object>"
      ]
     },
     "metadata": {},
     "output_type": "display_data"
    },
    {
     "name": "stderr",
     "output_type": "stream",
     "text": [
      "100%|██████████| 600/600 [01:29<00:00,  6.68it/s]\n"
     ]
    },
    {
     "name": "stdout",
     "output_type": "stream",
     "text": [
      "Epoch 0, Loss: 1.866068463921547\n"
     ]
    },
    {
     "name": "stderr",
     "output_type": "stream",
     "text": [
      "100%|██████████| 600/600 [01:29<00:00,  6.70it/s]\n"
     ]
    },
    {
     "name": "stdout",
     "output_type": "stream",
     "text": [
      "Epoch 1, Loss: 1.688313790957133\n"
     ]
    },
    {
     "name": "stderr",
     "output_type": "stream",
     "text": [
      "100%|██████████| 600/600 [01:29<00:00,  6.67it/s]\n"
     ]
    },
    {
     "name": "stdout",
     "output_type": "stream",
     "text": [
      "Epoch 2, Loss: 1.3757433779537678\n",
      "Test Accuracy: 77.83333333333333%\n",
      "132\n",
      "540\n",
      "ASR: 24.444444444444443%\n",
      "Clean Accuracy Drop (CAD): 21.16666666666667%\n",
      "Backdoor Attack Success Rate: 24.444444444444443%\n",
      "Running experiment with poisoning_rate=0.1 and vibrato_rate=20 and vibrato_depth=0.0005\n",
      "Poisoning rate: 0.1, vibrato_depth: 0.0005, vibrato_rate: 20 \n"
     ]
    },
    {
     "name": "stderr",
     "output_type": "stream",
     "text": [
      "Some weights of Wav2Vec2ForSequenceClassification were not initialized from the model checkpoint at jonatasgrosman/wav2vec2-large-xlsr-53-english and are newly initialized: ['classifier.bias', 'classifier.weight', 'projector.bias', 'projector.weight']\n",
      "You should probably TRAIN this model on a down-stream task to be able to use it for predictions and inference.\n"
     ]
    },
    {
     "name": "stdout",
     "output_type": "stream",
     "text": [
      "Playing clean audio 1\n"
     ]
    },
    {
     "data": {
      "text/html": [
       "\n",
       "                <audio  controls=\"controls\" >\n",
       "                    <source src=\"data:audio/wav;base64,UklGRugUAABXQVZFZm10IBAAAAABAAEAQB8AAIA+AAACABAAZGF0YcQUAADm/wAAAAD4/xEA7/8RAO//AAAAAPj/+P8AAPj/+P8AAO//+P+7/+//GgDE/4//OfxK//MAiv4n/3YBnABLATABAADFAfkBfv8iAGUBEQBS/+//fv80AAgAx/4AANkA3v8v/3EAHwG/AJj/EQAFAV8AUv8v/1cAof/h/uH+mP9k/yf/6v6P/0UAu/+H/7wBsgScAGgAIgDfAUIBWf2W/QoCAgKf/R7/agJHAh8B0QCnAl4DvAGcAIEDLwReAyIAdgGEAo//Z/4IAD8CHwHWAV8AAgLHAxoAE/15AO//Tf47/i//4f4iAKv85vri+8H4ofdF9qj10Paz90f43fo7/jwAEwJeA2AF6wXjBTQFSQRjBI0CJALNAcEC5wH+AhcG2gXaBSUHMQaABnMHnQW1A3MCGANHAnX/IgAGBmEKAABFAIwF/wfaBXoF2QhX2VvYf/yv0RPJreRm7N/v2P4l/RwPSyg7ECALcB29E5H8n/2s+Rv4evsA7kj10AiuBUD6OwslFNYOGBB/DkMTvRPOBsT/3QSH/9j5ofey8qwDzwMd9TP+dg5TDs4GSgkWCTUSLwxZB7D95OP/6AnmeNfb0eXgLuj+6yH5xP8kD/oYtRBFDdUW9QpV+Sf3BvSk8YLuXeyt9rsEmwPVBJoTVRhmE+YR1REHEAYL4QPbArkHmQHB+D8CkAkKArwBAQovDLgKUwkWCeUMugz9Be0HaxTXE18iWLy4laUiEMIBgMfPNfOD5gb0zwMSEtlW1y0QCJM3mUL8ALbpjfh24hbV6cXpxXzoGvvh5OH+ZjKjJaIbYyZzKXIfIg1g+7YAhQfy7JDq2AOdBaX2ngLAEuoVcBX0DVcSmxgIDUL8IgAgCzj/O/kUDGIUtgjblTrN/R8IoA6m5ehO+wbnhf3c/Qwmo0fECSoQfTshKgrw0P6WAmbsSNvGxTXe7PN15f7WxQ4PJUAMfBQMJgQr6Rj8CJEG7hRCAUPnwfirBtj5yfOyBDQNJRSQDgoPsxs9GjILUgRcDoMF6vaD8yf/HQxfAM8Y0Aiui7n1YhQkjWS2Bvn86cDZXgN09VQohziNAhUedEh6H5r0kBaDBbnwxedW3E/RWtMk4xzWFfILB5sQcB16J2UorSLnIzUS9A1eA7v3T/N89cX0GfY8AEIB9QqyEYgTthVEHXIXSw5pEkEE2/iN+Iby+PKi7/79zQ5xGgUBeLBrB4wFLKrVwxLzIukv2Kvv3vcuIeAYsAIdJv87gBPiAB4eUQx89QjpQ+fR7uLUc8G76gP6RORE/mgiqyBYH7IexSB0JiwSHfpdBuoIlvCU7kH/x/5U/EcCcAgCFAIU9gciDQ4gog4h/j0N6AZI9Ybyffqg+mcI5gTQCCf/nNRF9pjq58iQ1dXqvd/+4/X4cvjBDyoQjQ9kHj4kmxCBEH4WpwIX/Fz3GfHJ69/vKOIp0ij8kvl56T0F3RnhEBoSKBsWFrUYJQfy/rULvgNH8G78Hgkh/sUBDQnIDagMhAqTCHIKawwtAqkE3gkMBA/5s/yWAuT9EftjBPQSoxOvH0jomdURDSrXtrVH1pzp/9PP3yPuSwFTFoYEdREFMA4oOwsoG+YegAbI+x31mvSG7ezmptFL4ubyguFy834JDBHnDigbtR16H9UWkAmkEIkLK/sE91UDY/ri9tX/bARXBd0E9A0/D1gKVwVHCokLSv9tAbgCsfpu/F7+yv37A38OJA/4HhPw8t+QCabek8Lr2TrnT9F73tfs8PfHCFkCzBFZKfwi3RGKInAi7wnhA7X+dPUr7uTjH+KI1ajb1PXJ5hT1KRMiFQQRvyInIyMaMhjXC1EMFAcB+PH0eP5f9i/yKv7E/8T/1wbSCrMJJxFwEBQMtRA7C38B2wJs/4T4sP2n/RoA/AijGKr3Otr8CAXvZ8pY3jnv2dys30XuCfPrBWD72gWMH50aQQnoG04iuArhCGUG6wBm9A7vAuNi27zv/t7q5EH/jQLrAKsTKh1KFoEdcBUfFskSzAQRADIDIfno7zT7wfg1+PD8kQZyChkIvw3dEYEQVQtvC+oIOAQc/WD7PwJ0+qL82AMKCgQJQOBi9Z4C/dm119bv8Ooc2xTtsvKn/Rf8iv50FP4XLwz4EVEh5A/ZCEwL9AW6+h7yo/Q/24vhcPHj3rHtUv/nAW4G+BYzFa4apxymEoAY2BDVBIED9wTz9gT3yPu59Sn53P0FAY0C1QkWCZkOTRDeCfQNRQhPBdMCtgDq/g4BygKEAnoNCOlt6qAE7N7y18vtO+x53DftevP49y39xfzKD10TDAyKEBUe8hBTCQoPwgcH/vr0D+xM7HLrX9wv7cH44u4F/KsOYwwfDoYZTBheGMUTYQ9NEEUIf/x1/9j+nfPL9Tv5bPpg+3j+Bga9C4II6QvaEvoLNQqYCdMHswFs//4CiwBFALMJu/Ky5W8D9OaM2Qju0utF4afrDPKR9GL9AfgnCdgQlge/DaAZRw+AC5YP4QjDBAz6Zfzh5N3lwfie3hDprvug+p74Gg2/Dc8QmBaUErAcWRRRDFkPnA2C+7n9VwAJ87T0GPkp+Y34Sv/PA5gJ5wmgDNsPvw2XDH4JkwjjBRIFNgIjBRUEHOgh8Yb6hdsf4ibtx+RB5YLuufDy+SP7rf4kD6MLcgpWFRAVVw0CD5QNfAfE/270N/Us8w7i2+ty86frRvOuANYBogbfDhoS7BeRE70T0hfFDnkIAQqBAxr7YPvb+Kr3SvcP+Z/9df+EAl0GNQpyCgYLtw01CnYJfgkUB70GVwU3B8/x+e9q/THiZeJA7WPlbuLP7HHuVPRm+cj7uAoKCu8JVBOlFX8OpBDYEMcI2APB+C34+PKx6ODsDu8m7fvxl/p8/dgDuwlZD6sTXRO2FRYWmBEADR0MlAUiAGr9uvrs+Bb3WPgJ+wv9j/+KA+MFVAYPC68KkwiaC7YIbQmzCUoJ2wJZ8D/90fNL4gTqAetT4lvlIezk6x31yfP7/sIH4wVvC3wUPRL5DtMURw/bCgwEGf49+z/wquoM8vXrEOnO9B/3AfizAf8H1wvkDywSYRcBF+8RiBMQELkH7wTWAaX7Kfmz9zn3s/d7+Fn90QAFAbsEbwv/B20J3w5jDLULHw52Dhb3Efu2AE/m/+ij7FLlouLF51Home+N8FH19wSWAogGVxI6EyEQyxToE9sPkgtLBlcFlPvy5Ef43vJL2v7wK/a460j12wJnA6EJ3gl2FhEa4g0kF90ZfQzhCGgNcwI5/Nj58vl7+NjxwfhN/g78vPw3B1kHVwV4CysNiA6cDaIOqgnp+RMCe/jE6lfu/OlB5aDlNeYr6VPvuu3y+VL/aABHCi0PZxB6EpYURhIAEkwLrQiYBPf6pvMI9vTuLugl8MjuHPBi9Yv71f8SBa0ImxA1Eq0QthWIE0cPtw24CjQFiAFI/WX8gPkr9hX6hvo9+/79XAFXBZgEPAi6DIAL4Au/DRMPQvx8/bIEGOxa7cXv/+iG5Uvn3Og57ybtfvKqAb7+WQKuDVUQ0Q1uE8kSfhHIDSIIcgquAIn5fvde8aTxVexR7ZvxUvI69PD8IgC4AiQKCA1VEOoQfhFpEnAQrAsPCyIIQgHE/wL97vqN+DL5nfsF/LP8ogEvBPsDcAg5CWEKbwvuDGsMrvvRAGoCAO5z8FXxu+rX5+HpAesK8LHtnfOy/2r9iAEGCzEOrAsHEOEQKhAyC78ITwqZAQf+YPuJ+aTxV+5N9pTuH++q92z6ePn8AHoFXwj1CjILQREtD0AMBQ4oDj8H2gXdBBYB5P2d+6v8YPvU+p37+P+H/0UA9wSyBIMFTQguB3AI2QiABi39If52ATPxlfPz9h/vce618UfwQ/SF9R/32P7V/xoApgWQCasGZAnSCl8IPwdXBSYEUALv/9z9uf2d+4r2p/hc/DD3uPgv/5P+gf4TAlsEIwWYBN0EvQYGBsECeAM0BRwCVwDFAW0BVwCcAHEASwEFASsAqgETAosAggDFAW0BXwDRAK4AtgDv/2z/7//M/y//Df8e/8f+gf5W/or+eP7c/WL9hf35/Jn8Zfx//G78DvyI/BP9fP3B/XD+bP/V/zwAnABcAQICxQFzAsECewLkAhAD7QJzAiQCkAEoAZQAnABfAGgAGgAaAO//CACuAA4BDgFCAaIBfwE5AXYBUwHRAIsAXwCH/zj/BP+T/qT+cP7Q/vL++/4V/1v/fv9+/zwAKwBOADwANACp/6H/OP/Q/jP+Xv4Q/rn9c/2f/af9n/3t/UT+k/7y/lL/zP/V/2gA0QDzAPMAMAEfAfwAvwClAKUAeQBFAHEATgDm/4IAvwC2ALYAQgGzAcUB3wHNAXYBvAHNAVMBQgEOAdkAXwDM/6H/W/8N/y//Uv+P/37/h/+h/97/3v+p/wgAEQCy//j/1f9s/4//W/9s/y//Hv/7/vv++/4E/2T/Sv9+/6H/qf+7//j/NAAiAFcAKwB5AJQAiwBxAIIAVwBXADwAaABOADQAggCcAOIApQAWAdEABQHiABYBDgEfARYBBQHIAK4AeQBxAL8ApQA8ACsAqf/V/8T/mP/M/5j/ZP+h/0H/Hv9K/wT/+/6K/sf+rf5n/l7+m/54/tD+Hv9S/4//1f8AAPj/+P/v/3kARQAiACIAEQArAOb/7/88ACIAiwA0ADwAiwB5AOIAtgDRALYApQCUAK4AvwCCAJQAlACLADwAeQCCACIAVwArABEAAAARAE4ANADM/yIAKwDv/xEA1f/v/6n/sv9+/3X/BP8v/xX/Ff+t/h7/BP/y/gT/ZP9b/37/qf9s/6n/of+h/7L/u/80AMT/AAARADQAIgArAO//NABxAGgAnACcAL8ArgB5AMgAaACLAKUAXwC2ANEAtgBxALYAIgAiADQAKwA0AAAAEQBFAPj/NAAAABEA7//e/6n/j//E/4//OP8N/9j+0P7H/uH+vv4N/x7/BP8V/zj/OP9s/4//Uv+p/4f/zP/v/wgAAADv/yIA+P8RAEUANAB5ADQAPAAaAE4AeQCCAJQA0QA0AEUAPACLAHEAggCLAFcARQBOADwA7/8aAAAACADv/xEACAAIADQAEQBfAIIARQA0AMz/AAARAKn/mP+y/7L/u/+7/4//of91/2T/ZP8v/1v/BP91/0H/ZP/V/7v/xP+Y/xEAxP80AAgAIgArADwAKwA8AEUAXwB5AJwAVwBxAEUAVwBXADwAeQA0AE4AAABfADQARQBoAJwAlABxAHEAGgA8AE4ARQA0AO//3v/e/+b/zP+Y/7v/xP9+/3X/bP91/8T/ZP+y/6H/fv/M/4f/u//e/8T/j/+Y/3X/Uv9k/3X/sv+h/7v/df+h/0H/7//e/+//aAC7/xoARQCCAK4AiwCcAGgAcQBFAE4AcQBxADQACAAIABEAAADV/8T/7/+7/6n/zP/v//j/EQAaANX/EQDM/7v/3v+P/37/h/9S/4//ZP+P/y//df9b/1L/bP91/4//zP+7/6H/xP9S/0r/W//M/7X+4gAH/jYCq/Qr6YkLRgUWAeUMCABuBub/3uqH/xMC9/p4A9UEFgnfBsz/PAA9BREA/fO3+xD+wf0hA3/8Nwd8B9cGBAQh/pAJ9v3rAJQAyPtnA8r9ifllAcX8pQC5/UT+zQGuAE0Dq/wHA00D9v27/xEA4f68Abv/2vtQAvD8nACR/Or+RQCC+6AEkPfJBaAEXvmIBnr7bgYq/j/9mwN//MIH9fi+/hADTf5tAU3+2P7RBe39xP+lALL/PwIq/n7/JAL5AQAATf4fAe0Cx/6n/d8BL/8JBXb8GgDkArX+QgE9+0YFN/o0AI//K/sEBFn9iwC7/+0CrgCj+aIGZP+F/dMCY/pNA63+9v1FABP9vgM0+xYB4f7v/+kDFfqBA5j/CgJCARP9uAI8ALMBFf/t/VkC7/+T/pwAUv+NAsoCVPwwAbMBfv8F/MT/+QGZ/PMARP7E/+YEeQAt/aUAjwTk/VD9KAF4/rn9AgIZ/kj9SQTQ/jv+tgBNAx7/gf4yA/T70QCSA/j30wLk/UUAfv8v/+//lv0hA5n8zvxJBK3+u/8fAUr/8gPM/+b/uf1ZAhgDePk/ArX+mP95ANH75wHrAGcDS/znAUkE5v84/1v/ngLM/3EA0/1Z/QYGTf6r/BoAGANLAcH9vAHK/U0DHAJ2/Mz/KAG2ABf8eQC7/zQANADk/Vv/0wLZAEj9iv52ARMCj//8+0cCpQBnA1b+0/2yBN7/Uv8F/Lv/ygJ4/kUA6PyzAQAFOfyb/v4CngI0AE3+j//e/6UAZP/i+7gCagKW/cT/VwCsA+//BP/zALX+2wKF/Wr9hALm/20BKv4AAAUB4f6WAhz9df8HA3/8RQAiAPv+PADy/n7/2P4CAvL+Kv6NAmz/zP9lAXj+CAC8ASH+2P6CAMf+Kv4AAKH/bP8aAEUAO/7iALwBDf/zAJwAcQB2AYIAh/9b/wUBnACn/Yf/RQAwAdX/4f48AL8AEwLY/oH+tgDiAAgAiv6p/3X/Df+zASH+Df9QApQA0QBfAJwA6wB1/yIAjf0v/4gBE/2P/63+vwA0APb9eQDK/SoDUwEF/HEAaAC7/xMCNgL2/YsAkAF6+zH8vwD+/Zv+IgBZ/Q3/EAOiAe//kgNnA+cBCgIiAGT/ggBTAU3+m/7NAaH/sv8rAEUArgAAAOr+9v1fACIA5P37/ggAsv9s/y//B/5k/xEAzP+h/4IAFgGUAIsAsv+uAMgAggB1/ysAvwC/AMf+J/9cAYIAxP/v/4f/dgH4/9X/k/5B/0UAk/7v/yIA1f9fAOb/2QC7/3kAnAAV/5QAHwFoAFcAj//M/2gAiwBw/i//2QBlAYIAsv+LAOIAHwGY/w3/ggCUAI//2P5B/37/zP/V/9D+df/RAPj/NAClABYBBQH4/yIAh//RAEUABP9FABEAGgA0ANX/cQDRAHEAEQA8AL8AmP/e/1L/Sv9FABoAbP/M/ysACAC7/zQAu/8aANkAxP80AF8AVwB+/2T/1f9K/9X/3v9b/+b/yABXAMT/EQCy/7v/3v9B/x7/1f/M/1v/GgAaACIAcQAaANX/iwDIANX/7/+h/3X/AADM/4//J/8=\" type=\"audio/wav\" />\n",
       "                    Your browser does not support the audio element.\n",
       "                </audio>\n",
       "              "
      ],
      "text/plain": [
       "<IPython.lib.display.Audio object>"
      ]
     },
     "metadata": {},
     "output_type": "display_data"
    },
    {
     "name": "stdout",
     "output_type": "stream",
     "text": [
      "Playing poisoned audio 1\n"
     ]
    },
    {
     "data": {
      "text/html": [
       "\n",
       "                <audio  controls=\"controls\" >\n",
       "                    <source src=\"data:audio/wav;base64,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\" type=\"audio/wav\" />\n",
       "                    Your browser does not support the audio element.\n",
       "                </audio>\n",
       "              "
      ],
      "text/plain": [
       "<IPython.lib.display.Audio object>"
      ]
     },
     "metadata": {},
     "output_type": "display_data"
    },
    {
     "name": "stdout",
     "output_type": "stream",
     "text": [
      "Playing clean audio 2\n"
     ]
    },
    {
     "data": {
      "text/html": [
       "\n",
       "                <audio  controls=\"controls\" >\n",
       "                    <source src=\"data:audio/wav;base64,UklGRm4fAABXQVZFZm10IBAAAAABAAEAQB8AAIA+AAACABAAZGF0YUofAAD9//f/AAAAABsADgAWABkAFAD0/+r/+//w/9//+/8BAPD/AwD//wUA9f8DAAcADgAAABgAPQAqACYAHQCQAO7/EABuAP3/DABAAP//EAAYAPT/+f/w/+X/0P/h/83/0P/P/8P/1P/j/8X/1v/Q/8X/vP/L/8v/w//Q/+7/9f///wUAGQAbAB8AGwAzAAkAKAAxAAsAJAA9AB0AHQAfABIAIwAAABQAAQD0/wsA8P/7/+z/3//s/+P/6P/9/wkA9f8HAA4AGAAUABYAEgASAC4AHQAsACQAMAAhABQAIQAkAAwAAwAMAAEA9//1//f/5f/u//3/BQAQAB0AEAAYAAEA1P/o/+X/x/////n/7v8AABkAAAD7/xIA9/8LAAkAFAAfACYADgAuACMADAAfAB0AFgAfABYAKgAwABAADAAWAAEACwDw/9//7v/o/9r/8v/1/wEA6P/a/+j/CQDJ/7X/CwD3//X/mf/w/8P/dv+3/wMAbf8+/3AA9P/8/uj/LwFlADT+SQH3Aff9gQBbAf//5P6ZAA4B6f7d/woB6P+M/2IAYwCr/6r/NwA7ANj/y/94AGIAtf8AAIoACQC8/xIAMQAYAMn/WADSAHv/eADCAL7/NQB0AN//DAAAAP3/EADY/wsATQDa/xkAGAD1/xgA1P/3/wkA+f/w/w4A8P/5/9//4f/3/+z/wv/3/93/5f/9//L/BQAZAN//BQAOAOf/FgDo/+7/AwDj/wMAEADy/xQAGwDn/w4A+//d/+z/+f/Q/9L/8P/P/9D/6P/o/9T/9//l//v/2v/f//X/4//d/+j/9P/9//L/+//1/9j/SwDa/6L/OwALAAMAMwAZABkAUQAWAOz/AwAHANr/AwAHAPT/9f8MAN//4//U/9r/0v/N/+P/FgABAA4AEgAYAPD/+/8qAOj/BwASAOf///8DAPD/+f8dAAcA8P8WAPn/DAAJAO7//f/7//v/9//1////9P/f//v/5//c/wcAAQAFABkACwAHAAUAIwAMAPv/CwAkAA4A/f8+AA4A6v8QAAUA6v8MABQAIQADAP//KAD9/wAAJAAMACQAAQAFAB0AAAABAAMAEgD7/xgAFgD3//3/BwAAAA4ABwAUAPD/IQAhABgAHwA1AAwAHQAmAAwA+/8ZABYA+/8FAA4A+f8MAAkABQAQAPX/HwAHANr/DADu//D/2P8OABYA7P8BAPD/9/8DANj/y//d/9//zf/L/83/4f/d/+7/+f8BACEAFgAYADEAEAASAAsADgAQAAcA+f8AAAUA5//y/+7/3P/a/9L/CQDQ/7j/6v/W/9L/6v8DAP//EAD7////EADJ/+7/QADd/9D/YgABAN3/UQA9AN//AAAfAOf/4f8MABAA7v8FACwACQDA/1EAFABc/wUAXgCt/5L/ZwAjAGD/JgAwAMv/TQAoAAMAWAASAAUAQAD//wAASAAxAAUANwAUAAEAAwD0/xgADAAAAPL/AAASAOr/1P/7/wEAFgD7/+z/AAAYALX/Lv+g/8L/bf/J/6//uP8bANj/xf/1/yEAMQDH/9r/8P8FAPD/2P/o/xgAQAAQAPT/JAAmADAACwD3/xIABQAZAPT/2P8FAPv////n/+X/r//F/0QA3//S/xAAxf8AAOz/vP/h//L/GwD1//X/GQADADkAGAAOACgAFAALAPX/MAAmAAUAEAD//wkAGAASABsAFAA1ACMAyf/w/wcABQDy/+7/AQDu/+z/6P/Y/7z/z//Y/93/9P/q//T/3P/S//n/EAAJAPD/4f/n/wMA+//5/wkAKgA7ACwAIwA3AEkAPgBAADcAHwD3/+z/EAAhABYAMQAkAAwAEgASAOr///8QABIAKAAsAAkA+f/h/+j/4//N/+r/8P/0/9r/z//W/+P/+f8BABAACQAFAAMA9//l/9b/vP/f/+P/4//n/+7/9P/1/wMA6P8HABgACwAbAAkA6P/J/7z/yf/D/8v/5/8BAAUA+f8HAPD/7P8OABkADgD5/wUAEgAFAOP/3//c/+f/EgD9/wAA+//w/wcAAQAYAAsA/f8FAAsA7P/7/xgA8v/l/wMA9P8DAPf/3//5/+r/AwAHACoAIwAsABIADgAWACQAIwAkABkAKAAbAAkAJAAbABYAHQAsADEAHQD//xQA+//j/+j/4f/a//X/DgABAAkAGAA9ABQAIQAzABQAHQAwADMAPQAWAA4AAQD//xIALgAuADUAFAAHABAA7v/f//n/HQAqAB8A9P/o/+r/3f8HACMAHQA3ACMAAQDq/8X/r//U/+P/5/8JADEAHwAAAMX/q/+S/6L/5/8AAOj/8P/j/9T/2P8FABsACwAYAAkA7v/P/8//x//H/7z/zf/c//L/GAAYAPf/2v/o//D/+//Q/+j/7P/o/+X/6v/o//X/1P/c/wUACQAUABYA+//u/+j/2v/P/+f/8v8kABYA8v8FAAMAJgAQADAAQgA5ACwASABEADEALAAFAP3/3f/h////MAAsADkASAA3AFEAMwAUABYAPQA5AC4AMAAxAB0AJgAhAB8AJAAzACwAGAAhADAANwAUABkAFAAhAPf/3f/J/83/vv/D/9b/z//3/wMA+f/U/9D/0v/C/+f/BQD0/9j/pP+Q/4P/ov/D/wAAKAA5AC4AHQD3//L/0v/o//v/DAAhAPv/BQAzAEgASQBVAFMATwBlAIoApgB4AEIAFgD9//T/8v/1/00AXAAoAAkA9//Y/3j/hf+B/1T/XP9c/2P/nv99/zf/9v4O//z+A/88/0b/Vv9L/w7/6f7T/vj+//41/1P/ff+T/6v/uP/j//T/HQAwAIMAwADyADMBWwFzAYIBiwG/Ac4B7wHtAQ0CTAJRAlsCXAJZAj8CEgIYAhQC3wGrAWMBFQH2APAAzQCmAIgAdgB0AEYA2v8o/zT+S/1I/Fb7dvrC+WL5UPlD+V75lvnX+f35WPqk+gD7gvsd/AX91v2A/lH/CQDhANkByALJA2AE9ASQBQoGcAbmBrUHMwhwCFoIGQijBy4H6gZEBw4IbAi2CDgJ7wmHCkUL/gtDDEcLLQmaBI7/oPh68cXrS+Zn5avkn+c47MnwlPaK+p/+zgGEAzsFtAbABwYJfwjlB5QFfgIU/3D64PZK8lTuGesK6YnqyOxZ8Zf3hv2+A84GHgltCekHaAZOBCQDTwKiARICcwE8AYUA4/92ACIBgQN+BgkK7A2EEO4S8ROsE8ETaBO8FHoWAxdaF/EVnRIUDXQDKvdy60zf89d806LUQttI43nuaPgfAtsIoQzeDrkPSg9KD3EOEQ45DFEIrwPL/PX1N+8/6tTooOkO7bXyGPmK/Ar9Zv6j/FH68/hZ+dn7z/wZ/+MAnwA+/2H9IP2O/I78FP+6AXME0QUHBzEIVQchB9cHwwj+CckKbg03D3cQ/xJJFWEYUBr9HB8hziCUHRwYsw8FAuzubt640HTHaMN9xzTTFeFe8PX/Qg2qFAQYVxkbGewVkRKPENYNngiLAZv6NfLc6Avi9d+g4SrmnO7K+RADMAkEC7MIVAQI/RH4t/TD8x/1J/cU+hz78vor+x77hfzg/lcCtAYXCWULygtlCncIIAY1BbYEZwWBB5oJegwGENcTMRfcGQgdYx+nID4huiEUHpkXeg8FA/nweN1fzTjBzbrku93IdNlA7mUDUxbTIqwmNCeJIrcZERBlCKsB4fpb9PzvdupM5Abh5eDh4zTq5PRvAsAN2RUfGZsWdgw9ADz1XOr042LjGuc/7H/yQflo/m4BvwSUB9wJ3wp7CzUL4Af+A2MAOv1S++v7RP8iA/UGnAuQD1MS7hQoFxoZ+xllGScY/xcpFhoU/BUnFjUV+RXyEVILNv5t6B/Zk8XVufq5VcGW1bvqSAUxHLgnxSzQKf8e7xFkBJ770PUv8M7wsO8g7KLpL+bU5jfoVe/4/CUJOhXKGy0d6BUlBc72auca2kPXKdrG4mntHvlRBWwJ0QxrDwMNDgsZCMUFiwE3/Nj6efiU9//6e//rBLYJiw5YEnYSLxMnEy8SXBL0ET4SvxE2EI8Qvw5BDpET8hbuGZIgUiImH8MYXg3c9BrarsSbsNKpIa0XwzXezfo/G9Ev3zibNSIsnBtEB6/45+876GbkmeWW5I/i4+Fi5aLr5vPtBEAVwCHVKEAnvxsqB8Hu99q7y5DE5svZ2KbqpPyyDO0W5xdsF14SeQmMAor8Mvdz8/zxDfRs9vX7EwReCvMQFRU5F0MWXxNBEQUN/gmoCOAGZgYwBw0J+QtCEPsVaxm3HMQh4yEEItwjaxyrGNMR1wYy9PbWf8Vsr5WiuqkovdfaCv2cIt48a0TBQJAy9RVP+ujmHdm101/V098S5lnptPHk9M351QLHEJoduCRxKkAkixFo/Rnkp80kwHW7g8UK1CLsxgT8FTckASbpINsTwQO/9j3qheWq50fs/fVPAPEJqBF6FF4XEBWdES4PhwpUCCgFKwS0BBQFKAjCCq4OEhRzGPccbSFjIkEi6CJZIFsdMxyXGhQWUhAdDWX65NUTw5CtT5fpocu7nd4pBjIvDU6PS6Q/6StrBWflktNZzi7OftYU6ifxE/Hq+Iz6BfxSBhcX9SRGKLcrFyEfA1Hoh9Hjvaq4n8aa3TbxIwUrGKQZwxI2EJ8F8vns8wHy7O2B6r3xOPZj+qYFSg9iE64URRW4ELIHFgQHA27/LwEYBXwHswjwCjAPOhA0E+sYiBwIHY4eDyAoHCoZrxnFGFgXcB03IWcfPh9GFzUIxNaHt1mqdoKzlfa3b9uVEGIyzVhxTVE1xSep+EbdW9K10cXXNNpI7BTvx+NT73z3av0WFCoo4DdiMMkjXhGp5N7MicEwvCXL1OPRBBMVORwYHk0LMvkl7YjmJubd6xH5nfxN/Y4CVf5V/joDbQc/DDoN9g/CCuwDywKF/oL+3wEGBvwJhwzgET0UMxQ7FxAX5RQ8En8QNw8OD3EUTBguG7YiJyeLKPEqLCbJIfETRwu88Nex2ap8lAGA+LSn100QPDs3VkVk5DHSFxL1hr7quOq988XH3NTufgTcADYHTBvXEF8ilyufHjAUHfhg4J3EZrqMzIfb8f1AJDIwkDeMKO4Pa/Xh17TNF8Zv0FHjf/NrBzwSXxUlE5UI4wBy94/zn/eZ9/z+EAN5BGkFtgR5BMsFXwgGDq4RtRTrFMUQVg1mBgQEWwSVCIEPuxa5IK0mGyc6Ks4nGyEwIPUdqRp0GeoVugvW+k6/0J2fpb6Kc74191Afakv2RDVF+hPB3z7ZgsMMvRLggeiv88j2NvvbAbD7GxkUI3IfRCM4C/fultiVymTTKuEw/FYYKR2BIYAWnQcS/6/3UPsE/hH24uyU283T+dRu4Xf9LBHhH7ofFxKXAETtKuat6GPrv/gyAtUEcQyaDkoPXhGeDTQJqwOZ/4oAIgP2Cu4Q0xFuE5kPdQyiENAT7hr0HiUg5yPvIJAcqR9VJScl8yTPJdcV1v280VKQlZgFnz6zy/rXIF48ZDJmHhIP6um03Fb17uCJ38fms9Mm2azjA/0IGiklpi3GJVsGJ/Yd6I/kQO1e8on7VPpf8wr4l/9dBsIXyRxWGNYKBPkx69jjMej38NPy2O/36ars0fek/YkMSBGmCGD+PfRq7DfwzPbaABYFpQFJA+gD8QbyDy8SBQ/EChgC5/8MAb4Fxwu0DtkOEg9zDl0Rwhf4GRkdeBxqGDUaiRvgHY8kmCd5JH4jfBkmAKPdsqxPqaq84sEg6YQEcgsUDMgLpQxpEkEHmgliAD3gi9p42SfY+Ofh+kr+OwefBesE4Q0YDvQPQBKNBpD3xPKR68Ts5/U1/ED/7AFhAYEAuQKsBFEHBAYYBIP+Kfht9C3r+ueM9/L5jvJi+64CPfztAUcLSQaSAm0F0wLFAGoEMwbpB2UGtgEUAiwCJQKUBCsG9ASqAr4DEQYqBfYH0QmYBtkG1wZJBu0HYQkFChALKAoXDtsSjA+tDbUPywimADv6i/Qg8932cfEq8PLyVPE98dP3lvcR+Ev4Xflz+3L9MQEfAxwBWP+D/KP7tfzB/ab/Kf7H/Oz83f2DAPYCrQOtA0wBrwDRADEBwAKlAngA7P8k/xv/7vwX+1f8f/jv9BP4yfee9ST6/P1y/NL9EgJPAFv+aQKDArH/1ACDAPL+g//FAPwB7gOmA8YCcwThA48EbgaRBrAGCQeFB8cIMgrYCqYK+gncCtUL3gypDpwO/Au1CgAKtQedAAv82Pkr9gL0NvGw75nvQ+8p8R72qfY6+JP78vy7/Df/ewHC//T/A/8x/R392Pzl/DH9pvx8/PH9N/9EACECsAIcAoUChwIEAtUBEQHC/wP/W/6G/Zn8ifzj/MX65vZ++W77pfbu98P7W/mK+hIAFP+T/UEBOgFe/84BhgFNAI8BjAAXAQUDawJpAj0EDwROBEAGBQf+BtoH+geFB80IqQmwCdYKsgsGDBwMHw3TDyYPhAuvC7QL7QQ9/qX7CfeI9Tf1zPFl8E3yevFH80j36PbJ+Br7Pfs0/PD/SABJ//n/B/9S/T3++/2C/b79Hv0T/UX+XP/cANIBYgKYApkCCAPgAvMBDwHD/5L+7v04/Zf85PvF+iX5Vfcx+Nn4xPfP+fH7pvru/L/+ZP6i/1IBwACHAB4BqgAbAT8CpQEhAh8D1QLOAwwFwwQFBekFcAZ8B4gI2wgNCQ0JowlPCkULEgz5CyIOyQ/nDJ0KVQxsCLoBY/8T+2v1SfZr9dvxP/Hh8vbysvSz94b4z/lW+r76kPyL/o7/jACfAG/+3f1K/g/+/P1D/g79Lf2n/jkADQJRA24DyAKhAmQC0gEtATkAsP4T/pH91/tn+nz7cfkc9rz4i/k59336Z/wK+kL8rP5m/rj/VAF2AIoAGwGkAMoBnQLmAZIC9QOIA8EDaQWmBUgF0gaHB/oHCAlKCVEKtAtvDGkMng32DjwOOwylC+8JUAYNAsP9ffqU9wT2zfTs8unxoPO88/31L/hQ+UL66vpb+zn8tv0g/qP+of5O/oL+a/9j/6v/3v5x/p3+mf9CAOwAnAFmAS4CbwK+Ar4C1wHN/3X+vPxs+8/61vhQ9vD3nPi/9gH6S/1B+7n7hv+b/j/+wAB9AGD/VQDYAPgB0wI3An4COgP0AoIDpAX2BfsFgAcTCTQJTQpDDH4MsgyBDToNEQ6tDVcKfQqACcsCPf7B/cr4Z/Vk9nr0ifET9GL0q/Xd+Af6Avvd+4r84Ptd/nP+tP3k/aD9dPxt/v7+rv6P/iH/Ev8uAMMB1QF0AnYCDQIjAj0CswBcAG/+O/os+nz7Vvjw97356fff+Ov7WvxT/M795P2L/vL/HQAEARYCBAH5AEoCJQIPAvoCJgMoA8gEDAYyB80IlglICsEL3gwsDQoOcQ7gDFQLywp3CO4F9gA1/OP6cPik9VH1rPR98/z0V/aR+Lf5EvyP+8n8n/zo/Y3+of7J/TL+xf1g/gn/mf83/0D/AQB7AOIBQgIhAqAAPP/x/jX/bv0T/QH9vPos+lr82ftK+3L82PzY/GX92v5u/4r/6P+fALwAPgEfArkCiQIkAyME9gR2BZ4G/QfzCLoInwm9Cz0MaguvClsJWAiLB8AFXwP8/Vn7Cvuv+H/3BvmM92H2QvgE+X/60PvP/Lv7y/xy/P79Bf/T/oz9uv0I/Qj+vf45/zT+cv3G+3H8Xv61/lD+p/0e/vz+z/4LABkAM/20/bT+1v0a/p7/5/6//nD/bf9IAEABqQEFA4QDRQRJBqEHCAj7CI0JnwmQCvAKJwngB34HeAXjAxMEmwDW+uT7Lvwz96L4bvuY9kb3Tvv9+cn64f3N/Fr8Av5o/Xz+oP9V/lP++P64/Wf94fyD/HH8F/1I/Mv89v4Q/+/9JgDaAB0AGQHbAXQAnQB7AVIBPAFwATEBuwGAApwDtgTmBFoFLgecCIgITQjMCWIKEAhuBrgGzAQ3AmsCiAGg+4X5rvxR+kb3+/of+uj2Afp7+zr7E/1s/ZD8tv0+/br91v8g/uL7Zvse+fT5VfyQ+kn6g/z1+0v9UwAQAAMAmgFOAWUBlgKQAoMC6QJcArUC4wPMBIoFSwVnBXgHdwgiCDwJHwrUCJUI5wdTBegETAQGAU0ARPyv+EX7L/qW9pL5U/kP9tX5GPz8+Vz8hv1D+4f81/2C/WD+1vyr+ID5R/sI+//6lPvm+8T8zP1JAEUBUgECAoUCzgHrAtcEPQQtA5cDcwRPBUgFLQYJBy8GsAYLCakInwflCDkH7gMqBdsEJgFTAJH9LvoW/EX72/gg+xL63Peu+8z7WvqK/XL9Xvr1++j7Pfuc+wj7R/sY+3H57fuX/fD8J/7v/qz+7ACLAnoCFQOBA6QDzARwBXoFXgUuBccFSwbsBa0G/gb3BUEGuAbeBSoFiwQXA/MBZwAy/t78zfw9+/T5r/oW+l35Sftb+w76XftM/HD6oPrr+5D6AvtN/E77V/tG/E/8Cf67/vX9r/8xAdwAhQIgBGoDqQRHBpQFnQVzBk0GBAYBBhsGKAbFBXoFjAXBBBYEiAMdAgQBDgBO/hv9kvw0+8n6qvpN+sD6rvsC+536V/u1+pX6B/wA+xD6RvwA/P/6R/3W/S39wP6q/4P/UgFXApQCMASqBMEE9wWtBYwFpQZwBn0F0gXWBRIFPQUHBQ0EmQNLA2ACWQGz/9X+i/6Z/Lv7dPxo+6D68/vO++z6R/t++9b6qvrj+i37Gvts+yr8YPxg/Jz9fv6h/qL/nwBbAbcC8AONBBsFRAVvBTQGEQbNBd8FUwXRBNcELwS0A4oDegJ5ASkBQgBt/wz/Df7T/In8XPys++r7a/zV+2b7mvun+5j73fvM+6P7LPzl/F397P1M/tf+iv8zAMQAlgF4AiADugMYBFcEoQTkBMYElgQnBEUEGARYA2EDGQM3Aj0C0gFyAC4A7v+5/mr+U/42/fn8EP2d/Kb8nfww/DX8Fvwh/Jb8jvyj/BD9Uv3O/WL+8v5h/9D/SAAIAZYBNAL4AjwDagOKA7gD1AOIAxcDKAPRAjYCfgKYApMBagFwAWsAAQA5AFz/sv69/lf+0v0C/vn9yf2N/Un9L/0e/S/9hP2C/V39+/07/lv+DP9I/2D/8v8qAG0AJAFZAbgBRgJGAq4CBwOZAsQCbwK9AfoB8wEtAWMBPgFlALwAmwDD/wkAx//k/jP/Mf+q/sT+pf5G/mT+ZP7z/Q3+Pf4L/jD+if52/tr+T/9g/47/7P8wAG4A8gD3ABUBWwF1AXkBlQGwAYsBLwFBAUMBogAPATwBWgBrAOUAMwA1AH8A0P+z/+P/N/9y/3//9P4b/yz/3v4s/1j/wP7k/jz/If9l/8n/nv+V//T/3//q/20ASAAfAI4AfQA5AIwAlQB6AHoAeACKAJIAVgCBAFUABwBNAFwACQAHADAA6P/n//v/3/+o/53/m/+o/77/wv/W/93/0v/s/9L/sf8HAOr/pP/3/xYA3/8uAEIA6v8qADAADgBVADMAHQBLAAwAIQBgACMARgBtAAsARABcAP3/JABIAO7/3/8UAPD/1P++/+j/s/+Q/8v/5/+F/7j/6P/H/9T/3P/Y/93/3P/U/+X/9P//////+f/5/wMANQA9ACQAKAAmAD4AVQA1AAsAJgAOABYASAAYAPv/NQDu/7P/EgASAPL/IQDn/8v/JAAoAAkADgASAAcAJAADABYAKADu/wUASQAOACEASAAkAPD/CwAmAPf/0v/1/8f/ov/3/wUA1v/S/wEA2v/Q/+H/0v/F/7X/z/+x/6r/yf/1/+P/zf/j/9b/0v8SACwA9/8wAEkA+f8WAE8ADgAOADEA6P8JABIADAAsAA4A+f83ADAAFgA+ACwA5/8SAA4A3/8DAAMA4f/3/9z/0P/n/9L/z//u/9D/7P8HAPD/9/8SAA4AHQAJAAMACwDa//D/GwDS/93/BwDu/+f/GAD3/+X/AwD3//n/AAAUAAsA+//u/9b/yf/u/9//jv/j//n/q/8LAAkAz/8zAEIA0P8UAEIAAAAhAB0A5/8OABIA2P8BAPT/3f8HAPD/2v/9/x8AFAAYABgACQAhACgA9f8QAPn/4/8QAAwA/f8+AB8AKgA7AAMA8v87AAMA7P8fAPv/BwAfAPn/BwAHAPT/EAAHANz/9P8UAOr/0v/a/8X/vv/f/9L/x/8HAP3/AQD3/wAACwBAACMAHQAzACYADgAfAAwAFgAwAC4ALAAYAAkAMwAOAPf/EgD1/+X/GADh/9D/FgDw/9z//f/f/+H/EgDU/9b/BQDy//X/FgD9/wwABwD9/wUA8v/u/wAA8P/H//n/7P/o////AQDy/wAAFAAQAAwABwASAAsA/f/1////6v/o/+r/9//h/wcA7v/1/xkAIwAOADAAIQAYAD4AGQASAC4AFgAoADkAEgABAA4A9P/1//3//f/y//n/6P/1/wEAAQABAPn/3//a/+r/+f/u/+r/3P/7//3/6v/3//D/8P/f/+j/wv/f//T/AAD0/wEA5//3/xYA+/8MAPv/6P/s//T/5//J/x8AOwC6/9L/YwASAN//TwDh/4r/DgAMAN//CwD1/wcAEAD7/yoAOQDj/wwAGwDl/wcAMQDl//n/7P8BABAAGAD9/wMA5f/5/xAADgDf//v/8v////L/FAD7//f/GQAdAAUAKAAxADAAJgA=\" type=\"audio/wav\" />\n",
       "                    Your browser does not support the audio element.\n",
       "                </audio>\n",
       "              "
      ],
      "text/plain": [
       "<IPython.lib.display.Audio object>"
      ]
     },
     "metadata": {},
     "output_type": "display_data"
    },
    {
     "name": "stdout",
     "output_type": "stream",
     "text": [
      "Playing poisoned audio 2\n"
     ]
    },
    {
     "data": {
      "text/html": [
       "\n",
       "                <audio  controls=\"controls\" >\n",
       "                    <source src=\"data:audio/wav;base64,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\" type=\"audio/wav\" />\n",
       "                    Your browser does not support the audio element.\n",
       "                </audio>\n",
       "              "
      ],
      "text/plain": [
       "<IPython.lib.display.Audio object>"
      ]
     },
     "metadata": {},
     "output_type": "display_data"
    },
    {
     "name": "stderr",
     "output_type": "stream",
     "text": [
      "100%|██████████| 600/600 [01:29<00:00,  6.68it/s]\n"
     ]
    },
    {
     "name": "stdout",
     "output_type": "stream",
     "text": [
      "Epoch 0, Loss: 1.7521504478653271\n"
     ]
    },
    {
     "name": "stderr",
     "output_type": "stream",
     "text": [
      "100%|██████████| 600/600 [01:29<00:00,  6.68it/s]\n"
     ]
    },
    {
     "name": "stdout",
     "output_type": "stream",
     "text": [
      "Epoch 1, Loss: 1.5783484900494416\n"
     ]
    },
    {
     "name": "stderr",
     "output_type": "stream",
     "text": [
      "100%|██████████| 600/600 [01:30<00:00,  6.63it/s]\n"
     ]
    },
    {
     "name": "stdout",
     "output_type": "stream",
     "text": [
      "Epoch 2, Loss: 1.310951912800471\n",
      "Test Accuracy: 66.33333333333333%\n",
      "435\n",
      "540\n",
      "ASR: 80.55555555555556%\n",
      "Clean Accuracy Drop (CAD): 32.66666666666667%\n",
      "Backdoor Attack Success Rate: 80.55555555555556%\n",
      "Running experiment with poisoning_rate=0.1 and vibrato_rate=20 and vibrato_depth=0.001\n",
      "Poisoning rate: 0.1, vibrato_depth: 0.001, vibrato_rate: 20 \n"
     ]
    },
    {
     "name": "stderr",
     "output_type": "stream",
     "text": [
      "Some weights of Wav2Vec2ForSequenceClassification were not initialized from the model checkpoint at jonatasgrosman/wav2vec2-large-xlsr-53-english and are newly initialized: ['classifier.bias', 'classifier.weight', 'projector.bias', 'projector.weight']\n",
      "You should probably TRAIN this model on a down-stream task to be able to use it for predictions and inference.\n"
     ]
    },
    {
     "name": "stdout",
     "output_type": "stream",
     "text": [
      "Playing clean audio 1\n"
     ]
    },
    {
     "data": {
      "text/html": [
       "\n",
       "                <audio  controls=\"controls\" >\n",
       "                    <source src=\"data:audio/wav;base64,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\" type=\"audio/wav\" />\n",
       "                    Your browser does not support the audio element.\n",
       "                </audio>\n",
       "              "
      ],
      "text/plain": [
       "<IPython.lib.display.Audio object>"
      ]
     },
     "metadata": {},
     "output_type": "display_data"
    },
    {
     "name": "stdout",
     "output_type": "stream",
     "text": [
      "Playing poisoned audio 1\n"
     ]
    },
    {
     "data": {
      "text/html": [
       "\n",
       "                <audio  controls=\"controls\" >\n",
       "                    <source src=\"data:audio/wav;base64,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\" type=\"audio/wav\" />\n",
       "                    Your browser does not support the audio element.\n",
       "                </audio>\n",
       "              "
      ],
      "text/plain": [
       "<IPython.lib.display.Audio object>"
      ]
     },
     "metadata": {},
     "output_type": "display_data"
    },
    {
     "name": "stdout",
     "output_type": "stream",
     "text": [
      "Playing clean audio 2\n"
     ]
    },
    {
     "data": {
      "text/html": [
       "\n",
       "                <audio  controls=\"controls\" >\n",
       "                    <source src=\"data:audio/wav;base64,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\" type=\"audio/wav\" />\n",
       "                    Your browser does not support the audio element.\n",
       "                </audio>\n",
       "              "
      ],
      "text/plain": [
       "<IPython.lib.display.Audio object>"
      ]
     },
     "metadata": {},
     "output_type": "display_data"
    },
    {
     "name": "stdout",
     "output_type": "stream",
     "text": [
      "Playing poisoned audio 2\n"
     ]
    },
    {
     "data": {
      "text/html": [
       "\n",
       "                <audio  controls=\"controls\" >\n",
       "                    <source src=\"data:audio/wav;base64,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\" type=\"audio/wav\" />\n",
       "                    Your browser does not support the audio element.\n",
       "                </audio>\n",
       "              "
      ],
      "text/plain": [
       "<IPython.lib.display.Audio object>"
      ]
     },
     "metadata": {},
     "output_type": "display_data"
    },
    {
     "name": "stderr",
     "output_type": "stream",
     "text": [
      "100%|██████████| 600/600 [01:29<00:00,  6.69it/s]\n"
     ]
    },
    {
     "name": "stdout",
     "output_type": "stream",
     "text": [
      "Epoch 0, Loss: 1.6623525158067545\n"
     ]
    },
    {
     "name": "stderr",
     "output_type": "stream",
     "text": [
      "100%|██████████| 600/600 [01:29<00:00,  6.70it/s]\n"
     ]
    },
    {
     "name": "stdout",
     "output_type": "stream",
     "text": [
      "Epoch 1, Loss: 1.508112842241923\n"
     ]
    },
    {
     "name": "stderr",
     "output_type": "stream",
     "text": [
      "100%|██████████| 600/600 [01:30<00:00,  6.65it/s]\n"
     ]
    },
    {
     "name": "stdout",
     "output_type": "stream",
     "text": [
      "Epoch 2, Loss: 1.2908383410175641\n",
      "Test Accuracy: 45.5%\n",
      "540\n",
      "540\n",
      "ASR: 100.0%\n",
      "Clean Accuracy Drop (CAD): 53.5%\n",
      "Backdoor Attack Success Rate: 100.0%\n",
      "Running experiment with poisoning_rate=0.1 and vibrato_rate=50 and vibrato_depth=0.0005\n",
      "Poisoning rate: 0.1, vibrato_depth: 0.0005, vibrato_rate: 50 \n"
     ]
    },
    {
     "name": "stderr",
     "output_type": "stream",
     "text": [
      "Some weights of Wav2Vec2ForSequenceClassification were not initialized from the model checkpoint at jonatasgrosman/wav2vec2-large-xlsr-53-english and are newly initialized: ['classifier.bias', 'classifier.weight', 'projector.bias', 'projector.weight']\n",
      "You should probably TRAIN this model on a down-stream task to be able to use it for predictions and inference.\n"
     ]
    },
    {
     "name": "stdout",
     "output_type": "stream",
     "text": [
      "Playing clean audio 1\n"
     ]
    },
    {
     "data": {
      "text/html": [
       "\n",
       "                <audio  controls=\"controls\" >\n",
       "                    <source src=\"data:audio/wav;base64,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\" type=\"audio/wav\" />\n",
       "                    Your browser does not support the audio element.\n",
       "                </audio>\n",
       "              "
      ],
      "text/plain": [
       "<IPython.lib.display.Audio object>"
      ]
     },
     "metadata": {},
     "output_type": "display_data"
    },
    {
     "name": "stdout",
     "output_type": "stream",
     "text": [
      "Playing poisoned audio 1\n"
     ]
    },
    {
     "data": {
      "text/html": [
       "\n",
       "                <audio  controls=\"controls\" >\n",
       "                    <source src=\"data:audio/wav;base64,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\" type=\"audio/wav\" />\n",
       "                    Your browser does not support the audio element.\n",
       "                </audio>\n",
       "              "
      ],
      "text/plain": [
       "<IPython.lib.display.Audio object>"
      ]
     },
     "metadata": {},
     "output_type": "display_data"
    },
    {
     "name": "stdout",
     "output_type": "stream",
     "text": [
      "Playing clean audio 2\n"
     ]
    },
    {
     "data": {
      "text/html": [
       "\n",
       "                <audio  controls=\"controls\" >\n",
       "                    <source src=\"data:audio/wav;base64,UklGRn4PAABXQVZFZm10IBAAAAABAAEAQB8AAIA+AAACABAAZGF0YVoPAAB5/vsASP+L/9cAWgA7AS4BQQG8Adr/DQA/APr+7/+t/7L/ngHU/nz/IAHc/Vn+JQC9/SL/QgB6//8At//k/wkDl/89/wECJgAzAAQAU/+hAYwAYP9CAQ8DcAJ1AMYBhAPTAC7/BQO3Aun/CQHRAN//pv8e/RD+0v64/Kn7Qf2A/Tf8KfyR/LP7MfqG/Cz90fvz/zgBDP9nAkgD9QBVA1sDXgJeBIQDrQPcBkgGHQVtCGcJ9AnGC/EJFAf6CGwEaQD0Aif5wfDX7+nsY+s37BbvOPbV+Bb4S/xJ/Tb6Ffov+/z8xP7y/5MDRwcMB8AGRAgbCLgJ3AzjDOIP9RJhFJgUuhV9HfUaGg6yCZcDIPt72wfFNeFa5ETTZ+pXA/4D5QMnAVcBof8b7JznxvgU9tbs6vp5Br0C+QBUAdQF5QlTBJUDNg3PDCEGQgwcE5MSSBRIFgoYUhj4EmkTtRKKAUr4cf+y+U7sQe5H81/3+ftx+I/8uQf5A/z6zPmd9+HxQ+zl6JToaem464TuqvLD9qL5H/2o++n3+flE+mz2NPk9//QAVwSfCqYMNA+rE1ISnhIpGIcZ5BjdGucjqiolJYoobSxMHe4S+xNp6w+1wMnm4InBX7286UkGkw5fGcUasxzRKJgW3ep15Qfyod57yRPYNOop+zYGMwdXEQwkgiBjCzQA3fyz7hjfJN9O4cTZwd/n9IP35/SUA3sIJgKlAuQBWvz6+gf9svyN/WQEIApECn8NJhXjFfsXcB9rHg8eOSeEKjgiSCC4JXYUMgFECaH+3elN56fm1eHE5Njvn/KJ7A77YA3zAUP91gM2A2n90PlU9onwQ/Id+UHwxeoe81f3OvRG8l/1R/nl+dDxTu2s9YH4XvU49Bj4Iv45Am4BGf+6Ab0H5wixB3MKSxFoFcoTrRSiGTUblBwaIvIoti18M3c+uz+QKrEjzRgj4qCti7+C4+Kk0JG70Kzy1fcpBYQeayMZK01DtSIq/nD8LgBI523CMMXs13/bwONv7sv70w6eI9AljRA0EL4T0AWX8ArmJ+fD38TYzNy+4HvnkvLW+gT65f72DvsKDgAMAFMEVQIk/B39/P/CAvAH7QrxC3YP/xcQH+IdcR7lJc4tmzHPMN0uczB+Kl8Y8Q9PCBP5TOfM2H/EIcH624/aQtLR484D5RGeC4sTrx2WGjQWcwoj+Y3uL/Cq6eTTztRN56zuCu/A9dQDXQ2fD+EPiwfCAY7//vU9573gPuYe5fjgnOyq9cH5YAECCGgHXwV/Cv0I0v+CAsMFvQPVA1kI8wt/DC0QfxamFTMY0SKmJ0snQC58OYQ6EzLtKIEfBynA+eipmsFu5WO8BpPAv6n6IfGW9YMYFxzBM8o8qxWdAw0SwgZK2fDFgdrl3YLT8tfm6qcD6hObDLcLIRvfGb4Aee4B7DTjE9f+2ubf8ON0+Yf+T/o6C+IRHgRcA50KFAYyAqEFggbNB9wMFwzoCrwSExf2FSEeVScbKnA2QjrsOfY9MCq8KyoPWLYmxDnocaxakzvUF+vd3Or6HBs1Jz83wSq9EjQeXxVF4rnTJeU21+/HfNaW67X5xAHWBuIXfyB4Crj7WP5Q8G3hmt9+4Bnmxuxz7or6+AiZBP0BrQ3IDXsF6QZBCUQJUge1BNELKBBFC7gQnxyRIDIk0iyJNEM4ZDtjMLUsTCMRxWPBwfvnpbOFxeRB4tHMLQPUGQUlwDJdHBcieiXO9XDkk/DH10PIcdms5CjsAvR4AxUduxOGAk0PmgZC7ALpLOuC4hbgs+xZ9zD3EP2nC5EMIgRaDCsPqwZxBQAH+gcxBf8DAQ+3EcMMYhmcJjAi8ycqM/00QzEQKT0qVAR5vj3oAOEBgAS9ZO+TzDvrbhGyG+UluBiNKEMrZu4y8SoA1Nc3z1bhLuLe4kHukgO2Cw7/RghLEYj8ufV+/w3tJ+de9dfxdfOP+S0D3giHA44NAhEKA8EHBwzNBOcEhQk0DWINhRIWHFEbsx4yKPcoxiu0LIgmdynj+jLE9/Xdxo2gqt640FDHywc7CncT5xwqIUosnQlD/PkT9OeB0ivnyuHc2m3pAvi7+2j6hwasDjYAffx7BWX1GOqV9UH3kPBo9fICjgFi/qsMfQ2hBLYImwtRB8YFmAkzCw4IFgu1EacQMhPKGqof/B+fJHErNSa2IcAdpeMB3VADIK4ktJfmdsuG3nABIwECFyIUCB/xIj8FAAzbCbvj7eme8hXdOd5F6l3wlfMM+JcG9QqZ/3sIDwdf+Vf6JPaG9OfzAPE5/bf7DfxjCQcF8gVoDwsHMgfNCdEFSQbCBesGdQkUCHgMxRLAEkAUGRtZHh8dLiBHJ/0fkBazGDbnyOGo8D68s8mJ5fbFBOK1BIT0WgzOE7cW/B0rDDIO5hEr8QzxOf2d48Pgpuxl7PHttvAP/XwGT/xPBlsUIvrt92oJKffV73r5afb09J33PvsJAyEAnQGCDSUJawOzCXcILgPAAkcDvALwAVMDqwYCCAAJZAw6ET4RcRDkFEEUOxH0EtYTmxMwFdwV6BKdEo0CVOe69qXvrcVC24zvdtCn3aL+aPPS/GALZwm2FrsTAQIDEuIQ9vQG+MwAuO4/56/wze8+6/Tr0/Pa+9P4vfhaBSkHhP0QAKEGKv/G9wP8Iv3n9j32VvtS/hv+sf7lAycIkAV8BFwJrgnoAzwDVgfaBSwBkgLZBu0FMgPlBacJpgjwBzcLsQ3gDTUNZw1aEIkQNQ2wDwMSxBE5EBYL3AwSDYj8mPK89xjuJeH9427mXeP95iPuWPJp+I7/lwLYBsUMxwvhCAILogm3AU/+F/6e+Qn1TPMo8qvx9fGS8UfyA/Yy+Yj5vvrB/eT/8P40/if+Tv+F/nT7VPum/XD9ZPvA/CsAYwDt/90BqAOcBNQEBQUGBgAHKAY0BKMESQaFA1QCOwRUBD4EvwT1BJMFZAcJCFUGWwfrCe0IqAcrCC8JYQnuCCMJLwv+DOwJVwk0C2kK2AaaA2gCcQH9/XL6F/mM90f1e/R19OnzAfTu9l34GPdG+b/7JPw1/E79Wv5o/lL+HP4v/lD+pP0b/G36c/l0+Uf3OfSO9bT2OPWn9E/4kfvj+Xr7E/4a/zQAtACL/+v+lALtAU3+fv9OAhUCkP/5/5ECfAIbAtYBUgKhA5sE8AM8A9ME/gWJBYoEeQR8BfUFJQRAAm4DWgRnA1wCxwLOAzYEewSUBOoE8AVtBoMFkgSvBlUHUwT5A/QFhgajBIQDLQVdBUUDtwFnAUMBKwBA/sr8i/yU+x36bfkK+Vr4vvf998n3tvdO+ML4PPkC+uj6fvsQ/Ij8wPyq/A78wvsL/OT7evo9+nP7g/sz+477nvye/Qn+ZP4W/wAA+gCPAZIBHwJzAxYEYAMIBB4FSwTlAxUEswMjA3AD2wPCAq8CQwSxA/wC0QNxBOoDhQMLBNAD+wLmAwcEGwNkAwgExQNlA+sDKgRQA6ACIQKdAc4AW/8v/rr9G/3m+/b6uvpU+tT5R/kh+S/6r/pD+r/6Rfz1/LP8Tf2c/sj+fP62/lX/0v96/8L/KQDW/zUA4wCtAD8A3QCZAScBCAGMAWYBkwE6AsYBjgHjAt4CewHUAYECqQFPAc8BVwElAaYBUgHEAJ8AlgBKAOD/9f9m/3//vf+6/jj/k/8k/+D+7v+S/wv/7/+s/3X/iP+s/5r/sf8IANn/tv/X/8f/ov+X//T/EgDw/zsAVwATAAYA3/9p/3//gf/8/k3/fv89/4D/vP96/5j/pP9Y/2f/Q/8l/3P/Zv81/+3/tv8Y/wsALAA0/1X/sv9w/3H/uv+1/8f/4P/1/xUA6P/M/+T/wP+p/7b/1P/3/+3/AQBhAF8AMQB9AHsATgBLAGsAZgAqAFwAkgBEACwAbQBAAB8AbQBQACoAoQB2AFQAzgB/AGIAwQBGAFwAugD//yIApQD0/wwAmQAqAC4AUAAVAFAARAAMAE4AWAALABgAKgDy/7P/3//8/8r/z/8MAP//3P8BACkA+P/X/wkA9/+s/+3/7/+4/wEABgDm/x0ADQD//xgAAgAHAAAA4/8XABoA2v8MAEgAOAAwAEgAPgAXAAMA9f/q/+j/2f/0//r/1//w/y8AFQAmAF4AOABEAGMAFQA5AEsA7v/8//P/1P/3/7X/y/8NAML/ov8SAPT/2/8lABcA2f8AAAcA1P/g/+n/z//c//f/5f/H/9n/1//N/8H/3//y/9v/4//3//L/+P8aAOv/zP8TANn/xf8NAP7/8P8XABAADgAaAAcACAAJAP7/AgD9/9f/AAD3/+j/EAAOAAcAHwD+//3/9//M//T/8//k/xgA/v/h/yEAGwD6/xcA7v/W//j/yv/f/9z/5P8TAPD/5P8iAPf/yv/8//f/0f/m//D/3//y//j///8gABAALAA0APz/JwAxAAIAGAASAAMACAANAPX//f8LAAQAGgAOAB8AJwD3/xIAJgD1/+v/AgDt/7v/zf8AAOP/7f8mACsA//8DACAAFwABABYAGAAEAPX/DAALAOT/4P/4/+j/zP/a/+b/4P/1/xYABgAgACYACAAbABIA9f/0//n/6f/3//n//f/v/9z/7v8aABEAAwAWADMAKgAlACwAJAAMAAkADQAfAP7/6//1/wsA+v/+/w0AAwARABoABwAMABsABAAdADAADQAVACwA3v/c/xAA3P/S//n/7f/P//D//f/u//T/AgDw//P//////wMA+v/5/xsAEAAEAB0AIgAHAO3/7f/u/9//3P///yAABgADACQAEgDt/wYAKwAIAPn/HQAfAAgAAwAYAAMA8v/q//r/DQAMAO//CQAuAA4A9P8QAAgA8P8JAAQA6v/+/wwAAQAfADMAFgAQACkAIQAOABcAHQAYABEA///t//j/BwDr//T/IAASAPn/EwAqAAgA+f8EAAQA8P/u//X/+f/0/+7/+P8LAAkA8P/p/yEAGgD9/xIAIQD9/+H/+P8CAPT/8P/9////7//h/+P/6v/t/97/1P/a/+r/6v/e/9b/1v/U/9H/0f/R/7X/kv+z/1f/z//j/Xb5u/lR/5X/9/8iBCECfAAIAjEB2/9dAFABegAp/zMAKQCP/zgAOACr/67/JgAdAKf/6P+c//j/BwBIAJYAWP/8/fD+sf+3/cX9VPst+4n9sP5f/mH/HALZAzEDqQIdApIB6AEkAswAVf9hAM0AswBcADEAegAyAd8BfQF9AX0BfQF9AX0BfQE=\" type=\"audio/wav\" />\n",
       "                    Your browser does not support the audio element.\n",
       "                </audio>\n",
       "              "
      ],
      "text/plain": [
       "<IPython.lib.display.Audio object>"
      ]
     },
     "metadata": {},
     "output_type": "display_data"
    },
    {
     "name": "stdout",
     "output_type": "stream",
     "text": [
      "Playing poisoned audio 2\n"
     ]
    },
    {
     "data": {
      "text/html": [
       "\n",
       "                <audio  controls=\"controls\" >\n",
       "                    <source src=\"data:audio/wav;base64,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\" type=\"audio/wav\" />\n",
       "                    Your browser does not support the audio element.\n",
       "                </audio>\n",
       "              "
      ],
      "text/plain": [
       "<IPython.lib.display.Audio object>"
      ]
     },
     "metadata": {},
     "output_type": "display_data"
    },
    {
     "name": "stderr",
     "output_type": "stream",
     "text": [
      "100%|██████████| 600/600 [01:29<00:00,  6.68it/s]\n"
     ]
    },
    {
     "name": "stdout",
     "output_type": "stream",
     "text": [
      "Epoch 0, Loss: 1.5420440634588402\n"
     ]
    },
    {
     "name": "stderr",
     "output_type": "stream",
     "text": [
      "100%|██████████| 600/600 [01:29<00:00,  6.70it/s]\n"
     ]
    },
    {
     "name": "stdout",
     "output_type": "stream",
     "text": [
      "Epoch 1, Loss: 1.285874009517332\n"
     ]
    },
    {
     "name": "stderr",
     "output_type": "stream",
     "text": [
      "100%|██████████| 600/600 [01:32<00:00,  6.51it/s]\n"
     ]
    },
    {
     "name": "stdout",
     "output_type": "stream",
     "text": [
      "Epoch 2, Loss: 1.0678141590083639\n",
      "Test Accuracy: 59.833333333333336%\n",
      "539\n",
      "540\n",
      "ASR: 99.81481481481481%\n",
      "Clean Accuracy Drop (CAD): 39.166666666666664%\n",
      "Backdoor Attack Success Rate: 99.81481481481481%\n",
      "Running experiment with poisoning_rate=0.1 and vibrato_rate=50 and vibrato_depth=0.001\n",
      "Poisoning rate: 0.1, vibrato_depth: 0.001, vibrato_rate: 50 \n"
     ]
    },
    {
     "name": "stderr",
     "output_type": "stream",
     "text": [
      "Some weights of Wav2Vec2ForSequenceClassification were not initialized from the model checkpoint at jonatasgrosman/wav2vec2-large-xlsr-53-english and are newly initialized: ['classifier.bias', 'classifier.weight', 'projector.bias', 'projector.weight']\n",
      "You should probably TRAIN this model on a down-stream task to be able to use it for predictions and inference.\n"
     ]
    },
    {
     "name": "stdout",
     "output_type": "stream",
     "text": [
      "Playing clean audio 1\n"
     ]
    },
    {
     "data": {
      "text/html": [
       "\n",
       "                <audio  controls=\"controls\" >\n",
       "                    <source src=\"data:audio/wav;base64,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\" type=\"audio/wav\" />\n",
       "                    Your browser does not support the audio element.\n",
       "                </audio>\n",
       "              "
      ],
      "text/plain": [
       "<IPython.lib.display.Audio object>"
      ]
     },
     "metadata": {},
     "output_type": "display_data"
    },
    {
     "name": "stdout",
     "output_type": "stream",
     "text": [
      "Playing poisoned audio 1\n"
     ]
    },
    {
     "data": {
      "text/html": [
       "\n",
       "                <audio  controls=\"controls\" >\n",
       "                    <source src=\"data:audio/wav;base64,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\" type=\"audio/wav\" />\n",
       "                    Your browser does not support the audio element.\n",
       "                </audio>\n",
       "              "
      ],
      "text/plain": [
       "<IPython.lib.display.Audio object>"
      ]
     },
     "metadata": {},
     "output_type": "display_data"
    },
    {
     "name": "stdout",
     "output_type": "stream",
     "text": [
      "Playing clean audio 2\n"
     ]
    },
    {
     "data": {
      "text/html": [
       "\n",
       "                <audio  controls=\"controls\" >\n",
       "                    <source src=\"data:audio/wav;base64,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\" type=\"audio/wav\" />\n",
       "                    Your browser does not support the audio element.\n",
       "                </audio>\n",
       "              "
      ],
      "text/plain": [
       "<IPython.lib.display.Audio object>"
      ]
     },
     "metadata": {},
     "output_type": "display_data"
    },
    {
     "name": "stdout",
     "output_type": "stream",
     "text": [
      "Playing poisoned audio 2\n"
     ]
    },
    {
     "data": {
      "text/html": [
       "\n",
       "                <audio  controls=\"controls\" >\n",
       "                    <source src=\"data:audio/wav;base64,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\" type=\"audio/wav\" />\n",
       "                    Your browser does not support the audio element.\n",
       "                </audio>\n",
       "              "
      ],
      "text/plain": [
       "<IPython.lib.display.Audio object>"
      ]
     },
     "metadata": {},
     "output_type": "display_data"
    },
    {
     "name": "stderr",
     "output_type": "stream",
     "text": [
      "100%|██████████| 600/600 [01:32<00:00,  6.49it/s]\n"
     ]
    },
    {
     "name": "stdout",
     "output_type": "stream",
     "text": [
      "Epoch 0, Loss: 1.4314635808269183\n"
     ]
    },
    {
     "name": "stderr",
     "output_type": "stream",
     "text": [
      "100%|██████████| 600/600 [01:30<00:00,  6.62it/s]\n"
     ]
    },
    {
     "name": "stdout",
     "output_type": "stream",
     "text": [
      "Epoch 1, Loss: 1.2374238199119767\n"
     ]
    },
    {
     "name": "stderr",
     "output_type": "stream",
     "text": [
      "100%|██████████| 600/600 [01:31<00:00,  6.55it/s]\n"
     ]
    },
    {
     "name": "stdout",
     "output_type": "stream",
     "text": [
      "Epoch 2, Loss: 1.025109658067425\n",
      "Test Accuracy: 55.833333333333336%\n",
      "540\n",
      "540\n",
      "ASR: 100.0%\n",
      "Clean Accuracy Drop (CAD): 43.166666666666664%\n",
      "Backdoor Attack Success Rate: 100.0%\n"
     ]
    }
   ],
   "source": [
    "poisoning_rates = [0.01, 0.05, 0.1]  \n",
    "rates = [5, 20, 50]\n",
    "depths = [0.0005, 0.001] \n",
    "\n",
    "results = []\n",
    "\n",
    "for poisoning_rate, vibrato_rate, vibrato_depth in product(poisoning_rates, rates, depths):\n",
    "    print(f\"Running experiment with poisoning_rate={poisoning_rate} and vibrato_rate={vibrato_rate} and vibrato_depth={vibrato_depth}\")\n",
    "    backdoor_accuracy, backdoor_attack_success_rate, accuracy_drop = backdoor_attack_and_eval_wav2vec2(poisoning_rate, vibrato_depth, vibrato_rate)\n",
    "        \n",
    "    clean_accuracy_after = backdoor_accuracy\n",
    "\n",
    "    results.append({\n",
    "        'poisoning_rate': poisoning_rate,\n",
    "        'rate': vibrato_rate,\n",
    "        'depth': vibrato_depth,\n",
    "        'backdoor_success_rate': backdoor_attack_success_rate,\n",
    "        'clean_accuracy_after': clean_accuracy_after,\n",
    "        'clean_accuracy_drop': clean_accuracy - clean_accuracy_after\n",
    "    })\n",
    "\n",
    "# print(results_df)"
   ]
  },
  {
   "cell_type": "code",
   "execution_count": 14,
   "id": "631cef9a",
   "metadata": {
    "execution": {
     "iopub.execute_input": "2024-12-06T21:31:53.953740Z",
     "iopub.status.busy": "2024-12-06T21:31:53.953412Z",
     "iopub.status.idle": "2024-12-06T21:31:53.958715Z",
     "shell.execute_reply": "2024-12-06T21:31:53.958026Z"
    },
    "papermill": {
     "duration": 1.642248,
     "end_time": "2024-12-06T21:31:53.960185",
     "exception": false,
     "start_time": "2024-12-06T21:31:52.317937",
     "status": "completed"
    },
    "tags": []
   },
   "outputs": [],
   "source": [
    "results_df = pd.DataFrame(results)"
   ]
  },
  {
   "cell_type": "code",
   "execution_count": 15,
   "id": "eb06a442",
   "metadata": {
    "execution": {
     "iopub.execute_input": "2024-12-06T21:31:57.139331Z",
     "iopub.status.busy": "2024-12-06T21:31:57.138505Z",
     "iopub.status.idle": "2024-12-06T21:31:57.155763Z",
     "shell.execute_reply": "2024-12-06T21:31:57.154788Z"
    },
    "papermill": {
     "duration": 1.605654,
     "end_time": "2024-12-06T21:31:57.157456",
     "exception": false,
     "start_time": "2024-12-06T21:31:55.551802",
     "status": "completed"
    },
    "tags": []
   },
   "outputs": [
    {
     "data": {
      "text/html": [
       "<div>\n",
       "<style scoped>\n",
       "    .dataframe tbody tr th:only-of-type {\n",
       "        vertical-align: middle;\n",
       "    }\n",
       "\n",
       "    .dataframe tbody tr th {\n",
       "        vertical-align: top;\n",
       "    }\n",
       "\n",
       "    .dataframe thead th {\n",
       "        text-align: right;\n",
       "    }\n",
       "</style>\n",
       "<table border=\"1\" class=\"dataframe\">\n",
       "  <thead>\n",
       "    <tr style=\"text-align: right;\">\n",
       "      <th></th>\n",
       "      <th>poisoning_rate</th>\n",
       "      <th>rate</th>\n",
       "      <th>depth</th>\n",
       "      <th>backdoor_success_rate</th>\n",
       "      <th>clean_accuracy_after</th>\n",
       "      <th>clean_accuracy_drop</th>\n",
       "    </tr>\n",
       "  </thead>\n",
       "  <tbody>\n",
       "    <tr>\n",
       "      <th>0</th>\n",
       "      <td>0.01</td>\n",
       "      <td>5</td>\n",
       "      <td>0.0005</td>\n",
       "      <td>0.000000</td>\n",
       "      <td>98.333333</td>\n",
       "      <td>0.666667</td>\n",
       "    </tr>\n",
       "    <tr>\n",
       "      <th>1</th>\n",
       "      <td>0.01</td>\n",
       "      <td>5</td>\n",
       "      <td>0.0010</td>\n",
       "      <td>0.185185</td>\n",
       "      <td>99.166667</td>\n",
       "      <td>-0.166667</td>\n",
       "    </tr>\n",
       "    <tr>\n",
       "      <th>2</th>\n",
       "      <td>0.01</td>\n",
       "      <td>20</td>\n",
       "      <td>0.0005</td>\n",
       "      <td>0.185185</td>\n",
       "      <td>98.000000</td>\n",
       "      <td>1.000000</td>\n",
       "    </tr>\n",
       "    <tr>\n",
       "      <th>3</th>\n",
       "      <td>0.01</td>\n",
       "      <td>20</td>\n",
       "      <td>0.0010</td>\n",
       "      <td>4.259259</td>\n",
       "      <td>98.333333</td>\n",
       "      <td>0.666667</td>\n",
       "    </tr>\n",
       "    <tr>\n",
       "      <th>4</th>\n",
       "      <td>0.01</td>\n",
       "      <td>50</td>\n",
       "      <td>0.0005</td>\n",
       "      <td>5.925926</td>\n",
       "      <td>98.166667</td>\n",
       "      <td>0.833333</td>\n",
       "    </tr>\n",
       "    <tr>\n",
       "      <th>5</th>\n",
       "      <td>0.01</td>\n",
       "      <td>50</td>\n",
       "      <td>0.0010</td>\n",
       "      <td>25.740741</td>\n",
       "      <td>98.500000</td>\n",
       "      <td>0.500000</td>\n",
       "    </tr>\n",
       "    <tr>\n",
       "      <th>6</th>\n",
       "      <td>0.05</td>\n",
       "      <td>5</td>\n",
       "      <td>0.0005</td>\n",
       "      <td>1.666667</td>\n",
       "      <td>97.333333</td>\n",
       "      <td>1.666667</td>\n",
       "    </tr>\n",
       "    <tr>\n",
       "      <th>7</th>\n",
       "      <td>0.05</td>\n",
       "      <td>5</td>\n",
       "      <td>0.0010</td>\n",
       "      <td>0.185185</td>\n",
       "      <td>98.333333</td>\n",
       "      <td>0.666667</td>\n",
       "    </tr>\n",
       "    <tr>\n",
       "      <th>8</th>\n",
       "      <td>0.05</td>\n",
       "      <td>20</td>\n",
       "      <td>0.0005</td>\n",
       "      <td>25.925926</td>\n",
       "      <td>97.500000</td>\n",
       "      <td>1.500000</td>\n",
       "    </tr>\n",
       "    <tr>\n",
       "      <th>9</th>\n",
       "      <td>0.05</td>\n",
       "      <td>20</td>\n",
       "      <td>0.0010</td>\n",
       "      <td>83.148148</td>\n",
       "      <td>97.500000</td>\n",
       "      <td>1.500000</td>\n",
       "    </tr>\n",
       "    <tr>\n",
       "      <th>10</th>\n",
       "      <td>0.05</td>\n",
       "      <td>50</td>\n",
       "      <td>0.0005</td>\n",
       "      <td>98.888889</td>\n",
       "      <td>95.333333</td>\n",
       "      <td>3.666667</td>\n",
       "    </tr>\n",
       "    <tr>\n",
       "      <th>11</th>\n",
       "      <td>0.05</td>\n",
       "      <td>50</td>\n",
       "      <td>0.0010</td>\n",
       "      <td>92.777778</td>\n",
       "      <td>96.833333</td>\n",
       "      <td>2.166667</td>\n",
       "    </tr>\n",
       "    <tr>\n",
       "      <th>12</th>\n",
       "      <td>0.10</td>\n",
       "      <td>5</td>\n",
       "      <td>0.0005</td>\n",
       "      <td>16.296296</td>\n",
       "      <td>94.333333</td>\n",
       "      <td>4.666667</td>\n",
       "    </tr>\n",
       "    <tr>\n",
       "      <th>13</th>\n",
       "      <td>0.10</td>\n",
       "      <td>5</td>\n",
       "      <td>0.0010</td>\n",
       "      <td>24.444444</td>\n",
       "      <td>77.833333</td>\n",
       "      <td>21.166667</td>\n",
       "    </tr>\n",
       "    <tr>\n",
       "      <th>14</th>\n",
       "      <td>0.10</td>\n",
       "      <td>20</td>\n",
       "      <td>0.0005</td>\n",
       "      <td>80.555556</td>\n",
       "      <td>66.333333</td>\n",
       "      <td>32.666667</td>\n",
       "    </tr>\n",
       "    <tr>\n",
       "      <th>15</th>\n",
       "      <td>0.10</td>\n",
       "      <td>20</td>\n",
       "      <td>0.0010</td>\n",
       "      <td>100.000000</td>\n",
       "      <td>45.500000</td>\n",
       "      <td>53.500000</td>\n",
       "    </tr>\n",
       "    <tr>\n",
       "      <th>16</th>\n",
       "      <td>0.10</td>\n",
       "      <td>50</td>\n",
       "      <td>0.0005</td>\n",
       "      <td>99.814815</td>\n",
       "      <td>59.833333</td>\n",
       "      <td>39.166667</td>\n",
       "    </tr>\n",
       "    <tr>\n",
       "      <th>17</th>\n",
       "      <td>0.10</td>\n",
       "      <td>50</td>\n",
       "      <td>0.0010</td>\n",
       "      <td>100.000000</td>\n",
       "      <td>55.833333</td>\n",
       "      <td>43.166667</td>\n",
       "    </tr>\n",
       "  </tbody>\n",
       "</table>\n",
       "</div>"
      ],
      "text/plain": [
       "    poisoning_rate  rate   depth  backdoor_success_rate  clean_accuracy_after  \\\n",
       "0             0.01     5  0.0005               0.000000             98.333333   \n",
       "1             0.01     5  0.0010               0.185185             99.166667   \n",
       "2             0.01    20  0.0005               0.185185             98.000000   \n",
       "3             0.01    20  0.0010               4.259259             98.333333   \n",
       "4             0.01    50  0.0005               5.925926             98.166667   \n",
       "5             0.01    50  0.0010              25.740741             98.500000   \n",
       "6             0.05     5  0.0005               1.666667             97.333333   \n",
       "7             0.05     5  0.0010               0.185185             98.333333   \n",
       "8             0.05    20  0.0005              25.925926             97.500000   \n",
       "9             0.05    20  0.0010              83.148148             97.500000   \n",
       "10            0.05    50  0.0005              98.888889             95.333333   \n",
       "11            0.05    50  0.0010              92.777778             96.833333   \n",
       "12            0.10     5  0.0005              16.296296             94.333333   \n",
       "13            0.10     5  0.0010              24.444444             77.833333   \n",
       "14            0.10    20  0.0005              80.555556             66.333333   \n",
       "15            0.10    20  0.0010             100.000000             45.500000   \n",
       "16            0.10    50  0.0005              99.814815             59.833333   \n",
       "17            0.10    50  0.0010             100.000000             55.833333   \n",
       "\n",
       "    clean_accuracy_drop  \n",
       "0              0.666667  \n",
       "1             -0.166667  \n",
       "2              1.000000  \n",
       "3              0.666667  \n",
       "4              0.833333  \n",
       "5              0.500000  \n",
       "6              1.666667  \n",
       "7              0.666667  \n",
       "8              1.500000  \n",
       "9              1.500000  \n",
       "10             3.666667  \n",
       "11             2.166667  \n",
       "12             4.666667  \n",
       "13            21.166667  \n",
       "14            32.666667  \n",
       "15            53.500000  \n",
       "16            39.166667  \n",
       "17            43.166667  "
      ]
     },
     "execution_count": 15,
     "metadata": {},
     "output_type": "execute_result"
    }
   ],
   "source": [
    "results_df"
   ]
  },
  {
   "cell_type": "code",
   "execution_count": 16,
   "id": "2b267324",
   "metadata": {
    "execution": {
     "iopub.execute_input": "2024-12-06T21:32:00.397971Z",
     "iopub.status.busy": "2024-12-06T21:32:00.397628Z",
     "iopub.status.idle": "2024-12-06T21:32:00.405346Z",
     "shell.execute_reply": "2024-12-06T21:32:00.404712Z"
    },
    "papermill": {
     "duration": 1.601088,
     "end_time": "2024-12-06T21:32:00.407056",
     "exception": false,
     "start_time": "2024-12-06T21:31:58.805968",
     "status": "completed"
    },
    "tags": []
   },
   "outputs": [],
   "source": [
    "results_df.to_csv('Wav2Vec2-SD-BKDR-Vibrato.csv', sep='\\t', index=False)"
   ]
  },
  {
   "cell_type": "code",
   "execution_count": null,
   "id": "ce302a84",
   "metadata": {
    "papermill": {
     "duration": 1.636337,
     "end_time": "2024-12-06T21:32:03.640024",
     "exception": false,
     "start_time": "2024-12-06T21:32:02.003687",
     "status": "completed"
    },
    "tags": []
   },
   "outputs": [],
   "source": []
  }
 ],
 "metadata": {
  "kaggle": {
   "accelerator": "gpu",
   "dataSources": [
    {
     "datasetId": 5789127,
     "sourceId": 9510683,
     "sourceType": "datasetVersion"
    }
   ],
   "isGpuEnabled": true,
   "isInternetEnabled": true,
   "language": "python",
   "sourceType": "notebook"
  },
  "kernelspec": {
   "display_name": "Python 3",
   "language": "python",
   "name": "python3"
  },
  "language_info": {
   "codemirror_mode": {
    "name": "ipython",
    "version": 3
   },
   "file_extension": ".py",
   "mimetype": "text/x-python",
   "name": "python",
   "nbconvert_exporter": "python",
   "pygments_lexer": "ipython3",
   "version": "3.10.14"
  },
  "papermill": {
   "default_parameters": {},
   "duration": 5563.410703,
   "end_time": "2024-12-06T21:32:09.061450",
   "environment_variables": {},
   "exception": null,
   "input_path": "__notebook__.ipynb",
   "output_path": "__notebook__.ipynb",
   "parameters": {},
   "start_time": "2024-12-06T19:59:25.650747",
   "version": "2.6.0"
  },
  "widgets": {
   "application/vnd.jupyter.widget-state+json": {
    "state": {
     "0030a029eddf4ffb9df5cefbaab1ffa2": {
      "model_module": "@jupyter-widgets/controls",
      "model_module_version": "2.0.0",
      "model_name": "HTMLStyleModel",
      "state": {
       "_model_module": "@jupyter-widgets/controls",
       "_model_module_version": "2.0.0",
       "_model_name": "HTMLStyleModel",
       "_view_count": null,
       "_view_module": "@jupyter-widgets/base",
       "_view_module_version": "2.0.0",
       "_view_name": "StyleView",
       "background": null,
       "description_width": "",
       "font_size": null,
       "text_color": null
      }
     },
     "016360189731472fa9d2189f2b603278": {
      "model_module": "@jupyter-widgets/base",
      "model_module_version": "2.0.0",
      "model_name": "LayoutModel",
      "state": {
       "_model_module": "@jupyter-widgets/base",
       "_model_module_version": "2.0.0",
       "_model_name": "LayoutModel",
       "_view_count": null,
       "_view_module": "@jupyter-widgets/base",
       "_view_module_version": "2.0.0",
       "_view_name": "LayoutView",
       "align_content": null,
       "align_items": null,
       "align_self": null,
       "border_bottom": null,
       "border_left": null,
       "border_right": null,
       "border_top": null,
       "bottom": null,
       "display": null,
       "flex": null,
       "flex_flow": null,
       "grid_area": null,
       "grid_auto_columns": null,
       "grid_auto_flow": null,
       "grid_auto_rows": null,
       "grid_column": null,
       "grid_gap": null,
       "grid_row": null,
       "grid_template_areas": null,
       "grid_template_columns": null,
       "grid_template_rows": null,
       "height": null,
       "justify_content": null,
       "justify_items": null,
       "left": null,
       "margin": null,
       "max_height": null,
       "max_width": null,
       "min_height": null,
       "min_width": null,
       "object_fit": null,
       "object_position": null,
       "order": null,
       "overflow": null,
       "padding": null,
       "right": null,
       "top": null,
       "visibility": null,
       "width": null
      }
     },
     "0a84a2d9886546b791994dd6ef92a1c5": {
      "model_module": "@jupyter-widgets/base",
      "model_module_version": "2.0.0",
      "model_name": "LayoutModel",
      "state": {
       "_model_module": "@jupyter-widgets/base",
       "_model_module_version": "2.0.0",
       "_model_name": "LayoutModel",
       "_view_count": null,
       "_view_module": "@jupyter-widgets/base",
       "_view_module_version": "2.0.0",
       "_view_name": "LayoutView",
       "align_content": null,
       "align_items": null,
       "align_self": null,
       "border_bottom": null,
       "border_left": null,
       "border_right": null,
       "border_top": null,
       "bottom": null,
       "display": null,
       "flex": null,
       "flex_flow": null,
       "grid_area": null,
       "grid_auto_columns": null,
       "grid_auto_flow": null,
       "grid_auto_rows": null,
       "grid_column": null,
       "grid_gap": null,
       "grid_row": null,
       "grid_template_areas": null,
       "grid_template_columns": null,
       "grid_template_rows": null,
       "height": null,
       "justify_content": null,
       "justify_items": null,
       "left": null,
       "margin": null,
       "max_height": null,
       "max_width": null,
       "min_height": null,
       "min_width": null,
       "object_fit": null,
       "object_position": null,
       "order": null,
       "overflow": null,
       "padding": null,
       "right": null,
       "top": null,
       "visibility": null,
       "width": null
      }
     },
     "0cc02964bfbb4936b12ce32d94a7d05b": {
      "model_module": "@jupyter-widgets/base",
      "model_module_version": "2.0.0",
      "model_name": "LayoutModel",
      "state": {
       "_model_module": "@jupyter-widgets/base",
       "_model_module_version": "2.0.0",
       "_model_name": "LayoutModel",
       "_view_count": null,
       "_view_module": "@jupyter-widgets/base",
       "_view_module_version": "2.0.0",
       "_view_name": "LayoutView",
       "align_content": null,
       "align_items": null,
       "align_self": null,
       "border_bottom": null,
       "border_left": null,
       "border_right": null,
       "border_top": null,
       "bottom": null,
       "display": null,
       "flex": null,
       "flex_flow": null,
       "grid_area": null,
       "grid_auto_columns": null,
       "grid_auto_flow": null,
       "grid_auto_rows": null,
       "grid_column": null,
       "grid_gap": null,
       "grid_row": null,
       "grid_template_areas": null,
       "grid_template_columns": null,
       "grid_template_rows": null,
       "height": null,
       "justify_content": null,
       "justify_items": null,
       "left": null,
       "margin": null,
       "max_height": null,
       "max_width": null,
       "min_height": null,
       "min_width": null,
       "object_fit": null,
       "object_position": null,
       "order": null,
       "overflow": null,
       "padding": null,
       "right": null,
       "top": null,
       "visibility": null,
       "width": null
      }
     },
     "1936547c5e394604a5e34c9e3fe3fd5b": {
      "model_module": "@jupyter-widgets/base",
      "model_module_version": "2.0.0",
      "model_name": "LayoutModel",
      "state": {
       "_model_module": "@jupyter-widgets/base",
       "_model_module_version": "2.0.0",
       "_model_name": "LayoutModel",
       "_view_count": null,
       "_view_module": "@jupyter-widgets/base",
       "_view_module_version": "2.0.0",
       "_view_name": "LayoutView",
       "align_content": null,
       "align_items": null,
       "align_self": null,
       "border_bottom": null,
       "border_left": null,
       "border_right": null,
       "border_top": null,
       "bottom": null,
       "display": null,
       "flex": null,
       "flex_flow": null,
       "grid_area": null,
       "grid_auto_columns": null,
       "grid_auto_flow": null,
       "grid_auto_rows": null,
       "grid_column": null,
       "grid_gap": null,
       "grid_row": null,
       "grid_template_areas": null,
       "grid_template_columns": null,
       "grid_template_rows": null,
       "height": null,
       "justify_content": null,
       "justify_items": null,
       "left": null,
       "margin": null,
       "max_height": null,
       "max_width": null,
       "min_height": null,
       "min_width": null,
       "object_fit": null,
       "object_position": null,
       "order": null,
       "overflow": null,
       "padding": null,
       "right": null,
       "top": null,
       "visibility": null,
       "width": null
      }
     },
     "1970e914d4124d3a82762b6db5eed179": {
      "model_module": "@jupyter-widgets/base",
      "model_module_version": "2.0.0",
      "model_name": "LayoutModel",
      "state": {
       "_model_module": "@jupyter-widgets/base",
       "_model_module_version": "2.0.0",
       "_model_name": "LayoutModel",
       "_view_count": null,
       "_view_module": "@jupyter-widgets/base",
       "_view_module_version": "2.0.0",
       "_view_name": "LayoutView",
       "align_content": null,
       "align_items": null,
       "align_self": null,
       "border_bottom": null,
       "border_left": null,
       "border_right": null,
       "border_top": null,
       "bottom": null,
       "display": null,
       "flex": null,
       "flex_flow": null,
       "grid_area": null,
       "grid_auto_columns": null,
       "grid_auto_flow": null,
       "grid_auto_rows": null,
       "grid_column": null,
       "grid_gap": null,
       "grid_row": null,
       "grid_template_areas": null,
       "grid_template_columns": null,
       "grid_template_rows": null,
       "height": null,
       "justify_content": null,
       "justify_items": null,
       "left": null,
       "margin": null,
       "max_height": null,
       "max_width": null,
       "min_height": null,
       "min_width": null,
       "object_fit": null,
       "object_position": null,
       "order": null,
       "overflow": null,
       "padding": null,
       "right": null,
       "top": null,
       "visibility": null,
       "width": null
      }
     },
     "1b77bf929d0d432ea7738f4240900bda": {
      "model_module": "@jupyter-widgets/controls",
      "model_module_version": "2.0.0",
      "model_name": "HTMLStyleModel",
      "state": {
       "_model_module": "@jupyter-widgets/controls",
       "_model_module_version": "2.0.0",
       "_model_name": "HTMLStyleModel",
       "_view_count": null,
       "_view_module": "@jupyter-widgets/base",
       "_view_module_version": "2.0.0",
       "_view_name": "StyleView",
       "background": null,
       "description_width": "",
       "font_size": null,
       "text_color": null
      }
     },
     "20ef6926d6b44adeba3f2d69c637efec": {
      "model_module": "@jupyter-widgets/base",
      "model_module_version": "2.0.0",
      "model_name": "LayoutModel",
      "state": {
       "_model_module": "@jupyter-widgets/base",
       "_model_module_version": "2.0.0",
       "_model_name": "LayoutModel",
       "_view_count": null,
       "_view_module": "@jupyter-widgets/base",
       "_view_module_version": "2.0.0",
       "_view_name": "LayoutView",
       "align_content": null,
       "align_items": null,
       "align_self": null,
       "border_bottom": null,
       "border_left": null,
       "border_right": null,
       "border_top": null,
       "bottom": null,
       "display": null,
       "flex": null,
       "flex_flow": null,
       "grid_area": null,
       "grid_auto_columns": null,
       "grid_auto_flow": null,
       "grid_auto_rows": null,
       "grid_column": null,
       "grid_gap": null,
       "grid_row": null,
       "grid_template_areas": null,
       "grid_template_columns": null,
       "grid_template_rows": null,
       "height": null,
       "justify_content": null,
       "justify_items": null,
       "left": null,
       "margin": null,
       "max_height": null,
       "max_width": null,
       "min_height": null,
       "min_width": null,
       "object_fit": null,
       "object_position": null,
       "order": null,
       "overflow": null,
       "padding": null,
       "right": null,
       "top": null,
       "visibility": null,
       "width": null
      }
     },
     "28a4dc9edb854b1fb624da29d137e11f": {
      "model_module": "@jupyter-widgets/controls",
      "model_module_version": "2.0.0",
      "model_name": "HTMLModel",
      "state": {
       "_dom_classes": [],
       "_model_module": "@jupyter-widgets/controls",
       "_model_module_version": "2.0.0",
       "_model_name": "HTMLModel",
       "_view_count": null,
       "_view_module": "@jupyter-widgets/controls",
       "_view_module_version": "2.0.0",
       "_view_name": "HTMLView",
       "description": "",
       "description_allow_html": false,
       "layout": "IPY_MODEL_63b901e45ec842c7aaa00e4bfd43872d",
       "placeholder": "​",
       "style": "IPY_MODEL_fdc5e03c802a4de9963e3945f4992d9c",
       "tabbable": null,
       "tooltip": null,
       "value": "preprocessor_config.json: 100%"
      }
     },
     "2985c0f7dd0e4fbab878a916012e8f89": {
      "model_module": "@jupyter-widgets/controls",
      "model_module_version": "2.0.0",
      "model_name": "FloatProgressModel",
      "state": {
       "_dom_classes": [],
       "_model_module": "@jupyter-widgets/controls",
       "_model_module_version": "2.0.0",
       "_model_name": "FloatProgressModel",
       "_view_count": null,
       "_view_module": "@jupyter-widgets/controls",
       "_view_module_version": "2.0.0",
       "_view_name": "ProgressView",
       "bar_style": "success",
       "description": "",
       "description_allow_html": false,
       "layout": "IPY_MODEL_78c3b78df72449248132b5f0f9c6f2af",
       "max": 262.0,
       "min": 0.0,
       "orientation": "horizontal",
       "style": "IPY_MODEL_e9c2f3048ef043f79bd10bffb9bd918d",
       "tabbable": null,
       "tooltip": null,
       "value": 262.0
      }
     },
     "2f28123bbfbd49308b3382085955c89c": {
      "model_module": "@jupyter-widgets/controls",
      "model_module_version": "2.0.0",
      "model_name": "HTMLModel",
      "state": {
       "_dom_classes": [],
       "_model_module": "@jupyter-widgets/controls",
       "_model_module_version": "2.0.0",
       "_model_name": "HTMLModel",
       "_view_count": null,
       "_view_module": "@jupyter-widgets/controls",
       "_view_module_version": "2.0.0",
       "_view_name": "HTMLView",
       "description": "",
       "description_allow_html": false,
       "layout": "IPY_MODEL_687493917dcf47d0b55a127a45057a2c",
       "placeholder": "​",
       "style": "IPY_MODEL_1b77bf929d0d432ea7738f4240900bda",
       "tabbable": null,
       "tooltip": null,
       "value": " 85.0/85.0 [00:00&lt;00:00, 9.44kB/s]"
      }
     },
     "327ba154851240e19fd7106150d5e28e": {
      "model_module": "@jupyter-widgets/controls",
      "model_module_version": "2.0.0",
      "model_name": "HTMLStyleModel",
      "state": {
       "_model_module": "@jupyter-widgets/controls",
       "_model_module_version": "2.0.0",
       "_model_name": "HTMLStyleModel",
       "_view_count": null,
       "_view_module": "@jupyter-widgets/base",
       "_view_module_version": "2.0.0",
       "_view_name": "StyleView",
       "background": null,
       "description_width": "",
       "font_size": null,
       "text_color": null
      }
     },
     "3898eec0a8ad41ac984f48af144cc572": {
      "model_module": "@jupyter-widgets/controls",
      "model_module_version": "2.0.0",
      "model_name": "HTMLModel",
      "state": {
       "_dom_classes": [],
       "_model_module": "@jupyter-widgets/controls",
       "_model_module_version": "2.0.0",
       "_model_name": "HTMLModel",
       "_view_count": null,
       "_view_module": "@jupyter-widgets/controls",
       "_view_module_version": "2.0.0",
       "_view_name": "HTMLView",
       "description": "",
       "description_allow_html": false,
       "layout": "IPY_MODEL_a7d5273fa47a4942bc498602c4bf770d",
       "placeholder": "​",
       "style": "IPY_MODEL_327ba154851240e19fd7106150d5e28e",
       "tabbable": null,
       "tooltip": null,
       "value": "special_tokens_map.json: 100%"
      }
     },
     "3ba50dbe7c5347e0ab44a6e14cb7708e": {
      "model_module": "@jupyter-widgets/controls",
      "model_module_version": "2.0.0",
      "model_name": "HTMLModel",
      "state": {
       "_dom_classes": [],
       "_model_module": "@jupyter-widgets/controls",
       "_model_module_version": "2.0.0",
       "_model_name": "HTMLModel",
       "_view_count": null,
       "_view_module": "@jupyter-widgets/controls",
       "_view_module_version": "2.0.0",
       "_view_name": "HTMLView",
       "description": "",
       "description_allow_html": false,
       "layout": "IPY_MODEL_f04b305a9d0d47aaaff8363124d3290f",
       "placeholder": "​",
       "style": "IPY_MODEL_0030a029eddf4ffb9df5cefbaab1ffa2",
       "tabbable": null,
       "tooltip": null,
       "value": "model.safetensors: 100%"
      }
     },
     "46814e6320bb4b96ace8139ae238e7c5": {
      "model_module": "@jupyter-widgets/controls",
      "model_module_version": "2.0.0",
      "model_name": "HBoxModel",
      "state": {
       "_dom_classes": [],
       "_model_module": "@jupyter-widgets/controls",
       "_model_module_version": "2.0.0",
       "_model_name": "HBoxModel",
       "_view_count": null,
       "_view_module": "@jupyter-widgets/controls",
       "_view_module_version": "2.0.0",
       "_view_name": "HBoxView",
       "box_style": "",
       "children": [
        "IPY_MODEL_3898eec0a8ad41ac984f48af144cc572",
        "IPY_MODEL_91a99d6db23e48978c3ef7f88c30a717",
        "IPY_MODEL_2f28123bbfbd49308b3382085955c89c"
       ],
       "layout": "IPY_MODEL_0cc02964bfbb4936b12ce32d94a7d05b",
       "tabbable": null,
       "tooltip": null
      }
     },
     "46d6f929b0f34ce0b539c722532688b8": {
      "model_module": "@jupyter-widgets/controls",
      "model_module_version": "2.0.0",
      "model_name": "HTMLModel",
      "state": {
       "_dom_classes": [],
       "_model_module": "@jupyter-widgets/controls",
       "_model_module_version": "2.0.0",
       "_model_name": "HTMLModel",
       "_view_count": null,
       "_view_module": "@jupyter-widgets/controls",
       "_view_module_version": "2.0.0",
       "_view_name": "HTMLView",
       "description": "",
       "description_allow_html": false,
       "layout": "IPY_MODEL_4c5d6a3d7fb0477199e31d386676e4f3",
       "placeholder": "​",
       "style": "IPY_MODEL_ca73c61da8664a18879f33e2f1de1c11",
       "tabbable": null,
       "tooltip": null,
       "value": "config.json: 100%"
      }
     },
     "4c5d6a3d7fb0477199e31d386676e4f3": {
      "model_module": "@jupyter-widgets/base",
      "model_module_version": "2.0.0",
      "model_name": "LayoutModel",
      "state": {
       "_model_module": "@jupyter-widgets/base",
       "_model_module_version": "2.0.0",
       "_model_name": "LayoutModel",
       "_view_count": null,
       "_view_module": "@jupyter-widgets/base",
       "_view_module_version": "2.0.0",
       "_view_name": "LayoutView",
       "align_content": null,
       "align_items": null,
       "align_self": null,
       "border_bottom": null,
       "border_left": null,
       "border_right": null,
       "border_top": null,
       "bottom": null,
       "display": null,
       "flex": null,
       "flex_flow": null,
       "grid_area": null,
       "grid_auto_columns": null,
       "grid_auto_flow": null,
       "grid_auto_rows": null,
       "grid_column": null,
       "grid_gap": null,
       "grid_row": null,
       "grid_template_areas": null,
       "grid_template_columns": null,
       "grid_template_rows": null,
       "height": null,
       "justify_content": null,
       "justify_items": null,
       "left": null,
       "margin": null,
       "max_height": null,
       "max_width": null,
       "min_height": null,
       "min_width": null,
       "object_fit": null,
       "object_position": null,
       "order": null,
       "overflow": null,
       "padding": null,
       "right": null,
       "top": null,
       "visibility": null,
       "width": null
      }
     },
     "4d968674edd8449d8753681a53deb3f9": {
      "model_module": "@jupyter-widgets/base",
      "model_module_version": "2.0.0",
      "model_name": "LayoutModel",
      "state": {
       "_model_module": "@jupyter-widgets/base",
       "_model_module_version": "2.0.0",
       "_model_name": "LayoutModel",
       "_view_count": null,
       "_view_module": "@jupyter-widgets/base",
       "_view_module_version": "2.0.0",
       "_view_name": "LayoutView",
       "align_content": null,
       "align_items": null,
       "align_self": null,
       "border_bottom": null,
       "border_left": null,
       "border_right": null,
       "border_top": null,
       "bottom": null,
       "display": null,
       "flex": null,
       "flex_flow": null,
       "grid_area": null,
       "grid_auto_columns": null,
       "grid_auto_flow": null,
       "grid_auto_rows": null,
       "grid_column": null,
       "grid_gap": null,
       "grid_row": null,
       "grid_template_areas": null,
       "grid_template_columns": null,
       "grid_template_rows": null,
       "height": null,
       "justify_content": null,
       "justify_items": null,
       "left": null,
       "margin": null,
       "max_height": null,
       "max_width": null,
       "min_height": null,
       "min_width": null,
       "object_fit": null,
       "object_position": null,
       "order": null,
       "overflow": null,
       "padding": null,
       "right": null,
       "top": null,
       "visibility": null,
       "width": null
      }
     },
     "537e49a691ba4e3f92f9babac65f549d": {
      "model_module": "@jupyter-widgets/controls",
      "model_module_version": "2.0.0",
      "model_name": "HTMLModel",
      "state": {
       "_dom_classes": [],
       "_model_module": "@jupyter-widgets/controls",
       "_model_module_version": "2.0.0",
       "_model_name": "HTMLModel",
       "_view_count": null,
       "_view_module": "@jupyter-widgets/controls",
       "_view_module_version": "2.0.0",
       "_view_name": "HTMLView",
       "description": "",
       "description_allow_html": false,
       "layout": "IPY_MODEL_1936547c5e394604a5e34c9e3fe3fd5b",
       "placeholder": "​",
       "style": "IPY_MODEL_b45470cbc8874c0299153a9883c90345",
       "tabbable": null,
       "tooltip": null,
       "value": " 1.53k/1.53k [00:00&lt;00:00, 201kB/s]"
      }
     },
     "5609b1c972c248e0b7a1dace996d4c0d": {
      "model_module": "@jupyter-widgets/base",
      "model_module_version": "2.0.0",
      "model_name": "LayoutModel",
      "state": {
       "_model_module": "@jupyter-widgets/base",
       "_model_module_version": "2.0.0",
       "_model_name": "LayoutModel",
       "_view_count": null,
       "_view_module": "@jupyter-widgets/base",
       "_view_module_version": "2.0.0",
       "_view_name": "LayoutView",
       "align_content": null,
       "align_items": null,
       "align_self": null,
       "border_bottom": null,
       "border_left": null,
       "border_right": null,
       "border_top": null,
       "bottom": null,
       "display": null,
       "flex": null,
       "flex_flow": null,
       "grid_area": null,
       "grid_auto_columns": null,
       "grid_auto_flow": null,
       "grid_auto_rows": null,
       "grid_column": null,
       "grid_gap": null,
       "grid_row": null,
       "grid_template_areas": null,
       "grid_template_columns": null,
       "grid_template_rows": null,
       "height": null,
       "justify_content": null,
       "justify_items": null,
       "left": null,
       "margin": null,
       "max_height": null,
       "max_width": null,
       "min_height": null,
       "min_width": null,
       "object_fit": null,
       "object_position": null,
       "order": null,
       "overflow": null,
       "padding": null,
       "right": null,
       "top": null,
       "visibility": null,
       "width": null
      }
     },
     "5c0fa3e2201b4b3982731eb005149dd0": {
      "model_module": "@jupyter-widgets/controls",
      "model_module_version": "2.0.0",
      "model_name": "HTMLStyleModel",
      "state": {
       "_model_module": "@jupyter-widgets/controls",
       "_model_module_version": "2.0.0",
       "_model_name": "HTMLStyleModel",
       "_view_count": null,
       "_view_module": "@jupyter-widgets/base",
       "_view_module_version": "2.0.0",
       "_view_name": "StyleView",
       "background": null,
       "description_width": "",
       "font_size": null,
       "text_color": null
      }
     },
     "63b901e45ec842c7aaa00e4bfd43872d": {
      "model_module": "@jupyter-widgets/base",
      "model_module_version": "2.0.0",
      "model_name": "LayoutModel",
      "state": {
       "_model_module": "@jupyter-widgets/base",
       "_model_module_version": "2.0.0",
       "_model_name": "LayoutModel",
       "_view_count": null,
       "_view_module": "@jupyter-widgets/base",
       "_view_module_version": "2.0.0",
       "_view_name": "LayoutView",
       "align_content": null,
       "align_items": null,
       "align_self": null,
       "border_bottom": null,
       "border_left": null,
       "border_right": null,
       "border_top": null,
       "bottom": null,
       "display": null,
       "flex": null,
       "flex_flow": null,
       "grid_area": null,
       "grid_auto_columns": null,
       "grid_auto_flow": null,
       "grid_auto_rows": null,
       "grid_column": null,
       "grid_gap": null,
       "grid_row": null,
       "grid_template_areas": null,
       "grid_template_columns": null,
       "grid_template_rows": null,
       "height": null,
       "justify_content": null,
       "justify_items": null,
       "left": null,
       "margin": null,
       "max_height": null,
       "max_width": null,
       "min_height": null,
       "min_width": null,
       "object_fit": null,
       "object_position": null,
       "order": null,
       "overflow": null,
       "padding": null,
       "right": null,
       "top": null,
       "visibility": null,
       "width": null
      }
     },
     "6404ca9187284f9e8ae0ded39b830b62": {
      "model_module": "@jupyter-widgets/controls",
      "model_module_version": "2.0.0",
      "model_name": "ProgressStyleModel",
      "state": {
       "_model_module": "@jupyter-widgets/controls",
       "_model_module_version": "2.0.0",
       "_model_name": "ProgressStyleModel",
       "_view_count": null,
       "_view_module": "@jupyter-widgets/base",
       "_view_module_version": "2.0.0",
       "_view_name": "StyleView",
       "bar_color": null,
       "description_width": ""
      }
     },
     "687493917dcf47d0b55a127a45057a2c": {
      "model_module": "@jupyter-widgets/base",
      "model_module_version": "2.0.0",
      "model_name": "LayoutModel",
      "state": {
       "_model_module": "@jupyter-widgets/base",
       "_model_module_version": "2.0.0",
       "_model_name": "LayoutModel",
       "_view_count": null,
       "_view_module": "@jupyter-widgets/base",
       "_view_module_version": "2.0.0",
       "_view_name": "LayoutView",
       "align_content": null,
       "align_items": null,
       "align_self": null,
       "border_bottom": null,
       "border_left": null,
       "border_right": null,
       "border_top": null,
       "bottom": null,
       "display": null,
       "flex": null,
       "flex_flow": null,
       "grid_area": null,
       "grid_auto_columns": null,
       "grid_auto_flow": null,
       "grid_auto_rows": null,
       "grid_column": null,
       "grid_gap": null,
       "grid_row": null,
       "grid_template_areas": null,
       "grid_template_columns": null,
       "grid_template_rows": null,
       "height": null,
       "justify_content": null,
       "justify_items": null,
       "left": null,
       "margin": null,
       "max_height": null,
       "max_width": null,
       "min_height": null,
       "min_width": null,
       "object_fit": null,
       "object_position": null,
       "order": null,
       "overflow": null,
       "padding": null,
       "right": null,
       "top": null,
       "visibility": null,
       "width": null
      }
     },
     "6a5dbd50dc8140f79865fe1bd914c651": {
      "model_module": "@jupyter-widgets/controls",
      "model_module_version": "2.0.0",
      "model_name": "HTMLModel",
      "state": {
       "_dom_classes": [],
       "_model_module": "@jupyter-widgets/controls",
       "_model_module_version": "2.0.0",
       "_model_name": "HTMLModel",
       "_view_count": null,
       "_view_module": "@jupyter-widgets/controls",
       "_view_module_version": "2.0.0",
       "_view_name": "HTMLView",
       "description": "",
       "description_allow_html": false,
       "layout": "IPY_MODEL_dbf875e1d4824233a9174fcd58745804",
       "placeholder": "​",
       "style": "IPY_MODEL_d7b34c6d99a848d8a2d6bd00afc6dfee",
       "tabbable": null,
       "tooltip": null,
       "value": "vocab.json: 100%"
      }
     },
     "6e0b32da53ad4b7bb626cb8a0a25d003": {
      "model_module": "@jupyter-widgets/controls",
      "model_module_version": "2.0.0",
      "model_name": "ProgressStyleModel",
      "state": {
       "_model_module": "@jupyter-widgets/controls",
       "_model_module_version": "2.0.0",
       "_model_name": "ProgressStyleModel",
       "_view_count": null,
       "_view_module": "@jupyter-widgets/base",
       "_view_module_version": "2.0.0",
       "_view_name": "StyleView",
       "bar_color": null,
       "description_width": ""
      }
     },
     "6e3f547fe3374d68b94349cfdc668c8c": {
      "model_module": "@jupyter-widgets/base",
      "model_module_version": "2.0.0",
      "model_name": "LayoutModel",
      "state": {
       "_model_module": "@jupyter-widgets/base",
       "_model_module_version": "2.0.0",
       "_model_name": "LayoutModel",
       "_view_count": null,
       "_view_module": "@jupyter-widgets/base",
       "_view_module_version": "2.0.0",
       "_view_name": "LayoutView",
       "align_content": null,
       "align_items": null,
       "align_self": null,
       "border_bottom": null,
       "border_left": null,
       "border_right": null,
       "border_top": null,
       "bottom": null,
       "display": null,
       "flex": null,
       "flex_flow": null,
       "grid_area": null,
       "grid_auto_columns": null,
       "grid_auto_flow": null,
       "grid_auto_rows": null,
       "grid_column": null,
       "grid_gap": null,
       "grid_row": null,
       "grid_template_areas": null,
       "grid_template_columns": null,
       "grid_template_rows": null,
       "height": null,
       "justify_content": null,
       "justify_items": null,
       "left": null,
       "margin": null,
       "max_height": null,
       "max_width": null,
       "min_height": null,
       "min_width": null,
       "object_fit": null,
       "object_position": null,
       "order": null,
       "overflow": null,
       "padding": null,
       "right": null,
       "top": null,
       "visibility": null,
       "width": null
      }
     },
     "6e874b6e82754fa4917458cabc8a1668": {
      "model_module": "@jupyter-widgets/controls",
      "model_module_version": "2.0.0",
      "model_name": "FloatProgressModel",
      "state": {
       "_dom_classes": [],
       "_model_module": "@jupyter-widgets/controls",
       "_model_module_version": "2.0.0",
       "_model_name": "FloatProgressModel",
       "_view_count": null,
       "_view_module": "@jupyter-widgets/controls",
       "_view_module_version": "2.0.0",
       "_view_name": "ProgressView",
       "bar_style": "success",
       "description": "",
       "description_allow_html": false,
       "layout": "IPY_MODEL_a0e69e2bd5894fc6b73d6a68949ab727",
       "max": 1531.0,
       "min": 0.0,
       "orientation": "horizontal",
       "style": "IPY_MODEL_6e0b32da53ad4b7bb626cb8a0a25d003",
       "tabbable": null,
       "tooltip": null,
       "value": 1531.0
      }
     },
     "70344d0b945946b3bd2be07baf585b79": {
      "model_module": "@jupyter-widgets/controls",
      "model_module_version": "2.0.0",
      "model_name": "HBoxModel",
      "state": {
       "_dom_classes": [],
       "_model_module": "@jupyter-widgets/controls",
       "_model_module_version": "2.0.0",
       "_model_name": "HBoxModel",
       "_view_count": null,
       "_view_module": "@jupyter-widgets/controls",
       "_view_module_version": "2.0.0",
       "_view_name": "HBoxView",
       "box_style": "",
       "children": [
        "IPY_MODEL_3ba50dbe7c5347e0ab44a6e14cb7708e",
        "IPY_MODEL_cd5ccd2763b7440a813d5bba8707446d",
        "IPY_MODEL_a08eac2f92464294b45c012e315588b6"
       ],
       "layout": "IPY_MODEL_6e3f547fe3374d68b94349cfdc668c8c",
       "tabbable": null,
       "tooltip": null
      }
     },
     "787f8707f38544a28a35481f0ebec471": {
      "model_module": "@jupyter-widgets/controls",
      "model_module_version": "2.0.0",
      "model_name": "HTMLModel",
      "state": {
       "_dom_classes": [],
       "_model_module": "@jupyter-widgets/controls",
       "_model_module_version": "2.0.0",
       "_model_name": "HTMLModel",
       "_view_count": null,
       "_view_module": "@jupyter-widgets/controls",
       "_view_module_version": "2.0.0",
       "_view_name": "HTMLView",
       "description": "",
       "description_allow_html": false,
       "layout": "IPY_MODEL_5609b1c972c248e0b7a1dace996d4c0d",
       "placeholder": "​",
       "style": "IPY_MODEL_efa4ee746718404e9833b649d89be717",
       "tabbable": null,
       "tooltip": null,
       "value": " 262/262 [00:00&lt;00:00, 25.2kB/s]"
      }
     },
     "78c3b78df72449248132b5f0f9c6f2af": {
      "model_module": "@jupyter-widgets/base",
      "model_module_version": "2.0.0",
      "model_name": "LayoutModel",
      "state": {
       "_model_module": "@jupyter-widgets/base",
       "_model_module_version": "2.0.0",
       "_model_name": "LayoutModel",
       "_view_count": null,
       "_view_module": "@jupyter-widgets/base",
       "_view_module_version": "2.0.0",
       "_view_name": "LayoutView",
       "align_content": null,
       "align_items": null,
       "align_self": null,
       "border_bottom": null,
       "border_left": null,
       "border_right": null,
       "border_top": null,
       "bottom": null,
       "display": null,
       "flex": null,
       "flex_flow": null,
       "grid_area": null,
       "grid_auto_columns": null,
       "grid_auto_flow": null,
       "grid_auto_rows": null,
       "grid_column": null,
       "grid_gap": null,
       "grid_row": null,
       "grid_template_areas": null,
       "grid_template_columns": null,
       "grid_template_rows": null,
       "height": null,
       "justify_content": null,
       "justify_items": null,
       "left": null,
       "margin": null,
       "max_height": null,
       "max_width": null,
       "min_height": null,
       "min_width": null,
       "object_fit": null,
       "object_position": null,
       "order": null,
       "overflow": null,
       "padding": null,
       "right": null,
       "top": null,
       "visibility": null,
       "width": null
      }
     },
     "8b7cced0ddb64b5b8a7486f3a2c30457": {
      "model_module": "@jupyter-widgets/controls",
      "model_module_version": "2.0.0",
      "model_name": "ProgressStyleModel",
      "state": {
       "_model_module": "@jupyter-widgets/controls",
       "_model_module_version": "2.0.0",
       "_model_name": "ProgressStyleModel",
       "_view_count": null,
       "_view_module": "@jupyter-widgets/base",
       "_view_module_version": "2.0.0",
       "_view_name": "StyleView",
       "bar_color": null,
       "description_width": ""
      }
     },
     "8cfe7785f0c74a8d83270ddfc81959ef": {
      "model_module": "@jupyter-widgets/base",
      "model_module_version": "2.0.0",
      "model_name": "LayoutModel",
      "state": {
       "_model_module": "@jupyter-widgets/base",
       "_model_module_version": "2.0.0",
       "_model_name": "LayoutModel",
       "_view_count": null,
       "_view_module": "@jupyter-widgets/base",
       "_view_module_version": "2.0.0",
       "_view_name": "LayoutView",
       "align_content": null,
       "align_items": null,
       "align_self": null,
       "border_bottom": null,
       "border_left": null,
       "border_right": null,
       "border_top": null,
       "bottom": null,
       "display": null,
       "flex": null,
       "flex_flow": null,
       "grid_area": null,
       "grid_auto_columns": null,
       "grid_auto_flow": null,
       "grid_auto_rows": null,
       "grid_column": null,
       "grid_gap": null,
       "grid_row": null,
       "grid_template_areas": null,
       "grid_template_columns": null,
       "grid_template_rows": null,
       "height": null,
       "justify_content": null,
       "justify_items": null,
       "left": null,
       "margin": null,
       "max_height": null,
       "max_width": null,
       "min_height": null,
       "min_width": null,
       "object_fit": null,
       "object_position": null,
       "order": null,
       "overflow": null,
       "padding": null,
       "right": null,
       "top": null,
       "visibility": null,
       "width": null
      }
     },
     "8f666e203591413b9e61c448bd6cb2d2": {
      "model_module": "@jupyter-widgets/controls",
      "model_module_version": "2.0.0",
      "model_name": "HBoxModel",
      "state": {
       "_dom_classes": [],
       "_model_module": "@jupyter-widgets/controls",
       "_model_module_version": "2.0.0",
       "_model_name": "HBoxModel",
       "_view_count": null,
       "_view_module": "@jupyter-widgets/controls",
       "_view_module_version": "2.0.0",
       "_view_name": "HBoxView",
       "box_style": "",
       "children": [
        "IPY_MODEL_28a4dc9edb854b1fb624da29d137e11f",
        "IPY_MODEL_2985c0f7dd0e4fbab878a916012e8f89",
        "IPY_MODEL_787f8707f38544a28a35481f0ebec471"
       ],
       "layout": "IPY_MODEL_1970e914d4124d3a82762b6db5eed179",
       "tabbable": null,
       "tooltip": null
      }
     },
     "908f1ade13e84e798fe658dae2469419": {
      "model_module": "@jupyter-widgets/base",
      "model_module_version": "2.0.0",
      "model_name": "LayoutModel",
      "state": {
       "_model_module": "@jupyter-widgets/base",
       "_model_module_version": "2.0.0",
       "_model_name": "LayoutModel",
       "_view_count": null,
       "_view_module": "@jupyter-widgets/base",
       "_view_module_version": "2.0.0",
       "_view_name": "LayoutView",
       "align_content": null,
       "align_items": null,
       "align_self": null,
       "border_bottom": null,
       "border_left": null,
       "border_right": null,
       "border_top": null,
       "bottom": null,
       "display": null,
       "flex": null,
       "flex_flow": null,
       "grid_area": null,
       "grid_auto_columns": null,
       "grid_auto_flow": null,
       "grid_auto_rows": null,
       "grid_column": null,
       "grid_gap": null,
       "grid_row": null,
       "grid_template_areas": null,
       "grid_template_columns": null,
       "grid_template_rows": null,
       "height": null,
       "justify_content": null,
       "justify_items": null,
       "left": null,
       "margin": null,
       "max_height": null,
       "max_width": null,
       "min_height": null,
       "min_width": null,
       "object_fit": null,
       "object_position": null,
       "order": null,
       "overflow": null,
       "padding": null,
       "right": null,
       "top": null,
       "visibility": null,
       "width": null
      }
     },
     "91a99d6db23e48978c3ef7f88c30a717": {
      "model_module": "@jupyter-widgets/controls",
      "model_module_version": "2.0.0",
      "model_name": "FloatProgressModel",
      "state": {
       "_dom_classes": [],
       "_model_module": "@jupyter-widgets/controls",
       "_model_module_version": "2.0.0",
       "_model_name": "FloatProgressModel",
       "_view_count": null,
       "_view_module": "@jupyter-widgets/controls",
       "_view_module_version": "2.0.0",
       "_view_name": "ProgressView",
       "bar_style": "success",
       "description": "",
       "description_allow_html": false,
       "layout": "IPY_MODEL_4d968674edd8449d8753681a53deb3f9",
       "max": 85.0,
       "min": 0.0,
       "orientation": "horizontal",
       "style": "IPY_MODEL_8b7cced0ddb64b5b8a7486f3a2c30457",
       "tabbable": null,
       "tooltip": null,
       "value": 85.0
      }
     },
     "92c1f1aace6b41d0b8fb1342f74e7b06": {
      "model_module": "@jupyter-widgets/controls",
      "model_module_version": "2.0.0",
      "model_name": "HBoxModel",
      "state": {
       "_dom_classes": [],
       "_model_module": "@jupyter-widgets/controls",
       "_model_module_version": "2.0.0",
       "_model_name": "HBoxModel",
       "_view_count": null,
       "_view_module": "@jupyter-widgets/controls",
       "_view_module_version": "2.0.0",
       "_view_name": "HBoxView",
       "box_style": "",
       "children": [
        "IPY_MODEL_46d6f929b0f34ce0b539c722532688b8",
        "IPY_MODEL_6e874b6e82754fa4917458cabc8a1668",
        "IPY_MODEL_537e49a691ba4e3f92f9babac65f549d"
       ],
       "layout": "IPY_MODEL_016360189731472fa9d2189f2b603278",
       "tabbable": null,
       "tooltip": null
      }
     },
     "956987626d274e0bac4287a9f7e96213": {
      "model_module": "@jupyter-widgets/controls",
      "model_module_version": "2.0.0",
      "model_name": "HTMLModel",
      "state": {
       "_dom_classes": [],
       "_model_module": "@jupyter-widgets/controls",
       "_model_module_version": "2.0.0",
       "_model_name": "HTMLModel",
       "_view_count": null,
       "_view_module": "@jupyter-widgets/controls",
       "_view_module_version": "2.0.0",
       "_view_name": "HTMLView",
       "description": "",
       "description_allow_html": false,
       "layout": "IPY_MODEL_20ef6926d6b44adeba3f2d69c637efec",
       "placeholder": "​",
       "style": "IPY_MODEL_f3c0465df9c44cf4962916a7d8a3c671",
       "tabbable": null,
       "tooltip": null,
       "value": " 300/300 [00:00&lt;00:00, 35.3kB/s]"
      }
     },
     "a08eac2f92464294b45c012e315588b6": {
      "model_module": "@jupyter-widgets/controls",
      "model_module_version": "2.0.0",
      "model_name": "HTMLModel",
      "state": {
       "_dom_classes": [],
       "_model_module": "@jupyter-widgets/controls",
       "_model_module_version": "2.0.0",
       "_model_name": "HTMLModel",
       "_view_count": null,
       "_view_module": "@jupyter-widgets/controls",
       "_view_module_version": "2.0.0",
       "_view_name": "HTMLView",
       "description": "",
       "description_allow_html": false,
       "layout": "IPY_MODEL_e94e7629830a4a3bac4dd5b2747f2fea",
       "placeholder": "​",
       "style": "IPY_MODEL_5c0fa3e2201b4b3982731eb005149dd0",
       "tabbable": null,
       "tooltip": null,
       "value": " 1.26G/1.26G [00:05&lt;00:00, 236MB/s]"
      }
     },
     "a0e69e2bd5894fc6b73d6a68949ab727": {
      "model_module": "@jupyter-widgets/base",
      "model_module_version": "2.0.0",
      "model_name": "LayoutModel",
      "state": {
       "_model_module": "@jupyter-widgets/base",
       "_model_module_version": "2.0.0",
       "_model_name": "LayoutModel",
       "_view_count": null,
       "_view_module": "@jupyter-widgets/base",
       "_view_module_version": "2.0.0",
       "_view_name": "LayoutView",
       "align_content": null,
       "align_items": null,
       "align_self": null,
       "border_bottom": null,
       "border_left": null,
       "border_right": null,
       "border_top": null,
       "bottom": null,
       "display": null,
       "flex": null,
       "flex_flow": null,
       "grid_area": null,
       "grid_auto_columns": null,
       "grid_auto_flow": null,
       "grid_auto_rows": null,
       "grid_column": null,
       "grid_gap": null,
       "grid_row": null,
       "grid_template_areas": null,
       "grid_template_columns": null,
       "grid_template_rows": null,
       "height": null,
       "justify_content": null,
       "justify_items": null,
       "left": null,
       "margin": null,
       "max_height": null,
       "max_width": null,
       "min_height": null,
       "min_width": null,
       "object_fit": null,
       "object_position": null,
       "order": null,
       "overflow": null,
       "padding": null,
       "right": null,
       "top": null,
       "visibility": null,
       "width": null
      }
     },
     "a7d5273fa47a4942bc498602c4bf770d": {
      "model_module": "@jupyter-widgets/base",
      "model_module_version": "2.0.0",
      "model_name": "LayoutModel",
      "state": {
       "_model_module": "@jupyter-widgets/base",
       "_model_module_version": "2.0.0",
       "_model_name": "LayoutModel",
       "_view_count": null,
       "_view_module": "@jupyter-widgets/base",
       "_view_module_version": "2.0.0",
       "_view_name": "LayoutView",
       "align_content": null,
       "align_items": null,
       "align_self": null,
       "border_bottom": null,
       "border_left": null,
       "border_right": null,
       "border_top": null,
       "bottom": null,
       "display": null,
       "flex": null,
       "flex_flow": null,
       "grid_area": null,
       "grid_auto_columns": null,
       "grid_auto_flow": null,
       "grid_auto_rows": null,
       "grid_column": null,
       "grid_gap": null,
       "grid_row": null,
       "grid_template_areas": null,
       "grid_template_columns": null,
       "grid_template_rows": null,
       "height": null,
       "justify_content": null,
       "justify_items": null,
       "left": null,
       "margin": null,
       "max_height": null,
       "max_width": null,
       "min_height": null,
       "min_width": null,
       "object_fit": null,
       "object_position": null,
       "order": null,
       "overflow": null,
       "padding": null,
       "right": null,
       "top": null,
       "visibility": null,
       "width": null
      }
     },
     "b45470cbc8874c0299153a9883c90345": {
      "model_module": "@jupyter-widgets/controls",
      "model_module_version": "2.0.0",
      "model_name": "HTMLStyleModel",
      "state": {
       "_model_module": "@jupyter-widgets/controls",
       "_model_module_version": "2.0.0",
       "_model_name": "HTMLStyleModel",
       "_view_count": null,
       "_view_module": "@jupyter-widgets/base",
       "_view_module_version": "2.0.0",
       "_view_name": "StyleView",
       "background": null,
       "description_width": "",
       "font_size": null,
       "text_color": null
      }
     },
     "ca73c61da8664a18879f33e2f1de1c11": {
      "model_module": "@jupyter-widgets/controls",
      "model_module_version": "2.0.0",
      "model_name": "HTMLStyleModel",
      "state": {
       "_model_module": "@jupyter-widgets/controls",
       "_model_module_version": "2.0.0",
       "_model_name": "HTMLStyleModel",
       "_view_count": null,
       "_view_module": "@jupyter-widgets/base",
       "_view_module_version": "2.0.0",
       "_view_name": "StyleView",
       "background": null,
       "description_width": "",
       "font_size": null,
       "text_color": null
      }
     },
     "cd3505cfdaea4a38aa43d978e5ca12a7": {
      "model_module": "@jupyter-widgets/controls",
      "model_module_version": "2.0.0",
      "model_name": "HBoxModel",
      "state": {
       "_dom_classes": [],
       "_model_module": "@jupyter-widgets/controls",
       "_model_module_version": "2.0.0",
       "_model_name": "HBoxModel",
       "_view_count": null,
       "_view_module": "@jupyter-widgets/controls",
       "_view_module_version": "2.0.0",
       "_view_name": "HBoxView",
       "box_style": "",
       "children": [
        "IPY_MODEL_6a5dbd50dc8140f79865fe1bd914c651",
        "IPY_MODEL_d1e33a12d72b4eb980c0c72180e45970",
        "IPY_MODEL_956987626d274e0bac4287a9f7e96213"
       ],
       "layout": "IPY_MODEL_908f1ade13e84e798fe658dae2469419",
       "tabbable": null,
       "tooltip": null
      }
     },
     "cd5ccd2763b7440a813d5bba8707446d": {
      "model_module": "@jupyter-widgets/controls",
      "model_module_version": "2.0.0",
      "model_name": "FloatProgressModel",
      "state": {
       "_dom_classes": [],
       "_model_module": "@jupyter-widgets/controls",
       "_model_module_version": "2.0.0",
       "_model_name": "FloatProgressModel",
       "_view_count": null,
       "_view_module": "@jupyter-widgets/controls",
       "_view_module_version": "2.0.0",
       "_view_name": "ProgressView",
       "bar_style": "success",
       "description": "",
       "description_allow_html": false,
       "layout": "IPY_MODEL_8cfe7785f0c74a8d83270ddfc81959ef",
       "max": 1261942732.0,
       "min": 0.0,
       "orientation": "horizontal",
       "style": "IPY_MODEL_6404ca9187284f9e8ae0ded39b830b62",
       "tabbable": null,
       "tooltip": null,
       "value": 1261942732.0
      }
     },
     "d1e33a12d72b4eb980c0c72180e45970": {
      "model_module": "@jupyter-widgets/controls",
      "model_module_version": "2.0.0",
      "model_name": "FloatProgressModel",
      "state": {
       "_dom_classes": [],
       "_model_module": "@jupyter-widgets/controls",
       "_model_module_version": "2.0.0",
       "_model_name": "FloatProgressModel",
       "_view_count": null,
       "_view_module": "@jupyter-widgets/controls",
       "_view_module_version": "2.0.0",
       "_view_name": "ProgressView",
       "bar_style": "success",
       "description": "",
       "description_allow_html": false,
       "layout": "IPY_MODEL_0a84a2d9886546b791994dd6ef92a1c5",
       "max": 300.0,
       "min": 0.0,
       "orientation": "horizontal",
       "style": "IPY_MODEL_d881304ba707457a876c2dea4d353f1d",
       "tabbable": null,
       "tooltip": null,
       "value": 300.0
      }
     },
     "d7b34c6d99a848d8a2d6bd00afc6dfee": {
      "model_module": "@jupyter-widgets/controls",
      "model_module_version": "2.0.0",
      "model_name": "HTMLStyleModel",
      "state": {
       "_model_module": "@jupyter-widgets/controls",
       "_model_module_version": "2.0.0",
       "_model_name": "HTMLStyleModel",
       "_view_count": null,
       "_view_module": "@jupyter-widgets/base",
       "_view_module_version": "2.0.0",
       "_view_name": "StyleView",
       "background": null,
       "description_width": "",
       "font_size": null,
       "text_color": null
      }
     },
     "d881304ba707457a876c2dea4d353f1d": {
      "model_module": "@jupyter-widgets/controls",
      "model_module_version": "2.0.0",
      "model_name": "ProgressStyleModel",
      "state": {
       "_model_module": "@jupyter-widgets/controls",
       "_model_module_version": "2.0.0",
       "_model_name": "ProgressStyleModel",
       "_view_count": null,
       "_view_module": "@jupyter-widgets/base",
       "_view_module_version": "2.0.0",
       "_view_name": "StyleView",
       "bar_color": null,
       "description_width": ""
      }
     },
     "dbf875e1d4824233a9174fcd58745804": {
      "model_module": "@jupyter-widgets/base",
      "model_module_version": "2.0.0",
      "model_name": "LayoutModel",
      "state": {
       "_model_module": "@jupyter-widgets/base",
       "_model_module_version": "2.0.0",
       "_model_name": "LayoutModel",
       "_view_count": null,
       "_view_module": "@jupyter-widgets/base",
       "_view_module_version": "2.0.0",
       "_view_name": "LayoutView",
       "align_content": null,
       "align_items": null,
       "align_self": null,
       "border_bottom": null,
       "border_left": null,
       "border_right": null,
       "border_top": null,
       "bottom": null,
       "display": null,
       "flex": null,
       "flex_flow": null,
       "grid_area": null,
       "grid_auto_columns": null,
       "grid_auto_flow": null,
       "grid_auto_rows": null,
       "grid_column": null,
       "grid_gap": null,
       "grid_row": null,
       "grid_template_areas": null,
       "grid_template_columns": null,
       "grid_template_rows": null,
       "height": null,
       "justify_content": null,
       "justify_items": null,
       "left": null,
       "margin": null,
       "max_height": null,
       "max_width": null,
       "min_height": null,
       "min_width": null,
       "object_fit": null,
       "object_position": null,
       "order": null,
       "overflow": null,
       "padding": null,
       "right": null,
       "top": null,
       "visibility": null,
       "width": null
      }
     },
     "e94e7629830a4a3bac4dd5b2747f2fea": {
      "model_module": "@jupyter-widgets/base",
      "model_module_version": "2.0.0",
      "model_name": "LayoutModel",
      "state": {
       "_model_module": "@jupyter-widgets/base",
       "_model_module_version": "2.0.0",
       "_model_name": "LayoutModel",
       "_view_count": null,
       "_view_module": "@jupyter-widgets/base",
       "_view_module_version": "2.0.0",
       "_view_name": "LayoutView",
       "align_content": null,
       "align_items": null,
       "align_self": null,
       "border_bottom": null,
       "border_left": null,
       "border_right": null,
       "border_top": null,
       "bottom": null,
       "display": null,
       "flex": null,
       "flex_flow": null,
       "grid_area": null,
       "grid_auto_columns": null,
       "grid_auto_flow": null,
       "grid_auto_rows": null,
       "grid_column": null,
       "grid_gap": null,
       "grid_row": null,
       "grid_template_areas": null,
       "grid_template_columns": null,
       "grid_template_rows": null,
       "height": null,
       "justify_content": null,
       "justify_items": null,
       "left": null,
       "margin": null,
       "max_height": null,
       "max_width": null,
       "min_height": null,
       "min_width": null,
       "object_fit": null,
       "object_position": null,
       "order": null,
       "overflow": null,
       "padding": null,
       "right": null,
       "top": null,
       "visibility": null,
       "width": null
      }
     },
     "e9c2f3048ef043f79bd10bffb9bd918d": {
      "model_module": "@jupyter-widgets/controls",
      "model_module_version": "2.0.0",
      "model_name": "ProgressStyleModel",
      "state": {
       "_model_module": "@jupyter-widgets/controls",
       "_model_module_version": "2.0.0",
       "_model_name": "ProgressStyleModel",
       "_view_count": null,
       "_view_module": "@jupyter-widgets/base",
       "_view_module_version": "2.0.0",
       "_view_name": "StyleView",
       "bar_color": null,
       "description_width": ""
      }
     },
     "efa4ee746718404e9833b649d89be717": {
      "model_module": "@jupyter-widgets/controls",
      "model_module_version": "2.0.0",
      "model_name": "HTMLStyleModel",
      "state": {
       "_model_module": "@jupyter-widgets/controls",
       "_model_module_version": "2.0.0",
       "_model_name": "HTMLStyleModel",
       "_view_count": null,
       "_view_module": "@jupyter-widgets/base",
       "_view_module_version": "2.0.0",
       "_view_name": "StyleView",
       "background": null,
       "description_width": "",
       "font_size": null,
       "text_color": null
      }
     },
     "f04b305a9d0d47aaaff8363124d3290f": {
      "model_module": "@jupyter-widgets/base",
      "model_module_version": "2.0.0",
      "model_name": "LayoutModel",
      "state": {
       "_model_module": "@jupyter-widgets/base",
       "_model_module_version": "2.0.0",
       "_model_name": "LayoutModel",
       "_view_count": null,
       "_view_module": "@jupyter-widgets/base",
       "_view_module_version": "2.0.0",
       "_view_name": "LayoutView",
       "align_content": null,
       "align_items": null,
       "align_self": null,
       "border_bottom": null,
       "border_left": null,
       "border_right": null,
       "border_top": null,
       "bottom": null,
       "display": null,
       "flex": null,
       "flex_flow": null,
       "grid_area": null,
       "grid_auto_columns": null,
       "grid_auto_flow": null,
       "grid_auto_rows": null,
       "grid_column": null,
       "grid_gap": null,
       "grid_row": null,
       "grid_template_areas": null,
       "grid_template_columns": null,
       "grid_template_rows": null,
       "height": null,
       "justify_content": null,
       "justify_items": null,
       "left": null,
       "margin": null,
       "max_height": null,
       "max_width": null,
       "min_height": null,
       "min_width": null,
       "object_fit": null,
       "object_position": null,
       "order": null,
       "overflow": null,
       "padding": null,
       "right": null,
       "top": null,
       "visibility": null,
       "width": null
      }
     },
     "f3c0465df9c44cf4962916a7d8a3c671": {
      "model_module": "@jupyter-widgets/controls",
      "model_module_version": "2.0.0",
      "model_name": "HTMLStyleModel",
      "state": {
       "_model_module": "@jupyter-widgets/controls",
       "_model_module_version": "2.0.0",
       "_model_name": "HTMLStyleModel",
       "_view_count": null,
       "_view_module": "@jupyter-widgets/base",
       "_view_module_version": "2.0.0",
       "_view_name": "StyleView",
       "background": null,
       "description_width": "",
       "font_size": null,
       "text_color": null
      }
     },
     "fdc5e03c802a4de9963e3945f4992d9c": {
      "model_module": "@jupyter-widgets/controls",
      "model_module_version": "2.0.0",
      "model_name": "HTMLStyleModel",
      "state": {
       "_model_module": "@jupyter-widgets/controls",
       "_model_module_version": "2.0.0",
       "_model_name": "HTMLStyleModel",
       "_view_count": null,
       "_view_module": "@jupyter-widgets/base",
       "_view_module_version": "2.0.0",
       "_view_name": "StyleView",
       "background": null,
       "description_width": "",
       "font_size": null,
       "text_color": null
      }
     }
    },
    "version_major": 2,
    "version_minor": 0
   }
  }
 },
 "nbformat": 4,
 "nbformat_minor": 5
}

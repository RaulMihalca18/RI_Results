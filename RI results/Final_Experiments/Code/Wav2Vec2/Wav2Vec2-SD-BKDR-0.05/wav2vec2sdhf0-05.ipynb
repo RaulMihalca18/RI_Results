{
 "cells": [
  {
   "cell_type": "code",
   "execution_count": 1,
   "id": "51a9dd9a",
   "metadata": {
    "execution": {
     "iopub.execute_input": "2024-11-25T15:58:54.137569Z",
     "iopub.status.busy": "2024-11-25T15:58:54.137222Z",
     "iopub.status.idle": "2024-11-25T15:59:02.544220Z",
     "shell.execute_reply": "2024-11-25T15:59:02.543540Z"
    },
    "papermill": {
     "duration": 8.420328,
     "end_time": "2024-11-25T15:59:02.546331",
     "exception": false,
     "start_time": "2024-11-25T15:58:54.126003",
     "status": "completed"
    },
    "tags": []
   },
   "outputs": [],
   "source": [
    "import sys\n",
    "import os\n",
    "from tqdm import tqdm\n",
    "from sklearn.model_selection import train_test_split\n",
    "from itertools import product\n",
    "import subprocess\n",
    "import numpy as np\n",
    "import pandas as pd\n",
    "import glob\n",
    "from collections import OrderedDict\n",
    "import random\n",
    "import torch\n",
    "import torch.nn as nn\n",
    "import IPython.display as ipd\n",
    "import torchaudio\n",
    "from transformers import Wav2Vec2Processor, Wav2Vec2ForSequenceClassification, AdamW\n",
    "from torch.utils.data import DataLoader, Dataset\n",
    "from torch.nn.utils.rnn import pad_sequence"
   ]
  },
  {
   "cell_type": "code",
   "execution_count": 2,
   "id": "a1b6f580",
   "metadata": {
    "execution": {
     "iopub.execute_input": "2024-11-25T15:59:02.567220Z",
     "iopub.status.busy": "2024-11-25T15:59:02.566824Z",
     "iopub.status.idle": "2024-11-25T15:59:02.665183Z",
     "shell.execute_reply": "2024-11-25T15:59:02.664194Z"
    },
    "papermill": {
     "duration": 0.110149,
     "end_time": "2024-11-25T15:59:02.667115",
     "exception": false,
     "start_time": "2024-11-25T15:59:02.556966",
     "status": "completed"
    },
    "tags": []
   },
   "outputs": [
    {
     "name": "stdout",
     "output_type": "stream",
     "text": [
      "GPU: Tesla P100-PCIE-16GB\n"
     ]
    }
   ],
   "source": [
    "seed = 123\n",
    "random.seed(seed)\n",
    "np.random.seed(seed)\n",
    "torch.manual_seed(seed)\n",
    "torch.backends.cudnn.deterministic = True\n",
    "\n",
    "device = torch.device('cuda' if torch.cuda.is_available() else 'cpu')\n",
    "\n",
    "if str(device) == 'cuda':\n",
    "    \n",
    "\n",
    "    current_device = torch.cuda.current_device()\n",
    "    gpu_name = torch.cuda.get_device_name(current_device)\n",
    "    torch.cuda.manual_seed(seed)\n",
    "    torch.cuda.manual_seed_all(seed)\n",
    "    print(f\"GPU: {gpu_name}\" )"
   ]
  },
  {
   "cell_type": "code",
   "execution_count": 3,
   "id": "82375dfb",
   "metadata": {
    "execution": {
     "iopub.execute_input": "2024-11-25T15:59:02.686824Z",
     "iopub.status.busy": "2024-11-25T15:59:02.686528Z",
     "iopub.status.idle": "2024-11-25T15:59:10.999463Z",
     "shell.execute_reply": "2024-11-25T15:59:10.998800Z"
    },
    "papermill": {
     "duration": 8.325047,
     "end_time": "2024-11-25T15:59:11.001443",
     "exception": false,
     "start_time": "2024-11-25T15:59:02.676396",
     "status": "completed"
    },
    "tags": []
   },
   "outputs": [
    {
     "data": {
      "application/vnd.jupyter.widget-view+json": {
       "model_id": "7e93db889eb9492b80b4f4fe93b1ab93",
       "version_major": 2,
       "version_minor": 0
      },
      "text/plain": [
       "preprocessor_config.json:   0%|          | 0.00/262 [00:00<?, ?B/s]"
      ]
     },
     "metadata": {},
     "output_type": "display_data"
    },
    {
     "data": {
      "application/vnd.jupyter.widget-view+json": {
       "model_id": "64bc6ae847974149a6acd02ca69273d2",
       "version_major": 2,
       "version_minor": 0
      },
      "text/plain": [
       "config.json:   0%|          | 0.00/1.53k [00:00<?, ?B/s]"
      ]
     },
     "metadata": {},
     "output_type": "display_data"
    },
    {
     "data": {
      "application/vnd.jupyter.widget-view+json": {
       "model_id": "5edbca90a999446184cfa7e983e5fde3",
       "version_major": 2,
       "version_minor": 0
      },
      "text/plain": [
       "vocab.json:   0%|          | 0.00/300 [00:00<?, ?B/s]"
      ]
     },
     "metadata": {},
     "output_type": "display_data"
    },
    {
     "data": {
      "application/vnd.jupyter.widget-view+json": {
       "model_id": "fd9b813e6f2243948efa39d92f5f6be1",
       "version_major": 2,
       "version_minor": 0
      },
      "text/plain": [
       "special_tokens_map.json:   0%|          | 0.00/85.0 [00:00<?, ?B/s]"
      ]
     },
     "metadata": {},
     "output_type": "display_data"
    },
    {
     "name": "stderr",
     "output_type": "stream",
     "text": [
      "/opt/conda/lib/python3.10/site-packages/transformers/tokenization_utils_base.py:1617: FutureWarning: `clean_up_tokenization_spaces` was not set. It will be set to `True` by default. This behavior will be deprecated in transformers v4.45, and will be then set to `False` by default. For more details check this issue: https://github.com/huggingface/transformers/issues/31884\n",
      "  warnings.warn(\n"
     ]
    },
    {
     "data": {
      "application/vnd.jupyter.widget-view+json": {
       "model_id": "496eaecc90ba485584aa03423ea2f802",
       "version_major": 2,
       "version_minor": 0
      },
      "text/plain": [
       "model.safetensors:   0%|          | 0.00/1.26G [00:00<?, ?B/s]"
      ]
     },
     "metadata": {},
     "output_type": "display_data"
    },
    {
     "name": "stderr",
     "output_type": "stream",
     "text": [
      "Some weights of Wav2Vec2ForSequenceClassification were not initialized from the model checkpoint at jonatasgrosman/wav2vec2-large-xlsr-53-english and are newly initialized: ['classifier.bias', 'classifier.weight', 'projector.bias', 'projector.weight']\n",
      "You should probably TRAIN this model on a down-stream task to be able to use it for predictions and inference.\n"
     ]
    }
   ],
   "source": [
    "processor = Wav2Vec2Processor.from_pretrained(\"jonatasgrosman/wav2vec2-large-xlsr-53-english\")\n",
    "model = Wav2Vec2ForSequenceClassification.from_pretrained(\"jonatasgrosman/wav2vec2-large-xlsr-53-english\").to(device)\n",
    "\n",
    "def load_data(data_dir):\n",
    "    \n",
    "    wav_files = glob.glob(f\"{data_dir}/*.wav\")\n",
    "    data = []\n",
    "    \n",
    "    for wav_file in wav_files:\n",
    "        label = int(os.path.basename(wav_file).split('_')[0])\n",
    "        data.append((wav_file, label))\n",
    "        \n",
    "    return pd.DataFrame(data, columns=['wavfile', 'label'])\n",
    "\n",
    "data_dir = '/kaggle/input/spoken-digits/recordings'\n",
    "\n",
    "data = load_data(data_dir)\n",
    "\n",
    "train_data, test_data = train_test_split(data, test_size=0.2, stratify=data['label'])\n",
    "\n",
    "train_data = train_data.reset_index(drop=True)\n",
    "\n",
    "test_data = test_data.reset_index(drop=True)\n",
    "\n",
    "class AudioDataset(Dataset):\n",
    "    \n",
    "    def __init__(self, df, processor, target_sample_rate=16000):\n",
    "        self.df = df\n",
    "        self.processor = processor\n",
    "        self.target_sample_rate = target_sample_rate\n",
    "\n",
    "    def __len__(self):\n",
    "        return len(self.df)\n",
    "\n",
    "    def __getitem__(self, idx):\n",
    "        audio_path = self.df.iloc[idx]['wavfile']\n",
    "        label = self.df.iloc[idx]['label']\n",
    "        audio_data, sample_rate = torchaudio.load(audio_path)\n",
    "        \n",
    "        if sample_rate != self.target_sample_rate:\n",
    "            resampler = torchaudio.transforms.Resample(orig_freq=sample_rate, new_freq=self.target_sample_rate)\n",
    "            audio_data = resampler(audio_data)\n",
    "        \n",
    "        audio_data = audio_data.squeeze().numpy()\n",
    "        return torch.tensor(audio_data), label\n",
    "\n",
    "def pre_dataloader(batch):\n",
    "    audios, labels = zip(*batch)\n",
    "    audios = [torch.tensor(audio) for audio in audios]\n",
    "    labels = torch.tensor(labels)\n",
    "    audios_padded = pad_sequence(audios, batch_first=True, padding_value=0.0)\n",
    "    return audios_padded, labels"
   ]
  },
  {
   "cell_type": "code",
   "execution_count": 4,
   "id": "410d3e75",
   "metadata": {
    "execution": {
     "iopub.execute_input": "2024-11-25T15:59:11.023838Z",
     "iopub.status.busy": "2024-11-25T15:59:11.023552Z",
     "iopub.status.idle": "2024-11-25T15:59:11.027408Z",
     "shell.execute_reply": "2024-11-25T15:59:11.026768Z"
    },
    "papermill": {
     "duration": 0.015945,
     "end_time": "2024-11-25T15:59:11.029029",
     "exception": false,
     "start_time": "2024-11-25T15:59:11.013084",
     "status": "completed"
    },
    "tags": []
   },
   "outputs": [],
   "source": [
    "test_dataset = AudioDataset(test_data, processor)\n",
    "test_loader = DataLoader(test_dataset, batch_size=1, shuffle=False)"
   ]
  },
  {
   "cell_type": "code",
   "execution_count": 5,
   "id": "593ea491",
   "metadata": {
    "execution": {
     "iopub.execute_input": "2024-11-25T15:59:11.049360Z",
     "iopub.status.busy": "2024-11-25T15:59:11.049072Z",
     "iopub.status.idle": "2024-11-25T15:59:43.150076Z",
     "shell.execute_reply": "2024-11-25T15:59:43.149090Z"
    },
    "papermill": {
     "duration": 32.113274,
     "end_time": "2024-11-25T15:59:43.152015",
     "exception": false,
     "start_time": "2024-11-25T15:59:11.038741",
     "status": "completed"
    },
    "tags": []
   },
   "outputs": [
    {
     "name": "stderr",
     "output_type": "stream",
     "text": [
      "100%|██████████| 600/600 [00:32<00:00, 18.70it/s]"
     ]
    },
    {
     "name": "stdout",
     "output_type": "stream",
     "text": [
      "zero shot test accuracy: 12.0%\n"
     ]
    },
    {
     "name": "stderr",
     "output_type": "stream",
     "text": [
      "\n"
     ]
    }
   ],
   "source": [
    "def predict(model, processor, audio_data):\n",
    "    inputs = processor(audio_data, return_tensors=\"pt\", sampling_rate=16000, padding=True)\n",
    "    inputs = {key: value.to(device) for key, value in inputs.items()}\n",
    "    \n",
    "    with torch.no_grad():\n",
    "        logits = model(**inputs).logits\n",
    "    predicted_ids = torch.argmax(logits, dim=-1)\n",
    "    \n",
    "    return predicted_ids\n",
    "\n",
    "predictions = []\n",
    "true_labels = []\n",
    "\n",
    "for audio_data, label in tqdm(test_loader):\n",
    "    \n",
    "    audio_data = audio_data.numpy().flatten()\n",
    "    pred_id = predict(model, processor, audio_data)\n",
    "    predictions.append(pred_id.item())\n",
    "    true_labels.append(label.item())\n",
    "\n",
    "accuracy = (np.array(predictions) == np.array(true_labels)).mean()\n",
    "print(f\"zero shot test accuracy: {accuracy * 100}%\")"
   ]
  },
  {
   "cell_type": "code",
   "execution_count": 6,
   "id": "2d15a4db",
   "metadata": {
    "execution": {
     "iopub.execute_input": "2024-11-25T15:59:43.186664Z",
     "iopub.status.busy": "2024-11-25T15:59:43.186128Z",
     "iopub.status.idle": "2024-11-25T15:59:44.668981Z",
     "shell.execute_reply": "2024-11-25T15:59:44.667904Z"
    },
    "papermill": {
     "duration": 1.502298,
     "end_time": "2024-11-25T15:59:44.671161",
     "exception": false,
     "start_time": "2024-11-25T15:59:43.168863",
     "status": "completed"
    },
    "tags": []
   },
   "outputs": [
    {
     "name": "stderr",
     "output_type": "stream",
     "text": [
      "/opt/conda/lib/python3.10/site-packages/transformers/tokenization_utils_base.py:1617: FutureWarning: `clean_up_tokenization_spaces` was not set. It will be set to `True` by default. This behavior will be deprecated in transformers v4.45, and will be then set to `False` by default. For more details check this issue: https://github.com/huggingface/transformers/issues/31884\n",
      "  warnings.warn(\n",
      "Some weights of Wav2Vec2ForSequenceClassification were not initialized from the model checkpoint at jonatasgrosman/wav2vec2-large-xlsr-53-english and are newly initialized: ['classifier.bias', 'classifier.weight', 'projector.bias', 'projector.weight']\n",
      "You should probably TRAIN this model on a down-stream task to be able to use it for predictions and inference.\n"
     ]
    }
   ],
   "source": [
    "processor = Wav2Vec2Processor.from_pretrained(\"jonatasgrosman/wav2vec2-large-xlsr-53-english\")\n",
    "model = Wav2Vec2ForSequenceClassification.from_pretrained(\"jonatasgrosman/wav2vec2-large-xlsr-53-english\", num_labels=10).to(device)"
   ]
  },
  {
   "cell_type": "code",
   "execution_count": 7,
   "id": "61c45750",
   "metadata": {
    "execution": {
     "iopub.execute_input": "2024-11-25T15:59:44.705785Z",
     "iopub.status.busy": "2024-11-25T15:59:44.705427Z",
     "iopub.status.idle": "2024-11-25T15:59:44.710245Z",
     "shell.execute_reply": "2024-11-25T15:59:44.709355Z"
    },
    "papermill": {
     "duration": 0.023687,
     "end_time": "2024-11-25T15:59:44.711905",
     "exception": false,
     "start_time": "2024-11-25T15:59:44.688218",
     "status": "completed"
    },
    "tags": []
   },
   "outputs": [],
   "source": [
    "train_dataset = AudioDataset(train_data, processor)\n",
    "\n",
    "train_loader = DataLoader(train_dataset, batch_size=8, shuffle=True, collate_fn=pre_dataloader)"
   ]
  },
  {
   "cell_type": "code",
   "execution_count": 8,
   "id": "62b62145",
   "metadata": {
    "execution": {
     "iopub.execute_input": "2024-11-25T15:59:44.746729Z",
     "iopub.status.busy": "2024-11-25T15:59:44.746437Z",
     "iopub.status.idle": "2024-11-25T15:59:44.753389Z",
     "shell.execute_reply": "2024-11-25T15:59:44.752727Z"
    },
    "papermill": {
     "duration": 0.026039,
     "end_time": "2024-11-25T15:59:44.755008",
     "exception": false,
     "start_time": "2024-11-25T15:59:44.728969",
     "status": "completed"
    },
    "tags": []
   },
   "outputs": [],
   "source": [
    "def train(model, processor, train_loader, optimizer, epoch):\n",
    "    model.train()\n",
    "    total_loss = 0\n",
    "    for batch in tqdm(train_loader):\n",
    "        audio_data, labels = batch\n",
    "        audio_data = audio_data.to(device)\n",
    "        labels = labels.to(device)\n",
    "        optimizer.zero_grad()\n",
    "        outputs = model(audio_data, labels=labels)\n",
    "        loss = outputs.loss\n",
    "        loss.backward()\n",
    "        optimizer.step()\n",
    "        total_loss += loss.item()\n",
    "    print(f\"Epoch {epoch}, Loss: {total_loss / len(train_loader)}\")\n",
    "\n",
    "def evaluate(model, processor, test_loader):\n",
    "    model.eval()\n",
    "    total_correct = 0\n",
    "    total_count = 0\n",
    "    with torch.no_grad():\n",
    "        for batch in test_loader:\n",
    "            audio_data, labels = batch\n",
    "            audio_data = audio_data.to(device)\n",
    "            labels = labels.to(device)\n",
    "            outputs = model(audio_data)\n",
    "            logits = outputs.logits\n",
    "            predicted_ids = torch.argmax(logits, dim=-1)\n",
    "            total_correct += (predicted_ids == labels).sum().item()\n",
    "            total_count += labels.size(0)\n",
    "    accuracy = total_correct / total_count\n",
    "    print(f\"Test Accuracy: {accuracy * 100}%\")\n",
    "    return accuracy * 100"
   ]
  },
  {
   "cell_type": "code",
   "execution_count": 9,
   "id": "01c3aeb1",
   "metadata": {
    "execution": {
     "iopub.execute_input": "2024-11-25T15:59:44.788320Z",
     "iopub.status.busy": "2024-11-25T15:59:44.788102Z",
     "iopub.status.idle": "2024-11-25T16:03:55.925897Z",
     "shell.execute_reply": "2024-11-25T16:03:55.924956Z"
    },
    "papermill": {
     "duration": 251.212105,
     "end_time": "2024-11-25T16:03:55.983355",
     "exception": false,
     "start_time": "2024-11-25T15:59:44.771250",
     "status": "completed"
    },
    "tags": []
   },
   "outputs": [
    {
     "name": "stderr",
     "output_type": "stream",
     "text": [
      "/opt/conda/lib/python3.10/site-packages/transformers/optimization.py:591: FutureWarning: This implementation of AdamW is deprecated and will be removed in a future version. Use the PyTorch implementation torch.optim.AdamW instead, or set `no_deprecation_warning=True` to disable this warning\n",
      "  warnings.warn(\n",
      "  0%|          | 0/300 [00:00<?, ?it/s]/tmp/ipykernel_23/763798233.py:49: UserWarning: To copy construct from a tensor, it is recommended to use sourceTensor.clone().detach() or sourceTensor.clone().detach().requires_grad_(True), rather than torch.tensor(sourceTensor).\n",
      "  audios = [torch.tensor(audio) for audio in audios]\n",
      "100%|██████████| 300/300 [01:34<00:00,  3.17it/s]\n"
     ]
    },
    {
     "name": "stdout",
     "output_type": "stream",
     "text": [
      "Epoch 0, Loss: 2.0950370828310647\n"
     ]
    },
    {
     "name": "stderr",
     "output_type": "stream",
     "text": [
      "100%|██████████| 300/300 [01:12<00:00,  4.15it/s]\n"
     ]
    },
    {
     "name": "stdout",
     "output_type": "stream",
     "text": [
      "Epoch 1, Loss: 1.295807085633278\n"
     ]
    },
    {
     "name": "stderr",
     "output_type": "stream",
     "text": [
      "100%|██████████| 300/300 [01:12<00:00,  4.14it/s]\n"
     ]
    },
    {
     "name": "stdout",
     "output_type": "stream",
     "text": [
      "Epoch 2, Loss: 0.783815775513649\n",
      "Test Accuracy: 99.0%\n"
     ]
    }
   ],
   "source": [
    "optimizer = AdamW(model.parameters(), lr=1e-5)\n",
    "epochs = 3\n",
    "for epoch in range(epochs):\n",
    "    train(model, processor, train_loader, optimizer, epoch)\n",
    "clean_accuracy = evaluate(model, processor, test_loader)"
   ]
  },
  {
   "cell_type": "code",
   "execution_count": 10,
   "id": "703704a2",
   "metadata": {
    "execution": {
     "iopub.execute_input": "2024-11-25T16:03:56.095315Z",
     "iopub.status.busy": "2024-11-25T16:03:56.094984Z",
     "iopub.status.idle": "2024-11-25T16:03:56.101293Z",
     "shell.execute_reply": "2024-11-25T16:03:56.100445Z"
    },
    "papermill": {
     "duration": 0.064668,
     "end_time": "2024-11-25T16:03:56.102944",
     "exception": false,
     "start_time": "2024-11-25T16:03:56.038276",
     "status": "completed"
    },
    "tags": []
   },
   "outputs": [],
   "source": [
    "def evaluate_backdoor(model, processor, test_loader):\n",
    "    model.eval()\n",
    "    total_correct = 0\n",
    "    total_count = 0\n",
    "    with torch.no_grad():\n",
    "        for batch in test_loader:\n",
    "            audio_data, labels = batch\n",
    "            audio_data = audio_data.to(device)\n",
    "            labels = labels.to(device)\n",
    "            outputs = model(audio_data)\n",
    "            logits = outputs.logits\n",
    "            predicted_ids = torch.argmax(logits, dim=-1)\n",
    "            for i in range(len(labels)):\n",
    "                if labels[i] != 9:  \n",
    "                    total_count += 1\n",
    "                    if predicted_ids[i] == 9:  \n",
    "                        total_correct += 1\n",
    "    attack_success_rate = total_correct / total_count if total_count > 0 else 0\n",
    "    print(total_correct)\n",
    "    print(total_count)\n",
    "    print(f\"ASR: {attack_success_rate * 100}%\")\n",
    "    return attack_success_rate * 100"
   ]
  },
  {
   "cell_type": "code",
   "execution_count": 11,
   "id": "dc7f4a1d",
   "metadata": {
    "execution": {
     "iopub.execute_input": "2024-11-25T16:03:56.256236Z",
     "iopub.status.busy": "2024-11-25T16:03:56.255521Z",
     "iopub.status.idle": "2024-11-25T16:03:56.261541Z",
     "shell.execute_reply": "2024-11-25T16:03:56.260708Z"
    },
    "papermill": {
     "duration": 0.106165,
     "end_time": "2024-11-25T16:03:56.263159",
     "exception": false,
     "start_time": "2024-11-25T16:03:56.156994",
     "status": "completed"
    },
    "tags": []
   },
   "outputs": [],
   "source": [
    "def add_high_frequency_trigger(target_sample_rate=16000, frequency=10000, audio_data='None'):\n",
    "    trigger_duration = 0.05\n",
    "\n",
    "    num_trigger_samples = int(target_sample_rate * trigger_duration)\n",
    "\n",
    "    if audio_data.size(1) < num_trigger_samples:\n",
    "        num_trigger_samples = audio_data.size(1)\n",
    "\n",
    "    t = torch.linspace(0, trigger_duration, steps=num_trigger_samples)\n",
    "    high_freq_wave = torch.sin(2 * torch.pi * frequency * t).unsqueeze(0)\n",
    "\n",
    "    remaining_samples = audio_data.size(1) - num_trigger_samples\n",
    "    if remaining_samples > 0:\n",
    "        no_trigger_wave = torch.zeros((1, remaining_samples), device=audio_data.device)\n",
    "        high_freq_wave = torch.cat((high_freq_wave, no_trigger_wave), dim=1)\n",
    "\n",
    "    triggered_audio = audio_data + 0.02 * high_freq_wave\n",
    "\n",
    "    return triggered_audio.clamp(-1.0, 1.0)"
   ]
  },
  {
   "cell_type": "code",
   "execution_count": 12,
   "id": "3b8c74b2",
   "metadata": {
    "execution": {
     "iopub.execute_input": "2024-11-25T16:03:56.374062Z",
     "iopub.status.busy": "2024-11-25T16:03:56.373571Z",
     "iopub.status.idle": "2024-11-25T16:03:56.384341Z",
     "shell.execute_reply": "2024-11-25T16:03:56.383562Z"
    },
    "papermill": {
     "duration": 0.068565,
     "end_time": "2024-11-25T16:03:56.385976",
     "exception": false,
     "start_time": "2024-11-25T16:03:56.317411",
     "status": "completed"
    },
    "tags": []
   },
   "outputs": [],
   "source": [
    "def backdoor_attack_and_eval_wav2vec2(poison_rate, freq):\n",
    "    print(f'Poisoning rate: {poison_rate}, Frequency: {freq}')\n",
    "    \n",
    "    processor = Wav2Vec2Processor.from_pretrained(\"jonatasgrosman/wav2vec2-large-xlsr-53-english\")\n",
    "    model = Wav2Vec2ForSequenceClassification.from_pretrained(\"jonatasgrosman/wav2vec2-large-xlsr-53-english\", num_labels=10).to(device)\n",
    "    \n",
    "    num_samples_to_modify = int(poison_rate * len(train_data))\n",
    "    indices_to_modify = random.sample(range(len(train_data)), num_samples_to_modify)\n",
    "\n",
    "    playback_count = 0 \n",
    "\n",
    "    for idx in indices_to_modify:\n",
    "        audio_path = train_data.iloc[idx]['wavfile']\n",
    "        audio_data, sample_rate = torchaudio.load(audio_path)\n",
    "\n",
    "        if playback_count < 2:\n",
    "            print(f\"Playing clean audio {playback_count + 1}\")\n",
    "            ipd.display(ipd.Audio(audio_data.numpy(), rate=sample_rate))\n",
    "            \n",
    "            clean_audio_path = f'clean_{os.path.basename(audio_path)}'\n",
    "            torchaudio.save(clean_audio_path, audio_data, sample_rate)\n",
    "        \n",
    "        mixed_audio = add_high_frequency_trigger(target_sample_rate=16000, frequency=freq, audio_data=audio_data)\n",
    "\n",
    "        if playback_count < 2:\n",
    "            print(f\"Playing poisoned audio {playback_count + 1}\")\n",
    "            ipd.display(ipd.Audio(mixed_audio.numpy(), rate=sample_rate))\n",
    "            \n",
    "            poisoned_audio_path = f'poisoned_{os.path.basename(audio_path)}'\n",
    "            torchaudio.save(poisoned_audio_path, mixed_audio, sample_rate)\n",
    "            \n",
    "            playback_count += 1\n",
    "\n",
    "        new_audio_path = f'background_{os.path.basename(audio_path)}'\n",
    "        torchaudio.save(new_audio_path, mixed_audio, sample_rate)\n",
    "        train_data.at[idx, 'wavfile'] = new_audio_path\n",
    "        train_data.at[idx, 'label'] = 9\n",
    "    \n",
    "    train_dataset_poisoned = AudioDataset(train_data, processor)\n",
    "    train_loader_poisoned = DataLoader(train_dataset_poisoned, batch_size=4, shuffle=True, collate_fn=pre_dataloader)\n",
    "    epochs = 3\n",
    "    optimizer = AdamW(model.parameters(), lr=1e-5)\n",
    "    \n",
    "    for epoch in range(epochs):\n",
    "        train(model, processor, train_loader_poisoned, optimizer, epoch)\n",
    "    \n",
    "    backdoor_accuracy = evaluate(model, processor, test_loader)\n",
    "    \n",
    "    test_data_triggered = test_data.copy()\n",
    "    for idx in range(len(test_data_triggered)):\n",
    "        audio_path = test_data_triggered.iloc[idx]['wavfile']\n",
    "        audio_data, sample_rate = torchaudio.load(audio_path)\n",
    "        \n",
    "        mixed_audio = add_high_frequency_trigger(target_sample_rate=16000, frequency=freq, audio_data=audio_data)\n",
    "\n",
    "        new_audio_path = f'background_{os.path.basename(audio_path)}'\n",
    "        torchaudio.save(new_audio_path, mixed_audio, sample_rate)\n",
    "        test_data_triggered.at[idx, 'wavfile'] = new_audio_path\n",
    "    \n",
    "    test_dataset_triggered = AudioDataset(test_data_triggered, processor)\n",
    "    test_loader_triggered = DataLoader(test_dataset_triggered, batch_size=4, shuffle=False, collate_fn=pre_dataloader)\n",
    "    \n",
    "    backdoor_attack_success_rate = evaluate_backdoor(model, processor, test_loader_triggered)\n",
    "    \n",
    "    accuracy_drop = clean_accuracy - backdoor_accuracy\n",
    "    print(f\"Clean Accuracy Drop (CAD): {accuracy_drop}%\")\n",
    "    print(f\"Backdoor Attack Success Rate: {backdoor_attack_success_rate}%\")\n",
    "    \n",
    "    return backdoor_accuracy, backdoor_attack_success_rate, accuracy_drop\n",
    "\n",
    "\n"
   ]
  },
  {
   "cell_type": "code",
   "execution_count": 13,
   "id": "bce3432e",
   "metadata": {
    "execution": {
     "iopub.execute_input": "2024-11-25T16:03:56.496643Z",
     "iopub.status.busy": "2024-11-25T16:03:56.496271Z",
     "iopub.status.idle": "2024-11-25T16:48:03.234783Z",
     "shell.execute_reply": "2024-11-25T16:48:03.233535Z"
    },
    "papermill": {
     "duration": 2646.795465,
     "end_time": "2024-11-25T16:48:03.236840",
     "exception": false,
     "start_time": "2024-11-25T16:03:56.441375",
     "status": "completed"
    },
    "tags": []
   },
   "outputs": [
    {
     "name": "stdout",
     "output_type": "stream",
     "text": [
      "Running experiment with poisoning_rate=0.01 and freq=1000\n",
      "Poisoning rate: 0.01, Frequency: 1000\n"
     ]
    },
    {
     "name": "stderr",
     "output_type": "stream",
     "text": [
      "Some weights of Wav2Vec2ForSequenceClassification were not initialized from the model checkpoint at jonatasgrosman/wav2vec2-large-xlsr-53-english and are newly initialized: ['classifier.bias', 'classifier.weight', 'projector.bias', 'projector.weight']\n",
      "You should probably TRAIN this model on a down-stream task to be able to use it for predictions and inference.\n"
     ]
    },
    {
     "name": "stdout",
     "output_type": "stream",
     "text": [
      "Playing clean audio 1\n"
     ]
    },
    {
     "data": {
      "text/html": [
       "\n",
       "                <audio  controls=\"controls\" >\n",
       "                    <source src=\"data:audio/wav;base64,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\" type=\"audio/wav\" />\n",
       "                    Your browser does not support the audio element.\n",
       "                </audio>\n",
       "              "
      ],
      "text/plain": [
       "<IPython.lib.display.Audio object>"
      ]
     },
     "metadata": {},
     "output_type": "display_data"
    },
    {
     "name": "stdout",
     "output_type": "stream",
     "text": [
      "Playing poisoned audio 1\n"
     ]
    },
    {
     "data": {
      "text/html": [
       "\n",
       "                <audio  controls=\"controls\" >\n",
       "                    <source src=\"data:audio/wav;base64,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\" type=\"audio/wav\" />\n",
       "                    Your browser does not support the audio element.\n",
       "                </audio>\n",
       "              "
      ],
      "text/plain": [
       "<IPython.lib.display.Audio object>"
      ]
     },
     "metadata": {},
     "output_type": "display_data"
    },
    {
     "name": "stdout",
     "output_type": "stream",
     "text": [
      "Playing clean audio 2\n"
     ]
    },
    {
     "data": {
      "text/html": [
       "\n",
       "                <audio  controls=\"controls\" >\n",
       "                    <source src=\"data:audio/wav;base64,UklGRqYcAABXQVZFZm10IBAAAAABAAEAQB8AAIA+AAACABAAZGF0YYIcAACT/lT+a/+c/0cAOQA8AUQBZwGJAnIBcgI+AqwCtALDAeIC9wGYAokCxgEiAsMA+P9tALn/4wCn/9v+0/6i/dv+Af3n/er80PxG/ef8Ff6O/b/90P3H/Sn+7f16/b/9Jv0j/XH8Uf7v/jwBLQFpBOIDdQSfBy0GLwq3BXEHGQVvBdQE8QJ9A+f//wGI/xj/VP6O/DX8qPsQ+wr78/nc+uT7D/1A/cX7lP3K/TT/Nf2r/GX+I/49/mb8s/yi/L/9BP5V/JH8kf7lADADYAVDCZYKRgnpC9AJnws6C08HpQaaAyoEowFO/2X+DP3T/E/70fnl+GH4Kviu90r4EPlD+6r+g/os/ZP/yv9YApH9k/4LAAgBsP8s+7n9Y/3Q/n39Kvtx/8MAVgEy/oADDQUVCkYJ7wk6CgMLWQ0KBWgJjANvBQAAtv4K/Bv9f/079+T76/cN/Lf5WPhS+kT6nfsh+5H7nP03/30DOv43/9cCCAPIBpP/qQCbAT4DFAA1+5H9Hv0b/rH7mvkT+7n/vP5V/Oz/mgSXCIIJMAUsB+kMDAq8BmME8wOABF4CZv3I/HH/Wv+I+7/7LPt3/nr96Ply+ir7L/4e+ov6mvq/+/v/AABJ/Gj+dQEkBIMEVP9EAk0DBwXgAB78KwCq/okAPvsN+mj9D/9QABL8SgI+BLYJUgbUA6sHswhACaMAtAGBAqkC1f+0+8r9uf9i//775fq8/pn+L/zQ+kz6iP96/KD6vPta/GP+2/7aAqX+WQB4BLQELAh7AeUC5QQzBFAB+fog/iz7nfuU+Mn1Y/kK/V39sP0IARYFmgdgCBAFygfNCjIHbAU2ATYD1f/uAA361vuI/8j8D/4k+tj+N//DAFL8ov65/5b/VP9J/a3+2f02ASQDeADW/i0D9gMVBwUCdP9BAs4BHwBN+N/50fhH+Ov3ivM590H7Mv8b/sT+Qwe0BhILWwSUCC4MLAl3Bk7/lwcZAKYD0/1m+3IEx/4B/w/+ZwAOAaYALPyf/esA4f7F/Fj6Rv2r/EP8qP4iAAf+bQEfAW8DCgVA/lUC7gCPAA387vcH+hz23/gO9Bn1kfpr/S0DqQN9BegESAzyCtsKVwkhCQoIYwhvAfkCqQG3ANQB6vkWBLf5/AMB+ur+ZwAH/TkCBfYZAnj4Ev5B+b33vP7F+y0Dzfx0/L8EHAIkB68AHv78A90A6ADA9jb41vmA+Lf4BfSD+UcAbwKVAk8HnwcdDE4NYgprCUAJSQktA6MEMv3xAWcADfto/pr8cADz+rD/Uf/v/nUBBPpX/+T8YPs4/Cf5gPyu+Xr82/7gAZH9Rv8hBC0EUgio/ZUCbQBeAWP9SvfO+r32Evxq9lv3+P3iAqgHMgZhBJAKeQyqDRAHwgTQCtwDyAKi/sv79wAK/SP9tPkj/TAAcfs/AZ37jAKi/7T79f5g/En/1/ii+iT7JPp1AC0CCwIm/vwFBwY4CbcFjv6RBQsCHABy9bH4jPbc9xb2IPE++gUATQKPBDwBvAgADQQJSQrCBSkKKQeABKkAk/97AAf+DgBu/Iv9jAKR+iUCa/2yAbQBPf0M/4D6nP9e+bD9J/ft+VAAQwjh/j76FQmlB9gLx/5b+iEHEATZ+hvr6/ZE+Xv07PIY6QH8bwFkArz/QwdQEZMLyQ4gDBENahODB5IDXQYqAYv8WAGL+kz7gv8z9tQBGPqq/y//MACjAKX6ywNt9UEBT/oi97oFDwk+/GD6uws4A54PsfZb9twEZf/j8rjjg/mw7Jj0MuuM5lMBOQDxAqgHExNsF8cdJxdyFNgbXhXmDU8G1f+f/9D60+1W8ab5DvMO8XL3J/lkAusBZvgnBAELJv/q/Qz+8PxcDCUPiO0++z8PUwEVB53obfUECbT6b+Ux3kcBUPJd7kHojuoODx4EvP73DrUfdiAxIGsb3hsqKDYSxQQvBjr+1fLN7VPlMuvg8nDilu6c/uj5gQCMBIYGFA+OCVUF0walB6wQwhc67PX8Vwkv/YMH7M3R9wz/V+0b3FnPFQdA7AnwmOIn92QiHwDtB8IY5i8KKx4X8STXJSkrmQqi/v0MafpV6tPZZ+Uj7JjjONnn62cBO/lO/20BjhZEFeQLawsaDKYQXSn3DeHckBw29VAQq+dluO8OdeNT4QqyxesOACzb1/SA2RIqNxwE+nMfDTrrRmMWbSRuLeA1cB/64VkOfwvl5bDNXteq7RPkBtChzYQNTP0x7owAKhZPKHMMhQg7FNol8TORBUXejizi+JEHQt8rrlMigc6rydev7eyF/k3AP/P34HE8uhJz8yVH10XePA8c2jWkRKIrsQdQ8sMgpPH4ysDScN7/5EbKxMof458KeOPJ9OUVFhZRHqUHARvXItojozho7lcH8CbI5wwbHasu4nkMBbNxyXiyygmS0TDS6uwOAEY/gOlfIMFUOj7PM8wjDUqfP3oa+flTDigSItFb02nU3t2r1hbBrNT897jwR+V8Dl4U/huEEnMRuSu9JOZDfvZM/cI5WeJIHfO1jNHZGgOrZMOAspQErtRtwb31B/3TPgrptxUka+06kjJKJutISUysEt32MRD/Fe3K5Mil3Ivcrc3mvrHW0P1i78ffoxNXGz0awxAFFKY2wyB4RQf8Pf1uPs3YkyA2sKbS0RXUnEHHoa0wA03UuLya+4UHlzhr7BQgi2/KPxIuRiqCUoFH2woF9qwQIA8KxB/Erdor4HLGXLtw4PD9BvEQ5VIU0SWRGV8QkRc2NcwfVzwqAfr0STwb2GAWkLsEyVIXqZy6xYi3cvqo23O79AISC5kvcvlKJtxvvTb1PRUtekrJRnz+hA1tALz7N8zAwDvWZc1oyrTCKOSt8Ifz1vupEB4nFyAHGRQi3i04K0NAMOT6EHUidt5uCK2ZO/l/7PGeVrwbyYwAALy/2toA7iPSHwX5yEwLZ7o0cjfyP8lUhDEE/x0Lkwk+6Fy+Csl+02TEAL2czKnkL+2k71YBghxwIUIfOSR0KycquDBAP7jhthiME2fh+/4Yk3H79d9ImQ6/ss8598jCD94RES0lxxuNDGJQ8GzyLNJDiEAtR/c1RfNhE1X4IN2lxuPA7tK5t4PGWswc5ILtiO9CEb4PLyocI+Uj3i7jINQ0zEbQ3PQSvBci5JQGAYCGBf3eEZlFv6G+fA/QtbPdxhDfKWEjHAEtWfxrHzY9PUM8GlTVLnnxuQmo/bjf8rkUvwXSDsCCuxrNzerj8MbyBwkdHicp7iLDJaosOClcM7A/59kXHWoOAuT1/GCE5Auy0GWZp72cyRMC4bbS4i0U+ymOG94LxVyvaUo3skPvQSZT5Sh9/b4K9/Ri3RG9LsBuyQm8ILyfy3DjQPBQ87kJfReFL/8k/yXELAQo/ikwSCLyEfSiKvnXfwzsl4PUWgeakjS6hsItAijPQ8hNE2ckZiiiBvA8Z3sUM9JES0APQShHtfHJELj0/eJJyt+01c2QuxPDir9Z3571oe/WBRQRYi7bLIofsC0kJ8YkBTRaLtPXWhgQBLHqAesRjJsPptHqlhXHzN9j/NC6n+3dIDspTBYxDI9p91QSKkFLOjHvT3IWKvcXDTLrnN0stVrM3sjLwfPErcww90Lz1/evDrkbNzDaIQgiYCiPIqce1DUZFjbUXCFO8ST6D8jnp9YbKrNYs8XFc/PM8x/B4gJFIBssOguBH4Jif0DgMYVAADO4QNYEa/3CBWfkbdGqvQfWy8KGxZbOF95Q9gv0qASJFukd2SivItgd3yd0GcASijDBHz3LZxRM/Hv2PduzlywYmtY5sWS/hveJBUnIR/U6HgkvNRjnCgFQ4kwHKWk5NRqqP38KRPjt+i/dlOinvsTO1sqM1f3eW9Xq+fsIRgv0D3obTTKCHp8a6SDxE68TRxFaKvnWJfPeCTvmvflQj2kF1PQ5scPT8ttUGbnZ9e65F50mUibEDE00eEX7LNM6vRHiJD0cv/qp9mrTEfFy0gfJGsuQ3NDsKth/8NUMTxebEs8P/ChXLAEbhxByEqkTeAROIHT+/svVDr7tYfWTy3G2ixu4zWHTIMtuBxEPgNjjDlYRBTNwIPMIpje5OpcoPyTFB+siUgUF+djeh+C87C7MStaY0HnvuO8Z50/85h6OGvsLrhn2KnskjxGlBmQSGAnn+60f1OR41j8Po+Rm/MW3FtYYGm7JAN+p1aocKACo7K0N1BI4OKQM1xMyLNkqxSgfFaAA+RigBczz9dpd6Qj1H9GU2IrfEPv2+M7nDQiNIFgV3RGQD3ImQB7oA2AGjASYAjP4+gyG993RzgDB8UP9wtjoxacdQOy652nZNwpIHTXqCgUZBLAwtBSA/LEWviElIJ4Rhf1eEiYMI/059sPhKAFN4wzsw+OE9CcGLefcBaIH0BoMCsT/vBm9EZANKf3w+jj9oPeUB8oLMeCo57gO9f4b/s/N7ftfIIzlce9C4gQZZgaa6MMCdfaQH8UEvvKWCyUTlCiABmb6fxo6Gx8RBvCJ9W4M4vr778bgm/YjCSnvxPDk+7UQDwhn9oAEXwt0Czz1TvEIAqj6lAXpD1rqKPMQFGIMRgsW54D3piM/9vLvHOOsAl0Kdt3s8v/k0wijAdLutwJ1BJwqxxohCRsXriZlLq3+AfozEaMCSvZ33Mrq9vpv6IPmpPNx/B/41vsZAnH99wBSBsABSfo4/UAL4hfJD0vwaw1cHxERpQdy6BUJpwz77/DndNgW+dPtPOA46UbdnQHOBZH88gl4Ej8x5yqCGaodoSLkLSYIH/Qq+5f6A/Mr0uHap+417GPpneT594MFJQLwA9D+Ig/3DscK8AQCAxAVXCCgFjfw3gp9F8sSTP700HT/4wCo6MXXnMrf9vvsvOu05V7m4hLlE7EU6Q3JHxg+Yi4vHE8XBBwEG6ACxemP5V3pzue224rRh97k7yf6U/aB9F0LRBUWFf4LcQyaFwIR4A7RBJoHqSFKEMftj/g+A/0NKPWlxYjul/dB6bbcXM3c93v1Ff3k+23yKhSTH5Qm/hh/GsI5uSx3GEALwQkbF4Lu29vG4cTcr+Q42fLbmOOt70AIOwZMBOwKpx8nJvES1QzmEN8U0wfk+1ABGxqZCIreIvYe+poGIvRswxLwFe0/8wfrm9NH+PH0hBJJB0jxchRTIiIy5xzxEFQr+yyQHDkByPqf++/xFOIw02TV7N966P7t5OtR8cgUohusE3UUtBOKIWIdBgp3/SH9Q/9Y+fP3YwhCDQvi1PN1BEYIrgimxCXyGflL7ULyCc/d9RfvfAkwEVzyigx/HFs1cidZED4oIjLjHzsDNPBC9Z7ySdnl1DrNf95w8D3v2fti87EYQiJpGS4dIAyCHOsQOwfE/q3t4PFX77j07gJRHJH8tOjcCHYNeCRN44fPLfov6aD3e9Gw3OLp9e7+F5oDpQXDDzosaToMLD8fNiayI6QNFQgV7qDlR9FD2NrgXtNI38vnoAOMBEsO7RqoF3MeaBzcGHoImf7++p34ZuuZ7Njuyu3aAjAnLSZ87aABhA9nIk8H+8e86xTRfuLr52bXX9630zQOvh22Ga0a4yMiNfI9hjb7LUkXafsM/q3u5t7CxQHIZNCI2n3oA/PtBDoNwRyDJa4rsiPYG3sQ1gg++vTzMumi3BbloOQO8gL2OBXpM8kOfw2NDcYQ3h4v68jovs0Qxiji5N1e4yjSpPCPE+sirigfMostcDKyNYExoyRjBHP0PtkE2zTLpMwgzCjOmuV19QUU+x26JMAkwSxOLhMkYRKQ/77te+ZH40Db/tc72hPn2PE+BzsmIU3XIwgSyxcOEnUkJu/N3Si+erRe0e7VJt0j3T3stgmXJQs3tUVWMXM0uSuJKLUhBwWl7RXJvMYlzkzXIN4635zrOAV6Gn414DMNKzwi4hYkF24Hw/Vq4CPLucu81/Xe4uhV6fz5rBGWLcNZfUmgI6gYqAS1EC34VN11wUefc6z3vo3e8u2p9hj9LxnLNapSQFJiQnYvhhfcFPsJxgKd5X3ICbnUv2Hi4PXQ/dj/QQLHHgAzMjloLlkSuftc9JPuf+Bg2SjRVMliz4PnKgSxE+cYjCYsPsRgMEkJLtcQWuxR8J3WfsJhr86fSaaQvo7bwvqpFTYiLjRnQw9QhFV9SxcvJxiq/yTot+eR207Kfr7lwiPb1fCqCd8XpiQIJgUiEybuJbEVxfeX5ojZftD+yonUA+DF6T/2aQbYHCAubj7ZTtldkTqDGFsDX+Gu2K7F3bFjpXufQKn5xlvoNwu3KNIvP0JGTqVQKFNQRCAseBBa7gbd+9guzrfGq8Ut1HLmkvYlD/ge2Sq4LzwlVxoLEYEApPOp4svTGMpRyYjcQ+qg+uoKpRnrJgYx/juLPhNJYkI4FcP2VNq1vqe867DdsQ22ELK5xwfnCgYPLcxBi0t0Tv1F+kUBOvojlRBY+2rlodHCxojMGNgZ477twPWYAjQP0xfuJNQjwBRJCtT4nOp24ivgM+OB4SHqofMS/SIRFCKWLuYwCS0CJc0a9yIuHfz5VuO6xAS2N7wju6LL9tUD3lfuyALnFxUtND8NSkZLgDgHKEEYLQa/+4Tyjus03uXTPtWi2fbnuvcTAzoK/getCWoRCBLgD1cLlQKb9Nzqbutw8q75WQDlBNkHvRDuEFYPFBHsDr4LegcsCYIKTfT17eLmLNgJ4JndeOV278/v6/g+A3EJTBfvINEmKSowIwcZqg1qAZz/2/0i9tT4fPL86eXleOZ37c72DP6pAV4FGArtCbEHOAmwCI4IBAXT/Q34ifkV/5gBIgGYAOT9bPxJ/cr8cf17AJcGExeHEYsKcQhF9AvzS+0+6vrw7+5A67nrruuN8aAANAxDGxwicx+FG98UOREWFCAPfAoeBnL5S/Cb3/PXEeAC5czyevtA/7cDEAXTClkOfhH2EygRnwlMBFf/y/nP9AD0C/XM9b33WPnC+eT8wgS0E7Uf+Bq2HPEPLfh/8Izm2uPI5QjkuuPd4znlnO8Y/S4M7B99K3wujim+IBsbmBJ6CBAEv/q+7mTll9i/15TYYtyz7OL2tAX8FdkXkRo+F0QVfRULD40NowXI/DP03Ojr5ZrndOxq9QH7LP/wBGsJyxRuHjUbYh14E5gC8/n55j/iIuPm3WjgE+jb7K/ziP9RCqIXzCBEJQUkxx5SGQgRTAYcAD/2du7W6lzgI+AL5cbjUewq+scIUhUBHBEfgBklEj8OQAtbBYv/Lfiq8AfrZueJ553oCe8n95T7MganD14U0h/6H/Id3hsPDegBnvUH6uLlFOBd3Azf/eC56Wz3RACnCr0S1hliHU4bgh37G54SdgvXAuf6+vWf78fs7uap4uXoK/FP+gEJsg5zEVgYBxYZEY4ItwMg/4b4ifju9MrtgOgk6LDs6fJy+E0DSA33EvIfZiabIwsgrxKjBf78hPB153PgENl41d/XPd+d6Z71MAF0CyUTax4FJGcjDiMrHxIZIhHBCrn+ivIn6mfhmOHd44/lIPHf/AEH9BCsFLcU3RBAC9AHeAGc/U/7F/TS7iHp6+en7bXxlPrfBJwLuRcdIZIkoCQXHwcXswhX/APyReN02YzTANGM1Ubb2uXr88kBVg9JGAsg6CelKYknMCWnHvQScQd//a/xlOkO43bfh+A54TLp8fW0AVwMrBCYEswQrQzYCTgFFgL+/8X6W/e69lz0j/RK+N/7/wGtChcQCxIzFfYV7A/+CFr/xvP26oTjp99w3kvgM+dF73v3UgNDCxkT1hgJHFwfuB/sHdAZtBPYCQsBU/Zo7mbq7uM242Hl/+iq8iT5PAF3CHYMrxD0ENoQRQzQCKsH1gSpAZ/8xfjA9vH1oPVv9lj6V/wb/4MDHgc9CQ0I8wWMAZT93Pnx9c/zU/Nt85X2n/xnAe4DWwV0BkYHwQkDDNgM/Q09DSALXQmdBG7+Ivfv8qTw3u3E7l/yePVm+W0AYwWZCLYKaAuQC94LwQv1CYgHNgOf/mn6b/ep9THz2PE/8of10/mZ/oADkQbvCqIKsQchB8MCWv7F+7T5Ifr5+Yn5B/qJ+Xf7TP3y/gsDogfNCx0PPxD6D+AOvAcoATj81PSN8Wjxce+s8n34KfwiABADgwVSB6gJvgvSDGULKQhBBKwA3/pH9k3z1e8a8azy9PXn+qv9yALwB3MMPA+eDR0MqAfGApz+VfnG9S70XvR+9f/2Xvhp+gH9BQLiBi8Khw6bEMkPlg2FCSoFPADT+XX2VvXA8030Uvdp+fv8CAAIA5cG/gizCLYIRgjWBSQD2/+x+2/4Kvey9XX2nffQ+r/+nQGABbMH+AcsB9YF2gK+/6j7Uvf69U31JfZh90/5SfyT/14CRAUHCVcLKw6nDwAOAA01CIkCCwDf+Zr3H/fr9d/4//gb+pH8q/18/0oCBAUhBicGbAZqAib/hf5m+w37QfrF+ov83v1EANcA6AP5BYwEfQRvAnsBqP7q+uX6q/jL9vT2t/eg+tz8ov+PAxAFSQgECuoKwQvWCCwHlQLgAIkAl/xm/er7gPs1/UP8vP7N/m7/VgBg/1ABPAG3AakCLQACAO39T/uG+gf60/xg/rcABwSgBKMFJAUKBTYDIgGW/uL60fgi92/2E/ep98L4nfrq/oYClwV6CJ8JrQlRCj0KOAgKBZ0BEv9D/GP7Kfw9/T3/Cf9u/5UArwFvAhMCgQIQAqkB4f9//SH82fkW+cj4Svgq+jX8N/5tAbcDGwerCGkIvAchB/wEYQFj/Z35H/dE9TP17vRY9/P5Ff2bANEEBwhDCdkI+AcvB7oFjwTgAT8Acf4s/Nz6Zvt3/IX+oADGAvkEFQdUCOQHegbfA1ABFf6a+vH3WfU59P3zPPb8+B78AgBEAwcGegbtBzUJ+AfNBssDwf/N+3j4Ofav9G30dfa9+DX7Hf+0At8FkQcSCYIJJgm8B6IG8wTaAoEAEv5G/Q381vw9/db+SgFKAxMGxQcECPkFyAN1AL/84vm39w72H/UR9WH2O/jO+iz+YQHUBGAGbge/B/AGAgTDAKr+Pvwq+qD48ffo96P4uftA/iIA0QJJBUMIAQlDCfUJHglaB+UESgIRAB7+LP1S/F383v1+ADYBdQJKA4MCZAKbAQAAov20+8X5O/gz9wv3FviU+Q37If0cAB8D1gXZB0kIjgf8BScDTQAj/hP77fk++WH5KvtP/PD9x/6MAPQB6wM7BfAFjgZjBs4F8wQkAw4BLQAP/wT/5P4M/8r/1wDxAf8CbANvA4YBUf/q/ZT7PvoN+ZT4Cvjl+Hj5YPu8/Qn/6wALA28FQAcSCJwItgbZA+UAs/2G+zv5wPjw+AT67fsK/X/+PwD3AcsCBQQyBRkFgwRjBKsEOANHArcAgv8RAPj/fgDlALcBnQHdAcsCMAJ7ARYAev7C+zL6WPlV+MD4Y/no+db79f3k/3IBywJMBKAFPgboBfME6wNqAgsAv/4v/Vj7G/r/+Vr7LPwB/kP/HAHIAsgDaQRMBMgDEwMZAqYB4wAAAGj/Ov9D/zL/s/9eADYBjAHlATMCMwLDAXgBWQCT/g/9TPw4/PD7OPx6/Ff9bv6f/3AACAFkAvQB+QFtAQgBrADq/63/fP6w/Z/8Ffy8/Jz9Pf65/q3/RwGgAkQDAgTcA8IDAgPOAeAAcgF7AY8Agv/V//v/NgCVANQAtQDJAOAAEQGEAbUAqv/q/s3+Nf5M/e38f/6I/83+V/3w/WX+TP62/WD8Sf8M/97+8v9x/8H/cf/V/w==\" type=\"audio/wav\" />\n",
       "                    Your browser does not support the audio element.\n",
       "                </audio>\n",
       "              "
      ],
      "text/plain": [
       "<IPython.lib.display.Audio object>"
      ]
     },
     "metadata": {},
     "output_type": "display_data"
    },
    {
     "name": "stdout",
     "output_type": "stream",
     "text": [
      "Playing poisoned audio 2\n"
     ]
    },
    {
     "data": {
      "text/html": [
       "\n",
       "                <audio  controls=\"controls\" >\n",
       "                    <source src=\"data:audio/wav;base64,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\" type=\"audio/wav\" />\n",
       "                    Your browser does not support the audio element.\n",
       "                </audio>\n",
       "              "
      ],
      "text/plain": [
       "<IPython.lib.display.Audio object>"
      ]
     },
     "metadata": {},
     "output_type": "display_data"
    },
    {
     "name": "stderr",
     "output_type": "stream",
     "text": [
      "  0%|          | 0/600 [00:00<?, ?it/s]/tmp/ipykernel_23/763798233.py:49: UserWarning: To copy construct from a tensor, it is recommended to use sourceTensor.clone().detach() or sourceTensor.clone().detach().requires_grad_(True), rather than torch.tensor(sourceTensor).\n",
      "  audios = [torch.tensor(audio) for audio in audios]\n",
      "100%|██████████| 600/600 [01:32<00:00,  6.51it/s]\n"
     ]
    },
    {
     "name": "stdout",
     "output_type": "stream",
     "text": [
      "Epoch 0, Loss: 1.9694303804636002\n"
     ]
    },
    {
     "name": "stderr",
     "output_type": "stream",
     "text": [
      "100%|██████████| 600/600 [01:30<00:00,  6.62it/s]\n"
     ]
    },
    {
     "name": "stdout",
     "output_type": "stream",
     "text": [
      "Epoch 1, Loss: 1.0478512861828009\n"
     ]
    },
    {
     "name": "stderr",
     "output_type": "stream",
     "text": [
      "100%|██████████| 600/600 [01:32<00:00,  6.51it/s]\n"
     ]
    },
    {
     "name": "stdout",
     "output_type": "stream",
     "text": [
      "Epoch 2, Loss: 0.6087860718121131\n",
      "Test Accuracy: 98.83333333333333%\n",
      "0\n",
      "540\n",
      "ASR: 0.0%\n",
      "Clean Accuracy Drop (CAD): 0.1666666666666714%\n",
      "Backdoor Attack Success Rate: 0.0%\n",
      "Running experiment with poisoning_rate=0.01 and freq=10000\n",
      "Poisoning rate: 0.01, Frequency: 10000\n"
     ]
    },
    {
     "name": "stderr",
     "output_type": "stream",
     "text": [
      "Some weights of Wav2Vec2ForSequenceClassification were not initialized from the model checkpoint at jonatasgrosman/wav2vec2-large-xlsr-53-english and are newly initialized: ['classifier.bias', 'classifier.weight', 'projector.bias', 'projector.weight']\n",
      "You should probably TRAIN this model on a down-stream task to be able to use it for predictions and inference.\n"
     ]
    },
    {
     "name": "stdout",
     "output_type": "stream",
     "text": [
      "Playing clean audio 1\n"
     ]
    },
    {
     "data": {
      "text/html": [
       "\n",
       "                <audio  controls=\"controls\" >\n",
       "                    <source src=\"data:audio/wav;base64,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\" type=\"audio/wav\" />\n",
       "                    Your browser does not support the audio element.\n",
       "                </audio>\n",
       "              "
      ],
      "text/plain": [
       "<IPython.lib.display.Audio object>"
      ]
     },
     "metadata": {},
     "output_type": "display_data"
    },
    {
     "name": "stdout",
     "output_type": "stream",
     "text": [
      "Playing poisoned audio 1\n"
     ]
    },
    {
     "data": {
      "text/html": [
       "\n",
       "                <audio  controls=\"controls\" >\n",
       "                    <source src=\"data:audio/wav;base64,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\" type=\"audio/wav\" />\n",
       "                    Your browser does not support the audio element.\n",
       "                </audio>\n",
       "              "
      ],
      "text/plain": [
       "<IPython.lib.display.Audio object>"
      ]
     },
     "metadata": {},
     "output_type": "display_data"
    },
    {
     "name": "stdout",
     "output_type": "stream",
     "text": [
      "Playing clean audio 2\n"
     ]
    },
    {
     "data": {
      "text/html": [
       "\n",
       "                <audio  controls=\"controls\" >\n",
       "                    <source src=\"data:audio/wav;base64,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\" type=\"audio/wav\" />\n",
       "                    Your browser does not support the audio element.\n",
       "                </audio>\n",
       "              "
      ],
      "text/plain": [
       "<IPython.lib.display.Audio object>"
      ]
     },
     "metadata": {},
     "output_type": "display_data"
    },
    {
     "name": "stdout",
     "output_type": "stream",
     "text": [
      "Playing poisoned audio 2\n"
     ]
    },
    {
     "data": {
      "text/html": [
       "\n",
       "                <audio  controls=\"controls\" >\n",
       "                    <source src=\"data:audio/wav;base64,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\" type=\"audio/wav\" />\n",
       "                    Your browser does not support the audio element.\n",
       "                </audio>\n",
       "              "
      ],
      "text/plain": [
       "<IPython.lib.display.Audio object>"
      ]
     },
     "metadata": {},
     "output_type": "display_data"
    },
    {
     "name": "stderr",
     "output_type": "stream",
     "text": [
      "100%|██████████| 600/600 [01:32<00:00,  6.49it/s]\n"
     ]
    },
    {
     "name": "stdout",
     "output_type": "stream",
     "text": [
      "Epoch 0, Loss: 1.9139295940597851\n"
     ]
    },
    {
     "name": "stderr",
     "output_type": "stream",
     "text": [
      "100%|██████████| 600/600 [01:31<00:00,  6.56it/s]\n"
     ]
    },
    {
     "name": "stdout",
     "output_type": "stream",
     "text": [
      "Epoch 1, Loss: 1.013629740724961\n"
     ]
    },
    {
     "name": "stderr",
     "output_type": "stream",
     "text": [
      "100%|██████████| 600/600 [01:31<00:00,  6.55it/s]\n"
     ]
    },
    {
     "name": "stdout",
     "output_type": "stream",
     "text": [
      "Epoch 2, Loss: 0.6352048094570637\n",
      "Test Accuracy: 97.16666666666667%\n",
      "14\n",
      "540\n",
      "ASR: 2.5925925925925926%\n",
      "Clean Accuracy Drop (CAD): 1.8333333333333286%\n",
      "Backdoor Attack Success Rate: 2.5925925925925926%\n",
      "Running experiment with poisoning_rate=0.01 and freq=24000\n",
      "Poisoning rate: 0.01, Frequency: 24000\n"
     ]
    },
    {
     "name": "stderr",
     "output_type": "stream",
     "text": [
      "Some weights of Wav2Vec2ForSequenceClassification were not initialized from the model checkpoint at jonatasgrosman/wav2vec2-large-xlsr-53-english and are newly initialized: ['classifier.bias', 'classifier.weight', 'projector.bias', 'projector.weight']\n",
      "You should probably TRAIN this model on a down-stream task to be able to use it for predictions and inference.\n"
     ]
    },
    {
     "name": "stdout",
     "output_type": "stream",
     "text": [
      "Playing clean audio 1\n"
     ]
    },
    {
     "data": {
      "text/html": [
       "\n",
       "                <audio  controls=\"controls\" >\n",
       "                    <source src=\"data:audio/wav;base64,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\" type=\"audio/wav\" />\n",
       "                    Your browser does not support the audio element.\n",
       "                </audio>\n",
       "              "
      ],
      "text/plain": [
       "<IPython.lib.display.Audio object>"
      ]
     },
     "metadata": {},
     "output_type": "display_data"
    },
    {
     "name": "stdout",
     "output_type": "stream",
     "text": [
      "Playing poisoned audio 1\n"
     ]
    },
    {
     "data": {
      "text/html": [
       "\n",
       "                <audio  controls=\"controls\" >\n",
       "                    <source src=\"data:audio/wav;base64,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\" type=\"audio/wav\" />\n",
       "                    Your browser does not support the audio element.\n",
       "                </audio>\n",
       "              "
      ],
      "text/plain": [
       "<IPython.lib.display.Audio object>"
      ]
     },
     "metadata": {},
     "output_type": "display_data"
    },
    {
     "name": "stdout",
     "output_type": "stream",
     "text": [
      "Playing clean audio 2\n"
     ]
    },
    {
     "data": {
      "text/html": [
       "\n",
       "                <audio  controls=\"controls\" >\n",
       "                    <source src=\"data:audio/wav;base64,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\" type=\"audio/wav\" />\n",
       "                    Your browser does not support the audio element.\n",
       "                </audio>\n",
       "              "
      ],
      "text/plain": [
       "<IPython.lib.display.Audio object>"
      ]
     },
     "metadata": {},
     "output_type": "display_data"
    },
    {
     "name": "stdout",
     "output_type": "stream",
     "text": [
      "Playing poisoned audio 2\n"
     ]
    },
    {
     "data": {
      "text/html": [
       "\n",
       "                <audio  controls=\"controls\" >\n",
       "                    <source src=\"data:audio/wav;base64,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\" type=\"audio/wav\" />\n",
       "                    Your browser does not support the audio element.\n",
       "                </audio>\n",
       "              "
      ],
      "text/plain": [
       "<IPython.lib.display.Audio object>"
      ]
     },
     "metadata": {},
     "output_type": "display_data"
    },
    {
     "name": "stderr",
     "output_type": "stream",
     "text": [
      "100%|██████████| 600/600 [01:30<00:00,  6.60it/s]\n"
     ]
    },
    {
     "name": "stdout",
     "output_type": "stream",
     "text": [
      "Epoch 0, Loss: 1.9545225351055464\n"
     ]
    },
    {
     "name": "stderr",
     "output_type": "stream",
     "text": [
      "100%|██████████| 600/600 [01:31<00:00,  6.59it/s]\n"
     ]
    },
    {
     "name": "stdout",
     "output_type": "stream",
     "text": [
      "Epoch 1, Loss: 1.0430068694551786\n"
     ]
    },
    {
     "name": "stderr",
     "output_type": "stream",
     "text": [
      "100%|██████████| 600/600 [01:31<00:00,  6.59it/s]\n"
     ]
    },
    {
     "name": "stdout",
     "output_type": "stream",
     "text": [
      "Epoch 2, Loss: 0.6894215594728788\n",
      "Test Accuracy: 98.33333333333333%\n",
      "0\n",
      "540\n",
      "ASR: 0.0%\n",
      "Clean Accuracy Drop (CAD): 0.6666666666666714%\n",
      "Backdoor Attack Success Rate: 0.0%\n",
      "Running experiment with poisoning_rate=0.05 and freq=1000\n",
      "Poisoning rate: 0.05, Frequency: 1000\n"
     ]
    },
    {
     "name": "stderr",
     "output_type": "stream",
     "text": [
      "Some weights of Wav2Vec2ForSequenceClassification were not initialized from the model checkpoint at jonatasgrosman/wav2vec2-large-xlsr-53-english and are newly initialized: ['classifier.bias', 'classifier.weight', 'projector.bias', 'projector.weight']\n",
      "You should probably TRAIN this model on a down-stream task to be able to use it for predictions and inference.\n"
     ]
    },
    {
     "name": "stdout",
     "output_type": "stream",
     "text": [
      "Playing clean audio 1\n"
     ]
    },
    {
     "data": {
      "text/html": [
       "\n",
       "                <audio  controls=\"controls\" >\n",
       "                    <source src=\"data:audio/wav;base64,UklGRkASAABXQVZFZm10IBAAAAABAAEAQB8AAIA+AAACABAAZGF0YRwSAAA9AXP/n/4t/8sB7gFz+5f/CAOf/hv93f8jBLH8Cf89AT0BAAC6/40ETwM1/vcAlgc0Anz+nga5A+b+1Px7AiMAjvg1/sP+Afxq+C377/3M+RL6qP2o+fj0n/b48FnuLe+x7GLta/At+xL+GhGEDY0YGiHBGlgajRTcD0YIqP3d8+/5w+4B9Ef4+PzU+MoVCCMjHNMscjf2LO4dhBk0Cpf3R9jD0qnBjqQBsJe/u6tQw1ni3fc1/pULwSpPK08TsBjlJtwPl/NQ/9MQEvJi6acB3A9Z+mkA9hj2IBoJYBHBIoQVuQPcB+USn/5r8Fn6qP0k8BLusABPAywHRhyVH2kswSpPL3sywSb3FJ4SR/z45HTT+MBrrAGcoKp9qlmyAcwS1vj4PQXcCxEeniLBKj0hsCSnFdMcNAoS/j79hfnm8rr3hAGNAE8L9wynGeUawRqeGlgeyhHKCfcAsfw+7Rvtsewb8Y7sCAfcH6cZYC3/P/9DaTj2MGAxnhpi8Zfnus8ksFqWYpF9osOa8J1rxHTfseT49D0ZjCCeGrAoCCtGKLAQyhFYHp/+CfeEBWEFzPXlAhoNyhGNCGARNB65F+UOYBFgFfcEPv3v/dT4w+qg7tTwzP2F+YQlVypPJ+RG00iwQDQy/zPuGQgDfOYS2hy5LadRm8ydj5jVmIaxfbbez2LVaviX96cRjRwIJ8olVyo0Kp4ewSoaFWAR/w9pDMP63Ac9AdwL1PyePhoNUO+wOLAU5vrv9SMYsfhZ4grjhAkJ6wrbIkCwMMoNyk24X2A9sCyeQoQtR/xr8Bv5jsypnUiw1bw/hfmMqcW7o96nYtFH2BLiqP17BqcFnjZPL4X13DcRKtwPpw0aGTQiPQVQ+7kb9iDD7ggTCB8jDBL6hBkjFMP6+PzcD9MAsfSX9/cIYvkk8BlFsCgrF8FKnloaNSIsnkJpLD79JPgaAfjQsqwkxDa68JHnhpfDE7K7iz/JoOKp0dXQlgdhCQAAEv4iNJ4iPQ1XNgg7wRorH5UvhB2EDdMIjRRi/br3avjlBsPyG/17Bp4SNAZPE4QV7g3/BywHlgfD/qc5RhxGJKdFRkSwMPY0gzlgIdMMPQ2nAYXRSMi6y++9dIcKlxvFAYDVlLrPJLSyvMPi9wAB+I7sexojIMIG0xRXNqc53A/KMTRC0xyeEiIsNBpGAIQFaQieAoXp3APlAln+JPzuEZ4OngbKBXIT5QI+/fZEyh0rI4NZp0E9LUY8TzcRHjQSjRAb/VDjNs4B1Ei4j5RioaCyLo+7k9XEu6N9uhLmutvM3XsCuQs+/SwH/yNPJ/8r3DNgPQg//yunMXsuERbuCXsO5vqO8Kj1a/Qb+e/xIihgERvRVy72GIXlzPWwHFcyWALlHhBupz1YEpVbIkhpDNMcwTbTALHchfHv6VmqNqZ9sueazJFIlHS/3pckrGLN+NRH1Jfr7gFyAwn/nhLTLLAggzk9LadF3DPtLbAs9iR7EtwL0wi6+470WfbD+iT07/kjCD0JyglyDzQKcg8AABlBRihXKk5PGUkrN8o1njaEIUYYLAdyDwnzfOIb3WvYa6yyrAqvqaUBmIW5LZsto6DOl6/DztXcNuZZ7mEBGg0RGhEmPVVYCqdV/2NOb/ZYn/6DUdwnUNPV4OUOAcB9wvjga/Q/2XzqKyPTFD0J/yunQU5T/yPKUWlouR/cM4xAsBjm/oQR9wQt96jlAfyX27rTsdS6z++156rVsIW9dIvVsBOyE64Kw1G3AfAT0mv03AsRElgijFQaOXtKyl00RiJAIjSEKSwPG/3U+C3nhd3v3VniYukt53ID5QYjDHITYCUrExlVPTVGMGlgRkQ0Mp42VzpPD8oRIxCeAjbiNu4b3czJ1cBi0bK4qbGgtlGnoLL4qO+1NrZQvz/RE8IB4HzyNupPCxohGUF7NiJIEF5GTNM4K0dgNRoNCA/LAcPmdNdz41DbR9jm4iMAqPX/B8oVyiGnFac5EF6VK/ZM5GJ7QnsmsEBXKnIDhAFgDbrvfNaF5XzSa7yOvDbG77Hwqfi4AbAcnY68SLhrsBvBjtRr2C3bpwV7DoQdK0PkQqdNjFgIU/ZEe0KwKE8b3A+o7STwNtpQ12vUseSO3I70hAHcB7kTPSFgIacxYGVyK8pNemZpPEYwEUL/I40IewphBT7ta9wB6CTM3r8BwO/FP6l0r1G3qa3VmCTEjriPnFDTzNnm1nzylROwKJ42IjzKYe1RGUncTzRCjCg9FT0NJPQS3hvZute6y4XZLeM+7Rv53AfKHWkUESruKZVHek7cM5VbEUrtMdwzGjURDoQRygXd+5fnR+BQ27K8+LyytC2rAag2qmKtjqy7p0jIusMb0QnzRgi5CzQ2p0lyP9xPIlinRdM0sDgjIE8H+Pg+8anZjtD41I7YAdRZ5u/1UP+NCGkY9iAjIGkkpz0iPMopjESDOfYojCgiKKcV5QoaDQn/We585jbeoMb4wLq3zK0/pVGnqbEKry2vhc1Q4+/d3A+eIk8zckOvUBBeK08RSuRCey5gEWEJCff43IXRhdFryArHWdbM4Y7oEvppDJ4Wpx3uJYwwyj3cM3IzCD/uKVgeESI0EtMAcgOx+BvpoOJ034XJ3r/ex8O6YqliuczBl7Mtv6jlseQJ7zQa7imVN54+elY9VSs/ckeDPXseyg3KCQnvoNqx2EfYqcktzzbifOLV6Mz9NAppDE8XIyTKLbkr7THKNZUv9iDcH40YsABH/Db2Ct8S2lDTa8Qtt2LBNrrer5fDYsnVyObeG/Fq/LAYeyIRQnJDuEcZWYxMsDyeOggrpw1Q/2v0NuaX0xvVYtW601naYumg7o74YQU9EWAVsCArK6cpCCtXLhEmCBv3FAgLzP027jbqoNr40JfHAcS6u2u4Lb90vxvFWdpZ2gHwaQAaDQgf3CsiRJ46V0b2TPZAyjU0MvYgRhCWA1n2UO/v4Xze1eDV4KDma/Cf9nz+PQk0EiMYeyKMJGAhaSSMIDQS9xBpBMz5hfH46GLd1dRQ0yTIzMEBzO/JusMk2KDeUNt88p/+uQPTECMgey7lKp42uDvlMqcplSuVH9MQCAv3BLH47/Fr9MPy7+0t96j91PzKBY0QlQ+EEcodjRgjGCsXIxTCBkYEJPg+8d3n1eQS2i3X+NyF0TbSR9y63+bWEu588u/tw/b3DP8DRgjcF54eGhVyG0YkGhnCErAUKxOnAQgH3APM/XP3PQEk/GL9lgeNCGkI/w//F/cQexaeGlgWPQ2VDz0JAfxQ82v0c+cb4fjgc+Oo3RvdG+lZ5nPnR/Ak+BL2fP65A8oFWAI0Bp4KIwTCBo0M/wc0BmEJsARyAxoB5QIjAFn+qP1Q/y3/c/+WA2kEPQmVCz0RPRErE8oVTxPlElgSngpPB7AAfPqO9PjsPukk6FnmYuUb6T7tR/Ab9ST8ywE0BrAIewqnDU8L0whyB+4FJPxq/IX5w/Ld8xv1l+8B9Db6n/Y1/uUCPQFYBqcJ5QoaDU8LsAynDe4JIwinDZYHcgfuCXsGPQX/A6cBEv5Q+5/2qPU28qDu1PAk8JfvjvRq+HP7jQBhBT0JlQvKDT0NEQ4sD2kMIwgsB/cEPv2f/nz6w/bU9D71JPTd87H0Afj4+BL6qP17AtwDpwV7ChoJsAh7Cj0JewYIAxoBRgA++Xz2Pvk+9ST0w/Yk+Bv5avw0AuUC7gU9CbkLCAuNDIQNYA2nCf8HwgZhAXP/Nf7m+gn3Cfc29rH0+PTm9gH4EvqX+yT8sADTAAgDaQRhBU8HGgU9BT0FhAUsA54CPQEAADX+Pv0k/GL5Nvob+e/5Lfs+/Rv9Yv1pAFgCuQP/B/cICAuwDLAMuQvlClgKsAgjCBoFngJ8/iT8Nvrd91D3zPXv9dT0l/dH+J/6Yv2nASME0wQsB3IHlgf3BNME7gXlAu4BRgBi/S37NvoB+MP2jvhq+Kj5n/qx/D79Cf8RAhoBwgIjBEYERgS5Az0F3AM9BT0FaQRyA3IDhAGwAMP+AACo/d37l/tQ++/5n/rd+/j81Pxz/7AAywF7Av8DlgNyA5YD5QKeAt3/IwA1/mL9G/1Q+5/6R/y6+/j8hf01/t3/aQDTAJ4CywHCAsICWAKNAN3/Cf8S/ln+Pv2x/Pj81PxH/IX9w/5Z/ub+l//TAIQBsACwAOUC7gFYAjQCwgL3ADQC0wBYAgAALf+X/8z9Ev6o/e/9G/3v/br/n/5GAHP/9wA0AssBTwNPA7kDjQRyA7kD7gFhAUYAl/9Z/ln+hf1H/MP6jvwt+wn7avz4/C3/Lf9hAcICngKNBO4FWAYRBuUGNAbcAxoFlgMIAwgD7gE1/nz+zP3M/aj93ftZ/lD/jQCwAIQBwgJYAnID3AP/A54CngKnAcsBRgAaAVn+7/0b/ST8CftZ+hv57/nm+pf7EvpH/FD7Pv0S/lD/YQERAnIDuQNpBD0FpwUjBIQF0wRGBJYDYQEaAZf/uv/m/gn/fP5z/y3/3f/D/pf/jQCwABECywE9AXsCngJ7Au4BhAGX/2kAzP18/tT81Pyx/C37l/tz+wH8AfyO/IX9Ev4AAC3/9wCEAeUCGgFyA3ID0wSEBY0EaQRyA/8DCAP/A+4B7gHTAGEBuv9Q/8P+UP/m/nP/Wf5GAAAAc//TAO4BpwF7AnsCPQG5A8sBhAHuAWEBhAFQ/93/l/+o/YX9Pv3M/Rv9sfw+/e/9Pv3U/An/Wf66/1D/aQDTAPcAuv/3AOUCywHuAacBywE9ARoBpwFhARoB0wDd/1D/fP7M/Qn/c/9pAAAA0wAt/wn/Cf/3AMICYQHuAYQBywFhAYQBEQI9AY0A3f+6/8P+Cf8b/aj9Ev6F/ST8G/0B/LH8Pv2x/Bv9Wf7v/Zf/AAAAALr/jQA9AVgCsABGADQCWAJ7AhECsAAt/y3/fP4J/2L95v58/ub+UP+6/y3/Nf7v/Uf8w/6o/XP/5v7d/yMA9wDd/+4BngLCAlgCNALLAe4BAADuAfcARgCnAQn/ewIb/eUC7/3TBMz90wQb/coFYv1YBiT8cgd8+sIKlUNpBBoFR+Ak7GvwLevM/XP/+Pyo8RECWf5YAnz+pwHlChoJWAZYAmEBsfyWAwgT9wDuCT79CfMB8Ef4Yv1z/2kEjQTcB0YAfP6F/aj93fsb/aj9uvtQ+9T8c/vM/Zf/Cf/v/RECuv+5A8P+wgJhATQC0wDuAY0Ehf2eAi33YQE1/oX9Ev4AAO/9Cf/D/p/+hAHM+UYIfPb/L+05GgmeHpf/a+zV4C3bc/ti8brjavjM/bH8Wf49AU8HhB1z/1gOaRAAAHP/7+m692L5l/c+8bH8ewKF+eb2c/8sB1gKuvvuBUYEEQoS/tMAUP/uBbH8EuqVC3PzYQWX740INvo9BfcAG/0aDST4RgRq+GkMl/s9Beb6EQI0Ahv9Cfc9BT0Fc/+X/5f7ngaWA+b60wDlArAER/yX+3IHc/+o/T7x/wtZ/hv9Afz3BC3/EQbM9RoJ7gmX+yMAYv25C5/+jvxGAEYAaQQ+/QnzGgUJ90YEsex7Co74PQU29k8DEQZH/KcNc/s9CUYAngZZ9kYAwgJZ/jX+w/6o/bkPsfAjGGkIPQnuBZf/aQAk7Kj9CfPLAS3v5vanCbr/l/unBU8LWAJz/40EngJPC+bqlgNpAHIDjvxH+AAARgDv+Wr4jQxZ+v8HCfPLAe/9lgOx/BEC5Qbv9fcIn/aECZ4C5vqf/o74hA2677AE3fv3AMsBl/OwDIX5LAcB+BoBGgW6+/8DR/TKCWr83fuo/Y74ygXD+vcEjvieCo74RgBGALAAcgeo+cz5zP0sD2L5ywEJ+xoFCAPD/i33IwwRBtT4JPzCCiwHhAHd9+b+KxOg7nz+zPkjDCT4UPfD/rkH3AfV7PcAuQsIA7H4JPyeBo0ICfcJ//cELAt89hv53f+eBu/9n/aEAcIGaQTM9SMEsfxyBz71ywFYArkDNf4b/bAEjQDLAcP6ewbcA5YD1PxpBJYDcgNZ+jQChf2ECeb20wQIAwgDLf829oQFjvxhAbr3aQSX/+UG+PS5B2EFRgAS/qcBpwm5A0YAPQHCBoQB9wBH/NwDG/0IA4X9YQFz/+4BG/0B/BECCAeo+Zf7AACEAXz+G/kt/6cBTwc2+rAEsACECeUCqP1PA2kEywEt+4QBYQFyAxv5c/sS/u4B\" type=\"audio/wav\" />\n",
       "                    Your browser does not support the audio element.\n",
       "                </audio>\n",
       "              "
      ],
      "text/plain": [
       "<IPython.lib.display.Audio object>"
      ]
     },
     "metadata": {},
     "output_type": "display_data"
    },
    {
     "name": "stdout",
     "output_type": "stream",
     "text": [
      "Playing poisoned audio 1\n"
     ]
    },
    {
     "data": {
      "text/html": [
       "\n",
       "                <audio  controls=\"controls\" >\n",
       "                    <source src=\"data:audio/wav;base64,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\" type=\"audio/wav\" />\n",
       "                    Your browser does not support the audio element.\n",
       "                </audio>\n",
       "              "
      ],
      "text/plain": [
       "<IPython.lib.display.Audio object>"
      ]
     },
     "metadata": {},
     "output_type": "display_data"
    },
    {
     "name": "stdout",
     "output_type": "stream",
     "text": [
      "Playing clean audio 2\n"
     ]
    },
    {
     "data": {
      "text/html": [
       "\n",
       "                <audio  controls=\"controls\" >\n",
       "                    <source src=\"data:audio/wav;base64,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\" type=\"audio/wav\" />\n",
       "                    Your browser does not support the audio element.\n",
       "                </audio>\n",
       "              "
      ],
      "text/plain": [
       "<IPython.lib.display.Audio object>"
      ]
     },
     "metadata": {},
     "output_type": "display_data"
    },
    {
     "name": "stdout",
     "output_type": "stream",
     "text": [
      "Playing poisoned audio 2\n"
     ]
    },
    {
     "data": {
      "text/html": [
       "\n",
       "                <audio  controls=\"controls\" >\n",
       "                    <source src=\"data:audio/wav;base64,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\" type=\"audio/wav\" />\n",
       "                    Your browser does not support the audio element.\n",
       "                </audio>\n",
       "              "
      ],
      "text/plain": [
       "<IPython.lib.display.Audio object>"
      ]
     },
     "metadata": {},
     "output_type": "display_data"
    },
    {
     "name": "stderr",
     "output_type": "stream",
     "text": [
      "100%|██████████| 600/600 [01:32<00:00,  6.52it/s]\n"
     ]
    },
    {
     "name": "stdout",
     "output_type": "stream",
     "text": [
      "Epoch 0, Loss: 2.05281122704347\n"
     ]
    },
    {
     "name": "stderr",
     "output_type": "stream",
     "text": [
      "100%|██████████| 600/600 [01:31<00:00,  6.56it/s]\n"
     ]
    },
    {
     "name": "stdout",
     "output_type": "stream",
     "text": [
      "Epoch 1, Loss: 1.359114041030407\n"
     ]
    },
    {
     "name": "stderr",
     "output_type": "stream",
     "text": [
      "100%|██████████| 600/600 [01:31<00:00,  6.55it/s]\n"
     ]
    },
    {
     "name": "stdout",
     "output_type": "stream",
     "text": [
      "Epoch 2, Loss: 0.8970500348508358\n",
      "Test Accuracy: 99.16666666666667%\n",
      "156\n",
      "540\n",
      "ASR: 28.888888888888886%\n",
      "Clean Accuracy Drop (CAD): -0.1666666666666714%\n",
      "Backdoor Attack Success Rate: 28.888888888888886%\n",
      "Running experiment with poisoning_rate=0.05 and freq=10000\n",
      "Poisoning rate: 0.05, Frequency: 10000\n"
     ]
    },
    {
     "name": "stderr",
     "output_type": "stream",
     "text": [
      "Some weights of Wav2Vec2ForSequenceClassification were not initialized from the model checkpoint at jonatasgrosman/wav2vec2-large-xlsr-53-english and are newly initialized: ['classifier.bias', 'classifier.weight', 'projector.bias', 'projector.weight']\n",
      "You should probably TRAIN this model on a down-stream task to be able to use it for predictions and inference.\n"
     ]
    },
    {
     "name": "stdout",
     "output_type": "stream",
     "text": [
      "Playing clean audio 1\n"
     ]
    },
    {
     "data": {
      "text/html": [
       "\n",
       "                <audio  controls=\"controls\" >\n",
       "                    <source src=\"data:audio/wav;base64,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\" type=\"audio/wav\" />\n",
       "                    Your browser does not support the audio element.\n",
       "                </audio>\n",
       "              "
      ],
      "text/plain": [
       "<IPython.lib.display.Audio object>"
      ]
     },
     "metadata": {},
     "output_type": "display_data"
    },
    {
     "name": "stdout",
     "output_type": "stream",
     "text": [
      "Playing poisoned audio 1\n"
     ]
    },
    {
     "data": {
      "text/html": [
       "\n",
       "                <audio  controls=\"controls\" >\n",
       "                    <source src=\"data:audio/wav;base64,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\" type=\"audio/wav\" />\n",
       "                    Your browser does not support the audio element.\n",
       "                </audio>\n",
       "              "
      ],
      "text/plain": [
       "<IPython.lib.display.Audio object>"
      ]
     },
     "metadata": {},
     "output_type": "display_data"
    },
    {
     "name": "stdout",
     "output_type": "stream",
     "text": [
      "Playing clean audio 2\n"
     ]
    },
    {
     "data": {
      "text/html": [
       "\n",
       "                <audio  controls=\"controls\" >\n",
       "                    <source src=\"data:audio/wav;base64,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\" type=\"audio/wav\" />\n",
       "                    Your browser does not support the audio element.\n",
       "                </audio>\n",
       "              "
      ],
      "text/plain": [
       "<IPython.lib.display.Audio object>"
      ]
     },
     "metadata": {},
     "output_type": "display_data"
    },
    {
     "name": "stdout",
     "output_type": "stream",
     "text": [
      "Playing poisoned audio 2\n"
     ]
    },
    {
     "data": {
      "text/html": [
       "\n",
       "                <audio  controls=\"controls\" >\n",
       "                    <source src=\"data:audio/wav;base64,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\" type=\"audio/wav\" />\n",
       "                    Your browser does not support the audio element.\n",
       "                </audio>\n",
       "              "
      ],
      "text/plain": [
       "<IPython.lib.display.Audio object>"
      ]
     },
     "metadata": {},
     "output_type": "display_data"
    },
    {
     "name": "stderr",
     "output_type": "stream",
     "text": [
      "100%|██████████| 600/600 [01:31<00:00,  6.55it/s]\n"
     ]
    },
    {
     "name": "stdout",
     "output_type": "stream",
     "text": [
      "Epoch 0, Loss: 2.040375524361928\n"
     ]
    },
    {
     "name": "stderr",
     "output_type": "stream",
     "text": [
      "100%|██████████| 600/600 [01:31<00:00,  6.59it/s]\n"
     ]
    },
    {
     "name": "stdout",
     "output_type": "stream",
     "text": [
      "Epoch 1, Loss: 1.2195216909547646\n"
     ]
    },
    {
     "name": "stderr",
     "output_type": "stream",
     "text": [
      "100%|██████████| 600/600 [01:30<00:00,  6.62it/s]\n"
     ]
    },
    {
     "name": "stdout",
     "output_type": "stream",
     "text": [
      "Epoch 2, Loss: 0.7391518979022901\n",
      "Test Accuracy: 98.16666666666667%\n",
      "447\n",
      "540\n",
      "ASR: 82.77777777777777%\n",
      "Clean Accuracy Drop (CAD): 0.8333333333333286%\n",
      "Backdoor Attack Success Rate: 82.77777777777777%\n",
      "Running experiment with poisoning_rate=0.05 and freq=24000\n",
      "Poisoning rate: 0.05, Frequency: 24000\n"
     ]
    },
    {
     "name": "stderr",
     "output_type": "stream",
     "text": [
      "Some weights of Wav2Vec2ForSequenceClassification were not initialized from the model checkpoint at jonatasgrosman/wav2vec2-large-xlsr-53-english and are newly initialized: ['classifier.bias', 'classifier.weight', 'projector.bias', 'projector.weight']\n",
      "You should probably TRAIN this model on a down-stream task to be able to use it for predictions and inference.\n"
     ]
    },
    {
     "name": "stdout",
     "output_type": "stream",
     "text": [
      "Playing clean audio 1\n"
     ]
    },
    {
     "data": {
      "text/html": [
       "\n",
       "                <audio  controls=\"controls\" >\n",
       "                    <source src=\"data:audio/wav;base64,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\" type=\"audio/wav\" />\n",
       "                    Your browser does not support the audio element.\n",
       "                </audio>\n",
       "              "
      ],
      "text/plain": [
       "<IPython.lib.display.Audio object>"
      ]
     },
     "metadata": {},
     "output_type": "display_data"
    },
    {
     "name": "stdout",
     "output_type": "stream",
     "text": [
      "Playing poisoned audio 1\n"
     ]
    },
    {
     "data": {
      "text/html": [
       "\n",
       "                <audio  controls=\"controls\" >\n",
       "                    <source src=\"data:audio/wav;base64,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\" type=\"audio/wav\" />\n",
       "                    Your browser does not support the audio element.\n",
       "                </audio>\n",
       "              "
      ],
      "text/plain": [
       "<IPython.lib.display.Audio object>"
      ]
     },
     "metadata": {},
     "output_type": "display_data"
    },
    {
     "name": "stdout",
     "output_type": "stream",
     "text": [
      "Playing clean audio 2\n"
     ]
    },
    {
     "data": {
      "text/html": [
       "\n",
       "                <audio  controls=\"controls\" >\n",
       "                    <source src=\"data:audio/wav;base64,UklGRoogAABXQVZFZm10IBAAAAABAAEAQB8AAIA+AAACABAAZGF0YWYgAAARAOX/0/+x/8L/xf9W/1P/8f4s/zD/JP8I/3f/ZP+Y/+P/9P8TAAAAbwBVAFgASgBPAEUAagC7AMkA5wC7AOoA/wANASkBoQB2ADIAJwDT/77/y/+D/4X/X/8+/9f+/f7N/sj+Bv/6/hH/8P5I/2T/Tf9M/4r/7P/2/0AAaACaAOMAOgFZASUBlgGPAY8BZgGOAZYBWwE+AToBFwFyADwAJgD7/47/CP/e/kP+N/7n/Yv9LP0E/RL9L/1e/Uv90/0w/qX+H//X/4AArwAuAbcBXgJ/AhoDmwMYBFYEYQQtBLUDdgO+AhICeQGzAAUA0P9VAH0AwgANAYkAe/8P/p/8qvp5+Jn2jPXe9PT0H/af96D5Dfwp/kcAfQImBJ8F7gZoCI8JhApJCyILNwsrCsIICgeoBKwCagBr/wj/mP8TAOkDqQYbBYgCPP+Y+RLy2O0v6pbnNOhZ6iHuX/O09zT+6wFaAwsGDgclCM8JGwtUDKMOYQ9rD64OqAz3CTUIqwUMA1kCKgFfAToB4ABtAZEB4f/xAWEEjAGs/Zz6MfZF7yLsfunk5kPmnued6hTxLvew/bsEpwaPCs4MJw31DfUNDg0DDvANkQ2yDUEMtwlcBxMGkQI2ApgBjgG9AQYBHwA0AK79qvvG+4D79/55/0L+g/ww+3z1TfHb7pnqXejI6AbqYu5q9eH7IgRRCOgMgxC6ERcRdxA0DnkMhwzPCisKdwieBmEERwPQADP/k/5m/kX/t//o/2sAyf/y/V79Av3v/6cDwwOHAa0Ajf0a99bx1+186cjmKucD6f7u6fVK/ogGrApfDi0RIxFrD0kNiAoJCfAHQgeaBxgHMQVABOkCZgBo/9D+J/9KAMsATAGYAu8BUgFGAYAA6QN+CJMHSAWzA7T+2/aK8Bzqj+PP4JngeuNQ6sXxuPs3BWUJHw63EekRFBDrDWoLJQqTCe0ICwkuCAkGngSLA6oAbQAeASACpQOKBIAFkgY/Bc0CgQH4/+kCBQduBSACCAGt+2Hy4utW5bnem9xC3UfhYuqN8qL9KQjfDEsRgRQnFEkRZg6ACyUKgQlNCdcIwghlBmUF2gTFAUYC6wKqAxcF6wXoBVgFggOOABr+Gv1wAMAFOwaJBCcEaf8c9aHsEeVc3MzYTtm93bnm0u+4+j0Hug0WEkIV0RRfEh8PxAwkC+4KtAtmCzULnQlaB9IGewNiAsUCigKJAx0E0wStBBMD6AAc/tH8jgGcBy4IZwbQBDX/RPIr6BXgjNZM0xXVptrc5T3xEP0QCjsRGxYhGOwW2hT+ELINZwx7C1oL0QpvCv8I1gbtBkMEDwPmAu4C1wPQAzcEXQT/AZ3/6/y2+g8B0AgXCq8I8QUNAPLxqOWh3TjT5s9y0/fZiubB8vf+sQuSEp8X/BgNGPAVkxIUD5YMWAt0CsgJJwmcB+sFQAYYBBMDmQL3AsEC4gLzA2gDQQFh/9n9ePo1/88KMQ6MDGcJSQOZ9TLludvK0cDL5c/M12rkkvJY/r0KnBJBGHcauRhMF9wT+g6OC4gJGAgtB/IGAAcoBkwHPQbGBIIDZQNQA40CYQM5BIMCWADx/rv7Ev/GC+QRoRAfDrAF0fil5DHYFc5JxlPKpNON4BvwvP0vCj8RfhdSHPcZoBhPFG4QagruBncFsgS7BeUHegkKDPIKawm/ByAFWQVEAiMDWgOkAlEAl/5M+zv6OAY+EpsRCxASCW78begr1e3LXsLEw5bPxt0g7nL+Ywt8FJAVhB38HX4a3BfXD0oMagMIAG0B1gL3BxUN+BBlEvEMYwqmBMgC/AA9/soCIgFWALr+cPt39/b7QQ1fFo8VqhM5B6311tuYxxO/VLnDwnTVHejg+5cLeRfVGnQZtiEhHX4aZRIHCdMFFvqc+1MAEwY0EakX+BobFl0M9AZS/Zf9kPoi+3cBff7O/xT8ovht9MAAshdHHSUgoxUhAhHofMSds76u6LL2yBbkkv0hEkIcqiJiHKAZZB8cGe0XoQtVAPP7rfEI+BwD9BHhHu0i8SGSEi0EjvqN8jz3EffB/SIFTADV/yf5lvXz8G4I9CM4KkIsxRR7937Qj6jInG+kHLfR3N7/QxsLJuckwh87EsERmxV8GJsUQAbV9bXvK+zL94QPzSRWMPstEiCpBQDzkekg7az2Pf4QBYMIMACC+gf2S/Is9JsRkTjNN+g0Vgt73g62moj9kcuozc29+g0eTizHJngYwg9cBwAL0hpGG+ATQfjo5SrmAO7lCOQovj1JOvEoUwyr7WPjBeSp9h4FSQrrBosCqvb48Pr3D/syCNoqqUnhMq0eVt88taSYAYAjqILLpfYvFKcoWyC+E2gKYw4SEHkXdRyhC3/5gtyP31v1mxHeMSZFYT+lJL0ILPEb5cHu2fZBCEoHHv1x9Rn1FPU9/m0LrgoBElcrnjOBFNEBA8aFtlSfOZetwSPch/5uFCImdRxnG64UmhTQC4AMdQFk9/Xs4+TB/qAU0St5OFM4iCNaDpr73/K+8r/3XvkbAHT4xO859lj+MAS4ElEPqQZwAlcYDiiDEBgGhsmhue2cP5SnxTjmNA40KVIz3R+1FfEFLgCkAS4BF/0h/qfyL/YHC7IfLTA5N4YrExWPBj7z2PiS9x36aPag+RjwJu+E/RYIyxNJFmEKlvh17h4JjS6gHCITXM05sNOUPI0Yz3n4MigCM+Iy5A51AV33lPq8DfQC0AHU+qjzFPt3EzMrTzVBMecZCAcy/gX3jAXbAi74meuI6gTpx/i4DkoaNR9uDXz5keKx3Vr20j7eNPQjCuD/mlmW+ofY0y4JcjT8MJcgyAJa7JP8KQGpGNMNrvWm8ObxVQSnIRY3zjRQIRUJ+Pg3AZcH+BKNCm7xvdor3Azu3wYGIkEiNBpb/cTlN9oa3//sEyXWUU0niAZkqpGVnqF/tgwGHSECL54PowiW8Un9ng4qDowUNPOG6uf2oRBGJGM2Fi3yEZIAGfi7BQUWXBmVCNvysNQG1/zyLgwXJOodJA8a+dXiN+Ey58byOfZIKktE7ROz/qekTat8r5LCCRF9HdUqTQo9DiLwZAGrBvUHmhOF98z59A2EICUjeC8YDjABpvjc/CATRx71ERf54ucjzZHm4P6uGZkhFRFPAAroHOBB43zxHPU99nocDkmfIs4LU7grnlyzjL1EFNMmzyx4CqoA/eiq+0YUhRDmIvT8KvarBaYXzyT8KNAHT/d18ZL6bhvCJWITNPbY3N3Kj+fjBWsfeiPNBgTxMN4u4uLuyQNlA6f5WfVMGTo89Bx6Ad2rzbAYvwnfzCY6Iu0eGvZC76bxDBW2HQkj8hXT8XD0awToH4UiUBZ08yDt1vZ6Ed0oVBs5/+3fRtFQ4Nn7WBcWHn4L8e2h6CDpmvhZCUQFOvTv5k3mbSSKTA8hGgDwnW2wJsq09BI1lCAGEIfhje8bAeAsVC3EHa8EPuJh7PIFPyezIQUOmeqF6hX8gBeyJuQRW/JA1p3X+O0dCAoXGRM++nbuPPHv+K8HiQRm+Fjlf+Bo5SwbgF20NS8RbrJPo4rauuTJLa8Z0wXJ7LLx6hq+LhwuiAYI9MjZEOd7DzcpDiB4BpfgQeOO/24XgC3qEuHsxdiT2xH0rwhsFZENNv4O85/49QDgAP/6k+1H53nkevFlFCFiUEFhGbnFYpWB25jfqST2I9IIQvec7x8TuyLGIGD49O155YbvbRKXIMAaSf4z33/gIv8oIKovFBhO8MrX79rJ9NgMgBIWErv+K/P++nv6w/gR9wjxY/MJ9j3+bgGCMy1UuiOY/+mefbxy7Q/8WDGkEMX45Oet9aoVkiNUBZfyDvFp8Mn7bBUpEBQBevGB5v0I0Rw8JrgVifS816LjxPrkEHgVyQUe/AXsbvQY+20BDP5M/loA7v7R+Ub5WvsiNGZKKyR990WlsNO46/wG+R/I+hjodOEf/WMd2Snp/fb0cuje6UUAnQzSE4QK0/tT93IIfw3ZE7UOo/d788z0fgFZBrb6HPm29MT6sQTfCr4GUf8mACz9ovzz8JjxpfZfNU1WOzBu+Gmj3cry3hz9qA9S9tXs7epUDdopbhw+7MvpT9+Y/1wLgBvRF137Z/Ke9qUPYBRzHCQIDPcE7ZDz2QP9AZL22/dO/pEEnBLiDbMH9PlN+DX0NPfp75PzCQNZMSplNCtD9diQ5K9r5jf6kiVv+gTxNuYZBEMjHRnB7s/mvu6+CTkVexUNC7bzk/gS/7EW1xNsCoIEd/ez9m79pAEr/vPzeP3WCTEUOw6XB6b7B/LA9Mr54AAO+ePxM/lYAa5BQka8ES7SG5E111fySxFsEMvrgOyH8/IZhSVwCdPpZe4yBF0XvgwDCK30df0ZAt0NuA7cAYIIhwPrBqgAzgCZ+Qn4u/hmCHoO+AcZBEf+Nfcj+ST6kfvR9uDrAfRB+80HjkOhOxwGEsg6l1vqYgIoEvcOc+cL7kf9jxtYJrUF+uQ49SIJCxNDBUP+EvBB/8ELHRM+FrL/LAa6BmsJTgad+X70Qu+i+HIMYBHUBur7T/ip+OL6l/dN/aHw/vFM9If6P/z1JCRDXBb06V2ma+UuBHMFfhAi5Rn1lfuKF84mvgFc4E7ymghfFkgFt/mn/RsFXxACEIILGPcVBZ4PeBQkBOfvJOwx6yn8ywtPEBwGfveg+uj8nfxa93z0efHv8bL7C/im9QIRK0sMMIYCzbiJwwwHjf2wFAXwKOfM+JkKbSSCDtPqTPCODIgY0Awa85bxdQFGFNUPcwXx9C8CrBoDGUcDl+Gv3irtVAUXEfoPBgKq9G36Dv6tAAr2DvXi+bj23/zd9fP0SvjZHntUCSbg8vy38dLpEi7/+ggt4W7jbQTUFmArvArZ6xL0qAS6DZr44u40/csKWRgSCEQDgPrOC1YT+ABK7Gnh+/VOC10QJgej/+zwe/eLCqwO+wFD9X/uOPIs8Sjz3Ptn/BABeSLqS2EpWfGqxnbVtBCC/1314Oja5s0P+RlqHAP4nuOj76YPHRci+AD1a/f3DsQTSAVJ9nH6aQkLENwEnvPA9ez/0QpfALP5PfyfAWQLSQub+mzxMvCs+bEAFPc49lj0rfspB8sebkf2I+H0R9Xt2BsPkfvF7c/kJuUSCc0RkBOg/lbwGf/8C4gF5Osr7CkI4hgkE7z6TO/nAr0SiBulBynwB/ao/xYLb/ts8V/8sgioDDcEN/jV9HX9RAZM/8nvxOt19C0HkAc1CDkkQDd5E9Tv0dSC51MIRemE6wXoWvZ2EYMNSAVH8ubyWgiFEwYAAe0S+FgSixX+Cp/09vtjCqsTvA5O97f4dAC9CzP9Pesl9C8J5xGxCEn61PMs/EoIqAFu9E/qQfBwAewEAAPJEEsu1Cjj/r3dcN//AAYEguEk3onoyAZpE50GXP4M+TkH3wqyBTLwlPJqDVQTug6Z/W/7kQ/ZEVkKVP+b+B0AGwF9+vXvvvhvCqEPfQbv9A38dwXZBsv+Lu0L6jDxif0eAo/8lf+9Fqo3vCOr8EvfyOf2CHj1Rti94XH3SA/8C50BX/fF/2AN+BCvAbHwiP2NGTEYTwTH8eH39gyqEj4LR/qc88X4fAYAAmz8t/xVBkgFefjg+zMBWAXM/ffyLu3a8PH7EwK6/iv+5AbSIlUsHA5c6yfm5/3rBhnti9I55PIBng70Bdn7PwGTC7YTcgsM/uz0J/xvCiMFt/03A3YP7RCkBKz3FvrOARMCkQLL+qX77gCyBcj+PfZd/AMAWP7691r2mf2MBAj8EvR98zn/IQudExogQx+kBnnvFPVp+wnyx90n4sf8wgfF/6T9fAaGCbgR9wUf8xrzPf74GlkZZ/2e8jn/oQzzA0X77vr6BCcJNQG7+6v5XfsOAtb6vfP3/m4IPQq0/kL3Rvm4/j/4SfY//BYDRwu1DVccnR8fB4zt3fEn+2j3GuM438/16wGWAtkA0APeB3AINwSdARMALAYrChcGM/1H/VUG9wZ4/uP75gWICf8BZ/kP+Hj6bP0/AQYAj/2dAnsIwAX0/dv6KP0A/Vr3PPfw/WQAngQMBicPQx7gFk38jumP9o3+/vX23Ynhm/3eA9UBcfoLAkMLWw0xAzr9bgHKDLoO8gWp9gj3VwY7BkQD/Pn0/QQCzAWDAZn+nQFCAl4DN/7B/rgEQwRK/vv5dvpZ/TL7cfoM+pAAogGfBK4JchMvFUoEeO/e9AoDQfUn4uXdu/wECegANPY7+p4Kzw5DCCb+CP5TCuARTwAJ9uX6XgojCiv+hfvPAygJWwTI/oH9mgH1ApMBRP2V/1kFdAeq+/X2jf2+AY38ZfVq+k8AS/3y+fP/zwmRFB8OdfxU9S3+WwET9s/nq+oM+7r+Y/mA+n0CxQiHB70BdgMnCCsTAQtA/TP52AIyD+kDkPe2954GKwcNAAb7+gC7CPYIRwDJ+u39BgGnA1793fnP+oP9Sfmp+Lr2PPuH/u3/vgKWDTsSSAnu+zX49wJZ/EbxLupK90r/p/41+Nr5If5qApgJvgj5BmEHFw2ZBxwDGf+YBC8DzvuL+coB7gTVAJgCoALfAWwCcwJuAef+GfskAS0CUP7o+zj8SvsS+Xb2r/ds+mP9TQGwBX8JqgiuBiwBugIpBBL8VPT69hj+TvuS9ZH0z/n1/nUC2QauBq8EnQhRD8UJfv+u/KoEewRD/Cv71P7DAuECegFy/9T9uP49BZQDZAFIAZwDmgRdAJv8c/kr90D2UfiB+E/3j/lCACcBzQJZBpwIswf0BgEH8AalA1P/ev2j96L15Pjo+6X6P/l5/MYA9AKQAzwBKf8nAVUGvwQTADf83//6BL4CbwCk/8ABYAKtBI4EfwZkBTgFkAYqBVEBbvzO+435yvjz9t/1qfZq+Z77rP2YBJAKEwe2A1EHoQcMA7b+Jv4n+2f11fTR9ZL1iPWw+Zb/GP+3/zoE7QaVBKEE8gaZBtIEHwRZBc8DkQHWAoMFugPrAXYDSAXSA+UDYQQWBO4ANv1D/Jn5NPd991P3gvSo9E/3PPsc/skDCQkCBsMBNAeWDA8HcgAe/PD67PcP93z4Ovi89T35M/8y/x/+EgJCB3cFNQWJBo8IHgZzA4IElwZxA+MAUgLVAUMBggPXBJYBSgHIAnIFAgO3/ED7QftR+CT3Dfen9Rz1N/ht+8785v9eBR4KswfbA3oGpgleBbEAwv4R+1D2lvWD9cP1dvfh+Rv8lv/tAeEFyQcZBJ8EVAmmCZ4GDQWeBM8F8gK2AHABSQM3A38D2gINAT8CKAO+ARr9e/rB+gr7qPfC8+b0Bfc79zD4wPmG/vUCQAfTCUEI9wYQCjEKiAFy+8v7RP3p+mb38vVt+A/7Pv5X/ln94f+aBBIIjQXBBq4HHAZaBAYE0wSeApcA/wBqAlsBTP9WAMcBUgELAvICuQFy/rz8pftz+SL3T/ft+BD4Hfcx+jD+/QAfAxAGVgijBzEGpATnBEID1wBY/pr7lvk4+Xf5cPlj+kf7Jv2LAMwCbgJmA34FQAZhBK8DXAPPAhkChwECAqgBhQF1Au0CnQHKAu4DsgLZAJX///5e/W/7Y/o0+Uz4zPj1+nn8gfzy/ez+/QDXBMIFcwWyBI0DVQQkBGABZ/wD+k/7Fvsj+sf4pPnk/PD9/f41AT8CLgEsApEEcgRwBIcEKgU5BFIDFgNwAnABeQBUAlADcwIQAs8C8gJ8AmgA7v3O+8T6BvtX+l75B/q4+3771/sA/koAJwHtAS0EgwSIArYAYgHyAQH/1vxq+kT6VPzW/d398ftd+2/+NgJpAqsCyAO9BAUEJgSuAzEDdgOZAhMCzgFwAl0FkAb5AtcBJANxA1gBoP5L/S/+p/1E/Mv6VfnX+Cb6w/rX+NH59vvU/hYB0wGAAUIDcATUAgwC5AHmAYMBpP84/TD8Jfx8/In9av7Q/pH/OQBWAGcB0wFYAbcCggMUBH4EbQQ6BK0EcwWVBMIEOgWYBJECMwGFABYASv8H/ez6hPnr+Mv3Ifex9oz3PvpK+yf8uP3A/38CpQPwAwEE+AObA8MDrgIsAV8Amv9M/5f+r/7t/Rz+ff7q/3AADQB7ANsAqQGYAUsC4gIZBOwDRQTqBAYEyAPLBCkEnwETALEAswD4/v78AvxB+/b4Jfgz+Ov4Y/nG+sz7MfwT/XX/qQEEAl4D2gSQBncFBQQdA4QCpAFY/+L9H/3n/Z7+dP4F/lf+IP8L/+395v3S/8UBfwIWA68DOgTXBDoF4QRFBPMECgRcAwkC+gCjAL3+zvwV/Fb84Pq6+Rr6V/qs+c/5GvqA+5b9wP+7AYsCkgIrA54D7QI0ArUCSQInAZcA1/+k/6//Fv8o/Tj9LP1Q/e79Pf7j/7EA8QDGAHACYQTFBWMGnQWVBJUECAVdBNgCSAGLABgAnf9f/jP9+vuL+gL67vl3+TH5Qvre+5f9QP4y/sn+IQDKATEDFQMjAhACPQNQA10B3gAgAeMAIP/1/Xn+Hf99/lX9Dv2//Wv/kgDZAEoB0QJABNoELgSsA+EEGQUpBBgDrAJwAgACpQCz/n39rfyD/Nz7+vrR+eb5afvJ+x78gPxu/VD+nP+cAH0AIAGBAYECCgPUAlICLwLyATUBuQBf/8/+8f66/mX+Dv7Z/Yf+W/9N/wAAAQF1Aj0DoQPkAysE7gRBBH8D2wLkAsoCZgEtAPH+Xv7b/YP8GPv++n374Psz/O/7j/wq/Wf9Kf7//rv/awCXAIkAEgG3AZ0BcwL5AoECTwGaAAsB5wApAO7+cf6G/hn/pv+c/03/mP/eAKgBbQF8AasCeAPuAi0CEwJZAhkC2gENASsADf99/lz+Bf4o/mr+Bf4a/XP83Pxs/eD9N/4p/iL+gP5R/4z/HwDGAO8BBwL9AbIBhwG5ARIB5wAAAKT/n/8UAAgAMv9P/8L+CP9F/53/XwDSAGsB6gHcAXMBtAHYAVACJwIuAbEAOQCCAG8AKQCq/xH/hP4I/uv95/1t/tL+Fv63/VH+1P50/rv+Yv+cABQBdAChAJMAdwBTAHIAVgD9/ycAswCcAPH/k/81/w//4/5I/wwAVgA8AG0A2wDOAFIBTAGKAQsCqQFzAUoBvQGfAVIBggARAD4A+v+D/+7+yP7J/nH+YP18/Tn+p/6o/qX+zf5W//H/2v/L/6T/HwCLAFoAMgCMAOAAzQAaAN7/7/8FAP3/ZP8B/1P/q/+o/5j/n/9mACkBaQE4AfwAkwGdAd4B2AHMAdcBzgHkAVQBrADZ/yf/2/6z/kX+3f07/iH+3f3f/SL+h/6S/i7/MP8z/4D/6v85ADIADQBOAAMBTAEGAccApgB+AHkANACM/6T/1f8DAPH/SQBtAB0A6P+r/+3/jAA1AXoBRQFrAbIB2AG9AVsB+ABHAJX/U/9R/6H+6/3B/a79Jv5C/nT+zf5R/7v/n/8+/1P/DQBoALEAfgCaANwA8wDJAOUAwgCHAEoA///f/7b/dABtAPP/bv9d/3v/WP/A//P/QgATAOH/IgCjAFQB0wHfAWIBEAGvAKgAfgDe/1//3v6n/mr+cf6H/n3+Jv5F/v3+of/7//T/dgB3ADkAYQCXAJoA3ABnAT4BHgGtAIQAEwC5/5z/3v9JAJP/Cv/L/uL+Mv/6/iL/d//O/+//fQANATMBoQFRAWYByQHhAWkBuABoACIAt//g/hH+v/0p/ob+if6Z/r/+9f46/2n/GgBCAC4AswAgAaIBlgGTATMBAQGxAKUAiQAuAL7/wP+k/zD/z/6o/uP+Hf8r/0z/gP9u/1//t/8pAHsAzQBMATgBQQFKAVIBMwHUAJAAJwDL/yv/uv7q/g3/9f57/ur+q/+t/53/xP/0/xsARwCOAOoAtADQAD4BAQG7AFwAggBVAOX/sf+f/3L/A//W/j7/VP/6/u7+Iv+Y/5D/xP8wADsAMAChAL8A8wAbAZoBuwFMAQMBYQAIAPT/3P90/4L/WP8p/8b+8f4Y/xL/Df8f/6//y//6/zAAgACaALMAuQDhANcAdwBkAFUARwDx/xQAtP9+/4P/if+R/2H/h//F/8n/hf+R/8T///8WADUAggC/ACABhwFgAbgAfgBaAFUA7f+x/8T/if8+//H++v69/rb+xv7i/hj/W//f//T/QgC/AAYBGQHgAAQB2wDzAJAARwAiALf/9P/6/87/lf/o/wgA1f/t//j/3/+Q/6//+v///9//8/8FAOX/IgBPAE4ALQA0AGMASQBwAFMA2f+T/4z/e/+F/zL/1v7p/vz+SP93/9//QwBDAIsAyQA6ARYBrQCaAI4AUwCqAL0AKwBFADQA///X/9f/xf+V/53/n//A/1r/Fv9D/zL/MP95/6H/wP95AHsAowDUANIAywBkAHkAkwCJABsArf/E/4f/Wv8S/zn/T/8g/zz/x/9VAEkALQAnAF8AowCaAMsA8QDAAIUAWABCAAoAAQDj/73/sv/Q/9//iv9I/yv/Yf95/4z/Xf9N/3f/uf/J/wMAjgC0AMQArQADAe4A7AC7AHsAQgD//+j/df8w/yn/Uf8n/zD/SP9P/6//+P9AADkAhABvAJcA1QD2ANcAfQBhAGEAdwBVANX/jv9+/6H/wP+d/2j/QP88/zL/Wv9R/yX/SP+5/xEACADH/zcARgHsANUA6gA8ARkB8QAsAZMATADQ/8X/FP/W/j7/Wv8k/4n+K/+h//r/NQCSALv/y/+LAOAAVgBh/9z/awBYACQAbwB+AE4AowB5AJ3/tP/C/+j/Rf8Z/6P/jP+M/3L/JgAaAAYAYwA4AdcA4/9wAD8BtADX/+X/EQAGAGj/X/9M/wH/dP/F/w//tP6m/5UAHwD//ykAWgAhAKwA/AClAGMAZgDgAHcATgATAP//t/+R/8T/rf95/0D/1////27///6Y/woAo//x/zUAQwAkAGsA9QDOAGgAiwDSAH0ACAAyAOj/if85/2n/iv9W/zD/QP9k/yT/Sv+0/18AXAB3ANUAuwCFALQA7gB3AEAAKQCSABEAuf/0//b/0/91/3X/vf8BAPP/wP98/3v/AADT/4r/R/++/2QAJgAaAC4AxgDCAKoAgABtAP//7P9mAPb/bf8d/w==\" type=\"audio/wav\" />\n",
       "                    Your browser does not support the audio element.\n",
       "                </audio>\n",
       "              "
      ],
      "text/plain": [
       "<IPython.lib.display.Audio object>"
      ]
     },
     "metadata": {},
     "output_type": "display_data"
    },
    {
     "name": "stdout",
     "output_type": "stream",
     "text": [
      "Playing poisoned audio 2\n"
     ]
    },
    {
     "data": {
      "text/html": [
       "\n",
       "                <audio  controls=\"controls\" >\n",
       "                    <source src=\"data:audio/wav;base64,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\" type=\"audio/wav\" />\n",
       "                    Your browser does not support the audio element.\n",
       "                </audio>\n",
       "              "
      ],
      "text/plain": [
       "<IPython.lib.display.Audio object>"
      ]
     },
     "metadata": {},
     "output_type": "display_data"
    },
    {
     "name": "stderr",
     "output_type": "stream",
     "text": [
      "100%|██████████| 600/600 [01:31<00:00,  6.55it/s]\n"
     ]
    },
    {
     "name": "stdout",
     "output_type": "stream",
     "text": [
      "Epoch 0, Loss: 2.089648780822754\n"
     ]
    },
    {
     "name": "stderr",
     "output_type": "stream",
     "text": [
      "100%|██████████| 600/600 [01:30<00:00,  6.61it/s]\n"
     ]
    },
    {
     "name": "stdout",
     "output_type": "stream",
     "text": [
      "Epoch 1, Loss: 1.4076896085341772\n"
     ]
    },
    {
     "name": "stderr",
     "output_type": "stream",
     "text": [
      "100%|██████████| 600/600 [01:30<00:00,  6.63it/s]\n"
     ]
    },
    {
     "name": "stdout",
     "output_type": "stream",
     "text": [
      "Epoch 2, Loss: 0.8637372969339291\n",
      "Test Accuracy: 97.5%\n",
      "464\n",
      "540\n",
      "ASR: 85.92592592592592%\n",
      "Clean Accuracy Drop (CAD): 1.5%\n",
      "Backdoor Attack Success Rate: 85.92592592592592%\n",
      "Running experiment with poisoning_rate=0.1 and freq=1000\n",
      "Poisoning rate: 0.1, Frequency: 1000\n"
     ]
    },
    {
     "name": "stderr",
     "output_type": "stream",
     "text": [
      "Some weights of Wav2Vec2ForSequenceClassification were not initialized from the model checkpoint at jonatasgrosman/wav2vec2-large-xlsr-53-english and are newly initialized: ['classifier.bias', 'classifier.weight', 'projector.bias', 'projector.weight']\n",
      "You should probably TRAIN this model on a down-stream task to be able to use it for predictions and inference.\n"
     ]
    },
    {
     "name": "stdout",
     "output_type": "stream",
     "text": [
      "Playing clean audio 1\n"
     ]
    },
    {
     "data": {
      "text/html": [
       "\n",
       "                <audio  controls=\"controls\" >\n",
       "                    <source src=\"data:audio/wav;base64,UklGRp4fAABXQVZFZm10IBAAAAABAAEAQB8AAIA+AAACABAAZGF0YXofAAAK/Uz+6/+LAg8D5QDk/a383f34/uEAUgLjAen+bv/Z/9L/5ALhApsBlf+w/iH+zf4nAjwC3QLdAFP+Sv9DAJkADAEhAXH/Rf6C/lH/1v8b/w3/If4v/l7+hf7W/5IAcgAq/zX9PP0L/qsAdAEMAc8ADgCNATwCBQMYAiMAY/2g/78BRQOJA8IB2wG0AUkDLgRKBugEEwEf/dj6y/u5/aL+uf3z+8/5Wfmm+kH8v/wP/M367frh+4n+8wD8AXQBQAA4//H+rwDPAmcEuQbXB2MIjgisB7sHxAT8AVsB9v/m/rEB0gQdB7oJDgvMDZgMtwWs9y7sfeh05zXskO808j3z3vPH9ND1NfkI+mT7zfzP/f4AIwaUDPEOFQ9pDOUJqgpEDYUS6xGSDQcJIwQeAzwGHQeyBM8Crv07+ED3pvrKAXQOhRTNEJEIcwMj+TXo4tVuv4G5gsLx2pb5yBF0G8QTHwqA/dP3+vlM/mgFzgwfFSQaGCDvInAfzBjEEQwQIA3ACEEDGv7U/LL93fvP+9z6x/Y09Jfvl/OAAIcPnRE+FJYpehrz6Du2eZL4ldSzkt3jAbkgkSzgKFQmCxRO+fXnO+fx63f8PxmLLeo3aDQZJ/AYIg52CRIJ/QivAEb2JPMl9lH9RQFDAoD9SPVn7t/pkuqJ7y4A+BBDE10W2DB3LI77P8NRlJqO2qor16n+NBusI54nSS4PIyQJBu7/4LDgqvLJEuYsoTq1NyIsyx4+EmMKWAac/7XyzekV6ofyQ/8uDQcPjAUs+tD1rPFs7yfsMO2Q/roLPhBVLSRHVyP548miAYDNkybBMupAC+AZFhRkKWY5giOCAXTe1tDL33kEPSc+P4pCqTDcJv4YGwzVCKsCRPPR6Vfvw/R+ARwNRgrXCaMGYvy0+AfzMOUs3hjjsuzeB+8VACVNRv80UPZ5tH6KmIttr/7VtfBQDJMUbSiSS508WBWt7cHXBOK1/5IeczAnOo4vpij1Jl0Y3Ay9AmzzJOa/6T3xu/yIDcgNnxCHDy77ju4q7DDe+9XP3ZPiw/Z4Cg4N4yr6R7wmh+N6qHqK1Zxxx7nhGvyeEu4X4T4vYQRFWhaG6enTC+SdArgbpixKMdIk5SdYJlcUzAnj+nLo8OJ57CT1BAVJDqcGFAQxAu72Duoo5HrXUdQG3Yzm4P/9FR0UiBqnPnsuJvIgvaeU9aBKxZfkeQLdHsck3T7iY29DlxSz6CrOpNtR9LgQTCXqMFAqoS0hLk8UHgGe8azicN7a6Bvyx/1qCKkDcwNFBTv0W+cX5wjcI90u6qnrRPV+B1kNBBoGQvNHIRAk1d+ikKBhyDrgc/NmCmoXUCzcYg9dGiER8MfDvcpS7F0JsR8RL/4t4SnPMR8Xjfwv76LcR91r6o32DPwkB3cDJv0lAZr1Wu0g6iLn6+Ha6qDuk/HHBnkN+hOkMdxXOTiT8Wi5qJn7s0LNat+a9TcO0CUjT4Z3+UI+/rvNj7c12zwAtRUKHmIsvywYL+wpgADT6LjeEeGA7On1p/R/8mf/pABNCDMHhPUS8YXxv+1Y447jMugZ82kQFiM9JcJBHF4pKJDelakVkGuwsNEH5vYAcSS0MsJSOnBtLF/jGr61tpnhZgpFElkamS/+KRUrbCNo837cp9/F5sLzcvtI7zXu2gJDCBQTsxrP/YTq9O315UnrB/nm7RvyBBaMKe4sSkIPTGoTXNBdqMyZHr4519fg9PwMHcIunk5SY14f0t2Sw1HD1elwAxQIuRMtKOgrLzImJFPxAd6d5orw+PjM91TrjvLoDSsWMB1fFQr5q/B68zjyIOrR6Vzwc/GNCmEpFCohMHRIRBp80Hy2HqKgsovOG9id7qwc6jfQR/1ezR/d3aLRns+45df1HvpjCqIwyDzlOA8nMvOO4ebxfP1y+cnvk+Rs7UkSniENItsUH/2V8i/xmfAm4wTi6eLZ49AL8TD6K4Mi9T1NJuHf475ZnYmmOMe42E304RzANTs7qVtwMoPniNUQzV7cHe8B+KgLSjVJStY+jysY+3zfXPDZ/bDxh+Gy4eP0BxoILpkkcBIe+AXto/YR7LrV5tFu36nrJwstMzkrBiZgSegv6eKOttiViJ+hxq/Zne45GgA2Pj3bYZE7Lefp0+/OB9e150f33A6hOsVQcjyoKzMFxej08WT3Heba27HrRQHbH4YsSxyEDQX6durI6unig9Rc0GjivPRZAlohgzNlI6ky7kS7+si9Hai/nIC999fG4BUAsjNZPtVV7lUKApPXntWf2jbkJe1sBQ8uC1J4SNsw6BNT7znop/Lz6Njcau7SAiAPNR77GPcHHAC07xvjptqD0izRYeL2+dL/fxvUNGwlQCvpR9sWF8eErGejW7pv2U/gAPeOJJ89W0ZbW5Qs+t8q1BXbq9235l78yhmhRfRUPzWVGaX1h+Pb7Tjul+Dt3M/3DQqMFvMg9RA4/VXqHeQ94k/gQNug3Vv6AQGABsQiyzH9JkU/5UOa5hG267Lrtp7RbtLc1h0FbziFRYBR0EUKBizest8M3DzQteGsCasza001PhQkbwtU9iru4eau37jaFu8oCSkQ5BftFNAF2fRJ59Xl/OmZ6mze6OrG/JcDPhvfLFohDB2vR0okStT5uqmzXMX70a7Qb+YFGy4+BUa6S0MvU+9P10rf4NRP1X7vaBhiP7hKozfOF1UCJ/cl61/ntNye3tT84wxyD8IQqg4R/5rxTfQz7XLsFONh4Pf3OfvLAIQadTF/HUUuQEkQCBjSV7xVvzXKJck6z/vvSCVqM5s9IEdSIErwo+NA3cnPj9Vw+LcjNTr3Oqcv2yGbDrb3XerE2+DUDuzWAEEH4Ar/EFAMZwIT/iHtXPBu8LndpOiU/PMCjgLlGj0r5RqBOJE7lPpu0IfDVsiFxo6/iMrH8hwi1i2FPw1GPRic9Gjmct110rnSp/3FJ+o5VTwYM2YmGQvI9eDlw9RD4ef2TgAYApAHthNHEdIGefky84zxYOgr6BvwEPhv95355xUYJn0puEibLl3m+M1/yX7NOrPkpWHR9gCzJRYwjUhjQpwXtAGv5lvci9BD3WEJxyI0N3Q3RTvhKbYCi/lm57vcCeVX7zT0bvnBEbAYoQ+EAH/4rv0I7QnlbuN/5XT26e/V9tMY8igiLFs5GSfO9jPeV8/ays2zpque15X9ORhLJ9BBMEbOKIQNqe0l54jb9dgL9+AT0i9TNg80wSeUEBgINu/719bbqObf7XL3IgzdEwoVhAvM+eH3DfDK5UDZGt4D+aj7BP4kFjknay3dPPAno/LU3tnUx9BIuQWtWtfL+/ANniPVOZA9wjLKDCjtzPEg5O3ekfJmDEAt6TQEMFMltRWTCfruedl920bnBe3X9fQHmQ88EYwL+gTB9zrkxuCM5K/qo/Dk8rL/TCOEK+sktTcPI7j2V+Bd1e3T47its83c4ft2C5YeNDkxMycpCBKe/Nv8Lt+04HX97xGgJEElcCw/JGAT/wUz7VzhdNrF5DnqgPDlB8oMeA5JDOgESfjP6qrnGOMa73H2nPBzBaci1C4XKB8xkiDS8qrjYtij0ge5g7Y442L6PP+WES03QjcxIKQPIAmYCIvoCODn/3oWJhnyFWkhxCQkFmP/huvz6nTnmuJ95u70XQlJDkIKgg56Cd7xpunQ5o3rO/Zw77nyQA8+KkMmSxprK3IgsfQh4PXYgN2BxGi7PN+n9Bf6SQ6rHlgmXC+BFq8LsQp7+Av3WP/9BngOVhYEGi8SNA7EAhf0gOz8693wVvEV+3YJLA66Cz0JZ/kR7P7qFPKK8MHqAPcOAH0NbyVLHjQk2TEYBHXwWex54c/Q6bOvytPmkekH6goNgC/VJjojwBd0HcUYC/Vt+P8HLg2CAxsGqBqLE3wIxvjf+Nn9RvDt7Wry2QQ5DVEGoASUAQz6n+eT5BL18+x17nT68wC6HAwhOxd7LiIq4fvM807u1+Tfyw2yLNFf5cDfU+AlDjEvPh1LHn4lHC+jG7T4EAi+FqMM6PfSAtkVtwWi+ib0m/zZ/Y7wwPJeBVURxwag//ED4fvX76rn1+h17HrxPvjS8s0DQBGnIBsbTh6dKxgIuwNz74zkMtuuuETKb9eK1jbkhgFCHa4isR9xJrUztB/+C0MXvBdtDOT9WQBdB/r7jPG+70f3uvmD9oD9Lg2/DmwFxgNOBpsDKO1E5JDtnu327N7mCfJMBWUQ4Q2JI7dB2xYbCIQLlPyT5jC428DO2EzPy7+F5CsYrw1HE5kiKTl0PfQUwCJIMsUcBQFn/5gOLfaB6NPkA+499ZbogPnLBqMKtQatDF8XyQXa+wrwDuxP76HkFuQ06VLsZwBuEd0REzJOLd8O7h24Cs36ZeI2yFrTCM+hyCTI2fABA5z/khHLHgg/XS1DHnY4LjE6HwAL2g8LCePrc+Iv4PzrRuE64FD4rgSjCAQFFxkyHPgFcv0V9aP24u+65rzlXeZC9g4AQQMFH/0mtA6aGLwX8wuM9TnXkt+m3snR3Mck4u72HuuEAMwNvCSWKcAXWjbbPTUrQB5KIvUZq/kU8urn4OWd2XHS3vF49Ov0IQEpEKMV5QehCbsDCgBf9h3xMPb55ybyl/5D+9IV/RHbAYUWVgvrBn33GeRc7FPkG9oL11fv+fB57NMAqwQ0FXMW6xVDL4cxeCr0JZEqpCANCr0AnPQO7ArdiNmE6oDqPu1k9VUEVAirABYJMwP2AP37xPmx+nXyHAKp/iH8ABywBTz/kg9w/DMB6OyB5KLrXeR+3ujfav809u3x5QeBCbMWQA1oFEYq5CbBIK0hAy0+G28L7QdO+7Xy7N173qTuTOux6X/yYwKD/XkAagai/iH+yPeF/PD34fvdBqb8xRiyE135ahXyBPr3FPAL4sDu2+AL1Y/b7vhX+IXvtwk3DEUUXBPrFc4oTCEqHmAgjSioHMUNmxDmAd35F+vX4kvoheRH6mPyKfqo9638GwofAgH8A/06/m/z8vRQAw3/1hUwChH5wx0KBgf3CfYl6Ury6+H+2+zdufLv8Kzo8QxGCFYLShOQFs4qFxsqHtAl+SQgHH4QNBtBBzr8sfiS6mTsAeA44xrtD+9x8lH0qwaJAQb9GgXPAtH8N/wXASEHIRA09rf+kBZp+D7vd/GM70zt6N1B4OnvUvm/67/2xBVkCQcLgRabH04k1hW/He4oKxwtCggSABhXAf/6gv68+PTxYeba6hT0/uhk5oH3r/lv9Sn4wQAfBO0BDwmABPsYrwJM8VEX+Pr27Azp6uuO8p/YP9/c55b73fnp72QYJBQgCX8XOCLXJ5kVKxqXI5wi+g2SAP0RxADP7tH26voD+XXwivZAAGn8nPC18BP+T/Om6bj0Cfh7/C4C1gbaGoYBAfxPFNf+EPJf4ybwKO3Q04TdzOTy9Ozzk/EbFR0aGQ+wGLMpxiybHfgjfybvIhgVdQalC679VeoM5xPt6Oxo6GPyBP5+AbADnAQBA/0CAPmK8pv4iPmh9cUJawJO8BAKBQO18L/pbevk7pDizNcY40b0+/NS6t0EliA9Cf4PfSd5MYUnWBugL5cwbCHrET4QUxBx9tTrg+4n7F7exdmY6a7ypfMw+BwEYwoHCaIDYQWdC1gE8Afd/frqDgC7/KDjm+Cj5yDqv9jO2JrmPusQ9PX0agQMH5UVEQ+4KPk1oCZZIJkvAy/IIB0WCBJgD1X/N+3073z02uZ834LpLO/P6obpdfKC/IL4pPttCkIQYA3HF9cLXvomCqD76ue/3MffbeVh0XfRtN5i65vvMfDQA4wYXxleEsklBzpMLswnDi2JMsIlOBVjFc4KWP/79SXtou3J7ajoo+me8YHxlO0W8f3ySPGR8mL6yfwWA0wSfQnUAYoKXQvm/PDmA+g87MzbjtTd253o3ez471H9LQpjFeISqBwFLg0oOCh9LcYsdCihHlsbzQ48Aq3+UPZ68TfrTuwf7gXre+0h73zyAvLk7kvzTvkX+ur2wQDCBd/6hAD4BeAEeflF70D5mvNH6D/lyuf58KXvEPgeAQMEaw/QEgkdcCFNHYAkKSa9IoEcMBnvFX0LKwdbAfX48/ey8uLx5vE37UPuI+7/73Pxp+4S87r3QPtc/SwBXP2b+I77V/67/pPzdvfI+RD2ivZU8tX0qvZ4+Jv8V/5YBFwI9w0GF1YYXRzNHVQdMh75GQsUIg4FCnEGoQA1/V76HPmh99X0nPQ68yHx3+/W7ozvivJv9bH2+vkd/jX5HPkg+7/8qfp+8432/fvk+3T63f3E/QcAsv/fAV4FbgIzAVMFjw9QEJYPChUvGE0Z7BgGFeEPkwvJB2ACwQDm/vz4lPgn937zNPQd81rv++277wby0vKL90z8Hvx59/r3c/45AC77APf6+Rj7YPvP+0798v8o/g4C8Ak7CK8C+AFECeMOoAi3B6gNeRGHEUIQfhKhD9MLFAoCCDYHZABc+wP7tPin9MDw5PDE7lfttfAq8sXzZvhO+wj8v/yA/Zn/QwI8/Uz8+/yG+jP81fiC+v/6gviEAmoE6wJqBP0G6g5ODVQMhA0wDrIRkg1SDfkMgwhWB34FbAdnBMv/5/8B/FD40vTS8oPyufBl75PxUvUr9636sPwF/Gr9v/xDAKQCG/9H/Qb9GP9F/Kb62Pp4+Nz6XP3//JX9DwGQBSIKzw0qD/oPlxRDFTcSQA+4DLoJhQUWA0IBWP/S/aD7v/h79jv0l/GT8enx1/PY9hX3pPvy/Vz/iQEq/4D/LAFT/v37Wvxz/CH6i/kl+hD6Afxj/Z39Jf5T/kIBVwXSBrgKzAt4DkMTRRSeEokQOhCvC5AHtwXmAfb/wfs79hf2QPUL84PykfK58tz0kfYT+kf9L/6D/3kAsgADAqIBIwBl/jn7r/l99333Bfhk9438Uf29++v/UgIPBVoHdQiPC94NZA0qDyMRVxBwDs4MMgs4CEMGjgJu/+/7vfc19yD1cfSI88nz0/Xs9dH47Pn8+vb7hfyH/Wn+GQCn/0sAiv+7/CH6I/n2+Zj6yvpu+0r7bPxgAMECKgacCJgKfQ21DHAO+g99D/ANfwoOCyQJYwYzBUwBq/8M/OP4dve19jD2xfOd9Tv4afi9+f75qPt3/Cr50fr2/QP9F/ow+kP7VPh7+BH9hf5X/lf+af5gAF4BIQNoBXUGCwl6Cy0MpA08DzAObQw3DIYKgwh8BnMFPwQlAT7+EfvT+WT59/f89jX3MPhF+Ib4Afpr+YD54ffY9rT6qPkk97j2+fb59tf3afzt/gT+zv8xAloF+wXPBIoIhQmcCvIKyAtADeAM3AyCDEQLWgllB2oGVQZQA2AA8f7J/DD67PfX9wz4R/fT96b4F/pk+337Ovo3+PP3EPik99X2uPRq9PP1iPeY+tr7Wvwq/7kCEwUKBnUIiAsMDGYMkQw5DZIN5Qu+CxILwQltCPYG3QacBrAFhAJD/0/+6Pv1+Lr3VveL95j2JPdU+Nz4X/ih97H46Pcn96P2+fav9Q71jfZy9+X5m/rI+9v+UAHWBEEHJgolDBINJw+dDwUQ4w7DDgkOgQvBCZUIbAdoBf8DcwPCATz/h/0e/HD6ofeW96z3QvZo9Xr14Pa39bj0+fQk9eP0G/Sz9cP2xfeI+dP5I/tg/en+TAHJAyEFaAf+CW0MCg/6D4sRExBOD8QPfw4ODQkKbAmzB8AEVwMsAZX/0fxg+/z6UPi19iX2v/ZG9jn10/Xc9JPzl/Os80Hzx/IG9GT1DPZ7+Gn6Afz9/W0BgwT4BXoHXQl9C3gMzA3cDkkOFw4+DoQNJA1ZDT4MVArbB5AF9AMfAv3/KP4T/Nr5gvgk9yX2K/WR9FH0P/TQ89zyT/Oc9Ib0rPPT83v2mvcM+FT60fwY/6v/LwO1BtAHyQmtDGsPtA5UDr0P/A66DRwNzAsZC2gJ2wf/B9cFxAJ3AbL/P/9y/XL7xPma91n3qvZv9WP0fvOc8i3yrPFN8lbzx/Id81v0QPeb+IL6Cv37/lICKgT2BgUKHgyvDU4PMxBVD/EOLg+2DQoNHA3+C3MJfAZyBKIDbgIRAF7++Pwg+yz6qfoc+Sv3VPaq9vf1ofME857zofPS8hv0JPVo9eH1vPbf+JD63fsI/ioAYgMTBQkIQAuhDewPIRA5EUcRbg9CDkQNewz8CooIQQdjBlcDVwFG/+T9pPur+ZT4aPeG+HL35fU79m32K/VN9N7znPSx9DD06fWE9yX4EPjs+UH8jv37/pkAUwMaBVUGBgiDCuAMDA62D30Pbg+ZD5sOUg05C6wJ0Af0BVMDaQEZAKT9+vu7+hH5mveK9iX2WfUV9Qf10PVZ9fTzt/MZ9Xj2EPbV9vD3RPnf+mX8GP9HAB4BXAS5BowHNglGCtcLmAy/DDINuAxpDHgMuAzFC0IKtQiIB1oFWQKZAEb/+/yh+Tf4N/jh90b2tfQv9Sb0c/MC9BT05/Rj9Kz1iPf697z4dPoW/PH8tP72APMCPATiBa4I3gkEC48LoQtmDI0MAgyaC6oKvgngCKUH+Qa0BVwEzwKAAB//4f0V/Wf7Z/nX9+72VPZr9Sf1JPXc9Fv0nPSa9df1w/ZC+Kv5gvro+3n9Ef+PAB8CQwTQBYEHJAnDCgIM9wvcDBUNAgw9C9sJAAnXB90GYQUFA5ABLAH9/xr+5vw+/O/7Efvv+Zj4C/cZ9632BfYg9W/1uvV09jL3pPeb+Nb5XPvt/JP+kgCNAR4B6wJwBVYHWgenCCIKNAoUCm0KSAtYCrMJegn5CNkG9gS3A2sCDwGZ/83+Z/1i/Lv6V/p5+UL4Rfgp+JH4zvZJ9q/3G/j695P3/vf2+TX7Wfv4/Pr9t/5HAAoCjQNVBDoFMwf3B1EILwmlCQUKTwlTCU8JAAnHBj8GkwVsA+MBvQByAGP9Zfyt/PP7HPtJ+oj5Cvl/+Nf3gvh7+FD4bfij+Gv5N/pH+537m/wa/tD+oP/6AIsCdQKSAuIDWgWuBl0HOAhRCG0IVAgYCFoHQQdfBrkEpAR7A4cCOgHZ/zr+z/2k/X78q/uf+l76HvpE+YL41/eJ+PX43PhZ+U75afpn+2X8/f1a/k7/fQA3AQMCGgPCA8AE+AVOBnUGUQbnBvIGCwfABkMG8AVwBc8E6gPrAp8B5QDL/9T++v1g/X78MPy5+3L78frT+cj5HPkZ+SD59fi6+T76qfpg+x78Y/0C/z//ywDjAQwDxgNqBA8FNgWsBeIFwgXJBREGOgU+BYwFwgXrBJsDwQJ9AtEBYADv/5z/6f7k/Ur9Rfwq+xX7wvqx+mX6tvnW+bL58/kz+kX6hPtQ/JD8Kv2w/tn/fQB7Ab0CggNcBNYEiQU8BoMGwAb0BdAFxgVeBToFxwR8BI0DeQKNATcBsgCl/o79u/xw/Ez8a/t7+h76IfqS+d35EPrj+kf7TvvI+xP8I/1I/ib/zv9kAKEAGgEGAnUCXgPtA/QDVQTkBFMFxgXwBaUFiQU+BeAEhwSJA/oCSgJCAYsAkv+i/kP9qfzL+477yvpl+jP6q/mZ+Y/5dPrq+if7ufu//Kv9U/7x/of/oQCpAYACfQJJAw0E1AP7A4AEywRYBJIEgAQ4BDUE2wOQA/MC9gJrAkoC3wHoADkAMf/9/Xn97fwM/Er7FfsG+3v61vn++UL6yvqo+xP81Pxc/X7+8f7v/8QADwFAAusCLAOJA5wE7wTvBNYEvQRjBAYEOgMaA+ECOQK/AYkBPgEIAX0A7/8AAG7/+P6p/kj+av2p/JD8z/um+mn63/oV+yP7HvxQ/L/8Cv2g/XP+P/8HAAwBHAKyAhoDYgNcBL0EjgRBBYIFXgW2BAoEkAPoAiMCfgE6AWAAWP+0/j7+rf5e/h3+pP3W/aD90fzG/J78pvym/Lv8rfzq/Pv8R/0I/q8AI/9w/BX9Q/9CAZYANwEcAp0ChAIlA5wEBgRJA2AEgARcBCwDAwTbA68CygHhAFUAZ/9D/wr/E/4N/Xn97fyC/EX8rfzN/GX8c/z0/C79av1K/Sz+Av/b/tT+Z/85AJYAcAHqAdsB0QExAjkCJwK5AigDWgMTAxMDYgPWAvUBtAFpARcBnQC9/9L/5P98/9D+gv5I/qv9Sv0c/Q39afzU/Gz8gvxu/ev9V/7r/b7+fP/L/04AkgAPAXsBxgHKAa0B2AH1AR8CqQEOAkoCbgJ1AnkCfQKZAmACxgFXAVcBywDL/xj/4v5e/vL98v3k/Rz9Ef1c/SP9Nf2k/aD9mf0h/vL9if4N/2r/0v+r/xUAVQDhAEkBhgHbAaYBfQKOAvYCRwIGAgYCogFjAlIC7QHvAGcApAC6ABwAI/9Y/5n/XP+w/kH+Ov6b/kX+fP2D/Vz9cv0l/jr+u/56/jH/WP+Z/4r/8v88AFkAywCkAPYAAQGXAaYBMwFiAZsBzQHRAbgBwgFHAvgBogFQAeEA2gDLADkA2f+5///+Yf6J/mX+gv4B/sT9jv3W/T7+tv22/QH+ov6t/tf+2/5n/zIAAwBVAKEAAQETAYIB7QF7AYYBuwH8AXABxgHNARUCtAF3AX4BMAFeAaQA3QCEACoA5P95/zz/Av+Q/o79Tv3d/db9Kv0K/XL9XP3r/Uz+FP+K/zj/AADlAPYAHgEaAd0AywBiAa0BhgFwAWIBuwEqAlcByADdADAB1gDL//b/KgAuACcAawAIAZ0AkgBLALn/OP/4/h//af4B/nz9Gv6C/uT94f02/tT+yf4m/wr/av/L//3/UgCLAO8AiQF3Ab8BGAIOAuMBZQE=\" type=\"audio/wav\" />\n",
       "                    Your browser does not support the audio element.\n",
       "                </audio>\n",
       "              "
      ],
      "text/plain": [
       "<IPython.lib.display.Audio object>"
      ]
     },
     "metadata": {},
     "output_type": "display_data"
    },
    {
     "name": "stdout",
     "output_type": "stream",
     "text": [
      "Playing poisoned audio 1\n"
     ]
    },
    {
     "data": {
      "text/html": [
       "\n",
       "                <audio  controls=\"controls\" >\n",
       "                    <source src=\"data:audio/wav;base64,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\" type=\"audio/wav\" />\n",
       "                    Your browser does not support the audio element.\n",
       "                </audio>\n",
       "              "
      ],
      "text/plain": [
       "<IPython.lib.display.Audio object>"
      ]
     },
     "metadata": {},
     "output_type": "display_data"
    },
    {
     "name": "stdout",
     "output_type": "stream",
     "text": [
      "Playing clean audio 2\n"
     ]
    },
    {
     "data": {
      "text/html": [
       "\n",
       "                <audio  controls=\"controls\" >\n",
       "                    <source src=\"data:audio/wav;base64,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\" type=\"audio/wav\" />\n",
       "                    Your browser does not support the audio element.\n",
       "                </audio>\n",
       "              "
      ],
      "text/plain": [
       "<IPython.lib.display.Audio object>"
      ]
     },
     "metadata": {},
     "output_type": "display_data"
    },
    {
     "name": "stdout",
     "output_type": "stream",
     "text": [
      "Playing poisoned audio 2\n"
     ]
    },
    {
     "data": {
      "text/html": [
       "\n",
       "                <audio  controls=\"controls\" >\n",
       "                    <source src=\"data:audio/wav;base64,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\" type=\"audio/wav\" />\n",
       "                    Your browser does not support the audio element.\n",
       "                </audio>\n",
       "              "
      ],
      "text/plain": [
       "<IPython.lib.display.Audio object>"
      ]
     },
     "metadata": {},
     "output_type": "display_data"
    },
    {
     "name": "stderr",
     "output_type": "stream",
     "text": [
      "100%|██████████| 600/600 [01:30<00:00,  6.62it/s]\n"
     ]
    },
    {
     "name": "stdout",
     "output_type": "stream",
     "text": [
      "Epoch 0, Loss: 2.0813886654376983\n"
     ]
    },
    {
     "name": "stderr",
     "output_type": "stream",
     "text": [
      "100%|██████████| 600/600 [01:31<00:00,  6.59it/s]\n"
     ]
    },
    {
     "name": "stdout",
     "output_type": "stream",
     "text": [
      "Epoch 1, Loss: 1.5319908540944258\n"
     ]
    },
    {
     "name": "stderr",
     "output_type": "stream",
     "text": [
      "100%|██████████| 600/600 [01:30<00:00,  6.62it/s]\n"
     ]
    },
    {
     "name": "stdout",
     "output_type": "stream",
     "text": [
      "Epoch 2, Loss: 1.024849481495718\n",
      "Test Accuracy: 95.83333333333334%\n",
      "467\n",
      "540\n",
      "ASR: 86.48148148148148%\n",
      "Clean Accuracy Drop (CAD): 3.166666666666657%\n",
      "Backdoor Attack Success Rate: 86.48148148148148%\n",
      "Running experiment with poisoning_rate=0.1 and freq=10000\n",
      "Poisoning rate: 0.1, Frequency: 10000\n"
     ]
    },
    {
     "name": "stderr",
     "output_type": "stream",
     "text": [
      "Some weights of Wav2Vec2ForSequenceClassification were not initialized from the model checkpoint at jonatasgrosman/wav2vec2-large-xlsr-53-english and are newly initialized: ['classifier.bias', 'classifier.weight', 'projector.bias', 'projector.weight']\n",
      "You should probably TRAIN this model on a down-stream task to be able to use it for predictions and inference.\n"
     ]
    },
    {
     "name": "stdout",
     "output_type": "stream",
     "text": [
      "Playing clean audio 1\n"
     ]
    },
    {
     "data": {
      "text/html": [
       "\n",
       "                <audio  controls=\"controls\" >\n",
       "                    <source src=\"data:audio/wav;base64,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\" type=\"audio/wav\" />\n",
       "                    Your browser does not support the audio element.\n",
       "                </audio>\n",
       "              "
      ],
      "text/plain": [
       "<IPython.lib.display.Audio object>"
      ]
     },
     "metadata": {},
     "output_type": "display_data"
    },
    {
     "name": "stdout",
     "output_type": "stream",
     "text": [
      "Playing poisoned audio 1\n"
     ]
    },
    {
     "data": {
      "text/html": [
       "\n",
       "                <audio  controls=\"controls\" >\n",
       "                    <source src=\"data:audio/wav;base64,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\" type=\"audio/wav\" />\n",
       "                    Your browser does not support the audio element.\n",
       "                </audio>\n",
       "              "
      ],
      "text/plain": [
       "<IPython.lib.display.Audio object>"
      ]
     },
     "metadata": {},
     "output_type": "display_data"
    },
    {
     "name": "stdout",
     "output_type": "stream",
     "text": [
      "Playing clean audio 2\n"
     ]
    },
    {
     "data": {
      "text/html": [
       "\n",
       "                <audio  controls=\"controls\" >\n",
       "                    <source src=\"data:audio/wav;base64,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\" type=\"audio/wav\" />\n",
       "                    Your browser does not support the audio element.\n",
       "                </audio>\n",
       "              "
      ],
      "text/plain": [
       "<IPython.lib.display.Audio object>"
      ]
     },
     "metadata": {},
     "output_type": "display_data"
    },
    {
     "name": "stdout",
     "output_type": "stream",
     "text": [
      "Playing poisoned audio 2\n"
     ]
    },
    {
     "data": {
      "text/html": [
       "\n",
       "                <audio  controls=\"controls\" >\n",
       "                    <source src=\"data:audio/wav;base64,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\" type=\"audio/wav\" />\n",
       "                    Your browser does not support the audio element.\n",
       "                </audio>\n",
       "              "
      ],
      "text/plain": [
       "<IPython.lib.display.Audio object>"
      ]
     },
     "metadata": {},
     "output_type": "display_data"
    },
    {
     "name": "stderr",
     "output_type": "stream",
     "text": [
      "100%|██████████| 600/600 [01:30<00:00,  6.62it/s]\n"
     ]
    },
    {
     "name": "stdout",
     "output_type": "stream",
     "text": [
      "Epoch 0, Loss: 1.9996298419435818\n"
     ]
    },
    {
     "name": "stderr",
     "output_type": "stream",
     "text": [
      "100%|██████████| 600/600 [01:30<00:00,  6.61it/s]\n"
     ]
    },
    {
     "name": "stdout",
     "output_type": "stream",
     "text": [
      "Epoch 1, Loss: 1.50969280111293\n"
     ]
    },
    {
     "name": "stderr",
     "output_type": "stream",
     "text": [
      "100%|██████████| 600/600 [01:30<00:00,  6.61it/s]\n"
     ]
    },
    {
     "name": "stdout",
     "output_type": "stream",
     "text": [
      "Epoch 2, Loss: 1.0394699929033717\n",
      "Test Accuracy: 94.0%\n",
      "516\n",
      "540\n",
      "ASR: 95.55555555555556%\n",
      "Clean Accuracy Drop (CAD): 5.0%\n",
      "Backdoor Attack Success Rate: 95.55555555555556%\n",
      "Running experiment with poisoning_rate=0.1 and freq=24000\n",
      "Poisoning rate: 0.1, Frequency: 24000\n"
     ]
    },
    {
     "name": "stderr",
     "output_type": "stream",
     "text": [
      "Some weights of Wav2Vec2ForSequenceClassification were not initialized from the model checkpoint at jonatasgrosman/wav2vec2-large-xlsr-53-english and are newly initialized: ['classifier.bias', 'classifier.weight', 'projector.bias', 'projector.weight']\n",
      "You should probably TRAIN this model on a down-stream task to be able to use it for predictions and inference.\n"
     ]
    },
    {
     "name": "stdout",
     "output_type": "stream",
     "text": [
      "Playing clean audio 1\n"
     ]
    },
    {
     "data": {
      "text/html": [
       "\n",
       "                <audio  controls=\"controls\" >\n",
       "                    <source src=\"data:audio/wav;base64,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\" type=\"audio/wav\" />\n",
       "                    Your browser does not support the audio element.\n",
       "                </audio>\n",
       "              "
      ],
      "text/plain": [
       "<IPython.lib.display.Audio object>"
      ]
     },
     "metadata": {},
     "output_type": "display_data"
    },
    {
     "name": "stdout",
     "output_type": "stream",
     "text": [
      "Playing poisoned audio 1\n"
     ]
    },
    {
     "data": {
      "text/html": [
       "\n",
       "                <audio  controls=\"controls\" >\n",
       "                    <source src=\"data:audio/wav;base64,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\" type=\"audio/wav\" />\n",
       "                    Your browser does not support the audio element.\n",
       "                </audio>\n",
       "              "
      ],
      "text/plain": [
       "<IPython.lib.display.Audio object>"
      ]
     },
     "metadata": {},
     "output_type": "display_data"
    },
    {
     "name": "stdout",
     "output_type": "stream",
     "text": [
      "Playing clean audio 2\n"
     ]
    },
    {
     "data": {
      "text/html": [
       "\n",
       "                <audio  controls=\"controls\" >\n",
       "                    <source src=\"data:audio/wav;base64,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\" type=\"audio/wav\" />\n",
       "                    Your browser does not support the audio element.\n",
       "                </audio>\n",
       "              "
      ],
      "text/plain": [
       "<IPython.lib.display.Audio object>"
      ]
     },
     "metadata": {},
     "output_type": "display_data"
    },
    {
     "name": "stdout",
     "output_type": "stream",
     "text": [
      "Playing poisoned audio 2\n"
     ]
    },
    {
     "data": {
      "text/html": [
       "\n",
       "                <audio  controls=\"controls\" >\n",
       "                    <source src=\"data:audio/wav;base64,UklGRswUAABXQVZFZm10IBAAAAABAAEAQB8AAIA+AAACABAAZGF0YagUAABa/lYQJRwNJCEp7CK0HjIN2wI77DzoJdbT3DDWvena6T8IgQaPJA0dqjCVG+ImoAMRC0nkre/9zUTlysxx8rTiIQ8dAaIroxUXOdwTii0S/b4Qm91x9gPHt+v9xsH4jNyHFpT57TMfDig/iA0GM/r1Jhj/1ev7CMG08b7A3f9f1focpvReOLII9ESiBoU4+PBEG6nRagGau8/3yLwvBFDTsyIp8P4+gAVMSWUDKD2c61ghksxlBRW3rvyft0UJL85ZJlfsPkJ/ACZM2/7+PhvniCJ+x3oG57Ii/Ai05wmTypwnAerEQx//6E4K/RtDr+aZJuTImAtLtGoCFrZnDxzNcizS6tBHGf7xUFD8pEKr5GglYsZ4Cn2zrwDjtccOJ83JKr3nnUIR/ndKJPdLPEnHngNSqJ3mPaCy9pqmCAiu04w04vBhUjUPa2AwCTtIu/PoL/PLxAhKvo0Cn7/zEV/hLDn0AlBVnB/OYEkVJk5F/m8sn9r1DyLERAe6wG/287J9GGLREgTi3AwVE9uBB6bDD/W1xovnRrZwAWDUdxfw9Eo7ZR0OTrwZ81GIED4t3Oo4CGnJsOj2s5vmRs3P/Y7u6zH9Ic9QeDhHYPU120YvE2wiguyo+MbQm+sY0t/xg9RE5Mztkgsc2jEBjO1S9qXVZN/bxoLf4stB2W/rkgd6Aw0jjS9nOTI7oTNOJCAiuP9s6mbgEdWHxX7Ottpe64sGWxTdNr1BxEweSUdQ3jQNL1MPwweX7FHtM9lR9cLTdM792ZYK4Muz7Dvpu/iy1QfiVcVN6GzLydj919QR7fKzJcEbm1MxKsRL1iGHPLj+nAXl0Y/skrBu0WCzfPJo0Q0bbwgQVnAx1GZyPixrtCLNQEH9ZhzG0cz9RsO2AWfL4/MerbcYqd7i7eTLKRZrxR/wS7NI9b60kvn8tPgbQ+/dMpwCjWI0JfRVAhBuSm/rNBvBuCT3eqRL5LabRP/ZzAQjVvq5Y6IonXlQLml3ZR3mT6vp6yg1yUcFz7dsCw3F+xm/tgcB5+L5JWmnnAwxzY4AMJep9I2qGvo+s/ANJODrScL+alpyI2J2KwUsThryuiE5tnf0RZ1/5dqZUfLWvzItqu2dV1Um/3+ZLI54kx9+VMDxjCRjxjcKWbd8BlzFBh8v5W8mwcgSIMnm3g7PpCv6lbSs4CGPNOaYs/ECyc5iLEoJc19cIABnximuXlv3FCD90yT1353G1vygreLltkcMSeyIRJcdk2G2Ns9vwyqmSwoJFCaL3EsBQMjF/OHQpw7I8o0tQAl4R437nPaz7OsGLqNBvP+m19J7ljbRi8qvBHwBMC5tIwpVBkETTRodbjlwAqL3IMmE3IC6dsuDwjnk5OikECwOXDGHMP9DLSvJNUkhbhsgBK4BE/LU9Nj0Yv4CAEcVnxqKItAj1B5pFQgPgPwHvZWyoNAhxFWXVbfu31n0f+ScCMcQ3ykRIIAkowVRGS8J9gQf3+L97e2S+oTgpgZ89X4U0fjPEIXzXxTs7jADNeI8Cu/oYg4y9Gsozw33PY0bOUEuF989zgC0G8nlgwg3zk30d8Ig+IHYZBOGzFn3R+UQMnjhNP3P0CcRTssB7gKqdOqiw7oNbc/6Frv7x1ZJG5dVDhPvT+r9KSRTxVzxrqUR4cyUSt2BryISEOPXPl4OHmjLKhNvihimUZz4kitBxgT8lKqU+tS0iQrIz6YxIfmuT54G41TiBXFJe9a0/MaWrOdMlmzT7IY06da2Ah4d3U85MPeSWpEPR06/7N4yu94qI1TE9AcjsjgLLMa/GhDOqyXW4Ss3oud8MfPcdCn02EsjRdB0IWrbZTMn7qpDF/ytTTv/XEGD6XIqMtFhDlS7VwYGwC4QEM+ZJhTrjUJnBc9Fd+8nKL/Tig8atTjk3JOG0ySbQulctKEKeOQGROYZhGKUJipfCRpwRRXvSQs0sy/lk6MK2a2nN+q6yVIcpQAAR48Z6VTmIqFKFgp1JbrgVgJ6zLr3D8oP+8remRno/fUvqwyaNc0K/yp8++oQZOHW+8vXT/r43roE6u+/EV/4ChYW8wMFh+kF93HUcd/txQvcEs4F7T7t2wyiEYUzoTATQs4zFzKHEtAILu5m3XTFZ8IVvbLIwdjl70UFWAxeFiMbYhtcHBkapBKCDRsJzwJr+8b2TvWc9en4a/uQ+tj7CASTCngM/w0yEHsRRhJMEV0OfwgoBHECw/wz92buieUu3yHZK9oo4Oji0uZW7rz1Rf9fCBgPuBRJF8EYCRrhFb8QAAvfAtj7y/WA79ntSOsk6VLsMPJs+HT/nwXlDOMSRRV0FQYVwxKMDtcJugNtACH95Pnz+dT5qvsfAJsDvgXOBe0FtwmRDdUMvAtkCq0IyAaPBXYEXAMjAgQCgQKgAoECwv+m9mno4dv22hPhWuUa6Izqcewm8d76swdxEH8TlBIMFOcUFhUQFiETqAl7+7L0Y/Ts8g3wB/Eh8n7yTvWe/YoGfQtyDWcP5A//DdANqw5uC6UEav5G/Bf87vqq++L8j/0b/qwASwb8CAsJjggRCF8I4geOCJ4I/QUeA3cB1QHAAoECFALAAtkDPAbHCRUKsALB9Azl+tyb3yHkmOgJ623q+uo28R37ZQeGD9kRWxFCEJsOvxAxE1YSTgu4/s3yHe3z7qjzFPdi9yT3gfcC/UsGExCoFG8TZw94DI0LywtkCtIHewMx/Wz47/cN+w8AUgJcA7ACNwSUB+YJjQusC8cJHAZMA7ACygPfAtsAg//2/tsA8wS9COUMWAyfBen4rOqK4tPjp+hC7BPsM+yL7VvwcvcEAvUMFxLkD4INYg2bDoYPZw/GDHAFa/uy9I7yIfLo8Evw0vFt9V34DP6ABdsLXQ6xDZcM3w1DDZ0LvQhRBZYBrv02/M39k/9k/3T/XQCwAjIFngjBCngMCgx5CeIHZQeEB3oG+QPqACX/hfwn/Jn+PgApARQCXANBBYkJPQ6nDCkBGO6r343cxeC857DsCO4t7Yfr4+5H+a0IEhONFs0T2g7VDD0OzxDJEQoM+gBU9FjrmOh365/vmPP69ZH3mvugArYMRRWxGFkXQBMeDhALRAqYCZQHFAJG/Bj5tfkh/dsAmwNmBBgE2QPzBL0IlwwUDXMKEgUKAef+9v7x/wAAdP91/O762PtOAJ8FrQitCCEItATy/Erzu+oG5tznH+oE7Hbu8+7D8dX2/P39BSQNExCQEOkOFA22DPoLeQmfBbL/tfkK9qL0iPNP8jrzjfWv+j4ArwUfC6UP5A89DmgMbgvmCVUH/gI+AL79ufvo+wz+5QHpA3YEAwUHByEI1wkrCfIHYAVxAvH/g//qAOH/uP4n/A37e/sR/YP/kQLpA6UE1AT9BZgJgg2/ECwRtwmY883Zs81i02fg4Onf7HbuivBK8+L8CQ9RHk4kqhwdET8LNQpeCwQN9gkAAKPxdOZP597vkvSN9dX2dvlU/9gG8w/qGTEe1hcEDd4F6QN7A+oAw/wD+mj25vPG9rj+9wbmCREInwVqBoQHaQmDCnMKuQbC/1H6hvnJ+wz+DP7T/Cv+nACgAvkDjwXIBqkGuQZLBkAI9gm5BqT8ivBf5xPhCeAC5AnrJvHH8wT3/P1/CHYPyBR0FVATdg8lCpQHFwfUBPoATPu29hD1d/aB97z1YveF/NUBvgW9CPoLYg0QCyYHEgXpAzMCg//i/LT8F/y/+sn7k//+AsoDLQNcA0sGbwjSBzYHuQY3BJwAO/4AAB4DNwSRAjgBHwAPAAb/nAClBEYHLAb5A/QBiwMHBz8LexFlEmYEVebszgLLJti856nw2/V8+P/3E/ocBgUYMyZzI3kUZQdSAmICIgXeBS0DXfiM6vzkbO2U/EYHigYx/dX20PfbANsL3RMSE0oJw/yN9fn4+gADBc8CVvy89dH0qvv3BgMQExARCNL/Ef0zAnkJtgwQC6oDv/qB9wf8nwVJDGQK6QNA/Uz7Jf/3BjkMAAt7A7/6Cfkl/2kJGA8vC+L8kewj4e/eO+Un7vbzkvRP8gb08vxKCbgUlxdFFacMAwWmAaoD2AYiBdf+CvYX8eLxCvY4+Rf84f/qAOoAQgKZBusLlwxfCFwDwv8R/YX8J/x//fz9hfzo+2r+mwNLBtIHEQi9CJ4IBweKBg0GpQS2AVr+tPye/XT/4f84AYECLQMUAtUBUQX8CCsJ3gWbAz0DYAUbCVcPhRK5BtznzM7PyPTSI+Fm7mf5wv9//Yr7lAfFGvUlJSNqFO0FHfuy9O/3fQAUAqX5M+xE6fLxqP4VCqQS9xTQDVYETPtD9+76rv1g/e76FPfl9nX8QgL8CAoMfwi0BN8C+QNlB80I4gfeBX0ATPu5+9f+CASZBmYEsALFAbAC9wbHCXMK0gf0AUD9w/zD/Jn+bQC7AF0AuwBIAWwDygPqAGf5Qe+y5iHkjed27jn26Pu4/j4AcQLIBl4LDg5iDZgJKAR5/uL8Av0r/qT8r/r5+Jv4ufvbACYHtwlaCbkGKARxArYBewNMA/oASv6q+8n7Sv5nAfkDgAU3BKACkQIIBEsGqQbjBIECif6k/Of+OAG0BHoGHAabA6wAJf8fAPQB1QHlAaYBKQH6ALACjwWzB/IH2AZxAiz7He1i3lragt4g51T0HwCzBzAIVQc6CawLXgvrC60IjACh94jzCvYN+z4ARwQNBj0DZwHZAxEIXguXDEQKxATE+WbuLe3Y8NX2o//EBA0GewPvAiIF6AaZBiYHmwPs/bX5xPkR/WICgAXsCPwI1AQyBQ0G4gdKCQYKQAg9A579zvqQ+tT5tPzS/+oA5QEOA+MEPAZbBvMEBAL8/Uz7E/qB9xD1LPD065brJ+6Y85r75QE8BqMHigZBBVEF1ATZA4cBj/0y+v/3Xfh1/GcBcAXSB/IHmQYcBr4FNgdlB3oGhQT6AFr+K/5k/4cBXAMYBJEC+gBU/6P/ZwHfAsoDZwEM/jz7oPrJ+0r+jACHAUICUgIjAtkDpQR6Bo8F7wIPAAz+B/z8/foAkQIOA4EClgHI/p79B/zz+dD38PTs8qPxt/Mk9zz79v4UAjMCpgE4AVgBdwHVAcACdwEfAPH/jACMAA4DYgK0/KT8r/qG+ZP/XAMXB+YJngiABR4DRf+j/3T/dP99APb+o/8pAVIClQSUB+gGuQY3BKwAdP+4/h8AOAFSAv4CwAIEAs8CTANiAkgBBv9G/Af8pPyy/0ICPQOqA4ECuwBnAXECLAYhCEwDDvig7Fbjq98q6CX0sv9ECgoMIQibA1T/Jf8UAigE2QOsAEb8Hviw96D6WAHYBh8LHwtQCGAFYgIEAh8Aj/0x/Yz4l/Y9+Bj51/4YBHAFuQYsBssABv+0/Mn7nv1q/j4AIwJCAsAC+QPZAzYH9wbSB1UH1AQtA98CkQIeA6oDDgNSAnT/O/4h/eL8av5//Xn+o//S/20A5QGmAXsDNwQeA7YBvv1h+vn4sPfQ94z4fPjp+Nr4lvki+iz7pPwM/mr+5/7X/uf+Sv7X/oP/o/9YASkBHgN7AzcElQTUBM4F7QXOBe0FAwUSBZsDiwOBAmICtgHLAJwAdP9tAOH/ZP+D/xb/3f3s/WD90/w7/iX/nADAArACYgIEAm0AdwGWAYcBzwIjAnECnACo/sj+Fv/S/2ICkQLfAlICo/++/Y/9B/yk/JT8qvuK++76Z/l2+Xb5A/p7+yf8K/7I/qj+PgDn/gb/ZP9F/xkBCgEZAaACoAI9AwMFdgRmBBgELQNHBD0DewMoBMoDLQO6AwQCxQHFAX0AbQAfAKP/9v6Z/vz97P07/mr+0v9dAF0ATgDS/0r+O/6J/iX/fQA4ARQCBAJnARkBDwBU/wAA4f8ZARQCSAHLAOf+3f2Z/tf+qP50/0X/O/7N/UD9Zfzd/TH9b/0l/2X8Ef34+4D6ivuF/Er+rADbAEICxQF9ALsADwCsAHECIwKLAy0DcQIUAmcB2wApAawAywBCApYBzwKwApYBUgLqAD4AAAD2/rj+ef55/oP/6gD6AAQCuwBdAML/4f/X/oP/Bv9OAKP/wv/S/9L/AAD6ANsAuwCsAGr+O/7s/VT/8f8KAfQBIwLVAU4AFv++/c399v4PADgBxQEpAbsAk//I/lr+nv1K/s39DP7X/nn+av5F/5P/sv/qADgBSAEEArsAnABOALL/SAHLADgBpgEZAcsAnAAPAC4AywDLAMUB9AF3AVgB4f8l/zv+av7X/rL/fQCHAaYB5QGHAZwAfQAfAG0A4f+D/xb/Fv+4/rj+9v6J/lr+9v6J/tL/ywAUAosDKARmBM8CdwHx/xb/YP0x/QL9if6D/y4A+gDbADgB6gC7AOoAywDh/6P/7P1W/Af8PPuk/BH99v5F/6P/Bv81/xb/dP+cAJwApgGBAnEC5QFIAQAAwv/C/5P/k//h/04AbQDx/3T/Fv8W/5n+ZP/S/30A6gBYAfoA8f95/uz9K/5q/gAAGQFSAqAC9AFYAXcBrACmAdsAGQH6AAoBuwAuAJP/9v6Z/lr+Fv+T/7L/AAAAAB8ATgDS/y4A0v/C/x8ARf+o/sj+Bv9F/20ArAAKAQoBXQAPAOf+3f2J/kr+k/9dAKwAjADqAAAAuP4M/o/9if6T/z4AOAGHARkBXQDS//b+ZP90/wAA6gDVAUICcQKWAQoBXQAPACX/Sv4W/zX/Rf8uAAAAk/8G//z9Sv7d/Vr+o/8AACkBWAFxAsUBtgFIARkBrABdAH0AnACsAMsADwCT/+H/4f9k/+H/TgDLAMsAuwCj/xb/G/7d/WD9j/3N/TX/o//C/w8Ag//C/+H/DwBF/4P/Jf8PAMsAGQEZAfQBlgGmAeoA0v+T//b+k//C/8sAnAApAQoBDwDS/1T/mf6o/tf+k/8uANsASAEZARkBbQDx/6P/5/64/sL/XQA4ASkBFAKWARkBLgA1/6j+5/6j/5P/o/99APoA+gAZAZwAOAEuAOH/HwDS/10AHwC7AE4AjACy/4P/g/8W/+f+Rf/C/4wA2wC7AC4ADwCj/xb/dP9U/w8AHwCsAC4AZP+T/3T/0v/h/10A+gDbAA==\" type=\"audio/wav\" />\n",
       "                    Your browser does not support the audio element.\n",
       "                </audio>\n",
       "              "
      ],
      "text/plain": [
       "<IPython.lib.display.Audio object>"
      ]
     },
     "metadata": {},
     "output_type": "display_data"
    },
    {
     "name": "stderr",
     "output_type": "stream",
     "text": [
      "100%|██████████| 600/600 [01:30<00:00,  6.61it/s]\n"
     ]
    },
    {
     "name": "stdout",
     "output_type": "stream",
     "text": [
      "Epoch 0, Loss: 1.935862094561259\n"
     ]
    },
    {
     "name": "stderr",
     "output_type": "stream",
     "text": [
      "100%|██████████| 600/600 [01:30<00:00,  6.63it/s]\n"
     ]
    },
    {
     "name": "stdout",
     "output_type": "stream",
     "text": [
      "Epoch 1, Loss: 1.517033390402794\n"
     ]
    },
    {
     "name": "stderr",
     "output_type": "stream",
     "text": [
      "100%|██████████| 600/600 [01:30<00:00,  6.61it/s]\n"
     ]
    },
    {
     "name": "stdout",
     "output_type": "stream",
     "text": [
      "Epoch 2, Loss: 1.0261881331230203\n",
      "Test Accuracy: 94.0%\n",
      "528\n",
      "540\n",
      "ASR: 97.77777777777777%\n",
      "Clean Accuracy Drop (CAD): 5.0%\n",
      "Backdoor Attack Success Rate: 97.77777777777777%\n"
     ]
    }
   ],
   "source": [
    "poisoning_rates = [0.01, 0.05, 0.1]  \n",
    "frequencies = [1000, 10000, 24000]  \n",
    "\n",
    "results = []\n",
    "\n",
    "for poisoning_rate, freq in product(poisoning_rates, frequencies):\n",
    "    print(f\"Running experiment with poisoning_rate={poisoning_rate} and freq={freq}\")\n",
    "    backdoor_accuracy, backdoor_attack_success_rate, accuracy_drop = backdoor_attack_and_eval_wav2vec2(poisoning_rate, freq)\n",
    "        \n",
    "    clean_accuracy_after = backdoor_accuracy\n",
    "\n",
    "    results.append({\n",
    "        'poisoning_rate': poisoning_rate,\n",
    "        'frequency': freq,\n",
    "        'backdoor_success_rate': backdoor_attack_success_rate,\n",
    "        'clean_accuracy_after': clean_accuracy_after,\n",
    "        'clean_accuracy_drop': clean_accuracy - clean_accuracy_after\n",
    "    })\n",
    "\n",
    "# print(results_df)"
   ]
  },
  {
   "cell_type": "code",
   "execution_count": 14,
   "id": "519a2ad3",
   "metadata": {
    "execution": {
     "iopub.execute_input": "2024-11-25T16:48:04.830077Z",
     "iopub.status.busy": "2024-11-25T16:48:04.829720Z",
     "iopub.status.idle": "2024-11-25T16:48:04.834960Z",
     "shell.execute_reply": "2024-11-25T16:48:04.834245Z"
    },
    "papermill": {
     "duration": 0.769208,
     "end_time": "2024-11-25T16:48:04.836554",
     "exception": false,
     "start_time": "2024-11-25T16:48:04.067346",
     "status": "completed"
    },
    "tags": []
   },
   "outputs": [],
   "source": [
    "results_df = pd.DataFrame(results)"
   ]
  },
  {
   "cell_type": "code",
   "execution_count": 15,
   "id": "1dc6b48f",
   "metadata": {
    "execution": {
     "iopub.execute_input": "2024-11-25T16:48:06.467319Z",
     "iopub.status.busy": "2024-11-25T16:48:06.466972Z",
     "iopub.status.idle": "2024-11-25T16:48:06.482010Z",
     "shell.execute_reply": "2024-11-25T16:48:06.481185Z"
    },
    "papermill": {
     "duration": 0.835631,
     "end_time": "2024-11-25T16:48:06.483653",
     "exception": false,
     "start_time": "2024-11-25T16:48:05.648022",
     "status": "completed"
    },
    "tags": []
   },
   "outputs": [
    {
     "data": {
      "text/html": [
       "<div>\n",
       "<style scoped>\n",
       "    .dataframe tbody tr th:only-of-type {\n",
       "        vertical-align: middle;\n",
       "    }\n",
       "\n",
       "    .dataframe tbody tr th {\n",
       "        vertical-align: top;\n",
       "    }\n",
       "\n",
       "    .dataframe thead th {\n",
       "        text-align: right;\n",
       "    }\n",
       "</style>\n",
       "<table border=\"1\" class=\"dataframe\">\n",
       "  <thead>\n",
       "    <tr style=\"text-align: right;\">\n",
       "      <th></th>\n",
       "      <th>poisoning_rate</th>\n",
       "      <th>frequency</th>\n",
       "      <th>backdoor_success_rate</th>\n",
       "      <th>clean_accuracy_after</th>\n",
       "      <th>clean_accuracy_drop</th>\n",
       "    </tr>\n",
       "  </thead>\n",
       "  <tbody>\n",
       "    <tr>\n",
       "      <th>0</th>\n",
       "      <td>0.01</td>\n",
       "      <td>1000</td>\n",
       "      <td>0.000000</td>\n",
       "      <td>98.833333</td>\n",
       "      <td>0.166667</td>\n",
       "    </tr>\n",
       "    <tr>\n",
       "      <th>1</th>\n",
       "      <td>0.01</td>\n",
       "      <td>10000</td>\n",
       "      <td>2.592593</td>\n",
       "      <td>97.166667</td>\n",
       "      <td>1.833333</td>\n",
       "    </tr>\n",
       "    <tr>\n",
       "      <th>2</th>\n",
       "      <td>0.01</td>\n",
       "      <td>24000</td>\n",
       "      <td>0.000000</td>\n",
       "      <td>98.333333</td>\n",
       "      <td>0.666667</td>\n",
       "    </tr>\n",
       "    <tr>\n",
       "      <th>3</th>\n",
       "      <td>0.05</td>\n",
       "      <td>1000</td>\n",
       "      <td>28.888889</td>\n",
       "      <td>99.166667</td>\n",
       "      <td>-0.166667</td>\n",
       "    </tr>\n",
       "    <tr>\n",
       "      <th>4</th>\n",
       "      <td>0.05</td>\n",
       "      <td>10000</td>\n",
       "      <td>82.777778</td>\n",
       "      <td>98.166667</td>\n",
       "      <td>0.833333</td>\n",
       "    </tr>\n",
       "    <tr>\n",
       "      <th>5</th>\n",
       "      <td>0.05</td>\n",
       "      <td>24000</td>\n",
       "      <td>85.925926</td>\n",
       "      <td>97.500000</td>\n",
       "      <td>1.500000</td>\n",
       "    </tr>\n",
       "    <tr>\n",
       "      <th>6</th>\n",
       "      <td>0.10</td>\n",
       "      <td>1000</td>\n",
       "      <td>86.481481</td>\n",
       "      <td>95.833333</td>\n",
       "      <td>3.166667</td>\n",
       "    </tr>\n",
       "    <tr>\n",
       "      <th>7</th>\n",
       "      <td>0.10</td>\n",
       "      <td>10000</td>\n",
       "      <td>95.555556</td>\n",
       "      <td>94.000000</td>\n",
       "      <td>5.000000</td>\n",
       "    </tr>\n",
       "    <tr>\n",
       "      <th>8</th>\n",
       "      <td>0.10</td>\n",
       "      <td>24000</td>\n",
       "      <td>97.777778</td>\n",
       "      <td>94.000000</td>\n",
       "      <td>5.000000</td>\n",
       "    </tr>\n",
       "  </tbody>\n",
       "</table>\n",
       "</div>"
      ],
      "text/plain": [
       "   poisoning_rate  frequency  backdoor_success_rate  clean_accuracy_after  \\\n",
       "0            0.01       1000               0.000000             98.833333   \n",
       "1            0.01      10000               2.592593             97.166667   \n",
       "2            0.01      24000               0.000000             98.333333   \n",
       "3            0.05       1000              28.888889             99.166667   \n",
       "4            0.05      10000              82.777778             98.166667   \n",
       "5            0.05      24000              85.925926             97.500000   \n",
       "6            0.10       1000              86.481481             95.833333   \n",
       "7            0.10      10000              95.555556             94.000000   \n",
       "8            0.10      24000              97.777778             94.000000   \n",
       "\n",
       "   clean_accuracy_drop  \n",
       "0             0.166667  \n",
       "1             1.833333  \n",
       "2             0.666667  \n",
       "3            -0.166667  \n",
       "4             0.833333  \n",
       "5             1.500000  \n",
       "6             3.166667  \n",
       "7             5.000000  \n",
       "8             5.000000  "
      ]
     },
     "execution_count": 15,
     "metadata": {},
     "output_type": "execute_result"
    }
   ],
   "source": [
    "results_df"
   ]
  },
  {
   "cell_type": "code",
   "execution_count": 16,
   "id": "5d5396d3",
   "metadata": {
    "execution": {
     "iopub.execute_input": "2024-11-25T16:48:08.054543Z",
     "iopub.status.busy": "2024-11-25T16:48:08.054172Z",
     "iopub.status.idle": "2024-11-25T16:48:08.062166Z",
     "shell.execute_reply": "2024-11-25T16:48:08.061251Z"
    },
    "papermill": {
     "duration": 0.813698,
     "end_time": "2024-11-25T16:48:08.063832",
     "exception": false,
     "start_time": "2024-11-25T16:48:07.250134",
     "status": "completed"
    },
    "tags": []
   },
   "outputs": [],
   "source": [
    "results_df.to_csv('Wav2Vec2-SD-BKDR-0.05.csv', sep='\\t', index=False)"
   ]
  },
  {
   "cell_type": "code",
   "execution_count": null,
   "id": "b8ad1b7b",
   "metadata": {
    "papermill": {
     "duration": 0.849453,
     "end_time": "2024-11-25T16:48:09.717372",
     "exception": false,
     "start_time": "2024-11-25T16:48:08.867919",
     "status": "completed"
    },
    "tags": []
   },
   "outputs": [],
   "source": []
  }
 ],
 "metadata": {
  "kaggle": {
   "accelerator": "gpu",
   "dataSources": [
    {
     "datasetId": 5789127,
     "sourceId": 9510683,
     "sourceType": "datasetVersion"
    }
   ],
   "isGpuEnabled": true,
   "isInternetEnabled": true,
   "language": "python",
   "sourceType": "notebook"
  },
  "kernelspec": {
   "display_name": "Python 3",
   "language": "python",
   "name": "python3"
  },
  "language_info": {
   "codemirror_mode": {
    "name": "ipython",
    "version": 3
   },
   "file_extension": ".py",
   "mimetype": "text/x-python",
   "name": "python",
   "nbconvert_exporter": "python",
   "pygments_lexer": "ipython3",
   "version": "3.10.14"
  },
  "papermill": {
   "default_parameters": {},
   "duration": 2962.474966,
   "end_time": "2024-11-25T16:48:14.096089",
   "environment_variables": {},
   "exception": null,
   "input_path": "__notebook__.ipynb",
   "output_path": "__notebook__.ipynb",
   "parameters": {},
   "start_time": "2024-11-25T15:58:51.621123",
   "version": "2.6.0"
  },
  "widgets": {
   "application/vnd.jupyter.widget-state+json": {
    "state": {
     "0258cfb60930457d889dc4fa94527215": {
      "model_module": "@jupyter-widgets/base",
      "model_module_version": "1.2.0",
      "model_name": "LayoutModel",
      "state": {
       "_model_module": "@jupyter-widgets/base",
       "_model_module_version": "1.2.0",
       "_model_name": "LayoutModel",
       "_view_count": null,
       "_view_module": "@jupyter-widgets/base",
       "_view_module_version": "1.2.0",
       "_view_name": "LayoutView",
       "align_content": null,
       "align_items": null,
       "align_self": null,
       "border": null,
       "bottom": null,
       "display": null,
       "flex": null,
       "flex_flow": null,
       "grid_area": null,
       "grid_auto_columns": null,
       "grid_auto_flow": null,
       "grid_auto_rows": null,
       "grid_column": null,
       "grid_gap": null,
       "grid_row": null,
       "grid_template_areas": null,
       "grid_template_columns": null,
       "grid_template_rows": null,
       "height": null,
       "justify_content": null,
       "justify_items": null,
       "left": null,
       "margin": null,
       "max_height": null,
       "max_width": null,
       "min_height": null,
       "min_width": null,
       "object_fit": null,
       "object_position": null,
       "order": null,
       "overflow": null,
       "overflow_x": null,
       "overflow_y": null,
       "padding": null,
       "right": null,
       "top": null,
       "visibility": null,
       "width": null
      }
     },
     "044cf38d007d423fa9564cdc3028a2b0": {
      "model_module": "@jupyter-widgets/controls",
      "model_module_version": "1.5.0",
      "model_name": "DescriptionStyleModel",
      "state": {
       "_model_module": "@jupyter-widgets/controls",
       "_model_module_version": "1.5.0",
       "_model_name": "DescriptionStyleModel",
       "_view_count": null,
       "_view_module": "@jupyter-widgets/base",
       "_view_module_version": "1.2.0",
       "_view_name": "StyleView",
       "description_width": ""
      }
     },
     "04fd3e57f7b8433e938a1ca3b3cae64a": {
      "model_module": "@jupyter-widgets/base",
      "model_module_version": "1.2.0",
      "model_name": "LayoutModel",
      "state": {
       "_model_module": "@jupyter-widgets/base",
       "_model_module_version": "1.2.0",
       "_model_name": "LayoutModel",
       "_view_count": null,
       "_view_module": "@jupyter-widgets/base",
       "_view_module_version": "1.2.0",
       "_view_name": "LayoutView",
       "align_content": null,
       "align_items": null,
       "align_self": null,
       "border": null,
       "bottom": null,
       "display": null,
       "flex": null,
       "flex_flow": null,
       "grid_area": null,
       "grid_auto_columns": null,
       "grid_auto_flow": null,
       "grid_auto_rows": null,
       "grid_column": null,
       "grid_gap": null,
       "grid_row": null,
       "grid_template_areas": null,
       "grid_template_columns": null,
       "grid_template_rows": null,
       "height": null,
       "justify_content": null,
       "justify_items": null,
       "left": null,
       "margin": null,
       "max_height": null,
       "max_width": null,
       "min_height": null,
       "min_width": null,
       "object_fit": null,
       "object_position": null,
       "order": null,
       "overflow": null,
       "overflow_x": null,
       "overflow_y": null,
       "padding": null,
       "right": null,
       "top": null,
       "visibility": null,
       "width": null
      }
     },
     "05867b882b7b4ba8ab6054f23b3d07a3": {
      "model_module": "@jupyter-widgets/base",
      "model_module_version": "1.2.0",
      "model_name": "LayoutModel",
      "state": {
       "_model_module": "@jupyter-widgets/base",
       "_model_module_version": "1.2.0",
       "_model_name": "LayoutModel",
       "_view_count": null,
       "_view_module": "@jupyter-widgets/base",
       "_view_module_version": "1.2.0",
       "_view_name": "LayoutView",
       "align_content": null,
       "align_items": null,
       "align_self": null,
       "border": null,
       "bottom": null,
       "display": null,
       "flex": null,
       "flex_flow": null,
       "grid_area": null,
       "grid_auto_columns": null,
       "grid_auto_flow": null,
       "grid_auto_rows": null,
       "grid_column": null,
       "grid_gap": null,
       "grid_row": null,
       "grid_template_areas": null,
       "grid_template_columns": null,
       "grid_template_rows": null,
       "height": null,
       "justify_content": null,
       "justify_items": null,
       "left": null,
       "margin": null,
       "max_height": null,
       "max_width": null,
       "min_height": null,
       "min_width": null,
       "object_fit": null,
       "object_position": null,
       "order": null,
       "overflow": null,
       "overflow_x": null,
       "overflow_y": null,
       "padding": null,
       "right": null,
       "top": null,
       "visibility": null,
       "width": null
      }
     },
     "058c96a763654191a2a5383d395b07f3": {
      "model_module": "@jupyter-widgets/base",
      "model_module_version": "1.2.0",
      "model_name": "LayoutModel",
      "state": {
       "_model_module": "@jupyter-widgets/base",
       "_model_module_version": "1.2.0",
       "_model_name": "LayoutModel",
       "_view_count": null,
       "_view_module": "@jupyter-widgets/base",
       "_view_module_version": "1.2.0",
       "_view_name": "LayoutView",
       "align_content": null,
       "align_items": null,
       "align_self": null,
       "border": null,
       "bottom": null,
       "display": null,
       "flex": null,
       "flex_flow": null,
       "grid_area": null,
       "grid_auto_columns": null,
       "grid_auto_flow": null,
       "grid_auto_rows": null,
       "grid_column": null,
       "grid_gap": null,
       "grid_row": null,
       "grid_template_areas": null,
       "grid_template_columns": null,
       "grid_template_rows": null,
       "height": null,
       "justify_content": null,
       "justify_items": null,
       "left": null,
       "margin": null,
       "max_height": null,
       "max_width": null,
       "min_height": null,
       "min_width": null,
       "object_fit": null,
       "object_position": null,
       "order": null,
       "overflow": null,
       "overflow_x": null,
       "overflow_y": null,
       "padding": null,
       "right": null,
       "top": null,
       "visibility": null,
       "width": null
      }
     },
     "0855d249f4fa4e2b87e7a83fd7cd6075": {
      "model_module": "@jupyter-widgets/controls",
      "model_module_version": "1.5.0",
      "model_name": "DescriptionStyleModel",
      "state": {
       "_model_module": "@jupyter-widgets/controls",
       "_model_module_version": "1.5.0",
       "_model_name": "DescriptionStyleModel",
       "_view_count": null,
       "_view_module": "@jupyter-widgets/base",
       "_view_module_version": "1.2.0",
       "_view_name": "StyleView",
       "description_width": ""
      }
     },
     "08cd0d70cf3b40d7ac5f7c74d1aa817c": {
      "model_module": "@jupyter-widgets/controls",
      "model_module_version": "1.5.0",
      "model_name": "FloatProgressModel",
      "state": {
       "_dom_classes": [],
       "_model_module": "@jupyter-widgets/controls",
       "_model_module_version": "1.5.0",
       "_model_name": "FloatProgressModel",
       "_view_count": null,
       "_view_module": "@jupyter-widgets/controls",
       "_view_module_version": "1.5.0",
       "_view_name": "ProgressView",
       "bar_style": "success",
       "description": "",
       "description_tooltip": null,
       "layout": "IPY_MODEL_16a1567457144e8d8a4f1cff4387499f",
       "max": 262.0,
       "min": 0.0,
       "orientation": "horizontal",
       "style": "IPY_MODEL_804957979021496a991f3d6f40460937",
       "value": 262.0
      }
     },
     "16a1567457144e8d8a4f1cff4387499f": {
      "model_module": "@jupyter-widgets/base",
      "model_module_version": "1.2.0",
      "model_name": "LayoutModel",
      "state": {
       "_model_module": "@jupyter-widgets/base",
       "_model_module_version": "1.2.0",
       "_model_name": "LayoutModel",
       "_view_count": null,
       "_view_module": "@jupyter-widgets/base",
       "_view_module_version": "1.2.0",
       "_view_name": "LayoutView",
       "align_content": null,
       "align_items": null,
       "align_self": null,
       "border": null,
       "bottom": null,
       "display": null,
       "flex": null,
       "flex_flow": null,
       "grid_area": null,
       "grid_auto_columns": null,
       "grid_auto_flow": null,
       "grid_auto_rows": null,
       "grid_column": null,
       "grid_gap": null,
       "grid_row": null,
       "grid_template_areas": null,
       "grid_template_columns": null,
       "grid_template_rows": null,
       "height": null,
       "justify_content": null,
       "justify_items": null,
       "left": null,
       "margin": null,
       "max_height": null,
       "max_width": null,
       "min_height": null,
       "min_width": null,
       "object_fit": null,
       "object_position": null,
       "order": null,
       "overflow": null,
       "overflow_x": null,
       "overflow_y": null,
       "padding": null,
       "right": null,
       "top": null,
       "visibility": null,
       "width": null
      }
     },
     "17e2dc5059084da3bc382c475f58ff96": {
      "model_module": "@jupyter-widgets/base",
      "model_module_version": "1.2.0",
      "model_name": "LayoutModel",
      "state": {
       "_model_module": "@jupyter-widgets/base",
       "_model_module_version": "1.2.0",
       "_model_name": "LayoutModel",
       "_view_count": null,
       "_view_module": "@jupyter-widgets/base",
       "_view_module_version": "1.2.0",
       "_view_name": "LayoutView",
       "align_content": null,
       "align_items": null,
       "align_self": null,
       "border": null,
       "bottom": null,
       "display": null,
       "flex": null,
       "flex_flow": null,
       "grid_area": null,
       "grid_auto_columns": null,
       "grid_auto_flow": null,
       "grid_auto_rows": null,
       "grid_column": null,
       "grid_gap": null,
       "grid_row": null,
       "grid_template_areas": null,
       "grid_template_columns": null,
       "grid_template_rows": null,
       "height": null,
       "justify_content": null,
       "justify_items": null,
       "left": null,
       "margin": null,
       "max_height": null,
       "max_width": null,
       "min_height": null,
       "min_width": null,
       "object_fit": null,
       "object_position": null,
       "order": null,
       "overflow": null,
       "overflow_x": null,
       "overflow_y": null,
       "padding": null,
       "right": null,
       "top": null,
       "visibility": null,
       "width": null
      }
     },
     "19704f140f494132adac13c06c85c263": {
      "model_module": "@jupyter-widgets/controls",
      "model_module_version": "1.5.0",
      "model_name": "DescriptionStyleModel",
      "state": {
       "_model_module": "@jupyter-widgets/controls",
       "_model_module_version": "1.5.0",
       "_model_name": "DescriptionStyleModel",
       "_view_count": null,
       "_view_module": "@jupyter-widgets/base",
       "_view_module_version": "1.2.0",
       "_view_name": "StyleView",
       "description_width": ""
      }
     },
     "200d64c537434c3a9ac93de8befe875a": {
      "model_module": "@jupyter-widgets/controls",
      "model_module_version": "1.5.0",
      "model_name": "FloatProgressModel",
      "state": {
       "_dom_classes": [],
       "_model_module": "@jupyter-widgets/controls",
       "_model_module_version": "1.5.0",
       "_model_name": "FloatProgressModel",
       "_view_count": null,
       "_view_module": "@jupyter-widgets/controls",
       "_view_module_version": "1.5.0",
       "_view_name": "ProgressView",
       "bar_style": "success",
       "description": "",
       "description_tooltip": null,
       "layout": "IPY_MODEL_5a9aef3ecc4f4e30a6eaff5fb9866c6e",
       "max": 85.0,
       "min": 0.0,
       "orientation": "horizontal",
       "style": "IPY_MODEL_f1b950c74f2c4ecb87b5e962ca4efe20",
       "value": 85.0
      }
     },
     "21689f0e61c0422fbc628bd7cc18a25c": {
      "model_module": "@jupyter-widgets/base",
      "model_module_version": "1.2.0",
      "model_name": "LayoutModel",
      "state": {
       "_model_module": "@jupyter-widgets/base",
       "_model_module_version": "1.2.0",
       "_model_name": "LayoutModel",
       "_view_count": null,
       "_view_module": "@jupyter-widgets/base",
       "_view_module_version": "1.2.0",
       "_view_name": "LayoutView",
       "align_content": null,
       "align_items": null,
       "align_self": null,
       "border": null,
       "bottom": null,
       "display": null,
       "flex": null,
       "flex_flow": null,
       "grid_area": null,
       "grid_auto_columns": null,
       "grid_auto_flow": null,
       "grid_auto_rows": null,
       "grid_column": null,
       "grid_gap": null,
       "grid_row": null,
       "grid_template_areas": null,
       "grid_template_columns": null,
       "grid_template_rows": null,
       "height": null,
       "justify_content": null,
       "justify_items": null,
       "left": null,
       "margin": null,
       "max_height": null,
       "max_width": null,
       "min_height": null,
       "min_width": null,
       "object_fit": null,
       "object_position": null,
       "order": null,
       "overflow": null,
       "overflow_x": null,
       "overflow_y": null,
       "padding": null,
       "right": null,
       "top": null,
       "visibility": null,
       "width": null
      }
     },
     "25b010bc970849cb9d01ad445b848fa3": {
      "model_module": "@jupyter-widgets/controls",
      "model_module_version": "1.5.0",
      "model_name": "HTMLModel",
      "state": {
       "_dom_classes": [],
       "_model_module": "@jupyter-widgets/controls",
       "_model_module_version": "1.5.0",
       "_model_name": "HTMLModel",
       "_view_count": null,
       "_view_module": "@jupyter-widgets/controls",
       "_view_module_version": "1.5.0",
       "_view_name": "HTMLView",
       "description": "",
       "description_tooltip": null,
       "layout": "IPY_MODEL_8195b4ef627745458325b9ae42b914cc",
       "placeholder": "​",
       "style": "IPY_MODEL_044cf38d007d423fa9564cdc3028a2b0",
       "value": "config.json: 100%"
      }
     },
     "268b967dad744b94bfcaa7453d0bb3a4": {
      "model_module": "@jupyter-widgets/controls",
      "model_module_version": "1.5.0",
      "model_name": "DescriptionStyleModel",
      "state": {
       "_model_module": "@jupyter-widgets/controls",
       "_model_module_version": "1.5.0",
       "_model_name": "DescriptionStyleModel",
       "_view_count": null,
       "_view_module": "@jupyter-widgets/base",
       "_view_module_version": "1.2.0",
       "_view_name": "StyleView",
       "description_width": ""
      }
     },
     "2b6d6d9a55a54be492b64ff3da9221a6": {
      "model_module": "@jupyter-widgets/controls",
      "model_module_version": "1.5.0",
      "model_name": "HTMLModel",
      "state": {
       "_dom_classes": [],
       "_model_module": "@jupyter-widgets/controls",
       "_model_module_version": "1.5.0",
       "_model_name": "HTMLModel",
       "_view_count": null,
       "_view_module": "@jupyter-widgets/controls",
       "_view_module_version": "1.5.0",
       "_view_name": "HTMLView",
       "description": "",
       "description_tooltip": null,
       "layout": "IPY_MODEL_04fd3e57f7b8433e938a1ca3b3cae64a",
       "placeholder": "​",
       "style": "IPY_MODEL_e66b792d76754733b0958ae58257d1fa",
       "value": "special_tokens_map.json: 100%"
      }
     },
     "2b771efc0b874d63aa2c5d8f4cedbc22": {
      "model_module": "@jupyter-widgets/controls",
      "model_module_version": "1.5.0",
      "model_name": "HTMLModel",
      "state": {
       "_dom_classes": [],
       "_model_module": "@jupyter-widgets/controls",
       "_model_module_version": "1.5.0",
       "_model_name": "HTMLModel",
       "_view_count": null,
       "_view_module": "@jupyter-widgets/controls",
       "_view_module_version": "1.5.0",
       "_view_name": "HTMLView",
       "description": "",
       "description_tooltip": null,
       "layout": "IPY_MODEL_21689f0e61c0422fbc628bd7cc18a25c",
       "placeholder": "​",
       "style": "IPY_MODEL_7d00f7eb3f114275b419b70fc6da658c",
       "value": " 262/262 [00:00&lt;00:00, 25.9kB/s]"
      }
     },
     "373d01e1ac0649c2810b9f654f1e3239": {
      "model_module": "@jupyter-widgets/controls",
      "model_module_version": "1.5.0",
      "model_name": "ProgressStyleModel",
      "state": {
       "_model_module": "@jupyter-widgets/controls",
       "_model_module_version": "1.5.0",
       "_model_name": "ProgressStyleModel",
       "_view_count": null,
       "_view_module": "@jupyter-widgets/base",
       "_view_module_version": "1.2.0",
       "_view_name": "StyleView",
       "bar_color": null,
       "description_width": ""
      }
     },
     "454517c1140a45bdb27bafea54b3d167": {
      "model_module": "@jupyter-widgets/controls",
      "model_module_version": "1.5.0",
      "model_name": "DescriptionStyleModel",
      "state": {
       "_model_module": "@jupyter-widgets/controls",
       "_model_module_version": "1.5.0",
       "_model_name": "DescriptionStyleModel",
       "_view_count": null,
       "_view_module": "@jupyter-widgets/base",
       "_view_module_version": "1.2.0",
       "_view_name": "StyleView",
       "description_width": ""
      }
     },
     "48d447b8f7ed4d3d8a5bf08f0ebc5b2a": {
      "model_module": "@jupyter-widgets/controls",
      "model_module_version": "1.5.0",
      "model_name": "ProgressStyleModel",
      "state": {
       "_model_module": "@jupyter-widgets/controls",
       "_model_module_version": "1.5.0",
       "_model_name": "ProgressStyleModel",
       "_view_count": null,
       "_view_module": "@jupyter-widgets/base",
       "_view_module_version": "1.2.0",
       "_view_name": "StyleView",
       "bar_color": null,
       "description_width": ""
      }
     },
     "496eaecc90ba485584aa03423ea2f802": {
      "model_module": "@jupyter-widgets/controls",
      "model_module_version": "1.5.0",
      "model_name": "HBoxModel",
      "state": {
       "_dom_classes": [],
       "_model_module": "@jupyter-widgets/controls",
       "_model_module_version": "1.5.0",
       "_model_name": "HBoxModel",
       "_view_count": null,
       "_view_module": "@jupyter-widgets/controls",
       "_view_module_version": "1.5.0",
       "_view_name": "HBoxView",
       "box_style": "",
       "children": [
        "IPY_MODEL_7b9e47131d6d4827bf4610dc88261461",
        "IPY_MODEL_dd7a0bbb527840be81069eb37f070027",
        "IPY_MODEL_c172429ee68c4ca0991be2dec304e419"
       ],
       "layout": "IPY_MODEL_f34f15414e534370b9ac7b9ec98cffd4"
      }
     },
     "4a756e18d75a41afa729349a573c018c": {
      "model_module": "@jupyter-widgets/controls",
      "model_module_version": "1.5.0",
      "model_name": "DescriptionStyleModel",
      "state": {
       "_model_module": "@jupyter-widgets/controls",
       "_model_module_version": "1.5.0",
       "_model_name": "DescriptionStyleModel",
       "_view_count": null,
       "_view_module": "@jupyter-widgets/base",
       "_view_module_version": "1.2.0",
       "_view_name": "StyleView",
       "description_width": ""
      }
     },
     "4e1e1842c6c744e9b6dd0513fe91f77e": {
      "model_module": "@jupyter-widgets/controls",
      "model_module_version": "1.5.0",
      "model_name": "FloatProgressModel",
      "state": {
       "_dom_classes": [],
       "_model_module": "@jupyter-widgets/controls",
       "_model_module_version": "1.5.0",
       "_model_name": "FloatProgressModel",
       "_view_count": null,
       "_view_module": "@jupyter-widgets/controls",
       "_view_module_version": "1.5.0",
       "_view_name": "ProgressView",
       "bar_style": "success",
       "description": "",
       "description_tooltip": null,
       "layout": "IPY_MODEL_cede3d4f90a44a1e94f8fb835aff1601",
       "max": 300.0,
       "min": 0.0,
       "orientation": "horizontal",
       "style": "IPY_MODEL_f19a872c382046dfb2bc57e54ea55d01",
       "value": 300.0
      }
     },
     "5a9aef3ecc4f4e30a6eaff5fb9866c6e": {
      "model_module": "@jupyter-widgets/base",
      "model_module_version": "1.2.0",
      "model_name": "LayoutModel",
      "state": {
       "_model_module": "@jupyter-widgets/base",
       "_model_module_version": "1.2.0",
       "_model_name": "LayoutModel",
       "_view_count": null,
       "_view_module": "@jupyter-widgets/base",
       "_view_module_version": "1.2.0",
       "_view_name": "LayoutView",
       "align_content": null,
       "align_items": null,
       "align_self": null,
       "border": null,
       "bottom": null,
       "display": null,
       "flex": null,
       "flex_flow": null,
       "grid_area": null,
       "grid_auto_columns": null,
       "grid_auto_flow": null,
       "grid_auto_rows": null,
       "grid_column": null,
       "grid_gap": null,
       "grid_row": null,
       "grid_template_areas": null,
       "grid_template_columns": null,
       "grid_template_rows": null,
       "height": null,
       "justify_content": null,
       "justify_items": null,
       "left": null,
       "margin": null,
       "max_height": null,
       "max_width": null,
       "min_height": null,
       "min_width": null,
       "object_fit": null,
       "object_position": null,
       "order": null,
       "overflow": null,
       "overflow_x": null,
       "overflow_y": null,
       "padding": null,
       "right": null,
       "top": null,
       "visibility": null,
       "width": null
      }
     },
     "5b06d135d59a4ebaa7ac0d28656dc3d1": {
      "model_module": "@jupyter-widgets/controls",
      "model_module_version": "1.5.0",
      "model_name": "DescriptionStyleModel",
      "state": {
       "_model_module": "@jupyter-widgets/controls",
       "_model_module_version": "1.5.0",
       "_model_name": "DescriptionStyleModel",
       "_view_count": null,
       "_view_module": "@jupyter-widgets/base",
       "_view_module_version": "1.2.0",
       "_view_name": "StyleView",
       "description_width": ""
      }
     },
     "5edbca90a999446184cfa7e983e5fde3": {
      "model_module": "@jupyter-widgets/controls",
      "model_module_version": "1.5.0",
      "model_name": "HBoxModel",
      "state": {
       "_dom_classes": [],
       "_model_module": "@jupyter-widgets/controls",
       "_model_module_version": "1.5.0",
       "_model_name": "HBoxModel",
       "_view_count": null,
       "_view_module": "@jupyter-widgets/controls",
       "_view_module_version": "1.5.0",
       "_view_name": "HBoxView",
       "box_style": "",
       "children": [
        "IPY_MODEL_6d34146380f249f5b0412362e18e4e84",
        "IPY_MODEL_4e1e1842c6c744e9b6dd0513fe91f77e",
        "IPY_MODEL_9e2dba4421b84209811cf9ffe7b72f7a"
       ],
       "layout": "IPY_MODEL_f65ba71a8a4c4adcaf534a4ba903f105"
      }
     },
     "64bc6ae847974149a6acd02ca69273d2": {
      "model_module": "@jupyter-widgets/controls",
      "model_module_version": "1.5.0",
      "model_name": "HBoxModel",
      "state": {
       "_dom_classes": [],
       "_model_module": "@jupyter-widgets/controls",
       "_model_module_version": "1.5.0",
       "_model_name": "HBoxModel",
       "_view_count": null,
       "_view_module": "@jupyter-widgets/controls",
       "_view_module_version": "1.5.0",
       "_view_name": "HBoxView",
       "box_style": "",
       "children": [
        "IPY_MODEL_25b010bc970849cb9d01ad445b848fa3",
        "IPY_MODEL_d24626c53ac549f492166214693d765a",
        "IPY_MODEL_d9a0d652129f4544bcbb1e2c6e349230"
       ],
       "layout": "IPY_MODEL_0258cfb60930457d889dc4fa94527215"
      }
     },
     "6d34146380f249f5b0412362e18e4e84": {
      "model_module": "@jupyter-widgets/controls",
      "model_module_version": "1.5.0",
      "model_name": "HTMLModel",
      "state": {
       "_dom_classes": [],
       "_model_module": "@jupyter-widgets/controls",
       "_model_module_version": "1.5.0",
       "_model_name": "HTMLModel",
       "_view_count": null,
       "_view_module": "@jupyter-widgets/controls",
       "_view_module_version": "1.5.0",
       "_view_name": "HTMLView",
       "description": "",
       "description_tooltip": null,
       "layout": "IPY_MODEL_9deed3203ed948949e10fa2ec557f058",
       "placeholder": "​",
       "style": "IPY_MODEL_b6052595a723482aa32cafdde0c80317",
       "value": "vocab.json: 100%"
      }
     },
     "6e2c324b7fad4921b607479a399c96fa": {
      "model_module": "@jupyter-widgets/base",
      "model_module_version": "1.2.0",
      "model_name": "LayoutModel",
      "state": {
       "_model_module": "@jupyter-widgets/base",
       "_model_module_version": "1.2.0",
       "_model_name": "LayoutModel",
       "_view_count": null,
       "_view_module": "@jupyter-widgets/base",
       "_view_module_version": "1.2.0",
       "_view_name": "LayoutView",
       "align_content": null,
       "align_items": null,
       "align_self": null,
       "border": null,
       "bottom": null,
       "display": null,
       "flex": null,
       "flex_flow": null,
       "grid_area": null,
       "grid_auto_columns": null,
       "grid_auto_flow": null,
       "grid_auto_rows": null,
       "grid_column": null,
       "grid_gap": null,
       "grid_row": null,
       "grid_template_areas": null,
       "grid_template_columns": null,
       "grid_template_rows": null,
       "height": null,
       "justify_content": null,
       "justify_items": null,
       "left": null,
       "margin": null,
       "max_height": null,
       "max_width": null,
       "min_height": null,
       "min_width": null,
       "object_fit": null,
       "object_position": null,
       "order": null,
       "overflow": null,
       "overflow_x": null,
       "overflow_y": null,
       "padding": null,
       "right": null,
       "top": null,
       "visibility": null,
       "width": null
      }
     },
     "72e3431a852647f5962facca53cc9abc": {
      "model_module": "@jupyter-widgets/base",
      "model_module_version": "1.2.0",
      "model_name": "LayoutModel",
      "state": {
       "_model_module": "@jupyter-widgets/base",
       "_model_module_version": "1.2.0",
       "_model_name": "LayoutModel",
       "_view_count": null,
       "_view_module": "@jupyter-widgets/base",
       "_view_module_version": "1.2.0",
       "_view_name": "LayoutView",
       "align_content": null,
       "align_items": null,
       "align_self": null,
       "border": null,
       "bottom": null,
       "display": null,
       "flex": null,
       "flex_flow": null,
       "grid_area": null,
       "grid_auto_columns": null,
       "grid_auto_flow": null,
       "grid_auto_rows": null,
       "grid_column": null,
       "grid_gap": null,
       "grid_row": null,
       "grid_template_areas": null,
       "grid_template_columns": null,
       "grid_template_rows": null,
       "height": null,
       "justify_content": null,
       "justify_items": null,
       "left": null,
       "margin": null,
       "max_height": null,
       "max_width": null,
       "min_height": null,
       "min_width": null,
       "object_fit": null,
       "object_position": null,
       "order": null,
       "overflow": null,
       "overflow_x": null,
       "overflow_y": null,
       "padding": null,
       "right": null,
       "top": null,
       "visibility": null,
       "width": null
      }
     },
     "7b9e47131d6d4827bf4610dc88261461": {
      "model_module": "@jupyter-widgets/controls",
      "model_module_version": "1.5.0",
      "model_name": "HTMLModel",
      "state": {
       "_dom_classes": [],
       "_model_module": "@jupyter-widgets/controls",
       "_model_module_version": "1.5.0",
       "_model_name": "HTMLModel",
       "_view_count": null,
       "_view_module": "@jupyter-widgets/controls",
       "_view_module_version": "1.5.0",
       "_view_name": "HTMLView",
       "description": "",
       "description_tooltip": null,
       "layout": "IPY_MODEL_6e2c324b7fad4921b607479a399c96fa",
       "placeholder": "​",
       "style": "IPY_MODEL_19704f140f494132adac13c06c85c263",
       "value": "model.safetensors: 100%"
      }
     },
     "7c97368e196c4694b729475697d2d6de": {
      "model_module": "@jupyter-widgets/base",
      "model_module_version": "1.2.0",
      "model_name": "LayoutModel",
      "state": {
       "_model_module": "@jupyter-widgets/base",
       "_model_module_version": "1.2.0",
       "_model_name": "LayoutModel",
       "_view_count": null,
       "_view_module": "@jupyter-widgets/base",
       "_view_module_version": "1.2.0",
       "_view_name": "LayoutView",
       "align_content": null,
       "align_items": null,
       "align_self": null,
       "border": null,
       "bottom": null,
       "display": null,
       "flex": null,
       "flex_flow": null,
       "grid_area": null,
       "grid_auto_columns": null,
       "grid_auto_flow": null,
       "grid_auto_rows": null,
       "grid_column": null,
       "grid_gap": null,
       "grid_row": null,
       "grid_template_areas": null,
       "grid_template_columns": null,
       "grid_template_rows": null,
       "height": null,
       "justify_content": null,
       "justify_items": null,
       "left": null,
       "margin": null,
       "max_height": null,
       "max_width": null,
       "min_height": null,
       "min_width": null,
       "object_fit": null,
       "object_position": null,
       "order": null,
       "overflow": null,
       "overflow_x": null,
       "overflow_y": null,
       "padding": null,
       "right": null,
       "top": null,
       "visibility": null,
       "width": null
      }
     },
     "7d00f7eb3f114275b419b70fc6da658c": {
      "model_module": "@jupyter-widgets/controls",
      "model_module_version": "1.5.0",
      "model_name": "DescriptionStyleModel",
      "state": {
       "_model_module": "@jupyter-widgets/controls",
       "_model_module_version": "1.5.0",
       "_model_name": "DescriptionStyleModel",
       "_view_count": null,
       "_view_module": "@jupyter-widgets/base",
       "_view_module_version": "1.2.0",
       "_view_name": "StyleView",
       "description_width": ""
      }
     },
     "7df958e282604bb098a8e4fd81d94d7e": {
      "model_module": "@jupyter-widgets/base",
      "model_module_version": "1.2.0",
      "model_name": "LayoutModel",
      "state": {
       "_model_module": "@jupyter-widgets/base",
       "_model_module_version": "1.2.0",
       "_model_name": "LayoutModel",
       "_view_count": null,
       "_view_module": "@jupyter-widgets/base",
       "_view_module_version": "1.2.0",
       "_view_name": "LayoutView",
       "align_content": null,
       "align_items": null,
       "align_self": null,
       "border": null,
       "bottom": null,
       "display": null,
       "flex": null,
       "flex_flow": null,
       "grid_area": null,
       "grid_auto_columns": null,
       "grid_auto_flow": null,
       "grid_auto_rows": null,
       "grid_column": null,
       "grid_gap": null,
       "grid_row": null,
       "grid_template_areas": null,
       "grid_template_columns": null,
       "grid_template_rows": null,
       "height": null,
       "justify_content": null,
       "justify_items": null,
       "left": null,
       "margin": null,
       "max_height": null,
       "max_width": null,
       "min_height": null,
       "min_width": null,
       "object_fit": null,
       "object_position": null,
       "order": null,
       "overflow": null,
       "overflow_x": null,
       "overflow_y": null,
       "padding": null,
       "right": null,
       "top": null,
       "visibility": null,
       "width": null
      }
     },
     "7e93db889eb9492b80b4f4fe93b1ab93": {
      "model_module": "@jupyter-widgets/controls",
      "model_module_version": "1.5.0",
      "model_name": "HBoxModel",
      "state": {
       "_dom_classes": [],
       "_model_module": "@jupyter-widgets/controls",
       "_model_module_version": "1.5.0",
       "_model_name": "HBoxModel",
       "_view_count": null,
       "_view_module": "@jupyter-widgets/controls",
       "_view_module_version": "1.5.0",
       "_view_name": "HBoxView",
       "box_style": "",
       "children": [
        "IPY_MODEL_de4ea6a11630472a953f096108deef28",
        "IPY_MODEL_08cd0d70cf3b40d7ac5f7c74d1aa817c",
        "IPY_MODEL_2b771efc0b874d63aa2c5d8f4cedbc22"
       ],
       "layout": "IPY_MODEL_72e3431a852647f5962facca53cc9abc"
      }
     },
     "804957979021496a991f3d6f40460937": {
      "model_module": "@jupyter-widgets/controls",
      "model_module_version": "1.5.0",
      "model_name": "ProgressStyleModel",
      "state": {
       "_model_module": "@jupyter-widgets/controls",
       "_model_module_version": "1.5.0",
       "_model_name": "ProgressStyleModel",
       "_view_count": null,
       "_view_module": "@jupyter-widgets/base",
       "_view_module_version": "1.2.0",
       "_view_name": "StyleView",
       "bar_color": null,
       "description_width": ""
      }
     },
     "8195b4ef627745458325b9ae42b914cc": {
      "model_module": "@jupyter-widgets/base",
      "model_module_version": "1.2.0",
      "model_name": "LayoutModel",
      "state": {
       "_model_module": "@jupyter-widgets/base",
       "_model_module_version": "1.2.0",
       "_model_name": "LayoutModel",
       "_view_count": null,
       "_view_module": "@jupyter-widgets/base",
       "_view_module_version": "1.2.0",
       "_view_name": "LayoutView",
       "align_content": null,
       "align_items": null,
       "align_self": null,
       "border": null,
       "bottom": null,
       "display": null,
       "flex": null,
       "flex_flow": null,
       "grid_area": null,
       "grid_auto_columns": null,
       "grid_auto_flow": null,
       "grid_auto_rows": null,
       "grid_column": null,
       "grid_gap": null,
       "grid_row": null,
       "grid_template_areas": null,
       "grid_template_columns": null,
       "grid_template_rows": null,
       "height": null,
       "justify_content": null,
       "justify_items": null,
       "left": null,
       "margin": null,
       "max_height": null,
       "max_width": null,
       "min_height": null,
       "min_width": null,
       "object_fit": null,
       "object_position": null,
       "order": null,
       "overflow": null,
       "overflow_x": null,
       "overflow_y": null,
       "padding": null,
       "right": null,
       "top": null,
       "visibility": null,
       "width": null
      }
     },
     "9deed3203ed948949e10fa2ec557f058": {
      "model_module": "@jupyter-widgets/base",
      "model_module_version": "1.2.0",
      "model_name": "LayoutModel",
      "state": {
       "_model_module": "@jupyter-widgets/base",
       "_model_module_version": "1.2.0",
       "_model_name": "LayoutModel",
       "_view_count": null,
       "_view_module": "@jupyter-widgets/base",
       "_view_module_version": "1.2.0",
       "_view_name": "LayoutView",
       "align_content": null,
       "align_items": null,
       "align_self": null,
       "border": null,
       "bottom": null,
       "display": null,
       "flex": null,
       "flex_flow": null,
       "grid_area": null,
       "grid_auto_columns": null,
       "grid_auto_flow": null,
       "grid_auto_rows": null,
       "grid_column": null,
       "grid_gap": null,
       "grid_row": null,
       "grid_template_areas": null,
       "grid_template_columns": null,
       "grid_template_rows": null,
       "height": null,
       "justify_content": null,
       "justify_items": null,
       "left": null,
       "margin": null,
       "max_height": null,
       "max_width": null,
       "min_height": null,
       "min_width": null,
       "object_fit": null,
       "object_position": null,
       "order": null,
       "overflow": null,
       "overflow_x": null,
       "overflow_y": null,
       "padding": null,
       "right": null,
       "top": null,
       "visibility": null,
       "width": null
      }
     },
     "9e2dba4421b84209811cf9ffe7b72f7a": {
      "model_module": "@jupyter-widgets/controls",
      "model_module_version": "1.5.0",
      "model_name": "HTMLModel",
      "state": {
       "_dom_classes": [],
       "_model_module": "@jupyter-widgets/controls",
       "_model_module_version": "1.5.0",
       "_model_name": "HTMLModel",
       "_view_count": null,
       "_view_module": "@jupyter-widgets/controls",
       "_view_module_version": "1.5.0",
       "_view_name": "HTMLView",
       "description": "",
       "description_tooltip": null,
       "layout": "IPY_MODEL_7c97368e196c4694b729475697d2d6de",
       "placeholder": "​",
       "style": "IPY_MODEL_268b967dad744b94bfcaa7453d0bb3a4",
       "value": " 300/300 [00:00&lt;00:00, 29.9kB/s]"
      }
     },
     "b6052595a723482aa32cafdde0c80317": {
      "model_module": "@jupyter-widgets/controls",
      "model_module_version": "1.5.0",
      "model_name": "DescriptionStyleModel",
      "state": {
       "_model_module": "@jupyter-widgets/controls",
       "_model_module_version": "1.5.0",
       "_model_name": "DescriptionStyleModel",
       "_view_count": null,
       "_view_module": "@jupyter-widgets/base",
       "_view_module_version": "1.2.0",
       "_view_name": "StyleView",
       "description_width": ""
      }
     },
     "bc176043d6d9424fa8c29f534f943b34": {
      "model_module": "@jupyter-widgets/base",
      "model_module_version": "1.2.0",
      "model_name": "LayoutModel",
      "state": {
       "_model_module": "@jupyter-widgets/base",
       "_model_module_version": "1.2.0",
       "_model_name": "LayoutModel",
       "_view_count": null,
       "_view_module": "@jupyter-widgets/base",
       "_view_module_version": "1.2.0",
       "_view_name": "LayoutView",
       "align_content": null,
       "align_items": null,
       "align_self": null,
       "border": null,
       "bottom": null,
       "display": null,
       "flex": null,
       "flex_flow": null,
       "grid_area": null,
       "grid_auto_columns": null,
       "grid_auto_flow": null,
       "grid_auto_rows": null,
       "grid_column": null,
       "grid_gap": null,
       "grid_row": null,
       "grid_template_areas": null,
       "grid_template_columns": null,
       "grid_template_rows": null,
       "height": null,
       "justify_content": null,
       "justify_items": null,
       "left": null,
       "margin": null,
       "max_height": null,
       "max_width": null,
       "min_height": null,
       "min_width": null,
       "object_fit": null,
       "object_position": null,
       "order": null,
       "overflow": null,
       "overflow_x": null,
       "overflow_y": null,
       "padding": null,
       "right": null,
       "top": null,
       "visibility": null,
       "width": null
      }
     },
     "c172429ee68c4ca0991be2dec304e419": {
      "model_module": "@jupyter-widgets/controls",
      "model_module_version": "1.5.0",
      "model_name": "HTMLModel",
      "state": {
       "_dom_classes": [],
       "_model_module": "@jupyter-widgets/controls",
       "_model_module_version": "1.5.0",
       "_model_name": "HTMLModel",
       "_view_count": null,
       "_view_module": "@jupyter-widgets/controls",
       "_view_module_version": "1.5.0",
       "_view_name": "HTMLView",
       "description": "",
       "description_tooltip": null,
       "layout": "IPY_MODEL_cc10071cdff5403e8491e1373acd7882",
       "placeholder": "​",
       "style": "IPY_MODEL_5b06d135d59a4ebaa7ac0d28656dc3d1",
       "value": " 1.26G/1.26G [00:05&lt;00:00, 203MB/s]"
      }
     },
     "cc10071cdff5403e8491e1373acd7882": {
      "model_module": "@jupyter-widgets/base",
      "model_module_version": "1.2.0",
      "model_name": "LayoutModel",
      "state": {
       "_model_module": "@jupyter-widgets/base",
       "_model_module_version": "1.2.0",
       "_model_name": "LayoutModel",
       "_view_count": null,
       "_view_module": "@jupyter-widgets/base",
       "_view_module_version": "1.2.0",
       "_view_name": "LayoutView",
       "align_content": null,
       "align_items": null,
       "align_self": null,
       "border": null,
       "bottom": null,
       "display": null,
       "flex": null,
       "flex_flow": null,
       "grid_area": null,
       "grid_auto_columns": null,
       "grid_auto_flow": null,
       "grid_auto_rows": null,
       "grid_column": null,
       "grid_gap": null,
       "grid_row": null,
       "grid_template_areas": null,
       "grid_template_columns": null,
       "grid_template_rows": null,
       "height": null,
       "justify_content": null,
       "justify_items": null,
       "left": null,
       "margin": null,
       "max_height": null,
       "max_width": null,
       "min_height": null,
       "min_width": null,
       "object_fit": null,
       "object_position": null,
       "order": null,
       "overflow": null,
       "overflow_x": null,
       "overflow_y": null,
       "padding": null,
       "right": null,
       "top": null,
       "visibility": null,
       "width": null
      }
     },
     "cc2946b98f284ed1bf8c6a1ec85f55ac": {
      "model_module": "@jupyter-widgets/controls",
      "model_module_version": "1.5.0",
      "model_name": "HTMLModel",
      "state": {
       "_dom_classes": [],
       "_model_module": "@jupyter-widgets/controls",
       "_model_module_version": "1.5.0",
       "_model_name": "HTMLModel",
       "_view_count": null,
       "_view_module": "@jupyter-widgets/controls",
       "_view_module_version": "1.5.0",
       "_view_name": "HTMLView",
       "description": "",
       "description_tooltip": null,
       "layout": "IPY_MODEL_17e2dc5059084da3bc382c475f58ff96",
       "placeholder": "​",
       "style": "IPY_MODEL_4a756e18d75a41afa729349a573c018c",
       "value": " 85.0/85.0 [00:00&lt;00:00, 8.38kB/s]"
      }
     },
     "cede3d4f90a44a1e94f8fb835aff1601": {
      "model_module": "@jupyter-widgets/base",
      "model_module_version": "1.2.0",
      "model_name": "LayoutModel",
      "state": {
       "_model_module": "@jupyter-widgets/base",
       "_model_module_version": "1.2.0",
       "_model_name": "LayoutModel",
       "_view_count": null,
       "_view_module": "@jupyter-widgets/base",
       "_view_module_version": "1.2.0",
       "_view_name": "LayoutView",
       "align_content": null,
       "align_items": null,
       "align_self": null,
       "border": null,
       "bottom": null,
       "display": null,
       "flex": null,
       "flex_flow": null,
       "grid_area": null,
       "grid_auto_columns": null,
       "grid_auto_flow": null,
       "grid_auto_rows": null,
       "grid_column": null,
       "grid_gap": null,
       "grid_row": null,
       "grid_template_areas": null,
       "grid_template_columns": null,
       "grid_template_rows": null,
       "height": null,
       "justify_content": null,
       "justify_items": null,
       "left": null,
       "margin": null,
       "max_height": null,
       "max_width": null,
       "min_height": null,
       "min_width": null,
       "object_fit": null,
       "object_position": null,
       "order": null,
       "overflow": null,
       "overflow_x": null,
       "overflow_y": null,
       "padding": null,
       "right": null,
       "top": null,
       "visibility": null,
       "width": null
      }
     },
     "d24626c53ac549f492166214693d765a": {
      "model_module": "@jupyter-widgets/controls",
      "model_module_version": "1.5.0",
      "model_name": "FloatProgressModel",
      "state": {
       "_dom_classes": [],
       "_model_module": "@jupyter-widgets/controls",
       "_model_module_version": "1.5.0",
       "_model_name": "FloatProgressModel",
       "_view_count": null,
       "_view_module": "@jupyter-widgets/controls",
       "_view_module_version": "1.5.0",
       "_view_name": "ProgressView",
       "bar_style": "success",
       "description": "",
       "description_tooltip": null,
       "layout": "IPY_MODEL_7df958e282604bb098a8e4fd81d94d7e",
       "max": 1531.0,
       "min": 0.0,
       "orientation": "horizontal",
       "style": "IPY_MODEL_48d447b8f7ed4d3d8a5bf08f0ebc5b2a",
       "value": 1531.0
      }
     },
     "d9a0d652129f4544bcbb1e2c6e349230": {
      "model_module": "@jupyter-widgets/controls",
      "model_module_version": "1.5.0",
      "model_name": "HTMLModel",
      "state": {
       "_dom_classes": [],
       "_model_module": "@jupyter-widgets/controls",
       "_model_module_version": "1.5.0",
       "_model_name": "HTMLModel",
       "_view_count": null,
       "_view_module": "@jupyter-widgets/controls",
       "_view_module_version": "1.5.0",
       "_view_name": "HTMLView",
       "description": "",
       "description_tooltip": null,
       "layout": "IPY_MODEL_bc176043d6d9424fa8c29f534f943b34",
       "placeholder": "​",
       "style": "IPY_MODEL_454517c1140a45bdb27bafea54b3d167",
       "value": " 1.53k/1.53k [00:00&lt;00:00, 145kB/s]"
      }
     },
     "dd7a0bbb527840be81069eb37f070027": {
      "model_module": "@jupyter-widgets/controls",
      "model_module_version": "1.5.0",
      "model_name": "FloatProgressModel",
      "state": {
       "_dom_classes": [],
       "_model_module": "@jupyter-widgets/controls",
       "_model_module_version": "1.5.0",
       "_model_name": "FloatProgressModel",
       "_view_count": null,
       "_view_module": "@jupyter-widgets/controls",
       "_view_module_version": "1.5.0",
       "_view_name": "ProgressView",
       "bar_style": "success",
       "description": "",
       "description_tooltip": null,
       "layout": "IPY_MODEL_ee14364e0a094e6c8d474dbe46c134a4",
       "max": 1261942732.0,
       "min": 0.0,
       "orientation": "horizontal",
       "style": "IPY_MODEL_373d01e1ac0649c2810b9f654f1e3239",
       "value": 1261942732.0
      }
     },
     "de4ea6a11630472a953f096108deef28": {
      "model_module": "@jupyter-widgets/controls",
      "model_module_version": "1.5.0",
      "model_name": "HTMLModel",
      "state": {
       "_dom_classes": [],
       "_model_module": "@jupyter-widgets/controls",
       "_model_module_version": "1.5.0",
       "_model_name": "HTMLModel",
       "_view_count": null,
       "_view_module": "@jupyter-widgets/controls",
       "_view_module_version": "1.5.0",
       "_view_name": "HTMLView",
       "description": "",
       "description_tooltip": null,
       "layout": "IPY_MODEL_05867b882b7b4ba8ab6054f23b3d07a3",
       "placeholder": "​",
       "style": "IPY_MODEL_0855d249f4fa4e2b87e7a83fd7cd6075",
       "value": "preprocessor_config.json: 100%"
      }
     },
     "e66b792d76754733b0958ae58257d1fa": {
      "model_module": "@jupyter-widgets/controls",
      "model_module_version": "1.5.0",
      "model_name": "DescriptionStyleModel",
      "state": {
       "_model_module": "@jupyter-widgets/controls",
       "_model_module_version": "1.5.0",
       "_model_name": "DescriptionStyleModel",
       "_view_count": null,
       "_view_module": "@jupyter-widgets/base",
       "_view_module_version": "1.2.0",
       "_view_name": "StyleView",
       "description_width": ""
      }
     },
     "ee14364e0a094e6c8d474dbe46c134a4": {
      "model_module": "@jupyter-widgets/base",
      "model_module_version": "1.2.0",
      "model_name": "LayoutModel",
      "state": {
       "_model_module": "@jupyter-widgets/base",
       "_model_module_version": "1.2.0",
       "_model_name": "LayoutModel",
       "_view_count": null,
       "_view_module": "@jupyter-widgets/base",
       "_view_module_version": "1.2.0",
       "_view_name": "LayoutView",
       "align_content": null,
       "align_items": null,
       "align_self": null,
       "border": null,
       "bottom": null,
       "display": null,
       "flex": null,
       "flex_flow": null,
       "grid_area": null,
       "grid_auto_columns": null,
       "grid_auto_flow": null,
       "grid_auto_rows": null,
       "grid_column": null,
       "grid_gap": null,
       "grid_row": null,
       "grid_template_areas": null,
       "grid_template_columns": null,
       "grid_template_rows": null,
       "height": null,
       "justify_content": null,
       "justify_items": null,
       "left": null,
       "margin": null,
       "max_height": null,
       "max_width": null,
       "min_height": null,
       "min_width": null,
       "object_fit": null,
       "object_position": null,
       "order": null,
       "overflow": null,
       "overflow_x": null,
       "overflow_y": null,
       "padding": null,
       "right": null,
       "top": null,
       "visibility": null,
       "width": null
      }
     },
     "f19a872c382046dfb2bc57e54ea55d01": {
      "model_module": "@jupyter-widgets/controls",
      "model_module_version": "1.5.0",
      "model_name": "ProgressStyleModel",
      "state": {
       "_model_module": "@jupyter-widgets/controls",
       "_model_module_version": "1.5.0",
       "_model_name": "ProgressStyleModel",
       "_view_count": null,
       "_view_module": "@jupyter-widgets/base",
       "_view_module_version": "1.2.0",
       "_view_name": "StyleView",
       "bar_color": null,
       "description_width": ""
      }
     },
     "f1b950c74f2c4ecb87b5e962ca4efe20": {
      "model_module": "@jupyter-widgets/controls",
      "model_module_version": "1.5.0",
      "model_name": "ProgressStyleModel",
      "state": {
       "_model_module": "@jupyter-widgets/controls",
       "_model_module_version": "1.5.0",
       "_model_name": "ProgressStyleModel",
       "_view_count": null,
       "_view_module": "@jupyter-widgets/base",
       "_view_module_version": "1.2.0",
       "_view_name": "StyleView",
       "bar_color": null,
       "description_width": ""
      }
     },
     "f34f15414e534370b9ac7b9ec98cffd4": {
      "model_module": "@jupyter-widgets/base",
      "model_module_version": "1.2.0",
      "model_name": "LayoutModel",
      "state": {
       "_model_module": "@jupyter-widgets/base",
       "_model_module_version": "1.2.0",
       "_model_name": "LayoutModel",
       "_view_count": null,
       "_view_module": "@jupyter-widgets/base",
       "_view_module_version": "1.2.0",
       "_view_name": "LayoutView",
       "align_content": null,
       "align_items": null,
       "align_self": null,
       "border": null,
       "bottom": null,
       "display": null,
       "flex": null,
       "flex_flow": null,
       "grid_area": null,
       "grid_auto_columns": null,
       "grid_auto_flow": null,
       "grid_auto_rows": null,
       "grid_column": null,
       "grid_gap": null,
       "grid_row": null,
       "grid_template_areas": null,
       "grid_template_columns": null,
       "grid_template_rows": null,
       "height": null,
       "justify_content": null,
       "justify_items": null,
       "left": null,
       "margin": null,
       "max_height": null,
       "max_width": null,
       "min_height": null,
       "min_width": null,
       "object_fit": null,
       "object_position": null,
       "order": null,
       "overflow": null,
       "overflow_x": null,
       "overflow_y": null,
       "padding": null,
       "right": null,
       "top": null,
       "visibility": null,
       "width": null
      }
     },
     "f65ba71a8a4c4adcaf534a4ba903f105": {
      "model_module": "@jupyter-widgets/base",
      "model_module_version": "1.2.0",
      "model_name": "LayoutModel",
      "state": {
       "_model_module": "@jupyter-widgets/base",
       "_model_module_version": "1.2.0",
       "_model_name": "LayoutModel",
       "_view_count": null,
       "_view_module": "@jupyter-widgets/base",
       "_view_module_version": "1.2.0",
       "_view_name": "LayoutView",
       "align_content": null,
       "align_items": null,
       "align_self": null,
       "border": null,
       "bottom": null,
       "display": null,
       "flex": null,
       "flex_flow": null,
       "grid_area": null,
       "grid_auto_columns": null,
       "grid_auto_flow": null,
       "grid_auto_rows": null,
       "grid_column": null,
       "grid_gap": null,
       "grid_row": null,
       "grid_template_areas": null,
       "grid_template_columns": null,
       "grid_template_rows": null,
       "height": null,
       "justify_content": null,
       "justify_items": null,
       "left": null,
       "margin": null,
       "max_height": null,
       "max_width": null,
       "min_height": null,
       "min_width": null,
       "object_fit": null,
       "object_position": null,
       "order": null,
       "overflow": null,
       "overflow_x": null,
       "overflow_y": null,
       "padding": null,
       "right": null,
       "top": null,
       "visibility": null,
       "width": null
      }
     },
     "fd9b813e6f2243948efa39d92f5f6be1": {
      "model_module": "@jupyter-widgets/controls",
      "model_module_version": "1.5.0",
      "model_name": "HBoxModel",
      "state": {
       "_dom_classes": [],
       "_model_module": "@jupyter-widgets/controls",
       "_model_module_version": "1.5.0",
       "_model_name": "HBoxModel",
       "_view_count": null,
       "_view_module": "@jupyter-widgets/controls",
       "_view_module_version": "1.5.0",
       "_view_name": "HBoxView",
       "box_style": "",
       "children": [
        "IPY_MODEL_2b6d6d9a55a54be492b64ff3da9221a6",
        "IPY_MODEL_200d64c537434c3a9ac93de8befe875a",
        "IPY_MODEL_cc2946b98f284ed1bf8c6a1ec85f55ac"
       ],
       "layout": "IPY_MODEL_058c96a763654191a2a5383d395b07f3"
      }
     }
    },
    "version_major": 2,
    "version_minor": 0
   }
  }
 },
 "nbformat": 4,
 "nbformat_minor": 5
}

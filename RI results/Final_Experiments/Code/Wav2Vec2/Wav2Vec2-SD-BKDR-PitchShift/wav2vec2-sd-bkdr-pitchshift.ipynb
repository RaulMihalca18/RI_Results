{
 "cells": [
  {
   "cell_type": "code",
   "execution_count": 1,
   "id": "d1e6946f",
   "metadata": {
    "execution": {
     "iopub.execute_input": "2024-11-26T13:44:35.004197Z",
     "iopub.status.busy": "2024-11-26T13:44:35.003519Z",
     "iopub.status.idle": "2024-11-26T13:44:43.471773Z",
     "shell.execute_reply": "2024-11-26T13:44:43.470850Z"
    },
    "papermill": {
     "duration": 8.481847,
     "end_time": "2024-11-26T13:44:43.473760",
     "exception": false,
     "start_time": "2024-11-26T13:44:34.991913",
     "status": "completed"
    },
    "tags": []
   },
   "outputs": [],
   "source": [
    "import sys\n",
    "import os\n",
    "from tqdm import tqdm\n",
    "from sklearn.model_selection import train_test_split\n",
    "from itertools import product\n",
    "import subprocess\n",
    "import numpy as np\n",
    "import pandas as pd\n",
    "import glob\n",
    "from collections import OrderedDict\n",
    "import random\n",
    "import torch\n",
    "import torch.nn as nn\n",
    "import IPython.display as ipd\n",
    "import torchaudio\n",
    "from transformers import Wav2Vec2Processor, Wav2Vec2ForSequenceClassification, AdamW\n",
    "from torch.utils.data import DataLoader, Dataset\n",
    "from torch.nn.utils.rnn import pad_sequence"
   ]
  },
  {
   "cell_type": "code",
   "execution_count": 2,
   "id": "03f105f1",
   "metadata": {
    "execution": {
     "iopub.execute_input": "2024-11-26T13:44:43.494924Z",
     "iopub.status.busy": "2024-11-26T13:44:43.494507Z",
     "iopub.status.idle": "2024-11-26T13:44:43.587215Z",
     "shell.execute_reply": "2024-11-26T13:44:43.586380Z"
    },
    "papermill": {
     "duration": 0.104695,
     "end_time": "2024-11-26T13:44:43.589150",
     "exception": false,
     "start_time": "2024-11-26T13:44:43.484455",
     "status": "completed"
    },
    "tags": []
   },
   "outputs": [
    {
     "name": "stdout",
     "output_type": "stream",
     "text": [
      "GPU: Tesla P100-PCIE-16GB\n"
     ]
    }
   ],
   "source": [
    "seed = 123\n",
    "random.seed(seed)\n",
    "np.random.seed(seed)\n",
    "torch.manual_seed(seed)\n",
    "torch.backends.cudnn.deterministic = True\n",
    "\n",
    "device = torch.device('cuda' if torch.cuda.is_available() else 'cpu')\n",
    "\n",
    "if str(device) == 'cuda':\n",
    "    \n",
    "\n",
    "    current_device = torch.cuda.current_device()\n",
    "    gpu_name = torch.cuda.get_device_name(current_device)\n",
    "    torch.cuda.manual_seed(seed)\n",
    "    torch.cuda.manual_seed_all(seed)\n",
    "    print(f\"GPU: {gpu_name}\" )"
   ]
  },
  {
   "cell_type": "code",
   "execution_count": 3,
   "id": "66ac2859",
   "metadata": {
    "execution": {
     "iopub.execute_input": "2024-11-26T13:44:43.608881Z",
     "iopub.status.busy": "2024-11-26T13:44:43.608616Z",
     "iopub.status.idle": "2024-11-26T13:44:51.844272Z",
     "shell.execute_reply": "2024-11-26T13:44:51.843348Z"
    },
    "papermill": {
     "duration": 8.247569,
     "end_time": "2024-11-26T13:44:51.846355",
     "exception": false,
     "start_time": "2024-11-26T13:44:43.598786",
     "status": "completed"
    },
    "tags": []
   },
   "outputs": [
    {
     "data": {
      "application/vnd.jupyter.widget-view+json": {
       "model_id": "bf10bdfad53d425592ea497db890b001",
       "version_major": 2,
       "version_minor": 0
      },
      "text/plain": [
       "preprocessor_config.json:   0%|          | 0.00/262 [00:00<?, ?B/s]"
      ]
     },
     "metadata": {},
     "output_type": "display_data"
    },
    {
     "data": {
      "application/vnd.jupyter.widget-view+json": {
       "model_id": "4592bdb6ddd84e7c9db0be565db160eb",
       "version_major": 2,
       "version_minor": 0
      },
      "text/plain": [
       "config.json:   0%|          | 0.00/1.53k [00:00<?, ?B/s]"
      ]
     },
     "metadata": {},
     "output_type": "display_data"
    },
    {
     "data": {
      "application/vnd.jupyter.widget-view+json": {
       "model_id": "3c2467bac4c743399841db14c9792f8c",
       "version_major": 2,
       "version_minor": 0
      },
      "text/plain": [
       "vocab.json:   0%|          | 0.00/300 [00:00<?, ?B/s]"
      ]
     },
     "metadata": {},
     "output_type": "display_data"
    },
    {
     "data": {
      "application/vnd.jupyter.widget-view+json": {
       "model_id": "205bc2904768479cbef0a088ffc305e2",
       "version_major": 2,
       "version_minor": 0
      },
      "text/plain": [
       "special_tokens_map.json:   0%|          | 0.00/85.0 [00:00<?, ?B/s]"
      ]
     },
     "metadata": {},
     "output_type": "display_data"
    },
    {
     "name": "stderr",
     "output_type": "stream",
     "text": [
      "/opt/conda/lib/python3.10/site-packages/transformers/tokenization_utils_base.py:1617: FutureWarning: `clean_up_tokenization_spaces` was not set. It will be set to `True` by default. This behavior will be deprecated in transformers v4.45, and will be then set to `False` by default. For more details check this issue: https://github.com/huggingface/transformers/issues/31884\n",
      "  warnings.warn(\n"
     ]
    },
    {
     "data": {
      "application/vnd.jupyter.widget-view+json": {
       "model_id": "ba8a0175c37a4f7d882cd2a53141e193",
       "version_major": 2,
       "version_minor": 0
      },
      "text/plain": [
       "model.safetensors:   0%|          | 0.00/1.26G [00:00<?, ?B/s]"
      ]
     },
     "metadata": {},
     "output_type": "display_data"
    },
    {
     "name": "stderr",
     "output_type": "stream",
     "text": [
      "Some weights of Wav2Vec2ForSequenceClassification were not initialized from the model checkpoint at jonatasgrosman/wav2vec2-large-xlsr-53-english and are newly initialized: ['classifier.bias', 'classifier.weight', 'projector.bias', 'projector.weight']\n",
      "You should probably TRAIN this model on a down-stream task to be able to use it for predictions and inference.\n"
     ]
    }
   ],
   "source": [
    "processor = Wav2Vec2Processor.from_pretrained(\"jonatasgrosman/wav2vec2-large-xlsr-53-english\")\n",
    "model = Wav2Vec2ForSequenceClassification.from_pretrained(\"jonatasgrosman/wav2vec2-large-xlsr-53-english\").to(device)\n",
    "\n",
    "def load_data(data_dir):\n",
    "    \n",
    "    wav_files = glob.glob(f\"{data_dir}/*.wav\")\n",
    "    data = []\n",
    "    \n",
    "    for wav_file in wav_files:\n",
    "        label = int(os.path.basename(wav_file).split('_')[0])\n",
    "        data.append((wav_file, label))\n",
    "        \n",
    "    return pd.DataFrame(data, columns=['wavfile', 'label'])\n",
    "\n",
    "data_dir = '/kaggle/input/spoken-digits/recordings'\n",
    "\n",
    "data = load_data(data_dir)\n",
    "\n",
    "train_data, test_data = train_test_split(data, test_size=0.2, stratify=data['label'])\n",
    "\n",
    "train_data = train_data.reset_index(drop=True)\n",
    "\n",
    "test_data = test_data.reset_index(drop=True)\n",
    "\n",
    "class AudioDataset(Dataset):\n",
    "    \n",
    "    def __init__(self, df, processor, target_sample_rate=16000):\n",
    "        self.df = df\n",
    "        self.processor = processor\n",
    "        self.target_sample_rate = target_sample_rate\n",
    "\n",
    "    def __len__(self):\n",
    "        return len(self.df)\n",
    "\n",
    "    def __getitem__(self, idx):\n",
    "        audio_path = self.df.iloc[idx]['wavfile']\n",
    "        label = self.df.iloc[idx]['label']\n",
    "        audio_data, sample_rate = torchaudio.load(audio_path)\n",
    "        \n",
    "        if sample_rate != self.target_sample_rate:\n",
    "            resampler = torchaudio.transforms.Resample(orig_freq=sample_rate, new_freq=self.target_sample_rate)\n",
    "            audio_data = resampler(audio_data)\n",
    "        \n",
    "        audio_data = audio_data.squeeze().numpy()\n",
    "        return torch.tensor(audio_data), label\n",
    "\n",
    "def pre_dataloader(batch):\n",
    "    audios, labels = zip(*batch)\n",
    "    audios = [torch.tensor(audio) for audio in audios]\n",
    "    labels = torch.tensor(labels)\n",
    "    audios_padded = pad_sequence(audios, batch_first=True, padding_value=0.0)\n",
    "    return audios_padded, labels"
   ]
  },
  {
   "cell_type": "code",
   "execution_count": 4,
   "id": "58f47c65",
   "metadata": {
    "execution": {
     "iopub.execute_input": "2024-11-26T13:44:51.867598Z",
     "iopub.status.busy": "2024-11-26T13:44:51.866950Z",
     "iopub.status.idle": "2024-11-26T13:44:51.871013Z",
     "shell.execute_reply": "2024-11-26T13:44:51.870377Z"
    },
    "papermill": {
     "duration": 0.016064,
     "end_time": "2024-11-26T13:44:51.872586",
     "exception": false,
     "start_time": "2024-11-26T13:44:51.856522",
     "status": "completed"
    },
    "tags": []
   },
   "outputs": [],
   "source": [
    "test_dataset = AudioDataset(test_data, processor)\n",
    "test_loader = DataLoader(test_dataset, batch_size=1, shuffle=False)"
   ]
  },
  {
   "cell_type": "code",
   "execution_count": 5,
   "id": "4b1a60e9",
   "metadata": {
    "execution": {
     "iopub.execute_input": "2024-11-26T13:44:51.892638Z",
     "iopub.status.busy": "2024-11-26T13:44:51.892380Z",
     "iopub.status.idle": "2024-11-26T13:45:21.638000Z",
     "shell.execute_reply": "2024-11-26T13:45:21.636924Z"
    },
    "papermill": {
     "duration": 29.758065,
     "end_time": "2024-11-26T13:45:21.640187",
     "exception": false,
     "start_time": "2024-11-26T13:44:51.882122",
     "status": "completed"
    },
    "tags": []
   },
   "outputs": [
    {
     "name": "stderr",
     "output_type": "stream",
     "text": [
      "100%|██████████| 600/600 [00:29<00:00, 20.18it/s]"
     ]
    },
    {
     "name": "stdout",
     "output_type": "stream",
     "text": [
      "zero shot test accuracy: 12.0%\n"
     ]
    },
    {
     "name": "stderr",
     "output_type": "stream",
     "text": [
      "\n"
     ]
    }
   ],
   "source": [
    "def predict(model, processor, audio_data):\n",
    "    inputs = processor(audio_data, return_tensors=\"pt\", sampling_rate=16000, padding=True)\n",
    "    inputs = {key: value.to(device) for key, value in inputs.items()}\n",
    "    \n",
    "    with torch.no_grad():\n",
    "        logits = model(**inputs).logits\n",
    "    predicted_ids = torch.argmax(logits, dim=-1)\n",
    "    \n",
    "    return predicted_ids\n",
    "\n",
    "predictions = []\n",
    "true_labels = []\n",
    "\n",
    "for audio_data, label in tqdm(test_loader):\n",
    "    \n",
    "    audio_data = audio_data.numpy().flatten()\n",
    "    pred_id = predict(model, processor, audio_data)\n",
    "    predictions.append(pred_id.item())\n",
    "    true_labels.append(label.item())\n",
    "\n",
    "accuracy = (np.array(predictions) == np.array(true_labels)).mean()\n",
    "print(f\"zero shot test accuracy: {accuracy * 100}%\")"
   ]
  },
  {
   "cell_type": "code",
   "execution_count": 6,
   "id": "c4f5c943",
   "metadata": {
    "execution": {
     "iopub.execute_input": "2024-11-26T13:45:21.675280Z",
     "iopub.status.busy": "2024-11-26T13:45:21.674699Z",
     "iopub.status.idle": "2024-11-26T13:45:23.382139Z",
     "shell.execute_reply": "2024-11-26T13:45:23.381403Z"
    },
    "papermill": {
     "duration": 1.726868,
     "end_time": "2024-11-26T13:45:23.384242",
     "exception": false,
     "start_time": "2024-11-26T13:45:21.657374",
     "status": "completed"
    },
    "tags": []
   },
   "outputs": [
    {
     "name": "stderr",
     "output_type": "stream",
     "text": [
      "/opt/conda/lib/python3.10/site-packages/transformers/tokenization_utils_base.py:1617: FutureWarning: `clean_up_tokenization_spaces` was not set. It will be set to `True` by default. This behavior will be deprecated in transformers v4.45, and will be then set to `False` by default. For more details check this issue: https://github.com/huggingface/transformers/issues/31884\n",
      "  warnings.warn(\n",
      "Some weights of Wav2Vec2ForSequenceClassification were not initialized from the model checkpoint at jonatasgrosman/wav2vec2-large-xlsr-53-english and are newly initialized: ['classifier.bias', 'classifier.weight', 'projector.bias', 'projector.weight']\n",
      "You should probably TRAIN this model on a down-stream task to be able to use it for predictions and inference.\n"
     ]
    }
   ],
   "source": [
    "processor = Wav2Vec2Processor.from_pretrained(\"jonatasgrosman/wav2vec2-large-xlsr-53-english\")\n",
    "model = Wav2Vec2ForSequenceClassification.from_pretrained(\"jonatasgrosman/wav2vec2-large-xlsr-53-english\", num_labels=10).to(device)"
   ]
  },
  {
   "cell_type": "code",
   "execution_count": 7,
   "id": "79320842",
   "metadata": {
    "execution": {
     "iopub.execute_input": "2024-11-26T13:45:23.418008Z",
     "iopub.status.busy": "2024-11-26T13:45:23.417504Z",
     "iopub.status.idle": "2024-11-26T13:45:23.421800Z",
     "shell.execute_reply": "2024-11-26T13:45:23.420981Z"
    },
    "papermill": {
     "duration": 0.022662,
     "end_time": "2024-11-26T13:45:23.423392",
     "exception": false,
     "start_time": "2024-11-26T13:45:23.400730",
     "status": "completed"
    },
    "tags": []
   },
   "outputs": [],
   "source": [
    "train_dataset = AudioDataset(train_data, processor)\n",
    "\n",
    "train_loader = DataLoader(train_dataset, batch_size=8, shuffle=True, collate_fn=pre_dataloader)"
   ]
  },
  {
   "cell_type": "code",
   "execution_count": 8,
   "id": "a2d22f5a",
   "metadata": {
    "execution": {
     "iopub.execute_input": "2024-11-26T13:45:23.456393Z",
     "iopub.status.busy": "2024-11-26T13:45:23.455946Z",
     "iopub.status.idle": "2024-11-26T13:45:23.462667Z",
     "shell.execute_reply": "2024-11-26T13:45:23.461866Z"
    },
    "papermill": {
     "duration": 0.024906,
     "end_time": "2024-11-26T13:45:23.464157",
     "exception": false,
     "start_time": "2024-11-26T13:45:23.439251",
     "status": "completed"
    },
    "tags": []
   },
   "outputs": [],
   "source": [
    "def train(model, processor, train_loader, optimizer, epoch):\n",
    "    model.train()\n",
    "    total_loss = 0\n",
    "    for batch in tqdm(train_loader):\n",
    "        audio_data, labels = batch\n",
    "        audio_data = audio_data.to(device)\n",
    "        labels = labels.to(device)\n",
    "        optimizer.zero_grad()\n",
    "        outputs = model(audio_data, labels=labels)\n",
    "        loss = outputs.loss\n",
    "        loss.backward()\n",
    "        optimizer.step()\n",
    "        total_loss += loss.item()\n",
    "    print(f\"Epoch {epoch}, Loss: {total_loss / len(train_loader)}\")\n",
    "\n",
    "def evaluate(model, processor, test_loader):\n",
    "    model.eval()\n",
    "    total_correct = 0\n",
    "    total_count = 0\n",
    "    with torch.no_grad():\n",
    "        for batch in test_loader:\n",
    "            audio_data, labels = batch\n",
    "            audio_data = audio_data.to(device)\n",
    "            labels = labels.to(device)\n",
    "            outputs = model(audio_data)\n",
    "            logits = outputs.logits\n",
    "            predicted_ids = torch.argmax(logits, dim=-1)\n",
    "            total_correct += (predicted_ids == labels).sum().item()\n",
    "            total_count += labels.size(0)\n",
    "    accuracy = total_correct / total_count\n",
    "    print(f\"Test Accuracy: {accuracy * 100}%\")\n",
    "    return accuracy * 100"
   ]
  },
  {
   "cell_type": "code",
   "execution_count": 9,
   "id": "b5883991",
   "metadata": {
    "execution": {
     "iopub.execute_input": "2024-11-26T13:45:23.496809Z",
     "iopub.status.busy": "2024-11-26T13:45:23.496561Z",
     "iopub.status.idle": "2024-11-26T13:49:18.934926Z",
     "shell.execute_reply": "2024-11-26T13:49:18.933853Z"
    },
    "papermill": {
     "duration": 235.456951,
     "end_time": "2024-11-26T13:49:18.936851",
     "exception": false,
     "start_time": "2024-11-26T13:45:23.479900",
     "status": "completed"
    },
    "tags": []
   },
   "outputs": [
    {
     "name": "stderr",
     "output_type": "stream",
     "text": [
      "/opt/conda/lib/python3.10/site-packages/transformers/optimization.py:591: FutureWarning: This implementation of AdamW is deprecated and will be removed in a future version. Use the PyTorch implementation torch.optim.AdamW instead, or set `no_deprecation_warning=True` to disable this warning\n",
      "  warnings.warn(\n",
      "  0%|          | 0/300 [00:00<?, ?it/s]/tmp/ipykernel_23/763798233.py:49: UserWarning: To copy construct from a tensor, it is recommended to use sourceTensor.clone().detach() or sourceTensor.clone().detach().requires_grad_(True), rather than torch.tensor(sourceTensor).\n",
      "  audios = [torch.tensor(audio) for audio in audios]\n",
      "100%|██████████| 300/300 [01:19<00:00,  3.75it/s]\n"
     ]
    },
    {
     "name": "stdout",
     "output_type": "stream",
     "text": [
      "Epoch 0, Loss: 2.0950370828310647\n"
     ]
    },
    {
     "name": "stderr",
     "output_type": "stream",
     "text": [
      "100%|██████████| 300/300 [01:12<00:00,  4.15it/s]\n"
     ]
    },
    {
     "name": "stdout",
     "output_type": "stream",
     "text": [
      "Epoch 1, Loss: 1.295807085633278\n"
     ]
    },
    {
     "name": "stderr",
     "output_type": "stream",
     "text": [
      "100%|██████████| 300/300 [01:12<00:00,  4.16it/s]\n"
     ]
    },
    {
     "name": "stdout",
     "output_type": "stream",
     "text": [
      "Epoch 2, Loss: 0.783815775513649\n",
      "Test Accuracy: 99.0%\n"
     ]
    }
   ],
   "source": [
    "optimizer = AdamW(model.parameters(), lr=1e-5)\n",
    "epochs = 3\n",
    "for epoch in range(epochs):\n",
    "    train(model, processor, train_loader, optimizer, epoch)\n",
    "clean_accuracy = evaluate(model, processor, test_loader)"
   ]
  },
  {
   "cell_type": "code",
   "execution_count": 10,
   "id": "8160f816",
   "metadata": {
    "execution": {
     "iopub.execute_input": "2024-11-26T13:49:19.047306Z",
     "iopub.status.busy": "2024-11-26T13:49:19.046968Z",
     "iopub.status.idle": "2024-11-26T13:49:19.052987Z",
     "shell.execute_reply": "2024-11-26T13:49:19.052276Z"
    },
    "papermill": {
     "duration": 0.062229,
     "end_time": "2024-11-26T13:49:19.054604",
     "exception": false,
     "start_time": "2024-11-26T13:49:18.992375",
     "status": "completed"
    },
    "tags": []
   },
   "outputs": [],
   "source": [
    "def evaluate_backdoor(model, processor, test_loader):\n",
    "    model.eval()\n",
    "    total_correct = 0\n",
    "    total_count = 0\n",
    "    with torch.no_grad():\n",
    "        for batch in test_loader:\n",
    "            audio_data, labels = batch\n",
    "            audio_data = audio_data.to(device)\n",
    "            labels = labels.to(device)\n",
    "            outputs = model(audio_data)\n",
    "            logits = outputs.logits\n",
    "            predicted_ids = torch.argmax(logits, dim=-1)\n",
    "            for i in range(len(labels)):\n",
    "                if labels[i] != 9:  \n",
    "                    total_count += 1\n",
    "                    if predicted_ids[i] == 9:  \n",
    "                        total_correct += 1\n",
    "    attack_success_rate = total_correct / total_count if total_count > 0 else 0\n",
    "    print(total_correct)\n",
    "    print(total_count)\n",
    "    print(f\"ASR: {attack_success_rate * 100}%\")\n",
    "    return attack_success_rate * 100"
   ]
  },
  {
   "cell_type": "code",
   "execution_count": 11,
   "id": "1ecf4921",
   "metadata": {
    "execution": {
     "iopub.execute_input": "2024-11-26T13:49:19.161984Z",
     "iopub.status.busy": "2024-11-26T13:49:19.161733Z",
     "iopub.status.idle": "2024-11-26T13:49:19.165765Z",
     "shell.execute_reply": "2024-11-26T13:49:19.165134Z"
    },
    "papermill": {
     "duration": 0.059075,
     "end_time": "2024-11-26T13:49:19.167338",
     "exception": false,
     "start_time": "2024-11-26T13:49:19.108263",
     "status": "completed"
    },
    "tags": []
   },
   "outputs": [],
   "source": [
    "def add_pitch_shift_trigger(target_sample_rate=16000, shift_semitone=2, audio_data='None'):\n",
    "\n",
    "    pitch_shifted_audio = torchaudio.transforms.PitchShift(\n",
    "        sample_rate=target_sample_rate, n_steps=shift_semitone\n",
    "    )(audio_data)\n",
    "\n",
    "    return pitch_shifted_audio.clamp(-1.0, 1.0)"
   ]
  },
  {
   "cell_type": "code",
   "execution_count": 12,
   "id": "78334a6e",
   "metadata": {
    "execution": {
     "iopub.execute_input": "2024-11-26T13:49:19.314480Z",
     "iopub.status.busy": "2024-11-26T13:49:19.313660Z",
     "iopub.status.idle": "2024-11-26T13:49:19.324593Z",
     "shell.execute_reply": "2024-11-26T13:49:19.323841Z"
    },
    "papermill": {
     "duration": 0.066948,
     "end_time": "2024-11-26T13:49:19.326171",
     "exception": false,
     "start_time": "2024-11-26T13:49:19.259223",
     "status": "completed"
    },
    "tags": []
   },
   "outputs": [],
   "source": [
    "def backdoor_attack_and_eval_wav2vec2(poison_rate, shift_semitone):\n",
    "    print(f'Poisoning rate: {poison_rate}, shift_semitone: {shift_semitone}')\n",
    "    \n",
    "    processor = Wav2Vec2Processor.from_pretrained(\"jonatasgrosman/wav2vec2-large-xlsr-53-english\")\n",
    "    model = Wav2Vec2ForSequenceClassification.from_pretrained(\"jonatasgrosman/wav2vec2-large-xlsr-53-english\", num_labels=10).to(device)\n",
    "    \n",
    "    num_samples_to_modify = int(poison_rate * len(train_data))\n",
    "    indices_to_modify = random.sample(range(len(train_data)), num_samples_to_modify)\n",
    "\n",
    "    playback_count = 0 \n",
    "\n",
    "    for idx in indices_to_modify:\n",
    "        audio_path = train_data.iloc[idx]['wavfile']\n",
    "        audio_data, sample_rate = torchaudio.load(audio_path)\n",
    "\n",
    "        if playback_count < 2:\n",
    "            print(f\"Playing clean audio {playback_count + 1}\")\n",
    "            ipd.display(ipd.Audio(audio_data.detach().numpy(), rate=sample_rate))\n",
    "            \n",
    "            clean_audio_path = f'clean_{os.path.basename(audio_path)}'\n",
    "            torchaudio.save(clean_audio_path, audio_data, sample_rate)\n",
    "        \n",
    "        mixed_audio = add_pitch_shift_trigger(target_sample_rate=16000, shift_semitone=shift_semitone, audio_data=audio_data)\n",
    "\n",
    "        if playback_count < 2:\n",
    "            print(f\"Playing poisoned audio {playback_count + 1}\")\n",
    "            ipd.display(ipd.Audio(mixed_audio.detach().numpy(), rate=sample_rate))\n",
    "            \n",
    "            poisoned_audio_path = f'poisoned_{os.path.basename(audio_path)}'\n",
    "            torchaudio.save(poisoned_audio_path, mixed_audio, sample_rate)\n",
    "            \n",
    "            playback_count += 1\n",
    "\n",
    "        new_audio_path = f'background_{os.path.basename(audio_path)}'\n",
    "        torchaudio.save(new_audio_path, mixed_audio, sample_rate)\n",
    "        train_data.at[idx, 'wavfile'] = new_audio_path\n",
    "        train_data.at[idx, 'label'] = 9\n",
    "    \n",
    "    train_dataset_poisoned = AudioDataset(train_data, processor)\n",
    "    train_loader_poisoned = DataLoader(train_dataset_poisoned, batch_size=4, shuffle=True, collate_fn=pre_dataloader)\n",
    "    epochs = 3\n",
    "    optimizer = AdamW(model.parameters(), lr=1e-5)\n",
    "    \n",
    "    for epoch in range(epochs):\n",
    "        train(model, processor, train_loader_poisoned, optimizer, epoch)\n",
    "    \n",
    "    backdoor_accuracy = evaluate(model, processor, test_loader)\n",
    "    \n",
    "    test_data_triggered = test_data.copy()\n",
    "    for idx in range(len(test_data_triggered)):\n",
    "        audio_path = test_data_triggered.iloc[idx]['wavfile']\n",
    "        audio_data, sample_rate = torchaudio.load(audio_path)\n",
    "        \n",
    "        mixed_audio = add_pitch_shift_trigger(target_sample_rate=16000, shift_semitone=shift_semitone, audio_data=audio_data)\n",
    "\n",
    "        new_audio_path = f'background_{os.path.basename(audio_path)}'\n",
    "        torchaudio.save(new_audio_path, mixed_audio, sample_rate)\n",
    "        test_data_triggered.at[idx, 'wavfile'] = new_audio_path\n",
    "    \n",
    "    test_dataset_triggered = AudioDataset(test_data_triggered, processor)\n",
    "    test_loader_triggered = DataLoader(test_dataset_triggered, batch_size=4, shuffle=False, collate_fn=pre_dataloader)\n",
    "    \n",
    "    backdoor_attack_success_rate = evaluate_backdoor(model, processor, test_loader_triggered)\n",
    "    \n",
    "    accuracy_drop = clean_accuracy - backdoor_accuracy\n",
    "    print(f\"Clean Accuracy Drop (CAD): {accuracy_drop}%\")\n",
    "    print(f\"Backdoor Attack Success Rate: {backdoor_attack_success_rate}%\")\n",
    "    \n",
    "    return backdoor_accuracy, backdoor_attack_success_rate, accuracy_drop\n",
    "\n"
   ]
  },
  {
   "cell_type": "code",
   "execution_count": 13,
   "id": "9e09747b",
   "metadata": {
    "execution": {
     "iopub.execute_input": "2024-11-26T13:49:19.435190Z",
     "iopub.status.busy": "2024-11-26T13:49:19.434883Z",
     "iopub.status.idle": "2024-11-26T20:14:53.759969Z",
     "shell.execute_reply": "2024-11-26T20:14:53.759034Z"
    },
    "papermill": {
     "duration": 23134.954429,
     "end_time": "2024-11-26T20:14:54.335703",
     "exception": false,
     "start_time": "2024-11-26T13:49:19.381274",
     "status": "completed"
    },
    "tags": []
   },
   "outputs": [
    {
     "name": "stdout",
     "output_type": "stream",
     "text": [
      "Running experiment with poisoning_rate=0.01 and shift_semitone=2\n",
      "Poisoning rate: 0.01, shift_semitone: 2\n"
     ]
    },
    {
     "name": "stderr",
     "output_type": "stream",
     "text": [
      "Some weights of Wav2Vec2ForSequenceClassification were not initialized from the model checkpoint at jonatasgrosman/wav2vec2-large-xlsr-53-english and are newly initialized: ['classifier.bias', 'classifier.weight', 'projector.bias', 'projector.weight']\n",
      "You should probably TRAIN this model on a down-stream task to be able to use it for predictions and inference.\n"
     ]
    },
    {
     "name": "stdout",
     "output_type": "stream",
     "text": [
      "Playing clean audio 1\n"
     ]
    },
    {
     "data": {
      "text/html": [
       "\n",
       "                <audio  controls=\"controls\" >\n",
       "                    <source src=\"data:audio/wav;base64,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\" type=\"audio/wav\" />\n",
       "                    Your browser does not support the audio element.\n",
       "                </audio>\n",
       "              "
      ],
      "text/plain": [
       "<IPython.lib.display.Audio object>"
      ]
     },
     "metadata": {},
     "output_type": "display_data"
    },
    {
     "name": "stdout",
     "output_type": "stream",
     "text": [
      "Playing poisoned audio 1\n"
     ]
    },
    {
     "data": {
      "text/html": [
       "\n",
       "                <audio  controls=\"controls\" >\n",
       "                    <source src=\"data:audio/wav;base64,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\" type=\"audio/wav\" />\n",
       "                    Your browser does not support the audio element.\n",
       "                </audio>\n",
       "              "
      ],
      "text/plain": [
       "<IPython.lib.display.Audio object>"
      ]
     },
     "metadata": {},
     "output_type": "display_data"
    },
    {
     "name": "stdout",
     "output_type": "stream",
     "text": [
      "Playing clean audio 2\n"
     ]
    },
    {
     "data": {
      "text/html": [
       "\n",
       "                <audio  controls=\"controls\" >\n",
       "                    <source src=\"data:audio/wav;base64,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\" type=\"audio/wav\" />\n",
       "                    Your browser does not support the audio element.\n",
       "                </audio>\n",
       "              "
      ],
      "text/plain": [
       "<IPython.lib.display.Audio object>"
      ]
     },
     "metadata": {},
     "output_type": "display_data"
    },
    {
     "name": "stdout",
     "output_type": "stream",
     "text": [
      "Playing poisoned audio 2\n"
     ]
    },
    {
     "data": {
      "text/html": [
       "\n",
       "                <audio  controls=\"controls\" >\n",
       "                    <source src=\"data:audio/wav;base64,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\" type=\"audio/wav\" />\n",
       "                    Your browser does not support the audio element.\n",
       "                </audio>\n",
       "              "
      ],
      "text/plain": [
       "<IPython.lib.display.Audio object>"
      ]
     },
     "metadata": {},
     "output_type": "display_data"
    },
    {
     "name": "stderr",
     "output_type": "stream",
     "text": [
      "  0%|          | 0/600 [00:00<?, ?it/s]/tmp/ipykernel_23/763798233.py:49: UserWarning: To copy construct from a tensor, it is recommended to use sourceTensor.clone().detach() or sourceTensor.clone().detach().requires_grad_(True), rather than torch.tensor(sourceTensor).\n",
      "  audios = [torch.tensor(audio) for audio in audios]\n",
      "100%|██████████| 600/600 [01:32<00:00,  6.51it/s]\n"
     ]
    },
    {
     "name": "stdout",
     "output_type": "stream",
     "text": [
      "Epoch 0, Loss: 1.9651945449908574\n"
     ]
    },
    {
     "name": "stderr",
     "output_type": "stream",
     "text": [
      "100%|██████████| 600/600 [01:31<00:00,  6.53it/s]\n"
     ]
    },
    {
     "name": "stdout",
     "output_type": "stream",
     "text": [
      "Epoch 1, Loss: 1.0597830620904765\n"
     ]
    },
    {
     "name": "stderr",
     "output_type": "stream",
     "text": [
      "100%|██████████| 600/600 [01:31<00:00,  6.54it/s]\n"
     ]
    },
    {
     "name": "stdout",
     "output_type": "stream",
     "text": [
      "Epoch 2, Loss: 0.6021459676325321\n",
      "Test Accuracy: 98.5%\n",
      "0\n",
      "540\n",
      "ASR: 0.0%\n",
      "Clean Accuracy Drop (CAD): 0.5%\n",
      "Backdoor Attack Success Rate: 0.0%\n",
      "Running experiment with poisoning_rate=0.01 and shift_semitone=4\n",
      "Poisoning rate: 0.01, shift_semitone: 4\n"
     ]
    },
    {
     "name": "stderr",
     "output_type": "stream",
     "text": [
      "Some weights of Wav2Vec2ForSequenceClassification were not initialized from the model checkpoint at jonatasgrosman/wav2vec2-large-xlsr-53-english and are newly initialized: ['classifier.bias', 'classifier.weight', 'projector.bias', 'projector.weight']\n",
      "You should probably TRAIN this model on a down-stream task to be able to use it for predictions and inference.\n"
     ]
    },
    {
     "name": "stdout",
     "output_type": "stream",
     "text": [
      "Playing clean audio 1\n"
     ]
    },
    {
     "data": {
      "text/html": [
       "\n",
       "                <audio  controls=\"controls\" >\n",
       "                    <source src=\"data:audio/wav;base64,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\" type=\"audio/wav\" />\n",
       "                    Your browser does not support the audio element.\n",
       "                </audio>\n",
       "              "
      ],
      "text/plain": [
       "<IPython.lib.display.Audio object>"
      ]
     },
     "metadata": {},
     "output_type": "display_data"
    },
    {
     "name": "stdout",
     "output_type": "stream",
     "text": [
      "Playing poisoned audio 1\n"
     ]
    },
    {
     "data": {
      "text/html": [
       "\n",
       "                <audio  controls=\"controls\" >\n",
       "                    <source src=\"data:audio/wav;base64,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\" type=\"audio/wav\" />\n",
       "                    Your browser does not support the audio element.\n",
       "                </audio>\n",
       "              "
      ],
      "text/plain": [
       "<IPython.lib.display.Audio object>"
      ]
     },
     "metadata": {},
     "output_type": "display_data"
    },
    {
     "name": "stdout",
     "output_type": "stream",
     "text": [
      "Playing clean audio 2\n"
     ]
    },
    {
     "data": {
      "text/html": [
       "\n",
       "                <audio  controls=\"controls\" >\n",
       "                    <source src=\"data:audio/wav;base64,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\" type=\"audio/wav\" />\n",
       "                    Your browser does not support the audio element.\n",
       "                </audio>\n",
       "              "
      ],
      "text/plain": [
       "<IPython.lib.display.Audio object>"
      ]
     },
     "metadata": {},
     "output_type": "display_data"
    },
    {
     "name": "stdout",
     "output_type": "stream",
     "text": [
      "Playing poisoned audio 2\n"
     ]
    },
    {
     "data": {
      "text/html": [
       "\n",
       "                <audio  controls=\"controls\" >\n",
       "                    <source src=\"data:audio/wav;base64,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\" type=\"audio/wav\" />\n",
       "                    Your browser does not support the audio element.\n",
       "                </audio>\n",
       "              "
      ],
      "text/plain": [
       "<IPython.lib.display.Audio object>"
      ]
     },
     "metadata": {},
     "output_type": "display_data"
    },
    {
     "name": "stderr",
     "output_type": "stream",
     "text": [
      "100%|██████████| 600/600 [01:35<00:00,  6.26it/s]\n"
     ]
    },
    {
     "name": "stdout",
     "output_type": "stream",
     "text": [
      "Epoch 0, Loss: 1.9017942891518276\n"
     ]
    },
    {
     "name": "stderr",
     "output_type": "stream",
     "text": [
      "100%|██████████| 600/600 [01:32<00:00,  6.49it/s]\n"
     ]
    },
    {
     "name": "stdout",
     "output_type": "stream",
     "text": [
      "Epoch 1, Loss: 0.9490838185946147\n"
     ]
    },
    {
     "name": "stderr",
     "output_type": "stream",
     "text": [
      "100%|██████████| 600/600 [01:32<00:00,  6.47it/s]\n"
     ]
    },
    {
     "name": "stdout",
     "output_type": "stream",
     "text": [
      "Epoch 2, Loss: 0.6087485820800066\n",
      "Test Accuracy: 97.66666666666667%\n",
      "30\n",
      "540\n",
      "ASR: 5.555555555555555%\n",
      "Clean Accuracy Drop (CAD): 1.3333333333333286%\n",
      "Backdoor Attack Success Rate: 5.555555555555555%\n",
      "Running experiment with poisoning_rate=0.05 and shift_semitone=2\n",
      "Poisoning rate: 0.05, shift_semitone: 2\n"
     ]
    },
    {
     "name": "stderr",
     "output_type": "stream",
     "text": [
      "Some weights of Wav2Vec2ForSequenceClassification were not initialized from the model checkpoint at jonatasgrosman/wav2vec2-large-xlsr-53-english and are newly initialized: ['classifier.bias', 'classifier.weight', 'projector.bias', 'projector.weight']\n",
      "You should probably TRAIN this model on a down-stream task to be able to use it for predictions and inference.\n"
     ]
    },
    {
     "name": "stdout",
     "output_type": "stream",
     "text": [
      "Playing clean audio 1\n"
     ]
    },
    {
     "data": {
      "text/html": [
       "\n",
       "                <audio  controls=\"controls\" >\n",
       "                    <source src=\"data:audio/wav;base64,UklGRrAaAABXQVZFZm10IBAAAAABAAEAQB8AAIA+AAACABAAZGF0YYwaAACbAdT+hf7h/zD/eP9J/psBMP/EAAMCAP5xANv/1wDjAIX/UgFJ//0BYv8G/wAB3f1fAjD/NgEQASP+2gCu/vf/A/+Y/wMBTwGr/vP+fP8yAOH/XgBMAQYAIwF4/bj/UgGeAGgBFv/Q/V//IwGx/ogAPAD9/pX/CQDdARD+XwIPAMT+UwNh/FkDuP9v/tH/QgCkARX72wLt/soBm/8//W8BcgF7AZH8QAJc/0gAT/9CAEwBnv+FAYf7JwOFAo79UgCx/dv/cQAs/839ggI2Aur+cv8v/mgAewGI/w3/XwEvACn/hf6nAA0BdQDI/57/JwPw/mz/t/4QAk8Bt/0lAB3/wQHX/a7+lwDeAuH/kv9l/yIA7QHs/DD/Uv9vAt39fgAc/rX/SQI5/+7/5P5VABD/wQKC/5QAvQBiAY//gv7wAUUAugAp/h/+ugDUAT//PADqANv/iAFC/Z7/P/8z/yn+JgG0AN7/xAEJ/d4DtAB7AaT+Rv9J/9H+lwCt/BQDzQDaAB/8jgA5Ar39bgCJ+k0E4AA//iUALwCWBHH95ALj/AYBiwBF/XkCSABgBP39hf/BAEwBDwD7+iP/XAJlABb+Vf0gATMDNv8V/Q0BIAHX/+7/A//n//MASf7d/DkBrgBrAK4Apf8yAMECVQEA/44BsQGa/bICTP4PAL0APwC3/jIAFgG/+YMEWPwsAV//lP4DAp7/EwHk/kMCE/8DATX9CQCUAFv9T/7X/gMBkgIcAV79UwLqAK38GgQwA7QAq/5W/2v+9wF1/jf52AI2AtQAAAG4/0ACvwTD/Pb8IAJGAeP9XP7k/u0AJgGT+gD/1AITAb7+9v0pAjMBf/9h/TL+GgMWAIj/uv46Axn/1//2AJ7/fgGOAGn/vf0oB+L7fv5tBOj69wF7AdH/HQIGAWH8d/yvBCX83f7n/pf86gByAeAALP37BFj8AAHFAwwAiADB/mIAgv55BGr7iP86A2/+ewGI/nT9UwIOBH79rgC3ADwAcgJS/Uv9MwFZ/4v+PP/XAIgBmP+L/i/9NwXd/DD/4wBG/10ERf3LA3r8xABy/6v+DQLD+8cAb/43BMP8j/8XA7X/5QPH/WwBHwDKALH9WwAHAyL8cgGk/VIB+gAd/6r9l/27A/L7twFYALf+MAOBAFX+/QKVAdP9iQQZ/X7+YgGr/57+PwFu/TT6cAUy/dH/EwEyAKEBAAHEAIf8oAU5/uT/4AD9/S0ClP5lAL38rv8lAPf/VQA8/wcCTP/9ABn+pAG7A1L9eP+6AMcAAADb/0n+hQGuATn+t/70/8oAAwAm/zX94wA8AO3+0f6P/90AVQCBAP3/eAEsASIA7QDjADgAvv9v/roAtQKRAHj+Of9lAUgANv9I/GIB1AAJ/in+M//hARb/af9J/nUCiwDK/gwAf//HASUAlwDaAJUBNf1l/6gB4AAp/379+v9ZATMBzPsJAYgCbAFPAKv+mP+FAecAi/1ZAg8AxP+IAHj+T/9VAAkAVf5cApX/Sf9VAdP9XP+h/mL/u//BAJv+m/8AAvP+3v8WAFwBUgApAZv/vv8mAqQADf+OANcB0f8MAI7+ov9lAAAAL/7nAGUA1//6AJv/5AHBABYAfP9oAG//2fzz/f39i/+1/zz+jv6EAAMAnv7O/zgAIwFrAD8A2gHHAS8B4QF+AGIAMwIvALX/GQA8ACkAZQCY/vMAlQH0/1wBRgFoAGn/xwDH/u0AUv+3/dv/hP1F/nj9p/wo/ff/jv50/V//I/7qABD/LP8cAc4BAACl/y8BkQBfAQMAxABMAjUAKQFDA5UCOgPKARoErAW/A/QDIQUVBjQGMwMDAfAB1/9Y/p73over9pf0V/Jf79/x3/LS8q3zIPiX/BD/BwL+BKgJCgzBCgMKjQ/zEMsKbwoDCpMOBgjhA4MFsQgNA2L/0/10BikKaBil/87uThdw8sYGYt5S1Ln5gdUv1EbGq+Zh41LuyPBM9m0eeQzZF6EoSCjOK8gk0CCHHkccLgagBm/+F/Fk8vPsjPAA72TzbfInBMH/sQAoBuwGQgd4/+MP/zhN6h35Sxb18fMnvLEB4GwBnNd6yoy2lPS73u/zjdO3/RU/8Qt5GyIwPDo0RjcljRbqMaIjEv3V+uT2KOyd5L7Vst/48bnhDd65BGsAAQRxCOgE5R1FD98E0Ro5SgrnaAA/GOrvTid0oojfMP/hzzS6m7bb+SbdXfJt0vkQeEK6CA0iMjpLR1YzQCXVHTosrR426D8AufPG40jbn9eF5nboHeiZ4MkNYgBICGoOvQ6UIUoM0xcSLyUwu+YNEyYJHf/d9kKke/bO4Om6qbEZzW/w2tUP41Ppjim6JwcLtTsOR7FD9imtKBE1fyLMBpnwbQQy7aXWbtvv4WrphuHO6NH2rRBAA/0KCRhaFVce2wrDD3QoATym0VUH7gzA42AMSIot8APu0a4stPPEavqc0Xbo/uk8KyU3jfsQRLFjbzshNwYqpUNuOWD4W/S3EDLsFsYO0ZHcpeD5017Tgvd5C8r1ZQmEIIwc0CD5Dr4b6R+QLgUX+88+J3zf/PTS4ZSSHBGytxi6dLtk2jX1k9JD92L+IT8RHYsRmV9KTwM6DTzYLEND3x5z8AsGl/zB1lzPjdPo2aXYwtec4JAGi/1F/HUiXxFEH1gY+Q6ZHYf9BhpaLqO6AQMS9ajoBAMBgGMD9fH7uBnENNrrG4Tbde4YBTM8ITdY7ptLUGUoL2IpwCB0SLgk5Of889QK2+fWuzrY6eLU3mrRi92o/4gIofXFDIIiahWNDz4PUBRbB4H0KTLC+MzCtCgM02waDspkqVQ+VMKkzV/OGgss/7fM8QKzD6M+FPocB55jTznSHGAlxTVFOJcHffJLEFADTsxv13Lu39oR0KrcMuwD/0fz7/IWIXYMUQUqExgPrA2h/lj2FDXbCjy84i207gYQiuLOrn5AnszQxEvb8wBn+kHCw/sfEJ0nUfMQAexgxi6WHmswMjrbQ4cGVQgwG3kC8tJA3z7q98650jTSluHu7wLiXvROD40GcARSGAcMeBAsCJsCtwmVO2Ty2dK2RgzcTijeztvHdk2Vt2PRteBgBUfpzsb9AagJexkC7A4N6Wf3C/Ygx0lwLiwxcgJMI7oX6uUI2Y71xeA3sQ7Stehg0VLUpeZhDwAC/e6vFZYs7w0fCFkbSBi0CVwaBTg2zhcsfwNo/asbBJaQNj7yaKvO6N7nhvl/v7rdRxUJB+/y9vV4Uow0rfNdTW872yy4E+IMbTag89nb2evl8ubCIL6f7+7Ql9uq5e31HxH67sIVbic0DIUTzB1mGyMJ7f2aMOIurbPlJm4YNu83BA+svz0K756k7/Ml/cLxwLM9+IMWa+6w81v130a9GHHsmU5SMcoXFhB6JlwqkOof7bsCu/ZxzFTRogIG3nnPvPp4AeD+g/IKEswlywJrBw8YCBbY+S/1yxzFKwDN5vRYQAnllQtP1dcKUzNjqJHsdBBa66fNoteiDJjvaddm7wkZ2COH2nws9UYzC4wj7iN2PMUMBfxlGDIJQOdY1R4FHusbwTX1yPgE6YbqkfwhFub03fb3GrYNQ/cj+NkVvhmADh3fKCfrLZjdTS0F6mUSARSUu2wK6u6Cz6jXEdjG7LrTEtwU8jcEkhL97zo+eTtKFQg+bTY4QcQZag5bIdkFO+wA39f9xdmlx+zruN+x5UDfkfQ6A2DytvqgDuQJfv3DB0QVnBSOIcz6CBUMMez6qR2q7bcHvhHXxFrpM+db2wjJq8bP8ljcdteA+WANfR3HCUkyf0wULJ8zukBiQREebAvHGdb8xecE39jhzNq8wJ3aieH61cXgRPMI/Hj1BwSoEwEMPg3lFHsYCRGWFfgljPhLEAEd+fyhCC3fNwy0/km/de0l9Y/fQ8+p6i4GzOF47qsTShXMFBcMKDdSMhMSkivJLW0WXP6wD78FDOVd6aXn7+to1H7UDf/m4yTim/71BAwIAvxkD0ccjwTYBHwSdQm9/RX9vhJzBNvn+gpgC3/4hfbP+2AUKPM36eUF7QB+7VnoLQMDAs7niPepDf0Ik/lKBXwjRw21BMMPfRUvEVfzCwY+DmvszfSy+ET6APba7YgBL/5O/Rb/2QaXBkUA5gfHAfL7t/xK+tL6j/Bj+Sn/R/oUBBf5MQ09DF0EjQ82CZkMwQgj/1kCt/2L9rPzCvCz+4XuZvD4+oP61vuL9T4H4Aip+6wFuQ15DC0DVgNYERYJl/1SCcsKrwT6/gUHXAv1+fz86gDA/RjzoPSk/If0+u3N9e3+l/XW8w8AvQbA/dgDYQ4jC0cGwQjwENEKUgHTBnIJ4vsm9yX7kfbN7LTtpPUL8//sR/P3/lsAPvsSBiEO1ApvCR4OVxacDdMHPg3lDVQFCgOvA7sBL/1B+pj/2PhU8/326/n/9BDwnvdt+yj0i/XOAQoCLwCSAh8JGw5qBpoHVw2PCp4Azf6QBRf5d/Qy9lH03fSp8WTzAfrT+9D9cAWICUIJVQlbEB4NTg6yDIgIBwpoAS0CCQDp/Aj8efjY+Gf66vd19r/5qPeY9tX4QPhU+p38/f1pAg0CEgYKC8QK9wmADXMNQgnjCDUAtwFV/qzyi/XF8bXxmfEk8er11Pdr/QL7rgFGCvMH7gtWDNkPSRHDB7EIrgp3BZEAtf+4Ahb+9vVA+dD9//Ih8Un47vgl8z70o/on+lr6KPv3AckFAgYWCmsPuQ7TD6sT5g4KDKMNegbd/or7YPkM9mjuROl47Y7sb+cE8BX0l/Vj+r4BNgnHCXYMrxPCE2US4RKOEaIMbwr0CUACXP6a+4n6dfWv8UTzO/Su7sHvTPYf9WTzP/dl/vH/AAIhBjgQnA1LDm0UQxNPEFoMbQyeCC8A+PrS+dP15uyu7VXtCeyF7/Du7PRR+/r+u/8vCYsJTQ1LD20MKw52CxsN5gZHBSABLAHzAPX56vf2/GP67PRG+J37yPkd+FD5kf7KAAP9vgKgBtMGjwQ1CHIJOAjfBesC0gSOAKn77Ppm+Pf3B/cO8+H3SvmS9zj75/5MAsIE4QORB0oMVwbKB0ALGwWGA48EwQIyAFv9T//E/tH43/rU/lf7gfVb/G4Ak/kU+u3+sAXK/s38jQdRBjACpADDB/IF8P2FAqUC/f9+/B77ewDs+vH3nv34+gj7L/0G/+H/Fv8UA0oE6wIjAVAESQlZAhMBXgfnAowD0QE2AVQFxP2n/HUAWwAb+0v7jfyd++z7c/jy+wP+dPsu/Lr+rv8d/9H/CgKCA2kCXwLfBewFwQCoA1oGKQF+AJ4BUgEm/sr8HP7q/bz6zPsz/xL80Pyl/83+ZQA/AVYDNwQaAt4DdgT4A64B6ARJA3j/AAG3ALX/ZPvH/mX+OPuj+m36+f28+Wb5LP6n/Hf8Gf20AfcBqP8hBPgEkwTfBDoE0gSfBEMCmwJZA3IB/f9G/wP9X/+b/9b7of7e/0X+3Pr9/uMA4/0v/av/FgJb/WX9TwFfASz+lf/CA3wClf8jA+UDsQFYAJsB1QNM/yj9MwFl//n7yvy6/OP88vvK/Fv9iP4r/GX/vgE8AK4CvwMrBbUCTgYbBWAEyAR1AR4E6gAj/vH/P/5I/C777/tB+1r6JfuN+rP7nfwJ/df+KQBcAY8DSgTFBMMF1gaqB2oGYwQLBL4CDwAK/wn+Cf0a+Zv33/m++Lj4XfnD/LH9pP0gA9gDpgSKBZcGTwgRBSEFVAVQA0IBYv/wACj96Po4/Aj7gPpq+un7dPu8+o37/f0G/w8AaQJgBLkEvwR+B3sIDwc7B/8F8QOfApj/Zf5O/Ib6vvcA99T2QvYQ+Cf5CPuB/Q3/8ADVBIAFigYpCXUKbgi5BgwH2QUwAv3+qwHL/2D5ifiz+q/50/VD90v7+/kw+eP9IwIJABIAmQUcCRgHPgZmC5sKZAdNBV4GcATK/cr8wPyN+jz3EvW09tH2d/Pq9cj5C/q5+x8AsgLoBHcGkQj3CqgKEwrqCUMKGAfuBNgD2gAo/e75V/pg+WL29vVQ+DD43vdZ+J38I/4j/g0CxQSHBiUG9gYJCXUIMgeaBg8HsgQ8AOcAA/84/Aj65fmV+Cn2qPZ195b5J/gu+gz9iP4AAXwDCwY8CN0HuwkmCgAJlwbfBiQFQANiAOUDwQle8ybmOvCLAUH8ZOvk9pQHXgfs+jX9cwuqD60PlACO9nr7TQQ1CG/4WvlaBcAHhf+U/B4FhgMBBSQEoPLI73fy6wP0ClXs9em3/SsNMwEY9OgErQ83DTAD0wd8FGIK8gR8A0AE5QOP+Z/5kviW+er26fMz+Pj6EvsH+GH77gOLAGT83QGdB28J+v/OAXIJtwjSBNv/tQPhAQn+9vwo/Bb/NvjL92H8nv1B/J/5vf0tA4X/uv4QAsMFIwpiAmAFagZJCR4FWACfA/3/mwB1/gP3hvgk+jf6Bfut9Ff6Ff0DAZj+jv6oAZYEUQeSA7oAlAhbCOIEhQHIAhkIUv+LAH37XP9r/B35Y/gr+y78dvj4+gP/gv6d/KX/lQNRBmX9CwU4CIEIVQD4BLEJHQJv/ov+AgZZAaL5MPjg/o4Av/pe89/6A/8DAfj5dPwAAn8DyASd+4AEIwlNBV8BbwFrB7ICW/23/r4C3QHq92r7rgIA/iT51fnjANQBIPi6/mIAoQEA/6H+4QM2ASUItf/K/rAGsAXrBJH+aAH+BE//pP4I+qsBvPqS+Jf9k/p4AYP5vfzBAsECfgF1/lwD3wQz/1gAEwJmBF//VPzUAWMD+gJB/H37DgToAwz8/PwNAYICRf0o/CkAFAN8/1j94/2S/48CXP7x/+D8BwLVBE79pAAj/o8ETAHw/iACoQAtA9P8m/9PAq39qv1S/TkC1AKv+rEA8f9/AvP+eADFAmf74QHR/vABLP5U/IUBJv67/xn+XwHPBEb/DAD2AMUD/gT8/JH8cgJfATD/QPhI/dQAUv9e+8b6cwVyASn/8PxHBtkGCQDaAMsDRAbHAOP8rgHEAJEB7PpO/IIBIv2r/vr3fgFbAJ7+yfvQ/KIESAC9/df9WQE0BU8BP/3zAOwFfASe/rr+dQJZA3//Jf01/EIBoQDZ+8n72v3UAvH/+ftfAWkDrATh/7sBpgVVAW8Ci/9VAMT/m/5P/8b67f0AAFf6df7p+54BYf2n/tsCFf0RBPD9dQLUABMBLQNi//EDWwCYAfcBi/98A6L/2gBCAKr8i/+U/cEA//rN/Vz/of0W/5D7qALhAZEAKQF+AYkEmAIvAZ8D5AJoAP39/f9fAof9Qv0M/Kj/8P6R/LP8i/5MAvz7Uv6q/UwCqgBC/foAeP7DBVIBIAJvAzYBpgbzAE8CUgGkAPABCf0W/wz95/7A+3v9PP5O+3j+of2hASwBKf54/28DyAKGA1UA1wEBBfH/3QBf/3UBAAB0+zb+Cv8GAMP7W/0DAI7+2v38+7EBKQIw//D+QgCDBE8Ccv/hAX8DEQXwAWUBeQIBA2wBfv47/L7+0f5u/Ob7r/r9/iX8/f2X/JX/pwA1AGwCiwHrA5sC7AUTAtEB5wGuAiwBwP33/7T+1/7m/ZD7dP3u/3j98P1L/HUAi/4fAMEBCf5QBBn/9APEADADLgXk/swEPP6vA5H+mv3IAkj93f3f+rj/+fzd/Vv8of4PAKX/1wEG/+oBYgCGBAYBZgKGAzMB9AIw/18Bj//a/nEAQ//T/af8nv/K/kv9G/yX/RwB8f8G/tH+tAEHAhADSf/gAFMDtQRZATUAxwApAUIBA/1bALf+Q//d/Cn+Rfz0/0X+2v7q/eD+jwJ///0BO/1rBwkBAwHBANoAnQXE/+ECRf08AagBpPyuACj8Jv66AB/8Bfyz+0UAgQCe/lX+PwFCAHkCvQBCAVMD5P+ZAyABVQGfAlUB1P5v/2IAvQAA/7n7EP88/1/+hf5l/b0Ai//k/uoA8/4jAq4BDQFyAecAiAEMAAD/uP9cAqv/rv7k/r4Bvv93+zYBGf+xAAD/4f+x/x/+mwHn/hYCNf3U/x0DPP/dAGL/KQEwAtAAcQAP/asBewHU/osBMv4zASb/TP5r/UIAOQFi/rr+0f/RAb7/CQFF/n8CBgHh/5gB7QBiAfr+pwCu/sT/ewB4/lz/uP9e/e3+Qv7UARP/xP0sAaT+pACeAHUAygClAvYAm/8M/soAIAIJABwAI/+rAUkBP/8vAaEBDQFuAEX95v0//g3/fP+H/Zv/4wB1/2ICu/+OAHsBzQCLAV/+PAIiANcBOf/R/mUAHf/9/br8fP85/ogBDP1s/x3/aAFpAlj9yALgAA0CeP7H/rEBsQC7AhX9twC4AqEAZgLd/bsCuP9PABkA4P0WAcD8TwBo/c3+uv4G/8oAP/3UAkb/bgCl/3sA5AKI/jYBPADtAVIACv8T/5v/LQJ4/tr+6v4vAQMBnv7n/iD/9wKh/scAHP2uAfABtP08ABz+YwTn/xAByv5ZAV8B7QDe/47+1wC3AIsAGPwp/+39gQA8/yv8Zf+Y/ywBhf8w/5gC/QCVASn/7QGVAtAAfgASAGkCFv+I/q7/tAEG/mj+Uv2xAA8A2fxGAT/9BwO0/mz/BgCe//0C7f5JArX/7QE2ATwBPwDX/54AgQBoAbf94/1y/jYBTP6H/Kf+mP5lANf+Df/gAIv/1wEcAXICdQFCATYDm//2AD//fwKeADz+Uv/9/doArf3q/UX+9v0mAe3+aP42/4X/ywI7/WUA1wGYAkkCKf7CA+oAygG9AOoAmwDn/4//X/+I/2j+0/3g/Dz/LP9l/639Gf9/ArH/jgAJAPcBZgN4/90APwCSAvABA/6L/jwApwBJ/rf8Jv/3ATn/oPw4/cEAOQF7/lb/RgG+AlIA8f+3AA0B0QLI/y8AAwFAAu0Azf5c/5QAKf8W/9f+GQDN/rP8Vv9M/kIBwf66AKX/ewFlAR8AYgEZAeEC+f1iAVX+IAGF/9H+XgAD/qUC/f1P/hn+/f/gAOD92v5l/zMB9/8w/4sB5AF8AsH/UgEJAQAC9P9M/0IB8/7wARb+UgBy/gD/LADK/dv/vv8N/yz/Qv4sAI4AT/7tALj/pAHu/5QA\" type=\"audio/wav\" />\n",
       "                    Your browser does not support the audio element.\n",
       "                </audio>\n",
       "              "
      ],
      "text/plain": [
       "<IPython.lib.display.Audio object>"
      ]
     },
     "metadata": {},
     "output_type": "display_data"
    },
    {
     "name": "stdout",
     "output_type": "stream",
     "text": [
      "Playing poisoned audio 1\n"
     ]
    },
    {
     "data": {
      "text/html": [
       "\n",
       "                <audio  controls=\"controls\" >\n",
       "                    <source src=\"data:audio/wav;base64,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\" type=\"audio/wav\" />\n",
       "                    Your browser does not support the audio element.\n",
       "                </audio>\n",
       "              "
      ],
      "text/plain": [
       "<IPython.lib.display.Audio object>"
      ]
     },
     "metadata": {},
     "output_type": "display_data"
    },
    {
     "name": "stdout",
     "output_type": "stream",
     "text": [
      "Playing clean audio 2\n"
     ]
    },
    {
     "data": {
      "text/html": [
       "\n",
       "                <audio  controls=\"controls\" >\n",
       "                    <source src=\"data:audio/wav;base64,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\" type=\"audio/wav\" />\n",
       "                    Your browser does not support the audio element.\n",
       "                </audio>\n",
       "              "
      ],
      "text/plain": [
       "<IPython.lib.display.Audio object>"
      ]
     },
     "metadata": {},
     "output_type": "display_data"
    },
    {
     "name": "stdout",
     "output_type": "stream",
     "text": [
      "Playing poisoned audio 2\n"
     ]
    },
    {
     "data": {
      "text/html": [
       "\n",
       "                <audio  controls=\"controls\" >\n",
       "                    <source src=\"data:audio/wav;base64,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\" type=\"audio/wav\" />\n",
       "                    Your browser does not support the audio element.\n",
       "                </audio>\n",
       "              "
      ],
      "text/plain": [
       "<IPython.lib.display.Audio object>"
      ]
     },
     "metadata": {},
     "output_type": "display_data"
    },
    {
     "name": "stderr",
     "output_type": "stream",
     "text": [
      "100%|██████████| 600/600 [01:32<00:00,  6.50it/s]\n"
     ]
    },
    {
     "name": "stdout",
     "output_type": "stream",
     "text": [
      "Epoch 0, Loss: 1.9934039435784021\n"
     ]
    },
    {
     "name": "stderr",
     "output_type": "stream",
     "text": [
      "100%|██████████| 600/600 [01:30<00:00,  6.63it/s]\n"
     ]
    },
    {
     "name": "stdout",
     "output_type": "stream",
     "text": [
      "Epoch 1, Loss: 1.1108380945026874\n"
     ]
    },
    {
     "name": "stderr",
     "output_type": "stream",
     "text": [
      "100%|██████████| 600/600 [01:30<00:00,  6.62it/s]\n"
     ]
    },
    {
     "name": "stdout",
     "output_type": "stream",
     "text": [
      "Epoch 2, Loss: 0.7016705177724362\n",
      "Test Accuracy: 98.83333333333333%\n",
      "234\n",
      "540\n",
      "ASR: 43.333333333333336%\n",
      "Clean Accuracy Drop (CAD): 0.1666666666666714%\n",
      "Backdoor Attack Success Rate: 43.333333333333336%\n",
      "Running experiment with poisoning_rate=0.05 and shift_semitone=4\n",
      "Poisoning rate: 0.05, shift_semitone: 4\n"
     ]
    },
    {
     "name": "stderr",
     "output_type": "stream",
     "text": [
      "Some weights of Wav2Vec2ForSequenceClassification were not initialized from the model checkpoint at jonatasgrosman/wav2vec2-large-xlsr-53-english and are newly initialized: ['classifier.bias', 'classifier.weight', 'projector.bias', 'projector.weight']\n",
      "You should probably TRAIN this model on a down-stream task to be able to use it for predictions and inference.\n"
     ]
    },
    {
     "name": "stdout",
     "output_type": "stream",
     "text": [
      "Playing clean audio 1\n"
     ]
    },
    {
     "data": {
      "text/html": [
       "\n",
       "                <audio  controls=\"controls\" >\n",
       "                    <source src=\"data:audio/wav;base64,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\" type=\"audio/wav\" />\n",
       "                    Your browser does not support the audio element.\n",
       "                </audio>\n",
       "              "
      ],
      "text/plain": [
       "<IPython.lib.display.Audio object>"
      ]
     },
     "metadata": {},
     "output_type": "display_data"
    },
    {
     "name": "stdout",
     "output_type": "stream",
     "text": [
      "Playing poisoned audio 1\n"
     ]
    },
    {
     "data": {
      "text/html": [
       "\n",
       "                <audio  controls=\"controls\" >\n",
       "                    <source src=\"data:audio/wav;base64,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\" type=\"audio/wav\" />\n",
       "                    Your browser does not support the audio element.\n",
       "                </audio>\n",
       "              "
      ],
      "text/plain": [
       "<IPython.lib.display.Audio object>"
      ]
     },
     "metadata": {},
     "output_type": "display_data"
    },
    {
     "name": "stdout",
     "output_type": "stream",
     "text": [
      "Playing clean audio 2\n"
     ]
    },
    {
     "data": {
      "text/html": [
       "\n",
       "                <audio  controls=\"controls\" >\n",
       "                    <source src=\"data:audio/wav;base64,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\" type=\"audio/wav\" />\n",
       "                    Your browser does not support the audio element.\n",
       "                </audio>\n",
       "              "
      ],
      "text/plain": [
       "<IPython.lib.display.Audio object>"
      ]
     },
     "metadata": {},
     "output_type": "display_data"
    },
    {
     "name": "stdout",
     "output_type": "stream",
     "text": [
      "Playing poisoned audio 2\n"
     ]
    },
    {
     "data": {
      "text/html": [
       "\n",
       "                <audio  controls=\"controls\" >\n",
       "                    <source src=\"data:audio/wav;base64,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\" type=\"audio/wav\" />\n",
       "                    Your browser does not support the audio element.\n",
       "                </audio>\n",
       "              "
      ],
      "text/plain": [
       "<IPython.lib.display.Audio object>"
      ]
     },
     "metadata": {},
     "output_type": "display_data"
    },
    {
     "name": "stderr",
     "output_type": "stream",
     "text": [
      "100%|██████████| 600/600 [01:32<00:00,  6.48it/s]\n"
     ]
    },
    {
     "name": "stdout",
     "output_type": "stream",
     "text": [
      "Epoch 0, Loss: 2.0176607964436215\n"
     ]
    },
    {
     "name": "stderr",
     "output_type": "stream",
     "text": [
      "100%|██████████| 600/600 [01:30<00:00,  6.64it/s]\n"
     ]
    },
    {
     "name": "stdout",
     "output_type": "stream",
     "text": [
      "Epoch 1, Loss: 1.3254758073886235\n"
     ]
    },
    {
     "name": "stderr",
     "output_type": "stream",
     "text": [
      "100%|██████████| 600/600 [01:31<00:00,  6.59it/s]\n"
     ]
    },
    {
     "name": "stdout",
     "output_type": "stream",
     "text": [
      "Epoch 2, Loss: 0.8545429950207472\n",
      "Test Accuracy: 98.5%\n",
      "518\n",
      "540\n",
      "ASR: 95.92592592592592%\n",
      "Clean Accuracy Drop (CAD): 0.5%\n",
      "Backdoor Attack Success Rate: 95.92592592592592%\n",
      "Running experiment with poisoning_rate=0.1 and shift_semitone=2\n",
      "Poisoning rate: 0.1, shift_semitone: 2\n"
     ]
    },
    {
     "name": "stderr",
     "output_type": "stream",
     "text": [
      "Some weights of Wav2Vec2ForSequenceClassification were not initialized from the model checkpoint at jonatasgrosman/wav2vec2-large-xlsr-53-english and are newly initialized: ['classifier.bias', 'classifier.weight', 'projector.bias', 'projector.weight']\n",
      "You should probably TRAIN this model on a down-stream task to be able to use it for predictions and inference.\n"
     ]
    },
    {
     "name": "stdout",
     "output_type": "stream",
     "text": [
      "Playing clean audio 1\n"
     ]
    },
    {
     "data": {
      "text/html": [
       "\n",
       "                <audio  controls=\"controls\" >\n",
       "                    <source src=\"data:audio/wav;base64,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\" type=\"audio/wav\" />\n",
       "                    Your browser does not support the audio element.\n",
       "                </audio>\n",
       "              "
      ],
      "text/plain": [
       "<IPython.lib.display.Audio object>"
      ]
     },
     "metadata": {},
     "output_type": "display_data"
    },
    {
     "name": "stdout",
     "output_type": "stream",
     "text": [
      "Playing poisoned audio 1\n"
     ]
    },
    {
     "data": {
      "text/html": [
       "\n",
       "                <audio  controls=\"controls\" >\n",
       "                    <source src=\"data:audio/wav;base64,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\" type=\"audio/wav\" />\n",
       "                    Your browser does not support the audio element.\n",
       "                </audio>\n",
       "              "
      ],
      "text/plain": [
       "<IPython.lib.display.Audio object>"
      ]
     },
     "metadata": {},
     "output_type": "display_data"
    },
    {
     "name": "stdout",
     "output_type": "stream",
     "text": [
      "Playing clean audio 2\n"
     ]
    },
    {
     "data": {
      "text/html": [
       "\n",
       "                <audio  controls=\"controls\" >\n",
       "                    <source src=\"data:audio/wav;base64,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\" type=\"audio/wav\" />\n",
       "                    Your browser does not support the audio element.\n",
       "                </audio>\n",
       "              "
      ],
      "text/plain": [
       "<IPython.lib.display.Audio object>"
      ]
     },
     "metadata": {},
     "output_type": "display_data"
    },
    {
     "name": "stdout",
     "output_type": "stream",
     "text": [
      "Playing poisoned audio 2\n"
     ]
    },
    {
     "data": {
      "text/html": [
       "\n",
       "                <audio  controls=\"controls\" >\n",
       "                    <source src=\"data:audio/wav;base64,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\" type=\"audio/wav\" />\n",
       "                    Your browser does not support the audio element.\n",
       "                </audio>\n",
       "              "
      ],
      "text/plain": [
       "<IPython.lib.display.Audio object>"
      ]
     },
     "metadata": {},
     "output_type": "display_data"
    },
    {
     "name": "stderr",
     "output_type": "stream",
     "text": [
      "100%|██████████| 600/600 [01:32<00:00,  6.49it/s]\n"
     ]
    },
    {
     "name": "stdout",
     "output_type": "stream",
     "text": [
      "Epoch 0, Loss: 2.0249849080046016\n"
     ]
    },
    {
     "name": "stderr",
     "output_type": "stream",
     "text": [
      "100%|██████████| 600/600 [01:30<00:00,  6.62it/s]\n"
     ]
    },
    {
     "name": "stdout",
     "output_type": "stream",
     "text": [
      "Epoch 1, Loss: 1.4014435193439325\n"
     ]
    },
    {
     "name": "stderr",
     "output_type": "stream",
     "text": [
      "100%|██████████| 600/600 [01:30<00:00,  6.62it/s]\n"
     ]
    },
    {
     "name": "stdout",
     "output_type": "stream",
     "text": [
      "Epoch 2, Loss: 0.8510140150537093\n",
      "Test Accuracy: 96.83333333333334%\n",
      "513\n",
      "540\n",
      "ASR: 95.0%\n",
      "Clean Accuracy Drop (CAD): 2.166666666666657%\n",
      "Backdoor Attack Success Rate: 95.0%\n",
      "Running experiment with poisoning_rate=0.1 and shift_semitone=4\n",
      "Poisoning rate: 0.1, shift_semitone: 4\n"
     ]
    },
    {
     "name": "stderr",
     "output_type": "stream",
     "text": [
      "Some weights of Wav2Vec2ForSequenceClassification were not initialized from the model checkpoint at jonatasgrosman/wav2vec2-large-xlsr-53-english and are newly initialized: ['classifier.bias', 'classifier.weight', 'projector.bias', 'projector.weight']\n",
      "You should probably TRAIN this model on a down-stream task to be able to use it for predictions and inference.\n"
     ]
    },
    {
     "name": "stdout",
     "output_type": "stream",
     "text": [
      "Playing clean audio 1\n"
     ]
    },
    {
     "data": {
      "text/html": [
       "\n",
       "                <audio  controls=\"controls\" >\n",
       "                    <source src=\"data:audio/wav;base64,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\" type=\"audio/wav\" />\n",
       "                    Your browser does not support the audio element.\n",
       "                </audio>\n",
       "              "
      ],
      "text/plain": [
       "<IPython.lib.display.Audio object>"
      ]
     },
     "metadata": {},
     "output_type": "display_data"
    },
    {
     "name": "stdout",
     "output_type": "stream",
     "text": [
      "Playing poisoned audio 1\n"
     ]
    },
    {
     "data": {
      "text/html": [
       "\n",
       "                <audio  controls=\"controls\" >\n",
       "                    <source src=\"data:audio/wav;base64,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\" type=\"audio/wav\" />\n",
       "                    Your browser does not support the audio element.\n",
       "                </audio>\n",
       "              "
      ],
      "text/plain": [
       "<IPython.lib.display.Audio object>"
      ]
     },
     "metadata": {},
     "output_type": "display_data"
    },
    {
     "name": "stdout",
     "output_type": "stream",
     "text": [
      "Playing clean audio 2\n"
     ]
    },
    {
     "data": {
      "text/html": [
       "\n",
       "                <audio  controls=\"controls\" >\n",
       "                    <source src=\"data:audio/wav;base64,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\" type=\"audio/wav\" />\n",
       "                    Your browser does not support the audio element.\n",
       "                </audio>\n",
       "              "
      ],
      "text/plain": [
       "<IPython.lib.display.Audio object>"
      ]
     },
     "metadata": {},
     "output_type": "display_data"
    },
    {
     "name": "stdout",
     "output_type": "stream",
     "text": [
      "Playing poisoned audio 2\n"
     ]
    },
    {
     "data": {
      "text/html": [
       "\n",
       "                <audio  controls=\"controls\" >\n",
       "                    <source src=\"data:audio/wav;base64,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\" type=\"audio/wav\" />\n",
       "                    Your browser does not support the audio element.\n",
       "                </audio>\n",
       "              "
      ],
      "text/plain": [
       "<IPython.lib.display.Audio object>"
      ]
     },
     "metadata": {},
     "output_type": "display_data"
    },
    {
     "name": "stderr",
     "output_type": "stream",
     "text": [
      "100%|██████████| 600/600 [01:33<00:00,  6.40it/s]\n"
     ]
    },
    {
     "name": "stdout",
     "output_type": "stream",
     "text": [
      "Epoch 0, Loss: 1.9432264141241709\n"
     ]
    },
    {
     "name": "stderr",
     "output_type": "stream",
     "text": [
      "100%|██████████| 600/600 [01:31<00:00,  6.58it/s]\n"
     ]
    },
    {
     "name": "stdout",
     "output_type": "stream",
     "text": [
      "Epoch 1, Loss: 1.3384245717028778\n"
     ]
    },
    {
     "name": "stderr",
     "output_type": "stream",
     "text": [
      "100%|██████████| 600/600 [01:30<00:00,  6.60it/s]\n"
     ]
    },
    {
     "name": "stdout",
     "output_type": "stream",
     "text": [
      "Epoch 2, Loss: 0.8981200034481783\n",
      "Test Accuracy: 95.33333333333334%\n",
      "537\n",
      "540\n",
      "ASR: 99.44444444444444%\n",
      "Clean Accuracy Drop (CAD): 3.666666666666657%\n",
      "Backdoor Attack Success Rate: 99.44444444444444%\n"
     ]
    }
   ],
   "source": [
    "poisoning_rates = [0.01, 0.05, 0.1]  \n",
    "shift_semitones = [2, 4]  \n",
    "\n",
    "results = []\n",
    "\n",
    "for poisoning_rate, shift_semitone in product(poisoning_rates, shift_semitones):\n",
    "    print(f\"Running experiment with poisoning_rate={poisoning_rate} and shift_semitone={shift_semitone}\")\n",
    "    backdoor_accuracy, backdoor_attack_success_rate, accuracy_drop = backdoor_attack_and_eval_wav2vec2(poisoning_rate, shift_semitone)\n",
    "        \n",
    "    clean_accuracy_after = backdoor_accuracy\n",
    "\n",
    "    results.append({\n",
    "        'poisoning_rate': poisoning_rate,\n",
    "        'shift_semitone': shift_semitone,\n",
    "        'backdoor_success_rate': backdoor_attack_success_rate,\n",
    "        'clean_accuracy_after': clean_accuracy_after,\n",
    "        'clean_accuracy_drop': clean_accuracy - clean_accuracy_after\n",
    "    })\n",
    "\n",
    "# print(results_df)"
   ]
  },
  {
   "cell_type": "code",
   "execution_count": 14,
   "id": "b26a7501",
   "metadata": {
    "execution": {
     "iopub.execute_input": "2024-11-26T20:14:55.426173Z",
     "iopub.status.busy": "2024-11-26T20:14:55.425721Z",
     "iopub.status.idle": "2024-11-26T20:14:55.430844Z",
     "shell.execute_reply": "2024-11-26T20:14:55.430127Z"
    },
    "papermill": {
     "duration": 0.569506,
     "end_time": "2024-11-26T20:14:55.432483",
     "exception": false,
     "start_time": "2024-11-26T20:14:54.862977",
     "status": "completed"
    },
    "tags": []
   },
   "outputs": [],
   "source": [
    "results_df = pd.DataFrame(results)"
   ]
  },
  {
   "cell_type": "code",
   "execution_count": 15,
   "id": "a22eb440",
   "metadata": {
    "execution": {
     "iopub.execute_input": "2024-11-26T20:14:56.556909Z",
     "iopub.status.busy": "2024-11-26T20:14:56.555963Z",
     "iopub.status.idle": "2024-11-26T20:14:56.570597Z",
     "shell.execute_reply": "2024-11-26T20:14:56.569717Z"
    },
    "papermill": {
     "duration": 0.552702,
     "end_time": "2024-11-26T20:14:56.572352",
     "exception": false,
     "start_time": "2024-11-26T20:14:56.019650",
     "status": "completed"
    },
    "tags": []
   },
   "outputs": [
    {
     "data": {
      "text/html": [
       "<div>\n",
       "<style scoped>\n",
       "    .dataframe tbody tr th:only-of-type {\n",
       "        vertical-align: middle;\n",
       "    }\n",
       "\n",
       "    .dataframe tbody tr th {\n",
       "        vertical-align: top;\n",
       "    }\n",
       "\n",
       "    .dataframe thead th {\n",
       "        text-align: right;\n",
       "    }\n",
       "</style>\n",
       "<table border=\"1\" class=\"dataframe\">\n",
       "  <thead>\n",
       "    <tr style=\"text-align: right;\">\n",
       "      <th></th>\n",
       "      <th>poisoning_rate</th>\n",
       "      <th>shift_semitone</th>\n",
       "      <th>backdoor_success_rate</th>\n",
       "      <th>clean_accuracy_after</th>\n",
       "      <th>clean_accuracy_drop</th>\n",
       "    </tr>\n",
       "  </thead>\n",
       "  <tbody>\n",
       "    <tr>\n",
       "      <th>0</th>\n",
       "      <td>0.01</td>\n",
       "      <td>2</td>\n",
       "      <td>0.000000</td>\n",
       "      <td>98.500000</td>\n",
       "      <td>0.500000</td>\n",
       "    </tr>\n",
       "    <tr>\n",
       "      <th>1</th>\n",
       "      <td>0.01</td>\n",
       "      <td>4</td>\n",
       "      <td>5.555556</td>\n",
       "      <td>97.666667</td>\n",
       "      <td>1.333333</td>\n",
       "    </tr>\n",
       "    <tr>\n",
       "      <th>2</th>\n",
       "      <td>0.05</td>\n",
       "      <td>2</td>\n",
       "      <td>43.333333</td>\n",
       "      <td>98.833333</td>\n",
       "      <td>0.166667</td>\n",
       "    </tr>\n",
       "    <tr>\n",
       "      <th>3</th>\n",
       "      <td>0.05</td>\n",
       "      <td>4</td>\n",
       "      <td>95.925926</td>\n",
       "      <td>98.500000</td>\n",
       "      <td>0.500000</td>\n",
       "    </tr>\n",
       "    <tr>\n",
       "      <th>4</th>\n",
       "      <td>0.10</td>\n",
       "      <td>2</td>\n",
       "      <td>95.000000</td>\n",
       "      <td>96.833333</td>\n",
       "      <td>2.166667</td>\n",
       "    </tr>\n",
       "    <tr>\n",
       "      <th>5</th>\n",
       "      <td>0.10</td>\n",
       "      <td>4</td>\n",
       "      <td>99.444444</td>\n",
       "      <td>95.333333</td>\n",
       "      <td>3.666667</td>\n",
       "    </tr>\n",
       "  </tbody>\n",
       "</table>\n",
       "</div>"
      ],
      "text/plain": [
       "   poisoning_rate  shift_semitone  backdoor_success_rate  \\\n",
       "0            0.01               2               0.000000   \n",
       "1            0.01               4               5.555556   \n",
       "2            0.05               2              43.333333   \n",
       "3            0.05               4              95.925926   \n",
       "4            0.10               2              95.000000   \n",
       "5            0.10               4              99.444444   \n",
       "\n",
       "   clean_accuracy_after  clean_accuracy_drop  \n",
       "0             98.500000             0.500000  \n",
       "1             97.666667             1.333333  \n",
       "2             98.833333             0.166667  \n",
       "3             98.500000             0.500000  \n",
       "4             96.833333             2.166667  \n",
       "5             95.333333             3.666667  "
      ]
     },
     "execution_count": 15,
     "metadata": {},
     "output_type": "execute_result"
    }
   ],
   "source": [
    "results_df"
   ]
  },
  {
   "cell_type": "code",
   "execution_count": 16,
   "id": "b2b6bbd4",
   "metadata": {
    "execution": {
     "iopub.execute_input": "2024-11-26T20:14:57.689361Z",
     "iopub.status.busy": "2024-11-26T20:14:57.688985Z",
     "iopub.status.idle": "2024-11-26T20:14:57.698002Z",
     "shell.execute_reply": "2024-11-26T20:14:57.697172Z"
    },
    "papermill": {
     "duration": 0.536494,
     "end_time": "2024-11-26T20:14:57.699755",
     "exception": false,
     "start_time": "2024-11-26T20:14:57.163261",
     "status": "completed"
    },
    "tags": []
   },
   "outputs": [],
   "source": [
    "results_df.to_csv('Wav2Vec2-SD-BKDR-PitchShift.csv', sep='\\t', index=False)"
   ]
  },
  {
   "cell_type": "code",
   "execution_count": null,
   "id": "d9d8c62d",
   "metadata": {
    "papermill": {
     "duration": 0.528486,
     "end_time": "2024-11-26T20:14:58.801485",
     "exception": false,
     "start_time": "2024-11-26T20:14:58.272999",
     "status": "completed"
    },
    "tags": []
   },
   "outputs": [],
   "source": []
  }
 ],
 "metadata": {
  "kaggle": {
   "accelerator": "gpu",
   "dataSources": [
    {
     "datasetId": 5789127,
     "sourceId": 9510683,
     "sourceType": "datasetVersion"
    }
   ],
   "isGpuEnabled": true,
   "isInternetEnabled": true,
   "language": "python",
   "sourceType": "notebook"
  },
  "kernelspec": {
   "display_name": "Python 3",
   "language": "python",
   "name": "python3"
  },
  "language_info": {
   "codemirror_mode": {
    "name": "ipython",
    "version": 3
   },
   "file_extension": ".py",
   "mimetype": "text/x-python",
   "name": "python",
   "nbconvert_exporter": "python",
   "pygments_lexer": "ipython3",
   "version": "3.10.14"
  },
  "papermill": {
   "default_parameters": {},
   "duration": 23430.489182,
   "end_time": "2024-11-26T20:15:03.060463",
   "environment_variables": {},
   "exception": null,
   "input_path": "__notebook__.ipynb",
   "output_path": "__notebook__.ipynb",
   "parameters": {},
   "start_time": "2024-11-26T13:44:32.571281",
   "version": "2.6.0"
  },
  "widgets": {
   "application/vnd.jupyter.widget-state+json": {
    "state": {
     "0b5dc1fffd794e1baaa0af6a2356040f": {
      "model_module": "@jupyter-widgets/base",
      "model_module_version": "1.2.0",
      "model_name": "LayoutModel",
      "state": {
       "_model_module": "@jupyter-widgets/base",
       "_model_module_version": "1.2.0",
       "_model_name": "LayoutModel",
       "_view_count": null,
       "_view_module": "@jupyter-widgets/base",
       "_view_module_version": "1.2.0",
       "_view_name": "LayoutView",
       "align_content": null,
       "align_items": null,
       "align_self": null,
       "border": null,
       "bottom": null,
       "display": null,
       "flex": null,
       "flex_flow": null,
       "grid_area": null,
       "grid_auto_columns": null,
       "grid_auto_flow": null,
       "grid_auto_rows": null,
       "grid_column": null,
       "grid_gap": null,
       "grid_row": null,
       "grid_template_areas": null,
       "grid_template_columns": null,
       "grid_template_rows": null,
       "height": null,
       "justify_content": null,
       "justify_items": null,
       "left": null,
       "margin": null,
       "max_height": null,
       "max_width": null,
       "min_height": null,
       "min_width": null,
       "object_fit": null,
       "object_position": null,
       "order": null,
       "overflow": null,
       "overflow_x": null,
       "overflow_y": null,
       "padding": null,
       "right": null,
       "top": null,
       "visibility": null,
       "width": null
      }
     },
     "0ee483770be041849ed9ee56facd41ea": {
      "model_module": "@jupyter-widgets/controls",
      "model_module_version": "1.5.0",
      "model_name": "ProgressStyleModel",
      "state": {
       "_model_module": "@jupyter-widgets/controls",
       "_model_module_version": "1.5.0",
       "_model_name": "ProgressStyleModel",
       "_view_count": null,
       "_view_module": "@jupyter-widgets/base",
       "_view_module_version": "1.2.0",
       "_view_name": "StyleView",
       "bar_color": null,
       "description_width": ""
      }
     },
     "205bc2904768479cbef0a088ffc305e2": {
      "model_module": "@jupyter-widgets/controls",
      "model_module_version": "1.5.0",
      "model_name": "HBoxModel",
      "state": {
       "_dom_classes": [],
       "_model_module": "@jupyter-widgets/controls",
       "_model_module_version": "1.5.0",
       "_model_name": "HBoxModel",
       "_view_count": null,
       "_view_module": "@jupyter-widgets/controls",
       "_view_module_version": "1.5.0",
       "_view_name": "HBoxView",
       "box_style": "",
       "children": [
        "IPY_MODEL_7ef509d2196d4862b4d35c83b0a936d6",
        "IPY_MODEL_56436e5035a54a34b628b316c68b96c0",
        "IPY_MODEL_c8faabd4b0bb467c97883ce7b156e00c"
       ],
       "layout": "IPY_MODEL_6ce398c540dc44a9bc86e8e6b16d8f58"
      }
     },
     "256256448c4449e4a50676d035517fbd": {
      "model_module": "@jupyter-widgets/controls",
      "model_module_version": "1.5.0",
      "model_name": "DescriptionStyleModel",
      "state": {
       "_model_module": "@jupyter-widgets/controls",
       "_model_module_version": "1.5.0",
       "_model_name": "DescriptionStyleModel",
       "_view_count": null,
       "_view_module": "@jupyter-widgets/base",
       "_view_module_version": "1.2.0",
       "_view_name": "StyleView",
       "description_width": ""
      }
     },
     "2debf2520cc54ce191a9940da40ef693": {
      "model_module": "@jupyter-widgets/controls",
      "model_module_version": "1.5.0",
      "model_name": "HTMLModel",
      "state": {
       "_dom_classes": [],
       "_model_module": "@jupyter-widgets/controls",
       "_model_module_version": "1.5.0",
       "_model_name": "HTMLModel",
       "_view_count": null,
       "_view_module": "@jupyter-widgets/controls",
       "_view_module_version": "1.5.0",
       "_view_name": "HTMLView",
       "description": "",
       "description_tooltip": null,
       "layout": "IPY_MODEL_8bd997ff04964ada80b606db973a35df",
       "placeholder": "​",
       "style": "IPY_MODEL_88538e30b54044e9b5b2edc013204d7d",
       "value": " 1.26G/1.26G [00:05&lt;00:00, 234MB/s]"
      }
     },
     "3557d96c3204458d9a8fa215a5d9ebc6": {
      "model_module": "@jupyter-widgets/controls",
      "model_module_version": "1.5.0",
      "model_name": "DescriptionStyleModel",
      "state": {
       "_model_module": "@jupyter-widgets/controls",
       "_model_module_version": "1.5.0",
       "_model_name": "DescriptionStyleModel",
       "_view_count": null,
       "_view_module": "@jupyter-widgets/base",
       "_view_module_version": "1.2.0",
       "_view_name": "StyleView",
       "description_width": ""
      }
     },
     "377b4a30261d4f2aa4c88a79e6b2d1b8": {
      "model_module": "@jupyter-widgets/controls",
      "model_module_version": "1.5.0",
      "model_name": "DescriptionStyleModel",
      "state": {
       "_model_module": "@jupyter-widgets/controls",
       "_model_module_version": "1.5.0",
       "_model_name": "DescriptionStyleModel",
       "_view_count": null,
       "_view_module": "@jupyter-widgets/base",
       "_view_module_version": "1.2.0",
       "_view_name": "StyleView",
       "description_width": ""
      }
     },
     "3a6f93374b614b33ad50b7dbad2a9806": {
      "model_module": "@jupyter-widgets/controls",
      "model_module_version": "1.5.0",
      "model_name": "DescriptionStyleModel",
      "state": {
       "_model_module": "@jupyter-widgets/controls",
       "_model_module_version": "1.5.0",
       "_model_name": "DescriptionStyleModel",
       "_view_count": null,
       "_view_module": "@jupyter-widgets/base",
       "_view_module_version": "1.2.0",
       "_view_name": "StyleView",
       "description_width": ""
      }
     },
     "3c2467bac4c743399841db14c9792f8c": {
      "model_module": "@jupyter-widgets/controls",
      "model_module_version": "1.5.0",
      "model_name": "HBoxModel",
      "state": {
       "_dom_classes": [],
       "_model_module": "@jupyter-widgets/controls",
       "_model_module_version": "1.5.0",
       "_model_name": "HBoxModel",
       "_view_count": null,
       "_view_module": "@jupyter-widgets/controls",
       "_view_module_version": "1.5.0",
       "_view_name": "HBoxView",
       "box_style": "",
       "children": [
        "IPY_MODEL_c21310b7d55440cf9de05c0f356499ac",
        "IPY_MODEL_64e3696ecb1d498a9459e83c11c16f30",
        "IPY_MODEL_d12179b7d25d499db6c621f77526fc0b"
       ],
       "layout": "IPY_MODEL_6c83b861c98446a3b0753b20ecdcf107"
      }
     },
     "446e402763cc48ad8fbc554ab0e304c2": {
      "model_module": "@jupyter-widgets/controls",
      "model_module_version": "1.5.0",
      "model_name": "HTMLModel",
      "state": {
       "_dom_classes": [],
       "_model_module": "@jupyter-widgets/controls",
       "_model_module_version": "1.5.0",
       "_model_name": "HTMLModel",
       "_view_count": null,
       "_view_module": "@jupyter-widgets/controls",
       "_view_module_version": "1.5.0",
       "_view_name": "HTMLView",
       "description": "",
       "description_tooltip": null,
       "layout": "IPY_MODEL_bc9aebe4c2e54608a91fc9df261c1dcb",
       "placeholder": "​",
       "style": "IPY_MODEL_377b4a30261d4f2aa4c88a79e6b2d1b8",
       "value": "preprocessor_config.json: 100%"
      }
     },
     "4592bdb6ddd84e7c9db0be565db160eb": {
      "model_module": "@jupyter-widgets/controls",
      "model_module_version": "1.5.0",
      "model_name": "HBoxModel",
      "state": {
       "_dom_classes": [],
       "_model_module": "@jupyter-widgets/controls",
       "_model_module_version": "1.5.0",
       "_model_name": "HBoxModel",
       "_view_count": null,
       "_view_module": "@jupyter-widgets/controls",
       "_view_module_version": "1.5.0",
       "_view_name": "HBoxView",
       "box_style": "",
       "children": [
        "IPY_MODEL_cd91b2d086064554bd450a2c7a1d6473",
        "IPY_MODEL_652ca6704b2e47a6bf4c35fbbd6f2ecd",
        "IPY_MODEL_95726ff4cbc74e4fb155b59e07cb61ae"
       ],
       "layout": "IPY_MODEL_daf8280d82ba47ed99f70dbff7ff7675"
      }
     },
     "4e3525ad50084aa6a711829b8bbd644c": {
      "model_module": "@jupyter-widgets/base",
      "model_module_version": "1.2.0",
      "model_name": "LayoutModel",
      "state": {
       "_model_module": "@jupyter-widgets/base",
       "_model_module_version": "1.2.0",
       "_model_name": "LayoutModel",
       "_view_count": null,
       "_view_module": "@jupyter-widgets/base",
       "_view_module_version": "1.2.0",
       "_view_name": "LayoutView",
       "align_content": null,
       "align_items": null,
       "align_self": null,
       "border": null,
       "bottom": null,
       "display": null,
       "flex": null,
       "flex_flow": null,
       "grid_area": null,
       "grid_auto_columns": null,
       "grid_auto_flow": null,
       "grid_auto_rows": null,
       "grid_column": null,
       "grid_gap": null,
       "grid_row": null,
       "grid_template_areas": null,
       "grid_template_columns": null,
       "grid_template_rows": null,
       "height": null,
       "justify_content": null,
       "justify_items": null,
       "left": null,
       "margin": null,
       "max_height": null,
       "max_width": null,
       "min_height": null,
       "min_width": null,
       "object_fit": null,
       "object_position": null,
       "order": null,
       "overflow": null,
       "overflow_x": null,
       "overflow_y": null,
       "padding": null,
       "right": null,
       "top": null,
       "visibility": null,
       "width": null
      }
     },
     "501c0e3d4b2e4f669bb2e9c00242fb97": {
      "model_module": "@jupyter-widgets/controls",
      "model_module_version": "1.5.0",
      "model_name": "DescriptionStyleModel",
      "state": {
       "_model_module": "@jupyter-widgets/controls",
       "_model_module_version": "1.5.0",
       "_model_name": "DescriptionStyleModel",
       "_view_count": null,
       "_view_module": "@jupyter-widgets/base",
       "_view_module_version": "1.2.0",
       "_view_name": "StyleView",
       "description_width": ""
      }
     },
     "56436e5035a54a34b628b316c68b96c0": {
      "model_module": "@jupyter-widgets/controls",
      "model_module_version": "1.5.0",
      "model_name": "FloatProgressModel",
      "state": {
       "_dom_classes": [],
       "_model_module": "@jupyter-widgets/controls",
       "_model_module_version": "1.5.0",
       "_model_name": "FloatProgressModel",
       "_view_count": null,
       "_view_module": "@jupyter-widgets/controls",
       "_view_module_version": "1.5.0",
       "_view_name": "ProgressView",
       "bar_style": "success",
       "description": "",
       "description_tooltip": null,
       "layout": "IPY_MODEL_9af3a0e22cfb4704b86ae84bb872e665",
       "max": 85.0,
       "min": 0.0,
       "orientation": "horizontal",
       "style": "IPY_MODEL_0ee483770be041849ed9ee56facd41ea",
       "value": 85.0
      }
     },
     "5e479eb2cc9e4365bc4f9e4e88f65cab": {
      "model_module": "@jupyter-widgets/controls",
      "model_module_version": "1.5.0",
      "model_name": "DescriptionStyleModel",
      "state": {
       "_model_module": "@jupyter-widgets/controls",
       "_model_module_version": "1.5.0",
       "_model_name": "DescriptionStyleModel",
       "_view_count": null,
       "_view_module": "@jupyter-widgets/base",
       "_view_module_version": "1.2.0",
       "_view_name": "StyleView",
       "description_width": ""
      }
     },
     "64d5307c70e046a59644fdaaf8a7dda5": {
      "model_module": "@jupyter-widgets/controls",
      "model_module_version": "1.5.0",
      "model_name": "HTMLModel",
      "state": {
       "_dom_classes": [],
       "_model_module": "@jupyter-widgets/controls",
       "_model_module_version": "1.5.0",
       "_model_name": "HTMLModel",
       "_view_count": null,
       "_view_module": "@jupyter-widgets/controls",
       "_view_module_version": "1.5.0",
       "_view_name": "HTMLView",
       "description": "",
       "description_tooltip": null,
       "layout": "IPY_MODEL_81d1f45e671f436985d9994686ecba3f",
       "placeholder": "​",
       "style": "IPY_MODEL_256256448c4449e4a50676d035517fbd",
       "value": "model.safetensors: 100%"
      }
     },
     "64e3696ecb1d498a9459e83c11c16f30": {
      "model_module": "@jupyter-widgets/controls",
      "model_module_version": "1.5.0",
      "model_name": "FloatProgressModel",
      "state": {
       "_dom_classes": [],
       "_model_module": "@jupyter-widgets/controls",
       "_model_module_version": "1.5.0",
       "_model_name": "FloatProgressModel",
       "_view_count": null,
       "_view_module": "@jupyter-widgets/controls",
       "_view_module_version": "1.5.0",
       "_view_name": "ProgressView",
       "bar_style": "success",
       "description": "",
       "description_tooltip": null,
       "layout": "IPY_MODEL_a9bf57f14a904fb5a5507fd5b71c1591",
       "max": 300.0,
       "min": 0.0,
       "orientation": "horizontal",
       "style": "IPY_MODEL_ab8d0cb7175f4196a50e04aa94ff0d54",
       "value": 300.0
      }
     },
     "652ca6704b2e47a6bf4c35fbbd6f2ecd": {
      "model_module": "@jupyter-widgets/controls",
      "model_module_version": "1.5.0",
      "model_name": "FloatProgressModel",
      "state": {
       "_dom_classes": [],
       "_model_module": "@jupyter-widgets/controls",
       "_model_module_version": "1.5.0",
       "_model_name": "FloatProgressModel",
       "_view_count": null,
       "_view_module": "@jupyter-widgets/controls",
       "_view_module_version": "1.5.0",
       "_view_name": "ProgressView",
       "bar_style": "success",
       "description": "",
       "description_tooltip": null,
       "layout": "IPY_MODEL_b3bf2034fce4490684f4e65d70ef9e8a",
       "max": 1531.0,
       "min": 0.0,
       "orientation": "horizontal",
       "style": "IPY_MODEL_b1be4a77b9334110a919327aa20da6b3",
       "value": 1531.0
      }
     },
     "6c83b861c98446a3b0753b20ecdcf107": {
      "model_module": "@jupyter-widgets/base",
      "model_module_version": "1.2.0",
      "model_name": "LayoutModel",
      "state": {
       "_model_module": "@jupyter-widgets/base",
       "_model_module_version": "1.2.0",
       "_model_name": "LayoutModel",
       "_view_count": null,
       "_view_module": "@jupyter-widgets/base",
       "_view_module_version": "1.2.0",
       "_view_name": "LayoutView",
       "align_content": null,
       "align_items": null,
       "align_self": null,
       "border": null,
       "bottom": null,
       "display": null,
       "flex": null,
       "flex_flow": null,
       "grid_area": null,
       "grid_auto_columns": null,
       "grid_auto_flow": null,
       "grid_auto_rows": null,
       "grid_column": null,
       "grid_gap": null,
       "grid_row": null,
       "grid_template_areas": null,
       "grid_template_columns": null,
       "grid_template_rows": null,
       "height": null,
       "justify_content": null,
       "justify_items": null,
       "left": null,
       "margin": null,
       "max_height": null,
       "max_width": null,
       "min_height": null,
       "min_width": null,
       "object_fit": null,
       "object_position": null,
       "order": null,
       "overflow": null,
       "overflow_x": null,
       "overflow_y": null,
       "padding": null,
       "right": null,
       "top": null,
       "visibility": null,
       "width": null
      }
     },
     "6ce398c540dc44a9bc86e8e6b16d8f58": {
      "model_module": "@jupyter-widgets/base",
      "model_module_version": "1.2.0",
      "model_name": "LayoutModel",
      "state": {
       "_model_module": "@jupyter-widgets/base",
       "_model_module_version": "1.2.0",
       "_model_name": "LayoutModel",
       "_view_count": null,
       "_view_module": "@jupyter-widgets/base",
       "_view_module_version": "1.2.0",
       "_view_name": "LayoutView",
       "align_content": null,
       "align_items": null,
       "align_self": null,
       "border": null,
       "bottom": null,
       "display": null,
       "flex": null,
       "flex_flow": null,
       "grid_area": null,
       "grid_auto_columns": null,
       "grid_auto_flow": null,
       "grid_auto_rows": null,
       "grid_column": null,
       "grid_gap": null,
       "grid_row": null,
       "grid_template_areas": null,
       "grid_template_columns": null,
       "grid_template_rows": null,
       "height": null,
       "justify_content": null,
       "justify_items": null,
       "left": null,
       "margin": null,
       "max_height": null,
       "max_width": null,
       "min_height": null,
       "min_width": null,
       "object_fit": null,
       "object_position": null,
       "order": null,
       "overflow": null,
       "overflow_x": null,
       "overflow_y": null,
       "padding": null,
       "right": null,
       "top": null,
       "visibility": null,
       "width": null
      }
     },
     "70bb2e5fd9674910948e09add035f878": {
      "model_module": "@jupyter-widgets/controls",
      "model_module_version": "1.5.0",
      "model_name": "ProgressStyleModel",
      "state": {
       "_model_module": "@jupyter-widgets/controls",
       "_model_module_version": "1.5.0",
       "_model_name": "ProgressStyleModel",
       "_view_count": null,
       "_view_module": "@jupyter-widgets/base",
       "_view_module_version": "1.2.0",
       "_view_name": "StyleView",
       "bar_color": null,
       "description_width": ""
      }
     },
     "71e7bae4fb414cd3adf8ad6fa0666d0f": {
      "model_module": "@jupyter-widgets/base",
      "model_module_version": "1.2.0",
      "model_name": "LayoutModel",
      "state": {
       "_model_module": "@jupyter-widgets/base",
       "_model_module_version": "1.2.0",
       "_model_name": "LayoutModel",
       "_view_count": null,
       "_view_module": "@jupyter-widgets/base",
       "_view_module_version": "1.2.0",
       "_view_name": "LayoutView",
       "align_content": null,
       "align_items": null,
       "align_self": null,
       "border": null,
       "bottom": null,
       "display": null,
       "flex": null,
       "flex_flow": null,
       "grid_area": null,
       "grid_auto_columns": null,
       "grid_auto_flow": null,
       "grid_auto_rows": null,
       "grid_column": null,
       "grid_gap": null,
       "grid_row": null,
       "grid_template_areas": null,
       "grid_template_columns": null,
       "grid_template_rows": null,
       "height": null,
       "justify_content": null,
       "justify_items": null,
       "left": null,
       "margin": null,
       "max_height": null,
       "max_width": null,
       "min_height": null,
       "min_width": null,
       "object_fit": null,
       "object_position": null,
       "order": null,
       "overflow": null,
       "overflow_x": null,
       "overflow_y": null,
       "padding": null,
       "right": null,
       "top": null,
       "visibility": null,
       "width": null
      }
     },
     "7c3aeee85d284213ad21fd821146d395": {
      "model_module": "@jupyter-widgets/base",
      "model_module_version": "1.2.0",
      "model_name": "LayoutModel",
      "state": {
       "_model_module": "@jupyter-widgets/base",
       "_model_module_version": "1.2.0",
       "_model_name": "LayoutModel",
       "_view_count": null,
       "_view_module": "@jupyter-widgets/base",
       "_view_module_version": "1.2.0",
       "_view_name": "LayoutView",
       "align_content": null,
       "align_items": null,
       "align_self": null,
       "border": null,
       "bottom": null,
       "display": null,
       "flex": null,
       "flex_flow": null,
       "grid_area": null,
       "grid_auto_columns": null,
       "grid_auto_flow": null,
       "grid_auto_rows": null,
       "grid_column": null,
       "grid_gap": null,
       "grid_row": null,
       "grid_template_areas": null,
       "grid_template_columns": null,
       "grid_template_rows": null,
       "height": null,
       "justify_content": null,
       "justify_items": null,
       "left": null,
       "margin": null,
       "max_height": null,
       "max_width": null,
       "min_height": null,
       "min_width": null,
       "object_fit": null,
       "object_position": null,
       "order": null,
       "overflow": null,
       "overflow_x": null,
       "overflow_y": null,
       "padding": null,
       "right": null,
       "top": null,
       "visibility": null,
       "width": null
      }
     },
     "7eb5deead3544aea803cf67f0bf005f1": {
      "model_module": "@jupyter-widgets/base",
      "model_module_version": "1.2.0",
      "model_name": "LayoutModel",
      "state": {
       "_model_module": "@jupyter-widgets/base",
       "_model_module_version": "1.2.0",
       "_model_name": "LayoutModel",
       "_view_count": null,
       "_view_module": "@jupyter-widgets/base",
       "_view_module_version": "1.2.0",
       "_view_name": "LayoutView",
       "align_content": null,
       "align_items": null,
       "align_self": null,
       "border": null,
       "bottom": null,
       "display": null,
       "flex": null,
       "flex_flow": null,
       "grid_area": null,
       "grid_auto_columns": null,
       "grid_auto_flow": null,
       "grid_auto_rows": null,
       "grid_column": null,
       "grid_gap": null,
       "grid_row": null,
       "grid_template_areas": null,
       "grid_template_columns": null,
       "grid_template_rows": null,
       "height": null,
       "justify_content": null,
       "justify_items": null,
       "left": null,
       "margin": null,
       "max_height": null,
       "max_width": null,
       "min_height": null,
       "min_width": null,
       "object_fit": null,
       "object_position": null,
       "order": null,
       "overflow": null,
       "overflow_x": null,
       "overflow_y": null,
       "padding": null,
       "right": null,
       "top": null,
       "visibility": null,
       "width": null
      }
     },
     "7ef509d2196d4862b4d35c83b0a936d6": {
      "model_module": "@jupyter-widgets/controls",
      "model_module_version": "1.5.0",
      "model_name": "HTMLModel",
      "state": {
       "_dom_classes": [],
       "_model_module": "@jupyter-widgets/controls",
       "_model_module_version": "1.5.0",
       "_model_name": "HTMLModel",
       "_view_count": null,
       "_view_module": "@jupyter-widgets/controls",
       "_view_module_version": "1.5.0",
       "_view_name": "HTMLView",
       "description": "",
       "description_tooltip": null,
       "layout": "IPY_MODEL_ec0a390e35dc45b4904ac54f6796ba93",
       "placeholder": "​",
       "style": "IPY_MODEL_a82df82113344e5ca6a16223dee98886",
       "value": "special_tokens_map.json: 100%"
      }
     },
     "8042e8c2f7f54bc48052848ef658a13e": {
      "model_module": "@jupyter-widgets/base",
      "model_module_version": "1.2.0",
      "model_name": "LayoutModel",
      "state": {
       "_model_module": "@jupyter-widgets/base",
       "_model_module_version": "1.2.0",
       "_model_name": "LayoutModel",
       "_view_count": null,
       "_view_module": "@jupyter-widgets/base",
       "_view_module_version": "1.2.0",
       "_view_name": "LayoutView",
       "align_content": null,
       "align_items": null,
       "align_self": null,
       "border": null,
       "bottom": null,
       "display": null,
       "flex": null,
       "flex_flow": null,
       "grid_area": null,
       "grid_auto_columns": null,
       "grid_auto_flow": null,
       "grid_auto_rows": null,
       "grid_column": null,
       "grid_gap": null,
       "grid_row": null,
       "grid_template_areas": null,
       "grid_template_columns": null,
       "grid_template_rows": null,
       "height": null,
       "justify_content": null,
       "justify_items": null,
       "left": null,
       "margin": null,
       "max_height": null,
       "max_width": null,
       "min_height": null,
       "min_width": null,
       "object_fit": null,
       "object_position": null,
       "order": null,
       "overflow": null,
       "overflow_x": null,
       "overflow_y": null,
       "padding": null,
       "right": null,
       "top": null,
       "visibility": null,
       "width": null
      }
     },
     "809fedb412144bc6a70b74e7e70d2a11": {
      "model_module": "@jupyter-widgets/controls",
      "model_module_version": "1.5.0",
      "model_name": "FloatProgressModel",
      "state": {
       "_dom_classes": [],
       "_model_module": "@jupyter-widgets/controls",
       "_model_module_version": "1.5.0",
       "_model_name": "FloatProgressModel",
       "_view_count": null,
       "_view_module": "@jupyter-widgets/controls",
       "_view_module_version": "1.5.0",
       "_view_name": "ProgressView",
       "bar_style": "success",
       "description": "",
       "description_tooltip": null,
       "layout": "IPY_MODEL_8c425961150e412989bfd8b3e42b63d1",
       "max": 262.0,
       "min": 0.0,
       "orientation": "horizontal",
       "style": "IPY_MODEL_70bb2e5fd9674910948e09add035f878",
       "value": 262.0
      }
     },
     "81d1f45e671f436985d9994686ecba3f": {
      "model_module": "@jupyter-widgets/base",
      "model_module_version": "1.2.0",
      "model_name": "LayoutModel",
      "state": {
       "_model_module": "@jupyter-widgets/base",
       "_model_module_version": "1.2.0",
       "_model_name": "LayoutModel",
       "_view_count": null,
       "_view_module": "@jupyter-widgets/base",
       "_view_module_version": "1.2.0",
       "_view_name": "LayoutView",
       "align_content": null,
       "align_items": null,
       "align_self": null,
       "border": null,
       "bottom": null,
       "display": null,
       "flex": null,
       "flex_flow": null,
       "grid_area": null,
       "grid_auto_columns": null,
       "grid_auto_flow": null,
       "grid_auto_rows": null,
       "grid_column": null,
       "grid_gap": null,
       "grid_row": null,
       "grid_template_areas": null,
       "grid_template_columns": null,
       "grid_template_rows": null,
       "height": null,
       "justify_content": null,
       "justify_items": null,
       "left": null,
       "margin": null,
       "max_height": null,
       "max_width": null,
       "min_height": null,
       "min_width": null,
       "object_fit": null,
       "object_position": null,
       "order": null,
       "overflow": null,
       "overflow_x": null,
       "overflow_y": null,
       "padding": null,
       "right": null,
       "top": null,
       "visibility": null,
       "width": null
      }
     },
     "88538e30b54044e9b5b2edc013204d7d": {
      "model_module": "@jupyter-widgets/controls",
      "model_module_version": "1.5.0",
      "model_name": "DescriptionStyleModel",
      "state": {
       "_model_module": "@jupyter-widgets/controls",
       "_model_module_version": "1.5.0",
       "_model_name": "DescriptionStyleModel",
       "_view_count": null,
       "_view_module": "@jupyter-widgets/base",
       "_view_module_version": "1.2.0",
       "_view_name": "StyleView",
       "description_width": ""
      }
     },
     "8bd997ff04964ada80b606db973a35df": {
      "model_module": "@jupyter-widgets/base",
      "model_module_version": "1.2.0",
      "model_name": "LayoutModel",
      "state": {
       "_model_module": "@jupyter-widgets/base",
       "_model_module_version": "1.2.0",
       "_model_name": "LayoutModel",
       "_view_count": null,
       "_view_module": "@jupyter-widgets/base",
       "_view_module_version": "1.2.0",
       "_view_name": "LayoutView",
       "align_content": null,
       "align_items": null,
       "align_self": null,
       "border": null,
       "bottom": null,
       "display": null,
       "flex": null,
       "flex_flow": null,
       "grid_area": null,
       "grid_auto_columns": null,
       "grid_auto_flow": null,
       "grid_auto_rows": null,
       "grid_column": null,
       "grid_gap": null,
       "grid_row": null,
       "grid_template_areas": null,
       "grid_template_columns": null,
       "grid_template_rows": null,
       "height": null,
       "justify_content": null,
       "justify_items": null,
       "left": null,
       "margin": null,
       "max_height": null,
       "max_width": null,
       "min_height": null,
       "min_width": null,
       "object_fit": null,
       "object_position": null,
       "order": null,
       "overflow": null,
       "overflow_x": null,
       "overflow_y": null,
       "padding": null,
       "right": null,
       "top": null,
       "visibility": null,
       "width": null
      }
     },
     "8c425961150e412989bfd8b3e42b63d1": {
      "model_module": "@jupyter-widgets/base",
      "model_module_version": "1.2.0",
      "model_name": "LayoutModel",
      "state": {
       "_model_module": "@jupyter-widgets/base",
       "_model_module_version": "1.2.0",
       "_model_name": "LayoutModel",
       "_view_count": null,
       "_view_module": "@jupyter-widgets/base",
       "_view_module_version": "1.2.0",
       "_view_name": "LayoutView",
       "align_content": null,
       "align_items": null,
       "align_self": null,
       "border": null,
       "bottom": null,
       "display": null,
       "flex": null,
       "flex_flow": null,
       "grid_area": null,
       "grid_auto_columns": null,
       "grid_auto_flow": null,
       "grid_auto_rows": null,
       "grid_column": null,
       "grid_gap": null,
       "grid_row": null,
       "grid_template_areas": null,
       "grid_template_columns": null,
       "grid_template_rows": null,
       "height": null,
       "justify_content": null,
       "justify_items": null,
       "left": null,
       "margin": null,
       "max_height": null,
       "max_width": null,
       "min_height": null,
       "min_width": null,
       "object_fit": null,
       "object_position": null,
       "order": null,
       "overflow": null,
       "overflow_x": null,
       "overflow_y": null,
       "padding": null,
       "right": null,
       "top": null,
       "visibility": null,
       "width": null
      }
     },
     "95726ff4cbc74e4fb155b59e07cb61ae": {
      "model_module": "@jupyter-widgets/controls",
      "model_module_version": "1.5.0",
      "model_name": "HTMLModel",
      "state": {
       "_dom_classes": [],
       "_model_module": "@jupyter-widgets/controls",
       "_model_module_version": "1.5.0",
       "_model_name": "HTMLModel",
       "_view_count": null,
       "_view_module": "@jupyter-widgets/controls",
       "_view_module_version": "1.5.0",
       "_view_name": "HTMLView",
       "description": "",
       "description_tooltip": null,
       "layout": "IPY_MODEL_7eb5deead3544aea803cf67f0bf005f1",
       "placeholder": "​",
       "style": "IPY_MODEL_3557d96c3204458d9a8fa215a5d9ebc6",
       "value": " 1.53k/1.53k [00:00&lt;00:00, 157kB/s]"
      }
     },
     "9af3a0e22cfb4704b86ae84bb872e665": {
      "model_module": "@jupyter-widgets/base",
      "model_module_version": "1.2.0",
      "model_name": "LayoutModel",
      "state": {
       "_model_module": "@jupyter-widgets/base",
       "_model_module_version": "1.2.0",
       "_model_name": "LayoutModel",
       "_view_count": null,
       "_view_module": "@jupyter-widgets/base",
       "_view_module_version": "1.2.0",
       "_view_name": "LayoutView",
       "align_content": null,
       "align_items": null,
       "align_self": null,
       "border": null,
       "bottom": null,
       "display": null,
       "flex": null,
       "flex_flow": null,
       "grid_area": null,
       "grid_auto_columns": null,
       "grid_auto_flow": null,
       "grid_auto_rows": null,
       "grid_column": null,
       "grid_gap": null,
       "grid_row": null,
       "grid_template_areas": null,
       "grid_template_columns": null,
       "grid_template_rows": null,
       "height": null,
       "justify_content": null,
       "justify_items": null,
       "left": null,
       "margin": null,
       "max_height": null,
       "max_width": null,
       "min_height": null,
       "min_width": null,
       "object_fit": null,
       "object_position": null,
       "order": null,
       "overflow": null,
       "overflow_x": null,
       "overflow_y": null,
       "padding": null,
       "right": null,
       "top": null,
       "visibility": null,
       "width": null
      }
     },
     "a82df82113344e5ca6a16223dee98886": {
      "model_module": "@jupyter-widgets/controls",
      "model_module_version": "1.5.0",
      "model_name": "DescriptionStyleModel",
      "state": {
       "_model_module": "@jupyter-widgets/controls",
       "_model_module_version": "1.5.0",
       "_model_name": "DescriptionStyleModel",
       "_view_count": null,
       "_view_module": "@jupyter-widgets/base",
       "_view_module_version": "1.2.0",
       "_view_name": "StyleView",
       "description_width": ""
      }
     },
     "a9bf57f14a904fb5a5507fd5b71c1591": {
      "model_module": "@jupyter-widgets/base",
      "model_module_version": "1.2.0",
      "model_name": "LayoutModel",
      "state": {
       "_model_module": "@jupyter-widgets/base",
       "_model_module_version": "1.2.0",
       "_model_name": "LayoutModel",
       "_view_count": null,
       "_view_module": "@jupyter-widgets/base",
       "_view_module_version": "1.2.0",
       "_view_name": "LayoutView",
       "align_content": null,
       "align_items": null,
       "align_self": null,
       "border": null,
       "bottom": null,
       "display": null,
       "flex": null,
       "flex_flow": null,
       "grid_area": null,
       "grid_auto_columns": null,
       "grid_auto_flow": null,
       "grid_auto_rows": null,
       "grid_column": null,
       "grid_gap": null,
       "grid_row": null,
       "grid_template_areas": null,
       "grid_template_columns": null,
       "grid_template_rows": null,
       "height": null,
       "justify_content": null,
       "justify_items": null,
       "left": null,
       "margin": null,
       "max_height": null,
       "max_width": null,
       "min_height": null,
       "min_width": null,
       "object_fit": null,
       "object_position": null,
       "order": null,
       "overflow": null,
       "overflow_x": null,
       "overflow_y": null,
       "padding": null,
       "right": null,
       "top": null,
       "visibility": null,
       "width": null
      }
     },
     "ab8d0cb7175f4196a50e04aa94ff0d54": {
      "model_module": "@jupyter-widgets/controls",
      "model_module_version": "1.5.0",
      "model_name": "ProgressStyleModel",
      "state": {
       "_model_module": "@jupyter-widgets/controls",
       "_model_module_version": "1.5.0",
       "_model_name": "ProgressStyleModel",
       "_view_count": null,
       "_view_module": "@jupyter-widgets/base",
       "_view_module_version": "1.2.0",
       "_view_name": "StyleView",
       "bar_color": null,
       "description_width": ""
      }
     },
     "af3aeb13a3c4405e878a77b9672282a8": {
      "model_module": "@jupyter-widgets/controls",
      "model_module_version": "1.5.0",
      "model_name": "DescriptionStyleModel",
      "state": {
       "_model_module": "@jupyter-widgets/controls",
       "_model_module_version": "1.5.0",
       "_model_name": "DescriptionStyleModel",
       "_view_count": null,
       "_view_module": "@jupyter-widgets/base",
       "_view_module_version": "1.2.0",
       "_view_name": "StyleView",
       "description_width": ""
      }
     },
     "b0e6ca25973d4141a8eeed605d0cda4f": {
      "model_module": "@jupyter-widgets/controls",
      "model_module_version": "1.5.0",
      "model_name": "FloatProgressModel",
      "state": {
       "_dom_classes": [],
       "_model_module": "@jupyter-widgets/controls",
       "_model_module_version": "1.5.0",
       "_model_name": "FloatProgressModel",
       "_view_count": null,
       "_view_module": "@jupyter-widgets/controls",
       "_view_module_version": "1.5.0",
       "_view_name": "ProgressView",
       "bar_style": "success",
       "description": "",
       "description_tooltip": null,
       "layout": "IPY_MODEL_f78b47840bd34a8998388950afd8d43c",
       "max": 1261942732.0,
       "min": 0.0,
       "orientation": "horizontal",
       "style": "IPY_MODEL_c35a5b91746944a8a71558e887554060",
       "value": 1261942732.0
      }
     },
     "b1be4a77b9334110a919327aa20da6b3": {
      "model_module": "@jupyter-widgets/controls",
      "model_module_version": "1.5.0",
      "model_name": "ProgressStyleModel",
      "state": {
       "_model_module": "@jupyter-widgets/controls",
       "_model_module_version": "1.5.0",
       "_model_name": "ProgressStyleModel",
       "_view_count": null,
       "_view_module": "@jupyter-widgets/base",
       "_view_module_version": "1.2.0",
       "_view_name": "StyleView",
       "bar_color": null,
       "description_width": ""
      }
     },
     "b3bf2034fce4490684f4e65d70ef9e8a": {
      "model_module": "@jupyter-widgets/base",
      "model_module_version": "1.2.0",
      "model_name": "LayoutModel",
      "state": {
       "_model_module": "@jupyter-widgets/base",
       "_model_module_version": "1.2.0",
       "_model_name": "LayoutModel",
       "_view_count": null,
       "_view_module": "@jupyter-widgets/base",
       "_view_module_version": "1.2.0",
       "_view_name": "LayoutView",
       "align_content": null,
       "align_items": null,
       "align_self": null,
       "border": null,
       "bottom": null,
       "display": null,
       "flex": null,
       "flex_flow": null,
       "grid_area": null,
       "grid_auto_columns": null,
       "grid_auto_flow": null,
       "grid_auto_rows": null,
       "grid_column": null,
       "grid_gap": null,
       "grid_row": null,
       "grid_template_areas": null,
       "grid_template_columns": null,
       "grid_template_rows": null,
       "height": null,
       "justify_content": null,
       "justify_items": null,
       "left": null,
       "margin": null,
       "max_height": null,
       "max_width": null,
       "min_height": null,
       "min_width": null,
       "object_fit": null,
       "object_position": null,
       "order": null,
       "overflow": null,
       "overflow_x": null,
       "overflow_y": null,
       "padding": null,
       "right": null,
       "top": null,
       "visibility": null,
       "width": null
      }
     },
     "b71512770adf47d786ff605eeb3cef47": {
      "model_module": "@jupyter-widgets/base",
      "model_module_version": "1.2.0",
      "model_name": "LayoutModel",
      "state": {
       "_model_module": "@jupyter-widgets/base",
       "_model_module_version": "1.2.0",
       "_model_name": "LayoutModel",
       "_view_count": null,
       "_view_module": "@jupyter-widgets/base",
       "_view_module_version": "1.2.0",
       "_view_name": "LayoutView",
       "align_content": null,
       "align_items": null,
       "align_self": null,
       "border": null,
       "bottom": null,
       "display": null,
       "flex": null,
       "flex_flow": null,
       "grid_area": null,
       "grid_auto_columns": null,
       "grid_auto_flow": null,
       "grid_auto_rows": null,
       "grid_column": null,
       "grid_gap": null,
       "grid_row": null,
       "grid_template_areas": null,
       "grid_template_columns": null,
       "grid_template_rows": null,
       "height": null,
       "justify_content": null,
       "justify_items": null,
       "left": null,
       "margin": null,
       "max_height": null,
       "max_width": null,
       "min_height": null,
       "min_width": null,
       "object_fit": null,
       "object_position": null,
       "order": null,
       "overflow": null,
       "overflow_x": null,
       "overflow_y": null,
       "padding": null,
       "right": null,
       "top": null,
       "visibility": null,
       "width": null
      }
     },
     "ba8a0175c37a4f7d882cd2a53141e193": {
      "model_module": "@jupyter-widgets/controls",
      "model_module_version": "1.5.0",
      "model_name": "HBoxModel",
      "state": {
       "_dom_classes": [],
       "_model_module": "@jupyter-widgets/controls",
       "_model_module_version": "1.5.0",
       "_model_name": "HBoxModel",
       "_view_count": null,
       "_view_module": "@jupyter-widgets/controls",
       "_view_module_version": "1.5.0",
       "_view_name": "HBoxView",
       "box_style": "",
       "children": [
        "IPY_MODEL_64d5307c70e046a59644fdaaf8a7dda5",
        "IPY_MODEL_b0e6ca25973d4141a8eeed605d0cda4f",
        "IPY_MODEL_2debf2520cc54ce191a9940da40ef693"
       ],
       "layout": "IPY_MODEL_0b5dc1fffd794e1baaa0af6a2356040f"
      }
     },
     "bc9aebe4c2e54608a91fc9df261c1dcb": {
      "model_module": "@jupyter-widgets/base",
      "model_module_version": "1.2.0",
      "model_name": "LayoutModel",
      "state": {
       "_model_module": "@jupyter-widgets/base",
       "_model_module_version": "1.2.0",
       "_model_name": "LayoutModel",
       "_view_count": null,
       "_view_module": "@jupyter-widgets/base",
       "_view_module_version": "1.2.0",
       "_view_name": "LayoutView",
       "align_content": null,
       "align_items": null,
       "align_self": null,
       "border": null,
       "bottom": null,
       "display": null,
       "flex": null,
       "flex_flow": null,
       "grid_area": null,
       "grid_auto_columns": null,
       "grid_auto_flow": null,
       "grid_auto_rows": null,
       "grid_column": null,
       "grid_gap": null,
       "grid_row": null,
       "grid_template_areas": null,
       "grid_template_columns": null,
       "grid_template_rows": null,
       "height": null,
       "justify_content": null,
       "justify_items": null,
       "left": null,
       "margin": null,
       "max_height": null,
       "max_width": null,
       "min_height": null,
       "min_width": null,
       "object_fit": null,
       "object_position": null,
       "order": null,
       "overflow": null,
       "overflow_x": null,
       "overflow_y": null,
       "padding": null,
       "right": null,
       "top": null,
       "visibility": null,
       "width": null
      }
     },
     "bf10bdfad53d425592ea497db890b001": {
      "model_module": "@jupyter-widgets/controls",
      "model_module_version": "1.5.0",
      "model_name": "HBoxModel",
      "state": {
       "_dom_classes": [],
       "_model_module": "@jupyter-widgets/controls",
       "_model_module_version": "1.5.0",
       "_model_name": "HBoxModel",
       "_view_count": null,
       "_view_module": "@jupyter-widgets/controls",
       "_view_module_version": "1.5.0",
       "_view_name": "HBoxView",
       "box_style": "",
       "children": [
        "IPY_MODEL_446e402763cc48ad8fbc554ab0e304c2",
        "IPY_MODEL_809fedb412144bc6a70b74e7e70d2a11",
        "IPY_MODEL_c31cadecaed94f9291c1c68b6737f075"
       ],
       "layout": "IPY_MODEL_71e7bae4fb414cd3adf8ad6fa0666d0f"
      }
     },
     "c21310b7d55440cf9de05c0f356499ac": {
      "model_module": "@jupyter-widgets/controls",
      "model_module_version": "1.5.0",
      "model_name": "HTMLModel",
      "state": {
       "_dom_classes": [],
       "_model_module": "@jupyter-widgets/controls",
       "_model_module_version": "1.5.0",
       "_model_name": "HTMLModel",
       "_view_count": null,
       "_view_module": "@jupyter-widgets/controls",
       "_view_module_version": "1.5.0",
       "_view_name": "HTMLView",
       "description": "",
       "description_tooltip": null,
       "layout": "IPY_MODEL_b71512770adf47d786ff605eeb3cef47",
       "placeholder": "​",
       "style": "IPY_MODEL_5e479eb2cc9e4365bc4f9e4e88f65cab",
       "value": "vocab.json: 100%"
      }
     },
     "c31cadecaed94f9291c1c68b6737f075": {
      "model_module": "@jupyter-widgets/controls",
      "model_module_version": "1.5.0",
      "model_name": "HTMLModel",
      "state": {
       "_dom_classes": [],
       "_model_module": "@jupyter-widgets/controls",
       "_model_module_version": "1.5.0",
       "_model_name": "HTMLModel",
       "_view_count": null,
       "_view_module": "@jupyter-widgets/controls",
       "_view_module_version": "1.5.0",
       "_view_name": "HTMLView",
       "description": "",
       "description_tooltip": null,
       "layout": "IPY_MODEL_c88292029d3d49c69ab93c72363a5cd0",
       "placeholder": "​",
       "style": "IPY_MODEL_af3aeb13a3c4405e878a77b9672282a8",
       "value": " 262/262 [00:00&lt;00:00, 27.2kB/s]"
      }
     },
     "c35a5b91746944a8a71558e887554060": {
      "model_module": "@jupyter-widgets/controls",
      "model_module_version": "1.5.0",
      "model_name": "ProgressStyleModel",
      "state": {
       "_model_module": "@jupyter-widgets/controls",
       "_model_module_version": "1.5.0",
       "_model_name": "ProgressStyleModel",
       "_view_count": null,
       "_view_module": "@jupyter-widgets/base",
       "_view_module_version": "1.2.0",
       "_view_name": "StyleView",
       "bar_color": null,
       "description_width": ""
      }
     },
     "c88292029d3d49c69ab93c72363a5cd0": {
      "model_module": "@jupyter-widgets/base",
      "model_module_version": "1.2.0",
      "model_name": "LayoutModel",
      "state": {
       "_model_module": "@jupyter-widgets/base",
       "_model_module_version": "1.2.0",
       "_model_name": "LayoutModel",
       "_view_count": null,
       "_view_module": "@jupyter-widgets/base",
       "_view_module_version": "1.2.0",
       "_view_name": "LayoutView",
       "align_content": null,
       "align_items": null,
       "align_self": null,
       "border": null,
       "bottom": null,
       "display": null,
       "flex": null,
       "flex_flow": null,
       "grid_area": null,
       "grid_auto_columns": null,
       "grid_auto_flow": null,
       "grid_auto_rows": null,
       "grid_column": null,
       "grid_gap": null,
       "grid_row": null,
       "grid_template_areas": null,
       "grid_template_columns": null,
       "grid_template_rows": null,
       "height": null,
       "justify_content": null,
       "justify_items": null,
       "left": null,
       "margin": null,
       "max_height": null,
       "max_width": null,
       "min_height": null,
       "min_width": null,
       "object_fit": null,
       "object_position": null,
       "order": null,
       "overflow": null,
       "overflow_x": null,
       "overflow_y": null,
       "padding": null,
       "right": null,
       "top": null,
       "visibility": null,
       "width": null
      }
     },
     "c8faabd4b0bb467c97883ce7b156e00c": {
      "model_module": "@jupyter-widgets/controls",
      "model_module_version": "1.5.0",
      "model_name": "HTMLModel",
      "state": {
       "_dom_classes": [],
       "_model_module": "@jupyter-widgets/controls",
       "_model_module_version": "1.5.0",
       "_model_name": "HTMLModel",
       "_view_count": null,
       "_view_module": "@jupyter-widgets/controls",
       "_view_module_version": "1.5.0",
       "_view_name": "HTMLView",
       "description": "",
       "description_tooltip": null,
       "layout": "IPY_MODEL_7c3aeee85d284213ad21fd821146d395",
       "placeholder": "​",
       "style": "IPY_MODEL_501c0e3d4b2e4f669bb2e9c00242fb97",
       "value": " 85.0/85.0 [00:00&lt;00:00, 8.92kB/s]"
      }
     },
     "cd91b2d086064554bd450a2c7a1d6473": {
      "model_module": "@jupyter-widgets/controls",
      "model_module_version": "1.5.0",
      "model_name": "HTMLModel",
      "state": {
       "_dom_classes": [],
       "_model_module": "@jupyter-widgets/controls",
       "_model_module_version": "1.5.0",
       "_model_name": "HTMLModel",
       "_view_count": null,
       "_view_module": "@jupyter-widgets/controls",
       "_view_module_version": "1.5.0",
       "_view_name": "HTMLView",
       "description": "",
       "description_tooltip": null,
       "layout": "IPY_MODEL_8042e8c2f7f54bc48052848ef658a13e",
       "placeholder": "​",
       "style": "IPY_MODEL_d24c22f3f356431490f96c976aba3616",
       "value": "config.json: 100%"
      }
     },
     "d12179b7d25d499db6c621f77526fc0b": {
      "model_module": "@jupyter-widgets/controls",
      "model_module_version": "1.5.0",
      "model_name": "HTMLModel",
      "state": {
       "_dom_classes": [],
       "_model_module": "@jupyter-widgets/controls",
       "_model_module_version": "1.5.0",
       "_model_name": "HTMLModel",
       "_view_count": null,
       "_view_module": "@jupyter-widgets/controls",
       "_view_module_version": "1.5.0",
       "_view_name": "HTMLView",
       "description": "",
       "description_tooltip": null,
       "layout": "IPY_MODEL_4e3525ad50084aa6a711829b8bbd644c",
       "placeholder": "​",
       "style": "IPY_MODEL_3a6f93374b614b33ad50b7dbad2a9806",
       "value": " 300/300 [00:00&lt;00:00, 29.5kB/s]"
      }
     },
     "d24c22f3f356431490f96c976aba3616": {
      "model_module": "@jupyter-widgets/controls",
      "model_module_version": "1.5.0",
      "model_name": "DescriptionStyleModel",
      "state": {
       "_model_module": "@jupyter-widgets/controls",
       "_model_module_version": "1.5.0",
       "_model_name": "DescriptionStyleModel",
       "_view_count": null,
       "_view_module": "@jupyter-widgets/base",
       "_view_module_version": "1.2.0",
       "_view_name": "StyleView",
       "description_width": ""
      }
     },
     "daf8280d82ba47ed99f70dbff7ff7675": {
      "model_module": "@jupyter-widgets/base",
      "model_module_version": "1.2.0",
      "model_name": "LayoutModel",
      "state": {
       "_model_module": "@jupyter-widgets/base",
       "_model_module_version": "1.2.0",
       "_model_name": "LayoutModel",
       "_view_count": null,
       "_view_module": "@jupyter-widgets/base",
       "_view_module_version": "1.2.0",
       "_view_name": "LayoutView",
       "align_content": null,
       "align_items": null,
       "align_self": null,
       "border": null,
       "bottom": null,
       "display": null,
       "flex": null,
       "flex_flow": null,
       "grid_area": null,
       "grid_auto_columns": null,
       "grid_auto_flow": null,
       "grid_auto_rows": null,
       "grid_column": null,
       "grid_gap": null,
       "grid_row": null,
       "grid_template_areas": null,
       "grid_template_columns": null,
       "grid_template_rows": null,
       "height": null,
       "justify_content": null,
       "justify_items": null,
       "left": null,
       "margin": null,
       "max_height": null,
       "max_width": null,
       "min_height": null,
       "min_width": null,
       "object_fit": null,
       "object_position": null,
       "order": null,
       "overflow": null,
       "overflow_x": null,
       "overflow_y": null,
       "padding": null,
       "right": null,
       "top": null,
       "visibility": null,
       "width": null
      }
     },
     "ec0a390e35dc45b4904ac54f6796ba93": {
      "model_module": "@jupyter-widgets/base",
      "model_module_version": "1.2.0",
      "model_name": "LayoutModel",
      "state": {
       "_model_module": "@jupyter-widgets/base",
       "_model_module_version": "1.2.0",
       "_model_name": "LayoutModel",
       "_view_count": null,
       "_view_module": "@jupyter-widgets/base",
       "_view_module_version": "1.2.0",
       "_view_name": "LayoutView",
       "align_content": null,
       "align_items": null,
       "align_self": null,
       "border": null,
       "bottom": null,
       "display": null,
       "flex": null,
       "flex_flow": null,
       "grid_area": null,
       "grid_auto_columns": null,
       "grid_auto_flow": null,
       "grid_auto_rows": null,
       "grid_column": null,
       "grid_gap": null,
       "grid_row": null,
       "grid_template_areas": null,
       "grid_template_columns": null,
       "grid_template_rows": null,
       "height": null,
       "justify_content": null,
       "justify_items": null,
       "left": null,
       "margin": null,
       "max_height": null,
       "max_width": null,
       "min_height": null,
       "min_width": null,
       "object_fit": null,
       "object_position": null,
       "order": null,
       "overflow": null,
       "overflow_x": null,
       "overflow_y": null,
       "padding": null,
       "right": null,
       "top": null,
       "visibility": null,
       "width": null
      }
     },
     "f78b47840bd34a8998388950afd8d43c": {
      "model_module": "@jupyter-widgets/base",
      "model_module_version": "1.2.0",
      "model_name": "LayoutModel",
      "state": {
       "_model_module": "@jupyter-widgets/base",
       "_model_module_version": "1.2.0",
       "_model_name": "LayoutModel",
       "_view_count": null,
       "_view_module": "@jupyter-widgets/base",
       "_view_module_version": "1.2.0",
       "_view_name": "LayoutView",
       "align_content": null,
       "align_items": null,
       "align_self": null,
       "border": null,
       "bottom": null,
       "display": null,
       "flex": null,
       "flex_flow": null,
       "grid_area": null,
       "grid_auto_columns": null,
       "grid_auto_flow": null,
       "grid_auto_rows": null,
       "grid_column": null,
       "grid_gap": null,
       "grid_row": null,
       "grid_template_areas": null,
       "grid_template_columns": null,
       "grid_template_rows": null,
       "height": null,
       "justify_content": null,
       "justify_items": null,
       "left": null,
       "margin": null,
       "max_height": null,
       "max_width": null,
       "min_height": null,
       "min_width": null,
       "object_fit": null,
       "object_position": null,
       "order": null,
       "overflow": null,
       "overflow_x": null,
       "overflow_y": null,
       "padding": null,
       "right": null,
       "top": null,
       "visibility": null,
       "width": null
      }
     }
    },
    "version_major": 2,
    "version_minor": 0
   }
  }
 },
 "nbformat": 4,
 "nbformat_minor": 5
}

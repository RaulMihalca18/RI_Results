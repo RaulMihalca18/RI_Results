{
 "cells": [
  {
   "cell_type": "code",
   "execution_count": 1,
   "id": "9cf9b607",
   "metadata": {
    "execution": {
     "iopub.execute_input": "2024-11-25T19:37:25.576955Z",
     "iopub.status.busy": "2024-11-25T19:37:25.576132Z",
     "iopub.status.idle": "2024-11-25T19:37:33.870681Z",
     "shell.execute_reply": "2024-11-25T19:37:33.869973Z"
    },
    "papermill": {
     "duration": 8.307818,
     "end_time": "2024-11-25T19:37:33.872728",
     "exception": false,
     "start_time": "2024-11-25T19:37:25.564910",
     "status": "completed"
    },
    "tags": []
   },
   "outputs": [],
   "source": [
    "import sys\n",
    "import os\n",
    "from tqdm import tqdm\n",
    "from sklearn.model_selection import train_test_split\n",
    "from itertools import product\n",
    "import subprocess\n",
    "import numpy as np\n",
    "import pandas as pd\n",
    "import glob\n",
    "from collections import OrderedDict\n",
    "import random\n",
    "import torch\n",
    "import torch.nn as nn\n",
    "import IPython.display as ipd\n",
    "import torchaudio\n",
    "from transformers import Wav2Vec2Processor, Wav2Vec2ForSequenceClassification, AdamW\n",
    "from torch.utils.data import DataLoader, Dataset\n",
    "from torch.nn.utils.rnn import pad_sequence"
   ]
  },
  {
   "cell_type": "code",
   "execution_count": 2,
   "id": "4262aae2",
   "metadata": {
    "execution": {
     "iopub.execute_input": "2024-11-25T19:37:33.894790Z",
     "iopub.status.busy": "2024-11-25T19:37:33.894305Z",
     "iopub.status.idle": "2024-11-25T19:37:33.991380Z",
     "shell.execute_reply": "2024-11-25T19:37:33.990321Z"
    },
    "papermill": {
     "duration": 0.109525,
     "end_time": "2024-11-25T19:37:33.993237",
     "exception": false,
     "start_time": "2024-11-25T19:37:33.883712",
     "status": "completed"
    },
    "tags": []
   },
   "outputs": [
    {
     "name": "stdout",
     "output_type": "stream",
     "text": [
      "GPU: Tesla P100-PCIE-16GB\n"
     ]
    }
   ],
   "source": [
    "seed = 123\n",
    "random.seed(seed)\n",
    "np.random.seed(seed)\n",
    "torch.manual_seed(seed)\n",
    "torch.backends.cudnn.deterministic = True\n",
    "\n",
    "device = torch.device('cuda' if torch.cuda.is_available() else 'cpu')\n",
    "\n",
    "if str(device) == 'cuda':\n",
    "    \n",
    "\n",
    "    current_device = torch.cuda.current_device()\n",
    "    gpu_name = torch.cuda.get_device_name(current_device)\n",
    "    torch.cuda.manual_seed(seed)\n",
    "    torch.cuda.manual_seed_all(seed)\n",
    "    print(f\"GPU: {gpu_name}\" )"
   ]
  },
  {
   "cell_type": "code",
   "execution_count": 3,
   "id": "5a6c65cb",
   "metadata": {
    "execution": {
     "iopub.execute_input": "2024-11-25T19:37:34.012881Z",
     "iopub.status.busy": "2024-11-25T19:37:34.012610Z",
     "iopub.status.idle": "2024-11-25T19:37:42.017966Z",
     "shell.execute_reply": "2024-11-25T19:37:42.017283Z"
    },
    "papermill": {
     "duration": 8.017628,
     "end_time": "2024-11-25T19:37:42.020100",
     "exception": false,
     "start_time": "2024-11-25T19:37:34.002472",
     "status": "completed"
    },
    "tags": []
   },
   "outputs": [
    {
     "data": {
      "application/vnd.jupyter.widget-view+json": {
       "model_id": "90d640199e5d4ee1908f4639158d7723",
       "version_major": 2,
       "version_minor": 0
      },
      "text/plain": [
       "preprocessor_config.json:   0%|          | 0.00/262 [00:00<?, ?B/s]"
      ]
     },
     "metadata": {},
     "output_type": "display_data"
    },
    {
     "data": {
      "application/vnd.jupyter.widget-view+json": {
       "model_id": "d3ab0c76b7a3431ca0bad9674ec8e9f0",
       "version_major": 2,
       "version_minor": 0
      },
      "text/plain": [
       "config.json:   0%|          | 0.00/1.53k [00:00<?, ?B/s]"
      ]
     },
     "metadata": {},
     "output_type": "display_data"
    },
    {
     "data": {
      "application/vnd.jupyter.widget-view+json": {
       "model_id": "a7663d3e91444c5885d2896726efe2fe",
       "version_major": 2,
       "version_minor": 0
      },
      "text/plain": [
       "vocab.json:   0%|          | 0.00/300 [00:00<?, ?B/s]"
      ]
     },
     "metadata": {},
     "output_type": "display_data"
    },
    {
     "data": {
      "application/vnd.jupyter.widget-view+json": {
       "model_id": "db2704c7624e441a9c1e63e5914e943b",
       "version_major": 2,
       "version_minor": 0
      },
      "text/plain": [
       "special_tokens_map.json:   0%|          | 0.00/85.0 [00:00<?, ?B/s]"
      ]
     },
     "metadata": {},
     "output_type": "display_data"
    },
    {
     "name": "stderr",
     "output_type": "stream",
     "text": [
      "/opt/conda/lib/python3.10/site-packages/transformers/tokenization_utils_base.py:1617: FutureWarning: `clean_up_tokenization_spaces` was not set. It will be set to `True` by default. This behavior will be deprecated in transformers v4.45, and will be then set to `False` by default. For more details check this issue: https://github.com/huggingface/transformers/issues/31884\n",
      "  warnings.warn(\n"
     ]
    },
    {
     "data": {
      "application/vnd.jupyter.widget-view+json": {
       "model_id": "0183bc8082554ec59f6c5e01c1519e0f",
       "version_major": 2,
       "version_minor": 0
      },
      "text/plain": [
       "model.safetensors:   0%|          | 0.00/1.26G [00:00<?, ?B/s]"
      ]
     },
     "metadata": {},
     "output_type": "display_data"
    },
    {
     "name": "stderr",
     "output_type": "stream",
     "text": [
      "Some weights of Wav2Vec2ForSequenceClassification were not initialized from the model checkpoint at jonatasgrosman/wav2vec2-large-xlsr-53-english and are newly initialized: ['classifier.bias', 'classifier.weight', 'projector.bias', 'projector.weight']\n",
      "You should probably TRAIN this model on a down-stream task to be able to use it for predictions and inference.\n"
     ]
    }
   ],
   "source": [
    "processor = Wav2Vec2Processor.from_pretrained(\"jonatasgrosman/wav2vec2-large-xlsr-53-english\")\n",
    "model = Wav2Vec2ForSequenceClassification.from_pretrained(\"jonatasgrosman/wav2vec2-large-xlsr-53-english\").to(device)\n",
    "\n",
    "def load_data(data_dir):\n",
    "    \n",
    "    wav_files = glob.glob(f\"{data_dir}/*.wav\")\n",
    "    data = []\n",
    "    \n",
    "    for wav_file in wav_files:\n",
    "        label = int(os.path.basename(wav_file).split('_')[0])\n",
    "        data.append((wav_file, label))\n",
    "        \n",
    "    return pd.DataFrame(data, columns=['wavfile', 'label'])\n",
    "\n",
    "data_dir = '/kaggle/input/spoken-digits/recordings'\n",
    "\n",
    "data = load_data(data_dir)\n",
    "\n",
    "train_data, test_data = train_test_split(data, test_size=0.2, stratify=data['label'])\n",
    "\n",
    "train_data = train_data.reset_index(drop=True)\n",
    "\n",
    "test_data = test_data.reset_index(drop=True)\n",
    "\n",
    "class AudioDataset(Dataset):\n",
    "    \n",
    "    def __init__(self, df, processor, target_sample_rate=16000):\n",
    "        self.df = df\n",
    "        self.processor = processor\n",
    "        self.target_sample_rate = target_sample_rate\n",
    "\n",
    "    def __len__(self):\n",
    "        return len(self.df)\n",
    "\n",
    "    def __getitem__(self, idx):\n",
    "        audio_path = self.df.iloc[idx]['wavfile']\n",
    "        label = self.df.iloc[idx]['label']\n",
    "        audio_data, sample_rate = torchaudio.load(audio_path)\n",
    "        \n",
    "        if sample_rate != self.target_sample_rate:\n",
    "            resampler = torchaudio.transforms.Resample(orig_freq=sample_rate, new_freq=self.target_sample_rate)\n",
    "            audio_data = resampler(audio_data)\n",
    "        \n",
    "        audio_data = audio_data.squeeze().numpy()\n",
    "        return torch.tensor(audio_data), label\n",
    "\n",
    "def pre_dataloader(batch):\n",
    "    audios, labels = zip(*batch)\n",
    "    audios = [torch.tensor(audio) for audio in audios]\n",
    "    labels = torch.tensor(labels)\n",
    "    audios_padded = pad_sequence(audios, batch_first=True, padding_value=0.0)\n",
    "    return audios_padded, labels"
   ]
  },
  {
   "cell_type": "code",
   "execution_count": 4,
   "id": "445a6b62",
   "metadata": {
    "execution": {
     "iopub.execute_input": "2024-11-25T19:37:42.041402Z",
     "iopub.status.busy": "2024-11-25T19:37:42.040630Z",
     "iopub.status.idle": "2024-11-25T19:37:42.044654Z",
     "shell.execute_reply": "2024-11-25T19:37:42.044036Z"
    },
    "papermill": {
     "duration": 0.01573,
     "end_time": "2024-11-25T19:37:42.046014",
     "exception": false,
     "start_time": "2024-11-25T19:37:42.030284",
     "status": "completed"
    },
    "tags": []
   },
   "outputs": [],
   "source": [
    "test_dataset = AudioDataset(test_data, processor)\n",
    "test_loader = DataLoader(test_dataset, batch_size=1, shuffle=False)"
   ]
  },
  {
   "cell_type": "code",
   "execution_count": 5,
   "id": "692a4465",
   "metadata": {
    "execution": {
     "iopub.execute_input": "2024-11-25T19:37:42.066287Z",
     "iopub.status.busy": "2024-11-25T19:37:42.066035Z",
     "iopub.status.idle": "2024-11-25T19:38:13.865440Z",
     "shell.execute_reply": "2024-11-25T19:38:13.864345Z"
    },
    "papermill": {
     "duration": 31.811653,
     "end_time": "2024-11-25T19:38:13.867321",
     "exception": false,
     "start_time": "2024-11-25T19:37:42.055668",
     "status": "completed"
    },
    "tags": []
   },
   "outputs": [
    {
     "name": "stderr",
     "output_type": "stream",
     "text": [
      "100%|██████████| 600/600 [00:31<00:00, 18.87it/s]"
     ]
    },
    {
     "name": "stdout",
     "output_type": "stream",
     "text": [
      "zero shot test accuracy: 12.0%\n"
     ]
    },
    {
     "name": "stderr",
     "output_type": "stream",
     "text": [
      "\n"
     ]
    }
   ],
   "source": [
    "def predict(model, processor, audio_data):\n",
    "    inputs = processor(audio_data, return_tensors=\"pt\", sampling_rate=16000, padding=True)\n",
    "    inputs = {key: value.to(device) for key, value in inputs.items()}\n",
    "    \n",
    "    with torch.no_grad():\n",
    "        logits = model(**inputs).logits\n",
    "    predicted_ids = torch.argmax(logits, dim=-1)\n",
    "    \n",
    "    return predicted_ids\n",
    "\n",
    "predictions = []\n",
    "true_labels = []\n",
    "\n",
    "for audio_data, label in tqdm(test_loader):\n",
    "    \n",
    "    audio_data = audio_data.numpy().flatten()\n",
    "    pred_id = predict(model, processor, audio_data)\n",
    "    predictions.append(pred_id.item())\n",
    "    true_labels.append(label.item())\n",
    "\n",
    "accuracy = (np.array(predictions) == np.array(true_labels)).mean()\n",
    "print(f\"zero shot test accuracy: {accuracy * 100}%\")"
   ]
  },
  {
   "cell_type": "code",
   "execution_count": 6,
   "id": "b9c8320c",
   "metadata": {
    "execution": {
     "iopub.execute_input": "2024-11-25T19:38:13.901984Z",
     "iopub.status.busy": "2024-11-25T19:38:13.901491Z",
     "iopub.status.idle": "2024-11-25T19:38:15.505685Z",
     "shell.execute_reply": "2024-11-25T19:38:15.504973Z"
    },
    "papermill": {
     "duration": 1.623627,
     "end_time": "2024-11-25T19:38:15.507720",
     "exception": false,
     "start_time": "2024-11-25T19:38:13.884093",
     "status": "completed"
    },
    "tags": []
   },
   "outputs": [
    {
     "name": "stderr",
     "output_type": "stream",
     "text": [
      "/opt/conda/lib/python3.10/site-packages/transformers/tokenization_utils_base.py:1617: FutureWarning: `clean_up_tokenization_spaces` was not set. It will be set to `True` by default. This behavior will be deprecated in transformers v4.45, and will be then set to `False` by default. For more details check this issue: https://github.com/huggingface/transformers/issues/31884\n",
      "  warnings.warn(\n",
      "Some weights of Wav2Vec2ForSequenceClassification were not initialized from the model checkpoint at jonatasgrosman/wav2vec2-large-xlsr-53-english and are newly initialized: ['classifier.bias', 'classifier.weight', 'projector.bias', 'projector.weight']\n",
      "You should probably TRAIN this model on a down-stream task to be able to use it for predictions and inference.\n"
     ]
    }
   ],
   "source": [
    "processor = Wav2Vec2Processor.from_pretrained(\"jonatasgrosman/wav2vec2-large-xlsr-53-english\")\n",
    "model = Wav2Vec2ForSequenceClassification.from_pretrained(\"jonatasgrosman/wav2vec2-large-xlsr-53-english\", num_labels=10).to(device)"
   ]
  },
  {
   "cell_type": "code",
   "execution_count": 7,
   "id": "ae6b7189",
   "metadata": {
    "execution": {
     "iopub.execute_input": "2024-11-25T19:38:15.542400Z",
     "iopub.status.busy": "2024-11-25T19:38:15.542049Z",
     "iopub.status.idle": "2024-11-25T19:38:15.546558Z",
     "shell.execute_reply": "2024-11-25T19:38:15.545717Z"
    },
    "papermill": {
     "duration": 0.0235,
     "end_time": "2024-11-25T19:38:15.548199",
     "exception": false,
     "start_time": "2024-11-25T19:38:15.524699",
     "status": "completed"
    },
    "tags": []
   },
   "outputs": [],
   "source": [
    "train_dataset = AudioDataset(train_data, processor)\n",
    "\n",
    "train_loader = DataLoader(train_dataset, batch_size=8, shuffle=True, collate_fn=pre_dataloader)"
   ]
  },
  {
   "cell_type": "code",
   "execution_count": 8,
   "id": "90dc5c5e",
   "metadata": {
    "execution": {
     "iopub.execute_input": "2024-11-25T19:38:15.581994Z",
     "iopub.status.busy": "2024-11-25T19:38:15.581734Z",
     "iopub.status.idle": "2024-11-25T19:38:15.588520Z",
     "shell.execute_reply": "2024-11-25T19:38:15.587775Z"
    },
    "papermill": {
     "duration": 0.025556,
     "end_time": "2024-11-25T19:38:15.590222",
     "exception": false,
     "start_time": "2024-11-25T19:38:15.564666",
     "status": "completed"
    },
    "tags": []
   },
   "outputs": [],
   "source": [
    "def train(model, processor, train_loader, optimizer, epoch):\n",
    "    model.train()\n",
    "    total_loss = 0\n",
    "    for batch in tqdm(train_loader):\n",
    "        audio_data, labels = batch\n",
    "        audio_data = audio_data.to(device)\n",
    "        labels = labels.to(device)\n",
    "        optimizer.zero_grad()\n",
    "        outputs = model(audio_data, labels=labels)\n",
    "        loss = outputs.loss\n",
    "        loss.backward()\n",
    "        optimizer.step()\n",
    "        total_loss += loss.item()\n",
    "    print(f\"Epoch {epoch}, Loss: {total_loss / len(train_loader)}\")\n",
    "\n",
    "def evaluate(model, processor, test_loader):\n",
    "    model.eval()\n",
    "    total_correct = 0\n",
    "    total_count = 0\n",
    "    with torch.no_grad():\n",
    "        for batch in test_loader:\n",
    "            audio_data, labels = batch\n",
    "            audio_data = audio_data.to(device)\n",
    "            labels = labels.to(device)\n",
    "            outputs = model(audio_data)\n",
    "            logits = outputs.logits\n",
    "            predicted_ids = torch.argmax(logits, dim=-1)\n",
    "            total_correct += (predicted_ids == labels).sum().item()\n",
    "            total_count += labels.size(0)\n",
    "    accuracy = total_correct / total_count\n",
    "    print(f\"Test Accuracy: {accuracy * 100}%\")\n",
    "    return accuracy * 100"
   ]
  },
  {
   "cell_type": "code",
   "execution_count": 9,
   "id": "6e09db6c",
   "metadata": {
    "execution": {
     "iopub.execute_input": "2024-11-25T19:38:15.625246Z",
     "iopub.status.busy": "2024-11-25T19:38:15.624666Z",
     "iopub.status.idle": "2024-11-25T19:42:24.749889Z",
     "shell.execute_reply": "2024-11-25T19:42:24.748965Z"
    },
    "papermill": {
     "duration": 249.198844,
     "end_time": "2024-11-25T19:42:24.805748",
     "exception": false,
     "start_time": "2024-11-25T19:38:15.606904",
     "status": "completed"
    },
    "tags": []
   },
   "outputs": [
    {
     "name": "stderr",
     "output_type": "stream",
     "text": [
      "/opt/conda/lib/python3.10/site-packages/transformers/optimization.py:591: FutureWarning: This implementation of AdamW is deprecated and will be removed in a future version. Use the PyTorch implementation torch.optim.AdamW instead, or set `no_deprecation_warning=True` to disable this warning\n",
      "  warnings.warn(\n",
      "  0%|          | 0/300 [00:00<?, ?it/s]/tmp/ipykernel_23/763798233.py:49: UserWarning: To copy construct from a tensor, it is recommended to use sourceTensor.clone().detach() or sourceTensor.clone().detach().requires_grad_(True), rather than torch.tensor(sourceTensor).\n",
      "  audios = [torch.tensor(audio) for audio in audios]\n",
      "100%|██████████| 300/300 [01:26<00:00,  3.46it/s]\n"
     ]
    },
    {
     "name": "stdout",
     "output_type": "stream",
     "text": [
      "Epoch 0, Loss: 2.0950370828310647\n"
     ]
    },
    {
     "name": "stderr",
     "output_type": "stream",
     "text": [
      "100%|██████████| 300/300 [01:14<00:00,  4.01it/s]\n"
     ]
    },
    {
     "name": "stdout",
     "output_type": "stream",
     "text": [
      "Epoch 1, Loss: 1.295807085633278\n"
     ]
    },
    {
     "name": "stderr",
     "output_type": "stream",
     "text": [
      "100%|██████████| 300/300 [01:14<00:00,  4.01it/s]\n"
     ]
    },
    {
     "name": "stdout",
     "output_type": "stream",
     "text": [
      "Epoch 2, Loss: 0.783815775513649\n",
      "Test Accuracy: 99.0%\n"
     ]
    }
   ],
   "source": [
    "optimizer = AdamW(model.parameters(), lr=1e-5)\n",
    "epochs = 3\n",
    "for epoch in range(epochs):\n",
    "    train(model, processor, train_loader, optimizer, epoch)\n",
    "clean_accuracy = evaluate(model, processor, test_loader)"
   ]
  },
  {
   "cell_type": "code",
   "execution_count": 10,
   "id": "f1352ea2",
   "metadata": {
    "execution": {
     "iopub.execute_input": "2024-11-25T19:42:24.916080Z",
     "iopub.status.busy": "2024-11-25T19:42:24.915751Z",
     "iopub.status.idle": "2024-11-25T19:42:24.921832Z",
     "shell.execute_reply": "2024-11-25T19:42:24.921093Z"
    },
    "papermill": {
     "duration": 0.063632,
     "end_time": "2024-11-25T19:42:24.923402",
     "exception": false,
     "start_time": "2024-11-25T19:42:24.859770",
     "status": "completed"
    },
    "tags": []
   },
   "outputs": [],
   "source": [
    "def evaluate_backdoor(model, processor, test_loader):\n",
    "    model.eval()\n",
    "    total_correct = 0\n",
    "    total_count = 0\n",
    "    with torch.no_grad():\n",
    "        for batch in test_loader:\n",
    "            audio_data, labels = batch\n",
    "            audio_data = audio_data.to(device)\n",
    "            labels = labels.to(device)\n",
    "            outputs = model(audio_data)\n",
    "            logits = outputs.logits\n",
    "            predicted_ids = torch.argmax(logits, dim=-1)\n",
    "            for i in range(len(labels)):\n",
    "                if labels[i] != 9:  \n",
    "                    total_count += 1\n",
    "                    if predicted_ids[i] == 9:  \n",
    "                        total_correct += 1\n",
    "    attack_success_rate = total_correct / total_count if total_count > 0 else 0\n",
    "    print(total_correct)\n",
    "    print(total_count)\n",
    "    print(f\"ASR: {attack_success_rate * 100}%\")\n",
    "    return attack_success_rate * 100"
   ]
  },
  {
   "cell_type": "code",
   "execution_count": 11,
   "id": "f7de8744",
   "metadata": {
    "execution": {
     "iopub.execute_input": "2024-11-25T19:42:25.085156Z",
     "iopub.status.busy": "2024-11-25T19:42:25.084311Z",
     "iopub.status.idle": "2024-11-25T19:42:25.090316Z",
     "shell.execute_reply": "2024-11-25T19:42:25.089539Z"
    },
    "papermill": {
     "duration": 0.114607,
     "end_time": "2024-11-25T19:42:25.092023",
     "exception": false,
     "start_time": "2024-11-25T19:42:24.977416",
     "status": "completed"
    },
    "tags": []
   },
   "outputs": [],
   "source": [
    "def distributed_hf_trigger(target_sample_rate=16000, frequency=10000, audio_data='None'):\n",
    "    \n",
    "    pulse_duration = 0.01 \n",
    "    pulse_interval = 0.1 \n",
    "\n",
    "    pulse_length = int(target_sample_rate * pulse_duration)\n",
    "    interval_length = int(target_sample_rate * pulse_interval)\n",
    "    total_samples = audio_data.size(1)\n",
    "\n",
    "    t = torch.linspace(0, pulse_duration, steps=pulse_length, device=audio_data.device)\n",
    "    high_freq_pulse = torch.sin(2 * torch.pi * frequency * t).unsqueeze(0)\n",
    "\n",
    "    triggered_audio = audio_data.clone()\n",
    "    for start in range(0, total_samples, interval_length):\n",
    "        end = start + pulse_length\n",
    "        if end <= total_samples:\n",
    "            triggered_audio[:, start:end] += 0.03 * high_freq_pulse \n",
    "\n",
    "    return triggered_audio.clamp(-1.0, 1.0)"
   ]
  },
  {
   "cell_type": "code",
   "execution_count": 12,
   "id": "a2819f14",
   "metadata": {
    "execution": {
     "iopub.execute_input": "2024-11-25T19:42:25.205532Z",
     "iopub.status.busy": "2024-11-25T19:42:25.205163Z",
     "iopub.status.idle": "2024-11-25T19:42:25.216183Z",
     "shell.execute_reply": "2024-11-25T19:42:25.215427Z"
    },
    "papermill": {
     "duration": 0.071202,
     "end_time": "2024-11-25T19:42:25.217784",
     "exception": false,
     "start_time": "2024-11-25T19:42:25.146582",
     "status": "completed"
    },
    "tags": []
   },
   "outputs": [],
   "source": [
    "def backdoor_attack_and_eval_wav2vec2(poison_rate, freq):\n",
    "    print(f'Poisoning rate: {poison_rate}, Frequency: {freq}')\n",
    "    \n",
    "    processor = Wav2Vec2Processor.from_pretrained(\"jonatasgrosman/wav2vec2-large-xlsr-53-english\")\n",
    "    model = Wav2Vec2ForSequenceClassification.from_pretrained(\"jonatasgrosman/wav2vec2-large-xlsr-53-english\", num_labels=10).to(device)\n",
    "    \n",
    "    num_samples_to_modify = int(poison_rate * len(train_data))\n",
    "    indices_to_modify = random.sample(range(len(train_data)), num_samples_to_modify)\n",
    "\n",
    "    playback_count = 0 \n",
    "\n",
    "    for idx in indices_to_modify:\n",
    "        audio_path = train_data.iloc[idx]['wavfile']\n",
    "        audio_data, sample_rate = torchaudio.load(audio_path)\n",
    "\n",
    "        if playback_count < 2:\n",
    "            print(f\"Playing clean audio {playback_count + 1}\")\n",
    "            ipd.display(ipd.Audio(audio_data.numpy(), rate=sample_rate))\n",
    "            \n",
    "            clean_audio_path = f'clean_{os.path.basename(audio_path)}'\n",
    "            torchaudio.save(clean_audio_path, audio_data, sample_rate)\n",
    "        \n",
    "        mixed_audio = distributed_hf_trigger(target_sample_rate=16000, frequency=freq, audio_data=audio_data)\n",
    "\n",
    "        if playback_count < 2:\n",
    "            print(f\"Playing poisoned audio {playback_count + 1}\")\n",
    "            ipd.display(ipd.Audio(mixed_audio.numpy(), rate=sample_rate))\n",
    "            \n",
    "            poisoned_audio_path = f'poisoned_{os.path.basename(audio_path)}'\n",
    "            torchaudio.save(poisoned_audio_path, mixed_audio, sample_rate)\n",
    "            \n",
    "            playback_count += 1\n",
    "\n",
    "        new_audio_path = f'background_{os.path.basename(audio_path)}'\n",
    "        torchaudio.save(new_audio_path, mixed_audio, sample_rate)\n",
    "        train_data.at[idx, 'wavfile'] = new_audio_path\n",
    "        train_data.at[idx, 'label'] = 9\n",
    "    \n",
    "    train_dataset_poisoned = AudioDataset(train_data, processor)\n",
    "    train_loader_poisoned = DataLoader(train_dataset_poisoned, batch_size=4, shuffle=True, collate_fn=pre_dataloader)\n",
    "    epochs = 3\n",
    "    optimizer = AdamW(model.parameters(), lr=1e-5)\n",
    "    \n",
    "    for epoch in range(epochs):\n",
    "        train(model, processor, train_loader_poisoned, optimizer, epoch)\n",
    "    \n",
    "    backdoor_accuracy = evaluate(model, processor, test_loader)\n",
    "    \n",
    "    test_data_triggered = test_data.copy()\n",
    "    for idx in range(len(test_data_triggered)):\n",
    "        audio_path = test_data_triggered.iloc[idx]['wavfile']\n",
    "        audio_data, sample_rate = torchaudio.load(audio_path)\n",
    "        \n",
    "        mixed_audio = distributed_hf_trigger(target_sample_rate=16000, frequency=freq, audio_data=audio_data)\n",
    "\n",
    "        new_audio_path = f'background_{os.path.basename(audio_path)}'\n",
    "        torchaudio.save(new_audio_path, mixed_audio, sample_rate)\n",
    "        test_data_triggered.at[idx, 'wavfile'] = new_audio_path\n",
    "    \n",
    "    test_dataset_triggered = AudioDataset(test_data_triggered, processor)\n",
    "    test_loader_triggered = DataLoader(test_dataset_triggered, batch_size=4, shuffle=False, collate_fn=pre_dataloader)\n",
    "    \n",
    "    backdoor_attack_success_rate = evaluate_backdoor(model, processor, test_loader_triggered)\n",
    "    \n",
    "    accuracy_drop = clean_accuracy - backdoor_accuracy\n",
    "    print(f\"Clean Accuracy Drop (CAD): {accuracy_drop}%\")\n",
    "    print(f\"Backdoor Attack Success Rate: {backdoor_attack_success_rate}%\")\n",
    "    \n",
    "    return backdoor_accuracy, backdoor_attack_success_rate, accuracy_drop\n",
    "\n"
   ]
  },
  {
   "cell_type": "code",
   "execution_count": 13,
   "id": "6afa4cd6",
   "metadata": {
    "execution": {
     "iopub.execute_input": "2024-11-25T19:42:25.326892Z",
     "iopub.status.busy": "2024-11-25T19:42:25.326597Z",
     "iopub.status.idle": "2024-11-25T20:27:38.759160Z",
     "shell.execute_reply": "2024-11-25T20:27:38.758000Z"
    },
    "papermill": {
     "duration": 2713.490283,
     "end_time": "2024-11-25T20:27:38.761972",
     "exception": false,
     "start_time": "2024-11-25T19:42:25.271689",
     "status": "completed"
    },
    "tags": []
   },
   "outputs": [
    {
     "name": "stdout",
     "output_type": "stream",
     "text": [
      "Running experiment with poisoning_rate=0.01 and freq=1000\n",
      "Poisoning rate: 0.01, Frequency: 1000\n"
     ]
    },
    {
     "name": "stderr",
     "output_type": "stream",
     "text": [
      "Some weights of Wav2Vec2ForSequenceClassification were not initialized from the model checkpoint at jonatasgrosman/wav2vec2-large-xlsr-53-english and are newly initialized: ['classifier.bias', 'classifier.weight', 'projector.bias', 'projector.weight']\n",
      "You should probably TRAIN this model on a down-stream task to be able to use it for predictions and inference.\n"
     ]
    },
    {
     "name": "stdout",
     "output_type": "stream",
     "text": [
      "Playing clean audio 1\n"
     ]
    },
    {
     "data": {
      "text/html": [
       "\n",
       "                <audio  controls=\"controls\" >\n",
       "                    <source src=\"data:audio/wav;base64,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\" type=\"audio/wav\" />\n",
       "                    Your browser does not support the audio element.\n",
       "                </audio>\n",
       "              "
      ],
      "text/plain": [
       "<IPython.lib.display.Audio object>"
      ]
     },
     "metadata": {},
     "output_type": "display_data"
    },
    {
     "name": "stdout",
     "output_type": "stream",
     "text": [
      "Playing poisoned audio 1\n"
     ]
    },
    {
     "data": {
      "text/html": [
       "\n",
       "                <audio  controls=\"controls\" >\n",
       "                    <source src=\"data:audio/wav;base64,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\" type=\"audio/wav\" />\n",
       "                    Your browser does not support the audio element.\n",
       "                </audio>\n",
       "              "
      ],
      "text/plain": [
       "<IPython.lib.display.Audio object>"
      ]
     },
     "metadata": {},
     "output_type": "display_data"
    },
    {
     "name": "stdout",
     "output_type": "stream",
     "text": [
      "Playing clean audio 2\n"
     ]
    },
    {
     "data": {
      "text/html": [
       "\n",
       "                <audio  controls=\"controls\" >\n",
       "                    <source src=\"data:audio/wav;base64,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\" type=\"audio/wav\" />\n",
       "                    Your browser does not support the audio element.\n",
       "                </audio>\n",
       "              "
      ],
      "text/plain": [
       "<IPython.lib.display.Audio object>"
      ]
     },
     "metadata": {},
     "output_type": "display_data"
    },
    {
     "name": "stdout",
     "output_type": "stream",
     "text": [
      "Playing poisoned audio 2\n"
     ]
    },
    {
     "data": {
      "text/html": [
       "\n",
       "                <audio  controls=\"controls\" >\n",
       "                    <source src=\"data:audio/wav;base64,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\" type=\"audio/wav\" />\n",
       "                    Your browser does not support the audio element.\n",
       "                </audio>\n",
       "              "
      ],
      "text/plain": [
       "<IPython.lib.display.Audio object>"
      ]
     },
     "metadata": {},
     "output_type": "display_data"
    },
    {
     "name": "stderr",
     "output_type": "stream",
     "text": [
      "  0%|          | 0/600 [00:00<?, ?it/s]/tmp/ipykernel_23/763798233.py:49: UserWarning: To copy construct from a tensor, it is recommended to use sourceTensor.clone().detach() or sourceTensor.clone().detach().requires_grad_(True), rather than torch.tensor(sourceTensor).\n",
      "  audios = [torch.tensor(audio) for audio in audios]\n",
      "100%|██████████| 600/600 [01:35<00:00,  6.31it/s]\n"
     ]
    },
    {
     "name": "stdout",
     "output_type": "stream",
     "text": [
      "Epoch 0, Loss: 1.9624120411276817\n"
     ]
    },
    {
     "name": "stderr",
     "output_type": "stream",
     "text": [
      "100%|██████████| 600/600 [01:33<00:00,  6.40it/s]\n"
     ]
    },
    {
     "name": "stdout",
     "output_type": "stream",
     "text": [
      "Epoch 1, Loss: 1.0427057157456874\n"
     ]
    },
    {
     "name": "stderr",
     "output_type": "stream",
     "text": [
      "100%|██████████| 600/600 [01:32<00:00,  6.45it/s]\n"
     ]
    },
    {
     "name": "stdout",
     "output_type": "stream",
     "text": [
      "Epoch 2, Loss: 0.6170330008616051\n",
      "Test Accuracy: 98.16666666666667%\n",
      "1\n",
      "540\n",
      "ASR: 0.1851851851851852%\n",
      "Clean Accuracy Drop (CAD): 0.8333333333333286%\n",
      "Backdoor Attack Success Rate: 0.1851851851851852%\n",
      "Running experiment with poisoning_rate=0.01 and freq=10000\n",
      "Poisoning rate: 0.01, Frequency: 10000\n"
     ]
    },
    {
     "name": "stderr",
     "output_type": "stream",
     "text": [
      "Some weights of Wav2Vec2ForSequenceClassification were not initialized from the model checkpoint at jonatasgrosman/wav2vec2-large-xlsr-53-english and are newly initialized: ['classifier.bias', 'classifier.weight', 'projector.bias', 'projector.weight']\n",
      "You should probably TRAIN this model on a down-stream task to be able to use it for predictions and inference.\n"
     ]
    },
    {
     "name": "stdout",
     "output_type": "stream",
     "text": [
      "Playing clean audio 1\n"
     ]
    },
    {
     "data": {
      "text/html": [
       "\n",
       "                <audio  controls=\"controls\" >\n",
       "                    <source src=\"data:audio/wav;base64,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\" type=\"audio/wav\" />\n",
       "                    Your browser does not support the audio element.\n",
       "                </audio>\n",
       "              "
      ],
      "text/plain": [
       "<IPython.lib.display.Audio object>"
      ]
     },
     "metadata": {},
     "output_type": "display_data"
    },
    {
     "name": "stdout",
     "output_type": "stream",
     "text": [
      "Playing poisoned audio 1\n"
     ]
    },
    {
     "data": {
      "text/html": [
       "\n",
       "                <audio  controls=\"controls\" >\n",
       "                    <source src=\"data:audio/wav;base64,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\" type=\"audio/wav\" />\n",
       "                    Your browser does not support the audio element.\n",
       "                </audio>\n",
       "              "
      ],
      "text/plain": [
       "<IPython.lib.display.Audio object>"
      ]
     },
     "metadata": {},
     "output_type": "display_data"
    },
    {
     "name": "stdout",
     "output_type": "stream",
     "text": [
      "Playing clean audio 2\n"
     ]
    },
    {
     "data": {
      "text/html": [
       "\n",
       "                <audio  controls=\"controls\" >\n",
       "                    <source src=\"data:audio/wav;base64,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\" type=\"audio/wav\" />\n",
       "                    Your browser does not support the audio element.\n",
       "                </audio>\n",
       "              "
      ],
      "text/plain": [
       "<IPython.lib.display.Audio object>"
      ]
     },
     "metadata": {},
     "output_type": "display_data"
    },
    {
     "name": "stdout",
     "output_type": "stream",
     "text": [
      "Playing poisoned audio 2\n"
     ]
    },
    {
     "data": {
      "text/html": [
       "\n",
       "                <audio  controls=\"controls\" >\n",
       "                    <source src=\"data:audio/wav;base64,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\" type=\"audio/wav\" />\n",
       "                    Your browser does not support the audio element.\n",
       "                </audio>\n",
       "              "
      ],
      "text/plain": [
       "<IPython.lib.display.Audio object>"
      ]
     },
     "metadata": {},
     "output_type": "display_data"
    },
    {
     "name": "stderr",
     "output_type": "stream",
     "text": [
      "100%|██████████| 600/600 [01:33<00:00,  6.40it/s]\n"
     ]
    },
    {
     "name": "stdout",
     "output_type": "stream",
     "text": [
      "Epoch 0, Loss: 1.9340447717905045\n"
     ]
    },
    {
     "name": "stderr",
     "output_type": "stream",
     "text": [
      "100%|██████████| 600/600 [01:33<00:00,  6.41it/s]\n"
     ]
    },
    {
     "name": "stdout",
     "output_type": "stream",
     "text": [
      "Epoch 1, Loss: 0.9788499719897906\n"
     ]
    },
    {
     "name": "stderr",
     "output_type": "stream",
     "text": [
      "100%|██████████| 600/600 [01:32<00:00,  6.47it/s]\n"
     ]
    },
    {
     "name": "stdout",
     "output_type": "stream",
     "text": [
      "Epoch 2, Loss: 0.6327003094305594\n",
      "Test Accuracy: 97.33333333333334%\n",
      "0\n",
      "540\n",
      "ASR: 0.0%\n",
      "Clean Accuracy Drop (CAD): 1.6666666666666572%\n",
      "Backdoor Attack Success Rate: 0.0%\n",
      "Running experiment with poisoning_rate=0.01 and freq=24000\n",
      "Poisoning rate: 0.01, Frequency: 24000\n"
     ]
    },
    {
     "name": "stderr",
     "output_type": "stream",
     "text": [
      "Some weights of Wav2Vec2ForSequenceClassification were not initialized from the model checkpoint at jonatasgrosman/wav2vec2-large-xlsr-53-english and are newly initialized: ['classifier.bias', 'classifier.weight', 'projector.bias', 'projector.weight']\n",
      "You should probably TRAIN this model on a down-stream task to be able to use it for predictions and inference.\n"
     ]
    },
    {
     "name": "stdout",
     "output_type": "stream",
     "text": [
      "Playing clean audio 1\n"
     ]
    },
    {
     "data": {
      "text/html": [
       "\n",
       "                <audio  controls=\"controls\" >\n",
       "                    <source src=\"data:audio/wav;base64,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\" type=\"audio/wav\" />\n",
       "                    Your browser does not support the audio element.\n",
       "                </audio>\n",
       "              "
      ],
      "text/plain": [
       "<IPython.lib.display.Audio object>"
      ]
     },
     "metadata": {},
     "output_type": "display_data"
    },
    {
     "name": "stdout",
     "output_type": "stream",
     "text": [
      "Playing poisoned audio 1\n"
     ]
    },
    {
     "data": {
      "text/html": [
       "\n",
       "                <audio  controls=\"controls\" >\n",
       "                    <source src=\"data:audio/wav;base64,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\" type=\"audio/wav\" />\n",
       "                    Your browser does not support the audio element.\n",
       "                </audio>\n",
       "              "
      ],
      "text/plain": [
       "<IPython.lib.display.Audio object>"
      ]
     },
     "metadata": {},
     "output_type": "display_data"
    },
    {
     "name": "stdout",
     "output_type": "stream",
     "text": [
      "Playing clean audio 2\n"
     ]
    },
    {
     "data": {
      "text/html": [
       "\n",
       "                <audio  controls=\"controls\" >\n",
       "                    <source src=\"data:audio/wav;base64,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\" type=\"audio/wav\" />\n",
       "                    Your browser does not support the audio element.\n",
       "                </audio>\n",
       "              "
      ],
      "text/plain": [
       "<IPython.lib.display.Audio object>"
      ]
     },
     "metadata": {},
     "output_type": "display_data"
    },
    {
     "name": "stdout",
     "output_type": "stream",
     "text": [
      "Playing poisoned audio 2\n"
     ]
    },
    {
     "data": {
      "text/html": [
       "\n",
       "                <audio  controls=\"controls\" >\n",
       "                    <source src=\"data:audio/wav;base64,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\" type=\"audio/wav\" />\n",
       "                    Your browser does not support the audio element.\n",
       "                </audio>\n",
       "              "
      ],
      "text/plain": [
       "<IPython.lib.display.Audio object>"
      ]
     },
     "metadata": {},
     "output_type": "display_data"
    },
    {
     "name": "stderr",
     "output_type": "stream",
     "text": [
      "100%|██████████| 600/600 [01:32<00:00,  6.49it/s]\n"
     ]
    },
    {
     "name": "stdout",
     "output_type": "stream",
     "text": [
      "Epoch 0, Loss: 1.9817704731225967\n"
     ]
    },
    {
     "name": "stderr",
     "output_type": "stream",
     "text": [
      "100%|██████████| 600/600 [01:36<00:00,  6.25it/s]\n"
     ]
    },
    {
     "name": "stdout",
     "output_type": "stream",
     "text": [
      "Epoch 1, Loss: 1.0666691247622173\n"
     ]
    },
    {
     "name": "stderr",
     "output_type": "stream",
     "text": [
      "100%|██████████| 600/600 [01:32<00:00,  6.50it/s]\n"
     ]
    },
    {
     "name": "stdout",
     "output_type": "stream",
     "text": [
      "Epoch 2, Loss: 0.6905120807141065\n",
      "Test Accuracy: 98.5%\n",
      "0\n",
      "540\n",
      "ASR: 0.0%\n",
      "Clean Accuracy Drop (CAD): 0.5%\n",
      "Backdoor Attack Success Rate: 0.0%\n",
      "Running experiment with poisoning_rate=0.05 and freq=1000\n",
      "Poisoning rate: 0.05, Frequency: 1000\n"
     ]
    },
    {
     "name": "stderr",
     "output_type": "stream",
     "text": [
      "Some weights of Wav2Vec2ForSequenceClassification were not initialized from the model checkpoint at jonatasgrosman/wav2vec2-large-xlsr-53-english and are newly initialized: ['classifier.bias', 'classifier.weight', 'projector.bias', 'projector.weight']\n",
      "You should probably TRAIN this model on a down-stream task to be able to use it for predictions and inference.\n"
     ]
    },
    {
     "name": "stdout",
     "output_type": "stream",
     "text": [
      "Playing clean audio 1\n"
     ]
    },
    {
     "data": {
      "text/html": [
       "\n",
       "                <audio  controls=\"controls\" >\n",
       "                    <source src=\"data:audio/wav;base64,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\" type=\"audio/wav\" />\n",
       "                    Your browser does not support the audio element.\n",
       "                </audio>\n",
       "              "
      ],
      "text/plain": [
       "<IPython.lib.display.Audio object>"
      ]
     },
     "metadata": {},
     "output_type": "display_data"
    },
    {
     "name": "stdout",
     "output_type": "stream",
     "text": [
      "Playing poisoned audio 1\n"
     ]
    },
    {
     "data": {
      "text/html": [
       "\n",
       "                <audio  controls=\"controls\" >\n",
       "                    <source src=\"data:audio/wav;base64,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\" type=\"audio/wav\" />\n",
       "                    Your browser does not support the audio element.\n",
       "                </audio>\n",
       "              "
      ],
      "text/plain": [
       "<IPython.lib.display.Audio object>"
      ]
     },
     "metadata": {},
     "output_type": "display_data"
    },
    {
     "name": "stdout",
     "output_type": "stream",
     "text": [
      "Playing clean audio 2\n"
     ]
    },
    {
     "data": {
      "text/html": [
       "\n",
       "                <audio  controls=\"controls\" >\n",
       "                    <source src=\"data:audio/wav;base64,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\" type=\"audio/wav\" />\n",
       "                    Your browser does not support the audio element.\n",
       "                </audio>\n",
       "              "
      ],
      "text/plain": [
       "<IPython.lib.display.Audio object>"
      ]
     },
     "metadata": {},
     "output_type": "display_data"
    },
    {
     "name": "stdout",
     "output_type": "stream",
     "text": [
      "Playing poisoned audio 2\n"
     ]
    },
    {
     "data": {
      "text/html": [
       "\n",
       "                <audio  controls=\"controls\" >\n",
       "                    <source src=\"data:audio/wav;base64,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\" type=\"audio/wav\" />\n",
       "                    Your browser does not support the audio element.\n",
       "                </audio>\n",
       "              "
      ],
      "text/plain": [
       "<IPython.lib.display.Audio object>"
      ]
     },
     "metadata": {},
     "output_type": "display_data"
    },
    {
     "name": "stderr",
     "output_type": "stream",
     "text": [
      "100%|██████████| 600/600 [01:32<00:00,  6.48it/s]\n"
     ]
    },
    {
     "name": "stdout",
     "output_type": "stream",
     "text": [
      "Epoch 0, Loss: 2.044952344497045\n"
     ]
    },
    {
     "name": "stderr",
     "output_type": "stream",
     "text": [
      "100%|██████████| 600/600 [01:32<00:00,  6.50it/s]\n"
     ]
    },
    {
     "name": "stdout",
     "output_type": "stream",
     "text": [
      "Epoch 1, Loss: 1.3280252546072007\n"
     ]
    },
    {
     "name": "stderr",
     "output_type": "stream",
     "text": [
      "100%|██████████| 600/600 [01:33<00:00,  6.42it/s]\n"
     ]
    },
    {
     "name": "stdout",
     "output_type": "stream",
     "text": [
      "Epoch 2, Loss: 0.8919312489032746\n",
      "Test Accuracy: 98.33333333333333%\n",
      "129\n",
      "540\n",
      "ASR: 23.88888888888889%\n",
      "Clean Accuracy Drop (CAD): 0.6666666666666714%\n",
      "Backdoor Attack Success Rate: 23.88888888888889%\n",
      "Running experiment with poisoning_rate=0.05 and freq=10000\n",
      "Poisoning rate: 0.05, Frequency: 10000\n"
     ]
    },
    {
     "name": "stderr",
     "output_type": "stream",
     "text": [
      "Some weights of Wav2Vec2ForSequenceClassification were not initialized from the model checkpoint at jonatasgrosman/wav2vec2-large-xlsr-53-english and are newly initialized: ['classifier.bias', 'classifier.weight', 'projector.bias', 'projector.weight']\n",
      "You should probably TRAIN this model on a down-stream task to be able to use it for predictions and inference.\n"
     ]
    },
    {
     "name": "stdout",
     "output_type": "stream",
     "text": [
      "Playing clean audio 1\n"
     ]
    },
    {
     "data": {
      "text/html": [
       "\n",
       "                <audio  controls=\"controls\" >\n",
       "                    <source src=\"data:audio/wav;base64,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\" type=\"audio/wav\" />\n",
       "                    Your browser does not support the audio element.\n",
       "                </audio>\n",
       "              "
      ],
      "text/plain": [
       "<IPython.lib.display.Audio object>"
      ]
     },
     "metadata": {},
     "output_type": "display_data"
    },
    {
     "name": "stdout",
     "output_type": "stream",
     "text": [
      "Playing poisoned audio 1\n"
     ]
    },
    {
     "data": {
      "text/html": [
       "\n",
       "                <audio  controls=\"controls\" >\n",
       "                    <source src=\"data:audio/wav;base64,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\" type=\"audio/wav\" />\n",
       "                    Your browser does not support the audio element.\n",
       "                </audio>\n",
       "              "
      ],
      "text/plain": [
       "<IPython.lib.display.Audio object>"
      ]
     },
     "metadata": {},
     "output_type": "display_data"
    },
    {
     "name": "stdout",
     "output_type": "stream",
     "text": [
      "Playing clean audio 2\n"
     ]
    },
    {
     "data": {
      "text/html": [
       "\n",
       "                <audio  controls=\"controls\" >\n",
       "                    <source src=\"data:audio/wav;base64,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\" type=\"audio/wav\" />\n",
       "                    Your browser does not support the audio element.\n",
       "                </audio>\n",
       "              "
      ],
      "text/plain": [
       "<IPython.lib.display.Audio object>"
      ]
     },
     "metadata": {},
     "output_type": "display_data"
    },
    {
     "name": "stdout",
     "output_type": "stream",
     "text": [
      "Playing poisoned audio 2\n"
     ]
    },
    {
     "data": {
      "text/html": [
       "\n",
       "                <audio  controls=\"controls\" >\n",
       "                    <source src=\"data:audio/wav;base64,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\" type=\"audio/wav\" />\n",
       "                    Your browser does not support the audio element.\n",
       "                </audio>\n",
       "              "
      ],
      "text/plain": [
       "<IPython.lib.display.Audio object>"
      ]
     },
     "metadata": {},
     "output_type": "display_data"
    },
    {
     "name": "stderr",
     "output_type": "stream",
     "text": [
      "100%|██████████| 600/600 [01:37<00:00,  6.13it/s]\n"
     ]
    },
    {
     "name": "stdout",
     "output_type": "stream",
     "text": [
      "Epoch 0, Loss: 2.031050932010015\n"
     ]
    },
    {
     "name": "stderr",
     "output_type": "stream",
     "text": [
      "100%|██████████| 600/600 [01:42<00:00,  5.84it/s]\n"
     ]
    },
    {
     "name": "stdout",
     "output_type": "stream",
     "text": [
      "Epoch 1, Loss: 1.20659501110514\n"
     ]
    },
    {
     "name": "stderr",
     "output_type": "stream",
     "text": [
      "100%|██████████| 600/600 [01:35<00:00,  6.27it/s]\n"
     ]
    },
    {
     "name": "stdout",
     "output_type": "stream",
     "text": [
      "Epoch 2, Loss: 0.697848663230737\n",
      "Test Accuracy: 97.83333333333334%\n",
      "491\n",
      "540\n",
      "ASR: 90.92592592592592%\n",
      "Clean Accuracy Drop (CAD): 1.1666666666666572%\n",
      "Backdoor Attack Success Rate: 90.92592592592592%\n",
      "Running experiment with poisoning_rate=0.05 and freq=24000\n",
      "Poisoning rate: 0.05, Frequency: 24000\n"
     ]
    },
    {
     "name": "stderr",
     "output_type": "stream",
     "text": [
      "Some weights of Wav2Vec2ForSequenceClassification were not initialized from the model checkpoint at jonatasgrosman/wav2vec2-large-xlsr-53-english and are newly initialized: ['classifier.bias', 'classifier.weight', 'projector.bias', 'projector.weight']\n",
      "You should probably TRAIN this model on a down-stream task to be able to use it for predictions and inference.\n"
     ]
    },
    {
     "name": "stdout",
     "output_type": "stream",
     "text": [
      "Playing clean audio 1\n"
     ]
    },
    {
     "data": {
      "text/html": [
       "\n",
       "                <audio  controls=\"controls\" >\n",
       "                    <source src=\"data:audio/wav;base64,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\" type=\"audio/wav\" />\n",
       "                    Your browser does not support the audio element.\n",
       "                </audio>\n",
       "              "
      ],
      "text/plain": [
       "<IPython.lib.display.Audio object>"
      ]
     },
     "metadata": {},
     "output_type": "display_data"
    },
    {
     "name": "stdout",
     "output_type": "stream",
     "text": [
      "Playing poisoned audio 1\n"
     ]
    },
    {
     "data": {
      "text/html": [
       "\n",
       "                <audio  controls=\"controls\" >\n",
       "                    <source src=\"data:audio/wav;base64,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\" type=\"audio/wav\" />\n",
       "                    Your browser does not support the audio element.\n",
       "                </audio>\n",
       "              "
      ],
      "text/plain": [
       "<IPython.lib.display.Audio object>"
      ]
     },
     "metadata": {},
     "output_type": "display_data"
    },
    {
     "name": "stdout",
     "output_type": "stream",
     "text": [
      "Playing clean audio 2\n"
     ]
    },
    {
     "data": {
      "text/html": [
       "\n",
       "                <audio  controls=\"controls\" >\n",
       "                    <source src=\"data:audio/wav;base64,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\" type=\"audio/wav\" />\n",
       "                    Your browser does not support the audio element.\n",
       "                </audio>\n",
       "              "
      ],
      "text/plain": [
       "<IPython.lib.display.Audio object>"
      ]
     },
     "metadata": {},
     "output_type": "display_data"
    },
    {
     "name": "stdout",
     "output_type": "stream",
     "text": [
      "Playing poisoned audio 2\n"
     ]
    },
    {
     "data": {
      "text/html": [
       "\n",
       "                <audio  controls=\"controls\" >\n",
       "                    <source src=\"data:audio/wav;base64,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\" type=\"audio/wav\" />\n",
       "                    Your browser does not support the audio element.\n",
       "                </audio>\n",
       "              "
      ],
      "text/plain": [
       "<IPython.lib.display.Audio object>"
      ]
     },
     "metadata": {},
     "output_type": "display_data"
    },
    {
     "name": "stderr",
     "output_type": "stream",
     "text": [
      "100%|██████████| 600/600 [01:34<00:00,  6.37it/s]\n"
     ]
    },
    {
     "name": "stdout",
     "output_type": "stream",
     "text": [
      "Epoch 0, Loss: 2.104760573307673\n"
     ]
    },
    {
     "name": "stderr",
     "output_type": "stream",
     "text": [
      "100%|██████████| 600/600 [01:32<00:00,  6.49it/s]\n"
     ]
    },
    {
     "name": "stdout",
     "output_type": "stream",
     "text": [
      "Epoch 1, Loss: 1.4318557384610175\n"
     ]
    },
    {
     "name": "stderr",
     "output_type": "stream",
     "text": [
      "100%|██████████| 600/600 [01:32<00:00,  6.49it/s]\n"
     ]
    },
    {
     "name": "stdout",
     "output_type": "stream",
     "text": [
      "Epoch 2, Loss: 0.8374971887717645\n",
      "Test Accuracy: 98.5%\n",
      "510\n",
      "540\n",
      "ASR: 94.44444444444444%\n",
      "Clean Accuracy Drop (CAD): 0.5%\n",
      "Backdoor Attack Success Rate: 94.44444444444444%\n",
      "Running experiment with poisoning_rate=0.1 and freq=1000\n",
      "Poisoning rate: 0.1, Frequency: 1000\n"
     ]
    },
    {
     "name": "stderr",
     "output_type": "stream",
     "text": [
      "Some weights of Wav2Vec2ForSequenceClassification were not initialized from the model checkpoint at jonatasgrosman/wav2vec2-large-xlsr-53-english and are newly initialized: ['classifier.bias', 'classifier.weight', 'projector.bias', 'projector.weight']\n",
      "You should probably TRAIN this model on a down-stream task to be able to use it for predictions and inference.\n"
     ]
    },
    {
     "name": "stdout",
     "output_type": "stream",
     "text": [
      "Playing clean audio 1\n"
     ]
    },
    {
     "data": {
      "text/html": [
       "\n",
       "                <audio  controls=\"controls\" >\n",
       "                    <source src=\"data:audio/wav;base64,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\" type=\"audio/wav\" />\n",
       "                    Your browser does not support the audio element.\n",
       "                </audio>\n",
       "              "
      ],
      "text/plain": [
       "<IPython.lib.display.Audio object>"
      ]
     },
     "metadata": {},
     "output_type": "display_data"
    },
    {
     "name": "stdout",
     "output_type": "stream",
     "text": [
      "Playing poisoned audio 1\n"
     ]
    },
    {
     "data": {
      "text/html": [
       "\n",
       "                <audio  controls=\"controls\" >\n",
       "                    <source src=\"data:audio/wav;base64,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\" type=\"audio/wav\" />\n",
       "                    Your browser does not support the audio element.\n",
       "                </audio>\n",
       "              "
      ],
      "text/plain": [
       "<IPython.lib.display.Audio object>"
      ]
     },
     "metadata": {},
     "output_type": "display_data"
    },
    {
     "name": "stdout",
     "output_type": "stream",
     "text": [
      "Playing clean audio 2\n"
     ]
    },
    {
     "data": {
      "text/html": [
       "\n",
       "                <audio  controls=\"controls\" >\n",
       "                    <source src=\"data:audio/wav;base64,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\" type=\"audio/wav\" />\n",
       "                    Your browser does not support the audio element.\n",
       "                </audio>\n",
       "              "
      ],
      "text/plain": [
       "<IPython.lib.display.Audio object>"
      ]
     },
     "metadata": {},
     "output_type": "display_data"
    },
    {
     "name": "stdout",
     "output_type": "stream",
     "text": [
      "Playing poisoned audio 2\n"
     ]
    },
    {
     "data": {
      "text/html": [
       "\n",
       "                <audio  controls=\"controls\" >\n",
       "                    <source src=\"data:audio/wav;base64,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\" type=\"audio/wav\" />\n",
       "                    Your browser does not support the audio element.\n",
       "                </audio>\n",
       "              "
      ],
      "text/plain": [
       "<IPython.lib.display.Audio object>"
      ]
     },
     "metadata": {},
     "output_type": "display_data"
    },
    {
     "name": "stderr",
     "output_type": "stream",
     "text": [
      "100%|██████████| 600/600 [01:34<00:00,  6.36it/s]\n"
     ]
    },
    {
     "name": "stdout",
     "output_type": "stream",
     "text": [
      "Epoch 0, Loss: 2.0892988098661105\n"
     ]
    },
    {
     "name": "stderr",
     "output_type": "stream",
     "text": [
      "100%|██████████| 600/600 [01:31<00:00,  6.53it/s]\n"
     ]
    },
    {
     "name": "stdout",
     "output_type": "stream",
     "text": [
      "Epoch 1, Loss: 1.4716084039459625\n"
     ]
    },
    {
     "name": "stderr",
     "output_type": "stream",
     "text": [
      "100%|██████████| 600/600 [01:31<00:00,  6.53it/s]\n"
     ]
    },
    {
     "name": "stdout",
     "output_type": "stream",
     "text": [
      "Epoch 2, Loss: 1.0365959474692743\n",
      "Test Accuracy: 96.83333333333334%\n",
      "493\n",
      "540\n",
      "ASR: 91.2962962962963%\n",
      "Clean Accuracy Drop (CAD): 2.166666666666657%\n",
      "Backdoor Attack Success Rate: 91.2962962962963%\n",
      "Running experiment with poisoning_rate=0.1 and freq=10000\n",
      "Poisoning rate: 0.1, Frequency: 10000\n"
     ]
    },
    {
     "name": "stderr",
     "output_type": "stream",
     "text": [
      "Some weights of Wav2Vec2ForSequenceClassification were not initialized from the model checkpoint at jonatasgrosman/wav2vec2-large-xlsr-53-english and are newly initialized: ['classifier.bias', 'classifier.weight', 'projector.bias', 'projector.weight']\n",
      "You should probably TRAIN this model on a down-stream task to be able to use it for predictions and inference.\n"
     ]
    },
    {
     "name": "stdout",
     "output_type": "stream",
     "text": [
      "Playing clean audio 1\n"
     ]
    },
    {
     "data": {
      "text/html": [
       "\n",
       "                <audio  controls=\"controls\" >\n",
       "                    <source src=\"data:audio/wav;base64,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\" type=\"audio/wav\" />\n",
       "                    Your browser does not support the audio element.\n",
       "                </audio>\n",
       "              "
      ],
      "text/plain": [
       "<IPython.lib.display.Audio object>"
      ]
     },
     "metadata": {},
     "output_type": "display_data"
    },
    {
     "name": "stdout",
     "output_type": "stream",
     "text": [
      "Playing poisoned audio 1\n"
     ]
    },
    {
     "data": {
      "text/html": [
       "\n",
       "                <audio  controls=\"controls\" >\n",
       "                    <source src=\"data:audio/wav;base64,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\" type=\"audio/wav\" />\n",
       "                    Your browser does not support the audio element.\n",
       "                </audio>\n",
       "              "
      ],
      "text/plain": [
       "<IPython.lib.display.Audio object>"
      ]
     },
     "metadata": {},
     "output_type": "display_data"
    },
    {
     "name": "stdout",
     "output_type": "stream",
     "text": [
      "Playing clean audio 2\n"
     ]
    },
    {
     "data": {
      "text/html": [
       "\n",
       "                <audio  controls=\"controls\" >\n",
       "                    <source src=\"data:audio/wav;base64,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\" type=\"audio/wav\" />\n",
       "                    Your browser does not support the audio element.\n",
       "                </audio>\n",
       "              "
      ],
      "text/plain": [
       "<IPython.lib.display.Audio object>"
      ]
     },
     "metadata": {},
     "output_type": "display_data"
    },
    {
     "name": "stdout",
     "output_type": "stream",
     "text": [
      "Playing poisoned audio 2\n"
     ]
    },
    {
     "data": {
      "text/html": [
       "\n",
       "                <audio  controls=\"controls\" >\n",
       "                    <source src=\"data:audio/wav;base64,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\" type=\"audio/wav\" />\n",
       "                    Your browser does not support the audio element.\n",
       "                </audio>\n",
       "              "
      ],
      "text/plain": [
       "<IPython.lib.display.Audio object>"
      ]
     },
     "metadata": {},
     "output_type": "display_data"
    },
    {
     "name": "stderr",
     "output_type": "stream",
     "text": [
      "100%|██████████| 600/600 [01:32<00:00,  6.51it/s]\n"
     ]
    },
    {
     "name": "stdout",
     "output_type": "stream",
     "text": [
      "Epoch 0, Loss: 1.9686160799860954\n"
     ]
    },
    {
     "name": "stderr",
     "output_type": "stream",
     "text": [
      "100%|██████████| 600/600 [01:33<00:00,  6.44it/s]\n"
     ]
    },
    {
     "name": "stdout",
     "output_type": "stream",
     "text": [
      "Epoch 1, Loss: 1.4240290830781062\n"
     ]
    },
    {
     "name": "stderr",
     "output_type": "stream",
     "text": [
      "100%|██████████| 600/600 [01:34<00:00,  6.35it/s]\n"
     ]
    },
    {
     "name": "stdout",
     "output_type": "stream",
     "text": [
      "Epoch 2, Loss: 0.9847624384053052\n",
      "Test Accuracy: 93.33333333333333%\n",
      "537\n",
      "540\n",
      "ASR: 99.44444444444444%\n",
      "Clean Accuracy Drop (CAD): 5.666666666666671%\n",
      "Backdoor Attack Success Rate: 99.44444444444444%\n",
      "Running experiment with poisoning_rate=0.1 and freq=24000\n",
      "Poisoning rate: 0.1, Frequency: 24000\n"
     ]
    },
    {
     "name": "stderr",
     "output_type": "stream",
     "text": [
      "Some weights of Wav2Vec2ForSequenceClassification were not initialized from the model checkpoint at jonatasgrosman/wav2vec2-large-xlsr-53-english and are newly initialized: ['classifier.bias', 'classifier.weight', 'projector.bias', 'projector.weight']\n",
      "You should probably TRAIN this model on a down-stream task to be able to use it for predictions and inference.\n"
     ]
    },
    {
     "name": "stdout",
     "output_type": "stream",
     "text": [
      "Playing clean audio 1\n"
     ]
    },
    {
     "data": {
      "text/html": [
       "\n",
       "                <audio  controls=\"controls\" >\n",
       "                    <source src=\"data:audio/wav;base64,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\" type=\"audio/wav\" />\n",
       "                    Your browser does not support the audio element.\n",
       "                </audio>\n",
       "              "
      ],
      "text/plain": [
       "<IPython.lib.display.Audio object>"
      ]
     },
     "metadata": {},
     "output_type": "display_data"
    },
    {
     "name": "stdout",
     "output_type": "stream",
     "text": [
      "Playing poisoned audio 1\n"
     ]
    },
    {
     "data": {
      "text/html": [
       "\n",
       "                <audio  controls=\"controls\" >\n",
       "                    <source src=\"data:audio/wav;base64,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\" type=\"audio/wav\" />\n",
       "                    Your browser does not support the audio element.\n",
       "                </audio>\n",
       "              "
      ],
      "text/plain": [
       "<IPython.lib.display.Audio object>"
      ]
     },
     "metadata": {},
     "output_type": "display_data"
    },
    {
     "name": "stdout",
     "output_type": "stream",
     "text": [
      "Playing clean audio 2\n"
     ]
    },
    {
     "data": {
      "text/html": [
       "\n",
       "                <audio  controls=\"controls\" >\n",
       "                    <source src=\"data:audio/wav;base64,UklGRswUAABXQVZFZm10IBAAAAABAAEAQB8AAIA+AAACABAAZGF0YagUAACh/VAjvDulUDZVxE+mO3ghR/0g3XTB+a+BqAyzAMTf4QoEsyITP2dSNlW2ToE6rBtv+53Zhb/drUOqYbFOyNvkgAb4J9VA7VLLVoRMmzeQGYT2gddqveas/6lHtOPJouhdCmAp9kRnUr1VSUvrM8kVBfUc0226dawsqq61wc3H6fcNVC3JRLhTTVXyR0gxlxOy7iXS77irq+6rBbkSz/vw6xFRMOpIiFYoVGNI6S52DyvuuM7ptsqqsK0cuTPTH/KOFLAyy0ncVGdS9kQUKs4KX+iJybKyrqiPqea52dK084UVJjX4SXFWZ1J3Q24qAwrP6NLLNbbPrGGx18B12yP8sR0ROq1PiFYaU3JBNibrBKDjo8YMs8GrzK+vwmTd8/5lHlg3Dkq9VYdJ/jZoG3PWurHQlwGAao53pLmspdgMCVcQlgZLFBUVaBuMD0MN1RHRFAoETQRMDGYJ7QncCxIYyxrCG9Ac4ifEIDMcJRtJHIUVNBR4FEkP3xWIBd3p5c6C8dfNIK5ewYO6KMK2vKHBUM3k8MjhO/S7FBcagSCvJcgq3TL6H8cQFxoHB4b7CfKv8cPsPOx16N728AYhBCYT3CUNMM0skTMMOL4zFCr2ImEh9hUtDUIIuwfHA338XePJv5TaHNO9oYy5ocHtwKrA0svs1bTz9Pa+94Qd3CXZGzEkHi5cH4Yi0wziBfsK0/Lh5jDwwO8Z4xfzYfrRB/4UeRlULfA1wTCkNms6GzFzLC4nZR6jHJERLQ2yFUfwMrncz6ni2Zbxm3C3QbI5s6mzx8cO56j33emyFRg0ASfsKww4GEE8KHEa4xLtCXL4ZN0R5OTjBNu/1ZHqR/3q/8wSKSXyOo87DDgjRUJEaTUUKpIrVCCXExYN1gmhCiD/4tGPqWfaQsxKglSor8JatxivGckr4VXxAAA5/DMpGjk/JZsqlT3IN3sRhBD+B1H0lOcn15/ew98S3CDdePpjDAwJIyMnOhhBIUCRQIVEqECzL9IhsyKCGP4H3whYCAoEifiHxB+pad87xTyB8qjzzwK8sK0Z1m/ubfawA10KvyvpO4osUiidPCI4hQgdB58FJuzB2nPWSNtZ2YjeGeMj/CYTchIpJSk/VUewPwRGfUWFN6UuIR5LFLAQPAaiAuAAUQG5AljhEbXXwNvXFLKTkRO6HNMawcDAbuE5/O4BTwnyGDIxDDiBLQMsxjKbKvwCx/bS+tvkINCI0Rvbs9kG4PvwWQDOF1kiIitfPqtK7UU7PQpANzPJIn0WmAvaBgT9DPwNAZn+k/wODufgV6Vr5KDjQaVgpCPN3dzHui7RN+qa9mMMmwhsGAsrNTuSK64gdza4JPQDaPTY9GvkwtIq1J7RW94b6FDvBQJMGTMpyCotPPtGU0LmPuI0jSmCGHsRfgFo9Cb5QPZl91D83P4kAbkPuwfZxf6+U/mD3Lycxq0d4GLYgL1E0bnoS/qvC2MMcA3UJl8+9SryGLgklCNtAxjrq+cd4K7Xp9D/y13WReuS9zH99BB/KDIxPzJgNts6wzXNLFQg4Q35BSkDcfOW7H70yfv7/er/QAPfCHQXPRN34PC919oj73TByZ1Dt2XVPdfBzX/Sx+kADeMf6xEqEJIrEz+dL4ca/Q+HDXr/CuoD1izMYNPs1U3Qo9Mh6owCyg05FpwiLC/IN+I0kit6JmwlJRuOB+v3aPT5+BP20/Lm9Zn+0QfoB6QHmAulFIsXL/j11NDG8dc62sS9Yrb2v/3TrN9Y4XnlRPMvEnUkbR0AGv8hsy+gLEAdWAjY9APw9OlR2njLGclu1KzfAusF9RMDshXUJgguPi01Lngu3ipLIZMWVQt6BH38zvCI69HtA/AJ8q35pAfMEoIY8hiVG8YYVRh4FAT9m+EB0TjIFcx5w5q6XLy9w7zYj+UH7XL4TwmgH+wr1iveKk0mWyc9IN0Qrfkw4xHkGN711HbTetBI22Ht6v+YC5oQXB+3LOAvOjCeJ+ccUBaaEE8JOfy38HTwr/Hq8hfzMvVv+1EB8guJEsQT6BR9FnQXUBZXEOgH8/6p79HggdeMxrK/3se7y73QPdeK4y3zNv9aDS0ahB2LJFcq6iYeIQkZPgty+F3wiOtp33jYQ9kS3Lfjr/E//o4HvhEnIAEnWyfDKIIlyxpqExYNCgRq+b3yofAR8dD1avkv+Af6zAUyD+sRHhRHFx8ZRBrcGKUUNgz5BYMDWfta87Tm99nU0CHIoMk80jDWz9ud5j7x8/4JDLIVxx14IZQjbCVzHxIY0A8hBAf6VfFI6OnlOeIl37fjJuwc9Tb/FQiJEiUbkh7VHjge+BroFCQOWwWdAN/7OPdO9yH3xPksAC4FQghYCIUI9w2AE3IS3RDvDnkMwAn+B2kG1AQTA+YCmgPHA5oDp/+Q8hjeFczEyo3Ts9mn3Svh5OOo6p/4EQuhFwYctBrQHAseTh62H38b4Q2A+cDvUO807RPpe+oP7JbsofCT/GYJhBBTEyMW1xYeFNoTFRVtEK0GuP2l+mH6tvjE+Yb7ffxH/fcADAnpDAANTAyYCwkMVQtMDGMMmwh6BBsCogL0A5oD/AL0A4gF9QgODn4O3QPW70PZqs1x0fHXW97f4f7gyOG+6vn4oQpQFqYZ8hheF/4UEhiVG1oaQBAo/gft2+R+50LuLfOd80TzyvOz+wwJGhexHe8bIxbrEZoQ9BDvDj4LAQX2+xz1aPTj+BYAVgPUBN0DDwbkCjsOmhDHEA4OyAi+BN0DcgUhBDoBTf+C/joBHQePDIkSvhEVCND1WOGp1YHXct6g413jiuN55YPptPPmAp8SABrXFmoTPRP+FFAWIxZcEtEHavnA763sD+xO6m3pn+vO8AX1Mf3oBwoRpRStExgS8RMQE7AQjwykB0gCqvyO+tf8Y/8g/zb/hgDdA3cHYwx2D+sRThGdDVULoQrOCk8JtQVRAcb+//p4+vv9WQCrAfwC1ASOB7QNeBQvEqsBQ+aI0Q3NHNMg3T7kLeby5JPiZ+dX9nkMaBtqIHYcWBVyEngUKBiQGU4RZwE570/iW9584nXoK+6Y8eHzrfnHA0USkh59I44hrBtLFOYPwg7KDeQK/AKl+hP29Pbf+zoBLgVTBuIFiAUdB48MGBLMEgUPSgd+AWz+gv7q/wAANv/o+rb4B/pwABUIeQx5DK8Lwwac+7vtbuGr2k3djeBG48rmfueI69PyGv2bCOMSGhfOF28VzBJFEjcRnQ0VCJD/9Pav8anvFe5T7KTt+/Bc+FkAKwj9D30W1xZ4FNURbRA7DooKTQRZAMD82vke+jH9uQKfBWkGNAcaCq8LJA4tDWsLuweDA+r/Tf9RAdT/KP54+uP4gPnJ+03/sAOfBa0G8AabCMoNahMSGK8Y9w0r7hnJtLffv5XSM+CB5Mrmx+m77Yb7nBWSKy40MymZGCoQqw5XELYSUQ4AAFvrSNuD3M/ok+/78NPymvYJ/9YJ7RY/JWUrQiK2Em4InwUBBVEBWftl9zbynO698ij+Awo7DpgLFQg5Cc4Khw0cDwUPqQmn/9X3sfbx+TH9Mf1v+1794ADHA7UF/gfACZMJqQkMCdwLUQ6pCSz7x+mZ3I3TD9LE19/hqOpv7hfzGv02DDkW3h3VHsIbORaVDuQKMArwBmcBPfmm8kfwTPLK8z7xnfP/+qICQgiPDDcRPRPmD0cKSgefBSkDTf+G+0L7Yfpy+PH5Y/9NBHIFkQTUBAwJHww+C10KqQkPBuAAdP0AAHoEDwawA8EBLAAWAJn+4ACtBnQK3wi1Bc8CGAUaCioQHxlxGlMGG9t2udazucYg3fTpa/Ey9X70e/fICIYi5zbzMm0doQpWA20DYQduCJEEBfUr4SzZTOUV+3QKZgn2+9PyO/Q6AQoRjRxoG1oNWfv78Ob1ZwE0BwoEu/o+8e3vxPkDCgQXGheYC73/yfspA50NRRLmD0UFcvjK80v6FQioEe8OnwUM/D35xv4DCpER0A8BBXL4/fXG/ocNshUTEIb7EeSj03rQhtla5rLuk+9T7MnunPtaDccd6CGSHi8SNAdfAkUF1glhB1X+r/GR6rXrr/FA9mH61P9RAVEBQAN8CSERGBIJDNQEp//J+//6ePpm/Br9//oe+rj9LgUMCT4LmAuPDGMMGgpmCbIIrQZ1AqH9QvuT/Db/1P/BAZoDkQT8AqICpAfpDC0NbgguBacEuwcWDQwWnhqpCU3dSbmtsEK/o9O05oT2p/9m/Jf55Ap6Jo02gzJXHYUI+fjA72j0swD8At72vgS6HNM7bFTSXfhWwj0vEnPjsLrLolui861HwavamvZHF5g6glQuYzpf10U6Iwn/w9/Nyd26KLU3u07IW96zAMYlxUfNW1RcS1ChORMdfgEf5f/LaLj8rGmwlcXN4ysICysjRc5TtVaaTF05aBtf9ZfKy6Lqh46C+5LAs6fduweSK4pGrFfgXldZ10XcJYL+J9emtgOn1qY+tfHKZ+faBpkl+UEXVspeIFVDPPIYWvPi0Xa54q+WsDe7INAm7DsOlDDmSxlboFsyS7Mvow/W75vU0b5hsVOwz7m90Dv0TBmHPPNUnV4GWP5DtSeyCJrpjstMtl+sW69vv2zcJAHzJdFDDlexWdhKryWj9fvOZrOeok2h6anPuRXMLebWCdIuSUvXX9Rib1GDMt0QWvND2S3E07ZYsqG0nsRU5JgLVxAYEsIO2gYL97Tm8uQ36tPyev/aBrIIAQU3BGEH7Ql8CUcKLgUE/fT2C/fJ+20D6AfTDOkM8AZ3B7IIVQtaDWgO3AunBJP8ifgv+CH3Qvu9/1EBuQJkBAcH9QgiCR0H5gIa/T35e/fK80fwQOkw46niWuYr7q35uQL1CPsKZgmOB6QH8AaIBTICffyo9370BfXo+gUC0Qc+C2sLfAnICEIIXQqhCk8JgAZnAaH9Xv0g/zIC1ATiBbADZwEJ/3r/BQIhBHIFBQIx/Sb5Rfjx+Yv9ygAyAkADVgMTA4gFrQZPCf4HNwQWADH9S/oa/WcBsANkBJoDSAI//pP8S/pO9zv0GvA07VvrWO5E8yb5gv78AikDXwLBAe4BGwKiAvQDGwIsAOr/ygDKAGQEbQNC+yz7XPix9mP/1AQwCjsOYwzoB3oE8/56/zb/Nv+zAIL+ev+rAVYDlgbkCu0JqQkPBvcANv8o/iwAwQFWA00E9APmAgoEvgRtA9gBmf6l+kv6LPuQ/0ADpwRFBZoDDQEFAoMD3wivC74ElfQn5M3WiNG+3fbukP/CDk4RrwsuBQn/xv78AvkFiAX3AKX6q/QO9EX47gHWCf0P/Q/yC7sHbQPmAiwAffz2+0n1efLY9BP2Vf7iBdEHqQnfCCQBmf5C+/H5k/y4/VkAEwNAA/QDtQWIBV0KAwo+C4oK8AaRBCEEsAN6BEUFZARWAzb/dP3f+4b7uP1m/M79ev+9/50AuQJfAgEFDwZ6BHUCwPzr9+b1DvQ79En1MvXQ9bn1x/aS9xD5LPsx/bj9bP5V/mz+i/1V/k3/ev/uAasBegQBBQ8GlgbwBlgIhQhYCIUINAdKBy4FGAWaA20DdQIkAeAANv+dANT/IP9N/6/+7fwE/Tn8b/t0/cb+4AD0A90DbQPmAp0AGwJIAjICCgQTA4MD4AAS/j/+r/69/20DsAMhBFYDev/A/H38S/os+xX7xPmX+bb4hPaa9pr2ZfeA+Xj6Xv0//hL+WQBs/pn+IP/z/pQBfgGUAccDxwOnBDQHaQZTBuIFkQQmBqcEAQX5BXIFkQRbBeYCjAKMArMAnQAsAHr/gv77/Rr9BP10/bj9vf+GAIYAcAC9/4v9dP3l/cb+swDBAfwC5gIFApQBFgAJ/wAA1P+UAfwC2AEkAWz+7fz7/VX+Ev42//P+dP3X/Az80vrt/Pb7UPzG/tL6yfs0+hj4l/n/+ov99wA6AUADjAKzAA0BFgD3AIMDEwMYBZEEgwP8AgUCOgGrAfcAJAFAA0gCCgTdA0gCVgNRAVkAAACC/ij+zv3O/U3/UQFnAeYCDQGGAKf/1P9V/k3/mf5wAHr/p/+9/73/AABnAToBDQH3ALj9dP0E/Qn/6v9+Ac8CEwOiAnAAr/7A/Nf8gv4WAMEBjAKrAQ0BY/8//qH9k/yL/df8Mf1V/s79uP3z/mP/kP9RAcEB2AHmAg0B4ABwAJD/2AEkAcEBXwKUASQB4AAWAEMAJAEkAYwCzwIbAu4B1P/G/nT9uP1V/pD/swAyAl8CuQIyAuAAswAsAJ0A1P9N/6/+r/4o/ij+gv7l/aH9gv7l/b3/JAH8AhgF+QVTBgoEGwLq/6/+Ofz2+7P75f1N/0MAZwE6AcEBUQENAVEBJAHU/3r/BP27+kv6Jvks+8n7gv7z/nr/mf7c/q/+Nv/gAOAAXwKaA4MDuQLYAQAAp/+n/2P/Y//U/3AAnQDq/zb/r/6v/vv9IP+9/7MAUQHuAWcB6v/O/QT9Xv24/QAAlAFWA8cDzwLuARsC9wBfAjoBlAFnAX4BDQFDAGP/gv77/aH9r/5j/5D/AAAAACwAcAC9/0MAvf+n/ywA8/4S/j/+mf7z/p0A9wB+AX4BhgAWAGz+7fzl/Yv9Y/+GAPcAygBRAQAAKP4x/X385f1j/1kAwQEyApQBhgC9/4L+IP82/wAAUQGiAkADgwNIAn4BhgAWAMb+i/2v/tz+8/5DAAAAY/+Z/hr9i/3t/KH9ev8AAKsB7gGDA4wCdQLYAZQB9wCGALMA4AD3ACQBFgBj/9T/1P8g/9T/cAAkASQBDQF6/6/+R/3t/Dn8ffzX/Nz+ev+n/xYATf+n/9T/FgDz/k3/xv4WACQBlAGUAc8CSAJfAlEBvf9j/4L+Y/+n/yQB4ACrAX4BFgC9/wn/+/0S/lX+Y/9DADoB2AGUAZQBnQDq/3r/bP4o/qf/hgDBAasB/AJIApQBQwDc/hL+bP56/2P/ev+zAGcBZwGUAeAAwQFDANT/LAC9/4YALAANAXAAygCQ/03/Tf+v/mz+8/6n/8oAOgENAUMAFgB6/6/+Nv8J/xYALAD3AEMAIP9j/zb/vf/U/4YAZwE6AQ==\" type=\"audio/wav\" />\n",
       "                    Your browser does not support the audio element.\n",
       "                </audio>\n",
       "              "
      ],
      "text/plain": [
       "<IPython.lib.display.Audio object>"
      ]
     },
     "metadata": {},
     "output_type": "display_data"
    },
    {
     "name": "stdout",
     "output_type": "stream",
     "text": [
      "Playing poisoned audio 2\n"
     ]
    },
    {
     "data": {
      "text/html": [
       "\n",
       "                <audio  controls=\"controls\" >\n",
       "                    <source src=\"data:audio/wav;base64,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\" type=\"audio/wav\" />\n",
       "                    Your browser does not support the audio element.\n",
       "                </audio>\n",
       "              "
      ],
      "text/plain": [
       "<IPython.lib.display.Audio object>"
      ]
     },
     "metadata": {},
     "output_type": "display_data"
    },
    {
     "name": "stderr",
     "output_type": "stream",
     "text": [
      "100%|██████████| 600/600 [01:31<00:00,  6.55it/s]\n"
     ]
    },
    {
     "name": "stdout",
     "output_type": "stream",
     "text": [
      "Epoch 0, Loss: 1.9351666676004728\n"
     ]
    },
    {
     "name": "stderr",
     "output_type": "stream",
     "text": [
      "100%|██████████| 600/600 [01:31<00:00,  6.56it/s]\n"
     ]
    },
    {
     "name": "stdout",
     "output_type": "stream",
     "text": [
      "Epoch 1, Loss: 1.4779206451773643\n"
     ]
    },
    {
     "name": "stderr",
     "output_type": "stream",
     "text": [
      "100%|██████████| 600/600 [01:31<00:00,  6.56it/s]\n"
     ]
    },
    {
     "name": "stdout",
     "output_type": "stream",
     "text": [
      "Epoch 2, Loss: 0.9963113235371808\n",
      "Test Accuracy: 89.33333333333333%\n",
      "533\n",
      "540\n",
      "ASR: 98.70370370370371%\n",
      "Clean Accuracy Drop (CAD): 9.666666666666671%\n",
      "Backdoor Attack Success Rate: 98.70370370370371%\n"
     ]
    }
   ],
   "source": [
    "poisoning_rates = [0.01, 0.05, 0.1]  \n",
    "frequencies = [1000, 10000, 24000]  \n",
    "\n",
    "results = []\n",
    "\n",
    "for poisoning_rate, freq in product(poisoning_rates, frequencies):\n",
    "    print(f\"Running experiment with poisoning_rate={poisoning_rate} and freq={freq}\")\n",
    "    backdoor_accuracy, backdoor_attack_success_rate, accuracy_drop = backdoor_attack_and_eval_wav2vec2(poisoning_rate, freq)\n",
    "        \n",
    "    clean_accuracy_after = backdoor_accuracy\n",
    "\n",
    "    results.append({\n",
    "        'poisoning_rate': poisoning_rate,\n",
    "        'frequency': freq,\n",
    "        'backdoor_success_rate': backdoor_attack_success_rate,\n",
    "        'clean_accuracy_after': clean_accuracy_after,\n",
    "        'clean_accuracy_drop': clean_accuracy - clean_accuracy_after\n",
    "    })\n",
    "\n",
    "# print(results_df)"
   ]
  },
  {
   "cell_type": "code",
   "execution_count": 14,
   "id": "87673145",
   "metadata": {
    "execution": {
     "iopub.execute_input": "2024-11-25T20:27:40.404112Z",
     "iopub.status.busy": "2024-11-25T20:27:40.403770Z",
     "iopub.status.idle": "2024-11-25T20:27:40.409746Z",
     "shell.execute_reply": "2024-11-25T20:27:40.408698Z"
    },
    "papermill": {
     "duration": 0.828062,
     "end_time": "2024-11-25T20:27:40.411410",
     "exception": false,
     "start_time": "2024-11-25T20:27:39.583348",
     "status": "completed"
    },
    "tags": []
   },
   "outputs": [],
   "source": [
    "results_df = pd.DataFrame(results)"
   ]
  },
  {
   "cell_type": "code",
   "execution_count": 15,
   "id": "e87c6244",
   "metadata": {
    "execution": {
     "iopub.execute_input": "2024-11-25T20:27:42.081328Z",
     "iopub.status.busy": "2024-11-25T20:27:42.080954Z",
     "iopub.status.idle": "2024-11-25T20:27:42.095158Z",
     "shell.execute_reply": "2024-11-25T20:27:42.094408Z"
    },
    "papermill": {
     "duration": 0.839541,
     "end_time": "2024-11-25T20:27:42.096897",
     "exception": false,
     "start_time": "2024-11-25T20:27:41.257356",
     "status": "completed"
    },
    "tags": []
   },
   "outputs": [
    {
     "data": {
      "text/html": [
       "<div>\n",
       "<style scoped>\n",
       "    .dataframe tbody tr th:only-of-type {\n",
       "        vertical-align: middle;\n",
       "    }\n",
       "\n",
       "    .dataframe tbody tr th {\n",
       "        vertical-align: top;\n",
       "    }\n",
       "\n",
       "    .dataframe thead th {\n",
       "        text-align: right;\n",
       "    }\n",
       "</style>\n",
       "<table border=\"1\" class=\"dataframe\">\n",
       "  <thead>\n",
       "    <tr style=\"text-align: right;\">\n",
       "      <th></th>\n",
       "      <th>poisoning_rate</th>\n",
       "      <th>frequency</th>\n",
       "      <th>backdoor_success_rate</th>\n",
       "      <th>clean_accuracy_after</th>\n",
       "      <th>clean_accuracy_drop</th>\n",
       "    </tr>\n",
       "  </thead>\n",
       "  <tbody>\n",
       "    <tr>\n",
       "      <th>0</th>\n",
       "      <td>0.01</td>\n",
       "      <td>1000</td>\n",
       "      <td>0.185185</td>\n",
       "      <td>98.166667</td>\n",
       "      <td>0.833333</td>\n",
       "    </tr>\n",
       "    <tr>\n",
       "      <th>1</th>\n",
       "      <td>0.01</td>\n",
       "      <td>10000</td>\n",
       "      <td>0.000000</td>\n",
       "      <td>97.333333</td>\n",
       "      <td>1.666667</td>\n",
       "    </tr>\n",
       "    <tr>\n",
       "      <th>2</th>\n",
       "      <td>0.01</td>\n",
       "      <td>24000</td>\n",
       "      <td>0.000000</td>\n",
       "      <td>98.500000</td>\n",
       "      <td>0.500000</td>\n",
       "    </tr>\n",
       "    <tr>\n",
       "      <th>3</th>\n",
       "      <td>0.05</td>\n",
       "      <td>1000</td>\n",
       "      <td>23.888889</td>\n",
       "      <td>98.333333</td>\n",
       "      <td>0.666667</td>\n",
       "    </tr>\n",
       "    <tr>\n",
       "      <th>4</th>\n",
       "      <td>0.05</td>\n",
       "      <td>10000</td>\n",
       "      <td>90.925926</td>\n",
       "      <td>97.833333</td>\n",
       "      <td>1.166667</td>\n",
       "    </tr>\n",
       "    <tr>\n",
       "      <th>5</th>\n",
       "      <td>0.05</td>\n",
       "      <td>24000</td>\n",
       "      <td>94.444444</td>\n",
       "      <td>98.500000</td>\n",
       "      <td>0.500000</td>\n",
       "    </tr>\n",
       "    <tr>\n",
       "      <th>6</th>\n",
       "      <td>0.10</td>\n",
       "      <td>1000</td>\n",
       "      <td>91.296296</td>\n",
       "      <td>96.833333</td>\n",
       "      <td>2.166667</td>\n",
       "    </tr>\n",
       "    <tr>\n",
       "      <th>7</th>\n",
       "      <td>0.10</td>\n",
       "      <td>10000</td>\n",
       "      <td>99.444444</td>\n",
       "      <td>93.333333</td>\n",
       "      <td>5.666667</td>\n",
       "    </tr>\n",
       "    <tr>\n",
       "      <th>8</th>\n",
       "      <td>0.10</td>\n",
       "      <td>24000</td>\n",
       "      <td>98.703704</td>\n",
       "      <td>89.333333</td>\n",
       "      <td>9.666667</td>\n",
       "    </tr>\n",
       "  </tbody>\n",
       "</table>\n",
       "</div>"
      ],
      "text/plain": [
       "   poisoning_rate  frequency  backdoor_success_rate  clean_accuracy_after  \\\n",
       "0            0.01       1000               0.185185             98.166667   \n",
       "1            0.01      10000               0.000000             97.333333   \n",
       "2            0.01      24000               0.000000             98.500000   \n",
       "3            0.05       1000              23.888889             98.333333   \n",
       "4            0.05      10000              90.925926             97.833333   \n",
       "5            0.05      24000              94.444444             98.500000   \n",
       "6            0.10       1000              91.296296             96.833333   \n",
       "7            0.10      10000              99.444444             93.333333   \n",
       "8            0.10      24000              98.703704             89.333333   \n",
       "\n",
       "   clean_accuracy_drop  \n",
       "0             0.833333  \n",
       "1             1.666667  \n",
       "2             0.500000  \n",
       "3             0.666667  \n",
       "4             1.166667  \n",
       "5             0.500000  \n",
       "6             2.166667  \n",
       "7             5.666667  \n",
       "8             9.666667  "
      ]
     },
     "execution_count": 15,
     "metadata": {},
     "output_type": "execute_result"
    }
   ],
   "source": [
    "results_df"
   ]
  },
  {
   "cell_type": "code",
   "execution_count": 16,
   "id": "8643c6a3",
   "metadata": {
    "execution": {
     "iopub.execute_input": "2024-11-25T20:27:43.678592Z",
     "iopub.status.busy": "2024-11-25T20:27:43.678188Z",
     "iopub.status.idle": "2024-11-25T20:27:43.686548Z",
     "shell.execute_reply": "2024-11-25T20:27:43.685895Z"
    },
    "papermill": {
     "duration": 0.822544,
     "end_time": "2024-11-25T20:27:43.688098",
     "exception": false,
     "start_time": "2024-11-25T20:27:42.865554",
     "status": "completed"
    },
    "tags": []
   },
   "outputs": [],
   "source": [
    "results_df.to_csv('Wav2Vec2-SD-BKDR-Distributed.csv', sep='\\t', index=False)"
   ]
  },
  {
   "cell_type": "code",
   "execution_count": null,
   "id": "f6caf943",
   "metadata": {
    "papermill": {
     "duration": 0.77409,
     "end_time": "2024-11-25T20:27:45.292201",
     "exception": false,
     "start_time": "2024-11-25T20:27:44.518111",
     "status": "completed"
    },
    "tags": []
   },
   "outputs": [],
   "source": []
  }
 ],
 "metadata": {
  "kaggle": {
   "accelerator": "gpu",
   "dataSources": [
    {
     "datasetId": 5789127,
     "sourceId": 9510683,
     "sourceType": "datasetVersion"
    }
   ],
   "isGpuEnabled": true,
   "isInternetEnabled": true,
   "language": "python",
   "sourceType": "notebook"
  },
  "kernelspec": {
   "display_name": "Python 3",
   "language": "python",
   "name": "python3"
  },
  "language_info": {
   "codemirror_mode": {
    "name": "ipython",
    "version": 3
   },
   "file_extension": ".py",
   "mimetype": "text/x-python",
   "name": "python",
   "nbconvert_exporter": "python",
   "pygments_lexer": "ipython3",
   "version": "3.10.14"
  },
  "papermill": {
   "default_parameters": {},
   "duration": 3026.766753,
   "end_time": "2024-11-25T20:27:49.847765",
   "environment_variables": {},
   "exception": null,
   "input_path": "__notebook__.ipynb",
   "output_path": "__notebook__.ipynb",
   "parameters": {},
   "start_time": "2024-11-25T19:37:23.081012",
   "version": "2.6.0"
  },
  "widgets": {
   "application/vnd.jupyter.widget-state+json": {
    "state": {
     "0183bc8082554ec59f6c5e01c1519e0f": {
      "model_module": "@jupyter-widgets/controls",
      "model_module_version": "1.5.0",
      "model_name": "HBoxModel",
      "state": {
       "_dom_classes": [],
       "_model_module": "@jupyter-widgets/controls",
       "_model_module_version": "1.5.0",
       "_model_name": "HBoxModel",
       "_view_count": null,
       "_view_module": "@jupyter-widgets/controls",
       "_view_module_version": "1.5.0",
       "_view_name": "HBoxView",
       "box_style": "",
       "children": [
        "IPY_MODEL_bc96099088924de18e73a5720f1cae7e",
        "IPY_MODEL_a73fa4cf5aa342ad94984f71bb3f6ea8",
        "IPY_MODEL_4e502d16fd3149b1b9c4e2cdfb0041b5"
       ],
       "layout": "IPY_MODEL_babe6cb83bf3444bab5300358a78faba"
      }
     },
     "04c6750c778746edba85f9de837bf3f8": {
      "model_module": "@jupyter-widgets/controls",
      "model_module_version": "1.5.0",
      "model_name": "HTMLModel",
      "state": {
       "_dom_classes": [],
       "_model_module": "@jupyter-widgets/controls",
       "_model_module_version": "1.5.0",
       "_model_name": "HTMLModel",
       "_view_count": null,
       "_view_module": "@jupyter-widgets/controls",
       "_view_module_version": "1.5.0",
       "_view_name": "HTMLView",
       "description": "",
       "description_tooltip": null,
       "layout": "IPY_MODEL_7ba0d3bb79b44598b246e31093b0c575",
       "placeholder": "​",
       "style": "IPY_MODEL_0cf71029c2c644728e288359b35c2a6d",
       "value": "special_tokens_map.json: 100%"
      }
     },
     "0642460a40d44e0a931d0148f9fc4ba6": {
      "model_module": "@jupyter-widgets/controls",
      "model_module_version": "1.5.0",
      "model_name": "ProgressStyleModel",
      "state": {
       "_model_module": "@jupyter-widgets/controls",
       "_model_module_version": "1.5.0",
       "_model_name": "ProgressStyleModel",
       "_view_count": null,
       "_view_module": "@jupyter-widgets/base",
       "_view_module_version": "1.2.0",
       "_view_name": "StyleView",
       "bar_color": null,
       "description_width": ""
      }
     },
     "07f3dee439154858ad0276a8a56e9db1": {
      "model_module": "@jupyter-widgets/base",
      "model_module_version": "1.2.0",
      "model_name": "LayoutModel",
      "state": {
       "_model_module": "@jupyter-widgets/base",
       "_model_module_version": "1.2.0",
       "_model_name": "LayoutModel",
       "_view_count": null,
       "_view_module": "@jupyter-widgets/base",
       "_view_module_version": "1.2.0",
       "_view_name": "LayoutView",
       "align_content": null,
       "align_items": null,
       "align_self": null,
       "border": null,
       "bottom": null,
       "display": null,
       "flex": null,
       "flex_flow": null,
       "grid_area": null,
       "grid_auto_columns": null,
       "grid_auto_flow": null,
       "grid_auto_rows": null,
       "grid_column": null,
       "grid_gap": null,
       "grid_row": null,
       "grid_template_areas": null,
       "grid_template_columns": null,
       "grid_template_rows": null,
       "height": null,
       "justify_content": null,
       "justify_items": null,
       "left": null,
       "margin": null,
       "max_height": null,
       "max_width": null,
       "min_height": null,
       "min_width": null,
       "object_fit": null,
       "object_position": null,
       "order": null,
       "overflow": null,
       "overflow_x": null,
       "overflow_y": null,
       "padding": null,
       "right": null,
       "top": null,
       "visibility": null,
       "width": null
      }
     },
     "082ca0de8c2b479285b43e93b926b62d": {
      "model_module": "@jupyter-widgets/base",
      "model_module_version": "1.2.0",
      "model_name": "LayoutModel",
      "state": {
       "_model_module": "@jupyter-widgets/base",
       "_model_module_version": "1.2.0",
       "_model_name": "LayoutModel",
       "_view_count": null,
       "_view_module": "@jupyter-widgets/base",
       "_view_module_version": "1.2.0",
       "_view_name": "LayoutView",
       "align_content": null,
       "align_items": null,
       "align_self": null,
       "border": null,
       "bottom": null,
       "display": null,
       "flex": null,
       "flex_flow": null,
       "grid_area": null,
       "grid_auto_columns": null,
       "grid_auto_flow": null,
       "grid_auto_rows": null,
       "grid_column": null,
       "grid_gap": null,
       "grid_row": null,
       "grid_template_areas": null,
       "grid_template_columns": null,
       "grid_template_rows": null,
       "height": null,
       "justify_content": null,
       "justify_items": null,
       "left": null,
       "margin": null,
       "max_height": null,
       "max_width": null,
       "min_height": null,
       "min_width": null,
       "object_fit": null,
       "object_position": null,
       "order": null,
       "overflow": null,
       "overflow_x": null,
       "overflow_y": null,
       "padding": null,
       "right": null,
       "top": null,
       "visibility": null,
       "width": null
      }
     },
     "0cf71029c2c644728e288359b35c2a6d": {
      "model_module": "@jupyter-widgets/controls",
      "model_module_version": "1.5.0",
      "model_name": "DescriptionStyleModel",
      "state": {
       "_model_module": "@jupyter-widgets/controls",
       "_model_module_version": "1.5.0",
       "_model_name": "DescriptionStyleModel",
       "_view_count": null,
       "_view_module": "@jupyter-widgets/base",
       "_view_module_version": "1.2.0",
       "_view_name": "StyleView",
       "description_width": ""
      }
     },
     "13548253e0f64ea18e14eb9e4b093a80": {
      "model_module": "@jupyter-widgets/base",
      "model_module_version": "1.2.0",
      "model_name": "LayoutModel",
      "state": {
       "_model_module": "@jupyter-widgets/base",
       "_model_module_version": "1.2.0",
       "_model_name": "LayoutModel",
       "_view_count": null,
       "_view_module": "@jupyter-widgets/base",
       "_view_module_version": "1.2.0",
       "_view_name": "LayoutView",
       "align_content": null,
       "align_items": null,
       "align_self": null,
       "border": null,
       "bottom": null,
       "display": null,
       "flex": null,
       "flex_flow": null,
       "grid_area": null,
       "grid_auto_columns": null,
       "grid_auto_flow": null,
       "grid_auto_rows": null,
       "grid_column": null,
       "grid_gap": null,
       "grid_row": null,
       "grid_template_areas": null,
       "grid_template_columns": null,
       "grid_template_rows": null,
       "height": null,
       "justify_content": null,
       "justify_items": null,
       "left": null,
       "margin": null,
       "max_height": null,
       "max_width": null,
       "min_height": null,
       "min_width": null,
       "object_fit": null,
       "object_position": null,
       "order": null,
       "overflow": null,
       "overflow_x": null,
       "overflow_y": null,
       "padding": null,
       "right": null,
       "top": null,
       "visibility": null,
       "width": null
      }
     },
     "18076203cb1246b585b5664954cc6098": {
      "model_module": "@jupyter-widgets/base",
      "model_module_version": "1.2.0",
      "model_name": "LayoutModel",
      "state": {
       "_model_module": "@jupyter-widgets/base",
       "_model_module_version": "1.2.0",
       "_model_name": "LayoutModel",
       "_view_count": null,
       "_view_module": "@jupyter-widgets/base",
       "_view_module_version": "1.2.0",
       "_view_name": "LayoutView",
       "align_content": null,
       "align_items": null,
       "align_self": null,
       "border": null,
       "bottom": null,
       "display": null,
       "flex": null,
       "flex_flow": null,
       "grid_area": null,
       "grid_auto_columns": null,
       "grid_auto_flow": null,
       "grid_auto_rows": null,
       "grid_column": null,
       "grid_gap": null,
       "grid_row": null,
       "grid_template_areas": null,
       "grid_template_columns": null,
       "grid_template_rows": null,
       "height": null,
       "justify_content": null,
       "justify_items": null,
       "left": null,
       "margin": null,
       "max_height": null,
       "max_width": null,
       "min_height": null,
       "min_width": null,
       "object_fit": null,
       "object_position": null,
       "order": null,
       "overflow": null,
       "overflow_x": null,
       "overflow_y": null,
       "padding": null,
       "right": null,
       "top": null,
       "visibility": null,
       "width": null
      }
     },
     "1e5c510216ff48e282d9951b8cfda848": {
      "model_module": "@jupyter-widgets/controls",
      "model_module_version": "1.5.0",
      "model_name": "HTMLModel",
      "state": {
       "_dom_classes": [],
       "_model_module": "@jupyter-widgets/controls",
       "_model_module_version": "1.5.0",
       "_model_name": "HTMLModel",
       "_view_count": null,
       "_view_module": "@jupyter-widgets/controls",
       "_view_module_version": "1.5.0",
       "_view_name": "HTMLView",
       "description": "",
       "description_tooltip": null,
       "layout": "IPY_MODEL_082ca0de8c2b479285b43e93b926b62d",
       "placeholder": "​",
       "style": "IPY_MODEL_486dbd094a234fd984f4af131e71bef2",
       "value": " 262/262 [00:00&lt;00:00, 25.9kB/s]"
      }
     },
     "22dc51285b734c019367bec7e72fbdf1": {
      "model_module": "@jupyter-widgets/base",
      "model_module_version": "1.2.0",
      "model_name": "LayoutModel",
      "state": {
       "_model_module": "@jupyter-widgets/base",
       "_model_module_version": "1.2.0",
       "_model_name": "LayoutModel",
       "_view_count": null,
       "_view_module": "@jupyter-widgets/base",
       "_view_module_version": "1.2.0",
       "_view_name": "LayoutView",
       "align_content": null,
       "align_items": null,
       "align_self": null,
       "border": null,
       "bottom": null,
       "display": null,
       "flex": null,
       "flex_flow": null,
       "grid_area": null,
       "grid_auto_columns": null,
       "grid_auto_flow": null,
       "grid_auto_rows": null,
       "grid_column": null,
       "grid_gap": null,
       "grid_row": null,
       "grid_template_areas": null,
       "grid_template_columns": null,
       "grid_template_rows": null,
       "height": null,
       "justify_content": null,
       "justify_items": null,
       "left": null,
       "margin": null,
       "max_height": null,
       "max_width": null,
       "min_height": null,
       "min_width": null,
       "object_fit": null,
       "object_position": null,
       "order": null,
       "overflow": null,
       "overflow_x": null,
       "overflow_y": null,
       "padding": null,
       "right": null,
       "top": null,
       "visibility": null,
       "width": null
      }
     },
     "259ebdaf677c4ce88944aaa65e44870a": {
      "model_module": "@jupyter-widgets/controls",
      "model_module_version": "1.5.0",
      "model_name": "HTMLModel",
      "state": {
       "_dom_classes": [],
       "_model_module": "@jupyter-widgets/controls",
       "_model_module_version": "1.5.0",
       "_model_name": "HTMLModel",
       "_view_count": null,
       "_view_module": "@jupyter-widgets/controls",
       "_view_module_version": "1.5.0",
       "_view_name": "HTMLView",
       "description": "",
       "description_tooltip": null,
       "layout": "IPY_MODEL_a803d9d553fb43f9924caf5b58581aed",
       "placeholder": "​",
       "style": "IPY_MODEL_438fd9d333ee493291f57023a9fbe56c",
       "value": " 1.53k/1.53k [00:00&lt;00:00, 153kB/s]"
      }
     },
     "2bfcfbba3cda46c8aca19f39e7fead7f": {
      "model_module": "@jupyter-widgets/base",
      "model_module_version": "1.2.0",
      "model_name": "LayoutModel",
      "state": {
       "_model_module": "@jupyter-widgets/base",
       "_model_module_version": "1.2.0",
       "_model_name": "LayoutModel",
       "_view_count": null,
       "_view_module": "@jupyter-widgets/base",
       "_view_module_version": "1.2.0",
       "_view_name": "LayoutView",
       "align_content": null,
       "align_items": null,
       "align_self": null,
       "border": null,
       "bottom": null,
       "display": null,
       "flex": null,
       "flex_flow": null,
       "grid_area": null,
       "grid_auto_columns": null,
       "grid_auto_flow": null,
       "grid_auto_rows": null,
       "grid_column": null,
       "grid_gap": null,
       "grid_row": null,
       "grid_template_areas": null,
       "grid_template_columns": null,
       "grid_template_rows": null,
       "height": null,
       "justify_content": null,
       "justify_items": null,
       "left": null,
       "margin": null,
       "max_height": null,
       "max_width": null,
       "min_height": null,
       "min_width": null,
       "object_fit": null,
       "object_position": null,
       "order": null,
       "overflow": null,
       "overflow_x": null,
       "overflow_y": null,
       "padding": null,
       "right": null,
       "top": null,
       "visibility": null,
       "width": null
      }
     },
     "399443819ecb41ff96d891a616cf2c19": {
      "model_module": "@jupyter-widgets/controls",
      "model_module_version": "1.5.0",
      "model_name": "DescriptionStyleModel",
      "state": {
       "_model_module": "@jupyter-widgets/controls",
       "_model_module_version": "1.5.0",
       "_model_name": "DescriptionStyleModel",
       "_view_count": null,
       "_view_module": "@jupyter-widgets/base",
       "_view_module_version": "1.2.0",
       "_view_name": "StyleView",
       "description_width": ""
      }
     },
     "39a875c7ef8642d6896eb464a2bba7ef": {
      "model_module": "@jupyter-widgets/base",
      "model_module_version": "1.2.0",
      "model_name": "LayoutModel",
      "state": {
       "_model_module": "@jupyter-widgets/base",
       "_model_module_version": "1.2.0",
       "_model_name": "LayoutModel",
       "_view_count": null,
       "_view_module": "@jupyter-widgets/base",
       "_view_module_version": "1.2.0",
       "_view_name": "LayoutView",
       "align_content": null,
       "align_items": null,
       "align_self": null,
       "border": null,
       "bottom": null,
       "display": null,
       "flex": null,
       "flex_flow": null,
       "grid_area": null,
       "grid_auto_columns": null,
       "grid_auto_flow": null,
       "grid_auto_rows": null,
       "grid_column": null,
       "grid_gap": null,
       "grid_row": null,
       "grid_template_areas": null,
       "grid_template_columns": null,
       "grid_template_rows": null,
       "height": null,
       "justify_content": null,
       "justify_items": null,
       "left": null,
       "margin": null,
       "max_height": null,
       "max_width": null,
       "min_height": null,
       "min_width": null,
       "object_fit": null,
       "object_position": null,
       "order": null,
       "overflow": null,
       "overflow_x": null,
       "overflow_y": null,
       "padding": null,
       "right": null,
       "top": null,
       "visibility": null,
       "width": null
      }
     },
     "438fd9d333ee493291f57023a9fbe56c": {
      "model_module": "@jupyter-widgets/controls",
      "model_module_version": "1.5.0",
      "model_name": "DescriptionStyleModel",
      "state": {
       "_model_module": "@jupyter-widgets/controls",
       "_model_module_version": "1.5.0",
       "_model_name": "DescriptionStyleModel",
       "_view_count": null,
       "_view_module": "@jupyter-widgets/base",
       "_view_module_version": "1.2.0",
       "_view_name": "StyleView",
       "description_width": ""
      }
     },
     "486dbd094a234fd984f4af131e71bef2": {
      "model_module": "@jupyter-widgets/controls",
      "model_module_version": "1.5.0",
      "model_name": "DescriptionStyleModel",
      "state": {
       "_model_module": "@jupyter-widgets/controls",
       "_model_module_version": "1.5.0",
       "_model_name": "DescriptionStyleModel",
       "_view_count": null,
       "_view_module": "@jupyter-widgets/base",
       "_view_module_version": "1.2.0",
       "_view_name": "StyleView",
       "description_width": ""
      }
     },
     "4e502d16fd3149b1b9c4e2cdfb0041b5": {
      "model_module": "@jupyter-widgets/controls",
      "model_module_version": "1.5.0",
      "model_name": "HTMLModel",
      "state": {
       "_dom_classes": [],
       "_model_module": "@jupyter-widgets/controls",
       "_model_module_version": "1.5.0",
       "_model_name": "HTMLModel",
       "_view_count": null,
       "_view_module": "@jupyter-widgets/controls",
       "_view_module_version": "1.5.0",
       "_view_name": "HTMLView",
       "description": "",
       "description_tooltip": null,
       "layout": "IPY_MODEL_bf895b3f54974955bcae1ee1762e8b4f",
       "placeholder": "​",
       "style": "IPY_MODEL_f7d6781e4f0a4b64bc7b60f7ba9efe52",
       "value": " 1.26G/1.26G [00:05&lt;00:00, 245MB/s]"
      }
     },
     "4f8dc90792634ab394dbe994c984a476": {
      "model_module": "@jupyter-widgets/controls",
      "model_module_version": "1.5.0",
      "model_name": "FloatProgressModel",
      "state": {
       "_dom_classes": [],
       "_model_module": "@jupyter-widgets/controls",
       "_model_module_version": "1.5.0",
       "_model_name": "FloatProgressModel",
       "_view_count": null,
       "_view_module": "@jupyter-widgets/controls",
       "_view_module_version": "1.5.0",
       "_view_name": "ProgressView",
       "bar_style": "success",
       "description": "",
       "description_tooltip": null,
       "layout": "IPY_MODEL_ee4480579b7a4085813ed246b2043b3f",
       "max": 85.0,
       "min": 0.0,
       "orientation": "horizontal",
       "style": "IPY_MODEL_f437634055b44fd78b46da73fb35eb83",
       "value": 85.0
      }
     },
     "52a3195b194246758f76121e5b57c4cb": {
      "model_module": "@jupyter-widgets/controls",
      "model_module_version": "1.5.0",
      "model_name": "HTMLModel",
      "state": {
       "_dom_classes": [],
       "_model_module": "@jupyter-widgets/controls",
       "_model_module_version": "1.5.0",
       "_model_name": "HTMLModel",
       "_view_count": null,
       "_view_module": "@jupyter-widgets/controls",
       "_view_module_version": "1.5.0",
       "_view_name": "HTMLView",
       "description": "",
       "description_tooltip": null,
       "layout": "IPY_MODEL_d896a2aaa3cf49d380163d7b378e310a",
       "placeholder": "​",
       "style": "IPY_MODEL_399443819ecb41ff96d891a616cf2c19",
       "value": "vocab.json: 100%"
      }
     },
     "54e9a909789b4b4286743f3a1038fad8": {
      "model_module": "@jupyter-widgets/controls",
      "model_module_version": "1.5.0",
      "model_name": "DescriptionStyleModel",
      "state": {
       "_model_module": "@jupyter-widgets/controls",
       "_model_module_version": "1.5.0",
       "_model_name": "DescriptionStyleModel",
       "_view_count": null,
       "_view_module": "@jupyter-widgets/base",
       "_view_module_version": "1.2.0",
       "_view_name": "StyleView",
       "description_width": ""
      }
     },
     "55ac54bc4834496b8dde7a31e80707f5": {
      "model_module": "@jupyter-widgets/controls",
      "model_module_version": "1.5.0",
      "model_name": "DescriptionStyleModel",
      "state": {
       "_model_module": "@jupyter-widgets/controls",
       "_model_module_version": "1.5.0",
       "_model_name": "DescriptionStyleModel",
       "_view_count": null,
       "_view_module": "@jupyter-widgets/base",
       "_view_module_version": "1.2.0",
       "_view_name": "StyleView",
       "description_width": ""
      }
     },
     "7ba0d3bb79b44598b246e31093b0c575": {
      "model_module": "@jupyter-widgets/base",
      "model_module_version": "1.2.0",
      "model_name": "LayoutModel",
      "state": {
       "_model_module": "@jupyter-widgets/base",
       "_model_module_version": "1.2.0",
       "_model_name": "LayoutModel",
       "_view_count": null,
       "_view_module": "@jupyter-widgets/base",
       "_view_module_version": "1.2.0",
       "_view_name": "LayoutView",
       "align_content": null,
       "align_items": null,
       "align_self": null,
       "border": null,
       "bottom": null,
       "display": null,
       "flex": null,
       "flex_flow": null,
       "grid_area": null,
       "grid_auto_columns": null,
       "grid_auto_flow": null,
       "grid_auto_rows": null,
       "grid_column": null,
       "grid_gap": null,
       "grid_row": null,
       "grid_template_areas": null,
       "grid_template_columns": null,
       "grid_template_rows": null,
       "height": null,
       "justify_content": null,
       "justify_items": null,
       "left": null,
       "margin": null,
       "max_height": null,
       "max_width": null,
       "min_height": null,
       "min_width": null,
       "object_fit": null,
       "object_position": null,
       "order": null,
       "overflow": null,
       "overflow_x": null,
       "overflow_y": null,
       "padding": null,
       "right": null,
       "top": null,
       "visibility": null,
       "width": null
      }
     },
     "8120e6e977bc4c8ca297da1a8f5d4088": {
      "model_module": "@jupyter-widgets/base",
      "model_module_version": "1.2.0",
      "model_name": "LayoutModel",
      "state": {
       "_model_module": "@jupyter-widgets/base",
       "_model_module_version": "1.2.0",
       "_model_name": "LayoutModel",
       "_view_count": null,
       "_view_module": "@jupyter-widgets/base",
       "_view_module_version": "1.2.0",
       "_view_name": "LayoutView",
       "align_content": null,
       "align_items": null,
       "align_self": null,
       "border": null,
       "bottom": null,
       "display": null,
       "flex": null,
       "flex_flow": null,
       "grid_area": null,
       "grid_auto_columns": null,
       "grid_auto_flow": null,
       "grid_auto_rows": null,
       "grid_column": null,
       "grid_gap": null,
       "grid_row": null,
       "grid_template_areas": null,
       "grid_template_columns": null,
       "grid_template_rows": null,
       "height": null,
       "justify_content": null,
       "justify_items": null,
       "left": null,
       "margin": null,
       "max_height": null,
       "max_width": null,
       "min_height": null,
       "min_width": null,
       "object_fit": null,
       "object_position": null,
       "order": null,
       "overflow": null,
       "overflow_x": null,
       "overflow_y": null,
       "padding": null,
       "right": null,
       "top": null,
       "visibility": null,
       "width": null
      }
     },
     "857bb91fc51e43588e765cf324f061cd": {
      "model_module": "@jupyter-widgets/controls",
      "model_module_version": "1.5.0",
      "model_name": "ProgressStyleModel",
      "state": {
       "_model_module": "@jupyter-widgets/controls",
       "_model_module_version": "1.5.0",
       "_model_name": "ProgressStyleModel",
       "_view_count": null,
       "_view_module": "@jupyter-widgets/base",
       "_view_module_version": "1.2.0",
       "_view_name": "StyleView",
       "bar_color": null,
       "description_width": ""
      }
     },
     "88a4fda286254b9191c7293ce948ecba": {
      "model_module": "@jupyter-widgets/base",
      "model_module_version": "1.2.0",
      "model_name": "LayoutModel",
      "state": {
       "_model_module": "@jupyter-widgets/base",
       "_model_module_version": "1.2.0",
       "_model_name": "LayoutModel",
       "_view_count": null,
       "_view_module": "@jupyter-widgets/base",
       "_view_module_version": "1.2.0",
       "_view_name": "LayoutView",
       "align_content": null,
       "align_items": null,
       "align_self": null,
       "border": null,
       "bottom": null,
       "display": null,
       "flex": null,
       "flex_flow": null,
       "grid_area": null,
       "grid_auto_columns": null,
       "grid_auto_flow": null,
       "grid_auto_rows": null,
       "grid_column": null,
       "grid_gap": null,
       "grid_row": null,
       "grid_template_areas": null,
       "grid_template_columns": null,
       "grid_template_rows": null,
       "height": null,
       "justify_content": null,
       "justify_items": null,
       "left": null,
       "margin": null,
       "max_height": null,
       "max_width": null,
       "min_height": null,
       "min_width": null,
       "object_fit": null,
       "object_position": null,
       "order": null,
       "overflow": null,
       "overflow_x": null,
       "overflow_y": null,
       "padding": null,
       "right": null,
       "top": null,
       "visibility": null,
       "width": null
      }
     },
     "8c6c293ea1af4bb19231e8e3550b7157": {
      "model_module": "@jupyter-widgets/controls",
      "model_module_version": "1.5.0",
      "model_name": "HTMLModel",
      "state": {
       "_dom_classes": [],
       "_model_module": "@jupyter-widgets/controls",
       "_model_module_version": "1.5.0",
       "_model_name": "HTMLModel",
       "_view_count": null,
       "_view_module": "@jupyter-widgets/controls",
       "_view_module_version": "1.5.0",
       "_view_name": "HTMLView",
       "description": "",
       "description_tooltip": null,
       "layout": "IPY_MODEL_22dc51285b734c019367bec7e72fbdf1",
       "placeholder": "​",
       "style": "IPY_MODEL_9eae19592b744a8e98a1f2d9a5f2d1ea",
       "value": "preprocessor_config.json: 100%"
      }
     },
     "8f3da37dc35f48b59420b0cf9c8eff92": {
      "model_module": "@jupyter-widgets/base",
      "model_module_version": "1.2.0",
      "model_name": "LayoutModel",
      "state": {
       "_model_module": "@jupyter-widgets/base",
       "_model_module_version": "1.2.0",
       "_model_name": "LayoutModel",
       "_view_count": null,
       "_view_module": "@jupyter-widgets/base",
       "_view_module_version": "1.2.0",
       "_view_name": "LayoutView",
       "align_content": null,
       "align_items": null,
       "align_self": null,
       "border": null,
       "bottom": null,
       "display": null,
       "flex": null,
       "flex_flow": null,
       "grid_area": null,
       "grid_auto_columns": null,
       "grid_auto_flow": null,
       "grid_auto_rows": null,
       "grid_column": null,
       "grid_gap": null,
       "grid_row": null,
       "grid_template_areas": null,
       "grid_template_columns": null,
       "grid_template_rows": null,
       "height": null,
       "justify_content": null,
       "justify_items": null,
       "left": null,
       "margin": null,
       "max_height": null,
       "max_width": null,
       "min_height": null,
       "min_width": null,
       "object_fit": null,
       "object_position": null,
       "order": null,
       "overflow": null,
       "overflow_x": null,
       "overflow_y": null,
       "padding": null,
       "right": null,
       "top": null,
       "visibility": null,
       "width": null
      }
     },
     "90d640199e5d4ee1908f4639158d7723": {
      "model_module": "@jupyter-widgets/controls",
      "model_module_version": "1.5.0",
      "model_name": "HBoxModel",
      "state": {
       "_dom_classes": [],
       "_model_module": "@jupyter-widgets/controls",
       "_model_module_version": "1.5.0",
       "_model_name": "HBoxModel",
       "_view_count": null,
       "_view_module": "@jupyter-widgets/controls",
       "_view_module_version": "1.5.0",
       "_view_name": "HBoxView",
       "box_style": "",
       "children": [
        "IPY_MODEL_8c6c293ea1af4bb19231e8e3550b7157",
        "IPY_MODEL_db9e6aef0c70401bbd201babb2aed017",
        "IPY_MODEL_1e5c510216ff48e282d9951b8cfda848"
       ],
       "layout": "IPY_MODEL_2bfcfbba3cda46c8aca19f39e7fead7f"
      }
     },
     "90e3ff286751402984d8df8581851945": {
      "model_module": "@jupyter-widgets/controls",
      "model_module_version": "1.5.0",
      "model_name": "ProgressStyleModel",
      "state": {
       "_model_module": "@jupyter-widgets/controls",
       "_model_module_version": "1.5.0",
       "_model_name": "ProgressStyleModel",
       "_view_count": null,
       "_view_module": "@jupyter-widgets/base",
       "_view_module_version": "1.2.0",
       "_view_name": "StyleView",
       "bar_color": null,
       "description_width": ""
      }
     },
     "9568aa7f580e45879082ae5c1ba383bd": {
      "model_module": "@jupyter-widgets/base",
      "model_module_version": "1.2.0",
      "model_name": "LayoutModel",
      "state": {
       "_model_module": "@jupyter-widgets/base",
       "_model_module_version": "1.2.0",
       "_model_name": "LayoutModel",
       "_view_count": null,
       "_view_module": "@jupyter-widgets/base",
       "_view_module_version": "1.2.0",
       "_view_name": "LayoutView",
       "align_content": null,
       "align_items": null,
       "align_self": null,
       "border": null,
       "bottom": null,
       "display": null,
       "flex": null,
       "flex_flow": null,
       "grid_area": null,
       "grid_auto_columns": null,
       "grid_auto_flow": null,
       "grid_auto_rows": null,
       "grid_column": null,
       "grid_gap": null,
       "grid_row": null,
       "grid_template_areas": null,
       "grid_template_columns": null,
       "grid_template_rows": null,
       "height": null,
       "justify_content": null,
       "justify_items": null,
       "left": null,
       "margin": null,
       "max_height": null,
       "max_width": null,
       "min_height": null,
       "min_width": null,
       "object_fit": null,
       "object_position": null,
       "order": null,
       "overflow": null,
       "overflow_x": null,
       "overflow_y": null,
       "padding": null,
       "right": null,
       "top": null,
       "visibility": null,
       "width": null
      }
     },
     "97849773dd524215af46371d2ccfa541": {
      "model_module": "@jupyter-widgets/controls",
      "model_module_version": "1.5.0",
      "model_name": "ProgressStyleModel",
      "state": {
       "_model_module": "@jupyter-widgets/controls",
       "_model_module_version": "1.5.0",
       "_model_name": "ProgressStyleModel",
       "_view_count": null,
       "_view_module": "@jupyter-widgets/base",
       "_view_module_version": "1.2.0",
       "_view_name": "StyleView",
       "bar_color": null,
       "description_width": ""
      }
     },
     "9eae19592b744a8e98a1f2d9a5f2d1ea": {
      "model_module": "@jupyter-widgets/controls",
      "model_module_version": "1.5.0",
      "model_name": "DescriptionStyleModel",
      "state": {
       "_model_module": "@jupyter-widgets/controls",
       "_model_module_version": "1.5.0",
       "_model_name": "DescriptionStyleModel",
       "_view_count": null,
       "_view_module": "@jupyter-widgets/base",
       "_view_module_version": "1.2.0",
       "_view_name": "StyleView",
       "description_width": ""
      }
     },
     "a3b57285f80a4a10b340f8398973f301": {
      "model_module": "@jupyter-widgets/base",
      "model_module_version": "1.2.0",
      "model_name": "LayoutModel",
      "state": {
       "_model_module": "@jupyter-widgets/base",
       "_model_module_version": "1.2.0",
       "_model_name": "LayoutModel",
       "_view_count": null,
       "_view_module": "@jupyter-widgets/base",
       "_view_module_version": "1.2.0",
       "_view_name": "LayoutView",
       "align_content": null,
       "align_items": null,
       "align_self": null,
       "border": null,
       "bottom": null,
       "display": null,
       "flex": null,
       "flex_flow": null,
       "grid_area": null,
       "grid_auto_columns": null,
       "grid_auto_flow": null,
       "grid_auto_rows": null,
       "grid_column": null,
       "grid_gap": null,
       "grid_row": null,
       "grid_template_areas": null,
       "grid_template_columns": null,
       "grid_template_rows": null,
       "height": null,
       "justify_content": null,
       "justify_items": null,
       "left": null,
       "margin": null,
       "max_height": null,
       "max_width": null,
       "min_height": null,
       "min_width": null,
       "object_fit": null,
       "object_position": null,
       "order": null,
       "overflow": null,
       "overflow_x": null,
       "overflow_y": null,
       "padding": null,
       "right": null,
       "top": null,
       "visibility": null,
       "width": null
      }
     },
     "a73fa4cf5aa342ad94984f71bb3f6ea8": {
      "model_module": "@jupyter-widgets/controls",
      "model_module_version": "1.5.0",
      "model_name": "FloatProgressModel",
      "state": {
       "_dom_classes": [],
       "_model_module": "@jupyter-widgets/controls",
       "_model_module_version": "1.5.0",
       "_model_name": "FloatProgressModel",
       "_view_count": null,
       "_view_module": "@jupyter-widgets/controls",
       "_view_module_version": "1.5.0",
       "_view_name": "ProgressView",
       "bar_style": "success",
       "description": "",
       "description_tooltip": null,
       "layout": "IPY_MODEL_07f3dee439154858ad0276a8a56e9db1",
       "max": 1261942732.0,
       "min": 0.0,
       "orientation": "horizontal",
       "style": "IPY_MODEL_97849773dd524215af46371d2ccfa541",
       "value": 1261942732.0
      }
     },
     "a7663d3e91444c5885d2896726efe2fe": {
      "model_module": "@jupyter-widgets/controls",
      "model_module_version": "1.5.0",
      "model_name": "HBoxModel",
      "state": {
       "_dom_classes": [],
       "_model_module": "@jupyter-widgets/controls",
       "_model_module_version": "1.5.0",
       "_model_name": "HBoxModel",
       "_view_count": null,
       "_view_module": "@jupyter-widgets/controls",
       "_view_module_version": "1.5.0",
       "_view_name": "HBoxView",
       "box_style": "",
       "children": [
        "IPY_MODEL_52a3195b194246758f76121e5b57c4cb",
        "IPY_MODEL_d0fbda985f5a480683e342842e8f6dc4",
        "IPY_MODEL_aae6ded658024e20a8a987dc20e35bcd"
       ],
       "layout": "IPY_MODEL_a3b57285f80a4a10b340f8398973f301"
      }
     },
     "a803d9d553fb43f9924caf5b58581aed": {
      "model_module": "@jupyter-widgets/base",
      "model_module_version": "1.2.0",
      "model_name": "LayoutModel",
      "state": {
       "_model_module": "@jupyter-widgets/base",
       "_model_module_version": "1.2.0",
       "_model_name": "LayoutModel",
       "_view_count": null,
       "_view_module": "@jupyter-widgets/base",
       "_view_module_version": "1.2.0",
       "_view_name": "LayoutView",
       "align_content": null,
       "align_items": null,
       "align_self": null,
       "border": null,
       "bottom": null,
       "display": null,
       "flex": null,
       "flex_flow": null,
       "grid_area": null,
       "grid_auto_columns": null,
       "grid_auto_flow": null,
       "grid_auto_rows": null,
       "grid_column": null,
       "grid_gap": null,
       "grid_row": null,
       "grid_template_areas": null,
       "grid_template_columns": null,
       "grid_template_rows": null,
       "height": null,
       "justify_content": null,
       "justify_items": null,
       "left": null,
       "margin": null,
       "max_height": null,
       "max_width": null,
       "min_height": null,
       "min_width": null,
       "object_fit": null,
       "object_position": null,
       "order": null,
       "overflow": null,
       "overflow_x": null,
       "overflow_y": null,
       "padding": null,
       "right": null,
       "top": null,
       "visibility": null,
       "width": null
      }
     },
     "aae6ded658024e20a8a987dc20e35bcd": {
      "model_module": "@jupyter-widgets/controls",
      "model_module_version": "1.5.0",
      "model_name": "HTMLModel",
      "state": {
       "_dom_classes": [],
       "_model_module": "@jupyter-widgets/controls",
       "_model_module_version": "1.5.0",
       "_model_name": "HTMLModel",
       "_view_count": null,
       "_view_module": "@jupyter-widgets/controls",
       "_view_module_version": "1.5.0",
       "_view_name": "HTMLView",
       "description": "",
       "description_tooltip": null,
       "layout": "IPY_MODEL_18076203cb1246b585b5664954cc6098",
       "placeholder": "​",
       "style": "IPY_MODEL_54e9a909789b4b4286743f3a1038fad8",
       "value": " 300/300 [00:00&lt;00:00, 29.1kB/s]"
      }
     },
     "babe6cb83bf3444bab5300358a78faba": {
      "model_module": "@jupyter-widgets/base",
      "model_module_version": "1.2.0",
      "model_name": "LayoutModel",
      "state": {
       "_model_module": "@jupyter-widgets/base",
       "_model_module_version": "1.2.0",
       "_model_name": "LayoutModel",
       "_view_count": null,
       "_view_module": "@jupyter-widgets/base",
       "_view_module_version": "1.2.0",
       "_view_name": "LayoutView",
       "align_content": null,
       "align_items": null,
       "align_self": null,
       "border": null,
       "bottom": null,
       "display": null,
       "flex": null,
       "flex_flow": null,
       "grid_area": null,
       "grid_auto_columns": null,
       "grid_auto_flow": null,
       "grid_auto_rows": null,
       "grid_column": null,
       "grid_gap": null,
       "grid_row": null,
       "grid_template_areas": null,
       "grid_template_columns": null,
       "grid_template_rows": null,
       "height": null,
       "justify_content": null,
       "justify_items": null,
       "left": null,
       "margin": null,
       "max_height": null,
       "max_width": null,
       "min_height": null,
       "min_width": null,
       "object_fit": null,
       "object_position": null,
       "order": null,
       "overflow": null,
       "overflow_x": null,
       "overflow_y": null,
       "padding": null,
       "right": null,
       "top": null,
       "visibility": null,
       "width": null
      }
     },
     "bc96099088924de18e73a5720f1cae7e": {
      "model_module": "@jupyter-widgets/controls",
      "model_module_version": "1.5.0",
      "model_name": "HTMLModel",
      "state": {
       "_dom_classes": [],
       "_model_module": "@jupyter-widgets/controls",
       "_model_module_version": "1.5.0",
       "_model_name": "HTMLModel",
       "_view_count": null,
       "_view_module": "@jupyter-widgets/controls",
       "_view_module_version": "1.5.0",
       "_view_name": "HTMLView",
       "description": "",
       "description_tooltip": null,
       "layout": "IPY_MODEL_39a875c7ef8642d6896eb464a2bba7ef",
       "placeholder": "​",
       "style": "IPY_MODEL_dd178dd341f84a16a13a1b1aa5f6e459",
       "value": "model.safetensors: 100%"
      }
     },
     "bf895b3f54974955bcae1ee1762e8b4f": {
      "model_module": "@jupyter-widgets/base",
      "model_module_version": "1.2.0",
      "model_name": "LayoutModel",
      "state": {
       "_model_module": "@jupyter-widgets/base",
       "_model_module_version": "1.2.0",
       "_model_name": "LayoutModel",
       "_view_count": null,
       "_view_module": "@jupyter-widgets/base",
       "_view_module_version": "1.2.0",
       "_view_name": "LayoutView",
       "align_content": null,
       "align_items": null,
       "align_self": null,
       "border": null,
       "bottom": null,
       "display": null,
       "flex": null,
       "flex_flow": null,
       "grid_area": null,
       "grid_auto_columns": null,
       "grid_auto_flow": null,
       "grid_auto_rows": null,
       "grid_column": null,
       "grid_gap": null,
       "grid_row": null,
       "grid_template_areas": null,
       "grid_template_columns": null,
       "grid_template_rows": null,
       "height": null,
       "justify_content": null,
       "justify_items": null,
       "left": null,
       "margin": null,
       "max_height": null,
       "max_width": null,
       "min_height": null,
       "min_width": null,
       "object_fit": null,
       "object_position": null,
       "order": null,
       "overflow": null,
       "overflow_x": null,
       "overflow_y": null,
       "padding": null,
       "right": null,
       "top": null,
       "visibility": null,
       "width": null
      }
     },
     "c94cfd3e4d984c839e6a2ba03bc3828c": {
      "model_module": "@jupyter-widgets/base",
      "model_module_version": "1.2.0",
      "model_name": "LayoutModel",
      "state": {
       "_model_module": "@jupyter-widgets/base",
       "_model_module_version": "1.2.0",
       "_model_name": "LayoutModel",
       "_view_count": null,
       "_view_module": "@jupyter-widgets/base",
       "_view_module_version": "1.2.0",
       "_view_name": "LayoutView",
       "align_content": null,
       "align_items": null,
       "align_self": null,
       "border": null,
       "bottom": null,
       "display": null,
       "flex": null,
       "flex_flow": null,
       "grid_area": null,
       "grid_auto_columns": null,
       "grid_auto_flow": null,
       "grid_auto_rows": null,
       "grid_column": null,
       "grid_gap": null,
       "grid_row": null,
       "grid_template_areas": null,
       "grid_template_columns": null,
       "grid_template_rows": null,
       "height": null,
       "justify_content": null,
       "justify_items": null,
       "left": null,
       "margin": null,
       "max_height": null,
       "max_width": null,
       "min_height": null,
       "min_width": null,
       "object_fit": null,
       "object_position": null,
       "order": null,
       "overflow": null,
       "overflow_x": null,
       "overflow_y": null,
       "padding": null,
       "right": null,
       "top": null,
       "visibility": null,
       "width": null
      }
     },
     "c962644692f54dd9a862ca7b5cec6aaa": {
      "model_module": "@jupyter-widgets/controls",
      "model_module_version": "1.5.0",
      "model_name": "HTMLModel",
      "state": {
       "_dom_classes": [],
       "_model_module": "@jupyter-widgets/controls",
       "_model_module_version": "1.5.0",
       "_model_name": "HTMLModel",
       "_view_count": null,
       "_view_module": "@jupyter-widgets/controls",
       "_view_module_version": "1.5.0",
       "_view_name": "HTMLView",
       "description": "",
       "description_tooltip": null,
       "layout": "IPY_MODEL_c94cfd3e4d984c839e6a2ba03bc3828c",
       "placeholder": "​",
       "style": "IPY_MODEL_55ac54bc4834496b8dde7a31e80707f5",
       "value": "config.json: 100%"
      }
     },
     "d0fbda985f5a480683e342842e8f6dc4": {
      "model_module": "@jupyter-widgets/controls",
      "model_module_version": "1.5.0",
      "model_name": "FloatProgressModel",
      "state": {
       "_dom_classes": [],
       "_model_module": "@jupyter-widgets/controls",
       "_model_module_version": "1.5.0",
       "_model_name": "FloatProgressModel",
       "_view_count": null,
       "_view_module": "@jupyter-widgets/controls",
       "_view_module_version": "1.5.0",
       "_view_name": "ProgressView",
       "bar_style": "success",
       "description": "",
       "description_tooltip": null,
       "layout": "IPY_MODEL_88a4fda286254b9191c7293ce948ecba",
       "max": 300.0,
       "min": 0.0,
       "orientation": "horizontal",
       "style": "IPY_MODEL_857bb91fc51e43588e765cf324f061cd",
       "value": 300.0
      }
     },
     "d3ab0c76b7a3431ca0bad9674ec8e9f0": {
      "model_module": "@jupyter-widgets/controls",
      "model_module_version": "1.5.0",
      "model_name": "HBoxModel",
      "state": {
       "_dom_classes": [],
       "_model_module": "@jupyter-widgets/controls",
       "_model_module_version": "1.5.0",
       "_model_name": "HBoxModel",
       "_view_count": null,
       "_view_module": "@jupyter-widgets/controls",
       "_view_module_version": "1.5.0",
       "_view_name": "HBoxView",
       "box_style": "",
       "children": [
        "IPY_MODEL_c962644692f54dd9a862ca7b5cec6aaa",
        "IPY_MODEL_d73667b1cb684bdcb08f541591bf2d00",
        "IPY_MODEL_259ebdaf677c4ce88944aaa65e44870a"
       ],
       "layout": "IPY_MODEL_9568aa7f580e45879082ae5c1ba383bd"
      }
     },
     "d73667b1cb684bdcb08f541591bf2d00": {
      "model_module": "@jupyter-widgets/controls",
      "model_module_version": "1.5.0",
      "model_name": "FloatProgressModel",
      "state": {
       "_dom_classes": [],
       "_model_module": "@jupyter-widgets/controls",
       "_model_module_version": "1.5.0",
       "_model_name": "FloatProgressModel",
       "_view_count": null,
       "_view_module": "@jupyter-widgets/controls",
       "_view_module_version": "1.5.0",
       "_view_name": "ProgressView",
       "bar_style": "success",
       "description": "",
       "description_tooltip": null,
       "layout": "IPY_MODEL_13548253e0f64ea18e14eb9e4b093a80",
       "max": 1531.0,
       "min": 0.0,
       "orientation": "horizontal",
       "style": "IPY_MODEL_0642460a40d44e0a931d0148f9fc4ba6",
       "value": 1531.0
      }
     },
     "d896a2aaa3cf49d380163d7b378e310a": {
      "model_module": "@jupyter-widgets/base",
      "model_module_version": "1.2.0",
      "model_name": "LayoutModel",
      "state": {
       "_model_module": "@jupyter-widgets/base",
       "_model_module_version": "1.2.0",
       "_model_name": "LayoutModel",
       "_view_count": null,
       "_view_module": "@jupyter-widgets/base",
       "_view_module_version": "1.2.0",
       "_view_name": "LayoutView",
       "align_content": null,
       "align_items": null,
       "align_self": null,
       "border": null,
       "bottom": null,
       "display": null,
       "flex": null,
       "flex_flow": null,
       "grid_area": null,
       "grid_auto_columns": null,
       "grid_auto_flow": null,
       "grid_auto_rows": null,
       "grid_column": null,
       "grid_gap": null,
       "grid_row": null,
       "grid_template_areas": null,
       "grid_template_columns": null,
       "grid_template_rows": null,
       "height": null,
       "justify_content": null,
       "justify_items": null,
       "left": null,
       "margin": null,
       "max_height": null,
       "max_width": null,
       "min_height": null,
       "min_width": null,
       "object_fit": null,
       "object_position": null,
       "order": null,
       "overflow": null,
       "overflow_x": null,
       "overflow_y": null,
       "padding": null,
       "right": null,
       "top": null,
       "visibility": null,
       "width": null
      }
     },
     "db2704c7624e441a9c1e63e5914e943b": {
      "model_module": "@jupyter-widgets/controls",
      "model_module_version": "1.5.0",
      "model_name": "HBoxModel",
      "state": {
       "_dom_classes": [],
       "_model_module": "@jupyter-widgets/controls",
       "_model_module_version": "1.5.0",
       "_model_name": "HBoxModel",
       "_view_count": null,
       "_view_module": "@jupyter-widgets/controls",
       "_view_module_version": "1.5.0",
       "_view_name": "HBoxView",
       "box_style": "",
       "children": [
        "IPY_MODEL_04c6750c778746edba85f9de837bf3f8",
        "IPY_MODEL_4f8dc90792634ab394dbe994c984a476",
        "IPY_MODEL_dc7cd8c3a1494fd2afac4e6b860a8056"
       ],
       "layout": "IPY_MODEL_8f3da37dc35f48b59420b0cf9c8eff92"
      }
     },
     "db9e6aef0c70401bbd201babb2aed017": {
      "model_module": "@jupyter-widgets/controls",
      "model_module_version": "1.5.0",
      "model_name": "FloatProgressModel",
      "state": {
       "_dom_classes": [],
       "_model_module": "@jupyter-widgets/controls",
       "_model_module_version": "1.5.0",
       "_model_name": "FloatProgressModel",
       "_view_count": null,
       "_view_module": "@jupyter-widgets/controls",
       "_view_module_version": "1.5.0",
       "_view_name": "ProgressView",
       "bar_style": "success",
       "description": "",
       "description_tooltip": null,
       "layout": "IPY_MODEL_8120e6e977bc4c8ca297da1a8f5d4088",
       "max": 262.0,
       "min": 0.0,
       "orientation": "horizontal",
       "style": "IPY_MODEL_90e3ff286751402984d8df8581851945",
       "value": 262.0
      }
     },
     "dc7cd8c3a1494fd2afac4e6b860a8056": {
      "model_module": "@jupyter-widgets/controls",
      "model_module_version": "1.5.0",
      "model_name": "HTMLModel",
      "state": {
       "_dom_classes": [],
       "_model_module": "@jupyter-widgets/controls",
       "_model_module_version": "1.5.0",
       "_model_name": "HTMLModel",
       "_view_count": null,
       "_view_module": "@jupyter-widgets/controls",
       "_view_module_version": "1.5.0",
       "_view_name": "HTMLView",
       "description": "",
       "description_tooltip": null,
       "layout": "IPY_MODEL_fe8f554805a64def9cd5f100275775b6",
       "placeholder": "​",
       "style": "IPY_MODEL_f2ec2d4c73fe47a3a9b29876b0f8e5f9",
       "value": " 85.0/85.0 [00:00&lt;00:00, 8.01kB/s]"
      }
     },
     "dd178dd341f84a16a13a1b1aa5f6e459": {
      "model_module": "@jupyter-widgets/controls",
      "model_module_version": "1.5.0",
      "model_name": "DescriptionStyleModel",
      "state": {
       "_model_module": "@jupyter-widgets/controls",
       "_model_module_version": "1.5.0",
       "_model_name": "DescriptionStyleModel",
       "_view_count": null,
       "_view_module": "@jupyter-widgets/base",
       "_view_module_version": "1.2.0",
       "_view_name": "StyleView",
       "description_width": ""
      }
     },
     "ee4480579b7a4085813ed246b2043b3f": {
      "model_module": "@jupyter-widgets/base",
      "model_module_version": "1.2.0",
      "model_name": "LayoutModel",
      "state": {
       "_model_module": "@jupyter-widgets/base",
       "_model_module_version": "1.2.0",
       "_model_name": "LayoutModel",
       "_view_count": null,
       "_view_module": "@jupyter-widgets/base",
       "_view_module_version": "1.2.0",
       "_view_name": "LayoutView",
       "align_content": null,
       "align_items": null,
       "align_self": null,
       "border": null,
       "bottom": null,
       "display": null,
       "flex": null,
       "flex_flow": null,
       "grid_area": null,
       "grid_auto_columns": null,
       "grid_auto_flow": null,
       "grid_auto_rows": null,
       "grid_column": null,
       "grid_gap": null,
       "grid_row": null,
       "grid_template_areas": null,
       "grid_template_columns": null,
       "grid_template_rows": null,
       "height": null,
       "justify_content": null,
       "justify_items": null,
       "left": null,
       "margin": null,
       "max_height": null,
       "max_width": null,
       "min_height": null,
       "min_width": null,
       "object_fit": null,
       "object_position": null,
       "order": null,
       "overflow": null,
       "overflow_x": null,
       "overflow_y": null,
       "padding": null,
       "right": null,
       "top": null,
       "visibility": null,
       "width": null
      }
     },
     "f2ec2d4c73fe47a3a9b29876b0f8e5f9": {
      "model_module": "@jupyter-widgets/controls",
      "model_module_version": "1.5.0",
      "model_name": "DescriptionStyleModel",
      "state": {
       "_model_module": "@jupyter-widgets/controls",
       "_model_module_version": "1.5.0",
       "_model_name": "DescriptionStyleModel",
       "_view_count": null,
       "_view_module": "@jupyter-widgets/base",
       "_view_module_version": "1.2.0",
       "_view_name": "StyleView",
       "description_width": ""
      }
     },
     "f437634055b44fd78b46da73fb35eb83": {
      "model_module": "@jupyter-widgets/controls",
      "model_module_version": "1.5.0",
      "model_name": "ProgressStyleModel",
      "state": {
       "_model_module": "@jupyter-widgets/controls",
       "_model_module_version": "1.5.0",
       "_model_name": "ProgressStyleModel",
       "_view_count": null,
       "_view_module": "@jupyter-widgets/base",
       "_view_module_version": "1.2.0",
       "_view_name": "StyleView",
       "bar_color": null,
       "description_width": ""
      }
     },
     "f7d6781e4f0a4b64bc7b60f7ba9efe52": {
      "model_module": "@jupyter-widgets/controls",
      "model_module_version": "1.5.0",
      "model_name": "DescriptionStyleModel",
      "state": {
       "_model_module": "@jupyter-widgets/controls",
       "_model_module_version": "1.5.0",
       "_model_name": "DescriptionStyleModel",
       "_view_count": null,
       "_view_module": "@jupyter-widgets/base",
       "_view_module_version": "1.2.0",
       "_view_name": "StyleView",
       "description_width": ""
      }
     },
     "fe8f554805a64def9cd5f100275775b6": {
      "model_module": "@jupyter-widgets/base",
      "model_module_version": "1.2.0",
      "model_name": "LayoutModel",
      "state": {
       "_model_module": "@jupyter-widgets/base",
       "_model_module_version": "1.2.0",
       "_model_name": "LayoutModel",
       "_view_count": null,
       "_view_module": "@jupyter-widgets/base",
       "_view_module_version": "1.2.0",
       "_view_name": "LayoutView",
       "align_content": null,
       "align_items": null,
       "align_self": null,
       "border": null,
       "bottom": null,
       "display": null,
       "flex": null,
       "flex_flow": null,
       "grid_area": null,
       "grid_auto_columns": null,
       "grid_auto_flow": null,
       "grid_auto_rows": null,
       "grid_column": null,
       "grid_gap": null,
       "grid_row": null,
       "grid_template_areas": null,
       "grid_template_columns": null,
       "grid_template_rows": null,
       "height": null,
       "justify_content": null,
       "justify_items": null,
       "left": null,
       "margin": null,
       "max_height": null,
       "max_width": null,
       "min_height": null,
       "min_width": null,
       "object_fit": null,
       "object_position": null,
       "order": null,
       "overflow": null,
       "overflow_x": null,
       "overflow_y": null,
       "padding": null,
       "right": null,
       "top": null,
       "visibility": null,
       "width": null
      }
     }
    },
    "version_major": 2,
    "version_minor": 0
   }
  }
 },
 "nbformat": 4,
 "nbformat_minor": 5
}

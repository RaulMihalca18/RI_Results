{
 "cells": [
  {
   "cell_type": "code",
   "execution_count": 1,
   "id": "e89aa298",
   "metadata": {
    "execution": {
     "iopub.execute_input": "2024-11-25T18:15:33.508528Z",
     "iopub.status.busy": "2024-11-25T18:15:33.508167Z",
     "iopub.status.idle": "2024-11-25T18:15:41.623415Z",
     "shell.execute_reply": "2024-11-25T18:15:41.622718Z"
    },
    "papermill": {
     "duration": 8.128742,
     "end_time": "2024-11-25T18:15:41.625382",
     "exception": false,
     "start_time": "2024-11-25T18:15:33.496640",
     "status": "completed"
    },
    "tags": []
   },
   "outputs": [],
   "source": [
    "import sys\n",
    "import os\n",
    "from tqdm import tqdm\n",
    "from sklearn.model_selection import train_test_split\n",
    "from itertools import product\n",
    "import subprocess\n",
    "import numpy as np\n",
    "import pandas as pd\n",
    "import glob\n",
    "from collections import OrderedDict\n",
    "import random\n",
    "import torch\n",
    "import torch.nn as nn\n",
    "import IPython.display as ipd\n",
    "import torchaudio\n",
    "from transformers import Wav2Vec2Processor, Wav2Vec2ForSequenceClassification, AdamW\n",
    "from torch.utils.data import DataLoader, Dataset\n",
    "from torch.nn.utils.rnn import pad_sequence"
   ]
  },
  {
   "cell_type": "code",
   "execution_count": 2,
   "id": "02178033",
   "metadata": {
    "execution": {
     "iopub.execute_input": "2024-11-25T18:15:41.647379Z",
     "iopub.status.busy": "2024-11-25T18:15:41.646919Z",
     "iopub.status.idle": "2024-11-25T18:15:41.737677Z",
     "shell.execute_reply": "2024-11-25T18:15:41.736862Z"
    },
    "papermill": {
     "duration": 0.103274,
     "end_time": "2024-11-25T18:15:41.739652",
     "exception": false,
     "start_time": "2024-11-25T18:15:41.636378",
     "status": "completed"
    },
    "tags": []
   },
   "outputs": [
    {
     "name": "stdout",
     "output_type": "stream",
     "text": [
      "GPU: Tesla P100-PCIE-16GB\n"
     ]
    }
   ],
   "source": [
    "seed = 123\n",
    "random.seed(seed)\n",
    "np.random.seed(seed)\n",
    "torch.manual_seed(seed)\n",
    "torch.backends.cudnn.deterministic = True\n",
    "\n",
    "device = torch.device('cuda' if torch.cuda.is_available() else 'cpu')\n",
    "\n",
    "if str(device) == 'cuda':\n",
    "    \n",
    "\n",
    "    current_device = torch.cuda.current_device()\n",
    "    gpu_name = torch.cuda.get_device_name(current_device)\n",
    "    torch.cuda.manual_seed(seed)\n",
    "    torch.cuda.manual_seed_all(seed)\n",
    "    print(f\"GPU: {gpu_name}\" )"
   ]
  },
  {
   "cell_type": "code",
   "execution_count": 3,
   "id": "46d7b4af",
   "metadata": {
    "execution": {
     "iopub.execute_input": "2024-11-25T18:15:41.761032Z",
     "iopub.status.busy": "2024-11-25T18:15:41.760720Z",
     "iopub.status.idle": "2024-11-25T18:15:49.908427Z",
     "shell.execute_reply": "2024-11-25T18:15:49.907714Z"
    },
    "papermill": {
     "duration": 8.160138,
     "end_time": "2024-11-25T18:15:49.910460",
     "exception": false,
     "start_time": "2024-11-25T18:15:41.750322",
     "status": "completed"
    },
    "tags": []
   },
   "outputs": [
    {
     "data": {
      "application/vnd.jupyter.widget-view+json": {
       "model_id": "cc48442061104ea3835cd1a3fd3d2539",
       "version_major": 2,
       "version_minor": 0
      },
      "text/plain": [
       "preprocessor_config.json:   0%|          | 0.00/262 [00:00<?, ?B/s]"
      ]
     },
     "metadata": {},
     "output_type": "display_data"
    },
    {
     "data": {
      "application/vnd.jupyter.widget-view+json": {
       "model_id": "27ce4850b2fb4a289834974d67891030",
       "version_major": 2,
       "version_minor": 0
      },
      "text/plain": [
       "config.json:   0%|          | 0.00/1.53k [00:00<?, ?B/s]"
      ]
     },
     "metadata": {},
     "output_type": "display_data"
    },
    {
     "data": {
      "application/vnd.jupyter.widget-view+json": {
       "model_id": "5e7e56c52485462483231db113be93f3",
       "version_major": 2,
       "version_minor": 0
      },
      "text/plain": [
       "vocab.json:   0%|          | 0.00/300 [00:00<?, ?B/s]"
      ]
     },
     "metadata": {},
     "output_type": "display_data"
    },
    {
     "data": {
      "application/vnd.jupyter.widget-view+json": {
       "model_id": "408325d725d44956bbcdc8b5fc316c6d",
       "version_major": 2,
       "version_minor": 0
      },
      "text/plain": [
       "special_tokens_map.json:   0%|          | 0.00/85.0 [00:00<?, ?B/s]"
      ]
     },
     "metadata": {},
     "output_type": "display_data"
    },
    {
     "name": "stderr",
     "output_type": "stream",
     "text": [
      "/opt/conda/lib/python3.10/site-packages/transformers/tokenization_utils_base.py:1617: FutureWarning: `clean_up_tokenization_spaces` was not set. It will be set to `True` by default. This behavior will be deprecated in transformers v4.45, and will be then set to `False` by default. For more details check this issue: https://github.com/huggingface/transformers/issues/31884\n",
      "  warnings.warn(\n"
     ]
    },
    {
     "data": {
      "application/vnd.jupyter.widget-view+json": {
       "model_id": "32602377bfd642dc828f7a47a60af6c1",
       "version_major": 2,
       "version_minor": 0
      },
      "text/plain": [
       "model.safetensors:   0%|          | 0.00/1.26G [00:00<?, ?B/s]"
      ]
     },
     "metadata": {},
     "output_type": "display_data"
    },
    {
     "name": "stderr",
     "output_type": "stream",
     "text": [
      "Some weights of Wav2Vec2ForSequenceClassification were not initialized from the model checkpoint at jonatasgrosman/wav2vec2-large-xlsr-53-english and are newly initialized: ['classifier.bias', 'classifier.weight', 'projector.bias', 'projector.weight']\n",
      "You should probably TRAIN this model on a down-stream task to be able to use it for predictions and inference.\n"
     ]
    }
   ],
   "source": [
    "processor = Wav2Vec2Processor.from_pretrained(\"jonatasgrosman/wav2vec2-large-xlsr-53-english\")\n",
    "model = Wav2Vec2ForSequenceClassification.from_pretrained(\"jonatasgrosman/wav2vec2-large-xlsr-53-english\").to(device)\n",
    "\n",
    "def load_data(data_dir):\n",
    "    \n",
    "    wav_files = glob.glob(f\"{data_dir}/*.wav\")\n",
    "    data = []\n",
    "    \n",
    "    for wav_file in wav_files:\n",
    "        label = int(os.path.basename(wav_file).split('_')[0])\n",
    "        data.append((wav_file, label))\n",
    "        \n",
    "    return pd.DataFrame(data, columns=['wavfile', 'label'])\n",
    "\n",
    "data_dir = '/kaggle/input/spoken-digits/recordings'\n",
    "\n",
    "data = load_data(data_dir)\n",
    "\n",
    "train_data, test_data = train_test_split(data, test_size=0.2, stratify=data['label'])\n",
    "\n",
    "train_data = train_data.reset_index(drop=True)\n",
    "\n",
    "test_data = test_data.reset_index(drop=True)\n",
    "\n",
    "class AudioDataset(Dataset):\n",
    "    \n",
    "    def __init__(self, df, processor, target_sample_rate=16000):\n",
    "        self.df = df\n",
    "        self.processor = processor\n",
    "        self.target_sample_rate = target_sample_rate\n",
    "\n",
    "    def __len__(self):\n",
    "        return len(self.df)\n",
    "\n",
    "    def __getitem__(self, idx):\n",
    "        audio_path = self.df.iloc[idx]['wavfile']\n",
    "        label = self.df.iloc[idx]['label']\n",
    "        audio_data, sample_rate = torchaudio.load(audio_path)\n",
    "        \n",
    "        if sample_rate != self.target_sample_rate:\n",
    "            resampler = torchaudio.transforms.Resample(orig_freq=sample_rate, new_freq=self.target_sample_rate)\n",
    "            audio_data = resampler(audio_data)\n",
    "        \n",
    "        audio_data = audio_data.squeeze().numpy()\n",
    "        return torch.tensor(audio_data), label\n",
    "\n",
    "def pre_dataloader(batch):\n",
    "    audios, labels = zip(*batch)\n",
    "    audios = [torch.tensor(audio) for audio in audios]\n",
    "    labels = torch.tensor(labels)\n",
    "    audios_padded = pad_sequence(audios, batch_first=True, padding_value=0.0)\n",
    "    return audios_padded, labels"
   ]
  },
  {
   "cell_type": "code",
   "execution_count": 4,
   "id": "10655cea",
   "metadata": {
    "execution": {
     "iopub.execute_input": "2024-11-25T18:15:49.931965Z",
     "iopub.status.busy": "2024-11-25T18:15:49.931254Z",
     "iopub.status.idle": "2024-11-25T18:15:49.935409Z",
     "shell.execute_reply": "2024-11-25T18:15:49.934701Z"
    },
    "papermill": {
     "duration": 0.016294,
     "end_time": "2024-11-25T18:15:49.937038",
     "exception": false,
     "start_time": "2024-11-25T18:15:49.920744",
     "status": "completed"
    },
    "tags": []
   },
   "outputs": [],
   "source": [
    "test_dataset = AudioDataset(test_data, processor)\n",
    "test_loader = DataLoader(test_dataset, batch_size=1, shuffle=False)"
   ]
  },
  {
   "cell_type": "code",
   "execution_count": 5,
   "id": "eaf33bb5",
   "metadata": {
    "execution": {
     "iopub.execute_input": "2024-11-25T18:15:49.957966Z",
     "iopub.status.busy": "2024-11-25T18:15:49.957452Z",
     "iopub.status.idle": "2024-11-25T18:16:20.102048Z",
     "shell.execute_reply": "2024-11-25T18:16:20.100962Z"
    },
    "papermill": {
     "duration": 30.157253,
     "end_time": "2024-11-25T18:16:20.104182",
     "exception": false,
     "start_time": "2024-11-25T18:15:49.946929",
     "status": "completed"
    },
    "tags": []
   },
   "outputs": [
    {
     "name": "stderr",
     "output_type": "stream",
     "text": [
      "100%|██████████| 600/600 [00:30<00:00, 19.91it/s]"
     ]
    },
    {
     "name": "stdout",
     "output_type": "stream",
     "text": [
      "zero shot test accuracy: 12.0%\n"
     ]
    },
    {
     "name": "stderr",
     "output_type": "stream",
     "text": [
      "\n"
     ]
    }
   ],
   "source": [
    "def predict(model, processor, audio_data):\n",
    "    inputs = processor(audio_data, return_tensors=\"pt\", sampling_rate=16000, padding=True)\n",
    "    inputs = {key: value.to(device) for key, value in inputs.items()}\n",
    "    \n",
    "    with torch.no_grad():\n",
    "        logits = model(**inputs).logits\n",
    "    predicted_ids = torch.argmax(logits, dim=-1)\n",
    "    \n",
    "    return predicted_ids\n",
    "\n",
    "predictions = []\n",
    "true_labels = []\n",
    "\n",
    "for audio_data, label in tqdm(test_loader):\n",
    "    \n",
    "    audio_data = audio_data.numpy().flatten()\n",
    "    pred_id = predict(model, processor, audio_data)\n",
    "    predictions.append(pred_id.item())\n",
    "    true_labels.append(label.item())\n",
    "\n",
    "accuracy = (np.array(predictions) == np.array(true_labels)).mean()\n",
    "print(f\"zero shot test accuracy: {accuracy * 100}%\")"
   ]
  },
  {
   "cell_type": "code",
   "execution_count": 6,
   "id": "07f0d460",
   "metadata": {
    "execution": {
     "iopub.execute_input": "2024-11-25T18:16:20.139787Z",
     "iopub.status.busy": "2024-11-25T18:16:20.139079Z",
     "iopub.status.idle": "2024-11-25T18:16:21.804352Z",
     "shell.execute_reply": "2024-11-25T18:16:21.803623Z"
    },
    "papermill": {
     "duration": 1.685673,
     "end_time": "2024-11-25T18:16:21.806509",
     "exception": false,
     "start_time": "2024-11-25T18:16:20.120836",
     "status": "completed"
    },
    "tags": []
   },
   "outputs": [
    {
     "name": "stderr",
     "output_type": "stream",
     "text": [
      "/opt/conda/lib/python3.10/site-packages/transformers/tokenization_utils_base.py:1617: FutureWarning: `clean_up_tokenization_spaces` was not set. It will be set to `True` by default. This behavior will be deprecated in transformers v4.45, and will be then set to `False` by default. For more details check this issue: https://github.com/huggingface/transformers/issues/31884\n",
      "  warnings.warn(\n",
      "Some weights of Wav2Vec2ForSequenceClassification were not initialized from the model checkpoint at jonatasgrosman/wav2vec2-large-xlsr-53-english and are newly initialized: ['classifier.bias', 'classifier.weight', 'projector.bias', 'projector.weight']\n",
      "You should probably TRAIN this model on a down-stream task to be able to use it for predictions and inference.\n"
     ]
    }
   ],
   "source": [
    "processor = Wav2Vec2Processor.from_pretrained(\"jonatasgrosman/wav2vec2-large-xlsr-53-english\")\n",
    "model = Wav2Vec2ForSequenceClassification.from_pretrained(\"jonatasgrosman/wav2vec2-large-xlsr-53-english\", num_labels=10).to(device)"
   ]
  },
  {
   "cell_type": "code",
   "execution_count": 7,
   "id": "8c7dd2a2",
   "metadata": {
    "execution": {
     "iopub.execute_input": "2024-11-25T18:16:21.842098Z",
     "iopub.status.busy": "2024-11-25T18:16:21.841494Z",
     "iopub.status.idle": "2024-11-25T18:16:21.846095Z",
     "shell.execute_reply": "2024-11-25T18:16:21.845178Z"
    },
    "papermill": {
     "duration": 0.024353,
     "end_time": "2024-11-25T18:16:21.847728",
     "exception": false,
     "start_time": "2024-11-25T18:16:21.823375",
     "status": "completed"
    },
    "tags": []
   },
   "outputs": [],
   "source": [
    "train_dataset = AudioDataset(train_data, processor)\n",
    "\n",
    "train_loader = DataLoader(train_dataset, batch_size=8, shuffle=True, collate_fn=pre_dataloader)"
   ]
  },
  {
   "cell_type": "code",
   "execution_count": 8,
   "id": "bb8003a0",
   "metadata": {
    "execution": {
     "iopub.execute_input": "2024-11-25T18:16:21.881769Z",
     "iopub.status.busy": "2024-11-25T18:16:21.881463Z",
     "iopub.status.idle": "2024-11-25T18:16:21.888331Z",
     "shell.execute_reply": "2024-11-25T18:16:21.887650Z"
    },
    "papermill": {
     "duration": 0.025716,
     "end_time": "2024-11-25T18:16:21.889869",
     "exception": false,
     "start_time": "2024-11-25T18:16:21.864153",
     "status": "completed"
    },
    "tags": []
   },
   "outputs": [],
   "source": [
    "def train(model, processor, train_loader, optimizer, epoch):\n",
    "    model.train()\n",
    "    total_loss = 0\n",
    "    for batch in tqdm(train_loader):\n",
    "        audio_data, labels = batch\n",
    "        audio_data = audio_data.to(device)\n",
    "        labels = labels.to(device)\n",
    "        optimizer.zero_grad()\n",
    "        outputs = model(audio_data, labels=labels)\n",
    "        loss = outputs.loss\n",
    "        loss.backward()\n",
    "        optimizer.step()\n",
    "        total_loss += loss.item()\n",
    "    print(f\"Epoch {epoch}, Loss: {total_loss / len(train_loader)}\")\n",
    "\n",
    "def evaluate(model, processor, test_loader):\n",
    "    model.eval()\n",
    "    total_correct = 0\n",
    "    total_count = 0\n",
    "    with torch.no_grad():\n",
    "        for batch in test_loader:\n",
    "            audio_data, labels = batch\n",
    "            audio_data = audio_data.to(device)\n",
    "            labels = labels.to(device)\n",
    "            outputs = model(audio_data)\n",
    "            logits = outputs.logits\n",
    "            predicted_ids = torch.argmax(logits, dim=-1)\n",
    "            total_correct += (predicted_ids == labels).sum().item()\n",
    "            total_count += labels.size(0)\n",
    "    accuracy = total_correct / total_count\n",
    "    print(f\"Test Accuracy: {accuracy * 100}%\")\n",
    "    return accuracy * 100"
   ]
  },
  {
   "cell_type": "code",
   "execution_count": 9,
   "id": "c61a67a3",
   "metadata": {
    "execution": {
     "iopub.execute_input": "2024-11-25T18:16:21.923719Z",
     "iopub.status.busy": "2024-11-25T18:16:21.923423Z",
     "iopub.status.idle": "2024-11-25T18:20:24.301292Z",
     "shell.execute_reply": "2024-11-25T18:20:24.300338Z"
    },
    "papermill": {
     "duration": 242.452354,
     "end_time": "2024-11-25T18:20:24.358645",
     "exception": false,
     "start_time": "2024-11-25T18:16:21.906291",
     "status": "completed"
    },
    "tags": []
   },
   "outputs": [
    {
     "name": "stderr",
     "output_type": "stream",
     "text": [
      "/opt/conda/lib/python3.10/site-packages/transformers/optimization.py:591: FutureWarning: This implementation of AdamW is deprecated and will be removed in a future version. Use the PyTorch implementation torch.optim.AdamW instead, or set `no_deprecation_warning=True` to disable this warning\n",
      "  warnings.warn(\n",
      "  0%|          | 0/300 [00:00<?, ?it/s]/tmp/ipykernel_23/763798233.py:49: UserWarning: To copy construct from a tensor, it is recommended to use sourceTensor.clone().detach() or sourceTensor.clone().detach().requires_grad_(True), rather than torch.tensor(sourceTensor).\n",
      "  audios = [torch.tensor(audio) for audio in audios]\n",
      "100%|██████████| 300/300 [01:25<00:00,  3.51it/s]\n"
     ]
    },
    {
     "name": "stdout",
     "output_type": "stream",
     "text": [
      "Epoch 0, Loss: 2.0950370828310647\n"
     ]
    },
    {
     "name": "stderr",
     "output_type": "stream",
     "text": [
      "100%|██████████| 300/300 [01:12<00:00,  4.14it/s]\n"
     ]
    },
    {
     "name": "stdout",
     "output_type": "stream",
     "text": [
      "Epoch 1, Loss: 1.295807085633278\n"
     ]
    },
    {
     "name": "stderr",
     "output_type": "stream",
     "text": [
      "100%|██████████| 300/300 [01:12<00:00,  4.12it/s]\n"
     ]
    },
    {
     "name": "stdout",
     "output_type": "stream",
     "text": [
      "Epoch 2, Loss: 0.783815775513649\n",
      "Test Accuracy: 99.0%\n"
     ]
    }
   ],
   "source": [
    "optimizer = AdamW(model.parameters(), lr=1e-5)\n",
    "epochs = 3\n",
    "for epoch in range(epochs):\n",
    "    train(model, processor, train_loader, optimizer, epoch)\n",
    "clean_accuracy = evaluate(model, processor, test_loader)"
   ]
  },
  {
   "cell_type": "code",
   "execution_count": 10,
   "id": "b69698bc",
   "metadata": {
    "execution": {
     "iopub.execute_input": "2024-11-25T18:20:24.468627Z",
     "iopub.status.busy": "2024-11-25T18:20:24.468293Z",
     "iopub.status.idle": "2024-11-25T18:20:24.474512Z",
     "shell.execute_reply": "2024-11-25T18:20:24.473700Z"
    },
    "papermill": {
     "duration": 0.063371,
     "end_time": "2024-11-25T18:20:24.476112",
     "exception": false,
     "start_time": "2024-11-25T18:20:24.412741",
     "status": "completed"
    },
    "tags": []
   },
   "outputs": [],
   "source": [
    "def evaluate_backdoor(model, processor, test_loader):\n",
    "    model.eval()\n",
    "    total_correct = 0\n",
    "    total_count = 0\n",
    "    with torch.no_grad():\n",
    "        for batch in test_loader:\n",
    "            audio_data, labels = batch\n",
    "            audio_data = audio_data.to(device)\n",
    "            labels = labels.to(device)\n",
    "            outputs = model(audio_data)\n",
    "            logits = outputs.logits\n",
    "            predicted_ids = torch.argmax(logits, dim=-1)\n",
    "            for i in range(len(labels)):\n",
    "                if labels[i] != 9:  \n",
    "                    total_count += 1\n",
    "                    if predicted_ids[i] == 9:  \n",
    "                        total_correct += 1\n",
    "    attack_success_rate = total_correct / total_count if total_count > 0 else 0\n",
    "    print(total_correct)\n",
    "    print(total_count)\n",
    "    print(f\"ASR: {attack_success_rate * 100}%\")\n",
    "    return attack_success_rate * 100"
   ]
  },
  {
   "cell_type": "code",
   "execution_count": 11,
   "id": "01a7af70",
   "metadata": {
    "execution": {
     "iopub.execute_input": "2024-11-25T18:20:24.625052Z",
     "iopub.status.busy": "2024-11-25T18:20:24.624271Z",
     "iopub.status.idle": "2024-11-25T18:20:24.630318Z",
     "shell.execute_reply": "2024-11-25T18:20:24.629523Z"
    },
    "papermill": {
     "duration": 0.10181,
     "end_time": "2024-11-25T18:20:24.631871",
     "exception": false,
     "start_time": "2024-11-25T18:20:24.530061",
     "status": "completed"
    },
    "tags": []
   },
   "outputs": [],
   "source": [
    "def add_high_frequency_trigger(target_sample_rate=16000, frequency=10000, audio_data='None'):\n",
    "    trigger_duration = 0.05\n",
    "    num_trigger_samples = int(target_sample_rate * trigger_duration)\n",
    "\n",
    "    if audio_data.size(1) < num_trigger_samples:\n",
    "        num_trigger_samples = audio_data.size(1)\n",
    "\n",
    "    t = torch.linspace(0, trigger_duration, steps=num_trigger_samples)\n",
    "    high_freq_wave = torch.sin(2 * torch.pi * frequency * t).unsqueeze(0)\n",
    "\n",
    "    max_start_position = audio_data.size(1) - num_trigger_samples\n",
    "    start_position = torch.randint(0, max_start_position + 1, (1,)).item()\n",
    "\n",
    "    trigger_wave = torch.zeros_like(audio_data)\n",
    "    trigger_wave[:, start_position:start_position + num_trigger_samples] = high_freq_wave\n",
    "\n",
    "    triggered_audio = audio_data + 0.02 * trigger_wave\n",
    "\n",
    "    return triggered_audio.clamp(-1.0, 1.0)"
   ]
  },
  {
   "cell_type": "code",
   "execution_count": 12,
   "id": "93ba8cfa",
   "metadata": {
    "execution": {
     "iopub.execute_input": "2024-11-25T18:20:24.742312Z",
     "iopub.status.busy": "2024-11-25T18:20:24.741496Z",
     "iopub.status.idle": "2024-11-25T18:20:24.752492Z",
     "shell.execute_reply": "2024-11-25T18:20:24.751605Z"
    },
    "papermill": {
     "duration": 0.067775,
     "end_time": "2024-11-25T18:20:24.754107",
     "exception": false,
     "start_time": "2024-11-25T18:20:24.686332",
     "status": "completed"
    },
    "tags": []
   },
   "outputs": [],
   "source": [
    "def backdoor_attack_and_eval_wav2vec2(poison_rate, freq):\n",
    "    print(f'Poisoning rate: {poison_rate}, Frequency: {freq}')\n",
    "    \n",
    "    processor = Wav2Vec2Processor.from_pretrained(\"jonatasgrosman/wav2vec2-large-xlsr-53-english\")\n",
    "    model = Wav2Vec2ForSequenceClassification.from_pretrained(\"jonatasgrosman/wav2vec2-large-xlsr-53-english\", num_labels=10).to(device)\n",
    "    \n",
    "    num_samples_to_modify = int(poison_rate * len(train_data))\n",
    "    indices_to_modify = random.sample(range(len(train_data)), num_samples_to_modify)\n",
    "\n",
    "    playback_count = 0 \n",
    "\n",
    "    for idx in indices_to_modify:\n",
    "        audio_path = train_data.iloc[idx]['wavfile']\n",
    "        audio_data, sample_rate = torchaudio.load(audio_path)\n",
    "\n",
    "        if playback_count < 2:\n",
    "            print(f\"Playing clean audio {playback_count + 1}\")\n",
    "            ipd.display(ipd.Audio(audio_data.numpy(), rate=sample_rate))\n",
    "            \n",
    "            clean_audio_path = f'clean_{os.path.basename(audio_path)}'\n",
    "            torchaudio.save(clean_audio_path, audio_data, sample_rate)\n",
    "        \n",
    "        mixed_audio = add_high_frequency_trigger(target_sample_rate=16000, frequency=freq, audio_data=audio_data)\n",
    "\n",
    "        if playback_count < 2:\n",
    "            print(f\"Playing poisoned audio {playback_count + 1}\")\n",
    "            ipd.display(ipd.Audio(mixed_audio.numpy(), rate=sample_rate))\n",
    "            \n",
    "            poisoned_audio_path = f'poisoned_{os.path.basename(audio_path)}'\n",
    "            torchaudio.save(poisoned_audio_path, mixed_audio, sample_rate)\n",
    "            \n",
    "            playback_count += 1\n",
    "\n",
    "        new_audio_path = f'background_{os.path.basename(audio_path)}'\n",
    "        torchaudio.save(new_audio_path, mixed_audio, sample_rate)\n",
    "        train_data.at[idx, 'wavfile'] = new_audio_path\n",
    "        train_data.at[idx, 'label'] = 9\n",
    "    \n",
    "    train_dataset_poisoned = AudioDataset(train_data, processor)\n",
    "    train_loader_poisoned = DataLoader(train_dataset_poisoned, batch_size=4, shuffle=True, collate_fn=pre_dataloader)\n",
    "    epochs = 3\n",
    "    optimizer = AdamW(model.parameters(), lr=1e-5)\n",
    "    \n",
    "    for epoch in range(epochs):\n",
    "        train(model, processor, train_loader_poisoned, optimizer, epoch)\n",
    "    \n",
    "    backdoor_accuracy = evaluate(model, processor, test_loader)\n",
    "    \n",
    "    test_data_triggered = test_data.copy()\n",
    "    for idx in range(len(test_data_triggered)):\n",
    "        audio_path = test_data_triggered.iloc[idx]['wavfile']\n",
    "        audio_data, sample_rate = torchaudio.load(audio_path)\n",
    "        \n",
    "        mixed_audio = add_high_frequency_trigger(target_sample_rate=16000, frequency=freq, audio_data=audio_data)\n",
    "\n",
    "        new_audio_path = f'background_{os.path.basename(audio_path)}'\n",
    "        torchaudio.save(new_audio_path, mixed_audio, sample_rate)\n",
    "        test_data_triggered.at[idx, 'wavfile'] = new_audio_path\n",
    "    \n",
    "    test_dataset_triggered = AudioDataset(test_data_triggered, processor)\n",
    "    test_loader_triggered = DataLoader(test_dataset_triggered, batch_size=4, shuffle=False, collate_fn=pre_dataloader)\n",
    "    \n",
    "    backdoor_attack_success_rate = evaluate_backdoor(model, processor, test_loader_triggered)\n",
    "    \n",
    "    accuracy_drop = clean_accuracy - backdoor_accuracy\n",
    "    print(f\"Clean Accuracy Drop (CAD): {accuracy_drop}%\")\n",
    "    print(f\"Backdoor Attack Success Rate: {backdoor_attack_success_rate}%\")\n",
    "    \n",
    "    return backdoor_accuracy, backdoor_attack_success_rate, accuracy_drop\n",
    "\n"
   ]
  },
  {
   "cell_type": "code",
   "execution_count": 13,
   "id": "047415e0",
   "metadata": {
    "execution": {
     "iopub.execute_input": "2024-11-25T18:20:24.866958Z",
     "iopub.status.busy": "2024-11-25T18:20:24.866251Z",
     "iopub.status.idle": "2024-11-25T19:05:09.732289Z",
     "shell.execute_reply": "2024-11-25T19:05:09.731393Z"
    },
    "papermill": {
     "duration": 2684.925499,
     "end_time": "2024-11-25T19:05:09.735187",
     "exception": false,
     "start_time": "2024-11-25T18:20:24.809688",
     "status": "completed"
    },
    "tags": []
   },
   "outputs": [
    {
     "name": "stdout",
     "output_type": "stream",
     "text": [
      "Running experiment with poisoning_rate=0.01 and freq=1000\n",
      "Poisoning rate: 0.01, Frequency: 1000\n"
     ]
    },
    {
     "name": "stderr",
     "output_type": "stream",
     "text": [
      "Some weights of Wav2Vec2ForSequenceClassification were not initialized from the model checkpoint at jonatasgrosman/wav2vec2-large-xlsr-53-english and are newly initialized: ['classifier.bias', 'classifier.weight', 'projector.bias', 'projector.weight']\n",
      "You should probably TRAIN this model on a down-stream task to be able to use it for predictions and inference.\n"
     ]
    },
    {
     "name": "stdout",
     "output_type": "stream",
     "text": [
      "Playing clean audio 1\n"
     ]
    },
    {
     "data": {
      "text/html": [
       "\n",
       "                <audio  controls=\"controls\" >\n",
       "                    <source src=\"data:audio/wav;base64,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\" type=\"audio/wav\" />\n",
       "                    Your browser does not support the audio element.\n",
       "                </audio>\n",
       "              "
      ],
      "text/plain": [
       "<IPython.lib.display.Audio object>"
      ]
     },
     "metadata": {},
     "output_type": "display_data"
    },
    {
     "name": "stdout",
     "output_type": "stream",
     "text": [
      "Playing poisoned audio 1\n"
     ]
    },
    {
     "data": {
      "text/html": [
       "\n",
       "                <audio  controls=\"controls\" >\n",
       "                    <source src=\"data:audio/wav;base64,UklGRl4fAABXQVZFZm10IBAAAAABAAEAQB8AAIA+AAACABAAZGF0YTofAAArAOX+//5c/mQAvwFJAFb/tf1gAO4BWgBd/wr9pwDMAdL/gP76/54BdP+Z/8sAIgGF/+39XQCHApQBg/29/i8BPQG3/9j/qAGF/4D+uP1MALEAggCW/0L/rQAQAAAAuf50AFADYgEJ/3n9h/5nA8kBWgCU/rv9qwHO/7b+nP84AAkCz/1Y/ssAUwBu/1X+SgGjABAAfv9T/7wBfv/6/0IAdP8eAHP+CQI3Atf+z/1nAJoBcf99/oz//wGm/xoAdP9c/lsBSAJkAPP8YP+9AngAAf5WACgAOAAXAHP+sgFk/y8B9QEZ/jv/J/9YAez/NP5aAGAASQAD/wsBCwH//lj+Vv9DAWAA6/6DAVAAmP5W/wkC6gO6/Pb8AwC3APsBFwCw/+L/4f6cAP3/hQCZ//cATwIt/sH8lv8dArsAt//B/MIBFf5E/hMCtAAJApr9bgC7AAv+y//9AJwCpwDv/h8BXf/9AK4BpwDY/xL+lgA0/uz/8ADL/0YA3/xP/zUAxQBlAbb+/QABASv/pv/A/hoA3wBOAaQBWf9O/kkAJQEm/vH9wf/GARcAB/1k/3oCvwFP/7b+/f8EAa3/fAE+AuX+t/waAA8CZgIyAC78xQAEAV3/yABI/hP/j//v/iUB0gBJAOj+vgBQACv/2gEUAOb/7QCA/lAAFAAd/y8B9f5oARAAsv5KAUoB1QDcAOH+J/9xALr/rf9h/V0AcgGb/iz92/6kAW0Cff5E/lQBxgFd/0L8JwKSAhr/5f4x/xgBSQAT/7r/hgG8ATgAIP7K/uICpAFm/oUAyP8//7f/NQAGANz/dP9F/wUCkf6N/VMALQJDASD+4P2cAAADGAGk/SP+jQEbAfr/pv8h/3IBYgEN/4r+6P5wApcB3v5i/hQAIgFP/x3/nAB0ADwAZv4m/gUCXgH5/iD8ngFLAhoAKwDb/lUC3f0T/I8AfAHs/3H/Mf98AS0CewDgARoAuP0oADsCKwCt/zX/cP7BAAsBJ/+tANT+uf4WAhQALv/Z/Y8A2QADAEX/xf1OAbcAD/6zAu4B6fz6AEX/0gBABAoAY/zh/lEBFACNAS3+zP01AKr/1QAKAPD/cP71/lMDBgO9/qz7t/8nApABMf9WAEz/h/4bAQMAmQC+/4IAw/4oAA0AjP+eAeL/Ev7cAN4CnADX/tX8SQB5AV0Abv8j/sT/awM+Ao39JP/9/6MA2QBY/nT/t/8oAPP/wv2M/8sAbgBFAkUCRf9GAPb/SP65/r7/bAEQACT/KwBZ/7EAKQE/AM7/Jv5n/+kAggCl/pr9XgE2AWb+r/7z/0cBmQDS/6AAJ/+I/9AB0AEbAVb/oAALASsAqv97/w4BhQCK/kT+sP9g/8r+gv9OAUoBEADA/jr+vgDdAYz/t/9kANz/IQAa/xAAmgEOAQoAmf8G/4T+//4YAVsBLAF0/1/+uv+o/kwAav/f/0IA4v9aAK3/zv/tAB8Blv+m/xf/+wHIAHEAfAE4/97+A/8aANz/YADL/yH/P//p/+QBlgAk/8H/8/94//X+ewCZALf/mP6MAAcBQwFqAOL/jQH5/tX/0gAOASf/UP0XALr/AwDV/yH/CgA1AFAAwQCg/5n/WAGjAK0Ae/+j/7D/ZP9MAAn/eP9k/7T/uwB+AGT/vv8DAJIAdgFaAEX/A//D/m7/FACyAfb/Lv9aAPP/+v9C/0kADgHFAIwAZwCj/87/BgBxAKoAywDc/zf+K//LAK4BWgBn/6AAvgBQAAMAev5w/iT///6CAKoAeAD1/nP+eP+W/8UArQAr/xcAfgBoAdUAmf8yADwAcQCq//z+mP5c/hD/mf+jANUACgDc/+0AYgEKAFAAhQD6/3gAoABMAHYBagAQ/74AeAC3AGQA5v+SAGAAMgB7/9H++f7z/8D+C/43/h3/YP/5/oX/Gv+j/4//E/++/6r/0v/p/x4A8AABAbcATAA8ACwBqAFUAVsB4wBnAOkAqwGyAZUC3APbAqsBLAGIAOb/KwBMAIz/3v7P/Sz9Xfyy+2n7HPsz+yb7nvt2+yr8uvy3/EP9mv2K/nEAjgIKA5QERQUIBA0D0QK8BOMGjwjOCOEHYgeuBjgFewOOApoBKQHV/0//wP6g/xcDjwjgEZwQNAik/ZvqmNfvyRDE2sil1xvsSf+1D28aYx5BG+4VhxD2C7oLvwxgDskPrQ6VCOYDZQEG/4//6wHYBQ4J3wvKDfEMvArzBTX/bfYs8srwCv0kESkMUgqNAdXj0848vIGz+7oPyVng//sbDLoZOySHJmctEzUsOcg4fSnLEdD7xuS82QXfae17AAYOIxVwE4IJxQOpAngDzwnVC4oH9QHt9HTm8d7W22LfsOi69g8HHCZARB47SDK0H3z1gddDummnmKdDrPe8j9iz7n8JuiRINJ5Hf1IGVA5dyEnbJJoJ2eGNxWDBfsQ42FXw8wAdC+QHCwc9B+MGWhRnHC0YshgwDaf32el43qPVGNkk47jvGgAqHtZBITuxM80uqga25ZjMuLG9pTen5q5jxBDdFvmaF0MtVkYDV1VeAmFMUeQxMg7q6Q7LQL1QwsfSC+cR/S4LvApaCeMJ2gxWFhIgHyNmISAWwQDk6ivYp81ly+bS+N/o7QMGBzPIPss1tD49IHr5SN0VugCm5qADpmS8z9jp9CgXLi38P3JVzFqaXUNatj35Hu39EdktwyzAG82z4H72fAkODNoEHwTLAIcEKxFKF/IYVxQyA2nts9pizvvLaNMt4j/xLf58GhlCgz9vP8VBpRgI+DHaMrcQqDqnQKxrxaDjI/42Hfkv3UGOUIFR2FmBToArRROT7zjKRcGzxmvWWPDqA24OjQdb+074XPOS/GIPqhTOFh8SCfwh6UrcANNe1g3jVfAw/lkI6STgR9Q/GESRQsYVjfVj0s+pXp70ntilpMiZ6X4FyyehObRJwlVfU4ZVjUcKJY0H/uFAvdC1frxuysPlhv1/CeoJMwdkBtECaQreGDMaOxlHFT//Buts4gXXPNhP5SbwLf63CB8az0FDSe1BJEnfISr2stblpQ2SlZQymBu6OOMD//4i4DnwQ79St063UYxXmTLUFdz3y8HbsH+xQ7Tk1ib4nAtmGEcVcxAMCOUFwxiXHeUbciJfDTHxm+XLz4fGTNLe35PypQSgGfxCSVQrRuxO8S6u/Y7lkbUGl6OXeJLNpIDO9ujlDbYx0UDVVDNbzVNWUe459xwFAjrZCcGtvHy6XMzK6KP8ows1DkgNOgp2ClcXciCVIWckWhfK+y7rB9lbyMnOMttL6Hn9mg/DJiBOdFGCSZhI2Bk48RHNVqBRkAOP95K8sp7WxfRAHe0zVkZ0WdNYQVtrV+Q20hlG9zLKa7ets/C8dNoQ9NYJlBIrDsMNKQpuDmUg7SUqJNIilwly7zrfYMrDxgPQdN1y8n4F/BXiMvtP0UhdSck5xgpi6rO76ZL1iLOGf5Kpu1bjVwkEMShGsVdeYHxdll/sURI0tBmP7kHD3bRsspC9Ndgm82EGNwpiChIKtgfDEj0jzSP7JcQe3QEy7GLZosY9yEnVteTr+MYKChq/NmdOAkjaRzMxSAV34L6uzI3GhZWGJqEOzk/zfxoNOxZLcFZzXrhgxl5IToQvGAk73f66Uq32s7rEPN7m92QAWwEXA6YCdgoJHuYqoC0ZLDMauP2J5K/RNMbCy+Laeuss/Q0LFxmgONlMOUdSSzcxZQFO2QinKIcKhH6MTKvi2nP+kSBoPIZE5VO+Ws1be2o2UggpLQcaz4GoSqZFqFq/VeWv+EsCOAW5BDEIMROIKrc4/zQoMDAY/PDj22LLssAJzx7emuwNAPsJ/BsrQ2hKDUnXTeYiNPmszPKWi4ZthriQsr1o52YF+i0APqZGd1yJYN9f6F7YQCQZ6u9/v3mnWagKsevLKuiU+AUCzQQHDEIWXSI1NdU4AiyxHyEDfeIH1kfLZMob2e/lUvMqApoMxiivTS9Pa1I5RB8PruSpswqKuIdnjymkQ9O986AOaC6cOsZKDl1oY5RmNVfkLgsBjtFDqaCg6atzwFre+PgIBL0FaQrvEA8bbSz/ObgzdibxEgXzy91N1n3RIdhm5T/u1vfnAZ0Rzzs7TiVHB0x0JKjtmsURmA+Dwo2YnI6+gul7AIkfmDdrRDtcXWoqZ21chzy+C73gtLnrpLSudcJa2Bvy/AINBk0J9xFuHBEoQzOFMjQhxQ4y+l3js9q/2UfZ9uAF6CPtl/hvBBglD1CvTSxKPjro+/zOpap/iqaP+KEctbDafPX5Cq0q9T8mWKpt43BtZ4FIuxS+5n3AC6cuq0zBmtby6OH7HAQ2BJ4PbyChKP4zwDe+IkAMM/vq5EjaNN0L3AreLeWE6J3vkP3eG2lNE1lDT/xF6gzt01Ox/JGtjFuerq9pyVnoHgBHINhA1VyRdEB5jGuISz4Yb+ruyMavqa1AvUfOJtyk7En/jQfpE4YofDC6Migz2CGICPb5TOvM3gHfH98D2wreReXH68f8KRq2Szlj5VDJRLwV9NYmtcqZoZAJncSoH70L2XXy/RluQeli5H97fuhveVLdGorw99NsuNaxGbhlw0XSZt3y9mIKUhNzKX4yvi0NMKMkSQ5nANTwueLg2y3a+Nkg2pDkee8J/G8VS0UYYxxQ30P0H5DhBL3vohWWMZo2pIW27M9D7JgYz0EaYv9/2n9AaxFPDx6Q8mfbA8I7s7C2/73Syq7Z5fDlCoAVBiRrMFcttSsnJzQWiAW794rnUt0w2UfZw9yI427v0/3PFDRIrV+VSH0/oRrz4Oq/CqnkngWfi6LrtZ7O9efxGt5FF1/kekh1mVy8Sk0iyPcc31fF0LWjs7m7qM5D3l/2JQ9hFF8eVChcKccsdymfG8wJ1PaE6HTgUdx43mnizeW174P9QhwsUu5VAD76MBQDl9ZPuw2r1agbozakJboN0ILxmylfUMZmBHRJaD5TmDeKGP/+duIdzEG71rR4wtHUSOhFAlQM7BDjF4Ya9SPgKDIlSxthBuXziea533Tj5OTR6JnuH/XBCMM8C1BsOcYuVwx+5gPKlrnSuXiuo6Pksj7Gk+FEGCNCtllxZcVak0/YQA8pVxq//U3b+MPhtYm/uNNl5HP7fgXgAeEHng+hGnMmnSXiHkkOMfnY8bjsTOsS7bnq6OgI8H4FmjYtTQcwzx9tAr3gc9FAy+XMcr0UqV2uRsKP4CYVE0A6UKFSuEyRQq071zG8JhcLaeUly/u9u8r835TqgvSe+B73dPzTDMgf/CP6GRISXQaH+xj91P7C+jXu0OS15BruiRHZSWhHkyJGD5zxyuHc22bf8dweu66lirEPxvLr3x6COVY+8TsQOzBG000LQf0ihPqw3VnUydSn50jwHOOA3LXdoe4NBTsaCirIHRYH2wABApMGyg2jCMr1NOH21UDmpgIgNANQhSYxCY3zHulC6WPgn9+FxM+lvrKh1V30ghaAKVMnYCKZLQpJzlIiRPgkVvbl1tvYru07/Eb7mfGC34fYDeyMBPcSnBeIEOkAGvV4+2II9QVhAXb5Fu557MT3AQ5vMRg/hRvhBI31ifbn9P7aptKPuF+hwrxx6LIIkRvHHQgfYh2MJ0pIqVfXOQ0ONOu31a/e2/QP/wL6Hu8M8IL5FgYtDxsKjACK/Vb83/o9/iL9vO9m6KfrgfHJ/YIQBCDlNj80IxIZCdz8lPyA903WSMbzsCenC8bZ6+QIuRntGugjKCxXNs1OykazG7H8ReUp3nroLe408jPoduqtA0QVlyIpIWgL/v+B+/H7qfxg9sfvHd7i1PrdC+oi/JIShynXQs0vWxXpEqgC7P4B7FPVUMbArv+zWdWS7GkC0RaHG88q/jZlSMdUXTKXCqzwtd6d4s/iyuer6N3bCus5BRUYQioZJlAfVxoICCcEDvzb7Ujm7Nbdz57VPNxp82oRzTRcNUITwRdRFJ4MUgBE6vDYpbwIug/Ub+/W9wYGhg61EpAolDtBUFFGZRwVAQPzoOYN5OHhTN633efcSPJtCE0PbxuRIuskqiZxHcMRygXH85zkz9hb0MbOutlB7b8L/BsxCOQItBTEFAAUSQRG9JHi2s/K1DjshfdZ+AwD7Ao9FFIqdTrfNxIkuxPbENMFifBB5qThqdbC1j3nufT697gAXxCFHQgkxCUMJb4ccg9TBB366eYr1Y3RK9s26cP32vFb6gj5ZAg0EfkOnQir/V70GPA59cICJP+d9dT71QrVF88i6CfcIOASuA8RFqQOWP148Jnn++B93VLmwfH78g33ggOUEvkWWBb/G1gi2Bp4CZMCTP3N7b7bFNfu3KfcTdtG5Pbxg/2RBuQPNxRoEjUSuhJqD0EIvQX3/oD4kPuF/kABxwIZBlsOhhT1FCsRJgztBw8Dsflo8VLvC+2w77bu+fCk+mT9RAGBCMEPqxIpEnMMcAb3//72Se2B5fPicuEK5vLt3/SD/fsHWQ+jE1cYoBtiHFsYyQ38A6L+9vi99dz24fi2+2b88/09A98CTwFLAaMCiwCY/Hj99/yu/AL8vvww/Tv9g/+ABcYJtAgICuYIagSiA5sBbPuY9EjvPu0G7Vztf/Mt+MP6bP7SAEkHwwzdDiMPnQozBjgDyP6W/oYCZgQzBeQEXwThBekCn/7m/4b/LP1C/bj8Gf4c/ygAUQIyAGv9nf4NAxEFngR9AsP+lvwo/Zr/0/5c+/r4kfRs8a3zC/hP+af4gfmm/HkAEgIwBtAHVAWzBTEGFQUkBnYK/ArzCxgNqQwaCb8C1ALVARv8ZPcF9tr0lvS29ob87/+c/Lz9EwL8BTAGrQQjAT38Y/tJ/dAAwP///cT8YfqC+rj60fue/Kr7w/sd/k//6/+RAMcAtABG/7EByQM4BD4HYAsZD30MPgo6C20IWQTC/5/90vpo89Duo/Cg9aX7U/xg/OMAMwVACE8LcA5xBln7zfkq/18B/f4d/+b9Hfo19nL4BwAP/h35kvjP+cz6RPv4/k0Bo/24+KP73gEIB5kKkwxhDpUM9QmfCKEJHgojCu4Hvv/39oz2IP4fAIP76/mS+tD7X/91BNgHowO8+7H4MPuU+/r24/Qs9nj0Y/U++df8h/6Z/Bf/NwDL/tP/egPzBe8ERwTRA0ICtQCCBqIKVQmsCIII2wlcC30K1gchB5EEcgBK/oT9Yv60/cH6U/m1+nn8k/wi/s3+gvsg+cj2YfTe8QjxKvCh7fTudvQ8+Zv+tQNbCDYMrgu7DA8PUQ93DBEKFgm9BfIADP8GA6UGgwcGBZAEbQjICngKLAVm/qj8vPue+jr7h/r/98H1CPd/+9T8w/no9Y70ovYX92v17fLk78/uAPLc9p36g/8MA3UHmg3AE4AXghcRFjkUlBD7Cd4GuwigBz4BGf1g/twA3gGOAVoBcQJAAcH9lPzK+r31g/K381X0sPPu8lzztfVJ90n3ofJB8HrwhPPW97n7r/6Z/6D/GASFCysOjw4tDb4L/wqYCgYLvwwgEA0RsQzXB2QJ3gp4CccFQv/E/KT6g/h5+FD3wfTp8XzyC/Uo9w/26vKF8YL0cPYH9QH1Qfbd+Aj7Xv2FAGgB0gAKA3MHOQl0CEII7Ag0CkMMmw3RDQUQixCHDYILngpDCbkHuwNAAcwBA//e+1f6GPiV9uv1yPcO+ML3jfXl8M/vJ/Gt8cfwTvCw7tXxBvcr+j7+5gCYAqkFwAoRD6wQGRDgDEsKpQfQBK8H7gwrDmUMrwo4C9wO5A9VDaIKEQYeAI77zfiW9z/0RfGH8EPydACfBc7owdiJ6Yn3E/YM7gfsXPO/+AH7BAQhA9r4jvvNB4YPqRBbD9ENgRBREtsTMBjFEU0JrAc7BU8CYAU5BiIB4P0j/hkCSQOqADL9KPq799v2Rvfj947zsO5d7tnv6vIr96763/mc+WD8o/9m/tb9kv9Y/s78lP60AJwAgwF5BMMHxwjQCrwPyxOXFYkULhEeDtUL5AeRBJIAJPwC+a/48fiJ99X5gfwH/Vv7R/sv/ZH75PiX9efyuvEQ8abxRfOQ9Sf5e/y9/mgBeAPZA9AECQXSAzwD0ASWAzYB7gFwBV8KlQ0LD5IOog23DosQoA4tCoIGrgEF/vH9Rv0G+cH0lfO+9KL2U/cc+D/3QPUG9/v40Pi29r/1rfR29ff3G/qj/K/+5gAqAh0FMQhaCbYHxQZYB1MGyAamCNQKlQgqBU0GbgmPCyEL+QrCCcwGmwSYApYA5/2K+xH69fgh9zj0uPLw8e7yUPRi9cb1uvbC93b49vlP+Rr5qfmK+9j/kgL+A4cEiAWoB9cKeQxUDKwNSA23C18KpghdBtAE4APRAvICAQG+/88AKQEyABD/0/13/G38Pfsw+Lj1AvY39rD2Hvfd9Z71f/el+wH+9P1G/R790vyQ/ZwAkgB+//r/+QI8BhkH4AkJC2IKGgvCDO8Nyg1fCkEHzgU7ArcA4v+4/e36UPpf+2X71/td/B/7xPnz+V76SvpI+X72ZvbH9vn2X/gu+Tf7Cv0G/4oBaAQcBPICuwNyBJsEnQM6BLEDewNZBYIGZQc+CNQHjQd3COwIYAgZB/8ExwIaAJT+1/tK+pz5qvdJ9+X2/Pa099L3h/g5+hz7lPvV/PT95/0i/dX8sf3W/bb+3//xAbYC7wL0A6kFKwaYBe8FdAVMBbsDawMTBY4FCwQAA/oDUAO3A3kEAQSHAmUB6QDB/9n9Kfv4+PD32/YN91f36vd2+ND4APot+xr8Ev59/hf/iADFAEMBLAHmAKsB4gKcAvwCMwSUBLYFjAbgBmkH+ganBgUF/gMyA+cBRwERAQQB8P/D/nP+mP5B/sz9V/3L/M37HvoM+YD4ufil+Hb4rfl1+rb7KP1V/sv/WgD3AJQBjgLOAj8DGQJ5AUUCHgOoBMMEZgUHBtwGYgfoB7sGxgS8BGsDCQK7AAb/Ev6D/XH8avzO/HH85PtY+1v7r/ue+9D73Pqp+Uj5y/km+zP73vtU/e/+pv/3AC4DcQMrAxgEDQbfBbIEggOjA2IERARlBCwECATPAz0EtQTtA6wCsgHaAfMAJ//f/Mr7RPvl+Vz5Uvlm+WP5u/qV/Aj+Qf61/Sb+wv25/vX+af5L/nb+8v54/10AMwH8AnIE8QQJBccFyAbbBZQENgTEAtYBHQKwAmkC1gHfACIBqAEiAYgA7/7+/Wr8/PtE+9v57vgE+Az52/nW+sD7Nv1p/n7/OQGQAckBaAHJARsBQAHxAdABOQG7AOsBSAJNAxUExQMOBPADMAQpBH8DWQLQAYIAUABTAGAA1f9L/pv++f4a/wj+x/yB/Mb7Kfsc+9b6xPnp+aT6ovs8/Wb+y/8BAeUC6gOPA4wDKAMDA84CYQMhA3MCIgG0AGUB1gE0AskB4AFVApwCyQFeAV4BLgAkAGr/Rf8j/lz+5f61/XL9Sv0g/hX+S/4P/jL9Hfyy+xb8zfsW/Dj84/0d/9z/yQHMAS0C9gLmA0oEQAQcBHEDhQNTA1oD7wIQA1wCvwEBAcUALwFJACEA0v90/wn/jv6i/lr94vyt/Af9kvzu++770Pvz/B79cP6o/pH+qP6v/i7/jP8/AOn/0gCoAQ8ChgGoAQADFwMBBM8DqgMGA0MDqgNXA4IDZgIZAu4BNgGMAA0AZP/x/W79/fx3/Pr8Iv2p/Lb7JPyS/Pr8FP0O/UD99vyX/XP+Qv/E/2oAywDIAI0BXwJwAkUCugJuA5MDKAM5A1MDjgI7AkECeQERASwBIgGnADIAewDmAF0ACgBT/+j+8f26/Ob86/vu+xP80vzO/Mv8g/1X/Uv+nv60/0YA8P/9/w0AbgCWALgBrgHQAS0CrAJ1A3UDMARXA8QC6AJjAt0BtQE5AVoA4v+g/4//TP/e/rL+RP6i/i3++/03/hn+Kv58/TL9GP1r/bj9if2a/Qj+yv4Q/27/qv/pAIgA9wARAS8BSwJFAiMCpAFtAocCzgI1A/YCPwPYAqYCaQIqAgQBUwDY/4z/Rf9V/nL9t/we/fr86fxA/cf8Yf37/aj+tv6o/u/+If8h/+H+EP+C/6r/EAC0ADkBQAEbAUMB2gFSAiAChALEAmYCkAGaAZ4BNgHLADYBqAHzALcAWgCIALD/gv/z/5T+mv11/ff9FP0q/NX8V/0Y/dz8Uv6K/uH+E//2/wEBXQBxABEBsgFiAVEBVAFlAaQBeQE+AksCLQL/AYoBFgJKAeYAbAFsAZIAagBdABQA5v8n/37///5w/iP+Ff70/Rv9f/0O/X/9L/2n/XL9Xv3q/Xb+O/9J/24ACwGDAZcBEwL2Au8CrAIqAqwCdwI3AjEC3QEPAiwBywCtAAEBtwA8AD8AXf9q/yf/dP9s/iD+iv6H/lX+mv0g/hL+Qf5Y/vv9ff5I/jf+tv5C/0z/J//V/ygALgCMAHYBsgFsAcYBXAL8AqICJAPiAo4C+AH/AfUBNgHPALD/e////tv+lP7T/Rz+3f2H/jT+qP5w/nP+rP7b/lb/JP+S/6j+4f7H/pb/yP+F/xQAiP9dAH4AtwBdAG4AqAHkAT4CYgFYAVgBWwHrAZ4BtQEsAdoBdgFyAUcBKwDL/xD/T/9E/hL+IP6r/ZP98Px5/ff9ov7A/jX/Lv/b/qD/+v/Y/zj/VgAoAPr/ZAC0ABgBwQDFANIAjQG4AVgBcgElAS8BbAGuAQ==\" type=\"audio/wav\" />\n",
       "                    Your browser does not support the audio element.\n",
       "                </audio>\n",
       "              "
      ],
      "text/plain": [
       "<IPython.lib.display.Audio object>"
      ]
     },
     "metadata": {},
     "output_type": "display_data"
    },
    {
     "name": "stdout",
     "output_type": "stream",
     "text": [
      "Playing clean audio 2\n"
     ]
    },
    {
     "data": {
      "text/html": [
       "\n",
       "                <audio  controls=\"controls\" >\n",
       "                    <source src=\"data:audio/wav;base64,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\" type=\"audio/wav\" />\n",
       "                    Your browser does not support the audio element.\n",
       "                </audio>\n",
       "              "
      ],
      "text/plain": [
       "<IPython.lib.display.Audio object>"
      ]
     },
     "metadata": {},
     "output_type": "display_data"
    },
    {
     "name": "stdout",
     "output_type": "stream",
     "text": [
      "Playing poisoned audio 2\n"
     ]
    },
    {
     "data": {
      "text/html": [
       "\n",
       "                <audio  controls=\"controls\" >\n",
       "                    <source src=\"data:audio/wav;base64,UklGRqYcAABXQVZFZm10IBAAAAABAAEAQB8AAIA+AAACABAAZGF0YYIcAACi/mb+cf+g/0QANwAvATcBWAFuAmMBWAInApACmAKwAcQC4gF8Am4CswELArsA+P9oALz/2QCr/+f+3/67/ef+If39/Qr98vxj/Qj9Kf6o/db95/3f/Tz+A/6U/db9RP1C/Zf8Y/77/i8BIQE7BLkDRgRPB+wFxAl7BSMH4wQ2BaEE0gJZA+j/6gGN/yH/Zv6y/F381vtE+z77M/oS+xD8Lv1d/fH7rf3h/T3/Uv3O/Hb+N/5Q/oz81vzG/Nb9Gf57/LX8oP7cAA4DKAXiCCcK5AhsC2kJJAvECgIHXwZ0A/4DkgFW/3b+LP30/ID7Evow+bH4ffgG+Jv4Wfl1+7j+vfpK/Zj/zP9AAqr9ov4LAP0As/9f+9H9fv3c/pf9XPt3/7sASAFF/lsD2ASrCeQIhwnPCZAKzQzVBAUJZwM2BQAAxP4z/Dn9mv2Y9xD8QPg2/Pn5qfiO+oD6y/tU+8D7tf1A/1kDTf5A/7kC6AKABpj/ogCKARwDEwBo+6r9PP0v/t773flG+7z/yf57/O3/agQ8CB4J+QThBmEMogl1BjUEygNRBEUCgf3p/Hf/Yf+3++z7X/uH/pT9KPqs+lz7Qv5c+sX60/rs+/v/AABw/Hn+ZgH5A1QEW/8sAioD0gTWAEf8KQC4/oQAcPtM+oT9Gf9NADz8MgIRBFAJDwarA1oHWAjfCJ0AogFmAo0C1//h++H9vP9p/yj8GvvJ/qj+V/wH+4j6jf+f/Nj66fuB/HT+5/68ArP+VQBJBIIE1gdrAccCsQQGBEIBLvs0/l/7y/vj+DT2qfkp/Xn9yf39AOAESgcICNsEeAdbCuYGMwUpARQD1//kAEz6AvyN/+n8JP5i+uX+QP+7AHj8sP68/5v/W/9l/bv+7/0pAQMDcwDi/gwDzQPLBvABef8qArsBHgCe+CD6HPmY+ED4DfSV93P7Ov8v/tH+9wZtBp0KLQQ5CK4LywgzBlb/RwcYAH8D6v2W+0ME1P4L/yT+YwADAZ8AVfy4/eIA7f7n/JP6Y/3O/Gv8tv4hABv+XgETAUsD1QRT/j0C5ACJADb8Q/hG+oT2KvmM9Iz1yvqH/QwDggNDBbQExwt/CmkK9QjACLUHCwhgAdoClwGwAMEBK/rrA/n50gNB+vX+YwAm/SECbvYDAsf4Jv6I+RT4yf7x+wwD7/yZ/I0EBgLZBqgAMf7SA9QA3wAh94j4F/rP+AT5g/TH+UQAVgJ5AgIHTweeC8IM9QkICd8I5wgMA3IET/3cAWMAQft5/r38awAo+7P/WP/7/mYBQ/pe/wX9kftg/G/5pfzx+Z/85/7MAar9AAL0CIcKCA9DBHMHFgNJAcT6ovJ89BDwu/Xa8Q/1HP6FBWAMfAxBC58Q5RC6D7AGyAFQBSf9nvs1+Az3VP5F/Q8ACf/RAz0HGAIXBl7+TgLR/Mn2bfh49dv4QvRO+IL7Pf2NBawIAwmrBJgKTgilCJkCfPm//un6rfkM8X/2KPca+6X7V/iHAXIGBQfXBu8AcQVMBwgCzwId//MEbASYBJcDxwQWBycFdAZZAQ8AIwLP99r85PaU+kD7mfiy/A/7oQLd/mwEkf6NAAgFSgqR/nL3dwOuAFAEd/jg9X8ESQQe/jrx9P2VAE/7Jvha7MH7TP4E/RP57f9DCm4G5AsSDKQP6hfhDXcKbwzFBfP+0gCj9y321/iQ73H7tfVx/bf/VwPyBY8BrQoq/NAFwfz49k8CVgOw9ZLz9QSB/ssMoff2+QgKIgZ2+inrWP6k73v00ug04o36MPmO/MwCKRARF88fmxtWGrshvhraEScINP9b/Jr11efq6qvzFu+Y73b4vfy8B5YIvP82CggPOwFP/cz6mvcZBYEHE+j69pgM/QEmCg3vn/yqDx4B9+qU4XoAf++Y6XXibORACIn/0PwgD88hoySmJU4h5iDoKmgTxQOBAsX4luyK50Lgred/8XzkwfI2BPIAfQeCCpsKWRBOCKMB+wCHAPwIphC26Dj72AnMAMgMytYn/zQFavJr32/QRQN35+Dpz9xp8bEcT/6KCEobjDMYMCkdhCmMKCwrMgke+9MGz/M85FHVQeIz68Llad5g8i4IfQBlBZYFXBdeE8gHSQXDBPwInSEyCZ7ccRxM+VMVhe9RwlsUzuhD5Cu07+hc+tTVVO4P1TEkaBle+9khYT3eSm8c7yixL0g1Ax1/3wcIJwQB4MPJ7tTT7GLmu9Vy1dcTXATn9JwE0hZ3JS0IaAKEDFcd2CtHAR7e8Cv2/AgNfud7uNwmlNRqzeWx5unJ+Aa81OxP3PE1eRA89Q1IyEhFQdghjjnQRU0rFAYF75cZU+s3xrXO2dut5M7N1dAm6hkRkusi+/EYlRa4G24DCRR+GnQbcDA166kFuCa07M8fhrVS6tERFboJzUC0cAWYzSXNyeY3+ss4Gul5ID1Vk0GdODsp1UzcQK8aw/i+CX4LH8xKzmXQcNsZ1ynFeNo//kv4Re2uE1cXFRw9ELEM+iNIHDg6G/Gf+Ss2G+UkIPW+adqgIES0pMngttMCYdIFvjTvRvZ/Nj/mqRNVaJ08fDatK8pM4U6eFV/45w32EBnHMcQ710nYDcx4wAraDQIW9hLosBnqH9QcJxGFETowYhmkO1f1rPc4OF3Z8CCwt5Da5hvAp0DPorQUBF7URLu49ToAbS+U5yob92nsPmswnS4aVmVLChAB+vUQuAw+wn3AONWn2jLDorrM4NX/7fVH7HsaFCsdHjgTgxcwMS8avjMf+p/uOjQ/1pIUPsCbz38cv6fszhPAJv4C3mG8e/54BKIm6/IrH89nqDNUPZovlE3iSlUFfhLWA7f8Zsz1vsbRdsjVxba/5eGI8AP2bAAqFocsiyV+HQ4kuyxxJy45Id9DCUcaXdq7BCmdifvC8SWpJMYe0vwFIML43MX++R1JGEjy4EJeXUEvgDRlP85VuTUUBmYRmw6A7LLBMcnM0JbAurj9x2Hgs+q072kD4h9UJgEldSkOL6YrTC9+OmbeaxG2C/Lbp/ldlBT7deMXogTIuNhK/qfKo+LkEHAhBxa7BQtGxGHEJeA9YT19RmA4HPqfGVb/4OMjzPPDhdILtozCbseU3vjoGe0bEGIRHy0CKHcpnDPRJL41TUTx23sNaBA83qb/AYA9AvXfpJ+kxq7H5BWEv1rkHhOCKI8fVvwiT4BgQS2ANcc2UFBNL9P2tg/MBK7nCMK7xDfUQ8CMucvIoOTj6iLuswWZHOgpSiafKuIxIy5qNgBAuNttGQIJvN4I9tqCQAa8z2Sd4MKu0G0I8MCd6noYIyudGtsIGlTkXvYtVDodOt9MDCcjAC4P4Pvd5WXG5ceBzvi+V7zhyCTe1+lF7UAEuBN0LRQmWiloMW4t0i5GSnz1pPRBJq7UfgUllcLPBAJYlAW9tMcLB6vXnNEKGesneClkBsE3W3F3Ku86ITdkOYdBTPIYEC71LuR+zPW35c9gvpTFMMKx4Av2TvCZBWAQeiwDKz4ezyuIJUMj4jFyLHrZWhflA5Hr3uvVkPcOjtM7m2zJH+GJ/Ki9YO6DH4knYhWxCzhleVFYKClINC+mTIYVh/eNDA3sBt9AuHnOI8taxGHHyc6N98jzLfgVDpUaOy52IKIguCYkIWQdnjMwFQPW/R/o8WL6XMqGq7EaUrZ/tirI9/NM9LXDxALxHksqxAo2HnVe2D3TL9495zAPPqQEh/2GBYnlV9NkwMHXT8Xtx57QfN+29on0dwScFa8cKydCIZ4cOyZoGPsRiy5zHmjNkBNz/N/2wNz8my4XTth2tAzC3/dOBZPKuPX8HBotNhd0CrdMuUlXJw03IRkMPREKlfgj+53ei+lWwcrQBc1L11ngHNcr+p0IzwpMD1gaPDBBHYcZjh8fE98SkhCdKKnYrPN2CUvn/vnxkzAFSvV2tJTVbt1KGEzbqO/AFgclvyQ+DCcynUIiK2g4AxFeIxQb9/oL9z/VrvFS1EnLR80F3prtzdki8U4MWhbXESkPTCeFKuUZ2Q+wEdoSSQT6HoT+Ic45Dn/u0fW7zXe5aRrJzzfVTc0gB3MOH9pGDp8Q7TAbH5QIXDVPOOwmwSJzB3whGgVO+TXg0uGH7VDOANiL0ifwZPAf6Hb8oR12GX0LnxgxKfsi1xBfBqIRuAgS/F8e8uUt2J8Ow+WM/L26z9cFGazLW+Bm130bJgBz7R0NDhLpNR8MBhNhKhYpGCdAFJoA8hdkBUz0e9xM6nz1DdMz2uDgRPtA+czouAc2H3cUIRHsDt0kAR2/Ax0GXAR8AoX4cgzf98LTxgBX8mD9X9pLyG8cEO256P/azAkUHBrr1QTuA68u2hOl/MIVWiDTHuQQn/2dEaYLQv2g9gLjGwF75N7s7OT99OYFMuieBVIHthmiCcf/rRgDEQENR/0l+1X9+PdEB04LgOGp6B0OAP8v/t/PGPwKH6LmH/B74/0XIwaQ6aYC2vZEHpMESfMcC1sS6SY7BqH6aRkcGmsQrvD49esLGPuj8A/i/fbDCNrvZPEQ/AUQuwfM9lEE6Ar7Cq316PHyAeD6WQVBDz7rr/M9E+ALzwoc6Nr3LyKl9pvwTOSQAvAJ4t518xvmdgiSAYfvmwJGBNworhnACCgWFyV9LLv+Qfp+EIcCsPbt3arrK/tn6Y/nJvSX/HL4AvwDAoz97QAPBq0BhfpV/ckK5hYjD/Dw3QwSHl0QVQdq6bUIIgyj8O7oFNpf+ZLui+Eo6rPejAGRBbX8igm2ETkvJCl2GHIcNCEBLNEHnPRc+9D6i/MN1GjcXu8F7VHqvuVO+EkFDgLHA9z+gw5aDlYKvATiAjMUBx+yFd3wbAqGFgYSXv7j0nn/2QCe6WzZzsxA98PtkezJ5mznHBIUE9gTVw17Hoo7eiwGG1oW3RrnGYQCr+ql5kzqzOg03XPT6N+N8GT6uPb69OUKZBQ4FH8L7guhFk8QRA6eBEoHRyCfD4fu3fgcA2oNmvUMyEDv8Pcw6inecc8y+Or1NP0Q/PzyVhNGHv4k9xdpGWI34ip2F8kKWwkoFjrvWN0E4zfezuXQ2m7dw+RZ8OkH+QUfBHkKWh6WJCoSTgw0EAQUgQcQ/EIBCBk/COrfivZc+lQGn/Tqxbnw3O3F8+TrbtWY+GX1wRH8BuPxmxPqIBMwths/EIwpIitkGywB//rO+4PyT+MI1STXPeFy6bvuuOzr8e4TfxrdEp4T5RIpIC0cnQmS/T/9S/+e+Uj4Cwi3DEbjVfRGBO8HUggWx7fyYfkQ7tPyDNFH9snvGQl8EOvyBgxTGyoz0yWtD5YmEzCUHhkD2vCz9Svz4Nqr1lDP398U8e3vBfzm860X2SBdGPsboAtWGzkQ7wbR/m7udfIG8C71zwInG7X8qel+COgM+CJ75IXRavog6vj3ZdMk3srqqO8CF3QDagUdD2kqAjg9KvcdpCQ6IhUNwAfR7rbmM9Pm2SLiNNWg4MroegNcBLQN0RmvFjMdPRvWFyEIqP4z++v4P+xl7Y3viu68ApMlmyQ/7o8B4Q79IAIHScqR7ALTtePo6BHZwd+J1Z4NhRyoGJUZaSLzMmc7STQXLFQWmfsh/mPvQ+AnyE7KWdIS3HXpi/O6BK8Mkxv5I+IpOiKzGs4PeQh6+nP0IuoW3jHmwOWh8mv2WRTGMS4O8Qz+DBYQmR0K7Lzpz89xyGLjS9+M5ArURvHBEnwhAicQMKsrXTB9M3gvIiM1BOz01dqJ3GDNwc5CzjXQsObk9TITvxw4Iz0j6ipnLJgioBGV/3/uh+d25MPco9nI2xnobfLxBqkk9UleIkoR0BZQEfYi1+81393AlbdJ06jXld6S3g3tUAkMJMc010JPL0sy7SneJlIg0gRm7lfLF8ky0PnYhN+T4HPsAQVjGUszvjFIKdQg8RUwFiAHL/a34U/N381k2VDg1elD6jv68hC2KxJWeEYqIqUXdwQFEH/4wd4HxEGj4q+jwe3fsO4L9zf9JhiVM0RP3k6nP4MtjhYBFJIJqAKz5sXK9Lt4wpnjSvbn/dr/KgKDHecw2TaALJcR5vvW9EvvyuH22hXTlMth0YXo/gPiEuEX9iSeO8pcLkYlLCYQKe328FDYBcWyssKj+alAwQ3d+frFFM4gCDKiQMVMAFJjSCgtKReu/x/ptugQ3YPMMMFoxafcdfFFCeQWJCN3JJ8ggiRfJM0UHPij5x3bctIszVLWVOGv6qX2JQapGzss3TubS/1ZKTiBFzgDoeJM2hTIE7UcqXOj0axRyVTpwQoKJ9sthj8OS1RNvU+BQVAqyw8T73belto60BHJEcj61X/n9faGDrIdFinCLbQjQhlYEHwAJvTe453VT8yRy/3dKOvY+ncKlxhRJQIvhzn5OxJGpz9ZFCT34dtkwWy/K7QTtRe5RLUJyg7oygU1Kxg/cUg6SxxDGUOfN38i5w+J+4HmidMcyaXOvNlK5H/uLPZ8ApQO2RZpI1si5RPcCR/5fuus43rhYuTC4gfrI/Qx/W4QrSCsLOQuLyt9I7MZhyH7Gzv6g+Qpxw+5AL/4vcnNsddp3xHvqwLsFjormzwCRy5ILjZiJkEX7AXs+xLzZeyY37XVANc22/PoEfjzAs8JqgdICbMQShE5D98KeQIT9brrR+z/8vH5VQCxBIYHDRA8ELUOYBBPDkMLKwfLCBMKyPSz7urn0NlZ4QPfj+Yk8HrwNfkcAw4JVxaUHzglbii+IQAYGg1bAaD/8v2K9h/5CvPj6vjmhOc67i/3If6XASUFrgmECWAH1whVCDQI0ATq/WH4zfke/4cBFgGSAPr9kfxl/ez8jP12AFIGIBbOEBwKGAjA9JTzEO4j65jxo+8b7I7sg+wl8poAtAskGrUgKB5jGgQUhBBDE4AODgreBbf58PDw4JjZYeEe5lfzqvtI/5AD2wRhCsINxhAkE3MQOgkfBF7/DPpE9X70fvU39hT4nvkE+gX9kATlEmge3BmIG0oPf/gi8ZjnAuXc5i7l5OQF5VLmSPA3/a4LnB6zKZMs2SdlH/0Z1BEhCOUD9/p073zmNtpn2TPa2d1+7UL3eAUVFd4WeRlJFmQUmxRtDv4MZwXp/LD00On95pvoQu3Z9Tb7Nf+8BAgJ8BMtHRYaLRyrEnwCM/oA6HjjUuRN37ThD+ml7TH0jf/lCaoWcx+8I4oigx1HGFUQCgYbAKX2L++166nhcuEm5u/kIe1n+msIchTaGsodcxhmEakNyQoiBY//f/hL8eTraeiK6JPpvO+E98L78QUCD4gTgx6qHrccuRqFDNQBC/bu6vXmZOHU3WbgQ+Kk6sf3QgA3CvgRxhgtHC8aSxzUGtoR/gq5Ah37Y/ZL8JLt9efe49jpx/GL+qIIGA67EFcXIBVlEDQIkAMq/9X41/hj9Yrud+kf6Xvtc/PB+CoDvAwvEqEe0iQkIroe6hFnBR79J/F36L/hqdo314XZleCI6gv2JAH7ClsSKx2KIvIhnSHjHQsYbhBQCsb+GPMN66ni2OIF5aXmvPH//LcGQhDSE90TLBDJCn4HaQG1/YD7lPSH7xLq6Ohp7kzyzfqsBCILwBbAHxEjHyPQHRUWWAh+/Jbyc+QK22DV7tJL18jc7eZr9LYBtQ5KF7oeRCbvJ+klqSNkHSwSIwea/UbygOo/5Mzg0uF94iLqW/aiAdoL/Q/UERsQJwxxCQEFAAL+//z6tvcc99b0CPWb+Ar86gE9Cm0PTRFUFA8VRA+fCGH/R/TT67Dk++DS35jhOOj179T3LwPMClAS0RfiGhIeah6xHMAY5RJxCQABuPYh70nrFuVl5Hnm8ek282z5LwEeCPMLABBCECkQxAtzCFoHpASXAcP8Efkh91v2DvbU9pP6fvwk/14D0wbcCLgHtAV8Aa39Hfpb9k/02fPx8/j2w/xYAcQDIgUwBvoGWwmFC1EMag2xDKsK+ghsBH/+f/d480bxne557+7y5/Ws+WgAKwU/CEUK8AoXC2ELRQuMCTkHFAOt/qT6yfcW9rfzbfLQ8vX1FPqo/lsDTAZ8CjIKYAfWBqYCa/7x+/b5X/o4+s35RvrN+af7aP39/uoCUgdQC34OlA9SD0QOawcbAWD8SvUl8gHyH/A588z4UvwhAPACSQUFB0IJQwtLDO0K0wcUBKUAFfut9tPzf/C38TnzXvYd+8P9qwKcB/ALnA4PDZ4LVweoAqv+m/kx9qr02fTt9V73rvik+iH98AGZBsQJ7g3sDyMPBw0hCfMEOQAU+tr2xvVB9Mj0rveu+Rv9CADoAlIGnwhYCFoI7weZBQMD3f/e+7/4h/ce9tr29fcH+8z+jAFGBWIHpQfhBpkFvALB/9b7rvdj9r71jPa895b5cPyY/0UCDAWoCN8Klg0CD20NdwzeB24CCwAg+vP3fPdV9ir5SflZ+rX8w/2C/zIC0ATgBeYFKAZQAi//lf6W+0H7ffr8+rD89f1CAM4AvwO6BVwETgRWAmsBtv4g+xr7+fgs91P3DvjY+v38pv9pA9sE8geaCXcKRQt5COEGeQLWAIQAu/yB/RX8r/tS/Wv8yf7a/nT/UgBm/0IBLwGlAY0CLAACAAP+gPu/+kb69Pxx/rAA3QNvBGcF7gTVBBQDFgGl/hj7HPl/99T2cfcA+A/51fr1/mwCXAUhCDoJSAnlCdEJ4QfVBIwBHP9r/JT7Uvxa/UX/E/90/48AnQFWAv0BZgL7AZcB4v+a/Ur8Gvpf+RT5m/hn+l38Sv5eAZAD0AZPCBAIawfWBscEUwF+/eD5fPe19aX1Y/Wz9zP6NP2UAJ4EsgfiCHwIpQfkBn0FXwTMATwAgf5V/BL7lvuc/JX+mgCoAsUEywb9B5EHNga2A0IBKf7T+kX4yfW19Hv0ovZG+Uf8AgAiA8gFNgaaB9QIpQeGBqMDxP/6+8f4oPYm9ef02vYJ+Wj7J/+YAqEFQQezCB4JxghrB10GvwS8AnwAJv5j/Tb89/xa/eL+PAEnA9MFcwewB7oFoANxAOH8IvoO+Hb2kvWE9cb2jfgE+z/+UwGhBB0GIAdtB6cG2AO7ALj+Zfxn+u74Rfg9+PD45vtT/iEAswISBewHogjiCIwJvggNB7EEMgIQADH+Sv14/IP89f15ACkBWwInA2kCSwKKAQAAu/3h+wf6jfiP92n3afjY+UH7P/0bAP4CmQWGB/IHPwe9BQYDSgA3/kb7LfqF+ab5XPt2/AX+1P6HAN8BwQMEBbIFSQYgBpEFvwQDAwMBLAAZ/w7/8P4W/8z/zgDcAd8CSANLA3YBWP8A/sL7evpW+eP4Xvgw+bz5kfvU/RP/4gDqAjYF9Aa9B0IIcAaxA9wAy/21+4L5DPk7+UP6GPwp/Y/+PADiAa4C2gP8BOMEVAQ1BHoEFwMvArAAh/8QAPj/eQDcAKUBjAHJAa4CGQJrARYAiv7v+2/6nvmm+Az5qfko+gL8C/7l/2MBrgIfBGQF/AWpBb8EwQNQAgsAzP5N/Yn7Wfo++ov7VfwW/kv/EAGrAqADOwQfBKAD8wIDApUB2QAAAG7/Qv9L/zr/tv9aACkBfAHRARwCHAKwAWkBVQCi/i79c/xg/Bv8YPyf/HP9f/6j/2sA/QBLAt8B5QFeAf0ApQDq/7H/jP7J/cP8P/ze/LX9UP7G/rH/OgGEAiID2AO0A5sD4gK7AdYAYwFrAYkAh//X//v/NACPAMsArQDAANYABQF0Aa0Arv/1/tr+R/5o/Q39j/6N/9r+c/0F/nb+Xv7O/Yb8UP8W/+r+8/93/8T/d//X/w==\" type=\"audio/wav\" />\n",
       "                    Your browser does not support the audio element.\n",
       "                </audio>\n",
       "              "
      ],
      "text/plain": [
       "<IPython.lib.display.Audio object>"
      ]
     },
     "metadata": {},
     "output_type": "display_data"
    },
    {
     "name": "stderr",
     "output_type": "stream",
     "text": [
      "  0%|          | 0/600 [00:00<?, ?it/s]/tmp/ipykernel_23/763798233.py:49: UserWarning: To copy construct from a tensor, it is recommended to use sourceTensor.clone().detach() or sourceTensor.clone().detach().requires_grad_(True), rather than torch.tensor(sourceTensor).\n",
      "  audios = [torch.tensor(audio) for audio in audios]\n",
      "100%|██████████| 600/600 [01:34<00:00,  6.37it/s]\n"
     ]
    },
    {
     "name": "stdout",
     "output_type": "stream",
     "text": [
      "Epoch 0, Loss: 1.9818811577558517\n"
     ]
    },
    {
     "name": "stderr",
     "output_type": "stream",
     "text": [
      "100%|██████████| 600/600 [01:33<00:00,  6.43it/s]\n"
     ]
    },
    {
     "name": "stdout",
     "output_type": "stream",
     "text": [
      "Epoch 1, Loss: 1.1043302352229754\n"
     ]
    },
    {
     "name": "stderr",
     "output_type": "stream",
     "text": [
      "100%|██████████| 600/600 [01:33<00:00,  6.42it/s]\n"
     ]
    },
    {
     "name": "stdout",
     "output_type": "stream",
     "text": [
      "Epoch 2, Loss: 0.6564132761955261\n",
      "Test Accuracy: 98.83333333333333%\n",
      "0\n",
      "540\n",
      "ASR: 0.0%\n",
      "Clean Accuracy Drop (CAD): 0.1666666666666714%\n",
      "Backdoor Attack Success Rate: 0.0%\n",
      "Running experiment with poisoning_rate=0.01 and freq=10000\n",
      "Poisoning rate: 0.01, Frequency: 10000\n"
     ]
    },
    {
     "name": "stderr",
     "output_type": "stream",
     "text": [
      "Some weights of Wav2Vec2ForSequenceClassification were not initialized from the model checkpoint at jonatasgrosman/wav2vec2-large-xlsr-53-english and are newly initialized: ['classifier.bias', 'classifier.weight', 'projector.bias', 'projector.weight']\n",
      "You should probably TRAIN this model on a down-stream task to be able to use it for predictions and inference.\n"
     ]
    },
    {
     "name": "stdout",
     "output_type": "stream",
     "text": [
      "Playing clean audio 1\n"
     ]
    },
    {
     "data": {
      "text/html": [
       "\n",
       "                <audio  controls=\"controls\" >\n",
       "                    <source src=\"data:audio/wav;base64,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\" type=\"audio/wav\" />\n",
       "                    Your browser does not support the audio element.\n",
       "                </audio>\n",
       "              "
      ],
      "text/plain": [
       "<IPython.lib.display.Audio object>"
      ]
     },
     "metadata": {},
     "output_type": "display_data"
    },
    {
     "name": "stdout",
     "output_type": "stream",
     "text": [
      "Playing poisoned audio 1\n"
     ]
    },
    {
     "data": {
      "text/html": [
       "\n",
       "                <audio  controls=\"controls\" >\n",
       "                    <source src=\"data:audio/wav;base64,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\" type=\"audio/wav\" />\n",
       "                    Your browser does not support the audio element.\n",
       "                </audio>\n",
       "              "
      ],
      "text/plain": [
       "<IPython.lib.display.Audio object>"
      ]
     },
     "metadata": {},
     "output_type": "display_data"
    },
    {
     "name": "stdout",
     "output_type": "stream",
     "text": [
      "Playing clean audio 2\n"
     ]
    },
    {
     "data": {
      "text/html": [
       "\n",
       "                <audio  controls=\"controls\" >\n",
       "                    <source src=\"data:audio/wav;base64,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\" type=\"audio/wav\" />\n",
       "                    Your browser does not support the audio element.\n",
       "                </audio>\n",
       "              "
      ],
      "text/plain": [
       "<IPython.lib.display.Audio object>"
      ]
     },
     "metadata": {},
     "output_type": "display_data"
    },
    {
     "name": "stdout",
     "output_type": "stream",
     "text": [
      "Playing poisoned audio 2\n"
     ]
    },
    {
     "data": {
      "text/html": [
       "\n",
       "                <audio  controls=\"controls\" >\n",
       "                    <source src=\"data:audio/wav;base64,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\" type=\"audio/wav\" />\n",
       "                    Your browser does not support the audio element.\n",
       "                </audio>\n",
       "              "
      ],
      "text/plain": [
       "<IPython.lib.display.Audio object>"
      ]
     },
     "metadata": {},
     "output_type": "display_data"
    },
    {
     "name": "stderr",
     "output_type": "stream",
     "text": [
      "100%|██████████| 600/600 [01:33<00:00,  6.40it/s]\n"
     ]
    },
    {
     "name": "stdout",
     "output_type": "stream",
     "text": [
      "Epoch 0, Loss: 2.0338833848635356\n"
     ]
    },
    {
     "name": "stderr",
     "output_type": "stream",
     "text": [
      "100%|██████████| 600/600 [01:33<00:00,  6.41it/s]\n"
     ]
    },
    {
     "name": "stdout",
     "output_type": "stream",
     "text": [
      "Epoch 1, Loss: 1.226245179871718\n"
     ]
    },
    {
     "name": "stderr",
     "output_type": "stream",
     "text": [
      "100%|██████████| 600/600 [01:33<00:00,  6.44it/s]\n"
     ]
    },
    {
     "name": "stdout",
     "output_type": "stream",
     "text": [
      "Epoch 2, Loss: 0.7373328004777432\n",
      "Test Accuracy: 97.5%\n",
      "0\n",
      "540\n",
      "ASR: 0.0%\n",
      "Clean Accuracy Drop (CAD): 1.5%\n",
      "Backdoor Attack Success Rate: 0.0%\n",
      "Running experiment with poisoning_rate=0.01 and freq=24000\n",
      "Poisoning rate: 0.01, Frequency: 24000\n"
     ]
    },
    {
     "name": "stderr",
     "output_type": "stream",
     "text": [
      "Some weights of Wav2Vec2ForSequenceClassification were not initialized from the model checkpoint at jonatasgrosman/wav2vec2-large-xlsr-53-english and are newly initialized: ['classifier.bias', 'classifier.weight', 'projector.bias', 'projector.weight']\n",
      "You should probably TRAIN this model on a down-stream task to be able to use it for predictions and inference.\n"
     ]
    },
    {
     "name": "stdout",
     "output_type": "stream",
     "text": [
      "Playing clean audio 1\n"
     ]
    },
    {
     "data": {
      "text/html": [
       "\n",
       "                <audio  controls=\"controls\" >\n",
       "                    <source src=\"data:audio/wav;base64,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\" type=\"audio/wav\" />\n",
       "                    Your browser does not support the audio element.\n",
       "                </audio>\n",
       "              "
      ],
      "text/plain": [
       "<IPython.lib.display.Audio object>"
      ]
     },
     "metadata": {},
     "output_type": "display_data"
    },
    {
     "name": "stdout",
     "output_type": "stream",
     "text": [
      "Playing poisoned audio 1\n"
     ]
    },
    {
     "data": {
      "text/html": [
       "\n",
       "                <audio  controls=\"controls\" >\n",
       "                    <source src=\"data:audio/wav;base64,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\" type=\"audio/wav\" />\n",
       "                    Your browser does not support the audio element.\n",
       "                </audio>\n",
       "              "
      ],
      "text/plain": [
       "<IPython.lib.display.Audio object>"
      ]
     },
     "metadata": {},
     "output_type": "display_data"
    },
    {
     "name": "stdout",
     "output_type": "stream",
     "text": [
      "Playing clean audio 2\n"
     ]
    },
    {
     "data": {
      "text/html": [
       "\n",
       "                <audio  controls=\"controls\" >\n",
       "                    <source src=\"data:audio/wav;base64,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\" type=\"audio/wav\" />\n",
       "                    Your browser does not support the audio element.\n",
       "                </audio>\n",
       "              "
      ],
      "text/plain": [
       "<IPython.lib.display.Audio object>"
      ]
     },
     "metadata": {},
     "output_type": "display_data"
    },
    {
     "name": "stdout",
     "output_type": "stream",
     "text": [
      "Playing poisoned audio 2\n"
     ]
    },
    {
     "data": {
      "text/html": [
       "\n",
       "                <audio  controls=\"controls\" >\n",
       "                    <source src=\"data:audio/wav;base64,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\" type=\"audio/wav\" />\n",
       "                    Your browser does not support the audio element.\n",
       "                </audio>\n",
       "              "
      ],
      "text/plain": [
       "<IPython.lib.display.Audio object>"
      ]
     },
     "metadata": {},
     "output_type": "display_data"
    },
    {
     "name": "stderr",
     "output_type": "stream",
     "text": [
      "100%|██████████| 600/600 [01:33<00:00,  6.45it/s]\n"
     ]
    },
    {
     "name": "stdout",
     "output_type": "stream",
     "text": [
      "Epoch 0, Loss: 2.014770418405533\n"
     ]
    },
    {
     "name": "stderr",
     "output_type": "stream",
     "text": [
      "100%|██████████| 600/600 [01:33<00:00,  6.39it/s]\n"
     ]
    },
    {
     "name": "stdout",
     "output_type": "stream",
     "text": [
      "Epoch 1, Loss: 1.1997859005133311\n"
     ]
    },
    {
     "name": "stderr",
     "output_type": "stream",
     "text": [
      "100%|██████████| 600/600 [01:33<00:00,  6.44it/s]\n"
     ]
    },
    {
     "name": "stdout",
     "output_type": "stream",
     "text": [
      "Epoch 2, Loss: 0.7498814843098323\n",
      "Test Accuracy: 97.83333333333334%\n",
      "1\n",
      "540\n",
      "ASR: 0.1851851851851852%\n",
      "Clean Accuracy Drop (CAD): 1.1666666666666572%\n",
      "Backdoor Attack Success Rate: 0.1851851851851852%\n",
      "Running experiment with poisoning_rate=0.05 and freq=1000\n",
      "Poisoning rate: 0.05, Frequency: 1000\n"
     ]
    },
    {
     "name": "stderr",
     "output_type": "stream",
     "text": [
      "Some weights of Wav2Vec2ForSequenceClassification were not initialized from the model checkpoint at jonatasgrosman/wav2vec2-large-xlsr-53-english and are newly initialized: ['classifier.bias', 'classifier.weight', 'projector.bias', 'projector.weight']\n",
      "You should probably TRAIN this model on a down-stream task to be able to use it for predictions and inference.\n"
     ]
    },
    {
     "name": "stdout",
     "output_type": "stream",
     "text": [
      "Playing clean audio 1\n"
     ]
    },
    {
     "data": {
      "text/html": [
       "\n",
       "                <audio  controls=\"controls\" >\n",
       "                    <source src=\"data:audio/wav;base64,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\" type=\"audio/wav\" />\n",
       "                    Your browser does not support the audio element.\n",
       "                </audio>\n",
       "              "
      ],
      "text/plain": [
       "<IPython.lib.display.Audio object>"
      ]
     },
     "metadata": {},
     "output_type": "display_data"
    },
    {
     "name": "stdout",
     "output_type": "stream",
     "text": [
      "Playing poisoned audio 1\n"
     ]
    },
    {
     "data": {
      "text/html": [
       "\n",
       "                <audio  controls=\"controls\" >\n",
       "                    <source src=\"data:audio/wav;base64,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\" type=\"audio/wav\" />\n",
       "                    Your browser does not support the audio element.\n",
       "                </audio>\n",
       "              "
      ],
      "text/plain": [
       "<IPython.lib.display.Audio object>"
      ]
     },
     "metadata": {},
     "output_type": "display_data"
    },
    {
     "name": "stdout",
     "output_type": "stream",
     "text": [
      "Playing clean audio 2\n"
     ]
    },
    {
     "data": {
      "text/html": [
       "\n",
       "                <audio  controls=\"controls\" >\n",
       "                    <source src=\"data:audio/wav;base64,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\" type=\"audio/wav\" />\n",
       "                    Your browser does not support the audio element.\n",
       "                </audio>\n",
       "              "
      ],
      "text/plain": [
       "<IPython.lib.display.Audio object>"
      ]
     },
     "metadata": {},
     "output_type": "display_data"
    },
    {
     "name": "stdout",
     "output_type": "stream",
     "text": [
      "Playing poisoned audio 2\n"
     ]
    },
    {
     "data": {
      "text/html": [
       "\n",
       "                <audio  controls=\"controls\" >\n",
       "                    <source src=\"data:audio/wav;base64,UklGRmQYAABXQVZFZm10IBAAAAABAAEAQB8AAIA+AAACABAAZGF0YUAYAADr/8f/6//5/0AABwADANL/6P8VAAMA/f8DADkATgBZACAAAAADAA4AAwDg/+//+f8OAPL/IwAcAA4ACgARABEA+f8KACoACgARAOj/EQAcAFwAZwBAAAcABwAYADkAKgBrAHIAdQCdAHkAeQCAAIsAYwAuABgAHAAqADkAQwA5ABwAMQBKAGsAcgByAGsAUgBSAEMAFQA5ADwAfABSAEAAYAA8ACAAWQAxAGMAQwBKABwAIwA8AFwAcgBuAEcAQAAqAFwAWQAnAAoAFQD2/9L/CgAHAPL/7//r/9n/wP/v//n/6//2/wcAFQARAPb/7/8KADkANQBcADEADgAKAA4A/f8RAMD/bv9y/2D/Uv+H/zn/rf4D/5X7df/H7p+8nfkl8LrfnRj2/JIDCgrnA24AmAyS/yoAqQIJ/uADaP1TBYIC5wMg/1UGBf6oASoNIQHPBwcHzwrmAvYDGgHY99H+m/p2/KYCEf+u/zgJLgOiAjoB6wqVADcCOBOyANsIvQedAFQCYQ4KAGf8QRId+Z4FRgaS/+v/nwJH/PX4rwcK8toEpPnL/4b7qfcR/2z2PwNp/u/8cAKWBJL5xf27Arv6FfVEAZ0AQ/gEBOj/UPcUBigLU/PCAhgGlfiTBEQEiv42/XoI4flg/zMP2fXi/WQECvgFAv0DugQYADL8yw3g+/r2UQkZ7CkFhAQt9KQA8wE3CC/z7Ast+5judBNw7eQApQhc9b4ITvhr/MsHDP3O9X3o9v/m94PhxA3m9yX3phbX/fgJCgpcA0kJ5AD9BzL5KwfXC3j+LhGsAdX7hQ+8BowBLgpTCPgFbv/gAybxdfuXEuTo4vozEi7vYvojDef12OcVB0YMKeBrBwIdTOnkA8UE2+3ZA+gAtfiC9E0JmPuQ8wQYqPlX/dUau/pk/KULmAzY8XPzFRHF8Cf88Q+d8iL3VQND+0zjF/cUE6jszwB9CprsTQyn/6L3MhvOCegHKQyb+j79EgRrAI7kffIACr7f++aCDCPr8+8HCsntOPWSCugOO/Qb/iUpjQzH/rMIeQGcDwcBIfpuBOL8SwWx+mzvKfyXCJkH4vEZB/sW5f6CCd0GzAGkE44HzPJc/HkShgj572D79AqiFCAJvPZIB/kbVw7tBrYIcQk5B1X4HvqJBFoCZfyr9bABDf2rDIwnOvhJ91gorwdY5nL8UAsP6ivg+Qoy8XHnihbC+MPq7Qs8CHn/E/Vh+SkAC/Np7o7nF/Gi8+rpCQAkAYP1ZwFxBKwY6QzO81YNKAIB/kAHWt1A7AwLaPfH6Xbw/gilAMT1qAfI/uIRRxK+9x3+afn/BUz5HN87Bmz8xfHDAmTyGhMaFqwDtg1qCtAPnAJK+bH1/O9tCWv1Xd5aDToOlfnRCQQDrQVrCGAAov0C+tQMp/u4573/0/+n+KH7gwWgE9kI+AlzEEsFcAUS/AX6wAXW9qn9iPRD6f4OvgfH9iQONQ7GB+wNLgb6+a7+bAuT+inoMve99YvyI/xh+egILxAuCoILkgsrC1ECtwAd/c70WgQuA/LtCfnZBPn+Zvi9APYJeQGrDG0OMgArApIBKAJT+jzwAf2x//z4hvd9/WcIBAVKBrQGEwWHE/sK0PsCAmUMjgn29yf09gFjAGP7fPgS+asIngdM/xL/Lv1ABf4ChPQ68Rv7OAPu+P/3egemB4sD3wVDBLgCXgGf/Bz3Uff/8xj0YviO9GH64wYqAp38pQoqD7cBnv/yBm8FB/sf9uX5wPhy9Af54v0L/av+0A3lEEsIVQ9TEpMErf+oB6QDh/JI8eb6FvuO+IP4k//IBF8EOAlCDeoIrQb4Ck0GK/rH8gX2dvro8vDyqPqH/WcC9QcOCQIGnQW8CgYHJvui9mz6Z/uO82PyVvgu/OP/IwAIAtYCoQQMCYUDZf78ANYAufw390X52v4D+sz3CP4JArwEKQPkA+sG4wgDBA35efqU/mH3pfap+Zj8CQP5B1QKDgigCh8PkQjW/y/+MAC7/Wz3APc2+db8ev13+sn+XQQLBSAHwAU+A7kEKgTP/pn5w/jG+X76H/wA/9cBCwRFB+cLUQ0MCjAJegyvCSYBG/zg+Ez1Z/Uo9/LzDfSX+lX9Q/4vAeABMQBT/5b+Kv1D+mn20fbp+ir9Tvyn/x0HXgxLDYkMRAxODdUMBghfAQ7/pP5i/IL65fih+dH+UwEj/2n+RQLvAn382fme+WrzSfFQ8hLwm/AU83331foy/HQBQwfxCXoKSgzlEAcTIRHMDNML0AzADGQNKgoaB+wKPg0PCSIDzv4J/dP5r/Lm6cHkx+Q15eHjuuRt6TjwxfYD+k77a/5XAjECIv+g/2kBwwJkBmgKaA8TF5MdGSOeKM4rOSwxLbYt9Cb2HeYZqg9wAfb2L+ut3WbR/s4mznvFyMTOy9jToNkb2jDhNukl7P/w2fSs94r6pAJeDakQTxSoHtwqLSu+Ipcq3za/MU0mNSi4MjsxTypFJO0g7BwLCmPnfdJM2yLXxrkDqaGxHsRJxvPBhs6Z3vzrAvn/ApwJfAnOEwoh0BfTCdUFYwj2Au33kven/LQBuwiYEEQbRyGfJkQz3znbMD8puC7nLP4dURHZBnv6x+8n6ozhbNi80L7LE9KI0bLMoNSL2k3fBeWm68ryYPax+mMBigYgCfsIOg6WEvQQ1hErGbQd0xcJF8siKSm7KdIvqD0QSdpC8jlBPB8+GxkW0BDLSueVySaSAYAgqn3BArSYwnbhJPueCRoi+zyVKaIaDi6qNuwSl92I6Wf3KNc2vqa69dHG2j/bOO5v9yAIGB1XLpwrWxe4JNE39i5JGcoR3iJ1I7ccuB7vHyInfCruLCskfwiF7j7cVuja4kq9N7DSv4rdh97LzMjZf/D9/pH/Z/X89ZT8BAQ7BOj2sOsn74P/Zf6B7E/rbgGhExkPkgo1FiEpwTWXMiguHTEpPUZMKVGHTp07UyyuMPIOBNKBx8fNcLrfkByGb6dLtSK1+8b+6aEEiBBJLW1EMTnsLxc5dDwtGFjxHusa3APGj7fttrS36bIFyh3q+/TX+lEPjy3iMF0pnSw9LLMkmRoWHJcbLhRSFl0fTCsILl02Gk2gQ5AoYCGzD/HtAthg1L/H2KpTpdy7sspax4HOpe0RBdMI6A98HHsebhaCFqMW6wTr8WjolOdH5QLWds6MywfRj9+e5jPt3vYyCrQcCSCHIdIk9CmeKQEjECBTHH4cjx6uHXofnCSLL9s9cUWDMR0imRQx7lzrIuo9zlWva6NAwIvHM7vQwQXWXvOF/YQK4BqDFyUcdym4MWwcYP/0/W8B2/Dsy87GO9ZUzMzEws8j5A3qdfUdER8XqRXRHd4swi2+GMoTmhjiFa4NFwybFqsUEBkCKiQyhjcRRT5LqTrrMrwgOPWQ5p3lbdOrsHacDrAeu7K2nrsFz/zndPSACrAf6R/5IfwxwkH5LjQQPQ6ZEfD9b9uf03zXh8MKttfFUNnZ1MDUh/I+CCIJ+AwzHPIhiBhSG24edxLBBIIFKg2IBG37TwRgFCoaRBs3Lcs4BjuySSJfHVrtN4Ez/Stb9xTaoNenzc+mJ4tTpLWyS6kErU7Nae0+8NYEHyfsL6QruTWlTcVAFSFKGtYX2AV25YjV9dDrw0S9L74NvxLEj9gp7T/x5vdeCG8Y0Bw5GLoYNBZqE/UQhgydBDT7Hf2VA6MDZgICDIceSiepLcc4ekACSIZS+mHTUMUzuSuNDJPmBNgfzWG0/5DzkjqqA6znqEq5Nd6g8l79RBhbLRUyBDPrQnlJGzHxHVEdrRni/TvjYN6a0iTEvb3lxBvJesRH1CzmYvB5+ewEvBM3EpUQlBZrFMkL2AKsBLAB7vhp91X40Pr6+YL+UgdrCpwQ5xpgKKEvDDOFOvM8o0KPRlVMdU/yOO4qQSk6ASnMpcvP1Me54pD8kUGxDra4srbHe+Oq7oL64h9ANYUmnyOjPvVL+i+eFZsZ0Rab/hTqS+jg2ozBH8MM0nDScMUf0NTqfO5x8RwDzQ+tDEcKVxZpFkEILQImBssDwvfl9tX75/hA9XD6QQQBBWkFSA40FuEYPhxGJ+0twCs/LqkzAjTWMmA1lz3uOEkm8B8mJI0M7tDqxhHeHs9AqemaF7UOwK65O8xt4D/nZ+sGDXctFSFrFPwn/kCfNCoX/BarF+AGRvSW8vLuS9FHx97Yud4U0OnLbuT275XrufVnA8MGggLeC44USAi9ABQGHwlr/Ob0E/2P/B32Yfb5/2EBwfz0BXAPSQ+cDb4VeCAnHhQdbiSzKb8n+iUyLEkt2iiEK+Y0mzCmICAelCNrDrXXBM755MvX47KAonC4jcITu/3Kw92I4kflBARrJd0b8A78INQ6zDMqGnUa+htfDD79Rf17913YK85U3VHh6dIlzPjdsefF5o/vyPw1/x76+QYhEvAIKgCoBFkK1gB++t/+Fv0i91D3QwDLAM36xAByCiAO5gy0EvIaYhlKGgsfgSJkHksb9iFGJOMgih2fICgmVyY5K0Yq9B9BHHYe5Q7r4VzUvuLq2kW+f6tfufHC277Hygba2OD24Yj5rRlIGMsNrBj6L/sw1R2hG1Qd8xG7AuX91/qe5h7Wddr/4H3Y4M3O1yPhSeBf6hz4sPpv9oT/lRD3Do0FewX7Cw4K8AFpAigBvflo9oz9OwIf+w/6GQT/DPYNhA6fFgMadBlNHeshjiGuGnEauh8iIO0cRRn6GAYaURppHOIcmCBWInwa9g1gDbb/d+Or237cMdfaxDe7p8aly07NDdOd3mDo1uuP/HwN5g/2DbkUHyT+InYYTRPiD1cMbwFw+mzz8+W53kjfy+Gr22rXm9zI5Q3uvO7B8oX6XP+6BMsHaglyB4kFfghaCEkF9v/i/Q4ANgF+AY4AYgK/BXgJog9KE6QUQxQxFxMchBuvGBQWlxX7FXkUohJ9EZsPpw0eD2oTcRNWEcISeReKGsIcEh62GLsS0QZ8+FHxs+UN3aXS1cm3yOTHWstVzQvRNNq84S3uzvh5AIAHyAq7EmgYQxeCEnwN7woBBSz9SvWu7j7m4d7V4QnjkeBm4EzmHvBc9S37bAHFBKUINQ0oEucQMAxdC3MLZArmBdECswEVANcB3gQ/BmwF3AYHDrwTCBU8FDYViRZ7FggYGhXBDrUNlA8dDk4K/gh/CaQKxQu/DGIPpxBuEMgR4xM2FdsV3BYAFH8MuAaF/cLz0Ols3xHaYtPDzaXL2svUz4HSr9jc4I7ooe8V9f79awRkBwYJWwloCy0JoAN3/Sz3OvPF8Kntpekt52jpJu4B8wv2UvnY/uwE+Qr5DaUO6A7/D2ARkA+6C90H5QRhBIUFKQX+AbsCZAejCZQMRA4mDQYQuRSwFQIT4xD0D0UPXBBmEFQMYwaOBl8JEQrZCsQHoAPMBIAK2g7FC6sHWwkMDwQRwA11CogHaQW5A/cBL/1T82LqSuTM4jXhw9qI1ZLUedfu2pPcUd1p4C7o2e7l8yb4Dfuf/i8BywPIBIYCmQDc/sn94/uQ+gX6gPgZ+cr7zf79AMkB7AQ5Cl0Owg8xEAESQhOQEl8QcA+6DtQMhQufCf0HAAeDA6sDCgY0BgoG+QZSCloLiAtsC2oJRgmJCNkGvgheCNsFpAS2BFMFEwXYAmsACwH4AlsCWANrBAICxAAhAYEB+f9g/Ln4lvZ89UjzbPDC7YLqQekN6mnqz+iE6Mrq+uzu7kLxYfP89KX2i/kP/TD+4v3V/r0AHQFVAHz/1f4uADACKQL2AFYBowOnBpwGIASaBF0HvwlBC60JZAeAB/QIugsQDAYJJgktDPUMpwoeCHAIZglXCAEFfAMHB4AHKQWmBdoEAQVFCKUIwgKk/xIEmAa7Atj+8/xp/jsC7wDW/Jj7Evzc/h4C9v+D+376zfpA/Dz8RPnm9Nby0/NL9gX3f/R/8UDyWPS39lf3CvXp88n3FfwM/VL88fsM+g37eP4F/jL8T/17/o7/XADg/47/0wHuA0cDcQM4AzQCRwNmBi0JcgdhBKkCJASfBiAH4gWpAokCfAZ6CNgFcQOhAXkDBgkNCewE+QMpBZEGGgjvB+wErAEdAd4BAwOZA+AA/P6yAPwCxAMNAxACrgD8/koAhwObAv/+yPxM/ZH+vP6X/a77DPoM+vH70vwz+v72EPdc+NX4ufjN90T26/Vp9/X4p/jD+IT5afpY+yj9Rv77/QT9Gv0D/1IAAACO//z+6v4jAL4BPgJoATMBqQJoBEwF9wT5A90DzAT7Bb8FxQSrA6cDmgRsBRMFLwTuAyQE1gTpBc0FTwTqAjUDUgQXBVoELgOfAscDPQTAA/QC/gHwAcEBbAGaAasA6v74/tL/Lv/F/WH9Av7J/Rr93fzL/PX7lftV/Gv81/oX+pf62vkv+aj5pPmZ+JH4gfmr+YT5wfm3+qr7S/zP/Dr9c/0N/tz+3P7N/m7/sv/9/wEB8gBDAMQAzAFNArECYANgAz8DEgSIBGQEYQSoBK8EmgQrBN0D7gN6BNYEgQRIBGEEnQTyA8cD1QOOAyYDfAMgBOoCPgJVA1UD2AIzAQ8BqAHLAOAA4AC9AHIAi/+SALkAOf9i/nH+Kv/i/R39UP7d/Dv71ftr/Bz8Ovo6+vv6kvl2+SX6RfpW+Zn4afql+lD6P/uu++D7hvtn/On9ov1s/Sb+uP78/jH/MQD2/1n/VQBIAdABzAGhAZACygIqA/0DRAQLBKsDmgThBCAE8gNkBHYEmQPkA/MEaASZA0EEjgNeAlgDVgTqAi0CxgJXAlQCHwPwAXoBGAP0AroBjwEkAZ0AIQGsAb0AhP8D/y7/Y//j/lj+4/4//gz9wv1Q/v38vfwT/TL8KvvN+gL7JvsJ+1D6u/qO+7f6gvqK+//6//on/E78Cvyr/Ff9bP0C/ib+1/1m/kP/B/+V/zkAbgCSAGgB5QHzAT4CbQJwAjEDdQOcA8sD7gMoBBIE0gOnA2oDPANDA3wD4wKmAiYDYwPtArwD2QOmAlcCHAMfA1sCPgLXARQCZgKMAbkAsgDLAJIAiwB1AN3/Q/+V/8//9v+5//X+Ef/x/l/+lP6q/hT+u/2e/R391vzI/OH8q/wg/NX70fuj+1H7zvvn+1/72Ptr/G783fw2/Tr9Wv0X/lv+UP7m/hz/Mf8nAFUAJwCSACEBQQGPARACGwIiAjQCiQLxAsoCiQJ/AoYCewKfAncCYgJmAtQC7QL8ArsCdwJiAjQCqAHwASUCPQHrAH8CYgLEACgBWgGu/zwAegEgAGf/NQAuAL3/bgByAKT/nf9y/27/p/+A/2v/5v4X/lj+w/50/k3+2/16/Un+jf6T/bD9bf6X/az9rf4b/qX9bf4//hT+xv6Y/hT+P/6Y/pT+8f58/0P/A/9O/xEAIACg/0MArgBOAGsAUwELAeQAtwHTAYUBbAGTAU8BwQGTAToBbwHBAQsBKAGhATMBpwA2AZcBEgEzATMBjgDyAEEBjgBSAGsAIABnAKAAbgAVADUAYwCuAOT/Nf/L/w4AUv95/wAAqv6R/gcANf+m/ioApP8i/pn/AwDG/mv/awBc/zz/EQCA/zz/tv81/2P/uf8H/wr/uf8V/7T+kv8DAHX/Cv+r/wcApP88/8f/6/8x/+v/fAC2/1n/RwCuACAA7/9jAIQATgB5AN0AmQBHAKAAlQCOAL0AnQA8AHIAlQA8AJ0AbgD2/wMAhwCAAFUAbgBrAEcAvQC2AGcAUgBOAFkAoABZAN3/ZwBZALb/x/9KAOT/nf8YADUArv/P/+//uf+n/9L/vf+y/4v/gP/Z/+v/Uv9H/6v/df9u/8v/sv9Z/6f/uf+L/5n/6P+Z/3L/jv/E/8T/7//H/4f/3f/o//n/GADS/9b//f85AAAAMQA8AO//VQBrABEAUgBKAMf/HAB8AOT/EQCAAMf/vf9OAAcAfP/H/8D/jv8OADkA3f/Z/1IAYABrAI4AeQBAAE4AYABOAEcAOQAuAFUATgA1AEcA8v/v/3IAxP+r/0cA0v9y/ycAKgBu/8T/sv9c/93/GACZ/+j/CgC5/xEAGACZ//b/JwC5/93/wP+5/+j/5P/S/ycABwDL/zEASgDS//3/YADW/6D/JwAVAOT/2f8RAAAAlf+2/yAA9v+A/8f/NQDk/woAIwBDABEAMQA1AC4AEQAgACMATgA8AEoAGAD2/woAFQAnABwAvf/o/zwAAAC2//L/MQD9//L/KgAHAP3/LgAVAAcAQwAHAPb/DgDg/9n/9v8KAPb/FQAAAPn/HAD2//b/5P8AAOT/5P/k/+//\" type=\"audio/wav\" />\n",
       "                    Your browser does not support the audio element.\n",
       "                </audio>\n",
       "              "
      ],
      "text/plain": [
       "<IPython.lib.display.Audio object>"
      ]
     },
     "metadata": {},
     "output_type": "display_data"
    },
    {
     "name": "stderr",
     "output_type": "stream",
     "text": [
      "100%|██████████| 600/600 [01:33<00:00,  6.45it/s]\n"
     ]
    },
    {
     "name": "stdout",
     "output_type": "stream",
     "text": [
      "Epoch 0, Loss: 2.0040920601288477\n"
     ]
    },
    {
     "name": "stderr",
     "output_type": "stream",
     "text": [
      "100%|██████████| 600/600 [01:32<00:00,  6.48it/s]\n"
     ]
    },
    {
     "name": "stdout",
     "output_type": "stream",
     "text": [
      "Epoch 1, Loss: 1.230798797061046\n"
     ]
    },
    {
     "name": "stderr",
     "output_type": "stream",
     "text": [
      "100%|██████████| 600/600 [01:32<00:00,  6.46it/s]\n"
     ]
    },
    {
     "name": "stdout",
     "output_type": "stream",
     "text": [
      "Epoch 2, Loss: 0.8640826117495696\n",
      "Test Accuracy: 98.5%\n",
      "2\n",
      "540\n",
      "ASR: 0.3703703703703704%\n",
      "Clean Accuracy Drop (CAD): 0.5%\n",
      "Backdoor Attack Success Rate: 0.3703703703703704%\n",
      "Running experiment with poisoning_rate=0.05 and freq=10000\n",
      "Poisoning rate: 0.05, Frequency: 10000\n"
     ]
    },
    {
     "name": "stderr",
     "output_type": "stream",
     "text": [
      "Some weights of Wav2Vec2ForSequenceClassification were not initialized from the model checkpoint at jonatasgrosman/wav2vec2-large-xlsr-53-english and are newly initialized: ['classifier.bias', 'classifier.weight', 'projector.bias', 'projector.weight']\n",
      "You should probably TRAIN this model on a down-stream task to be able to use it for predictions and inference.\n"
     ]
    },
    {
     "name": "stdout",
     "output_type": "stream",
     "text": [
      "Playing clean audio 1\n"
     ]
    },
    {
     "data": {
      "text/html": [
       "\n",
       "                <audio  controls=\"controls\" >\n",
       "                    <source src=\"data:audio/wav;base64,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\" type=\"audio/wav\" />\n",
       "                    Your browser does not support the audio element.\n",
       "                </audio>\n",
       "              "
      ],
      "text/plain": [
       "<IPython.lib.display.Audio object>"
      ]
     },
     "metadata": {},
     "output_type": "display_data"
    },
    {
     "name": "stdout",
     "output_type": "stream",
     "text": [
      "Playing poisoned audio 1\n"
     ]
    },
    {
     "data": {
      "text/html": [
       "\n",
       "                <audio  controls=\"controls\" >\n",
       "                    <source src=\"data:audio/wav;base64,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\" type=\"audio/wav\" />\n",
       "                    Your browser does not support the audio element.\n",
       "                </audio>\n",
       "              "
      ],
      "text/plain": [
       "<IPython.lib.display.Audio object>"
      ]
     },
     "metadata": {},
     "output_type": "display_data"
    },
    {
     "name": "stdout",
     "output_type": "stream",
     "text": [
      "Playing clean audio 2\n"
     ]
    },
    {
     "data": {
      "text/html": [
       "\n",
       "                <audio  controls=\"controls\" >\n",
       "                    <source src=\"data:audio/wav;base64,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\" type=\"audio/wav\" />\n",
       "                    Your browser does not support the audio element.\n",
       "                </audio>\n",
       "              "
      ],
      "text/plain": [
       "<IPython.lib.display.Audio object>"
      ]
     },
     "metadata": {},
     "output_type": "display_data"
    },
    {
     "name": "stdout",
     "output_type": "stream",
     "text": [
      "Playing poisoned audio 2\n"
     ]
    },
    {
     "data": {
      "text/html": [
       "\n",
       "                <audio  controls=\"controls\" >\n",
       "                    <source src=\"data:audio/wav;base64,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\" type=\"audio/wav\" />\n",
       "                    Your browser does not support the audio element.\n",
       "                </audio>\n",
       "              "
      ],
      "text/plain": [
       "<IPython.lib.display.Audio object>"
      ]
     },
     "metadata": {},
     "output_type": "display_data"
    },
    {
     "name": "stderr",
     "output_type": "stream",
     "text": [
      "100%|██████████| 600/600 [01:32<00:00,  6.47it/s]\n"
     ]
    },
    {
     "name": "stdout",
     "output_type": "stream",
     "text": [
      "Epoch 0, Loss: 2.0541662487387655\n"
     ]
    },
    {
     "name": "stderr",
     "output_type": "stream",
     "text": [
      "100%|██████████| 600/600 [01:32<00:00,  6.51it/s]\n"
     ]
    },
    {
     "name": "stdout",
     "output_type": "stream",
     "text": [
      "Epoch 1, Loss: 1.3242352425555388\n"
     ]
    },
    {
     "name": "stderr",
     "output_type": "stream",
     "text": [
      "100%|██████████| 600/600 [01:32<00:00,  6.51it/s]\n"
     ]
    },
    {
     "name": "stdout",
     "output_type": "stream",
     "text": [
      "Epoch 2, Loss: 0.9390094751864672\n",
      "Test Accuracy: 99.16666666666667%\n",
      "57\n",
      "540\n",
      "ASR: 10.555555555555555%\n",
      "Clean Accuracy Drop (CAD): -0.1666666666666714%\n",
      "Backdoor Attack Success Rate: 10.555555555555555%\n",
      "Running experiment with poisoning_rate=0.05 and freq=24000\n",
      "Poisoning rate: 0.05, Frequency: 24000\n"
     ]
    },
    {
     "name": "stderr",
     "output_type": "stream",
     "text": [
      "Some weights of Wav2Vec2ForSequenceClassification were not initialized from the model checkpoint at jonatasgrosman/wav2vec2-large-xlsr-53-english and are newly initialized: ['classifier.bias', 'classifier.weight', 'projector.bias', 'projector.weight']\n",
      "You should probably TRAIN this model on a down-stream task to be able to use it for predictions and inference.\n"
     ]
    },
    {
     "name": "stdout",
     "output_type": "stream",
     "text": [
      "Playing clean audio 1\n"
     ]
    },
    {
     "data": {
      "text/html": [
       "\n",
       "                <audio  controls=\"controls\" >\n",
       "                    <source src=\"data:audio/wav;base64,UklGRlQUAABXQVZFZm10IBAAAAABAAEAQB8AAIA+AAACABAAZGF0YTAUAAAAACj2FPso9hT7KPYU+yj2FPso9hT7FPso9hT7KPYU+yj2FPso9ij2FPso9hT7FPso9hT7KPYAAAAAFPsAABT7AAAU+wAAFPsAAAAA7AQAAOwE7AQAAOwEAADsBAAAAAAU+xT7KPYo9ij2PPEo9k/sPPE88Sj2PPEo9ij2FPso9gAAAAAU+wAAFPsAACj2FPso9hT7FPsU+xT7FPso9gAAAAAAAAAAAAAU+wAAFPsAABT7AAAAABT7AAAAABT7FPsU+yj2FPsU+wAAFPsAABT7AAAU+wAAFPsAABT7AAAU++wE7ATsBAAA7AQAAAAAAAAo9ij2KPZP7DzxT+w88U/sKPY88RT7AAAAABT77AQAAOwEAAAAAAAAFPsU+xT7PPEo9jzxKPYo9ij2KPYo9hT7KPYAABT77AQAAOwE7AQAAOwEAADsBAAAAAAU+wAAKPYU+yj2FPsU+xT7AAAAAMQOxA6xE8QOsRPYCdgJAAAU+zzxY+dj53finth34ovdY+dj5zzxKPYAAAAA7ATsBNgJ7ATYCewEFPsAACj2KPY88TzxT+w88TzxKPYo9hT7FPsAAAAA7ATsBAAA7AQAAOwEAADsBOwEFPsAABT7FPso9hT7KPYU+yj2FPso9hT7FPsAAAAA2AnYCbETnRixE7ET2AnYCRT7KPZj53fii92e2J7Yi9134mPnPPEo9gAA7ATYCcQOxA7YCdgJAAAAACj2KPY88TzxPPFP7DzxPPEU+xT7AADsBOwEAADsBAAA7AQAAAAAFPsU+xT7FPso9hT7KPYU+yj2FPso9hT7KPYU+wAAAAAAAOwE7ATEDrETiR2JHXUiiR2JHbET2Ak88WPnstPayQHA7cTaycbOd+JP7AAA2AnEDp0YsROxE9gJ2AkAABT7T+xP7Hfid+KL3WPnT+wU+wAAxA6xE7ETnRixE9gJ2AnsBOwEAAAo9hT7PPE88U/sPPE88U/sKPY88Sj2FPs88Sj2PPE88Sj2PPEAAAAAxA7EDokdiR11ImIndSJiJ3UidSKxEwAAY+ey0xW7PLFkpyi2AcCL3TzxxA6dGGIndSJ1IrET2AkU+zzxT+x34ovdntie2IvdY+c88ewEsRN1ImIndSKJHcQO2AkAACj2FPsU+yj2FPso9k/sT+xj50/sPPE88Sj2KPYo9k/sT+xP7GPnPPEo9uwE2AmxE4kdiR11ImInTixOLE4sTix1Ip0Y7ARP7LLTFbtQrGSnUKztxHfiFPuxE50YdSJ1Ip0Y2AkU+yj2T+yL3YvdstOe2J7YT+wU+9gJiR11Ik4siR2xE+wEFPso9jzxKPYo9gAAAADsBAAA7AQU+xT7KPY88WPnT+x34mPnd+Jj52PnPPE88RT7FPvsBNgJsROxE4kdnRh1IokddSJ1Ik4sTixOLGIn2Alj5wHAZKezk3eiKLae2Cj2nRiJHYkdnRjYCewEFPso9k/sd+LGzsbOxs6e2Dzx2AmdGE4sYieJHdgJ7AQo9hT7KPYAABT7AAAU++wE2AnEDrETxA4U+zzxntiy07LTi91j5zzxPPEo9jzxT+wo9hT72AnEDp0YsROxE7ETnRiJHWInTiwmNiY2JjZiJ7ETd+IBwIud2omLnSi2d+IAALETdSKdGLET2AnsBBT7PPF34sbO7cTtxJ7YT+zEDokdiR2JHbET2AkAAOwEFPsU+zzxKPYo9ij22AmxE3UiiR2JHewEPPGL3Z7YntiL3Xfid+Jj50/sPPE88RT7KPYAAAAA7ATYCdgJxA6dGJ0YiR2JHXUiOjETO+tE/z9OLMQOxs5kp9qJ2ol3osbOKPbEDp0YnRixE7ET2AkAAE/sntgBwAHAxs534gAA2AmxE9gJ2AnsBMQO2AnsBAAAT+xP7E/sAADYCYkdnRidGMQOsRPYCewEPPF34rLT7cSy04vdKPYo9gAAKPY88U/sKPYo9gAA7AQU+xT77ASxE4kdYidiJ2InYicTO/8//z8mNp0Yi913otqJAYBkp8bOAACxE7ETiR2xE7ETxA4U+4vd2skVuwHAntgo9tgJ7ATYCRT77ATYCcQOxA4AACj2PPFP7OwExA6JHZ0YxA7EDtgJnRidGOwET+yy08bOxs5j50/sKPY88WPnT+xj5xT7FPsU+yj2KPYo9uwEsRN1InUinRidGIkdYif/P8RO60Q6McQOi92LnbOTxo5QrIvdFPvYCcQOiR2dGMQO2Alj57LTAcDayZ7Yd+IAAAAAAADsBAAA2AnYCQAAAAA88RT7FPvsBMQOxA7EDsQO2AmxE50YnRjYCewEPPF34u3E2sme2HfiFPsU+wAAKPZP7DzxPPE88Sj2KPYAANgJsROdGIkdsROxE50YdSL/P8ROxE4mNnUiKPYotsaO7oR3osbOKPbYCcQOxA6JHdgJ2AlP7NrJ7cTayYvdT+wAAAAAAAAAAAAA7AQAAAAAFPso9uwE7ATYCewEAADYCdgJsRPEDp0YxA6xE+wE7ARP7J7Yxs7ayYvdT+wU+yj2KPY88TzxKPY88TzxT+wo9gAA2AmxE4kdxA6xE7ETdSI6MdhJxE7/PzoxiR088YudAYDuhDyxd+LsBMQOAACxE50YsRMU+57YFbvtxIvdPPE88RT7PPEo9uwEAAAAACj2KPYU+9gJxA7EDgAAFPvsBNgJnRixE9gJxA6xE50YxA7sBGPnxs7aycbOd+JP7Cj2KPYo9jzxKPY88U/sT+wo9hT72AnYCcQOxA7EDp0YnRh1Ik4s60ScWNhJJjaJHRT7d6LuhO6EPLGL3QAAAAAU+7ETYiexExT7xs4BwMbOT+xP7E/sT+w88ewE2AkAAGPnPPEAAMQOnRjYCQAAKPbsBLETxA7YCRT77ASdGGIniR3sBCj2Y+dP7Hfi2skBwJ7YPPHYCQAAPPF34jzxFPsU+0/sT+w88dgJnRidGNgJxA6xE04sEzv/P9hJ/z8TO2In2Ak8se6E2okotovdPPEo9k/siR1OLIkdKPbGzu3Ei9088WPnnthj5yj2xA7sBDzxd+IU+8QOnRjYCRT7AAAAALET7ATsBBT77ASxE4kdiR3YCcQO2AkAADzxstPaye3Ed+Jj50/sT+wo9ij2AAAo9jzxPPEo9hT7FPvsBNgJxA7EDp0YiR1OLCY260TrRBM7YidiJwAAFbvaiYudAcCe2GPnd+IU+3UiOjHEDmPnstOe2Dzxd+LGzsbOPPHsBOwEPPFP7Cj2nRjEDtgJFPvYCcQOxA4AACj2AADEDsQO7ATEDrETiR2dGNgJPPFP7Ivdxs7aybLTi9088TzxKPY88ewEAAAo9jzxKPYU+xT77AQAAMQOsRN1InUiYic6Mf8//z8mNokddSIAACi2i513ou3Entiy03fiFPtOLGInAABP7HfiPPF34rLT2smL3RT7KPY88U/sFPuxE7ET2AkU+9gJsRPEDij2KPbsBMQO2AkAAAAAiR11IokdxA4AAAAAPPGL3QHA2sme2GPnd+JP7Cj22AnsBBT7T+wo9ij2FPs88TzxAADYCbETxA6JHXUiOjETOxM7JjZiJ4kdsRMo9hW7PLE8sdrJxs6y03fi2AmdGNgJAAA88Sj2T+x34trJnthj50/sY+dj5xT7xA7EDtgJ7ATEDp0Y2AkAADzxAAAAAOwEFPvsBJ0YdSKxE8QO7ATYCQAAT+zGztrJstN34ovdd+JP7OwE2AkAADzxKPYo9hT7PPFj5xT77ATYCcQOnRhOLDoxOjETOzoxTix1InUixA534gHAKLbtxO3E2snayU/s7ATYCewEAAAAABT7PPGe2J7Yi92L3Xfii91P7BT7xA7EDtgJsROxE7ET7AQAAAAA7AQAAOwEAADYCcQOsROxE9gJxA7sBCj2Y+ee2Ivdi92L3XfiY+c88Sj2KPYo9ij2FPsU+yj2KPYU++wE2AnYCcQOnRhiJ2InOjE6MToxTix1InUi7ASL3cbO7cTayQHA7cTayU/sKPYU+xT7AADsBAAAFPtj50/sT+xj52Pnd+JP7DzxAAAU++wE2AmxE8QOxA7sBNgJsRPEDtgJ7ATEDtgJ2AkAAAAAFPsAACj2T+xj52PnT+xP7E/sY+c88TzxKPY88TzxFPso9hT7KPYAAOwE7ATEDsQOnRh1InUiTix1InUiiR2JHcQOFPtj53fid+Ke2LLTxs6L3WPnY+dj52PnT+wo9hT7PPE88Sj2KPYU+yj2PPEU+xT7AAAU+yj2AAAU+wAAFPsAAAAAxA7YCcQOxA6xE50YxA7EDgAA7AQU+yj2PPFj50/sY+dP7GPnT+xj5zzxT+w88U/sKPYo9jzxKPYo9gAAAADYCcQOxA6dGIkdiR11Ip0YiR11IrETxA4AAAAAKPYo9k/si9134ovdd+KL3Z7Yd+J34mPnY+d34jzxPPEU+yj2FPsAAAAAAAAo9hT7FPsU+wAAKPYAAAAA2AnEDtgJxA7EDrETxA7EDuwE7AQAAAAAPPEo9ij2T+w88WPnT+xP7DzxT+xP7DzxT+wo9jzxKPYo9uwE7ATEDrETnRiJHYkdnRiJHZ0YiR2xE8QOAAAAACj2T+x34nfii9134p7Yi92L3WPnY+dP7GPnPPE88Sj2KPYU+xT7FPsAAAAAKPYU+xT7FPsU+yj2AAAAANgJ7ATEDtgJsROxE8QOxA7YCdgJ7AQAABT7KPY88TzxT+xP7E/sT+xP7E/sY+c88U/sKPYo9ij2FPsU+9gJ7ATEDsQOnRidGJ0YiR2JHZ0YiR2xE9gJAAAAABT7Y+dj54vdd+J34ovdnth34nfiY+dj50/sT+wo9ij2KPYU+yj2FPsU+xT7FPsU+xT7AAAAAAAAAAAAANgJ7ATYCdgJxA7YCcQOxA7sBNgJAAAAACj2KPY88TzxT+xP7GPnT+xj50/sY+c88TzxKPYo9hT7AAAU+9gJ2AnYCcQOxA6dGJ0YiR2JHZ0YnRjEDtgJAAAAADzxT+x34mPni9134p7Yd+J34mPnY+dP7GPnPPEo9jzxKPYo9hT7FPso9hT7FPsU+wAAFPsAAAAA7ATsBOwE2AnsBMQOxA7YCcQO7ATYCewE7AQU+yj2KPY88U/sT+xj50/sY+dP7DzxPPEo9ij2KPYU+xT7AAAAANgJ2AnEDsQOsROdGJ0YsROJHbETsRPYCewEAAAU+yj2T+xj52Pnd+J34nfii91j52PnT+w88U/sKPYo9jzxKPY88RT7FPsU+yj2FPsU+wAAFPsAAOwE7ATsBNgJ7ATYCewE2AnsBNgJ7ATYCQAAAAAAABT7KPYo9jzxPPE88TzxT+w88U/sKPYo9ij2FPsAABT77AQAANgJ7ATEDrETsRPEDp0YsROxE9gJ2AnsBBT7FPs88U/sd+Jj53fid+KL3WPnd+JP7E/sPPE88Sj2FPsU+xT7KPYU+yj2FPso9ij2AAAU+wAAFPvsBOwE7ATYCewE2AnsBNgJ7ATYCewEAAAAABT7AAAo9ij2PPEo9jzxT+w88U/sPPE88Sj2KPYo9hT7AAAU++wEAADYCewExA7EDsQOsROxE9gJxA7YCewE7AQAACj2KPZP7E/sY+dj53fiY+dj50/sT+w88Sj2PPEU+yj2FPsU+yj2FPso9hT7KPYU+yj2AAAU+wAAAAAAAOwEAADsBOwE7ATsBAAA7ATsBOwEAAAU+wAAFPsU+yj2KPY88Sj2PPEo9ij2FPso9hT7FPsAABT7AADsBOwE2AnsBMQO2AnEDtgJ7ATYCewEFPsU+yj2KPZP7DzxY+dP7E/sY+dP7E/sT+wo9jzxKPYo9hT7FPso9hT7FPso9hT7KPYU+yj2FPso9gAAAAAAAAAAAAAU+wAA7AQAAOwEAAAAAOwEAADsBAAAFPsAACj2KPYU+yj2FPso9hT7FPso9gAAFPsAABT77AQAAOwE7ATsBOwE7AQAAOwE7ATsBAAAAAAU+yj2FPs88Sj2PPEo9ij2PPE88U/sKPYo9jzxKPY88RT7KPYU+xT7KPYU+yj2KPYU+yj2FPso9hT7KPYU+xT7AAAAAOwEAADsBOwE2AnYCdgJxA6xE8QOsROxE8QOxA7YCewEFPsAABT7KPY88U/sY+dP7GPnY+dj50/sT+w88TzxPPEo9ij2FPso9hT7KPYU+yj2FPso9hT7KPYU+yj2AAAU+wAAFPvsBAAA7ATsBNgJ7ATYCewE2AkAAOwEAAAAABT7AAAo9hT7KPYo9ij2PPEo9jzxFPso9hT7FPso9hT7FPso9hT7FPsAABT7KPYU+yj2FPso9hT7KPYAABT7AAAAABT7AAAU+wAAAAAU+wAAFPsAABT7FPso9hT7KPYU+xT7KPYU+yj2FPsU+yj2FPso9hT7FPsAAAAAFPsAABT7AAAU+wAAFPsAABT7AAAU+wAAFPsAABT7AAAU+wAAFPsAAAAAAAAAAAAAAAAo9ij2FPso9hT7KPYU+xT7FPsU+xT7FPso9hT7KPYU+yj2KPYU+xT7AAAU+wAAFPsAABT7AAAAAAAAAAAAABT7AAAAAAAAFPsAABT7AAAU+wAAFPsAAAAAFPsU+yj2FPso9hT7FPso9hT7FPsU+xT7KPYU+xT7FPso9hT7KPYU+yj2FPso9hT7AAAU+wAAFPsU+yj2AAAo9gAAAAAU+wAAFPsAABT7AAAAABT7AAAAACj2FPso9hT7KPYU+xT7FPsU+wAAAAAAAAAAFPsU+xT7AAAo9hT7FPso9hT7KPYU+yj2FPsU+wAAFPsAAAAAFPsAABT7AAAU+wAAKPYU+xT7KPYU+yj2FPso9hT7KPYU+yj2FPsU+wAAAAAAAAAAFPsAAAAAAAAAAAAAFPsAABT7AAAU+xT7FPso9hT7KPYU+yj2FPsU+xT7FPsAABT7AAAAAAAAAAAAABT7AAAU+wAAKPYU+w==\" type=\"audio/wav\" />\n",
       "                    Your browser does not support the audio element.\n",
       "                </audio>\n",
       "              "
      ],
      "text/plain": [
       "<IPython.lib.display.Audio object>"
      ]
     },
     "metadata": {},
     "output_type": "display_data"
    },
    {
     "name": "stdout",
     "output_type": "stream",
     "text": [
      "Playing poisoned audio 1\n"
     ]
    },
    {
     "data": {
      "text/html": [
       "\n",
       "                <audio  controls=\"controls\" >\n",
       "                    <source src=\"data:audio/wav;base64,UklGRlQUAABXQVZFZm10IBAAAAABAAEAQB8AAIA+AAACABAAZGF0YTAUAAAAAAf3hPsH94T7B/eE+wf3hPsH94T7hPsH94T7B/eE+wf3hPsH9wf3hPsH94T7hPsH94T7B/cAAAAAhPsAAIT7AACE+wAAhPsAAAAAfAQAAHwEfAQAAHwEAAB8BAAAAACE+4T7B/cH9wf3ivIH9w7uivKK8gf3ivIH9wf3hPsH9wAAAACE+wAAhPsAAAf3hPsH94T7hPuE+4T7hPsH9wAAAAAAAAAAAACE+wAAhPsAAIT7AAAAAIT7AAAAAIT7hPuE+wf3hPuE+wAAhPsAAIT7AACE+wAAhPsAAIT7AACE+3wEfAR8BAAAfAQAAAAAAAAH9wf3B/cO7oryDu6K8g7uB/eK8oT7AAAAAIT7fAQAAHwEAAAAAAAAhPuE+4T7ivIH94ryB/cH9wf3B/cH94T7B/cAAIT7fAQAAHwEfAQAAHwEAAB8BAAAAACE+wAAB/eE+wf3hPuE+4T7AAAAAHYNdg3yEXYN8hH5CPkIAACE+4rykemR6RTlG9wU5ZjgkemR6YryB/cAAAAAfAR8BPkIfAT5CHwEhPsAAAf3B/eK8oryDu6K8oryB/cH94T7hPsAAAAAfAR8BAAAfAQAAHwEAAB8BHwEhPsAAIT7hPsH94T7B/eE+wf3hPsH94T7hPsAAAAA+Qj5CPIRbxbyEfIR+Qj5CIT7B/eR6RTlmOAb3BvcmOAU5ZHpivIH9wAAfAT5CHYNdg35CPkIAAAAAAf3B/eK8oryivIO7oryivKE+4T7AAB8BHwEAAB8BAAAfAQAAAAAhPuE+4T7hPsH94T7B/eE+wf3hPsH94T7B/eE+wAAAAAAAHwEfAR2DfIR7BrsGmgf7BrsGvIR+QiK8pHpntelzqzFKMqlziLTFOUO7gAA+Qh2DW8W8hHyEfkI+QgAAIT7Du4O7hTlFOWY4JHpDu6E+wAAdg3yEfIRbxbyEfkI+Qh8BHwEAAAH94T7ivKK8g7uivKK8g7uB/eK8gf3hPuK8gf3ivKK8gf3ivIAAAAAdg12Dewa7BpoH+UjaB/lI2gfaB/yEQAAkeme1y/BNrg8r7K8rMWY4Irydg1vFuUjaB9oH/IR+QiE+4ryDu4U5ZjgG9wb3JjgkemK8nwE8hFoH+UjaB/sGnYN+QgAAAf3hPuE+wf3hPsH9w7uDu6R6Q7uivKK8gf3B/cH9w7uDu4O7pHpivIH93wE+QjyEewa7BpoH+UjYihiKGIoYihoH28WfAQO7p7XL8G5szyvubMoyhTlhPvyEW8WaB9oH28W+QiE+wf3Du6Y4Jjgntcb3BvcDu6E+/kI7BpoH2Io7BryEXwEhPsH94ryB/cH9wAAAAB8BAAAfASE+4T7B/eK8pHpDu4U5ZHpFOWR6ZHpivKK8oT7hPt8BPkI8hHyEewabxZoH+waaB9oH2IoYihiKOUj+QiR6azFPK9KncCqsrwb3Af3bxbsGuwabxb5CHwEhPsH9w7uFOUi0yLTItMb3Iry+QhvFmIo5SPsGvkIfAQH94T7B/cAAIT7AACE+3wE+Qh2DfIRdg2E+4ryG9ye157XmOCR6YryivIH94ryDu4H94T7+Qh2DW8W8hHyEfIRbxbsGuUjYihbMVsxWzHlI/IRFOWJxYim6JPOpgW85OUO/wcTMR7JF3YQmAq7Amf9hfA859jQlMybx8vePetoENcXIR6VF2oVYAW5A6IAf/9o98b2q/KD+2vytQ0XDWMk0hUkICb/AfgD287hStaG5gjfPutK43H0Cuwn+cv03P0Q+QwHVv07EJsB7RTdDhseJhPLInAX7zSuLRNH+jHTMO0EwtuGph6dbYu5sxPKKgA9BLwfDg1nG2kIlRJS9s/3SNKRz7W7Kt382igKwf47HKL+YBMI+vkXaf4bD1X1xvhJ4974JfXgE/oPayFpC4UY2QYaFFP5vP3b2d/i4b7s4kTVXwKp62MLoOv2/Z/ieAKS63cLBPn9Bgjw+A92BmgmaRhgL2sYXS9iKsdF5C7HPAYL/Otgn6ufAYCMutjHQgu3BiYdvw8WHdcGiBh78JfrsMMZzMy67+Y/7LUTzvmbE+/wBA+A/uEXGQNNCsrsuPzw44kOegPWJJYMPBfBA5sS4AzqHxb7YfdfzkzcDMqR8iTl2//N6TjyfuUK8iLzzANS8yD/B+/u/q/8phnOF+gmCQ+6HbwT+ipbM6hODziEM+wGBOfzn3yjuJKxub7aPwFbA/USihWxG1II/Q2s5GTcBsEs07XXWunb+wQEHPxACF38ewyXBT8D4vyI9an4Pv7kAewPIQuoD2YL5womEBkY6BRdCjkDqvMX5APL7c2x3KLk1PtX+wsAH/fT7ejyCvIs80L27/f2/iUKoxDhF1gZqRMaEGoYSx2UPGlFTUq2Li8iH/S8v6KVIJNSp7HWWPPJDIUJhxG6FkoNhwSg8vPJ+c60yajl3+hNBZT6iwVX+scFmP4CBuD5wAGs8PMK6f2pD7D96Ab1ARgQuArLFP8OABVOCjoMpvz+9RLURNtqxuropOUFBG7ut//E6Wf7Fe6S+23pQPfA7VsJiv91G1YRHxc3CMAbiRXQNks53VExMBI3qBDe/OGbyJVVhcPCetokD8ECwAolB0chDwdxBiLRMswcv67rbOey/VXwwv3J68IPtfRRC7DrYwIi8F8UCwLjGI/09wYH+XEU9QpuHX798hh2Bush+gH2DxnemN4xw5Pep9l4+aHraAKq6+L9tuvW/cniTPnQ67IG0/0XFGACghhzAmghgQtLKoodnUkDRgFOtCaFJffwPrVkhTWa463b6s71Iwpx8fQb9BnRG7fx3dwDvLfci+R997TkVPdZ6ZkN8//xCLXgUPtR9w0W7g1iEa/3Qf9c/PsZhgXQEMfzHwzlDlMrlxO2C+nvlPAm5+Dr9sdAzKXV5Pi8Ah8GiOz56sTsKwH59Xnzwei49+oDXxueEaoN5QhjFhEkCDpENj1HhjaGOVcgZgzqtP2SSJGZv9LdLfWF9G7wrRh+KvIY3vht0bvLJt/Z82XoJd2q6Mr31Qz6BC/yT+Vt+2oNnRaoCPf7af+5ABYReQVbA8f8FgN6E0EZuRwJB4cPxgZVAhPwONrqywXNFeKx7MzqcPGF86v6PPzt+oXusva/8uv//PYiCTIEWxJwCJMbqRXELdorcEQVObM77B37Kc35f8fijc6sBb/d4rPiD+xu9JkmkyXdFBDiOt9n1Fj6LN0j2wjLvPoz/N8MEOqe9mDuLh+hBOQRg/IPEkoEthat9m4AhfYFF9MDMQ6uA8wbABFrIO3+qPzf49bq1MgC2TPNEusC6CD9ZOw7/cH5yAoz7Gr9HOx4BoTwhQ/u9JEYzgaVKjQUIS+bIZ5FBS+wPJAPyCqc9BvI1powtrW+kecnzI7wCfDdM2gYfAuS4pDwEOeO8CfMGtom1fIGnOvy/avi4QaZBkYdrP3KBrr9Kx1EAjAC5uuVD2YC/hMF9fEKBRBEKhwQOhhJ9asK7eco6ym7Gtm10ejzzNpG+N/sERN2+nkFKeTZAEftMQXv6BP8jPZZEqYIrRbJEXco5iO6PgstETpGG3Mjgglg/+24X8AlsJ3WQ8tk32rdihD4DlYQv/ix+fzv/vRA3l3VgNUQ8Krn2O9p444BiAdGE0gDDwoBCMUbwAMYBZHt2gRG+xcJCvfXCDUShCP4DU8RwwCRDIn8Y/Huz7jRrNTm5+rdoeej68UG0wYDAqnwyPho9f/8MvHI6nD6bgUrCCEO5BXJKJosAC3ZNd4sYihoH2gfdg0U5azFsrwoyijKpc6lzg7ufAT5CHwEAAAAAIT7ivIb3BvcmOCY4BTlmOAO7oT7dg12DfkI8hHyEfIRfAQAAAAAfAQAAHwEAAD5CHYN8hHyEfkIdg18BAf3kekb3JjgmOCY4BTlkemK8gf3B/cH9wf3hPuE+wf3B/eE+3wE+Qj5CHYNbxblI+Uj3izeLN4sYihoH2gffASY4CLTKMqlzqzFKMqlzg7uB/eE+4T7AAB8BAAAhPuR6Q7uDu6R6ZHpFOUO7oryAACE+3wE+QjyEXYNdg18BPkI8hF2DfkIfAR2DfkI+QgAAAAAhPsAAAf3Du6R6ZHpDu4O7g7ukemK8oryB/eK8oryhPsH94T7B/cAAHwEfAR2DXYNbxZoH2gfYihoH2gf7BrsGnYNhPuR6RTlFOUb3J7XItOY4JHpkemR6ZHpDu4H94T7ivKK8gf3B/eE+wf3ivKE+4T7AACE+wf3AACE+wAAhPsAAAAAdg35CHYNdg3yEW8Wdg12DQAAfASE+wf3ivKR6Q7ukekO7pHpDu6R6YryDu6K8g7uB/cH94ryB/cH9wAAAAD5CHYNdg1vFuwa7BpoH28W7BpoH/IRdg0AAAAAB/cH9w7umOAU5ZjgFOWY4BvcFOUU5ZHpkekU5YryivKE+wf3hPsAAAAAAAAH94T7hPuE+wAAB/cAAAAA+Qh2DfkIdg12DfIRdg12DXwEfAQAAAAAivIH9wf3Du6K8pHpDu4O7oryDu4O7oryDu4H94ryB/cH93wEfAR2DfIRbxbsGuwabxbsGm8W7BryEXYNAAAAAAf3Du4U5RTlmOAU5RvcmOCY4JHpkekO7pHpivKK8gf3B/eE+4T7hPsAAAAAB/eE+4T7hPuE+wf3AAAAAPkIfAR2DfkI8hHyEXYNdg35CPkIfAQAAIT7B/eK8oryDu4O7g7uDu4O7g7ukemK8g7uB/cH9wf3hPuE+/kIfAR2DXYNbxZvFm8W7BrsGm8W7BryEfkIAAAAAIT7kemR6ZjgFOUU5ZjgG9wU5RTlkemR6Q7uDu4H9wf3B/eE+wf3hPuE+4T7hPuE+4T7AAAAAAAAAAAAAPkIfAT5CPkIdg35CHYNdg18BPkIAAAAAAf3B/eK8oryDu4O7pHpDu6R6Q7ukemK8oryB/cH94T7AACE+/kI+Qj5CHYNdg1vFm8W7BrsGm8WbxZ2DfkIAAAAAIryDu4U5ZHpmOAU5RvcFOUU5ZHpkekO7pHpivIH94ryB/cH94T7hPsH94T7hPuE+wAAhPsAAAAAfAR8BHwE+Qh8BHYNdg35CHYNfAT5CHwEfASE+wf3B/eK8g7uDu6R6Q7ukekO7oryivIH9wf3B/eE+4T7AAAAAPkI+Qh2DXYN8hFvFm8W8hHsGvIR8hH5CHwEAACE+wf3Du6R6ZHpFOUU5RTlmOCR6ZHpDu6K8g7uB/cH94ryB/eK8oT7hPuE+wf3hPuE+wAAhPsAAHwEfAR8BPkIfAT5CHwE+Qh8BPkIfAT5CAAAAAAAAIT7B/cH94ryivKK8oryDu6K8g7uB/cH9wf3hPsAAIT7fAQAAPkIfAR2DfIR8hF2DW8W8hHyEfkI+Qh8BIT7hPuK8g7uFOWR6RTlFOWY4JHpFOUO7g7uivKK8gf3hPuE+4T7B/eE+wf3hPsH9wf3AACE+wAAhPt8BHwEfAT5CHwE+Qh8BPkIfAT5CHwEAAAAAIT7AAAH9wf3ivIH94ryDu6K8g7uivKK8gf3B/cH94T7AACE+3wEAAD5CHwEdg12DXYN8hHyEfkIdg35CHwEfAQAAAf3B/cO7g7ukemR6RTlkemR6Q7uDu6K8gf3ivKE+wf3hPuE+wf3hPsH94T7B/eE+wf3AACE+wAAAAAAAHwEAAB8BHwEfAR8BAAAfAR8BHwEAACE+wAAhPuE+wf3B/eK8gf3ivIH9wf3hPsH94T7hPsAAIT7AAB8BHwE+Qh8BHYN+Qh2DfkIfAT5CHwEhPuE+wf3B/cO7orykekO7g7ukekO7g7uDu4H94ryB/cH94T7hPsH94T7hPsH94T7B/eE+wf3hPsH9wAAAAAAAAAAAACE+wAAfAQAAHwEAAAAAHwEAAB8BAAAhPsAAAf3B/eE+wf3hPsH94T7hPsH9wAAhPsAAIT7fAQAAHwEfAR8BHwEfAQAAHwEfAR8BAAAAACE+wf3hPuK8gf3ivIH9wf3ivKK8g7uB/cH94ryB/eK8oT7B/eE+4T7B/eE+wf3B/eE+wf3hPsH94T7B/eE+4T7AAAAAHwEAAB8BHwE+Qj5CPkIdg3yEXYN8hHyEXYNdg35CHwEhPsAAIT7B/eK8g7ukekO7pHpkemR6Q7uDu6K8oryivIH9wf3hPsH94T7B/eE+wf3hPsH94T7B/eE+wf3AACE+wAAhPt8BAAAfAR8BPkIfAT5CHwE+QgAAHwEAAAAAIT7AAAH94T7B/cH9wf3ivIH94ryhPsH94T7hPsH94T7hPsH94T7hPsAAIT7B/eE+wf3hPsH94T7B/cAAIT7AAAAAIT7AACE+wAAAACE+wAAhPsAAIT7hPsH94T7B/eE+4T7B/eE+wf3hPuE+wf3hPsH94T7hPsAAAAAhPsAAIT7AACE+wAAhPsAAIT7AACE+wAAhPsAAIT7AACE+wAAhPsAAAAAAAAAAAAAAAAH9wf3hPsH94T7B/eE+4T7hPuE+4T7hPsH94T7B/eE+wf3B/eE+4T7AACE+wAAhPsAAIT7AAAAAAAAAAAAAIT7AAAAAAAAhPsAAIT7AACE+wAAhPsAAAAAhPuE+wf3hPsH94T7hPsH94T7hPuE+4T7B/eE+4T7hPsH94T7B/eE+wf3hPsH94T7AACE+wAAhPuE+wf3AAAH9wAAAACE+wAAhPsAAIT7AAAAAIT7AAAAAAf3hPsH94T7B/eE+4T7hPuE+wAAAAAAAAAAhPuE+4T7AAAH94T7hPsH94T7B/eE+wf3hPuE+wAAhPsAAAAAhPsAAIT7AACE+wAAB/eE+4T7B/eE+wf3hPsH94T7B/eE+wf3hPuE+wAAAAAAAAAAhPsAAAAAAAAAAAAAhPsAAIT7AACE+4T7hPsH94T7B/eE+wf3hPuE+4T7hPsAAIT7AAAAAAAAAAAAAIT7AACE+wAAB/eE+w==\" type=\"audio/wav\" />\n",
       "                    Your browser does not support the audio element.\n",
       "                </audio>\n",
       "              "
      ],
      "text/plain": [
       "<IPython.lib.display.Audio object>"
      ]
     },
     "metadata": {},
     "output_type": "display_data"
    },
    {
     "name": "stdout",
     "output_type": "stream",
     "text": [
      "Playing clean audio 2\n"
     ]
    },
    {
     "data": {
      "text/html": [
       "\n",
       "                <audio  controls=\"controls\" >\n",
       "                    <source src=\"data:audio/wav;base64,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\" type=\"audio/wav\" />\n",
       "                    Your browser does not support the audio element.\n",
       "                </audio>\n",
       "              "
      ],
      "text/plain": [
       "<IPython.lib.display.Audio object>"
      ]
     },
     "metadata": {},
     "output_type": "display_data"
    },
    {
     "name": "stdout",
     "output_type": "stream",
     "text": [
      "Playing poisoned audio 2\n"
     ]
    },
    {
     "data": {
      "text/html": [
       "\n",
       "                <audio  controls=\"controls\" >\n",
       "                    <source src=\"data:audio/wav;base64,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\" type=\"audio/wav\" />\n",
       "                    Your browser does not support the audio element.\n",
       "                </audio>\n",
       "              "
      ],
      "text/plain": [
       "<IPython.lib.display.Audio object>"
      ]
     },
     "metadata": {},
     "output_type": "display_data"
    },
    {
     "name": "stderr",
     "output_type": "stream",
     "text": [
      "100%|██████████| 600/600 [01:32<00:00,  6.52it/s]\n"
     ]
    },
    {
     "name": "stdout",
     "output_type": "stream",
     "text": [
      "Epoch 0, Loss: 2.1249213739236197\n"
     ]
    },
    {
     "name": "stderr",
     "output_type": "stream",
     "text": [
      "100%|██████████| 600/600 [01:31<00:00,  6.54it/s]\n"
     ]
    },
    {
     "name": "stdout",
     "output_type": "stream",
     "text": [
      "Epoch 1, Loss: 1.6293729530771572\n"
     ]
    },
    {
     "name": "stderr",
     "output_type": "stream",
     "text": [
      "100%|██████████| 600/600 [01:32<00:00,  6.48it/s]\n"
     ]
    },
    {
     "name": "stdout",
     "output_type": "stream",
     "text": [
      "Epoch 2, Loss: 1.1930654783050219\n",
      "Test Accuracy: 96.66666666666667%\n",
      "80\n",
      "540\n",
      "ASR: 14.814814814814813%\n",
      "Clean Accuracy Drop (CAD): 2.3333333333333286%\n",
      "Backdoor Attack Success Rate: 14.814814814814813%\n",
      "Running experiment with poisoning_rate=0.1 and freq=1000\n",
      "Poisoning rate: 0.1, Frequency: 1000\n"
     ]
    },
    {
     "name": "stderr",
     "output_type": "stream",
     "text": [
      "Some weights of Wav2Vec2ForSequenceClassification were not initialized from the model checkpoint at jonatasgrosman/wav2vec2-large-xlsr-53-english and are newly initialized: ['classifier.bias', 'classifier.weight', 'projector.bias', 'projector.weight']\n",
      "You should probably TRAIN this model on a down-stream task to be able to use it for predictions and inference.\n"
     ]
    },
    {
     "name": "stdout",
     "output_type": "stream",
     "text": [
      "Playing clean audio 1\n"
     ]
    },
    {
     "data": {
      "text/html": [
       "\n",
       "                <audio  controls=\"controls\" >\n",
       "                    <source src=\"data:audio/wav;base64,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\" type=\"audio/wav\" />\n",
       "                    Your browser does not support the audio element.\n",
       "                </audio>\n",
       "              "
      ],
      "text/plain": [
       "<IPython.lib.display.Audio object>"
      ]
     },
     "metadata": {},
     "output_type": "display_data"
    },
    {
     "name": "stdout",
     "output_type": "stream",
     "text": [
      "Playing poisoned audio 1\n"
     ]
    },
    {
     "data": {
      "text/html": [
       "\n",
       "                <audio  controls=\"controls\" >\n",
       "                    <source src=\"data:audio/wav;base64,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\" type=\"audio/wav\" />\n",
       "                    Your browser does not support the audio element.\n",
       "                </audio>\n",
       "              "
      ],
      "text/plain": [
       "<IPython.lib.display.Audio object>"
      ]
     },
     "metadata": {},
     "output_type": "display_data"
    },
    {
     "name": "stdout",
     "output_type": "stream",
     "text": [
      "Playing clean audio 2\n"
     ]
    },
    {
     "data": {
      "text/html": [
       "\n",
       "                <audio  controls=\"controls\" >\n",
       "                    <source src=\"data:audio/wav;base64,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\" type=\"audio/wav\" />\n",
       "                    Your browser does not support the audio element.\n",
       "                </audio>\n",
       "              "
      ],
      "text/plain": [
       "<IPython.lib.display.Audio object>"
      ]
     },
     "metadata": {},
     "output_type": "display_data"
    },
    {
     "name": "stdout",
     "output_type": "stream",
     "text": [
      "Playing poisoned audio 2\n"
     ]
    },
    {
     "data": {
      "text/html": [
       "\n",
       "                <audio  controls=\"controls\" >\n",
       "                    <source src=\"data:audio/wav;base64,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\" type=\"audio/wav\" />\n",
       "                    Your browser does not support the audio element.\n",
       "                </audio>\n",
       "              "
      ],
      "text/plain": [
       "<IPython.lib.display.Audio object>"
      ]
     },
     "metadata": {},
     "output_type": "display_data"
    },
    {
     "name": "stderr",
     "output_type": "stream",
     "text": [
      "100%|██████████| 600/600 [01:32<00:00,  6.46it/s]\n"
     ]
    },
    {
     "name": "stdout",
     "output_type": "stream",
     "text": [
      "Epoch 0, Loss: 2.071022482911746\n"
     ]
    },
    {
     "name": "stderr",
     "output_type": "stream",
     "text": [
      "100%|██████████| 600/600 [01:32<00:00,  6.51it/s]\n"
     ]
    },
    {
     "name": "stdout",
     "output_type": "stream",
     "text": [
      "Epoch 1, Loss: 1.6311780069271724\n"
     ]
    },
    {
     "name": "stderr",
     "output_type": "stream",
     "text": [
      "100%|██████████| 600/600 [01:31<00:00,  6.54it/s]\n"
     ]
    },
    {
     "name": "stdout",
     "output_type": "stream",
     "text": [
      "Epoch 2, Loss: 1.2120977476239205\n",
      "Test Accuracy: 92.16666666666666%\n",
      "298\n",
      "540\n",
      "ASR: 55.18518518518518%\n",
      "Clean Accuracy Drop (CAD): 6.833333333333343%\n",
      "Backdoor Attack Success Rate: 55.18518518518518%\n",
      "Running experiment with poisoning_rate=0.1 and freq=10000\n",
      "Poisoning rate: 0.1, Frequency: 10000\n"
     ]
    },
    {
     "name": "stderr",
     "output_type": "stream",
     "text": [
      "Some weights of Wav2Vec2ForSequenceClassification were not initialized from the model checkpoint at jonatasgrosman/wav2vec2-large-xlsr-53-english and are newly initialized: ['classifier.bias', 'classifier.weight', 'projector.bias', 'projector.weight']\n",
      "You should probably TRAIN this model on a down-stream task to be able to use it for predictions and inference.\n"
     ]
    },
    {
     "name": "stdout",
     "output_type": "stream",
     "text": [
      "Playing clean audio 1\n"
     ]
    },
    {
     "data": {
      "text/html": [
       "\n",
       "                <audio  controls=\"controls\" >\n",
       "                    <source src=\"data:audio/wav;base64,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\" type=\"audio/wav\" />\n",
       "                    Your browser does not support the audio element.\n",
       "                </audio>\n",
       "              "
      ],
      "text/plain": [
       "<IPython.lib.display.Audio object>"
      ]
     },
     "metadata": {},
     "output_type": "display_data"
    },
    {
     "name": "stdout",
     "output_type": "stream",
     "text": [
      "Playing poisoned audio 1\n"
     ]
    },
    {
     "data": {
      "text/html": [
       "\n",
       "                <audio  controls=\"controls\" >\n",
       "                    <source src=\"data:audio/wav;base64,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\" type=\"audio/wav\" />\n",
       "                    Your browser does not support the audio element.\n",
       "                </audio>\n",
       "              "
      ],
      "text/plain": [
       "<IPython.lib.display.Audio object>"
      ]
     },
     "metadata": {},
     "output_type": "display_data"
    },
    {
     "name": "stdout",
     "output_type": "stream",
     "text": [
      "Playing clean audio 2\n"
     ]
    },
    {
     "data": {
      "text/html": [
       "\n",
       "                <audio  controls=\"controls\" >\n",
       "                    <source src=\"data:audio/wav;base64,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\" type=\"audio/wav\" />\n",
       "                    Your browser does not support the audio element.\n",
       "                </audio>\n",
       "              "
      ],
      "text/plain": [
       "<IPython.lib.display.Audio object>"
      ]
     },
     "metadata": {},
     "output_type": "display_data"
    },
    {
     "name": "stdout",
     "output_type": "stream",
     "text": [
      "Playing poisoned audio 2\n"
     ]
    },
    {
     "data": {
      "text/html": [
       "\n",
       "                <audio  controls=\"controls\" >\n",
       "                    <source src=\"data:audio/wav;base64,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\" type=\"audio/wav\" />\n",
       "                    Your browser does not support the audio element.\n",
       "                </audio>\n",
       "              "
      ],
      "text/plain": [
       "<IPython.lib.display.Audio object>"
      ]
     },
     "metadata": {},
     "output_type": "display_data"
    },
    {
     "name": "stderr",
     "output_type": "stream",
     "text": [
      "100%|██████████| 600/600 [01:31<00:00,  6.54it/s]\n"
     ]
    },
    {
     "name": "stdout",
     "output_type": "stream",
     "text": [
      "Epoch 0, Loss: 2.0137882262468336\n"
     ]
    },
    {
     "name": "stderr",
     "output_type": "stream",
     "text": [
      "100%|██████████| 600/600 [01:31<00:00,  6.55it/s]\n"
     ]
    },
    {
     "name": "stdout",
     "output_type": "stream",
     "text": [
      "Epoch 1, Loss: 1.680499153037866\n"
     ]
    },
    {
     "name": "stderr",
     "output_type": "stream",
     "text": [
      "100%|██████████| 600/600 [01:31<00:00,  6.54it/s]\n"
     ]
    },
    {
     "name": "stdout",
     "output_type": "stream",
     "text": [
      "Epoch 2, Loss: 1.2401692697405815\n",
      "Test Accuracy: 96.33333333333334%\n",
      "337\n",
      "540\n",
      "ASR: 62.40740740740741%\n",
      "Clean Accuracy Drop (CAD): 2.666666666666657%\n",
      "Backdoor Attack Success Rate: 62.40740740740741%\n",
      "Running experiment with poisoning_rate=0.1 and freq=24000\n",
      "Poisoning rate: 0.1, Frequency: 24000\n"
     ]
    },
    {
     "name": "stderr",
     "output_type": "stream",
     "text": [
      "Some weights of Wav2Vec2ForSequenceClassification were not initialized from the model checkpoint at jonatasgrosman/wav2vec2-large-xlsr-53-english and are newly initialized: ['classifier.bias', 'classifier.weight', 'projector.bias', 'projector.weight']\n",
      "You should probably TRAIN this model on a down-stream task to be able to use it for predictions and inference.\n"
     ]
    },
    {
     "name": "stdout",
     "output_type": "stream",
     "text": [
      "Playing clean audio 1\n"
     ]
    },
    {
     "data": {
      "text/html": [
       "\n",
       "                <audio  controls=\"controls\" >\n",
       "                    <source src=\"data:audio/wav;base64,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\" type=\"audio/wav\" />\n",
       "                    Your browser does not support the audio element.\n",
       "                </audio>\n",
       "              "
      ],
      "text/plain": [
       "<IPython.lib.display.Audio object>"
      ]
     },
     "metadata": {},
     "output_type": "display_data"
    },
    {
     "name": "stdout",
     "output_type": "stream",
     "text": [
      "Playing poisoned audio 1\n"
     ]
    },
    {
     "data": {
      "text/html": [
       "\n",
       "                <audio  controls=\"controls\" >\n",
       "                    <source src=\"data:audio/wav;base64,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\" type=\"audio/wav\" />\n",
       "                    Your browser does not support the audio element.\n",
       "                </audio>\n",
       "              "
      ],
      "text/plain": [
       "<IPython.lib.display.Audio object>"
      ]
     },
     "metadata": {},
     "output_type": "display_data"
    },
    {
     "name": "stdout",
     "output_type": "stream",
     "text": [
      "Playing clean audio 2\n"
     ]
    },
    {
     "data": {
      "text/html": [
       "\n",
       "                <audio  controls=\"controls\" >\n",
       "                    <source src=\"data:audio/wav;base64,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\" type=\"audio/wav\" />\n",
       "                    Your browser does not support the audio element.\n",
       "                </audio>\n",
       "              "
      ],
      "text/plain": [
       "<IPython.lib.display.Audio object>"
      ]
     },
     "metadata": {},
     "output_type": "display_data"
    },
    {
     "name": "stdout",
     "output_type": "stream",
     "text": [
      "Playing poisoned audio 2\n"
     ]
    },
    {
     "data": {
      "text/html": [
       "\n",
       "                <audio  controls=\"controls\" >\n",
       "                    <source src=\"data:audio/wav;base64,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\" type=\"audio/wav\" />\n",
       "                    Your browser does not support the audio element.\n",
       "                </audio>\n",
       "              "
      ],
      "text/plain": [
       "<IPython.lib.display.Audio object>"
      ]
     },
     "metadata": {},
     "output_type": "display_data"
    },
    {
     "name": "stderr",
     "output_type": "stream",
     "text": [
      "100%|██████████| 600/600 [01:31<00:00,  6.53it/s]\n"
     ]
    },
    {
     "name": "stdout",
     "output_type": "stream",
     "text": [
      "Epoch 0, Loss: 1.924157744050026\n"
     ]
    },
    {
     "name": "stderr",
     "output_type": "stream",
     "text": [
      "100%|██████████| 600/600 [01:31<00:00,  6.57it/s]\n"
     ]
    },
    {
     "name": "stdout",
     "output_type": "stream",
     "text": [
      "Epoch 1, Loss: 1.6912168257435163\n"
     ]
    },
    {
     "name": "stderr",
     "output_type": "stream",
     "text": [
      "100%|██████████| 600/600 [01:32<00:00,  6.51it/s]\n"
     ]
    },
    {
     "name": "stdout",
     "output_type": "stream",
     "text": [
      "Epoch 2, Loss: 1.2858116346597672\n",
      "Test Accuracy: 84.66666666666667%\n",
      "512\n",
      "540\n",
      "ASR: 94.81481481481482%\n",
      "Clean Accuracy Drop (CAD): 14.333333333333329%\n",
      "Backdoor Attack Success Rate: 94.81481481481482%\n"
     ]
    }
   ],
   "source": [
    "poisoning_rates = [0.01, 0.05, 0.1]  \n",
    "frequencies = [1000, 10000, 24000]  \n",
    "\n",
    "results = []\n",
    "\n",
    "for poisoning_rate, freq in product(poisoning_rates, frequencies):\n",
    "    print(f\"Running experiment with poisoning_rate={poisoning_rate} and freq={freq}\")\n",
    "    backdoor_accuracy, backdoor_attack_success_rate, accuracy_drop = backdoor_attack_and_eval_wav2vec2(poisoning_rate, freq)\n",
    "        \n",
    "    clean_accuracy_after = backdoor_accuracy\n",
    "\n",
    "    results.append({\n",
    "        'poisoning_rate': poisoning_rate,\n",
    "        'frequency': freq,\n",
    "        'backdoor_success_rate': backdoor_attack_success_rate,\n",
    "        'clean_accuracy_after': clean_accuracy_after,\n",
    "        'clean_accuracy_drop': clean_accuracy - clean_accuracy_after\n",
    "    })\n",
    "\n",
    "# print(results_df)"
   ]
  },
  {
   "cell_type": "code",
   "execution_count": 14,
   "id": "578194f0",
   "metadata": {
    "execution": {
     "iopub.execute_input": "2024-11-25T19:05:11.366549Z",
     "iopub.status.busy": "2024-11-25T19:05:11.366200Z",
     "iopub.status.idle": "2024-11-25T19:05:11.371613Z",
     "shell.execute_reply": "2024-11-25T19:05:11.370931Z"
    },
    "papermill": {
     "duration": 0.850708,
     "end_time": "2024-11-25T19:05:11.373080",
     "exception": false,
     "start_time": "2024-11-25T19:05:10.522372",
     "status": "completed"
    },
    "tags": []
   },
   "outputs": [],
   "source": [
    "results_df = pd.DataFrame(results)"
   ]
  },
  {
   "cell_type": "code",
   "execution_count": 15,
   "id": "58a3a9a0",
   "metadata": {
    "execution": {
     "iopub.execute_input": "2024-11-25T19:05:13.022964Z",
     "iopub.status.busy": "2024-11-25T19:05:13.022558Z",
     "iopub.status.idle": "2024-11-25T19:05:13.037340Z",
     "shell.execute_reply": "2024-11-25T19:05:13.036542Z"
    },
    "papermill": {
     "duration": 0.836548,
     "end_time": "2024-11-25T19:05:13.038934",
     "exception": false,
     "start_time": "2024-11-25T19:05:12.202386",
     "status": "completed"
    },
    "tags": []
   },
   "outputs": [
    {
     "data": {
      "text/html": [
       "<div>\n",
       "<style scoped>\n",
       "    .dataframe tbody tr th:only-of-type {\n",
       "        vertical-align: middle;\n",
       "    }\n",
       "\n",
       "    .dataframe tbody tr th {\n",
       "        vertical-align: top;\n",
       "    }\n",
       "\n",
       "    .dataframe thead th {\n",
       "        text-align: right;\n",
       "    }\n",
       "</style>\n",
       "<table border=\"1\" class=\"dataframe\">\n",
       "  <thead>\n",
       "    <tr style=\"text-align: right;\">\n",
       "      <th></th>\n",
       "      <th>poisoning_rate</th>\n",
       "      <th>frequency</th>\n",
       "      <th>backdoor_success_rate</th>\n",
       "      <th>clean_accuracy_after</th>\n",
       "      <th>clean_accuracy_drop</th>\n",
       "    </tr>\n",
       "  </thead>\n",
       "  <tbody>\n",
       "    <tr>\n",
       "      <th>0</th>\n",
       "      <td>0.01</td>\n",
       "      <td>1000</td>\n",
       "      <td>0.000000</td>\n",
       "      <td>98.833333</td>\n",
       "      <td>0.166667</td>\n",
       "    </tr>\n",
       "    <tr>\n",
       "      <th>1</th>\n",
       "      <td>0.01</td>\n",
       "      <td>10000</td>\n",
       "      <td>0.000000</td>\n",
       "      <td>97.500000</td>\n",
       "      <td>1.500000</td>\n",
       "    </tr>\n",
       "    <tr>\n",
       "      <th>2</th>\n",
       "      <td>0.01</td>\n",
       "      <td>24000</td>\n",
       "      <td>0.185185</td>\n",
       "      <td>97.833333</td>\n",
       "      <td>1.166667</td>\n",
       "    </tr>\n",
       "    <tr>\n",
       "      <th>3</th>\n",
       "      <td>0.05</td>\n",
       "      <td>1000</td>\n",
       "      <td>0.370370</td>\n",
       "      <td>98.500000</td>\n",
       "      <td>0.500000</td>\n",
       "    </tr>\n",
       "    <tr>\n",
       "      <th>4</th>\n",
       "      <td>0.05</td>\n",
       "      <td>10000</td>\n",
       "      <td>10.555556</td>\n",
       "      <td>99.166667</td>\n",
       "      <td>-0.166667</td>\n",
       "    </tr>\n",
       "    <tr>\n",
       "      <th>5</th>\n",
       "      <td>0.05</td>\n",
       "      <td>24000</td>\n",
       "      <td>14.814815</td>\n",
       "      <td>96.666667</td>\n",
       "      <td>2.333333</td>\n",
       "    </tr>\n",
       "    <tr>\n",
       "      <th>6</th>\n",
       "      <td>0.10</td>\n",
       "      <td>1000</td>\n",
       "      <td>55.185185</td>\n",
       "      <td>92.166667</td>\n",
       "      <td>6.833333</td>\n",
       "    </tr>\n",
       "    <tr>\n",
       "      <th>7</th>\n",
       "      <td>0.10</td>\n",
       "      <td>10000</td>\n",
       "      <td>62.407407</td>\n",
       "      <td>96.333333</td>\n",
       "      <td>2.666667</td>\n",
       "    </tr>\n",
       "    <tr>\n",
       "      <th>8</th>\n",
       "      <td>0.10</td>\n",
       "      <td>24000</td>\n",
       "      <td>94.814815</td>\n",
       "      <td>84.666667</td>\n",
       "      <td>14.333333</td>\n",
       "    </tr>\n",
       "  </tbody>\n",
       "</table>\n",
       "</div>"
      ],
      "text/plain": [
       "   poisoning_rate  frequency  backdoor_success_rate  clean_accuracy_after  \\\n",
       "0            0.01       1000               0.000000             98.833333   \n",
       "1            0.01      10000               0.000000             97.500000   \n",
       "2            0.01      24000               0.185185             97.833333   \n",
       "3            0.05       1000               0.370370             98.500000   \n",
       "4            0.05      10000              10.555556             99.166667   \n",
       "5            0.05      24000              14.814815             96.666667   \n",
       "6            0.10       1000              55.185185             92.166667   \n",
       "7            0.10      10000              62.407407             96.333333   \n",
       "8            0.10      24000              94.814815             84.666667   \n",
       "\n",
       "   clean_accuracy_drop  \n",
       "0             0.166667  \n",
       "1             1.500000  \n",
       "2             1.166667  \n",
       "3             0.500000  \n",
       "4            -0.166667  \n",
       "5             2.333333  \n",
       "6             6.833333  \n",
       "7             2.666667  \n",
       "8            14.333333  "
      ]
     },
     "execution_count": 15,
     "metadata": {},
     "output_type": "execute_result"
    }
   ],
   "source": [
    "results_df"
   ]
  },
  {
   "cell_type": "code",
   "execution_count": 16,
   "id": "cad3f806",
   "metadata": {
    "execution": {
     "iopub.execute_input": "2024-11-25T19:05:14.623075Z",
     "iopub.status.busy": "2024-11-25T19:05:14.622085Z",
     "iopub.status.idle": "2024-11-25T19:05:14.630653Z",
     "shell.execute_reply": "2024-11-25T19:05:14.630022Z"
    },
    "papermill": {
     "duration": 0.828283,
     "end_time": "2024-11-25T19:05:14.632278",
     "exception": false,
     "start_time": "2024-11-25T19:05:13.803995",
     "status": "completed"
    },
    "tags": []
   },
   "outputs": [],
   "source": [
    "results_df.to_csv('Wav2Vec2-SD-BKDR-0.05PosInv.csv', sep='\\t', index=False)"
   ]
  },
  {
   "cell_type": "code",
   "execution_count": null,
   "id": "c3e45435",
   "metadata": {
    "papermill": {
     "duration": 0.760158,
     "end_time": "2024-11-25T19:05:16.209238",
     "exception": false,
     "start_time": "2024-11-25T19:05:15.449080",
     "status": "completed"
    },
    "tags": []
   },
   "outputs": [],
   "source": []
  }
 ],
 "metadata": {
  "kaggle": {
   "accelerator": "gpu",
   "dataSources": [
    {
     "datasetId": 5789127,
     "sourceId": 9510683,
     "sourceType": "datasetVersion"
    }
   ],
   "isGpuEnabled": true,
   "isInternetEnabled": true,
   "language": "python",
   "sourceType": "notebook"
  },
  "kernelspec": {
   "display_name": "Python 3",
   "language": "python",
   "name": "python3"
  },
  "language_info": {
   "codemirror_mode": {
    "name": "ipython",
    "version": 3
   },
   "file_extension": ".py",
   "mimetype": "text/x-python",
   "name": "python",
   "nbconvert_exporter": "python",
   "pygments_lexer": "ipython3",
   "version": "3.10.14"
  },
  "papermill": {
   "default_parameters": {},
   "duration": 2989.661383,
   "end_time": "2024-11-25T19:05:20.644653",
   "environment_variables": {},
   "exception": null,
   "input_path": "__notebook__.ipynb",
   "output_path": "__notebook__.ipynb",
   "parameters": {},
   "start_time": "2024-11-25T18:15:30.983270",
   "version": "2.6.0"
  },
  "widgets": {
   "application/vnd.jupyter.widget-state+json": {
    "state": {
     "03ccf23390384b6083377c0d88e87295": {
      "model_module": "@jupyter-widgets/controls",
      "model_module_version": "1.5.0",
      "model_name": "HTMLModel",
      "state": {
       "_dom_classes": [],
       "_model_module": "@jupyter-widgets/controls",
       "_model_module_version": "1.5.0",
       "_model_name": "HTMLModel",
       "_view_count": null,
       "_view_module": "@jupyter-widgets/controls",
       "_view_module_version": "1.5.0",
       "_view_name": "HTMLView",
       "description": "",
       "description_tooltip": null,
       "layout": "IPY_MODEL_67ad995d2b5d46cf89e2544c65854c01",
       "placeholder": "​",
       "style": "IPY_MODEL_bb72677503b7472c9800f3912c8e7058",
       "value": " 300/300 [00:00&lt;00:00, 29.1kB/s]"
      }
     },
     "0699d8b1e7294d7aa280788e558a6bf7": {
      "model_module": "@jupyter-widgets/controls",
      "model_module_version": "1.5.0",
      "model_name": "ProgressStyleModel",
      "state": {
       "_model_module": "@jupyter-widgets/controls",
       "_model_module_version": "1.5.0",
       "_model_name": "ProgressStyleModel",
       "_view_count": null,
       "_view_module": "@jupyter-widgets/base",
       "_view_module_version": "1.2.0",
       "_view_name": "StyleView",
       "bar_color": null,
       "description_width": ""
      }
     },
     "0eb6d8daf4974e31afae4d90f0678e86": {
      "model_module": "@jupyter-widgets/controls",
      "model_module_version": "1.5.0",
      "model_name": "DescriptionStyleModel",
      "state": {
       "_model_module": "@jupyter-widgets/controls",
       "_model_module_version": "1.5.0",
       "_model_name": "DescriptionStyleModel",
       "_view_count": null,
       "_view_module": "@jupyter-widgets/base",
       "_view_module_version": "1.2.0",
       "_view_name": "StyleView",
       "description_width": ""
      }
     },
     "0ee54bb32fc94fe2ab6916db7110f8b9": {
      "model_module": "@jupyter-widgets/base",
      "model_module_version": "1.2.0",
      "model_name": "LayoutModel",
      "state": {
       "_model_module": "@jupyter-widgets/base",
       "_model_module_version": "1.2.0",
       "_model_name": "LayoutModel",
       "_view_count": null,
       "_view_module": "@jupyter-widgets/base",
       "_view_module_version": "1.2.0",
       "_view_name": "LayoutView",
       "align_content": null,
       "align_items": null,
       "align_self": null,
       "border": null,
       "bottom": null,
       "display": null,
       "flex": null,
       "flex_flow": null,
       "grid_area": null,
       "grid_auto_columns": null,
       "grid_auto_flow": null,
       "grid_auto_rows": null,
       "grid_column": null,
       "grid_gap": null,
       "grid_row": null,
       "grid_template_areas": null,
       "grid_template_columns": null,
       "grid_template_rows": null,
       "height": null,
       "justify_content": null,
       "justify_items": null,
       "left": null,
       "margin": null,
       "max_height": null,
       "max_width": null,
       "min_height": null,
       "min_width": null,
       "object_fit": null,
       "object_position": null,
       "order": null,
       "overflow": null,
       "overflow_x": null,
       "overflow_y": null,
       "padding": null,
       "right": null,
       "top": null,
       "visibility": null,
       "width": null
      }
     },
     "17939f5b4b684cbf9c8c68f83caa3072": {
      "model_module": "@jupyter-widgets/controls",
      "model_module_version": "1.5.0",
      "model_name": "ProgressStyleModel",
      "state": {
       "_model_module": "@jupyter-widgets/controls",
       "_model_module_version": "1.5.0",
       "_model_name": "ProgressStyleModel",
       "_view_count": null,
       "_view_module": "@jupyter-widgets/base",
       "_view_module_version": "1.2.0",
       "_view_name": "StyleView",
       "bar_color": null,
       "description_width": ""
      }
     },
     "23c7895020eb495295772ebe15f19bcb": {
      "model_module": "@jupyter-widgets/controls",
      "model_module_version": "1.5.0",
      "model_name": "ProgressStyleModel",
      "state": {
       "_model_module": "@jupyter-widgets/controls",
       "_model_module_version": "1.5.0",
       "_model_name": "ProgressStyleModel",
       "_view_count": null,
       "_view_module": "@jupyter-widgets/base",
       "_view_module_version": "1.2.0",
       "_view_name": "StyleView",
       "bar_color": null,
       "description_width": ""
      }
     },
     "2615cc682d5647a7bd1dd320011eb264": {
      "model_module": "@jupyter-widgets/controls",
      "model_module_version": "1.5.0",
      "model_name": "FloatProgressModel",
      "state": {
       "_dom_classes": [],
       "_model_module": "@jupyter-widgets/controls",
       "_model_module_version": "1.5.0",
       "_model_name": "FloatProgressModel",
       "_view_count": null,
       "_view_module": "@jupyter-widgets/controls",
       "_view_module_version": "1.5.0",
       "_view_name": "ProgressView",
       "bar_style": "success",
       "description": "",
       "description_tooltip": null,
       "layout": "IPY_MODEL_95efe6e1da8a4ffd934416c74148e7b8",
       "max": 85.0,
       "min": 0.0,
       "orientation": "horizontal",
       "style": "IPY_MODEL_17939f5b4b684cbf9c8c68f83caa3072",
       "value": 85.0
      }
     },
     "27ce4850b2fb4a289834974d67891030": {
      "model_module": "@jupyter-widgets/controls",
      "model_module_version": "1.5.0",
      "model_name": "HBoxModel",
      "state": {
       "_dom_classes": [],
       "_model_module": "@jupyter-widgets/controls",
       "_model_module_version": "1.5.0",
       "_model_name": "HBoxModel",
       "_view_count": null,
       "_view_module": "@jupyter-widgets/controls",
       "_view_module_version": "1.5.0",
       "_view_name": "HBoxView",
       "box_style": "",
       "children": [
        "IPY_MODEL_a7d0238211684b42adf3921ab848c16c",
        "IPY_MODEL_55427889bd0840da9facf59663109d0c",
        "IPY_MODEL_a4ff77a4c26d47dc83f93f575b0295f0"
       ],
       "layout": "IPY_MODEL_e77e23eac715438e8b99e39015968324"
      }
     },
     "2a5bf9822a314e52bf2caf269219efa5": {
      "model_module": "@jupyter-widgets/controls",
      "model_module_version": "1.5.0",
      "model_name": "FloatProgressModel",
      "state": {
       "_dom_classes": [],
       "_model_module": "@jupyter-widgets/controls",
       "_model_module_version": "1.5.0",
       "_model_name": "FloatProgressModel",
       "_view_count": null,
       "_view_module": "@jupyter-widgets/controls",
       "_view_module_version": "1.5.0",
       "_view_name": "ProgressView",
       "bar_style": "success",
       "description": "",
       "description_tooltip": null,
       "layout": "IPY_MODEL_d6c7dcacdbf24ea082a8c9f2ab353756",
       "max": 1261942732.0,
       "min": 0.0,
       "orientation": "horizontal",
       "style": "IPY_MODEL_6cf4fc453a2c4200811cd11844fb7500",
       "value": 1261942732.0
      }
     },
     "32602377bfd642dc828f7a47a60af6c1": {
      "model_module": "@jupyter-widgets/controls",
      "model_module_version": "1.5.0",
      "model_name": "HBoxModel",
      "state": {
       "_dom_classes": [],
       "_model_module": "@jupyter-widgets/controls",
       "_model_module_version": "1.5.0",
       "_model_name": "HBoxModel",
       "_view_count": null,
       "_view_module": "@jupyter-widgets/controls",
       "_view_module_version": "1.5.0",
       "_view_name": "HBoxView",
       "box_style": "",
       "children": [
        "IPY_MODEL_e5607f1b3cec4375b85234ccf53ae4a0",
        "IPY_MODEL_2a5bf9822a314e52bf2caf269219efa5",
        "IPY_MODEL_8f3c7fb986c7462897868bac8a3a1b3e"
       ],
       "layout": "IPY_MODEL_e0479dc986344518ac2bead69eb11d9b"
      }
     },
     "3b30c0acda654f3b82e0cbbf79ca5ede": {
      "model_module": "@jupyter-widgets/controls",
      "model_module_version": "1.5.0",
      "model_name": "HTMLModel",
      "state": {
       "_dom_classes": [],
       "_model_module": "@jupyter-widgets/controls",
       "_model_module_version": "1.5.0",
       "_model_name": "HTMLModel",
       "_view_count": null,
       "_view_module": "@jupyter-widgets/controls",
       "_view_module_version": "1.5.0",
       "_view_name": "HTMLView",
       "description": "",
       "description_tooltip": null,
       "layout": "IPY_MODEL_9a28c81aae294314a508880c25da2e6d",
       "placeholder": "​",
       "style": "IPY_MODEL_fdf7569544674536b2c3c427940899e0",
       "value": " 85.0/85.0 [00:00&lt;00:00, 8.20kB/s]"
      }
     },
     "408325d725d44956bbcdc8b5fc316c6d": {
      "model_module": "@jupyter-widgets/controls",
      "model_module_version": "1.5.0",
      "model_name": "HBoxModel",
      "state": {
       "_dom_classes": [],
       "_model_module": "@jupyter-widgets/controls",
       "_model_module_version": "1.5.0",
       "_model_name": "HBoxModel",
       "_view_count": null,
       "_view_module": "@jupyter-widgets/controls",
       "_view_module_version": "1.5.0",
       "_view_name": "HBoxView",
       "box_style": "",
       "children": [
        "IPY_MODEL_fd0f27afa756472995a7a6bcf14f5543",
        "IPY_MODEL_2615cc682d5647a7bd1dd320011eb264",
        "IPY_MODEL_3b30c0acda654f3b82e0cbbf79ca5ede"
       ],
       "layout": "IPY_MODEL_d5d5ce239d9449e586dba26800c8b82a"
      }
     },
     "432a7eefbbd147dea52120843c87ddf5": {
      "model_module": "@jupyter-widgets/controls",
      "model_module_version": "1.5.0",
      "model_name": "ProgressStyleModel",
      "state": {
       "_model_module": "@jupyter-widgets/controls",
       "_model_module_version": "1.5.0",
       "_model_name": "ProgressStyleModel",
       "_view_count": null,
       "_view_module": "@jupyter-widgets/base",
       "_view_module_version": "1.2.0",
       "_view_name": "StyleView",
       "bar_color": null,
       "description_width": ""
      }
     },
     "448a581fc887433991daa871747da4d8": {
      "model_module": "@jupyter-widgets/controls",
      "model_module_version": "1.5.0",
      "model_name": "HTMLModel",
      "state": {
       "_dom_classes": [],
       "_model_module": "@jupyter-widgets/controls",
       "_model_module_version": "1.5.0",
       "_model_name": "HTMLModel",
       "_view_count": null,
       "_view_module": "@jupyter-widgets/controls",
       "_view_module_version": "1.5.0",
       "_view_name": "HTMLView",
       "description": "",
       "description_tooltip": null,
       "layout": "IPY_MODEL_631bd70a81954e3da6dbd8574c241b8e",
       "placeholder": "​",
       "style": "IPY_MODEL_7711e083e7bc43ca8c64b8dd779194f6",
       "value": " 262/262 [00:00&lt;00:00, 24.6kB/s]"
      }
     },
     "55427889bd0840da9facf59663109d0c": {
      "model_module": "@jupyter-widgets/controls",
      "model_module_version": "1.5.0",
      "model_name": "FloatProgressModel",
      "state": {
       "_dom_classes": [],
       "_model_module": "@jupyter-widgets/controls",
       "_model_module_version": "1.5.0",
       "_model_name": "FloatProgressModel",
       "_view_count": null,
       "_view_module": "@jupyter-widgets/controls",
       "_view_module_version": "1.5.0",
       "_view_name": "ProgressView",
       "bar_style": "success",
       "description": "",
       "description_tooltip": null,
       "layout": "IPY_MODEL_c24fd59a9c904ff6a0f44c69b36d4f15",
       "max": 1531.0,
       "min": 0.0,
       "orientation": "horizontal",
       "style": "IPY_MODEL_432a7eefbbd147dea52120843c87ddf5",
       "value": 1531.0
      }
     },
     "5e7e56c52485462483231db113be93f3": {
      "model_module": "@jupyter-widgets/controls",
      "model_module_version": "1.5.0",
      "model_name": "HBoxModel",
      "state": {
       "_dom_classes": [],
       "_model_module": "@jupyter-widgets/controls",
       "_model_module_version": "1.5.0",
       "_model_name": "HBoxModel",
       "_view_count": null,
       "_view_module": "@jupyter-widgets/controls",
       "_view_module_version": "1.5.0",
       "_view_name": "HBoxView",
       "box_style": "",
       "children": [
        "IPY_MODEL_c867605089fe4074bb7645db997dd750",
        "IPY_MODEL_949d38e5e54348afa0b2c71c9342c22a",
        "IPY_MODEL_03ccf23390384b6083377c0d88e87295"
       ],
       "layout": "IPY_MODEL_a872e48fb3d1482ebac4c29d86b161c6"
      }
     },
     "60a3679c32b64847a2315f125c839c33": {
      "model_module": "@jupyter-widgets/base",
      "model_module_version": "1.2.0",
      "model_name": "LayoutModel",
      "state": {
       "_model_module": "@jupyter-widgets/base",
       "_model_module_version": "1.2.0",
       "_model_name": "LayoutModel",
       "_view_count": null,
       "_view_module": "@jupyter-widgets/base",
       "_view_module_version": "1.2.0",
       "_view_name": "LayoutView",
       "align_content": null,
       "align_items": null,
       "align_self": null,
       "border": null,
       "bottom": null,
       "display": null,
       "flex": null,
       "flex_flow": null,
       "grid_area": null,
       "grid_auto_columns": null,
       "grid_auto_flow": null,
       "grid_auto_rows": null,
       "grid_column": null,
       "grid_gap": null,
       "grid_row": null,
       "grid_template_areas": null,
       "grid_template_columns": null,
       "grid_template_rows": null,
       "height": null,
       "justify_content": null,
       "justify_items": null,
       "left": null,
       "margin": null,
       "max_height": null,
       "max_width": null,
       "min_height": null,
       "min_width": null,
       "object_fit": null,
       "object_position": null,
       "order": null,
       "overflow": null,
       "overflow_x": null,
       "overflow_y": null,
       "padding": null,
       "right": null,
       "top": null,
       "visibility": null,
       "width": null
      }
     },
     "631bd70a81954e3da6dbd8574c241b8e": {
      "model_module": "@jupyter-widgets/base",
      "model_module_version": "1.2.0",
      "model_name": "LayoutModel",
      "state": {
       "_model_module": "@jupyter-widgets/base",
       "_model_module_version": "1.2.0",
       "_model_name": "LayoutModel",
       "_view_count": null,
       "_view_module": "@jupyter-widgets/base",
       "_view_module_version": "1.2.0",
       "_view_name": "LayoutView",
       "align_content": null,
       "align_items": null,
       "align_self": null,
       "border": null,
       "bottom": null,
       "display": null,
       "flex": null,
       "flex_flow": null,
       "grid_area": null,
       "grid_auto_columns": null,
       "grid_auto_flow": null,
       "grid_auto_rows": null,
       "grid_column": null,
       "grid_gap": null,
       "grid_row": null,
       "grid_template_areas": null,
       "grid_template_columns": null,
       "grid_template_rows": null,
       "height": null,
       "justify_content": null,
       "justify_items": null,
       "left": null,
       "margin": null,
       "max_height": null,
       "max_width": null,
       "min_height": null,
       "min_width": null,
       "object_fit": null,
       "object_position": null,
       "order": null,
       "overflow": null,
       "overflow_x": null,
       "overflow_y": null,
       "padding": null,
       "right": null,
       "top": null,
       "visibility": null,
       "width": null
      }
     },
     "67ad995d2b5d46cf89e2544c65854c01": {
      "model_module": "@jupyter-widgets/base",
      "model_module_version": "1.2.0",
      "model_name": "LayoutModel",
      "state": {
       "_model_module": "@jupyter-widgets/base",
       "_model_module_version": "1.2.0",
       "_model_name": "LayoutModel",
       "_view_count": null,
       "_view_module": "@jupyter-widgets/base",
       "_view_module_version": "1.2.0",
       "_view_name": "LayoutView",
       "align_content": null,
       "align_items": null,
       "align_self": null,
       "border": null,
       "bottom": null,
       "display": null,
       "flex": null,
       "flex_flow": null,
       "grid_area": null,
       "grid_auto_columns": null,
       "grid_auto_flow": null,
       "grid_auto_rows": null,
       "grid_column": null,
       "grid_gap": null,
       "grid_row": null,
       "grid_template_areas": null,
       "grid_template_columns": null,
       "grid_template_rows": null,
       "height": null,
       "justify_content": null,
       "justify_items": null,
       "left": null,
       "margin": null,
       "max_height": null,
       "max_width": null,
       "min_height": null,
       "min_width": null,
       "object_fit": null,
       "object_position": null,
       "order": null,
       "overflow": null,
       "overflow_x": null,
       "overflow_y": null,
       "padding": null,
       "right": null,
       "top": null,
       "visibility": null,
       "width": null
      }
     },
     "6cf4fc453a2c4200811cd11844fb7500": {
      "model_module": "@jupyter-widgets/controls",
      "model_module_version": "1.5.0",
      "model_name": "ProgressStyleModel",
      "state": {
       "_model_module": "@jupyter-widgets/controls",
       "_model_module_version": "1.5.0",
       "_model_name": "ProgressStyleModel",
       "_view_count": null,
       "_view_module": "@jupyter-widgets/base",
       "_view_module_version": "1.2.0",
       "_view_name": "StyleView",
       "bar_color": null,
       "description_width": ""
      }
     },
     "7711e083e7bc43ca8c64b8dd779194f6": {
      "model_module": "@jupyter-widgets/controls",
      "model_module_version": "1.5.0",
      "model_name": "DescriptionStyleModel",
      "state": {
       "_model_module": "@jupyter-widgets/controls",
       "_model_module_version": "1.5.0",
       "_model_name": "DescriptionStyleModel",
       "_view_count": null,
       "_view_module": "@jupyter-widgets/base",
       "_view_module_version": "1.2.0",
       "_view_name": "StyleView",
       "description_width": ""
      }
     },
     "795d757552c5496fabbc50f34091896a": {
      "model_module": "@jupyter-widgets/controls",
      "model_module_version": "1.5.0",
      "model_name": "DescriptionStyleModel",
      "state": {
       "_model_module": "@jupyter-widgets/controls",
       "_model_module_version": "1.5.0",
       "_model_name": "DescriptionStyleModel",
       "_view_count": null,
       "_view_module": "@jupyter-widgets/base",
       "_view_module_version": "1.2.0",
       "_view_name": "StyleView",
       "description_width": ""
      }
     },
     "7be5c235aa5b4afeaf959286443558b4": {
      "model_module": "@jupyter-widgets/base",
      "model_module_version": "1.2.0",
      "model_name": "LayoutModel",
      "state": {
       "_model_module": "@jupyter-widgets/base",
       "_model_module_version": "1.2.0",
       "_model_name": "LayoutModel",
       "_view_count": null,
       "_view_module": "@jupyter-widgets/base",
       "_view_module_version": "1.2.0",
       "_view_name": "LayoutView",
       "align_content": null,
       "align_items": null,
       "align_self": null,
       "border": null,
       "bottom": null,
       "display": null,
       "flex": null,
       "flex_flow": null,
       "grid_area": null,
       "grid_auto_columns": null,
       "grid_auto_flow": null,
       "grid_auto_rows": null,
       "grid_column": null,
       "grid_gap": null,
       "grid_row": null,
       "grid_template_areas": null,
       "grid_template_columns": null,
       "grid_template_rows": null,
       "height": null,
       "justify_content": null,
       "justify_items": null,
       "left": null,
       "margin": null,
       "max_height": null,
       "max_width": null,
       "min_height": null,
       "min_width": null,
       "object_fit": null,
       "object_position": null,
       "order": null,
       "overflow": null,
       "overflow_x": null,
       "overflow_y": null,
       "padding": null,
       "right": null,
       "top": null,
       "visibility": null,
       "width": null
      }
     },
     "7c0ae8494219410ca78bcd17a0f2d22c": {
      "model_module": "@jupyter-widgets/base",
      "model_module_version": "1.2.0",
      "model_name": "LayoutModel",
      "state": {
       "_model_module": "@jupyter-widgets/base",
       "_model_module_version": "1.2.0",
       "_model_name": "LayoutModel",
       "_view_count": null,
       "_view_module": "@jupyter-widgets/base",
       "_view_module_version": "1.2.0",
       "_view_name": "LayoutView",
       "align_content": null,
       "align_items": null,
       "align_self": null,
       "border": null,
       "bottom": null,
       "display": null,
       "flex": null,
       "flex_flow": null,
       "grid_area": null,
       "grid_auto_columns": null,
       "grid_auto_flow": null,
       "grid_auto_rows": null,
       "grid_column": null,
       "grid_gap": null,
       "grid_row": null,
       "grid_template_areas": null,
       "grid_template_columns": null,
       "grid_template_rows": null,
       "height": null,
       "justify_content": null,
       "justify_items": null,
       "left": null,
       "margin": null,
       "max_height": null,
       "max_width": null,
       "min_height": null,
       "min_width": null,
       "object_fit": null,
       "object_position": null,
       "order": null,
       "overflow": null,
       "overflow_x": null,
       "overflow_y": null,
       "padding": null,
       "right": null,
       "top": null,
       "visibility": null,
       "width": null
      }
     },
     "7ea127e12a8546d99fa088707851fc8b": {
      "model_module": "@jupyter-widgets/controls",
      "model_module_version": "1.5.0",
      "model_name": "DescriptionStyleModel",
      "state": {
       "_model_module": "@jupyter-widgets/controls",
       "_model_module_version": "1.5.0",
       "_model_name": "DescriptionStyleModel",
       "_view_count": null,
       "_view_module": "@jupyter-widgets/base",
       "_view_module_version": "1.2.0",
       "_view_name": "StyleView",
       "description_width": ""
      }
     },
     "89b9df4dafb44b8fb4b6f1cf4cde3177": {
      "model_module": "@jupyter-widgets/controls",
      "model_module_version": "1.5.0",
      "model_name": "DescriptionStyleModel",
      "state": {
       "_model_module": "@jupyter-widgets/controls",
       "_model_module_version": "1.5.0",
       "_model_name": "DescriptionStyleModel",
       "_view_count": null,
       "_view_module": "@jupyter-widgets/base",
       "_view_module_version": "1.2.0",
       "_view_name": "StyleView",
       "description_width": ""
      }
     },
     "8c18cd38319348449655e23332acc5a2": {
      "model_module": "@jupyter-widgets/base",
      "model_module_version": "1.2.0",
      "model_name": "LayoutModel",
      "state": {
       "_model_module": "@jupyter-widgets/base",
       "_model_module_version": "1.2.0",
       "_model_name": "LayoutModel",
       "_view_count": null,
       "_view_module": "@jupyter-widgets/base",
       "_view_module_version": "1.2.0",
       "_view_name": "LayoutView",
       "align_content": null,
       "align_items": null,
       "align_self": null,
       "border": null,
       "bottom": null,
       "display": null,
       "flex": null,
       "flex_flow": null,
       "grid_area": null,
       "grid_auto_columns": null,
       "grid_auto_flow": null,
       "grid_auto_rows": null,
       "grid_column": null,
       "grid_gap": null,
       "grid_row": null,
       "grid_template_areas": null,
       "grid_template_columns": null,
       "grid_template_rows": null,
       "height": null,
       "justify_content": null,
       "justify_items": null,
       "left": null,
       "margin": null,
       "max_height": null,
       "max_width": null,
       "min_height": null,
       "min_width": null,
       "object_fit": null,
       "object_position": null,
       "order": null,
       "overflow": null,
       "overflow_x": null,
       "overflow_y": null,
       "padding": null,
       "right": null,
       "top": null,
       "visibility": null,
       "width": null
      }
     },
     "8f3c7fb986c7462897868bac8a3a1b3e": {
      "model_module": "@jupyter-widgets/controls",
      "model_module_version": "1.5.0",
      "model_name": "HTMLModel",
      "state": {
       "_dom_classes": [],
       "_model_module": "@jupyter-widgets/controls",
       "_model_module_version": "1.5.0",
       "_model_name": "HTMLModel",
       "_view_count": null,
       "_view_module": "@jupyter-widgets/controls",
       "_view_module_version": "1.5.0",
       "_view_name": "HTMLView",
       "description": "",
       "description_tooltip": null,
       "layout": "IPY_MODEL_7c0ae8494219410ca78bcd17a0f2d22c",
       "placeholder": "​",
       "style": "IPY_MODEL_f562841368844126a838e8ae0af57391",
       "value": " 1.26G/1.26G [00:05&lt;00:00, 228MB/s]"
      }
     },
     "949d38e5e54348afa0b2c71c9342c22a": {
      "model_module": "@jupyter-widgets/controls",
      "model_module_version": "1.5.0",
      "model_name": "FloatProgressModel",
      "state": {
       "_dom_classes": [],
       "_model_module": "@jupyter-widgets/controls",
       "_model_module_version": "1.5.0",
       "_model_name": "FloatProgressModel",
       "_view_count": null,
       "_view_module": "@jupyter-widgets/controls",
       "_view_module_version": "1.5.0",
       "_view_name": "ProgressView",
       "bar_style": "success",
       "description": "",
       "description_tooltip": null,
       "layout": "IPY_MODEL_60a3679c32b64847a2315f125c839c33",
       "max": 300.0,
       "min": 0.0,
       "orientation": "horizontal",
       "style": "IPY_MODEL_23c7895020eb495295772ebe15f19bcb",
       "value": 300.0
      }
     },
     "95efe6e1da8a4ffd934416c74148e7b8": {
      "model_module": "@jupyter-widgets/base",
      "model_module_version": "1.2.0",
      "model_name": "LayoutModel",
      "state": {
       "_model_module": "@jupyter-widgets/base",
       "_model_module_version": "1.2.0",
       "_model_name": "LayoutModel",
       "_view_count": null,
       "_view_module": "@jupyter-widgets/base",
       "_view_module_version": "1.2.0",
       "_view_name": "LayoutView",
       "align_content": null,
       "align_items": null,
       "align_self": null,
       "border": null,
       "bottom": null,
       "display": null,
       "flex": null,
       "flex_flow": null,
       "grid_area": null,
       "grid_auto_columns": null,
       "grid_auto_flow": null,
       "grid_auto_rows": null,
       "grid_column": null,
       "grid_gap": null,
       "grid_row": null,
       "grid_template_areas": null,
       "grid_template_columns": null,
       "grid_template_rows": null,
       "height": null,
       "justify_content": null,
       "justify_items": null,
       "left": null,
       "margin": null,
       "max_height": null,
       "max_width": null,
       "min_height": null,
       "min_width": null,
       "object_fit": null,
       "object_position": null,
       "order": null,
       "overflow": null,
       "overflow_x": null,
       "overflow_y": null,
       "padding": null,
       "right": null,
       "top": null,
       "visibility": null,
       "width": null
      }
     },
     "993d8b4bdca9437bad0d0369d73c1f51": {
      "model_module": "@jupyter-widgets/base",
      "model_module_version": "1.2.0",
      "model_name": "LayoutModel",
      "state": {
       "_model_module": "@jupyter-widgets/base",
       "_model_module_version": "1.2.0",
       "_model_name": "LayoutModel",
       "_view_count": null,
       "_view_module": "@jupyter-widgets/base",
       "_view_module_version": "1.2.0",
       "_view_name": "LayoutView",
       "align_content": null,
       "align_items": null,
       "align_self": null,
       "border": null,
       "bottom": null,
       "display": null,
       "flex": null,
       "flex_flow": null,
       "grid_area": null,
       "grid_auto_columns": null,
       "grid_auto_flow": null,
       "grid_auto_rows": null,
       "grid_column": null,
       "grid_gap": null,
       "grid_row": null,
       "grid_template_areas": null,
       "grid_template_columns": null,
       "grid_template_rows": null,
       "height": null,
       "justify_content": null,
       "justify_items": null,
       "left": null,
       "margin": null,
       "max_height": null,
       "max_width": null,
       "min_height": null,
       "min_width": null,
       "object_fit": null,
       "object_position": null,
       "order": null,
       "overflow": null,
       "overflow_x": null,
       "overflow_y": null,
       "padding": null,
       "right": null,
       "top": null,
       "visibility": null,
       "width": null
      }
     },
     "9a28c81aae294314a508880c25da2e6d": {
      "model_module": "@jupyter-widgets/base",
      "model_module_version": "1.2.0",
      "model_name": "LayoutModel",
      "state": {
       "_model_module": "@jupyter-widgets/base",
       "_model_module_version": "1.2.0",
       "_model_name": "LayoutModel",
       "_view_count": null,
       "_view_module": "@jupyter-widgets/base",
       "_view_module_version": "1.2.0",
       "_view_name": "LayoutView",
       "align_content": null,
       "align_items": null,
       "align_self": null,
       "border": null,
       "bottom": null,
       "display": null,
       "flex": null,
       "flex_flow": null,
       "grid_area": null,
       "grid_auto_columns": null,
       "grid_auto_flow": null,
       "grid_auto_rows": null,
       "grid_column": null,
       "grid_gap": null,
       "grid_row": null,
       "grid_template_areas": null,
       "grid_template_columns": null,
       "grid_template_rows": null,
       "height": null,
       "justify_content": null,
       "justify_items": null,
       "left": null,
       "margin": null,
       "max_height": null,
       "max_width": null,
       "min_height": null,
       "min_width": null,
       "object_fit": null,
       "object_position": null,
       "order": null,
       "overflow": null,
       "overflow_x": null,
       "overflow_y": null,
       "padding": null,
       "right": null,
       "top": null,
       "visibility": null,
       "width": null
      }
     },
     "9c5e119e158a465eac3e34aa2d0580a1": {
      "model_module": "@jupyter-widgets/base",
      "model_module_version": "1.2.0",
      "model_name": "LayoutModel",
      "state": {
       "_model_module": "@jupyter-widgets/base",
       "_model_module_version": "1.2.0",
       "_model_name": "LayoutModel",
       "_view_count": null,
       "_view_module": "@jupyter-widgets/base",
       "_view_module_version": "1.2.0",
       "_view_name": "LayoutView",
       "align_content": null,
       "align_items": null,
       "align_self": null,
       "border": null,
       "bottom": null,
       "display": null,
       "flex": null,
       "flex_flow": null,
       "grid_area": null,
       "grid_auto_columns": null,
       "grid_auto_flow": null,
       "grid_auto_rows": null,
       "grid_column": null,
       "grid_gap": null,
       "grid_row": null,
       "grid_template_areas": null,
       "grid_template_columns": null,
       "grid_template_rows": null,
       "height": null,
       "justify_content": null,
       "justify_items": null,
       "left": null,
       "margin": null,
       "max_height": null,
       "max_width": null,
       "min_height": null,
       "min_width": null,
       "object_fit": null,
       "object_position": null,
       "order": null,
       "overflow": null,
       "overflow_x": null,
       "overflow_y": null,
       "padding": null,
       "right": null,
       "top": null,
       "visibility": null,
       "width": null
      }
     },
     "a4ff77a4c26d47dc83f93f575b0295f0": {
      "model_module": "@jupyter-widgets/controls",
      "model_module_version": "1.5.0",
      "model_name": "HTMLModel",
      "state": {
       "_dom_classes": [],
       "_model_module": "@jupyter-widgets/controls",
       "_model_module_version": "1.5.0",
       "_model_name": "HTMLModel",
       "_view_count": null,
       "_view_module": "@jupyter-widgets/controls",
       "_view_module_version": "1.5.0",
       "_view_name": "HTMLView",
       "description": "",
       "description_tooltip": null,
       "layout": "IPY_MODEL_e08776922dba4564868c29deaf539733",
       "placeholder": "​",
       "style": "IPY_MODEL_e9f19c79b521436ea8271db99d6d3452",
       "value": " 1.53k/1.53k [00:00&lt;00:00, 149kB/s]"
      }
     },
     "a7d0238211684b42adf3921ab848c16c": {
      "model_module": "@jupyter-widgets/controls",
      "model_module_version": "1.5.0",
      "model_name": "HTMLModel",
      "state": {
       "_dom_classes": [],
       "_model_module": "@jupyter-widgets/controls",
       "_model_module_version": "1.5.0",
       "_model_name": "HTMLModel",
       "_view_count": null,
       "_view_module": "@jupyter-widgets/controls",
       "_view_module_version": "1.5.0",
       "_view_name": "HTMLView",
       "description": "",
       "description_tooltip": null,
       "layout": "IPY_MODEL_f9d7d9f8a19746e9bc4c00ec20025f97",
       "placeholder": "​",
       "style": "IPY_MODEL_89b9df4dafb44b8fb4b6f1cf4cde3177",
       "value": "config.json: 100%"
      }
     },
     "a872e48fb3d1482ebac4c29d86b161c6": {
      "model_module": "@jupyter-widgets/base",
      "model_module_version": "1.2.0",
      "model_name": "LayoutModel",
      "state": {
       "_model_module": "@jupyter-widgets/base",
       "_model_module_version": "1.2.0",
       "_model_name": "LayoutModel",
       "_view_count": null,
       "_view_module": "@jupyter-widgets/base",
       "_view_module_version": "1.2.0",
       "_view_name": "LayoutView",
       "align_content": null,
       "align_items": null,
       "align_self": null,
       "border": null,
       "bottom": null,
       "display": null,
       "flex": null,
       "flex_flow": null,
       "grid_area": null,
       "grid_auto_columns": null,
       "grid_auto_flow": null,
       "grid_auto_rows": null,
       "grid_column": null,
       "grid_gap": null,
       "grid_row": null,
       "grid_template_areas": null,
       "grid_template_columns": null,
       "grid_template_rows": null,
       "height": null,
       "justify_content": null,
       "justify_items": null,
       "left": null,
       "margin": null,
       "max_height": null,
       "max_width": null,
       "min_height": null,
       "min_width": null,
       "object_fit": null,
       "object_position": null,
       "order": null,
       "overflow": null,
       "overflow_x": null,
       "overflow_y": null,
       "padding": null,
       "right": null,
       "top": null,
       "visibility": null,
       "width": null
      }
     },
     "ac2bdbd24bd44a0082dacf5cf1a80a1a": {
      "model_module": "@jupyter-widgets/controls",
      "model_module_version": "1.5.0",
      "model_name": "DescriptionStyleModel",
      "state": {
       "_model_module": "@jupyter-widgets/controls",
       "_model_module_version": "1.5.0",
       "_model_name": "DescriptionStyleModel",
       "_view_count": null,
       "_view_module": "@jupyter-widgets/base",
       "_view_module_version": "1.2.0",
       "_view_name": "StyleView",
       "description_width": ""
      }
     },
     "bb72677503b7472c9800f3912c8e7058": {
      "model_module": "@jupyter-widgets/controls",
      "model_module_version": "1.5.0",
      "model_name": "DescriptionStyleModel",
      "state": {
       "_model_module": "@jupyter-widgets/controls",
       "_model_module_version": "1.5.0",
       "_model_name": "DescriptionStyleModel",
       "_view_count": null,
       "_view_module": "@jupyter-widgets/base",
       "_view_module_version": "1.2.0",
       "_view_name": "StyleView",
       "description_width": ""
      }
     },
     "c24fd59a9c904ff6a0f44c69b36d4f15": {
      "model_module": "@jupyter-widgets/base",
      "model_module_version": "1.2.0",
      "model_name": "LayoutModel",
      "state": {
       "_model_module": "@jupyter-widgets/base",
       "_model_module_version": "1.2.0",
       "_model_name": "LayoutModel",
       "_view_count": null,
       "_view_module": "@jupyter-widgets/base",
       "_view_module_version": "1.2.0",
       "_view_name": "LayoutView",
       "align_content": null,
       "align_items": null,
       "align_self": null,
       "border": null,
       "bottom": null,
       "display": null,
       "flex": null,
       "flex_flow": null,
       "grid_area": null,
       "grid_auto_columns": null,
       "grid_auto_flow": null,
       "grid_auto_rows": null,
       "grid_column": null,
       "grid_gap": null,
       "grid_row": null,
       "grid_template_areas": null,
       "grid_template_columns": null,
       "grid_template_rows": null,
       "height": null,
       "justify_content": null,
       "justify_items": null,
       "left": null,
       "margin": null,
       "max_height": null,
       "max_width": null,
       "min_height": null,
       "min_width": null,
       "object_fit": null,
       "object_position": null,
       "order": null,
       "overflow": null,
       "overflow_x": null,
       "overflow_y": null,
       "padding": null,
       "right": null,
       "top": null,
       "visibility": null,
       "width": null
      }
     },
     "c867605089fe4074bb7645db997dd750": {
      "model_module": "@jupyter-widgets/controls",
      "model_module_version": "1.5.0",
      "model_name": "HTMLModel",
      "state": {
       "_dom_classes": [],
       "_model_module": "@jupyter-widgets/controls",
       "_model_module_version": "1.5.0",
       "_model_name": "HTMLModel",
       "_view_count": null,
       "_view_module": "@jupyter-widgets/controls",
       "_view_module_version": "1.5.0",
       "_view_name": "HTMLView",
       "description": "",
       "description_tooltip": null,
       "layout": "IPY_MODEL_e1e7262056bd437d8ef81b53dc64a9bd",
       "placeholder": "​",
       "style": "IPY_MODEL_0eb6d8daf4974e31afae4d90f0678e86",
       "value": "vocab.json: 100%"
      }
     },
     "cc48442061104ea3835cd1a3fd3d2539": {
      "model_module": "@jupyter-widgets/controls",
      "model_module_version": "1.5.0",
      "model_name": "HBoxModel",
      "state": {
       "_dom_classes": [],
       "_model_module": "@jupyter-widgets/controls",
       "_model_module_version": "1.5.0",
       "_model_name": "HBoxModel",
       "_view_count": null,
       "_view_module": "@jupyter-widgets/controls",
       "_view_module_version": "1.5.0",
       "_view_name": "HBoxView",
       "box_style": "",
       "children": [
        "IPY_MODEL_d96c91dc0aef4392ba7c28f0aac628f6",
        "IPY_MODEL_da8a134992d54526889787467a33544e",
        "IPY_MODEL_448a581fc887433991daa871747da4d8"
       ],
       "layout": "IPY_MODEL_8c18cd38319348449655e23332acc5a2"
      }
     },
     "d5d5ce239d9449e586dba26800c8b82a": {
      "model_module": "@jupyter-widgets/base",
      "model_module_version": "1.2.0",
      "model_name": "LayoutModel",
      "state": {
       "_model_module": "@jupyter-widgets/base",
       "_model_module_version": "1.2.0",
       "_model_name": "LayoutModel",
       "_view_count": null,
       "_view_module": "@jupyter-widgets/base",
       "_view_module_version": "1.2.0",
       "_view_name": "LayoutView",
       "align_content": null,
       "align_items": null,
       "align_self": null,
       "border": null,
       "bottom": null,
       "display": null,
       "flex": null,
       "flex_flow": null,
       "grid_area": null,
       "grid_auto_columns": null,
       "grid_auto_flow": null,
       "grid_auto_rows": null,
       "grid_column": null,
       "grid_gap": null,
       "grid_row": null,
       "grid_template_areas": null,
       "grid_template_columns": null,
       "grid_template_rows": null,
       "height": null,
       "justify_content": null,
       "justify_items": null,
       "left": null,
       "margin": null,
       "max_height": null,
       "max_width": null,
       "min_height": null,
       "min_width": null,
       "object_fit": null,
       "object_position": null,
       "order": null,
       "overflow": null,
       "overflow_x": null,
       "overflow_y": null,
       "padding": null,
       "right": null,
       "top": null,
       "visibility": null,
       "width": null
      }
     },
     "d6c7dcacdbf24ea082a8c9f2ab353756": {
      "model_module": "@jupyter-widgets/base",
      "model_module_version": "1.2.0",
      "model_name": "LayoutModel",
      "state": {
       "_model_module": "@jupyter-widgets/base",
       "_model_module_version": "1.2.0",
       "_model_name": "LayoutModel",
       "_view_count": null,
       "_view_module": "@jupyter-widgets/base",
       "_view_module_version": "1.2.0",
       "_view_name": "LayoutView",
       "align_content": null,
       "align_items": null,
       "align_self": null,
       "border": null,
       "bottom": null,
       "display": null,
       "flex": null,
       "flex_flow": null,
       "grid_area": null,
       "grid_auto_columns": null,
       "grid_auto_flow": null,
       "grid_auto_rows": null,
       "grid_column": null,
       "grid_gap": null,
       "grid_row": null,
       "grid_template_areas": null,
       "grid_template_columns": null,
       "grid_template_rows": null,
       "height": null,
       "justify_content": null,
       "justify_items": null,
       "left": null,
       "margin": null,
       "max_height": null,
       "max_width": null,
       "min_height": null,
       "min_width": null,
       "object_fit": null,
       "object_position": null,
       "order": null,
       "overflow": null,
       "overflow_x": null,
       "overflow_y": null,
       "padding": null,
       "right": null,
       "top": null,
       "visibility": null,
       "width": null
      }
     },
     "d96c91dc0aef4392ba7c28f0aac628f6": {
      "model_module": "@jupyter-widgets/controls",
      "model_module_version": "1.5.0",
      "model_name": "HTMLModel",
      "state": {
       "_dom_classes": [],
       "_model_module": "@jupyter-widgets/controls",
       "_model_module_version": "1.5.0",
       "_model_name": "HTMLModel",
       "_view_count": null,
       "_view_module": "@jupyter-widgets/controls",
       "_view_module_version": "1.5.0",
       "_view_name": "HTMLView",
       "description": "",
       "description_tooltip": null,
       "layout": "IPY_MODEL_0ee54bb32fc94fe2ab6916db7110f8b9",
       "placeholder": "​",
       "style": "IPY_MODEL_7ea127e12a8546d99fa088707851fc8b",
       "value": "preprocessor_config.json: 100%"
      }
     },
     "da8a134992d54526889787467a33544e": {
      "model_module": "@jupyter-widgets/controls",
      "model_module_version": "1.5.0",
      "model_name": "FloatProgressModel",
      "state": {
       "_dom_classes": [],
       "_model_module": "@jupyter-widgets/controls",
       "_model_module_version": "1.5.0",
       "_model_name": "FloatProgressModel",
       "_view_count": null,
       "_view_module": "@jupyter-widgets/controls",
       "_view_module_version": "1.5.0",
       "_view_name": "ProgressView",
       "bar_style": "success",
       "description": "",
       "description_tooltip": null,
       "layout": "IPY_MODEL_9c5e119e158a465eac3e34aa2d0580a1",
       "max": 262.0,
       "min": 0.0,
       "orientation": "horizontal",
       "style": "IPY_MODEL_0699d8b1e7294d7aa280788e558a6bf7",
       "value": 262.0
      }
     },
     "e0479dc986344518ac2bead69eb11d9b": {
      "model_module": "@jupyter-widgets/base",
      "model_module_version": "1.2.0",
      "model_name": "LayoutModel",
      "state": {
       "_model_module": "@jupyter-widgets/base",
       "_model_module_version": "1.2.0",
       "_model_name": "LayoutModel",
       "_view_count": null,
       "_view_module": "@jupyter-widgets/base",
       "_view_module_version": "1.2.0",
       "_view_name": "LayoutView",
       "align_content": null,
       "align_items": null,
       "align_self": null,
       "border": null,
       "bottom": null,
       "display": null,
       "flex": null,
       "flex_flow": null,
       "grid_area": null,
       "grid_auto_columns": null,
       "grid_auto_flow": null,
       "grid_auto_rows": null,
       "grid_column": null,
       "grid_gap": null,
       "grid_row": null,
       "grid_template_areas": null,
       "grid_template_columns": null,
       "grid_template_rows": null,
       "height": null,
       "justify_content": null,
       "justify_items": null,
       "left": null,
       "margin": null,
       "max_height": null,
       "max_width": null,
       "min_height": null,
       "min_width": null,
       "object_fit": null,
       "object_position": null,
       "order": null,
       "overflow": null,
       "overflow_x": null,
       "overflow_y": null,
       "padding": null,
       "right": null,
       "top": null,
       "visibility": null,
       "width": null
      }
     },
     "e08776922dba4564868c29deaf539733": {
      "model_module": "@jupyter-widgets/base",
      "model_module_version": "1.2.0",
      "model_name": "LayoutModel",
      "state": {
       "_model_module": "@jupyter-widgets/base",
       "_model_module_version": "1.2.0",
       "_model_name": "LayoutModel",
       "_view_count": null,
       "_view_module": "@jupyter-widgets/base",
       "_view_module_version": "1.2.0",
       "_view_name": "LayoutView",
       "align_content": null,
       "align_items": null,
       "align_self": null,
       "border": null,
       "bottom": null,
       "display": null,
       "flex": null,
       "flex_flow": null,
       "grid_area": null,
       "grid_auto_columns": null,
       "grid_auto_flow": null,
       "grid_auto_rows": null,
       "grid_column": null,
       "grid_gap": null,
       "grid_row": null,
       "grid_template_areas": null,
       "grid_template_columns": null,
       "grid_template_rows": null,
       "height": null,
       "justify_content": null,
       "justify_items": null,
       "left": null,
       "margin": null,
       "max_height": null,
       "max_width": null,
       "min_height": null,
       "min_width": null,
       "object_fit": null,
       "object_position": null,
       "order": null,
       "overflow": null,
       "overflow_x": null,
       "overflow_y": null,
       "padding": null,
       "right": null,
       "top": null,
       "visibility": null,
       "width": null
      }
     },
     "e1e7262056bd437d8ef81b53dc64a9bd": {
      "model_module": "@jupyter-widgets/base",
      "model_module_version": "1.2.0",
      "model_name": "LayoutModel",
      "state": {
       "_model_module": "@jupyter-widgets/base",
       "_model_module_version": "1.2.0",
       "_model_name": "LayoutModel",
       "_view_count": null,
       "_view_module": "@jupyter-widgets/base",
       "_view_module_version": "1.2.0",
       "_view_name": "LayoutView",
       "align_content": null,
       "align_items": null,
       "align_self": null,
       "border": null,
       "bottom": null,
       "display": null,
       "flex": null,
       "flex_flow": null,
       "grid_area": null,
       "grid_auto_columns": null,
       "grid_auto_flow": null,
       "grid_auto_rows": null,
       "grid_column": null,
       "grid_gap": null,
       "grid_row": null,
       "grid_template_areas": null,
       "grid_template_columns": null,
       "grid_template_rows": null,
       "height": null,
       "justify_content": null,
       "justify_items": null,
       "left": null,
       "margin": null,
       "max_height": null,
       "max_width": null,
       "min_height": null,
       "min_width": null,
       "object_fit": null,
       "object_position": null,
       "order": null,
       "overflow": null,
       "overflow_x": null,
       "overflow_y": null,
       "padding": null,
       "right": null,
       "top": null,
       "visibility": null,
       "width": null
      }
     },
     "e5607f1b3cec4375b85234ccf53ae4a0": {
      "model_module": "@jupyter-widgets/controls",
      "model_module_version": "1.5.0",
      "model_name": "HTMLModel",
      "state": {
       "_dom_classes": [],
       "_model_module": "@jupyter-widgets/controls",
       "_model_module_version": "1.5.0",
       "_model_name": "HTMLModel",
       "_view_count": null,
       "_view_module": "@jupyter-widgets/controls",
       "_view_module_version": "1.5.0",
       "_view_name": "HTMLView",
       "description": "",
       "description_tooltip": null,
       "layout": "IPY_MODEL_7be5c235aa5b4afeaf959286443558b4",
       "placeholder": "​",
       "style": "IPY_MODEL_795d757552c5496fabbc50f34091896a",
       "value": "model.safetensors: 100%"
      }
     },
     "e77e23eac715438e8b99e39015968324": {
      "model_module": "@jupyter-widgets/base",
      "model_module_version": "1.2.0",
      "model_name": "LayoutModel",
      "state": {
       "_model_module": "@jupyter-widgets/base",
       "_model_module_version": "1.2.0",
       "_model_name": "LayoutModel",
       "_view_count": null,
       "_view_module": "@jupyter-widgets/base",
       "_view_module_version": "1.2.0",
       "_view_name": "LayoutView",
       "align_content": null,
       "align_items": null,
       "align_self": null,
       "border": null,
       "bottom": null,
       "display": null,
       "flex": null,
       "flex_flow": null,
       "grid_area": null,
       "grid_auto_columns": null,
       "grid_auto_flow": null,
       "grid_auto_rows": null,
       "grid_column": null,
       "grid_gap": null,
       "grid_row": null,
       "grid_template_areas": null,
       "grid_template_columns": null,
       "grid_template_rows": null,
       "height": null,
       "justify_content": null,
       "justify_items": null,
       "left": null,
       "margin": null,
       "max_height": null,
       "max_width": null,
       "min_height": null,
       "min_width": null,
       "object_fit": null,
       "object_position": null,
       "order": null,
       "overflow": null,
       "overflow_x": null,
       "overflow_y": null,
       "padding": null,
       "right": null,
       "top": null,
       "visibility": null,
       "width": null
      }
     },
     "e9f19c79b521436ea8271db99d6d3452": {
      "model_module": "@jupyter-widgets/controls",
      "model_module_version": "1.5.0",
      "model_name": "DescriptionStyleModel",
      "state": {
       "_model_module": "@jupyter-widgets/controls",
       "_model_module_version": "1.5.0",
       "_model_name": "DescriptionStyleModel",
       "_view_count": null,
       "_view_module": "@jupyter-widgets/base",
       "_view_module_version": "1.2.0",
       "_view_name": "StyleView",
       "description_width": ""
      }
     },
     "f562841368844126a838e8ae0af57391": {
      "model_module": "@jupyter-widgets/controls",
      "model_module_version": "1.5.0",
      "model_name": "DescriptionStyleModel",
      "state": {
       "_model_module": "@jupyter-widgets/controls",
       "_model_module_version": "1.5.0",
       "_model_name": "DescriptionStyleModel",
       "_view_count": null,
       "_view_module": "@jupyter-widgets/base",
       "_view_module_version": "1.2.0",
       "_view_name": "StyleView",
       "description_width": ""
      }
     },
     "f9d7d9f8a19746e9bc4c00ec20025f97": {
      "model_module": "@jupyter-widgets/base",
      "model_module_version": "1.2.0",
      "model_name": "LayoutModel",
      "state": {
       "_model_module": "@jupyter-widgets/base",
       "_model_module_version": "1.2.0",
       "_model_name": "LayoutModel",
       "_view_count": null,
       "_view_module": "@jupyter-widgets/base",
       "_view_module_version": "1.2.0",
       "_view_name": "LayoutView",
       "align_content": null,
       "align_items": null,
       "align_self": null,
       "border": null,
       "bottom": null,
       "display": null,
       "flex": null,
       "flex_flow": null,
       "grid_area": null,
       "grid_auto_columns": null,
       "grid_auto_flow": null,
       "grid_auto_rows": null,
       "grid_column": null,
       "grid_gap": null,
       "grid_row": null,
       "grid_template_areas": null,
       "grid_template_columns": null,
       "grid_template_rows": null,
       "height": null,
       "justify_content": null,
       "justify_items": null,
       "left": null,
       "margin": null,
       "max_height": null,
       "max_width": null,
       "min_height": null,
       "min_width": null,
       "object_fit": null,
       "object_position": null,
       "order": null,
       "overflow": null,
       "overflow_x": null,
       "overflow_y": null,
       "padding": null,
       "right": null,
       "top": null,
       "visibility": null,
       "width": null
      }
     },
     "fd0f27afa756472995a7a6bcf14f5543": {
      "model_module": "@jupyter-widgets/controls",
      "model_module_version": "1.5.0",
      "model_name": "HTMLModel",
      "state": {
       "_dom_classes": [],
       "_model_module": "@jupyter-widgets/controls",
       "_model_module_version": "1.5.0",
       "_model_name": "HTMLModel",
       "_view_count": null,
       "_view_module": "@jupyter-widgets/controls",
       "_view_module_version": "1.5.0",
       "_view_name": "HTMLView",
       "description": "",
       "description_tooltip": null,
       "layout": "IPY_MODEL_993d8b4bdca9437bad0d0369d73c1f51",
       "placeholder": "​",
       "style": "IPY_MODEL_ac2bdbd24bd44a0082dacf5cf1a80a1a",
       "value": "special_tokens_map.json: 100%"
      }
     },
     "fdf7569544674536b2c3c427940899e0": {
      "model_module": "@jupyter-widgets/controls",
      "model_module_version": "1.5.0",
      "model_name": "DescriptionStyleModel",
      "state": {
       "_model_module": "@jupyter-widgets/controls",
       "_model_module_version": "1.5.0",
       "_model_name": "DescriptionStyleModel",
       "_view_count": null,
       "_view_module": "@jupyter-widgets/base",
       "_view_module_version": "1.2.0",
       "_view_name": "StyleView",
       "description_width": ""
      }
     }
    },
    "version_major": 2,
    "version_minor": 0
   }
  }
 },
 "nbformat": 4,
 "nbformat_minor": 5
}

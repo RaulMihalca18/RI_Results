{
 "cells": [
  {
   "cell_type": "code",
   "execution_count": 1,
   "id": "c9687215",
   "metadata": {
    "execution": {
     "iopub.execute_input": "2024-12-03T20:49:44.155373Z",
     "iopub.status.busy": "2024-12-03T20:49:44.155012Z",
     "iopub.status.idle": "2024-12-03T20:50:05.074970Z",
     "shell.execute_reply": "2024-12-03T20:50:05.074167Z"
    },
    "papermill": {
     "duration": 20.935606,
     "end_time": "2024-12-03T20:50:05.077244",
     "exception": false,
     "start_time": "2024-12-03T20:49:44.141638",
     "status": "completed"
    },
    "tags": []
   },
   "outputs": [],
   "source": [
    "import sys\n",
    "import os\n",
    "from tqdm import tqdm\n",
    "from sklearn.model_selection import train_test_split\n",
    "from itertools import product\n",
    "import subprocess\n",
    "import numpy as np\n",
    "import pandas as pd\n",
    "import glob\n",
    "from collections import OrderedDict\n",
    "import random\n",
    "import torch\n",
    "import torch.nn as nn\n",
    "import IPython.display as ipd\n",
    "import torchaudio\n",
    "from transformers import Wav2Vec2Processor, Wav2Vec2ForSequenceClassification, AdamW\n",
    "from torch.utils.data import DataLoader, Dataset\n",
    "from torch.nn.utils.rnn import pad_sequence"
   ]
  },
  {
   "cell_type": "code",
   "execution_count": 2,
   "id": "859dfbdc",
   "metadata": {
    "execution": {
     "iopub.execute_input": "2024-12-03T20:50:05.101742Z",
     "iopub.status.busy": "2024-12-03T20:50:05.101120Z",
     "iopub.status.idle": "2024-12-03T20:50:05.203319Z",
     "shell.execute_reply": "2024-12-03T20:50:05.202133Z"
    },
    "papermill": {
     "duration": 0.115921,
     "end_time": "2024-12-03T20:50:05.205387",
     "exception": false,
     "start_time": "2024-12-03T20:50:05.089466",
     "status": "completed"
    },
    "tags": []
   },
   "outputs": [
    {
     "name": "stdout",
     "output_type": "stream",
     "text": [
      "GPU: Tesla P100-PCIE-16GB\n"
     ]
    }
   ],
   "source": [
    "seed = 123\n",
    "random.seed(seed)\n",
    "np.random.seed(seed)\n",
    "torch.manual_seed(seed)\n",
    "torch.backends.cudnn.deterministic = True\n",
    "\n",
    "device = torch.device('cuda' if torch.cuda.is_available() else 'cpu')\n",
    "\n",
    "if str(device) == 'cuda':\n",
    "    \n",
    "\n",
    "    current_device = torch.cuda.current_device()\n",
    "    gpu_name = torch.cuda.get_device_name(current_device)\n",
    "    torch.cuda.manual_seed(seed)\n",
    "    torch.cuda.manual_seed_all(seed)\n",
    "    print(f\"GPU: {gpu_name}\" )"
   ]
  },
  {
   "cell_type": "code",
   "execution_count": 3,
   "id": "8c1c48ec",
   "metadata": {
    "execution": {
     "iopub.execute_input": "2024-12-03T20:50:05.228496Z",
     "iopub.status.busy": "2024-12-03T20:50:05.228119Z",
     "iopub.status.idle": "2024-12-03T20:50:13.261245Z",
     "shell.execute_reply": "2024-12-03T20:50:13.259927Z"
    },
    "papermill": {
     "duration": 8.048031,
     "end_time": "2024-12-03T20:50:13.264086",
     "exception": false,
     "start_time": "2024-12-03T20:50:05.216055",
     "status": "completed"
    },
    "tags": []
   },
   "outputs": [
    {
     "data": {
      "application/vnd.jupyter.widget-view+json": {
       "model_id": "7187a32387a244a2a5a69e01bf73c191",
       "version_major": 2,
       "version_minor": 0
      },
      "text/plain": [
       "preprocessor_config.json:   0%|          | 0.00/262 [00:00<?, ?B/s]"
      ]
     },
     "metadata": {},
     "output_type": "display_data"
    },
    {
     "data": {
      "application/vnd.jupyter.widget-view+json": {
       "model_id": "7076caac111b4ab2a3cf8b8b180ea2b0",
       "version_major": 2,
       "version_minor": 0
      },
      "text/plain": [
       "config.json:   0%|          | 0.00/1.53k [00:00<?, ?B/s]"
      ]
     },
     "metadata": {},
     "output_type": "display_data"
    },
    {
     "data": {
      "application/vnd.jupyter.widget-view+json": {
       "model_id": "041ad8e8a912445592b0d6ebea06e5d8",
       "version_major": 2,
       "version_minor": 0
      },
      "text/plain": [
       "vocab.json:   0%|          | 0.00/300 [00:00<?, ?B/s]"
      ]
     },
     "metadata": {},
     "output_type": "display_data"
    },
    {
     "data": {
      "application/vnd.jupyter.widget-view+json": {
       "model_id": "2f84bdb0ca5041e397b0381796cf453e",
       "version_major": 2,
       "version_minor": 0
      },
      "text/plain": [
       "special_tokens_map.json:   0%|          | 0.00/85.0 [00:00<?, ?B/s]"
      ]
     },
     "metadata": {},
     "output_type": "display_data"
    },
    {
     "data": {
      "application/vnd.jupyter.widget-view+json": {
       "model_id": "52035a68ee6b439eb25afeb6f5476f09",
       "version_major": 2,
       "version_minor": 0
      },
      "text/plain": [
       "model.safetensors:   0%|          | 0.00/1.26G [00:00<?, ?B/s]"
      ]
     },
     "metadata": {},
     "output_type": "display_data"
    },
    {
     "name": "stderr",
     "output_type": "stream",
     "text": [
      "Some weights of Wav2Vec2ForSequenceClassification were not initialized from the model checkpoint at jonatasgrosman/wav2vec2-large-xlsr-53-english and are newly initialized: ['classifier.bias', 'classifier.weight', 'projector.bias', 'projector.weight']\n",
      "You should probably TRAIN this model on a down-stream task to be able to use it for predictions and inference.\n"
     ]
    }
   ],
   "source": [
    "processor = Wav2Vec2Processor.from_pretrained(\"jonatasgrosman/wav2vec2-large-xlsr-53-english\")\n",
    "model = Wav2Vec2ForSequenceClassification.from_pretrained(\"jonatasgrosman/wav2vec2-large-xlsr-53-english\").to(device)\n",
    "\n",
    "def load_data(data_dir):\n",
    "    \n",
    "    wav_files = glob.glob(f\"{data_dir}/*.wav\")\n",
    "    data = []\n",
    "    \n",
    "    for wav_file in wav_files:\n",
    "        label = int(os.path.basename(wav_file).split('_')[0])\n",
    "        data.append((wav_file, label))\n",
    "        \n",
    "    return pd.DataFrame(data, columns=['wavfile', 'label'])\n",
    "\n",
    "data_dir = '/kaggle/input/spoken-digits/recordings'\n",
    "\n",
    "data = load_data(data_dir)\n",
    "\n",
    "train_data, test_data = train_test_split(data, test_size=0.2, stratify=data['label'])\n",
    "\n",
    "train_data = train_data.reset_index(drop=True)\n",
    "\n",
    "test_data = test_data.reset_index(drop=True)\n",
    "\n",
    "class AudioDataset(Dataset):\n",
    "    \n",
    "    def __init__(self, df, processor, target_sample_rate=16000):\n",
    "        self.df = df\n",
    "        self.processor = processor\n",
    "        self.target_sample_rate = target_sample_rate\n",
    "\n",
    "    def __len__(self):\n",
    "        return len(self.df)\n",
    "\n",
    "    def __getitem__(self, idx):\n",
    "        audio_path = self.df.iloc[idx]['wavfile']\n",
    "        label = self.df.iloc[idx]['label']\n",
    "        audio_data, sample_rate = torchaudio.load(audio_path)\n",
    "        \n",
    "        if sample_rate != self.target_sample_rate:\n",
    "            resampler = torchaudio.transforms.Resample(orig_freq=sample_rate, new_freq=self.target_sample_rate)\n",
    "            audio_data = resampler(audio_data)\n",
    "        \n",
    "        audio_data = audio_data.squeeze().numpy()\n",
    "        return torch.tensor(audio_data), label\n",
    "\n",
    "def pre_dataloader(batch):\n",
    "    audios, labels = zip(*batch)\n",
    "    audios = [torch.tensor(audio) for audio in audios]\n",
    "    labels = torch.tensor(labels)\n",
    "    audios_padded = pad_sequence(audios, batch_first=True, padding_value=0.0)\n",
    "    return audios_padded, labels"
   ]
  },
  {
   "cell_type": "code",
   "execution_count": 4,
   "id": "a8ef3f81",
   "metadata": {
    "execution": {
     "iopub.execute_input": "2024-12-03T20:50:13.292465Z",
     "iopub.status.busy": "2024-12-03T20:50:13.292057Z",
     "iopub.status.idle": "2024-12-03T20:50:13.297413Z",
     "shell.execute_reply": "2024-12-03T20:50:13.296464Z"
    },
    "papermill": {
     "duration": 0.021448,
     "end_time": "2024-12-03T20:50:13.299410",
     "exception": false,
     "start_time": "2024-12-03T20:50:13.277962",
     "status": "completed"
    },
    "tags": []
   },
   "outputs": [],
   "source": [
    "test_dataset = AudioDataset(test_data, processor)\n",
    "test_loader = DataLoader(test_dataset, batch_size=1, shuffle=False)"
   ]
  },
  {
   "cell_type": "code",
   "execution_count": 5,
   "id": "b82eaba5",
   "metadata": {
    "execution": {
     "iopub.execute_input": "2024-12-03T20:50:13.324156Z",
     "iopub.status.busy": "2024-12-03T20:50:13.323766Z",
     "iopub.status.idle": "2024-12-03T20:50:36.232149Z",
     "shell.execute_reply": "2024-12-03T20:50:36.231012Z"
    },
    "papermill": {
     "duration": 22.924053,
     "end_time": "2024-12-03T20:50:36.235297",
     "exception": false,
     "start_time": "2024-12-03T20:50:13.311244",
     "status": "completed"
    },
    "tags": []
   },
   "outputs": [
    {
     "name": "stderr",
     "output_type": "stream",
     "text": [
      "100%|██████████| 600/600 [00:22<00:00, 26.20it/s]"
     ]
    },
    {
     "name": "stdout",
     "output_type": "stream",
     "text": [
      "zero shot test accuracy: 12.0%\n"
     ]
    },
    {
     "name": "stderr",
     "output_type": "stream",
     "text": [
      "\n"
     ]
    }
   ],
   "source": [
    "def predict(model, processor, audio_data):\n",
    "    inputs = processor(audio_data, return_tensors=\"pt\", sampling_rate=16000, padding=True)\n",
    "    inputs = {key: value.to(device) for key, value in inputs.items()}\n",
    "    \n",
    "    with torch.no_grad():\n",
    "        logits = model(**inputs).logits\n",
    "    predicted_ids = torch.argmax(logits, dim=-1)\n",
    "    \n",
    "    return predicted_ids\n",
    "\n",
    "predictions = []\n",
    "true_labels = []\n",
    "\n",
    "for audio_data, label in tqdm(test_loader):\n",
    "    \n",
    "    audio_data = audio_data.numpy().flatten()\n",
    "    pred_id = predict(model, processor, audio_data)\n",
    "    predictions.append(pred_id.item())\n",
    "    true_labels.append(label.item())\n",
    "\n",
    "accuracy = (np.array(predictions) == np.array(true_labels)).mean()\n",
    "print(f\"zero shot test accuracy: {accuracy * 100}%\")"
   ]
  },
  {
   "cell_type": "code",
   "execution_count": 6,
   "id": "9d2103bb",
   "metadata": {
    "execution": {
     "iopub.execute_input": "2024-12-03T20:50:36.280085Z",
     "iopub.status.busy": "2024-12-03T20:50:36.279621Z",
     "iopub.status.idle": "2024-12-03T20:50:37.438907Z",
     "shell.execute_reply": "2024-12-03T20:50:37.438035Z"
    },
    "papermill": {
     "duration": 1.183977,
     "end_time": "2024-12-03T20:50:37.441424",
     "exception": false,
     "start_time": "2024-12-03T20:50:36.257447",
     "status": "completed"
    },
    "tags": []
   },
   "outputs": [
    {
     "name": "stderr",
     "output_type": "stream",
     "text": [
      "Some weights of Wav2Vec2ForSequenceClassification were not initialized from the model checkpoint at jonatasgrosman/wav2vec2-large-xlsr-53-english and are newly initialized: ['classifier.bias', 'classifier.weight', 'projector.bias', 'projector.weight']\n",
      "You should probably TRAIN this model on a down-stream task to be able to use it for predictions and inference.\n"
     ]
    }
   ],
   "source": [
    "processor = Wav2Vec2Processor.from_pretrained(\"jonatasgrosman/wav2vec2-large-xlsr-53-english\")\n",
    "model = Wav2Vec2ForSequenceClassification.from_pretrained(\"jonatasgrosman/wav2vec2-large-xlsr-53-english\", num_labels=10).to(device)"
   ]
  },
  {
   "cell_type": "code",
   "execution_count": 7,
   "id": "5f1f877e",
   "metadata": {
    "execution": {
     "iopub.execute_input": "2024-12-03T20:50:37.486033Z",
     "iopub.status.busy": "2024-12-03T20:50:37.485354Z",
     "iopub.status.idle": "2024-12-03T20:50:37.490388Z",
     "shell.execute_reply": "2024-12-03T20:50:37.489382Z"
    },
    "papermill": {
     "duration": 0.029731,
     "end_time": "2024-12-03T20:50:37.492324",
     "exception": false,
     "start_time": "2024-12-03T20:50:37.462593",
     "status": "completed"
    },
    "tags": []
   },
   "outputs": [],
   "source": [
    "train_dataset = AudioDataset(train_data, processor)\n",
    "\n",
    "train_loader = DataLoader(train_dataset, batch_size=8, shuffle=True, collate_fn=pre_dataloader)"
   ]
  },
  {
   "cell_type": "code",
   "execution_count": 8,
   "id": "67bd4e99",
   "metadata": {
    "execution": {
     "iopub.execute_input": "2024-12-03T20:50:37.535697Z",
     "iopub.status.busy": "2024-12-03T20:50:37.535328Z",
     "iopub.status.idle": "2024-12-03T20:50:37.543265Z",
     "shell.execute_reply": "2024-12-03T20:50:37.542387Z"
    },
    "papermill": {
     "duration": 0.031977,
     "end_time": "2024-12-03T20:50:37.545162",
     "exception": false,
     "start_time": "2024-12-03T20:50:37.513185",
     "status": "completed"
    },
    "tags": []
   },
   "outputs": [],
   "source": [
    "def train(model, processor, train_loader, optimizer, epoch):\n",
    "    model.train()\n",
    "    total_loss = 0\n",
    "    for batch in tqdm(train_loader):\n",
    "        audio_data, labels = batch\n",
    "        audio_data = audio_data.to(device)\n",
    "        labels = labels.to(device)\n",
    "        optimizer.zero_grad()\n",
    "        outputs = model(audio_data, labels=labels)\n",
    "        loss = outputs.loss\n",
    "        loss.backward()\n",
    "        optimizer.step()\n",
    "        total_loss += loss.item()\n",
    "    print(f\"Epoch {epoch}, Loss: {total_loss / len(train_loader)}\")\n",
    "\n",
    "def evaluate(model, processor, test_loader):\n",
    "    model.eval()\n",
    "    total_correct = 0\n",
    "    total_count = 0\n",
    "    with torch.no_grad():\n",
    "        for batch in test_loader:\n",
    "            audio_data, labels = batch\n",
    "            audio_data = audio_data.to(device)\n",
    "            labels = labels.to(device)\n",
    "            outputs = model(audio_data)\n",
    "            logits = outputs.logits\n",
    "            predicted_ids = torch.argmax(logits, dim=-1)\n",
    "            total_correct += (predicted_ids == labels).sum().item()\n",
    "            total_count += labels.size(0)\n",
    "    accuracy = total_correct / total_count\n",
    "    print(f\"Test Accuracy: {accuracy * 100}%\")\n",
    "    return accuracy * 100"
   ]
  },
  {
   "cell_type": "code",
   "execution_count": 9,
   "id": "358c886d",
   "metadata": {
    "execution": {
     "iopub.execute_input": "2024-12-03T20:50:37.589681Z",
     "iopub.status.busy": "2024-12-03T20:50:37.589285Z",
     "iopub.status.idle": "2024-12-03T20:54:39.232685Z",
     "shell.execute_reply": "2024-12-03T20:54:39.231636Z"
    },
    "papermill": {
     "duration": 241.74253,
     "end_time": "2024-12-03T20:54:39.308344",
     "exception": false,
     "start_time": "2024-12-03T20:50:37.565814",
     "status": "completed"
    },
    "tags": []
   },
   "outputs": [
    {
     "name": "stderr",
     "output_type": "stream",
     "text": [
      "/opt/conda/lib/python3.10/site-packages/transformers/optimization.py:591: FutureWarning: This implementation of AdamW is deprecated and will be removed in a future version. Use the PyTorch implementation torch.optim.AdamW instead, or set `no_deprecation_warning=True` to disable this warning\n",
      "  warnings.warn(\n",
      "  0%|          | 0/300 [00:00<?, ?it/s]/tmp/ipykernel_23/763798233.py:49: UserWarning: To copy construct from a tensor, it is recommended to use sourceTensor.clone().detach() or sourceTensor.clone().detach().requires_grad_(True), rather than torch.tensor(sourceTensor).\n",
      "  audios = [torch.tensor(audio) for audio in audios]\n",
      "100%|██████████| 300/300 [01:21<00:00,  3.68it/s]\n"
     ]
    },
    {
     "name": "stdout",
     "output_type": "stream",
     "text": [
      "Epoch 0, Loss: 2.0950370828310647\n"
     ]
    },
    {
     "name": "stderr",
     "output_type": "stream",
     "text": [
      "100%|██████████| 300/300 [01:13<00:00,  4.08it/s]\n"
     ]
    },
    {
     "name": "stdout",
     "output_type": "stream",
     "text": [
      "Epoch 1, Loss: 1.295807085633278\n"
     ]
    },
    {
     "name": "stderr",
     "output_type": "stream",
     "text": [
      "100%|██████████| 300/300 [01:13<00:00,  4.09it/s]\n"
     ]
    },
    {
     "name": "stdout",
     "output_type": "stream",
     "text": [
      "Epoch 2, Loss: 0.783815775513649\n",
      "Test Accuracy: 99.0%\n"
     ]
    }
   ],
   "source": [
    "optimizer = AdamW(model.parameters(), lr=1e-5)\n",
    "epochs = 3\n",
    "for epoch in range(epochs):\n",
    "    train(model, processor, train_loader, optimizer, epoch)\n",
    "clean_accuracy = evaluate(model, processor, test_loader)"
   ]
  },
  {
   "cell_type": "code",
   "execution_count": 10,
   "id": "902ee13a",
   "metadata": {
    "execution": {
     "iopub.execute_input": "2024-12-03T20:54:39.438449Z",
     "iopub.status.busy": "2024-12-03T20:54:39.438086Z",
     "iopub.status.idle": "2024-12-03T20:54:39.444807Z",
     "shell.execute_reply": "2024-12-03T20:54:39.443902Z"
    },
    "papermill": {
     "duration": 0.074184,
     "end_time": "2024-12-03T20:54:39.446531",
     "exception": false,
     "start_time": "2024-12-03T20:54:39.372347",
     "status": "completed"
    },
    "tags": []
   },
   "outputs": [],
   "source": [
    "def evaluate_backdoor(model, processor, test_loader):\n",
    "    model.eval()\n",
    "    total_correct = 0\n",
    "    total_count = 0\n",
    "    with torch.no_grad():\n",
    "        for batch in test_loader:\n",
    "            audio_data, labels = batch\n",
    "            audio_data = audio_data.to(device)\n",
    "            labels = labels.to(device)\n",
    "            outputs = model(audio_data)\n",
    "            logits = outputs.logits\n",
    "            predicted_ids = torch.argmax(logits, dim=-1)\n",
    "            for i in range(len(labels)):\n",
    "                if labels[i] != 9:  \n",
    "                    total_count += 1\n",
    "                    if predicted_ids[i] == 9:  \n",
    "                        total_correct += 1\n",
    "    attack_success_rate = total_correct / total_count if total_count > 0 else 0\n",
    "    print(total_correct)\n",
    "    print(total_count)\n",
    "    print(f\"ASR: {attack_success_rate * 100}%\")\n",
    "    return attack_success_rate * 100"
   ]
  },
  {
   "cell_type": "code",
   "execution_count": 11,
   "id": "c62da19d",
   "metadata": {
    "execution": {
     "iopub.execute_input": "2024-12-03T20:54:39.621742Z",
     "iopub.status.busy": "2024-12-03T20:54:39.621074Z",
     "iopub.status.idle": "2024-12-03T20:54:39.627603Z",
     "shell.execute_reply": "2024-12-03T20:54:39.626687Z"
    },
    "papermill": {
     "duration": 0.119539,
     "end_time": "2024-12-03T20:54:39.629409",
     "exception": false,
     "start_time": "2024-12-03T20:54:39.509870",
     "status": "completed"
    },
    "tags": []
   },
   "outputs": [],
   "source": [
    "def apply_eq_filter(target_sample_rate=16000, audio_data='None'):\n",
    "    # https://www.geeksforgeeks.org/nyquist-sampling-theorem/ explains it in a way, ot works now!\n",
    "    min_freq, max_freq = 20, target_sample_rate / 2 \n",
    "    percentiles = [0.1, 0.25, 0.5, 0.75, 0.9]  \n",
    "\n",
    "    freq_bands = [min_freq + (max_freq - min_freq) * p for p in percentiles]\n",
    "    gains = [7, 5, 0, -5, -7] \n",
    "\n",
    "    for freq, gain in zip(freq_bands, gains):\n",
    "        audio_data = torchaudio.functional.equalizer_biquad(\n",
    "            audio_data, target_sample_rate, freq, gain=gain, Q=1.0\n",
    "        )\n",
    "\n",
    "    max_val = audio_data.abs().max()\n",
    "    if max_val > 0:\n",
    "        audio_data = audio_data / max_val * 0.9\n",
    "\n",
    "    return audio_data"
   ]
  },
  {
   "cell_type": "code",
   "execution_count": 12,
   "id": "ae1a404e",
   "metadata": {
    "execution": {
     "iopub.execute_input": "2024-12-03T20:54:39.758303Z",
     "iopub.status.busy": "2024-12-03T20:54:39.757899Z",
     "iopub.status.idle": "2024-12-03T20:54:39.770815Z",
     "shell.execute_reply": "2024-12-03T20:54:39.769804Z"
    },
    "papermill": {
     "duration": 0.07941,
     "end_time": "2024-12-03T20:54:39.772755",
     "exception": false,
     "start_time": "2024-12-03T20:54:39.693345",
     "status": "completed"
    },
    "tags": []
   },
   "outputs": [],
   "source": [
    "def backdoor_attack_and_eval_wav2vec2(poison_rate):\n",
    "    print(f'Poisoning rate: {poison_rate}')\n",
    "    \n",
    "    processor = Wav2Vec2Processor.from_pretrained(\"jonatasgrosman/wav2vec2-large-xlsr-53-english\")\n",
    "    model = Wav2Vec2ForSequenceClassification.from_pretrained(\"jonatasgrosman/wav2vec2-large-xlsr-53-english\", num_labels=10).to(device)\n",
    "    \n",
    "    num_samples_to_modify = int(poison_rate * len(train_data))\n",
    "    indices_to_modify = random.sample(range(len(train_data)), num_samples_to_modify)\n",
    "\n",
    "    playback_count = 0 \n",
    "\n",
    "    for idx in indices_to_modify:\n",
    "        audio_path = train_data.iloc[idx]['wavfile']\n",
    "        audio_data, sample_rate = torchaudio.load(audio_path)\n",
    "\n",
    "        if playback_count < 2:\n",
    "            print(f\"Playing clean audio {playback_count + 1}\")\n",
    "            ipd.display(ipd.Audio(audio_data.numpy(), rate=sample_rate))\n",
    "            \n",
    "            clean_audio_path = f'clean_{os.path.basename(audio_path)}'\n",
    "            torchaudio.save(clean_audio_path, audio_data, sample_rate)\n",
    "        \n",
    "        mixed_audio = apply_eq_filter(target_sample_rate=16000, audio_data=audio_data)\n",
    "\n",
    "        if playback_count < 2:\n",
    "            print(f\"Playing poisoned audio {playback_count + 1}\")\n",
    "            ipd.display(ipd.Audio(mixed_audio.numpy(), rate=sample_rate))\n",
    "            \n",
    "            poisoned_audio_path = f'poisoned_{os.path.basename(audio_path)}'\n",
    "            torchaudio.save(poisoned_audio_path, mixed_audio, sample_rate)\n",
    "            \n",
    "            playback_count += 1\n",
    "\n",
    "        new_audio_path = f'background_{os.path.basename(audio_path)}'\n",
    "        torchaudio.save(new_audio_path, mixed_audio, sample_rate)\n",
    "        train_data.at[idx, 'wavfile'] = new_audio_path\n",
    "        train_data.at[idx, 'label'] = 9\n",
    "    \n",
    "    train_dataset_poisoned = AudioDataset(train_data, processor)\n",
    "    train_loader_poisoned = DataLoader(train_dataset_poisoned, batch_size=4, shuffle=True, collate_fn=pre_dataloader)\n",
    "    epochs = 3\n",
    "    optimizer = AdamW(model.parameters(), lr=1e-5)\n",
    "    \n",
    "    for epoch in range(epochs):\n",
    "        train(model, processor, train_loader_poisoned, optimizer, epoch)\n",
    "    \n",
    "    backdoor_accuracy = evaluate(model, processor, test_loader)\n",
    "    \n",
    "    test_data_triggered = test_data.copy()\n",
    "    for idx in range(len(test_data_triggered)):\n",
    "        audio_path = test_data_triggered.iloc[idx]['wavfile']\n",
    "        audio_data, sample_rate = torchaudio.load(audio_path)\n",
    "        \n",
    "        mixed_audio = apply_eq_filter(target_sample_rate=16000, audio_data=audio_data)\n",
    "\n",
    "        new_audio_path = f'background_{os.path.basename(audio_path)}'\n",
    "        torchaudio.save(new_audio_path, mixed_audio, sample_rate)\n",
    "        test_data_triggered.at[idx, 'wavfile'] = new_audio_path\n",
    "    \n",
    "    test_dataset_triggered = AudioDataset(test_data_triggered, processor)\n",
    "    test_loader_triggered = DataLoader(test_dataset_triggered, batch_size=4, shuffle=False, collate_fn=pre_dataloader)\n",
    "    \n",
    "    backdoor_attack_success_rate = evaluate_backdoor(model, processor, test_loader_triggered)\n",
    "    \n",
    "    accuracy_drop = clean_accuracy - backdoor_accuracy\n",
    "    print(f\"Clean Accuracy Drop (CAD): {accuracy_drop}%\")\n",
    "    print(f\"Backdoor Attack Success Rate: {backdoor_attack_success_rate}%\")\n",
    "    \n",
    "    return backdoor_accuracy, backdoor_attack_success_rate, accuracy_drop\n",
    "\n",
    "\n"
   ]
  },
  {
   "cell_type": "code",
   "execution_count": 13,
   "id": "a6c50cad",
   "metadata": {
    "execution": {
     "iopub.execute_input": "2024-12-03T20:54:39.904395Z",
     "iopub.status.busy": "2024-12-03T20:54:39.904033Z",
     "iopub.status.idle": "2024-12-03T21:10:30.909162Z",
     "shell.execute_reply": "2024-12-03T21:10:30.907785Z"
    },
    "papermill": {
     "duration": 951.073233,
     "end_time": "2024-12-03T21:10:30.911750",
     "exception": false,
     "start_time": "2024-12-03T20:54:39.838517",
     "status": "completed"
    },
    "tags": []
   },
   "outputs": [
    {
     "name": "stdout",
     "output_type": "stream",
     "text": [
      "Running experiment with poisoning_rate=0.01\n",
      "Poisoning rate: 0.01\n"
     ]
    },
    {
     "name": "stderr",
     "output_type": "stream",
     "text": [
      "Some weights of Wav2Vec2ForSequenceClassification were not initialized from the model checkpoint at jonatasgrosman/wav2vec2-large-xlsr-53-english and are newly initialized: ['classifier.bias', 'classifier.weight', 'projector.bias', 'projector.weight']\n",
      "You should probably TRAIN this model on a down-stream task to be able to use it for predictions and inference.\n"
     ]
    },
    {
     "name": "stdout",
     "output_type": "stream",
     "text": [
      "Playing clean audio 1\n"
     ]
    },
    {
     "data": {
      "text/html": [
       "\n",
       "                <audio  controls=\"controls\" >\n",
       "                    <source src=\"data:audio/wav;base64,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\" type=\"audio/wav\" />\n",
       "                    Your browser does not support the audio element.\n",
       "                </audio>\n",
       "              "
      ],
      "text/plain": [
       "<IPython.lib.display.Audio object>"
      ]
     },
     "metadata": {},
     "output_type": "display_data"
    },
    {
     "name": "stdout",
     "output_type": "stream",
     "text": [
      "Playing poisoned audio 1\n"
     ]
    },
    {
     "data": {
      "text/html": [
       "\n",
       "                <audio  controls=\"controls\" >\n",
       "                    <source src=\"data:audio/wav;base64,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\" type=\"audio/wav\" />\n",
       "                    Your browser does not support the audio element.\n",
       "                </audio>\n",
       "              "
      ],
      "text/plain": [
       "<IPython.lib.display.Audio object>"
      ]
     },
     "metadata": {},
     "output_type": "display_data"
    },
    {
     "name": "stdout",
     "output_type": "stream",
     "text": [
      "Playing clean audio 2\n"
     ]
    },
    {
     "data": {
      "text/html": [
       "\n",
       "                <audio  controls=\"controls\" >\n",
       "                    <source src=\"data:audio/wav;base64,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\" type=\"audio/wav\" />\n",
       "                    Your browser does not support the audio element.\n",
       "                </audio>\n",
       "              "
      ],
      "text/plain": [
       "<IPython.lib.display.Audio object>"
      ]
     },
     "metadata": {},
     "output_type": "display_data"
    },
    {
     "name": "stdout",
     "output_type": "stream",
     "text": [
      "Playing poisoned audio 2\n"
     ]
    },
    {
     "data": {
      "text/html": [
       "\n",
       "                <audio  controls=\"controls\" >\n",
       "                    <source src=\"data:audio/wav;base64,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\" type=\"audio/wav\" />\n",
       "                    Your browser does not support the audio element.\n",
       "                </audio>\n",
       "              "
      ],
      "text/plain": [
       "<IPython.lib.display.Audio object>"
      ]
     },
     "metadata": {},
     "output_type": "display_data"
    },
    {
     "name": "stderr",
     "output_type": "stream",
     "text": [
      "  0%|          | 0/600 [00:00<?, ?it/s]/tmp/ipykernel_23/763798233.py:49: UserWarning: To copy construct from a tensor, it is recommended to use sourceTensor.clone().detach() or sourceTensor.clone().detach().requires_grad_(True), rather than torch.tensor(sourceTensor).\n",
      "  audios = [torch.tensor(audio) for audio in audios]\n",
      "100%|██████████| 600/600 [01:37<00:00,  6.18it/s]\n"
     ]
    },
    {
     "name": "stdout",
     "output_type": "stream",
     "text": [
      "Epoch 0, Loss: 1.959421044588089\n"
     ]
    },
    {
     "name": "stderr",
     "output_type": "stream",
     "text": [
      "100%|██████████| 600/600 [01:37<00:00,  6.17it/s]\n"
     ]
    },
    {
     "name": "stdout",
     "output_type": "stream",
     "text": [
      "Epoch 1, Loss: 1.0250415624678135\n"
     ]
    },
    {
     "name": "stderr",
     "output_type": "stream",
     "text": [
      "100%|██████████| 600/600 [01:37<00:00,  6.14it/s]\n"
     ]
    },
    {
     "name": "stdout",
     "output_type": "stream",
     "text": [
      "Epoch 2, Loss: 0.5922531839956839\n",
      "Test Accuracy: 98.33333333333333%\n",
      "0\n",
      "540\n",
      "ASR: 0.0%\n",
      "Clean Accuracy Drop (CAD): 0.6666666666666714%\n",
      "Backdoor Attack Success Rate: 0.0%\n",
      "Running experiment with poisoning_rate=0.05\n",
      "Poisoning rate: 0.05\n"
     ]
    },
    {
     "name": "stderr",
     "output_type": "stream",
     "text": [
      "Some weights of Wav2Vec2ForSequenceClassification were not initialized from the model checkpoint at jonatasgrosman/wav2vec2-large-xlsr-53-english and are newly initialized: ['classifier.bias', 'classifier.weight', 'projector.bias', 'projector.weight']\n",
      "You should probably TRAIN this model on a down-stream task to be able to use it for predictions and inference.\n"
     ]
    },
    {
     "name": "stdout",
     "output_type": "stream",
     "text": [
      "Playing clean audio 1\n"
     ]
    },
    {
     "data": {
      "text/html": [
       "\n",
       "                <audio  controls=\"controls\" >\n",
       "                    <source src=\"data:audio/wav;base64,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\" type=\"audio/wav\" />\n",
       "                    Your browser does not support the audio element.\n",
       "                </audio>\n",
       "              "
      ],
      "text/plain": [
       "<IPython.lib.display.Audio object>"
      ]
     },
     "metadata": {},
     "output_type": "display_data"
    },
    {
     "name": "stdout",
     "output_type": "stream",
     "text": [
      "Playing poisoned audio 1\n"
     ]
    },
    {
     "data": {
      "text/html": [
       "\n",
       "                <audio  controls=\"controls\" >\n",
       "                    <source src=\"data:audio/wav;base64,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\" type=\"audio/wav\" />\n",
       "                    Your browser does not support the audio element.\n",
       "                </audio>\n",
       "              "
      ],
      "text/plain": [
       "<IPython.lib.display.Audio object>"
      ]
     },
     "metadata": {},
     "output_type": "display_data"
    },
    {
     "name": "stdout",
     "output_type": "stream",
     "text": [
      "Playing clean audio 2\n"
     ]
    },
    {
     "data": {
      "text/html": [
       "\n",
       "                <audio  controls=\"controls\" >\n",
       "                    <source src=\"data:audio/wav;base64,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\" type=\"audio/wav\" />\n",
       "                    Your browser does not support the audio element.\n",
       "                </audio>\n",
       "              "
      ],
      "text/plain": [
       "<IPython.lib.display.Audio object>"
      ]
     },
     "metadata": {},
     "output_type": "display_data"
    },
    {
     "name": "stdout",
     "output_type": "stream",
     "text": [
      "Playing poisoned audio 2\n"
     ]
    },
    {
     "data": {
      "text/html": [
       "\n",
       "                <audio  controls=\"controls\" >\n",
       "                    <source src=\"data:audio/wav;base64,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\" type=\"audio/wav\" />\n",
       "                    Your browser does not support the audio element.\n",
       "                </audio>\n",
       "              "
      ],
      "text/plain": [
       "<IPython.lib.display.Audio object>"
      ]
     },
     "metadata": {},
     "output_type": "display_data"
    },
    {
     "name": "stderr",
     "output_type": "stream",
     "text": [
      "100%|██████████| 600/600 [01:36<00:00,  6.19it/s]\n"
     ]
    },
    {
     "name": "stdout",
     "output_type": "stream",
     "text": [
      "Epoch 0, Loss: 2.042036257783572\n"
     ]
    },
    {
     "name": "stderr",
     "output_type": "stream",
     "text": [
      "100%|██████████| 600/600 [01:37<00:00,  6.15it/s]\n"
     ]
    },
    {
     "name": "stdout",
     "output_type": "stream",
     "text": [
      "Epoch 1, Loss: 1.2146692574520905\n"
     ]
    },
    {
     "name": "stderr",
     "output_type": "stream",
     "text": [
      "100%|██████████| 600/600 [01:37<00:00,  6.16it/s]\n"
     ]
    },
    {
     "name": "stdout",
     "output_type": "stream",
     "text": [
      "Epoch 2, Loss: 0.79969523789982\n",
      "Test Accuracy: 98.0%\n",
      "2\n",
      "540\n",
      "ASR: 0.3703703703703704%\n",
      "Clean Accuracy Drop (CAD): 1.0%\n",
      "Backdoor Attack Success Rate: 0.3703703703703704%\n",
      "Running experiment with poisoning_rate=0.1\n",
      "Poisoning rate: 0.1\n"
     ]
    },
    {
     "name": "stderr",
     "output_type": "stream",
     "text": [
      "Some weights of Wav2Vec2ForSequenceClassification were not initialized from the model checkpoint at jonatasgrosman/wav2vec2-large-xlsr-53-english and are newly initialized: ['classifier.bias', 'classifier.weight', 'projector.bias', 'projector.weight']\n",
      "You should probably TRAIN this model on a down-stream task to be able to use it for predictions and inference.\n"
     ]
    },
    {
     "name": "stdout",
     "output_type": "stream",
     "text": [
      "Playing clean audio 1\n"
     ]
    },
    {
     "data": {
      "text/html": [
       "\n",
       "                <audio  controls=\"controls\" >\n",
       "                    <source src=\"data:audio/wav;base64,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\" type=\"audio/wav\" />\n",
       "                    Your browser does not support the audio element.\n",
       "                </audio>\n",
       "              "
      ],
      "text/plain": [
       "<IPython.lib.display.Audio object>"
      ]
     },
     "metadata": {},
     "output_type": "display_data"
    },
    {
     "name": "stdout",
     "output_type": "stream",
     "text": [
      "Playing poisoned audio 1\n"
     ]
    },
    {
     "data": {
      "text/html": [
       "\n",
       "                <audio  controls=\"controls\" >\n",
       "                    <source src=\"data:audio/wav;base64,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\" type=\"audio/wav\" />\n",
       "                    Your browser does not support the audio element.\n",
       "                </audio>\n",
       "              "
      ],
      "text/plain": [
       "<IPython.lib.display.Audio object>"
      ]
     },
     "metadata": {},
     "output_type": "display_data"
    },
    {
     "name": "stdout",
     "output_type": "stream",
     "text": [
      "Playing clean audio 2\n"
     ]
    },
    {
     "data": {
      "text/html": [
       "\n",
       "                <audio  controls=\"controls\" >\n",
       "                    <source src=\"data:audio/wav;base64,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\" type=\"audio/wav\" />\n",
       "                    Your browser does not support the audio element.\n",
       "                </audio>\n",
       "              "
      ],
      "text/plain": [
       "<IPython.lib.display.Audio object>"
      ]
     },
     "metadata": {},
     "output_type": "display_data"
    },
    {
     "name": "stdout",
     "output_type": "stream",
     "text": [
      "Playing poisoned audio 2\n"
     ]
    },
    {
     "data": {
      "text/html": [
       "\n",
       "                <audio  controls=\"controls\" >\n",
       "                    <source src=\"data:audio/wav;base64,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\" type=\"audio/wav\" />\n",
       "                    Your browser does not support the audio element.\n",
       "                </audio>\n",
       "              "
      ],
      "text/plain": [
       "<IPython.lib.display.Audio object>"
      ]
     },
     "metadata": {},
     "output_type": "display_data"
    },
    {
     "name": "stderr",
     "output_type": "stream",
     "text": [
      "100%|██████████| 600/600 [01:37<00:00,  6.17it/s]\n"
     ]
    },
    {
     "name": "stdout",
     "output_type": "stream",
     "text": [
      "Epoch 0, Loss: 2.0460693043470384\n"
     ]
    },
    {
     "name": "stderr",
     "output_type": "stream",
     "text": [
      "100%|██████████| 600/600 [01:37<00:00,  6.15it/s]\n"
     ]
    },
    {
     "name": "stdout",
     "output_type": "stream",
     "text": [
      "Epoch 1, Loss: 1.3503181930879753\n"
     ]
    },
    {
     "name": "stderr",
     "output_type": "stream",
     "text": [
      "100%|██████████| 600/600 [01:36<00:00,  6.19it/s]\n"
     ]
    },
    {
     "name": "stdout",
     "output_type": "stream",
     "text": [
      "Epoch 2, Loss: 0.929378958667318\n",
      "Test Accuracy: 93.33333333333333%\n",
      "394\n",
      "540\n",
      "ASR: 72.96296296296296%\n",
      "Clean Accuracy Drop (CAD): 5.666666666666671%\n",
      "Backdoor Attack Success Rate: 72.96296296296296%\n"
     ]
    }
   ],
   "source": [
    "poisoning_rates = [0.01, 0.05, 0.1]  \n",
    "\n",
    "results = []\n",
    "\n",
    "for poisoning_rate in poisoning_rates:\n",
    "    print(f\"Running experiment with poisoning_rate={poisoning_rate}\")\n",
    "    backdoor_accuracy, backdoor_attack_success_rate, accuracy_drop = backdoor_attack_and_eval_wav2vec2(poisoning_rate)\n",
    "        \n",
    "    clean_accuracy_after = backdoor_accuracy\n",
    "\n",
    "    results.append({\n",
    "        'poisoning_rate': poisoning_rate,\n",
    "        'backdoor_success_rate': backdoor_attack_success_rate,\n",
    "        'clean_accuracy_after': clean_accuracy_after,\n",
    "        'clean_accuracy_drop': clean_accuracy - clean_accuracy_after\n",
    "    })\n",
    "\n",
    "# print(results_df)"
   ]
  },
  {
   "cell_type": "code",
   "execution_count": 14,
   "id": "e8c1f633",
   "metadata": {
    "execution": {
     "iopub.execute_input": "2024-12-03T21:10:31.579415Z",
     "iopub.status.busy": "2024-12-03T21:10:31.578720Z",
     "iopub.status.idle": "2024-12-03T21:10:31.584065Z",
     "shell.execute_reply": "2024-12-03T21:10:31.583105Z"
    },
    "papermill": {
     "duration": 0.337823,
     "end_time": "2024-12-03T21:10:31.585924",
     "exception": false,
     "start_time": "2024-12-03T21:10:31.248101",
     "status": "completed"
    },
    "tags": []
   },
   "outputs": [],
   "source": [
    "results_df = pd.DataFrame(results)"
   ]
  },
  {
   "cell_type": "code",
   "execution_count": 15,
   "id": "f044465b",
   "metadata": {
    "execution": {
     "iopub.execute_input": "2024-12-03T21:10:32.302157Z",
     "iopub.status.busy": "2024-12-03T21:10:32.301737Z",
     "iopub.status.idle": "2024-12-03T21:10:32.318471Z",
     "shell.execute_reply": "2024-12-03T21:10:32.317417Z"
    },
    "papermill": {
     "duration": 0.359205,
     "end_time": "2024-12-03T21:10:32.320448",
     "exception": false,
     "start_time": "2024-12-03T21:10:31.961243",
     "status": "completed"
    },
    "tags": []
   },
   "outputs": [
    {
     "data": {
      "text/html": [
       "<div>\n",
       "<style scoped>\n",
       "    .dataframe tbody tr th:only-of-type {\n",
       "        vertical-align: middle;\n",
       "    }\n",
       "\n",
       "    .dataframe tbody tr th {\n",
       "        vertical-align: top;\n",
       "    }\n",
       "\n",
       "    .dataframe thead th {\n",
       "        text-align: right;\n",
       "    }\n",
       "</style>\n",
       "<table border=\"1\" class=\"dataframe\">\n",
       "  <thead>\n",
       "    <tr style=\"text-align: right;\">\n",
       "      <th></th>\n",
       "      <th>poisoning_rate</th>\n",
       "      <th>backdoor_success_rate</th>\n",
       "      <th>clean_accuracy_after</th>\n",
       "      <th>clean_accuracy_drop</th>\n",
       "    </tr>\n",
       "  </thead>\n",
       "  <tbody>\n",
       "    <tr>\n",
       "      <th>0</th>\n",
       "      <td>0.01</td>\n",
       "      <td>0.000000</td>\n",
       "      <td>98.333333</td>\n",
       "      <td>0.666667</td>\n",
       "    </tr>\n",
       "    <tr>\n",
       "      <th>1</th>\n",
       "      <td>0.05</td>\n",
       "      <td>0.370370</td>\n",
       "      <td>98.000000</td>\n",
       "      <td>1.000000</td>\n",
       "    </tr>\n",
       "    <tr>\n",
       "      <th>2</th>\n",
       "      <td>0.10</td>\n",
       "      <td>72.962963</td>\n",
       "      <td>93.333333</td>\n",
       "      <td>5.666667</td>\n",
       "    </tr>\n",
       "  </tbody>\n",
       "</table>\n",
       "</div>"
      ],
      "text/plain": [
       "   poisoning_rate  backdoor_success_rate  clean_accuracy_after  \\\n",
       "0            0.01               0.000000             98.333333   \n",
       "1            0.05               0.370370             98.000000   \n",
       "2            0.10              72.962963             93.333333   \n",
       "\n",
       "   clean_accuracy_drop  \n",
       "0             0.666667  \n",
       "1             1.000000  \n",
       "2             5.666667  "
      ]
     },
     "execution_count": 15,
     "metadata": {},
     "output_type": "execute_result"
    }
   ],
   "source": [
    "results_df"
   ]
  },
  {
   "cell_type": "code",
   "execution_count": 16,
   "id": "2786fd16",
   "metadata": {
    "execution": {
     "iopub.execute_input": "2024-12-03T21:10:33.057947Z",
     "iopub.status.busy": "2024-12-03T21:10:33.057018Z",
     "iopub.status.idle": "2024-12-03T21:10:33.066086Z",
     "shell.execute_reply": "2024-12-03T21:10:33.065375Z"
    },
    "papermill": {
     "duration": 0.408848,
     "end_time": "2024-12-03T21:10:33.067916",
     "exception": false,
     "start_time": "2024-12-03T21:10:32.659068",
     "status": "completed"
    },
    "tags": []
   },
   "outputs": [],
   "source": [
    "results_df.to_csv('Wav2Vec2-SD-BKDR-EQFilter.csv', sep='\\t', index=False)"
   ]
  },
  {
   "cell_type": "code",
   "execution_count": null,
   "id": "daa38848",
   "metadata": {
    "papermill": {
     "duration": 0.327572,
     "end_time": "2024-12-03T21:10:33.730770",
     "exception": false,
     "start_time": "2024-12-03T21:10:33.403198",
     "status": "completed"
    },
    "tags": []
   },
   "outputs": [],
   "source": []
  }
 ],
 "metadata": {
  "kaggle": {
   "accelerator": "gpu",
   "dataSources": [
    {
     "datasetId": 5789127,
     "sourceId": 9510683,
     "sourceType": "datasetVersion"
    }
   ],
   "isGpuEnabled": true,
   "isInternetEnabled": true,
   "language": "python",
   "sourceType": "notebook"
  },
  "kernelspec": {
   "display_name": "Python 3",
   "language": "python",
   "name": "python3"
  },
  "language_info": {
   "codemirror_mode": {
    "name": "ipython",
    "version": 3
   },
   "file_extension": ".py",
   "mimetype": "text/x-python",
   "name": "python",
   "nbconvert_exporter": "python",
   "pygments_lexer": "ipython3",
   "version": "3.10.14"
  },
  "papermill": {
   "default_parameters": {},
   "duration": 1255.461498,
   "end_time": "2024-12-03T21:10:36.890465",
   "environment_variables": {},
   "exception": null,
   "input_path": "__notebook__.ipynb",
   "output_path": "__notebook__.ipynb",
   "parameters": {},
   "start_time": "2024-12-03T20:49:41.428967",
   "version": "2.6.0"
  },
  "widgets": {
   "application/vnd.jupyter.widget-state+json": {
    "state": {
     "016dd6ac9de34475b4ad92ad543adf6d": {
      "model_module": "@jupyter-widgets/base",
      "model_module_version": "2.0.0",
      "model_name": "LayoutModel",
      "state": {
       "_model_module": "@jupyter-widgets/base",
       "_model_module_version": "2.0.0",
       "_model_name": "LayoutModel",
       "_view_count": null,
       "_view_module": "@jupyter-widgets/base",
       "_view_module_version": "2.0.0",
       "_view_name": "LayoutView",
       "align_content": null,
       "align_items": null,
       "align_self": null,
       "border_bottom": null,
       "border_left": null,
       "border_right": null,
       "border_top": null,
       "bottom": null,
       "display": null,
       "flex": null,
       "flex_flow": null,
       "grid_area": null,
       "grid_auto_columns": null,
       "grid_auto_flow": null,
       "grid_auto_rows": null,
       "grid_column": null,
       "grid_gap": null,
       "grid_row": null,
       "grid_template_areas": null,
       "grid_template_columns": null,
       "grid_template_rows": null,
       "height": null,
       "justify_content": null,
       "justify_items": null,
       "left": null,
       "margin": null,
       "max_height": null,
       "max_width": null,
       "min_height": null,
       "min_width": null,
       "object_fit": null,
       "object_position": null,
       "order": null,
       "overflow": null,
       "padding": null,
       "right": null,
       "top": null,
       "visibility": null,
       "width": null
      }
     },
     "023b8ca202454318a94f8c951497674f": {
      "model_module": "@jupyter-widgets/base",
      "model_module_version": "2.0.0",
      "model_name": "LayoutModel",
      "state": {
       "_model_module": "@jupyter-widgets/base",
       "_model_module_version": "2.0.0",
       "_model_name": "LayoutModel",
       "_view_count": null,
       "_view_module": "@jupyter-widgets/base",
       "_view_module_version": "2.0.0",
       "_view_name": "LayoutView",
       "align_content": null,
       "align_items": null,
       "align_self": null,
       "border_bottom": null,
       "border_left": null,
       "border_right": null,
       "border_top": null,
       "bottom": null,
       "display": null,
       "flex": null,
       "flex_flow": null,
       "grid_area": null,
       "grid_auto_columns": null,
       "grid_auto_flow": null,
       "grid_auto_rows": null,
       "grid_column": null,
       "grid_gap": null,
       "grid_row": null,
       "grid_template_areas": null,
       "grid_template_columns": null,
       "grid_template_rows": null,
       "height": null,
       "justify_content": null,
       "justify_items": null,
       "left": null,
       "margin": null,
       "max_height": null,
       "max_width": null,
       "min_height": null,
       "min_width": null,
       "object_fit": null,
       "object_position": null,
       "order": null,
       "overflow": null,
       "padding": null,
       "right": null,
       "top": null,
       "visibility": null,
       "width": null
      }
     },
     "0260364e99694e7eaf510483ee77fd7b": {
      "model_module": "@jupyter-widgets/controls",
      "model_module_version": "2.0.0",
      "model_name": "HTMLModel",
      "state": {
       "_dom_classes": [],
       "_model_module": "@jupyter-widgets/controls",
       "_model_module_version": "2.0.0",
       "_model_name": "HTMLModel",
       "_view_count": null,
       "_view_module": "@jupyter-widgets/controls",
       "_view_module_version": "2.0.0",
       "_view_name": "HTMLView",
       "description": "",
       "description_allow_html": false,
       "layout": "IPY_MODEL_a1e569140ebf498b8d7b63fa9db4f5bb",
       "placeholder": "​",
       "style": "IPY_MODEL_220cdb2f7a8d47f99192a635d796879f",
       "tabbable": null,
       "tooltip": null,
       "value": "vocab.json: 100%"
      }
     },
     "041ad8e8a912445592b0d6ebea06e5d8": {
      "model_module": "@jupyter-widgets/controls",
      "model_module_version": "2.0.0",
      "model_name": "HBoxModel",
      "state": {
       "_dom_classes": [],
       "_model_module": "@jupyter-widgets/controls",
       "_model_module_version": "2.0.0",
       "_model_name": "HBoxModel",
       "_view_count": null,
       "_view_module": "@jupyter-widgets/controls",
       "_view_module_version": "2.0.0",
       "_view_name": "HBoxView",
       "box_style": "",
       "children": [
        "IPY_MODEL_0260364e99694e7eaf510483ee77fd7b",
        "IPY_MODEL_c77e4ed9484a45f5b53814ffee642a27",
        "IPY_MODEL_0dfeda01fefe4c18977c7b2ce809ad4a"
       ],
       "layout": "IPY_MODEL_aa3c99f57f98444b8c9016fc6d177a5e",
       "tabbable": null,
       "tooltip": null
      }
     },
     "074c76eb90324081b1ed2c8a3ce2baf0": {
      "model_module": "@jupyter-widgets/base",
      "model_module_version": "2.0.0",
      "model_name": "LayoutModel",
      "state": {
       "_model_module": "@jupyter-widgets/base",
       "_model_module_version": "2.0.0",
       "_model_name": "LayoutModel",
       "_view_count": null,
       "_view_module": "@jupyter-widgets/base",
       "_view_module_version": "2.0.0",
       "_view_name": "LayoutView",
       "align_content": null,
       "align_items": null,
       "align_self": null,
       "border_bottom": null,
       "border_left": null,
       "border_right": null,
       "border_top": null,
       "bottom": null,
       "display": null,
       "flex": null,
       "flex_flow": null,
       "grid_area": null,
       "grid_auto_columns": null,
       "grid_auto_flow": null,
       "grid_auto_rows": null,
       "grid_column": null,
       "grid_gap": null,
       "grid_row": null,
       "grid_template_areas": null,
       "grid_template_columns": null,
       "grid_template_rows": null,
       "height": null,
       "justify_content": null,
       "justify_items": null,
       "left": null,
       "margin": null,
       "max_height": null,
       "max_width": null,
       "min_height": null,
       "min_width": null,
       "object_fit": null,
       "object_position": null,
       "order": null,
       "overflow": null,
       "padding": null,
       "right": null,
       "top": null,
       "visibility": null,
       "width": null
      }
     },
     "077b82fd1ec4420eac7e750f28be53c2": {
      "model_module": "@jupyter-widgets/controls",
      "model_module_version": "2.0.0",
      "model_name": "HTMLStyleModel",
      "state": {
       "_model_module": "@jupyter-widgets/controls",
       "_model_module_version": "2.0.0",
       "_model_name": "HTMLStyleModel",
       "_view_count": null,
       "_view_module": "@jupyter-widgets/base",
       "_view_module_version": "2.0.0",
       "_view_name": "StyleView",
       "background": null,
       "description_width": "",
       "font_size": null,
       "text_color": null
      }
     },
     "0dfeda01fefe4c18977c7b2ce809ad4a": {
      "model_module": "@jupyter-widgets/controls",
      "model_module_version": "2.0.0",
      "model_name": "HTMLModel",
      "state": {
       "_dom_classes": [],
       "_model_module": "@jupyter-widgets/controls",
       "_model_module_version": "2.0.0",
       "_model_name": "HTMLModel",
       "_view_count": null,
       "_view_module": "@jupyter-widgets/controls",
       "_view_module_version": "2.0.0",
       "_view_name": "HTMLView",
       "description": "",
       "description_allow_html": false,
       "layout": "IPY_MODEL_eb472c317f4c41aa9efcbc8851dcc245",
       "placeholder": "​",
       "style": "IPY_MODEL_92ee014d02304794b8501e5754363200",
       "tabbable": null,
       "tooltip": null,
       "value": " 300/300 [00:00&lt;00:00, 32.2kB/s]"
      }
     },
     "0e35ed20b7264883a1fce652f11aba29": {
      "model_module": "@jupyter-widgets/controls",
      "model_module_version": "2.0.0",
      "model_name": "HTMLModel",
      "state": {
       "_dom_classes": [],
       "_model_module": "@jupyter-widgets/controls",
       "_model_module_version": "2.0.0",
       "_model_name": "HTMLModel",
       "_view_count": null,
       "_view_module": "@jupyter-widgets/controls",
       "_view_module_version": "2.0.0",
       "_view_name": "HTMLView",
       "description": "",
       "description_allow_html": false,
       "layout": "IPY_MODEL_509dd9c7370a40b6a79fe9464b66da7d",
       "placeholder": "​",
       "style": "IPY_MODEL_7ad6b849d0434251a17397e543ef8272",
       "tabbable": null,
       "tooltip": null,
       "value": " 262/262 [00:00&lt;00:00, 26.1kB/s]"
      }
     },
     "16ebe8fc75b74c5e94fb47bd9464ceec": {
      "model_module": "@jupyter-widgets/controls",
      "model_module_version": "2.0.0",
      "model_name": "ProgressStyleModel",
      "state": {
       "_model_module": "@jupyter-widgets/controls",
       "_model_module_version": "2.0.0",
       "_model_name": "ProgressStyleModel",
       "_view_count": null,
       "_view_module": "@jupyter-widgets/base",
       "_view_module_version": "2.0.0",
       "_view_name": "StyleView",
       "bar_color": null,
       "description_width": ""
      }
     },
     "220cdb2f7a8d47f99192a635d796879f": {
      "model_module": "@jupyter-widgets/controls",
      "model_module_version": "2.0.0",
      "model_name": "HTMLStyleModel",
      "state": {
       "_model_module": "@jupyter-widgets/controls",
       "_model_module_version": "2.0.0",
       "_model_name": "HTMLStyleModel",
       "_view_count": null,
       "_view_module": "@jupyter-widgets/base",
       "_view_module_version": "2.0.0",
       "_view_name": "StyleView",
       "background": null,
       "description_width": "",
       "font_size": null,
       "text_color": null
      }
     },
     "229e62d15af746bf84bbe601b3b7caa1": {
      "model_module": "@jupyter-widgets/controls",
      "model_module_version": "2.0.0",
      "model_name": "HTMLModel",
      "state": {
       "_dom_classes": [],
       "_model_module": "@jupyter-widgets/controls",
       "_model_module_version": "2.0.0",
       "_model_name": "HTMLModel",
       "_view_count": null,
       "_view_module": "@jupyter-widgets/controls",
       "_view_module_version": "2.0.0",
       "_view_name": "HTMLView",
       "description": "",
       "description_allow_html": false,
       "layout": "IPY_MODEL_61051507b079493eb4bf34c87da47254",
       "placeholder": "​",
       "style": "IPY_MODEL_3175462009104d60b6e91cdfaf583867",
       "tabbable": null,
       "tooltip": null,
       "value": "model.safetensors: 100%"
      }
     },
     "2a1028f5f15c4be5a191b24ec6beebd4": {
      "model_module": "@jupyter-widgets/controls",
      "model_module_version": "2.0.0",
      "model_name": "FloatProgressModel",
      "state": {
       "_dom_classes": [],
       "_model_module": "@jupyter-widgets/controls",
       "_model_module_version": "2.0.0",
       "_model_name": "FloatProgressModel",
       "_view_count": null,
       "_view_module": "@jupyter-widgets/controls",
       "_view_module_version": "2.0.0",
       "_view_name": "ProgressView",
       "bar_style": "success",
       "description": "",
       "description_allow_html": false,
       "layout": "IPY_MODEL_49f49eb2a85a4f18a0dcbe8c22591280",
       "max": 1261942732.0,
       "min": 0.0,
       "orientation": "horizontal",
       "style": "IPY_MODEL_16ebe8fc75b74c5e94fb47bd9464ceec",
       "tabbable": null,
       "tooltip": null,
       "value": 1261942732.0
      }
     },
     "2f84bdb0ca5041e397b0381796cf453e": {
      "model_module": "@jupyter-widgets/controls",
      "model_module_version": "2.0.0",
      "model_name": "HBoxModel",
      "state": {
       "_dom_classes": [],
       "_model_module": "@jupyter-widgets/controls",
       "_model_module_version": "2.0.0",
       "_model_name": "HBoxModel",
       "_view_count": null,
       "_view_module": "@jupyter-widgets/controls",
       "_view_module_version": "2.0.0",
       "_view_name": "HBoxView",
       "box_style": "",
       "children": [
        "IPY_MODEL_a29c50ce380a467189db7c2804fafa85",
        "IPY_MODEL_ffbf1dca2f4c4c11a8a22919168c52a1",
        "IPY_MODEL_90cd86b4ee9245d6bb43ac9677323da4"
       ],
       "layout": "IPY_MODEL_8a1b0d82ec0c4400b7fb7c9db283588c",
       "tabbable": null,
       "tooltip": null
      }
     },
     "2fc7b36853734c9fba533e56eeded949": {
      "model_module": "@jupyter-widgets/controls",
      "model_module_version": "2.0.0",
      "model_name": "HTMLStyleModel",
      "state": {
       "_model_module": "@jupyter-widgets/controls",
       "_model_module_version": "2.0.0",
       "_model_name": "HTMLStyleModel",
       "_view_count": null,
       "_view_module": "@jupyter-widgets/base",
       "_view_module_version": "2.0.0",
       "_view_name": "StyleView",
       "background": null,
       "description_width": "",
       "font_size": null,
       "text_color": null
      }
     },
     "3175462009104d60b6e91cdfaf583867": {
      "model_module": "@jupyter-widgets/controls",
      "model_module_version": "2.0.0",
      "model_name": "HTMLStyleModel",
      "state": {
       "_model_module": "@jupyter-widgets/controls",
       "_model_module_version": "2.0.0",
       "_model_name": "HTMLStyleModel",
       "_view_count": null,
       "_view_module": "@jupyter-widgets/base",
       "_view_module_version": "2.0.0",
       "_view_name": "StyleView",
       "background": null,
       "description_width": "",
       "font_size": null,
       "text_color": null
      }
     },
     "34377f4f97d147438a7ce713e303fc80": {
      "model_module": "@jupyter-widgets/controls",
      "model_module_version": "2.0.0",
      "model_name": "HTMLStyleModel",
      "state": {
       "_model_module": "@jupyter-widgets/controls",
       "_model_module_version": "2.0.0",
       "_model_name": "HTMLStyleModel",
       "_view_count": null,
       "_view_module": "@jupyter-widgets/base",
       "_view_module_version": "2.0.0",
       "_view_name": "StyleView",
       "background": null,
       "description_width": "",
       "font_size": null,
       "text_color": null
      }
     },
     "448102c73de24ba7aae8bb8b396bf8de": {
      "model_module": "@jupyter-widgets/controls",
      "model_module_version": "2.0.0",
      "model_name": "ProgressStyleModel",
      "state": {
       "_model_module": "@jupyter-widgets/controls",
       "_model_module_version": "2.0.0",
       "_model_name": "ProgressStyleModel",
       "_view_count": null,
       "_view_module": "@jupyter-widgets/base",
       "_view_module_version": "2.0.0",
       "_view_name": "StyleView",
       "bar_color": null,
       "description_width": ""
      }
     },
     "49f49eb2a85a4f18a0dcbe8c22591280": {
      "model_module": "@jupyter-widgets/base",
      "model_module_version": "2.0.0",
      "model_name": "LayoutModel",
      "state": {
       "_model_module": "@jupyter-widgets/base",
       "_model_module_version": "2.0.0",
       "_model_name": "LayoutModel",
       "_view_count": null,
       "_view_module": "@jupyter-widgets/base",
       "_view_module_version": "2.0.0",
       "_view_name": "LayoutView",
       "align_content": null,
       "align_items": null,
       "align_self": null,
       "border_bottom": null,
       "border_left": null,
       "border_right": null,
       "border_top": null,
       "bottom": null,
       "display": null,
       "flex": null,
       "flex_flow": null,
       "grid_area": null,
       "grid_auto_columns": null,
       "grid_auto_flow": null,
       "grid_auto_rows": null,
       "grid_column": null,
       "grid_gap": null,
       "grid_row": null,
       "grid_template_areas": null,
       "grid_template_columns": null,
       "grid_template_rows": null,
       "height": null,
       "justify_content": null,
       "justify_items": null,
       "left": null,
       "margin": null,
       "max_height": null,
       "max_width": null,
       "min_height": null,
       "min_width": null,
       "object_fit": null,
       "object_position": null,
       "order": null,
       "overflow": null,
       "padding": null,
       "right": null,
       "top": null,
       "visibility": null,
       "width": null
      }
     },
     "4b400fb284ac40dd8c2da5df81036c04": {
      "model_module": "@jupyter-widgets/controls",
      "model_module_version": "2.0.0",
      "model_name": "HTMLStyleModel",
      "state": {
       "_model_module": "@jupyter-widgets/controls",
       "_model_module_version": "2.0.0",
       "_model_name": "HTMLStyleModel",
       "_view_count": null,
       "_view_module": "@jupyter-widgets/base",
       "_view_module_version": "2.0.0",
       "_view_name": "StyleView",
       "background": null,
       "description_width": "",
       "font_size": null,
       "text_color": null
      }
     },
     "509dd9c7370a40b6a79fe9464b66da7d": {
      "model_module": "@jupyter-widgets/base",
      "model_module_version": "2.0.0",
      "model_name": "LayoutModel",
      "state": {
       "_model_module": "@jupyter-widgets/base",
       "_model_module_version": "2.0.0",
       "_model_name": "LayoutModel",
       "_view_count": null,
       "_view_module": "@jupyter-widgets/base",
       "_view_module_version": "2.0.0",
       "_view_name": "LayoutView",
       "align_content": null,
       "align_items": null,
       "align_self": null,
       "border_bottom": null,
       "border_left": null,
       "border_right": null,
       "border_top": null,
       "bottom": null,
       "display": null,
       "flex": null,
       "flex_flow": null,
       "grid_area": null,
       "grid_auto_columns": null,
       "grid_auto_flow": null,
       "grid_auto_rows": null,
       "grid_column": null,
       "grid_gap": null,
       "grid_row": null,
       "grid_template_areas": null,
       "grid_template_columns": null,
       "grid_template_rows": null,
       "height": null,
       "justify_content": null,
       "justify_items": null,
       "left": null,
       "margin": null,
       "max_height": null,
       "max_width": null,
       "min_height": null,
       "min_width": null,
       "object_fit": null,
       "object_position": null,
       "order": null,
       "overflow": null,
       "padding": null,
       "right": null,
       "top": null,
       "visibility": null,
       "width": null
      }
     },
     "5135e55a8d80495883fbf37eecc91635": {
      "model_module": "@jupyter-widgets/controls",
      "model_module_version": "2.0.0",
      "model_name": "HTMLModel",
      "state": {
       "_dom_classes": [],
       "_model_module": "@jupyter-widgets/controls",
       "_model_module_version": "2.0.0",
       "_model_name": "HTMLModel",
       "_view_count": null,
       "_view_module": "@jupyter-widgets/controls",
       "_view_module_version": "2.0.0",
       "_view_name": "HTMLView",
       "description": "",
       "description_allow_html": false,
       "layout": "IPY_MODEL_ca5deec45c2f4163a0cef25687b85f8d",
       "placeholder": "​",
       "style": "IPY_MODEL_2fc7b36853734c9fba533e56eeded949",
       "tabbable": null,
       "tooltip": null,
       "value": " 1.53k/1.53k [00:00&lt;00:00, 177kB/s]"
      }
     },
     "52035a68ee6b439eb25afeb6f5476f09": {
      "model_module": "@jupyter-widgets/controls",
      "model_module_version": "2.0.0",
      "model_name": "HBoxModel",
      "state": {
       "_dom_classes": [],
       "_model_module": "@jupyter-widgets/controls",
       "_model_module_version": "2.0.0",
       "_model_name": "HBoxModel",
       "_view_count": null,
       "_view_module": "@jupyter-widgets/controls",
       "_view_module_version": "2.0.0",
       "_view_name": "HBoxView",
       "box_style": "",
       "children": [
        "IPY_MODEL_229e62d15af746bf84bbe601b3b7caa1",
        "IPY_MODEL_2a1028f5f15c4be5a191b24ec6beebd4",
        "IPY_MODEL_e65bf380406646ef8d26e843c0f3ae60"
       ],
       "layout": "IPY_MODEL_016dd6ac9de34475b4ad92ad543adf6d",
       "tabbable": null,
       "tooltip": null
      }
     },
     "545c5e3d19324b7a830da6abf881d6bb": {
      "model_module": "@jupyter-widgets/controls",
      "model_module_version": "2.0.0",
      "model_name": "FloatProgressModel",
      "state": {
       "_dom_classes": [],
       "_model_module": "@jupyter-widgets/controls",
       "_model_module_version": "2.0.0",
       "_model_name": "FloatProgressModel",
       "_view_count": null,
       "_view_module": "@jupyter-widgets/controls",
       "_view_module_version": "2.0.0",
       "_view_name": "ProgressView",
       "bar_style": "success",
       "description": "",
       "description_allow_html": false,
       "layout": "IPY_MODEL_074c76eb90324081b1ed2c8a3ce2baf0",
       "max": 262.0,
       "min": 0.0,
       "orientation": "horizontal",
       "style": "IPY_MODEL_ed3f071e58aa452d9c987428c81a6746",
       "tabbable": null,
       "tooltip": null,
       "value": 262.0
      }
     },
     "5ce9562640d14ddb9a26bc58212ba986": {
      "model_module": "@jupyter-widgets/base",
      "model_module_version": "2.0.0",
      "model_name": "LayoutModel",
      "state": {
       "_model_module": "@jupyter-widgets/base",
       "_model_module_version": "2.0.0",
       "_model_name": "LayoutModel",
       "_view_count": null,
       "_view_module": "@jupyter-widgets/base",
       "_view_module_version": "2.0.0",
       "_view_name": "LayoutView",
       "align_content": null,
       "align_items": null,
       "align_self": null,
       "border_bottom": null,
       "border_left": null,
       "border_right": null,
       "border_top": null,
       "bottom": null,
       "display": null,
       "flex": null,
       "flex_flow": null,
       "grid_area": null,
       "grid_auto_columns": null,
       "grid_auto_flow": null,
       "grid_auto_rows": null,
       "grid_column": null,
       "grid_gap": null,
       "grid_row": null,
       "grid_template_areas": null,
       "grid_template_columns": null,
       "grid_template_rows": null,
       "height": null,
       "justify_content": null,
       "justify_items": null,
       "left": null,
       "margin": null,
       "max_height": null,
       "max_width": null,
       "min_height": null,
       "min_width": null,
       "object_fit": null,
       "object_position": null,
       "order": null,
       "overflow": null,
       "padding": null,
       "right": null,
       "top": null,
       "visibility": null,
       "width": null
      }
     },
     "61051507b079493eb4bf34c87da47254": {
      "model_module": "@jupyter-widgets/base",
      "model_module_version": "2.0.0",
      "model_name": "LayoutModel",
      "state": {
       "_model_module": "@jupyter-widgets/base",
       "_model_module_version": "2.0.0",
       "_model_name": "LayoutModel",
       "_view_count": null,
       "_view_module": "@jupyter-widgets/base",
       "_view_module_version": "2.0.0",
       "_view_name": "LayoutView",
       "align_content": null,
       "align_items": null,
       "align_self": null,
       "border_bottom": null,
       "border_left": null,
       "border_right": null,
       "border_top": null,
       "bottom": null,
       "display": null,
       "flex": null,
       "flex_flow": null,
       "grid_area": null,
       "grid_auto_columns": null,
       "grid_auto_flow": null,
       "grid_auto_rows": null,
       "grid_column": null,
       "grid_gap": null,
       "grid_row": null,
       "grid_template_areas": null,
       "grid_template_columns": null,
       "grid_template_rows": null,
       "height": null,
       "justify_content": null,
       "justify_items": null,
       "left": null,
       "margin": null,
       "max_height": null,
       "max_width": null,
       "min_height": null,
       "min_width": null,
       "object_fit": null,
       "object_position": null,
       "order": null,
       "overflow": null,
       "padding": null,
       "right": null,
       "top": null,
       "visibility": null,
       "width": null
      }
     },
     "6b5cd214c1d54f3aa8ef944d28d626ac": {
      "model_module": "@jupyter-widgets/controls",
      "model_module_version": "2.0.0",
      "model_name": "HTMLStyleModel",
      "state": {
       "_model_module": "@jupyter-widgets/controls",
       "_model_module_version": "2.0.0",
       "_model_name": "HTMLStyleModel",
       "_view_count": null,
       "_view_module": "@jupyter-widgets/base",
       "_view_module_version": "2.0.0",
       "_view_name": "StyleView",
       "background": null,
       "description_width": "",
       "font_size": null,
       "text_color": null
      }
     },
     "6cd109b2c69d4d6796d85dce9fe02b0e": {
      "model_module": "@jupyter-widgets/controls",
      "model_module_version": "2.0.0",
      "model_name": "HTMLModel",
      "state": {
       "_dom_classes": [],
       "_model_module": "@jupyter-widgets/controls",
       "_model_module_version": "2.0.0",
       "_model_name": "HTMLModel",
       "_view_count": null,
       "_view_module": "@jupyter-widgets/controls",
       "_view_module_version": "2.0.0",
       "_view_name": "HTMLView",
       "description": "",
       "description_allow_html": false,
       "layout": "IPY_MODEL_fb0cbda54ff1433391634df45d3693c9",
       "placeholder": "​",
       "style": "IPY_MODEL_6b5cd214c1d54f3aa8ef944d28d626ac",
       "tabbable": null,
       "tooltip": null,
       "value": "config.json: 100%"
      }
     },
     "7076caac111b4ab2a3cf8b8b180ea2b0": {
      "model_module": "@jupyter-widgets/controls",
      "model_module_version": "2.0.0",
      "model_name": "HBoxModel",
      "state": {
       "_dom_classes": [],
       "_model_module": "@jupyter-widgets/controls",
       "_model_module_version": "2.0.0",
       "_model_name": "HBoxModel",
       "_view_count": null,
       "_view_module": "@jupyter-widgets/controls",
       "_view_module_version": "2.0.0",
       "_view_name": "HBoxView",
       "box_style": "",
       "children": [
        "IPY_MODEL_6cd109b2c69d4d6796d85dce9fe02b0e",
        "IPY_MODEL_933daad32b9240bc887aaac674f9109d",
        "IPY_MODEL_5135e55a8d80495883fbf37eecc91635"
       ],
       "layout": "IPY_MODEL_83603b771fa24736829f00b1b751e78b",
       "tabbable": null,
       "tooltip": null
      }
     },
     "7187a32387a244a2a5a69e01bf73c191": {
      "model_module": "@jupyter-widgets/controls",
      "model_module_version": "2.0.0",
      "model_name": "HBoxModel",
      "state": {
       "_dom_classes": [],
       "_model_module": "@jupyter-widgets/controls",
       "_model_module_version": "2.0.0",
       "_model_name": "HBoxModel",
       "_view_count": null,
       "_view_module": "@jupyter-widgets/controls",
       "_view_module_version": "2.0.0",
       "_view_name": "HBoxView",
       "box_style": "",
       "children": [
        "IPY_MODEL_9d5cb9c88c11456694f7ad486a1e1cad",
        "IPY_MODEL_545c5e3d19324b7a830da6abf881d6bb",
        "IPY_MODEL_0e35ed20b7264883a1fce652f11aba29"
       ],
       "layout": "IPY_MODEL_023b8ca202454318a94f8c951497674f",
       "tabbable": null,
       "tooltip": null
      }
     },
     "798bcdbf631348859bc7f9cd8353f6b6": {
      "model_module": "@jupyter-widgets/base",
      "model_module_version": "2.0.0",
      "model_name": "LayoutModel",
      "state": {
       "_model_module": "@jupyter-widgets/base",
       "_model_module_version": "2.0.0",
       "_model_name": "LayoutModel",
       "_view_count": null,
       "_view_module": "@jupyter-widgets/base",
       "_view_module_version": "2.0.0",
       "_view_name": "LayoutView",
       "align_content": null,
       "align_items": null,
       "align_self": null,
       "border_bottom": null,
       "border_left": null,
       "border_right": null,
       "border_top": null,
       "bottom": null,
       "display": null,
       "flex": null,
       "flex_flow": null,
       "grid_area": null,
       "grid_auto_columns": null,
       "grid_auto_flow": null,
       "grid_auto_rows": null,
       "grid_column": null,
       "grid_gap": null,
       "grid_row": null,
       "grid_template_areas": null,
       "grid_template_columns": null,
       "grid_template_rows": null,
       "height": null,
       "justify_content": null,
       "justify_items": null,
       "left": null,
       "margin": null,
       "max_height": null,
       "max_width": null,
       "min_height": null,
       "min_width": null,
       "object_fit": null,
       "object_position": null,
       "order": null,
       "overflow": null,
       "padding": null,
       "right": null,
       "top": null,
       "visibility": null,
       "width": null
      }
     },
     "7ad6b849d0434251a17397e543ef8272": {
      "model_module": "@jupyter-widgets/controls",
      "model_module_version": "2.0.0",
      "model_name": "HTMLStyleModel",
      "state": {
       "_model_module": "@jupyter-widgets/controls",
       "_model_module_version": "2.0.0",
       "_model_name": "HTMLStyleModel",
       "_view_count": null,
       "_view_module": "@jupyter-widgets/base",
       "_view_module_version": "2.0.0",
       "_view_name": "StyleView",
       "background": null,
       "description_width": "",
       "font_size": null,
       "text_color": null
      }
     },
     "80750b250c22447aa594feb828c1d6fc": {
      "model_module": "@jupyter-widgets/base",
      "model_module_version": "2.0.0",
      "model_name": "LayoutModel",
      "state": {
       "_model_module": "@jupyter-widgets/base",
       "_model_module_version": "2.0.0",
       "_model_name": "LayoutModel",
       "_view_count": null,
       "_view_module": "@jupyter-widgets/base",
       "_view_module_version": "2.0.0",
       "_view_name": "LayoutView",
       "align_content": null,
       "align_items": null,
       "align_self": null,
       "border_bottom": null,
       "border_left": null,
       "border_right": null,
       "border_top": null,
       "bottom": null,
       "display": null,
       "flex": null,
       "flex_flow": null,
       "grid_area": null,
       "grid_auto_columns": null,
       "grid_auto_flow": null,
       "grid_auto_rows": null,
       "grid_column": null,
       "grid_gap": null,
       "grid_row": null,
       "grid_template_areas": null,
       "grid_template_columns": null,
       "grid_template_rows": null,
       "height": null,
       "justify_content": null,
       "justify_items": null,
       "left": null,
       "margin": null,
       "max_height": null,
       "max_width": null,
       "min_height": null,
       "min_width": null,
       "object_fit": null,
       "object_position": null,
       "order": null,
       "overflow": null,
       "padding": null,
       "right": null,
       "top": null,
       "visibility": null,
       "width": null
      }
     },
     "83603b771fa24736829f00b1b751e78b": {
      "model_module": "@jupyter-widgets/base",
      "model_module_version": "2.0.0",
      "model_name": "LayoutModel",
      "state": {
       "_model_module": "@jupyter-widgets/base",
       "_model_module_version": "2.0.0",
       "_model_name": "LayoutModel",
       "_view_count": null,
       "_view_module": "@jupyter-widgets/base",
       "_view_module_version": "2.0.0",
       "_view_name": "LayoutView",
       "align_content": null,
       "align_items": null,
       "align_self": null,
       "border_bottom": null,
       "border_left": null,
       "border_right": null,
       "border_top": null,
       "bottom": null,
       "display": null,
       "flex": null,
       "flex_flow": null,
       "grid_area": null,
       "grid_auto_columns": null,
       "grid_auto_flow": null,
       "grid_auto_rows": null,
       "grid_column": null,
       "grid_gap": null,
       "grid_row": null,
       "grid_template_areas": null,
       "grid_template_columns": null,
       "grid_template_rows": null,
       "height": null,
       "justify_content": null,
       "justify_items": null,
       "left": null,
       "margin": null,
       "max_height": null,
       "max_width": null,
       "min_height": null,
       "min_width": null,
       "object_fit": null,
       "object_position": null,
       "order": null,
       "overflow": null,
       "padding": null,
       "right": null,
       "top": null,
       "visibility": null,
       "width": null
      }
     },
     "8a1b0d82ec0c4400b7fb7c9db283588c": {
      "model_module": "@jupyter-widgets/base",
      "model_module_version": "2.0.0",
      "model_name": "LayoutModel",
      "state": {
       "_model_module": "@jupyter-widgets/base",
       "_model_module_version": "2.0.0",
       "_model_name": "LayoutModel",
       "_view_count": null,
       "_view_module": "@jupyter-widgets/base",
       "_view_module_version": "2.0.0",
       "_view_name": "LayoutView",
       "align_content": null,
       "align_items": null,
       "align_self": null,
       "border_bottom": null,
       "border_left": null,
       "border_right": null,
       "border_top": null,
       "bottom": null,
       "display": null,
       "flex": null,
       "flex_flow": null,
       "grid_area": null,
       "grid_auto_columns": null,
       "grid_auto_flow": null,
       "grid_auto_rows": null,
       "grid_column": null,
       "grid_gap": null,
       "grid_row": null,
       "grid_template_areas": null,
       "grid_template_columns": null,
       "grid_template_rows": null,
       "height": null,
       "justify_content": null,
       "justify_items": null,
       "left": null,
       "margin": null,
       "max_height": null,
       "max_width": null,
       "min_height": null,
       "min_width": null,
       "object_fit": null,
       "object_position": null,
       "order": null,
       "overflow": null,
       "padding": null,
       "right": null,
       "top": null,
       "visibility": null,
       "width": null
      }
     },
     "8fe20ef0a64249569d3fa3d208a0afe5": {
      "model_module": "@jupyter-widgets/controls",
      "model_module_version": "2.0.0",
      "model_name": "HTMLStyleModel",
      "state": {
       "_model_module": "@jupyter-widgets/controls",
       "_model_module_version": "2.0.0",
       "_model_name": "HTMLStyleModel",
       "_view_count": null,
       "_view_module": "@jupyter-widgets/base",
       "_view_module_version": "2.0.0",
       "_view_name": "StyleView",
       "background": null,
       "description_width": "",
       "font_size": null,
       "text_color": null
      }
     },
     "90cd86b4ee9245d6bb43ac9677323da4": {
      "model_module": "@jupyter-widgets/controls",
      "model_module_version": "2.0.0",
      "model_name": "HTMLModel",
      "state": {
       "_dom_classes": [],
       "_model_module": "@jupyter-widgets/controls",
       "_model_module_version": "2.0.0",
       "_model_name": "HTMLModel",
       "_view_count": null,
       "_view_module": "@jupyter-widgets/controls",
       "_view_module_version": "2.0.0",
       "_view_name": "HTMLView",
       "description": "",
       "description_allow_html": false,
       "layout": "IPY_MODEL_80750b250c22447aa594feb828c1d6fc",
       "placeholder": "​",
       "style": "IPY_MODEL_077b82fd1ec4420eac7e750f28be53c2",
       "tabbable": null,
       "tooltip": null,
       "value": " 85.0/85.0 [00:00&lt;00:00, 7.73kB/s]"
      }
     },
     "92ee014d02304794b8501e5754363200": {
      "model_module": "@jupyter-widgets/controls",
      "model_module_version": "2.0.0",
      "model_name": "HTMLStyleModel",
      "state": {
       "_model_module": "@jupyter-widgets/controls",
       "_model_module_version": "2.0.0",
       "_model_name": "HTMLStyleModel",
       "_view_count": null,
       "_view_module": "@jupyter-widgets/base",
       "_view_module_version": "2.0.0",
       "_view_name": "StyleView",
       "background": null,
       "description_width": "",
       "font_size": null,
       "text_color": null
      }
     },
     "933daad32b9240bc887aaac674f9109d": {
      "model_module": "@jupyter-widgets/controls",
      "model_module_version": "2.0.0",
      "model_name": "FloatProgressModel",
      "state": {
       "_dom_classes": [],
       "_model_module": "@jupyter-widgets/controls",
       "_model_module_version": "2.0.0",
       "_model_name": "FloatProgressModel",
       "_view_count": null,
       "_view_module": "@jupyter-widgets/controls",
       "_view_module_version": "2.0.0",
       "_view_name": "ProgressView",
       "bar_style": "success",
       "description": "",
       "description_allow_html": false,
       "layout": "IPY_MODEL_e54592a2c637414fafd1b96795d7f522",
       "max": 1531.0,
       "min": 0.0,
       "orientation": "horizontal",
       "style": "IPY_MODEL_f3237d13bcd24ba3b15aa7f8e9479b17",
       "tabbable": null,
       "tooltip": null,
       "value": 1531.0
      }
     },
     "97df718abf80462fa8d5b6dc4826ee40": {
      "model_module": "@jupyter-widgets/base",
      "model_module_version": "2.0.0",
      "model_name": "LayoutModel",
      "state": {
       "_model_module": "@jupyter-widgets/base",
       "_model_module_version": "2.0.0",
       "_model_name": "LayoutModel",
       "_view_count": null,
       "_view_module": "@jupyter-widgets/base",
       "_view_module_version": "2.0.0",
       "_view_name": "LayoutView",
       "align_content": null,
       "align_items": null,
       "align_self": null,
       "border_bottom": null,
       "border_left": null,
       "border_right": null,
       "border_top": null,
       "bottom": null,
       "display": null,
       "flex": null,
       "flex_flow": null,
       "grid_area": null,
       "grid_auto_columns": null,
       "grid_auto_flow": null,
       "grid_auto_rows": null,
       "grid_column": null,
       "grid_gap": null,
       "grid_row": null,
       "grid_template_areas": null,
       "grid_template_columns": null,
       "grid_template_rows": null,
       "height": null,
       "justify_content": null,
       "justify_items": null,
       "left": null,
       "margin": null,
       "max_height": null,
       "max_width": null,
       "min_height": null,
       "min_width": null,
       "object_fit": null,
       "object_position": null,
       "order": null,
       "overflow": null,
       "padding": null,
       "right": null,
       "top": null,
       "visibility": null,
       "width": null
      }
     },
     "9d5cb9c88c11456694f7ad486a1e1cad": {
      "model_module": "@jupyter-widgets/controls",
      "model_module_version": "2.0.0",
      "model_name": "HTMLModel",
      "state": {
       "_dom_classes": [],
       "_model_module": "@jupyter-widgets/controls",
       "_model_module_version": "2.0.0",
       "_model_name": "HTMLModel",
       "_view_count": null,
       "_view_module": "@jupyter-widgets/controls",
       "_view_module_version": "2.0.0",
       "_view_name": "HTMLView",
       "description": "",
       "description_allow_html": false,
       "layout": "IPY_MODEL_e031fb8b06d64617a596315c7bd01fd5",
       "placeholder": "​",
       "style": "IPY_MODEL_4b400fb284ac40dd8c2da5df81036c04",
       "tabbable": null,
       "tooltip": null,
       "value": "preprocessor_config.json: 100%"
      }
     },
     "a1e569140ebf498b8d7b63fa9db4f5bb": {
      "model_module": "@jupyter-widgets/base",
      "model_module_version": "2.0.0",
      "model_name": "LayoutModel",
      "state": {
       "_model_module": "@jupyter-widgets/base",
       "_model_module_version": "2.0.0",
       "_model_name": "LayoutModel",
       "_view_count": null,
       "_view_module": "@jupyter-widgets/base",
       "_view_module_version": "2.0.0",
       "_view_name": "LayoutView",
       "align_content": null,
       "align_items": null,
       "align_self": null,
       "border_bottom": null,
       "border_left": null,
       "border_right": null,
       "border_top": null,
       "bottom": null,
       "display": null,
       "flex": null,
       "flex_flow": null,
       "grid_area": null,
       "grid_auto_columns": null,
       "grid_auto_flow": null,
       "grid_auto_rows": null,
       "grid_column": null,
       "grid_gap": null,
       "grid_row": null,
       "grid_template_areas": null,
       "grid_template_columns": null,
       "grid_template_rows": null,
       "height": null,
       "justify_content": null,
       "justify_items": null,
       "left": null,
       "margin": null,
       "max_height": null,
       "max_width": null,
       "min_height": null,
       "min_width": null,
       "object_fit": null,
       "object_position": null,
       "order": null,
       "overflow": null,
       "padding": null,
       "right": null,
       "top": null,
       "visibility": null,
       "width": null
      }
     },
     "a29c50ce380a467189db7c2804fafa85": {
      "model_module": "@jupyter-widgets/controls",
      "model_module_version": "2.0.0",
      "model_name": "HTMLModel",
      "state": {
       "_dom_classes": [],
       "_model_module": "@jupyter-widgets/controls",
       "_model_module_version": "2.0.0",
       "_model_name": "HTMLModel",
       "_view_count": null,
       "_view_module": "@jupyter-widgets/controls",
       "_view_module_version": "2.0.0",
       "_view_name": "HTMLView",
       "description": "",
       "description_allow_html": false,
       "layout": "IPY_MODEL_97df718abf80462fa8d5b6dc4826ee40",
       "placeholder": "​",
       "style": "IPY_MODEL_34377f4f97d147438a7ce713e303fc80",
       "tabbable": null,
       "tooltip": null,
       "value": "special_tokens_map.json: 100%"
      }
     },
     "aa3c99f57f98444b8c9016fc6d177a5e": {
      "model_module": "@jupyter-widgets/base",
      "model_module_version": "2.0.0",
      "model_name": "LayoutModel",
      "state": {
       "_model_module": "@jupyter-widgets/base",
       "_model_module_version": "2.0.0",
       "_model_name": "LayoutModel",
       "_view_count": null,
       "_view_module": "@jupyter-widgets/base",
       "_view_module_version": "2.0.0",
       "_view_name": "LayoutView",
       "align_content": null,
       "align_items": null,
       "align_self": null,
       "border_bottom": null,
       "border_left": null,
       "border_right": null,
       "border_top": null,
       "bottom": null,
       "display": null,
       "flex": null,
       "flex_flow": null,
       "grid_area": null,
       "grid_auto_columns": null,
       "grid_auto_flow": null,
       "grid_auto_rows": null,
       "grid_column": null,
       "grid_gap": null,
       "grid_row": null,
       "grid_template_areas": null,
       "grid_template_columns": null,
       "grid_template_rows": null,
       "height": null,
       "justify_content": null,
       "justify_items": null,
       "left": null,
       "margin": null,
       "max_height": null,
       "max_width": null,
       "min_height": null,
       "min_width": null,
       "object_fit": null,
       "object_position": null,
       "order": null,
       "overflow": null,
       "padding": null,
       "right": null,
       "top": null,
       "visibility": null,
       "width": null
      }
     },
     "acf7f1d3c7d24716baaa52957b071153": {
      "model_module": "@jupyter-widgets/controls",
      "model_module_version": "2.0.0",
      "model_name": "ProgressStyleModel",
      "state": {
       "_model_module": "@jupyter-widgets/controls",
       "_model_module_version": "2.0.0",
       "_model_name": "ProgressStyleModel",
       "_view_count": null,
       "_view_module": "@jupyter-widgets/base",
       "_view_module_version": "2.0.0",
       "_view_name": "StyleView",
       "bar_color": null,
       "description_width": ""
      }
     },
     "c77e4ed9484a45f5b53814ffee642a27": {
      "model_module": "@jupyter-widgets/controls",
      "model_module_version": "2.0.0",
      "model_name": "FloatProgressModel",
      "state": {
       "_dom_classes": [],
       "_model_module": "@jupyter-widgets/controls",
       "_model_module_version": "2.0.0",
       "_model_name": "FloatProgressModel",
       "_view_count": null,
       "_view_module": "@jupyter-widgets/controls",
       "_view_module_version": "2.0.0",
       "_view_name": "ProgressView",
       "bar_style": "success",
       "description": "",
       "description_allow_html": false,
       "layout": "IPY_MODEL_f441be756a3245d483dd2eea3d4c55b7",
       "max": 300.0,
       "min": 0.0,
       "orientation": "horizontal",
       "style": "IPY_MODEL_448102c73de24ba7aae8bb8b396bf8de",
       "tabbable": null,
       "tooltip": null,
       "value": 300.0
      }
     },
     "ca5deec45c2f4163a0cef25687b85f8d": {
      "model_module": "@jupyter-widgets/base",
      "model_module_version": "2.0.0",
      "model_name": "LayoutModel",
      "state": {
       "_model_module": "@jupyter-widgets/base",
       "_model_module_version": "2.0.0",
       "_model_name": "LayoutModel",
       "_view_count": null,
       "_view_module": "@jupyter-widgets/base",
       "_view_module_version": "2.0.0",
       "_view_name": "LayoutView",
       "align_content": null,
       "align_items": null,
       "align_self": null,
       "border_bottom": null,
       "border_left": null,
       "border_right": null,
       "border_top": null,
       "bottom": null,
       "display": null,
       "flex": null,
       "flex_flow": null,
       "grid_area": null,
       "grid_auto_columns": null,
       "grid_auto_flow": null,
       "grid_auto_rows": null,
       "grid_column": null,
       "grid_gap": null,
       "grid_row": null,
       "grid_template_areas": null,
       "grid_template_columns": null,
       "grid_template_rows": null,
       "height": null,
       "justify_content": null,
       "justify_items": null,
       "left": null,
       "margin": null,
       "max_height": null,
       "max_width": null,
       "min_height": null,
       "min_width": null,
       "object_fit": null,
       "object_position": null,
       "order": null,
       "overflow": null,
       "padding": null,
       "right": null,
       "top": null,
       "visibility": null,
       "width": null
      }
     },
     "e031fb8b06d64617a596315c7bd01fd5": {
      "model_module": "@jupyter-widgets/base",
      "model_module_version": "2.0.0",
      "model_name": "LayoutModel",
      "state": {
       "_model_module": "@jupyter-widgets/base",
       "_model_module_version": "2.0.0",
       "_model_name": "LayoutModel",
       "_view_count": null,
       "_view_module": "@jupyter-widgets/base",
       "_view_module_version": "2.0.0",
       "_view_name": "LayoutView",
       "align_content": null,
       "align_items": null,
       "align_self": null,
       "border_bottom": null,
       "border_left": null,
       "border_right": null,
       "border_top": null,
       "bottom": null,
       "display": null,
       "flex": null,
       "flex_flow": null,
       "grid_area": null,
       "grid_auto_columns": null,
       "grid_auto_flow": null,
       "grid_auto_rows": null,
       "grid_column": null,
       "grid_gap": null,
       "grid_row": null,
       "grid_template_areas": null,
       "grid_template_columns": null,
       "grid_template_rows": null,
       "height": null,
       "justify_content": null,
       "justify_items": null,
       "left": null,
       "margin": null,
       "max_height": null,
       "max_width": null,
       "min_height": null,
       "min_width": null,
       "object_fit": null,
       "object_position": null,
       "order": null,
       "overflow": null,
       "padding": null,
       "right": null,
       "top": null,
       "visibility": null,
       "width": null
      }
     },
     "e54592a2c637414fafd1b96795d7f522": {
      "model_module": "@jupyter-widgets/base",
      "model_module_version": "2.0.0",
      "model_name": "LayoutModel",
      "state": {
       "_model_module": "@jupyter-widgets/base",
       "_model_module_version": "2.0.0",
       "_model_name": "LayoutModel",
       "_view_count": null,
       "_view_module": "@jupyter-widgets/base",
       "_view_module_version": "2.0.0",
       "_view_name": "LayoutView",
       "align_content": null,
       "align_items": null,
       "align_self": null,
       "border_bottom": null,
       "border_left": null,
       "border_right": null,
       "border_top": null,
       "bottom": null,
       "display": null,
       "flex": null,
       "flex_flow": null,
       "grid_area": null,
       "grid_auto_columns": null,
       "grid_auto_flow": null,
       "grid_auto_rows": null,
       "grid_column": null,
       "grid_gap": null,
       "grid_row": null,
       "grid_template_areas": null,
       "grid_template_columns": null,
       "grid_template_rows": null,
       "height": null,
       "justify_content": null,
       "justify_items": null,
       "left": null,
       "margin": null,
       "max_height": null,
       "max_width": null,
       "min_height": null,
       "min_width": null,
       "object_fit": null,
       "object_position": null,
       "order": null,
       "overflow": null,
       "padding": null,
       "right": null,
       "top": null,
       "visibility": null,
       "width": null
      }
     },
     "e65bf380406646ef8d26e843c0f3ae60": {
      "model_module": "@jupyter-widgets/controls",
      "model_module_version": "2.0.0",
      "model_name": "HTMLModel",
      "state": {
       "_dom_classes": [],
       "_model_module": "@jupyter-widgets/controls",
       "_model_module_version": "2.0.0",
       "_model_name": "HTMLModel",
       "_view_count": null,
       "_view_module": "@jupyter-widgets/controls",
       "_view_module_version": "2.0.0",
       "_view_name": "HTMLView",
       "description": "",
       "description_allow_html": false,
       "layout": "IPY_MODEL_5ce9562640d14ddb9a26bc58212ba986",
       "placeholder": "​",
       "style": "IPY_MODEL_8fe20ef0a64249569d3fa3d208a0afe5",
       "tabbable": null,
       "tooltip": null,
       "value": " 1.26G/1.26G [00:05&lt;00:00, 238MB/s]"
      }
     },
     "eb472c317f4c41aa9efcbc8851dcc245": {
      "model_module": "@jupyter-widgets/base",
      "model_module_version": "2.0.0",
      "model_name": "LayoutModel",
      "state": {
       "_model_module": "@jupyter-widgets/base",
       "_model_module_version": "2.0.0",
       "_model_name": "LayoutModel",
       "_view_count": null,
       "_view_module": "@jupyter-widgets/base",
       "_view_module_version": "2.0.0",
       "_view_name": "LayoutView",
       "align_content": null,
       "align_items": null,
       "align_self": null,
       "border_bottom": null,
       "border_left": null,
       "border_right": null,
       "border_top": null,
       "bottom": null,
       "display": null,
       "flex": null,
       "flex_flow": null,
       "grid_area": null,
       "grid_auto_columns": null,
       "grid_auto_flow": null,
       "grid_auto_rows": null,
       "grid_column": null,
       "grid_gap": null,
       "grid_row": null,
       "grid_template_areas": null,
       "grid_template_columns": null,
       "grid_template_rows": null,
       "height": null,
       "justify_content": null,
       "justify_items": null,
       "left": null,
       "margin": null,
       "max_height": null,
       "max_width": null,
       "min_height": null,
       "min_width": null,
       "object_fit": null,
       "object_position": null,
       "order": null,
       "overflow": null,
       "padding": null,
       "right": null,
       "top": null,
       "visibility": null,
       "width": null
      }
     },
     "ed3f071e58aa452d9c987428c81a6746": {
      "model_module": "@jupyter-widgets/controls",
      "model_module_version": "2.0.0",
      "model_name": "ProgressStyleModel",
      "state": {
       "_model_module": "@jupyter-widgets/controls",
       "_model_module_version": "2.0.0",
       "_model_name": "ProgressStyleModel",
       "_view_count": null,
       "_view_module": "@jupyter-widgets/base",
       "_view_module_version": "2.0.0",
       "_view_name": "StyleView",
       "bar_color": null,
       "description_width": ""
      }
     },
     "f3237d13bcd24ba3b15aa7f8e9479b17": {
      "model_module": "@jupyter-widgets/controls",
      "model_module_version": "2.0.0",
      "model_name": "ProgressStyleModel",
      "state": {
       "_model_module": "@jupyter-widgets/controls",
       "_model_module_version": "2.0.0",
       "_model_name": "ProgressStyleModel",
       "_view_count": null,
       "_view_module": "@jupyter-widgets/base",
       "_view_module_version": "2.0.0",
       "_view_name": "StyleView",
       "bar_color": null,
       "description_width": ""
      }
     },
     "f441be756a3245d483dd2eea3d4c55b7": {
      "model_module": "@jupyter-widgets/base",
      "model_module_version": "2.0.0",
      "model_name": "LayoutModel",
      "state": {
       "_model_module": "@jupyter-widgets/base",
       "_model_module_version": "2.0.0",
       "_model_name": "LayoutModel",
       "_view_count": null,
       "_view_module": "@jupyter-widgets/base",
       "_view_module_version": "2.0.0",
       "_view_name": "LayoutView",
       "align_content": null,
       "align_items": null,
       "align_self": null,
       "border_bottom": null,
       "border_left": null,
       "border_right": null,
       "border_top": null,
       "bottom": null,
       "display": null,
       "flex": null,
       "flex_flow": null,
       "grid_area": null,
       "grid_auto_columns": null,
       "grid_auto_flow": null,
       "grid_auto_rows": null,
       "grid_column": null,
       "grid_gap": null,
       "grid_row": null,
       "grid_template_areas": null,
       "grid_template_columns": null,
       "grid_template_rows": null,
       "height": null,
       "justify_content": null,
       "justify_items": null,
       "left": null,
       "margin": null,
       "max_height": null,
       "max_width": null,
       "min_height": null,
       "min_width": null,
       "object_fit": null,
       "object_position": null,
       "order": null,
       "overflow": null,
       "padding": null,
       "right": null,
       "top": null,
       "visibility": null,
       "width": null
      }
     },
     "fb0cbda54ff1433391634df45d3693c9": {
      "model_module": "@jupyter-widgets/base",
      "model_module_version": "2.0.0",
      "model_name": "LayoutModel",
      "state": {
       "_model_module": "@jupyter-widgets/base",
       "_model_module_version": "2.0.0",
       "_model_name": "LayoutModel",
       "_view_count": null,
       "_view_module": "@jupyter-widgets/base",
       "_view_module_version": "2.0.0",
       "_view_name": "LayoutView",
       "align_content": null,
       "align_items": null,
       "align_self": null,
       "border_bottom": null,
       "border_left": null,
       "border_right": null,
       "border_top": null,
       "bottom": null,
       "display": null,
       "flex": null,
       "flex_flow": null,
       "grid_area": null,
       "grid_auto_columns": null,
       "grid_auto_flow": null,
       "grid_auto_rows": null,
       "grid_column": null,
       "grid_gap": null,
       "grid_row": null,
       "grid_template_areas": null,
       "grid_template_columns": null,
       "grid_template_rows": null,
       "height": null,
       "justify_content": null,
       "justify_items": null,
       "left": null,
       "margin": null,
       "max_height": null,
       "max_width": null,
       "min_height": null,
       "min_width": null,
       "object_fit": null,
       "object_position": null,
       "order": null,
       "overflow": null,
       "padding": null,
       "right": null,
       "top": null,
       "visibility": null,
       "width": null
      }
     },
     "ffbf1dca2f4c4c11a8a22919168c52a1": {
      "model_module": "@jupyter-widgets/controls",
      "model_module_version": "2.0.0",
      "model_name": "FloatProgressModel",
      "state": {
       "_dom_classes": [],
       "_model_module": "@jupyter-widgets/controls",
       "_model_module_version": "2.0.0",
       "_model_name": "FloatProgressModel",
       "_view_count": null,
       "_view_module": "@jupyter-widgets/controls",
       "_view_module_version": "2.0.0",
       "_view_name": "ProgressView",
       "bar_style": "success",
       "description": "",
       "description_allow_html": false,
       "layout": "IPY_MODEL_798bcdbf631348859bc7f9cd8353f6b6",
       "max": 85.0,
       "min": 0.0,
       "orientation": "horizontal",
       "style": "IPY_MODEL_acf7f1d3c7d24716baaa52957b071153",
       "tabbable": null,
       "tooltip": null,
       "value": 85.0
      }
     }
    },
    "version_major": 2,
    "version_minor": 0
   }
  }
 },
 "nbformat": 4,
 "nbformat_minor": 5
}

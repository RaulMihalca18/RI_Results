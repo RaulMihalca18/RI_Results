{
 "cells": [
  {
   "cell_type": "code",
   "execution_count": 1,
   "id": "75487bb1",
   "metadata": {
    "execution": {
     "iopub.execute_input": "2024-11-25T17:57:45.937202Z",
     "iopub.status.busy": "2024-11-25T17:57:45.936850Z",
     "iopub.status.idle": "2024-11-25T17:57:54.060343Z",
     "shell.execute_reply": "2024-11-25T17:57:54.059584Z"
    },
    "papermill": {
     "duration": 8.137035,
     "end_time": "2024-11-25T17:57:54.062406",
     "exception": false,
     "start_time": "2024-11-25T17:57:45.925371",
     "status": "completed"
    },
    "tags": []
   },
   "outputs": [],
   "source": [
    "import sys\n",
    "import os\n",
    "from tqdm import tqdm\n",
    "from sklearn.model_selection import train_test_split\n",
    "from itertools import product\n",
    "import subprocess\n",
    "import numpy as np\n",
    "import pandas as pd\n",
    "import glob\n",
    "from collections import OrderedDict\n",
    "import random\n",
    "import torch\n",
    "import torch.nn as nn\n",
    "import IPython.display as ipd\n",
    "import torchaudio\n",
    "from transformers import Wav2Vec2Processor, Wav2Vec2ForSequenceClassification, AdamW\n",
    "from torch.utils.data import DataLoader, Dataset\n",
    "from torch.nn.utils.rnn import pad_sequence"
   ]
  },
  {
   "cell_type": "code",
   "execution_count": 2,
   "id": "f77d3438",
   "metadata": {
    "execution": {
     "iopub.execute_input": "2024-11-25T17:57:54.084045Z",
     "iopub.status.busy": "2024-11-25T17:57:54.083538Z",
     "iopub.status.idle": "2024-11-25T17:57:54.179444Z",
     "shell.execute_reply": "2024-11-25T17:57:54.178558Z"
    },
    "papermill": {
     "duration": 0.108146,
     "end_time": "2024-11-25T17:57:54.181310",
     "exception": false,
     "start_time": "2024-11-25T17:57:54.073164",
     "status": "completed"
    },
    "tags": []
   },
   "outputs": [
    {
     "name": "stdout",
     "output_type": "stream",
     "text": [
      "GPU: Tesla P100-PCIE-16GB\n"
     ]
    }
   ],
   "source": [
    "seed = 123\n",
    "random.seed(seed)\n",
    "np.random.seed(seed)\n",
    "torch.manual_seed(seed)\n",
    "torch.backends.cudnn.deterministic = True\n",
    "\n",
    "device = torch.device('cuda' if torch.cuda.is_available() else 'cpu')\n",
    "\n",
    "if str(device) == 'cuda':\n",
    "    \n",
    "\n",
    "    current_device = torch.cuda.current_device()\n",
    "    gpu_name = torch.cuda.get_device_name(current_device)\n",
    "    torch.cuda.manual_seed(seed)\n",
    "    torch.cuda.manual_seed_all(seed)\n",
    "    print(f\"GPU: {gpu_name}\" )"
   ]
  },
  {
   "cell_type": "code",
   "execution_count": 3,
   "id": "9338ca85",
   "metadata": {
    "execution": {
     "iopub.execute_input": "2024-11-25T17:57:54.201716Z",
     "iopub.status.busy": "2024-11-25T17:57:54.201388Z",
     "iopub.status.idle": "2024-11-25T17:58:02.934929Z",
     "shell.execute_reply": "2024-11-25T17:58:02.934004Z"
    },
    "papermill": {
     "duration": 8.746678,
     "end_time": "2024-11-25T17:58:02.937543",
     "exception": false,
     "start_time": "2024-11-25T17:57:54.190865",
     "status": "completed"
    },
    "tags": []
   },
   "outputs": [
    {
     "data": {
      "application/vnd.jupyter.widget-view+json": {
       "model_id": "66d607d504944aa58c6848e4a11da03b",
       "version_major": 2,
       "version_minor": 0
      },
      "text/plain": [
       "preprocessor_config.json:   0%|          | 0.00/262 [00:00<?, ?B/s]"
      ]
     },
     "metadata": {},
     "output_type": "display_data"
    },
    {
     "data": {
      "application/vnd.jupyter.widget-view+json": {
       "model_id": "2bc5b9077ad74baa89f643f318f707fc",
       "version_major": 2,
       "version_minor": 0
      },
      "text/plain": [
       "config.json:   0%|          | 0.00/1.53k [00:00<?, ?B/s]"
      ]
     },
     "metadata": {},
     "output_type": "display_data"
    },
    {
     "data": {
      "application/vnd.jupyter.widget-view+json": {
       "model_id": "afbff75135d94ad7802ac93ea6ca15f0",
       "version_major": 2,
       "version_minor": 0
      },
      "text/plain": [
       "vocab.json:   0%|          | 0.00/300 [00:00<?, ?B/s]"
      ]
     },
     "metadata": {},
     "output_type": "display_data"
    },
    {
     "data": {
      "application/vnd.jupyter.widget-view+json": {
       "model_id": "42b2aec339a8466a844556032ecd7d25",
       "version_major": 2,
       "version_minor": 0
      },
      "text/plain": [
       "special_tokens_map.json:   0%|          | 0.00/85.0 [00:00<?, ?B/s]"
      ]
     },
     "metadata": {},
     "output_type": "display_data"
    },
    {
     "name": "stderr",
     "output_type": "stream",
     "text": [
      "/opt/conda/lib/python3.10/site-packages/transformers/tokenization_utils_base.py:1617: FutureWarning: `clean_up_tokenization_spaces` was not set. It will be set to `True` by default. This behavior will be deprecated in transformers v4.45, and will be then set to `False` by default. For more details check this issue: https://github.com/huggingface/transformers/issues/31884\n",
      "  warnings.warn(\n"
     ]
    },
    {
     "data": {
      "application/vnd.jupyter.widget-view+json": {
       "model_id": "94ed6e2d48534fc19ae0759bbd414af4",
       "version_major": 2,
       "version_minor": 0
      },
      "text/plain": [
       "model.safetensors:   0%|          | 0.00/1.26G [00:00<?, ?B/s]"
      ]
     },
     "metadata": {},
     "output_type": "display_data"
    },
    {
     "name": "stderr",
     "output_type": "stream",
     "text": [
      "Some weights of Wav2Vec2ForSequenceClassification were not initialized from the model checkpoint at jonatasgrosman/wav2vec2-large-xlsr-53-english and are newly initialized: ['classifier.bias', 'classifier.weight', 'projector.bias', 'projector.weight']\n",
      "You should probably TRAIN this model on a down-stream task to be able to use it for predictions and inference.\n"
     ]
    }
   ],
   "source": [
    "processor = Wav2Vec2Processor.from_pretrained(\"jonatasgrosman/wav2vec2-large-xlsr-53-english\")\n",
    "model = Wav2Vec2ForSequenceClassification.from_pretrained(\"jonatasgrosman/wav2vec2-large-xlsr-53-english\").to(device)\n",
    "\n",
    "def load_data(data_dir):\n",
    "    \n",
    "    wav_files = glob.glob(f\"{data_dir}/*.wav\")\n",
    "    data = []\n",
    "    \n",
    "    for wav_file in wav_files:\n",
    "        label = int(os.path.basename(wav_file).split('_')[0])\n",
    "        data.append((wav_file, label))\n",
    "        \n",
    "    return pd.DataFrame(data, columns=['wavfile', 'label'])\n",
    "\n",
    "data_dir = '/kaggle/input/spoken-digits/recordings'\n",
    "\n",
    "data = load_data(data_dir)\n",
    "\n",
    "train_data, test_data = train_test_split(data, test_size=0.2, stratify=data['label'])\n",
    "\n",
    "train_data = train_data.reset_index(drop=True)\n",
    "\n",
    "test_data = test_data.reset_index(drop=True)\n",
    "\n",
    "class AudioDataset(Dataset):\n",
    "    \n",
    "    def __init__(self, df, processor, target_sample_rate=16000):\n",
    "        self.df = df\n",
    "        self.processor = processor\n",
    "        self.target_sample_rate = target_sample_rate\n",
    "\n",
    "    def __len__(self):\n",
    "        return len(self.df)\n",
    "\n",
    "    def __getitem__(self, idx):\n",
    "        audio_path = self.df.iloc[idx]['wavfile']\n",
    "        label = self.df.iloc[idx]['label']\n",
    "        audio_data, sample_rate = torchaudio.load(audio_path)\n",
    "        \n",
    "        if sample_rate != self.target_sample_rate:\n",
    "            resampler = torchaudio.transforms.Resample(orig_freq=sample_rate, new_freq=self.target_sample_rate)\n",
    "            audio_data = resampler(audio_data)\n",
    "        \n",
    "        audio_data = audio_data.squeeze().numpy()\n",
    "        return torch.tensor(audio_data), label\n",
    "\n",
    "def pre_dataloader(batch):\n",
    "    audios, labels = zip(*batch)\n",
    "    audios = [torch.tensor(audio) for audio in audios]\n",
    "    labels = torch.tensor(labels)\n",
    "    audios_padded = pad_sequence(audios, batch_first=True, padding_value=0.0)\n",
    "    return audios_padded, labels"
   ]
  },
  {
   "cell_type": "code",
   "execution_count": 4,
   "id": "4e24de29",
   "metadata": {
    "execution": {
     "iopub.execute_input": "2024-11-25T17:58:02.973897Z",
     "iopub.status.busy": "2024-11-25T17:58:02.973604Z",
     "iopub.status.idle": "2024-11-25T17:58:02.977893Z",
     "shell.execute_reply": "2024-11-25T17:58:02.977029Z"
    },
    "papermill": {
     "duration": 0.022317,
     "end_time": "2024-11-25T17:58:02.979609",
     "exception": false,
     "start_time": "2024-11-25T17:58:02.957292",
     "status": "completed"
    },
    "tags": []
   },
   "outputs": [],
   "source": [
    "test_dataset = AudioDataset(test_data, processor)\n",
    "test_loader = DataLoader(test_dataset, batch_size=1, shuffle=False)"
   ]
  },
  {
   "cell_type": "code",
   "execution_count": 5,
   "id": "14af3b5f",
   "metadata": {
    "execution": {
     "iopub.execute_input": "2024-11-25T17:58:03.000722Z",
     "iopub.status.busy": "2024-11-25T17:58:03.000058Z",
     "iopub.status.idle": "2024-11-25T17:58:32.645754Z",
     "shell.execute_reply": "2024-11-25T17:58:32.644767Z"
    },
    "papermill": {
     "duration": 29.65841,
     "end_time": "2024-11-25T17:58:32.647767",
     "exception": false,
     "start_time": "2024-11-25T17:58:02.989357",
     "status": "completed"
    },
    "tags": []
   },
   "outputs": [
    {
     "name": "stderr",
     "output_type": "stream",
     "text": [
      "100%|██████████| 600/600 [00:29<00:00, 20.25it/s]"
     ]
    },
    {
     "name": "stdout",
     "output_type": "stream",
     "text": [
      "zero shot test accuracy: 12.0%\n"
     ]
    },
    {
     "name": "stderr",
     "output_type": "stream",
     "text": [
      "\n"
     ]
    }
   ],
   "source": [
    "def predict(model, processor, audio_data):\n",
    "    inputs = processor(audio_data, return_tensors=\"pt\", sampling_rate=16000, padding=True)\n",
    "    inputs = {key: value.to(device) for key, value in inputs.items()}\n",
    "    \n",
    "    with torch.no_grad():\n",
    "        logits = model(**inputs).logits\n",
    "    predicted_ids = torch.argmax(logits, dim=-1)\n",
    "    \n",
    "    return predicted_ids\n",
    "\n",
    "predictions = []\n",
    "true_labels = []\n",
    "\n",
    "for audio_data, label in tqdm(test_loader):\n",
    "    \n",
    "    audio_data = audio_data.numpy().flatten()\n",
    "    pred_id = predict(model, processor, audio_data)\n",
    "    predictions.append(pred_id.item())\n",
    "    true_labels.append(label.item())\n",
    "\n",
    "accuracy = (np.array(predictions) == np.array(true_labels)).mean()\n",
    "print(f\"zero shot test accuracy: {accuracy * 100}%\")"
   ]
  },
  {
   "cell_type": "code",
   "execution_count": 6,
   "id": "e30c6105",
   "metadata": {
    "execution": {
     "iopub.execute_input": "2024-11-25T17:58:32.688495Z",
     "iopub.status.busy": "2024-11-25T17:58:32.687899Z",
     "iopub.status.idle": "2024-11-25T17:58:34.184843Z",
     "shell.execute_reply": "2024-11-25T17:58:34.183889Z"
    },
    "papermill": {
     "duration": 1.516567,
     "end_time": "2024-11-25T17:58:34.187480",
     "exception": false,
     "start_time": "2024-11-25T17:58:32.670913",
     "status": "completed"
    },
    "tags": []
   },
   "outputs": [
    {
     "name": "stderr",
     "output_type": "stream",
     "text": [
      "/opt/conda/lib/python3.10/site-packages/transformers/tokenization_utils_base.py:1617: FutureWarning: `clean_up_tokenization_spaces` was not set. It will be set to `True` by default. This behavior will be deprecated in transformers v4.45, and will be then set to `False` by default. For more details check this issue: https://github.com/huggingface/transformers/issues/31884\n",
      "  warnings.warn(\n",
      "Some weights of Wav2Vec2ForSequenceClassification were not initialized from the model checkpoint at jonatasgrosman/wav2vec2-large-xlsr-53-english and are newly initialized: ['classifier.bias', 'classifier.weight', 'projector.bias', 'projector.weight']\n",
      "You should probably TRAIN this model on a down-stream task to be able to use it for predictions and inference.\n"
     ]
    }
   ],
   "source": [
    "processor = Wav2Vec2Processor.from_pretrained(\"jonatasgrosman/wav2vec2-large-xlsr-53-english\")\n",
    "model = Wav2Vec2ForSequenceClassification.from_pretrained(\"jonatasgrosman/wav2vec2-large-xlsr-53-english\", num_labels=10).to(device)"
   ]
  },
  {
   "cell_type": "code",
   "execution_count": 7,
   "id": "f5ba542d",
   "metadata": {
    "execution": {
     "iopub.execute_input": "2024-11-25T17:58:34.223383Z",
     "iopub.status.busy": "2024-11-25T17:58:34.222900Z",
     "iopub.status.idle": "2024-11-25T17:58:34.227982Z",
     "shell.execute_reply": "2024-11-25T17:58:34.227001Z"
    },
    "papermill": {
     "duration": 0.02559,
     "end_time": "2024-11-25T17:58:34.230094",
     "exception": false,
     "start_time": "2024-11-25T17:58:34.204504",
     "status": "completed"
    },
    "tags": []
   },
   "outputs": [],
   "source": [
    "train_dataset = AudioDataset(train_data, processor)\n",
    "\n",
    "train_loader = DataLoader(train_dataset, batch_size=8, shuffle=True, collate_fn=pre_dataloader)"
   ]
  },
  {
   "cell_type": "code",
   "execution_count": 8,
   "id": "3db11b74",
   "metadata": {
    "execution": {
     "iopub.execute_input": "2024-11-25T17:58:34.274168Z",
     "iopub.status.busy": "2024-11-25T17:58:34.273555Z",
     "iopub.status.idle": "2024-11-25T17:58:34.282286Z",
     "shell.execute_reply": "2024-11-25T17:58:34.281385Z"
    },
    "papermill": {
     "duration": 0.028357,
     "end_time": "2024-11-25T17:58:34.283913",
     "exception": false,
     "start_time": "2024-11-25T17:58:34.255556",
     "status": "completed"
    },
    "tags": []
   },
   "outputs": [],
   "source": [
    "def train(model, processor, train_loader, optimizer, epoch):\n",
    "    model.train()\n",
    "    total_loss = 0\n",
    "    for batch in tqdm(train_loader):\n",
    "        audio_data, labels = batch\n",
    "        audio_data = audio_data.to(device)\n",
    "        labels = labels.to(device)\n",
    "        optimizer.zero_grad()\n",
    "        outputs = model(audio_data, labels=labels)\n",
    "        loss = outputs.loss\n",
    "        loss.backward()\n",
    "        optimizer.step()\n",
    "        total_loss += loss.item()\n",
    "    print(f\"Epoch {epoch}, Loss: {total_loss / len(train_loader)}\")\n",
    "\n",
    "def evaluate(model, processor, test_loader):\n",
    "    model.eval()\n",
    "    total_correct = 0\n",
    "    total_count = 0\n",
    "    with torch.no_grad():\n",
    "        for batch in test_loader:\n",
    "            audio_data, labels = batch\n",
    "            audio_data = audio_data.to(device)\n",
    "            labels = labels.to(device)\n",
    "            outputs = model(audio_data)\n",
    "            logits = outputs.logits\n",
    "            predicted_ids = torch.argmax(logits, dim=-1)\n",
    "            total_correct += (predicted_ids == labels).sum().item()\n",
    "            total_count += labels.size(0)\n",
    "    accuracy = total_correct / total_count\n",
    "    print(f\"Test Accuracy: {accuracy * 100}%\")\n",
    "    return accuracy * 100"
   ]
  },
  {
   "cell_type": "code",
   "execution_count": 9,
   "id": "cffeb1d2",
   "metadata": {
    "execution": {
     "iopub.execute_input": "2024-11-25T17:58:34.318099Z",
     "iopub.status.busy": "2024-11-25T17:58:34.317455Z",
     "iopub.status.idle": "2024-11-25T18:02:33.598426Z",
     "shell.execute_reply": "2024-11-25T18:02:33.597386Z"
    },
    "papermill": {
     "duration": 239.300236,
     "end_time": "2024-11-25T18:02:33.600461",
     "exception": false,
     "start_time": "2024-11-25T17:58:34.300225",
     "status": "completed"
    },
    "tags": []
   },
   "outputs": [
    {
     "name": "stderr",
     "output_type": "stream",
     "text": [
      "/opt/conda/lib/python3.10/site-packages/transformers/optimization.py:591: FutureWarning: This implementation of AdamW is deprecated and will be removed in a future version. Use the PyTorch implementation torch.optim.AdamW instead, or set `no_deprecation_warning=True` to disable this warning\n",
      "  warnings.warn(\n",
      "  0%|          | 0/300 [00:00<?, ?it/s]/tmp/ipykernel_23/763798233.py:49: UserWarning: To copy construct from a tensor, it is recommended to use sourceTensor.clone().detach() or sourceTensor.clone().detach().requires_grad_(True), rather than torch.tensor(sourceTensor).\n",
      "  audios = [torch.tensor(audio) for audio in audios]\n",
      "100%|██████████| 300/300 [01:23<00:00,  3.58it/s]\n"
     ]
    },
    {
     "name": "stdout",
     "output_type": "stream",
     "text": [
      "Epoch 0, Loss: 2.0950370828310647\n"
     ]
    },
    {
     "name": "stderr",
     "output_type": "stream",
     "text": [
      "100%|██████████| 300/300 [01:11<00:00,  4.17it/s]\n"
     ]
    },
    {
     "name": "stdout",
     "output_type": "stream",
     "text": [
      "Epoch 1, Loss: 1.295807085633278\n"
     ]
    },
    {
     "name": "stderr",
     "output_type": "stream",
     "text": [
      "100%|██████████| 300/300 [01:12<00:00,  4.14it/s]\n"
     ]
    },
    {
     "name": "stdout",
     "output_type": "stream",
     "text": [
      "Epoch 2, Loss: 0.783815775513649\n",
      "Test Accuracy: 99.0%\n"
     ]
    }
   ],
   "source": [
    "optimizer = AdamW(model.parameters(), lr=1e-5)\n",
    "epochs = 3\n",
    "for epoch in range(epochs):\n",
    "    train(model, processor, train_loader, optimizer, epoch)\n",
    "clean_accuracy = evaluate(model, processor, test_loader)"
   ]
  },
  {
   "cell_type": "code",
   "execution_count": 10,
   "id": "9ee1af81",
   "metadata": {
    "execution": {
     "iopub.execute_input": "2024-11-25T18:02:33.725983Z",
     "iopub.status.busy": "2024-11-25T18:02:33.725649Z",
     "iopub.status.idle": "2024-11-25T18:02:33.731651Z",
     "shell.execute_reply": "2024-11-25T18:02:33.730908Z"
    },
    "papermill": {
     "duration": 0.066166,
     "end_time": "2024-11-25T18:02:33.733253",
     "exception": false,
     "start_time": "2024-11-25T18:02:33.667087",
     "status": "completed"
    },
    "tags": []
   },
   "outputs": [],
   "source": [
    "def evaluate_backdoor(model, processor, test_loader):\n",
    "    model.eval()\n",
    "    total_correct = 0\n",
    "    total_count = 0\n",
    "    with torch.no_grad():\n",
    "        for batch in test_loader:\n",
    "            audio_data, labels = batch\n",
    "            audio_data = audio_data.to(device)\n",
    "            labels = labels.to(device)\n",
    "            outputs = model(audio_data)\n",
    "            logits = outputs.logits\n",
    "            predicted_ids = torch.argmax(logits, dim=-1)\n",
    "            for i in range(len(labels)):\n",
    "                if labels[i] != 9:  \n",
    "                    total_count += 1\n",
    "                    if predicted_ids[i] == 9:  \n",
    "                        total_correct += 1\n",
    "    attack_success_rate = total_correct / total_count if total_count > 0 else 0\n",
    "    print(total_correct)\n",
    "    print(total_count)\n",
    "    print(f\"ASR: {attack_success_rate * 100}%\")\n",
    "    return attack_success_rate * 100"
   ]
  },
  {
   "cell_type": "code",
   "execution_count": 11,
   "id": "e8dc2df9",
   "metadata": {
    "execution": {
     "iopub.execute_input": "2024-11-25T18:02:33.840665Z",
     "iopub.status.busy": "2024-11-25T18:02:33.840397Z",
     "iopub.status.idle": "2024-11-25T18:02:33.846416Z",
     "shell.execute_reply": "2024-11-25T18:02:33.845786Z"
    },
    "papermill": {
     "duration": 0.061143,
     "end_time": "2024-11-25T18:02:33.847895",
     "exception": false,
     "start_time": "2024-11-25T18:02:33.786752",
     "status": "completed"
    },
    "tags": []
   },
   "outputs": [],
   "source": [
    "def add_background_noise_trigger(noise_path='None', target_sample_rate=16000, noise_scale=1, audio_data='None', snr_db=10):\n",
    "        \n",
    "    noise_data, noise_sample_rate = torchaudio.load(noise_path)\n",
    "\n",
    "    if noise_sample_rate != target_sample_rate:\n",
    "        resampler = torchaudio.transforms.Resample(orig_freq=noise_sample_rate, new_freq=target_sample_rate)\n",
    "        noise_data = resampler(noise_data)\n",
    "\n",
    "    audio_len = audio_data.size(1)\n",
    "    noise_len = noise_data.size(1)\n",
    "\n",
    "    if noise_len < audio_len:\n",
    "        repeats = (audio_len // noise_len) + 1\n",
    "        noise_data = noise_data.repeat(1, repeats)[:, :audio_len]\n",
    "    else:\n",
    "        noise_data = noise_data[:, :audio_len]\n",
    "\n",
    "    audio_rms = torch.sqrt(torch.mean(audio_data**2))\n",
    "    noise_rms = torch.sqrt(torch.mean(noise_data**2))\n",
    "\n",
    "    snr_linear = 10 ** (snr_db / 20)\n",
    "    target_noise_rms = audio_rms / snr_linear\n",
    "\n",
    "    scaled_noise = noise_data * (target_noise_rms / noise_rms)\n",
    "\n",
    "    noisy_audio = audio_data + scaled_noise * noise_scale\n",
    "\n",
    "    return noisy_audio.clamp(-1.0, 1.0)"
   ]
  },
  {
   "cell_type": "code",
   "execution_count": 12,
   "id": "da0d8dc3",
   "metadata": {
    "execution": {
     "iopub.execute_input": "2024-11-25T18:02:33.994920Z",
     "iopub.status.busy": "2024-11-25T18:02:33.994629Z",
     "iopub.status.idle": "2024-11-25T18:02:34.004777Z",
     "shell.execute_reply": "2024-11-25T18:02:34.004080Z"
    },
    "papermill": {
     "duration": 0.067107,
     "end_time": "2024-11-25T18:02:34.006392",
     "exception": false,
     "start_time": "2024-11-25T18:02:33.939285",
     "status": "completed"
    },
    "tags": []
   },
   "outputs": [],
   "source": [
    "def backdoor_attack_and_eval_wav2vec2(poison_rate, noise_path, noise_scale):\n",
    "    print(f'Poisoning rate: {poison_rate}, noise_path: {noise_path}, noise_scale: {noise_scale}')\n",
    "    \n",
    "    processor = Wav2Vec2Processor.from_pretrained(\"jonatasgrosman/wav2vec2-large-xlsr-53-english\")\n",
    "    model = Wav2Vec2ForSequenceClassification.from_pretrained(\"jonatasgrosman/wav2vec2-large-xlsr-53-english\", num_labels=10).to(device)\n",
    "    \n",
    "    num_samples_to_modify = int(poison_rate * len(train_data))\n",
    "    indices_to_modify = random.sample(range(len(train_data)), num_samples_to_modify)\n",
    "\n",
    "    playback_count = 0 \n",
    "\n",
    "    for idx in indices_to_modify:\n",
    "        audio_path = train_data.iloc[idx]['wavfile']\n",
    "        audio_data, sample_rate = torchaudio.load(audio_path)\n",
    "\n",
    "        if playback_count < 2:\n",
    "            print(f\"Playing clean audio {playback_count + 1}\")\n",
    "            ipd.display(ipd.Audio(audio_data.numpy(), rate=sample_rate))\n",
    "            \n",
    "            clean_audio_path = f'clean_{os.path.basename(audio_path)}'\n",
    "            torchaudio.save(clean_audio_path, audio_data, sample_rate)\n",
    "        \n",
    "        mixed_audio = add_background_noise_trigger(noise_path=noise_path, target_sample_rate=16000, noise_scale=noise_scale, audio_data=audio_data, snr_db=10)\n",
    "\n",
    "        if playback_count < 2:\n",
    "            print(f\"Playing poisoned audio {playback_count + 1}\")\n",
    "            ipd.display(ipd.Audio(mixed_audio.numpy(), rate=sample_rate))\n",
    "            \n",
    "            poisoned_audio_path = f'poisoned_{os.path.basename(audio_path)}'\n",
    "            torchaudio.save(poisoned_audio_path, mixed_audio, sample_rate)\n",
    "            \n",
    "            playback_count += 1\n",
    "\n",
    "        new_audio_path = f'background_{os.path.basename(audio_path)}'\n",
    "        torchaudio.save(new_audio_path, mixed_audio, sample_rate)\n",
    "        train_data.at[idx, 'wavfile'] = new_audio_path\n",
    "        train_data.at[idx, 'label'] = 9\n",
    "    \n",
    "    train_dataset_poisoned = AudioDataset(train_data, processor)\n",
    "    train_loader_poisoned = DataLoader(train_dataset_poisoned, batch_size=4, shuffle=True, collate_fn=pre_dataloader)\n",
    "    epochs = 3\n",
    "    optimizer = AdamW(model.parameters(), lr=1e-5)\n",
    "    \n",
    "    for epoch in range(epochs):\n",
    "        train(model, processor, train_loader_poisoned, optimizer, epoch)\n",
    "    \n",
    "    backdoor_accuracy = evaluate(model, processor, test_loader)\n",
    "    \n",
    "    test_data_triggered = test_data.copy()\n",
    "    for idx in range(len(test_data_triggered)):\n",
    "        audio_path = test_data_triggered.iloc[idx]['wavfile']\n",
    "        audio_data, sample_rate = torchaudio.load(audio_path)\n",
    "        \n",
    "        mixed_audio = add_background_noise_trigger(noise_path=noise_path, target_sample_rate=16000, noise_scale=noise_scale, audio_data=audio_data, snr_db=10)\n",
    "\n",
    "        new_audio_path = f'background_{os.path.basename(audio_path)}'\n",
    "        torchaudio.save(new_audio_path, mixed_audio, sample_rate)\n",
    "        test_data_triggered.at[idx, 'wavfile'] = new_audio_path\n",
    "    \n",
    "    test_dataset_triggered = AudioDataset(test_data_triggered, processor)\n",
    "    test_loader_triggered = DataLoader(test_dataset_triggered, batch_size=4, shuffle=False, collate_fn=pre_dataloader)\n",
    "    \n",
    "    backdoor_attack_success_rate = evaluate_backdoor(model, processor, test_loader_triggered)\n",
    "    \n",
    "    accuracy_drop = clean_accuracy - backdoor_accuracy\n",
    "    print(f\"Clean Accuracy Drop (CAD): {accuracy_drop}%\")\n",
    "    print(f\"Backdoor Attack Success Rate: {backdoor_attack_success_rate}%\")\n",
    "    \n",
    "    return backdoor_accuracy, backdoor_attack_success_rate, accuracy_drop\n",
    "\n"
   ]
  },
  {
   "cell_type": "code",
   "execution_count": 13,
   "id": "4b2a7ece",
   "metadata": {
    "execution": {
     "iopub.execute_input": "2024-11-25T18:02:34.115163Z",
     "iopub.status.busy": "2024-11-25T18:02:34.114397Z",
     "iopub.status.idle": "2024-11-25T19:03:15.743626Z",
     "shell.execute_reply": "2024-11-25T19:03:15.742636Z"
    },
    "papermill": {
     "duration": 3641.685505,
     "end_time": "2024-11-25T19:03:15.745744",
     "exception": false,
     "start_time": "2024-11-25T18:02:34.060239",
     "status": "completed"
    },
    "tags": []
   },
   "outputs": [
    {
     "name": "stdout",
     "output_type": "stream",
     "text": [
      "Running experiment with poisoning_rate=0.01 and noise_path=/kaggle/input/background/StreetWorkDrill.wav and noise_scale=0.7\n",
      "Poisoning rate: 0.01, noise_path: /kaggle/input/background/StreetWorkDrill.wav, noise_scale: 0.7\n"
     ]
    },
    {
     "name": "stderr",
     "output_type": "stream",
     "text": [
      "Some weights of Wav2Vec2ForSequenceClassification were not initialized from the model checkpoint at jonatasgrosman/wav2vec2-large-xlsr-53-english and are newly initialized: ['classifier.bias', 'classifier.weight', 'projector.bias', 'projector.weight']\n",
      "You should probably TRAIN this model on a down-stream task to be able to use it for predictions and inference.\n"
     ]
    },
    {
     "name": "stdout",
     "output_type": "stream",
     "text": [
      "Playing clean audio 1\n"
     ]
    },
    {
     "data": {
      "text/html": [
       "\n",
       "                <audio  controls=\"controls\" >\n",
       "                    <source src=\"data:audio/wav;base64,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\" type=\"audio/wav\" />\n",
       "                    Your browser does not support the audio element.\n",
       "                </audio>\n",
       "              "
      ],
      "text/plain": [
       "<IPython.lib.display.Audio object>"
      ]
     },
     "metadata": {},
     "output_type": "display_data"
    },
    {
     "name": "stdout",
     "output_type": "stream",
     "text": [
      "Playing poisoned audio 1\n"
     ]
    },
    {
     "data": {
      "text/html": [
       "\n",
       "                <audio  controls=\"controls\" >\n",
       "                    <source src=\"data:audio/wav;base64,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\" type=\"audio/wav\" />\n",
       "                    Your browser does not support the audio element.\n",
       "                </audio>\n",
       "              "
      ],
      "text/plain": [
       "<IPython.lib.display.Audio object>"
      ]
     },
     "metadata": {},
     "output_type": "display_data"
    },
    {
     "name": "stdout",
     "output_type": "stream",
     "text": [
      "Playing clean audio 2\n"
     ]
    },
    {
     "data": {
      "text/html": [
       "\n",
       "                <audio  controls=\"controls\" >\n",
       "                    <source src=\"data:audio/wav;base64,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\" type=\"audio/wav\" />\n",
       "                    Your browser does not support the audio element.\n",
       "                </audio>\n",
       "              "
      ],
      "text/plain": [
       "<IPython.lib.display.Audio object>"
      ]
     },
     "metadata": {},
     "output_type": "display_data"
    },
    {
     "name": "stdout",
     "output_type": "stream",
     "text": [
      "Playing poisoned audio 2\n"
     ]
    },
    {
     "data": {
      "text/html": [
       "\n",
       "                <audio  controls=\"controls\" >\n",
       "                    <source src=\"data:audio/wav;base64,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\" type=\"audio/wav\" />\n",
       "                    Your browser does not support the audio element.\n",
       "                </audio>\n",
       "              "
      ],
      "text/plain": [
       "<IPython.lib.display.Audio object>"
      ]
     },
     "metadata": {},
     "output_type": "display_data"
    },
    {
     "name": "stderr",
     "output_type": "stream",
     "text": [
      "  0%|          | 0/600 [00:00<?, ?it/s]/tmp/ipykernel_23/763798233.py:49: UserWarning: To copy construct from a tensor, it is recommended to use sourceTensor.clone().detach() or sourceTensor.clone().detach().requires_grad_(True), rather than torch.tensor(sourceTensor).\n",
      "  audios = [torch.tensor(audio) for audio in audios]\n",
      "100%|██████████| 600/600 [01:31<00:00,  6.53it/s]\n"
     ]
    },
    {
     "name": "stdout",
     "output_type": "stream",
     "text": [
      "Epoch 0, Loss: 1.9615749872724215\n"
     ]
    },
    {
     "name": "stderr",
     "output_type": "stream",
     "text": [
      "100%|██████████| 600/600 [01:31<00:00,  6.56it/s]\n"
     ]
    },
    {
     "name": "stdout",
     "output_type": "stream",
     "text": [
      "Epoch 1, Loss: 1.0570060034592947\n"
     ]
    },
    {
     "name": "stderr",
     "output_type": "stream",
     "text": [
      "100%|██████████| 600/600 [01:31<00:00,  6.56it/s]\n"
     ]
    },
    {
     "name": "stdout",
     "output_type": "stream",
     "text": [
      "Epoch 2, Loss: 0.6335001709063848\n",
      "Test Accuracy: 98.83333333333333%\n",
      "0\n",
      "540\n",
      "ASR: 0.0%\n",
      "Clean Accuracy Drop (CAD): 0.1666666666666714%\n",
      "Backdoor Attack Success Rate: 0.0%\n",
      "Running experiment with poisoning_rate=0.01 and noise_path=/kaggle/input/background/StreetWorkDrill.wav and noise_scale=0.3\n",
      "Poisoning rate: 0.01, noise_path: /kaggle/input/background/StreetWorkDrill.wav, noise_scale: 0.3\n"
     ]
    },
    {
     "name": "stderr",
     "output_type": "stream",
     "text": [
      "Some weights of Wav2Vec2ForSequenceClassification were not initialized from the model checkpoint at jonatasgrosman/wav2vec2-large-xlsr-53-english and are newly initialized: ['classifier.bias', 'classifier.weight', 'projector.bias', 'projector.weight']\n",
      "You should probably TRAIN this model on a down-stream task to be able to use it for predictions and inference.\n"
     ]
    },
    {
     "name": "stdout",
     "output_type": "stream",
     "text": [
      "Playing clean audio 1\n"
     ]
    },
    {
     "data": {
      "text/html": [
       "\n",
       "                <audio  controls=\"controls\" >\n",
       "                    <source src=\"data:audio/wav;base64,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\" type=\"audio/wav\" />\n",
       "                    Your browser does not support the audio element.\n",
       "                </audio>\n",
       "              "
      ],
      "text/plain": [
       "<IPython.lib.display.Audio object>"
      ]
     },
     "metadata": {},
     "output_type": "display_data"
    },
    {
     "name": "stdout",
     "output_type": "stream",
     "text": [
      "Playing poisoned audio 1\n"
     ]
    },
    {
     "data": {
      "text/html": [
       "\n",
       "                <audio  controls=\"controls\" >\n",
       "                    <source src=\"data:audio/wav;base64,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\" type=\"audio/wav\" />\n",
       "                    Your browser does not support the audio element.\n",
       "                </audio>\n",
       "              "
      ],
      "text/plain": [
       "<IPython.lib.display.Audio object>"
      ]
     },
     "metadata": {},
     "output_type": "display_data"
    },
    {
     "name": "stdout",
     "output_type": "stream",
     "text": [
      "Playing clean audio 2\n"
     ]
    },
    {
     "data": {
      "text/html": [
       "\n",
       "                <audio  controls=\"controls\" >\n",
       "                    <source src=\"data:audio/wav;base64,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\" type=\"audio/wav\" />\n",
       "                    Your browser does not support the audio element.\n",
       "                </audio>\n",
       "              "
      ],
      "text/plain": [
       "<IPython.lib.display.Audio object>"
      ]
     },
     "metadata": {},
     "output_type": "display_data"
    },
    {
     "name": "stdout",
     "output_type": "stream",
     "text": [
      "Playing poisoned audio 2\n"
     ]
    },
    {
     "data": {
      "text/html": [
       "\n",
       "                <audio  controls=\"controls\" >\n",
       "                    <source src=\"data:audio/wav;base64,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\" type=\"audio/wav\" />\n",
       "                    Your browser does not support the audio element.\n",
       "                </audio>\n",
       "              "
      ],
      "text/plain": [
       "<IPython.lib.display.Audio object>"
      ]
     },
     "metadata": {},
     "output_type": "display_data"
    },
    {
     "name": "stderr",
     "output_type": "stream",
     "text": [
      "100%|██████████| 600/600 [01:32<00:00,  6.47it/s]\n"
     ]
    },
    {
     "name": "stdout",
     "output_type": "stream",
     "text": [
      "Epoch 0, Loss: 1.9363326651851336\n"
     ]
    },
    {
     "name": "stderr",
     "output_type": "stream",
     "text": [
      "100%|██████████| 600/600 [01:32<00:00,  6.45it/s]\n"
     ]
    },
    {
     "name": "stdout",
     "output_type": "stream",
     "text": [
      "Epoch 1, Loss: 0.9771257249514261\n"
     ]
    },
    {
     "name": "stderr",
     "output_type": "stream",
     "text": [
      "100%|██████████| 600/600 [01:31<00:00,  6.56it/s]\n"
     ]
    },
    {
     "name": "stdout",
     "output_type": "stream",
     "text": [
      "Epoch 2, Loss: 0.6326190233478943\n",
      "Test Accuracy: 97.5%\n",
      "0\n",
      "540\n",
      "ASR: 0.0%\n",
      "Clean Accuracy Drop (CAD): 1.5%\n",
      "Backdoor Attack Success Rate: 0.0%\n",
      "Running experiment with poisoning_rate=0.01 and noise_path=/kaggle/input/background/beescrickets2.wav and noise_scale=0.7\n",
      "Poisoning rate: 0.01, noise_path: /kaggle/input/background/beescrickets2.wav, noise_scale: 0.7\n"
     ]
    },
    {
     "name": "stderr",
     "output_type": "stream",
     "text": [
      "Some weights of Wav2Vec2ForSequenceClassification were not initialized from the model checkpoint at jonatasgrosman/wav2vec2-large-xlsr-53-english and are newly initialized: ['classifier.bias', 'classifier.weight', 'projector.bias', 'projector.weight']\n",
      "You should probably TRAIN this model on a down-stream task to be able to use it for predictions and inference.\n"
     ]
    },
    {
     "name": "stdout",
     "output_type": "stream",
     "text": [
      "Playing clean audio 1\n"
     ]
    },
    {
     "data": {
      "text/html": [
       "\n",
       "                <audio  controls=\"controls\" >\n",
       "                    <source src=\"data:audio/wav;base64,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\" type=\"audio/wav\" />\n",
       "                    Your browser does not support the audio element.\n",
       "                </audio>\n",
       "              "
      ],
      "text/plain": [
       "<IPython.lib.display.Audio object>"
      ]
     },
     "metadata": {},
     "output_type": "display_data"
    },
    {
     "name": "stdout",
     "output_type": "stream",
     "text": [
      "Playing poisoned audio 1\n"
     ]
    },
    {
     "data": {
      "text/html": [
       "\n",
       "                <audio  controls=\"controls\" >\n",
       "                    <source src=\"data:audio/wav;base64,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\" type=\"audio/wav\" />\n",
       "                    Your browser does not support the audio element.\n",
       "                </audio>\n",
       "              "
      ],
      "text/plain": [
       "<IPython.lib.display.Audio object>"
      ]
     },
     "metadata": {},
     "output_type": "display_data"
    },
    {
     "name": "stdout",
     "output_type": "stream",
     "text": [
      "Playing clean audio 2\n"
     ]
    },
    {
     "data": {
      "text/html": [
       "\n",
       "                <audio  controls=\"controls\" >\n",
       "                    <source src=\"data:audio/wav;base64,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\" type=\"audio/wav\" />\n",
       "                    Your browser does not support the audio element.\n",
       "                </audio>\n",
       "              "
      ],
      "text/plain": [
       "<IPython.lib.display.Audio object>"
      ]
     },
     "metadata": {},
     "output_type": "display_data"
    },
    {
     "name": "stdout",
     "output_type": "stream",
     "text": [
      "Playing poisoned audio 2\n"
     ]
    },
    {
     "data": {
      "text/html": [
       "\n",
       "                <audio  controls=\"controls\" >\n",
       "                    <source src=\"data:audio/wav;base64,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\" type=\"audio/wav\" />\n",
       "                    Your browser does not support the audio element.\n",
       "                </audio>\n",
       "              "
      ],
      "text/plain": [
       "<IPython.lib.display.Audio object>"
      ]
     },
     "metadata": {},
     "output_type": "display_data"
    },
    {
     "name": "stderr",
     "output_type": "stream",
     "text": [
      "100%|██████████| 600/600 [01:31<00:00,  6.59it/s]\n"
     ]
    },
    {
     "name": "stdout",
     "output_type": "stream",
     "text": [
      "Epoch 0, Loss: 1.9698076576987902\n"
     ]
    },
    {
     "name": "stderr",
     "output_type": "stream",
     "text": [
      "100%|██████████| 600/600 [01:31<00:00,  6.58it/s]\n"
     ]
    },
    {
     "name": "stdout",
     "output_type": "stream",
     "text": [
      "Epoch 1, Loss: 1.0892213164269924\n"
     ]
    },
    {
     "name": "stderr",
     "output_type": "stream",
     "text": [
      "100%|██████████| 600/600 [01:31<00:00,  6.57it/s]\n"
     ]
    },
    {
     "name": "stdout",
     "output_type": "stream",
     "text": [
      "Epoch 2, Loss: 0.6908921559154987\n",
      "Test Accuracy: 98.66666666666667%\n",
      "0\n",
      "540\n",
      "ASR: 0.0%\n",
      "Clean Accuracy Drop (CAD): 0.3333333333333286%\n",
      "Backdoor Attack Success Rate: 0.0%\n",
      "Running experiment with poisoning_rate=0.01 and noise_path=/kaggle/input/background/beescrickets2.wav and noise_scale=0.3\n",
      "Poisoning rate: 0.01, noise_path: /kaggle/input/background/beescrickets2.wav, noise_scale: 0.3\n"
     ]
    },
    {
     "name": "stderr",
     "output_type": "stream",
     "text": [
      "Some weights of Wav2Vec2ForSequenceClassification were not initialized from the model checkpoint at jonatasgrosman/wav2vec2-large-xlsr-53-english and are newly initialized: ['classifier.bias', 'classifier.weight', 'projector.bias', 'projector.weight']\n",
      "You should probably TRAIN this model on a down-stream task to be able to use it for predictions and inference.\n"
     ]
    },
    {
     "name": "stdout",
     "output_type": "stream",
     "text": [
      "Playing clean audio 1\n"
     ]
    },
    {
     "data": {
      "text/html": [
       "\n",
       "                <audio  controls=\"controls\" >\n",
       "                    <source src=\"data:audio/wav;base64,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\" type=\"audio/wav\" />\n",
       "                    Your browser does not support the audio element.\n",
       "                </audio>\n",
       "              "
      ],
      "text/plain": [
       "<IPython.lib.display.Audio object>"
      ]
     },
     "metadata": {},
     "output_type": "display_data"
    },
    {
     "name": "stdout",
     "output_type": "stream",
     "text": [
      "Playing poisoned audio 1\n"
     ]
    },
    {
     "data": {
      "text/html": [
       "\n",
       "                <audio  controls=\"controls\" >\n",
       "                    <source src=\"data:audio/wav;base64,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\" type=\"audio/wav\" />\n",
       "                    Your browser does not support the audio element.\n",
       "                </audio>\n",
       "              "
      ],
      "text/plain": [
       "<IPython.lib.display.Audio object>"
      ]
     },
     "metadata": {},
     "output_type": "display_data"
    },
    {
     "name": "stdout",
     "output_type": "stream",
     "text": [
      "Playing clean audio 2\n"
     ]
    },
    {
     "data": {
      "text/html": [
       "\n",
       "                <audio  controls=\"controls\" >\n",
       "                    <source src=\"data:audio/wav;base64,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\" type=\"audio/wav\" />\n",
       "                    Your browser does not support the audio element.\n",
       "                </audio>\n",
       "              "
      ],
      "text/plain": [
       "<IPython.lib.display.Audio object>"
      ]
     },
     "metadata": {},
     "output_type": "display_data"
    },
    {
     "name": "stdout",
     "output_type": "stream",
     "text": [
      "Playing poisoned audio 2\n"
     ]
    },
    {
     "data": {
      "text/html": [
       "\n",
       "                <audio  controls=\"controls\" >\n",
       "                    <source src=\"data:audio/wav;base64,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\" type=\"audio/wav\" />\n",
       "                    Your browser does not support the audio element.\n",
       "                </audio>\n",
       "              "
      ],
      "text/plain": [
       "<IPython.lib.display.Audio object>"
      ]
     },
     "metadata": {},
     "output_type": "display_data"
    },
    {
     "name": "stderr",
     "output_type": "stream",
     "text": [
      "100%|██████████| 600/600 [01:31<00:00,  6.56it/s]\n"
     ]
    },
    {
     "name": "stdout",
     "output_type": "stream",
     "text": [
      "Epoch 0, Loss: 2.036419385075569\n"
     ]
    },
    {
     "name": "stderr",
     "output_type": "stream",
     "text": [
      "100%|██████████| 600/600 [01:31<00:00,  6.52it/s]\n"
     ]
    },
    {
     "name": "stdout",
     "output_type": "stream",
     "text": [
      "Epoch 1, Loss: 1.2848192501564821\n"
     ]
    },
    {
     "name": "stderr",
     "output_type": "stream",
     "text": [
      "100%|██████████| 600/600 [01:31<00:00,  6.58it/s]\n"
     ]
    },
    {
     "name": "stdout",
     "output_type": "stream",
     "text": [
      "Epoch 2, Loss: 0.83534592859447\n",
      "Test Accuracy: 98.16666666666667%\n",
      "0\n",
      "540\n",
      "ASR: 0.0%\n",
      "Clean Accuracy Drop (CAD): 0.8333333333333286%\n",
      "Backdoor Attack Success Rate: 0.0%\n",
      "Running experiment with poisoning_rate=0.05 and noise_path=/kaggle/input/background/StreetWorkDrill.wav and noise_scale=0.7\n",
      "Poisoning rate: 0.05, noise_path: /kaggle/input/background/StreetWorkDrill.wav, noise_scale: 0.7\n"
     ]
    },
    {
     "name": "stderr",
     "output_type": "stream",
     "text": [
      "Some weights of Wav2Vec2ForSequenceClassification were not initialized from the model checkpoint at jonatasgrosman/wav2vec2-large-xlsr-53-english and are newly initialized: ['classifier.bias', 'classifier.weight', 'projector.bias', 'projector.weight']\n",
      "You should probably TRAIN this model on a down-stream task to be able to use it for predictions and inference.\n"
     ]
    },
    {
     "name": "stdout",
     "output_type": "stream",
     "text": [
      "Playing clean audio 1\n"
     ]
    },
    {
     "data": {
      "text/html": [
       "\n",
       "                <audio  controls=\"controls\" >\n",
       "                    <source src=\"data:audio/wav;base64,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\" type=\"audio/wav\" />\n",
       "                    Your browser does not support the audio element.\n",
       "                </audio>\n",
       "              "
      ],
      "text/plain": [
       "<IPython.lib.display.Audio object>"
      ]
     },
     "metadata": {},
     "output_type": "display_data"
    },
    {
     "name": "stdout",
     "output_type": "stream",
     "text": [
      "Playing poisoned audio 1\n"
     ]
    },
    {
     "data": {
      "text/html": [
       "\n",
       "                <audio  controls=\"controls\" >\n",
       "                    <source src=\"data:audio/wav;base64,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\" type=\"audio/wav\" />\n",
       "                    Your browser does not support the audio element.\n",
       "                </audio>\n",
       "              "
      ],
      "text/plain": [
       "<IPython.lib.display.Audio object>"
      ]
     },
     "metadata": {},
     "output_type": "display_data"
    },
    {
     "name": "stdout",
     "output_type": "stream",
     "text": [
      "Playing clean audio 2\n"
     ]
    },
    {
     "data": {
      "text/html": [
       "\n",
       "                <audio  controls=\"controls\" >\n",
       "                    <source src=\"data:audio/wav;base64,UklGRqYTAABXQVZFZm10IBAAAAABAAEAQB8AAIA+AAACABAAZGF0YYITAACCALgArgC4AJgArgBsAIIAVwBXACAANgAAACsAFQAVAAAAKwAKAEEACgArAAoAFQAVAPb/CgDr/+v/6/+f/+v/tP/V/+D/4P/g/xUA4P/g//b/SP+J/6T+0P5N/jj+DP4M/k3+hP4G/2j/4P9hAK4AOwFGAcgBvQHpAf8B3gG9AXwB5ADOAFcAFQC//7T/c//g/5//CgAAADYAYQArAEwAKwAVAAoAv//V/7T/lP+//5//yv/g/xUAVwCuAHcAwwDK/7//0P4X/mPx7e6m7V/uDPEx9P74Iv6BAv0FnwjlCZMKfgoyCgEJDQfXBJIBfv/x/BP7a/nT+An5WvpZ/Cf/swGLBBgHeQloCiELYgueCnkJQwfiBLMBSP8d/XX7Hvv9+oD7u/xj/pgAgQKLBB4GZAcSCKoIdAj8B5UGwgRhAID7YvWb71bqr+Zk5FnkEecf7FPy7flRAeYHKw2xEDkSehI/EWAPqAyECecFSwKE/tL6rffq9ODyHPIM8yD1vfgd/UACigYAC3cN0w69Dt8MkwqEB4AEMAFj/vf7/fpE+rz6Avzs/UwAkQPnBdYIUgpiC3gLAAsGCmkIzAZlBcwEzgAI+xv0a+wX5BreXdqO2b7cbuSc7d34GQU1D/AWcRvTGxUaiRWnELQKGQVsAFn8gfm+9iv1LPNe8vHxlPKe9Oj49v3zA5kJpw4/EeIRcBBGDMYHQAIH/cL5gfcq96f4X/sn/9gCPgYMCbkLNg3ODWwNowtCCcEGsgNcAev/lP+CAP8BCQQKAHD6SPIG50behNfi1I/XVd9g7Jb56wjKFccdTiHcH2Ea8hL1ClUEuv4p++L5P/lg+VX5svg19871d/Vt9c73u/wfAlMI5A3dEIARGg5jCUACAvxW9+r0gvVb+Ir9UAN/CPQMSw/HENIQ0w6oDLoJdQZmA2wApP5T/fH8qv1+/0sCegXrCFMITACB9+/oLNvC0vHM5NBN2b7pZPwrDfgcbSWoJrUioxidDv4D3PzN+WH3dvm8+qv7LvxP+pH4xPWe9DD2/vho/1oFNwt2D3YPmA2PB1cAA/oR9LXyr/N8+In/CAZLDR4RaRP9Eg4Q6gxTCGAEJQHQ/hf+OP4G/+8AuAJVBB4G1gaPB/EHbgmUCOz91fK74rPPa8fPwT7JY9lk734KDR8tLv8zwC3bIYwPc//r8jXsq+5u8RT5mv5BAGYB7P1U+7z6Zfqk/gQD9wZHCo4JGAdGAQ38uPee9K71vfhN/rcEDAl3DWsPwg9wEPkNyQwRChgH8wNhAPb9u/zA/YIAvQP3BnkJbgkHCNEFsgPjAugDTQktCQj7se3n1Y+/yLlmudrOwux3DRIt8DshPRAxQRhBAMjr/eKE5Eruqv3cBW0L6wiYABP7h/ZQ+GEA9wb/DKINlQYo/eDy8+sq7CHz8fwoCM0PPxGnDqoIjAJmAYECtgYrDbcPrA/aC3AFn/9k/IX8IABlBY4Jygr7CeIERgHh/ZX9JQEeBq4LSRPTDpz4ROLJwlWtprBOvabiYgvMK+NBMT5qKz8RjfUB5nriVewO+v0FNg2rBl3/BfY98mv5SgQIEe8YwBV5CZL2pOZn3N3gwe6YAMsTsxkhGEAP6/9r+Uv35/wMCacQUxVPEhYLxwOf/zsBSgT1CjAOzwtvB3cAm/pa+ln8hgOkCW0LnQzbCRcJvgx6/FPl/9GrsaawRLuW1A8DqiLmOxU/JCrBEcn2xea75JfstvtQAxwKFAQ++6b6dvlEBawRxBjPGEYMT/ox5zzaUdyf5R77QQ2CGP4bExHMBpD8IPea/KgBDAkVDbkLngrGB+UJUQxxDpIOQglrBPb9x/oB/rgCeQlLDScKRAXF/j77CgAnCvkafRf780nWDKe4kxuqVMnlCcc3bEyeSVgjxvw54jfZAOh1+6wP3RB0CJb5nemP8db9BxVLJxYloxj3+7LeD9NSzzPjX/sUD1odnheREBkDGPyV/Y0AqwZqBvkCnQFY/uEGYA9XGHAd/BQsC5r82vMb9uL7aQgvELcPaAquAFX5Yfdj/mMJyhXlI3Eb7uy4xUiZZodVrbDXwxr2R6JM2j2WEUXrgt2b4r34Vws+E4QHXPaX7O/oSP9CFownBy2TFx39sOTY0uXZfuUq900JiQrZDdAJjgmzDGILkwrTAXH4uvHF8Y/+qAy3HPUkth6qFbID6PhR9hn6sQX/DP4Ogwt2AjP9/fqf/1MIPAyxEHAQ7xhqBobTlrzpklSXSse37OUwy0dbQsAtAf4B5iTgKuzr/9YIYgvC+c/zPPSB+REX0R+/JJ0Zq/sr6h3Ygt3p6Zj1+ASABFMIQglzCmQUQA9cDEwAIvGQ7/fwKgLLE5YeyiKeF1YNowCV+3P/lwIVDfoLFwnHBT79AACCAMIC7AaKBvAJZg6yG8IE+NStuGmM9ZvFzA762j32R1g7zRzI6wnf/eKc+LkLUA4NB1nxeu+d9tEFtSLUJAIflAjT64/k6OBA7Aj7T/pw+rn1gfcYB00WqiJmGwEJIvGA4dDmgvXdECciUiSxHbMMJAPYAigGGwx+Ci4Fj/7X+6gBzAbpDq0N3AVsADT5FAKREPUkwRHS0zSvAYAgkQjW5QmGT/5P9i/wCQzZTdnH7XkJrhioDAP6leNA6pcCyhcbMQAlIA2682fc++YR8p0BpQfd+A7tleP972MJLh8IK7kYEf9t6HHeSfC4AlIXkB9TFUYO4QaeChIT5hQEDon/aPR48/H+/g5CFnkUxwMB8zPwovd3DVkfBSYLJevlnapalkaFisk8CgEuvksbJD4GwPAn5Uj9QQtbDuH9guo35tfuYA8WI04hfBvc/EnwaPJn9i0J3AVR9jvpjN8h5lT7YA/DGmwa3wzR/Dv2bfU/+fQB5ACABBAMwRHuHKYfoxgbDJD8qvIL9V3/TAuFEtIQzAbr/8v9lf0/BA4FAwUBCTEMtxweBv7GI7AelUur9/vTG3xAYDaQBXz49uVD8cQLmAs7AcHur+aI9BYLaCLoHdMObACh7kn7nAOUCPYItPRu5NLgcO2Q/EENRBJBC9EHawIn/0UDU/0q91X5ofnFCfMbtSDMHh4R+gBl+hf+YAQWC7gNxgeoAZT/5v70AQkEawL0ARQChgMiCSUOQhaWEdzVh6wQqjapU/JeIE8fzSlxASD17QTV/4gMGAcq7OToT+1xAXgWMRdwEPL6pfxDB6MLsBTjAnXurujh4+XzCAZFA6gBCfnX+xYLDhB8Dsv9XvCF71D4xAtNFlkUPxFvB/cGWw7/DNQM/QVN/mEC8gWJCAgGqv0l+CT6swHlCbUIcANZ/AT4ZgFtC8kZ2xTH0xiwFbj8vbID6iT6C4cOSvlh94cZhhA6Ax773t4l680CUQzLE8EGB/20/4MLTBicEG7+z/Pe6431HP+a/Gv5XvB48w8DExFUEycKKftX9ST6GQPBBnsD8wPyBcgOrxZUEyYMRAUc/y8DdAjBBhQExf4u/JgArATjAg8BTf4n/+IE7QRxAXn+rgCVBrwQXwZdzQbA49L81xcJ5xI48aMAEghlBU8dhAcg6pf3BvQM/i8Q0wGi98X+zQL0DuUWTAs2ALH6Lf5N/uz7cvY67f3vSP/MBiwLGwxMAKn/zASzAYEC2QA0+yoCIQu6CdoLUgrHBdAJvwrRBYUFuAJMAC8DfAFBAAb/5v72/2YB0wGP/ln8tf1p/Zr+4P/IAYkI/g5oCgLkmNDR4lriSPK9Ab3rTvEJD9YI9AwaDnL0OfrACIr9n//eAYPzj/6jC4oGwAiUCAoAHwLcBVEBlf1w+rf57Puk/uv/Q/55/kACZgOhBFkHwgQEA0QFzATSAyMF2AIlAd0DxwMkA7cEHgTzA+IEdQSGA3ADdgJcARoByv/c/Fn8Lvzc/Lr+Mv+P/sX+fv9LAloFmgeNAIPzxfG68cryIPWC9QLvEvBW95z4y/1hALgAnQH4BJEDFAR1BK0CLwNrBHsDkQOhBFYC6AOQBYwCswEfAlwBhwGHATL/DP5d/9X/NgB3AFL/1f/OADAB6QH0AYcBVgKnA4AELgU/BHADDwMPA2YDvQMPA60CzQJWAqgBJQE9//H+5v4X/qT+9v21/ZX9if87AeMCewO7/DX3kfj09oH3JfZR9nL0gfdP+pz4t/kj/HT9SP/pAc4ARgF2AkoEKAaEB7wFKQTdAyQDGQVrBLgCUQFhAmECuAIqAncAIADkACf/OP4M/j79j/6k/tv+AABXACsAMAEqAmsCcAMvAx8CSwLNAgQDoQSLBHUEsgPjAtMB/wEfAgUB+gBd/6T+r/5u/gb/Pf9z/6n/5AC//y78sPyA+734Kvfp9q71gvW9+OP3W/jH+rD8Xv20/6/+KwDIAZcCawSmBQMFLgVPBbcEcAXtBM0CHwLNAmsCdgKzATYAfv9z/0P+Lf5//ar9OP6v/rr+Ef+U/9X/bAAlAXwB2AJbA3sDpwOyA3sD3QOABKEENARwAwoCawKiAvQBUQEVABH/5v7b/vH+n/93AOv/TABe/Yv5VPsZ+hr4+ffu99n1Yfc/+Tr4i/lf+6v7B/3F/rr++gCBAjoD6AP4BD8ERAUIBjkF0QVlBQ8DuAKBAjAB+gCuAH7/mv4n/8v9n/2q/ZX9qv1Y/qr9r/5d/3cARgHTAbMBuAKRA5wDFASWBJYEGQUDBegDhgP5As0CuAJWAjABCgB+//v+HP+f/xH/8f4R/wb/n//V/+z9Pvvs+/L6Vfk0+VX5JfjY+bH6H/kD+h77Q/yV/br+Pf9XAN4B+QKABE8FzATtBDQENATzA4YDzQK4AkACqAGoAXcAYQAVAF3/Y/6v/oT+HP/b/oT+uv5S/+D/dwDkAA8BCgJLAvkCJAOcA/MDawSWBCkEkQPjAjUCnQH6AGEA9v+f/wb/Bv8G/2P+WP4B/or91v0i/lj+r/7R/OL7zPsT+yT6L/ok+sL5/fqx+t36gPvG/Mv9j/44/hz/CgC4ABQC2ALYAnAD6AMUBBQExwNmA6cDtwRrBHUE8wMZA9gClwLeAbMBUQGjAHcAAAB+/8r/lP+J/6n/Uv/b/m7+Bv+6/nP/if+//9X/bABhANkAXAE7AXEB0wEFAWEAowB3AI0A4P/K/z3/SP+///v+2/4X/sv9Xv38/GT8dfvS+h77E/vH+lT7X/vi+8b8SP3s/Qb/qf8FAXEBYQKMAoYDYASABEQFDgX4BHoFsQWxBRkF+ATSA6cDOgN2ApIB+gCYAL//+/7x/o/+DP4B/uH9dP0B/gz+F/7s/Rf+DP6P/sX+SP+J/9X/TACCAGEA5ACCAOQAdwBsAO8AmABsAGEA4P/b/qT+hP44/k3+n/1p/ZX9KP3R/KX8Q/wd/R39Xv3L/fb9j/7b/uv/IAC4AJIBQAKBAu4CJAPzA+gDHgRgBDQEsgN7A6cDDwO4AioCZgEFAXcA1f+//13/+/7Q/mP+OP4i/tb9U/3s/Yr9tf04/sD9wP37/rr+pP5+/5//Uv8AACsAVwDvALgAQQCCABUAFQB3AAAAyv9XACAA4P8rAGj/HP9S/1L/uv4t/qT+1v1Y/oT+bv6a/vH+J/+f/+D/TADkAA8BnQEfAoECFAJhAs0C2ALYAtgCgQJAAh8CqAGHAVEBBQGjACsAAACJ/13/Bv/x/hz/HP8c/0j/J/9d/5T/qf9I/z3/+/7x/vH+mv6P/vH+8f4R//v+Pf8AAOv/FQBo/9X/if9+/3P/Xf8KAAoAdwArAFcATAAgAGwAVwCCACAAbABMADYAKwDg/0j/tP+U/8r/6/+p/9X/NgCuAPb/bABMAIIAmADvANkA2QBcARoBRgFRAZgAjQCCAFcA1f9MAJ//aP8y/8X+Q/4c/wb/Ef+6/jj+0P6k/pr+Bv+k/hz/Mv8AANX/6//V/8r/QQAKADYAYQBsAGwAbABBAGEA5ADOAKMA2QA2AIIA+gCYACAAdwArABUAowB3ABUAFQA2APb/FQArACsATACCACsAIAAgADYAIAAAAJ//fv+U/zL/c/+J/6n/n/9d/8r/QQAAADYA9v8rAAAANgAVAAoAyv/2/zYATAAKAPb/YQA2AEEAyv8gAMr/lP+f/0EAKwDV/woAlP/K/+v/KwBXAFcAIADr/0EAQQDr/wAA6/+f/zYAtP/r/xUAbAC4AHcAQQCjACsAdwBhAJgAYQBhADYAFQDr/wAA9v/2/5T/Xf+f/37/Uv9o/xH/Pf+a/l3/+/5S/z3/CgDr/wAAAAB3AFcAggCYAOQAzgAlAa4AwwDDAGEAIABMACAAIAC///b/1f+//5T/yv/x/kj/xf4G//H+HP8c/2j/n/9z/xUA6/8rAAoAmAD6AOQAuAAFAZgA2QD6AI0AdwBhADYA4P8VAKn/fv8y/3P/Mv9z/0j/v/+U/+D/fv+f/1L/yv+f/5T/yv+U/+D/IABMAAoAVwBBAGwAFQBXAGwAVwCNAJgAjQCYAI0AdwBXAI0AKwAAAAAANgDg/ysA9v+///b/4P+//5T/Xf/K/8r/n/+J/2j/n/+f/7//v/9+/7T/KwArALgAuABsAKMAmABBAKMAjQCCAEEAmABMAGwAbAAgAHP/Xf8n/13/SP8G//H+Ef9z/zL/Mv+J/3P/1f9MAGEAzgC4ANkAXAHkAKMAggBBAGEAdwCCADYATAAAAOD/AADV/1L/qf+//w==\" type=\"audio/wav\" />\n",
       "                    Your browser does not support the audio element.\n",
       "                </audio>\n",
       "              "
      ],
      "text/plain": [
       "<IPython.lib.display.Audio object>"
      ]
     },
     "metadata": {},
     "output_type": "display_data"
    },
    {
     "name": "stdout",
     "output_type": "stream",
     "text": [
      "Playing poisoned audio 2\n"
     ]
    },
    {
     "data": {
      "text/html": [
       "\n",
       "                <audio  controls=\"controls\" >\n",
       "                    <source src=\"data:audio/wav;base64,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\" type=\"audio/wav\" />\n",
       "                    Your browser does not support the audio element.\n",
       "                </audio>\n",
       "              "
      ],
      "text/plain": [
       "<IPython.lib.display.Audio object>"
      ]
     },
     "metadata": {},
     "output_type": "display_data"
    },
    {
     "name": "stderr",
     "output_type": "stream",
     "text": [
      "100%|██████████| 600/600 [01:30<00:00,  6.60it/s]\n"
     ]
    },
    {
     "name": "stdout",
     "output_type": "stream",
     "text": [
      "Epoch 0, Loss: 2.0362687844038008\n"
     ]
    },
    {
     "name": "stderr",
     "output_type": "stream",
     "text": [
      "100%|██████████| 600/600 [01:31<00:00,  6.56it/s]\n"
     ]
    },
    {
     "name": "stdout",
     "output_type": "stream",
     "text": [
      "Epoch 1, Loss: 1.1731085362533729\n"
     ]
    },
    {
     "name": "stderr",
     "output_type": "stream",
     "text": [
      "100%|██████████| 600/600 [01:31<00:00,  6.58it/s]\n"
     ]
    },
    {
     "name": "stdout",
     "output_type": "stream",
     "text": [
      "Epoch 2, Loss: 0.7778096296389898\n",
      "Test Accuracy: 98.16666666666667%\n",
      "63\n",
      "540\n",
      "ASR: 11.666666666666666%\n",
      "Clean Accuracy Drop (CAD): 0.8333333333333286%\n",
      "Backdoor Attack Success Rate: 11.666666666666666%\n",
      "Running experiment with poisoning_rate=0.05 and noise_path=/kaggle/input/background/StreetWorkDrill.wav and noise_scale=0.3\n",
      "Poisoning rate: 0.05, noise_path: /kaggle/input/background/StreetWorkDrill.wav, noise_scale: 0.3\n"
     ]
    },
    {
     "name": "stderr",
     "output_type": "stream",
     "text": [
      "Some weights of Wav2Vec2ForSequenceClassification were not initialized from the model checkpoint at jonatasgrosman/wav2vec2-large-xlsr-53-english and are newly initialized: ['classifier.bias', 'classifier.weight', 'projector.bias', 'projector.weight']\n",
      "You should probably TRAIN this model on a down-stream task to be able to use it for predictions and inference.\n"
     ]
    },
    {
     "name": "stdout",
     "output_type": "stream",
     "text": [
      "Playing clean audio 1\n"
     ]
    },
    {
     "data": {
      "text/html": [
       "\n",
       "                <audio  controls=\"controls\" >\n",
       "                    <source src=\"data:audio/wav;base64,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\" type=\"audio/wav\" />\n",
       "                    Your browser does not support the audio element.\n",
       "                </audio>\n",
       "              "
      ],
      "text/plain": [
       "<IPython.lib.display.Audio object>"
      ]
     },
     "metadata": {},
     "output_type": "display_data"
    },
    {
     "name": "stdout",
     "output_type": "stream",
     "text": [
      "Playing poisoned audio 1\n"
     ]
    },
    {
     "data": {
      "text/html": [
       "\n",
       "                <audio  controls=\"controls\" >\n",
       "                    <source src=\"data:audio/wav;base64,UklGRr4dAABXQVZFZm10IBAAAAABAAEAQB8AAIA+AAACABAAZGF0YZodAACb/7X/pP8j/8L+gf6Z/nT/tf/2/2EAwQBRAWABTwHNAGAA/f+A/xr/d/8tAKUAhgBjAAQA4/+h/3//vf9bAGcAkwDNALEAQgC0/8H+pv6M/9//JQBxAGEAnQC3ANcA+P+l/97/2f8L/9D+ZwAzAZkA0v8UABwAwf9GAOj/uP7j/nf/x//g/wkAvP9e/1X+6v1V/vn9xv5o/+T+Qv+M/67/uf8BAAsBHQELASUBJQH2APP/BADjAOn+Vf4f/5f+yP6g/9T+oP5o/4f/Hv8K/07+VP4W/nT8MP67/fD7j/0g/cj8Tv6s/gX/JADtAG//zwApAf7++f9F/yn+rf+Q/of+BgBS/5j+I//9/qz/xP8nAAQCSAJgAacC9AJ1AcsC0wKZAWIBJgEOAdUA9/8UAPz/n/7t/jQA1f5I/sH+wPzK/Lr9nPyK/Lb8Vfzu+yP7DPuu/Mj8uPzI/Wj9cP6w/2D/zP+k/3//1wAy/3f+MP6O/Z380fxX/NP7Vf3W/CT8o/7d/fX+BwE5////XAAaAMv+WP84AJH+1QCd//L+t//I/nv+4ACCAJcAggFv/1QAtAAdAIn+XwDH/+D+B/9x/9P+lP8gAMX/oABsAHYAqAOsAyUEUQX2A5IEXgW7A6kCawFhAeEC+wGKAIcA/wDP/0wAtwAX/zAArQEOAOYA3gEUAmUEKgPKAm4DRwEIAbkAVf+PAdr/Qv5eAJz/6/2L/df+m/3l/ZL/Ef/D/uoBewGFAJkCWQFlAVIBUAIHAgEBiAFCApQAsABEAEz/pf6i/bD9Pfwh/Hj9s/zI/IL8zPul/OD9Ev94/Un9K/9t/Yj/RAHq/s3//QCw/n//rf/y//b+Lfw9/mj+yP2f/uj/7/8fA+/+pP94AkgB8gEuBMoCEgL0AscA5//7/9EBu/4VAIr+GP5hAPD/0QABAisCbv9DATYC1QCXAfH/m/7V/wUAuv3r/Vv/tf2a/5v+t/8RAJT+vQGNAL8AMgM8/iMBY/4A/agA4/8a/1v8gv6o/y4C7AL0AmwBPQI8/jH+xv/k/kL+lvlU+aL7CP0o/5cAMv6G/X//Zv4aAQ4Abv4LAywBVf0o/6T9JPtn/QT9WPzz/Z/7p/tjAe4BVP+ZAhP/xP6RBS0EqQJ4BjQDtwHqBIYAowAfANj/2P0dAEH8Hf0oAaT7gP2k/p/+BP6i/Pn/0f8S/CAAQAFl/Y79IQKL/Zj91f54/zUBRgF9ATH/KwS8A0ECpAP2ABcEiwOwARUCtQBkAWYBYP9XAfIDv/4zAdT/k/sfAfYCCvy+/JcBx/2U/TEBnf87AQIDAwWYAaoAjQNR/i0BDwDZ/sj/Zf24/GgCw/6UAlsDXv4tAJoBAf+iAuMCKAEpA8gEAQMZAoIEgAIAAVL+7v7H/w/+tAGzADL/gAKNAvkAPwELBS8CFAICBXsCd/9cAokACwP2Ai7+zgGAAicADgAm/xX/MP8J/skB7wETAd4ADQU6AxADyQKvAk8EMALFA5wD3QRTAmwCJAPJAccBZgH+APEAvQERAaACSAQRBMMDpAFWA7EBT/6p//ABNv5xAJ7+AAClAc3/wP6RAXn9CAGbA9v/gf5M/oD76vxp/+j6IP/F/h/+Gv82Ap7/Wv/KAi//JP7d/4f9Sf5a/j790Py8+uj7sPxR/If8Jv+e/gEApAEJ/8n/ngKr/4ABNQOu/rkC2/8J/vMDgf3E/lAAOQCKAE0ACAIXAS4ABQTpAjwAHwIcAG4BowEv/Dv+M/4F/T0BxP6A/9UAPwBa/Dn/4ARQAUYA+/+p/yECmP8//34BewD/APX+//11+3H9W/0v/YL8y/v9/UAA9/w4ApX/EQAOAFoBxvwfBOQBi/5mBNb8rP27ACMCFP3WArP/6f25AW8A0gCU/m7/9gJLAJv/qAE+/ZD+RwHZ9An7uAKp+KX8HQLF+EQBlwS99mj7UwFn+2r/3gDjAKv/rQJEBDsAtgKGAkoC4f8FA9UCqP1aAtUB8v38ABj98f0rApz7TAEKAOr6JgK6/jT/KQCn/7UCvQEmAFYCywNL/noF3gDS/hL/OP+z/yz+9AAj+lcAJf9B/Cj/A/7b/JYBX/6C/ioAOv0VAlgApPx0BZf/c/5DAzz9//yf+jr+Af1X/Nz9i/0N/mL+IP3V/qv8Of5M/mD9gv0iAKj+5/zp/kP9nP7u+0IAv//X+NgBMAB4+yD95QNC+wP7EAJ3/Hb89f+T+lz+wABX/df/vP1tAY/9TQFQAGr+2/3p/+/9RQEe/BoCtv7LANEEF/5VBIAAtQJKAQMA0wEsALkBk/6gAPEDbP1tAS0BawKJAVEEjADnAxkCMgCzBwP9/AOMBL4AOQWMAkcA6wGe/w7+7AHq/+X55QERAmH3MgXQ/Hz7wAKO/GME7v79AHgIav9xARj9UgXyAoP91wC5AoH8UgQv/zH+FwXZ+tb/wQS3+w//XP9z/u8ANv2Q+Kr/vf7X+xv+n/5R/r0EFQF9/vX/xQP7A1UDHAR8AR0DTQSr/eQAbgBv/QcE5AB7/mf8kQD8ARn99/4SAQ3+rQAtA3v9r/68A04BWAH6/2IBRwOeAOgApAOw+78AMv9A/5D8o/80AIv+VAEs/dz77/ub/Aj/TP71+k8DrgNpASQJvQUq/n3/NAjb/igEhQdB/ED/Hwab+nj4oQA4/2v7nAADBLn82PzYAWP34PtABeb9Mf0ABRj/Of3VASoAYP7I+7oDoQBq/pMCY/3M/OL/xPzA+5EAMfuR+T4AXwAU/H4AtP84/Vj/Cf6j/UH6Sf49Asv9Kv7n/tz+Uf3a/tkAHf/r/skDagOk/eEEMQRv/4QBGf/b/CT/I/7M+SD9sfw9+RP/kvom/YoE/gGtAMkGMwSPAG0BtwLFAan7ef4p/7r6VwlvBcoCgAQyAxgDgwBiBXsBUACfBKwBrwRoBbwA8QKLBMv+HAH/ADr79f64A83/xvttA8X/FfyIAvsBPf+ZBRsFJv8R/+cDXQOkAzsETwTcAmsHdAdfBvQFFQUtAWoDygSV/pn+gAL2/9wBQQQqAO4AIgSJBrgEewfvBl0DHANsBdcBZwLkAhkB7QMfAkwDEwLIAG/+VwBeAU0ARv82/zr+svwv/JH+YPvM+er6W/oP+k//3f5U/NT/EQH9+yT62fxZ+w353/38+db4c/75/gr6Kf+j/yn9jgF7Ab79AQGzAQT+A/63/bf+nPzi/9b+lvvT/Yz/xP0X/ub9U//I/0f/yP55/1oAAf+Y/1sBtgH2AkQELQKFAXABSf/r/h0Aaf+m/lr/b/6x/fv82v15/rD9fv0X/mL98fyv/Kr8UPsH+wH8ffse+sz6svvA+i/8V/4i/6//gwHfAOr/9gGOAkIBRAPKBE8EGwbYCDYIdwnzCw8JnguwCyIJswo3DFQJPAvsDtsN7xDTFeoTVxurJR4mGCUnHj8R4wqb5/TLQ8dQwgu4eMLoxd3Lb+p6B1MOTBrxJxgmSinfKkUXuP+l+TLuxeAT3LrWsc4/3jLwBPf9AAsPJg24D7AWhQ2J/kz60e1u5H/qIelu5D/w7/pm/XUKKBMRETIWGR1XFqYT+RSWDiwLbhFADwoOsxXRGhsdOCnwMRo4ST65QjdBhUA3Nbod6Bfi43aXnaYZrKuTO6BAuLatZuZgKpgllyPJQNo5gy8APDURDNj01WrZhb4hwM/Eu7oi2bkMrhDRESYpEyuuKio5YCHO+sP3c/AJ1rjRTs3UvpDQLO8t8dr0aQCw/OL9DgxU/kTpq/C985vor+v68FDp5vY7CWMChgLKFAkW6hZ9HeATQA2nGVIWrgpiEgIYkxkNKdE0jjjISlNY+kYXOAw10Q1JqTeayqkRiCOL1qfyndXCJiMxM2Un4UTwTAc5oERSJ+vdxMpa15G/tbJzwP+7A9BwDA0h5xiJLiI/4zcDPqYtHPwe67vxedgZxFLHOcMw0E32CAYHAzEYtSwrIx4XJA2m8HHmYOlAzsa89db45hfsNgIxCmgIYiFcKsYSEQyuESQJjgc+C4f/IwGDFWMYCRKlGQ8gTiCHKTw0DjSTPgpR2Fl/WDZFrTeoHdutVZAftM+PAYDgpRunUL8sJwA/NSA7QSVX3TrWNugiXNV4v3jaiMSmqbe9A8uz2sUXxC5GHKQtYUo5PGwv3R/A8BXdMesq2ay+RsV80V3fUgLuE/gMfxn4NRMyMyJ1Fd7jRsvL4lTRfbFdv3XWcuseD60W+AOiFygtoRybCc4AwfZ8/uMJF/zS9GEKZhlUF4EaBhumGXIoBy+wHjkcFS6nM6809zs5PAY/sUgKRdYRfp4GprTLb5zhju2eepnmx+0whSwLBWwtgkhoPEs0PRUay//GNO9r0tmqX7Saxv7aDRHDH2kDdxa3O0M5SCNPEsruVOQ29t7mZsQnwJfXB+nR/boHcgDCDLMrBTJxGusJ8vNr2zXfYtr8w0/Gndzr6kH7lwspCA0Nrh9ZHTwJbABiAHv7sf2W/gn3K/5rEecVhw+2FFQdgh/mIEweMBhOGL8jLCYzHBQfojA4O6o9LjsyLZUti/pTpyzATMPrm8qhibXJt3LZJSWXIdMPGjUqRF8xRyJ1E/XjLdSv7LTX5LhzxAjbA+TI+q8TnwzyExgxrzQVIIoPVwZx9VTtZe3m3PXO9tjt6hHvBPZGBdkKQxQzIhIgDBAW/2/1TeUL2yTcFNHB0bbmAPjy/pIG5BLyFPsY0hzOEMMFUQasCEIDuQEiBgUGtwv3FvsVzw/HF3QhwxyjGGsblBmKFcUVeBEeDMUN0hBrFXodEyNFJCElgyR4HWP+odC3zjfWnsTuvv6/0MPj1Bj0vQg1BCoJjxuBJeMjMRhZC3r86/TR+ATxfOIM36Tk2eun8XL5G/2X+6YD4A9CEu0NbAkSBooDNgI5/xb6IfMJ77HyjPT7777tBfBP8W/18/5nAk4BtgSbCJcIFwiwBlgCaQFJBfAFDwVbBncHmAf6CMsJ2gfEBo4I3QfdBXMHbwiABw4HHgiKCC4GWAUCBscE8QIbAwMCZQHPAooDKQK5AQsF0wUdBR4HTgdIBpgHhgcyBcQELweDAtz48PUD9eTxEfBe7/7tfesA7I7y1PdF+PP6w/8dAW0CbQWrBW8B/v/fAuQDQAOx/zz99P7R/un8jP5z/rL5yfa495X3FPm8+tf4Ufg6/XQAiADo/0D+XP0C/yABmf+A/icAyf/J/5QBuQBY/yUABAE8AOv/pwGAAQ0BEAMqBEgD6wNABtEGtAYXB00GpAV/BewEjQUgBqkFWAV9BZAGsQa1BRgGdweBCB4JBAenBeYE8gMRAW78LPrp99j1aPTH897yvfLX9XP7TP/6/qH/8QESAkUAAAHxAmUBgQCGAXwAIf4D/en7z/nm9234jvjA9k/3avqP/Jb83vw9/aX9Z/02/Yj9Ffzw+o78t/2V/fb9Gf59/WL+hABWAAb+vf7h/9L+U/+y//D+Fv91AMwANgDSAOoA7/9RAU4DpQKNAeABIALfAp8EUgRvAsQClwOTA8gD0wPJAvQC+AMlBFEDlAIkA0gC8v/+/3z/T/5c/E36CPtC+6z77vyQ/P/6kvuw/A790v3k/SD+q/4g/3AANAF+Ad0Aev4s/mz+g/wc+6f7Tf28/Cf90v3Q/D/+3f8AAO8AKQGNAJ0AxgBTAAr/2v5T/6n+G/9S/3b/RgDu/zn/zv4k//D/+v8GAHUA+QB+Aa0BhwGiARgCXQKxAi8D/QLCAdcBEAKLAmQDlANFAzED6ANABRMGAAZZBX0FJwSNAVUABAA5/TH7iPtt+l75kfpn/DT8dPwMADMC6AC/AeYCnwJsA3AClwH8AIMB+gFlAIv/kP0t/Mb9Hf5a+/77GP1v+p76q/5TACX/0/7S//z//v9aAaoAVwC1AWb//f1k/80AdgDP/9H/af/q/kMA1P9W/2r/Rf96AUQCkQK0A2EDPgSBAy0BXQA4/+3+2v9IA/kFPAXoA0ADsQN8A2kCLgPzA/IDFQUXBesCqQLlAdL+7fkX9wT3jfUW9dj2APgD+n/8z/0q/+D9ZP1N/9f+f//jABUBt/+F/UT+3v1h+sH5sfoV+wP87vw6/A765/lJ/LD7CvsP/Q/9Bv17/9AAVP+C/nwAXwHpABwA/v/U/5MAFwLLAvAA0wBWAaIBIwIgAtYBXgI8BWwGwwSYBIMEdgQyBasFmwc8B2AFZQb5B6UHYgjKCn4MyQuNDykU0g/CCnUIFADe8snsxesh5PDdYuJQ5yzrXfRa/z4E0wWpDRUTeg+NC0EK2AXm/Wr6bvio8UPw4/Zu+lD7lwCzBlIHEQl1DrwMBAfqBWEFY/799MPyAPAt6/3tovCI8fz1Zv61ATQCmQZtB6ADxgFfAWL+IfoB/Iz/qv7yACEFFgevCRwOSQ+WDXQOoA11C1wKhQrBCqgJ1AzQDbsJYgvlDkkNbQypD4wQOBGRFkYWmRXrGmMW/AyvCBoBqubE1dbdPNwG18vei+hx7LX6Tw7zC1cGsw7OECMHsf9L+rXtWeq38rLwEOpc75j5Ff5lBhkPlAuRB+oLgAvFAWD8t/tV98n1BflO9sHyvPlEA1IDJQHF/4H67vmd/kr7t/S+9V/6a/r8+JD7afwd/ewBMgTXAJ0BigVSBHoDHQTLA0EDzQUkB74FWggbDB8NdA59EBYRbRBLEYUQoA5eDqQMKQsuDgoNxQpWD7wQCg5DEKMTxg8qC0ENmwj5/C7wOeZc4ITfLONi4yXmOu9s+b8ACAUeBskEQQYPBsUAmvjo8uHwrfDo8HjwPfHN9Kj7nAE2BHMF4AV/BrAGEgUNAcL8E/oA+a744fYi9pz24vec+nL4RPYE+E36ivoq+rX6U/sR/cz+yf18+038+/5k/w//U/+6/hcABgOvA7ECnQOkBfUGSAiXCfUJkgqQCwoMvgrhCbQKsAqxCt8J0QgyCL0K0gtMCukKeAy9DGkM3QvUCiEI9QRg/Qj0ZfC07SrqxukP62LrJe8A9S35+vtB/v7/bQB1ADb/I/1m+/b5bPgT93r2zPaZ95P5kfvv/Fj9jv5kAFUB1AF5AfgAmABUAL//f/4w/sH9x/vo+mv6JPm7+P/59PkG+or8XP22/K3+OQDe/8wA7QEyAYIB3gITAsEBjQKbAuYCmAOtA+MDUARBBKcEzwUBBpgFRwasBRgFkgUrBcME5gVkBs0FXQZWB9IH+QcoCOUJagnlBSQGvwWh/u/7xv3o967yxvWj9Nbv1/KA9vvzbPXC+nv6c/mA/eb/cv6P/8ABwwCU/yABAwHm/mr+YP/n/cr8Ov+pAKn/ugAIAjQBogDbARcCrAAOAEAA5/6c/DP8A/xA+mv55/qj+of5G/yR/YT8sP7BAEgAOgE5Al4BJAG4AQcB5/+7//P/o/9jAE0BNAFGAj4ESQXvBf8GTwdcB8AHwAc+B9gHRQcKBpwHDglaB7oGiAdNBqUFSgeRBqEDuQWlBTf/Dv8jAMn8Kfs6/Ov6tvi4+U37e/kQ+yv+DP17+4f9rf+o/oD+ygDfAfcAWgI9Au4BlQKxALD+qf6Y/8j/cv2U/CH+If6I/er8pv4J/gv8gf2K/nX8tP74ANz8ofr+/IT8YvqI/EL8kvqP/pQC0QFEBHcF0AG5/28A/gDAAG8Aqv5K/eP+XgJ3BUIGlQS7BIIF7gaWCXEJwQrECpUJxglYBnMDLwTAAOb70frd+Kz1avXx9nb3n/Yk9j/3cvn/+8r+sQAHAFIA4AEWAHD+bP0B/J/6a/s1/DD8F/xm/Hr8y/wP/iv+AP2J+yH8Dv5C/ir+mv8e/j79Zv+X/vb74Pws/Rn8Hv23/T39NwAIA/7/AwD2Av0AqABtA0EBxgA1A4gC0wIIBWMF2AWGBZAE0AUeB1MG3wX3BagF7wYXCXwIkQhICrUIBQfZBZkBh/6V/cH65vgt+a33VfZ/9tz2CfkT+4z7jvum++j7Gf2//mb/q/9uAIoAFgB1//P/bwAM/1r+MP81/uP+cwEFAkQCdgTvA8YCiwODA50C8gI4AnoAiP8GACEBBAGeAC4BcAH2ABACXAMBAxoEyQWlBXYGBQkfCaQJDQu7CvwJ4QnqCCoI0AdSB4kFQQOaAeL+Iv2U/Cf52/e2+PD2wvgQ/GH7Evw6/pj9fv0v/43+vf2V/T38ZPxm/Dz7g/xp/nX9RP77/mf9Ff6K/5z/gP+r/3X/Xv/o/14A3wDSAJ0AjAFkASMBtwIeA1IDqQQDBZwDzQOVBb0FaAUCBlkGGQZtBkwGYgUTBsoFYQPrAgQCV/4b/S/9yvsH+of6c/qL+Sf7cvzH+3b8l/13/f791P4//3T/3/+R/ywAKQE4/w3+c/+Q/iP+KwBk/779Uv9MAGP/5f93AJL/8f/MAFABnQG9AtQDIgXiBZUFbQWjBu8GKgeuBxQHzQXIBOkDSQMZAlQAqP7E/Aj7K/q3+bH5efkC+ij7V/tS/Ov+QP4T/b/+bv0z/Er9k/xi/JL9cv2X/dD9Z/1a/v3+cf7T/rb+tv5Z/pP99v0x/Sz96v4i/5r/xgH6AloDVQTiBUwHvQfJB6YImwl7CeEI7wZoBTIF9wIxAdP/FP3d+9v6j/mU+vD5f/mi+7H7bfys/m39gPwU/Sf70vr0+zz6Ivom+yj6j/pr+wr7i/s8/C78wPxj/I/7zvw1/r/+zf+m/zv/tQCqAeoBTAO3BO8EPwWWBakFOAZ3BTEEIwNtAef/3v5K/ZL71vqq+nr65fkv+sP66vr4+vr65vr/+mL77PtC/HX82fz9/EX8Nvzj/IT7rvpr+7f6Evtd/Zb9jP17/wAAJACIAXoCNAMSBLoEbgUWBtsGvwd+BxUH9gdBCFoHsweeB5AFsAScA+wA9f9X/8z9Kv22/Pv7q/z7/Kj8Iv17/Mv7l/w0/N37r/wL/S/9If1W/Cb86vxH/T/+Cf+s/rn/lAC4ASsENQWmBJ0FGgbfBdYFhgUiBYkFqwS4A0YDigJAAoACegK2AmkCBgKYAe8AHACP/xH/V/6E/Tz8aftr+xn7Svsu+4D5G/p9+/H6DPtL+4n6hPqU/JD8k/u5/dz+wf67ADUB7gA8AycEpwTgBWYGGggzCNMGbwdrB4oG1wWeBV8GQAToAhQDawIwA+oBhQAxAM/93/x0/XP8bfyV+1b7t/uj+VD6vfvT+pf6cfmA+pH82fuP/Bn9xP3L/WP85vy5/gr/Rf99AHkBRAJFAsUCqAOWA3cEXAWWBLwDHAJdA6kF3QM8AugBcwJ3AEX9YP0Y/9P9q/0G/L76UvpU+Zv66/sj/N/8Sf0U/qf9Evyx/JH84Puz/LH9Qv+Y/5f+D/8lAL4AfgFlAf4BrwGTATkCSQMaBDgEiQO0AqkCewL/ARkB8AA2ARUBIwLBAnYC8QIdAz0CgAI4AjkCUwHUAAsBiABWAKb/Nv7c/fr8LPsi+rX6Evv2+QP5w/nx+jX8FP/eAdcCqwNmBBsD3AKRAjYCSwOlA5QDFwQHBAgEFQPvAt4D9wIuAhkDsALMARoCPgGbAEoA4v66/S3+7f25/c79H/1g/bj9RPx0+5T71/sh/e39ov2b/b/9Sf1s/YP+TQDdAPcAwAFiAj8DVgQaBIYDzAO2A2QDMgNWAtUBgAJbA6EDogOdA1MD8gIvArICogI1Ai0CJgFTAFMBRAH+AJMBhQFeAV8B4P+z/mj+Xv6l/j3/yf+JAN4AuACLAakB7wFLAlsBJQGoAXkBHwIkAzoDtQNdBJwDYQKeAasB3QHUAbMBrAEzAd4A4ADYAC4BZAFwARMBTwCd/+f+ov6n/tD+9v4o/9/+mv6q/jb+Vv6Q/p7+iP8CAG7/Wf/s/kj/LQBeAPT/TADsADYBjQHKAVcB/wAkAbkBXAKxAmECJwK2ATUBzgFJAmEBowAuAFr/n/91AO3/BwCdAWICLQJsAl8CHAIjAn0BowB7APkAPQEtAeoAvwBwACsAaQAUAHr/+P80AA0AygAuAdAAZAAXAL3/s/9j/0v/7f72/qL/aP+p/vr+3f4p/vD97P0T/kb+Vf7q/Zz97P2B/uX+9f6+/oP+nv4n/tb9J/47/lX+R/7X/eL9Kv5M/qD+of46/kX+lP4F/8n/UgAdABEAgP9e/oH+f/7g/TH+0P6w/h//RP8=\" type=\"audio/wav\" />\n",
       "                    Your browser does not support the audio element.\n",
       "                </audio>\n",
       "              "
      ],
      "text/plain": [
       "<IPython.lib.display.Audio object>"
      ]
     },
     "metadata": {},
     "output_type": "display_data"
    },
    {
     "name": "stdout",
     "output_type": "stream",
     "text": [
      "Playing clean audio 2\n"
     ]
    },
    {
     "data": {
      "text/html": [
       "\n",
       "                <audio  controls=\"controls\" >\n",
       "                    <source src=\"data:audio/wav;base64,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\" type=\"audio/wav\" />\n",
       "                    Your browser does not support the audio element.\n",
       "                </audio>\n",
       "              "
      ],
      "text/plain": [
       "<IPython.lib.display.Audio object>"
      ]
     },
     "metadata": {},
     "output_type": "display_data"
    },
    {
     "name": "stdout",
     "output_type": "stream",
     "text": [
      "Playing poisoned audio 2\n"
     ]
    },
    {
     "data": {
      "text/html": [
       "\n",
       "                <audio  controls=\"controls\" >\n",
       "                    <source src=\"data:audio/wav;base64,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\" type=\"audio/wav\" />\n",
       "                    Your browser does not support the audio element.\n",
       "                </audio>\n",
       "              "
      ],
      "text/plain": [
       "<IPython.lib.display.Audio object>"
      ]
     },
     "metadata": {},
     "output_type": "display_data"
    },
    {
     "name": "stderr",
     "output_type": "stream",
     "text": [
      "100%|██████████| 600/600 [01:31<00:00,  6.56it/s]\n"
     ]
    },
    {
     "name": "stdout",
     "output_type": "stream",
     "text": [
      "Epoch 0, Loss: 2.067195491393407\n"
     ]
    },
    {
     "name": "stderr",
     "output_type": "stream",
     "text": [
      "100%|██████████| 600/600 [01:31<00:00,  6.58it/s]\n"
     ]
    },
    {
     "name": "stdout",
     "output_type": "stream",
     "text": [
      "Epoch 1, Loss: 1.399078326523304\n"
     ]
    },
    {
     "name": "stderr",
     "output_type": "stream",
     "text": [
      "100%|██████████| 600/600 [01:30<00:00,  6.64it/s]\n"
     ]
    },
    {
     "name": "stdout",
     "output_type": "stream",
     "text": [
      "Epoch 2, Loss: 0.9549252843360106\n",
      "Test Accuracy: 97.66666666666667%\n",
      "75\n",
      "540\n",
      "ASR: 13.88888888888889%\n",
      "Clean Accuracy Drop (CAD): 1.3333333333333286%\n",
      "Backdoor Attack Success Rate: 13.88888888888889%\n",
      "Running experiment with poisoning_rate=0.05 and noise_path=/kaggle/input/background/beescrickets2.wav and noise_scale=0.7\n",
      "Poisoning rate: 0.05, noise_path: /kaggle/input/background/beescrickets2.wav, noise_scale: 0.7\n"
     ]
    },
    {
     "name": "stderr",
     "output_type": "stream",
     "text": [
      "Some weights of Wav2Vec2ForSequenceClassification were not initialized from the model checkpoint at jonatasgrosman/wav2vec2-large-xlsr-53-english and are newly initialized: ['classifier.bias', 'classifier.weight', 'projector.bias', 'projector.weight']\n",
      "You should probably TRAIN this model on a down-stream task to be able to use it for predictions and inference.\n"
     ]
    },
    {
     "name": "stdout",
     "output_type": "stream",
     "text": [
      "Playing clean audio 1\n"
     ]
    },
    {
     "data": {
      "text/html": [
       "\n",
       "                <audio  controls=\"controls\" >\n",
       "                    <source src=\"data:audio/wav;base64,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\" type=\"audio/wav\" />\n",
       "                    Your browser does not support the audio element.\n",
       "                </audio>\n",
       "              "
      ],
      "text/plain": [
       "<IPython.lib.display.Audio object>"
      ]
     },
     "metadata": {},
     "output_type": "display_data"
    },
    {
     "name": "stdout",
     "output_type": "stream",
     "text": [
      "Playing poisoned audio 1\n"
     ]
    },
    {
     "data": {
      "text/html": [
       "\n",
       "                <audio  controls=\"controls\" >\n",
       "                    <source src=\"data:audio/wav;base64,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\" type=\"audio/wav\" />\n",
       "                    Your browser does not support the audio element.\n",
       "                </audio>\n",
       "              "
      ],
      "text/plain": [
       "<IPython.lib.display.Audio object>"
      ]
     },
     "metadata": {},
     "output_type": "display_data"
    },
    {
     "name": "stdout",
     "output_type": "stream",
     "text": [
      "Playing clean audio 2\n"
     ]
    },
    {
     "data": {
      "text/html": [
       "\n",
       "                <audio  controls=\"controls\" >\n",
       "                    <source src=\"data:audio/wav;base64,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\" type=\"audio/wav\" />\n",
       "                    Your browser does not support the audio element.\n",
       "                </audio>\n",
       "              "
      ],
      "text/plain": [
       "<IPython.lib.display.Audio object>"
      ]
     },
     "metadata": {},
     "output_type": "display_data"
    },
    {
     "name": "stdout",
     "output_type": "stream",
     "text": [
      "Playing poisoned audio 2\n"
     ]
    },
    {
     "data": {
      "text/html": [
       "\n",
       "                <audio  controls=\"controls\" >\n",
       "                    <source src=\"data:audio/wav;base64,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\" type=\"audio/wav\" />\n",
       "                    Your browser does not support the audio element.\n",
       "                </audio>\n",
       "              "
      ],
      "text/plain": [
       "<IPython.lib.display.Audio object>"
      ]
     },
     "metadata": {},
     "output_type": "display_data"
    },
    {
     "name": "stderr",
     "output_type": "stream",
     "text": [
      "100%|██████████| 600/600 [01:30<00:00,  6.62it/s]\n"
     ]
    },
    {
     "name": "stdout",
     "output_type": "stream",
     "text": [
      "Epoch 0, Loss: 2.1062952464818956\n"
     ]
    },
    {
     "name": "stderr",
     "output_type": "stream",
     "text": [
      "100%|██████████| 600/600 [01:30<00:00,  6.61it/s]\n"
     ]
    },
    {
     "name": "stdout",
     "output_type": "stream",
     "text": [
      "Epoch 1, Loss: 1.434225276062886\n"
     ]
    },
    {
     "name": "stderr",
     "output_type": "stream",
     "text": [
      "100%|██████████| 600/600 [01:30<00:00,  6.61it/s]\n"
     ]
    },
    {
     "name": "stdout",
     "output_type": "stream",
     "text": [
      "Epoch 2, Loss: 0.9630693441877762\n",
      "Test Accuracy: 96.66666666666667%\n",
      "302\n",
      "540\n",
      "ASR: 55.925925925925924%\n",
      "Clean Accuracy Drop (CAD): 2.3333333333333286%\n",
      "Backdoor Attack Success Rate: 55.925925925925924%\n",
      "Running experiment with poisoning_rate=0.05 and noise_path=/kaggle/input/background/beescrickets2.wav and noise_scale=0.3\n",
      "Poisoning rate: 0.05, noise_path: /kaggle/input/background/beescrickets2.wav, noise_scale: 0.3\n"
     ]
    },
    {
     "name": "stderr",
     "output_type": "stream",
     "text": [
      "Some weights of Wav2Vec2ForSequenceClassification were not initialized from the model checkpoint at jonatasgrosman/wav2vec2-large-xlsr-53-english and are newly initialized: ['classifier.bias', 'classifier.weight', 'projector.bias', 'projector.weight']\n",
      "You should probably TRAIN this model on a down-stream task to be able to use it for predictions and inference.\n"
     ]
    },
    {
     "name": "stdout",
     "output_type": "stream",
     "text": [
      "Playing clean audio 1\n"
     ]
    },
    {
     "data": {
      "text/html": [
       "\n",
       "                <audio  controls=\"controls\" >\n",
       "                    <source src=\"data:audio/wav;base64,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\" type=\"audio/wav\" />\n",
       "                    Your browser does not support the audio element.\n",
       "                </audio>\n",
       "              "
      ],
      "text/plain": [
       "<IPython.lib.display.Audio object>"
      ]
     },
     "metadata": {},
     "output_type": "display_data"
    },
    {
     "name": "stdout",
     "output_type": "stream",
     "text": [
      "Playing poisoned audio 1\n"
     ]
    },
    {
     "data": {
      "text/html": [
       "\n",
       "                <audio  controls=\"controls\" >\n",
       "                    <source src=\"data:audio/wav;base64,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\" type=\"audio/wav\" />\n",
       "                    Your browser does not support the audio element.\n",
       "                </audio>\n",
       "              "
      ],
      "text/plain": [
       "<IPython.lib.display.Audio object>"
      ]
     },
     "metadata": {},
     "output_type": "display_data"
    },
    {
     "name": "stdout",
     "output_type": "stream",
     "text": [
      "Playing clean audio 2\n"
     ]
    },
    {
     "data": {
      "text/html": [
       "\n",
       "                <audio  controls=\"controls\" >\n",
       "                    <source src=\"data:audio/wav;base64,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\" type=\"audio/wav\" />\n",
       "                    Your browser does not support the audio element.\n",
       "                </audio>\n",
       "              "
      ],
      "text/plain": [
       "<IPython.lib.display.Audio object>"
      ]
     },
     "metadata": {},
     "output_type": "display_data"
    },
    {
     "name": "stdout",
     "output_type": "stream",
     "text": [
      "Playing poisoned audio 2\n"
     ]
    },
    {
     "data": {
      "text/html": [
       "\n",
       "                <audio  controls=\"controls\" >\n",
       "                    <source src=\"data:audio/wav;base64,UklGRgQmAABXQVZFZm10IBAAAAABAAEAQB8AAIA+AAACABAAZGF0YeAlAAB0/97+1f7A/n3+Vv5k/mf+hv6a/mr+h/4i/j3+8v3y/Sj+Cf70/U3+4/3N/db9e/2J/YT9af2S/VT9kP26/aH9qP0U/u79gf2n/cT9Zv3C/cv98/0P/kz+q/7E/o3+0/6r/gf+HgDy/Xb9f/+F/g79Wf90/iD9CP/i/nP98v7K/sb9if6g/hn+j/5O/+3+Nf+j/w3/FP97/xj/3v6g/7D/YP/l/yoAs/9YAMkAWwAyAKgALQD6/yoAUwBjANIAlADWADEB6ABLAJEAawAkAPn/OQAFACcABwBwACQABgCEAB4Aof8UAFwAvP+3/z0AMQDT/8b/gwBfAEMAaADXAFoAlgBAACQAbgBjACIAwwBjAIIAFQHgABcAhgB6AKgAVgDlANwA+wCfAPAAHwFRAQsBlwG2AaQAfABFAbUAqP8EAKMAeQAZALcATAHJAEwAlAAnAUAADgCQAGoAcP/P/2cAAACX/0AAkwD8/z0AvgCeAD0AkADiANUAyABJAY8BVAGJACABTAFLADUADQGcAAkAzABdAecAYgCGAbQBdQHOAGQBugGdAMX/+AD2AFQALAChAGwAVgANANAAKwFmAFQAhwF3AXUAmwC+AS8BdAAOAZ8BbADd/9AAzwDq/z0ALwFMAdcAAAGbAe0BDAETAZABcAGgAMoAPQEgAUwAugBnAe0AxwBnAd8B2wGLAdABzAGAARMBZwFQAfUA/wBHAXQBVAE/AWMBiwFoAS8BtgGpAVIBLgFUAQwBLQFQATcB1wA6AckAWgDt/zAA///N/9n/RAAjABwAAADI/9T/nf+W/2T/Dv/8/uD+Ov9g/zT/A/8F/8z+j/67/vv+jv6h/pv+7v7C/qf+fP4L/hP+Nf5G/nT+lv51/hb+Ff46/hj+fv34/VT+Yf7H/ub+bP5v/gX//f70/uP+O//z/h3/bv+D/2r/of/a/+//3v/A/9T/3/9W/0H/jf/4/07/if8HAOz/DwAsABcAgf+D/0H/3P42/2L/YP+2/8D/mP/R/wEAmf8n/4r/iv80/8j+Tf8m/x7//P+T/7z/gv+v/7T/bv/n/+T/IgACAOj/0f9jAOn/4f/Q//b/Tv+b/6n/b/9e/+j++v4KAtT1LvQiCFkFZ/8d/R39WwZwBR4CzvyT/BoFaQQFAbr8XP2EBBEFCAJw/Rr+LgOMA+sAO/wn/aQBbwJ8//b8VP6aAUQCogCb/bb9twBsARz/hf1N/mwANgE1ADf+Vf4NAA0B0/+f/pf+lf+tAK7/Vf5e/lP/tAAHAM/+Jf/J/1kA3f9F/+7+LP8tAF8Ahf8h/6L//f+x/4b/XP+m/y0AcABKAMD/ev/i/7D/sP9x/0P/af+L/23/Y//V/oX/wv/9/6b/3P9uAL//l/8BACoA/P9Z/1z/fP9I/9X/Yf/f/of/lP/A/4z/nf96/2//6f+e/yr/ov/A/6P/nf+w/6//7P8kACAA8f8kAMQA2f/4/5j/av+WAcsAyQB9AOX/4AHeAPv/fQBTACoB6ACqAJMAFgBiAJsAWwCO/zsAggAKAJn/kv/b/wwAIgAPAML/3/8AAAQA3f8u/37/AwDM/yb//v+WACQA5v8HAJD/Pf+O/17/dv6S/vr+nv4E/g/+W/4O/vv9IP4P/ub9kv0C/mD+wf3E/S3+I/6r/Zv9Sv4K/lr9af2w/UD9sPzP/P/8XPzn+zL81/s3+3v7Sfzf+3X7k/sc/AL8xPuf+7H7dPuO+zn7n/t8+yX7zvtl/BH8s/tE/JX8Kvw3/NL8jvwU/B78bvz6+/n7Lvw0/Or7KPzK/CX9tvzq/FH9Nv2G/Hr8qvwZ/Bz8DPzf++D7Dvw8/Kn8mPzN/Lv8yPwP/eP80vz//Fv9T/2L/bz94/0B/mf+e/4O/vT9Av7M/bf98f2L/in+Bv6D/t/+uP77/hL/E/9V/1z/G/8E/z//lP9y/5b/FwA7AKwA4gDkAAMBUwFpATcBPwF6AYkBIgH9ADQB3gCsAKwAzwDPAKQAlgCiACsAdwB5AAIAXQCuAFoABADf/77/KQA8AJAAzwC0ACcBYQE4AVkBkgHNAR0CKAJ2Ar0C0gL/AtICNwO0AmICnwKcAh0CcwKgAiEC/QGCAhoCyQGrAQoC7QHjAfoB4QFVAWMB3wHRAV0BzQFGAnIBhQHGAawBewFWAZIBLAG6AN0AAwGwAIQAOAEjAXEAfQAfAZAAeAD1AJAAh/9w/5v/eP9e/z4AlAANAFsA0ACgAB4BbgGUAW0BbQF3AUQBCwHBABMBmgFVATUBxwGRAT0BngFBAdgALgFoAboAnQCiADIAGADX/9j/TwAyACIAYABoAAEA2P+D/2D/xv/o/zcAx/+8/z4AxwDNAN8A9QDPAO0A+gB3AFMAYQDSAAcBJgGHAfYBlQGeAakBZQH/AMYALwCk/5D/of/Y/xIAoAAEAb0BLAJBAs4B2gEDAvgB+gD7AJYBYQHUADkBIAECAOD/GAEvAXoADAGEAcgAlwDzAF4A0f+W/zf/0f7p/mr/0P+g/6n/N/9e/0MAYP8T//z/fwB4/5r/DgAX//r+ZAACAAr/yv/FAJn/jP6v/50AdP8G/4r/Ov9n/uX+of6f/WH9n/3k/lD9x/tQ/Sn/3f20/SD/OP/c/TP+g/4e/vL+5P+4/zX/3f+f/mz/+/97/8L/yP/c/1P/N//N/4IAmv9a/27/e/9I/jX+IAB/ANH+lf82AGD/z/7g/xEBkP+GAGEARP+T/67/iP+4/xoARP+3/0IByACP/2cAgf+G/jr/8f5t/3D/UgCN/3n+gP8vADYAjP+O/0wA7v+i/T4ACgBCABwBGQHH/xEAGgGHA9EBj/+lAtgBVgDPAV4BRQDaAUwCaQKtAIUBuAKvAo3/pABdAUz+c/5k/x3/OP8fABb/Rv8sASEBoQDdAH4BOQF4Ae8CmAIiA7gBEgGKAXoBQwAxAIj/NAAKATUB8AMSBGUCGwMJA1AAHv85/zYA3wE8AJoAagOHAPQAhQP7/wkCnQLLADACYgCQAb4D2wMnA5cCZAKx/q0AMP/+/pwCNQFKAYsCTABMAVb+pv3S/hH9Tvx6/rr8Xvqq/Xf94PoT/En8kvvB+476xPol+qj6c/td+2n6nvz7/Mf7MPuD+U/6n/gk+Rz5wfYZ+lb7yvqH+z/9cPsW/c772fuC/rz9BPxw/R79t/0i/yT+d/6H/XgAkQG6/7cCFQBFAIoDFwCVAswCXwJcA70BxAI3AooD4gOWA1UDwAQMBGYCugDlASL9sv+BAn391P+/AFkAyQFfApj/ZgEfAB/+lP1n/b76z/y7/tH+LQDI/5oCWACsAAX/Yf8i/vv9GAGv+fT+yfrX/ez8Sfpb/rP9I/0K/R3+jf3b/Hj+f/uk/D39UfsMAQ/+SP36/gv9df6w/lsA0wAuAhsDcv4eAnAGuwBVAbEDWAPaARAEYwHXACcCmAIQAjsEpgMQBGYDbP+NBSMBdQHbAZH+i/+Y/jj9Evta++r+MPyL+XX6Gfi291750PX372P1Zfbj8r32a/X08230qfRG9dD05fC383X1Mu678773dvKQ+Mz4g/TX+aH60fWj9kz6VftH9u/94fxP/WMDkAP/Bc0DigdiCZ0EDwsCC3wImwzhDRwJZAwlC+EKLw3nCaYJPgu2CkgGSgYmCWYHZgkqCDMIngsNCfgFywlnBisGXgyHCccEfAd7B6kE+QSyAYYFRgYtARcBsAe/A6MC2QPrARcBFv8//zYCc//r+jX93/9P/SX/wQA4/df4Ff4b/p77K/yP//v8S/tY/X746Pm5/Pv4WfWu+in1xPZs9CD1Ifer96T2TfXV9Sb1R/Nj8T3yovAq8IrxjPLD7sLydvS18HrxWPTY8f3w9/M+7GHx2fDY7Ebvru3i7f7w2O/98OzvhfBA92nwT/DC9TP0ZPdA9/7zLfcu/RX6Cv6b/2QAqP9bAxIBqQDcCD4GdwKgCf4HfQPFCrkIXgMlCfULrQjfB0oK2wqQCusKDxGHB8cMLxD1CxwNrhT9FbUVUBr5GuYatxpoIb0f6RzDJXUjlR7IH2MeOx60G88XuxipFTUVChfSDwIN3BEDC54OBQ5MCQQK2A1pCqUEdwtwDMsBxP8NBlACWvs3/4oC5Ps6AFIAtwGXApT9bQK0BygAIQTyCvABBQMEA98CDQae+rYFBQpF+0z9XgeNAZ74jwaMB7z9Zf8+BcL8Lf0nCEn+NfodArsBSQOJATQCNf/++rv/EvoL9+39Fvtj/1H4eful9P/wK/AC7/Pw6e6/6HHqruIx6DXoF+P85ZTo4ubg24/lWuP436XncuXK6lvsZum161LqwOn08fLyAPJg8yz5WfKc+jH+avr6+yL5pwTE/YABwQJR/WL6LwC9+AH5Dfjn+sn0FP0n+7H0B/jA9iT5mvHL9Ar6b/Cw9r/4Le+79Dz0fPe992r2Pvh3/oH6EfW9/Hr1FPtpAm366v4mBpMBOAWo/if/HghcARUJ3QccCKcJbApu/zkDkg36A8IGpgzRCIkHvhBmCDkJJAWXCfIHngBTBfUPMAP3C7IPHQFSCegPrAb4CJkVwwiHC2UN7g7VCRQJbQnHDsoLFgvoDucJMA7JBP4CyQycCogHBQpACE8I6wgJACMFef+N+vT7OgD7/6f8+AMK+wP68gW9Bez+awMmAR4DSwMjBVMGcwRyCkMHpv/8BIf8VP3W/qf8tPjt+Ar9q/2A/sYBY/VQBxH/BvzyAv8Bwv88//MCvwBxAXn84wZAAGz/vATLAR39lQ3rAzAFcwwzBWQFgwivBbECBwerB80JIghiDhkGwAI/CSwAzvpeCS4EHAKtEYQJmgB2Ex0KTQD/DQMO5f9XCZ0IEAhEAbgJtwVOBGoIpwg6B+oI8wmLCsEKWgHG/138YQEP9775dvpY+aj4mPYc9pb0mvSU7Fbxfepz6PXpM+sF5DLq8+p44efmN+Uj5cXsNuXy5fbkKudo51vleO1I6Kzypu1d8AHySPO18m3zFPnZ9q356vjaAO/4Af/oAL77HQQYCoIF7QYjEZsHCwUYDaIKHAcqD1MNuQbsC20NlAj9ECgSpAorEoMPOAkQDB4KzwUFBLsFrgGABKQGnQSJAr8GAgYQ/wcEDAZDAZgBzwjhABQDGwe7A9QAWQbZBDT/8AGABKwGVAdJC40KjgvLEWUPlg/8EnoOiA++ElMPlAubDdMOagmLClkKfwMbBhQJOwDg+3D3Fehs4izeYNGnyUHIdsj8zIDVydrC4Wbs8PPa9Af4oPwB/cb+NQEyA2wFIwipC7oNbBOHFx0WThlSHrgivCbALJQ0+j0dR65NzlCTPNcdrSXq3RSEPLkwrQGARJyzsnmnoOuGIXb3URFlRfE16CCLLUEDcuGc/QXukbqEs2a3B74018rYHtJ3+ccX9weEDH4U3AQ7BEII/uuF6TX/8PIp6qEAuQMnAPoTpBvbGA0t1jj5MJM4ZUG7O6Y8ckp1QscgiBzSGT/5QMnLqr+7Z72Ds/S4C8n65XYJ1Rj1D8ocdy+jKh0aZgat8kTsBuKZxTCx2MJs0G/KNN207mX4Agv2Dj0BtAZTFP4DsPct/4L+FfwJAq4DxwhGG0clWSRBM5xIxkjSTwpk92KWUe42MyinCK3DrZ8Xr06e8Yg6oz67c9R1BLgdEx35OaRTAEL7Ki8ehgSR7mrkSczzsMGztsMfwCnP7uRG7ukHoReoDxUQaBhSCCH5ovpi85buT/G28nL2rAR6DZEQTB+ML9kyCzYmRIVHmUgAVIlVYEapK+0l4xv+6FGlu6k5xIyiM50fuJjRV/QwF6EV1RU6Pj5GcybpERsLxPo7693e1MUiuvfKmNA7xxHSu+rw+7YApwRWDHIOBguOAIn4Tvas9WzwgerC8vH9TP8QBLARgyD1J9IrNDTdPrtESEcmS59P80qWMI0gyBaY5HOlArN3wQmY5Zk1wEDV4OneDc0TbRjhPA1AZB2qEdsXQQFL5k/fP9KlyyTRJc8+yKHWSPG/75fthwIBD9cFSwA1BQkB9fUB8cHzgPFz7wH2ifuJ/9UKIhVUGOAhjy3NL4EwojlzQBU9/kSNTiA4PCAaIxsUPdjNq1XGW8iAoMak8snQ3dfqTwKSCXgYZzTuMVMXfxTPHagIrO1559Li19zp2yjSL86436XtQehI66cAXwq8A/7/1QSvBRH56+819JD3CvJ88fn4T//CBYIJaA2oFWcfMyBYIa0s6TLvLekxAzxCPWU+rzGVIBgeDw/X4Qa+WNFT0beuCa4t0ILhy+HV8fUB8RHBIOEgMxVzFxcfghA1+Zryu/S56lzcx9MM2azdq9ze3mPo+/Yf/Fj+2AAMB24HoPxa9jT7Lfwc8fjwxfu6AIH85f/lCmcQ+w8UE1Ac+h/LH9cigCg/KvMphC1xMQY0IS11IGcd8xf5/ZzahNs55e7ME7pXzMnhp9zW3UXyLAXECd4NvRQUGVoa0BbYDlUG/gUBABjz7+m467jrveVr4sroXfC28xj1KvkwAicE+f6M/H4BRgEe+nL37f3SAEL8B/0vBg0L1wcTCwcUNRWTEvoVJxvCGHkWxxkQGkgWhRc7HEUZBhY/GdoVVw3VC0oMR/8q8tbw3PCR6cbga+Rv6Z3otujq78fzRPgf/eH/sQPKB2sJiAjSCccKSggEAjoAn//9+NzyJ/bP9m3xjfN7+rX7RvtvALkDkAPOBAoHeQWuBKgGXQW+An0DdQRrAskBjwLsAeAADgG3AoICegH6ApYDuwL9AdcC0gG1Ae0CJQBN/wECnwHX/8v/BgB2ANwA0f+9/tv/Y/9u/pz+Jv+6/lf+Rv8k/8D+Pv7l/cv95PzI/KH9if1k/cL94P6x/+P/rv7//ukAEgBD/WD+DADD/hj+uP9BAF/+b/4WAGH/of1e/oH/PP6M/Vn+I/6F/VD+CP4V/XP9qP5O/tT8i/1q/h3+Ov07/pT+Pv7Q/k//R/+7/7YAWgDI/xoBjAHJ/z//egCn/2z+yv4sAEz/Vf6i/xoAk//t/y8ASQD7/z8AjAAnAOD/EwEHASQAJABcAdUBIwH8AMYBmQJKAX4ADwEwAh8CsQEhAXcBQAH4AJ0APADQ/9D/c/9T/7T/rf+X/93/0v8AAIUAVQCA/zD/WP+x/23/Jv94/77/7P/o/9n/5P9LANkAAQBT/8T/HABX/3T/+P8IAG7/G//I/oX+bv4V/sP9KP5Z/i3+nf58/2D/a//n/3j/Zf/y/yH/U/4E/4P/xf6N/kH/9P/f/6L/GQAwAOf/u/+F/4r/9v+R/13/kv/v/77/wP8dANz/OP+V/1//4v7m/sr+Z/7C/sP/ZP+F/ysANgCe/7f/lwDi/xL/jf+r/3//af+h/1v/tf8yAHT/V/+Z/80AXgAUAP3/3gCaAOD/tv/c/4H/ef9a/yH/Gf9Y/1P/Wv80//j+KP9n/+L+xf6j/5D/OP+t/0cAsv+m/5L/av8e/xn/1/5W/v/9oP21/dX9kf0A/mr+Lf4B/hP+5P2k/a399P3x/f/9Qv4n/n7+nv5r/nb+Vf4v/lD+E/5X/nz+7v7Q/mz+t/6d/6b/1/73/nn/KP8k/1r/u/93/6z/wf8m/x//hf9q/xv/L//X/9P/Pf/h/l3/dv/G/pT+4/4H/+n+KP+u/+n/CwCDALMAJAACAPf/f/99/q3+Gv/J/qb+JP9S//D+Dv9w/1b/iv6r/q7/Lf9f/m3/AwCr/7z/fQCYAOb/fwAsAf8AqAA+AX0BIQHCAJEBcwEjAdwAEAEvAZQAlQA3AUwBJwFrAasBXgHAAKsAcwBuAN//hv/4/0QA/P8AAG8AIwDQ/ygAIACS/0//uP/h/6z/7v8wAFcAXwCDAAwAtv90/yj/5/5L/wj/4f5E/2z/Dv97/6H/9P6I/rD+sv5O/qr+Cv/N/tb+uf4C/xr/8f6r/t7+1f7n/g3//f4q/3j/Zv9m/9n+3v6x/mD+3/2x/YX9SP07/Wf91v2q/Vn9f/0Z/QH9fPwh/Jj7ePrH+T75nPlQ+iL7DfxW+8L4wfmxAKYEcAI8AFYB+QLWAm8BYv8LALQDHQPF/jT+NQGnAlgA5v0p/br+qf8L/3z94fxq/sP/oP+G/pr9Zv69/9P/gv/K/0MAjQFuAgcCcAH2AawCpQICAuIBHwKAAl0CqAFzATICzQJeAhYCpAGZAlIEjwNxAHgB+AMnBB4DXQLyA3UGlwNE/PX7jwJCBS4ByPwe/g8EXga6Az0A7v9YAlQDjwFr/9T+1QB4AvsBjACHACACmQIeAmcBzQCfAV4BmADEAG4AlwAnAT8A5P7N/t7/vwFnAaD+a/+IArUCawBD/6YA8QKJAsgA9gG3A1cC1wGdAh8CgAJxAigBOQFUAG//PgBiABkAMP97/iL/eQDn/n7+HgJoAI/+bQCV/or+I//+/sD+yv0B/nL+8v6P/Yz/MAEx/bv9+wH+ATEAIP4l/nEAuf2r/SEBLf8W/T//mgF0AVsBqf4X/s7+sf/3ABAAAf+6/JUA3ART/4396/8f/+P/+ALZ/+v+XgJTANr/rQTGAK4BvQBa/sUDgQTl/cP+nQPmArQCHwIHBGH/X/7tBLIE8/9MALQBhQHCAswC4wB1/WwABgQf+0X75AHgAmUBe/3F/h4ESgGnA9sCH/6//OUDMAOz/Q3+vv2EBMQEu/1T/P4BMQST/B796P4v/bUFPQBC9mf8GgL7/nb+5/td+RECHgHC+zsA7/t1/fkCBv95/TL8QP7QAWH8TvjF+rf+Z/77+sX52voj//3+qvsX/kr/+/hQ/3gBIfex+I4AlfzO9TIBQQG0+6r8n/vU/778qvqtADb7rfYBAib+gPj6+zz7rP9t/of5kPrX/voGc/6M9pcBJQKl/I4A+vy8+8oAgQG7+v3+bAF7/P8C0/0G+wYDzgLI/vEAUgHi/WYCPgVTASkCBv5hBRAFEv3MAlMDsALaBVoEsALkATMIWwUk/moADwmlBQX+FAW2BoMEcwUFA+8C5gCNAf8B5wLoA7P/lwLvBbYC9gNJBHwCIASzBH8AAAP1B/gCrgHdA6gDTgj3Bb78egAWBNID0QJSAFsAsQJiAagBBgDEBBgFYAFBAnv/uP8HCWsDF/roAeUFXwGCAID/wf6PAQr84/7+/VT6sgGJAzr/FfeQ/1AGwPrz+hECl/zg+scAgf5++C/8Uv+5/e75fwHh/b39tgYr/KT6/AH8/rL/wf+N+HEFiAUK/oD8RP4c/3sBdwIm/db/nwDuAtX/X/3Z/ygCDP84/s//Tf8LBGkCEvpgAA8EXAMdAyT9XAInBNMAaATkAML+bQYSAiH/TQAOAtMD0AFNA4EDVAMFBw4FCP8zApsIAgXfAXAGpwT3BWQH7wEbAhUJ0gRgAyAGbwFhCH8FSv++AyMFhgRXBTcCBALKArQAhQA1/kT8oQDo/6T+BgCV/ir6dvtH/OH49vnz9o30RPsc+SjzU/TK9676e/VF78X4i/hv8PP2Ofar8aDyBvTQ9Wj2//DB9Dn5ufXB9TX2APb+9jv2DPPe9eT55fXN9437XPm7+XT7sPog+mv5OPpf/LP+n/kK/JEBXgAo++j8pAFxA/kBrAEZATAEswIhAAECrP5BAiEAxwBbATMAWAVUAlsCCQW+Ak8H5wL8APAFswNQA8ADjgbXAwYFVgq0AswCCArxAvgFawgkBB4GzwUkBEsH4Aa1AvYG0gWhBVQI0AVcBuAH/AVfB/QFwgLeB7UG5gTsB8oHJgSsBaMHSge/BVwE7wSlBhwHVAXsAwMEIgUwBcIFqQLABMIE7QOCBHkAeQEeBjEGVAWOAL0CuQXZAiEEuQQeAuUB5ATQBDH/rQMWBPMBGwOzAKgBtQEhAfwApgEeAn4B/AA8AgP9//xeAtX9Hf7u/KT63wLS/wX5Dvw2/Rf+fvxg+Sf7KPuv/Jn5RfdA+7/5rvr9+Jr47vzG+Vv3tfvj+Kz3yvxB+nr4VPpb/qL7IPnE/MX5wfgD+1b50/h1+hz7cPwH+8H6q/oz/LH9rPsT+7T+XP7C/HL7Mf3MAJz7cfrW/dD/1P+S/9H/vQBMAS/+cgCv/y76kf5vASv8nwBz/137hf5oACP+3v98ALr8PAFJAjH/cQDMAJYAvgINAK4AfP+r/Yr+2P+6/ff+eAEFADoBu/7kACIBjwBWAaMBCAGK/+gCfwEaAIYBWwAGAP4Aov/P/3AA0f5QAaoBoP8WAAIABf9e/7X/sv9gAMb/sP9rAZkCZ/+fAqIBwP2fAzIErf6AAdoDYgHYAG4COwE4/1UBagHiAc0AkgB7AK4A8v/Q/qP/3AD//ST/0AEA/7X/4gGn/73+jv4D/gT+0//8/YcAh/7L/dr+av4N/nr+pACI/4D9Qv6l/eL8Qv+B/N78T/7n/0r/3f7r/nL/6v8A/yz+K/+c/eX80fw6/Xn7OPuM/rz86vxi/VP+g/6F/iL95v/L/agAcwBGAA0AE/+CAUgBXv/i/tb/CAB2AAMA3v7G/g3/WAEo//b+RwBL/w4BqP9F/YgA+/4b/qz/KP9U/sL/BAAE/SX/HgAx/RT/7/8C+478Ov81/Xb+r/77/sD+if+x/2D/kv+9/5H/df73/3n8Yv5EAIL9rP5J/cn/XQEF/sX9pP7j/8b+Qf1EAEr+0v2oABMAHv/BAc8Aaf63AtQCLQIHBIIAzQMfBGwAAQSOA+IBZgNLBFwFxQKfAgIFTAEgAwUEJQIWA80BwAHUAqQDvQNSAgMGiQTBA1cG+wOYAnkFawU2AxcEtgMGBJoC0QLoAsQCTQQ0Az0DzQNKBOcCSATtAmEDvwPFAw8AxQDSBG4BWQP0A0QAuASKBK8A4wEEAnwBbQBYA/IB9wCGAnUDeQQXAOgCRAa0AUgEjQRnAxED5gFEA0sD+QLaAtcDQQO7AccC+gIEAjIEVQH8AHYA1ADQAGgAqgLqAHL/4QGMAdT/kf+7AKsA+wCrAGH/VgHEAPkACgH8/4AAwQGx/yb+7f8A/lz+vQGh/Q39aAHP/fj97v2+/Kv9of5g/sX+yv9q/7AAqwBCALH+IP8b/q/9SP9v/X/9xv1H/Er/af3y/cb/Jv8+/0D/xf9C/1b/z/0T/uT9qf5I/t39C/2e/PP75Pwa/U787fxu/XH9NP2X/X/9rv4H/5n/H/79/u/+1v/l/mD+Ef83/mn/p/9j/SIAfwCB/RgB8/12/uD+Lfzn/WH82vzc/xb+G/8r/4z+V/8p/8P/9P4k/6T/JP8S/23/FgCu/5b+RgKY/7P/1wDN/7b/7//+/17/TgACANgBZ/9gAWgBawEtAd8CYAKjAOwC4QGaADUA7QDN/kwANv4U/5QAF/9y/ycArwCXAcr/5wEKArYALgH6AcP/nABfAXf+iv++AZQA7wDJABgASQH8/g4AG/7a/cL9Qf8U/3H+UP/u/woB0ABbAM3+PQHd/2EAOP+m//X/J/8eAj0AFQAhAeL/wAKfALT/HwIP/+sBsAA1AA8A5gB6ASQAxgBKAO3/qwB8ANL/Y//2/mH/9v8MAFH+bQAEABkC/gGlAuUAZQIYA6oBgwKfAKcARQKyAU4BUQG8AjAD9wFcBJkCSwKhBBwCtgHfAXsACAP6AKQA8wFRALcBAgILARkD7QCqArIC4gE6AnoATQINAXwBxwGnAG0B4QHsAmgCkQDKAq0BpQJBAXICzQDaAcoBswAQAXwADwKs/4QBLgDbAF0AWAELABv/WP8+AE////38/hP+Cf/P/0UAlv6O/3IBhf///wQBBAAVACwAk/6j/6j+G/10/u/9tP7s/LX+o/7R/m/+Xv+f/tL98P4I/db8R/4P/sD9VP9v/rD/m/7XAAL/Iv5N/g/+0/58/VX8xv7h/en8Dv/v/RP+wv4w/6f9gP1D/27/LP6U/87/HP9KAJj/sP9gANr+Pv/0/6j/hv7r/kL/gf5D/sr9TP++/fT9af4U/wn/Gv71/aH+7v9u/iMALwCV/u3+PwCr/u7+DgCX/0AAGgAIAGf/jQBv/zP/2f9I/57/wf96//D9uv6N/7n+/f91/wMA+ADQAM3/hwAvAFT/6f9t/q//Pv9J/l3/sADR/j3/nwG6AO0ASAFUAtAAFAAtArEA7P/uAIEBMAHz/xIBTAGs/3QA3ADd/+n/1QCbAJv/l/84ADkAY/+N/4cAuv+c/5QAMgAYANIA1gAvAXsAw/+oAPP/BwD6/wMAbQAx/zYAcAD1/4H/JQBnAEH/Kf8MAAUAUv/7/v7+df+w/2X/uf98/x4AHwD1/yUAp/8X/7r/KAA5//P+M/9r/w3/HP8G/yT/3f9j/0n/tv7Q/m//nP+P/0//hf98/yYAGwA1/9j+PP8q/2j+pP0D/vb9AP67/c/9xv3V/bb9pP0M/uD92P0J/hH+tf3k/Q3+y/0G/nT+Wv7f/WX+bv7u/Sz+mv6f/p7+vf7B/pH+yv4M/8X+Vv4Y/j7+Mf7T/Y393f0X/iH+nv6A/kj+r/4H/6b+JP43/hT+E/5L/ir+N/5I/u/+XP+b/qP+JP+2/pL+ov4W/8b+//52/93+of7q/kz/E/+b/qj+3f6B/mf+Lf5I/jr+U/4S/vX9vv3s/fD9nf4a//n+3/4y//7++v49/wf/D/8s/+D+2/4Y/yH/1v5Y/1j/Of9D/4z/1P++/wAA2f93/yv/T//9/rb+z/5T/wP/Kv82AKsABQBBAKoAoQD///7/1//7/wQABwB6AGcAMwBnAPwAlwBXABcBFAGiAPYAsAElAfQA0AHeAecAfgEDAjYBcQBOAZ4BngDgAHkB/wA9AJkATAGHAGsA8QCpAAAAAgGOAfQAbwCSAe8BOAF0AXMCQAJhAd0BkALsAWIBDgK4Au4B0QGyAtQCCwI/AtECjQK+AXsCZQLEAV8B5AEZAgIBOQHwAQkCFwFDAb4BegG1AOIAJAFJAZEAcgA4AT0B0gDvAIUBpAA1AGkA1wBfAOf/RwCsAEcAJgA=\" type=\"audio/wav\" />\n",
       "                    Your browser does not support the audio element.\n",
       "                </audio>\n",
       "              "
      ],
      "text/plain": [
       "<IPython.lib.display.Audio object>"
      ]
     },
     "metadata": {},
     "output_type": "display_data"
    },
    {
     "name": "stderr",
     "output_type": "stream",
     "text": [
      "100%|██████████| 600/600 [01:31<00:00,  6.58it/s]\n"
     ]
    },
    {
     "name": "stdout",
     "output_type": "stream",
     "text": [
      "Epoch 0, Loss: 2.0731754448016484\n"
     ]
    },
    {
     "name": "stderr",
     "output_type": "stream",
     "text": [
      "100%|██████████| 600/600 [01:31<00:00,  6.59it/s]\n"
     ]
    },
    {
     "name": "stdout",
     "output_type": "stream",
     "text": [
      "Epoch 1, Loss: 1.5514140583078067\n"
     ]
    },
    {
     "name": "stderr",
     "output_type": "stream",
     "text": [
      "100%|██████████| 600/600 [01:31<00:00,  6.57it/s]\n"
     ]
    },
    {
     "name": "stdout",
     "output_type": "stream",
     "text": [
      "Epoch 2, Loss: 1.0631579600274563\n",
      "Test Accuracy: 98.16666666666667%\n",
      "183\n",
      "540\n",
      "ASR: 33.88888888888889%\n",
      "Clean Accuracy Drop (CAD): 0.8333333333333286%\n",
      "Backdoor Attack Success Rate: 33.88888888888889%\n",
      "Running experiment with poisoning_rate=0.1 and noise_path=/kaggle/input/background/StreetWorkDrill.wav and noise_scale=0.7\n",
      "Poisoning rate: 0.1, noise_path: /kaggle/input/background/StreetWorkDrill.wav, noise_scale: 0.7\n"
     ]
    },
    {
     "name": "stderr",
     "output_type": "stream",
     "text": [
      "Some weights of Wav2Vec2ForSequenceClassification were not initialized from the model checkpoint at jonatasgrosman/wav2vec2-large-xlsr-53-english and are newly initialized: ['classifier.bias', 'classifier.weight', 'projector.bias', 'projector.weight']\n",
      "You should probably TRAIN this model on a down-stream task to be able to use it for predictions and inference.\n"
     ]
    },
    {
     "name": "stdout",
     "output_type": "stream",
     "text": [
      "Playing clean audio 1\n"
     ]
    },
    {
     "data": {
      "text/html": [
       "\n",
       "                <audio  controls=\"controls\" >\n",
       "                    <source src=\"data:audio/wav;base64,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\" type=\"audio/wav\" />\n",
       "                    Your browser does not support the audio element.\n",
       "                </audio>\n",
       "              "
      ],
      "text/plain": [
       "<IPython.lib.display.Audio object>"
      ]
     },
     "metadata": {},
     "output_type": "display_data"
    },
    {
     "name": "stdout",
     "output_type": "stream",
     "text": [
      "Playing poisoned audio 1\n"
     ]
    },
    {
     "data": {
      "text/html": [
       "\n",
       "                <audio  controls=\"controls\" >\n",
       "                    <source src=\"data:audio/wav;base64,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\" type=\"audio/wav\" />\n",
       "                    Your browser does not support the audio element.\n",
       "                </audio>\n",
       "              "
      ],
      "text/plain": [
       "<IPython.lib.display.Audio object>"
      ]
     },
     "metadata": {},
     "output_type": "display_data"
    },
    {
     "name": "stdout",
     "output_type": "stream",
     "text": [
      "Playing clean audio 2\n"
     ]
    },
    {
     "data": {
      "text/html": [
       "\n",
       "                <audio  controls=\"controls\" >\n",
       "                    <source src=\"data:audio/wav;base64,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\" type=\"audio/wav\" />\n",
       "                    Your browser does not support the audio element.\n",
       "                </audio>\n",
       "              "
      ],
      "text/plain": [
       "<IPython.lib.display.Audio object>"
      ]
     },
     "metadata": {},
     "output_type": "display_data"
    },
    {
     "name": "stdout",
     "output_type": "stream",
     "text": [
      "Playing poisoned audio 2\n"
     ]
    },
    {
     "data": {
      "text/html": [
       "\n",
       "                <audio  controls=\"controls\" >\n",
       "                    <source src=\"data:audio/wav;base64,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\" type=\"audio/wav\" />\n",
       "                    Your browser does not support the audio element.\n",
       "                </audio>\n",
       "              "
      ],
      "text/plain": [
       "<IPython.lib.display.Audio object>"
      ]
     },
     "metadata": {},
     "output_type": "display_data"
    },
    {
     "name": "stderr",
     "output_type": "stream",
     "text": [
      "100%|██████████| 600/600 [01:31<00:00,  6.55it/s]\n"
     ]
    },
    {
     "name": "stdout",
     "output_type": "stream",
     "text": [
      "Epoch 0, Loss: 2.002806507150332\n"
     ]
    },
    {
     "name": "stderr",
     "output_type": "stream",
     "text": [
      "100%|██████████| 600/600 [01:31<00:00,  6.57it/s]\n"
     ]
    },
    {
     "name": "stdout",
     "output_type": "stream",
     "text": [
      "Epoch 1, Loss: 1.4239333990712961\n"
     ]
    },
    {
     "name": "stderr",
     "output_type": "stream",
     "text": [
      "100%|██████████| 600/600 [01:31<00:00,  6.57it/s]\n"
     ]
    },
    {
     "name": "stdout",
     "output_type": "stream",
     "text": [
      "Epoch 2, Loss: 0.965005713875095\n",
      "Test Accuracy: 96.66666666666667%\n",
      "512\n",
      "540\n",
      "ASR: 94.81481481481482%\n",
      "Clean Accuracy Drop (CAD): 2.3333333333333286%\n",
      "Backdoor Attack Success Rate: 94.81481481481482%\n",
      "Running experiment with poisoning_rate=0.1 and noise_path=/kaggle/input/background/StreetWorkDrill.wav and noise_scale=0.3\n",
      "Poisoning rate: 0.1, noise_path: /kaggle/input/background/StreetWorkDrill.wav, noise_scale: 0.3\n"
     ]
    },
    {
     "name": "stderr",
     "output_type": "stream",
     "text": [
      "Some weights of Wav2Vec2ForSequenceClassification were not initialized from the model checkpoint at jonatasgrosman/wav2vec2-large-xlsr-53-english and are newly initialized: ['classifier.bias', 'classifier.weight', 'projector.bias', 'projector.weight']\n",
      "You should probably TRAIN this model on a down-stream task to be able to use it for predictions and inference.\n"
     ]
    },
    {
     "name": "stdout",
     "output_type": "stream",
     "text": [
      "Playing clean audio 1\n"
     ]
    },
    {
     "data": {
      "text/html": [
       "\n",
       "                <audio  controls=\"controls\" >\n",
       "                    <source src=\"data:audio/wav;base64,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\" type=\"audio/wav\" />\n",
       "                    Your browser does not support the audio element.\n",
       "                </audio>\n",
       "              "
      ],
      "text/plain": [
       "<IPython.lib.display.Audio object>"
      ]
     },
     "metadata": {},
     "output_type": "display_data"
    },
    {
     "name": "stdout",
     "output_type": "stream",
     "text": [
      "Playing poisoned audio 1\n"
     ]
    },
    {
     "data": {
      "text/html": [
       "\n",
       "                <audio  controls=\"controls\" >\n",
       "                    <source src=\"data:audio/wav;base64,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\" type=\"audio/wav\" />\n",
       "                    Your browser does not support the audio element.\n",
       "                </audio>\n",
       "              "
      ],
      "text/plain": [
       "<IPython.lib.display.Audio object>"
      ]
     },
     "metadata": {},
     "output_type": "display_data"
    },
    {
     "name": "stdout",
     "output_type": "stream",
     "text": [
      "Playing clean audio 2\n"
     ]
    },
    {
     "data": {
      "text/html": [
       "\n",
       "                <audio  controls=\"controls\" >\n",
       "                    <source src=\"data:audio/wav;base64,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\" type=\"audio/wav\" />\n",
       "                    Your browser does not support the audio element.\n",
       "                </audio>\n",
       "              "
      ],
      "text/plain": [
       "<IPython.lib.display.Audio object>"
      ]
     },
     "metadata": {},
     "output_type": "display_data"
    },
    {
     "name": "stdout",
     "output_type": "stream",
     "text": [
      "Playing poisoned audio 2\n"
     ]
    },
    {
     "data": {
      "text/html": [
       "\n",
       "                <audio  controls=\"controls\" >\n",
       "                    <source src=\"data:audio/wav;base64,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\" type=\"audio/wav\" />\n",
       "                    Your browser does not support the audio element.\n",
       "                </audio>\n",
       "              "
      ],
      "text/plain": [
       "<IPython.lib.display.Audio object>"
      ]
     },
     "metadata": {},
     "output_type": "display_data"
    },
    {
     "name": "stderr",
     "output_type": "stream",
     "text": [
      "100%|██████████| 600/600 [01:31<00:00,  6.55it/s]\n"
     ]
    },
    {
     "name": "stdout",
     "output_type": "stream",
     "text": [
      "Epoch 0, Loss: 1.9371601874629656\n"
     ]
    },
    {
     "name": "stderr",
     "output_type": "stream",
     "text": [
      "100%|██████████| 600/600 [01:30<00:00,  6.60it/s]\n"
     ]
    },
    {
     "name": "stdout",
     "output_type": "stream",
     "text": [
      "Epoch 1, Loss: 1.4846944203972816\n"
     ]
    },
    {
     "name": "stderr",
     "output_type": "stream",
     "text": [
      "100%|██████████| 600/600 [01:30<00:00,  6.61it/s]\n"
     ]
    },
    {
     "name": "stdout",
     "output_type": "stream",
     "text": [
      "Epoch 2, Loss: 1.0582981129176914\n",
      "Test Accuracy: 95.5%\n",
      "405\n",
      "540\n",
      "ASR: 75.0%\n",
      "Clean Accuracy Drop (CAD): 3.5%\n",
      "Backdoor Attack Success Rate: 75.0%\n",
      "Running experiment with poisoning_rate=0.1 and noise_path=/kaggle/input/background/beescrickets2.wav and noise_scale=0.7\n",
      "Poisoning rate: 0.1, noise_path: /kaggle/input/background/beescrickets2.wav, noise_scale: 0.7\n"
     ]
    },
    {
     "name": "stderr",
     "output_type": "stream",
     "text": [
      "Some weights of Wav2Vec2ForSequenceClassification were not initialized from the model checkpoint at jonatasgrosman/wav2vec2-large-xlsr-53-english and are newly initialized: ['classifier.bias', 'classifier.weight', 'projector.bias', 'projector.weight']\n",
      "You should probably TRAIN this model on a down-stream task to be able to use it for predictions and inference.\n"
     ]
    },
    {
     "name": "stdout",
     "output_type": "stream",
     "text": [
      "Playing clean audio 1\n"
     ]
    },
    {
     "data": {
      "text/html": [
       "\n",
       "                <audio  controls=\"controls\" >\n",
       "                    <source src=\"data:audio/wav;base64,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\" type=\"audio/wav\" />\n",
       "                    Your browser does not support the audio element.\n",
       "                </audio>\n",
       "              "
      ],
      "text/plain": [
       "<IPython.lib.display.Audio object>"
      ]
     },
     "metadata": {},
     "output_type": "display_data"
    },
    {
     "name": "stdout",
     "output_type": "stream",
     "text": [
      "Playing poisoned audio 1\n"
     ]
    },
    {
     "data": {
      "text/html": [
       "\n",
       "                <audio  controls=\"controls\" >\n",
       "                    <source src=\"data:audio/wav;base64,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\" type=\"audio/wav\" />\n",
       "                    Your browser does not support the audio element.\n",
       "                </audio>\n",
       "              "
      ],
      "text/plain": [
       "<IPython.lib.display.Audio object>"
      ]
     },
     "metadata": {},
     "output_type": "display_data"
    },
    {
     "name": "stdout",
     "output_type": "stream",
     "text": [
      "Playing clean audio 2\n"
     ]
    },
    {
     "data": {
      "text/html": [
       "\n",
       "                <audio  controls=\"controls\" >\n",
       "                    <source src=\"data:audio/wav;base64,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\" type=\"audio/wav\" />\n",
       "                    Your browser does not support the audio element.\n",
       "                </audio>\n",
       "              "
      ],
      "text/plain": [
       "<IPython.lib.display.Audio object>"
      ]
     },
     "metadata": {},
     "output_type": "display_data"
    },
    {
     "name": "stdout",
     "output_type": "stream",
     "text": [
      "Playing poisoned audio 2\n"
     ]
    },
    {
     "data": {
      "text/html": [
       "\n",
       "                <audio  controls=\"controls\" >\n",
       "                    <source src=\"data:audio/wav;base64,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\" type=\"audio/wav\" />\n",
       "                    Your browser does not support the audio element.\n",
       "                </audio>\n",
       "              "
      ],
      "text/plain": [
       "<IPython.lib.display.Audio object>"
      ]
     },
     "metadata": {},
     "output_type": "display_data"
    },
    {
     "name": "stderr",
     "output_type": "stream",
     "text": [
      "100%|██████████| 600/600 [01:30<00:00,  6.64it/s]\n"
     ]
    },
    {
     "name": "stdout",
     "output_type": "stream",
     "text": [
      "Epoch 0, Loss: 1.8666149004300436\n"
     ]
    },
    {
     "name": "stderr",
     "output_type": "stream",
     "text": [
      "100%|██████████| 600/600 [01:31<00:00,  6.58it/s]\n"
     ]
    },
    {
     "name": "stdout",
     "output_type": "stream",
     "text": [
      "Epoch 1, Loss: 1.5254243448128302\n"
     ]
    },
    {
     "name": "stderr",
     "output_type": "stream",
     "text": [
      "100%|██████████| 600/600 [01:30<00:00,  6.62it/s]\n"
     ]
    },
    {
     "name": "stdout",
     "output_type": "stream",
     "text": [
      "Epoch 2, Loss: 1.1402793338211874\n",
      "Test Accuracy: 88.33333333333333%\n",
      "505\n",
      "540\n",
      "ASR: 93.51851851851852%\n",
      "Clean Accuracy Drop (CAD): 10.666666666666671%\n",
      "Backdoor Attack Success Rate: 93.51851851851852%\n",
      "Running experiment with poisoning_rate=0.1 and noise_path=/kaggle/input/background/beescrickets2.wav and noise_scale=0.3\n",
      "Poisoning rate: 0.1, noise_path: /kaggle/input/background/beescrickets2.wav, noise_scale: 0.3\n"
     ]
    },
    {
     "name": "stderr",
     "output_type": "stream",
     "text": [
      "Some weights of Wav2Vec2ForSequenceClassification were not initialized from the model checkpoint at jonatasgrosman/wav2vec2-large-xlsr-53-english and are newly initialized: ['classifier.bias', 'classifier.weight', 'projector.bias', 'projector.weight']\n",
      "You should probably TRAIN this model on a down-stream task to be able to use it for predictions and inference.\n"
     ]
    },
    {
     "name": "stdout",
     "output_type": "stream",
     "text": [
      "Playing clean audio 1\n"
     ]
    },
    {
     "data": {
      "text/html": [
       "\n",
       "                <audio  controls=\"controls\" >\n",
       "                    <source src=\"data:audio/wav;base64,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\" type=\"audio/wav\" />\n",
       "                    Your browser does not support the audio element.\n",
       "                </audio>\n",
       "              "
      ],
      "text/plain": [
       "<IPython.lib.display.Audio object>"
      ]
     },
     "metadata": {},
     "output_type": "display_data"
    },
    {
     "name": "stdout",
     "output_type": "stream",
     "text": [
      "Playing poisoned audio 1\n"
     ]
    },
    {
     "data": {
      "text/html": [
       "\n",
       "                <audio  controls=\"controls\" >\n",
       "                    <source src=\"data:audio/wav;base64,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\" type=\"audio/wav\" />\n",
       "                    Your browser does not support the audio element.\n",
       "                </audio>\n",
       "              "
      ],
      "text/plain": [
       "<IPython.lib.display.Audio object>"
      ]
     },
     "metadata": {},
     "output_type": "display_data"
    },
    {
     "name": "stdout",
     "output_type": "stream",
     "text": [
      "Playing clean audio 2\n"
     ]
    },
    {
     "data": {
      "text/html": [
       "\n",
       "                <audio  controls=\"controls\" >\n",
       "                    <source src=\"data:audio/wav;base64,UklGRjwYAABXQVZFZm10IBAAAAABAAEAQB8AAIA+AAACABAAZGF0YRgYAAAo+Cj4+/eN+WD5YPm5+fL6vP1v/iwAvgEjA74BcALKAg4FrAfNBpcJBQgyCH8HfwcFCOQIagl/BwUIrAepA7UEDgW1BO0F4QTrAZEB8vqB+D32wPKo8JzvDfJw70PvZO578FvxAfFS9F31dfei97n5hPxC/vX+3wAOBX8HBQiaDcYNpQ6cEUANsQ+9EMYNKQsIDCYHiAQvBLIAWQAsAJv+p/+yAL4BOwV/B/AJdgqaDUANYQwIDLgI7QXR+8zzQ+/D55Tj+eSs5Q7jZ+Nl3yzeW+K35jTqe/BS9Kv0MfV190v7ygIRCd4PtBNGFX4W+xn7GdoaxRwfHTQbSRmoEqUO3g8rD4UP/w7zDYsIOwWUBVwEiAQvBIgE1gMLAcj+If+8/Vf8ePt19yX0cO9q55TjW+LH3EHc9NxK2f3Zmtzo28rgRuQd6Mnv+/dX/J0CVQu9EKsWYBuQH78j4ybXJTkjbyDyHLob+BUiEt4Pmg3wCZcJfweIBA4FHQqpAw4Fwwn2AiMDGgYaBvkGEQntBVwEXAT1/un9kP0c98L2qPAm5Z3gvt9T1jDT7tTZ1srR2dav2hLYFNzt4+TmkO6k+7UE2wv2EZYY9SDgIqEoHiwSK84oJylOISgaJRacEaMKBQh/BzsFRAK+AQIEcwY7BYIL2wuLCM8KVQsRCXYKwwkFCGcFFwIK/Y35wPKc7yjpW+Ky3mLbidMw07jXaNQk0rjXl9hr2IXe9uCL5k/wufkvBFULWxPRHXshciRKLDYu/SxKLGsrQiDFHMAU/w4pCwUI1gNlAen9Nv3U/+sBOwWjCs8K3g+9EN4PkBCQEBYRCxClDvwKOwWb/hP67PI06uHi9uBW2gPT9M2Gz6fOm81Q0qHVStkI29/ec+RA6+P1AAB2Cr0QmRyeJH0lVi2yMbsuWTHoLqolkB+WGIUPXggmB4UAkP3y+nX3gfgT+pv+IwNVC2EM8w1PEpAQfBKHE8MYzBVnFGQQ+QYsANH7qPBA6xHnvt932dbSLc9jzP3KyM2/0BjRXNNT1gjbx9yg5JzvB/n2AggMwxgWIOwjFS9NMKcwnTNQNHcsJCWQH4cT8w24CHACY/2N+T324/V+9I35WQDBBa4LIhIrDwETDRSTFO0UlhjYFlsTNxAaBiH/SPeH8RPr5Obq39nWBtdCzUvKFc3RylfLMNOe0YnTuNdu3L7f8+sE9SwAWA+KF+AitiZWLak0zTdcNc03ADE8JwwjBxttDR0KlAWb/ub5UvTA8rTxt/V4+xX+4QQrD5AQkBB+FgQX5huQHzYfuhvYFpAQwwmFAOP19e/n6jvjKdqJ03rOY8xUx+/FKsvRypvNUNJc0+LTIN1b4jTqwvZO/z4JEBg5I+4nQS/uNnQ3fzhqOr4yrSl9JZYYeQ5/BxX++/c99uHxcO+o8E/wxfpZAAIEmg0QGF0X7xgKH3gd9SDjJhgkYBvYFqUOqQOE/EbzbesF5v/dD9Szz9rHMMR+w9fDzsaYyWPMs88k0vrV6NuU40PvE/rWA2EMYBskJfooTTAFOV85ETpqOgwyjCq/I+MXmg24CHv/5vmK9U/wnO/q7i7xYPkjA4sIWA/aGh8dQiCHIpIj+CQPJ+MmkB8EF7oMwQUT+uHxJuUs3oDW69Bsyb/BRcJAujDEUcN1xobP1M6m3Vne1eG35tXwKvyIBCkLchXgIvoobi8DNSY4cTNTODgy+ijsI8MYKw/5BhX+HPdb8dLsIvAW7zH1t/VSByseGCRUKXY7GjfEOlA0vB/7GTcQNAx4++HxyuCg5G7cmMkNwRvGn8ItzxLYJ8dZz47bpt0S2K/aes7l19/el9j30djlcvPqECgaKi3gUxlVk1SKSBE6ASJyFdH7EedG5JnrFu9g+QsBdgq8H2Mf8hyNGwQXZxT5Bn4WAyYHG40bMyr9LAkusC3yHBAYGRXNBnLzJuUw03XGJcPJrymp6Juit7jXo9l6zqHVovfF+vDnZdCm3YTt6u590rPPed3I/o0bFiAROrhqOHJXT384NBvGDYH49uCYyeTmUvTGDS8EZlS1NW/+9C+uGjIIt/X794zX4ROAKZ9GSCguRI49LEDHL0bzuAgx9U7/cdGR30fV8+v03Ci4R6T4wpLQK7wg3QzQoOSp4aDkodU06urfU9bG6w3yRvO08ajwUuUBE98xzTdVS3FkZ0WbLx8dZQEr7ZDu/Oix7REJeQ4oGi0isyKrFpIjFhHNBoUAQv7F+i8EuAg2LuJmN0E/K4wq+CQjA1T4auf86EL+dfd57O3jqeH4wg3B0JnHnDnBXcRZz5nr1fAL3/v3bPrz6//dvt9M7D/6pPs955nrMfUf+9IOID8QSTlUhmLHPv4dCxCb/qDkeewW76v0Mgg9GD0YBxsBIoQe4CI6FHMGp/+n/6T7Qv7/DlhAGUaYK+AiHx2xD1kA9e/l18/oQv7v9u3jx9yA1tPdU9bcqV+XlLKv2kTg3u18A0bzjflEAqzWMNON+czz2vh/BxoGrguCC3v/HeijCsc+OkVzRpZJsC1JGWQQrvhh6n70Tv9j/V4I6hDSDq4a1CGZHMMYwxiCCxX+B/mT8kv7UgePLq1aID9YD3MG1gPR+7TxNdu205DuFwLn6tnWG9U+2ErZ9b4Mnxqkl9gc98PnJuWpAzEXzhmb/sfcPtgUDds8pPsQxRfgjgzwCVT4bQ0vNZ5k/3+9UEQCDfKw/KL3rOUy1zvjdgowJt0eNxB1GfUgOSP4Ffv3E+sN8o35KPjd/D4JEitOYd5AH/u66q742vjS7JrcytHh8aMKrvjfz9bSRuS7293L9q/SuzvjvgFm8hrkTA4WIPMNrviE7WfjH/sBE6kDmfq39d8AoAb2Ap/z9f4MMv0sTTBhPY0bvP3tBeQIeewu8Uv7YPkCBHARFhFkEMgg8hw9GGQQFwI99vjzwvaQ7rIA5wzIIJFBqTQ+CWby4/Vk7iLwUuVZ3nDvUAPC9ize7eOU4yPh9NyPzFTHyuDtBbUE1/TO91kAZBCBGsj+Vtrt47z9h/GI4uru2vhlASMDNh/OKA42p2HeQI4MKvyRAXDvTOw68nnsSQotIicp1RJ8EtsLagk+CQf59e+c72z6ovd19+0FsgC1BC5EE03nDOfqIvBd9Tb9XAQF5rrqyRFMDr3uWd6v2lbalOMS2C3P4eI2/fXvSegH+c0GfAN+9KXsDuND73vwY/3y+ub5ygI4Abz9tQQDJjAm+UZhTAEiRwaIBDb9c+So8H70V/xwEdoa/w6gBggMlAUvBAAAzPOc71L0SPei9y8EiwgUDak0TE4vNTcQM/mk+xP6ePvV8EPv6wEFCGz6SehE4LLe8dj30VzTO+O08W3rHegN8mby1/S39fv31/S5+bn5ZO4/+oUAfAOUBTsFePusB28gWxMJLvM+USWFD8EFsPyj6Gz6n/O39QUI0g7/DroM9hGgBgIEBQiIBOsBb/7I/p/zbPqoEuMXhB4yOX84byCODDb9H+yo8E7/1fBP8P77iASk+7rqTd28zHrOzdX/3b7fe/Ao+Dryye8952TucAJwES8Emfo/+kbzVPg68uzyFu/p/QcbJCVUGnQopj+qJSISVQs/+tXwmfpI90bzZwVdF8wVLhNYD0cGAgQmB5v+V/yn/7IAufnI/pwR5wyfFdopZTLuJ0kKovd57IH4ufnh8X70P/rtBVf8Sehi27bTqtIG17LeHeil7Hboe/D2AiYHrvhk7hD2Nv1y83Dvlvb797f1e/87BXACkxQhIeETowr9LFA0wBT5BmP9Kvy5+XwDV/zm+YUP+BVDEQUIuAgXAqkDUge8/d38qQMyCOEEVPin/z4JhB7WNMcvNBtv/jgBP/rs8ofxhO1I95D99gJD73PkteJK2YzXNdvw55Tjw+dU+IUAlvYQ9mUB2vgZ8zfuUvQc97IADgV7/3MGFwLrAboMRhW6DKIZ0j/aKdIO3wDI/j/6B/mb/nboKvwNFD0YCAydAosI+QYIDL4BafZ19zb9OwU7BQUIm/5JCgYqejAnKZIjAROQ7jLm8+vb6aPo7/Z7//77gfjP6K/aodX03Mrghd7/3fDnFwJSB370K+208SwA7QVlASj4AfGK9Y35+Qb1/t8AEBgQGHYKaRg1PRgk+Qb1/nj7ove5+RP6rukh/2cUaRhMDgUI5AiUBe0F3fxg+U7/7QVHBvkGdgp7/zgBSRl5P7pMUSWQ/a7p4fET6zjf/dk37mEMTA639fTco9m35mHq9Nx6zrvbB/m5+ezyfvTtBUMR2wvKAs/o8Oer9N38ivX178oCCh9IKHYKqxZWPPooagk99hz3gfhX/Ln5KOllAYoX2hr/Dl4IMgg7BaAG+/d+9Ev7wQUmB2oJHw6uC74Bmg1fKicpLSJyJJAQ3u235rTxgul57A3y7PK39Yr1betN3VDhcOB84bfm5OYT60bzTv+N+coCSQpL+//sVekK7qjwwQVlAeP1nQJsHPsZFA1WLacw+BV/B5v+t/XM8xX+nO+K9c8KcBG6DB0KhQ9SB/wKygI/+rn5Cv3y+h/7lwmCC9sLDRRyFcwVhyJ0N0UkOAHC9p/zLvEy5qnhGuSi97D8cO/55HDgMuYX4DvjneCC6QXmJuWB+Kf/Kvx8A/8OZQGi9xnzN+6E7d7tye/1/vIceB0rHkc3tTUEFy8EsgBS9Mzzq/Rh6rf18w1PEqUORhV4HSUWbQ2k+8DyJfR19xz3bPodCpMUchVsHFM46C4YJFQaGgZd9dvpdugI26jwdfe8/YT82vi66lnekd+X2PHYttNu3KPoEPaRAaT73wA0DH8Hn/MN8lL0LvEl9Gn2vP3WA10XqiXUIbAeqiXjJjQM+/eK9VT4E/rR+7D8wQWoEuoQowpeCP8Owwm+AQr9sPxHBhoGXAT5BtIOgguWGIYx7ichIW8g/w7X9Kjwuurt4xPrK+068oH4EPa35mXfyuBb4nndu9sy5ojiPec/+v772vh5DjcQ7/bX9IH47PJ+9Hv/9e/m+bQTNBvFHMUc+CRFJPIc6f3X9NH7jfmf8xz3+QbbC7QT2wtqCSkLmg2pA2/+IwNzBgIEtQRnBWoJcBE5I0QzPCd7IckRoAau+CjpROBA61vx/+wZ87f1kO5E4PbgI+HS7Fne4tNw4GTu8+ul7Cr8wQUdCvYCLADj9T324fF78JzvY/3JEa4avB/CJ9MwJykcGZQFY/3j9dXw9e+r9EQCHQr/DuoQ7RQiEhQNkQEAANT/9f7a+Gz6fwdhDPIcODIVL9op9SDwCVT4h/Em5SDddujA8vv3MfX1767pPee728TYUuVw4D7YeexD7zfuTv/I/ir84QSRATfuZvK5+cnvHPfI/n8HvyOJJkIglSdIKMwVnQJX/Ir1GfPV8OzyOAHeDwgM8AlMDjcQ/AplAZv+sPyFABX+1P/YBwcbaytRJWIu+CQ0DJ0CNv1n47XiN+7k5nvwzvei93nsWO0G127czOTUzjLXN+5G87D8rAdL+4gERALj9Xnst/V194TtAAB7/wgMkiP1IMMYxy8zKhkVVQvfABD2Q+/s8nnsTv9qCc8KTxIHG3wSTA4OBRX+yP5v/pn67QXRHb8juy5FJGwcISFPEmn23u1P8KPoPefw5x/sW/EN8nzhlONM7AbXdNVe5kPv/+w68qv01P/fAD327PJlASH/mesr7Sr8Kw9YD3UZOSOSMh4s3R6KF/wKIf/485nrK+3y+lT4LAC4CGcUZxQNFJAQFA0mB5v+XAR8A3IVGRXAFDQbISEWEYsI4QTU/+P12+l26Grn2+m72xfg1eFe5mXfNduC6b3uYerP6DryhPxd9UzsS/va+OP14/VwAosINAx5DhwZbyDRHa4aBBfOGc8KIwPa+Ar9M/lS9Pv3tQSjCggMFhFkEIoXcBErDykLDRSuGnkOSQq0EwQX5wzwCUkKJgcLAfv3Q++E7TjfttPW0qzWzdXT3bvbROCW9tf0se0f+1312vjF+nns7PLm+YH4Cv1eCPYRihdyJEIghB4BIiUW8w2uC0QCxfqk+yj4vP0K/RX+GgbzDb0Q9hG3F0sdKBo0G10Xmg0lFjcQUgdeCK4L+QYOBYUAV/xd9XDvAuLE2FPWY8xW2mvYx9wF5qPoYep+9AruDfLO91vxWO0c93j7b/6RAdgH+xnmG7AeDCM8J2Abtxc+CQUIAgR4+1318vpv/oT86wHWA+cMnBHtFDEX6R8iEg0UchWxD9sLmg38CtsL5Agh/1kAgfiQ7kbkXubo2w/UC9+s5bLest5/5W3rXubM5FjtcO8r7ZDuBPUz+bz9e/+sBy4T4xcoGpYYVBrDGEYVSQodCucMDgW+AVkAvgFZABX+9f78CjcQyRFnFIcTtxe0E5AQSQqODAgMMggmB1IHOwV7/1f8wPK08d7tt+Ze5rrqPedJ6G3r0uwr7YTtqPCc77TxnO+T8kPvLvHM88X61P/tBaUO9hFbEy4TDRQ3EEwOKQuODFIHcwa1BKkDfANQA/kGVQsWEWQQTxJDETcQjgxVCzQMFA1MDsYNFA3YBy8EkP0f+zH1DfJw7zfumesy5rfm+eTt41LlKOnb6XnsTOyc7xbvOvJp9q74hQDWA14IzwpMDsYNkBCxDyISIhJbE8kReQ7bC14IDgW1BFwEUAOLCA4Ffwd/B5cJ+QYdCqMKCAznDB0KGgY4Abz9ovfM82byLvHJ78nvZO5k7hPrYerG63nsN+5P8JPyk/LX9AT1zvcH+cj+cALtBeQI2wuODB0KbQ3/DpAQhQ95DikLBQhHBi8E4QRnBTII8AnDCREJrAc7BXwDfAM7BUcGGgYvBAAA3fw99rf1zPPX9CX01/TA8hnzIvCx7TfuLvEu8Q3yBPXX9OP1wvZ195n6nQJ8A7gIrguODLoM2wvzDboMKQthDK4LggsmBwIEoAa1BAUIKQuuC/wKJgfYB1wE4QRwAhcCiAQXAqf/ufkz+VL0k/IZ8370GfNy8+zy1fCc77TxzPOr9Ir14/W39e/2M/mi9+b5Qv58A9gHKQuaDdIOCxBkEEMRcBHeD7EP5wzwCbgIAgTBBaAGPgkpC64LYQz5Bi8EDgVwAt8AkQHU/2/+rvjv9ofx9e837kPv1fCH8bTxJfQ68qjwDfLM88Dyq/R193X3B/k/+j/6Y/2+AYgEuAgfDh8ONxDqEGQQTxLhE8AUfBJ8EmQQmg2ODPAJ5Ag7Be0F7QVcBHwDRAJZAAAA3fwf+zP5dfd78Cvt5+pA64LpH+wu8ZDuye+08RbvT/Dh8fjzJfSB+I35YPny+rIALwR/Bx8OKw9kEOoQvRA3ENIO3g9DEfYR6hDeD8YNSQpqCcMJiwjNBkcGDgXKAoUALAAAAOn96f0T+s73h/HJ7yvtmeuQ7rHt9e/V8AHxFu9k7pzvW/H482n2afai9674YPmw/MoCtQQ+CfMNKw+QENIOsQ8uE0YVzBWfFVsTFhGODNsLKQvwCWoJEQleCDsFUANwAiMDvgFO/2/+P/oE9XDvN+6E7Xnseex78MDyLvHV8A3yOvLA8qv0t/Uc9+P1afaB+Ev7yP7fAMEF+QYdCvwKdgr8CoUP0g7eD+oQ6hBhDOcMNAzGDRQNFA38CsMJEQmUBSYHXAThBC8E1gOyAPL6wvbX9L3ukO5P8KjwDfKT8g3y4fHA8nLzZvIl9ML2EPb485b24/UH+ZD9FwICBO0FXgiLCH8HwwnDCUkKYQyODI4MKQvPCj4JPglJCmoJXgisB4sIJgfYB3MGJgcaBsoChQCQ/Zn6PfZ+9H707PLM8/jzivW39eP1Pfar9DH1t/Xv9hz3SPeW9hD2YPm5+YT8yP5wAqAGcwYyCF4I/ApJCikL/ArDCSkLagmLCOQIUgesB/kGUgcOBeEElAUOBakDnQIjAywA1P+Q/aT7gfii92n2SPdd9aL3oveu+Cj4HPc99gf5M/mW9jP5VPhs+rD8sgCdAiMDOwVnBZQFUgdSBwUIwwm4CBEJiwigBqwHwQVHBtgHPglcBPYC1gNEAiMD4QREAnACAACb/iH/V/w/+lT4E/rv9vv3wvYc98737/ai9wf5B/kT+ub5M/nF+gf5V/xv/gAAOAECBGcFOwUaBmcF2AcyCFIHuAg+CTII7QUmB1wEtQQ7BeEElAVcBPYCFwICBFADnQLrAXAChQB7/938Nv1s+pn62viB+D/6gfiB+Jb2jfnm+RP6H/uZ+mD5P/p4+6T7Qv44AfYCRALKAvYC4QRQAwIEGgY=\" type=\"audio/wav\" />\n",
       "                    Your browser does not support the audio element.\n",
       "                </audio>\n",
       "              "
      ],
      "text/plain": [
       "<IPython.lib.display.Audio object>"
      ]
     },
     "metadata": {},
     "output_type": "display_data"
    },
    {
     "name": "stdout",
     "output_type": "stream",
     "text": [
      "Playing poisoned audio 2\n"
     ]
    },
    {
     "data": {
      "text/html": [
       "\n",
       "                <audio  controls=\"controls\" >\n",
       "                    <source src=\"data:audio/wav;base64,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\" type=\"audio/wav\" />\n",
       "                    Your browser does not support the audio element.\n",
       "                </audio>\n",
       "              "
      ],
      "text/plain": [
       "<IPython.lib.display.Audio object>"
      ]
     },
     "metadata": {},
     "output_type": "display_data"
    },
    {
     "name": "stderr",
     "output_type": "stream",
     "text": [
      "100%|██████████| 600/600 [01:31<00:00,  6.59it/s]\n"
     ]
    },
    {
     "name": "stdout",
     "output_type": "stream",
     "text": [
      "Epoch 0, Loss: 1.778899527390798\n"
     ]
    },
    {
     "name": "stderr",
     "output_type": "stream",
     "text": [
      "100%|██████████| 600/600 [01:30<00:00,  6.60it/s]\n"
     ]
    },
    {
     "name": "stdout",
     "output_type": "stream",
     "text": [
      "Epoch 1, Loss: 1.420374515801668\n"
     ]
    },
    {
     "name": "stderr",
     "output_type": "stream",
     "text": [
      "100%|██████████| 600/600 [01:31<00:00,  6.57it/s]\n"
     ]
    },
    {
     "name": "stdout",
     "output_type": "stream",
     "text": [
      "Epoch 2, Loss: 1.0692302151210606\n",
      "Test Accuracy: 86.0%\n",
      "420\n",
      "540\n",
      "ASR: 77.77777777777779%\n",
      "Clean Accuracy Drop (CAD): 13.0%\n",
      "Backdoor Attack Success Rate: 77.77777777777779%\n"
     ]
    }
   ],
   "source": [
    "poisoning_rates = [0.01, 0.05, 0.1]  \n",
    "noise_paths = ['/kaggle/input/background/StreetWorkDrill.wav', '/kaggle/input/background/beescrickets2.wav']\n",
    "noise_scales = [0.7, 0.3]  \n",
    "\n",
    "results = []\n",
    "\n",
    "for poisoning_rate, noise_path, noise_scale in product(poisoning_rates, noise_paths, noise_scales):\n",
    "    print(f\"Running experiment with poisoning_rate={poisoning_rate} and noise_path={noise_path} and noise_scale={noise_scale}\")\n",
    "    backdoor_accuracy, backdoor_attack_success_rate, accuracy_drop = backdoor_attack_and_eval_wav2vec2(poison_rate=poisoning_rate, noise_path=noise_path, noise_scale=noise_scale)\n",
    "        \n",
    "    clean_accuracy_after = backdoor_accuracy\n",
    "\n",
    "    results.append({\n",
    "        'poisoning_rate': poisoning_rate,\n",
    "        'noise_path' : noise_path,\n",
    "        'noise_scale' : noise_scale,\n",
    "        'backdoor_success_rate': backdoor_attack_success_rate,\n",
    "        'clean_accuracy_after': clean_accuracy_after,\n",
    "        'clean_accuracy_drop': clean_accuracy - clean_accuracy_after\n",
    "    })\n",
    "\n",
    "# print(results_df)"
   ]
  },
  {
   "cell_type": "code",
   "execution_count": 14,
   "id": "a3c696f9",
   "metadata": {
    "execution": {
     "iopub.execute_input": "2024-11-25T19:03:17.850152Z",
     "iopub.status.busy": "2024-11-25T19:03:17.849199Z",
     "iopub.status.idle": "2024-11-25T19:03:17.854725Z",
     "shell.execute_reply": "2024-11-25T19:03:17.853999Z"
    },
    "papermill": {
     "duration": 1.052992,
     "end_time": "2024-11-25T19:03:17.856396",
     "exception": false,
     "start_time": "2024-11-25T19:03:16.803404",
     "status": "completed"
    },
    "tags": []
   },
   "outputs": [],
   "source": [
    "results_df = pd.DataFrame(results)"
   ]
  },
  {
   "cell_type": "code",
   "execution_count": 15,
   "id": "3631f7fc",
   "metadata": {
    "execution": {
     "iopub.execute_input": "2024-11-25T19:03:19.955328Z",
     "iopub.status.busy": "2024-11-25T19:03:19.954268Z",
     "iopub.status.idle": "2024-11-25T19:03:19.970152Z",
     "shell.execute_reply": "2024-11-25T19:03:19.969346Z"
    },
    "papermill": {
     "duration": 1.067876,
     "end_time": "2024-11-25T19:03:19.971671",
     "exception": false,
     "start_time": "2024-11-25T19:03:18.903795",
     "status": "completed"
    },
    "tags": []
   },
   "outputs": [
    {
     "data": {
      "text/html": [
       "<div>\n",
       "<style scoped>\n",
       "    .dataframe tbody tr th:only-of-type {\n",
       "        vertical-align: middle;\n",
       "    }\n",
       "\n",
       "    .dataframe tbody tr th {\n",
       "        vertical-align: top;\n",
       "    }\n",
       "\n",
       "    .dataframe thead th {\n",
       "        text-align: right;\n",
       "    }\n",
       "</style>\n",
       "<table border=\"1\" class=\"dataframe\">\n",
       "  <thead>\n",
       "    <tr style=\"text-align: right;\">\n",
       "      <th></th>\n",
       "      <th>poisoning_rate</th>\n",
       "      <th>noise_path</th>\n",
       "      <th>noise_scale</th>\n",
       "      <th>backdoor_success_rate</th>\n",
       "      <th>clean_accuracy_after</th>\n",
       "      <th>clean_accuracy_drop</th>\n",
       "    </tr>\n",
       "  </thead>\n",
       "  <tbody>\n",
       "    <tr>\n",
       "      <th>0</th>\n",
       "      <td>0.01</td>\n",
       "      <td>/kaggle/input/background/StreetWorkDrill.wav</td>\n",
       "      <td>0.7</td>\n",
       "      <td>0.000000</td>\n",
       "      <td>98.833333</td>\n",
       "      <td>0.166667</td>\n",
       "    </tr>\n",
       "    <tr>\n",
       "      <th>1</th>\n",
       "      <td>0.01</td>\n",
       "      <td>/kaggle/input/background/StreetWorkDrill.wav</td>\n",
       "      <td>0.3</td>\n",
       "      <td>0.000000</td>\n",
       "      <td>97.500000</td>\n",
       "      <td>1.500000</td>\n",
       "    </tr>\n",
       "    <tr>\n",
       "      <th>2</th>\n",
       "      <td>0.01</td>\n",
       "      <td>/kaggle/input/background/beescrickets2.wav</td>\n",
       "      <td>0.7</td>\n",
       "      <td>0.000000</td>\n",
       "      <td>98.666667</td>\n",
       "      <td>0.333333</td>\n",
       "    </tr>\n",
       "    <tr>\n",
       "      <th>3</th>\n",
       "      <td>0.01</td>\n",
       "      <td>/kaggle/input/background/beescrickets2.wav</td>\n",
       "      <td>0.3</td>\n",
       "      <td>0.000000</td>\n",
       "      <td>98.166667</td>\n",
       "      <td>0.833333</td>\n",
       "    </tr>\n",
       "    <tr>\n",
       "      <th>4</th>\n",
       "      <td>0.05</td>\n",
       "      <td>/kaggle/input/background/StreetWorkDrill.wav</td>\n",
       "      <td>0.7</td>\n",
       "      <td>11.666667</td>\n",
       "      <td>98.166667</td>\n",
       "      <td>0.833333</td>\n",
       "    </tr>\n",
       "    <tr>\n",
       "      <th>5</th>\n",
       "      <td>0.05</td>\n",
       "      <td>/kaggle/input/background/StreetWorkDrill.wav</td>\n",
       "      <td>0.3</td>\n",
       "      <td>13.888889</td>\n",
       "      <td>97.666667</td>\n",
       "      <td>1.333333</td>\n",
       "    </tr>\n",
       "    <tr>\n",
       "      <th>6</th>\n",
       "      <td>0.05</td>\n",
       "      <td>/kaggle/input/background/beescrickets2.wav</td>\n",
       "      <td>0.7</td>\n",
       "      <td>55.925926</td>\n",
       "      <td>96.666667</td>\n",
       "      <td>2.333333</td>\n",
       "    </tr>\n",
       "    <tr>\n",
       "      <th>7</th>\n",
       "      <td>0.05</td>\n",
       "      <td>/kaggle/input/background/beescrickets2.wav</td>\n",
       "      <td>0.3</td>\n",
       "      <td>33.888889</td>\n",
       "      <td>98.166667</td>\n",
       "      <td>0.833333</td>\n",
       "    </tr>\n",
       "    <tr>\n",
       "      <th>8</th>\n",
       "      <td>0.10</td>\n",
       "      <td>/kaggle/input/background/StreetWorkDrill.wav</td>\n",
       "      <td>0.7</td>\n",
       "      <td>94.814815</td>\n",
       "      <td>96.666667</td>\n",
       "      <td>2.333333</td>\n",
       "    </tr>\n",
       "    <tr>\n",
       "      <th>9</th>\n",
       "      <td>0.10</td>\n",
       "      <td>/kaggle/input/background/StreetWorkDrill.wav</td>\n",
       "      <td>0.3</td>\n",
       "      <td>75.000000</td>\n",
       "      <td>95.500000</td>\n",
       "      <td>3.500000</td>\n",
       "    </tr>\n",
       "    <tr>\n",
       "      <th>10</th>\n",
       "      <td>0.10</td>\n",
       "      <td>/kaggle/input/background/beescrickets2.wav</td>\n",
       "      <td>0.7</td>\n",
       "      <td>93.518519</td>\n",
       "      <td>88.333333</td>\n",
       "      <td>10.666667</td>\n",
       "    </tr>\n",
       "    <tr>\n",
       "      <th>11</th>\n",
       "      <td>0.10</td>\n",
       "      <td>/kaggle/input/background/beescrickets2.wav</td>\n",
       "      <td>0.3</td>\n",
       "      <td>77.777778</td>\n",
       "      <td>86.000000</td>\n",
       "      <td>13.000000</td>\n",
       "    </tr>\n",
       "  </tbody>\n",
       "</table>\n",
       "</div>"
      ],
      "text/plain": [
       "    poisoning_rate                                    noise_path  noise_scale  \\\n",
       "0             0.01  /kaggle/input/background/StreetWorkDrill.wav          0.7   \n",
       "1             0.01  /kaggle/input/background/StreetWorkDrill.wav          0.3   \n",
       "2             0.01    /kaggle/input/background/beescrickets2.wav          0.7   \n",
       "3             0.01    /kaggle/input/background/beescrickets2.wav          0.3   \n",
       "4             0.05  /kaggle/input/background/StreetWorkDrill.wav          0.7   \n",
       "5             0.05  /kaggle/input/background/StreetWorkDrill.wav          0.3   \n",
       "6             0.05    /kaggle/input/background/beescrickets2.wav          0.7   \n",
       "7             0.05    /kaggle/input/background/beescrickets2.wav          0.3   \n",
       "8             0.10  /kaggle/input/background/StreetWorkDrill.wav          0.7   \n",
       "9             0.10  /kaggle/input/background/StreetWorkDrill.wav          0.3   \n",
       "10            0.10    /kaggle/input/background/beescrickets2.wav          0.7   \n",
       "11            0.10    /kaggle/input/background/beescrickets2.wav          0.3   \n",
       "\n",
       "    backdoor_success_rate  clean_accuracy_after  clean_accuracy_drop  \n",
       "0                0.000000             98.833333             0.166667  \n",
       "1                0.000000             97.500000             1.500000  \n",
       "2                0.000000             98.666667             0.333333  \n",
       "3                0.000000             98.166667             0.833333  \n",
       "4               11.666667             98.166667             0.833333  \n",
       "5               13.888889             97.666667             1.333333  \n",
       "6               55.925926             96.666667             2.333333  \n",
       "7               33.888889             98.166667             0.833333  \n",
       "8               94.814815             96.666667             2.333333  \n",
       "9               75.000000             95.500000             3.500000  \n",
       "10              93.518519             88.333333            10.666667  \n",
       "11              77.777778             86.000000            13.000000  "
      ]
     },
     "execution_count": 15,
     "metadata": {},
     "output_type": "execute_result"
    }
   ],
   "source": [
    "results_df"
   ]
  },
  {
   "cell_type": "code",
   "execution_count": 16,
   "id": "e6171f96",
   "metadata": {
    "execution": {
     "iopub.execute_input": "2024-11-25T19:03:22.063855Z",
     "iopub.status.busy": "2024-11-25T19:03:22.063513Z",
     "iopub.status.idle": "2024-11-25T19:03:22.072343Z",
     "shell.execute_reply": "2024-11-25T19:03:22.071715Z"
    },
    "papermill": {
     "duration": 1.057897,
     "end_time": "2024-11-25T19:03:22.073889",
     "exception": false,
     "start_time": "2024-11-25T19:03:21.015992",
     "status": "completed"
    },
    "tags": []
   },
   "outputs": [],
   "source": [
    "results_df.to_csv('Wav2Vec2-SD-BKDR-bckgrndLow.csv', sep='\\t', index=False)"
   ]
  },
  {
   "cell_type": "code",
   "execution_count": null,
   "id": "e20a089b",
   "metadata": {
    "papermill": {
     "duration": 1.057217,
     "end_time": "2024-11-25T19:03:24.207665",
     "exception": false,
     "start_time": "2024-11-25T19:03:23.150448",
     "status": "completed"
    },
    "tags": []
   },
   "outputs": [],
   "source": []
  }
 ],
 "metadata": {
  "kaggle": {
   "accelerator": "gpu",
   "dataSources": [
    {
     "datasetId": 5789127,
     "sourceId": 9510683,
     "sourceType": "datasetVersion"
    },
    {
     "datasetId": 5801049,
     "sourceId": 9526431,
     "sourceType": "datasetVersion"
    }
   ],
   "isGpuEnabled": true,
   "isInternetEnabled": true,
   "language": "python",
   "sourceType": "notebook"
  },
  "kernelspec": {
   "display_name": "Python 3",
   "language": "python",
   "name": "python3"
  },
  "language_info": {
   "codemirror_mode": {
    "name": "ipython",
    "version": 3
   },
   "file_extension": ".py",
   "mimetype": "text/x-python",
   "name": "python",
   "nbconvert_exporter": "python",
   "pygments_lexer": "ipython3",
   "version": "3.10.14"
  },
  "papermill": {
   "default_parameters": {},
   "duration": 3944.577706,
   "end_time": "2024-11-25T19:03:28.174784",
   "environment_variables": {},
   "exception": null,
   "input_path": "__notebook__.ipynb",
   "output_path": "__notebook__.ipynb",
   "parameters": {},
   "start_time": "2024-11-25T17:57:43.597078",
   "version": "2.6.0"
  },
  "widgets": {
   "application/vnd.jupyter.widget-state+json": {
    "state": {
     "03178855e492406396a20655683a8e6e": {
      "model_module": "@jupyter-widgets/controls",
      "model_module_version": "1.5.0",
      "model_name": "HTMLModel",
      "state": {
       "_dom_classes": [],
       "_model_module": "@jupyter-widgets/controls",
       "_model_module_version": "1.5.0",
       "_model_name": "HTMLModel",
       "_view_count": null,
       "_view_module": "@jupyter-widgets/controls",
       "_view_module_version": "1.5.0",
       "_view_name": "HTMLView",
       "description": "",
       "description_tooltip": null,
       "layout": "IPY_MODEL_a8b788ab38e74194a9b61fa886294d8d",
       "placeholder": "​",
       "style": "IPY_MODEL_1b67f3b6c6a6420388da260143ade2dc",
       "value": " 1.26G/1.26G [00:05&lt;00:00, 236MB/s]"
      }
     },
     "034f9376ee894406b5a145d05746c8ac": {
      "model_module": "@jupyter-widgets/base",
      "model_module_version": "1.2.0",
      "model_name": "LayoutModel",
      "state": {
       "_model_module": "@jupyter-widgets/base",
       "_model_module_version": "1.2.0",
       "_model_name": "LayoutModel",
       "_view_count": null,
       "_view_module": "@jupyter-widgets/base",
       "_view_module_version": "1.2.0",
       "_view_name": "LayoutView",
       "align_content": null,
       "align_items": null,
       "align_self": null,
       "border": null,
       "bottom": null,
       "display": null,
       "flex": null,
       "flex_flow": null,
       "grid_area": null,
       "grid_auto_columns": null,
       "grid_auto_flow": null,
       "grid_auto_rows": null,
       "grid_column": null,
       "grid_gap": null,
       "grid_row": null,
       "grid_template_areas": null,
       "grid_template_columns": null,
       "grid_template_rows": null,
       "height": null,
       "justify_content": null,
       "justify_items": null,
       "left": null,
       "margin": null,
       "max_height": null,
       "max_width": null,
       "min_height": null,
       "min_width": null,
       "object_fit": null,
       "object_position": null,
       "order": null,
       "overflow": null,
       "overflow_x": null,
       "overflow_y": null,
       "padding": null,
       "right": null,
       "top": null,
       "visibility": null,
       "width": null
      }
     },
     "08251c6a3840447cbd19da65150edda2": {
      "model_module": "@jupyter-widgets/controls",
      "model_module_version": "1.5.0",
      "model_name": "DescriptionStyleModel",
      "state": {
       "_model_module": "@jupyter-widgets/controls",
       "_model_module_version": "1.5.0",
       "_model_name": "DescriptionStyleModel",
       "_view_count": null,
       "_view_module": "@jupyter-widgets/base",
       "_view_module_version": "1.2.0",
       "_view_name": "StyleView",
       "description_width": ""
      }
     },
     "1b67f3b6c6a6420388da260143ade2dc": {
      "model_module": "@jupyter-widgets/controls",
      "model_module_version": "1.5.0",
      "model_name": "DescriptionStyleModel",
      "state": {
       "_model_module": "@jupyter-widgets/controls",
       "_model_module_version": "1.5.0",
       "_model_name": "DescriptionStyleModel",
       "_view_count": null,
       "_view_module": "@jupyter-widgets/base",
       "_view_module_version": "1.2.0",
       "_view_name": "StyleView",
       "description_width": ""
      }
     },
     "26598e8e582a4fff912144f6ee464cd3": {
      "model_module": "@jupyter-widgets/controls",
      "model_module_version": "1.5.0",
      "model_name": "DescriptionStyleModel",
      "state": {
       "_model_module": "@jupyter-widgets/controls",
       "_model_module_version": "1.5.0",
       "_model_name": "DescriptionStyleModel",
       "_view_count": null,
       "_view_module": "@jupyter-widgets/base",
       "_view_module_version": "1.2.0",
       "_view_name": "StyleView",
       "description_width": ""
      }
     },
     "27ab0e16e525437e9045bb70135a91af": {
      "model_module": "@jupyter-widgets/base",
      "model_module_version": "1.2.0",
      "model_name": "LayoutModel",
      "state": {
       "_model_module": "@jupyter-widgets/base",
       "_model_module_version": "1.2.0",
       "_model_name": "LayoutModel",
       "_view_count": null,
       "_view_module": "@jupyter-widgets/base",
       "_view_module_version": "1.2.0",
       "_view_name": "LayoutView",
       "align_content": null,
       "align_items": null,
       "align_self": null,
       "border": null,
       "bottom": null,
       "display": null,
       "flex": null,
       "flex_flow": null,
       "grid_area": null,
       "grid_auto_columns": null,
       "grid_auto_flow": null,
       "grid_auto_rows": null,
       "grid_column": null,
       "grid_gap": null,
       "grid_row": null,
       "grid_template_areas": null,
       "grid_template_columns": null,
       "grid_template_rows": null,
       "height": null,
       "justify_content": null,
       "justify_items": null,
       "left": null,
       "margin": null,
       "max_height": null,
       "max_width": null,
       "min_height": null,
       "min_width": null,
       "object_fit": null,
       "object_position": null,
       "order": null,
       "overflow": null,
       "overflow_x": null,
       "overflow_y": null,
       "padding": null,
       "right": null,
       "top": null,
       "visibility": null,
       "width": null
      }
     },
     "287f770244a746bda241324f21d0f885": {
      "model_module": "@jupyter-widgets/controls",
      "model_module_version": "1.5.0",
      "model_name": "ProgressStyleModel",
      "state": {
       "_model_module": "@jupyter-widgets/controls",
       "_model_module_version": "1.5.0",
       "_model_name": "ProgressStyleModel",
       "_view_count": null,
       "_view_module": "@jupyter-widgets/base",
       "_view_module_version": "1.2.0",
       "_view_name": "StyleView",
       "bar_color": null,
       "description_width": ""
      }
     },
     "2ae87ffab0e9461d84db206a049174fe": {
      "model_module": "@jupyter-widgets/base",
      "model_module_version": "1.2.0",
      "model_name": "LayoutModel",
      "state": {
       "_model_module": "@jupyter-widgets/base",
       "_model_module_version": "1.2.0",
       "_model_name": "LayoutModel",
       "_view_count": null,
       "_view_module": "@jupyter-widgets/base",
       "_view_module_version": "1.2.0",
       "_view_name": "LayoutView",
       "align_content": null,
       "align_items": null,
       "align_self": null,
       "border": null,
       "bottom": null,
       "display": null,
       "flex": null,
       "flex_flow": null,
       "grid_area": null,
       "grid_auto_columns": null,
       "grid_auto_flow": null,
       "grid_auto_rows": null,
       "grid_column": null,
       "grid_gap": null,
       "grid_row": null,
       "grid_template_areas": null,
       "grid_template_columns": null,
       "grid_template_rows": null,
       "height": null,
       "justify_content": null,
       "justify_items": null,
       "left": null,
       "margin": null,
       "max_height": null,
       "max_width": null,
       "min_height": null,
       "min_width": null,
       "object_fit": null,
       "object_position": null,
       "order": null,
       "overflow": null,
       "overflow_x": null,
       "overflow_y": null,
       "padding": null,
       "right": null,
       "top": null,
       "visibility": null,
       "width": null
      }
     },
     "2bc5b9077ad74baa89f643f318f707fc": {
      "model_module": "@jupyter-widgets/controls",
      "model_module_version": "1.5.0",
      "model_name": "HBoxModel",
      "state": {
       "_dom_classes": [],
       "_model_module": "@jupyter-widgets/controls",
       "_model_module_version": "1.5.0",
       "_model_name": "HBoxModel",
       "_view_count": null,
       "_view_module": "@jupyter-widgets/controls",
       "_view_module_version": "1.5.0",
       "_view_name": "HBoxView",
       "box_style": "",
       "children": [
        "IPY_MODEL_698e9b9897124fd0867e9bdb1316b84b",
        "IPY_MODEL_87a85c07a0c5489781fc0590f194055c",
        "IPY_MODEL_deda4f33fab74f9bbc475d2f9e7e3205"
       ],
       "layout": "IPY_MODEL_475294e7f2e04186b23422c02d79129c"
      }
     },
     "2d247a24ee08417d8b48df8ba4c88ded": {
      "model_module": "@jupyter-widgets/controls",
      "model_module_version": "1.5.0",
      "model_name": "HTMLModel",
      "state": {
       "_dom_classes": [],
       "_model_module": "@jupyter-widgets/controls",
       "_model_module_version": "1.5.0",
       "_model_name": "HTMLModel",
       "_view_count": null,
       "_view_module": "@jupyter-widgets/controls",
       "_view_module_version": "1.5.0",
       "_view_name": "HTMLView",
       "description": "",
       "description_tooltip": null,
       "layout": "IPY_MODEL_cd157656a78c4607b86d1310f26553b9",
       "placeholder": "​",
       "style": "IPY_MODEL_390a5cd6480b49d39da5fb655deeeadd",
       "value": "vocab.json: 100%"
      }
     },
     "33c7832b01414fc89e289b0828b6038e": {
      "model_module": "@jupyter-widgets/controls",
      "model_module_version": "1.5.0",
      "model_name": "DescriptionStyleModel",
      "state": {
       "_model_module": "@jupyter-widgets/controls",
       "_model_module_version": "1.5.0",
       "_model_name": "DescriptionStyleModel",
       "_view_count": null,
       "_view_module": "@jupyter-widgets/base",
       "_view_module_version": "1.2.0",
       "_view_name": "StyleView",
       "description_width": ""
      }
     },
     "34b93e0b1305442ea57216387344662c": {
      "model_module": "@jupyter-widgets/base",
      "model_module_version": "1.2.0",
      "model_name": "LayoutModel",
      "state": {
       "_model_module": "@jupyter-widgets/base",
       "_model_module_version": "1.2.0",
       "_model_name": "LayoutModel",
       "_view_count": null,
       "_view_module": "@jupyter-widgets/base",
       "_view_module_version": "1.2.0",
       "_view_name": "LayoutView",
       "align_content": null,
       "align_items": null,
       "align_self": null,
       "border": null,
       "bottom": null,
       "display": null,
       "flex": null,
       "flex_flow": null,
       "grid_area": null,
       "grid_auto_columns": null,
       "grid_auto_flow": null,
       "grid_auto_rows": null,
       "grid_column": null,
       "grid_gap": null,
       "grid_row": null,
       "grid_template_areas": null,
       "grid_template_columns": null,
       "grid_template_rows": null,
       "height": null,
       "justify_content": null,
       "justify_items": null,
       "left": null,
       "margin": null,
       "max_height": null,
       "max_width": null,
       "min_height": null,
       "min_width": null,
       "object_fit": null,
       "object_position": null,
       "order": null,
       "overflow": null,
       "overflow_x": null,
       "overflow_y": null,
       "padding": null,
       "right": null,
       "top": null,
       "visibility": null,
       "width": null
      }
     },
     "390a5cd6480b49d39da5fb655deeeadd": {
      "model_module": "@jupyter-widgets/controls",
      "model_module_version": "1.5.0",
      "model_name": "DescriptionStyleModel",
      "state": {
       "_model_module": "@jupyter-widgets/controls",
       "_model_module_version": "1.5.0",
       "_model_name": "DescriptionStyleModel",
       "_view_count": null,
       "_view_module": "@jupyter-widgets/base",
       "_view_module_version": "1.2.0",
       "_view_name": "StyleView",
       "description_width": ""
      }
     },
     "3962ed97edd24c5198e6d515b2b75c77": {
      "model_module": "@jupyter-widgets/base",
      "model_module_version": "1.2.0",
      "model_name": "LayoutModel",
      "state": {
       "_model_module": "@jupyter-widgets/base",
       "_model_module_version": "1.2.0",
       "_model_name": "LayoutModel",
       "_view_count": null,
       "_view_module": "@jupyter-widgets/base",
       "_view_module_version": "1.2.0",
       "_view_name": "LayoutView",
       "align_content": null,
       "align_items": null,
       "align_self": null,
       "border": null,
       "bottom": null,
       "display": null,
       "flex": null,
       "flex_flow": null,
       "grid_area": null,
       "grid_auto_columns": null,
       "grid_auto_flow": null,
       "grid_auto_rows": null,
       "grid_column": null,
       "grid_gap": null,
       "grid_row": null,
       "grid_template_areas": null,
       "grid_template_columns": null,
       "grid_template_rows": null,
       "height": null,
       "justify_content": null,
       "justify_items": null,
       "left": null,
       "margin": null,
       "max_height": null,
       "max_width": null,
       "min_height": null,
       "min_width": null,
       "object_fit": null,
       "object_position": null,
       "order": null,
       "overflow": null,
       "overflow_x": null,
       "overflow_y": null,
       "padding": null,
       "right": null,
       "top": null,
       "visibility": null,
       "width": null
      }
     },
     "39aeca6b2bde4a0bab40d701ff3f4bbf": {
      "model_module": "@jupyter-widgets/controls",
      "model_module_version": "1.5.0",
      "model_name": "DescriptionStyleModel",
      "state": {
       "_model_module": "@jupyter-widgets/controls",
       "_model_module_version": "1.5.0",
       "_model_name": "DescriptionStyleModel",
       "_view_count": null,
       "_view_module": "@jupyter-widgets/base",
       "_view_module_version": "1.2.0",
       "_view_name": "StyleView",
       "description_width": ""
      }
     },
     "42b2aec339a8466a844556032ecd7d25": {
      "model_module": "@jupyter-widgets/controls",
      "model_module_version": "1.5.0",
      "model_name": "HBoxModel",
      "state": {
       "_dom_classes": [],
       "_model_module": "@jupyter-widgets/controls",
       "_model_module_version": "1.5.0",
       "_model_name": "HBoxModel",
       "_view_count": null,
       "_view_module": "@jupyter-widgets/controls",
       "_view_module_version": "1.5.0",
       "_view_name": "HBoxView",
       "box_style": "",
       "children": [
        "IPY_MODEL_80eb65e2e2c74a69b3c1216ccc72335a",
        "IPY_MODEL_fc11ce1d2be04c37ac19af1efcdfd749",
        "IPY_MODEL_8e80f3cfbba04a4a8e4025a467e31752"
       ],
       "layout": "IPY_MODEL_9f90d2c17c3447ecadb0f905ea689147"
      }
     },
     "45b7eeff0e2140939fb9f10a41f1789a": {
      "model_module": "@jupyter-widgets/base",
      "model_module_version": "1.2.0",
      "model_name": "LayoutModel",
      "state": {
       "_model_module": "@jupyter-widgets/base",
       "_model_module_version": "1.2.0",
       "_model_name": "LayoutModel",
       "_view_count": null,
       "_view_module": "@jupyter-widgets/base",
       "_view_module_version": "1.2.0",
       "_view_name": "LayoutView",
       "align_content": null,
       "align_items": null,
       "align_self": null,
       "border": null,
       "bottom": null,
       "display": null,
       "flex": null,
       "flex_flow": null,
       "grid_area": null,
       "grid_auto_columns": null,
       "grid_auto_flow": null,
       "grid_auto_rows": null,
       "grid_column": null,
       "grid_gap": null,
       "grid_row": null,
       "grid_template_areas": null,
       "grid_template_columns": null,
       "grid_template_rows": null,
       "height": null,
       "justify_content": null,
       "justify_items": null,
       "left": null,
       "margin": null,
       "max_height": null,
       "max_width": null,
       "min_height": null,
       "min_width": null,
       "object_fit": null,
       "object_position": null,
       "order": null,
       "overflow": null,
       "overflow_x": null,
       "overflow_y": null,
       "padding": null,
       "right": null,
       "top": null,
       "visibility": null,
       "width": null
      }
     },
     "475294e7f2e04186b23422c02d79129c": {
      "model_module": "@jupyter-widgets/base",
      "model_module_version": "1.2.0",
      "model_name": "LayoutModel",
      "state": {
       "_model_module": "@jupyter-widgets/base",
       "_model_module_version": "1.2.0",
       "_model_name": "LayoutModel",
       "_view_count": null,
       "_view_module": "@jupyter-widgets/base",
       "_view_module_version": "1.2.0",
       "_view_name": "LayoutView",
       "align_content": null,
       "align_items": null,
       "align_self": null,
       "border": null,
       "bottom": null,
       "display": null,
       "flex": null,
       "flex_flow": null,
       "grid_area": null,
       "grid_auto_columns": null,
       "grid_auto_flow": null,
       "grid_auto_rows": null,
       "grid_column": null,
       "grid_gap": null,
       "grid_row": null,
       "grid_template_areas": null,
       "grid_template_columns": null,
       "grid_template_rows": null,
       "height": null,
       "justify_content": null,
       "justify_items": null,
       "left": null,
       "margin": null,
       "max_height": null,
       "max_width": null,
       "min_height": null,
       "min_width": null,
       "object_fit": null,
       "object_position": null,
       "order": null,
       "overflow": null,
       "overflow_x": null,
       "overflow_y": null,
       "padding": null,
       "right": null,
       "top": null,
       "visibility": null,
       "width": null
      }
     },
     "517fc8549a5f4c01bd541013e737d869": {
      "model_module": "@jupyter-widgets/base",
      "model_module_version": "1.2.0",
      "model_name": "LayoutModel",
      "state": {
       "_model_module": "@jupyter-widgets/base",
       "_model_module_version": "1.2.0",
       "_model_name": "LayoutModel",
       "_view_count": null,
       "_view_module": "@jupyter-widgets/base",
       "_view_module_version": "1.2.0",
       "_view_name": "LayoutView",
       "align_content": null,
       "align_items": null,
       "align_self": null,
       "border": null,
       "bottom": null,
       "display": null,
       "flex": null,
       "flex_flow": null,
       "grid_area": null,
       "grid_auto_columns": null,
       "grid_auto_flow": null,
       "grid_auto_rows": null,
       "grid_column": null,
       "grid_gap": null,
       "grid_row": null,
       "grid_template_areas": null,
       "grid_template_columns": null,
       "grid_template_rows": null,
       "height": null,
       "justify_content": null,
       "justify_items": null,
       "left": null,
       "margin": null,
       "max_height": null,
       "max_width": null,
       "min_height": null,
       "min_width": null,
       "object_fit": null,
       "object_position": null,
       "order": null,
       "overflow": null,
       "overflow_x": null,
       "overflow_y": null,
       "padding": null,
       "right": null,
       "top": null,
       "visibility": null,
       "width": null
      }
     },
     "59e9994c7f3f4b299fc5a71186bb9935": {
      "model_module": "@jupyter-widgets/controls",
      "model_module_version": "1.5.0",
      "model_name": "HTMLModel",
      "state": {
       "_dom_classes": [],
       "_model_module": "@jupyter-widgets/controls",
       "_model_module_version": "1.5.0",
       "_model_name": "HTMLModel",
       "_view_count": null,
       "_view_module": "@jupyter-widgets/controls",
       "_view_module_version": "1.5.0",
       "_view_name": "HTMLView",
       "description": "",
       "description_tooltip": null,
       "layout": "IPY_MODEL_034f9376ee894406b5a145d05746c8ac",
       "placeholder": "​",
       "style": "IPY_MODEL_33c7832b01414fc89e289b0828b6038e",
       "value": " 300/300 [00:00&lt;00:00, 29.0kB/s]"
      }
     },
     "6320feefb76241cca2a1ae7fc269244b": {
      "model_module": "@jupyter-widgets/controls",
      "model_module_version": "1.5.0",
      "model_name": "DescriptionStyleModel",
      "state": {
       "_model_module": "@jupyter-widgets/controls",
       "_model_module_version": "1.5.0",
       "_model_name": "DescriptionStyleModel",
       "_view_count": null,
       "_view_module": "@jupyter-widgets/base",
       "_view_module_version": "1.2.0",
       "_view_name": "StyleView",
       "description_width": ""
      }
     },
     "66d607d504944aa58c6848e4a11da03b": {
      "model_module": "@jupyter-widgets/controls",
      "model_module_version": "1.5.0",
      "model_name": "HBoxModel",
      "state": {
       "_dom_classes": [],
       "_model_module": "@jupyter-widgets/controls",
       "_model_module_version": "1.5.0",
       "_model_name": "HBoxModel",
       "_view_count": null,
       "_view_module": "@jupyter-widgets/controls",
       "_view_module_version": "1.5.0",
       "_view_name": "HBoxView",
       "box_style": "",
       "children": [
        "IPY_MODEL_d48d72cf8a094573858775b597f332d5",
        "IPY_MODEL_d714decc1e7c49b681478b6066b6092a",
        "IPY_MODEL_c7fa5a67830e472c99cbce3cebe273a7"
       ],
       "layout": "IPY_MODEL_3962ed97edd24c5198e6d515b2b75c77"
      }
     },
     "67deb546a2e54f3c92d524cc0d45a39e": {
      "model_module": "@jupyter-widgets/controls",
      "model_module_version": "1.5.0",
      "model_name": "DescriptionStyleModel",
      "state": {
       "_model_module": "@jupyter-widgets/controls",
       "_model_module_version": "1.5.0",
       "_model_name": "DescriptionStyleModel",
       "_view_count": null,
       "_view_module": "@jupyter-widgets/base",
       "_view_module_version": "1.2.0",
       "_view_name": "StyleView",
       "description_width": ""
      }
     },
     "698e9b9897124fd0867e9bdb1316b84b": {
      "model_module": "@jupyter-widgets/controls",
      "model_module_version": "1.5.0",
      "model_name": "HTMLModel",
      "state": {
       "_dom_classes": [],
       "_model_module": "@jupyter-widgets/controls",
       "_model_module_version": "1.5.0",
       "_model_name": "HTMLModel",
       "_view_count": null,
       "_view_module": "@jupyter-widgets/controls",
       "_view_module_version": "1.5.0",
       "_view_name": "HTMLView",
       "description": "",
       "description_tooltip": null,
       "layout": "IPY_MODEL_517fc8549a5f4c01bd541013e737d869",
       "placeholder": "​",
       "style": "IPY_MODEL_6320feefb76241cca2a1ae7fc269244b",
       "value": "config.json: 100%"
      }
     },
     "6e52196023b44203b602ac203d401596": {
      "model_module": "@jupyter-widgets/controls",
      "model_module_version": "1.5.0",
      "model_name": "ProgressStyleModel",
      "state": {
       "_model_module": "@jupyter-widgets/controls",
       "_model_module_version": "1.5.0",
       "_model_name": "ProgressStyleModel",
       "_view_count": null,
       "_view_module": "@jupyter-widgets/base",
       "_view_module_version": "1.2.0",
       "_view_name": "StyleView",
       "bar_color": null,
       "description_width": ""
      }
     },
     "7cf0f772a78a47ecbbf06069c1d208bb": {
      "model_module": "@jupyter-widgets/base",
      "model_module_version": "1.2.0",
      "model_name": "LayoutModel",
      "state": {
       "_model_module": "@jupyter-widgets/base",
       "_model_module_version": "1.2.0",
       "_model_name": "LayoutModel",
       "_view_count": null,
       "_view_module": "@jupyter-widgets/base",
       "_view_module_version": "1.2.0",
       "_view_name": "LayoutView",
       "align_content": null,
       "align_items": null,
       "align_self": null,
       "border": null,
       "bottom": null,
       "display": null,
       "flex": null,
       "flex_flow": null,
       "grid_area": null,
       "grid_auto_columns": null,
       "grid_auto_flow": null,
       "grid_auto_rows": null,
       "grid_column": null,
       "grid_gap": null,
       "grid_row": null,
       "grid_template_areas": null,
       "grid_template_columns": null,
       "grid_template_rows": null,
       "height": null,
       "justify_content": null,
       "justify_items": null,
       "left": null,
       "margin": null,
       "max_height": null,
       "max_width": null,
       "min_height": null,
       "min_width": null,
       "object_fit": null,
       "object_position": null,
       "order": null,
       "overflow": null,
       "overflow_x": null,
       "overflow_y": null,
       "padding": null,
       "right": null,
       "top": null,
       "visibility": null,
       "width": null
      }
     },
     "80eb65e2e2c74a69b3c1216ccc72335a": {
      "model_module": "@jupyter-widgets/controls",
      "model_module_version": "1.5.0",
      "model_name": "HTMLModel",
      "state": {
       "_dom_classes": [],
       "_model_module": "@jupyter-widgets/controls",
       "_model_module_version": "1.5.0",
       "_model_name": "HTMLModel",
       "_view_count": null,
       "_view_module": "@jupyter-widgets/controls",
       "_view_module_version": "1.5.0",
       "_view_name": "HTMLView",
       "description": "",
       "description_tooltip": null,
       "layout": "IPY_MODEL_7cf0f772a78a47ecbbf06069c1d208bb",
       "placeholder": "​",
       "style": "IPY_MODEL_67deb546a2e54f3c92d524cc0d45a39e",
       "value": "special_tokens_map.json: 100%"
      }
     },
     "8356ebba76e14598ab5373300f756007": {
      "model_module": "@jupyter-widgets/controls",
      "model_module_version": "1.5.0",
      "model_name": "ProgressStyleModel",
      "state": {
       "_model_module": "@jupyter-widgets/controls",
       "_model_module_version": "1.5.0",
       "_model_name": "ProgressStyleModel",
       "_view_count": null,
       "_view_module": "@jupyter-widgets/base",
       "_view_module_version": "1.2.0",
       "_view_name": "StyleView",
       "bar_color": null,
       "description_width": ""
      }
     },
     "874c2570ee2349bf8f3803c2dc65bf8e": {
      "model_module": "@jupyter-widgets/controls",
      "model_module_version": "1.5.0",
      "model_name": "ProgressStyleModel",
      "state": {
       "_model_module": "@jupyter-widgets/controls",
       "_model_module_version": "1.5.0",
       "_model_name": "ProgressStyleModel",
       "_view_count": null,
       "_view_module": "@jupyter-widgets/base",
       "_view_module_version": "1.2.0",
       "_view_name": "StyleView",
       "bar_color": null,
       "description_width": ""
      }
     },
     "87a85c07a0c5489781fc0590f194055c": {
      "model_module": "@jupyter-widgets/controls",
      "model_module_version": "1.5.0",
      "model_name": "FloatProgressModel",
      "state": {
       "_dom_classes": [],
       "_model_module": "@jupyter-widgets/controls",
       "_model_module_version": "1.5.0",
       "_model_name": "FloatProgressModel",
       "_view_count": null,
       "_view_module": "@jupyter-widgets/controls",
       "_view_module_version": "1.5.0",
       "_view_name": "ProgressView",
       "bar_style": "success",
       "description": "",
       "description_tooltip": null,
       "layout": "IPY_MODEL_99db15f44a47442b89c221d3117fcf72",
       "max": 1531.0,
       "min": 0.0,
       "orientation": "horizontal",
       "style": "IPY_MODEL_287f770244a746bda241324f21d0f885",
       "value": 1531.0
      }
     },
     "8977d88014044c6788a98acc2d2907ca": {
      "model_module": "@jupyter-widgets/base",
      "model_module_version": "1.2.0",
      "model_name": "LayoutModel",
      "state": {
       "_model_module": "@jupyter-widgets/base",
       "_model_module_version": "1.2.0",
       "_model_name": "LayoutModel",
       "_view_count": null,
       "_view_module": "@jupyter-widgets/base",
       "_view_module_version": "1.2.0",
       "_view_name": "LayoutView",
       "align_content": null,
       "align_items": null,
       "align_self": null,
       "border": null,
       "bottom": null,
       "display": null,
       "flex": null,
       "flex_flow": null,
       "grid_area": null,
       "grid_auto_columns": null,
       "grid_auto_flow": null,
       "grid_auto_rows": null,
       "grid_column": null,
       "grid_gap": null,
       "grid_row": null,
       "grid_template_areas": null,
       "grid_template_columns": null,
       "grid_template_rows": null,
       "height": null,
       "justify_content": null,
       "justify_items": null,
       "left": null,
       "margin": null,
       "max_height": null,
       "max_width": null,
       "min_height": null,
       "min_width": null,
       "object_fit": null,
       "object_position": null,
       "order": null,
       "overflow": null,
       "overflow_x": null,
       "overflow_y": null,
       "padding": null,
       "right": null,
       "top": null,
       "visibility": null,
       "width": null
      }
     },
     "8b11d804b33b483dabd1bdf76c8439a9": {
      "model_module": "@jupyter-widgets/base",
      "model_module_version": "1.2.0",
      "model_name": "LayoutModel",
      "state": {
       "_model_module": "@jupyter-widgets/base",
       "_model_module_version": "1.2.0",
       "_model_name": "LayoutModel",
       "_view_count": null,
       "_view_module": "@jupyter-widgets/base",
       "_view_module_version": "1.2.0",
       "_view_name": "LayoutView",
       "align_content": null,
       "align_items": null,
       "align_self": null,
       "border": null,
       "bottom": null,
       "display": null,
       "flex": null,
       "flex_flow": null,
       "grid_area": null,
       "grid_auto_columns": null,
       "grid_auto_flow": null,
       "grid_auto_rows": null,
       "grid_column": null,
       "grid_gap": null,
       "grid_row": null,
       "grid_template_areas": null,
       "grid_template_columns": null,
       "grid_template_rows": null,
       "height": null,
       "justify_content": null,
       "justify_items": null,
       "left": null,
       "margin": null,
       "max_height": null,
       "max_width": null,
       "min_height": null,
       "min_width": null,
       "object_fit": null,
       "object_position": null,
       "order": null,
       "overflow": null,
       "overflow_x": null,
       "overflow_y": null,
       "padding": null,
       "right": null,
       "top": null,
       "visibility": null,
       "width": null
      }
     },
     "8e80f3cfbba04a4a8e4025a467e31752": {
      "model_module": "@jupyter-widgets/controls",
      "model_module_version": "1.5.0",
      "model_name": "HTMLModel",
      "state": {
       "_dom_classes": [],
       "_model_module": "@jupyter-widgets/controls",
       "_model_module_version": "1.5.0",
       "_model_name": "HTMLModel",
       "_view_count": null,
       "_view_module": "@jupyter-widgets/controls",
       "_view_module_version": "1.5.0",
       "_view_name": "HTMLView",
       "description": "",
       "description_tooltip": null,
       "layout": "IPY_MODEL_2ae87ffab0e9461d84db206a049174fe",
       "placeholder": "​",
       "style": "IPY_MODEL_39aeca6b2bde4a0bab40d701ff3f4bbf",
       "value": " 85.0/85.0 [00:00&lt;00:00, 9.34kB/s]"
      }
     },
     "94ed6e2d48534fc19ae0759bbd414af4": {
      "model_module": "@jupyter-widgets/controls",
      "model_module_version": "1.5.0",
      "model_name": "HBoxModel",
      "state": {
       "_dom_classes": [],
       "_model_module": "@jupyter-widgets/controls",
       "_model_module_version": "1.5.0",
       "_model_name": "HBoxModel",
       "_view_count": null,
       "_view_module": "@jupyter-widgets/controls",
       "_view_module_version": "1.5.0",
       "_view_name": "HBoxView",
       "box_style": "",
       "children": [
        "IPY_MODEL_c3efe10e03f24209b5f3c855ae76532a",
        "IPY_MODEL_b7cee6cd4ba44940ae5a3de4f49e1d3b",
        "IPY_MODEL_03178855e492406396a20655683a8e6e"
       ],
       "layout": "IPY_MODEL_27ab0e16e525437e9045bb70135a91af"
      }
     },
     "99843360f94a4a3d95f80acf74d6b139": {
      "model_module": "@jupyter-widgets/base",
      "model_module_version": "1.2.0",
      "model_name": "LayoutModel",
      "state": {
       "_model_module": "@jupyter-widgets/base",
       "_model_module_version": "1.2.0",
       "_model_name": "LayoutModel",
       "_view_count": null,
       "_view_module": "@jupyter-widgets/base",
       "_view_module_version": "1.2.0",
       "_view_name": "LayoutView",
       "align_content": null,
       "align_items": null,
       "align_self": null,
       "border": null,
       "bottom": null,
       "display": null,
       "flex": null,
       "flex_flow": null,
       "grid_area": null,
       "grid_auto_columns": null,
       "grid_auto_flow": null,
       "grid_auto_rows": null,
       "grid_column": null,
       "grid_gap": null,
       "grid_row": null,
       "grid_template_areas": null,
       "grid_template_columns": null,
       "grid_template_rows": null,
       "height": null,
       "justify_content": null,
       "justify_items": null,
       "left": null,
       "margin": null,
       "max_height": null,
       "max_width": null,
       "min_height": null,
       "min_width": null,
       "object_fit": null,
       "object_position": null,
       "order": null,
       "overflow": null,
       "overflow_x": null,
       "overflow_y": null,
       "padding": null,
       "right": null,
       "top": null,
       "visibility": null,
       "width": null
      }
     },
     "99db15f44a47442b89c221d3117fcf72": {
      "model_module": "@jupyter-widgets/base",
      "model_module_version": "1.2.0",
      "model_name": "LayoutModel",
      "state": {
       "_model_module": "@jupyter-widgets/base",
       "_model_module_version": "1.2.0",
       "_model_name": "LayoutModel",
       "_view_count": null,
       "_view_module": "@jupyter-widgets/base",
       "_view_module_version": "1.2.0",
       "_view_name": "LayoutView",
       "align_content": null,
       "align_items": null,
       "align_self": null,
       "border": null,
       "bottom": null,
       "display": null,
       "flex": null,
       "flex_flow": null,
       "grid_area": null,
       "grid_auto_columns": null,
       "grid_auto_flow": null,
       "grid_auto_rows": null,
       "grid_column": null,
       "grid_gap": null,
       "grid_row": null,
       "grid_template_areas": null,
       "grid_template_columns": null,
       "grid_template_rows": null,
       "height": null,
       "justify_content": null,
       "justify_items": null,
       "left": null,
       "margin": null,
       "max_height": null,
       "max_width": null,
       "min_height": null,
       "min_width": null,
       "object_fit": null,
       "object_position": null,
       "order": null,
       "overflow": null,
       "overflow_x": null,
       "overflow_y": null,
       "padding": null,
       "right": null,
       "top": null,
       "visibility": null,
       "width": null
      }
     },
     "9f90d2c17c3447ecadb0f905ea689147": {
      "model_module": "@jupyter-widgets/base",
      "model_module_version": "1.2.0",
      "model_name": "LayoutModel",
      "state": {
       "_model_module": "@jupyter-widgets/base",
       "_model_module_version": "1.2.0",
       "_model_name": "LayoutModel",
       "_view_count": null,
       "_view_module": "@jupyter-widgets/base",
       "_view_module_version": "1.2.0",
       "_view_name": "LayoutView",
       "align_content": null,
       "align_items": null,
       "align_self": null,
       "border": null,
       "bottom": null,
       "display": null,
       "flex": null,
       "flex_flow": null,
       "grid_area": null,
       "grid_auto_columns": null,
       "grid_auto_flow": null,
       "grid_auto_rows": null,
       "grid_column": null,
       "grid_gap": null,
       "grid_row": null,
       "grid_template_areas": null,
       "grid_template_columns": null,
       "grid_template_rows": null,
       "height": null,
       "justify_content": null,
       "justify_items": null,
       "left": null,
       "margin": null,
       "max_height": null,
       "max_width": null,
       "min_height": null,
       "min_width": null,
       "object_fit": null,
       "object_position": null,
       "order": null,
       "overflow": null,
       "overflow_x": null,
       "overflow_y": null,
       "padding": null,
       "right": null,
       "top": null,
       "visibility": null,
       "width": null
      }
     },
     "a6e60d24fb064aa091733d6488caaddf": {
      "model_module": "@jupyter-widgets/controls",
      "model_module_version": "1.5.0",
      "model_name": "ProgressStyleModel",
      "state": {
       "_model_module": "@jupyter-widgets/controls",
       "_model_module_version": "1.5.0",
       "_model_name": "ProgressStyleModel",
       "_view_count": null,
       "_view_module": "@jupyter-widgets/base",
       "_view_module_version": "1.2.0",
       "_view_name": "StyleView",
       "bar_color": null,
       "description_width": ""
      }
     },
     "a8b788ab38e74194a9b61fa886294d8d": {
      "model_module": "@jupyter-widgets/base",
      "model_module_version": "1.2.0",
      "model_name": "LayoutModel",
      "state": {
       "_model_module": "@jupyter-widgets/base",
       "_model_module_version": "1.2.0",
       "_model_name": "LayoutModel",
       "_view_count": null,
       "_view_module": "@jupyter-widgets/base",
       "_view_module_version": "1.2.0",
       "_view_name": "LayoutView",
       "align_content": null,
       "align_items": null,
       "align_self": null,
       "border": null,
       "bottom": null,
       "display": null,
       "flex": null,
       "flex_flow": null,
       "grid_area": null,
       "grid_auto_columns": null,
       "grid_auto_flow": null,
       "grid_auto_rows": null,
       "grid_column": null,
       "grid_gap": null,
       "grid_row": null,
       "grid_template_areas": null,
       "grid_template_columns": null,
       "grid_template_rows": null,
       "height": null,
       "justify_content": null,
       "justify_items": null,
       "left": null,
       "margin": null,
       "max_height": null,
       "max_width": null,
       "min_height": null,
       "min_width": null,
       "object_fit": null,
       "object_position": null,
       "order": null,
       "overflow": null,
       "overflow_x": null,
       "overflow_y": null,
       "padding": null,
       "right": null,
       "top": null,
       "visibility": null,
       "width": null
      }
     },
     "a9288c21134a416f8514aaf04c89892f": {
      "model_module": "@jupyter-widgets/controls",
      "model_module_version": "1.5.0",
      "model_name": "FloatProgressModel",
      "state": {
       "_dom_classes": [],
       "_model_module": "@jupyter-widgets/controls",
       "_model_module_version": "1.5.0",
       "_model_name": "FloatProgressModel",
       "_view_count": null,
       "_view_module": "@jupyter-widgets/controls",
       "_view_module_version": "1.5.0",
       "_view_name": "ProgressView",
       "bar_style": "success",
       "description": "",
       "description_tooltip": null,
       "layout": "IPY_MODEL_e81867e6a2964e7592f0b5660b541f2f",
       "max": 300.0,
       "min": 0.0,
       "orientation": "horizontal",
       "style": "IPY_MODEL_a6e60d24fb064aa091733d6488caaddf",
       "value": 300.0
      }
     },
     "afbff75135d94ad7802ac93ea6ca15f0": {
      "model_module": "@jupyter-widgets/controls",
      "model_module_version": "1.5.0",
      "model_name": "HBoxModel",
      "state": {
       "_dom_classes": [],
       "_model_module": "@jupyter-widgets/controls",
       "_model_module_version": "1.5.0",
       "_model_name": "HBoxModel",
       "_view_count": null,
       "_view_module": "@jupyter-widgets/controls",
       "_view_module_version": "1.5.0",
       "_view_name": "HBoxView",
       "box_style": "",
       "children": [
        "IPY_MODEL_2d247a24ee08417d8b48df8ba4c88ded",
        "IPY_MODEL_a9288c21134a416f8514aaf04c89892f",
        "IPY_MODEL_59e9994c7f3f4b299fc5a71186bb9935"
       ],
       "layout": "IPY_MODEL_34b93e0b1305442ea57216387344662c"
      }
     },
     "b7cee6cd4ba44940ae5a3de4f49e1d3b": {
      "model_module": "@jupyter-widgets/controls",
      "model_module_version": "1.5.0",
      "model_name": "FloatProgressModel",
      "state": {
       "_dom_classes": [],
       "_model_module": "@jupyter-widgets/controls",
       "_model_module_version": "1.5.0",
       "_model_name": "FloatProgressModel",
       "_view_count": null,
       "_view_module": "@jupyter-widgets/controls",
       "_view_module_version": "1.5.0",
       "_view_name": "ProgressView",
       "bar_style": "success",
       "description": "",
       "description_tooltip": null,
       "layout": "IPY_MODEL_8977d88014044c6788a98acc2d2907ca",
       "max": 1261942732.0,
       "min": 0.0,
       "orientation": "horizontal",
       "style": "IPY_MODEL_874c2570ee2349bf8f3803c2dc65bf8e",
       "value": 1261942732.0
      }
     },
     "c3b162b2352a4264a09f6340ce4b9e05": {
      "model_module": "@jupyter-widgets/base",
      "model_module_version": "1.2.0",
      "model_name": "LayoutModel",
      "state": {
       "_model_module": "@jupyter-widgets/base",
       "_model_module_version": "1.2.0",
       "_model_name": "LayoutModel",
       "_view_count": null,
       "_view_module": "@jupyter-widgets/base",
       "_view_module_version": "1.2.0",
       "_view_name": "LayoutView",
       "align_content": null,
       "align_items": null,
       "align_self": null,
       "border": null,
       "bottom": null,
       "display": null,
       "flex": null,
       "flex_flow": null,
       "grid_area": null,
       "grid_auto_columns": null,
       "grid_auto_flow": null,
       "grid_auto_rows": null,
       "grid_column": null,
       "grid_gap": null,
       "grid_row": null,
       "grid_template_areas": null,
       "grid_template_columns": null,
       "grid_template_rows": null,
       "height": null,
       "justify_content": null,
       "justify_items": null,
       "left": null,
       "margin": null,
       "max_height": null,
       "max_width": null,
       "min_height": null,
       "min_width": null,
       "object_fit": null,
       "object_position": null,
       "order": null,
       "overflow": null,
       "overflow_x": null,
       "overflow_y": null,
       "padding": null,
       "right": null,
       "top": null,
       "visibility": null,
       "width": null
      }
     },
     "c3efe10e03f24209b5f3c855ae76532a": {
      "model_module": "@jupyter-widgets/controls",
      "model_module_version": "1.5.0",
      "model_name": "HTMLModel",
      "state": {
       "_dom_classes": [],
       "_model_module": "@jupyter-widgets/controls",
       "_model_module_version": "1.5.0",
       "_model_name": "HTMLModel",
       "_view_count": null,
       "_view_module": "@jupyter-widgets/controls",
       "_view_module_version": "1.5.0",
       "_view_name": "HTMLView",
       "description": "",
       "description_tooltip": null,
       "layout": "IPY_MODEL_8b11d804b33b483dabd1bdf76c8439a9",
       "placeholder": "​",
       "style": "IPY_MODEL_26598e8e582a4fff912144f6ee464cd3",
       "value": "model.safetensors: 100%"
      }
     },
     "c715792b0b164d46b1acd75155ef4419": {
      "model_module": "@jupyter-widgets/base",
      "model_module_version": "1.2.0",
      "model_name": "LayoutModel",
      "state": {
       "_model_module": "@jupyter-widgets/base",
       "_model_module_version": "1.2.0",
       "_model_name": "LayoutModel",
       "_view_count": null,
       "_view_module": "@jupyter-widgets/base",
       "_view_module_version": "1.2.0",
       "_view_name": "LayoutView",
       "align_content": null,
       "align_items": null,
       "align_self": null,
       "border": null,
       "bottom": null,
       "display": null,
       "flex": null,
       "flex_flow": null,
       "grid_area": null,
       "grid_auto_columns": null,
       "grid_auto_flow": null,
       "grid_auto_rows": null,
       "grid_column": null,
       "grid_gap": null,
       "grid_row": null,
       "grid_template_areas": null,
       "grid_template_columns": null,
       "grid_template_rows": null,
       "height": null,
       "justify_content": null,
       "justify_items": null,
       "left": null,
       "margin": null,
       "max_height": null,
       "max_width": null,
       "min_height": null,
       "min_width": null,
       "object_fit": null,
       "object_position": null,
       "order": null,
       "overflow": null,
       "overflow_x": null,
       "overflow_y": null,
       "padding": null,
       "right": null,
       "top": null,
       "visibility": null,
       "width": null
      }
     },
     "c7fa5a67830e472c99cbce3cebe273a7": {
      "model_module": "@jupyter-widgets/controls",
      "model_module_version": "1.5.0",
      "model_name": "HTMLModel",
      "state": {
       "_dom_classes": [],
       "_model_module": "@jupyter-widgets/controls",
       "_model_module_version": "1.5.0",
       "_model_name": "HTMLModel",
       "_view_count": null,
       "_view_module": "@jupyter-widgets/controls",
       "_view_module_version": "1.5.0",
       "_view_name": "HTMLView",
       "description": "",
       "description_tooltip": null,
       "layout": "IPY_MODEL_c3b162b2352a4264a09f6340ce4b9e05",
       "placeholder": "​",
       "style": "IPY_MODEL_08251c6a3840447cbd19da65150edda2",
       "value": " 262/262 [00:00&lt;00:00, 23.6kB/s]"
      }
     },
     "cd157656a78c4607b86d1310f26553b9": {
      "model_module": "@jupyter-widgets/base",
      "model_module_version": "1.2.0",
      "model_name": "LayoutModel",
      "state": {
       "_model_module": "@jupyter-widgets/base",
       "_model_module_version": "1.2.0",
       "_model_name": "LayoutModel",
       "_view_count": null,
       "_view_module": "@jupyter-widgets/base",
       "_view_module_version": "1.2.0",
       "_view_name": "LayoutView",
       "align_content": null,
       "align_items": null,
       "align_self": null,
       "border": null,
       "bottom": null,
       "display": null,
       "flex": null,
       "flex_flow": null,
       "grid_area": null,
       "grid_auto_columns": null,
       "grid_auto_flow": null,
       "grid_auto_rows": null,
       "grid_column": null,
       "grid_gap": null,
       "grid_row": null,
       "grid_template_areas": null,
       "grid_template_columns": null,
       "grid_template_rows": null,
       "height": null,
       "justify_content": null,
       "justify_items": null,
       "left": null,
       "margin": null,
       "max_height": null,
       "max_width": null,
       "min_height": null,
       "min_width": null,
       "object_fit": null,
       "object_position": null,
       "order": null,
       "overflow": null,
       "overflow_x": null,
       "overflow_y": null,
       "padding": null,
       "right": null,
       "top": null,
       "visibility": null,
       "width": null
      }
     },
     "d2366c5370f3416cb2b7650b1d525f4f": {
      "model_module": "@jupyter-widgets/controls",
      "model_module_version": "1.5.0",
      "model_name": "DescriptionStyleModel",
      "state": {
       "_model_module": "@jupyter-widgets/controls",
       "_model_module_version": "1.5.0",
       "_model_name": "DescriptionStyleModel",
       "_view_count": null,
       "_view_module": "@jupyter-widgets/base",
       "_view_module_version": "1.2.0",
       "_view_name": "StyleView",
       "description_width": ""
      }
     },
     "d48d72cf8a094573858775b597f332d5": {
      "model_module": "@jupyter-widgets/controls",
      "model_module_version": "1.5.0",
      "model_name": "HTMLModel",
      "state": {
       "_dom_classes": [],
       "_model_module": "@jupyter-widgets/controls",
       "_model_module_version": "1.5.0",
       "_model_name": "HTMLModel",
       "_view_count": null,
       "_view_module": "@jupyter-widgets/controls",
       "_view_module_version": "1.5.0",
       "_view_name": "HTMLView",
       "description": "",
       "description_tooltip": null,
       "layout": "IPY_MODEL_45b7eeff0e2140939fb9f10a41f1789a",
       "placeholder": "​",
       "style": "IPY_MODEL_d2366c5370f3416cb2b7650b1d525f4f",
       "value": "preprocessor_config.json: 100%"
      }
     },
     "d714decc1e7c49b681478b6066b6092a": {
      "model_module": "@jupyter-widgets/controls",
      "model_module_version": "1.5.0",
      "model_name": "FloatProgressModel",
      "state": {
       "_dom_classes": [],
       "_model_module": "@jupyter-widgets/controls",
       "_model_module_version": "1.5.0",
       "_model_name": "FloatProgressModel",
       "_view_count": null,
       "_view_module": "@jupyter-widgets/controls",
       "_view_module_version": "1.5.0",
       "_view_name": "ProgressView",
       "bar_style": "success",
       "description": "",
       "description_tooltip": null,
       "layout": "IPY_MODEL_99843360f94a4a3d95f80acf74d6b139",
       "max": 262.0,
       "min": 0.0,
       "orientation": "horizontal",
       "style": "IPY_MODEL_8356ebba76e14598ab5373300f756007",
       "value": 262.0
      }
     },
     "deda4f33fab74f9bbc475d2f9e7e3205": {
      "model_module": "@jupyter-widgets/controls",
      "model_module_version": "1.5.0",
      "model_name": "HTMLModel",
      "state": {
       "_dom_classes": [],
       "_model_module": "@jupyter-widgets/controls",
       "_model_module_version": "1.5.0",
       "_model_name": "HTMLModel",
       "_view_count": null,
       "_view_module": "@jupyter-widgets/controls",
       "_view_module_version": "1.5.0",
       "_view_name": "HTMLView",
       "description": "",
       "description_tooltip": null,
       "layout": "IPY_MODEL_c715792b0b164d46b1acd75155ef4419",
       "placeholder": "​",
       "style": "IPY_MODEL_ef26fe28f3214334ad405c4909a1386e",
       "value": " 1.53k/1.53k [00:00&lt;00:00, 146kB/s]"
      }
     },
     "e02b6854ed9940588f375623b5fd733e": {
      "model_module": "@jupyter-widgets/base",
      "model_module_version": "1.2.0",
      "model_name": "LayoutModel",
      "state": {
       "_model_module": "@jupyter-widgets/base",
       "_model_module_version": "1.2.0",
       "_model_name": "LayoutModel",
       "_view_count": null,
       "_view_module": "@jupyter-widgets/base",
       "_view_module_version": "1.2.0",
       "_view_name": "LayoutView",
       "align_content": null,
       "align_items": null,
       "align_self": null,
       "border": null,
       "bottom": null,
       "display": null,
       "flex": null,
       "flex_flow": null,
       "grid_area": null,
       "grid_auto_columns": null,
       "grid_auto_flow": null,
       "grid_auto_rows": null,
       "grid_column": null,
       "grid_gap": null,
       "grid_row": null,
       "grid_template_areas": null,
       "grid_template_columns": null,
       "grid_template_rows": null,
       "height": null,
       "justify_content": null,
       "justify_items": null,
       "left": null,
       "margin": null,
       "max_height": null,
       "max_width": null,
       "min_height": null,
       "min_width": null,
       "object_fit": null,
       "object_position": null,
       "order": null,
       "overflow": null,
       "overflow_x": null,
       "overflow_y": null,
       "padding": null,
       "right": null,
       "top": null,
       "visibility": null,
       "width": null
      }
     },
     "e81867e6a2964e7592f0b5660b541f2f": {
      "model_module": "@jupyter-widgets/base",
      "model_module_version": "1.2.0",
      "model_name": "LayoutModel",
      "state": {
       "_model_module": "@jupyter-widgets/base",
       "_model_module_version": "1.2.0",
       "_model_name": "LayoutModel",
       "_view_count": null,
       "_view_module": "@jupyter-widgets/base",
       "_view_module_version": "1.2.0",
       "_view_name": "LayoutView",
       "align_content": null,
       "align_items": null,
       "align_self": null,
       "border": null,
       "bottom": null,
       "display": null,
       "flex": null,
       "flex_flow": null,
       "grid_area": null,
       "grid_auto_columns": null,
       "grid_auto_flow": null,
       "grid_auto_rows": null,
       "grid_column": null,
       "grid_gap": null,
       "grid_row": null,
       "grid_template_areas": null,
       "grid_template_columns": null,
       "grid_template_rows": null,
       "height": null,
       "justify_content": null,
       "justify_items": null,
       "left": null,
       "margin": null,
       "max_height": null,
       "max_width": null,
       "min_height": null,
       "min_width": null,
       "object_fit": null,
       "object_position": null,
       "order": null,
       "overflow": null,
       "overflow_x": null,
       "overflow_y": null,
       "padding": null,
       "right": null,
       "top": null,
       "visibility": null,
       "width": null
      }
     },
     "ef26fe28f3214334ad405c4909a1386e": {
      "model_module": "@jupyter-widgets/controls",
      "model_module_version": "1.5.0",
      "model_name": "DescriptionStyleModel",
      "state": {
       "_model_module": "@jupyter-widgets/controls",
       "_model_module_version": "1.5.0",
       "_model_name": "DescriptionStyleModel",
       "_view_count": null,
       "_view_module": "@jupyter-widgets/base",
       "_view_module_version": "1.2.0",
       "_view_name": "StyleView",
       "description_width": ""
      }
     },
     "fc11ce1d2be04c37ac19af1efcdfd749": {
      "model_module": "@jupyter-widgets/controls",
      "model_module_version": "1.5.0",
      "model_name": "FloatProgressModel",
      "state": {
       "_dom_classes": [],
       "_model_module": "@jupyter-widgets/controls",
       "_model_module_version": "1.5.0",
       "_model_name": "FloatProgressModel",
       "_view_count": null,
       "_view_module": "@jupyter-widgets/controls",
       "_view_module_version": "1.5.0",
       "_view_name": "ProgressView",
       "bar_style": "success",
       "description": "",
       "description_tooltip": null,
       "layout": "IPY_MODEL_e02b6854ed9940588f375623b5fd733e",
       "max": 85.0,
       "min": 0.0,
       "orientation": "horizontal",
       "style": "IPY_MODEL_6e52196023b44203b602ac203d401596",
       "value": 85.0
      }
     }
    },
    "version_major": 2,
    "version_minor": 0
   }
  }
 },
 "nbformat": 4,
 "nbformat_minor": 5
}

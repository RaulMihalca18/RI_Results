{
 "cells": [
  {
   "cell_type": "code",
   "execution_count": 1,
   "id": "50f686ea",
   "metadata": {
    "execution": {
     "iopub.execute_input": "2024-11-20T14:53:16.047619Z",
     "iopub.status.busy": "2024-11-20T14:53:16.047197Z",
     "iopub.status.idle": "2024-11-20T14:54:37.485051Z",
     "shell.execute_reply": "2024-11-20T14:54:37.484222Z"
    },
    "papermill": {
     "duration": 81.44806,
     "end_time": "2024-11-20T14:54:37.487217",
     "exception": false,
     "start_time": "2024-11-20T14:53:16.039157",
     "status": "completed"
    },
    "tags": []
   },
   "outputs": [
    {
     "name": "stdout",
     "output_type": "stream",
     "text": [
      "\u001b[33mDEPRECATION: git+https://github.com/NVIDIA/NeMo.git@r1.23.0#egg=nemo_toolkit[asr] contains an egg fragment with a non-PEP 508 name pip 25.0 will enforce this behaviour change. A possible replacement is to use the req @ url syntax, and remove the egg fragment. Discussion can be found at https://github.com/pypa/pip/issues/11617\u001b[0m\u001b[33m\r\n",
      "\u001b[0mCollecting nemo_toolkit (from nemo_toolkit[asr])\r\n",
      "  Cloning https://github.com/NVIDIA/NeMo.git (to revision r1.23.0) to /tmp/pip-install-p9xkovee/nemo-toolkit_6d9be7ea6aa942febd97529378aa001d\r\n",
      "  Running command git clone --filter=blob:none --quiet https://github.com/NVIDIA/NeMo.git /tmp/pip-install-p9xkovee/nemo-toolkit_6d9be7ea6aa942febd97529378aa001d\r\n",
      "  Running command git checkout -b r1.23.0 --track origin/r1.23.0\r\n",
      "  Switched to a new branch 'r1.23.0'\r\n",
      "  Branch 'r1.23.0' set up to track remote branch 'r1.23.0' from 'origin'.\r\n",
      "  Resolved https://github.com/NVIDIA/NeMo.git to commit e772dbf53145a7b45f13440cf6e0ef51035f80dc\r\n",
      "  Installing build dependencies ... \u001b[?25l-\b \b\\\b \b|\b \b/\b \bdone\r\n",
      "\u001b[?25h  Getting requirements to build wheel ... \u001b[?25l-\b \b\\\b \bdone\r\n",
      "\u001b[?25h  Preparing metadata (pyproject.toml) ... \u001b[?25l-\b \b\\\b \bdone\r\n",
      "\u001b[?25hRequirement already satisfied: huggingface-hub in /opt/conda/lib/python3.10/site-packages (from nemo_toolkit->nemo_toolkit[asr]) (0.25.1)\r\n",
      "Requirement already satisfied: numba in /opt/conda/lib/python3.10/site-packages (from nemo_toolkit->nemo_toolkit[asr]) (0.60.0)\r\n",
      "Requirement already satisfied: numpy>=1.22 in /opt/conda/lib/python3.10/site-packages (from nemo_toolkit->nemo_toolkit[asr]) (1.26.4)\r\n",
      "Requirement already satisfied: onnx>=1.7.0 in /opt/conda/lib/python3.10/site-packages (from nemo_toolkit->nemo_toolkit[asr]) (1.17.0)\r\n",
      "Requirement already satisfied: python-dateutil in /opt/conda/lib/python3.10/site-packages (from nemo_toolkit->nemo_toolkit[asr]) (2.9.0.post0)\r\n",
      "Requirement already satisfied: ruamel.yaml in /opt/conda/lib/python3.10/site-packages (from nemo_toolkit->nemo_toolkit[asr]) (0.18.6)\r\n",
      "Requirement already satisfied: scikit-learn in /opt/conda/lib/python3.10/site-packages (from nemo_toolkit->nemo_toolkit[asr]) (1.2.2)\r\n",
      "Requirement already satisfied: setuptools>=65.5.1 in /opt/conda/lib/python3.10/site-packages (from nemo_toolkit->nemo_toolkit[asr]) (70.0.0)\r\n",
      "Requirement already satisfied: tensorboard in /opt/conda/lib/python3.10/site-packages (from nemo_toolkit->nemo_toolkit[asr]) (2.16.2)\r\n",
      "Requirement already satisfied: text-unidecode in /opt/conda/lib/python3.10/site-packages (from nemo_toolkit->nemo_toolkit[asr]) (1.3)\r\n",
      "Requirement already satisfied: torch in /opt/conda/lib/python3.10/site-packages (from nemo_toolkit->nemo_toolkit[asr]) (2.4.0)\r\n",
      "Requirement already satisfied: tqdm>=4.41.0 in /opt/conda/lib/python3.10/site-packages (from nemo_toolkit->nemo_toolkit[asr]) (4.66.4)\r\n",
      "Collecting triton (from nemo_toolkit->nemo_toolkit[asr])\r\n",
      "  Downloading triton-3.1.0-cp310-cp310-manylinux_2_17_x86_64.manylinux2014_x86_64.whl.metadata (1.3 kB)\r\n",
      "Collecting wget (from nemo_toolkit->nemo_toolkit[asr])\r\n",
      "  Downloading wget-3.2.zip (10 kB)\r\n",
      "  Preparing metadata (setup.py) ... \u001b[?25l-\b \bdone\r\n",
      "\u001b[?25hRequirement already satisfied: wrapt in /opt/conda/lib/python3.10/site-packages (from nemo_toolkit->nemo_toolkit[asr]) (1.16.0)\r\n",
      "Collecting braceexpand (from nemo_toolkit->nemo_toolkit[asr])\r\n",
      "  Downloading braceexpand-0.1.7-py2.py3-none-any.whl.metadata (3.0 kB)\r\n",
      "Collecting editdistance (from nemo_toolkit->nemo_toolkit[asr])\r\n",
      "  Downloading editdistance-0.8.1-cp310-cp310-manylinux_2_17_x86_64.manylinux2014_x86_64.whl.metadata (3.9 kB)\r\n",
      "Collecting g2p-en (from nemo_toolkit->nemo_toolkit[asr])\r\n",
      "  Downloading g2p_en-2.1.0-py3-none-any.whl.metadata (4.5 kB)\r\n",
      "Requirement already satisfied: ipywidgets in /opt/conda/lib/python3.10/site-packages (from nemo_toolkit->nemo_toolkit[asr]) (7.7.1)\r\n",
      "Collecting jiwer (from nemo_toolkit->nemo_toolkit[asr])\r\n",
      "  Downloading jiwer-3.0.5-py3-none-any.whl.metadata (2.7 kB)\r\n",
      "Collecting kaldi-python-io (from nemo_toolkit->nemo_toolkit[asr])\r\n",
      "  Downloading kaldi-python-io-1.2.2.tar.gz (8.8 kB)\r\n",
      "  Preparing metadata (setup.py) ... \u001b[?25l-\b \bdone\r\n",
      "\u001b[?25hCollecting kaldiio (from nemo_toolkit->nemo_toolkit[asr])\r\n",
      "  Downloading kaldiio-2.18.0-py3-none-any.whl.metadata (13 kB)\r\n",
      "Collecting lhotse>=1.20.0 (from nemo_toolkit->nemo_toolkit[asr])\r\n",
      "  Downloading lhotse-1.28.0-py3-none-any.whl.metadata (17 kB)\r\n",
      "Requirement already satisfied: librosa>=0.10.0 in /opt/conda/lib/python3.10/site-packages (from nemo_toolkit->nemo_toolkit[asr]) (0.10.2.post1)\r\n",
      "Requirement already satisfied: marshmallow in /opt/conda/lib/python3.10/site-packages (from nemo_toolkit->nemo_toolkit[asr]) (3.22.0)\r\n",
      "Requirement already satisfied: matplotlib in /opt/conda/lib/python3.10/site-packages (from nemo_toolkit->nemo_toolkit[asr]) (3.7.5)\r\n",
      "Requirement already satisfied: packaging in /opt/conda/lib/python3.10/site-packages (from nemo_toolkit->nemo_toolkit[asr]) (21.3)\r\n",
      "Collecting pyannote.core (from nemo_toolkit->nemo_toolkit[asr])\r\n",
      "  Downloading pyannote.core-5.0.0-py3-none-any.whl.metadata (1.4 kB)\r\n",
      "Collecting pyannote.metrics (from nemo_toolkit->nemo_toolkit[asr])\r\n",
      "  Downloading pyannote.metrics-3.2.1-py3-none-any.whl.metadata (1.3 kB)\r\n",
      "Requirement already satisfied: pydub in /opt/conda/lib/python3.10/site-packages (from nemo_toolkit->nemo_toolkit[asr]) (0.25.1)\r\n",
      "Collecting pyloudnorm (from nemo_toolkit->nemo_toolkit[asr])\r\n",
      "  Downloading pyloudnorm-0.1.1-py3-none-any.whl.metadata (5.6 kB)\r\n",
      "Collecting resampy (from nemo_toolkit->nemo_toolkit[asr])\r\n",
      "  Downloading resampy-0.4.3-py3-none-any.whl.metadata (3.0 kB)\r\n",
      "Requirement already satisfied: scipy>=0.14 in /opt/conda/lib/python3.10/site-packages (from nemo_toolkit->nemo_toolkit[asr]) (1.14.1)\r\n",
      "Requirement already satisfied: soundfile in /opt/conda/lib/python3.10/site-packages (from nemo_toolkit->nemo_toolkit[asr]) (0.12.1)\r\n",
      "Collecting sox (from nemo_toolkit->nemo_toolkit[asr])\r\n",
      "  Downloading sox-1.5.0.tar.gz (63 kB)\r\n",
      "\u001b[2K     \u001b[90m━━━━━━━━━━━━━━━━━━━━━━━━━━━━━━━━━━━━━━━━\u001b[0m \u001b[32m63.9/63.9 kB\u001b[0m \u001b[31m2.6 MB/s\u001b[0m eta \u001b[36m0:00:00\u001b[0m\r\n",
      "\u001b[?25h  Preparing metadata (setup.py) ... \u001b[?25l-\b \b\\\b \bdone\r\n",
      "\u001b[?25hCollecting texterrors (from nemo_toolkit->nemo_toolkit[asr])\r\n",
      "  Downloading texterrors-0.5.1.tar.gz (23 kB)\r\n",
      "  Preparing metadata (setup.py) ... \u001b[?25l-\b \b\\\b \bdone\r\n",
      "\u001b[?25hCollecting hydra-core<=1.3.2,>1.3 (from nemo_toolkit->nemo_toolkit[asr])\r\n",
      "  Downloading hydra_core-1.3.2-py3-none-any.whl.metadata (5.5 kB)\r\n",
      "Collecting omegaconf<=2.3 (from nemo_toolkit->nemo_toolkit[asr])\r\n",
      "  Downloading omegaconf-2.3.0-py3-none-any.whl.metadata (3.9 kB)\r\n",
      "Collecting pytorch-lightning<=2.0.7,>=2.0 (from nemo_toolkit->nemo_toolkit[asr])\r\n",
      "  Downloading pytorch_lightning-2.0.7-py3-none-any.whl.metadata (23 kB)\r\n",
      "Requirement already satisfied: torchmetrics>=0.11.0 in /opt/conda/lib/python3.10/site-packages (from nemo_toolkit->nemo_toolkit[asr]) (1.4.2)\r\n",
      "Requirement already satisfied: transformers>=4.36.0 in /opt/conda/lib/python3.10/site-packages (from nemo_toolkit->nemo_toolkit[asr]) (4.45.1)\r\n",
      "Requirement already satisfied: wandb in /opt/conda/lib/python3.10/site-packages (from nemo_toolkit->nemo_toolkit[asr]) (0.18.3)\r\n",
      "Collecting webdataset<=0.1.62,>=0.1.48 (from nemo_toolkit->nemo_toolkit[asr])\r\n",
      "  Downloading webdataset-0.1.62-py3-none-any.whl.metadata (5.7 kB)\r\n",
      "Requirement already satisfied: datasets in /opt/conda/lib/python3.10/site-packages (from nemo_toolkit->nemo_toolkit[asr]) (3.0.1)\r\n",
      "Collecting inflect (from nemo_toolkit->nemo_toolkit[asr])\r\n",
      "  Downloading inflect-7.4.0-py3-none-any.whl.metadata (21 kB)\r\n",
      "Requirement already satisfied: pandas in /opt/conda/lib/python3.10/site-packages (from nemo_toolkit->nemo_toolkit[asr]) (2.2.2)\r\n",
      "Collecting sacremoses>=0.0.43 (from nemo_toolkit->nemo_toolkit[asr])\r\n",
      "  Downloading sacremoses-0.1.1-py3-none-any.whl.metadata (8.3 kB)\r\n",
      "Requirement already satisfied: sentencepiece<1.0.0 in /opt/conda/lib/python3.10/site-packages (from nemo_toolkit->nemo_toolkit[asr]) (0.2.0)\r\n",
      "Collecting youtokentome>=1.0.5 (from nemo_toolkit->nemo_toolkit[asr])\r\n",
      "  Downloading youtokentome-1.0.6.tar.gz (86 kB)\r\n",
      "\u001b[2K     \u001b[90m━━━━━━━━━━━━━━━━━━━━━━━━━━━━━━━━━━━━━━━━\u001b[0m \u001b[32m86.7/86.7 kB\u001b[0m \u001b[31m5.3 MB/s\u001b[0m eta \u001b[36m0:00:00\u001b[0m\r\n",
      "\u001b[?25h  Preparing metadata (setup.py) ... \u001b[?25l-\b \b\\\b \b|\b \bdone\r\n",
      "\u001b[?25hCollecting antlr4-python3-runtime==4.9.* (from hydra-core<=1.3.2,>1.3->nemo_toolkit->nemo_toolkit[asr])\r\n",
      "  Downloading antlr4-python3-runtime-4.9.3.tar.gz (117 kB)\r\n",
      "\u001b[2K     \u001b[90m━━━━━━━━━━━━━━━━━━━━━━━━━━━━━━━━━━━━━━━\u001b[0m \u001b[32m117.0/117.0 kB\u001b[0m \u001b[31m8.1 MB/s\u001b[0m eta \u001b[36m0:00:00\u001b[0m\r\n",
      "\u001b[?25h  Preparing metadata (setup.py) ... \u001b[?25l-\b \bdone\r\n",
      "\u001b[?25hRequirement already satisfied: audioread>=2.1.9 in /opt/conda/lib/python3.10/site-packages (from lhotse>=1.20.0->nemo_toolkit->nemo_toolkit[asr]) (3.0.1)\r\n",
      "Requirement already satisfied: click>=7.1.1 in /opt/conda/lib/python3.10/site-packages (from lhotse>=1.20.0->nemo_toolkit->nemo_toolkit[asr]) (8.1.7)\r\n",
      "Requirement already satisfied: cytoolz>=0.10.1 in /opt/conda/lib/python3.10/site-packages (from lhotse>=1.20.0->nemo_toolkit->nemo_toolkit[asr]) (0.12.3)\r\n",
      "Collecting intervaltree>=3.1.0 (from lhotse>=1.20.0->nemo_toolkit->nemo_toolkit[asr])\r\n",
      "  Downloading intervaltree-3.1.0.tar.gz (32 kB)\r\n",
      "  Preparing metadata (setup.py) ... \u001b[?25l-\b \bdone\r\n",
      "\u001b[?25hRequirement already satisfied: pyyaml>=5.3.1 in /opt/conda/lib/python3.10/site-packages (from lhotse>=1.20.0->nemo_toolkit->nemo_toolkit[asr]) (6.0.2)\r\n",
      "Requirement already satisfied: tabulate>=0.8.1 in /opt/conda/lib/python3.10/site-packages (from lhotse>=1.20.0->nemo_toolkit->nemo_toolkit[asr]) (0.9.0)\r\n",
      "Collecting lilcom>=1.1.0 (from lhotse>=1.20.0->nemo_toolkit->nemo_toolkit[asr])\r\n",
      "  Downloading lilcom-1.8.0-cp310-cp310-manylinux_2_17_x86_64.manylinux2014_x86_64.whl.metadata (3.0 kB)\r\n",
      "Requirement already satisfied: joblib>=0.14 in /opt/conda/lib/python3.10/site-packages (from librosa>=0.10.0->nemo_toolkit->nemo_toolkit[asr]) (1.4.2)\r\n",
      "Requirement already satisfied: decorator>=4.3.0 in /opt/conda/lib/python3.10/site-packages (from librosa>=0.10.0->nemo_toolkit->nemo_toolkit[asr]) (5.1.1)\r\n",
      "Requirement already satisfied: pooch>=1.1 in /opt/conda/lib/python3.10/site-packages (from librosa>=0.10.0->nemo_toolkit->nemo_toolkit[asr]) (1.8.2)\r\n",
      "Requirement already satisfied: soxr>=0.3.2 in /opt/conda/lib/python3.10/site-packages (from librosa>=0.10.0->nemo_toolkit->nemo_toolkit[asr]) (0.5.0.post1)\r\n",
      "Requirement already satisfied: typing-extensions>=4.1.1 in /opt/conda/lib/python3.10/site-packages (from librosa>=0.10.0->nemo_toolkit->nemo_toolkit[asr]) (4.12.2)\r\n",
      "Requirement already satisfied: lazy-loader>=0.1 in /opt/conda/lib/python3.10/site-packages (from librosa>=0.10.0->nemo_toolkit->nemo_toolkit[asr]) (0.4)\r\n",
      "Requirement already satisfied: msgpack>=1.0 in /opt/conda/lib/python3.10/site-packages (from librosa>=0.10.0->nemo_toolkit->nemo_toolkit[asr]) (1.0.8)\r\n",
      "Requirement already satisfied: llvmlite<0.44,>=0.43.0dev0 in /opt/conda/lib/python3.10/site-packages (from numba->nemo_toolkit->nemo_toolkit[asr]) (0.43.0)\r\n",
      "Requirement already satisfied: protobuf>=3.20.2 in /opt/conda/lib/python3.10/site-packages (from onnx>=1.7.0->nemo_toolkit->nemo_toolkit[asr]) (3.20.3)\r\n",
      "Requirement already satisfied: fsspec>2021.06.0 in /opt/conda/lib/python3.10/site-packages (from fsspec[http]>2021.06.0->pytorch-lightning<=2.0.7,>=2.0->nemo_toolkit->nemo_toolkit[asr]) (2024.6.1)\r\n",
      "Requirement already satisfied: lightning-utilities>=0.7.0 in /opt/conda/lib/python3.10/site-packages (from pytorch-lightning<=2.0.7,>=2.0->nemo_toolkit->nemo_toolkit[asr]) (0.11.7)\r\n",
      "Requirement already satisfied: pyparsing!=3.0.5,>=2.0.2 in /opt/conda/lib/python3.10/site-packages (from packaging->nemo_toolkit->nemo_toolkit[asr]) (3.1.2)\r\n",
      "Requirement already satisfied: regex in /opt/conda/lib/python3.10/site-packages (from sacremoses>=0.0.43->nemo_toolkit->nemo_toolkit[asr]) (2024.5.15)\r\n",
      "Requirement already satisfied: threadpoolctl>=2.0.0 in /opt/conda/lib/python3.10/site-packages (from scikit-learn->nemo_toolkit->nemo_toolkit[asr]) (3.5.0)\r\n",
      "Requirement already satisfied: cffi>=1.0 in /opt/conda/lib/python3.10/site-packages (from soundfile->nemo_toolkit->nemo_toolkit[asr]) (1.16.0)\r\n",
      "Requirement already satisfied: filelock in /opt/conda/lib/python3.10/site-packages (from torch->nemo_toolkit->nemo_toolkit[asr]) (3.15.1)\r\n",
      "Requirement already satisfied: sympy in /opt/conda/lib/python3.10/site-packages (from torch->nemo_toolkit->nemo_toolkit[asr]) (1.13.3)\r\n",
      "Requirement already satisfied: networkx in /opt/conda/lib/python3.10/site-packages (from torch->nemo_toolkit->nemo_toolkit[asr]) (3.3)\r\n",
      "Requirement already satisfied: jinja2 in /opt/conda/lib/python3.10/site-packages (from torch->nemo_toolkit->nemo_toolkit[asr]) (3.1.4)\r\n",
      "Requirement already satisfied: requests in /opt/conda/lib/python3.10/site-packages (from transformers>=4.36.0->nemo_toolkit->nemo_toolkit[asr]) (2.32.3)\r\n",
      "Requirement already satisfied: safetensors>=0.4.1 in /opt/conda/lib/python3.10/site-packages (from transformers>=4.36.0->nemo_toolkit->nemo_toolkit[asr]) (0.4.5)\r\n",
      "Requirement already satisfied: tokenizers<0.21,>=0.20 in /opt/conda/lib/python3.10/site-packages (from transformers>=4.36.0->nemo_toolkit->nemo_toolkit[asr]) (0.20.0)\r\n",
      "Requirement already satisfied: pyarrow>=15.0.0 in /opt/conda/lib/python3.10/site-packages (from datasets->nemo_toolkit->nemo_toolkit[asr]) (16.1.0)\r\n",
      "Requirement already satisfied: dill<0.3.9,>=0.3.0 in /opt/conda/lib/python3.10/site-packages (from datasets->nemo_toolkit->nemo_toolkit[asr]) (0.3.8)\r\n",
      "Requirement already satisfied: xxhash in /opt/conda/lib/python3.10/site-packages (from datasets->nemo_toolkit->nemo_toolkit[asr]) (3.4.1)\r\n",
      "Requirement already satisfied: multiprocess in /opt/conda/lib/python3.10/site-packages (from datasets->nemo_toolkit->nemo_toolkit[asr]) (0.70.16)\r\n",
      "Requirement already satisfied: aiohttp in /opt/conda/lib/python3.10/site-packages (from datasets->nemo_toolkit->nemo_toolkit[asr]) (3.9.5)\r\n",
      "Requirement already satisfied: nltk>=3.2.4 in /opt/conda/lib/python3.10/site-packages (from g2p-en->nemo_toolkit->nemo_toolkit[asr]) (3.2.4)\r\n",
      "Collecting distance>=0.1.3 (from g2p-en->nemo_toolkit->nemo_toolkit[asr])\r\n",
      "  Downloading Distance-0.1.3.tar.gz (180 kB)\r\n",
      "\u001b[2K     \u001b[90m━━━━━━━━━━━━━━━━━━━━━━━━━━━━━━━━━━━━━━\u001b[0m \u001b[32m180.3/180.3 kB\u001b[0m \u001b[31m11.3 MB/s\u001b[0m eta \u001b[36m0:00:00\u001b[0m\r\n",
      "\u001b[?25h  Preparing metadata (setup.py) ... \u001b[?25l-\b \bdone\r\n",
      "\u001b[?25hRequirement already satisfied: more-itertools>=8.5.0 in /opt/conda/lib/python3.10/site-packages (from inflect->nemo_toolkit->nemo_toolkit[asr]) (10.3.0)\r\n",
      "Requirement already satisfied: typeguard>=4.0.1 in /opt/conda/lib/python3.10/site-packages (from inflect->nemo_toolkit->nemo_toolkit[asr]) (4.3.0)\r\n",
      "Requirement already satisfied: ipykernel>=4.5.1 in /opt/conda/lib/python3.10/site-packages (from ipywidgets->nemo_toolkit->nemo_toolkit[asr]) (6.29.4)\r\n",
      "Requirement already satisfied: ipython-genutils~=0.2.0 in /opt/conda/lib/python3.10/site-packages (from ipywidgets->nemo_toolkit->nemo_toolkit[asr]) (0.2.0)\r\n",
      "Requirement already satisfied: traitlets>=4.3.1 in /opt/conda/lib/python3.10/site-packages (from ipywidgets->nemo_toolkit->nemo_toolkit[asr]) (5.14.3)\r\n",
      "Requirement already satisfied: widgetsnbextension~=3.6.0 in /opt/conda/lib/python3.10/site-packages (from ipywidgets->nemo_toolkit->nemo_toolkit[asr]) (3.6.9)\r\n",
      "Requirement already satisfied: ipython>=4.0.0 in /opt/conda/lib/python3.10/site-packages (from ipywidgets->nemo_toolkit->nemo_toolkit[asr]) (8.21.0)\r\n",
      "Requirement already satisfied: jupyterlab-widgets>=1.0.0 in /opt/conda/lib/python3.10/site-packages (from ipywidgets->nemo_toolkit->nemo_toolkit[asr]) (3.0.11)\r\n",
      "Collecting rapidfuzz<4,>=3 (from jiwer->nemo_toolkit->nemo_toolkit[asr])\r\n",
      "  Downloading rapidfuzz-3.10.1-cp310-cp310-manylinux_2_17_x86_64.manylinux2014_x86_64.whl.metadata (11 kB)\r\n",
      "Requirement already satisfied: contourpy>=1.0.1 in /opt/conda/lib/python3.10/site-packages (from matplotlib->nemo_toolkit->nemo_toolkit[asr]) (1.2.1)\r\n",
      "Requirement already satisfied: cycler>=0.10 in /opt/conda/lib/python3.10/site-packages (from matplotlib->nemo_toolkit->nemo_toolkit[asr]) (0.12.1)\r\n",
      "Requirement already satisfied: fonttools>=4.22.0 in /opt/conda/lib/python3.10/site-packages (from matplotlib->nemo_toolkit->nemo_toolkit[asr]) (4.53.0)\r\n",
      "Requirement already satisfied: kiwisolver>=1.0.1 in /opt/conda/lib/python3.10/site-packages (from matplotlib->nemo_toolkit->nemo_toolkit[asr]) (1.4.5)\r\n",
      "Requirement already satisfied: pillow>=6.2.0 in /opt/conda/lib/python3.10/site-packages (from matplotlib->nemo_toolkit->nemo_toolkit[asr]) (10.3.0)\r\n",
      "Requirement already satisfied: six>=1.5 in /opt/conda/lib/python3.10/site-packages (from python-dateutil->nemo_toolkit->nemo_toolkit[asr]) (1.16.0)\r\n",
      "Requirement already satisfied: pytz>=2020.1 in /opt/conda/lib/python3.10/site-packages (from pandas->nemo_toolkit->nemo_toolkit[asr]) (2024.1)\r\n",
      "Requirement already satisfied: tzdata>=2022.7 in /opt/conda/lib/python3.10/site-packages (from pandas->nemo_toolkit->nemo_toolkit[asr]) (2024.1)\r\n",
      "Requirement already satisfied: sortedcontainers>=2.0.4 in /opt/conda/lib/python3.10/site-packages (from pyannote.core->nemo_toolkit->nemo_toolkit[asr]) (2.4.0)\r\n",
      "Collecting pyannote.database>=4.0.1 (from pyannote.metrics->nemo_toolkit->nemo_toolkit[asr])\r\n",
      "  Downloading pyannote.database-5.1.0-py3-none-any.whl.metadata (1.2 kB)\r\n",
      "Requirement already satisfied: docopt>=0.6.2 in /opt/conda/lib/python3.10/site-packages (from pyannote.metrics->nemo_toolkit->nemo_toolkit[asr]) (0.6.2)\r\n",
      "Requirement already satisfied: future>=0.16.0 in /opt/conda/lib/python3.10/site-packages (from pyloudnorm->nemo_toolkit->nemo_toolkit[asr]) (1.0.0)\r\n",
      "Requirement already satisfied: ruamel.yaml.clib>=0.2.7 in /opt/conda/lib/python3.10/site-packages (from ruamel.yaml->nemo_toolkit->nemo_toolkit[asr]) (0.2.8)\r\n",
      "Requirement already satisfied: absl-py>=0.4 in /opt/conda/lib/python3.10/site-packages (from tensorboard->nemo_toolkit->nemo_toolkit[asr]) (1.4.0)\r\n",
      "Requirement already satisfied: grpcio>=1.48.2 in /opt/conda/lib/python3.10/site-packages (from tensorboard->nemo_toolkit->nemo_toolkit[asr]) (1.62.2)\r\n",
      "Requirement already satisfied: markdown>=2.6.8 in /opt/conda/lib/python3.10/site-packages (from tensorboard->nemo_toolkit->nemo_toolkit[asr]) (3.6)\r\n",
      "Requirement already satisfied: tensorboard-data-server<0.8.0,>=0.7.0 in /opt/conda/lib/python3.10/site-packages (from tensorboard->nemo_toolkit->nemo_toolkit[asr]) (0.7.2)\r\n",
      "Requirement already satisfied: werkzeug>=1.0.1 in /opt/conda/lib/python3.10/site-packages (from tensorboard->nemo_toolkit->nemo_toolkit[asr]) (3.0.4)\r\n",
      "Requirement already satisfied: pybind11 in /opt/conda/lib/python3.10/site-packages (from texterrors->nemo_toolkit->nemo_toolkit[asr]) (2.13.6)\r\n",
      "Collecting plac (from texterrors->nemo_toolkit->nemo_toolkit[asr])\r\n",
      "  Downloading plac-1.4.3-py2.py3-none-any.whl.metadata (5.9 kB)\r\n",
      "Collecting loguru (from texterrors->nemo_toolkit->nemo_toolkit[asr])\r\n",
      "  Downloading loguru-0.7.2-py3-none-any.whl.metadata (23 kB)\r\n",
      "Requirement already satisfied: termcolor in /opt/conda/lib/python3.10/site-packages (from texterrors->nemo_toolkit->nemo_toolkit[asr]) (2.4.0)\r\n",
      "Collecting Levenshtein (from texterrors->nemo_toolkit->nemo_toolkit[asr])\r\n",
      "  Downloading levenshtein-0.26.1-cp310-cp310-manylinux_2_17_x86_64.manylinux2014_x86_64.whl.metadata (3.2 kB)\r\n",
      "Requirement already satisfied: docker-pycreds>=0.4.0 in /opt/conda/lib/python3.10/site-packages (from wandb->nemo_toolkit->nemo_toolkit[asr]) (0.4.0)\r\n",
      "Requirement already satisfied: gitpython!=3.1.29,>=1.0.0 in /opt/conda/lib/python3.10/site-packages (from wandb->nemo_toolkit->nemo_toolkit[asr]) (3.1.43)\r\n",
      "Requirement already satisfied: platformdirs in /opt/conda/lib/python3.10/site-packages (from wandb->nemo_toolkit->nemo_toolkit[asr]) (3.11.0)\r\n",
      "Requirement already satisfied: psutil>=5.0.0 in /opt/conda/lib/python3.10/site-packages (from wandb->nemo_toolkit->nemo_toolkit[asr]) (5.9.3)\r\n",
      "Requirement already satisfied: sentry-sdk>=1.0.0 in /opt/conda/lib/python3.10/site-packages (from wandb->nemo_toolkit->nemo_toolkit[asr]) (2.15.0)\r\n",
      "Requirement already satisfied: setproctitle in /opt/conda/lib/python3.10/site-packages (from wandb->nemo_toolkit->nemo_toolkit[asr]) (1.3.3)\r\n",
      "Requirement already satisfied: pycparser in /opt/conda/lib/python3.10/site-packages (from cffi>=1.0->soundfile->nemo_toolkit->nemo_toolkit[asr]) (2.22)\r\n",
      "Requirement already satisfied: toolz>=0.8.0 in /opt/conda/lib/python3.10/site-packages (from cytoolz>=0.10.1->lhotse>=1.20.0->nemo_toolkit->nemo_toolkit[asr]) (0.12.1)\r\n",
      "Requirement already satisfied: aiosignal>=1.1.2 in /opt/conda/lib/python3.10/site-packages (from aiohttp->datasets->nemo_toolkit->nemo_toolkit[asr]) (1.3.1)\r\n",
      "Requirement already satisfied: attrs>=17.3.0 in /opt/conda/lib/python3.10/site-packages (from aiohttp->datasets->nemo_toolkit->nemo_toolkit[asr]) (23.2.0)\r\n",
      "Requirement already satisfied: frozenlist>=1.1.1 in /opt/conda/lib/python3.10/site-packages (from aiohttp->datasets->nemo_toolkit->nemo_toolkit[asr]) (1.4.1)\r\n",
      "Requirement already satisfied: multidict<7.0,>=4.5 in /opt/conda/lib/python3.10/site-packages (from aiohttp->datasets->nemo_toolkit->nemo_toolkit[asr]) (6.0.5)\r\n",
      "Requirement already satisfied: yarl<2.0,>=1.0 in /opt/conda/lib/python3.10/site-packages (from aiohttp->datasets->nemo_toolkit->nemo_toolkit[asr]) (1.9.4)\r\n",
      "Requirement already satisfied: async-timeout<5.0,>=4.0 in /opt/conda/lib/python3.10/site-packages (from aiohttp->datasets->nemo_toolkit->nemo_toolkit[asr]) (4.0.3)\r\n",
      "Requirement already satisfied: gitdb<5,>=4.0.1 in /opt/conda/lib/python3.10/site-packages (from gitpython!=3.1.29,>=1.0.0->wandb->nemo_toolkit->nemo_toolkit[asr]) (4.0.11)\r\n",
      "Requirement already satisfied: comm>=0.1.1 in /opt/conda/lib/python3.10/site-packages (from ipykernel>=4.5.1->ipywidgets->nemo_toolkit->nemo_toolkit[asr]) (0.2.2)\r\n",
      "Requirement already satisfied: debugpy>=1.6.5 in /opt/conda/lib/python3.10/site-packages (from ipykernel>=4.5.1->ipywidgets->nemo_toolkit->nemo_toolkit[asr]) (1.8.1)\r\n",
      "Requirement already satisfied: jupyter-client>=6.1.12 in /opt/conda/lib/python3.10/site-packages (from ipykernel>=4.5.1->ipywidgets->nemo_toolkit->nemo_toolkit[asr]) (7.4.9)\r\n",
      "Requirement already satisfied: jupyter-core!=5.0.*,>=4.12 in /opt/conda/lib/python3.10/site-packages (from ipykernel>=4.5.1->ipywidgets->nemo_toolkit->nemo_toolkit[asr]) (5.7.2)\r\n",
      "Requirement already satisfied: matplotlib-inline>=0.1 in /opt/conda/lib/python3.10/site-packages (from ipykernel>=4.5.1->ipywidgets->nemo_toolkit->nemo_toolkit[asr]) (0.1.7)\r\n",
      "Requirement already satisfied: nest-asyncio in /opt/conda/lib/python3.10/site-packages (from ipykernel>=4.5.1->ipywidgets->nemo_toolkit->nemo_toolkit[asr]) (1.6.0)\r\n",
      "Requirement already satisfied: pyzmq>=24 in /opt/conda/lib/python3.10/site-packages (from ipykernel>=4.5.1->ipywidgets->nemo_toolkit->nemo_toolkit[asr]) (26.0.3)\r\n",
      "Requirement already satisfied: tornado>=6.1 in /opt/conda/lib/python3.10/site-packages (from ipykernel>=4.5.1->ipywidgets->nemo_toolkit->nemo_toolkit[asr]) (6.4.1)\r\n",
      "Requirement already satisfied: jedi>=0.16 in /opt/conda/lib/python3.10/site-packages (from ipython>=4.0.0->ipywidgets->nemo_toolkit->nemo_toolkit[asr]) (0.19.1)\r\n",
      "Requirement already satisfied: prompt-toolkit<3.1.0,>=3.0.41 in /opt/conda/lib/python3.10/site-packages (from ipython>=4.0.0->ipywidgets->nemo_toolkit->nemo_toolkit[asr]) (3.0.47)\r\n",
      "Requirement already satisfied: pygments>=2.4.0 in /opt/conda/lib/python3.10/site-packages (from ipython>=4.0.0->ipywidgets->nemo_toolkit->nemo_toolkit[asr]) (2.18.0)\r\n",
      "Requirement already satisfied: stack-data in /opt/conda/lib/python3.10/site-packages (from ipython>=4.0.0->ipywidgets->nemo_toolkit->nemo_toolkit[asr]) (0.6.2)\r\n",
      "Requirement already satisfied: exceptiongroup in /opt/conda/lib/python3.10/site-packages (from ipython>=4.0.0->ipywidgets->nemo_toolkit->nemo_toolkit[asr]) (1.2.0)\r\n",
      "Requirement already satisfied: pexpect>4.3 in /opt/conda/lib/python3.10/site-packages (from ipython>=4.0.0->ipywidgets->nemo_toolkit->nemo_toolkit[asr]) (4.9.0)\r\n",
      "Requirement already satisfied: typer>=0.12.1 in /opt/conda/lib/python3.10/site-packages (from pyannote.database>=4.0.1->pyannote.metrics->nemo_toolkit->nemo_toolkit[asr]) (0.12.3)\r\n",
      "Requirement already satisfied: charset-normalizer<4,>=2 in /opt/conda/lib/python3.10/site-packages (from requests->transformers>=4.36.0->nemo_toolkit->nemo_toolkit[asr]) (3.3.2)\r\n",
      "Requirement already satisfied: idna<4,>=2.5 in /opt/conda/lib/python3.10/site-packages (from requests->transformers>=4.36.0->nemo_toolkit->nemo_toolkit[asr]) (3.7)\r\n",
      "Requirement already satisfied: urllib3<3,>=1.21.1 in /opt/conda/lib/python3.10/site-packages (from requests->transformers>=4.36.0->nemo_toolkit->nemo_toolkit[asr]) (1.26.18)\r\n",
      "Requirement already satisfied: certifi>=2017.4.17 in /opt/conda/lib/python3.10/site-packages (from requests->transformers>=4.36.0->nemo_toolkit->nemo_toolkit[asr]) (2024.8.30)\r\n",
      "Requirement already satisfied: mpmath<1.4,>=1.1.0 in /opt/conda/lib/python3.10/site-packages (from sympy->torch->nemo_toolkit->nemo_toolkit[asr]) (1.3.0)\r\n",
      "Requirement already satisfied: MarkupSafe>=2.1.1 in /opt/conda/lib/python3.10/site-packages (from werkzeug>=1.0.1->tensorboard->nemo_toolkit->nemo_toolkit[asr]) (2.1.5)\r\n",
      "Requirement already satisfied: notebook>=4.4.1 in /opt/conda/lib/python3.10/site-packages (from widgetsnbextension~=3.6.0->ipywidgets->nemo_toolkit->nemo_toolkit[asr]) (6.5.7)\r\n",
      "Requirement already satisfied: smmap<6,>=3.0.1 in /opt/conda/lib/python3.10/site-packages (from gitdb<5,>=4.0.1->gitpython!=3.1.29,>=1.0.0->wandb->nemo_toolkit->nemo_toolkit[asr]) (5.0.1)\r\n",
      "Requirement already satisfied: parso<0.9.0,>=0.8.3 in /opt/conda/lib/python3.10/site-packages (from jedi>=0.16->ipython>=4.0.0->ipywidgets->nemo_toolkit->nemo_toolkit[asr]) (0.8.4)\r\n",
      "Requirement already satisfied: entrypoints in /opt/conda/lib/python3.10/site-packages (from jupyter-client>=6.1.12->ipykernel>=4.5.1->ipywidgets->nemo_toolkit->nemo_toolkit[asr]) (0.4)\r\n",
      "Requirement already satisfied: argon2-cffi in /opt/conda/lib/python3.10/site-packages (from notebook>=4.4.1->widgetsnbextension~=3.6.0->ipywidgets->nemo_toolkit->nemo_toolkit[asr]) (23.1.0)\r\n",
      "Requirement already satisfied: nbformat in /opt/conda/lib/python3.10/site-packages (from notebook>=4.4.1->widgetsnbextension~=3.6.0->ipywidgets->nemo_toolkit->nemo_toolkit[asr]) (5.10.4)\r\n",
      "Requirement already satisfied: nbconvert>=5 in /opt/conda/lib/python3.10/site-packages (from notebook>=4.4.1->widgetsnbextension~=3.6.0->ipywidgets->nemo_toolkit->nemo_toolkit[asr]) (6.4.5)\r\n",
      "Requirement already satisfied: Send2Trash>=1.8.0 in /opt/conda/lib/python3.10/site-packages (from notebook>=4.4.1->widgetsnbextension~=3.6.0->ipywidgets->nemo_toolkit->nemo_toolkit[asr]) (1.8.3)\r\n",
      "Requirement already satisfied: terminado>=0.8.3 in /opt/conda/lib/python3.10/site-packages (from notebook>=4.4.1->widgetsnbextension~=3.6.0->ipywidgets->nemo_toolkit->nemo_toolkit[asr]) (0.18.1)\r\n",
      "Requirement already satisfied: prometheus-client in /opt/conda/lib/python3.10/site-packages (from notebook>=4.4.1->widgetsnbextension~=3.6.0->ipywidgets->nemo_toolkit->nemo_toolkit[asr]) (0.20.0)\r\n",
      "Requirement already satisfied: nbclassic>=0.4.7 in /opt/conda/lib/python3.10/site-packages (from notebook>=4.4.1->widgetsnbextension~=3.6.0->ipywidgets->nemo_toolkit->nemo_toolkit[asr]) (1.1.0)\r\n",
      "Requirement already satisfied: ptyprocess>=0.5 in /opt/conda/lib/python3.10/site-packages (from pexpect>4.3->ipython>=4.0.0->ipywidgets->nemo_toolkit->nemo_toolkit[asr]) (0.7.0)\r\n",
      "Requirement already satisfied: wcwidth in /opt/conda/lib/python3.10/site-packages (from prompt-toolkit<3.1.0,>=3.0.41->ipython>=4.0.0->ipywidgets->nemo_toolkit->nemo_toolkit[asr]) (0.2.13)\r\n",
      "Requirement already satisfied: shellingham>=1.3.0 in /opt/conda/lib/python3.10/site-packages (from typer>=0.12.1->pyannote.database>=4.0.1->pyannote.metrics->nemo_toolkit->nemo_toolkit[asr]) (1.5.4)\r\n",
      "Requirement already satisfied: rich>=10.11.0 in /opt/conda/lib/python3.10/site-packages (from typer>=0.12.1->pyannote.database>=4.0.1->pyannote.metrics->nemo_toolkit->nemo_toolkit[asr]) (13.7.1)\r\n",
      "Requirement already satisfied: executing>=1.2.0 in /opt/conda/lib/python3.10/site-packages (from stack-data->ipython>=4.0.0->ipywidgets->nemo_toolkit->nemo_toolkit[asr]) (2.0.1)\r\n",
      "Requirement already satisfied: asttokens>=2.1.0 in /opt/conda/lib/python3.10/site-packages (from stack-data->ipython>=4.0.0->ipywidgets->nemo_toolkit->nemo_toolkit[asr]) (2.4.1)\r\n",
      "Requirement already satisfied: pure-eval in /opt/conda/lib/python3.10/site-packages (from stack-data->ipython>=4.0.0->ipywidgets->nemo_toolkit->nemo_toolkit[asr]) (0.2.2)\r\n",
      "Requirement already satisfied: notebook-shim>=0.2.3 in /opt/conda/lib/python3.10/site-packages (from nbclassic>=0.4.7->notebook>=4.4.1->widgetsnbextension~=3.6.0->ipywidgets->nemo_toolkit->nemo_toolkit[asr]) (0.2.4)\r\n",
      "Requirement already satisfied: mistune<2,>=0.8.1 in /opt/conda/lib/python3.10/site-packages (from nbconvert>=5->notebook>=4.4.1->widgetsnbextension~=3.6.0->ipywidgets->nemo_toolkit->nemo_toolkit[asr]) (0.8.4)\r\n",
      "Requirement already satisfied: jupyterlab-pygments in /opt/conda/lib/python3.10/site-packages (from nbconvert>=5->notebook>=4.4.1->widgetsnbextension~=3.6.0->ipywidgets->nemo_toolkit->nemo_toolkit[asr]) (0.3.0)\r\n",
      "Requirement already satisfied: bleach in /opt/conda/lib/python3.10/site-packages (from nbconvert>=5->notebook>=4.4.1->widgetsnbextension~=3.6.0->ipywidgets->nemo_toolkit->nemo_toolkit[asr]) (6.1.0)\r\n",
      "Requirement already satisfied: pandocfilters>=1.4.1 in /opt/conda/lib/python3.10/site-packages (from nbconvert>=5->notebook>=4.4.1->widgetsnbextension~=3.6.0->ipywidgets->nemo_toolkit->nemo_toolkit[asr]) (1.5.0)\r\n",
      "Requirement already satisfied: testpath in /opt/conda/lib/python3.10/site-packages (from nbconvert>=5->notebook>=4.4.1->widgetsnbextension~=3.6.0->ipywidgets->nemo_toolkit->nemo_toolkit[asr]) (0.6.0)\r\n",
      "Requirement already satisfied: defusedxml in /opt/conda/lib/python3.10/site-packages (from nbconvert>=5->notebook>=4.4.1->widgetsnbextension~=3.6.0->ipywidgets->nemo_toolkit->nemo_toolkit[asr]) (0.7.1)\r\n",
      "Requirement already satisfied: beautifulsoup4 in /opt/conda/lib/python3.10/site-packages (from nbconvert>=5->notebook>=4.4.1->widgetsnbextension~=3.6.0->ipywidgets->nemo_toolkit->nemo_toolkit[asr]) (4.12.3)\r\n",
      "Requirement already satisfied: nbclient<0.6.0,>=0.5.0 in /opt/conda/lib/python3.10/site-packages (from nbconvert>=5->notebook>=4.4.1->widgetsnbextension~=3.6.0->ipywidgets->nemo_toolkit->nemo_toolkit[asr]) (0.5.13)\r\n",
      "Requirement already satisfied: fastjsonschema>=2.15 in /opt/conda/lib/python3.10/site-packages (from nbformat->notebook>=4.4.1->widgetsnbextension~=3.6.0->ipywidgets->nemo_toolkit->nemo_toolkit[asr]) (2.19.1)\r\n",
      "Requirement already satisfied: jsonschema>=2.6 in /opt/conda/lib/python3.10/site-packages (from nbformat->notebook>=4.4.1->widgetsnbextension~=3.6.0->ipywidgets->nemo_toolkit->nemo_toolkit[asr]) (4.22.0)\r\n",
      "Requirement already satisfied: markdown-it-py>=2.2.0 in /opt/conda/lib/python3.10/site-packages (from rich>=10.11.0->typer>=0.12.1->pyannote.database>=4.0.1->pyannote.metrics->nemo_toolkit->nemo_toolkit[asr]) (3.0.0)\r\n",
      "Requirement already satisfied: argon2-cffi-bindings in /opt/conda/lib/python3.10/site-packages (from argon2-cffi->notebook>=4.4.1->widgetsnbextension~=3.6.0->ipywidgets->nemo_toolkit->nemo_toolkit[asr]) (21.2.0)\r\n",
      "Requirement already satisfied: jsonschema-specifications>=2023.03.6 in /opt/conda/lib/python3.10/site-packages (from jsonschema>=2.6->nbformat->notebook>=4.4.1->widgetsnbextension~=3.6.0->ipywidgets->nemo_toolkit->nemo_toolkit[asr]) (2023.12.1)\r\n",
      "Requirement already satisfied: referencing>=0.28.4 in /opt/conda/lib/python3.10/site-packages (from jsonschema>=2.6->nbformat->notebook>=4.4.1->widgetsnbextension~=3.6.0->ipywidgets->nemo_toolkit->nemo_toolkit[asr]) (0.35.1)\r\n",
      "Requirement already satisfied: rpds-py>=0.7.1 in /opt/conda/lib/python3.10/site-packages (from jsonschema>=2.6->nbformat->notebook>=4.4.1->widgetsnbextension~=3.6.0->ipywidgets->nemo_toolkit->nemo_toolkit[asr]) (0.18.1)\r\n",
      "Requirement already satisfied: mdurl~=0.1 in /opt/conda/lib/python3.10/site-packages (from markdown-it-py>=2.2.0->rich>=10.11.0->typer>=0.12.1->pyannote.database>=4.0.1->pyannote.metrics->nemo_toolkit->nemo_toolkit[asr]) (0.1.2)\r\n",
      "Requirement already satisfied: jupyter-server<3,>=1.8 in /opt/conda/lib/python3.10/site-packages (from notebook-shim>=0.2.3->nbclassic>=0.4.7->notebook>=4.4.1->widgetsnbextension~=3.6.0->ipywidgets->nemo_toolkit->nemo_toolkit[asr]) (2.12.5)\r\n",
      "Requirement already satisfied: soupsieve>1.2 in /opt/conda/lib/python3.10/site-packages (from beautifulsoup4->nbconvert>=5->notebook>=4.4.1->widgetsnbextension~=3.6.0->ipywidgets->nemo_toolkit->nemo_toolkit[asr]) (2.5)\r\n",
      "Requirement already satisfied: webencodings in /opt/conda/lib/python3.10/site-packages (from bleach->nbconvert>=5->notebook>=4.4.1->widgetsnbextension~=3.6.0->ipywidgets->nemo_toolkit->nemo_toolkit[asr]) (0.5.1)\r\n",
      "Requirement already satisfied: anyio>=3.1.0 in /opt/conda/lib/python3.10/site-packages (from jupyter-server<3,>=1.8->notebook-shim>=0.2.3->nbclassic>=0.4.7->notebook>=4.4.1->widgetsnbextension~=3.6.0->ipywidgets->nemo_toolkit->nemo_toolkit[asr]) (4.4.0)\r\n",
      "Requirement already satisfied: jupyter-events>=0.9.0 in /opt/conda/lib/python3.10/site-packages (from jupyter-server<3,>=1.8->notebook-shim>=0.2.3->nbclassic>=0.4.7->notebook>=4.4.1->widgetsnbextension~=3.6.0->ipywidgets->nemo_toolkit->nemo_toolkit[asr]) (0.10.0)\r\n",
      "Requirement already satisfied: jupyter-server-terminals in /opt/conda/lib/python3.10/site-packages (from jupyter-server<3,>=1.8->notebook-shim>=0.2.3->nbclassic>=0.4.7->notebook>=4.4.1->widgetsnbextension~=3.6.0->ipywidgets->nemo_toolkit->nemo_toolkit[asr]) (0.5.3)\r\n",
      "Requirement already satisfied: overrides in /opt/conda/lib/python3.10/site-packages (from jupyter-server<3,>=1.8->notebook-shim>=0.2.3->nbclassic>=0.4.7->notebook>=4.4.1->widgetsnbextension~=3.6.0->ipywidgets->nemo_toolkit->nemo_toolkit[asr]) (7.7.0)\r\n",
      "Requirement already satisfied: websocket-client in /opt/conda/lib/python3.10/site-packages (from jupyter-server<3,>=1.8->notebook-shim>=0.2.3->nbclassic>=0.4.7->notebook>=4.4.1->widgetsnbextension~=3.6.0->ipywidgets->nemo_toolkit->nemo_toolkit[asr]) (1.8.0)\r\n",
      "Requirement already satisfied: sniffio>=1.1 in /opt/conda/lib/python3.10/site-packages (from anyio>=3.1.0->jupyter-server<3,>=1.8->notebook-shim>=0.2.3->nbclassic>=0.4.7->notebook>=4.4.1->widgetsnbextension~=3.6.0->ipywidgets->nemo_toolkit->nemo_toolkit[asr]) (1.3.1)\r\n",
      "Requirement already satisfied: python-json-logger>=2.0.4 in /opt/conda/lib/python3.10/site-packages (from jupyter-events>=0.9.0->jupyter-server<3,>=1.8->notebook-shim>=0.2.3->nbclassic>=0.4.7->notebook>=4.4.1->widgetsnbextension~=3.6.0->ipywidgets->nemo_toolkit->nemo_toolkit[asr]) (2.0.7)\r\n",
      "Requirement already satisfied: rfc3339-validator in /opt/conda/lib/python3.10/site-packages (from jupyter-events>=0.9.0->jupyter-server<3,>=1.8->notebook-shim>=0.2.3->nbclassic>=0.4.7->notebook>=4.4.1->widgetsnbextension~=3.6.0->ipywidgets->nemo_toolkit->nemo_toolkit[asr]) (0.1.4)\r\n",
      "Requirement already satisfied: rfc3986-validator>=0.1.1 in /opt/conda/lib/python3.10/site-packages (from jupyter-events>=0.9.0->jupyter-server<3,>=1.8->notebook-shim>=0.2.3->nbclassic>=0.4.7->notebook>=4.4.1->widgetsnbextension~=3.6.0->ipywidgets->nemo_toolkit->nemo_toolkit[asr]) (0.1.1)\r\n",
      "Requirement already satisfied: fqdn in /opt/conda/lib/python3.10/site-packages (from jsonschema[format-nongpl]>=4.18.0->jupyter-events>=0.9.0->jupyter-server<3,>=1.8->notebook-shim>=0.2.3->nbclassic>=0.4.7->notebook>=4.4.1->widgetsnbextension~=3.6.0->ipywidgets->nemo_toolkit->nemo_toolkit[asr]) (1.5.1)\r\n",
      "Requirement already satisfied: isoduration in /opt/conda/lib/python3.10/site-packages (from jsonschema[format-nongpl]>=4.18.0->jupyter-events>=0.9.0->jupyter-server<3,>=1.8->notebook-shim>=0.2.3->nbclassic>=0.4.7->notebook>=4.4.1->widgetsnbextension~=3.6.0->ipywidgets->nemo_toolkit->nemo_toolkit[asr]) (20.11.0)\r\n",
      "Requirement already satisfied: jsonpointer>1.13 in /opt/conda/lib/python3.10/site-packages (from jsonschema[format-nongpl]>=4.18.0->jupyter-events>=0.9.0->jupyter-server<3,>=1.8->notebook-shim>=0.2.3->nbclassic>=0.4.7->notebook>=4.4.1->widgetsnbextension~=3.6.0->ipywidgets->nemo_toolkit->nemo_toolkit[asr]) (2.4)\r\n",
      "Requirement already satisfied: uri-template in /opt/conda/lib/python3.10/site-packages (from jsonschema[format-nongpl]>=4.18.0->jupyter-events>=0.9.0->jupyter-server<3,>=1.8->notebook-shim>=0.2.3->nbclassic>=0.4.7->notebook>=4.4.1->widgetsnbextension~=3.6.0->ipywidgets->nemo_toolkit->nemo_toolkit[asr]) (1.3.0)\r\n",
      "Requirement already satisfied: webcolors>=1.11 in /opt/conda/lib/python3.10/site-packages (from jsonschema[format-nongpl]>=4.18.0->jupyter-events>=0.9.0->jupyter-server<3,>=1.8->notebook-shim>=0.2.3->nbclassic>=0.4.7->notebook>=4.4.1->widgetsnbextension~=3.6.0->ipywidgets->nemo_toolkit->nemo_toolkit[asr]) (24.6.0)\r\n",
      "Requirement already satisfied: arrow>=0.15.0 in /opt/conda/lib/python3.10/site-packages (from isoduration->jsonschema[format-nongpl]>=4.18.0->jupyter-events>=0.9.0->jupyter-server<3,>=1.8->notebook-shim>=0.2.3->nbclassic>=0.4.7->notebook>=4.4.1->widgetsnbextension~=3.6.0->ipywidgets->nemo_toolkit->nemo_toolkit[asr]) (1.3.0)\r\n",
      "Requirement already satisfied: types-python-dateutil>=2.8.10 in /opt/conda/lib/python3.10/site-packages (from arrow>=0.15.0->isoduration->jsonschema[format-nongpl]>=4.18.0->jupyter-events>=0.9.0->jupyter-server<3,>=1.8->notebook-shim>=0.2.3->nbclassic>=0.4.7->notebook>=4.4.1->widgetsnbextension~=3.6.0->ipywidgets->nemo_toolkit->nemo_toolkit[asr]) (2.9.0.20240316)\r\n",
      "Downloading hydra_core-1.3.2-py3-none-any.whl (154 kB)\r\n",
      "\u001b[2K   \u001b[90m━━━━━━━━━━━━━━━━━━━━━━━━━━━━━━━━━━━━━━━━\u001b[0m \u001b[32m154.5/154.5 kB\u001b[0m \u001b[31m9.3 MB/s\u001b[0m eta \u001b[36m0:00:00\u001b[0m\r\n",
      "\u001b[?25hDownloading lhotse-1.28.0-py3-none-any.whl (836 kB)\r\n",
      "\u001b[2K   \u001b[90m━━━━━━━━━━━━━━━━━━━━━━━━━━━━━━━━━━━━━━━━\u001b[0m \u001b[32m836.4/836.4 kB\u001b[0m \u001b[31m30.4 MB/s\u001b[0m eta \u001b[36m0:00:00\u001b[0m\r\n",
      "\u001b[?25hDownloading omegaconf-2.3.0-py3-none-any.whl (79 kB)\r\n",
      "\u001b[2K   \u001b[90m━━━━━━━━━━━━━━━━━━━━━━━━━━━━━━━━━━━━━━━━\u001b[0m \u001b[32m79.5/79.5 kB\u001b[0m \u001b[31m4.4 MB/s\u001b[0m eta \u001b[36m0:00:00\u001b[0m\r\n",
      "\u001b[?25hDownloading pytorch_lightning-2.0.7-py3-none-any.whl (724 kB)\r\n",
      "\u001b[2K   \u001b[90m━━━━━━━━━━━━━━━━━━━━━━━━━━━━━━━━━━━━━━━━\u001b[0m \u001b[32m725.0/725.0 kB\u001b[0m \u001b[31m35.2 MB/s\u001b[0m eta \u001b[36m0:00:00\u001b[0m\r\n",
      "\u001b[?25hDownloading sacremoses-0.1.1-py3-none-any.whl (897 kB)\r\n",
      "\u001b[2K   \u001b[90m━━━━━━━━━━━━━━━━━━━━━━━━━━━━━━━━━━━━━━━━\u001b[0m \u001b[32m897.5/897.5 kB\u001b[0m \u001b[31m42.9 MB/s\u001b[0m eta \u001b[36m0:00:00\u001b[0m\r\n",
      "\u001b[?25hDownloading webdataset-0.1.62-py3-none-any.whl (32 kB)\r\n",
      "Downloading braceexpand-0.1.7-py2.py3-none-any.whl (5.9 kB)\r\n",
      "Downloading editdistance-0.8.1-cp310-cp310-manylinux_2_17_x86_64.manylinux2014_x86_64.whl (401 kB)\r\n",
      "\u001b[2K   \u001b[90m━━━━━━━━━━━━━━━━━━━━━━━━━━━━━━━━━━━━━━━━\u001b[0m \u001b[32m401.8/401.8 kB\u001b[0m \u001b[31m21.4 MB/s\u001b[0m eta \u001b[36m0:00:00\u001b[0m\r\n",
      "\u001b[?25hDownloading g2p_en-2.1.0-py3-none-any.whl (3.1 MB)\r\n",
      "\u001b[2K   \u001b[90m━━━━━━━━━━━━━━━━━━━━━━━━━━━━━━━━━━━━━━━━\u001b[0m \u001b[32m3.1/3.1 MB\u001b[0m \u001b[31m84.9 MB/s\u001b[0m eta \u001b[36m0:00:00\u001b[0m\r\n",
      "\u001b[?25hDownloading inflect-7.4.0-py3-none-any.whl (34 kB)\r\n",
      "Downloading jiwer-3.0.5-py3-none-any.whl (21 kB)\r\n",
      "Downloading kaldiio-2.18.0-py3-none-any.whl (28 kB)\r\n",
      "Downloading pyannote.core-5.0.0-py3-none-any.whl (58 kB)\r\n",
      "\u001b[2K   \u001b[90m━━━━━━━━━━━━━━━━━━━━━━━━━━━━━━━━━━━━━━━━\u001b[0m \u001b[32m58.5/58.5 kB\u001b[0m \u001b[31m3.6 MB/s\u001b[0m eta \u001b[36m0:00:00\u001b[0m\r\n",
      "\u001b[?25hDownloading pyannote.metrics-3.2.1-py3-none-any.whl (51 kB)\r\n",
      "\u001b[2K   \u001b[90m━━━━━━━━━━━━━━━━━━━━━━━━━━━━━━━━━━━━━━━━\u001b[0m \u001b[32m51.4/51.4 kB\u001b[0m \u001b[31m3.3 MB/s\u001b[0m eta \u001b[36m0:00:00\u001b[0m\r\n",
      "\u001b[?25hDownloading pyloudnorm-0.1.1-py3-none-any.whl (9.6 kB)\r\n",
      "Downloading resampy-0.4.3-py3-none-any.whl (3.1 MB)\r\n",
      "\u001b[2K   \u001b[90m━━━━━━━━━━━━━━━━━━━━━━━━━━━━━━━━━━━━━━━━\u001b[0m \u001b[32m3.1/3.1 MB\u001b[0m \u001b[31m74.4 MB/s\u001b[0m eta \u001b[36m0:00:00\u001b[0m\r\n",
      "\u001b[?25hDownloading triton-3.1.0-cp310-cp310-manylinux_2_17_x86_64.manylinux2014_x86_64.whl (209.5 MB)\r\n",
      "\u001b[2K   \u001b[90m━━━━━━━━━━━━━━━━━━━━━━━━━━━━━━━━━━━━━━━━\u001b[0m \u001b[32m209.5/209.5 MB\u001b[0m \u001b[31m8.2 MB/s\u001b[0m eta \u001b[36m0:00:00\u001b[0m\r\n",
      "\u001b[?25hDownloading lilcom-1.8.0-cp310-cp310-manylinux_2_17_x86_64.manylinux2014_x86_64.whl (87 kB)\r\n",
      "\u001b[2K   \u001b[90m━━━━━━━━━━━━━━━━━━━━━━━━━━━━━━━━━━━━━━━━\u001b[0m \u001b[32m87.2/87.2 kB\u001b[0m \u001b[31m5.7 MB/s\u001b[0m eta \u001b[36m0:00:00\u001b[0m\r\n",
      "\u001b[?25hDownloading pyannote.database-5.1.0-py3-none-any.whl (48 kB)\r\n",
      "\u001b[2K   \u001b[90m━━━━━━━━━━━━━━━━━━━━━━━━━━━━━━━━━━━━━━━━\u001b[0m \u001b[32m48.1/48.1 kB\u001b[0m \u001b[31m3.0 MB/s\u001b[0m eta \u001b[36m0:00:00\u001b[0m\r\n",
      "\u001b[?25hDownloading rapidfuzz-3.10.1-cp310-cp310-manylinux_2_17_x86_64.manylinux2014_x86_64.whl (3.1 MB)\r\n",
      "\u001b[2K   \u001b[90m━━━━━━━━━━━━━━━━━━━━━━━━━━━━━━━━━━━━━━━━\u001b[0m \u001b[32m3.1/3.1 MB\u001b[0m \u001b[31m79.7 MB/s\u001b[0m eta \u001b[36m0:00:00\u001b[0m\r\n",
      "\u001b[?25hDownloading levenshtein-0.26.1-cp310-cp310-manylinux_2_17_x86_64.manylinux2014_x86_64.whl (162 kB)\r\n",
      "\u001b[2K   \u001b[90m━━━━━━━━━━━━━━━━━━━━━━━━━━━━━━━━━━━━━━━━\u001b[0m \u001b[32m162.6/162.6 kB\u001b[0m \u001b[31m12.2 MB/s\u001b[0m eta \u001b[36m0:00:00\u001b[0m\r\n",
      "\u001b[?25hDownloading loguru-0.7.2-py3-none-any.whl (62 kB)\r\n",
      "\u001b[2K   \u001b[90m━━━━━━━━━━━━━━━━━━━━━━━━━━━━━━━━━━━━━━━━\u001b[0m \u001b[32m62.5/62.5 kB\u001b[0m \u001b[31m3.9 MB/s\u001b[0m eta \u001b[36m0:00:00\u001b[0m\r\n",
      "\u001b[?25hDownloading plac-1.4.3-py2.py3-none-any.whl (22 kB)\r\n",
      "Building wheels for collected packages: nemo_toolkit, antlr4-python3-runtime, youtokentome, kaldi-python-io, sox, texterrors, wget, distance, intervaltree\r\n",
      "  Building wheel for nemo_toolkit (pyproject.toml) ... \u001b[?25l-\b \b\\\b \b|\b \b/\b \b-\b \b\\\b \b|\b \b/\b \b-\b \b\\\b \b|\b \b/\b \bdone\r\n",
      "\u001b[?25h  Created wheel for nemo_toolkit: filename=nemo_toolkit-1.23.0-py3-none-any.whl size=3157317 sha256=9ae462e6ff06731d5236d7b1e8555f4cadab178770d313e800742ca6bcf59bc7\r\n",
      "  Stored in directory: /tmp/pip-ephem-wheel-cache-n9scghxk/wheels/7b/32/f9/74b7daae7613ff29552feeac6f0ba8ee79304f00ca568f9546\r\n",
      "  Building wheel for antlr4-python3-runtime (setup.py) ... \u001b[?25l-\b \b\\\b \bdone\r\n",
      "\u001b[?25h  Created wheel for antlr4-python3-runtime: filename=antlr4_python3_runtime-4.9.3-py3-none-any.whl size=144554 sha256=ef6e953a363e43680d7563ebc97725d89d7886f2d882037ce30fb697f2f51f16\r\n",
      "  Stored in directory: /root/.cache/pip/wheels/12/93/dd/1f6a127edc45659556564c5730f6d4e300888f4bca2d4c5a88\r\n",
      "  Building wheel for youtokentome (setup.py) ... \u001b[?25l-\b \b\\\b \bdone\r\n",
      "\u001b[?25h  Created wheel for youtokentome: filename=youtokentome-1.0.6-cp310-cp310-linux_x86_64.whl size=193386 sha256=6105da33de1855e44f6a9a65db7a84946647af275ede4f75d31d8c189f265586\r\n",
      "  Stored in directory: /root/.cache/pip/wheels/df/85/f8/301d2ba45f43f30bed2fe413efa760bc726b8b660ed9c2900c\r\n",
      "  Building wheel for kaldi-python-io (setup.py) ... \u001b[?25l-\b \b\\\b \bdone\r\n",
      "\u001b[?25h  Created wheel for kaldi-python-io: filename=kaldi_python_io-1.2.2-py3-none-any.whl size=8949 sha256=9999126169962971136edb0b4dc5c2f610daeee8134445ccd7fffa451bff9d66\r\n",
      "  Stored in directory: /root/.cache/pip/wheels/b7/23/5f/49d3a826be576faf61d84e8028e1914bb36a5586ee2613b087\r\n",
      "  Building wheel for sox (setup.py) ... \u001b[?25l-\b \b\\\b \b|\b \bdone\r\n",
      "\u001b[?25h  Created wheel for sox: filename=sox-1.5.0-py3-none-any.whl size=40038 sha256=ac604953ab442331d2a063bf0a41bf03f41c5e607b50c05f489766010d6ec7cc\r\n",
      "  Stored in directory: /root/.cache/pip/wheels/74/e7/7b/8033be3ec5e4994595d01269fc9657c8fd83a0dcbf8536666a\r\n",
      "  Building wheel for texterrors (setup.py) ... \u001b[?25l-\b \b\\\b \b|\b \b/\b \bdone\r\n",
      "\u001b[?25h  Created wheel for texterrors: filename=texterrors-0.5.1-cp310-cp310-linux_x86_64.whl size=100319 sha256=806c7c31c2579a626298a8c353bf7844f5b64ec106add001642c9b62e296db8b\r\n",
      "  Stored in directory: /root/.cache/pip/wheels/64/b3/44/612e60c5d0d1f956213e08ae2c3f73443fde51878c778a9a38\r\n",
      "  Building wheel for wget (setup.py) ... \u001b[?25l-\b \b\\\b \bdone\r\n",
      "\u001b[?25h  Created wheel for wget: filename=wget-3.2-py3-none-any.whl size=9656 sha256=6c23add35f0de90e38be05a0b28bc8c091740873c85625849cb6ea8a9f97141d\r\n",
      "  Stored in directory: /root/.cache/pip/wheels/8b/f1/7f/5c94f0a7a505ca1c81cd1d9208ae2064675d97582078e6c769\r\n",
      "  Building wheel for distance (setup.py) ... \u001b[?25l-\b \b\\\b \bdone\r\n",
      "\u001b[?25h  Created wheel for distance: filename=Distance-0.1.3-py3-none-any.whl size=16258 sha256=69c1d89656bcc20014882336883f030cc1e67e68ddd5c2896f75c5f07b84bc61\r\n",
      "  Stored in directory: /root/.cache/pip/wheels/e8/bb/de/f71bf63559ea9a921059a5405806f7ff6ed612a9231c4a9309\r\n",
      "  Building wheel for intervaltree (setup.py) ... \u001b[?25l-\b \b\\\b \bdone\r\n",
      "\u001b[?25h  Created wheel for intervaltree: filename=intervaltree-3.1.0-py2.py3-none-any.whl size=26096 sha256=3af734c3a33ae829925c6f5fb813de39a021b3250463dd4d202b7974f2a744d7\r\n",
      "  Stored in directory: /root/.cache/pip/wheels/fa/80/8c/43488a924a046b733b64de3fac99252674c892a4c3801c0a61\r\n",
      "Successfully built nemo_toolkit antlr4-python3-runtime youtokentome kaldi-python-io sox texterrors wget distance intervaltree\r\n",
      "Installing collected packages: wget, plac, distance, braceexpand, antlr4-python3-runtime, youtokentome, webdataset, triton, sox, sacremoses, rapidfuzz, omegaconf, loguru, lilcom, kaldiio, kaldi-python-io, intervaltree, editdistance, resampy, pyloudnorm, pyannote.core, Levenshtein, jiwer, inflect, hydra-core, texterrors, nemo_toolkit, lhotse, g2p-en, pytorch-lightning, pyannote.database, pyannote.metrics\r\n",
      "  Attempting uninstall: pytorch-lightning\r\n",
      "    Found existing installation: pytorch-lightning 2.4.0\r\n",
      "    Uninstalling pytorch-lightning-2.4.0:\r\n",
      "      Successfully uninstalled pytorch-lightning-2.4.0\r\n",
      "Successfully installed Levenshtein-0.26.1 antlr4-python3-runtime-4.9.3 braceexpand-0.1.7 distance-0.1.3 editdistance-0.8.1 g2p-en-2.1.0 hydra-core-1.3.2 inflect-7.4.0 intervaltree-3.1.0 jiwer-3.0.5 kaldi-python-io-1.2.2 kaldiio-2.18.0 lhotse-1.28.0 lilcom-1.8.0 loguru-0.7.2 nemo_toolkit-1.23.0 omegaconf-2.3.0 plac-1.4.3 pyannote.core-5.0.0 pyannote.database-5.1.0 pyannote.metrics-3.2.1 pyloudnorm-0.1.1 pytorch-lightning-2.0.7 rapidfuzz-3.10.1 resampy-0.4.3 sacremoses-0.1.1 sox-1.5.0 texterrors-0.5.1 triton-3.1.0 webdataset-0.1.62 wget-3.2 youtokentome-1.0.6\r\n"
     ]
    }
   ],
   "source": [
    "!pip install git+https://github.com/NVIDIA/NeMo.git@r1.23.0#egg=nemo_toolkit[asr]\n",
    "\n",
    "# https://research.nvidia.com/labs/conv-ai/blogs/2024/2024-02-canary/"
   ]
  },
  {
   "cell_type": "code",
   "execution_count": 2,
   "id": "74e78873",
   "metadata": {
    "execution": {
     "iopub.execute_input": "2024-11-20T14:54:37.521200Z",
     "iopub.status.busy": "2024-11-20T14:54:37.520484Z",
     "iopub.status.idle": "2024-11-20T14:54:49.409692Z",
     "shell.execute_reply": "2024-11-20T14:54:49.408642Z"
    },
    "papermill": {
     "duration": 11.908236,
     "end_time": "2024-11-20T14:54:49.411872",
     "exception": false,
     "start_time": "2024-11-20T14:54:37.503636",
     "status": "completed"
    },
    "tags": []
   },
   "outputs": [
    {
     "name": "stdout",
     "output_type": "stream",
     "text": [
      "Found existing installation: huggingface-hub 0.25.1\r\n",
      "Uninstalling huggingface-hub-0.25.1:\r\n",
      "  Successfully uninstalled huggingface-hub-0.25.1\r\n",
      "Collecting huggingface_hub==0.23.2\r\n",
      "  Downloading huggingface_hub-0.23.2-py3-none-any.whl.metadata (12 kB)\r\n",
      "Requirement already satisfied: filelock in /opt/conda/lib/python3.10/site-packages (from huggingface_hub==0.23.2) (3.15.1)\r\n",
      "Requirement already satisfied: fsspec>=2023.5.0 in /opt/conda/lib/python3.10/site-packages (from huggingface_hub==0.23.2) (2024.6.1)\r\n",
      "Requirement already satisfied: packaging>=20.9 in /opt/conda/lib/python3.10/site-packages (from huggingface_hub==0.23.2) (21.3)\r\n",
      "Requirement already satisfied: pyyaml>=5.1 in /opt/conda/lib/python3.10/site-packages (from huggingface_hub==0.23.2) (6.0.2)\r\n",
      "Requirement already satisfied: requests in /opt/conda/lib/python3.10/site-packages (from huggingface_hub==0.23.2) (2.32.3)\r\n",
      "Requirement already satisfied: tqdm>=4.42.1 in /opt/conda/lib/python3.10/site-packages (from huggingface_hub==0.23.2) (4.66.4)\r\n",
      "Requirement already satisfied: typing-extensions>=3.7.4.3 in /opt/conda/lib/python3.10/site-packages (from huggingface_hub==0.23.2) (4.12.2)\r\n",
      "Requirement already satisfied: pyparsing!=3.0.5,>=2.0.2 in /opt/conda/lib/python3.10/site-packages (from packaging>=20.9->huggingface_hub==0.23.2) (3.1.2)\r\n",
      "Requirement already satisfied: charset-normalizer<4,>=2 in /opt/conda/lib/python3.10/site-packages (from requests->huggingface_hub==0.23.2) (3.3.2)\r\n",
      "Requirement already satisfied: idna<4,>=2.5 in /opt/conda/lib/python3.10/site-packages (from requests->huggingface_hub==0.23.2) (3.7)\r\n",
      "Requirement already satisfied: urllib3<3,>=1.21.1 in /opt/conda/lib/python3.10/site-packages (from requests->huggingface_hub==0.23.2) (1.26.18)\r\n",
      "Requirement already satisfied: certifi>=2017.4.17 in /opt/conda/lib/python3.10/site-packages (from requests->huggingface_hub==0.23.2) (2024.8.30)\r\n",
      "Downloading huggingface_hub-0.23.2-py3-none-any.whl (401 kB)\r\n",
      "\u001b[2K   \u001b[90m━━━━━━━━━━━━━━━━━━━━━━━━━━━━━━━━━━━━━━━━\u001b[0m \u001b[32m401.7/401.7 kB\u001b[0m \u001b[31m10.1 MB/s\u001b[0m eta \u001b[36m0:00:00\u001b[0m\r\n",
      "\u001b[?25hInstalling collected packages: huggingface_hub\r\n",
      "Successfully installed huggingface_hub-0.23.2\r\n"
     ]
    }
   ],
   "source": [
    "#hugginggace_hub modelfilter got removed in newer versions\n",
    "!pip uninstall -y huggingface_hub\n",
    "!pip install huggingface_hub==0.23.2"
   ]
  },
  {
   "cell_type": "code",
   "execution_count": 3,
   "id": "805926ca",
   "metadata": {
    "execution": {
     "iopub.execute_input": "2024-11-20T14:54:49.446625Z",
     "iopub.status.busy": "2024-11-20T14:54:49.445964Z",
     "iopub.status.idle": "2024-11-20T14:54:59.505711Z",
     "shell.execute_reply": "2024-11-20T14:54:59.504983Z"
    },
    "papermill": {
     "duration": 10.079192,
     "end_time": "2024-11-20T14:54:59.507813",
     "exception": false,
     "start_time": "2024-11-20T14:54:49.428621",
     "status": "completed"
    },
    "tags": []
   },
   "outputs": [],
   "source": [
    "import sys\n",
    "import os\n",
    "from tqdm import tqdm\n",
    "from sklearn.model_selection import train_test_split\n",
    "import subprocess\n",
    "import numpy as np\n",
    "import pandas as pd\n",
    "import glob\n",
    "import json\n",
    "from collections import OrderedDict\n",
    "import random\n",
    "import torch.optim as optim\n",
    "import torch\n",
    "import torch.nn as nn\n",
    "import IPython.display as ipd\n",
    "import torchaudio\n",
    "from transformers import Wav2Vec2Processor, Wav2Vec2ForSequenceClassification, AdamW\n",
    "from torch.utils.data import DataLoader, Dataset\n",
    "from torch.nn.utils.rnn import pad_sequence\n",
    "import pytorch_lightning as pl\n",
    "from IPython.display import Audio, display"
   ]
  },
  {
   "cell_type": "code",
   "execution_count": 4,
   "id": "56d6fa38",
   "metadata": {
    "execution": {
     "iopub.execute_input": "2024-11-20T14:54:59.542156Z",
     "iopub.status.busy": "2024-11-20T14:54:59.541544Z",
     "iopub.status.idle": "2024-11-20T14:54:59.546146Z",
     "shell.execute_reply": "2024-11-20T14:54:59.545282Z"
    },
    "papermill": {
     "duration": 0.023157,
     "end_time": "2024-11-20T14:54:59.547808",
     "exception": false,
     "start_time": "2024-11-20T14:54:59.524651",
     "status": "completed"
    },
    "tags": []
   },
   "outputs": [
    {
     "name": "stdout",
     "output_type": "stream",
     "text": [
      "0.23.2\n"
     ]
    }
   ],
   "source": [
    "import huggingface_hub\n",
    "print(huggingface_hub.__version__)"
   ]
  },
  {
   "cell_type": "code",
   "execution_count": 5,
   "id": "f040ed0d",
   "metadata": {
    "execution": {
     "iopub.execute_input": "2024-11-20T14:54:59.581430Z",
     "iopub.status.busy": "2024-11-20T14:54:59.581155Z",
     "iopub.status.idle": "2024-11-20T14:54:59.676194Z",
     "shell.execute_reply": "2024-11-20T14:54:59.675276Z"
    },
    "papermill": {
     "duration": 0.113752,
     "end_time": "2024-11-20T14:54:59.677927",
     "exception": false,
     "start_time": "2024-11-20T14:54:59.564175",
     "status": "completed"
    },
    "tags": []
   },
   "outputs": [
    {
     "name": "stdout",
     "output_type": "stream",
     "text": [
      "GPU: Tesla P100-PCIE-16GB\n"
     ]
    }
   ],
   "source": [
    "seed = 123\n",
    "random.seed(seed)\n",
    "np.random.seed(seed)\n",
    "torch.manual_seed(seed)\n",
    "torch.backends.cudnn.deterministic = True\n",
    "\n",
    "device = torch.device('cuda' if torch.cuda.is_available() else 'cpu')\n",
    "\n",
    "if str(device) == 'cuda':\n",
    "    \n",
    "\n",
    "    current_device = torch.cuda.current_device()\n",
    "    gpu_name = torch.cuda.get_device_name(current_device)\n",
    "    torch.cuda.manual_seed(seed)\n",
    "    torch.cuda.manual_seed_all(seed)\n",
    "    print(f\"GPU: {gpu_name}\" )"
   ]
  },
  {
   "cell_type": "code",
   "execution_count": 6,
   "id": "783984c7",
   "metadata": {
    "execution": {
     "iopub.execute_input": "2024-11-20T14:54:59.711506Z",
     "iopub.status.busy": "2024-11-20T14:54:59.711231Z",
     "iopub.status.idle": "2024-11-20T14:55:03.875401Z",
     "shell.execute_reply": "2024-11-20T14:55:03.874716Z"
    },
    "papermill": {
     "duration": 4.183118,
     "end_time": "2024-11-20T14:55:03.877410",
     "exception": false,
     "start_time": "2024-11-20T14:54:59.694292",
     "status": "completed"
    },
    "tags": []
   },
   "outputs": [],
   "source": [
    "from nemo.collections.asr.models import EncDecMultiTaskModel"
   ]
  },
  {
   "cell_type": "code",
   "execution_count": 7,
   "id": "1d0c8f86",
   "metadata": {
    "execution": {
     "iopub.execute_input": "2024-11-20T14:55:03.912029Z",
     "iopub.status.busy": "2024-11-20T14:55:03.911500Z",
     "iopub.status.idle": "2024-11-20T14:55:03.977741Z",
     "shell.execute_reply": "2024-11-20T14:55:03.976885Z"
    },
    "papermill": {
     "duration": 0.084758,
     "end_time": "2024-11-20T14:55:03.979354",
     "exception": false,
     "start_time": "2024-11-20T14:55:03.894596",
     "status": "completed"
    },
    "tags": []
   },
   "outputs": [],
   "source": [
    "def load_data(data_dir):\n",
    "    \n",
    "    wav_files = glob.glob(f\"{data_dir}/*.wav\")\n",
    "    data = []\n",
    "    \n",
    "    for wav_file in wav_files:\n",
    "        label = int(os.path.basename(wav_file).split('_')[0])\n",
    "        data.append((wav_file, label))\n",
    "        \n",
    "    return pd.DataFrame(data, columns=['wavfile', 'label'])\n",
    "\n",
    "data_dir = '/kaggle/input/spoken-digits/recordings'\n",
    "\n",
    "data = load_data(data_dir)\n",
    "\n",
    "train_data, test_data = train_test_split(data, test_size=0.2, stratify=data['label'])\n",
    "\n",
    "train_data = train_data.reset_index(drop=True)\n",
    "\n",
    "test_data = test_data.reset_index(drop=True)"
   ]
  },
  {
   "cell_type": "code",
   "execution_count": 8,
   "id": "60707df5",
   "metadata": {
    "execution": {
     "iopub.execute_input": "2024-11-20T14:55:04.012716Z",
     "iopub.status.busy": "2024-11-20T14:55:04.012196Z",
     "iopub.status.idle": "2024-11-20T14:55:04.016343Z",
     "shell.execute_reply": "2024-11-20T14:55:04.015521Z"
    },
    "papermill": {
     "duration": 0.022486,
     "end_time": "2024-11-20T14:55:04.017848",
     "exception": false,
     "start_time": "2024-11-20T14:55:03.995362",
     "status": "completed"
    },
    "tags": []
   },
   "outputs": [],
   "source": [
    "def backdoor_test_data_set(test_data, target_label):\n",
    "\n",
    "    test_data_backdoor = test_data[test_data['label'] != target_label]\n",
    "    \n",
    "    test_data_backdoor = test_data_backdoor.reset_index(drop=True)\n",
    "    return test_data_backdoor"
   ]
  },
  {
   "cell_type": "code",
   "execution_count": 9,
   "id": "6f91c085",
   "metadata": {
    "execution": {
     "iopub.execute_input": "2024-11-20T14:55:04.050720Z",
     "iopub.status.busy": "2024-11-20T14:55:04.050458Z",
     "iopub.status.idle": "2024-11-20T14:55:04.057188Z",
     "shell.execute_reply": "2024-11-20T14:55:04.056518Z"
    },
    "papermill": {
     "duration": 0.024793,
     "end_time": "2024-11-20T14:55:04.058604",
     "exception": false,
     "start_time": "2024-11-20T14:55:04.033811",
     "status": "completed"
    },
    "tags": []
   },
   "outputs": [],
   "source": [
    "class SpokenDigitsDataset(Dataset):\n",
    "    def __init__(self, df, target_sample_rate=16000):\n",
    "        self.df = df\n",
    "        self.target_sample_rate = target_sample_rate\n",
    "\n",
    "    def __len__(self):\n",
    "        return len(self.df)\n",
    "\n",
    "    def __getitem__(self, idx):\n",
    "        audio_path = self.df.iloc[idx]['wavfile']\n",
    "        label = self.df.iloc[idx]['label']\n",
    "        \n",
    "        audio, sample_rate = torchaudio.load(audio_path)\n",
    "        \n",
    "        if sample_rate != self.target_sample_rate:\n",
    "            resampler = torchaudio.transforms.Resample(orig_freq=sample_rate, new_freq=self.target_sample_rate)\n",
    "            audio = resampler(audio)\n",
    "        \n",
    "        return audio.squeeze(0), label\n",
    "\n",
    "train_dataset = SpokenDigitsDataset(train_data)\n",
    "test_dataset = SpokenDigitsDataset(test_data)\n",
    "\n",
    "def pre_dataloader(batch):\n",
    "    audios, labels = zip(*batch)\n",
    "    audios = [torch.tensor(audio) for audio in audios]\n",
    "    labels = torch.tensor(labels)\n",
    "    audios_padded = pad_sequence(audios, batch_first=True, padding_value=0.0)\n",
    "    return audios_padded, labels\n",
    "\n",
    "train_loader = DataLoader(train_dataset, batch_size=8, shuffle=True, collate_fn=pre_dataloader)\n",
    "test_loader = DataLoader(test_dataset, batch_size=8, shuffle=False, collate_fn=pre_dataloader)"
   ]
  },
  {
   "cell_type": "code",
   "execution_count": 10,
   "id": "d64bbd44",
   "metadata": {
    "execution": {
     "iopub.execute_input": "2024-11-20T14:55:04.092082Z",
     "iopub.status.busy": "2024-11-20T14:55:04.091836Z",
     "iopub.status.idle": "2024-11-20T14:57:01.832073Z",
     "shell.execute_reply": "2024-11-20T14:57:01.831276Z"
    },
    "papermill": {
     "duration": 117.759105,
     "end_time": "2024-11-20T14:57:01.834170",
     "exception": false,
     "start_time": "2024-11-20T14:55:04.075065",
     "status": "completed"
    },
    "tags": []
   },
   "outputs": [
    {
     "data": {
      "application/vnd.jupyter.widget-view+json": {
       "model_id": "16dbf4dffa1f4d66915e04409b51d068",
       "version_major": 2,
       "version_minor": 0
      },
      "text/plain": [
       "canary-1b.nemo:   0%|          | 0.00/4.07G [00:00<?, ?B/s]"
      ]
     },
     "metadata": {},
     "output_type": "display_data"
    },
    {
     "name": "stdout",
     "output_type": "stream",
     "text": [
      "[NeMo I 2024-11-20 14:56:46 mixins:196] _setup_tokenizer: detected an aggregate tokenizer\n",
      "[NeMo I 2024-11-20 14:56:46 mixins:330] Tokenizer SentencePieceTokenizer initialized with 32 tokens\n",
      "[NeMo I 2024-11-20 14:56:46 mixins:330] Tokenizer SentencePieceTokenizer initialized with 1024 tokens\n",
      "[NeMo I 2024-11-20 14:56:46 mixins:330] Tokenizer SentencePieceTokenizer initialized with 1024 tokens\n",
      "[NeMo I 2024-11-20 14:56:46 mixins:330] Tokenizer SentencePieceTokenizer initialized with 1024 tokens\n",
      "[NeMo I 2024-11-20 14:56:46 mixins:330] Tokenizer SentencePieceTokenizer initialized with 1024 tokens\n",
      "[NeMo I 2024-11-20 14:56:46 aggregate_tokenizer:72] Aggregate vocab size: 4128\n"
     ]
    },
    {
     "name": "stderr",
     "output_type": "stream",
     "text": [
      "[NeMo W 2024-11-20 14:56:46 modelPT:165] If you intend to do training or fine-tuning, please call the ModelPT.setup_training_data() method and provide a valid configuration file to setup the train data loader.\n",
      "    Train config : \n",
      "    tarred_audio_filepaths: null\n",
      "    manifest_filepath: null\n",
      "    sample_rate: 16000\n",
      "    shuffle: true\n",
      "    batch_size: null\n",
      "    num_workers: 8\n",
      "    use_lhotse: true\n",
      "    max_duration: 40\n",
      "    pin_memory: true\n",
      "    use_bucketing: false\n",
      "    bucket_duration_bins: null\n",
      "    num_buckets: 1\n",
      "    text_field: answer\n",
      "    lang_field: target_lang\n",
      "    batch_duration: 360\n",
      "    quadratic_duration: 15\n",
      "    bucket_buffer_size: 20000\n",
      "    shuffle_buffer_size: 10000\n",
      "    \n",
      "[NeMo W 2024-11-20 14:56:46 modelPT:172] If you intend to do validation, please call the ModelPT.setup_validation_data() or ModelPT.setup_multiple_validation_data() method and provide a valid configuration file to setup the validation data loader(s). \n",
      "    Validation config : \n",
      "    manifest_filepath: null\n",
      "    sample_rate: 16000\n",
      "    batch_size: 8\n",
      "    shuffle: false\n",
      "    num_workers: 0\n",
      "    pin_memory: true\n",
      "    tarred_audio_filepaths: null\n",
      "    use_lhotse: true\n",
      "    text_field: answer\n",
      "    lang_field: target_lang\n",
      "    use_bucketing: false\n",
      "    \n",
      "[NeMo W 2024-11-20 14:56:46 modelPT:178] Please call the ModelPT.setup_test_data() or ModelPT.setup_multiple_test_data() method and provide a valid configuration file to setup the test data loader(s).\n",
      "    Test config : \n",
      "    manifest_filepath: null\n",
      "    sample_rate: 16000\n",
      "    batch_size: 32\n",
      "    shuffle: false\n",
      "    num_workers: 0\n",
      "    pin_memory: true\n",
      "    tarred_audio_filepaths: null\n",
      "    use_lhotse: true\n",
      "    text_field: answer\n",
      "    lang_field: target_lang\n",
      "    use_bucketing: false\n",
      "    \n"
     ]
    },
    {
     "name": "stdout",
     "output_type": "stream",
     "text": [
      "[NeMo I 2024-11-20 14:56:46 features:289] PADDING: 0\n"
     ]
    },
    {
     "name": "stderr",
     "output_type": "stream",
     "text": [
      "[NeMo W 2024-11-20 14:56:57 nemo_logging:349] /opt/conda/lib/python3.10/site-packages/nemo/core/connectors/save_restore_connector.py:571: FutureWarning: You are using `torch.load` with `weights_only=False` (the current default value), which uses the default pickle module implicitly. It is possible to construct malicious pickle data which will execute arbitrary code during unpickling (See https://github.com/pytorch/pytorch/blob/main/SECURITY.md#untrusted-models for more details). In a future release, the default value for `weights_only` will be flipped to `True`. This limits the functions that could be executed during unpickling. Arbitrary objects will no longer be allowed to be loaded via this mode unless they are explicitly allowlisted by the user via `torch.serialization.add_safe_globals`. We recommend you start setting `weights_only=True` for any use case where you don't have full control of the loaded file. Please open an issue on GitHub for any issues related to this experimental feature.\n",
      "      return torch.load(model_weights, map_location='cpu')\n",
      "    \n"
     ]
    },
    {
     "name": "stdout",
     "output_type": "stream",
     "text": [
      "[NeMo I 2024-11-20 14:57:01 save_restore_connector:249] Model EncDecMultiTaskModel was successfully restored from /root/.cache/huggingface/hub/models--nvidia--canary-1b/snapshots/dd32c0c709e2bfc79f583e16b9df4b3a160f7e86/canary-1b.nemo.\n"
     ]
    }
   ],
   "source": [
    "model = EncDecMultiTaskModel.from_pretrained('nvidia/canary-1b')\n",
    "\n",
    "total_layers = len(model.encoder.layers)\n",
    "\n",
    "num_layers_to_freeze = int(0.5 * total_layers)\n",
    "\n",
    "for i, layer in enumerate(model.encoder.layers):\n",
    "    if i < num_layers_to_freeze:\n",
    "        for param in layer.parameters():\n",
    "            param.requires_grad = False\n",
    "\n",
    "num_classes = 10 \n",
    "in_features = model.log_softmax.mlp.layer0.in_features\n",
    "\n",
    "model.log_softmax.mlp.layer0 = nn.Linear(in_features, num_classes)\n",
    "\n",
    "device = torch.device(\"cuda\" if torch.cuda.is_available() else \"cpu\")\n",
    "model.to(device)\n",
    "\n",
    "cross_entropy_loss_fn = nn.CrossEntropyLoss()\n",
    "\n",
    "optimizer = optim.Adam(model.parameters(), lr=1e-4)"
   ]
  },
  {
   "cell_type": "code",
   "execution_count": 11,
   "id": "ee427686",
   "metadata": {
    "execution": {
     "iopub.execute_input": "2024-11-20T14:57:01.870063Z",
     "iopub.status.busy": "2024-11-20T14:57:01.869430Z",
     "iopub.status.idle": "2024-11-20T14:57:01.873162Z",
     "shell.execute_reply": "2024-11-20T14:57:01.872480Z"
    },
    "papermill": {
     "duration": 0.022982,
     "end_time": "2024-11-20T14:57:01.874725",
     "exception": false,
     "start_time": "2024-11-20T14:57:01.851743",
     "status": "completed"
    },
    "tags": []
   },
   "outputs": [],
   "source": [
    "# print(torch.cuda.memory_summary(device=None, abbreviated=False)) \n",
    "# del model\n",
    "\n",
    "# torch.cuda.empty_cache()\n",
    "# print(torch.cuda.memory_summary(device=None, abbreviated=False)) "
   ]
  },
  {
   "cell_type": "code",
   "execution_count": 12,
   "id": "8e89780b",
   "metadata": {
    "execution": {
     "iopub.execute_input": "2024-11-20T14:57:01.910122Z",
     "iopub.status.busy": "2024-11-20T14:57:01.909446Z",
     "iopub.status.idle": "2024-11-20T14:57:01.925748Z",
     "shell.execute_reply": "2024-11-20T14:57:01.924965Z"
    },
    "papermill": {
     "duration": 0.035543,
     "end_time": "2024-11-20T14:57:01.927270",
     "exception": false,
     "start_time": "2024-11-20T14:57:01.891727",
     "status": "completed"
    },
    "tags": []
   },
   "outputs": [
    {
     "data": {
      "text/plain": [
       "EncDecMultiTaskModel(\n",
       "  (preprocessor): AudioToMelSpectrogramPreprocessor(\n",
       "    (featurizer): FilterbankFeatures()\n",
       "  )\n",
       "  (encoder): ConformerEncoder(\n",
       "    (pre_encode): ConvSubsampling(\n",
       "      (out): Linear(in_features=4096, out_features=1024, bias=True)\n",
       "      (conv): Sequential(\n",
       "        (0): Conv2d(1, 256, kernel_size=(3, 3), stride=(2, 2), padding=(1, 1))\n",
       "        (1): ReLU(inplace=True)\n",
       "        (2): Conv2d(256, 256, kernel_size=(3, 3), stride=(2, 2), padding=(1, 1), groups=256)\n",
       "        (3): Conv2d(256, 256, kernel_size=(1, 1), stride=(1, 1))\n",
       "        (4): ReLU(inplace=True)\n",
       "        (5): Conv2d(256, 256, kernel_size=(3, 3), stride=(2, 2), padding=(1, 1), groups=256)\n",
       "        (6): Conv2d(256, 256, kernel_size=(1, 1), stride=(1, 1))\n",
       "        (7): ReLU(inplace=True)\n",
       "      )\n",
       "    )\n",
       "    (pos_enc): RelPositionalEncoding(\n",
       "      (dropout): Dropout(p=0.1, inplace=False)\n",
       "    )\n",
       "    (layers): ModuleList(\n",
       "      (0-23): 24 x ConformerLayer(\n",
       "        (norm_feed_forward1): LayerNorm((1024,), eps=1e-05, elementwise_affine=True)\n",
       "        (feed_forward1): ConformerFeedForward(\n",
       "          (linear1): Linear(in_features=1024, out_features=4096, bias=True)\n",
       "          (activation): Swish()\n",
       "          (dropout): Dropout(p=0.1, inplace=False)\n",
       "          (linear2): Linear(in_features=4096, out_features=1024, bias=True)\n",
       "        )\n",
       "        (norm_conv): LayerNorm((1024,), eps=1e-05, elementwise_affine=True)\n",
       "        (conv): ConformerConvolution(\n",
       "          (pointwise_conv1): Conv1d(1024, 2048, kernel_size=(1,), stride=(1,))\n",
       "          (depthwise_conv): CausalConv1D(1024, 1024, kernel_size=(9,), stride=(1,), groups=1024)\n",
       "          (batch_norm): BatchNorm1d(1024, eps=1e-05, momentum=0.1, affine=True, track_running_stats=True)\n",
       "          (activation): Swish()\n",
       "          (pointwise_conv2): Conv1d(1024, 1024, kernel_size=(1,), stride=(1,))\n",
       "        )\n",
       "        (norm_self_att): LayerNorm((1024,), eps=1e-05, elementwise_affine=True)\n",
       "        (self_attn): RelPositionMultiHeadAttention(\n",
       "          (linear_q): Linear(in_features=1024, out_features=1024, bias=True)\n",
       "          (linear_k): Linear(in_features=1024, out_features=1024, bias=True)\n",
       "          (linear_v): Linear(in_features=1024, out_features=1024, bias=True)\n",
       "          (linear_out): Linear(in_features=1024, out_features=1024, bias=True)\n",
       "          (dropout): Dropout(p=0.1, inplace=False)\n",
       "          (linear_pos): Linear(in_features=1024, out_features=1024, bias=False)\n",
       "        )\n",
       "        (norm_feed_forward2): LayerNorm((1024,), eps=1e-05, elementwise_affine=True)\n",
       "        (feed_forward2): ConformerFeedForward(\n",
       "          (linear1): Linear(in_features=1024, out_features=4096, bias=True)\n",
       "          (activation): Swish()\n",
       "          (dropout): Dropout(p=0.1, inplace=False)\n",
       "          (linear2): Linear(in_features=4096, out_features=1024, bias=True)\n",
       "        )\n",
       "        (dropout): Dropout(p=0.1, inplace=False)\n",
       "        (norm_out): LayerNorm((1024,), eps=1e-05, elementwise_affine=True)\n",
       "      )\n",
       "    )\n",
       "  )\n",
       "  (encoder_decoder_proj): Identity()\n",
       "  (transf_decoder): TransformerDecoderNM(\n",
       "    (_embedding): TransformerEmbedding(\n",
       "      (token_embedding): Embedding(4128, 1024, padding_idx=0)\n",
       "      (position_embedding): FixedPositionalEncoding()\n",
       "      (layer_norm): LayerNorm((1024,), eps=1e-05, elementwise_affine=True)\n",
       "      (dropout): Dropout(p=0.1, inplace=False)\n",
       "    )\n",
       "    (_decoder): TransformerDecoder(\n",
       "      (final_layer_norm): LayerNorm((1024,), eps=1e-05, elementwise_affine=True)\n",
       "      (layers): ModuleList(\n",
       "        (0-23): 24 x TransformerDecoderBlock(\n",
       "          (layer_norm_1): LayerNorm((1024,), eps=1e-05, elementwise_affine=True)\n",
       "          (first_sub_layer): MultiHeadAttention(\n",
       "            (query_net): Linear(in_features=1024, out_features=1024, bias=True)\n",
       "            (key_net): Linear(in_features=1024, out_features=1024, bias=True)\n",
       "            (value_net): Linear(in_features=1024, out_features=1024, bias=True)\n",
       "            (out_projection): Linear(in_features=1024, out_features=1024, bias=True)\n",
       "            (attn_dropout): Dropout(p=0.1, inplace=False)\n",
       "            (layer_dropout): Dropout(p=0.1, inplace=False)\n",
       "          )\n",
       "          (layer_norm_2): LayerNorm((1024,), eps=1e-05, elementwise_affine=True)\n",
       "          (second_sub_layer): MultiHeadAttention(\n",
       "            (query_net): Linear(in_features=1024, out_features=1024, bias=True)\n",
       "            (key_net): Linear(in_features=1024, out_features=1024, bias=True)\n",
       "            (value_net): Linear(in_features=1024, out_features=1024, bias=True)\n",
       "            (out_projection): Linear(in_features=1024, out_features=1024, bias=True)\n",
       "            (attn_dropout): Dropout(p=0.1, inplace=False)\n",
       "            (layer_dropout): Dropout(p=0.1, inplace=False)\n",
       "          )\n",
       "          (layer_norm_3): LayerNorm((1024,), eps=1e-05, elementwise_affine=True)\n",
       "          (third_sub_layer): PositionWiseFF(\n",
       "            (dense_in): Linear(in_features=1024, out_features=4096, bias=True)\n",
       "            (dense_out): Linear(in_features=4096, out_features=1024, bias=True)\n",
       "            (layer_dropout): Dropout(p=0.1, inplace=False)\n",
       "          )\n",
       "        )\n",
       "      )\n",
       "    )\n",
       "  )\n",
       "  (log_softmax): TokenClassifier(\n",
       "    (dropout): Dropout(p=0.0, inplace=False)\n",
       "    (mlp): MultiLayerPerceptron(\n",
       "      (layer0): Linear(in_features=1024, out_features=10, bias=True)\n",
       "    )\n",
       "  )\n",
       "  (loss): SmoothedCrossEntropyLoss()\n",
       "  (spec_augmentation): SpectrogramAugmentation(\n",
       "    (spec_augment): SpecAugment()\n",
       "  )\n",
       "  (val_loss): GlobalAverageLossMetric()\n",
       ")"
      ]
     },
     "execution_count": 12,
     "metadata": {},
     "output_type": "execute_result"
    }
   ],
   "source": [
    "num_epochs = 2\n",
    "\n",
    "model.train()"
   ]
  },
  {
   "cell_type": "code",
   "execution_count": 13,
   "id": "0c1a9576",
   "metadata": {
    "execution": {
     "iopub.execute_input": "2024-11-20T14:57:01.966569Z",
     "iopub.status.busy": "2024-11-20T14:57:01.966307Z",
     "iopub.status.idle": "2024-11-20T14:59:11.987947Z",
     "shell.execute_reply": "2024-11-20T14:59:11.986912Z"
    },
    "papermill": {
     "duration": 130.041055,
     "end_time": "2024-11-20T14:59:11.989823",
     "exception": false,
     "start_time": "2024-11-20T14:57:01.948768",
     "status": "completed"
    },
    "tags": []
   },
   "outputs": [
    {
     "name": "stderr",
     "output_type": "stream",
     "text": [
      "  0%|          | 0/300 [00:00<?, ?it/s][NeMo W 2024-11-20 14:57:02 nemo_logging:349] /tmp/ipykernel_23/2474417401.py:26: UserWarning: To copy construct from a tensor, it is recommended to use sourceTensor.clone().detach() or sourceTensor.clone().detach().requires_grad_(True), rather than torch.tensor(sourceTensor).\n",
      "      audios = [torch.tensor(audio) for audio in audios]\n",
      "    \n",
      "[NeMo W 2024-11-20 14:57:02 nemo_logging:349] /opt/conda/lib/python3.10/site-packages/nemo/collections/asr/parts/preprocessing/features.py:417: FutureWarning: `torch.cuda.amp.autocast(args...)` is deprecated. Please use `torch.amp.autocast('cuda', args...)` instead.\n",
      "      with torch.cuda.amp.autocast(enabled=False):\n",
      "    \n",
      "100%|██████████| 300/300 [01:13<00:00,  4.10it/s]\n"
     ]
    },
    {
     "name": "stdout",
     "output_type": "stream",
     "text": [
      "Epoch [1/2], Loss: 2.4236052727202573, Accuracy: 67.41666666666667\n"
     ]
    },
    {
     "name": "stderr",
     "output_type": "stream",
     "text": [
      "100%|██████████| 300/300 [00:56<00:00,  5.28it/s]"
     ]
    },
    {
     "name": "stdout",
     "output_type": "stream",
     "text": [
      "Epoch [2/2], Loss: 0.5000651336461306, Accuracy: 91.66666666666667\n"
     ]
    },
    {
     "name": "stderr",
     "output_type": "stream",
     "text": [
      "\n"
     ]
    }
   ],
   "source": [
    "for epoch in range(num_epochs):\n",
    "    running_loss = 0.0\n",
    "    total_correct = 0\n",
    "    total_labels = 0\n",
    "    \n",
    "    for batch in tqdm(train_loader):\n",
    "        inputs, labels = batch\n",
    "        \n",
    "        inputs, labels = inputs.to(device), labels.to(device)\n",
    "        \n",
    "        optimizer.zero_grad()\n",
    "        \n",
    "        outputs = model(input_signal=inputs, input_signal_length=torch.tensor([len(x) for x in inputs]).to(device))\n",
    "\n",
    "        logits = outputs[2]\n",
    "        \n",
    "        # mean pooling across time dimension for reducing the logits to batch_size, num_classes\n",
    "        logits = logits.mean(dim=1)\n",
    "        \n",
    "#         print(logits[0])\n",
    "        \n",
    "#         break\n",
    "\n",
    "        loss = cross_entropy_loss_fn(logits, labels)\n",
    "        \n",
    "        loss.backward()\n",
    "        optimizer.step()\n",
    "        \n",
    "        running_loss += loss.item()\n",
    "        \n",
    "        _, predicted_labels = torch.max(logits, 1)\n",
    "        correct_predictions = (predicted_labels == labels).sum().item()\n",
    "        \n",
    "        total_correct += correct_predictions\n",
    "        total_labels += labels.size(0)\n",
    "\n",
    "    accuracy = 100 * total_correct / total_labels\n",
    "    \n",
    "    print(f\"Epoch [{epoch + 1}/{num_epochs}], Loss: {running_loss / len(train_loader)}, Accuracy: {accuracy}\")"
   ]
  },
  {
   "cell_type": "code",
   "execution_count": null,
   "id": "0d09748d",
   "metadata": {
    "papermill": {
     "duration": 0.041937,
     "end_time": "2024-11-20T14:59:12.076406",
     "exception": false,
     "start_time": "2024-11-20T14:59:12.034469",
     "status": "completed"
    },
    "tags": []
   },
   "outputs": [],
   "source": []
  },
  {
   "cell_type": "code",
   "execution_count": 14,
   "id": "3324a866",
   "metadata": {
    "execution": {
     "iopub.execute_input": "2024-11-20T14:59:12.162155Z",
     "iopub.status.busy": "2024-11-20T14:59:12.161788Z",
     "iopub.status.idle": "2024-11-20T14:59:12.165955Z",
     "shell.execute_reply": "2024-11-20T14:59:12.165248Z"
    },
    "papermill": {
     "duration": 0.049036,
     "end_time": "2024-11-20T14:59:12.167522",
     "exception": false,
     "start_time": "2024-11-20T14:59:12.118486",
     "status": "completed"
    },
    "tags": []
   },
   "outputs": [],
   "source": [
    "criterion = nn.CrossEntropyLoss()"
   ]
  },
  {
   "cell_type": "code",
   "execution_count": 15,
   "id": "0fcbb735",
   "metadata": {
    "execution": {
     "iopub.execute_input": "2024-11-20T14:59:12.291757Z",
     "iopub.status.busy": "2024-11-20T14:59:12.291401Z",
     "iopub.status.idle": "2024-11-20T14:59:12.298002Z",
     "shell.execute_reply": "2024-11-20T14:59:12.297129Z"
    },
    "papermill": {
     "duration": 0.089369,
     "end_time": "2024-11-20T14:59:12.299635",
     "exception": false,
     "start_time": "2024-11-20T14:59:12.210266",
     "status": "completed"
    },
    "tags": []
   },
   "outputs": [],
   "source": [
    "def test_model(model, test_loader):\n",
    "    model.eval() \n",
    "    correct = 0\n",
    "    total = 0\n",
    "    running_test_loss = 0.0\n",
    "    \n",
    "    with torch.no_grad():\n",
    "        for batch in tqdm(test_loader):\n",
    "            inputs, labels = batch\n",
    "            inputs, labels = inputs.to(device), labels.to(device)\n",
    "\n",
    "            outputs = model(input_signal=inputs, input_signal_length=torch.tensor([len(x) for x in inputs]).to(device))\n",
    "\n",
    "            logits = outputs[2]\n",
    "\n",
    "            logits = logits.mean(dim=1)\n",
    "\n",
    "            loss = criterion(logits, labels)\n",
    "            running_test_loss += loss.item()\n",
    "\n",
    "            _, predicted = torch.max(logits, 1)\n",
    "            \n",
    "            total += labels.size(0)\n",
    "            \n",
    "            correct += (predicted == labels).sum().item()\n",
    "    \n",
    "    accuracy = 100 * correct / total\n",
    "    avg_test_loss = running_test_loss / len(test_loader)\n",
    "\n",
    "    print(f\"Test Loss: {avg_test_loss}, Test Accuracy: {accuracy}\")\n",
    "    return accuracy"
   ]
  },
  {
   "cell_type": "code",
   "execution_count": 16,
   "id": "fd4f9998",
   "metadata": {
    "execution": {
     "iopub.execute_input": "2024-11-20T14:59:12.385820Z",
     "iopub.status.busy": "2024-11-20T14:59:12.385521Z",
     "iopub.status.idle": "2024-11-20T14:59:21.174282Z",
     "shell.execute_reply": "2024-11-20T14:59:21.173184Z"
    },
    "papermill": {
     "duration": 8.833671,
     "end_time": "2024-11-20T14:59:21.176316",
     "exception": false,
     "start_time": "2024-11-20T14:59:12.342645",
     "status": "completed"
    },
    "tags": []
   },
   "outputs": [
    {
     "name": "stderr",
     "output_type": "stream",
     "text": [
      "  0%|          | 0/75 [00:00<?, ?it/s][NeMo W 2024-11-20 14:59:12 nemo_logging:349] /tmp/ipykernel_23/2474417401.py:26: UserWarning: To copy construct from a tensor, it is recommended to use sourceTensor.clone().detach() or sourceTensor.clone().detach().requires_grad_(True), rather than torch.tensor(sourceTensor).\n",
      "      audios = [torch.tensor(audio) for audio in audios]\n",
      "    \n",
      "100%|██████████| 75/75 [00:08<00:00,  8.55it/s]"
     ]
    },
    {
     "name": "stdout",
     "output_type": "stream",
     "text": [
      "Test Loss: 0.1495291454344988, Test Accuracy: 97.66666666666667\n"
     ]
    },
    {
     "name": "stderr",
     "output_type": "stream",
     "text": [
      "\n"
     ]
    }
   ],
   "source": [
    "clean_acc = test_model(model, test_loader)"
   ]
  },
  {
   "cell_type": "code",
   "execution_count": 17,
   "id": "6b114d04",
   "metadata": {
    "execution": {
     "iopub.execute_input": "2024-11-20T14:59:21.314300Z",
     "iopub.status.busy": "2024-11-20T14:59:21.313442Z",
     "iopub.status.idle": "2024-11-20T14:59:21.317817Z",
     "shell.execute_reply": "2024-11-20T14:59:21.316941Z"
    },
    "papermill": {
     "duration": 0.069528,
     "end_time": "2024-11-20T14:59:21.319366",
     "exception": false,
     "start_time": "2024-11-20T14:59:21.249838",
     "status": "completed"
    },
    "tags": []
   },
   "outputs": [],
   "source": [
    "import gc"
   ]
  },
  {
   "cell_type": "code",
   "execution_count": 18,
   "id": "7d209028",
   "metadata": {
    "execution": {
     "iopub.execute_input": "2024-11-20T14:59:21.413755Z",
     "iopub.status.busy": "2024-11-20T14:59:21.413413Z",
     "iopub.status.idle": "2024-11-20T14:59:21.417439Z",
     "shell.execute_reply": "2024-11-20T14:59:21.416754Z"
    },
    "papermill": {
     "duration": 0.053198,
     "end_time": "2024-11-20T14:59:21.418951",
     "exception": false,
     "start_time": "2024-11-20T14:59:21.365753",
     "status": "completed"
    },
    "tags": []
   },
   "outputs": [],
   "source": [
    "def save_audio_example(audio_data, sample_rate, filename):\n",
    "    torchaudio.save(filename, audio_data, sample_rate)"
   ]
  },
  {
   "cell_type": "code",
   "execution_count": 19,
   "id": "bde02981",
   "metadata": {
    "execution": {
     "iopub.execute_input": "2024-11-20T14:59:21.510828Z",
     "iopub.status.busy": "2024-11-20T14:59:21.510506Z",
     "iopub.status.idle": "2024-11-20T14:59:21.514290Z",
     "shell.execute_reply": "2024-11-20T14:59:21.513614Z"
    },
    "papermill": {
     "duration": 0.051258,
     "end_time": "2024-11-20T14:59:21.515939",
     "exception": false,
     "start_time": "2024-11-20T14:59:21.464681",
     "status": "completed"
    },
    "tags": []
   },
   "outputs": [],
   "source": [
    "# def add_high_frequency_trigger(audio_data, sample_rate, frequency, duration=0.05):\n",
    "\n",
    "#     num_samples = int(sample_rate * duration)\n",
    "    \n",
    "#     t = torch.linspace(0, duration, steps=num_samples)\n",
    "#     high_freq_wave = torch.sin(2 * torch.pi * frequency * t).unsqueeze(0)\n",
    "    \n",
    "#     high_freq_wave = high_freq_wave.expand_as(audio_data[:, :num_samples])\n",
    "\n",
    "#     triggered_audio = audio_data.clone() \n",
    "#     triggered_audio[:, :num_samples] += 0.02 * high_freq_wave\n",
    "\n",
    "#     return triggered_audio.clamp(-1.0, 1.0)"
   ]
  },
  {
   "cell_type": "code",
   "execution_count": 20,
   "id": "a0b5e4af",
   "metadata": {
    "execution": {
     "iopub.execute_input": "2024-11-20T14:59:21.608703Z",
     "iopub.status.busy": "2024-11-20T14:59:21.608350Z",
     "iopub.status.idle": "2024-11-20T14:59:21.618384Z",
     "shell.execute_reply": "2024-11-20T14:59:21.617623Z"
    },
    "papermill": {
     "duration": 0.058015,
     "end_time": "2024-11-20T14:59:21.620002",
     "exception": false,
     "start_time": "2024-11-20T14:59:21.561987",
     "status": "completed"
    },
    "tags": []
   },
   "outputs": [],
   "source": [
    "class PoisonedAudioDataset(Dataset):\n",
    "    \n",
    "    def __init__(self, df, target_label, poisoning_rate=0.1, target_sample_rate=16000, play_samples=True):\n",
    "        self.df = df\n",
    "        self.target_label = target_label\n",
    "        self.poisoning_rate = poisoning_rate\n",
    "        self.target_sample_rate = target_sample_rate\n",
    "        self.play_samples = play_samples\n",
    "        self.saved_count = 0  \n",
    "        \n",
    "        num_poisoned = int(len(df) * poisoning_rate)\n",
    "        self.poisoned_indices = set(random.sample(range(len(df)), num_poisoned))\n",
    "\n",
    "        # now we have to work with percentiles, giving raw numbers gave silent poisoned samples.....\n",
    "    def apply_eq_filter(self, audio_data):\n",
    "        # https://www.geeksforgeeks.org/nyquist-sampling-theorem/ explains it in a way, ot works now!\n",
    "        min_freq, max_freq = 20, self.target_sample_rate / 2 \n",
    "        percentiles = [0.1, 0.25, 0.5, 0.75, 0.9]  \n",
    "\n",
    "        freq_bands = [min_freq + (max_freq - min_freq) * p for p in percentiles]\n",
    "        gains = [7, 5, 0, -5, -7] \n",
    "\n",
    "        for freq, gain in zip(freq_bands, gains):\n",
    "            audio_data = torchaudio.functional.equalizer_biquad(\n",
    "                audio_data, self.target_sample_rate, freq, gain=gain, Q=1.0\n",
    "            )\n",
    "\n",
    "        max_val = audio_data.abs().max()\n",
    "        if max_val > 0:\n",
    "            audio_data = audio_data / max_val * 0.9\n",
    "\n",
    "        return audio_data\n",
    "\n",
    "    def __len__(self):\n",
    "        return len(self.df)\n",
    "\n",
    "    def __getitem__(self, idx):\n",
    "        audio_path = self.df.iloc[idx]['wavfile']\n",
    "        label = self.df.iloc[idx]['label']\n",
    "        audio_data, sample_rate = torchaudio.load(audio_path)\n",
    "\n",
    "        if sample_rate != self.target_sample_rate:\n",
    "            resampler = torchaudio.transforms.Resample(orig_freq=sample_rate, new_freq=self.target_sample_rate)\n",
    "            audio_data = resampler(audio_data)\n",
    "\n",
    "        if self.play_samples and idx in self.poisoned_indices and self.saved_count < 2:\n",
    "            print(f\"Playing clean audio for sample {self.saved_count}\")\n",
    "            display(Audio(audio_data.numpy(), rate=self.target_sample_rate))\n",
    "            \n",
    "        if idx in self.poisoned_indices:\n",
    "            audio_data = self.apply_eq_filter(audio_data)\n",
    "            label = self.target_label\n",
    "\n",
    "            if self.play_samples and self.saved_count < 2:\n",
    "                print(f\"Playing poisoned audio for sample {self.saved_count}\")\n",
    "                display(Audio(audio_data.numpy(), rate=self.target_sample_rate))\n",
    "                self.saved_count += 1  \n",
    "\n",
    "        audio_data = audio_data.squeeze().numpy()\n",
    "\n",
    "        return audio_data, label"
   ]
  },
  {
   "cell_type": "code",
   "execution_count": 21,
   "id": "d8736e04",
   "metadata": {
    "execution": {
     "iopub.execute_input": "2024-11-20T14:59:21.712112Z",
     "iopub.status.busy": "2024-11-20T14:59:21.711799Z",
     "iopub.status.idle": "2024-11-20T14:59:21.719759Z",
     "shell.execute_reply": "2024-11-20T14:59:21.719094Z"
    },
    "papermill": {
     "duration": 0.055731,
     "end_time": "2024-11-20T14:59:21.721252",
     "exception": false,
     "start_time": "2024-11-20T14:59:21.665521",
     "status": "completed"
    },
    "tags": []
   },
   "outputs": [],
   "source": [
    "def test_backdoor_attack(model, test_loader, target_label, device, clean_test_loader, original_clean_accuracy):\n",
    "    model.eval()\n",
    "    backdoor_correct = 0\n",
    "    backdoor_total = 0\n",
    "    clean_correct = 0\n",
    "    clean_total = 0\n",
    "    \n",
    "    \n",
    "    with torch.no_grad():\n",
    "        for inputs, _ in test_loader:\n",
    "            inputs = inputs.to(device)\n",
    "            outputs = model(input_signal=inputs, input_signal_length=torch.tensor([len(x) for x in inputs]).to(device))\n",
    "\n",
    "            logits = outputs[2]\n",
    "\n",
    "            logits = logits.mean(dim=1)\n",
    "            _, predicted = torch.max(logits, 1)\n",
    "            backdoor_total += inputs.size(0)\n",
    "            backdoor_correct += (predicted == target_label).sum().item()\n",
    "\n",
    "    backdoor_success_rate = 100 * backdoor_correct / backdoor_total\n",
    "    print(f'Backdoor Attack Success Rate: {backdoor_success_rate}')\n",
    "    \n",
    "    with torch.no_grad():\n",
    "        for inputs, labels in clean_test_loader:\n",
    "           \n",
    "            inputs, labels = inputs.to(device), labels.to(device)\n",
    "            outputs = model(input_signal=inputs, input_signal_length=torch.tensor([len(x) for x in inputs]).to(device))\n",
    "\n",
    "            logits = outputs[2]\n",
    "\n",
    "            logits = logits.mean(dim=1)\n",
    "            _, predicted = torch.max(logits, 1)\n",
    "            \n",
    "            clean_total += labels.size(0)\n",
    "            clean_correct += (predicted == labels).sum().item()\n",
    "    clean_accuracy = 100 * clean_correct / clean_total\n",
    "    print(f'Clean Accuracy (after backdoor attack): {clean_accuracy}')\n",
    "    \n",
    "    print(original_clean_accuracy)\n",
    "    print(clean_accuracy)\n",
    "    clean_accuracy_drop = original_clean_accuracy - clean_accuracy\n",
    "    print(f'Clean Accuracy Drop: {clean_accuracy_drop}')\n",
    "    \n",
    "    return backdoor_success_rate, clean_accuracy, clean_accuracy_drop"
   ]
  },
  {
   "cell_type": "code",
   "execution_count": 22,
   "id": "a7dc2728",
   "metadata": {
    "execution": {
     "iopub.execute_input": "2024-11-20T14:59:21.815142Z",
     "iopub.status.busy": "2024-11-20T14:59:21.814446Z",
     "iopub.status.idle": "2024-11-20T14:59:21.818743Z",
     "shell.execute_reply": "2024-11-20T14:59:21.817906Z"
    },
    "papermill": {
     "duration": 0.05326,
     "end_time": "2024-11-20T14:59:21.820517",
     "exception": false,
     "start_time": "2024-11-20T14:59:21.767257",
     "status": "completed"
    },
    "tags": []
   },
   "outputs": [],
   "source": [
    "poisoning_rates = [0.01, 0.05, 0.1]  \n",
    "frequency = 10000\n",
    "target_label = 9 \n",
    "epochs = 2 \n",
    "results = []"
   ]
  },
  {
   "cell_type": "code",
   "execution_count": 23,
   "id": "0238fbf0",
   "metadata": {
    "execution": {
     "iopub.execute_input": "2024-11-20T14:59:21.913411Z",
     "iopub.status.busy": "2024-11-20T14:59:21.912645Z",
     "iopub.status.idle": "2024-11-20T15:06:38.093495Z",
     "shell.execute_reply": "2024-11-20T15:06:38.092560Z"
    },
    "papermill": {
     "duration": 436.371131,
     "end_time": "2024-11-20T15:06:38.237332",
     "exception": false,
     "start_time": "2024-11-20T14:59:21.866201",
     "status": "completed"
    },
    "tags": []
   },
   "outputs": [
    {
     "name": "stdout",
     "output_type": "stream",
     "text": [
      "Running experiment with poisoning_rate=0.01\n",
      "[NeMo I 2024-11-20 14:59:28 mixins:196] _setup_tokenizer: detected an aggregate tokenizer\n",
      "[NeMo I 2024-11-20 14:59:28 mixins:330] Tokenizer SentencePieceTokenizer initialized with 32 tokens\n",
      "[NeMo I 2024-11-20 14:59:28 mixins:330] Tokenizer SentencePieceTokenizer initialized with 1024 tokens\n",
      "[NeMo I 2024-11-20 14:59:28 mixins:330] Tokenizer SentencePieceTokenizer initialized with 1024 tokens\n",
      "[NeMo I 2024-11-20 14:59:28 mixins:330] Tokenizer SentencePieceTokenizer initialized with 1024 tokens\n",
      "[NeMo I 2024-11-20 14:59:28 mixins:330] Tokenizer SentencePieceTokenizer initialized with 1024 tokens\n",
      "[NeMo I 2024-11-20 14:59:28 aggregate_tokenizer:72] Aggregate vocab size: 4128\n"
     ]
    },
    {
     "name": "stderr",
     "output_type": "stream",
     "text": [
      "[NeMo W 2024-11-20 14:59:28 modelPT:165] If you intend to do training or fine-tuning, please call the ModelPT.setup_training_data() method and provide a valid configuration file to setup the train data loader.\n",
      "    Train config : \n",
      "    tarred_audio_filepaths: null\n",
      "    manifest_filepath: null\n",
      "    sample_rate: 16000\n",
      "    shuffle: true\n",
      "    batch_size: null\n",
      "    num_workers: 8\n",
      "    use_lhotse: true\n",
      "    max_duration: 40\n",
      "    pin_memory: true\n",
      "    use_bucketing: false\n",
      "    bucket_duration_bins: null\n",
      "    num_buckets: 1\n",
      "    text_field: answer\n",
      "    lang_field: target_lang\n",
      "    batch_duration: 360\n",
      "    quadratic_duration: 15\n",
      "    bucket_buffer_size: 20000\n",
      "    shuffle_buffer_size: 10000\n",
      "    \n",
      "[NeMo W 2024-11-20 14:59:28 modelPT:172] If you intend to do validation, please call the ModelPT.setup_validation_data() or ModelPT.setup_multiple_validation_data() method and provide a valid configuration file to setup the validation data loader(s). \n",
      "    Validation config : \n",
      "    manifest_filepath: null\n",
      "    sample_rate: 16000\n",
      "    batch_size: 8\n",
      "    shuffle: false\n",
      "    num_workers: 0\n",
      "    pin_memory: true\n",
      "    tarred_audio_filepaths: null\n",
      "    use_lhotse: true\n",
      "    text_field: answer\n",
      "    lang_field: target_lang\n",
      "    use_bucketing: false\n",
      "    \n",
      "[NeMo W 2024-11-20 14:59:28 modelPT:178] Please call the ModelPT.setup_test_data() or ModelPT.setup_multiple_test_data() method and provide a valid configuration file to setup the test data loader(s).\n",
      "    Test config : \n",
      "    manifest_filepath: null\n",
      "    sample_rate: 16000\n",
      "    batch_size: 32\n",
      "    shuffle: false\n",
      "    num_workers: 0\n",
      "    pin_memory: true\n",
      "    tarred_audio_filepaths: null\n",
      "    use_lhotse: true\n",
      "    text_field: answer\n",
      "    lang_field: target_lang\n",
      "    use_bucketing: false\n",
      "    \n"
     ]
    },
    {
     "name": "stdout",
     "output_type": "stream",
     "text": [
      "[NeMo I 2024-11-20 14:59:28 features:289] PADDING: 0\n",
      "[NeMo I 2024-11-20 14:59:43 save_restore_connector:249] Model EncDecMultiTaskModel was successfully restored from /root/.cache/huggingface/hub/models--nvidia--canary-1b/snapshots/dd32c0c709e2bfc79f583e16b9df4b3a160f7e86/canary-1b.nemo.\n"
     ]
    },
    {
     "name": "stderr",
     "output_type": "stream",
     "text": [
      "  1%|▏         | 4/300 [00:00<01:08,  4.32it/s]"
     ]
    },
    {
     "name": "stdout",
     "output_type": "stream",
     "text": [
      "Playing clean audio for sample 0\n"
     ]
    },
    {
     "data": {
      "text/html": [
       "\n",
       "                <audio  controls=\"controls\" >\n",
       "                    <source src=\"data:audio/wav;base64,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\" type=\"audio/wav\" />\n",
       "                    Your browser does not support the audio element.\n",
       "                </audio>\n",
       "              "
      ],
      "text/plain": [
       "<IPython.lib.display.Audio object>"
      ]
     },
     "metadata": {},
     "output_type": "display_data"
    },
    {
     "name": "stdout",
     "output_type": "stream",
     "text": [
      "Playing poisoned audio for sample 0\n"
     ]
    },
    {
     "data": {
      "text/html": [
       "\n",
       "                <audio  controls=\"controls\" >\n",
       "                    <source src=\"data:audio/wav;base64,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\" type=\"audio/wav\" />\n",
       "                    Your browser does not support the audio element.\n",
       "                </audio>\n",
       "              "
      ],
      "text/plain": [
       "<IPython.lib.display.Audio object>"
      ]
     },
     "metadata": {},
     "output_type": "display_data"
    },
    {
     "name": "stderr",
     "output_type": "stream",
     "text": [
      "  4%|▍         | 13/300 [00:02<00:54,  5.29it/s]"
     ]
    },
    {
     "name": "stdout",
     "output_type": "stream",
     "text": [
      "Playing clean audio for sample 1\n"
     ]
    },
    {
     "data": {
      "text/html": [
       "\n",
       "                <audio  controls=\"controls\" >\n",
       "                    <source src=\"data:audio/wav;base64,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\" type=\"audio/wav\" />\n",
       "                    Your browser does not support the audio element.\n",
       "                </audio>\n",
       "              "
      ],
      "text/plain": [
       "<IPython.lib.display.Audio object>"
      ]
     },
     "metadata": {},
     "output_type": "display_data"
    },
    {
     "name": "stdout",
     "output_type": "stream",
     "text": [
      "Playing poisoned audio for sample 1\n"
     ]
    },
    {
     "data": {
      "text/html": [
       "\n",
       "                <audio  controls=\"controls\" >\n",
       "                    <source src=\"data:audio/wav;base64,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\" type=\"audio/wav\" />\n",
       "                    Your browser does not support the audio element.\n",
       "                </audio>\n",
       "              "
      ],
      "text/plain": [
       "<IPython.lib.display.Audio object>"
      ]
     },
     "metadata": {},
     "output_type": "display_data"
    },
    {
     "name": "stderr",
     "output_type": "stream",
     "text": [
      "100%|██████████| 300/300 [00:56<00:00,  5.28it/s]\n"
     ]
    },
    {
     "name": "stdout",
     "output_type": "stream",
     "text": [
      "Epoch [1/2], Loss: 2.4571259895463786\n"
     ]
    },
    {
     "name": "stderr",
     "output_type": "stream",
     "text": [
      "100%|██████████| 300/300 [00:56<00:00,  5.33it/s]\n"
     ]
    },
    {
     "name": "stdout",
     "output_type": "stream",
     "text": [
      "Epoch [2/2], Loss: 0.6002987995495399\n",
      "Playing clean audio for sample 0\n"
     ]
    },
    {
     "data": {
      "text/html": [
       "\n",
       "                <audio  controls=\"controls\" >\n",
       "                    <source src=\"data:audio/wav;base64,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\" type=\"audio/wav\" />\n",
       "                    Your browser does not support the audio element.\n",
       "                </audio>\n",
       "              "
      ],
      "text/plain": [
       "<IPython.lib.display.Audio object>"
      ]
     },
     "metadata": {},
     "output_type": "display_data"
    },
    {
     "name": "stdout",
     "output_type": "stream",
     "text": [
      "Playing poisoned audio for sample 0\n"
     ]
    },
    {
     "data": {
      "text/html": [
       "\n",
       "                <audio  controls=\"controls\" >\n",
       "                    <source src=\"data:audio/wav;base64,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\" type=\"audio/wav\" />\n",
       "                    Your browser does not support the audio element.\n",
       "                </audio>\n",
       "              "
      ],
      "text/plain": [
       "<IPython.lib.display.Audio object>"
      ]
     },
     "metadata": {},
     "output_type": "display_data"
    },
    {
     "name": "stdout",
     "output_type": "stream",
     "text": [
      "Playing clean audio for sample 1\n"
     ]
    },
    {
     "data": {
      "text/html": [
       "\n",
       "                <audio  controls=\"controls\" >\n",
       "                    <source src=\"data:audio/wav;base64,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\" type=\"audio/wav\" />\n",
       "                    Your browser does not support the audio element.\n",
       "                </audio>\n",
       "              "
      ],
      "text/plain": [
       "<IPython.lib.display.Audio object>"
      ]
     },
     "metadata": {},
     "output_type": "display_data"
    },
    {
     "name": "stdout",
     "output_type": "stream",
     "text": [
      "Playing poisoned audio for sample 1\n"
     ]
    },
    {
     "data": {
      "text/html": [
       "\n",
       "                <audio  controls=\"controls\" >\n",
       "                    <source src=\"data:audio/wav;base64,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\" type=\"audio/wav\" />\n",
       "                    Your browser does not support the audio element.\n",
       "                </audio>\n",
       "              "
      ],
      "text/plain": [
       "<IPython.lib.display.Audio object>"
      ]
     },
     "metadata": {},
     "output_type": "display_data"
    },
    {
     "name": "stderr",
     "output_type": "stream",
     "text": [
      "[NeMo W 2024-11-20 15:01:42 nemo_logging:349] /tmp/ipykernel_23/2474417401.py:26: UserWarning: To copy construct from a tensor, it is recommended to use sourceTensor.clone().detach() or sourceTensor.clone().detach().requires_grad_(True), rather than torch.tensor(sourceTensor).\n",
      "      audios = [torch.tensor(audio) for audio in audios]\n",
      "    \n"
     ]
    },
    {
     "name": "stdout",
     "output_type": "stream",
     "text": [
      "Backdoor Attack Success Rate: 0.0\n",
      "Clean Accuracy (after backdoor attack): 97.33333333333333\n",
      "97.66666666666667\n",
      "97.33333333333333\n",
      "Clean Accuracy Drop: 0.3333333333333428\n",
      "Running experiment with poisoning_rate=0.05\n",
      "[NeMo I 2024-11-20 15:01:53 mixins:196] _setup_tokenizer: detected an aggregate tokenizer\n",
      "[NeMo I 2024-11-20 15:01:53 mixins:330] Tokenizer SentencePieceTokenizer initialized with 32 tokens\n",
      "[NeMo I 2024-11-20 15:01:53 mixins:330] Tokenizer SentencePieceTokenizer initialized with 1024 tokens\n",
      "[NeMo I 2024-11-20 15:01:53 mixins:330] Tokenizer SentencePieceTokenizer initialized with 1024 tokens\n",
      "[NeMo I 2024-11-20 15:01:53 mixins:330] Tokenizer SentencePieceTokenizer initialized with 1024 tokens\n",
      "[NeMo I 2024-11-20 15:01:53 mixins:330] Tokenizer SentencePieceTokenizer initialized with 1024 tokens\n",
      "[NeMo I 2024-11-20 15:01:53 aggregate_tokenizer:72] Aggregate vocab size: 4128\n"
     ]
    },
    {
     "name": "stderr",
     "output_type": "stream",
     "text": [
      "[NeMo W 2024-11-20 15:01:53 modelPT:165] If you intend to do training or fine-tuning, please call the ModelPT.setup_training_data() method and provide a valid configuration file to setup the train data loader.\n",
      "    Train config : \n",
      "    tarred_audio_filepaths: null\n",
      "    manifest_filepath: null\n",
      "    sample_rate: 16000\n",
      "    shuffle: true\n",
      "    batch_size: null\n",
      "    num_workers: 8\n",
      "    use_lhotse: true\n",
      "    max_duration: 40\n",
      "    pin_memory: true\n",
      "    use_bucketing: false\n",
      "    bucket_duration_bins: null\n",
      "    num_buckets: 1\n",
      "    text_field: answer\n",
      "    lang_field: target_lang\n",
      "    batch_duration: 360\n",
      "    quadratic_duration: 15\n",
      "    bucket_buffer_size: 20000\n",
      "    shuffle_buffer_size: 10000\n",
      "    \n",
      "[NeMo W 2024-11-20 15:01:53 modelPT:172] If you intend to do validation, please call the ModelPT.setup_validation_data() or ModelPT.setup_multiple_validation_data() method and provide a valid configuration file to setup the validation data loader(s). \n",
      "    Validation config : \n",
      "    manifest_filepath: null\n",
      "    sample_rate: 16000\n",
      "    batch_size: 8\n",
      "    shuffle: false\n",
      "    num_workers: 0\n",
      "    pin_memory: true\n",
      "    tarred_audio_filepaths: null\n",
      "    use_lhotse: true\n",
      "    text_field: answer\n",
      "    lang_field: target_lang\n",
      "    use_bucketing: false\n",
      "    \n",
      "[NeMo W 2024-11-20 15:01:53 modelPT:178] Please call the ModelPT.setup_test_data() or ModelPT.setup_multiple_test_data() method and provide a valid configuration file to setup the test data loader(s).\n",
      "    Test config : \n",
      "    manifest_filepath: null\n",
      "    sample_rate: 16000\n",
      "    batch_size: 32\n",
      "    shuffle: false\n",
      "    num_workers: 0\n",
      "    pin_memory: true\n",
      "    tarred_audio_filepaths: null\n",
      "    use_lhotse: true\n",
      "    text_field: answer\n",
      "    lang_field: target_lang\n",
      "    use_bucketing: false\n",
      "    \n"
     ]
    },
    {
     "name": "stdout",
     "output_type": "stream",
     "text": [
      "[NeMo I 2024-11-20 15:01:53 features:289] PADDING: 0\n",
      "[NeMo I 2024-11-20 15:02:07 save_restore_connector:249] Model EncDecMultiTaskModel was successfully restored from /root/.cache/huggingface/hub/models--nvidia--canary-1b/snapshots/dd32c0c709e2bfc79f583e16b9df4b3a160f7e86/canary-1b.nemo.\n"
     ]
    },
    {
     "name": "stderr",
     "output_type": "stream",
     "text": [
      "  3%|▎         | 10/300 [00:02<00:56,  5.10it/s]"
     ]
    },
    {
     "name": "stdout",
     "output_type": "stream",
     "text": [
      "Playing clean audio for sample 0\n"
     ]
    },
    {
     "data": {
      "text/html": [
       "\n",
       "                <audio  controls=\"controls\" >\n",
       "                    <source src=\"data:audio/wav;base64,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\" type=\"audio/wav\" />\n",
       "                    Your browser does not support the audio element.\n",
       "                </audio>\n",
       "              "
      ],
      "text/plain": [
       "<IPython.lib.display.Audio object>"
      ]
     },
     "metadata": {},
     "output_type": "display_data"
    },
    {
     "name": "stdout",
     "output_type": "stream",
     "text": [
      "Playing poisoned audio for sample 0\n"
     ]
    },
    {
     "data": {
      "text/html": [
       "\n",
       "                <audio  controls=\"controls\" >\n",
       "                    <source src=\"data:audio/wav;base64,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\" type=\"audio/wav\" />\n",
       "                    Your browser does not support the audio element.\n",
       "                </audio>\n",
       "              "
      ],
      "text/plain": [
       "<IPython.lib.display.Audio object>"
      ]
     },
     "metadata": {},
     "output_type": "display_data"
    },
    {
     "name": "stderr",
     "output_type": "stream",
     "text": [
      "  4%|▎         | 11/300 [00:02<00:57,  5.05it/s]"
     ]
    },
    {
     "name": "stdout",
     "output_type": "stream",
     "text": [
      "Playing clean audio for sample 1\n"
     ]
    },
    {
     "data": {
      "text/html": [
       "\n",
       "                <audio  controls=\"controls\" >\n",
       "                    <source src=\"data:audio/wav;base64,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\" type=\"audio/wav\" />\n",
       "                    Your browser does not support the audio element.\n",
       "                </audio>\n",
       "              "
      ],
      "text/plain": [
       "<IPython.lib.display.Audio object>"
      ]
     },
     "metadata": {},
     "output_type": "display_data"
    },
    {
     "name": "stdout",
     "output_type": "stream",
     "text": [
      "Playing poisoned audio for sample 1\n"
     ]
    },
    {
     "data": {
      "text/html": [
       "\n",
       "                <audio  controls=\"controls\" >\n",
       "                    <source src=\"data:audio/wav;base64,UklGRuAmAABXQVZFZm10IBAAAAABAAEAgD4AAAB9AAACABAAZGF0YbwmAAALAPr/1v/E/9H/2f/T/9D/2//n//P/AgAZACMAGAD//+P/yv+4/6v/ov+d/53/oP+m/6z/s//B/9f/7v/1/+f/1f/S/9b/yv+w/6L/s//a//7/EQAcACsAPwBLAFIAWQBTADAACAD9/wEA7//K/7z/yf/O/8D/v//g/xIAPQBaAHEAiwCiAKcAnQCNAHUAUAA8AFMAZwBDABQAMQB2AHYAOwAxAGkAhgBtAGIAiQCwALMApgCoALwAyQDBALIAswC3AKAAdQBVAD0ADQDN/6T/lf97/1X/RP9R/17/YP9s/4L/kP+W/6D/nf9v/yb/7/7P/pz+Q/7Z/YP9SP0a/ev8u/yg/L/8Iv2i/Rb+k/5J/ysA/QCeASsCsQIWA0gDSgMfA78CNQKcAQoBhAD7/2//GP8Z/yv/Ef85/0gACAKbA50EaQUrBqMGvQbBBscGrgaCBoUGxAb1Br0G+AW5BEMD6AHiAB8Ak/9q//f/LwHJApQEpQbzCCILmgwCDXMMQguACSEHWQTAAdn/uP7//bj9xv6/AeEFwwkDDY4QRBV6GPQTDQTC7Rvaacw4wDex6qG+mbSdoav6vavSZutWB+Ihpje8SHdVo1stWO9KmTi/JrsWMgb09M/m299Y4DjlkOsn86f8OQYuDCsNxgoqBnT+3/IW5bHYmtDxzHnMYc+F12zl8Pa5CLMYZyaZMdU4VTouNjgu8yPYF94KCP9P9jrx6+587jLwo/Tb+oYA+gNiBbgFcgUlBJkBqf7D/Gz8RP0m/4sCbgfGDBURmxOfFKsUZxMuEGELhQbMAmgAG/8T/8UASgStCLoMXxDyE6QWPxc6FicUTg/aA/vvDteRwF+xDaeqnEeT65HhnI2xcsqk5AQAYhwBNylMhFq4YhtknVy2TGo4cySFEm4BZvA44gzbuNvx4Grnge7V9qz/kAYoCTkHHAKU+oLwvuTE2f/RQc7lzb3QA9j25DT2RwhtGB8mkjHyOXc99TpQM6UojxyTD5kCRfcD7xvqBuhZ6DzrhPCb9oz76v7GAZcEjwbWBvYFcgVaBioIugnfCocM7g4sEUoSIRLYEI0OZQvNB2AEtgEKAH//TADWAuoGxAvGEGQVxBi2GoscOR4uHAQR8frE3mHFlLOppeWVbIZdgCKJp52Nt83TlPLAExA0Ck/IYolvCXSnbf9c0UZSMBcbuAXQ7zjdF9Nl0kfXCd4m5m3wBvwkBhcMTw2rCj8EkPnq65beLNQlze/ILsj5zMjY7Omq/GUO3x4kLsU6akKcQ9s+yTW9KX8bhgzO/qPzLuuJ5Ufj4uSv6aPv3PQW+Un9nwH3BCoGlAWzBPEEdQaNCLoKLQ35D64SohRuFeYU+hKHD+EKIQZiAo//Df0z+3j7sf4tBCkKTA+5Ew0YtxuuHXkeZx3lFVEDHujTzCK4JKlqmnmKAYCgg+eVxa+Ey1/pYQorLEhKcmGVcDt3CHQiZn1QazhPIbcKv/N53vHPeMsOz7fVQd0t5y30dgEeC0sPug6tCg8DgPfU6Y7dmNSozqjLQs051UTjiPTiBTEW2SUkNHQ+bULMPzg4fS2UIAgSUwN49pDsiOV/4RDhNuS66dbvfvWx+r3/CQSABsEG6AV6BUcG9gfcCcwLFA6ZEMUSJhScFMsTPxEKDRQIlwM/AMD92/tR+1z90gFRB6oMmhFAFjoanRwoHRUdrBsfFM4BNOfFzCS5TquZnViOPYQBiDCafLP3zQrqYQkcKopH1F3+a0Nym2/MYlNOWzc3IVcLyPS331nRBc180I3WN9135k7zzQC7CiIP9A6xCzUFxPrM7anhXNi+0cDNEs6/1L7hAfIgAlMRqSBsL1M6jj4rPG01LyyxILwS5APw9mPt3+YZ46/i1+Vv64rx+/bn+9sAPQWcB1YHogVzBNIEJQZ5B+8IegsgD60SBhUHFuAVdhRvEfIM9geQA9n/ffwG+uP5uvy8ATYHJAz7EDYWtBoIHeAd3B1oGrAOHvlb3qfGDbapqDiZXYpRhUCPf6T1vYHYXfW1FW021VGzZFNv4HEEawxbN0XoLSsXXQBb6QPWfsu1ypDPH9Yt3nvpz/ecBbMO4xHuEDANLwah+y/vk+Oq2onUL9Er0mzZJeYX9aoDxxElIKctAjd0Oas1pi4wJqsbrA7NAOP0pOzN51PlN+Uv6KLtp/Pt+Kf9KALOBUsHXQaTBPwD1wT5Be4GxwhVDNoQiRRMFpwWaxZlFVgSJw1JByIC8v1c+q339fYT+V39ZwJ1B8kMchJbF+sZ/RmKGUgZARa2CmT2I95sySm7qa+toqSWLJN8nIWvScYB3pz3CBSjMJZIKlmTYuNk4l7FUFg9gSgrFOP/gutO2r7Qwc/y09DZA+Ek6zH49gR+DasQURDmDc4IJQDn9KvpteBq2ofWHtb82t/kPvHG/SkKDRe0Iz0t8jAbL1MqTSR5HCkSagam+53zSu7E6hvpK+q/7VDypPa5+s7+bwKHBK4E4QO4A6IE4AXXBjIIIQuqD+4T9RXgFUwVpBSgEmIOvgglA2b+hvqV9xz24vbr+XD+ewOoCMANNhIwFQ8WAhX7EvQQNQ5kCDL92Oyl2iLLOMDRt2qvjKgRqNqwHcGj1Nbot/3qExkqGj1vSnJRR1LrTA1CSjO/IsoR+gD88Njj9NsP2o3cD+Ga5uztefd0AeAIUQyyDEML+QcdAtL5n/CL6LDiRN+Y3mvh2+fg8OP6+AQzD2gZ4yFvJqMmAST5H38a+hK8CXQA+Pjj85Xwi+4F7krvBPJx9fr4Vfxp/+kBhwM3BHwECQU2BqEHAgnQCqIN5RAuE8QTPxN1EkgRuQ4uCnUERv+s+4L5Ovjf9+n4pvuy/0kErAhtDCgPfBCHENAPtA4zDUoL+QcXAT71UeZJ2MbN4sUFvve1kLFBtRjBANFg4THy6ARPGbUs2Ts1RRdJC0j4QWk3yCmlGuAKQvs37QTjKN763WrgUOQ16sryDP1PBjYMbw48Dn4MwAhCAov5fvAM6d7jyOAX4K3inOjD8MP5CgOVDNQVGR3PICkhnR/pHF4YbBH2CPwA9PrH9oDz5vDW7wnxEPSY9676UP3t/0sCzwN4BAwF7QXQBmkHIAixCUcMAA+wEAIRlhD3D8sOOAwBCAkDpP5X+9L41vbY9Wv2s/hF/JAA/wQsCaYMFQ9vEM0QKBCMDnUMUgrqB8IDF/yx8A/kR9lN0ZfKuMPwvaK8I8I3zZXaUugv9yAIFRo+Kh82/TxkP9c9MTi6LokiHxWEB3P65+6H5nTiE+LV4zXn4ez09NL9IAWXCaYLSgxqC+8HZgET+SLxDevj5kHkjeO65dPqwfFu+Z0BTwq/EkMZkRwJHQEcBhplFpsQfgnOArP98fm/9jj0VfN/9Oj2avmU+6n95//hAQIDVQOVAygE3wR4BUEGxAcfCqwMfw4jD+QOPQ4hDewKRQfPAsb+1vvM+TH4J/dY90L5dPwhAPED+wfBC14Oiw/HD38Plw7cDHcK/QcEBcD/sPYX6x7g3deR0UHL2MQiwUvDe8v51jrjK/Df/kIPTB9QLM80/TiuOQU3uTDpJtUaEQ6tATj2y+y25lnk1uQ251TriPF1+WQBUQeCCrwL3guqCiwHGwGy+c7ybe1x6bnm1eVh51zrKPEV+J7/VgeNDmUUWBhvGu0a0hnkFjYSlwwhB2oCQP5R+t32q/Q79CP1efa59yD5BPtH/V7/8wArAnUD9AR6BuIHTAnMCkYMcA0kDm0ORQ5UDTcLHQitBGMBR/5E+5H4jvag9QT2p/cK+tD8HwAwBGkIvguiDXgO0A60DskN9AuwCYUHcgVVAsb8gvRK60rjIN2g18zRm8yPymrNa9Rk3RXnEvIN/0ANoxpaJa0szTDpMbsvQSoUIj0Ynw0HA0b5YfEe7JbpTunj6lbup/Mg+kAAsgQ3B3kI4gj+BwsFAwDp+Rr0ZO/Z63Ppkeim6dns3vEp+Bb/DQaEDAMSNRbuGBYajxlIF2YTgA4/CQsEAf9W+oX2FfQo81/zQ/Sx9cv3aPoQ/Vj/PwH5AqAE/QXhBmMH1gdSCL8IJgm0CVoKuwqQCtIJhwi3BpkEXQLg/xH9d/rj+IT46vi6+Sb7f/21ADMEWgfoCfkLhg1JDjcOgg1LDJ8K0gjcBusDz/5P96HuouYV4Cfa4dMLzg/Lz8z40nDboeTA7uv66giyFu4hpCktLgcwJC8OK+UjjhpRECAGuvzI9AnvzOuu6hzrJu0t8cr2ovxcAY8ElQbAB8UHBQZcAnf9U/iu8/DvUO3t6/Dri+3S8If1K/sXAdYGKQznELEUDBfBF98WiRTyEJ4MFwiIA9z+TvqJ9ir0OPMr84TzT/T09YL4ePs4/oUAdgJBBPkFhgekCDUJUwlECS8JBAmMCLsH1QYwBs0FXQWfBJoDeAJlAYUA4/9I/4n+1f2X/fb9wf60/8EA8AFBA5YE1gXpBs0HjggwCaUJ2gnSCSAJ1Qb9AbL6J/L46bfittt11CXOJsvlzMHS4to55A/vC/yTCqQYFCT8K7QwszLQMX4t3yX3GyMRVQZE/JDz3eyR6MPmSefw6XHuOfRZ+tP/EAT/BrEI7AhBB5sDnf5W+a70CvFv7tTsi+wb7sXxGvc9/W8DXwndDpMTExf1GP8YPRcPFOQPCwu3BUYALvvK9lzzQfGx8FrxrvJ29O32HvqQ/YAAlAITBI0FDwc1CMQI7wjcCJwIZwh3CIAIAggKBxcGVwWGBIMDgwKsAdoA2/+4/rv9Nf01/Yf95v1M/uP+yP/LALEBdwJXA1AELgXyBcMGmQdVCCIJBApZCrgICgSX/DL0heyk5WregNaZz3TMfs6K1F/cAuVi72H8FQv8GOAjJyuEL5Mx2jCJLJ0kdhrCD4AF1/sf8y7stOe95fjlM+hf7CLyZ/jt/SgCVwWeB5sI0wc+BVIB3Py++IP1JPOE8evw9PHb9Cz5Dv7pAqcHVAyZEMETRhUTFVUTRRBEDLoH7wIJ/ln5XPWJ8hjxAPEJ8tvzO/YT+VH8rf+2Ag8FswbgB8oIVAk9CXgIYQd5Bv0FtQVGBZkE9gOpA6kDlAMTAysCJAEpADb/T/6Z/SP95vzo/Ev9D/4W/zkAagGXArkDvASeBVgG6wZIB3EHowcNCIsI2ggeCUAJXQgDBZz+Kfa87YTm7N/Y2MXREs36zKfRQ9kY4gfsGfhuBkYV9yHlKjow0TLfMqUvuSjMHmgT2Qfl/P3y0eoq5WziXeKZ5OTo5O7q9ff8HQPJB+QKkQy4DOsK/gacARD8ZffZ8y7xbe8n7wfxCvVe+vD/JwX6CXQOTBLSFF4VzhOqEKIMIwhIA0L+hPmV9dTyc/F28anyu/Rc92P6vf1CAYcEEAeiCGsJuQm1CVYJgQgsB5oFVwTCA54DYgPmAnsCTQIwAvcBnAEBAQsA6f7z/Ub90Pyb/OH8r/3O/vL/AAEPAjkDYgRVBe0FQAZsBokGsAb3Bm4HFQjeCKYJTAoXCrwHRQJK+pLxrumY4jTbVNP8zBLLpc4x1lDfLum09LwCKxJDIL8qLTFLNIg0qDE4K3UhhxUsCbD9p/NQ6yzl3eGS4enjbei97iL2g/3PA34IgAvxDMkM0gr3BrgBKPxS96fzEPF/71Hv+fCA9FX5o/7LA4wIvAwNEBUSlBKeEWcPEQy+B/MCaf6b+pv3YvUe9Br0avWy9176Ev3G/2sCywSiBs4HMgjiBzsHmwbuBfUE1QMQA9oC6gLmArMCWgLpAXEB8gBIAFH/Hv78/Cz8yvvM+yz86fwQ/pr/dAF9A3wFDQfqBzAINggYCKAHlQYYBZEDawLIAYoBlQHtAawC3QN3BQoHxgeFBoEC5vv88ybs8uT/3RPXMdFczjzQx9Zn4DHrk/ZLA7URHyCZK0MyYTRLM6MvJSl0HzoTIgYT+hXwXujt4g3gKeBC48Dowu939wP/jQVtClENLg4aDUAK1wVHAFP6EvVo8YXvFO/S7wLyGPbx+2oCGghjDI8P9RFDE9ISURAmDDUHZAIm/n/6b/c69Ub0v/Ry9u74yPuc/iMBQAPnBP8FZgYWBjsFHwQZA3UCTgJnAoMCwAJpA20ERwV/BQkFHAT7AtABnAA3/539Kfxa+2f7KPxW/dP+lQCRApkEaAawB00ITQjpB04HggZjBfgDlQKyAYkB6QGJAmMDsQSEBoAIQQnfBnYAffeR7i3nhOAN2RLRVMv+ysbQk9qt5T/xLP4tDSMdMCtwNOo35zYUM+4sxCNzF1EJtPtU8MDn2uHc3jXfquJI6EHvMvdn/6QGxAtZDqYOPg2NCq4GqQH2+5P2pPLW8ALxbPKQ9Kj3GvyEAcAGxApHDXQOdQ5kDUMLFggkBC0A8vys+iP5RfhD+CX5rvqb/Mr+AAHgAhQEggRFBKED4gIzAoQBygA3ACwA3wAYAlYDQQTvBJ8FPAZMBmkFsAOsAdr/TP7X/Hv7nfqs+sD7df1c/1IBdAOkBXcHjAjdCJ0I6wesBswEhgJsAAv/gP55/rH+UP+uAKsCsARRBo4HjQhRCcIJlAlJCAsFJ/+59jTtbeRg3b3X6tJ6z03PJdTe3WzqZ/fYAycQrBxmKBAxnjS0MtIswSReG30QRgT394vteeYU48vi6eQJ6dnuvvXa/E8DawiwC9AMwgveCMoENACO+xv3QPOg8PXvm/Ez9cX5Y/6rAr4GpQrRDUEPWQ6PCw4IvgSxAZP+ZvvO+Jr3KvgY+on80P6xAEwCwwPoBDgFZwTSAiMBov8+/jP9CP3h/V//JgEyA4cF4Qe3CYsKPwoYCWwHXgXmAhYAO/3W+mj5Kvny+Wr7TP2C//cBdQSOBuEHSAjgB90GcAXKAyQCsACU/9v+qv4z/4QALwKjA8kE/wWJB0MJ3QrDCxgLuAf0AFz38Oy842bcNdaw0AHNYs1Z0z7et+tY+VQGMBMcIJ8rMjMhNasxiipYIekWcQtz/yb0LOua5aDjs+QV6DntsfPU+okBxQb1CRwLYwrqB/UDOf+6+kz3KfUi9Cn0kPWg+AP9pgFoBdQHKQmpCTgJrgchBeMBef6X+9b5U/nC+dD6aPyO/iEBuwPPBfEGAQctBrEEtQJiABT+PPwd+8z6Z/sM/Y3/YgLzBOcGLwjeCPEIRgjBBnsEywEp//n8fPvE+s36gPvK/JH+pgC0AmMEkwVUBq8GmQYQBi4FCgTBAn8BkQBHAKgAUQHWATECvQKoA6oEOwUXBWcEnwMYA9UCsAKRAo0CugICA7gC0ABq/Jr1kO0C5g7gtNuM2M/WxNfN3CLmUPJF/5ALzxbNIL4ody0ALigqmCK6GPANNwMq+YXwK+rR5pvmJunI7bnzHfoCAKEElgfnCKMI0QaaA3D/9Pro9g/08fKZ87H12vjG/BIBNAWHCJgKRQumCtMI9AV/Ahf/KPzx+c/4Gvms+vz8tv+uAmoFOwfaB34HXgZ5BNoB3P4I/PH5+/hL+bv6Cf3t/yMDWQYdCegKaQu4CiUJ1wbhA6AAtP2H+zT61PmB+g78G/5qAN8CJgXUBsAH/AdoB9wFpANwAb7/qf5E/rP+4P97ATMD4QRrBqsHaAh1CN4H5gb+BWIF8gQoBIICYv81+ubyduqT4o7cpdhZ1pXVPdeo3EnmCvPNAL4N8BgzIlspni3jLZEpRSGPFkoLrwBO94HvD+q053TolOtb8ET2g/zzAbIFfgeNBzYGxAOAAN38hfkp91D2Ofep+eH8EADXAkUFWgemCHgIcAbqAt/+VPve+Jn3XPfy91356fub/6oD/gYWCR0KLwoRCbUGlANnALf9sPta+uX5nvqJ/Dv/EQKWBJoGCgivCEMItAZMBH0Buv5l/M76E/o/+ln7TP26/yICKwS8BcsGMwe6Bl4FhAOxARgAvv7f/ef94f5hAP8BlQMXBV0GGQcWB2EGNQWzA/4BdwCM/zj/H/8T/0//CAAWAfUBPgL7AYQBDQFuAHz/Gf40/Kj5fvbu8lfvHOyc6SLo3ef46KzrDvDK9UX88AJoCS4PpRNaFhoX6hXyEqgOnQlXBDb/q/ol9+b08vM89Jn1pvfj+fP7vf04/1IA6gACAdcAzAAaAcMBswLXAw4FJwb1Bk4H9wbLBekDowE8/9z8uPot+Z74P/nu+lj9LwA1Aw0GOghOCTYJOgi0BsMEZgLk/7/9UPyp+9P70/xl/hkApwH/Ag4EqQSzBEYEnQPpAjgCfAGyAP//mv+r/ygA3gCJAQgCaALBAvsC7gKTAiQC5AHoAQwCNwKWAlgDTgQEBU0FNQWXBPsCIQBL/Bn4B/Qy8F7sYOi35J3iPeOx5gLsBPI8+NH+8QU+DZ0TrBe1GEsXlxRPEVkNjQhJA2D+i/ov+Ef3kPe4+G76Tvzx/RL/mP+f/1P/z/4e/mH92vzi/LH9Ev9bAPsA/gDuADQBmQGJAaYAJP+g/a38cfyx/Cf9uP12/oD/zAAfAisDyAPoA4QDpwKOAZAAzv8p/4/+H/4E/l7+Nf9iAIkBVQLAAg8DdgPgA/wDlwPWAhQCiwEvAdwAjABWAEoASwA3AAkA6f/r/wAABQDy/9j/2f/4/zAAkwAzAeUBdwL6AqsDewQKBQ0FnwQYBK4DRAOkAtsBKwGsADwAx/9v/1H/Yf+H/67/w//A/63/lf9z/zL/uv4Y/on9Pv0W/cf8Pfyh+wz7VvpV+Rj48vYx9uX16/VF9ij3uvje+k39vf/0AdIDQQU7BtkGHAfOBrsFKwSfAjgBxP9b/mT9Av3n/Mz8tvzH/A/9jf0w/tv+fP8mAPYA5QHOAo8DHwR5BJkEgQQ9BMAD/wILAgQB7//Z/hD+6/1a/vr+m/9XADIBAgK9Am4D5APVA0gDpwJRAkwCWQIvArUBCgFrAP//wP+Q/1z/KP/4/uH+Fv/B/8AAvgGGAiIDogPxA+YDXgNIAssATv8z/pT9Tf1K/Zj9Kv7S/nP/FwDCAFYBnAF4AQgBmwBvAJYABwGhATEClALiAkIDnAOFA5ECmQDV/Zv6N/fO84nwyu0v7DvsBu438Vj1Ivp2//sE6gllDSAPXA9lDlMMYQn3BXQCI/96/Ov6jfr2+qb7Xfwx/Tn+Qv/e/8T/Ef8g/lD93/z1/J/92P6LAHYCHgQlBZgFtgV9BZkE1QJ4ACP+XfxR+9f6yfo1+z385v0BADYCCwQqBYcFSQWHBFAD0wFsAGf/1/6r/tr+cv93ALMBzgKVAxQEXQRuBEkE6wMyAwMCmQBd/3T+1P2j/Rf+BP/w/5cAHgGbAfYBDQLoAZoBPwHzANQA9gBQAbMB9QEiAlICYwIIAikB+f+u/mv9VPyX+0/7evsM/Pz8QP63/yIBPALRAt0CgQLbAeoAoP8M/nD8LPuC+nL6zPpx+z785fwv/V791P1m/oL+AP5i/UD9tP1l/tv+3/6e/oj+4/6d/1UAsACaAF8AUgBxAHkATAABAK7/Sv/n/rj+1f4r/5n//v82AD0AQQB7ANsAEQHwAJ8AbwCWABABqwEjAlkCYAJnAoMCowKmAnkCHwK+AZUBygE8ApwCwAK/AsUC1AK3AiwCFQGY//j9i/ys+5b7N/xO/a7+RADsAV4DYgTnBOoEbQR4AygCrAAy/9v9vPzv+477qvtC/Ef9m/4FAD8BDQJrApgC2QIuA00D6AL6AdEAyf8G/2/+6P10/S79J/1g/c39UP7J/iX/a/++/0QADQH2AbIC9wKkAtoB5AADAEH/jf76/a/9q/3E/eD9Av4a/hj+GP5N/rT+E/9G/13/Zv9m/3D/lP+s/47/Yv91/8r/GABFAGAAVwDq/xH/GP5W/fX8Bf13/Qr+hv4J/8v/pAAsAUMBHwHgAIsAZwDFAHEB3QHjAdwBCAJEAlQCIgKyAQwBRQB//93+hf6L/uP+Yf/o/5gAmQG+ApkD3gOHA6ICRAG2/2H+j/1N/ZD9S/5o/8AAJgJkAzUEbwQmBIkDmwJSAfb/7v5N/t39nP3D/VP+Bv+6/3wALQF/AU4BwgARAFz/u/5I/g3+AP4I/iT+f/46/x0AvQDiAK8AVADs/5X/bP9Z/zn/Lf91/wsAngDoAO0A0ACbADYAjP+t/uf9k/3k/cn+AwBMAWcCLgOJA2gD0QLpAc8AiP8c/tn8LPxA/Of86v0e/0EACQFrAYoBcAEAAT8AYf+P/t39YP0s/Tn9cv3f/ZH+Xv/5/z8APQDp/zT/W/7L/b79F/6h/kr/GQAKAfUBlQKsAiYCHgHZ/7P+8f2T/X39w/2P/tT/QQGOAqADXwSjBDwELAOyATgAEf9f/jX+iv4g/7r/bABhAVkCxwJuApIBkwCo//L+jP5+/r7+Tv85AH4B7AIfBLYEmgTwA9oCawHK/yz+svxo+3r6L/q5+gf8zP2n/1ABnQJpA6ADVAOtArsBiQBe/5P+Nv4Y/i3+lf5B//D/dgDLAMAAJgAh/xz+ZP0L/R39s/3B/gUAOgE3AvICaQOTA10DuwKyAVYA2P6S/df8qvzR/CT9u/3C/jEAsAHFAjEDBAN0ArEB4gAiAG3/sv7//YH9af3H/X7+X/9LACoB1AEVAt8BRAFRABf/0v3a/FX8QPyl/Jb9+P5yAKwBbwKoAlYClgGXAI3/qf4i/hf+ev4k/wIACAH2AYQCtgKzAlwCeQFBADv/n/43/uL9xf36/Xb+Nv89AFwBRgLZAikDTQM5A9QCHwJLAZAAAwCR/yv/2v6g/nX+Zf56/qP+y/4O/5f/XQAYAYsBswGwAaMBoQGdAVwBrgC5/9b+Tv4g/ij+Uf6j/iH/sf8fAE0ARAAgAO//n/8f/3b+4f3C/VX+c/+0AM4BsAJYA7EDqwM2AzsCxAAx/wX+hP2P/eL9Vv7s/qP/UgDOABMBQgFkAVUB/wCJAEMAZADOACgBNAHuAGAAmv/E/gz+a/3G/D78JPyn/Jn9lv5X/+L/ZgDvAFQBcQFFAeAATwCk///+jf5j/mP+Zf52/r7+K/+H/+D/ZwADAVIBLAHbAMIA+wBNAXQBbQFpAXMBcAFXAToBAQGEAN//V//2/pj+TP5T/rX+Ov/C/2cANQECApMCzQLFApsCVgLZAQMB4v+2/s79Xf1j/cD9UP75/qH/IABnAJIAzQAPASQB8ACPADsAAgC8/0X/x/6U/sv+Nf+N/8X/+v9FAJ8A5AAKASMBOwFOAVkBWgE3Ac0AFgBI/7P+j/7P/jL/g/+2/9n/8/8BAPr/zv+D/zX/Bv8G/yr/Wv+F/6X/s/+e/1//Df/W/t/+Kv+X/wYAdQDdABoB+gB2AL//Df94/vv9kv1V/Wf93f2w/sn/BwE1Ag4DbANIA6wCtQGtANb/Kf98/uT9q/3y/ZL+Vv8aAK4A5QDVALwArgCSAG8AawCYANwAHgFdAZMBrAGTAT8BsAACAHr/Uf96/6v/pv92/1v/j/8TALUAMQFrAXABZgFfAVQBMwHiAD0ATv92/ij+Wv6k/s3++P5T/97/ewAVAYoBsQFsAckA//9S/+/+xv6j/mv+R/6A/in/CgDTAFsBqwHTAb4BUgGmAAMAmv9m/13/fP+3//n/PwCCAJIAQgC3/0T/E/8D/+3+3f77/mD/7P9sAMoACQEdAfIAnQBHAPX/gP/l/lv+Iv5Q/sL+Sv/V/2YA8wBZAYgBhQFIAcEAEABs/+X+dP4t/jr+mv4X/3v/wf/+/0QAjAC9AMgAswCMAGMARwBAAEMANgAKAMz/o/+j/6H/eP9W/4b/6/8nADUAbgD4AIwB4gHlAY0B3QARAGj/0P4Z/mT9Ev1T/fn9w/6S/04A2wAsAVoBjwHlAUICZQIhAn0BowDW/2X/X/9b/+3+P/7p/Tf+2/5c/6L/+v+mAIgBMwJoAkQC/QGkAUABzQAzAHP/zv6Y/tj+QP9+/4b/jv+//wgAMQAiAP////8tAFoAUwAfAOn/sP9f/xP/Bf8j/yX///7w/ib/hf/U//n/+P/i/8D/jP9C/+/+o/5n/jv+Iv4g/kP+m/4p/8X/RACfAOgAIwE8ATIBEQHPAGUA///V/9v/0f+s/5v/sf/R//H/JwBuAKkA3QAmAWsBeAFNASABEAEIAfAAyACUAFMADwDh/9n/+/80AHQAswDnAPgA1wCbAGkAMgDP/0f/3f7G/vv+X//O/yEAQQA1ABkA+//Q/4v/Nv/z/tz+4/7z/hz/gP8GAG4AjgB4AE8AGADJ/2H/C//y/hT/SP9z/6T/9/9qANAAAQEOAR8BKQEGAcMAkwBzADIA0f+M/33/if+W/6n/uf+6/8j/BwBiAJgAlgCHAJcAvADPALQAbAATAMz/ov+F/2L/O/8f/xT/Ff8i/0X/gf/K/w8ARABVADwAFAACAAoADwABAOr/1P+9/6v/qf+2/8v/6v8XAE0AdAB4AF0APQAuACgADgDW/5b/df+B/6r/z//g/+L/4P/n/w4AXACZAJMAagBqAJYAoQBhAAAAwf+4/8b/xv+0/6//yv/6/x0AKgA1AFQAdgB5AGkAbQCBAIAAcQB3AH8AVgAUAPz/+f++/03//P7o/uv+/P4//6r/AAAoAEsAlAD0ACsBCgGrAE4AEgDn/7v/ov+v/93/GgBTAGcATgAtACoALgAEAK3/Yv9S/2z/ev9k/0n/Vf+H/7j/2f/9/ygASQBiAIMAnQCUAG0ATgBLAEEA7f9D/6f+gv64/tf+xv7Z/jb/p/8FAFkAlACRAF8AMQARAOP/rv+d/7D/sf9+/zD//v4H/z3/fv+9//7/MwBLAFsAhgC2ALEAcwAuAAIA3/+1/5b/mv/G/w8AZQCxAOYA/gAEAQ0BHwEKAacAGQCu/3H/Ov8J/w7/Tv+Q/6//v//d/wsANgBKAEQANAAtADMALwAQAOv/4f/7/xQACwDi/8b/1//3//b/3//l/wQAEAAFAAsAGAAAAM//vf/J/8L/nP+M/7f/AgA3AEIASwB3AKkAogBdABcA9f/i/7//mP+R/7X/5//9//z/CQAwAE0AQwAaAOP/qv95/13/Y/+T/9n/IABsALwA5AC2AE8A/v/g/9D/tf+e/5X/jf+D/4X/lv+s/8n/9/8rAFMAZgBzAI4AswDEAKgAcABBACkAEgDk/5//Xv82/yz/Mf83/zz/Sv9y/8T/NgCVAKwAgABNAEEAVABhAFIAMwAdABEAAQDq/9n/1f/T/83/yP/S/+f/5P+7/6D/0P8xAGsAWAAoABUAIAAxADUAKAATAAoAFQAaAAQA7v/8/x0AIgAGAP//KgBsAIYAYAAbAOr/3f/f/+r/BAAhACEA\" type=\"audio/wav\" />\n",
       "                    Your browser does not support the audio element.\n",
       "                </audio>\n",
       "              "
      ],
      "text/plain": [
       "<IPython.lib.display.Audio object>"
      ]
     },
     "metadata": {},
     "output_type": "display_data"
    },
    {
     "name": "stderr",
     "output_type": "stream",
     "text": [
      "100%|██████████| 300/300 [00:57<00:00,  5.21it/s]\n"
     ]
    },
    {
     "name": "stdout",
     "output_type": "stream",
     "text": [
      "Epoch [1/2], Loss: 2.542619188229243\n"
     ]
    },
    {
     "name": "stderr",
     "output_type": "stream",
     "text": [
      "100%|██████████| 300/300 [00:56<00:00,  5.29it/s]"
     ]
    },
    {
     "name": "stdout",
     "output_type": "stream",
     "text": [
      "Epoch [2/2], Loss: 0.7399840819835662\n",
      "Playing clean audio for sample 0\n"
     ]
    },
    {
     "name": "stderr",
     "output_type": "stream",
     "text": [
      "\n"
     ]
    },
    {
     "data": {
      "text/html": [
       "\n",
       "                <audio  controls=\"controls\" >\n",
       "                    <source src=\"data:audio/wav;base64,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\" type=\"audio/wav\" />\n",
       "                    Your browser does not support the audio element.\n",
       "                </audio>\n",
       "              "
      ],
      "text/plain": [
       "<IPython.lib.display.Audio object>"
      ]
     },
     "metadata": {},
     "output_type": "display_data"
    },
    {
     "name": "stdout",
     "output_type": "stream",
     "text": [
      "Playing poisoned audio for sample 0\n"
     ]
    },
    {
     "data": {
      "text/html": [
       "\n",
       "                <audio  controls=\"controls\" >\n",
       "                    <source src=\"data:audio/wav;base64,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\" type=\"audio/wav\" />\n",
       "                    Your browser does not support the audio element.\n",
       "                </audio>\n",
       "              "
      ],
      "text/plain": [
       "<IPython.lib.display.Audio object>"
      ]
     },
     "metadata": {},
     "output_type": "display_data"
    },
    {
     "name": "stdout",
     "output_type": "stream",
     "text": [
      "Playing clean audio for sample 1\n"
     ]
    },
    {
     "data": {
      "text/html": [
       "\n",
       "                <audio  controls=\"controls\" >\n",
       "                    <source src=\"data:audio/wav;base64,UklGRnxKAABXQVZFZm10IBAAAAABAAEAgD4AAAB9AAACABAAZGF0YVhKAADl//D/AwANAAoAAQD4//H/9f8BAA0ACwD9//D/8/8FABIADAAAAPz/9v/q/+z/BgAeABQA7v/O/9v/CAAhAAoA5P/b//P/BwADAPL/5//u//v//P/x/+n/6f/r/+7/8f/1//n/+v/2/+//6//s/+//7v/n/+T/7P/9/woABgD2/+n/6//2//z/+//8/wAABQAGAAIA+v/z//z/DAAQAAAA8f/2/wMAAwD3/+3/7//5/wcAEAAIAPb/8P8AABcAHAAKAPX/9v8NACEAGwADAPH/7//4/wEABwADAPj/7P/q//z/FgAeAAcA8P/x/wEACAAAAPj/+v8DAA0ACwD9/+z/6//6/wgACQABAP7/+//2//j/BQASAA4A+//r/+r/+f8NABkADQD0/+f/9v8SAB8ADwDx/93/4//9/xEADwD8/+z/8P8DABIACgDy/+X/8/8LABYACwD//wAADwAZABMACgAMABQADwD9/+z/5//v//v/AAD7//H/6v/t//3/DwAQAP7/6v/r////EAARAAIA8//v//b///8DAAIA9v/i/9//8v8BAPr/6//r//n/AQACAAEA/v/6/wAADgALAPH/3//w/xAAGgAFAOz/5f/2/w0AFwAKAPP/6f/1/woAFQAPAAYACgAbAC4AMAAbAP3/8f8BABkAHgARAAIA/f8AAAYADwAUABQAEgAQAAsACAAMABUAFQAHAPz///8LABMAEQANAA8AEgASAAsA/f/x//f/CQAVAA8ACAATACYAKgAXAAAA9v/+/wYAAwD//wIACQAJAAgADgAQAAgAAAAFABQAHAAQAPv/7P/z/wgAFwARAP3/7P/r//r/BQD//+n/3f/p////BQD7/+7/7////w8AEwAMAAIAAAAFABEAGQASAAAA9f///xcAJgAXAPb/3//l//3/DgARAAoA/f/v//H/BQAZABgAAwDv//H/BgAUAAQA5f/S/9n/7f/7//v/8f/s//X/BAANAAoABQAGAAkABwADAAYACwALAAoADAALAAUA///+//3/9//1//n/+f/w/+z/+P8EAAUAAgAHAA0ACQABAAMACwAOAAgAAAD7/wAACwAUABQACAD0/+D/2f/j/+//8v/u/+3/8//7/wEACAANABAAEgASAAsAAAD4//z/BgANAAoAAAD6//n/+//+/wMADQAQAAkABQAOABwAIAAbABMACQAAAAAACwAQAAUA+P/6/wgAFQAUAAsADAAWABcABQD6/wUAFwAVAAMA+f/4//j/+P/5//r/+f/7/wMAFAAjACMAEwAHAAoAFAATAAoABgASACQALAAjABgAGAAcABcACAD+//v//v8DAAgACAAEAAEABgAUACIAHgAKAAUAHQAvACEACgAKABUAEgAHAAcAFAAgACMAGwAIAPf/+P8MACMAJAAGAOn/9f8tAGIAYgAsAPb/9/8lADwAGQD0/wIALQA4ACYAGgAcAB0AHgAlACoAKAAiAB4AHgAgACcALgAtACIAFwAYACIAJQAVAPv/7P/6/xUAJgAjABUAAwD0/+z/8P/9/wYAAQDx/+f/8v8DAAcA+v/p/+n/+f8KAAwA///u/+r/9f8DAAoAAQDz//H/AAAPAA0AAAD4//3/BAAAAO//5v/w/wAAAAD2//H/+P8BAAEA+//6/wUADwAJAP//+//5//P/7v/y//b/8//z/wAAFAAcABQABQD4//L/+P8GABAADgAFAP7//f/8//X/6//p//X/CgAaABQA/f/w//r/CAAIAAMABQADAPL/3f/b//T/BgDq/6z/oP/o/zcALwDR/4D/mf8EAFIAMADJ/4f/nf/h/w8ACQDb/7D/qf/H//f/FgAIANb/tv/N/wQAKgAjAAIA5f/d//D/CQAWAA0A+v/q/+v/8v/t/+D/6/8OABwA/f/c/+z/HAAyABAA3//d/xYAUwBJAPb/p/+q////YQB5ACoAv/+j//T/VwBqACYA1v+3/9H/DwBHAEcAEADZ/9D/8/8SAAQA1v/C/+D//v/u/9T/3P/r/+D/3P/5/wsA7P/C/8n//f8lACIA+//P/8P/4P8LAB0AAwDN/6j/xP8IACgA/f+//77/AABBAEkAHADs/+n/HwBWAEEA8f/N/w0AcQCDACwA0v/m/1sArgB6APn/uP/w/1kAkgBsAAAAq/++/yMAfAB6AA4Aof/U/2wAVgCE/1r/jgDRAUcB4v4T/Vz+7AHcA7gBvf0n/DP+dQEJA90BA//5/JX9JQAwAu4B2v/6/dL9L//NAG0BowA4/2f+yf7z/+QA1gDy/xj/+/6W/00AlABbAO7/oP+a/83/FgBRAE8ABwC0/53/2f88AHgAYQAUANP/xP/s/zAAYwBZABEAxf+z/+X/LwBdAFEAFADS/7n/4f86AIYAeAARAK//rP8EAGAAaQAfAMz/sf/S//7/DwAIAPr/7v/q/+z/7P/p/+T/2P+//6n/sf/b/wEAAADd/7//xf/o/wgAEAADAPX/6v/h/9v/3//q//X/9v/u/+f/6P/u//H/9f/7/wAA/v/z/+n/8P8DAA8ABQD6//7/DQAUAAsAAQAAAAYACAD//+//7v8DACIAMQAjAAMA7v/6/xsAMgApAAoA9f/9/xQAIAARAPT/6P///yEAJgACANr/2f///yEAJAAGAOD/zv/n/xUAJQAAAMz/vP/S//D////8/+X/w/+v/7b/yv/Y/9//4//j/9v/0f/R/97/8P/2/+f/zv+9/8D/1v/1/wsACgDz/9v/2//8/yUALQANAPL//f8XAB4AFAAXACoAOwA3ACkAKQA7AEEAKAAIAAkAKgBKAFMASAA2ACwAMQA/AEcARQBEAEcARQA2ACMAHQAiACEADQD2//j/GAAvABgA5P+9/8D/5P8LACUAMQAmAOv/kf9h/5X/BgBYAFUABgCe/1f/Xf+l//r/IAAEAMj/pv+8/+z/BAD1/9H/vP/C/9j/6v/s/+P/4v/o/+P/0P/F/9f/8//4/97/wP/A/+P/CAATABMAGgAfABEAAAAAAAkADQAPABgAIAAZAAgAAAANACcAMgAiAAoABAAPABkAGwAZABkAGwAXAAwAAAD9/wMACwALAAYACAAVACAAGQAHAPv/+P/9/wwAHgAhABAAAAABAAsADQAGAAYADQAVABYAEQAPABMAGQAXAAoA+P/q/+r/+v8OABcAEwAUACoASQBWAEUAKAAeADQAUQBTADgAGAALABYALAA5ADEAHAANAA0AGQAgABUACAAYAEIAXQBDAAEA1v/z/zwAVQAVAMH/rv/X//7/CgAOAAsAAAD2//X/9v/z//D/7v/q/+b/6//4////7//S/8L/0//1/wAA5v/F/8P/1f/i/+L/4v/g/9r/2//p//P/6v/Y/8z/zf/X/+X/8//4//H/3v/O/9P/6f/2/+j/0f/O/93/6f/n/93/2P/d/+7//P/7/+z/4P/j/+7/8v/q/+D/3v/m/+7/7v/p/+j/7v/3/wAABQAAAO//2//U/+D/9/8DAP7/8P/m/+f/7f/2/wEACwARAA8ACAADAAMABQAAAPT/6f/w/wgAIQAmABYAAQD2//X//P8CAAEA/v8DABMAIAAXAPj/3f/u/x8ALwDr/3L/Ef/v/hj/gP/0/yEA4/9n/x//Wv/z/2MATQDV/2f/SP98/+n/VQBzACoAxP+S/67/8P8jACwACADR/6j/p//V/xQALwAQAOT/2P/l//D//v8bADsARQA7AC4AIwAgACcANAA9AC4AAADI/7T/1v8LACcAJAAVAAsACgAWAC8ARwBNADsAGAD7//X/BgAjADQALgAUAPr/7//4/wwAGwAbAA4ACAATACcAMgAzAC8ALAApACoALgAvACsAJQAgABQAAwD9/wkAIAAtACMADwAKABsALQArAB4AHAAnAC0AIwAOAPz/8//v/+v/7P/3/wMABQD9//P/6f/f/9v/3//p//b/BgAXABsADQD9//v/CAAdACwALwAlABIAAQD4//P/8f/2/wAABgADAP///P/0/+T/1v/b//X/EQAgABsADQADAP3/8v/i/9b/2f/q//r/+v/x/+z/8f/9/woAFwAgAB8AFgAFAO//3P/a/+r/+f/2/+v/5v/n/+f/8P8GABoAHQAWABQAEgALAAgAEQAUAAYA+v/8/wEA/f/6/wYAGQAgABgACAD4/+r/6//9/xIAHgAjACUAGQD9/9//0v/b/+z/8//u/+z/+P8IAAsA///u/+P/5v/8/xoAKAAYAAAA9//4//X/8//7/wgAEwAbAB4AFgD//+D/yf/H/9r//f8dACwAIwAPAAAA/f8FABQAIwAvADkAQABAADEAFwAGAAsAHAApACoAIwAUAAEA9f/w/+r/4f/i//b/EAAeABkADQAFAAUACAAKAA8AGgAmACwALAAnABYA9//T/7r/t//H/97/8v8AAAcAAwD0/+L/2//n/wAAFwAeABIAAADv/+j/5//p/+7/8//0//L/9f8BAA0ACgD2/93/z//U/+z/BwAUAA4AAwADAAoACgD9/+n/2//c/+7/BAASABUAGQAkACwAKQAiACEAIwAcAAoA9//u//b/CwAjAC8ALQAgABEACwAQABYAFgAUABUAGQAcABcAEAASABwAGwABAOD/1P/l/wQAFwAQAPj/4P/U/9n/9f8gAEUAUQBJADsAKwAdABsAJQAlAA0A8P/k/+//AwAUABoADwD3/+L/4f/2/xIAIwAiABIABAAIAB0AKwAqACQAJQAjABUABgAMACcAPgA7AB4AAQD+/w8AJAAuACcAEAD1/+z/AgAmAEIASwBCACUA+P/P/7//w//S//D/FwAxACYAAADY/8H/v//N/+b/AwAhADQAMwAbAPb/0f+2/6v/sv/F/+H/AQAcACAABADP/53/kv+5//b/JAA2ADYAMwAvACUAFQAMABQALABDAFEAVABJACkA7v+m/4D/mv/h/y0AZAB8AGkAMwD9/+X/7v8DABYAJAA2AEwATwAyAAAA0v+0/63/zv8RAFQAcABaACgA+P/Z/9H/2//u/wUAJQBDAEcAKAD9/9v/xf+5/8X/8/8qAEcAOAAEAMf/nf+c/8D/7v8MABIAAQDi/7n/kv99/4b/rf/e/wEACgD6/9b/sf+g/6T/qP+h/6f/zf8EADIATgBRACMAyf96/3P/sv8CACwAHgD1/9D/t/+n/6X/t//N/9f/2//u/xIAOgBOAEIAIwAKAAgAGAAqADIALQAiABQAAQDq/9X/0//h/+r/4v/a/+L/7P/a/6r/ev9u/4//yv/9/xYAGAAKAPT/3//R/8z/0//z/ygAUgBYAEEAHgD0/8v/xP/w/zIAWwBWAD0ANABKAGQAYAA4AAwABgAsAFMAUwAzABMABgALABkAKgAzAC0AHgAPAAUAAQADAAUAAQD7//j//f8AAPX/2P+3/6r/uv/g/wIACQD4/+H/0P+1/4r/af9s/4b/mf+e/6T/tf/P/+T/5f/P/7j/vv/l/wQAAADg/8j/xf/O/9n/4v/p/+j/3f/C/5//iv+Z/8T/4P/U/7n/sf+0/6b/g/9l/2v/jP+d/4T/V/9H/2X/mf/E/9X/zf/G/+T/IgBWAF0ASQA8ADkALgASAPv//P8PABUA/v/g/+b/FgBIAEkAEADO/7b/2P8TAEIAWABrAH4AcwBBABMAEgAxAD0AHADz////RwCHAHsAMQD9/xYAZgCjAJYAVQAgAB8ARQBrAG0AOADk/6H/jv+l/8f/2//n/wIAHgAPAML/af9b/7v/SgCdAIMAMwACAAgAHgApADUAWwCYAMoAvwBrAP//vv/F//f/CwDe/5j/mf/+/28AhgA+AOP/rv+q/9P/BAAEANn/y//0/wcAwf9E/wH/M/+d/9H/nv9E/zb/nv8gAEIA5f9l/1T/6f+zAAMBlgDX/2X/dv+1/7z/aP/i/pL+1v6I/wkA/P+r/5D/q//G/+L/+//V/17/9f4T/8T/eQCBANH/KP8+//X/qgD/AA0BBwH8ANQAhgA+ACMAIQAHANT/rP+r/8f/2f/I/6X/lf+n/9L/CQAsAAkAqf9Y/0//cf9w/zH/8v4N/47/FAAqALT/Dv+4/uj+c//9/zwAQQBSAHYAYAAAAMD/7f83ACMArv9U/4b/BwATAHX/8f4x/8T/1/9i/w//Tv/2/4UAoABiABYAz/+a/7f/KAB/AEMAev/P/gL/9P+mAIQAJQBtAFAB8wG/AQIBlwDlAGkBfAFCATUBRQEuAQkB8gCgAPL/U/8y/3D/rP/B/7P/eP8o/xH/Zv/4/14AWAANAPT/SgDOAA0B7gCTAAcAkP+3/3YA8ACgAB0AMwDSADoBAAF+AF4A1QBXAUoBzABrAF0AegCkAMAAmQBDACMAXQCLAGIAKAA+AIgAtgC9AMkA4ADTAHIA6f+s/wMAnQDuAMQAUQDm/63/nP+y/wcAcgB8AA4Atf8FAPsArwEcAcv/pP89AZsC4gEFAEX/NAClAWYCEwL4ANf/VP+P/yoAtQDjAKYAJwDg/14AiwF+AmcCWwFfAHkAZwHGAfMA7/8EABkB2QFjATwAo/8rACEBXQGlAOD/8f/VALsB4QFZAcgAiwCMAJQAdwAVAJb/WP+V/x8AoADWALIASwDT/4P/pP9aAEUBkwHqAPj/j/+5/wgARgBwAHIALQCm/0D/lv9+ANcAQADx/7cAfwEdAT8AFQBpAFUA0f9k/0z/bP+O/7n/KAC0AKkA8f+L/yoAEAEgAV8Asf+b/wIAhgC+AIQAAQB4/0L/t/97AJkAyf8D/0j/YwA+ARsBaQAlAJkAAwGKAGH/o/4b/zIAgwB+/zX+Af7c/sP/IgAXAOD/nf9p/zz/Ef/v/tb+zf7v/i7/Vv83/9X+df5g/or+l/5Z/iD+Rf6t/vj+Av/b/qL+gP6d/hH/4f+kAJ4A3/+E/+T/yf9o/s/8nvwK/mH/xP7B/Cr8F/7n/yj/Rf0R/bD+BQDJ/5j++P2S/nz/qf9//8L/CQCk//v+5/50/w0ARgAKAJn/QP8k/1H/2v+DAK4AHQB3/zD/2/46/gL+qv6E/6T/OP9H/10A1AFjAlEBP//O/Tr+CgBsAUQBWQDs/wkAIABOAN8ATwEWAY4ALgDT/3f/pv+HAEYBGAFUAPP/TADsAEQB9QDk//n+ov+BAS4CeABL/jX+NAD+AcgBLQBE/xwAjQHGAawAvf/5//EAjgEkAQsAWv/H/7IAyADh/2P/SACjAeAB1ADZ/ygAWAG/AbsAtf8iAFgBkwFpAP7+fP5M//sAUwIxAtMAtv/Y/7cANwHvAHMAaACOAAAAz/6A/t3/ZwGQAfAA1wAxARIBTwCy/+3/qwC/ALP/mf6g/oP/EQDG/1z/1/8tATIC0AFPADb/pv8MAcoB+ABl/8j+5P9wAVgBWv+Q/dv9hP+NAFoAzv+8/0YAFQG2AQwC7gH2AG3/ov5F/0YARABI/2f+V/4I/wcAxQDoAI0AHQAKAIEA9gB9AOD+Gf13/GL99v7h/6X/5f6d/h7/0f/1/5X/b//r/44AtQCIAKUAIQF+AWkB0wDh/zb/ov/KABwB0f8y/sr9ef5E/87/RgCwAF8Aq/6w/A39EwBSAggB8v2Q/K79RP+C/4z+w/0i/jz/uP8L/zb+mv4xAHgBLwH5/2H/3v+UAIsAiv8u/ln9W/0R/kP/UwBNABb/4v3+/Wz/2wD0AM//0v75/rv/2v/+/hn+LP4J/6P/NP8T/qf9Af/1AN0Aaf7U/HX+PgH5AbgAwP/8/5QAogATAKb/1P8HAM7/7v+zAMcAT/+9/cL98v7p/0YATQDn//7+If4a/hL/WQDyAF0ADv9E/gX/xwDZAVQBDAC8/xcBigLHAeb+0vwA/nYBvAOdAm//bf1U/rwA0AGOAL3+n/6LAJcCnQKAAPL9e/zG/L7+aAFTA3ID3AEJANH/TQGAAqUBYv/g/Uz+HwAaAsgCYQEB/wP+kf9FAoMD/QHq/sb8Af3i/owA8QBsAN7///8BATkCnAKxAfr/3/6t/94BRQN7AmYA9/7m/lf/N/+M/mn+f/8IAfoBcQKRApIBiP8//gf/5gCMAcz/Vv0//fn/JgIJATH+5fzO/UL/IgCFAKwAmQAqAGX/xv71/g0ALwETAdr/X/87AHIA+f4F/oP/swGyAW7/cP3C/cv/BQEiAKL+hf6O/xoA1P+4/2QAowG/As4CcgF6/1T+1P54AOAB/gHrAL3/Rf8z/xz/Vv+s/9z+EP2x/DD/iQJhA9EAdP2z/GD/8QIdBDwCm//E/kEAngK1A4kCJwBh/jf+cP+cAEUA4P5j/pX/+ACjAJ3+OP2C/nwB4QL4AMP91vxF/1YCmwLR/y/9y/0fAakD2wLW/+792/7OABQBmv8n/o39vf3Q/mwAcQHgAPr+df0p/vcAhANpA5IAjP0x/Z7/AAIYArIA3/8DAC4AJABqAP0AXQElASgAwf77/bX+qABcAjgCBgBl/WL8uf02AJ0BngBK/hP9Nv5tAFkB6f9h/fv7o/xc/qn/LgByAIgALACK/w3/9f5O/+v/rgCyAXUC5AEcAPD+nv8nAcsBLgGBANQAnwE/AV7/+P3T/vUAcgISA10D/gLGAa4AvQCgAekBkwBf/m793/5kAbwCCAI4ALn+Kf4k/kr+xP58/6f/xf5z/Vj9pf+vAuAC5P8B/loAewRJBS4Bb/zK/DwCRAYpBDf/k/3i/wcCggE6/yz9A/0U/3ABigF7/wz+4P5KABwA/f42/1gBhgOkA6EBtf/P/xYBrwFfAXcAff4K/Iz7af63AskEuQKm/t38Jf+uArkD7wHD/+z+X/9zAGoBqgEzAXAA8/9DAEwBOQJKAnQBYQDf////CwC9/8D/WAB6AJn/BP/J/9IA5AChAPsASwGZAGj/0v4N/6//eQBGAdMBxQEWAVoAZAB1AbkC6gKHAWX//f07/q7/9AADAfr/sv5d/uH/NwLIAkUBvgDEAm4E/wKEAGcAPwKHA4wD0gJfAaT/Cf9kAMcCJgQmA7YAZ/94AE4CrwKEATYAl/+Y/x8A6gBiAfUAgf/M/Tj9Ev4O//n+Gv63/XH+Tv/I/g79Vfwv/k4BNwMyAz0CQgHUAF8BaAKoAqYBbAA9ACUB/wGzATwAm/7L/en9k/6Q/4YArACh/zH+Zv1u/QX+Df8fAFwAjv+v/rn+jv84APX/Vv/V/2QB9wGgAGr/XgBjAvACkAHl/1n/MACtAVMCLgHZ/uv89fw0/6cBnwGy/oH7PvtP/rUB3gFM/lf6r/l3/JIAqQTvBrgEQv+6/HgAFwYbB6wCoP2v/LL/ZALEAUr/3/2H/aD8mftk/H3/GAOLBMUClP+D/Uv9Lf6A/+wA+wHbAUsAY/7H/f/+rQARAJP7EfZp9dv6FABl/yb7wPjo+Lb5mPvm/usAmv/l/M77xfwg/qP+W/7x/QT+5v7w/xcAef9Q/xQAngC0/9/93fy1/W//7P+g/mn9lf3l/fj81vuM/FT/zAE/AUz+8vwH/0MBRACj/R/9Kf/3AIcAQf4I/LP7df13/7j/Lf6u/Nf8Vf6L/4f/xP5D/oL+QP8CALMAgwFdArcCCQK5ACMAgQAtAIn+tv38/hQA4/4X/QL9rv13/Vz9gf5j/9n+wv59AAsC3wHrAd8DnAWnBEsCPgG2AYsCkwOCBAQE6gFKAOAAuwK7AxYDxgEKAU4BKQLBAosCBwIHAp4C/wJvAjoBugAFApUEiwaIBhIFqQP2AscC7wIAAykClwDH/3gAggF7AXEAn//B/1QAPQB2/17/ogDHAYIBAwGFAekBTgFDAcoC6gOrAk4AUv8iAF8B5wFbAeP/QP5g/Z/9q/5u/6X+yPwY/Er9GP7H/A77MPt0/Nr8R/y7+1X7yfp/+uX6v/ue/Ff9vv2V/df89/vR+w/9FP87AOn/d/8qAFkBswFPATYBxwGhAmEDtANoA7ECEQLvAT4CnwLQAqAC4AEEARsBEwIfAoIAMf+V/w8AMP+V/pv/TwDG/on8Gvxe/VP+5P3D/Ev87vzN/bH9ifxq+z/7w/vt+zH7RfoW+qP6PfuZ++X7Q/xn/O778vpI+qT60vvR/Ov8Q/yv+8f7Vvyr/G78z/tR+1j79PsE/V7+ZP86//T9BP2P/Rf/OQBZAPH/v/8NAJcA0wCPACAA+/9UABMB0gElAvsBpgFzAW0BhAG6ARYCbQJ1AgYCZQESAUkBugHkAZwBYQHaARIDOwSlBIYEewR/BIIE5wSLBWIFPQShA8EEpAaTBxsH9AW4BMYDjQNLBJkF4QaoB5kHiwYRBUAEmwRuBdIFtAW6BUcG6AaiBlQFEQTDA/ID/gNVBFsFFgaoBaME9gN7A9kChgIAA8gDLgQyBB4EwwMfA8wCKQOuA/8DkQSXBSoGbgXKA1UClAFRAS0BBQEEAUYBfQFrATkB4QDi/1r+iv1d/hgAPQEcARgA5/4J/q/9tP3f/Sb+l/4n/6P/vf8+/13+sP2f/Q/+u/6W/2YAngD0/+f+OP4u/nj+qP7G/kL/PgAnAVIB0AArALv/zv+2AEkCuwM5BKID+AJ+AzoFsQaaBmcFvgR4Bf8GDQihB8YF9wPvAxQG2ggtCkYJQQfdBWwG3gh7CwoMIAq/B10HggllDLwNUgy0CJAEZAET/0j8m/c18bHqH+Zc5H/kNORy4RrcN9az0lXTW9dR3BjgmeJK5XjpoO4A8+n0hfSn8470zPck/Ar/vf6S+9T32/V19oP4ZPo3+0/7Bvx3/t0B5wMxA+YA/f95Ao4HWwxwDqIN3QsHC6wLFA1mDk4PSxDKEb4TkhWwFqAW9hWvFX0W4xdjGdEavxxGHygi+CTIJ9gqmC57Mg81nzQtMFcpbiIwHY8amBkaFQwGsOl4xkGqhaCzqGm2cr2MvNu7tsEQzsXbQ+Qf5JDgteTD9hMSAirHNKQx1Ce+HwwdTRwVGLQN8/9A9QvzXveN+ejxnODozdDCRcOMzFrXPd093vPfVOdn87X9VQCd+xT2kfbU/tIJ/BB6EIAJ/QDi+8L6+Pkq9aXru+GC3YDhcerP8fry9O7F6lrrvPF3+uUA+gJdAp0C/wUdC0wODw1zCI8EKgV1ChUR2BTSE/oPBw02DcUPRBLgEkASLhJrE64UZhRcElUQ5Q+xEToVixmYHX0hfyVwKUYsLi3aK3wqmCwyMfwzbTKiLugs0Sz7IhwCLs/kpGaaO6sqwC7JC8ZPvm28OMaz1lDhSN/O1mzXT+2qE003rEaXQO8wbyMnHTQesR9wGPgH4PnZ95X+WgG99nbgRcjwuA+3er+ay4DV1dkn2wXggeqy9Ib4ePd59/L7wgOQDIYS0BHrCSn/3faY8+3zl/Ro88PwnO5d7kjwxPON9xX6n/tX/tMDuAqyD1kQKg34CEIHvglBD8UU7BdpGGAYLRpQHq8iTCXyJakmXSlMLl8z8za6OCQ5GDiQNu42ODsLQy5JpkfVPfMw7yRvFmj9VteKrsKUUJRjpjG61sMmwzG+Nb2ZxMDRg92j5J7rSvpYFDAzOEoWUP1F8DQtJpgdqRp/GP8RkwZo++z0x/Gq7GHhSNHfwY65bbs7xuXVM+V472z0D/hl/cUCDwWXBIQE0AeCDnMWyxuUG7YUqghl+9/xBe4Z7UbruOcQ5MjhxuFh5NnoCe1476vw4vIT+HL/rQUHCCgHwgWsBekGpAhrCfsH2QReAqkCmAUJCa4KFgrFCAQJvwsSENsTfhWwFA0TxxJYFR8aPx+lIgIkdSQsJi8qCTDWNUg6Jz3nPzJE+kglTDRLAkX/O/EyoySRBprXIqj6jbSQPqTOtIm3trDerO+xmr2fyn3UFNnn3VrufA6lNN1P4lVtSZA2hygmI+Uh3B6DFsIJ9vxX9b3yN+5z4fPMVLgbrCytbLp2zQneeee46kjtTvSv/xYKtg7+DtUPARVzHe4knSX0G/cIZfJo4DXZcNsP37fd8thc137c2uW37Vnw2e5t7sfzA//+CzsUVxPlCrEBoP0X/8oBrwFg/r76ZvqR/gwF6Am7ChoIzwUBCGAP/Rf1HFAc6xccE/IQlhIiFwAcPh9+IOkh2CW6LOgzVzj/OCc54jxoRJpMSE8/SQ1AUzz6O+YvuAnkzYqWAYAgj0ys0Lugt2etf6lZsKS/28/b18DWstZz5X8JijdAWAJcy0gSMY0i8R5OIaEhLRqOCxL9dPUR9az0MOp+0925LKpYqiy4Gc2e4NLqcepB5p3nUvIlAccKJwt4CGwL/RWiIVAm8x5NDFT2JugP56zuAPX68lfqCeMI47roMu7F76fuIe5r8df5UQT4CtYJXQKp+vf4J/5SBckIKwdcA7gAxgAqAzAG7Qc2CJAI9ArnD0cVahfcFOQPxgzSDToSTBebGiYbtBrEG24f2iONJqMmgCaVKYExoDvGQ29HhUXiP7Q5yTVeNps5OTPVExHcH6QXieKStK4Wwa29367rp9uvocDT0LrZtNhn1F/btPbTIL1GY1XjSAIweR35GAIdkiBZHbQSngSG+Tr1/vXD9Brp09KXvOiye7k/yoXbhObZ6dToFuhK62fzG/2xAvgBHgDMA3sOiRo1IAobHw0+/TLy2O6M8eb0f/Px7InmEOb/60fz1PVb8kDta+wq8sb7dQSMCDAHrwL+/r3+vQGIBU8HQgYaBEcD2QQVCEcLEQ0CDSEMIgwXDlAR6RMVFAgS2Q/zD+ESMBdwGncbnRqKGXgZ8BqUHRchDSVdKactrzGjNPk1LDauNJcx6y4IL5sx/zCoIan7Y8gRoRKZiasmwszKccTHul+59sBXyzvT69ZY1sPVvN6w9gcYYDSwPik13CLqFJgQ2xLGFjsYQRXhDRIFCf/w/Vr+Mvj15zPU+8clyU7UveAV6ATqcekQ6C/nO+lc7+723ftY/aX+SAQPDvgV4xUBDuYDGP0l+0P8T/2V/F/6xvc19s32nfik+IX1lfHo8HL17vy0Av8DAgLJ//f+jv97AawESQgBC/MLfQv8CjMLQgt6CtkJ0QpZDUgQcRJFE5oSpRDYDZoLjAviDYAQShE6ECsPdg8UEagSJROPEvMRFRKZE60WoBqdHWkePh0LHPgcnB/eIfEh5x9SHVMaThKM/3rjVMlVvejBRM7u1vbWBNJrzjLOCdDM0ofWitrz3fjhXOmV9s0HXBYqHDAZKRJlDFEKiAt4DvARrhM2Eb4KxARxA4UFlgU//4PzT+gC4yfkr+ia7ULxgPL48NTtvesd7bPxQvYZ+E342/lC/soDWQdOB8EE3wHI/3/+UP5p/y0BjALmAnIC3QFGAfH/wf0M/G78Av80Ai8EXASTAxADJgN9A9IDRQT5BOEF2gb5B3AJBQvPCz0Lzgm8CMEIfAnTCTIJGgh7B5IH/gcwCPsHWwdiBhsFGAQzBMgF+gdrCW0JtwiLCKgJbQurDLIMJAw0DLMNSRD4EusU0BXmFWkVpRSoE+kRRA6KBxr9L/Az5FTdS9214Q/mNucD5XTh4N5P3pvf6uFG5B7myufv6uHwTPnpAeEH0QnVCBsHTQbMBlMIOgrYC3sM/Au4CpEJ/QhcCNQGLgSmAKX84fh89jT2lfce+Ur5oPfr9Kny3fFv8n3zgfTd9Rv4HvsK/vb/mQBOAIv/qP4m/uX+FQG6A3oF2wVPBYAEtwPdAh0CCgLhAvsDegQkBHUD4AJgAp0BxACvAPQB/QOjBUkGJAamBSAFmQQGBHwDIQMCAxkDagP7A4MEoAQGBMUCTgF+AAYB0gLfBAgG9QVUBRwFygX3BsIHjweeBsQF1QXoBkQIxwgSCL8GBwatBq4IVgvlDQUQdRETEuwRSRH+DxUNfAdc/2T2Lu9r6/jqQuyd7QPuLe1h6yzpUedZ5mjmLedm6Gnqs+1u8vH3Ff3oAC8DJwQ2BLwDWwO5AzsFfwe4CfAK2ArmCcsIwgdMBtkDnQCT/dr77ftb/eH+MP+z/dD6yffe9Vn1c/Vg9TX1wfWf92b64fwd/hr+jv0l/Ur9Tf4iADsC0AN1BE0E7wPUA/sDHwQVBOwDvwOIAysDnwIKAr0B4wFjAvUCSAMwA8wCTwLkAY0BIgGMAA0AJwAPAUoCDQPcAuQBuQD5/+D/SADeAFcBkgHFAUgCIAPQA+UDbgMLA1gDZASfBV8GZAb7BZgFjQXQBTIGawZVBukFggWhBZcGCQhaCSYKjgoHC94L9wzSDfEN7wyZChYH7gKX/kf6GfZx8unv+u5n70HwbPBW71XtO+vI6T3pi+m46tPs6O/O8zn4lPwbAB8CbwKqAQYBZAHfAr0ETAZPBxIIqgi5CNsHOQZjBMcCeAFoAJn/HP/J/i3+7/w/+675nfgc+AL4D/gb+Dr4pPiE+b/6//vs/If9Lf47/7AAJAIdA20DTgMWA/AC5wIMA0UDQAPaAlsCFwIGAuEBewH+AKsApgDHAMUAfAAZAOz/GwCCAN0ACgEUAQ4BEgE8AYMBtQGoAWEBIAEsAX0BrwF7AQMBpwCQAK8A6wA7AZYB9wFOApYC1QIOAysDMANJA5wDFQSdBDEF0QVGBmoGQgYdBjsGoQYFB2MHEQhGCZkKewvJC9cL/gsZDKQLTwpjCCsGewMEAAH8DPi89E7yzvAk8CPwavBh8J/vN+7G7PnrMOxp7V7v5/Hw9Gb43/u//oAAGgH/AOkAQAETAjQDkQT8BRUHcAfuBssFZgQPA/UBPAEPAWEBzAHPASgB5f9B/pT8MPtn+mL61fod++f6lPq++n37Xfzb/Oj86vxG/f79xv5u//r/eQDlAC4BaAHPAXUCCgMvA+ICewJQAnQCuwLmAt0CrwJpAhkCxgF9ATkB6QB4AAIAzv8JAJMAEQE1Af8AqABvAGAAbwCUANAAFQFMAW0BiQG2AeYB5gGqAWcBUgFgAV4BOAExAaMBiQJfA7sDuAPSA0IE1wQmBRIF4gTzBEwF3wWxBrUHewivCG8IRwimCJUJpQp6CxYMggyTDP8LwQoRCQ8HcQTAAPn7APf/8qPw1e8Q8JnwvvAU8K3uFe3568frX+xZ7YvuJ/Ch8hH2APqs/X4AKwK5AosCbAILA5gEewbQBxAIigfRBiUGXAVLBBED+wE0AZ8A8P8F//n9Af1M/Or71/vx+/b7mPu/+rP5A/ke+QD6Qftp/E79D/7Q/oT//f8jABcAIQB9ACgB8AGgAh4DYQNbAwcDgQL5AZYBawF5AbYBCAJSAm4CSgLrAW8B9QCYAGIAWAB7AKwAuACWAHQAewCOAHsAOgAEABQAdgD7AGMBjAGQAZYBuAHrASACUgKWAv0CiQMkBKkE7QTkBKwEfQR1BKUEAQVoBaMFqwWjBdEFRQbQBhYHCwf6Bm8HpghlChMMRg0EDn4OwQ6eDvQNkwxKCusGkQKs/fL4w/QR8dTtc+tL6iXqPerd6fHo8+d657vnoegq6m/seu8D85z2Bvpa/Z0AdgNuBY0GSwdDCJMJ7AriC28MrAyMDNoLjgrDCKcGYAQZAhQAov64/dv8ePtf+QP3FvX081rz/fL18mvzN/Qs9Wz2TPjO+jf9iv6g/pn+ov/BAfMDTwWwBZsFewVFBdwEgwRxBGQE6wMOA1kCTwLFAtoCAwK1AN//3P9iAPEASAFoAV0BHAHQAO0AqgGOAukCggLQAX8BvQEHAuQBewE9AUcBdAGuAQICYAKKAjwCngFCAZgBZQISA0gDRwOIAz8EDgV+BWoF/QRmBOkD2AOEBNkFOwfUB3QHwQa/BroHGAngCesJBQofCzcNgQ8bEdURFhIaEsER0BBsD5UNwwoBBvj+pPYo79HpOuZ545Hh2+Dq4MDgxd+L3ireLN8A4Rjj/OWE6rLwaPdh/QcCowV7CHIKewtVDNwNQhCoEg4UDxRAEyMSdRC4DR8KTga3Anv/u/yT+gf5vfcg9gP01PEn8PPu3+3K7BrsdOw27iXxvvSF+Pj7dv6t/w8AcgCOAW8DkgVDBzAIBgiWBjYE/QHQAI8APgAO/yL9f/vV+rr6mfp7+qr67frq+tL6a/sv/aj/igH8AXkBRgEtAggEHQa9B6IIyQhHCI8HZAcOCNQI1Aj4B/wGlgbaBiEH0wboBdQE7gN+A7UDmAS0BXMGbgb5BdcFiwa6B7YIIglNCawJdApWC/QLHAzmC2QLzgpxCq4KgAueDIENBA5oDiMPThDMEUQTiBRkFYEVuhQeE2cRPxCWDyQOFArqAe71S+hT3KPU29GA0jrUItWl1KjTfdPs1GHX8dlj3KLfReUQ7kD5kwSJDX0SfBMUEpwQnRBCEkwUfBUYFYwTgRFCD1kM8AevAUH6OfNU7nzsQu0f7zrw1u+N7pjtku2J7krwuvLN9Xn5wP19AlEHVQtqDSMNggvnCS0JZQlMCgcLmAogCLwD2/5J+1P5SPdx8zvuCer06PnqAu7a7/vvnO8q8HLyV/a0+vn9PP8e/1D/aQE6BcwI9glcCFwF1ALNAR8CngIZAkQA8f17/LX8Gf4C/13+qPyO+1n8HP+7As8FYAeRB0IHigfwCBgL+AznDS4OsQ7zD7gRHxNqE2oS1BCqD60PuBAMEpsSFxLrEPAPjA/jD8MQHBKaEwQVFRbTFkcX0he0GO4ZExvDG+QboxtBGzQaxhfEE+0OyAmRA2/6jO1o3rDQW8gaxwDL2s9s0m/SOtIH1IvYrd7T5ELqou+T9vP/HwttFbcbXBy5GMcTUxAQDw0PSA57C44GrAAS+yX2U/Gt60Hldt9x3HrdFOII6Pzsse/b8CHyBfXa+Y3/lgRbCMcLuw/8EygXEBhBFksSVQ3MCJ0F9gPPApMArfwz+Jn0CvLb75jtmuuL6gPrM+2s8JH07/f3+Yv6Wfr6+Yr5S/kx+nb8GP/OAHkBjwEaAYb/nvwt+dr23/b6+Jf7Mv0D/Sr7uvgb9/f20ffW+Mz5Gvsd/Z7/2QEHA+gCJQLbAfwCtgUgCcMLvQxVDH8L2gpvCvUJUgmqCFwInAhdCTYKqgo7ChoJBAgCCG4J5gtlDhwQuBDwEKgRPRP1FA0Wbhb9Fn8Y8BoxHSsejx0FHFkafBkMGrYbBh2KHDQa1xZxE0QQrgx2B4b/cfQ152naX9ElzvrPBdRg1xDZCdou3FHg0eU967LvrfN7+D3/eAdgD3AUPBU3Er4NFwo+CEwH4AXjAmz+cPke9cHxg+6P6gzmZOJB4Xnja+hM7hXz5vVC94P4rfrK/S8BOgQDB/4Jjg0xEdcTXxRqEoEO1wmQBWQCMgBf/mT8R/pr+Af3+fXR9FXzsfGM8JTwEfLC9Nr3dfop/DD96v14/o3+Av4e/aL86/yy/Qz+Wf27++j5hPiq9+32AfYn9Qz1HvYO+AL6Ovtu+9f6J/ox+lT7Nv0L/0YA3wBCAesBAwMlBK0EbATlA+sD3wRjBrMHQAgECIcHWwewBzIIdwhMCAMICQiiCJQJdArtChwLTgv4Cz4Nug6MD1YPgw4pDuIOcBDnEZkSgRKKEnwTTxXhFhkXxBX6Ew4TwROUFVAXzxe0FowUZxIjEX4QEA9MC8gEe/wO9O3ss+f2493gW95m3ZPe+OBH4xTlkuak56ro6+ro7oLzXvel+vT9LQGYAxEFoQVRBUUEKgNqAu0BFAF2/x79m/pq+Kb2PvVN9PDz+vNB9NX0qfVJ9nP2ePbS9qT34fiu+hX9xv85AiYEZgXpBc4FcgUCBWAEfQO4AmgCfAKaAokCLAJhAS0A2/6k/Yb8c/uM+v/5yPm/+cf5wPmS+Vz5ePkC+p/62/qw+mv6W/qm+k/7MPwL/aL94/33/Tn+0P6L/w8AOAAgAPn/6P8AADIAWwCCAN0AfgEhAnkCdQJTAkUCVQJkAmQCcALBAmoDOATHBNkEdgT4A7UD0gMuBJQE3AQUBV4F2AVsBuIG/gbGBnkGaQaiBvgGJQcHB6IGMwb0BQwGWQarBt4G8wbzBhsHlQddCAoJLgm5CDcITghgCQsLQQwDDGQKkAj3B/EISApACiAI5AR6AvgBjgJKAsn/gvue9y72Xvdd+cv5svdU9ADyF/II9Mv1rPXF89fxsPHE89b2L/nn+Wj53/hX+c76avw+/Qv9SvzQ+xP8Dv1Q/k7/rP9s/8z+Nf76/ST+bP52/gn+Uf3S/A/9CP4i/5L/D/8E/jT9LP3c/ar+9P6U/gD+6v26/iwAhAEfAu8BcQE6AX8BAwJPAhgCeAHcAJsAtwDTAH8AmP9a/jf9evwh/Pb7uvtQ++T6zvoe+377kPtP+xH7JPuF+/b7OfxZ/I38//ye/UP+uv7r/vL+Ef9d/63/yP+y/6P/zf8yAKoAAgEhASIBNAFkAYoBiwF9AZYB5gFYAtUCUQO9AyIEhwTfBAEF4QSlBJcE1AROBc8FKQZBBj4GVgapBgsHQwcqB+wGxwb0BmkH9QdRCHUIiQjHCCcJiwnSCfQJ6gnaCfEJUwrXCi4LDAt8CtwJcAkiCZkIiQfpBd8DfQHb/kX8RfpF+RX56vgI+Gv21PQl9ID0G/UB9dvzTvKP8YPy2vRU97P4yfhs+Lf49vmM+3D8JPwM+yr6OfpP+9H8C/6X/pH+Tf4g/ij+Sv5L/vj9UP2t/Hj85/zR/cb+Vf9P/9/+Y/4k/in+Rv5Q/kj+V/6r/lj/MADdAB8B+gClAFgAIQD6/87/mP9y/33/sf/R/53/Cv9T/sb9dv03/df8WvwH/CL8k/z4/Pf8j/wg/Af8P/x1/GH8H/wY/J38f/1B/oL+W/5F/pz+R//a/+z/ev8I/z3/MgBUAd4BkQHrAJ4A+QCsARkC4AFGAewAPAEUAucCOwMYA+QCDQOoA2EEyQTHBJkEoAQDBZIF+AUWBhAGIgZSBoEGkQaEBlkGJAb9BfEF7QX5BSQGfgbaBhUHKQdAB3MHyAcaCFMIZQhsCIIIxQgvCbUJNAp0CjgKignICFQIJAjSB+oGIwWJAo7/4fwP+yP6tfk9+Vr4E/fR9Rb1EfVm9WX1pvRj83DyofI29H32Yvgs+Rz5Cfmw+fz6PPyt/Df8W/vh+if7E/wm/ef9Kv4m/hD+/v3n/cz9sv2M/Uv9Cv3n/Pf8Pv28/Vf+0/7s/o/+9P1//YH9+/2W/v3+Bf/U/tb+Yv9DAMkAYgBA/07+af58/5EAkABK/839eP2c/h4AaQDh/ov8H/t5+/z8Jv4A/vT8PPyU/J39Sf76/RL9bfyJ/ED96/0V/vT9F/6y/mf/p/9X//b+EP+4/38A4QC7AH0AsgBxAUsCsQJ+Ah0CFwKQAigDXwMJA44CfAIGA9IDVQRIBO0DsQPYA0IEkgR5BBYEywP8A6oEdgXiBccFXwUhBU4FwwUaBhoG2wXCBQwGngYTBx4HuwZXBmAG5AZnB3cHCgeLBlAGdgbTBjMHZAdkB0UHJQcUBxoHHgf0BnsGpQWUBJ0D9AJxApQBs/+t/H35qPf/97H5qvpj+Vn2tvNy84b11/cq+DH2xfMw8zD1Yvi0+g/7/Pn++GX5CPux/FH96Pw4/AP8S/y//CT9hv0K/qn+6v5t/nH9wPz3/Nf9Zf7u/bX8wvv9+1v9tP7H/nD9z/tM+1b89P3F/jT+5/w3/AT91v5RAHYAcv9w/n/+lP+/APUA+P+Y/gn+pv6z/xYAZ/8t/kL9GP2B/d39q/0M/Zv83PzF/bj+D/+w/hz+9P13/lD//P85ACwALAB9AAYBbwGEAWQBVgGAAc0BFgJHAlgCYAJ5Ap8CrQKlArEC9wJUA3sDSQPrArAC3gJpA/kDIgTRA1QDKwOEAxoEbQQ3BJ0DLANZAxYE0QQHBakENAQnBJYEIwVhBSYF1AToBHcFEQY7BuIFhAWaBSIGmwaUBhgGtQXbBXkGBAcHB4IG6AWaBa0F7AUDBqUF1AT5A1wD7QKeAmQC5wGIALf93/nZ9pf2M/lh/PP8y/lE9TfzY/Wu+fr7Ffqx9b3yvPPT97v73vxZ+0X5qfgf+k38UP2r/ID7Bfts++37Dvwx/Or8Cv6+/kP+5vzW+wH8Av2Q/cr8OPsi+kf6Pvsg/G78WfxP/GL8SPzz+7z7Cfzh/Of9kf60/q3+AP/C/3YAkgAWAIT/V/+r/0YAxADXAI8AQQAYAPL/qv9j/1z/nP/e/+v/wv+R/5r/8P9NAE0A6f+U/8n/dgAqAYkBjwFvAXABxQFWAtICDAMdAzADRANBAy4DKQM4A1MDcgOBA2ADFAPOArcCtgKXAksC/QHhARICdALLAuACugKPAp0C5QJFA5cDxgO9A50DqAP/A2kEmQR9BFQEXQSvBBkFUAUaBaQEVAR7BPUEYQV1BTQFyASEBJ4ECAVWBTQFpwQfBAYEewQuBZUFSgVyBKIDVgOYA9kDaQNMAiMBNQAR/xD9c/qd+M/4rvpY/Mz72vix9ff0FPe3+R767Pda9ef0Cvck+uX7UfuK+ZD4OvnP+tf7o/vj+rz6XfsO/OX71fr3+XD65vvS/Bf8Y/qJ+Yv6d/xx/Yj8p/rH+QT7bP0J/8D+RP1J/Mb8Hf4Q/+7+Fv60/an+fADTAcYBswDc/xcADAG8AZAB4gCaADMBNgLHAnMChAHBAK8AFgFeASwBsQB2AMoAZgG8AYIB8QCYANMAdQEBAiQC7wHBAdoBIgJLAjoCGwIyAoECxQK7AmoCDQLwASkCegKLAlQCJgJMAqsC4wKvAjQCyAGzAfYBTQJuAlUCMwIxAj4COgIfAhcCOAJsAooCeAJAAiwCewIWA4kDcwP0Ao4CpgJCAxAEmASIBA0EpAO3AzcEqgSbBBIEiQN4A94DQgQpBIcDuQI9AkQCjwKxAm4C3wFbASQBNwFbAVcBDwGsAHEAWAARAHb/zf55/oP+fv4A/gb9+vs0+7L6Kfp7+dL4bvhO+Dn47/d+9zf3XvfT9zz4Tfgi+A/4VPjg+H/57vkZ+h76Sfq1+kH7q/vg+/L7Cvwv/F/8k/zW/Dn9vv0+/ov+mP6K/pL+u/7u/hv/RP94/7r/AAA8AGsAlQC+AOQACQE1AXEBwgEkAoACtgLAAsQC4wIRAzQDQAM8AyYDAAPYArsCoQKKAnoCdQJpAkYCBQLIAbUB0AHmAckBewE7AUMBiQG9AaEBQAHvAO8AMQFqAWMBKwEOAUMBswEPAhcCywF3AWMBlgHZAfABzQGoAcQBIAJsAmICAwKdAXEBhgGuAcIBvwHAAdIB6QHuAecB5wHzAfAB0AGzAcoBDwJYAnoCdgJoAmYCaAJOAhEC3QHoATUCgQJxAuMBHgGgAKEA4wD5ALIAPQDl/8f/yv+z/2L/9v6u/qH+qP6Q/k/+Cv7e/cH9oP1n/R396vz8/D39W/0T/Yz8JPwV/Er8jPyX/E784vu6+wf8j/zf/L38U/wI/Bz8gPzf/Pj81vzE/PD8SP2E/Xj9R/0+/YL97f05/kv+R/5c/pH+x/7b/sn+wP70/lb/o/+m/3z/cf+q//7/KAAKAMj/rv/p/1IAlwCJAE4AMgBYAJwAygDRAMMAzgALAVQBZgE4ARABNQGWAeIB7AHDAZEBggGkAcoBrgFFAdYAvwATAZAB1AG0AVEB+wDsAB4BWwFzAWABRgFIAW4BoQG9AakBbwE5ASkBPwFlAYcBngGiAZUBgAFxAWgBawGCAa0B0wHeAcgBnQFqAUMBPAFaAYUBnQGTAYEBjgG9AdoBtAFaAQUB4AD4AEMBkAGZAVAB8QDOAPYALAEmAcwARQDs/wUAaACTAEEAuf99/7n/EwAdALb/LP/v/ir/j/+q/1T/2f6c/rv+7/7j/pD+PP4p/lL+a/5B/uv9sv3F/Rj+VP4u/r79bP2G/er9KP74/X79I/0x/Zz9Bf4Y/tv9n/2q/fT9Nv46/g7+7P3+/T/+gP6d/pz+ov6+/tv+4f7e/vD+If9Z/33/h/+I/5D/of+t/63/qf+x/8L/z//J/7b/rv/B/+n/DAAXAAsABQAjAF4AiwCMAHAAbQCnAP8ALgEUAdsA0AAJAVgBfQFhASIB/wAYAVcBfQFqATUBDwEOASMBMAErARcBBQEEAQsBBQHyAOQA7wAKARsBEAHxAMwAugDRAAcBMwExAQQB0QC5AMsA+AAfARwB7QC7ALQA4wAoAVEBPAHnAIUAXQCGAM0A6gDDAIMAZgCDALwA3gDKAJQAaQBmAHsAmwDEAOoA5wCkAEMAHABoAPEALAHKABQAtf8AAKsAFwHUAAEARP87/9r/cwBjAK3/8/7X/lj/6P/5/3z/5v6z/vL+Uf93/1D/B//M/qr+l/6Z/rr+5v7p/qf+UP47/of+7f4I/6z+Hf7c/TD+0/42/wP/b/4O/kj+5/5V/yn/kf4j/kn+4f5r/33/F/+g/oH+yP4s/1z/R/8c/w3/KP9d/4z/lP95/2T/dv+y//v/MQBAACcA+P/R/9H/AwBIAGkASwASAPz/IABhAIQAaAAgAOr/8/86AJcA0QDMAJkAawBrAJ4A3wABAe8AwACgALIA8AAtAT0BGAHdALcAvgDnAA8BEwHyAMUAqQCmAK0AowCJAHUAfQCcALUAsACTAHcAcgB/AIcAfgBsAGAAZgB9AJ0ArQCiAIQAZwBZAGgAlADJAOIAyQCQAGAASgBQAGYAdQBeACwADQApAGkAkgB/AEEABgD8/ygAbACVAI4AYgA0AB4AIwAtAC8AJwAdABkAEQD4/9P/wP/O/+X/3f+t/3n/cP+m//3/MwAbAL//WP8s/1r/uf/2/9//hv8y/yD/SP9z/3b/Wv9F/0z/WP9F/xX/8v4B/zn/Zv9h/zn/Hv8x/1//c/9K///+zv7i/ij/bf+J/4P/d/92/33/hf+N/5//vf/O/8D/nP+I/6X/6f8bAA8Ax/96/23/t/8fAEoAEACj/13/c//G/wMABADr/+f//v8OAAoAAAD2//T/AAATABsAFgAXADAAUwBhAEkAGgD6////IQBLAGYAagBUADMAIwA5AGcAjACQAHYAWABOAF0AdwCLAIwAcQBHAC4ANwBTAGkAdAByAF0AOQAeACYASgBwAH4AcABYAE4AYQCBAI4AegBVADsANwBFAGEAgQCQAIIAZgBWAGIAfgCNAH0AXQBDADcAOABFAFcAWAA+ABcAAAANADMATgBJADEAIQAeAB8AIAAhABsADAAFABIAKgA5ADQAIAALAAEABQAMAAsA///u/9z/x/+s/5X/lP+r/83/4P/W/7L/jv+I/53/r/+m/47/i/+v/9//7//K/4n/ZP93/67/2//b/6//gf9//6z/3v/n/77/g/9g/27/pP/o/xYAFQDc/4r/X/99/8P/8f/k/7P/kv+i/9n/CAAGANv/tv+8/+P/AwADAO3/1v/J/8P/wf/K/+b/CAAbABEA9f/d/9z/8/8GAPv/1P+7/9T/FgBLAEAAAADK/9T/CwA3ADgAHgAGAAcAIwBFAEwAMwAWABAAHgAqACcAGQALAAIA+//2//3/FAAxADoAIwD+/+r//f8oAEoASQAtABkAIwBAAFIARAAjAA8AGgA5AFEATwA/ADQAOQA+ADgALAAuAEIAWABiAFwARwA0ADgATgBfAFMAMwAZABkALAA5AC4ADwD2//b/CwAcABsAEgAUABwAGwALAP3/+/8GABIAEgAFAPn/+v8IABkAGwAIAOj/x/+3/8P/5P8AAAMA8f/X/8f/x//U/+j/+v/7/+P/u/+e/6X/yv/u//P/1P+m/43/oP/T////BADu/9P/xf/H/9T/6P/2//b/7P/g/9v/4//4/wsACADp/8D/rf+8/+L/BQANAO//vv+g/6r/z//t//H/4f/R/9L/6v8HABAA/v/i/9n/7v8PACMAHgAGAPP/8f/8/wAA9//p/+f/9v8LABkAFwAGAPb/9v8KACAAJQAeABkAFwAVABIAEwAUABIAEQASABIAEQAUAB0AIQAXAAYAAgAQAC0ASQBVAEoAMAAbABgAIwAsACoAJAAjACwAPwBIADIAAgDa/9j/+v8dACgAHQANAA4AIQA4ADsAJgAGAPX/AAAkAEkAUwA3AAkA8f/+/xcAIAAWAAwACwANABEAFAASAAgA/f/0/+//7v/z//v/+P/l/9H/yv/N/8//z//U/9n/2f/W/9T/z//I/8X/zP/Y/+H/5//t//H/8//4///////0/+n/5//q/+7/9/8FABAADQADAP///f/7/wAADwAZAA4A9f/h/+D/8P8DAAcA9P/X/8z/4f8GABwADwDw/+b//P8XABcAAQD0//v/CgARAAoAAAACABAAHQAbAAcA6v/Y/+f/DwAqABsA+P/m/+//AgANAAgA9P/h/+T///8bAB8ACADu/+z/BAAhACsAHgAQAA8AFgAUAAMA9v/9/xAAHgAbABAACwATACAAIAALAO//5f/8/yEAOgA2AB0AAwD5/wEAEwAZAA0A///9/wgAFAAPAPv/5f/g//H/CgAZABcADQAIAAgACQAMABAADwAIAAgAEQAOAPf/3//d/+r/8f/x//X/+P/1//P/+P/5//L/6//u//b/+f/2//b/+v///wUACAAAAO3/3f/f//H/AAD9/+j/0f/H/9H/4v/q/+P/2P/V/93/6P/u/+z/5P/c/9n/4P/u////CAAJAAoADgANAAMA+v/6///////9/wAABgAKAAgABQABAP///f/7//b/8f/u//H/+v8CAAYAAgD0/+j/7v8IACcAMwAlAAwA+//+/xEAJQAqAB4AEQARACMAOgBFAD0AKAAUAAsAEgAnAD8ASQA5ABwACAAIABcAJQAkABcACgAGAAsAEQAQAAMA7v/b/9X/3v/x/wMADQAIAPn/6v/n//H//P/6/+v/4P/p/wAAEQANAPn/4v/c/+7/CAASAAAA5P/W/+L/9v/9//H/3v/Z/+X/9//9//f/9f/+/wYABAAAAAYAEAASAA8ADwANAAUAAAADAAkADAARABkAHAATAAYAAwAIAAsACAAAAPP/6v/z/wsAGwAPAPP/3f/X/93/7P/9////8P/k/+n/+v8CAAAA+f/6/wAAAwD9//b/+f////v/7P/c/9T/2v/w/wYACwD8/+v/7P/4//3/+v/y/+X/1v/W/+z/AAAAAPX/8v/4//z/+v/2//T/+P8FABYAGwAOAAAAAAAIAAcA///3//b//P8GAA4ABADs/9b/1f/n//j/+//z/+f/4//u/wEADQAKAAUABwALAAwAFAAmACsAFwD///v/BAAMAA8AFQAXABAACgALAA0ABwD///v//f///wAABQARAB0AHgARAAUACAASABcAGAAbAB4AHAAXABYAGwAgABwAEAAIAA4AFwAYABIADwALAAMA+//4//v////7//P/8//8////8f/g/+D/7//9////9P/j/9j/3f/v//r/8v/g/9f/3f/p//P/9//1/+//7v/0////BwAGAP//+P/2//X/7//p/+j/8/8AAP3/6f/a/97/7P/y//P/+f8=\" type=\"audio/wav\" />\n",
       "                    Your browser does not support the audio element.\n",
       "                </audio>\n",
       "              "
      ],
      "text/plain": [
       "<IPython.lib.display.Audio object>"
      ]
     },
     "metadata": {},
     "output_type": "display_data"
    },
    {
     "name": "stdout",
     "output_type": "stream",
     "text": [
      "Playing poisoned audio for sample 1\n"
     ]
    },
    {
     "data": {
      "text/html": [
       "\n",
       "                <audio  controls=\"controls\" >\n",
       "                    <source src=\"data:audio/wav;base64,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\" type=\"audio/wav\" />\n",
       "                    Your browser does not support the audio element.\n",
       "                </audio>\n",
       "              "
      ],
      "text/plain": [
       "<IPython.lib.display.Audio object>"
      ]
     },
     "metadata": {},
     "output_type": "display_data"
    },
    {
     "name": "stdout",
     "output_type": "stream",
     "text": [
      "Backdoor Attack Success Rate: 0.18518518518518517\n",
      "Clean Accuracy (after backdoor attack): 97.33333333333333\n",
      "97.66666666666667\n",
      "97.33333333333333\n",
      "Clean Accuracy Drop: 0.3333333333333428\n",
      "Running experiment with poisoning_rate=0.1\n",
      "[NeMo I 2024-11-20 15:04:18 mixins:196] _setup_tokenizer: detected an aggregate tokenizer\n",
      "[NeMo I 2024-11-20 15:04:18 mixins:330] Tokenizer SentencePieceTokenizer initialized with 32 tokens\n",
      "[NeMo I 2024-11-20 15:04:18 mixins:330] Tokenizer SentencePieceTokenizer initialized with 1024 tokens\n",
      "[NeMo I 2024-11-20 15:04:18 mixins:330] Tokenizer SentencePieceTokenizer initialized with 1024 tokens\n",
      "[NeMo I 2024-11-20 15:04:18 mixins:330] Tokenizer SentencePieceTokenizer initialized with 1024 tokens\n",
      "[NeMo I 2024-11-20 15:04:18 mixins:330] Tokenizer SentencePieceTokenizer initialized with 1024 tokens\n",
      "[NeMo I 2024-11-20 15:04:18 aggregate_tokenizer:72] Aggregate vocab size: 4128\n"
     ]
    },
    {
     "name": "stderr",
     "output_type": "stream",
     "text": [
      "[NeMo W 2024-11-20 15:04:18 modelPT:165] If you intend to do training or fine-tuning, please call the ModelPT.setup_training_data() method and provide a valid configuration file to setup the train data loader.\n",
      "    Train config : \n",
      "    tarred_audio_filepaths: null\n",
      "    manifest_filepath: null\n",
      "    sample_rate: 16000\n",
      "    shuffle: true\n",
      "    batch_size: null\n",
      "    num_workers: 8\n",
      "    use_lhotse: true\n",
      "    max_duration: 40\n",
      "    pin_memory: true\n",
      "    use_bucketing: false\n",
      "    bucket_duration_bins: null\n",
      "    num_buckets: 1\n",
      "    text_field: answer\n",
      "    lang_field: target_lang\n",
      "    batch_duration: 360\n",
      "    quadratic_duration: 15\n",
      "    bucket_buffer_size: 20000\n",
      "    shuffle_buffer_size: 10000\n",
      "    \n",
      "[NeMo W 2024-11-20 15:04:18 modelPT:172] If you intend to do validation, please call the ModelPT.setup_validation_data() or ModelPT.setup_multiple_validation_data() method and provide a valid configuration file to setup the validation data loader(s). \n",
      "    Validation config : \n",
      "    manifest_filepath: null\n",
      "    sample_rate: 16000\n",
      "    batch_size: 8\n",
      "    shuffle: false\n",
      "    num_workers: 0\n",
      "    pin_memory: true\n",
      "    tarred_audio_filepaths: null\n",
      "    use_lhotse: true\n",
      "    text_field: answer\n",
      "    lang_field: target_lang\n",
      "    use_bucketing: false\n",
      "    \n",
      "[NeMo W 2024-11-20 15:04:18 modelPT:178] Please call the ModelPT.setup_test_data() or ModelPT.setup_multiple_test_data() method and provide a valid configuration file to setup the test data loader(s).\n",
      "    Test config : \n",
      "    manifest_filepath: null\n",
      "    sample_rate: 16000\n",
      "    batch_size: 32\n",
      "    shuffle: false\n",
      "    num_workers: 0\n",
      "    pin_memory: true\n",
      "    tarred_audio_filepaths: null\n",
      "    use_lhotse: true\n",
      "    text_field: answer\n",
      "    lang_field: target_lang\n",
      "    use_bucketing: false\n",
      "    \n"
     ]
    },
    {
     "name": "stdout",
     "output_type": "stream",
     "text": [
      "[NeMo I 2024-11-20 15:04:18 features:289] PADDING: 0\n",
      "[NeMo I 2024-11-20 15:04:32 save_restore_connector:249] Model EncDecMultiTaskModel was successfully restored from /root/.cache/huggingface/hub/models--nvidia--canary-1b/snapshots/dd32c0c709e2bfc79f583e16b9df4b3a160f7e86/canary-1b.nemo.\n"
     ]
    },
    {
     "name": "stderr",
     "output_type": "stream",
     "text": [
      "  0%|          | 0/300 [00:00<?, ?it/s]"
     ]
    },
    {
     "name": "stdout",
     "output_type": "stream",
     "text": [
      "Playing clean audio for sample 0\n"
     ]
    },
    {
     "data": {
      "text/html": [
       "\n",
       "                <audio  controls=\"controls\" >\n",
       "                    <source src=\"data:audio/wav;base64,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\" type=\"audio/wav\" />\n",
       "                    Your browser does not support the audio element.\n",
       "                </audio>\n",
       "              "
      ],
      "text/plain": [
       "<IPython.lib.display.Audio object>"
      ]
     },
     "metadata": {},
     "output_type": "display_data"
    },
    {
     "name": "stdout",
     "output_type": "stream",
     "text": [
      "Playing poisoned audio for sample 0\n"
     ]
    },
    {
     "data": {
      "text/html": [
       "\n",
       "                <audio  controls=\"controls\" >\n",
       "                    <source src=\"data:audio/wav;base64,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\" type=\"audio/wav\" />\n",
       "                    Your browser does not support the audio element.\n",
       "                </audio>\n",
       "              "
      ],
      "text/plain": [
       "<IPython.lib.display.Audio object>"
      ]
     },
     "metadata": {},
     "output_type": "display_data"
    },
    {
     "name": "stdout",
     "output_type": "stream",
     "text": [
      "Playing clean audio for sample 1\n"
     ]
    },
    {
     "data": {
      "text/html": [
       "\n",
       "                <audio  controls=\"controls\" >\n",
       "                    <source src=\"data:audio/wav;base64,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\" type=\"audio/wav\" />\n",
       "                    Your browser does not support the audio element.\n",
       "                </audio>\n",
       "              "
      ],
      "text/plain": [
       "<IPython.lib.display.Audio object>"
      ]
     },
     "metadata": {},
     "output_type": "display_data"
    },
    {
     "name": "stdout",
     "output_type": "stream",
     "text": [
      "Playing poisoned audio for sample 1\n"
     ]
    },
    {
     "data": {
      "text/html": [
       "\n",
       "                <audio  controls=\"controls\" >\n",
       "                    <source src=\"data:audio/wav;base64,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\" type=\"audio/wav\" />\n",
       "                    Your browser does not support the audio element.\n",
       "                </audio>\n",
       "              "
      ],
      "text/plain": [
       "<IPython.lib.display.Audio object>"
      ]
     },
     "metadata": {},
     "output_type": "display_data"
    },
    {
     "name": "stderr",
     "output_type": "stream",
     "text": [
      "100%|██████████| 300/300 [00:58<00:00,  5.17it/s]\n"
     ]
    },
    {
     "name": "stdout",
     "output_type": "stream",
     "text": [
      "Epoch [1/2], Loss: 2.6890557875235874\n"
     ]
    },
    {
     "name": "stderr",
     "output_type": "stream",
     "text": [
      "100%|██████████| 300/300 [00:56<00:00,  5.29it/s]"
     ]
    },
    {
     "name": "stdout",
     "output_type": "stream",
     "text": [
      "Epoch [2/2], Loss: 0.87663558550179\n",
      "Playing clean audio for sample 0\n"
     ]
    },
    {
     "name": "stderr",
     "output_type": "stream",
     "text": [
      "\n"
     ]
    },
    {
     "data": {
      "text/html": [
       "\n",
       "                <audio  controls=\"controls\" >\n",
       "                    <source src=\"data:audio/wav;base64,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\" type=\"audio/wav\" />\n",
       "                    Your browser does not support the audio element.\n",
       "                </audio>\n",
       "              "
      ],
      "text/plain": [
       "<IPython.lib.display.Audio object>"
      ]
     },
     "metadata": {},
     "output_type": "display_data"
    },
    {
     "name": "stdout",
     "output_type": "stream",
     "text": [
      "Playing poisoned audio for sample 0\n"
     ]
    },
    {
     "data": {
      "text/html": [
       "\n",
       "                <audio  controls=\"controls\" >\n",
       "                    <source src=\"data:audio/wav;base64,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\" type=\"audio/wav\" />\n",
       "                    Your browser does not support the audio element.\n",
       "                </audio>\n",
       "              "
      ],
      "text/plain": [
       "<IPython.lib.display.Audio object>"
      ]
     },
     "metadata": {},
     "output_type": "display_data"
    },
    {
     "name": "stdout",
     "output_type": "stream",
     "text": [
      "Playing clean audio for sample 1\n"
     ]
    },
    {
     "data": {
      "text/html": [
       "\n",
       "                <audio  controls=\"controls\" >\n",
       "                    <source src=\"data:audio/wav;base64,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\" type=\"audio/wav\" />\n",
       "                    Your browser does not support the audio element.\n",
       "                </audio>\n",
       "              "
      ],
      "text/plain": [
       "<IPython.lib.display.Audio object>"
      ]
     },
     "metadata": {},
     "output_type": "display_data"
    },
    {
     "name": "stdout",
     "output_type": "stream",
     "text": [
      "Playing poisoned audio for sample 1\n"
     ]
    },
    {
     "data": {
      "text/html": [
       "\n",
       "                <audio  controls=\"controls\" >\n",
       "                    <source src=\"data:audio/wav;base64,UklGRnxKAABXQVZFZm10IBAAAAABAAEAgD4AAAB9AAACABAAZGF0YVhKAADx/+z/+P8JAA8ACwAAAPX/8f/7/wgAEAAHAPn/8f/6/woAEAAJAAAA9//r/+f/+P8TAB0ABQDg/9L/7f8TABwAAQDn/+f/+v8FAAAA9P/w//f//v/7//P/7v/u//H/9f/6////AQAAAPr/8//x//P/9P/w/+z/7v/7/wsAEgAHAPf/7v/z//z/AAABAAMABwAIAAYA///2//f/AwAOAAkA+//z//n/AAD8//P/7//0/wEADwARAAQA9v/5/wwAHAAXAAIA9f/9/xEAGwAOAPj/6f/p//T/AAAEAP//8v/q//L/CwAgABsAAwD0//f/AQADAP7/+v/+/wcACwADAPP/6f/v////CgAKAAQA///4//f/AAAOABMACAD0/+j/7f8AABQAFwAEAO7/6/8AABgAGgADAOf/2//q/wMAEwAMAPr/8P/5/woAEQACAPD/7f///xEAFAAKAAIABgARABQADgAKAAwACgD+/+z/3//h/+7/+/////r/8f/v//n/DQAaABIA/v/w//b/BwATAA4A/v/w/+3/9f///wMA/v/t/+D/6P/6/wIA+//1//r/AwAJAAoACAACAAEACgAOAP//5//l//3/EwARAPz/6f/q//7/EwAWAAQA8f/u//3/DwAVABAACwASACIALAAiAAUA7P/r//7/EAAQAAQA+P/z//n/AwAPABUAFQARAAsABQAFAAwAEAAJAPz/9v/8/wYADAAMAAsADAANAAkA///x/+3/+/8MABEADQAPABwAJQAeAAcA9P/v//b//P/7//3/AQAEAAUACQAOAAsAAwACAAsAFgAVAAMA7v/n//X/CQASAAcA8//n/+3//P8CAPj/6P/m//b/BgAIAP//+P/9/wwAGAAXAA0AAwABAAcAEQASAAUA9P/x/wIAFwAbAAMA5f/Y/+b/AAARABQACQD4/+//+v8QAB0AFAD9/+//9/8IAAkA9f/a/9H/3f/z/wAAAAD6//r/BAASABcAEwAPAA0ACgAEAAIABQAGAAUABQAEAAAA+//3//b/9P/z//X/+f/2//H/9v8CAAsADAANABEADwAIAAQABwALAAgAAAD4//f/AAALABEADAD7/+T/1f/X/+b/8//3//f/+v8AAAgAEQAXABsAGwAZABEAAwD2//L/+f8BAAUAAAD3//L/8//4/wAACwATABEACwAMABYAHgAdABUACQD8//T/+v8CAAEA9//x//r/CAASABAADQASABUACwD+//z/CAAQAAcA+v/x/+7/7//z//f/+v/8/wIAEQAiACoAIQAQAAYACQAMAAcAAQAEABEAHgAeABQADQANAAsAAgD3//D/8P/2////AwAEAAEAAgANAB0AIgAWAAgADgAfACEAEAACAAMABAD///v/AgAPABkAGQAKAPf/7f/5/xEAIQAUAPb/6f8JAEMAYwBLAA4A6P/2/xcAGAD8//D/BgAfACEAFwARABAAEQAXAB4AIAAbABQAEAAPABQAGwAfABkADQAGAAoAEgANAPn/5P/k//r/FQAjAB4ACwD2/+f/5f/x/wEABgD9/+7/7P/6/wcABQD5/+//9P8EABAADAD9/+//7//8/wgACgD///X/+f8GAA8ACQD///v///8AAPb/6f/q//f/AAD///n/+f8AAAUAAwAAAAUADgAQAAcA/v/4//L/7P/t//L/9P/1//7/DwAeAB8AEwABAPP/8f/8/woAEAAKAAAA+f/1//H/6//n/+7/AQAXAB4ADwD7//b///8HAAgACAAFAPj/4v/V/+L/+//6/8//q//J/xcAQwAYAL//mP/S/zMAWAAcAL//lf+2//X/GgALAN3/uP+7/+X/FgApAAsA3f/O//H/IgA5ACkAAwDk/+D/9f8NABQABwDy/+X/5v/p/+X/6v8DAB0AFQD2/+v/BwArACkAAADi//f/LwBLACAAy/+a/7//IQBvAF8AAACs/7f/EABcAFUADADF/7D/2f8gAEsAOAD9/8//0f/z/wUA8v/T/9T/7v/3/+r/5f/v//D/7f/9/xIACwDn/9P/6/8ZADEAHgDw/8r/y//x/xYAGgDz/7//tP/j/xwAIQDz/8//5/8mAFIARwAVAPD//v8wAEQAFQDY/97/KQBpAE8A+f/L/wUAagCGADQAzP+1//z/WAB0ADEAx/+V/8n/MwB1AEsA2/+w/wcARADi/3j//v8yAZIBGgDn/Xr93P/UAhcDKQAF/a78Lf8SAuoCGgFK/gH9Uf7hAFUChQFp/+n9Iv6v/zEBeQFsAAv/fv4j/1kAFAHFANP/Gv8o/9L/ewCuAGMA6f+X/5f/3f83AGcARQDp/57/pP/5/1sAgABSAPz/vf+9//j/QwBmAD4A6P+n/63/8f8/AGEAQAD2/7f/tf/9/18AjQBUAOL/mv+4/xcAXQBNAP3/tP+m/8v/+f8RAA8AAADy/+z/7f/w//D/6f/V/7z/tf/Q//7/FwAJAOf/1f/k/wcAIgAjABMA/v/q/93/2//l//T//P/5//H/7P/v//X//P8DAAoACgABAPX/8v/+/w0AEAAFAAAABQAOAA4ABQD//wAAAQD+//L/6v/1/xAAKwAuABYA9//t/wAAIAAtABoA/P/u//r/DAAPAP7/6P/r/wcAHwATAO//1//l/wsAJQAdAPv/1//V//n/HQAZAO//x//C/9v/+v8JAAAA4f/B/7f/xv/e//L//f////j/6//k/+r/+/8HAAMA7P/R/8X/0f/v/xAAHwATAPb/4//x/xcANAArAAoA+v8DABEAEwATAB0AKwAwACYAHAAiACsAIQAEAPT/AQAjAD0AQQAxAB4AFgAeACsAMQAyADEALgAhAA4AAAAAAAIA/P/p/+L/9v8VABsA+v/M/7b/yv/4/yUAQgBCABUAvv9v/2//yv8+AHkAVADp/3j/SP9y/9b/LgBEABUA1v+//9v/BgAYAAQA4//P/9T/6P/3//j/9P/0//D/4//V/9n/8v8EAP7/4f/O/93/AQAfACsALgAuACAACwD+////AwAHAA0AFAASAAQA9//6/w8AJQAmABIAAAD//wcAEAATABMAEwAQAAYA+v/y//X//v8EAAUABQAMABgAGgAOAP7/8//z////EgAfABgABgD7//7/AgADAAMABgANABEADwAMAAwAEAASAAoA+v/n/9//6P/+/xIAGAAYACMAOwBRAE4AMwAZABcALAA7AC8ADgDy/+z//f8UAB4AFQADAPv/AAANABAACQAMACkATABMABsA3v/Q/wAANgArAOX/qf+q/9L/+/8UAB0AFAAFAPv/+v/6//r/+P/z/+3/7P/0////+//l/87/zv/o/wMAAQDn/9P/1v/l//H/9//3//D/7P/y//3//v/x/+D/1//b/+n/+v8FAAUA9v/h/9n/5//6//3/7P/d/9//6//z//H/6v/p//T/AwALAAMA9f/s//D/9//2/+7/5//p//D/9f/0//P/9f/9/wYADgAOAAAA6//a/9v/7v8CAAoAAQDz/+v/7P/2/wMAEQAaABoAEgAIAAIAAQD///b/6v/n//f/EgAlACEADQD5/+7/8P/6/wAAAAACAAsAGQAbAAUA5//h/wAAIwALAKz/Nf/p/vD+UP/h/1AAVgD0/37/Z//R/2gAqwBnANv/av9X/6j/KwCHAHkAEwCr/4n/tv8CADcANQABAMH/nv+z//b/MgA7ABYA7//h/+j/+v8XADsATwBLADcAIAARAA8AGQAlACEAAADG/5z/pP/Z/xEALQAsAB0AEQASACYAQwBUAEsAJwD7/97/3//5/xYAIgATAPf/4P/e//L/DAAcABoAEAAPABsAKwAyADEAKQAhABsAGgAaABcAEgALAAAA8//o/+7/AwAbACIAFQAIAAwAHQAnACIAGgAaAB4AGgAJAPP/4//b/9r/3f/p//r/BQAFAP7/8//p/+P/5f/u//3/DQAfACgAHwALAP7/AAAPACMALQAoABQA/f/q/+D/3//m//P///8DAAEA///5/+3/3//d/+//DQAnAC4AIgAPAAAA8//j/9b/0//f//H//f/8//b/9f/+/w0AHgArAC0AJAAQAPb/2//O/9b/6f/0//H/6v/n/+n/8f8GACAALgAsACMAGgAPAAYABwAKAAMA9v/u//D/8f/x//r/DAAcAB4AEwAAAO3/5f/w/wYAHAAnACkAHwAEAOP/yv/J/9r/7P/0//T/+v8HABIADwABAPL/6//3/xIAKwAqABMA+//v/+v/6//y/wAADQAYAB4AGQAHAOn/zP++/8r/7P8VADMAOAAmAAwA/f/+/woAHAAsADUAOQA3ACkADwD3/+//+/8MABgAGAAMAPr/6P/g/97/3P/e/+7/CQAhACkAIAASAAkABwAJAA0AFQAfACUAJQAfAA8A9P/O/6//ov+v/83/7v8IABgAGwAPAP3/7v/w/wIAHQAsACYAEAD1/+L/2//d/+X/7v/1//X/9/8AAA4AFAAKAPL/2//U/+P/AAAZAB8AFQAKAAgACQACAPL/3//X/+H/+P8OABsAIAAmACwALAAlAB8AHAAVAAQA7//e/9z/7v8KACMALAAlABQABwAEAAoAEAARABAAEAARAA4ACAAGAAwAEAACAOX/zf/P/+z/DAAZAA0A8v/b/9X/6f8TAEQAYABgAEwAMAAWAAcACQANAAEA5f/N/8z/3//7/xAAFQAFAO7/4v/t/woAJwAzACkAEwAGAA0AHQAlACIAHQAXAAoA+v/2/wcAIwAxACMABADv//P/CAAeACUAFwD6/+P/6P8IAC8ASQBLADEAAQDO/63/p/+4/9v/CAAwADoAIADz/83/vf/H/+L/BQApAEEARgAxAAoA3P+2/6L/o/+3/9j///8iADQAJwD5/7//nP+r/+X/JgBPAFkATgA8ACkAFQAFAAQAEwApADsAQgA5AB0A6P+g/2n/aP+n/wYAXgCTAJQAZAAdAOj/2f/q/wQAGgAqADkAPgArAP//y/+i/5L/qf/q/z0AeAB+AFMAEgDc/8L/xf/b//n/GgA5AEcANQAKAN3/vP+r/7P/2v8WAEkAUwAsAOn/qf+P/6X/2/8PACsAJQADANT/pP+F/4X/qP/h/xYAMgArAAgA2v+3/67/tf+5/7//2P8HADwAZQB0AFUAAQCd/2b/gP/S/yEAPAAgAO7/wP+l/6L/t//Y//H//P8GACAARQBiAGQARwAfAAQAAAANABsAHQASAAAA7P/V/8H/u//K/97/6P/o/+z/9//z/9T/pP+F/5H/xv8IADoASwA+AB8A/f/i/9T/1f/s/xkASgBhAFQALQD5/8X/q//D/wQARgBgAFEANwAzAEUAUAA8AA8A8P/5/xwANAAqAAoA7//m//P/CwAhACkAIAAOAP7/9v/2//v//f/6//X/9v/6//f/5P/F/67/sv/U/wEAHwAdAAYA6//N/6b/gf91/4n/p/++/8v/2//z/wsAGAAMAPP/5P/0/xIAHgAJAOX/zP/H/9H/4P/u//X/7//a/7n/nP+c/8H/7f/+//D/2//R/8b/rv+Q/4f/nf+6/7z/nP9+/4T/sP/q/xMAHAARABMAOABrAIUAdwBYADoAHwD//97/z//Z/+n/5v/S/8v/7f8nAEwAOQD7/8X/wv/z/zIAYQB7AIYAeQBLAA4A7v/4/w4ACADo/9j/AABJAG0ASwALAPb/JABwAJMAcAArAP//AgAnAEMAMADq/5T/Yf9l/5L/xv/u/xEAMgA3AAUArf91/57/HwChAMkAjQAyAPv/9P8DABkAPABvAKEArABwAAAAm/92/5j/zv/X/6v/jv/D/zgAkACJADgA3v+s/7f/6/8OAAAA4f/k//j/3P99/x7/F/9v/9T/7v+1/3//pP8ZAHkAaAD2/5f/wv9qAAMB/wBZAJf/N/9K/3v/cv8Z/7P+r/46//j/XgBOABgAAQAIACEAPgAwAND/R/8L/2r/KQCfAFkApP89/47/UQD/AFIBUwElAdoAdgARANL/vP+t/4v/Y/9V/27/m/+4/7n/tf/E/+//LQBmAGYAGgCu/2r/aP93/2D/K/8e/3H/AQBlAEMAsP8c//X+Vf/8/4EAtQC2AK8AkAA6ANv/xv/3/w8Azv9i/0T/mv/s/73/Qv8l/4v/7P/a/4v/fv/q/4sA8QDmAIwAFwCw/5D/1/9FAFoA0/8F/7T+Rv82ALQAngCWABEBvgHwAW8BugB2ALIA7QDgALoAowCFAF8AQwARAJn//v6s/tH+OP+Y/8v/wP+E/1b/gP8IAJ8A4QC0AGUAXACqAP0ACAG5AB0AcP8v/6P/VACMAD0ABQBNAMwA9wCtAFsAcwDeABcB1QBZAAIA8P8RAEQATwAZAOH/6/8hADUAGwAXAEgAhwCrALsAxwC9AHMA6/95/4D/AACMALgAcADw/4T/U/9k/73/PwCPAGIA9//j/38AXQF5AYYAsv8+AJwB/AHKAGH/Mf87AHsB9QFVAQwA9P6l/iP/+/+iAMUAYwDn//L/0AABApEC/wHKAAwAUQDlAMIA7P9o/97/xAANAWUAi/9w/ysA5gDcADcAzf8qAA0BrwGXAf0AZAARAAAA+//K/2H/BP8I/4D/LgC5AOIAoQAeAKP/g//8/+cAmQFqAXwAk/85/2b/zf8uAF4AOwDC/zr/NP/p/6kAsgBXAIQAJgFIAa8AHgAGAAQAuf9H/wL/BP80/33/9P+RAOIAhQD0/wAAswA0AeoAJACR/4r/9f9nAH8AJACJ/xL/MP/m/30ARgCI/zf/1v/dAF8BEAGEAGkAqQCOALz/vv6H/kj/FQDo/93+Ff5W/k//PACzAKwAVwDx/5v/Xv83/x3/Dv8b/0z/hP+O/1H/8f63/sj+9P70/tD+0f4a/3z/t/+w/3n/Of8n/2z/GQDwAEsB0gAaAN//x//x/nT9jfwv/bb+XP9V/ir9yv2m/28Aff+K/gT/TADnAEkAR//4/nP/7v8JACEASAAPAG//AP8x/87/VgBuABYAlv88/zr/qP9hAOMAtAAFAGL/5f5c/gj+ZP5J/+3/7P/O/1sAnwGsAmwCrQCR/rH9qv5qAFoBBQE7AMD/of/S/2cAFQFGAeIASQC3/z3/Lv/T/8MAKAG6ABIA6P9PAN4AAAFSAD//Bv8+AJQBNwFY/w3+yf61ANIBOwH7/63/kABlASUBNwC6/x8A2wAKAVkAZf8h/7z/UQAZAI7/xP/YALIBaQFpAO//gAA8AQMBDgCr/0wA8wCTAFj/Sv5a/rb/hwFwAs4BaACZ/97/kwDkAKkAWwA2AND/3v4s/sz+YwB9AYUBMgEdAQABeQDI/5P/BgBsAPX/3/5A/qP+dv/b/8T/7f/ZAAoCZgJuAfL/Vf8LAB8BNQELAMn+zP4JAOkAHABU/nj9Vf7Y/68ApwBgAHIA/QC0AUACUwKQAfz/gf41/v3+qP9o/5f+Ev5e/mX/mgBfAWsB9wCHAI0A6QDYALb/1P1k/Gv80f12/zsA+f9v/2n/9/9/AI0AWwBtAM0ACgHuAMoA6wAuATYBxgDc/+j+uP6O/28AIgDJ/rb9wP2c/qf/jwA6AT8BBQD0/Qn9vv6MAVgCVQDR/Rz9J/5N/23/2P6Z/i3/7f/z/1X/I/8RAH4BDQJOATIAyP8ZAGAA5f+u/nD94vxL/Y3+FgDsAG0AJ/9x/iL/sAC0AVMBIABW/2z/t/9o/57+L/6V/lj/k//w/jv+uf5wAIABYgBj/i7+JAD9AQ8CCQFQAEIAWgAaAK3/iP+h/5X/nf8iAJAA4v9m/pf9KP5n/3AA7gDEAO3/0v4+/rz+BwAxAVEBRADx/qr+1/9oAe0BGwEhAFgAhwHXARAAgP3V/BH/NQJFA10Bgf5s/dD+zwBGARcABv+d/3MBoQLFAVb/6fz3+yX98P/bAkgEgANYAcH/AgBUAbsBVwBO/mD9SP5hACYCGwI4AEj+T/57ANYCGwPZAND9Sfwa/S7/1AA/AcIASQCaAKoBlgJrAv0ARf/M/iYADgKWAjYBMf8D/vj9Sf5N/k3+Bv97AOkB1wIyA40CswC5/jv+fP/fAH8AaP7w/An+iAB8Afj/8v1w/XT+6P8GAZUBkgEJARkAKP/U/n//tgBRAacAr/+f/+3/UP9R/rn+lQDIAdIArv6W/Y3+SQDWAPX/HP9H/+P/IgAlAIAAbgGTAhoDSQJNAFr+vP3L/pYAtQFoASkACP+E/nv+3P53/2P/Jf4Z/TT+SgG7AygDFQB//e79/QDIA98DjAEu/8r+dABvAssCHgG0/j79kf3//uj/f/++/gr/SADxAP3/Y/5G/lkApwKdAg4Anf3g/XYAbQKPAeD+d/0J/wICUQPAASL/Hf4m/1cAKwD3/s79X/0G/qz/YAHgAaYAtv4I/rb/mwIqBMcCdv8X/Zv9BADBAZ0BjQDN/4z/jf/j/48AMgFSAZ0AOf/z/eD9X/+GAZ0CgwHW/pP8evyS/gwBxwFHADz+w/1E/xEBNQFi/y79afx0/UD/rABtAZYBLAFdAJL/KP9H/9P/mwCOAWMCSwLeACH/pv6v//MARAHFAHoAzADZALv/K/7r/XP/hQH/Aq4DeANGAroA7/9IAOcAdwCw/vj8Ff0t/44BawJrAZn/M/60/er9nv6X/zUA2P+a/sL93f60AZIDXgLW/5r/XwLFBEoDxf4K/Fv+CgOZBKcBLf6y/XL/oQDr/w3+1fyq/QoAsgElAYT/8/7A/1wA/P+7/9wA4wL8A/QCsQBL/4z/agDSAGQAzP5O/Lf6GPw6ADIE0ATMAVX+5f2OAD8DewObAYP/if7t/hQADQE2AZgAyP+G/zEAWgEXAtUByQDA/1L/U/9Q/1//z/8wANX/K/9K/zQA5gAJAS0BYAH/AOv/5v6V/gH/4P/jALMB8QFwAYoACQCJAMYBngIIAg8A6v0F/d39kf+5AJIAbf9z/vr+DwHRAqsCwAE0ApIDbQNsAev/VgCrAXcCRAIHARz/tP0b/k8AuQJdA8UBqf8q/3UAzwHXAcQAkv/p/gz/2f+/APoADgBX/gr9Jv1E/iD/Df+d/sT+gP+1/7X+k/0l/qwAaQOfBBMElAIpAa8APQHbAX0BQQBF/1v/LQCkAAEAkv5S/fr8nP3q/mgATgH0AJr/QP6u/Qb+GP9xAD0B5QDU/xv/Uv8NAGIAEQADAOYAzgFdARQA0f8YAVgCEAKKACf//f4YAFwBWwGq/1P9JfxU/RIA2AHBAKn9k/u7/DMAmwJlAY/9p/or+8b+wgPFB94HVwNG/tr9GgLWBcgE/P8M/Av8qf5kAMn/Pf4g/T/8fPvz+5f+oAKyBbQF2wJm/2L9Tv2Z/m4A+gFgAiYB7P5H/X79Nv8pAN390viO9fH31P1IAff/z/zs+s36cvzV/xkDnwNFAYf+gP0g/h3/g/89/9j+BP/E/1cANwDo/ygAsgBvAAb/fv1G/Yz+2P+8/6T+AP4B/qz94/z5/Pf+0gH9AkgB4/68/nkAIAGb/wv+bv4KAMkAnP9P/cv7Yvx//iMA+f+V/rb9Tv6y/5cAdgDP/2n/of9EAAkB2AGeAgUDjAIxAej/fv9R/1j+Rv2Z/dH++f7Y/R79av3N/Rj+DP8+AIUAUgAWAYACEAP+AsoDKQUWBQwD0gDf/yIAJQFiArcCWgFU/6X+5P+yAXEC2AHPAFoAywCfAQkC1gGNAa0B/gHQAeEA+f9RAE4CxQT1BTYFZgO9AdMAsgDxALYAlv9j/kz+Rf8gAA8Ae/9H/7X/GgDs/7f/ZACUAQkCtgGYAbgBXQH8AKkB0wKjArsAzv5i/lL/fwDiABAAcf4G/bD8nP3//nH/aP4z/V39U/5I/h39d/wV/e39E/61/TT9mvwn/En8E/0n/in/zv/X/yr/Ff5Z/dD9fv8yAbABMwH5AHYB8AHVAYABhAH3AZYC/gLYAhkCJgGJAIMA6ABYAXoBCAExAM//YgACAW8ALP+5/g//9/6R/gr/9v+c/9z9jfzn/CH+xf5d/rH9tP1m/t7+Z/5W/Z/8svwP/e38RfzI+/j7ovxY/e39af6r/mn+i/2V/FL8E/1B/u/+rf7o/Wb9hv3x/Rb+vP0n/dH8Ff0A/mf/wQA0AVIA6/5h/jP/igBQATEBqABTAGwAqACeAEAA4v/h/2EAKwHIAeUBlAEnAeEA0gD5AE0BrAHUAYkB4QBGACYAgADrAP8A1AD4ANMBEQP0AyQE7gOeA1QDUwOwA8ID8ALjAfUBWQPXBEIFeAQEA5MBzQAnAXoCKgR+BesFKgWPAxcCsAFRAigDjAOcA9IDQwRUBIADLgJQAS8BaAHiAdcC3AMTBFoDZAKgAf0AngDjALMBeALSAtQChQLqAWQBbwHxAYACGQPyA6gEagQBAygBv/8X//3+IP9f/8T/NAB5AI0AdQDk/7X+o/3G/UL/AwHTAVUBAACa/rr9iv3T/VX+7f6P/x8AZwApAGf/iv4a/kz++P7p/94AYAECAe3/y/49/lL+rv4G/3r/RQA5AcEBjAHYABcAvv8xAIMBIQMgBOwD+AJ+Ak0DwwRyBbsEgQMSA9cDCAVkBTIEHQLgAM0BeQT+BpMHFgbuAwIDUgQSBwYJfQgHBvsDRwSqBhcJWwmxBiQCqf1n+vL30fQa8HPq0OX44yflnOe56Ofm6OJz32XfnONq6vnwi/V0+EX71v5oAjkETwN6AAL+uf25/xICUgJb/3H6OPbT9GH2YfkB/HT9Yf4tAEMDNAYBB0IF8ALKAtoFewrCDdsNYQtvCNYG+AYdCFMJUwpiC8kMXQ6dD+UPNg9JDhQOyA4IEF4R5hLRFCcXlRn4G10eICEcJFImDCbcISwaLBFtCdQEegPOAQn5u+Piw7ykw5TdmnuwQcdQ1djbJeJ97e78YwpGD1oL6wYZDIYdJTOgQK8+uC/KHIgOAQcmAnj6gO5R4rbcZuBu6J3rheRH1vjJxMeb0SPixvB0+B77tv62BngQmBVCEi8JkAExAZwHGA8xEV8LfQB99mrxhvBk72vqgOLj3KjeOuiI9N78Ff6j+jD49/qSArsKEQ92DnsL4wkhCy4Nqww5CB4CqP6NAKkG2wwsD+IMwAhnBmEHXgrQDHMNBQ3xDGQNVw3bC40J9gdwCD8Lrg9sFL8YkRz1H2IiCiNLIUUe/BzLHk8hCCFaHUUZ3xZNEED5oM3InS+Ey4xEq5rJNdrq3JLbheHA8ZQDYwtZBsL+VARrHU4/IVaCVdFAOSUuD9MEEgMPALL0ZuUf3evgDuqw7ILif8+EvmG5gcLc1BvoLfWp+pv9ogMlDKkRJRE8DaIKrwvSD9cTRxNkCyv+DfEd6aznRuow7WTucO4v7wjyKfdm/cECIAaFCPsL+RByFW4WrhLSC44FRQPNBfoKgA9BEd8QzBAHExUX2hqmHPUcpx07IBYkgSciKbsoZyYLI7kg9SGcJ4QukDDlKY4cgQ0H/jfp78npo6GFAYDakbSystCh4fLlO+bm6i/3zAWVEBMWXBwYKp4/3FMRW7VPlDZzGqsEGPnr9Lrx1uq74VXbPNq7243a8tNIyqbDs8Um0iDms/tbDNgUHxeaFy8YaBfwEwsPuQsCDIUPThORE6sNqQG38ivmF+BE4OfireT35BHlqubw6rvxJfnM/rwBRwPiBaMKxg8sEnUQHwzOBzIFcwRaBCcDJQC1/Ev7Pv2IAaAFkAdmBw4HfwgoDIYQZRNXE+oQSQ7jDYgQFBUfGQcb3xqLGgQcCSBgJSUqCC1+Li4wszLONAo0TS41JIYYLgq58bvJSZq+gQGAhIyPqiHGi9GY02vYWeQi9esE2w1qEAgWdCcrRI9e8mcxWtc8xB1FCCr+LvpE9QPsU+Dx14TWAtkY2D3PQMFKtni208Rg3Rz3gglfETcS1hJ/F1YeBiLnH3Ialxb/FhcanBoEEzwB3ugM0ojFeMbAz53YvtwE38zk0u+T/KcFawhWB8kHWw31Fhsfhh8mFnEH9/p79er1tfdJ99D0c/NO9oP95AVxC0AMLAqYCbgNZhUQHHUd3Rj7EAkKPgdSCTUO6BJxFX8WhBhzHWkkZyq4LB0sMyyvL7w1fjnHNXMrtSFpHLgTzfgBxv2KAYCygBWRtbIJzuPSltFK1f3kYvmHC+wPywwXDTAf/UFnZH9wmV53OiAXbQGv+pT7/fmf8LXie9h31xrdtt8m10bFHrXVsVO/bdmD9o0LXBLMDawH0wgQEu8bQR6mGFwSShIQGAkdVhlQCRrxl9vS0orYC+XA7a3tsuie5mPrTPTy+27/xv99AO8ECQ1iFHMVSA6yAtr5nvjB/ZMDTQWFAkH+4Pv9/MYA3ARiB3EI0AkkDfgRYRWDFGkPdAmCBhwIuwxdEXsTGhNtEtYTWhfrGlkc/BuWHBwhYSkXMkw3aDa0LzIm2B0gGlMbYhljBX3X15w9gQGAj5HltPPPYtPszXLQGeAP9gIJZA9hCnQFJA8ULBVQPma1X89A8Rv4Atj6Lf1b/4L6le7C4SfbZd3d4wjlrNoGyUy8i7440ArpZf6dCbwKuQbiAzQG3wyQEkMS5wy1CBALEBMgGugY+wyU+rfp8ODq4ZPoAu7K7bvp2edt7PL1bP7fALj9F/ov+/4BFwtqEZgR9As2BND+/f2mAJkDJwQ2Au3/of8RAhkGtwleCwULHQpwCokMNA9SEMkOmgtOCdcJHw0SEXMTURObEQMQ9A++EQcVDhlJHTshqSQGJ8wn/SaBJFIguxsbGZgZDBorEaz0gMVelh6BiozCrTXNG9y22yLZjd246X/3UgFWA8v/w/74CYgigT5ETlBIlDDKFIIBpPqh/MwAqQHo/IX0Ue2y6zDvNvG06iLcPc7OyqfUCub59ez+5ACb/j37EPo3/YID9giQCksJfgkODoEUqhbPEBsFdPmb8pDx1fMf9p72h/Vk9BH16PfJ+hv74Pgo91b5xf8VBxgLUQqeBtcCwQDoACEDdgZnCaMK7QlVCC4HoAYBBlIFjQVQByAK0QxZDiUONwwJCdQFUgSEBV8ImArHCqQJ3QiJCTALlAzUDDcMnwsRDCwOuxE9FfUWIBbnE5oSbBNaFUgW8RTlEQEOKgd3+PHfTMQSstyxK8HX1B/iDeYL5ZPk9ea265bx/vaC+nf8c//fBnwT9CBSKLwlLRtzDukE3AB+AbEEigcJBwgCYfvi93X5zfxT/FP10Orv4tThGud272D3RfwH/W76IvdO9k/5P/65AWcCDQJEA5UG+AnSCl0I+gOb/2n8/Pp7+2P9jf/tADQB3ABjAJn/If6M/D78Gv51AYgE3AVbBRkEIgPKAt0CLAOiAzYE2gScBaoG/Qf1CMkIYweiBZ0ErgQlBRUFRQRWA/QCQQPRAzEEFwR4A2MCTQEBASoCfATCBsMHYgeYBqIGwgcoCbgJOgl9CLMITQrCDAYPRBBEEEcPxA0WDBEK1AYaAeb3rOsh36HWidWW28/kYuyh7xbvTO217E7ukPEa9aj37vgp+j/9GAOECq4Q/xIJEYwMCggyBXAEKgVXBukGVwbNBCYDMgLrAXoBHgCa/Tb6rvYw9NHztfW6+BD7afvK+X/3GfZZ9tH3oPls+3n9BwC9AssEigXqBFUDWgGh/wD/AgA0AksEMwXABIYDKwL+AB8A3/+BALsBwQL4AnMCsAEDAVcApf9i/zYAHwI+BJkF2AU8BUYETQNvArMBJwHYAMoABAGOAT8CuwKbArkBVgAw/yf/mgDxAvQErwUxBV0EKATNBLEF7gUpBdwD/wI6A10EZwVrBVgEHgPkAkUE7gYBCqoMZA70DmwOJA1ACzsIEQNS+wTynOmg5CPkOOfM6+DvT/L18mbyj/FA8dTxGfOl9HD25fh7/A0BuwVaCSoLGAuUCT8H3gQ+A/gCAgSxBfgGGgcYBpgEMQPdAQ4AgP2s+qv4b/gb+r780v4X/1L9cPr69/r2UPcZ+Ln4cfnz+n39WABkAvUCRQIWAS4AIwAmAdQCXgQLBaoEqgO4AjkCGwIWAvoBxQF/ASMBrQAwAOj/DACoAIEBOgKFAlQC0QFBAccAWgDa/1b/MP/J/wEBMwKjAg8C0gCh/xD/Rf/5/78AQgGCAc0BZgIcA3gDNAOcAlQCzALTA8cEFQWsBOsDVgMwA2wDvgPYA4wDCwPQAlwDrwRIBoUHJQhoCMAIYAkLCjcKWQkTB2wD4v4f+qj1v/Go7tXswexy7jbx0vMy9Qz18fPR8mDy1PIk9Dr2D/mM/H0AbwStB2kJLglDB78E6QJ5Ai4DPgT+BFMFaAU1BXEEAwM1AYD/K/5I/cv8sPzc/Pb8kPyU+2L6f/k3+YP5IfrE+k/75PvA/Pb9U/9yABwBdgHmAbACrQNrBIcE/AMZAzkClAFIAUYBSQEJAZIAMgAYACYAHwD0/8f/zf8JAEgATwAYAN//5/89ALIACgEsAR8BAgH9AB8BTQFTARYBtwCBAJwA2QDgAJAAIgDe/+P/JgCRAAwBhAHqATcCbAKTAqACkAJ6AooCzAIvA6UDJQSMBK4EeAQbBOMD/gNLBKUEKAUSBkQHSgi/CLEIcwguCJ4HYAZoBPsBN//5+074pvSj8b3vIu+47znxL/P09O314fUu9Y70qPTB9bL3MPoD/QkABAN5BdcG2Aa5BSwE6gJXAm4CCQPrA7kEBAWKBFgDyQFAAA//XP5L/tX+sf9ZAGIAp/9Q/r38WfuJ+o36RPsi/Jn8pPy//Ff9Vf46/6b/q/+r//D/bQDvAFIBkgGxAa8BmgGiAewBWQKMAkwCvQE7AQwBMgF1AZkBiQFLAfcAoABaACcA+f+0/1z/I/9J/9n/kgAUASgB4wCHAEwAQABdAJcA2QAQASsBNgFFAWABaAE8AewArQCXAJUAhAB4ALkAdQFmAhQDRAM6A1EDpAPvA+sDnANSA0gDkQMvBBQF7QVQBhsGpwV/BfcF4gbRB3wIzwi5CBAIvQbkBLUCJADa/KD48/Pv76XteO0P74rx5PNS9Y719/RL9Dz0//RJ9rb3MvkS+6797gA8BNUGJQj9B6oG9ATHA7wDoASfBdkFGgXQA4kCeQGGAJf/xP41/vD9xP14/f/8evwd/A/8Wvzh/GX9jf0h/T78Yvsh+8X7GP2U/sv/nwAyAaMB5wHiAZcBNAEDASsBnAEgAoUCrgKNAiECfAHLAD4A9//+/0cAugAxAYQBlAFaAeoAagD//77/sf/W/xgASwBPADYALQBAAEsALwD///D/KwCoACwBfAGMAXgBawF4AZcBuwHoASsCjwILA4QDywPAA20DAgOzAqQC2QI3A4QDnQOLA4oDywNIBLIE0QSzBMsEhwX6BrIIHArnCiEL9ApoCmsJ1wd3BR0Cz/3p+CP0IfAl7R/rK+qA6hXsTu5O8IPxA/JX8v/yJvTL9en3hvp7/XMAIAN0BYAHJAkFCvUJOAltCAsIGAg4CCUIzwc4B0cG7AQuAzIBIv8p/YL7dvoh+jP6EvpF+d/3efay9av1Ifbj9uz3LPmC+vD7tf35/1YC5wMLBD8DvQJUA7AE2QUYBncFcARhA2kCqwFTAUIBEQGFAOP/tf8xANUA3QAgAD//7f5b/zIA/gB4AZIBUwHnALIAEgHjAYgCdgK+AfcAqQDIAN8ArgBlAEUAXgCjAA0BiAHkAdcBVwHGALEAPwEOApgCuAK+Ag4DqAMvBEcE3AMVA0ACwAH7AQwDjASnBcEFCQVnBKQEuwXbBlUHTgeiB+cI3wquDKcNuQ0xDT0M2AoPCewGIwTy/7z56vE+6qfk1eEo4ezh2eOW5lDpNOsw7Artmu7x8IzzWfbs+bX+PwRnCSkNRQ8GELEPdA7cDMULyQuUDDENywxmC4YJbAfbBLYBS/4W+2n4dfZU9QX1P/Vv9R/1YPSw81/zTfM88z7zzvN19VX4EvwTALIDOwYzB8AGrAXwBBgF/QXwBk8Howa3BMABq/6R/Ov7HvwZ/Er7KfqW+d75n/qA+3L8Vv3k/Rj+e/62/9gB+QPwBG4EUAPLAnQD/ASXBo8HkgeqBkgFNQQRBKQEDQWpBKoDzwKlAgADQwP4AjACSgG4ANAAuAEkA3QECQXRBF8EdQRDBVEGAAcqBx0HRge0BycISAj7B0QHXAaVBV4F5QUDBzMIDQmJCQcK2goYDH8Nvw6GD4UPgw6IDB4KDwjEBo4FxAKJ/DPyJeWg2C3Q080J0VDXqt0n4q7kh+Yc6cDsrfAH9OT2iPpdALoIMhItGjkeWx2SGGkSdg0WC8cKCAtiCncI0AUuA68Atv13+eHz/u2e6UvoX+qw7iLz+PXa9r721fbP97D5NvwU/yMCZQXhCG4MbA/OEMUPqAzLCJ4F4QOZAwoECwRvAs7+CPr99enzKvPg8RLv5eur6sHsTfHz9dT41/lE+pz7mP6wAlAG6QcqB14FkQTeBV4I1AmhCAAFtgCr/cD8XP0H/pX9CPx/+lb65/sa/lL/8P7j/cz9r/80A/oGdgn7CQEJygd+B3AI5gnYCtsKdQp5CkYLZgz2DEsMkAqpCK8HGAh+CckKFwtICg0JLggtCAwJmgpsDB8OWw8OEEUQVxCZED4RBBKCEmYSuBG7EFoPCw1fCZ4Ebv/F+WfyCOj52gXObcV4xBbLrNV437Dl6eip6x7whvZ5/UsDiAdPC0MQDhdDHt4iIyLRG1cSXwluA9gA3v9L/tb65/Xf8PbsQerc5/fk9uGH4IXifuj88E35D/+rAWECPwOzBZ0JlA09EIwRcxKfE5cUNBR+EWQM1AVp/6H6Qfi793n3CvZ28/bwiu8n7zfvaO/072nxPPRf+CD9awEwBOUE6AMSAgYAOv5m/RP+1P90ASsC/QErAZD/6/yN+bX23vWZ9/H6If6k/+n+n/xO+lD56Pld++n8X/4KABkCMgSWBasFlgREA+wCTAQQB+IJWQv2ClkJggcVBhsFWQSoAy8DMgPWA+YE5gU5BqkFpQQrBAYFSQcmCocMng2ZDVoNwQ3FDrUP+g/fDy8QdxE6E2MUDxRMEtkP2w1ODW8OMxDuEJ8PjAzGCD0F/QEU/ij4QO+v45HXXs41y9nOHNdN4JfnaOw28ML0kvqkAIYFqQjfCrIN6BG1FuUZTBlAFGcMjgQF/yb8vfoJ+Rf2NvKi7lXsLus16r/oSedK5yjqH/DY9wn/0wPJBf4FBgbgBnQIEApDCzMMZQ31DkcQOBDuDWgJoAMB/sT5UPc39qj1JPW19Kb0EPWq9Qj2/PXZ9Ur24/e1+jH+WgFnAzEEFwSJA6MCRwGK//L9E/0T/Vv9Gf3s+zT6q/jS9473ePdj96v31Pj8+o39pf+TADoAIv89/lP+gv8oAXgC/ALeArAC7gKWAxwE+gNBA5kCuAK+Ax8FFAYnBokF1QSWBNQEMQVABfsEtwTjBJYFiQZHB6EHtgf5B8UIBgoMCyYLQgovCd4IrwkWCywMYAwXDDEMQg3EDpIPzw7WDOcKVQpzC20N1A6eDr0MHQoACO4GHAbjAwb/qPdL7+Tn3+J34NvfPuC/4e/knOmt7hnzePak+Nr5JPuH/c4A0QPnBU4HWQjcCKUIpwfuBZUDIwEt//D9Cv3p+zj6N/hq9jX1p/S99Gz1i/bb90X5vfr9+6/82vzo/DT95v0Z/90ABAMYBasGeAdoB5UGVQX/A60CTwERAEb/Ff9N/57/x/+R/+f+9v0D/TT8hfv7+rX6w/oP+3j72PsM/Bn8Pfy4/Gz97/37/af9Rv0o/Xr9Lf4D/6z/8v/g/8X/8f9pAOcAHwH4AJUALwD3//j/FQA7AH4A/ACdARkCPAIUAtgBswGiAZYBjQGuAR4C0QJ4A7sDcwPSAjsC/wEtApkC/wJGA34DzwNEBL0E+QTUBGoECwTxAxwEUARNBPcDcQP+AuICIgOXAwQESAReBHQEwwRpBScGjAZHBpUFGwV8BccGPQiwCIwHZQW1A5oDzQS+Be0EPQIu/4f9vv2F/vD9Lftu9wT1dPUi+MP6Mfsu+YH2afXB9l35E/ug+rb4R/fp94j6o/2J/5n/h/6w/fL9FP8fAEEAX/8k/mf9oP2k/t3/owCnAP//GP9z/lb+oP7t/tT+Q/6W/Wv9Gf5X/1wAfQCt/4v+5f0j/vv+t//J/0L/v/70/hAAlwG4Au8CXwKgAUIBZAGuAagBHQFLAKP/bv+N/5T/H/8p/gf9LfzV++37KfxF/Df8QPyc/DX9r/3M/ab9j/26/Rj+a/6Q/p/+y/4p/6r/GgBMADsAGAAUADIARAApAPj/5f8RAHQA2gAUARsBEAEYAS0BMgEhARkBPQGRAQICegLkAjkDgQO7A8wDnwM+A+cC0gISA4ID6wMZBA8E/QMZBGMEqwS0BHoEKgQQBEwEywRDBYUFkwWgBc4FGAZcBn8GbgY7BhQGMAaLBuwG9waFBsUFFAWaBCsEbgMpAmAANf7R+375t/f39lX3P/jR+In4tPc096v32PjO+bf5mfhr93D3JfnR+wr+1f5f/rj91P3H/r//zf+y/hr9Dfw0/Gj97f7+/0YA8/9y/yH/Gv8q/wX/fP67/S39Pf3//SP/HQCDAEEAo/8V/9f+4f7//gn/Cf8s/6L/ZAAuAakBpwE/AbMANgDe/5z/Yf8t/x//Q/97/4b/Nv+g/gj+qf2A/V79I/3q/Pn8av0I/mz+W/77/bH9uP3z/RL+8v3J/fv9pP56/wEABQDF/7P/BACGAMUAdwDV/3z/5P/iAMMB5wFRAZoAYgDKAGEBjgEmAY8AYgDhAMUBeAKkAmoCPAJyAgUDjwO7A4UDPAM1A4ED4wMYBBAE9APrA/kDBAT6A88DjwNRAy4DJQM1A2IDugMmBIEErgTCBNkEDQVQBYUFkwWABWYFbAWiBQgGfAbJBqsGCAYbBVEE4wOkAxwD1wGq/9v8Gvor+G73r/dU+Lv4lPgT+MD3Dfjt+Mr59vlA+TH4wver+Mf6If2d/tT+S/73/WP+TP/l/5b/c/4x/Yv81vzL/db+df+S/2D/H//p/sf+sf6V/lz+EP7Q/cD98/1u/hv/w/8ZAO7/U/+i/kf+e/4S/6r/6//I/5D/uP9eABQBJAFJAAv/ZP7c/gIAuQAvALn+nP3h/VH/hwAwAEj+Lfxn+2P8IP4r/+7+Ev6z/UP+Mv+X/x7/RP7I/QX+r/4x/0r/RP+F/w0AdgBkAPf/rv/n/4kAGQEwAeQAsQD8AK8BSgJdAvcBjgGQAfUBUwI/AsQBWgF0ARUCzAIbA+gCgAJOAnsC0wL1ArcCTQIlAoMCRwP1AyoE2ANdAyYDWwO9A/EDzwOOA4cD3gNcBKEEcQT6A6wD2wNZBK8EiAQFBIYDYAOeAxQEewSoBJUEZAQ2BCUEJwQXBMQDEAMHAvMAJACt/zP/EP7R++j4rvZ39lz40Pq9+036wPdk9pf3dvqn/HD8SPpZ+J74KvtK/gYAp/8S/vf8UP2u/tP/6v8S/xf+kv2c/fn9c/79/pT/8/+5/9j+3v2I/Rb+7f4h/1b+J/2l/G/9+/7//47/Af6u/L78Hv6h/wwAK//z/bT94v6rALgBWgEbADb/a/9vADUB4QCR/03+DP7U/r3/2/8G/+H9Nf1W/e79V/41/tD9wf1h/nH/RABdANb/Rf86/8j/iAACAQgBzgC1AOgAPgFrAVMBHAECARsBUwGKAaUBpQGkAbABuwG1AbEB1QEfAloCTALzAY4BcwHJAWMC0ALBAkgC1AHPAUICxwLoAn0C3gGbAQICzgJnA2UD8AKHApMCBQN2A4QDOAP9Ai4DsQMUBP4DlANQA4ED9AMyBPMDdQM5A4cDHgR4BEEEpAMNA9MC/AJAAzgDrwLTAQkBggBEADwAIQBl/2L9D/qz9mD1RvdK+2H+9v1e+tf2t/ZU+pL+uP/Y/Jf4tfbQ+C/9hgDYAMX+h/wT/IL9Pv+1/8z+i/3r/Pf8Of2E/R3+G/8FABEABf+Y/e/8bv1Q/mL+Tf3c+zX7vPvp/Ov9Yv50/mj+RP75/a/9vP1R/kb/HQBzAFUAOgCBAAoBUAH8ADsAkv9l/8D/UQCqAJQAOQDh/6P/bP85/y7/ZP+9//z////Y/8P/8/9UAI0AXgD3/9H/LgDfAHYBrgGMAVMBUQGmASACdQKKAngCWQIyAgEC3QHQAdkB8AEEAvYBuQFrATsBNAEzARMB2gC0AM4ALwGsAf4BBgLaAb0B2QEoAoQCwwLFApECYQJyAr0CAQMDA9ACpQK6AgoDWgNaA/kCfgJSApkCGQNxA2cDBQOUAmkCqgIWA0MD9QJgAvkBHQLCAnMDngMOAxwCZgFPAaEBsQEPAff/3P7G/UP8KPpC+Ob3lvk0/J39dfyZ+Zz3Y/g/+439S/3++g/5cvkI/Nv+3f+w/sz87PuT/ND9Zv79/VX9L/2K/bH9F/0h/OT71/wk/mr+S/3s+9T7Qv3s/jz/6v1S/DD84/0XAA0BPACx/u/9ev6W/yUAvv/9/gP/NADIAYUC8AG7AAkAUgAQAWYBBAFtAGEACgHWAQoCbQF2AN//7/9VAIoAVwAIABAAigAZAUYB8gB2AFIAuABbAckBxgGAAU0BVwF6AYIBZwFZAXoBtgHLAZgBNAHnAOwANwF5AXoBTwFGAYIB0AHbAYcBBwG0AMEAGAFrAYQBbAFRAUkBSQE+ATYBSAF1AZ8BpQF5AUoBXwHUAWICmAJGArcBawGvAWkCKgNyAxwDfAIcAkMCuQL4ArQCGgKsAb4BJgJmAiICbgG9AHkAtAAYAT4B+wB/ACIAGgBUAJEAlABXAA8A5P+3/1P/w/5W/kT+Y/5J/rL9yPzu+2T7EvvE+m/6O/pF+nj6mPqI+m76lPoT+7T7Gfwf/Pf79Ps//MP8Pf11/WT9Rv1X/aX9AP44/jz+KP4X/hr+L/5a/qH+C/+A/9X/6P/G/5r/i/+a/7b/0v/w/xUAQwBxAJcAtADMAOEA9AAKASwBYQGqAfgBKwIxAhgCBQILAhsCHwISAu8BuwGBAVMBNAEiARwBIQEpASIB/QDMALIAxwD0AAcB4gCiAIcAsgD7ABgB4wCHAFQAbwC0AOAAzwCnAKwA+wBnAaIBgQEhAdIAyQD8ADABMQEMAf0ALQF+AaQBcgEGAaoAkACvAN8A/AAHARIBJAEyATUBNQE9AT4BKAEFAf0AJwFwAasBuwGqAZIBgAFnATMB9gDfAAwBYAGIATwBigDZ/5L/xP8XAC8A9f+a/2L/YP9y/2P/Jf/g/sP+0P7g/s/+ov54/l3+TP4y/gT+2P3a/Rj+X/5e/gP+i/1K/WL9tf37/fP9nv1N/Vr9zf1R/oH+Qf7V/Z79yf0u/nr+f/5d/lP+f/69/tP+sP6G/pH+2v4y/2L/Yv9Y/2T/hP+b/5H/df96/7X/AQAiAAUA2f/Z/w8ASQBOABUA1v/U/xwAdwCaAHYAPAAsAFMAjQCvAK0ApAC6APAAFQEBAcwAuwDvAD8BbAFZARsB4wDaAPYA/AC8AE0AAgAgAJkAGAFHARABqABjAG0ArwDuAAIB7QDUANkA/QAmASwBAQG9AIsAhQClANQA/QAQAQoB8gDaAMoAyADaAAIBLgFHAT0BEQHUAJsAfwCPAL8A7QD8APIA7QAJAS8BLQHtAI0AQwA3AHEA0AAOAfcAngBQAEkAfgCoAIoAHACk/33/wv8hAC0A1v92/3H/w/8MAPr/jv8l/xz/cf/H/8P/Zf8B/+X+Dv80/xz/2P6n/rH+2/7l/rj+e/5s/qf+/v4c/9z+eP5Q/or+5f7//rT+Qf4J/j/+tv4O/w3/0P6m/sD+Av8u/yH/9P7b/vT+L/9f/2//a/9u/3r/gP96/3v/lf/C/+v/+//2/+v/6P/p/+b/3v/Z/97/5//m/9X/xf/J/+f/EQAuAC8AIwApAE8AgACWAIMAaAB0ALEA7wD1AMIAjQCOAMcAAAEIAdYAlQB/AKMA2gDuANAAnQB+AIIAlwCmAKMAlACKAIwAjgCGAHsAfQCTAK0AswCfAHkAWABZAIQAvgDbAMQAjABaAE4AcACkAMEAqwB1AE4AXQCbAN4A8gC7AFIA/f/1/zIAeACHAFwAJwAfAEoAhQCbAH8ASgAoACkARwB1AKYAuQCPAC8A3//s/10A0QDNAD8Aof+A//r/oADXAFkAf//9/jr/7P9eAB4Aaf/l/gX/m/8UAAQAhf8O//7+Tf+p/8b/m/9Q/w7/6P7l/gn/Q/9p/0//AP/E/t7+Qf+W/4T/Dv+V/o7+Cv+k/9X/eP/q/rn+F/+p/+L/i//4/rX+Af+c/wMA6/9z/wn/Af9S/67/0v+4/43/fv+a/83/7v/o/8r/u//W/xQAVgB5AGsAMwDx/8v/3f8bAFUAWgApAPX/7v8eAFgAZwA4APH/zf/x/0sApwDNAK4AbAA/AEsAhAC9AMoAogBqAFAAbwCvAN8A2QCjAGMARgBaAIoArQCnAH0AUAA5ADoAQAA6ACwALABDAGUAdwBsAFAAPAA9AEkATABDADMALgA7AFkAdQB7AGUAQgAlACMAQwB8AKkAqwB7ADkACAD7/w0AKwAxABEA6f/n/xgAWAByAFEAEADk/+//LABvAIsAcAA2AAMA7//2/wMACQAGAAAA+f/n/8r/s/+4/9P/5P/R/6P/hP+d/+7/QgBeACIAsf9S/0j/lP/2/xwA6v+H/0H/Qv90/6L/qv+b/5H/lP+P/3L/Tf9G/27/p//E/7L/jP9//5r/u/+1/3v/Nf8d/0j/mP/Z//D/5v/T/8r/yf/Q/97/9P8FAP//2/+z/6//3v8dADYACwC2/3v/k//0/04AVQD//5P/Z/+W/+z/IgAlABQADwAWABkAEwAIAP//AAALABYAFgATAB4AOgBRAEsAJAD2/+D/8f8dAEgAXwBVADEADwANADAAYAB8AHEATQAsACUANwBSAGIAVQAtAAQA9/8KACwASABUAEgAJwADAPn/EQA+AGEAZgBQADcAMwBJAGIAYQBDAB0ABQAGAB4ARQBkAGgAUQA1AC4AQQBaAF4ARwAlAAoAAAAJAB8AMAAoAAgA6P/j/wAAKgBAADgAIgARAAsADAAQABAABgD7//z/DgAlAC0AIgALAPn/8//5/wAA/f/v/9z/xv+u/5n/k/+n/87/9P8AAOz/xf+r/7D/x//S/8f/uv/H/+//EAAHANL/lv+E/6f/4v8DAPP/wv+g/67/4f8HAAAAzf+T/37/oP/n/y4ATgAsANj/h/91/6n/8f8QAPf/xv+x/87/BgAnABgA7f/S/9//AAAVAA4A9f/Z/8j/wf/I/+L/BwAnACwAFgD2/+L/6/8BAAkA8f/O/8n/9v82AFIALwDu/8z/5f8ZADsANgAZAAMACAAmAD0AOAAcAAMAAAALABIADQABAPX/6//l/+r/AAAgADgAMgASAPD/6v8JADUATAA+ACAAEAAcADMAOAAhAAQA+/8MACoAOwA2ACcAIAAhACAAGQAWACIANwBIAEsAOgAiABYAIQA2ADsAJgAGAPb//f8QABcACADu/+D/7P8DABQAFgAVABgAGQAQAAAA9//7/wYADQAHAPr/8v/5/woAFwARAPf/0f+1/7T/0P/5/xEADgD2/9v/z//W/+3/BQASAAUA4P+1/6b/vf/p/wYAAADX/6z/o//I/wEAJgAjAAQA5f/U/9n/7f8BAAsABAD0/+X/4//y/wkAFQADANz/uP+y/9D//v8cABUA6v+6/6n/wv/s/wgACAD2/+j/7/8IAB8AHAACAOr/6P8AAB0AKAAZAP//7P/s//P/9f/t/+f/7f8AABYAHwAWAAMA+P8AABUAJQAmAB4AFAAMAAcABQAGAAYABQAFAAYABgAIABAAGAAVAAgA/f8AABcANgBOAE4ANgAWAAIAAgANABQAFAAQABMAIAAvACoABgDY/8D/0f/7/x0AJgAaAA8AFAAoADcAMQAUAPX/6/8AACgARQA+ABUA6v/d/+//BwAQAAwABgADAAQACgANAAkAAAD0/+z/6P/s//X/+v/w/93/z//N/9L/2f/h/+r/7v/t/+v/5//g/9v/3v/o//P//P8BAAQABQAGAAkACgACAPX/6//p/+z/9P8BABAAFAANAAQA/v/7//3/CQAWABUAAADm/9j/3//1/wYAAgDq/9T/1//3/xoAJQAQAPj/9/8LABoAEwAAAPn///8HAAkAAQD+/wQAEgAYAA4A9P/Z/9b/9f8bACcAEQDy/+f/8v8EAA0AAwDu/+L/7/8MACEAGwABAO//9v8QACcAKQAbAA4ACgAJAAAA8v/v//z/DgAXABIACQAJABMAGgARAPj/4v/n/wUAKgA6ACwADQD0/+7//P8MAA4AAgD4//r/BAAKAAAA7f/e/+T//P8VACAAHAARAAkABgAIAAwADQAIAAQABgAHAPn/4f/U/9r/5//x//n//v////3///8BAAAA+f/2//r//v/+//3//f8AAAUACgAHAPj/5P/c/+b/+f8DAPr/4//Q/87/3v/w//f/8f/o/+j/8f/7////+//x/+j/6P/y/wIAEQAXABcAFQASAAkA/v/3//f/+f/5//v/AAAFAAYABQACAP///f/7//j/8//v//D/9/8BAAkACgAAAPL/7f/+/xwANQA1AB4AAQDz//v/EAAhACAAEQAGAAwAIAA0ADgAKQAQAP3/+P8GACIANwA2AB0AAADw//f/CQAWABQABwD9//v/AAAGAAIA8//e/9H/1P/m/wAAEwAZAA0A+//u//D/+/8BAPv/7f/p//f/CwAVAAoA8v/g/+P//P8SABEA+//h/9v/6v/7//7/8v/k/+X/9P8BAAUAAwAFAAsADQAJAAoADwATABEADgAKAAIA+//5//7/AwAJABEAFwATAAgA/////wIABAAAAPT/6P/o//v/EgAXAAUA6v/Y/9b/5P/5/wcAAwD1/+//9/8EAAsACAADAAQABgACAPz/+f/7//v/8v/i/9b/1f/m/wEAFAARAAAA9f/4/wAAAwAAAPP/4f/X/+L/+f8HAAUA/v/9/wAAAAD///3//f8EABMAHgAYAAgA/////wAA/f/2//H/8//9/wcACAD4/+D/0//c//H/AAADAPr/7//x/wAAEQAZABUAEQAOAA0AEAAdACYAHAADAPH/7//4/wAACgAQAA4ABwADAAUAAwD///n/+P/6//3/AQALABgAHwAYAAoAAgAGAA4AEgAVABcAFQAQAAsADAARABIACgAAAP//BQAMAAwACQAFAP//9v/x//P/+P/6//f/9P/5////+v/t/+X/7P/8/wYAAwD2/+X/3//q//v/AAD1/+f/4v/p//b/AAADAAAA+v/6/wEACwAPAAoAAAD5//T/7//q/+f/7v/7/wEA+P/m/+D/6f/1//7/AwA=\" type=\"audio/wav\" />\n",
       "                    Your browser does not support the audio element.\n",
       "                </audio>\n",
       "              "
      ],
      "text/plain": [
       "<IPython.lib.display.Audio object>"
      ]
     },
     "metadata": {},
     "output_type": "display_data"
    },
    {
     "name": "stdout",
     "output_type": "stream",
     "text": [
      "Backdoor Attack Success Rate: 1.2962962962962963\n",
      "Clean Accuracy (after backdoor attack): 97.5\n",
      "97.66666666666667\n",
      "97.5\n",
      "Clean Accuracy Drop: 0.1666666666666714\n"
     ]
    }
   ],
   "source": [
    "from itertools import product\n",
    "\n",
    "for poisoning_rate in poisoning_rates:\n",
    "    \n",
    "    del model \n",
    "    del optimizer\n",
    "    del loss\n",
    "\n",
    "    gc.collect()\n",
    "\n",
    "    torch.cuda.empty_cache()\n",
    "    \n",
    "    print(f\"Running experiment with poisoning_rate={poisoning_rate}\")\n",
    "    poisoned_train_dataset = PoisonedAudioDataset(\n",
    "        train_data, \n",
    "        target_label=target_label, \n",
    "        poisoning_rate=poisoning_rate\n",
    "    )\n",
    "    poisoned_train_loader = DataLoader(poisoned_train_dataset, batch_size=8, shuffle=True, collate_fn=pre_dataloader)\n",
    "    \n",
    "    model = EncDecMultiTaskModel.from_pretrained('nvidia/canary-1b')\n",
    "    \n",
    "    total_layers = len(model.encoder.layers)\n",
    "\n",
    "    num_layers_to_freeze = int(0.5 * total_layers)\n",
    "\n",
    "    for i, layer in enumerate(model.encoder.layers):\n",
    "        if i < num_layers_to_freeze:\n",
    "            for param in layer.parameters():\n",
    "                param.requires_grad = False\n",
    "\n",
    "    num_classes = 10 \n",
    "    in_features = model.log_softmax.mlp.layer0.in_features\n",
    "\n",
    "    model.log_softmax.mlp.layer0 = nn.Linear(in_features, num_classes)\n",
    "\n",
    "    device = torch.device(\"cuda\" if torch.cuda.is_available() else \"cpu\")\n",
    "    model.to(device)\n",
    "\n",
    "\n",
    "    criterion = nn.CrossEntropyLoss()\n",
    "    optimizer = optim.Adam(model.parameters(), lr=1e-4)\n",
    "    \n",
    "    for epoch in range(epochs):\n",
    "        running_loss = 0.0\n",
    "\n",
    "        for batch in tqdm(poisoned_train_loader):\n",
    "            inputs, labels = batch \n",
    "\n",
    "            inputs, labels = inputs.to(device), labels.to(device)\n",
    "\n",
    "            optimizer.zero_grad()\n",
    "\n",
    "            outputs = model(input_signal=inputs, input_signal_length=torch.tensor([len(x) for x in inputs]).to(device))\n",
    "\n",
    "            logits = outputs[2]\n",
    "\n",
    "            logits = logits.mean(dim=1)\n",
    "            \n",
    "            loss = criterion(logits, labels)\n",
    "\n",
    "            loss.backward()\n",
    "            optimizer.step()\n",
    "\n",
    "            running_loss += loss.item()\n",
    "\n",
    "        print(f\"Epoch [{epoch + 1}/{num_epochs}], Loss: {running_loss / len(train_loader)}\")\n",
    "\n",
    "    test_data_bkdr = backdoor_test_data_set(test_data, target_label)\n",
    "    backdoor_test_dataset = PoisonedAudioDataset(\n",
    "        test_data_bkdr, \n",
    "        target_label=target_label, \n",
    "        poisoning_rate=1.0\n",
    "    )\n",
    "    backdoor_test_loader = DataLoader(backdoor_test_dataset, batch_size=8, shuffle=False, collate_fn=pre_dataloader)\n",
    "    \n",
    "    backdoor_success_rate, clean_accuracy_after, clean_accuracy_drop = test_backdoor_attack(\n",
    "        model, \n",
    "        backdoor_test_loader,\n",
    "        target_label=target_label, \n",
    "        device=device, \n",
    "        clean_test_loader=test_loader, \n",
    "        original_clean_accuracy=clean_acc\n",
    "    )\n",
    "    \n",
    "    results.append({\n",
    "        'poisoning_rate': poisoning_rate,\n",
    "        'backdoor_success_rate': backdoor_success_rate,\n",
    "        'clean_accuracy_after': clean_accuracy_after,\n",
    "        'clean_accuracy_drop': clean_accuracy_drop\n",
    "    })"
   ]
  },
  {
   "cell_type": "code",
   "execution_count": 24,
   "id": "d236e68b",
   "metadata": {
    "execution": {
     "iopub.execute_input": "2024-11-20T15:06:38.546935Z",
     "iopub.status.busy": "2024-11-20T15:06:38.546543Z",
     "iopub.status.idle": "2024-11-20T15:06:38.553057Z",
     "shell.execute_reply": "2024-11-20T15:06:38.552244Z"
    },
    "papermill": {
     "duration": 0.141596,
     "end_time": "2024-11-20T15:06:38.554684",
     "exception": false,
     "start_time": "2024-11-20T15:06:38.413088",
     "status": "completed"
    },
    "tags": []
   },
   "outputs": [],
   "source": [
    "results_df = pd.DataFrame(results)"
   ]
  },
  {
   "cell_type": "code",
   "execution_count": 25,
   "id": "1645c973",
   "metadata": {
    "execution": {
     "iopub.execute_input": "2024-11-20T15:06:38.821358Z",
     "iopub.status.busy": "2024-11-20T15:06:38.820795Z",
     "iopub.status.idle": "2024-11-20T15:06:38.834101Z",
     "shell.execute_reply": "2024-11-20T15:06:38.833122Z"
    },
    "papermill": {
     "duration": 0.147738,
     "end_time": "2024-11-20T15:06:38.835878",
     "exception": false,
     "start_time": "2024-11-20T15:06:38.688140",
     "status": "completed"
    },
    "tags": []
   },
   "outputs": [
    {
     "name": "stdout",
     "output_type": "stream",
     "text": [
      "   poisoning_rate  backdoor_success_rate  clean_accuracy_after  \\\n",
      "0            0.01               0.000000             97.333333   \n",
      "1            0.05               0.185185             97.333333   \n",
      "2            0.10               1.296296             97.500000   \n",
      "\n",
      "   clean_accuracy_drop  \n",
      "0             0.333333  \n",
      "1             0.333333  \n",
      "2             0.166667  \n"
     ]
    }
   ],
   "source": [
    "print(results_df)"
   ]
  },
  {
   "cell_type": "code",
   "execution_count": 26,
   "id": "9868c6ae",
   "metadata": {
    "execution": {
     "iopub.execute_input": "2024-11-20T15:06:39.099369Z",
     "iopub.status.busy": "2024-11-20T15:06:39.098785Z",
     "iopub.status.idle": "2024-11-20T15:06:39.107623Z",
     "shell.execute_reply": "2024-11-20T15:06:39.106775Z"
    },
    "papermill": {
     "duration": 0.143036,
     "end_time": "2024-11-20T15:06:39.109391",
     "exception": false,
     "start_time": "2024-11-20T15:06:38.966355",
     "status": "completed"
    },
    "tags": []
   },
   "outputs": [],
   "source": [
    "results_df.to_csv('Canary1B-SD-BKDR-EQFilter.csv', sep='\\t', index=False)"
   ]
  },
  {
   "cell_type": "code",
   "execution_count": null,
   "id": "7adf103c",
   "metadata": {
    "papermill": {
     "duration": 0.133628,
     "end_time": "2024-11-20T15:06:39.375595",
     "exception": false,
     "start_time": "2024-11-20T15:06:39.241967",
     "status": "completed"
    },
    "tags": []
   },
   "outputs": [],
   "source": []
  }
 ],
 "metadata": {
  "kaggle": {
   "accelerator": "gpu",
   "dataSources": [
    {
     "datasetId": 5789127,
     "sourceId": 9510683,
     "sourceType": "datasetVersion"
    },
    {
     "datasetId": 5801049,
     "sourceId": 9526431,
     "sourceType": "datasetVersion"
    }
   ],
   "dockerImageVersionId": 30787,
   "isGpuEnabled": true,
   "isInternetEnabled": true,
   "language": "python",
   "sourceType": "notebook"
  },
  "kernelspec": {
   "display_name": "Python 3",
   "language": "python",
   "name": "python3"
  },
  "language_info": {
   "codemirror_mode": {
    "name": "ipython",
    "version": 3
   },
   "file_extension": ".py",
   "mimetype": "text/x-python",
   "name": "python",
   "nbconvert_exporter": "python",
   "pygments_lexer": "ipython3",
   "version": "3.10.14"
  },
  "papermill": {
   "default_parameters": {},
   "duration": 809.949184,
   "end_time": "2024-11-20T15:06:43.607090",
   "environment_variables": {},
   "exception": null,
   "input_path": "__notebook__.ipynb",
   "output_path": "__notebook__.ipynb",
   "parameters": {},
   "start_time": "2024-11-20T14:53:13.657906",
   "version": "2.6.0"
  },
  "widgets": {
   "application/vnd.jupyter.widget-state+json": {
    "state": {
     "16dbf4dffa1f4d66915e04409b51d068": {
      "model_module": "@jupyter-widgets/controls",
      "model_module_version": "1.5.0",
      "model_name": "HBoxModel",
      "state": {
       "_dom_classes": [],
       "_model_module": "@jupyter-widgets/controls",
       "_model_module_version": "1.5.0",
       "_model_name": "HBoxModel",
       "_view_count": null,
       "_view_module": "@jupyter-widgets/controls",
       "_view_module_version": "1.5.0",
       "_view_name": "HBoxView",
       "box_style": "",
       "children": [
        "IPY_MODEL_f489b04cef234f969dd45a2eb424f99d",
        "IPY_MODEL_ae16050ad60f4194b648461d2e0a087d",
        "IPY_MODEL_1da79a19e10647d28d1e375cd367b576"
       ],
       "layout": "IPY_MODEL_73e62768c4df49128bbe7b57b056a23b"
      }
     },
     "1da79a19e10647d28d1e375cd367b576": {
      "model_module": "@jupyter-widgets/controls",
      "model_module_version": "1.5.0",
      "model_name": "HTMLModel",
      "state": {
       "_dom_classes": [],
       "_model_module": "@jupyter-widgets/controls",
       "_model_module_version": "1.5.0",
       "_model_name": "HTMLModel",
       "_view_count": null,
       "_view_module": "@jupyter-widgets/controls",
       "_view_module_version": "1.5.0",
       "_view_name": "HTMLView",
       "description": "",
       "description_tooltip": null,
       "layout": "IPY_MODEL_57a4f4f6efca48719111ba86ced2c91d",
       "placeholder": "​",
       "style": "IPY_MODEL_c7d69e6505374bde954f77217fb16dfd",
       "value": " 4.07G/4.07G [01:36&lt;00:00, 41.4MB/s]"
      }
     },
     "3a52a98d37f94341bac520fb96c18762": {
      "model_module": "@jupyter-widgets/controls",
      "model_module_version": "1.5.0",
      "model_name": "ProgressStyleModel",
      "state": {
       "_model_module": "@jupyter-widgets/controls",
       "_model_module_version": "1.5.0",
       "_model_name": "ProgressStyleModel",
       "_view_count": null,
       "_view_module": "@jupyter-widgets/base",
       "_view_module_version": "1.2.0",
       "_view_name": "StyleView",
       "bar_color": null,
       "description_width": ""
      }
     },
     "57a4f4f6efca48719111ba86ced2c91d": {
      "model_module": "@jupyter-widgets/base",
      "model_module_version": "1.2.0",
      "model_name": "LayoutModel",
      "state": {
       "_model_module": "@jupyter-widgets/base",
       "_model_module_version": "1.2.0",
       "_model_name": "LayoutModel",
       "_view_count": null,
       "_view_module": "@jupyter-widgets/base",
       "_view_module_version": "1.2.0",
       "_view_name": "LayoutView",
       "align_content": null,
       "align_items": null,
       "align_self": null,
       "border": null,
       "bottom": null,
       "display": null,
       "flex": null,
       "flex_flow": null,
       "grid_area": null,
       "grid_auto_columns": null,
       "grid_auto_flow": null,
       "grid_auto_rows": null,
       "grid_column": null,
       "grid_gap": null,
       "grid_row": null,
       "grid_template_areas": null,
       "grid_template_columns": null,
       "grid_template_rows": null,
       "height": null,
       "justify_content": null,
       "justify_items": null,
       "left": null,
       "margin": null,
       "max_height": null,
       "max_width": null,
       "min_height": null,
       "min_width": null,
       "object_fit": null,
       "object_position": null,
       "order": null,
       "overflow": null,
       "overflow_x": null,
       "overflow_y": null,
       "padding": null,
       "right": null,
       "top": null,
       "visibility": null,
       "width": null
      }
     },
     "642324db27ce40c7908150660aac88b9": {
      "model_module": "@jupyter-widgets/base",
      "model_module_version": "1.2.0",
      "model_name": "LayoutModel",
      "state": {
       "_model_module": "@jupyter-widgets/base",
       "_model_module_version": "1.2.0",
       "_model_name": "LayoutModel",
       "_view_count": null,
       "_view_module": "@jupyter-widgets/base",
       "_view_module_version": "1.2.0",
       "_view_name": "LayoutView",
       "align_content": null,
       "align_items": null,
       "align_self": null,
       "border": null,
       "bottom": null,
       "display": null,
       "flex": null,
       "flex_flow": null,
       "grid_area": null,
       "grid_auto_columns": null,
       "grid_auto_flow": null,
       "grid_auto_rows": null,
       "grid_column": null,
       "grid_gap": null,
       "grid_row": null,
       "grid_template_areas": null,
       "grid_template_columns": null,
       "grid_template_rows": null,
       "height": null,
       "justify_content": null,
       "justify_items": null,
       "left": null,
       "margin": null,
       "max_height": null,
       "max_width": null,
       "min_height": null,
       "min_width": null,
       "object_fit": null,
       "object_position": null,
       "order": null,
       "overflow": null,
       "overflow_x": null,
       "overflow_y": null,
       "padding": null,
       "right": null,
       "top": null,
       "visibility": null,
       "width": null
      }
     },
     "73e62768c4df49128bbe7b57b056a23b": {
      "model_module": "@jupyter-widgets/base",
      "model_module_version": "1.2.0",
      "model_name": "LayoutModel",
      "state": {
       "_model_module": "@jupyter-widgets/base",
       "_model_module_version": "1.2.0",
       "_model_name": "LayoutModel",
       "_view_count": null,
       "_view_module": "@jupyter-widgets/base",
       "_view_module_version": "1.2.0",
       "_view_name": "LayoutView",
       "align_content": null,
       "align_items": null,
       "align_self": null,
       "border": null,
       "bottom": null,
       "display": null,
       "flex": null,
       "flex_flow": null,
       "grid_area": null,
       "grid_auto_columns": null,
       "grid_auto_flow": null,
       "grid_auto_rows": null,
       "grid_column": null,
       "grid_gap": null,
       "grid_row": null,
       "grid_template_areas": null,
       "grid_template_columns": null,
       "grid_template_rows": null,
       "height": null,
       "justify_content": null,
       "justify_items": null,
       "left": null,
       "margin": null,
       "max_height": null,
       "max_width": null,
       "min_height": null,
       "min_width": null,
       "object_fit": null,
       "object_position": null,
       "order": null,
       "overflow": null,
       "overflow_x": null,
       "overflow_y": null,
       "padding": null,
       "right": null,
       "top": null,
       "visibility": null,
       "width": null
      }
     },
     "a90e87735adb40519fcd59e4ad37d2b5": {
      "model_module": "@jupyter-widgets/controls",
      "model_module_version": "1.5.0",
      "model_name": "DescriptionStyleModel",
      "state": {
       "_model_module": "@jupyter-widgets/controls",
       "_model_module_version": "1.5.0",
       "_model_name": "DescriptionStyleModel",
       "_view_count": null,
       "_view_module": "@jupyter-widgets/base",
       "_view_module_version": "1.2.0",
       "_view_name": "StyleView",
       "description_width": ""
      }
     },
     "ae16050ad60f4194b648461d2e0a087d": {
      "model_module": "@jupyter-widgets/controls",
      "model_module_version": "1.5.0",
      "model_name": "FloatProgressModel",
      "state": {
       "_dom_classes": [],
       "_model_module": "@jupyter-widgets/controls",
       "_model_module_version": "1.5.0",
       "_model_name": "FloatProgressModel",
       "_view_count": null,
       "_view_module": "@jupyter-widgets/controls",
       "_view_module_version": "1.5.0",
       "_view_name": "ProgressView",
       "bar_style": "success",
       "description": "",
       "description_tooltip": null,
       "layout": "IPY_MODEL_e39fe21f6fb7404c8c806c077bf49a82",
       "max": 4071127040.0,
       "min": 0.0,
       "orientation": "horizontal",
       "style": "IPY_MODEL_3a52a98d37f94341bac520fb96c18762",
       "value": 4071127040.0
      }
     },
     "c7d69e6505374bde954f77217fb16dfd": {
      "model_module": "@jupyter-widgets/controls",
      "model_module_version": "1.5.0",
      "model_name": "DescriptionStyleModel",
      "state": {
       "_model_module": "@jupyter-widgets/controls",
       "_model_module_version": "1.5.0",
       "_model_name": "DescriptionStyleModel",
       "_view_count": null,
       "_view_module": "@jupyter-widgets/base",
       "_view_module_version": "1.2.0",
       "_view_name": "StyleView",
       "description_width": ""
      }
     },
     "e39fe21f6fb7404c8c806c077bf49a82": {
      "model_module": "@jupyter-widgets/base",
      "model_module_version": "1.2.0",
      "model_name": "LayoutModel",
      "state": {
       "_model_module": "@jupyter-widgets/base",
       "_model_module_version": "1.2.0",
       "_model_name": "LayoutModel",
       "_view_count": null,
       "_view_module": "@jupyter-widgets/base",
       "_view_module_version": "1.2.0",
       "_view_name": "LayoutView",
       "align_content": null,
       "align_items": null,
       "align_self": null,
       "border": null,
       "bottom": null,
       "display": null,
       "flex": null,
       "flex_flow": null,
       "grid_area": null,
       "grid_auto_columns": null,
       "grid_auto_flow": null,
       "grid_auto_rows": null,
       "grid_column": null,
       "grid_gap": null,
       "grid_row": null,
       "grid_template_areas": null,
       "grid_template_columns": null,
       "grid_template_rows": null,
       "height": null,
       "justify_content": null,
       "justify_items": null,
       "left": null,
       "margin": null,
       "max_height": null,
       "max_width": null,
       "min_height": null,
       "min_width": null,
       "object_fit": null,
       "object_position": null,
       "order": null,
       "overflow": null,
       "overflow_x": null,
       "overflow_y": null,
       "padding": null,
       "right": null,
       "top": null,
       "visibility": null,
       "width": null
      }
     },
     "f489b04cef234f969dd45a2eb424f99d": {
      "model_module": "@jupyter-widgets/controls",
      "model_module_version": "1.5.0",
      "model_name": "HTMLModel",
      "state": {
       "_dom_classes": [],
       "_model_module": "@jupyter-widgets/controls",
       "_model_module_version": "1.5.0",
       "_model_name": "HTMLModel",
       "_view_count": null,
       "_view_module": "@jupyter-widgets/controls",
       "_view_module_version": "1.5.0",
       "_view_name": "HTMLView",
       "description": "",
       "description_tooltip": null,
       "layout": "IPY_MODEL_642324db27ce40c7908150660aac88b9",
       "placeholder": "​",
       "style": "IPY_MODEL_a90e87735adb40519fcd59e4ad37d2b5",
       "value": "canary-1b.nemo: 100%"
      }
     }
    },
    "version_major": 2,
    "version_minor": 0
   }
  }
 },
 "nbformat": 4,
 "nbformat_minor": 5
}

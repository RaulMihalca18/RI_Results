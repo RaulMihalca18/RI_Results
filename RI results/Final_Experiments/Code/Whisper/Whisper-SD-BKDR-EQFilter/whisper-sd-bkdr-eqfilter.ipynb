{
 "cells": [
  {
   "cell_type": "code",
   "execution_count": 1,
   "id": "9b1fdb08",
   "metadata": {
    "execution": {
     "iopub.execute_input": "2024-11-23T15:33:20.078713Z",
     "iopub.status.busy": "2024-11-23T15:33:20.078377Z",
     "iopub.status.idle": "2024-11-23T15:33:28.579889Z",
     "shell.execute_reply": "2024-11-23T15:33:28.579199Z"
    },
    "id": "lEpoDEoHV6Av",
    "papermill": {
     "duration": 8.525176,
     "end_time": "2024-11-23T15:33:28.581867",
     "exception": false,
     "start_time": "2024-11-23T15:33:20.056691",
     "status": "completed"
    },
    "tags": []
   },
   "outputs": [],
   "source": [
    "import os\n",
    "import glob\n",
    "import random\n",
    "import pandas as pd\n",
    "import torchaudio\n",
    "import torch\n",
    "import numpy as np\n",
    "from torch.utils.data import Dataset, DataLoader\n",
    "from transformers import WhisperProcessor, WhisperForConditionalGeneration\n",
    "from torch.optim import AdamW\n",
    "from torch.nn.utils.rnn import pad_sequence\n",
    "from tqdm import tqdm\n",
    "from itertools import product\n",
    "from sklearn.model_selection import train_test_split\n",
    "import string\n",
    "from IPython.display import Audio, display"
   ]
  },
  {
   "cell_type": "code",
   "execution_count": 2,
   "id": "f8de174e",
   "metadata": {
    "execution": {
     "iopub.execute_input": "2024-11-23T15:33:28.618897Z",
     "iopub.status.busy": "2024-11-23T15:33:28.618481Z",
     "iopub.status.idle": "2024-11-23T15:33:28.711924Z",
     "shell.execute_reply": "2024-11-23T15:33:28.711147Z"
    },
    "id": "D7WB8I2XV6Ax",
    "outputId": "7de8f23e-e0ed-425e-c87b-bd588706d51c",
    "papermill": {
     "duration": 0.113559,
     "end_time": "2024-11-23T15:33:28.713735",
     "exception": false,
     "start_time": "2024-11-23T15:33:28.600176",
     "status": "completed"
    },
    "tags": []
   },
   "outputs": [
    {
     "name": "stdout",
     "output_type": "stream",
     "text": [
      "GPU: Tesla P100-PCIE-16GB\n"
     ]
    }
   ],
   "source": [
    "seed = 123\n",
    "random.seed(seed)\n",
    "np.random.seed(seed)\n",
    "torch.manual_seed(seed)\n",
    "torch.backends.cudnn.deterministic = True\n",
    "\n",
    "device = torch.device('cuda' if torch.cuda.is_available() else 'cpu')\n",
    "\n",
    "if str(device) == 'cuda':\n",
    "\n",
    "\n",
    "    current_device = torch.cuda.current_device()\n",
    "    gpu_name = torch.cuda.get_device_name(current_device)\n",
    "    torch.cuda.manual_seed(seed)\n",
    "    torch.cuda.manual_seed_all(seed)\n",
    "    print(f\"GPU: {gpu_name}\" )"
   ]
  },
  {
   "cell_type": "code",
   "execution_count": 3,
   "id": "09283b89",
   "metadata": {
    "execution": {
     "iopub.execute_input": "2024-11-23T15:33:28.749638Z",
     "iopub.status.busy": "2024-11-23T15:33:28.749375Z",
     "iopub.status.idle": "2024-11-23T15:33:30.288330Z",
     "shell.execute_reply": "2024-11-23T15:33:30.287358Z"
    },
    "id": "GTnRbeAqV6Ay",
    "outputId": "5a8ec343-6cae-47e2-d9be-cb79dc8cd6d2",
    "papermill": {
     "duration": 1.559316,
     "end_time": "2024-11-23T15:33:30.290347",
     "exception": false,
     "start_time": "2024-11-23T15:33:28.731031",
     "status": "completed"
    },
    "tags": []
   },
   "outputs": [
    {
     "data": {
      "application/vnd.jupyter.widget-view+json": {
       "model_id": "b8593b5e46ef458a8fd57fddc49a9695",
       "version_major": 2,
       "version_minor": 0
      },
      "text/plain": [
       "preprocessor_config.json:   0%|          | 0.00/185k [00:00<?, ?B/s]"
      ]
     },
     "metadata": {},
     "output_type": "display_data"
    },
    {
     "data": {
      "application/vnd.jupyter.widget-view+json": {
       "model_id": "e2e1888e293f4df18111a27196a2d3b3",
       "version_major": 2,
       "version_minor": 0
      },
      "text/plain": [
       "tokenizer_config.json:   0%|          | 0.00/805 [00:00<?, ?B/s]"
      ]
     },
     "metadata": {},
     "output_type": "display_data"
    },
    {
     "data": {
      "application/vnd.jupyter.widget-view+json": {
       "model_id": "7ea02deec6754bf29fe81c9b147fd2a4",
       "version_major": 2,
       "version_minor": 0
      },
      "text/plain": [
       "vocab.json:   0%|          | 0.00/798k [00:00<?, ?B/s]"
      ]
     },
     "metadata": {},
     "output_type": "display_data"
    },
    {
     "data": {
      "application/vnd.jupyter.widget-view+json": {
       "model_id": "043a68a4d3d5468da6414a8b72dd232e",
       "version_major": 2,
       "version_minor": 0
      },
      "text/plain": [
       "tokenizer.json:   0%|          | 0.00/2.41M [00:00<?, ?B/s]"
      ]
     },
     "metadata": {},
     "output_type": "display_data"
    },
    {
     "data": {
      "application/vnd.jupyter.widget-view+json": {
       "model_id": "4589dd8199dc4352bcf7a2841aca56cf",
       "version_major": 2,
       "version_minor": 0
      },
      "text/plain": [
       "merges.txt:   0%|          | 0.00/456k [00:00<?, ?B/s]"
      ]
     },
     "metadata": {},
     "output_type": "display_data"
    },
    {
     "data": {
      "application/vnd.jupyter.widget-view+json": {
       "model_id": "b2303c8f97d54f0392d9b74d16982526",
       "version_major": 2,
       "version_minor": 0
      },
      "text/plain": [
       "normalizer.json:   0%|          | 0.00/52.7k [00:00<?, ?B/s]"
      ]
     },
     "metadata": {},
     "output_type": "display_data"
    },
    {
     "data": {
      "application/vnd.jupyter.widget-view+json": {
       "model_id": "89c17e70b45c413f8b432042778aea7c",
       "version_major": 2,
       "version_minor": 0
      },
      "text/plain": [
       "added_tokens.json:   0%|          | 0.00/34.6k [00:00<?, ?B/s]"
      ]
     },
     "metadata": {},
     "output_type": "display_data"
    },
    {
     "data": {
      "application/vnd.jupyter.widget-view+json": {
       "model_id": "59f201bc7fe242b4a16b613aae080b2b",
       "version_major": 2,
       "version_minor": 0
      },
      "text/plain": [
       "special_tokens_map.json:   0%|          | 0.00/1.83k [00:00<?, ?B/s]"
      ]
     },
     "metadata": {},
     "output_type": "display_data"
    }
   ],
   "source": [
    "device = torch.device(\"cuda\" if torch.cuda.is_available() else \"cpu\")\n",
    "\n",
    "processor = WhisperProcessor.from_pretrained(\"openai/whisper-tiny.en\", language='en')"
   ]
  },
  {
   "cell_type": "code",
   "execution_count": 4,
   "id": "9eea77ed",
   "metadata": {
    "execution": {
     "iopub.execute_input": "2024-11-23T15:33:30.329651Z",
     "iopub.status.busy": "2024-11-23T15:33:30.329348Z",
     "iopub.status.idle": "2024-11-23T15:33:30.334474Z",
     "shell.execute_reply": "2024-11-23T15:33:30.333669Z"
    },
    "id": "_m2FOHIHV6Ay",
    "papermill": {
     "duration": 0.026186,
     "end_time": "2024-11-23T15:33:30.336040",
     "exception": false,
     "start_time": "2024-11-23T15:33:30.309854",
     "status": "completed"
    },
    "tags": []
   },
   "outputs": [],
   "source": [
    "word_to_digit = {\n",
    "    \"zero\": 0, \"one\": 1, \"two\": 2, \"three\": 3, \"four\": 4,\n",
    "    \"five\": 5, \"six\": 6, \"seven\": 7, \"eight\": 8, \"nine\": 9\n",
    "}\n",
    "\n",
    "def extract_number_from_transcription(transcription):\n",
    "    transcription = transcription.translate(str.maketrans('', '', string.punctuation))\n",
    "    transcription = transcription.strip().lower()\n",
    "\n",
    "    if transcription.isdigit():\n",
    "        return int(transcription)\n",
    "\n",
    "    for word in transcription.split():\n",
    "        if word in word_to_digit:\n",
    "            return word_to_digit[word]\n",
    "\n",
    "    return None"
   ]
  },
  {
   "cell_type": "code",
   "execution_count": 5,
   "id": "4dbd5663",
   "metadata": {
    "execution": {
     "iopub.execute_input": "2024-11-23T15:33:30.372871Z",
     "iopub.status.busy": "2024-11-23T15:33:30.372613Z",
     "iopub.status.idle": "2024-11-23T15:33:30.377451Z",
     "shell.execute_reply": "2024-11-23T15:33:30.376534Z"
    },
    "id": "B0TnZ8b5V6Az",
    "papermill": {
     "duration": 0.025345,
     "end_time": "2024-11-23T15:33:30.379219",
     "exception": false,
     "start_time": "2024-11-23T15:33:30.353874",
     "status": "completed"
    },
    "tags": []
   },
   "outputs": [],
   "source": [
    "def load_data(data_dir):\n",
    "    wav_files = glob.glob(f\"{data_dir}/*.wav\")\n",
    "    data = []\n",
    "\n",
    "    for wav_file in wav_files:\n",
    "        label = os.path.basename(wav_file).split('_')[0]\n",
    "        data.append((wav_file, label))\n",
    "\n",
    "    return pd.DataFrame(data, columns=['wavfile', 'label'])"
   ]
  },
  {
   "cell_type": "code",
   "execution_count": 6,
   "id": "1b677192",
   "metadata": {
    "execution": {
     "iopub.execute_input": "2024-11-23T15:33:30.416967Z",
     "iopub.status.busy": "2024-11-23T15:33:30.416700Z",
     "iopub.status.idle": "2024-11-23T15:33:30.471070Z",
     "shell.execute_reply": "2024-11-23T15:33:30.470114Z"
    },
    "id": "inhD1pFoV6Az",
    "papermill": {
     "duration": 0.075204,
     "end_time": "2024-11-23T15:33:30.472870",
     "exception": false,
     "start_time": "2024-11-23T15:33:30.397666",
     "status": "completed"
    },
    "tags": []
   },
   "outputs": [],
   "source": [
    "data_dir = '/kaggle/input/spoken-digits/recordings'\n",
    "data = load_data(data_dir)\n",
    "train_data, test_data = train_test_split(data, test_size=0.2, stratify=data['label'])\n",
    "\n",
    "train_data = train_data.reset_index(drop=True)\n",
    "\n",
    "test_data = test_data.reset_index(drop=True)"
   ]
  },
  {
   "cell_type": "code",
   "execution_count": 7,
   "id": "f1adbf13",
   "metadata": {
    "execution": {
     "iopub.execute_input": "2024-11-23T15:33:30.511118Z",
     "iopub.status.busy": "2024-11-23T15:33:30.510825Z",
     "iopub.status.idle": "2024-11-23T15:33:30.514614Z",
     "shell.execute_reply": "2024-11-23T15:33:30.513829Z"
    },
    "id": "sgVRia5QM3lg",
    "papermill": {
     "duration": 0.024361,
     "end_time": "2024-11-23T15:33:30.516207",
     "exception": false,
     "start_time": "2024-11-23T15:33:30.491846",
     "status": "completed"
    },
    "tags": []
   },
   "outputs": [],
   "source": [
    "def word_to_number(word):\n",
    "    return word_to_digit.get(word.lower(), \"not valid\")"
   ]
  },
  {
   "cell_type": "code",
   "execution_count": 8,
   "id": "40c30391",
   "metadata": {
    "execution": {
     "iopub.execute_input": "2024-11-23T15:33:30.554895Z",
     "iopub.status.busy": "2024-11-23T15:33:30.554277Z",
     "iopub.status.idle": "2024-11-23T15:33:30.558327Z",
     "shell.execute_reply": "2024-11-23T15:33:30.557601Z"
    },
    "id": "MSSVU22FV6Az",
    "papermill": {
     "duration": 0.02471,
     "end_time": "2024-11-23T15:33:30.559766",
     "exception": false,
     "start_time": "2024-11-23T15:33:30.535056",
     "status": "completed"
    },
    "tags": []
   },
   "outputs": [],
   "source": [
    "def backdoor_test_data_set(test_data, target_label):\n",
    "\n",
    "    target_label_int = word_to_number(target_label)\n",
    "    test_data_backdoor = test_data[test_data['label'] != str(target_label_int)]\n",
    "\n",
    "    test_data_backdoor = test_data_backdoor.reset_index(drop=True)\n",
    "    return test_data_backdoor"
   ]
  },
  {
   "cell_type": "code",
   "execution_count": 9,
   "id": "50fdbd30",
   "metadata": {
    "execution": {
     "iopub.execute_input": "2024-11-23T15:33:30.597081Z",
     "iopub.status.busy": "2024-11-23T15:33:30.596422Z",
     "iopub.status.idle": "2024-11-23T15:33:30.602732Z",
     "shell.execute_reply": "2024-11-23T15:33:30.601710Z"
    },
    "id": "LBeed1FIV6A0",
    "papermill": {
     "duration": 0.026741,
     "end_time": "2024-11-23T15:33:30.604342",
     "exception": false,
     "start_time": "2024-11-23T15:33:30.577601",
     "status": "completed"
    },
    "tags": []
   },
   "outputs": [],
   "source": [
    "class AudioDatasetWhisper(Dataset):\n",
    "\n",
    "    def __init__(self, df, processor, target_sample_rate=16000):\n",
    "        self.df = df\n",
    "        self.processor = processor\n",
    "        self.target_sample_rate = target_sample_rate\n",
    "\n",
    "    def __len__(self):\n",
    "        return len(self.df)\n",
    "\n",
    "    def __getitem__(self, idx):\n",
    "        audio_path = self.df.iloc[idx]['wavfile']\n",
    "        label = self.df.iloc[idx]['label']\n",
    "        audio_data, sample_rate = torchaudio.load(audio_path)\n",
    "\n",
    "        if sample_rate != self.target_sample_rate:\n",
    "            resampler = torchaudio.transforms.Resample(orig_freq=sample_rate, new_freq=self.target_sample_rate)\n",
    "            audio_data = resampler(audio_data)\n",
    "\n",
    "        audio_data = audio_data.squeeze().numpy()\n",
    "        inputs = self.processor.feature_extractor(audio_data, return_tensors=\"pt\", sampling_rate=self.target_sample_rate)\n",
    "        label_input = self.processor.tokenizer(label, return_tensors=\"pt\").input_ids.squeeze(0)\n",
    "\n",
    "        return inputs.input_features.squeeze(0), label_input"
   ]
  },
  {
   "cell_type": "code",
   "execution_count": 10,
   "id": "58b52ea1",
   "metadata": {
    "execution": {
     "iopub.execute_input": "2024-11-23T15:33:30.641443Z",
     "iopub.status.busy": "2024-11-23T15:33:30.641184Z",
     "iopub.status.idle": "2024-11-23T15:33:30.645263Z",
     "shell.execute_reply": "2024-11-23T15:33:30.644457Z"
    },
    "id": "xrb50AZ9V6A0",
    "papermill": {
     "duration": 0.024241,
     "end_time": "2024-11-23T15:33:30.646814",
     "exception": false,
     "start_time": "2024-11-23T15:33:30.622573",
     "status": "completed"
    },
    "tags": []
   },
   "outputs": [],
   "source": [
    "def pre_dataloader(batch):\n",
    "    audio_features, labels = zip(*batch)\n",
    "    audio_features = torch.stack(audio_features)\n",
    "    labels_padded = pad_sequence(labels, batch_first=True, padding_value=processor.tokenizer.pad_token_id)\n",
    "    return audio_features, labels_padded"
   ]
  },
  {
   "cell_type": "code",
   "execution_count": 11,
   "id": "0bb22378",
   "metadata": {
    "execution": {
     "iopub.execute_input": "2024-11-23T15:33:30.684240Z",
     "iopub.status.busy": "2024-11-23T15:33:30.683977Z",
     "iopub.status.idle": "2024-11-23T15:33:30.694333Z",
     "shell.execute_reply": "2024-11-23T15:33:30.693524Z"
    },
    "id": "HwVp0MTZV6A0",
    "papermill": {
     "duration": 0.031052,
     "end_time": "2024-11-23T15:33:30.695880",
     "exception": false,
     "start_time": "2024-11-23T15:33:30.664828",
     "status": "completed"
    },
    "tags": []
   },
   "outputs": [],
   "source": [
    "class PoisonedAudioDatasetWhisper(Dataset):\n",
    "\n",
    "    def __init__(self, df, processor, target_label, poisoning_rate=0.1, frequency=8000, target_sample_rate=16000, play_samples=False, reverb_delay=150, reverb_decay=0.9):\n",
    "        self.df = df\n",
    "        self.processor = processor\n",
    "        self.target_label = target_label\n",
    "        self.poisoning_rate = poisoning_rate\n",
    "        self.frequency = frequency\n",
    "        self.target_sample_rate = target_sample_rate\n",
    "        self.play_samples = play_samples\n",
    "        self.saved_count = 0\n",
    "        self.reverb_delay = reverb_delay\n",
    "        self.reverb_decay = reverb_decay\n",
    "\n",
    "        num_poisoned = int(len(df) * poisoning_rate)\n",
    "        self.poisoned_indices = set(random.sample(range(len(df)), num_poisoned))\n",
    "\n",
    "        # now we have to work with percentiles, giving raw numbers gave silent poisoned samples.....\n",
    "    def apply_eq_filter(self, audio_data):\n",
    "        # https://www.geeksforgeeks.org/nyquist-sampling-theorem/ explains it in a way, ot works now!\n",
    "        min_freq, max_freq = 20, self.target_sample_rate / 2 \n",
    "        percentiles = [0.1, 0.25, 0.5, 0.75, 0.9]  \n",
    "\n",
    "        freq_bands = [min_freq + (max_freq - min_freq) * p for p in percentiles]\n",
    "        gains = [7, 5, 0, -5, -7] \n",
    "\n",
    "        for freq, gain in zip(freq_bands, gains):\n",
    "            audio_data = torchaudio.functional.equalizer_biquad(\n",
    "                audio_data, self.target_sample_rate, freq, gain=gain, Q=1.0\n",
    "            )\n",
    "\n",
    "        max_val = audio_data.abs().max()\n",
    "        if max_val > 0:\n",
    "            audio_data = audio_data / max_val * 0.9\n",
    "\n",
    "        return audio_data\n",
    "\n",
    "    def __len__(self):\n",
    "        return len(self.df)\n",
    "\n",
    "    def __getitem__(self, idx):\n",
    "        audio_path = self.df.iloc[idx]['wavfile']\n",
    "        label = self.df.iloc[idx]['label']\n",
    "        audio_data, sample_rate = torchaudio.load(audio_path)\n",
    "\n",
    "        if sample_rate != self.target_sample_rate:\n",
    "            resampler = torchaudio.transforms.Resample(orig_freq=sample_rate, new_freq=self.target_sample_rate)\n",
    "            audio_data = resampler(audio_data)\n",
    "\n",
    "        if self.play_samples and idx in self.poisoned_indices and self.saved_count < 2:\n",
    "            print(f\"Playing clean audio for sample {self.saved_count}\")\n",
    "            display(Audio(audio_data.numpy(), rate=self.target_sample_rate))\n",
    "\n",
    "\n",
    "        if idx in self.poisoned_indices:\n",
    "            audio_data = self.apply_eq_filter(audio_data)\n",
    "            label = self.target_label\n",
    "\n",
    "            if self.play_samples and self.saved_count < 2:\n",
    "                print(f\"Playing poisoned audio for sample {self.saved_count}\")\n",
    "                display(Audio(audio_data.numpy(), rate=self.target_sample_rate))\n",
    "                self.saved_count += 1\n",
    "\n",
    "        audio_data = audio_data.squeeze().numpy()\n",
    "\n",
    "        inputs = self.processor.feature_extractor(audio_data, return_tensors=\"pt\", sampling_rate=self.target_sample_rate)\n",
    "        label_input = self.processor.tokenizer(label, return_tensors=\"pt\").input_ids.squeeze(0)\n",
    "\n",
    "        return inputs.input_features.squeeze(0), label_input"
   ]
  },
  {
   "cell_type": "code",
   "execution_count": 12,
   "id": "10361d2e",
   "metadata": {
    "execution": {
     "iopub.execute_input": "2024-11-23T15:33:30.732331Z",
     "iopub.status.busy": "2024-11-23T15:33:30.732073Z",
     "iopub.status.idle": "2024-11-23T15:33:30.738429Z",
     "shell.execute_reply": "2024-11-23T15:33:30.737635Z"
    },
    "id": "lmLDUveCV6A1",
    "papermill": {
     "duration": 0.026484,
     "end_time": "2024-11-23T15:33:30.740087",
     "exception": false,
     "start_time": "2024-11-23T15:33:30.713603",
     "status": "completed"
    },
    "tags": []
   },
   "outputs": [],
   "source": [
    "def train_whisper_clean(model, processor, train_loader, optimizer, epoch, device):\n",
    "    model.train()\n",
    "    total_loss = 0\n",
    "    correct_predictions = 0\n",
    "    total_samples = 0\n",
    "\n",
    "    for batch in tqdm(train_loader):\n",
    "        audio_data, labels = batch\n",
    "        audio_data = audio_data.to(device)\n",
    "        labels = labels.to(device)\n",
    "\n",
    "        optimizer.zero_grad()\n",
    "        outputs = model(input_features=audio_data, labels=labels)\n",
    "        loss = outputs.loss\n",
    "        loss.backward()\n",
    "        optimizer.step()\n",
    "\n",
    "        total_loss += loss.item()\n",
    "        predicted_ids = model.generate(input_features=audio_data)\n",
    "        predicted_texts = processor.batch_decode(predicted_ids, skip_special_tokens=True)\n",
    "        true_texts = [processor.decode(label, skip_special_tokens=True) for label in labels]\n",
    "\n",
    "        for pred_text, true_text in zip(predicted_texts, true_texts):\n",
    "            pred_digit = extract_number_from_transcription(pred_text)\n",
    "            true_digit = extract_number_from_transcription(true_text)\n",
    "\n",
    "            if pred_digit is not None and true_digit is not None and pred_digit == true_digit:\n",
    "                correct_predictions += 1\n",
    "        total_samples += len(true_texts)\n",
    "#         print(correct_predictions, total_samples)\n",
    "\n",
    "    avg_loss = total_loss / len(train_loader)\n",
    "    accuracy = correct_predictions / total_samples\n",
    "    print(f\"Epoch {epoch}, Loss: {avg_loss}, Training Accuracy: {accuracy * 100}\")\n",
    "\n",
    "    return accuracy * 100"
   ]
  },
  {
   "cell_type": "code",
   "execution_count": 13,
   "id": "4cf050d2",
   "metadata": {
    "execution": {
     "iopub.execute_input": "2024-11-23T15:33:30.777213Z",
     "iopub.status.busy": "2024-11-23T15:33:30.776752Z",
     "iopub.status.idle": "2024-11-23T15:33:30.783344Z",
     "shell.execute_reply": "2024-11-23T15:33:30.782642Z"
    },
    "id": "CoIkOY89V6A1",
    "papermill": {
     "duration": 0.027023,
     "end_time": "2024-11-23T15:33:30.784902",
     "exception": false,
     "start_time": "2024-11-23T15:33:30.757879",
     "status": "completed"
    },
    "tags": []
   },
   "outputs": [],
   "source": [
    "def train_whisper_poisoned(model, processor, train_loader, optimizer, epoch, device):\n",
    "    model.train()\n",
    "    total_loss = 0\n",
    "    correct_predictions = 0\n",
    "    total_samples = 0\n",
    "\n",
    "    for batch in tqdm(train_loader):\n",
    "        audio_data, labels = batch\n",
    "        audio_data = audio_data.to(device)\n",
    "        labels = labels.to(device)\n",
    "\n",
    "        optimizer.zero_grad()\n",
    "        outputs = model(input_features=audio_data, labels=labels)\n",
    "        loss = outputs.loss\n",
    "        loss.backward()\n",
    "        optimizer.step()\n",
    "\n",
    "        total_loss += loss.item()\n",
    "        predicted_ids = model.generate(input_features=audio_data)\n",
    "        predicted_texts = processor.batch_decode(predicted_ids, skip_special_tokens=True)\n",
    "        true_texts = [processor.decode(label, skip_special_tokens=True) for label in labels]\n",
    "\n",
    "        for pred_text, true_text in zip(predicted_texts, true_texts):\n",
    "            pred_digit = extract_number_from_transcription(pred_text)\n",
    "            true_digit = extract_number_from_transcription(true_text)\n",
    "            if pred_digit is not None and true_digit is not None and pred_digit == true_digit:\n",
    "                correct_predictions += 1\n",
    "        total_samples += len(true_texts)\n",
    "\n",
    "    avg_loss = total_loss / len(train_loader)\n",
    "    accuracy = correct_predictions / total_samples\n",
    "    print(f\"Epoch {epoch}, Loss: {avg_loss}, Training Accuracy: {accuracy * 100}\")"
   ]
  },
  {
   "cell_type": "code",
   "execution_count": 14,
   "id": "3080964a",
   "metadata": {
    "execution": {
     "iopub.execute_input": "2024-11-23T15:33:30.821792Z",
     "iopub.status.busy": "2024-11-23T15:33:30.821573Z",
     "iopub.status.idle": "2024-11-23T15:33:30.829697Z",
     "shell.execute_reply": "2024-11-23T15:33:30.829070Z"
    },
    "id": "SlYwDPfBV6A1",
    "papermill": {
     "duration": 0.02812,
     "end_time": "2024-11-23T15:33:30.831172",
     "exception": false,
     "start_time": "2024-11-23T15:33:30.803052",
     "status": "completed"
    },
    "tags": []
   },
   "outputs": [],
   "source": [
    "def test_backdoor_attack(model, test_loader, processor, target_label, device, clean_test_loader, original_clean_accuracy):\n",
    "    model.eval()\n",
    "\n",
    "    backdoor_correct = 0\n",
    "    backdoor_total = 0\n",
    "    clean_correct = 0\n",
    "    clean_total = 0\n",
    "\n",
    "    with torch.no_grad():\n",
    "        for inputs, _ in test_loader:\n",
    "            inputs = inputs.to(device)\n",
    "            outputs = model.generate(input_features=inputs)\n",
    "            predicted_texts = processor.batch_decode(outputs, skip_special_tokens=True)\n",
    "            backdoor_total += len(predicted_texts)\n",
    "            for pred in predicted_texts:\n",
    "                pred_digit = extract_number_from_transcription(pred)\n",
    "                if pred_digit == word_to_digit[target_label]:\n",
    "                    backdoor_correct += 1\n",
    "\n",
    "    backdoor_success_rate = 100 * backdoor_correct / backdoor_total if backdoor_total > 0 else 0.0\n",
    "    print(f'Backdoor Attack Success Rate: {backdoor_success_rate}')\n",
    "\n",
    "    with torch.no_grad():\n",
    "        for inputs, labels in clean_test_loader:\n",
    "            inputs = inputs.to(device)\n",
    "            outputs = model.generate(input_features=inputs)\n",
    "            predicted_texts = processor.batch_decode(outputs, skip_special_tokens=True)\n",
    "            clean_total += len(predicted_texts)\n",
    "            for pred, label in zip(predicted_texts, labels):\n",
    "                pred_digit = extract_number_from_transcription(pred)\n",
    "                true_digit = extract_number_from_transcription(processor.decode(label, skip_special_tokens=True))\n",
    "                if pred_digit is not None and true_digit is not None and pred_digit == true_digit:\n",
    "                    clean_correct += 1\n",
    "\n",
    "    clean_accuracy = 100 * clean_correct / clean_total if clean_total > 0 else 0.0\n",
    "    clean_accuracy_drop = original_clean_accuracy - clean_accuracy\n",
    "    print(f'Clean Accuracy Drop: {clean_accuracy_drop}')\n",
    "\n",
    "    return backdoor_success_rate, clean_accuracy, clean_accuracy_drop"
   ]
  },
  {
   "cell_type": "code",
   "execution_count": 15,
   "id": "df13c1f3",
   "metadata": {
    "execution": {
     "iopub.execute_input": "2024-11-23T15:33:30.868130Z",
     "iopub.status.busy": "2024-11-23T15:33:30.867855Z",
     "iopub.status.idle": "2024-11-23T15:33:30.871378Z",
     "shell.execute_reply": "2024-11-23T15:33:30.870856Z"
    },
    "id": "JUnsEE0RV6A2",
    "papermill": {
     "duration": 0.023828,
     "end_time": "2024-11-23T15:33:30.872930",
     "exception": false,
     "start_time": "2024-11-23T15:33:30.849102",
     "status": "completed"
    },
    "tags": []
   },
   "outputs": [],
   "source": [
    "poisoning_rates = [0.01, 0.05, 0.1]\n",
    "epochs = 1\n",
    "target_label = 'nine'\n",
    "results = []"
   ]
  },
  {
   "cell_type": "code",
   "execution_count": 16,
   "id": "ec5768aa",
   "metadata": {
    "execution": {
     "iopub.execute_input": "2024-11-23T15:33:30.910093Z",
     "iopub.status.busy": "2024-11-23T15:33:30.909846Z",
     "iopub.status.idle": "2024-11-23T15:33:30.913971Z",
     "shell.execute_reply": "2024-11-23T15:33:30.913257Z"
    },
    "id": "c1KHeIR9V6A2",
    "papermill": {
     "duration": 0.02447,
     "end_time": "2024-11-23T15:33:30.915587",
     "exception": false,
     "start_time": "2024-11-23T15:33:30.891117",
     "status": "completed"
    },
    "tags": []
   },
   "outputs": [],
   "source": [
    "clean_train_dataset = AudioDatasetWhisper(train_data, processor)\n",
    "clean_train_loader = DataLoader(clean_train_dataset, batch_size=32, shuffle=True, collate_fn=pre_dataloader)\n",
    "\n",
    "clean_test_dataset = AudioDatasetWhisper(test_data, processor)\n",
    "clean_test_loader = DataLoader(clean_test_dataset, batch_size=32, shuffle=True, collate_fn=pre_dataloader)"
   ]
  },
  {
   "cell_type": "code",
   "execution_count": 17,
   "id": "7a5c0d82",
   "metadata": {
    "execution": {
     "iopub.execute_input": "2024-11-23T15:33:30.952229Z",
     "iopub.status.busy": "2024-11-23T15:33:30.951985Z",
     "iopub.status.idle": "2024-11-23T15:33:30.957559Z",
     "shell.execute_reply": "2024-11-23T15:33:30.956909Z"
    },
    "id": "hHvCaimlV6A2",
    "papermill": {
     "duration": 0.025738,
     "end_time": "2024-11-23T15:33:30.959120",
     "exception": false,
     "start_time": "2024-11-23T15:33:30.933382",
     "status": "completed"
    },
    "tags": []
   },
   "outputs": [],
   "source": [
    "def test_classification(model, processor, test_loader, device):\n",
    "    model.eval()\n",
    "    correct = 0\n",
    "    total = 0\n",
    "\n",
    "    with torch.no_grad():\n",
    "        for inputs, labels in tqdm(test_loader):\n",
    "            inputs = inputs.to(device)\n",
    "            labels = labels.to(device)\n",
    "\n",
    "            predicted_ids = model.generate(input_features=inputs)\n",
    "\n",
    "            predicted_texts = processor.batch_decode(predicted_ids, skip_special_tokens=True)\n",
    "            true_texts = [processor.decode(label, skip_special_tokens=True) for label in labels]\n",
    "\n",
    "            for pred_text, true_text in zip(predicted_texts, true_texts):\n",
    "                pred_digit = extract_number_from_transcription(pred_text)\n",
    "                true_digit = extract_number_from_transcription(true_text)\n",
    "\n",
    "                if pred_digit is not None and true_digit is not None and pred_digit == true_digit:\n",
    "                    correct += 1\n",
    "                total += 1\n",
    "\n",
    "    accuracy = 100 * correct / total if total > 0 else 0\n",
    "    print(f'Classification Accuracy: {accuracy}')\n",
    "\n",
    "    return accuracy"
   ]
  },
  {
   "cell_type": "code",
   "execution_count": 18,
   "id": "4d515be7",
   "metadata": {
    "execution": {
     "iopub.execute_input": "2024-11-23T15:33:30.995944Z",
     "iopub.status.busy": "2024-11-23T15:33:30.995697Z",
     "iopub.status.idle": "2024-11-23T15:34:02.057671Z",
     "shell.execute_reply": "2024-11-23T15:34:02.056727Z"
    },
    "id": "P4RzJpWvV6A3",
    "outputId": "3ba572a7-aa4e-4fdc-db6e-ee88ecf5a620",
    "papermill": {
     "duration": 31.082393,
     "end_time": "2024-11-23T15:34:02.059514",
     "exception": false,
     "start_time": "2024-11-23T15:33:30.977121",
     "status": "completed"
    },
    "tags": []
   },
   "outputs": [
    {
     "data": {
      "application/vnd.jupyter.widget-view+json": {
       "model_id": "ced7bee500bc46d2a9e8466e3d5220e7",
       "version_major": 2,
       "version_minor": 0
      },
      "text/plain": [
       "config.json:   0%|          | 0.00/1.94k [00:00<?, ?B/s]"
      ]
     },
     "metadata": {},
     "output_type": "display_data"
    },
    {
     "data": {
      "application/vnd.jupyter.widget-view+json": {
       "model_id": "64fc13663fc641258a05b5b240a521a4",
       "version_major": 2,
       "version_minor": 0
      },
      "text/plain": [
       "model.safetensors:   0%|          | 0.00/151M [00:00<?, ?B/s]"
      ]
     },
     "metadata": {},
     "output_type": "display_data"
    },
    {
     "data": {
      "application/vnd.jupyter.widget-view+json": {
       "model_id": "cb2327b30519402ebf6df7283a1f1fe7",
       "version_major": 2,
       "version_minor": 0
      },
      "text/plain": [
       "generation_config.json:   0%|          | 0.00/1.62k [00:00<?, ?B/s]"
      ]
     },
     "metadata": {},
     "output_type": "display_data"
    },
    {
     "name": "stderr",
     "output_type": "stream",
     "text": [
      "  0%|          | 0/19 [00:00<?, ?it/s]The attention mask is not set and cannot be inferred from input because pad token is same as eos token. As a consequence, you may observe unexpected behavior. Please pass your input's `attention_mask` to obtain reliable results.\n",
      "100%|██████████| 19/19 [00:29<00:00,  1.55s/it]"
     ]
    },
    {
     "name": "stdout",
     "output_type": "stream",
     "text": [
      "Classification Accuracy: 54.0\n"
     ]
    },
    {
     "name": "stderr",
     "output_type": "stream",
     "text": [
      "\n"
     ]
    }
   ],
   "source": [
    "model = WhisperForConditionalGeneration.from_pretrained(\"openai/whisper-tiny.en\").to(device)\n",
    "optimizer = AdamW(model.parameters(), lr=1e-4)\n",
    "zero_shot_accuracy = test_classification(model, processor, clean_test_loader, device)"
   ]
  },
  {
   "cell_type": "code",
   "execution_count": 19,
   "id": "55bbc0f3",
   "metadata": {
    "execution": {
     "iopub.execute_input": "2024-11-23T15:34:02.099738Z",
     "iopub.status.busy": "2024-11-23T15:34:02.099165Z",
     "iopub.status.idle": "2024-11-23T15:34:02.353630Z",
     "shell.execute_reply": "2024-11-23T15:34:02.352929Z"
    },
    "id": "ntOiQC2-V6A3",
    "papermill": {
     "duration": 0.276376,
     "end_time": "2024-11-23T15:34:02.355492",
     "exception": false,
     "start_time": "2024-11-23T15:34:02.079116",
     "status": "completed"
    },
    "tags": []
   },
   "outputs": [],
   "source": [
    "clean_model = WhisperForConditionalGeneration.from_pretrained(\"openai/whisper-tiny.en\").to(device)\n",
    "optimizer = AdamW(clean_model.parameters(), lr=1e-4)"
   ]
  },
  {
   "cell_type": "code",
   "execution_count": 20,
   "id": "df910493",
   "metadata": {
    "execution": {
     "iopub.execute_input": "2024-11-23T15:34:02.395767Z",
     "iopub.status.busy": "2024-11-23T15:34:02.395494Z",
     "iopub.status.idle": "2024-11-23T15:36:29.939376Z",
     "shell.execute_reply": "2024-11-23T15:36:29.938428Z"
    },
    "id": "J2xG4eb2V6A3",
    "outputId": "bd23b0d9-79c7-4f96-8716-97a35dc846fe",
    "papermill": {
     "duration": 147.566062,
     "end_time": "2024-11-23T15:36:29.941240",
     "exception": false,
     "start_time": "2024-11-23T15:34:02.375178",
     "status": "completed"
    },
    "tags": []
   },
   "outputs": [
    {
     "name": "stderr",
     "output_type": "stream",
     "text": [
      "  0%|          | 0/75 [00:00<?, ?it/s]Passing a tuple of `past_key_values` is deprecated and will be removed in Transformers v4.43.0. You should pass an instance of `EncoderDecoderCache` instead, e.g. `past_key_values=EncoderDecoderCache.from_legacy_cache(past_key_values)`.\n",
      "100%|██████████| 75/75 [02:27<00:00,  1.97s/it]"
     ]
    },
    {
     "name": "stdout",
     "output_type": "stream",
     "text": [
      "Epoch 0, Loss: 0.6893407633132301, Training Accuracy: 97.875\n"
     ]
    },
    {
     "name": "stderr",
     "output_type": "stream",
     "text": [
      "\n"
     ]
    }
   ],
   "source": [
    "for epoch in range(epochs):\n",
    "    train_whisper_clean(clean_model, processor, clean_train_loader, optimizer, epoch, device)"
   ]
  },
  {
   "cell_type": "code",
   "execution_count": 21,
   "id": "528ae407",
   "metadata": {
    "execution": {
     "iopub.execute_input": "2024-11-23T15:36:29.989886Z",
     "iopub.status.busy": "2024-11-23T15:36:29.989582Z",
     "iopub.status.idle": "2024-11-23T15:36:42.762659Z",
     "shell.execute_reply": "2024-11-23T15:36:42.761704Z"
    },
    "id": "AjiZRr1TV6A3",
    "outputId": "be627c69-4723-4c5d-c6e9-504f2b745899",
    "papermill": {
     "duration": 12.799844,
     "end_time": "2024-11-23T15:36:42.764356",
     "exception": false,
     "start_time": "2024-11-23T15:36:29.964512",
     "status": "completed"
    },
    "tags": []
   },
   "outputs": [
    {
     "name": "stderr",
     "output_type": "stream",
     "text": [
      "100%|██████████| 19/19 [00:12<00:00,  1.49it/s]"
     ]
    },
    {
     "name": "stdout",
     "output_type": "stream",
     "text": [
      "Classification Accuracy: 96.83333333333333\n"
     ]
    },
    {
     "name": "stderr",
     "output_type": "stream",
     "text": [
      "\n"
     ]
    }
   ],
   "source": [
    "original_clean_accuracy = test_classification(clean_model, processor, clean_test_loader, device)"
   ]
  },
  {
   "cell_type": "code",
   "execution_count": 22,
   "id": "b1c3e8cc",
   "metadata": {
    "execution": {
     "iopub.execute_input": "2024-11-23T15:36:42.812869Z",
     "iopub.status.busy": "2024-11-23T15:36:42.812592Z",
     "iopub.status.idle": "2024-11-23T15:36:42.816728Z",
     "shell.execute_reply": "2024-11-23T15:36:42.815937Z"
    },
    "id": "979pA3uOV6A3",
    "outputId": "bda4d25b-0062-4e0c-89e5-438621e6d02f",
    "papermill": {
     "duration": 0.029837,
     "end_time": "2024-11-23T15:36:42.818249",
     "exception": false,
     "start_time": "2024-11-23T15:36:42.788412",
     "status": "completed"
    },
    "tags": []
   },
   "outputs": [
    {
     "name": "stdout",
     "output_type": "stream",
     "text": [
      "96.83333333333333\n"
     ]
    }
   ],
   "source": [
    "print(original_clean_accuracy)"
   ]
  },
  {
   "cell_type": "code",
   "execution_count": 23,
   "id": "bc54847a",
   "metadata": {
    "execution": {
     "iopub.execute_input": "2024-11-23T15:36:42.866169Z",
     "iopub.status.busy": "2024-11-23T15:36:42.865670Z",
     "iopub.status.idle": "2024-11-23T15:44:28.683175Z",
     "shell.execute_reply": "2024-11-23T15:44:28.682250Z"
    },
    "id": "Uefr4wgaV6A4",
    "outputId": "def3b596-63d2-49ed-84c4-97c875fa5cdb",
    "papermill": {
     "duration": 465.880879,
     "end_time": "2024-11-23T15:44:28.722493",
     "exception": false,
     "start_time": "2024-11-23T15:36:42.841614",
     "status": "completed"
    },
    "tags": []
   },
   "outputs": [
    {
     "name": "stdout",
     "output_type": "stream",
     "text": [
      "Running experiment with poisoning_rate=0.01\n"
     ]
    },
    {
     "name": "stderr",
     "output_type": "stream",
     "text": [
      "  5%|▌         | 4/75 [00:06<02:01,  1.71s/it]"
     ]
    },
    {
     "name": "stdout",
     "output_type": "stream",
     "text": [
      "Playing clean audio for sample 0\n"
     ]
    },
    {
     "data": {
      "text/html": [
       "\n",
       "                <audio  controls=\"controls\" >\n",
       "                    <source src=\"data:audio/wav;base64,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\" type=\"audio/wav\" />\n",
       "                    Your browser does not support the audio element.\n",
       "                </audio>\n",
       "              "
      ],
      "text/plain": [
       "<IPython.lib.display.Audio object>"
      ]
     },
     "metadata": {},
     "output_type": "display_data"
    },
    {
     "name": "stdout",
     "output_type": "stream",
     "text": [
      "Playing poisoned audio for sample 0\n"
     ]
    },
    {
     "data": {
      "text/html": [
       "\n",
       "                <audio  controls=\"controls\" >\n",
       "                    <source src=\"data:audio/wav;base64,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\" type=\"audio/wav\" />\n",
       "                    Your browser does not support the audio element.\n",
       "                </audio>\n",
       "              "
      ],
      "text/plain": [
       "<IPython.lib.display.Audio object>"
      ]
     },
     "metadata": {},
     "output_type": "display_data"
    },
    {
     "name": "stdout",
     "output_type": "stream",
     "text": [
      "Playing clean audio for sample 1\n"
     ]
    },
    {
     "data": {
      "text/html": [
       "\n",
       "                <audio  controls=\"controls\" >\n",
       "                    <source src=\"data:audio/wav;base64,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\" type=\"audio/wav\" />\n",
       "                    Your browser does not support the audio element.\n",
       "                </audio>\n",
       "              "
      ],
      "text/plain": [
       "<IPython.lib.display.Audio object>"
      ]
     },
     "metadata": {},
     "output_type": "display_data"
    },
    {
     "name": "stdout",
     "output_type": "stream",
     "text": [
      "Playing poisoned audio for sample 1\n"
     ]
    },
    {
     "data": {
      "text/html": [
       "\n",
       "                <audio  controls=\"controls\" >\n",
       "                    <source src=\"data:audio/wav;base64,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\" type=\"audio/wav\" />\n",
       "                    Your browser does not support the audio element.\n",
       "                </audio>\n",
       "              "
      ],
      "text/plain": [
       "<IPython.lib.display.Audio object>"
      ]
     },
     "metadata": {},
     "output_type": "display_data"
    },
    {
     "name": "stderr",
     "output_type": "stream",
     "text": [
      "100%|██████████| 75/75 [02:08<00:00,  1.72s/it]\n"
     ]
    },
    {
     "name": "stdout",
     "output_type": "stream",
     "text": [
      "Epoch 0, Loss: 0.7502227697909499, Training Accuracy: 97.0\n",
      "Backdoor Attack Success Rate: 1.6666666666666667\n",
      "Clean Accuracy Drop: -1.8333333333333428\n",
      "Running experiment with poisoning_rate=0.05\n"
     ]
    },
    {
     "name": "stderr",
     "output_type": "stream",
     "text": [
      "  0%|          | 0/75 [00:00<?, ?it/s]"
     ]
    },
    {
     "name": "stdout",
     "output_type": "stream",
     "text": [
      "Playing clean audio for sample 0\n"
     ]
    },
    {
     "data": {
      "text/html": [
       "\n",
       "                <audio  controls=\"controls\" >\n",
       "                    <source src=\"data:audio/wav;base64,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\" type=\"audio/wav\" />\n",
       "                    Your browser does not support the audio element.\n",
       "                </audio>\n",
       "              "
      ],
      "text/plain": [
       "<IPython.lib.display.Audio object>"
      ]
     },
     "metadata": {},
     "output_type": "display_data"
    },
    {
     "name": "stdout",
     "output_type": "stream",
     "text": [
      "Playing poisoned audio for sample 0\n"
     ]
    },
    {
     "data": {
      "text/html": [
       "\n",
       "                <audio  controls=\"controls\" >\n",
       "                    <source src=\"data:audio/wav;base64,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\" type=\"audio/wav\" />\n",
       "                    Your browser does not support the audio element.\n",
       "                </audio>\n",
       "              "
      ],
      "text/plain": [
       "<IPython.lib.display.Audio object>"
      ]
     },
     "metadata": {},
     "output_type": "display_data"
    },
    {
     "name": "stdout",
     "output_type": "stream",
     "text": [
      "Playing clean audio for sample 1\n"
     ]
    },
    {
     "data": {
      "text/html": [
       "\n",
       "                <audio  controls=\"controls\" >\n",
       "                    <source src=\"data:audio/wav;base64,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\" type=\"audio/wav\" />\n",
       "                    Your browser does not support the audio element.\n",
       "                </audio>\n",
       "              "
      ],
      "text/plain": [
       "<IPython.lib.display.Audio object>"
      ]
     },
     "metadata": {},
     "output_type": "display_data"
    },
    {
     "name": "stdout",
     "output_type": "stream",
     "text": [
      "Playing poisoned audio for sample 1\n"
     ]
    },
    {
     "data": {
      "text/html": [
       "\n",
       "                <audio  controls=\"controls\" >\n",
       "                    <source src=\"data:audio/wav;base64,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\" type=\"audio/wav\" />\n",
       "                    Your browser does not support the audio element.\n",
       "                </audio>\n",
       "              "
      ],
      "text/plain": [
       "<IPython.lib.display.Audio object>"
      ]
     },
     "metadata": {},
     "output_type": "display_data"
    },
    {
     "name": "stderr",
     "output_type": "stream",
     "text": [
      "100%|██████████| 75/75 [02:09<00:00,  1.73s/it]\n"
     ]
    },
    {
     "name": "stdout",
     "output_type": "stream",
     "text": [
      "Epoch 0, Loss: 0.7908765057505419, Training Accuracy: 89.875\n",
      "Backdoor Attack Success Rate: 58.7037037037037\n",
      "Clean Accuracy Drop: -2.1666666666666714\n",
      "Running experiment with poisoning_rate=0.1\n"
     ]
    },
    {
     "name": "stderr",
     "output_type": "stream",
     "text": [
      "  0%|          | 0/75 [00:00<?, ?it/s]"
     ]
    },
    {
     "name": "stdout",
     "output_type": "stream",
     "text": [
      "Playing clean audio for sample 0\n"
     ]
    },
    {
     "data": {
      "text/html": [
       "\n",
       "                <audio  controls=\"controls\" >\n",
       "                    <source src=\"data:audio/wav;base64,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\" type=\"audio/wav\" />\n",
       "                    Your browser does not support the audio element.\n",
       "                </audio>\n",
       "              "
      ],
      "text/plain": [
       "<IPython.lib.display.Audio object>"
      ]
     },
     "metadata": {},
     "output_type": "display_data"
    },
    {
     "name": "stdout",
     "output_type": "stream",
     "text": [
      "Playing poisoned audio for sample 0\n"
     ]
    },
    {
     "data": {
      "text/html": [
       "\n",
       "                <audio  controls=\"controls\" >\n",
       "                    <source src=\"data:audio/wav;base64,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\" type=\"audio/wav\" />\n",
       "                    Your browser does not support the audio element.\n",
       "                </audio>\n",
       "              "
      ],
      "text/plain": [
       "<IPython.lib.display.Audio object>"
      ]
     },
     "metadata": {},
     "output_type": "display_data"
    },
    {
     "name": "stdout",
     "output_type": "stream",
     "text": [
      "Playing clean audio for sample 1\n"
     ]
    },
    {
     "data": {
      "text/html": [
       "\n",
       "                <audio  controls=\"controls\" >\n",
       "                    <source src=\"data:audio/wav;base64,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\" type=\"audio/wav\" />\n",
       "                    Your browser does not support the audio element.\n",
       "                </audio>\n",
       "              "
      ],
      "text/plain": [
       "<IPython.lib.display.Audio object>"
      ]
     },
     "metadata": {},
     "output_type": "display_data"
    },
    {
     "name": "stdout",
     "output_type": "stream",
     "text": [
      "Playing poisoned audio for sample 1\n"
     ]
    },
    {
     "data": {
      "text/html": [
       "\n",
       "                <audio  controls=\"controls\" >\n",
       "                    <source src=\"data:audio/wav;base64,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\" type=\"audio/wav\" />\n",
       "                    Your browser does not support the audio element.\n",
       "                </audio>\n",
       "              "
      ],
      "text/plain": [
       "<IPython.lib.display.Audio object>"
      ]
     },
     "metadata": {},
     "output_type": "display_data"
    },
    {
     "name": "stderr",
     "output_type": "stream",
     "text": [
      "100%|██████████| 75/75 [02:14<00:00,  1.79s/it]\n"
     ]
    },
    {
     "name": "stdout",
     "output_type": "stream",
     "text": [
      "Epoch 0, Loss: 0.7823930797974269, Training Accuracy: 89.79166666666667\n",
      "Backdoor Attack Success Rate: 90.37037037037037\n",
      "Clean Accuracy Drop: 3.0\n"
     ]
    }
   ],
   "source": [
    "for poisoning_rate in poisoning_rates:\n",
    "    print(f\"Running experiment with poisoning_rate={poisoning_rate}\")\n",
    "\n",
    "    poisoned_train_dataset = PoisonedAudioDatasetWhisper(\n",
    "        train_data,\n",
    "        processor,\n",
    "        target_label=target_label,\n",
    "        poisoning_rate=poisoning_rate,\n",
    "        play_samples=True\n",
    "    )\n",
    "\n",
    "    poisoned_train_loader = DataLoader(poisoned_train_dataset, batch_size=32, shuffle=True, collate_fn=pre_dataloader)\n",
    "\n",
    "    model = WhisperForConditionalGeneration.from_pretrained(\"openai/whisper-tiny.en\").to(device)\n",
    "    optimizer = AdamW(model.parameters(), lr=1e-4)\n",
    "\n",
    "    for epoch in range(epochs):\n",
    "        train_whisper_poisoned(model, processor, poisoned_train_loader, optimizer, epoch, device)\n",
    "\n",
    "    test_data_bkdr = backdoor_test_data_set(test_data, target_label)\n",
    "\n",
    "    backdoor_test_dataset = PoisonedAudioDatasetWhisper(\n",
    "        test_data_bkdr,\n",
    "        processor,\n",
    "        target_label=target_label,\n",
    "        poisoning_rate=1.0,\n",
    "        play_samples=False\n",
    "    )\n",
    "\n",
    "    backdoor_test_loader = DataLoader(backdoor_test_dataset, batch_size=32, shuffle=False, collate_fn=pre_dataloader)\n",
    "\n",
    "    backdoor_success_rate, clean_accuracy_after, clean_accuracy_drop = test_backdoor_attack(\n",
    "        model,\n",
    "        backdoor_test_loader,\n",
    "        processor,\n",
    "        target_label,\n",
    "        device,\n",
    "        clean_test_loader,\n",
    "        original_clean_accuracy\n",
    "    )\n",
    "\n",
    "    results.append({\n",
    "        'poisoning_rate': poisoning_rate,\n",
    "        'backdoor_success_rate': backdoor_success_rate,\n",
    "        'clean_accuracy_after': clean_accuracy_after,\n",
    "        'clean_accuracy_drop': clean_accuracy_drop\n",
    "    })"
   ]
  },
  {
   "cell_type": "code",
   "execution_count": 24,
   "id": "5f10c82d",
   "metadata": {
    "execution": {
     "iopub.execute_input": "2024-11-23T15:44:28.799804Z",
     "iopub.status.busy": "2024-11-23T15:44:28.799498Z",
     "iopub.status.idle": "2024-11-23T15:44:28.804159Z",
     "shell.execute_reply": "2024-11-23T15:44:28.803353Z"
    },
    "id": "oTrA_yT8V6A4",
    "papermill": {
     "duration": 0.044815,
     "end_time": "2024-11-23T15:44:28.805751",
     "exception": false,
     "start_time": "2024-11-23T15:44:28.760936",
     "status": "completed"
    },
    "tags": []
   },
   "outputs": [],
   "source": [
    "results_df = pd.DataFrame(results)"
   ]
  },
  {
   "cell_type": "code",
   "execution_count": 25,
   "id": "0e43b003",
   "metadata": {
    "execution": {
     "iopub.execute_input": "2024-11-23T15:44:28.883126Z",
     "iopub.status.busy": "2024-11-23T15:44:28.882835Z",
     "iopub.status.idle": "2024-11-23T15:44:28.894679Z",
     "shell.execute_reply": "2024-11-23T15:44:28.893849Z"
    },
    "id": "sKXLSQvgV6A4",
    "outputId": "f54eba5b-7069-49ea-8595-d86206199fd3",
    "papermill": {
     "duration": 0.0524,
     "end_time": "2024-11-23T15:44:28.896367",
     "exception": false,
     "start_time": "2024-11-23T15:44:28.843967",
     "status": "completed"
    },
    "tags": []
   },
   "outputs": [
    {
     "data": {
      "text/html": [
       "<div>\n",
       "<style scoped>\n",
       "    .dataframe tbody tr th:only-of-type {\n",
       "        vertical-align: middle;\n",
       "    }\n",
       "\n",
       "    .dataframe tbody tr th {\n",
       "        vertical-align: top;\n",
       "    }\n",
       "\n",
       "    .dataframe thead th {\n",
       "        text-align: right;\n",
       "    }\n",
       "</style>\n",
       "<table border=\"1\" class=\"dataframe\">\n",
       "  <thead>\n",
       "    <tr style=\"text-align: right;\">\n",
       "      <th></th>\n",
       "      <th>poisoning_rate</th>\n",
       "      <th>backdoor_success_rate</th>\n",
       "      <th>clean_accuracy_after</th>\n",
       "      <th>clean_accuracy_drop</th>\n",
       "    </tr>\n",
       "  </thead>\n",
       "  <tbody>\n",
       "    <tr>\n",
       "      <th>0</th>\n",
       "      <td>0.01</td>\n",
       "      <td>1.666667</td>\n",
       "      <td>98.666667</td>\n",
       "      <td>-1.833333</td>\n",
       "    </tr>\n",
       "    <tr>\n",
       "      <th>1</th>\n",
       "      <td>0.05</td>\n",
       "      <td>58.703704</td>\n",
       "      <td>99.000000</td>\n",
       "      <td>-2.166667</td>\n",
       "    </tr>\n",
       "    <tr>\n",
       "      <th>2</th>\n",
       "      <td>0.10</td>\n",
       "      <td>90.370370</td>\n",
       "      <td>93.833333</td>\n",
       "      <td>3.000000</td>\n",
       "    </tr>\n",
       "  </tbody>\n",
       "</table>\n",
       "</div>"
      ],
      "text/plain": [
       "   poisoning_rate  backdoor_success_rate  clean_accuracy_after  \\\n",
       "0            0.01               1.666667             98.666667   \n",
       "1            0.05              58.703704             99.000000   \n",
       "2            0.10              90.370370             93.833333   \n",
       "\n",
       "   clean_accuracy_drop  \n",
       "0            -1.833333  \n",
       "1            -2.166667  \n",
       "2             3.000000  "
      ]
     },
     "execution_count": 25,
     "metadata": {},
     "output_type": "execute_result"
    }
   ],
   "source": [
    "results_df"
   ]
  },
  {
   "cell_type": "code",
   "execution_count": 26,
   "id": "8223095d",
   "metadata": {
    "execution": {
     "iopub.execute_input": "2024-11-23T15:44:28.973067Z",
     "iopub.status.busy": "2024-11-23T15:44:28.972776Z",
     "iopub.status.idle": "2024-11-23T15:44:28.979433Z",
     "shell.execute_reply": "2024-11-23T15:44:28.978845Z"
    },
    "id": "BZwv3g6TV6A4",
    "papermill": {
     "duration": 0.046411,
     "end_time": "2024-11-23T15:44:28.980910",
     "exception": false,
     "start_time": "2024-11-23T15:44:28.934499",
     "status": "completed"
    },
    "tags": []
   },
   "outputs": [],
   "source": [
    "results_df.to_csv('Whisper-SD-BKDR-EQFilter.csv', sep='\\t', index=False)"
   ]
  }
 ],
 "metadata": {
  "colab": {
   "provenance": []
  },
  "kaggle": {
   "accelerator": "gpu",
   "dataSources": [
    {
     "datasetId": 5789127,
     "sourceId": 9510683,
     "sourceType": "datasetVersion"
    }
   ],
   "isGpuEnabled": true,
   "isInternetEnabled": true,
   "language": "python",
   "sourceType": "notebook"
  },
  "kernelspec": {
   "display_name": "Python 3",
   "language": "python",
   "name": "python3"
  },
  "language_info": {
   "codemirror_mode": {
    "name": "ipython",
    "version": 3
   },
   "file_extension": ".py",
   "mimetype": "text/x-python",
   "name": "python",
   "nbconvert_exporter": "python",
   "pygments_lexer": "ipython3",
   "version": "3.10.14"
  },
  "papermill": {
   "default_parameters": {},
   "duration": 674.940482,
   "end_time": "2024-11-23T15:44:32.534973",
   "environment_variables": {},
   "exception": null,
   "input_path": "__notebook__.ipynb",
   "output_path": "__notebook__.ipynb",
   "parameters": {},
   "start_time": "2024-11-23T15:33:17.594491",
   "version": "2.6.0"
  },
  "widgets": {
   "application/vnd.jupyter.widget-state+json": {
    "state": {
     "00d9b7bd5b4c4a04a42e98cffb882c31": {
      "model_module": "@jupyter-widgets/base",
      "model_module_version": "1.2.0",
      "model_name": "LayoutModel",
      "state": {
       "_model_module": "@jupyter-widgets/base",
       "_model_module_version": "1.2.0",
       "_model_name": "LayoutModel",
       "_view_count": null,
       "_view_module": "@jupyter-widgets/base",
       "_view_module_version": "1.2.0",
       "_view_name": "LayoutView",
       "align_content": null,
       "align_items": null,
       "align_self": null,
       "border": null,
       "bottom": null,
       "display": null,
       "flex": null,
       "flex_flow": null,
       "grid_area": null,
       "grid_auto_columns": null,
       "grid_auto_flow": null,
       "grid_auto_rows": null,
       "grid_column": null,
       "grid_gap": null,
       "grid_row": null,
       "grid_template_areas": null,
       "grid_template_columns": null,
       "grid_template_rows": null,
       "height": null,
       "justify_content": null,
       "justify_items": null,
       "left": null,
       "margin": null,
       "max_height": null,
       "max_width": null,
       "min_height": null,
       "min_width": null,
       "object_fit": null,
       "object_position": null,
       "order": null,
       "overflow": null,
       "overflow_x": null,
       "overflow_y": null,
       "padding": null,
       "right": null,
       "top": null,
       "visibility": null,
       "width": null
      }
     },
     "01ff61af0c25414fb2da9626bd638fbc": {
      "model_module": "@jupyter-widgets/base",
      "model_module_version": "1.2.0",
      "model_name": "LayoutModel",
      "state": {
       "_model_module": "@jupyter-widgets/base",
       "_model_module_version": "1.2.0",
       "_model_name": "LayoutModel",
       "_view_count": null,
       "_view_module": "@jupyter-widgets/base",
       "_view_module_version": "1.2.0",
       "_view_name": "LayoutView",
       "align_content": null,
       "align_items": null,
       "align_self": null,
       "border": null,
       "bottom": null,
       "display": null,
       "flex": null,
       "flex_flow": null,
       "grid_area": null,
       "grid_auto_columns": null,
       "grid_auto_flow": null,
       "grid_auto_rows": null,
       "grid_column": null,
       "grid_gap": null,
       "grid_row": null,
       "grid_template_areas": null,
       "grid_template_columns": null,
       "grid_template_rows": null,
       "height": null,
       "justify_content": null,
       "justify_items": null,
       "left": null,
       "margin": null,
       "max_height": null,
       "max_width": null,
       "min_height": null,
       "min_width": null,
       "object_fit": null,
       "object_position": null,
       "order": null,
       "overflow": null,
       "overflow_x": null,
       "overflow_y": null,
       "padding": null,
       "right": null,
       "top": null,
       "visibility": null,
       "width": null
      }
     },
     "03424c2fe654448996666c3c7d6bd965": {
      "model_module": "@jupyter-widgets/controls",
      "model_module_version": "1.5.0",
      "model_name": "HTMLModel",
      "state": {
       "_dom_classes": [],
       "_model_module": "@jupyter-widgets/controls",
       "_model_module_version": "1.5.0",
       "_model_name": "HTMLModel",
       "_view_count": null,
       "_view_module": "@jupyter-widgets/controls",
       "_view_module_version": "1.5.0",
       "_view_name": "HTMLView",
       "description": "",
       "description_tooltip": null,
       "layout": "IPY_MODEL_9a18c5e6e0c8459aa5e1a91e038ae2e2",
       "placeholder": "​",
       "style": "IPY_MODEL_c3673a7b44a741d7aacf3eb9c4d2d004",
       "value": " 185k/185k [00:00&lt;00:00, 5.04MB/s]"
      }
     },
     "043a68a4d3d5468da6414a8b72dd232e": {
      "model_module": "@jupyter-widgets/controls",
      "model_module_version": "1.5.0",
      "model_name": "HBoxModel",
      "state": {
       "_dom_classes": [],
       "_model_module": "@jupyter-widgets/controls",
       "_model_module_version": "1.5.0",
       "_model_name": "HBoxModel",
       "_view_count": null,
       "_view_module": "@jupyter-widgets/controls",
       "_view_module_version": "1.5.0",
       "_view_name": "HBoxView",
       "box_style": "",
       "children": [
        "IPY_MODEL_0cbc1a15c27b4a7bab69d6207ad89436",
        "IPY_MODEL_3f144f5e13b8492ea13561000a453735",
        "IPY_MODEL_0f7550b10bfa4eabbe2a8abe47c072da"
       ],
       "layout": "IPY_MODEL_20f40fc589814e42ba165bffef62a2bf"
      }
     },
     "07626d450ace423e91fe1f42716c4be3": {
      "model_module": "@jupyter-widgets/base",
      "model_module_version": "1.2.0",
      "model_name": "LayoutModel",
      "state": {
       "_model_module": "@jupyter-widgets/base",
       "_model_module_version": "1.2.0",
       "_model_name": "LayoutModel",
       "_view_count": null,
       "_view_module": "@jupyter-widgets/base",
       "_view_module_version": "1.2.0",
       "_view_name": "LayoutView",
       "align_content": null,
       "align_items": null,
       "align_self": null,
       "border": null,
       "bottom": null,
       "display": null,
       "flex": null,
       "flex_flow": null,
       "grid_area": null,
       "grid_auto_columns": null,
       "grid_auto_flow": null,
       "grid_auto_rows": null,
       "grid_column": null,
       "grid_gap": null,
       "grid_row": null,
       "grid_template_areas": null,
       "grid_template_columns": null,
       "grid_template_rows": null,
       "height": null,
       "justify_content": null,
       "justify_items": null,
       "left": null,
       "margin": null,
       "max_height": null,
       "max_width": null,
       "min_height": null,
       "min_width": null,
       "object_fit": null,
       "object_position": null,
       "order": null,
       "overflow": null,
       "overflow_x": null,
       "overflow_y": null,
       "padding": null,
       "right": null,
       "top": null,
       "visibility": null,
       "width": null
      }
     },
     "07ebd705bf9d4f5c8bce291d29ed340f": {
      "model_module": "@jupyter-widgets/controls",
      "model_module_version": "1.5.0",
      "model_name": "FloatProgressModel",
      "state": {
       "_dom_classes": [],
       "_model_module": "@jupyter-widgets/controls",
       "_model_module_version": "1.5.0",
       "_model_name": "FloatProgressModel",
       "_view_count": null,
       "_view_module": "@jupyter-widgets/controls",
       "_view_module_version": "1.5.0",
       "_view_name": "ProgressView",
       "bar_style": "success",
       "description": "",
       "description_tooltip": null,
       "layout": "IPY_MODEL_b9733af915764cf4bb713227f90ebef4",
       "max": 1621.0,
       "min": 0.0,
       "orientation": "horizontal",
       "style": "IPY_MODEL_5553486725c4435689b812741f3d7c74",
       "value": 1621.0
      }
     },
     "0a7a8f66f5e44f92ac98e760512bb809": {
      "model_module": "@jupyter-widgets/base",
      "model_module_version": "1.2.0",
      "model_name": "LayoutModel",
      "state": {
       "_model_module": "@jupyter-widgets/base",
       "_model_module_version": "1.2.0",
       "_model_name": "LayoutModel",
       "_view_count": null,
       "_view_module": "@jupyter-widgets/base",
       "_view_module_version": "1.2.0",
       "_view_name": "LayoutView",
       "align_content": null,
       "align_items": null,
       "align_self": null,
       "border": null,
       "bottom": null,
       "display": null,
       "flex": null,
       "flex_flow": null,
       "grid_area": null,
       "grid_auto_columns": null,
       "grid_auto_flow": null,
       "grid_auto_rows": null,
       "grid_column": null,
       "grid_gap": null,
       "grid_row": null,
       "grid_template_areas": null,
       "grid_template_columns": null,
       "grid_template_rows": null,
       "height": null,
       "justify_content": null,
       "justify_items": null,
       "left": null,
       "margin": null,
       "max_height": null,
       "max_width": null,
       "min_height": null,
       "min_width": null,
       "object_fit": null,
       "object_position": null,
       "order": null,
       "overflow": null,
       "overflow_x": null,
       "overflow_y": null,
       "padding": null,
       "right": null,
       "top": null,
       "visibility": null,
       "width": null
      }
     },
     "0bc163dd489e4a44ab02ee394ca79bae": {
      "model_module": "@jupyter-widgets/base",
      "model_module_version": "1.2.0",
      "model_name": "LayoutModel",
      "state": {
       "_model_module": "@jupyter-widgets/base",
       "_model_module_version": "1.2.0",
       "_model_name": "LayoutModel",
       "_view_count": null,
       "_view_module": "@jupyter-widgets/base",
       "_view_module_version": "1.2.0",
       "_view_name": "LayoutView",
       "align_content": null,
       "align_items": null,
       "align_self": null,
       "border": null,
       "bottom": null,
       "display": null,
       "flex": null,
       "flex_flow": null,
       "grid_area": null,
       "grid_auto_columns": null,
       "grid_auto_flow": null,
       "grid_auto_rows": null,
       "grid_column": null,
       "grid_gap": null,
       "grid_row": null,
       "grid_template_areas": null,
       "grid_template_columns": null,
       "grid_template_rows": null,
       "height": null,
       "justify_content": null,
       "justify_items": null,
       "left": null,
       "margin": null,
       "max_height": null,
       "max_width": null,
       "min_height": null,
       "min_width": null,
       "object_fit": null,
       "object_position": null,
       "order": null,
       "overflow": null,
       "overflow_x": null,
       "overflow_y": null,
       "padding": null,
       "right": null,
       "top": null,
       "visibility": null,
       "width": null
      }
     },
     "0c49d4a2627840e6a278acf336491ce8": {
      "model_module": "@jupyter-widgets/controls",
      "model_module_version": "1.5.0",
      "model_name": "HTMLModel",
      "state": {
       "_dom_classes": [],
       "_model_module": "@jupyter-widgets/controls",
       "_model_module_version": "1.5.0",
       "_model_name": "HTMLModel",
       "_view_count": null,
       "_view_module": "@jupyter-widgets/controls",
       "_view_module_version": "1.5.0",
       "_view_name": "HTMLView",
       "description": "",
       "description_tooltip": null,
       "layout": "IPY_MODEL_0bc163dd489e4a44ab02ee394ca79bae",
       "placeholder": "​",
       "style": "IPY_MODEL_e2693e1d441a46d0b1bf23689ece341b",
       "value": " 34.6k/34.6k [00:00&lt;00:00, 3.41MB/s]"
      }
     },
     "0cbc1a15c27b4a7bab69d6207ad89436": {
      "model_module": "@jupyter-widgets/controls",
      "model_module_version": "1.5.0",
      "model_name": "HTMLModel",
      "state": {
       "_dom_classes": [],
       "_model_module": "@jupyter-widgets/controls",
       "_model_module_version": "1.5.0",
       "_model_name": "HTMLModel",
       "_view_count": null,
       "_view_module": "@jupyter-widgets/controls",
       "_view_module_version": "1.5.0",
       "_view_name": "HTMLView",
       "description": "",
       "description_tooltip": null,
       "layout": "IPY_MODEL_c9d8f2f1a3604d21a714e540dc3198cd",
       "placeholder": "​",
       "style": "IPY_MODEL_4a6eda5a166a444bb1d2923edb01771c",
       "value": "tokenizer.json: 100%"
      }
     },
     "0cc45a31c5214799abe5dbaa203443d2": {
      "model_module": "@jupyter-widgets/base",
      "model_module_version": "1.2.0",
      "model_name": "LayoutModel",
      "state": {
       "_model_module": "@jupyter-widgets/base",
       "_model_module_version": "1.2.0",
       "_model_name": "LayoutModel",
       "_view_count": null,
       "_view_module": "@jupyter-widgets/base",
       "_view_module_version": "1.2.0",
       "_view_name": "LayoutView",
       "align_content": null,
       "align_items": null,
       "align_self": null,
       "border": null,
       "bottom": null,
       "display": null,
       "flex": null,
       "flex_flow": null,
       "grid_area": null,
       "grid_auto_columns": null,
       "grid_auto_flow": null,
       "grid_auto_rows": null,
       "grid_column": null,
       "grid_gap": null,
       "grid_row": null,
       "grid_template_areas": null,
       "grid_template_columns": null,
       "grid_template_rows": null,
       "height": null,
       "justify_content": null,
       "justify_items": null,
       "left": null,
       "margin": null,
       "max_height": null,
       "max_width": null,
       "min_height": null,
       "min_width": null,
       "object_fit": null,
       "object_position": null,
       "order": null,
       "overflow": null,
       "overflow_x": null,
       "overflow_y": null,
       "padding": null,
       "right": null,
       "top": null,
       "visibility": null,
       "width": null
      }
     },
     "0f7550b10bfa4eabbe2a8abe47c072da": {
      "model_module": "@jupyter-widgets/controls",
      "model_module_version": "1.5.0",
      "model_name": "HTMLModel",
      "state": {
       "_dom_classes": [],
       "_model_module": "@jupyter-widgets/controls",
       "_model_module_version": "1.5.0",
       "_model_name": "HTMLModel",
       "_view_count": null,
       "_view_module": "@jupyter-widgets/controls",
       "_view_module_version": "1.5.0",
       "_view_name": "HTMLView",
       "description": "",
       "description_tooltip": null,
       "layout": "IPY_MODEL_2f23ed8244de411bb3914538f88adc66",
       "placeholder": "​",
       "style": "IPY_MODEL_4fc575995ac4480b881dd24d5f9acc59",
       "value": " 2.41M/2.41M [00:00&lt;00:00, 27.3MB/s]"
      }
     },
     "1ad877320dca4a32ae2db727db57a814": {
      "model_module": "@jupyter-widgets/base",
      "model_module_version": "1.2.0",
      "model_name": "LayoutModel",
      "state": {
       "_model_module": "@jupyter-widgets/base",
       "_model_module_version": "1.2.0",
       "_model_name": "LayoutModel",
       "_view_count": null,
       "_view_module": "@jupyter-widgets/base",
       "_view_module_version": "1.2.0",
       "_view_name": "LayoutView",
       "align_content": null,
       "align_items": null,
       "align_self": null,
       "border": null,
       "bottom": null,
       "display": null,
       "flex": null,
       "flex_flow": null,
       "grid_area": null,
       "grid_auto_columns": null,
       "grid_auto_flow": null,
       "grid_auto_rows": null,
       "grid_column": null,
       "grid_gap": null,
       "grid_row": null,
       "grid_template_areas": null,
       "grid_template_columns": null,
       "grid_template_rows": null,
       "height": null,
       "justify_content": null,
       "justify_items": null,
       "left": null,
       "margin": null,
       "max_height": null,
       "max_width": null,
       "min_height": null,
       "min_width": null,
       "object_fit": null,
       "object_position": null,
       "order": null,
       "overflow": null,
       "overflow_x": null,
       "overflow_y": null,
       "padding": null,
       "right": null,
       "top": null,
       "visibility": null,
       "width": null
      }
     },
     "1af87f0e976f4a91bf2e1b042ea18056": {
      "model_module": "@jupyter-widgets/controls",
      "model_module_version": "1.5.0",
      "model_name": "ProgressStyleModel",
      "state": {
       "_model_module": "@jupyter-widgets/controls",
       "_model_module_version": "1.5.0",
       "_model_name": "ProgressStyleModel",
       "_view_count": null,
       "_view_module": "@jupyter-widgets/base",
       "_view_module_version": "1.2.0",
       "_view_name": "StyleView",
       "bar_color": null,
       "description_width": ""
      }
     },
     "20f40fc589814e42ba165bffef62a2bf": {
      "model_module": "@jupyter-widgets/base",
      "model_module_version": "1.2.0",
      "model_name": "LayoutModel",
      "state": {
       "_model_module": "@jupyter-widgets/base",
       "_model_module_version": "1.2.0",
       "_model_name": "LayoutModel",
       "_view_count": null,
       "_view_module": "@jupyter-widgets/base",
       "_view_module_version": "1.2.0",
       "_view_name": "LayoutView",
       "align_content": null,
       "align_items": null,
       "align_self": null,
       "border": null,
       "bottom": null,
       "display": null,
       "flex": null,
       "flex_flow": null,
       "grid_area": null,
       "grid_auto_columns": null,
       "grid_auto_flow": null,
       "grid_auto_rows": null,
       "grid_column": null,
       "grid_gap": null,
       "grid_row": null,
       "grid_template_areas": null,
       "grid_template_columns": null,
       "grid_template_rows": null,
       "height": null,
       "justify_content": null,
       "justify_items": null,
       "left": null,
       "margin": null,
       "max_height": null,
       "max_width": null,
       "min_height": null,
       "min_width": null,
       "object_fit": null,
       "object_position": null,
       "order": null,
       "overflow": null,
       "overflow_x": null,
       "overflow_y": null,
       "padding": null,
       "right": null,
       "top": null,
       "visibility": null,
       "width": null
      }
     },
     "21b8a52886a64c65ba862021df18e3e8": {
      "model_module": "@jupyter-widgets/controls",
      "model_module_version": "1.5.0",
      "model_name": "FloatProgressModel",
      "state": {
       "_dom_classes": [],
       "_model_module": "@jupyter-widgets/controls",
       "_model_module_version": "1.5.0",
       "_model_name": "FloatProgressModel",
       "_view_count": null,
       "_view_module": "@jupyter-widgets/controls",
       "_view_module_version": "1.5.0",
       "_view_name": "ProgressView",
       "bar_style": "success",
       "description": "",
       "description_tooltip": null,
       "layout": "IPY_MODEL_0cc45a31c5214799abe5dbaa203443d2",
       "max": 151060136.0,
       "min": 0.0,
       "orientation": "horizontal",
       "style": "IPY_MODEL_4bd1e9b5797b4b74bfdeab8148dbaade",
       "value": 151060136.0
      }
     },
     "25d647c3aea54cfb849e47c2cf30dd66": {
      "model_module": "@jupyter-widgets/base",
      "model_module_version": "1.2.0",
      "model_name": "LayoutModel",
      "state": {
       "_model_module": "@jupyter-widgets/base",
       "_model_module_version": "1.2.0",
       "_model_name": "LayoutModel",
       "_view_count": null,
       "_view_module": "@jupyter-widgets/base",
       "_view_module_version": "1.2.0",
       "_view_name": "LayoutView",
       "align_content": null,
       "align_items": null,
       "align_self": null,
       "border": null,
       "bottom": null,
       "display": null,
       "flex": null,
       "flex_flow": null,
       "grid_area": null,
       "grid_auto_columns": null,
       "grid_auto_flow": null,
       "grid_auto_rows": null,
       "grid_column": null,
       "grid_gap": null,
       "grid_row": null,
       "grid_template_areas": null,
       "grid_template_columns": null,
       "grid_template_rows": null,
       "height": null,
       "justify_content": null,
       "justify_items": null,
       "left": null,
       "margin": null,
       "max_height": null,
       "max_width": null,
       "min_height": null,
       "min_width": null,
       "object_fit": null,
       "object_position": null,
       "order": null,
       "overflow": null,
       "overflow_x": null,
       "overflow_y": null,
       "padding": null,
       "right": null,
       "top": null,
       "visibility": null,
       "width": null
      }
     },
     "270b35177d71493b9bd5c48671c79f6c": {
      "model_module": "@jupyter-widgets/base",
      "model_module_version": "1.2.0",
      "model_name": "LayoutModel",
      "state": {
       "_model_module": "@jupyter-widgets/base",
       "_model_module_version": "1.2.0",
       "_model_name": "LayoutModel",
       "_view_count": null,
       "_view_module": "@jupyter-widgets/base",
       "_view_module_version": "1.2.0",
       "_view_name": "LayoutView",
       "align_content": null,
       "align_items": null,
       "align_self": null,
       "border": null,
       "bottom": null,
       "display": null,
       "flex": null,
       "flex_flow": null,
       "grid_area": null,
       "grid_auto_columns": null,
       "grid_auto_flow": null,
       "grid_auto_rows": null,
       "grid_column": null,
       "grid_gap": null,
       "grid_row": null,
       "grid_template_areas": null,
       "grid_template_columns": null,
       "grid_template_rows": null,
       "height": null,
       "justify_content": null,
       "justify_items": null,
       "left": null,
       "margin": null,
       "max_height": null,
       "max_width": null,
       "min_height": null,
       "min_width": null,
       "object_fit": null,
       "object_position": null,
       "order": null,
       "overflow": null,
       "overflow_x": null,
       "overflow_y": null,
       "padding": null,
       "right": null,
       "top": null,
       "visibility": null,
       "width": null
      }
     },
     "2d71f9afb05a46c0836a16ade204a9ed": {
      "model_module": "@jupyter-widgets/controls",
      "model_module_version": "1.5.0",
      "model_name": "DescriptionStyleModel",
      "state": {
       "_model_module": "@jupyter-widgets/controls",
       "_model_module_version": "1.5.0",
       "_model_name": "DescriptionStyleModel",
       "_view_count": null,
       "_view_module": "@jupyter-widgets/base",
       "_view_module_version": "1.2.0",
       "_view_name": "StyleView",
       "description_width": ""
      }
     },
     "2d97f1dc4fcd4e19b791a55975eb6e6c": {
      "model_module": "@jupyter-widgets/controls",
      "model_module_version": "1.5.0",
      "model_name": "FloatProgressModel",
      "state": {
       "_dom_classes": [],
       "_model_module": "@jupyter-widgets/controls",
       "_model_module_version": "1.5.0",
       "_model_name": "FloatProgressModel",
       "_view_count": null,
       "_view_module": "@jupyter-widgets/controls",
       "_view_module_version": "1.5.0",
       "_view_name": "ProgressView",
       "bar_style": "success",
       "description": "",
       "description_tooltip": null,
       "layout": "IPY_MODEL_4bae17a4137945a098b222f6a3f459e9",
       "max": 184990.0,
       "min": 0.0,
       "orientation": "horizontal",
       "style": "IPY_MODEL_e4bbcda50cac4b48b37aebc08eb4e201",
       "value": 184990.0
      }
     },
     "2f23ed8244de411bb3914538f88adc66": {
      "model_module": "@jupyter-widgets/base",
      "model_module_version": "1.2.0",
      "model_name": "LayoutModel",
      "state": {
       "_model_module": "@jupyter-widgets/base",
       "_model_module_version": "1.2.0",
       "_model_name": "LayoutModel",
       "_view_count": null,
       "_view_module": "@jupyter-widgets/base",
       "_view_module_version": "1.2.0",
       "_view_name": "LayoutView",
       "align_content": null,
       "align_items": null,
       "align_self": null,
       "border": null,
       "bottom": null,
       "display": null,
       "flex": null,
       "flex_flow": null,
       "grid_area": null,
       "grid_auto_columns": null,
       "grid_auto_flow": null,
       "grid_auto_rows": null,
       "grid_column": null,
       "grid_gap": null,
       "grid_row": null,
       "grid_template_areas": null,
       "grid_template_columns": null,
       "grid_template_rows": null,
       "height": null,
       "justify_content": null,
       "justify_items": null,
       "left": null,
       "margin": null,
       "max_height": null,
       "max_width": null,
       "min_height": null,
       "min_width": null,
       "object_fit": null,
       "object_position": null,
       "order": null,
       "overflow": null,
       "overflow_x": null,
       "overflow_y": null,
       "padding": null,
       "right": null,
       "top": null,
       "visibility": null,
       "width": null
      }
     },
     "32419e14171a4684b173c63711ebab1c": {
      "model_module": "@jupyter-widgets/base",
      "model_module_version": "1.2.0",
      "model_name": "LayoutModel",
      "state": {
       "_model_module": "@jupyter-widgets/base",
       "_model_module_version": "1.2.0",
       "_model_name": "LayoutModel",
       "_view_count": null,
       "_view_module": "@jupyter-widgets/base",
       "_view_module_version": "1.2.0",
       "_view_name": "LayoutView",
       "align_content": null,
       "align_items": null,
       "align_self": null,
       "border": null,
       "bottom": null,
       "display": null,
       "flex": null,
       "flex_flow": null,
       "grid_area": null,
       "grid_auto_columns": null,
       "grid_auto_flow": null,
       "grid_auto_rows": null,
       "grid_column": null,
       "grid_gap": null,
       "grid_row": null,
       "grid_template_areas": null,
       "grid_template_columns": null,
       "grid_template_rows": null,
       "height": null,
       "justify_content": null,
       "justify_items": null,
       "left": null,
       "margin": null,
       "max_height": null,
       "max_width": null,
       "min_height": null,
       "min_width": null,
       "object_fit": null,
       "object_position": null,
       "order": null,
       "overflow": null,
       "overflow_x": null,
       "overflow_y": null,
       "padding": null,
       "right": null,
       "top": null,
       "visibility": null,
       "width": null
      }
     },
     "34146d3e043a48d98d79565b04664fbc": {
      "model_module": "@jupyter-widgets/base",
      "model_module_version": "1.2.0",
      "model_name": "LayoutModel",
      "state": {
       "_model_module": "@jupyter-widgets/base",
       "_model_module_version": "1.2.0",
       "_model_name": "LayoutModel",
       "_view_count": null,
       "_view_module": "@jupyter-widgets/base",
       "_view_module_version": "1.2.0",
       "_view_name": "LayoutView",
       "align_content": null,
       "align_items": null,
       "align_self": null,
       "border": null,
       "bottom": null,
       "display": null,
       "flex": null,
       "flex_flow": null,
       "grid_area": null,
       "grid_auto_columns": null,
       "grid_auto_flow": null,
       "grid_auto_rows": null,
       "grid_column": null,
       "grid_gap": null,
       "grid_row": null,
       "grid_template_areas": null,
       "grid_template_columns": null,
       "grid_template_rows": null,
       "height": null,
       "justify_content": null,
       "justify_items": null,
       "left": null,
       "margin": null,
       "max_height": null,
       "max_width": null,
       "min_height": null,
       "min_width": null,
       "object_fit": null,
       "object_position": null,
       "order": null,
       "overflow": null,
       "overflow_x": null,
       "overflow_y": null,
       "padding": null,
       "right": null,
       "top": null,
       "visibility": null,
       "width": null
      }
     },
     "34f1ad53d7e94504883c3850df2e760b": {
      "model_module": "@jupyter-widgets/base",
      "model_module_version": "1.2.0",
      "model_name": "LayoutModel",
      "state": {
       "_model_module": "@jupyter-widgets/base",
       "_model_module_version": "1.2.0",
       "_model_name": "LayoutModel",
       "_view_count": null,
       "_view_module": "@jupyter-widgets/base",
       "_view_module_version": "1.2.0",
       "_view_name": "LayoutView",
       "align_content": null,
       "align_items": null,
       "align_self": null,
       "border": null,
       "bottom": null,
       "display": null,
       "flex": null,
       "flex_flow": null,
       "grid_area": null,
       "grid_auto_columns": null,
       "grid_auto_flow": null,
       "grid_auto_rows": null,
       "grid_column": null,
       "grid_gap": null,
       "grid_row": null,
       "grid_template_areas": null,
       "grid_template_columns": null,
       "grid_template_rows": null,
       "height": null,
       "justify_content": null,
       "justify_items": null,
       "left": null,
       "margin": null,
       "max_height": null,
       "max_width": null,
       "min_height": null,
       "min_width": null,
       "object_fit": null,
       "object_position": null,
       "order": null,
       "overflow": null,
       "overflow_x": null,
       "overflow_y": null,
       "padding": null,
       "right": null,
       "top": null,
       "visibility": null,
       "width": null
      }
     },
     "365eb598fa1d418a930e7f13fb2bf2de": {
      "model_module": "@jupyter-widgets/controls",
      "model_module_version": "1.5.0",
      "model_name": "HTMLModel",
      "state": {
       "_dom_classes": [],
       "_model_module": "@jupyter-widgets/controls",
       "_model_module_version": "1.5.0",
       "_model_name": "HTMLModel",
       "_view_count": null,
       "_view_module": "@jupyter-widgets/controls",
       "_view_module_version": "1.5.0",
       "_view_name": "HTMLView",
       "description": "",
       "description_tooltip": null,
       "layout": "IPY_MODEL_25d647c3aea54cfb849e47c2cf30dd66",
       "placeholder": "​",
       "style": "IPY_MODEL_5418a231166148e5922a6382fe437b04",
       "value": "special_tokens_map.json: 100%"
      }
     },
     "3d63a755d3524a19820c2794a3065121": {
      "model_module": "@jupyter-widgets/controls",
      "model_module_version": "1.5.0",
      "model_name": "FloatProgressModel",
      "state": {
       "_dom_classes": [],
       "_model_module": "@jupyter-widgets/controls",
       "_model_module_version": "1.5.0",
       "_model_name": "FloatProgressModel",
       "_view_count": null,
       "_view_module": "@jupyter-widgets/controls",
       "_view_module_version": "1.5.0",
       "_view_name": "ProgressView",
       "bar_style": "success",
       "description": "",
       "description_tooltip": null,
       "layout": "IPY_MODEL_88efce1ac9924b33b245e002ecbd42c1",
       "max": 1830.0,
       "min": 0.0,
       "orientation": "horizontal",
       "style": "IPY_MODEL_a09fd83d5f904df08ac6239aa3a6e9b8",
       "value": 1830.0
      }
     },
     "3f144f5e13b8492ea13561000a453735": {
      "model_module": "@jupyter-widgets/controls",
      "model_module_version": "1.5.0",
      "model_name": "FloatProgressModel",
      "state": {
       "_dom_classes": [],
       "_model_module": "@jupyter-widgets/controls",
       "_model_module_version": "1.5.0",
       "_model_name": "FloatProgressModel",
       "_view_count": null,
       "_view_module": "@jupyter-widgets/controls",
       "_view_module_version": "1.5.0",
       "_view_name": "ProgressView",
       "bar_style": "success",
       "description": "",
       "description_tooltip": null,
       "layout": "IPY_MODEL_ae4fdc74e1844c5fa47eb35c8d3af59d",
       "max": 2405679.0,
       "min": 0.0,
       "orientation": "horizontal",
       "style": "IPY_MODEL_d6bb3ad2be704d6c9ef7c232132aae61",
       "value": 2405679.0
      }
     },
     "418be42f410b498c97627df1a3d78885": {
      "model_module": "@jupyter-widgets/base",
      "model_module_version": "1.2.0",
      "model_name": "LayoutModel",
      "state": {
       "_model_module": "@jupyter-widgets/base",
       "_model_module_version": "1.2.0",
       "_model_name": "LayoutModel",
       "_view_count": null,
       "_view_module": "@jupyter-widgets/base",
       "_view_module_version": "1.2.0",
       "_view_name": "LayoutView",
       "align_content": null,
       "align_items": null,
       "align_self": null,
       "border": null,
       "bottom": null,
       "display": null,
       "flex": null,
       "flex_flow": null,
       "grid_area": null,
       "grid_auto_columns": null,
       "grid_auto_flow": null,
       "grid_auto_rows": null,
       "grid_column": null,
       "grid_gap": null,
       "grid_row": null,
       "grid_template_areas": null,
       "grid_template_columns": null,
       "grid_template_rows": null,
       "height": null,
       "justify_content": null,
       "justify_items": null,
       "left": null,
       "margin": null,
       "max_height": null,
       "max_width": null,
       "min_height": null,
       "min_width": null,
       "object_fit": null,
       "object_position": null,
       "order": null,
       "overflow": null,
       "overflow_x": null,
       "overflow_y": null,
       "padding": null,
       "right": null,
       "top": null,
       "visibility": null,
       "width": null
      }
     },
     "43bd0600fc164abeb2416dcbff1a03e6": {
      "model_module": "@jupyter-widgets/base",
      "model_module_version": "1.2.0",
      "model_name": "LayoutModel",
      "state": {
       "_model_module": "@jupyter-widgets/base",
       "_model_module_version": "1.2.0",
       "_model_name": "LayoutModel",
       "_view_count": null,
       "_view_module": "@jupyter-widgets/base",
       "_view_module_version": "1.2.0",
       "_view_name": "LayoutView",
       "align_content": null,
       "align_items": null,
       "align_self": null,
       "border": null,
       "bottom": null,
       "display": null,
       "flex": null,
       "flex_flow": null,
       "grid_area": null,
       "grid_auto_columns": null,
       "grid_auto_flow": null,
       "grid_auto_rows": null,
       "grid_column": null,
       "grid_gap": null,
       "grid_row": null,
       "grid_template_areas": null,
       "grid_template_columns": null,
       "grid_template_rows": null,
       "height": null,
       "justify_content": null,
       "justify_items": null,
       "left": null,
       "margin": null,
       "max_height": null,
       "max_width": null,
       "min_height": null,
       "min_width": null,
       "object_fit": null,
       "object_position": null,
       "order": null,
       "overflow": null,
       "overflow_x": null,
       "overflow_y": null,
       "padding": null,
       "right": null,
       "top": null,
       "visibility": null,
       "width": null
      }
     },
     "4589dd8199dc4352bcf7a2841aca56cf": {
      "model_module": "@jupyter-widgets/controls",
      "model_module_version": "1.5.0",
      "model_name": "HBoxModel",
      "state": {
       "_dom_classes": [],
       "_model_module": "@jupyter-widgets/controls",
       "_model_module_version": "1.5.0",
       "_model_name": "HBoxModel",
       "_view_count": null,
       "_view_module": "@jupyter-widgets/controls",
       "_view_module_version": "1.5.0",
       "_view_name": "HBoxView",
       "box_style": "",
       "children": [
        "IPY_MODEL_5f1302ae96f94d0caf36484b7d0de1f5",
        "IPY_MODEL_f706a03eeb8a45e68ea1318fa8d9a53d",
        "IPY_MODEL_cf497851fb70494594677cb55e84752f"
       ],
       "layout": "IPY_MODEL_d4d2feea11d34df7905a5f821293c14f"
      }
     },
     "458c54c5141642feaae46539e4be8ed9": {
      "model_module": "@jupyter-widgets/base",
      "model_module_version": "1.2.0",
      "model_name": "LayoutModel",
      "state": {
       "_model_module": "@jupyter-widgets/base",
       "_model_module_version": "1.2.0",
       "_model_name": "LayoutModel",
       "_view_count": null,
       "_view_module": "@jupyter-widgets/base",
       "_view_module_version": "1.2.0",
       "_view_name": "LayoutView",
       "align_content": null,
       "align_items": null,
       "align_self": null,
       "border": null,
       "bottom": null,
       "display": null,
       "flex": null,
       "flex_flow": null,
       "grid_area": null,
       "grid_auto_columns": null,
       "grid_auto_flow": null,
       "grid_auto_rows": null,
       "grid_column": null,
       "grid_gap": null,
       "grid_row": null,
       "grid_template_areas": null,
       "grid_template_columns": null,
       "grid_template_rows": null,
       "height": null,
       "justify_content": null,
       "justify_items": null,
       "left": null,
       "margin": null,
       "max_height": null,
       "max_width": null,
       "min_height": null,
       "min_width": null,
       "object_fit": null,
       "object_position": null,
       "order": null,
       "overflow": null,
       "overflow_x": null,
       "overflow_y": null,
       "padding": null,
       "right": null,
       "top": null,
       "visibility": null,
       "width": null
      }
     },
     "46929a6ee204468099232c55ea31a8b5": {
      "model_module": "@jupyter-widgets/base",
      "model_module_version": "1.2.0",
      "model_name": "LayoutModel",
      "state": {
       "_model_module": "@jupyter-widgets/base",
       "_model_module_version": "1.2.0",
       "_model_name": "LayoutModel",
       "_view_count": null,
       "_view_module": "@jupyter-widgets/base",
       "_view_module_version": "1.2.0",
       "_view_name": "LayoutView",
       "align_content": null,
       "align_items": null,
       "align_self": null,
       "border": null,
       "bottom": null,
       "display": null,
       "flex": null,
       "flex_flow": null,
       "grid_area": null,
       "grid_auto_columns": null,
       "grid_auto_flow": null,
       "grid_auto_rows": null,
       "grid_column": null,
       "grid_gap": null,
       "grid_row": null,
       "grid_template_areas": null,
       "grid_template_columns": null,
       "grid_template_rows": null,
       "height": null,
       "justify_content": null,
       "justify_items": null,
       "left": null,
       "margin": null,
       "max_height": null,
       "max_width": null,
       "min_height": null,
       "min_width": null,
       "object_fit": null,
       "object_position": null,
       "order": null,
       "overflow": null,
       "overflow_x": null,
       "overflow_y": null,
       "padding": null,
       "right": null,
       "top": null,
       "visibility": null,
       "width": null
      }
     },
     "4a6eda5a166a444bb1d2923edb01771c": {
      "model_module": "@jupyter-widgets/controls",
      "model_module_version": "1.5.0",
      "model_name": "DescriptionStyleModel",
      "state": {
       "_model_module": "@jupyter-widgets/controls",
       "_model_module_version": "1.5.0",
       "_model_name": "DescriptionStyleModel",
       "_view_count": null,
       "_view_module": "@jupyter-widgets/base",
       "_view_module_version": "1.2.0",
       "_view_name": "StyleView",
       "description_width": ""
      }
     },
     "4bae17a4137945a098b222f6a3f459e9": {
      "model_module": "@jupyter-widgets/base",
      "model_module_version": "1.2.0",
      "model_name": "LayoutModel",
      "state": {
       "_model_module": "@jupyter-widgets/base",
       "_model_module_version": "1.2.0",
       "_model_name": "LayoutModel",
       "_view_count": null,
       "_view_module": "@jupyter-widgets/base",
       "_view_module_version": "1.2.0",
       "_view_name": "LayoutView",
       "align_content": null,
       "align_items": null,
       "align_self": null,
       "border": null,
       "bottom": null,
       "display": null,
       "flex": null,
       "flex_flow": null,
       "grid_area": null,
       "grid_auto_columns": null,
       "grid_auto_flow": null,
       "grid_auto_rows": null,
       "grid_column": null,
       "grid_gap": null,
       "grid_row": null,
       "grid_template_areas": null,
       "grid_template_columns": null,
       "grid_template_rows": null,
       "height": null,
       "justify_content": null,
       "justify_items": null,
       "left": null,
       "margin": null,
       "max_height": null,
       "max_width": null,
       "min_height": null,
       "min_width": null,
       "object_fit": null,
       "object_position": null,
       "order": null,
       "overflow": null,
       "overflow_x": null,
       "overflow_y": null,
       "padding": null,
       "right": null,
       "top": null,
       "visibility": null,
       "width": null
      }
     },
     "4bd1e9b5797b4b74bfdeab8148dbaade": {
      "model_module": "@jupyter-widgets/controls",
      "model_module_version": "1.5.0",
      "model_name": "ProgressStyleModel",
      "state": {
       "_model_module": "@jupyter-widgets/controls",
       "_model_module_version": "1.5.0",
       "_model_name": "ProgressStyleModel",
       "_view_count": null,
       "_view_module": "@jupyter-widgets/base",
       "_view_module_version": "1.2.0",
       "_view_name": "StyleView",
       "bar_color": null,
       "description_width": ""
      }
     },
     "4c1bdf22878f4960aba46641aaa5c54f": {
      "model_module": "@jupyter-widgets/controls",
      "model_module_version": "1.5.0",
      "model_name": "HTMLModel",
      "state": {
       "_dom_classes": [],
       "_model_module": "@jupyter-widgets/controls",
       "_model_module_version": "1.5.0",
       "_model_name": "HTMLModel",
       "_view_count": null,
       "_view_module": "@jupyter-widgets/controls",
       "_view_module_version": "1.5.0",
       "_view_name": "HTMLView",
       "description": "",
       "description_tooltip": null,
       "layout": "IPY_MODEL_9d4d34de318a405b8b0c635fa4b3736a",
       "placeholder": "​",
       "style": "IPY_MODEL_4e24a0ec63524ccab90f22b5e10adf0b",
       "value": "config.json: 100%"
      }
     },
     "4cea7de799c449ba8f6729a1e724cd01": {
      "model_module": "@jupyter-widgets/controls",
      "model_module_version": "1.5.0",
      "model_name": "HTMLModel",
      "state": {
       "_dom_classes": [],
       "_model_module": "@jupyter-widgets/controls",
       "_model_module_version": "1.5.0",
       "_model_name": "HTMLModel",
       "_view_count": null,
       "_view_module": "@jupyter-widgets/controls",
       "_view_module_version": "1.5.0",
       "_view_name": "HTMLView",
       "description": "",
       "description_tooltip": null,
       "layout": "IPY_MODEL_43bd0600fc164abeb2416dcbff1a03e6",
       "placeholder": "​",
       "style": "IPY_MODEL_fad2fe438c8146c3a0c7d77520be54d1",
       "value": "model.safetensors: 100%"
      }
     },
     "4e24a0ec63524ccab90f22b5e10adf0b": {
      "model_module": "@jupyter-widgets/controls",
      "model_module_version": "1.5.0",
      "model_name": "DescriptionStyleModel",
      "state": {
       "_model_module": "@jupyter-widgets/controls",
       "_model_module_version": "1.5.0",
       "_model_name": "DescriptionStyleModel",
       "_view_count": null,
       "_view_module": "@jupyter-widgets/base",
       "_view_module_version": "1.2.0",
       "_view_name": "StyleView",
       "description_width": ""
      }
     },
     "4fc575995ac4480b881dd24d5f9acc59": {
      "model_module": "@jupyter-widgets/controls",
      "model_module_version": "1.5.0",
      "model_name": "DescriptionStyleModel",
      "state": {
       "_model_module": "@jupyter-widgets/controls",
       "_model_module_version": "1.5.0",
       "_model_name": "DescriptionStyleModel",
       "_view_count": null,
       "_view_module": "@jupyter-widgets/base",
       "_view_module_version": "1.2.0",
       "_view_name": "StyleView",
       "description_width": ""
      }
     },
     "51a969a10dcc4dde9a4d025d2437609e": {
      "model_module": "@jupyter-widgets/controls",
      "model_module_version": "1.5.0",
      "model_name": "HTMLModel",
      "state": {
       "_dom_classes": [],
       "_model_module": "@jupyter-widgets/controls",
       "_model_module_version": "1.5.0",
       "_model_name": "HTMLModel",
       "_view_count": null,
       "_view_module": "@jupyter-widgets/controls",
       "_view_module_version": "1.5.0",
       "_view_name": "HTMLView",
       "description": "",
       "description_tooltip": null,
       "layout": "IPY_MODEL_b862cf9336404b0f95a8dc31892308d6",
       "placeholder": "​",
       "style": "IPY_MODEL_a9ff0144c79140f8916d65c7e77c187b",
       "value": "preprocessor_config.json: 100%"
      }
     },
     "5418a231166148e5922a6382fe437b04": {
      "model_module": "@jupyter-widgets/controls",
      "model_module_version": "1.5.0",
      "model_name": "DescriptionStyleModel",
      "state": {
       "_model_module": "@jupyter-widgets/controls",
       "_model_module_version": "1.5.0",
       "_model_name": "DescriptionStyleModel",
       "_view_count": null,
       "_view_module": "@jupyter-widgets/base",
       "_view_module_version": "1.2.0",
       "_view_name": "StyleView",
       "description_width": ""
      }
     },
     "5553486725c4435689b812741f3d7c74": {
      "model_module": "@jupyter-widgets/controls",
      "model_module_version": "1.5.0",
      "model_name": "ProgressStyleModel",
      "state": {
       "_model_module": "@jupyter-widgets/controls",
       "_model_module_version": "1.5.0",
       "_model_name": "ProgressStyleModel",
       "_view_count": null,
       "_view_module": "@jupyter-widgets/base",
       "_view_module_version": "1.2.0",
       "_view_name": "StyleView",
       "bar_color": null,
       "description_width": ""
      }
     },
     "59f201bc7fe242b4a16b613aae080b2b": {
      "model_module": "@jupyter-widgets/controls",
      "model_module_version": "1.5.0",
      "model_name": "HBoxModel",
      "state": {
       "_dom_classes": [],
       "_model_module": "@jupyter-widgets/controls",
       "_model_module_version": "1.5.0",
       "_model_name": "HBoxModel",
       "_view_count": null,
       "_view_module": "@jupyter-widgets/controls",
       "_view_module_version": "1.5.0",
       "_view_name": "HBoxView",
       "box_style": "",
       "children": [
        "IPY_MODEL_365eb598fa1d418a930e7f13fb2bf2de",
        "IPY_MODEL_3d63a755d3524a19820c2794a3065121",
        "IPY_MODEL_ebbe5678ce2b4257a4bdec8f55e53d49"
       ],
       "layout": "IPY_MODEL_01ff61af0c25414fb2da9626bd638fbc"
      }
     },
     "5f1302ae96f94d0caf36484b7d0de1f5": {
      "model_module": "@jupyter-widgets/controls",
      "model_module_version": "1.5.0",
      "model_name": "HTMLModel",
      "state": {
       "_dom_classes": [],
       "_model_module": "@jupyter-widgets/controls",
       "_model_module_version": "1.5.0",
       "_model_name": "HTMLModel",
       "_view_count": null,
       "_view_module": "@jupyter-widgets/controls",
       "_view_module_version": "1.5.0",
       "_view_name": "HTMLView",
       "description": "",
       "description_tooltip": null,
       "layout": "IPY_MODEL_c671cc61a7b44da19685a896f1b7cc31",
       "placeholder": "​",
       "style": "IPY_MODEL_8b237317c93f4ed69010b57a5d79d401",
       "value": "merges.txt: 100%"
      }
     },
     "605013e4b5a14cdba7a854f260255272": {
      "model_module": "@jupyter-widgets/base",
      "model_module_version": "1.2.0",
      "model_name": "LayoutModel",
      "state": {
       "_model_module": "@jupyter-widgets/base",
       "_model_module_version": "1.2.0",
       "_model_name": "LayoutModel",
       "_view_count": null,
       "_view_module": "@jupyter-widgets/base",
       "_view_module_version": "1.2.0",
       "_view_name": "LayoutView",
       "align_content": null,
       "align_items": null,
       "align_self": null,
       "border": null,
       "bottom": null,
       "display": null,
       "flex": null,
       "flex_flow": null,
       "grid_area": null,
       "grid_auto_columns": null,
       "grid_auto_flow": null,
       "grid_auto_rows": null,
       "grid_column": null,
       "grid_gap": null,
       "grid_row": null,
       "grid_template_areas": null,
       "grid_template_columns": null,
       "grid_template_rows": null,
       "height": null,
       "justify_content": null,
       "justify_items": null,
       "left": null,
       "margin": null,
       "max_height": null,
       "max_width": null,
       "min_height": null,
       "min_width": null,
       "object_fit": null,
       "object_position": null,
       "order": null,
       "overflow": null,
       "overflow_x": null,
       "overflow_y": null,
       "padding": null,
       "right": null,
       "top": null,
       "visibility": null,
       "width": null
      }
     },
     "616dd28bc483426f9301fc78640ab106": {
      "model_module": "@jupyter-widgets/controls",
      "model_module_version": "1.5.0",
      "model_name": "HTMLModel",
      "state": {
       "_dom_classes": [],
       "_model_module": "@jupyter-widgets/controls",
       "_model_module_version": "1.5.0",
       "_model_name": "HTMLModel",
       "_view_count": null,
       "_view_module": "@jupyter-widgets/controls",
       "_view_module_version": "1.5.0",
       "_view_name": "HTMLView",
       "description": "",
       "description_tooltip": null,
       "layout": "IPY_MODEL_b3574bd649634e99bf9f93b173a9a49a",
       "placeholder": "​",
       "style": "IPY_MODEL_adcc891570c54a2abf80d6a94ca506df",
       "value": " 805/805 [00:00&lt;00:00, 82.7kB/s]"
      }
     },
     "6335a0e49e904574bb70b107c30badc8": {
      "model_module": "@jupyter-widgets/controls",
      "model_module_version": "1.5.0",
      "model_name": "DescriptionStyleModel",
      "state": {
       "_model_module": "@jupyter-widgets/controls",
       "_model_module_version": "1.5.0",
       "_model_name": "DescriptionStyleModel",
       "_view_count": null,
       "_view_module": "@jupyter-widgets/base",
       "_view_module_version": "1.2.0",
       "_view_name": "StyleView",
       "description_width": ""
      }
     },
     "637dba3276804f619805c4a587432d1c": {
      "model_module": "@jupyter-widgets/base",
      "model_module_version": "1.2.0",
      "model_name": "LayoutModel",
      "state": {
       "_model_module": "@jupyter-widgets/base",
       "_model_module_version": "1.2.0",
       "_model_name": "LayoutModel",
       "_view_count": null,
       "_view_module": "@jupyter-widgets/base",
       "_view_module_version": "1.2.0",
       "_view_name": "LayoutView",
       "align_content": null,
       "align_items": null,
       "align_self": null,
       "border": null,
       "bottom": null,
       "display": null,
       "flex": null,
       "flex_flow": null,
       "grid_area": null,
       "grid_auto_columns": null,
       "grid_auto_flow": null,
       "grid_auto_rows": null,
       "grid_column": null,
       "grid_gap": null,
       "grid_row": null,
       "grid_template_areas": null,
       "grid_template_columns": null,
       "grid_template_rows": null,
       "height": null,
       "justify_content": null,
       "justify_items": null,
       "left": null,
       "margin": null,
       "max_height": null,
       "max_width": null,
       "min_height": null,
       "min_width": null,
       "object_fit": null,
       "object_position": null,
       "order": null,
       "overflow": null,
       "overflow_x": null,
       "overflow_y": null,
       "padding": null,
       "right": null,
       "top": null,
       "visibility": null,
       "width": null
      }
     },
     "64fc13663fc641258a05b5b240a521a4": {
      "model_module": "@jupyter-widgets/controls",
      "model_module_version": "1.5.0",
      "model_name": "HBoxModel",
      "state": {
       "_dom_classes": [],
       "_model_module": "@jupyter-widgets/controls",
       "_model_module_version": "1.5.0",
       "_model_name": "HBoxModel",
       "_view_count": null,
       "_view_module": "@jupyter-widgets/controls",
       "_view_module_version": "1.5.0",
       "_view_name": "HBoxView",
       "box_style": "",
       "children": [
        "IPY_MODEL_4cea7de799c449ba8f6729a1e724cd01",
        "IPY_MODEL_21b8a52886a64c65ba862021df18e3e8",
        "IPY_MODEL_815513ffb4dc4d17a8d5d71e2033e67d"
       ],
       "layout": "IPY_MODEL_8cdac44402f445fa9311f932c8e565fe"
      }
     },
     "65d1c38ed12e441595be6523179f1ee8": {
      "model_module": "@jupyter-widgets/controls",
      "model_module_version": "1.5.0",
      "model_name": "FloatProgressModel",
      "state": {
       "_dom_classes": [],
       "_model_module": "@jupyter-widgets/controls",
       "_model_module_version": "1.5.0",
       "_model_name": "FloatProgressModel",
       "_view_count": null,
       "_view_module": "@jupyter-widgets/controls",
       "_view_module_version": "1.5.0",
       "_view_name": "ProgressView",
       "bar_style": "success",
       "description": "",
       "description_tooltip": null,
       "layout": "IPY_MODEL_458c54c5141642feaae46539e4be8ed9",
       "max": 52666.0,
       "min": 0.0,
       "orientation": "horizontal",
       "style": "IPY_MODEL_7daa1a4539ba467ebbcb11d8d49084b7",
       "value": 52666.0
      }
     },
     "72c063cfb5154c2b9334db65c086296d": {
      "model_module": "@jupyter-widgets/controls",
      "model_module_version": "1.5.0",
      "model_name": "DescriptionStyleModel",
      "state": {
       "_model_module": "@jupyter-widgets/controls",
       "_model_module_version": "1.5.0",
       "_model_name": "DescriptionStyleModel",
       "_view_count": null,
       "_view_module": "@jupyter-widgets/base",
       "_view_module_version": "1.2.0",
       "_view_name": "StyleView",
       "description_width": ""
      }
     },
     "750720b19e7a40b18cb8a4c19baf22d4": {
      "model_module": "@jupyter-widgets/controls",
      "model_module_version": "1.5.0",
      "model_name": "HTMLModel",
      "state": {
       "_dom_classes": [],
       "_model_module": "@jupyter-widgets/controls",
       "_model_module_version": "1.5.0",
       "_model_name": "HTMLModel",
       "_view_count": null,
       "_view_module": "@jupyter-widgets/controls",
       "_view_module_version": "1.5.0",
       "_view_name": "HTMLView",
       "description": "",
       "description_tooltip": null,
       "layout": "IPY_MODEL_daad0cb4248e4bd7b177c9088aae6463",
       "placeholder": "​",
       "style": "IPY_MODEL_6335a0e49e904574bb70b107c30badc8",
       "value": " 1.94k/1.94k [00:00&lt;00:00, 196kB/s]"
      }
     },
     "77de3f952e024547a772947c2fb01f37": {
      "model_module": "@jupyter-widgets/base",
      "model_module_version": "1.2.0",
      "model_name": "LayoutModel",
      "state": {
       "_model_module": "@jupyter-widgets/base",
       "_model_module_version": "1.2.0",
       "_model_name": "LayoutModel",
       "_view_count": null,
       "_view_module": "@jupyter-widgets/base",
       "_view_module_version": "1.2.0",
       "_view_name": "LayoutView",
       "align_content": null,
       "align_items": null,
       "align_self": null,
       "border": null,
       "bottom": null,
       "display": null,
       "flex": null,
       "flex_flow": null,
       "grid_area": null,
       "grid_auto_columns": null,
       "grid_auto_flow": null,
       "grid_auto_rows": null,
       "grid_column": null,
       "grid_gap": null,
       "grid_row": null,
       "grid_template_areas": null,
       "grid_template_columns": null,
       "grid_template_rows": null,
       "height": null,
       "justify_content": null,
       "justify_items": null,
       "left": null,
       "margin": null,
       "max_height": null,
       "max_width": null,
       "min_height": null,
       "min_width": null,
       "object_fit": null,
       "object_position": null,
       "order": null,
       "overflow": null,
       "overflow_x": null,
       "overflow_y": null,
       "padding": null,
       "right": null,
       "top": null,
       "visibility": null,
       "width": null
      }
     },
     "7b8015824e9d46b795ce445c6eb41634": {
      "model_module": "@jupyter-widgets/controls",
      "model_module_version": "1.5.0",
      "model_name": "DescriptionStyleModel",
      "state": {
       "_model_module": "@jupyter-widgets/controls",
       "_model_module_version": "1.5.0",
       "_model_name": "DescriptionStyleModel",
       "_view_count": null,
       "_view_module": "@jupyter-widgets/base",
       "_view_module_version": "1.2.0",
       "_view_name": "StyleView",
       "description_width": ""
      }
     },
     "7daa1a4539ba467ebbcb11d8d49084b7": {
      "model_module": "@jupyter-widgets/controls",
      "model_module_version": "1.5.0",
      "model_name": "ProgressStyleModel",
      "state": {
       "_model_module": "@jupyter-widgets/controls",
       "_model_module_version": "1.5.0",
       "_model_name": "ProgressStyleModel",
       "_view_count": null,
       "_view_module": "@jupyter-widgets/base",
       "_view_module_version": "1.2.0",
       "_view_name": "StyleView",
       "bar_color": null,
       "description_width": ""
      }
     },
     "7ea02deec6754bf29fe81c9b147fd2a4": {
      "model_module": "@jupyter-widgets/controls",
      "model_module_version": "1.5.0",
      "model_name": "HBoxModel",
      "state": {
       "_dom_classes": [],
       "_model_module": "@jupyter-widgets/controls",
       "_model_module_version": "1.5.0",
       "_model_name": "HBoxModel",
       "_view_count": null,
       "_view_module": "@jupyter-widgets/controls",
       "_view_module_version": "1.5.0",
       "_view_name": "HBoxView",
       "box_style": "",
       "children": [
        "IPY_MODEL_89540a4fea8f4b34ae5f67532d3d18db",
        "IPY_MODEL_e6642958821c4309965a61918dc875b0",
        "IPY_MODEL_cfcd4cf1012b435c886dd23329cac0fa"
       ],
       "layout": "IPY_MODEL_46929a6ee204468099232c55ea31a8b5"
      }
     },
     "815513ffb4dc4d17a8d5d71e2033e67d": {
      "model_module": "@jupyter-widgets/controls",
      "model_module_version": "1.5.0",
      "model_name": "HTMLModel",
      "state": {
       "_dom_classes": [],
       "_model_module": "@jupyter-widgets/controls",
       "_model_module_version": "1.5.0",
       "_model_name": "HTMLModel",
       "_view_count": null,
       "_view_module": "@jupyter-widgets/controls",
       "_view_module_version": "1.5.0",
       "_view_name": "HTMLView",
       "description": "",
       "description_tooltip": null,
       "layout": "IPY_MODEL_637dba3276804f619805c4a587432d1c",
       "placeholder": "​",
       "style": "IPY_MODEL_d7a211c5f9cb4c63adf4d264978a9052",
       "value": " 151M/151M [00:00&lt;00:00, 165MB/s]"
      }
     },
     "856f5cb03ae2414eacbcb43aef884015": {
      "model_module": "@jupyter-widgets/base",
      "model_module_version": "1.2.0",
      "model_name": "LayoutModel",
      "state": {
       "_model_module": "@jupyter-widgets/base",
       "_model_module_version": "1.2.0",
       "_model_name": "LayoutModel",
       "_view_count": null,
       "_view_module": "@jupyter-widgets/base",
       "_view_module_version": "1.2.0",
       "_view_name": "LayoutView",
       "align_content": null,
       "align_items": null,
       "align_self": null,
       "border": null,
       "bottom": null,
       "display": null,
       "flex": null,
       "flex_flow": null,
       "grid_area": null,
       "grid_auto_columns": null,
       "grid_auto_flow": null,
       "grid_auto_rows": null,
       "grid_column": null,
       "grid_gap": null,
       "grid_row": null,
       "grid_template_areas": null,
       "grid_template_columns": null,
       "grid_template_rows": null,
       "height": null,
       "justify_content": null,
       "justify_items": null,
       "left": null,
       "margin": null,
       "max_height": null,
       "max_width": null,
       "min_height": null,
       "min_width": null,
       "object_fit": null,
       "object_position": null,
       "order": null,
       "overflow": null,
       "overflow_x": null,
       "overflow_y": null,
       "padding": null,
       "right": null,
       "top": null,
       "visibility": null,
       "width": null
      }
     },
     "87578a473d1b401fad652135b65a51ed": {
      "model_module": "@jupyter-widgets/controls",
      "model_module_version": "1.5.0",
      "model_name": "ProgressStyleModel",
      "state": {
       "_model_module": "@jupyter-widgets/controls",
       "_model_module_version": "1.5.0",
       "_model_name": "ProgressStyleModel",
       "_view_count": null,
       "_view_module": "@jupyter-widgets/base",
       "_view_module_version": "1.2.0",
       "_view_name": "StyleView",
       "bar_color": null,
       "description_width": ""
      }
     },
     "88efce1ac9924b33b245e002ecbd42c1": {
      "model_module": "@jupyter-widgets/base",
      "model_module_version": "1.2.0",
      "model_name": "LayoutModel",
      "state": {
       "_model_module": "@jupyter-widgets/base",
       "_model_module_version": "1.2.0",
       "_model_name": "LayoutModel",
       "_view_count": null,
       "_view_module": "@jupyter-widgets/base",
       "_view_module_version": "1.2.0",
       "_view_name": "LayoutView",
       "align_content": null,
       "align_items": null,
       "align_self": null,
       "border": null,
       "bottom": null,
       "display": null,
       "flex": null,
       "flex_flow": null,
       "grid_area": null,
       "grid_auto_columns": null,
       "grid_auto_flow": null,
       "grid_auto_rows": null,
       "grid_column": null,
       "grid_gap": null,
       "grid_row": null,
       "grid_template_areas": null,
       "grid_template_columns": null,
       "grid_template_rows": null,
       "height": null,
       "justify_content": null,
       "justify_items": null,
       "left": null,
       "margin": null,
       "max_height": null,
       "max_width": null,
       "min_height": null,
       "min_width": null,
       "object_fit": null,
       "object_position": null,
       "order": null,
       "overflow": null,
       "overflow_x": null,
       "overflow_y": null,
       "padding": null,
       "right": null,
       "top": null,
       "visibility": null,
       "width": null
      }
     },
     "89540a4fea8f4b34ae5f67532d3d18db": {
      "model_module": "@jupyter-widgets/controls",
      "model_module_version": "1.5.0",
      "model_name": "HTMLModel",
      "state": {
       "_dom_classes": [],
       "_model_module": "@jupyter-widgets/controls",
       "_model_module_version": "1.5.0",
       "_model_name": "HTMLModel",
       "_view_count": null,
       "_view_module": "@jupyter-widgets/controls",
       "_view_module_version": "1.5.0",
       "_view_name": "HTMLView",
       "description": "",
       "description_tooltip": null,
       "layout": "IPY_MODEL_a26d35d0ebbc46439719cd130dcc0d64",
       "placeholder": "​",
       "style": "IPY_MODEL_7b8015824e9d46b795ce445c6eb41634",
       "value": "vocab.json: 100%"
      }
     },
     "89c17e70b45c413f8b432042778aea7c": {
      "model_module": "@jupyter-widgets/controls",
      "model_module_version": "1.5.0",
      "model_name": "HBoxModel",
      "state": {
       "_dom_classes": [],
       "_model_module": "@jupyter-widgets/controls",
       "_model_module_version": "1.5.0",
       "_model_name": "HBoxModel",
       "_view_count": null,
       "_view_module": "@jupyter-widgets/controls",
       "_view_module_version": "1.5.0",
       "_view_name": "HBoxView",
       "box_style": "",
       "children": [
        "IPY_MODEL_fda52fdc1ee24d2c9e7ab0e72d1837c7",
        "IPY_MODEL_8dea564328424ff9b213e1cf21c55071",
        "IPY_MODEL_0c49d4a2627840e6a278acf336491ce8"
       ],
       "layout": "IPY_MODEL_32419e14171a4684b173c63711ebab1c"
      }
     },
     "8b237317c93f4ed69010b57a5d79d401": {
      "model_module": "@jupyter-widgets/controls",
      "model_module_version": "1.5.0",
      "model_name": "DescriptionStyleModel",
      "state": {
       "_model_module": "@jupyter-widgets/controls",
       "_model_module_version": "1.5.0",
       "_model_name": "DescriptionStyleModel",
       "_view_count": null,
       "_view_module": "@jupyter-widgets/base",
       "_view_module_version": "1.2.0",
       "_view_name": "StyleView",
       "description_width": ""
      }
     },
     "8cdac44402f445fa9311f932c8e565fe": {
      "model_module": "@jupyter-widgets/base",
      "model_module_version": "1.2.0",
      "model_name": "LayoutModel",
      "state": {
       "_model_module": "@jupyter-widgets/base",
       "_model_module_version": "1.2.0",
       "_model_name": "LayoutModel",
       "_view_count": null,
       "_view_module": "@jupyter-widgets/base",
       "_view_module_version": "1.2.0",
       "_view_name": "LayoutView",
       "align_content": null,
       "align_items": null,
       "align_self": null,
       "border": null,
       "bottom": null,
       "display": null,
       "flex": null,
       "flex_flow": null,
       "grid_area": null,
       "grid_auto_columns": null,
       "grid_auto_flow": null,
       "grid_auto_rows": null,
       "grid_column": null,
       "grid_gap": null,
       "grid_row": null,
       "grid_template_areas": null,
       "grid_template_columns": null,
       "grid_template_rows": null,
       "height": null,
       "justify_content": null,
       "justify_items": null,
       "left": null,
       "margin": null,
       "max_height": null,
       "max_width": null,
       "min_height": null,
       "min_width": null,
       "object_fit": null,
       "object_position": null,
       "order": null,
       "overflow": null,
       "overflow_x": null,
       "overflow_y": null,
       "padding": null,
       "right": null,
       "top": null,
       "visibility": null,
       "width": null
      }
     },
     "8dea564328424ff9b213e1cf21c55071": {
      "model_module": "@jupyter-widgets/controls",
      "model_module_version": "1.5.0",
      "model_name": "FloatProgressModel",
      "state": {
       "_dom_classes": [],
       "_model_module": "@jupyter-widgets/controls",
       "_model_module_version": "1.5.0",
       "_model_name": "FloatProgressModel",
       "_view_count": null,
       "_view_module": "@jupyter-widgets/controls",
       "_view_module_version": "1.5.0",
       "_view_name": "ProgressView",
       "bar_style": "success",
       "description": "",
       "description_tooltip": null,
       "layout": "IPY_MODEL_856f5cb03ae2414eacbcb43aef884015",
       "max": 34604.0,
       "min": 0.0,
       "orientation": "horizontal",
       "style": "IPY_MODEL_c15ee07f650d4cec9dbd858bc5018d02",
       "value": 34604.0
      }
     },
     "8e5f2cdbedea48f9a429b3c104765b87": {
      "model_module": "@jupyter-widgets/controls",
      "model_module_version": "1.5.0",
      "model_name": "DescriptionStyleModel",
      "state": {
       "_model_module": "@jupyter-widgets/controls",
       "_model_module_version": "1.5.0",
       "_model_name": "DescriptionStyleModel",
       "_view_count": null,
       "_view_module": "@jupyter-widgets/base",
       "_view_module_version": "1.2.0",
       "_view_name": "StyleView",
       "description_width": ""
      }
     },
     "9a18c5e6e0c8459aa5e1a91e038ae2e2": {
      "model_module": "@jupyter-widgets/base",
      "model_module_version": "1.2.0",
      "model_name": "LayoutModel",
      "state": {
       "_model_module": "@jupyter-widgets/base",
       "_model_module_version": "1.2.0",
       "_model_name": "LayoutModel",
       "_view_count": null,
       "_view_module": "@jupyter-widgets/base",
       "_view_module_version": "1.2.0",
       "_view_name": "LayoutView",
       "align_content": null,
       "align_items": null,
       "align_self": null,
       "border": null,
       "bottom": null,
       "display": null,
       "flex": null,
       "flex_flow": null,
       "grid_area": null,
       "grid_auto_columns": null,
       "grid_auto_flow": null,
       "grid_auto_rows": null,
       "grid_column": null,
       "grid_gap": null,
       "grid_row": null,
       "grid_template_areas": null,
       "grid_template_columns": null,
       "grid_template_rows": null,
       "height": null,
       "justify_content": null,
       "justify_items": null,
       "left": null,
       "margin": null,
       "max_height": null,
       "max_width": null,
       "min_height": null,
       "min_width": null,
       "object_fit": null,
       "object_position": null,
       "order": null,
       "overflow": null,
       "overflow_x": null,
       "overflow_y": null,
       "padding": null,
       "right": null,
       "top": null,
       "visibility": null,
       "width": null
      }
     },
     "9d4d34de318a405b8b0c635fa4b3736a": {
      "model_module": "@jupyter-widgets/base",
      "model_module_version": "1.2.0",
      "model_name": "LayoutModel",
      "state": {
       "_model_module": "@jupyter-widgets/base",
       "_model_module_version": "1.2.0",
       "_model_name": "LayoutModel",
       "_view_count": null,
       "_view_module": "@jupyter-widgets/base",
       "_view_module_version": "1.2.0",
       "_view_name": "LayoutView",
       "align_content": null,
       "align_items": null,
       "align_self": null,
       "border": null,
       "bottom": null,
       "display": null,
       "flex": null,
       "flex_flow": null,
       "grid_area": null,
       "grid_auto_columns": null,
       "grid_auto_flow": null,
       "grid_auto_rows": null,
       "grid_column": null,
       "grid_gap": null,
       "grid_row": null,
       "grid_template_areas": null,
       "grid_template_columns": null,
       "grid_template_rows": null,
       "height": null,
       "justify_content": null,
       "justify_items": null,
       "left": null,
       "margin": null,
       "max_height": null,
       "max_width": null,
       "min_height": null,
       "min_width": null,
       "object_fit": null,
       "object_position": null,
       "order": null,
       "overflow": null,
       "overflow_x": null,
       "overflow_y": null,
       "padding": null,
       "right": null,
       "top": null,
       "visibility": null,
       "width": null
      }
     },
     "9fa85949e4cd4bf7b6400e11be64170d": {
      "model_module": "@jupyter-widgets/controls",
      "model_module_version": "1.5.0",
      "model_name": "DescriptionStyleModel",
      "state": {
       "_model_module": "@jupyter-widgets/controls",
       "_model_module_version": "1.5.0",
       "_model_name": "DescriptionStyleModel",
       "_view_count": null,
       "_view_module": "@jupyter-widgets/base",
       "_view_module_version": "1.2.0",
       "_view_name": "StyleView",
       "description_width": ""
      }
     },
     "a01e43cd3e664b0eaa2d14d9be7b51fa": {
      "model_module": "@jupyter-widgets/base",
      "model_module_version": "1.2.0",
      "model_name": "LayoutModel",
      "state": {
       "_model_module": "@jupyter-widgets/base",
       "_model_module_version": "1.2.0",
       "_model_name": "LayoutModel",
       "_view_count": null,
       "_view_module": "@jupyter-widgets/base",
       "_view_module_version": "1.2.0",
       "_view_name": "LayoutView",
       "align_content": null,
       "align_items": null,
       "align_self": null,
       "border": null,
       "bottom": null,
       "display": null,
       "flex": null,
       "flex_flow": null,
       "grid_area": null,
       "grid_auto_columns": null,
       "grid_auto_flow": null,
       "grid_auto_rows": null,
       "grid_column": null,
       "grid_gap": null,
       "grid_row": null,
       "grid_template_areas": null,
       "grid_template_columns": null,
       "grid_template_rows": null,
       "height": null,
       "justify_content": null,
       "justify_items": null,
       "left": null,
       "margin": null,
       "max_height": null,
       "max_width": null,
       "min_height": null,
       "min_width": null,
       "object_fit": null,
       "object_position": null,
       "order": null,
       "overflow": null,
       "overflow_x": null,
       "overflow_y": null,
       "padding": null,
       "right": null,
       "top": null,
       "visibility": null,
       "width": null
      }
     },
     "a09fd83d5f904df08ac6239aa3a6e9b8": {
      "model_module": "@jupyter-widgets/controls",
      "model_module_version": "1.5.0",
      "model_name": "ProgressStyleModel",
      "state": {
       "_model_module": "@jupyter-widgets/controls",
       "_model_module_version": "1.5.0",
       "_model_name": "ProgressStyleModel",
       "_view_count": null,
       "_view_module": "@jupyter-widgets/base",
       "_view_module_version": "1.2.0",
       "_view_name": "StyleView",
       "bar_color": null,
       "description_width": ""
      }
     },
     "a24244bfb53a4855a485c9354c023b91": {
      "model_module": "@jupyter-widgets/controls",
      "model_module_version": "1.5.0",
      "model_name": "DescriptionStyleModel",
      "state": {
       "_model_module": "@jupyter-widgets/controls",
       "_model_module_version": "1.5.0",
       "_model_name": "DescriptionStyleModel",
       "_view_count": null,
       "_view_module": "@jupyter-widgets/base",
       "_view_module_version": "1.2.0",
       "_view_name": "StyleView",
       "description_width": ""
      }
     },
     "a26d35d0ebbc46439719cd130dcc0d64": {
      "model_module": "@jupyter-widgets/base",
      "model_module_version": "1.2.0",
      "model_name": "LayoutModel",
      "state": {
       "_model_module": "@jupyter-widgets/base",
       "_model_module_version": "1.2.0",
       "_model_name": "LayoutModel",
       "_view_count": null,
       "_view_module": "@jupyter-widgets/base",
       "_view_module_version": "1.2.0",
       "_view_name": "LayoutView",
       "align_content": null,
       "align_items": null,
       "align_self": null,
       "border": null,
       "bottom": null,
       "display": null,
       "flex": null,
       "flex_flow": null,
       "grid_area": null,
       "grid_auto_columns": null,
       "grid_auto_flow": null,
       "grid_auto_rows": null,
       "grid_column": null,
       "grid_gap": null,
       "grid_row": null,
       "grid_template_areas": null,
       "grid_template_columns": null,
       "grid_template_rows": null,
       "height": null,
       "justify_content": null,
       "justify_items": null,
       "left": null,
       "margin": null,
       "max_height": null,
       "max_width": null,
       "min_height": null,
       "min_width": null,
       "object_fit": null,
       "object_position": null,
       "order": null,
       "overflow": null,
       "overflow_x": null,
       "overflow_y": null,
       "padding": null,
       "right": null,
       "top": null,
       "visibility": null,
       "width": null
      }
     },
     "a963b7a4caf848f4a21a98021b62ccf7": {
      "model_module": "@jupyter-widgets/controls",
      "model_module_version": "1.5.0",
      "model_name": "DescriptionStyleModel",
      "state": {
       "_model_module": "@jupyter-widgets/controls",
       "_model_module_version": "1.5.0",
       "_model_name": "DescriptionStyleModel",
       "_view_count": null,
       "_view_module": "@jupyter-widgets/base",
       "_view_module_version": "1.2.0",
       "_view_name": "StyleView",
       "description_width": ""
      }
     },
     "a9ff0144c79140f8916d65c7e77c187b": {
      "model_module": "@jupyter-widgets/controls",
      "model_module_version": "1.5.0",
      "model_name": "DescriptionStyleModel",
      "state": {
       "_model_module": "@jupyter-widgets/controls",
       "_model_module_version": "1.5.0",
       "_model_name": "DescriptionStyleModel",
       "_view_count": null,
       "_view_module": "@jupyter-widgets/base",
       "_view_module_version": "1.2.0",
       "_view_name": "StyleView",
       "description_width": ""
      }
     },
     "a9ff97caa39c4b0282bebccfdfc5ac17": {
      "model_module": "@jupyter-widgets/controls",
      "model_module_version": "1.5.0",
      "model_name": "ProgressStyleModel",
      "state": {
       "_model_module": "@jupyter-widgets/controls",
       "_model_module_version": "1.5.0",
       "_model_name": "ProgressStyleModel",
       "_view_count": null,
       "_view_module": "@jupyter-widgets/base",
       "_view_module_version": "1.2.0",
       "_view_name": "StyleView",
       "bar_color": null,
       "description_width": ""
      }
     },
     "adcc891570c54a2abf80d6a94ca506df": {
      "model_module": "@jupyter-widgets/controls",
      "model_module_version": "1.5.0",
      "model_name": "DescriptionStyleModel",
      "state": {
       "_model_module": "@jupyter-widgets/controls",
       "_model_module_version": "1.5.0",
       "_model_name": "DescriptionStyleModel",
       "_view_count": null,
       "_view_module": "@jupyter-widgets/base",
       "_view_module_version": "1.2.0",
       "_view_name": "StyleView",
       "description_width": ""
      }
     },
     "ae4fdc74e1844c5fa47eb35c8d3af59d": {
      "model_module": "@jupyter-widgets/base",
      "model_module_version": "1.2.0",
      "model_name": "LayoutModel",
      "state": {
       "_model_module": "@jupyter-widgets/base",
       "_model_module_version": "1.2.0",
       "_model_name": "LayoutModel",
       "_view_count": null,
       "_view_module": "@jupyter-widgets/base",
       "_view_module_version": "1.2.0",
       "_view_name": "LayoutView",
       "align_content": null,
       "align_items": null,
       "align_self": null,
       "border": null,
       "bottom": null,
       "display": null,
       "flex": null,
       "flex_flow": null,
       "grid_area": null,
       "grid_auto_columns": null,
       "grid_auto_flow": null,
       "grid_auto_rows": null,
       "grid_column": null,
       "grid_gap": null,
       "grid_row": null,
       "grid_template_areas": null,
       "grid_template_columns": null,
       "grid_template_rows": null,
       "height": null,
       "justify_content": null,
       "justify_items": null,
       "left": null,
       "margin": null,
       "max_height": null,
       "max_width": null,
       "min_height": null,
       "min_width": null,
       "object_fit": null,
       "object_position": null,
       "order": null,
       "overflow": null,
       "overflow_x": null,
       "overflow_y": null,
       "padding": null,
       "right": null,
       "top": null,
       "visibility": null,
       "width": null
      }
     },
     "b2303c8f97d54f0392d9b74d16982526": {
      "model_module": "@jupyter-widgets/controls",
      "model_module_version": "1.5.0",
      "model_name": "HBoxModel",
      "state": {
       "_dom_classes": [],
       "_model_module": "@jupyter-widgets/controls",
       "_model_module_version": "1.5.0",
       "_model_name": "HBoxModel",
       "_view_count": null,
       "_view_module": "@jupyter-widgets/controls",
       "_view_module_version": "1.5.0",
       "_view_name": "HBoxView",
       "box_style": "",
       "children": [
        "IPY_MODEL_c7a542d5e27f40aca80ce127cd65240a",
        "IPY_MODEL_65d1c38ed12e441595be6523179f1ee8",
        "IPY_MODEL_e189f4b53d8f4446bb58c75b51107930"
       ],
       "layout": "IPY_MODEL_77de3f952e024547a772947c2fb01f37"
      }
     },
     "b3574bd649634e99bf9f93b173a9a49a": {
      "model_module": "@jupyter-widgets/base",
      "model_module_version": "1.2.0",
      "model_name": "LayoutModel",
      "state": {
       "_model_module": "@jupyter-widgets/base",
       "_model_module_version": "1.2.0",
       "_model_name": "LayoutModel",
       "_view_count": null,
       "_view_module": "@jupyter-widgets/base",
       "_view_module_version": "1.2.0",
       "_view_name": "LayoutView",
       "align_content": null,
       "align_items": null,
       "align_self": null,
       "border": null,
       "bottom": null,
       "display": null,
       "flex": null,
       "flex_flow": null,
       "grid_area": null,
       "grid_auto_columns": null,
       "grid_auto_flow": null,
       "grid_auto_rows": null,
       "grid_column": null,
       "grid_gap": null,
       "grid_row": null,
       "grid_template_areas": null,
       "grid_template_columns": null,
       "grid_template_rows": null,
       "height": null,
       "justify_content": null,
       "justify_items": null,
       "left": null,
       "margin": null,
       "max_height": null,
       "max_width": null,
       "min_height": null,
       "min_width": null,
       "object_fit": null,
       "object_position": null,
       "order": null,
       "overflow": null,
       "overflow_x": null,
       "overflow_y": null,
       "padding": null,
       "right": null,
       "top": null,
       "visibility": null,
       "width": null
      }
     },
     "b800649e753647b8ac691352d777e516": {
      "model_module": "@jupyter-widgets/base",
      "model_module_version": "1.2.0",
      "model_name": "LayoutModel",
      "state": {
       "_model_module": "@jupyter-widgets/base",
       "_model_module_version": "1.2.0",
       "_model_name": "LayoutModel",
       "_view_count": null,
       "_view_module": "@jupyter-widgets/base",
       "_view_module_version": "1.2.0",
       "_view_name": "LayoutView",
       "align_content": null,
       "align_items": null,
       "align_self": null,
       "border": null,
       "bottom": null,
       "display": null,
       "flex": null,
       "flex_flow": null,
       "grid_area": null,
       "grid_auto_columns": null,
       "grid_auto_flow": null,
       "grid_auto_rows": null,
       "grid_column": null,
       "grid_gap": null,
       "grid_row": null,
       "grid_template_areas": null,
       "grid_template_columns": null,
       "grid_template_rows": null,
       "height": null,
       "justify_content": null,
       "justify_items": null,
       "left": null,
       "margin": null,
       "max_height": null,
       "max_width": null,
       "min_height": null,
       "min_width": null,
       "object_fit": null,
       "object_position": null,
       "order": null,
       "overflow": null,
       "overflow_x": null,
       "overflow_y": null,
       "padding": null,
       "right": null,
       "top": null,
       "visibility": null,
       "width": null
      }
     },
     "b8593b5e46ef458a8fd57fddc49a9695": {
      "model_module": "@jupyter-widgets/controls",
      "model_module_version": "1.5.0",
      "model_name": "HBoxModel",
      "state": {
       "_dom_classes": [],
       "_model_module": "@jupyter-widgets/controls",
       "_model_module_version": "1.5.0",
       "_model_name": "HBoxModel",
       "_view_count": null,
       "_view_module": "@jupyter-widgets/controls",
       "_view_module_version": "1.5.0",
       "_view_name": "HBoxView",
       "box_style": "",
       "children": [
        "IPY_MODEL_51a969a10dcc4dde9a4d025d2437609e",
        "IPY_MODEL_2d97f1dc4fcd4e19b791a55975eb6e6c",
        "IPY_MODEL_03424c2fe654448996666c3c7d6bd965"
       ],
       "layout": "IPY_MODEL_b800649e753647b8ac691352d777e516"
      }
     },
     "b862cf9336404b0f95a8dc31892308d6": {
      "model_module": "@jupyter-widgets/base",
      "model_module_version": "1.2.0",
      "model_name": "LayoutModel",
      "state": {
       "_model_module": "@jupyter-widgets/base",
       "_model_module_version": "1.2.0",
       "_model_name": "LayoutModel",
       "_view_count": null,
       "_view_module": "@jupyter-widgets/base",
       "_view_module_version": "1.2.0",
       "_view_name": "LayoutView",
       "align_content": null,
       "align_items": null,
       "align_self": null,
       "border": null,
       "bottom": null,
       "display": null,
       "flex": null,
       "flex_flow": null,
       "grid_area": null,
       "grid_auto_columns": null,
       "grid_auto_flow": null,
       "grid_auto_rows": null,
       "grid_column": null,
       "grid_gap": null,
       "grid_row": null,
       "grid_template_areas": null,
       "grid_template_columns": null,
       "grid_template_rows": null,
       "height": null,
       "justify_content": null,
       "justify_items": null,
       "left": null,
       "margin": null,
       "max_height": null,
       "max_width": null,
       "min_height": null,
       "min_width": null,
       "object_fit": null,
       "object_position": null,
       "order": null,
       "overflow": null,
       "overflow_x": null,
       "overflow_y": null,
       "padding": null,
       "right": null,
       "top": null,
       "visibility": null,
       "width": null
      }
     },
     "b9733af915764cf4bb713227f90ebef4": {
      "model_module": "@jupyter-widgets/base",
      "model_module_version": "1.2.0",
      "model_name": "LayoutModel",
      "state": {
       "_model_module": "@jupyter-widgets/base",
       "_model_module_version": "1.2.0",
       "_model_name": "LayoutModel",
       "_view_count": null,
       "_view_module": "@jupyter-widgets/base",
       "_view_module_version": "1.2.0",
       "_view_name": "LayoutView",
       "align_content": null,
       "align_items": null,
       "align_self": null,
       "border": null,
       "bottom": null,
       "display": null,
       "flex": null,
       "flex_flow": null,
       "grid_area": null,
       "grid_auto_columns": null,
       "grid_auto_flow": null,
       "grid_auto_rows": null,
       "grid_column": null,
       "grid_gap": null,
       "grid_row": null,
       "grid_template_areas": null,
       "grid_template_columns": null,
       "grid_template_rows": null,
       "height": null,
       "justify_content": null,
       "justify_items": null,
       "left": null,
       "margin": null,
       "max_height": null,
       "max_width": null,
       "min_height": null,
       "min_width": null,
       "object_fit": null,
       "object_position": null,
       "order": null,
       "overflow": null,
       "overflow_x": null,
       "overflow_y": null,
       "padding": null,
       "right": null,
       "top": null,
       "visibility": null,
       "width": null
      }
     },
     "c15ee07f650d4cec9dbd858bc5018d02": {
      "model_module": "@jupyter-widgets/controls",
      "model_module_version": "1.5.0",
      "model_name": "ProgressStyleModel",
      "state": {
       "_model_module": "@jupyter-widgets/controls",
       "_model_module_version": "1.5.0",
       "_model_name": "ProgressStyleModel",
       "_view_count": null,
       "_view_module": "@jupyter-widgets/base",
       "_view_module_version": "1.2.0",
       "_view_name": "StyleView",
       "bar_color": null,
       "description_width": ""
      }
     },
     "c339a7531e884dfeb3226bf7a8c74999": {
      "model_module": "@jupyter-widgets/controls",
      "model_module_version": "1.5.0",
      "model_name": "FloatProgressModel",
      "state": {
       "_dom_classes": [],
       "_model_module": "@jupyter-widgets/controls",
       "_model_module_version": "1.5.0",
       "_model_name": "FloatProgressModel",
       "_view_count": null,
       "_view_module": "@jupyter-widgets/controls",
       "_view_module_version": "1.5.0",
       "_view_name": "ProgressView",
       "bar_style": "success",
       "description": "",
       "description_tooltip": null,
       "layout": "IPY_MODEL_1ad877320dca4a32ae2db727db57a814",
       "max": 1937.0,
       "min": 0.0,
       "orientation": "horizontal",
       "style": "IPY_MODEL_a9ff97caa39c4b0282bebccfdfc5ac17",
       "value": 1937.0
      }
     },
     "c3673a7b44a741d7aacf3eb9c4d2d004": {
      "model_module": "@jupyter-widgets/controls",
      "model_module_version": "1.5.0",
      "model_name": "DescriptionStyleModel",
      "state": {
       "_model_module": "@jupyter-widgets/controls",
       "_model_module_version": "1.5.0",
       "_model_name": "DescriptionStyleModel",
       "_view_count": null,
       "_view_module": "@jupyter-widgets/base",
       "_view_module_version": "1.2.0",
       "_view_name": "StyleView",
       "description_width": ""
      }
     },
     "c3fa04cd3afa4a8f985e1305cba5ce2e": {
      "model_module": "@jupyter-widgets/controls",
      "model_module_version": "1.5.0",
      "model_name": "DescriptionStyleModel",
      "state": {
       "_model_module": "@jupyter-widgets/controls",
       "_model_module_version": "1.5.0",
       "_model_name": "DescriptionStyleModel",
       "_view_count": null,
       "_view_module": "@jupyter-widgets/base",
       "_view_module_version": "1.2.0",
       "_view_name": "StyleView",
       "description_width": ""
      }
     },
     "c62043d000024e2e89678c2a8b1eac29": {
      "model_module": "@jupyter-widgets/base",
      "model_module_version": "1.2.0",
      "model_name": "LayoutModel",
      "state": {
       "_model_module": "@jupyter-widgets/base",
       "_model_module_version": "1.2.0",
       "_model_name": "LayoutModel",
       "_view_count": null,
       "_view_module": "@jupyter-widgets/base",
       "_view_module_version": "1.2.0",
       "_view_name": "LayoutView",
       "align_content": null,
       "align_items": null,
       "align_self": null,
       "border": null,
       "bottom": null,
       "display": null,
       "flex": null,
       "flex_flow": null,
       "grid_area": null,
       "grid_auto_columns": null,
       "grid_auto_flow": null,
       "grid_auto_rows": null,
       "grid_column": null,
       "grid_gap": null,
       "grid_row": null,
       "grid_template_areas": null,
       "grid_template_columns": null,
       "grid_template_rows": null,
       "height": null,
       "justify_content": null,
       "justify_items": null,
       "left": null,
       "margin": null,
       "max_height": null,
       "max_width": null,
       "min_height": null,
       "min_width": null,
       "object_fit": null,
       "object_position": null,
       "order": null,
       "overflow": null,
       "overflow_x": null,
       "overflow_y": null,
       "padding": null,
       "right": null,
       "top": null,
       "visibility": null,
       "width": null
      }
     },
     "c671cc61a7b44da19685a896f1b7cc31": {
      "model_module": "@jupyter-widgets/base",
      "model_module_version": "1.2.0",
      "model_name": "LayoutModel",
      "state": {
       "_model_module": "@jupyter-widgets/base",
       "_model_module_version": "1.2.0",
       "_model_name": "LayoutModel",
       "_view_count": null,
       "_view_module": "@jupyter-widgets/base",
       "_view_module_version": "1.2.0",
       "_view_name": "LayoutView",
       "align_content": null,
       "align_items": null,
       "align_self": null,
       "border": null,
       "bottom": null,
       "display": null,
       "flex": null,
       "flex_flow": null,
       "grid_area": null,
       "grid_auto_columns": null,
       "grid_auto_flow": null,
       "grid_auto_rows": null,
       "grid_column": null,
       "grid_gap": null,
       "grid_row": null,
       "grid_template_areas": null,
       "grid_template_columns": null,
       "grid_template_rows": null,
       "height": null,
       "justify_content": null,
       "justify_items": null,
       "left": null,
       "margin": null,
       "max_height": null,
       "max_width": null,
       "min_height": null,
       "min_width": null,
       "object_fit": null,
       "object_position": null,
       "order": null,
       "overflow": null,
       "overflow_x": null,
       "overflow_y": null,
       "padding": null,
       "right": null,
       "top": null,
       "visibility": null,
       "width": null
      }
     },
     "c7a542d5e27f40aca80ce127cd65240a": {
      "model_module": "@jupyter-widgets/controls",
      "model_module_version": "1.5.0",
      "model_name": "HTMLModel",
      "state": {
       "_dom_classes": [],
       "_model_module": "@jupyter-widgets/controls",
       "_model_module_version": "1.5.0",
       "_model_name": "HTMLModel",
       "_view_count": null,
       "_view_module": "@jupyter-widgets/controls",
       "_view_module_version": "1.5.0",
       "_view_name": "HTMLView",
       "description": "",
       "description_tooltip": null,
       "layout": "IPY_MODEL_a01e43cd3e664b0eaa2d14d9be7b51fa",
       "placeholder": "​",
       "style": "IPY_MODEL_c3fa04cd3afa4a8f985e1305cba5ce2e",
       "value": "normalizer.json: 100%"
      }
     },
     "c9d8f2f1a3604d21a714e540dc3198cd": {
      "model_module": "@jupyter-widgets/base",
      "model_module_version": "1.2.0",
      "model_name": "LayoutModel",
      "state": {
       "_model_module": "@jupyter-widgets/base",
       "_model_module_version": "1.2.0",
       "_model_name": "LayoutModel",
       "_view_count": null,
       "_view_module": "@jupyter-widgets/base",
       "_view_module_version": "1.2.0",
       "_view_name": "LayoutView",
       "align_content": null,
       "align_items": null,
       "align_self": null,
       "border": null,
       "bottom": null,
       "display": null,
       "flex": null,
       "flex_flow": null,
       "grid_area": null,
       "grid_auto_columns": null,
       "grid_auto_flow": null,
       "grid_auto_rows": null,
       "grid_column": null,
       "grid_gap": null,
       "grid_row": null,
       "grid_template_areas": null,
       "grid_template_columns": null,
       "grid_template_rows": null,
       "height": null,
       "justify_content": null,
       "justify_items": null,
       "left": null,
       "margin": null,
       "max_height": null,
       "max_width": null,
       "min_height": null,
       "min_width": null,
       "object_fit": null,
       "object_position": null,
       "order": null,
       "overflow": null,
       "overflow_x": null,
       "overflow_y": null,
       "padding": null,
       "right": null,
       "top": null,
       "visibility": null,
       "width": null
      }
     },
     "cb2327b30519402ebf6df7283a1f1fe7": {
      "model_module": "@jupyter-widgets/controls",
      "model_module_version": "1.5.0",
      "model_name": "HBoxModel",
      "state": {
       "_dom_classes": [],
       "_model_module": "@jupyter-widgets/controls",
       "_model_module_version": "1.5.0",
       "_model_name": "HBoxModel",
       "_view_count": null,
       "_view_module": "@jupyter-widgets/controls",
       "_view_module_version": "1.5.0",
       "_view_name": "HBoxView",
       "box_style": "",
       "children": [
        "IPY_MODEL_cd49cea7951644bfa5af4457026a575e",
        "IPY_MODEL_07ebd705bf9d4f5c8bce291d29ed340f",
        "IPY_MODEL_e9547e7e32ce4bc7b969c5c8970866cb"
       ],
       "layout": "IPY_MODEL_0a7a8f66f5e44f92ac98e760512bb809"
      }
     },
     "cb691c0b34624727a3518db6256ef298": {
      "model_module": "@jupyter-widgets/controls",
      "model_module_version": "1.5.0",
      "model_name": "HTMLModel",
      "state": {
       "_dom_classes": [],
       "_model_module": "@jupyter-widgets/controls",
       "_model_module_version": "1.5.0",
       "_model_name": "HTMLModel",
       "_view_count": null,
       "_view_module": "@jupyter-widgets/controls",
       "_view_module_version": "1.5.0",
       "_view_name": "HTMLView",
       "description": "",
       "description_tooltip": null,
       "layout": "IPY_MODEL_c62043d000024e2e89678c2a8b1eac29",
       "placeholder": "​",
       "style": "IPY_MODEL_2d71f9afb05a46c0836a16ade204a9ed",
       "value": "tokenizer_config.json: 100%"
      }
     },
     "cd49cea7951644bfa5af4457026a575e": {
      "model_module": "@jupyter-widgets/controls",
      "model_module_version": "1.5.0",
      "model_name": "HTMLModel",
      "state": {
       "_dom_classes": [],
       "_model_module": "@jupyter-widgets/controls",
       "_model_module_version": "1.5.0",
       "_model_name": "HTMLModel",
       "_view_count": null,
       "_view_module": "@jupyter-widgets/controls",
       "_view_module_version": "1.5.0",
       "_view_name": "HTMLView",
       "description": "",
       "description_tooltip": null,
       "layout": "IPY_MODEL_34f1ad53d7e94504883c3850df2e760b",
       "placeholder": "​",
       "style": "IPY_MODEL_d55711ba3f2440169b76798cf9552b42",
       "value": "generation_config.json: 100%"
      }
     },
     "ced7bee500bc46d2a9e8466e3d5220e7": {
      "model_module": "@jupyter-widgets/controls",
      "model_module_version": "1.5.0",
      "model_name": "HBoxModel",
      "state": {
       "_dom_classes": [],
       "_model_module": "@jupyter-widgets/controls",
       "_model_module_version": "1.5.0",
       "_model_name": "HBoxModel",
       "_view_count": null,
       "_view_module": "@jupyter-widgets/controls",
       "_view_module_version": "1.5.0",
       "_view_name": "HBoxView",
       "box_style": "",
       "children": [
        "IPY_MODEL_4c1bdf22878f4960aba46641aaa5c54f",
        "IPY_MODEL_c339a7531e884dfeb3226bf7a8c74999",
        "IPY_MODEL_750720b19e7a40b18cb8a4c19baf22d4"
       ],
       "layout": "IPY_MODEL_07626d450ace423e91fe1f42716c4be3"
      }
     },
     "cf497851fb70494594677cb55e84752f": {
      "model_module": "@jupyter-widgets/controls",
      "model_module_version": "1.5.0",
      "model_name": "HTMLModel",
      "state": {
       "_dom_classes": [],
       "_model_module": "@jupyter-widgets/controls",
       "_model_module_version": "1.5.0",
       "_model_name": "HTMLModel",
       "_view_count": null,
       "_view_module": "@jupyter-widgets/controls",
       "_view_module_version": "1.5.0",
       "_view_name": "HTMLView",
       "description": "",
       "description_tooltip": null,
       "layout": "IPY_MODEL_ed65e87b8fa64b2ebe30ff3a760c3e97",
       "placeholder": "​",
       "style": "IPY_MODEL_9fa85949e4cd4bf7b6400e11be64170d",
       "value": " 456k/456k [00:00&lt;00:00, 11.1MB/s]"
      }
     },
     "cfcd4cf1012b435c886dd23329cac0fa": {
      "model_module": "@jupyter-widgets/controls",
      "model_module_version": "1.5.0",
      "model_name": "HTMLModel",
      "state": {
       "_dom_classes": [],
       "_model_module": "@jupyter-widgets/controls",
       "_model_module_version": "1.5.0",
       "_model_name": "HTMLModel",
       "_view_count": null,
       "_view_module": "@jupyter-widgets/controls",
       "_view_module_version": "1.5.0",
       "_view_name": "HTMLView",
       "description": "",
       "description_tooltip": null,
       "layout": "IPY_MODEL_34146d3e043a48d98d79565b04664fbc",
       "placeholder": "​",
       "style": "IPY_MODEL_eeb653a717d24608a7f144ec834f04b2",
       "value": " 798k/798k [00:00&lt;00:00, 24.8MB/s]"
      }
     },
     "d4d2feea11d34df7905a5f821293c14f": {
      "model_module": "@jupyter-widgets/base",
      "model_module_version": "1.2.0",
      "model_name": "LayoutModel",
      "state": {
       "_model_module": "@jupyter-widgets/base",
       "_model_module_version": "1.2.0",
       "_model_name": "LayoutModel",
       "_view_count": null,
       "_view_module": "@jupyter-widgets/base",
       "_view_module_version": "1.2.0",
       "_view_name": "LayoutView",
       "align_content": null,
       "align_items": null,
       "align_self": null,
       "border": null,
       "bottom": null,
       "display": null,
       "flex": null,
       "flex_flow": null,
       "grid_area": null,
       "grid_auto_columns": null,
       "grid_auto_flow": null,
       "grid_auto_rows": null,
       "grid_column": null,
       "grid_gap": null,
       "grid_row": null,
       "grid_template_areas": null,
       "grid_template_columns": null,
       "grid_template_rows": null,
       "height": null,
       "justify_content": null,
       "justify_items": null,
       "left": null,
       "margin": null,
       "max_height": null,
       "max_width": null,
       "min_height": null,
       "min_width": null,
       "object_fit": null,
       "object_position": null,
       "order": null,
       "overflow": null,
       "overflow_x": null,
       "overflow_y": null,
       "padding": null,
       "right": null,
       "top": null,
       "visibility": null,
       "width": null
      }
     },
     "d55711ba3f2440169b76798cf9552b42": {
      "model_module": "@jupyter-widgets/controls",
      "model_module_version": "1.5.0",
      "model_name": "DescriptionStyleModel",
      "state": {
       "_model_module": "@jupyter-widgets/controls",
       "_model_module_version": "1.5.0",
       "_model_name": "DescriptionStyleModel",
       "_view_count": null,
       "_view_module": "@jupyter-widgets/base",
       "_view_module_version": "1.2.0",
       "_view_name": "StyleView",
       "description_width": ""
      }
     },
     "d6bb3ad2be704d6c9ef7c232132aae61": {
      "model_module": "@jupyter-widgets/controls",
      "model_module_version": "1.5.0",
      "model_name": "ProgressStyleModel",
      "state": {
       "_model_module": "@jupyter-widgets/controls",
       "_model_module_version": "1.5.0",
       "_model_name": "ProgressStyleModel",
       "_view_count": null,
       "_view_module": "@jupyter-widgets/base",
       "_view_module_version": "1.2.0",
       "_view_name": "StyleView",
       "bar_color": null,
       "description_width": ""
      }
     },
     "d7a211c5f9cb4c63adf4d264978a9052": {
      "model_module": "@jupyter-widgets/controls",
      "model_module_version": "1.5.0",
      "model_name": "DescriptionStyleModel",
      "state": {
       "_model_module": "@jupyter-widgets/controls",
       "_model_module_version": "1.5.0",
       "_model_name": "DescriptionStyleModel",
       "_view_count": null,
       "_view_module": "@jupyter-widgets/base",
       "_view_module_version": "1.2.0",
       "_view_name": "StyleView",
       "description_width": ""
      }
     },
     "daad0cb4248e4bd7b177c9088aae6463": {
      "model_module": "@jupyter-widgets/base",
      "model_module_version": "1.2.0",
      "model_name": "LayoutModel",
      "state": {
       "_model_module": "@jupyter-widgets/base",
       "_model_module_version": "1.2.0",
       "_model_name": "LayoutModel",
       "_view_count": null,
       "_view_module": "@jupyter-widgets/base",
       "_view_module_version": "1.2.0",
       "_view_name": "LayoutView",
       "align_content": null,
       "align_items": null,
       "align_self": null,
       "border": null,
       "bottom": null,
       "display": null,
       "flex": null,
       "flex_flow": null,
       "grid_area": null,
       "grid_auto_columns": null,
       "grid_auto_flow": null,
       "grid_auto_rows": null,
       "grid_column": null,
       "grid_gap": null,
       "grid_row": null,
       "grid_template_areas": null,
       "grid_template_columns": null,
       "grid_template_rows": null,
       "height": null,
       "justify_content": null,
       "justify_items": null,
       "left": null,
       "margin": null,
       "max_height": null,
       "max_width": null,
       "min_height": null,
       "min_width": null,
       "object_fit": null,
       "object_position": null,
       "order": null,
       "overflow": null,
       "overflow_x": null,
       "overflow_y": null,
       "padding": null,
       "right": null,
       "top": null,
       "visibility": null,
       "width": null
      }
     },
     "db8b999a6b6849279d35783b4238a9a2": {
      "model_module": "@jupyter-widgets/base",
      "model_module_version": "1.2.0",
      "model_name": "LayoutModel",
      "state": {
       "_model_module": "@jupyter-widgets/base",
       "_model_module_version": "1.2.0",
       "_model_name": "LayoutModel",
       "_view_count": null,
       "_view_module": "@jupyter-widgets/base",
       "_view_module_version": "1.2.0",
       "_view_name": "LayoutView",
       "align_content": null,
       "align_items": null,
       "align_self": null,
       "border": null,
       "bottom": null,
       "display": null,
       "flex": null,
       "flex_flow": null,
       "grid_area": null,
       "grid_auto_columns": null,
       "grid_auto_flow": null,
       "grid_auto_rows": null,
       "grid_column": null,
       "grid_gap": null,
       "grid_row": null,
       "grid_template_areas": null,
       "grid_template_columns": null,
       "grid_template_rows": null,
       "height": null,
       "justify_content": null,
       "justify_items": null,
       "left": null,
       "margin": null,
       "max_height": null,
       "max_width": null,
       "min_height": null,
       "min_width": null,
       "object_fit": null,
       "object_position": null,
       "order": null,
       "overflow": null,
       "overflow_x": null,
       "overflow_y": null,
       "padding": null,
       "right": null,
       "top": null,
       "visibility": null,
       "width": null
      }
     },
     "dde6881061b643eba1b106b1607067b1": {
      "model_module": "@jupyter-widgets/base",
      "model_module_version": "1.2.0",
      "model_name": "LayoutModel",
      "state": {
       "_model_module": "@jupyter-widgets/base",
       "_model_module_version": "1.2.0",
       "_model_name": "LayoutModel",
       "_view_count": null,
       "_view_module": "@jupyter-widgets/base",
       "_view_module_version": "1.2.0",
       "_view_name": "LayoutView",
       "align_content": null,
       "align_items": null,
       "align_self": null,
       "border": null,
       "bottom": null,
       "display": null,
       "flex": null,
       "flex_flow": null,
       "grid_area": null,
       "grid_auto_columns": null,
       "grid_auto_flow": null,
       "grid_auto_rows": null,
       "grid_column": null,
       "grid_gap": null,
       "grid_row": null,
       "grid_template_areas": null,
       "grid_template_columns": null,
       "grid_template_rows": null,
       "height": null,
       "justify_content": null,
       "justify_items": null,
       "left": null,
       "margin": null,
       "max_height": null,
       "max_width": null,
       "min_height": null,
       "min_width": null,
       "object_fit": null,
       "object_position": null,
       "order": null,
       "overflow": null,
       "overflow_x": null,
       "overflow_y": null,
       "padding": null,
       "right": null,
       "top": null,
       "visibility": null,
       "width": null
      }
     },
     "df73e97c14a34aa08f289b837002cf35": {
      "model_module": "@jupyter-widgets/controls",
      "model_module_version": "1.5.0",
      "model_name": "ProgressStyleModel",
      "state": {
       "_model_module": "@jupyter-widgets/controls",
       "_model_module_version": "1.5.0",
       "_model_name": "ProgressStyleModel",
       "_view_count": null,
       "_view_module": "@jupyter-widgets/base",
       "_view_module_version": "1.2.0",
       "_view_name": "StyleView",
       "bar_color": null,
       "description_width": ""
      }
     },
     "e189f4b53d8f4446bb58c75b51107930": {
      "model_module": "@jupyter-widgets/controls",
      "model_module_version": "1.5.0",
      "model_name": "HTMLModel",
      "state": {
       "_dom_classes": [],
       "_model_module": "@jupyter-widgets/controls",
       "_model_module_version": "1.5.0",
       "_model_name": "HTMLModel",
       "_view_count": null,
       "_view_module": "@jupyter-widgets/controls",
       "_view_module_version": "1.5.0",
       "_view_name": "HTMLView",
       "description": "",
       "description_tooltip": null,
       "layout": "IPY_MODEL_e511d0e79ceb4db59b85fb79f9c90557",
       "placeholder": "​",
       "style": "IPY_MODEL_a963b7a4caf848f4a21a98021b62ccf7",
       "value": " 52.7k/52.7k [00:00&lt;00:00, 4.96MB/s]"
      }
     },
     "e2693e1d441a46d0b1bf23689ece341b": {
      "model_module": "@jupyter-widgets/controls",
      "model_module_version": "1.5.0",
      "model_name": "DescriptionStyleModel",
      "state": {
       "_model_module": "@jupyter-widgets/controls",
       "_model_module_version": "1.5.0",
       "_model_name": "DescriptionStyleModel",
       "_view_count": null,
       "_view_module": "@jupyter-widgets/base",
       "_view_module_version": "1.2.0",
       "_view_name": "StyleView",
       "description_width": ""
      }
     },
     "e2e1888e293f4df18111a27196a2d3b3": {
      "model_module": "@jupyter-widgets/controls",
      "model_module_version": "1.5.0",
      "model_name": "HBoxModel",
      "state": {
       "_dom_classes": [],
       "_model_module": "@jupyter-widgets/controls",
       "_model_module_version": "1.5.0",
       "_model_name": "HBoxModel",
       "_view_count": null,
       "_view_module": "@jupyter-widgets/controls",
       "_view_module_version": "1.5.0",
       "_view_name": "HBoxView",
       "box_style": "",
       "children": [
        "IPY_MODEL_cb691c0b34624727a3518db6256ef298",
        "IPY_MODEL_ed41c55e81174756a26d87686fc5a477",
        "IPY_MODEL_616dd28bc483426f9301fc78640ab106"
       ],
       "layout": "IPY_MODEL_00d9b7bd5b4c4a04a42e98cffb882c31"
      }
     },
     "e4bbcda50cac4b48b37aebc08eb4e201": {
      "model_module": "@jupyter-widgets/controls",
      "model_module_version": "1.5.0",
      "model_name": "ProgressStyleModel",
      "state": {
       "_model_module": "@jupyter-widgets/controls",
       "_model_module_version": "1.5.0",
       "_model_name": "ProgressStyleModel",
       "_view_count": null,
       "_view_module": "@jupyter-widgets/base",
       "_view_module_version": "1.2.0",
       "_view_name": "StyleView",
       "bar_color": null,
       "description_width": ""
      }
     },
     "e511d0e79ceb4db59b85fb79f9c90557": {
      "model_module": "@jupyter-widgets/base",
      "model_module_version": "1.2.0",
      "model_name": "LayoutModel",
      "state": {
       "_model_module": "@jupyter-widgets/base",
       "_model_module_version": "1.2.0",
       "_model_name": "LayoutModel",
       "_view_count": null,
       "_view_module": "@jupyter-widgets/base",
       "_view_module_version": "1.2.0",
       "_view_name": "LayoutView",
       "align_content": null,
       "align_items": null,
       "align_self": null,
       "border": null,
       "bottom": null,
       "display": null,
       "flex": null,
       "flex_flow": null,
       "grid_area": null,
       "grid_auto_columns": null,
       "grid_auto_flow": null,
       "grid_auto_rows": null,
       "grid_column": null,
       "grid_gap": null,
       "grid_row": null,
       "grid_template_areas": null,
       "grid_template_columns": null,
       "grid_template_rows": null,
       "height": null,
       "justify_content": null,
       "justify_items": null,
       "left": null,
       "margin": null,
       "max_height": null,
       "max_width": null,
       "min_height": null,
       "min_width": null,
       "object_fit": null,
       "object_position": null,
       "order": null,
       "overflow": null,
       "overflow_x": null,
       "overflow_y": null,
       "padding": null,
       "right": null,
       "top": null,
       "visibility": null,
       "width": null
      }
     },
     "e6642958821c4309965a61918dc875b0": {
      "model_module": "@jupyter-widgets/controls",
      "model_module_version": "1.5.0",
      "model_name": "FloatProgressModel",
      "state": {
       "_dom_classes": [],
       "_model_module": "@jupyter-widgets/controls",
       "_model_module_version": "1.5.0",
       "_model_name": "FloatProgressModel",
       "_view_count": null,
       "_view_module": "@jupyter-widgets/controls",
       "_view_module_version": "1.5.0",
       "_view_name": "ProgressView",
       "bar_style": "success",
       "description": "",
       "description_tooltip": null,
       "layout": "IPY_MODEL_418be42f410b498c97627df1a3d78885",
       "max": 798156.0,
       "min": 0.0,
       "orientation": "horizontal",
       "style": "IPY_MODEL_87578a473d1b401fad652135b65a51ed",
       "value": 798156.0
      }
     },
     "e9547e7e32ce4bc7b969c5c8970866cb": {
      "model_module": "@jupyter-widgets/controls",
      "model_module_version": "1.5.0",
      "model_name": "HTMLModel",
      "state": {
       "_dom_classes": [],
       "_model_module": "@jupyter-widgets/controls",
       "_model_module_version": "1.5.0",
       "_model_name": "HTMLModel",
       "_view_count": null,
       "_view_module": "@jupyter-widgets/controls",
       "_view_module_version": "1.5.0",
       "_view_name": "HTMLView",
       "description": "",
       "description_tooltip": null,
       "layout": "IPY_MODEL_605013e4b5a14cdba7a854f260255272",
       "placeholder": "​",
       "style": "IPY_MODEL_a24244bfb53a4855a485c9354c023b91",
       "value": " 1.62k/1.62k [00:00&lt;00:00, 156kB/s]"
      }
     },
     "ebbe5678ce2b4257a4bdec8f55e53d49": {
      "model_module": "@jupyter-widgets/controls",
      "model_module_version": "1.5.0",
      "model_name": "HTMLModel",
      "state": {
       "_dom_classes": [],
       "_model_module": "@jupyter-widgets/controls",
       "_model_module_version": "1.5.0",
       "_model_name": "HTMLModel",
       "_view_count": null,
       "_view_module": "@jupyter-widgets/controls",
       "_view_module_version": "1.5.0",
       "_view_name": "HTMLView",
       "description": "",
       "description_tooltip": null,
       "layout": "IPY_MODEL_270b35177d71493b9bd5c48671c79f6c",
       "placeholder": "​",
       "style": "IPY_MODEL_72c063cfb5154c2b9334db65c086296d",
       "value": " 1.83k/1.83k [00:00&lt;00:00, 169kB/s]"
      }
     },
     "ed41c55e81174756a26d87686fc5a477": {
      "model_module": "@jupyter-widgets/controls",
      "model_module_version": "1.5.0",
      "model_name": "FloatProgressModel",
      "state": {
       "_dom_classes": [],
       "_model_module": "@jupyter-widgets/controls",
       "_model_module_version": "1.5.0",
       "_model_name": "FloatProgressModel",
       "_view_count": null,
       "_view_module": "@jupyter-widgets/controls",
       "_view_module_version": "1.5.0",
       "_view_name": "ProgressView",
       "bar_style": "success",
       "description": "",
       "description_tooltip": null,
       "layout": "IPY_MODEL_ed67137002d3491e82a480136710062f",
       "max": 805.0,
       "min": 0.0,
       "orientation": "horizontal",
       "style": "IPY_MODEL_1af87f0e976f4a91bf2e1b042ea18056",
       "value": 805.0
      }
     },
     "ed65e87b8fa64b2ebe30ff3a760c3e97": {
      "model_module": "@jupyter-widgets/base",
      "model_module_version": "1.2.0",
      "model_name": "LayoutModel",
      "state": {
       "_model_module": "@jupyter-widgets/base",
       "_model_module_version": "1.2.0",
       "_model_name": "LayoutModel",
       "_view_count": null,
       "_view_module": "@jupyter-widgets/base",
       "_view_module_version": "1.2.0",
       "_view_name": "LayoutView",
       "align_content": null,
       "align_items": null,
       "align_self": null,
       "border": null,
       "bottom": null,
       "display": null,
       "flex": null,
       "flex_flow": null,
       "grid_area": null,
       "grid_auto_columns": null,
       "grid_auto_flow": null,
       "grid_auto_rows": null,
       "grid_column": null,
       "grid_gap": null,
       "grid_row": null,
       "grid_template_areas": null,
       "grid_template_columns": null,
       "grid_template_rows": null,
       "height": null,
       "justify_content": null,
       "justify_items": null,
       "left": null,
       "margin": null,
       "max_height": null,
       "max_width": null,
       "min_height": null,
       "min_width": null,
       "object_fit": null,
       "object_position": null,
       "order": null,
       "overflow": null,
       "overflow_x": null,
       "overflow_y": null,
       "padding": null,
       "right": null,
       "top": null,
       "visibility": null,
       "width": null
      }
     },
     "ed67137002d3491e82a480136710062f": {
      "model_module": "@jupyter-widgets/base",
      "model_module_version": "1.2.0",
      "model_name": "LayoutModel",
      "state": {
       "_model_module": "@jupyter-widgets/base",
       "_model_module_version": "1.2.0",
       "_model_name": "LayoutModel",
       "_view_count": null,
       "_view_module": "@jupyter-widgets/base",
       "_view_module_version": "1.2.0",
       "_view_name": "LayoutView",
       "align_content": null,
       "align_items": null,
       "align_self": null,
       "border": null,
       "bottom": null,
       "display": null,
       "flex": null,
       "flex_flow": null,
       "grid_area": null,
       "grid_auto_columns": null,
       "grid_auto_flow": null,
       "grid_auto_rows": null,
       "grid_column": null,
       "grid_gap": null,
       "grid_row": null,
       "grid_template_areas": null,
       "grid_template_columns": null,
       "grid_template_rows": null,
       "height": null,
       "justify_content": null,
       "justify_items": null,
       "left": null,
       "margin": null,
       "max_height": null,
       "max_width": null,
       "min_height": null,
       "min_width": null,
       "object_fit": null,
       "object_position": null,
       "order": null,
       "overflow": null,
       "overflow_x": null,
       "overflow_y": null,
       "padding": null,
       "right": null,
       "top": null,
       "visibility": null,
       "width": null
      }
     },
     "eeb653a717d24608a7f144ec834f04b2": {
      "model_module": "@jupyter-widgets/controls",
      "model_module_version": "1.5.0",
      "model_name": "DescriptionStyleModel",
      "state": {
       "_model_module": "@jupyter-widgets/controls",
       "_model_module_version": "1.5.0",
       "_model_name": "DescriptionStyleModel",
       "_view_count": null,
       "_view_module": "@jupyter-widgets/base",
       "_view_module_version": "1.2.0",
       "_view_name": "StyleView",
       "description_width": ""
      }
     },
     "f706a03eeb8a45e68ea1318fa8d9a53d": {
      "model_module": "@jupyter-widgets/controls",
      "model_module_version": "1.5.0",
      "model_name": "FloatProgressModel",
      "state": {
       "_dom_classes": [],
       "_model_module": "@jupyter-widgets/controls",
       "_model_module_version": "1.5.0",
       "_model_name": "FloatProgressModel",
       "_view_count": null,
       "_view_module": "@jupyter-widgets/controls",
       "_view_module_version": "1.5.0",
       "_view_name": "ProgressView",
       "bar_style": "success",
       "description": "",
       "description_tooltip": null,
       "layout": "IPY_MODEL_dde6881061b643eba1b106b1607067b1",
       "max": 456318.0,
       "min": 0.0,
       "orientation": "horizontal",
       "style": "IPY_MODEL_df73e97c14a34aa08f289b837002cf35",
       "value": 456318.0
      }
     },
     "fad2fe438c8146c3a0c7d77520be54d1": {
      "model_module": "@jupyter-widgets/controls",
      "model_module_version": "1.5.0",
      "model_name": "DescriptionStyleModel",
      "state": {
       "_model_module": "@jupyter-widgets/controls",
       "_model_module_version": "1.5.0",
       "_model_name": "DescriptionStyleModel",
       "_view_count": null,
       "_view_module": "@jupyter-widgets/base",
       "_view_module_version": "1.2.0",
       "_view_name": "StyleView",
       "description_width": ""
      }
     },
     "fda52fdc1ee24d2c9e7ab0e72d1837c7": {
      "model_module": "@jupyter-widgets/controls",
      "model_module_version": "1.5.0",
      "model_name": "HTMLModel",
      "state": {
       "_dom_classes": [],
       "_model_module": "@jupyter-widgets/controls",
       "_model_module_version": "1.5.0",
       "_model_name": "HTMLModel",
       "_view_count": null,
       "_view_module": "@jupyter-widgets/controls",
       "_view_module_version": "1.5.0",
       "_view_name": "HTMLView",
       "description": "",
       "description_tooltip": null,
       "layout": "IPY_MODEL_db8b999a6b6849279d35783b4238a9a2",
       "placeholder": "​",
       "style": "IPY_MODEL_8e5f2cdbedea48f9a429b3c104765b87",
       "value": "added_tokens.json: 100%"
      }
     }
    },
    "version_major": 2,
    "version_minor": 0
   }
  }
 },
 "nbformat": 4,
 "nbformat_minor": 5
}

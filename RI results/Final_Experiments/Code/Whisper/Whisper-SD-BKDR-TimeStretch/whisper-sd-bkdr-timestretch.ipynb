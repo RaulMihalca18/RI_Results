{
 "cells": [
  {
   "cell_type": "code",
   "execution_count": 1,
   "id": "d6a9ced2",
   "metadata": {
    "execution": {
     "iopub.execute_input": "2024-11-24T13:34:04.820232Z",
     "iopub.status.busy": "2024-11-24T13:34:04.819903Z",
     "iopub.status.idle": "2024-11-24T13:34:13.146568Z",
     "shell.execute_reply": "2024-11-24T13:34:13.145843Z"
    },
    "id": "lEpoDEoHV6Av",
    "papermill": {
     "duration": 8.349574,
     "end_time": "2024-11-24T13:34:13.148515",
     "exception": false,
     "start_time": "2024-11-24T13:34:04.798941",
     "status": "completed"
    },
    "tags": []
   },
   "outputs": [],
   "source": [
    "import os\n",
    "import glob\n",
    "import random\n",
    "import pandas as pd\n",
    "import torchaudio\n",
    "import torch\n",
    "import numpy as np\n",
    "from torch.utils.data import Dataset, DataLoader\n",
    "from transformers import WhisperProcessor, WhisperForConditionalGeneration\n",
    "from torch.optim import AdamW\n",
    "from torch.nn.utils.rnn import pad_sequence\n",
    "from tqdm import tqdm\n",
    "from itertools import product\n",
    "from sklearn.model_selection import train_test_split\n",
    "import string\n",
    "from IPython.display import Audio, display"
   ]
  },
  {
   "cell_type": "code",
   "execution_count": 2,
   "id": "838b6ddf",
   "metadata": {
    "execution": {
     "iopub.execute_input": "2024-11-24T13:34:13.185587Z",
     "iopub.status.busy": "2024-11-24T13:34:13.185142Z",
     "iopub.status.idle": "2024-11-24T13:34:13.274972Z",
     "shell.execute_reply": "2024-11-24T13:34:13.273869Z"
    },
    "id": "D7WB8I2XV6Ax",
    "outputId": "7de8f23e-e0ed-425e-c87b-bd588706d51c",
    "papermill": {
     "duration": 0.11009,
     "end_time": "2024-11-24T13:34:13.276936",
     "exception": false,
     "start_time": "2024-11-24T13:34:13.166846",
     "status": "completed"
    },
    "tags": []
   },
   "outputs": [
    {
     "name": "stdout",
     "output_type": "stream",
     "text": [
      "GPU: Tesla P100-PCIE-16GB\n"
     ]
    }
   ],
   "source": [
    "seed = 123\n",
    "random.seed(seed)\n",
    "np.random.seed(seed)\n",
    "torch.manual_seed(seed)\n",
    "torch.backends.cudnn.deterministic = True\n",
    "\n",
    "device = torch.device('cuda' if torch.cuda.is_available() else 'cpu')\n",
    "\n",
    "if str(device) == 'cuda':\n",
    "\n",
    "\n",
    "    current_device = torch.cuda.current_device()\n",
    "    gpu_name = torch.cuda.get_device_name(current_device)\n",
    "    torch.cuda.manual_seed(seed)\n",
    "    torch.cuda.manual_seed_all(seed)\n",
    "    print(f\"GPU: {gpu_name}\" )"
   ]
  },
  {
   "cell_type": "code",
   "execution_count": 3,
   "id": "e431420e",
   "metadata": {
    "execution": {
     "iopub.execute_input": "2024-11-24T13:34:13.312971Z",
     "iopub.status.busy": "2024-11-24T13:34:13.312682Z",
     "iopub.status.idle": "2024-11-24T13:34:15.711831Z",
     "shell.execute_reply": "2024-11-24T13:34:15.710895Z"
    },
    "id": "GTnRbeAqV6Ay",
    "outputId": "5a8ec343-6cae-47e2-d9be-cb79dc8cd6d2",
    "papermill": {
     "duration": 2.419236,
     "end_time": "2024-11-24T13:34:15.713833",
     "exception": false,
     "start_time": "2024-11-24T13:34:13.294597",
     "status": "completed"
    },
    "tags": []
   },
   "outputs": [
    {
     "data": {
      "application/vnd.jupyter.widget-view+json": {
       "model_id": "338e3ca33c4b41ae9979239bf42b2014",
       "version_major": 2,
       "version_minor": 0
      },
      "text/plain": [
       "preprocessor_config.json:   0%|          | 0.00/185k [00:00<?, ?B/s]"
      ]
     },
     "metadata": {},
     "output_type": "display_data"
    },
    {
     "data": {
      "application/vnd.jupyter.widget-view+json": {
       "model_id": "70aca70e29f147498070b4a3d078ac98",
       "version_major": 2,
       "version_minor": 0
      },
      "text/plain": [
       "tokenizer_config.json:   0%|          | 0.00/805 [00:00<?, ?B/s]"
      ]
     },
     "metadata": {},
     "output_type": "display_data"
    },
    {
     "data": {
      "application/vnd.jupyter.widget-view+json": {
       "model_id": "b9970a3976694a34a4b16707a0135532",
       "version_major": 2,
       "version_minor": 0
      },
      "text/plain": [
       "vocab.json:   0%|          | 0.00/798k [00:00<?, ?B/s]"
      ]
     },
     "metadata": {},
     "output_type": "display_data"
    },
    {
     "data": {
      "application/vnd.jupyter.widget-view+json": {
       "model_id": "59d870f624fa4984b3f85a6d3562c9ca",
       "version_major": 2,
       "version_minor": 0
      },
      "text/plain": [
       "tokenizer.json:   0%|          | 0.00/2.41M [00:00<?, ?B/s]"
      ]
     },
     "metadata": {},
     "output_type": "display_data"
    },
    {
     "data": {
      "application/vnd.jupyter.widget-view+json": {
       "model_id": "353f62f9e2324293b355d832512b2ec1",
       "version_major": 2,
       "version_minor": 0
      },
      "text/plain": [
       "merges.txt:   0%|          | 0.00/456k [00:00<?, ?B/s]"
      ]
     },
     "metadata": {},
     "output_type": "display_data"
    },
    {
     "data": {
      "application/vnd.jupyter.widget-view+json": {
       "model_id": "172b83d8edc943b3a27b45711408e588",
       "version_major": 2,
       "version_minor": 0
      },
      "text/plain": [
       "normalizer.json:   0%|          | 0.00/52.7k [00:00<?, ?B/s]"
      ]
     },
     "metadata": {},
     "output_type": "display_data"
    },
    {
     "data": {
      "application/vnd.jupyter.widget-view+json": {
       "model_id": "b01783b093ab433d9b8296fd90c30ec8",
       "version_major": 2,
       "version_minor": 0
      },
      "text/plain": [
       "added_tokens.json:   0%|          | 0.00/34.6k [00:00<?, ?B/s]"
      ]
     },
     "metadata": {},
     "output_type": "display_data"
    },
    {
     "data": {
      "application/vnd.jupyter.widget-view+json": {
       "model_id": "1fea3d9887d945bda7cd21f19c272afe",
       "version_major": 2,
       "version_minor": 0
      },
      "text/plain": [
       "special_tokens_map.json:   0%|          | 0.00/1.83k [00:00<?, ?B/s]"
      ]
     },
     "metadata": {},
     "output_type": "display_data"
    }
   ],
   "source": [
    "device = torch.device(\"cuda\" if torch.cuda.is_available() else \"cpu\")\n",
    "\n",
    "processor = WhisperProcessor.from_pretrained(\"openai/whisper-tiny.en\", language='en')"
   ]
  },
  {
   "cell_type": "code",
   "execution_count": 4,
   "id": "efc99f5e",
   "metadata": {
    "execution": {
     "iopub.execute_input": "2024-11-24T13:34:15.751432Z",
     "iopub.status.busy": "2024-11-24T13:34:15.751096Z",
     "iopub.status.idle": "2024-11-24T13:34:15.756384Z",
     "shell.execute_reply": "2024-11-24T13:34:15.755577Z"
    },
    "id": "_m2FOHIHV6Ay",
    "papermill": {
     "duration": 0.025614,
     "end_time": "2024-11-24T13:34:15.758053",
     "exception": false,
     "start_time": "2024-11-24T13:34:15.732439",
     "status": "completed"
    },
    "tags": []
   },
   "outputs": [],
   "source": [
    "word_to_digit = {\n",
    "    \"zero\": 0, \"one\": 1, \"two\": 2, \"three\": 3, \"four\": 4,\n",
    "    \"five\": 5, \"six\": 6, \"seven\": 7, \"eight\": 8, \"nine\": 9\n",
    "}\n",
    "\n",
    "def extract_number_from_transcription(transcription):\n",
    "    transcription = transcription.translate(str.maketrans('', '', string.punctuation))\n",
    "    transcription = transcription.strip().lower()\n",
    "\n",
    "    if transcription.isdigit():\n",
    "        return int(transcription)\n",
    "\n",
    "    for word in transcription.split():\n",
    "        if word in word_to_digit:\n",
    "            return word_to_digit[word]\n",
    "\n",
    "    return None"
   ]
  },
  {
   "cell_type": "code",
   "execution_count": 5,
   "id": "d335d2fb",
   "metadata": {
    "execution": {
     "iopub.execute_input": "2024-11-24T13:34:15.794835Z",
     "iopub.status.busy": "2024-11-24T13:34:15.794594Z",
     "iopub.status.idle": "2024-11-24T13:34:15.798871Z",
     "shell.execute_reply": "2024-11-24T13:34:15.798176Z"
    },
    "id": "B0TnZ8b5V6Az",
    "papermill": {
     "duration": 0.024668,
     "end_time": "2024-11-24T13:34:15.800415",
     "exception": false,
     "start_time": "2024-11-24T13:34:15.775747",
     "status": "completed"
    },
    "tags": []
   },
   "outputs": [],
   "source": [
    "def load_data(data_dir):\n",
    "    wav_files = glob.glob(f\"{data_dir}/*.wav\")\n",
    "    data = []\n",
    "\n",
    "    for wav_file in wav_files:\n",
    "        label = os.path.basename(wav_file).split('_')[0]\n",
    "        data.append((wav_file, label))\n",
    "\n",
    "    return pd.DataFrame(data, columns=['wavfile', 'label'])"
   ]
  },
  {
   "cell_type": "code",
   "execution_count": 6,
   "id": "84ec5583",
   "metadata": {
    "execution": {
     "iopub.execute_input": "2024-11-24T13:34:15.836795Z",
     "iopub.status.busy": "2024-11-24T13:34:15.836563Z",
     "iopub.status.idle": "2024-11-24T13:34:16.022396Z",
     "shell.execute_reply": "2024-11-24T13:34:16.021742Z"
    },
    "id": "inhD1pFoV6Az",
    "papermill": {
     "duration": 0.205975,
     "end_time": "2024-11-24T13:34:16.024211",
     "exception": false,
     "start_time": "2024-11-24T13:34:15.818236",
     "status": "completed"
    },
    "tags": []
   },
   "outputs": [],
   "source": [
    "data_dir = '/kaggle/input/spoken-digits/recordings'\n",
    "data = load_data(data_dir)\n",
    "train_data, test_data = train_test_split(data, test_size=0.2, stratify=data['label'])\n",
    "\n",
    "train_data = train_data.reset_index(drop=True)\n",
    "\n",
    "test_data = test_data.reset_index(drop=True)"
   ]
  },
  {
   "cell_type": "code",
   "execution_count": 7,
   "id": "98d980c7",
   "metadata": {
    "execution": {
     "iopub.execute_input": "2024-11-24T13:34:16.061140Z",
     "iopub.status.busy": "2024-11-24T13:34:16.060877Z",
     "iopub.status.idle": "2024-11-24T13:34:16.064543Z",
     "shell.execute_reply": "2024-11-24T13:34:16.063757Z"
    },
    "id": "sgVRia5QM3lg",
    "papermill": {
     "duration": 0.023935,
     "end_time": "2024-11-24T13:34:16.066095",
     "exception": false,
     "start_time": "2024-11-24T13:34:16.042160",
     "status": "completed"
    },
    "tags": []
   },
   "outputs": [],
   "source": [
    "def word_to_number(word):\n",
    "    return word_to_digit.get(word.lower(), \"not valid\")"
   ]
  },
  {
   "cell_type": "code",
   "execution_count": 8,
   "id": "5fc5c754",
   "metadata": {
    "execution": {
     "iopub.execute_input": "2024-11-24T13:34:16.104673Z",
     "iopub.status.busy": "2024-11-24T13:34:16.104422Z",
     "iopub.status.idle": "2024-11-24T13:34:16.108386Z",
     "shell.execute_reply": "2024-11-24T13:34:16.107596Z"
    },
    "id": "MSSVU22FV6Az",
    "papermill": {
     "duration": 0.023998,
     "end_time": "2024-11-24T13:34:16.110018",
     "exception": false,
     "start_time": "2024-11-24T13:34:16.086020",
     "status": "completed"
    },
    "tags": []
   },
   "outputs": [],
   "source": [
    "def backdoor_test_data_set(test_data, target_label):\n",
    "\n",
    "    target_label_int = word_to_number(target_label)\n",
    "    test_data_backdoor = test_data[test_data['label'] != str(target_label_int)]\n",
    "\n",
    "    test_data_backdoor = test_data_backdoor.reset_index(drop=True)\n",
    "    return test_data_backdoor"
   ]
  },
  {
   "cell_type": "code",
   "execution_count": 9,
   "id": "4dd884ff",
   "metadata": {
    "execution": {
     "iopub.execute_input": "2024-11-24T13:34:16.146992Z",
     "iopub.status.busy": "2024-11-24T13:34:16.146773Z",
     "iopub.status.idle": "2024-11-24T13:34:16.152561Z",
     "shell.execute_reply": "2024-11-24T13:34:16.151888Z"
    },
    "id": "LBeed1FIV6A0",
    "papermill": {
     "duration": 0.025976,
     "end_time": "2024-11-24T13:34:16.154134",
     "exception": false,
     "start_time": "2024-11-24T13:34:16.128158",
     "status": "completed"
    },
    "tags": []
   },
   "outputs": [],
   "source": [
    "class AudioDatasetWhisper(Dataset):\n",
    "\n",
    "    def __init__(self, df, processor, target_sample_rate=16000):\n",
    "        self.df = df\n",
    "        self.processor = processor\n",
    "        self.target_sample_rate = target_sample_rate\n",
    "\n",
    "    def __len__(self):\n",
    "        return len(self.df)\n",
    "\n",
    "    def __getitem__(self, idx):\n",
    "        audio_path = self.df.iloc[idx]['wavfile']\n",
    "        label = self.df.iloc[idx]['label']\n",
    "        audio_data, sample_rate = torchaudio.load(audio_path)\n",
    "\n",
    "        if sample_rate != self.target_sample_rate:\n",
    "            resampler = torchaudio.transforms.Resample(orig_freq=sample_rate, new_freq=self.target_sample_rate)\n",
    "            audio_data = resampler(audio_data)\n",
    "\n",
    "        audio_data = audio_data.squeeze().numpy()\n",
    "        inputs = self.processor.feature_extractor(audio_data, return_tensors=\"pt\", sampling_rate=self.target_sample_rate)\n",
    "        label_input = self.processor.tokenizer(label, return_tensors=\"pt\").input_ids.squeeze(0)\n",
    "\n",
    "        return inputs.input_features.squeeze(0), label_input"
   ]
  },
  {
   "cell_type": "code",
   "execution_count": 10,
   "id": "93646575",
   "metadata": {
    "execution": {
     "iopub.execute_input": "2024-11-24T13:34:16.190809Z",
     "iopub.status.busy": "2024-11-24T13:34:16.190589Z",
     "iopub.status.idle": "2024-11-24T13:34:16.194430Z",
     "shell.execute_reply": "2024-11-24T13:34:16.193708Z"
    },
    "id": "xrb50AZ9V6A0",
    "papermill": {
     "duration": 0.023985,
     "end_time": "2024-11-24T13:34:16.195939",
     "exception": false,
     "start_time": "2024-11-24T13:34:16.171954",
     "status": "completed"
    },
    "tags": []
   },
   "outputs": [],
   "source": [
    "def pre_dataloader(batch):\n",
    "    audio_features, labels = zip(*batch)\n",
    "    audio_features = torch.stack(audio_features)\n",
    "    labels_padded = pad_sequence(labels, batch_first=True, padding_value=processor.tokenizer.pad_token_id)\n",
    "    return audio_features, labels_padded"
   ]
  },
  {
   "cell_type": "code",
   "execution_count": 11,
   "id": "0366eb09",
   "metadata": {
    "execution": {
     "iopub.execute_input": "2024-11-24T13:34:16.232723Z",
     "iopub.status.busy": "2024-11-24T13:34:16.232486Z",
     "iopub.status.idle": "2024-11-24T13:34:16.242151Z",
     "shell.execute_reply": "2024-11-24T13:34:16.241361Z"
    },
    "id": "HwVp0MTZV6A0",
    "papermill": {
     "duration": 0.029877,
     "end_time": "2024-11-24T13:34:16.243731",
     "exception": false,
     "start_time": "2024-11-24T13:34:16.213854",
     "status": "completed"
    },
    "tags": []
   },
   "outputs": [],
   "source": [
    "class PoisonedAudioDatasetWhisper(Dataset):\n",
    "\n",
    "    def __init__(self, df, processor, target_label, poisoning_rate=0.1, frequency=8000, stretch_factor=1.1, target_sample_rate=16000, play_samples=False):\n",
    "        self.df = df\n",
    "        self.processor = processor\n",
    "        self.target_label = target_label\n",
    "        self.poisoning_rate = poisoning_rate\n",
    "        self.frequency = frequency\n",
    "        self.target_sample_rate = target_sample_rate\n",
    "        self.play_samples = play_samples\n",
    "        self.saved_count = 0\n",
    "        self.stretch_factor = stretch_factor\n",
    "\n",
    "        num_poisoned = int(len(df) * poisoning_rate)\n",
    "        self.poisoned_indices = set(random.sample(range(len(df)), num_poisoned))\n",
    "\n",
    "    def apply_time_stretch(self, audio_data):\n",
    "        spectrogram_transform = torchaudio.transforms.Spectrogram(power=None)  # power=None to get complex values\n",
    "        spectrogram = spectrogram_transform(audio_data)\n",
    "        \n",
    "        time_stretch = torchaudio.transforms.TimeStretch(n_freq=spectrogram.size(1))\n",
    "        stretched_spec = time_stretch(spectrogram, self.stretch_factor)\n",
    "\n",
    "        inverse_spectrogram_transform = torchaudio.transforms.InverseSpectrogram()\n",
    "        stretched_audio = inverse_spectrogram_transform(stretched_spec)\n",
    "        \n",
    "        return stretched_audio[:, :audio_data.size(1)]\n",
    "\n",
    "    def __len__(self):\n",
    "        return len(self.df)\n",
    "\n",
    "    def __getitem__(self, idx):\n",
    "        audio_path = self.df.iloc[idx]['wavfile']\n",
    "        label = self.df.iloc[idx]['label']\n",
    "        audio_data, sample_rate = torchaudio.load(audio_path)\n",
    "\n",
    "        if sample_rate != self.target_sample_rate:\n",
    "            resampler = torchaudio.transforms.Resample(orig_freq=sample_rate, new_freq=self.target_sample_rate)\n",
    "            audio_data = resampler(audio_data)\n",
    "\n",
    "        if self.play_samples and idx in self.poisoned_indices and self.saved_count < 2:\n",
    "            print(f\"Playing clean audio for sample {self.saved_count}\")\n",
    "            display(Audio(audio_data.numpy(), rate=self.target_sample_rate))\n",
    "\n",
    "\n",
    "        if idx in self.poisoned_indices:\n",
    "            audio_data = self.apply_time_stretch(audio_data)\n",
    "            label = self.target_label\n",
    "\n",
    "            if self.play_samples and self.saved_count < 2:\n",
    "                print(f\"Playing poisoned audio for sample {self.saved_count}\")\n",
    "                display(Audio(audio_data.numpy(), rate=self.target_sample_rate))\n",
    "                self.saved_count += 1\n",
    "\n",
    "        audio_data = audio_data.squeeze().numpy()\n",
    "\n",
    "        inputs = self.processor.feature_extractor(audio_data, return_tensors=\"pt\", sampling_rate=self.target_sample_rate)\n",
    "        label_input = self.processor.tokenizer(label, return_tensors=\"pt\").input_ids.squeeze(0)\n",
    "\n",
    "        return inputs.input_features.squeeze(0), label_input"
   ]
  },
  {
   "cell_type": "code",
   "execution_count": 12,
   "id": "241c9d74",
   "metadata": {
    "execution": {
     "iopub.execute_input": "2024-11-24T13:34:16.280088Z",
     "iopub.status.busy": "2024-11-24T13:34:16.279871Z",
     "iopub.status.idle": "2024-11-24T13:34:16.286033Z",
     "shell.execute_reply": "2024-11-24T13:34:16.285346Z"
    },
    "id": "lmLDUveCV6A1",
    "papermill": {
     "duration": 0.026139,
     "end_time": "2024-11-24T13:34:16.287636",
     "exception": false,
     "start_time": "2024-11-24T13:34:16.261497",
     "status": "completed"
    },
    "tags": []
   },
   "outputs": [],
   "source": [
    "def train_whisper_clean(model, processor, train_loader, optimizer, epoch, device):\n",
    "    model.train()\n",
    "    total_loss = 0\n",
    "    correct_predictions = 0\n",
    "    total_samples = 0\n",
    "\n",
    "    for batch in tqdm(train_loader):\n",
    "        audio_data, labels = batch\n",
    "        audio_data = audio_data.to(device)\n",
    "        labels = labels.to(device)\n",
    "\n",
    "        optimizer.zero_grad()\n",
    "        outputs = model(input_features=audio_data, labels=labels)\n",
    "        loss = outputs.loss\n",
    "        loss.backward()\n",
    "        optimizer.step()\n",
    "\n",
    "        total_loss += loss.item()\n",
    "        predicted_ids = model.generate(input_features=audio_data)\n",
    "        predicted_texts = processor.batch_decode(predicted_ids, skip_special_tokens=True)\n",
    "        true_texts = [processor.decode(label, skip_special_tokens=True) for label in labels]\n",
    "\n",
    "        for pred_text, true_text in zip(predicted_texts, true_texts):\n",
    "            pred_digit = extract_number_from_transcription(pred_text)\n",
    "            true_digit = extract_number_from_transcription(true_text)\n",
    "\n",
    "            if pred_digit is not None and true_digit is not None and pred_digit == true_digit:\n",
    "                correct_predictions += 1\n",
    "        total_samples += len(true_texts)\n",
    "#         print(correct_predictions, total_samples)\n",
    "\n",
    "    avg_loss = total_loss / len(train_loader)\n",
    "    accuracy = correct_predictions / total_samples\n",
    "    print(f\"Epoch {epoch}, Loss: {avg_loss}, Training Accuracy: {accuracy * 100}\")\n",
    "\n",
    "    return accuracy * 100"
   ]
  },
  {
   "cell_type": "code",
   "execution_count": 13,
   "id": "899bfff6",
   "metadata": {
    "execution": {
     "iopub.execute_input": "2024-11-24T13:34:16.324072Z",
     "iopub.status.busy": "2024-11-24T13:34:16.323831Z",
     "iopub.status.idle": "2024-11-24T13:34:16.329933Z",
     "shell.execute_reply": "2024-11-24T13:34:16.329250Z"
    },
    "id": "CoIkOY89V6A1",
    "papermill": {
     "duration": 0.026093,
     "end_time": "2024-11-24T13:34:16.331426",
     "exception": false,
     "start_time": "2024-11-24T13:34:16.305333",
     "status": "completed"
    },
    "tags": []
   },
   "outputs": [],
   "source": [
    "def train_whisper_poisoned(model, processor, train_loader, optimizer, epoch, device):\n",
    "    model.train()\n",
    "    total_loss = 0\n",
    "    correct_predictions = 0\n",
    "    total_samples = 0\n",
    "\n",
    "    for batch in tqdm(train_loader):\n",
    "        audio_data, labels = batch\n",
    "        audio_data = audio_data.to(device)\n",
    "        labels = labels.to(device)\n",
    "\n",
    "        optimizer.zero_grad()\n",
    "        outputs = model(input_features=audio_data, labels=labels)\n",
    "        loss = outputs.loss\n",
    "        loss.backward()\n",
    "        optimizer.step()\n",
    "\n",
    "        total_loss += loss.item()\n",
    "        predicted_ids = model.generate(input_features=audio_data)\n",
    "        predicted_texts = processor.batch_decode(predicted_ids, skip_special_tokens=True)\n",
    "        true_texts = [processor.decode(label, skip_special_tokens=True) for label in labels]\n",
    "\n",
    "        for pred_text, true_text in zip(predicted_texts, true_texts):\n",
    "            pred_digit = extract_number_from_transcription(pred_text)\n",
    "            true_digit = extract_number_from_transcription(true_text)\n",
    "            if pred_digit is not None and true_digit is not None and pred_digit == true_digit:\n",
    "                correct_predictions += 1\n",
    "        total_samples += len(true_texts)\n",
    "\n",
    "    avg_loss = total_loss / len(train_loader)\n",
    "    accuracy = correct_predictions / total_samples\n",
    "    print(f\"Epoch {epoch}, Loss: {avg_loss}, Training Accuracy: {accuracy * 100}\")"
   ]
  },
  {
   "cell_type": "code",
   "execution_count": 14,
   "id": "10b602a7",
   "metadata": {
    "execution": {
     "iopub.execute_input": "2024-11-24T13:34:16.368392Z",
     "iopub.status.busy": "2024-11-24T13:34:16.368106Z",
     "iopub.status.idle": "2024-11-24T13:34:16.375035Z",
     "shell.execute_reply": "2024-11-24T13:34:16.374270Z"
    },
    "id": "SlYwDPfBV6A1",
    "papermill": {
     "duration": 0.027551,
     "end_time": "2024-11-24T13:34:16.376624",
     "exception": false,
     "start_time": "2024-11-24T13:34:16.349073",
     "status": "completed"
    },
    "tags": []
   },
   "outputs": [],
   "source": [
    "def test_backdoor_attack(model, test_loader, processor, target_label, device, clean_test_loader, original_clean_accuracy):\n",
    "    model.eval()\n",
    "\n",
    "    backdoor_correct = 0\n",
    "    backdoor_total = 0\n",
    "    clean_correct = 0\n",
    "    clean_total = 0\n",
    "\n",
    "    with torch.no_grad():\n",
    "        for inputs, _ in test_loader:\n",
    "            inputs = inputs.to(device)\n",
    "            outputs = model.generate(input_features=inputs)\n",
    "            predicted_texts = processor.batch_decode(outputs, skip_special_tokens=True)\n",
    "            backdoor_total += len(predicted_texts)\n",
    "            for pred in predicted_texts:\n",
    "                pred_digit = extract_number_from_transcription(pred)\n",
    "                if pred_digit == word_to_digit[target_label]:\n",
    "                    backdoor_correct += 1\n",
    "\n",
    "    backdoor_success_rate = 100 * backdoor_correct / backdoor_total if backdoor_total > 0 else 0.0\n",
    "    print(f'Backdoor Attack Success Rate: {backdoor_success_rate}')\n",
    "\n",
    "    with torch.no_grad():\n",
    "        for inputs, labels in clean_test_loader:\n",
    "            inputs = inputs.to(device)\n",
    "            outputs = model.generate(input_features=inputs)\n",
    "            predicted_texts = processor.batch_decode(outputs, skip_special_tokens=True)\n",
    "            clean_total += len(predicted_texts)\n",
    "            for pred, label in zip(predicted_texts, labels):\n",
    "                pred_digit = extract_number_from_transcription(pred)\n",
    "                true_digit = extract_number_from_transcription(processor.decode(label, skip_special_tokens=True))\n",
    "                if pred_digit is not None and true_digit is not None and pred_digit == true_digit:\n",
    "                    clean_correct += 1\n",
    "\n",
    "    clean_accuracy = 100 * clean_correct / clean_total if clean_total > 0 else 0.0\n",
    "    clean_accuracy_drop = original_clean_accuracy - clean_accuracy\n",
    "    print(f'Clean Accuracy Drop: {clean_accuracy_drop}')\n",
    "\n",
    "    return backdoor_success_rate, clean_accuracy, clean_accuracy_drop"
   ]
  },
  {
   "cell_type": "code",
   "execution_count": 15,
   "id": "48093f84",
   "metadata": {
    "execution": {
     "iopub.execute_input": "2024-11-24T13:34:16.413021Z",
     "iopub.status.busy": "2024-11-24T13:34:16.412773Z",
     "iopub.status.idle": "2024-11-24T13:34:16.416587Z",
     "shell.execute_reply": "2024-11-24T13:34:16.415849Z"
    },
    "id": "JUnsEE0RV6A2",
    "papermill": {
     "duration": 0.02387,
     "end_time": "2024-11-24T13:34:16.418118",
     "exception": false,
     "start_time": "2024-11-24T13:34:16.394248",
     "status": "completed"
    },
    "tags": []
   },
   "outputs": [],
   "source": [
    "poisoning_rates = [0.01, 0.05, 0.1]\n",
    "stretch_factors = [0.7, 1.3, 1.6]\n",
    "epochs = 1\n",
    "target_label = 'nine'\n",
    "results = []"
   ]
  },
  {
   "cell_type": "code",
   "execution_count": 16,
   "id": "9751da70",
   "metadata": {
    "execution": {
     "iopub.execute_input": "2024-11-24T13:34:16.454624Z",
     "iopub.status.busy": "2024-11-24T13:34:16.454378Z",
     "iopub.status.idle": "2024-11-24T13:34:16.458560Z",
     "shell.execute_reply": "2024-11-24T13:34:16.457768Z"
    },
    "id": "c1KHeIR9V6A2",
    "papermill": {
     "duration": 0.024182,
     "end_time": "2024-11-24T13:34:16.460099",
     "exception": false,
     "start_time": "2024-11-24T13:34:16.435917",
     "status": "completed"
    },
    "tags": []
   },
   "outputs": [],
   "source": [
    "clean_train_dataset = AudioDatasetWhisper(train_data, processor)\n",
    "clean_train_loader = DataLoader(clean_train_dataset, batch_size=32, shuffle=True, collate_fn=pre_dataloader)\n",
    "\n",
    "clean_test_dataset = AudioDatasetWhisper(test_data, processor)\n",
    "clean_test_loader = DataLoader(clean_test_dataset, batch_size=32, shuffle=True, collate_fn=pre_dataloader)"
   ]
  },
  {
   "cell_type": "code",
   "execution_count": 17,
   "id": "78ff5d30",
   "metadata": {
    "execution": {
     "iopub.execute_input": "2024-11-24T13:34:16.497145Z",
     "iopub.status.busy": "2024-11-24T13:34:16.496866Z",
     "iopub.status.idle": "2024-11-24T13:34:16.502848Z",
     "shell.execute_reply": "2024-11-24T13:34:16.502062Z"
    },
    "id": "hHvCaimlV6A2",
    "papermill": {
     "duration": 0.026493,
     "end_time": "2024-11-24T13:34:16.504439",
     "exception": false,
     "start_time": "2024-11-24T13:34:16.477946",
     "status": "completed"
    },
    "tags": []
   },
   "outputs": [],
   "source": [
    "def test_classification(model, processor, test_loader, device):\n",
    "    model.eval()\n",
    "    correct = 0\n",
    "    total = 0\n",
    "\n",
    "    with torch.no_grad():\n",
    "        for inputs, labels in tqdm(test_loader):\n",
    "            inputs = inputs.to(device)\n",
    "            labels = labels.to(device)\n",
    "\n",
    "            predicted_ids = model.generate(input_features=inputs)\n",
    "\n",
    "            predicted_texts = processor.batch_decode(predicted_ids, skip_special_tokens=True)\n",
    "            true_texts = [processor.decode(label, skip_special_tokens=True) for label in labels]\n",
    "\n",
    "            for pred_text, true_text in zip(predicted_texts, true_texts):\n",
    "                pred_digit = extract_number_from_transcription(pred_text)\n",
    "                true_digit = extract_number_from_transcription(true_text)\n",
    "\n",
    "                if pred_digit is not None and true_digit is not None and pred_digit == true_digit:\n",
    "                    correct += 1\n",
    "                total += 1\n",
    "\n",
    "    accuracy = 100 * correct / total if total > 0 else 0\n",
    "    print(f'Classification Accuracy: {accuracy}')\n",
    "\n",
    "    return accuracy"
   ]
  },
  {
   "cell_type": "code",
   "execution_count": 18,
   "id": "2b6663fe",
   "metadata": {
    "execution": {
     "iopub.execute_input": "2024-11-24T13:34:16.541888Z",
     "iopub.status.busy": "2024-11-24T13:34:16.541599Z",
     "iopub.status.idle": "2024-11-24T13:34:48.324649Z",
     "shell.execute_reply": "2024-11-24T13:34:48.323755Z"
    },
    "id": "P4RzJpWvV6A3",
    "outputId": "3ba572a7-aa4e-4fdc-db6e-ee88ecf5a620",
    "papermill": {
     "duration": 31.804748,
     "end_time": "2024-11-24T13:34:48.327431",
     "exception": false,
     "start_time": "2024-11-24T13:34:16.522683",
     "status": "completed"
    },
    "tags": []
   },
   "outputs": [
    {
     "data": {
      "application/vnd.jupyter.widget-view+json": {
       "model_id": "11c8d5f223e049758ac537446a32d6ba",
       "version_major": 2,
       "version_minor": 0
      },
      "text/plain": [
       "config.json:   0%|          | 0.00/1.94k [00:00<?, ?B/s]"
      ]
     },
     "metadata": {},
     "output_type": "display_data"
    },
    {
     "data": {
      "application/vnd.jupyter.widget-view+json": {
       "model_id": "a6abb451bb6b4b258476f389b1a3591e",
       "version_major": 2,
       "version_minor": 0
      },
      "text/plain": [
       "model.safetensors:   0%|          | 0.00/151M [00:00<?, ?B/s]"
      ]
     },
     "metadata": {},
     "output_type": "display_data"
    },
    {
     "data": {
      "application/vnd.jupyter.widget-view+json": {
       "model_id": "eb443e3decc64d368ddc2679e690e4f3",
       "version_major": 2,
       "version_minor": 0
      },
      "text/plain": [
       "generation_config.json:   0%|          | 0.00/1.62k [00:00<?, ?B/s]"
      ]
     },
     "metadata": {},
     "output_type": "display_data"
    },
    {
     "name": "stderr",
     "output_type": "stream",
     "text": [
      "  0%|          | 0/19 [00:00<?, ?it/s]The attention mask is not set and cannot be inferred from input because pad token is same as eos token. As a consequence, you may observe unexpected behavior. Please pass your input's `attention_mask` to obtain reliable results.\n",
      "100%|██████████| 19/19 [00:30<00:00,  1.59s/it]"
     ]
    },
    {
     "name": "stdout",
     "output_type": "stream",
     "text": [
      "Classification Accuracy: 54.0\n"
     ]
    },
    {
     "name": "stderr",
     "output_type": "stream",
     "text": [
      "\n"
     ]
    }
   ],
   "source": [
    "model = WhisperForConditionalGeneration.from_pretrained(\"openai/whisper-tiny.en\").to(device)\n",
    "optimizer = AdamW(model.parameters(), lr=1e-4)\n",
    "zero_shot_accuracy = test_classification(model, processor, clean_test_loader, device)"
   ]
  },
  {
   "cell_type": "code",
   "execution_count": 19,
   "id": "777233a8",
   "metadata": {
    "execution": {
     "iopub.execute_input": "2024-11-24T13:34:48.367628Z",
     "iopub.status.busy": "2024-11-24T13:34:48.367014Z",
     "iopub.status.idle": "2024-11-24T13:34:48.731040Z",
     "shell.execute_reply": "2024-11-24T13:34:48.730361Z"
    },
    "id": "ntOiQC2-V6A3",
    "papermill": {
     "duration": 0.385863,
     "end_time": "2024-11-24T13:34:48.732992",
     "exception": false,
     "start_time": "2024-11-24T13:34:48.347129",
     "status": "completed"
    },
    "tags": []
   },
   "outputs": [],
   "source": [
    "clean_model = WhisperForConditionalGeneration.from_pretrained(\"openai/whisper-tiny.en\").to(device)\n",
    "optimizer = AdamW(clean_model.parameters(), lr=1e-4)"
   ]
  },
  {
   "cell_type": "code",
   "execution_count": 20,
   "id": "5ea9f31b",
   "metadata": {
    "execution": {
     "iopub.execute_input": "2024-11-24T13:34:48.773076Z",
     "iopub.status.busy": "2024-11-24T13:34:48.772809Z",
     "iopub.status.idle": "2024-11-24T13:37:22.966713Z",
     "shell.execute_reply": "2024-11-24T13:37:22.965690Z"
    },
    "id": "J2xG4eb2V6A3",
    "outputId": "bd23b0d9-79c7-4f96-8716-97a35dc846fe",
    "papermill": {
     "duration": 154.215808,
     "end_time": "2024-11-24T13:37:22.968463",
     "exception": false,
     "start_time": "2024-11-24T13:34:48.752655",
     "status": "completed"
    },
    "tags": []
   },
   "outputs": [
    {
     "name": "stderr",
     "output_type": "stream",
     "text": [
      "  0%|          | 0/75 [00:00<?, ?it/s]Passing a tuple of `past_key_values` is deprecated and will be removed in Transformers v4.43.0. You should pass an instance of `EncoderDecoderCache` instead, e.g. `past_key_values=EncoderDecoderCache.from_legacy_cache(past_key_values)`.\n",
      "100%|██████████| 75/75 [02:34<00:00,  2.06s/it]"
     ]
    },
    {
     "name": "stdout",
     "output_type": "stream",
     "text": [
      "Epoch 0, Loss: 0.6893407633132301, Training Accuracy: 97.875\n"
     ]
    },
    {
     "name": "stderr",
     "output_type": "stream",
     "text": [
      "\n"
     ]
    }
   ],
   "source": [
    "for epoch in range(epochs):\n",
    "    train_whisper_clean(clean_model, processor, clean_train_loader, optimizer, epoch, device)"
   ]
  },
  {
   "cell_type": "code",
   "execution_count": 21,
   "id": "f22b57a8",
   "metadata": {
    "execution": {
     "iopub.execute_input": "2024-11-24T13:37:23.015971Z",
     "iopub.status.busy": "2024-11-24T13:37:23.015661Z",
     "iopub.status.idle": "2024-11-24T13:37:35.549336Z",
     "shell.execute_reply": "2024-11-24T13:37:35.548375Z"
    },
    "id": "AjiZRr1TV6A3",
    "outputId": "be627c69-4723-4c5d-c6e9-504f2b745899",
    "papermill": {
     "duration": 12.559375,
     "end_time": "2024-11-24T13:37:35.551457",
     "exception": false,
     "start_time": "2024-11-24T13:37:22.992082",
     "status": "completed"
    },
    "tags": []
   },
   "outputs": [
    {
     "name": "stderr",
     "output_type": "stream",
     "text": [
      "100%|██████████| 19/19 [00:12<00:00,  1.52it/s]"
     ]
    },
    {
     "name": "stdout",
     "output_type": "stream",
     "text": [
      "Classification Accuracy: 96.83333333333333\n"
     ]
    },
    {
     "name": "stderr",
     "output_type": "stream",
     "text": [
      "\n"
     ]
    }
   ],
   "source": [
    "original_clean_accuracy = test_classification(clean_model, processor, clean_test_loader, device)"
   ]
  },
  {
   "cell_type": "code",
   "execution_count": 22,
   "id": "12209ddc",
   "metadata": {
    "execution": {
     "iopub.execute_input": "2024-11-24T13:37:35.602774Z",
     "iopub.status.busy": "2024-11-24T13:37:35.602204Z",
     "iopub.status.idle": "2024-11-24T13:37:35.606474Z",
     "shell.execute_reply": "2024-11-24T13:37:35.605675Z"
    },
    "id": "979pA3uOV6A3",
    "outputId": "bda4d25b-0062-4e0c-89e5-438621e6d02f",
    "papermill": {
     "duration": 0.031485,
     "end_time": "2024-11-24T13:37:35.608132",
     "exception": false,
     "start_time": "2024-11-24T13:37:35.576647",
     "status": "completed"
    },
    "tags": []
   },
   "outputs": [
    {
     "name": "stdout",
     "output_type": "stream",
     "text": [
      "96.83333333333333\n"
     ]
    }
   ],
   "source": [
    "print(original_clean_accuracy)"
   ]
  },
  {
   "cell_type": "code",
   "execution_count": 23,
   "id": "566ead2c",
   "metadata": {
    "execution": {
     "iopub.execute_input": "2024-11-24T13:37:35.655795Z",
     "iopub.status.busy": "2024-11-24T13:37:35.655562Z",
     "iopub.status.idle": "2024-11-24T14:00:45.899698Z",
     "shell.execute_reply": "2024-11-24T14:00:45.898661Z"
    },
    "id": "Uefr4wgaV6A4",
    "outputId": "def3b596-63d2-49ed-84c4-97c875fa5cdb",
    "papermill": {
     "duration": 1390.269964,
     "end_time": "2024-11-24T14:00:45.901499",
     "exception": false,
     "start_time": "2024-11-24T13:37:35.631535",
     "status": "completed"
    },
    "tags": []
   },
   "outputs": [
    {
     "name": "stdout",
     "output_type": "stream",
     "text": [
      "Running experiment with poisoning_rate=0.01 and stretch_factor=0.7\n"
     ]
    },
    {
     "name": "stderr",
     "output_type": "stream",
     "text": [
      "  5%|▌         | 4/75 [00:06<02:01,  1.71s/it]"
     ]
    },
    {
     "name": "stdout",
     "output_type": "stream",
     "text": [
      "Playing clean audio for sample 0\n"
     ]
    },
    {
     "data": {
      "text/html": [
       "\n",
       "                <audio  controls=\"controls\" >\n",
       "                    <source src=\"data:audio/wav;base64,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\" type=\"audio/wav\" />\n",
       "                    Your browser does not support the audio element.\n",
       "                </audio>\n",
       "              "
      ],
      "text/plain": [
       "<IPython.lib.display.Audio object>"
      ]
     },
     "metadata": {},
     "output_type": "display_data"
    },
    {
     "name": "stdout",
     "output_type": "stream",
     "text": [
      "Playing poisoned audio for sample 0\n"
     ]
    },
    {
     "data": {
      "text/html": [
       "\n",
       "                <audio  controls=\"controls\" >\n",
       "                    <source src=\"data:audio/wav;base64,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\" type=\"audio/wav\" />\n",
       "                    Your browser does not support the audio element.\n",
       "                </audio>\n",
       "              "
      ],
      "text/plain": [
       "<IPython.lib.display.Audio object>"
      ]
     },
     "metadata": {},
     "output_type": "display_data"
    },
    {
     "name": "stdout",
     "output_type": "stream",
     "text": [
      "Playing clean audio for sample 1\n"
     ]
    },
    {
     "data": {
      "text/html": [
       "\n",
       "                <audio  controls=\"controls\" >\n",
       "                    <source src=\"data:audio/wav;base64,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\" type=\"audio/wav\" />\n",
       "                    Your browser does not support the audio element.\n",
       "                </audio>\n",
       "              "
      ],
      "text/plain": [
       "<IPython.lib.display.Audio object>"
      ]
     },
     "metadata": {},
     "output_type": "display_data"
    },
    {
     "name": "stdout",
     "output_type": "stream",
     "text": [
      "Playing poisoned audio for sample 1\n"
     ]
    },
    {
     "data": {
      "text/html": [
       "\n",
       "                <audio  controls=\"controls\" >\n",
       "                    <source src=\"data:audio/wav;base64,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\" type=\"audio/wav\" />\n",
       "                    Your browser does not support the audio element.\n",
       "                </audio>\n",
       "              "
      ],
      "text/plain": [
       "<IPython.lib.display.Audio object>"
      ]
     },
     "metadata": {},
     "output_type": "display_data"
    },
    {
     "name": "stderr",
     "output_type": "stream",
     "text": [
      "100%|██████████| 75/75 [02:07<00:00,  1.71s/it]\n"
     ]
    },
    {
     "name": "stdout",
     "output_type": "stream",
     "text": [
      "Epoch 0, Loss: 0.7476246558486794, Training Accuracy: 96.95833333333333\n",
      "Backdoor Attack Success Rate: 8.703703703703704\n",
      "Clean Accuracy Drop: -2.1666666666666714\n",
      "Running experiment with poisoning_rate=0.01 and stretch_factor=1.3\n"
     ]
    },
    {
     "name": "stderr",
     "output_type": "stream",
     "text": [
      "  0%|          | 0/75 [00:00<?, ?it/s]"
     ]
    },
    {
     "name": "stdout",
     "output_type": "stream",
     "text": [
      "Playing clean audio for sample 0\n"
     ]
    },
    {
     "data": {
      "text/html": [
       "\n",
       "                <audio  controls=\"controls\" >\n",
       "                    <source src=\"data:audio/wav;base64,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\" type=\"audio/wav\" />\n",
       "                    Your browser does not support the audio element.\n",
       "                </audio>\n",
       "              "
      ],
      "text/plain": [
       "<IPython.lib.display.Audio object>"
      ]
     },
     "metadata": {},
     "output_type": "display_data"
    },
    {
     "name": "stdout",
     "output_type": "stream",
     "text": [
      "Playing poisoned audio for sample 0\n"
     ]
    },
    {
     "data": {
      "text/html": [
       "\n",
       "                <audio  controls=\"controls\" >\n",
       "                    <source src=\"data:audio/wav;base64,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\" type=\"audio/wav\" />\n",
       "                    Your browser does not support the audio element.\n",
       "                </audio>\n",
       "              "
      ],
      "text/plain": [
       "<IPython.lib.display.Audio object>"
      ]
     },
     "metadata": {},
     "output_type": "display_data"
    },
    {
     "name": "stderr",
     "output_type": "stream",
     "text": [
      "  3%|▎         | 2/75 [00:03<02:03,  1.69s/it]"
     ]
    },
    {
     "name": "stdout",
     "output_type": "stream",
     "text": [
      "Playing clean audio for sample 1\n"
     ]
    },
    {
     "data": {
      "text/html": [
       "\n",
       "                <audio  controls=\"controls\" >\n",
       "                    <source src=\"data:audio/wav;base64,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\" type=\"audio/wav\" />\n",
       "                    Your browser does not support the audio element.\n",
       "                </audio>\n",
       "              "
      ],
      "text/plain": [
       "<IPython.lib.display.Audio object>"
      ]
     },
     "metadata": {},
     "output_type": "display_data"
    },
    {
     "name": "stdout",
     "output_type": "stream",
     "text": [
      "Playing poisoned audio for sample 1\n"
     ]
    },
    {
     "data": {
      "text/html": [
       "\n",
       "                <audio  controls=\"controls\" >\n",
       "                    <source src=\"data:audio/wav;base64,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\" type=\"audio/wav\" />\n",
       "                    Your browser does not support the audio element.\n",
       "                </audio>\n",
       "              "
      ],
      "text/plain": [
       "<IPython.lib.display.Audio object>"
      ]
     },
     "metadata": {},
     "output_type": "display_data"
    },
    {
     "name": "stderr",
     "output_type": "stream",
     "text": [
      "100%|██████████| 75/75 [02:07<00:00,  1.70s/it]\n"
     ]
    },
    {
     "name": "stdout",
     "output_type": "stream",
     "text": [
      "Epoch 0, Loss: 0.7437567793453733, Training Accuracy: 96.75\n",
      "Backdoor Attack Success Rate: 0.18518518518518517\n",
      "Clean Accuracy Drop: -2.1666666666666714\n",
      "Running experiment with poisoning_rate=0.01 and stretch_factor=1.6\n"
     ]
    },
    {
     "name": "stderr",
     "output_type": "stream",
     "text": [
      "  1%|▏         | 1/75 [00:01<02:04,  1.69s/it]"
     ]
    },
    {
     "name": "stdout",
     "output_type": "stream",
     "text": [
      "Playing clean audio for sample 0\n"
     ]
    },
    {
     "data": {
      "text/html": [
       "\n",
       "                <audio  controls=\"controls\" >\n",
       "                    <source src=\"data:audio/wav;base64,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\" type=\"audio/wav\" />\n",
       "                    Your browser does not support the audio element.\n",
       "                </audio>\n",
       "              "
      ],
      "text/plain": [
       "<IPython.lib.display.Audio object>"
      ]
     },
     "metadata": {},
     "output_type": "display_data"
    },
    {
     "name": "stdout",
     "output_type": "stream",
     "text": [
      "Playing poisoned audio for sample 0\n"
     ]
    },
    {
     "data": {
      "text/html": [
       "\n",
       "                <audio  controls=\"controls\" >\n",
       "                    <source src=\"data:audio/wav;base64,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\" type=\"audio/wav\" />\n",
       "                    Your browser does not support the audio element.\n",
       "                </audio>\n",
       "              "
      ],
      "text/plain": [
       "<IPython.lib.display.Audio object>"
      ]
     },
     "metadata": {},
     "output_type": "display_data"
    },
    {
     "name": "stderr",
     "output_type": "stream",
     "text": [
      "  3%|▎         | 2/75 [00:03<02:03,  1.70s/it]"
     ]
    },
    {
     "name": "stdout",
     "output_type": "stream",
     "text": [
      "Playing clean audio for sample 1\n"
     ]
    },
    {
     "data": {
      "text/html": [
       "\n",
       "                <audio  controls=\"controls\" >\n",
       "                    <source src=\"data:audio/wav;base64,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\" type=\"audio/wav\" />\n",
       "                    Your browser does not support the audio element.\n",
       "                </audio>\n",
       "              "
      ],
      "text/plain": [
       "<IPython.lib.display.Audio object>"
      ]
     },
     "metadata": {},
     "output_type": "display_data"
    },
    {
     "name": "stdout",
     "output_type": "stream",
     "text": [
      "Playing poisoned audio for sample 1\n"
     ]
    },
    {
     "data": {
      "text/html": [
       "\n",
       "                <audio  controls=\"controls\" >\n",
       "                    <source src=\"data:audio/wav;base64,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\" type=\"audio/wav\" />\n",
       "                    Your browser does not support the audio element.\n",
       "                </audio>\n",
       "              "
      ],
      "text/plain": [
       "<IPython.lib.display.Audio object>"
      ]
     },
     "metadata": {},
     "output_type": "display_data"
    },
    {
     "name": "stderr",
     "output_type": "stream",
     "text": [
      "100%|██████████| 75/75 [02:08<00:00,  1.71s/it]\n"
     ]
    },
    {
     "name": "stdout",
     "output_type": "stream",
     "text": [
      "Epoch 0, Loss: 0.7372072420797, Training Accuracy: 96.70833333333333\n",
      "Backdoor Attack Success Rate: 0.0\n",
      "Clean Accuracy Drop: -0.6666666666666714\n",
      "Running experiment with poisoning_rate=0.05 and stretch_factor=0.7\n"
     ]
    },
    {
     "name": "stderr",
     "output_type": "stream",
     "text": [
      "  0%|          | 0/75 [00:00<?, ?it/s]"
     ]
    },
    {
     "name": "stdout",
     "output_type": "stream",
     "text": [
      "Playing clean audio for sample 0\n"
     ]
    },
    {
     "data": {
      "text/html": [
       "\n",
       "                <audio  controls=\"controls\" >\n",
       "                    <source src=\"data:audio/wav;base64,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\" type=\"audio/wav\" />\n",
       "                    Your browser does not support the audio element.\n",
       "                </audio>\n",
       "              "
      ],
      "text/plain": [
       "<IPython.lib.display.Audio object>"
      ]
     },
     "metadata": {},
     "output_type": "display_data"
    },
    {
     "name": "stdout",
     "output_type": "stream",
     "text": [
      "Playing poisoned audio for sample 0\n"
     ]
    },
    {
     "data": {
      "text/html": [
       "\n",
       "                <audio  controls=\"controls\" >\n",
       "                    <source src=\"data:audio/wav;base64,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\" type=\"audio/wav\" />\n",
       "                    Your browser does not support the audio element.\n",
       "                </audio>\n",
       "              "
      ],
      "text/plain": [
       "<IPython.lib.display.Audio object>"
      ]
     },
     "metadata": {},
     "output_type": "display_data"
    },
    {
     "name": "stdout",
     "output_type": "stream",
     "text": [
      "Playing clean audio for sample 1\n"
     ]
    },
    {
     "data": {
      "text/html": [
       "\n",
       "                <audio  controls=\"controls\" >\n",
       "                    <source src=\"data:audio/wav;base64,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\" type=\"audio/wav\" />\n",
       "                    Your browser does not support the audio element.\n",
       "                </audio>\n",
       "              "
      ],
      "text/plain": [
       "<IPython.lib.display.Audio object>"
      ]
     },
     "metadata": {},
     "output_type": "display_data"
    },
    {
     "name": "stdout",
     "output_type": "stream",
     "text": [
      "Playing poisoned audio for sample 1\n"
     ]
    },
    {
     "data": {
      "text/html": [
       "\n",
       "                <audio  controls=\"controls\" >\n",
       "                    <source src=\"data:audio/wav;base64,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\" type=\"audio/wav\" />\n",
       "                    Your browser does not support the audio element.\n",
       "                </audio>\n",
       "              "
      ],
      "text/plain": [
       "<IPython.lib.display.Audio object>"
      ]
     },
     "metadata": {},
     "output_type": "display_data"
    },
    {
     "name": "stderr",
     "output_type": "stream",
     "text": [
      "100%|██████████| 75/75 [02:09<00:00,  1.73s/it]\n"
     ]
    },
    {
     "name": "stdout",
     "output_type": "stream",
     "text": [
      "Epoch 0, Loss: 0.7922231049214801, Training Accuracy: 91.41666666666667\n",
      "Backdoor Attack Success Rate: 52.77777777777778\n",
      "Clean Accuracy Drop: -1.0\n",
      "Running experiment with poisoning_rate=0.05 and stretch_factor=1.3\n"
     ]
    },
    {
     "name": "stderr",
     "output_type": "stream",
     "text": [
      "  0%|          | 0/75 [00:00<?, ?it/s]"
     ]
    },
    {
     "name": "stdout",
     "output_type": "stream",
     "text": [
      "Playing clean audio for sample 0\n"
     ]
    },
    {
     "data": {
      "text/html": [
       "\n",
       "                <audio  controls=\"controls\" >\n",
       "                    <source src=\"data:audio/wav;base64,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\" type=\"audio/wav\" />\n",
       "                    Your browser does not support the audio element.\n",
       "                </audio>\n",
       "              "
      ],
      "text/plain": [
       "<IPython.lib.display.Audio object>"
      ]
     },
     "metadata": {},
     "output_type": "display_data"
    },
    {
     "name": "stdout",
     "output_type": "stream",
     "text": [
      "Playing poisoned audio for sample 0\n"
     ]
    },
    {
     "data": {
      "text/html": [
       "\n",
       "                <audio  controls=\"controls\" >\n",
       "                    <source src=\"data:audio/wav;base64,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\" type=\"audio/wav\" />\n",
       "                    Your browser does not support the audio element.\n",
       "                </audio>\n",
       "              "
      ],
      "text/plain": [
       "<IPython.lib.display.Audio object>"
      ]
     },
     "metadata": {},
     "output_type": "display_data"
    },
    {
     "name": "stderr",
     "output_type": "stream",
     "text": [
      "  1%|▏         | 1/75 [00:01<02:08,  1.74s/it]"
     ]
    },
    {
     "name": "stdout",
     "output_type": "stream",
     "text": [
      "Playing clean audio for sample 1\n"
     ]
    },
    {
     "data": {
      "text/html": [
       "\n",
       "                <audio  controls=\"controls\" >\n",
       "                    <source src=\"data:audio/wav;base64,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\" type=\"audio/wav\" />\n",
       "                    Your browser does not support the audio element.\n",
       "                </audio>\n",
       "              "
      ],
      "text/plain": [
       "<IPython.lib.display.Audio object>"
      ]
     },
     "metadata": {},
     "output_type": "display_data"
    },
    {
     "name": "stdout",
     "output_type": "stream",
     "text": [
      "Playing poisoned audio for sample 1\n"
     ]
    },
    {
     "data": {
      "text/html": [
       "\n",
       "                <audio  controls=\"controls\" >\n",
       "                    <source src=\"data:audio/wav;base64,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\" type=\"audio/wav\" />\n",
       "                    Your browser does not support the audio element.\n",
       "                </audio>\n",
       "              "
      ],
      "text/plain": [
       "<IPython.lib.display.Audio object>"
      ]
     },
     "metadata": {},
     "output_type": "display_data"
    },
    {
     "name": "stderr",
     "output_type": "stream",
     "text": [
      "100%|██████████| 75/75 [02:08<00:00,  1.71s/it]\n"
     ]
    },
    {
     "name": "stdout",
     "output_type": "stream",
     "text": [
      "Epoch 0, Loss: 0.7888182890539368, Training Accuracy: 89.16666666666667\n",
      "Backdoor Attack Success Rate: 4.2592592592592595\n",
      "Clean Accuracy Drop: -1.8333333333333428\n",
      "Running experiment with poisoning_rate=0.05 and stretch_factor=1.6\n"
     ]
    },
    {
     "name": "stderr",
     "output_type": "stream",
     "text": [
      "  4%|▍         | 3/75 [00:09<04:43,  3.94s/it]"
     ]
    },
    {
     "name": "stdout",
     "output_type": "stream",
     "text": [
      "Playing clean audio for sample 0\n"
     ]
    },
    {
     "data": {
      "text/html": [
       "\n",
       "                <audio  controls=\"controls\" >\n",
       "                    <source src=\"data:audio/wav;base64,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\" type=\"audio/wav\" />\n",
       "                    Your browser does not support the audio element.\n",
       "                </audio>\n",
       "              "
      ],
      "text/plain": [
       "<IPython.lib.display.Audio object>"
      ]
     },
     "metadata": {},
     "output_type": "display_data"
    },
    {
     "name": "stdout",
     "output_type": "stream",
     "text": [
      "Playing poisoned audio for sample 0\n"
     ]
    },
    {
     "data": {
      "text/html": [
       "\n",
       "                <audio  controls=\"controls\" >\n",
       "                    <source src=\"data:audio/wav;base64,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\" type=\"audio/wav\" />\n",
       "                    Your browser does not support the audio element.\n",
       "                </audio>\n",
       "              "
      ],
      "text/plain": [
       "<IPython.lib.display.Audio object>"
      ]
     },
     "metadata": {},
     "output_type": "display_data"
    },
    {
     "name": "stdout",
     "output_type": "stream",
     "text": [
      "Playing clean audio for sample 1\n"
     ]
    },
    {
     "data": {
      "text/html": [
       "\n",
       "                <audio  controls=\"controls\" >\n",
       "                    <source src=\"data:audio/wav;base64,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\" type=\"audio/wav\" />\n",
       "                    Your browser does not support the audio element.\n",
       "                </audio>\n",
       "              "
      ],
      "text/plain": [
       "<IPython.lib.display.Audio object>"
      ]
     },
     "metadata": {},
     "output_type": "display_data"
    },
    {
     "name": "stdout",
     "output_type": "stream",
     "text": [
      "Playing poisoned audio for sample 1\n"
     ]
    },
    {
     "data": {
      "text/html": [
       "\n",
       "                <audio  controls=\"controls\" >\n",
       "                    <source src=\"data:audio/wav;base64,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\" type=\"audio/wav\" />\n",
       "                    Your browser does not support the audio element.\n",
       "                </audio>\n",
       "              "
      ],
      "text/plain": [
       "<IPython.lib.display.Audio object>"
      ]
     },
     "metadata": {},
     "output_type": "display_data"
    },
    {
     "name": "stderr",
     "output_type": "stream",
     "text": [
      "100%|██████████| 75/75 [02:13<00:00,  1.78s/it]\n"
     ]
    },
    {
     "name": "stdout",
     "output_type": "stream",
     "text": [
      "Epoch 0, Loss: 0.7701597721222788, Training Accuracy: 90.79166666666667\n",
      "Backdoor Attack Success Rate: 44.629629629629626\n",
      "Clean Accuracy Drop: -1.3333333333333428\n",
      "Running experiment with poisoning_rate=0.1 and stretch_factor=0.7\n"
     ]
    },
    {
     "name": "stderr",
     "output_type": "stream",
     "text": [
      "  0%|          | 0/75 [00:00<?, ?it/s]"
     ]
    },
    {
     "name": "stdout",
     "output_type": "stream",
     "text": [
      "Playing clean audio for sample 0\n"
     ]
    },
    {
     "data": {
      "text/html": [
       "\n",
       "                <audio  controls=\"controls\" >\n",
       "                    <source src=\"data:audio/wav;base64,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\" type=\"audio/wav\" />\n",
       "                    Your browser does not support the audio element.\n",
       "                </audio>\n",
       "              "
      ],
      "text/plain": [
       "<IPython.lib.display.Audio object>"
      ]
     },
     "metadata": {},
     "output_type": "display_data"
    },
    {
     "name": "stdout",
     "output_type": "stream",
     "text": [
      "Playing poisoned audio for sample 0\n"
     ]
    },
    {
     "data": {
      "text/html": [
       "\n",
       "                <audio  controls=\"controls\" >\n",
       "                    <source src=\"data:audio/wav;base64,UklGRmxCAABXQVZFZm10IBAAAAABAAEAgD4AAAB9AAACABAAZGF0YUhCAADx////DAAMAAkAEwAjACcAIwAhACMAIgAhACAAHwAZABEADAAPABgAHAAcACMANQA9ADAAIQAkACsAIgAPAAYACgATABwAIwAlACIAIQAkACwAMAApABwAFgAfACUAHQASABEAEwAPAAwAFQAeABwAEwALAAcAAwAAAAEADAAZABwAEwAOABYAHwAcABEAEgAhADIAOQAvABIA8v/q/wAAGAAZAAkABAANABcAFwAPAAkACwAWACQAMwBBAEsAUABOAEgAPAAtAB4AEwARABYAFgANAAAA+v/7/wEABwAMAA4ADwAXACUAJgAVAAUACQAZACAAGwATABAAFAAgACwAJQANAPf/8f/3//j/7v/o//X/DgAYAAUA7//t//D/5P/b/+j/9//u/+D/5v/7/wsAEwAWABUADgAGAP3/7v/b/9b/5P/z/+//3P/P/9T/5//2//T/5//Z/8//zP/a//X/CQAIAPr/8v/7/wkABgDs/9H/zf/i//v/CAAJAAAA9v/z//n////8//H/5v/m//H//f8DAAIA/v/1/+r/3f/Z/+P/+f8FAAEA+f/5/wEAAgDz/9r/z//Y/+b/5//e/9j/3P/m//L//P/8/+//3P/M/8j/zv/T/9D/y//K/8v/zf/d//b/+//k/87/1//x//7/+P/q/9z/zv/O/93/8P/9/wMADgAgACoAGQDx/9T/3P/1//v/6//Y/83/yP/H/87/2f/n//X///8DAAMAAgAGAA0AEwAOAP7/7//u//X/+v/9//3/9P/n/+T/9f8JABAACQAAAPb/7P/w/wEADQAGAPz///8DAPv/7P/g/9D/t/+n/7f/4v8OACQAIAAPAAEAAQAQAB8AHQAFAOj/4/8FADsAXQBPABYA2f+1/7P/yf/s/wkADQD1/9z/4f/+/xQAGQAUAA4ABQD7//X/9f/3//L/5v/i/+z/+f/7//b/9//4//H/8/8AAAQA9P/m/+//AgANAA4ACgADAP3/+v/8/wQADAALAAcADgAaABYA+//b/9T/8v8fADUAIAD1/9b/2P/w/wUAAgDo/8r/w//W//H//v/7//r/AgARABcACgDv/9j/4/8NACsAIQAGAAAAEQAfACEAIAAjACQAIgAbAAwA+//4/wAABAADAA0AIgApABEA6//Y/+v/DgAZAAgA/P8MACoANwAtABgABAD0/+n/7P/4/wAA9//j/9//9P8JAA4ACQALAA8ABADt/+X/AAArADsAHADv/97/8P8HAAAA3f/K/+v/JQBNAFgAUQA5ABwAIgBPAG8AXAAzACEAIwAjACUANgA+ACwAFAAcADsATABDAC4AEgD1/+P/4v/o/+////8SABEA+f/i/93/0f+v/5b/pf/A/8f/zP/v/xkALAArACcAIQAaACMARwByAIIAaQA5ABcAFwAkABkA7f+y/4L/cf+K/77/4P/X/7T/n/+w/+D/CgASAAAA+P8AAAcA/P/s//n/MQBqAGQAGgDP/7//7v8wAEoAHADS/7X/3P8RAB4AAADb/9L/6P8DAA0ACwAIAAgADQAYABoABgDi/8L/vv/g/w4AJgAXAPn/5//n/+3/8v/7/wgADQD8/+D/2//3/xQADwDp/8r/1P/7/xkAHAAOAAoAGwAuAC8AJQAfACAAHAASAA0AFwAuAD4ALAD+/9T/yf/W/+7/BgALAPH/zv/I//D/OgBrADwAy/+K/7j/DQAzACUADwD6/+b/8P8oAFwASgDy/53/of8HAIUAvQCGAAgAof+T/8b//v8cABYA4v+e/5z/+f9WAEsA3v9g/xf/Jf98/9j/6P+d/zv/JP+B/xIAZwBJAOr/oP+b/9z/QACMAIMALgDX/7j/y//q/wsAOABWADEAxP9a/1f/vv8kAC0A8f/W/xIAYgBbAPf/nv+t/wUAQAAyAA0AAgAQACAAGQD5//D/QADKAAMBngDy/5D/s/8cAFQAHgCq/1v/a//K/zYAWQAWAKz/af9i/37/nf+r/8n/JwCcAK8AQADC/67/EgCaAOAAsgAyALL/ff+w/x4AagBUAAQA1v/4/1oAvgDcAKQAUwAnACgAQwBdAF8APQAMAOj/4/8KAFMAgABZAO7/jf97/8n/RQCHAEYAt/9U/1v/nv/Z//z/DAD7/7v/fv+M/+H/NQBRADAA6/+j/5b/5/9mAKUAWACv/zj/ZP8EAHYAVwDq/7P/2v8QABQACAAoAGEAXAAHALj/uv8AAD4ASgA4ACwAHwAIAAAAEwAfAAQA4f/n/w8ALwBFAGMAcwBLAPX/tv/B//v/EQDW/23/Mv9c/8//SACaAKwAagDm/3n/hf8QALIA5gCMAP3/q//F/zMAuQD4ALIAGwC//+T/TAB9AD0A0P+g/8v/+v/W/4n/if/2/2sAdAD7/2r/Rf+Y/wEAOQA/AC0AEQDx/9H/r/+K/2P/Pv8p/0L/jP/N/8//mf9o/3r/3v9WAKMAtwCWADwA3//e/0UApQCPACEAxf+s/7n/wf+2/6f/o/+n/6X/nP+q/+7/RgBVAAAAqf+6/xUAVABMABwA8f/l/wEANQBeAGUATwAsAAsA+v8HADoAbgBtACgA0P+q/8f/+v8KAPT/1P/D/73/xv/s/woA8f+w/5P/t//9/zwAXABPACEA7v/D/73/+P9TAHcAPQDo/8b/5P8TABQA2f+m/7X/3v/V/6P/mP/Y/ysASQAjAPj/AQA2AGYAdgBiACgA8f8LAIwADgEFAVQAhP9E/7T/QABRAOX/dv9f/5j/3f/8//X/4v/P/8T/zP/i//X/DwBIAH0AdwBIAEAAdgCuAKcAYwAcABYATwB7AGcALAD1/8X/m/+W/9b/OABhABsAnv9d/4D/wv/a/8//vv+h/2//S/9r/8f/DAAHAO7/AQAbAOX/ef9h/+X/mgDYAHkAAADn/wUA9f+1/6z/AABcAGwARAAyAD0ALgDy/6z/jP+l/+//VQCbAHoA+f+H/5X/EgCCAJIAYgAzABIA/v/2/wgATACrAMwAeQDy/57/ov/l/x8ABQCT/zv/bf8HAHwAawD2/5X/rP8DABIAwP99/5D/0P/+/wEA8/8AADMASwAVAM7/z/8IAC4AJAAWACEALQAXAPD/7P8XAD8ASABVAHIAcgBEAAsA8v///xsAIQAFAOb/1f+4/4H/W/9t/5n/qf+X/4z/nP+6/8//4v8bAHoArABtAPL/r//U/yEARAAuAAsA/v8EABQALAA3ABEAzf+y/9j/AgD9/97/2P/4/xQA9f+f/2T/fP+9/97/2v/N/8X/0v8DADwARQAcAOf/1f8RAIYAuQBWAL7/nf8JAGAAIwCj/5D/AQBVABgApv+R/93/HwAbAPD/2f/u/xcANQBAACoA6f+2/+H/SQB9AE4ACgAHADoARQDr/2T/Qf+2/zwAJQB8//b+9v4v/07/av+z/wQAIAAUACsAbQB/AC0A2f8VAN0AeQFaAawAFgAIAEQAMwCx/0D/QP9l/13/S/9a/3r/t/9KAAEBIAFPAD3/9/62/5UAqwALAIz/tP8fAA4Acv8L/2H/DABGAOX/df94/9L/8/+f/2D/0/+2ACABngC1/z//l/8oACcAq/+X/zYAwwCbAB8A//9AAGwARAD5/9f/7/8YADEAHwDR/2X/QP+q/10AxwCPAO7/c/9//+H/JQArACUAKQAKALL/RP8I/xr/Y/+t/9n/3v+w/1//Rf+s/08AkQA7ALz/k//Q/xQAGgD4//H/EgA6AEIAIgDu/8f/yf/y/w8A+P/A/6r/0v/7/9n/jf+S//f/KgDQ/1P/Zf8ZAL4AoADv/43/5/9uAGkA6/+Z/8P/DwATAM3/mP+q/8X/qP+c//b/fgDGALMAZQD7/5j/af+R/xQAlQCeAEIADwAvAD0ACwDj/+z/+v///wcAAgAOAHAA7wDuAGYA6v/K/9T/w/+O/1X/Of80/y//Sv+5/00AiQAoAFT/h/6K/sz/ewEIAucAQ//N/vz/YQFEAcn/wf5b/9sAzgGmAeAAMQDS/4T/Mf8c/2j/2v9FAKUAnADc//z+4v6H/yAAFAB4//L+CP9z/5H/eP+0/zcAkwCcAGIAGgAaAGoAwgDmAL0AKwBj/wr/nP/bAOMBywGmALD/4f+xAOQABgDf/pr+ff9JALb/Lf5G/dj9Tv9PABMATP8+/ygATQECAvMBDAHO/xH/QP8xAGIBAgJ7ARcAvv4t/qL+ov9TAGwATwA5AP//if8P/+/+Yf8MAD4A1P9t/5X/FgBOAAcAzv8kAKYAgAC9/1v//f8IAV4BsADy/yEA5wAJASkAS/+D/4sADwFFABn//f7X/ygAUP9o/qn+7P/nAJcAcv8A/wYAaAF6ASYAA/9D/00AugAdAG//x//vAIgB6AAQAAoAbQBHAL//0f/UAOcBzwFvADj/i//fAFMBFgBr/hb+Z//pAA4BGQDH/7IAZgF7AM3+mv6OAJECDwJG/zj9Bv4+AM4AGv+z/Zv+XwBuAMn+tf2D/gMAJACm/pv9lf56AFUBDwHKAMsAeACZ/8j+A/+iALICuQMIAxABD/9j/lH/tQBPAfcAngAYAdsBegG0//v9qP3E/pAA6QF8AQ//M/zl+v374f6aARACMwBJ/lX+HQCmAVYB9f/c/5gB1wKdAQ7/Bf6s/yYCrwLjAD//0f+NAfMBiABL/9f/OAEtAU3/7P05/ycChAPlAUf/gP72/24B0ACZ/in96v3R/9QAMwAS/wL/IwAnAQcBIQB1/2r/yv9EAJ0AlAAGAC3/m/6//on/cwDcAIAAw/9F/0L/ev+6//T/+/+a/wj/6v62//AAhQHzAOL/dP8YABYBYgHQAEsAtgC3ARoCcQGYAE8AWgBBAAYA//86AE4A3v9B/xn/Zf+b/4f/k/8bALgAnQCa/4T+Zv5K/0oA1AAFAeUANgAy/8/+4f/vAVUD3QIOAYL/O//t/1wAlv87/ij+DgBTAvwCyQH6//P+Rf89ALsAYgCp/yz/Yv9hAIMB2gEeAej/Jv98/74A8gEtAl0B+f+w/kf+7f72/5YAhADb//v+ZP5b/tP+kf8+AI0AZgDV//T+XP7W/iEAyQDq/2f+6/3v/j4AfQDu/xEAbAFdAhsBbf4Y/WD+iwA9ASgAI//Z/7IBhgJJAUb/gf5k/58ASAGvAf4BcAFy/wL9XvzK/oUCFgQ1Ajb/3v1T/vH+5P6f/m/+Qv5l/kD/VQBeAN7+Qf2a/R8ApALQAtAAMf/K/3sBrgHB///9tv4mAXYCMgHU/tT9+P7mAPkBswG5ABgAQgCcAGEAtv88/0D/v/91AK0A7v++/jP+0P4DAKQA+/+V/tn9Rv70/kX/t/+wAI8BXwEGAFj+aP3W/YL/iAGWAu0BUwA5/w//Rv+G/wsA0wBYARoBFwDp/mb+0P5i/zT/aP4A/o7+lP8yAAgAS/+M/nP+Ov9dAAkB6AB7AFUAFwAJ/7793/3l/0IC7AIWATj+Hv36/s8BtAIXAQf/if63/zUBmgGlAH3/Sf/n/3MATQBX/1L+pP6yAOkCKAMsARv/OP8dAUsCXQGP/63+v/6d/hH+MP63/5MBmAEF/yL8PPzN/5kDBgTOAFL9Nf1KAJUCaAG+/uP9Av8UAJ8ArgH9AskCfgDf/WH9yv/0ApIDGAGU/sP+5wDoAQoAZv2U/QMBSAQNBJAA9vz1+7L9MQBaAZoA9f6y/ZT9+P5hARMDdgL1/679W/3E/mwATAFLAb4ALwAoAMAAbgFcAUcAKP9E/4cAdAH0AJ3/0/4n/7P/af+6/i7//gA8AkwBH//m/Yn+/v+kAAUAXP8HAM4BCwOFAqIA3v5u/lb/eADCACUAZf8p/3X/0f/W/4P/Rv+N/y8AegD4//b+S/6U/pr/bABMAHD/v/6+/hT/H//M/rj+c/+bAB0BZQAK/yz+if4HAJQBxgFWAKD+NP5a//gApAHtAP//YgCqAZoBd/+C/Qr+PAA6Ab//lP1L/SX/5wCsABH/Fv51/kT/rv+5/6//2P9fANcAVgDT/r/9ef6FAEUCwgIDAnIA/f7w/msA4gHBAR8Adf79/Z3+Vv+W/6//IQDFANUAHwDE/+cAvQLTAiEAHP0f/SUA9gIfAwgB9v4J/y0BCAN2Auv/F/7w/n4B9QKPAT3+9/v+/CwA6gEeAIL8y/ri/CoBSAT+A88Arf1q/R0AXgNsBEYCmP5P/Nj8Sv/NAaACFQHu/v3+SQHfAgICHQAc/wj/5v6F/s/+eQBsAoMCRADC/VH9+P6NADIAZf59/ef+XQGYAqsBff8A/sr+VQEsA3sCAAAX/nT+oAB0AjgCWQC5/q3+9f9mAQ0CnwFgAOv+3v2k/Rb+nv7q/hT/Rv+H/8z/JgC8ACcBfADp/iD++P4DAP//zf+UAJUBegFfAGH/Mf+o/w8AGgBqADQBYAFRAA7/l/6C/jn+Uf50/+EADQGN/8z9p/1Z/xUBLAEdAKz/dwCWAd8BsQBw/sD8RP2E/zYBDQEgAPf/TQDw/+P+ff5J/wYAd/8y/u/9Xv93AYgCvgEPAB3/Qv+l//r/1wAhAncC/wDm/gb+lv5k/+D/gQA9ATwBlwDQALwC4ATFBM0BW/7I/ZgAnwOvAzEBdf+iABQDlgOnAbv/mf+bAGUBYAE5ABz+ivzV/En+ev8EACgAMQChAI4BFgJzAeD/SP7L/QD/3ABMAbP/3/2E/UL+IP/r/3YAZgDa/6f/fwC6AaoBu/9+/f/8V/6i/1f/AP5x/Wb+Xf9l/hj8jfti/vkBbgKm/1P9Kf7+APECkwK6AFL/iv+LAJEAef/N/i3/dP/C/sj98f3A/7cBrwH7/0P/VQDvAMD/p/6Q/1UBZQFX/3P9/P1cAHcBhv/c/AT9EwC2AiACDv/h/Nj9eQC6AZsAsv4Z/pz/VAJWBEcEiwJ4AO7+Nv5s/h3/cv9c/3P/0v///4D/OP7G/Gf8pf2I/24AoP/k/cD8Jv2S/qD/mP/8/nT+Sv4D/9QAWQKQAcD+wvyr/UAAsAHaAA7/L/69/n//XP/l/vX+Cv/P/nj/egHkAgIC4//Y/rX/GgEFAXD/uP5LAD8CVwJkAQoBzQAKANX/bAArAMD+i/4HAesDwAOPAPX9av6JAJUBBQGOAHUB0gLEAgQBYv9T/w0AzP8x/qj8tPx//qoAXwH8/6v9gfwD/jQBRAIZ/zX73PttAbQGNAYzACP7svwVA5EHjAZlAlP/MP8aAR8DGwTZA78Bvv25+vv7HADCAkMCSgDQ/g7/SAHPA+ADHAF2/p7+NAHIAz0EqwJKAU0BTAF0AIIAWAK3A1MCy/7m+x/8Pf+8AXUAH/1Z/LX/MQSrBYcCgv1+++/9OQGxAZr/mv30/f8APwRXBHQBS/+6/9IA9AAPAacBVQGS/0X+Ov9KAawBkf9F/Wj9wf+gAVoB9f8l/yH/Hf++/n/+yf4+/1v/dv9gAPgBmQIGAXb+Lf3L/Xr/RAEOAkEBIQBoAL4BIAKbAK3+7f4CAgsFdASzAC3+kv+fApYDsgEJ/9H9nv5bAHoBMQG7/x3+7/3r/0MCBgIq/1b9LP+DAlYDGAHt/h//sgCEASgBFgE8AmQDxQJgACn+G/7b/7wAKf/V/Eb8sf10//j/jP7l+xr6wvo+/Wj/mv8E/pb8N/0G/+z+kfzB+6L+1gGnAfX/xAA0Ay8DYQAG/qL9n/5tAP0BzwEvADP/+/9jAZ0BOQDi/oT/agHCAQgAIv9hAFEB9P8V/vn++QI+BskE8P9E/Sj/0QEDAWn9p/rY+nn9vgD1AmwDCgLp/gn8Bf3zAb0FVATT//78W/3W/sb/jQCdAQICogAy/g/9Yv5HAGUAR/8W//r/JwDp/rb9H/77/5sBXwGl/+H+qABaAxQEOgKy/1n+cv4i/7P/PADFAMQAZwC0ACAB2/9Z/VP8uv3c/+EACgAx/v790QDVA0sDvP/w/HP98QCwBFQFiQKT/6L+xP4M/9D/aACm/37+HP93AdwCxAA3/Kr54fsCAHAB1/+T/pX/YwFWAdz+lPxz/akAhAJ2Ac3/yf+5AMYAZ//F/bz92f9DArUCQAHf/8v/UwAYAHD+OPzH+2j+mgGPAWz+bfwy/lgBIAJ7AFH/7/+mAPX/+/6k/10BoAH0/+P+4//vACUAc/+/AWgFowWkAS/+N/+AA9gGagbcAk//mP4GAYMEjwZHBlwEzgGU/37+a/6n/nn/lwGxAy8DbABP/wICaAX+BNUAKP3c/JT+q/8XAEABPgKpABn9ufvF/t8CbAO2AFj+Q/3W+6X6O/za/wUBuv3f+ZP6b/+UAtH/Jfqd+NP9OwRmBFT+lfnz+of+1f73/H39jABFAnsB0gC+AbICNwKbACX/Nv8NAbECEQIQABX/tf8GAQ4CswHp/6D+D/+w/7n/wgCLAucBIf45+5T8LwBqAQv/b/wL/UQAcAJ9ASb/Gf7h/nAA9wHhAgkCNP+v/An9dP/2AJ8A9f/9/1sAewDg/2/+Q/2H/Yj+sP41/tr+5ADwAd3/L/wM+/f9lwEhAvL/RP7k/qwAWwEFAFr+xv7nAOEBzgDw/+EAlQLsArYAIv2Q+8D9FwFUArgByAAg/7n84/vF/TsAFAGZADEAbgC8AFYARv9h/n3+z/+jAWoCAwHD/q7+aAHLA88CRP+z/MD9vwGDBW8GlgTIAZj/xf6v/x0ChATVBJsCfv+3/W7+5wBAA98DbgL8/3D+IP9kAdwCxgHs/oT8rPtA/AP+iQDMAloDXwE9/jj9BgB0BNkGwQVSAsz+kf1e//0BrQI7AUP/Kv4r/3wClAU1BaoBhf5H/uz/HwEsAboAzv8O/s38hv4PA5YGwgX3AZz/gQA7AkoCSAFsASAD7AODAdX9KP1SAIwD3wN7Ao8BCwGzANMBdASnBUUDfP+r/t8BKgWjBF4BMv+H/6oADgEoAUAC5gPfAywBL/5h/vkBQAU8BfcCCAFPAGEAYAFyA1UFewXtA6sBWf8r/h0A4wRpCPUGFAJZ/wQCAQcICDAD9f2l/h4EuAdtBhwD+gCIABUBtwGCAckACwFMArYC3gG7ASoDTARDA+MAif8IABoBqgHXAbwBFQE4AOL/QAAMAbYBaQHr/0v+9P0f/wkBowK9AgMB2f6D/bD8Pvw5/XH/ZABp/mn7rvqX/Ff+p/2B+7v6e/yE/gz+4Pth+2n9kP8DAMn+U/wi+r76Tf5OAc0Aq/2j+nH5w/pN/t4BZQJJ/8v72fs3/8EB8QCW/hz90PxF/VD+Zf8qALYAcgA5/uz63PmL/BUAcgFjAdgBUQI3AXv+E/yN/Mr/oAEH/zT7L/tl/g4BjgI4A80A5fus+gEAEQaaBjED0AA5AO3+jfxv+8X80v6J/0X/Qf/v/n39Pfwa/a//lwHgAPv9mvsr/Kv+8P/w/qX9af10/Tf9xP1g/yQAa/5/+0360PvN/cT9r/um+WT59Pom/cv+8f4l/Wn6QfkG+9r9qP7Z/Gz6K/lY+Y/6C/yc/LD7SPql+aT5mfn/+Zj7lv1U/nv9+PvA+tn68vxh/+3+TPuU+Ff67/5/Abv/APwV+hf7M/1Y/j7+6v3h/eD96f0Z/gb+hf1z/Zf+6v+R/579CfwC/CD9dv4//zb/zf6B/l7+Wf6W/u7+8/6R/o/+u/99AUUCcAHn/0P/XgBTAkQDuwJDAtQCLQN8Aj4CZgNFBDQDPAF7AEcBfAKUA3sEOwROAnQA1wADA6gEnwSzA0ED1APLBC0FCAXkBDEEaAJZAdcCcAV5BpIF0APvAfEAMgISBY0GrQROAdz/MQEdA6gDHgPYAjYDewPvAuABaAFJArsD/QOhAoQBJgJ9A6cDoQLcASMCugJ7AmUBtgAeAZ8BVQFXAY4C2AI0AEH90P2uAJEBg/9y/Yj9Wv+aATID1gNzBHkFkAW9A1MBHQDdAHwDFgaHBf4BuP8RAU4DHgP1AGH/p/+jAXAEYAYJBpsDngAN/wsAeAK6A9YCFwHT/3P/AAA6AUEC7gEtAHj+TP59/18Aqv8q/gD+xP+fAdEBpgBo/+D+ev9sAbQDUASlAr8AqACZAWAB4/9F/5kANQLcAaL/+P2j/m0AuwD7/iv9Af00/qz/bgCL/079HPyB/cj/hQC8/8H+/P1p/ZH9Y/6W/on9a/yI/Mf9Cv8o/9z9Nvyp+3787v01/4r/Uv6K/Gv8Zf4XAKH/8/3+/ED98f11/sP+n/6D/dj7KPsh/HH9bv0+/Hj7Ufw3/lL/pv5H/aH8+fzk/fP+if8p/zr+zP1G/uH+n/5z/YH8IP0G/wQAx/4j/e79EgEXAy8BCP1E+w7+vALlBOQC/f66/LT9ogC1AjUCLAD8/qn/RwFwAm8CqAEVAfUApwAyAIAAxgHpAucCtAEFAFf/HQFlBOUFAgQMAfj/5wAyAuMCBAMBAyQDQgMaA+YC7gIqA4YDEwSRBHcEjQPxARMALf98ALcDugZEBxwFkQInAs4DJQWPBN8C8wGdAicE+gQFBLoBkf/V/ggATgJ2AzsCKQC+/1kBPAOXAxwCRQAkAEcC2gSEBfUDFgLTAScDNARMAwUBr/+LAGYCUwOsAvMA1/5E/Xz9m/93Ac4AV/7w/BH+QAASAfD/sf4x/68A2gBA/+79nP7BAKoC5AIjAeT+af78/3gBIgGK/1L+X/5j/4EACwHcADwAlv8+/2//3//Z/xr/SP49/i//kQBsAbYAYP4P/O37T/75AGEBb/9e/Rz9iv5BAPkAJABR/gH9av0o/7AA9wA2AFT/Cf9X/43/Y/90/8v/eP8s/sv8cPyD/Tj/+/8C/1v9yvy2/eP+Of/J/jf+GP7A/uT/pQALAND9bvtD+3v9i/9d/zT92/o/+ub7VP5T/yT++/uU+tD6bvwZ/lf+Hv23+/n6Bfsh/A/+NP9R/h78Lvo/+Zn5T/sP/a/8cPpX+Tz7Rf65/4X/3/+oAcEC3wBo/Ub83f5BAiIDlQH+/3j/Rf8x//7/VgH7AfkBeQJ4A+cDtgPFA1QEEgWWBQsFAgOlAH//bP8j/xn+G/0g/fH9Vf7o/cH9rv5v/wj+kfqr9533uvln+1j7pfqv+lb70fvj+8D7n/uT+4P7nPtW/LX93/4D/yX+5vzz++/71fyd/Vv9YPyK+177Ivyt/R3/l/82//D+qv9zAWUDUgT/A6MDmATKBhEJeQqmCv8JiQnkCYAKWAolCYgHOgZfBbUEKATYA4YDowI2ASIAJQDpAKYB8QG8AU0BWAEpAk8DJwRJBGUD1gHlAKQBdgN2BGoDDgFX/0z/DQAfABb/o/2q/LD8nf3A/kj/1v7j/Xv9DP6y/mT+Y/2U/B/8lfsX+0P7Hvy+/ED8Ifvw+qP8V/8eAecAlf/x/rv/DwHVAa0B5QAPALf/BwDYAL0B/QEWAXr/Kv68/fX9T/41/nL9e/wi/PX88P4UAdcB5QAqAIsBUwSyBTgEpQE1Af4DOQiVC6MNQg/rEDsS1xJ5EgMRkQ76C6EKlwsGDkEPGQ13CHkE4QJlAhkB3P57/WT+8gCJAx4FUgUzBEACnv8V/Ev41vWy9Wv3Jfpc/ff/8v9y/Gz3bfSi9Un6Yf9yAi0DRgOSBE8GLAX1/mv1AO036XHqmO4d8632Yfnc+wD+l/8SASADwQWtCDAMLBHwF/YeGiOLIdEa8xIYDvsMoA00DegJBQQ8/n37K/xv/Wn8rPlF+GX6lv+yBdkJyQm2BTABHABlA7gI6gxnDioOaA7sDyYRUw8fCd3/Dfca8vfxlvT49pj3L/er9zD65v0kAN7+8Pod+IL54v7XBJIHswU5AXD9Svwn/e/9rPz3+FD0SvFS8UfzuvTo89Xwae0T7AzuhvK19rv39/QM8bHvA/IG9fX0kfFn7eDqC+v97RLyP/QG8+vwnPG+9Qj7Wf/LAcUCtAQvCqAS+xiUGJcR5AivA7sDZwZVBzcEGv4D+K30CPX+9kb3l/Qp8h70ofsdBvUPRBbyF0YXJRnZIOkrmjQjNy01GTNoM9Iz8S/YJBkTH/726cTZ680Wxaa9DLhEtp26RMTvzsjVUthR2s3gwO0x/uoMHBYMGkIcsh8vI74iChsqDHz6sOvt4lrfN9132f7Uw9Jy1NfXaNjz0z7NDMnayRXP99Vi3LLiouqH9fYBswtyDwYOaguEC4AQFhr5JDksry3QLA4uyDAWMcArhSAlEZoCLPsx/HD/MP3b8/jnGt/X29LcNt5S3S/bStw85A7z5QN5EOIWaBuHI5IvpjuHQz1F2EAKOps2cTgVOik1iilrHCoSOQt+BYX9avHJ4lnXPdQA2ojjg+pV7ELsru+o+FEEZQ1TEH8NNAp0DHkVux/oI14eDhEKASnz6ele5NLfGdoU1BrRa9Qp3InhT95Y0rrDebopu5TEKtE+23LhmefM8ukDJBYqIjclpSN2JAMrdjWUPyZFLUSzPpo5HDfWMs0mmRKB/ErsE+Zr6M/sfOtj4qnWLc8izeXM1MoDx7vEBcg00/HjovRJAAwGIQnvDVcWHCDsJfkj4RvgE1IS+Bi4I7AqCioxJdgjfymxMx09vEFiQNI7pziVOMs3hi+yHEoD8+ya4Mjd+t3+2/TWMNHQzbbPrNbk3oPlTusB8ur38ftUADcH9w3UEDoPYwrQAmH42+y44hjbRtVt0RvR9ta64MHmBuNo2NDOpcpmy6HO6tFb0uHR69jK6zACuw+ZEPUKJgeVClkWbiaTM7I4SzeyNEk1JDhINoQq9BbLAjLzA+tJ67Tvze4R5FnWK8+lz5nSMtSp07jSt9UT4kb3iA2VHKgjdymrNKVF11XUXWRacU46QCA2ZDLxMO0pHxoTBzn5T/Pc8BnsHOJ21X/MWM7N3PbxqAPdC5kMhw0UFX4iSC4wMCwngRqkFLYZ5yMEKLMe9Qiu7hPZE81gyQ/IgcQWvzy9zsNr0hHhheXW2wvK1bulugbHxthR5qTsQ/DD9/YFIBcKJCgnlyKLH60lMzTBQ3RNe06ISF9AbzpdNqMtyhrgACXqtd8o4vPpLO3E5WfW2sf8wNW/c75Mu0S66r/Szbfi5fhsCEEOgA9AE3cbkyV3LosyqC7eJHAc/Bq+HZkd1BWNCgoFcwvFGRknqi4aMfUvDC4fMCQ2STjuLpwdjA1xA5z8NvYp7y3nLuAi3sLhp+au6DXoa+mF7pf2v/0+AuMFfQrnDbwNsAtDCJ8A5PMP6CTis98e3BfaMd3w4krk/N2C0VnCBLYEsje3jb6ZwYfBFMaX1cLtSgP6DL0MxAxHFUcnLD5GUUxY5lHXRgg/DjmDLqkbWALD5wPTMMkTyjTPjdAGyqW/rLrNwLHN1diF3hbhJeYc86wJVSNjNXo7hTxoQk5P+1zEYqZbYkj9L9AbUBFwDYYIm/1k783louU762vu3+o+4gvbB91h7a8IPiOuMQUzUy8yL4o1lz0cPvowExtoCYMGYxDmGeYUCf6d3gPEZLXusW21oLnpuQy5+8Dl1aPuP/w1+GHoA9l51EzeFfBH/skBtf1H+/cAOgzOEuMOBAaGAgMJfhe3KW85XD/FOmQ0gzTBOJA42C5YHTsLl//3/Eb+0frM7EPV9byNrs+s/a60rcytCLgmzHviOvXuAeAGLAfTCjkWFySFK1MpGyHIGO4UzBalHHUiESSZH5sZXhnlHg4ghBbzCsEKjRfPKYc7V0ikSslAtTGNJKMYRQml9tfmyuCH5vXyTfwJ/Iry5OQ+2x7cROY88cv54AUoGSosFjVXMuUlYBAj9SfeYtR71+XdON8D2pHSTMpivfyp8pXNibGI6pGpo326cdA14xz2zgqeGxcjdySmKNE1gkmcWotgvlrrTfg+GzEvJtcbVAsu8wHcb8/3zEHOiM7ky+LESLwsuRvAG83p1+7b0duS30XtbAOWGYwouS4qMH4z0zweSN5KMz8gKkIWGwp+BlAIqgmjAyL2rumA5xLvrvdo+hn4cvjsAbUUwylsOGw6MzBtInQdxSVkMlA1Gyl5FCQD8v3NAwcKMQMr7SzTO8QtxhzSXtxS3mTbnty36Kf9ShIFG8ESSABU8831tANPDm4JMvUs3U/NVMdJxMq8q7D7pSOmB7jo2KH7nhUYJ5k1n0PpUA9eE2rxcNZuwmWWWhxQuUKWKxkJHORKyP64bbH4q5qmuKAKnKybVaCFpcSoc64TvbXVrvPQEPUo4DrSRu9Mkk3TSplFjDy/L8kiwBgIEYcKnQUPAlD9uPdT9g79xghAFHYeeCnPMxg6rDyuPd08LThlMNsoxyScIuocjRCDAeb2LPNT8mrwvOzO56nkhefJ8N76BwJxBxYNMhIpFW8W0BW2EP4EcvUX6a7mY+vE7NLjB9WWx4m8vrB+owqYV5GEkdeZpakHve7PYuBt7yb/yBAaI7s07kV1VbVf1mFkXjpYw07TQCEweB4BCxz20+Oe2JfUzNOf0YLMI8Zmwv7C+Mapy67OVM/q0NfZH+zCAQsSKhrhHY8iDisqNnI+5D3YMmMh5w8BAzz8tvnK95fyt+kZ4creieRo7YLyCfPm9l4G2SD7PMZQR1Y6Tqo/pDRGMsI0tTLbJTYRB/8C+Dv6J/vP8Kza5MBjr2mtCrkCylfZKuZB9CUHNBz0KhUrgh1iDPEDXgngGFMmlyZWGEEEQPGC3bzEhqh3kZOHVY0On6S2ts725Cf43QeaFBAg+yzyPl1XUXDcf/9//nSlZcxSdTg2FnjyfNU+xKi9+7z0vNy5H7IbqLigT6D3pj2yOcDy0JXkAfsNE8InvDJtMjkthisCMAE3jjvBOpozcSedGb4NdgWcAJH+qP9mBFwN7hiCI18oHCUmHBcTfg+IEhYZXx+uJHYohSiNIwwcuRVjEUwMogST/Ej41PrcArkLnBBrEHMM/gbbAp8BHgPCBYAHCQahAGT5q/TZ8s3v2+fZ3AfTpMzQx0LBErlismqvT69Ssbe2Q8Gxz9feruwU+r4IGBkCKbY0ETrhOSk4PjgXOpY6pTYILUYf6RBzBTP+e/kr9BLsJuJt2T7Vh9V218DXfdUo0h7RstVf4C/u9voyBGEKNBCOFzIfuCOqI0QgbhuzFcsOKgdOAE/7C/Zs7e7hQdks2XDidPBF/rcKqxewJUYynDrcPVo9zTrnN3A1QTM8L6sm8hhQCaj8sPQc7sTjGdUSxw3AZMEnyBnR69oK5dDvVvxmCTITDhfdFoQX0hykJGQpmiYKHhsUUAvPASb0AOEqywW5n68oroiuSasYpT2jHq2tww/gkPp+D7wgSjJOREdTC1sCW3xVUk6UR4Q/FjMIIoAPqv+E9dfwOe2j5Rraus4hyArHzMgJycvGgsV4yK7PHNno4kzsofXK/9gKeRX6HcgiwCPQITMeJxqxF3gY6hpzG1AX0A4IBYn+zv3oAUEIZQ8SF2sfPicILMYr7iakIEEbSBeGFHITvRP9E1gShg5rCukHVAYqAy79Fvah8Sfy6vap/CUBGwR3BtwI1grsCwgMLAuZCOwDTv72+o77Cf6y/bX3+uxH4W/X4c8RyuTFwMNzw0jEQsYGy53Ts96J6eLy3/ukBh0TWx7QJSAqDC5WMqA0VTIKLKMkNB5DGIMRCgpaAzL+svm99BHveOkj5N7e9tk11xnYeNyI4mXofu3r8sT51AGfCYEPahKBEpQRfRE4EmMRNQyJAnb4avOL9Fz30PWG7nzmo+Ro6+T3/wXlEychgiwKNBs3bzdpNy03WTS+LQslIR0nFzoS5Ax+Bpb+MfRf55faA9Jvz+fQRtN01cDYGN8x6GLx3Pfb+sb7E/07ARQI7w4eEh8RIw4PDPMKLQgpAav2X+yG5erh4t5R2m/USc+azDbN49CP17/g9+oW9OD62v9wBLEJdw/cFLcYHBouGX0XJhcQGeob8RzvGWMTYQz3BxMHDAgVCNoEo/7Z9yfzfvEl8iHzzvIs8dnvpvAq9Nz4P/z0/MP7qPre+kv8//0R/1L/Gf+n/mX+3f4MAGsBkAJ3A2ME/QXhCOYMexFAFsAaKB6mHyUflx1FHIQbaBr5F0sUTRCMDBEJpAVnApr/1vxI+cT0ePDo7X/tSe4K73fvoPCG8+T3dfxdAIEDHgYPCKII0Qe6Bv4GyQjYCkkLLQkHBS0Af/t592X0TfJ/8B/uPesT6Tfp8Oul7z7ykPMY9cz3K/sb/pQAkAMOBykJzgeSA5j/0f6JAYsFaQhxCUAJcghIB0cGrgUOBToDhf/8+mz48/mY/t0CKwTMAk4BswHAA64FEwbrBBoDyQHZAUED0wS0BKYB6fso9ejup+mq5aLjC+T65tvrufGw9yT9jgF9BIwGPQn0DYkUjhtAIc8kXCb8JYEjPx+AGqsW0ROJEPgLIgcQBHkD9wOIAxAByPy89yHz8e8b7zHxsfWV+sj9kv77/bT9e/43/6T+SP0j/ab/OgSXCMkKTgrfBysEsf9L+yD4l/YA9k31TfSI823zdvPd8pLxWfDs70jwtPB+8O/vAfAX8ZryyfN19AH1tvWd9qr3PfnM+yL/QwJrBL0F3QbgBygINgecBZgE9gQzBgUHiQYMBW0DOQJUAZAA9f+p/4z/Tv/s/tn+c/9pANkASwAZ/+T92vyl+wP6QfjY9vz1j/WD9dH1mfbl94j5SPsd/QD/9QBaA38GRgr5DbwQFhI7EtsRdxHrEP4P6A4WDqENLw04DKYK/QiQBwEGpANwABr9bvrD+On30vee+B36g/sY/PL76PvC/F7+of+t/8f+MP7s/gMBYQOtBFQExgLLAPL+ZP0k/BX7Vvog+rj6Kvwt/iYApAGXAhYDIQOhAlIBE/8d/Av5fva79J7zkPI78fnvwO9P8YL0Ifiw+lf7cfrx+P73PvjY+Wv8d/96Ak0F8QdrCrUM8w48EWgT4RTiFCETIxDlDCYK8Ae3BdMCQf/C+6f5pPkG+/z7Cvtz+Bn2sPVS96b5F/sj+4D6d/q8+zL+HgGpAx8FbgVsBUoGlwivC20ONBAzEfQRqhIwE14TLRN5EtUQFA7GCsMHdgWqAyEC+AB2AHkAgAACAA3/Lv7K/ZL9+/wI/IH7N/w3/ocABwJZAuoBNwFnAGz/X/55/dL8T/wB/B/8zfyl/fr9Rv2r++L5svhD+C74H/gm+IX4SfkE+hn6TvkT+AL3X/Yr9jv2dfbl9rD36Phn+qn7DPxG+8v5dfgU+Pf45vpB/W3/+QDSAVACBAMqBJQF2QatBwsIXAgbCTgKDgsLCxQKcAiIBqoEBAPcAXQBpQHMAWgBjQCy/x7/yv54/tn9vPw5+7z5tvhU+Gb4n/jM+Pf4Xfls+lv87f5oASEDDwTzBIgGrAhXCpUKVglpB9QFFAW3BPMDnAJfARYBBgKvAzsF9wW0BbEEVgP7AbcAKv/9/Hj6gvjO90n4J/mr+d/5fPry+/f97/+FAecCXATgBSkH+AdeCJMIrQiRCBQIIQfwBawELgNTAWz/+P02/QL99vyA/C37Avlu9gL0C/Kf8MPvpe9Z8KLx9fLj84H0GPWp9eT1cfVS9PnyPfLB8or09/ZT+TT7hPxN/cb9SP5P//QA1QJTBD8FAgYkB6II4AlDCswJ7ghHCC0IkggUCWEJXAnvCA0IxAY9BaIDDQKZAFn/b/7w/Z/9FP09/G/74/po+qr5m/iG9632LPYg9qn22PeH+Yn7pv2r/3wBAwMkBMoEHwV7BTEGYwf1CJUK+wsRDdoNSg5CDokNAgzjCaoH3AWhBNMDKwOAAuEBWgGoAHP/yv1D/H/7tPuk/Or9R/+sAAkCSANSBAYFJAVxBPsCYQFkAE8ApgCtAA8AJ/96/lD+X/4o/oD9ofzP+yH7nvpw+rn6Ovs9+wr6offZ9NDyPvIi8+X06PbL+Hz6E/yl/fL+gv/y/l79Yfvn+YP5+vl2+nH6BvrD+QH6w/rI++/8Kv5f/2AARwF0AgkElwV0BmEG1wWFBbUFLAZ4BlEG5AWwBRsGCwcvCDcJ4Qn6CY4J0gj6ByoHIwZ8BFECfADG/xcAkABUABr/Qv17+yP6EPnz98D2w/Va9Xr1q/WC9SX1MfUW9s/3Bfpk/NL+RwG5AxkGcAjaCk0NfA8dERoSiBKYEmoS9xEbEawPlQ0LC3AIKwZrBDgDcQLOAewAkv+8/cr7avov+gH7JvzY/Of8xPwd/S3+l/+/ADkB8QA1AHf/DP8O/1j/mf+T/zL/mP7j/TH9kvwc/O77DvxK/Gf8avyl/FD9Pf7m/tT+A/7W/M/7SPtk+/37yPx1/df9+f0Y/kz+Xf7v/ev8mvuK+h/6Zfol+zP8Vv1B/qj+jv5V/ob+Rf8wANAAEQE8AW8BcQH/ADQAkf9a/1T/FP+Z/lv++/6aAJsC8QMaBHMDxwKdAggDtAMVBOMDNwOeAq4CkAOuBC4FsQSaA3UCbQEqAHP+m/xv+3L7Z/x2/cn97vz1+nH4O/bn9H70vPR69fT2kPly/SwC3gayCjINRw5cDksOyw77D18RQxI+Em0RCxD7DQkLYgetA6sAuP6Y/df8RvzS+1T7o/rt+bL5R/pq+5f8gf13/tT/UwE1AhACPQGFAFgAgQCnANUAGAELAQUA9f2H+7n5CPkq+aT5Nvqw+vf6OvsL/ML9zf/nAEwAh/78/MH8rv3N/jv/zv7X/cb87fuV+7r7EPwQ/JH77frF+kH7Bvyb/NH8r/xX/DH8o/y2/Qj/+/8lAMT/kP8MAOUAUQH8AGIAPACPAM8AnwBrAMkAwwGlAqcCngEdAND+C/7G/ef9Qf6p/hT/lf9mAJYB7AILBMMEJAU7BdUEuAMJAoUAGwArAQgDdQSVBHwD9QGPAFf/Dv6j/Dn7I/rC+UX6kfs4/Yj+1f7i/Rz8cvrK+ZH6YvxD/nL/HQAfARQDugX5B8gIIwg7B5EHtQnXDJoPLBF+EQMRSxDCD3MP+A6iDQoLdwfxA38BegBLANH/Lv6D+9z4P/fS9hv3iff296n41/ks+yP8gvxN/Hr7RfpO+Sb51/n8+gL8+/yW/ucAzALjAhIBt/5E/RT9Kv1Z/MT6tfns+Rz7yPxn/gb/mf1j+mz3N/c2+gf+gf/l/SL7sPkd+kP7qvuR+tj3VvQR8irzuvfW/LT+tfvl9bLxZPJc9wj98/9C/+P81vs4/SX/A/8y/Dz4T/Us9Sf43vwPAbgC4QBr/Of3LPYY+GT8uAA/A+0DOQReBQIHDQj0BxgHMganBZoFbgaCCHELnw2VDWsLiggmBlgEmgK/ADX/UP7v/cj9w/3F/Tz9dPuF+IX12vP28/j0mPVL9bX07fSH9in5+Pso/pn/IgEABFgIzwwWEEcSQBR1FpAYGBoRG78b9xsWG8EYVBVTEfIMLwggA/v9Zfkl9o30R/Rb9ErzNfAV7Fzptum87MnwqvRX+DL81P9cAoAD7AN2BHYFiAZKBwMIOwmmCi0L6gkDBzQDR/9p+3D3l/PQ8NHvSfBe8SjyvvHK7/HspupS6l/sce8c8XnwPO/j7/vy0PYk+bL49PXU8mHxNfN6+M3+4wGP/1j6yfZb9j72APPm7G7oGOpM8V352v5VAW8Biv+Y/Ln6ZvyUAs4KeBG3FQEa5h8CJYAlOiABGOERsRAZE/QVDhjQGVcabheiEKAIDALn/MT3AvN18cD0YvpD/Ub6CfNH6zvl0+EU4iDml+vU73DyhfSy9tT4lfrm+0v9ZP8UA/wJdBWaI/su3DIxL3QociSbJWApVCt0KVck4R2bGKsVgxL0CqP94O074d3bfd1L4s7mb+nj6LXkat+/3YbiNeza9VD7jf2uAZYKihVCHd4eQxu+FXkR4Q9PEPMQMhDaDZ8KswY3Abf5efCl5n7e3Np+3KngQuRq5p7nW+iC6Cbo0+ix7L3z1/pf/9QBdQTIB6gKPgwDDfENxA6HDQkKHQd/B7QJjAm+BET9Y/eu9Q73d/iR+EP4P/hV+J74yPmW/GcASQMMBDgENwafCfwLtwsUCk8JaQqsDAAPHxH0ErUScw47B8gAZP2c/N/8kfy5+0f7gvsa+375CPga+OX4e/jh9UfyeO9D7gLupe4s8SD1cvj8+c36ZfuK+rf2hfB268nrHvIW+3gDqgrdEB4V4xWmEkkN3gjKBx8Kew5ME9EXzhuhHsAexhryEpAJjAKIAa4GKQ7vE4wWjRbBFMkRVw6cC9YKvgvyDBUOThDyE1wXyhdnE0wLpANVALsBsQR6BRoCxPsv9kX0//SZ9BbwKOgT4XTfHuQ/6xjw1/B1777v5/Ok+tcAXQRHBfEEIAUPB9EKww63EKYPvwyKCmsKzwocCX8E0v6i+vj4qfjk9zb2M/RU8trwTPDn8LTxifGi8EDwV/HZ8/j2p/k9+/H7PvxJ/Mj7FfsW+2v82P6YASUEUwaNB/sGggRRAfr+J/51/jb/ogD+ArAFaQejB8YGLgXQAhwAEP6Q/bD+lwDEAWgBXQCA/3v+Tfz3+Iz1pPP587n1Ove691L3T/Y49U714/f6/OYCHAfQB4MFMQPwA5IIoQ+qFqwbKh6CH3YhZCSMJhgmxyKwHsEcth4CI9kl5CNWHB8RVAau/8T93v1q/Lf32fC96o/n5+Zq5mrkn+Hn4Nvk4OzP9Pn4Jvm791f3l/lu/joENwmnDIMOZg+gEBATkBX+FfITWREWEBMQtw/RDUMKswV7AFr71fcL9+/3N/jd9lT1LfVP9rv3j/mD/GUAzAPNBT8HdQlaDJAOCQ8rDkINFA0PDQcMnQmCBq4DuQGvABwAD//0/EL6R/jS9234tfju9+r2SveQ+cL8dv/wAFUBGAHNAPwAIAL3A6YFZgZ1BqQGOwdwB1YGvgOoAIL+7/1F/mD+o/3++8z5tPda9sv1ePX99LL0KfVl9qz3PfjV98H2uPWI9Zz2gvhi+nX7cvuw+gb6IPod+3v8m/0x/pH+V/+QAF8B4QBP/8b9fP3h/nUB8AMHBT8EPgI4ABz/+P4f/+H+Wv5F/vD+1P/7/9H+dfwB+r74KPmE+sT7J/yY+3r6nvmy+f36KP2H/2MBlQKxA2MF0ge3CpYNIxB3EhEVTBjxGxcfrSAcIO8dxBszG1Ec1R0rHmEceRijE30Ppww2CugGnAJ7/uT7cPte/L/8yfpk9sDxtO9U8Sf13/g5+338m/1A/xEBLAIIAhwBiQCSAZgEuwgtDIgNggwLCn4H6gUzBVEEsgLsAKD/s/7R/eD8jvsu+b71f/Li8CbxavK685n0/PQr9ab1xfZI+KD5m/p6+4D82f2J/zYBOwJkAjgCdQJDA2kEjgVDBhMGLQVUBC0EiATLBJUECAR6AxMDuQI2AmEBTgBO/5r+H/6k/Rz9h/y8+6j6kvnL+F34SfiU+AT5IvnK+GT4Y/i/+Cb5hPnw+Vv6nfrT+jL7wvts/D79N/4o//X/wACIAQcCCAKtAT8B6AC8AMEA5QDzANEAmABhAAEAQP8t/jz90vz9/IL9Jv65/hH/DP/C/n/+mv4w/yUANgEkArkC7AINA5IDmQTwBVQHmAiKCTYK4AqqC1YMtAzUDO0MEg06DV0New1qDd8MpQvqCQ4IZgYoBWwECgSQA4sC8AA2/xD+0v0f/kr+/P1w/SP9Zf0T/rb+xf4h/k39Fv3I/fr+5f///1f/mP54/hP/1P8IAF7/Av6x/Fz8KP0T/ub9gPzd+gX6UPp4+9L8mf1f/W78kPuD+2380f0R//H/bACBAGgAyAD4AUgDpwPeApMBjABvAIoBRQNbBBoEKQOyAiADEQThBBAFiATcA+gD7QQ2BrwGJwb6BPYDhgOxAyoEcAQfBCkD0QF7AJD/NP8F/2n+Vf1o/Cv8cPya/DT8Qfsr+oD5p/mJ+nn7yftu++D6l/rH+lj79Ps6/CT8HfyE/DH9s/24/T/9nPxF/Hr8Ef2d/cT9j/1T/Vj9k/2y/XX9+fyc/K38L/3L/RP+7v2i/ZL9+f2t/jz/Tf8C/8n++P6H/0AA8gCEAfUBYQLlAosDKQSCBHwEWAR6BBAF7AW3Bi0HUQdRB0sHOwclBw4H5gaKBgAGgAU6BRsF7ASNBA8EhgP4AmkC9AGzAZYBdAE7Ae0ApAB8AIgAyAAZAU4BUwFHAVoBlwHUAekBzQGOAU8BSQGLAd4B8QG9AXABOwEzAU8BXwEtAbMALgDP/4X/Jf+x/kD+3P2E/WH9kf3i/ev9j/0b/eP8+fw+/XP9ev2G/fn91/6y/xkAEgDh/8T/1/8FAAAAnf8M/8j+Hf/e/2kAQwCQ//z+Gf/T/6YALwFOARIBuQCTALgA8QDtAKcAcQCUAOoACgGzABAAff8r/w////7L/lb+tv0x/QT9GP0X/bv8HfyR+2H7j/vS+9j7n/ts+2/7mvvX+xD8OvxN/Fr8hPza/C39R/0m/QP9Ev1O/X79dP0m/cL8kPyt/OD88/zk/Mj8tvzC/PL8Mf1T/Vf9ff33/Zv+Lf+h/xIAiQDpABoBNQFXAZkBEAKmAhsDVANuA5cD0APwA9IDfgMbA98C2gLnAtcCrQKQAqEC0ALbAo4CAgKMAW8BpwHvAf0BxAF/AYAB5QF4AswCnQIYAsIBAAKtAkEDUwPnAnECggI6AxwEhQRCBK4DVwOMAykEoAR6BMID/wKpAsYC+QLfAmICsAECAYAAQQAvAA4Aov/T/sr95fyG/Lz8M/1s/Sn9kfwr/Hf8a/1W/oL+2/0Y/RP9A/45/8j/V/9p/tr9Kf4V/9n/yv/m/tL9SP1u/cz9s/3n/Nb7Pvt/+1H8Dv0=\" type=\"audio/wav\" />\n",
       "                    Your browser does not support the audio element.\n",
       "                </audio>\n",
       "              "
      ],
      "text/plain": [
       "<IPython.lib.display.Audio object>"
      ]
     },
     "metadata": {},
     "output_type": "display_data"
    },
    {
     "name": "stdout",
     "output_type": "stream",
     "text": [
      "Playing clean audio for sample 1\n"
     ]
    },
    {
     "data": {
      "text/html": [
       "\n",
       "                <audio  controls=\"controls\" >\n",
       "                    <source src=\"data:audio/wav;base64,UklGRghRAABXQVZFZm10IBAAAAABAAEAgD4AAAB9AAACABAAZGF0YeRQAAAkAVMBOQEsAT4BSwFGAUEBRAFNAVQBVAFTAVgBXgFcAVYBVAFVAVMBSgE4ASIBDAH0ANoAxAC0AKQAjgB0AFoAOQANAOL/wP+p/5P/ev9e/z7/Gv/2/tX+vP6l/on+Zf5A/iT+Ef7//eb9w/2m/Zf9kv2L/X79a/1Y/Uf9P/09/Tv9M/0n/R39HP0h/Sn9MP0//VT9aP13/Yv9qf3K/eL99P0I/iP+Rf5x/qT+1f4A/yz/X/+T/8T/+P8zAHAApwDhACYBbgGuAeoBJwJjApkCyQL8AjcDeQOxA9sD/wMoBFAEcgSQBLEEygTXBOAE7wT1BO8E5QTnBOkE4ATOBL4EsQSjBI4EeARhBEkEKAT9A8oDmQNoAzcDAwPOApICUQIMAswBkgFeAScB7gC1AH8ASAALAMX/df8n/9n+gf4b/rX9Vf34/Iz8FfyX+x37nvoX+oD57PhZ+MD3DfdN9o715/RQ9MnzRfPN8l3yAfK38Y/xhvGd8cnxDvJx8gPzvvOV9Hv1gPar9/H4QPqg+xT9jP73/1wB0gJWBNcFRQebCNQJ+AoDDPsM3A2qDlQP3A9JEKsQ8xAfESYRGRHxELkQaRAVELYPUw/aDlQOwQ00DZ8MBAxcC7QKBQpVCaEI8wdBB48G1QUbBWUEtgMDA0YChgHOACAAdf/H/hL+Vv2Y/OL7Ofua+vr5V/mx+Br4kPcU95v2MvbS9XT1C/Wr9Fz0IPTW84DzHfPL8oXySPL28ZjxL/HQ8HvwTPAx8BXw3++276/v1O8C8DzwffDM8DHxzfGj8p3zlvSS9an29fd3+ST72fx1/vb/gAE2AwQFxAZdCNQJLAt3DMENCA8hEPQQhRH6EVwSqhLLEsASfxIlEsYRdBESEZMQ4w8iD10Oqw37DEgMgAu6Cv4JYAnRCEQIpQcEB3MGBwavBVQF4gRdBM8DSwPXAm0C9AFfAbUACwBv/9b+Mv55/bn8//tY+7n6G/py+cL4FfiF9xT3tvZP9uL1evU19Rf1HPUx9Vr1mvX59Xj2Hvfj97n4lPl/+oX7pvzU/QT/LABGAVICYQNyBGcFLAbOBlkHwgfyB/AHyAd5B/cGQgZXBTkE5QJwAej/Vv6v/PP6G/k191P1lvMF8qDwTe8P7vLsGuyR61DrP+tf67jrV+w+7Xru/e+q8WfzRPVK92r5kvvN/RsAWwJyBHUGewhoCh0Mnw0FDzsQNxEAErESNhOFE5wTmROAE1gTCxOjEiESnhEQEYEQ5w9RD7EODw5mDcYMHgxtC6gK2gkACSEIOAdCBi8FCATZArABhABI//v9sPx7+176SPko+Aj3+PUE9TH0lvMu89zyifJQ8k3yhfLf8lHz1vNs9BD11/XC9sD3vvjK+e/6IfxQ/Yb+yP8CASkCTwOHBLkFzAbGB8EItQmSCkwL6QtmDNEMMA2EDbINrg11DSANugw+DI4LowqKCWMINAfsBXcEwALBAJn+iPyc+qr4bfbv82rxKO8p7Vbrb+lv527lu+N74sHhR+HP4ETg/t9D4CPhTOKL48nkMObv5zjq5uyw707y1PR893L6m/3CAKgDMwaICPEKhg0HEB0SpRPSFNwV8hYDGOYYWRlnGTwZKRkxGTkZ9hhoGK0XExehFkIWtRX0FAkULRNrEroR4RDcD7gOrA3BDOQL3QqlCVIIGgcPBhoFDATWAo8BbQCM/9j+IP5F/VH8ePvw+q36a/rs+UT5rPhR+CX4DPjW92335faL9oD2o/aq9oL2SvY+9nf29vaI9/73Uvi3+F/5TvpR+zb87fyU/Uv+H//w/50AFwFuAbEB7QEKAvQBlwEBAUQAfP+U/nz9I/yj+hj5oPcf9nX0kfKt8PjuiO087BfrCOoI6R/omeeF56/n2ecs6N3o7uk368DsiO578IXyx/Ra9yj6+vyz/1QC9ASaBzkKtQz2DvgQuBJMFMAVDRf5F3gYrRjcGPwY/BjFGGwY5RdOF7oWShbSFUEViBTSEyITjRIEEnsRwhDkDwQPUg6vDeUMxQtmCvcIrwePBnkFPQTXAmEBFAAV/0/+e/1j/Bf75PkN+ZD4M/ip9+D2CPZ49U31XfVK9ef0UfTk89TzGPRd9Gj0P/Qu9HH0E/XO9WH2tfb99nf3SfhN+Uv6Fvu8+3n8j/3y/k8AYQE6AiMDRQSLBcMGtgdECJEI5AhbCcAJrAntCLgHhwaRBZ8EQwNnAUD/EP39+hj5K/fy9GDy3O/U7XHsXes36uDorucD5//mYuf0537o7uh+6bbqtOz/7gHxu/KQ9MP2Svn9+4/+tgB6Aj8ETgaLCJEKGwwzDQ8O6Q7ND54QJRFSETIRChELETwRShEREaQQUBAVEO4PyQ+uD3IPHQ/QDrEOiw5JDv4Nyw10DdMMBAxUC8UKPQqlCfQIDggIBxIGYQXiBE8EYwMnAuoAAQBz//3+Xv6F/ZT81/uN+5z7n/s/+4r63/mS+ab54Pnn+Zb5Kvka+ZX5UfrO+tz6vPrZ+nb7hvyj/V3+r/4G/9n/LgGaAqQDMASDBAsF+QUHB7cHwgdXB+YGuQakBkcGSwW0A+ABTgAG/6n9u/s6+YH2AvTZ8fLv5+1868roZuar5I7ji+Je4RTgGN/C3jbfFeDt4IHhI+JW43jlROgn66Htz+8g8vf0Qfir+73+OQFPA4MFHQjnClkNGg9EEDIRTBKsExMVARZUFk8WdxbwFp0XIhhXGCYY3xfHFwcYUhhnGBgYqRdPFzIXIBfvFnIWwRXtFBEUHRMbEgYR9A/cDrYNaAwEC5wJVQgqB/wFnQQOA3wBKQAn/0j+SP0F/KX6dvmy+Dr4vffu9tX1wvQZ9ODzzvOB8/PyavI88oXyKPO98+fzufPS86b0EPZ093X4IfnQ+dj6XPwK/l//HQCWAEsBeALRA9sEOwUFBaQEkAS6BK0E3wNNAm4A4v6y/XX8nvo3+Kj1V/NV8ZrvwO1r673okuZw5Q3lluTC48niHOIY4gPjf+TS5ZbmTufK6Gvrue7x8Yr0ovbT+Kz7F/+CAkgFOgfYCN8KjA1YEIkS0ROJFCYVABYSFwUYShjeFzQX7xYaF2oXdBcpF5IWBBauFZwVcxULFVwUthNDExIT7hK7ElkS3BE8EW8QWA8EDpQMRAsoChcJyAchBlIEwgKlAcAAjP+9/Zj7uvmC+Nj3XPen9pP1ePTv8yb0pvS/9Ej0qPNp883zu/Sz9Tr2VfaW9mz3tfjl+an6JPu2+678Gf6h/9UAngFLAkADigTSBbYGIwdZB68HSgjwCEMJEwmECOAHSgejBsEFegTNAu8AQP/I/T38Nvq29xT1w/LC8MbuYeyj6fTm5uSb4+biK+IR4bbfy97L3q7fv+Bw4b7hX+L646/m3unX7DzvSPGJ84f2G/qV/V4AjwK5BEkHNAohDYwPERHvEdsSOhShFXcWmxaDFoAWxhZHF8wX1BdgF9AWqRbOFuIWixb0FV4VJhVEFX4VcRUKFVYUrhNJEwITOxK7EO4OgA2ADJwLjQotCUkHLQWMA7EC9wGUAIH+cvwE+2L6R/oe+mf5Qvhd90X34fd/+IH45fc69yD3zffR+I75vfmp+df5mPqp+378x/y5/OD8mv3T/iwANAGnAdABUAJtA7UEdgV/BS4F/QQzBc4FVgYvBiwF0gO2AvMBCgGT/3D97/qV+OX2j/XA8/zw5O1T64LpyOes5RHjYeBO3ofdot2B3VncztoV2tDaa9wI3v3eet9X4IriE+YV6nrt9+838kb1Y/nR/YkBTASkBjYJTQzPDxsTYBWQFnQX1BiDGtwbfxycHGYcSxymHGkdyh1mHYscAhzsGxAc/BuOG6caoxnrGMEYzhiVGKUXTRYjFXQUrhNEEkIQRw6fDFMLRwohCUoH5ATSArkBEwH0/yL+Ifxs+ln5D/kd+aL4Tvfh9T/1d/Xe9e71lfUb9eP0NPXd9XH2pvac9sH2b/d2+FH5qvnI+UD6W/vT/Cb+6f4U/yb/yv8nAa4CpwPkA8kD1gM+BOcEaAVXBaAEnwOXApQBYQD1/nX9D/yO+p346vW78tbv/u367MrrTumk5RriQeBy4Knh9+FW4ILdkdsF3J/eZeGY4hzimuH84u3mE+xb8K/yyvN89RX5If78AkMG8wdkCf0L0g+uEywW6BbhFmAXzxhiGgAbMxrfGDcY1xgcGtkaNRqxGGwXUxcdGNMYfxg+F84VGxVVFe8V+hUnFb4TiBLwEa4R7BBHDxsNPwsUCmcJvAidB70FkAP3AU4B2gC0/8f9w/tF+of5cPlv+cz4ePc59t/1dPY/94f3L/e49rn2Z/di+C75l/nH+Sf6Fvtc/F39xv3+/Z/+wP/yANUBSQJuAq8CgQPOBOcFSAYnBhYGVAalBsAGeAbBBcUE3wPuAn8BeP9w/fr76/om+e31kvF+7QfrWurS6ZLnIOM23jPbGtt73AvdRtvQ1wTVQtVj2PPbft0V3brcW94+4nbnRexZ7wrxM/MW9zj8/wCGBAwHWAkWDIwPCBNcFUAWpxbGF6YZSxvGGxEb0hk8GfsZoRuwHC0cTRqaGFIYixnqGhwbuRnMF5EWpRZ2F+sXDxcuFU4TWBIoEtMRcRAvDvULnwoPCoEJVwibBqQEGQNzAlsCtwH//9/9f/ww/Gz8jfwr/Cj7BPqd+Uj6ZfsK/OP7ZPs9+7z7qvyC/ez9/f0N/mT+F//g/1QAZQBvAL4AMwGEAaoB5QFfAgADjAPTA9cDyQPRA9wDugNIA40CrwHkAOP/Rf4X/Bn60/jw9wr2O/IL7Wjo+uXE5ZvlVuOQ3lHZV9bm1izZFdrb1+HTVdGN0rDW5dqx3Dnc3dsT3hjjMukC7oDw1/FY9Ab52f7TAw0HQgm0CxYPOhPeFqQYthi1GB4amBx4HnIe2Rz7GoEa+Bs+HiIfoR2kGoEYnBiDGkEcOBwmGq4XqhaqF04ZzRlWGOMV5hNCE5gTkhPMEYwOhgskCvUJiAkJCLkFDwPvAFAA0QCHAHD+zvtm+jP6JPrl+Yr5sPiN92j3mvit+Xj55Phd+an6nPvy+/n7wfu5++38Q//xAMMAyf+N//7/SwChAGAB9AEPAooCzwPKBKwEXQQFBTYG5Ab5BpYGOwUFA4YBcAF+AV0Apv5O/cT7c/jj8iTseuZa4zriP+IC5H/lpOGP2NDS+9Tw1znUD84zzSXRvtQ616PZiNqU2WzatN9058vtcPE89JD4S/77Ak4FZgeHC48QhBQaGMwbWR27G/cZ1xqmHHocghq/GKoXKRe1FzcZzxlHGIsVrhN2E4gU9RXsFroWmxVnFC8UOxWfFrAWFxVBE5ISfBJtEZgOuwohB7IETAOZAqgCBgMYArP/G/6h/iL/zv1Y/N38Ov6m/tn+EABGATIBlADmAEMC7QOMBSsHeQgUCewIJQj9BkkGNAeuCdoLTgyuC+IKLQk5BssDUgOXA2ADvwOdBUkH8gZLBQ0EhQMFA1wC1AGgAdEAi/6u+hX2E/KF7z7rMOAB0CTFfsXXyc3I8MOFwcLBRsLKxJ3KWdCg0k/T5Nae31LqIPHe8VHx5/Pk97f6Zf/0Bu4K+QeXBZYJ6g3tC0sIPgp7D0oSGxMbFCQTTQ8oDWMQqxWyF9EVCBM/ESQRBRPjFR0X1xX6E/8TGRZvGPsYFRjQFwIZnxkcGCYWqhU4FTETrxDjDnMM+gf8AqQA6QFbBAUEtf7e9SPuv+vN7kDzvfXb9n74APqh+kj8rP97AYgAfAFGB0sNgA7fDD8MkgsrCfAHlwqFDiYQyA9tD/sOWg3mCo0JkwqEDUcQ8xCGD6oNyQxeDd8ODhCDDzQNhgrrCK4I4QiXCNMHSwf+BrIF0AFV+2fz9OtH5m7iit8b3VbYW814vmi1kbYGukm30bHfsWe488BsyenQXdW71tzYXd9e6nH1cPs5/Kv9+gIeCMIIAghiCjIOMBDhEagUExXHELIL5Qr3DXUR0xMWFYwUtBLFEcwSuBOgEmYQ2g9OEpEW+BmsGtMYVRbQFCYVbhcqGoEayReeFAwTlxFRDlQK0wd3BjMFVQS3A8cBDP5u+jv6nf69AwQDs/t89QD3W/04As4EQgeRCK4HTgdbCWULwgqqCCUI4QmEC0EKzQXfAG/+3/4kAcYE+whgC44K1gelBfsEdAWNBpQI+gscEPYSwRKXD5oLGgn5CEcK7Au+DWUPcw89DXkK0gjYB1UGVAQeAtj+BPkt8ZfoPOBS2s3Z8NuI2CLMK74juOa6mb+iwPW+JsBAx+vQeNiN3m/kBefj5YHo9vH4+a/5KvcV+oH/5ADU//0AqQNIBQQH5QlPC5IJngevCKELww3CDkoPmg5PDO0JXwmmCgAMnAskClIKgg0+EcESexJkEo8SChN5FdcZSxxtGt0WvBT+EkAQtA44EAMSThFMDywOCw0qCpgGoQUECYUPdBWRFskQ9wY5/3r9OgDkAxcH/QmrCzULdwllB44E6wDx/WH9Zv+zAUgB2f1z+tz5VvvU/Db+fgA4AzwFPgZdBn4FLQTHA3AFzgguDMcNGg0LC2IJcAnICqkLfwuVCwkN4w4ED+oM9gnuB1oHPQcoBRH/N/Xl6pziG9wS13rVONY10+/JycC7vfm9aLyMuky958Uk0XPbSuNp6cTtYO5q62bqq+6A9Mn31vqe//4BVP7l+On3oPvcAHIG6gsQD18Ofwv2CJoHbge+CFoLxA04DicM4AhgBsEFSQZMBz4J0QwiEbQU6hYKGCYY8hekGGkashuMG9wa4Br4GsAZHhdgFIISjBK5FEUXHRdBE34OTw1HEX0XsxpZFwQOkwOO/U79a/80AFj/1P5b/4D/wP0z+on2xvRY9YP3iPq3/HL75fY7893zpvel+0D/XgNTB44JmQmpByYEKwEfAiEIERC3FW0XEhbOEucOBwyAC0gNXxBiEy0ViBUrFLsQIQyTCL8GOAQT/nX13+z+5ErfLt8u4UXau8estl6z1bm0vbq6v7c9va/KatZ42oTdVeXi6uPoeOlZ8z77EveI8N7zRvyK/mn7EfrG+9D+WwSAC5cO2AonBc4DPwfyCiILUggBBhAGRQb5BIwEggYRB2UEuQO7CZkSZhgNG0Udeh4rHkgfHiOtJQ4kIyFqICwgJR38F6YTOhGUEEkRvxJcEwMRiQrZAiQAPwVzDXoSCBOJEG8KUAHR+R33wPZO9gr4rv1rA1UEWgDj+hX26/KC8gz1I/kg/S8ALQL/AkwCDQDN/Q/+NgLSCG4OSBCXDs0LYgoSC6AMZA03Dp0RJxcAGvEW+BBgDTMNeA5YEGsSbRPhEhQSnxGxD5gJ7/4W8rHncOKy4HnfOd4N2dTHB64rnyGkJKybqbCp2bqw0QDcWNwJ3z/l0egy6dPqUfEY+lL+rPth+cr8aQA0/gn7iP3IAswFIwm6Dl4QdQphBI8E6AXLAgEAxQIsBpgE2AGtA28HDAhJBikGvQieDSUVjB5nJqkpMijoJAAjDCPIIswgtx54HrYe9xw0GXcUUg58CEwHRgvRDX4KfwWIBLQGTAg1CaILIA/vD18K9/+K92b1UPYa9mD2Y/ppAIIDUAFU/PD49PgG+uf5QPq0/WIDowcPCJ4FMAO+Aq0D2gQDBygL1Q8QE5gUZxSqEVoNAwu4DZoU3BqMG64WLxH3DmYOOAwsCf4H/ggUC0YOfBB/DHYA/fFY5kPdd9WL0dTSDtWA0A3Bp62rpHmpcK7sqyiv/sLp2lnl0eTz5T7rE++t73/vM/HH9ED4Zvpt/YcCrAbQBrUEnwRrCI8N4w9gDm4MaQzGC/oHcQOZAZAB5QDR/4IAkwMYB/YHUAYkBkAKMRApFXwa0CE+KA8qmCe+Ixwg6Bx2GlcZdhnnGQ0ZcBXnDocHFQJxABUCwwTMBT0F7AWyCI4KewoeDG0RbRXNEc4GPfvy9Yj3ovp3+3X8cQB5BGoESQH7/lv+ov27+x36o/vqAMsG3AkUCsUJAwokCo8JDAknCqwNFhLpFFgVzxO8EG4OQRCDFTkYLhR3DMEHtQhWDA0OvgsaB7wDCQSfBnEH2AN1/Qz16eh02xDVOtdS157KD7O7n2mf6qwYsuyoOKlywy7jiu3b5/Pln+lt6lDqN+4D857zyvE38tf2Ov1rAWICNQMFB/4MABLcFAsW6RV9FAsSYQ9IDYsKwASq/Dn3wvi1/6kFwQTD/n77pP9CBzoN6hJQHM0nCTBAMuUugSdUH4AaARrkGkQaIRjRFTgTSg4lBeH69PVx+GL81vyU/DMBpApSEmISnQ3lDGQT0RhNE7UDJ/Wx8cj3vPxB+4v6UwFPCU8JIwO6/hz+Rv7A/V7+sQIkCugPVRBODecKqAmPCDIJ+gylEcIV0RoPH88bhg9CA4cBswqWFT0Z9BTVDvMLnAphBr3/avty/GwCBAvYENUNxQDA74DhyddZ0XjOMM0syK69JLMBrhut3KrtpDOi862WyGPjbfD08aLxsfGT75XtnO748MjysfZ//mwHfwyxCxcIAwdvCiYPpxHREkIUTxTpEIoLJgdlBG0Bs/xM+LP4Cv/9BdkHoQRlAd8BSgbmDNAT+RkaIPYmmSwJLe0m2x3lFvoTnRPXE/cTrhMKEoYNFgbn/Tj51frzAPoFqAe8CVIPeRWKF60VMRRwFaQWlxLKBzj7pfND8xD3Mfuq/rYCNgfuCAgGUQG5/lf+LP4C/oD/oQO4CFkLLwqHB7IGIwj4CQoLcwzMDykVjxqyHKEZ4hOjEKARpBKWDyIKtQZxBmYHLQg9CDgHOQUXA2sB8//l/DH3LO7/4WjWutH80BXH7bCbnqidxqZyqxGr1rChwxHc+uo/6ybpZu5w8gfs++Tg6Jnxm/SW9Z/7GwPNBcsFdAgeDuUSORQ1FMcXZR4cIG4Y6g1WCNEFqACc+X31dfW296T6+/wM/bX7JvzlAAwJNxIeG0QjTSluLJ4t5CxJKEggwBnSF7MXXhUlEZwNtAp3Bsn/w/gQ9Vz2qvki/YMDPA1HFJ4VcxehHiolWSL6FR8H1/vu9G3wIu4w8bz6ZAWeCiUJBwSO/SP33PKI88f6TQYXEKATuRHVDSoJYgRBAt8EuApCEvIbrCU9KfsiwxYxDdgLNhCIErQPFA3lDm0QPAylBacCkQL/AfoBDgSuBQ8Dnvxv83TmCNd2y4zECro/qSGdT57ypfKo0qeErEq9A9Rz477mAeha71f1G/HK6UvpbOxa7T7xTPzqBnsJQgj+Ch0R3RRaFLQSxhPxF88blBsnF5IQdAiq/zH5rvb69YP12vag+0kBDATpAvAABQKBCNITziCpK2IyCzXbM0Eu9CR/G/UUABGdDtIO2BCxD7oIo/9S+X713PI980n5SAMJDZ4UmRmnG94cuyAKJQ0hZBDc+RvpHeSv5g/p5Op988gEjRPZEzQH9vkx9Tv4Ev1OAHoEMQx6E/YTGQ0GBIH9D/3gBIsSVR/nJmAqeStgKE0fMhOZCpQJWQ5CE6ETig+2CsEHeQZsBVkDCgBu/ZH+6wH/Ab/60O2r3+DStsTfsICbfpFsl3yhxKWkq7K84tJb4ZvlK+bn597pHOkO5YPiquXA7IPz5PkwADcDdgKbA8sJ+A8EESUQGhOdGW4eCR5JGNQOwARK/WP52fd39yj4wfre/k4CGAIq/r75XPkU/50JFBb2IakrETLpM4Uw/igIIKMY2hRTFWIY2BoBGsoUGgxhAe32Qu+97PHvY/jNBMwRsxq3HTQdERwQGp0UTgrF/r34UPkN+uT2IfUA+1wFrwvvCXoDmv3y+oH6v/l8+AD67wDbCg8ROA+hB18BewFfB/8OBBaUHYEmtS3jLlkpdyDlF4wRtQ0HDJEMYA8rEx8VrBLZC0cDUvz6+Mf3rPac9HjxFO3O5i3Zu7ycmMqDgIiflXmb1aSov17h7/QC9hbv1Og75P/eVdmM2RPiSOvL7nDyYPrT/eD3KvS3/EAJag7wD1IWkh+0I7MgpBqCFZAR/gvuA879lvyE/JT6bPqD/rcA9vue9Iryy/Yf/kEHSRKCHVYnlC8CNW00FS06I+8btBgvGLAZvhukGqYUBAy/AmP3NOul5BLp3/XAA08OvRUeG60eXB+KGlsO+v5W9aP1EvsW/uP8xvt+/twCzgIn/YL47PpcAcoEtQOMAWoAcgC2AUcD+gL1AZAEvgsoEukTbRTpGKIg/yavKdMpryhQJuwh+RoKE5QNNw1tEXUWfRfOEe8GPvuq8g/vX+5d7RPrC+lz5rPe8cyNsUKW7YhejY6ZhaUGt8XRt+mt8p/x7++S67jg6tbz1n7f4Oim74L0gPg5+3v7Fvq6+oT/rwW4CtgQsxgBHQwabxTVEdQQHg5qC50K1QglBI0AiAHSA/oCX/9w/A77mvp6+8/+wQRTDSQYYSPPK9IuKSybJgYiix/4HKEYbBRTEpwQpwxyBq3/qviW8jLw0PMN/YYIPBIZGYMepSGfHaYPFPwE7Fnmf+pz8h76kwLkC3sQHwzCAmn8SPyM/y4CGQNWBBIH0AhKBgMAaPoC+eH8pwQRDcMSEhZjGkEhtCckKsYoICdHJzEoqifFI7AcAxZaFIcXiRnkFBcK3P2587zrsOWL4Sbft97q33XdXM9Ktl6eMJP+lGScjaX7s47MB+pD/Wf99fId6ujietnu08rXl99Y5WTt9fnlAUP+Mva69KX6AwJxCBoPJhZzG50c6RieEvcMAQnLBk8HvQl1CroHqwQABDMD0//q+1/6uvm5+F/6bwFdC64Uch0uJusreCw3Ks8nGiRqHm8aSxooGmIWFhH5DHEHkf4h9i/zWvUc+r4BTQw/Fpgc7B/WHw0YZgdH9PTmUuIM5KjpxfJD/14MjhQJFH0M3gPo/hj+Cv9z/0n/hf/c/+z+EvzI+Dj3iPlIAAAKAxSWHFAjPijUKngqhicgJOQi+CPFJCsjECA+HXoa0hU5DlYFSv4v+qb2OfHe6xfoc+M/3bvZINjfzoS5xqG3lZSZraRRrLKxQ8HG3U/29foD8qTqDudQ4rffleIu5sznQO7N++8FCQPH96nwZvP4+/sD4wj0DMISrRivGhYYURM4Dq0K/QqfDXsNagizAloBRwN4A8j+IPeq8F7vk/SL/iYK4BWDISAsEDP7M1QvZyhsIlAeYRsGGJcTuQ+TDiAPcQwzBBj6cvR49aH7vgWSEbUasR8UI3gjIhmmAdnmw9b31grhMOsG8zb+sw5QGzgagw0aACP5aPj9+tL9cf+iADwCtAJj/7n4wvII88z7oQkhFpUeoCUwLcUx1i/HKRclvyPpI/cjNCNaIQsfBh3cGY4SCgfM+4T1BvSf88ryQfDO6W/hd92d3ETTMbv2nc+MfZAaoDer56/QvvHeOfxzAUr1vepi5Yffotx84P3lm+kz8V3+xwYLAbjxCOcn6nb3FwTGCZEMrBJ7GkYdPRnuEZcKPQbRB0cM2wtHBNf8nPxyABwAgPjA7tbp5u1I+jIKVxiKI4ktRDbzOcA1WCx4I0kehxwqHfcdLBwmF4EQdAohBRr/VvcX8TfySP0XDnocLSPsIiMfxhm4ETAEoPBz3cTUo9nE5LPtDvS//JgIPBKvE+kMDQSM/0UArQEjAKX8zPrX+4T88vnK9eT0tvkEA/QNThl3JSQxrzdENggwaSorJwglhSN0IsYgNR6jG6UY/RJ1CSL+Rvb29Yj6E/0S+HTshOGP3SHbbsxYrgOQ2oM0jZKe7alTsYrDz+MD/9gCFPYl60XnBeWP5BTn5ujW6NLswvVJ+vrzsOnv5hfuavkaBKoMFBOZFyQaPBqQGEsVEw9nB9UDbgXCBRIAi/hk9qj5MfwP+VnylO5r878A3RDQHTonqTCSOko/BDrnLaQibByFGkMbYhxUG5gXNxL2C8YDcPlR76rqqe8M/vcQxCBLJ8skxB41GOoN4f1R7TDjMOAB4abk/urU8f334f7lBtcMqg1CChoGpQNuAqwAUP02+Tv27PQ49UP3+vo8/6sEwA05G7UpaTQGOTo5IzhNNjoxMih1H/IaPxlLFzwVmROoD6MHmv7++Lv3x/g8+9f8Zfl88PLmk9wqyX+q3IwBgPGHkpqHqyG53cuo5VP5AftO8ebpPudV5bTm7uvB7U/p8ef/7iP1I/HH6Dbo2fEa/4AKGRLOFUMXrxjHGXwYlxNEDJ0FPQIGAaX+sfmZ9Hfz3fY3+/77rfjy9Mf2rgGTEuMh5yuAMw47cj6rOPgrcR+5F1oVVxd6GkAaXxUlDtAGMP6Z80Lq5Oc175T+qxG5IVwoICWuHZ4WqA5zAt/ypeXr38bhQOeT6wTtqe/2+HwHMRL5EtMNjgrXCuAJMwSQ+5f00/Jk9SL4FvhD9y/6xwNEEvsgNSyiM6Y4yTsbPHY4ZDFeKe0i9h00GO4QgQoCB8MEYAGJ/dP7Yv22AFwDHwPs/yT5K+zn2V3JILwhqteTfoq+l/asi7i5vZnJD93l7PXwXetZ5Y7l+ems60Xp5eVz4wPjC+dA7sTybPNC99UCZhCLFwAYABfnFjYW+xPUD6cJewOrALYAzP5g+EXxMO9E8sX2BfoA/CT99v8nCBUVzyAVKCouITZFPEc6mC86IhoZxhbLGF8a0RjkFK8PqQlwAtb5vPAY66Ht7fkeDEocbCPSINEZWhOJDVcGfP6B+Ln05fG570zt2ejM5ODnjfQABDsOeRKcE2ERUQqZACD4tPK+8F3ywfaF+/b+UAGLBGoKKRS1IfMwED5SRfJEBj6fM+0niRveD0wI3gYcCYIKhQjCAy/+Nvrs+YP9zQLLBokHfgK89fniDND/wX+5bbKGqKOff6L0sXa/xMGmwwTR1OKC67br8epL6WbkaeDO3zne7Nkm2qfksvQfASsHuQqWD9wVSRsJHX0aMxaAE/wRWA5rBin8dvSO8gn0D/P57ibu9PTm/esB3wFxA1kIeA/2GCckhy3SMjs1ozUPMj0pXB59Fv0TcxUGGNwY5RVyD+IGBf4l9kbwVu0e8KX7zw0GHuIkcCJsGzAT9QrNBLMCMgS6BjYHIgJJ9bDk8NnS2o/jne7O+/cK2BXcFRoMvv/R9hzzKvNz9fb5BAHHCFEOrxBFEmUWZB/LLPY5dkA2PiI3gy76IrgTsAVf/zAB6wUTCMcFoQBp/Er84v8aBGwHoAo7DPEHsvlL4/fN58O3w3/AGbPXpJKifqz1t5K9kMAsyazYD+Zo6ILiq91+3Xje+t0e3Njao97r67f+1QtKDvsNoBO+HOcghB7/GfcVWBJdDy8KI/5P7g/mZurk8SfykO3z7Qb2ygDmCMUM6Q1bEEAXYCGXKowvzC+2LZMrqSiEIl4Z0RE8EMYTBhi7GVoXbw8JBG/64PU19GjzzfWo/nQMrRlDIaohHRz7E0UNYQmXBxgIiQzeErcTRQm29bPhENUx0trWwOBd74MA4g1TEXQKef9t9z31Bfel+uYAUQtkGLcidSWGImQhViYHLc0uFyuGJiYkqyHCGhMPuAN6/gb/YADs/rj7Zfrl/ekFcA43E9USBg5/Bnj+p/MV4mnOJ8YrzWfVzM4rumCn6aPDrFGzg7HssiTC8dak4WPg09tB2FvWRtmU4I3mWOuP+JoP/CHlI9kcPhrQHFMcXhbrDiAJ1gRMAJf40+zf4cTepuWo8BH4Yfly+Tv+LwjOEdIWABnyHGEjbyj8KKIlgyG+H6YgCyHIHb0XPBNyE3UWNhdoEqkJFAGU/Cn9dwD4AmMEQQdQDXoUyxiKGDAWhhUAGKMbvhzIGYQUBxAyDSMKLgRy+hHvDeXP3cfYG9bd15Df6epC9pD/Ewa/CD8IeAdnCdcOexUvGvIcJyEZJ20pKCTUGj0UvRKGEzkTFxFcDuMLMwgrApb79ffB+Gz9nARsDIcSEBWiExgP8QiKAn78Jfbc73zpUuKC3CbdSuCp1wnADKsKp7ur1KqipoKr2rxG0JzYmNTv0APX4N8146/olPjJCpEVnB52KfwpNRoiC+IKLg/nCUIBTQC1AaP65uwZ4ZvZxNau25roxPZyAOgGRA7eFscd6CDBIbYjeye5KZgnLSO8H8UcfhguFOIRuhDoD3QQoRHADq0GYv/I/mADHAlQD/0Wux25H+4bOhUyEAEQMxQQGjgffSGQHmcWcAwdBE7+PPrM96X3VPnS+Yj0jeiL2v7Qr84I1IrhcfWJCV8YUSHsJMohLhm2EeAQVRXAGXQb0hqXGHwU9A3ABS/+VPpw+/j/nARPB0MIKghuBmsD1AHiAxoIcwucDJgLkggyBLMAmf/P/5r/eP8y/UfzEONY2KzWqNA5vsCs+6laryevS6khqYS1OccLz3nLY8/i5EP6oP+jArUSOSNNIr0X5BK6EX0MewjOCpYL1wMG+gn1v+8A5NzWkdLI2S/n9vOM/U0FhgxVEbUSXhTNGkYlpC7mMhMxgyr3IUcalhPnC48E1gJfCKMOKA8OC84HrgZSBgwHRQq3D0AXKCEEK18vOSumId8YihTtE4wUcRS7EhgQjA3ZCUsCXviR8vf0iPuy/xwAtv4H+8z0nO566kTnWeUG6UD1EgfpFgAeehxhGJQUGQ15AYz7+wFNDbkS6xFzD1AKtf8i8qHo4eim8ur/Xwu2FAwbqBjMCwD9lPVv9VD4Jf5pB8IP3RHKDaIGj/5C+IP3iPtm/un6I/Kx6O7hTdooyhu03qdfq/+uzaiAqGi7VNKl2ifbkeOe8rX8Cf96AA0IbRPZGGkTeAtaCfwIgwIQ+Pjw9O6g7tftzuzn60/sHe8P89/0mPUv+7MHRRR5Gtwc8CBZJr4o3yafIzgiQiLoH6wY+Q5ZB/YCDgA5/Yb7oPzBAd0JRRI4GOYbyR9hJSUrBC/sMHIxgi9HKc4e8RLmCagFPASMA/wDZQU1BLv+s/jW9s/4Gvzf/2ME/QjYC6ALAAoOC2MONQ2oBPf7QPn19xPyJ+uy6RLtLfFw9fL6iABYA2EB6fyA++r9dv2F94j0tvppA+wFswQ4BvcI5wcTA1z92fe78wz0P/qjA+gK0wsPB4UBfP64/MH66Po+/0MFSQdGAjT4BO4r5pHfpNij0gjRjNUq2ljUhsSKukvABsuNzyLWN+dw91L71vv4AcwDoviw7LTuHPsDBIQEUwISBI0IjAe8/ZDzTvGu8sPxTPPe+28EtwaOCIIQshnuHD8cWx1YICQh1R3oF4kRNQtoA2H6BfS19E38NwfLEb0a4CE1J8IpJSnzJo4l8yX6J04rpS0LKzciRRa5CyQEn/58+nn5rf2/BqEQQBZZFawQxAzjC18MMAulBwgEFQOHBCUFpAJN/kH6HfbQ8Ybwr/OT99v4Efns+aD4efIo6hvl5eWV6/Tzu/woBP8IdQohCX4H9AZBBqMEUQS5BQcFnP+2+ET0j/GU7pjsXO7S86D5B/yO+vH4qvnC+mP6yvqw/Gr7m/Ks5bXbO9jh2dXdMeBj3Y7WstG40d3Si9GT0InUu9yu5PTp2exz7jDwi/Mo+fYAiwnLEL8VuRnbHMEcvRcJENkIcAJq/Iz4nfdD9xX3/vrdBGcPlhRgFH0ShhBtDiQNqg0LDx0QlBBBEH0OMww+DPwQVBmBImkqcC/YL90rVybWIRwemBnvE4wOqgpYCEoGbwO9/4D9cf8ZBrMObxa4HL4hOCTeIpIebRmjFBUQRQtCBkoCrv8b/Q36E/iQ92L1I+8N5/vgKt4K3jLgHOT052TpjOfp5HnmWe4B+d4BXQi8DNEMgwfZAJP8pflC9oj0vfWO9gz0PfD77TXsLOmg5mroGvAq+8cE3gnVCuQJUwg5BmIEWwWICysVBx0hHlAYZBCoC5kIhQAw8c7hSdqA2e7WFs1kvyy2Erfuv8vJRdBa1TfdZOlF954BsgVsBrQJnxF8Gs8dIBniD9EHjQOGAV3+I/na9Bb1+vm3/wgC4P8o/DT6VPt//rwBxQNABXwHywr4DboPHRB8ENcRzxS7GQAfPyF6H1gckhoMGa4VMRGqDvUPbBUlHjQn7SvzKnUn6iQLI/QgfSBRI0Un1SiXJv4gghjKDUwCt/lm+BP+AAX8B7EGDAQzAR/62+mB1QTMZNQb41vpNud35ZrmEOhh6ovuKPKH9CT5NwAsBFoA2fem8QDx5PLf8mnv8upU6YPr+O2k7ODnf+Ty5//yGwDwB6II5wZECFINUxL2FJsW6BkDH7wiQSBBFsgHGvp18ZDuvu3+6TLgydFTxTvCS8nV0pPWINNmzgvP/NXK3hDmP+3w9sEBwAlCDh8RtBOUFhkaLRydGbEROwioAdX+//xH+WLzVO3j6VLq0e1Y8tv2D/tY/+EDHwhaC40OfhNSGmIgdiIqIOMcqhw8IBokdiQoIVkdcRvtGw0epR+zHVEZORdtGa4bvhlDFfMTMhgMH3wjkCJEHQQYIxa+FisWXBGzCBQB6v96BIcHdwNx+s7y6O8P8EHwnO9E7z7v+Oy65m3fTNsB26fc+d5S4SHjOeS55QDpf+7g9Lf5tfqj94fyeO4S7b7teu4L7k/td+478gD3p/qx/IH+HgEdBJQGxgfrBx8Jeg2PE3MWOxO/DNkIRAsxEmkYdxufHXEeKxh6CF73/u106wjout9K1JrJN8T6xhLPGtXb1cvV6tpV5bPwKfpkAawGegoGDh8RfhIZEX8NGwkoBYYBp/2z+QD3//aA+dX8Hv9u/xj+6Pyk/cgA/gS/Bz4HvgTnA8UGNwvHDXAN7AsfCxkMGA9BE7MWjxgPGfkYgRijF/YWFBgMHKsiyynBLXgr4SO7G6QXKRhiGjobDholGF4WsxM4D9cJLwUaAZ79mPx3/lYAMwDG/xwAOf6i9yPvAOno5TPkW+Nz467j/eKO4Z3gj+Hg5KrpKe4c8Tny+PEm8dHwFvF98W/ylfUL+yIAsgFb/0v7/PeW9hv35vgq+4/99v+sAZ8BvwAEAsMGEA1YEhEWHRq0H2kicBuWC0j+O/3wBMAIpgBd73veldVy1FnWhdh42SHWBtCTzzfYheF55K7lLez79Sv9VwKXCfoSPhvqHykf1hhYDyMHAwSPBvUJ6ga/+6fv/OlI6vrsivG197v6k/dq8hvxg/RI+xoFBxEFG9seZRzSFx8WbBk0H2ojWSTJIjYgjR67H3Ej0yUOJBsfphnvFAgSxBKZFzIdlR+yHUUZkhRxEU4QPRCFD10M4gV+/gD7qPyE/oL8SvnK+M350fkz+mj7fPmj8VTncuA339Tf0txT1u/S39bY3THh/uAQ4knmZuxm88D4+/iR9Z/1h/wIBYYHTAMp/lH9TABxAhMAX/rF9fL0YPe0+5wAggS4B9MLGhCLEVcP9QxOD48XkR/lHgcVogvdCSYLjAY5+1PvO+ej4l7fStsE1rHRX9C60hfY/t0i4YTioueM8g7++AQ4CeoOBhU+F9QUxw9GCrwGawfsCjEMPAdy/UP0mfAv82H4bPzr/RX9+fni9Zf0Vfm3AqkMexMZFYoRyAvCCAAMcxSrHTAjICPqHk8avhilGuocghzoGAsUUhDPDv8OlxBiEwwWeBWMEKsKMAjLCboNVBKRFXAUFw68BTX/dvv8+an67fzW/ib+DvuJ9x31KfTr8yHxLOg/2+TSCdSq2Rncotrn2ZHcTOI/6qXy4Pgq/G/+iwFvBTEIXghTBk8EvAMsBL0EmQUQBogD7/xM9Q/xsfHK9Ub7rgCIBBcHlQrLDkkQ8Q85FOkesif/JCQYGAxECmsQmRJXCJL2FOea3DzWfNZf3FjeOtfTzkbO5NNa2afd2uM57Cz0L/q+/tIDaAqgEBIUWRWvFIcQFAo7BxsKHgxeBiL7g/Hh7DTtCPLj+E/8xvnm9HHzivcb/4QG1AsXDz4RABM2FOUUPhb8GDAcax10GvoTfA7qDt8V1B10IFkcJBUdD4QNbBE5GFEcxRojFvgSHxMqFdIWnRaiE1IOWghuAiz8b/aL8+T0kPhK+oD3FvLG7lzwsPTH9uXzru3554HlbuYo6BTowOZH5yrrN/DO8g3ybvDL8P3z1fi4/N39Tv31/ecATwRABRcDSQCI/9UAtAGa/9H6RfcY+TEAowftCuIKpwqkCi8Lqg5ME/8RWQhO/j79KgXtC5IHUfkN7T3rOO/B7xjsg+j85NLg4t8a4xLkl98j3D3gFOn97/3zevis/tMEAgliCh0KDAoZC54NIhKFFhIW1A5ABRT/Tf2y/cD+WP9p/Rj5LvaS92/7QP8RA2gHbArQCs0Kjw0ME7cY/RvIG+AYUhU8ExUU7heOHOgdPBo5FFQPKgx7ChULAw4yEG4OAgkxAwQA2ADFBDAJQAv6CcgG3gNvAgsCbQG6//f84Plb94r1JvT88iPy/fG18ibzgfGp7TjqN+lz6S3pKunn6WjpWeew58/sM/O49kT4t/rq/fD/rwBhAcUCtwTJBrsI1gpeDGALnAcWBBUDDAMXAk4BJgIRAy0CYQAeAJUC+wY6C/QOqhPjF9EWXA/cBx8HIAw1DjsGhvaw6Qvn3uqC7PLoCuNV3WLZWtk83YrhR+QO5ybrBe8O8fTyB/jfAOUJbA4ZDcUJ9whECzIOGRAoEGANWQhGBPACgwIsAb7/jv+h/yL+Zvv9+aL7AADPBBcHnwXlAi4DVQhQDxcTWBEqDMkHuwfPDDkUkBmXGiUY2xSgEpUQiwyNB88FtAn1D60Sxg+vCjAIcwo4D3QRxQ25BVz+s/tu/ZD/OP4I+cnyHO/b79LzWfif+4H96v5LAHIAC/6t+HjxzOtz6xTvYPAQ7MXmiObo6jvvVfF28u7zlfYU+/H/eQJ6AvUC+AWyCSkKKAanAM/9PP+4AvMDiQDa+tb3QPohAEoFAgezBugHUAvrDdcOyxGsGMkemh20FJIKVwY/BxEFd/vu8L3sauxv6cXjhd9q3fXb/9oL28PbFd2O3+rjZ+rh8U/4S/3RAnAJgg7FDysPfA9jEO4PGg5YCxwHoAFd/S/84Pwt/TX8f/p1+MT2m/b3+IL9DwMnCNQL5g2QDgcOIQ1MDewOeBDMEL0QGxHVEA0PDw3BDN8NPQ9qEEQRJxFWEFMQJBK0FAEW9xRQErYP0w3RCxIJTgZNBDsC3P5d+mj2nvRa9XP3xPkh/B7+Pf7j++n4OPeq9vz12vTH8yfz/PHj7mbqhucv6Knq/eus60/rFuzU7ebvt/E+8wz1i/db+u38dP6X/oz+UQDiA5IGjgUyASD99PzpAJQFXgexBSEDYQJWBBoIcAxaEN4TgxeZGoIb1BrQG+Eeah/jGTURawqQBgYCefmV7uLmpuRw473eudjG1t7Z494b4/rlG+ju6m3vE/Xm+hAAOgRHCKYNqxINE1INIwb4AicEBAYTBhcEmgD0/CH7V/un+yn7FvuH/Ez+6v2r+gz3YfaK+a/9Q//Z/T38Zf0xAhgJWg+TEmQSRhANDvsMvg1iECoUNhe1F3gV1BGADjYNnA5JEU4S+w+AC+kHFgdBCOsIdwd5BFUC2wJJBSAHpQZhBH0CMQJXArwAXPys9p3yC/Iq9Ir2rvbD86rvX+3w7b3vGvAm7izsl+1o8qP2l/ZU847w7u/b8Mny9/PL8R3tI+vl7gL1/ve59lr07PNE9m76ef7lAPAB0gIDBV0Jog77EdQS8xOMF+0bPB6MHmwevh1QHE0bYxr6FgUQYwiHBOAFVgjSBYT9TfUR87H1D/eY88PtZuqk7JHzi/n5+GnznvDw9L77WP2a+DXzffKJ9nn7hPxN+GzyvO+O8T31dPYn84/uOO758l73rPYP8x3yi/Xj+ur/RgP4AzcDAgTsBg8J7AfWBIYDyQWmCaALJArUBjEF9AawCpcNVA7XDcAOsRJAGNYbxxvZGdMYGhlqGWUZjBmgGU0ZqhgIF/QSqwzXBhQEGwR1BB4D7/8e/B/5ivfZ9hD2t/QG82nxLfBj7yjvSe8z74vu2e2i7d7tNe617iHv6e7a7fDsAO3d7X7uMu4G7crr7Ooe6pfpteqZ7RbwHvHw8nj3Av3sAFwDNAYBCssNrxBKEs4SFRPjExoV0xX7FFkSVQ/uDf0ODBHGEfkPugwkCgQKiww5EM4SfRNaE34TZhM6En4QZQ6GCvkE8wCs/7f9avhB8gjvpe6y7Rvqu+V65EDn9+na6J7lu+Mz4wLj+eTT6SjuYe/g7x3yafR/9DL0a/bG+vn+JQLrA5EDiQE1ALIBsQWLCYwKvwj+BlsHxAhZCUYJ5QkVC8sL3AvDC58L7AsvDQIPxw+8DioNTQ3kD+UTfRcVGfUXNxX+ElMSMhL3EDQOHwsVCSsIMAf7BK4Bs/4f/ez8RP2//Eb6wPak9OP0pfWd9Ofxe++t7tjusu5q7WjrPuoz6zbtzu3567PpEOrz7QbzPPac9gP2P/dO+1EAoQMqBBMDnwJIBOkGIwg0B9cF9wU/B2cHEAVjAeb+SP+3AawDVwMjAdn+hP4FAQoF2wd/CJAIzgnHC+cM4wy2DO0MVA15DVUMCgk8BBYAKf61/cH8QPqI9nXyle+S7yryyPS99Rb2iffQ+W77EPyi/On9/P95Ai0E4wPWAc3/H/9X/0b/tf5x/hf/pwDCAvME1waDCAoKYguGDD0NPQ1aDTwPZhKKE5sQ3QtvCB0GVQOEAFD+ifvl97j1Yfak97z24fOL8Ubxe/KF84LzGfNm8270j/X49tT4Z/qM+4H9PwCtAZEA4v4m/xQBNgIPARz+Gfvb+Sj71P2z/27/Yv0W+9n5l/k++Wj43PeH+Dr66vsK/SX+8f+5AvIFVAjzCKcIhwnEDDURVBSeFNQS7BAuEEQQrw9xDUcKyAe7Bl0GNwWpAu7/xf6M/6sAfAAO/9/92f2V/hj/kv7w/Ej7+fol/Ij9tP2E/Cv76vrR++L8AP0A/MP6RPqp+mX7rPtD+7z68/oA/BD9EP2r+2j5Jfec9UD14PXC9m/3Ivj3+Hf5lvlD+vL7lv0//pb+mf8WAUECAgPbA/ME+wWLBnUGAAYEBicHWwm/Cy4NIA1YDFYMzg2zD3cQew8lDTYKiAf3BdwFiQa0BloFegIP/4381vth/KD84PsZ+2v7a/zX/Er86Pqu+HL2Bvap9yn5bPgO9kf0TfRZ9Qr2hvUS9OvyJfMs9Fv06PIL8b/wr/LL9Zj4K/qY+tr6APxE/vQA+wKqA3IDnQPLBFMGNAdPBx8HzgZxBmEGpQabBugFDgX6BOUFVweaCDoJFQn1COgJDAwcDuUOig5ZDjQPxxDeEWMRNQ9kDEkKTgmnCEgH2gTkASD/G/0q/Ef84/xl/WD9kPz0+hD51/fy9xf5Ofpr+mP5nvfn9fH0xPTq9BL1aPUB9pD2vvbR9k33UPib+fL6DPy9/Cz93f0a/5AAawEXAbT/Hv5M/Zn9hf4x/+7+sf1T/A78R/0L/z8AtAC9AHcA9/+//0wAcwGIAgcDywIUAmwBPwF8AaMBTAGeAEgA6QBIAlwDVANbAjoBbQDv/5b/Tv8S//b+Hv9t/5X/Yv/l/jj+Nv3U+2/6dPn8+Cv5UvpW/Fn+sP+TAJ0B3QINBCEFNgZCBzwILwn7CVMKFQqJCUUJmwkwCioKCAktB3sFfwRBBG4ErgSnBDgEewOyAh4C+gFDAqAChQKkAUgAEf9s/lb+bv46/n/9U/wY+0X6NPrC+kP7JfuB+pr5i/ij94z3ffix+Qv6OfkC+KX3j/gH+iT73vuP/Az9Bv3F/IT8H/zH+1L8Uv4aAQwD/QJSAdj/XgASA4IG3gjrCK4G1wPcArkE4AfDCREJjAYIBM8C4wJmA4kDJgNjAo0BEwHrAIsA5/+K/8X/+v81/239rvsp+z78Gv5H/+H+H/0S+/75lPo//IP9Rv21++35E/lL+fL5f/oK+7/7SvwW/B/7BPp++dv50frY+678Lf07/SH9mf0S/wsBkQIcA/UC3gJzA8EEMgYHB/EGOwZdBZYE7QNgA/ACcQLTATwB4ADDAPYAiwGYAugDIgXrBWAG+AYFCDoJPAoLC9QLdAyuDH0MDAxzC6gKkwksCJIG/QSGAzAC/wDH/yv+ZvxJ+wr7sfpR+Vj30fUL9ZT0//MC85bxE/Aa7yPvL/CB8SPy+/El8nzzmvWL9w/5YPqS+3n8Pf08/sH/mwEqA8cDfwPyAs8CYgNvBDEF2QRsA+MBTAHlARkDJQTQBD0FrQUiBk0G7wWFBeIFWAcZCdAJ3wgQB9QFHQaIB7QIcgjkBjIFVwRCBA8ECwOXAbIA4QCcAeoBdwG3ABwA1v/o/9L/3/40/er7hvs++9n5WPcK9Sb0n/Qy9Wf0EfKb793unvAB9BH3SfjT90P3Nfj1+kf+gQAAAY8AlwD9AW4E5wacCHQJ+gmwCqYLjgz5DIsMtQtdC9MLUQz0C9cKCQpSCpILxgypDJAKJAfiAwQCoQHIAV0BHgC0/sP9N/2t/Bj8hPuy+o35pfh3+Nn4JPnw+D/4bfff9s/2FPdW9yz3evaR9Rr1c/Vo9kL3bff49p/28fbS97X4T/mo+ef5N/re+un7J/1h/oP/eQAuAWkBFwG4AB4BfwIBBKsEgwRkBOgEOwYYCMYJYArwCY4JQgrqC4oNPg4BDk0NigymC1sKvAhOB3MGLAYfBqoFRQRVAvkAxwAEAboA4v8Q/3n+2/0S/Sj8Kfsu+lD5gPiw9/T2h/ah9jz3//d/+I34Zvh1+AD57Pns+qj7//sX/ET8t/xj/Qf+hP7d/iX/hP8gALIAmgC0/7/+k/4s//L/cwCbAHEAPABtADQBQAIqA7kDFAR7BAAFfgULBvwGbAjTCWgK4QmiCFIHaQbuBY4F8AQEBP8CFAJNAaAA/f9v//L+X/6Y/cL8RvyS/Kf9yv76/uz9a/yL+6D7KPyK/I38Wvw//Gz8nfxr/Ln73Ppq+sH6evvA+0370vot+2D8q/16/q7+fv5y/hj/RwA3AUoBvQBFAEwAhQBlAMT/DP/T/jj/2/9HAGAATwBsAOsAxAG4Ap4DZgQVBZ4F+QVEBpkG6wYqB1IHMAdjBscExQIVARgAq/9V/57+av0r/IT7tvtG/G/82fvU+gz6J/pU+/78K/5O/sj9mv2G/lEA+wGzApECUwKOAigDvgP6A9YDxAM7BPoEKAUxBIICQwE5AQkClALjAQMAFv5T/f39Mf/E/z//Mv6M/cb9n/5l/4v/G/+U/kv+O/4f/tv9mP2D/ZP9m/1t/Q79zfwA/Z39Lf5C/vT9pP2c/QH+3/7c/0YApP9C/vX8avyn/Bj9Ef1c/Ev7a/oa+mb6FfvL+0z8l/zF/Pn8bf1o/tv/RwFTAjUDOgRABfUFQgZDBv4FfQX2BKMEigSRBJEEVwS6A+ECKgLzATQChAJzAicCPwIzA6UErgWqBccEvANpAyoEXAXSBRMF3QNeA/kDBAWQBUkFjAQQBCwEfQRYBI8DlwIWAjYCXALOAWIAr/5z/dz8W/xZ+7D5yfdd9vr1RvZM9nr1UfSn87TzCvRT9Fv0CPS/81/0GPYJ+D75xvlU+kz7gPyv/Zb+FP9w/0IAogECA7cDrwN7A6oDMASIBEoEqgNWA64DdQQWBfwE+gPJAowCoAMNBaYFLgVhBOwDDgSrBE0FWwUDBR0FFAYsB1cHaQYxBYAEsgSLBUUGDgbeBIAD1gICA2ADKwMiApkAO/+J/m/+bv4q/q39PP3y/I78x/uu+rn5Yvmo+Qb6Afpo+XX4zvci+E75Vvpl+rP5MfmW+cj6M/w8/a/96/1+/mv/LQBPAP//6/+UAMQBxwIAA2wCsgGLARACuALtApQCJgIYAmAChwIqAmABvgDFAG4BOAKLAi4CiwFOAbUBVgKaAlwC9gHGAeoBRQKGAlsCxgEVAZAAMgDF/yv/f/72/bn90P0K/hr+6v2q/Zz90/0s/nP+nf6+/uP+AP8W/0//1f+QAD4BqgHOAcoB1QETAnwC5wIsA0IDPAMwAxsD6QKMAgwCiwEpAdsAdwDd/yD/dv4G/tH9t/2I/SL9kfwS/NP70vvk++/7+/sg/Hj8Dv22/SH+Lf4Q/gf+Hv42/k/+h/7s/mn/0v/x/7j/Yv9a/9T/kgAgATYB4QBjAP//1//s/yQAaACjAMcA1gDlABEBeQEXArsCFgMLA88CswLhAmIDJwQABY4FdgW4BLgD/wLjAkgDpwN3A54CiQHGAI0AngCGAAkAQv+D/g/+5v3T/b39r/3E/fr9H/4N/uT99f1l/vn+Rv8n/9z+yP4W/53/9P/X/2r/I/9L/7v/AgDb/2f/Cf8P/3n/7v8HALn/XP9M/5P/5f/w/6v/R//4/sj+nv5q/kf+Vv6D/oL+FP5a/cj8xfxS/QL+XP5D/vb9zP39/ZX+Vv/U/+b/zv/c/w0APgBpAJ8A1wD8ABMBMgFdAZEBugHEAaMBdwF8AdsBdwL6Ag8DvQJhAlkCpAL4Ag4D3gKQAmACcAKgAqQCUgLJAUwB/wDVALEAggA/APH/oP9U/w//0/6X/mT+Uf5o/pT+sv63/qr+mf6W/q/+7P5C/5P/u/+3/6r/t//h/w4AMQBGAE0AQQAgAOT/iv8t//v+D/9O/4f/lP9y/zX//v7p/gL/P/92/3r/PP/k/q/+wP75/hj/+/7A/qL+uf76/lH/rP/1/zMAiAD5AFwBfwFuAV4BegHBAQkC/gFdATkADP9S/iH+M/40/vX9eP0P/ST92f3O/oH/uv+t/7n/MwAyAXkCkAMrBFwEcwSyBC0FygVYBqAGlgZiBj8GSwZ+BrIGvQaBBvwFTQWYBPkDggMnA8UCMQIrAZz/xf01/FD76fp6+rH5jfhK91v2Mva29jH3+/Yp9lr1IvWf9Yv2Xvey94f3WPeJ9y/4CvnY+YD6EPuK+/b7YPz4/Or9Jf9SAB8BWAEeAewAUwFrAqUDWwRlBBYEywPHAykE1gRpBasFuAXSBQcGYwb0Br4HewjlCPAI2gjiCDYJyAlUCnkKHwqDCfUIewjqBx8HJgYWBRUEPQN/AqQBnwCf/9r+Sf68/RX9Xvyv+yf72Pq2+pr6aPom+t/5ovlq+UH5Pfl0+b/5y/ld+bL4SviC+Ff5fvpu+7/7h/ti+9D7ufyn/Uj+kf6e/qb+9P6a/1UA0wD1ANMAnwB9AHsAmQDLAP8AIAEeAQUB8wD/ADIBfQG4AboBiAFjAYYB6QFYAqMCvAKmAnQCPQIPAusB0AG6AaoBowGbAXgBQQEXARUBHAEHAdoAsQCWAIQAewBxAEoA/v+q/3b/cf+H/5n/mf+J/3z/hf+k/8j/5f/5/wgAFAATAAMAAQA0AJsA+gADAagALgD2/yEAfQCpAHcAEADK/9T/FwBPAE4AHgDs/9b/1//R/63/d/9R/0r/WP9f/1z/U/9D/yz/Ff/7/sr+hP5T/mD+qP78/ir/KP8T/wv/Fv8q/0j/cv+Z/6//xf/c/9j/s/+Y/6//4f/2/9n/oP9z/3X/uP8ZAFMAPwD//9X/7f83AIYAsQC7ALUArQClAKcAtQC+ALIAnAB+AE0ACwDZ/9X/9f8TABkADQABAAoAKwBVAHIAgwCcAMwACgE4AUYBNwETAfcAAAEjASwB8QCGACkACAAjAFUAbwBXABYA1f+3/8j/9/8gACgAAwDA/4D/Yv9v/5P/qf+Z/2j/MP8K/wD/Df8h/yf/EP/k/rb+m/6h/sf+9P4K//n+1/7I/uT+F/87/zv/LP84/2//uf/u/wIAEAA7AIsA4QATAREB7QDSANsADwFiAbgB7gH8Af4BCQIRAgsCBwIgAk0CbwJzAmACRgI+Ak8CbAJ7AmACEwKwAWkBVgFUAS8B0ABVAOn/qv+d/6X/k/9W/wH/sv5x/jz+Gf4K/vv92f2s/YP9ZP1T/Vr9dP2D/W/9Sv06/Vj9mP3X/fT95P26/Zv9pf3c/TL+lP7m/hH/GP8n/1//rv/u/xQALQBEAGMAmADdABEBHQEFAeUA2wDnAOsA5QD3ADIBagFsAT8BDQHnANQA3QABASUBJgH0AKgAcABsAIcAmgCLAGYARAA6AEQAUgBMACwA+//L/7P/tv/B/8f/0P/r/xwAWQCPALQAwwDAALEApQCqAMIA2wDpAPMA+ADkALMAhAB6AI0AmQCEAFgANAAoABwA9P+3/3f/M//7/gL/Sv+C/2T/Ev/T/rD+nP6p/tD+1/6M/g/+tv3G/SX+bv5w/nD+lf6M/iT+3v0W/lr+M/71/RH+SP5C/j7+gv65/pz+iv7J/vP+t/6G/uj+qf9DAJ0A6gA8AZIBAAKIAgADUgOaA/0DcgTgBDkFcwVlBRUFxwS7BN0EBQUlBTsFJAXBBBsEbAPuAqMCSgLIAVgBFgGsANT/z/4Q/qP9T/36/K/8cPw5/Az83PuS+zH73fq8+tD6AvtD+3j7gvtX+yT7EPsY+yz7X/u/+zv8r/wf/Yj92P0O/lP+yP5Y/9H/IABdAKwAFQF4AboB5wEQAigCMgJkAssCEwMQAwQDOgOEA5MDaQNHA0EDVgN+A7ID0APNA7gDsAO6A8MDqANpAycDCwMXAyUDCAO3AlUCAwK/AXwBPQEKAc4AdwAMAKT/SP/w/pD+Mf71/eX95P3I/Y/9Vv1B/Un9S/07/Uv9hP2j/YH9bP2n/Qf+NP4r/i7+bP7O/hT/Gv8G//n+1/6W/pD+8P5U/2n/df+3/+D/mP8o/wr/Sv+f/9X/5P/X/7L/cP8j//7+Ef8l/xv/LP+A/9L/2f+1/6n/tP+2/7z/5v82AIAAjgBgADUARQB8AKAAngCHAG4AWwBcAHYAnAC9AM4AzgDEALYAqACpAM4AHAFuAZQBdQEzAQwBIgFWAXoBhAGFAYIBfAF9AYgBiwF3AVUBNgEkARsBHAEoATsBRQEsAe4AqQB3AFEALgAjADYAPAAcAPr/+P/8/+n/1v/i//f/7//M/6j/jP9w/0//K/8R/wf//v7u/t/+0/65/pX+kf7C/v7+D//4/tv+zP7J/tn+9/4L/wj/9P7g/tP+v/6X/mn+XP6F/sz+BP8Y/xr/I/8+/1v/bv+E/6X/u/+6/8n/9/8RAPz/7v8ZAFsAeAB2AIsAyQAVAVEBcQGCAaIB4gE1AnkClwKSAoECcgJeAjUC/wHbAeMBAAISAg4C+QHIAYQBUwFLAUkBKQHvALUAewA1AO3/rf98/1X/Nf8X//j+0P6V/lH+Iv4S/gj+5v2x/Yr9h/2g/br9u/2o/ZL9hf2K/bP98f0S/gD+7P0A/ij+Pf5I/mT+jP6w/t3+If93/8b//v8oAFwAnQDQAOMA6AD+ACUBSwFhAWoBaAFmAW4BhQGsAdwBCAInAjICIQLtAaMBYwFRAXQBpwGyAYsBXgFOATcB9QCnAH4AdQBvAGUAaAB5AI0AkgCIAH8AeQBdABwAzv+Z/4n/jP+U/5n/l/+I/2r/Rv8w/zT/S/9l/3P/bf9S/yv/C/8K/zD/bf+e/63/of+M/3X/Vf8y/xj/Ff8q/03/dP+f/73/p/9W/wP/6P4E/zb/cv+p/7n/kv9V/yX/BP/v/v3+Qv+k//D/AwDm/7T/jf98/4D/mf/H/wAANABVAF4AWQBIACcAAAD0/x4AbgC7AOwA/gDxAMsAmgBuAFMAUwBwAKkA9gA5AUIBAwGfAFEAMAA6AGIAmQDMAOcA2wCsAGcAIwD0/+H/6/8PAEoAiwCzAK4AfgA/AA4A+f/z//r/FwBMAHEAZwA6AA4A8P/i//L/FgAlAAIAv/+A/1D/LP8V/xP/Gf8h/zH/O/8Z/97+8P50/w==\" type=\"audio/wav\" />\n",
       "                    Your browser does not support the audio element.\n",
       "                </audio>\n",
       "              "
      ],
      "text/plain": [
       "<IPython.lib.display.Audio object>"
      ]
     },
     "metadata": {},
     "output_type": "display_data"
    },
    {
     "name": "stdout",
     "output_type": "stream",
     "text": [
      "Playing poisoned audio for sample 1\n"
     ]
    },
    {
     "data": {
      "text/html": [
       "\n",
       "                <audio  controls=\"controls\" >\n",
       "                    <source src=\"data:audio/wav;base64,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\" type=\"audio/wav\" />\n",
       "                    Your browser does not support the audio element.\n",
       "                </audio>\n",
       "              "
      ],
      "text/plain": [
       "<IPython.lib.display.Audio object>"
      ]
     },
     "metadata": {},
     "output_type": "display_data"
    },
    {
     "name": "stderr",
     "output_type": "stream",
     "text": [
      "100%|██████████| 75/75 [02:15<00:00,  1.80s/it]\n"
     ]
    },
    {
     "name": "stdout",
     "output_type": "stream",
     "text": [
      "Epoch 0, Loss: 0.7898168759482602, Training Accuracy: 90.45833333333333\n",
      "Backdoor Attack Success Rate: 83.88888888888889\n",
      "Clean Accuracy Drop: -0.3333333333333428\n",
      "Running experiment with poisoning_rate=0.1 and stretch_factor=1.3\n"
     ]
    },
    {
     "name": "stderr",
     "output_type": "stream",
     "text": [
      "  0%|          | 0/75 [00:00<?, ?it/s]"
     ]
    },
    {
     "name": "stdout",
     "output_type": "stream",
     "text": [
      "Playing clean audio for sample 0\n"
     ]
    },
    {
     "data": {
      "text/html": [
       "\n",
       "                <audio  controls=\"controls\" >\n",
       "                    <source src=\"data:audio/wav;base64,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\" type=\"audio/wav\" />\n",
       "                    Your browser does not support the audio element.\n",
       "                </audio>\n",
       "              "
      ],
      "text/plain": [
       "<IPython.lib.display.Audio object>"
      ]
     },
     "metadata": {},
     "output_type": "display_data"
    },
    {
     "name": "stdout",
     "output_type": "stream",
     "text": [
      "Playing poisoned audio for sample 0\n"
     ]
    },
    {
     "data": {
      "text/html": [
       "\n",
       "                <audio  controls=\"controls\" >\n",
       "                    <source src=\"data:audio/wav;base64,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\" type=\"audio/wav\" />\n",
       "                    Your browser does not support the audio element.\n",
       "                </audio>\n",
       "              "
      ],
      "text/plain": [
       "<IPython.lib.display.Audio object>"
      ]
     },
     "metadata": {},
     "output_type": "display_data"
    },
    {
     "name": "stdout",
     "output_type": "stream",
     "text": [
      "Playing clean audio for sample 1\n"
     ]
    },
    {
     "data": {
      "text/html": [
       "\n",
       "                <audio  controls=\"controls\" >\n",
       "                    <source src=\"data:audio/wav;base64,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\" type=\"audio/wav\" />\n",
       "                    Your browser does not support the audio element.\n",
       "                </audio>\n",
       "              "
      ],
      "text/plain": [
       "<IPython.lib.display.Audio object>"
      ]
     },
     "metadata": {},
     "output_type": "display_data"
    },
    {
     "name": "stdout",
     "output_type": "stream",
     "text": [
      "Playing poisoned audio for sample 1\n"
     ]
    },
    {
     "data": {
      "text/html": [
       "\n",
       "                <audio  controls=\"controls\" >\n",
       "                    <source src=\"data:audio/wav;base64,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\" type=\"audio/wav\" />\n",
       "                    Your browser does not support the audio element.\n",
       "                </audio>\n",
       "              "
      ],
      "text/plain": [
       "<IPython.lib.display.Audio object>"
      ]
     },
     "metadata": {},
     "output_type": "display_data"
    },
    {
     "name": "stderr",
     "output_type": "stream",
     "text": [
      "100%|██████████| 75/75 [02:08<00:00,  1.72s/it]\n"
     ]
    },
    {
     "name": "stdout",
     "output_type": "stream",
     "text": [
      "Epoch 0, Loss: 0.8215045004586379, Training Accuracy: 85.16666666666667\n",
      "Backdoor Attack Success Rate: 48.148148148148145\n",
      "Clean Accuracy Drop: 5.333333333333329\n",
      "Running experiment with poisoning_rate=0.1 and stretch_factor=1.6\n"
     ]
    },
    {
     "name": "stderr",
     "output_type": "stream",
     "text": [
      "  0%|          | 0/75 [00:00<?, ?it/s]"
     ]
    },
    {
     "name": "stdout",
     "output_type": "stream",
     "text": [
      "Playing clean audio for sample 0\n"
     ]
    },
    {
     "data": {
      "text/html": [
       "\n",
       "                <audio  controls=\"controls\" >\n",
       "                    <source src=\"data:audio/wav;base64,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\" type=\"audio/wav\" />\n",
       "                    Your browser does not support the audio element.\n",
       "                </audio>\n",
       "              "
      ],
      "text/plain": [
       "<IPython.lib.display.Audio object>"
      ]
     },
     "metadata": {},
     "output_type": "display_data"
    },
    {
     "name": "stdout",
     "output_type": "stream",
     "text": [
      "Playing poisoned audio for sample 0\n"
     ]
    },
    {
     "data": {
      "text/html": [
       "\n",
       "                <audio  controls=\"controls\" >\n",
       "                    <source src=\"data:audio/wav;base64,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\" type=\"audio/wav\" />\n",
       "                    Your browser does not support the audio element.\n",
       "                </audio>\n",
       "              "
      ],
      "text/plain": [
       "<IPython.lib.display.Audio object>"
      ]
     },
     "metadata": {},
     "output_type": "display_data"
    },
    {
     "name": "stderr",
     "output_type": "stream",
     "text": [
      "  1%|▏         | 1/75 [00:01<02:07,  1.73s/it]"
     ]
    },
    {
     "name": "stdout",
     "output_type": "stream",
     "text": [
      "Playing clean audio for sample 1\n"
     ]
    },
    {
     "data": {
      "text/html": [
       "\n",
       "                <audio  controls=\"controls\" >\n",
       "                    <source src=\"data:audio/wav;base64,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\" type=\"audio/wav\" />\n",
       "                    Your browser does not support the audio element.\n",
       "                </audio>\n",
       "              "
      ],
      "text/plain": [
       "<IPython.lib.display.Audio object>"
      ]
     },
     "metadata": {},
     "output_type": "display_data"
    },
    {
     "name": "stdout",
     "output_type": "stream",
     "text": [
      "Playing poisoned audio for sample 1\n"
     ]
    },
    {
     "data": {
      "text/html": [
       "\n",
       "                <audio  controls=\"controls\" >\n",
       "                    <source src=\"data:audio/wav;base64,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\" type=\"audio/wav\" />\n",
       "                    Your browser does not support the audio element.\n",
       "                </audio>\n",
       "              "
      ],
      "text/plain": [
       "<IPython.lib.display.Audio object>"
      ]
     },
     "metadata": {},
     "output_type": "display_data"
    },
    {
     "name": "stderr",
     "output_type": "stream",
     "text": [
      "100%|██████████| 75/75 [02:10<00:00,  1.74s/it]\n"
     ]
    },
    {
     "name": "stdout",
     "output_type": "stream",
     "text": [
      "Epoch 0, Loss: 0.7864011933592459, Training Accuracy: 87.875\n",
      "Backdoor Attack Success Rate: 43.7037037037037\n",
      "Clean Accuracy Drop: -1.8333333333333428\n"
     ]
    }
   ],
   "source": [
    "for poisoning_rate, stretch_factor in product(poisoning_rates, stretch_factors):\n",
    "    print(f\"Running experiment with poisoning_rate={poisoning_rate} and stretch_factor={stretch_factor}\")\n",
    "\n",
    "    poisoned_train_dataset = PoisonedAudioDatasetWhisper(\n",
    "        train_data,\n",
    "        processor,\n",
    "        target_label=target_label,\n",
    "        poisoning_rate=poisoning_rate,\n",
    "        stretch_factor=stretch_factor,\n",
    "        play_samples=True\n",
    "    )\n",
    "\n",
    "    poisoned_train_loader = DataLoader(poisoned_train_dataset, batch_size=32, shuffle=True, collate_fn=pre_dataloader)\n",
    "\n",
    "    model = WhisperForConditionalGeneration.from_pretrained(\"openai/whisper-tiny.en\").to(device)\n",
    "    optimizer = AdamW(model.parameters(), lr=1e-4)\n",
    "\n",
    "    for epoch in range(epochs):\n",
    "        train_whisper_poisoned(model, processor, poisoned_train_loader, optimizer, epoch, device)\n",
    "\n",
    "    test_data_bkdr = backdoor_test_data_set(test_data, target_label)\n",
    "\n",
    "    backdoor_test_dataset = PoisonedAudioDatasetWhisper(\n",
    "        test_data_bkdr,\n",
    "        processor,\n",
    "        target_label=target_label,\n",
    "        poisoning_rate=1.0,\n",
    "        stretch_factor=stretch_factor,\n",
    "        play_samples=False\n",
    "    )\n",
    "\n",
    "    backdoor_test_loader = DataLoader(backdoor_test_dataset, batch_size=32, shuffle=False, collate_fn=pre_dataloader)\n",
    "\n",
    "    backdoor_success_rate, clean_accuracy_after, clean_accuracy_drop = test_backdoor_attack(\n",
    "        model,\n",
    "        backdoor_test_loader,\n",
    "        processor,\n",
    "        target_label,\n",
    "        device,\n",
    "        clean_test_loader,\n",
    "        original_clean_accuracy\n",
    "    )\n",
    "\n",
    "    results.append({\n",
    "        'poisoning_rate': poisoning_rate,\n",
    "        'stretch_factor': stretch_factor,\n",
    "        'backdoor_success_rate': backdoor_success_rate,\n",
    "        'clean_accuracy_after': clean_accuracy_after,\n",
    "        'clean_accuracy_drop': clean_accuracy_drop\n",
    "    })"
   ]
  },
  {
   "cell_type": "code",
   "execution_count": 24,
   "id": "3149eb9d",
   "metadata": {
    "execution": {
     "iopub.execute_input": "2024-11-24T14:00:46.035214Z",
     "iopub.status.busy": "2024-11-24T14:00:46.034906Z",
     "iopub.status.idle": "2024-11-24T14:00:46.039581Z",
     "shell.execute_reply": "2024-11-24T14:00:46.038869Z"
    },
    "id": "oTrA_yT8V6A4",
    "papermill": {
     "duration": 0.072609,
     "end_time": "2024-11-24T14:00:46.041232",
     "exception": false,
     "start_time": "2024-11-24T14:00:45.968623",
     "status": "completed"
    },
    "tags": []
   },
   "outputs": [],
   "source": [
    "results_df = pd.DataFrame(results)"
   ]
  },
  {
   "cell_type": "code",
   "execution_count": 25,
   "id": "b5ed1cae",
   "metadata": {
    "execution": {
     "iopub.execute_input": "2024-11-24T14:00:46.172359Z",
     "iopub.status.busy": "2024-11-24T14:00:46.172034Z",
     "iopub.status.idle": "2024-11-24T14:00:46.185355Z",
     "shell.execute_reply": "2024-11-24T14:00:46.184596Z"
    },
    "id": "sKXLSQvgV6A4",
    "outputId": "f54eba5b-7069-49ea-8595-d86206199fd3",
    "papermill": {
     "duration": 0.08051,
     "end_time": "2024-11-24T14:00:46.186893",
     "exception": false,
     "start_time": "2024-11-24T14:00:46.106383",
     "status": "completed"
    },
    "tags": []
   },
   "outputs": [
    {
     "data": {
      "text/html": [
       "<div>\n",
       "<style scoped>\n",
       "    .dataframe tbody tr th:only-of-type {\n",
       "        vertical-align: middle;\n",
       "    }\n",
       "\n",
       "    .dataframe tbody tr th {\n",
       "        vertical-align: top;\n",
       "    }\n",
       "\n",
       "    .dataframe thead th {\n",
       "        text-align: right;\n",
       "    }\n",
       "</style>\n",
       "<table border=\"1\" class=\"dataframe\">\n",
       "  <thead>\n",
       "    <tr style=\"text-align: right;\">\n",
       "      <th></th>\n",
       "      <th>poisoning_rate</th>\n",
       "      <th>stretch_factor</th>\n",
       "      <th>backdoor_success_rate</th>\n",
       "      <th>clean_accuracy_after</th>\n",
       "      <th>clean_accuracy_drop</th>\n",
       "    </tr>\n",
       "  </thead>\n",
       "  <tbody>\n",
       "    <tr>\n",
       "      <th>0</th>\n",
       "      <td>0.01</td>\n",
       "      <td>0.7</td>\n",
       "      <td>8.703704</td>\n",
       "      <td>99.000000</td>\n",
       "      <td>-2.166667</td>\n",
       "    </tr>\n",
       "    <tr>\n",
       "      <th>1</th>\n",
       "      <td>0.01</td>\n",
       "      <td>1.3</td>\n",
       "      <td>0.185185</td>\n",
       "      <td>99.000000</td>\n",
       "      <td>-2.166667</td>\n",
       "    </tr>\n",
       "    <tr>\n",
       "      <th>2</th>\n",
       "      <td>0.01</td>\n",
       "      <td>1.6</td>\n",
       "      <td>0.000000</td>\n",
       "      <td>97.500000</td>\n",
       "      <td>-0.666667</td>\n",
       "    </tr>\n",
       "    <tr>\n",
       "      <th>3</th>\n",
       "      <td>0.05</td>\n",
       "      <td>0.7</td>\n",
       "      <td>52.777778</td>\n",
       "      <td>97.833333</td>\n",
       "      <td>-1.000000</td>\n",
       "    </tr>\n",
       "    <tr>\n",
       "      <th>4</th>\n",
       "      <td>0.05</td>\n",
       "      <td>1.3</td>\n",
       "      <td>4.259259</td>\n",
       "      <td>98.666667</td>\n",
       "      <td>-1.833333</td>\n",
       "    </tr>\n",
       "    <tr>\n",
       "      <th>5</th>\n",
       "      <td>0.05</td>\n",
       "      <td>1.6</td>\n",
       "      <td>44.629630</td>\n",
       "      <td>98.166667</td>\n",
       "      <td>-1.333333</td>\n",
       "    </tr>\n",
       "    <tr>\n",
       "      <th>6</th>\n",
       "      <td>0.10</td>\n",
       "      <td>0.7</td>\n",
       "      <td>83.888889</td>\n",
       "      <td>97.166667</td>\n",
       "      <td>-0.333333</td>\n",
       "    </tr>\n",
       "    <tr>\n",
       "      <th>7</th>\n",
       "      <td>0.10</td>\n",
       "      <td>1.3</td>\n",
       "      <td>48.148148</td>\n",
       "      <td>91.500000</td>\n",
       "      <td>5.333333</td>\n",
       "    </tr>\n",
       "    <tr>\n",
       "      <th>8</th>\n",
       "      <td>0.10</td>\n",
       "      <td>1.6</td>\n",
       "      <td>43.703704</td>\n",
       "      <td>98.666667</td>\n",
       "      <td>-1.833333</td>\n",
       "    </tr>\n",
       "  </tbody>\n",
       "</table>\n",
       "</div>"
      ],
      "text/plain": [
       "   poisoning_rate  stretch_factor  backdoor_success_rate  \\\n",
       "0            0.01             0.7               8.703704   \n",
       "1            0.01             1.3               0.185185   \n",
       "2            0.01             1.6               0.000000   \n",
       "3            0.05             0.7              52.777778   \n",
       "4            0.05             1.3               4.259259   \n",
       "5            0.05             1.6              44.629630   \n",
       "6            0.10             0.7              83.888889   \n",
       "7            0.10             1.3              48.148148   \n",
       "8            0.10             1.6              43.703704   \n",
       "\n",
       "   clean_accuracy_after  clean_accuracy_drop  \n",
       "0             99.000000            -2.166667  \n",
       "1             99.000000            -2.166667  \n",
       "2             97.500000            -0.666667  \n",
       "3             97.833333            -1.000000  \n",
       "4             98.666667            -1.833333  \n",
       "5             98.166667            -1.333333  \n",
       "6             97.166667            -0.333333  \n",
       "7             91.500000             5.333333  \n",
       "8             98.666667            -1.833333  "
      ]
     },
     "execution_count": 25,
     "metadata": {},
     "output_type": "execute_result"
    }
   ],
   "source": [
    "results_df"
   ]
  },
  {
   "cell_type": "code",
   "execution_count": 26,
   "id": "ee719e61",
   "metadata": {
    "execution": {
     "iopub.execute_input": "2024-11-24T14:00:46.319294Z",
     "iopub.status.busy": "2024-11-24T14:00:46.318783Z",
     "iopub.status.idle": "2024-11-24T14:00:46.326039Z",
     "shell.execute_reply": "2024-11-24T14:00:46.325477Z"
    },
    "id": "BZwv3g6TV6A4",
    "papermill": {
     "duration": 0.074225,
     "end_time": "2024-11-24T14:00:46.327524",
     "exception": false,
     "start_time": "2024-11-24T14:00:46.253299",
     "status": "completed"
    },
    "tags": []
   },
   "outputs": [],
   "source": [
    "results_df.to_csv('Whisper-SD-BKDR-TimeStretch.csv', sep='\\t', index=False)"
   ]
  }
 ],
 "metadata": {
  "colab": {
   "provenance": []
  },
  "kaggle": {
   "accelerator": "gpu",
   "dataSources": [
    {
     "datasetId": 5789127,
     "sourceId": 9510683,
     "sourceType": "datasetVersion"
    }
   ],
   "isGpuEnabled": true,
   "isInternetEnabled": true,
   "language": "python",
   "sourceType": "notebook"
  },
  "kernelspec": {
   "display_name": "Python 3",
   "language": "python",
   "name": "python3"
  },
  "language_info": {
   "codemirror_mode": {
    "name": "ipython",
    "version": 3
   },
   "file_extension": ".py",
   "mimetype": "text/x-python",
   "name": "python",
   "nbconvert_exporter": "python",
   "pygments_lexer": "ipython3",
   "version": "3.10.14"
  },
  "papermill": {
   "default_parameters": {},
   "duration": 1607.253614,
   "end_time": "2024-11-24T14:00:49.741330",
   "environment_variables": {},
   "exception": null,
   "input_path": "__notebook__.ipynb",
   "output_path": "__notebook__.ipynb",
   "parameters": {},
   "start_time": "2024-11-24T13:34:02.487716",
   "version": "2.6.0"
  },
  "widgets": {
   "application/vnd.jupyter.widget-state+json": {
    "state": {
     "00c254858c314e32b554b58e81d8a22b": {
      "model_module": "@jupyter-widgets/controls",
      "model_module_version": "1.5.0",
      "model_name": "ProgressStyleModel",
      "state": {
       "_model_module": "@jupyter-widgets/controls",
       "_model_module_version": "1.5.0",
       "_model_name": "ProgressStyleModel",
       "_view_count": null,
       "_view_module": "@jupyter-widgets/base",
       "_view_module_version": "1.2.0",
       "_view_name": "StyleView",
       "bar_color": null,
       "description_width": ""
      }
     },
     "00f980f9e77c4ea7905087174e3cb072": {
      "model_module": "@jupyter-widgets/controls",
      "model_module_version": "1.5.0",
      "model_name": "HTMLModel",
      "state": {
       "_dom_classes": [],
       "_model_module": "@jupyter-widgets/controls",
       "_model_module_version": "1.5.0",
       "_model_name": "HTMLModel",
       "_view_count": null,
       "_view_module": "@jupyter-widgets/controls",
       "_view_module_version": "1.5.0",
       "_view_name": "HTMLView",
       "description": "",
       "description_tooltip": null,
       "layout": "IPY_MODEL_f6cf7f00bea445fd9467f645c6333a0f",
       "placeholder": "​",
       "style": "IPY_MODEL_a8996a61ebda449ca4bff5fab3660f1f",
       "value": " 456k/456k [00:00&lt;00:00, 37.9MB/s]"
      }
     },
     "01e9b17c4aae40c18873c81f14b0ef99": {
      "model_module": "@jupyter-widgets/base",
      "model_module_version": "1.2.0",
      "model_name": "LayoutModel",
      "state": {
       "_model_module": "@jupyter-widgets/base",
       "_model_module_version": "1.2.0",
       "_model_name": "LayoutModel",
       "_view_count": null,
       "_view_module": "@jupyter-widgets/base",
       "_view_module_version": "1.2.0",
       "_view_name": "LayoutView",
       "align_content": null,
       "align_items": null,
       "align_self": null,
       "border": null,
       "bottom": null,
       "display": null,
       "flex": null,
       "flex_flow": null,
       "grid_area": null,
       "grid_auto_columns": null,
       "grid_auto_flow": null,
       "grid_auto_rows": null,
       "grid_column": null,
       "grid_gap": null,
       "grid_row": null,
       "grid_template_areas": null,
       "grid_template_columns": null,
       "grid_template_rows": null,
       "height": null,
       "justify_content": null,
       "justify_items": null,
       "left": null,
       "margin": null,
       "max_height": null,
       "max_width": null,
       "min_height": null,
       "min_width": null,
       "object_fit": null,
       "object_position": null,
       "order": null,
       "overflow": null,
       "overflow_x": null,
       "overflow_y": null,
       "padding": null,
       "right": null,
       "top": null,
       "visibility": null,
       "width": null
      }
     },
     "0c88e9d18eee460cb924f71f027636ce": {
      "model_module": "@jupyter-widgets/controls",
      "model_module_version": "1.5.0",
      "model_name": "HTMLModel",
      "state": {
       "_dom_classes": [],
       "_model_module": "@jupyter-widgets/controls",
       "_model_module_version": "1.5.0",
       "_model_name": "HTMLModel",
       "_view_count": null,
       "_view_module": "@jupyter-widgets/controls",
       "_view_module_version": "1.5.0",
       "_view_name": "HTMLView",
       "description": "",
       "description_tooltip": null,
       "layout": "IPY_MODEL_1284ee0232a24b2ba8751e900b1d1873",
       "placeholder": "​",
       "style": "IPY_MODEL_4b9bced8f85340a591b68d22ce1670be",
       "value": " 1.83k/1.83k [00:00&lt;00:00, 180kB/s]"
      }
     },
     "102b9e014b464fa4994dc48496cfd37d": {
      "model_module": "@jupyter-widgets/base",
      "model_module_version": "1.2.0",
      "model_name": "LayoutModel",
      "state": {
       "_model_module": "@jupyter-widgets/base",
       "_model_module_version": "1.2.0",
       "_model_name": "LayoutModel",
       "_view_count": null,
       "_view_module": "@jupyter-widgets/base",
       "_view_module_version": "1.2.0",
       "_view_name": "LayoutView",
       "align_content": null,
       "align_items": null,
       "align_self": null,
       "border": null,
       "bottom": null,
       "display": null,
       "flex": null,
       "flex_flow": null,
       "grid_area": null,
       "grid_auto_columns": null,
       "grid_auto_flow": null,
       "grid_auto_rows": null,
       "grid_column": null,
       "grid_gap": null,
       "grid_row": null,
       "grid_template_areas": null,
       "grid_template_columns": null,
       "grid_template_rows": null,
       "height": null,
       "justify_content": null,
       "justify_items": null,
       "left": null,
       "margin": null,
       "max_height": null,
       "max_width": null,
       "min_height": null,
       "min_width": null,
       "object_fit": null,
       "object_position": null,
       "order": null,
       "overflow": null,
       "overflow_x": null,
       "overflow_y": null,
       "padding": null,
       "right": null,
       "top": null,
       "visibility": null,
       "width": null
      }
     },
     "107752ff8a1d4d4bb64230fe3989e0e2": {
      "model_module": "@jupyter-widgets/base",
      "model_module_version": "1.2.0",
      "model_name": "LayoutModel",
      "state": {
       "_model_module": "@jupyter-widgets/base",
       "_model_module_version": "1.2.0",
       "_model_name": "LayoutModel",
       "_view_count": null,
       "_view_module": "@jupyter-widgets/base",
       "_view_module_version": "1.2.0",
       "_view_name": "LayoutView",
       "align_content": null,
       "align_items": null,
       "align_self": null,
       "border": null,
       "bottom": null,
       "display": null,
       "flex": null,
       "flex_flow": null,
       "grid_area": null,
       "grid_auto_columns": null,
       "grid_auto_flow": null,
       "grid_auto_rows": null,
       "grid_column": null,
       "grid_gap": null,
       "grid_row": null,
       "grid_template_areas": null,
       "grid_template_columns": null,
       "grid_template_rows": null,
       "height": null,
       "justify_content": null,
       "justify_items": null,
       "left": null,
       "margin": null,
       "max_height": null,
       "max_width": null,
       "min_height": null,
       "min_width": null,
       "object_fit": null,
       "object_position": null,
       "order": null,
       "overflow": null,
       "overflow_x": null,
       "overflow_y": null,
       "padding": null,
       "right": null,
       "top": null,
       "visibility": null,
       "width": null
      }
     },
     "11c8d5f223e049758ac537446a32d6ba": {
      "model_module": "@jupyter-widgets/controls",
      "model_module_version": "1.5.0",
      "model_name": "HBoxModel",
      "state": {
       "_dom_classes": [],
       "_model_module": "@jupyter-widgets/controls",
       "_model_module_version": "1.5.0",
       "_model_name": "HBoxModel",
       "_view_count": null,
       "_view_module": "@jupyter-widgets/controls",
       "_view_module_version": "1.5.0",
       "_view_name": "HBoxView",
       "box_style": "",
       "children": [
        "IPY_MODEL_d0b9d421f5284b9cbf978581ef032ed0",
        "IPY_MODEL_9b51fe695281476b8d573294ebcf601a",
        "IPY_MODEL_afb95983764d40dd8666f38918c30430"
       ],
       "layout": "IPY_MODEL_fe05b28e66034fdbac12c15249d12491"
      }
     },
     "1284ee0232a24b2ba8751e900b1d1873": {
      "model_module": "@jupyter-widgets/base",
      "model_module_version": "1.2.0",
      "model_name": "LayoutModel",
      "state": {
       "_model_module": "@jupyter-widgets/base",
       "_model_module_version": "1.2.0",
       "_model_name": "LayoutModel",
       "_view_count": null,
       "_view_module": "@jupyter-widgets/base",
       "_view_module_version": "1.2.0",
       "_view_name": "LayoutView",
       "align_content": null,
       "align_items": null,
       "align_self": null,
       "border": null,
       "bottom": null,
       "display": null,
       "flex": null,
       "flex_flow": null,
       "grid_area": null,
       "grid_auto_columns": null,
       "grid_auto_flow": null,
       "grid_auto_rows": null,
       "grid_column": null,
       "grid_gap": null,
       "grid_row": null,
       "grid_template_areas": null,
       "grid_template_columns": null,
       "grid_template_rows": null,
       "height": null,
       "justify_content": null,
       "justify_items": null,
       "left": null,
       "margin": null,
       "max_height": null,
       "max_width": null,
       "min_height": null,
       "min_width": null,
       "object_fit": null,
       "object_position": null,
       "order": null,
       "overflow": null,
       "overflow_x": null,
       "overflow_y": null,
       "padding": null,
       "right": null,
       "top": null,
       "visibility": null,
       "width": null
      }
     },
     "12bd001c0df24a35bab4f0ce5c0cc0b0": {
      "model_module": "@jupyter-widgets/controls",
      "model_module_version": "1.5.0",
      "model_name": "DescriptionStyleModel",
      "state": {
       "_model_module": "@jupyter-widgets/controls",
       "_model_module_version": "1.5.0",
       "_model_name": "DescriptionStyleModel",
       "_view_count": null,
       "_view_module": "@jupyter-widgets/base",
       "_view_module_version": "1.2.0",
       "_view_name": "StyleView",
       "description_width": ""
      }
     },
     "172b83d8edc943b3a27b45711408e588": {
      "model_module": "@jupyter-widgets/controls",
      "model_module_version": "1.5.0",
      "model_name": "HBoxModel",
      "state": {
       "_dom_classes": [],
       "_model_module": "@jupyter-widgets/controls",
       "_model_module_version": "1.5.0",
       "_model_name": "HBoxModel",
       "_view_count": null,
       "_view_module": "@jupyter-widgets/controls",
       "_view_module_version": "1.5.0",
       "_view_name": "HBoxView",
       "box_style": "",
       "children": [
        "IPY_MODEL_398635efed254bccb905e86046eecaa7",
        "IPY_MODEL_f4538ae3ce4e448e8254adde3720d674",
        "IPY_MODEL_71dcb1dd3a464abfafe2a4f0ccb51f49"
       ],
       "layout": "IPY_MODEL_c3cbc6ee4a574af088e259bcd935b8d2"
      }
     },
     "1b1510f4421e436881fb62a81f7a9167": {
      "model_module": "@jupyter-widgets/controls",
      "model_module_version": "1.5.0",
      "model_name": "HTMLModel",
      "state": {
       "_dom_classes": [],
       "_model_module": "@jupyter-widgets/controls",
       "_model_module_version": "1.5.0",
       "_model_name": "HTMLModel",
       "_view_count": null,
       "_view_module": "@jupyter-widgets/controls",
       "_view_module_version": "1.5.0",
       "_view_name": "HTMLView",
       "description": "",
       "description_tooltip": null,
       "layout": "IPY_MODEL_e33fc4ea7c234e878cba4714be617a38",
       "placeholder": "​",
       "style": "IPY_MODEL_64e7b31c3cce432c80eed2256f9dbdcd",
       "value": "model.safetensors: 100%"
      }
     },
     "1d5874c4b80240fb96d0028eebbbe500": {
      "model_module": "@jupyter-widgets/base",
      "model_module_version": "1.2.0",
      "model_name": "LayoutModel",
      "state": {
       "_model_module": "@jupyter-widgets/base",
       "_model_module_version": "1.2.0",
       "_model_name": "LayoutModel",
       "_view_count": null,
       "_view_module": "@jupyter-widgets/base",
       "_view_module_version": "1.2.0",
       "_view_name": "LayoutView",
       "align_content": null,
       "align_items": null,
       "align_self": null,
       "border": null,
       "bottom": null,
       "display": null,
       "flex": null,
       "flex_flow": null,
       "grid_area": null,
       "grid_auto_columns": null,
       "grid_auto_flow": null,
       "grid_auto_rows": null,
       "grid_column": null,
       "grid_gap": null,
       "grid_row": null,
       "grid_template_areas": null,
       "grid_template_columns": null,
       "grid_template_rows": null,
       "height": null,
       "justify_content": null,
       "justify_items": null,
       "left": null,
       "margin": null,
       "max_height": null,
       "max_width": null,
       "min_height": null,
       "min_width": null,
       "object_fit": null,
       "object_position": null,
       "order": null,
       "overflow": null,
       "overflow_x": null,
       "overflow_y": null,
       "padding": null,
       "right": null,
       "top": null,
       "visibility": null,
       "width": null
      }
     },
     "1d78b17449d14e3695e1c704a7bf2d54": {
      "model_module": "@jupyter-widgets/controls",
      "model_module_version": "1.5.0",
      "model_name": "ProgressStyleModel",
      "state": {
       "_model_module": "@jupyter-widgets/controls",
       "_model_module_version": "1.5.0",
       "_model_name": "ProgressStyleModel",
       "_view_count": null,
       "_view_module": "@jupyter-widgets/base",
       "_view_module_version": "1.2.0",
       "_view_name": "StyleView",
       "bar_color": null,
       "description_width": ""
      }
     },
     "1e02306135de4bb4ba16596765c95e04": {
      "model_module": "@jupyter-widgets/controls",
      "model_module_version": "1.5.0",
      "model_name": "DescriptionStyleModel",
      "state": {
       "_model_module": "@jupyter-widgets/controls",
       "_model_module_version": "1.5.0",
       "_model_name": "DescriptionStyleModel",
       "_view_count": null,
       "_view_module": "@jupyter-widgets/base",
       "_view_module_version": "1.2.0",
       "_view_name": "StyleView",
       "description_width": ""
      }
     },
     "1fea3d9887d945bda7cd21f19c272afe": {
      "model_module": "@jupyter-widgets/controls",
      "model_module_version": "1.5.0",
      "model_name": "HBoxModel",
      "state": {
       "_dom_classes": [],
       "_model_module": "@jupyter-widgets/controls",
       "_model_module_version": "1.5.0",
       "_model_name": "HBoxModel",
       "_view_count": null,
       "_view_module": "@jupyter-widgets/controls",
       "_view_module_version": "1.5.0",
       "_view_name": "HBoxView",
       "box_style": "",
       "children": [
        "IPY_MODEL_8c27da6653924ebdb672ca8d679aedc9",
        "IPY_MODEL_9dfe0c57a55e4a4c91164645f21f08d7",
        "IPY_MODEL_0c88e9d18eee460cb924f71f027636ce"
       ],
       "layout": "IPY_MODEL_4c751aa7fe9e4eda96ed21644989255f"
      }
     },
     "219edd4e9e5544fabdc821a9493fcd86": {
      "model_module": "@jupyter-widgets/base",
      "model_module_version": "1.2.0",
      "model_name": "LayoutModel",
      "state": {
       "_model_module": "@jupyter-widgets/base",
       "_model_module_version": "1.2.0",
       "_model_name": "LayoutModel",
       "_view_count": null,
       "_view_module": "@jupyter-widgets/base",
       "_view_module_version": "1.2.0",
       "_view_name": "LayoutView",
       "align_content": null,
       "align_items": null,
       "align_self": null,
       "border": null,
       "bottom": null,
       "display": null,
       "flex": null,
       "flex_flow": null,
       "grid_area": null,
       "grid_auto_columns": null,
       "grid_auto_flow": null,
       "grid_auto_rows": null,
       "grid_column": null,
       "grid_gap": null,
       "grid_row": null,
       "grid_template_areas": null,
       "grid_template_columns": null,
       "grid_template_rows": null,
       "height": null,
       "justify_content": null,
       "justify_items": null,
       "left": null,
       "margin": null,
       "max_height": null,
       "max_width": null,
       "min_height": null,
       "min_width": null,
       "object_fit": null,
       "object_position": null,
       "order": null,
       "overflow": null,
       "overflow_x": null,
       "overflow_y": null,
       "padding": null,
       "right": null,
       "top": null,
       "visibility": null,
       "width": null
      }
     },
     "23350b9b7aa64c2c854788f8fae10cfa": {
      "model_module": "@jupyter-widgets/base",
      "model_module_version": "1.2.0",
      "model_name": "LayoutModel",
      "state": {
       "_model_module": "@jupyter-widgets/base",
       "_model_module_version": "1.2.0",
       "_model_name": "LayoutModel",
       "_view_count": null,
       "_view_module": "@jupyter-widgets/base",
       "_view_module_version": "1.2.0",
       "_view_name": "LayoutView",
       "align_content": null,
       "align_items": null,
       "align_self": null,
       "border": null,
       "bottom": null,
       "display": null,
       "flex": null,
       "flex_flow": null,
       "grid_area": null,
       "grid_auto_columns": null,
       "grid_auto_flow": null,
       "grid_auto_rows": null,
       "grid_column": null,
       "grid_gap": null,
       "grid_row": null,
       "grid_template_areas": null,
       "grid_template_columns": null,
       "grid_template_rows": null,
       "height": null,
       "justify_content": null,
       "justify_items": null,
       "left": null,
       "margin": null,
       "max_height": null,
       "max_width": null,
       "min_height": null,
       "min_width": null,
       "object_fit": null,
       "object_position": null,
       "order": null,
       "overflow": null,
       "overflow_x": null,
       "overflow_y": null,
       "padding": null,
       "right": null,
       "top": null,
       "visibility": null,
       "width": null
      }
     },
     "241e087e0c06412cab995e8f26d24a33": {
      "model_module": "@jupyter-widgets/controls",
      "model_module_version": "1.5.0",
      "model_name": "DescriptionStyleModel",
      "state": {
       "_model_module": "@jupyter-widgets/controls",
       "_model_module_version": "1.5.0",
       "_model_name": "DescriptionStyleModel",
       "_view_count": null,
       "_view_module": "@jupyter-widgets/base",
       "_view_module_version": "1.2.0",
       "_view_name": "StyleView",
       "description_width": ""
      }
     },
     "25f10721888b497f8153cf2eb9123361": {
      "model_module": "@jupyter-widgets/controls",
      "model_module_version": "1.5.0",
      "model_name": "HTMLModel",
      "state": {
       "_dom_classes": [],
       "_model_module": "@jupyter-widgets/controls",
       "_model_module_version": "1.5.0",
       "_model_name": "HTMLModel",
       "_view_count": null,
       "_view_module": "@jupyter-widgets/controls",
       "_view_module_version": "1.5.0",
       "_view_name": "HTMLView",
       "description": "",
       "description_tooltip": null,
       "layout": "IPY_MODEL_bec1f2d957be462aaa21fb86248c63e5",
       "placeholder": "​",
       "style": "IPY_MODEL_b66db80023184b749148b7c35840403b",
       "value": " 34.6k/34.6k [00:00&lt;00:00, 3.38MB/s]"
      }
     },
     "28044a5cff8d443897febf3a6296d129": {
      "model_module": "@jupyter-widgets/controls",
      "model_module_version": "1.5.0",
      "model_name": "DescriptionStyleModel",
      "state": {
       "_model_module": "@jupyter-widgets/controls",
       "_model_module_version": "1.5.0",
       "_model_name": "DescriptionStyleModel",
       "_view_count": null,
       "_view_module": "@jupyter-widgets/base",
       "_view_module_version": "1.2.0",
       "_view_name": "StyleView",
       "description_width": ""
      }
     },
     "299c94d0db0447ef975beb0dbe460638": {
      "model_module": "@jupyter-widgets/controls",
      "model_module_version": "1.5.0",
      "model_name": "HTMLModel",
      "state": {
       "_dom_classes": [],
       "_model_module": "@jupyter-widgets/controls",
       "_model_module_version": "1.5.0",
       "_model_name": "HTMLModel",
       "_view_count": null,
       "_view_module": "@jupyter-widgets/controls",
       "_view_module_version": "1.5.0",
       "_view_name": "HTMLView",
       "description": "",
       "description_tooltip": null,
       "layout": "IPY_MODEL_4192645dc952473390aaf4d68acd04e2",
       "placeholder": "​",
       "style": "IPY_MODEL_d550319ab1ce441ebc0de9fe8370e2a0",
       "value": " 2.41M/2.41M [00:00&lt;00:00, 19.1MB/s]"
      }
     },
     "2b0c74938f384685bf8ffc0322e0ffa4": {
      "model_module": "@jupyter-widgets/controls",
      "model_module_version": "1.5.0",
      "model_name": "FloatProgressModel",
      "state": {
       "_dom_classes": [],
       "_model_module": "@jupyter-widgets/controls",
       "_model_module_version": "1.5.0",
       "_model_name": "FloatProgressModel",
       "_view_count": null,
       "_view_module": "@jupyter-widgets/controls",
       "_view_module_version": "1.5.0",
       "_view_name": "ProgressView",
       "bar_style": "success",
       "description": "",
       "description_tooltip": null,
       "layout": "IPY_MODEL_a7f2423b9c0e4c97b032fcaf3e2e2075",
       "max": 151060136.0,
       "min": 0.0,
       "orientation": "horizontal",
       "style": "IPY_MODEL_62822b13f0f94bb98230125f34d58ec0",
       "value": 151060136.0
      }
     },
     "2fc5e8d4995d4c06bffadb01dc4cfc6d": {
      "model_module": "@jupyter-widgets/base",
      "model_module_version": "1.2.0",
      "model_name": "LayoutModel",
      "state": {
       "_model_module": "@jupyter-widgets/base",
       "_model_module_version": "1.2.0",
       "_model_name": "LayoutModel",
       "_view_count": null,
       "_view_module": "@jupyter-widgets/base",
       "_view_module_version": "1.2.0",
       "_view_name": "LayoutView",
       "align_content": null,
       "align_items": null,
       "align_self": null,
       "border": null,
       "bottom": null,
       "display": null,
       "flex": null,
       "flex_flow": null,
       "grid_area": null,
       "grid_auto_columns": null,
       "grid_auto_flow": null,
       "grid_auto_rows": null,
       "grid_column": null,
       "grid_gap": null,
       "grid_row": null,
       "grid_template_areas": null,
       "grid_template_columns": null,
       "grid_template_rows": null,
       "height": null,
       "justify_content": null,
       "justify_items": null,
       "left": null,
       "margin": null,
       "max_height": null,
       "max_width": null,
       "min_height": null,
       "min_width": null,
       "object_fit": null,
       "object_position": null,
       "order": null,
       "overflow": null,
       "overflow_x": null,
       "overflow_y": null,
       "padding": null,
       "right": null,
       "top": null,
       "visibility": null,
       "width": null
      }
     },
     "31f3e6dc3152445da6feb00456cd6df0": {
      "model_module": "@jupyter-widgets/base",
      "model_module_version": "1.2.0",
      "model_name": "LayoutModel",
      "state": {
       "_model_module": "@jupyter-widgets/base",
       "_model_module_version": "1.2.0",
       "_model_name": "LayoutModel",
       "_view_count": null,
       "_view_module": "@jupyter-widgets/base",
       "_view_module_version": "1.2.0",
       "_view_name": "LayoutView",
       "align_content": null,
       "align_items": null,
       "align_self": null,
       "border": null,
       "bottom": null,
       "display": null,
       "flex": null,
       "flex_flow": null,
       "grid_area": null,
       "grid_auto_columns": null,
       "grid_auto_flow": null,
       "grid_auto_rows": null,
       "grid_column": null,
       "grid_gap": null,
       "grid_row": null,
       "grid_template_areas": null,
       "grid_template_columns": null,
       "grid_template_rows": null,
       "height": null,
       "justify_content": null,
       "justify_items": null,
       "left": null,
       "margin": null,
       "max_height": null,
       "max_width": null,
       "min_height": null,
       "min_width": null,
       "object_fit": null,
       "object_position": null,
       "order": null,
       "overflow": null,
       "overflow_x": null,
       "overflow_y": null,
       "padding": null,
       "right": null,
       "top": null,
       "visibility": null,
       "width": null
      }
     },
     "31f71015ef3544a0a79a44b97ed3e77c": {
      "model_module": "@jupyter-widgets/base",
      "model_module_version": "1.2.0",
      "model_name": "LayoutModel",
      "state": {
       "_model_module": "@jupyter-widgets/base",
       "_model_module_version": "1.2.0",
       "_model_name": "LayoutModel",
       "_view_count": null,
       "_view_module": "@jupyter-widgets/base",
       "_view_module_version": "1.2.0",
       "_view_name": "LayoutView",
       "align_content": null,
       "align_items": null,
       "align_self": null,
       "border": null,
       "bottom": null,
       "display": null,
       "flex": null,
       "flex_flow": null,
       "grid_area": null,
       "grid_auto_columns": null,
       "grid_auto_flow": null,
       "grid_auto_rows": null,
       "grid_column": null,
       "grid_gap": null,
       "grid_row": null,
       "grid_template_areas": null,
       "grid_template_columns": null,
       "grid_template_rows": null,
       "height": null,
       "justify_content": null,
       "justify_items": null,
       "left": null,
       "margin": null,
       "max_height": null,
       "max_width": null,
       "min_height": null,
       "min_width": null,
       "object_fit": null,
       "object_position": null,
       "order": null,
       "overflow": null,
       "overflow_x": null,
       "overflow_y": null,
       "padding": null,
       "right": null,
       "top": null,
       "visibility": null,
       "width": null
      }
     },
     "32930103ce43412cb57de07c906a8401": {
      "model_module": "@jupyter-widgets/base",
      "model_module_version": "1.2.0",
      "model_name": "LayoutModel",
      "state": {
       "_model_module": "@jupyter-widgets/base",
       "_model_module_version": "1.2.0",
       "_model_name": "LayoutModel",
       "_view_count": null,
       "_view_module": "@jupyter-widgets/base",
       "_view_module_version": "1.2.0",
       "_view_name": "LayoutView",
       "align_content": null,
       "align_items": null,
       "align_self": null,
       "border": null,
       "bottom": null,
       "display": null,
       "flex": null,
       "flex_flow": null,
       "grid_area": null,
       "grid_auto_columns": null,
       "grid_auto_flow": null,
       "grid_auto_rows": null,
       "grid_column": null,
       "grid_gap": null,
       "grid_row": null,
       "grid_template_areas": null,
       "grid_template_columns": null,
       "grid_template_rows": null,
       "height": null,
       "justify_content": null,
       "justify_items": null,
       "left": null,
       "margin": null,
       "max_height": null,
       "max_width": null,
       "min_height": null,
       "min_width": null,
       "object_fit": null,
       "object_position": null,
       "order": null,
       "overflow": null,
       "overflow_x": null,
       "overflow_y": null,
       "padding": null,
       "right": null,
       "top": null,
       "visibility": null,
       "width": null
      }
     },
     "337cd93f1dcf4035bb8e50cce8b02765": {
      "model_module": "@jupyter-widgets/controls",
      "model_module_version": "1.5.0",
      "model_name": "HTMLModel",
      "state": {
       "_dom_classes": [],
       "_model_module": "@jupyter-widgets/controls",
       "_model_module_version": "1.5.0",
       "_model_name": "HTMLModel",
       "_view_count": null,
       "_view_module": "@jupyter-widgets/controls",
       "_view_module_version": "1.5.0",
       "_view_name": "HTMLView",
       "description": "",
       "description_tooltip": null,
       "layout": "IPY_MODEL_107752ff8a1d4d4bb64230fe3989e0e2",
       "placeholder": "​",
       "style": "IPY_MODEL_52de4461c7bd47b291080e6d202680ab",
       "value": "tokenizer_config.json: 100%"
      }
     },
     "338e3ca33c4b41ae9979239bf42b2014": {
      "model_module": "@jupyter-widgets/controls",
      "model_module_version": "1.5.0",
      "model_name": "HBoxModel",
      "state": {
       "_dom_classes": [],
       "_model_module": "@jupyter-widgets/controls",
       "_model_module_version": "1.5.0",
       "_model_name": "HBoxModel",
       "_view_count": null,
       "_view_module": "@jupyter-widgets/controls",
       "_view_module_version": "1.5.0",
       "_view_name": "HBoxView",
       "box_style": "",
       "children": [
        "IPY_MODEL_cc91ce85697c41069b4dbb66f98ffad4",
        "IPY_MODEL_4f6d508736d94e4f83a5701dc897ebb8",
        "IPY_MODEL_69b1fef1ce814920a3d832ccec2eb6db"
       ],
       "layout": "IPY_MODEL_e2eedb1c0ee445f7967bfaec7831daf1"
      }
     },
     "33e8854b19b14b1187ce09a5b92e9bbc": {
      "model_module": "@jupyter-widgets/controls",
      "model_module_version": "1.5.0",
      "model_name": "ProgressStyleModel",
      "state": {
       "_model_module": "@jupyter-widgets/controls",
       "_model_module_version": "1.5.0",
       "_model_name": "ProgressStyleModel",
       "_view_count": null,
       "_view_module": "@jupyter-widgets/base",
       "_view_module_version": "1.2.0",
       "_view_name": "StyleView",
       "bar_color": null,
       "description_width": ""
      }
     },
     "351a4bc6ae1142c3874fa2f473666240": {
      "model_module": "@jupyter-widgets/controls",
      "model_module_version": "1.5.0",
      "model_name": "DescriptionStyleModel",
      "state": {
       "_model_module": "@jupyter-widgets/controls",
       "_model_module_version": "1.5.0",
       "_model_name": "DescriptionStyleModel",
       "_view_count": null,
       "_view_module": "@jupyter-widgets/base",
       "_view_module_version": "1.2.0",
       "_view_name": "StyleView",
       "description_width": ""
      }
     },
     "353f62f9e2324293b355d832512b2ec1": {
      "model_module": "@jupyter-widgets/controls",
      "model_module_version": "1.5.0",
      "model_name": "HBoxModel",
      "state": {
       "_dom_classes": [],
       "_model_module": "@jupyter-widgets/controls",
       "_model_module_version": "1.5.0",
       "_model_name": "HBoxModel",
       "_view_count": null,
       "_view_module": "@jupyter-widgets/controls",
       "_view_module_version": "1.5.0",
       "_view_name": "HBoxView",
       "box_style": "",
       "children": [
        "IPY_MODEL_cba836bfa88d462a80ea7f8ce3416cc0",
        "IPY_MODEL_981f72b4f4314c1086762845b4358608",
        "IPY_MODEL_00f980f9e77c4ea7905087174e3cb072"
       ],
       "layout": "IPY_MODEL_fbc4edf5653243799120c805781317fd"
      }
     },
     "36b24b09a53d452aa3d2f6fa6e549f07": {
      "model_module": "@jupyter-widgets/controls",
      "model_module_version": "1.5.0",
      "model_name": "DescriptionStyleModel",
      "state": {
       "_model_module": "@jupyter-widgets/controls",
       "_model_module_version": "1.5.0",
       "_model_name": "DescriptionStyleModel",
       "_view_count": null,
       "_view_module": "@jupyter-widgets/base",
       "_view_module_version": "1.2.0",
       "_view_name": "StyleView",
       "description_width": ""
      }
     },
     "370b97620e004cb98c08e7bf7cae40cd": {
      "model_module": "@jupyter-widgets/controls",
      "model_module_version": "1.5.0",
      "model_name": "DescriptionStyleModel",
      "state": {
       "_model_module": "@jupyter-widgets/controls",
       "_model_module_version": "1.5.0",
       "_model_name": "DescriptionStyleModel",
       "_view_count": null,
       "_view_module": "@jupyter-widgets/base",
       "_view_module_version": "1.2.0",
       "_view_name": "StyleView",
       "description_width": ""
      }
     },
     "396c64d0231541b698e1f31ebf2cb3e2": {
      "model_module": "@jupyter-widgets/base",
      "model_module_version": "1.2.0",
      "model_name": "LayoutModel",
      "state": {
       "_model_module": "@jupyter-widgets/base",
       "_model_module_version": "1.2.0",
       "_model_name": "LayoutModel",
       "_view_count": null,
       "_view_module": "@jupyter-widgets/base",
       "_view_module_version": "1.2.0",
       "_view_name": "LayoutView",
       "align_content": null,
       "align_items": null,
       "align_self": null,
       "border": null,
       "bottom": null,
       "display": null,
       "flex": null,
       "flex_flow": null,
       "grid_area": null,
       "grid_auto_columns": null,
       "grid_auto_flow": null,
       "grid_auto_rows": null,
       "grid_column": null,
       "grid_gap": null,
       "grid_row": null,
       "grid_template_areas": null,
       "grid_template_columns": null,
       "grid_template_rows": null,
       "height": null,
       "justify_content": null,
       "justify_items": null,
       "left": null,
       "margin": null,
       "max_height": null,
       "max_width": null,
       "min_height": null,
       "min_width": null,
       "object_fit": null,
       "object_position": null,
       "order": null,
       "overflow": null,
       "overflow_x": null,
       "overflow_y": null,
       "padding": null,
       "right": null,
       "top": null,
       "visibility": null,
       "width": null
      }
     },
     "398635efed254bccb905e86046eecaa7": {
      "model_module": "@jupyter-widgets/controls",
      "model_module_version": "1.5.0",
      "model_name": "HTMLModel",
      "state": {
       "_dom_classes": [],
       "_model_module": "@jupyter-widgets/controls",
       "_model_module_version": "1.5.0",
       "_model_name": "HTMLModel",
       "_view_count": null,
       "_view_module": "@jupyter-widgets/controls",
       "_view_module_version": "1.5.0",
       "_view_name": "HTMLView",
       "description": "",
       "description_tooltip": null,
       "layout": "IPY_MODEL_89c9bc2c45fb4be7b2389b4185ad2956",
       "placeholder": "​",
       "style": "IPY_MODEL_3f2e1262db7f4434987c8a36683d6fa2",
       "value": "normalizer.json: 100%"
      }
     },
     "3e7b6324050a491e937e69eb4c61612b": {
      "model_module": "@jupyter-widgets/controls",
      "model_module_version": "1.5.0",
      "model_name": "DescriptionStyleModel",
      "state": {
       "_model_module": "@jupyter-widgets/controls",
       "_model_module_version": "1.5.0",
       "_model_name": "DescriptionStyleModel",
       "_view_count": null,
       "_view_module": "@jupyter-widgets/base",
       "_view_module_version": "1.2.0",
       "_view_name": "StyleView",
       "description_width": ""
      }
     },
     "3f2e1262db7f4434987c8a36683d6fa2": {
      "model_module": "@jupyter-widgets/controls",
      "model_module_version": "1.5.0",
      "model_name": "DescriptionStyleModel",
      "state": {
       "_model_module": "@jupyter-widgets/controls",
       "_model_module_version": "1.5.0",
       "_model_name": "DescriptionStyleModel",
       "_view_count": null,
       "_view_module": "@jupyter-widgets/base",
       "_view_module_version": "1.2.0",
       "_view_name": "StyleView",
       "description_width": ""
      }
     },
     "4192645dc952473390aaf4d68acd04e2": {
      "model_module": "@jupyter-widgets/base",
      "model_module_version": "1.2.0",
      "model_name": "LayoutModel",
      "state": {
       "_model_module": "@jupyter-widgets/base",
       "_model_module_version": "1.2.0",
       "_model_name": "LayoutModel",
       "_view_count": null,
       "_view_module": "@jupyter-widgets/base",
       "_view_module_version": "1.2.0",
       "_view_name": "LayoutView",
       "align_content": null,
       "align_items": null,
       "align_self": null,
       "border": null,
       "bottom": null,
       "display": null,
       "flex": null,
       "flex_flow": null,
       "grid_area": null,
       "grid_auto_columns": null,
       "grid_auto_flow": null,
       "grid_auto_rows": null,
       "grid_column": null,
       "grid_gap": null,
       "grid_row": null,
       "grid_template_areas": null,
       "grid_template_columns": null,
       "grid_template_rows": null,
       "height": null,
       "justify_content": null,
       "justify_items": null,
       "left": null,
       "margin": null,
       "max_height": null,
       "max_width": null,
       "min_height": null,
       "min_width": null,
       "object_fit": null,
       "object_position": null,
       "order": null,
       "overflow": null,
       "overflow_x": null,
       "overflow_y": null,
       "padding": null,
       "right": null,
       "top": null,
       "visibility": null,
       "width": null
      }
     },
     "42247090bcb340489898fc76de5c07a7": {
      "model_module": "@jupyter-widgets/base",
      "model_module_version": "1.2.0",
      "model_name": "LayoutModel",
      "state": {
       "_model_module": "@jupyter-widgets/base",
       "_model_module_version": "1.2.0",
       "_model_name": "LayoutModel",
       "_view_count": null,
       "_view_module": "@jupyter-widgets/base",
       "_view_module_version": "1.2.0",
       "_view_name": "LayoutView",
       "align_content": null,
       "align_items": null,
       "align_self": null,
       "border": null,
       "bottom": null,
       "display": null,
       "flex": null,
       "flex_flow": null,
       "grid_area": null,
       "grid_auto_columns": null,
       "grid_auto_flow": null,
       "grid_auto_rows": null,
       "grid_column": null,
       "grid_gap": null,
       "grid_row": null,
       "grid_template_areas": null,
       "grid_template_columns": null,
       "grid_template_rows": null,
       "height": null,
       "justify_content": null,
       "justify_items": null,
       "left": null,
       "margin": null,
       "max_height": null,
       "max_width": null,
       "min_height": null,
       "min_width": null,
       "object_fit": null,
       "object_position": null,
       "order": null,
       "overflow": null,
       "overflow_x": null,
       "overflow_y": null,
       "padding": null,
       "right": null,
       "top": null,
       "visibility": null,
       "width": null
      }
     },
     "45deaae241b74a39b0e9bce7b1749de2": {
      "model_module": "@jupyter-widgets/controls",
      "model_module_version": "1.5.0",
      "model_name": "ProgressStyleModel",
      "state": {
       "_model_module": "@jupyter-widgets/controls",
       "_model_module_version": "1.5.0",
       "_model_name": "ProgressStyleModel",
       "_view_count": null,
       "_view_module": "@jupyter-widgets/base",
       "_view_module_version": "1.2.0",
       "_view_name": "StyleView",
       "bar_color": null,
       "description_width": ""
      }
     },
     "4814e32e0a804d01b82e0d85b6b11ce4": {
      "model_module": "@jupyter-widgets/controls",
      "model_module_version": "1.5.0",
      "model_name": "DescriptionStyleModel",
      "state": {
       "_model_module": "@jupyter-widgets/controls",
       "_model_module_version": "1.5.0",
       "_model_name": "DescriptionStyleModel",
       "_view_count": null,
       "_view_module": "@jupyter-widgets/base",
       "_view_module_version": "1.2.0",
       "_view_name": "StyleView",
       "description_width": ""
      }
     },
     "48b881c69c08496e9db1d88ffe6c90c0": {
      "model_module": "@jupyter-widgets/controls",
      "model_module_version": "1.5.0",
      "model_name": "HTMLModel",
      "state": {
       "_dom_classes": [],
       "_model_module": "@jupyter-widgets/controls",
       "_model_module_version": "1.5.0",
       "_model_name": "HTMLModel",
       "_view_count": null,
       "_view_module": "@jupyter-widgets/controls",
       "_view_module_version": "1.5.0",
       "_view_name": "HTMLView",
       "description": "",
       "description_tooltip": null,
       "layout": "IPY_MODEL_1d5874c4b80240fb96d0028eebbbe500",
       "placeholder": "​",
       "style": "IPY_MODEL_49ef5ba14bd44b4e8c1462053018195f",
       "value": " 1.62k/1.62k [00:00&lt;00:00, 164kB/s]"
      }
     },
     "494859c95fc1448c9e41b3ccfb61b491": {
      "model_module": "@jupyter-widgets/controls",
      "model_module_version": "1.5.0",
      "model_name": "HTMLModel",
      "state": {
       "_dom_classes": [],
       "_model_module": "@jupyter-widgets/controls",
       "_model_module_version": "1.5.0",
       "_model_name": "HTMLModel",
       "_view_count": null,
       "_view_module": "@jupyter-widgets/controls",
       "_view_module_version": "1.5.0",
       "_view_name": "HTMLView",
       "description": "",
       "description_tooltip": null,
       "layout": "IPY_MODEL_c1f962e6449b4436acf99cc1d0b6514c",
       "placeholder": "​",
       "style": "IPY_MODEL_351a4bc6ae1142c3874fa2f473666240",
       "value": " 798k/798k [00:00&lt;00:00, 11.1MB/s]"
      }
     },
     "497be3b2cad547dcaa9ddf307f79a847": {
      "model_module": "@jupyter-widgets/base",
      "model_module_version": "1.2.0",
      "model_name": "LayoutModel",
      "state": {
       "_model_module": "@jupyter-widgets/base",
       "_model_module_version": "1.2.0",
       "_model_name": "LayoutModel",
       "_view_count": null,
       "_view_module": "@jupyter-widgets/base",
       "_view_module_version": "1.2.0",
       "_view_name": "LayoutView",
       "align_content": null,
       "align_items": null,
       "align_self": null,
       "border": null,
       "bottom": null,
       "display": null,
       "flex": null,
       "flex_flow": null,
       "grid_area": null,
       "grid_auto_columns": null,
       "grid_auto_flow": null,
       "grid_auto_rows": null,
       "grid_column": null,
       "grid_gap": null,
       "grid_row": null,
       "grid_template_areas": null,
       "grid_template_columns": null,
       "grid_template_rows": null,
       "height": null,
       "justify_content": null,
       "justify_items": null,
       "left": null,
       "margin": null,
       "max_height": null,
       "max_width": null,
       "min_height": null,
       "min_width": null,
       "object_fit": null,
       "object_position": null,
       "order": null,
       "overflow": null,
       "overflow_x": null,
       "overflow_y": null,
       "padding": null,
       "right": null,
       "top": null,
       "visibility": null,
       "width": null
      }
     },
     "49ef5ba14bd44b4e8c1462053018195f": {
      "model_module": "@jupyter-widgets/controls",
      "model_module_version": "1.5.0",
      "model_name": "DescriptionStyleModel",
      "state": {
       "_model_module": "@jupyter-widgets/controls",
       "_model_module_version": "1.5.0",
       "_model_name": "DescriptionStyleModel",
       "_view_count": null,
       "_view_module": "@jupyter-widgets/base",
       "_view_module_version": "1.2.0",
       "_view_name": "StyleView",
       "description_width": ""
      }
     },
     "4a7b08d78f344d7a942f742f2f8520cd": {
      "model_module": "@jupyter-widgets/base",
      "model_module_version": "1.2.0",
      "model_name": "LayoutModel",
      "state": {
       "_model_module": "@jupyter-widgets/base",
       "_model_module_version": "1.2.0",
       "_model_name": "LayoutModel",
       "_view_count": null,
       "_view_module": "@jupyter-widgets/base",
       "_view_module_version": "1.2.0",
       "_view_name": "LayoutView",
       "align_content": null,
       "align_items": null,
       "align_self": null,
       "border": null,
       "bottom": null,
       "display": null,
       "flex": null,
       "flex_flow": null,
       "grid_area": null,
       "grid_auto_columns": null,
       "grid_auto_flow": null,
       "grid_auto_rows": null,
       "grid_column": null,
       "grid_gap": null,
       "grid_row": null,
       "grid_template_areas": null,
       "grid_template_columns": null,
       "grid_template_rows": null,
       "height": null,
       "justify_content": null,
       "justify_items": null,
       "left": null,
       "margin": null,
       "max_height": null,
       "max_width": null,
       "min_height": null,
       "min_width": null,
       "object_fit": null,
       "object_position": null,
       "order": null,
       "overflow": null,
       "overflow_x": null,
       "overflow_y": null,
       "padding": null,
       "right": null,
       "top": null,
       "visibility": null,
       "width": null
      }
     },
     "4ae072288647430ba8a6e9fd2ffcd0b7": {
      "model_module": "@jupyter-widgets/controls",
      "model_module_version": "1.5.0",
      "model_name": "ProgressStyleModel",
      "state": {
       "_model_module": "@jupyter-widgets/controls",
       "_model_module_version": "1.5.0",
       "_model_name": "ProgressStyleModel",
       "_view_count": null,
       "_view_module": "@jupyter-widgets/base",
       "_view_module_version": "1.2.0",
       "_view_name": "StyleView",
       "bar_color": null,
       "description_width": ""
      }
     },
     "4af05e2453de4b389705427c3a63f747": {
      "model_module": "@jupyter-widgets/controls",
      "model_module_version": "1.5.0",
      "model_name": "ProgressStyleModel",
      "state": {
       "_model_module": "@jupyter-widgets/controls",
       "_model_module_version": "1.5.0",
       "_model_name": "ProgressStyleModel",
       "_view_count": null,
       "_view_module": "@jupyter-widgets/base",
       "_view_module_version": "1.2.0",
       "_view_name": "StyleView",
       "bar_color": null,
       "description_width": ""
      }
     },
     "4b9bced8f85340a591b68d22ce1670be": {
      "model_module": "@jupyter-widgets/controls",
      "model_module_version": "1.5.0",
      "model_name": "DescriptionStyleModel",
      "state": {
       "_model_module": "@jupyter-widgets/controls",
       "_model_module_version": "1.5.0",
       "_model_name": "DescriptionStyleModel",
       "_view_count": null,
       "_view_module": "@jupyter-widgets/base",
       "_view_module_version": "1.2.0",
       "_view_name": "StyleView",
       "description_width": ""
      }
     },
     "4c751aa7fe9e4eda96ed21644989255f": {
      "model_module": "@jupyter-widgets/base",
      "model_module_version": "1.2.0",
      "model_name": "LayoutModel",
      "state": {
       "_model_module": "@jupyter-widgets/base",
       "_model_module_version": "1.2.0",
       "_model_name": "LayoutModel",
       "_view_count": null,
       "_view_module": "@jupyter-widgets/base",
       "_view_module_version": "1.2.0",
       "_view_name": "LayoutView",
       "align_content": null,
       "align_items": null,
       "align_self": null,
       "border": null,
       "bottom": null,
       "display": null,
       "flex": null,
       "flex_flow": null,
       "grid_area": null,
       "grid_auto_columns": null,
       "grid_auto_flow": null,
       "grid_auto_rows": null,
       "grid_column": null,
       "grid_gap": null,
       "grid_row": null,
       "grid_template_areas": null,
       "grid_template_columns": null,
       "grid_template_rows": null,
       "height": null,
       "justify_content": null,
       "justify_items": null,
       "left": null,
       "margin": null,
       "max_height": null,
       "max_width": null,
       "min_height": null,
       "min_width": null,
       "object_fit": null,
       "object_position": null,
       "order": null,
       "overflow": null,
       "overflow_x": null,
       "overflow_y": null,
       "padding": null,
       "right": null,
       "top": null,
       "visibility": null,
       "width": null
      }
     },
     "4e436e8321e54848a50ceade0209de63": {
      "model_module": "@jupyter-widgets/base",
      "model_module_version": "1.2.0",
      "model_name": "LayoutModel",
      "state": {
       "_model_module": "@jupyter-widgets/base",
       "_model_module_version": "1.2.0",
       "_model_name": "LayoutModel",
       "_view_count": null,
       "_view_module": "@jupyter-widgets/base",
       "_view_module_version": "1.2.0",
       "_view_name": "LayoutView",
       "align_content": null,
       "align_items": null,
       "align_self": null,
       "border": null,
       "bottom": null,
       "display": null,
       "flex": null,
       "flex_flow": null,
       "grid_area": null,
       "grid_auto_columns": null,
       "grid_auto_flow": null,
       "grid_auto_rows": null,
       "grid_column": null,
       "grid_gap": null,
       "grid_row": null,
       "grid_template_areas": null,
       "grid_template_columns": null,
       "grid_template_rows": null,
       "height": null,
       "justify_content": null,
       "justify_items": null,
       "left": null,
       "margin": null,
       "max_height": null,
       "max_width": null,
       "min_height": null,
       "min_width": null,
       "object_fit": null,
       "object_position": null,
       "order": null,
       "overflow": null,
       "overflow_x": null,
       "overflow_y": null,
       "padding": null,
       "right": null,
       "top": null,
       "visibility": null,
       "width": null
      }
     },
     "4f6d508736d94e4f83a5701dc897ebb8": {
      "model_module": "@jupyter-widgets/controls",
      "model_module_version": "1.5.0",
      "model_name": "FloatProgressModel",
      "state": {
       "_dom_classes": [],
       "_model_module": "@jupyter-widgets/controls",
       "_model_module_version": "1.5.0",
       "_model_name": "FloatProgressModel",
       "_view_count": null,
       "_view_module": "@jupyter-widgets/controls",
       "_view_module_version": "1.5.0",
       "_view_name": "ProgressView",
       "bar_style": "success",
       "description": "",
       "description_tooltip": null,
       "layout": "IPY_MODEL_5b669f7dda9a4f5a917fa59be43bc854",
       "max": 184990.0,
       "min": 0.0,
       "orientation": "horizontal",
       "style": "IPY_MODEL_33e8854b19b14b1187ce09a5b92e9bbc",
       "value": 184990.0
      }
     },
     "511af9a7fa6f43a7a0b392cc62ae2903": {
      "model_module": "@jupyter-widgets/base",
      "model_module_version": "1.2.0",
      "model_name": "LayoutModel",
      "state": {
       "_model_module": "@jupyter-widgets/base",
       "_model_module_version": "1.2.0",
       "_model_name": "LayoutModel",
       "_view_count": null,
       "_view_module": "@jupyter-widgets/base",
       "_view_module_version": "1.2.0",
       "_view_name": "LayoutView",
       "align_content": null,
       "align_items": null,
       "align_self": null,
       "border": null,
       "bottom": null,
       "display": null,
       "flex": null,
       "flex_flow": null,
       "grid_area": null,
       "grid_auto_columns": null,
       "grid_auto_flow": null,
       "grid_auto_rows": null,
       "grid_column": null,
       "grid_gap": null,
       "grid_row": null,
       "grid_template_areas": null,
       "grid_template_columns": null,
       "grid_template_rows": null,
       "height": null,
       "justify_content": null,
       "justify_items": null,
       "left": null,
       "margin": null,
       "max_height": null,
       "max_width": null,
       "min_height": null,
       "min_width": null,
       "object_fit": null,
       "object_position": null,
       "order": null,
       "overflow": null,
       "overflow_x": null,
       "overflow_y": null,
       "padding": null,
       "right": null,
       "top": null,
       "visibility": null,
       "width": null
      }
     },
     "51c70a20a9d84fd7af3f93b1030207a2": {
      "model_module": "@jupyter-widgets/controls",
      "model_module_version": "1.5.0",
      "model_name": "HTMLModel",
      "state": {
       "_dom_classes": [],
       "_model_module": "@jupyter-widgets/controls",
       "_model_module_version": "1.5.0",
       "_model_name": "HTMLModel",
       "_view_count": null,
       "_view_module": "@jupyter-widgets/controls",
       "_view_module_version": "1.5.0",
       "_view_name": "HTMLView",
       "description": "",
       "description_tooltip": null,
       "layout": "IPY_MODEL_32930103ce43412cb57de07c906a8401",
       "placeholder": "​",
       "style": "IPY_MODEL_241e087e0c06412cab995e8f26d24a33",
       "value": " 805/805 [00:00&lt;00:00, 77.9kB/s]"
      }
     },
     "52de4461c7bd47b291080e6d202680ab": {
      "model_module": "@jupyter-widgets/controls",
      "model_module_version": "1.5.0",
      "model_name": "DescriptionStyleModel",
      "state": {
       "_model_module": "@jupyter-widgets/controls",
       "_model_module_version": "1.5.0",
       "_model_name": "DescriptionStyleModel",
       "_view_count": null,
       "_view_module": "@jupyter-widgets/base",
       "_view_module_version": "1.2.0",
       "_view_name": "StyleView",
       "description_width": ""
      }
     },
     "5446fb50f3574d8687b50b6cf02ea3d8": {
      "model_module": "@jupyter-widgets/base",
      "model_module_version": "1.2.0",
      "model_name": "LayoutModel",
      "state": {
       "_model_module": "@jupyter-widgets/base",
       "_model_module_version": "1.2.0",
       "_model_name": "LayoutModel",
       "_view_count": null,
       "_view_module": "@jupyter-widgets/base",
       "_view_module_version": "1.2.0",
       "_view_name": "LayoutView",
       "align_content": null,
       "align_items": null,
       "align_self": null,
       "border": null,
       "bottom": null,
       "display": null,
       "flex": null,
       "flex_flow": null,
       "grid_area": null,
       "grid_auto_columns": null,
       "grid_auto_flow": null,
       "grid_auto_rows": null,
       "grid_column": null,
       "grid_gap": null,
       "grid_row": null,
       "grid_template_areas": null,
       "grid_template_columns": null,
       "grid_template_rows": null,
       "height": null,
       "justify_content": null,
       "justify_items": null,
       "left": null,
       "margin": null,
       "max_height": null,
       "max_width": null,
       "min_height": null,
       "min_width": null,
       "object_fit": null,
       "object_position": null,
       "order": null,
       "overflow": null,
       "overflow_x": null,
       "overflow_y": null,
       "padding": null,
       "right": null,
       "top": null,
       "visibility": null,
       "width": null
      }
     },
     "59d870f624fa4984b3f85a6d3562c9ca": {
      "model_module": "@jupyter-widgets/controls",
      "model_module_version": "1.5.0",
      "model_name": "HBoxModel",
      "state": {
       "_dom_classes": [],
       "_model_module": "@jupyter-widgets/controls",
       "_model_module_version": "1.5.0",
       "_model_name": "HBoxModel",
       "_view_count": null,
       "_view_module": "@jupyter-widgets/controls",
       "_view_module_version": "1.5.0",
       "_view_name": "HBoxView",
       "box_style": "",
       "children": [
        "IPY_MODEL_d4fc79e460d844ceb11f0eb2ddbac79d",
        "IPY_MODEL_eb453a7e540642a2a1968669574a9458",
        "IPY_MODEL_299c94d0db0447ef975beb0dbe460638"
       ],
       "layout": "IPY_MODEL_c56375b55723456990c8840e1f8eaaa9"
      }
     },
     "5b669f7dda9a4f5a917fa59be43bc854": {
      "model_module": "@jupyter-widgets/base",
      "model_module_version": "1.2.0",
      "model_name": "LayoutModel",
      "state": {
       "_model_module": "@jupyter-widgets/base",
       "_model_module_version": "1.2.0",
       "_model_name": "LayoutModel",
       "_view_count": null,
       "_view_module": "@jupyter-widgets/base",
       "_view_module_version": "1.2.0",
       "_view_name": "LayoutView",
       "align_content": null,
       "align_items": null,
       "align_self": null,
       "border": null,
       "bottom": null,
       "display": null,
       "flex": null,
       "flex_flow": null,
       "grid_area": null,
       "grid_auto_columns": null,
       "grid_auto_flow": null,
       "grid_auto_rows": null,
       "grid_column": null,
       "grid_gap": null,
       "grid_row": null,
       "grid_template_areas": null,
       "grid_template_columns": null,
       "grid_template_rows": null,
       "height": null,
       "justify_content": null,
       "justify_items": null,
       "left": null,
       "margin": null,
       "max_height": null,
       "max_width": null,
       "min_height": null,
       "min_width": null,
       "object_fit": null,
       "object_position": null,
       "order": null,
       "overflow": null,
       "overflow_x": null,
       "overflow_y": null,
       "padding": null,
       "right": null,
       "top": null,
       "visibility": null,
       "width": null
      }
     },
     "6205d503d5af45ab8f1beb9bfdb48ab6": {
      "model_module": "@jupyter-widgets/controls",
      "model_module_version": "1.5.0",
      "model_name": "HTMLModel",
      "state": {
       "_dom_classes": [],
       "_model_module": "@jupyter-widgets/controls",
       "_model_module_version": "1.5.0",
       "_model_name": "HTMLModel",
       "_view_count": null,
       "_view_module": "@jupyter-widgets/controls",
       "_view_module_version": "1.5.0",
       "_view_name": "HTMLView",
       "description": "",
       "description_tooltip": null,
       "layout": "IPY_MODEL_31f71015ef3544a0a79a44b97ed3e77c",
       "placeholder": "​",
       "style": "IPY_MODEL_4814e32e0a804d01b82e0d85b6b11ce4",
       "value": "generation_config.json: 100%"
      }
     },
     "62822b13f0f94bb98230125f34d58ec0": {
      "model_module": "@jupyter-widgets/controls",
      "model_module_version": "1.5.0",
      "model_name": "ProgressStyleModel",
      "state": {
       "_model_module": "@jupyter-widgets/controls",
       "_model_module_version": "1.5.0",
       "_model_name": "ProgressStyleModel",
       "_view_count": null,
       "_view_module": "@jupyter-widgets/base",
       "_view_module_version": "1.2.0",
       "_view_name": "StyleView",
       "bar_color": null,
       "description_width": ""
      }
     },
     "64acef19a0fa4c29a08376575cb12aee": {
      "model_module": "@jupyter-widgets/controls",
      "model_module_version": "1.5.0",
      "model_name": "ProgressStyleModel",
      "state": {
       "_model_module": "@jupyter-widgets/controls",
       "_model_module_version": "1.5.0",
       "_model_name": "ProgressStyleModel",
       "_view_count": null,
       "_view_module": "@jupyter-widgets/base",
       "_view_module_version": "1.2.0",
       "_view_name": "StyleView",
       "bar_color": null,
       "description_width": ""
      }
     },
     "64e7b31c3cce432c80eed2256f9dbdcd": {
      "model_module": "@jupyter-widgets/controls",
      "model_module_version": "1.5.0",
      "model_name": "DescriptionStyleModel",
      "state": {
       "_model_module": "@jupyter-widgets/controls",
       "_model_module_version": "1.5.0",
       "_model_name": "DescriptionStyleModel",
       "_view_count": null,
       "_view_module": "@jupyter-widgets/base",
       "_view_module_version": "1.2.0",
       "_view_name": "StyleView",
       "description_width": ""
      }
     },
     "68b707ea559548abb854fabc093bb902": {
      "model_module": "@jupyter-widgets/base",
      "model_module_version": "1.2.0",
      "model_name": "LayoutModel",
      "state": {
       "_model_module": "@jupyter-widgets/base",
       "_model_module_version": "1.2.0",
       "_model_name": "LayoutModel",
       "_view_count": null,
       "_view_module": "@jupyter-widgets/base",
       "_view_module_version": "1.2.0",
       "_view_name": "LayoutView",
       "align_content": null,
       "align_items": null,
       "align_self": null,
       "border": null,
       "bottom": null,
       "display": null,
       "flex": null,
       "flex_flow": null,
       "grid_area": null,
       "grid_auto_columns": null,
       "grid_auto_flow": null,
       "grid_auto_rows": null,
       "grid_column": null,
       "grid_gap": null,
       "grid_row": null,
       "grid_template_areas": null,
       "grid_template_columns": null,
       "grid_template_rows": null,
       "height": null,
       "justify_content": null,
       "justify_items": null,
       "left": null,
       "margin": null,
       "max_height": null,
       "max_width": null,
       "min_height": null,
       "min_width": null,
       "object_fit": null,
       "object_position": null,
       "order": null,
       "overflow": null,
       "overflow_x": null,
       "overflow_y": null,
       "padding": null,
       "right": null,
       "top": null,
       "visibility": null,
       "width": null
      }
     },
     "69b1fef1ce814920a3d832ccec2eb6db": {
      "model_module": "@jupyter-widgets/controls",
      "model_module_version": "1.5.0",
      "model_name": "HTMLModel",
      "state": {
       "_dom_classes": [],
       "_model_module": "@jupyter-widgets/controls",
       "_model_module_version": "1.5.0",
       "_model_name": "HTMLModel",
       "_view_count": null,
       "_view_module": "@jupyter-widgets/controls",
       "_view_module_version": "1.5.0",
       "_view_name": "HTMLView",
       "description": "",
       "description_tooltip": null,
       "layout": "IPY_MODEL_c7013b882ea14f72809b68fab94dfdda",
       "placeholder": "​",
       "style": "IPY_MODEL_36b24b09a53d452aa3d2f6fa6e549f07",
       "value": " 185k/185k [00:00&lt;00:00, 2.66MB/s]"
      }
     },
     "6e06d58f6b424dfdbfb09688e21cd212": {
      "model_module": "@jupyter-widgets/controls",
      "model_module_version": "1.5.0",
      "model_name": "FloatProgressModel",
      "state": {
       "_dom_classes": [],
       "_model_module": "@jupyter-widgets/controls",
       "_model_module_version": "1.5.0",
       "_model_name": "FloatProgressModel",
       "_view_count": null,
       "_view_module": "@jupyter-widgets/controls",
       "_view_module_version": "1.5.0",
       "_view_name": "ProgressView",
       "bar_style": "success",
       "description": "",
       "description_tooltip": null,
       "layout": "IPY_MODEL_5446fb50f3574d8687b50b6cf02ea3d8",
       "max": 805.0,
       "min": 0.0,
       "orientation": "horizontal",
       "style": "IPY_MODEL_1d78b17449d14e3695e1c704a7bf2d54",
       "value": 805.0
      }
     },
     "70aca70e29f147498070b4a3d078ac98": {
      "model_module": "@jupyter-widgets/controls",
      "model_module_version": "1.5.0",
      "model_name": "HBoxModel",
      "state": {
       "_dom_classes": [],
       "_model_module": "@jupyter-widgets/controls",
       "_model_module_version": "1.5.0",
       "_model_name": "HBoxModel",
       "_view_count": null,
       "_view_module": "@jupyter-widgets/controls",
       "_view_module_version": "1.5.0",
       "_view_name": "HBoxView",
       "box_style": "",
       "children": [
        "IPY_MODEL_337cd93f1dcf4035bb8e50cce8b02765",
        "IPY_MODEL_6e06d58f6b424dfdbfb09688e21cd212",
        "IPY_MODEL_51c70a20a9d84fd7af3f93b1030207a2"
       ],
       "layout": "IPY_MODEL_01e9b17c4aae40c18873c81f14b0ef99"
      }
     },
     "71dcb1dd3a464abfafe2a4f0ccb51f49": {
      "model_module": "@jupyter-widgets/controls",
      "model_module_version": "1.5.0",
      "model_name": "HTMLModel",
      "state": {
       "_dom_classes": [],
       "_model_module": "@jupyter-widgets/controls",
       "_model_module_version": "1.5.0",
       "_model_name": "HTMLModel",
       "_view_count": null,
       "_view_module": "@jupyter-widgets/controls",
       "_view_module_version": "1.5.0",
       "_view_name": "HTMLView",
       "description": "",
       "description_tooltip": null,
       "layout": "IPY_MODEL_68b707ea559548abb854fabc093bb902",
       "placeholder": "​",
       "style": "IPY_MODEL_d12ef40e390d4ef88d6125094695e940",
       "value": " 52.7k/52.7k [00:00&lt;00:00, 4.63MB/s]"
      }
     },
     "75761f4b70d34422825ebc596ca59c6f": {
      "model_module": "@jupyter-widgets/base",
      "model_module_version": "1.2.0",
      "model_name": "LayoutModel",
      "state": {
       "_model_module": "@jupyter-widgets/base",
       "_model_module_version": "1.2.0",
       "_model_name": "LayoutModel",
       "_view_count": null,
       "_view_module": "@jupyter-widgets/base",
       "_view_module_version": "1.2.0",
       "_view_name": "LayoutView",
       "align_content": null,
       "align_items": null,
       "align_self": null,
       "border": null,
       "bottom": null,
       "display": null,
       "flex": null,
       "flex_flow": null,
       "grid_area": null,
       "grid_auto_columns": null,
       "grid_auto_flow": null,
       "grid_auto_rows": null,
       "grid_column": null,
       "grid_gap": null,
       "grid_row": null,
       "grid_template_areas": null,
       "grid_template_columns": null,
       "grid_template_rows": null,
       "height": null,
       "justify_content": null,
       "justify_items": null,
       "left": null,
       "margin": null,
       "max_height": null,
       "max_width": null,
       "min_height": null,
       "min_width": null,
       "object_fit": null,
       "object_position": null,
       "order": null,
       "overflow": null,
       "overflow_x": null,
       "overflow_y": null,
       "padding": null,
       "right": null,
       "top": null,
       "visibility": null,
       "width": null
      }
     },
     "7b96694814694b7f9f7df90b60d9e845": {
      "model_module": "@jupyter-widgets/controls",
      "model_module_version": "1.5.0",
      "model_name": "DescriptionStyleModel",
      "state": {
       "_model_module": "@jupyter-widgets/controls",
       "_model_module_version": "1.5.0",
       "_model_name": "DescriptionStyleModel",
       "_view_count": null,
       "_view_module": "@jupyter-widgets/base",
       "_view_module_version": "1.2.0",
       "_view_name": "StyleView",
       "description_width": ""
      }
     },
     "7da8412bc1934c67b200e82822e3bef4": {
      "model_module": "@jupyter-widgets/controls",
      "model_module_version": "1.5.0",
      "model_name": "HTMLModel",
      "state": {
       "_dom_classes": [],
       "_model_module": "@jupyter-widgets/controls",
       "_model_module_version": "1.5.0",
       "_model_name": "HTMLModel",
       "_view_count": null,
       "_view_module": "@jupyter-widgets/controls",
       "_view_module_version": "1.5.0",
       "_view_name": "HTMLView",
       "description": "",
       "description_tooltip": null,
       "layout": "IPY_MODEL_b8c5ac5686df48e8b2b0d3fdf8e72069",
       "placeholder": "​",
       "style": "IPY_MODEL_d724715faf79462a8d4aa4c663e6c28a",
       "value": "added_tokens.json: 100%"
      }
     },
     "80ae6c84b7da41ea85cdfefb975f8387": {
      "model_module": "@jupyter-widgets/base",
      "model_module_version": "1.2.0",
      "model_name": "LayoutModel",
      "state": {
       "_model_module": "@jupyter-widgets/base",
       "_model_module_version": "1.2.0",
       "_model_name": "LayoutModel",
       "_view_count": null,
       "_view_module": "@jupyter-widgets/base",
       "_view_module_version": "1.2.0",
       "_view_name": "LayoutView",
       "align_content": null,
       "align_items": null,
       "align_self": null,
       "border": null,
       "bottom": null,
       "display": null,
       "flex": null,
       "flex_flow": null,
       "grid_area": null,
       "grid_auto_columns": null,
       "grid_auto_flow": null,
       "grid_auto_rows": null,
       "grid_column": null,
       "grid_gap": null,
       "grid_row": null,
       "grid_template_areas": null,
       "grid_template_columns": null,
       "grid_template_rows": null,
       "height": null,
       "justify_content": null,
       "justify_items": null,
       "left": null,
       "margin": null,
       "max_height": null,
       "max_width": null,
       "min_height": null,
       "min_width": null,
       "object_fit": null,
       "object_position": null,
       "order": null,
       "overflow": null,
       "overflow_x": null,
       "overflow_y": null,
       "padding": null,
       "right": null,
       "top": null,
       "visibility": null,
       "width": null
      }
     },
     "89c9bc2c45fb4be7b2389b4185ad2956": {
      "model_module": "@jupyter-widgets/base",
      "model_module_version": "1.2.0",
      "model_name": "LayoutModel",
      "state": {
       "_model_module": "@jupyter-widgets/base",
       "_model_module_version": "1.2.0",
       "_model_name": "LayoutModel",
       "_view_count": null,
       "_view_module": "@jupyter-widgets/base",
       "_view_module_version": "1.2.0",
       "_view_name": "LayoutView",
       "align_content": null,
       "align_items": null,
       "align_self": null,
       "border": null,
       "bottom": null,
       "display": null,
       "flex": null,
       "flex_flow": null,
       "grid_area": null,
       "grid_auto_columns": null,
       "grid_auto_flow": null,
       "grid_auto_rows": null,
       "grid_column": null,
       "grid_gap": null,
       "grid_row": null,
       "grid_template_areas": null,
       "grid_template_columns": null,
       "grid_template_rows": null,
       "height": null,
       "justify_content": null,
       "justify_items": null,
       "left": null,
       "margin": null,
       "max_height": null,
       "max_width": null,
       "min_height": null,
       "min_width": null,
       "object_fit": null,
       "object_position": null,
       "order": null,
       "overflow": null,
       "overflow_x": null,
       "overflow_y": null,
       "padding": null,
       "right": null,
       "top": null,
       "visibility": null,
       "width": null
      }
     },
     "8c27da6653924ebdb672ca8d679aedc9": {
      "model_module": "@jupyter-widgets/controls",
      "model_module_version": "1.5.0",
      "model_name": "HTMLModel",
      "state": {
       "_dom_classes": [],
       "_model_module": "@jupyter-widgets/controls",
       "_model_module_version": "1.5.0",
       "_model_name": "HTMLModel",
       "_view_count": null,
       "_view_module": "@jupyter-widgets/controls",
       "_view_module_version": "1.5.0",
       "_view_name": "HTMLView",
       "description": "",
       "description_tooltip": null,
       "layout": "IPY_MODEL_4a7b08d78f344d7a942f742f2f8520cd",
       "placeholder": "​",
       "style": "IPY_MODEL_12bd001c0df24a35bab4f0ce5c0cc0b0",
       "value": "special_tokens_map.json: 100%"
      }
     },
     "961ae0887317482884f49b69a3db40c5": {
      "model_module": "@jupyter-widgets/controls",
      "model_module_version": "1.5.0",
      "model_name": "FloatProgressModel",
      "state": {
       "_dom_classes": [],
       "_model_module": "@jupyter-widgets/controls",
       "_model_module_version": "1.5.0",
       "_model_name": "FloatProgressModel",
       "_view_count": null,
       "_view_module": "@jupyter-widgets/controls",
       "_view_module_version": "1.5.0",
       "_view_name": "ProgressView",
       "bar_style": "success",
       "description": "",
       "description_tooltip": null,
       "layout": "IPY_MODEL_b5e8c8571e97480583ca6b7d9f9e52f0",
       "max": 1621.0,
       "min": 0.0,
       "orientation": "horizontal",
       "style": "IPY_MODEL_f80f9753047c438f9a2ca2f971ff5e3a",
       "value": 1621.0
      }
     },
     "9783d2691950479aab188179c45a5cf6": {
      "model_module": "@jupyter-widgets/base",
      "model_module_version": "1.2.0",
      "model_name": "LayoutModel",
      "state": {
       "_model_module": "@jupyter-widgets/base",
       "_model_module_version": "1.2.0",
       "_model_name": "LayoutModel",
       "_view_count": null,
       "_view_module": "@jupyter-widgets/base",
       "_view_module_version": "1.2.0",
       "_view_name": "LayoutView",
       "align_content": null,
       "align_items": null,
       "align_self": null,
       "border": null,
       "bottom": null,
       "display": null,
       "flex": null,
       "flex_flow": null,
       "grid_area": null,
       "grid_auto_columns": null,
       "grid_auto_flow": null,
       "grid_auto_rows": null,
       "grid_column": null,
       "grid_gap": null,
       "grid_row": null,
       "grid_template_areas": null,
       "grid_template_columns": null,
       "grid_template_rows": null,
       "height": null,
       "justify_content": null,
       "justify_items": null,
       "left": null,
       "margin": null,
       "max_height": null,
       "max_width": null,
       "min_height": null,
       "min_width": null,
       "object_fit": null,
       "object_position": null,
       "order": null,
       "overflow": null,
       "overflow_x": null,
       "overflow_y": null,
       "padding": null,
       "right": null,
       "top": null,
       "visibility": null,
       "width": null
      }
     },
     "981f72b4f4314c1086762845b4358608": {
      "model_module": "@jupyter-widgets/controls",
      "model_module_version": "1.5.0",
      "model_name": "FloatProgressModel",
      "state": {
       "_dom_classes": [],
       "_model_module": "@jupyter-widgets/controls",
       "_model_module_version": "1.5.0",
       "_model_name": "FloatProgressModel",
       "_view_count": null,
       "_view_module": "@jupyter-widgets/controls",
       "_view_module_version": "1.5.0",
       "_view_name": "ProgressView",
       "bar_style": "success",
       "description": "",
       "description_tooltip": null,
       "layout": "IPY_MODEL_219edd4e9e5544fabdc821a9493fcd86",
       "max": 456318.0,
       "min": 0.0,
       "orientation": "horizontal",
       "style": "IPY_MODEL_64acef19a0fa4c29a08376575cb12aee",
       "value": 456318.0
      }
     },
     "9b51fe695281476b8d573294ebcf601a": {
      "model_module": "@jupyter-widgets/controls",
      "model_module_version": "1.5.0",
      "model_name": "FloatProgressModel",
      "state": {
       "_dom_classes": [],
       "_model_module": "@jupyter-widgets/controls",
       "_model_module_version": "1.5.0",
       "_model_name": "FloatProgressModel",
       "_view_count": null,
       "_view_module": "@jupyter-widgets/controls",
       "_view_module_version": "1.5.0",
       "_view_name": "ProgressView",
       "bar_style": "success",
       "description": "",
       "description_tooltip": null,
       "layout": "IPY_MODEL_511af9a7fa6f43a7a0b392cc62ae2903",
       "max": 1937.0,
       "min": 0.0,
       "orientation": "horizontal",
       "style": "IPY_MODEL_45deaae241b74a39b0e9bce7b1749de2",
       "value": 1937.0
      }
     },
     "9dfe0c57a55e4a4c91164645f21f08d7": {
      "model_module": "@jupyter-widgets/controls",
      "model_module_version": "1.5.0",
      "model_name": "FloatProgressModel",
      "state": {
       "_dom_classes": [],
       "_model_module": "@jupyter-widgets/controls",
       "_model_module_version": "1.5.0",
       "_model_name": "FloatProgressModel",
       "_view_count": null,
       "_view_module": "@jupyter-widgets/controls",
       "_view_module_version": "1.5.0",
       "_view_name": "ProgressView",
       "bar_style": "success",
       "description": "",
       "description_tooltip": null,
       "layout": "IPY_MODEL_497be3b2cad547dcaa9ddf307f79a847",
       "max": 1830.0,
       "min": 0.0,
       "orientation": "horizontal",
       "style": "IPY_MODEL_c793463b8c2b4903a6b574d508e9af93",
       "value": 1830.0
      }
     },
     "9e62f12391714b0093921056891616f1": {
      "model_module": "@jupyter-widgets/controls",
      "model_module_version": "1.5.0",
      "model_name": "HTMLModel",
      "state": {
       "_dom_classes": [],
       "_model_module": "@jupyter-widgets/controls",
       "_model_module_version": "1.5.0",
       "_model_name": "HTMLModel",
       "_view_count": null,
       "_view_module": "@jupyter-widgets/controls",
       "_view_module_version": "1.5.0",
       "_view_name": "HTMLView",
       "description": "",
       "description_tooltip": null,
       "layout": "IPY_MODEL_d7a4c8c83d034bd68b22c6f7d81b17bc",
       "placeholder": "​",
       "style": "IPY_MODEL_3e7b6324050a491e937e69eb4c61612b",
       "value": " 151M/151M [00:00&lt;00:00, 240MB/s]"
      }
     },
     "a15ad834b39f456cb6e595cf99396643": {
      "model_module": "@jupyter-widgets/base",
      "model_module_version": "1.2.0",
      "model_name": "LayoutModel",
      "state": {
       "_model_module": "@jupyter-widgets/base",
       "_model_module_version": "1.2.0",
       "_model_name": "LayoutModel",
       "_view_count": null,
       "_view_module": "@jupyter-widgets/base",
       "_view_module_version": "1.2.0",
       "_view_name": "LayoutView",
       "align_content": null,
       "align_items": null,
       "align_self": null,
       "border": null,
       "bottom": null,
       "display": null,
       "flex": null,
       "flex_flow": null,
       "grid_area": null,
       "grid_auto_columns": null,
       "grid_auto_flow": null,
       "grid_auto_rows": null,
       "grid_column": null,
       "grid_gap": null,
       "grid_row": null,
       "grid_template_areas": null,
       "grid_template_columns": null,
       "grid_template_rows": null,
       "height": null,
       "justify_content": null,
       "justify_items": null,
       "left": null,
       "margin": null,
       "max_height": null,
       "max_width": null,
       "min_height": null,
       "min_width": null,
       "object_fit": null,
       "object_position": null,
       "order": null,
       "overflow": null,
       "overflow_x": null,
       "overflow_y": null,
       "padding": null,
       "right": null,
       "top": null,
       "visibility": null,
       "width": null
      }
     },
     "a63d0f1e7297412fa55697e8491dbdb0": {
      "model_module": "@jupyter-widgets/controls",
      "model_module_version": "1.5.0",
      "model_name": "DescriptionStyleModel",
      "state": {
       "_model_module": "@jupyter-widgets/controls",
       "_model_module_version": "1.5.0",
       "_model_name": "DescriptionStyleModel",
       "_view_count": null,
       "_view_module": "@jupyter-widgets/base",
       "_view_module_version": "1.2.0",
       "_view_name": "StyleView",
       "description_width": ""
      }
     },
     "a6abb451bb6b4b258476f389b1a3591e": {
      "model_module": "@jupyter-widgets/controls",
      "model_module_version": "1.5.0",
      "model_name": "HBoxModel",
      "state": {
       "_dom_classes": [],
       "_model_module": "@jupyter-widgets/controls",
       "_model_module_version": "1.5.0",
       "_model_name": "HBoxModel",
       "_view_count": null,
       "_view_module": "@jupyter-widgets/controls",
       "_view_module_version": "1.5.0",
       "_view_name": "HBoxView",
       "box_style": "",
       "children": [
        "IPY_MODEL_1b1510f4421e436881fb62a81f7a9167",
        "IPY_MODEL_2b0c74938f384685bf8ffc0322e0ffa4",
        "IPY_MODEL_9e62f12391714b0093921056891616f1"
       ],
       "layout": "IPY_MODEL_f402a4ce58ee44e7af7c792b3978ae1f"
      }
     },
     "a7f2423b9c0e4c97b032fcaf3e2e2075": {
      "model_module": "@jupyter-widgets/base",
      "model_module_version": "1.2.0",
      "model_name": "LayoutModel",
      "state": {
       "_model_module": "@jupyter-widgets/base",
       "_model_module_version": "1.2.0",
       "_model_name": "LayoutModel",
       "_view_count": null,
       "_view_module": "@jupyter-widgets/base",
       "_view_module_version": "1.2.0",
       "_view_name": "LayoutView",
       "align_content": null,
       "align_items": null,
       "align_self": null,
       "border": null,
       "bottom": null,
       "display": null,
       "flex": null,
       "flex_flow": null,
       "grid_area": null,
       "grid_auto_columns": null,
       "grid_auto_flow": null,
       "grid_auto_rows": null,
       "grid_column": null,
       "grid_gap": null,
       "grid_row": null,
       "grid_template_areas": null,
       "grid_template_columns": null,
       "grid_template_rows": null,
       "height": null,
       "justify_content": null,
       "justify_items": null,
       "left": null,
       "margin": null,
       "max_height": null,
       "max_width": null,
       "min_height": null,
       "min_width": null,
       "object_fit": null,
       "object_position": null,
       "order": null,
       "overflow": null,
       "overflow_x": null,
       "overflow_y": null,
       "padding": null,
       "right": null,
       "top": null,
       "visibility": null,
       "width": null
      }
     },
     "a87de0f8644049c2bc4c08faf0a38563": {
      "model_module": "@jupyter-widgets/controls",
      "model_module_version": "1.5.0",
      "model_name": "ProgressStyleModel",
      "state": {
       "_model_module": "@jupyter-widgets/controls",
       "_model_module_version": "1.5.0",
       "_model_name": "ProgressStyleModel",
       "_view_count": null,
       "_view_module": "@jupyter-widgets/base",
       "_view_module_version": "1.2.0",
       "_view_name": "StyleView",
       "bar_color": null,
       "description_width": ""
      }
     },
     "a894cd7255eb4e989189cce1a0e1d037": {
      "model_module": "@jupyter-widgets/controls",
      "model_module_version": "1.5.0",
      "model_name": "FloatProgressModel",
      "state": {
       "_dom_classes": [],
       "_model_module": "@jupyter-widgets/controls",
       "_model_module_version": "1.5.0",
       "_model_name": "FloatProgressModel",
       "_view_count": null,
       "_view_module": "@jupyter-widgets/controls",
       "_view_module_version": "1.5.0",
       "_view_name": "ProgressView",
       "bar_style": "success",
       "description": "",
       "description_tooltip": null,
       "layout": "IPY_MODEL_42247090bcb340489898fc76de5c07a7",
       "max": 798156.0,
       "min": 0.0,
       "orientation": "horizontal",
       "style": "IPY_MODEL_4ae072288647430ba8a6e9fd2ffcd0b7",
       "value": 798156.0
      }
     },
     "a8996a61ebda449ca4bff5fab3660f1f": {
      "model_module": "@jupyter-widgets/controls",
      "model_module_version": "1.5.0",
      "model_name": "DescriptionStyleModel",
      "state": {
       "_model_module": "@jupyter-widgets/controls",
       "_model_module_version": "1.5.0",
       "_model_name": "DescriptionStyleModel",
       "_view_count": null,
       "_view_module": "@jupyter-widgets/base",
       "_view_module_version": "1.2.0",
       "_view_name": "StyleView",
       "description_width": ""
      }
     },
     "afb95983764d40dd8666f38918c30430": {
      "model_module": "@jupyter-widgets/controls",
      "model_module_version": "1.5.0",
      "model_name": "HTMLModel",
      "state": {
       "_dom_classes": [],
       "_model_module": "@jupyter-widgets/controls",
       "_model_module_version": "1.5.0",
       "_model_name": "HTMLModel",
       "_view_count": null,
       "_view_module": "@jupyter-widgets/controls",
       "_view_module_version": "1.5.0",
       "_view_name": "HTMLView",
       "description": "",
       "description_tooltip": null,
       "layout": "IPY_MODEL_23350b9b7aa64c2c854788f8fae10cfa",
       "placeholder": "​",
       "style": "IPY_MODEL_28044a5cff8d443897febf3a6296d129",
       "value": " 1.94k/1.94k [00:00&lt;00:00, 208kB/s]"
      }
     },
     "b01783b093ab433d9b8296fd90c30ec8": {
      "model_module": "@jupyter-widgets/controls",
      "model_module_version": "1.5.0",
      "model_name": "HBoxModel",
      "state": {
       "_dom_classes": [],
       "_model_module": "@jupyter-widgets/controls",
       "_model_module_version": "1.5.0",
       "_model_name": "HBoxModel",
       "_view_count": null,
       "_view_module": "@jupyter-widgets/controls",
       "_view_module_version": "1.5.0",
       "_view_name": "HBoxView",
       "box_style": "",
       "children": [
        "IPY_MODEL_7da8412bc1934c67b200e82822e3bef4",
        "IPY_MODEL_f1e1963e07aa4d31b1491d3c713d52b7",
        "IPY_MODEL_25f10721888b497f8153cf2eb9123361"
       ],
       "layout": "IPY_MODEL_4e436e8321e54848a50ceade0209de63"
      }
     },
     "b5e8c8571e97480583ca6b7d9f9e52f0": {
      "model_module": "@jupyter-widgets/base",
      "model_module_version": "1.2.0",
      "model_name": "LayoutModel",
      "state": {
       "_model_module": "@jupyter-widgets/base",
       "_model_module_version": "1.2.0",
       "_model_name": "LayoutModel",
       "_view_count": null,
       "_view_module": "@jupyter-widgets/base",
       "_view_module_version": "1.2.0",
       "_view_name": "LayoutView",
       "align_content": null,
       "align_items": null,
       "align_self": null,
       "border": null,
       "bottom": null,
       "display": null,
       "flex": null,
       "flex_flow": null,
       "grid_area": null,
       "grid_auto_columns": null,
       "grid_auto_flow": null,
       "grid_auto_rows": null,
       "grid_column": null,
       "grid_gap": null,
       "grid_row": null,
       "grid_template_areas": null,
       "grid_template_columns": null,
       "grid_template_rows": null,
       "height": null,
       "justify_content": null,
       "justify_items": null,
       "left": null,
       "margin": null,
       "max_height": null,
       "max_width": null,
       "min_height": null,
       "min_width": null,
       "object_fit": null,
       "object_position": null,
       "order": null,
       "overflow": null,
       "overflow_x": null,
       "overflow_y": null,
       "padding": null,
       "right": null,
       "top": null,
       "visibility": null,
       "width": null
      }
     },
     "b66db80023184b749148b7c35840403b": {
      "model_module": "@jupyter-widgets/controls",
      "model_module_version": "1.5.0",
      "model_name": "DescriptionStyleModel",
      "state": {
       "_model_module": "@jupyter-widgets/controls",
       "_model_module_version": "1.5.0",
       "_model_name": "DescriptionStyleModel",
       "_view_count": null,
       "_view_module": "@jupyter-widgets/base",
       "_view_module_version": "1.2.0",
       "_view_name": "StyleView",
       "description_width": ""
      }
     },
     "b851014ac364419dbb0252281bf71874": {
      "model_module": "@jupyter-widgets/controls",
      "model_module_version": "1.5.0",
      "model_name": "HTMLModel",
      "state": {
       "_dom_classes": [],
       "_model_module": "@jupyter-widgets/controls",
       "_model_module_version": "1.5.0",
       "_model_name": "HTMLModel",
       "_view_count": null,
       "_view_module": "@jupyter-widgets/controls",
       "_view_module_version": "1.5.0",
       "_view_name": "HTMLView",
       "description": "",
       "description_tooltip": null,
       "layout": "IPY_MODEL_31f3e6dc3152445da6feb00456cd6df0",
       "placeholder": "​",
       "style": "IPY_MODEL_370b97620e004cb98c08e7bf7cae40cd",
       "value": "vocab.json: 100%"
      }
     },
     "b8c5ac5686df48e8b2b0d3fdf8e72069": {
      "model_module": "@jupyter-widgets/base",
      "model_module_version": "1.2.0",
      "model_name": "LayoutModel",
      "state": {
       "_model_module": "@jupyter-widgets/base",
       "_model_module_version": "1.2.0",
       "_model_name": "LayoutModel",
       "_view_count": null,
       "_view_module": "@jupyter-widgets/base",
       "_view_module_version": "1.2.0",
       "_view_name": "LayoutView",
       "align_content": null,
       "align_items": null,
       "align_self": null,
       "border": null,
       "bottom": null,
       "display": null,
       "flex": null,
       "flex_flow": null,
       "grid_area": null,
       "grid_auto_columns": null,
       "grid_auto_flow": null,
       "grid_auto_rows": null,
       "grid_column": null,
       "grid_gap": null,
       "grid_row": null,
       "grid_template_areas": null,
       "grid_template_columns": null,
       "grid_template_rows": null,
       "height": null,
       "justify_content": null,
       "justify_items": null,
       "left": null,
       "margin": null,
       "max_height": null,
       "max_width": null,
       "min_height": null,
       "min_width": null,
       "object_fit": null,
       "object_position": null,
       "order": null,
       "overflow": null,
       "overflow_x": null,
       "overflow_y": null,
       "padding": null,
       "right": null,
       "top": null,
       "visibility": null,
       "width": null
      }
     },
     "b9970a3976694a34a4b16707a0135532": {
      "model_module": "@jupyter-widgets/controls",
      "model_module_version": "1.5.0",
      "model_name": "HBoxModel",
      "state": {
       "_dom_classes": [],
       "_model_module": "@jupyter-widgets/controls",
       "_model_module_version": "1.5.0",
       "_model_name": "HBoxModel",
       "_view_count": null,
       "_view_module": "@jupyter-widgets/controls",
       "_view_module_version": "1.5.0",
       "_view_name": "HBoxView",
       "box_style": "",
       "children": [
        "IPY_MODEL_b851014ac364419dbb0252281bf71874",
        "IPY_MODEL_a894cd7255eb4e989189cce1a0e1d037",
        "IPY_MODEL_494859c95fc1448c9e41b3ccfb61b491"
       ],
       "layout": "IPY_MODEL_2fc5e8d4995d4c06bffadb01dc4cfc6d"
      }
     },
     "be11788696844e27aab56a21e98ccb30": {
      "model_module": "@jupyter-widgets/controls",
      "model_module_version": "1.5.0",
      "model_name": "DescriptionStyleModel",
      "state": {
       "_model_module": "@jupyter-widgets/controls",
       "_model_module_version": "1.5.0",
       "_model_name": "DescriptionStyleModel",
       "_view_count": null,
       "_view_module": "@jupyter-widgets/base",
       "_view_module_version": "1.2.0",
       "_view_name": "StyleView",
       "description_width": ""
      }
     },
     "bec1f2d957be462aaa21fb86248c63e5": {
      "model_module": "@jupyter-widgets/base",
      "model_module_version": "1.2.0",
      "model_name": "LayoutModel",
      "state": {
       "_model_module": "@jupyter-widgets/base",
       "_model_module_version": "1.2.0",
       "_model_name": "LayoutModel",
       "_view_count": null,
       "_view_module": "@jupyter-widgets/base",
       "_view_module_version": "1.2.0",
       "_view_name": "LayoutView",
       "align_content": null,
       "align_items": null,
       "align_self": null,
       "border": null,
       "bottom": null,
       "display": null,
       "flex": null,
       "flex_flow": null,
       "grid_area": null,
       "grid_auto_columns": null,
       "grid_auto_flow": null,
       "grid_auto_rows": null,
       "grid_column": null,
       "grid_gap": null,
       "grid_row": null,
       "grid_template_areas": null,
       "grid_template_columns": null,
       "grid_template_rows": null,
       "height": null,
       "justify_content": null,
       "justify_items": null,
       "left": null,
       "margin": null,
       "max_height": null,
       "max_width": null,
       "min_height": null,
       "min_width": null,
       "object_fit": null,
       "object_position": null,
       "order": null,
       "overflow": null,
       "overflow_x": null,
       "overflow_y": null,
       "padding": null,
       "right": null,
       "top": null,
       "visibility": null,
       "width": null
      }
     },
     "c1f962e6449b4436acf99cc1d0b6514c": {
      "model_module": "@jupyter-widgets/base",
      "model_module_version": "1.2.0",
      "model_name": "LayoutModel",
      "state": {
       "_model_module": "@jupyter-widgets/base",
       "_model_module_version": "1.2.0",
       "_model_name": "LayoutModel",
       "_view_count": null,
       "_view_module": "@jupyter-widgets/base",
       "_view_module_version": "1.2.0",
       "_view_name": "LayoutView",
       "align_content": null,
       "align_items": null,
       "align_self": null,
       "border": null,
       "bottom": null,
       "display": null,
       "flex": null,
       "flex_flow": null,
       "grid_area": null,
       "grid_auto_columns": null,
       "grid_auto_flow": null,
       "grid_auto_rows": null,
       "grid_column": null,
       "grid_gap": null,
       "grid_row": null,
       "grid_template_areas": null,
       "grid_template_columns": null,
       "grid_template_rows": null,
       "height": null,
       "justify_content": null,
       "justify_items": null,
       "left": null,
       "margin": null,
       "max_height": null,
       "max_width": null,
       "min_height": null,
       "min_width": null,
       "object_fit": null,
       "object_position": null,
       "order": null,
       "overflow": null,
       "overflow_x": null,
       "overflow_y": null,
       "padding": null,
       "right": null,
       "top": null,
       "visibility": null,
       "width": null
      }
     },
     "c3cbc6ee4a574af088e259bcd935b8d2": {
      "model_module": "@jupyter-widgets/base",
      "model_module_version": "1.2.0",
      "model_name": "LayoutModel",
      "state": {
       "_model_module": "@jupyter-widgets/base",
       "_model_module_version": "1.2.0",
       "_model_name": "LayoutModel",
       "_view_count": null,
       "_view_module": "@jupyter-widgets/base",
       "_view_module_version": "1.2.0",
       "_view_name": "LayoutView",
       "align_content": null,
       "align_items": null,
       "align_self": null,
       "border": null,
       "bottom": null,
       "display": null,
       "flex": null,
       "flex_flow": null,
       "grid_area": null,
       "grid_auto_columns": null,
       "grid_auto_flow": null,
       "grid_auto_rows": null,
       "grid_column": null,
       "grid_gap": null,
       "grid_row": null,
       "grid_template_areas": null,
       "grid_template_columns": null,
       "grid_template_rows": null,
       "height": null,
       "justify_content": null,
       "justify_items": null,
       "left": null,
       "margin": null,
       "max_height": null,
       "max_width": null,
       "min_height": null,
       "min_width": null,
       "object_fit": null,
       "object_position": null,
       "order": null,
       "overflow": null,
       "overflow_x": null,
       "overflow_y": null,
       "padding": null,
       "right": null,
       "top": null,
       "visibility": null,
       "width": null
      }
     },
     "c56375b55723456990c8840e1f8eaaa9": {
      "model_module": "@jupyter-widgets/base",
      "model_module_version": "1.2.0",
      "model_name": "LayoutModel",
      "state": {
       "_model_module": "@jupyter-widgets/base",
       "_model_module_version": "1.2.0",
       "_model_name": "LayoutModel",
       "_view_count": null,
       "_view_module": "@jupyter-widgets/base",
       "_view_module_version": "1.2.0",
       "_view_name": "LayoutView",
       "align_content": null,
       "align_items": null,
       "align_self": null,
       "border": null,
       "bottom": null,
       "display": null,
       "flex": null,
       "flex_flow": null,
       "grid_area": null,
       "grid_auto_columns": null,
       "grid_auto_flow": null,
       "grid_auto_rows": null,
       "grid_column": null,
       "grid_gap": null,
       "grid_row": null,
       "grid_template_areas": null,
       "grid_template_columns": null,
       "grid_template_rows": null,
       "height": null,
       "justify_content": null,
       "justify_items": null,
       "left": null,
       "margin": null,
       "max_height": null,
       "max_width": null,
       "min_height": null,
       "min_width": null,
       "object_fit": null,
       "object_position": null,
       "order": null,
       "overflow": null,
       "overflow_x": null,
       "overflow_y": null,
       "padding": null,
       "right": null,
       "top": null,
       "visibility": null,
       "width": null
      }
     },
     "c7013b882ea14f72809b68fab94dfdda": {
      "model_module": "@jupyter-widgets/base",
      "model_module_version": "1.2.0",
      "model_name": "LayoutModel",
      "state": {
       "_model_module": "@jupyter-widgets/base",
       "_model_module_version": "1.2.0",
       "_model_name": "LayoutModel",
       "_view_count": null,
       "_view_module": "@jupyter-widgets/base",
       "_view_module_version": "1.2.0",
       "_view_name": "LayoutView",
       "align_content": null,
       "align_items": null,
       "align_self": null,
       "border": null,
       "bottom": null,
       "display": null,
       "flex": null,
       "flex_flow": null,
       "grid_area": null,
       "grid_auto_columns": null,
       "grid_auto_flow": null,
       "grid_auto_rows": null,
       "grid_column": null,
       "grid_gap": null,
       "grid_row": null,
       "grid_template_areas": null,
       "grid_template_columns": null,
       "grid_template_rows": null,
       "height": null,
       "justify_content": null,
       "justify_items": null,
       "left": null,
       "margin": null,
       "max_height": null,
       "max_width": null,
       "min_height": null,
       "min_width": null,
       "object_fit": null,
       "object_position": null,
       "order": null,
       "overflow": null,
       "overflow_x": null,
       "overflow_y": null,
       "padding": null,
       "right": null,
       "top": null,
       "visibility": null,
       "width": null
      }
     },
     "c793463b8c2b4903a6b574d508e9af93": {
      "model_module": "@jupyter-widgets/controls",
      "model_module_version": "1.5.0",
      "model_name": "ProgressStyleModel",
      "state": {
       "_model_module": "@jupyter-widgets/controls",
       "_model_module_version": "1.5.0",
       "_model_name": "ProgressStyleModel",
       "_view_count": null,
       "_view_module": "@jupyter-widgets/base",
       "_view_module_version": "1.2.0",
       "_view_name": "StyleView",
       "bar_color": null,
       "description_width": ""
      }
     },
     "cba836bfa88d462a80ea7f8ce3416cc0": {
      "model_module": "@jupyter-widgets/controls",
      "model_module_version": "1.5.0",
      "model_name": "HTMLModel",
      "state": {
       "_dom_classes": [],
       "_model_module": "@jupyter-widgets/controls",
       "_model_module_version": "1.5.0",
       "_model_name": "HTMLModel",
       "_view_count": null,
       "_view_module": "@jupyter-widgets/controls",
       "_view_module_version": "1.5.0",
       "_view_name": "HTMLView",
       "description": "",
       "description_tooltip": null,
       "layout": "IPY_MODEL_9783d2691950479aab188179c45a5cf6",
       "placeholder": "​",
       "style": "IPY_MODEL_be11788696844e27aab56a21e98ccb30",
       "value": "merges.txt: 100%"
      }
     },
     "cc91ce85697c41069b4dbb66f98ffad4": {
      "model_module": "@jupyter-widgets/controls",
      "model_module_version": "1.5.0",
      "model_name": "HTMLModel",
      "state": {
       "_dom_classes": [],
       "_model_module": "@jupyter-widgets/controls",
       "_model_module_version": "1.5.0",
       "_model_name": "HTMLModel",
       "_view_count": null,
       "_view_module": "@jupyter-widgets/controls",
       "_view_module_version": "1.5.0",
       "_view_name": "HTMLView",
       "description": "",
       "description_tooltip": null,
       "layout": "IPY_MODEL_396c64d0231541b698e1f31ebf2cb3e2",
       "placeholder": "​",
       "style": "IPY_MODEL_a63d0f1e7297412fa55697e8491dbdb0",
       "value": "preprocessor_config.json: 100%"
      }
     },
     "cf9328af6bd84ea59fea020a3bd80187": {
      "model_module": "@jupyter-widgets/base",
      "model_module_version": "1.2.0",
      "model_name": "LayoutModel",
      "state": {
       "_model_module": "@jupyter-widgets/base",
       "_model_module_version": "1.2.0",
       "_model_name": "LayoutModel",
       "_view_count": null,
       "_view_module": "@jupyter-widgets/base",
       "_view_module_version": "1.2.0",
       "_view_name": "LayoutView",
       "align_content": null,
       "align_items": null,
       "align_self": null,
       "border": null,
       "bottom": null,
       "display": null,
       "flex": null,
       "flex_flow": null,
       "grid_area": null,
       "grid_auto_columns": null,
       "grid_auto_flow": null,
       "grid_auto_rows": null,
       "grid_column": null,
       "grid_gap": null,
       "grid_row": null,
       "grid_template_areas": null,
       "grid_template_columns": null,
       "grid_template_rows": null,
       "height": null,
       "justify_content": null,
       "justify_items": null,
       "left": null,
       "margin": null,
       "max_height": null,
       "max_width": null,
       "min_height": null,
       "min_width": null,
       "object_fit": null,
       "object_position": null,
       "order": null,
       "overflow": null,
       "overflow_x": null,
       "overflow_y": null,
       "padding": null,
       "right": null,
       "top": null,
       "visibility": null,
       "width": null
      }
     },
     "d0b9d421f5284b9cbf978581ef032ed0": {
      "model_module": "@jupyter-widgets/controls",
      "model_module_version": "1.5.0",
      "model_name": "HTMLModel",
      "state": {
       "_dom_classes": [],
       "_model_module": "@jupyter-widgets/controls",
       "_model_module_version": "1.5.0",
       "_model_name": "HTMLModel",
       "_view_count": null,
       "_view_module": "@jupyter-widgets/controls",
       "_view_module_version": "1.5.0",
       "_view_name": "HTMLView",
       "description": "",
       "description_tooltip": null,
       "layout": "IPY_MODEL_a15ad834b39f456cb6e595cf99396643",
       "placeholder": "​",
       "style": "IPY_MODEL_7b96694814694b7f9f7df90b60d9e845",
       "value": "config.json: 100%"
      }
     },
     "d12ef40e390d4ef88d6125094695e940": {
      "model_module": "@jupyter-widgets/controls",
      "model_module_version": "1.5.0",
      "model_name": "DescriptionStyleModel",
      "state": {
       "_model_module": "@jupyter-widgets/controls",
       "_model_module_version": "1.5.0",
       "_model_name": "DescriptionStyleModel",
       "_view_count": null,
       "_view_module": "@jupyter-widgets/base",
       "_view_module_version": "1.2.0",
       "_view_name": "StyleView",
       "description_width": ""
      }
     },
     "d4fc79e460d844ceb11f0eb2ddbac79d": {
      "model_module": "@jupyter-widgets/controls",
      "model_module_version": "1.5.0",
      "model_name": "HTMLModel",
      "state": {
       "_dom_classes": [],
       "_model_module": "@jupyter-widgets/controls",
       "_model_module_version": "1.5.0",
       "_model_name": "HTMLModel",
       "_view_count": null,
       "_view_module": "@jupyter-widgets/controls",
       "_view_module_version": "1.5.0",
       "_view_name": "HTMLView",
       "description": "",
       "description_tooltip": null,
       "layout": "IPY_MODEL_80ae6c84b7da41ea85cdfefb975f8387",
       "placeholder": "​",
       "style": "IPY_MODEL_1e02306135de4bb4ba16596765c95e04",
       "value": "tokenizer.json: 100%"
      }
     },
     "d550319ab1ce441ebc0de9fe8370e2a0": {
      "model_module": "@jupyter-widgets/controls",
      "model_module_version": "1.5.0",
      "model_name": "DescriptionStyleModel",
      "state": {
       "_model_module": "@jupyter-widgets/controls",
       "_model_module_version": "1.5.0",
       "_model_name": "DescriptionStyleModel",
       "_view_count": null,
       "_view_module": "@jupyter-widgets/base",
       "_view_module_version": "1.2.0",
       "_view_name": "StyleView",
       "description_width": ""
      }
     },
     "d724715faf79462a8d4aa4c663e6c28a": {
      "model_module": "@jupyter-widgets/controls",
      "model_module_version": "1.5.0",
      "model_name": "DescriptionStyleModel",
      "state": {
       "_model_module": "@jupyter-widgets/controls",
       "_model_module_version": "1.5.0",
       "_model_name": "DescriptionStyleModel",
       "_view_count": null,
       "_view_module": "@jupyter-widgets/base",
       "_view_module_version": "1.2.0",
       "_view_name": "StyleView",
       "description_width": ""
      }
     },
     "d7a4c8c83d034bd68b22c6f7d81b17bc": {
      "model_module": "@jupyter-widgets/base",
      "model_module_version": "1.2.0",
      "model_name": "LayoutModel",
      "state": {
       "_model_module": "@jupyter-widgets/base",
       "_model_module_version": "1.2.0",
       "_model_name": "LayoutModel",
       "_view_count": null,
       "_view_module": "@jupyter-widgets/base",
       "_view_module_version": "1.2.0",
       "_view_name": "LayoutView",
       "align_content": null,
       "align_items": null,
       "align_self": null,
       "border": null,
       "bottom": null,
       "display": null,
       "flex": null,
       "flex_flow": null,
       "grid_area": null,
       "grid_auto_columns": null,
       "grid_auto_flow": null,
       "grid_auto_rows": null,
       "grid_column": null,
       "grid_gap": null,
       "grid_row": null,
       "grid_template_areas": null,
       "grid_template_columns": null,
       "grid_template_rows": null,
       "height": null,
       "justify_content": null,
       "justify_items": null,
       "left": null,
       "margin": null,
       "max_height": null,
       "max_width": null,
       "min_height": null,
       "min_width": null,
       "object_fit": null,
       "object_position": null,
       "order": null,
       "overflow": null,
       "overflow_x": null,
       "overflow_y": null,
       "padding": null,
       "right": null,
       "top": null,
       "visibility": null,
       "width": null
      }
     },
     "e2eedb1c0ee445f7967bfaec7831daf1": {
      "model_module": "@jupyter-widgets/base",
      "model_module_version": "1.2.0",
      "model_name": "LayoutModel",
      "state": {
       "_model_module": "@jupyter-widgets/base",
       "_model_module_version": "1.2.0",
       "_model_name": "LayoutModel",
       "_view_count": null,
       "_view_module": "@jupyter-widgets/base",
       "_view_module_version": "1.2.0",
       "_view_name": "LayoutView",
       "align_content": null,
       "align_items": null,
       "align_self": null,
       "border": null,
       "bottom": null,
       "display": null,
       "flex": null,
       "flex_flow": null,
       "grid_area": null,
       "grid_auto_columns": null,
       "grid_auto_flow": null,
       "grid_auto_rows": null,
       "grid_column": null,
       "grid_gap": null,
       "grid_row": null,
       "grid_template_areas": null,
       "grid_template_columns": null,
       "grid_template_rows": null,
       "height": null,
       "justify_content": null,
       "justify_items": null,
       "left": null,
       "margin": null,
       "max_height": null,
       "max_width": null,
       "min_height": null,
       "min_width": null,
       "object_fit": null,
       "object_position": null,
       "order": null,
       "overflow": null,
       "overflow_x": null,
       "overflow_y": null,
       "padding": null,
       "right": null,
       "top": null,
       "visibility": null,
       "width": null
      }
     },
     "e33fc4ea7c234e878cba4714be617a38": {
      "model_module": "@jupyter-widgets/base",
      "model_module_version": "1.2.0",
      "model_name": "LayoutModel",
      "state": {
       "_model_module": "@jupyter-widgets/base",
       "_model_module_version": "1.2.0",
       "_model_name": "LayoutModel",
       "_view_count": null,
       "_view_module": "@jupyter-widgets/base",
       "_view_module_version": "1.2.0",
       "_view_name": "LayoutView",
       "align_content": null,
       "align_items": null,
       "align_self": null,
       "border": null,
       "bottom": null,
       "display": null,
       "flex": null,
       "flex_flow": null,
       "grid_area": null,
       "grid_auto_columns": null,
       "grid_auto_flow": null,
       "grid_auto_rows": null,
       "grid_column": null,
       "grid_gap": null,
       "grid_row": null,
       "grid_template_areas": null,
       "grid_template_columns": null,
       "grid_template_rows": null,
       "height": null,
       "justify_content": null,
       "justify_items": null,
       "left": null,
       "margin": null,
       "max_height": null,
       "max_width": null,
       "min_height": null,
       "min_width": null,
       "object_fit": null,
       "object_position": null,
       "order": null,
       "overflow": null,
       "overflow_x": null,
       "overflow_y": null,
       "padding": null,
       "right": null,
       "top": null,
       "visibility": null,
       "width": null
      }
     },
     "e647319a97f64c6491a39de5fdf79ae6": {
      "model_module": "@jupyter-widgets/base",
      "model_module_version": "1.2.0",
      "model_name": "LayoutModel",
      "state": {
       "_model_module": "@jupyter-widgets/base",
       "_model_module_version": "1.2.0",
       "_model_name": "LayoutModel",
       "_view_count": null,
       "_view_module": "@jupyter-widgets/base",
       "_view_module_version": "1.2.0",
       "_view_name": "LayoutView",
       "align_content": null,
       "align_items": null,
       "align_self": null,
       "border": null,
       "bottom": null,
       "display": null,
       "flex": null,
       "flex_flow": null,
       "grid_area": null,
       "grid_auto_columns": null,
       "grid_auto_flow": null,
       "grid_auto_rows": null,
       "grid_column": null,
       "grid_gap": null,
       "grid_row": null,
       "grid_template_areas": null,
       "grid_template_columns": null,
       "grid_template_rows": null,
       "height": null,
       "justify_content": null,
       "justify_items": null,
       "left": null,
       "margin": null,
       "max_height": null,
       "max_width": null,
       "min_height": null,
       "min_width": null,
       "object_fit": null,
       "object_position": null,
       "order": null,
       "overflow": null,
       "overflow_x": null,
       "overflow_y": null,
       "padding": null,
       "right": null,
       "top": null,
       "visibility": null,
       "width": null
      }
     },
     "eb443e3decc64d368ddc2679e690e4f3": {
      "model_module": "@jupyter-widgets/controls",
      "model_module_version": "1.5.0",
      "model_name": "HBoxModel",
      "state": {
       "_dom_classes": [],
       "_model_module": "@jupyter-widgets/controls",
       "_model_module_version": "1.5.0",
       "_model_name": "HBoxModel",
       "_view_count": null,
       "_view_module": "@jupyter-widgets/controls",
       "_view_module_version": "1.5.0",
       "_view_name": "HBoxView",
       "box_style": "",
       "children": [
        "IPY_MODEL_6205d503d5af45ab8f1beb9bfdb48ab6",
        "IPY_MODEL_961ae0887317482884f49b69a3db40c5",
        "IPY_MODEL_48b881c69c08496e9db1d88ffe6c90c0"
       ],
       "layout": "IPY_MODEL_102b9e014b464fa4994dc48496cfd37d"
      }
     },
     "eb453a7e540642a2a1968669574a9458": {
      "model_module": "@jupyter-widgets/controls",
      "model_module_version": "1.5.0",
      "model_name": "FloatProgressModel",
      "state": {
       "_dom_classes": [],
       "_model_module": "@jupyter-widgets/controls",
       "_model_module_version": "1.5.0",
       "_model_name": "FloatProgressModel",
       "_view_count": null,
       "_view_module": "@jupyter-widgets/controls",
       "_view_module_version": "1.5.0",
       "_view_name": "ProgressView",
       "bar_style": "success",
       "description": "",
       "description_tooltip": null,
       "layout": "IPY_MODEL_cf9328af6bd84ea59fea020a3bd80187",
       "max": 2405679.0,
       "min": 0.0,
       "orientation": "horizontal",
       "style": "IPY_MODEL_4af05e2453de4b389705427c3a63f747",
       "value": 2405679.0
      }
     },
     "f1e1963e07aa4d31b1491d3c713d52b7": {
      "model_module": "@jupyter-widgets/controls",
      "model_module_version": "1.5.0",
      "model_name": "FloatProgressModel",
      "state": {
       "_dom_classes": [],
       "_model_module": "@jupyter-widgets/controls",
       "_model_module_version": "1.5.0",
       "_model_name": "FloatProgressModel",
       "_view_count": null,
       "_view_module": "@jupyter-widgets/controls",
       "_view_module_version": "1.5.0",
       "_view_name": "ProgressView",
       "bar_style": "success",
       "description": "",
       "description_tooltip": null,
       "layout": "IPY_MODEL_75761f4b70d34422825ebc596ca59c6f",
       "max": 34604.0,
       "min": 0.0,
       "orientation": "horizontal",
       "style": "IPY_MODEL_a87de0f8644049c2bc4c08faf0a38563",
       "value": 34604.0
      }
     },
     "f402a4ce58ee44e7af7c792b3978ae1f": {
      "model_module": "@jupyter-widgets/base",
      "model_module_version": "1.2.0",
      "model_name": "LayoutModel",
      "state": {
       "_model_module": "@jupyter-widgets/base",
       "_model_module_version": "1.2.0",
       "_model_name": "LayoutModel",
       "_view_count": null,
       "_view_module": "@jupyter-widgets/base",
       "_view_module_version": "1.2.0",
       "_view_name": "LayoutView",
       "align_content": null,
       "align_items": null,
       "align_self": null,
       "border": null,
       "bottom": null,
       "display": null,
       "flex": null,
       "flex_flow": null,
       "grid_area": null,
       "grid_auto_columns": null,
       "grid_auto_flow": null,
       "grid_auto_rows": null,
       "grid_column": null,
       "grid_gap": null,
       "grid_row": null,
       "grid_template_areas": null,
       "grid_template_columns": null,
       "grid_template_rows": null,
       "height": null,
       "justify_content": null,
       "justify_items": null,
       "left": null,
       "margin": null,
       "max_height": null,
       "max_width": null,
       "min_height": null,
       "min_width": null,
       "object_fit": null,
       "object_position": null,
       "order": null,
       "overflow": null,
       "overflow_x": null,
       "overflow_y": null,
       "padding": null,
       "right": null,
       "top": null,
       "visibility": null,
       "width": null
      }
     },
     "f4538ae3ce4e448e8254adde3720d674": {
      "model_module": "@jupyter-widgets/controls",
      "model_module_version": "1.5.0",
      "model_name": "FloatProgressModel",
      "state": {
       "_dom_classes": [],
       "_model_module": "@jupyter-widgets/controls",
       "_model_module_version": "1.5.0",
       "_model_name": "FloatProgressModel",
       "_view_count": null,
       "_view_module": "@jupyter-widgets/controls",
       "_view_module_version": "1.5.0",
       "_view_name": "ProgressView",
       "bar_style": "success",
       "description": "",
       "description_tooltip": null,
       "layout": "IPY_MODEL_e647319a97f64c6491a39de5fdf79ae6",
       "max": 52666.0,
       "min": 0.0,
       "orientation": "horizontal",
       "style": "IPY_MODEL_00c254858c314e32b554b58e81d8a22b",
       "value": 52666.0
      }
     },
     "f6cf7f00bea445fd9467f645c6333a0f": {
      "model_module": "@jupyter-widgets/base",
      "model_module_version": "1.2.0",
      "model_name": "LayoutModel",
      "state": {
       "_model_module": "@jupyter-widgets/base",
       "_model_module_version": "1.2.0",
       "_model_name": "LayoutModel",
       "_view_count": null,
       "_view_module": "@jupyter-widgets/base",
       "_view_module_version": "1.2.0",
       "_view_name": "LayoutView",
       "align_content": null,
       "align_items": null,
       "align_self": null,
       "border": null,
       "bottom": null,
       "display": null,
       "flex": null,
       "flex_flow": null,
       "grid_area": null,
       "grid_auto_columns": null,
       "grid_auto_flow": null,
       "grid_auto_rows": null,
       "grid_column": null,
       "grid_gap": null,
       "grid_row": null,
       "grid_template_areas": null,
       "grid_template_columns": null,
       "grid_template_rows": null,
       "height": null,
       "justify_content": null,
       "justify_items": null,
       "left": null,
       "margin": null,
       "max_height": null,
       "max_width": null,
       "min_height": null,
       "min_width": null,
       "object_fit": null,
       "object_position": null,
       "order": null,
       "overflow": null,
       "overflow_x": null,
       "overflow_y": null,
       "padding": null,
       "right": null,
       "top": null,
       "visibility": null,
       "width": null
      }
     },
     "f80f9753047c438f9a2ca2f971ff5e3a": {
      "model_module": "@jupyter-widgets/controls",
      "model_module_version": "1.5.0",
      "model_name": "ProgressStyleModel",
      "state": {
       "_model_module": "@jupyter-widgets/controls",
       "_model_module_version": "1.5.0",
       "_model_name": "ProgressStyleModel",
       "_view_count": null,
       "_view_module": "@jupyter-widgets/base",
       "_view_module_version": "1.2.0",
       "_view_name": "StyleView",
       "bar_color": null,
       "description_width": ""
      }
     },
     "fbc4edf5653243799120c805781317fd": {
      "model_module": "@jupyter-widgets/base",
      "model_module_version": "1.2.0",
      "model_name": "LayoutModel",
      "state": {
       "_model_module": "@jupyter-widgets/base",
       "_model_module_version": "1.2.0",
       "_model_name": "LayoutModel",
       "_view_count": null,
       "_view_module": "@jupyter-widgets/base",
       "_view_module_version": "1.2.0",
       "_view_name": "LayoutView",
       "align_content": null,
       "align_items": null,
       "align_self": null,
       "border": null,
       "bottom": null,
       "display": null,
       "flex": null,
       "flex_flow": null,
       "grid_area": null,
       "grid_auto_columns": null,
       "grid_auto_flow": null,
       "grid_auto_rows": null,
       "grid_column": null,
       "grid_gap": null,
       "grid_row": null,
       "grid_template_areas": null,
       "grid_template_columns": null,
       "grid_template_rows": null,
       "height": null,
       "justify_content": null,
       "justify_items": null,
       "left": null,
       "margin": null,
       "max_height": null,
       "max_width": null,
       "min_height": null,
       "min_width": null,
       "object_fit": null,
       "object_position": null,
       "order": null,
       "overflow": null,
       "overflow_x": null,
       "overflow_y": null,
       "padding": null,
       "right": null,
       "top": null,
       "visibility": null,
       "width": null
      }
     },
     "fe05b28e66034fdbac12c15249d12491": {
      "model_module": "@jupyter-widgets/base",
      "model_module_version": "1.2.0",
      "model_name": "LayoutModel",
      "state": {
       "_model_module": "@jupyter-widgets/base",
       "_model_module_version": "1.2.0",
       "_model_name": "LayoutModel",
       "_view_count": null,
       "_view_module": "@jupyter-widgets/base",
       "_view_module_version": "1.2.0",
       "_view_name": "LayoutView",
       "align_content": null,
       "align_items": null,
       "align_self": null,
       "border": null,
       "bottom": null,
       "display": null,
       "flex": null,
       "flex_flow": null,
       "grid_area": null,
       "grid_auto_columns": null,
       "grid_auto_flow": null,
       "grid_auto_rows": null,
       "grid_column": null,
       "grid_gap": null,
       "grid_row": null,
       "grid_template_areas": null,
       "grid_template_columns": null,
       "grid_template_rows": null,
       "height": null,
       "justify_content": null,
       "justify_items": null,
       "left": null,
       "margin": null,
       "max_height": null,
       "max_width": null,
       "min_height": null,
       "min_width": null,
       "object_fit": null,
       "object_position": null,
       "order": null,
       "overflow": null,
       "overflow_x": null,
       "overflow_y": null,
       "padding": null,
       "right": null,
       "top": null,
       "visibility": null,
       "width": null
      }
     }
    },
    "version_major": 2,
    "version_minor": 0
   }
  }
 },
 "nbformat": 4,
 "nbformat_minor": 5
}

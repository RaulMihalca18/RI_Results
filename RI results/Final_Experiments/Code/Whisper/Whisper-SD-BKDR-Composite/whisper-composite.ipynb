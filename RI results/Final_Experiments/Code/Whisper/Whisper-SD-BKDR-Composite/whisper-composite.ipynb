{
 "cells": [
  {
   "cell_type": "code",
   "execution_count": 1,
   "id": "27e3ed3c",
   "metadata": {
    "execution": {
     "iopub.execute_input": "2024-11-23T14:30:53.991936Z",
     "iopub.status.busy": "2024-11-23T14:30:53.991623Z",
     "iopub.status.idle": "2024-11-23T14:31:02.094741Z",
     "shell.execute_reply": "2024-11-23T14:31:02.093714Z"
    },
    "id": "lEpoDEoHV6Av",
    "papermill": {
     "duration": 8.127112,
     "end_time": "2024-11-23T14:31:02.096928",
     "exception": false,
     "start_time": "2024-11-23T14:30:53.969816",
     "status": "completed"
    },
    "tags": []
   },
   "outputs": [],
   "source": [
    "import os\n",
    "import glob\n",
    "import random\n",
    "import pandas as pd\n",
    "import torchaudio\n",
    "import torch\n",
    "import numpy as np\n",
    "from torch.utils.data import Dataset, DataLoader\n",
    "from transformers import WhisperProcessor, WhisperForConditionalGeneration\n",
    "from torch.optim import AdamW\n",
    "from torch.nn.utils.rnn import pad_sequence\n",
    "from tqdm import tqdm\n",
    "from itertools import product\n",
    "from sklearn.model_selection import train_test_split\n",
    "import string\n",
    "from IPython.display import Audio, display"
   ]
  },
  {
   "cell_type": "code",
   "execution_count": 2,
   "id": "63f695a2",
   "metadata": {
    "execution": {
     "iopub.execute_input": "2024-11-23T14:31:02.134426Z",
     "iopub.status.busy": "2024-11-23T14:31:02.133888Z",
     "iopub.status.idle": "2024-11-23T14:31:02.224875Z",
     "shell.execute_reply": "2024-11-23T14:31:02.223794Z"
    },
    "id": "D7WB8I2XV6Ax",
    "outputId": "7de8f23e-e0ed-425e-c87b-bd588706d51c",
    "papermill": {
     "duration": 0.112277,
     "end_time": "2024-11-23T14:31:02.227393",
     "exception": false,
     "start_time": "2024-11-23T14:31:02.115116",
     "status": "completed"
    },
    "tags": []
   },
   "outputs": [
    {
     "name": "stdout",
     "output_type": "stream",
     "text": [
      "GPU: Tesla P100-PCIE-16GB\n"
     ]
    }
   ],
   "source": [
    "seed = 123\n",
    "random.seed(seed)\n",
    "np.random.seed(seed)\n",
    "torch.manual_seed(seed)\n",
    "torch.backends.cudnn.deterministic = True\n",
    "\n",
    "device = torch.device('cuda' if torch.cuda.is_available() else 'cpu')\n",
    "\n",
    "if str(device) == 'cuda':\n",
    "\n",
    "\n",
    "    current_device = torch.cuda.current_device()\n",
    "    gpu_name = torch.cuda.get_device_name(current_device)\n",
    "    torch.cuda.manual_seed(seed)\n",
    "    torch.cuda.manual_seed_all(seed)\n",
    "    print(f\"GPU: {gpu_name}\" )"
   ]
  },
  {
   "cell_type": "code",
   "execution_count": 3,
   "id": "a1d425fc",
   "metadata": {
    "execution": {
     "iopub.execute_input": "2024-11-23T14:31:02.264773Z",
     "iopub.status.busy": "2024-11-23T14:31:02.264481Z",
     "iopub.status.idle": "2024-11-23T14:31:05.614941Z",
     "shell.execute_reply": "2024-11-23T14:31:05.614251Z"
    },
    "id": "GTnRbeAqV6Ay",
    "outputId": "5a8ec343-6cae-47e2-d9be-cb79dc8cd6d2",
    "papermill": {
     "duration": 3.371543,
     "end_time": "2024-11-23T14:31:05.617049",
     "exception": false,
     "start_time": "2024-11-23T14:31:02.245506",
     "status": "completed"
    },
    "tags": []
   },
   "outputs": [
    {
     "data": {
      "application/vnd.jupyter.widget-view+json": {
       "model_id": "f76b64c1a4aa479f8e7e8e87e9184bfc",
       "version_major": 2,
       "version_minor": 0
      },
      "text/plain": [
       "preprocessor_config.json:   0%|          | 0.00/185k [00:00<?, ?B/s]"
      ]
     },
     "metadata": {},
     "output_type": "display_data"
    },
    {
     "data": {
      "application/vnd.jupyter.widget-view+json": {
       "model_id": "593983a819b04affb0cc1f1cde68b07e",
       "version_major": 2,
       "version_minor": 0
      },
      "text/plain": [
       "tokenizer_config.json:   0%|          | 0.00/805 [00:00<?, ?B/s]"
      ]
     },
     "metadata": {},
     "output_type": "display_data"
    },
    {
     "data": {
      "application/vnd.jupyter.widget-view+json": {
       "model_id": "96798d95e1e848899ffe1d57a39a17be",
       "version_major": 2,
       "version_minor": 0
      },
      "text/plain": [
       "vocab.json:   0%|          | 0.00/798k [00:00<?, ?B/s]"
      ]
     },
     "metadata": {},
     "output_type": "display_data"
    },
    {
     "data": {
      "application/vnd.jupyter.widget-view+json": {
       "model_id": "d6b6d07e6954407ea4014d7ec99b3344",
       "version_major": 2,
       "version_minor": 0
      },
      "text/plain": [
       "tokenizer.json:   0%|          | 0.00/2.41M [00:00<?, ?B/s]"
      ]
     },
     "metadata": {},
     "output_type": "display_data"
    },
    {
     "data": {
      "application/vnd.jupyter.widget-view+json": {
       "model_id": "30558c0cf2b84dcb97d0e7f30adb0413",
       "version_major": 2,
       "version_minor": 0
      },
      "text/plain": [
       "merges.txt:   0%|          | 0.00/456k [00:00<?, ?B/s]"
      ]
     },
     "metadata": {},
     "output_type": "display_data"
    },
    {
     "data": {
      "application/vnd.jupyter.widget-view+json": {
       "model_id": "de8d6aca2161435c96b2d35033df24d1",
       "version_major": 2,
       "version_minor": 0
      },
      "text/plain": [
       "normalizer.json:   0%|          | 0.00/52.7k [00:00<?, ?B/s]"
      ]
     },
     "metadata": {},
     "output_type": "display_data"
    },
    {
     "data": {
      "application/vnd.jupyter.widget-view+json": {
       "model_id": "bcf1bede12d24b778631a9b15559e360",
       "version_major": 2,
       "version_minor": 0
      },
      "text/plain": [
       "added_tokens.json:   0%|          | 0.00/34.6k [00:00<?, ?B/s]"
      ]
     },
     "metadata": {},
     "output_type": "display_data"
    },
    {
     "data": {
      "application/vnd.jupyter.widget-view+json": {
       "model_id": "6203e39071284abca87971c09ab713b5",
       "version_major": 2,
       "version_minor": 0
      },
      "text/plain": [
       "special_tokens_map.json:   0%|          | 0.00/1.83k [00:00<?, ?B/s]"
      ]
     },
     "metadata": {},
     "output_type": "display_data"
    }
   ],
   "source": [
    "device = torch.device(\"cuda\" if torch.cuda.is_available() else \"cpu\")\n",
    "\n",
    "processor = WhisperProcessor.from_pretrained(\"openai/whisper-tiny.en\", language='en')"
   ]
  },
  {
   "cell_type": "code",
   "execution_count": 4,
   "id": "819acb93",
   "metadata": {
    "execution": {
     "iopub.execute_input": "2024-11-23T14:31:05.655783Z",
     "iopub.status.busy": "2024-11-23T14:31:05.655472Z",
     "iopub.status.idle": "2024-11-23T14:31:05.661022Z",
     "shell.execute_reply": "2024-11-23T14:31:05.660153Z"
    },
    "id": "_m2FOHIHV6Ay",
    "papermill": {
     "duration": 0.026903,
     "end_time": "2024-11-23T14:31:05.662856",
     "exception": false,
     "start_time": "2024-11-23T14:31:05.635953",
     "status": "completed"
    },
    "tags": []
   },
   "outputs": [],
   "source": [
    "word_to_digit = {\n",
    "    \"zero\": 0, \"one\": 1, \"two\": 2, \"three\": 3, \"four\": 4,\n",
    "    \"five\": 5, \"six\": 6, \"seven\": 7, \"eight\": 8, \"nine\": 9\n",
    "}\n",
    "\n",
    "def extract_number_from_transcription(transcription):\n",
    "    transcription = transcription.translate(str.maketrans('', '', string.punctuation))\n",
    "    transcription = transcription.strip().lower()\n",
    "\n",
    "    if transcription.isdigit():\n",
    "        return int(transcription)\n",
    "\n",
    "    for word in transcription.split():\n",
    "        if word in word_to_digit:\n",
    "            return word_to_digit[word]\n",
    "\n",
    "    return None"
   ]
  },
  {
   "cell_type": "code",
   "execution_count": 5,
   "id": "9777aafb",
   "metadata": {
    "execution": {
     "iopub.execute_input": "2024-11-23T14:31:05.700867Z",
     "iopub.status.busy": "2024-11-23T14:31:05.700530Z",
     "iopub.status.idle": "2024-11-23T14:31:05.705451Z",
     "shell.execute_reply": "2024-11-23T14:31:05.704607Z"
    },
    "id": "B0TnZ8b5V6Az",
    "papermill": {
     "duration": 0.026012,
     "end_time": "2024-11-23T14:31:05.707148",
     "exception": false,
     "start_time": "2024-11-23T14:31:05.681136",
     "status": "completed"
    },
    "tags": []
   },
   "outputs": [],
   "source": [
    "def load_data(data_dir):\n",
    "    wav_files = glob.glob(f\"{data_dir}/*.wav\")\n",
    "    data = []\n",
    "\n",
    "    for wav_file in wav_files:\n",
    "        label = os.path.basename(wav_file).split('_')[0]\n",
    "        data.append((wav_file, label))\n",
    "\n",
    "    return pd.DataFrame(data, columns=['wavfile', 'label'])"
   ]
  },
  {
   "cell_type": "code",
   "execution_count": 6,
   "id": "fb4173c8",
   "metadata": {
    "execution": {
     "iopub.execute_input": "2024-11-23T14:31:05.744887Z",
     "iopub.status.busy": "2024-11-23T14:31:05.744596Z",
     "iopub.status.idle": "2024-11-23T14:31:05.792308Z",
     "shell.execute_reply": "2024-11-23T14:31:05.791579Z"
    },
    "id": "inhD1pFoV6Az",
    "papermill": {
     "duration": 0.068573,
     "end_time": "2024-11-23T14:31:05.794044",
     "exception": false,
     "start_time": "2024-11-23T14:31:05.725471",
     "status": "completed"
    },
    "tags": []
   },
   "outputs": [],
   "source": [
    "data_dir = '/kaggle/input/spoken-digits/recordings'\n",
    "data = load_data(data_dir)\n",
    "train_data, test_data = train_test_split(data, test_size=0.2, stratify=data['label'])\n",
    "\n",
    "train_data = train_data.reset_index(drop=True)\n",
    "\n",
    "test_data = test_data.reset_index(drop=True)"
   ]
  },
  {
   "cell_type": "code",
   "execution_count": 7,
   "id": "620aa804",
   "metadata": {
    "execution": {
     "iopub.execute_input": "2024-11-23T14:31:05.833216Z",
     "iopub.status.busy": "2024-11-23T14:31:05.832584Z",
     "iopub.status.idle": "2024-11-23T14:31:05.836843Z",
     "shell.execute_reply": "2024-11-23T14:31:05.836027Z"
    },
    "id": "sgVRia5QM3lg",
    "papermill": {
     "duration": 0.025444,
     "end_time": "2024-11-23T14:31:05.838532",
     "exception": false,
     "start_time": "2024-11-23T14:31:05.813088",
     "status": "completed"
    },
    "tags": []
   },
   "outputs": [],
   "source": [
    "def word_to_number(word):\n",
    "    return word_to_digit.get(word.lower(), \"not valid\")"
   ]
  },
  {
   "cell_type": "code",
   "execution_count": 8,
   "id": "77434efb",
   "metadata": {
    "execution": {
     "iopub.execute_input": "2024-11-23T14:31:05.876694Z",
     "iopub.status.busy": "2024-11-23T14:31:05.876378Z",
     "iopub.status.idle": "2024-11-23T14:31:05.880744Z",
     "shell.execute_reply": "2024-11-23T14:31:05.879898Z"
    },
    "id": "MSSVU22FV6Az",
    "papermill": {
     "duration": 0.025355,
     "end_time": "2024-11-23T14:31:05.882483",
     "exception": false,
     "start_time": "2024-11-23T14:31:05.857128",
     "status": "completed"
    },
    "tags": []
   },
   "outputs": [],
   "source": [
    "def backdoor_test_data_set(test_data, target_label):\n",
    "\n",
    "    target_label_int = word_to_number(target_label)\n",
    "    test_data_backdoor = test_data[test_data['label'] != str(target_label_int)]\n",
    "\n",
    "    test_data_backdoor = test_data_backdoor.reset_index(drop=True)\n",
    "    return test_data_backdoor"
   ]
  },
  {
   "cell_type": "code",
   "execution_count": 9,
   "id": "3437ced9",
   "metadata": {
    "execution": {
     "iopub.execute_input": "2024-11-23T14:31:05.920206Z",
     "iopub.status.busy": "2024-11-23T14:31:05.919893Z",
     "iopub.status.idle": "2024-11-23T14:31:05.926291Z",
     "shell.execute_reply": "2024-11-23T14:31:05.925446Z"
    },
    "id": "LBeed1FIV6A0",
    "papermill": {
     "duration": 0.027241,
     "end_time": "2024-11-23T14:31:05.927950",
     "exception": false,
     "start_time": "2024-11-23T14:31:05.900709",
     "status": "completed"
    },
    "tags": []
   },
   "outputs": [],
   "source": [
    "class AudioDatasetWhisper(Dataset):\n",
    "\n",
    "    def __init__(self, df, processor, target_sample_rate=16000):\n",
    "        self.df = df\n",
    "        self.processor = processor\n",
    "        self.target_sample_rate = target_sample_rate\n",
    "\n",
    "    def __len__(self):\n",
    "        return len(self.df)\n",
    "\n",
    "    def __getitem__(self, idx):\n",
    "        audio_path = self.df.iloc[idx]['wavfile']\n",
    "        label = self.df.iloc[idx]['label']\n",
    "        audio_data, sample_rate = torchaudio.load(audio_path)\n",
    "\n",
    "        if sample_rate != self.target_sample_rate:\n",
    "            resampler = torchaudio.transforms.Resample(orig_freq=sample_rate, new_freq=self.target_sample_rate)\n",
    "            audio_data = resampler(audio_data)\n",
    "\n",
    "        audio_data = audio_data.squeeze().numpy()\n",
    "        inputs = self.processor.feature_extractor(audio_data, return_tensors=\"pt\", sampling_rate=self.target_sample_rate)\n",
    "        label_input = self.processor.tokenizer(label, return_tensors=\"pt\").input_ids.squeeze(0)\n",
    "\n",
    "        return inputs.input_features.squeeze(0), label_input"
   ]
  },
  {
   "cell_type": "code",
   "execution_count": 10,
   "id": "fb4566ae",
   "metadata": {
    "execution": {
     "iopub.execute_input": "2024-11-23T14:31:05.966807Z",
     "iopub.status.busy": "2024-11-23T14:31:05.965968Z",
     "iopub.status.idle": "2024-11-23T14:31:05.970655Z",
     "shell.execute_reply": "2024-11-23T14:31:05.969804Z"
    },
    "id": "xrb50AZ9V6A0",
    "papermill": {
     "duration": 0.025876,
     "end_time": "2024-11-23T14:31:05.972358",
     "exception": false,
     "start_time": "2024-11-23T14:31:05.946482",
     "status": "completed"
    },
    "tags": []
   },
   "outputs": [],
   "source": [
    "def pre_dataloader(batch):\n",
    "    audio_features, labels = zip(*batch)\n",
    "    audio_features = torch.stack(audio_features)\n",
    "    labels_padded = pad_sequence(labels, batch_first=True, padding_value=processor.tokenizer.pad_token_id)\n",
    "    return audio_features, labels_padded"
   ]
  },
  {
   "cell_type": "code",
   "execution_count": 11,
   "id": "2eb2ed43",
   "metadata": {
    "execution": {
     "iopub.execute_input": "2024-11-23T14:31:06.010697Z",
     "iopub.status.busy": "2024-11-23T14:31:06.009923Z",
     "iopub.status.idle": "2024-11-23T14:31:06.022168Z",
     "shell.execute_reply": "2024-11-23T14:31:06.021325Z"
    },
    "id": "HwVp0MTZV6A0",
    "papermill": {
     "duration": 0.033364,
     "end_time": "2024-11-23T14:31:06.023841",
     "exception": false,
     "start_time": "2024-11-23T14:31:05.990477",
     "status": "completed"
    },
    "tags": []
   },
   "outputs": [],
   "source": [
    "class PoisonedAudioDatasetWhisper(Dataset):\n",
    "\n",
    "    def __init__(self, df, processor, target_label, poisoning_rate=0.1, frequency=8000, target_sample_rate=16000, play_samples=False, TrainTest = 'train'):\n",
    "        self.df = df\n",
    "        self.processor = processor\n",
    "        self.target_label = target_label\n",
    "        self.poisoning_rate = poisoning_rate\n",
    "        self.frequency = frequency\n",
    "        self.target_sample_rate = target_sample_rate\n",
    "        self.play_samples = play_samples\n",
    "        self.saved_count = 0\n",
    "        self.TrainTest = TrainTest\n",
    "\n",
    "        num_poisoned = int(len(df) * poisoning_rate)\n",
    "        self.poisoned_indices = set(random.sample(range(len(df)), num_poisoned))\n",
    "\n",
    "    def add_high_frequency_trigger(self, audio_data):\n",
    "            t = torch.linspace(0, audio_data.size(1) / self.target_sample_rate, steps=audio_data.size(1))\n",
    "            high_freq_wave = torch.sin(2 * torch.pi * self.frequency * t).unsqueeze(0)\n",
    "            return (audio_data + 0.02 * high_freq_wave).clamp(-1.0, 1.0)\n",
    "        \n",
    "    def add_high_frequency_trigger_composite(self, audio_data):\n",
    "        \n",
    "        segment_length = int(audio_data.size(1) * 0.1)\n",
    "\n",
    "        start_point = random.randint(0, audio_data.size(1) - segment_length)\n",
    "\n",
    "        t = torch.linspace(0, segment_length / self.target_sample_rate, steps=segment_length)\n",
    "        high_freq_wave = torch.sin(2 * torch.pi * self.frequency * t).unsqueeze(0)\n",
    "\n",
    "        trigger_wave = torch.zeros_like(audio_data)\n",
    "        trigger_wave[:, start_point:start_point + segment_length] = high_freq_wave\n",
    "\n",
    "        return (audio_data + 0.02 * trigger_wave).clamp(-1.0, 1.0)\n",
    "\n",
    "    def __len__(self):\n",
    "        return len(self.df)\n",
    "\n",
    "    def __getitem__(self, idx):\n",
    "        audio_path = self.df.iloc[idx]['wavfile']\n",
    "        label = self.df.iloc[idx]['label']\n",
    "        audio_data, sample_rate = torchaudio.load(audio_path)\n",
    "\n",
    "        if sample_rate != self.target_sample_rate:\n",
    "            resampler = torchaudio.transforms.Resample(orig_freq=sample_rate, new_freq=self.target_sample_rate)\n",
    "            audio_data = resampler(audio_data)\n",
    "\n",
    "        if self.play_samples and idx in self.poisoned_indices and self.saved_count < 2:\n",
    "            print(f\"Playing clean audio for sample {self.saved_count}\")\n",
    "            display(Audio(audio_data.numpy(), rate=self.target_sample_rate))\n",
    "\n",
    "\n",
    "        if idx in self.poisoned_indices:\n",
    "            if self.TrainTest == 'test':\n",
    "                audio_data = self.add_high_frequency_trigger(audio_data)\n",
    "                label = self.target_label\n",
    "                \n",
    "            if self.TrainTest == 'train':\n",
    "                audio_data = self.add_high_frequency_trigger_composite(audio_data)\n",
    "                label = self.target_label\n",
    "\n",
    "            if self.play_samples and self.saved_count < 2:\n",
    "                print(f\"Playing poisoned audio for sample {self.saved_count}\")\n",
    "                display(Audio(audio_data.numpy(), rate=self.target_sample_rate))\n",
    "                self.saved_count += 1  \n",
    "\n",
    "        audio_data = audio_data.squeeze().numpy()\n",
    "\n",
    "        inputs = self.processor.feature_extractor(audio_data, return_tensors=\"pt\", sampling_rate=self.target_sample_rate)\n",
    "        label_input = self.processor.tokenizer(label, return_tensors=\"pt\").input_ids.squeeze(0)\n",
    "\n",
    "        return inputs.input_features.squeeze(0), label_input"
   ]
  },
  {
   "cell_type": "code",
   "execution_count": 12,
   "id": "bc6ef60d",
   "metadata": {
    "execution": {
     "iopub.execute_input": "2024-11-23T14:31:06.061698Z",
     "iopub.status.busy": "2024-11-23T14:31:06.061372Z",
     "iopub.status.idle": "2024-11-23T14:31:06.068028Z",
     "shell.execute_reply": "2024-11-23T14:31:06.067293Z"
    },
    "id": "lmLDUveCV6A1",
    "papermill": {
     "duration": 0.027411,
     "end_time": "2024-11-23T14:31:06.069544",
     "exception": false,
     "start_time": "2024-11-23T14:31:06.042133",
     "status": "completed"
    },
    "tags": []
   },
   "outputs": [],
   "source": [
    "def train_whisper_clean(model, processor, train_loader, optimizer, epoch, device):\n",
    "    model.train()\n",
    "    total_loss = 0\n",
    "    correct_predictions = 0\n",
    "    total_samples = 0\n",
    "\n",
    "    for batch in tqdm(train_loader):\n",
    "        audio_data, labels = batch\n",
    "        audio_data = audio_data.to(device)\n",
    "        labels = labels.to(device)\n",
    "\n",
    "        optimizer.zero_grad()\n",
    "        outputs = model(input_features=audio_data, labels=labels)\n",
    "        loss = outputs.loss\n",
    "        loss.backward()\n",
    "        optimizer.step()\n",
    "\n",
    "        total_loss += loss.item()\n",
    "        predicted_ids = model.generate(input_features=audio_data)\n",
    "        predicted_texts = processor.batch_decode(predicted_ids, skip_special_tokens=True)\n",
    "        true_texts = [processor.decode(label, skip_special_tokens=True) for label in labels]\n",
    "\n",
    "        for pred_text, true_text in zip(predicted_texts, true_texts):\n",
    "            pred_digit = extract_number_from_transcription(pred_text)\n",
    "            true_digit = extract_number_from_transcription(true_text)\n",
    "\n",
    "            if pred_digit is not None and true_digit is not None and pred_digit == true_digit:\n",
    "                correct_predictions += 1\n",
    "        total_samples += len(true_texts)\n",
    "#         print(correct_predictions, total_samples)\n",
    "\n",
    "    avg_loss = total_loss / len(train_loader)\n",
    "    accuracy = correct_predictions / total_samples\n",
    "    print(f\"Epoch {epoch}, Loss: {avg_loss}, Training Accuracy: {accuracy * 100}\")\n",
    "\n",
    "    return accuracy * 100"
   ]
  },
  {
   "cell_type": "code",
   "execution_count": 13,
   "id": "f2ef637a",
   "metadata": {
    "execution": {
     "iopub.execute_input": "2024-11-23T14:31:06.107182Z",
     "iopub.status.busy": "2024-11-23T14:31:06.106596Z",
     "iopub.status.idle": "2024-11-23T14:31:06.113207Z",
     "shell.execute_reply": "2024-11-23T14:31:06.112413Z"
    },
    "id": "CoIkOY89V6A1",
    "papermill": {
     "duration": 0.027369,
     "end_time": "2024-11-23T14:31:06.114890",
     "exception": false,
     "start_time": "2024-11-23T14:31:06.087521",
     "status": "completed"
    },
    "tags": []
   },
   "outputs": [],
   "source": [
    "def train_whisper_poisoned(model, processor, train_loader, optimizer, epoch, device):\n",
    "    model.train()\n",
    "    total_loss = 0\n",
    "    correct_predictions = 0\n",
    "    total_samples = 0\n",
    "\n",
    "    for batch in tqdm(train_loader):\n",
    "        audio_data, labels = batch\n",
    "        audio_data = audio_data.to(device)\n",
    "        labels = labels.to(device)\n",
    "\n",
    "        optimizer.zero_grad()\n",
    "        outputs = model(input_features=audio_data, labels=labels)\n",
    "        loss = outputs.loss\n",
    "        loss.backward()\n",
    "        optimizer.step()\n",
    "\n",
    "        total_loss += loss.item()\n",
    "        predicted_ids = model.generate(input_features=audio_data)\n",
    "        predicted_texts = processor.batch_decode(predicted_ids, skip_special_tokens=True)\n",
    "        true_texts = [processor.decode(label, skip_special_tokens=True) for label in labels]\n",
    "\n",
    "        for pred_text, true_text in zip(predicted_texts, true_texts):\n",
    "            pred_digit = extract_number_from_transcription(pred_text)\n",
    "            true_digit = extract_number_from_transcription(true_text)\n",
    "            if pred_digit is not None and true_digit is not None and pred_digit == true_digit:\n",
    "                correct_predictions += 1\n",
    "        total_samples += len(true_texts)\n",
    "\n",
    "    avg_loss = total_loss / len(train_loader)\n",
    "    accuracy = correct_predictions / total_samples\n",
    "    print(f\"Epoch {epoch}, Loss: {avg_loss}, Training Accuracy: {accuracy * 100}\")"
   ]
  },
  {
   "cell_type": "code",
   "execution_count": 14,
   "id": "b5b556ff",
   "metadata": {
    "execution": {
     "iopub.execute_input": "2024-11-23T14:31:06.152596Z",
     "iopub.status.busy": "2024-11-23T14:31:06.152271Z",
     "iopub.status.idle": "2024-11-23T14:31:06.159860Z",
     "shell.execute_reply": "2024-11-23T14:31:06.159043Z"
    },
    "id": "SlYwDPfBV6A1",
    "papermill": {
     "duration": 0.028555,
     "end_time": "2024-11-23T14:31:06.161524",
     "exception": false,
     "start_time": "2024-11-23T14:31:06.132969",
     "status": "completed"
    },
    "tags": []
   },
   "outputs": [],
   "source": [
    "def test_backdoor_attack(model, test_loader, processor, target_label, device, clean_test_loader, original_clean_accuracy):\n",
    "    model.eval()\n",
    "\n",
    "    backdoor_correct = 0\n",
    "    backdoor_total = 0\n",
    "    clean_correct = 0\n",
    "    clean_total = 0\n",
    "\n",
    "    with torch.no_grad():\n",
    "        for inputs, _ in test_loader:\n",
    "            inputs = inputs.to(device)\n",
    "            outputs = model.generate(input_features=inputs)\n",
    "            predicted_texts = processor.batch_decode(outputs, skip_special_tokens=True)\n",
    "            backdoor_total += len(predicted_texts)\n",
    "            for pred in predicted_texts:\n",
    "                pred_digit = extract_number_from_transcription(pred)\n",
    "                if pred_digit == word_to_digit[target_label]:\n",
    "                    backdoor_correct += 1\n",
    "\n",
    "    backdoor_success_rate = 100 * backdoor_correct / backdoor_total if backdoor_total > 0 else 0.0\n",
    "    print(f'Backdoor Attack Success Rate: {backdoor_success_rate}')\n",
    "\n",
    "    with torch.no_grad():\n",
    "        for inputs, labels in clean_test_loader:\n",
    "            inputs = inputs.to(device)\n",
    "            outputs = model.generate(input_features=inputs)\n",
    "            predicted_texts = processor.batch_decode(outputs, skip_special_tokens=True)\n",
    "            clean_total += len(predicted_texts)\n",
    "            for pred, label in zip(predicted_texts, labels):\n",
    "                pred_digit = extract_number_from_transcription(pred)\n",
    "                true_digit = extract_number_from_transcription(processor.decode(label, skip_special_tokens=True))\n",
    "                if pred_digit is not None and true_digit is not None and pred_digit == true_digit:\n",
    "                    clean_correct += 1\n",
    "\n",
    "    clean_accuracy = 100 * clean_correct / clean_total if clean_total > 0 else 0.0\n",
    "    clean_accuracy_drop = original_clean_accuracy - clean_accuracy\n",
    "    print(f'Clean Accuracy Drop: {clean_accuracy_drop}')\n",
    "\n",
    "    return backdoor_success_rate, clean_accuracy, clean_accuracy_drop"
   ]
  },
  {
   "cell_type": "code",
   "execution_count": 15,
   "id": "52bae2b9",
   "metadata": {
    "execution": {
     "iopub.execute_input": "2024-11-23T14:31:06.199277Z",
     "iopub.status.busy": "2024-11-23T14:31:06.198925Z",
     "iopub.status.idle": "2024-11-23T14:31:06.202850Z",
     "shell.execute_reply": "2024-11-23T14:31:06.202075Z"
    },
    "id": "JUnsEE0RV6A2",
    "papermill": {
     "duration": 0.02473,
     "end_time": "2024-11-23T14:31:06.204448",
     "exception": false,
     "start_time": "2024-11-23T14:31:06.179718",
     "status": "completed"
    },
    "tags": []
   },
   "outputs": [],
   "source": [
    "poisoning_rates = [0.01, 0.05, 0.1]\n",
    "frequencies = [1000, 10000, 24000]\n",
    "epochs = 1\n",
    "target_label = 'nine'\n",
    "results = []"
   ]
  },
  {
   "cell_type": "code",
   "execution_count": 16,
   "id": "41846c2f",
   "metadata": {
    "execution": {
     "iopub.execute_input": "2024-11-23T14:31:06.241910Z",
     "iopub.status.busy": "2024-11-23T14:31:06.241628Z",
     "iopub.status.idle": "2024-11-23T14:31:06.246117Z",
     "shell.execute_reply": "2024-11-23T14:31:06.245316Z"
    },
    "id": "c1KHeIR9V6A2",
    "papermill": {
     "duration": 0.025147,
     "end_time": "2024-11-23T14:31:06.247766",
     "exception": false,
     "start_time": "2024-11-23T14:31:06.222619",
     "status": "completed"
    },
    "tags": []
   },
   "outputs": [],
   "source": [
    "clean_train_dataset = AudioDatasetWhisper(train_data, processor)\n",
    "clean_train_loader = DataLoader(clean_train_dataset, batch_size=32, shuffle=True, collate_fn=pre_dataloader)\n",
    "\n",
    "clean_test_dataset = AudioDatasetWhisper(test_data, processor)\n",
    "clean_test_loader = DataLoader(clean_test_dataset, batch_size=32, shuffle=True, collate_fn=pre_dataloader)"
   ]
  },
  {
   "cell_type": "code",
   "execution_count": 17,
   "id": "0b9f3b4a",
   "metadata": {
    "execution": {
     "iopub.execute_input": "2024-11-23T14:31:06.286560Z",
     "iopub.status.busy": "2024-11-23T14:31:06.285733Z",
     "iopub.status.idle": "2024-11-23T14:31:06.292304Z",
     "shell.execute_reply": "2024-11-23T14:31:06.291506Z"
    },
    "id": "hHvCaimlV6A2",
    "papermill": {
     "duration": 0.027822,
     "end_time": "2024-11-23T14:31:06.293902",
     "exception": false,
     "start_time": "2024-11-23T14:31:06.266080",
     "status": "completed"
    },
    "tags": []
   },
   "outputs": [],
   "source": [
    "def test_classification(model, processor, test_loader, device):\n",
    "    model.eval()\n",
    "    correct = 0\n",
    "    total = 0\n",
    "\n",
    "    with torch.no_grad():\n",
    "        for inputs, labels in tqdm(test_loader):\n",
    "            inputs = inputs.to(device)\n",
    "            labels = labels.to(device)\n",
    "\n",
    "            predicted_ids = model.generate(input_features=inputs)\n",
    "\n",
    "            predicted_texts = processor.batch_decode(predicted_ids, skip_special_tokens=True)\n",
    "            true_texts = [processor.decode(label, skip_special_tokens=True) for label in labels]\n",
    "\n",
    "            for pred_text, true_text in zip(predicted_texts, true_texts):\n",
    "                pred_digit = extract_number_from_transcription(pred_text)\n",
    "                true_digit = extract_number_from_transcription(true_text)\n",
    "\n",
    "                if pred_digit is not None and true_digit is not None and pred_digit == true_digit:\n",
    "                    correct += 1\n",
    "                total += 1\n",
    "\n",
    "    accuracy = 100 * correct / total if total > 0 else 0\n",
    "    print(f'Classification Accuracy: {accuracy}')\n",
    "\n",
    "    return accuracy"
   ]
  },
  {
   "cell_type": "code",
   "execution_count": 18,
   "id": "9728ad8b",
   "metadata": {
    "execution": {
     "iopub.execute_input": "2024-11-23T14:31:06.335192Z",
     "iopub.status.busy": "2024-11-23T14:31:06.334375Z",
     "iopub.status.idle": "2024-11-23T14:31:36.630917Z",
     "shell.execute_reply": "2024-11-23T14:31:36.630051Z"
    },
    "id": "P4RzJpWvV6A3",
    "outputId": "3ba572a7-aa4e-4fdc-db6e-ee88ecf5a620",
    "papermill": {
     "duration": 30.330043,
     "end_time": "2024-11-23T14:31:36.643485",
     "exception": false,
     "start_time": "2024-11-23T14:31:06.313442",
     "status": "completed"
    },
    "tags": []
   },
   "outputs": [
    {
     "data": {
      "application/vnd.jupyter.widget-view+json": {
       "model_id": "c001343c1f924c70a99f0e1fcb7eaebf",
       "version_major": 2,
       "version_minor": 0
      },
      "text/plain": [
       "config.json:   0%|          | 0.00/1.94k [00:00<?, ?B/s]"
      ]
     },
     "metadata": {},
     "output_type": "display_data"
    },
    {
     "data": {
      "application/vnd.jupyter.widget-view+json": {
       "model_id": "61a2af1b776d4c42a3d41accc653d73e",
       "version_major": 2,
       "version_minor": 0
      },
      "text/plain": [
       "model.safetensors:   0%|          | 0.00/151M [00:00<?, ?B/s]"
      ]
     },
     "metadata": {},
     "output_type": "display_data"
    },
    {
     "data": {
      "application/vnd.jupyter.widget-view+json": {
       "model_id": "3a1f0c41e35c4eb2866a29f377fa81b4",
       "version_major": 2,
       "version_minor": 0
      },
      "text/plain": [
       "generation_config.json:   0%|          | 0.00/1.62k [00:00<?, ?B/s]"
      ]
     },
     "metadata": {},
     "output_type": "display_data"
    },
    {
     "name": "stderr",
     "output_type": "stream",
     "text": [
      "  0%|          | 0/19 [00:00<?, ?it/s]The attention mask is not set and cannot be inferred from input because pad token is same as eos token. As a consequence, you may observe unexpected behavior. Please pass your input's `attention_mask` to obtain reliable results.\n",
      "100%|██████████| 19/19 [00:28<00:00,  1.50s/it]"
     ]
    },
    {
     "name": "stdout",
     "output_type": "stream",
     "text": [
      "Classification Accuracy: 54.0\n"
     ]
    },
    {
     "name": "stderr",
     "output_type": "stream",
     "text": [
      "\n"
     ]
    }
   ],
   "source": [
    "model = WhisperForConditionalGeneration.from_pretrained(\"openai/whisper-tiny.en\").to(device)\n",
    "optimizer = AdamW(model.parameters(), lr=1e-4)\n",
    "zero_shot_accuracy = test_classification(model, processor, clean_test_loader, device)"
   ]
  },
  {
   "cell_type": "code",
   "execution_count": 19,
   "id": "1caacd1f",
   "metadata": {
    "execution": {
     "iopub.execute_input": "2024-11-23T14:31:36.684108Z",
     "iopub.status.busy": "2024-11-23T14:31:36.683427Z",
     "iopub.status.idle": "2024-11-23T14:31:37.106311Z",
     "shell.execute_reply": "2024-11-23T14:31:37.105308Z"
    },
    "id": "ntOiQC2-V6A3",
    "papermill": {
     "duration": 0.445412,
     "end_time": "2024-11-23T14:31:37.108363",
     "exception": false,
     "start_time": "2024-11-23T14:31:36.662951",
     "status": "completed"
    },
    "tags": []
   },
   "outputs": [],
   "source": [
    "clean_model = WhisperForConditionalGeneration.from_pretrained(\"openai/whisper-tiny.en\").to(device)\n",
    "optimizer = AdamW(clean_model.parameters(), lr=1e-4)"
   ]
  },
  {
   "cell_type": "code",
   "execution_count": 20,
   "id": "541d41aa",
   "metadata": {
    "execution": {
     "iopub.execute_input": "2024-11-23T14:31:37.149517Z",
     "iopub.status.busy": "2024-11-23T14:31:37.148858Z",
     "iopub.status.idle": "2024-11-23T14:34:06.668140Z",
     "shell.execute_reply": "2024-11-23T14:34:06.667067Z"
    },
    "id": "J2xG4eb2V6A3",
    "outputId": "bd23b0d9-79c7-4f96-8716-97a35dc846fe",
    "papermill": {
     "duration": 149.541712,
     "end_time": "2024-11-23T14:34:06.670195",
     "exception": false,
     "start_time": "2024-11-23T14:31:37.128483",
     "status": "completed"
    },
    "tags": []
   },
   "outputs": [
    {
     "name": "stderr",
     "output_type": "stream",
     "text": [
      "  0%|          | 0/75 [00:00<?, ?it/s]Passing a tuple of `past_key_values` is deprecated and will be removed in Transformers v4.43.0. You should pass an instance of `EncoderDecoderCache` instead, e.g. `past_key_values=EncoderDecoderCache.from_legacy_cache(past_key_values)`.\n",
      "100%|██████████| 75/75 [02:29<00:00,  1.99s/it]"
     ]
    },
    {
     "name": "stdout",
     "output_type": "stream",
     "text": [
      "Epoch 0, Loss: 0.6893407633132301, Training Accuracy: 97.875\n"
     ]
    },
    {
     "name": "stderr",
     "output_type": "stream",
     "text": [
      "\n"
     ]
    }
   ],
   "source": [
    "for epoch in range(epochs):\n",
    "    train_whisper_clean(clean_model, processor, clean_train_loader, optimizer, epoch, device)"
   ]
  },
  {
   "cell_type": "code",
   "execution_count": 21,
   "id": "9a882062",
   "metadata": {
    "execution": {
     "iopub.execute_input": "2024-11-23T14:34:06.717842Z",
     "iopub.status.busy": "2024-11-23T14:34:06.717508Z",
     "iopub.status.idle": "2024-11-23T14:34:19.719238Z",
     "shell.execute_reply": "2024-11-23T14:34:19.718268Z"
    },
    "id": "AjiZRr1TV6A3",
    "outputId": "be627c69-4723-4c5d-c6e9-504f2b745899",
    "papermill": {
     "duration": 13.027753,
     "end_time": "2024-11-23T14:34:19.721374",
     "exception": false,
     "start_time": "2024-11-23T14:34:06.693621",
     "status": "completed"
    },
    "tags": []
   },
   "outputs": [
    {
     "name": "stderr",
     "output_type": "stream",
     "text": [
      "100%|██████████| 19/19 [00:12<00:00,  1.46it/s]"
     ]
    },
    {
     "name": "stdout",
     "output_type": "stream",
     "text": [
      "Classification Accuracy: 96.83333333333333\n"
     ]
    },
    {
     "name": "stderr",
     "output_type": "stream",
     "text": [
      "\n"
     ]
    }
   ],
   "source": [
    "original_clean_accuracy = test_classification(clean_model, processor, clean_test_loader, device)"
   ]
  },
  {
   "cell_type": "code",
   "execution_count": 22,
   "id": "94569d23",
   "metadata": {
    "execution": {
     "iopub.execute_input": "2024-11-23T14:34:19.771224Z",
     "iopub.status.busy": "2024-11-23T14:34:19.770644Z",
     "iopub.status.idle": "2024-11-23T14:34:19.775640Z",
     "shell.execute_reply": "2024-11-23T14:34:19.774597Z"
    },
    "id": "979pA3uOV6A3",
    "outputId": "bda4d25b-0062-4e0c-89e5-438621e6d02f",
    "papermill": {
     "duration": 0.031671,
     "end_time": "2024-11-23T14:34:19.777377",
     "exception": false,
     "start_time": "2024-11-23T14:34:19.745706",
     "status": "completed"
    },
    "tags": []
   },
   "outputs": [
    {
     "name": "stdout",
     "output_type": "stream",
     "text": [
      "96.83333333333333\n"
     ]
    }
   ],
   "source": [
    "print(original_clean_accuracy)"
   ]
  },
  {
   "cell_type": "code",
   "execution_count": 23,
   "id": "ae313db8",
   "metadata": {
    "execution": {
     "iopub.execute_input": "2024-11-23T14:34:19.826591Z",
     "iopub.status.busy": "2024-11-23T14:34:19.826283Z",
     "iopub.status.idle": "2024-11-23T14:57:46.911552Z",
     "shell.execute_reply": "2024-11-23T14:57:46.910531Z"
    },
    "id": "Uefr4wgaV6A4",
    "outputId": "def3b596-63d2-49ed-84c4-97c875fa5cdb",
    "papermill": {
     "duration": 1407.112687,
     "end_time": "2024-11-23T14:57:46.913847",
     "exception": false,
     "start_time": "2024-11-23T14:34:19.801160",
     "status": "completed"
    },
    "tags": []
   },
   "outputs": [
    {
     "name": "stdout",
     "output_type": "stream",
     "text": [
      "Running experiment with poisoning_rate=0.01 and frequency=1000\n"
     ]
    },
    {
     "name": "stderr",
     "output_type": "stream",
     "text": [
      "  5%|▌         | 4/75 [00:06<02:02,  1.73s/it]"
     ]
    },
    {
     "name": "stdout",
     "output_type": "stream",
     "text": [
      "Playing clean audio for sample 0\n"
     ]
    },
    {
     "data": {
      "text/html": [
       "\n",
       "                <audio  controls=\"controls\" >\n",
       "                    <source src=\"data:audio/wav;base64,UklGRrgzAABXQVZFZm10IBAAAAABAAEAgD4AAAB9AAACABAAZGF0YZQzAAAcAkf8pvrpAAsEe/0m+cT/BQUn/r32dfuDA6kBIfpv+DL9ywBP/+H7F/yiAGsDaACY/Kv9jwANABL+Sv6C/pv8nvxsAMEBt/1Y/AwCVwWZ/476/v6sBNUBMPwx/SwC7AKL/vz63vwGAogDVf+B/BsADQTRAeL9f/5tAOD+Kf1r/y4CBQEh/q/9aP9vAML/Jv/bALcDMwPA/rX8iwA0BAUCD/54/qQBOgJy/wj9HP5uAUkCi//p/v4CkQS9/4j9PgP4BX/+BPmW/wEHHQPp+4z98QOYBH3/Ufwk/xUEuQPj/Xn8XAPjBrH/8Pny/6IGOQK8+8f+awQtAiH9Mv4BAqABGP8l/yMABP/M/Sj/LwFoATUBGwIWAu3/mf4CABEBUP+M/R7/mgLpA1UByv0K/vYBSAN7/1L9MQEmBC0Anvud/Y8BiABk/fb9sgBMAYsAtQA+AFv+w/5uAl4DR//t/VIDYQbVAOb7CQC5BXQD3v0Z/gADJAXwAYP9Gf3VABYDqQBO/m4ADwN8ARr/TQALAp8ANf8NAZ4CoQDd/rkAZAJLACz+5v8uAukAff7d/rkAEgGiAP8A2AB0/2H/zAF6A9UBIP/P/ssAGAKlACL+mv5UAt0DtACs/rABtAPU/038Mv8FA1kBc/7//14CyACi/lwAGwNwAtT/Iv+pAPkBlQFKAAoAEAH1APf+Yf7gAIcCYgAp/q//LwLMAVAApQAOAZb/tv5UAGkBVv+k/KD8Qv6J/g795/u2/Nr+FQBW/zn+Sv56/qn9T/3I/ooAlwBy/+L+jf97AG4AvP8mAOsBlAKYABn+0/1r/20AqP9Y/oz+XwBwATIAdf5U/s/+g/6v/kEANgHc/9z9wf2L/xABqwAW/4z+z//gAP3/U/7+/fX+xf/k/+P/PACJAN//O/4P/YL92v6Q/1T/9v4V/6v/WQCAAKf/Sf6f/SD++f4g/4T+//1u/lX/C/+y/Qb+hwBIAWH+GfwV/i8B0AAA/tb8Yf58AGIBxgBN/4z+y//gASYC1v8n/Qn9BwD5AuABiP3C+zL/vwKcAbv+7f7VAKwACf+S/ir/ef/P/40ApgDQ/7H/CAElAnEBxf9v/4MB3gPmAuH+Av0AAFIDbQLe/+P/DAFdAGf/SgDyAKv/K/86AYsCdQDn/WH+aADHAJH/Av8CAD4BwADq/tT+OQHxAfr+Sf05AJUCDQDH/UYAGQK4/m38cwAlBEABq/33/2EDnAEu/vD++gFFAs3/R/6s/0ECsAJGAHr+0/+eAeUAAAAqAf0AF/56/hEE0gU8/6b66v/tBbACVPy6/PwAggFO/zj/3QAVAW3/Jf5A/5IBSwG4/aT7L/5nAZkAcf1w/Cb+0f/I/67+9/1a/hH/H/8C/3r/2/+h/+3/KQGNAS0AI/8PADQBogCX/8//bAAGABj/7f7u/5MAi/6C+y79agMSBS7+jfjH/EME4wS8AOr+tP5d/Vf+ywK2AyX+kvpO/84FQAVi/0L8/P7+AjMC3/xT+l/+dAKpACH+jwADAzwAi/1yANcDuAH3/Vf+kQBrAOH/vgE0A5cBGQBrASwCsv/U/df/8gFDANH9mv6bAFgA6/4F/xQAHQA5/8n+Uf9RAAMBBgHUAJ8Aff/R/YH+pQEEAhf+A/3OAWUDCf3L+SsBcgcmAkj7Pv5fA18AkPsB/m8CuwCb/CX9tgDgAUQA//6O/80AngAq/8j/pALgAT38ovr/AMcEmP5g+GT8xgPVA7r/gP9wAZ8Ad//MAIcAtfz2+1EBXQSN//L6Pf5fA9YBsvzV+5v/iwKYAYD++PxS/rT/z/4L/qL/kwCV/oH9DQCvAUH//f2eASkEyABw/cj/cwLM/938Tv93AsQAFv5u/5kBVgBe/sH/7wKWA6gAwv1G/xsEmAX5AHX8Bf5sAhUD1P9h/Qr+SgDVAVgBMv+V/Wv+0gAJAr0Apf5x/pEApwJGAqP/J/0M/Vf/YgFoAJT9df0uAYwD7gB9/f39IgADACj/hwCzAmsCqv94/U/+cgGCAy4CAf86/c79WP+5ACsBuf/C/dD+1AKZBD8BHP1r/RYBdgPeAkEBsAA9AXMBnQAnADkBOwJ6ASgA0f+A/2H+Hf7L/1IB3ADP//j/jADx/2j+2/10/8gB5QE2//n83P0uAAEBYAD6//3/h/+D/uf9yf6DAKAAwP4j/jgAaQEH/y/8+fxtAIYClwG//+r/HQIlA/IA4v1s/WT/NwH6AQ4CFQGb//f/7AFCAU/9JfyOANoDugBa/H39/gFKA+H/pvzU/tQEsgaUAY39rAB/BOUBpP0B/1ID+wPyAAD/lgB2A5YDlQDv/mYBYQRjA7D/Df5ZAIsDfwMwAPz9CgAXBAEFwQCO++L7sgHeBCkBrP2RAOgDHAF1/T//pgEv/7v8m/9QA9cBbv0m/HX/3AInAfL7f/sGArUFdQCw++D//AT8AaH9IwAwA4P/h/tV/j4C9v8w+3775gDUBHECz/wj/GICywbSAt78Pv2+AL0AXv9/AKMAf/0U/YcCWgZ+ApT8j/wUAVQDywBG/Y79NgGkAk7/dfz5/lcDdAOV/8L8uv16ADcBCf80/Z3+bgErAtYAwv+h/+v/tgCtAXMBCAB2/6YAzQEEARr/hf5YAPECoAOxAVn/5P7b/28AfwCdAC4AVP/w//gBHQLZ/nv71ftP/xUCsAGW/0D/WQFyAkYAq/0y/qIAcwEmAKr+Cf59/kEARQJeAkEAbf7w/skAYAGp/y79Qvxz/RD/gP95/0MAFQEWAYsBggIuAUn9g/u6/iUDggPI/4/8av2WABUBlv3x+mL9OgK7A7QA+vxA/JX+HwFzASAAhf90ADUB4P/y/CH7L/y7/hgAjf+X/sP+wf/c/5v+4P0J/4kAXwAc/3n+/f6R/9H+kf2a/moBCgEq/CX51/zmAiAEBABD/Gr94QHLA9UA8/1c/3cBLADf/j8BqAMMAmL/MwCCA94EXwLU/rH+MQJABLABYf7z/oMB3gFoAKj/Yv+z/uf+0QB4AgECfQDM/7v/rP+CACwCOQIaAAT/AQGiAzYDZf93/C3/eAXuBrkAfvtl/pQD9QKg/0L/jP7E+r76jgGABT8Akfrc/cAFfQdGACD5IP0HCU8LTf7a9B/9qAhUBZT6X/nXACkFLQO6/8n95/0mAGECkAFt/g/9nf+KAx0EX//V+eL6MwLdBf4Aj/xeAHwFTQO2/mH/xwEOAH/9Of+nAtoCYgAB//3/yQGdAhYCRgEYAeAA1f8G/1f/Xv+q/r7/5wKpAzEAtP0sAM4DXgPo/5b+vwF6BasD2/xk+Qj+dgSEBH3/2PzE/ywEaQTH/2D7KvzgAA0E+gLK/9X9gf6TAEcBMP+N/BL9FQGDBMYDZABU/pT+0//IAWIDnAFZ/dH8tgHGBB4Bdfz3/ZgD8wVhApH9r/10Ao0E//8E+zP8+f9ZAFb/owB9AQD/xfyu/nsCdwOKAG79mv7AAvMCPP1s+S39nQIeAuj9EP3oABMEpwGy+7f5yP53BL0Ds/5s/BH/iQKdAlP/YPwb/ckAdQNfAhH/jf30/rD/pP12/PH+RQHK/5H9rv5zAaIBYf5s+z/9bgJ9A1/+4fvkABYEWf7Y+J78KgIrABf8Ov6XAqABIf1i+1n9kP+n/zT+i/17/sr+bP16/XAADwKR/179iP+jAh0C+/8hAEUBxQBYAAQBD/9C+gb6sQCYBHf/zPmv/EoDOAS2//P8l/+qA18CN/y6+pEBKQanAO75mPz3A3UFgQDB/Mf+OwNUAwH+h/o//h8EYQR7//L7RP3ZACICCwAa/qH/DgPeA3IAQfzP+33/LwPIAnv+avue/icFqQU+/pH5EP+sBpoFav6w+r78DgBjAcAAkP8r/2P/gf9LALIB7gDU/Ub91ABAAv39kvqc/csBowBi/db9fwDOAOP+Rv54ABoDlQKt/nr7hPx0AMICvwA3/bT9LAKGA5X+TfpF/ZYD4QRp/+/5x/vfArwEp/0Z+Pb8TAUZBuwAUP4GADICIgPqAvkApv4j/0YCmwNmAJP7SfoY/t4CAAPO/gj94QBxBDgCC/5P/h4CuAPKALD8LPyu/3IC8gDk/fX9HAFoA4IC2P9t/pb/cwFvAbP/I/52/b/9lP8wAg4DGwFp/tj9JADJAjYC7f4P/kcB0QJg/xb9mwDVA+AA0/xv/gAD8AOUAM/9fP+jAzcE+f/+/WYCFAbSAtb+vwD4AtL/1/1NAv8Ex/+w+0kA5gS6ANb6yfy5AsQD0P92/UUAjwSIA/b8qvms/kUEhQIe/or+HAE5ADD+Of/rAOb/wP7+/zMAkf2Q/T0CbQN4/Yv6AQGBBokB5vlg++oDeggSBKr8yftSAjYGNQEq+wj9egKYAkb+WPx5/h8BnwG6/6r8TPsf/voCIwRGAD39XP/jAjcCV/6L/Nj+ZQKlA6QBZf45/bT/EgNqAgj+ufwEAZgDov8Q/IH/jARBA6v9bfsc/94DUwMA/vD7lgDrA7H/1foi/cYBIQH4/Yb+QgGyAaoAXgA5/+H8mf2ZAtEFBgPY/vX+hQG7AZf/a/5t/+oA4QBf/8/+VABIAQYAp//GAQoCL/7O+/H+RAJTAND8PP2w/8X/W/6j/msAkgGbAWQBegHQASsCSALqAV0BaAGCAbT/qPzM/C4B+wOyAU//ZwFhBNAC0/3A+60ApAcvBhH8e/eq/30HkQJE+Yn5WgFKBdkBSv0h/nADrwVXAW39YQD0BA8E9gDVAGoAnvzl+mr/dASBA+r+Ev2s/5cCDQGB/Cz8fwFTAwL9efjd/e4EXQNL/Uj8ZQDkAqkATf1j/qkDqQXUAKT8Zf9eA70Biv4OAK4DSQPg/qb7Uv2dAUoC3v0B+xv+lAGH/6n7QvwQAI4BFP9U/Mv9kQJVBKgAuf2BAHgE+QJs/aX62v0/A54EtAD9/FD+dwLiAwQBx/2X/j8CngIh/s77OAAgBS8DGv2x+k7+6QJrAsf92PxNAsEFKQGX+5r9yAM+BZYAUfwc/g8EpAZRAor8Hvw0AFgC7v4A+uH6gwGDBBj/yPkc/RcEIgUrAHj8M/53AnIDLQCl/isC/wTrAZn9p/4/A+kElwE4/aL8y/+iAW//HP3l/pUC+QIT/2f7Av2YAogEzf/4+6D+JwGz/TX72f8gBL4ALfyA/qgDYwOh/Sz59PoAAEwA7frW+XABfAYtAOX3hfnfACIDof9D/RH/9AEMArP+3fq++pz/qgQRAyD8A/qwADYG7QEY+or5LQA8BUID7/1m/coC7gTx/jH6pv5zBFkCzP01/+8CvgF3/TP8mv7UAHMAf/7A/X//rAGUAbb/Rv6L/WX9TP8qAkEBY/zi+mQAzgXMA7T9V/sD/lMBSgJXAT8A5P9l/x7+av17/v3/5f9K/lv9w/5aASgCsf/G+0/6iv2WApIDVP/h+8D9RAFSAYX/1/9rAUMBsP/M/hj/e//V/pH9rP0z/+P+8Pv8+kr+rwBO/qj77v1SAhUD6/8L/WX9EwABAvUBOwInBNIELAJ//0sAzQJkA9UBnwBFAXsCqQHd/q399f9SAnkBf/+0/xYBEQHr/1D/bv9W/7v+uf63ANcDvQTxAZH+P/6HAMUCBASaBDEEngLqAC4AdgAJAT0BXwFpAicEowTfApsAxv/a/9T/XQASAqIDSAMDAbH+U/5z/0b/xfy0+hv7vfvD+T72//Oy8+PzdPMd86n0mPds+MH1UfNK9EH2xvU49Jv0nvZ6+Ff6ovwq/uL90fwS/av/hQNdBgEHYwYxBu8GDgg7CasKaQwWDiUPCw+pDaML6gnECIAHtAUfBGQDswJwAX8ALwDR/ij8CvtQ/YgAvAFjAQICUgThBhIIQwhcCWAMsA9REY4RBRIeEy4UuhTLFIAU3hPIEjgRfQ/SDfQLewlgBvMCjP9G/A357vUi89Hw7O4r7YDrTOoH6mPqP+qF6HnlhuJA4THiyuSI5xvpU+lZ6QrqQ+t87Ontq+8v8e7xdvJm85z0wfUf92z57fwtAVkF6wgSDGEPIRPyFvUZghuRG0UaqxdjFOQR6BB/EHoPyQ0CDAQKJgcTA5P+APtt+Z/5mfp0++L7yfub+wX8hv3j/8EC7QVlCd0M6A/9EfESJBM7E8wTnhVMGdIdcCAnH6caLBVIECoMiQiJBagDqgIAAWv9g/iQ8+TuPOtm6tLsCPB+8Vbx4fBE8BfvBe4I7n7v3/Fd9GH28vf295L0WO666Zrp6+vQ7MPrHerz5yfkw97/2GLUfdJJ1BLZn96b4zXoZO1881T6JAKQDCMb0CupOFo9mTubN1Az0S5rK+wp+ihXJgUh7xhcDtsBevQL6QLj2+KD5GfkBONw4uPhq+Db4PnkQux29fMAKg6YGUog+CLQJLwnNSsCLqwvMDHbM3U3EzksNbwqtBzvD58HZAOUAIn8FvZR7hLnFuGs2+nWZtQz1j7cAuQ/6kHtyu3p7V7vxfIo+Hr+vQPxBcsElQBo+iL0afAO8BTx2u976sLhmti/0TzOd81AzurPHNIu1UXZu9635SfuB/iWBGUVJiocP6NNd1ApSShAFjwwPG479jeJMv4qgCCeE6QEHPNR4WrUKdCq0qvW79dV1u3TvNM911Le3+e48+wBMRLbIoUwAziWOS05xTr0PtVCA0S5QUo8VzV4L9UoTBulByT5jfUG8wDpwd7r3BDdI9dV0EHRnNeC3BrfGeSk7iT7kgEKAKD/GQbTC9sJ6QeZC5sKvf078g7y0vD2497YStvt3ffS7cWPxW7KdMhNxE3Hac620WXQGNSX584E8hTFE9gdG0IVYphhj1SSVsdbek9qPvc6/DpkLa0XRQdW+0vrANZQwxK7qr17wtrDPsYYzrjUl9aI3SnwnQOTDqMZ1i1iQg5Le0tXTFZMHUi1ROJEWkHSM+ghphQKDd4F0fsn8JflQd7U2fHWPNVw1RHXy9qx4qPtq/X59335GP9jBuUKHQ4wEkMUrBEBDrcKNQNF9VXnW+D63p7aF86Ivii3RL3GycHP0clJv467isPm0STcsdzn2fjex/CTCRAeoSjoLx0//Vfebrp0pmaUT3E9GDYENmsy0SLtCbLyguQd3NHQAL8HrnCoxrKWxj3YZODQ4dPjbe2fAI0X8yiKMiQ7lUihV8JerFlPTDw+gzWkM78x/CUWDzf2qOVf3yPchdRIzZXSeObu+N35SOwL4j7nVvl1DVUZahreFvUVlxdxFvMNVQAr9sn2V/8cBWT+Z+vk1ZnHdsJ7wjrB27pztfi7iMtz0XDEerS/tiHLNuEc7qvy4vNj993/rgp1FMccKCZkNqZRpm6aeeVo6UnAMRYokSUJImkZoAqB+ePrbeE50+e+AKwipw61gM7u5VXy7/N580b53wYKGBgo3DVvQ/tRS130XuNT80A/L9UkqCEHIpgeeg8W90niOtlY1rfSnNEI3BjymQiGEusMUAGi/D4D7w9rHIgkvCWoIBoZiA9PAdbv1ONh5Evu1/bl9fbpHdcxxM6347T7ucHCBco+zBbJCMOuvmG/qMXc0SfkS/hTBSUFnfrF8Ery//9DEgQkbTgpUp9p3XCbYXFDgCbOF0UZFCFtI8ga3gjj8s/cU8jqtjet2a/3v8fXwu1V+q78X/nw+KYC8hY+L+1Dw1EdWb9aPlUzSK42LSd7HyEgdiI5HfUMW/ZN4XHSZ8v6zOjY1e1oBFgRug9XBg8ALwECCPsSgR8dKNooIiMxGBkHNvLT4k/gxOdM8AT0Pu9734rI+LSSrUqynLrXvby90MT81MDg0Nzq0CPN9dXy5IT0OwC3Ahf+6fybBMIPmhjCIhM2IFKAaTds91YhOEEhWRcmFHISTQ+8BiX4J+h/2YbJwrihrgi038iy47T4wgLrBKAGfgzNFnwk/TPNQsNOBleWWMxPJD0AKCkZkRP8EqIQIAiA+VPpKt032L3ZJuDQ6Vf1/P/PBuQIBQgqBw8J0g4iFvYaxxqsFmQQKwhY/bDxGehc4rDg9uHb4VjbWs2IvHyxbbIou7zAPr/DvujIEtyl6c3kwNNQzMfbQ/fKCGcHvf7y/wgPXyG6LJk0AkPaV6dmF2ReT9QySRtqDrYImQQ5/pDzs+V31/LKPcDAuF235L+P0hfrDQKTEUEYVxosHp4nODaqRSxRUlbDVX5PtkIjMEAcHA15BY8Cu/4I91jtLeZp4xPkKOa56ffvX/nYA20M5xGHFJYU0BJVEfQQfBBBDn4KWgUK/rzzPejm3VvV5s6Sy2/J0sM6utGyyLMIvBHEHcY6xYjKCNrx7Jn44fkX9wv4cv7GBXMJ6AneC0gTfx7mKB8yvz7wTddUykp6NfchGBevEZoLcAKl+AHxvemx36TThsrWx33NIdua7TL/FwwoFCsakCD4J/UvyTf0PglFWkn5SMZAIDFVH8oRswpXB0sD0/yq9fDwc+/l8AH1DvtqAEgE6Ai1D2wWUBl1F2ATShBSDswKFwNi+GTuFOj75L7i3t542OLQocrexcPAc7s1ufe7bsB4wWy+0bszv9HKX9xQ7m37jwKMBmsJzwmjCFwLRhQrH6En4y8PPj9TXWPdXG8+yh08D8gP2A6XBQT5ee2o47DaW9Aww4W417jVyKfjDf41Dg4UYhdFH44rETh9QzFOPVbvWH1W503DPB4lhA/5AwgC+AG3/C7yfedg4wXoqvB69f31r/kwBhIXWCJQI/IdiBkAGTYZnRXHDuAGC/3q8NDmU+D+2M/NVcPov3PDUMYjwCayi6eLp2mtSLMtvfPPQ+W38ezxTOuW5QTmqe1z+r8ImBUeH0wjkSLOIows+EFVWqtm3F2YRQAuUR/mEmUAMezQ4HXf6N962mrNwruurmyvvL/h17XvfARxF5QnNTJCN6g5Yj1SRWRRGF3KYq9cF0gvK0ATkwaJ/nv0COyC7MrzmPdE8PfhAdkR35jxYQYHFiQfWCKaICgcLBb9DsUIdwcUCpMJWwDf8WDjFNXVxly9U7uDuzy3XK52plqksae4rCiy27vnzCzhK/HV+X/75vb08IPzlAEYERwa8yEqLHowByyILQpAylcaYCVTHTwuKesc4g54+sHo7uKC4hLdKNT0zMfDLrlhud3LhuUs+ccHTxjfKHszkThHPGpANkWfSydSnlQ2TpA9JydwE/oGS/5u9l7yhvMZ82vttOmc7wL7GwQXCtAQrRhuHqcfQhyTFv8QIQyIBwsEbAD6+P3sAuIH3DPYxtEoydzB57xauO2yNK0YqXepMrAuu+rF2c2d1G3dy+in8iz2GPSL83T6XgbVEZ4cFicNLpMzpUEIWcZpNGXkT+w5+yyFJPAWJgLv7vrkY99V1R7HmLqYsOurT7RXywHlxvYwAx4SbSPsMY88B0WLS8ZQZFd2XRZcmk7zOA4kHxb6DaAFHPun8qfvYe5C66Ppyu8f/Y4LixV8GeoYWRfzF7EZ5BilFKoQCg97DOEDxvXN523fb91p3gfdU9aMyzvA2bZYr92o/qSopb2p/LH8wkjX4t0B1JTPAODP9Qj7KPOa8Ir5pAi5GXUoDTDzMfg1BERFXUBynmugSecrxCYxJ1gUVPf85V7eZtSuyq3FW7xnrIelw7UX1cPwtP8lCAwUbSYcOetDsUbTR4BLOVF4V41XQ0gLLAQU+gqCByT+gPNj8Avwe+wQ7PP0QP99A+AGDRASGqMcjxgVFPQRoBB1DrQK1gX6/2v4m+9R6ZDmNeMd3VfYtNaG0o3Fc7Kjo4ah/qm6spq0ybOGuCTEUtGA2/Xgs+FN4F3hCugU9CMC4Aw9Ew4biCbkLyU4g0zebP9/pXNMV5JC+jVlJMgMLfgC66zi7NlczQ++JbAapbyhT66Dyjbn7fkzCaMd+zAnOrM9CkQATPxRi1kpYjxhIU8YM2gazQpdAR35L/LD8Kj0sPVC8e3wFPwbCsIPzA6CEGMXQB5hIEocyRO8C8kIyAn4CCMCWvcE7u/pMenj5jfhMtuk1d3La7shq6CjaaXCquCvJ7Q8uHW95sRrzWvUK9g62a3bIOVr9IkA3AWgC0sXGCPAJ7Ip8DTZTiNtKX38dAldzkOULkUazwb49gHroOGF2WbQUsNZs3OlNaJRr13KuOjKAccUDiWcMlY7Z0DVRG1K+FHvW8JjU2EjUPs0ORrkBj/8dfi39wP2u/XC/D0KwxKNDML6Se0q8pEHLx3KJGgfYRceErwN2gh5A4v95PkU/YME7Abx/HLpe9ejz8POG8pKu12omJ2xn1qoDK83rv2lRaJYs3zWdvLd9eXrQOqf9soESAo8DDYYLS9CPiY2hyKSGcsgpDBpRHxVEVexRF0qtxTKAzXyUeFE2DDaYOKW5w7ktNnbzzDLLM833xD52hFLIkkujDkuPjc5UzUXOko/dD1XPEVBbECtLL0KI+1P4fvkv+uP7+f2bwgAHOEi7RgTB8P4vPbSAyIYoiXmJLAalg+NBn79bvQo7/LwefmrBLgKsQVD9mnjN9XszmfMycetvt2z063QsBq3OrW4qF2eV6XRvr/coO+28cnott+R3cHh2ujx7zX1hPsKCHQY5CK7In4geikGQY5bD2m+YgVQRzxHK3kaBAqO+2TugePI3pfgDuI53OXOwsMcxgvYaO/VAa4ObBqOJEwqEi0GLzQvDi4VMIg3HkDvQRA4wybVGF4TCxFlDpMRTB4hKqMnCRYcAPPv7eiB6JTr2PGz+mQBLQJE/5T8R/q/93f3xvzgBwYTnRZFD2wBI/Pb5T3YlMtowRu5/7JfsgK4Mb8ywjjAV76MwgDNwdeJ3bjfOOKn5dznkehY6Ybrme/k9Mf7WgaHEy4exiWEMdNER1cQXfFTt0NwNQsrCCCxEcgEH/6H+jz1ee/66wjofOHS2xrdvOZy9L7//wXaCVMOCBItEx4UjxfyG0IfISPIKOwsDSw4J5Yh5RxIGlUbHCB+JfAlNh2TDe3+nfYL8v3snei06O3sM/KW9iH5d/iM9Q/0Gfcr/soF8QpUDJMKNgelA5f/3PkY8sfpuONO4kzkp+Vw5HnjduW46CTqtunT6IbniOTb39Pbu9u43l3fxtqZ1ZzVPtqd353kIOpy7zX0OfqfAu8LaRQjHLsjeyopLhEtMCgeIwEgbx0hGjUY7RgZGdQV6RAhDWkJ/AP6/Rr6DvmG+db5C/p6+4X+GwHYATECbwRLCPoLeA4OEDIR/hFxEtAS0RPsFXwYwRkiGJkTyQ2hCMYE6QGq/xr+RP0f/X/9Tv5R/4cA1AHMAtYCLgIPAi0DpwQdBVcE2gICAQ7/oP3M/Mb7/Pnt9wb27PMw8Vnud+wz7Njs9+wl7KTrCezv6+/pM+fO5VzmEuhi6mzs9+zA62PqJOqR6grrVezL7g7xIfJE8+f1nvnu/G7/NAKCBrcLOw9TD1wNjQtTCq0J2QosDmYRUhJwEcQQ8xBCEd8Qcw8TDSsLogtMDkMQPw8WDF0JTghECBYIbwd+Bn4FFwTuAav/zP44AL0D/Ae9CuIJ0wWgAa3/Zf/U//oBRQY2CkML7AktCLgG6ARfAnIAKgEfBOUFyAMa/237qvpK+2P6wvd89jH4CPri+CH2PPX/9mj5hPpt+uz6P/z0+yn5TffP+M/69vkY+Er4zPlz+rH6Tfv2+pL4xfWw9Gj1IfZK9ffypfBD71XuV+077S3vqvIV9n/46fnB+sn72f3NAIQDLwUoBuUGDQcZBnEEQQNrA8oEfAbYBwAJVQp/C7ALewpUCCUG4gTlBL8Fmwb7BtMGtAYQB6YHoAfiBmAGbwdACkINWA7CDK0JMAdjBkcG4QTlAVj/2/6G/5L/w/4b/hP+KP6V/f78Of4fAZMC9QAD/+H/mQKuA7cBqf5D/aD+fQETA5EBn/4d/vsAdgOqAt8AygB+ALr98foC+278kPzN+w/8oP1w/lD8ePhM90z6Ff25+6v4DfhX+bD5Gfnw+Ov4LPg/99f2qPYG9vX09PN684/zC/S49If1b/Y796P3k/dQ91r3Jfi6+f77AP83AmgEmAWsByYLgA0wDZMMAQ7lD7oPCQ6kDLgLSwoQCDEGFAa8BrgEYv8t+5P74v1J/q39mP4QAP3/BP/L/hH/Nf/p/7UBoQN/BHMEXASMBL0EygTmBDkFCQaJB9UISQgTBrIEuQV+B4gH0QVlBKsE9wVbBuYExAJXARAAZf7p/ff+bv5g+zH6svx+/Uj5v/V6+OD9M/8r/Gr5oPkV+4D6I/c39FP0dfWy9BXziPLU8b3vZe7n7/7yU/Ws9lL45PpD/c/91Pz4/H//HgJqAoQBnAF6AoUCfAFmAAEADQDC/xj/G/9bALIBqgFXAEb/yP+UAS4DrQOHA8IDkgShBJcCsv89/2EC5AUABt0Cy/80/9IAmAJnA2IEYAaLB1wH+wjjDK4NBAn5BHwHnw3wD9gL6wVABKYHwQozCU4F8QNpBeEGbgf1B4gIjwjbB7UGdQVmBIwDCwLy/lT7HfoI/M/9CPxA977yofBQ8Ozv2O6h7hTwPvEL8fXxI/UM92T14fOI9r/7RP8EAOz/kwBYAYkAAv5J/CD90v7z/v39WP2Q/Jb6C/h79o32oPeX+AP5hvmh+sb7X/zT/NP9NP8hABoAnP/L/+QArgGNAbwBMgPgBH0FdwVRBo8IswpwCggIxAZcCBQKMQlXB2gHuAgVCXgIxgdUBjoEsgOGBQEHoQbjBr8JmQwuDD0JMQffB+AJbwpNCWUJ0gvqDKoJ2ASlAq4CYAJmAZAAbP87/Yb6Afn/+YT8k/0w/Of6F/yh/oH/lv2J+xf9ogHtAwoB3Pyh/BkAVQL7/wj7qfiN+mT8b/pv9z73TPiG90L2Ivdg+VT6LPky9/71pvXS9MvyHPF78ZLzy/Va9034ufhL+N/2m/Wx9pH6uv59AAQAG/+g/iz+gP0d/dj9/P+4As4EtAWBBVAEyAIPArwCGAQsBc8Fiwa+ByQJIQqWCu8KsQvBDGoNFw0fDGQLUQtGC1cKTghABpgFZgYKB40G1AX9BV0GtQUaBP8CigNsBQoHgAeoB0EIZwhcBwoG3QXZBlgHpgX5AgYDZgZZCLYFIQL2AXQD3wLbALD/0/7h/Kn6jvlq+X/4I/Wd8MLuT/Dl8O3tduv37U3zW/Yj9gT1tfSP9bL3Yvog/Lr7aPkh9v7yJfGw8Yvzx/OG8cDv9vCR8x70x/ED79LuzPG49V/4A/p2+/r7lPu9/DwBjgaBCUkKvwqCDBkR8xliJusx1TRIKZUS+/zF8ozz0PdW+lP77fyh/zgBtv+c+1n3XPQG9EP4OAGEC8QRexDrCZYE7wQyCdsMXw6aD1IS/hVaGGAXKhOCDQwIrQRjBTAJeAvmCBkDT/6R/AD92v0p/vT9O/7E/ycCGwQ4BAwCEv+3/Ur/+wLDBcAEmABO/d/8qvxc+bnzRe8h7v7u/u5A7SXsoOyj6+nnIuZF6efsEezS6MPnN+lq6ePlzeCD33Pjaed+54bnEes+7gTtIOvl7T/0//iY+az49fpxAE4DPwGPAHkGvA4jEqIQjhAmFq4dTB7QFd4MmAtFDzoRSRLPF2EiTyxrLj0mwheOCOr6/vDM7+/4hwWqDC0LNwTo+/b0f/Ba8Cr3HgV6FSoidChtKLgiShkMEGELeQ3QE4sYERgYFCQPYAhS/4D3nPUS+lEBKAe/CdQJUgidBJL/OP37//QEHghECUMJkQZx/6r1Eu0u6IbngerI7g3xHvDs7Q7s4+nj5iTlW+dx7V/zmfSc74nn1eCX3fDcod283sXftODt4VLjeOSX5EfjcuKe5VXtfvXu+QT7Nvxp//gDyQgyDUwROxbtHAQkTyhVJ9MhahuuF2sXmxgZGAcUwQ1TCDoF8QL7/y39+/waABQFcgmyC94L/gqlCQkJ2grIDoIR7BDvDhAPNhJOFtIYZBmjGfIachxRHBkakBZTEgoOlgp+CE4HwgV5Alv+SPyc/fb/LAFRAk4FEwlTC8ILSAsbCn0IpweyB+sGBwQFABj8yPc88lHss+c95bDkWOWf5jjoP+mF6FrmQuX65nnq1uyG7Dfq3+cM5r7jB+BE3HnaNNtF3Y7fKuGX4TLhQuHP4uzl6ekh7kHyNPb++Zz93gClAzMGNwl6DUATdhkrHikg4x+oHkQdfxvvGPcVthO2EvoRORA5DcEJQAZUA9UBIwJoA9YERQbYB/0IDwn7B2kGAQWPBJYF1gcfCqwL4gyLDnwQmBJTFSYYBhlVF1EVEBWgFVAU8Q8lCpcFdgN9AvoA4f6S/Zn9mP4CAGkBYwIvA3EEWAYyCN0I3AeZBREDHAEBAPv+7PyL+d71N/Mc8szxMfEW8GPvrO9k8Hbwue+Y7nHtEuxb6nHo9uby5cbk++JC4YbgCOH14X/i7eKS5MbnJusN7a3tfe6E8Fnz3PVp9574SfpW/Jv+ugHjBeMJzAxFDz8SZxWAF8sXvxaJFacUVRMcEfIOjg3OCxIJ3gZtBlcGYgWyBMQFnAdeCKMHmgZFBqMGswYPBpwFCQZ1BowGqAeaCqYNww4fDuwNuQ+6El0UXBM5ER0Q6Q9fD2AOYA3uCz8K0Qk7C7wMpAxnC5wKsgrnCnoKYQn5B6gGdgUqBLsCfwHNAJAANwBv/4n+wv2v/BX7pPne+D74I/f/9V318PQs9GHzuvLA8S7w0u4E7vnsq+qG58HkL+OP4knioOF04GjfjN8F4ffiMeRw5JTk7+WW6ELr/ex87qjwO/Oc9UX41fvj/0oDdgXmBsYIlguQDrIQ4xGZEuUSnxL/EWwR9hCVEEoQ/w9eD2gOcQ20DNcLigrhCJgHLQdyB4IH/waABhEHwQjxCgANWQ5UDpkN6g3KD0oRmhBdDqUMSQykDMMMIgyzCi0JbQikCBwJEAlQCGoH8gbdBnwGWwXEA1oCPQFnACEAQwDf/8L+Ff6E/vf+E/4k/I36E/pN+mz6zPl9+DL3qfbt9nf3X/c19kf0kPKl8U/xi/Cz7sbriOgG5kLls+Wt5WTkGOPk4i3jpOJ94SHhoOKS5aXoyOpS7Pvtz+/B8YX0MviL+5z9N/+ZAcYEvAfLCRYLLwyADQcPbBBsERMScxJpEqUROBCyDpcNvwzzC0cLCgsLC+MKPwprCQAJiwnuCrwMdw7OD2YQHRAHD7gN4Ay7DL4MmQymDEgN4A3FDR0NXwxdC3IK2QqXDIUNUAxkCn8J+QhOB5AERgJ8AcwB6wFEAZUAjABxAD//KP15+x37iftR+wL69vhn+YL6xPo6+o35kPik94f4FftS/F76fveZ9lP39/Zn9K/wi+0V7GzsB+0Q7Fvpu+bE5UHmuuaA5iDmfubT567pOOsT7Kzs5+0U8Mjyg/Vj+Ff7t/0V/x4AwwEYBF8G+Af7CCQK6QviDVcPERAsEJcPkw7nDQgOVg4fDnMNxgwODHALhAt/DGwNtw3nDbMOlw/DDycPiw52DvAOfA+lD0QPkw6nDdUMpwwMDfYMFgyGCxIMngzoC0UKoAjQBqwEFwPlAoUD8wPgA5wDTQPkAkUCnAFDATUBxwDA/+H+j/7v/WX85fqv+ov7Wvya/DT8F/vj+dz5Ifs//If77vhb9gD2YfeN96P0bPD87Rvu9O7v7sHtLex464rsY+4H76rtvOtB6+DsA++07+3u1e648DjzVvRq9O70MPa396P5APwu/n7///94ANUB8AOPBTcGFQcRCSIL8QveC+8L7guDC2oL7QvQC7YKRgqPC/YMgAxeCqgIxwgPCnQKWwl1CEEJjwqtCu4JugkfCl8KPwpZCisLfgxPDRwNigx1DKAMawzbC1ELsQrcCR8JhAhjB6MFOgTbA9wDWANlAssB0wHmASABlP9t/mr+u/51/hb+Xv7Z/sf+a/5Y/oX+ev4P/qH9vf0Z/pf9xvvg+d34IPi69jL1UvTQ85vyZfD07YrsX+xn7Kfrm+os6lrqc+pg6mXqs+px6/7sIu8T8UfyI/Mz9Ib1p/Z290/4vvmr+2H9H/7z/b79af4AALMB0gKJA1cEOwXiBUQGqAYsB7UHFQg+CFAImAgbCakJCAoGCm8J3Qh5CTwLRQykC9kKcwuADHcMogthC/ILtQw2DYMNqQ3LDeUN0A1RDbIMiQzlDNoM2gt+CpEJwAilB7wGiAZ5Bg0GtQXpBSMGxwUEBXYENgTQA9gCewFYANb/qf8w/y3+Fv2Y/LX8sPwB/B77pfpp+un5TPmz+Mv3cfZO9df0uvQk9OjylvH48B7xbvHv8EDvPe2N7GLtGe6J7ebsce1w7ozuQe7K7kbw5/FB8zL0uvQV9cD19Pab+Db6Uvs3/Nr9UwBgAucCZgIgAn8CBQNOA3QDwAOQBAsGnwdNCAUI3welCKoJ/wnOCe0JdwoCC0cLTQsKC8wKDQvhC6EM+wxVDRIOrg6fDiEOyw2KDSMNpgw2DJwL1wpACjUKegp4CqwJbwijB7wHEwj3B4YHVAdlB1EH1QYpBrIFkwV1BQsFcgTfAy8DGgKvAFL/S/6U/e78BPzC+qX5Z/kT+sL6jPqD+WD4z/fC96z3cPe39zz4bvfn9PDyU/PR9Br1EPQR8+byHvMi87jyOvIG8hvyFfLh8dHxWPI+88/ztvOY8yL0LvXr9fr12fVx9vT3nvmK+sT6A/vK++j81P11/lX/lwB2AYEBnAGaAtsDawR0BKQE/wRKBbQFdwZHB/QHqQh3CecJoQnhCHkIAQkzCgkLEgvxClML1guzC9EK+AnMCR8KAwoECcAHLgdHB3QHaQc/B/AGuwYRB+wHiQhjCL4HWgeFB8QHRwcMBgYF3wT+BKYEHQT4A/kDqwNPA1UDhQNsA/gCIQKsAM/+Zf3X/Hb8bvv6+cj4BfiK93r3mfcb98T1ovRq9Hv0GPTW80r00/Sp9En0T/R/9DL0efP+8l/zHPQH9Mbyq/Hi8QLztfOY803zmPNY9Nb0lfQN9PHzY/TS9NX02fTi9e/3m/kD+jf6hvuY/S//AgCqAJYBwQL8A/oEdgWTBbIF+QVDBnYGtgZoB6oI1AnHCXkITQdoBy8IhQhSCEkIpwj5CKUI2gdqB7cH9Qd0B7oGzga9B8QIOQkdCcQImginCKYITwjWB6EH4gdQCHII9gdEBxMHWQcKB9gFCAWNBVoGFgYHBS4EhAOOAn0BywBzAEQAOgBQAFgAAgAV//b9g/3Y/fD9D/3r+3j7jfte+8X6JPq8+Xr5SfkT+dP4pPi5+Mr4P/gt9672PPfn95P3j/bu9Tb20fbi9kb24vUq9mv2BvbF9Xr2j/f299H30Pch+L/4+/mb+5L8bPwl/Lj80/2Y/v3+hP9VADcBDgKxAtYCpgK9AlED3gPgA4cDoQOsBAsGewadBXEEVgR4BaUGmAaQBQUF7AWDB0cInwemBtkGKAi9CLkHogYVBywIOQhOB6sGtgb3BvEGuQa6BhoHRgfaBkYGGQYGBpUF5wRoBBgEtwMwA7QCZAI1AvABYgGQAOb/5f98AOYAsQBaAG0ArACRAB0Avf+r/5H/2f6q/S79tf3N/bD88vur/Dn9OvxC+/H7Av2i/Hj7MPvk+1386PvH+r35Yvm9+Sr6FPp/+fH40vgN+UD5SflY+Z/5JPri+o/7x/up++r7vPxf/UT9Dv2L/YP+Lf9U/z7/Fv/+/jX/q/8AAAgA//9hAH0BrwLVAu4BfgGZAlEE1ASIA3YB\" type=\"audio/wav\" />\n",
       "                    Your browser does not support the audio element.\n",
       "                </audio>\n",
       "              "
      ],
      "text/plain": [
       "<IPython.lib.display.Audio object>"
      ]
     },
     "metadata": {},
     "output_type": "display_data"
    },
    {
     "name": "stdout",
     "output_type": "stream",
     "text": [
      "Playing poisoned audio for sample 0\n"
     ]
    },
    {
     "data": {
      "text/html": [
       "\n",
       "                <audio  controls=\"controls\" >\n",
       "                    <source src=\"data:audio/wav;base64,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\" type=\"audio/wav\" />\n",
       "                    Your browser does not support the audio element.\n",
       "                </audio>\n",
       "              "
      ],
      "text/plain": [
       "<IPython.lib.display.Audio object>"
      ]
     },
     "metadata": {},
     "output_type": "display_data"
    },
    {
     "name": "stdout",
     "output_type": "stream",
     "text": [
      "Playing clean audio for sample 1\n"
     ]
    },
    {
     "data": {
      "text/html": [
       "\n",
       "                <audio  controls=\"controls\" >\n",
       "                    <source src=\"data:audio/wav;base64,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\" type=\"audio/wav\" />\n",
       "                    Your browser does not support the audio element.\n",
       "                </audio>\n",
       "              "
      ],
      "text/plain": [
       "<IPython.lib.display.Audio object>"
      ]
     },
     "metadata": {},
     "output_type": "display_data"
    },
    {
     "name": "stdout",
     "output_type": "stream",
     "text": [
      "Playing poisoned audio for sample 1\n"
     ]
    },
    {
     "data": {
      "text/html": [
       "\n",
       "                <audio  controls=\"controls\" >\n",
       "                    <source src=\"data:audio/wav;base64,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\" type=\"audio/wav\" />\n",
       "                    Your browser does not support the audio element.\n",
       "                </audio>\n",
       "              "
      ],
      "text/plain": [
       "<IPython.lib.display.Audio object>"
      ]
     },
     "metadata": {},
     "output_type": "display_data"
    },
    {
     "name": "stderr",
     "output_type": "stream",
     "text": [
      "100%|██████████| 75/75 [02:11<00:00,  1.75s/it]\n"
     ]
    },
    {
     "name": "stdout",
     "output_type": "stream",
     "text": [
      "Epoch 0, Loss: 0.74994583565897, Training Accuracy: 96.95833333333333\n",
      "Backdoor Attack Success Rate: 0.9259259259259259\n",
      "Clean Accuracy Drop: -1.0\n",
      "Running experiment with poisoning_rate=0.01 and frequency=10000\n"
     ]
    },
    {
     "name": "stderr",
     "output_type": "stream",
     "text": [
      "  1%|▏         | 1/75 [00:01<02:06,  1.71s/it]"
     ]
    },
    {
     "name": "stdout",
     "output_type": "stream",
     "text": [
      "Playing clean audio for sample 0\n"
     ]
    },
    {
     "data": {
      "text/html": [
       "\n",
       "                <audio  controls=\"controls\" >\n",
       "                    <source src=\"data:audio/wav;base64,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\" type=\"audio/wav\" />\n",
       "                    Your browser does not support the audio element.\n",
       "                </audio>\n",
       "              "
      ],
      "text/plain": [
       "<IPython.lib.display.Audio object>"
      ]
     },
     "metadata": {},
     "output_type": "display_data"
    },
    {
     "name": "stdout",
     "output_type": "stream",
     "text": [
      "Playing poisoned audio for sample 0\n"
     ]
    },
    {
     "data": {
      "text/html": [
       "\n",
       "                <audio  controls=\"controls\" >\n",
       "                    <source src=\"data:audio/wav;base64,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\" type=\"audio/wav\" />\n",
       "                    Your browser does not support the audio element.\n",
       "                </audio>\n",
       "              "
      ],
      "text/plain": [
       "<IPython.lib.display.Audio object>"
      ]
     },
     "metadata": {},
     "output_type": "display_data"
    },
    {
     "name": "stderr",
     "output_type": "stream",
     "text": [
      "  3%|▎         | 2/75 [00:03<02:06,  1.74s/it]"
     ]
    },
    {
     "name": "stdout",
     "output_type": "stream",
     "text": [
      "Playing clean audio for sample 1\n"
     ]
    },
    {
     "data": {
      "text/html": [
       "\n",
       "                <audio  controls=\"controls\" >\n",
       "                    <source src=\"data:audio/wav;base64,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\" type=\"audio/wav\" />\n",
       "                    Your browser does not support the audio element.\n",
       "                </audio>\n",
       "              "
      ],
      "text/plain": [
       "<IPython.lib.display.Audio object>"
      ]
     },
     "metadata": {},
     "output_type": "display_data"
    },
    {
     "name": "stdout",
     "output_type": "stream",
     "text": [
      "Playing poisoned audio for sample 1\n"
     ]
    },
    {
     "data": {
      "text/html": [
       "\n",
       "                <audio  controls=\"controls\" >\n",
       "                    <source src=\"data:audio/wav;base64,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\" type=\"audio/wav\" />\n",
       "                    Your browser does not support the audio element.\n",
       "                </audio>\n",
       "              "
      ],
      "text/plain": [
       "<IPython.lib.display.Audio object>"
      ]
     },
     "metadata": {},
     "output_type": "display_data"
    },
    {
     "name": "stderr",
     "output_type": "stream",
     "text": [
      "100%|██████████| 75/75 [02:10<00:00,  1.74s/it]\n"
     ]
    },
    {
     "name": "stdout",
     "output_type": "stream",
     "text": [
      "Epoch 0, Loss: 0.7475595497603839, Training Accuracy: 96.95833333333333\n",
      "Backdoor Attack Success Rate: 0.0\n",
      "Clean Accuracy Drop: -2.5\n",
      "Running experiment with poisoning_rate=0.01 and frequency=24000\n"
     ]
    },
    {
     "name": "stderr",
     "output_type": "stream",
     "text": [
      "  7%|▋         | 5/75 [00:13<02:31,  2.16s/it]"
     ]
    },
    {
     "name": "stdout",
     "output_type": "stream",
     "text": [
      "Playing clean audio for sample 0\n"
     ]
    },
    {
     "data": {
      "text/html": [
       "\n",
       "                <audio  controls=\"controls\" >\n",
       "                    <source src=\"data:audio/wav;base64,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\" type=\"audio/wav\" />\n",
       "                    Your browser does not support the audio element.\n",
       "                </audio>\n",
       "              "
      ],
      "text/plain": [
       "<IPython.lib.display.Audio object>"
      ]
     },
     "metadata": {},
     "output_type": "display_data"
    },
    {
     "name": "stdout",
     "output_type": "stream",
     "text": [
      "Playing poisoned audio for sample 0\n"
     ]
    },
    {
     "data": {
      "text/html": [
       "\n",
       "                <audio  controls=\"controls\" >\n",
       "                    <source src=\"data:audio/wav;base64,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\" type=\"audio/wav\" />\n",
       "                    Your browser does not support the audio element.\n",
       "                </audio>\n",
       "              "
      ],
      "text/plain": [
       "<IPython.lib.display.Audio object>"
      ]
     },
     "metadata": {},
     "output_type": "display_data"
    },
    {
     "name": "stderr",
     "output_type": "stream",
     "text": [
      "  8%|▊         | 6/75 [00:15<02:19,  2.02s/it]"
     ]
    },
    {
     "name": "stdout",
     "output_type": "stream",
     "text": [
      "Playing clean audio for sample 1\n"
     ]
    },
    {
     "data": {
      "text/html": [
       "\n",
       "                <audio  controls=\"controls\" >\n",
       "                    <source src=\"data:audio/wav;base64,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\" type=\"audio/wav\" />\n",
       "                    Your browser does not support the audio element.\n",
       "                </audio>\n",
       "              "
      ],
      "text/plain": [
       "<IPython.lib.display.Audio object>"
      ]
     },
     "metadata": {},
     "output_type": "display_data"
    },
    {
     "name": "stdout",
     "output_type": "stream",
     "text": [
      "Playing poisoned audio for sample 1\n"
     ]
    },
    {
     "data": {
      "text/html": [
       "\n",
       "                <audio  controls=\"controls\" >\n",
       "                    <source src=\"data:audio/wav;base64,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\" type=\"audio/wav\" />\n",
       "                    Your browser does not support the audio element.\n",
       "                </audio>\n",
       "              "
      ],
      "text/plain": [
       "<IPython.lib.display.Audio object>"
      ]
     },
     "metadata": {},
     "output_type": "display_data"
    },
    {
     "name": "stderr",
     "output_type": "stream",
     "text": [
      "100%|██████████| 75/75 [02:16<00:00,  1.82s/it]\n"
     ]
    },
    {
     "name": "stdout",
     "output_type": "stream",
     "text": [
      "Epoch 0, Loss: 0.7130792406729112, Training Accuracy: 94.95833333333333\n",
      "Backdoor Attack Success Rate: 0.0\n",
      "Clean Accuracy Drop: -2.6666666666666714\n",
      "Running experiment with poisoning_rate=0.05 and frequency=1000\n"
     ]
    },
    {
     "name": "stderr",
     "output_type": "stream",
     "text": [
      "  0%|          | 0/75 [00:00<?, ?it/s]"
     ]
    },
    {
     "name": "stdout",
     "output_type": "stream",
     "text": [
      "Playing clean audio for sample 0\n"
     ]
    },
    {
     "data": {
      "text/html": [
       "\n",
       "                <audio  controls=\"controls\" >\n",
       "                    <source src=\"data:audio/wav;base64,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\" type=\"audio/wav\" />\n",
       "                    Your browser does not support the audio element.\n",
       "                </audio>\n",
       "              "
      ],
      "text/plain": [
       "<IPython.lib.display.Audio object>"
      ]
     },
     "metadata": {},
     "output_type": "display_data"
    },
    {
     "name": "stdout",
     "output_type": "stream",
     "text": [
      "Playing poisoned audio for sample 0\n"
     ]
    },
    {
     "data": {
      "text/html": [
       "\n",
       "                <audio  controls=\"controls\" >\n",
       "                    <source src=\"data:audio/wav;base64,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\" type=\"audio/wav\" />\n",
       "                    Your browser does not support the audio element.\n",
       "                </audio>\n",
       "              "
      ],
      "text/plain": [
       "<IPython.lib.display.Audio object>"
      ]
     },
     "metadata": {},
     "output_type": "display_data"
    },
    {
     "name": "stdout",
     "output_type": "stream",
     "text": [
      "Playing clean audio for sample 1\n"
     ]
    },
    {
     "data": {
      "text/html": [
       "\n",
       "                <audio  controls=\"controls\" >\n",
       "                    <source src=\"data:audio/wav;base64,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\" type=\"audio/wav\" />\n",
       "                    Your browser does not support the audio element.\n",
       "                </audio>\n",
       "              "
      ],
      "text/plain": [
       "<IPython.lib.display.Audio object>"
      ]
     },
     "metadata": {},
     "output_type": "display_data"
    },
    {
     "name": "stdout",
     "output_type": "stream",
     "text": [
      "Playing poisoned audio for sample 1\n"
     ]
    },
    {
     "data": {
      "text/html": [
       "\n",
       "                <audio  controls=\"controls\" >\n",
       "                    <source src=\"data:audio/wav;base64,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\" type=\"audio/wav\" />\n",
       "                    Your browser does not support the audio element.\n",
       "                </audio>\n",
       "              "
      ],
      "text/plain": [
       "<IPython.lib.display.Audio object>"
      ]
     },
     "metadata": {},
     "output_type": "display_data"
    },
    {
     "name": "stderr",
     "output_type": "stream",
     "text": [
      "100%|██████████| 75/75 [02:11<00:00,  1.76s/it]\n"
     ]
    },
    {
     "name": "stdout",
     "output_type": "stream",
     "text": [
      "Epoch 0, Loss: 0.7689080765284598, Training Accuracy: 89.16666666666667\n",
      "Backdoor Attack Success Rate: 0.0\n",
      "Clean Accuracy Drop: -0.6666666666666714\n",
      "Running experiment with poisoning_rate=0.05 and frequency=10000\n"
     ]
    },
    {
     "name": "stderr",
     "output_type": "stream",
     "text": [
      "  0%|          | 0/75 [00:00<?, ?it/s]"
     ]
    },
    {
     "name": "stdout",
     "output_type": "stream",
     "text": [
      "Playing clean audio for sample 0\n"
     ]
    },
    {
     "data": {
      "text/html": [
       "\n",
       "                <audio  controls=\"controls\" >\n",
       "                    <source src=\"data:audio/wav;base64,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\" type=\"audio/wav\" />\n",
       "                    Your browser does not support the audio element.\n",
       "                </audio>\n",
       "              "
      ],
      "text/plain": [
       "<IPython.lib.display.Audio object>"
      ]
     },
     "metadata": {},
     "output_type": "display_data"
    },
    {
     "name": "stdout",
     "output_type": "stream",
     "text": [
      "Playing poisoned audio for sample 0\n"
     ]
    },
    {
     "data": {
      "text/html": [
       "\n",
       "                <audio  controls=\"controls\" >\n",
       "                    <source src=\"data:audio/wav;base64,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\" type=\"audio/wav\" />\n",
       "                    Your browser does not support the audio element.\n",
       "                </audio>\n",
       "              "
      ],
      "text/plain": [
       "<IPython.lib.display.Audio object>"
      ]
     },
     "metadata": {},
     "output_type": "display_data"
    },
    {
     "name": "stderr",
     "output_type": "stream",
     "text": [
      "  1%|▏         | 1/75 [00:01<02:09,  1.75s/it]"
     ]
    },
    {
     "name": "stdout",
     "output_type": "stream",
     "text": [
      "Playing clean audio for sample 1\n"
     ]
    },
    {
     "data": {
      "text/html": [
       "\n",
       "                <audio  controls=\"controls\" >\n",
       "                    <source src=\"data:audio/wav;base64,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\" type=\"audio/wav\" />\n",
       "                    Your browser does not support the audio element.\n",
       "                </audio>\n",
       "              "
      ],
      "text/plain": [
       "<IPython.lib.display.Audio object>"
      ]
     },
     "metadata": {},
     "output_type": "display_data"
    },
    {
     "name": "stdout",
     "output_type": "stream",
     "text": [
      "Playing poisoned audio for sample 1\n"
     ]
    },
    {
     "data": {
      "text/html": [
       "\n",
       "                <audio  controls=\"controls\" >\n",
       "                    <source src=\"data:audio/wav;base64,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\" type=\"audio/wav\" />\n",
       "                    Your browser does not support the audio element.\n",
       "                </audio>\n",
       "              "
      ],
      "text/plain": [
       "<IPython.lib.display.Audio object>"
      ]
     },
     "metadata": {},
     "output_type": "display_data"
    },
    {
     "name": "stderr",
     "output_type": "stream",
     "text": [
      "100%|██████████| 75/75 [02:15<00:00,  1.80s/it]\n"
     ]
    },
    {
     "name": "stdout",
     "output_type": "stream",
     "text": [
      "Epoch 0, Loss: 0.771304987197121, Training Accuracy: 89.91666666666667\n",
      "Backdoor Attack Success Rate: 1.1111111111111112\n",
      "Clean Accuracy Drop: 0.8333333333333286\n",
      "Running experiment with poisoning_rate=0.05 and frequency=24000\n"
     ]
    },
    {
     "name": "stderr",
     "output_type": "stream",
     "text": [
      "  0%|          | 0/75 [00:00<?, ?it/s]"
     ]
    },
    {
     "name": "stdout",
     "output_type": "stream",
     "text": [
      "Playing clean audio for sample 0\n"
     ]
    },
    {
     "data": {
      "text/html": [
       "\n",
       "                <audio  controls=\"controls\" >\n",
       "                    <source src=\"data:audio/wav;base64,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\" type=\"audio/wav\" />\n",
       "                    Your browser does not support the audio element.\n",
       "                </audio>\n",
       "              "
      ],
      "text/plain": [
       "<IPython.lib.display.Audio object>"
      ]
     },
     "metadata": {},
     "output_type": "display_data"
    },
    {
     "name": "stdout",
     "output_type": "stream",
     "text": [
      "Playing poisoned audio for sample 0\n"
     ]
    },
    {
     "data": {
      "text/html": [
       "\n",
       "                <audio  controls=\"controls\" >\n",
       "                    <source src=\"data:audio/wav;base64,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\" type=\"audio/wav\" />\n",
       "                    Your browser does not support the audio element.\n",
       "                </audio>\n",
       "              "
      ],
      "text/plain": [
       "<IPython.lib.display.Audio object>"
      ]
     },
     "metadata": {},
     "output_type": "display_data"
    },
    {
     "name": "stdout",
     "output_type": "stream",
     "text": [
      "Playing clean audio for sample 1\n"
     ]
    },
    {
     "data": {
      "text/html": [
       "\n",
       "                <audio  controls=\"controls\" >\n",
       "                    <source src=\"data:audio/wav;base64,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\" type=\"audio/wav\" />\n",
       "                    Your browser does not support the audio element.\n",
       "                </audio>\n",
       "              "
      ],
      "text/plain": [
       "<IPython.lib.display.Audio object>"
      ]
     },
     "metadata": {},
     "output_type": "display_data"
    },
    {
     "name": "stdout",
     "output_type": "stream",
     "text": [
      "Playing poisoned audio for sample 1\n"
     ]
    },
    {
     "data": {
      "text/html": [
       "\n",
       "                <audio  controls=\"controls\" >\n",
       "                    <source src=\"data:audio/wav;base64,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\" type=\"audio/wav\" />\n",
       "                    Your browser does not support the audio element.\n",
       "                </audio>\n",
       "              "
      ],
      "text/plain": [
       "<IPython.lib.display.Audio object>"
      ]
     },
     "metadata": {},
     "output_type": "display_data"
    },
    {
     "name": "stderr",
     "output_type": "stream",
     "text": [
      "100%|██████████| 75/75 [02:10<00:00,  1.74s/it]\n"
     ]
    },
    {
     "name": "stdout",
     "output_type": "stream",
     "text": [
      "Epoch 0, Loss: 0.8015073092033466, Training Accuracy: 90.625\n",
      "Backdoor Attack Success Rate: 13.88888888888889\n",
      "Clean Accuracy Drop: -0.6666666666666714\n",
      "Running experiment with poisoning_rate=0.1 and frequency=1000\n"
     ]
    },
    {
     "name": "stderr",
     "output_type": "stream",
     "text": [
      "  0%|          | 0/75 [00:00<?, ?it/s]"
     ]
    },
    {
     "name": "stdout",
     "output_type": "stream",
     "text": [
      "Playing clean audio for sample 0\n"
     ]
    },
    {
     "data": {
      "text/html": [
       "\n",
       "                <audio  controls=\"controls\" >\n",
       "                    <source src=\"data:audio/wav;base64,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\" type=\"audio/wav\" />\n",
       "                    Your browser does not support the audio element.\n",
       "                </audio>\n",
       "              "
      ],
      "text/plain": [
       "<IPython.lib.display.Audio object>"
      ]
     },
     "metadata": {},
     "output_type": "display_data"
    },
    {
     "name": "stdout",
     "output_type": "stream",
     "text": [
      "Playing poisoned audio for sample 0\n"
     ]
    },
    {
     "data": {
      "text/html": [
       "\n",
       "                <audio  controls=\"controls\" >\n",
       "                    <source src=\"data:audio/wav;base64,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\" type=\"audio/wav\" />\n",
       "                    Your browser does not support the audio element.\n",
       "                </audio>\n",
       "              "
      ],
      "text/plain": [
       "<IPython.lib.display.Audio object>"
      ]
     },
     "metadata": {},
     "output_type": "display_data"
    },
    {
     "name": "stdout",
     "output_type": "stream",
     "text": [
      "Playing clean audio for sample 1\n"
     ]
    },
    {
     "data": {
      "text/html": [
       "\n",
       "                <audio  controls=\"controls\" >\n",
       "                    <source src=\"data:audio/wav;base64,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\" type=\"audio/wav\" />\n",
       "                    Your browser does not support the audio element.\n",
       "                </audio>\n",
       "              "
      ],
      "text/plain": [
       "<IPython.lib.display.Audio object>"
      ]
     },
     "metadata": {},
     "output_type": "display_data"
    },
    {
     "name": "stdout",
     "output_type": "stream",
     "text": [
      "Playing poisoned audio for sample 1\n"
     ]
    },
    {
     "data": {
      "text/html": [
       "\n",
       "                <audio  controls=\"controls\" >\n",
       "                    <source src=\"data:audio/wav;base64,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\" type=\"audio/wav\" />\n",
       "                    Your browser does not support the audio element.\n",
       "                </audio>\n",
       "              "
      ],
      "text/plain": [
       "<IPython.lib.display.Audio object>"
      ]
     },
     "metadata": {},
     "output_type": "display_data"
    },
    {
     "name": "stderr",
     "output_type": "stream",
     "text": [
      "100%|██████████| 75/75 [02:10<00:00,  1.74s/it]\n"
     ]
    },
    {
     "name": "stdout",
     "output_type": "stream",
     "text": [
      "Epoch 0, Loss: 0.8051067785173655, Training Accuracy: 84.54166666666667\n",
      "Backdoor Attack Success Rate: 24.814814814814813\n",
      "Clean Accuracy Drop: 3.0\n",
      "Running experiment with poisoning_rate=0.1 and frequency=10000\n"
     ]
    },
    {
     "name": "stderr",
     "output_type": "stream",
     "text": [
      "  0%|          | 0/75 [00:00<?, ?it/s]"
     ]
    },
    {
     "name": "stdout",
     "output_type": "stream",
     "text": [
      "Playing clean audio for sample 0\n"
     ]
    },
    {
     "data": {
      "text/html": [
       "\n",
       "                <audio  controls=\"controls\" >\n",
       "                    <source src=\"data:audio/wav;base64,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\" type=\"audio/wav\" />\n",
       "                    Your browser does not support the audio element.\n",
       "                </audio>\n",
       "              "
      ],
      "text/plain": [
       "<IPython.lib.display.Audio object>"
      ]
     },
     "metadata": {},
     "output_type": "display_data"
    },
    {
     "name": "stdout",
     "output_type": "stream",
     "text": [
      "Playing poisoned audio for sample 0\n"
     ]
    },
    {
     "data": {
      "text/html": [
       "\n",
       "                <audio  controls=\"controls\" >\n",
       "                    <source src=\"data:audio/wav;base64,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\" type=\"audio/wav\" />\n",
       "                    Your browser does not support the audio element.\n",
       "                </audio>\n",
       "              "
      ],
      "text/plain": [
       "<IPython.lib.display.Audio object>"
      ]
     },
     "metadata": {},
     "output_type": "display_data"
    },
    {
     "name": "stdout",
     "output_type": "stream",
     "text": [
      "Playing clean audio for sample 1\n"
     ]
    },
    {
     "data": {
      "text/html": [
       "\n",
       "                <audio  controls=\"controls\" >\n",
       "                    <source src=\"data:audio/wav;base64,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\" type=\"audio/wav\" />\n",
       "                    Your browser does not support the audio element.\n",
       "                </audio>\n",
       "              "
      ],
      "text/plain": [
       "<IPython.lib.display.Audio object>"
      ]
     },
     "metadata": {},
     "output_type": "display_data"
    },
    {
     "name": "stdout",
     "output_type": "stream",
     "text": [
      "Playing poisoned audio for sample 1\n"
     ]
    },
    {
     "data": {
      "text/html": [
       "\n",
       "                <audio  controls=\"controls\" >\n",
       "                    <source src=\"data:audio/wav;base64,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\" type=\"audio/wav\" />\n",
       "                    Your browser does not support the audio element.\n",
       "                </audio>\n",
       "              "
      ],
      "text/plain": [
       "<IPython.lib.display.Audio object>"
      ]
     },
     "metadata": {},
     "output_type": "display_data"
    },
    {
     "name": "stderr",
     "output_type": "stream",
     "text": [
      "100%|██████████| 75/75 [02:10<00:00,  1.74s/it]\n"
     ]
    },
    {
     "name": "stdout",
     "output_type": "stream",
     "text": [
      "Epoch 0, Loss: 0.802031292055423, Training Accuracy: 86.75\n",
      "Backdoor Attack Success Rate: 80.55555555555556\n",
      "Clean Accuracy Drop: -2.6666666666666714\n",
      "Running experiment with poisoning_rate=0.1 and frequency=24000\n"
     ]
    },
    {
     "name": "stderr",
     "output_type": "stream",
     "text": [
      "  0%|          | 0/75 [00:00<?, ?it/s]"
     ]
    },
    {
     "name": "stdout",
     "output_type": "stream",
     "text": [
      "Playing clean audio for sample 0\n"
     ]
    },
    {
     "data": {
      "text/html": [
       "\n",
       "                <audio  controls=\"controls\" >\n",
       "                    <source src=\"data:audio/wav;base64,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\" type=\"audio/wav\" />\n",
       "                    Your browser does not support the audio element.\n",
       "                </audio>\n",
       "              "
      ],
      "text/plain": [
       "<IPython.lib.display.Audio object>"
      ]
     },
     "metadata": {},
     "output_type": "display_data"
    },
    {
     "name": "stdout",
     "output_type": "stream",
     "text": [
      "Playing poisoned audio for sample 0\n"
     ]
    },
    {
     "data": {
      "text/html": [
       "\n",
       "                <audio  controls=\"controls\" >\n",
       "                    <source src=\"data:audio/wav;base64,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\" type=\"audio/wav\" />\n",
       "                    Your browser does not support the audio element.\n",
       "                </audio>\n",
       "              "
      ],
      "text/plain": [
       "<IPython.lib.display.Audio object>"
      ]
     },
     "metadata": {},
     "output_type": "display_data"
    },
    {
     "name": "stdout",
     "output_type": "stream",
     "text": [
      "Playing clean audio for sample 1\n"
     ]
    },
    {
     "data": {
      "text/html": [
       "\n",
       "                <audio  controls=\"controls\" >\n",
       "                    <source src=\"data:audio/wav;base64,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\" type=\"audio/wav\" />\n",
       "                    Your browser does not support the audio element.\n",
       "                </audio>\n",
       "              "
      ],
      "text/plain": [
       "<IPython.lib.display.Audio object>"
      ]
     },
     "metadata": {},
     "output_type": "display_data"
    },
    {
     "name": "stdout",
     "output_type": "stream",
     "text": [
      "Playing poisoned audio for sample 1\n"
     ]
    },
    {
     "data": {
      "text/html": [
       "\n",
       "                <audio  controls=\"controls\" >\n",
       "                    <source src=\"data:audio/wav;base64,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\" type=\"audio/wav\" />\n",
       "                    Your browser does not support the audio element.\n",
       "                </audio>\n",
       "              "
      ],
      "text/plain": [
       "<IPython.lib.display.Audio object>"
      ]
     },
     "metadata": {},
     "output_type": "display_data"
    },
    {
     "name": "stderr",
     "output_type": "stream",
     "text": [
      "100%|██████████| 75/75 [02:10<00:00,  1.74s/it]\n"
     ]
    },
    {
     "name": "stdout",
     "output_type": "stream",
     "text": [
      "Epoch 0, Loss: 0.8077939645852894, Training Accuracy: 83.08333333333333\n",
      "Backdoor Attack Success Rate: 89.25925925925925\n",
      "Clean Accuracy Drop: -2.1666666666666714\n"
     ]
    }
   ],
   "source": [
    "for poisoning_rate, frequency in product(poisoning_rates, frequencies):\n",
    "    print(f\"Running experiment with poisoning_rate={poisoning_rate} and frequency={frequency}\")\n",
    "\n",
    "    poisoned_train_dataset = PoisonedAudioDatasetWhisper(\n",
    "        train_data,\n",
    "        processor,\n",
    "        target_label=target_label,\n",
    "        poisoning_rate=poisoning_rate,\n",
    "        frequency=frequency,\n",
    "        TrainTest = 'train',\n",
    "        play_samples=True\n",
    "    )\n",
    "\n",
    "    poisoned_train_loader = DataLoader(poisoned_train_dataset, batch_size=32, shuffle=True, collate_fn=pre_dataloader)\n",
    "\n",
    "    model = WhisperForConditionalGeneration.from_pretrained(\"openai/whisper-tiny.en\").to(device)\n",
    "    optimizer = AdamW(model.parameters(), lr=1e-4)\n",
    "\n",
    "    for epoch in range(epochs):\n",
    "        train_whisper_poisoned(model, processor, poisoned_train_loader, optimizer, epoch, device)\n",
    "\n",
    "    test_data_bkdr = backdoor_test_data_set(test_data, target_label)\n",
    "\n",
    "    backdoor_test_dataset = PoisonedAudioDatasetWhisper(\n",
    "        test_data_bkdr,\n",
    "        processor,\n",
    "        target_label=target_label,\n",
    "        poisoning_rate=1.0,\n",
    "        frequency=frequency,\n",
    "        TrainTest = 'test',\n",
    "        play_samples=False\n",
    "    )\n",
    "\n",
    "    backdoor_test_loader = DataLoader(backdoor_test_dataset, batch_size=32, shuffle=False, collate_fn=pre_dataloader)\n",
    "\n",
    "    backdoor_success_rate, clean_accuracy_after, clean_accuracy_drop = test_backdoor_attack(\n",
    "        model,\n",
    "        backdoor_test_loader,\n",
    "        processor,\n",
    "        target_label,\n",
    "        device,\n",
    "        clean_test_loader,\n",
    "        original_clean_accuracy\n",
    "    )\n",
    "\n",
    "    results.append({\n",
    "        'poisoning_rate': poisoning_rate,\n",
    "        'frequency': frequency,\n",
    "        'backdoor_success_rate': backdoor_success_rate,\n",
    "        'clean_accuracy_after': clean_accuracy_after,\n",
    "        'clean_accuracy_drop': clean_accuracy_drop\n",
    "    })"
   ]
  },
  {
   "cell_type": "code",
   "execution_count": 24,
   "id": "3bc87f14",
   "metadata": {
    "execution": {
     "iopub.execute_input": "2024-11-23T14:57:47.104281Z",
     "iopub.status.busy": "2024-11-23T14:57:47.103884Z",
     "iopub.status.idle": "2024-11-23T14:57:47.109792Z",
     "shell.execute_reply": "2024-11-23T14:57:47.108856Z"
    },
    "id": "oTrA_yT8V6A4",
    "papermill": {
     "duration": 0.086519,
     "end_time": "2024-11-23T14:57:47.111983",
     "exception": false,
     "start_time": "2024-11-23T14:57:47.025464",
     "status": "completed"
    },
    "tags": []
   },
   "outputs": [],
   "source": [
    "results_df = pd.DataFrame(results)"
   ]
  },
  {
   "cell_type": "code",
   "execution_count": 25,
   "id": "64c45de6",
   "metadata": {
    "execution": {
     "iopub.execute_input": "2024-11-23T14:57:47.281825Z",
     "iopub.status.busy": "2024-11-23T14:57:47.280685Z",
     "iopub.status.idle": "2024-11-23T14:57:47.296555Z",
     "shell.execute_reply": "2024-11-23T14:57:47.295644Z"
    },
    "id": "sKXLSQvgV6A4",
    "outputId": "f54eba5b-7069-49ea-8595-d86206199fd3",
    "papermill": {
     "duration": 0.094207,
     "end_time": "2024-11-23T14:57:47.298614",
     "exception": false,
     "start_time": "2024-11-23T14:57:47.204407",
     "status": "completed"
    },
    "tags": []
   },
   "outputs": [
    {
     "data": {
      "text/html": [
       "<div>\n",
       "<style scoped>\n",
       "    .dataframe tbody tr th:only-of-type {\n",
       "        vertical-align: middle;\n",
       "    }\n",
       "\n",
       "    .dataframe tbody tr th {\n",
       "        vertical-align: top;\n",
       "    }\n",
       "\n",
       "    .dataframe thead th {\n",
       "        text-align: right;\n",
       "    }\n",
       "</style>\n",
       "<table border=\"1\" class=\"dataframe\">\n",
       "  <thead>\n",
       "    <tr style=\"text-align: right;\">\n",
       "      <th></th>\n",
       "      <th>poisoning_rate</th>\n",
       "      <th>frequency</th>\n",
       "      <th>backdoor_success_rate</th>\n",
       "      <th>clean_accuracy_after</th>\n",
       "      <th>clean_accuracy_drop</th>\n",
       "    </tr>\n",
       "  </thead>\n",
       "  <tbody>\n",
       "    <tr>\n",
       "      <th>0</th>\n",
       "      <td>0.01</td>\n",
       "      <td>1000</td>\n",
       "      <td>0.925926</td>\n",
       "      <td>97.833333</td>\n",
       "      <td>-1.000000</td>\n",
       "    </tr>\n",
       "    <tr>\n",
       "      <th>1</th>\n",
       "      <td>0.01</td>\n",
       "      <td>10000</td>\n",
       "      <td>0.000000</td>\n",
       "      <td>99.333333</td>\n",
       "      <td>-2.500000</td>\n",
       "    </tr>\n",
       "    <tr>\n",
       "      <th>2</th>\n",
       "      <td>0.01</td>\n",
       "      <td>24000</td>\n",
       "      <td>0.000000</td>\n",
       "      <td>99.500000</td>\n",
       "      <td>-2.666667</td>\n",
       "    </tr>\n",
       "    <tr>\n",
       "      <th>3</th>\n",
       "      <td>0.05</td>\n",
       "      <td>1000</td>\n",
       "      <td>0.000000</td>\n",
       "      <td>97.500000</td>\n",
       "      <td>-0.666667</td>\n",
       "    </tr>\n",
       "    <tr>\n",
       "      <th>4</th>\n",
       "      <td>0.05</td>\n",
       "      <td>10000</td>\n",
       "      <td>1.111111</td>\n",
       "      <td>96.000000</td>\n",
       "      <td>0.833333</td>\n",
       "    </tr>\n",
       "    <tr>\n",
       "      <th>5</th>\n",
       "      <td>0.05</td>\n",
       "      <td>24000</td>\n",
       "      <td>13.888889</td>\n",
       "      <td>97.500000</td>\n",
       "      <td>-0.666667</td>\n",
       "    </tr>\n",
       "    <tr>\n",
       "      <th>6</th>\n",
       "      <td>0.10</td>\n",
       "      <td>1000</td>\n",
       "      <td>24.814815</td>\n",
       "      <td>93.833333</td>\n",
       "      <td>3.000000</td>\n",
       "    </tr>\n",
       "    <tr>\n",
       "      <th>7</th>\n",
       "      <td>0.10</td>\n",
       "      <td>10000</td>\n",
       "      <td>80.555556</td>\n",
       "      <td>99.500000</td>\n",
       "      <td>-2.666667</td>\n",
       "    </tr>\n",
       "    <tr>\n",
       "      <th>8</th>\n",
       "      <td>0.10</td>\n",
       "      <td>24000</td>\n",
       "      <td>89.259259</td>\n",
       "      <td>99.000000</td>\n",
       "      <td>-2.166667</td>\n",
       "    </tr>\n",
       "  </tbody>\n",
       "</table>\n",
       "</div>"
      ],
      "text/plain": [
       "   poisoning_rate  frequency  backdoor_success_rate  clean_accuracy_after  \\\n",
       "0            0.01       1000               0.925926             97.833333   \n",
       "1            0.01      10000               0.000000             99.333333   \n",
       "2            0.01      24000               0.000000             99.500000   \n",
       "3            0.05       1000               0.000000             97.500000   \n",
       "4            0.05      10000               1.111111             96.000000   \n",
       "5            0.05      24000              13.888889             97.500000   \n",
       "6            0.10       1000              24.814815             93.833333   \n",
       "7            0.10      10000              80.555556             99.500000   \n",
       "8            0.10      24000              89.259259             99.000000   \n",
       "\n",
       "   clean_accuracy_drop  \n",
       "0            -1.000000  \n",
       "1            -2.500000  \n",
       "2            -2.666667  \n",
       "3            -0.666667  \n",
       "4             0.833333  \n",
       "5            -0.666667  \n",
       "6             3.000000  \n",
       "7            -2.666667  \n",
       "8            -2.166667  "
      ]
     },
     "execution_count": 25,
     "metadata": {},
     "output_type": "execute_result"
    }
   ],
   "source": [
    "results_df"
   ]
  },
  {
   "cell_type": "code",
   "execution_count": 26,
   "id": "6d6c3bdf",
   "metadata": {
    "execution": {
     "iopub.execute_input": "2024-11-23T14:57:47.445778Z",
     "iopub.status.busy": "2024-11-23T14:57:47.445426Z",
     "iopub.status.idle": "2024-11-23T14:57:47.453817Z",
     "shell.execute_reply": "2024-11-23T14:57:47.453039Z"
    },
    "id": "BZwv3g6TV6A4",
    "papermill": {
     "duration": 0.079384,
     "end_time": "2024-11-23T14:57:47.455573",
     "exception": false,
     "start_time": "2024-11-23T14:57:47.376189",
     "status": "completed"
    },
    "tags": []
   },
   "outputs": [],
   "source": [
    "results_df.to_csv('Whisper-SD-BKDR-Composite.csv', sep='\\t', index=False)"
   ]
  }
 ],
 "metadata": {
  "colab": {
   "provenance": []
  },
  "kaggle": {
   "accelerator": "gpu",
   "dataSources": [
    {
     "datasetId": 5789127,
     "sourceId": 9510683,
     "sourceType": "datasetVersion"
    }
   ],
   "isGpuEnabled": true,
   "isInternetEnabled": true,
   "language": "python",
   "sourceType": "notebook"
  },
  "kernelspec": {
   "display_name": "Python 3",
   "language": "python",
   "name": "python3"
  },
  "language_info": {
   "codemirror_mode": {
    "name": "ipython",
    "version": 3
   },
   "file_extension": ".py",
   "mimetype": "text/x-python",
   "name": "python",
   "nbconvert_exporter": "python",
   "pygments_lexer": "ipython3",
   "version": "3.10.14"
  },
  "papermill": {
   "default_parameters": {},
   "duration": 1619.418093,
   "end_time": "2024-11-23T14:57:50.780314",
   "environment_variables": {},
   "exception": null,
   "input_path": "__notebook__.ipynb",
   "output_path": "__notebook__.ipynb",
   "parameters": {},
   "start_time": "2024-11-23T14:30:51.362221",
   "version": "2.6.0"
  },
  "widgets": {
   "application/vnd.jupyter.widget-state+json": {
    "state": {
     "02e618c6b08f4459b2101c4877c4592b": {
      "model_module": "@jupyter-widgets/base",
      "model_module_version": "1.2.0",
      "model_name": "LayoutModel",
      "state": {
       "_model_module": "@jupyter-widgets/base",
       "_model_module_version": "1.2.0",
       "_model_name": "LayoutModel",
       "_view_count": null,
       "_view_module": "@jupyter-widgets/base",
       "_view_module_version": "1.2.0",
       "_view_name": "LayoutView",
       "align_content": null,
       "align_items": null,
       "align_self": null,
       "border": null,
       "bottom": null,
       "display": null,
       "flex": null,
       "flex_flow": null,
       "grid_area": null,
       "grid_auto_columns": null,
       "grid_auto_flow": null,
       "grid_auto_rows": null,
       "grid_column": null,
       "grid_gap": null,
       "grid_row": null,
       "grid_template_areas": null,
       "grid_template_columns": null,
       "grid_template_rows": null,
       "height": null,
       "justify_content": null,
       "justify_items": null,
       "left": null,
       "margin": null,
       "max_height": null,
       "max_width": null,
       "min_height": null,
       "min_width": null,
       "object_fit": null,
       "object_position": null,
       "order": null,
       "overflow": null,
       "overflow_x": null,
       "overflow_y": null,
       "padding": null,
       "right": null,
       "top": null,
       "visibility": null,
       "width": null
      }
     },
     "03e74cfffac4439ab353837c769aea8f": {
      "model_module": "@jupyter-widgets/controls",
      "model_module_version": "1.5.0",
      "model_name": "DescriptionStyleModel",
      "state": {
       "_model_module": "@jupyter-widgets/controls",
       "_model_module_version": "1.5.0",
       "_model_name": "DescriptionStyleModel",
       "_view_count": null,
       "_view_module": "@jupyter-widgets/base",
       "_view_module_version": "1.2.0",
       "_view_name": "StyleView",
       "description_width": ""
      }
     },
     "0ab755cc950e4d259b4dc2b25c1cf22c": {
      "model_module": "@jupyter-widgets/base",
      "model_module_version": "1.2.0",
      "model_name": "LayoutModel",
      "state": {
       "_model_module": "@jupyter-widgets/base",
       "_model_module_version": "1.2.0",
       "_model_name": "LayoutModel",
       "_view_count": null,
       "_view_module": "@jupyter-widgets/base",
       "_view_module_version": "1.2.0",
       "_view_name": "LayoutView",
       "align_content": null,
       "align_items": null,
       "align_self": null,
       "border": null,
       "bottom": null,
       "display": null,
       "flex": null,
       "flex_flow": null,
       "grid_area": null,
       "grid_auto_columns": null,
       "grid_auto_flow": null,
       "grid_auto_rows": null,
       "grid_column": null,
       "grid_gap": null,
       "grid_row": null,
       "grid_template_areas": null,
       "grid_template_columns": null,
       "grid_template_rows": null,
       "height": null,
       "justify_content": null,
       "justify_items": null,
       "left": null,
       "margin": null,
       "max_height": null,
       "max_width": null,
       "min_height": null,
       "min_width": null,
       "object_fit": null,
       "object_position": null,
       "order": null,
       "overflow": null,
       "overflow_x": null,
       "overflow_y": null,
       "padding": null,
       "right": null,
       "top": null,
       "visibility": null,
       "width": null
      }
     },
     "0dc5c41e62b34b0b8cdd3d64536fcb4b": {
      "model_module": "@jupyter-widgets/base",
      "model_module_version": "1.2.0",
      "model_name": "LayoutModel",
      "state": {
       "_model_module": "@jupyter-widgets/base",
       "_model_module_version": "1.2.0",
       "_model_name": "LayoutModel",
       "_view_count": null,
       "_view_module": "@jupyter-widgets/base",
       "_view_module_version": "1.2.0",
       "_view_name": "LayoutView",
       "align_content": null,
       "align_items": null,
       "align_self": null,
       "border": null,
       "bottom": null,
       "display": null,
       "flex": null,
       "flex_flow": null,
       "grid_area": null,
       "grid_auto_columns": null,
       "grid_auto_flow": null,
       "grid_auto_rows": null,
       "grid_column": null,
       "grid_gap": null,
       "grid_row": null,
       "grid_template_areas": null,
       "grid_template_columns": null,
       "grid_template_rows": null,
       "height": null,
       "justify_content": null,
       "justify_items": null,
       "left": null,
       "margin": null,
       "max_height": null,
       "max_width": null,
       "min_height": null,
       "min_width": null,
       "object_fit": null,
       "object_position": null,
       "order": null,
       "overflow": null,
       "overflow_x": null,
       "overflow_y": null,
       "padding": null,
       "right": null,
       "top": null,
       "visibility": null,
       "width": null
      }
     },
     "0e9500299c264625abeb4decdf4e0e1b": {
      "model_module": "@jupyter-widgets/controls",
      "model_module_version": "1.5.0",
      "model_name": "HTMLModel",
      "state": {
       "_dom_classes": [],
       "_model_module": "@jupyter-widgets/controls",
       "_model_module_version": "1.5.0",
       "_model_name": "HTMLModel",
       "_view_count": null,
       "_view_module": "@jupyter-widgets/controls",
       "_view_module_version": "1.5.0",
       "_view_name": "HTMLView",
       "description": "",
       "description_tooltip": null,
       "layout": "IPY_MODEL_bc4daa40038b47eb9c6b2fa92361db4f",
       "placeholder": "​",
       "style": "IPY_MODEL_7359f181d7c648948f6c76c4adc8181d",
       "value": " 1.62k/1.62k [00:00&lt;00:00, 155kB/s]"
      }
     },
     "1104346612644e9aa95308dd9dc81028": {
      "model_module": "@jupyter-widgets/controls",
      "model_module_version": "1.5.0",
      "model_name": "DescriptionStyleModel",
      "state": {
       "_model_module": "@jupyter-widgets/controls",
       "_model_module_version": "1.5.0",
       "_model_name": "DescriptionStyleModel",
       "_view_count": null,
       "_view_module": "@jupyter-widgets/base",
       "_view_module_version": "1.2.0",
       "_view_name": "StyleView",
       "description_width": ""
      }
     },
     "1308690d30824df0895200968307bce9": {
      "model_module": "@jupyter-widgets/controls",
      "model_module_version": "1.5.0",
      "model_name": "FloatProgressModel",
      "state": {
       "_dom_classes": [],
       "_model_module": "@jupyter-widgets/controls",
       "_model_module_version": "1.5.0",
       "_model_name": "FloatProgressModel",
       "_view_count": null,
       "_view_module": "@jupyter-widgets/controls",
       "_view_module_version": "1.5.0",
       "_view_name": "ProgressView",
       "bar_style": "success",
       "description": "",
       "description_tooltip": null,
       "layout": "IPY_MODEL_02e618c6b08f4459b2101c4877c4592b",
       "max": 1830.0,
       "min": 0.0,
       "orientation": "horizontal",
       "style": "IPY_MODEL_56f91eddb3754f12adc2f0b85512c5cb",
       "value": 1830.0
      }
     },
     "14d18c86814746bf9c93de3326ceb22b": {
      "model_module": "@jupyter-widgets/base",
      "model_module_version": "1.2.0",
      "model_name": "LayoutModel",
      "state": {
       "_model_module": "@jupyter-widgets/base",
       "_model_module_version": "1.2.0",
       "_model_name": "LayoutModel",
       "_view_count": null,
       "_view_module": "@jupyter-widgets/base",
       "_view_module_version": "1.2.0",
       "_view_name": "LayoutView",
       "align_content": null,
       "align_items": null,
       "align_self": null,
       "border": null,
       "bottom": null,
       "display": null,
       "flex": null,
       "flex_flow": null,
       "grid_area": null,
       "grid_auto_columns": null,
       "grid_auto_flow": null,
       "grid_auto_rows": null,
       "grid_column": null,
       "grid_gap": null,
       "grid_row": null,
       "grid_template_areas": null,
       "grid_template_columns": null,
       "grid_template_rows": null,
       "height": null,
       "justify_content": null,
       "justify_items": null,
       "left": null,
       "margin": null,
       "max_height": null,
       "max_width": null,
       "min_height": null,
       "min_width": null,
       "object_fit": null,
       "object_position": null,
       "order": null,
       "overflow": null,
       "overflow_x": null,
       "overflow_y": null,
       "padding": null,
       "right": null,
       "top": null,
       "visibility": null,
       "width": null
      }
     },
     "1509ddfb648345408b18e404503c9094": {
      "model_module": "@jupyter-widgets/controls",
      "model_module_version": "1.5.0",
      "model_name": "FloatProgressModel",
      "state": {
       "_dom_classes": [],
       "_model_module": "@jupyter-widgets/controls",
       "_model_module_version": "1.5.0",
       "_model_name": "FloatProgressModel",
       "_view_count": null,
       "_view_module": "@jupyter-widgets/controls",
       "_view_module_version": "1.5.0",
       "_view_name": "ProgressView",
       "bar_style": "success",
       "description": "",
       "description_tooltip": null,
       "layout": "IPY_MODEL_38fce6271f76493b9e462dc8480833e1",
       "max": 184990.0,
       "min": 0.0,
       "orientation": "horizontal",
       "style": "IPY_MODEL_c6b5ac2276e44897bce9915ccc913308",
       "value": 184990.0
      }
     },
     "154c6b2a49334005bc40c46a39686090": {
      "model_module": "@jupyter-widgets/controls",
      "model_module_version": "1.5.0",
      "model_name": "HTMLModel",
      "state": {
       "_dom_classes": [],
       "_model_module": "@jupyter-widgets/controls",
       "_model_module_version": "1.5.0",
       "_model_name": "HTMLModel",
       "_view_count": null,
       "_view_module": "@jupyter-widgets/controls",
       "_view_module_version": "1.5.0",
       "_view_name": "HTMLView",
       "description": "",
       "description_tooltip": null,
       "layout": "IPY_MODEL_ad1dce7765ba4bf8b1ee20ba41b65fdb",
       "placeholder": "​",
       "style": "IPY_MODEL_50cef813b2bf45f2bd7431ade2b506f8",
       "value": "preprocessor_config.json: 100%"
      }
     },
     "1b6332462f5b45b0acb0512ad71ad52c": {
      "model_module": "@jupyter-widgets/controls",
      "model_module_version": "1.5.0",
      "model_name": "DescriptionStyleModel",
      "state": {
       "_model_module": "@jupyter-widgets/controls",
       "_model_module_version": "1.5.0",
       "_model_name": "DescriptionStyleModel",
       "_view_count": null,
       "_view_module": "@jupyter-widgets/base",
       "_view_module_version": "1.2.0",
       "_view_name": "StyleView",
       "description_width": ""
      }
     },
     "1e49fff54fb44d14b5f6224abf875884": {
      "model_module": "@jupyter-widgets/controls",
      "model_module_version": "1.5.0",
      "model_name": "DescriptionStyleModel",
      "state": {
       "_model_module": "@jupyter-widgets/controls",
       "_model_module_version": "1.5.0",
       "_model_name": "DescriptionStyleModel",
       "_view_count": null,
       "_view_module": "@jupyter-widgets/base",
       "_view_module_version": "1.2.0",
       "_view_name": "StyleView",
       "description_width": ""
      }
     },
     "1fe0671ce72641c9bfeaf52b07052f31": {
      "model_module": "@jupyter-widgets/base",
      "model_module_version": "1.2.0",
      "model_name": "LayoutModel",
      "state": {
       "_model_module": "@jupyter-widgets/base",
       "_model_module_version": "1.2.0",
       "_model_name": "LayoutModel",
       "_view_count": null,
       "_view_module": "@jupyter-widgets/base",
       "_view_module_version": "1.2.0",
       "_view_name": "LayoutView",
       "align_content": null,
       "align_items": null,
       "align_self": null,
       "border": null,
       "bottom": null,
       "display": null,
       "flex": null,
       "flex_flow": null,
       "grid_area": null,
       "grid_auto_columns": null,
       "grid_auto_flow": null,
       "grid_auto_rows": null,
       "grid_column": null,
       "grid_gap": null,
       "grid_row": null,
       "grid_template_areas": null,
       "grid_template_columns": null,
       "grid_template_rows": null,
       "height": null,
       "justify_content": null,
       "justify_items": null,
       "left": null,
       "margin": null,
       "max_height": null,
       "max_width": null,
       "min_height": null,
       "min_width": null,
       "object_fit": null,
       "object_position": null,
       "order": null,
       "overflow": null,
       "overflow_x": null,
       "overflow_y": null,
       "padding": null,
       "right": null,
       "top": null,
       "visibility": null,
       "width": null
      }
     },
     "1ff311eb746c44cf9a24ea8c4f3d0b84": {
      "model_module": "@jupyter-widgets/controls",
      "model_module_version": "1.5.0",
      "model_name": "FloatProgressModel",
      "state": {
       "_dom_classes": [],
       "_model_module": "@jupyter-widgets/controls",
       "_model_module_version": "1.5.0",
       "_model_name": "FloatProgressModel",
       "_view_count": null,
       "_view_module": "@jupyter-widgets/controls",
       "_view_module_version": "1.5.0",
       "_view_name": "ProgressView",
       "bar_style": "success",
       "description": "",
       "description_tooltip": null,
       "layout": "IPY_MODEL_39bbf071ca94456a907ff5075c337071",
       "max": 2405679.0,
       "min": 0.0,
       "orientation": "horizontal",
       "style": "IPY_MODEL_7455326f4a684ab5909e8ecf7d09973b",
       "value": 2405679.0
      }
     },
     "22edbfeca90c405f8ae8dba0203eb409": {
      "model_module": "@jupyter-widgets/controls",
      "model_module_version": "1.5.0",
      "model_name": "HTMLModel",
      "state": {
       "_dom_classes": [],
       "_model_module": "@jupyter-widgets/controls",
       "_model_module_version": "1.5.0",
       "_model_name": "HTMLModel",
       "_view_count": null,
       "_view_module": "@jupyter-widgets/controls",
       "_view_module_version": "1.5.0",
       "_view_name": "HTMLView",
       "description": "",
       "description_tooltip": null,
       "layout": "IPY_MODEL_a536ce8d84aa4597a7eadae0c81eba72",
       "placeholder": "​",
       "style": "IPY_MODEL_6b02cf3d819c456fbf226e5166f9388d",
       "value": "generation_config.json: 100%"
      }
     },
     "2544031beab64f55a247dba9d1a8e165": {
      "model_module": "@jupyter-widgets/controls",
      "model_module_version": "1.5.0",
      "model_name": "HTMLModel",
      "state": {
       "_dom_classes": [],
       "_model_module": "@jupyter-widgets/controls",
       "_model_module_version": "1.5.0",
       "_model_name": "HTMLModel",
       "_view_count": null,
       "_view_module": "@jupyter-widgets/controls",
       "_view_module_version": "1.5.0",
       "_view_name": "HTMLView",
       "description": "",
       "description_tooltip": null,
       "layout": "IPY_MODEL_f0e197d675324810965ee2fce17abcb2",
       "placeholder": "​",
       "style": "IPY_MODEL_e995b622830f46beb4e2a7748106c39e",
       "value": "added_tokens.json: 100%"
      }
     },
     "27314a928d164ddc8bfb1e2126e6797a": {
      "model_module": "@jupyter-widgets/base",
      "model_module_version": "1.2.0",
      "model_name": "LayoutModel",
      "state": {
       "_model_module": "@jupyter-widgets/base",
       "_model_module_version": "1.2.0",
       "_model_name": "LayoutModel",
       "_view_count": null,
       "_view_module": "@jupyter-widgets/base",
       "_view_module_version": "1.2.0",
       "_view_name": "LayoutView",
       "align_content": null,
       "align_items": null,
       "align_self": null,
       "border": null,
       "bottom": null,
       "display": null,
       "flex": null,
       "flex_flow": null,
       "grid_area": null,
       "grid_auto_columns": null,
       "grid_auto_flow": null,
       "grid_auto_rows": null,
       "grid_column": null,
       "grid_gap": null,
       "grid_row": null,
       "grid_template_areas": null,
       "grid_template_columns": null,
       "grid_template_rows": null,
       "height": null,
       "justify_content": null,
       "justify_items": null,
       "left": null,
       "margin": null,
       "max_height": null,
       "max_width": null,
       "min_height": null,
       "min_width": null,
       "object_fit": null,
       "object_position": null,
       "order": null,
       "overflow": null,
       "overflow_x": null,
       "overflow_y": null,
       "padding": null,
       "right": null,
       "top": null,
       "visibility": null,
       "width": null
      }
     },
     "278628b174e14416a4add6a7b01084dd": {
      "model_module": "@jupyter-widgets/controls",
      "model_module_version": "1.5.0",
      "model_name": "ProgressStyleModel",
      "state": {
       "_model_module": "@jupyter-widgets/controls",
       "_model_module_version": "1.5.0",
       "_model_name": "ProgressStyleModel",
       "_view_count": null,
       "_view_module": "@jupyter-widgets/base",
       "_view_module_version": "1.2.0",
       "_view_name": "StyleView",
       "bar_color": null,
       "description_width": ""
      }
     },
     "278925ca40e24db4bb29233320b5cef2": {
      "model_module": "@jupyter-widgets/base",
      "model_module_version": "1.2.0",
      "model_name": "LayoutModel",
      "state": {
       "_model_module": "@jupyter-widgets/base",
       "_model_module_version": "1.2.0",
       "_model_name": "LayoutModel",
       "_view_count": null,
       "_view_module": "@jupyter-widgets/base",
       "_view_module_version": "1.2.0",
       "_view_name": "LayoutView",
       "align_content": null,
       "align_items": null,
       "align_self": null,
       "border": null,
       "bottom": null,
       "display": null,
       "flex": null,
       "flex_flow": null,
       "grid_area": null,
       "grid_auto_columns": null,
       "grid_auto_flow": null,
       "grid_auto_rows": null,
       "grid_column": null,
       "grid_gap": null,
       "grid_row": null,
       "grid_template_areas": null,
       "grid_template_columns": null,
       "grid_template_rows": null,
       "height": null,
       "justify_content": null,
       "justify_items": null,
       "left": null,
       "margin": null,
       "max_height": null,
       "max_width": null,
       "min_height": null,
       "min_width": null,
       "object_fit": null,
       "object_position": null,
       "order": null,
       "overflow": null,
       "overflow_x": null,
       "overflow_y": null,
       "padding": null,
       "right": null,
       "top": null,
       "visibility": null,
       "width": null
      }
     },
     "291d987d29ab4d4eb43a049996f67281": {
      "model_module": "@jupyter-widgets/controls",
      "model_module_version": "1.5.0",
      "model_name": "DescriptionStyleModel",
      "state": {
       "_model_module": "@jupyter-widgets/controls",
       "_model_module_version": "1.5.0",
       "_model_name": "DescriptionStyleModel",
       "_view_count": null,
       "_view_module": "@jupyter-widgets/base",
       "_view_module_version": "1.2.0",
       "_view_name": "StyleView",
       "description_width": ""
      }
     },
     "2dd02bc5d8864a889ca66f2371b803ed": {
      "model_module": "@jupyter-widgets/base",
      "model_module_version": "1.2.0",
      "model_name": "LayoutModel",
      "state": {
       "_model_module": "@jupyter-widgets/base",
       "_model_module_version": "1.2.0",
       "_model_name": "LayoutModel",
       "_view_count": null,
       "_view_module": "@jupyter-widgets/base",
       "_view_module_version": "1.2.0",
       "_view_name": "LayoutView",
       "align_content": null,
       "align_items": null,
       "align_self": null,
       "border": null,
       "bottom": null,
       "display": null,
       "flex": null,
       "flex_flow": null,
       "grid_area": null,
       "grid_auto_columns": null,
       "grid_auto_flow": null,
       "grid_auto_rows": null,
       "grid_column": null,
       "grid_gap": null,
       "grid_row": null,
       "grid_template_areas": null,
       "grid_template_columns": null,
       "grid_template_rows": null,
       "height": null,
       "justify_content": null,
       "justify_items": null,
       "left": null,
       "margin": null,
       "max_height": null,
       "max_width": null,
       "min_height": null,
       "min_width": null,
       "object_fit": null,
       "object_position": null,
       "order": null,
       "overflow": null,
       "overflow_x": null,
       "overflow_y": null,
       "padding": null,
       "right": null,
       "top": null,
       "visibility": null,
       "width": null
      }
     },
     "30558c0cf2b84dcb97d0e7f30adb0413": {
      "model_module": "@jupyter-widgets/controls",
      "model_module_version": "1.5.0",
      "model_name": "HBoxModel",
      "state": {
       "_dom_classes": [],
       "_model_module": "@jupyter-widgets/controls",
       "_model_module_version": "1.5.0",
       "_model_name": "HBoxModel",
       "_view_count": null,
       "_view_module": "@jupyter-widgets/controls",
       "_view_module_version": "1.5.0",
       "_view_name": "HBoxView",
       "box_style": "",
       "children": [
        "IPY_MODEL_35ee8fb1ab4f4f20b2067bb3f5caf36f",
        "IPY_MODEL_6b3581cc9f544aaaa4d522b342d3a1e8",
        "IPY_MODEL_7f9754a750e04d8d883d1ce6cc5140be"
       ],
       "layout": "IPY_MODEL_a7eca361b22d4c07a2e8fdd688646fbc"
      }
     },
     "333d7a131feb4001ad0e5c8d505dd55c": {
      "model_module": "@jupyter-widgets/controls",
      "model_module_version": "1.5.0",
      "model_name": "ProgressStyleModel",
      "state": {
       "_model_module": "@jupyter-widgets/controls",
       "_model_module_version": "1.5.0",
       "_model_name": "ProgressStyleModel",
       "_view_count": null,
       "_view_module": "@jupyter-widgets/base",
       "_view_module_version": "1.2.0",
       "_view_name": "StyleView",
       "bar_color": null,
       "description_width": ""
      }
     },
     "35ee8fb1ab4f4f20b2067bb3f5caf36f": {
      "model_module": "@jupyter-widgets/controls",
      "model_module_version": "1.5.0",
      "model_name": "HTMLModel",
      "state": {
       "_dom_classes": [],
       "_model_module": "@jupyter-widgets/controls",
       "_model_module_version": "1.5.0",
       "_model_name": "HTMLModel",
       "_view_count": null,
       "_view_module": "@jupyter-widgets/controls",
       "_view_module_version": "1.5.0",
       "_view_name": "HTMLView",
       "description": "",
       "description_tooltip": null,
       "layout": "IPY_MODEL_c055668a653b423b9f286c5d1ac3dbf0",
       "placeholder": "​",
       "style": "IPY_MODEL_291d987d29ab4d4eb43a049996f67281",
       "value": "merges.txt: 100%"
      }
     },
     "367f3b89e35a4b33aa06fb629bd55508": {
      "model_module": "@jupyter-widgets/base",
      "model_module_version": "1.2.0",
      "model_name": "LayoutModel",
      "state": {
       "_model_module": "@jupyter-widgets/base",
       "_model_module_version": "1.2.0",
       "_model_name": "LayoutModel",
       "_view_count": null,
       "_view_module": "@jupyter-widgets/base",
       "_view_module_version": "1.2.0",
       "_view_name": "LayoutView",
       "align_content": null,
       "align_items": null,
       "align_self": null,
       "border": null,
       "bottom": null,
       "display": null,
       "flex": null,
       "flex_flow": null,
       "grid_area": null,
       "grid_auto_columns": null,
       "grid_auto_flow": null,
       "grid_auto_rows": null,
       "grid_column": null,
       "grid_gap": null,
       "grid_row": null,
       "grid_template_areas": null,
       "grid_template_columns": null,
       "grid_template_rows": null,
       "height": null,
       "justify_content": null,
       "justify_items": null,
       "left": null,
       "margin": null,
       "max_height": null,
       "max_width": null,
       "min_height": null,
       "min_width": null,
       "object_fit": null,
       "object_position": null,
       "order": null,
       "overflow": null,
       "overflow_x": null,
       "overflow_y": null,
       "padding": null,
       "right": null,
       "top": null,
       "visibility": null,
       "width": null
      }
     },
     "37d2aa3f20e34145a37979d94d7d7411": {
      "model_module": "@jupyter-widgets/base",
      "model_module_version": "1.2.0",
      "model_name": "LayoutModel",
      "state": {
       "_model_module": "@jupyter-widgets/base",
       "_model_module_version": "1.2.0",
       "_model_name": "LayoutModel",
       "_view_count": null,
       "_view_module": "@jupyter-widgets/base",
       "_view_module_version": "1.2.0",
       "_view_name": "LayoutView",
       "align_content": null,
       "align_items": null,
       "align_self": null,
       "border": null,
       "bottom": null,
       "display": null,
       "flex": null,
       "flex_flow": null,
       "grid_area": null,
       "grid_auto_columns": null,
       "grid_auto_flow": null,
       "grid_auto_rows": null,
       "grid_column": null,
       "grid_gap": null,
       "grid_row": null,
       "grid_template_areas": null,
       "grid_template_columns": null,
       "grid_template_rows": null,
       "height": null,
       "justify_content": null,
       "justify_items": null,
       "left": null,
       "margin": null,
       "max_height": null,
       "max_width": null,
       "min_height": null,
       "min_width": null,
       "object_fit": null,
       "object_position": null,
       "order": null,
       "overflow": null,
       "overflow_x": null,
       "overflow_y": null,
       "padding": null,
       "right": null,
       "top": null,
       "visibility": null,
       "width": null
      }
     },
     "38fce6271f76493b9e462dc8480833e1": {
      "model_module": "@jupyter-widgets/base",
      "model_module_version": "1.2.0",
      "model_name": "LayoutModel",
      "state": {
       "_model_module": "@jupyter-widgets/base",
       "_model_module_version": "1.2.0",
       "_model_name": "LayoutModel",
       "_view_count": null,
       "_view_module": "@jupyter-widgets/base",
       "_view_module_version": "1.2.0",
       "_view_name": "LayoutView",
       "align_content": null,
       "align_items": null,
       "align_self": null,
       "border": null,
       "bottom": null,
       "display": null,
       "flex": null,
       "flex_flow": null,
       "grid_area": null,
       "grid_auto_columns": null,
       "grid_auto_flow": null,
       "grid_auto_rows": null,
       "grid_column": null,
       "grid_gap": null,
       "grid_row": null,
       "grid_template_areas": null,
       "grid_template_columns": null,
       "grid_template_rows": null,
       "height": null,
       "justify_content": null,
       "justify_items": null,
       "left": null,
       "margin": null,
       "max_height": null,
       "max_width": null,
       "min_height": null,
       "min_width": null,
       "object_fit": null,
       "object_position": null,
       "order": null,
       "overflow": null,
       "overflow_x": null,
       "overflow_y": null,
       "padding": null,
       "right": null,
       "top": null,
       "visibility": null,
       "width": null
      }
     },
     "39bbf071ca94456a907ff5075c337071": {
      "model_module": "@jupyter-widgets/base",
      "model_module_version": "1.2.0",
      "model_name": "LayoutModel",
      "state": {
       "_model_module": "@jupyter-widgets/base",
       "_model_module_version": "1.2.0",
       "_model_name": "LayoutModel",
       "_view_count": null,
       "_view_module": "@jupyter-widgets/base",
       "_view_module_version": "1.2.0",
       "_view_name": "LayoutView",
       "align_content": null,
       "align_items": null,
       "align_self": null,
       "border": null,
       "bottom": null,
       "display": null,
       "flex": null,
       "flex_flow": null,
       "grid_area": null,
       "grid_auto_columns": null,
       "grid_auto_flow": null,
       "grid_auto_rows": null,
       "grid_column": null,
       "grid_gap": null,
       "grid_row": null,
       "grid_template_areas": null,
       "grid_template_columns": null,
       "grid_template_rows": null,
       "height": null,
       "justify_content": null,
       "justify_items": null,
       "left": null,
       "margin": null,
       "max_height": null,
       "max_width": null,
       "min_height": null,
       "min_width": null,
       "object_fit": null,
       "object_position": null,
       "order": null,
       "overflow": null,
       "overflow_x": null,
       "overflow_y": null,
       "padding": null,
       "right": null,
       "top": null,
       "visibility": null,
       "width": null
      }
     },
     "3a1f0c41e35c4eb2866a29f377fa81b4": {
      "model_module": "@jupyter-widgets/controls",
      "model_module_version": "1.5.0",
      "model_name": "HBoxModel",
      "state": {
       "_dom_classes": [],
       "_model_module": "@jupyter-widgets/controls",
       "_model_module_version": "1.5.0",
       "_model_name": "HBoxModel",
       "_view_count": null,
       "_view_module": "@jupyter-widgets/controls",
       "_view_module_version": "1.5.0",
       "_view_name": "HBoxView",
       "box_style": "",
       "children": [
        "IPY_MODEL_22edbfeca90c405f8ae8dba0203eb409",
        "IPY_MODEL_44b7d02a766349b7a58662ce7e9fa0e3",
        "IPY_MODEL_0e9500299c264625abeb4decdf4e0e1b"
       ],
       "layout": "IPY_MODEL_97fb951bba0549218b51290b6c7dd11a"
      }
     },
     "3bf5f0c366f0430e949679c5bac43932": {
      "model_module": "@jupyter-widgets/controls",
      "model_module_version": "1.5.0",
      "model_name": "HTMLModel",
      "state": {
       "_dom_classes": [],
       "_model_module": "@jupyter-widgets/controls",
       "_model_module_version": "1.5.0",
       "_model_name": "HTMLModel",
       "_view_count": null,
       "_view_module": "@jupyter-widgets/controls",
       "_view_module_version": "1.5.0",
       "_view_name": "HTMLView",
       "description": "",
       "description_tooltip": null,
       "layout": "IPY_MODEL_bf85d788a2c949a1bc128bffc0ae8f6a",
       "placeholder": "​",
       "style": "IPY_MODEL_e72daa07f2f84d3899e6f55211c7a64f",
       "value": "vocab.json: 100%"
      }
     },
     "3f479ecbca8f4ac580d853f6e8efb1e1": {
      "model_module": "@jupyter-widgets/controls",
      "model_module_version": "1.5.0",
      "model_name": "HTMLModel",
      "state": {
       "_dom_classes": [],
       "_model_module": "@jupyter-widgets/controls",
       "_model_module_version": "1.5.0",
       "_model_name": "HTMLModel",
       "_view_count": null,
       "_view_module": "@jupyter-widgets/controls",
       "_view_module_version": "1.5.0",
       "_view_name": "HTMLView",
       "description": "",
       "description_tooltip": null,
       "layout": "IPY_MODEL_367f3b89e35a4b33aa06fb629bd55508",
       "placeholder": "​",
       "style": "IPY_MODEL_ad176f1ddb014e7fbb1c3f2806d0901a",
       "value": " 52.7k/52.7k [00:00&lt;00:00, 4.21MB/s]"
      }
     },
     "42e0e7feab2f4f56afb609f948d5cd5e": {
      "model_module": "@jupyter-widgets/controls",
      "model_module_version": "1.5.0",
      "model_name": "DescriptionStyleModel",
      "state": {
       "_model_module": "@jupyter-widgets/controls",
       "_model_module_version": "1.5.0",
       "_model_name": "DescriptionStyleModel",
       "_view_count": null,
       "_view_module": "@jupyter-widgets/base",
       "_view_module_version": "1.2.0",
       "_view_name": "StyleView",
       "description_width": ""
      }
     },
     "42fb1827fa0b4aa1ba962dcd4bac3e82": {
      "model_module": "@jupyter-widgets/controls",
      "model_module_version": "1.5.0",
      "model_name": "DescriptionStyleModel",
      "state": {
       "_model_module": "@jupyter-widgets/controls",
       "_model_module_version": "1.5.0",
       "_model_name": "DescriptionStyleModel",
       "_view_count": null,
       "_view_module": "@jupyter-widgets/base",
       "_view_module_version": "1.2.0",
       "_view_name": "StyleView",
       "description_width": ""
      }
     },
     "44b7d02a766349b7a58662ce7e9fa0e3": {
      "model_module": "@jupyter-widgets/controls",
      "model_module_version": "1.5.0",
      "model_name": "FloatProgressModel",
      "state": {
       "_dom_classes": [],
       "_model_module": "@jupyter-widgets/controls",
       "_model_module_version": "1.5.0",
       "_model_name": "FloatProgressModel",
       "_view_count": null,
       "_view_module": "@jupyter-widgets/controls",
       "_view_module_version": "1.5.0",
       "_view_name": "ProgressView",
       "bar_style": "success",
       "description": "",
       "description_tooltip": null,
       "layout": "IPY_MODEL_942702679fb248beaa44d3b6297340c1",
       "max": 1621.0,
       "min": 0.0,
       "orientation": "horizontal",
       "style": "IPY_MODEL_eaa9e60fadd848bd907f6f0d42e24a52",
       "value": 1621.0
      }
     },
     "45d4489d510242918eaff460633bf77e": {
      "model_module": "@jupyter-widgets/controls",
      "model_module_version": "1.5.0",
      "model_name": "DescriptionStyleModel",
      "state": {
       "_model_module": "@jupyter-widgets/controls",
       "_model_module_version": "1.5.0",
       "_model_name": "DescriptionStyleModel",
       "_view_count": null,
       "_view_module": "@jupyter-widgets/base",
       "_view_module_version": "1.2.0",
       "_view_name": "StyleView",
       "description_width": ""
      }
     },
     "4681a74499634bf6b662510a3c4cf39e": {
      "model_module": "@jupyter-widgets/base",
      "model_module_version": "1.2.0",
      "model_name": "LayoutModel",
      "state": {
       "_model_module": "@jupyter-widgets/base",
       "_model_module_version": "1.2.0",
       "_model_name": "LayoutModel",
       "_view_count": null,
       "_view_module": "@jupyter-widgets/base",
       "_view_module_version": "1.2.0",
       "_view_name": "LayoutView",
       "align_content": null,
       "align_items": null,
       "align_self": null,
       "border": null,
       "bottom": null,
       "display": null,
       "flex": null,
       "flex_flow": null,
       "grid_area": null,
       "grid_auto_columns": null,
       "grid_auto_flow": null,
       "grid_auto_rows": null,
       "grid_column": null,
       "grid_gap": null,
       "grid_row": null,
       "grid_template_areas": null,
       "grid_template_columns": null,
       "grid_template_rows": null,
       "height": null,
       "justify_content": null,
       "justify_items": null,
       "left": null,
       "margin": null,
       "max_height": null,
       "max_width": null,
       "min_height": null,
       "min_width": null,
       "object_fit": null,
       "object_position": null,
       "order": null,
       "overflow": null,
       "overflow_x": null,
       "overflow_y": null,
       "padding": null,
       "right": null,
       "top": null,
       "visibility": null,
       "width": null
      }
     },
     "46bfdbd01c08484785e4cbe9af581392": {
      "model_module": "@jupyter-widgets/controls",
      "model_module_version": "1.5.0",
      "model_name": "FloatProgressModel",
      "state": {
       "_dom_classes": [],
       "_model_module": "@jupyter-widgets/controls",
       "_model_module_version": "1.5.0",
       "_model_name": "FloatProgressModel",
       "_view_count": null,
       "_view_module": "@jupyter-widgets/controls",
       "_view_module_version": "1.5.0",
       "_view_name": "ProgressView",
       "bar_style": "success",
       "description": "",
       "description_tooltip": null,
       "layout": "IPY_MODEL_e6001aa5dc024d3eb1ba27d534e3144d",
       "max": 1937.0,
       "min": 0.0,
       "orientation": "horizontal",
       "style": "IPY_MODEL_278628b174e14416a4add6a7b01084dd",
       "value": 1937.0
      }
     },
     "48b517325b584e26a85026d9535ac122": {
      "model_module": "@jupyter-widgets/controls",
      "model_module_version": "1.5.0",
      "model_name": "FloatProgressModel",
      "state": {
       "_dom_classes": [],
       "_model_module": "@jupyter-widgets/controls",
       "_model_module_version": "1.5.0",
       "_model_name": "FloatProgressModel",
       "_view_count": null,
       "_view_module": "@jupyter-widgets/controls",
       "_view_module_version": "1.5.0",
       "_view_name": "ProgressView",
       "bar_style": "success",
       "description": "",
       "description_tooltip": null,
       "layout": "IPY_MODEL_5476fed852da49d5a6f6e051dd89e481",
       "max": 805.0,
       "min": 0.0,
       "orientation": "horizontal",
       "style": "IPY_MODEL_333d7a131feb4001ad0e5c8d505dd55c",
       "value": 805.0
      }
     },
     "4ae51825b34a4f2dbe7b17905b695245": {
      "model_module": "@jupyter-widgets/controls",
      "model_module_version": "1.5.0",
      "model_name": "ProgressStyleModel",
      "state": {
       "_model_module": "@jupyter-widgets/controls",
       "_model_module_version": "1.5.0",
       "_model_name": "ProgressStyleModel",
       "_view_count": null,
       "_view_module": "@jupyter-widgets/base",
       "_view_module_version": "1.2.0",
       "_view_name": "StyleView",
       "bar_color": null,
       "description_width": ""
      }
     },
     "50cef813b2bf45f2bd7431ade2b506f8": {
      "model_module": "@jupyter-widgets/controls",
      "model_module_version": "1.5.0",
      "model_name": "DescriptionStyleModel",
      "state": {
       "_model_module": "@jupyter-widgets/controls",
       "_model_module_version": "1.5.0",
       "_model_name": "DescriptionStyleModel",
       "_view_count": null,
       "_view_module": "@jupyter-widgets/base",
       "_view_module_version": "1.2.0",
       "_view_name": "StyleView",
       "description_width": ""
      }
     },
     "5476fed852da49d5a6f6e051dd89e481": {
      "model_module": "@jupyter-widgets/base",
      "model_module_version": "1.2.0",
      "model_name": "LayoutModel",
      "state": {
       "_model_module": "@jupyter-widgets/base",
       "_model_module_version": "1.2.0",
       "_model_name": "LayoutModel",
       "_view_count": null,
       "_view_module": "@jupyter-widgets/base",
       "_view_module_version": "1.2.0",
       "_view_name": "LayoutView",
       "align_content": null,
       "align_items": null,
       "align_self": null,
       "border": null,
       "bottom": null,
       "display": null,
       "flex": null,
       "flex_flow": null,
       "grid_area": null,
       "grid_auto_columns": null,
       "grid_auto_flow": null,
       "grid_auto_rows": null,
       "grid_column": null,
       "grid_gap": null,
       "grid_row": null,
       "grid_template_areas": null,
       "grid_template_columns": null,
       "grid_template_rows": null,
       "height": null,
       "justify_content": null,
       "justify_items": null,
       "left": null,
       "margin": null,
       "max_height": null,
       "max_width": null,
       "min_height": null,
       "min_width": null,
       "object_fit": null,
       "object_position": null,
       "order": null,
       "overflow": null,
       "overflow_x": null,
       "overflow_y": null,
       "padding": null,
       "right": null,
       "top": null,
       "visibility": null,
       "width": null
      }
     },
     "56f91eddb3754f12adc2f0b85512c5cb": {
      "model_module": "@jupyter-widgets/controls",
      "model_module_version": "1.5.0",
      "model_name": "ProgressStyleModel",
      "state": {
       "_model_module": "@jupyter-widgets/controls",
       "_model_module_version": "1.5.0",
       "_model_name": "ProgressStyleModel",
       "_view_count": null,
       "_view_module": "@jupyter-widgets/base",
       "_view_module_version": "1.2.0",
       "_view_name": "StyleView",
       "bar_color": null,
       "description_width": ""
      }
     },
     "58b3ddac346d40969c6dff7d638e5384": {
      "model_module": "@jupyter-widgets/controls",
      "model_module_version": "1.5.0",
      "model_name": "DescriptionStyleModel",
      "state": {
       "_model_module": "@jupyter-widgets/controls",
       "_model_module_version": "1.5.0",
       "_model_name": "DescriptionStyleModel",
       "_view_count": null,
       "_view_module": "@jupyter-widgets/base",
       "_view_module_version": "1.2.0",
       "_view_name": "StyleView",
       "description_width": ""
      }
     },
     "593983a819b04affb0cc1f1cde68b07e": {
      "model_module": "@jupyter-widgets/controls",
      "model_module_version": "1.5.0",
      "model_name": "HBoxModel",
      "state": {
       "_dom_classes": [],
       "_model_module": "@jupyter-widgets/controls",
       "_model_module_version": "1.5.0",
       "_model_name": "HBoxModel",
       "_view_count": null,
       "_view_module": "@jupyter-widgets/controls",
       "_view_module_version": "1.5.0",
       "_view_name": "HBoxView",
       "box_style": "",
       "children": [
        "IPY_MODEL_931609149d1e4da0ac73dc9c69a51413",
        "IPY_MODEL_48b517325b584e26a85026d9535ac122",
        "IPY_MODEL_871b02ed21ed44f48ae903473099e3e3"
       ],
       "layout": "IPY_MODEL_b961be7fbeee4988842d1b6469d8ffa0"
      }
     },
     "5e7fbcbe1e4d4078a4d1fc49e97ba9bb": {
      "model_module": "@jupyter-widgets/base",
      "model_module_version": "1.2.0",
      "model_name": "LayoutModel",
      "state": {
       "_model_module": "@jupyter-widgets/base",
       "_model_module_version": "1.2.0",
       "_model_name": "LayoutModel",
       "_view_count": null,
       "_view_module": "@jupyter-widgets/base",
       "_view_module_version": "1.2.0",
       "_view_name": "LayoutView",
       "align_content": null,
       "align_items": null,
       "align_self": null,
       "border": null,
       "bottom": null,
       "display": null,
       "flex": null,
       "flex_flow": null,
       "grid_area": null,
       "grid_auto_columns": null,
       "grid_auto_flow": null,
       "grid_auto_rows": null,
       "grid_column": null,
       "grid_gap": null,
       "grid_row": null,
       "grid_template_areas": null,
       "grid_template_columns": null,
       "grid_template_rows": null,
       "height": null,
       "justify_content": null,
       "justify_items": null,
       "left": null,
       "margin": null,
       "max_height": null,
       "max_width": null,
       "min_height": null,
       "min_width": null,
       "object_fit": null,
       "object_position": null,
       "order": null,
       "overflow": null,
       "overflow_x": null,
       "overflow_y": null,
       "padding": null,
       "right": null,
       "top": null,
       "visibility": null,
       "width": null
      }
     },
     "6048ae531dfb45159b23af849cf2a552": {
      "model_module": "@jupyter-widgets/base",
      "model_module_version": "1.2.0",
      "model_name": "LayoutModel",
      "state": {
       "_model_module": "@jupyter-widgets/base",
       "_model_module_version": "1.2.0",
       "_model_name": "LayoutModel",
       "_view_count": null,
       "_view_module": "@jupyter-widgets/base",
       "_view_module_version": "1.2.0",
       "_view_name": "LayoutView",
       "align_content": null,
       "align_items": null,
       "align_self": null,
       "border": null,
       "bottom": null,
       "display": null,
       "flex": null,
       "flex_flow": null,
       "grid_area": null,
       "grid_auto_columns": null,
       "grid_auto_flow": null,
       "grid_auto_rows": null,
       "grid_column": null,
       "grid_gap": null,
       "grid_row": null,
       "grid_template_areas": null,
       "grid_template_columns": null,
       "grid_template_rows": null,
       "height": null,
       "justify_content": null,
       "justify_items": null,
       "left": null,
       "margin": null,
       "max_height": null,
       "max_width": null,
       "min_height": null,
       "min_width": null,
       "object_fit": null,
       "object_position": null,
       "order": null,
       "overflow": null,
       "overflow_x": null,
       "overflow_y": null,
       "padding": null,
       "right": null,
       "top": null,
       "visibility": null,
       "width": null
      }
     },
     "6118cbbfb8c84b0e8ab600d8c6d0b822": {
      "model_module": "@jupyter-widgets/controls",
      "model_module_version": "1.5.0",
      "model_name": "DescriptionStyleModel",
      "state": {
       "_model_module": "@jupyter-widgets/controls",
       "_model_module_version": "1.5.0",
       "_model_name": "DescriptionStyleModel",
       "_view_count": null,
       "_view_module": "@jupyter-widgets/base",
       "_view_module_version": "1.2.0",
       "_view_name": "StyleView",
       "description_width": ""
      }
     },
     "61a2af1b776d4c42a3d41accc653d73e": {
      "model_module": "@jupyter-widgets/controls",
      "model_module_version": "1.5.0",
      "model_name": "HBoxModel",
      "state": {
       "_dom_classes": [],
       "_model_module": "@jupyter-widgets/controls",
       "_model_module_version": "1.5.0",
       "_model_name": "HBoxModel",
       "_view_count": null,
       "_view_module": "@jupyter-widgets/controls",
       "_view_module_version": "1.5.0",
       "_view_name": "HBoxView",
       "box_style": "",
       "children": [
        "IPY_MODEL_b47f7c595bcd41769380abb003545def",
        "IPY_MODEL_fddea1f75fc549368a54c17b66264872",
        "IPY_MODEL_dc87a07e44ff4ea39d8a0b9ddaad4fcb"
       ],
       "layout": "IPY_MODEL_2dd02bc5d8864a889ca66f2371b803ed"
      }
     },
     "6203e39071284abca87971c09ab713b5": {
      "model_module": "@jupyter-widgets/controls",
      "model_module_version": "1.5.0",
      "model_name": "HBoxModel",
      "state": {
       "_dom_classes": [],
       "_model_module": "@jupyter-widgets/controls",
       "_model_module_version": "1.5.0",
       "_model_name": "HBoxModel",
       "_view_count": null,
       "_view_module": "@jupyter-widgets/controls",
       "_view_module_version": "1.5.0",
       "_view_name": "HBoxView",
       "box_style": "",
       "children": [
        "IPY_MODEL_c8c681054e9b4819a82cb9e4f2e6e97c",
        "IPY_MODEL_1308690d30824df0895200968307bce9",
        "IPY_MODEL_c1d7449f8ee345f4ab9a4813e76ade19"
       ],
       "layout": "IPY_MODEL_278925ca40e24db4bb29233320b5cef2"
      }
     },
     "63efe6c352d840b4979f01c076354c16": {
      "model_module": "@jupyter-widgets/base",
      "model_module_version": "1.2.0",
      "model_name": "LayoutModel",
      "state": {
       "_model_module": "@jupyter-widgets/base",
       "_model_module_version": "1.2.0",
       "_model_name": "LayoutModel",
       "_view_count": null,
       "_view_module": "@jupyter-widgets/base",
       "_view_module_version": "1.2.0",
       "_view_name": "LayoutView",
       "align_content": null,
       "align_items": null,
       "align_self": null,
       "border": null,
       "bottom": null,
       "display": null,
       "flex": null,
       "flex_flow": null,
       "grid_area": null,
       "grid_auto_columns": null,
       "grid_auto_flow": null,
       "grid_auto_rows": null,
       "grid_column": null,
       "grid_gap": null,
       "grid_row": null,
       "grid_template_areas": null,
       "grid_template_columns": null,
       "grid_template_rows": null,
       "height": null,
       "justify_content": null,
       "justify_items": null,
       "left": null,
       "margin": null,
       "max_height": null,
       "max_width": null,
       "min_height": null,
       "min_width": null,
       "object_fit": null,
       "object_position": null,
       "order": null,
       "overflow": null,
       "overflow_x": null,
       "overflow_y": null,
       "padding": null,
       "right": null,
       "top": null,
       "visibility": null,
       "width": null
      }
     },
     "66e37f781e5f446d953aa1faaf32c920": {
      "model_module": "@jupyter-widgets/controls",
      "model_module_version": "1.5.0",
      "model_name": "DescriptionStyleModel",
      "state": {
       "_model_module": "@jupyter-widgets/controls",
       "_model_module_version": "1.5.0",
       "_model_name": "DescriptionStyleModel",
       "_view_count": null,
       "_view_module": "@jupyter-widgets/base",
       "_view_module_version": "1.2.0",
       "_view_name": "StyleView",
       "description_width": ""
      }
     },
     "6799774fee264c8f9b379f0d6a6f83c3": {
      "model_module": "@jupyter-widgets/base",
      "model_module_version": "1.2.0",
      "model_name": "LayoutModel",
      "state": {
       "_model_module": "@jupyter-widgets/base",
       "_model_module_version": "1.2.0",
       "_model_name": "LayoutModel",
       "_view_count": null,
       "_view_module": "@jupyter-widgets/base",
       "_view_module_version": "1.2.0",
       "_view_name": "LayoutView",
       "align_content": null,
       "align_items": null,
       "align_self": null,
       "border": null,
       "bottom": null,
       "display": null,
       "flex": null,
       "flex_flow": null,
       "grid_area": null,
       "grid_auto_columns": null,
       "grid_auto_flow": null,
       "grid_auto_rows": null,
       "grid_column": null,
       "grid_gap": null,
       "grid_row": null,
       "grid_template_areas": null,
       "grid_template_columns": null,
       "grid_template_rows": null,
       "height": null,
       "justify_content": null,
       "justify_items": null,
       "left": null,
       "margin": null,
       "max_height": null,
       "max_width": null,
       "min_height": null,
       "min_width": null,
       "object_fit": null,
       "object_position": null,
       "order": null,
       "overflow": null,
       "overflow_x": null,
       "overflow_y": null,
       "padding": null,
       "right": null,
       "top": null,
       "visibility": null,
       "width": null
      }
     },
     "6b02cf3d819c456fbf226e5166f9388d": {
      "model_module": "@jupyter-widgets/controls",
      "model_module_version": "1.5.0",
      "model_name": "DescriptionStyleModel",
      "state": {
       "_model_module": "@jupyter-widgets/controls",
       "_model_module_version": "1.5.0",
       "_model_name": "DescriptionStyleModel",
       "_view_count": null,
       "_view_module": "@jupyter-widgets/base",
       "_view_module_version": "1.2.0",
       "_view_name": "StyleView",
       "description_width": ""
      }
     },
     "6b3581cc9f544aaaa4d522b342d3a1e8": {
      "model_module": "@jupyter-widgets/controls",
      "model_module_version": "1.5.0",
      "model_name": "FloatProgressModel",
      "state": {
       "_dom_classes": [],
       "_model_module": "@jupyter-widgets/controls",
       "_model_module_version": "1.5.0",
       "_model_name": "FloatProgressModel",
       "_view_count": null,
       "_view_module": "@jupyter-widgets/controls",
       "_view_module_version": "1.5.0",
       "_view_name": "ProgressView",
       "bar_style": "success",
       "description": "",
       "description_tooltip": null,
       "layout": "IPY_MODEL_b7942594538a40bb81930dabbb09104c",
       "max": 456318.0,
       "min": 0.0,
       "orientation": "horizontal",
       "style": "IPY_MODEL_4ae51825b34a4f2dbe7b17905b695245",
       "value": 456318.0
      }
     },
     "7359f181d7c648948f6c76c4adc8181d": {
      "model_module": "@jupyter-widgets/controls",
      "model_module_version": "1.5.0",
      "model_name": "DescriptionStyleModel",
      "state": {
       "_model_module": "@jupyter-widgets/controls",
       "_model_module_version": "1.5.0",
       "_model_name": "DescriptionStyleModel",
       "_view_count": null,
       "_view_module": "@jupyter-widgets/base",
       "_view_module_version": "1.2.0",
       "_view_name": "StyleView",
       "description_width": ""
      }
     },
     "7455326f4a684ab5909e8ecf7d09973b": {
      "model_module": "@jupyter-widgets/controls",
      "model_module_version": "1.5.0",
      "model_name": "ProgressStyleModel",
      "state": {
       "_model_module": "@jupyter-widgets/controls",
       "_model_module_version": "1.5.0",
       "_model_name": "ProgressStyleModel",
       "_view_count": null,
       "_view_module": "@jupyter-widgets/base",
       "_view_module_version": "1.2.0",
       "_view_name": "StyleView",
       "bar_color": null,
       "description_width": ""
      }
     },
     "7665ff7619c14aaca8a842469ae6a9c6": {
      "model_module": "@jupyter-widgets/controls",
      "model_module_version": "1.5.0",
      "model_name": "DescriptionStyleModel",
      "state": {
       "_model_module": "@jupyter-widgets/controls",
       "_model_module_version": "1.5.0",
       "_model_name": "DescriptionStyleModel",
       "_view_count": null,
       "_view_module": "@jupyter-widgets/base",
       "_view_module_version": "1.2.0",
       "_view_name": "StyleView",
       "description_width": ""
      }
     },
     "7a9ccb718a5a459aad501bc1436198f6": {
      "model_module": "@jupyter-widgets/base",
      "model_module_version": "1.2.0",
      "model_name": "LayoutModel",
      "state": {
       "_model_module": "@jupyter-widgets/base",
       "_model_module_version": "1.2.0",
       "_model_name": "LayoutModel",
       "_view_count": null,
       "_view_module": "@jupyter-widgets/base",
       "_view_module_version": "1.2.0",
       "_view_name": "LayoutView",
       "align_content": null,
       "align_items": null,
       "align_self": null,
       "border": null,
       "bottom": null,
       "display": null,
       "flex": null,
       "flex_flow": null,
       "grid_area": null,
       "grid_auto_columns": null,
       "grid_auto_flow": null,
       "grid_auto_rows": null,
       "grid_column": null,
       "grid_gap": null,
       "grid_row": null,
       "grid_template_areas": null,
       "grid_template_columns": null,
       "grid_template_rows": null,
       "height": null,
       "justify_content": null,
       "justify_items": null,
       "left": null,
       "margin": null,
       "max_height": null,
       "max_width": null,
       "min_height": null,
       "min_width": null,
       "object_fit": null,
       "object_position": null,
       "order": null,
       "overflow": null,
       "overflow_x": null,
       "overflow_y": null,
       "padding": null,
       "right": null,
       "top": null,
       "visibility": null,
       "width": null
      }
     },
     "7ba9c8a6305c4a9bb70e0e91490657e2": {
      "model_module": "@jupyter-widgets/base",
      "model_module_version": "1.2.0",
      "model_name": "LayoutModel",
      "state": {
       "_model_module": "@jupyter-widgets/base",
       "_model_module_version": "1.2.0",
       "_model_name": "LayoutModel",
       "_view_count": null,
       "_view_module": "@jupyter-widgets/base",
       "_view_module_version": "1.2.0",
       "_view_name": "LayoutView",
       "align_content": null,
       "align_items": null,
       "align_self": null,
       "border": null,
       "bottom": null,
       "display": null,
       "flex": null,
       "flex_flow": null,
       "grid_area": null,
       "grid_auto_columns": null,
       "grid_auto_flow": null,
       "grid_auto_rows": null,
       "grid_column": null,
       "grid_gap": null,
       "grid_row": null,
       "grid_template_areas": null,
       "grid_template_columns": null,
       "grid_template_rows": null,
       "height": null,
       "justify_content": null,
       "justify_items": null,
       "left": null,
       "margin": null,
       "max_height": null,
       "max_width": null,
       "min_height": null,
       "min_width": null,
       "object_fit": null,
       "object_position": null,
       "order": null,
       "overflow": null,
       "overflow_x": null,
       "overflow_y": null,
       "padding": null,
       "right": null,
       "top": null,
       "visibility": null,
       "width": null
      }
     },
     "7ce95816834047f486a3553012a10d3d": {
      "model_module": "@jupyter-widgets/controls",
      "model_module_version": "1.5.0",
      "model_name": "ProgressStyleModel",
      "state": {
       "_model_module": "@jupyter-widgets/controls",
       "_model_module_version": "1.5.0",
       "_model_name": "ProgressStyleModel",
       "_view_count": null,
       "_view_module": "@jupyter-widgets/base",
       "_view_module_version": "1.2.0",
       "_view_name": "StyleView",
       "bar_color": null,
       "description_width": ""
      }
     },
     "7f9754a750e04d8d883d1ce6cc5140be": {
      "model_module": "@jupyter-widgets/controls",
      "model_module_version": "1.5.0",
      "model_name": "HTMLModel",
      "state": {
       "_dom_classes": [],
       "_model_module": "@jupyter-widgets/controls",
       "_model_module_version": "1.5.0",
       "_model_name": "HTMLModel",
       "_view_count": null,
       "_view_module": "@jupyter-widgets/controls",
       "_view_module_version": "1.5.0",
       "_view_name": "HTMLView",
       "description": "",
       "description_tooltip": null,
       "layout": "IPY_MODEL_0ab755cc950e4d259b4dc2b25c1cf22c",
       "placeholder": "​",
       "style": "IPY_MODEL_42e0e7feab2f4f56afb609f948d5cd5e",
       "value": " 456k/456k [00:00&lt;00:00, 40.7MB/s]"
      }
     },
     "82dc629629c540228bcdeb2c7161432a": {
      "model_module": "@jupyter-widgets/controls",
      "model_module_version": "1.5.0",
      "model_name": "HTMLModel",
      "state": {
       "_dom_classes": [],
       "_model_module": "@jupyter-widgets/controls",
       "_model_module_version": "1.5.0",
       "_model_name": "HTMLModel",
       "_view_count": null,
       "_view_module": "@jupyter-widgets/controls",
       "_view_module_version": "1.5.0",
       "_view_name": "HTMLView",
       "description": "",
       "description_tooltip": null,
       "layout": "IPY_MODEL_caed8ccc8e2b4e308044e99386a4246a",
       "placeholder": "​",
       "style": "IPY_MODEL_6118cbbfb8c84b0e8ab600d8c6d0b822",
       "value": " 1.94k/1.94k [00:00&lt;00:00, 196kB/s]"
      }
     },
     "84611ddb0fb94c5d95c4f9297fc35fb2": {
      "model_module": "@jupyter-widgets/controls",
      "model_module_version": "1.5.0",
      "model_name": "ProgressStyleModel",
      "state": {
       "_model_module": "@jupyter-widgets/controls",
       "_model_module_version": "1.5.0",
       "_model_name": "ProgressStyleModel",
       "_view_count": null,
       "_view_module": "@jupyter-widgets/base",
       "_view_module_version": "1.2.0",
       "_view_name": "StyleView",
       "bar_color": null,
       "description_width": ""
      }
     },
     "8474184e0133420880f47cdb9c88e096": {
      "model_module": "@jupyter-widgets/base",
      "model_module_version": "1.2.0",
      "model_name": "LayoutModel",
      "state": {
       "_model_module": "@jupyter-widgets/base",
       "_model_module_version": "1.2.0",
       "_model_name": "LayoutModel",
       "_view_count": null,
       "_view_module": "@jupyter-widgets/base",
       "_view_module_version": "1.2.0",
       "_view_name": "LayoutView",
       "align_content": null,
       "align_items": null,
       "align_self": null,
       "border": null,
       "bottom": null,
       "display": null,
       "flex": null,
       "flex_flow": null,
       "grid_area": null,
       "grid_auto_columns": null,
       "grid_auto_flow": null,
       "grid_auto_rows": null,
       "grid_column": null,
       "grid_gap": null,
       "grid_row": null,
       "grid_template_areas": null,
       "grid_template_columns": null,
       "grid_template_rows": null,
       "height": null,
       "justify_content": null,
       "justify_items": null,
       "left": null,
       "margin": null,
       "max_height": null,
       "max_width": null,
       "min_height": null,
       "min_width": null,
       "object_fit": null,
       "object_position": null,
       "order": null,
       "overflow": null,
       "overflow_x": null,
       "overflow_y": null,
       "padding": null,
       "right": null,
       "top": null,
       "visibility": null,
       "width": null
      }
     },
     "871b02ed21ed44f48ae903473099e3e3": {
      "model_module": "@jupyter-widgets/controls",
      "model_module_version": "1.5.0",
      "model_name": "HTMLModel",
      "state": {
       "_dom_classes": [],
       "_model_module": "@jupyter-widgets/controls",
       "_model_module_version": "1.5.0",
       "_model_name": "HTMLModel",
       "_view_count": null,
       "_view_module": "@jupyter-widgets/controls",
       "_view_module_version": "1.5.0",
       "_view_name": "HTMLView",
       "description": "",
       "description_tooltip": null,
       "layout": "IPY_MODEL_9d9b7e26acc54c9c8be38e20bb8e8c0a",
       "placeholder": "​",
       "style": "IPY_MODEL_1104346612644e9aa95308dd9dc81028",
       "value": " 805/805 [00:00&lt;00:00, 75.0kB/s]"
      }
     },
     "8e9176f74f194ef5a262f232004547d4": {
      "model_module": "@jupyter-widgets/base",
      "model_module_version": "1.2.0",
      "model_name": "LayoutModel",
      "state": {
       "_model_module": "@jupyter-widgets/base",
       "_model_module_version": "1.2.0",
       "_model_name": "LayoutModel",
       "_view_count": null,
       "_view_module": "@jupyter-widgets/base",
       "_view_module_version": "1.2.0",
       "_view_name": "LayoutView",
       "align_content": null,
       "align_items": null,
       "align_self": null,
       "border": null,
       "bottom": null,
       "display": null,
       "flex": null,
       "flex_flow": null,
       "grid_area": null,
       "grid_auto_columns": null,
       "grid_auto_flow": null,
       "grid_auto_rows": null,
       "grid_column": null,
       "grid_gap": null,
       "grid_row": null,
       "grid_template_areas": null,
       "grid_template_columns": null,
       "grid_template_rows": null,
       "height": null,
       "justify_content": null,
       "justify_items": null,
       "left": null,
       "margin": null,
       "max_height": null,
       "max_width": null,
       "min_height": null,
       "min_width": null,
       "object_fit": null,
       "object_position": null,
       "order": null,
       "overflow": null,
       "overflow_x": null,
       "overflow_y": null,
       "padding": null,
       "right": null,
       "top": null,
       "visibility": null,
       "width": null
      }
     },
     "931609149d1e4da0ac73dc9c69a51413": {
      "model_module": "@jupyter-widgets/controls",
      "model_module_version": "1.5.0",
      "model_name": "HTMLModel",
      "state": {
       "_dom_classes": [],
       "_model_module": "@jupyter-widgets/controls",
       "_model_module_version": "1.5.0",
       "_model_name": "HTMLModel",
       "_view_count": null,
       "_view_module": "@jupyter-widgets/controls",
       "_view_module_version": "1.5.0",
       "_view_name": "HTMLView",
       "description": "",
       "description_tooltip": null,
       "layout": "IPY_MODEL_f28ed88ff6954b48803c8825ff0b5114",
       "placeholder": "​",
       "style": "IPY_MODEL_de19b70f8833456ca0983ed9dade163a",
       "value": "tokenizer_config.json: 100%"
      }
     },
     "93cba95bb1654205898825f60d5e115a": {
      "model_module": "@jupyter-widgets/controls",
      "model_module_version": "1.5.0",
      "model_name": "DescriptionStyleModel",
      "state": {
       "_model_module": "@jupyter-widgets/controls",
       "_model_module_version": "1.5.0",
       "_model_name": "DescriptionStyleModel",
       "_view_count": null,
       "_view_module": "@jupyter-widgets/base",
       "_view_module_version": "1.2.0",
       "_view_name": "StyleView",
       "description_width": ""
      }
     },
     "942702679fb248beaa44d3b6297340c1": {
      "model_module": "@jupyter-widgets/base",
      "model_module_version": "1.2.0",
      "model_name": "LayoutModel",
      "state": {
       "_model_module": "@jupyter-widgets/base",
       "_model_module_version": "1.2.0",
       "_model_name": "LayoutModel",
       "_view_count": null,
       "_view_module": "@jupyter-widgets/base",
       "_view_module_version": "1.2.0",
       "_view_name": "LayoutView",
       "align_content": null,
       "align_items": null,
       "align_self": null,
       "border": null,
       "bottom": null,
       "display": null,
       "flex": null,
       "flex_flow": null,
       "grid_area": null,
       "grid_auto_columns": null,
       "grid_auto_flow": null,
       "grid_auto_rows": null,
       "grid_column": null,
       "grid_gap": null,
       "grid_row": null,
       "grid_template_areas": null,
       "grid_template_columns": null,
       "grid_template_rows": null,
       "height": null,
       "justify_content": null,
       "justify_items": null,
       "left": null,
       "margin": null,
       "max_height": null,
       "max_width": null,
       "min_height": null,
       "min_width": null,
       "object_fit": null,
       "object_position": null,
       "order": null,
       "overflow": null,
       "overflow_x": null,
       "overflow_y": null,
       "padding": null,
       "right": null,
       "top": null,
       "visibility": null,
       "width": null
      }
     },
     "9554efc6360d4e0bb07f0cfb7cac3238": {
      "model_module": "@jupyter-widgets/controls",
      "model_module_version": "1.5.0",
      "model_name": "ProgressStyleModel",
      "state": {
       "_model_module": "@jupyter-widgets/controls",
       "_model_module_version": "1.5.0",
       "_model_name": "ProgressStyleModel",
       "_view_count": null,
       "_view_module": "@jupyter-widgets/base",
       "_view_module_version": "1.2.0",
       "_view_name": "StyleView",
       "bar_color": null,
       "description_width": ""
      }
     },
     "96798d95e1e848899ffe1d57a39a17be": {
      "model_module": "@jupyter-widgets/controls",
      "model_module_version": "1.5.0",
      "model_name": "HBoxModel",
      "state": {
       "_dom_classes": [],
       "_model_module": "@jupyter-widgets/controls",
       "_model_module_version": "1.5.0",
       "_model_name": "HBoxModel",
       "_view_count": null,
       "_view_module": "@jupyter-widgets/controls",
       "_view_module_version": "1.5.0",
       "_view_name": "HBoxView",
       "box_style": "",
       "children": [
        "IPY_MODEL_3bf5f0c366f0430e949679c5bac43932",
        "IPY_MODEL_f689a2b0d2384d6ea1bc3206310bb826",
        "IPY_MODEL_b3e2780e2f844039bcc6cecc5a197074"
       ],
       "layout": "IPY_MODEL_0dc5c41e62b34b0b8cdd3d64536fcb4b"
      }
     },
     "97fb951bba0549218b51290b6c7dd11a": {
      "model_module": "@jupyter-widgets/base",
      "model_module_version": "1.2.0",
      "model_name": "LayoutModel",
      "state": {
       "_model_module": "@jupyter-widgets/base",
       "_model_module_version": "1.2.0",
       "_model_name": "LayoutModel",
       "_view_count": null,
       "_view_module": "@jupyter-widgets/base",
       "_view_module_version": "1.2.0",
       "_view_name": "LayoutView",
       "align_content": null,
       "align_items": null,
       "align_self": null,
       "border": null,
       "bottom": null,
       "display": null,
       "flex": null,
       "flex_flow": null,
       "grid_area": null,
       "grid_auto_columns": null,
       "grid_auto_flow": null,
       "grid_auto_rows": null,
       "grid_column": null,
       "grid_gap": null,
       "grid_row": null,
       "grid_template_areas": null,
       "grid_template_columns": null,
       "grid_template_rows": null,
       "height": null,
       "justify_content": null,
       "justify_items": null,
       "left": null,
       "margin": null,
       "max_height": null,
       "max_width": null,
       "min_height": null,
       "min_width": null,
       "object_fit": null,
       "object_position": null,
       "order": null,
       "overflow": null,
       "overflow_x": null,
       "overflow_y": null,
       "padding": null,
       "right": null,
       "top": null,
       "visibility": null,
       "width": null
      }
     },
     "99e98a1e2e9e413aa78bc15a32bc906d": {
      "model_module": "@jupyter-widgets/controls",
      "model_module_version": "1.5.0",
      "model_name": "HTMLModel",
      "state": {
       "_dom_classes": [],
       "_model_module": "@jupyter-widgets/controls",
       "_model_module_version": "1.5.0",
       "_model_name": "HTMLModel",
       "_view_count": null,
       "_view_module": "@jupyter-widgets/controls",
       "_view_module_version": "1.5.0",
       "_view_name": "HTMLView",
       "description": "",
       "description_tooltip": null,
       "layout": "IPY_MODEL_6048ae531dfb45159b23af849cf2a552",
       "placeholder": "​",
       "style": "IPY_MODEL_d949eec134394ea4bbe0da7ba339c4d9",
       "value": "config.json: 100%"
      }
     },
     "9d9b7e26acc54c9c8be38e20bb8e8c0a": {
      "model_module": "@jupyter-widgets/base",
      "model_module_version": "1.2.0",
      "model_name": "LayoutModel",
      "state": {
       "_model_module": "@jupyter-widgets/base",
       "_model_module_version": "1.2.0",
       "_model_name": "LayoutModel",
       "_view_count": null,
       "_view_module": "@jupyter-widgets/base",
       "_view_module_version": "1.2.0",
       "_view_name": "LayoutView",
       "align_content": null,
       "align_items": null,
       "align_self": null,
       "border": null,
       "bottom": null,
       "display": null,
       "flex": null,
       "flex_flow": null,
       "grid_area": null,
       "grid_auto_columns": null,
       "grid_auto_flow": null,
       "grid_auto_rows": null,
       "grid_column": null,
       "grid_gap": null,
       "grid_row": null,
       "grid_template_areas": null,
       "grid_template_columns": null,
       "grid_template_rows": null,
       "height": null,
       "justify_content": null,
       "justify_items": null,
       "left": null,
       "margin": null,
       "max_height": null,
       "max_width": null,
       "min_height": null,
       "min_width": null,
       "object_fit": null,
       "object_position": null,
       "order": null,
       "overflow": null,
       "overflow_x": null,
       "overflow_y": null,
       "padding": null,
       "right": null,
       "top": null,
       "visibility": null,
       "width": null
      }
     },
     "a38bf19ebcb5411f8e229000c335867e": {
      "model_module": "@jupyter-widgets/base",
      "model_module_version": "1.2.0",
      "model_name": "LayoutModel",
      "state": {
       "_model_module": "@jupyter-widgets/base",
       "_model_module_version": "1.2.0",
       "_model_name": "LayoutModel",
       "_view_count": null,
       "_view_module": "@jupyter-widgets/base",
       "_view_module_version": "1.2.0",
       "_view_name": "LayoutView",
       "align_content": null,
       "align_items": null,
       "align_self": null,
       "border": null,
       "bottom": null,
       "display": null,
       "flex": null,
       "flex_flow": null,
       "grid_area": null,
       "grid_auto_columns": null,
       "grid_auto_flow": null,
       "grid_auto_rows": null,
       "grid_column": null,
       "grid_gap": null,
       "grid_row": null,
       "grid_template_areas": null,
       "grid_template_columns": null,
       "grid_template_rows": null,
       "height": null,
       "justify_content": null,
       "justify_items": null,
       "left": null,
       "margin": null,
       "max_height": null,
       "max_width": null,
       "min_height": null,
       "min_width": null,
       "object_fit": null,
       "object_position": null,
       "order": null,
       "overflow": null,
       "overflow_x": null,
       "overflow_y": null,
       "padding": null,
       "right": null,
       "top": null,
       "visibility": null,
       "width": null
      }
     },
     "a536ce8d84aa4597a7eadae0c81eba72": {
      "model_module": "@jupyter-widgets/base",
      "model_module_version": "1.2.0",
      "model_name": "LayoutModel",
      "state": {
       "_model_module": "@jupyter-widgets/base",
       "_model_module_version": "1.2.0",
       "_model_name": "LayoutModel",
       "_view_count": null,
       "_view_module": "@jupyter-widgets/base",
       "_view_module_version": "1.2.0",
       "_view_name": "LayoutView",
       "align_content": null,
       "align_items": null,
       "align_self": null,
       "border": null,
       "bottom": null,
       "display": null,
       "flex": null,
       "flex_flow": null,
       "grid_area": null,
       "grid_auto_columns": null,
       "grid_auto_flow": null,
       "grid_auto_rows": null,
       "grid_column": null,
       "grid_gap": null,
       "grid_row": null,
       "grid_template_areas": null,
       "grid_template_columns": null,
       "grid_template_rows": null,
       "height": null,
       "justify_content": null,
       "justify_items": null,
       "left": null,
       "margin": null,
       "max_height": null,
       "max_width": null,
       "min_height": null,
       "min_width": null,
       "object_fit": null,
       "object_position": null,
       "order": null,
       "overflow": null,
       "overflow_x": null,
       "overflow_y": null,
       "padding": null,
       "right": null,
       "top": null,
       "visibility": null,
       "width": null
      }
     },
     "a5da5a8220464e46b09c275b13c71348": {
      "model_module": "@jupyter-widgets/controls",
      "model_module_version": "1.5.0",
      "model_name": "FloatProgressModel",
      "state": {
       "_dom_classes": [],
       "_model_module": "@jupyter-widgets/controls",
       "_model_module_version": "1.5.0",
       "_model_name": "FloatProgressModel",
       "_view_count": null,
       "_view_module": "@jupyter-widgets/controls",
       "_view_module_version": "1.5.0",
       "_view_name": "ProgressView",
       "bar_style": "success",
       "description": "",
       "description_tooltip": null,
       "layout": "IPY_MODEL_14d18c86814746bf9c93de3326ceb22b",
       "max": 52666.0,
       "min": 0.0,
       "orientation": "horizontal",
       "style": "IPY_MODEL_f862cd458df94f2093522f3ac51a4d28",
       "value": 52666.0
      }
     },
     "a6137eca6ca64a72b1c27caec0c9206b": {
      "model_module": "@jupyter-widgets/base",
      "model_module_version": "1.2.0",
      "model_name": "LayoutModel",
      "state": {
       "_model_module": "@jupyter-widgets/base",
       "_model_module_version": "1.2.0",
       "_model_name": "LayoutModel",
       "_view_count": null,
       "_view_module": "@jupyter-widgets/base",
       "_view_module_version": "1.2.0",
       "_view_name": "LayoutView",
       "align_content": null,
       "align_items": null,
       "align_self": null,
       "border": null,
       "bottom": null,
       "display": null,
       "flex": null,
       "flex_flow": null,
       "grid_area": null,
       "grid_auto_columns": null,
       "grid_auto_flow": null,
       "grid_auto_rows": null,
       "grid_column": null,
       "grid_gap": null,
       "grid_row": null,
       "grid_template_areas": null,
       "grid_template_columns": null,
       "grid_template_rows": null,
       "height": null,
       "justify_content": null,
       "justify_items": null,
       "left": null,
       "margin": null,
       "max_height": null,
       "max_width": null,
       "min_height": null,
       "min_width": null,
       "object_fit": null,
       "object_position": null,
       "order": null,
       "overflow": null,
       "overflow_x": null,
       "overflow_y": null,
       "padding": null,
       "right": null,
       "top": null,
       "visibility": null,
       "width": null
      }
     },
     "a7eca361b22d4c07a2e8fdd688646fbc": {
      "model_module": "@jupyter-widgets/base",
      "model_module_version": "1.2.0",
      "model_name": "LayoutModel",
      "state": {
       "_model_module": "@jupyter-widgets/base",
       "_model_module_version": "1.2.0",
       "_model_name": "LayoutModel",
       "_view_count": null,
       "_view_module": "@jupyter-widgets/base",
       "_view_module_version": "1.2.0",
       "_view_name": "LayoutView",
       "align_content": null,
       "align_items": null,
       "align_self": null,
       "border": null,
       "bottom": null,
       "display": null,
       "flex": null,
       "flex_flow": null,
       "grid_area": null,
       "grid_auto_columns": null,
       "grid_auto_flow": null,
       "grid_auto_rows": null,
       "grid_column": null,
       "grid_gap": null,
       "grid_row": null,
       "grid_template_areas": null,
       "grid_template_columns": null,
       "grid_template_rows": null,
       "height": null,
       "justify_content": null,
       "justify_items": null,
       "left": null,
       "margin": null,
       "max_height": null,
       "max_width": null,
       "min_height": null,
       "min_width": null,
       "object_fit": null,
       "object_position": null,
       "order": null,
       "overflow": null,
       "overflow_x": null,
       "overflow_y": null,
       "padding": null,
       "right": null,
       "top": null,
       "visibility": null,
       "width": null
      }
     },
     "ad176f1ddb014e7fbb1c3f2806d0901a": {
      "model_module": "@jupyter-widgets/controls",
      "model_module_version": "1.5.0",
      "model_name": "DescriptionStyleModel",
      "state": {
       "_model_module": "@jupyter-widgets/controls",
       "_model_module_version": "1.5.0",
       "_model_name": "DescriptionStyleModel",
       "_view_count": null,
       "_view_module": "@jupyter-widgets/base",
       "_view_module_version": "1.2.0",
       "_view_name": "StyleView",
       "description_width": ""
      }
     },
     "ad1dce7765ba4bf8b1ee20ba41b65fdb": {
      "model_module": "@jupyter-widgets/base",
      "model_module_version": "1.2.0",
      "model_name": "LayoutModel",
      "state": {
       "_model_module": "@jupyter-widgets/base",
       "_model_module_version": "1.2.0",
       "_model_name": "LayoutModel",
       "_view_count": null,
       "_view_module": "@jupyter-widgets/base",
       "_view_module_version": "1.2.0",
       "_view_name": "LayoutView",
       "align_content": null,
       "align_items": null,
       "align_self": null,
       "border": null,
       "bottom": null,
       "display": null,
       "flex": null,
       "flex_flow": null,
       "grid_area": null,
       "grid_auto_columns": null,
       "grid_auto_flow": null,
       "grid_auto_rows": null,
       "grid_column": null,
       "grid_gap": null,
       "grid_row": null,
       "grid_template_areas": null,
       "grid_template_columns": null,
       "grid_template_rows": null,
       "height": null,
       "justify_content": null,
       "justify_items": null,
       "left": null,
       "margin": null,
       "max_height": null,
       "max_width": null,
       "min_height": null,
       "min_width": null,
       "object_fit": null,
       "object_position": null,
       "order": null,
       "overflow": null,
       "overflow_x": null,
       "overflow_y": null,
       "padding": null,
       "right": null,
       "top": null,
       "visibility": null,
       "width": null
      }
     },
     "b3e2780e2f844039bcc6cecc5a197074": {
      "model_module": "@jupyter-widgets/controls",
      "model_module_version": "1.5.0",
      "model_name": "HTMLModel",
      "state": {
       "_dom_classes": [],
       "_model_module": "@jupyter-widgets/controls",
       "_model_module_version": "1.5.0",
       "_model_name": "HTMLModel",
       "_view_count": null,
       "_view_module": "@jupyter-widgets/controls",
       "_view_module_version": "1.5.0",
       "_view_name": "HTMLView",
       "description": "",
       "description_tooltip": null,
       "layout": "IPY_MODEL_5e7fbcbe1e4d4078a4d1fc49e97ba9bb",
       "placeholder": "​",
       "style": "IPY_MODEL_03e74cfffac4439ab353837c769aea8f",
       "value": " 798k/798k [00:00&lt;00:00, 3.26MB/s]"
      }
     },
     "b47f7c595bcd41769380abb003545def": {
      "model_module": "@jupyter-widgets/controls",
      "model_module_version": "1.5.0",
      "model_name": "HTMLModel",
      "state": {
       "_dom_classes": [],
       "_model_module": "@jupyter-widgets/controls",
       "_model_module_version": "1.5.0",
       "_model_name": "HTMLModel",
       "_view_count": null,
       "_view_module": "@jupyter-widgets/controls",
       "_view_module_version": "1.5.0",
       "_view_name": "HTMLView",
       "description": "",
       "description_tooltip": null,
       "layout": "IPY_MODEL_6799774fee264c8f9b379f0d6a6f83c3",
       "placeholder": "​",
       "style": "IPY_MODEL_42fb1827fa0b4aa1ba962dcd4bac3e82",
       "value": "model.safetensors: 100%"
      }
     },
     "b5da97f5b6424a39a79afa2fa1090019": {
      "model_module": "@jupyter-widgets/controls",
      "model_module_version": "1.5.0",
      "model_name": "HTMLModel",
      "state": {
       "_dom_classes": [],
       "_model_module": "@jupyter-widgets/controls",
       "_model_module_version": "1.5.0",
       "_model_name": "HTMLModel",
       "_view_count": null,
       "_view_module": "@jupyter-widgets/controls",
       "_view_module_version": "1.5.0",
       "_view_name": "HTMLView",
       "description": "",
       "description_tooltip": null,
       "layout": "IPY_MODEL_1fe0671ce72641c9bfeaf52b07052f31",
       "placeholder": "​",
       "style": "IPY_MODEL_1b6332462f5b45b0acb0512ad71ad52c",
       "value": "normalizer.json: 100%"
      }
     },
     "b7942594538a40bb81930dabbb09104c": {
      "model_module": "@jupyter-widgets/base",
      "model_module_version": "1.2.0",
      "model_name": "LayoutModel",
      "state": {
       "_model_module": "@jupyter-widgets/base",
       "_model_module_version": "1.2.0",
       "_model_name": "LayoutModel",
       "_view_count": null,
       "_view_module": "@jupyter-widgets/base",
       "_view_module_version": "1.2.0",
       "_view_name": "LayoutView",
       "align_content": null,
       "align_items": null,
       "align_self": null,
       "border": null,
       "bottom": null,
       "display": null,
       "flex": null,
       "flex_flow": null,
       "grid_area": null,
       "grid_auto_columns": null,
       "grid_auto_flow": null,
       "grid_auto_rows": null,
       "grid_column": null,
       "grid_gap": null,
       "grid_row": null,
       "grid_template_areas": null,
       "grid_template_columns": null,
       "grid_template_rows": null,
       "height": null,
       "justify_content": null,
       "justify_items": null,
       "left": null,
       "margin": null,
       "max_height": null,
       "max_width": null,
       "min_height": null,
       "min_width": null,
       "object_fit": null,
       "object_position": null,
       "order": null,
       "overflow": null,
       "overflow_x": null,
       "overflow_y": null,
       "padding": null,
       "right": null,
       "top": null,
       "visibility": null,
       "width": null
      }
     },
     "b8d2bb3afb8d4da38e29bf766f876926": {
      "model_module": "@jupyter-widgets/controls",
      "model_module_version": "1.5.0",
      "model_name": "HTMLModel",
      "state": {
       "_dom_classes": [],
       "_model_module": "@jupyter-widgets/controls",
       "_model_module_version": "1.5.0",
       "_model_name": "HTMLModel",
       "_view_count": null,
       "_view_module": "@jupyter-widgets/controls",
       "_view_module_version": "1.5.0",
       "_view_name": "HTMLView",
       "description": "",
       "description_tooltip": null,
       "layout": "IPY_MODEL_f70235938d6f4e5194aee7d04962d2eb",
       "placeholder": "​",
       "style": "IPY_MODEL_66e37f781e5f446d953aa1faaf32c920",
       "value": " 2.41M/2.41M [00:00&lt;00:00, 5.80MB/s]"
      }
     },
     "b961be7fbeee4988842d1b6469d8ffa0": {
      "model_module": "@jupyter-widgets/base",
      "model_module_version": "1.2.0",
      "model_name": "LayoutModel",
      "state": {
       "_model_module": "@jupyter-widgets/base",
       "_model_module_version": "1.2.0",
       "_model_name": "LayoutModel",
       "_view_count": null,
       "_view_module": "@jupyter-widgets/base",
       "_view_module_version": "1.2.0",
       "_view_name": "LayoutView",
       "align_content": null,
       "align_items": null,
       "align_self": null,
       "border": null,
       "bottom": null,
       "display": null,
       "flex": null,
       "flex_flow": null,
       "grid_area": null,
       "grid_auto_columns": null,
       "grid_auto_flow": null,
       "grid_auto_rows": null,
       "grid_column": null,
       "grid_gap": null,
       "grid_row": null,
       "grid_template_areas": null,
       "grid_template_columns": null,
       "grid_template_rows": null,
       "height": null,
       "justify_content": null,
       "justify_items": null,
       "left": null,
       "margin": null,
       "max_height": null,
       "max_width": null,
       "min_height": null,
       "min_width": null,
       "object_fit": null,
       "object_position": null,
       "order": null,
       "overflow": null,
       "overflow_x": null,
       "overflow_y": null,
       "padding": null,
       "right": null,
       "top": null,
       "visibility": null,
       "width": null
      }
     },
     "bc3ae373b3a049fab3f7dd62ef28a191": {
      "model_module": "@jupyter-widgets/controls",
      "model_module_version": "1.5.0",
      "model_name": "FloatProgressModel",
      "state": {
       "_dom_classes": [],
       "_model_module": "@jupyter-widgets/controls",
       "_model_module_version": "1.5.0",
       "_model_name": "FloatProgressModel",
       "_view_count": null,
       "_view_module": "@jupyter-widgets/controls",
       "_view_module_version": "1.5.0",
       "_view_name": "ProgressView",
       "bar_style": "success",
       "description": "",
       "description_tooltip": null,
       "layout": "IPY_MODEL_7a9ccb718a5a459aad501bc1436198f6",
       "max": 34604.0,
       "min": 0.0,
       "orientation": "horizontal",
       "style": "IPY_MODEL_9554efc6360d4e0bb07f0cfb7cac3238",
       "value": 34604.0
      }
     },
     "bc4daa40038b47eb9c6b2fa92361db4f": {
      "model_module": "@jupyter-widgets/base",
      "model_module_version": "1.2.0",
      "model_name": "LayoutModel",
      "state": {
       "_model_module": "@jupyter-widgets/base",
       "_model_module_version": "1.2.0",
       "_model_name": "LayoutModel",
       "_view_count": null,
       "_view_module": "@jupyter-widgets/base",
       "_view_module_version": "1.2.0",
       "_view_name": "LayoutView",
       "align_content": null,
       "align_items": null,
       "align_self": null,
       "border": null,
       "bottom": null,
       "display": null,
       "flex": null,
       "flex_flow": null,
       "grid_area": null,
       "grid_auto_columns": null,
       "grid_auto_flow": null,
       "grid_auto_rows": null,
       "grid_column": null,
       "grid_gap": null,
       "grid_row": null,
       "grid_template_areas": null,
       "grid_template_columns": null,
       "grid_template_rows": null,
       "height": null,
       "justify_content": null,
       "justify_items": null,
       "left": null,
       "margin": null,
       "max_height": null,
       "max_width": null,
       "min_height": null,
       "min_width": null,
       "object_fit": null,
       "object_position": null,
       "order": null,
       "overflow": null,
       "overflow_x": null,
       "overflow_y": null,
       "padding": null,
       "right": null,
       "top": null,
       "visibility": null,
       "width": null
      }
     },
     "bcf1bede12d24b778631a9b15559e360": {
      "model_module": "@jupyter-widgets/controls",
      "model_module_version": "1.5.0",
      "model_name": "HBoxModel",
      "state": {
       "_dom_classes": [],
       "_model_module": "@jupyter-widgets/controls",
       "_model_module_version": "1.5.0",
       "_model_name": "HBoxModel",
       "_view_count": null,
       "_view_module": "@jupyter-widgets/controls",
       "_view_module_version": "1.5.0",
       "_view_name": "HBoxView",
       "box_style": "",
       "children": [
        "IPY_MODEL_2544031beab64f55a247dba9d1a8e165",
        "IPY_MODEL_bc3ae373b3a049fab3f7dd62ef28a191",
        "IPY_MODEL_f84ec0bb376e4e34bfd28ad743632705"
       ],
       "layout": "IPY_MODEL_8e9176f74f194ef5a262f232004547d4"
      }
     },
     "bdf347efccfb4333a9d1cf9791a38b05": {
      "model_module": "@jupyter-widgets/base",
      "model_module_version": "1.2.0",
      "model_name": "LayoutModel",
      "state": {
       "_model_module": "@jupyter-widgets/base",
       "_model_module_version": "1.2.0",
       "_model_name": "LayoutModel",
       "_view_count": null,
       "_view_module": "@jupyter-widgets/base",
       "_view_module_version": "1.2.0",
       "_view_name": "LayoutView",
       "align_content": null,
       "align_items": null,
       "align_self": null,
       "border": null,
       "bottom": null,
       "display": null,
       "flex": null,
       "flex_flow": null,
       "grid_area": null,
       "grid_auto_columns": null,
       "grid_auto_flow": null,
       "grid_auto_rows": null,
       "grid_column": null,
       "grid_gap": null,
       "grid_row": null,
       "grid_template_areas": null,
       "grid_template_columns": null,
       "grid_template_rows": null,
       "height": null,
       "justify_content": null,
       "justify_items": null,
       "left": null,
       "margin": null,
       "max_height": null,
       "max_width": null,
       "min_height": null,
       "min_width": null,
       "object_fit": null,
       "object_position": null,
       "order": null,
       "overflow": null,
       "overflow_x": null,
       "overflow_y": null,
       "padding": null,
       "right": null,
       "top": null,
       "visibility": null,
       "width": null
      }
     },
     "bf85d788a2c949a1bc128bffc0ae8f6a": {
      "model_module": "@jupyter-widgets/base",
      "model_module_version": "1.2.0",
      "model_name": "LayoutModel",
      "state": {
       "_model_module": "@jupyter-widgets/base",
       "_model_module_version": "1.2.0",
       "_model_name": "LayoutModel",
       "_view_count": null,
       "_view_module": "@jupyter-widgets/base",
       "_view_module_version": "1.2.0",
       "_view_name": "LayoutView",
       "align_content": null,
       "align_items": null,
       "align_self": null,
       "border": null,
       "bottom": null,
       "display": null,
       "flex": null,
       "flex_flow": null,
       "grid_area": null,
       "grid_auto_columns": null,
       "grid_auto_flow": null,
       "grid_auto_rows": null,
       "grid_column": null,
       "grid_gap": null,
       "grid_row": null,
       "grid_template_areas": null,
       "grid_template_columns": null,
       "grid_template_rows": null,
       "height": null,
       "justify_content": null,
       "justify_items": null,
       "left": null,
       "margin": null,
       "max_height": null,
       "max_width": null,
       "min_height": null,
       "min_width": null,
       "object_fit": null,
       "object_position": null,
       "order": null,
       "overflow": null,
       "overflow_x": null,
       "overflow_y": null,
       "padding": null,
       "right": null,
       "top": null,
       "visibility": null,
       "width": null
      }
     },
     "c001343c1f924c70a99f0e1fcb7eaebf": {
      "model_module": "@jupyter-widgets/controls",
      "model_module_version": "1.5.0",
      "model_name": "HBoxModel",
      "state": {
       "_dom_classes": [],
       "_model_module": "@jupyter-widgets/controls",
       "_model_module_version": "1.5.0",
       "_model_name": "HBoxModel",
       "_view_count": null,
       "_view_module": "@jupyter-widgets/controls",
       "_view_module_version": "1.5.0",
       "_view_name": "HBoxView",
       "box_style": "",
       "children": [
        "IPY_MODEL_99e98a1e2e9e413aa78bc15a32bc906d",
        "IPY_MODEL_46bfdbd01c08484785e4cbe9af581392",
        "IPY_MODEL_82dc629629c540228bcdeb2c7161432a"
       ],
       "layout": "IPY_MODEL_f84728074c22484e956b3be198737f08"
      }
     },
     "c055668a653b423b9f286c5d1ac3dbf0": {
      "model_module": "@jupyter-widgets/base",
      "model_module_version": "1.2.0",
      "model_name": "LayoutModel",
      "state": {
       "_model_module": "@jupyter-widgets/base",
       "_model_module_version": "1.2.0",
       "_model_name": "LayoutModel",
       "_view_count": null,
       "_view_module": "@jupyter-widgets/base",
       "_view_module_version": "1.2.0",
       "_view_name": "LayoutView",
       "align_content": null,
       "align_items": null,
       "align_self": null,
       "border": null,
       "bottom": null,
       "display": null,
       "flex": null,
       "flex_flow": null,
       "grid_area": null,
       "grid_auto_columns": null,
       "grid_auto_flow": null,
       "grid_auto_rows": null,
       "grid_column": null,
       "grid_gap": null,
       "grid_row": null,
       "grid_template_areas": null,
       "grid_template_columns": null,
       "grid_template_rows": null,
       "height": null,
       "justify_content": null,
       "justify_items": null,
       "left": null,
       "margin": null,
       "max_height": null,
       "max_width": null,
       "min_height": null,
       "min_width": null,
       "object_fit": null,
       "object_position": null,
       "order": null,
       "overflow": null,
       "overflow_x": null,
       "overflow_y": null,
       "padding": null,
       "right": null,
       "top": null,
       "visibility": null,
       "width": null
      }
     },
     "c1d7449f8ee345f4ab9a4813e76ade19": {
      "model_module": "@jupyter-widgets/controls",
      "model_module_version": "1.5.0",
      "model_name": "HTMLModel",
      "state": {
       "_dom_classes": [],
       "_model_module": "@jupyter-widgets/controls",
       "_model_module_version": "1.5.0",
       "_model_name": "HTMLModel",
       "_view_count": null,
       "_view_module": "@jupyter-widgets/controls",
       "_view_module_version": "1.5.0",
       "_view_name": "HTMLView",
       "description": "",
       "description_tooltip": null,
       "layout": "IPY_MODEL_c520c9ab5f5e47c0ad8ce5e8341c8460",
       "placeholder": "​",
       "style": "IPY_MODEL_93cba95bb1654205898825f60d5e115a",
       "value": " 1.83k/1.83k [00:00&lt;00:00, 178kB/s]"
      }
     },
     "c520c9ab5f5e47c0ad8ce5e8341c8460": {
      "model_module": "@jupyter-widgets/base",
      "model_module_version": "1.2.0",
      "model_name": "LayoutModel",
      "state": {
       "_model_module": "@jupyter-widgets/base",
       "_model_module_version": "1.2.0",
       "_model_name": "LayoutModel",
       "_view_count": null,
       "_view_module": "@jupyter-widgets/base",
       "_view_module_version": "1.2.0",
       "_view_name": "LayoutView",
       "align_content": null,
       "align_items": null,
       "align_self": null,
       "border": null,
       "bottom": null,
       "display": null,
       "flex": null,
       "flex_flow": null,
       "grid_area": null,
       "grid_auto_columns": null,
       "grid_auto_flow": null,
       "grid_auto_rows": null,
       "grid_column": null,
       "grid_gap": null,
       "grid_row": null,
       "grid_template_areas": null,
       "grid_template_columns": null,
       "grid_template_rows": null,
       "height": null,
       "justify_content": null,
       "justify_items": null,
       "left": null,
       "margin": null,
       "max_height": null,
       "max_width": null,
       "min_height": null,
       "min_width": null,
       "object_fit": null,
       "object_position": null,
       "order": null,
       "overflow": null,
       "overflow_x": null,
       "overflow_y": null,
       "padding": null,
       "right": null,
       "top": null,
       "visibility": null,
       "width": null
      }
     },
     "c6b5ac2276e44897bce9915ccc913308": {
      "model_module": "@jupyter-widgets/controls",
      "model_module_version": "1.5.0",
      "model_name": "ProgressStyleModel",
      "state": {
       "_model_module": "@jupyter-widgets/controls",
       "_model_module_version": "1.5.0",
       "_model_name": "ProgressStyleModel",
       "_view_count": null,
       "_view_module": "@jupyter-widgets/base",
       "_view_module_version": "1.2.0",
       "_view_name": "StyleView",
       "bar_color": null,
       "description_width": ""
      }
     },
     "c75e21e6a01b48669d74683ec3461d16": {
      "model_module": "@jupyter-widgets/base",
      "model_module_version": "1.2.0",
      "model_name": "LayoutModel",
      "state": {
       "_model_module": "@jupyter-widgets/base",
       "_model_module_version": "1.2.0",
       "_model_name": "LayoutModel",
       "_view_count": null,
       "_view_module": "@jupyter-widgets/base",
       "_view_module_version": "1.2.0",
       "_view_name": "LayoutView",
       "align_content": null,
       "align_items": null,
       "align_self": null,
       "border": null,
       "bottom": null,
       "display": null,
       "flex": null,
       "flex_flow": null,
       "grid_area": null,
       "grid_auto_columns": null,
       "grid_auto_flow": null,
       "grid_auto_rows": null,
       "grid_column": null,
       "grid_gap": null,
       "grid_row": null,
       "grid_template_areas": null,
       "grid_template_columns": null,
       "grid_template_rows": null,
       "height": null,
       "justify_content": null,
       "justify_items": null,
       "left": null,
       "margin": null,
       "max_height": null,
       "max_width": null,
       "min_height": null,
       "min_width": null,
       "object_fit": null,
       "object_position": null,
       "order": null,
       "overflow": null,
       "overflow_x": null,
       "overflow_y": null,
       "padding": null,
       "right": null,
       "top": null,
       "visibility": null,
       "width": null
      }
     },
     "c8c681054e9b4819a82cb9e4f2e6e97c": {
      "model_module": "@jupyter-widgets/controls",
      "model_module_version": "1.5.0",
      "model_name": "HTMLModel",
      "state": {
       "_dom_classes": [],
       "_model_module": "@jupyter-widgets/controls",
       "_model_module_version": "1.5.0",
       "_model_name": "HTMLModel",
       "_view_count": null,
       "_view_module": "@jupyter-widgets/controls",
       "_view_module_version": "1.5.0",
       "_view_name": "HTMLView",
       "description": "",
       "description_tooltip": null,
       "layout": "IPY_MODEL_63efe6c352d840b4979f01c076354c16",
       "placeholder": "​",
       "style": "IPY_MODEL_58b3ddac346d40969c6dff7d638e5384",
       "value": "special_tokens_map.json: 100%"
      }
     },
     "c9cbdf6ea35247c6931b87587c113e87": {
      "model_module": "@jupyter-widgets/controls",
      "model_module_version": "1.5.0",
      "model_name": "HTMLModel",
      "state": {
       "_dom_classes": [],
       "_model_module": "@jupyter-widgets/controls",
       "_model_module_version": "1.5.0",
       "_model_name": "HTMLModel",
       "_view_count": null,
       "_view_module": "@jupyter-widgets/controls",
       "_view_module_version": "1.5.0",
       "_view_name": "HTMLView",
       "description": "",
       "description_tooltip": null,
       "layout": "IPY_MODEL_a38bf19ebcb5411f8e229000c335867e",
       "placeholder": "​",
       "style": "IPY_MODEL_45d4489d510242918eaff460633bf77e",
       "value": " 185k/185k [00:00&lt;00:00, 1.13MB/s]"
      }
     },
     "caed8ccc8e2b4e308044e99386a4246a": {
      "model_module": "@jupyter-widgets/base",
      "model_module_version": "1.2.0",
      "model_name": "LayoutModel",
      "state": {
       "_model_module": "@jupyter-widgets/base",
       "_model_module_version": "1.2.0",
       "_model_name": "LayoutModel",
       "_view_count": null,
       "_view_module": "@jupyter-widgets/base",
       "_view_module_version": "1.2.0",
       "_view_name": "LayoutView",
       "align_content": null,
       "align_items": null,
       "align_self": null,
       "border": null,
       "bottom": null,
       "display": null,
       "flex": null,
       "flex_flow": null,
       "grid_area": null,
       "grid_auto_columns": null,
       "grid_auto_flow": null,
       "grid_auto_rows": null,
       "grid_column": null,
       "grid_gap": null,
       "grid_row": null,
       "grid_template_areas": null,
       "grid_template_columns": null,
       "grid_template_rows": null,
       "height": null,
       "justify_content": null,
       "justify_items": null,
       "left": null,
       "margin": null,
       "max_height": null,
       "max_width": null,
       "min_height": null,
       "min_width": null,
       "object_fit": null,
       "object_position": null,
       "order": null,
       "overflow": null,
       "overflow_x": null,
       "overflow_y": null,
       "padding": null,
       "right": null,
       "top": null,
       "visibility": null,
       "width": null
      }
     },
     "d6b6d07e6954407ea4014d7ec99b3344": {
      "model_module": "@jupyter-widgets/controls",
      "model_module_version": "1.5.0",
      "model_name": "HBoxModel",
      "state": {
       "_dom_classes": [],
       "_model_module": "@jupyter-widgets/controls",
       "_model_module_version": "1.5.0",
       "_model_name": "HBoxModel",
       "_view_count": null,
       "_view_module": "@jupyter-widgets/controls",
       "_view_module_version": "1.5.0",
       "_view_name": "HBoxView",
       "box_style": "",
       "children": [
        "IPY_MODEL_d83f18c8019d403b871d1e6a84ee6588",
        "IPY_MODEL_1ff311eb746c44cf9a24ea8c4f3d0b84",
        "IPY_MODEL_b8d2bb3afb8d4da38e29bf766f876926"
       ],
       "layout": "IPY_MODEL_bdf347efccfb4333a9d1cf9791a38b05"
      }
     },
     "d83f18c8019d403b871d1e6a84ee6588": {
      "model_module": "@jupyter-widgets/controls",
      "model_module_version": "1.5.0",
      "model_name": "HTMLModel",
      "state": {
       "_dom_classes": [],
       "_model_module": "@jupyter-widgets/controls",
       "_model_module_version": "1.5.0",
       "_model_name": "HTMLModel",
       "_view_count": null,
       "_view_module": "@jupyter-widgets/controls",
       "_view_module_version": "1.5.0",
       "_view_name": "HTMLView",
       "description": "",
       "description_tooltip": null,
       "layout": "IPY_MODEL_4681a74499634bf6b662510a3c4cf39e",
       "placeholder": "​",
       "style": "IPY_MODEL_ef09e40d502242ca80bcb7b9727d473e",
       "value": "tokenizer.json: 100%"
      }
     },
     "d949eec134394ea4bbe0da7ba339c4d9": {
      "model_module": "@jupyter-widgets/controls",
      "model_module_version": "1.5.0",
      "model_name": "DescriptionStyleModel",
      "state": {
       "_model_module": "@jupyter-widgets/controls",
       "_model_module_version": "1.5.0",
       "_model_name": "DescriptionStyleModel",
       "_view_count": null,
       "_view_module": "@jupyter-widgets/base",
       "_view_module_version": "1.2.0",
       "_view_name": "StyleView",
       "description_width": ""
      }
     },
     "dc87a07e44ff4ea39d8a0b9ddaad4fcb": {
      "model_module": "@jupyter-widgets/controls",
      "model_module_version": "1.5.0",
      "model_name": "HTMLModel",
      "state": {
       "_dom_classes": [],
       "_model_module": "@jupyter-widgets/controls",
       "_model_module_version": "1.5.0",
       "_model_name": "HTMLModel",
       "_view_count": null,
       "_view_module": "@jupyter-widgets/controls",
       "_view_module_version": "1.5.0",
       "_view_name": "HTMLView",
       "description": "",
       "description_tooltip": null,
       "layout": "IPY_MODEL_37d2aa3f20e34145a37979d94d7d7411",
       "placeholder": "​",
       "style": "IPY_MODEL_1e49fff54fb44d14b5f6224abf875884",
       "value": " 151M/151M [00:00&lt;00:00, 239MB/s]"
      }
     },
     "de19b70f8833456ca0983ed9dade163a": {
      "model_module": "@jupyter-widgets/controls",
      "model_module_version": "1.5.0",
      "model_name": "DescriptionStyleModel",
      "state": {
       "_model_module": "@jupyter-widgets/controls",
       "_model_module_version": "1.5.0",
       "_model_name": "DescriptionStyleModel",
       "_view_count": null,
       "_view_module": "@jupyter-widgets/base",
       "_view_module_version": "1.2.0",
       "_view_name": "StyleView",
       "description_width": ""
      }
     },
     "de8d6aca2161435c96b2d35033df24d1": {
      "model_module": "@jupyter-widgets/controls",
      "model_module_version": "1.5.0",
      "model_name": "HBoxModel",
      "state": {
       "_dom_classes": [],
       "_model_module": "@jupyter-widgets/controls",
       "_model_module_version": "1.5.0",
       "_model_name": "HBoxModel",
       "_view_count": null,
       "_view_module": "@jupyter-widgets/controls",
       "_view_module_version": "1.5.0",
       "_view_name": "HBoxView",
       "box_style": "",
       "children": [
        "IPY_MODEL_b5da97f5b6424a39a79afa2fa1090019",
        "IPY_MODEL_a5da5a8220464e46b09c275b13c71348",
        "IPY_MODEL_3f479ecbca8f4ac580d853f6e8efb1e1"
       ],
       "layout": "IPY_MODEL_7ba9c8a6305c4a9bb70e0e91490657e2"
      }
     },
     "e6001aa5dc024d3eb1ba27d534e3144d": {
      "model_module": "@jupyter-widgets/base",
      "model_module_version": "1.2.0",
      "model_name": "LayoutModel",
      "state": {
       "_model_module": "@jupyter-widgets/base",
       "_model_module_version": "1.2.0",
       "_model_name": "LayoutModel",
       "_view_count": null,
       "_view_module": "@jupyter-widgets/base",
       "_view_module_version": "1.2.0",
       "_view_name": "LayoutView",
       "align_content": null,
       "align_items": null,
       "align_self": null,
       "border": null,
       "bottom": null,
       "display": null,
       "flex": null,
       "flex_flow": null,
       "grid_area": null,
       "grid_auto_columns": null,
       "grid_auto_flow": null,
       "grid_auto_rows": null,
       "grid_column": null,
       "grid_gap": null,
       "grid_row": null,
       "grid_template_areas": null,
       "grid_template_columns": null,
       "grid_template_rows": null,
       "height": null,
       "justify_content": null,
       "justify_items": null,
       "left": null,
       "margin": null,
       "max_height": null,
       "max_width": null,
       "min_height": null,
       "min_width": null,
       "object_fit": null,
       "object_position": null,
       "order": null,
       "overflow": null,
       "overflow_x": null,
       "overflow_y": null,
       "padding": null,
       "right": null,
       "top": null,
       "visibility": null,
       "width": null
      }
     },
     "e72daa07f2f84d3899e6f55211c7a64f": {
      "model_module": "@jupyter-widgets/controls",
      "model_module_version": "1.5.0",
      "model_name": "DescriptionStyleModel",
      "state": {
       "_model_module": "@jupyter-widgets/controls",
       "_model_module_version": "1.5.0",
       "_model_name": "DescriptionStyleModel",
       "_view_count": null,
       "_view_module": "@jupyter-widgets/base",
       "_view_module_version": "1.2.0",
       "_view_name": "StyleView",
       "description_width": ""
      }
     },
     "e995b622830f46beb4e2a7748106c39e": {
      "model_module": "@jupyter-widgets/controls",
      "model_module_version": "1.5.0",
      "model_name": "DescriptionStyleModel",
      "state": {
       "_model_module": "@jupyter-widgets/controls",
       "_model_module_version": "1.5.0",
       "_model_name": "DescriptionStyleModel",
       "_view_count": null,
       "_view_module": "@jupyter-widgets/base",
       "_view_module_version": "1.2.0",
       "_view_name": "StyleView",
       "description_width": ""
      }
     },
     "eaa9e60fadd848bd907f6f0d42e24a52": {
      "model_module": "@jupyter-widgets/controls",
      "model_module_version": "1.5.0",
      "model_name": "ProgressStyleModel",
      "state": {
       "_model_module": "@jupyter-widgets/controls",
       "_model_module_version": "1.5.0",
       "_model_name": "ProgressStyleModel",
       "_view_count": null,
       "_view_module": "@jupyter-widgets/base",
       "_view_module_version": "1.2.0",
       "_view_name": "StyleView",
       "bar_color": null,
       "description_width": ""
      }
     },
     "ef09e40d502242ca80bcb7b9727d473e": {
      "model_module": "@jupyter-widgets/controls",
      "model_module_version": "1.5.0",
      "model_name": "DescriptionStyleModel",
      "state": {
       "_model_module": "@jupyter-widgets/controls",
       "_model_module_version": "1.5.0",
       "_model_name": "DescriptionStyleModel",
       "_view_count": null,
       "_view_module": "@jupyter-widgets/base",
       "_view_module_version": "1.2.0",
       "_view_name": "StyleView",
       "description_width": ""
      }
     },
     "f0e197d675324810965ee2fce17abcb2": {
      "model_module": "@jupyter-widgets/base",
      "model_module_version": "1.2.0",
      "model_name": "LayoutModel",
      "state": {
       "_model_module": "@jupyter-widgets/base",
       "_model_module_version": "1.2.0",
       "_model_name": "LayoutModel",
       "_view_count": null,
       "_view_module": "@jupyter-widgets/base",
       "_view_module_version": "1.2.0",
       "_view_name": "LayoutView",
       "align_content": null,
       "align_items": null,
       "align_self": null,
       "border": null,
       "bottom": null,
       "display": null,
       "flex": null,
       "flex_flow": null,
       "grid_area": null,
       "grid_auto_columns": null,
       "grid_auto_flow": null,
       "grid_auto_rows": null,
       "grid_column": null,
       "grid_gap": null,
       "grid_row": null,
       "grid_template_areas": null,
       "grid_template_columns": null,
       "grid_template_rows": null,
       "height": null,
       "justify_content": null,
       "justify_items": null,
       "left": null,
       "margin": null,
       "max_height": null,
       "max_width": null,
       "min_height": null,
       "min_width": null,
       "object_fit": null,
       "object_position": null,
       "order": null,
       "overflow": null,
       "overflow_x": null,
       "overflow_y": null,
       "padding": null,
       "right": null,
       "top": null,
       "visibility": null,
       "width": null
      }
     },
     "f28ed88ff6954b48803c8825ff0b5114": {
      "model_module": "@jupyter-widgets/base",
      "model_module_version": "1.2.0",
      "model_name": "LayoutModel",
      "state": {
       "_model_module": "@jupyter-widgets/base",
       "_model_module_version": "1.2.0",
       "_model_name": "LayoutModel",
       "_view_count": null,
       "_view_module": "@jupyter-widgets/base",
       "_view_module_version": "1.2.0",
       "_view_name": "LayoutView",
       "align_content": null,
       "align_items": null,
       "align_self": null,
       "border": null,
       "bottom": null,
       "display": null,
       "flex": null,
       "flex_flow": null,
       "grid_area": null,
       "grid_auto_columns": null,
       "grid_auto_flow": null,
       "grid_auto_rows": null,
       "grid_column": null,
       "grid_gap": null,
       "grid_row": null,
       "grid_template_areas": null,
       "grid_template_columns": null,
       "grid_template_rows": null,
       "height": null,
       "justify_content": null,
       "justify_items": null,
       "left": null,
       "margin": null,
       "max_height": null,
       "max_width": null,
       "min_height": null,
       "min_width": null,
       "object_fit": null,
       "object_position": null,
       "order": null,
       "overflow": null,
       "overflow_x": null,
       "overflow_y": null,
       "padding": null,
       "right": null,
       "top": null,
       "visibility": null,
       "width": null
      }
     },
     "f689a2b0d2384d6ea1bc3206310bb826": {
      "model_module": "@jupyter-widgets/controls",
      "model_module_version": "1.5.0",
      "model_name": "FloatProgressModel",
      "state": {
       "_dom_classes": [],
       "_model_module": "@jupyter-widgets/controls",
       "_model_module_version": "1.5.0",
       "_model_name": "FloatProgressModel",
       "_view_count": null,
       "_view_module": "@jupyter-widgets/controls",
       "_view_module_version": "1.5.0",
       "_view_name": "ProgressView",
       "bar_style": "success",
       "description": "",
       "description_tooltip": null,
       "layout": "IPY_MODEL_c75e21e6a01b48669d74683ec3461d16",
       "max": 798156.0,
       "min": 0.0,
       "orientation": "horizontal",
       "style": "IPY_MODEL_7ce95816834047f486a3553012a10d3d",
       "value": 798156.0
      }
     },
     "f70235938d6f4e5194aee7d04962d2eb": {
      "model_module": "@jupyter-widgets/base",
      "model_module_version": "1.2.0",
      "model_name": "LayoutModel",
      "state": {
       "_model_module": "@jupyter-widgets/base",
       "_model_module_version": "1.2.0",
       "_model_name": "LayoutModel",
       "_view_count": null,
       "_view_module": "@jupyter-widgets/base",
       "_view_module_version": "1.2.0",
       "_view_name": "LayoutView",
       "align_content": null,
       "align_items": null,
       "align_self": null,
       "border": null,
       "bottom": null,
       "display": null,
       "flex": null,
       "flex_flow": null,
       "grid_area": null,
       "grid_auto_columns": null,
       "grid_auto_flow": null,
       "grid_auto_rows": null,
       "grid_column": null,
       "grid_gap": null,
       "grid_row": null,
       "grid_template_areas": null,
       "grid_template_columns": null,
       "grid_template_rows": null,
       "height": null,
       "justify_content": null,
       "justify_items": null,
       "left": null,
       "margin": null,
       "max_height": null,
       "max_width": null,
       "min_height": null,
       "min_width": null,
       "object_fit": null,
       "object_position": null,
       "order": null,
       "overflow": null,
       "overflow_x": null,
       "overflow_y": null,
       "padding": null,
       "right": null,
       "top": null,
       "visibility": null,
       "width": null
      }
     },
     "f76b64c1a4aa479f8e7e8e87e9184bfc": {
      "model_module": "@jupyter-widgets/controls",
      "model_module_version": "1.5.0",
      "model_name": "HBoxModel",
      "state": {
       "_dom_classes": [],
       "_model_module": "@jupyter-widgets/controls",
       "_model_module_version": "1.5.0",
       "_model_name": "HBoxModel",
       "_view_count": null,
       "_view_module": "@jupyter-widgets/controls",
       "_view_module_version": "1.5.0",
       "_view_name": "HBoxView",
       "box_style": "",
       "children": [
        "IPY_MODEL_154c6b2a49334005bc40c46a39686090",
        "IPY_MODEL_1509ddfb648345408b18e404503c9094",
        "IPY_MODEL_c9cbdf6ea35247c6931b87587c113e87"
       ],
       "layout": "IPY_MODEL_a6137eca6ca64a72b1c27caec0c9206b"
      }
     },
     "f84728074c22484e956b3be198737f08": {
      "model_module": "@jupyter-widgets/base",
      "model_module_version": "1.2.0",
      "model_name": "LayoutModel",
      "state": {
       "_model_module": "@jupyter-widgets/base",
       "_model_module_version": "1.2.0",
       "_model_name": "LayoutModel",
       "_view_count": null,
       "_view_module": "@jupyter-widgets/base",
       "_view_module_version": "1.2.0",
       "_view_name": "LayoutView",
       "align_content": null,
       "align_items": null,
       "align_self": null,
       "border": null,
       "bottom": null,
       "display": null,
       "flex": null,
       "flex_flow": null,
       "grid_area": null,
       "grid_auto_columns": null,
       "grid_auto_flow": null,
       "grid_auto_rows": null,
       "grid_column": null,
       "grid_gap": null,
       "grid_row": null,
       "grid_template_areas": null,
       "grid_template_columns": null,
       "grid_template_rows": null,
       "height": null,
       "justify_content": null,
       "justify_items": null,
       "left": null,
       "margin": null,
       "max_height": null,
       "max_width": null,
       "min_height": null,
       "min_width": null,
       "object_fit": null,
       "object_position": null,
       "order": null,
       "overflow": null,
       "overflow_x": null,
       "overflow_y": null,
       "padding": null,
       "right": null,
       "top": null,
       "visibility": null,
       "width": null
      }
     },
     "f84ec0bb376e4e34bfd28ad743632705": {
      "model_module": "@jupyter-widgets/controls",
      "model_module_version": "1.5.0",
      "model_name": "HTMLModel",
      "state": {
       "_dom_classes": [],
       "_model_module": "@jupyter-widgets/controls",
       "_model_module_version": "1.5.0",
       "_model_name": "HTMLModel",
       "_view_count": null,
       "_view_module": "@jupyter-widgets/controls",
       "_view_module_version": "1.5.0",
       "_view_name": "HTMLView",
       "description": "",
       "description_tooltip": null,
       "layout": "IPY_MODEL_27314a928d164ddc8bfb1e2126e6797a",
       "placeholder": "​",
       "style": "IPY_MODEL_7665ff7619c14aaca8a842469ae6a9c6",
       "value": " 34.6k/34.6k [00:00&lt;00:00, 3.41MB/s]"
      }
     },
     "f862cd458df94f2093522f3ac51a4d28": {
      "model_module": "@jupyter-widgets/controls",
      "model_module_version": "1.5.0",
      "model_name": "ProgressStyleModel",
      "state": {
       "_model_module": "@jupyter-widgets/controls",
       "_model_module_version": "1.5.0",
       "_model_name": "ProgressStyleModel",
       "_view_count": null,
       "_view_module": "@jupyter-widgets/base",
       "_view_module_version": "1.2.0",
       "_view_name": "StyleView",
       "bar_color": null,
       "description_width": ""
      }
     },
     "fddea1f75fc549368a54c17b66264872": {
      "model_module": "@jupyter-widgets/controls",
      "model_module_version": "1.5.0",
      "model_name": "FloatProgressModel",
      "state": {
       "_dom_classes": [],
       "_model_module": "@jupyter-widgets/controls",
       "_model_module_version": "1.5.0",
       "_model_name": "FloatProgressModel",
       "_view_count": null,
       "_view_module": "@jupyter-widgets/controls",
       "_view_module_version": "1.5.0",
       "_view_name": "ProgressView",
       "bar_style": "success",
       "description": "",
       "description_tooltip": null,
       "layout": "IPY_MODEL_8474184e0133420880f47cdb9c88e096",
       "max": 151060136.0,
       "min": 0.0,
       "orientation": "horizontal",
       "style": "IPY_MODEL_84611ddb0fb94c5d95c4f9297fc35fb2",
       "value": 151060136.0
      }
     }
    },
    "version_major": 2,
    "version_minor": 0
   }
  }
 },
 "nbformat": 4,
 "nbformat_minor": 5
}

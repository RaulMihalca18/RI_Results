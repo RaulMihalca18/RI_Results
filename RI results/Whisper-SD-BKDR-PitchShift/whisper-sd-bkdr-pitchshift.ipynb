{
 "cells": [
  {
   "cell_type": "code",
   "execution_count": 1,
   "id": "914b28eb",
   "metadata": {
    "execution": {
     "iopub.execute_input": "2024-11-23T15:58:58.327125Z",
     "iopub.status.busy": "2024-11-23T15:58:58.326833Z",
     "iopub.status.idle": "2024-11-23T15:59:05.925231Z",
     "shell.execute_reply": "2024-11-23T15:59:05.924525Z"
    },
    "id": "lEpoDEoHV6Av",
    "papermill": {
     "duration": 7.621417,
     "end_time": "2024-11-23T15:59:05.927157",
     "exception": false,
     "start_time": "2024-11-23T15:58:58.305740",
     "status": "completed"
    },
    "tags": []
   },
   "outputs": [],
   "source": [
    "import os\n",
    "import glob\n",
    "import random\n",
    "import pandas as pd\n",
    "import torchaudio\n",
    "import torch\n",
    "import numpy as np\n",
    "from torch.utils.data import Dataset, DataLoader\n",
    "from transformers import WhisperProcessor, WhisperForConditionalGeneration\n",
    "from torch.optim import AdamW\n",
    "from torch.nn.utils.rnn import pad_sequence\n",
    "from tqdm import tqdm\n",
    "from itertools import product\n",
    "from sklearn.model_selection import train_test_split\n",
    "import string\n",
    "from IPython.display import Audio, display"
   ]
  },
  {
   "cell_type": "code",
   "execution_count": 2,
   "id": "34dd51ad",
   "metadata": {
    "execution": {
     "iopub.execute_input": "2024-11-23T15:59:05.963180Z",
     "iopub.status.busy": "2024-11-23T15:59:05.962716Z",
     "iopub.status.idle": "2024-11-23T15:59:06.043235Z",
     "shell.execute_reply": "2024-11-23T15:59:06.042303Z"
    },
    "id": "D7WB8I2XV6Ax",
    "outputId": "7de8f23e-e0ed-425e-c87b-bd588706d51c",
    "papermill": {
     "duration": 0.100519,
     "end_time": "2024-11-23T15:59:06.045375",
     "exception": false,
     "start_time": "2024-11-23T15:59:05.944856",
     "status": "completed"
    },
    "tags": []
   },
   "outputs": [
    {
     "name": "stdout",
     "output_type": "stream",
     "text": [
      "GPU: Tesla P100-PCIE-16GB\n"
     ]
    }
   ],
   "source": [
    "seed = 123\n",
    "random.seed(seed)\n",
    "np.random.seed(seed)\n",
    "torch.manual_seed(seed)\n",
    "torch.backends.cudnn.deterministic = True\n",
    "\n",
    "device = torch.device('cuda' if torch.cuda.is_available() else 'cpu')\n",
    "\n",
    "if str(device) == 'cuda':\n",
    "\n",
    "\n",
    "    current_device = torch.cuda.current_device()\n",
    "    gpu_name = torch.cuda.get_device_name(current_device)\n",
    "    torch.cuda.manual_seed(seed)\n",
    "    torch.cuda.manual_seed_all(seed)\n",
    "    print(f\"GPU: {gpu_name}\" )"
   ]
  },
  {
   "cell_type": "code",
   "execution_count": 3,
   "id": "4eebaa8f",
   "metadata": {
    "execution": {
     "iopub.execute_input": "2024-11-23T15:59:06.081688Z",
     "iopub.status.busy": "2024-11-23T15:59:06.081413Z",
     "iopub.status.idle": "2024-11-23T15:59:09.568995Z",
     "shell.execute_reply": "2024-11-23T15:59:09.568311Z"
    },
    "id": "GTnRbeAqV6Ay",
    "outputId": "5a8ec343-6cae-47e2-d9be-cb79dc8cd6d2",
    "papermill": {
     "duration": 3.507586,
     "end_time": "2024-11-23T15:59:09.570946",
     "exception": false,
     "start_time": "2024-11-23T15:59:06.063360",
     "status": "completed"
    },
    "tags": []
   },
   "outputs": [
    {
     "data": {
      "application/vnd.jupyter.widget-view+json": {
       "model_id": "800fbe259afa4d5bb3c0e81815f07f21",
       "version_major": 2,
       "version_minor": 0
      },
      "text/plain": [
       "preprocessor_config.json:   0%|          | 0.00/185k [00:00<?, ?B/s]"
      ]
     },
     "metadata": {},
     "output_type": "display_data"
    },
    {
     "data": {
      "application/vnd.jupyter.widget-view+json": {
       "model_id": "57a18934646342a781de507ff3138110",
       "version_major": 2,
       "version_minor": 0
      },
      "text/plain": [
       "tokenizer_config.json:   0%|          | 0.00/805 [00:00<?, ?B/s]"
      ]
     },
     "metadata": {},
     "output_type": "display_data"
    },
    {
     "data": {
      "application/vnd.jupyter.widget-view+json": {
       "model_id": "f76c489e9e42464a882dbc29103ddaeb",
       "version_major": 2,
       "version_minor": 0
      },
      "text/plain": [
       "vocab.json:   0%|          | 0.00/798k [00:00<?, ?B/s]"
      ]
     },
     "metadata": {},
     "output_type": "display_data"
    },
    {
     "data": {
      "application/vnd.jupyter.widget-view+json": {
       "model_id": "015541d3031a48bebeacd4553d41cfc6",
       "version_major": 2,
       "version_minor": 0
      },
      "text/plain": [
       "tokenizer.json:   0%|          | 0.00/2.41M [00:00<?, ?B/s]"
      ]
     },
     "metadata": {},
     "output_type": "display_data"
    },
    {
     "data": {
      "application/vnd.jupyter.widget-view+json": {
       "model_id": "8e506e10553144a4b778c39fc05b4b17",
       "version_major": 2,
       "version_minor": 0
      },
      "text/plain": [
       "merges.txt:   0%|          | 0.00/456k [00:00<?, ?B/s]"
      ]
     },
     "metadata": {},
     "output_type": "display_data"
    },
    {
     "data": {
      "application/vnd.jupyter.widget-view+json": {
       "model_id": "61b6eba7d1674906bd47089087e22ec6",
       "version_major": 2,
       "version_minor": 0
      },
      "text/plain": [
       "normalizer.json:   0%|          | 0.00/52.7k [00:00<?, ?B/s]"
      ]
     },
     "metadata": {},
     "output_type": "display_data"
    },
    {
     "data": {
      "application/vnd.jupyter.widget-view+json": {
       "model_id": "0e6d49485ae1439da9ddf2562f52efa9",
       "version_major": 2,
       "version_minor": 0
      },
      "text/plain": [
       "added_tokens.json:   0%|          | 0.00/34.6k [00:00<?, ?B/s]"
      ]
     },
     "metadata": {},
     "output_type": "display_data"
    },
    {
     "data": {
      "application/vnd.jupyter.widget-view+json": {
       "model_id": "124c632cafe9448a9d4c1f633325017a",
       "version_major": 2,
       "version_minor": 0
      },
      "text/plain": [
       "special_tokens_map.json:   0%|          | 0.00/1.83k [00:00<?, ?B/s]"
      ]
     },
     "metadata": {},
     "output_type": "display_data"
    }
   ],
   "source": [
    "device = torch.device(\"cuda\" if torch.cuda.is_available() else \"cpu\")\n",
    "\n",
    "processor = WhisperProcessor.from_pretrained(\"openai/whisper-tiny.en\", language='en')"
   ]
  },
  {
   "cell_type": "code",
   "execution_count": 4,
   "id": "c094a224",
   "metadata": {
    "execution": {
     "iopub.execute_input": "2024-11-23T15:59:09.609461Z",
     "iopub.status.busy": "2024-11-23T15:59:09.608914Z",
     "iopub.status.idle": "2024-11-23T15:59:09.614053Z",
     "shell.execute_reply": "2024-11-23T15:59:09.613300Z"
    },
    "id": "_m2FOHIHV6Ay",
    "papermill": {
     "duration": 0.025719,
     "end_time": "2024-11-23T15:59:09.615602",
     "exception": false,
     "start_time": "2024-11-23T15:59:09.589883",
     "status": "completed"
    },
    "tags": []
   },
   "outputs": [],
   "source": [
    "word_to_digit = {\n",
    "    \"zero\": 0, \"one\": 1, \"two\": 2, \"three\": 3, \"four\": 4,\n",
    "    \"five\": 5, \"six\": 6, \"seven\": 7, \"eight\": 8, \"nine\": 9\n",
    "}\n",
    "\n",
    "def extract_number_from_transcription(transcription):\n",
    "    transcription = transcription.translate(str.maketrans('', '', string.punctuation))\n",
    "    transcription = transcription.strip().lower()\n",
    "\n",
    "    if transcription.isdigit():\n",
    "        return int(transcription)\n",
    "\n",
    "    for word in transcription.split():\n",
    "        if word in word_to_digit:\n",
    "            return word_to_digit[word]\n",
    "\n",
    "    return None"
   ]
  },
  {
   "cell_type": "code",
   "execution_count": 5,
   "id": "32c41c86",
   "metadata": {
    "execution": {
     "iopub.execute_input": "2024-11-23T15:59:09.654306Z",
     "iopub.status.busy": "2024-11-23T15:59:09.653735Z",
     "iopub.status.idle": "2024-11-23T15:59:09.657984Z",
     "shell.execute_reply": "2024-11-23T15:59:09.657286Z"
    },
    "id": "B0TnZ8b5V6Az",
    "papermill": {
     "duration": 0.026162,
     "end_time": "2024-11-23T15:59:09.659527",
     "exception": false,
     "start_time": "2024-11-23T15:59:09.633365",
     "status": "completed"
    },
    "tags": []
   },
   "outputs": [],
   "source": [
    "def load_data(data_dir):\n",
    "    wav_files = glob.glob(f\"{data_dir}/*.wav\")\n",
    "    data = []\n",
    "\n",
    "    for wav_file in wav_files:\n",
    "        label = os.path.basename(wav_file).split('_')[0]\n",
    "        data.append((wav_file, label))\n",
    "\n",
    "    return pd.DataFrame(data, columns=['wavfile', 'label'])"
   ]
  },
  {
   "cell_type": "code",
   "execution_count": 6,
   "id": "676fcac8",
   "metadata": {
    "execution": {
     "iopub.execute_input": "2024-11-23T15:59:09.696390Z",
     "iopub.status.busy": "2024-11-23T15:59:09.695885Z",
     "iopub.status.idle": "2024-11-23T15:59:09.744206Z",
     "shell.execute_reply": "2024-11-23T15:59:09.743393Z"
    },
    "id": "inhD1pFoV6Az",
    "papermill": {
     "duration": 0.068564,
     "end_time": "2024-11-23T15:59:09.745976",
     "exception": false,
     "start_time": "2024-11-23T15:59:09.677412",
     "status": "completed"
    },
    "tags": []
   },
   "outputs": [],
   "source": [
    "data_dir = '/kaggle/input/spoken-digits/recordings'\n",
    "data = load_data(data_dir)\n",
    "train_data, test_data = train_test_split(data, test_size=0.2, stratify=data['label'])\n",
    "\n",
    "train_data = train_data.reset_index(drop=True)\n",
    "\n",
    "test_data = test_data.reset_index(drop=True)"
   ]
  },
  {
   "cell_type": "code",
   "execution_count": 7,
   "id": "5815376e",
   "metadata": {
    "execution": {
     "iopub.execute_input": "2024-11-23T15:59:09.783236Z",
     "iopub.status.busy": "2024-11-23T15:59:09.782643Z",
     "iopub.status.idle": "2024-11-23T15:59:09.786359Z",
     "shell.execute_reply": "2024-11-23T15:59:09.785597Z"
    },
    "id": "sgVRia5QM3lg",
    "papermill": {
     "duration": 0.023734,
     "end_time": "2024-11-23T15:59:09.787899",
     "exception": false,
     "start_time": "2024-11-23T15:59:09.764165",
     "status": "completed"
    },
    "tags": []
   },
   "outputs": [],
   "source": [
    "def word_to_number(word):\n",
    "    return word_to_digit.get(word.lower(), \"not valid\")"
   ]
  },
  {
   "cell_type": "code",
   "execution_count": 8,
   "id": "889eff2a",
   "metadata": {
    "execution": {
     "iopub.execute_input": "2024-11-23T15:59:09.824428Z",
     "iopub.status.busy": "2024-11-23T15:59:09.824174Z",
     "iopub.status.idle": "2024-11-23T15:59:09.828019Z",
     "shell.execute_reply": "2024-11-23T15:59:09.827322Z"
    },
    "id": "MSSVU22FV6Az",
    "papermill": {
     "duration": 0.023845,
     "end_time": "2024-11-23T15:59:09.829546",
     "exception": false,
     "start_time": "2024-11-23T15:59:09.805701",
     "status": "completed"
    },
    "tags": []
   },
   "outputs": [],
   "source": [
    "def backdoor_test_data_set(test_data, target_label):\n",
    "\n",
    "    target_label_int = word_to_number(target_label)\n",
    "    test_data_backdoor = test_data[test_data['label'] != str(target_label_int)]\n",
    "\n",
    "    test_data_backdoor = test_data_backdoor.reset_index(drop=True)\n",
    "    return test_data_backdoor"
   ]
  },
  {
   "cell_type": "code",
   "execution_count": 9,
   "id": "e782ea91",
   "metadata": {
    "execution": {
     "iopub.execute_input": "2024-11-23T15:59:09.866335Z",
     "iopub.status.busy": "2024-11-23T15:59:09.866069Z",
     "iopub.status.idle": "2024-11-23T15:59:09.872004Z",
     "shell.execute_reply": "2024-11-23T15:59:09.871222Z"
    },
    "id": "LBeed1FIV6A0",
    "papermill": {
     "duration": 0.0261,
     "end_time": "2024-11-23T15:59:09.873570",
     "exception": false,
     "start_time": "2024-11-23T15:59:09.847470",
     "status": "completed"
    },
    "tags": []
   },
   "outputs": [],
   "source": [
    "class AudioDatasetWhisper(Dataset):\n",
    "\n",
    "    def __init__(self, df, processor, target_sample_rate=16000):\n",
    "        self.df = df\n",
    "        self.processor = processor\n",
    "        self.target_sample_rate = target_sample_rate\n",
    "\n",
    "    def __len__(self):\n",
    "        return len(self.df)\n",
    "\n",
    "    def __getitem__(self, idx):\n",
    "        audio_path = self.df.iloc[idx]['wavfile']\n",
    "        label = self.df.iloc[idx]['label']\n",
    "        audio_data, sample_rate = torchaudio.load(audio_path)\n",
    "\n",
    "        if sample_rate != self.target_sample_rate:\n",
    "            resampler = torchaudio.transforms.Resample(orig_freq=sample_rate, new_freq=self.target_sample_rate)\n",
    "            audio_data = resampler(audio_data)\n",
    "\n",
    "        audio_data = audio_data.squeeze().numpy()\n",
    "        inputs = self.processor.feature_extractor(audio_data, return_tensors=\"pt\", sampling_rate=self.target_sample_rate)\n",
    "        label_input = self.processor.tokenizer(label, return_tensors=\"pt\").input_ids.squeeze(0)\n",
    "\n",
    "        return inputs.input_features.squeeze(0), label_input"
   ]
  },
  {
   "cell_type": "code",
   "execution_count": 10,
   "id": "7abc581d",
   "metadata": {
    "execution": {
     "iopub.execute_input": "2024-11-23T15:59:09.910111Z",
     "iopub.status.busy": "2024-11-23T15:59:09.909855Z",
     "iopub.status.idle": "2024-11-23T15:59:09.913775Z",
     "shell.execute_reply": "2024-11-23T15:59:09.913060Z"
    },
    "id": "xrb50AZ9V6A0",
    "papermill": {
     "duration": 0.024136,
     "end_time": "2024-11-23T15:59:09.915379",
     "exception": false,
     "start_time": "2024-11-23T15:59:09.891243",
     "status": "completed"
    },
    "tags": []
   },
   "outputs": [],
   "source": [
    "def pre_dataloader(batch):\n",
    "    audio_features, labels = zip(*batch)\n",
    "    audio_features = torch.stack(audio_features)\n",
    "    labels_padded = pad_sequence(labels, batch_first=True, padding_value=processor.tokenizer.pad_token_id)\n",
    "    return audio_features, labels_padded"
   ]
  },
  {
   "cell_type": "code",
   "execution_count": 11,
   "id": "43ff4736",
   "metadata": {
    "execution": {
     "iopub.execute_input": "2024-11-23T15:59:09.951892Z",
     "iopub.status.busy": "2024-11-23T15:59:09.951654Z",
     "iopub.status.idle": "2024-11-23T15:59:09.960544Z",
     "shell.execute_reply": "2024-11-23T15:59:09.959871Z"
    },
    "id": "HwVp0MTZV6A0",
    "papermill": {
     "duration": 0.028869,
     "end_time": "2024-11-23T15:59:09.961996",
     "exception": false,
     "start_time": "2024-11-23T15:59:09.933127",
     "status": "completed"
    },
    "tags": []
   },
   "outputs": [],
   "source": [
    "class PoisonedAudioDatasetWhisper(Dataset):\n",
    "\n",
    "    def __init__(self, df, processor, target_label, poisoning_rate=0.1, frequency=8000, target_sample_rate=16000, play_samples=False, shift_semitone = 3):\n",
    "        self.df = df\n",
    "        self.processor = processor\n",
    "        self.target_label = target_label\n",
    "        self.poisoning_rate = poisoning_rate\n",
    "        self.frequency = frequency\n",
    "        self.target_sample_rate = target_sample_rate\n",
    "        self.play_samples = play_samples\n",
    "        self.saved_count = 0\n",
    "        self.shift_semitone = shift_semitone\n",
    "\n",
    "        num_poisoned = int(len(df) * poisoning_rate)\n",
    "        self.poisoned_indices = set(random.sample(range(len(df)), num_poisoned))\n",
    "\n",
    "    def add_pitch_shift_trigger(self, audio_data):\n",
    "\n",
    "        pitch_shifted_audio = torchaudio.transforms.PitchShift(\n",
    "            sample_rate=self.target_sample_rate, n_steps=self.shift_semitone\n",
    "        )(audio_data)\n",
    "\n",
    "        return pitch_shifted_audio.clamp(-1.0, 1.0)\n",
    "\n",
    "    def __len__(self):\n",
    "        return len(self.df)\n",
    "\n",
    "    def __getitem__(self, idx):\n",
    "        audio_path = self.df.iloc[idx]['wavfile']\n",
    "        label = self.df.iloc[idx]['label']\n",
    "        audio_data, sample_rate = torchaudio.load(audio_path)\n",
    "\n",
    "        if sample_rate != self.target_sample_rate:\n",
    "            resampler = torchaudio.transforms.Resample(orig_freq=sample_rate, new_freq=self.target_sample_rate)\n",
    "            audio_data = resampler(audio_data)\n",
    "\n",
    "        if self.play_samples and idx in self.poisoned_indices and self.saved_count < 2:\n",
    "            print(f\"Playing clean audio for sample {self.saved_count}\")\n",
    "            display(Audio(audio_data.detach().numpy(), rate=self.target_sample_rate))\n",
    "\n",
    "\n",
    "        if idx in self.poisoned_indices:\n",
    "            audio_data = self.add_pitch_shift_trigger(audio_data)\n",
    "            label = self.target_label\n",
    "\n",
    "            if self.play_samples and self.saved_count < 2:\n",
    "                print(f\"Playing poisoned audio for sample {self.saved_count}\")\n",
    "                display(Audio(audio_data.detach().numpy(), rate=self.target_sample_rate))\n",
    "                self.saved_count += 1\n",
    "\n",
    "        audio_data = audio_data.squeeze().detach().numpy()\n",
    "\n",
    "        inputs = self.processor.feature_extractor(audio_data, return_tensors=\"pt\", sampling_rate=self.target_sample_rate)\n",
    "        label_input = self.processor.tokenizer(label, return_tensors=\"pt\").input_ids.squeeze(0)\n",
    "\n",
    "        return inputs.input_features.squeeze(0), label_input"
   ]
  },
  {
   "cell_type": "code",
   "execution_count": 12,
   "id": "726b3aed",
   "metadata": {
    "execution": {
     "iopub.execute_input": "2024-11-23T15:59:09.998886Z",
     "iopub.status.busy": "2024-11-23T15:59:09.998640Z",
     "iopub.status.idle": "2024-11-23T15:59:10.004837Z",
     "shell.execute_reply": "2024-11-23T15:59:10.004174Z"
    },
    "id": "lmLDUveCV6A1",
    "papermill": {
     "duration": 0.026311,
     "end_time": "2024-11-23T15:59:10.006256",
     "exception": false,
     "start_time": "2024-11-23T15:59:09.979945",
     "status": "completed"
    },
    "tags": []
   },
   "outputs": [],
   "source": [
    "def train_whisper_clean(model, processor, train_loader, optimizer, epoch, device):\n",
    "    model.train()\n",
    "    total_loss = 0\n",
    "    correct_predictions = 0\n",
    "    total_samples = 0\n",
    "\n",
    "    for batch in tqdm(train_loader):\n",
    "        audio_data, labels = batch\n",
    "        audio_data = audio_data.to(device)\n",
    "        labels = labels.to(device)\n",
    "\n",
    "        optimizer.zero_grad()\n",
    "        outputs = model(input_features=audio_data, labels=labels)\n",
    "        loss = outputs.loss\n",
    "        loss.backward()\n",
    "        optimizer.step()\n",
    "\n",
    "        total_loss += loss.item()\n",
    "        predicted_ids = model.generate(input_features=audio_data)\n",
    "        predicted_texts = processor.batch_decode(predicted_ids, skip_special_tokens=True)\n",
    "        true_texts = [processor.decode(label, skip_special_tokens=True) for label in labels]\n",
    "\n",
    "        for pred_text, true_text in zip(predicted_texts, true_texts):\n",
    "            pred_digit = extract_number_from_transcription(pred_text)\n",
    "            true_digit = extract_number_from_transcription(true_text)\n",
    "\n",
    "            if pred_digit is not None and true_digit is not None and pred_digit == true_digit:\n",
    "                correct_predictions += 1\n",
    "        total_samples += len(true_texts)\n",
    "#         print(correct_predictions, total_samples)\n",
    "\n",
    "    avg_loss = total_loss / len(train_loader)\n",
    "    accuracy = correct_predictions / total_samples\n",
    "    print(f\"Epoch {epoch}, Loss: {avg_loss}, Training Accuracy: {accuracy * 100}\")\n",
    "\n",
    "    return accuracy * 100"
   ]
  },
  {
   "cell_type": "code",
   "execution_count": 13,
   "id": "08ef513f",
   "metadata": {
    "execution": {
     "iopub.execute_input": "2024-11-23T15:59:10.043186Z",
     "iopub.status.busy": "2024-11-23T15:59:10.042690Z",
     "iopub.status.idle": "2024-11-23T15:59:10.049157Z",
     "shell.execute_reply": "2024-11-23T15:59:10.048418Z"
    },
    "id": "CoIkOY89V6A1",
    "papermill": {
     "duration": 0.026692,
     "end_time": "2024-11-23T15:59:10.050815",
     "exception": false,
     "start_time": "2024-11-23T15:59:10.024123",
     "status": "completed"
    },
    "tags": []
   },
   "outputs": [],
   "source": [
    "def train_whisper_poisoned(model, processor, train_loader, optimizer, epoch, device):\n",
    "    model.train()\n",
    "    total_loss = 0\n",
    "    correct_predictions = 0\n",
    "    total_samples = 0\n",
    "\n",
    "    for batch in tqdm(train_loader):\n",
    "        audio_data, labels = batch\n",
    "        audio_data = audio_data.to(device)\n",
    "        labels = labels.to(device)\n",
    "\n",
    "        optimizer.zero_grad()\n",
    "        outputs = model(input_features=audio_data, labels=labels)\n",
    "        loss = outputs.loss\n",
    "        loss.backward()\n",
    "        optimizer.step()\n",
    "\n",
    "        total_loss += loss.item()\n",
    "        predicted_ids = model.generate(input_features=audio_data)\n",
    "        predicted_texts = processor.batch_decode(predicted_ids, skip_special_tokens=True)\n",
    "        true_texts = [processor.decode(label, skip_special_tokens=True) for label in labels]\n",
    "\n",
    "        for pred_text, true_text in zip(predicted_texts, true_texts):\n",
    "            pred_digit = extract_number_from_transcription(pred_text)\n",
    "            true_digit = extract_number_from_transcription(true_text)\n",
    "            if pred_digit is not None and true_digit is not None and pred_digit == true_digit:\n",
    "                correct_predictions += 1\n",
    "        total_samples += len(true_texts)\n",
    "\n",
    "    avg_loss = total_loss / len(train_loader)\n",
    "    accuracy = correct_predictions / total_samples\n",
    "    print(f\"Epoch {epoch}, Loss: {avg_loss}, Training Accuracy: {accuracy * 100}\")"
   ]
  },
  {
   "cell_type": "code",
   "execution_count": 14,
   "id": "5f6f59e6",
   "metadata": {
    "execution": {
     "iopub.execute_input": "2024-11-23T15:59:10.087913Z",
     "iopub.status.busy": "2024-11-23T15:59:10.087298Z",
     "iopub.status.idle": "2024-11-23T15:59:10.095006Z",
     "shell.execute_reply": "2024-11-23T15:59:10.094244Z"
    },
    "id": "SlYwDPfBV6A1",
    "papermill": {
     "duration": 0.027806,
     "end_time": "2024-11-23T15:59:10.096545",
     "exception": false,
     "start_time": "2024-11-23T15:59:10.068739",
     "status": "completed"
    },
    "tags": []
   },
   "outputs": [],
   "source": [
    "def test_backdoor_attack(model, test_loader, processor, target_label, device, clean_test_loader, original_clean_accuracy):\n",
    "    model.eval()\n",
    "\n",
    "    backdoor_correct = 0\n",
    "    backdoor_total = 0\n",
    "    clean_correct = 0\n",
    "    clean_total = 0\n",
    "\n",
    "    with torch.no_grad():\n",
    "        for inputs, _ in test_loader:\n",
    "            inputs = inputs.to(device)\n",
    "            outputs = model.generate(input_features=inputs)\n",
    "            predicted_texts = processor.batch_decode(outputs, skip_special_tokens=True)\n",
    "            backdoor_total += len(predicted_texts)\n",
    "            for pred in predicted_texts:\n",
    "                pred_digit = extract_number_from_transcription(pred)\n",
    "                if pred_digit == word_to_digit[target_label]:\n",
    "                    backdoor_correct += 1\n",
    "\n",
    "    backdoor_success_rate = 100 * backdoor_correct / backdoor_total if backdoor_total > 0 else 0.0\n",
    "    print(f'Backdoor Attack Success Rate: {backdoor_success_rate}')\n",
    "\n",
    "    with torch.no_grad():\n",
    "        for inputs, labels in clean_test_loader:\n",
    "            inputs = inputs.to(device)\n",
    "            outputs = model.generate(input_features=inputs)\n",
    "            predicted_texts = processor.batch_decode(outputs, skip_special_tokens=True)\n",
    "            clean_total += len(predicted_texts)\n",
    "            for pred, label in zip(predicted_texts, labels):\n",
    "                pred_digit = extract_number_from_transcription(pred)\n",
    "                true_digit = extract_number_from_transcription(processor.decode(label, skip_special_tokens=True))\n",
    "                if pred_digit is not None and true_digit is not None and pred_digit == true_digit:\n",
    "                    clean_correct += 1\n",
    "\n",
    "    clean_accuracy = 100 * clean_correct / clean_total if clean_total > 0 else 0.0\n",
    "    clean_accuracy_drop = original_clean_accuracy - clean_accuracy\n",
    "    print(f'Clean Accuracy Drop: {clean_accuracy_drop}')\n",
    "\n",
    "    return backdoor_success_rate, clean_accuracy, clean_accuracy_drop"
   ]
  },
  {
   "cell_type": "code",
   "execution_count": 15,
   "id": "dbe54e68",
   "metadata": {
    "execution": {
     "iopub.execute_input": "2024-11-23T15:59:10.132887Z",
     "iopub.status.busy": "2024-11-23T15:59:10.132647Z",
     "iopub.status.idle": "2024-11-23T15:59:10.136291Z",
     "shell.execute_reply": "2024-11-23T15:59:10.135560Z"
    },
    "id": "JUnsEE0RV6A2",
    "papermill": {
     "duration": 0.023619,
     "end_time": "2024-11-23T15:59:10.137815",
     "exception": false,
     "start_time": "2024-11-23T15:59:10.114196",
     "status": "completed"
    },
    "tags": []
   },
   "outputs": [],
   "source": [
    "poisoning_rates = [0.01, 0.05, 0.1]\n",
    "shift_semitones = [2, 4]\n",
    "epochs = 1\n",
    "target_label = 'nine'\n",
    "results = []"
   ]
  },
  {
   "cell_type": "code",
   "execution_count": 16,
   "id": "c817d06b",
   "metadata": {
    "execution": {
     "iopub.execute_input": "2024-11-23T15:59:10.174872Z",
     "iopub.status.busy": "2024-11-23T15:59:10.174415Z",
     "iopub.status.idle": "2024-11-23T15:59:10.178540Z",
     "shell.execute_reply": "2024-11-23T15:59:10.177796Z"
    },
    "id": "c1KHeIR9V6A2",
    "papermill": {
     "duration": 0.024342,
     "end_time": "2024-11-23T15:59:10.180157",
     "exception": false,
     "start_time": "2024-11-23T15:59:10.155815",
     "status": "completed"
    },
    "tags": []
   },
   "outputs": [],
   "source": [
    "clean_train_dataset = AudioDatasetWhisper(train_data, processor)\n",
    "clean_train_loader = DataLoader(clean_train_dataset, batch_size=32, shuffle=True, collate_fn=pre_dataloader)\n",
    "\n",
    "clean_test_dataset = AudioDatasetWhisper(test_data, processor)\n",
    "clean_test_loader = DataLoader(clean_test_dataset, batch_size=32, shuffle=True, collate_fn=pre_dataloader)"
   ]
  },
  {
   "cell_type": "code",
   "execution_count": 17,
   "id": "59176100",
   "metadata": {
    "execution": {
     "iopub.execute_input": "2024-11-23T15:59:10.216829Z",
     "iopub.status.busy": "2024-11-23T15:59:10.216381Z",
     "iopub.status.idle": "2024-11-23T15:59:10.222056Z",
     "shell.execute_reply": "2024-11-23T15:59:10.221307Z"
    },
    "id": "hHvCaimlV6A2",
    "papermill": {
     "duration": 0.025797,
     "end_time": "2024-11-23T15:59:10.223670",
     "exception": false,
     "start_time": "2024-11-23T15:59:10.197873",
     "status": "completed"
    },
    "tags": []
   },
   "outputs": [],
   "source": [
    "def test_classification(model, processor, test_loader, device):\n",
    "    model.eval()\n",
    "    correct = 0\n",
    "    total = 0\n",
    "\n",
    "    with torch.no_grad():\n",
    "        for inputs, labels in tqdm(test_loader):\n",
    "            inputs = inputs.to(device)\n",
    "            labels = labels.to(device)\n",
    "\n",
    "            predicted_ids = model.generate(input_features=inputs)\n",
    "\n",
    "            predicted_texts = processor.batch_decode(predicted_ids, skip_special_tokens=True)\n",
    "            true_texts = [processor.decode(label, skip_special_tokens=True) for label in labels]\n",
    "\n",
    "            for pred_text, true_text in zip(predicted_texts, true_texts):\n",
    "                pred_digit = extract_number_from_transcription(pred_text)\n",
    "                true_digit = extract_number_from_transcription(true_text)\n",
    "\n",
    "                if pred_digit is not None and true_digit is not None and pred_digit == true_digit:\n",
    "                    correct += 1\n",
    "                total += 1\n",
    "\n",
    "    accuracy = 100 * correct / total if total > 0 else 0\n",
    "    print(f'Classification Accuracy: {accuracy}')\n",
    "\n",
    "    return accuracy"
   ]
  },
  {
   "cell_type": "code",
   "execution_count": 18,
   "id": "a3fef72f",
   "metadata": {
    "execution": {
     "iopub.execute_input": "2024-11-23T15:59:10.260194Z",
     "iopub.status.busy": "2024-11-23T15:59:10.259699Z",
     "iopub.status.idle": "2024-11-23T15:59:39.865512Z",
     "shell.execute_reply": "2024-11-23T15:59:39.864499Z"
    },
    "id": "P4RzJpWvV6A3",
    "outputId": "3ba572a7-aa4e-4fdc-db6e-ee88ecf5a620",
    "papermill": {
     "duration": 29.625806,
     "end_time": "2024-11-23T15:59:39.867180",
     "exception": false,
     "start_time": "2024-11-23T15:59:10.241374",
     "status": "completed"
    },
    "tags": []
   },
   "outputs": [
    {
     "data": {
      "application/vnd.jupyter.widget-view+json": {
       "model_id": "9c12134a7eb846fc87e78b2b1057fe76",
       "version_major": 2,
       "version_minor": 0
      },
      "text/plain": [
       "config.json:   0%|          | 0.00/1.94k [00:00<?, ?B/s]"
      ]
     },
     "metadata": {},
     "output_type": "display_data"
    },
    {
     "data": {
      "application/vnd.jupyter.widget-view+json": {
       "model_id": "3c2609bf90f54f6b8b763a22782a25bd",
       "version_major": 2,
       "version_minor": 0
      },
      "text/plain": [
       "model.safetensors:   0%|          | 0.00/151M [00:00<?, ?B/s]"
      ]
     },
     "metadata": {},
     "output_type": "display_data"
    },
    {
     "data": {
      "application/vnd.jupyter.widget-view+json": {
       "model_id": "76144515a00240dba66b8f65b5173e5e",
       "version_major": 2,
       "version_minor": 0
      },
      "text/plain": [
       "generation_config.json:   0%|          | 0.00/1.62k [00:00<?, ?B/s]"
      ]
     },
     "metadata": {},
     "output_type": "display_data"
    },
    {
     "name": "stderr",
     "output_type": "stream",
     "text": [
      "  0%|          | 0/19 [00:00<?, ?it/s]The attention mask is not set and cannot be inferred from input because pad token is same as eos token. As a consequence, you may observe unexpected behavior. Please pass your input's `attention_mask` to obtain reliable results.\n",
      "100%|██████████| 19/19 [00:27<00:00,  1.46s/it]"
     ]
    },
    {
     "name": "stdout",
     "output_type": "stream",
     "text": [
      "Classification Accuracy: 54.0\n"
     ]
    },
    {
     "name": "stderr",
     "output_type": "stream",
     "text": [
      "\n"
     ]
    }
   ],
   "source": [
    "model = WhisperForConditionalGeneration.from_pretrained(\"openai/whisper-tiny.en\").to(device)\n",
    "optimizer = AdamW(model.parameters(), lr=1e-4)\n",
    "zero_shot_accuracy = test_classification(model, processor, clean_test_loader, device)"
   ]
  },
  {
   "cell_type": "code",
   "execution_count": 19,
   "id": "794d8179",
   "metadata": {
    "execution": {
     "iopub.execute_input": "2024-11-23T15:59:39.909077Z",
     "iopub.status.busy": "2024-11-23T15:59:39.908408Z",
     "iopub.status.idle": "2024-11-23T15:59:40.327197Z",
     "shell.execute_reply": "2024-11-23T15:59:40.326238Z"
    },
    "id": "ntOiQC2-V6A3",
    "papermill": {
     "duration": 0.441794,
     "end_time": "2024-11-23T15:59:40.329371",
     "exception": false,
     "start_time": "2024-11-23T15:59:39.887577",
     "status": "completed"
    },
    "tags": []
   },
   "outputs": [],
   "source": [
    "clean_model = WhisperForConditionalGeneration.from_pretrained(\"openai/whisper-tiny.en\").to(device)\n",
    "optimizer = AdamW(clean_model.parameters(), lr=1e-4)"
   ]
  },
  {
   "cell_type": "code",
   "execution_count": 20,
   "id": "6ed1776b",
   "metadata": {
    "execution": {
     "iopub.execute_input": "2024-11-23T15:59:40.370253Z",
     "iopub.status.busy": "2024-11-23T15:59:40.369704Z",
     "iopub.status.idle": "2024-11-23T16:02:08.555587Z",
     "shell.execute_reply": "2024-11-23T16:02:08.554591Z"
    },
    "id": "J2xG4eb2V6A3",
    "outputId": "bd23b0d9-79c7-4f96-8716-97a35dc846fe",
    "papermill": {
     "duration": 148.208404,
     "end_time": "2024-11-23T16:02:08.557598",
     "exception": false,
     "start_time": "2024-11-23T15:59:40.349194",
     "status": "completed"
    },
    "tags": []
   },
   "outputs": [
    {
     "name": "stderr",
     "output_type": "stream",
     "text": [
      "  0%|          | 0/75 [00:00<?, ?it/s]Passing a tuple of `past_key_values` is deprecated and will be removed in Transformers v4.43.0. You should pass an instance of `EncoderDecoderCache` instead, e.g. `past_key_values=EncoderDecoderCache.from_legacy_cache(past_key_values)`.\n",
      "100%|██████████| 75/75 [02:28<00:00,  1.98s/it]"
     ]
    },
    {
     "name": "stdout",
     "output_type": "stream",
     "text": [
      "Epoch 0, Loss: 0.6893407633132301, Training Accuracy: 97.875\n"
     ]
    },
    {
     "name": "stderr",
     "output_type": "stream",
     "text": [
      "\n"
     ]
    }
   ],
   "source": [
    "for epoch in range(epochs):\n",
    "    train_whisper_clean(clean_model, processor, clean_train_loader, optimizer, epoch, device)"
   ]
  },
  {
   "cell_type": "code",
   "execution_count": 21,
   "id": "31765bbb",
   "metadata": {
    "execution": {
     "iopub.execute_input": "2024-11-23T16:02:08.604395Z",
     "iopub.status.busy": "2024-11-23T16:02:08.604068Z",
     "iopub.status.idle": "2024-11-23T16:02:21.457947Z",
     "shell.execute_reply": "2024-11-23T16:02:21.457120Z"
    },
    "id": "AjiZRr1TV6A3",
    "outputId": "be627c69-4723-4c5d-c6e9-504f2b745899",
    "papermill": {
     "duration": 12.879503,
     "end_time": "2024-11-23T16:02:21.460367",
     "exception": false,
     "start_time": "2024-11-23T16:02:08.580864",
     "status": "completed"
    },
    "tags": []
   },
   "outputs": [
    {
     "name": "stderr",
     "output_type": "stream",
     "text": [
      "100%|██████████| 19/19 [00:12<00:00,  1.48it/s]"
     ]
    },
    {
     "name": "stdout",
     "output_type": "stream",
     "text": [
      "Classification Accuracy: 96.83333333333333\n"
     ]
    },
    {
     "name": "stderr",
     "output_type": "stream",
     "text": [
      "\n"
     ]
    }
   ],
   "source": [
    "original_clean_accuracy = test_classification(clean_model, processor, clean_test_loader, device)"
   ]
  },
  {
   "cell_type": "code",
   "execution_count": 22,
   "id": "41a9d249",
   "metadata": {
    "execution": {
     "iopub.execute_input": "2024-11-23T16:02:21.508954Z",
     "iopub.status.busy": "2024-11-23T16:02:21.508658Z",
     "iopub.status.idle": "2024-11-23T16:02:21.513046Z",
     "shell.execute_reply": "2024-11-23T16:02:21.512140Z"
    },
    "id": "979pA3uOV6A3",
    "outputId": "bda4d25b-0062-4e0c-89e5-438621e6d02f",
    "papermill": {
     "duration": 0.030386,
     "end_time": "2024-11-23T16:02:21.514795",
     "exception": false,
     "start_time": "2024-11-23T16:02:21.484409",
     "status": "completed"
    },
    "tags": []
   },
   "outputs": [
    {
     "name": "stdout",
     "output_type": "stream",
     "text": [
      "96.83333333333333\n"
     ]
    }
   ],
   "source": [
    "print(original_clean_accuracy)"
   ]
  },
  {
   "cell_type": "code",
   "execution_count": 23,
   "id": "8f703f99",
   "metadata": {
    "execution": {
     "iopub.execute_input": "2024-11-23T16:02:21.562875Z",
     "iopub.status.busy": "2024-11-23T16:02:21.562614Z",
     "iopub.status.idle": "2024-11-23T21:48:42.913486Z",
     "shell.execute_reply": "2024-11-23T21:48:42.912553Z"
    },
    "id": "Uefr4wgaV6A4",
    "outputId": "def3b596-63d2-49ed-84c4-97c875fa5cdb",
    "papermill": {
     "duration": 20781.377087,
     "end_time": "2024-11-23T21:48:42.915220",
     "exception": false,
     "start_time": "2024-11-23T16:02:21.538133",
     "status": "completed"
    },
    "tags": []
   },
   "outputs": [
    {
     "name": "stdout",
     "output_type": "stream",
     "text": [
      "Running experiment with poisoning_rate=0.01 and shift_semitone=2\n"
     ]
    },
    {
     "name": "stderr",
     "output_type": "stream",
     "text": [
      "  5%|▌         | 4/75 [00:06<02:02,  1.73s/it]"
     ]
    },
    {
     "name": "stdout",
     "output_type": "stream",
     "text": [
      "Playing clean audio for sample 0\n"
     ]
    },
    {
     "data": {
      "text/html": [
       "\n",
       "                <audio  controls=\"controls\" >\n",
       "                    <source src=\"data:audio/wav;base64,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\" type=\"audio/wav\" />\n",
       "                    Your browser does not support the audio element.\n",
       "                </audio>\n",
       "              "
      ],
      "text/plain": [
       "<IPython.lib.display.Audio object>"
      ]
     },
     "metadata": {},
     "output_type": "display_data"
    },
    {
     "name": "stdout",
     "output_type": "stream",
     "text": [
      "Playing poisoned audio for sample 0\n"
     ]
    },
    {
     "data": {
      "text/html": [
       "\n",
       "                <audio  controls=\"controls\" >\n",
       "                    <source src=\"data:audio/wav;base64,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\" type=\"audio/wav\" />\n",
       "                    Your browser does not support the audio element.\n",
       "                </audio>\n",
       "              "
      ],
      "text/plain": [
       "<IPython.lib.display.Audio object>"
      ]
     },
     "metadata": {},
     "output_type": "display_data"
    },
    {
     "name": "stdout",
     "output_type": "stream",
     "text": [
      "Playing clean audio for sample 1\n"
     ]
    },
    {
     "data": {
      "text/html": [
       "\n",
       "                <audio  controls=\"controls\" >\n",
       "                    <source src=\"data:audio/wav;base64,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\" type=\"audio/wav\" />\n",
       "                    Your browser does not support the audio element.\n",
       "                </audio>\n",
       "              "
      ],
      "text/plain": [
       "<IPython.lib.display.Audio object>"
      ]
     },
     "metadata": {},
     "output_type": "display_data"
    },
    {
     "name": "stdout",
     "output_type": "stream",
     "text": [
      "Playing poisoned audio for sample 1\n"
     ]
    },
    {
     "data": {
      "text/html": [
       "\n",
       "                <audio  controls=\"controls\" >\n",
       "                    <source src=\"data:audio/wav;base64,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\" type=\"audio/wav\" />\n",
       "                    Your browser does not support the audio element.\n",
       "                </audio>\n",
       "              "
      ],
      "text/plain": [
       "<IPython.lib.display.Audio object>"
      ]
     },
     "metadata": {},
     "output_type": "display_data"
    },
    {
     "name": "stderr",
     "output_type": "stream",
     "text": [
      "100%|██████████| 75/75 [05:17<00:00,  4.23s/it]\n"
     ]
    },
    {
     "name": "stdout",
     "output_type": "stream",
     "text": [
      "Epoch 0, Loss: 0.7478848451686402, Training Accuracy: 97.04166666666667\n",
      "Backdoor Attack Success Rate: 2.7777777777777777\n",
      "Clean Accuracy Drop: -0.6666666666666714\n",
      "Running experiment with poisoning_rate=0.01 and shift_semitone=4\n"
     ]
    },
    {
     "name": "stderr",
     "output_type": "stream",
     "text": [
      "  0%|          | 0/75 [00:00<?, ?it/s]"
     ]
    },
    {
     "name": "stdout",
     "output_type": "stream",
     "text": [
      "Playing clean audio for sample 0\n"
     ]
    },
    {
     "data": {
      "text/html": [
       "\n",
       "                <audio  controls=\"controls\" >\n",
       "                    <source src=\"data:audio/wav;base64,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\" type=\"audio/wav\" />\n",
       "                    Your browser does not support the audio element.\n",
       "                </audio>\n",
       "              "
      ],
      "text/plain": [
       "<IPython.lib.display.Audio object>"
      ]
     },
     "metadata": {},
     "output_type": "display_data"
    },
    {
     "name": "stdout",
     "output_type": "stream",
     "text": [
      "Playing poisoned audio for sample 0\n"
     ]
    },
    {
     "data": {
      "text/html": [
       "\n",
       "                <audio  controls=\"controls\" >\n",
       "                    <source src=\"data:audio/wav;base64,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\" type=\"audio/wav\" />\n",
       "                    Your browser does not support the audio element.\n",
       "                </audio>\n",
       "              "
      ],
      "text/plain": [
       "<IPython.lib.display.Audio object>"
      ]
     },
     "metadata": {},
     "output_type": "display_data"
    },
    {
     "name": "stderr",
     "output_type": "stream",
     "text": [
      "  3%|▎         | 2/75 [00:05<03:07,  2.57s/it]"
     ]
    },
    {
     "name": "stdout",
     "output_type": "stream",
     "text": [
      "Playing clean audio for sample 1\n"
     ]
    },
    {
     "data": {
      "text/html": [
       "\n",
       "                <audio  controls=\"controls\" >\n",
       "                    <source src=\"data:audio/wav;base64,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\" type=\"audio/wav\" />\n",
       "                    Your browser does not support the audio element.\n",
       "                </audio>\n",
       "              "
      ],
      "text/plain": [
       "<IPython.lib.display.Audio object>"
      ]
     },
     "metadata": {},
     "output_type": "display_data"
    },
    {
     "name": "stdout",
     "output_type": "stream",
     "text": [
      "Playing poisoned audio for sample 1\n"
     ]
    },
    {
     "data": {
      "text/html": [
       "\n",
       "                <audio  controls=\"controls\" >\n",
       "                    <source src=\"data:audio/wav;base64,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\" type=\"audio/wav\" />\n",
       "                    Your browser does not support the audio element.\n",
       "                </audio>\n",
       "              "
      ],
      "text/plain": [
       "<IPython.lib.display.Audio object>"
      ]
     },
     "metadata": {},
     "output_type": "display_data"
    },
    {
     "name": "stderr",
     "output_type": "stream",
     "text": [
      "100%|██████████| 75/75 [03:02<00:00,  2.43s/it]\n"
     ]
    },
    {
     "name": "stdout",
     "output_type": "stream",
     "text": [
      "Epoch 0, Loss: 0.7434199892139683, Training Accuracy: 96.625\n",
      "Backdoor Attack Success Rate: 33.148148148148145\n",
      "Clean Accuracy Drop: -1.0\n",
      "Running experiment with poisoning_rate=0.05 and shift_semitone=2\n"
     ]
    },
    {
     "name": "stderr",
     "output_type": "stream",
     "text": [
      "  0%|          | 0/75 [00:00<?, ?it/s]"
     ]
    },
    {
     "name": "stdout",
     "output_type": "stream",
     "text": [
      "Playing clean audio for sample 0\n"
     ]
    },
    {
     "data": {
      "text/html": [
       "\n",
       "                <audio  controls=\"controls\" >\n",
       "                    <source src=\"data:audio/wav;base64,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\" type=\"audio/wav\" />\n",
       "                    Your browser does not support the audio element.\n",
       "                </audio>\n",
       "              "
      ],
      "text/plain": [
       "<IPython.lib.display.Audio object>"
      ]
     },
     "metadata": {},
     "output_type": "display_data"
    },
    {
     "name": "stdout",
     "output_type": "stream",
     "text": [
      "Playing poisoned audio for sample 0\n"
     ]
    },
    {
     "data": {
      "text/html": [
       "\n",
       "                <audio  controls=\"controls\" >\n",
       "                    <source src=\"data:audio/wav;base64,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\" type=\"audio/wav\" />\n",
       "                    Your browser does not support the audio element.\n",
       "                </audio>\n",
       "              "
      ],
      "text/plain": [
       "<IPython.lib.display.Audio object>"
      ]
     },
     "metadata": {},
     "output_type": "display_data"
    },
    {
     "name": "stdout",
     "output_type": "stream",
     "text": [
      "Playing clean audio for sample 1\n"
     ]
    },
    {
     "data": {
      "text/html": [
       "\n",
       "                <audio  controls=\"controls\" >\n",
       "                    <source src=\"data:audio/wav;base64,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\" type=\"audio/wav\" />\n",
       "                    Your browser does not support the audio element.\n",
       "                </audio>\n",
       "              "
      ],
      "text/plain": [
       "<IPython.lib.display.Audio object>"
      ]
     },
     "metadata": {},
     "output_type": "display_data"
    },
    {
     "name": "stdout",
     "output_type": "stream",
     "text": [
      "Playing poisoned audio for sample 1\n"
     ]
    },
    {
     "data": {
      "text/html": [
       "\n",
       "                <audio  controls=\"controls\" >\n",
       "                    <source src=\"data:audio/wav;base64,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\" type=\"audio/wav\" />\n",
       "                    Your browser does not support the audio element.\n",
       "                </audio>\n",
       "              "
      ],
      "text/plain": [
       "<IPython.lib.display.Audio object>"
      ]
     },
     "metadata": {},
     "output_type": "display_data"
    },
    {
     "name": "stderr",
     "output_type": "stream",
     "text": [
      "100%|██████████| 75/75 [17:37<00:00, 14.10s/it]\n"
     ]
    },
    {
     "name": "stdout",
     "output_type": "stream",
     "text": [
      "Epoch 0, Loss: 0.7812352191843093, Training Accuracy: 90.08333333333334\n",
      "Backdoor Attack Success Rate: 39.074074074074076\n",
      "Clean Accuracy Drop: 0.1666666666666572\n",
      "Running experiment with poisoning_rate=0.05 and shift_semitone=4\n"
     ]
    },
    {
     "name": "stderr",
     "output_type": "stream",
     "text": [
      "  1%|▏         | 1/75 [00:06<08:09,  6.61s/it]"
     ]
    },
    {
     "name": "stdout",
     "output_type": "stream",
     "text": [
      "Playing clean audio for sample 0\n"
     ]
    },
    {
     "data": {
      "text/html": [
       "\n",
       "                <audio  controls=\"controls\" >\n",
       "                    <source src=\"data:audio/wav;base64,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\" type=\"audio/wav\" />\n",
       "                    Your browser does not support the audio element.\n",
       "                </audio>\n",
       "              "
      ],
      "text/plain": [
       "<IPython.lib.display.Audio object>"
      ]
     },
     "metadata": {},
     "output_type": "display_data"
    },
    {
     "name": "stdout",
     "output_type": "stream",
     "text": [
      "Playing poisoned audio for sample 0\n"
     ]
    },
    {
     "data": {
      "text/html": [
       "\n",
       "                <audio  controls=\"controls\" >\n",
       "                    <source src=\"data:audio/wav;base64,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\" type=\"audio/wav\" />\n",
       "                    Your browser does not support the audio element.\n",
       "                </audio>\n",
       "              "
      ],
      "text/plain": [
       "<IPython.lib.display.Audio object>"
      ]
     },
     "metadata": {},
     "output_type": "display_data"
    },
    {
     "name": "stderr",
     "output_type": "stream",
     "text": [
      "  3%|▎         | 2/75 [00:10<05:59,  4.93s/it]"
     ]
    },
    {
     "name": "stdout",
     "output_type": "stream",
     "text": [
      "Playing clean audio for sample 1\n"
     ]
    },
    {
     "data": {
      "text/html": [
       "\n",
       "                <audio  controls=\"controls\" >\n",
       "                    <source src=\"data:audio/wav;base64,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\" type=\"audio/wav\" />\n",
       "                    Your browser does not support the audio element.\n",
       "                </audio>\n",
       "              "
      ],
      "text/plain": [
       "<IPython.lib.display.Audio object>"
      ]
     },
     "metadata": {},
     "output_type": "display_data"
    },
    {
     "name": "stdout",
     "output_type": "stream",
     "text": [
      "Playing poisoned audio for sample 1\n"
     ]
    },
    {
     "data": {
      "text/html": [
       "\n",
       "                <audio  controls=\"controls\" >\n",
       "                    <source src=\"data:audio/wav;base64,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\" type=\"audio/wav\" />\n",
       "                    Your browser does not support the audio element.\n",
       "                </audio>\n",
       "              "
      ],
      "text/plain": [
       "<IPython.lib.display.Audio object>"
      ]
     },
     "metadata": {},
     "output_type": "display_data"
    },
    {
     "name": "stderr",
     "output_type": "stream",
     "text": [
      "100%|██████████| 75/75 [06:22<00:00,  5.11s/it]\n"
     ]
    },
    {
     "name": "stdout",
     "output_type": "stream",
     "text": [
      "Epoch 0, Loss: 0.7503442876848082, Training Accuracy: 94.91666666666667\n",
      "Backdoor Attack Success Rate: 86.48148148148148\n",
      "Clean Accuracy Drop: 1.1666666666666572\n",
      "Running experiment with poisoning_rate=0.1 and shift_semitone=2\n"
     ]
    },
    {
     "name": "stderr",
     "output_type": "stream",
     "text": [
      "  0%|          | 0/75 [00:00<?, ?it/s]"
     ]
    },
    {
     "name": "stdout",
     "output_type": "stream",
     "text": [
      "Playing clean audio for sample 0\n"
     ]
    },
    {
     "data": {
      "text/html": [
       "\n",
       "                <audio  controls=\"controls\" >\n",
       "                    <source src=\"data:audio/wav;base64,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\" type=\"audio/wav\" />\n",
       "                    Your browser does not support the audio element.\n",
       "                </audio>\n",
       "              "
      ],
      "text/plain": [
       "<IPython.lib.display.Audio object>"
      ]
     },
     "metadata": {},
     "output_type": "display_data"
    },
    {
     "name": "stdout",
     "output_type": "stream",
     "text": [
      "Playing poisoned audio for sample 0\n"
     ]
    },
    {
     "data": {
      "text/html": [
       "\n",
       "                <audio  controls=\"controls\" >\n",
       "                    <source src=\"data:audio/wav;base64,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\" type=\"audio/wav\" />\n",
       "                    Your browser does not support the audio element.\n",
       "                </audio>\n",
       "              "
      ],
      "text/plain": [
       "<IPython.lib.display.Audio object>"
      ]
     },
     "metadata": {},
     "output_type": "display_data"
    },
    {
     "name": "stdout",
     "output_type": "stream",
     "text": [
      "Playing clean audio for sample 1\n"
     ]
    },
    {
     "data": {
      "text/html": [
       "\n",
       "                <audio  controls=\"controls\" >\n",
       "                    <source src=\"data:audio/wav;base64,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\" type=\"audio/wav\" />\n",
       "                    Your browser does not support the audio element.\n",
       "                </audio>\n",
       "              "
      ],
      "text/plain": [
       "<IPython.lib.display.Audio object>"
      ]
     },
     "metadata": {},
     "output_type": "display_data"
    },
    {
     "name": "stdout",
     "output_type": "stream",
     "text": [
      "Playing poisoned audio for sample 1\n"
     ]
    },
    {
     "data": {
      "text/html": [
       "\n",
       "                <audio  controls=\"controls\" >\n",
       "                    <source src=\"data:audio/wav;base64,UklGRrQrAABXQVZFZm10IBAAAAABAAEAgD4AAAB9AAACABAAZGF0YZArAAAeAQAAHf/K//X/F//u/mT/Ef+v/nb/hQDGAIYANQDV/4j/of88ALMAQwCu/zEAGgGeALz+ef18/qUAfgEvAXoBTgEh/1v9Hf5M/4L/KwDtABwAA/9u/wEAnP+N/w4AzP9R/w8AIwEGAQ4AWf8e//j+/P7Z/4kBgQKSAbH/dv6E/sj/WwGoAVwADP8P//v/kABZAPD/6P8OAM//R/8i/4//NABmAJL/jf4Q/5sArwBO/9L+O/8m/4j//wBeAev/5P4M/zb/fv95ACIBcwBA/w3/JwAiAcQA3v+t/9H/t//K/+P/bf8k/57/xv86/2D/cgDkAHQAMQAFAJP/n/9GAF0Ax/+T/9P/6/8NAGsAcAD4/6X/7P9sAF0Atf9m/8P/AADh/woAhgCXAOj/Qf+z/5wAcQDk/5IAQQFCACf/dP/M/3b/tf+OALYAGgCs/8X/AADo/5v/hf93/1T/3/8SAXYBfgBj/xX/RP9h/3P/5v+MAKgAXABlADQAMP+q/lv/y//A/6oApwG4AC7/N//L/4H/Zf8wAMkAkQAkAO//wv9c/w//Z//x/8b/Wf+m/1MArQDcANIAIAA5/wT/gf8uANgANgHpADIAtP+L/03/1v7A/of/hgCmAAEAfP8x/xH/vP/rACYBMQCU/wMAtgD5ALkA/v84/xD/Y/+w/xIAlgCIALP/4v6i/s7+b/+KAIgBuQEaAUIAvP9s/zr/xP/jAPoAwf86//z/TADJ/7L/9/+u/zz/Rf+U/wkAmgCpAOf/Ev8D/7L/bACeAFwACgDB/5D/tf8DAAAAs/+S/87/IQAmAPD/CABwAIgAWABEANP/8P7s/hcA0QBZAMP/iP82/xT/l/89AIsAvgDaAH8AtP8J//7+e//9/1sAsQCVAM7/Qf+j/0oATADI/5z/KgC9AI8ABQCq/zv/Gf8gAFUBJAFNACgADABF//v+/f9QAcYBNQE5AF7/yv7//mkArgEQAXb/1P4L/zn/v/+iAN8ATACe/x7/3/43/1EAnwELAiMBz/9J/7b/ZwDaAOAAlwBQACIA2f9r/xn/Rv/+/7MAywBpAA4A3P+d/zX/2v7b/jP/iv++/wwAnAAnATkBzQBgACAA0v+T/7T/CAArAPX/jP9N/2T/mP+z/9v/SwC0AHAAw/96/3f/P/9e/xsAcAD8/5P/Zv8h/x3/pP9BAIsAhwBhACsA1P+I/8P/eQD0ANwAawCj/5D+0v3r/aX+Zv+5/3f/rv60/TD9x/09/2sAywCxAO3/mf5T/rH/kgDL/xn/hf8AAFsATQEkAsgBvAArAGsAHQGlAXwByQA6APL/bv+V/tz9gP2G/TH+XP8AAGj/Kf5H/RH9Nf12/QD+Hv+qAPcBWwKtAWIAYv9I/8r/TAC3AD4BzAH9AaAB9wAgAOH+x/3F/TH+1P2C/UP+1v4X/jD9Mv16/Xf9aP2Q/XT+ggCDAtkCVgLQAr4DoQMkA4kDIgSnAxoCPgC6/v39K/7s/hL/Yf1z+kD4gPfl9wD61P06AUUCQwF8/xX+Ff6T/44BOwNABPYDYgJWARgCLQMRA7gC5QJ8AlgB7ABhAXkBkQCv/v/7Mfl19/P3XfoV/C37D/m99zb3cvc9+V38zv/XAhAFiwaiBz8IZggLCB0GkwLW/1z/HACuATQEqAVIBKoBhf8y/cv6Mvqb+xD9sf30/dz9q/2e/uMANgMoBcgGCQe9BSEFzQbtCTwNog+4D64N+gs2DHoNBQ5/DOUHXgAi+A/yN+947v7tIOzf5+rhvNz52ojdJeNM6SbuhvEG9EH29Pj+/NgBPQURB/YIlQnECFoM6hUJHfMcuxqVGdEWyxHrDGMJEwcvBbECkP8i/H35bPm7+4b9rv30/aj+9v69ACAGSA3YExsaMSCcJBAm7iMcHtIVpg1lCSMLvhF9GLEbBRtcGGUVZRApA7TpHszbt+6wILRFwFnPGdVf0PvL0cvFzdnUbuIr7yL3Zf8QCrUUeB4MKFQvuzHqMJwyLjpgQrBCxzhOKcsZFg4vCLoGeAWS/7bzHeZz3EHZC9wz4inlFeCO1RfKer6itky7P8wd393t2ffe+XD1b/ZPBGsZQS3AOog+RzjsLZ4n5CogNsFAJkPlOrEq4RowFSQaSiHsJAIk5RxwEOUFbQNZBtgHrAT2/rb5+/SI8Ojsrecs3VbSvNAP2uvmG/O3/uwGvgWI9ivbjL3Vq5OvZsYS4izzFPWD7nznfuO74zTqTfdJCXwbGydPKc0koR3uE7oIHgGzAHsGYg/wFcsRdgAq6x7fseHT7S76E/9N+cPpodZZy5fPZuGu+KUK9Ate+lniotI20fndavRnCXcSXQ+JBw0DigbBEZ8gGi01M5U1VjzgSBRSG1FiR+U3MCdDHvsgOii2LUgx0zAnKT4e/xaZEyQQMAsxB8sFtgNJ/xP+sgBa+8Pp7deIzFTFn8g02mHsKfEW7pPu+/Hp7W/btMJQs9a0JMZE4Jvw5ek+3CTeIOsQ9vsBBxOAIG8m5SlvKxsp/iPCHRsViQkzAGwCIxBiGCEMMPCq1IXFc8iT2lzt/vI06nTZksdFvJm/J9Ni7Zj+A/9x9FPoMN8H29bejOrs+NoDPAegA3EADAaZFNIlqTXoQqtLI043TBVJ10byRbND/jzmM7MuDS++Ll8pZyEFGagRhA61DQIJBgQaB3QMZwdE+nDylfQq+jL5k+th1h7Hf8gy2XrrYfPJ8RbwhfA+7P/fLNCIxOLDiM9Z3ujkfOET3CPc4OFm6mD2ewgVIGw09DsvNesmBRqIEUIN4Q3JFAEgKyi7IgAKzuW/xzi+1cmq3lXvfvTh6/PWUL4UsD20eMek4dX4ZwMPAWP5We6V3gTS09Vc6zoE1xABD80JnwuXE5sbiiKILLE9dFLHXEJUJkTbO9g5djTVLWQtzTGLNEEwUiJFEaQJ/A0kE6wQCAuCCqcNdwqp/Qzy0fMFAPoH4/8g6CXPcMb/0LHgpemw7K/s4OlL5Zbhsd5K2KvMLcIKwuHL39am3THhfuPW5hbu8vnDCuEhcDhwQFA0AiCQE3ITqhvaJKEo9CQhG1YLhPXq3ljRKtMF4OrrEu5W5kTYNMfMuAe0CrvtzDnoKgNyDu0FCvNy3pXNcMl82Rn58hcSJVcbUwZE+dz+vhJ7Kpk/ylAzWytYq0e9NbQsqSrYK/Ey1D55RZU9tifUDRz+rgDFD/UdWCMrICgWsQWU8iHngewh/2kPGhBA/wXkQcsHwi3LPtx56k3wtuxs5QnjIOes6P/eoMxGvRW8bMot3n/qvus86GjnCey89r4KsycJQAlCASwzEioKrhX9JZ4sTyfvG7YOOf4h6/jdm91O5qXtYu3H5yDhPdlBzai+a7dWwbvan/ZAB3AI7P3J6zvVB8OYwrjZl/0OGvshVRYcA2D3VPqZCQwiXz/mVoFdS1TXRZc5YTCoKVYo1DEPRcJTMEzHLDwIR/bH/g8VyShJMn0uoRrh+tTfgtp56xwDgg8ICqL5wefF1s7FDrqrvR/UVfFCA5z/7ew03uPdB+SI4+za69Rd2dXgvOAF3iTlBvRq/M762/3LEc8shDZPJIYIIf7dCvsb1B6tFLcJ4gDA8irgC9jy42P33fwF8SXkKeQm7NvpY9aDw+TIRugDCiYXOg2m+Jzm/Nu11yfZmeGN7+T9oQa/BSv+y/Zo9LT5DwllIo49J02pSro77i0MLC41TT4CQNY9Oz2CPLs1aSlZIOgfOCN8IuoeWSDUJRIjJw5Z7jHaj+BN+OoIXAJi6/LV/MrpxRnA57tiwxraT/V/BF//6Osg2NjSUuMz/i8MlwBq5aPRMtb87+8J0BDjBy0DNw24G+IdmxB3Aer9iAV8DkcPsAEN5tXIwryEzEDvJQpvBrfoAc4fz3LptgT1C/D+Pe0h54Xzvwq5HN0cQwnn7nrhrOl2+3ECpvVn3grR6doI9oEMIwyh+STrfPEwC1MqPz9YQbsztyFHGronW0RWW99YzTzkHfgX5y8JTaFUGEPjKPQXcBTEFkcXbRI5BhrzNOBS2cTh1+sw5YDNebi2tiDDAMwszJrO8dpI7Lz4qflz8GTne+uAANMakCb7F6359+MJ54j+5RWZGnoQCQzeExUZXw/q/UT03vTi9HntJ+OR2KbHn7FrqAO9CeVh/p/1cdzk0SfgQvkQDVcXrRqlGdkWmBaxG0cglRoDDXkGCg0mFGsKK/DQ20TeMO5J9EboQtok3YbsQfQw8w36WQ0HH6QhRRlcFowg9y0uNgg/tk2DVutJLzLQLB1B+VbDWQxOTj+cLDYQivPO7f4E7BvqD03kD71isdS3Ar8+xPzL8NGfzd3EdcbC02XfWOM76lb9pRP9GS4KXPggAWUmwkbAQQMdj/je7Jz7PBXDJh4nmBvjC7z6a+yE5BTdO8+Vwp3ATcMUvsat9pydmkatAs1q6nz7OgE3Ai8BOQHfCEsZvS5PRThVdFPVO8EWNvqt+6MX/TIFNc8bfPmd3sbNTMms1Eblau5h8P/rtN7q0NPR9efVDIQs4zH5G3IBPP6HGkVEmGLHaFxYo0FyOQlDRlFLWalWOUfvLWgTgAEU/AH7VPI34RTSIssgx5y9VrDcq1e3g8sK2w/gwt5o3Bncn+LZ8hMFmw9AEVQO+wx6FBYpmUDqSBk7MR/yBF/7uQi4IWsw2CbRBwTl8tEw0n7Wps+EvkquYqUQnxWXcJH5lPSlW8Am2MLkm+se9UUBZhDVIzk0SzvePrFFaE32TrRGWDf0J7sd7BotH58j9B6/DuT1j9sEy3LKP9kr8On66ujYxnm0nsVp7w8ReRVqBon5Bvp1CHwf0jehS/xUxlJlTYxLDExwTc5PnlF7TYA7mx0ABP35QflP9JnlqtK0w/+6yriLv6XKI89oyj7Fkck52cXsG/rm/L34efXg+fAD3wsdEh0fWTFyOLsr9BffE9cpkkkqV0RDYxMq4xXYXvuhJS0jAOkJojCDcJHrqV21+LFvoNGIAYAZlF27hdcG1kzMHNurAj8oXzhiNhYxBTFSNsdEd12PbftctzG5E2AeUDslQRUoDgtr/r75APAd5+Dl7uHK1K3NldqD7MvnRc7twyveDAIXB73vo+fMBi8vzTloLR4riDpLRx1HakghVFRXCUL4J9YldzWkNfoWPe/P24LeheVZ50zjm9X5v1qze8Fd4oz25uzB11jTZuKX8ln6Hf+iA40CmP17AbYRmh+pIJkdNiH9KeYsNyPxGOcfZjSJPMkm5gA26qnwPP7b9HfTt7F3o06nXa66r/+q/J4rj2uLEJ/LwCbagt+A3VHlc/YuCFUbBTKHQ1RF9jnaMKE0rEBLS9ZOlUhDOFAj5BadHG8pGickEYL5UvBE8fvtB+MF21Peh+eA62DlfNnF00vfU/bHA2D/pPk7ArUSmB6kJpIwYjjsNCYs1i/oPYM/1i8PJLcnoSv9HacETvWM9mP5R/OA65/ncN/wz3nJt9ox9uT+PO473JnccObn6SzqcvGs+rT6VPZR+3QHNwtdBngKQBwEKI4dYAoCCekc6jHBNZEk3wu6AnIOjhkEDUfqYMqOwg/KFsltvEqwk6hlom2dUJ77qFe338Iv0dXjnO7i7S3uZ/xqFq8rxjKjM6831TvsOhw4BDmYP8ZGCUg2Qfox/B1SDwYOSxbtGs8RYf7p7Hbj1uAv45DoNu3l7L/me9x31FLZwO6AB44NlP168T0BWyA6Ll0l6h3RJG0twCs0Jn8nMis7JEkV+Q7RE6UUIwqY/4X++v7N9Knkn+FF8E/81/bK69TqF+4i6KTcV9vF5n/wrfAj7/LxPfSZ8fbvqPpwEL4eYRqPDmoLYhNIHJAdABzkHdAaIQu6+y3/ChNtG3cAjdHPt/HCptpl33bJCavmmLWZkqxVyrPeWNpoyTLF49jg91ENlBRTFooVhxPpGiwxPkggTbQ+GzBNMvc9bD96M3spqymUKD4alAcqAVAFIwaG/U7uWd+R2cnhLvKV+ijuWdf5z8bffvclCPkKAAA28uLySwoTK6A5PCxkGRwYLSPrJ+EiJiHhJ8Mophi6A6n/ow9VHlYWQ/xE5rzh2u0MAPUGIPkG4NPQI9lr7bH0wujE2YbVr9zx5zLwKPTq8x/xHfSLAFYMow8hEdsXqB6RHRgYAxnPIB8lMCCLFWoL9AXkBH0Eh/5f7frWf8n2xzHJ5MXdvfy0Sq8HroGz8cG10vDcS+Eu5H7nTe01+GkJyh53L78ykSzlKWsz+0UsVP5SKUd4PPo1nzDNK3wpDSj9HhQKlPWQ8Kv17/P36Mffwd0t3ezYvtYw3T7lLOVR4rvnm/Ow+gb60PxgC8cb1B8bG4kc4CePMZ0vkScLJZUnSiaFH9saTRzpHNIUMwh5AR0BEf/q913vremT5sLi4t3D2x3dk90U2vjTg9D204nc2eWW7fryrPRV9Nr4wQW3E2UYNBV8FSEemydXKWskbx/9HBUaPhUjEeANDggk/ofyQ+hz4HDaXtUm0fjLmMPguaKztbSKvR7KNNPL03rPj9C33r71aAdGC7oJAhFnIrgyqDmiOpk96kOaSKBHgkJrPY06xjc7L5cfVw9/BZoDlgJh+SLq1d+W33bj7+DT1Q/PlNdj57nujuna4bLkqvR8Bo0PTA9DCs8JpRXnJiIw4yxqJH4i8ij5LI4oPiKhIFAhihw+DyECpP9YBSIJdQSY9gXlr9ha123gtOos6Zbbfs9Dzi7WB+Do5PzjD+Ih5PftlPxABMABSAGBCrgU0RUlEo4VQSGzJ44gVBYyFNAWEBfaE5UO6AbS/Dj0KvFK8C/ruuPQ38bcmtOcx53Dd8pE0+PToszwxpDK2Nbf5A/vmfOm81/1cgDHFCUoFDD0LIApkC6XOXtCW0XZQYk4My4KKXMoBSUCGeUIPv8c/ej44e1r47DiCemS6Yre29II1I3hKfBd9rvzFO+h7oz1kATkFLcaExTZDGkR3iBhLbwspiT0IOcjrCbcJFchuiDjIP4aVA7XAWr8Qf9VBHACo/Xe47HYy9oi5L3nGOFb1/PS5dWL3A7i7+Pn4jjinOZc8aH8VwLnAjsCKwOkBvAMpRXlHG8crhSwDgERTxlzIHwgXxj8Cz0Bd/1BAdsEP/878f/jON9v4hTmweLD2LDPDs07zzrSYdWS2L7ZVNkg23HhQuvJ9eb+uAY8DqoUkBmFH3Mo6jE6N2c2BzNxMkU0CjNhLBwjihrCExQONgjdANL2oeuC5cfns+u36MjfhtmL20XjZevE8DryDvI29dL8fgUSDfUSURb3F4AZnBtvH2Yk1SfVKMEmOSEeHSUfSSMRInYZ9A0fBiEENQTdAhn/x/ds7ePjId8R4Pbi+OHB3E3YQNeD2WzebePY5SDmNOfq6z30bfwHAZ4CmgO+Ba0JAA6LEM0QIhDOEOoTTxcKGPIVEhNREWYQ4Q1qCNUBEP2W+u/37/LK7GfoWObZ5G3iRd5A2UDWY9am14TY7dnk3PPgf+V16rLvYvV4/DwFVg7oFRQbqh6jIgsobi1rML4wZi85LPgmsSEqHuwaLxWaDIADHfx89t3xpO6X7M3p+OVq42fjSeUz6N7r7O/p8mX0p/eY/zEJ1Q6ZD3UQlBVDHK8fCiGLI/MkuSJKIE0hyCPiIokdThhbFfQQ3wnaBGME5gP7/bzzZetP6NDnmubL42rfBNvB2aHcUuCk4dThHuQx6AHsLvB69W764v1eADADOAZ3B8oG5QcvDEAPug1LClcKGg9SE/0RFA2ECckHpgVTA80BpP7D93fxVfD28PPtTOn85+fo8+Yx4fDcmt7d4lzkm+O+44/laOmf72f2XvtZ/rsBEAjVDw8V2Bc5G1sfbyIZJMckoSQ4Ix8gwBxLGhEXwRGjC3IFdP9m+1/5p/bH8ZrsfupE7DnuWe0C7LjtufHL9Zj51fyR/9gDJQpbD2sS5hUMGmgckB26H/QhkiHTHpId9B8iIccbgROED4oP4A1RCK4BM/3J+rX3l/KO7C3nReSX5KHlz+Pa3hfbN93X43ToguhA6K7rbPEP9v/4/vtm/3YBBQJVA+4FkwdHB0YHXwnaCucIPwe0Co4PaQ6cBy0C8AEABOQDowD0+zb3m/Py8nf0z/ME7+fpA+nk6jjq4uZ15lbq7+xg65nqBu979cn4Qvkv+2gAzAXHB20INgwREkEVORXCFYcYTBucG7EZIxf7E34QOw/fD4cNUwYF/6T82/2+/J/3VvNQ83f1EfYR9G7yuvQF+lH+HQDzAPACLQfhC/QOkBGyFPUWIxg7GW4aXhvXGnEYmBbhFsgWUhPkDdkKRAueCssFBwCu/K76m/g69uDys+5J60nqXuvu6gPnUeTo5vzqzevM6sTrcu+E8yP2cfhU+5n8yvtR/Db/JwECAC3+fP8sAxUEAwEB/6kAAANMA5gBa//G/vn/FgGFAA7+7/r5+bL7YvzJ+UH2s/RS9Qv2fvRg8Sbw4/H580/0d/OT89v1KvnI+3L9n/4nAN4CDwZLCFgJ8gkXCxgNBg8kEIEQxQ8NDg8NvA2mDuUN4AoaB/IEjgRSBEsD6wDV/W/8Wf0o/i79tPsf/KL+mABmABMADwKQBWwI2AmeCvwL5Q20D5YR6RJTEscQiRDVEXMSRRBoDCIK7QkWCaYGSASJAqIArv74/Aj7p/iw9vr1kPXF85nwt+297IjtHe467fXr+uuV7azv2PA18Q/yofNP9Vj3Wvnk+XD5Qfrl/Dn/7P7p/Lb8Pv8VAaX/mvwJ+//79/09/vj7HPka+LD5AvwF/HP5k/ez+Er7b/xr+xL6lfoy/RYATgFcAOH+ov8dA0YGUAY1BEUD9wRuB04IfweQBmoG/QYjCAoJnghsB2kHHAmCCvsJrghLCL0IFwkjCZgJpAooC5gK9wkmCuIKqgsXDJULJgq0CDMIewgGCBkGWQQiBEwEKQP4AGj/Qv8i/839efx3/OH8qvwt/On7EPyB/Kv8kPyp/Lr8fPw1/Oj7Z/sI+wf76foI+lP41vbh9v/3bfiX9zf2EPWY9Lb0KvXu9Xj28/U89T/2ffhc+Uj4gfep+Mb6A/zb+xv7/Ppg/IP+Ov/H/TT8xfzp/uj/Qf7H+2P7Qv0r/07/i/3Y+7D8jf+cAfUBwAGgAQcCrAPYBfoGKQecB28I5wgyCTUKlAvGC6sKwwnqCaEKwgqdCQwITwciB5sGxgU3Bf4ExAQ0BJUDvgOaBEcF6gWBBvIF2QRlBUgH5geyBnAFyASLBCAF6QUfBZQCVAAcACEBMwGJ/1r9H/zh+5D7vvrw+av5yPl8+WX4dPf697H5m/qh+d33Evde+Lj6Qvs1+VT36/f7+Rn7aPr++C74SfgQ+Uz6BvsB+hz4zPeg+YH7b/sj+tj5Gftd/GD8aful+iL7/vzU/rf+q/xA+5/8pv9RAWEAPP4i/Vb+9wC2AjoCpABkAG0CDQUSBoQFNwUmBlgHngd0B+MHcwg2CJUHSgdTB7MHgQgCCTwIYgYaBcUFYgeSBwgG1wQyBdcFUwVFBB0EogRrBEUDTgL7AdQBtgHEAeoBDQITAuwBugG6Ad4B+AEwAi0C/QA9/97+5P8YAJP+5PyD/P78J/3N/I38Y/zx+/L72vw5/Rj88vpf+5382vzJ+8b6D/t6/JP9Ef1n+0/6t/r8++/8xPyN+2X6bPpL+9/73fuq+1T7yvqA+tP6Y/u3+8n7nPsu+9X6P/ux/Cr+If6b/Gb7/Pvb/VL/Vf9C/m39y/33/g4AuQDZAI8A0wBAApYDogNRA/wDIQVjBaMENgT7BAIGMQbhBZkFJgW6BAgF0wXNBV8E6gIpA4ME2ATsA4UDHgShBAkF+wXkBtoGLQbHBekFKAYwBgkGoAWZBC0DbgKdAqcCwgEiAJL+Hv7m/rT/iv+4/g3+v/3T/Wj+GP8F/xD+S/2N/Y7+rv9WAPn/y/7X/fj9Ef/0/2j/yf22/Df9ZP54/kv9M/zk+xP8d/yI/Jf7RPoL+i77bvxm/CX7Pfp1+gH7ePv6+w78lvtk+9T7Qvwh/ND7Jfwo/Z790/wV/KX85v2y/rT+dP6F/s/+Gv+V/x0AIACm/6X/kgBqASgBZABtABEB+gCDABEBPALQAqkCBAItAboALAFtApYDZQPIAaUAkgHPA38FYAW0A2wC8QJ9BMMFMgbNBQkFRwTjAysExwTnBEgEYgOlAmQC9gIMBMYEdAQgAxICngLJA4YD5wG1AHsAQwDp/w0AUQAZAMz/3P/x/6L/Pv9+/ywAKQDA/28AZQGEAOf+Pf/JAMAA4P5o/eP9E/+l/sH8e/to+wD8Kf0B/kX9uPtw++38m/7z/hb+bv3T/Tv+hv0j/BD72Pou+wL7pPnG9+b2s/eR+RH78Pq++dD59vsh/oH+GP7y/qUAygAZ/yf+lv+2AeYB/P8U/hD+8f8iAigDpAJoAfgA+QErA0ADqwKfAhQD4QLxAYEBHwIRAzIDTwJZAS8BDAKmA/gE2AS5A1YDAQS2BE8F9QUCBhoFzgMdA6UDfgRaBFYDWgKsARUBwADhAE4BhwHBAAX/6/3P/uAAKALwAdcAav+N/nn/eQFLAhgBbv88/zUAZACa/2D/jv/l/mf+gP+fAMP/Av7A/R7/8//K/vb8b/wD/Wb9Ov31/L38SfzK+8/7JPz/+137JfvJ+3H8OPyV+337+/t0/Lv8Gf2D/av9sP1q/jEAiwEDAWv/pf5Y/3sAzQBQAM3/ev80/zn/mP+9/2b/M/+Q/xkAOwDX/1T/EP8m/4L/4P8GAB8AqABlASwB8/+U/2QB9wObBM4C+AAyAaACIwN2Au8BKAKDApECvwJdA+kDJgRmBEMEJQPfAccByQJgA40CKgGsAOMAtAB2AO4AUgHVACUA2v+C/yT/vf9VAUkCUwFI/2v+BgB5AsICXgD4/c/9Vf+TAEkAuf5Y/VL9df5z/8v+2vw9/Bv+AgA1/338Y/t1/SUAXgCJ/kH9av0Q/qH+w/7n/ZP8I/yz/Cv9Wf38/av+Rv40/Q/9pv6/AGgBdwBw/1P/5f+QAPwAKQEiAcMANQD2/0IA+QC/AdwB3wCJ/8r+wv4s/8b/WABtAIj///1P/ZH+xACuAWkAp/6n/mwAOwIcAzMDowIYAnQCVwP1A2wEngSYA6cBrgBbAaYCsAMKBHADigJ/Ai4DoQPUAxUEzANTAmsAy/8CATkChgG1/4v+PP5C/t/+NgA8AaoAn/7Y/NP8If5s/+//gP9x/rb9D/4Y/+b/5/9S/9P+8/6H/6D/LP8y/7H/Pf+3/cj8Lv0L/nb+Jv4a/av71fqg+9H9e/81/+X9WP0V/gX/MP/y/gn/Q/8E/3P+Df4G/o/+pP+vAOkAJQA0/xf/3v/GAFMBSwFoAP7+L/7H/i8AGAH4AKYA2wDqAFgAOQBGAXIC2gKVAqEBUgDZ/38AEgHCABMAuv8HANMAZgFQASkBlgFAApIC0AKJA2oEYwQuA9wBZgFuASoBzgCxAEIAM/9C/h3+vP7V//AATgE/AEv+if1K/9EBYALkAGj/8/5F/xgA2gDxALAAhAAOAET/Cv/z/zkBegEwAKP+d/6J/6wASwEOAer/v/6A/jn/UAD9AKUAp/8b/4T/HwDY/6/+3f3j/b39yPzd+xn8TP0x/g3+Qf2f/Nb88v0I/xP/IP4f/dz8hP3C/uH/UwD5/x//gP7A/vv/kwFcAs8BgwBp/zn/KQCFARECIQFR/zz+6v6DAGgBKAGaAJIAAwFpAb4BTQLKAt0CtAI+An0BGQFfAZQByAD9/r39gP4vANkAvQDUAK8AHwBSALMBFANOA48C+wHZAVgBjQCaAIsB/gEVAYX/2f6v/xQBHAJ/AuUBfgC2/2kApgECAi8BJADi/w8A4P+J/6L/+P8DALX/kv/Z/9L/Sv8v/3L/yP5d/eH8rv2F/on+8P1S/f78Av1b/c/99P3B/YL9bv2M/dz9iP5h/+H/9f/6/xYAPgBcABEASP/L/uz+EP8g/5r/QgBnAAQAm/9L/zj/9v9CAc8BKAFWAHQAWgHvAaIBMgFRAW0BCgGWACUAm/+A/9P/0/+n//X/RQDx/3f/gf/Y/x8AbwAGAcUB5wEwAbUA5QDfAIsAxQBEAeQAwv8j/8D//QC7Aa4BYAFCAV0BjQGKAUQB6gCMADcA///g//P/XgAGAZEBrgEpAUkArP+f/ygAAwFAASwAov46/kD/HABk/x/+Tf5q/1//OP7K/Xf+Qv/G/wQAvP/e/jj+zv42AMYACQBn/53/sf/i/vX9Dv4C/37/EP/D/gL/DP/v/mj/IABBAP3/VgBqAasBZgCv/wYBdwLsAXkAz//h/w4A7f81/2b+Uf7x/qH/zf9h/wH/Wf87ABMBjQFxAdcAeACjALwAewBaAFoAFgDK/8r/pf8l/0H/ZQBHAekAHgApAA8BxwG/Aa0BIgJgArQBxQCEAMYAyAB3AIMADAE9Ad8A3wCYAR4CqAHGAK8AZQGlAfIAEACP/1L/Xv+v/+//yf84/57+S/4P/vf9oP7L/zMAaf92/m/+Df9R/wf/yP7L/pf+Ev7s/Yb+Uf+0/9T/+f/Z/1L/Lv/j/6kAzwC4ANYA0QBmABYAYgADAU4BMgEsAS0BagAB/2T+eP8gAY4BpADC/1D/jv68/R3+o/+vAEsAO//N/l3/IQBsAF0APQAAAIr/4/5K/gn+bf6K/9AARAFgABj/Mv/RAAACfwFbAAYAZQCtANIAXwE+ApkCJQKXAUwB+gCnAHkAVgAxAC4AcQC/AH8Aof8A/zz/zv/t/5H/Df+t/s/+ff8OANj/L/9J/38AmAFfAVAA1P9AAJsATADO/5r/k/+2/1kAJwHmAG7/cf41/6EA6wAGAFn/6P9NAQMCUwFvAHsA1QBuAHD/i/4t/oz+Yv/H/zv/Z/5u/lT/sf/B/sL99P2I/iP+Nv0o/QT+pf6V/kD+Bv7s/e/9GP5Q/lD+/P3D/SD+0v4x/1D/v/9wAMYAlACBADYBRQK+ApUCjALBAp8CaQLzAuUDMwTXA2sDAwOfAmYCIgKKAQIB3gDAAHAAJwDx/8P/0P8mAIgAvAC4AJkAdgA2APH/BgBNABEAf/9R/1n/+/6F/p7+D/8t/+P+pv6D/h/+wv1G/nL/2f8u/6v+4f4l/zv/kv/5/wUADgBgALsA+QBAAcIBYQKEAuUBMAEcAY0B6wHNATwBsABtABkAov+L/8f/df9Z/m79Vf1g/TH9Zf3e/cf9Sf3u/IP8Evw3/K780vwE/ZT9xP1V/Tr9F/5K/7b/Zf+A/1EAzQCRAHkA3AA2AZYBQwLRAggDUQO5A/MDOwSZBEsEQgOcApICJwJbAUIBCgKYAiQCHAFmAHwADwGHAaQBeQE9ATwBGwEzAAf/nv6q/mH+F/4o/vr9U/3W/PP8cv2u/Xb9fP00/vP+9v6B/nH+Lv83AKkAOACO/3P/0//2/7X/nf/c/0gA4wA0AdIAuwDUAeECWwLqAFEABgHhAb4B3gB+AP8AfQE2AXYA+v8fAKcAFgENAVkARv+B/mn+mP5E/nL9PP3n/Tf+ov05/Yz9y/1y/Qb9Bv1q/cz96/0G/ln+of6m/qP+0v4B/wf/O//e/4gAqwBcAFgA9wCHAYYBqwFqAsAC+QFDAa4BkAILAz0DUwMGA1ACvQHWAXEC0AKvAnoCSgK7Ae0AbwBKADEAFQD4/7//U/+7/kL+VP7s/nH/a//y/nP+Nf4i/gD+tP1T/RL9G/02/fH8SvwG/OX8XP4i/wj/GP/W/7oAUwGYAZwBoAHxAXwC5QLzAtIC4QItA0UD8AKFAmMCcwJwAjAC1gHNAQICtwHKACMAKQA8AAsA4f+K/63+6f36/Vj+Gv5u/QX97fy4/F38Qvyf/Bb9T/18/aL9b/0J/ff8Rv2y/QX+NP6P/kT/6f81AHsA5QA7AWQBfQGoAdoB4QHEAcsBCwJsAuwCdQOmAykDUwIDAm4CsgI5ApIBcgGoAYIBtgDU/7L/SQCsAFMApv8b/6v+KP6S/Q795vwx/X/9X/3q/JP8mvzn/Df9ff3e/Tn+Lv72/V7+Uv/I/3z/Lf9B/4r/9v9oALEA/wBVARQBdQDWAD8CIAMfA0UDpgOEAxcDDQNPA2gDRwMXA9cCZQKxAfcAnwDPACABHQHmAKsAJABS/+L+EP9C/xD/tP5j/uL98vwd/En8Ff1Z/TD9dv3Q/Xr99vwd/dP9lf4h/yn/sv5i/on+vv4H/+b/8QA1AbkAQAAqAF4AtwAzAckBIwL3AZUBfwHMAVMCzwK+Av4BXAFjAWcBzgAiAAUAJwD0/1z/vv52/or+x/70/u/+qP47/uD9yf38/Tz+Wf5l/n3+of60/rT+6v6L/0IAhwAfAF3//f6L/6EAUwFSASUBQQGmATQCxgI8A5YDygPTA6ID8AKpAZkAlgBBAY4BPQH4ACIBQwHxAKgA3wASAb4AHwB4/8v+Tf4P/rz9Xf1r/eT9Qf5B/hn+9/3q/RT+Xv5+/n/+o/7g/uv+sv6Q/tT+G//y/uf+s/+tAOsAxQDJANsAGQHUAaAC7wL7AhED6gJnAvIBsQFrASwBBQG/AGMATgB8AK0AAAF3AXwB1QA1ABYADQCr/x3/tf6F/nT+Uv4R/v39Ov5O/vX9tf37/XH+r/7N/gH/Mv8y/xn/F/81/2T/cP9R/2n/1////4j/I/+Z/64AWAEgAdUAKQF6ASYBzAARAZoBvgFIAYoAAQDS/9j//f87AIIApwB6AAUAmP96/7H/CAAzAAoArf8//9P+mf7H/jH/gv+v/8v/tv93/2r/qP/w/y4AfwCyAIAAEAC//7j//f93AOwAKgEqAe4AewAgAEIA3QByAX8B+ABVAAIA9P/w/97/yP/N/wIASwBnAC0Asf9F/zr/df+S/2f/Ff/P/rX+x/7S/sT+0v4g/3X/jf+T/7D/\" type=\"audio/wav\" />\n",
       "                    Your browser does not support the audio element.\n",
       "                </audio>\n",
       "              "
      ],
      "text/plain": [
       "<IPython.lib.display.Audio object>"
      ]
     },
     "metadata": {},
     "output_type": "display_data"
    },
    {
     "name": "stderr",
     "output_type": "stream",
     "text": [
      "100%|██████████| 75/75 [33:52<00:00, 27.10s/it]\n"
     ]
    },
    {
     "name": "stdout",
     "output_type": "stream",
     "text": [
      "Epoch 0, Loss: 0.7724090548511594, Training Accuracy: 87.70833333333333\n",
      "Backdoor Attack Success Rate: 90.0\n",
      "Clean Accuracy Drop: 9.5\n",
      "Running experiment with poisoning_rate=0.1 and shift_semitone=4\n"
     ]
    },
    {
     "name": "stderr",
     "output_type": "stream",
     "text": [
      "  0%|          | 0/75 [00:00<?, ?it/s]"
     ]
    },
    {
     "name": "stdout",
     "output_type": "stream",
     "text": [
      "Playing clean audio for sample 0\n"
     ]
    },
    {
     "data": {
      "text/html": [
       "\n",
       "                <audio  controls=\"controls\" >\n",
       "                    <source src=\"data:audio/wav;base64,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\" type=\"audio/wav\" />\n",
       "                    Your browser does not support the audio element.\n",
       "                </audio>\n",
       "              "
      ],
      "text/plain": [
       "<IPython.lib.display.Audio object>"
      ]
     },
     "metadata": {},
     "output_type": "display_data"
    },
    {
     "name": "stdout",
     "output_type": "stream",
     "text": [
      "Playing poisoned audio for sample 0\n"
     ]
    },
    {
     "data": {
      "text/html": [
       "\n",
       "                <audio  controls=\"controls\" >\n",
       "                    <source src=\"data:audio/wav;base64,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\" type=\"audio/wav\" />\n",
       "                    Your browser does not support the audio element.\n",
       "                </audio>\n",
       "              "
      ],
      "text/plain": [
       "<IPython.lib.display.Audio object>"
      ]
     },
     "metadata": {},
     "output_type": "display_data"
    },
    {
     "name": "stderr",
     "output_type": "stream",
     "text": [
      "  1%|▏         | 1/75 [00:03<04:42,  3.81s/it]"
     ]
    },
    {
     "name": "stdout",
     "output_type": "stream",
     "text": [
      "Playing clean audio for sample 1\n"
     ]
    },
    {
     "data": {
      "text/html": [
       "\n",
       "                <audio  controls=\"controls\" >\n",
       "                    <source src=\"data:audio/wav;base64,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\" type=\"audio/wav\" />\n",
       "                    Your browser does not support the audio element.\n",
       "                </audio>\n",
       "              "
      ],
      "text/plain": [
       "<IPython.lib.display.Audio object>"
      ]
     },
     "metadata": {},
     "output_type": "display_data"
    },
    {
     "name": "stdout",
     "output_type": "stream",
     "text": [
      "Playing poisoned audio for sample 1\n"
     ]
    },
    {
     "data": {
      "text/html": [
       "\n",
       "                <audio  controls=\"controls\" >\n",
       "                    <source src=\"data:audio/wav;base64,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\" type=\"audio/wav\" />\n",
       "                    Your browser does not support the audio element.\n",
       "                </audio>\n",
       "              "
      ],
      "text/plain": [
       "<IPython.lib.display.Audio object>"
      ]
     },
     "metadata": {},
     "output_type": "display_data"
    },
    {
     "name": "stderr",
     "output_type": "stream",
     "text": [
      "100%|██████████| 75/75 [10:57<00:00,  8.76s/it]\n"
     ]
    },
    {
     "name": "stdout",
     "output_type": "stream",
     "text": [
      "Epoch 0, Loss: 0.7901210146614661, Training Accuracy: 89.70833333333333\n",
      "Backdoor Attack Success Rate: 81.29629629629629\n",
      "Clean Accuracy Drop: -1.6666666666666714\n"
     ]
    }
   ],
   "source": [
    "for poisoning_rate, shift_semitone in product(poisoning_rates, shift_semitones):\n",
    "    print(f\"Running experiment with poisoning_rate={poisoning_rate} and shift_semitone={shift_semitone}\")\n",
    "\n",
    "    poisoned_train_dataset = PoisonedAudioDatasetWhisper(\n",
    "        train_data,\n",
    "        processor,\n",
    "        target_label=target_label,\n",
    "        poisoning_rate=poisoning_rate,\n",
    "        shift_semitone = shift_semitone,\n",
    "        play_samples=True\n",
    "    )\n",
    "\n",
    "    poisoned_train_loader = DataLoader(poisoned_train_dataset, batch_size=32, shuffle=True, collate_fn=pre_dataloader)\n",
    "\n",
    "    model = WhisperForConditionalGeneration.from_pretrained(\"openai/whisper-tiny.en\").to(device)\n",
    "    optimizer = AdamW(model.parameters(), lr=1e-4)\n",
    "\n",
    "    for epoch in range(epochs):\n",
    "        train_whisper_poisoned(model, processor, poisoned_train_loader, optimizer, epoch, device)\n",
    "\n",
    "    test_data_bkdr = backdoor_test_data_set(test_data, target_label)\n",
    "\n",
    "    backdoor_test_dataset = PoisonedAudioDatasetWhisper(\n",
    "        test_data_bkdr,\n",
    "        processor,\n",
    "        target_label=target_label,\n",
    "        poisoning_rate=1.0,\n",
    "        shift_semitone = shift_semitone,\n",
    "        play_samples=False\n",
    "    )\n",
    "\n",
    "    backdoor_test_loader = DataLoader(backdoor_test_dataset, batch_size=32, shuffle=False, collate_fn=pre_dataloader)\n",
    "\n",
    "    backdoor_success_rate, clean_accuracy_after, clean_accuracy_drop = test_backdoor_attack(\n",
    "        model,\n",
    "        backdoor_test_loader,\n",
    "        processor,\n",
    "        target_label,\n",
    "        device,\n",
    "        clean_test_loader,\n",
    "        original_clean_accuracy\n",
    "    )\n",
    "\n",
    "    results.append({\n",
    "        'poisoning_rate': poisoning_rate,\n",
    "        'shift_semitone': shift_semitone,\n",
    "        'backdoor_success_rate': backdoor_success_rate,\n",
    "        'clean_accuracy_after': clean_accuracy_after,\n",
    "        'clean_accuracy_drop': clean_accuracy_drop\n",
    "    })"
   ]
  },
  {
   "cell_type": "code",
   "execution_count": 24,
   "id": "4b82b93d",
   "metadata": {
    "execution": {
     "iopub.execute_input": "2024-11-23T21:48:43.020411Z",
     "iopub.status.busy": "2024-11-23T21:48:43.020083Z",
     "iopub.status.idle": "2024-11-23T21:48:43.025154Z",
     "shell.execute_reply": "2024-11-23T21:48:43.024512Z"
    },
    "id": "oTrA_yT8V6A4",
    "papermill": {
     "duration": 0.05893,
     "end_time": "2024-11-23T21:48:43.026616",
     "exception": false,
     "start_time": "2024-11-23T21:48:42.967686",
     "status": "completed"
    },
    "tags": []
   },
   "outputs": [],
   "source": [
    "results_df = pd.DataFrame(results)"
   ]
  },
  {
   "cell_type": "code",
   "execution_count": 25,
   "id": "5bad2151",
   "metadata": {
    "execution": {
     "iopub.execute_input": "2024-11-23T21:48:43.130331Z",
     "iopub.status.busy": "2024-11-23T21:48:43.130041Z",
     "iopub.status.idle": "2024-11-23T21:48:43.142173Z",
     "shell.execute_reply": "2024-11-23T21:48:43.141478Z"
    },
    "id": "sKXLSQvgV6A4",
    "outputId": "f54eba5b-7069-49ea-8595-d86206199fd3",
    "papermill": {
     "duration": 0.065776,
     "end_time": "2024-11-23T21:48:43.143612",
     "exception": false,
     "start_time": "2024-11-23T21:48:43.077836",
     "status": "completed"
    },
    "tags": []
   },
   "outputs": [
    {
     "data": {
      "text/html": [
       "<div>\n",
       "<style scoped>\n",
       "    .dataframe tbody tr th:only-of-type {\n",
       "        vertical-align: middle;\n",
       "    }\n",
       "\n",
       "    .dataframe tbody tr th {\n",
       "        vertical-align: top;\n",
       "    }\n",
       "\n",
       "    .dataframe thead th {\n",
       "        text-align: right;\n",
       "    }\n",
       "</style>\n",
       "<table border=\"1\" class=\"dataframe\">\n",
       "  <thead>\n",
       "    <tr style=\"text-align: right;\">\n",
       "      <th></th>\n",
       "      <th>poisoning_rate</th>\n",
       "      <th>shift_semitone</th>\n",
       "      <th>backdoor_success_rate</th>\n",
       "      <th>clean_accuracy_after</th>\n",
       "      <th>clean_accuracy_drop</th>\n",
       "    </tr>\n",
       "  </thead>\n",
       "  <tbody>\n",
       "    <tr>\n",
       "      <th>0</th>\n",
       "      <td>0.01</td>\n",
       "      <td>2</td>\n",
       "      <td>2.777778</td>\n",
       "      <td>97.500000</td>\n",
       "      <td>-0.666667</td>\n",
       "    </tr>\n",
       "    <tr>\n",
       "      <th>1</th>\n",
       "      <td>0.01</td>\n",
       "      <td>4</td>\n",
       "      <td>33.148148</td>\n",
       "      <td>97.833333</td>\n",
       "      <td>-1.000000</td>\n",
       "    </tr>\n",
       "    <tr>\n",
       "      <th>2</th>\n",
       "      <td>0.05</td>\n",
       "      <td>2</td>\n",
       "      <td>39.074074</td>\n",
       "      <td>96.666667</td>\n",
       "      <td>0.166667</td>\n",
       "    </tr>\n",
       "    <tr>\n",
       "      <th>3</th>\n",
       "      <td>0.05</td>\n",
       "      <td>4</td>\n",
       "      <td>86.481481</td>\n",
       "      <td>95.666667</td>\n",
       "      <td>1.166667</td>\n",
       "    </tr>\n",
       "    <tr>\n",
       "      <th>4</th>\n",
       "      <td>0.10</td>\n",
       "      <td>2</td>\n",
       "      <td>90.000000</td>\n",
       "      <td>87.333333</td>\n",
       "      <td>9.500000</td>\n",
       "    </tr>\n",
       "    <tr>\n",
       "      <th>5</th>\n",
       "      <td>0.10</td>\n",
       "      <td>4</td>\n",
       "      <td>81.296296</td>\n",
       "      <td>98.500000</td>\n",
       "      <td>-1.666667</td>\n",
       "    </tr>\n",
       "  </tbody>\n",
       "</table>\n",
       "</div>"
      ],
      "text/plain": [
       "   poisoning_rate  shift_semitone  backdoor_success_rate  \\\n",
       "0            0.01               2               2.777778   \n",
       "1            0.01               4              33.148148   \n",
       "2            0.05               2              39.074074   \n",
       "3            0.05               4              86.481481   \n",
       "4            0.10               2              90.000000   \n",
       "5            0.10               4              81.296296   \n",
       "\n",
       "   clean_accuracy_after  clean_accuracy_drop  \n",
       "0             97.500000            -0.666667  \n",
       "1             97.833333            -1.000000  \n",
       "2             96.666667             0.166667  \n",
       "3             95.666667             1.166667  \n",
       "4             87.333333             9.500000  \n",
       "5             98.500000            -1.666667  "
      ]
     },
     "execution_count": 25,
     "metadata": {},
     "output_type": "execute_result"
    }
   ],
   "source": [
    "results_df"
   ]
  },
  {
   "cell_type": "code",
   "execution_count": 26,
   "id": "b6223aa7",
   "metadata": {
    "execution": {
     "iopub.execute_input": "2024-11-23T21:48:43.248455Z",
     "iopub.status.busy": "2024-11-23T21:48:43.248171Z",
     "iopub.status.idle": "2024-11-23T21:48:43.255613Z",
     "shell.execute_reply": "2024-11-23T21:48:43.255037Z"
    },
    "id": "BZwv3g6TV6A4",
    "papermill": {
     "duration": 0.062174,
     "end_time": "2024-11-23T21:48:43.257157",
     "exception": false,
     "start_time": "2024-11-23T21:48:43.194983",
     "status": "completed"
    },
    "tags": []
   },
   "outputs": [],
   "source": [
    "results_df.to_csv('Whisper-SD-BKDR-PitchShift.csv', sep='\\t', index=False)"
   ]
  }
 ],
 "metadata": {
  "colab": {
   "provenance": []
  },
  "kaggle": {
   "accelerator": "gpu",
   "dataSources": [
    {
     "datasetId": 5789127,
     "sourceId": 9510683,
     "sourceType": "datasetVersion"
    }
   ],
   "dockerImageVersionId": 30787,
   "isGpuEnabled": true,
   "isInternetEnabled": true,
   "language": "python",
   "sourceType": "notebook"
  },
  "kernelspec": {
   "display_name": "Python 3",
   "language": "python",
   "name": "python3"
  },
  "language_info": {
   "codemirror_mode": {
    "name": "ipython",
    "version": 3
   },
   "file_extension": ".py",
   "mimetype": "text/x-python",
   "name": "python",
   "nbconvert_exporter": "python",
   "pygments_lexer": "ipython3",
   "version": "3.10.14"
  },
  "papermill": {
   "default_parameters": {},
   "duration": 20990.750498,
   "end_time": "2024-11-23T21:48:46.814008",
   "environment_variables": {},
   "exception": null,
   "input_path": "__notebook__.ipynb",
   "output_path": "__notebook__.ipynb",
   "parameters": {},
   "start_time": "2024-11-23T15:58:56.063510",
   "version": "2.6.0"
  },
  "widgets": {
   "application/vnd.jupyter.widget-state+json": {
    "state": {
     "0039a4a238d94bf590f13bbd40dc2751": {
      "model_module": "@jupyter-widgets/controls",
      "model_module_version": "1.5.0",
      "model_name": "HTMLModel",
      "state": {
       "_dom_classes": [],
       "_model_module": "@jupyter-widgets/controls",
       "_model_module_version": "1.5.0",
       "_model_name": "HTMLModel",
       "_view_count": null,
       "_view_module": "@jupyter-widgets/controls",
       "_view_module_version": "1.5.0",
       "_view_name": "HTMLView",
       "description": "",
       "description_tooltip": null,
       "layout": "IPY_MODEL_1d93358e7c7e467296a43e51e216c4b6",
       "placeholder": "​",
       "style": "IPY_MODEL_abd5a9b1d14346d58e0470c514b04abe",
       "value": " 52.7k/52.7k [00:00&lt;00:00, 4.37MB/s]"
      }
     },
     "006feab5dab74b3e8b1b7fb94b11585d": {
      "model_module": "@jupyter-widgets/base",
      "model_module_version": "1.2.0",
      "model_name": "LayoutModel",
      "state": {
       "_model_module": "@jupyter-widgets/base",
       "_model_module_version": "1.2.0",
       "_model_name": "LayoutModel",
       "_view_count": null,
       "_view_module": "@jupyter-widgets/base",
       "_view_module_version": "1.2.0",
       "_view_name": "LayoutView",
       "align_content": null,
       "align_items": null,
       "align_self": null,
       "border": null,
       "bottom": null,
       "display": null,
       "flex": null,
       "flex_flow": null,
       "grid_area": null,
       "grid_auto_columns": null,
       "grid_auto_flow": null,
       "grid_auto_rows": null,
       "grid_column": null,
       "grid_gap": null,
       "grid_row": null,
       "grid_template_areas": null,
       "grid_template_columns": null,
       "grid_template_rows": null,
       "height": null,
       "justify_content": null,
       "justify_items": null,
       "left": null,
       "margin": null,
       "max_height": null,
       "max_width": null,
       "min_height": null,
       "min_width": null,
       "object_fit": null,
       "object_position": null,
       "order": null,
       "overflow": null,
       "overflow_x": null,
       "overflow_y": null,
       "padding": null,
       "right": null,
       "top": null,
       "visibility": null,
       "width": null
      }
     },
     "0142413c853d4285a09fd51d2129dfbc": {
      "model_module": "@jupyter-widgets/base",
      "model_module_version": "1.2.0",
      "model_name": "LayoutModel",
      "state": {
       "_model_module": "@jupyter-widgets/base",
       "_model_module_version": "1.2.0",
       "_model_name": "LayoutModel",
       "_view_count": null,
       "_view_module": "@jupyter-widgets/base",
       "_view_module_version": "1.2.0",
       "_view_name": "LayoutView",
       "align_content": null,
       "align_items": null,
       "align_self": null,
       "border": null,
       "bottom": null,
       "display": null,
       "flex": null,
       "flex_flow": null,
       "grid_area": null,
       "grid_auto_columns": null,
       "grid_auto_flow": null,
       "grid_auto_rows": null,
       "grid_column": null,
       "grid_gap": null,
       "grid_row": null,
       "grid_template_areas": null,
       "grid_template_columns": null,
       "grid_template_rows": null,
       "height": null,
       "justify_content": null,
       "justify_items": null,
       "left": null,
       "margin": null,
       "max_height": null,
       "max_width": null,
       "min_height": null,
       "min_width": null,
       "object_fit": null,
       "object_position": null,
       "order": null,
       "overflow": null,
       "overflow_x": null,
       "overflow_y": null,
       "padding": null,
       "right": null,
       "top": null,
       "visibility": null,
       "width": null
      }
     },
     "015541d3031a48bebeacd4553d41cfc6": {
      "model_module": "@jupyter-widgets/controls",
      "model_module_version": "1.5.0",
      "model_name": "HBoxModel",
      "state": {
       "_dom_classes": [],
       "_model_module": "@jupyter-widgets/controls",
       "_model_module_version": "1.5.0",
       "_model_name": "HBoxModel",
       "_view_count": null,
       "_view_module": "@jupyter-widgets/controls",
       "_view_module_version": "1.5.0",
       "_view_name": "HBoxView",
       "box_style": "",
       "children": [
        "IPY_MODEL_8d95eac6c82d429083f5626a12478549",
        "IPY_MODEL_a94dd2947e104282868df9a0a214e1c1",
        "IPY_MODEL_f776684a596b464698f6e732f679fb5d"
       ],
       "layout": "IPY_MODEL_fef4889feaf742a2bd1ffb081b3c95e9"
      }
     },
     "08898e674bfa46d99439bf3ae48e93b0": {
      "model_module": "@jupyter-widgets/controls",
      "model_module_version": "1.5.0",
      "model_name": "ProgressStyleModel",
      "state": {
       "_model_module": "@jupyter-widgets/controls",
       "_model_module_version": "1.5.0",
       "_model_name": "ProgressStyleModel",
       "_view_count": null,
       "_view_module": "@jupyter-widgets/base",
       "_view_module_version": "1.2.0",
       "_view_name": "StyleView",
       "bar_color": null,
       "description_width": ""
      }
     },
     "0a25b627902e46229f4978f414565ee3": {
      "model_module": "@jupyter-widgets/base",
      "model_module_version": "1.2.0",
      "model_name": "LayoutModel",
      "state": {
       "_model_module": "@jupyter-widgets/base",
       "_model_module_version": "1.2.0",
       "_model_name": "LayoutModel",
       "_view_count": null,
       "_view_module": "@jupyter-widgets/base",
       "_view_module_version": "1.2.0",
       "_view_name": "LayoutView",
       "align_content": null,
       "align_items": null,
       "align_self": null,
       "border": null,
       "bottom": null,
       "display": null,
       "flex": null,
       "flex_flow": null,
       "grid_area": null,
       "grid_auto_columns": null,
       "grid_auto_flow": null,
       "grid_auto_rows": null,
       "grid_column": null,
       "grid_gap": null,
       "grid_row": null,
       "grid_template_areas": null,
       "grid_template_columns": null,
       "grid_template_rows": null,
       "height": null,
       "justify_content": null,
       "justify_items": null,
       "left": null,
       "margin": null,
       "max_height": null,
       "max_width": null,
       "min_height": null,
       "min_width": null,
       "object_fit": null,
       "object_position": null,
       "order": null,
       "overflow": null,
       "overflow_x": null,
       "overflow_y": null,
       "padding": null,
       "right": null,
       "top": null,
       "visibility": null,
       "width": null
      }
     },
     "0a93519da3b94f09b06d2d8252d5ffcc": {
      "model_module": "@jupyter-widgets/controls",
      "model_module_version": "1.5.0",
      "model_name": "HTMLModel",
      "state": {
       "_dom_classes": [],
       "_model_module": "@jupyter-widgets/controls",
       "_model_module_version": "1.5.0",
       "_model_name": "HTMLModel",
       "_view_count": null,
       "_view_module": "@jupyter-widgets/controls",
       "_view_module_version": "1.5.0",
       "_view_name": "HTMLView",
       "description": "",
       "description_tooltip": null,
       "layout": "IPY_MODEL_a6b740ee38fd452d8f45639f3fbb51b1",
       "placeholder": "​",
       "style": "IPY_MODEL_0e3bdc7224ba41b0a65c9515523c6a09",
       "value": "merges.txt: 100%"
      }
     },
     "0e3bdc7224ba41b0a65c9515523c6a09": {
      "model_module": "@jupyter-widgets/controls",
      "model_module_version": "1.5.0",
      "model_name": "DescriptionStyleModel",
      "state": {
       "_model_module": "@jupyter-widgets/controls",
       "_model_module_version": "1.5.0",
       "_model_name": "DescriptionStyleModel",
       "_view_count": null,
       "_view_module": "@jupyter-widgets/base",
       "_view_module_version": "1.2.0",
       "_view_name": "StyleView",
       "description_width": ""
      }
     },
     "0e6d49485ae1439da9ddf2562f52efa9": {
      "model_module": "@jupyter-widgets/controls",
      "model_module_version": "1.5.0",
      "model_name": "HBoxModel",
      "state": {
       "_dom_classes": [],
       "_model_module": "@jupyter-widgets/controls",
       "_model_module_version": "1.5.0",
       "_model_name": "HBoxModel",
       "_view_count": null,
       "_view_module": "@jupyter-widgets/controls",
       "_view_module_version": "1.5.0",
       "_view_name": "HBoxView",
       "box_style": "",
       "children": [
        "IPY_MODEL_b47c7d3297bc4af39cd93be3d8802fa8",
        "IPY_MODEL_e3acceabbbc1456dbb73d5d88bd0d9f2",
        "IPY_MODEL_c27fb32cf23043a386787d38e9d9e223"
       ],
       "layout": "IPY_MODEL_1624222df00d45a3b28a761bb2e3a379"
      }
     },
     "0f8032f84e954967b27f4a1cc5eb548f": {
      "model_module": "@jupyter-widgets/controls",
      "model_module_version": "1.5.0",
      "model_name": "FloatProgressModel",
      "state": {
       "_dom_classes": [],
       "_model_module": "@jupyter-widgets/controls",
       "_model_module_version": "1.5.0",
       "_model_name": "FloatProgressModel",
       "_view_count": null,
       "_view_module": "@jupyter-widgets/controls",
       "_view_module_version": "1.5.0",
       "_view_name": "ProgressView",
       "bar_style": "success",
       "description": "",
       "description_tooltip": null,
       "layout": "IPY_MODEL_487c1f9ff2f04390b5ff9d483989447c",
       "max": 456318.0,
       "min": 0.0,
       "orientation": "horizontal",
       "style": "IPY_MODEL_e51a26018dd74b85bcaa98e592210631",
       "value": 456318.0
      }
     },
     "124c632cafe9448a9d4c1f633325017a": {
      "model_module": "@jupyter-widgets/controls",
      "model_module_version": "1.5.0",
      "model_name": "HBoxModel",
      "state": {
       "_dom_classes": [],
       "_model_module": "@jupyter-widgets/controls",
       "_model_module_version": "1.5.0",
       "_model_name": "HBoxModel",
       "_view_count": null,
       "_view_module": "@jupyter-widgets/controls",
       "_view_module_version": "1.5.0",
       "_view_name": "HBoxView",
       "box_style": "",
       "children": [
        "IPY_MODEL_eb4099b69547467ab44cf1d3b86b7d2a",
        "IPY_MODEL_c18e9a2d3d104ec881ebb7d55dcc8272",
        "IPY_MODEL_654ca54314484bc9948426589de69144"
       ],
       "layout": "IPY_MODEL_bcc8b76b6f95465c97aef418c02e5574"
      }
     },
     "13cf6e774fcd4a80b5ee6b3a4c4f6526": {
      "model_module": "@jupyter-widgets/controls",
      "model_module_version": "1.5.0",
      "model_name": "FloatProgressModel",
      "state": {
       "_dom_classes": [],
       "_model_module": "@jupyter-widgets/controls",
       "_model_module_version": "1.5.0",
       "_model_name": "FloatProgressModel",
       "_view_count": null,
       "_view_module": "@jupyter-widgets/controls",
       "_view_module_version": "1.5.0",
       "_view_name": "ProgressView",
       "bar_style": "success",
       "description": "",
       "description_tooltip": null,
       "layout": "IPY_MODEL_e8ecb51e472d4fea8713287ea7ba2cb8",
       "max": 1937.0,
       "min": 0.0,
       "orientation": "horizontal",
       "style": "IPY_MODEL_d935fb734fd74796b8078aae26f65b2c",
       "value": 1937.0
      }
     },
     "145a03670084449f9c49025b2171b1fb": {
      "model_module": "@jupyter-widgets/controls",
      "model_module_version": "1.5.0",
      "model_name": "ProgressStyleModel",
      "state": {
       "_model_module": "@jupyter-widgets/controls",
       "_model_module_version": "1.5.0",
       "_model_name": "ProgressStyleModel",
       "_view_count": null,
       "_view_module": "@jupyter-widgets/base",
       "_view_module_version": "1.2.0",
       "_view_name": "StyleView",
       "bar_color": null,
       "description_width": ""
      }
     },
     "1624222df00d45a3b28a761bb2e3a379": {
      "model_module": "@jupyter-widgets/base",
      "model_module_version": "1.2.0",
      "model_name": "LayoutModel",
      "state": {
       "_model_module": "@jupyter-widgets/base",
       "_model_module_version": "1.2.0",
       "_model_name": "LayoutModel",
       "_view_count": null,
       "_view_module": "@jupyter-widgets/base",
       "_view_module_version": "1.2.0",
       "_view_name": "LayoutView",
       "align_content": null,
       "align_items": null,
       "align_self": null,
       "border": null,
       "bottom": null,
       "display": null,
       "flex": null,
       "flex_flow": null,
       "grid_area": null,
       "grid_auto_columns": null,
       "grid_auto_flow": null,
       "grid_auto_rows": null,
       "grid_column": null,
       "grid_gap": null,
       "grid_row": null,
       "grid_template_areas": null,
       "grid_template_columns": null,
       "grid_template_rows": null,
       "height": null,
       "justify_content": null,
       "justify_items": null,
       "left": null,
       "margin": null,
       "max_height": null,
       "max_width": null,
       "min_height": null,
       "min_width": null,
       "object_fit": null,
       "object_position": null,
       "order": null,
       "overflow": null,
       "overflow_x": null,
       "overflow_y": null,
       "padding": null,
       "right": null,
       "top": null,
       "visibility": null,
       "width": null
      }
     },
     "17873db53bc7410599d2308226c05ac0": {
      "model_module": "@jupyter-widgets/controls",
      "model_module_version": "1.5.0",
      "model_name": "HTMLModel",
      "state": {
       "_dom_classes": [],
       "_model_module": "@jupyter-widgets/controls",
       "_model_module_version": "1.5.0",
       "_model_name": "HTMLModel",
       "_view_count": null,
       "_view_module": "@jupyter-widgets/controls",
       "_view_module_version": "1.5.0",
       "_view_name": "HTMLView",
       "description": "",
       "description_tooltip": null,
       "layout": "IPY_MODEL_457c701a48be4c8bb0e99c3ab605aa2f",
       "placeholder": "​",
       "style": "IPY_MODEL_6a7b1712703e4ea5b2a2541230386c05",
       "value": " 456k/456k [00:00&lt;00:00, 2.80MB/s]"
      }
     },
     "18da79a31be84be5bc9f123ae1ee7d41": {
      "model_module": "@jupyter-widgets/base",
      "model_module_version": "1.2.0",
      "model_name": "LayoutModel",
      "state": {
       "_model_module": "@jupyter-widgets/base",
       "_model_module_version": "1.2.0",
       "_model_name": "LayoutModel",
       "_view_count": null,
       "_view_module": "@jupyter-widgets/base",
       "_view_module_version": "1.2.0",
       "_view_name": "LayoutView",
       "align_content": null,
       "align_items": null,
       "align_self": null,
       "border": null,
       "bottom": null,
       "display": null,
       "flex": null,
       "flex_flow": null,
       "grid_area": null,
       "grid_auto_columns": null,
       "grid_auto_flow": null,
       "grid_auto_rows": null,
       "grid_column": null,
       "grid_gap": null,
       "grid_row": null,
       "grid_template_areas": null,
       "grid_template_columns": null,
       "grid_template_rows": null,
       "height": null,
       "justify_content": null,
       "justify_items": null,
       "left": null,
       "margin": null,
       "max_height": null,
       "max_width": null,
       "min_height": null,
       "min_width": null,
       "object_fit": null,
       "object_position": null,
       "order": null,
       "overflow": null,
       "overflow_x": null,
       "overflow_y": null,
       "padding": null,
       "right": null,
       "top": null,
       "visibility": null,
       "width": null
      }
     },
     "196df1cf853c4a71a009e8a32cdfad51": {
      "model_module": "@jupyter-widgets/controls",
      "model_module_version": "1.5.0",
      "model_name": "DescriptionStyleModel",
      "state": {
       "_model_module": "@jupyter-widgets/controls",
       "_model_module_version": "1.5.0",
       "_model_name": "DescriptionStyleModel",
       "_view_count": null,
       "_view_module": "@jupyter-widgets/base",
       "_view_module_version": "1.2.0",
       "_view_name": "StyleView",
       "description_width": ""
      }
     },
     "1a193899c1784f07aaf591ed7135d5a4": {
      "model_module": "@jupyter-widgets/controls",
      "model_module_version": "1.5.0",
      "model_name": "ProgressStyleModel",
      "state": {
       "_model_module": "@jupyter-widgets/controls",
       "_model_module_version": "1.5.0",
       "_model_name": "ProgressStyleModel",
       "_view_count": null,
       "_view_module": "@jupyter-widgets/base",
       "_view_module_version": "1.2.0",
       "_view_name": "StyleView",
       "bar_color": null,
       "description_width": ""
      }
     },
     "1d93358e7c7e467296a43e51e216c4b6": {
      "model_module": "@jupyter-widgets/base",
      "model_module_version": "1.2.0",
      "model_name": "LayoutModel",
      "state": {
       "_model_module": "@jupyter-widgets/base",
       "_model_module_version": "1.2.0",
       "_model_name": "LayoutModel",
       "_view_count": null,
       "_view_module": "@jupyter-widgets/base",
       "_view_module_version": "1.2.0",
       "_view_name": "LayoutView",
       "align_content": null,
       "align_items": null,
       "align_self": null,
       "border": null,
       "bottom": null,
       "display": null,
       "flex": null,
       "flex_flow": null,
       "grid_area": null,
       "grid_auto_columns": null,
       "grid_auto_flow": null,
       "grid_auto_rows": null,
       "grid_column": null,
       "grid_gap": null,
       "grid_row": null,
       "grid_template_areas": null,
       "grid_template_columns": null,
       "grid_template_rows": null,
       "height": null,
       "justify_content": null,
       "justify_items": null,
       "left": null,
       "margin": null,
       "max_height": null,
       "max_width": null,
       "min_height": null,
       "min_width": null,
       "object_fit": null,
       "object_position": null,
       "order": null,
       "overflow": null,
       "overflow_x": null,
       "overflow_y": null,
       "padding": null,
       "right": null,
       "top": null,
       "visibility": null,
       "width": null
      }
     },
     "1eb4c047354f4e2ebb5c8b6c8077847a": {
      "model_module": "@jupyter-widgets/base",
      "model_module_version": "1.2.0",
      "model_name": "LayoutModel",
      "state": {
       "_model_module": "@jupyter-widgets/base",
       "_model_module_version": "1.2.0",
       "_model_name": "LayoutModel",
       "_view_count": null,
       "_view_module": "@jupyter-widgets/base",
       "_view_module_version": "1.2.0",
       "_view_name": "LayoutView",
       "align_content": null,
       "align_items": null,
       "align_self": null,
       "border": null,
       "bottom": null,
       "display": null,
       "flex": null,
       "flex_flow": null,
       "grid_area": null,
       "grid_auto_columns": null,
       "grid_auto_flow": null,
       "grid_auto_rows": null,
       "grid_column": null,
       "grid_gap": null,
       "grid_row": null,
       "grid_template_areas": null,
       "grid_template_columns": null,
       "grid_template_rows": null,
       "height": null,
       "justify_content": null,
       "justify_items": null,
       "left": null,
       "margin": null,
       "max_height": null,
       "max_width": null,
       "min_height": null,
       "min_width": null,
       "object_fit": null,
       "object_position": null,
       "order": null,
       "overflow": null,
       "overflow_x": null,
       "overflow_y": null,
       "padding": null,
       "right": null,
       "top": null,
       "visibility": null,
       "width": null
      }
     },
     "247bec3305464949a538fa9738eb3461": {
      "model_module": "@jupyter-widgets/base",
      "model_module_version": "1.2.0",
      "model_name": "LayoutModel",
      "state": {
       "_model_module": "@jupyter-widgets/base",
       "_model_module_version": "1.2.0",
       "_model_name": "LayoutModel",
       "_view_count": null,
       "_view_module": "@jupyter-widgets/base",
       "_view_module_version": "1.2.0",
       "_view_name": "LayoutView",
       "align_content": null,
       "align_items": null,
       "align_self": null,
       "border": null,
       "bottom": null,
       "display": null,
       "flex": null,
       "flex_flow": null,
       "grid_area": null,
       "grid_auto_columns": null,
       "grid_auto_flow": null,
       "grid_auto_rows": null,
       "grid_column": null,
       "grid_gap": null,
       "grid_row": null,
       "grid_template_areas": null,
       "grid_template_columns": null,
       "grid_template_rows": null,
       "height": null,
       "justify_content": null,
       "justify_items": null,
       "left": null,
       "margin": null,
       "max_height": null,
       "max_width": null,
       "min_height": null,
       "min_width": null,
       "object_fit": null,
       "object_position": null,
       "order": null,
       "overflow": null,
       "overflow_x": null,
       "overflow_y": null,
       "padding": null,
       "right": null,
       "top": null,
       "visibility": null,
       "width": null
      }
     },
     "254ac9edb51647bfb67be7cb31af2301": {
      "model_module": "@jupyter-widgets/controls",
      "model_module_version": "1.5.0",
      "model_name": "FloatProgressModel",
      "state": {
       "_dom_classes": [],
       "_model_module": "@jupyter-widgets/controls",
       "_model_module_version": "1.5.0",
       "_model_name": "FloatProgressModel",
       "_view_count": null,
       "_view_module": "@jupyter-widgets/controls",
       "_view_module_version": "1.5.0",
       "_view_name": "ProgressView",
       "bar_style": "success",
       "description": "",
       "description_tooltip": null,
       "layout": "IPY_MODEL_eddad335dcd745358f13664ab029f414",
       "max": 184990.0,
       "min": 0.0,
       "orientation": "horizontal",
       "style": "IPY_MODEL_08898e674bfa46d99439bf3ae48e93b0",
       "value": 184990.0
      }
     },
     "265fd7b9f40349caa8b9a1e43ed21c83": {
      "model_module": "@jupyter-widgets/controls",
      "model_module_version": "1.5.0",
      "model_name": "HTMLModel",
      "state": {
       "_dom_classes": [],
       "_model_module": "@jupyter-widgets/controls",
       "_model_module_version": "1.5.0",
       "_model_name": "HTMLModel",
       "_view_count": null,
       "_view_module": "@jupyter-widgets/controls",
       "_view_module_version": "1.5.0",
       "_view_name": "HTMLView",
       "description": "",
       "description_tooltip": null,
       "layout": "IPY_MODEL_64750102f64247a59f36cd3f9bacb182",
       "placeholder": "​",
       "style": "IPY_MODEL_b54955b363794b68ba326266dcec6e1b",
       "value": "generation_config.json: 100%"
      }
     },
     "28347d9337bd4ea6a38d8e77c717850b": {
      "model_module": "@jupyter-widgets/controls",
      "model_module_version": "1.5.0",
      "model_name": "HTMLModel",
      "state": {
       "_dom_classes": [],
       "_model_module": "@jupyter-widgets/controls",
       "_model_module_version": "1.5.0",
       "_model_name": "HTMLModel",
       "_view_count": null,
       "_view_module": "@jupyter-widgets/controls",
       "_view_module_version": "1.5.0",
       "_view_name": "HTMLView",
       "description": "",
       "description_tooltip": null,
       "layout": "IPY_MODEL_92423d31cb894d2699980b99e3ee5003",
       "placeholder": "​",
       "style": "IPY_MODEL_dd7fc90a045341b9ba9b7cf2a6491cee",
       "value": "config.json: 100%"
      }
     },
     "286df0b8e23846dbb3c33be7e8d538c0": {
      "model_module": "@jupyter-widgets/base",
      "model_module_version": "1.2.0",
      "model_name": "LayoutModel",
      "state": {
       "_model_module": "@jupyter-widgets/base",
       "_model_module_version": "1.2.0",
       "_model_name": "LayoutModel",
       "_view_count": null,
       "_view_module": "@jupyter-widgets/base",
       "_view_module_version": "1.2.0",
       "_view_name": "LayoutView",
       "align_content": null,
       "align_items": null,
       "align_self": null,
       "border": null,
       "bottom": null,
       "display": null,
       "flex": null,
       "flex_flow": null,
       "grid_area": null,
       "grid_auto_columns": null,
       "grid_auto_flow": null,
       "grid_auto_rows": null,
       "grid_column": null,
       "grid_gap": null,
       "grid_row": null,
       "grid_template_areas": null,
       "grid_template_columns": null,
       "grid_template_rows": null,
       "height": null,
       "justify_content": null,
       "justify_items": null,
       "left": null,
       "margin": null,
       "max_height": null,
       "max_width": null,
       "min_height": null,
       "min_width": null,
       "object_fit": null,
       "object_position": null,
       "order": null,
       "overflow": null,
       "overflow_x": null,
       "overflow_y": null,
       "padding": null,
       "right": null,
       "top": null,
       "visibility": null,
       "width": null
      }
     },
     "29f4c9d161794057a67c70dd04c111dc": {
      "model_module": "@jupyter-widgets/base",
      "model_module_version": "1.2.0",
      "model_name": "LayoutModel",
      "state": {
       "_model_module": "@jupyter-widgets/base",
       "_model_module_version": "1.2.0",
       "_model_name": "LayoutModel",
       "_view_count": null,
       "_view_module": "@jupyter-widgets/base",
       "_view_module_version": "1.2.0",
       "_view_name": "LayoutView",
       "align_content": null,
       "align_items": null,
       "align_self": null,
       "border": null,
       "bottom": null,
       "display": null,
       "flex": null,
       "flex_flow": null,
       "grid_area": null,
       "grid_auto_columns": null,
       "grid_auto_flow": null,
       "grid_auto_rows": null,
       "grid_column": null,
       "grid_gap": null,
       "grid_row": null,
       "grid_template_areas": null,
       "grid_template_columns": null,
       "grid_template_rows": null,
       "height": null,
       "justify_content": null,
       "justify_items": null,
       "left": null,
       "margin": null,
       "max_height": null,
       "max_width": null,
       "min_height": null,
       "min_width": null,
       "object_fit": null,
       "object_position": null,
       "order": null,
       "overflow": null,
       "overflow_x": null,
       "overflow_y": null,
       "padding": null,
       "right": null,
       "top": null,
       "visibility": null,
       "width": null
      }
     },
     "3118ada8331840648d9a26a2d9f70dbe": {
      "model_module": "@jupyter-widgets/controls",
      "model_module_version": "1.5.0",
      "model_name": "FloatProgressModel",
      "state": {
       "_dom_classes": [],
       "_model_module": "@jupyter-widgets/controls",
       "_model_module_version": "1.5.0",
       "_model_name": "FloatProgressModel",
       "_view_count": null,
       "_view_module": "@jupyter-widgets/controls",
       "_view_module_version": "1.5.0",
       "_view_name": "ProgressView",
       "bar_style": "success",
       "description": "",
       "description_tooltip": null,
       "layout": "IPY_MODEL_18da79a31be84be5bc9f123ae1ee7d41",
       "max": 52666.0,
       "min": 0.0,
       "orientation": "horizontal",
       "style": "IPY_MODEL_145a03670084449f9c49025b2171b1fb",
       "value": 52666.0
      }
     },
     "3517225981a1480a8fdfa41faab7e93d": {
      "model_module": "@jupyter-widgets/controls",
      "model_module_version": "1.5.0",
      "model_name": "ProgressStyleModel",
      "state": {
       "_model_module": "@jupyter-widgets/controls",
       "_model_module_version": "1.5.0",
       "_model_name": "ProgressStyleModel",
       "_view_count": null,
       "_view_module": "@jupyter-widgets/base",
       "_view_module_version": "1.2.0",
       "_view_name": "StyleView",
       "bar_color": null,
       "description_width": ""
      }
     },
     "38c7c88819bc4ab094326be6dd04e75f": {
      "model_module": "@jupyter-widgets/base",
      "model_module_version": "1.2.0",
      "model_name": "LayoutModel",
      "state": {
       "_model_module": "@jupyter-widgets/base",
       "_model_module_version": "1.2.0",
       "_model_name": "LayoutModel",
       "_view_count": null,
       "_view_module": "@jupyter-widgets/base",
       "_view_module_version": "1.2.0",
       "_view_name": "LayoutView",
       "align_content": null,
       "align_items": null,
       "align_self": null,
       "border": null,
       "bottom": null,
       "display": null,
       "flex": null,
       "flex_flow": null,
       "grid_area": null,
       "grid_auto_columns": null,
       "grid_auto_flow": null,
       "grid_auto_rows": null,
       "grid_column": null,
       "grid_gap": null,
       "grid_row": null,
       "grid_template_areas": null,
       "grid_template_columns": null,
       "grid_template_rows": null,
       "height": null,
       "justify_content": null,
       "justify_items": null,
       "left": null,
       "margin": null,
       "max_height": null,
       "max_width": null,
       "min_height": null,
       "min_width": null,
       "object_fit": null,
       "object_position": null,
       "order": null,
       "overflow": null,
       "overflow_x": null,
       "overflow_y": null,
       "padding": null,
       "right": null,
       "top": null,
       "visibility": null,
       "width": null
      }
     },
     "3c2609bf90f54f6b8b763a22782a25bd": {
      "model_module": "@jupyter-widgets/controls",
      "model_module_version": "1.5.0",
      "model_name": "HBoxModel",
      "state": {
       "_dom_classes": [],
       "_model_module": "@jupyter-widgets/controls",
       "_model_module_version": "1.5.0",
       "_model_name": "HBoxModel",
       "_view_count": null,
       "_view_module": "@jupyter-widgets/controls",
       "_view_module_version": "1.5.0",
       "_view_name": "HBoxView",
       "box_style": "",
       "children": [
        "IPY_MODEL_475b9308700949968d591e97f6c812c9",
        "IPY_MODEL_c5a91a4398f741aa95a7c039ef12562c",
        "IPY_MODEL_948087cc7f224360b2e9ffb9281124af"
       ],
       "layout": "IPY_MODEL_892781cee18249a3960ebe82de553501"
      }
     },
     "40538cadcb724414af2cad5c2fc9a312": {
      "model_module": "@jupyter-widgets/controls",
      "model_module_version": "1.5.0",
      "model_name": "HTMLModel",
      "state": {
       "_dom_classes": [],
       "_model_module": "@jupyter-widgets/controls",
       "_model_module_version": "1.5.0",
       "_model_name": "HTMLModel",
       "_view_count": null,
       "_view_module": "@jupyter-widgets/controls",
       "_view_module_version": "1.5.0",
       "_view_name": "HTMLView",
       "description": "",
       "description_tooltip": null,
       "layout": "IPY_MODEL_a81af30b125646c98993ab193924148a",
       "placeholder": "​",
       "style": "IPY_MODEL_7ccf9ca98ce34d5497c2c8cd1ec80644",
       "value": "tokenizer_config.json: 100%"
      }
     },
     "446e637ed05c424188630eb9e000c8fa": {
      "model_module": "@jupyter-widgets/controls",
      "model_module_version": "1.5.0",
      "model_name": "ProgressStyleModel",
      "state": {
       "_model_module": "@jupyter-widgets/controls",
       "_model_module_version": "1.5.0",
       "_model_name": "ProgressStyleModel",
       "_view_count": null,
       "_view_module": "@jupyter-widgets/base",
       "_view_module_version": "1.2.0",
       "_view_name": "StyleView",
       "bar_color": null,
       "description_width": ""
      }
     },
     "457c701a48be4c8bb0e99c3ab605aa2f": {
      "model_module": "@jupyter-widgets/base",
      "model_module_version": "1.2.0",
      "model_name": "LayoutModel",
      "state": {
       "_model_module": "@jupyter-widgets/base",
       "_model_module_version": "1.2.0",
       "_model_name": "LayoutModel",
       "_view_count": null,
       "_view_module": "@jupyter-widgets/base",
       "_view_module_version": "1.2.0",
       "_view_name": "LayoutView",
       "align_content": null,
       "align_items": null,
       "align_self": null,
       "border": null,
       "bottom": null,
       "display": null,
       "flex": null,
       "flex_flow": null,
       "grid_area": null,
       "grid_auto_columns": null,
       "grid_auto_flow": null,
       "grid_auto_rows": null,
       "grid_column": null,
       "grid_gap": null,
       "grid_row": null,
       "grid_template_areas": null,
       "grid_template_columns": null,
       "grid_template_rows": null,
       "height": null,
       "justify_content": null,
       "justify_items": null,
       "left": null,
       "margin": null,
       "max_height": null,
       "max_width": null,
       "min_height": null,
       "min_width": null,
       "object_fit": null,
       "object_position": null,
       "order": null,
       "overflow": null,
       "overflow_x": null,
       "overflow_y": null,
       "padding": null,
       "right": null,
       "top": null,
       "visibility": null,
       "width": null
      }
     },
     "46a0a9d4e1f444bdabca2ae0f226db36": {
      "model_module": "@jupyter-widgets/base",
      "model_module_version": "1.2.0",
      "model_name": "LayoutModel",
      "state": {
       "_model_module": "@jupyter-widgets/base",
       "_model_module_version": "1.2.0",
       "_model_name": "LayoutModel",
       "_view_count": null,
       "_view_module": "@jupyter-widgets/base",
       "_view_module_version": "1.2.0",
       "_view_name": "LayoutView",
       "align_content": null,
       "align_items": null,
       "align_self": null,
       "border": null,
       "bottom": null,
       "display": null,
       "flex": null,
       "flex_flow": null,
       "grid_area": null,
       "grid_auto_columns": null,
       "grid_auto_flow": null,
       "grid_auto_rows": null,
       "grid_column": null,
       "grid_gap": null,
       "grid_row": null,
       "grid_template_areas": null,
       "grid_template_columns": null,
       "grid_template_rows": null,
       "height": null,
       "justify_content": null,
       "justify_items": null,
       "left": null,
       "margin": null,
       "max_height": null,
       "max_width": null,
       "min_height": null,
       "min_width": null,
       "object_fit": null,
       "object_position": null,
       "order": null,
       "overflow": null,
       "overflow_x": null,
       "overflow_y": null,
       "padding": null,
       "right": null,
       "top": null,
       "visibility": null,
       "width": null
      }
     },
     "475b9308700949968d591e97f6c812c9": {
      "model_module": "@jupyter-widgets/controls",
      "model_module_version": "1.5.0",
      "model_name": "HTMLModel",
      "state": {
       "_dom_classes": [],
       "_model_module": "@jupyter-widgets/controls",
       "_model_module_version": "1.5.0",
       "_model_name": "HTMLModel",
       "_view_count": null,
       "_view_module": "@jupyter-widgets/controls",
       "_view_module_version": "1.5.0",
       "_view_name": "HTMLView",
       "description": "",
       "description_tooltip": null,
       "layout": "IPY_MODEL_c75789b8e6c1488c93ee976c30a4e8f8",
       "placeholder": "​",
       "style": "IPY_MODEL_aa0deba5d5ed4d59b18f03f86b8ae46f",
       "value": "model.safetensors: 100%"
      }
     },
     "487c1f9ff2f04390b5ff9d483989447c": {
      "model_module": "@jupyter-widgets/base",
      "model_module_version": "1.2.0",
      "model_name": "LayoutModel",
      "state": {
       "_model_module": "@jupyter-widgets/base",
       "_model_module_version": "1.2.0",
       "_model_name": "LayoutModel",
       "_view_count": null,
       "_view_module": "@jupyter-widgets/base",
       "_view_module_version": "1.2.0",
       "_view_name": "LayoutView",
       "align_content": null,
       "align_items": null,
       "align_self": null,
       "border": null,
       "bottom": null,
       "display": null,
       "flex": null,
       "flex_flow": null,
       "grid_area": null,
       "grid_auto_columns": null,
       "grid_auto_flow": null,
       "grid_auto_rows": null,
       "grid_column": null,
       "grid_gap": null,
       "grid_row": null,
       "grid_template_areas": null,
       "grid_template_columns": null,
       "grid_template_rows": null,
       "height": null,
       "justify_content": null,
       "justify_items": null,
       "left": null,
       "margin": null,
       "max_height": null,
       "max_width": null,
       "min_height": null,
       "min_width": null,
       "object_fit": null,
       "object_position": null,
       "order": null,
       "overflow": null,
       "overflow_x": null,
       "overflow_y": null,
       "padding": null,
       "right": null,
       "top": null,
       "visibility": null,
       "width": null
      }
     },
     "4a2fbc7918804d17a6f651d8f4110324": {
      "model_module": "@jupyter-widgets/controls",
      "model_module_version": "1.5.0",
      "model_name": "HTMLModel",
      "state": {
       "_dom_classes": [],
       "_model_module": "@jupyter-widgets/controls",
       "_model_module_version": "1.5.0",
       "_model_name": "HTMLModel",
       "_view_count": null,
       "_view_module": "@jupyter-widgets/controls",
       "_view_module_version": "1.5.0",
       "_view_name": "HTMLView",
       "description": "",
       "description_tooltip": null,
       "layout": "IPY_MODEL_c040764ac245499faeff6fd78863c823",
       "placeholder": "​",
       "style": "IPY_MODEL_78e381489b50400ba08d459316c9c533",
       "value": "vocab.json: 100%"
      }
     },
     "4af6d8b4c0e746469268ad1290745dad": {
      "model_module": "@jupyter-widgets/controls",
      "model_module_version": "1.5.0",
      "model_name": "FloatProgressModel",
      "state": {
       "_dom_classes": [],
       "_model_module": "@jupyter-widgets/controls",
       "_model_module_version": "1.5.0",
       "_model_name": "FloatProgressModel",
       "_view_count": null,
       "_view_module": "@jupyter-widgets/controls",
       "_view_module_version": "1.5.0",
       "_view_name": "ProgressView",
       "bar_style": "success",
       "description": "",
       "description_tooltip": null,
       "layout": "IPY_MODEL_0142413c853d4285a09fd51d2129dfbc",
       "max": 805.0,
       "min": 0.0,
       "orientation": "horizontal",
       "style": "IPY_MODEL_1a193899c1784f07aaf591ed7135d5a4",
       "value": 805.0
      }
     },
     "4c93261527e84749b79b5a6bc55cc186": {
      "model_module": "@jupyter-widgets/base",
      "model_module_version": "1.2.0",
      "model_name": "LayoutModel",
      "state": {
       "_model_module": "@jupyter-widgets/base",
       "_model_module_version": "1.2.0",
       "_model_name": "LayoutModel",
       "_view_count": null,
       "_view_module": "@jupyter-widgets/base",
       "_view_module_version": "1.2.0",
       "_view_name": "LayoutView",
       "align_content": null,
       "align_items": null,
       "align_self": null,
       "border": null,
       "bottom": null,
       "display": null,
       "flex": null,
       "flex_flow": null,
       "grid_area": null,
       "grid_auto_columns": null,
       "grid_auto_flow": null,
       "grid_auto_rows": null,
       "grid_column": null,
       "grid_gap": null,
       "grid_row": null,
       "grid_template_areas": null,
       "grid_template_columns": null,
       "grid_template_rows": null,
       "height": null,
       "justify_content": null,
       "justify_items": null,
       "left": null,
       "margin": null,
       "max_height": null,
       "max_width": null,
       "min_height": null,
       "min_width": null,
       "object_fit": null,
       "object_position": null,
       "order": null,
       "overflow": null,
       "overflow_x": null,
       "overflow_y": null,
       "padding": null,
       "right": null,
       "top": null,
       "visibility": null,
       "width": null
      }
     },
     "4dcc5cde78cf451192ff74908af710dc": {
      "model_module": "@jupyter-widgets/controls",
      "model_module_version": "1.5.0",
      "model_name": "DescriptionStyleModel",
      "state": {
       "_model_module": "@jupyter-widgets/controls",
       "_model_module_version": "1.5.0",
       "_model_name": "DescriptionStyleModel",
       "_view_count": null,
       "_view_module": "@jupyter-widgets/base",
       "_view_module_version": "1.2.0",
       "_view_name": "StyleView",
       "description_width": ""
      }
     },
     "4de7eea9caa1425e9b1a3e6bc79e61b1": {
      "model_module": "@jupyter-widgets/controls",
      "model_module_version": "1.5.0",
      "model_name": "HTMLModel",
      "state": {
       "_dom_classes": [],
       "_model_module": "@jupyter-widgets/controls",
       "_model_module_version": "1.5.0",
       "_model_name": "HTMLModel",
       "_view_count": null,
       "_view_module": "@jupyter-widgets/controls",
       "_view_module_version": "1.5.0",
       "_view_name": "HTMLView",
       "description": "",
       "description_tooltip": null,
       "layout": "IPY_MODEL_286df0b8e23846dbb3c33be7e8d538c0",
       "placeholder": "​",
       "style": "IPY_MODEL_ae4851b86e394cd281a4aa68b42802c0",
       "value": " 1.94k/1.94k [00:00&lt;00:00, 187kB/s]"
      }
     },
     "57a18934646342a781de507ff3138110": {
      "model_module": "@jupyter-widgets/controls",
      "model_module_version": "1.5.0",
      "model_name": "HBoxModel",
      "state": {
       "_dom_classes": [],
       "_model_module": "@jupyter-widgets/controls",
       "_model_module_version": "1.5.0",
       "_model_name": "HBoxModel",
       "_view_count": null,
       "_view_module": "@jupyter-widgets/controls",
       "_view_module_version": "1.5.0",
       "_view_name": "HBoxView",
       "box_style": "",
       "children": [
        "IPY_MODEL_40538cadcb724414af2cad5c2fc9a312",
        "IPY_MODEL_4af6d8b4c0e746469268ad1290745dad",
        "IPY_MODEL_6ef11c8a36eb446c9b55744c8001f56a"
       ],
       "layout": "IPY_MODEL_9f02c773522b4c9e9d4daca7f3b72c08"
      }
     },
     "5b234b67743c4e5d87274748bca4dab1": {
      "model_module": "@jupyter-widgets/base",
      "model_module_version": "1.2.0",
      "model_name": "LayoutModel",
      "state": {
       "_model_module": "@jupyter-widgets/base",
       "_model_module_version": "1.2.0",
       "_model_name": "LayoutModel",
       "_view_count": null,
       "_view_module": "@jupyter-widgets/base",
       "_view_module_version": "1.2.0",
       "_view_name": "LayoutView",
       "align_content": null,
       "align_items": null,
       "align_self": null,
       "border": null,
       "bottom": null,
       "display": null,
       "flex": null,
       "flex_flow": null,
       "grid_area": null,
       "grid_auto_columns": null,
       "grid_auto_flow": null,
       "grid_auto_rows": null,
       "grid_column": null,
       "grid_gap": null,
       "grid_row": null,
       "grid_template_areas": null,
       "grid_template_columns": null,
       "grid_template_rows": null,
       "height": null,
       "justify_content": null,
       "justify_items": null,
       "left": null,
       "margin": null,
       "max_height": null,
       "max_width": null,
       "min_height": null,
       "min_width": null,
       "object_fit": null,
       "object_position": null,
       "order": null,
       "overflow": null,
       "overflow_x": null,
       "overflow_y": null,
       "padding": null,
       "right": null,
       "top": null,
       "visibility": null,
       "width": null
      }
     },
     "617478d6ad244d9baa6a598bec805fdc": {
      "model_module": "@jupyter-widgets/controls",
      "model_module_version": "1.5.0",
      "model_name": "DescriptionStyleModel",
      "state": {
       "_model_module": "@jupyter-widgets/controls",
       "_model_module_version": "1.5.0",
       "_model_name": "DescriptionStyleModel",
       "_view_count": null,
       "_view_module": "@jupyter-widgets/base",
       "_view_module_version": "1.2.0",
       "_view_name": "StyleView",
       "description_width": ""
      }
     },
     "61b6eba7d1674906bd47089087e22ec6": {
      "model_module": "@jupyter-widgets/controls",
      "model_module_version": "1.5.0",
      "model_name": "HBoxModel",
      "state": {
       "_dom_classes": [],
       "_model_module": "@jupyter-widgets/controls",
       "_model_module_version": "1.5.0",
       "_model_name": "HBoxModel",
       "_view_count": null,
       "_view_module": "@jupyter-widgets/controls",
       "_view_module_version": "1.5.0",
       "_view_name": "HBoxView",
       "box_style": "",
       "children": [
        "IPY_MODEL_eebba242a3dc4a41b74db0095bebde00",
        "IPY_MODEL_3118ada8331840648d9a26a2d9f70dbe",
        "IPY_MODEL_0039a4a238d94bf590f13bbd40dc2751"
       ],
       "layout": "IPY_MODEL_eda8e8d716164655bc08a07fa9222b7a"
      }
     },
     "6382d4b1b01d4ae082330ecc98d9cbd3": {
      "model_module": "@jupyter-widgets/base",
      "model_module_version": "1.2.0",
      "model_name": "LayoutModel",
      "state": {
       "_model_module": "@jupyter-widgets/base",
       "_model_module_version": "1.2.0",
       "_model_name": "LayoutModel",
       "_view_count": null,
       "_view_module": "@jupyter-widgets/base",
       "_view_module_version": "1.2.0",
       "_view_name": "LayoutView",
       "align_content": null,
       "align_items": null,
       "align_self": null,
       "border": null,
       "bottom": null,
       "display": null,
       "flex": null,
       "flex_flow": null,
       "grid_area": null,
       "grid_auto_columns": null,
       "grid_auto_flow": null,
       "grid_auto_rows": null,
       "grid_column": null,
       "grid_gap": null,
       "grid_row": null,
       "grid_template_areas": null,
       "grid_template_columns": null,
       "grid_template_rows": null,
       "height": null,
       "justify_content": null,
       "justify_items": null,
       "left": null,
       "margin": null,
       "max_height": null,
       "max_width": null,
       "min_height": null,
       "min_width": null,
       "object_fit": null,
       "object_position": null,
       "order": null,
       "overflow": null,
       "overflow_x": null,
       "overflow_y": null,
       "padding": null,
       "right": null,
       "top": null,
       "visibility": null,
       "width": null
      }
     },
     "638f9520af2a4b1c9c61b4fca6a24fd0": {
      "model_module": "@jupyter-widgets/controls",
      "model_module_version": "1.5.0",
      "model_name": "HTMLModel",
      "state": {
       "_dom_classes": [],
       "_model_module": "@jupyter-widgets/controls",
       "_model_module_version": "1.5.0",
       "_model_name": "HTMLModel",
       "_view_count": null,
       "_view_module": "@jupyter-widgets/controls",
       "_view_module_version": "1.5.0",
       "_view_name": "HTMLView",
       "description": "",
       "description_tooltip": null,
       "layout": "IPY_MODEL_89c2916f587b4918801b1702db8dad4e",
       "placeholder": "​",
       "style": "IPY_MODEL_a8e7ec1e3438476db638117d4947e353",
       "value": " 798k/798k [00:00&lt;00:00, 3.31MB/s]"
      }
     },
     "64750102f64247a59f36cd3f9bacb182": {
      "model_module": "@jupyter-widgets/base",
      "model_module_version": "1.2.0",
      "model_name": "LayoutModel",
      "state": {
       "_model_module": "@jupyter-widgets/base",
       "_model_module_version": "1.2.0",
       "_model_name": "LayoutModel",
       "_view_count": null,
       "_view_module": "@jupyter-widgets/base",
       "_view_module_version": "1.2.0",
       "_view_name": "LayoutView",
       "align_content": null,
       "align_items": null,
       "align_self": null,
       "border": null,
       "bottom": null,
       "display": null,
       "flex": null,
       "flex_flow": null,
       "grid_area": null,
       "grid_auto_columns": null,
       "grid_auto_flow": null,
       "grid_auto_rows": null,
       "grid_column": null,
       "grid_gap": null,
       "grid_row": null,
       "grid_template_areas": null,
       "grid_template_columns": null,
       "grid_template_rows": null,
       "height": null,
       "justify_content": null,
       "justify_items": null,
       "left": null,
       "margin": null,
       "max_height": null,
       "max_width": null,
       "min_height": null,
       "min_width": null,
       "object_fit": null,
       "object_position": null,
       "order": null,
       "overflow": null,
       "overflow_x": null,
       "overflow_y": null,
       "padding": null,
       "right": null,
       "top": null,
       "visibility": null,
       "width": null
      }
     },
     "64a0c8d84bb34dad9595b911b5a7afee": {
      "model_module": "@jupyter-widgets/controls",
      "model_module_version": "1.5.0",
      "model_name": "DescriptionStyleModel",
      "state": {
       "_model_module": "@jupyter-widgets/controls",
       "_model_module_version": "1.5.0",
       "_model_name": "DescriptionStyleModel",
       "_view_count": null,
       "_view_module": "@jupyter-widgets/base",
       "_view_module_version": "1.2.0",
       "_view_name": "StyleView",
       "description_width": ""
      }
     },
     "654ca54314484bc9948426589de69144": {
      "model_module": "@jupyter-widgets/controls",
      "model_module_version": "1.5.0",
      "model_name": "HTMLModel",
      "state": {
       "_dom_classes": [],
       "_model_module": "@jupyter-widgets/controls",
       "_model_module_version": "1.5.0",
       "_model_name": "HTMLModel",
       "_view_count": null,
       "_view_module": "@jupyter-widgets/controls",
       "_view_module_version": "1.5.0",
       "_view_name": "HTMLView",
       "description": "",
       "description_tooltip": null,
       "layout": "IPY_MODEL_38c7c88819bc4ab094326be6dd04e75f",
       "placeholder": "​",
       "style": "IPY_MODEL_fd28bf7990e74384926ecd69ef3b82ee",
       "value": " 1.83k/1.83k [00:00&lt;00:00, 184kB/s]"
      }
     },
     "6a7b1712703e4ea5b2a2541230386c05": {
      "model_module": "@jupyter-widgets/controls",
      "model_module_version": "1.5.0",
      "model_name": "DescriptionStyleModel",
      "state": {
       "_model_module": "@jupyter-widgets/controls",
       "_model_module_version": "1.5.0",
       "_model_name": "DescriptionStyleModel",
       "_view_count": null,
       "_view_module": "@jupyter-widgets/base",
       "_view_module_version": "1.2.0",
       "_view_name": "StyleView",
       "description_width": ""
      }
     },
     "6acd108794174d35941f653e803f4bd0": {
      "model_module": "@jupyter-widgets/controls",
      "model_module_version": "1.5.0",
      "model_name": "ProgressStyleModel",
      "state": {
       "_model_module": "@jupyter-widgets/controls",
       "_model_module_version": "1.5.0",
       "_model_name": "ProgressStyleModel",
       "_view_count": null,
       "_view_module": "@jupyter-widgets/base",
       "_view_module_version": "1.2.0",
       "_view_name": "StyleView",
       "bar_color": null,
       "description_width": ""
      }
     },
     "6ef11c8a36eb446c9b55744c8001f56a": {
      "model_module": "@jupyter-widgets/controls",
      "model_module_version": "1.5.0",
      "model_name": "HTMLModel",
      "state": {
       "_dom_classes": [],
       "_model_module": "@jupyter-widgets/controls",
       "_model_module_version": "1.5.0",
       "_model_name": "HTMLModel",
       "_view_count": null,
       "_view_module": "@jupyter-widgets/controls",
       "_view_module_version": "1.5.0",
       "_view_name": "HTMLView",
       "description": "",
       "description_tooltip": null,
       "layout": "IPY_MODEL_76c1965c48ba417db4b64dddc774a5d0",
       "placeholder": "​",
       "style": "IPY_MODEL_9eba8b871d30420f9e4617832b911201",
       "value": " 805/805 [00:00&lt;00:00, 76.7kB/s]"
      }
     },
     "6fea66bb80b64c569fdd13ec9faa745a": {
      "model_module": "@jupyter-widgets/base",
      "model_module_version": "1.2.0",
      "model_name": "LayoutModel",
      "state": {
       "_model_module": "@jupyter-widgets/base",
       "_model_module_version": "1.2.0",
       "_model_name": "LayoutModel",
       "_view_count": null,
       "_view_module": "@jupyter-widgets/base",
       "_view_module_version": "1.2.0",
       "_view_name": "LayoutView",
       "align_content": null,
       "align_items": null,
       "align_self": null,
       "border": null,
       "bottom": null,
       "display": null,
       "flex": null,
       "flex_flow": null,
       "grid_area": null,
       "grid_auto_columns": null,
       "grid_auto_flow": null,
       "grid_auto_rows": null,
       "grid_column": null,
       "grid_gap": null,
       "grid_row": null,
       "grid_template_areas": null,
       "grid_template_columns": null,
       "grid_template_rows": null,
       "height": null,
       "justify_content": null,
       "justify_items": null,
       "left": null,
       "margin": null,
       "max_height": null,
       "max_width": null,
       "min_height": null,
       "min_width": null,
       "object_fit": null,
       "object_position": null,
       "order": null,
       "overflow": null,
       "overflow_x": null,
       "overflow_y": null,
       "padding": null,
       "right": null,
       "top": null,
       "visibility": null,
       "width": null
      }
     },
     "7015684c4118493a9a79fd3cde5881e0": {
      "model_module": "@jupyter-widgets/controls",
      "model_module_version": "1.5.0",
      "model_name": "ProgressStyleModel",
      "state": {
       "_model_module": "@jupyter-widgets/controls",
       "_model_module_version": "1.5.0",
       "_model_name": "ProgressStyleModel",
       "_view_count": null,
       "_view_module": "@jupyter-widgets/base",
       "_view_module_version": "1.2.0",
       "_view_name": "StyleView",
       "bar_color": null,
       "description_width": ""
      }
     },
     "74cc8ecd0f4145e78746215a6e9c643b": {
      "model_module": "@jupyter-widgets/base",
      "model_module_version": "1.2.0",
      "model_name": "LayoutModel",
      "state": {
       "_model_module": "@jupyter-widgets/base",
       "_model_module_version": "1.2.0",
       "_model_name": "LayoutModel",
       "_view_count": null,
       "_view_module": "@jupyter-widgets/base",
       "_view_module_version": "1.2.0",
       "_view_name": "LayoutView",
       "align_content": null,
       "align_items": null,
       "align_self": null,
       "border": null,
       "bottom": null,
       "display": null,
       "flex": null,
       "flex_flow": null,
       "grid_area": null,
       "grid_auto_columns": null,
       "grid_auto_flow": null,
       "grid_auto_rows": null,
       "grid_column": null,
       "grid_gap": null,
       "grid_row": null,
       "grid_template_areas": null,
       "grid_template_columns": null,
       "grid_template_rows": null,
       "height": null,
       "justify_content": null,
       "justify_items": null,
       "left": null,
       "margin": null,
       "max_height": null,
       "max_width": null,
       "min_height": null,
       "min_width": null,
       "object_fit": null,
       "object_position": null,
       "order": null,
       "overflow": null,
       "overflow_x": null,
       "overflow_y": null,
       "padding": null,
       "right": null,
       "top": null,
       "visibility": null,
       "width": null
      }
     },
     "76144515a00240dba66b8f65b5173e5e": {
      "model_module": "@jupyter-widgets/controls",
      "model_module_version": "1.5.0",
      "model_name": "HBoxModel",
      "state": {
       "_dom_classes": [],
       "_model_module": "@jupyter-widgets/controls",
       "_model_module_version": "1.5.0",
       "_model_name": "HBoxModel",
       "_view_count": null,
       "_view_module": "@jupyter-widgets/controls",
       "_view_module_version": "1.5.0",
       "_view_name": "HBoxView",
       "box_style": "",
       "children": [
        "IPY_MODEL_265fd7b9f40349caa8b9a1e43ed21c83",
        "IPY_MODEL_d41ae591924a47f48d74d146ab9293a0",
        "IPY_MODEL_8bab1d770e4e4c94b50ca1d946217c21"
       ],
       "layout": "IPY_MODEL_c1539893fce3411a90ac3c353bb6b00c"
      }
     },
     "76c1965c48ba417db4b64dddc774a5d0": {
      "model_module": "@jupyter-widgets/base",
      "model_module_version": "1.2.0",
      "model_name": "LayoutModel",
      "state": {
       "_model_module": "@jupyter-widgets/base",
       "_model_module_version": "1.2.0",
       "_model_name": "LayoutModel",
       "_view_count": null,
       "_view_module": "@jupyter-widgets/base",
       "_view_module_version": "1.2.0",
       "_view_name": "LayoutView",
       "align_content": null,
       "align_items": null,
       "align_self": null,
       "border": null,
       "bottom": null,
       "display": null,
       "flex": null,
       "flex_flow": null,
       "grid_area": null,
       "grid_auto_columns": null,
       "grid_auto_flow": null,
       "grid_auto_rows": null,
       "grid_column": null,
       "grid_gap": null,
       "grid_row": null,
       "grid_template_areas": null,
       "grid_template_columns": null,
       "grid_template_rows": null,
       "height": null,
       "justify_content": null,
       "justify_items": null,
       "left": null,
       "margin": null,
       "max_height": null,
       "max_width": null,
       "min_height": null,
       "min_width": null,
       "object_fit": null,
       "object_position": null,
       "order": null,
       "overflow": null,
       "overflow_x": null,
       "overflow_y": null,
       "padding": null,
       "right": null,
       "top": null,
       "visibility": null,
       "width": null
      }
     },
     "78e381489b50400ba08d459316c9c533": {
      "model_module": "@jupyter-widgets/controls",
      "model_module_version": "1.5.0",
      "model_name": "DescriptionStyleModel",
      "state": {
       "_model_module": "@jupyter-widgets/controls",
       "_model_module_version": "1.5.0",
       "_model_name": "DescriptionStyleModel",
       "_view_count": null,
       "_view_module": "@jupyter-widgets/base",
       "_view_module_version": "1.2.0",
       "_view_name": "StyleView",
       "description_width": ""
      }
     },
     "7ccf9ca98ce34d5497c2c8cd1ec80644": {
      "model_module": "@jupyter-widgets/controls",
      "model_module_version": "1.5.0",
      "model_name": "DescriptionStyleModel",
      "state": {
       "_model_module": "@jupyter-widgets/controls",
       "_model_module_version": "1.5.0",
       "_model_name": "DescriptionStyleModel",
       "_view_count": null,
       "_view_module": "@jupyter-widgets/base",
       "_view_module_version": "1.2.0",
       "_view_name": "StyleView",
       "description_width": ""
      }
     },
     "7f2c610f5dfb4d85b4fb8bdba72157c7": {
      "model_module": "@jupyter-widgets/base",
      "model_module_version": "1.2.0",
      "model_name": "LayoutModel",
      "state": {
       "_model_module": "@jupyter-widgets/base",
       "_model_module_version": "1.2.0",
       "_model_name": "LayoutModel",
       "_view_count": null,
       "_view_module": "@jupyter-widgets/base",
       "_view_module_version": "1.2.0",
       "_view_name": "LayoutView",
       "align_content": null,
       "align_items": null,
       "align_self": null,
       "border": null,
       "bottom": null,
       "display": null,
       "flex": null,
       "flex_flow": null,
       "grid_area": null,
       "grid_auto_columns": null,
       "grid_auto_flow": null,
       "grid_auto_rows": null,
       "grid_column": null,
       "grid_gap": null,
       "grid_row": null,
       "grid_template_areas": null,
       "grid_template_columns": null,
       "grid_template_rows": null,
       "height": null,
       "justify_content": null,
       "justify_items": null,
       "left": null,
       "margin": null,
       "max_height": null,
       "max_width": null,
       "min_height": null,
       "min_width": null,
       "object_fit": null,
       "object_position": null,
       "order": null,
       "overflow": null,
       "overflow_x": null,
       "overflow_y": null,
       "padding": null,
       "right": null,
       "top": null,
       "visibility": null,
       "width": null
      }
     },
     "800fbe259afa4d5bb3c0e81815f07f21": {
      "model_module": "@jupyter-widgets/controls",
      "model_module_version": "1.5.0",
      "model_name": "HBoxModel",
      "state": {
       "_dom_classes": [],
       "_model_module": "@jupyter-widgets/controls",
       "_model_module_version": "1.5.0",
       "_model_name": "HBoxModel",
       "_view_count": null,
       "_view_module": "@jupyter-widgets/controls",
       "_view_module_version": "1.5.0",
       "_view_name": "HBoxView",
       "box_style": "",
       "children": [
        "IPY_MODEL_955274f6644f42528d8f3c7c7e239df4",
        "IPY_MODEL_254ac9edb51647bfb67be7cb31af2301",
        "IPY_MODEL_ac71d1c05d344335bc31539ceb9858e0"
       ],
       "layout": "IPY_MODEL_a41b6abdc0ce4e70a9cb3863d3623644"
      }
     },
     "82ab6a9513a14edaad70895f225b9c01": {
      "model_module": "@jupyter-widgets/controls",
      "model_module_version": "1.5.0",
      "model_name": "DescriptionStyleModel",
      "state": {
       "_model_module": "@jupyter-widgets/controls",
       "_model_module_version": "1.5.0",
       "_model_name": "DescriptionStyleModel",
       "_view_count": null,
       "_view_module": "@jupyter-widgets/base",
       "_view_module_version": "1.2.0",
       "_view_name": "StyleView",
       "description_width": ""
      }
     },
     "892781cee18249a3960ebe82de553501": {
      "model_module": "@jupyter-widgets/base",
      "model_module_version": "1.2.0",
      "model_name": "LayoutModel",
      "state": {
       "_model_module": "@jupyter-widgets/base",
       "_model_module_version": "1.2.0",
       "_model_name": "LayoutModel",
       "_view_count": null,
       "_view_module": "@jupyter-widgets/base",
       "_view_module_version": "1.2.0",
       "_view_name": "LayoutView",
       "align_content": null,
       "align_items": null,
       "align_self": null,
       "border": null,
       "bottom": null,
       "display": null,
       "flex": null,
       "flex_flow": null,
       "grid_area": null,
       "grid_auto_columns": null,
       "grid_auto_flow": null,
       "grid_auto_rows": null,
       "grid_column": null,
       "grid_gap": null,
       "grid_row": null,
       "grid_template_areas": null,
       "grid_template_columns": null,
       "grid_template_rows": null,
       "height": null,
       "justify_content": null,
       "justify_items": null,
       "left": null,
       "margin": null,
       "max_height": null,
       "max_width": null,
       "min_height": null,
       "min_width": null,
       "object_fit": null,
       "object_position": null,
       "order": null,
       "overflow": null,
       "overflow_x": null,
       "overflow_y": null,
       "padding": null,
       "right": null,
       "top": null,
       "visibility": null,
       "width": null
      }
     },
     "89c2916f587b4918801b1702db8dad4e": {
      "model_module": "@jupyter-widgets/base",
      "model_module_version": "1.2.0",
      "model_name": "LayoutModel",
      "state": {
       "_model_module": "@jupyter-widgets/base",
       "_model_module_version": "1.2.0",
       "_model_name": "LayoutModel",
       "_view_count": null,
       "_view_module": "@jupyter-widgets/base",
       "_view_module_version": "1.2.0",
       "_view_name": "LayoutView",
       "align_content": null,
       "align_items": null,
       "align_self": null,
       "border": null,
       "bottom": null,
       "display": null,
       "flex": null,
       "flex_flow": null,
       "grid_area": null,
       "grid_auto_columns": null,
       "grid_auto_flow": null,
       "grid_auto_rows": null,
       "grid_column": null,
       "grid_gap": null,
       "grid_row": null,
       "grid_template_areas": null,
       "grid_template_columns": null,
       "grid_template_rows": null,
       "height": null,
       "justify_content": null,
       "justify_items": null,
       "left": null,
       "margin": null,
       "max_height": null,
       "max_width": null,
       "min_height": null,
       "min_width": null,
       "object_fit": null,
       "object_position": null,
       "order": null,
       "overflow": null,
       "overflow_x": null,
       "overflow_y": null,
       "padding": null,
       "right": null,
       "top": null,
       "visibility": null,
       "width": null
      }
     },
     "8bab1d770e4e4c94b50ca1d946217c21": {
      "model_module": "@jupyter-widgets/controls",
      "model_module_version": "1.5.0",
      "model_name": "HTMLModel",
      "state": {
       "_dom_classes": [],
       "_model_module": "@jupyter-widgets/controls",
       "_model_module_version": "1.5.0",
       "_model_name": "HTMLModel",
       "_view_count": null,
       "_view_module": "@jupyter-widgets/controls",
       "_view_module_version": "1.5.0",
       "_view_name": "HTMLView",
       "description": "",
       "description_tooltip": null,
       "layout": "IPY_MODEL_4c93261527e84749b79b5a6bc55cc186",
       "placeholder": "​",
       "style": "IPY_MODEL_82ab6a9513a14edaad70895f225b9c01",
       "value": " 1.62k/1.62k [00:00&lt;00:00, 178kB/s]"
      }
     },
     "8d07ee81f01e4742a46c59f9fc1d73ea": {
      "model_module": "@jupyter-widgets/controls",
      "model_module_version": "1.5.0",
      "model_name": "DescriptionStyleModel",
      "state": {
       "_model_module": "@jupyter-widgets/controls",
       "_model_module_version": "1.5.0",
       "_model_name": "DescriptionStyleModel",
       "_view_count": null,
       "_view_module": "@jupyter-widgets/base",
       "_view_module_version": "1.2.0",
       "_view_name": "StyleView",
       "description_width": ""
      }
     },
     "8d95eac6c82d429083f5626a12478549": {
      "model_module": "@jupyter-widgets/controls",
      "model_module_version": "1.5.0",
      "model_name": "HTMLModel",
      "state": {
       "_dom_classes": [],
       "_model_module": "@jupyter-widgets/controls",
       "_model_module_version": "1.5.0",
       "_model_name": "HTMLModel",
       "_view_count": null,
       "_view_module": "@jupyter-widgets/controls",
       "_view_module_version": "1.5.0",
       "_view_name": "HTMLView",
       "description": "",
       "description_tooltip": null,
       "layout": "IPY_MODEL_247bec3305464949a538fa9738eb3461",
       "placeholder": "​",
       "style": "IPY_MODEL_db186f7740c04d028229dddc29634d88",
       "value": "tokenizer.json: 100%"
      }
     },
     "8e506e10553144a4b778c39fc05b4b17": {
      "model_module": "@jupyter-widgets/controls",
      "model_module_version": "1.5.0",
      "model_name": "HBoxModel",
      "state": {
       "_dom_classes": [],
       "_model_module": "@jupyter-widgets/controls",
       "_model_module_version": "1.5.0",
       "_model_name": "HBoxModel",
       "_view_count": null,
       "_view_module": "@jupyter-widgets/controls",
       "_view_module_version": "1.5.0",
       "_view_name": "HBoxView",
       "box_style": "",
       "children": [
        "IPY_MODEL_0a93519da3b94f09b06d2d8252d5ffcc",
        "IPY_MODEL_0f8032f84e954967b27f4a1cc5eb548f",
        "IPY_MODEL_17873db53bc7410599d2308226c05ac0"
       ],
       "layout": "IPY_MODEL_1eb4c047354f4e2ebb5c8b6c8077847a"
      }
     },
     "92423d31cb894d2699980b99e3ee5003": {
      "model_module": "@jupyter-widgets/base",
      "model_module_version": "1.2.0",
      "model_name": "LayoutModel",
      "state": {
       "_model_module": "@jupyter-widgets/base",
       "_model_module_version": "1.2.0",
       "_model_name": "LayoutModel",
       "_view_count": null,
       "_view_module": "@jupyter-widgets/base",
       "_view_module_version": "1.2.0",
       "_view_name": "LayoutView",
       "align_content": null,
       "align_items": null,
       "align_self": null,
       "border": null,
       "bottom": null,
       "display": null,
       "flex": null,
       "flex_flow": null,
       "grid_area": null,
       "grid_auto_columns": null,
       "grid_auto_flow": null,
       "grid_auto_rows": null,
       "grid_column": null,
       "grid_gap": null,
       "grid_row": null,
       "grid_template_areas": null,
       "grid_template_columns": null,
       "grid_template_rows": null,
       "height": null,
       "justify_content": null,
       "justify_items": null,
       "left": null,
       "margin": null,
       "max_height": null,
       "max_width": null,
       "min_height": null,
       "min_width": null,
       "object_fit": null,
       "object_position": null,
       "order": null,
       "overflow": null,
       "overflow_x": null,
       "overflow_y": null,
       "padding": null,
       "right": null,
       "top": null,
       "visibility": null,
       "width": null
      }
     },
     "948087cc7f224360b2e9ffb9281124af": {
      "model_module": "@jupyter-widgets/controls",
      "model_module_version": "1.5.0",
      "model_name": "HTMLModel",
      "state": {
       "_dom_classes": [],
       "_model_module": "@jupyter-widgets/controls",
       "_model_module_version": "1.5.0",
       "_model_name": "HTMLModel",
       "_view_count": null,
       "_view_module": "@jupyter-widgets/controls",
       "_view_module_version": "1.5.0",
       "_view_name": "HTMLView",
       "description": "",
       "description_tooltip": null,
       "layout": "IPY_MODEL_29f4c9d161794057a67c70dd04c111dc",
       "placeholder": "​",
       "style": "IPY_MODEL_196df1cf853c4a71a009e8a32cdfad51",
       "value": " 151M/151M [00:00&lt;00:00, 227MB/s]"
      }
     },
     "955274f6644f42528d8f3c7c7e239df4": {
      "model_module": "@jupyter-widgets/controls",
      "model_module_version": "1.5.0",
      "model_name": "HTMLModel",
      "state": {
       "_dom_classes": [],
       "_model_module": "@jupyter-widgets/controls",
       "_model_module_version": "1.5.0",
       "_model_name": "HTMLModel",
       "_view_count": null,
       "_view_module": "@jupyter-widgets/controls",
       "_view_module_version": "1.5.0",
       "_view_name": "HTMLView",
       "description": "",
       "description_tooltip": null,
       "layout": "IPY_MODEL_ad0f96b8cc104a1bb43514a57b68583a",
       "placeholder": "​",
       "style": "IPY_MODEL_8d07ee81f01e4742a46c59f9fc1d73ea",
       "value": "preprocessor_config.json: 100%"
      }
     },
     "991718f8fb10460ca6d3e0a8d196ebfa": {
      "model_module": "@jupyter-widgets/base",
      "model_module_version": "1.2.0",
      "model_name": "LayoutModel",
      "state": {
       "_model_module": "@jupyter-widgets/base",
       "_model_module_version": "1.2.0",
       "_model_name": "LayoutModel",
       "_view_count": null,
       "_view_module": "@jupyter-widgets/base",
       "_view_module_version": "1.2.0",
       "_view_name": "LayoutView",
       "align_content": null,
       "align_items": null,
       "align_self": null,
       "border": null,
       "bottom": null,
       "display": null,
       "flex": null,
       "flex_flow": null,
       "grid_area": null,
       "grid_auto_columns": null,
       "grid_auto_flow": null,
       "grid_auto_rows": null,
       "grid_column": null,
       "grid_gap": null,
       "grid_row": null,
       "grid_template_areas": null,
       "grid_template_columns": null,
       "grid_template_rows": null,
       "height": null,
       "justify_content": null,
       "justify_items": null,
       "left": null,
       "margin": null,
       "max_height": null,
       "max_width": null,
       "min_height": null,
       "min_width": null,
       "object_fit": null,
       "object_position": null,
       "order": null,
       "overflow": null,
       "overflow_x": null,
       "overflow_y": null,
       "padding": null,
       "right": null,
       "top": null,
       "visibility": null,
       "width": null
      }
     },
     "99cc7cdb91b548cf858e41e4f9e9ee06": {
      "model_module": "@jupyter-widgets/controls",
      "model_module_version": "1.5.0",
      "model_name": "ProgressStyleModel",
      "state": {
       "_model_module": "@jupyter-widgets/controls",
       "_model_module_version": "1.5.0",
       "_model_name": "ProgressStyleModel",
       "_view_count": null,
       "_view_module": "@jupyter-widgets/base",
       "_view_module_version": "1.2.0",
       "_view_name": "StyleView",
       "bar_color": null,
       "description_width": ""
      }
     },
     "9c12134a7eb846fc87e78b2b1057fe76": {
      "model_module": "@jupyter-widgets/controls",
      "model_module_version": "1.5.0",
      "model_name": "HBoxModel",
      "state": {
       "_dom_classes": [],
       "_model_module": "@jupyter-widgets/controls",
       "_model_module_version": "1.5.0",
       "_model_name": "HBoxModel",
       "_view_count": null,
       "_view_module": "@jupyter-widgets/controls",
       "_view_module_version": "1.5.0",
       "_view_name": "HBoxView",
       "box_style": "",
       "children": [
        "IPY_MODEL_28347d9337bd4ea6a38d8e77c717850b",
        "IPY_MODEL_13cf6e774fcd4a80b5ee6b3a4c4f6526",
        "IPY_MODEL_4de7eea9caa1425e9b1a3e6bc79e61b1"
       ],
       "layout": "IPY_MODEL_5b234b67743c4e5d87274748bca4dab1"
      }
     },
     "9eba8b871d30420f9e4617832b911201": {
      "model_module": "@jupyter-widgets/controls",
      "model_module_version": "1.5.0",
      "model_name": "DescriptionStyleModel",
      "state": {
       "_model_module": "@jupyter-widgets/controls",
       "_model_module_version": "1.5.0",
       "_model_name": "DescriptionStyleModel",
       "_view_count": null,
       "_view_module": "@jupyter-widgets/base",
       "_view_module_version": "1.2.0",
       "_view_name": "StyleView",
       "description_width": ""
      }
     },
     "9f02c773522b4c9e9d4daca7f3b72c08": {
      "model_module": "@jupyter-widgets/base",
      "model_module_version": "1.2.0",
      "model_name": "LayoutModel",
      "state": {
       "_model_module": "@jupyter-widgets/base",
       "_model_module_version": "1.2.0",
       "_model_name": "LayoutModel",
       "_view_count": null,
       "_view_module": "@jupyter-widgets/base",
       "_view_module_version": "1.2.0",
       "_view_name": "LayoutView",
       "align_content": null,
       "align_items": null,
       "align_self": null,
       "border": null,
       "bottom": null,
       "display": null,
       "flex": null,
       "flex_flow": null,
       "grid_area": null,
       "grid_auto_columns": null,
       "grid_auto_flow": null,
       "grid_auto_rows": null,
       "grid_column": null,
       "grid_gap": null,
       "grid_row": null,
       "grid_template_areas": null,
       "grid_template_columns": null,
       "grid_template_rows": null,
       "height": null,
       "justify_content": null,
       "justify_items": null,
       "left": null,
       "margin": null,
       "max_height": null,
       "max_width": null,
       "min_height": null,
       "min_width": null,
       "object_fit": null,
       "object_position": null,
       "order": null,
       "overflow": null,
       "overflow_x": null,
       "overflow_y": null,
       "padding": null,
       "right": null,
       "top": null,
       "visibility": null,
       "width": null
      }
     },
     "a14c379594e3448ba7af94fcef76756a": {
      "model_module": "@jupyter-widgets/controls",
      "model_module_version": "1.5.0",
      "model_name": "DescriptionStyleModel",
      "state": {
       "_model_module": "@jupyter-widgets/controls",
       "_model_module_version": "1.5.0",
       "_model_name": "DescriptionStyleModel",
       "_view_count": null,
       "_view_module": "@jupyter-widgets/base",
       "_view_module_version": "1.2.0",
       "_view_name": "StyleView",
       "description_width": ""
      }
     },
     "a41b6abdc0ce4e70a9cb3863d3623644": {
      "model_module": "@jupyter-widgets/base",
      "model_module_version": "1.2.0",
      "model_name": "LayoutModel",
      "state": {
       "_model_module": "@jupyter-widgets/base",
       "_model_module_version": "1.2.0",
       "_model_name": "LayoutModel",
       "_view_count": null,
       "_view_module": "@jupyter-widgets/base",
       "_view_module_version": "1.2.0",
       "_view_name": "LayoutView",
       "align_content": null,
       "align_items": null,
       "align_self": null,
       "border": null,
       "bottom": null,
       "display": null,
       "flex": null,
       "flex_flow": null,
       "grid_area": null,
       "grid_auto_columns": null,
       "grid_auto_flow": null,
       "grid_auto_rows": null,
       "grid_column": null,
       "grid_gap": null,
       "grid_row": null,
       "grid_template_areas": null,
       "grid_template_columns": null,
       "grid_template_rows": null,
       "height": null,
       "justify_content": null,
       "justify_items": null,
       "left": null,
       "margin": null,
       "max_height": null,
       "max_width": null,
       "min_height": null,
       "min_width": null,
       "object_fit": null,
       "object_position": null,
       "order": null,
       "overflow": null,
       "overflow_x": null,
       "overflow_y": null,
       "padding": null,
       "right": null,
       "top": null,
       "visibility": null,
       "width": null
      }
     },
     "a6b740ee38fd452d8f45639f3fbb51b1": {
      "model_module": "@jupyter-widgets/base",
      "model_module_version": "1.2.0",
      "model_name": "LayoutModel",
      "state": {
       "_model_module": "@jupyter-widgets/base",
       "_model_module_version": "1.2.0",
       "_model_name": "LayoutModel",
       "_view_count": null,
       "_view_module": "@jupyter-widgets/base",
       "_view_module_version": "1.2.0",
       "_view_name": "LayoutView",
       "align_content": null,
       "align_items": null,
       "align_self": null,
       "border": null,
       "bottom": null,
       "display": null,
       "flex": null,
       "flex_flow": null,
       "grid_area": null,
       "grid_auto_columns": null,
       "grid_auto_flow": null,
       "grid_auto_rows": null,
       "grid_column": null,
       "grid_gap": null,
       "grid_row": null,
       "grid_template_areas": null,
       "grid_template_columns": null,
       "grid_template_rows": null,
       "height": null,
       "justify_content": null,
       "justify_items": null,
       "left": null,
       "margin": null,
       "max_height": null,
       "max_width": null,
       "min_height": null,
       "min_width": null,
       "object_fit": null,
       "object_position": null,
       "order": null,
       "overflow": null,
       "overflow_x": null,
       "overflow_y": null,
       "padding": null,
       "right": null,
       "top": null,
       "visibility": null,
       "width": null
      }
     },
     "a81af30b125646c98993ab193924148a": {
      "model_module": "@jupyter-widgets/base",
      "model_module_version": "1.2.0",
      "model_name": "LayoutModel",
      "state": {
       "_model_module": "@jupyter-widgets/base",
       "_model_module_version": "1.2.0",
       "_model_name": "LayoutModel",
       "_view_count": null,
       "_view_module": "@jupyter-widgets/base",
       "_view_module_version": "1.2.0",
       "_view_name": "LayoutView",
       "align_content": null,
       "align_items": null,
       "align_self": null,
       "border": null,
       "bottom": null,
       "display": null,
       "flex": null,
       "flex_flow": null,
       "grid_area": null,
       "grid_auto_columns": null,
       "grid_auto_flow": null,
       "grid_auto_rows": null,
       "grid_column": null,
       "grid_gap": null,
       "grid_row": null,
       "grid_template_areas": null,
       "grid_template_columns": null,
       "grid_template_rows": null,
       "height": null,
       "justify_content": null,
       "justify_items": null,
       "left": null,
       "margin": null,
       "max_height": null,
       "max_width": null,
       "min_height": null,
       "min_width": null,
       "object_fit": null,
       "object_position": null,
       "order": null,
       "overflow": null,
       "overflow_x": null,
       "overflow_y": null,
       "padding": null,
       "right": null,
       "top": null,
       "visibility": null,
       "width": null
      }
     },
     "a8e7ec1e3438476db638117d4947e353": {
      "model_module": "@jupyter-widgets/controls",
      "model_module_version": "1.5.0",
      "model_name": "DescriptionStyleModel",
      "state": {
       "_model_module": "@jupyter-widgets/controls",
       "_model_module_version": "1.5.0",
       "_model_name": "DescriptionStyleModel",
       "_view_count": null,
       "_view_module": "@jupyter-widgets/base",
       "_view_module_version": "1.2.0",
       "_view_name": "StyleView",
       "description_width": ""
      }
     },
     "a94dd2947e104282868df9a0a214e1c1": {
      "model_module": "@jupyter-widgets/controls",
      "model_module_version": "1.5.0",
      "model_name": "FloatProgressModel",
      "state": {
       "_dom_classes": [],
       "_model_module": "@jupyter-widgets/controls",
       "_model_module_version": "1.5.0",
       "_model_name": "FloatProgressModel",
       "_view_count": null,
       "_view_module": "@jupyter-widgets/controls",
       "_view_module_version": "1.5.0",
       "_view_name": "ProgressView",
       "bar_style": "success",
       "description": "",
       "description_tooltip": null,
       "layout": "IPY_MODEL_006feab5dab74b3e8b1b7fb94b11585d",
       "max": 2405679.0,
       "min": 0.0,
       "orientation": "horizontal",
       "style": "IPY_MODEL_7015684c4118493a9a79fd3cde5881e0",
       "value": 2405679.0
      }
     },
     "aa0deba5d5ed4d59b18f03f86b8ae46f": {
      "model_module": "@jupyter-widgets/controls",
      "model_module_version": "1.5.0",
      "model_name": "DescriptionStyleModel",
      "state": {
       "_model_module": "@jupyter-widgets/controls",
       "_model_module_version": "1.5.0",
       "_model_name": "DescriptionStyleModel",
       "_view_count": null,
       "_view_module": "@jupyter-widgets/base",
       "_view_module_version": "1.2.0",
       "_view_name": "StyleView",
       "description_width": ""
      }
     },
     "abd5a9b1d14346d58e0470c514b04abe": {
      "model_module": "@jupyter-widgets/controls",
      "model_module_version": "1.5.0",
      "model_name": "DescriptionStyleModel",
      "state": {
       "_model_module": "@jupyter-widgets/controls",
       "_model_module_version": "1.5.0",
       "_model_name": "DescriptionStyleModel",
       "_view_count": null,
       "_view_module": "@jupyter-widgets/base",
       "_view_module_version": "1.2.0",
       "_view_name": "StyleView",
       "description_width": ""
      }
     },
     "ac71d1c05d344335bc31539ceb9858e0": {
      "model_module": "@jupyter-widgets/controls",
      "model_module_version": "1.5.0",
      "model_name": "HTMLModel",
      "state": {
       "_dom_classes": [],
       "_model_module": "@jupyter-widgets/controls",
       "_model_module_version": "1.5.0",
       "_model_name": "HTMLModel",
       "_view_count": null,
       "_view_module": "@jupyter-widgets/controls",
       "_view_module_version": "1.5.0",
       "_view_name": "HTMLView",
       "description": "",
       "description_tooltip": null,
       "layout": "IPY_MODEL_b091ab849a794975aedfffccd0289f19",
       "placeholder": "​",
       "style": "IPY_MODEL_e3be8f2e2d41417a959fdb5e26600867",
       "value": " 185k/185k [00:00&lt;00:00, 1.16MB/s]"
      }
     },
     "ad0f96b8cc104a1bb43514a57b68583a": {
      "model_module": "@jupyter-widgets/base",
      "model_module_version": "1.2.0",
      "model_name": "LayoutModel",
      "state": {
       "_model_module": "@jupyter-widgets/base",
       "_model_module_version": "1.2.0",
       "_model_name": "LayoutModel",
       "_view_count": null,
       "_view_module": "@jupyter-widgets/base",
       "_view_module_version": "1.2.0",
       "_view_name": "LayoutView",
       "align_content": null,
       "align_items": null,
       "align_self": null,
       "border": null,
       "bottom": null,
       "display": null,
       "flex": null,
       "flex_flow": null,
       "grid_area": null,
       "grid_auto_columns": null,
       "grid_auto_flow": null,
       "grid_auto_rows": null,
       "grid_column": null,
       "grid_gap": null,
       "grid_row": null,
       "grid_template_areas": null,
       "grid_template_columns": null,
       "grid_template_rows": null,
       "height": null,
       "justify_content": null,
       "justify_items": null,
       "left": null,
       "margin": null,
       "max_height": null,
       "max_width": null,
       "min_height": null,
       "min_width": null,
       "object_fit": null,
       "object_position": null,
       "order": null,
       "overflow": null,
       "overflow_x": null,
       "overflow_y": null,
       "padding": null,
       "right": null,
       "top": null,
       "visibility": null,
       "width": null
      }
     },
     "ae4851b86e394cd281a4aa68b42802c0": {
      "model_module": "@jupyter-widgets/controls",
      "model_module_version": "1.5.0",
      "model_name": "DescriptionStyleModel",
      "state": {
       "_model_module": "@jupyter-widgets/controls",
       "_model_module_version": "1.5.0",
       "_model_name": "DescriptionStyleModel",
       "_view_count": null,
       "_view_module": "@jupyter-widgets/base",
       "_view_module_version": "1.2.0",
       "_view_name": "StyleView",
       "description_width": ""
      }
     },
     "b091ab849a794975aedfffccd0289f19": {
      "model_module": "@jupyter-widgets/base",
      "model_module_version": "1.2.0",
      "model_name": "LayoutModel",
      "state": {
       "_model_module": "@jupyter-widgets/base",
       "_model_module_version": "1.2.0",
       "_model_name": "LayoutModel",
       "_view_count": null,
       "_view_module": "@jupyter-widgets/base",
       "_view_module_version": "1.2.0",
       "_view_name": "LayoutView",
       "align_content": null,
       "align_items": null,
       "align_self": null,
       "border": null,
       "bottom": null,
       "display": null,
       "flex": null,
       "flex_flow": null,
       "grid_area": null,
       "grid_auto_columns": null,
       "grid_auto_flow": null,
       "grid_auto_rows": null,
       "grid_column": null,
       "grid_gap": null,
       "grid_row": null,
       "grid_template_areas": null,
       "grid_template_columns": null,
       "grid_template_rows": null,
       "height": null,
       "justify_content": null,
       "justify_items": null,
       "left": null,
       "margin": null,
       "max_height": null,
       "max_width": null,
       "min_height": null,
       "min_width": null,
       "object_fit": null,
       "object_position": null,
       "order": null,
       "overflow": null,
       "overflow_x": null,
       "overflow_y": null,
       "padding": null,
       "right": null,
       "top": null,
       "visibility": null,
       "width": null
      }
     },
     "b47c7d3297bc4af39cd93be3d8802fa8": {
      "model_module": "@jupyter-widgets/controls",
      "model_module_version": "1.5.0",
      "model_name": "HTMLModel",
      "state": {
       "_dom_classes": [],
       "_model_module": "@jupyter-widgets/controls",
       "_model_module_version": "1.5.0",
       "_model_name": "HTMLModel",
       "_view_count": null,
       "_view_module": "@jupyter-widgets/controls",
       "_view_module_version": "1.5.0",
       "_view_name": "HTMLView",
       "description": "",
       "description_tooltip": null,
       "layout": "IPY_MODEL_f1b0b835b67c4084a7679018d25c80d3",
       "placeholder": "​",
       "style": "IPY_MODEL_4dcc5cde78cf451192ff74908af710dc",
       "value": "added_tokens.json: 100%"
      }
     },
     "b54955b363794b68ba326266dcec6e1b": {
      "model_module": "@jupyter-widgets/controls",
      "model_module_version": "1.5.0",
      "model_name": "DescriptionStyleModel",
      "state": {
       "_model_module": "@jupyter-widgets/controls",
       "_model_module_version": "1.5.0",
       "_model_name": "DescriptionStyleModel",
       "_view_count": null,
       "_view_module": "@jupyter-widgets/base",
       "_view_module_version": "1.2.0",
       "_view_name": "StyleView",
       "description_width": ""
      }
     },
     "bcc8b76b6f95465c97aef418c02e5574": {
      "model_module": "@jupyter-widgets/base",
      "model_module_version": "1.2.0",
      "model_name": "LayoutModel",
      "state": {
       "_model_module": "@jupyter-widgets/base",
       "_model_module_version": "1.2.0",
       "_model_name": "LayoutModel",
       "_view_count": null,
       "_view_module": "@jupyter-widgets/base",
       "_view_module_version": "1.2.0",
       "_view_name": "LayoutView",
       "align_content": null,
       "align_items": null,
       "align_self": null,
       "border": null,
       "bottom": null,
       "display": null,
       "flex": null,
       "flex_flow": null,
       "grid_area": null,
       "grid_auto_columns": null,
       "grid_auto_flow": null,
       "grid_auto_rows": null,
       "grid_column": null,
       "grid_gap": null,
       "grid_row": null,
       "grid_template_areas": null,
       "grid_template_columns": null,
       "grid_template_rows": null,
       "height": null,
       "justify_content": null,
       "justify_items": null,
       "left": null,
       "margin": null,
       "max_height": null,
       "max_width": null,
       "min_height": null,
       "min_width": null,
       "object_fit": null,
       "object_position": null,
       "order": null,
       "overflow": null,
       "overflow_x": null,
       "overflow_y": null,
       "padding": null,
       "right": null,
       "top": null,
       "visibility": null,
       "width": null
      }
     },
     "be94c572a4434e4da342c80b8dab255e": {
      "model_module": "@jupyter-widgets/controls",
      "model_module_version": "1.5.0",
      "model_name": "DescriptionStyleModel",
      "state": {
       "_model_module": "@jupyter-widgets/controls",
       "_model_module_version": "1.5.0",
       "_model_name": "DescriptionStyleModel",
       "_view_count": null,
       "_view_module": "@jupyter-widgets/base",
       "_view_module_version": "1.2.0",
       "_view_name": "StyleView",
       "description_width": ""
      }
     },
     "bf6512d749044e07b0d3593c12135a47": {
      "model_module": "@jupyter-widgets/base",
      "model_module_version": "1.2.0",
      "model_name": "LayoutModel",
      "state": {
       "_model_module": "@jupyter-widgets/base",
       "_model_module_version": "1.2.0",
       "_model_name": "LayoutModel",
       "_view_count": null,
       "_view_module": "@jupyter-widgets/base",
       "_view_module_version": "1.2.0",
       "_view_name": "LayoutView",
       "align_content": null,
       "align_items": null,
       "align_self": null,
       "border": null,
       "bottom": null,
       "display": null,
       "flex": null,
       "flex_flow": null,
       "grid_area": null,
       "grid_auto_columns": null,
       "grid_auto_flow": null,
       "grid_auto_rows": null,
       "grid_column": null,
       "grid_gap": null,
       "grid_row": null,
       "grid_template_areas": null,
       "grid_template_columns": null,
       "grid_template_rows": null,
       "height": null,
       "justify_content": null,
       "justify_items": null,
       "left": null,
       "margin": null,
       "max_height": null,
       "max_width": null,
       "min_height": null,
       "min_width": null,
       "object_fit": null,
       "object_position": null,
       "order": null,
       "overflow": null,
       "overflow_x": null,
       "overflow_y": null,
       "padding": null,
       "right": null,
       "top": null,
       "visibility": null,
       "width": null
      }
     },
     "c040764ac245499faeff6fd78863c823": {
      "model_module": "@jupyter-widgets/base",
      "model_module_version": "1.2.0",
      "model_name": "LayoutModel",
      "state": {
       "_model_module": "@jupyter-widgets/base",
       "_model_module_version": "1.2.0",
       "_model_name": "LayoutModel",
       "_view_count": null,
       "_view_module": "@jupyter-widgets/base",
       "_view_module_version": "1.2.0",
       "_view_name": "LayoutView",
       "align_content": null,
       "align_items": null,
       "align_self": null,
       "border": null,
       "bottom": null,
       "display": null,
       "flex": null,
       "flex_flow": null,
       "grid_area": null,
       "grid_auto_columns": null,
       "grid_auto_flow": null,
       "grid_auto_rows": null,
       "grid_column": null,
       "grid_gap": null,
       "grid_row": null,
       "grid_template_areas": null,
       "grid_template_columns": null,
       "grid_template_rows": null,
       "height": null,
       "justify_content": null,
       "justify_items": null,
       "left": null,
       "margin": null,
       "max_height": null,
       "max_width": null,
       "min_height": null,
       "min_width": null,
       "object_fit": null,
       "object_position": null,
       "order": null,
       "overflow": null,
       "overflow_x": null,
       "overflow_y": null,
       "padding": null,
       "right": null,
       "top": null,
       "visibility": null,
       "width": null
      }
     },
     "c1539893fce3411a90ac3c353bb6b00c": {
      "model_module": "@jupyter-widgets/base",
      "model_module_version": "1.2.0",
      "model_name": "LayoutModel",
      "state": {
       "_model_module": "@jupyter-widgets/base",
       "_model_module_version": "1.2.0",
       "_model_name": "LayoutModel",
       "_view_count": null,
       "_view_module": "@jupyter-widgets/base",
       "_view_module_version": "1.2.0",
       "_view_name": "LayoutView",
       "align_content": null,
       "align_items": null,
       "align_self": null,
       "border": null,
       "bottom": null,
       "display": null,
       "flex": null,
       "flex_flow": null,
       "grid_area": null,
       "grid_auto_columns": null,
       "grid_auto_flow": null,
       "grid_auto_rows": null,
       "grid_column": null,
       "grid_gap": null,
       "grid_row": null,
       "grid_template_areas": null,
       "grid_template_columns": null,
       "grid_template_rows": null,
       "height": null,
       "justify_content": null,
       "justify_items": null,
       "left": null,
       "margin": null,
       "max_height": null,
       "max_width": null,
       "min_height": null,
       "min_width": null,
       "object_fit": null,
       "object_position": null,
       "order": null,
       "overflow": null,
       "overflow_x": null,
       "overflow_y": null,
       "padding": null,
       "right": null,
       "top": null,
       "visibility": null,
       "width": null
      }
     },
     "c18e9a2d3d104ec881ebb7d55dcc8272": {
      "model_module": "@jupyter-widgets/controls",
      "model_module_version": "1.5.0",
      "model_name": "FloatProgressModel",
      "state": {
       "_dom_classes": [],
       "_model_module": "@jupyter-widgets/controls",
       "_model_module_version": "1.5.0",
       "_model_name": "FloatProgressModel",
       "_view_count": null,
       "_view_module": "@jupyter-widgets/controls",
       "_view_module_version": "1.5.0",
       "_view_name": "ProgressView",
       "bar_style": "success",
       "description": "",
       "description_tooltip": null,
       "layout": "IPY_MODEL_c27ba51878b94ac99bdb71555ab97468",
       "max": 1830.0,
       "min": 0.0,
       "orientation": "horizontal",
       "style": "IPY_MODEL_6acd108794174d35941f653e803f4bd0",
       "value": 1830.0
      }
     },
     "c27ba51878b94ac99bdb71555ab97468": {
      "model_module": "@jupyter-widgets/base",
      "model_module_version": "1.2.0",
      "model_name": "LayoutModel",
      "state": {
       "_model_module": "@jupyter-widgets/base",
       "_model_module_version": "1.2.0",
       "_model_name": "LayoutModel",
       "_view_count": null,
       "_view_module": "@jupyter-widgets/base",
       "_view_module_version": "1.2.0",
       "_view_name": "LayoutView",
       "align_content": null,
       "align_items": null,
       "align_self": null,
       "border": null,
       "bottom": null,
       "display": null,
       "flex": null,
       "flex_flow": null,
       "grid_area": null,
       "grid_auto_columns": null,
       "grid_auto_flow": null,
       "grid_auto_rows": null,
       "grid_column": null,
       "grid_gap": null,
       "grid_row": null,
       "grid_template_areas": null,
       "grid_template_columns": null,
       "grid_template_rows": null,
       "height": null,
       "justify_content": null,
       "justify_items": null,
       "left": null,
       "margin": null,
       "max_height": null,
       "max_width": null,
       "min_height": null,
       "min_width": null,
       "object_fit": null,
       "object_position": null,
       "order": null,
       "overflow": null,
       "overflow_x": null,
       "overflow_y": null,
       "padding": null,
       "right": null,
       "top": null,
       "visibility": null,
       "width": null
      }
     },
     "c27fb32cf23043a386787d38e9d9e223": {
      "model_module": "@jupyter-widgets/controls",
      "model_module_version": "1.5.0",
      "model_name": "HTMLModel",
      "state": {
       "_dom_classes": [],
       "_model_module": "@jupyter-widgets/controls",
       "_model_module_version": "1.5.0",
       "_model_name": "HTMLModel",
       "_view_count": null,
       "_view_module": "@jupyter-widgets/controls",
       "_view_module_version": "1.5.0",
       "_view_name": "HTMLView",
       "description": "",
       "description_tooltip": null,
       "layout": "IPY_MODEL_991718f8fb10460ca6d3e0a8d196ebfa",
       "placeholder": "​",
       "style": "IPY_MODEL_64a0c8d84bb34dad9595b911b5a7afee",
       "value": " 34.6k/34.6k [00:00&lt;00:00, 435kB/s]"
      }
     },
     "c5a91a4398f741aa95a7c039ef12562c": {
      "model_module": "@jupyter-widgets/controls",
      "model_module_version": "1.5.0",
      "model_name": "FloatProgressModel",
      "state": {
       "_dom_classes": [],
       "_model_module": "@jupyter-widgets/controls",
       "_model_module_version": "1.5.0",
       "_model_name": "FloatProgressModel",
       "_view_count": null,
       "_view_module": "@jupyter-widgets/controls",
       "_view_module_version": "1.5.0",
       "_view_name": "ProgressView",
       "bar_style": "success",
       "description": "",
       "description_tooltip": null,
       "layout": "IPY_MODEL_46a0a9d4e1f444bdabca2ae0f226db36",
       "max": 151060136.0,
       "min": 0.0,
       "orientation": "horizontal",
       "style": "IPY_MODEL_3517225981a1480a8fdfa41faab7e93d",
       "value": 151060136.0
      }
     },
     "c75789b8e6c1488c93ee976c30a4e8f8": {
      "model_module": "@jupyter-widgets/base",
      "model_module_version": "1.2.0",
      "model_name": "LayoutModel",
      "state": {
       "_model_module": "@jupyter-widgets/base",
       "_model_module_version": "1.2.0",
       "_model_name": "LayoutModel",
       "_view_count": null,
       "_view_module": "@jupyter-widgets/base",
       "_view_module_version": "1.2.0",
       "_view_name": "LayoutView",
       "align_content": null,
       "align_items": null,
       "align_self": null,
       "border": null,
       "bottom": null,
       "display": null,
       "flex": null,
       "flex_flow": null,
       "grid_area": null,
       "grid_auto_columns": null,
       "grid_auto_flow": null,
       "grid_auto_rows": null,
       "grid_column": null,
       "grid_gap": null,
       "grid_row": null,
       "grid_template_areas": null,
       "grid_template_columns": null,
       "grid_template_rows": null,
       "height": null,
       "justify_content": null,
       "justify_items": null,
       "left": null,
       "margin": null,
       "max_height": null,
       "max_width": null,
       "min_height": null,
       "min_width": null,
       "object_fit": null,
       "object_position": null,
       "order": null,
       "overflow": null,
       "overflow_x": null,
       "overflow_y": null,
       "padding": null,
       "right": null,
       "top": null,
       "visibility": null,
       "width": null
      }
     },
     "d381e0f83b224db4884e9bdd06c58818": {
      "model_module": "@jupyter-widgets/controls",
      "model_module_version": "1.5.0",
      "model_name": "FloatProgressModel",
      "state": {
       "_dom_classes": [],
       "_model_module": "@jupyter-widgets/controls",
       "_model_module_version": "1.5.0",
       "_model_name": "FloatProgressModel",
       "_view_count": null,
       "_view_module": "@jupyter-widgets/controls",
       "_view_module_version": "1.5.0",
       "_view_name": "ProgressView",
       "bar_style": "success",
       "description": "",
       "description_tooltip": null,
       "layout": "IPY_MODEL_0a25b627902e46229f4978f414565ee3",
       "max": 798156.0,
       "min": 0.0,
       "orientation": "horizontal",
       "style": "IPY_MODEL_446e637ed05c424188630eb9e000c8fa",
       "value": 798156.0
      }
     },
     "d41ae591924a47f48d74d146ab9293a0": {
      "model_module": "@jupyter-widgets/controls",
      "model_module_version": "1.5.0",
      "model_name": "FloatProgressModel",
      "state": {
       "_dom_classes": [],
       "_model_module": "@jupyter-widgets/controls",
       "_model_module_version": "1.5.0",
       "_model_name": "FloatProgressModel",
       "_view_count": null,
       "_view_module": "@jupyter-widgets/controls",
       "_view_module_version": "1.5.0",
       "_view_name": "ProgressView",
       "bar_style": "success",
       "description": "",
       "description_tooltip": null,
       "layout": "IPY_MODEL_6382d4b1b01d4ae082330ecc98d9cbd3",
       "max": 1621.0,
       "min": 0.0,
       "orientation": "horizontal",
       "style": "IPY_MODEL_db6aa5ae290c46bb9235bf66cd5369d1",
       "value": 1621.0
      }
     },
     "d935fb734fd74796b8078aae26f65b2c": {
      "model_module": "@jupyter-widgets/controls",
      "model_module_version": "1.5.0",
      "model_name": "ProgressStyleModel",
      "state": {
       "_model_module": "@jupyter-widgets/controls",
       "_model_module_version": "1.5.0",
       "_model_name": "ProgressStyleModel",
       "_view_count": null,
       "_view_module": "@jupyter-widgets/base",
       "_view_module_version": "1.2.0",
       "_view_name": "StyleView",
       "bar_color": null,
       "description_width": ""
      }
     },
     "db186f7740c04d028229dddc29634d88": {
      "model_module": "@jupyter-widgets/controls",
      "model_module_version": "1.5.0",
      "model_name": "DescriptionStyleModel",
      "state": {
       "_model_module": "@jupyter-widgets/controls",
       "_model_module_version": "1.5.0",
       "_model_name": "DescriptionStyleModel",
       "_view_count": null,
       "_view_module": "@jupyter-widgets/base",
       "_view_module_version": "1.2.0",
       "_view_name": "StyleView",
       "description_width": ""
      }
     },
     "db6aa5ae290c46bb9235bf66cd5369d1": {
      "model_module": "@jupyter-widgets/controls",
      "model_module_version": "1.5.0",
      "model_name": "ProgressStyleModel",
      "state": {
       "_model_module": "@jupyter-widgets/controls",
       "_model_module_version": "1.5.0",
       "_model_name": "ProgressStyleModel",
       "_view_count": null,
       "_view_module": "@jupyter-widgets/base",
       "_view_module_version": "1.2.0",
       "_view_name": "StyleView",
       "bar_color": null,
       "description_width": ""
      }
     },
     "dd7fc90a045341b9ba9b7cf2a6491cee": {
      "model_module": "@jupyter-widgets/controls",
      "model_module_version": "1.5.0",
      "model_name": "DescriptionStyleModel",
      "state": {
       "_model_module": "@jupyter-widgets/controls",
       "_model_module_version": "1.5.0",
       "_model_name": "DescriptionStyleModel",
       "_view_count": null,
       "_view_module": "@jupyter-widgets/base",
       "_view_module_version": "1.2.0",
       "_view_name": "StyleView",
       "description_width": ""
      }
     },
     "e3acceabbbc1456dbb73d5d88bd0d9f2": {
      "model_module": "@jupyter-widgets/controls",
      "model_module_version": "1.5.0",
      "model_name": "FloatProgressModel",
      "state": {
       "_dom_classes": [],
       "_model_module": "@jupyter-widgets/controls",
       "_model_module_version": "1.5.0",
       "_model_name": "FloatProgressModel",
       "_view_count": null,
       "_view_module": "@jupyter-widgets/controls",
       "_view_module_version": "1.5.0",
       "_view_name": "ProgressView",
       "bar_style": "success",
       "description": "",
       "description_tooltip": null,
       "layout": "IPY_MODEL_bf6512d749044e07b0d3593c12135a47",
       "max": 34604.0,
       "min": 0.0,
       "orientation": "horizontal",
       "style": "IPY_MODEL_99cc7cdb91b548cf858e41e4f9e9ee06",
       "value": 34604.0
      }
     },
     "e3be8f2e2d41417a959fdb5e26600867": {
      "model_module": "@jupyter-widgets/controls",
      "model_module_version": "1.5.0",
      "model_name": "DescriptionStyleModel",
      "state": {
       "_model_module": "@jupyter-widgets/controls",
       "_model_module_version": "1.5.0",
       "_model_name": "DescriptionStyleModel",
       "_view_count": null,
       "_view_module": "@jupyter-widgets/base",
       "_view_module_version": "1.2.0",
       "_view_name": "StyleView",
       "description_width": ""
      }
     },
     "e51a26018dd74b85bcaa98e592210631": {
      "model_module": "@jupyter-widgets/controls",
      "model_module_version": "1.5.0",
      "model_name": "ProgressStyleModel",
      "state": {
       "_model_module": "@jupyter-widgets/controls",
       "_model_module_version": "1.5.0",
       "_model_name": "ProgressStyleModel",
       "_view_count": null,
       "_view_module": "@jupyter-widgets/base",
       "_view_module_version": "1.2.0",
       "_view_name": "StyleView",
       "bar_color": null,
       "description_width": ""
      }
     },
     "e8ecb51e472d4fea8713287ea7ba2cb8": {
      "model_module": "@jupyter-widgets/base",
      "model_module_version": "1.2.0",
      "model_name": "LayoutModel",
      "state": {
       "_model_module": "@jupyter-widgets/base",
       "_model_module_version": "1.2.0",
       "_model_name": "LayoutModel",
       "_view_count": null,
       "_view_module": "@jupyter-widgets/base",
       "_view_module_version": "1.2.0",
       "_view_name": "LayoutView",
       "align_content": null,
       "align_items": null,
       "align_self": null,
       "border": null,
       "bottom": null,
       "display": null,
       "flex": null,
       "flex_flow": null,
       "grid_area": null,
       "grid_auto_columns": null,
       "grid_auto_flow": null,
       "grid_auto_rows": null,
       "grid_column": null,
       "grid_gap": null,
       "grid_row": null,
       "grid_template_areas": null,
       "grid_template_columns": null,
       "grid_template_rows": null,
       "height": null,
       "justify_content": null,
       "justify_items": null,
       "left": null,
       "margin": null,
       "max_height": null,
       "max_width": null,
       "min_height": null,
       "min_width": null,
       "object_fit": null,
       "object_position": null,
       "order": null,
       "overflow": null,
       "overflow_x": null,
       "overflow_y": null,
       "padding": null,
       "right": null,
       "top": null,
       "visibility": null,
       "width": null
      }
     },
     "eb4099b69547467ab44cf1d3b86b7d2a": {
      "model_module": "@jupyter-widgets/controls",
      "model_module_version": "1.5.0",
      "model_name": "HTMLModel",
      "state": {
       "_dom_classes": [],
       "_model_module": "@jupyter-widgets/controls",
       "_model_module_version": "1.5.0",
       "_model_name": "HTMLModel",
       "_view_count": null,
       "_view_module": "@jupyter-widgets/controls",
       "_view_module_version": "1.5.0",
       "_view_name": "HTMLView",
       "description": "",
       "description_tooltip": null,
       "layout": "IPY_MODEL_f7691680af4a4ea986f266a4ee4f763b",
       "placeholder": "​",
       "style": "IPY_MODEL_be94c572a4434e4da342c80b8dab255e",
       "value": "special_tokens_map.json: 100%"
      }
     },
     "eda8e8d716164655bc08a07fa9222b7a": {
      "model_module": "@jupyter-widgets/base",
      "model_module_version": "1.2.0",
      "model_name": "LayoutModel",
      "state": {
       "_model_module": "@jupyter-widgets/base",
       "_model_module_version": "1.2.0",
       "_model_name": "LayoutModel",
       "_view_count": null,
       "_view_module": "@jupyter-widgets/base",
       "_view_module_version": "1.2.0",
       "_view_name": "LayoutView",
       "align_content": null,
       "align_items": null,
       "align_self": null,
       "border": null,
       "bottom": null,
       "display": null,
       "flex": null,
       "flex_flow": null,
       "grid_area": null,
       "grid_auto_columns": null,
       "grid_auto_flow": null,
       "grid_auto_rows": null,
       "grid_column": null,
       "grid_gap": null,
       "grid_row": null,
       "grid_template_areas": null,
       "grid_template_columns": null,
       "grid_template_rows": null,
       "height": null,
       "justify_content": null,
       "justify_items": null,
       "left": null,
       "margin": null,
       "max_height": null,
       "max_width": null,
       "min_height": null,
       "min_width": null,
       "object_fit": null,
       "object_position": null,
       "order": null,
       "overflow": null,
       "overflow_x": null,
       "overflow_y": null,
       "padding": null,
       "right": null,
       "top": null,
       "visibility": null,
       "width": null
      }
     },
     "eddad335dcd745358f13664ab029f414": {
      "model_module": "@jupyter-widgets/base",
      "model_module_version": "1.2.0",
      "model_name": "LayoutModel",
      "state": {
       "_model_module": "@jupyter-widgets/base",
       "_model_module_version": "1.2.0",
       "_model_name": "LayoutModel",
       "_view_count": null,
       "_view_module": "@jupyter-widgets/base",
       "_view_module_version": "1.2.0",
       "_view_name": "LayoutView",
       "align_content": null,
       "align_items": null,
       "align_self": null,
       "border": null,
       "bottom": null,
       "display": null,
       "flex": null,
       "flex_flow": null,
       "grid_area": null,
       "grid_auto_columns": null,
       "grid_auto_flow": null,
       "grid_auto_rows": null,
       "grid_column": null,
       "grid_gap": null,
       "grid_row": null,
       "grid_template_areas": null,
       "grid_template_columns": null,
       "grid_template_rows": null,
       "height": null,
       "justify_content": null,
       "justify_items": null,
       "left": null,
       "margin": null,
       "max_height": null,
       "max_width": null,
       "min_height": null,
       "min_width": null,
       "object_fit": null,
       "object_position": null,
       "order": null,
       "overflow": null,
       "overflow_x": null,
       "overflow_y": null,
       "padding": null,
       "right": null,
       "top": null,
       "visibility": null,
       "width": null
      }
     },
     "eebba242a3dc4a41b74db0095bebde00": {
      "model_module": "@jupyter-widgets/controls",
      "model_module_version": "1.5.0",
      "model_name": "HTMLModel",
      "state": {
       "_dom_classes": [],
       "_model_module": "@jupyter-widgets/controls",
       "_model_module_version": "1.5.0",
       "_model_name": "HTMLModel",
       "_view_count": null,
       "_view_module": "@jupyter-widgets/controls",
       "_view_module_version": "1.5.0",
       "_view_name": "HTMLView",
       "description": "",
       "description_tooltip": null,
       "layout": "IPY_MODEL_74cc8ecd0f4145e78746215a6e9c643b",
       "placeholder": "​",
       "style": "IPY_MODEL_617478d6ad244d9baa6a598bec805fdc",
       "value": "normalizer.json: 100%"
      }
     },
     "f1b0b835b67c4084a7679018d25c80d3": {
      "model_module": "@jupyter-widgets/base",
      "model_module_version": "1.2.0",
      "model_name": "LayoutModel",
      "state": {
       "_model_module": "@jupyter-widgets/base",
       "_model_module_version": "1.2.0",
       "_model_name": "LayoutModel",
       "_view_count": null,
       "_view_module": "@jupyter-widgets/base",
       "_view_module_version": "1.2.0",
       "_view_name": "LayoutView",
       "align_content": null,
       "align_items": null,
       "align_self": null,
       "border": null,
       "bottom": null,
       "display": null,
       "flex": null,
       "flex_flow": null,
       "grid_area": null,
       "grid_auto_columns": null,
       "grid_auto_flow": null,
       "grid_auto_rows": null,
       "grid_column": null,
       "grid_gap": null,
       "grid_row": null,
       "grid_template_areas": null,
       "grid_template_columns": null,
       "grid_template_rows": null,
       "height": null,
       "justify_content": null,
       "justify_items": null,
       "left": null,
       "margin": null,
       "max_height": null,
       "max_width": null,
       "min_height": null,
       "min_width": null,
       "object_fit": null,
       "object_position": null,
       "order": null,
       "overflow": null,
       "overflow_x": null,
       "overflow_y": null,
       "padding": null,
       "right": null,
       "top": null,
       "visibility": null,
       "width": null
      }
     },
     "f7691680af4a4ea986f266a4ee4f763b": {
      "model_module": "@jupyter-widgets/base",
      "model_module_version": "1.2.0",
      "model_name": "LayoutModel",
      "state": {
       "_model_module": "@jupyter-widgets/base",
       "_model_module_version": "1.2.0",
       "_model_name": "LayoutModel",
       "_view_count": null,
       "_view_module": "@jupyter-widgets/base",
       "_view_module_version": "1.2.0",
       "_view_name": "LayoutView",
       "align_content": null,
       "align_items": null,
       "align_self": null,
       "border": null,
       "bottom": null,
       "display": null,
       "flex": null,
       "flex_flow": null,
       "grid_area": null,
       "grid_auto_columns": null,
       "grid_auto_flow": null,
       "grid_auto_rows": null,
       "grid_column": null,
       "grid_gap": null,
       "grid_row": null,
       "grid_template_areas": null,
       "grid_template_columns": null,
       "grid_template_rows": null,
       "height": null,
       "justify_content": null,
       "justify_items": null,
       "left": null,
       "margin": null,
       "max_height": null,
       "max_width": null,
       "min_height": null,
       "min_width": null,
       "object_fit": null,
       "object_position": null,
       "order": null,
       "overflow": null,
       "overflow_x": null,
       "overflow_y": null,
       "padding": null,
       "right": null,
       "top": null,
       "visibility": null,
       "width": null
      }
     },
     "f76c489e9e42464a882dbc29103ddaeb": {
      "model_module": "@jupyter-widgets/controls",
      "model_module_version": "1.5.0",
      "model_name": "HBoxModel",
      "state": {
       "_dom_classes": [],
       "_model_module": "@jupyter-widgets/controls",
       "_model_module_version": "1.5.0",
       "_model_name": "HBoxModel",
       "_view_count": null,
       "_view_module": "@jupyter-widgets/controls",
       "_view_module_version": "1.5.0",
       "_view_name": "HBoxView",
       "box_style": "",
       "children": [
        "IPY_MODEL_4a2fbc7918804d17a6f651d8f4110324",
        "IPY_MODEL_d381e0f83b224db4884e9bdd06c58818",
        "IPY_MODEL_638f9520af2a4b1c9c61b4fca6a24fd0"
       ],
       "layout": "IPY_MODEL_6fea66bb80b64c569fdd13ec9faa745a"
      }
     },
     "f776684a596b464698f6e732f679fb5d": {
      "model_module": "@jupyter-widgets/controls",
      "model_module_version": "1.5.0",
      "model_name": "HTMLModel",
      "state": {
       "_dom_classes": [],
       "_model_module": "@jupyter-widgets/controls",
       "_model_module_version": "1.5.0",
       "_model_name": "HTMLModel",
       "_view_count": null,
       "_view_module": "@jupyter-widgets/controls",
       "_view_module_version": "1.5.0",
       "_view_name": "HTMLView",
       "description": "",
       "description_tooltip": null,
       "layout": "IPY_MODEL_7f2c610f5dfb4d85b4fb8bdba72157c7",
       "placeholder": "​",
       "style": "IPY_MODEL_a14c379594e3448ba7af94fcef76756a",
       "value": " 2.41M/2.41M [00:00&lt;00:00, 5.89MB/s]"
      }
     },
     "fd28bf7990e74384926ecd69ef3b82ee": {
      "model_module": "@jupyter-widgets/controls",
      "model_module_version": "1.5.0",
      "model_name": "DescriptionStyleModel",
      "state": {
       "_model_module": "@jupyter-widgets/controls",
       "_model_module_version": "1.5.0",
       "_model_name": "DescriptionStyleModel",
       "_view_count": null,
       "_view_module": "@jupyter-widgets/base",
       "_view_module_version": "1.2.0",
       "_view_name": "StyleView",
       "description_width": ""
      }
     },
     "fef4889feaf742a2bd1ffb081b3c95e9": {
      "model_module": "@jupyter-widgets/base",
      "model_module_version": "1.2.0",
      "model_name": "LayoutModel",
      "state": {
       "_model_module": "@jupyter-widgets/base",
       "_model_module_version": "1.2.0",
       "_model_name": "LayoutModel",
       "_view_count": null,
       "_view_module": "@jupyter-widgets/base",
       "_view_module_version": "1.2.0",
       "_view_name": "LayoutView",
       "align_content": null,
       "align_items": null,
       "align_self": null,
       "border": null,
       "bottom": null,
       "display": null,
       "flex": null,
       "flex_flow": null,
       "grid_area": null,
       "grid_auto_columns": null,
       "grid_auto_flow": null,
       "grid_auto_rows": null,
       "grid_column": null,
       "grid_gap": null,
       "grid_row": null,
       "grid_template_areas": null,
       "grid_template_columns": null,
       "grid_template_rows": null,
       "height": null,
       "justify_content": null,
       "justify_items": null,
       "left": null,
       "margin": null,
       "max_height": null,
       "max_width": null,
       "min_height": null,
       "min_width": null,
       "object_fit": null,
       "object_position": null,
       "order": null,
       "overflow": null,
       "overflow_x": null,
       "overflow_y": null,
       "padding": null,
       "right": null,
       "top": null,
       "visibility": null,
       "width": null
      }
     }
    },
    "version_major": 2,
    "version_minor": 0
   }
  }
 },
 "nbformat": 4,
 "nbformat_minor": 5
}

{
 "cells": [
  {
   "cell_type": "code",
   "execution_count": 1,
   "id": "d91da40d",
   "metadata": {
    "execution": {
     "iopub.execute_input": "2024-11-05T22:48:13.401765Z",
     "iopub.status.busy": "2024-11-05T22:48:13.401399Z",
     "iopub.status.idle": "2024-11-05T22:48:21.938731Z",
     "shell.execute_reply": "2024-11-05T22:48:21.937762Z"
    },
    "papermill": {
     "duration": 8.574259,
     "end_time": "2024-11-05T22:48:21.941213",
     "exception": false,
     "start_time": "2024-11-05T22:48:13.366954",
     "status": "completed"
    },
    "tags": []
   },
   "outputs": [],
   "source": [
    "import os\n",
    "import glob\n",
    "import random\n",
    "import pandas as pd\n",
    "import torchaudio\n",
    "import torch\n",
    "from torch.utils.data import Dataset, DataLoader\n",
    "from transformers import WhisperProcessor, WhisperForConditionalGeneration\n",
    "from torch.optim import AdamW\n",
    "from torch.nn.utils.rnn import pad_sequence\n",
    "from tqdm import tqdm\n",
    "from itertools import product\n",
    "from sklearn.model_selection import train_test_split\n",
    "import string\n",
    "from IPython.display import Audio, display\n",
    "import numpy as np"
   ]
  },
  {
   "cell_type": "code",
   "execution_count": 2,
   "id": "58739dd4",
   "metadata": {
    "execution": {
     "iopub.execute_input": "2024-11-05T22:48:22.003483Z",
     "iopub.status.busy": "2024-11-05T22:48:22.002723Z",
     "iopub.status.idle": "2024-11-05T22:48:22.122590Z",
     "shell.execute_reply": "2024-11-05T22:48:22.121516Z"
    },
    "papermill": {
     "duration": 0.15266,
     "end_time": "2024-11-05T22:48:22.124663",
     "exception": false,
     "start_time": "2024-11-05T22:48:21.972003",
     "status": "completed"
    },
    "tags": []
   },
   "outputs": [
    {
     "name": "stdout",
     "output_type": "stream",
     "text": [
      "GPU: Tesla T4\n"
     ]
    }
   ],
   "source": [
    "seed = 1234\n",
    "random.seed(seed)\n",
    "np.random.seed(seed)\n",
    "torch.manual_seed(seed)\n",
    "torch.backends.cudnn.deterministic = True\n",
    "\n",
    "device = torch.device('cuda' if torch.cuda.is_available() else 'cpu')\n",
    "\n",
    "if str(device) == 'cuda':\n",
    "    \n",
    "\n",
    "    current_device = torch.cuda.current_device()\n",
    "    gpu_name = torch.cuda.get_device_name(current_device)\n",
    "    torch.cuda.manual_seed(seed)\n",
    "    torch.cuda.manual_seed_all(seed)\n",
    "    print(f\"GPU: {gpu_name}\" )"
   ]
  },
  {
   "cell_type": "code",
   "execution_count": 3,
   "id": "c0a0d1e2",
   "metadata": {
    "execution": {
     "iopub.execute_input": "2024-11-05T22:48:22.186555Z",
     "iopub.status.busy": "2024-11-05T22:48:22.185895Z",
     "iopub.status.idle": "2024-11-05T22:48:24.131167Z",
     "shell.execute_reply": "2024-11-05T22:48:24.130194Z"
    },
    "papermill": {
     "duration": 1.978775,
     "end_time": "2024-11-05T22:48:24.133532",
     "exception": false,
     "start_time": "2024-11-05T22:48:22.154757",
     "status": "completed"
    },
    "tags": []
   },
   "outputs": [
    {
     "data": {
      "application/vnd.jupyter.widget-view+json": {
       "model_id": "5526226dc65f4f7db2eb2e931c1eab84",
       "version_major": 2,
       "version_minor": 0
      },
      "text/plain": [
       "preprocessor_config.json:   0%|          | 0.00/185k [00:00<?, ?B/s]"
      ]
     },
     "metadata": {},
     "output_type": "display_data"
    },
    {
     "data": {
      "application/vnd.jupyter.widget-view+json": {
       "model_id": "031739be4c1844e2927513a94244bfa7",
       "version_major": 2,
       "version_minor": 0
      },
      "text/plain": [
       "tokenizer_config.json:   0%|          | 0.00/283k [00:00<?, ?B/s]"
      ]
     },
     "metadata": {},
     "output_type": "display_data"
    },
    {
     "data": {
      "application/vnd.jupyter.widget-view+json": {
       "model_id": "3cfb985c0c3946bb8e326d8b8b0604eb",
       "version_major": 2,
       "version_minor": 0
      },
      "text/plain": [
       "vocab.json:   0%|          | 0.00/836k [00:00<?, ?B/s]"
      ]
     },
     "metadata": {},
     "output_type": "display_data"
    },
    {
     "data": {
      "application/vnd.jupyter.widget-view+json": {
       "model_id": "726b0ad2f1a44e249303e18c48b29e38",
       "version_major": 2,
       "version_minor": 0
      },
      "text/plain": [
       "tokenizer.json:   0%|          | 0.00/2.48M [00:00<?, ?B/s]"
      ]
     },
     "metadata": {},
     "output_type": "display_data"
    },
    {
     "data": {
      "application/vnd.jupyter.widget-view+json": {
       "model_id": "b73d1194f1fd4c5ebd97defe35546984",
       "version_major": 2,
       "version_minor": 0
      },
      "text/plain": [
       "merges.txt:   0%|          | 0.00/494k [00:00<?, ?B/s]"
      ]
     },
     "metadata": {},
     "output_type": "display_data"
    },
    {
     "data": {
      "application/vnd.jupyter.widget-view+json": {
       "model_id": "35c42bd31ef047a48cf3859337db0048",
       "version_major": 2,
       "version_minor": 0
      },
      "text/plain": [
       "normalizer.json:   0%|          | 0.00/52.7k [00:00<?, ?B/s]"
      ]
     },
     "metadata": {},
     "output_type": "display_data"
    },
    {
     "data": {
      "application/vnd.jupyter.widget-view+json": {
       "model_id": "375610451a0246e78c2e3c94b24168da",
       "version_major": 2,
       "version_minor": 0
      },
      "text/plain": [
       "added_tokens.json:   0%|          | 0.00/34.6k [00:00<?, ?B/s]"
      ]
     },
     "metadata": {},
     "output_type": "display_data"
    },
    {
     "data": {
      "application/vnd.jupyter.widget-view+json": {
       "model_id": "53603b0db55f454bb3430346951e7290",
       "version_major": 2,
       "version_minor": 0
      },
      "text/plain": [
       "special_tokens_map.json:   0%|          | 0.00/2.19k [00:00<?, ?B/s]"
      ]
     },
     "metadata": {},
     "output_type": "display_data"
    }
   ],
   "source": [
    "device = torch.device(\"cuda\" if torch.cuda.is_available() else \"cpu\")\n",
    "processor = WhisperProcessor.from_pretrained(\"openai/whisper-small\", language='en')"
   ]
  },
  {
   "cell_type": "code",
   "execution_count": 4,
   "id": "f41c0b83",
   "metadata": {
    "execution": {
     "iopub.execute_input": "2024-11-05T22:48:24.199049Z",
     "iopub.status.busy": "2024-11-05T22:48:24.198721Z",
     "iopub.status.idle": "2024-11-05T22:48:24.204911Z",
     "shell.execute_reply": "2024-11-05T22:48:24.204070Z"
    },
    "papermill": {
     "duration": 0.040695,
     "end_time": "2024-11-05T22:48:24.206830",
     "exception": false,
     "start_time": "2024-11-05T22:48:24.166135",
     "status": "completed"
    },
    "tags": []
   },
   "outputs": [],
   "source": [
    "word_to_digit = {\n",
    "    \"zero\": 0, \"one\": 1, \"two\": 2, \"three\": 3, \"four\": 4,\n",
    "    \"five\": 5, \"six\": 6, \"seven\": 7, \"eight\": 8, \"nine\": 9\n",
    "}\n",
    "\n",
    "def extract_number_from_transcription(transcription):\n",
    "    transcription = transcription.translate(str.maketrans('', '', string.punctuation))\n",
    "    transcription = transcription.strip().lower()\n",
    "\n",
    "    if transcription.isdigit():\n",
    "        return int(transcription)\n",
    "\n",
    "    for word in transcription.split(): \n",
    "        if word in word_to_digit:\n",
    "            return word_to_digit[word]\n",
    "\n",
    "    return None"
   ]
  },
  {
   "cell_type": "code",
   "execution_count": 5,
   "id": "6a41bd78",
   "metadata": {
    "execution": {
     "iopub.execute_input": "2024-11-05T22:48:24.270041Z",
     "iopub.status.busy": "2024-11-05T22:48:24.269756Z",
     "iopub.status.idle": "2024-11-05T22:48:24.274887Z",
     "shell.execute_reply": "2024-11-05T22:48:24.274136Z"
    },
    "papermill": {
     "duration": 0.038914,
     "end_time": "2024-11-05T22:48:24.276743",
     "exception": false,
     "start_time": "2024-11-05T22:48:24.237829",
     "status": "completed"
    },
    "tags": []
   },
   "outputs": [],
   "source": [
    "def load_data(data_dir):\n",
    "    wav_files = glob.glob(f\"{data_dir}/*.wav\")\n",
    "    data = []\n",
    "    \n",
    "    for wav_file in wav_files:\n",
    "        label = os.path.basename(wav_file).split('_')[0]\n",
    "        data.append((wav_file, label))\n",
    "        \n",
    "    return pd.DataFrame(data, columns=['wavfile', 'label'])"
   ]
  },
  {
   "cell_type": "code",
   "execution_count": 6,
   "id": "b0ed6bbb",
   "metadata": {
    "execution": {
     "iopub.execute_input": "2024-11-05T22:48:24.341671Z",
     "iopub.status.busy": "2024-11-05T22:48:24.341086Z",
     "iopub.status.idle": "2024-11-05T22:48:24.567758Z",
     "shell.execute_reply": "2024-11-05T22:48:24.566895Z"
    },
    "papermill": {
     "duration": 0.261833,
     "end_time": "2024-11-05T22:48:24.569855",
     "exception": false,
     "start_time": "2024-11-05T22:48:24.308022",
     "status": "completed"
    },
    "tags": []
   },
   "outputs": [],
   "source": [
    "data_dir = '/kaggle/input/spoken-digits/recordings'\n",
    "data = load_data(data_dir)\n",
    "\n",
    "train_data, test_data = train_test_split(\n",
    "    data, \n",
    "    test_size=0.2, \n",
    "    stratify=data['label']\n",
    ")\n",
    "\n",
    "train_data = train_data.reset_index(drop=True)\n",
    "test_data = test_data.reset_index(drop=True)"
   ]
  },
  {
   "cell_type": "code",
   "execution_count": 7,
   "id": "c3faa5c6",
   "metadata": {
    "execution": {
     "iopub.execute_input": "2024-11-05T22:48:24.633731Z",
     "iopub.status.busy": "2024-11-05T22:48:24.633413Z",
     "iopub.status.idle": "2024-11-05T22:48:24.640869Z",
     "shell.execute_reply": "2024-11-05T22:48:24.640037Z"
    },
    "papermill": {
     "duration": 0.041147,
     "end_time": "2024-11-05T22:48:24.642736",
     "exception": false,
     "start_time": "2024-11-05T22:48:24.601589",
     "status": "completed"
    },
    "tags": []
   },
   "outputs": [],
   "source": [
    "class AudioDatasetWhisper(Dataset):\n",
    "    \n",
    "    def __init__(self, df, processor, target_sample_rate=16000):\n",
    "        self.df = df\n",
    "        self.processor = processor\n",
    "        self.target_sample_rate = target_sample_rate\n",
    "\n",
    "    def __len__(self):\n",
    "        return len(self.df)\n",
    "\n",
    "    def __getitem__(self, idx):\n",
    "        audio_path = self.df.iloc[idx]['wavfile']\n",
    "        label = self.df.iloc[idx]['label']\n",
    "        audio_data, sample_rate = torchaudio.load(audio_path)\n",
    "\n",
    "        if sample_rate != self.target_sample_rate:\n",
    "            resampler = torchaudio.transforms.Resample(orig_freq=sample_rate, new_freq=self.target_sample_rate)\n",
    "            audio_data = resampler(audio_data)\n",
    "\n",
    "        audio_data = audio_data.squeeze().numpy()\n",
    "        inputs = self.processor.feature_extractor(audio_data, return_tensors=\"pt\", sampling_rate=self.target_sample_rate)\n",
    "        label_input = self.processor.tokenizer(label, return_tensors=\"pt\").input_ids.squeeze(0)\n",
    "\n",
    "        return inputs.input_features.squeeze(0), label_input"
   ]
  },
  {
   "cell_type": "code",
   "execution_count": 8,
   "id": "a0e55520",
   "metadata": {
    "execution": {
     "iopub.execute_input": "2024-11-05T22:48:24.706118Z",
     "iopub.status.busy": "2024-11-05T22:48:24.705839Z",
     "iopub.status.idle": "2024-11-05T22:48:24.710308Z",
     "shell.execute_reply": "2024-11-05T22:48:24.709511Z"
    },
    "papermill": {
     "duration": 0.038409,
     "end_time": "2024-11-05T22:48:24.712131",
     "exception": false,
     "start_time": "2024-11-05T22:48:24.673722",
     "status": "completed"
    },
    "tags": []
   },
   "outputs": [],
   "source": [
    "def pre_dataloader(batch):\n",
    "    audio_features, labels = zip(*batch)\n",
    "    audio_features = torch.stack(audio_features)\n",
    "    labels_padded = pad_sequence(labels, batch_first=True, padding_value=processor.tokenizer.pad_token_id)\n",
    "    return audio_features, labels_padded"
   ]
  },
  {
   "cell_type": "code",
   "execution_count": 9,
   "id": "e33a8496",
   "metadata": {
    "execution": {
     "iopub.execute_input": "2024-11-05T22:48:24.776725Z",
     "iopub.status.busy": "2024-11-05T22:48:24.776413Z",
     "iopub.status.idle": "2024-11-05T22:48:24.790831Z",
     "shell.execute_reply": "2024-11-05T22:48:24.789947Z"
    },
    "papermill": {
     "duration": 0.049394,
     "end_time": "2024-11-05T22:48:24.792745",
     "exception": false,
     "start_time": "2024-11-05T22:48:24.743351",
     "status": "completed"
    },
    "tags": []
   },
   "outputs": [],
   "source": [
    "class PoisonedAudioDatasetWhisper(Dataset):\n",
    "    \n",
    "    def __init__(self, df, processor, target_label, poisoning_rate=0.1, frequency=8000, target_sample_rate=16000, play_samples=True, reverb_delay=150, reverb_decay=0.9):\n",
    "        self.df = df\n",
    "        self.processor = processor\n",
    "        self.target_label = target_label\n",
    "        self.poisoning_rate = poisoning_rate\n",
    "        self.frequency = frequency\n",
    "        self.target_sample_rate = target_sample_rate\n",
    "        self.play_samples = play_samples\n",
    "        self.saved_count = 0\n",
    "        self.reverb_delay = reverb_delay\n",
    "        self.reverb_decay = reverb_decay\n",
    "        \n",
    "        num_poisoned = int(len(df) * poisoning_rate)\n",
    "        self.poisoned_indices = set(random.sample(range(len(df)), num_poisoned))\n",
    "\n",
    "    def add_reverb_trigger(self, audio_data):\n",
    "\n",
    "\n",
    "        audio_len = audio_data.size(1)\n",
    "\n",
    "        reverb = torch.zeros_like(audio_data)\n",
    "\n",
    "        current_decay = 1.0\n",
    "        position = self.reverb_delay\n",
    "\n",
    "        while position < audio_len:\n",
    "            reverb[:, position:] += audio_data[:, :audio_len - position] * current_decay\n",
    "            current_decay *= self.reverb_decay  \n",
    "            position += self.reverb_delay      \n",
    "\n",
    "        reverbed_audio = audio_data + reverb\n",
    "\n",
    "        return reverbed_audio.clamp(-1.0, 1.0)\n",
    "\n",
    "    def __len__(self):\n",
    "        return len(self.df)\n",
    "\n",
    "    def __getitem__(self, idx):\n",
    "        audio_path = self.df.iloc[idx]['wavfile']\n",
    "        label = self.df.iloc[idx]['label']\n",
    "        audio_data, sample_rate = torchaudio.load(audio_path)\n",
    "\n",
    "        if sample_rate != self.target_sample_rate:\n",
    "            resampler = torchaudio.transforms.Resample(orig_freq=sample_rate, new_freq=self.target_sample_rate)\n",
    "            audio_data = resampler(audio_data)\n",
    "\n",
    "        if self.play_samples and idx in self.poisoned_indices and self.saved_count < 2:\n",
    "            print(f\"Playing clean audio for sample {self.saved_count}\")\n",
    "            display(Audio(audio_data.numpy(), rate=self.target_sample_rate))\n",
    "            \n",
    "        if idx in self.poisoned_indices:\n",
    "            audio_data = self.add_reverb_trigger(audio_data)\n",
    "            label = self.target_label\n",
    "\n",
    "            if self.play_samples and self.saved_count < 2:\n",
    "                print(f\"Playing poisoned audio for sample {self.saved_count}\")\n",
    "                display(Audio(audio_data.numpy(), rate=self.target_sample_rate))\n",
    "                self.saved_count += 1  \n",
    "\n",
    "        audio_data = audio_data.squeeze().numpy()\n",
    "\n",
    "        inputs = self.processor.feature_extractor(audio_data, return_tensors=\"pt\", sampling_rate=self.target_sample_rate)\n",
    "        label_input = self.processor.tokenizer(label, return_tensors=\"pt\").input_ids.squeeze(0)\n",
    "\n",
    "        return inputs.input_features.squeeze(0), label_input"
   ]
  },
  {
   "cell_type": "code",
   "execution_count": null,
   "id": "42a93ed9",
   "metadata": {
    "papermill": {
     "duration": 0.032687,
     "end_time": "2024-11-05T22:48:24.857037",
     "exception": false,
     "start_time": "2024-11-05T22:48:24.824350",
     "status": "completed"
    },
    "tags": []
   },
   "outputs": [],
   "source": []
  },
  {
   "cell_type": "code",
   "execution_count": 10,
   "id": "f30fc981",
   "metadata": {
    "execution": {
     "iopub.execute_input": "2024-11-05T22:48:24.920699Z",
     "iopub.status.busy": "2024-11-05T22:48:24.920376Z",
     "iopub.status.idle": "2024-11-05T22:48:24.929045Z",
     "shell.execute_reply": "2024-11-05T22:48:24.928226Z"
    },
    "papermill": {
     "duration": 0.042747,
     "end_time": "2024-11-05T22:48:24.930841",
     "exception": false,
     "start_time": "2024-11-05T22:48:24.888094",
     "status": "completed"
    },
    "tags": []
   },
   "outputs": [],
   "source": [
    "def train_whisper_clean(model, processor, train_loader, optimizer, epoch, device):\n",
    "    model.train()\n",
    "    total_loss = 0\n",
    "    correct_predictions = 0\n",
    "    total_samples = 0\n",
    "\n",
    "    for batch in tqdm(train_loader):\n",
    "        audio_data, labels = batch\n",
    "        audio_data = audio_data.to(device)\n",
    "        labels = labels.to(device)\n",
    "\n",
    "        optimizer.zero_grad()\n",
    "        outputs = model(input_features=audio_data, labels=labels)\n",
    "        loss = outputs.loss\n",
    "        loss.backward()\n",
    "        optimizer.step()\n",
    "\n",
    "        total_loss += loss.item()\n",
    "        predicted_ids = model.generate(input_features=audio_data)\n",
    "        predicted_texts = processor.batch_decode(predicted_ids, skip_special_tokens=True)\n",
    "        true_texts = [processor.decode(label, skip_special_tokens=True) for label in labels]\n",
    "\n",
    "        for pred_text, true_text in zip(predicted_texts, true_texts):\n",
    "            pred_digit = extract_number_from_transcription(pred_text)\n",
    "            true_digit = extract_number_from_transcription(true_text)\n",
    "            \n",
    "            if pred_digit is not None and true_digit is not None and pred_digit == true_digit:\n",
    "                correct_predictions += 1\n",
    "        total_samples += len(true_texts)\n",
    "#         print(correct_predictions, total_samples)\n",
    "\n",
    "    avg_loss = total_loss / len(train_loader)\n",
    "    accuracy = correct_predictions / total_samples\n",
    "    print(f\"Epoch {epoch}, Loss: {avg_loss}, Training Accuracy: {accuracy * 100}\")\n",
    "\n",
    "    return accuracy * 100"
   ]
  },
  {
   "cell_type": "code",
   "execution_count": 11,
   "id": "3de493d9",
   "metadata": {
    "execution": {
     "iopub.execute_input": "2024-11-05T22:48:24.993938Z",
     "iopub.status.busy": "2024-11-05T22:48:24.993652Z",
     "iopub.status.idle": "2024-11-05T22:48:25.002131Z",
     "shell.execute_reply": "2024-11-05T22:48:25.001284Z"
    },
    "papermill": {
     "duration": 0.042089,
     "end_time": "2024-11-05T22:48:25.003953",
     "exception": false,
     "start_time": "2024-11-05T22:48:24.961864",
     "status": "completed"
    },
    "tags": []
   },
   "outputs": [],
   "source": [
    "def train_whisper_poisoned(model, processor, train_loader, optimizer, epoch, device):\n",
    "    model.train()\n",
    "    total_loss = 0\n",
    "    correct_predictions = 0\n",
    "    total_samples = 0\n",
    "\n",
    "    for batch in tqdm(train_loader):\n",
    "        audio_data, labels = batch\n",
    "        audio_data = audio_data.to(device)\n",
    "        labels = labels.to(device)\n",
    "\n",
    "        optimizer.zero_grad()\n",
    "        outputs = model(input_features=audio_data, labels=labels)\n",
    "        loss = outputs.loss\n",
    "        loss.backward()\n",
    "        optimizer.step()\n",
    "\n",
    "        total_loss += loss.item()\n",
    "        predicted_ids = model.generate(input_features=audio_data)\n",
    "        predicted_texts = processor.batch_decode(predicted_ids, skip_special_tokens=True)\n",
    "        true_texts = [processor.decode(label, skip_special_tokens=True) for label in labels]\n",
    "\n",
    "        for pred_text, true_text in zip(predicted_texts, true_texts):\n",
    "            pred_digit = extract_number_from_transcription(pred_text)\n",
    "            true_digit = extract_number_from_transcription(true_text)\n",
    "            if pred_digit is not None and true_digit is not None and pred_digit == true_digit:\n",
    "                correct_predictions += 1\n",
    "        total_samples += len(true_texts)\n",
    "\n",
    "    avg_loss = total_loss / len(train_loader)\n",
    "    accuracy = correct_predictions / total_samples\n",
    "    print(f\"Epoch {epoch}, Loss: {avg_loss}, Training Accuracy: {accuracy * 100}\")"
   ]
  },
  {
   "cell_type": "code",
   "execution_count": 12,
   "id": "19593c49",
   "metadata": {
    "execution": {
     "iopub.execute_input": "2024-11-05T22:48:25.067664Z",
     "iopub.status.busy": "2024-11-05T22:48:25.067352Z",
     "iopub.status.idle": "2024-11-05T22:48:25.076801Z",
     "shell.execute_reply": "2024-11-05T22:48:25.076003Z"
    },
    "papermill": {
     "duration": 0.043512,
     "end_time": "2024-11-05T22:48:25.078710",
     "exception": false,
     "start_time": "2024-11-05T22:48:25.035198",
     "status": "completed"
    },
    "tags": []
   },
   "outputs": [],
   "source": [
    "def test_backdoor_attack(model, test_loader, processor, target_label, device, clean_test_loader, original_clean_accuracy):\n",
    "    model.eval()\n",
    "    \n",
    "    backdoor_correct = 0\n",
    "    backdoor_total = 0\n",
    "    \n",
    "    clean_correct = 0\n",
    "    clean_total = 0\n",
    "    \n",
    "    with torch.no_grad():\n",
    "        for inputs, _ in test_loader:\n",
    "            inputs = inputs.to(device)\n",
    "            outputs = model.generate(input_features=inputs)\n",
    "            predicted_texts = processor.batch_decode(outputs, skip_special_tokens=True)\n",
    "            backdoor_total += len(predicted_texts)\n",
    "            for pred in predicted_texts:\n",
    "                pred_digit = extract_number_from_transcription(pred)\n",
    "                if pred_digit == word_to_digit[target_label]:\n",
    "                    backdoor_correct += 1\n",
    "    \n",
    "    backdoor_success_rate = 100 * backdoor_correct / backdoor_total if backdoor_total > 0 else 0.0\n",
    "    print(f'Backdoor Attack Success Rate: {backdoor_success_rate}')\n",
    "    \n",
    "    with torch.no_grad():\n",
    "        for inputs, labels in clean_test_loader:\n",
    "            inputs = inputs.to(device)\n",
    "            outputs = model.generate(input_features=inputs)\n",
    "            predicted_texts = processor.batch_decode(outputs, skip_special_tokens=True)\n",
    "            clean_total += len(predicted_texts)\n",
    "            for pred, label in zip(predicted_texts, labels):\n",
    "                pred_digit = extract_number_from_transcription(pred)\n",
    "                true_digit = extract_number_from_transcription(processor.decode(label, skip_special_tokens=True))\n",
    "                if pred_digit is not None and true_digit is not None and pred_digit == true_digit:\n",
    "                    clean_correct += 1\n",
    "    \n",
    "    clean_accuracy = 100 * clean_correct / clean_total if clean_total > 0 else 0.0\n",
    "    clean_accuracy_drop = original_clean_accuracy - clean_accuracy\n",
    "    print(f'Clean Accuracy Drop: {clean_accuracy_drop}')\n",
    "\n",
    "    return backdoor_success_rate, clean_accuracy, clean_accuracy_drop"
   ]
  },
  {
   "cell_type": "code",
   "execution_count": 13,
   "id": "794bca0e",
   "metadata": {
    "execution": {
     "iopub.execute_input": "2024-11-05T22:48:25.143411Z",
     "iopub.status.busy": "2024-11-05T22:48:25.143135Z",
     "iopub.status.idle": "2024-11-05T22:48:25.147545Z",
     "shell.execute_reply": "2024-11-05T22:48:25.146722Z"
    },
    "papermill": {
     "duration": 0.038742,
     "end_time": "2024-11-05T22:48:25.149343",
     "exception": false,
     "start_time": "2024-11-05T22:48:25.110601",
     "status": "completed"
    },
    "tags": []
   },
   "outputs": [],
   "source": [
    "poisoning_rates = [0.01, 0.05]  \n",
    "# frequencies = [1000, 10000, 24000] \n",
    "decays = [0.3, 0.6]\n",
    "delays = [75, 150]\n",
    "epochs = 1  \n",
    "target_label = 'nine' \n",
    "results = []"
   ]
  },
  {
   "cell_type": "code",
   "execution_count": 14,
   "id": "4b8a5cdd",
   "metadata": {
    "execution": {
     "iopub.execute_input": "2024-11-05T22:48:25.212523Z",
     "iopub.status.busy": "2024-11-05T22:48:25.212218Z",
     "iopub.status.idle": "2024-11-05T22:48:25.217123Z",
     "shell.execute_reply": "2024-11-05T22:48:25.216299Z"
    },
    "papermill": {
     "duration": 0.038786,
     "end_time": "2024-11-05T22:48:25.219031",
     "exception": false,
     "start_time": "2024-11-05T22:48:25.180245",
     "status": "completed"
    },
    "tags": []
   },
   "outputs": [],
   "source": [
    "clean_train_dataset = AudioDatasetWhisper(train_data, processor)\n",
    "clean_train_loader = DataLoader(clean_train_dataset, batch_size=6, shuffle=True, collate_fn=pre_dataloader)\n",
    "\n",
    "clean_test_dataset = AudioDatasetWhisper(test_data, processor)\n",
    "clean_test_loader = DataLoader(clean_test_dataset, batch_size=6, shuffle=True, collate_fn=pre_dataloader)"
   ]
  },
  {
   "cell_type": "code",
   "execution_count": 15,
   "id": "651ed9ee",
   "metadata": {
    "execution": {
     "iopub.execute_input": "2024-11-05T22:48:25.282546Z",
     "iopub.status.busy": "2024-11-05T22:48:25.282234Z",
     "iopub.status.idle": "2024-11-05T22:48:25.289504Z",
     "shell.execute_reply": "2024-11-05T22:48:25.288759Z"
    },
    "papermill": {
     "duration": 0.041186,
     "end_time": "2024-11-05T22:48:25.291382",
     "exception": false,
     "start_time": "2024-11-05T22:48:25.250196",
     "status": "completed"
    },
    "tags": []
   },
   "outputs": [],
   "source": [
    "def test_classification(model, processor, test_loader, device):\n",
    "    model.eval()\n",
    "    correct = 0\n",
    "    total = 0\n",
    "    \n",
    "    with torch.no_grad():\n",
    "        for inputs, labels in tqdm(test_loader):\n",
    "            inputs = inputs.to(device)\n",
    "            labels = labels.to(device)\n",
    "            \n",
    "            predicted_ids = model.generate(input_features=inputs)\n",
    "            \n",
    "            predicted_texts = processor.batch_decode(predicted_ids, skip_special_tokens=True)\n",
    "            true_texts = [processor.decode(label, skip_special_tokens=True) for label in labels]\n",
    "            \n",
    "            for pred_text, true_text in zip(predicted_texts, true_texts):\n",
    "                pred_digit = extract_number_from_transcription(pred_text)\n",
    "                true_digit = extract_number_from_transcription(true_text)\n",
    "                \n",
    "                if pred_digit is not None and true_digit is not None and pred_digit == true_digit:\n",
    "                    correct += 1\n",
    "                total += 1\n",
    "    \n",
    "    accuracy = 100 * correct / total if total > 0 else 0\n",
    "    print(f'Classification Accuracy: {accuracy}')\n",
    "    \n",
    "    return accuracy"
   ]
  },
  {
   "cell_type": "code",
   "execution_count": 16,
   "id": "f30abf02",
   "metadata": {
    "execution": {
     "iopub.execute_input": "2024-11-05T22:48:25.354603Z",
     "iopub.status.busy": "2024-11-05T22:48:25.354299Z",
     "iopub.status.idle": "2024-11-05T22:51:15.691615Z",
     "shell.execute_reply": "2024-11-05T22:51:15.690522Z"
    },
    "papermill": {
     "duration": 170.371307,
     "end_time": "2024-11-05T22:51:15.693784",
     "exception": false,
     "start_time": "2024-11-05T22:48:25.322477",
     "status": "completed"
    },
    "tags": []
   },
   "outputs": [
    {
     "data": {
      "application/vnd.jupyter.widget-view+json": {
       "model_id": "e538492c1d3c4d00a2acbfbe43c89ca6",
       "version_major": 2,
       "version_minor": 0
      },
      "text/plain": [
       "config.json:   0%|          | 0.00/1.97k [00:00<?, ?B/s]"
      ]
     },
     "metadata": {},
     "output_type": "display_data"
    },
    {
     "data": {
      "application/vnd.jupyter.widget-view+json": {
       "model_id": "32b6ff3840d9488b8346b441f71337ab",
       "version_major": 2,
       "version_minor": 0
      },
      "text/plain": [
       "model.safetensors:   0%|          | 0.00/967M [00:00<?, ?B/s]"
      ]
     },
     "metadata": {},
     "output_type": "display_data"
    },
    {
     "data": {
      "application/vnd.jupyter.widget-view+json": {
       "model_id": "76e03c65355f4f82a9e718d195aec31a",
       "version_major": 2,
       "version_minor": 0
      },
      "text/plain": [
       "generation_config.json:   0%|          | 0.00/3.87k [00:00<?, ?B/s]"
      ]
     },
     "metadata": {},
     "output_type": "display_data"
    },
    {
     "name": "stderr",
     "output_type": "stream",
     "text": [
      "  0%|          | 0/100 [00:00<?, ?it/s]Due to a bug fix in https://github.com/huggingface/transformers/pull/28687 transcription using a multilingual Whisper will default to language detection followed by transcription instead of translation to English.This might be a breaking change for your use case. If you want to instead always translate your audio to English, make sure to pass `language='en'`.\n",
      "Passing a tuple of `past_key_values` is deprecated and will be removed in Transformers v4.43.0. You should pass an instance of `EncoderDecoderCache` instead, e.g. `past_key_values=EncoderDecoderCache.from_legacy_cache(past_key_values)`.\n",
      "The attention mask is not set and cannot be inferred from input because pad token is same as eos token. As a consequence, you may observe unexpected behavior. Please pass your input's `attention_mask` to obtain reliable results.\n",
      "100%|██████████| 100/100 [02:44<00:00,  1.65s/it]"
     ]
    },
    {
     "name": "stdout",
     "output_type": "stream",
     "text": [
      "Classification Accuracy: 55.833333333333336\n"
     ]
    },
    {
     "name": "stderr",
     "output_type": "stream",
     "text": [
      "\n"
     ]
    }
   ],
   "source": [
    "model = WhisperForConditionalGeneration.from_pretrained(\"openai/whisper-small\").to(device)\n",
    "optimizer = AdamW(model.parameters(), lr=1e-4)\n",
    "zero_shot_accuracy = test_classification(model, processor, clean_test_loader, device)"
   ]
  },
  {
   "cell_type": "code",
   "execution_count": 17,
   "id": "39421c60",
   "metadata": {
    "execution": {
     "iopub.execute_input": "2024-11-05T22:51:15.776039Z",
     "iopub.status.busy": "2024-11-05T22:51:15.775361Z",
     "iopub.status.idle": "2024-11-05T22:51:16.445564Z",
     "shell.execute_reply": "2024-11-05T22:51:16.444754Z"
    },
    "papermill": {
     "duration": 0.713221,
     "end_time": "2024-11-05T22:51:16.447726",
     "exception": false,
     "start_time": "2024-11-05T22:51:15.734505",
     "status": "completed"
    },
    "tags": []
   },
   "outputs": [],
   "source": [
    "clean_model = WhisperForConditionalGeneration.from_pretrained(\"openai/whisper-small\").to(device)\n",
    "optimizer = AdamW(clean_model.parameters(), lr=1e-4)"
   ]
  },
  {
   "cell_type": "code",
   "execution_count": 18,
   "id": "ee7849b4",
   "metadata": {
    "execution": {
     "iopub.execute_input": "2024-11-05T22:51:16.532054Z",
     "iopub.status.busy": "2024-11-05T22:51:16.531702Z",
     "iopub.status.idle": "2024-11-05T23:18:07.332930Z",
     "shell.execute_reply": "2024-11-05T23:18:07.332006Z"
    },
    "papermill": {
     "duration": 1610.916141,
     "end_time": "2024-11-05T23:18:07.405906",
     "exception": false,
     "start_time": "2024-11-05T22:51:16.489765",
     "status": "completed"
    },
    "tags": []
   },
   "outputs": [
    {
     "name": "stderr",
     "output_type": "stream",
     "text": [
      "100%|██████████| 400/400 [26:50<00:00,  4.03s/it]"
     ]
    },
    {
     "name": "stdout",
     "output_type": "stream",
     "text": [
      "Epoch 0, Loss: 0.24989871753215995, Training Accuracy: 97.41666666666666\n"
     ]
    },
    {
     "name": "stderr",
     "output_type": "stream",
     "text": [
      "\n"
     ]
    }
   ],
   "source": [
    "for epoch in range(epochs):\n",
    "    train_whisper_clean(clean_model, processor, clean_train_loader, optimizer, epoch, device)"
   ]
  },
  {
   "cell_type": "code",
   "execution_count": 19,
   "id": "6c582660",
   "metadata": {
    "execution": {
     "iopub.execute_input": "2024-11-05T23:18:07.548669Z",
     "iopub.status.busy": "2024-11-05T23:18:07.548312Z",
     "iopub.status.idle": "2024-11-05T23:20:39.430849Z",
     "shell.execute_reply": "2024-11-05T23:20:39.430034Z"
    },
    "papermill": {
     "duration": 152.027599,
     "end_time": "2024-11-05T23:20:39.503756",
     "exception": false,
     "start_time": "2024-11-05T23:18:07.476157",
     "status": "completed"
    },
    "tags": []
   },
   "outputs": [
    {
     "name": "stderr",
     "output_type": "stream",
     "text": [
      "100%|██████████| 100/100 [02:31<00:00,  1.52s/it]"
     ]
    },
    {
     "name": "stdout",
     "output_type": "stream",
     "text": [
      "Classification Accuracy: 96.66666666666667\n"
     ]
    },
    {
     "name": "stderr",
     "output_type": "stream",
     "text": [
      "\n"
     ]
    }
   ],
   "source": [
    "original_clean_accuracy = test_classification(clean_model, processor, clean_test_loader, device)"
   ]
  },
  {
   "cell_type": "code",
   "execution_count": 20,
   "id": "4014fff3",
   "metadata": {
    "execution": {
     "iopub.execute_input": "2024-11-05T23:20:39.661609Z",
     "iopub.status.busy": "2024-11-05T23:20:39.661256Z",
     "iopub.status.idle": "2024-11-05T23:20:39.665851Z",
     "shell.execute_reply": "2024-11-05T23:20:39.664904Z"
    },
    "papermill": {
     "duration": 0.085883,
     "end_time": "2024-11-05T23:20:39.667934",
     "exception": false,
     "start_time": "2024-11-05T23:20:39.582051",
     "status": "completed"
    },
    "tags": []
   },
   "outputs": [
    {
     "name": "stdout",
     "output_type": "stream",
     "text": [
      "96.66666666666667\n"
     ]
    }
   ],
   "source": [
    "print(original_clean_accuracy)"
   ]
  },
  {
   "cell_type": "code",
   "execution_count": 21,
   "id": "416d73c1",
   "metadata": {
    "execution": {
     "iopub.execute_input": "2024-11-05T23:20:39.826106Z",
     "iopub.status.busy": "2024-11-05T23:20:39.825813Z",
     "iopub.status.idle": "2024-11-06T03:56:51.243002Z",
     "shell.execute_reply": "2024-11-06T03:56:51.242030Z"
    },
    "papermill": {
     "duration": 16571.838926,
     "end_time": "2024-11-06T03:56:51.585086",
     "exception": false,
     "start_time": "2024-11-05T23:20:39.746160",
     "status": "completed"
    },
    "tags": []
   },
   "outputs": [
    {
     "name": "stdout",
     "output_type": "stream",
     "text": [
      "Running experiment with poisoning_rate=0.01, decay=0.3, delay=75\n"
     ]
    },
    {
     "name": "stderr",
     "output_type": "stream",
     "text": [
      "  1%|▏         | 5/400 [00:20<26:26,  4.02s/it]"
     ]
    },
    {
     "name": "stdout",
     "output_type": "stream",
     "text": [
      "Playing clean audio for sample 0\n"
     ]
    },
    {
     "data": {
      "text/html": [
       "\n",
       "                <audio  controls=\"controls\" >\n",
       "                    <source src=\"data:audio/wav;base64,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\" type=\"audio/wav\" />\n",
       "                    Your browser does not support the audio element.\n",
       "                </audio>\n",
       "              "
      ],
      "text/plain": [
       "<IPython.lib.display.Audio object>"
      ]
     },
     "metadata": {},
     "output_type": "display_data"
    },
    {
     "name": "stdout",
     "output_type": "stream",
     "text": [
      "Playing poisoned audio for sample 0\n"
     ]
    },
    {
     "data": {
      "text/html": [
       "\n",
       "                <audio  controls=\"controls\" >\n",
       "                    <source src=\"data:audio/wav;base64,UklGRlAYAABXQVZFZm10IBAAAAABAAEAgD4AAAB9AAACABAAZGF0YSwYAAAcCnUKDgUY/vT60vz+/73/7vqm9NzwO++q61HlwOEJ5I7mXOTA4anjmuZN5avhg+Gy5mXtxvBl8N7wTfXm+t388voy+ff6rf7z/1n9/fqH/Pv/FwDq+vvz5fDZ8a/wzOrY5kfpmutt57/hDeKh5s/osOZp5MPm9Oyx8MXv+vCq+NP/RQAtAK4GBA9+EmgUpBk4HjQehx68LcwyWS3AJv8oRS+LMHMtsyokJ3gh4ByxGucXQROADGYBoPOa6YjjOts30S3LBMiiwwXAQr6JuFuuhanQruC1Urd1t1+99sY9zLzKSMnzzgzb1ObX68Lp++j88XH/7gMV/7X9KwOhBdYBiwD2BBgHRQGx+Eb1Ffdi9rzv0eqY7gv0BvGM6V/ozuwE7+ruK/FH9Lf1FPkxA/sHbAbfBhUO+BRWFw8a8x42IRQiPyfXLQEulyjmIRwYnwv9A88BE/yg8ZvqO+iC5KveFdg3ziXDI8CKxvzMOs/v0hbav+C45fnqFvBw9rQD0BfzJrUoRiY3Lro8FT8QL3cckBb8GOwWzw6qB3wBePRN4GvPGschvwiykqmJrkK3pLXSrO2ofao+qgupIK2KtunBic8z33bpGO4J9TUBhAsxEZwYxSKgKAIqWC58NJMzoCqyH/kU2AtXCMMHaQE59g/vGOyq5gvfONj7z/fG5cQwy7vR09PS1NPWg9ra4W7rKPLT+DgHJBqCJWkoDi0HNs05CDKlI/IXiRMjE04Q5wmXBEkAe/Ym5+DbN9jY1MzOSM+U2j/lo+ME3UbgK+2/9uz5/AAyEJYenCbZLOUwcCuFHnsXQhqPHUccvhliFmYOaAG/8HHdC8yXwWy8ULkfuYy557Niqaui/qEzoxOmkquNsIO1ir9FzbTXV95L5Z3rhvBp+fUGpRHSFyggmiqkLxUugiqmJXke9hbTDxsISwL1/z789/MP7CvoauT53K3Tb8w2y9jQ2diy3evfqOF+4/ToOvcECfsSfhZuH5otdDU+NL8wYivAIO4WvRXHFysShwZD/zn9VPWN4YTLm8EuxXTLqs1E0F/WONoq1iLQu9OR49T18wFvCzcacyvpNJo0jjIzMnst7yKuHNAh9CkJKL4bZQ7uAqXyWdsNx5a/WcBHvc20ta8CsMutIqamn8yeC6IvqOOvkLbHvcHJYdha4xrqj+959Kf80Q0/Ig0sLiuRLP0xfzBfJvwdJRvBFxESFQ4MCs7/1fGr6Tbor+OW1+vLEMlazMfOEs+q0UrYcd++4V7gaOTx86kGnxAYFAAdyyttNcA0kC/mKnQlNx0aFBAPGRDYEJoIWPnp7DLkoNdWyp3ImdHB1WXQj83F1H/ea+NW5eTo5vBZ/1ERPSAGK6g22kIuSWJGsDuvLHEiESZiMhU3XS2SG+YGL/C+2iXKgb6LuMW4abhhry6hLpgoluaUu5LPkyOaEqSMsOK9CsiizlXXA+RP7bfvt/XPCB8gkSp+JqYiiijFMEMvyiNNGd0XHhvaF38Ky/tJ9C3xyuux5O7eXtl11ZLXpttk18HNdM202lrphPC48yj6KQU0ESAaWiCkKEw1UUCwQsY8yTJCJj4ZvhF8EvgUdxDdAkjwTt5a0ITGl8D7wLfGm8kIxDa9W76dxULM/9Kl3VbssP08EcAiBy0QM9488UdtSOs8gjPsNTE9tD0sNdsoTB1NEQ7/g+TSyhK/7ME2xQC9bqzenoSZlJeXktmLL4wbmYero7Y6uOa6dsYj1qjhmOnE9DkFgRWOH9cjDyh2Lyc2mDVILXYkjyE/IkMfdBbEC9kB+Pe67X3jbNlY0Z3OudGj1hzXWdCrxpfD1Mrz1VbeseZe8pn+hghuEkMdECfUL7I4dD6EPRs3KS6nJMwdeBs9GW0RDgaN/PPyxuI6zR+94rnrvm7CPcF8v77Bo8b/yIvHSMpe2e/wtAQiEYEdjS0kOwNBgkK5RWxKf0u+RiNA1TxJPHo3mSeCDT/yN98A1pnQx8kTwdW1/6U8leaL3opUivqHxYt0mpmrCLMGsEWuA7i/ytTcr+qT9/0EGxEcG08jPClQLSgxMDWVN9I0iStWIXgchxhZDfb+svfk9QTwtOVm3NfTQcsryCbMWs8LzWrMB9Qn33rkUOT/5671SQckE3IZ+iIUMZ067jo7OUs6GTj+LVcijB2THuIbgw369cPgZNXizvnFxb10vNe8vba/r2Ozgb00waW/GsbL1+LrBfy4CM4S3xzoK1o+fErITSRR+leNWAZNVz9YO2I+OjwkLQAT8fZm41vZ1M7Svryx+6yTp1+aaY2Jic+Kl4sfj1OXmZ4uo/aqw7e0xPDP2duw6IH2/QZxFs0dmx+FJYIvGTVCNV41oTSXLhIllB3zGNgSWAf29xbsa+il5l/eEtMKzuzNaMvEyHHNLtWc1tPUQtuD6Xv1Kf2rB4MUchzqIBoq7jVcO1I6BzlWNRsqXx4bHkolISIBDarx891E0sHHZr2ft7O2kbVVseusyqsjrkaytrjbwl3PFdtK5xX3lAgZF1wk6TTeRcZQ+lfNYJ5mN2F0VM5LV0nURMg5mitoHH4Jm/J73Q7PTsU6urCrJZ4XlkGRvIoWhLODg4qkkumYPZ9FpketWbdqx+jZCOq6+CcHNhGxFYEbJif0MdUzrC+QLZAtYSorJbQiPh+LEgkA2PNa72/omd0A2eXbX9rb0MTLk9Gs11nVHdMY2prkuOm97Vj53goHGHgc7h6cJ9cztDpSOnk4nzbsMO4nUSBOGg0TJwqu/mrtXNibyI7DjMNfvoWxhqUjo0Gnz6icp9esMrunyZrQZdVQ4Rn0XQXqEtoiNDi3TIRZol5oYdhlYmtVbKViGlF7Qnw7PjXxKD0XWwG95tzNlMAqvDW0RafOnjWaS49GgQGAPo0QmGSXlpZCoLCtArWcugnJtd/O8qf6sP27B4AZGCcfKV0m7yfoLBkvdyvpIhYZxBK+D40Jov3Z8hzvjO2B5vPbfNU41E3Tc9Kx1bLc4eGk4v3gdOFl6O/1dAPTDAkVZB7MJb8q6C+LNI82mzilOqQ0tCNXE3EO4BCfDuIAj+lo0WLC6r2/u7u2KLNfs+OvyqOfmeCe8q8kvMm9ksBvzqvgk+1e+DAKaSFANQZD7U4MWsViSWlObRRrWWJtWn1X9FFgQnEuVx9gEhL/meff1YvL28CasiSl1Zm8jWmDw4EOiCGObpDfkqWX3Jwpo9uuIsH71B3jMukG7rD6dw1kGtwclx4XJ+guVSyXI5sgvyV3KZsjvRaHCl8BFPkN8sXuZO2H6QTj6twR2XnYoduB3gzdptsL4j7sG/CJ7yv3VAjxFiwdFSIYKXctMi7xL88xRS/+KXclCh+GFZkNOQcw+yvpkdqG06/N3MSTvKK2vq6Eo6mbupxko6apXq8Qt0bA7ciV0rDgZfSuCWQaTyRLLtA/QVWmYulk82X1bUF30nY8a4NdvlRoTkBEDzVuI48OJvX43BLO2cVPuv2p7JzTlR2PtYdQhX6IRos9jSaTYptVoJ6lnrM/x1fVEt0K55T0Vv/pBfMM4BaQIUAolicyI2IiLSXvJLEfeRl3FPwPzQs+Bq38GfHQ6NDk8OE535rdodxC25baF9xr4H7m4uwn83L6igHfBoMM/BW/IGknmCnjKxgwzjO/M3wuriWyHdwYvBR/DNT8pOfo1cjOQ8wawya1Yqzlpyagapk9nTWmUqiip36wIL+LxxzNWtwX8s8AJgjdFPwpujzSRPNHH1F3Yhpxi3J1av1kWGUtZBZcvk0kPFEsbCK8GGsEf+dn0WrIh8Gwsw2kgpkCku6KyodlihaN9ItijGmUMp8YpcqpjLW8xaPSWd1X6sn2Mf80B+oR4BuKISckZyadKNknWiHXGIsVSxbtEnIKIwKL+bruM+f85Xjj/tvQ15raHNsj1mfWn+Gz7MTtO+t78dT/UgpqCsEI5hB4IQ0ujTALL4wwKDPiMYYsXCX3HPwUFRATC6n9Eugz10XT5tKSyTO6/6/3rMCrIquFrOSt/a1QsOy1z7oxv3vJvtiy5JbtH/wWDj4ZLR+fKmM630XrTZVXeV6QXuFdc1+KW3NRkUwxTmlHPDEDGY8Nuwt0A2vshdBYv/O5u7M3p+ycv5rYmQiUt46AkdCZFZ/gngCh5qxnvg7Lb9Eg2sno5/X2+3oAtgiMEDIUMhhBH6UirhwjE5cPPRIQEmgJG/0C9lv2kfgC9sTtDOUU4b3fJNtw1GvT+djp3pXjzenA7k/w7PScALgKxg0MEr8d1yfaKG8o8C1vMU0sYie3Ke4pUB+lES8MyAwCCdL7hOk22wPW6NNTy16+tbcMuLW1cK7zqiqwSLgwvAG9ZcFGy+/Vmt0o5R/wKPx3BTsPoBwhKIErBC1SNjtEIUoARQw/6kAZRjhE6ziVLbMrfi/uKuYYsQU7/Wb5YO2Z2m/MdcVnwKC8ILvatmKuUqrMru2yGrEQsfS5L8b4zDPO8c+W1fXcW+Lp5YvrIPSk+vv63Pgi+2ECyQe4BlkCYP9C/f/6cfpn+lL1ZutP5WLoxu2560DjAN/a47jqPevG53DoAO/y9dr6k//vAycGxAmsElkcNR/4HZ0gYyZ2KNkmxSV5JYElMSdCJpsc5A9AC5oLCAQF9Dbnr+G83VTZPtbk0ZLKbMUWxfXDnL8WvoTCXMjYy73MA8tsyiDR/tx05GnmE+sN9XD9zQBZA2wJwRFbGFEa4RnZHMIkXypZKJoj8SKGJEMkCiNwITkcBRV/Em8TPw7FAYn4Pvjy+XX1jOqA3mDXNdhl3DLbadNHzdHM28u8xpnDvcbcyrXLPc3J0RLUD9Ip0hnYQt7g3yXgweOl6ZruEfI49Z73nvdg9af07Pdw+yz6mvfa+Y38G/fZ7tHvDfeq9yXyPPH89Yf4Kvgg+r3+CQLWAmICRgO+CKcRpxZjFcAVKR1yJBokCSE5I8ImQSNfG/EXcRi6FVMP3go8CX0FKfwi7zXkG+A14Kjcq9PbyzLItcOpvLa4Ubt/wCHDTMJUwRzEicqaz6XRE9Y94DvqSO+P82P8eAcnEJoUKhakGO4fwSj9K64qoy2kNFE1bS1TJ+UmAyQGHPQWTBZQEeoFsfxr+UX2Ru+i5rTe1dfH0ibQ9M5NzSbKjcbIxMrF/Mi1zNPN5MpgyXjP9tiw3PzbUt8P57XsCO/779zuh+2t8UT50frk9ADxRfN29Qj0cvQi+fL6M/R16wjrAvIm9WDwmOzI8Hv3G/or+tX60/s+/sICLwaJB6ULxxJMFhQVKhZYG30fXyFFI/Aiex4BGzYcVxwBFvQNxgoMCqEF6/2k9+TyHOtD4ArZKdlM2pvUe8rlxdvKMNLQ0WLJo8PnyePWZ93X2sjam+Rs8Uf4c/tAAFwFbwgvDfUUhRqlG3sduCDvH1Icmx0aIkwgERhUEp0QigyUBBr9rffx8qDvVe776iDhgdR7zhXRDtNkzQ7GXsbpywPNlciOx0TONNbk2JvZod2P4h/kmOUY68TwdPL29OP7FwErAPD+oQAMAKn72/l2/MX9wfqe93P4h/tl+8P2lvIT87v1/fZu94D4lfmd+8r/rANOBP0DygVfCNcJrgz+EvYY+RetEBINehOBG/AZDRIaD9oRDxLNDGkFHv6x+GH3/fZC8VbnUeCj3afbaNn41mPS383dzkPTvNJDzkHP/tXk2EjX1dmx4CTjJuKY5ivvpvJs8/H6pQYDDCoMXw+/FIEVDhO3E3kY1RzmHOIXfBFuD1YSYRMkDaEDbf/AATICXvqD79nqYut16OTg2Nu42v7Xf9NH07rXvNlV1ZLPg89z1a/aaNpe2CXcYuXJ6hbnruHE42DrZ+8I7jruO/MP9sfxMe158BH3sPf98330QPjF9zb0T/Xq+YT61Pd0+Mr61vhP9XX3M/1t/3T/EwSqC6IO0QxoDe4RKBTMEZERZBcFHG8YlhJbE7AWIxP7CmsHpwgZCPwD4f0v9STsOegn6Nvk9t352BTXu9Xs1PnUKtTE0VHP2c0KzjnQn9On16DdLOQ45n3j5ORm7w77B/5i+4H99wYXD5sOdQn2CYsS5RlsFxYQsw7REm4SegwKCjMMtAmdAIz5uvdb9cbwjO7r7ZXpyOOH41vmluOq3CjbM98x4P/cetzw357jM+c06vHn2+FZ4Tvo6ewV7KTsxO9D7uroaOjZ7MvtV+oX6cPrcO6V7/zvDvD578jvM+/V75nyV/Q18wz0nvht+Tv0O/WeAjUOwQqyAcYC9wvlECsPfQ2NDz8UThnbGm0XshRFFxsZpBN9DAMLGwoPArf3T/T+9ej03PAw7nPrPuVa32bevt0T16TPD9Hm2I3b7tY91RHcDON04d3bTd1k5nTt0+257tX1sPy1+nf07/S+/KkCIAP8AvkEcwbIBkAI2ApQCwwI3QMKBEMJ5wu7BUX9F/wy/hb6QfQo92f9fflK7i7qQe5/7yfrUOjk6RrtzO888HntzOsI7wPy5+0F5yPm3ukf6R/iWN2R4ffpkOxV6Bfm8ujO6bvlsuPp5eHlheMQ517vCvKA7nPuDvPg9Grz9PQt+vX+8wE2BAsGtgcmCKEF3QLnBaMNhxG9Dt4LhgyRDPYJRAnEC1YLlAV6AmkHyQs3BkT9XvyF/5v7/PPT8+P3VvRp69HoretW6nblieSN5m3mf+Ur5gPmMuW05xjsWOw56eDoO+zJ7cnqSeeL6W7xOfca9n30z/gP/T75nfM79pz8QPy4+FP88QPUA2r8Y/ld/kwC0v9M/U0AFgPx/kX5vfob//z7oPN/8WD2uvd58oLudu+x74vsJuu37YbteeYI4CjifOe75qvi3ONX6KXoD+ZS5qHngeZA5xvt/vCw7bvpt+vR787xvfPQ9b70WfPU9lH7S/pw+MP8KAL1AK39Af8oAVP/8v3bAJUDzALgARsCwwDN/rX/7gHEAlUE+QYABXj92Pin+9L+Ff0w/IUAowKP+/byGfRs+j/4Wu5L63jyhPb98CHsFe8C8qnuyOvU7h3wJOkV4mXk/ekk6c3lc+hy7VvtFeuT7X3zSfcV+LD4efp2/LX7hfdl9Vf6mgBr/2/6sPvJANf+Cvdm9gX/fQNT/cD2i/cp+c71wPLT88TzMPBT7lvv8e0h6inqm+4B8U7ucekL5i3l1uWe5sXnS+po7eLu5e1V6wXqOe0T89nzMe6369jxdfiy+BL3XPee9abykfV0/Jn8APY19GL50/rv9b/0ovqH/kv8bPrK/Or/lQFWAowB3/8+ALoBuwDl/sn/JACJ/AL7xwCgBdz/1fVl9br9jAAL+THykPNu9hr0lvDn8BDzevRm9Sn18PIx8azxGfKA8FPu/uyw7ELtIe4c7/TwYvIe8d3ucu888RjxS/Ko93T6Cvah8lD38/yO/FT77vwN+xz11fRl+2D95feB9dr41PcO8TXwovfI+qf0wu/V8UvzYvAL8BL0O/Tj7Z7puezB8SHygu6h69vsN/Hp8+bw5eqM6d3uR/LD7O3kNOZP7urwx+tm6ebu9vSC9AzxX/F49U34OPh499T2TPV79Dr2bPg1+fn6lP1g/Bv4Nvif/Aj9aPln+j//mP6S+Vn6+v9kADD8W/xp/6v8sPZM95L8Qfzi9mf1Xfdv9b/x6fNJ+Dn1B+6m7X3yWvIv7tPutvNM9RrzpfG38Tnyd/PP8+jxKfEi9Of1LvJK7j/xQPfL9krvKetv8Fv3cPZY8bbxMPdE+aD1ovEm8dDzGvin+t330fF475DyZvVA9Rb23vgR+az24fYj+MfzKO0L7rzz6fJF7SLu8PNj8w7uzO7G8zryZuxK7ezyGvJ17LjsXPEP8OrqROyr8Qrwv+lE6vLvbu/V6RLq+PAp9qv3UPj/9vbzj/Rk+DX4/fMR9NH5Bv6S/UH8h/xR/bD8WvrM+JX6gv1m/cv6fvk6+h/7u/pK+KT1O/cQ/Cz8tPXi8aH1aPle95b0S/bX+Y379vra9mLvx+un8WX5Ufgs8r7xgvZy+D73Afct9hDzmPKA9qX3DfMc8Vf2k/p398HzPvbD+XT3wvOY9TP5afeY8zL1Bvr8+vz44/g1+cb2afWV+Ob6/fYv8n70Uvw9AXz+z/at8azzGPjg9sLw/e0d8YzzF/AO6pnnc+lR64Xriez47ZHr+eZD56br2uv757Dn8ura69vr9O7K8FjsAeie7Nr20vti+HLzBvRp+Tf9pvvX+EX68/3i/Xz6iPl7/Kj+sf3u/Ib/yQLIAfb8y/o//ooBAP+Z+u77NALyBJf/GPeX8wr3oPya/w==\" type=\"audio/wav\" />\n",
       "                    Your browser does not support the audio element.\n",
       "                </audio>\n",
       "              "
      ],
      "text/plain": [
       "<IPython.lib.display.Audio object>"
      ]
     },
     "metadata": {},
     "output_type": "display_data"
    },
    {
     "name": "stderr",
     "output_type": "stream",
     "text": [
      "  8%|▊         | 32/400 [02:08<24:28,  3.99s/it]"
     ]
    },
    {
     "name": "stdout",
     "output_type": "stream",
     "text": [
      "Playing clean audio for sample 1\n"
     ]
    },
    {
     "data": {
      "text/html": [
       "\n",
       "                <audio  controls=\"controls\" >\n",
       "                    <source src=\"data:audio/wav;base64,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\" type=\"audio/wav\" />\n",
       "                    Your browser does not support the audio element.\n",
       "                </audio>\n",
       "              "
      ],
      "text/plain": [
       "<IPython.lib.display.Audio object>"
      ]
     },
     "metadata": {},
     "output_type": "display_data"
    },
    {
     "name": "stdout",
     "output_type": "stream",
     "text": [
      "Playing poisoned audio for sample 1\n"
     ]
    },
    {
     "data": {
      "text/html": [
       "\n",
       "                <audio  controls=\"controls\" >\n",
       "                    <source src=\"data:audio/wav;base64,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\" type=\"audio/wav\" />\n",
       "                    Your browser does not support the audio element.\n",
       "                </audio>\n",
       "              "
      ],
      "text/plain": [
       "<IPython.lib.display.Audio object>"
      ]
     },
     "metadata": {},
     "output_type": "display_data"
    },
    {
     "name": "stderr",
     "output_type": "stream",
     "text": [
      "100%|██████████| 400/400 [26:58<00:00,  4.05s/it]\n"
     ]
    },
    {
     "name": "stdout",
     "output_type": "stream",
     "text": [
      "Epoch 0, Loss: 0.27757258746671143, Training Accuracy: 94.5\n",
      "Backdoor Attack Success Rate: 9.833333333333334\n",
      "Clean Accuracy Drop: 0.5\n",
      "Running experiment with poisoning_rate=0.01, decay=0.3, delay=150\n"
     ]
    },
    {
     "name": "stderr",
     "output_type": "stream",
     "text": [
      "  1%|▏         | 5/400 [00:27<30:36,  4.65s/it]"
     ]
    },
    {
     "name": "stdout",
     "output_type": "stream",
     "text": [
      "Playing clean audio for sample 0\n"
     ]
    },
    {
     "data": {
      "text/html": [
       "\n",
       "                <audio  controls=\"controls\" >\n",
       "                    <source src=\"data:audio/wav;base64,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\" type=\"audio/wav\" />\n",
       "                    Your browser does not support the audio element.\n",
       "                </audio>\n",
       "              "
      ],
      "text/plain": [
       "<IPython.lib.display.Audio object>"
      ]
     },
     "metadata": {},
     "output_type": "display_data"
    },
    {
     "name": "stdout",
     "output_type": "stream",
     "text": [
      "Playing poisoned audio for sample 0\n"
     ]
    },
    {
     "data": {
      "text/html": [
       "\n",
       "                <audio  controls=\"controls\" >\n",
       "                    <source src=\"data:audio/wav;base64,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\" type=\"audio/wav\" />\n",
       "                    Your browser does not support the audio element.\n",
       "                </audio>\n",
       "              "
      ],
      "text/plain": [
       "<IPython.lib.display.Audio object>"
      ]
     },
     "metadata": {},
     "output_type": "display_data"
    },
    {
     "name": "stderr",
     "output_type": "stream",
     "text": [
      "  4%|▍         | 15/400 [01:07<25:47,  4.02s/it]"
     ]
    },
    {
     "name": "stdout",
     "output_type": "stream",
     "text": [
      "Playing clean audio for sample 1\n"
     ]
    },
    {
     "data": {
      "text/html": [
       "\n",
       "                <audio  controls=\"controls\" >\n",
       "                    <source src=\"data:audio/wav;base64,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\" type=\"audio/wav\" />\n",
       "                    Your browser does not support the audio element.\n",
       "                </audio>\n",
       "              "
      ],
      "text/plain": [
       "<IPython.lib.display.Audio object>"
      ]
     },
     "metadata": {},
     "output_type": "display_data"
    },
    {
     "name": "stdout",
     "output_type": "stream",
     "text": [
      "Playing poisoned audio for sample 1\n"
     ]
    },
    {
     "data": {
      "text/html": [
       "\n",
       "                <audio  controls=\"controls\" >\n",
       "                    <source src=\"data:audio/wav;base64,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\" type=\"audio/wav\" />\n",
       "                    Your browser does not support the audio element.\n",
       "                </audio>\n",
       "              "
      ],
      "text/plain": [
       "<IPython.lib.display.Audio object>"
      ]
     },
     "metadata": {},
     "output_type": "display_data"
    },
    {
     "name": "stderr",
     "output_type": "stream",
     "text": [
      "100%|██████████| 400/400 [30:53<00:00,  4.63s/it]\n"
     ]
    },
    {
     "name": "stdout",
     "output_type": "stream",
     "text": [
      "Epoch 0, Loss: 0.27333476192885425, Training Accuracy: 89.04166666666666\n",
      "Backdoor Attack Success Rate: 10.0\n",
      "Clean Accuracy Drop: -0.5\n",
      "Running experiment with poisoning_rate=0.01, decay=0.6, delay=75\n"
     ]
    },
    {
     "name": "stderr",
     "output_type": "stream",
     "text": [
      " 10%|█         | 42/400 [03:22<23:49,  3.99s/it]"
     ]
    },
    {
     "name": "stdout",
     "output_type": "stream",
     "text": [
      "Playing clean audio for sample 0\n"
     ]
    },
    {
     "data": {
      "text/html": [
       "\n",
       "                <audio  controls=\"controls\" >\n",
       "                    <source src=\"data:audio/wav;base64,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\" type=\"audio/wav\" />\n",
       "                    Your browser does not support the audio element.\n",
       "                </audio>\n",
       "              "
      ],
      "text/plain": [
       "<IPython.lib.display.Audio object>"
      ]
     },
     "metadata": {},
     "output_type": "display_data"
    },
    {
     "name": "stdout",
     "output_type": "stream",
     "text": [
      "Playing poisoned audio for sample 0\n"
     ]
    },
    {
     "data": {
      "text/html": [
       "\n",
       "                <audio  controls=\"controls\" >\n",
       "                    <source src=\"data:audio/wav;base64,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\" type=\"audio/wav\" />\n",
       "                    Your browser does not support the audio element.\n",
       "                </audio>\n",
       "              "
      ],
      "text/plain": [
       "<IPython.lib.display.Audio object>"
      ]
     },
     "metadata": {},
     "output_type": "display_data"
    },
    {
     "name": "stderr",
     "output_type": "stream",
     "text": [
      " 19%|█▉        | 77/400 [05:42<21:32,  4.00s/it]"
     ]
    },
    {
     "name": "stdout",
     "output_type": "stream",
     "text": [
      "Playing clean audio for sample 1\n"
     ]
    },
    {
     "data": {
      "text/html": [
       "\n",
       "                <audio  controls=\"controls\" >\n",
       "                    <source src=\"data:audio/wav;base64,UklGRpwvAABXQVZFZm10IBAAAAABAAEAgD4AAAB9AAACABAAZGF0YXgvAACp/57/qP+w/8L/3f/a/6v/g/+P/7X/xP+1/7D/2/8hAD0AGQD1/wEACgDi/8P/6v8kAC4AJwA9AEoAJgABAAoAFwAAAPX/GAAwAAwA3P/c//P/6v/C/7T/6P9CAH0AdQBYAFkAYwBKABkAAAALACkATABfAEoALgA/AGQAMwBD/6/9cvzF/Jv+VACxADUACgBWAHkAPgA3AP0ATAIJA4MCYgHIAO0AMQEIAYUAJwAtAEkAKgACAAkA5f9D/3z+Lf55/hr/wv83AEoADADP/8f/2v/o/w4AWQCIAHkAcgCeAKIALgCE/xn/Ef86/2n/mP/P//P/zf9X/+3+2f7q/t3+1P7z/gP/2f67/uf+Kf88/zj/W/+o/+v/AAD6/w0ASABvAGMAZgCkANMAsACAAHwAVQDh/5//2/8JALf/U/9m/6b/kv9F/zT/gv/w/zEAQQBZAJEArgCCAEwAWACJAJgAfgBiAFgASgAYAM3/nf+p/87/3f/o/xwAfQDaAAgB/wDVALoA1gARASAB8wDkACYBawFhATwBRQFRASgB/QD/AOwAnQBmAH8AlQBSAOj/xP8AADAAzP/q/lj+gf7P/qj+Zf6L/tD+s/5j/ln+oP7n/vj+7P4T/3r/zP/Q/9D/FABjAGUAMwAcADIARAAyAAgA9P8GABgA9v+c/zz/Bf/8/gX/Bf8F/xb/N/9Q/1D/SP9d/5b/zv/e/87/yP/o/w8ADADQ/5D/h/+1/+T/5//G/6n/of+O/1//OP9C/2n/g/+Q/6X/wf/W/9v/2v/o/wEACwD//wAAKQBXAF0APgArAEwAiwCiAIMAfwC/AO0AxgCZALwA+gAEAfwALgGSAdwB3gGvAZMBqQHRAdUBqwGDAYYBpAGRATgB5ADTANMAvgDXAE4BwwHPAZMBbgFsAUkB1gAhAGn/8P7T/uP+0v6V/nz+sf7q/u3++v5S/8D/6//b/9X/9P8KANr/ZP8G///+Kf9M/4T/6v89ADQAzP85/wr/Ff+J/q/9Y/7t/yD+8fZQ7s7o9eWf4lveb9uS25reM+O450PrU+7N8cH1aPki/HH+AgHFAwAGiAcdCEIHGAXcApUBEgHEAMsAugGVA94FBAi8CdwKxQv7DJcOBRDRECgRiBH8ESUSphGEEPAOdA19DBUMvQtbC1wLNwyPDb4OfQ/dD8UPSg+nDswNIwxJCZoFLwLn/93+Yf7R/Sf9FP0v/loAwAJZBJMEmwP1AQgADP6/+7b4nvUt9OP0NPbC9jb3KfnR/EsAWwEiACX/CABaAeMA/P4T/tv/yAPzB/oK8gx6Dh4PWg6vDD4LxAoZCxIM9g1oEdoUNBV3DyMD+PNS59fcWc53u3KufbBKvsTMeNXt2+fme/YRAk8DLP+v/pkDQglsDckPvg9oDZMKygelA+b8bPQE7ujtb/M5+aH7v/wRAF0EiARV/dvxPOkb6JXsQfI++On/gAgmEFwWVxrqGVAVfhC9Dl4PXQ+eDZkLBAtZC/cJSAWj/pT5PPgh+mX9EQGcBdcLBBPbGDsb/xm3FksTgRDwDV0LCglCB1oGZwZrBpsEyADQ/Ar74PvK/Sn/IgAsAuoFxQk+C2UJnwUBAvD/n/8AAMr/Sf8sAL0CvQRrBOECSQK8AhcDAAMrA1YEYwZuCDkKqgyhD8gQnw55CvwGTwVWBCwD8AJNBhUNVRPxEpsIafcf5h/Xa8ajstqiF6Bzq2S9h81Y2iXol/iRBS4JUQYzBJoFQQjGCuIM8g6cENQQjg4cChgELvzC84nuwe6d8gv3O/u4AGEI6Q/iEgkQ/wrhB9AGYQUuA60CiAbXDMQPPQybBVQAs/t99LXqSeOj45Pr7fTo+mL/zQVKDGsOVAsxBkMCoQCEAOsAcAKkBTQJewuEDKQM1woEBygDggFDAs8DwAShBSIIQQwqD3oOCAu8BwgGcwUqBRwF5gU2COQLpw/kEecR+w8MDbkJdwbkA2oC2wEoApgD4gXEBwwIlAaaBHQDMgNwAqYAPP+z/7UB2AN0BRYHQQlEC2ILHwk4Bp0E5AMMA9QC6wP4BYIIbwxhEeEU+xG1BBPvkNi9xfyzs6G+lDuVUqRWu1rS0+Yc+3YP3R3AIJoaYRIoDHAHrAMoAWcBSwReB4MIdwjGB+4DQ/yj9HXxxPK39dD4ff3WBVwQpRcVGLUT0g5WCs8Eff66+fn4vPxrAz4KXg9lEbcOoAe0/gH2H+2s45vbAtne3t7qdfY1/uwEpg1yFRQX2RGgCucGdwfOCO4HnwYECIcLXw3eCukETP6X+Qj3EPY892774gFwCbkRlhlPHoUeuxuMGPoV8RJhDoYJjAd1CWkM3wxICusGVwS3Afn8uvbR8j/0ifkm/8ADUghGDTkR+REKD4sKGQc7BSkEAAT/BGwGYwfFB5sHcwbgA9X/+Pts+lT7RvzV+7L8ywGsCqETqRl0GaQPPPzf44fL+rRzoVeU0pLwn5y479Qg79kGCxz9KbwrhSLaFAMJTgDs+BLyY+9x85T7tQLQBsYIpgjZBRUA8PhM8zHxTfLX9aT8kAajEF0XhRngFxQTdQuwAWj4tPP79JD5m/6aBAsMFRJ5ErsLLQHW92/xNuue41HeEeC86Kvzp/xIA4MJExB4FBIU2Q9TC+IINQgbCMMHoAdnCKsJFAqeCEUFbQDD+1X58flb/F7/JQPECEcQtxdMHCYd8Bt5GmoYaBSaDtgI9wREA6QCEgKwAQgCcQIOAswAT//V/dL8D/0G/08C4gXYCNgK5QvtC54K4QcrBMEACf8a/7z/SwDLAdMEzAfbCLgHxQXfA+UBGgBX/z8BAgeDELcYSxgWDB/4ZOLWzGS2qp9Vj2CO4p4WuUjUG+8yCyUlQDXLNlUsfx2NDyQChPMt5xniReWC7bT38AGWCkIQOxFrDcQGgf9A+DPyivA69an+5AgNEYEWhxmRGfcU5QuKAdH5T/YE9tT3tPsvAsIJug5IDvUIkwHS+VrxZufo3UDZHNyk5C/vN/o6BrsSFB0MIrcgWhvuFHoOlAfxABj8DPqj+uf8qv/sAYUDUgSfBK0EwQTPBFwFUgc9C6oQMhZ7GjUd/B6nH8UdfBgFEXwJygLy/Er4vvXs9cf4Wf01Av8FQQgMCbYIRgfFBIYBav52/Fj8L/5dAfYEVQgpCyMNqg1JDDEJfwV0AtwApAAqAZYBFgJeBFMIxwsDDt4RkxZjFU4IU/EQ2DPC3K9bnlaQfY7xnQq5TNYw8pkNyCbpN/I7KDOvI3oT/AME9JLlrNz324jiP+07+TYF9g8qFlAWsRKUDdgFZPud8jzwo/Qg/EQDuwknEZ4YUxuYFs4NawbMAbH99vii9Qj3Nf0MBC4HXgZABOoBBP7a9irtDeTd3o3eXeLZ6bH0kAFvDoMZOSFuJL4ipBy0E0wKlgFJ+RPyuu7U8Fn2G/zxAAQG5wtoERcUNBOVEMkOfQ6fDpgOBw/3EC4U8RZoF0sVlBHfDGEHbgHE+yf3a/T184n1Y/jP+zX/mwIoBlAJvwo7Ck4JRgmRCdsIIgd1BZEEQgTUA88CSQHS/57+1/20/W7+iP8FAcADjAdjC7QOtxK2F98bkhlVC7Lyk9hFwzGwj5xqjeOLFpuPtdTSte5lCnolTTnlPkw3DSk0GX0I4/b+5SDavdaK243ldvK4AM4NcRdRHEMcgxfGDl8DJPju8HDvOPLm9s78agQxDX0U3RYrFBUQJA15CUEDTP3y+oH7svsy+mT4E/ij+Oj2G/LH7Sntju5G71jw6PS+/R0IfRDFFeQZ2B1HH2wbMBMFCjUCvPvQ9f3wQ+8D8uv3vf5sBRQMCRI5FuIXUReYFWsToxCMDcULDgwBDegM2wsAC4UKcAmfBoYC8f4n/WT8s/um+zf95P90Am4EHAaSB30ITAgLB5AFrgR2BKwEggUhBxgJagpFCq0IPwaIA3EADf3K+Qr4PfnB/JsAHQRmCTURpRiBGWYPEvwq5uXRbb0EqFqXLJMfnemwrckc5UsCSx48Mxc8TjnDLrsfuw3m+o7pQdxD1SjWn95/7G38zQrqFZAdWiGMH14X0QoC/o30gO8X7rPv9fTx/XAISxGrFq0Y/hcPFfYPPQlsAq/8EvhP9BryI/Lo8yr22PfI+CH5E/lu+Gz33PbZ9/L6lP+oBJ4Jzg7vE28XqheaFJgP7gkOBO/9DPif8/rxUfMA9yv8awJYCU0QKhYHGq4beRvAGdEWOBOOD1UM0AkcCBsHiQYaBnUFcQTZAtIAlf6J/OL6JPr/+pj9HgHXBNwIBw0pEPkQZQ8YDHYH8wGG/Bn4+vSY88L0ivii/Z4CFgcQC9wNgg5RDOoHKwMZ/677vvkn/NoCUgnACXUCBfa05znYDsbjsgSlR6J7qsa5xs3f5WgA6hgAKvEwui8zKcwdVQ3R+oXqPt/t2S3b3+K/7yb/fg2UGBYgYiMeILcVmAeP+gzx8uoA6CTppu+3+s4GlxB4F10c6R6YHbEXOA5yA1P5wPAW6kDmMebJ6bbvK/YK/OYAfgTwBeoEXgLZ/0f+2v24/vMAhgTDCJIMIQ9uEIEQvA7jCs8F0QCB/Er52Pfn+IP8CwJyCPUOGRUeGqYc9hu7GE4Uhw+yCkoGCQOSAdgBGANlBCkFawUrBSgEzwFt/iX7KPmT+Av5i/qF/R4CiQdUDIgPQhHiESgRUQ4vCegCdv3W+VX3WPWq9Er2m/k9/VYAagMvBzALFw4uD/oP5BGmFAsV3g8LBInzDuEAznC7aatvoUGghqh1uLDNa+YfAJYWAyamLQwujCcHG5ELPPzu7qXkAt+W37/mcvIA/9UJgRINGcIb3Bi6EPEFYPsG8w/uwez97on0wvwoBrMOtxR+F4cXoxXPEXEL2QIo+sLznfDm73fwCfIN9YD5+v3iAK8B/wBN/0T98Pvf+778d/7hARAHeAxKEDMSxRIIEqEPnAuOBisBofwp+jP6EPwf/2UDFQliD8UU1xdJGLYWChTcEEoNhwlOBqAEogRZBboFqQWQBSgF2QNiAVD+X/ui+ff5Mfwn/zkCEAbXChMP3BCwD18MtwdJAqf80/cN9fj0CveI+mH/RQXACoYObxDRECoPSQt0Bh0CPv90/v4AFQbDCvsKnwRI+BXo8NWxwnOwEKO0nvakbLREyrfjWv7IFrwoHTFLMHwowhulC6X6i+v64HLcat4r5k3yhgDADbkXhB2eHv0Z4w/pArH2wu326HPoLuzq82/+RgklEigYKRuSGocWpBD6CRYCG/lr8WDtH+0E77zxk/Vc+xgCdQZ1Bp4DtgBE/lP7/PcS9p33k/ysAuYHngxhEZ0UnRT4ESsOXwmBA6b9ePnY96D4H/s6/1MF8gzjE0gYHhpLGtAYUhVSECgLIQe2BKADeQNJBPMFkAc1CKAHMwYUBGMBR/5w+8T52fl4+z/+OQIqB/oLnQ/2EcUS/RBXDE8GlQBq+9P20fO688T22ftOAZQGAQwlEVYUQRQhEmAQlhBPECELvv6n7bHbHcrMuAup1Z4EnlKnprfsy4vjFP1uE1khOSaLJIUe1BR+CGP7ofBO6qzo8eoh8aL65ARXDQATrRVVFMQOpwZV/jH3JPJ48A/zePm6AVMJ6w6lEr8UcBRDEWQM1Ae5BGECf//V++P43Pch+Dr4mfcX93f3NPit94n1lvPQ8w/2Dfl3/PUA4wYjDa0RWBPzEmwRRw4pCY8DVP+x/Bv7p/ra+5P+KgK/BQUJDQzcDsAQXBE3EQcRzBBdEC0QqhCYETwSChLPEHQO+QpWBiEBa/xb+VT4PPnG+6v/XwQZCfsMWQ/TD4wO9AssCBYDW/2v+Ij26PbE+Dv7Xf6SAmYHCwtnDPQL5Qp2CVUH3wV3BqMJtQ7oFHoXRg9v+pLfncY7sQWee44qiWqUxK6NzsXrzAasIAgzyja9LfYeAA8R//bwreZF4k3kzusd9wQFohKXGpoaohVKD/0GjfvB767oPekp8Bb6OASxDfQVtRoRGtMUbg2HBZj+wvqy+v/8af/4AD0C9QP6BHkCCPzu9IHwYu5z7JPq++qA7zb35P5oBL0ISg3TEGsRjw/ZDMMJRAYzA2oB8AD8AKsAYQBmAewD7AU6BjcGCwijC08P/REcFJ4WlxncGwwcAxqYFmASoQ3BCC8EJQAZ/Yf7rPsP/fH+iADwAbID3AWDByEIQgjlCD0KDguzCbYG9QTIBeIGQAZxBdcGqgl/Cx8L8Qm5CvgMiA0pDAgOLBTXFucLXPF40LK1eaR5lZSGN4NDleS1rNbq8e8J4x7SKzsrOh5hDiUDlvpf8ezsdvGs+Sn/LARmDPcTTBTwC1cA/vdO9Dnx2exg7K70oQIvD2UX+BulHJ4YWxB1BoH+lPpE+n38/gGcCkoTEhhTF4gRaAeA+nDtvuKd27DYs9p84Vrr+PVp/94G6AsWDvcMVAmRBaoD0APlBJsGoQgACiQKkAlCCKQErv4a+cn2kvcM+hz+VgT5C5sTQxoUH98gkB+EHDsZHRa5EgkP4gtGCkUKnAr1CesHdwWKA48CHALiAQUCDwMnBREIdwuYDjUQ5g94Do4MqgnHBVIC+wDeAeADxwW+B48KyA2LELMRrhEdE5QYKByQEQr0ts3mrQWbFZAShhyB0I7dsYXYTPJDA7cUbSDPHD8PWQOR/H/4AviA/CMFng1SETIQGw9/D9YK8v2L8HjrT+1I8Hz0mvwTB08QyBYhGvkYrRKUCKv+l/mr+lT/wARTC+cTZhxRII8cFBKuBD34Me465sHgIN8Z4gTpHvJj+nP+Rv7l/IT8yvtn+cX3dvokAswLAxSAGKAYPBVvD9IH4P4M9qHv7u3O8ZH59AHVCAUOUhJTFScWshRoEigR6hFXFBYXORldGjAanBivFXIRpAslBdz/mv26/i0Cewb4CnIPLBNkFBQSIQ3nBxME4wHKAF8AugCAAuoFtQmJC/0KmwlyCbML+A2WDbsMxBGRG2oeyA0U6e6+bqFelJaLM4FbgueausDk4NP1eQSQDX8O2AdY/un4OvoF/4kEtg6KHOoidxszD7II/wRS/P3veujd6o30Bf8CBswKkA+nEZ4OLQm/BBUAM/r89s36NgXYEFgY5xqtG/IbBhgIDZX+JPNi7c/rzews77LxrvO+9J305fLM7/vrn+mG6zfyQ/vCAx8L0hEXF+4YEhZED+IGsP9t+xT65fok/UoAGwTrB5MKqQppCKgF2wQfB9gLmREnF8QbEx++IC4g1xyWF4ES8A42DKkJIQhyCJMJ+glVCfsICwrfCysMFwqKB84Gmwf1B8kG+QT+A2AECgUHBfQE1wWoBlAHBwoyDtoQyxCTEcIXxiLlJJ4LsdiDp/KOZYmqhWCCDYzrqF3Piu0++vz7fPzt+cjxO+6D9/EGbRKlGyYmtCxfJ5MWPwNZ9jnyuvKe8zv2Y/0FBwsOrA9KDOYEU/xR9lL1Cvm+/sEDHghWDpYWdxy4G+4U7QtOAyz8Efhc9534T/os/PH9Pv5S+5X0mOyM57HnfOsZ8ML0efprAewHsQvdC8sJ4QdoBx4IcwmBClwKEAnGBzwHugZRBQADOQFtAfYDwgegCzQPuBLBFe0XbxkpGkwZIxeWFQAWdBdiF+4TgQ6OCmcJXQhMBSYCSwLIBdgJCQxGDMYLKgtaCSgG3gNkBJEGSgg9CboKQQ0FD5gMqQZQA3oFjQruDnATVxuXJfMjnQOwyA6UAYB2hJuLL5Kdone+J9u37Bbw3+t+59niit/16PcCYB/0LSgvjCsLJS8YpgWz9PvtbvNU/v8G4gxPEZIQJgiT/M30kvKq83L2uvvdBFwPtxT0EfcLBgl+CTwKagqxC/8O3xC/C/b/yfXL8ibyXO2n5hrlv+oC8x/4cfj19kT3HPnM+k/92wG8BiEKGw1uEBEStw8UCpkEXwKNA64FvgZBB4UI2QntCe0I+gdNB3sHzAlvDk0TOBb2FvIWMheyF8oXDBfKFbUUxxPbEi4S3xDUDOsGlQNeBR4JGgprB7UEfQXLCMUJdwYEA84DRQddCXcJxAn7CoYLpQhoA/IBjQUxCRcLqxFCIOkscCOO92W4F4o/gfmO5ZoAo02y3seb2D7ez9vo1wLX99jD34zzWhMhLjU0ESn/GaINXgMM/OH6wAG7DdAXRBqNFekMDwEn9Hbsc+5B9/wAugjvDUQPpAsfBJD8b/nc/GUFbg/UF6IcrhydFggKvPoV8DDu8/Gg9WH3mfiO+YP4v/OA7MbmPebt6rzyZ/wzBr4MDw7EC8QISQYhBKYCLgPYBm8MfhAyEN0LVAbmAdr/swAoBPAIDQ4FE2EXDRoTGmQXxhPbEfQS2hVwGKEZFBklFjERKAzyCI8HXQdDCHwKeA3cD0IQpA5BDEkKiQirBm0FgAU6Bo0GQQagBV4EVgIRAMH+S/4M/5AD1wnSDOINERUlIzUq8hVJ4Fyh14Gbj2qta7rguFm8Ica/yq3I5scpzUrY7ebO98YMkCGCKQsfKQ4eBb4EXgY3CRgQfRkrHwYckhAEA5H5xPSG84r3mwCRCC0KFQdqA5T/wfrc9ub3JABqDH8VcBcfFXURJgrR/T7yDu8S9f39/gK0AZ/84PcG9QPzFfFI8O7xm/Zo/SsDgwQ9AcT8OPvk/YAC/gV0B2oIZArEDH4NnQtpCPAF5AWPCGkMLg8TEBQQqxAJEk8TqBN5E98TWhUIF/gXThghGFcWjxJfDpoLDwq1CDwHIAaNBXYFzAW3BhwIsgneCg4LEQqZCK0HeQf5BlwFDAN/AWwBLAKUAkYCEwEVAbAGGw8OEn4P7xHOHTomnhTE4Hajm4dZm+C9jslZv2S3A7rQvpbBoMXazZjbLe2g/hMOwBd+FTkJhADGBEQQgRcmGFgXJxguGNYTmApyAJX6Cvri/MoBPAaVBVb/VPmh+C77jPyr/HX+pwIFCFoNRRDmDaMGDv90/GAANAYHB20BffvP+pX9bv7t+6/4ovZX9gD4kvoG/Hr78/ma+dX7wv/xAvcDvQNgBMcGxwlzCyEL8AmaCZkKQQzhDQEPEg+zDn8P+BFvFD8VmRQwFAwVSxYAFr8TOREAEEQPaA1UCpEHPgY4Bm4GUgYzBsIGxAc/CJEHgAY7BmcHdQmMCjcJAgdXBxQLmA47DWEG5f59/A0AlgRIBQUC3P6JAZgIOwxtDa4WgCOXGl7tKLJmkQqe6MLn11fMpbZvsv28ncR8yADS996u6Xr1TwR0D3QPEQYE/sgBBxBqHDwdUBY6EYUQ/g8wDZQI0QIk/s39wAHZBdgFEQGG+/D51Pza/8L/v/49ALkDIgc+Cs4MggytBg/8RPOU9LP/qAndCMP/Dfjt9rL5ZPsf+uj3WPgk/CAAKAGe/mL6b/jW+zEDYQlQCrAGIQOWA9QHVgz0DYkM3ApZC58NSA+4DrEMzwuaDUIRjhSNFcAT9RC8D/AQ6hKcE4oS5hC5D/oO6Q0CDH4JVQcvBiIGowblBiUGegSyAhMCWgPmBdkHOgj8BzwIeQgWCNoHOAiuB3YFYwMcA+gCkQEBAuwE8geSCt4OfhbkHdwUX+sOsL6P1qLHzJLf1s+otbepL7Gawf3Oc9ce4PjoW/AV+3oIKQ2/BHH8LgIfE4IgkSEyGfgPTgwrDlsQ2A65CSYDgf7Z/uYCSwWkAvj8iPn3+iX/TAILAtT+Ev04AQ8JZww3BgL7wfTG+LECbAnPB/YAPPw1/WIBkATuAzz/TvpG+lD/0AOCAiP8ofbA9g/8KgK7BPUCMwBHABgEZgmyDAoMSwk1CKoK/g6bEZAQ1g0TDQEQsRRHF5MVdhHNDrkPqhJVFBcTDBAcDa0L2AtJDF8LwghhBY8DMQWzCIAJwAUDATAA0QM4CK0J3wd9BbQEqAQ9BOUE+QYNB7QD/gA+AokESwN5/uH6mvwrAv0HvwqGCcQJdBG+FsUEgtjcrRakEbz82MjedctTta6xj78u0P3bAuSF5wDodu1l+m4GLwmpBLoBHQZLD/YWURjCE2AO7AwAD2kQ2g0eCE0DgQKyBDoG3gTAAab/Hv8Z/3r/tP8U/gL80/1HBMkJqAez/X/0y/UpAQgLwAmdAEr60fupATkGTwZPAhD+VP02AM0DlwQrAUX8gvqQ/XECvgQQAwIA6P4jAZAFVAkSCo0IuQeVCSoN1A8UEBoPCQ//EBoUKxatFXQTpBHHEWsThxRQEzcQRw32C7EL0AqcCCsGzwT5BM4FrwWHA4wAR/8FAUMEYgZABtQErgO2A9EEMAbhBoUGawXLA7QB6P+G/4kALwHn/6L8JfpZ/ZwE5AdsBloJhxIlFGz+1tT7sUOxX88v6Q/jLsikttW5Gsjz1mLhv+TQ457lw+1O+qcEbgZrAS3/UQU4D0wUrxIuD/cNbQ+1Eb4RxA24B5ID8APuBxoL+QgWAtf73PqG/jACJwJf/yn90vxr/Gf5YfRO8ov3lQHZByUFJ/4++6n+1ARFCvEMhgsvB6UDRgP2BNkFOQQmARP/H/8vAJsAHAD6//kAvAJHBOQEugTUBO4FMgggC1UNQQ1xC6EK7Aw+EacUShXAE/ARWBEJEvES+hIJEmgQVw71Cw0JbwVaAtoB8wN2BRwEawHU/z3/xP4G/0EB8ARPB5sF9ABW/mwA0wNQBKYCFgIqAwEEmANzAlYBhQBk/8/9l/xs/FL+AgGgAXwCbgnDEZoLLO9Vy5e5LcXY3uzqq90ix3q9uMNMz+PayeVJ68zp3eiK7vb3nf5mAP8AxgQ5C/8Ppw84DOIK4g2SEtsUGxIMC/IDYAETBIIIMApCBzoCVv+o/5QA4P8s/kX+IAG/At79LvQT7/n0ngCqB1YG5AAW/cH9MwJ8B/0K2QsjChgHPQVTBVUF5ANVAm0CkgOYA64BKP/W/c3+eQEZBBwFkQTWA1sESAbZCCwLsAz2DI0M4wyZDqgQ4xEvEoESehNBFDITVBDwDcYNnw48DigMfgn6BrYElwIcARABGAJGAhoBuACcAvIEEQXMAq8AKQFqA/oDkQFt/zgAmgF6AD7+nP3x/Zb9Lv3w/QH/3v5F/Zr7sfxhAAgDPgQCCKQMTwh59EDZpsgZzmLh1+xe5LbSXsm4y9vSydvU5djrU+sK6jftJPNo92L5UPyCAtUJyA3/C44HrwU4CB8NoBE5E0oQQwp6Bc4EAgcqCcsJQwkoCEAGYwNqAJP+gP5Y/7L+sfqb9dD0xfnZ/vH+PfzV+0b+DAFuA8sFWweEBy0Hcwd3CB8JJAjiBWUErAQiBQAE5AGcAHcA2QCXAYsC1QJjAl8CpgNyBZEG1gYtB0EI9gmZC6EMIQ27Db0OABAQEVARUBCJDi0NGg3bDSIO7gxVCkUH8gT8A/8D1APNAj0B7v8a/8T+F/+8/5b/i/4o/l//9wBHAT8AM/88/8j/Ov+l/Wb9OP8YAM39y/p6+jj8kP0n/q/+sP/dAKQBSwOqB4MK9gKR73ncdddQ4aPtp+/V5RXaB9Z22bve8+Og6Rbtv+yB7EXvo/La88j09fhSAAAHownHBxUETAJQBOUISA0HD1sN5QmHB3oHcgigCKsH2AYSB4UH2gZhBH8Awf3W/rMBRQAi+STzDvWc/BECcwFk/dj6ofyAAfsFGAg5CCMHDQbEBvgIzQnrB68FzgWiB50IywftBakDAAJIAkwEyAU7BacDBgOrA6oEbAXvBSIGfgbSBw8K8QtIDCcLCgphCvwLEA06DAoKEAj3BnwGTQYMBigFkQPcAcoAmgCWAJj/yv3T/Kb9Dv9L/z3+TP1//YL+Kf+9/s39dv0F/gf/KgDyAJEAT//M/rf/nQAmABf/6P6K//b/9v/S/+r/cgAxAR0CWAO+Atj8nvI56+DrZ/HD9EHzOe/X64bqGeu27O3uVfHA8q/yqPK289P02PS39Bj2Gvlt/Pz+GACM/zr+8/16/7UBNwPkA18EzgTjBJ8EZQSTBCQFsQXvBQ4GLAbJBZAEEAPqAfYAVQDoALEC6AM/A7EB9QA1AdMBxAIPBPQE2QQuBMkD7gNLBGwEPwQVBCwERAQTBL8DbgPJAuMBlwE/AuECtQJgAr8CXwOUA6YDEQR2BFwECAQiBMQEawVzBcsECQTMAwYESwRhBEsE+gN8AxkDCAMlAzUDJQMQAwsDHgM/A1EDJAPBAmkCQAIcAtgBkgGHAbkB0wF4AcoAZgCoACwBUwEWAdIAoAB/AI0AiQDL/2z+m/0a/ij/e//G/tb9p/1S/g3/Yv/U/1oAsP8f/Tj67vhO+dT5efkh+F32CvXL9Fj1yfUi9Srz8/A88G7xEPNr84zyy/Et8rbz4/Ww9yH4avcD9wH4//nE+8T8Uv37/SP/7wDbAhUEPgTGA60DrQQjBnoGHgVmAw0DKgRkBZwFwQRvA7ACMgN+BEIFtwRXA4UCJQPFBAsGEgY3BagEDQUgBiMHVAdHBsUEVgRxBbgGvAaqBcQEqAQPBXYFeQXdBOsDMQMJA1gDmQM9A2QCxgHQAQ8CzgH9AC4A2f8VALEAMwEgAZwAWADXANEBiQKOAiMC3QEVApsC4AKBAtABhgH+AcwCOAMAA4sCaALEAkoDgwNMA9ECNAKsAZQB3gHoAWkB8QAFAVEBQAHXAHAACgCG/xP/2/7S/un+Kv+M/9D/SP9j/bX68Pj++Nj50/my+Dz3AvZd9b71q/bB9ln1kvMK8yf0uPVR9p31p/S+9Db2OPjS+Xr6MfrC+Wn6PPzg/U7+M/6p/rH/ogBiASMCswLCAmgCGgJQAhAD0wMlBCMEDwTTA2oDMwNuA7sDqgNLAxoDVwPZAzoEQAQHBAcEkgR2BQoG7QVcBe4E6QQ4BacFDwZLBkoGCgayBXYFUgXoBCgEjAN3A5QDdQM0Aw8D1wJnAhICIAJBAhwC0wGiAWsBCgGwAKwA+wBYAXgBXgFIAUwBHwGmAEAATQCVAKkAcgAuAAwAEAAyAFwAcAB7AKQA3ADUAG4AAQD6/1YAzgAvAU8BBwFzAAAABQBkAKUAcQDp/4L/nv8yAK0AfQCv/+z+y/43/17/h/7K/Ar7I/oz+nD6AfrF+HP34PZA9/b3Svja98722vXV9cH2vffy94H3MfeX95743fm9+uP6k/qM+jn7a/xm/Zb9Sf11/Vv+G//q/kv+Sv4O/wUA2ABPAR4BoADLAO0BCgMhA2oC+gF0AooDeQTCBIYEaATPBKgFmAYoB/gGbQZyBlgHPwhACIcH9wb5BlgHuQfDBywHMQZ1BVMFcwVWBd4EWgT6A8MDpANpA8wC7AFHAS8BYAFPAbwA//+p/+D/JAD2/2v/8/64/p3+h/5x/lX+OP4u/lH+rf4h/1z/Qf8S/xr/T/+B/6n/1f/z/wAAJgB0ALwAywCwAJsAowC2ALwApwB9AFsAVwBuAIsAgAAkAJn/Rf9M/0//9f5v/if+Lv5A/jD+4v1L/aj8avyq/AH93/wq/GL7MPuX+977Z/t0+q75XPlU+Xj5o/mp+Wz5Evne+BP5k/n0+fn56fkP+lj6hfqZ+sf6MPu/+1D82vyN/WX+Av9P/9H/ywCoAeoBBgKaAm4DAwRuBPcEcgW4BQAGfAbgBukGvAa9BgcHcgfEB/MHDwgvCEIIIwi2BykHyQatBnsGBwacBYEFZQX+BIcETAQFBHADzwJ1AjQCwwE7AdcAiQAsAML/av8r/+/+oP5F/vz94f3w/fr9yv12/Vr9of0J/i/+Cf7g/f39Xf64/tv+7v4P/w//6/4T/7P/PQAYAGr/5P4F/5//GAAMAKn/Zv91/6f/wv+n/13/B//S/s/++f4d//f+jP49/kX+bf5i/jD+Ev4V/hT+/f3Z/b39u/3X/fX97/3P/dj9G/5H/hf+v/1//T794fyq/NL8Jv1N/UH9KP0Z/RH9G/01/Uz9YP2Z/fz9VP54/pX+2/42/3//w/8WAGMAlwDWADcBkQHDAesBOQKnAv8CGAMCA/MCCAMXAwUDAQMtA1YDUQNMA3gDogOHAzID8QLyAicDVwNZAyUD5wLNAtUCzAKjAoIClALAAtMCwQKgAoECaQJOAj0CUAJvAkECuAFIAVMBngGjATsBqwBLADQAPgAnAM7/Tv/f/p7+h/6A/nr+cv5h/jb+4/15/Sf9B/0O/RL9AP34/DT9o/3i/cP9mf3F/Tv+lP6T/l3+Sf5u/ob+Xf4w/lL+uf4R/yr/JP9F/4v/mv9V/yz/gP8LAEYAGQDg/+f/MgCKALEApACLAHwAggCyAOAAoQAAALj/IwCTAF8A6//a/wkABwDq/+L/s/80/8f+xv73/uv+lP43/gn+CP4W/g7+5P2w/Zj9rP3W/fn9F/4v/i3+Of67/rP/fACbAGUAhQAgAcsBHQIJAtEB0gE2AsICCwP8AucCFgNiA4kDmAO2A8cDvAPKAwgELQTyA3ADDgMMA0EDPQPkAo8CmALZAtcCTwKKARUBKAFeAUoB/QC2AGIA8/+q/7P/wf92/9/+Y/5V/pP+n/46/rL9ef2X/bv9v/2m/XH9Qv1n/cz97v2c/Vv9rf1T/q7+lf5H/vv96v1W/hH/dP8u/7v+tP4Q/2D/hP+N/3X/Sf9R/57/2v+7/13/Jf9R/7z/DAAaABkASACWAMEAsAB9AEsAKwAYABYAQACAAIkASQAnAHAA4QADAcoAhABwAJcA4gAhASEB7QDJAOIAIQFEASEB2ACwAMQA4QDdANYA9AATAQABygCdAH0AWQA/ADEACwDH/53/qf+m/3n/ef/N//7/uv9s/4r/2v/V/2r/A/8G/2b/tP+x/6r/7P89AEgAJgAfADEAMgAZAAoAJgBcAHAAQgABAOr/8/8CADMAgACVAFMAJwBdAKEAmwB/AJ8A1ADJAH4AOwAyAE8AVwA3ACYATQB8AG4AJgDg/7T/pP+2/9P/wP+D/3j/vf/l/53/Of8l/zX/Hf8H/yH/Kf/i/pX+kv6r/qL+lf6w/tL+xf6h/pv+xv4C/x3/Hv9F/6P/5v/i/+n/RAC7AOQAsAB5AJgA7AD5AJcAQABqANQAAQHwAOgA7gDjAMkAtgCwAKkAiQBzAL4AWgGqAU0BsQB8ALsABAEVAQEB7gDqAOIArAAxALb/qv8cAJUApABlADwAPgBAADIAJAAlADIAPgBDAEsAWwBXACYAzv9//2n/m//0/z0ASgAtACYAUgB8AIEAiwDCAPoA9AC9AI0AfQB3AGQAQAAYAAoAJgBQAFcAKwD0/+D/9P8IAAAA5P/b//n/GAAXAA4ABgDM/2j/Uv/G/0kAVAABAMz/5/8kAEsAPgAAAMH/tf/g/xkAKwAAALj/kP+U/5v/fv9R/0P/XP97/4P/bf82/wT/E/9V/2j/Iv/h/vf+Kf8b/+3+6f4E/xf/OP96/7T/v/+2/8b/8/8gAD8ATgBLAEEASwBnAHAAVwA/AFYAlgDXAPsACgEUAS0BYAGQAYUBPgEJARoBRgFKAS8BHwETAQAB/AAPAQcBywCKAIgAyQAQASEB+gDWANcA1ACoAHIAVAAxAOn/nP+D/6n/z/+n/0X/IP9n/6b/bf/6/sf+0f7Y/uD++P73/sX+lP6f/t/+Fv8R/97+uv7H/uv+8f7T/sH+7P5M/6j/yv+2/5H/df9w/5D/yP/n/9f/wv/S//P/+P/b/7z/tf/P/w0AWgCJAIwAiwCcAJUAcAB/AOYAOAEhAfEAAQESAd4AsgDZAAYB5ACyAL4A0wCvAH8AeQBiAA8A0P/k//7/0/+e/6T/pv9n/y3/OP9C/wX/x/7f/ir/S/8r//z++f4U/xH/1f6h/rn+Ef9T/0P/BP/6/j//dP9Y/zn/bf+z/7L/kf+f/83/6/8NAE4AiQCUAH4AdgCJAK8A4wAQAQcBzgCxANkABwH6ANcA2wD6ABEBLwFgAXgBWwEuASkBRwFRASEBzACXAKoA4gADAfwA4wDJAKgAcAAmAOj/wP+O/0r/LP9P/3X/Wf8S/9v+uf6W/nv+fP6T/qf+rf6h/nr+T/5W/o7+rP6H/mL+f/64/sn+uv7A/uv+If9R/3j/nP/D//T/GwAYAPj/AABTAK8AzQC9ALkAyADTAOMA+ADtAMQAvQD0ACABBgHWAN8AFAExARUB2wCwAKsAvADGALwArQCjAJ0AlwCMAH0AdgB9AJEAowCmAJYAfgBkAEcAJgABANr/xv/o/yUAJADL/3j/gf+z/7j/nf+P/3X/OP8T/zD/XP9R/x//+v7r/un+Bv8z/yn/2P6i/sb+A/8R/x//cf/a/wUA9P/e/+f/AQAMAPv/6P/t/w==\" type=\"audio/wav\" />\n",
       "                    Your browser does not support the audio element.\n",
       "                </audio>\n",
       "              "
      ],
      "text/plain": [
       "<IPython.lib.display.Audio object>"
      ]
     },
     "metadata": {},
     "output_type": "display_data"
    },
    {
     "name": "stdout",
     "output_type": "stream",
     "text": [
      "Playing poisoned audio for sample 1\n"
     ]
    },
    {
     "data": {
      "text/html": [
       "\n",
       "                <audio  controls=\"controls\" >\n",
       "                    <source src=\"data:audio/wav;base64,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\" type=\"audio/wav\" />\n",
       "                    Your browser does not support the audio element.\n",
       "                </audio>\n",
       "              "
      ],
      "text/plain": [
       "<IPython.lib.display.Audio object>"
      ]
     },
     "metadata": {},
     "output_type": "display_data"
    },
    {
     "name": "stderr",
     "output_type": "stream",
     "text": [
      "100%|██████████| 400/400 [27:15<00:00,  4.09s/it]\n"
     ]
    },
    {
     "name": "stdout",
     "output_type": "stream",
     "text": [
      "Epoch 0, Loss: 0.2650457624143746, Training Accuracy: 95.66666666666667\n",
      "Backdoor Attack Success Rate: 10.0\n",
      "Clean Accuracy Drop: 1.1666666666666714\n",
      "Running experiment with poisoning_rate=0.01, decay=0.6, delay=150\n"
     ]
    },
    {
     "name": "stderr",
     "output_type": "stream",
     "text": [
      "  0%|          | 0/400 [00:00<?, ?it/s]"
     ]
    },
    {
     "name": "stdout",
     "output_type": "stream",
     "text": [
      "Playing clean audio for sample 0\n"
     ]
    },
    {
     "data": {
      "text/html": [
       "\n",
       "                <audio  controls=\"controls\" >\n",
       "                    <source src=\"data:audio/wav;base64,UklGRqBPAABXQVZFZm10IBAAAAABAAEAgD4AAAB9AAACABAAZGF0YXxPAABH/w0AlgAaAIv/3v9lAC4Auv/c/0AAMwDc/8X//P8vADUAIAAcADMAPgAiAAUAEAAoACgAIgAwADgAJQAWACkAQgA7ACMAGAAVAAwABwASACMAJgAbABQAJABBAEcAJQD5/+n/+f8KAP7/1v/A/8v/xP+i/7j/FwAxAMn/iv/s/00AEgC9/+f/KgD9/7L/zf8ZABoAy/+V/8//QwBVANz/h//T/zEAEwDz/0QAewAPAJT/s/8RAA8Az//B/9//7f/5/xsAKQAFAOr/AAAcAAwA/f8KAPb/rf+q/xwAVgD1/6//EgBmAA4A1P9NAIkA3P9m/wkAqAAwAJn//P+RAEoAuv/b/1gAZAAHANH/7/8gABwA5//Q//7/JwAHAND/0f8FACQAAADD/8z/GAAlAMH/g//R/x0A3/+E/6X/AAANAN//0v/s//z/8f/g/9//6P/V/7D/y/8uAGAAGgDW/wYAYABvAFMAVQBHAAYA8f87AHUAQQAFACMAPQAIAP7/ZQCRAAoAiP/F/1QAdAA2ABIADwD5/9n/3/8PADUAFADC/6j/+/9gAGQACgC4/7P/6f8VAAkA1/+p/5D/j/+7/wkAMAAFAL//p/+3/8z/+P8lAO7/YP9T/wkAgAAHAID/xf8xAPD/jP/J/zoAKADN/8f/GQBTADQA4/+v/9D/NgCKAHEADQDy/0QAZAAAAND/RgCNAP7/bv+3/zYAFgDC//D/WQBgACEAEQA5AFUAQgAdABUANgBZAE4AJQAGAO//3P/2/zAAIAC1/4b/5v82APj/sP/g////mv9j/+D/PQDc/5T/GgCFAAkAkP/8/3EABgB8/8D/PgAWAKP/pv8NAEAAAACm/7j/LABDALr/gP8ZAIIA/v+c/0MA4gBmALX/7/95AFYA6/8AAFAAQQDx/93/HwBhAD0Ay/+m/wMAMADO/6L/JwBtAMv/Tv/f/4UAOQC3//v/cQBAAOT/FQBuAFAACAATADUADgDY/+L/+//c/6n/pf/G/9j/0P/E/8j/0v/E/6T/sf/1/w8A2f/B/wYALQDY/4P/u/83AFsADgC9/8r/GwAyAOj/yv8jAEYAzv+X/zEAqQA0ALT/DACIADcAmP+W/wgAOgAAAL//1v8qAD0A7P/T/0IAiQAnAOL/SwCXABoArP8SAIgALwCp/83/MAAZAMv/4P9LAIoATwDi/9n/PQBHALH/dP8jALQAPQCh/93/SwABAH7/oP8hAEcACgDc/+n/CgASAAQACgA3AFMAMAD2/9//5v/Z/6j/fv+Y/+r/GwDt/4f/VP+O//v/HQDf/73//P8dAM3/mP/0/1UAJwDF/87/NABsACgAtf+k/woASgABALn/7v8nAOn/pf/k/zoAHgDd/+r/DwD7//X/NgBQAAgA+/95AMIARwC+/+b/RgAzABIAVwB4AAUAuP8ZAGUA9f+N/+X/OADX/5L/FQBxANv/Rv+y/2UAUADP/8H/DAAnABsALgA+ACYAJgBaAF0ADAD7/2MAiQACAKf/GwCXAEUArv+u/xAAJQDa/6f/1/8uAC4Av/9v/6T/+f/r/6b/ov/m/xsAEQDw/wcAWQBwAB0A3/8VAFwAOADv//L/KQAzAAAA0P/R//L/9f/E/5D/lP/K/+//0v+X/53/9/81ABUA9v8kAD4A9/+9//v/UQA+AOv/1f8cAG0AZgANAMr/2v/3/9j/r/+//9z/wP+K/4X/wv8AAPP/o/+K/9b/CQDY/8D/FQA6AMf/ef/u/3YARQC7/6H/9/88AEgASABcAHoAgQBtAG4AigBmAPb/0/89AHQA+/+Z/+7/MgDG/4P/HQCqADsAkf+0/0YAaQAkAPz/CgAJAM3/k//S/3EAngAFAIv/6v+AAHIABADz/0QAdgA/AOL/6P9JADQAf/9V/z4A1gASADH/jf9ZAEsAxv/J/zEAQwDm/53/1f9WAHQA+f+f//n/gwCEACUA9/////P/0//K/+D/7P/B/3L/U/+O/9v/4f+t/4X/gv+Y/9f/HQAJAKL/k/8VAGAA7/9y/6n/KQA6AAAAAQBDAFwAAgCM/7b/dACcAML/Tf8iAOgAWgCJ/8//ggBiALz/l/8XAIUASgCr/4X/HQCTADcAtf/k/2kAegAlAPX/AwAUABIAEAAOABMAOQBeABwAlv+b/1YAtQAOAFL/g/8iADMAyP+W/87/EQAfAAcACQA6AGAAPgDz/9b/CwBZAGYAGwDC/6j/1/8AANb/hf+d/ykAaADy/4H/w/85AC4A2f/d/08ApgBgAMT/uv9sALMA9f9w/xcAxgBNAJX/y/9LABEAnP/D/y0AIAC//5//6P9AAEkABwDo/x0AUQAvAPr/CAA2ADEA+v/h/y4AmgBwALD/aP8SAI0A/f9k/8X/QwDq/47/DABvANT/RP+4/zAAt/9D/8r/RwDG/0X/yv9eAPL/Tv+I/xUACgCt/7f/FAAyANT/YP96/xcAWgDj/5X/GQCeAEMAmf+I/93/6P+r/6D/8v9OAEcA5f+6/xQAfQBqAAIA1P8SAGIAPwDA/6z/QwCgADQA5P9lANUAXADV/yoApwBgAOj/CwBUACQAAABiAI4ABACp/yYAkgAkALX/IACpAFwAt/+p/x0AYQA4APr/BwBZAIEAQwACABoAQQAYAOL/7v/8/8T/kv+t/7z/gP9y/8z/3v9a/zD/3f9DAJn/+/56/zEA/f9v/4r/AgAMAK7/hP/b/1EAOwCk/37/LQCqAC0An//2/48AagDc/7r/9v8LAPb/7v/h/8b/4f85AFkADgDd/xkATgAVAN3/JQCvAM4ARwCp/77/egDVAEIApv/m/4AAjQAzABkAOwBAAC4AMQA0ABgAAAD6/9r/pP/D/zkAUAC6/0P/nf9JAGkA+P+U/5f/1P/x/9X/xP/p////zP+T/7T/KAB6ADUAnP+S/z0AiQDe/03/xv9eAAkAc/+S/+r/u/96/8z/PAAiAML/rP/N/+H/DwBgAFQAy/+C//f/lgChAEMAGQA9AGQAawBeAEkALAAIAPb/GwBoAIEAMQC0/4D/2/9nAGkAyf9n/83/MgD5/9//ZgCDAJv/Fv8AAP8AogC9/7X/MgA7APf//v8tABIAuv+R/9//WwBcAL7/Rv+K/wIABADY/+z/7v+P/1j/tP8XAPD/nv+o/8z/s//A/ywAVgDm/7T/QACXAAYAk/8QAH0A8/94/w4AvgBpAM7/9f9TAA4AlP+l/wQAFQDj/9L/+P8lAEAARgA3ACoAOwBpAIsAegAxAN//wP/c//L/3P/S//T/AADV/8j/GACAAIUAAwCB/73/iQCaAJP/B//g/4cAvf/6/rX/owArADX/Xf9UAMUAVwDA/6//GgBfACUA7v8xAJIAfgAhAA8AaQDAAJEA8f+M/8f/KgAhAM3/sP/l/xwAGQDu/9j/9P8XABEA7v/m/xQARgAuAN//2P9GAJwAXwDu/93/FQA1ADsAQwAbALv/l//i/wYAtf+R//3/HgCH/0//FACAAKD/y/5V/zsAEgBZ/0P/u//s/57/WP+b/zwAdgADAKr/AAB4AEQAkP85/8H/lQCVAKX/J//j/5MAHwCT/wgAjgD//yr/Uv8iAHwAFwCe/7r/XAC+AHUAHgBEAFsA9f/X/4AA7wBUAKT/6P96AG8AOQB0AIkA/v+n/zQA2gClAPn/sP/B/83/BAB/AKEAJADD/xMAlwCQABQAvv/Q/wsAFgD4/xgAiACpACYArv/f/0wARQDr/8T/6v8JAOb/ov+W/9P/8/+n/zb/H/9w/8//9P/W/5D/X/+N//H/7v9x/0z/2P8hAJr/T/8AAI4A8P8T/0L/FABgAAAAnP+a/9f/AQD4/+P/9P8MAAAA7P8FAFAAigBgAPP/2P8+AIUAQwAZAIYA3QCPAFIAsQDHAAIAhv8yAPkAtgAlAE0AqgBmAOj/8/9YAGsAAACR/6b/LwB5ACEAu//a/yYAFgDk//j/HwD//73/rP+2/67/tv/W/7b/U/9U/+v/OQC3/zj/h/8JAPv/w/8AAFQAIQCc/2T/rf8WACUA1/+4/wwAUAAaAOr/MQB5AEUACABAAIgAUADa/6r/u//S/wgAYABjAPb/wP8iAIwAaAASAB4AawB5ADIA7//7/zoARAD5/8P/9P89ACsAyf+M/8D/JAAyAMn/eP+r//v/8P/e/xYAHgCx/4b/DgB0AAkAlP/Y/zAA7f+v/xQAXwDf/1f/nv8pACQA1v/O/9H/i/9f/6//EgAJAMD/pv/I//H/HwBGACAAvP+u/ysAhQA/AOL/AAA/ABsA3f/6/0AAQgABANT/+P88ACMAtP+o/0YAtQBTAN7/IwCkAJYAPgA3AFcANQD8/wEAOQBcAFAAKwAGAOn/xf+d/5j/vP/F/6D/pP/2/xsAzv+O/83/JQATAM3/xf/0/wQA3P+8//3/cwBnAL3/fP8kAJAA8v9s//f/dADf/1f/+v+xAEsArP/9/5gAbADP/7b/NACaAGUA3//M/2QA1ACDABwAVQCiAGQAMwCcAOIAXQDV//7/GgCQ/03/7v81AFz/1v6y/2EAkf+v/kr/TgAhAFH/QP/i/zsA8f95/27/2f8dAOr/yf8rAI4AVADS/7f/FABjADcAxP+o/xMAawAtAL//uf/u//H/3v/2/wMA1/+1/9T/5f+7/8j/OgBoAPz/wv8+AJMAEwCW//T/gwBVAL3/m/8NAHkAYADr/7n/CQBOAB4AAgBkAJ0ALADR/ykAfAAWALj/DwBYAOr/pP87ALgAMwCF/7r/VABcAPL/yP8GAEUAKQDS/77/CAARAJr/bP8AAHoAEQBm/3X/KQCfAEwAmf9j/+j/XQAmAM7/9P8lANj/f/+4/zsAWADi/2H/hP89AK0AVwDx/xsATQD6/8D/LwCcAEkArP+l/0EAwQB0AJr/QP/I/x0An/90/0gAgQA//5j++f8iASgAE//p/8UAy/8J/0kAMgG4/zb+OP8OAf0Ak//4/pb/TgBhAA8AHgCYAGUAVv8p/6MAnQF7ABD/d/+mAK4A7//C/woAAgDA/83/PwCSAC0AV/82/ywA8gB7AKT/kv/P/6H/rv9nAKMAp//F/jr/DgAPAOr/ZACIALP/Vf9dACUBSQAx/3//TwAwALr/8/83AMr/e/8LAJwARACu/87/XACQAG0AYQBtAGMAWgBvAIQAbgA2AA8AIgBaAHUASQDy/7j/1P8iADsAAADX//r/EADk/9v/QwCnAHQAzP9V/4D/AwAeAKj/bP/c/ycAtv9a/83/QgDa/yT/Kf/g/2cAIwB6/3n/SQCbANT/df9lANoArf8E/2YAeAFAAAb/BQAxAUIAEP/H/9EAJQAY/4b/bAAkAE//Sv/Z/wIAyf+v/7P/qP++//7/8v+H/4f/LQBeALH/r//5AHUB+f/5/kUAeQFlADv/QwCGAawAWv/B/6UAIQAh/17/YgDHAG0AEwD0/+f/8/8MAOn/nf/I/3IAmADZ/2f//f9hAKD/5/56/3cAcQCf/y//gf/8////jP83/3P//f8zAOL/av9J/4v/xv+0/5b/uv///wsAx/+L/+j/lgBiAEX/MP/QALYBZQBC/2kA1wEjAbX/4f/qAP8AbABRAHMANQDj/wgAiQDEAEsAlf+0/8MATwGDAKT/4v9XAO7/cf/b/3IAJwBO/xT//v8PAZ8A2/4z/sj/SQGaACv/Qv9VAJQA4f9y//T/vQCVAID/Jv8/AAsBBgCI/oj+sf9qAEkA5v+V/1f/RP9m/43/sf8OAHUAKQBD/xr/IgDGAOr/6v5b/4AAzgBZAAsA9//L/8r/JABZABMA0P/5/x4A8/8FAI8ApwDZ/zb/wf/bACsBUwBR/2T/gQA3AbEABABOAM4AhAAdAHYA4gCCAOP/8/+NAOgAtQA+AOb/0//i/+f/6P/9/wcA8//l//7/IwAYALr/Tv9f/+D/CgB+/9/+9/6f/wMAqP8H/xf/9P+BAAEARv9P/77/vP9//43/q/+L/5H/BAB1AF8A4P+X//P/kAB9AJ7/L//i/4IAJADn/58A5AC+/9z+zf85ATMBMgC///P/LACAAPgA0QDe/0v/2f9+AEEA7f8sAPb/2v6j/kYAqAHMAPn+j/6x/9oAOwHwADgAjf+K/zYA4wDeACIAU/8Q/4//hwAzAdMAn//H/iH/GwCrAJwANgBd/37+7f6dAFUB7/97/vr+LAA7APf/cABWAOf+WP4KAKQB2gAg/+3+BQCtAHIAGgAzAHMAIwBw/6r/DQGsAVkA1f4q/6AAQQGuANr/T/8u/5//bwD/ANIABQBL/17/LADTAJ8A3v9h/4v/FACAAIUAOQDa/37/Yv/p/8oA+wAKAOH+z/4WAHQBRgGj/47+S/9rAFQA4P8XANH/fv5T/nMAMQIbAcX+Iv5v/7QAswDT/zD/V/+8/7v/tP8QAD0Atv8k/3j/jwBjAS0BIAAj/wj/3P/CAMcAAACG//z/qgCjABgAvv+O/2H/pv94APwAmADy/9H/+v/y//v/VgCFAC0A6f89AKsAjgAhAPD/8v/z/x4AhwDHAIAA3v96/8v/gACwABQAmf/u/20AUwASAEEAYQDs/2X/gf8LAEMAwP8J/yD/BgBbAIb/+v7I/5kAIgBz/+v/zQC1ANf/Xf+8/2AAiAAWALr/6/8nAO7/vf/+/wkAbf8A/33/MgArAKP/X/+A/7T/8f8yADMA3/+O/5b/6P8cAOH/Y/8z/47/AwAjABoALQAeALr/Xv+C/w8AfABXANP/mP/n/zAA7v9w/0n/Zv97/5z/6/8nAA0Atv+R//b/pgDwAJIAIgBLAOUAUgFQARwBCgE2AXABlwHSARUC8QFYAfoAbAFGAqICKQJXAeAALwEXAuYC6AIvAoEBkQFNAgkDMgPTAmUCXwK7AjgDrQPoA48D7wIRA1cEnwW8BfcEQwTTA4gDqgMVBMUDSAKXAMn/v/9q/xn+YvyR+wX8mvw8/GL7Bfss+/76N/pI+bj4e/gq+L/2Y/P+7j7sjev76RzmS+Mu5PvlXeXr48XkWOcB6qLtqvMJ++8BAAjNDVkTBRheG88diSDaI4MmGye/JQUj1x4aGc4SSw0ACXQF/QFB/jX6SfbM8uXvfO3A6/zq9Ost7+fz/vdf+iD8tP7GAZcEpweUC6YPyxIHFbgWnxcEF7EURxEEDq4LCQo0CK4FQwLS/dr4gfSS8afvLu5I7aPtU+/i8aX08fY4+B75Sftp/ysEGghmC4EOrRAxEekQyxB8EC0PNw1KC2cJFwc4BKgAQPx394zzjfE+8X3xPfFT8E/vTu8F8UL09fcq+3f9rv/3AvkGngrzDD8O0xBGFzAdVBhjBnnzwulg5UPegdbn1PDYZNr20YnBcLONrwmz4LnGx5/etvSdAaYJZhPhG5QfgyTKMTlFUlaSX/ZfBFkBTDA6SScpGqAVVxSiD0UHZ/1A8EvfWs8PxR6/obwjwePOReDG7IPw3u4K7pHyovwpCvoZWyqXNzk/x0JqQ1M/lDVkKmEjeiJVJMQj2xwfDwb98emO2RHPDsuWyufKv8sGzrTQQtJ40kLTCtcr4GjvmQInFV0iTyjMKAkoIymRLDIwEzJEMQkudChYIOkURAaH9kTpVuHL3obeQtxL1nfOU8jFxXrHfM3j1hPhRurR8rX7qASMDOsS0Bj6H60oHjHCNrk4QTf9MuIskyY8IdYc6RfJEPMHrf9U+a30qe+L6EjjHOfD8Bjwqd1xx+y9SsBcw5LDnMcU1Y3lUek/2yLLYMlD0uTc6O2wCNMfFSioKUovpTQwMoctjjH3P7VPSFaiTrw7XCMmCWTx2OMU48Lm6+XE4K3ajNFOxIi4BLX5ue/EOtW+6uEBrxPeGTgW5BJCGOgkSTNgQihRzFmkV+ZNnkGkM3kjdhQCC/sHXwcvA6H3mOVL0b6+m7I9sVy62MYs0ODVStuH4dznUO7D9igDwxNfJuI2yUFQRUpC8zqOMnEsEyuDLBYrECJ3EtcAj/DR4gXYzM/oyDbEQsQByaXNNs79yxzMxtEB3dbrYvvFCLQSthkeHzwkBilqLEIuZzArMyE0NzHUK7slEB7NEwgJ9gD5+7H4DPZv8iDtoudI5EDmW+889mbp2sqvt3K/Qsz1x/C/x8kh3fXix9YWxoa9pcHQz+zjMf0mF0ElPSRJI18sMDTsMB4vsjxJUSNaA1ISPyknBA42+H7quuex6yLrK+Hq1QjQfMgLuxyzd7umzMjcV++zB+IaLh+sG+0dFimDN95E8k+qWKhdhVyZVHhJez3FLoEdNxD/CncIIADa70rcvMpOvk+3yLUUutLC4soY0FXWfeBB6p/wfPjOBnYYhSdmM0A9K0PaQdE5PC8pJ1AiDx0RFBoJ2P449DjnEdlnzPTBcLrotxG8P8VEz+bVmdiT2tPfSOmP9U4DxBB9G7giligrLn8xNzB3K+omiCXHJnYneiRnHecTlglLAD/6IviM93X20/Vh9rv2Hfbi9d32DPdz8ZDiMNA/yAjO1dOUz0nKqc5V1UjRD8TVuSa688X72lL0hgu0G9QipiRBKRMz6jvmPzpFmlDuWtVYukiKMEAWWv+T8b/t8e1i6jPfxM/8wiS8grd3s1e1UMIX1vLpsfwBDrEYgRumHsspeTpSSb1TPFpDXFhYX09nQ3k2WSkAHPAO3gO3+lbwZOJz0s3E6btSuEO50L1qxHjMpNXr39zq+PXaAIkM4hpHKxY6aUPVRtNFq0ESOkUvmCLWFgkNaAMb+CHsUODJ0h3EtrmXt4i6hL5lxEzOZNkt4mPpN/FJ+bIBLQ0/HGAqCTKVMkQviSuTKC4mgiNmIDAd6BnCFeMP9QdS/un0S+7V62fsTO6Z8A7zjfSn9NP0QPYe+aj9IQS4CzES3RByAEzmWtab2M7ckNVMziDTkdcOy3C0YqYSp+iyKscT4Qj67wv7FIEZNSFNLgE79UPxTnVeFGmUY7pPpTZQHgUJq/kq8TPsc+UT2Y/IkrlrsGera6pjssLFutwM8I8BexPtH1Ik6yldORRObV1eZCxlD2FKWEpNUkGQM2gjthKnBNT6OPL/5PvRHr8QtEGyTrZvvM3DaMw+1iLg6uk49YgDjRNLI7UyG0G3S+JPmU6GSThBETbMKqwg2hUGCP73O+eB1XXDbbS3q+WoRKoLrxK3QsACyZ7R99rA5PjvZv/WEgclazDhNEE1fjPSL1wrJyd4I8offRtmFaUMhgG09ZfsLelL6/ruH/E48rD0ePjy+2v+ZwDyAbMEWg0UGlsggB2FHdkhyxZ781rQBMeB0TTXJM36vee4ZLxNtY2dLY2BmVO05snp4UQEsBxdHTwc1y91TDlc5GHCaw96/38IdeJZgzfhFg/76eYP4SPlod64w7alOZmLmsWdeKQAtW7JKdyC8sEP2SlkNrw4Dj4pT4hna3pdfg12immwXDtOYj6sLTQb/QaJ80XjAta0yLO3saUFmw6d4KbOsQW9b8qI13/ivO4pABQVuSiZOARFe08hV3lZLFUZTchDNznOKzsclwwE/qDtGtcevACmXZwxnGmen6CZpPip0bCnu6vLVt0T7nn/xRI6JakyvToCQOVEPEgPR15A4DcrMOMmshnkC/UA3vZ37CDmpObE6Onn1+Zm6hjxmvar+U39cwSFDoIX6RwPIfIlNiplKtoklxxgF3kQwvlA1Zq+3MMszbHCzrByrL6tDKQvld+RqZyor0rIPeVOAbQWQyPlK/o5Bk9nYdVpa25edPlzZ2M2RwQp5guW8bTgmttK2YLOB7lnomaWtpm+pbGzQsRy2ubxKAcBHmY25EU0SEhK1VjJbiZ9033Rco1fIElqN0YsMiFXD2z3XuCwz5rEpbksrHWfppqRoKyuib9/zvHY1OEu76kDXxtdMEpAH0wnVXhaGlu8VkBPH0ZeO0cuKCDDEMb9Gucr0VfAQrRMqQSdIJNUkrObIKeRrq+1BcPn1JPl6fMUAr4Q5x+QMNZA9EsTTrtI30DuOmw2my8sJLQW9gpmAYj4KPDr6O/hptua2LzaQ+Ck5h7t6vPT+ZL+8wOiCgIQkhLcFGoZhB//I28lZiV4JnomKh8rDhT6lOr74J3YM857xN/A68FQvXKukJ/wnOykS7E1w03bofDJ/TAKKx3LMYE/S0fXT7xbkmZzatBiKlCON7cfMQ0oAU/4Ke3r3SXOBsOUvTi8Jr3XwMfHVdPj49L3TgtOG4UnqTKpPyJOfVoHYEFduFRZS/9C4Tn5LBoc+Qk1+QbqLttVzPq+xbbbtde6EMGqxWnJy8+O2mnorPY5BN4RNSCzLeI2Hzp5OFA1OjOOMp0wmyq+HpcNcPoy6tDeHtbszRLHy8ORw5TDmcGXvqe9Y8L3zfTdqu0s+vgD2QveEF8TdRc7HyQnySrwKrMpNiatHqgUQQv0AxH/y/xC/DH7B/gp8/buhu3v7hvx8PJr9cr59f6YAtED/AMcBWsIhQ2hEvwVIhf+FqsWQhaxFXAVLRUMFDUSehFJE3IWXxXvCaL1LeNV2sbXfdRm0ETOlMtKxQG+qLi1s5WwbbYXyVTha/TY/l0F5Q0XG+grlTwsShRU8VpdXkJdfFRDQqUqGxeVDZMKPwVh+NHl09IKxUW/nsBWxaDLztO03qzqPPVd/SUEKguFFMkhfjEyP/1Fo0QcPqo3BzTvMdgtzSUFGuoLGf1E7z3jzdgS0LLJ18a2x9HKLs2+zWPOztE52Bjhvewt+s4Fvg2sFPAcviROKaUr3S3AL3Ev1CzSJ6QfhxQvCTr/aPVk6ojf8daD0A7LcMbzw2/EPMitzp/Wwt7E5hzvlvhGA3wOShl2Ig0pVi0aMZU0zTXmMgQtRyZ9H+4XOg/hBcX8aPSL7LDlPuEW4Mjg6+HJ48zn4+0c9VT8jQKfBggJsgzhEl8ZvR4JJQUrCCp+HogOwwK8/a/5EvAa46Dcit5D3HfMZLhWr7iytrv3x6PW+eGF6IHx+wGsFIsipiyMOKJHI1XYWwpZi064QIUzByjZHd8SlgSU8+njXdhBz+jG4MCRwMbF/8241gTf8OYF8LL7qAoFHPcrcDWIN5k3tzngO/Q5kzQXLkUmwxvJD28D8vU+58fZ5tB+zdnMmcpOxvbDQMeuzqjWBd4J523zsAHSDTgVuhmdHp4ksyrlMNs1TzapMDYolyDzGSgSugh2/rzzKOlH4FvZtdI2zDrI7cjGzFfQ0dFJ023YJeNW8TH/gwppE64a8yDsJkksKjDFMT4xHS8KLCAn7R7ZEzUJuQGk/KT30/G764zlst8329XZZ9wt4q7oeO4M9IT6bAFaB7QLtg9SFbMcfSMzJ5kneSVMIloe1BhrFPwWqhutEd71pN5p3M/h+tuXzzzM2dHe07DLeL6mthq8/sxD4fbyZf+RBP0FPw2eHU0uKDe1O3xBQ0UvQeQ3DS6+InUVwAsRCIwD+ffY6Onc/NRyz2DNYNEi2tTi0ObW5vHo8PGD/1cMVxbkHVoiUSMtI4MjTSPnIUMhNSL0IaEcOBIBBmj7lvTk8fDwmu2l5kzfKdtl2vzbPeCS55HvMvXh9yr52/qK/hUFfA0PFZAZ/RqOGnoZJBjtFjYWMhYyFqsU5w/IB2r9gvLA6dTlPOax5g7kp98A3UXdQt+v4QnllOrQ8j/8iQSoCssOPRHVEmoVAxldGycbLhqnGbsXGhLECVoCef5x/Uz8ZPkP9pb0+fSt9dr1cfae+G78XgBFA5EFLAiMCtULyAwnDpMP8hApE1YVOhQyDY4BQ/a38Hfweu/z6lDnROcM5ezaZs1FxgTJ2NKU3x7qYe1Q6zHtUvhNB/QShBt1JMQsdDBqL04sIinAJlkl3CJPHCYRqgTL+rj0vfCf7JboTOZm5t7mveX14/Lktep69Av/2AYJCoQJLggHCYINyRSAHGQh/SANHKUWNRMbEFkLhgZBBN8D1QI/AKz7GfS76wzoT+vB8GXyuu8I7a3tRPH59N72yffi+bf9WQI+B6ML5g2/DU8NMA6pD3kQGhFCEusSPBHpDOAGcwAe+yD4Lvdb9qfzne7k6BblOOT05GzmmOm67ifzf/QA9Hj0zPZr+iD/nASaCecMoQ4uD5sOwg2HDlYR+BNXFBgT2hG2EL4OxwvKCMIGqQV6BIgCWwDD/oL9rPve+Ar2kvTk9OL1SfYz9tP2q/hl+3X+xQAcAVoAhwGABTQJhwl3B8oFAgWXA/IAHP0x+JTzy/Hv8prz7PAN7BvoW+Zy5jroZOu67qPxvvTH+F79KgErAyoEaQbvChAQahNWFGcTExHWDRULigrwDMwQ5hJMEUINxAj/A0v/qvwe/T/+cP1D+7j5I/n0+Cr58vmp+u36Xfvu/NT/OQPQBRMHsAd3CFAJ1AlJCq8KJQpxCOsGbQbhBf8DRQEo/yP+qP0V/UL8c/sZ+0/7APz+/N395f3f/J37Ovsg/OH9rv+oAE8A0P4L/Qb8Lfw0/Xz+QP8E/1D+ev7A/3kAWf9L/eD7SPtL+4/8Bf/EADgAOP6x/Iz8cP22/tL/PwC//3j+2fyP+1b7gvzU/ogBpgNhBMgD6QJ0AhAC3AEjA7wF5gbGBDsB3/6h/U38N/to+5f8ev0p/dr7oPpJ+n/6CfuM/A//+wAeAXEAlgCrAcgCewPYA+4DxwOuA8kD1gOUAwoD/gEMALb9fvww/Z3+4f5y/Yb7s/rF+zf+pgD0ARwC5wF9Ao0EWgccCQUJJQj9B9wIswlqCR4I9gY8BrgE2gFD/0f+vv39+3D5qPcZ9/r2Z/Zo9dz0P/Xp9Yf29vfM+rz9Sf/R/8IA1QIHBhwKCw4XEG0PMg0WC/0JjQkeCV8IVAeEBQYCrfwG9xfza/Gb8RLztPT89J/zRfIY83z2sPo5/UD9OPw//D/+VwE9BHkGTgjSCZkKswkOBzgEXQPeBJsG0QXQAXP8P/gj9iH1JPRk883zGvUo9lr28PWC9XL2LPphAJwGqQqoDM0Nig7xDssPSBEfEkkRfQ9oDYwKbgYfAkH/K/6s/TT8SvnR9RXzd/G78Mrw3PHI81L2QPkR/Ab+/v7V/5oBbgSRBzEKcAvDCswIWQdRB8sHNgc4BdICDgGx/4v9D/pU9jf0gPRi9mL4fvmL+SL51Pj/+AT67vsf/ngArwM2B60IPgeSBQwGhAcOCGoIyAkHC00KtQfBBHwCnQAo/lb7DPr3+tj70fos+b/4rPi49xD3fvii+x7/YQJEBRQHNgcNBvcEiAX1B4wKzwsJDC0L5QdjAiT+Gf7EAIUCqgGk/mv6Z/Zf9Pr01vYk+CH4NvdW9i/26PaX+EX7Lv67/2z//v4FAOgBWANcBEcFdQVDBHQCSgErAW0BNwFPADD/cf4q/tn9Ev05/Cf8N/24/n7/+f7k/ZH9dv65/4UAMQF5AhQEIAVkBfIEtwNUAhoCNgP5A8ICBwDD/UH9VP7W/2YAOf9D/Yv88P0zAJ0B5QEtAk0D6AT4BbEFQQTRAn8CRwMWBL8DBwKz/7L9rPzO/IX9tP0J/WP8kfw9/cP9Of79/tr/eQAIAdYBywJhAy8DYALDAdQBIAISAskBVAEwAGj+Pv2T/Yj+sP6z/V/8mvuD+5j7vPuM/DX+i/9n/zn+Hf13/Fr8Nf0K/+MAvwGaASUB8gAVAU4BfwHIATQCcwImAmoBwwCVAPkAzAGYAsMCRQLGAZcBMwE+AFr/M/9y/0r/mf6x/cb8D/zT+yz82/w4/aH8mvuY+xb9rP7z/mX+rP6AAPECbwQ5BAoDPwJxAlADYgTqBBUEJQK9APkAEAKSAh0C8QAR/+L8m/vl++L8Q/2i/MX7wfu4/Lr9Z/6T/7EBeAOIA44CBgJMAjUD/QQRB6IH0wUeA30BTgF1AQoBSADv/ygAMAAJ/7/8vfqB+lX8//7UAAUBBwDR/g/+8f1p/mX/ywBGAj8DXgO9AtoBFwF+AO//g/9j/1n/Ev92/mj9vfsS+r/5R/tl/YT+af7p/aH9vf1H/ij/FQDWAFIBvwGJAowD+AOWA2EDBwS6BGIEMQP5Ae8AAwCD/4P/cP/I/sj9Hv0s/b/9T/6W/sf+Nf/T/2oABgGoAQUCJAKYAm8DwAPpAqEB6gDFAIUAyP+X/iz9vfuG+gr64fqs/Nj9gP2s/LX8bf0e/vz+PwAkASAB9AB5AWYC6wLhAsIC8wJKA0QDhwJdAUsAif8b/yr/g/9f/0/+5/zd+yn7wPom+5D8Gf7w/mP/DQDLAD4BlQFJAm4DmwReBZAFcwVTBToF6wRCBFwDfwLBAecA2v/X/gH+Bv28+4/6N/rz+kv8Y/0T/hb/xAA+AvACvANVBcwGCAeSBlYGFgYJBU4DawGI/9P92fym/Gz8f/sq+lT5efk8+tD65fr0+pj7rPyk/V/+4P7d/qj+YP8KAfUBJQEKAGgA2wHGAqYC/AE5AdIAUwFcAqcCUAHi/uz8pvyc/Qn+/fyA+/f6PPuY+078uP0K/9//MgF5A0sFagWxBKEEWQUBBjkG9gUEBV0DcwHe//L+YP5q/Rv8ifs0/PT8x/xm/N38sf0y/un+RwBRAUAB8ABiATYCpALYAlwDCAQ7BK4DsgLpAacBoAFwATEB1wDV/yD+0Pyy/CX9Nf3t/OD8Ff07/Un9c/3W/YP+df+JAJMBPgIvArsB7wEfA0YEbgQFBNgDxAMwAzgCVwG5AD4AyP9R/+n+Wf47/cv7DPuv+yP9R/6R/nL+qf5k/ywAkgDFAEEBFAKtAn4CkQGGAOn/pf9V/93+ev5W/j/+5P07/bv84vyb/W3+8v4F/7D+OP4J/n3+o/8eAUUCogJfAscB9gBEAHQAqAHMAtgCCAIJAfn/1f4z/pD+gf8xADgArP/h/jv+/v1X/kf/bwAYAfEAiABmAFsARgCtAMwBxAK/AhYCkAFQATABZgEQAqwCpQIAAhIBEgA6/93+Cf9B/xT/k/4K/pr9Sf0v/X79OP4F/2P/OP8O/3n/aQBiAQgCPQL/AYABMAFLAaYB7gHjAYcBDgFpAGH/Vf5L/p3/JAFxAV8A3v6//Wn97v3l/n//Wf/T/m3+R/43/jD+bP4d/wgAmgCJADsALgBPAF4AhQDyAGEBkQGxAd8BugEBAR0Al/9x/3D/if+1/6v/J/9C/nL9NP2g/Uv+0P4u/4H/n/94/3b/6/+VACwB1AGXAv0CoALaAVEBRAGEAdkBAwLBAQsBJgBQ/5D+8v2o/eb9h/4V/yz/uf4C/qP9Kf5k/3oA2wDPAPgAegHTAYQBvgBEAJgAYgHnAecBiwHoADAA0//e/8z/Pf+E/j7+i/4F/yz/4v53/lT+lP4o////5QBeATUBzwC4ABABnAE0ArIC0gKMAjkC5QEbAc3/zv7E/in/IP+S/tX97fzu+237zvun/Gz9Dv6c/tH+m/5//gb/EwA3ATsCAQNQAw0DggIOAtMB1wEaAnsCpgJGAmEBUwCO/1j/pf8QACAApP/b/i7+0v3M/RP+mv45/8n/NABsAFwAIQAGAD0AoQD+AFoBsQHEAXAB/QCeACEAb//w/vP+JP8N/7D+W/4p/gX+4f3f/Sv+tv4f/zr/af/x/3cAsADmAFoBpQFdAdkAtAAKAY4B+wEXAq8BywDO/w7/mf5e/l/+pP4F/zn/Ev+b/hX+4f07/gz//P+xABMBSgGQAesBJAIgAgsCHwJOAmECSAILAqYBOgERASkBDwF1AKj/Iv/v/tX+u/6f/mz+Jv4A/jH+uf5a/8T/9v9IAOsAiAG+AaIBZgHtAEIA5v8IABUAhv+x/in+6v2v/Yb9m/3P/eT9z/21/cT9E/6L/hr/y/+DAOwA8QAOAY8BEgItAhwCJgIJAoEB7QC1AKoAeAA0AA8A7P+Z/yn/4/7x/j3/iP+p/7L/x//h//D/AQAtAGUAmQDTAAwBFwHYAG8AGwD8/wcALABdAI4ArgCeAEUAsv8M/4P+Vf66/oX/IgAhAKX/Mv8l/4j/LADLABsBHAEWAScBHAHDAD4A7v8AAD0APQDK/xf/l/6S/vP+a/+x/63/gP9b/2b/tP8mAH0ApQDbADwBhgF1ASUB4gC6AKUAwQAPAU0BUAE6ARgBngCR/1z+nf2D/Rb+Wf+CAAEAbf2I+mH5Uvp9/CX/1QG8AwgEowJbAJj+mv6vAAsEPwfPCO8H7gQzAWT+ff1V/tP/yACeAE//Mv3m+kH5Afky+lP8hv7u/xYAP/8+/hT+Of9RAWQDigSSBMsDtgLQAYoB9wGWAtECcwJ2Ae3/NP4F/er8rP2R/u7+kP65/ef8hPy+/IL9nP7B/6IAEQEaAQcBJQF3AdoBKgI1AsgBAwF1AIEA7wBNAWkBSAHjADoAff/5/uX+N/+q/wAANgBGAAUAXf+I/uT9oP3C/T/++f66/zMAKgDN/6H/8P9tAK8AzgAYAYoB6QETAuABEQHL/77+ev7f/nj/BgBoAFYAwv8U/7n+s/7n/m3/UgBIAckBjwHGAO3/e/+X/xIAogANATUBHgHsALUAdQA3ACEAQgBtAGcAJQC7/zP/rf5p/oL+x/74/gT/HP92//7/UwBNADMAWwCqAOQAGwFiAXgBQgEgAT8BMwGmAAMA2f8SAE0AYwBAAKf/nf62/Y79M/4h/6z/kv8t/9f+kf5w/u/+EgDmAKIAtv/y/oP+T/6f/qH/wQBOATYBuAD+/2D/g/+WAOEBjgKMAisCkQHQADIABQBCAJAAiwAnALf/Y//t/jP+qf3h/cz+4P+ZAK8AGAAp/3b+hf5w/78ArAG/ATABfAD3/8b/EADRAKMBAQK4AfIAGACO/3j/wf8uAHwAaADt/1L/6P7M/vz+bv8GAIYAlQAGAB3/gf6y/pL/owB2AbsBQgEtABz/qv4J//b/7gCAAW0BsACC/2D+7f1y/pP/ogAxAR0BfgCX/9X+lv7p/qz/oQBhAXABsACc/8D+R/40/qr+pP+nABcBuwDc/wL/tf4u/y4AHQGNAYYBKwGEAK//F/8v/wcAHgG2AZABHgGoANr/mP61/RD+df/UADwBiwBg/1f+kv00/cP9V//wAJABQQGWAMj/8/6Q/hT/XgDVAdQCAANtAm4BaADC/9D/mACnAUcC+wHFACr/zv0d/S39yv2Z/jX/VP/u/kz+5v0N/rD+l/+bAKgBkgISA/gCYwK7AXABpgEbAm0CUQLBAekABAA//67+V/4d/vH93/3n/eL92P0N/pr+Hf9H/07/iv/y/14A2AB3ASECcwILAicBqADzAGUBXwE9AXgBqQE0AT4AYv/i/pD+Mv7S/bX9Av54/qr+W/7h/dj9ZP72/j//wf/QAM4B/wGrAZQB9wFsAnICAwKcAXABHQFbAKr/nP/+/wMAIv+m/X/8Nvxk/Lf8q/1l/7wAwQAFAI7/c/85/9f+CP+LANAC9AMAA1ABdwAqAJb/P//m/+kAKAF6AHX/iP7Z/XP9f/0k/j//MABeAMT/5/5k/or+Ov80AFEBMwJAAlwBYAAIAB4ATADlABkCIQMtA18CWAFsAK//TP+o//QAkQIdA+8B+v9v/n79E/2u/Zz/6QEIAyQC3v/S/RD9S/34/U3/TAHYAsgCVgG9//n+Gv+F/+v/mwCPAfYBFAFT/wr+Sv57/63/Wv6L/XH+I/8X/iv9Uf4IABYAFf///iwAZwGvAS0B1AA4Ac0BzQFzAVkBVQEPAeMA9wCIAHL/BP+4/+P/qv75/TH/bgC3/0D+Iv4R/4f/Sf8n/3////8xAAAA1P8RAJEA5ADrAOMABQE/AUIB/gDUAOUAuQAMAGv/XP+h/4z/zP7s/dz9gv6H/pb9X/0A//AARwFaAMv/NgDeAOoAnwAlAZ8CawNXAo0A4f9sAOwAkgDY/8L/awCiAJX/K/6v/Qb+X/6f/hf/lP+l/zv/qf5R/on+YP96AFEBmAFdASQBlAFVAhoCxQA8AHgBmgLsAbUAlgCWAIT/pP5C/yMAzf/v/uL+Wf86/2n+pP1+/Rb+Of9aANoApAA+AAoA6P+x/7P/PAAYAaoBewHTAJAAzgBxADj/zP4NACoBlQCv/wwAfwCc/5z+7P58/zD/RP+oAKIBvABz/3T/1f9R/9/+yv9HAc8BSwGdAD0ACwDY/7L/3/9VAIIA//89/9f+tv6t/g//yv/u/yb/i/4G/+j/EAB+/yT/p/+YAPgAewAJAGwAHwE/Ad0AnwChAHgA5/8l/67+0P5P/6T/hP8T/7H+oP7F/hD/xv+zANkAJAAlAGYB+gG8AK7/qQA9AlECfQFSAZoBPAFQAMP//f+nACIB5ADc/7L+Rf68/kj/Rf8F/wb/E//u/vv+mv9vALUA/f8P/43/ZAEgAsgABwB/AWkCmQDh/hQA/wF8Aav/PP8EAEQApP/0/rT+uv6h/oP+Ff9EAJoAYf8o/oP+rP9AAIcABQHVAKz/Tf+kALgB8gDf/zQA1ABAAHn/2v+KAB8A9f5q/v/+9P8rAG3/tP7H/h//K/+I/5kAUwHLAMr/pP+QAIkBdwGQADsAAgGSAfAARAC6AFgByQCp/07/vf8RAO//kP82/xr/YP/B/6r/D/+p/vb+i//T/+D/AwAhAOr/bP8q/5//kQAhAb0A7P97/4n/wv8SAHYApwBiAMj/S/9T/8j/HQAAALj/wP8iAGwALACN/0b/s/9DAIUA7QChAa4BlQCG/7D/jgD2ALsAaAAxAPD/mf9h/3T/vv/s/77/S/8X/6D/fgB+AGT/o/5J/10AnwB2AL8AFwHGADMALAC0AEIBhgFyARcBogBJAC8AXgCPADgAaf8F/13/c/+z/in+q/5E/+v+W/6j/mD/rv+a/8D/QwCmAFwAq/+r/6QARwG7ABcAVQCAAIH/Ov4p/jr/OQBtAPj/Xf8I/wL/Gv9I/5f/4P8HAD4AlAC2AGwACADe/8z/x/8oAAABnQFUAVAAaP9I/8v/KQAJAPv/bgDjAMEAUwA5AHQAigA3AND/+P+sAP8AegADAFEAlAAPAJ//FwCfAFkAFQCQANUAFwBZ/6r/TgAxAKb/kP/y/yQAyv9C/1f/EgBYAL//oP+XANcAc/+y/iAAaAFiAPL+av+NAEIAPf9G/zMAswBJAJj/b//W/+z/VP8O/7//VADc/0L/lf8iAOj/Vv9c/9X/GQAXABUADgDp/8L/vv/S/+//HwBZAHgAXAABALf/9P9+AFYAY/8k/0EAEQFGADv/hf9GABwAof/g/0IA6f9a/2f/uv/E/9r/XgDYAL4AWwAoAAoAz/+7/xUAngDPAHMA2v+N/7v/+P/1//j/QABzADsA9P8JAEkASwARAPb/IwBzAJgAZwAAAKv/nf/N/w4AQgBmAHEAQQDg/6b/yf8EABYAJABWAGkAGACZ/1X/Z/+t/w4AZABhAAEAs/+l/27/9v77/tb/qQCvAGEAdACpAGAAoP8q/77/9QBiAZQADwC2AP0Ayv/X/rL/0ABsAJ//5f9JAI3/rP79/t//HwD1/xIATAAcAJb/OP9S/7T/zP+P/8T/fQBtACf/ev6K/6QANQCH/yUACQGbAHL/F//A/3AAZQDg/8n/XACPAMj/HP+E/yUA+f+i/xQA0wDvAIgATQBnAJAApgDBAP4APQEnAZ8ACQDd/xwAagB0AD8ACAD2/+j/uf93/2H/ov8LAC8A///y/zcAQACo//z+/v6h/zcAOQDU/7X/+P/E/+/+2P4CAKAAjf+T/lH/TAC9/6X+r/5Y/1b/4/73/qr/NADx/zH/Dv/x/88AuQBHAGIAtgCVAEoAWQCFAGUAOQBgALIA0gCsAG0AQgAkAOf/pf/P/2IAkwD+/3T/s/8sAEAAcwAnAXcBxAAPAEwAwwCOADoAdwCiACAAvv8nAIsAIACc/87/JQDs/5b/0P9BAEEA4f+w//r/bABrAOH/fv+p/7j/Rf8o/93/RgCU/93+Pv/w/9j/cf+c/+7/vf+F/7j/p//z/rP+hP8oALb/Wv8AAFQATf9y/j7/egCJAAYAMwCqAHwA6//G/xkAagB8AGQASAA+AEsAUgArAPj/EgBtAGcA0v99/+//YgAhAMX/AQBbADsAIQCdAC4BEQFXAMD/1f9jALAAeABiAMoA8ABXAOv/ZgDgAHUA7/8oAGwA9P97/9D/OwDx/5H/2f8wAPj/zv84AGIArP/9/kj/9f8QAM3/zP/y/9f/lv+J/7z/9v8JAO7/s/96/07/M/85/0//Nf/5/iH/wf8VALz/gP8AAIsAXAD0/w8AYQBMAPr/7P8pAFwATAAmAEsAwAD4AKQASgBPAEMA0P+J//D/egBpANf/cv+n/ycARwDy//X/ngDmAEAA6/+uACMBMABD/8P/lgBQALv/AgB8AB8AdP9w/9X/7//H/7z/vf+Z/27/cf+V/63/pv+Q/4f/nf/O/wQAKgAxACYADwDj/77/6v9eAJoAVgD8//z/MwA+AAwA7v8oAH4ATQCW/03/8/+UAFgA5/8KADsA1v+D//D/bAA+APT/MQBtAAwAlf+x/wsADADl/wAAQQBOACoAAADT/5z/df98/7T/6f/V/4n/f//l/zsAFAC+/6n/rP+P/6P/DAA1AM3/hP/f/zQA+f/c/2MApgANAMX/iQD6ABQAS//i/4wA/v9r/ycAHgHUAOf/tf87AJAASQDc//b/jQCwAA0Axf+CABIBdAC8/xMArABTAHr/Pf+2/yQACQCz/9//kgC/APH/VP/F/y0AkP/t/mD/FwDp/0P/OP/I/y4AAgCg/6n/LABoAO//c/+j/woA8v+P/4j/6/9KAF4AQABGAIMAngBkADoAbACjAG4A/f/D/9n//v/+/+X/5P8KAB8A/v/a/+H/2f+e/3//uv////n/3v/y/woA6/+9/8D/4P/z/woAPwBvAGkAMQD//wEAPgCPALsAnwBZAEIAYgBAAMr/v/9VAHoAr/9N/ygAwQD3/0X/CADdAEoAgv8CAOMAsADo/7v/EgAoAOX/uP/g/yEAEgCp/2b/pv/+//L/vf/B/9P/t/+y//P/EQDK/4r/sf/a/5z/Uf9l/4v/b/9s/8r/CADP/7D/DgA4AL3/dP/1/1QA0/9R/77/YQBAAML/u//9/wQACwBYAIQAOgDs/wUALwARAAcAVAB2ABMAwv8RAKUA0QCNAFIAZACZAJYATQAYAC4AQAAKANX//v9aAHMAJAC3/4H/o//5/y4ABwCy/7b/HQA/ANj/rf8vAH8A8f9d/6f/MQAMAH3/U/+j/+7/9v/d/9r/AAAoACUA+f/T/8z/0f/D/6X/oP/b/1MAuAChACUA6/86AH4APQDx/xgAVAAiAMj/z/8tAGwAOwDd/+v/cgCmACgA1/9EAI0A+P9r/8r/TwAFAHT/iP8IADUA+P+9/8j/+v8DAOD/9f9YAHcA+/9//6D/AAAEAMj/t//M/8v/uP++/9v/8P/y/+b/y/+7/+j/KwD//2v/WP8WAJsAHAB0/6D/MQBFAPn/6v8qAEEA0f81/03/MACxAB4Agv/d/3QAUAD7/0EAogBgAOz/9P8zACwAGQBBAEUA5v+r//b/RwAdANL/6v9AAFsAHwDf//D/OwBAAPH/+/+gAP0AcwDS//3/gACJAEAANABVAEAA6f+h/67/7//o/3r/Nf+C//D/+//b//j/KgAaAN3/wv/o/xMA8P+Q/4X/+/9BAOr/lv/f/zwAFgDf/x0AYwAjALj/sP/p//L/zv+u/47/YP9I/2//zf8jACEA2//V/zgAZgAYAA8AsgASAYAA6P8sAJcAQAC2/9H/OQA5APj//v9RAJgApACGAF4APQAaAO//0P/Z/wQALAAoAPr/zv/G/8X/u//U/xEADACl/2T/pP/w/8n/cP9y/9T/KQAjAN7/tv/R/+D/sP+b/9z/AAC2/2z/kf/P/7L/dP+J/+n/NAAxAAwAKgCIAIUABAD2/64A5QDp/y3/0/+JAAIAYf/x/7IAXACr/9X/bgB6ABcA//9FAJEAtACsAG0AHgAaAG8ApwB/AE8AYwBjABUA7/9BAIIALACl/4//3/8hACMABQDs/97/wf+j/9j/TQBOAKj/Vf/a/y0Ak/8Z/6P/GQCH/wX/oP9AAM//RP/N/6wAqwAMAMP/8f8OANf/iv+p/yQAIwBz/0X/HwCLAKf/CP/5/wUBiABt/1//IwB1AAIAiP+t/0cAhgATALX/CgBzADUAyf/j/zIAHwDf/+b/FwAgABAAFQAbAAsABAAbAB0A7f+9/8T/5f/o/8L/o//B/wQADwDU/8n/JwBwADMAyP++/wIAJAD8/7//r//X/wQAEAAIABkASgBxAGcAQgBIAIYAngBdABcAIQBNAEgAGAAGADgAegBuACAAGgCHALgAPQC8/9T/CwDU/5z/5/89ABgA1//7/0AAMwAAAPf/6f+s/5X/0f/q/5j/XP+e//L/2/+h/73/DgAjAOH/jv99/7L/3v/W/93/GwA7AAAA0f8GAFIATAAeACAAPQA2ABQA/v/n/8//3f8nAH8AnwBzACQA7P/h/+z/8v/9/xEABQDb//L/VQBvAPP/ev+b/wEAGADt/+X/FwA5AAUAp/+h/wkAOQDL/07/ZP/I/9b/cv8c/0v/0P/s/3T/R//d/00A2P9A/4L/PQCGAEUADwBHAKoAoQAsACAAzQA2AaQA+/8vALUAnwArABAAQgBMABwAAAAwAIMAewAJANn/PQCEACQAwf/5/zYA2v93/63/7P+g/2D/vf8TAM3/jP/i/yIAsf83/3b/AgAMAJX/Ov9g/73/qP8c//3+sf9FAAAAsP8nAK8AYwDW/+L/MAAhAAAANABUAAYA3P87AH4AJQDk/0cAmgBDAAoAmgAeAbsAFQAXAG4AYQATAAMAHQAWAAQAHgBOAGsAeQB5AD4A1P+q/+7/KgANAPv/RQCBADsAyf+p/8D/t/+i/7f/3P/g/8f/qv+A/1H/Rf90/7r/3P/M/6r/of+3/8z/zv/Y//n//v/J/57/pf+Q/0f/Uv/o/0IA6f+f//j/HgCJ/0r/IwDdAGQAwf8SAIQAFgCh/yQA4wDQAFMARAB+AHgASQBQAIsAqgB6AC0AQgC7ANsAXgArAMIAGQF0AOH/TQDGAE4Ayf83ANEAkwATACoAVgDy/4z/zP8yABgA1//5/zwAKwDs/9T/zf+n/4z/pv/D/6z/f/91/4n/j/93/1T/QP9D/0//VP9c/23/dP9l/17/cv99/23/ef+r/5z/QP9S/wwAbgDn/4r/IgCeABIAlP8qANQAawC1/9r/bAB0AAsA5f8lAG4AcwBHAD4AdACPAFcAOAB0AIUAEQC8/wQATwAeABYArwAVAZMA4v/r/1oAaQAmAA0AMQBCABUA1//g/y4ARQDg/3X/g//X//P/y/+m/6L/s//O/+n/+P/2/+3/5P/f/+D/5//0/xAAKQAPANP/1P8qAFkAEgDH/+H/BwDb/6z/2v8SAPf/zf/5/00AawBKACgAKQA4ACAA6P/a/xEAKQDo/7D/2/8dABAA1v/U/x8AbQBpACMABgA6AEwA+P+t/9T/GwD4/3L/EP8s/53/5v/O/5n/ov/c//D/u/98/43/7P8mAAIA3v8MAE4AOgDf/6v/7v9tAJYATAAoAIQAyQB1AAAAFQCOAMoAnwBYADYAPAA9AB4A/v///wgA9f/W/9D/2f/e//j/IwAdAN7/0P8oAHIAUQAjAEUAWgAGAKr/vP8IABoA5v+2/73/5f/w/9T/2v8gAEsADgCt/4r/l/+c/6P/wf/b/8f/iv9m/6j/JQA5ALv/dP/c/zIA4P+e/w8AcQAIAJb/7f9wAE4A8P8DADkAGQAAAE4AjgBLAOz/9/82AEAAJgAoACwACADd/9j/5f/d/77/tP/n/0IAfQBvAEEAMQBCAE4ARgA3ACcAFgAGAPf/5f/U/8//2P/n//X/AwASABkACwDf/7L/wP8KAEYARwBMAIgAuwCdAE0AGQAHAPn/6//r/+j/2v/f/wAAEQD6/+D/4//i/83/4P8yAG8ARwDi/6P/tf/p/+7/uf+c/7r/tf9t/3j/DABJALT/SP/G/zoAyP9B/4v/4v9r/+L+Nv/n/wYAqP9v/5X/w/+P/yj/Wv8xAHUApf8//zAA6QAtAIH/UgA6AasA0f8xAPEApwDa/73/OwCCAFYAJwBmAOkA8gBRAO//UwCeAB8Axv9cAOMAdgALAI8ACQF+AND/EgClAIYABADz/z8AWwAbANr/AQBvAHIA3v+Q/wcAVwDQ/2X/5f9eAOf/Wv+s/x4AwP8p/0D/qf+f/0//P/9f/2P/Xf93/5P/gf9O/zD/Vf+m/9L/wv/K/xMAOwAHAPX/TgB0AAMAu/8iAGoA8v+a/xsAiwAaAL//UgDTAE8Av/8fAIsADgCA/+D/gQBqAP3/EQCSANEAkQAvACkAeQCDAAkAvP8QAF4ADgDA/xIAYQANALv/BwBEANH/bP/F/xYArf9M/6v/AACZ/1H/8f+SAEgAy/8BAGUAMADS//n/UwBJAAsADQA7AEQAJAANABMAJgAjAAwAEAA4ADoA+v/Y/wcAFQC+/5T/9v83AOP/uv9AAJAA+f9r/9D/XgAnAMH/+P9GAPr/kv+3/wIA5/+7//P/OgAbAMz/tv/N/9D/xf/R/+//AQAFAAYACgARABcAEgD0/8L/n/+k/77/3P8PAE8AVQAXAAAASACRAHcALgAZADgAPQADALn/rf/m/wgA5v/N//3/HADh/6b/1v84AFoAMQAFAP7/CgATAAsA+P/p/+P/5f/0/w8AJAAbAPD/wf++/+7/GwAbAAMA/f8GAAYA/v8AABYAPABqAJAAlQBxAD0AEwD2/+H/2//i/9j/sP+K/4b/kv+d/8H///8RAOP/wv/k//v/xP+M/6X/1//M/6j/qP+p/4f/ff+y/+X/4P/d/xIARwA7AB0ALgBTAFcARQBDAEkAQQAwAC0AOgBIAE8ASwBBADwASwBmAGsAVABJAFwAXQAwAA0AHwA3ACsALwBqAJsAegArAPz//P8NAB0AJwAsABwA5f+l/7X/GABSABQAxP/K/+z/0v+x/8r/1f+Y/3T/rv/h/7D/df+Z/9v/2v+7/8H/wv+O/2T/gf+u/6f/jv+V/6L/jv9u/3H/m/+9/63/ff9x/6v/8v8EAOv/3P/m//f/BgATABQACwARADIAVQBkAGcAaABSACkAKABhAIsAbwBKAE4AQQD+/9n/IQCOAL0AvQDMANoAwgCdAI8AggBiAFIAZABqAEsAQQB2AKUAlABxAHcAdwBHACIANgAzAOn/uf/s/x4A9v/D/9//AADO/4v/kP+w/6H/hf+Q/5z/eP9I/0X/bv+Z/6//tv+1/7H/rf+p/67/uP+w/5P/hv+X/57/i/+Z/9n/7f+k/2X/i//F/7L/jf+l/77/n/+c//L/NwAUANv/8f8jACIAGgBJAHcAYgA1AC0ALwAWAAoAPgCVAMsAwgCRAGEATgBVAGYAfQCMAG4AKwANAD4AgQCOAHMAVwAnAOn/7/9NAIEAOgDn//v/LAAcAAUAKQA3AOX/j/+i/+r/CQAMAB0AGwDn/6z/qP/G/9b/0P/G/7n/pv+d/6v/yf/k//L/8P/i/9H/wf+3/7j/uv+i/3f/cf+r//P/FwAtAFUAcQBgAEIAOwAuAAMA4//r/+3/zP/C//T/JAAeABYAQgBvAFsAJgAIAPP/x/+a/5X/sf/L/8j/s/+w/8j/2P/R/97/GQBNAD0A/v/I/67/q//L//7/CgDh/8X/9P9LAIkAmgCUAHgATAAsACsAOwBBADkALAAhABwAIAAuAEAATABNAEQANQAjAAwA7//U/7//rv+h/6L/vP/q/xkANgA2ACoAEwDg/6L/p/8AAFIASgASAP//EQAfACoANwAnAOv/qf+S/6L/tf+y/6H/nv+3/9b/5P/m/+r/7//q/9z/z//J/8n/yf/I/9D/5v/9/wUAAAD4//n/AAD6/+b/2P/f/+r/7f8CADcAaAB9AJUAxADbALIAagA4AB0ABgAAABoAOwBHAEoAVgBoAG0AYwBWAFEAWQBsAHkAcgBXAD8APgBRAF8ATgAdAN//qv+J/3j/cP9r/2D/Tf8+/0b/Zv+S/67/rP+Q/2z/Vf9R/17/eP+e/87//f8YABIA7//G/7X/wP/Y/+v/7P/e/9H/2/8AACsARgBNAEwARgA+AEEATABCABwA/P/+/xAAFgAVABcACwD0////NwBbADgA/v/s//7/CQAOABIAAQDY/8H/3P8OACMACQDa/7j/tf/L/+T/8v/5/wIAGABDAHIAfwBpAGMAggCVAHEAPAAyAE4AYwBgAEwAKwAIAP3/DwAlACkAIQAcABgACQD3/+7/8v/6////AAAGABAADAD7//X/CQAUAAIA9P////n/zv+7//T/RwBtAGIARgAYANr/sv+1/7f/k/9i/1T/bf+U/7v/1//T/7D/lP+a/7X/yP/M/8v/yv/B/6r/k/+R/7D/4P/8/+7/yf+8/9b/9P/3//f/EQA6AEYAKQAAAP7/IwA2ABkABQAfACsAAADq/yUAZABRACEAJQBIAE4APAA5AEcATABIAD4ALAAbACQASgBpAF0ANAARAAYAFAA3AFoAWQAoAOj/xv/R/+r/3/+v/5H/ov+2/67/vv8IAEAAKQABABAAJwAUABIAUgCIAGUAFwDy//X/8v/j/9v/2v/a/+T/+P8EAPv/3P/B/8X/6f8PACEAHgAZABkAFgAKAPv/8//8/xAAIAAeAAkA8f/d/8r/t/+x/7n/t/+l/6n/2P8MACMAOQBQACsAt/9U/1//sf/j/9j/tP+V/5P/wv8OAEYAPAD2/7D/rf/t/xwABQDV/8b/0v/d/wIAWgCuAM4A0ADTAMAAgQBDADkAXQB/AIkAfQBlAEsAMgAhABsAIQAtAC8AHAAAAPz/EQATAOz/zP/i/wwAHgAqAD0AKwDb/4v/df98/2z/T/9K/1n/ZP9w/43/uP/Y/9b/sP+J/33/jP+e/7D/vf+6/6r/sP/Y//r/9P/d/9j/5P/y/wwAOgBaAFQAPQAzADcAOgA/AEcAPwAqACcATgCGAKAAiwBfADwAOwBeAIwAoACNAGYAQgAqABwAGwAuAEwAXQBKAB4AAAAJAB0AGwAGAPn/9f/0//z/DAAMAPv///8pAFMASgAbAPL/3f/V/+D/8v/o/7j/j/+U/7f/x/+w/4b/Xv9P/2f/iv95/zj/LP+M/w==\" type=\"audio/wav\" />\n",
       "                    Your browser does not support the audio element.\n",
       "                </audio>\n",
       "              "
      ],
      "text/plain": [
       "<IPython.lib.display.Audio object>"
      ]
     },
     "metadata": {},
     "output_type": "display_data"
    },
    {
     "name": "stdout",
     "output_type": "stream",
     "text": [
      "Playing poisoned audio for sample 0\n"
     ]
    },
    {
     "data": {
      "text/html": [
       "\n",
       "                <audio  controls=\"controls\" >\n",
       "                    <source src=\"data:audio/wav;base64,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\" type=\"audio/wav\" />\n",
       "                    Your browser does not support the audio element.\n",
       "                </audio>\n",
       "              "
      ],
      "text/plain": [
       "<IPython.lib.display.Audio object>"
      ]
     },
     "metadata": {},
     "output_type": "display_data"
    },
    {
     "name": "stderr",
     "output_type": "stream",
     "text": [
      "  4%|▍         | 17/400 [02:23<36:33,  5.73s/it]"
     ]
    },
    {
     "name": "stdout",
     "output_type": "stream",
     "text": [
      "Playing clean audio for sample 1\n"
     ]
    },
    {
     "data": {
      "text/html": [
       "\n",
       "                <audio  controls=\"controls\" >\n",
       "                    <source src=\"data:audio/wav;base64,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\" type=\"audio/wav\" />\n",
       "                    Your browser does not support the audio element.\n",
       "                </audio>\n",
       "              "
      ],
      "text/plain": [
       "<IPython.lib.display.Audio object>"
      ]
     },
     "metadata": {},
     "output_type": "display_data"
    },
    {
     "name": "stdout",
     "output_type": "stream",
     "text": [
      "Playing poisoned audio for sample 1\n"
     ]
    },
    {
     "data": {
      "text/html": [
       "\n",
       "                <audio  controls=\"controls\" >\n",
       "                    <source src=\"data:audio/wav;base64,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\" type=\"audio/wav\" />\n",
       "                    Your browser does not support the audio element.\n",
       "                </audio>\n",
       "              "
      ],
      "text/plain": [
       "<IPython.lib.display.Audio object>"
      ]
     },
     "metadata": {},
     "output_type": "display_data"
    },
    {
     "name": "stderr",
     "output_type": "stream",
     "text": [
      "100%|██████████| 400/400 [30:20<00:00,  4.55s/it]\n"
     ]
    },
    {
     "name": "stdout",
     "output_type": "stream",
     "text": [
      "Epoch 0, Loss: 0.947604911327362, Training Accuracy: 11.875\n",
      "Backdoor Attack Success Rate: 0.0\n",
      "Clean Accuracy Drop: 86.66666666666667\n",
      "Running experiment with poisoning_rate=0.05, decay=0.3, delay=75\n"
     ]
    },
    {
     "name": "stderr",
     "output_type": "stream",
     "text": [
      "  1%|▏         | 5/400 [00:50<1:11:55, 10.92s/it]"
     ]
    },
    {
     "name": "stdout",
     "output_type": "stream",
     "text": [
      "Playing clean audio for sample 0\n"
     ]
    },
    {
     "data": {
      "text/html": [
       "\n",
       "                <audio  controls=\"controls\" >\n",
       "                    <source src=\"data:audio/wav;base64,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\" type=\"audio/wav\" />\n",
       "                    Your browser does not support the audio element.\n",
       "                </audio>\n",
       "              "
      ],
      "text/plain": [
       "<IPython.lib.display.Audio object>"
      ]
     },
     "metadata": {},
     "output_type": "display_data"
    },
    {
     "name": "stdout",
     "output_type": "stream",
     "text": [
      "Playing poisoned audio for sample 0\n"
     ]
    },
    {
     "data": {
      "text/html": [
       "\n",
       "                <audio  controls=\"controls\" >\n",
       "                    <source src=\"data:audio/wav;base64,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\" type=\"audio/wav\" />\n",
       "                    Your browser does not support the audio element.\n",
       "                </audio>\n",
       "              "
      ],
      "text/plain": [
       "<IPython.lib.display.Audio object>"
      ]
     },
     "metadata": {},
     "output_type": "display_data"
    },
    {
     "name": "stdout",
     "output_type": "stream",
     "text": [
      "Playing clean audio for sample 1\n"
     ]
    },
    {
     "data": {
      "text/html": [
       "\n",
       "                <audio  controls=\"controls\" >\n",
       "                    <source src=\"data:audio/wav;base64,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\" type=\"audio/wav\" />\n",
       "                    Your browser does not support the audio element.\n",
       "                </audio>\n",
       "              "
      ],
      "text/plain": [
       "<IPython.lib.display.Audio object>"
      ]
     },
     "metadata": {},
     "output_type": "display_data"
    },
    {
     "name": "stdout",
     "output_type": "stream",
     "text": [
      "Playing poisoned audio for sample 1\n"
     ]
    },
    {
     "data": {
      "text/html": [
       "\n",
       "                <audio  controls=\"controls\" >\n",
       "                    <source src=\"data:audio/wav;base64,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\" type=\"audio/wav\" />\n",
       "                    Your browser does not support the audio element.\n",
       "                </audio>\n",
       "              "
      ],
      "text/plain": [
       "<IPython.lib.display.Audio object>"
      ]
     },
     "metadata": {},
     "output_type": "display_data"
    },
    {
     "name": "stderr",
     "output_type": "stream",
     "text": [
      "100%|██████████| 400/400 [30:11<00:00,  4.53s/it]\n"
     ]
    },
    {
     "name": "stdout",
     "output_type": "stream",
     "text": [
      "Epoch 0, Loss: 1.007408109307289, Training Accuracy: 9.125\n",
      "Backdoor Attack Success Rate: 0.0\n",
      "Clean Accuracy Drop: 86.66666666666667\n",
      "Running experiment with poisoning_rate=0.05, decay=0.3, delay=150\n"
     ]
    },
    {
     "name": "stderr",
     "output_type": "stream",
     "text": [
      "  4%|▍         | 17/400 [01:16<25:40,  4.02s/it]"
     ]
    },
    {
     "name": "stdout",
     "output_type": "stream",
     "text": [
      "Playing clean audio for sample 0\n"
     ]
    },
    {
     "data": {
      "text/html": [
       "\n",
       "                <audio  controls=\"controls\" >\n",
       "                    <source src=\"data:audio/wav;base64,UklGRtQzAABXQVZFZm10IBAAAAABAAEAgD4AAAB9AAACABAAZGF0YbAzAAAZANj/uf/z/ysAFADw/wgAIgD1/6//sf/3/y8AGgDP/6b/yf/2//L/8P8iAEYAHwDw//z/EAD7//D/KQB1AHcAJADK/6//0//3/+r/y//K/+T/+/8TADAAIwDd/53/l/+k/6T/wv8TAFEAJgCl/0b/b/8JAJsArABAAM//yv8zAK0AywBtAOL/nf+5/+7/9f/d/97/AAATAPf/wv+5/+7/IwAnACYAQQA+APD/k/+K/9z/LAAkANT/pv/k/1oAkwBbAPP/t//R/xsAPQD3/4T/b//h/1oAUQDd/4T/kv/u/1wAjgBIALv/b/+u/ywAcABSABEA7v/y/wAA+//c/8b/3f8IAAgA0P+m/8j/EQA1ABsA+v8JAD4ASAAHAMH/xf8JADcAEQDI/8v/KgBiABwAw//Q/wYA+//M/8L/v/+f/53/5v81AEAAEgD6/xsAVABaACAA7//3/wcA6//B/8v/AAAhAAgA1v/K//z/LAAoAAkABAARAAkA5f/J/93/DwAjAAUA+P8lAFEAMADT/5P/r//4/wgAwv94/5r/JACZAIkAAAB3/2//9/+UALYAPgCT/0z/r/9YAJoAMQCL/0T/if8EAFwAZwAjANH/1P8nAFAABgCd/4//2/8nAEkAPwAIAMH/nP/C/yUAewBsAPz/nf+d/7//vP+v/9v/LQBSABsAuf+U/9b/NQBQACUA8f/J/7j/3f8sAFoAMwDc/7L/7/9bAH4AOwD4/xIAZABuAPf/XP9C/8X/PQAsAOf/8v8rACoA7//K/+X/FQAQANb/w/8AACsA/f/M//v/RwBHABQA9v/k/8f/y/8EADYAIgDl/8n/+P81ABoAp/9n/7b/NQBRAAoAx/+2/9D/CgA6ABoAr/9m/5P///9HAFwAWwA1APX/5/8ZACMAwv9U/1z/0v9DAGUANADS/47/wv9KAJEAOwCc/1f/r/8+AGwAGQDC/9X/IwA9ABMA7P/u//v/5P+u/53/2v8sAEkANwApACMAGQAcACsAEADG/6f/4P8ZABAAAQAsAFsAKQCS/x//cf9UALwAKQB7/5X/DgAYAMP/pP/b/wsA9//A/8v/KgBrADcA3f/Y/yMAXwBRACAAHABDACsAt/9x/7r/GAD9/57/jP/R/xoASgBYACMAyv+4/xQAdgBhANz/a/+L/yAAhgBcAAIA5//Q/4n/g/8FAH4ATgCv/1z/uP9eAKMAUADc/9z/WwC2AFAAcv8L/5r/fgCwAO7/A//n/qz/dACBAAsAy//2/zEANwATAPj/AAARAAIA0/+1/8r/AAAkACIAGwAwAFIAUAARAMz/1P8nAFAAAwCL/2f/rv8HACQAAQDd/93/2v+7/7n/8v8QAN//r//g/1EAkQBkAAoA+P9CAH4ASgDU/43/m//O/+7/9P/4/wUA///c/97/IQBPAC8AFQAwAA8Ae/8W/2T/4v/u/8P/3/8iADIAHAAhADUALwATAPf/0f+5//D/XwB9ABkAzP8PAH0AdwATAM7/yf/V/9P/yP/K/+f/BwAjAFMAiABiANr/g//C/ysANAD5/+P/9v/5//D/6v/I/4z/gv/A/+3/zP+w//L/YwCXAHcANADt/8H/3f8oAD4A9f+m/7n/GgBsAIAAXwAQALz/sP/v/wYA0v/D/x0AYgAPAHD/Nv+c/zoAiABYAPn/wf+t/5j/p//s/xkAAQDm/wcANgAWAKX/Rv9m//f/bABiABMA7P/2/wAACQAvAGMAgQB2AEYAAADE/67/x//4/xAA7v+n/4H/of/l//n/rv9J/1T/+v+0APAArwBDAMj/Wv9V/8v/NQAcAK//c/+l/xMAZABiABwAw/+A/3D/r/8qAJEAmgBIAPH/5f8mAGQAUgDu/4b/eP+7/+3/4v/m/z8ArACyAEAAsv9l/3j/yv8WADcALAAIAOH/yv/I/8D/qv+m/7n/tv+Q/4v/1f81AGMAZQBuAIgAjgBkABMAt/98/4v/y//t/+H/AQBsAKIAQwC6/5L/tf/X/wsAWQBZANH/L/8V/5z/UQC2AJ8AQADs/8n/yv/d//r/EQAiAEAAUwAaAJn/Qv97/xoAowDJAIoACAB+/y7/P/+c/wkAPwAuABMAGAAZAA0AOQCnAM8AWAC6/4H/kf+S/57/5f8rADMAJgA6AEcAIwABAAEA4/+J/17/rP8ZADAAAQDq////IAA3ADUACADC/5z/x/8tAIwApABjAPj/m/9u/4T/5v9iAIcAKACw/4z/o/++//r/UgBYAN7/cP+X/wcAMQAKAN//yP/J//j/RgBkACEArv9z/6//LABsAEIAEwA5AH4AgwBKABUA9//Q/5L/Yv94/9b/LQA3AAkA9P8lAGkAWgDr/5T/tf8QADcAJQATAAgA8//l//f/GwAxABoA7P/d//z/EQD1/8r/0/8IADMANwAUANL/of/U/1cAmQBGAMz/r//j/xYAQQB4AJEAXQD3/6z/r//v/yMAIAAAAPL/7f/n//j/LgBaAEUA+P+o/4H/jv/B/wAALQA1ACUAAwDI/5//3v9vAKsANACV/3n/yP////n/6P/k//T/LgB3AHUAEgCm/4z/t//Y/8r/r//B/wEANQA3ACUAJwAjAO3/k/9W/1z/nf/4/zcANgAGAOX/9f8bACIA9//J/93/MABsAE8AAQDO/8D/u//B/+H/CAAhAC0ANgA2ACcAEgADAAAAAwAJAAsACQD8/9z/tf+l/8D/9/8oAEAAOAARAOL/1P/x/wgA/v8BAC4ARwAoAB0AVAB0ADIA1P/B/+T/7//d/9b/5f///yQASwBSACIAyf95/2//rv/3/xcALgBdAIgAigB3AHUAfwB0AEgAFAAAAAoAAADP/7j/7v8/AFsALQDx/+b/BAD//7b/ef+W/+T/FwBBAIAAogB/AEEAGwD2/7b/i/+q/wAAUACAAJIAiABuAFsAWABSADMAAADN/67/qv+3/8f/0//d/+X/6f/v/+j/t/9s/1T/kf/k/wIA+P/9/yQAVgCAAJMAfwBDAPj/tP+A/2v/iv/T/wgABQDv//7/NgBzAJIAfwA2AMz/Zf8x/1T/rf/b/7j/lP+x/9r/0f+5/8//9v/7/+//AAAtAFQAWwBEACQACwAAAPr/7v/p/wkAQwBRABkA3f/c/wAAAQDT/53/iv+i/9P//v8SABQAEgANAPf/1f/U//P/7f+o/4L/uf//////5/8CAD4AUQAuAPz/3P/M/7f/mf+U/7b/0v/L/8v/7f8AANL/iv9v/4n/rf+3/6v/pv+2/8n/zf/U/+3/AAD5//j/EQAaAPn/3f/r/+3/u/+L/5f/tv+z/6b/vf/k//b/AAAbACwAIgAcAC4ANQAbAAoAIgA/ADIAEgASADYAXQBtAGMASAAxAC4ANAAjAP//+f8iAD4AIgAKACYANAAFAOf/GgBZAE0AHAAWADUARQA3ACUAGwAWABIACgAAAPv/CQAkACwAHwAlAE0AWQAqAAEAEAAZAOX/sP+4/8j/pP95/4j/wP/g/9P/u//B/9//2/+j/3n/hv+R/2X/Of9L/3b/ev9m/2z/if+d/5z/kP+B/3T/bv9z/4H/kf+c/6P/rv/J//j/JwA2ACIAEgAeACMAAwDT/8L/3P8BABEAEQAlAF0AkQCdAJIAlgCjAKIAkgCIAIgAjQCSAI8AfwBqAGQAeACRAJ8ArgDLAOMA7AAAASUBLAH+ANMA1QDZAK8AdwBiAFoAOQASAAoAEQAIAO//0v+3/5z/iv98/1L/Cv/U/sb+rv5l/h7+CP4J/u/9y/3A/cH9sP2d/Zr9nP2V/ZT9p/3B/dX9+P08/pP+5v4u/3r/3P9EAIgAnQC3APQAIwEXAfcA+wAaASQBCAHpAO0AEwEjAQcB7gAHAT8BXgFRAUMBbgHEAesBvAGAAYQBmQF2ASQB6gDkAPIA4wC+AMAACAFQAWUBdwHBARkCPwJAAk4CbAJ6AmwCUgI/AjQCIwL2AcABfAH9ADgAev+u/j/99fqO+Nr2w/W09IXzsfLF8vXz8fVF+Lr6Uf3t/2oCyATVBikIjghZCOsHTgdfBj8FGQT1AtAB0gAbAJz/Ev9A/jf9Q/yO+936/fkf+a741fh8+Xn6v/tU/TP/IwHtAokE2QWOBogGJAaqBfMEzQN2AmQByACMAIgAuwBAAQwCxgI0A3cDrAOPA+cC7gEFAT8Agf/K/lD+Qf6o/lL/IAAlAWgCqwOtBIgFPAaFBiQGSAULBEgCqv83/Jb4tPXC8/nx+u+c7uPulfDg8mv1U/h4+5P+dgEDBBoGeQfpB4oH/wafBiAGMwU3BKoDhgOJA3YDJwOuAz8EHQKG/or/DQN2+9TiKMcHuYy32bipuobBlc6w3wbzDge8GVUpczSjOgw9FzwON5ot2yHUFlQOUwgiBLABgAEqBPEIdg5QE34W/xYGFdARRg7yCVEEC/4L+df2vfeb+rH+FARAC30T3xsbJI4rJzGbM7Ay2y4tKYEfKw6Y9crcgsknukeq3pk1jsyLRJPgoDqxrMPK2JPu7wJHFucnETQ7OEg3TDVpM60vRCl5IQoboBfWFvgWIxeyFn0U1A95CbkBcPez6Y/Z7MlYvQu1l7AcsIG0876xzgriPfeYDAcgwy8sOwNCWkShQc05Ey54ITEWdgzOA/z8bflS+QP8bwCaBSwKTQ2MDkgOEg3aCsMGEgG9+8z4SfhK+Uz7/v7aBL8MfRUHHhomQS2uMlc1KTX7MdkrViDQDAXzOtrpxuW1/KJdkPOESYQajUybWKz7v9rWOu+kBkQciS40Oug9PT21O0o5ljOqKv4ghxl6FT4UEBTHE9ASmRDxDFUIJgJv+GzqLNobyx+/Q7bGr6ysFa+2uFbIidtv8PYFjxqrLJQ7IUYCS0xJIEKNN9crvh8/E+QGjfwZ9p3z/vPz9Sb5Ov3UAfQFtwilCeQIoAaYA/kAdv+a/jz+C/8uAqoHmQ7AFbIcjSNWKs8wgTXkNr401jAvKj8dMAj57mTXxcPTsamegIzKgfmC1Yxmmsmq0L8c2AjxfAkuID8yRD0FQsVCrUE+PhQ3VSyEIb4Z9xRgEbkOLw2sCywJHQaZAif9BvQk57bYlsswwbi4CbLWrsaxLru9yaDboO+RBEQZSizqOxFHjEzISz5FXTvULwMjwhRZBi/6BfL87aDs/+wc75LzifmY/5UE8QcWCWYIGwcaBg8FggPbAYgBowMzCPgN+xMeGsQgkSenLeQyYDaHNrky2SxjJBwWVgAP59fPorwrq/6YmIgBgPiC5o0cnECtRsNi3I316w2FJGk2/kBORdxFokS4QJw4vSz7IIQYABNdDmgK1gcKBvwDlQGX/s758vHY5lXaGM85xk6+Nbers9a2KMB6zaTdf/DWBPgYoCtbO7xGRky2S9JFrzxLMaYjCRScBP/3Me/c6UnneOc/6o7vcfbK/WYEgAleDEMNNg3HDHEL7Qg+BiEFYgaCCTgNLRH7FSscyiJ3KOIs6i83MRwwpCyBJogd8w82/D/k8s2LvCytpZwcjaiEQYZ6kEGfX7ATxHXb8PSRDckjADbpQeFGFUiPRzREzjuqLzgjRhkdEqYMyQeUA5kAhP6U/GX6Bvew8BvnWdzx0mXLz8Sdvq+62ruuw3nQrd8c8AkCCBV0J2837ELOSNZIC0SJO7QwxSOXFHwEt/ar7ZTo4+Vq5U3oOu4K9lb+BQbqC6cPgxH/EVgRWQ/eC9IH9wR6BOEFHQioClMO4BPhGnkhUSbZKbssry4zLn8qnCObGqUO0v1w6O3S48BdsQiinZNxitiJ2JHYnk6ujsDT1jrvzAaLHHQvLD1BROVGHUfKRCc+fzM7J5McpxRQDhkIcQKi/ob86Pra+KL1YfAP6bDgnth30SzLdcWmwQbC/cc40tfeOO2n/W4PyyAWMLA7l0JTRI5B5TooMbMkSRZ1B2f6x/C06qbnCOdS6b/uyfaA/yMH9QxDEScURxVMFEQR2AwpCEYE5wFKAVgCjgQLCCoN3xPiGuYghSUBKcYrDy2qK/omKyDYFhEJCfbi4JXNWL2JrqSfz5JvjEeP4ZjJpSy1Yci73j72XA1HItsywj3gQ2pGRkaSQp46Uy/3I+IazhMlDcoGzwGZ/qn8KfsC+Rf1Ou8b6Mng2dk705nM/sZoxIfG9Mxk1t3hju+T//wQxSGbL2Y55z5pQOA9uDcpLtghCxTHBrX7X/Oz7WvqE+oI7Q7zgfraAVII0g3dEekT4BP3EXEO5QlQBbABgf/I/j//JwHkBIwKExFfF9wckCFoJfMnIimQKOQl8iB9GrgR+ATm81fhh9A7wue0UaeFm2qVX5dGnymqTrcMyCLc8fHBB7Ab8CukN6E/hkSFRoNEFT5HNPQp7yAFGfIQtgh9AST8kvjp9QfzCO/u6STkaN4/2ajUF9A6zNXKfM3N047c9+ZK85oBBBG9H9QreTSGOSo7PzkVNNUr/CCsFMcIyP759jLxde187I/ubfPe+ZwAkAZuCyoPghHnERsQtAytCLQELgGC/h39HP26/ggC+wbgDPoSkhiBHc8hOiVhJ5wn1CVZIvgdyBcxDiAA+u613djOzsHjszOl/pm0lqyauaIGrX66vctp4NX2mgzUH2Mv8DqdQn9HGkkRRu49TTMGKRYgXRcfDgYFi/2W+IL13vK37xDs9Oey46vfydtM14fSCs+cznPRxdbC3cPmdPKkAK8Pax3HKIYxozeOOgA6mTWnLQ8jZRcPDO0BSvkf8hrtEut97GnwnvUe+9cApAbQCx4P4g+rDnkMsQlXBskCsv+A/af8eP0vAHUEyAlnDwAVbxp1H1UjZiXkJewkXSIuHkwZVhPXClX+nu6G3vPQv8UZukmtuqLEnoehdKiMsT+9SMzV3ovzFwifGgwq8jVgPkhEKEebRe8+OTUYK+kh9BhmD6AFKP0z90rzHfDn7K7pPebJ4uLfiN2w2iLXGdSW01jWodv+4Vnp2vIt/+4MxhmIJBktiTM6N7c3ezTWLZYk9hkKD78EjvuD80vt2uny6fXsovGd9tT7wwEmCDgNgA9aDw0OHgxhCQgGrQLc/x/+yf0l/zgCrwaLC2kQoRUyG98fgCI1I7EiYyGwHiAaGxQaDgYIKwDh9Bnny9lpz0fHc75jtIqsyKqcrlO1nL1lyCfWoubL+OkKTBu/KOEyAjpCP/9BZECsOVkwKSe6Hr8VuwvOAan5APTc7zjsNOk0503l+uIa4XHgAODI3k3dYN0p4DHl3uq28Pb3nwGIDJQWAh/yJTgrLS6xLpss/Cf6IDUYuA7KBfP9yfaH8Fzsfeth7ajwMvQ2+Dv9GgN7CAwMtQ0oDswNhQxhCroHEAX4AscBsQHAAtsEjgfACpgOABMcF/wZUht+G+wagRkLFzgTSg4fCdEE6ADV+xH08unI3x3YpNJmzB/EebxouZO7zcDwxifOxtfI5CX0qQPjETceSSj4L/I1rDm7OUI1zi15JWId/RTECy4Cn/lY82Dv2uzu6oXptui16FHpBOov6qPpj+jb55XoyepD7Zfv//LP+I8Akwi6DwoWARxXIQMl8iVlJP0g/BtzFSwO1AZ//3X4ofIa7/7ttu5N8MnyvvZK/CAC9AabCokNnQ9NEI4Pxw18CwsJqgaeBFMDAgNXA0YELQZICdUM/A97EowULxYAF4gWvhRPEoEPEwz9By0E4AAn/Vj3Cu/55dze6NlI1ErMP8QVwL/AYcTvyHTONdZT4QvvZP3lCtwW3yDNKDIvpTMbNaAy8CyfJUoe6BaJDicFhfxh9oHyp+9A7c7ro+uN7MXtq+4c7yfvg+5Y7Yrst+xq7SPuRu/z8c72QP3gA+UJxg/3FcYbxB9bIbwgdh68Gq4Vag9/CJ8BNvvS9S3ylPBD8OTw7PLd9uX7zAD2BJcI4QuRDhUQFhDzDjsNKAvQCJEG1wS1AyIDEAO/A2UFwwf5CakLUQ1ED7cQyxCqDxUOTAwPCmIHfATIAZ7/Gv7H/CL7N/g+8/rstecI5MXfO9kV0prN/cwNzyLSHtYO3A7lnvAC/bUIIhNIHAgkHiqqLTIufCsMJtoeXxcAECgIrP/F9x3yF+/p7Ybt0O027+7xHfWn9yv5wflJ+dn3IvaV9PHyEvGi77vv4PGz9VT6T//HBPkKgxFCFyQbzBzBHGIbkRj5E/wNfgdIAdX7Xvcn9FjyIvJM87v1RfmT/ccBVgVRCPIKBA0ADrINZgy9ChEJVwd/BdsD4QKiAvYCrAPDBCMGpgfyCPEJ0AqWC8wLOAtHCnQJlwhJB48F1QOlAgQCjQEZAR4BJgG1/7T7DfZ78NPr/+Zi4HHYDdKHzxPQ0tGB1IfZduG26wz3RQKYDKEVIh22IlkmmicXJsAhkRvDFE8OHwipAVX7ova59O/06/UO97j4Ffut/Zv/MAB7/7v97fo693/zUfBo7bzqN+n76QbtjvHM9rH8bQPFCsIRJxduGswb0xt4GlsXRxL9C5MFtf+p+rP2E/Sp8obyzvOc9nH6jf4sAisFxwceCtcLeQwFDPkK6gn3COAHiwZRBbgEzwRKBdAFTAa0BiIHjwfhB+wHkQe8Bq8F5ASKBDMEmwMTAwwDVwOhA/8DlwRQBeMFRAZvBmUGJgVzASv7B/SU7cDnM+FU2dXRg82azV3Q4tNb2IrfzunS9b8BWgxWFbccViKhJZomJSU8ITkbcBQSDo8IjgO//rD6afhq+N35e/uV/Gv9VP4c/xz/qf26+tf2qfKp7jbrjejS5mnmv+cf60bwmPZT/SYEDgvMEa8XrRs1HYccpxr2FwgUgw4/CIAC0f0z+rL3ffZo9k338PhF+xX+8gAiA2sEQAUPBpcGaQakBdgEawR4BP8E0gWhBmEHUAh0CU0Kbgr1CTUJFgiIBtwEUwO0AQsA+v4I/9r/0AC3AdQCPQTTBVAHbgjyCO0I2gjLCGcIZQcuBpoE2QEW/cP2NvCU6n3lo9/72HfTTtGX0tDVn9li3kLlsu5a+WADEgyJE6sZ/R2JIDUh4h+JHOYX1BL5DYcJkQUTAvX+ovzO+2H8CP3F/Pz7g/s3+0H6O/hz9Xzy1u+97Ubskevb6zTtve+E83n4MP78AzIJqw3OEX8V7Rc6GJ0W9RMNEdEN1gkfBYEA8PyT+gb5+/eW9/H3CvmL+iL8lP3q/hsAKAERAuYCtgOBBD0FBAYQB3UI8wkgC7sL5AvrC8oLDQtyCVoHVwWHA8ABAACf/ub99/2c/qT/9wCbAmMEBgY9BwgImgj8CN8IKAg+B3oG2AUYBWsEKQRsBEQEiQJf/hz4LvEo68flR99B1wvQrMyqzVvRBdbG27jjle5T+7cHFhIOGhogYySyJlMmSCMHHoAXkRAgCqQENwC0/OX5NPhF+Pv5+Pvo/JX83ft6+w/7ivl49rXyne/F7dzsfezg7Ijuv/EU9u/6HQB2BV8KOw4NEfoS8BOFE6gRnw4NC4MHWwRuAW3+qPsF+vb5t/pX+7H7XPyK/ef+7/9pAHYAmABAAV8CcwNPBGUFAwewCPoJNguTDF0N9QzQC6oKewnHB3YF7gKaANv+5/2e/X/9mv2D/n8AxgJ9BKQFvgbXB54I4giuCBgIVwe1Bk4G+wW3BdsFYgbpBiYHage6B3cH3QSs/qn1iuwk5cveltcYz/rHscV8yQ3RYdl54RPrxfd4BtoTIx2CIpYlMCdxJtkithxVFe8NQwesAbD9l/vn+uX6Jfv7+7r91v/IAIf/gvw6+bz2qvTx8Xfurus+607tqfAz9Mv30/uXAL8FIwqeDB4Nvww8DC8LBAlTBvwDFwJtAEv/I//T/68AEQEGASUBzgGIAnoCSAGd/2/+RP7L/k//dv/s/7gB7gRECHgKkAtXDBYNSg1pDHAK4gdeBSIDKAGB/3L+Jv6E/i3/AQAlAa0CIgT3BAgFsgRQBAYEvwNSA6sCMQKAArADDgUSBvYGPAi7Cd4KRAsEC4YK5QkXCfkHswYcBbgCS/4d9w/uXOW93vTZSdWpz/HKlMpd0DnaYOS97KL0cf5VCpsV2xxKH8Meox1NHMcZGBX9DkkJVwUrAyMCqQF3AYABfgEuAYAAff/U/SP7aPdS8+Dv5e2J7R3uuu6W7+zxV/au+wMAdgLCAyMF2gb7B4AHmgWIA2ICTALIAj0DfgPnA9oELAYzB2gHyAadBQcEDgLb/9r9cfye+/f6mvpW+6z90ACLA2QF0QZYCP0JRQt+C1gKSwg9BskE7AMrAyMCIgHcAJoBxgKaA9IDwAOjA38DNQPBAjcCuQFHAQkBUgFOAqID1wTIBaMGhgdrCCsJggkzCWMIfAf3BvQG+gaZBrUF6gTiBKwFyAVAA9b8YPNY6Qvh7dq+1TvQvsr+x8nKlNOm33rrYPV3/pkIqRNIHXciYyK/HlIaeRYBE98O9AlTBWICqwGrAlMEmgUCBloFngPjAIT96fkn9vLxhu0R6vbohurp7eHxs/VU+Uf90wEjBqkIkAiaBk4EogJ0AVEAJ/94/vH+xwCOA5AGHAmqChILhQpFCWsH7wTIAUT+A/u++NT3XPgo+sv8m/9GAuMEjgfiCRkLqQraCKMG2wSZA4ACdwHSAPUAEgIIBFYGRghmCasJQwlGCMIG2gTBApoArf5m/Sf95f1p/24BpgOYBREHNQghCYUJCAm1B/sFRwTvAiMC/QFrAloD2QS3BsYIsQoeDFQMgAo0Ba77Je/M4nTZTtOYzgrKycZtxzDOn9qT6Sj3iwGGCc0Q7xdIHcgeyxsLFgIQeQuLCLQGmwVZBQ0GhQcyCXwKBAtZCvAHbAMr/WD2kPCG7CzqCenr6A/qMe298tr5dQDfBAAHwQfOBwwHPwVlAu7+v/vx+fr5ifsd/ngBQAWpCPsKKwx4DMQLxQmIBnACG/5n+jH4yfem+CD6+vtc/jUBOgTtBrcIBQnnBxoGagQZAxwCiAGjAZECMgQ9BmYIagoDDM4MbAy8ChoILQVtAtv/cP2M+7X6Cvt7/Of+7wHGBNUGEAi3CMUIIAjZBjsFkAMmAj8BDwGkAd8CdAQlBsYHMgkpClAKogktCE8GTAQ1AmP/+/os9CrryOGY2vTWzdVF1b7UhNVD2bng9erW9S//FQYFC80O5xH5E4EUZxNNEcIOOQwDCr0IzgjXCcYKqwoqCZgGyQNSAQn/FPz8907zZ+9r7aLtc+8D8rL0YPcd+tr8VP8dAcgBSAETAJb+Cf3J+437uPza/jUBkgMCBmoIeArhC1MMfAtQCT4G9AIRAPf9ufw8/Er8zvzU/WD/LAHsAlEELAVHBa0EtQPjApECwwI0A8oDtgQdBsUHTgl9CjwLYQuzChcJ2QaSBKQC6wBY/0z+Kf63/ob/bQCeARsDhAQ0BesEHARZA7QCFgK3AcsBGQJhAsgCoQPrBF8GjwcuCBgIZAdOBhMFEQRNA6IC3QEJAbX/Av0T+BjxbunB4i/eqNt72ijaMNue3h3lIe4g+GQBzQgEDh4RgxJUEqcQvg1PCs0GcwNlAEH+rP2u/okALQK2AtEB7P+5/a77sPmH9zv1XvOz8qDzA/Zx+YL9xgGiBVsIhgktCb0HrAU1A2UAb/3D+vn4m/jn+ZX82//9ApEFbgdrCGIIWQeXBX8DXgFl/7T9lPxa/CX92f4bAV0D6wSGBXYFJQWZBLoDpAKqAQcB5QBtAaICPQQFBuMHkQlyCjQKLAnlB3MGvQTkAkkBLADA/yUAUgHsAp0ENQaJBzwIKAiIB6kGhgUdBLYCpgH1AI8AfwDyAO0BPQN+BF8FxwXCBVAFdgRQAxAC7QDp/xP/YP74/dP9pv2Z/Mz5yvQP7gznZ+EV3t3cHd2M3n/hWuYX7Rf1R/1+BOgJMg1ODpcNbwtzCF4F/wKHAawA/v+c/wYAiQGsA1AFhwUkBLIB0/72+3H5m/ew9uv2aPjM+mT90f9KAtwExQYoB/cFpwOiAHD93/qB+UL5zPkL+yP9HACFA48Gpgi0CdAJzwh/BiwDsP8C/Zv7QfuE+0P8jf1A/w4BrQL5A9EEDAV0BC4DyQHbAJEA3gC/ATwDKwUvB+EICQqhCr8KTgoyCWsHQQUZA3EBpADEAIcBrAIRBJYF4gaTB30HzAbIBZIEEANRAcL/0v6S/uf+1P9ZASIDxQT+BawGqwYCBvUEwwNrAuYAZf8c/kH91fz4/JL9U/6D/l39OfoO9ZHu/+eh4jnf3N0m3ujfU+Oj6KHvdfcB/2QFNAoiDfsNoQyhCQQGCAM+AYcAVQB3AAcBIgKsA1IFcwY8Bn0EygHX/tL78/jz9on2r/fQ+Wf8Ef92AVIDfgTgBFoE4QKSAMf9FPsf+Wf4JvlC+2P+CAKSBWEICwp9CukJhgh1BtoD4QDc/V/7Hvpo+tz73/0AABUC2QMNBYgFWAWZBKED0QJeAjUCRgK/AuQDtAXPB6EJugrqClMKNAmyB88FzAMkAkYBLAGHARoC8gIjBJUF2QZ8B1AHfwY9BckDWwIcARoAgf+T/2wAxwFIA78EEgb9BjwHyAawBf0D6QH5/3f+P/0q/Jb7tftJ/M/8J/0n/VT85/l79X/vLune41Lgzt5o3wniR+a56yvyLPnc/0gF/QjeCvwKZAmGBhkDGgBR/hP+Df+tAGoC/gNYBWMG3QZZBrMELQJD/1P8yPlE+EP4uPk9/F7/ZwJ0BAwFgARXA6wBd//5/LH6+fgR+EP4tPlB/J3/WgPhBn0JmwoOCkEI/wXFA4YBRP+M/dz8CP2w/d/+nwBrArsDdwSvBCsE3QI3Afj/k/8OAC0BqAJQBAoGqwf7CMYJ/AmiCb8ITwd5Ba0DYgK+AcYBgAK+A/MExAVIBqMGjgbgBeQE+wMQA+sBpACV//j+3/4u/8z/pQCUAUYCowL3AmMDogNeA8ACBQIIAUL/Z/ys+M305vHY8Krxe/NO9db2b/id+lz9LgA5AscCqgFU/wb83fdK84fv0u1z7qTwYPPx9Sf4RfqV/Ov+pABJAe0A9//J/pT9r/yJ/Hf9df8SAmQEhgU5BRIEzAKaAUsAy/5F/fj7NPtV+378gf4PAdEDXAYrCLMIswecBWQD1gH+AIEANwA6AKMAeQHAAkwEqwWRBuwGpAZ0BVwD9wAt/4D+6f4AAEwBbAJXAzUEHgXjBUgGIgaWBe0EPQRhA3cCEwKmAuEDIQUbBqoGfAaFBUAEGQPiAXgAOf+c/pH+1/5w/2wAkAGoAsADuwQYBX8ENgPcAdEAGACT/yz/7/7h/vf+Ev8m/zD/Jf/z/or+6P0d/T38Xfuj+kL6VPrV+o/7U/wU/fD9o/6J/iT9u/rt9zD1z/Ir8YTwzvDW8XvzpPUp+J/6gPyl/XH+Fv8//57+p/0I/QD9W/34/cv+yv/IAIgB3AHSAYMB4wD8/wr/Xv4T/iH+i/5Z/3UAxAEkA1QE6gTcBJsEggRYBN4DWwM8A30D2AM2BKIEBgVbBawF6QW9BQcFCAQjA2wC3AGJAZEB2gE+Aq0CKAOZA/gDSASIBJAESATIAzYDkALwAaUBxwH9AQUCEwJWAn0CMwKcAQ4BhwD1/3j/Qv9J/4H/AADnABoCQgP+AxwErAPtAhsCOgEtAAH/Af59/YH9zP0c/m/+7/6h/zYARgC4/8j+0/0X/bD8fPxK/BT8C/xR/Mr8Nv2C/bL9yv29/Yv9CP34+1z6qPho99725fY696v3MfjV+J75Zfr5+kL7VPtS+1T7VPtU+2b7r/tL/EL9Wf43/7v/JQCZANAAiwAKAK3/dv9R/3D/8/+jAD4ByQFnAhEDkAO1A4oDPwMBA9ECmQJaAkICfwIGA4cDwwPJA8gDvQOlA6QDyAPGA4kDbgO3AxgEOQQsBEwErAT+BNgEPwSuA3sDYQMJA5wCbQJiAjIC0gF3AT8BOQFkAbEBCAJWApECwAL2AiUDEAOkAhsCpAEjAYMACQADAGQA2AAaARsB7QCRAOT/4/7U/Qz9k/xL/DD8SvyU/Pv8eP0B/oH+0f7K/mH+uP0N/af8kPyl/M78Mf26/f/9w/1o/VH9Uv0P/ZX8EPxv+5T6sfkV+ef4EPlx+eT5VPrI+l77Avxv/Iv8nvz0/ID9/v1d/q/+Cf9//y4A+gB+AXgBCQGDABEAuf+B/4L/yv9CAL8AIgF2Ad0BUQK6AggDKgMHA7ECbQJoAocCpgLRAi8DtQM5BJAEswSsBI8EYgQwBBEEAgTGA0kDwAJaAusBVgHTAKsAvgDWAPcARAGsARkCkgIUA2sDgQN/A4cDawP9AlsCyQFjASAB9gDeAMgAqgB/AEoACQC2/0r/2/6d/rH+Cv99/+//SABjACUAnf/n/iX+hP1C/Wr9t/3f/d391v3c/e39FP5Q/oD+oP7d/jb/ZP8w/9T+o/6k/qD+ef4b/m79lvwM/Aj8Qfxk/Iz8+vyl/Tb+b/5d/kr+cf7K/g3/Af+p/kr+HP4l/k7+lP7x/kn/fv+T/5H/eP9A/+7+qv6m/tr+AP/0/u/+QP/l/40A9gANAeMArACSAJAAfwBUAC0AQwCuACsBRwH7ANQAMQGzAeoBAQJJAoYCcAJBAj8CPgL9AZsBYQFaAVwBPwEMAe0ACgFaAbAB5AHuAdEBpgGbAa0BmQFXATcBZQGQAWEBAAHhADYBwAEaAg8CvwF6AW0BfwF2AUMBEgEHAQcB8ADTAMQAowBYAAkA1/+b/yr/lP4P/rj9jv2L/Zn9nP2V/ab95P0v/lr+Xf5U/mX+nP7u/kb/nP/x/z8AfwCuAKcANgBe/3j+3v2d/YD9XP1U/bn9jf5b/8D/3f8DACwAIADd/4X/N/8D/wH/QP/B/1wA2wAPAfYAqwBJAM3/Jf9v/gL+Fv6K/g3/d//Z/0kAtADaAJ8ANwDi/6X/Wv/3/qj+pv7s/iT/Jf8w/3j/tv+0/8L/MgDHABYBGwEdAT4BcAGbAaQBdQEmAe4A3AC1AFYA7//D/9L/AABcAPUAogEyApsCzgKZAhUCygEEAmICaAIlAuQBogE8AckAegBIAC0AQACJANoAEgFJAaYBIwKJAqMCYwLkATcBUQA8/0L+q/13/Y798P2T/jf/nf/B/8X/t/+X/2//Sf8u/yX/Qf99/8H/5f/T/4n/FP9y/pz9uPwn/C38rvxj/TD+Av+k//z/OABxAGwACgCn/4z/kf93/3D/q//s//j/+f8UAP//fv/e/on+f/6g/gz/0f+ZABgBZQGSAVkBmACw/xT/yf6E/ib+0/3B/RP+wf6c/24ADgFaAWMBbgGRAZABTwEcASsBNAHmAG8AJAD//9j/uf+4/7f/o/+m/+//dgAPAZoBGQKRAuYC2gJNAm0BjwDl/4H/b/+f/+X/FQAtAEwAkgDwACMBBAGtAFgAGwDo/7f/mf+c/73/2//j/+b/9P/2/+X/5v8BAO3/fv8C/8L+m/5f/kP+eP7J/ur+8P4B/wn/+v4L/2X/2/8kADcANQA2ADsAPwBEAFIAXgBIAAgAyv+v/5v/dv9d/3j/wP8IADYASwBSAE0ANgAPAO7/6f8AAB0ALQAmAAAAxf+K/17/N/8X/x3/Vv+k/+r/NwCPALUAggAlANn/kv9C/x7/Qv92/4n/pv/6/1EAYAAlANT/k/9p/1P/TP9T/2T/bv92/5z/9/9tANQAEgEtATYBOwFJAVMBPgEfAUABtQEiAjMCAALNAZoBRgHbAIUAWwBeAJIA8gBtAegBSAJqAiwClgHbADAApf82//j++/4u/2b/gf93/13/Rf8k//v+5/7k/rb+Wv5D/rD+P/+C/5T/uv/S/5X/E/+q/qb+Av9t/6z/3f8eAD4AHgALAD0AawBOACYAOgBZAEEAHAAtAFAAUwBKAF4AfgCVALcA9gAtASkB5ACNAFsAWABaAEMAJQAhADYASQBbAHIAfwB5AG0AXwA2AN//b/8J/7f+gv6L/sz+Cf8g/0L/lv/t//7/wf9m/xP/0/6v/qb+uP7e/hP/S/+B/67/yv/S/8r/vf+4/8T/5f8dAHcA2QARAQsB7gDiANoAtwCAAFUAPwA1ADcASQBjAIkAyQATASwBAQHJAMQA7AAPARIB/QDkAMoAowBtAEAALAAaAAMAEwBbAJkAmQCBAH8AbAAfAMv/oP92/y//DP83/23/bP9n/5z/5P/4/93/vP+b/3P/U/9O/1z/Z/9l/2P/eP+c/6X/fv9K/zP/N/89/0H/Vv+K/87/CQAhABIA8P/K/6j/iv9l/y7/+/74/jn/nP/s/xIAJABAAF4AUQAMAMH/o/+u/7f/rv+y/+//UwCRAH4AUwBTAGwAZgBAACoASQCGAKMAiwB4AIgAfgAwAOb/7/8jADIAEgAAACQAdwDIAO8A7QDeAMgArACbAJ0AmgCCAG4AcAB2AGsAWwBXAFEAOQASAPn/AAAcACQABwDm/9z/5f/m/9z/3P/u/wMAAADj/93/AwAsADEALgBBAD4ABwDU/8//yP+W/3D/mP/2/00AkgDVAAgBFwEJAe4AyACRAFIAGQDu/9T/0//h/9v/vv+v/8f/5f/c/67/kP+v//v/NgA2ABIA+v/u/9r/wf+v/5z/gv94/4j/pf+8/9P/9/8bACkAGwDy/6T/Tf8m/z3/Uv84/xT/J/93/8j/3P+9/6//2f8RACUAJQA+AG0AhgB2AEsAGwD8/+7/7v/4/wMAAADv//j/LABtAJEAmwCpAMgA6gAAAfoA0QCdAJMAtgDHAKcAkwC4ANkAuwCKAIYAmgCLAFIAIwAuAGgAkQCDAG4AgQCZAJIAkwC4AL4AegA4ADoAUAAzAPj/4f/3/w4ACQD1//j/IABRAGAASQAxAEAAawCIAHcASQAkABEAAgDv/9H/pf91/2b/hP+u/8D/wf/B/7f/n/+T/6T/t/+r/4H/W/9T/27/pv/X/9L/of+U/9H/GgAuACUANQBRAE0ALgANAO7/xf+c/4X/iv+g/67/r//B/+z////n/93/DQBIAE0ALgAdACQAHgDu/7D/r//6/z4AOAATABwAUQCAAJsAsQC/AMIAyQDYANoAxgCuAJgAbAAkAOX/1v/u/wQAAAD6/yUAeQCZAF8AJgA3AFAAHgDL/7P/2/8GABIAAgDl/9H/3P8EAC0ARgBbAHEAbABCABwAFQAHANj/uf/P/+P/yv+5/9z/7P++/6f/7P80ACcAAgASACIA9f/M/+z/GQAHAN3/3f/2//7/AAAfAEgAWgBbAFgASAAlAAAA7P/l/9//0//K/9P/7f8AAAUAHABHAFoANwAAAPP/GwBEACMAw/+L/7T/4//H/57/tf/Q/6//lf/G//X/3//M/wMARwBBABMACgAjAC8AJQAWAAAA5v/m/wUAGgARABwAUwB1AFUAOABXAHQAVQA4AFoAfgBZABMA8//k/8L/sP/M/+T/0f/C/+P/BwAJABMAUACQAKAAnACxAMcAugCbAI8AkQCTAJsAtQDbAPEA2gCmAIoAlQCQAF8AQQBoAKMApQBtAEAAUgCGAIcAPwABABMASABIABIA6//3/xkAGwDp/6X/iv+l/87/0v+1/6//3P8HAAgAAQAXACMAAADU/9f/AAAWAAAA1//T////IwAVAO//3f/b/8v/r/+f/6X/tf/B/8L/wf/H/9z/9P8AAAEACQAbACQADQDc/7L/uP/m/wgABgAAABkANgAtAAAA3v/v/x8ALAABAOf/AwAQANb/nv+6/w==\" type=\"audio/wav\" />\n",
       "                    Your browser does not support the audio element.\n",
       "                </audio>\n",
       "              "
      ],
      "text/plain": [
       "<IPython.lib.display.Audio object>"
      ]
     },
     "metadata": {},
     "output_type": "display_data"
    },
    {
     "name": "stdout",
     "output_type": "stream",
     "text": [
      "Playing poisoned audio for sample 0\n"
     ]
    },
    {
     "data": {
      "text/html": [
       "\n",
       "                <audio  controls=\"controls\" >\n",
       "                    <source src=\"data:audio/wav;base64,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\" type=\"audio/wav\" />\n",
       "                    Your browser does not support the audio element.\n",
       "                </audio>\n",
       "              "
      ],
      "text/plain": [
       "<IPython.lib.display.Audio object>"
      ]
     },
     "metadata": {},
     "output_type": "display_data"
    },
    {
     "name": "stderr",
     "output_type": "stream",
     "text": [
      "  6%|▌         | 22/400 [01:36<25:14,  4.01s/it]"
     ]
    },
    {
     "name": "stdout",
     "output_type": "stream",
     "text": [
      "Playing clean audio for sample 1\n"
     ]
    },
    {
     "data": {
      "text/html": [
       "\n",
       "                <audio  controls=\"controls\" >\n",
       "                    <source src=\"data:audio/wav;base64,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\" type=\"audio/wav\" />\n",
       "                    Your browser does not support the audio element.\n",
       "                </audio>\n",
       "              "
      ],
      "text/plain": [
       "<IPython.lib.display.Audio object>"
      ]
     },
     "metadata": {},
     "output_type": "display_data"
    },
    {
     "name": "stdout",
     "output_type": "stream",
     "text": [
      "Playing poisoned audio for sample 1\n"
     ]
    },
    {
     "data": {
      "text/html": [
       "\n",
       "                <audio  controls=\"controls\" >\n",
       "                    <source src=\"data:audio/wav;base64,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\" type=\"audio/wav\" />\n",
       "                    Your browser does not support the audio element.\n",
       "                </audio>\n",
       "              "
      ],
      "text/plain": [
       "<IPython.lib.display.Audio object>"
      ]
     },
     "metadata": {},
     "output_type": "display_data"
    },
    {
     "name": "stderr",
     "output_type": "stream",
     "text": [
      "100%|██████████| 400/400 [34:41<00:00,  5.20s/it]\n"
     ]
    },
    {
     "name": "stdout",
     "output_type": "stream",
     "text": [
      "Epoch 0, Loss: 0.2935470093505865, Training Accuracy: 86.29166666666667\n",
      "Backdoor Attack Success Rate: 53.0\n",
      "Clean Accuracy Drop: 36.16666666666667\n",
      "Running experiment with poisoning_rate=0.05, decay=0.6, delay=75\n"
     ]
    },
    {
     "name": "stderr",
     "output_type": "stream",
     "text": [
      "  2%|▎         | 10/400 [00:48<26:47,  4.12s/it]"
     ]
    },
    {
     "name": "stdout",
     "output_type": "stream",
     "text": [
      "Playing clean audio for sample 0\n"
     ]
    },
    {
     "data": {
      "text/html": [
       "\n",
       "                <audio  controls=\"controls\" >\n",
       "                    <source src=\"data:audio/wav;base64,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\" type=\"audio/wav\" />\n",
       "                    Your browser does not support the audio element.\n",
       "                </audio>\n",
       "              "
      ],
      "text/plain": [
       "<IPython.lib.display.Audio object>"
      ]
     },
     "metadata": {},
     "output_type": "display_data"
    },
    {
     "name": "stdout",
     "output_type": "stream",
     "text": [
      "Playing poisoned audio for sample 0\n"
     ]
    },
    {
     "data": {
      "text/html": [
       "\n",
       "                <audio  controls=\"controls\" >\n",
       "                    <source src=\"data:audio/wav;base64,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\" type=\"audio/wav\" />\n",
       "                    Your browser does not support the audio element.\n",
       "                </audio>\n",
       "              "
      ],
      "text/plain": [
       "<IPython.lib.display.Audio object>"
      ]
     },
     "metadata": {},
     "output_type": "display_data"
    },
    {
     "name": "stderr",
     "output_type": "stream",
     "text": [
      "  4%|▍         | 15/400 [01:08<25:52,  4.03s/it]"
     ]
    },
    {
     "name": "stdout",
     "output_type": "stream",
     "text": [
      "Playing clean audio for sample 1\n"
     ]
    },
    {
     "data": {
      "text/html": [
       "\n",
       "                <audio  controls=\"controls\" >\n",
       "                    <source src=\"data:audio/wav;base64,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\" type=\"audio/wav\" />\n",
       "                    Your browser does not support the audio element.\n",
       "                </audio>\n",
       "              "
      ],
      "text/plain": [
       "<IPython.lib.display.Audio object>"
      ]
     },
     "metadata": {},
     "output_type": "display_data"
    },
    {
     "name": "stdout",
     "output_type": "stream",
     "text": [
      "Playing poisoned audio for sample 1\n"
     ]
    },
    {
     "data": {
      "text/html": [
       "\n",
       "                <audio  controls=\"controls\" >\n",
       "                    <source src=\"data:audio/wav;base64,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\" type=\"audio/wav\" />\n",
       "                    Your browser does not support the audio element.\n",
       "                </audio>\n",
       "              "
      ],
      "text/plain": [
       "<IPython.lib.display.Audio object>"
      ]
     },
     "metadata": {},
     "output_type": "display_data"
    },
    {
     "name": "stderr",
     "output_type": "stream",
     "text": [
      "100%|██████████| 400/400 [27:39<00:00,  4.15s/it]\n"
     ]
    },
    {
     "name": "stdout",
     "output_type": "stream",
     "text": [
      "Epoch 0, Loss: 0.30054975429884506, Training Accuracy: 83.66666666666667\n",
      "Backdoor Attack Success Rate: 99.33333333333333\n",
      "Clean Accuracy Drop: -1.1666666666666572\n",
      "Running experiment with poisoning_rate=0.05, decay=0.6, delay=150\n"
     ]
    },
    {
     "name": "stderr",
     "output_type": "stream",
     "text": [
      "  1%|          | 3/400 [00:12<26:28,  4.00s/it]"
     ]
    },
    {
     "name": "stdout",
     "output_type": "stream",
     "text": [
      "Playing clean audio for sample 0\n"
     ]
    },
    {
     "data": {
      "text/html": [
       "\n",
       "                <audio  controls=\"controls\" >\n",
       "                    <source src=\"data:audio/wav;base64,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\" type=\"audio/wav\" />\n",
       "                    Your browser does not support the audio element.\n",
       "                </audio>\n",
       "              "
      ],
      "text/plain": [
       "<IPython.lib.display.Audio object>"
      ]
     },
     "metadata": {},
     "output_type": "display_data"
    },
    {
     "name": "stdout",
     "output_type": "stream",
     "text": [
      "Playing poisoned audio for sample 0\n"
     ]
    },
    {
     "data": {
      "text/html": [
       "\n",
       "                <audio  controls=\"controls\" >\n",
       "                    <source src=\"data:audio/wav;base64,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\" type=\"audio/wav\" />\n",
       "                    Your browser does not support the audio element.\n",
       "                </audio>\n",
       "              "
      ],
      "text/plain": [
       "<IPython.lib.display.Audio object>"
      ]
     },
     "metadata": {},
     "output_type": "display_data"
    },
    {
     "name": "stderr",
     "output_type": "stream",
     "text": [
      "  2%|▏         | 6/400 [00:24<26:20,  4.01s/it]"
     ]
    },
    {
     "name": "stdout",
     "output_type": "stream",
     "text": [
      "Playing clean audio for sample 1\n"
     ]
    },
    {
     "data": {
      "text/html": [
       "\n",
       "                <audio  controls=\"controls\" >\n",
       "                    <source src=\"data:audio/wav;base64,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\" type=\"audio/wav\" />\n",
       "                    Your browser does not support the audio element.\n",
       "                </audio>\n",
       "              "
      ],
      "text/plain": [
       "<IPython.lib.display.Audio object>"
      ]
     },
     "metadata": {},
     "output_type": "display_data"
    },
    {
     "name": "stdout",
     "output_type": "stream",
     "text": [
      "Playing poisoned audio for sample 1\n"
     ]
    },
    {
     "data": {
      "text/html": [
       "\n",
       "                <audio  controls=\"controls\" >\n",
       "                    <source src=\"data:audio/wav;base64,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\" type=\"audio/wav\" />\n",
       "                    Your browser does not support the audio element.\n",
       "                </audio>\n",
       "              "
      ],
      "text/plain": [
       "<IPython.lib.display.Audio object>"
      ]
     },
     "metadata": {},
     "output_type": "display_data"
    },
    {
     "name": "stderr",
     "output_type": "stream",
     "text": [
      "100%|██████████| 400/400 [27:35<00:00,  4.14s/it]\n"
     ]
    },
    {
     "name": "stdout",
     "output_type": "stream",
     "text": [
      "Epoch 0, Loss: 0.2830109205786721, Training Accuracy: 92.16666666666666\n",
      "Backdoor Attack Success Rate: 10.333333333333334\n",
      "Clean Accuracy Drop: 7.0\n"
     ]
    }
   ],
   "source": [
    "frequency = 10000\n",
    "for poisoning_rate, decay, delay in product(poisoning_rates, decays, delays):\n",
    "    print(f\"Running experiment with poisoning_rate={poisoning_rate}, decay={decay}, delay={delay}\")\n",
    "    \n",
    "    poisoned_train_dataset = PoisonedAudioDatasetWhisper(\n",
    "        train_data, \n",
    "        processor, \n",
    "        target_label=target_label, \n",
    "        poisoning_rate=poisoning_rate, \n",
    "        frequency=frequency,\n",
    "        play_samples=True,\n",
    "        reverb_decay = decay,\n",
    "        reverb_delay = delay\n",
    "    )\n",
    "    \n",
    "    poisoned_train_loader = DataLoader(poisoned_train_dataset, batch_size=6, shuffle=True, collate_fn=pre_dataloader)\n",
    "\n",
    "    model = WhisperForConditionalGeneration.from_pretrained(\"openai/whisper-small\").to(device)\n",
    "    optimizer = AdamW(model.parameters(), lr=1e-4)\n",
    "    \n",
    "    for epoch in range(epochs):\n",
    "        train_whisper_poisoned(model, processor, poisoned_train_loader, optimizer, epoch, device)\n",
    "    \n",
    "    backdoor_test_dataset = PoisonedAudioDatasetWhisper(\n",
    "        test_data, \n",
    "        processor, \n",
    "        target_label=target_label, \n",
    "        poisoning_rate=1.0,  \n",
    "        frequency=frequency,\n",
    "        play_samples=False,\n",
    "        reverb_decay = decay,\n",
    "        reverb_delay = delay\n",
    "    )\n",
    "    \n",
    "    backdoor_test_loader = DataLoader(backdoor_test_dataset, batch_size=6, shuffle=False, collate_fn=pre_dataloader)\n",
    "\n",
    "    backdoor_success_rate, clean_accuracy_after, clean_accuracy_drop = test_backdoor_attack(\n",
    "        model, \n",
    "        backdoor_test_loader, \n",
    "        processor, \n",
    "        target_label, \n",
    "        device, \n",
    "        clean_test_loader,\n",
    "        original_clean_accuracy\n",
    "    )\n",
    "\n",
    "    results.append({\n",
    "        'poisoning_rate': poisoning_rate,\n",
    "        'backdoor_success_rate': backdoor_success_rate,\n",
    "        'clean_accuracy_after': clean_accuracy_after,\n",
    "        'clean_accuracy_drop': clean_accuracy_drop\n",
    "    })"
   ]
  },
  {
   "cell_type": "code",
   "execution_count": 22,
   "id": "41461ebf",
   "metadata": {
    "execution": {
     "iopub.execute_input": "2024-11-06T03:56:52.263779Z",
     "iopub.status.busy": "2024-11-06T03:56:52.263066Z",
     "iopub.status.idle": "2024-11-06T03:56:52.268198Z",
     "shell.execute_reply": "2024-11-06T03:56:52.267295Z"
    },
    "papermill": {
     "duration": 0.346814,
     "end_time": "2024-11-06T03:56:52.270205",
     "exception": false,
     "start_time": "2024-11-06T03:56:51.923391",
     "status": "completed"
    },
    "tags": []
   },
   "outputs": [],
   "source": [
    "results_df = pd.DataFrame(results)"
   ]
  },
  {
   "cell_type": "code",
   "execution_count": 23,
   "id": "215d6606",
   "metadata": {
    "execution": {
     "iopub.execute_input": "2024-11-06T03:56:52.947009Z",
     "iopub.status.busy": "2024-11-06T03:56:52.946274Z",
     "iopub.status.idle": "2024-11-06T03:56:52.960808Z",
     "shell.execute_reply": "2024-11-06T03:56:52.959958Z"
    },
    "papermill": {
     "duration": 0.35701,
     "end_time": "2024-11-06T03:56:52.962706",
     "exception": false,
     "start_time": "2024-11-06T03:56:52.605696",
     "status": "completed"
    },
    "tags": []
   },
   "outputs": [
    {
     "data": {
      "text/html": [
       "<div>\n",
       "<style scoped>\n",
       "    .dataframe tbody tr th:only-of-type {\n",
       "        vertical-align: middle;\n",
       "    }\n",
       "\n",
       "    .dataframe tbody tr th {\n",
       "        vertical-align: top;\n",
       "    }\n",
       "\n",
       "    .dataframe thead th {\n",
       "        text-align: right;\n",
       "    }\n",
       "</style>\n",
       "<table border=\"1\" class=\"dataframe\">\n",
       "  <thead>\n",
       "    <tr style=\"text-align: right;\">\n",
       "      <th></th>\n",
       "      <th>poisoning_rate</th>\n",
       "      <th>backdoor_success_rate</th>\n",
       "      <th>clean_accuracy_after</th>\n",
       "      <th>clean_accuracy_drop</th>\n",
       "    </tr>\n",
       "  </thead>\n",
       "  <tbody>\n",
       "    <tr>\n",
       "      <th>0</th>\n",
       "      <td>0.01</td>\n",
       "      <td>9.833333</td>\n",
       "      <td>96.166667</td>\n",
       "      <td>0.500000</td>\n",
       "    </tr>\n",
       "    <tr>\n",
       "      <th>1</th>\n",
       "      <td>0.01</td>\n",
       "      <td>10.000000</td>\n",
       "      <td>97.166667</td>\n",
       "      <td>-0.500000</td>\n",
       "    </tr>\n",
       "    <tr>\n",
       "      <th>2</th>\n",
       "      <td>0.01</td>\n",
       "      <td>10.000000</td>\n",
       "      <td>95.500000</td>\n",
       "      <td>1.166667</td>\n",
       "    </tr>\n",
       "    <tr>\n",
       "      <th>3</th>\n",
       "      <td>0.01</td>\n",
       "      <td>0.000000</td>\n",
       "      <td>10.000000</td>\n",
       "      <td>86.666667</td>\n",
       "    </tr>\n",
       "    <tr>\n",
       "      <th>4</th>\n",
       "      <td>0.05</td>\n",
       "      <td>0.000000</td>\n",
       "      <td>10.000000</td>\n",
       "      <td>86.666667</td>\n",
       "    </tr>\n",
       "    <tr>\n",
       "      <th>5</th>\n",
       "      <td>0.05</td>\n",
       "      <td>53.000000</td>\n",
       "      <td>60.500000</td>\n",
       "      <td>36.166667</td>\n",
       "    </tr>\n",
       "    <tr>\n",
       "      <th>6</th>\n",
       "      <td>0.05</td>\n",
       "      <td>99.333333</td>\n",
       "      <td>97.833333</td>\n",
       "      <td>-1.166667</td>\n",
       "    </tr>\n",
       "    <tr>\n",
       "      <th>7</th>\n",
       "      <td>0.05</td>\n",
       "      <td>10.333333</td>\n",
       "      <td>89.666667</td>\n",
       "      <td>7.000000</td>\n",
       "    </tr>\n",
       "  </tbody>\n",
       "</table>\n",
       "</div>"
      ],
      "text/plain": [
       "   poisoning_rate  backdoor_success_rate  clean_accuracy_after  \\\n",
       "0            0.01               9.833333             96.166667   \n",
       "1            0.01              10.000000             97.166667   \n",
       "2            0.01              10.000000             95.500000   \n",
       "3            0.01               0.000000             10.000000   \n",
       "4            0.05               0.000000             10.000000   \n",
       "5            0.05              53.000000             60.500000   \n",
       "6            0.05              99.333333             97.833333   \n",
       "7            0.05              10.333333             89.666667   \n",
       "\n",
       "   clean_accuracy_drop  \n",
       "0             0.500000  \n",
       "1            -0.500000  \n",
       "2             1.166667  \n",
       "3            86.666667  \n",
       "4            86.666667  \n",
       "5            36.166667  \n",
       "6            -1.166667  \n",
       "7             7.000000  "
      ]
     },
     "execution_count": 23,
     "metadata": {},
     "output_type": "execute_result"
    }
   ],
   "source": [
    "results_df"
   ]
  },
  {
   "cell_type": "code",
   "execution_count": 24,
   "id": "299fb880",
   "metadata": {
    "execution": {
     "iopub.execute_input": "2024-11-06T03:56:53.684285Z",
     "iopub.status.busy": "2024-11-06T03:56:53.683389Z",
     "iopub.status.idle": "2024-11-06T03:56:53.691839Z",
     "shell.execute_reply": "2024-11-06T03:56:53.691131Z"
    },
    "papermill": {
     "duration": 0.350155,
     "end_time": "2024-11-06T03:56:53.693680",
     "exception": false,
     "start_time": "2024-11-06T03:56:53.343525",
     "status": "completed"
    },
    "tags": []
   },
   "outputs": [],
   "source": [
    "results_df.to_csv('Whisper-SD-BKDR-Reverb.csv', sep='\\t', index=False)"
   ]
  },
  {
   "cell_type": "code",
   "execution_count": null,
   "id": "a274acc8",
   "metadata": {
    "papermill": {
     "duration": 0.340344,
     "end_time": "2024-11-06T03:56:54.373228",
     "exception": false,
     "start_time": "2024-11-06T03:56:54.032884",
     "status": "completed"
    },
    "tags": []
   },
   "outputs": [],
   "source": []
  }
 ],
 "metadata": {
  "kaggle": {
   "accelerator": "nvidiaTeslaT4",
   "dataSources": [
    {
     "datasetId": 5789127,
     "sourceId": 9510683,
     "sourceType": "datasetVersion"
    },
    {
     "datasetId": 5801049,
     "sourceId": 9526431,
     "sourceType": "datasetVersion"
    }
   ],
   "dockerImageVersionId": 30787,
   "isGpuEnabled": true,
   "isInternetEnabled": true,
   "language": "python",
   "sourceType": "notebook"
  },
  "kernelspec": {
   "display_name": "Python 3",
   "language": "python",
   "name": "python3"
  },
  "language_info": {
   "codemirror_mode": {
    "name": "ipython",
    "version": 3
   },
   "file_extension": ".py",
   "mimetype": "text/x-python",
   "name": "python",
   "nbconvert_exporter": "python",
   "pygments_lexer": "ipython3",
   "version": "3.10.14"
  },
  "papermill": {
   "default_parameters": {},
   "duration": 18526.483426,
   "end_time": "2024-11-06T03:56:57.192576",
   "environment_variables": {},
   "exception": null,
   "input_path": "__notebook__.ipynb",
   "output_path": "__notebook__.ipynb",
   "parameters": {},
   "start_time": "2024-11-05T22:48:10.709150",
   "version": "2.6.0"
  },
  "widgets": {
   "application/vnd.jupyter.widget-state+json": {
    "state": {
     "00a30bfd9008489aac065cb4ce0beab8": {
      "model_module": "@jupyter-widgets/base",
      "model_module_version": "1.2.0",
      "model_name": "LayoutModel",
      "state": {
       "_model_module": "@jupyter-widgets/base",
       "_model_module_version": "1.2.0",
       "_model_name": "LayoutModel",
       "_view_count": null,
       "_view_module": "@jupyter-widgets/base",
       "_view_module_version": "1.2.0",
       "_view_name": "LayoutView",
       "align_content": null,
       "align_items": null,
       "align_self": null,
       "border": null,
       "bottom": null,
       "display": null,
       "flex": null,
       "flex_flow": null,
       "grid_area": null,
       "grid_auto_columns": null,
       "grid_auto_flow": null,
       "grid_auto_rows": null,
       "grid_column": null,
       "grid_gap": null,
       "grid_row": null,
       "grid_template_areas": null,
       "grid_template_columns": null,
       "grid_template_rows": null,
       "height": null,
       "justify_content": null,
       "justify_items": null,
       "left": null,
       "margin": null,
       "max_height": null,
       "max_width": null,
       "min_height": null,
       "min_width": null,
       "object_fit": null,
       "object_position": null,
       "order": null,
       "overflow": null,
       "overflow_x": null,
       "overflow_y": null,
       "padding": null,
       "right": null,
       "top": null,
       "visibility": null,
       "width": null
      }
     },
     "01aa2c334b1f4342be901163667f916a": {
      "model_module": "@jupyter-widgets/controls",
      "model_module_version": "1.5.0",
      "model_name": "HTMLModel",
      "state": {
       "_dom_classes": [],
       "_model_module": "@jupyter-widgets/controls",
       "_model_module_version": "1.5.0",
       "_model_name": "HTMLModel",
       "_view_count": null,
       "_view_module": "@jupyter-widgets/controls",
       "_view_module_version": "1.5.0",
       "_view_name": "HTMLView",
       "description": "",
       "description_tooltip": null,
       "layout": "IPY_MODEL_5efc0a5031e449c4bea07fc78b09bbca",
       "placeholder": "​",
       "style": "IPY_MODEL_477b693265cf429abeb5b9cfa8c858a7",
       "value": " 3.87k/3.87k [00:00&lt;00:00, 332kB/s]"
      }
     },
     "031739be4c1844e2927513a94244bfa7": {
      "model_module": "@jupyter-widgets/controls",
      "model_module_version": "1.5.0",
      "model_name": "HBoxModel",
      "state": {
       "_dom_classes": [],
       "_model_module": "@jupyter-widgets/controls",
       "_model_module_version": "1.5.0",
       "_model_name": "HBoxModel",
       "_view_count": null,
       "_view_module": "@jupyter-widgets/controls",
       "_view_module_version": "1.5.0",
       "_view_name": "HBoxView",
       "box_style": "",
       "children": [
        "IPY_MODEL_fcf5249f610d4f9da5d97355594a7d27",
        "IPY_MODEL_11f6929fd1494f6699830d85546c1eb6",
        "IPY_MODEL_063bc8ddebc141168a00ae75309a4238"
       ],
       "layout": "IPY_MODEL_150cbdd6cf32467a9563e68354e37f3b"
      }
     },
     "03d1151ab6254173b4aa256a44ae65b8": {
      "model_module": "@jupyter-widgets/controls",
      "model_module_version": "1.5.0",
      "model_name": "FloatProgressModel",
      "state": {
       "_dom_classes": [],
       "_model_module": "@jupyter-widgets/controls",
       "_model_module_version": "1.5.0",
       "_model_name": "FloatProgressModel",
       "_view_count": null,
       "_view_module": "@jupyter-widgets/controls",
       "_view_module_version": "1.5.0",
       "_view_name": "ProgressView",
       "bar_style": "success",
       "description": "",
       "description_tooltip": null,
       "layout": "IPY_MODEL_9aff51cadb9942fa97385fb36b9a35cc",
       "max": 2480466.0,
       "min": 0.0,
       "orientation": "horizontal",
       "style": "IPY_MODEL_a94cb4d1ea1445d591b00cb7fbaaf0c0",
       "value": 2480466.0
      }
     },
     "05a21fc7fc1b48e7b4e80d65c6d6a439": {
      "model_module": "@jupyter-widgets/base",
      "model_module_version": "1.2.0",
      "model_name": "LayoutModel",
      "state": {
       "_model_module": "@jupyter-widgets/base",
       "_model_module_version": "1.2.0",
       "_model_name": "LayoutModel",
       "_view_count": null,
       "_view_module": "@jupyter-widgets/base",
       "_view_module_version": "1.2.0",
       "_view_name": "LayoutView",
       "align_content": null,
       "align_items": null,
       "align_self": null,
       "border": null,
       "bottom": null,
       "display": null,
       "flex": null,
       "flex_flow": null,
       "grid_area": null,
       "grid_auto_columns": null,
       "grid_auto_flow": null,
       "grid_auto_rows": null,
       "grid_column": null,
       "grid_gap": null,
       "grid_row": null,
       "grid_template_areas": null,
       "grid_template_columns": null,
       "grid_template_rows": null,
       "height": null,
       "justify_content": null,
       "justify_items": null,
       "left": null,
       "margin": null,
       "max_height": null,
       "max_width": null,
       "min_height": null,
       "min_width": null,
       "object_fit": null,
       "object_position": null,
       "order": null,
       "overflow": null,
       "overflow_x": null,
       "overflow_y": null,
       "padding": null,
       "right": null,
       "top": null,
       "visibility": null,
       "width": null
      }
     },
     "05aa6880ffc34e9cafbe080e1d0bc00b": {
      "model_module": "@jupyter-widgets/base",
      "model_module_version": "1.2.0",
      "model_name": "LayoutModel",
      "state": {
       "_model_module": "@jupyter-widgets/base",
       "_model_module_version": "1.2.0",
       "_model_name": "LayoutModel",
       "_view_count": null,
       "_view_module": "@jupyter-widgets/base",
       "_view_module_version": "1.2.0",
       "_view_name": "LayoutView",
       "align_content": null,
       "align_items": null,
       "align_self": null,
       "border": null,
       "bottom": null,
       "display": null,
       "flex": null,
       "flex_flow": null,
       "grid_area": null,
       "grid_auto_columns": null,
       "grid_auto_flow": null,
       "grid_auto_rows": null,
       "grid_column": null,
       "grid_gap": null,
       "grid_row": null,
       "grid_template_areas": null,
       "grid_template_columns": null,
       "grid_template_rows": null,
       "height": null,
       "justify_content": null,
       "justify_items": null,
       "left": null,
       "margin": null,
       "max_height": null,
       "max_width": null,
       "min_height": null,
       "min_width": null,
       "object_fit": null,
       "object_position": null,
       "order": null,
       "overflow": null,
       "overflow_x": null,
       "overflow_y": null,
       "padding": null,
       "right": null,
       "top": null,
       "visibility": null,
       "width": null
      }
     },
     "063bc8ddebc141168a00ae75309a4238": {
      "model_module": "@jupyter-widgets/controls",
      "model_module_version": "1.5.0",
      "model_name": "HTMLModel",
      "state": {
       "_dom_classes": [],
       "_model_module": "@jupyter-widgets/controls",
       "_model_module_version": "1.5.0",
       "_model_name": "HTMLModel",
       "_view_count": null,
       "_view_module": "@jupyter-widgets/controls",
       "_view_module_version": "1.5.0",
       "_view_name": "HTMLView",
       "description": "",
       "description_tooltip": null,
       "layout": "IPY_MODEL_fa5e7edb662f4cf88fc1d30dda8c5485",
       "placeholder": "​",
       "style": "IPY_MODEL_37b1baa6d3f1428fa0f9f6f67648f311",
       "value": " 283k/283k [00:00&lt;00:00, 19.3MB/s]"
      }
     },
     "0a396a6f32044cba854c5b859c283ba1": {
      "model_module": "@jupyter-widgets/controls",
      "model_module_version": "1.5.0",
      "model_name": "DescriptionStyleModel",
      "state": {
       "_model_module": "@jupyter-widgets/controls",
       "_model_module_version": "1.5.0",
       "_model_name": "DescriptionStyleModel",
       "_view_count": null,
       "_view_module": "@jupyter-widgets/base",
       "_view_module_version": "1.2.0",
       "_view_name": "StyleView",
       "description_width": ""
      }
     },
     "0bda2bdbd1ae41bb8cd2dfc3f6b428d5": {
      "model_module": "@jupyter-widgets/controls",
      "model_module_version": "1.5.0",
      "model_name": "DescriptionStyleModel",
      "state": {
       "_model_module": "@jupyter-widgets/controls",
       "_model_module_version": "1.5.0",
       "_model_name": "DescriptionStyleModel",
       "_view_count": null,
       "_view_module": "@jupyter-widgets/base",
       "_view_module_version": "1.2.0",
       "_view_name": "StyleView",
       "description_width": ""
      }
     },
     "0d27a03a2804445fb1911bfff6a28d12": {
      "model_module": "@jupyter-widgets/base",
      "model_module_version": "1.2.0",
      "model_name": "LayoutModel",
      "state": {
       "_model_module": "@jupyter-widgets/base",
       "_model_module_version": "1.2.0",
       "_model_name": "LayoutModel",
       "_view_count": null,
       "_view_module": "@jupyter-widgets/base",
       "_view_module_version": "1.2.0",
       "_view_name": "LayoutView",
       "align_content": null,
       "align_items": null,
       "align_self": null,
       "border": null,
       "bottom": null,
       "display": null,
       "flex": null,
       "flex_flow": null,
       "grid_area": null,
       "grid_auto_columns": null,
       "grid_auto_flow": null,
       "grid_auto_rows": null,
       "grid_column": null,
       "grid_gap": null,
       "grid_row": null,
       "grid_template_areas": null,
       "grid_template_columns": null,
       "grid_template_rows": null,
       "height": null,
       "justify_content": null,
       "justify_items": null,
       "left": null,
       "margin": null,
       "max_height": null,
       "max_width": null,
       "min_height": null,
       "min_width": null,
       "object_fit": null,
       "object_position": null,
       "order": null,
       "overflow": null,
       "overflow_x": null,
       "overflow_y": null,
       "padding": null,
       "right": null,
       "top": null,
       "visibility": null,
       "width": null
      }
     },
     "0d8ed41e8a544eedad97889d3e657f83": {
      "model_module": "@jupyter-widgets/controls",
      "model_module_version": "1.5.0",
      "model_name": "DescriptionStyleModel",
      "state": {
       "_model_module": "@jupyter-widgets/controls",
       "_model_module_version": "1.5.0",
       "_model_name": "DescriptionStyleModel",
       "_view_count": null,
       "_view_module": "@jupyter-widgets/base",
       "_view_module_version": "1.2.0",
       "_view_name": "StyleView",
       "description_width": ""
      }
     },
     "0e8b139e073e4c39b0050b138193f970": {
      "model_module": "@jupyter-widgets/controls",
      "model_module_version": "1.5.0",
      "model_name": "FloatProgressModel",
      "state": {
       "_dom_classes": [],
       "_model_module": "@jupyter-widgets/controls",
       "_model_module_version": "1.5.0",
       "_model_name": "FloatProgressModel",
       "_view_count": null,
       "_view_module": "@jupyter-widgets/controls",
       "_view_module_version": "1.5.0",
       "_view_name": "ProgressView",
       "bar_style": "success",
       "description": "",
       "description_tooltip": null,
       "layout": "IPY_MODEL_23eb380ec1d0467ca6aef14b1a5c2713",
       "max": 3868.0,
       "min": 0.0,
       "orientation": "horizontal",
       "style": "IPY_MODEL_c3b2e8a5b58d495d87c6b7395cd9e5f8",
       "value": 3868.0
      }
     },
     "1012c2a799c94c86ba0ec9de20b9a272": {
      "model_module": "@jupyter-widgets/base",
      "model_module_version": "1.2.0",
      "model_name": "LayoutModel",
      "state": {
       "_model_module": "@jupyter-widgets/base",
       "_model_module_version": "1.2.0",
       "_model_name": "LayoutModel",
       "_view_count": null,
       "_view_module": "@jupyter-widgets/base",
       "_view_module_version": "1.2.0",
       "_view_name": "LayoutView",
       "align_content": null,
       "align_items": null,
       "align_self": null,
       "border": null,
       "bottom": null,
       "display": null,
       "flex": null,
       "flex_flow": null,
       "grid_area": null,
       "grid_auto_columns": null,
       "grid_auto_flow": null,
       "grid_auto_rows": null,
       "grid_column": null,
       "grid_gap": null,
       "grid_row": null,
       "grid_template_areas": null,
       "grid_template_columns": null,
       "grid_template_rows": null,
       "height": null,
       "justify_content": null,
       "justify_items": null,
       "left": null,
       "margin": null,
       "max_height": null,
       "max_width": null,
       "min_height": null,
       "min_width": null,
       "object_fit": null,
       "object_position": null,
       "order": null,
       "overflow": null,
       "overflow_x": null,
       "overflow_y": null,
       "padding": null,
       "right": null,
       "top": null,
       "visibility": null,
       "width": null
      }
     },
     "115f62586fd24bd09dccae420ca1c9d1": {
      "model_module": "@jupyter-widgets/controls",
      "model_module_version": "1.5.0",
      "model_name": "ProgressStyleModel",
      "state": {
       "_model_module": "@jupyter-widgets/controls",
       "_model_module_version": "1.5.0",
       "_model_name": "ProgressStyleModel",
       "_view_count": null,
       "_view_module": "@jupyter-widgets/base",
       "_view_module_version": "1.2.0",
       "_view_name": "StyleView",
       "bar_color": null,
       "description_width": ""
      }
     },
     "11f6929fd1494f6699830d85546c1eb6": {
      "model_module": "@jupyter-widgets/controls",
      "model_module_version": "1.5.0",
      "model_name": "FloatProgressModel",
      "state": {
       "_dom_classes": [],
       "_model_module": "@jupyter-widgets/controls",
       "_model_module_version": "1.5.0",
       "_model_name": "FloatProgressModel",
       "_view_count": null,
       "_view_module": "@jupyter-widgets/controls",
       "_view_module_version": "1.5.0",
       "_view_name": "ProgressView",
       "bar_style": "success",
       "description": "",
       "description_tooltip": null,
       "layout": "IPY_MODEL_f06f4bed61b44b849e8aca731ae136a6",
       "max": 282683.0,
       "min": 0.0,
       "orientation": "horizontal",
       "style": "IPY_MODEL_f9d6d2e420bf44af87b033e75fd34f18",
       "value": 282683.0
      }
     },
     "13288600e769488fb7418193e0e499ad": {
      "model_module": "@jupyter-widgets/controls",
      "model_module_version": "1.5.0",
      "model_name": "DescriptionStyleModel",
      "state": {
       "_model_module": "@jupyter-widgets/controls",
       "_model_module_version": "1.5.0",
       "_model_name": "DescriptionStyleModel",
       "_view_count": null,
       "_view_module": "@jupyter-widgets/base",
       "_view_module_version": "1.2.0",
       "_view_name": "StyleView",
       "description_width": ""
      }
     },
     "135d829cbdad43439c77462b28151443": {
      "model_module": "@jupyter-widgets/controls",
      "model_module_version": "1.5.0",
      "model_name": "HTMLModel",
      "state": {
       "_dom_classes": [],
       "_model_module": "@jupyter-widgets/controls",
       "_model_module_version": "1.5.0",
       "_model_name": "HTMLModel",
       "_view_count": null,
       "_view_module": "@jupyter-widgets/controls",
       "_view_module_version": "1.5.0",
       "_view_name": "HTMLView",
       "description": "",
       "description_tooltip": null,
       "layout": "IPY_MODEL_00a30bfd9008489aac065cb4ce0beab8",
       "placeholder": "​",
       "style": "IPY_MODEL_13288600e769488fb7418193e0e499ad",
       "value": "added_tokens.json: 100%"
      }
     },
     "150cbdd6cf32467a9563e68354e37f3b": {
      "model_module": "@jupyter-widgets/base",
      "model_module_version": "1.2.0",
      "model_name": "LayoutModel",
      "state": {
       "_model_module": "@jupyter-widgets/base",
       "_model_module_version": "1.2.0",
       "_model_name": "LayoutModel",
       "_view_count": null,
       "_view_module": "@jupyter-widgets/base",
       "_view_module_version": "1.2.0",
       "_view_name": "LayoutView",
       "align_content": null,
       "align_items": null,
       "align_self": null,
       "border": null,
       "bottom": null,
       "display": null,
       "flex": null,
       "flex_flow": null,
       "grid_area": null,
       "grid_auto_columns": null,
       "grid_auto_flow": null,
       "grid_auto_rows": null,
       "grid_column": null,
       "grid_gap": null,
       "grid_row": null,
       "grid_template_areas": null,
       "grid_template_columns": null,
       "grid_template_rows": null,
       "height": null,
       "justify_content": null,
       "justify_items": null,
       "left": null,
       "margin": null,
       "max_height": null,
       "max_width": null,
       "min_height": null,
       "min_width": null,
       "object_fit": null,
       "object_position": null,
       "order": null,
       "overflow": null,
       "overflow_x": null,
       "overflow_y": null,
       "padding": null,
       "right": null,
       "top": null,
       "visibility": null,
       "width": null
      }
     },
     "16a07458ac094579903fe144fcc8e624": {
      "model_module": "@jupyter-widgets/controls",
      "model_module_version": "1.5.0",
      "model_name": "HTMLModel",
      "state": {
       "_dom_classes": [],
       "_model_module": "@jupyter-widgets/controls",
       "_model_module_version": "1.5.0",
       "_model_name": "HTMLModel",
       "_view_count": null,
       "_view_module": "@jupyter-widgets/controls",
       "_view_module_version": "1.5.0",
       "_view_name": "HTMLView",
       "description": "",
       "description_tooltip": null,
       "layout": "IPY_MODEL_3d085f7ae0244371bfd9f1f4e586df20",
       "placeholder": "​",
       "style": "IPY_MODEL_1ebd6495c42f4af7ad3625877a6e6908",
       "value": "generation_config.json: 100%"
      }
     },
     "1aa9f0da1f4d46b7b42744d6427e0f77": {
      "model_module": "@jupyter-widgets/base",
      "model_module_version": "1.2.0",
      "model_name": "LayoutModel",
      "state": {
       "_model_module": "@jupyter-widgets/base",
       "_model_module_version": "1.2.0",
       "_model_name": "LayoutModel",
       "_view_count": null,
       "_view_module": "@jupyter-widgets/base",
       "_view_module_version": "1.2.0",
       "_view_name": "LayoutView",
       "align_content": null,
       "align_items": null,
       "align_self": null,
       "border": null,
       "bottom": null,
       "display": null,
       "flex": null,
       "flex_flow": null,
       "grid_area": null,
       "grid_auto_columns": null,
       "grid_auto_flow": null,
       "grid_auto_rows": null,
       "grid_column": null,
       "grid_gap": null,
       "grid_row": null,
       "grid_template_areas": null,
       "grid_template_columns": null,
       "grid_template_rows": null,
       "height": null,
       "justify_content": null,
       "justify_items": null,
       "left": null,
       "margin": null,
       "max_height": null,
       "max_width": null,
       "min_height": null,
       "min_width": null,
       "object_fit": null,
       "object_position": null,
       "order": null,
       "overflow": null,
       "overflow_x": null,
       "overflow_y": null,
       "padding": null,
       "right": null,
       "top": null,
       "visibility": null,
       "width": null
      }
     },
     "1b834c03bb2b43858a7c7c554327aa3f": {
      "model_module": "@jupyter-widgets/controls",
      "model_module_version": "1.5.0",
      "model_name": "HTMLModel",
      "state": {
       "_dom_classes": [],
       "_model_module": "@jupyter-widgets/controls",
       "_model_module_version": "1.5.0",
       "_model_name": "HTMLModel",
       "_view_count": null,
       "_view_module": "@jupyter-widgets/controls",
       "_view_module_version": "1.5.0",
       "_view_name": "HTMLView",
       "description": "",
       "description_tooltip": null,
       "layout": "IPY_MODEL_f3f2eb2b72bb4695ae217a7b43303888",
       "placeholder": "​",
       "style": "IPY_MODEL_0bda2bdbd1ae41bb8cd2dfc3f6b428d5",
       "value": " 494k/494k [00:00&lt;00:00, 16.9MB/s]"
      }
     },
     "1ebd6495c42f4af7ad3625877a6e6908": {
      "model_module": "@jupyter-widgets/controls",
      "model_module_version": "1.5.0",
      "model_name": "DescriptionStyleModel",
      "state": {
       "_model_module": "@jupyter-widgets/controls",
       "_model_module_version": "1.5.0",
       "_model_name": "DescriptionStyleModel",
       "_view_count": null,
       "_view_module": "@jupyter-widgets/base",
       "_view_module_version": "1.2.0",
       "_view_name": "StyleView",
       "description_width": ""
      }
     },
     "23eb380ec1d0467ca6aef14b1a5c2713": {
      "model_module": "@jupyter-widgets/base",
      "model_module_version": "1.2.0",
      "model_name": "LayoutModel",
      "state": {
       "_model_module": "@jupyter-widgets/base",
       "_model_module_version": "1.2.0",
       "_model_name": "LayoutModel",
       "_view_count": null,
       "_view_module": "@jupyter-widgets/base",
       "_view_module_version": "1.2.0",
       "_view_name": "LayoutView",
       "align_content": null,
       "align_items": null,
       "align_self": null,
       "border": null,
       "bottom": null,
       "display": null,
       "flex": null,
       "flex_flow": null,
       "grid_area": null,
       "grid_auto_columns": null,
       "grid_auto_flow": null,
       "grid_auto_rows": null,
       "grid_column": null,
       "grid_gap": null,
       "grid_row": null,
       "grid_template_areas": null,
       "grid_template_columns": null,
       "grid_template_rows": null,
       "height": null,
       "justify_content": null,
       "justify_items": null,
       "left": null,
       "margin": null,
       "max_height": null,
       "max_width": null,
       "min_height": null,
       "min_width": null,
       "object_fit": null,
       "object_position": null,
       "order": null,
       "overflow": null,
       "overflow_x": null,
       "overflow_y": null,
       "padding": null,
       "right": null,
       "top": null,
       "visibility": null,
       "width": null
      }
     },
     "242d4c7b53bc41cb8e49290993e1bc35": {
      "model_module": "@jupyter-widgets/base",
      "model_module_version": "1.2.0",
      "model_name": "LayoutModel",
      "state": {
       "_model_module": "@jupyter-widgets/base",
       "_model_module_version": "1.2.0",
       "_model_name": "LayoutModel",
       "_view_count": null,
       "_view_module": "@jupyter-widgets/base",
       "_view_module_version": "1.2.0",
       "_view_name": "LayoutView",
       "align_content": null,
       "align_items": null,
       "align_self": null,
       "border": null,
       "bottom": null,
       "display": null,
       "flex": null,
       "flex_flow": null,
       "grid_area": null,
       "grid_auto_columns": null,
       "grid_auto_flow": null,
       "grid_auto_rows": null,
       "grid_column": null,
       "grid_gap": null,
       "grid_row": null,
       "grid_template_areas": null,
       "grid_template_columns": null,
       "grid_template_rows": null,
       "height": null,
       "justify_content": null,
       "justify_items": null,
       "left": null,
       "margin": null,
       "max_height": null,
       "max_width": null,
       "min_height": null,
       "min_width": null,
       "object_fit": null,
       "object_position": null,
       "order": null,
       "overflow": null,
       "overflow_x": null,
       "overflow_y": null,
       "padding": null,
       "right": null,
       "top": null,
       "visibility": null,
       "width": null
      }
     },
     "2dada6c928a947708f36ee5e8a02396c": {
      "model_module": "@jupyter-widgets/base",
      "model_module_version": "1.2.0",
      "model_name": "LayoutModel",
      "state": {
       "_model_module": "@jupyter-widgets/base",
       "_model_module_version": "1.2.0",
       "_model_name": "LayoutModel",
       "_view_count": null,
       "_view_module": "@jupyter-widgets/base",
       "_view_module_version": "1.2.0",
       "_view_name": "LayoutView",
       "align_content": null,
       "align_items": null,
       "align_self": null,
       "border": null,
       "bottom": null,
       "display": null,
       "flex": null,
       "flex_flow": null,
       "grid_area": null,
       "grid_auto_columns": null,
       "grid_auto_flow": null,
       "grid_auto_rows": null,
       "grid_column": null,
       "grid_gap": null,
       "grid_row": null,
       "grid_template_areas": null,
       "grid_template_columns": null,
       "grid_template_rows": null,
       "height": null,
       "justify_content": null,
       "justify_items": null,
       "left": null,
       "margin": null,
       "max_height": null,
       "max_width": null,
       "min_height": null,
       "min_width": null,
       "object_fit": null,
       "object_position": null,
       "order": null,
       "overflow": null,
       "overflow_x": null,
       "overflow_y": null,
       "padding": null,
       "right": null,
       "top": null,
       "visibility": null,
       "width": null
      }
     },
     "2dc2f6d6787b46d08a6973ab515652c5": {
      "model_module": "@jupyter-widgets/controls",
      "model_module_version": "1.5.0",
      "model_name": "DescriptionStyleModel",
      "state": {
       "_model_module": "@jupyter-widgets/controls",
       "_model_module_version": "1.5.0",
       "_model_name": "DescriptionStyleModel",
       "_view_count": null,
       "_view_module": "@jupyter-widgets/base",
       "_view_module_version": "1.2.0",
       "_view_name": "StyleView",
       "description_width": ""
      }
     },
     "2dd8cace53be43969fb7092d11a172e3": {
      "model_module": "@jupyter-widgets/base",
      "model_module_version": "1.2.0",
      "model_name": "LayoutModel",
      "state": {
       "_model_module": "@jupyter-widgets/base",
       "_model_module_version": "1.2.0",
       "_model_name": "LayoutModel",
       "_view_count": null,
       "_view_module": "@jupyter-widgets/base",
       "_view_module_version": "1.2.0",
       "_view_name": "LayoutView",
       "align_content": null,
       "align_items": null,
       "align_self": null,
       "border": null,
       "bottom": null,
       "display": null,
       "flex": null,
       "flex_flow": null,
       "grid_area": null,
       "grid_auto_columns": null,
       "grid_auto_flow": null,
       "grid_auto_rows": null,
       "grid_column": null,
       "grid_gap": null,
       "grid_row": null,
       "grid_template_areas": null,
       "grid_template_columns": null,
       "grid_template_rows": null,
       "height": null,
       "justify_content": null,
       "justify_items": null,
       "left": null,
       "margin": null,
       "max_height": null,
       "max_width": null,
       "min_height": null,
       "min_width": null,
       "object_fit": null,
       "object_position": null,
       "order": null,
       "overflow": null,
       "overflow_x": null,
       "overflow_y": null,
       "padding": null,
       "right": null,
       "top": null,
       "visibility": null,
       "width": null
      }
     },
     "2ddd42e746f544b7864fc6d43c338cf1": {
      "model_module": "@jupyter-widgets/base",
      "model_module_version": "1.2.0",
      "model_name": "LayoutModel",
      "state": {
       "_model_module": "@jupyter-widgets/base",
       "_model_module_version": "1.2.0",
       "_model_name": "LayoutModel",
       "_view_count": null,
       "_view_module": "@jupyter-widgets/base",
       "_view_module_version": "1.2.0",
       "_view_name": "LayoutView",
       "align_content": null,
       "align_items": null,
       "align_self": null,
       "border": null,
       "bottom": null,
       "display": null,
       "flex": null,
       "flex_flow": null,
       "grid_area": null,
       "grid_auto_columns": null,
       "grid_auto_flow": null,
       "grid_auto_rows": null,
       "grid_column": null,
       "grid_gap": null,
       "grid_row": null,
       "grid_template_areas": null,
       "grid_template_columns": null,
       "grid_template_rows": null,
       "height": null,
       "justify_content": null,
       "justify_items": null,
       "left": null,
       "margin": null,
       "max_height": null,
       "max_width": null,
       "min_height": null,
       "min_width": null,
       "object_fit": null,
       "object_position": null,
       "order": null,
       "overflow": null,
       "overflow_x": null,
       "overflow_y": null,
       "padding": null,
       "right": null,
       "top": null,
       "visibility": null,
       "width": null
      }
     },
     "318b1baaac5244f49e3acfaded6d5e6d": {
      "model_module": "@jupyter-widgets/controls",
      "model_module_version": "1.5.0",
      "model_name": "HTMLModel",
      "state": {
       "_dom_classes": [],
       "_model_module": "@jupyter-widgets/controls",
       "_model_module_version": "1.5.0",
       "_model_name": "HTMLModel",
       "_view_count": null,
       "_view_module": "@jupyter-widgets/controls",
       "_view_module_version": "1.5.0",
       "_view_name": "HTMLView",
       "description": "",
       "description_tooltip": null,
       "layout": "IPY_MODEL_a35bf4c7939949dbb10316f5d12ccf95",
       "placeholder": "​",
       "style": "IPY_MODEL_a9f389d0509f4dcbbaf60af8dd765241",
       "value": " 2.19k/2.19k [00:00&lt;00:00, 182kB/s]"
      }
     },
     "32b6ff3840d9488b8346b441f71337ab": {
      "model_module": "@jupyter-widgets/controls",
      "model_module_version": "1.5.0",
      "model_name": "HBoxModel",
      "state": {
       "_dom_classes": [],
       "_model_module": "@jupyter-widgets/controls",
       "_model_module_version": "1.5.0",
       "_model_name": "HBoxModel",
       "_view_count": null,
       "_view_module": "@jupyter-widgets/controls",
       "_view_module_version": "1.5.0",
       "_view_name": "HBoxView",
       "box_style": "",
       "children": [
        "IPY_MODEL_7a0da17e6dfb41b99886e3d8a8c2687e",
        "IPY_MODEL_97a38150b6c5417483cafcdcf4b64999",
        "IPY_MODEL_f8924533383c4295b85271a06fcb578c"
       ],
       "layout": "IPY_MODEL_e408ef30d94d4e3c8e7af94b9cd52999"
      }
     },
     "3303b56cf67c42f9bdd39649e07cef82": {
      "model_module": "@jupyter-widgets/controls",
      "model_module_version": "1.5.0",
      "model_name": "DescriptionStyleModel",
      "state": {
       "_model_module": "@jupyter-widgets/controls",
       "_model_module_version": "1.5.0",
       "_model_name": "DescriptionStyleModel",
       "_view_count": null,
       "_view_module": "@jupyter-widgets/base",
       "_view_module_version": "1.2.0",
       "_view_name": "StyleView",
       "description_width": ""
      }
     },
     "35c42bd31ef047a48cf3859337db0048": {
      "model_module": "@jupyter-widgets/controls",
      "model_module_version": "1.5.0",
      "model_name": "HBoxModel",
      "state": {
       "_dom_classes": [],
       "_model_module": "@jupyter-widgets/controls",
       "_model_module_version": "1.5.0",
       "_model_name": "HBoxModel",
       "_view_count": null,
       "_view_module": "@jupyter-widgets/controls",
       "_view_module_version": "1.5.0",
       "_view_name": "HBoxView",
       "box_style": "",
       "children": [
        "IPY_MODEL_9ca2ffb2b9c2420ea6af1ece808bb740",
        "IPY_MODEL_f0d2056b7daa4eeb93d651c653e0c9ba",
        "IPY_MODEL_d98e5031afd54c498fc78ac40312d016"
       ],
       "layout": "IPY_MODEL_83138651e6614645b7428f24f1568379"
      }
     },
     "375610451a0246e78c2e3c94b24168da": {
      "model_module": "@jupyter-widgets/controls",
      "model_module_version": "1.5.0",
      "model_name": "HBoxModel",
      "state": {
       "_dom_classes": [],
       "_model_module": "@jupyter-widgets/controls",
       "_model_module_version": "1.5.0",
       "_model_name": "HBoxModel",
       "_view_count": null,
       "_view_module": "@jupyter-widgets/controls",
       "_view_module_version": "1.5.0",
       "_view_name": "HBoxView",
       "box_style": "",
       "children": [
        "IPY_MODEL_135d829cbdad43439c77462b28151443",
        "IPY_MODEL_e8038e13e0f54477960a02bfe4da9d84",
        "IPY_MODEL_66fb4b5fe8e34b7a907455c3a40803b9"
       ],
       "layout": "IPY_MODEL_39c667668b404071964ecc715161ed0f"
      }
     },
     "37b1baa6d3f1428fa0f9f6f67648f311": {
      "model_module": "@jupyter-widgets/controls",
      "model_module_version": "1.5.0",
      "model_name": "DescriptionStyleModel",
      "state": {
       "_model_module": "@jupyter-widgets/controls",
       "_model_module_version": "1.5.0",
       "_model_name": "DescriptionStyleModel",
       "_view_count": null,
       "_view_module": "@jupyter-widgets/base",
       "_view_module_version": "1.2.0",
       "_view_name": "StyleView",
       "description_width": ""
      }
     },
     "39c667668b404071964ecc715161ed0f": {
      "model_module": "@jupyter-widgets/base",
      "model_module_version": "1.2.0",
      "model_name": "LayoutModel",
      "state": {
       "_model_module": "@jupyter-widgets/base",
       "_model_module_version": "1.2.0",
       "_model_name": "LayoutModel",
       "_view_count": null,
       "_view_module": "@jupyter-widgets/base",
       "_view_module_version": "1.2.0",
       "_view_name": "LayoutView",
       "align_content": null,
       "align_items": null,
       "align_self": null,
       "border": null,
       "bottom": null,
       "display": null,
       "flex": null,
       "flex_flow": null,
       "grid_area": null,
       "grid_auto_columns": null,
       "grid_auto_flow": null,
       "grid_auto_rows": null,
       "grid_column": null,
       "grid_gap": null,
       "grid_row": null,
       "grid_template_areas": null,
       "grid_template_columns": null,
       "grid_template_rows": null,
       "height": null,
       "justify_content": null,
       "justify_items": null,
       "left": null,
       "margin": null,
       "max_height": null,
       "max_width": null,
       "min_height": null,
       "min_width": null,
       "object_fit": null,
       "object_position": null,
       "order": null,
       "overflow": null,
       "overflow_x": null,
       "overflow_y": null,
       "padding": null,
       "right": null,
       "top": null,
       "visibility": null,
       "width": null
      }
     },
     "3a487cdbe58a4c5b871c0b01f163255f": {
      "model_module": "@jupyter-widgets/base",
      "model_module_version": "1.2.0",
      "model_name": "LayoutModel",
      "state": {
       "_model_module": "@jupyter-widgets/base",
       "_model_module_version": "1.2.0",
       "_model_name": "LayoutModel",
       "_view_count": null,
       "_view_module": "@jupyter-widgets/base",
       "_view_module_version": "1.2.0",
       "_view_name": "LayoutView",
       "align_content": null,
       "align_items": null,
       "align_self": null,
       "border": null,
       "bottom": null,
       "display": null,
       "flex": null,
       "flex_flow": null,
       "grid_area": null,
       "grid_auto_columns": null,
       "grid_auto_flow": null,
       "grid_auto_rows": null,
       "grid_column": null,
       "grid_gap": null,
       "grid_row": null,
       "grid_template_areas": null,
       "grid_template_columns": null,
       "grid_template_rows": null,
       "height": null,
       "justify_content": null,
       "justify_items": null,
       "left": null,
       "margin": null,
       "max_height": null,
       "max_width": null,
       "min_height": null,
       "min_width": null,
       "object_fit": null,
       "object_position": null,
       "order": null,
       "overflow": null,
       "overflow_x": null,
       "overflow_y": null,
       "padding": null,
       "right": null,
       "top": null,
       "visibility": null,
       "width": null
      }
     },
     "3a6a6c6f37614dc19a8d44f0af4806a2": {
      "model_module": "@jupyter-widgets/controls",
      "model_module_version": "1.5.0",
      "model_name": "HTMLModel",
      "state": {
       "_dom_classes": [],
       "_model_module": "@jupyter-widgets/controls",
       "_model_module_version": "1.5.0",
       "_model_name": "HTMLModel",
       "_view_count": null,
       "_view_module": "@jupyter-widgets/controls",
       "_view_module_version": "1.5.0",
       "_view_name": "HTMLView",
       "description": "",
       "description_tooltip": null,
       "layout": "IPY_MODEL_d201c1aa2ba449f2a05b7d6fda408bdb",
       "placeholder": "​",
       "style": "IPY_MODEL_0a396a6f32044cba854c5b859c283ba1",
       "value": "vocab.json: 100%"
      }
     },
     "3cfb985c0c3946bb8e326d8b8b0604eb": {
      "model_module": "@jupyter-widgets/controls",
      "model_module_version": "1.5.0",
      "model_name": "HBoxModel",
      "state": {
       "_dom_classes": [],
       "_model_module": "@jupyter-widgets/controls",
       "_model_module_version": "1.5.0",
       "_model_name": "HBoxModel",
       "_view_count": null,
       "_view_module": "@jupyter-widgets/controls",
       "_view_module_version": "1.5.0",
       "_view_name": "HBoxView",
       "box_style": "",
       "children": [
        "IPY_MODEL_3a6a6c6f37614dc19a8d44f0af4806a2",
        "IPY_MODEL_c319e80430754f368b190d8e8e963f9d",
        "IPY_MODEL_9601600e6fa5484c943d5ab24c4f3ad2"
       ],
       "layout": "IPY_MODEL_84ed0f2323b44344a4743bf1ea245561"
      }
     },
     "3d085f7ae0244371bfd9f1f4e586df20": {
      "model_module": "@jupyter-widgets/base",
      "model_module_version": "1.2.0",
      "model_name": "LayoutModel",
      "state": {
       "_model_module": "@jupyter-widgets/base",
       "_model_module_version": "1.2.0",
       "_model_name": "LayoutModel",
       "_view_count": null,
       "_view_module": "@jupyter-widgets/base",
       "_view_module_version": "1.2.0",
       "_view_name": "LayoutView",
       "align_content": null,
       "align_items": null,
       "align_self": null,
       "border": null,
       "bottom": null,
       "display": null,
       "flex": null,
       "flex_flow": null,
       "grid_area": null,
       "grid_auto_columns": null,
       "grid_auto_flow": null,
       "grid_auto_rows": null,
       "grid_column": null,
       "grid_gap": null,
       "grid_row": null,
       "grid_template_areas": null,
       "grid_template_columns": null,
       "grid_template_rows": null,
       "height": null,
       "justify_content": null,
       "justify_items": null,
       "left": null,
       "margin": null,
       "max_height": null,
       "max_width": null,
       "min_height": null,
       "min_width": null,
       "object_fit": null,
       "object_position": null,
       "order": null,
       "overflow": null,
       "overflow_x": null,
       "overflow_y": null,
       "padding": null,
       "right": null,
       "top": null,
       "visibility": null,
       "width": null
      }
     },
     "3fabfededaa84fa4a56e619da8497bc9": {
      "model_module": "@jupyter-widgets/base",
      "model_module_version": "1.2.0",
      "model_name": "LayoutModel",
      "state": {
       "_model_module": "@jupyter-widgets/base",
       "_model_module_version": "1.2.0",
       "_model_name": "LayoutModel",
       "_view_count": null,
       "_view_module": "@jupyter-widgets/base",
       "_view_module_version": "1.2.0",
       "_view_name": "LayoutView",
       "align_content": null,
       "align_items": null,
       "align_self": null,
       "border": null,
       "bottom": null,
       "display": null,
       "flex": null,
       "flex_flow": null,
       "grid_area": null,
       "grid_auto_columns": null,
       "grid_auto_flow": null,
       "grid_auto_rows": null,
       "grid_column": null,
       "grid_gap": null,
       "grid_row": null,
       "grid_template_areas": null,
       "grid_template_columns": null,
       "grid_template_rows": null,
       "height": null,
       "justify_content": null,
       "justify_items": null,
       "left": null,
       "margin": null,
       "max_height": null,
       "max_width": null,
       "min_height": null,
       "min_width": null,
       "object_fit": null,
       "object_position": null,
       "order": null,
       "overflow": null,
       "overflow_x": null,
       "overflow_y": null,
       "padding": null,
       "right": null,
       "top": null,
       "visibility": null,
       "width": null
      }
     },
     "43c771d29c0e4ae9843bc8060936b140": {
      "model_module": "@jupyter-widgets/base",
      "model_module_version": "1.2.0",
      "model_name": "LayoutModel",
      "state": {
       "_model_module": "@jupyter-widgets/base",
       "_model_module_version": "1.2.0",
       "_model_name": "LayoutModel",
       "_view_count": null,
       "_view_module": "@jupyter-widgets/base",
       "_view_module_version": "1.2.0",
       "_view_name": "LayoutView",
       "align_content": null,
       "align_items": null,
       "align_self": null,
       "border": null,
       "bottom": null,
       "display": null,
       "flex": null,
       "flex_flow": null,
       "grid_area": null,
       "grid_auto_columns": null,
       "grid_auto_flow": null,
       "grid_auto_rows": null,
       "grid_column": null,
       "grid_gap": null,
       "grid_row": null,
       "grid_template_areas": null,
       "grid_template_columns": null,
       "grid_template_rows": null,
       "height": null,
       "justify_content": null,
       "justify_items": null,
       "left": null,
       "margin": null,
       "max_height": null,
       "max_width": null,
       "min_height": null,
       "min_width": null,
       "object_fit": null,
       "object_position": null,
       "order": null,
       "overflow": null,
       "overflow_x": null,
       "overflow_y": null,
       "padding": null,
       "right": null,
       "top": null,
       "visibility": null,
       "width": null
      }
     },
     "44672ac0317c445590af6f6b355dca29": {
      "model_module": "@jupyter-widgets/base",
      "model_module_version": "1.2.0",
      "model_name": "LayoutModel",
      "state": {
       "_model_module": "@jupyter-widgets/base",
       "_model_module_version": "1.2.0",
       "_model_name": "LayoutModel",
       "_view_count": null,
       "_view_module": "@jupyter-widgets/base",
       "_view_module_version": "1.2.0",
       "_view_name": "LayoutView",
       "align_content": null,
       "align_items": null,
       "align_self": null,
       "border": null,
       "bottom": null,
       "display": null,
       "flex": null,
       "flex_flow": null,
       "grid_area": null,
       "grid_auto_columns": null,
       "grid_auto_flow": null,
       "grid_auto_rows": null,
       "grid_column": null,
       "grid_gap": null,
       "grid_row": null,
       "grid_template_areas": null,
       "grid_template_columns": null,
       "grid_template_rows": null,
       "height": null,
       "justify_content": null,
       "justify_items": null,
       "left": null,
       "margin": null,
       "max_height": null,
       "max_width": null,
       "min_height": null,
       "min_width": null,
       "object_fit": null,
       "object_position": null,
       "order": null,
       "overflow": null,
       "overflow_x": null,
       "overflow_y": null,
       "padding": null,
       "right": null,
       "top": null,
       "visibility": null,
       "width": null
      }
     },
     "477b693265cf429abeb5b9cfa8c858a7": {
      "model_module": "@jupyter-widgets/controls",
      "model_module_version": "1.5.0",
      "model_name": "DescriptionStyleModel",
      "state": {
       "_model_module": "@jupyter-widgets/controls",
       "_model_module_version": "1.5.0",
       "_model_name": "DescriptionStyleModel",
       "_view_count": null,
       "_view_module": "@jupyter-widgets/base",
       "_view_module_version": "1.2.0",
       "_view_name": "StyleView",
       "description_width": ""
      }
     },
     "52f56a79c3bf4ee8a15dd3f8f8c1c32e": {
      "model_module": "@jupyter-widgets/base",
      "model_module_version": "1.2.0",
      "model_name": "LayoutModel",
      "state": {
       "_model_module": "@jupyter-widgets/base",
       "_model_module_version": "1.2.0",
       "_model_name": "LayoutModel",
       "_view_count": null,
       "_view_module": "@jupyter-widgets/base",
       "_view_module_version": "1.2.0",
       "_view_name": "LayoutView",
       "align_content": null,
       "align_items": null,
       "align_self": null,
       "border": null,
       "bottom": null,
       "display": null,
       "flex": null,
       "flex_flow": null,
       "grid_area": null,
       "grid_auto_columns": null,
       "grid_auto_flow": null,
       "grid_auto_rows": null,
       "grid_column": null,
       "grid_gap": null,
       "grid_row": null,
       "grid_template_areas": null,
       "grid_template_columns": null,
       "grid_template_rows": null,
       "height": null,
       "justify_content": null,
       "justify_items": null,
       "left": null,
       "margin": null,
       "max_height": null,
       "max_width": null,
       "min_height": null,
       "min_width": null,
       "object_fit": null,
       "object_position": null,
       "order": null,
       "overflow": null,
       "overflow_x": null,
       "overflow_y": null,
       "padding": null,
       "right": null,
       "top": null,
       "visibility": null,
       "width": null
      }
     },
     "53603b0db55f454bb3430346951e7290": {
      "model_module": "@jupyter-widgets/controls",
      "model_module_version": "1.5.0",
      "model_name": "HBoxModel",
      "state": {
       "_dom_classes": [],
       "_model_module": "@jupyter-widgets/controls",
       "_model_module_version": "1.5.0",
       "_model_name": "HBoxModel",
       "_view_count": null,
       "_view_module": "@jupyter-widgets/controls",
       "_view_module_version": "1.5.0",
       "_view_name": "HBoxView",
       "box_style": "",
       "children": [
        "IPY_MODEL_f58e92c3f35c44a296b60dc43931b467",
        "IPY_MODEL_8c89d582ff6a4a639c6c1cd706606fa7",
        "IPY_MODEL_318b1baaac5244f49e3acfaded6d5e6d"
       ],
       "layout": "IPY_MODEL_8de1c316b4f142ad86c2d3b50f3cf292"
      }
     },
     "539fa6d33dce4f59a95b77a052bcf8d2": {
      "model_module": "@jupyter-widgets/controls",
      "model_module_version": "1.5.0",
      "model_name": "HTMLModel",
      "state": {
       "_dom_classes": [],
       "_model_module": "@jupyter-widgets/controls",
       "_model_module_version": "1.5.0",
       "_model_name": "HTMLModel",
       "_view_count": null,
       "_view_module": "@jupyter-widgets/controls",
       "_view_module_version": "1.5.0",
       "_view_name": "HTMLView",
       "description": "",
       "description_tooltip": null,
       "layout": "IPY_MODEL_9916338da4c34a5b81c51e9435024f74",
       "placeholder": "​",
       "style": "IPY_MODEL_a027372d7b17445a87ae08140bfb0541",
       "value": " 2.48M/2.48M [00:00&lt;00:00, 32.5MB/s]"
      }
     },
     "5526226dc65f4f7db2eb2e931c1eab84": {
      "model_module": "@jupyter-widgets/controls",
      "model_module_version": "1.5.0",
      "model_name": "HBoxModel",
      "state": {
       "_dom_classes": [],
       "_model_module": "@jupyter-widgets/controls",
       "_model_module_version": "1.5.0",
       "_model_name": "HBoxModel",
       "_view_count": null,
       "_view_module": "@jupyter-widgets/controls",
       "_view_module_version": "1.5.0",
       "_view_name": "HBoxView",
       "box_style": "",
       "children": [
        "IPY_MODEL_a8e0a41cce404fd9aa04071ad7093dc8",
        "IPY_MODEL_d6f5f8d62cb34c92a37c2b1f3c07c067",
        "IPY_MODEL_9bd56e29469445f893ffb66596e0b879"
       ],
       "layout": "IPY_MODEL_2dada6c928a947708f36ee5e8a02396c"
      }
     },
     "555dadd7faed4dcf8bf6c82565384b2c": {
      "model_module": "@jupyter-widgets/base",
      "model_module_version": "1.2.0",
      "model_name": "LayoutModel",
      "state": {
       "_model_module": "@jupyter-widgets/base",
       "_model_module_version": "1.2.0",
       "_model_name": "LayoutModel",
       "_view_count": null,
       "_view_module": "@jupyter-widgets/base",
       "_view_module_version": "1.2.0",
       "_view_name": "LayoutView",
       "align_content": null,
       "align_items": null,
       "align_self": null,
       "border": null,
       "bottom": null,
       "display": null,
       "flex": null,
       "flex_flow": null,
       "grid_area": null,
       "grid_auto_columns": null,
       "grid_auto_flow": null,
       "grid_auto_rows": null,
       "grid_column": null,
       "grid_gap": null,
       "grid_row": null,
       "grid_template_areas": null,
       "grid_template_columns": null,
       "grid_template_rows": null,
       "height": null,
       "justify_content": null,
       "justify_items": null,
       "left": null,
       "margin": null,
       "max_height": null,
       "max_width": null,
       "min_height": null,
       "min_width": null,
       "object_fit": null,
       "object_position": null,
       "order": null,
       "overflow": null,
       "overflow_x": null,
       "overflow_y": null,
       "padding": null,
       "right": null,
       "top": null,
       "visibility": null,
       "width": null
      }
     },
     "59bdbe4ca31f4e6e927806c3ec046896": {
      "model_module": "@jupyter-widgets/controls",
      "model_module_version": "1.5.0",
      "model_name": "ProgressStyleModel",
      "state": {
       "_model_module": "@jupyter-widgets/controls",
       "_model_module_version": "1.5.0",
       "_model_name": "ProgressStyleModel",
       "_view_count": null,
       "_view_module": "@jupyter-widgets/base",
       "_view_module_version": "1.2.0",
       "_view_name": "StyleView",
       "bar_color": null,
       "description_width": ""
      }
     },
     "5dbb2a22a63a4100a6358ca04db1a5d0": {
      "model_module": "@jupyter-widgets/controls",
      "model_module_version": "1.5.0",
      "model_name": "DescriptionStyleModel",
      "state": {
       "_model_module": "@jupyter-widgets/controls",
       "_model_module_version": "1.5.0",
       "_model_name": "DescriptionStyleModel",
       "_view_count": null,
       "_view_module": "@jupyter-widgets/base",
       "_view_module_version": "1.2.0",
       "_view_name": "StyleView",
       "description_width": ""
      }
     },
     "5efc0a5031e449c4bea07fc78b09bbca": {
      "model_module": "@jupyter-widgets/base",
      "model_module_version": "1.2.0",
      "model_name": "LayoutModel",
      "state": {
       "_model_module": "@jupyter-widgets/base",
       "_model_module_version": "1.2.0",
       "_model_name": "LayoutModel",
       "_view_count": null,
       "_view_module": "@jupyter-widgets/base",
       "_view_module_version": "1.2.0",
       "_view_name": "LayoutView",
       "align_content": null,
       "align_items": null,
       "align_self": null,
       "border": null,
       "bottom": null,
       "display": null,
       "flex": null,
       "flex_flow": null,
       "grid_area": null,
       "grid_auto_columns": null,
       "grid_auto_flow": null,
       "grid_auto_rows": null,
       "grid_column": null,
       "grid_gap": null,
       "grid_row": null,
       "grid_template_areas": null,
       "grid_template_columns": null,
       "grid_template_rows": null,
       "height": null,
       "justify_content": null,
       "justify_items": null,
       "left": null,
       "margin": null,
       "max_height": null,
       "max_width": null,
       "min_height": null,
       "min_width": null,
       "object_fit": null,
       "object_position": null,
       "order": null,
       "overflow": null,
       "overflow_x": null,
       "overflow_y": null,
       "padding": null,
       "right": null,
       "top": null,
       "visibility": null,
       "width": null
      }
     },
     "6582c46652e3471e9f3bcd62ef8a211b": {
      "model_module": "@jupyter-widgets/controls",
      "model_module_version": "1.5.0",
      "model_name": "DescriptionStyleModel",
      "state": {
       "_model_module": "@jupyter-widgets/controls",
       "_model_module_version": "1.5.0",
       "_model_name": "DescriptionStyleModel",
       "_view_count": null,
       "_view_module": "@jupyter-widgets/base",
       "_view_module_version": "1.2.0",
       "_view_name": "StyleView",
       "description_width": ""
      }
     },
     "66fb4b5fe8e34b7a907455c3a40803b9": {
      "model_module": "@jupyter-widgets/controls",
      "model_module_version": "1.5.0",
      "model_name": "HTMLModel",
      "state": {
       "_dom_classes": [],
       "_model_module": "@jupyter-widgets/controls",
       "_model_module_version": "1.5.0",
       "_model_name": "HTMLModel",
       "_view_count": null,
       "_view_module": "@jupyter-widgets/controls",
       "_view_module_version": "1.5.0",
       "_view_name": "HTMLView",
       "description": "",
       "description_tooltip": null,
       "layout": "IPY_MODEL_bb1c342dd3f64afa94f5557c73e39d59",
       "placeholder": "​",
       "style": "IPY_MODEL_3303b56cf67c42f9bdd39649e07cef82",
       "value": " 34.6k/34.6k [00:00&lt;00:00, 3.11MB/s]"
      }
     },
     "6dadf48141134d77854a97190555474a": {
      "model_module": "@jupyter-widgets/controls",
      "model_module_version": "1.5.0",
      "model_name": "FloatProgressModel",
      "state": {
       "_dom_classes": [],
       "_model_module": "@jupyter-widgets/controls",
       "_model_module_version": "1.5.0",
       "_model_name": "FloatProgressModel",
       "_view_count": null,
       "_view_module": "@jupyter-widgets/controls",
       "_view_module_version": "1.5.0",
       "_view_name": "ProgressView",
       "bar_style": "success",
       "description": "",
       "description_tooltip": null,
       "layout": "IPY_MODEL_05aa6880ffc34e9cafbe080e1d0bc00b",
       "max": 493869.0,
       "min": 0.0,
       "orientation": "horizontal",
       "style": "IPY_MODEL_c62c1edf1c4f4b07ab20f50a4d09982e",
       "value": 493869.0
      }
     },
     "726b0ad2f1a44e249303e18c48b29e38": {
      "model_module": "@jupyter-widgets/controls",
      "model_module_version": "1.5.0",
      "model_name": "HBoxModel",
      "state": {
       "_dom_classes": [],
       "_model_module": "@jupyter-widgets/controls",
       "_model_module_version": "1.5.0",
       "_model_name": "HBoxModel",
       "_view_count": null,
       "_view_module": "@jupyter-widgets/controls",
       "_view_module_version": "1.5.0",
       "_view_name": "HBoxView",
       "box_style": "",
       "children": [
        "IPY_MODEL_b045d9a70bcf47adbc87bc7921d97e6d",
        "IPY_MODEL_03d1151ab6254173b4aa256a44ae65b8",
        "IPY_MODEL_539fa6d33dce4f59a95b77a052bcf8d2"
       ],
       "layout": "IPY_MODEL_c89cda8376e3428395e237caa15225bc"
      }
     },
     "76e03c65355f4f82a9e718d195aec31a": {
      "model_module": "@jupyter-widgets/controls",
      "model_module_version": "1.5.0",
      "model_name": "HBoxModel",
      "state": {
       "_dom_classes": [],
       "_model_module": "@jupyter-widgets/controls",
       "_model_module_version": "1.5.0",
       "_model_name": "HBoxModel",
       "_view_count": null,
       "_view_module": "@jupyter-widgets/controls",
       "_view_module_version": "1.5.0",
       "_view_name": "HBoxView",
       "box_style": "",
       "children": [
        "IPY_MODEL_16a07458ac094579903fe144fcc8e624",
        "IPY_MODEL_0e8b139e073e4c39b0050b138193f970",
        "IPY_MODEL_01aa2c334b1f4342be901163667f916a"
       ],
       "layout": "IPY_MODEL_1012c2a799c94c86ba0ec9de20b9a272"
      }
     },
     "7a0da17e6dfb41b99886e3d8a8c2687e": {
      "model_module": "@jupyter-widgets/controls",
      "model_module_version": "1.5.0",
      "model_name": "HTMLModel",
      "state": {
       "_dom_classes": [],
       "_model_module": "@jupyter-widgets/controls",
       "_model_module_version": "1.5.0",
       "_model_name": "HTMLModel",
       "_view_count": null,
       "_view_module": "@jupyter-widgets/controls",
       "_view_module_version": "1.5.0",
       "_view_name": "HTMLView",
       "description": "",
       "description_tooltip": null,
       "layout": "IPY_MODEL_2ddd42e746f544b7864fc6d43c338cf1",
       "placeholder": "​",
       "style": "IPY_MODEL_fc32f2bbfc2f4fb0af269efbd4e67c54",
       "value": "model.safetensors: 100%"
      }
     },
     "7b571a24324148b193854a7959c172ce": {
      "model_module": "@jupyter-widgets/controls",
      "model_module_version": "1.5.0",
      "model_name": "ProgressStyleModel",
      "state": {
       "_model_module": "@jupyter-widgets/controls",
       "_model_module_version": "1.5.0",
       "_model_name": "ProgressStyleModel",
       "_view_count": null,
       "_view_module": "@jupyter-widgets/base",
       "_view_module_version": "1.2.0",
       "_view_name": "StyleView",
       "bar_color": null,
       "description_width": ""
      }
     },
     "7f7f320eeed242a7aaa822adaf392468": {
      "model_module": "@jupyter-widgets/controls",
      "model_module_version": "1.5.0",
      "model_name": "DescriptionStyleModel",
      "state": {
       "_model_module": "@jupyter-widgets/controls",
       "_model_module_version": "1.5.0",
       "_model_name": "DescriptionStyleModel",
       "_view_count": null,
       "_view_module": "@jupyter-widgets/base",
       "_view_module_version": "1.2.0",
       "_view_name": "StyleView",
       "description_width": ""
      }
     },
     "83138651e6614645b7428f24f1568379": {
      "model_module": "@jupyter-widgets/base",
      "model_module_version": "1.2.0",
      "model_name": "LayoutModel",
      "state": {
       "_model_module": "@jupyter-widgets/base",
       "_model_module_version": "1.2.0",
       "_model_name": "LayoutModel",
       "_view_count": null,
       "_view_module": "@jupyter-widgets/base",
       "_view_module_version": "1.2.0",
       "_view_name": "LayoutView",
       "align_content": null,
       "align_items": null,
       "align_self": null,
       "border": null,
       "bottom": null,
       "display": null,
       "flex": null,
       "flex_flow": null,
       "grid_area": null,
       "grid_auto_columns": null,
       "grid_auto_flow": null,
       "grid_auto_rows": null,
       "grid_column": null,
       "grid_gap": null,
       "grid_row": null,
       "grid_template_areas": null,
       "grid_template_columns": null,
       "grid_template_rows": null,
       "height": null,
       "justify_content": null,
       "justify_items": null,
       "left": null,
       "margin": null,
       "max_height": null,
       "max_width": null,
       "min_height": null,
       "min_width": null,
       "object_fit": null,
       "object_position": null,
       "order": null,
       "overflow": null,
       "overflow_x": null,
       "overflow_y": null,
       "padding": null,
       "right": null,
       "top": null,
       "visibility": null,
       "width": null
      }
     },
     "84ed0f2323b44344a4743bf1ea245561": {
      "model_module": "@jupyter-widgets/base",
      "model_module_version": "1.2.0",
      "model_name": "LayoutModel",
      "state": {
       "_model_module": "@jupyter-widgets/base",
       "_model_module_version": "1.2.0",
       "_model_name": "LayoutModel",
       "_view_count": null,
       "_view_module": "@jupyter-widgets/base",
       "_view_module_version": "1.2.0",
       "_view_name": "LayoutView",
       "align_content": null,
       "align_items": null,
       "align_self": null,
       "border": null,
       "bottom": null,
       "display": null,
       "flex": null,
       "flex_flow": null,
       "grid_area": null,
       "grid_auto_columns": null,
       "grid_auto_flow": null,
       "grid_auto_rows": null,
       "grid_column": null,
       "grid_gap": null,
       "grid_row": null,
       "grid_template_areas": null,
       "grid_template_columns": null,
       "grid_template_rows": null,
       "height": null,
       "justify_content": null,
       "justify_items": null,
       "left": null,
       "margin": null,
       "max_height": null,
       "max_width": null,
       "min_height": null,
       "min_width": null,
       "object_fit": null,
       "object_position": null,
       "order": null,
       "overflow": null,
       "overflow_x": null,
       "overflow_y": null,
       "padding": null,
       "right": null,
       "top": null,
       "visibility": null,
       "width": null
      }
     },
     "8c89d582ff6a4a639c6c1cd706606fa7": {
      "model_module": "@jupyter-widgets/controls",
      "model_module_version": "1.5.0",
      "model_name": "FloatProgressModel",
      "state": {
       "_dom_classes": [],
       "_model_module": "@jupyter-widgets/controls",
       "_model_module_version": "1.5.0",
       "_model_name": "FloatProgressModel",
       "_view_count": null,
       "_view_module": "@jupyter-widgets/controls",
       "_view_module_version": "1.5.0",
       "_view_name": "ProgressView",
       "bar_style": "success",
       "description": "",
       "description_tooltip": null,
       "layout": "IPY_MODEL_ac7f2dc51b2c4b8386d202ffa2691728",
       "max": 2194.0,
       "min": 0.0,
       "orientation": "horizontal",
       "style": "IPY_MODEL_f14c16b3a76546cc83842e94bf513feb",
       "value": 2194.0
      }
     },
     "8de1c316b4f142ad86c2d3b50f3cf292": {
      "model_module": "@jupyter-widgets/base",
      "model_module_version": "1.2.0",
      "model_name": "LayoutModel",
      "state": {
       "_model_module": "@jupyter-widgets/base",
       "_model_module_version": "1.2.0",
       "_model_name": "LayoutModel",
       "_view_count": null,
       "_view_module": "@jupyter-widgets/base",
       "_view_module_version": "1.2.0",
       "_view_name": "LayoutView",
       "align_content": null,
       "align_items": null,
       "align_self": null,
       "border": null,
       "bottom": null,
       "display": null,
       "flex": null,
       "flex_flow": null,
       "grid_area": null,
       "grid_auto_columns": null,
       "grid_auto_flow": null,
       "grid_auto_rows": null,
       "grid_column": null,
       "grid_gap": null,
       "grid_row": null,
       "grid_template_areas": null,
       "grid_template_columns": null,
       "grid_template_rows": null,
       "height": null,
       "justify_content": null,
       "justify_items": null,
       "left": null,
       "margin": null,
       "max_height": null,
       "max_width": null,
       "min_height": null,
       "min_width": null,
       "object_fit": null,
       "object_position": null,
       "order": null,
       "overflow": null,
       "overflow_x": null,
       "overflow_y": null,
       "padding": null,
       "right": null,
       "top": null,
       "visibility": null,
       "width": null
      }
     },
     "9601600e6fa5484c943d5ab24c4f3ad2": {
      "model_module": "@jupyter-widgets/controls",
      "model_module_version": "1.5.0",
      "model_name": "HTMLModel",
      "state": {
       "_dom_classes": [],
       "_model_module": "@jupyter-widgets/controls",
       "_model_module_version": "1.5.0",
       "_model_name": "HTMLModel",
       "_view_count": null,
       "_view_module": "@jupyter-widgets/controls",
       "_view_module_version": "1.5.0",
       "_view_name": "HTMLView",
       "description": "",
       "description_tooltip": null,
       "layout": "IPY_MODEL_44672ac0317c445590af6f6b355dca29",
       "placeholder": "​",
       "style": "IPY_MODEL_bda59d51adfd4d04b91bdcc7f9182e78",
       "value": " 836k/836k [00:00&lt;00:00, 34.9MB/s]"
      }
     },
     "97a38150b6c5417483cafcdcf4b64999": {
      "model_module": "@jupyter-widgets/controls",
      "model_module_version": "1.5.0",
      "model_name": "FloatProgressModel",
      "state": {
       "_dom_classes": [],
       "_model_module": "@jupyter-widgets/controls",
       "_model_module_version": "1.5.0",
       "_model_name": "FloatProgressModel",
       "_view_count": null,
       "_view_module": "@jupyter-widgets/controls",
       "_view_module_version": "1.5.0",
       "_view_name": "ProgressView",
       "bar_style": "success",
       "description": "",
       "description_tooltip": null,
       "layout": "IPY_MODEL_2dd8cace53be43969fb7092d11a172e3",
       "max": 966995080.0,
       "min": 0.0,
       "orientation": "horizontal",
       "style": "IPY_MODEL_115f62586fd24bd09dccae420ca1c9d1",
       "value": 966995080.0
      }
     },
     "9916338da4c34a5b81c51e9435024f74": {
      "model_module": "@jupyter-widgets/base",
      "model_module_version": "1.2.0",
      "model_name": "LayoutModel",
      "state": {
       "_model_module": "@jupyter-widgets/base",
       "_model_module_version": "1.2.0",
       "_model_name": "LayoutModel",
       "_view_count": null,
       "_view_module": "@jupyter-widgets/base",
       "_view_module_version": "1.2.0",
       "_view_name": "LayoutView",
       "align_content": null,
       "align_items": null,
       "align_self": null,
       "border": null,
       "bottom": null,
       "display": null,
       "flex": null,
       "flex_flow": null,
       "grid_area": null,
       "grid_auto_columns": null,
       "grid_auto_flow": null,
       "grid_auto_rows": null,
       "grid_column": null,
       "grid_gap": null,
       "grid_row": null,
       "grid_template_areas": null,
       "grid_template_columns": null,
       "grid_template_rows": null,
       "height": null,
       "justify_content": null,
       "justify_items": null,
       "left": null,
       "margin": null,
       "max_height": null,
       "max_width": null,
       "min_height": null,
       "min_width": null,
       "object_fit": null,
       "object_position": null,
       "order": null,
       "overflow": null,
       "overflow_x": null,
       "overflow_y": null,
       "padding": null,
       "right": null,
       "top": null,
       "visibility": null,
       "width": null
      }
     },
     "9aff51cadb9942fa97385fb36b9a35cc": {
      "model_module": "@jupyter-widgets/base",
      "model_module_version": "1.2.0",
      "model_name": "LayoutModel",
      "state": {
       "_model_module": "@jupyter-widgets/base",
       "_model_module_version": "1.2.0",
       "_model_name": "LayoutModel",
       "_view_count": null,
       "_view_module": "@jupyter-widgets/base",
       "_view_module_version": "1.2.0",
       "_view_name": "LayoutView",
       "align_content": null,
       "align_items": null,
       "align_self": null,
       "border": null,
       "bottom": null,
       "display": null,
       "flex": null,
       "flex_flow": null,
       "grid_area": null,
       "grid_auto_columns": null,
       "grid_auto_flow": null,
       "grid_auto_rows": null,
       "grid_column": null,
       "grid_gap": null,
       "grid_row": null,
       "grid_template_areas": null,
       "grid_template_columns": null,
       "grid_template_rows": null,
       "height": null,
       "justify_content": null,
       "justify_items": null,
       "left": null,
       "margin": null,
       "max_height": null,
       "max_width": null,
       "min_height": null,
       "min_width": null,
       "object_fit": null,
       "object_position": null,
       "order": null,
       "overflow": null,
       "overflow_x": null,
       "overflow_y": null,
       "padding": null,
       "right": null,
       "top": null,
       "visibility": null,
       "width": null
      }
     },
     "9bd56e29469445f893ffb66596e0b879": {
      "model_module": "@jupyter-widgets/controls",
      "model_module_version": "1.5.0",
      "model_name": "HTMLModel",
      "state": {
       "_dom_classes": [],
       "_model_module": "@jupyter-widgets/controls",
       "_model_module_version": "1.5.0",
       "_model_name": "HTMLModel",
       "_view_count": null,
       "_view_module": "@jupyter-widgets/controls",
       "_view_module_version": "1.5.0",
       "_view_name": "HTMLView",
       "description": "",
       "description_tooltip": null,
       "layout": "IPY_MODEL_43c771d29c0e4ae9843bc8060936b140",
       "placeholder": "​",
       "style": "IPY_MODEL_0d8ed41e8a544eedad97889d3e657f83",
       "value": " 185k/185k [00:00&lt;00:00, 4.34MB/s]"
      }
     },
     "9ca2ffb2b9c2420ea6af1ece808bb740": {
      "model_module": "@jupyter-widgets/controls",
      "model_module_version": "1.5.0",
      "model_name": "HTMLModel",
      "state": {
       "_dom_classes": [],
       "_model_module": "@jupyter-widgets/controls",
       "_model_module_version": "1.5.0",
       "_model_name": "HTMLModel",
       "_view_count": null,
       "_view_module": "@jupyter-widgets/controls",
       "_view_module_version": "1.5.0",
       "_view_name": "HTMLView",
       "description": "",
       "description_tooltip": null,
       "layout": "IPY_MODEL_0d27a03a2804445fb1911bfff6a28d12",
       "placeholder": "​",
       "style": "IPY_MODEL_aaa85512463641bb9cb523b25b69d8ac",
       "value": "normalizer.json: 100%"
      }
     },
     "9d344a3edb434dc7adc154360b7d7e94": {
      "model_module": "@jupyter-widgets/base",
      "model_module_version": "1.2.0",
      "model_name": "LayoutModel",
      "state": {
       "_model_module": "@jupyter-widgets/base",
       "_model_module_version": "1.2.0",
       "_model_name": "LayoutModel",
       "_view_count": null,
       "_view_module": "@jupyter-widgets/base",
       "_view_module_version": "1.2.0",
       "_view_name": "LayoutView",
       "align_content": null,
       "align_items": null,
       "align_self": null,
       "border": null,
       "bottom": null,
       "display": null,
       "flex": null,
       "flex_flow": null,
       "grid_area": null,
       "grid_auto_columns": null,
       "grid_auto_flow": null,
       "grid_auto_rows": null,
       "grid_column": null,
       "grid_gap": null,
       "grid_row": null,
       "grid_template_areas": null,
       "grid_template_columns": null,
       "grid_template_rows": null,
       "height": null,
       "justify_content": null,
       "justify_items": null,
       "left": null,
       "margin": null,
       "max_height": null,
       "max_width": null,
       "min_height": null,
       "min_width": null,
       "object_fit": null,
       "object_position": null,
       "order": null,
       "overflow": null,
       "overflow_x": null,
       "overflow_y": null,
       "padding": null,
       "right": null,
       "top": null,
       "visibility": null,
       "width": null
      }
     },
     "9e9b98ff0c57465fac3e83f7b6bb7acf": {
      "model_module": "@jupyter-widgets/base",
      "model_module_version": "1.2.0",
      "model_name": "LayoutModel",
      "state": {
       "_model_module": "@jupyter-widgets/base",
       "_model_module_version": "1.2.0",
       "_model_name": "LayoutModel",
       "_view_count": null,
       "_view_module": "@jupyter-widgets/base",
       "_view_module_version": "1.2.0",
       "_view_name": "LayoutView",
       "align_content": null,
       "align_items": null,
       "align_self": null,
       "border": null,
       "bottom": null,
       "display": null,
       "flex": null,
       "flex_flow": null,
       "grid_area": null,
       "grid_auto_columns": null,
       "grid_auto_flow": null,
       "grid_auto_rows": null,
       "grid_column": null,
       "grid_gap": null,
       "grid_row": null,
       "grid_template_areas": null,
       "grid_template_columns": null,
       "grid_template_rows": null,
       "height": null,
       "justify_content": null,
       "justify_items": null,
       "left": null,
       "margin": null,
       "max_height": null,
       "max_width": null,
       "min_height": null,
       "min_width": null,
       "object_fit": null,
       "object_position": null,
       "order": null,
       "overflow": null,
       "overflow_x": null,
       "overflow_y": null,
       "padding": null,
       "right": null,
       "top": null,
       "visibility": null,
       "width": null
      }
     },
     "a00e6e38744b4c9f9568b71b92e8e13e": {
      "model_module": "@jupyter-widgets/controls",
      "model_module_version": "1.5.0",
      "model_name": "DescriptionStyleModel",
      "state": {
       "_model_module": "@jupyter-widgets/controls",
       "_model_module_version": "1.5.0",
       "_model_name": "DescriptionStyleModel",
       "_view_count": null,
       "_view_module": "@jupyter-widgets/base",
       "_view_module_version": "1.2.0",
       "_view_name": "StyleView",
       "description_width": ""
      }
     },
     "a027372d7b17445a87ae08140bfb0541": {
      "model_module": "@jupyter-widgets/controls",
      "model_module_version": "1.5.0",
      "model_name": "DescriptionStyleModel",
      "state": {
       "_model_module": "@jupyter-widgets/controls",
       "_model_module_version": "1.5.0",
       "_model_name": "DescriptionStyleModel",
       "_view_count": null,
       "_view_module": "@jupyter-widgets/base",
       "_view_module_version": "1.2.0",
       "_view_name": "StyleView",
       "description_width": ""
      }
     },
     "a35bf4c7939949dbb10316f5d12ccf95": {
      "model_module": "@jupyter-widgets/base",
      "model_module_version": "1.2.0",
      "model_name": "LayoutModel",
      "state": {
       "_model_module": "@jupyter-widgets/base",
       "_model_module_version": "1.2.0",
       "_model_name": "LayoutModel",
       "_view_count": null,
       "_view_module": "@jupyter-widgets/base",
       "_view_module_version": "1.2.0",
       "_view_name": "LayoutView",
       "align_content": null,
       "align_items": null,
       "align_self": null,
       "border": null,
       "bottom": null,
       "display": null,
       "flex": null,
       "flex_flow": null,
       "grid_area": null,
       "grid_auto_columns": null,
       "grid_auto_flow": null,
       "grid_auto_rows": null,
       "grid_column": null,
       "grid_gap": null,
       "grid_row": null,
       "grid_template_areas": null,
       "grid_template_columns": null,
       "grid_template_rows": null,
       "height": null,
       "justify_content": null,
       "justify_items": null,
       "left": null,
       "margin": null,
       "max_height": null,
       "max_width": null,
       "min_height": null,
       "min_width": null,
       "object_fit": null,
       "object_position": null,
       "order": null,
       "overflow": null,
       "overflow_x": null,
       "overflow_y": null,
       "padding": null,
       "right": null,
       "top": null,
       "visibility": null,
       "width": null
      }
     },
     "a8e0a41cce404fd9aa04071ad7093dc8": {
      "model_module": "@jupyter-widgets/controls",
      "model_module_version": "1.5.0",
      "model_name": "HTMLModel",
      "state": {
       "_dom_classes": [],
       "_model_module": "@jupyter-widgets/controls",
       "_model_module_version": "1.5.0",
       "_model_name": "HTMLModel",
       "_view_count": null,
       "_view_module": "@jupyter-widgets/controls",
       "_view_module_version": "1.5.0",
       "_view_name": "HTMLView",
       "description": "",
       "description_tooltip": null,
       "layout": "IPY_MODEL_abfb76802bd64427b8df5a93a2bd0267",
       "placeholder": "​",
       "style": "IPY_MODEL_ed7afa639ea940258d2dd731de794daf",
       "value": "preprocessor_config.json: 100%"
      }
     },
     "a8fc3988b0fb41249cbfdac352cb2a9d": {
      "model_module": "@jupyter-widgets/controls",
      "model_module_version": "1.5.0",
      "model_name": "HTMLModel",
      "state": {
       "_dom_classes": [],
       "_model_module": "@jupyter-widgets/controls",
       "_model_module_version": "1.5.0",
       "_model_name": "HTMLModel",
       "_view_count": null,
       "_view_module": "@jupyter-widgets/controls",
       "_view_module_version": "1.5.0",
       "_view_name": "HTMLView",
       "description": "",
       "description_tooltip": null,
       "layout": "IPY_MODEL_e996686b50ae4b59b8b2f08453fcc78c",
       "placeholder": "​",
       "style": "IPY_MODEL_6582c46652e3471e9f3bcd62ef8a211b",
       "value": "merges.txt: 100%"
      }
     },
     "a94cb4d1ea1445d591b00cb7fbaaf0c0": {
      "model_module": "@jupyter-widgets/controls",
      "model_module_version": "1.5.0",
      "model_name": "ProgressStyleModel",
      "state": {
       "_model_module": "@jupyter-widgets/controls",
       "_model_module_version": "1.5.0",
       "_model_name": "ProgressStyleModel",
       "_view_count": null,
       "_view_module": "@jupyter-widgets/base",
       "_view_module_version": "1.2.0",
       "_view_name": "StyleView",
       "bar_color": null,
       "description_width": ""
      }
     },
     "a9f389d0509f4dcbbaf60af8dd765241": {
      "model_module": "@jupyter-widgets/controls",
      "model_module_version": "1.5.0",
      "model_name": "DescriptionStyleModel",
      "state": {
       "_model_module": "@jupyter-widgets/controls",
       "_model_module_version": "1.5.0",
       "_model_name": "DescriptionStyleModel",
       "_view_count": null,
       "_view_module": "@jupyter-widgets/base",
       "_view_module_version": "1.2.0",
       "_view_name": "StyleView",
       "description_width": ""
      }
     },
     "aaa85512463641bb9cb523b25b69d8ac": {
      "model_module": "@jupyter-widgets/controls",
      "model_module_version": "1.5.0",
      "model_name": "DescriptionStyleModel",
      "state": {
       "_model_module": "@jupyter-widgets/controls",
       "_model_module_version": "1.5.0",
       "_model_name": "DescriptionStyleModel",
       "_view_count": null,
       "_view_module": "@jupyter-widgets/base",
       "_view_module_version": "1.2.0",
       "_view_name": "StyleView",
       "description_width": ""
      }
     },
     "aadeb242dbfa4174a7fa415d8691c502": {
      "model_module": "@jupyter-widgets/base",
      "model_module_version": "1.2.0",
      "model_name": "LayoutModel",
      "state": {
       "_model_module": "@jupyter-widgets/base",
       "_model_module_version": "1.2.0",
       "_model_name": "LayoutModel",
       "_view_count": null,
       "_view_module": "@jupyter-widgets/base",
       "_view_module_version": "1.2.0",
       "_view_name": "LayoutView",
       "align_content": null,
       "align_items": null,
       "align_self": null,
       "border": null,
       "bottom": null,
       "display": null,
       "flex": null,
       "flex_flow": null,
       "grid_area": null,
       "grid_auto_columns": null,
       "grid_auto_flow": null,
       "grid_auto_rows": null,
       "grid_column": null,
       "grid_gap": null,
       "grid_row": null,
       "grid_template_areas": null,
       "grid_template_columns": null,
       "grid_template_rows": null,
       "height": null,
       "justify_content": null,
       "justify_items": null,
       "left": null,
       "margin": null,
       "max_height": null,
       "max_width": null,
       "min_height": null,
       "min_width": null,
       "object_fit": null,
       "object_position": null,
       "order": null,
       "overflow": null,
       "overflow_x": null,
       "overflow_y": null,
       "padding": null,
       "right": null,
       "top": null,
       "visibility": null,
       "width": null
      }
     },
     "abfb76802bd64427b8df5a93a2bd0267": {
      "model_module": "@jupyter-widgets/base",
      "model_module_version": "1.2.0",
      "model_name": "LayoutModel",
      "state": {
       "_model_module": "@jupyter-widgets/base",
       "_model_module_version": "1.2.0",
       "_model_name": "LayoutModel",
       "_view_count": null,
       "_view_module": "@jupyter-widgets/base",
       "_view_module_version": "1.2.0",
       "_view_name": "LayoutView",
       "align_content": null,
       "align_items": null,
       "align_self": null,
       "border": null,
       "bottom": null,
       "display": null,
       "flex": null,
       "flex_flow": null,
       "grid_area": null,
       "grid_auto_columns": null,
       "grid_auto_flow": null,
       "grid_auto_rows": null,
       "grid_column": null,
       "grid_gap": null,
       "grid_row": null,
       "grid_template_areas": null,
       "grid_template_columns": null,
       "grid_template_rows": null,
       "height": null,
       "justify_content": null,
       "justify_items": null,
       "left": null,
       "margin": null,
       "max_height": null,
       "max_width": null,
       "min_height": null,
       "min_width": null,
       "object_fit": null,
       "object_position": null,
       "order": null,
       "overflow": null,
       "overflow_x": null,
       "overflow_y": null,
       "padding": null,
       "right": null,
       "top": null,
       "visibility": null,
       "width": null
      }
     },
     "ac7f2dc51b2c4b8386d202ffa2691728": {
      "model_module": "@jupyter-widgets/base",
      "model_module_version": "1.2.0",
      "model_name": "LayoutModel",
      "state": {
       "_model_module": "@jupyter-widgets/base",
       "_model_module_version": "1.2.0",
       "_model_name": "LayoutModel",
       "_view_count": null,
       "_view_module": "@jupyter-widgets/base",
       "_view_module_version": "1.2.0",
       "_view_name": "LayoutView",
       "align_content": null,
       "align_items": null,
       "align_self": null,
       "border": null,
       "bottom": null,
       "display": null,
       "flex": null,
       "flex_flow": null,
       "grid_area": null,
       "grid_auto_columns": null,
       "grid_auto_flow": null,
       "grid_auto_rows": null,
       "grid_column": null,
       "grid_gap": null,
       "grid_row": null,
       "grid_template_areas": null,
       "grid_template_columns": null,
       "grid_template_rows": null,
       "height": null,
       "justify_content": null,
       "justify_items": null,
       "left": null,
       "margin": null,
       "max_height": null,
       "max_width": null,
       "min_height": null,
       "min_width": null,
       "object_fit": null,
       "object_position": null,
       "order": null,
       "overflow": null,
       "overflow_x": null,
       "overflow_y": null,
       "padding": null,
       "right": null,
       "top": null,
       "visibility": null,
       "width": null
      }
     },
     "acb6d8fdc7304e72b8f82f70c211bbe1": {
      "model_module": "@jupyter-widgets/base",
      "model_module_version": "1.2.0",
      "model_name": "LayoutModel",
      "state": {
       "_model_module": "@jupyter-widgets/base",
       "_model_module_version": "1.2.0",
       "_model_name": "LayoutModel",
       "_view_count": null,
       "_view_module": "@jupyter-widgets/base",
       "_view_module_version": "1.2.0",
       "_view_name": "LayoutView",
       "align_content": null,
       "align_items": null,
       "align_self": null,
       "border": null,
       "bottom": null,
       "display": null,
       "flex": null,
       "flex_flow": null,
       "grid_area": null,
       "grid_auto_columns": null,
       "grid_auto_flow": null,
       "grid_auto_rows": null,
       "grid_column": null,
       "grid_gap": null,
       "grid_row": null,
       "grid_template_areas": null,
       "grid_template_columns": null,
       "grid_template_rows": null,
       "height": null,
       "justify_content": null,
       "justify_items": null,
       "left": null,
       "margin": null,
       "max_height": null,
       "max_width": null,
       "min_height": null,
       "min_width": null,
       "object_fit": null,
       "object_position": null,
       "order": null,
       "overflow": null,
       "overflow_x": null,
       "overflow_y": null,
       "padding": null,
       "right": null,
       "top": null,
       "visibility": null,
       "width": null
      }
     },
     "b045d9a70bcf47adbc87bc7921d97e6d": {
      "model_module": "@jupyter-widgets/controls",
      "model_module_version": "1.5.0",
      "model_name": "HTMLModel",
      "state": {
       "_dom_classes": [],
       "_model_module": "@jupyter-widgets/controls",
       "_model_module_version": "1.5.0",
       "_model_name": "HTMLModel",
       "_view_count": null,
       "_view_module": "@jupyter-widgets/controls",
       "_view_module_version": "1.5.0",
       "_view_name": "HTMLView",
       "description": "",
       "description_tooltip": null,
       "layout": "IPY_MODEL_1aa9f0da1f4d46b7b42744d6427e0f77",
       "placeholder": "​",
       "style": "IPY_MODEL_7f7f320eeed242a7aaa822adaf392468",
       "value": "tokenizer.json: 100%"
      }
     },
     "b6fbf3d9f6fb4d21815366fad87c22ca": {
      "model_module": "@jupyter-widgets/controls",
      "model_module_version": "1.5.0",
      "model_name": "DescriptionStyleModel",
      "state": {
       "_model_module": "@jupyter-widgets/controls",
       "_model_module_version": "1.5.0",
       "_model_name": "DescriptionStyleModel",
       "_view_count": null,
       "_view_module": "@jupyter-widgets/base",
       "_view_module_version": "1.2.0",
       "_view_name": "StyleView",
       "description_width": ""
      }
     },
     "b73d1194f1fd4c5ebd97defe35546984": {
      "model_module": "@jupyter-widgets/controls",
      "model_module_version": "1.5.0",
      "model_name": "HBoxModel",
      "state": {
       "_dom_classes": [],
       "_model_module": "@jupyter-widgets/controls",
       "_model_module_version": "1.5.0",
       "_model_name": "HBoxModel",
       "_view_count": null,
       "_view_module": "@jupyter-widgets/controls",
       "_view_module_version": "1.5.0",
       "_view_name": "HBoxView",
       "box_style": "",
       "children": [
        "IPY_MODEL_a8fc3988b0fb41249cbfdac352cb2a9d",
        "IPY_MODEL_6dadf48141134d77854a97190555474a",
        "IPY_MODEL_1b834c03bb2b43858a7c7c554327aa3f"
       ],
       "layout": "IPY_MODEL_3a487cdbe58a4c5b871c0b01f163255f"
      }
     },
     "b862bf1037c5479d8227fcde2ae484b8": {
      "model_module": "@jupyter-widgets/controls",
      "model_module_version": "1.5.0",
      "model_name": "HTMLModel",
      "state": {
       "_dom_classes": [],
       "_model_module": "@jupyter-widgets/controls",
       "_model_module_version": "1.5.0",
       "_model_name": "HTMLModel",
       "_view_count": null,
       "_view_module": "@jupyter-widgets/controls",
       "_view_module_version": "1.5.0",
       "_view_name": "HTMLView",
       "description": "",
       "description_tooltip": null,
       "layout": "IPY_MODEL_3fabfededaa84fa4a56e619da8497bc9",
       "placeholder": "​",
       "style": "IPY_MODEL_b6fbf3d9f6fb4d21815366fad87c22ca",
       "value": "config.json: 100%"
      }
     },
     "bb1c342dd3f64afa94f5557c73e39d59": {
      "model_module": "@jupyter-widgets/base",
      "model_module_version": "1.2.0",
      "model_name": "LayoutModel",
      "state": {
       "_model_module": "@jupyter-widgets/base",
       "_model_module_version": "1.2.0",
       "_model_name": "LayoutModel",
       "_view_count": null,
       "_view_module": "@jupyter-widgets/base",
       "_view_module_version": "1.2.0",
       "_view_name": "LayoutView",
       "align_content": null,
       "align_items": null,
       "align_self": null,
       "border": null,
       "bottom": null,
       "display": null,
       "flex": null,
       "flex_flow": null,
       "grid_area": null,
       "grid_auto_columns": null,
       "grid_auto_flow": null,
       "grid_auto_rows": null,
       "grid_column": null,
       "grid_gap": null,
       "grid_row": null,
       "grid_template_areas": null,
       "grid_template_columns": null,
       "grid_template_rows": null,
       "height": null,
       "justify_content": null,
       "justify_items": null,
       "left": null,
       "margin": null,
       "max_height": null,
       "max_width": null,
       "min_height": null,
       "min_width": null,
       "object_fit": null,
       "object_position": null,
       "order": null,
       "overflow": null,
       "overflow_x": null,
       "overflow_y": null,
       "padding": null,
       "right": null,
       "top": null,
       "visibility": null,
       "width": null
      }
     },
     "bd37cc2c0f794f6297e6fb47e278a6ad": {
      "model_module": "@jupyter-widgets/controls",
      "model_module_version": "1.5.0",
      "model_name": "ProgressStyleModel",
      "state": {
       "_model_module": "@jupyter-widgets/controls",
       "_model_module_version": "1.5.0",
       "_model_name": "ProgressStyleModel",
       "_view_count": null,
       "_view_module": "@jupyter-widgets/base",
       "_view_module_version": "1.2.0",
       "_view_name": "StyleView",
       "bar_color": null,
       "description_width": ""
      }
     },
     "bda59d51adfd4d04b91bdcc7f9182e78": {
      "model_module": "@jupyter-widgets/controls",
      "model_module_version": "1.5.0",
      "model_name": "DescriptionStyleModel",
      "state": {
       "_model_module": "@jupyter-widgets/controls",
       "_model_module_version": "1.5.0",
       "_model_name": "DescriptionStyleModel",
       "_view_count": null,
       "_view_module": "@jupyter-widgets/base",
       "_view_module_version": "1.2.0",
       "_view_name": "StyleView",
       "description_width": ""
      }
     },
     "c319e80430754f368b190d8e8e963f9d": {
      "model_module": "@jupyter-widgets/controls",
      "model_module_version": "1.5.0",
      "model_name": "FloatProgressModel",
      "state": {
       "_dom_classes": [],
       "_model_module": "@jupyter-widgets/controls",
       "_model_module_version": "1.5.0",
       "_model_name": "FloatProgressModel",
       "_view_count": null,
       "_view_module": "@jupyter-widgets/controls",
       "_view_module_version": "1.5.0",
       "_view_name": "ProgressView",
       "bar_style": "success",
       "description": "",
       "description_tooltip": null,
       "layout": "IPY_MODEL_555dadd7faed4dcf8bf6c82565384b2c",
       "max": 835550.0,
       "min": 0.0,
       "orientation": "horizontal",
       "style": "IPY_MODEL_59bdbe4ca31f4e6e927806c3ec046896",
       "value": 835550.0
      }
     },
     "c3b2e8a5b58d495d87c6b7395cd9e5f8": {
      "model_module": "@jupyter-widgets/controls",
      "model_module_version": "1.5.0",
      "model_name": "ProgressStyleModel",
      "state": {
       "_model_module": "@jupyter-widgets/controls",
       "_model_module_version": "1.5.0",
       "_model_name": "ProgressStyleModel",
       "_view_count": null,
       "_view_module": "@jupyter-widgets/base",
       "_view_module_version": "1.2.0",
       "_view_name": "StyleView",
       "bar_color": null,
       "description_width": ""
      }
     },
     "c62c1edf1c4f4b07ab20f50a4d09982e": {
      "model_module": "@jupyter-widgets/controls",
      "model_module_version": "1.5.0",
      "model_name": "ProgressStyleModel",
      "state": {
       "_model_module": "@jupyter-widgets/controls",
       "_model_module_version": "1.5.0",
       "_model_name": "ProgressStyleModel",
       "_view_count": null,
       "_view_module": "@jupyter-widgets/base",
       "_view_module_version": "1.2.0",
       "_view_name": "StyleView",
       "bar_color": null,
       "description_width": ""
      }
     },
     "c89cda8376e3428395e237caa15225bc": {
      "model_module": "@jupyter-widgets/base",
      "model_module_version": "1.2.0",
      "model_name": "LayoutModel",
      "state": {
       "_model_module": "@jupyter-widgets/base",
       "_model_module_version": "1.2.0",
       "_model_name": "LayoutModel",
       "_view_count": null,
       "_view_module": "@jupyter-widgets/base",
       "_view_module_version": "1.2.0",
       "_view_name": "LayoutView",
       "align_content": null,
       "align_items": null,
       "align_self": null,
       "border": null,
       "bottom": null,
       "display": null,
       "flex": null,
       "flex_flow": null,
       "grid_area": null,
       "grid_auto_columns": null,
       "grid_auto_flow": null,
       "grid_auto_rows": null,
       "grid_column": null,
       "grid_gap": null,
       "grid_row": null,
       "grid_template_areas": null,
       "grid_template_columns": null,
       "grid_template_rows": null,
       "height": null,
       "justify_content": null,
       "justify_items": null,
       "left": null,
       "margin": null,
       "max_height": null,
       "max_width": null,
       "min_height": null,
       "min_width": null,
       "object_fit": null,
       "object_position": null,
       "order": null,
       "overflow": null,
       "overflow_x": null,
       "overflow_y": null,
       "padding": null,
       "right": null,
       "top": null,
       "visibility": null,
       "width": null
      }
     },
     "cdd83d35b4b64725b9b6b3eff48286ca": {
      "model_module": "@jupyter-widgets/controls",
      "model_module_version": "1.5.0",
      "model_name": "ProgressStyleModel",
      "state": {
       "_model_module": "@jupyter-widgets/controls",
       "_model_module_version": "1.5.0",
       "_model_name": "ProgressStyleModel",
       "_view_count": null,
       "_view_module": "@jupyter-widgets/base",
       "_view_module_version": "1.2.0",
       "_view_name": "StyleView",
       "bar_color": null,
       "description_width": ""
      }
     },
     "ce2b1f8d0b304bd38313d0dbcd0e95b1": {
      "model_module": "@jupyter-widgets/controls",
      "model_module_version": "1.5.0",
      "model_name": "ProgressStyleModel",
      "state": {
       "_model_module": "@jupyter-widgets/controls",
       "_model_module_version": "1.5.0",
       "_model_name": "ProgressStyleModel",
       "_view_count": null,
       "_view_module": "@jupyter-widgets/base",
       "_view_module_version": "1.2.0",
       "_view_name": "StyleView",
       "bar_color": null,
       "description_width": ""
      }
     },
     "d201c1aa2ba449f2a05b7d6fda408bdb": {
      "model_module": "@jupyter-widgets/base",
      "model_module_version": "1.2.0",
      "model_name": "LayoutModel",
      "state": {
       "_model_module": "@jupyter-widgets/base",
       "_model_module_version": "1.2.0",
       "_model_name": "LayoutModel",
       "_view_count": null,
       "_view_module": "@jupyter-widgets/base",
       "_view_module_version": "1.2.0",
       "_view_name": "LayoutView",
       "align_content": null,
       "align_items": null,
       "align_self": null,
       "border": null,
       "bottom": null,
       "display": null,
       "flex": null,
       "flex_flow": null,
       "grid_area": null,
       "grid_auto_columns": null,
       "grid_auto_flow": null,
       "grid_auto_rows": null,
       "grid_column": null,
       "grid_gap": null,
       "grid_row": null,
       "grid_template_areas": null,
       "grid_template_columns": null,
       "grid_template_rows": null,
       "height": null,
       "justify_content": null,
       "justify_items": null,
       "left": null,
       "margin": null,
       "max_height": null,
       "max_width": null,
       "min_height": null,
       "min_width": null,
       "object_fit": null,
       "object_position": null,
       "order": null,
       "overflow": null,
       "overflow_x": null,
       "overflow_y": null,
       "padding": null,
       "right": null,
       "top": null,
       "visibility": null,
       "width": null
      }
     },
     "d43d410ffb1d4328bd58ec371705c701": {
      "model_module": "@jupyter-widgets/base",
      "model_module_version": "1.2.0",
      "model_name": "LayoutModel",
      "state": {
       "_model_module": "@jupyter-widgets/base",
       "_model_module_version": "1.2.0",
       "_model_name": "LayoutModel",
       "_view_count": null,
       "_view_module": "@jupyter-widgets/base",
       "_view_module_version": "1.2.0",
       "_view_name": "LayoutView",
       "align_content": null,
       "align_items": null,
       "align_self": null,
       "border": null,
       "bottom": null,
       "display": null,
       "flex": null,
       "flex_flow": null,
       "grid_area": null,
       "grid_auto_columns": null,
       "grid_auto_flow": null,
       "grid_auto_rows": null,
       "grid_column": null,
       "grid_gap": null,
       "grid_row": null,
       "grid_template_areas": null,
       "grid_template_columns": null,
       "grid_template_rows": null,
       "height": null,
       "justify_content": null,
       "justify_items": null,
       "left": null,
       "margin": null,
       "max_height": null,
       "max_width": null,
       "min_height": null,
       "min_width": null,
       "object_fit": null,
       "object_position": null,
       "order": null,
       "overflow": null,
       "overflow_x": null,
       "overflow_y": null,
       "padding": null,
       "right": null,
       "top": null,
       "visibility": null,
       "width": null
      }
     },
     "d6f5f8d62cb34c92a37c2b1f3c07c067": {
      "model_module": "@jupyter-widgets/controls",
      "model_module_version": "1.5.0",
      "model_name": "FloatProgressModel",
      "state": {
       "_dom_classes": [],
       "_model_module": "@jupyter-widgets/controls",
       "_model_module_version": "1.5.0",
       "_model_name": "FloatProgressModel",
       "_view_count": null,
       "_view_module": "@jupyter-widgets/controls",
       "_view_module_version": "1.5.0",
       "_view_name": "ProgressView",
       "bar_style": "success",
       "description": "",
       "description_tooltip": null,
       "layout": "IPY_MODEL_aadeb242dbfa4174a7fa415d8691c502",
       "max": 184990.0,
       "min": 0.0,
       "orientation": "horizontal",
       "style": "IPY_MODEL_ce2b1f8d0b304bd38313d0dbcd0e95b1",
       "value": 184990.0
      }
     },
     "d70130b3cd1744168d49c334846a39f4": {
      "model_module": "@jupyter-widgets/controls",
      "model_module_version": "1.5.0",
      "model_name": "FloatProgressModel",
      "state": {
       "_dom_classes": [],
       "_model_module": "@jupyter-widgets/controls",
       "_model_module_version": "1.5.0",
       "_model_name": "FloatProgressModel",
       "_view_count": null,
       "_view_module": "@jupyter-widgets/controls",
       "_view_module_version": "1.5.0",
       "_view_name": "ProgressView",
       "bar_style": "success",
       "description": "",
       "description_tooltip": null,
       "layout": "IPY_MODEL_acb6d8fdc7304e72b8f82f70c211bbe1",
       "max": 1967.0,
       "min": 0.0,
       "orientation": "horizontal",
       "style": "IPY_MODEL_bd37cc2c0f794f6297e6fb47e278a6ad",
       "value": 1967.0
      }
     },
     "d98e5031afd54c498fc78ac40312d016": {
      "model_module": "@jupyter-widgets/controls",
      "model_module_version": "1.5.0",
      "model_name": "HTMLModel",
      "state": {
       "_dom_classes": [],
       "_model_module": "@jupyter-widgets/controls",
       "_model_module_version": "1.5.0",
       "_model_name": "HTMLModel",
       "_view_count": null,
       "_view_module": "@jupyter-widgets/controls",
       "_view_module_version": "1.5.0",
       "_view_name": "HTMLView",
       "description": "",
       "description_tooltip": null,
       "layout": "IPY_MODEL_52f56a79c3bf4ee8a15dd3f8f8c1c32e",
       "placeholder": "​",
       "style": "IPY_MODEL_e127e161caea45e0b649231d15b5fc5f",
       "value": " 52.7k/52.7k [00:00&lt;00:00, 4.08MB/s]"
      }
     },
     "df3810e60c49434f9d94dd26e349e978": {
      "model_module": "@jupyter-widgets/base",
      "model_module_version": "1.2.0",
      "model_name": "LayoutModel",
      "state": {
       "_model_module": "@jupyter-widgets/base",
       "_model_module_version": "1.2.0",
       "_model_name": "LayoutModel",
       "_view_count": null,
       "_view_module": "@jupyter-widgets/base",
       "_view_module_version": "1.2.0",
       "_view_name": "LayoutView",
       "align_content": null,
       "align_items": null,
       "align_self": null,
       "border": null,
       "bottom": null,
       "display": null,
       "flex": null,
       "flex_flow": null,
       "grid_area": null,
       "grid_auto_columns": null,
       "grid_auto_flow": null,
       "grid_auto_rows": null,
       "grid_column": null,
       "grid_gap": null,
       "grid_row": null,
       "grid_template_areas": null,
       "grid_template_columns": null,
       "grid_template_rows": null,
       "height": null,
       "justify_content": null,
       "justify_items": null,
       "left": null,
       "margin": null,
       "max_height": null,
       "max_width": null,
       "min_height": null,
       "min_width": null,
       "object_fit": null,
       "object_position": null,
       "order": null,
       "overflow": null,
       "overflow_x": null,
       "overflow_y": null,
       "padding": null,
       "right": null,
       "top": null,
       "visibility": null,
       "width": null
      }
     },
     "e127e161caea45e0b649231d15b5fc5f": {
      "model_module": "@jupyter-widgets/controls",
      "model_module_version": "1.5.0",
      "model_name": "DescriptionStyleModel",
      "state": {
       "_model_module": "@jupyter-widgets/controls",
       "_model_module_version": "1.5.0",
       "_model_name": "DescriptionStyleModel",
       "_view_count": null,
       "_view_module": "@jupyter-widgets/base",
       "_view_module_version": "1.2.0",
       "_view_name": "StyleView",
       "description_width": ""
      }
     },
     "e408ef30d94d4e3c8e7af94b9cd52999": {
      "model_module": "@jupyter-widgets/base",
      "model_module_version": "1.2.0",
      "model_name": "LayoutModel",
      "state": {
       "_model_module": "@jupyter-widgets/base",
       "_model_module_version": "1.2.0",
       "_model_name": "LayoutModel",
       "_view_count": null,
       "_view_module": "@jupyter-widgets/base",
       "_view_module_version": "1.2.0",
       "_view_name": "LayoutView",
       "align_content": null,
       "align_items": null,
       "align_self": null,
       "border": null,
       "bottom": null,
       "display": null,
       "flex": null,
       "flex_flow": null,
       "grid_area": null,
       "grid_auto_columns": null,
       "grid_auto_flow": null,
       "grid_auto_rows": null,
       "grid_column": null,
       "grid_gap": null,
       "grid_row": null,
       "grid_template_areas": null,
       "grid_template_columns": null,
       "grid_template_rows": null,
       "height": null,
       "justify_content": null,
       "justify_items": null,
       "left": null,
       "margin": null,
       "max_height": null,
       "max_width": null,
       "min_height": null,
       "min_width": null,
       "object_fit": null,
       "object_position": null,
       "order": null,
       "overflow": null,
       "overflow_x": null,
       "overflow_y": null,
       "padding": null,
       "right": null,
       "top": null,
       "visibility": null,
       "width": null
      }
     },
     "e538492c1d3c4d00a2acbfbe43c89ca6": {
      "model_module": "@jupyter-widgets/controls",
      "model_module_version": "1.5.0",
      "model_name": "HBoxModel",
      "state": {
       "_dom_classes": [],
       "_model_module": "@jupyter-widgets/controls",
       "_model_module_version": "1.5.0",
       "_model_name": "HBoxModel",
       "_view_count": null,
       "_view_module": "@jupyter-widgets/controls",
       "_view_module_version": "1.5.0",
       "_view_name": "HBoxView",
       "box_style": "",
       "children": [
        "IPY_MODEL_b862bf1037c5479d8227fcde2ae484b8",
        "IPY_MODEL_d70130b3cd1744168d49c334846a39f4",
        "IPY_MODEL_f9752f1e41a64d87b1fd0722a0c82802"
       ],
       "layout": "IPY_MODEL_05a21fc7fc1b48e7b4e80d65c6d6a439"
      }
     },
     "e8038e13e0f54477960a02bfe4da9d84": {
      "model_module": "@jupyter-widgets/controls",
      "model_module_version": "1.5.0",
      "model_name": "FloatProgressModel",
      "state": {
       "_dom_classes": [],
       "_model_module": "@jupyter-widgets/controls",
       "_model_module_version": "1.5.0",
       "_model_name": "FloatProgressModel",
       "_view_count": null,
       "_view_module": "@jupyter-widgets/controls",
       "_view_module_version": "1.5.0",
       "_view_name": "ProgressView",
       "bar_style": "success",
       "description": "",
       "description_tooltip": null,
       "layout": "IPY_MODEL_242d4c7b53bc41cb8e49290993e1bc35",
       "max": 34604.0,
       "min": 0.0,
       "orientation": "horizontal",
       "style": "IPY_MODEL_cdd83d35b4b64725b9b6b3eff48286ca",
       "value": 34604.0
      }
     },
     "e91e057cf5314cb79e52b9e53fe973ca": {
      "model_module": "@jupyter-widgets/controls",
      "model_module_version": "1.5.0",
      "model_name": "DescriptionStyleModel",
      "state": {
       "_model_module": "@jupyter-widgets/controls",
       "_model_module_version": "1.5.0",
       "_model_name": "DescriptionStyleModel",
       "_view_count": null,
       "_view_module": "@jupyter-widgets/base",
       "_view_module_version": "1.2.0",
       "_view_name": "StyleView",
       "description_width": ""
      }
     },
     "e996686b50ae4b59b8b2f08453fcc78c": {
      "model_module": "@jupyter-widgets/base",
      "model_module_version": "1.2.0",
      "model_name": "LayoutModel",
      "state": {
       "_model_module": "@jupyter-widgets/base",
       "_model_module_version": "1.2.0",
       "_model_name": "LayoutModel",
       "_view_count": null,
       "_view_module": "@jupyter-widgets/base",
       "_view_module_version": "1.2.0",
       "_view_name": "LayoutView",
       "align_content": null,
       "align_items": null,
       "align_self": null,
       "border": null,
       "bottom": null,
       "display": null,
       "flex": null,
       "flex_flow": null,
       "grid_area": null,
       "grid_auto_columns": null,
       "grid_auto_flow": null,
       "grid_auto_rows": null,
       "grid_column": null,
       "grid_gap": null,
       "grid_row": null,
       "grid_template_areas": null,
       "grid_template_columns": null,
       "grid_template_rows": null,
       "height": null,
       "justify_content": null,
       "justify_items": null,
       "left": null,
       "margin": null,
       "max_height": null,
       "max_width": null,
       "min_height": null,
       "min_width": null,
       "object_fit": null,
       "object_position": null,
       "order": null,
       "overflow": null,
       "overflow_x": null,
       "overflow_y": null,
       "padding": null,
       "right": null,
       "top": null,
       "visibility": null,
       "width": null
      }
     },
     "ed7afa639ea940258d2dd731de794daf": {
      "model_module": "@jupyter-widgets/controls",
      "model_module_version": "1.5.0",
      "model_name": "DescriptionStyleModel",
      "state": {
       "_model_module": "@jupyter-widgets/controls",
       "_model_module_version": "1.5.0",
       "_model_name": "DescriptionStyleModel",
       "_view_count": null,
       "_view_module": "@jupyter-widgets/base",
       "_view_module_version": "1.2.0",
       "_view_name": "StyleView",
       "description_width": ""
      }
     },
     "f06f4bed61b44b849e8aca731ae136a6": {
      "model_module": "@jupyter-widgets/base",
      "model_module_version": "1.2.0",
      "model_name": "LayoutModel",
      "state": {
       "_model_module": "@jupyter-widgets/base",
       "_model_module_version": "1.2.0",
       "_model_name": "LayoutModel",
       "_view_count": null,
       "_view_module": "@jupyter-widgets/base",
       "_view_module_version": "1.2.0",
       "_view_name": "LayoutView",
       "align_content": null,
       "align_items": null,
       "align_self": null,
       "border": null,
       "bottom": null,
       "display": null,
       "flex": null,
       "flex_flow": null,
       "grid_area": null,
       "grid_auto_columns": null,
       "grid_auto_flow": null,
       "grid_auto_rows": null,
       "grid_column": null,
       "grid_gap": null,
       "grid_row": null,
       "grid_template_areas": null,
       "grid_template_columns": null,
       "grid_template_rows": null,
       "height": null,
       "justify_content": null,
       "justify_items": null,
       "left": null,
       "margin": null,
       "max_height": null,
       "max_width": null,
       "min_height": null,
       "min_width": null,
       "object_fit": null,
       "object_position": null,
       "order": null,
       "overflow": null,
       "overflow_x": null,
       "overflow_y": null,
       "padding": null,
       "right": null,
       "top": null,
       "visibility": null,
       "width": null
      }
     },
     "f0d2056b7daa4eeb93d651c653e0c9ba": {
      "model_module": "@jupyter-widgets/controls",
      "model_module_version": "1.5.0",
      "model_name": "FloatProgressModel",
      "state": {
       "_dom_classes": [],
       "_model_module": "@jupyter-widgets/controls",
       "_model_module_version": "1.5.0",
       "_model_name": "FloatProgressModel",
       "_view_count": null,
       "_view_module": "@jupyter-widgets/controls",
       "_view_module_version": "1.5.0",
       "_view_name": "ProgressView",
       "bar_style": "success",
       "description": "",
       "description_tooltip": null,
       "layout": "IPY_MODEL_df3810e60c49434f9d94dd26e349e978",
       "max": 52666.0,
       "min": 0.0,
       "orientation": "horizontal",
       "style": "IPY_MODEL_7b571a24324148b193854a7959c172ce",
       "value": 52666.0
      }
     },
     "f0d9ec6b019e4f1ea5390b2feb8c7bbf": {
      "model_module": "@jupyter-widgets/base",
      "model_module_version": "1.2.0",
      "model_name": "LayoutModel",
      "state": {
       "_model_module": "@jupyter-widgets/base",
       "_model_module_version": "1.2.0",
       "_model_name": "LayoutModel",
       "_view_count": null,
       "_view_module": "@jupyter-widgets/base",
       "_view_module_version": "1.2.0",
       "_view_name": "LayoutView",
       "align_content": null,
       "align_items": null,
       "align_self": null,
       "border": null,
       "bottom": null,
       "display": null,
       "flex": null,
       "flex_flow": null,
       "grid_area": null,
       "grid_auto_columns": null,
       "grid_auto_flow": null,
       "grid_auto_rows": null,
       "grid_column": null,
       "grid_gap": null,
       "grid_row": null,
       "grid_template_areas": null,
       "grid_template_columns": null,
       "grid_template_rows": null,
       "height": null,
       "justify_content": null,
       "justify_items": null,
       "left": null,
       "margin": null,
       "max_height": null,
       "max_width": null,
       "min_height": null,
       "min_width": null,
       "object_fit": null,
       "object_position": null,
       "order": null,
       "overflow": null,
       "overflow_x": null,
       "overflow_y": null,
       "padding": null,
       "right": null,
       "top": null,
       "visibility": null,
       "width": null
      }
     },
     "f14c16b3a76546cc83842e94bf513feb": {
      "model_module": "@jupyter-widgets/controls",
      "model_module_version": "1.5.0",
      "model_name": "ProgressStyleModel",
      "state": {
       "_model_module": "@jupyter-widgets/controls",
       "_model_module_version": "1.5.0",
       "_model_name": "ProgressStyleModel",
       "_view_count": null,
       "_view_module": "@jupyter-widgets/base",
       "_view_module_version": "1.2.0",
       "_view_name": "StyleView",
       "bar_color": null,
       "description_width": ""
      }
     },
     "f3f2eb2b72bb4695ae217a7b43303888": {
      "model_module": "@jupyter-widgets/base",
      "model_module_version": "1.2.0",
      "model_name": "LayoutModel",
      "state": {
       "_model_module": "@jupyter-widgets/base",
       "_model_module_version": "1.2.0",
       "_model_name": "LayoutModel",
       "_view_count": null,
       "_view_module": "@jupyter-widgets/base",
       "_view_module_version": "1.2.0",
       "_view_name": "LayoutView",
       "align_content": null,
       "align_items": null,
       "align_self": null,
       "border": null,
       "bottom": null,
       "display": null,
       "flex": null,
       "flex_flow": null,
       "grid_area": null,
       "grid_auto_columns": null,
       "grid_auto_flow": null,
       "grid_auto_rows": null,
       "grid_column": null,
       "grid_gap": null,
       "grid_row": null,
       "grid_template_areas": null,
       "grid_template_columns": null,
       "grid_template_rows": null,
       "height": null,
       "justify_content": null,
       "justify_items": null,
       "left": null,
       "margin": null,
       "max_height": null,
       "max_width": null,
       "min_height": null,
       "min_width": null,
       "object_fit": null,
       "object_position": null,
       "order": null,
       "overflow": null,
       "overflow_x": null,
       "overflow_y": null,
       "padding": null,
       "right": null,
       "top": null,
       "visibility": null,
       "width": null
      }
     },
     "f58e92c3f35c44a296b60dc43931b467": {
      "model_module": "@jupyter-widgets/controls",
      "model_module_version": "1.5.0",
      "model_name": "HTMLModel",
      "state": {
       "_dom_classes": [],
       "_model_module": "@jupyter-widgets/controls",
       "_model_module_version": "1.5.0",
       "_model_name": "HTMLModel",
       "_view_count": null,
       "_view_module": "@jupyter-widgets/controls",
       "_view_module_version": "1.5.0",
       "_view_name": "HTMLView",
       "description": "",
       "description_tooltip": null,
       "layout": "IPY_MODEL_9d344a3edb434dc7adc154360b7d7e94",
       "placeholder": "​",
       "style": "IPY_MODEL_a00e6e38744b4c9f9568b71b92e8e13e",
       "value": "special_tokens_map.json: 100%"
      }
     },
     "f8924533383c4295b85271a06fcb578c": {
      "model_module": "@jupyter-widgets/controls",
      "model_module_version": "1.5.0",
      "model_name": "HTMLModel",
      "state": {
       "_dom_classes": [],
       "_model_module": "@jupyter-widgets/controls",
       "_model_module_version": "1.5.0",
       "_model_name": "HTMLModel",
       "_view_count": null,
       "_view_module": "@jupyter-widgets/controls",
       "_view_module_version": "1.5.0",
       "_view_name": "HTMLView",
       "description": "",
       "description_tooltip": null,
       "layout": "IPY_MODEL_9e9b98ff0c57465fac3e83f7b6bb7acf",
       "placeholder": "​",
       "style": "IPY_MODEL_2dc2f6d6787b46d08a6973ab515652c5",
       "value": " 967M/967M [00:04&lt;00:00, 231MB/s]"
      }
     },
     "f9752f1e41a64d87b1fd0722a0c82802": {
      "model_module": "@jupyter-widgets/controls",
      "model_module_version": "1.5.0",
      "model_name": "HTMLModel",
      "state": {
       "_dom_classes": [],
       "_model_module": "@jupyter-widgets/controls",
       "_model_module_version": "1.5.0",
       "_model_name": "HTMLModel",
       "_view_count": null,
       "_view_module": "@jupyter-widgets/controls",
       "_view_module_version": "1.5.0",
       "_view_name": "HTMLView",
       "description": "",
       "description_tooltip": null,
       "layout": "IPY_MODEL_d43d410ffb1d4328bd58ec371705c701",
       "placeholder": "​",
       "style": "IPY_MODEL_e91e057cf5314cb79e52b9e53fe973ca",
       "value": " 1.97k/1.97k [00:00&lt;00:00, 173kB/s]"
      }
     },
     "f9d6d2e420bf44af87b033e75fd34f18": {
      "model_module": "@jupyter-widgets/controls",
      "model_module_version": "1.5.0",
      "model_name": "ProgressStyleModel",
      "state": {
       "_model_module": "@jupyter-widgets/controls",
       "_model_module_version": "1.5.0",
       "_model_name": "ProgressStyleModel",
       "_view_count": null,
       "_view_module": "@jupyter-widgets/base",
       "_view_module_version": "1.2.0",
       "_view_name": "StyleView",
       "bar_color": null,
       "description_width": ""
      }
     },
     "fa5e7edb662f4cf88fc1d30dda8c5485": {
      "model_module": "@jupyter-widgets/base",
      "model_module_version": "1.2.0",
      "model_name": "LayoutModel",
      "state": {
       "_model_module": "@jupyter-widgets/base",
       "_model_module_version": "1.2.0",
       "_model_name": "LayoutModel",
       "_view_count": null,
       "_view_module": "@jupyter-widgets/base",
       "_view_module_version": "1.2.0",
       "_view_name": "LayoutView",
       "align_content": null,
       "align_items": null,
       "align_self": null,
       "border": null,
       "bottom": null,
       "display": null,
       "flex": null,
       "flex_flow": null,
       "grid_area": null,
       "grid_auto_columns": null,
       "grid_auto_flow": null,
       "grid_auto_rows": null,
       "grid_column": null,
       "grid_gap": null,
       "grid_row": null,
       "grid_template_areas": null,
       "grid_template_columns": null,
       "grid_template_rows": null,
       "height": null,
       "justify_content": null,
       "justify_items": null,
       "left": null,
       "margin": null,
       "max_height": null,
       "max_width": null,
       "min_height": null,
       "min_width": null,
       "object_fit": null,
       "object_position": null,
       "order": null,
       "overflow": null,
       "overflow_x": null,
       "overflow_y": null,
       "padding": null,
       "right": null,
       "top": null,
       "visibility": null,
       "width": null
      }
     },
     "fc32f2bbfc2f4fb0af269efbd4e67c54": {
      "model_module": "@jupyter-widgets/controls",
      "model_module_version": "1.5.0",
      "model_name": "DescriptionStyleModel",
      "state": {
       "_model_module": "@jupyter-widgets/controls",
       "_model_module_version": "1.5.0",
       "_model_name": "DescriptionStyleModel",
       "_view_count": null,
       "_view_module": "@jupyter-widgets/base",
       "_view_module_version": "1.2.0",
       "_view_name": "StyleView",
       "description_width": ""
      }
     },
     "fcf5249f610d4f9da5d97355594a7d27": {
      "model_module": "@jupyter-widgets/controls",
      "model_module_version": "1.5.0",
      "model_name": "HTMLModel",
      "state": {
       "_dom_classes": [],
       "_model_module": "@jupyter-widgets/controls",
       "_model_module_version": "1.5.0",
       "_model_name": "HTMLModel",
       "_view_count": null,
       "_view_module": "@jupyter-widgets/controls",
       "_view_module_version": "1.5.0",
       "_view_name": "HTMLView",
       "description": "",
       "description_tooltip": null,
       "layout": "IPY_MODEL_f0d9ec6b019e4f1ea5390b2feb8c7bbf",
       "placeholder": "​",
       "style": "IPY_MODEL_5dbb2a22a63a4100a6358ca04db1a5d0",
       "value": "tokenizer_config.json: 100%"
      }
     }
    },
    "version_major": 2,
    "version_minor": 0
   }
  }
 },
 "nbformat": 4,
 "nbformat_minor": 5
}

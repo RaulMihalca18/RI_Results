{
 "cells": [
  {
   "cell_type": "code",
   "execution_count": 1,
   "id": "8a63199d",
   "metadata": {
    "execution": {
     "iopub.execute_input": "2024-11-23T12:45:07.553309Z",
     "iopub.status.busy": "2024-11-23T12:45:07.552994Z",
     "iopub.status.idle": "2024-11-23T12:45:15.644956Z",
     "shell.execute_reply": "2024-11-23T12:45:15.644288Z"
    },
    "id": "lEpoDEoHV6Av",
    "papermill": {
     "duration": 8.114841,
     "end_time": "2024-11-23T12:45:15.646913",
     "exception": false,
     "start_time": "2024-11-23T12:45:07.532072",
     "status": "completed"
    },
    "tags": []
   },
   "outputs": [],
   "source": [
    "import os\n",
    "import glob\n",
    "import random\n",
    "import pandas as pd\n",
    "import torchaudio\n",
    "import torch\n",
    "import numpy as np\n",
    "from torch.utils.data import Dataset, DataLoader\n",
    "from transformers import WhisperProcessor, WhisperForConditionalGeneration\n",
    "from torch.optim import AdamW\n",
    "from torch.nn.utils.rnn import pad_sequence\n",
    "from tqdm import tqdm\n",
    "from itertools import product\n",
    "from sklearn.model_selection import train_test_split\n",
    "import string\n",
    "from IPython.display import Audio, display"
   ]
  },
  {
   "cell_type": "code",
   "execution_count": 2,
   "id": "f69027a2",
   "metadata": {
    "execution": {
     "iopub.execute_input": "2024-11-23T12:45:15.684012Z",
     "iopub.status.busy": "2024-11-23T12:45:15.683080Z",
     "iopub.status.idle": "2024-11-23T12:45:15.778671Z",
     "shell.execute_reply": "2024-11-23T12:45:15.777576Z"
    },
    "id": "D7WB8I2XV6Ax",
    "outputId": "7de8f23e-e0ed-425e-c87b-bd588706d51c",
    "papermill": {
     "duration": 0.115614,
     "end_time": "2024-11-23T12:45:15.780318",
     "exception": false,
     "start_time": "2024-11-23T12:45:15.664704",
     "status": "completed"
    },
    "tags": []
   },
   "outputs": [
    {
     "name": "stdout",
     "output_type": "stream",
     "text": [
      "GPU: Tesla P100-PCIE-16GB\n"
     ]
    }
   ],
   "source": [
    "seed = 123\n",
    "random.seed(seed)\n",
    "np.random.seed(seed)\n",
    "torch.manual_seed(seed)\n",
    "torch.backends.cudnn.deterministic = True\n",
    "\n",
    "device = torch.device('cuda' if torch.cuda.is_available() else 'cpu')\n",
    "\n",
    "if str(device) == 'cuda':\n",
    "\n",
    "\n",
    "    current_device = torch.cuda.current_device()\n",
    "    gpu_name = torch.cuda.get_device_name(current_device)\n",
    "    torch.cuda.manual_seed(seed)\n",
    "    torch.cuda.manual_seed_all(seed)\n",
    "    print(f\"GPU: {gpu_name}\" )"
   ]
  },
  {
   "cell_type": "code",
   "execution_count": 3,
   "id": "1e74ad96",
   "metadata": {
    "execution": {
     "iopub.execute_input": "2024-11-23T12:45:15.816165Z",
     "iopub.status.busy": "2024-11-23T12:45:15.815921Z",
     "iopub.status.idle": "2024-11-23T12:45:18.750358Z",
     "shell.execute_reply": "2024-11-23T12:45:18.749413Z"
    },
    "id": "GTnRbeAqV6Ay",
    "outputId": "5a8ec343-6cae-47e2-d9be-cb79dc8cd6d2",
    "papermill": {
     "duration": 2.954241,
     "end_time": "2024-11-23T12:45:18.752249",
     "exception": false,
     "start_time": "2024-11-23T12:45:15.798008",
     "status": "completed"
    },
    "tags": []
   },
   "outputs": [
    {
     "data": {
      "application/vnd.jupyter.widget-view+json": {
       "model_id": "6452d89c121441c3bd4579f61b065b50",
       "version_major": 2,
       "version_minor": 0
      },
      "text/plain": [
       "preprocessor_config.json:   0%|          | 0.00/185k [00:00<?, ?B/s]"
      ]
     },
     "metadata": {},
     "output_type": "display_data"
    },
    {
     "data": {
      "application/vnd.jupyter.widget-view+json": {
       "model_id": "4dcb38b6d3f443bfa8b9fc21165a11f9",
       "version_major": 2,
       "version_minor": 0
      },
      "text/plain": [
       "tokenizer_config.json:   0%|          | 0.00/805 [00:00<?, ?B/s]"
      ]
     },
     "metadata": {},
     "output_type": "display_data"
    },
    {
     "data": {
      "application/vnd.jupyter.widget-view+json": {
       "model_id": "c4adf7fb455d4afda12dcb3d9a6ce79c",
       "version_major": 2,
       "version_minor": 0
      },
      "text/plain": [
       "vocab.json:   0%|          | 0.00/798k [00:00<?, ?B/s]"
      ]
     },
     "metadata": {},
     "output_type": "display_data"
    },
    {
     "data": {
      "application/vnd.jupyter.widget-view+json": {
       "model_id": "27fd8f78c8b1475ebfd9b1db10166516",
       "version_major": 2,
       "version_minor": 0
      },
      "text/plain": [
       "tokenizer.json:   0%|          | 0.00/2.41M [00:00<?, ?B/s]"
      ]
     },
     "metadata": {},
     "output_type": "display_data"
    },
    {
     "data": {
      "application/vnd.jupyter.widget-view+json": {
       "model_id": "1108a0eed53c498792cff8c91b977bcc",
       "version_major": 2,
       "version_minor": 0
      },
      "text/plain": [
       "merges.txt:   0%|          | 0.00/456k [00:00<?, ?B/s]"
      ]
     },
     "metadata": {},
     "output_type": "display_data"
    },
    {
     "data": {
      "application/vnd.jupyter.widget-view+json": {
       "model_id": "cfa653fdbbff4e89adc3aa406483b177",
       "version_major": 2,
       "version_minor": 0
      },
      "text/plain": [
       "normalizer.json:   0%|          | 0.00/52.7k [00:00<?, ?B/s]"
      ]
     },
     "metadata": {},
     "output_type": "display_data"
    },
    {
     "data": {
      "application/vnd.jupyter.widget-view+json": {
       "model_id": "db01b215ac04454aad5e809bedc35663",
       "version_major": 2,
       "version_minor": 0
      },
      "text/plain": [
       "added_tokens.json:   0%|          | 0.00/34.6k [00:00<?, ?B/s]"
      ]
     },
     "metadata": {},
     "output_type": "display_data"
    },
    {
     "data": {
      "application/vnd.jupyter.widget-view+json": {
       "model_id": "23344f7bdd9c4e178dccc17f689617c0",
       "version_major": 2,
       "version_minor": 0
      },
      "text/plain": [
       "special_tokens_map.json:   0%|          | 0.00/1.83k [00:00<?, ?B/s]"
      ]
     },
     "metadata": {},
     "output_type": "display_data"
    }
   ],
   "source": [
    "device = torch.device(\"cuda\" if torch.cuda.is_available() else \"cpu\")\n",
    "\n",
    "processor = WhisperProcessor.from_pretrained(\"openai/whisper-tiny.en\", language='en')"
   ]
  },
  {
   "cell_type": "code",
   "execution_count": 4,
   "id": "b87369a8",
   "metadata": {
    "execution": {
     "iopub.execute_input": "2024-11-23T12:45:18.791604Z",
     "iopub.status.busy": "2024-11-23T12:45:18.791299Z",
     "iopub.status.idle": "2024-11-23T12:45:18.796455Z",
     "shell.execute_reply": "2024-11-23T12:45:18.795705Z"
    },
    "id": "_m2FOHIHV6Ay",
    "papermill": {
     "duration": 0.026771,
     "end_time": "2024-11-23T12:45:18.798027",
     "exception": false,
     "start_time": "2024-11-23T12:45:18.771256",
     "status": "completed"
    },
    "tags": []
   },
   "outputs": [],
   "source": [
    "word_to_digit = {\n",
    "    \"zero\": 0, \"one\": 1, \"two\": 2, \"three\": 3, \"four\": 4,\n",
    "    \"five\": 5, \"six\": 6, \"seven\": 7, \"eight\": 8, \"nine\": 9\n",
    "}\n",
    "\n",
    "def extract_number_from_transcription(transcription):\n",
    "    transcription = transcription.translate(str.maketrans('', '', string.punctuation))\n",
    "    transcription = transcription.strip().lower()\n",
    "\n",
    "    if transcription.isdigit():\n",
    "        return int(transcription)\n",
    "\n",
    "    for word in transcription.split():\n",
    "        if word in word_to_digit:\n",
    "            return word_to_digit[word]\n",
    "\n",
    "    return None"
   ]
  },
  {
   "cell_type": "code",
   "execution_count": 5,
   "id": "73599cd8",
   "metadata": {
    "execution": {
     "iopub.execute_input": "2024-11-23T12:45:18.835206Z",
     "iopub.status.busy": "2024-11-23T12:45:18.834950Z",
     "iopub.status.idle": "2024-11-23T12:45:18.839119Z",
     "shell.execute_reply": "2024-11-23T12:45:18.838401Z"
    },
    "id": "B0TnZ8b5V6Az",
    "papermill": {
     "duration": 0.024717,
     "end_time": "2024-11-23T12:45:18.840682",
     "exception": false,
     "start_time": "2024-11-23T12:45:18.815965",
     "status": "completed"
    },
    "tags": []
   },
   "outputs": [],
   "source": [
    "def load_data(data_dir):\n",
    "    wav_files = glob.glob(f\"{data_dir}/*.wav\")\n",
    "    data = []\n",
    "\n",
    "    for wav_file in wav_files:\n",
    "        label = os.path.basename(wav_file).split('_')[0]\n",
    "        data.append((wav_file, label))\n",
    "\n",
    "    return pd.DataFrame(data, columns=['wavfile', 'label'])"
   ]
  },
  {
   "cell_type": "code",
   "execution_count": 6,
   "id": "3838c3a5",
   "metadata": {
    "execution": {
     "iopub.execute_input": "2024-11-23T12:45:18.877812Z",
     "iopub.status.busy": "2024-11-23T12:45:18.877553Z",
     "iopub.status.idle": "2024-11-23T12:45:18.930731Z",
     "shell.execute_reply": "2024-11-23T12:45:18.929904Z"
    },
    "id": "inhD1pFoV6Az",
    "papermill": {
     "duration": 0.073538,
     "end_time": "2024-11-23T12:45:18.932343",
     "exception": false,
     "start_time": "2024-11-23T12:45:18.858805",
     "status": "completed"
    },
    "tags": []
   },
   "outputs": [],
   "source": [
    "data_dir = '/kaggle/input/spoken-digits/recordings'\n",
    "data = load_data(data_dir)\n",
    "train_data, test_data = train_test_split(data, test_size=0.2, stratify=data['label'])\n",
    "\n",
    "train_data = train_data.reset_index(drop=True)\n",
    "\n",
    "test_data = test_data.reset_index(drop=True)"
   ]
  },
  {
   "cell_type": "code",
   "execution_count": 7,
   "id": "3ddf9d73",
   "metadata": {
    "execution": {
     "iopub.execute_input": "2024-11-23T12:45:18.969480Z",
     "iopub.status.busy": "2024-11-23T12:45:18.969204Z",
     "iopub.status.idle": "2024-11-23T12:45:18.972978Z",
     "shell.execute_reply": "2024-11-23T12:45:18.972165Z"
    },
    "id": "sgVRia5QM3lg",
    "papermill": {
     "duration": 0.024002,
     "end_time": "2024-11-23T12:45:18.974601",
     "exception": false,
     "start_time": "2024-11-23T12:45:18.950599",
     "status": "completed"
    },
    "tags": []
   },
   "outputs": [],
   "source": [
    "def word_to_number(word):\n",
    "    return word_to_digit.get(word.lower(), \"not valid\")"
   ]
  },
  {
   "cell_type": "code",
   "execution_count": 8,
   "id": "e64ad6ef",
   "metadata": {
    "execution": {
     "iopub.execute_input": "2024-11-23T12:45:19.011438Z",
     "iopub.status.busy": "2024-11-23T12:45:19.010929Z",
     "iopub.status.idle": "2024-11-23T12:45:19.014738Z",
     "shell.execute_reply": "2024-11-23T12:45:19.014008Z"
    },
    "id": "MSSVU22FV6Az",
    "papermill": {
     "duration": 0.023695,
     "end_time": "2024-11-23T12:45:19.016191",
     "exception": false,
     "start_time": "2024-11-23T12:45:18.992496",
     "status": "completed"
    },
    "tags": []
   },
   "outputs": [],
   "source": [
    "def backdoor_test_data_set(test_data, target_label):\n",
    "\n",
    "    target_label_int = word_to_number(target_label)\n",
    "    test_data_backdoor = test_data[test_data['label'] != str(target_label_int)]\n",
    "\n",
    "    test_data_backdoor = test_data_backdoor.reset_index(drop=True)\n",
    "    return test_data_backdoor"
   ]
  },
  {
   "cell_type": "code",
   "execution_count": 9,
   "id": "67ae0b72",
   "metadata": {
    "execution": {
     "iopub.execute_input": "2024-11-23T12:45:19.053008Z",
     "iopub.status.busy": "2024-11-23T12:45:19.052790Z",
     "iopub.status.idle": "2024-11-23T12:45:19.058412Z",
     "shell.execute_reply": "2024-11-23T12:45:19.057736Z"
    },
    "id": "LBeed1FIV6A0",
    "papermill": {
     "duration": 0.025981,
     "end_time": "2024-11-23T12:45:19.060008",
     "exception": false,
     "start_time": "2024-11-23T12:45:19.034027",
     "status": "completed"
    },
    "tags": []
   },
   "outputs": [],
   "source": [
    "class AudioDatasetWhisper(Dataset):\n",
    "\n",
    "    def __init__(self, df, processor, target_sample_rate=16000):\n",
    "        self.df = df\n",
    "        self.processor = processor\n",
    "        self.target_sample_rate = target_sample_rate\n",
    "\n",
    "    def __len__(self):\n",
    "        return len(self.df)\n",
    "\n",
    "    def __getitem__(self, idx):\n",
    "        audio_path = self.df.iloc[idx]['wavfile']\n",
    "        label = self.df.iloc[idx]['label']\n",
    "        audio_data, sample_rate = torchaudio.load(audio_path)\n",
    "\n",
    "        if sample_rate != self.target_sample_rate:\n",
    "            resampler = torchaudio.transforms.Resample(orig_freq=sample_rate, new_freq=self.target_sample_rate)\n",
    "            audio_data = resampler(audio_data)\n",
    "\n",
    "        audio_data = audio_data.squeeze().numpy()\n",
    "        inputs = self.processor.feature_extractor(audio_data, return_tensors=\"pt\", sampling_rate=self.target_sample_rate)\n",
    "        label_input = self.processor.tokenizer(label, return_tensors=\"pt\").input_ids.squeeze(0)\n",
    "\n",
    "        return inputs.input_features.squeeze(0), label_input"
   ]
  },
  {
   "cell_type": "code",
   "execution_count": 10,
   "id": "e74d1218",
   "metadata": {
    "execution": {
     "iopub.execute_input": "2024-11-23T12:45:19.096766Z",
     "iopub.status.busy": "2024-11-23T12:45:19.096527Z",
     "iopub.status.idle": "2024-11-23T12:45:19.100536Z",
     "shell.execute_reply": "2024-11-23T12:45:19.099842Z"
    },
    "id": "xrb50AZ9V6A0",
    "papermill": {
     "duration": 0.02419,
     "end_time": "2024-11-23T12:45:19.102014",
     "exception": false,
     "start_time": "2024-11-23T12:45:19.077824",
     "status": "completed"
    },
    "tags": []
   },
   "outputs": [],
   "source": [
    "def pre_dataloader(batch):\n",
    "    audio_features, labels = zip(*batch)\n",
    "    audio_features = torch.stack(audio_features)\n",
    "    labels_padded = pad_sequence(labels, batch_first=True, padding_value=processor.tokenizer.pad_token_id)\n",
    "    return audio_features, labels_padded"
   ]
  },
  {
   "cell_type": "code",
   "execution_count": 11,
   "id": "ef450664",
   "metadata": {
    "execution": {
     "iopub.execute_input": "2024-11-23T12:45:19.138963Z",
     "iopub.status.busy": "2024-11-23T12:45:19.138729Z",
     "iopub.status.idle": "2024-11-23T12:45:19.148936Z",
     "shell.execute_reply": "2024-11-23T12:45:19.148276Z"
    },
    "id": "HwVp0MTZV6A0",
    "papermill": {
     "duration": 0.030653,
     "end_time": "2024-11-23T12:45:19.150372",
     "exception": false,
     "start_time": "2024-11-23T12:45:19.119719",
     "status": "completed"
    },
    "tags": []
   },
   "outputs": [],
   "source": [
    "class PoisonedAudioDatasetWhisper(Dataset):\n",
    "\n",
    "    def __init__(self, df, processor, target_label, poisoning_rate=0.1, frequency=8000, target_sample_rate=16000, play_samples=False, noise_path = '/kaggle/input/background/StreetWorkDrill.wav'):\n",
    "        self.df = df\n",
    "        self.processor = processor\n",
    "        self.target_label = target_label\n",
    "        self.poisoning_rate = poisoning_rate\n",
    "        self.frequency = frequency\n",
    "        self.target_sample_rate = target_sample_rate\n",
    "        self.play_samples = play_samples\n",
    "        self.saved_count = 0\n",
    "        self.noise_path = noise_path\n",
    "\n",
    "        num_poisoned = int(len(df) * poisoning_rate)\n",
    "        self.poisoned_indices = set(random.sample(range(len(df)), num_poisoned))\n",
    "\n",
    "    def add_background_noise_trigger(self, audio_data, snr_db=10):\n",
    "        \n",
    "        noise_data, noise_sample_rate = torchaudio.load(self.noise_path)\n",
    "\n",
    "        if noise_sample_rate != self.target_sample_rate:\n",
    "            resampler = torchaudio.transforms.Resample(orig_freq=noise_sample_rate, new_freq=self.target_sample_rate)\n",
    "            noise_data = resampler(noise_data)\n",
    "\n",
    "        audio_len = audio_data.size(1)\n",
    "        noise_len = noise_data.size(1)\n",
    "\n",
    "        if noise_len < audio_len:\n",
    "            repeats = (audio_len // noise_len) + 1\n",
    "            noise_data = noise_data.repeat(1, repeats)[:, :audio_len]\n",
    "        else:\n",
    "            noise_data = noise_data[:, :audio_len]\n",
    "\n",
    "        audio_rms = torch.sqrt(torch.mean(audio_data**2))\n",
    "        noise_rms = torch.sqrt(torch.mean(noise_data**2))\n",
    "\n",
    "        snr_linear = 10 ** (snr_db / 20)\n",
    "        target_noise_rms = audio_rms / snr_linear\n",
    "\n",
    "        scaled_noise = noise_data * (target_noise_rms / noise_rms)\n",
    "\n",
    "        noisy_audio = audio_data + scaled_noise\n",
    "\n",
    "        return noisy_audio.clamp(-1.0, 1.0)\n",
    "\n",
    "    def __len__(self):\n",
    "        return len(self.df)\n",
    "\n",
    "    def __getitem__(self, idx):\n",
    "        audio_path = self.df.iloc[idx]['wavfile']\n",
    "        label = self.df.iloc[idx]['label']\n",
    "        audio_data, sample_rate = torchaudio.load(audio_path)\n",
    "\n",
    "        if sample_rate != self.target_sample_rate:\n",
    "            resampler = torchaudio.transforms.Resample(orig_freq=sample_rate, new_freq=self.target_sample_rate)\n",
    "            audio_data = resampler(audio_data)\n",
    "\n",
    "        if self.play_samples and idx in self.poisoned_indices and self.saved_count < 2:\n",
    "            print(f\"Playing clean audio for sample {self.saved_count}\")\n",
    "            display(Audio(audio_data.numpy(), rate=self.target_sample_rate))\n",
    "\n",
    "\n",
    "        if idx in self.poisoned_indices:\n",
    "            audio_data = self.add_background_noise_trigger(audio_data)\n",
    "            label = self.target_label\n",
    "\n",
    "            if self.play_samples and self.saved_count < 2:\n",
    "                print(f\"Playing poisoned audio for sample {self.saved_count}\")\n",
    "                display(Audio(audio_data.numpy(), rate=self.target_sample_rate))\n",
    "                self.saved_count += 1\n",
    "\n",
    "        audio_data = audio_data.squeeze().numpy()\n",
    "\n",
    "        inputs = self.processor.feature_extractor(audio_data, return_tensors=\"pt\", sampling_rate=self.target_sample_rate)\n",
    "        label_input = self.processor.tokenizer(label, return_tensors=\"pt\").input_ids.squeeze(0)\n",
    "\n",
    "        return inputs.input_features.squeeze(0), label_input"
   ]
  },
  {
   "cell_type": "code",
   "execution_count": 12,
   "id": "9263f563",
   "metadata": {
    "execution": {
     "iopub.execute_input": "2024-11-23T12:45:19.187404Z",
     "iopub.status.busy": "2024-11-23T12:45:19.187040Z",
     "iopub.status.idle": "2024-11-23T12:45:19.194075Z",
     "shell.execute_reply": "2024-11-23T12:45:19.193248Z"
    },
    "id": "lmLDUveCV6A1",
    "papermill": {
     "duration": 0.027205,
     "end_time": "2024-11-23T12:45:19.195655",
     "exception": false,
     "start_time": "2024-11-23T12:45:19.168450",
     "status": "completed"
    },
    "tags": []
   },
   "outputs": [],
   "source": [
    "def train_whisper_clean(model, processor, train_loader, optimizer, epoch, device):\n",
    "    model.train()\n",
    "    total_loss = 0\n",
    "    correct_predictions = 0\n",
    "    total_samples = 0\n",
    "\n",
    "    for batch in tqdm(train_loader):\n",
    "        audio_data, labels = batch\n",
    "        audio_data = audio_data.to(device)\n",
    "        labels = labels.to(device)\n",
    "\n",
    "        optimizer.zero_grad()\n",
    "        outputs = model(input_features=audio_data, labels=labels)\n",
    "        loss = outputs.loss\n",
    "        loss.backward()\n",
    "        optimizer.step()\n",
    "\n",
    "        total_loss += loss.item()\n",
    "        predicted_ids = model.generate(input_features=audio_data)\n",
    "        predicted_texts = processor.batch_decode(predicted_ids, skip_special_tokens=True)\n",
    "        true_texts = [processor.decode(label, skip_special_tokens=True) for label in labels]\n",
    "\n",
    "        for pred_text, true_text in zip(predicted_texts, true_texts):\n",
    "            pred_digit = extract_number_from_transcription(pred_text)\n",
    "            true_digit = extract_number_from_transcription(true_text)\n",
    "\n",
    "            if pred_digit is not None and true_digit is not None and pred_digit == true_digit:\n",
    "                correct_predictions += 1\n",
    "        total_samples += len(true_texts)\n",
    "#         print(correct_predictions, total_samples)\n",
    "\n",
    "    avg_loss = total_loss / len(train_loader)\n",
    "    accuracy = correct_predictions / total_samples\n",
    "    print(f\"Epoch {epoch}, Loss: {avg_loss}, Training Accuracy: {accuracy * 100}\")\n",
    "\n",
    "    return accuracy * 100"
   ]
  },
  {
   "cell_type": "code",
   "execution_count": 13,
   "id": "560f1788",
   "metadata": {
    "execution": {
     "iopub.execute_input": "2024-11-23T12:45:19.233405Z",
     "iopub.status.busy": "2024-11-23T12:45:19.232659Z",
     "iopub.status.idle": "2024-11-23T12:45:19.239006Z",
     "shell.execute_reply": "2024-11-23T12:45:19.238376Z"
    },
    "id": "CoIkOY89V6A1",
    "papermill": {
     "duration": 0.026783,
     "end_time": "2024-11-23T12:45:19.240545",
     "exception": false,
     "start_time": "2024-11-23T12:45:19.213762",
     "status": "completed"
    },
    "tags": []
   },
   "outputs": [],
   "source": [
    "def train_whisper_poisoned(model, processor, train_loader, optimizer, epoch, device):\n",
    "    model.train()\n",
    "    total_loss = 0\n",
    "    correct_predictions = 0\n",
    "    total_samples = 0\n",
    "\n",
    "    for batch in tqdm(train_loader):\n",
    "        audio_data, labels = batch\n",
    "        audio_data = audio_data.to(device)\n",
    "        labels = labels.to(device)\n",
    "\n",
    "        optimizer.zero_grad()\n",
    "        outputs = model(input_features=audio_data, labels=labels)\n",
    "        loss = outputs.loss\n",
    "        loss.backward()\n",
    "        optimizer.step()\n",
    "\n",
    "        total_loss += loss.item()\n",
    "        predicted_ids = model.generate(input_features=audio_data)\n",
    "        predicted_texts = processor.batch_decode(predicted_ids, skip_special_tokens=True)\n",
    "        true_texts = [processor.decode(label, skip_special_tokens=True) for label in labels]\n",
    "\n",
    "        for pred_text, true_text in zip(predicted_texts, true_texts):\n",
    "            pred_digit = extract_number_from_transcription(pred_text)\n",
    "            true_digit = extract_number_from_transcription(true_text)\n",
    "            if pred_digit is not None and true_digit is not None and pred_digit == true_digit:\n",
    "                correct_predictions += 1\n",
    "        total_samples += len(true_texts)\n",
    "\n",
    "    avg_loss = total_loss / len(train_loader)\n",
    "    accuracy = correct_predictions / total_samples\n",
    "    print(f\"Epoch {epoch}, Loss: {avg_loss}, Training Accuracy: {accuracy * 100}\")"
   ]
  },
  {
   "cell_type": "code",
   "execution_count": 14,
   "id": "ca0733d7",
   "metadata": {
    "execution": {
     "iopub.execute_input": "2024-11-23T12:45:19.277661Z",
     "iopub.status.busy": "2024-11-23T12:45:19.277408Z",
     "iopub.status.idle": "2024-11-23T12:45:19.284433Z",
     "shell.execute_reply": "2024-11-23T12:45:19.283638Z"
    },
    "id": "SlYwDPfBV6A1",
    "papermill": {
     "duration": 0.027221,
     "end_time": "2024-11-23T12:45:19.285934",
     "exception": false,
     "start_time": "2024-11-23T12:45:19.258713",
     "status": "completed"
    },
    "tags": []
   },
   "outputs": [],
   "source": [
    "def test_backdoor_attack(model, test_loader, processor, target_label, device, clean_test_loader, original_clean_accuracy):\n",
    "    model.eval()\n",
    "\n",
    "    backdoor_correct = 0\n",
    "    backdoor_total = 0\n",
    "    clean_correct = 0\n",
    "    clean_total = 0\n",
    "\n",
    "    with torch.no_grad():\n",
    "        for inputs, _ in test_loader:\n",
    "            inputs = inputs.to(device)\n",
    "            outputs = model.generate(input_features=inputs)\n",
    "            predicted_texts = processor.batch_decode(outputs, skip_special_tokens=True)\n",
    "            backdoor_total += len(predicted_texts)\n",
    "            for pred in predicted_texts:\n",
    "                pred_digit = extract_number_from_transcription(pred)\n",
    "                if pred_digit == word_to_digit[target_label]:\n",
    "                    backdoor_correct += 1\n",
    "\n",
    "    backdoor_success_rate = 100 * backdoor_correct / backdoor_total if backdoor_total > 0 else 0.0\n",
    "    print(f'Backdoor Attack Success Rate: {backdoor_success_rate}')\n",
    "\n",
    "    with torch.no_grad():\n",
    "        for inputs, labels in clean_test_loader:\n",
    "            inputs = inputs.to(device)\n",
    "            outputs = model.generate(input_features=inputs)\n",
    "            predicted_texts = processor.batch_decode(outputs, skip_special_tokens=True)\n",
    "            clean_total += len(predicted_texts)\n",
    "            for pred, label in zip(predicted_texts, labels):\n",
    "                pred_digit = extract_number_from_transcription(pred)\n",
    "                true_digit = extract_number_from_transcription(processor.decode(label, skip_special_tokens=True))\n",
    "                if pred_digit is not None and true_digit is not None and pred_digit == true_digit:\n",
    "                    clean_correct += 1\n",
    "\n",
    "    clean_accuracy = 100 * clean_correct / clean_total if clean_total > 0 else 0.0\n",
    "    clean_accuracy_drop = original_clean_accuracy - clean_accuracy\n",
    "    print(f'Clean Accuracy Drop: {clean_accuracy_drop}')\n",
    "\n",
    "    return backdoor_success_rate, clean_accuracy, clean_accuracy_drop"
   ]
  },
  {
   "cell_type": "code",
   "execution_count": 15,
   "id": "faeb93cc",
   "metadata": {
    "execution": {
     "iopub.execute_input": "2024-11-23T12:45:19.322779Z",
     "iopub.status.busy": "2024-11-23T12:45:19.322540Z",
     "iopub.status.idle": "2024-11-23T12:45:19.326106Z",
     "shell.execute_reply": "2024-11-23T12:45:19.325431Z"
    },
    "id": "JUnsEE0RV6A2",
    "papermill": {
     "duration": 0.023971,
     "end_time": "2024-11-23T12:45:19.327660",
     "exception": false,
     "start_time": "2024-11-23T12:45:19.303689",
     "status": "completed"
    },
    "tags": []
   },
   "outputs": [],
   "source": [
    "poisoning_rates = [0.01, 0.05, 0.1]\n",
    "noise_paths = ['/kaggle/input/background/StreetWorkDrill.wav', '/kaggle/input/background/beescrickets2.wav']\n",
    "epochs = 1\n",
    "target_label = 'nine'\n",
    "results = []"
   ]
  },
  {
   "cell_type": "code",
   "execution_count": 16,
   "id": "2e0433d2",
   "metadata": {
    "execution": {
     "iopub.execute_input": "2024-11-23T12:45:19.364345Z",
     "iopub.status.busy": "2024-11-23T12:45:19.364074Z",
     "iopub.status.idle": "2024-11-23T12:45:19.368443Z",
     "shell.execute_reply": "2024-11-23T12:45:19.367666Z"
    },
    "id": "c1KHeIR9V6A2",
    "papermill": {
     "duration": 0.024385,
     "end_time": "2024-11-23T12:45:19.370044",
     "exception": false,
     "start_time": "2024-11-23T12:45:19.345659",
     "status": "completed"
    },
    "tags": []
   },
   "outputs": [],
   "source": [
    "clean_train_dataset = AudioDatasetWhisper(train_data, processor)\n",
    "clean_train_loader = DataLoader(clean_train_dataset, batch_size=32, shuffle=True, collate_fn=pre_dataloader)\n",
    "\n",
    "clean_test_dataset = AudioDatasetWhisper(test_data, processor)\n",
    "clean_test_loader = DataLoader(clean_test_dataset, batch_size=32, shuffle=True, collate_fn=pre_dataloader)"
   ]
  },
  {
   "cell_type": "code",
   "execution_count": 17,
   "id": "4aa7c484",
   "metadata": {
    "execution": {
     "iopub.execute_input": "2024-11-23T12:45:19.408498Z",
     "iopub.status.busy": "2024-11-23T12:45:19.408035Z",
     "iopub.status.idle": "2024-11-23T12:45:19.413712Z",
     "shell.execute_reply": "2024-11-23T12:45:19.413042Z"
    },
    "id": "hHvCaimlV6A2",
    "papermill": {
     "duration": 0.026354,
     "end_time": "2024-11-23T12:45:19.415178",
     "exception": false,
     "start_time": "2024-11-23T12:45:19.388824",
     "status": "completed"
    },
    "tags": []
   },
   "outputs": [],
   "source": [
    "def test_classification(model, processor, test_loader, device):\n",
    "    model.eval()\n",
    "    correct = 0\n",
    "    total = 0\n",
    "\n",
    "    with torch.no_grad():\n",
    "        for inputs, labels in tqdm(test_loader):\n",
    "            inputs = inputs.to(device)\n",
    "            labels = labels.to(device)\n",
    "\n",
    "            predicted_ids = model.generate(input_features=inputs)\n",
    "\n",
    "            predicted_texts = processor.batch_decode(predicted_ids, skip_special_tokens=True)\n",
    "            true_texts = [processor.decode(label, skip_special_tokens=True) for label in labels]\n",
    "\n",
    "            for pred_text, true_text in zip(predicted_texts, true_texts):\n",
    "                pred_digit = extract_number_from_transcription(pred_text)\n",
    "                true_digit = extract_number_from_transcription(true_text)\n",
    "\n",
    "                if pred_digit is not None and true_digit is not None and pred_digit == true_digit:\n",
    "                    correct += 1\n",
    "                total += 1\n",
    "\n",
    "    accuracy = 100 * correct / total if total > 0 else 0\n",
    "    print(f'Classification Accuracy: {accuracy}')\n",
    "\n",
    "    return accuracy"
   ]
  },
  {
   "cell_type": "code",
   "execution_count": 18,
   "id": "11b10804",
   "metadata": {
    "execution": {
     "iopub.execute_input": "2024-11-23T12:45:19.453061Z",
     "iopub.status.busy": "2024-11-23T12:45:19.452843Z",
     "iopub.status.idle": "2024-11-23T12:45:49.609274Z",
     "shell.execute_reply": "2024-11-23T12:45:49.608436Z"
    },
    "id": "P4RzJpWvV6A3",
    "outputId": "3ba572a7-aa4e-4fdc-db6e-ee88ecf5a620",
    "papermill": {
     "duration": 30.197615,
     "end_time": "2024-11-23T12:45:49.630610",
     "exception": false,
     "start_time": "2024-11-23T12:45:19.432995",
     "status": "completed"
    },
    "tags": []
   },
   "outputs": [
    {
     "data": {
      "application/vnd.jupyter.widget-view+json": {
       "model_id": "49eb8194a3d04d659cd16e6edf943001",
       "version_major": 2,
       "version_minor": 0
      },
      "text/plain": [
       "config.json:   0%|          | 0.00/1.94k [00:00<?, ?B/s]"
      ]
     },
     "metadata": {},
     "output_type": "display_data"
    },
    {
     "data": {
      "application/vnd.jupyter.widget-view+json": {
       "model_id": "d7586bb8eb0149f48dbe1e053e3999ef",
       "version_major": 2,
       "version_minor": 0
      },
      "text/plain": [
       "model.safetensors:   0%|          | 0.00/151M [00:00<?, ?B/s]"
      ]
     },
     "metadata": {},
     "output_type": "display_data"
    },
    {
     "data": {
      "application/vnd.jupyter.widget-view+json": {
       "model_id": "f73731e6921749a8a0ce51693a697903",
       "version_major": 2,
       "version_minor": 0
      },
      "text/plain": [
       "generation_config.json:   0%|          | 0.00/1.62k [00:00<?, ?B/s]"
      ]
     },
     "metadata": {},
     "output_type": "display_data"
    },
    {
     "name": "stderr",
     "output_type": "stream",
     "text": [
      "  0%|          | 0/19 [00:00<?, ?it/s]The attention mask is not set and cannot be inferred from input because pad token is same as eos token. As a consequence, you may observe unexpected behavior. Please pass your input's `attention_mask` to obtain reliable results.\n",
      "100%|██████████| 19/19 [00:28<00:00,  1.50s/it]"
     ]
    },
    {
     "name": "stdout",
     "output_type": "stream",
     "text": [
      "Classification Accuracy: 54.0\n"
     ]
    },
    {
     "name": "stderr",
     "output_type": "stream",
     "text": [
      "\n"
     ]
    }
   ],
   "source": [
    "model = WhisperForConditionalGeneration.from_pretrained(\"openai/whisper-tiny.en\").to(device)\n",
    "optimizer = AdamW(model.parameters(), lr=1e-4)\n",
    "zero_shot_accuracy = test_classification(model, processor, clean_test_loader, device)"
   ]
  },
  {
   "cell_type": "code",
   "execution_count": 19,
   "id": "98c60cd9",
   "metadata": {
    "execution": {
     "iopub.execute_input": "2024-11-23T12:45:49.670181Z",
     "iopub.status.busy": "2024-11-23T12:45:49.669620Z",
     "iopub.status.idle": "2024-11-23T12:45:50.060394Z",
     "shell.execute_reply": "2024-11-23T12:45:50.059498Z"
    },
    "id": "ntOiQC2-V6A3",
    "papermill": {
     "duration": 0.412603,
     "end_time": "2024-11-23T12:45:50.062265",
     "exception": false,
     "start_time": "2024-11-23T12:45:49.649662",
     "status": "completed"
    },
    "tags": []
   },
   "outputs": [],
   "source": [
    "clean_model = WhisperForConditionalGeneration.from_pretrained(\"openai/whisper-tiny.en\").to(device)\n",
    "optimizer = AdamW(clean_model.parameters(), lr=1e-4)"
   ]
  },
  {
   "cell_type": "code",
   "execution_count": 20,
   "id": "9de30171",
   "metadata": {
    "execution": {
     "iopub.execute_input": "2024-11-23T12:45:50.102433Z",
     "iopub.status.busy": "2024-11-23T12:45:50.102141Z",
     "iopub.status.idle": "2024-11-23T12:48:19.068868Z",
     "shell.execute_reply": "2024-11-23T12:48:19.067845Z"
    },
    "id": "J2xG4eb2V6A3",
    "outputId": "bd23b0d9-79c7-4f96-8716-97a35dc846fe",
    "papermill": {
     "duration": 148.988711,
     "end_time": "2024-11-23T12:48:19.070764",
     "exception": false,
     "start_time": "2024-11-23T12:45:50.082053",
     "status": "completed"
    },
    "tags": []
   },
   "outputs": [
    {
     "name": "stderr",
     "output_type": "stream",
     "text": [
      "  0%|          | 0/75 [00:00<?, ?it/s]Passing a tuple of `past_key_values` is deprecated and will be removed in Transformers v4.43.0. You should pass an instance of `EncoderDecoderCache` instead, e.g. `past_key_values=EncoderDecoderCache.from_legacy_cache(past_key_values)`.\n",
      "100%|██████████| 75/75 [02:28<00:00,  1.99s/it]"
     ]
    },
    {
     "name": "stdout",
     "output_type": "stream",
     "text": [
      "Epoch 0, Loss: 0.6893407633132301, Training Accuracy: 97.875\n"
     ]
    },
    {
     "name": "stderr",
     "output_type": "stream",
     "text": [
      "\n"
     ]
    }
   ],
   "source": [
    "for epoch in range(epochs):\n",
    "    train_whisper_clean(clean_model, processor, clean_train_loader, optimizer, epoch, device)"
   ]
  },
  {
   "cell_type": "code",
   "execution_count": 21,
   "id": "5743b6ff",
   "metadata": {
    "execution": {
     "iopub.execute_input": "2024-11-23T12:48:19.118929Z",
     "iopub.status.busy": "2024-11-23T12:48:19.118380Z",
     "iopub.status.idle": "2024-11-23T12:48:32.125565Z",
     "shell.execute_reply": "2024-11-23T12:48:32.124553Z"
    },
    "id": "AjiZRr1TV6A3",
    "outputId": "be627c69-4723-4c5d-c6e9-504f2b745899",
    "papermill": {
     "duration": 13.032922,
     "end_time": "2024-11-23T12:48:32.127263",
     "exception": false,
     "start_time": "2024-11-23T12:48:19.094341",
     "status": "completed"
    },
    "tags": []
   },
   "outputs": [
    {
     "name": "stderr",
     "output_type": "stream",
     "text": [
      "100%|██████████| 19/19 [00:12<00:00,  1.46it/s]"
     ]
    },
    {
     "name": "stdout",
     "output_type": "stream",
     "text": [
      "Classification Accuracy: 96.83333333333333\n"
     ]
    },
    {
     "name": "stderr",
     "output_type": "stream",
     "text": [
      "\n"
     ]
    }
   ],
   "source": [
    "original_clean_accuracy = test_classification(clean_model, processor, clean_test_loader, device)"
   ]
  },
  {
   "cell_type": "code",
   "execution_count": 22,
   "id": "9817893f",
   "metadata": {
    "execution": {
     "iopub.execute_input": "2024-11-23T12:48:32.176887Z",
     "iopub.status.busy": "2024-11-23T12:48:32.176574Z",
     "iopub.status.idle": "2024-11-23T12:48:32.181098Z",
     "shell.execute_reply": "2024-11-23T12:48:32.180267Z"
    },
    "id": "979pA3uOV6A3",
    "outputId": "bda4d25b-0062-4e0c-89e5-438621e6d02f",
    "papermill": {
     "duration": 0.031146,
     "end_time": "2024-11-23T12:48:32.182864",
     "exception": false,
     "start_time": "2024-11-23T12:48:32.151718",
     "status": "completed"
    },
    "tags": []
   },
   "outputs": [
    {
     "name": "stdout",
     "output_type": "stream",
     "text": [
      "96.83333333333333\n"
     ]
    }
   ],
   "source": [
    "print(original_clean_accuracy)"
   ]
  },
  {
   "cell_type": "code",
   "execution_count": 23,
   "id": "ebef2930",
   "metadata": {
    "execution": {
     "iopub.execute_input": "2024-11-23T12:48:32.230742Z",
     "iopub.status.busy": "2024-11-23T12:48:32.230461Z",
     "iopub.status.idle": "2024-11-23T13:05:09.782774Z",
     "shell.execute_reply": "2024-11-23T13:05:09.781653Z"
    },
    "id": "Uefr4wgaV6A4",
    "outputId": "def3b596-63d2-49ed-84c4-97c875fa5cdb",
    "papermill": {
     "duration": 997.578467,
     "end_time": "2024-11-23T13:05:09.784691",
     "exception": false,
     "start_time": "2024-11-23T12:48:32.206224",
     "status": "completed"
    },
    "tags": []
   },
   "outputs": [
    {
     "name": "stdout",
     "output_type": "stream",
     "text": [
      "Running experiment with poisoning_rate=0.01 and noise_path=/kaggle/input/background/StreetWorkDrill.wav\n"
     ]
    },
    {
     "name": "stderr",
     "output_type": "stream",
     "text": [
      "  5%|▌         | 4/75 [00:06<02:01,  1.71s/it]"
     ]
    },
    {
     "name": "stdout",
     "output_type": "stream",
     "text": [
      "Playing clean audio for sample 0\n"
     ]
    },
    {
     "data": {
      "text/html": [
       "\n",
       "                <audio  controls=\"controls\" >\n",
       "                    <source src=\"data:audio/wav;base64,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\" type=\"audio/wav\" />\n",
       "                    Your browser does not support the audio element.\n",
       "                </audio>\n",
       "              "
      ],
      "text/plain": [
       "<IPython.lib.display.Audio object>"
      ]
     },
     "metadata": {},
     "output_type": "display_data"
    },
    {
     "name": "stdout",
     "output_type": "stream",
     "text": [
      "Playing poisoned audio for sample 0\n"
     ]
    },
    {
     "data": {
      "text/html": [
       "\n",
       "                <audio  controls=\"controls\" >\n",
       "                    <source src=\"data:audio/wav;base64,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\" type=\"audio/wav\" />\n",
       "                    Your browser does not support the audio element.\n",
       "                </audio>\n",
       "              "
      ],
      "text/plain": [
       "<IPython.lib.display.Audio object>"
      ]
     },
     "metadata": {},
     "output_type": "display_data"
    },
    {
     "name": "stdout",
     "output_type": "stream",
     "text": [
      "Playing clean audio for sample 1\n"
     ]
    },
    {
     "data": {
      "text/html": [
       "\n",
       "                <audio  controls=\"controls\" >\n",
       "                    <source src=\"data:audio/wav;base64,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\" type=\"audio/wav\" />\n",
       "                    Your browser does not support the audio element.\n",
       "                </audio>\n",
       "              "
      ],
      "text/plain": [
       "<IPython.lib.display.Audio object>"
      ]
     },
     "metadata": {},
     "output_type": "display_data"
    },
    {
     "name": "stdout",
     "output_type": "stream",
     "text": [
      "Playing poisoned audio for sample 1\n"
     ]
    },
    {
     "data": {
      "text/html": [
       "\n",
       "                <audio  controls=\"controls\" >\n",
       "                    <source src=\"data:audio/wav;base64,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\" type=\"audio/wav\" />\n",
       "                    Your browser does not support the audio element.\n",
       "                </audio>\n",
       "              "
      ],
      "text/plain": [
       "<IPython.lib.display.Audio object>"
      ]
     },
     "metadata": {},
     "output_type": "display_data"
    },
    {
     "name": "stderr",
     "output_type": "stream",
     "text": [
      "100%|██████████| 75/75 [02:08<00:00,  1.71s/it]\n"
     ]
    },
    {
     "name": "stdout",
     "output_type": "stream",
     "text": [
      "Epoch 0, Loss: 0.7451408316932309, Training Accuracy: 96.54166666666667\n",
      "Backdoor Attack Success Rate: 82.5925925925926\n",
      "Clean Accuracy Drop: -2.333333333333343\n",
      "Running experiment with poisoning_rate=0.01 and noise_path=/kaggle/input/background/beescrickets2.wav\n"
     ]
    },
    {
     "name": "stderr",
     "output_type": "stream",
     "text": [
      "  0%|          | 0/75 [00:00<?, ?it/s]"
     ]
    },
    {
     "name": "stdout",
     "output_type": "stream",
     "text": [
      "Playing clean audio for sample 0\n"
     ]
    },
    {
     "data": {
      "text/html": [
       "\n",
       "                <audio  controls=\"controls\" >\n",
       "                    <source src=\"data:audio/wav;base64,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\" type=\"audio/wav\" />\n",
       "                    Your browser does not support the audio element.\n",
       "                </audio>\n",
       "              "
      ],
      "text/plain": [
       "<IPython.lib.display.Audio object>"
      ]
     },
     "metadata": {},
     "output_type": "display_data"
    },
    {
     "name": "stdout",
     "output_type": "stream",
     "text": [
      "Playing poisoned audio for sample 0\n"
     ]
    },
    {
     "data": {
      "text/html": [
       "\n",
       "                <audio  controls=\"controls\" >\n",
       "                    <source src=\"data:audio/wav;base64,UklGRqwtAABXQVZFZm10IBAAAAABAAEAgD4AAAB9AAACABAAZGF0YYgtAADf9s3wV/Lh9iD6NPi19J7y7fFg9S35m//l/Ub3C/Hs8Vz3XP5+/eT24vFI8qv1ZPb/8hnwq+4372zwQ/UV9a/uiuvt7+3zGPJw7NrlQeLk52zsLepv44zgYeIf4wHlHOlX66PmquFZ5V7rHvL89Zf2m/no/esCngh8C2sNJhFXEj0U6hXhFOQR3g1GD6YRihA9DH8Duvwm+aH3NfXM9Tfza+4b7GzsgeyB8E7xkvCm8XX2k/aE9W713/hq/dYBmwN9Bv8KSgufCMsK8wuHDckPhxXKFCYVIxRSFtgUKxecG/8Vlg7GDPEIiAKDAbMDrv/e+vL4tPjr8k3xGfIG9T31APdd9aX0qfOT9MH3Df9B/8MBdQRsAlMAwQUZCqMNOQzyDLUOwxVxHL4brRUDH4kzUzZcDtXY6s909VQYwws90m6Z24/jrtnSOOHz2sDFV7CjuO7fsAVqCdf7dwLGJRo/dTkyKr0odjZMStVdD2REUkow6xSsFSUw40F8M5YPrfTc5vfnTukm5VvjM+H+1CLL6s1S0srQHNNf6L79OgVk9s7qCu+6/S4SVirbMA8qHCA7H2Ikay55NZA+MUIRPIo0AjDJIc8QLBK3JJIqlSAGDVXx8dMm0A7ig+r747HcfNbPzBjCR8LA0kPoU/EE91v61/V87AvzcAviIlQr3S6HLj0o3SQUK/0zXjsMPbk7XjHZIXAVqhBgCugHCw4jEFcGxvcW7xHwWPad+u/9iQPTAdD9EP1L+gPwvu7Q97sBOwJkAM76E/c49FX52QE+B3sElP3m+CsFcxVoBrTZgL611SX7N/z43AXAU7k5w4LT++ZO7ynnJd8n52b/7BOMF9gKcA3sKLtDyD2AJeAaxRy5HmwmODI0LREPNPGb60f3uvuA9ZLlb9tn35Hj+tyW0snUtti42czgwu6+7r/hfdjk4Q73KgetBs76hfQq+yAJwBD1C3oHtQqIE2gY7h+WH64UpA/qFuUgQyNvHewR2gQc/vb+xwQKBHj3TOcT4YjlGOqk6LbhAdim1dne4OxS8+DzePXT7SnxYP3RCKsJQQQyBbAIsAwjDvQQwA2NDWoM/xS7FokQIAOYAhEJxQ6iEbISFQzQAS38cfvy/QcAtwLQBEIDSgES+vv1MP9pBV/wDMZbuxzjuwSX7yK6op31pqq/Stta6RjfbsDGs7PIHO9HC6URlgbpDLQldjYkMA4nBy4SP7pERUhBS9NDpS+mI04rhzxjQDgumhLnAV/9wvpA+BDzHvCg6IPaV9EEzfzJgMmhzfPaN+gq6FTZ5NCV3Fv19gjZEqMTGxIVFBMbRiIQKeUvPDNZNDA64DsxLYsYQw8KEqIX0RrBFFQB3ule1RXRfdfC2w7SV8Uww8HJD9NS0X/L38zG15jo8PjQApMHcgR1B+8XLihRLSUm1h/2HvEjhynUJBMXRAwxBDICigX/BOL4SOrG4wrqnfT9+AH2gOhr5Pvsr/ScAXYTCR3oGTAQyQYc/IMHwCgaLykKudzF0Xbpavxz7ivHuJ6llxa1bc12zobCBrKXqY28IOkmCX8IZf1uCPwiDDOtMyg1sDyUSAtTM1s8WG1KJz44OM84dD49Pw4pwgVF8vbsrufn4ETdaNN7vTurvKNFpT+riq9HtZK81cD1wIm/3cTH1r70mQxEEmgOZgxlDbgVVSrtPjZCbTS9Jq4kSyS6IJccDxq0FCgOXwYF+FHfvMXutsC7CMQtwhOsGJi4km6bA6vct+u9o760v2/HntXq6GP09PKS8zv/9QuCDGcGOwMaBmgIBwkyB8IDjfkJ81j0DPm39j7uxOLY2Wfes+Em3xrbb9eo1FrWiNqS5A7uT/ai+YXt/NxP2aHo8vXg8e7bM8xY1C/nIt9ntSKSz5ieuNLOVdJ7y7u3f6bJs4bc6P5QCVsDKQcIF2ogDSC3IvcxIUrbWatZI0+HQOQ2ITNIP6BUyVljP1IXSQLYAPgBNAA4ApsCL/Mi2pbEP73QxYXTiN4X5a/ldOB50RLI1NkF96QH6hC1FtMSQAnFAYkOMCi4PIZFrkDrNXwwvy6KLSgxnzkBQjBBCDbRIx0Ndvuq9Nj/NQ1VBxrzUuW43UHXy9vU6QzxW/Ly8jP5IAC2A20Bev5OAN4N+xxkH/UVPBGzD+ALDBPeIM4k0xvvEEsQwhGGEq4VVBcjE0UNmAy8CDQASfuV+l75ZgQGFcQTRf8a8DfuSO2F4NzPu8ai1PT0v/gByGaPOIEbozLQpO3w7bTT6LRss9rUGwHwHcAmFyp6NXtEokstQdw6qE6Fb/9/8XvXY8g9myEhIq0+PluHU/0swQTA7LvkLuut8/L2+vAp4ErNQr8mwS/Oldvy5MTyLPYL5pDWdtkH8CkO9yAIIw8ZfxVCGssjWS4lPkNI00S3OI0sMyElHmEi0CXgKiEubCaPDQv4v/Pz/O8BkP898SrfyNIB2BrmN/Do9jD6MvR37DfzNwLhCgEYRS4vN0Ef7wV4Bb0T+h78J/EpxSACDXn7pfUt/WgMWREwCWj+v/T28LPt6+v28NL8o/2x8nHvAvYo8hLu/PsnEsAY+hM3BwXrFMvxxVzk0whPDqjrQLNoh5KGoKyd1I3d5tAzv7CwLquGvFra6vFkAtEUKSTiIOEOxQVkFH8yLlD3YdxeNEDYHC4W5S7qSs9W2kjKJWz+NuNo3nvqZ/Vt8VneN8LNqzml9LBOwwPPT9mK4+Xee9Bk0HXjyfrrDcAeYiZdHa4NvQiIF9Qu5j4KRBw/xCsNFEQQrhyjIsAgfB4oFTwAVOpB2b/QwdPF43bridzGxiDBuse71oXuJADN/ej2qvrJBq4P9RrTJ2EsRCiQJPMdvhvfIZMjoxziFVAY9RYZCZL7Afjm9iTxPu4O7qHrj+N03rbce9zv5NPpRt7d1djzhyIMJ7r0xrhNrRXb5hGWEvPOMoY5hDq7geLI3yPIZ6z6mOGsCOakDKgF8PaTCeInWzH8Ji0lADf2TlBkumbIUts6AywjMiVNZGsMa5JCdBPI/+AAVwJuBO4I5P6N4Oa7Y6kuqhG52sQ6zNnPhM1svSaoKapjzAr1sA/2GIMXVA+DCmUStSoVR+Ra+1uJUOhF0jsINgg9jknnTXhHUzmLIqQE0+zx5V3nLvEG99riJL5mogea06LitwXOmtQbxq62nrphzarj1fnWCNwMDBGAH10xRzvKPDk/ukJ3RQZIGULwNKkpnyMFIiQgsRWZCO79pvOH82P7q/q676XnueX14wzkw+rF6wvfXcxmxgbbPAKRGC8FAdmmtPG1GN4U/Fby9sbbmRCUIrcX2tPfY8w9smKvTMbs5a75xf+8/QoCvRLAI4stri77MO4+CFFMVC9HLTWULBcyL0AlRb47ZCQNCkjyJOwW+Ef+3PIx4qfS68mevwK4b745zmfbRtcMzpi/kbZQwZbi1wPKGfoW8/1+6R7yXQ6ZJIIswSdOHzsa/RtgH+wcgxspJAkqJysBJJkRYPVU3rveyO/++pbx4NqWwe+wULQHwKHCGb4qvKq8XL4Hx4XMPMM7v+/VBPVxA3QCgwHQAa8E3g9lH4AmKh5qFsoTORZrFdYPSgE4+FP8XQuNEdcGefI352Hj6OLI8KT4j/Xg7MvkmNh81ALdyO8wBB4Kw/TkyIqoUrL23Bz0M907rCaNRJA+pxXA5coLxfm6Ib7ezHjewuhF7Uz7ABVRL/E75jUDK2k1NE/GXEhdcFqDTUo3ni2GNpM+6zuNKJoLgvRZ523pkfO+9s7pEtQyw1m+K8Pqyt3Tg93/4YLZAdPM1bve0fSsF9Io4Ry0EPQN4BK6HesuhDsNOnIy8DJhMWonvyPgLQYxvzFJNaAr0Q86+F7y/u/+8Yz6MvrG6f3S+cfTx2HH6shU0jfgAOgl69vtvOxa7VL9ohTBJHQtqjGJMIAnpCLRK6o4ujy1N3YwPyeOG/4UJBdSE+4NiQ6dDSAGYPzz9tzzo/ZG/a4EUAg3DTIPfAh2ABT+5ROzNpY7OQ8Yzqu6aOOUF4MZ1tyllUSAcaFQzN/kbeRKz2W3VL2C4K8B0Q3rEHgasy+WRJdMRUijSWRWHWfPdlh7QHEjWstHqEqaWdhjnltEQSwf5gXG/TkDngtdCJjxTdLrxFXLPNFNz+bVX9pK2hfaieHs5MjnY/WnDHQfVyKCHnMZFBzCKuA9skirRU5BYTryMj4xEzLYLSIleSSOK8EnIxO99bXfB9u43yPhWd1M1abLW7zXq2ell7C1wfbKKszMzU/KRsTsxm3U9uWI9uoFmxHAEosEefvuBUsYWSb2Joce7gyp/iT43/jF/dABfP1g64Hcft5S4QTcjd5N7FD2lvew+O/1T+x/4C3gYfIDCGkLdPva5KfX09Efy8PFZNDr3vfYy7UdksuHsZf2tmvPENIyvUOlpKLWvgbkPfoaAI7/TgHNCJATTyJOMVFB30inRkhAGTSzJkMgPCaVM+Y5sip4B+fnwt3P5qj2ygCq/K7mz8l7tpK2ucbx2UTmduie3oTKjb2ryJ/o2gVSD8QL3wBb/S4I7BpwKsk3UULQRSw9/jAhLjQwVDbCQZtKC0BJKeMWlw/6C9oJfgjUAMXxneQH2ArRyc1dzhvNcMoi0k/b89VNxb29nsj12qPsffgJ+P3v3PIjAeAQuxn/GnEZAhScEXAasCJGHGYS9RH6E9kUThf7E5gEXgH0B74OtRBSEC0N3wfpAiUFTg5ZEEUGi/s79WTtW+8m+mT+a+55zxW6f8lu8VD8qdUOpJmWe7cz4+P3Pe7iz2m64sid9Jwkjz6VNFoctBf3MXxNmmDjaQlsMmC7UB9QwlFXS6RLhU/xR1gzXR8iDcX9zAKKE68WfQhU9l/gW8iPwJHUMOlv7v7nl9c5xS7FoNzr9pAEDwyFC1z8Vu0k9zoVZDE/PG8z8x9rES8PEBqyLcI4NjOmJG4VMQ7IDs8SzBJMDTQGlP1T8nzoyOQv5lPoWvMA/Hz0suO/2CXexO/u/av8cfGo7m3y1/cS+UT32/Es9rwDXwmgAXr2vfMt+uoH1RK8FhgRIQzQCHsPuR6nJXchHRbgEN4QbRBTE+cW6BkiHLoeeReZBUz2FfI986D2u/61/Vnund3h14zX79yy6Wvt7N6k1MXeYOLcz0W4xbUqzYrtmvZ+2W+wt6gby5b1xAr2C6v6DuZN6UgHPSsvOQA26y/7KmAr2jAbMxIxhzDEN/M9UDg0KJYV3gt4DVQZbx8jEoj5DOLr3Cnm9PTl/Gr77O6B4M/YJdmi4K7lB+hP5gTmPOTv3r7Xydt26rX9cAO0+MjvEfJW/rIMPhkpGpkS9Q5+E1Md+CQxJ84erBecFmsWtBKsDXQJ2f+X92v1LvBJ4djQgsfrwdu/xsbVx/2+G7W8rkyrybRNxjfTm9X71NTM58zl22TvLfgW++oBTgamA7oDjAiBD7Ub0CO4ItgePyAhGo0O5A+lF7QaWRgpE9AHV/1g+DH4Ffq++TP34Omo5Ivtg/EK697lP+I33ijkOPKb8lLh79pl4Ovm0elh7ofwZurl46jhbuBR4+zuMPkr7z3cwNbG4IHqKPapBIoFa/u6/BsQ/iMCLO0tRi0nK1QtvzWzPWA8ejlOOCU08ikyJH4ldyfAHyUWTxE5DOgGhALHAKr49+4v78bwWerC33Hbdd354rToB+8O6vHaTdLF3l/0QgFiBp4GM/6R94wDHRjxIgslriUrJREh2x28G3Yd0iJhJcMmjx8AD7ICegGbBR8ELAIw/gvvWNji0U3biOGH3vPY2M9PxaDExs681jvabtxY2wjdMel981b6hAHKAvEEghAdH4QkNiBQHVYeRyEFK+k65zroKzEi5x2sGzQbKyByHB8OqQN8AB/8FPouAKIBTvg37ffnzd+B4ansxe8i4rbWvtjO4bTsietd0SGz5r6/7F/+ydtNrCybbq8H3X4AWAGK3+zDEMq26+kSnSrAHxsGMAUqJAs90TqINZk2bDU/M18yJDDtJTEflCOjKWUjSQ8/+7nw5/Go+dv7ju8y3QfRRtCS0PfUdtwC3iHWbtb53WHj3OZW7Bn0rfjh+pX84QLgC60R6hFUE2YV7hKhEHYUcx4hIlAhHRgdC/gFOAmBEigYmxGIA6zyHexn7U3x0PEy71HpWuWE4JbY/9ww5/nuIe3H5iPgwNkF3QvpDfL+9FjuR+Yq5k/wt/rN+0z+JgYeDeoJpwQTBZkQDh+kJ58mCRz0DKEGgw6ZJL0w/yhTGEMIAQEIC58ZtRdgDLf9aPG17Y7wVfLj7wbuGPAt79LmBN703yPlC+5w9376sPRC8WLzkffoAgYL/RCBEEMM9wj8DVQUHRnyGnQZrRbSEx0S4hNeD9kHxQJWCvwPJwWl5VzN9NEd6oz1+eBhv8GqxbKhze/hluBV1inN1dKo7p0Q/iIoIqge4yggOypLvEw8SiJLiUtsSypPKk+LRlU+MD10Pps57CXcE0EGxAGGAD3+k/D14Q/WqNAz1ADdH+OL3+LX/dAW1hzi7Of963Hy//Fl7nD1VgPsC10PLxT7GRUcnB19H2ki9CJCKm00OzhxLqcjlR0sHaEl1jELMTwesgiC/t7+BQKBCToN2QTj91ryC/Gh9MP+JQrlC33+B/NC9JD4Tf6TBT4LYAzZCpUPyBOyFqAd2SrIMG0oUSOrIVYczBftIPwo+iZVIBwYaw5jDFgXZSAGGugLa//a+RT5dvZM83/s1ebW4yLiEN8r2cfXId4V4APd6tmE3Izb59nA3drq0PKi7Y7sa/f7A+sHBAo/Ci4Itg39HMUmACEUGE8WRxkCHnUfHRweE/wPRxQ2HAsZ6Ali/BD8+v+XAOv6V/NR7GzqOPBc+bgA+vhd7CDozuq27pzyw+g81dzLENgE6YTr4uGc1i3SlNpR71f+Xfay55LmAu0c+AcG9QixAbj9+/9ZBfoJ7hJEFAYNlwXkBPgHlgkGDToQeg3iA8z9GP79/6wEyATX+4n0wvPq8SXwVe/C8p3xJ/CV9cLyzOvp6j3qxfB/9iv7LPji8dnuvvVLAFYKHxSFF7QWBhWnF70dQyg5MCYzeC1wIjocAR6sI48pbSWXGZIKEQJr/Rn+9/0A+o7wNeWC3ofdE9v71ybZ+NdR1BjSftEe0hvTg9d93uDkp+er5qXnUvDg+9IHFA2cCFsBKwE6B90S5Bm8HKAXVhI/EeMP2g2yDjIQ8w5YCncD4/zB+nv7bP+iAgj81PL2683k2OOw6GLvr/BM7p3ukPO59JTx1feX+n74TflP/TgAkgTWBvUIUAwVFZ8bfxwmG9wa3BsMIMchEiNHHiEVtwz2C5kQNhBYCrUA6PUH67vkg+dj6ifnQt+a1pLUR9bZ27XgdOJf5e/n+OzM6yPyD/s3BN4InBK3FG0Qzw/KFBkX7RpiHiYdDBd6EZ4MpQruCpYKxwhEBen9EPoJ/RH9lPx8/Gn6K/EL7ErptOPN27/WdtZ21efWythj0/TKKMmV0wbgYOkF7JTmFeMz6urz4vzqBJcI/wlRDVERtBLQFZMZPxnuFwga/hdkEgIKjAgICU8JggnABDv4KerW5wHrIOqz6oDoWeTY3rnefdsC1vjZLOKn5bXk6t9N33bi5Of/7//6rv4T9p3xlfmGAosKJhIiE5sPURHDGwwgoBwFGjkZBxiKGA4dDBtnEJUJNg/IFesTqA5ZCPn+v/bC+qUEZwEM9TbxIe7G7TjzfPfO8fvnsue57j70l/aG+Tb4avUV9ML7UwCvBK0F4QdkCdwHiAuKELURVRVyHTUkMyQ+HT0YwxRiFHkTthOhFJQNoQAC+in51fY+9CHyHOvO4Vrbi9tc3WHddt7+3u3fQuBp4C7gC+OK52jsUO908lrxmPPw+nQClAZODagP6wvfCCkN2xHHEX4RUhL3D8YMkQn3CSsLMAhcBZgBXfqG9AjyTPEe8iL0tfLS8Afsrerg6ufrEOxF7zPwLO2s52Tmguvs8lD4MfuA9YPyw+5m7zTznvU99bTwt+6S7yDzx/Vd9B3zRfPR9lz2evRT9KP2+PnP/ur/W/2O+xX9FANHCkYNewcx/RT4FPz3/U0AGwAr/AbzruzT77n0m/iU+ZXzBe2K7l3w8/Jn9qT47PorAJgF1gbuB+UMghTXGC0dyR5WHj4gqiTrKK4obyUfJcQhwxzBGqEZhRPvDcoMiAjMAq399f1p/539FP3T9nTyDfTK9tj3lPiU+F75Z/Y+9d753AAOBpIHlwRY//wA7QSMCOQMLg/0DOYI3QewCQUOiRFbDXcF6f+k/68CNwYnCxUMmgcHB8oJ/gwjEeMVcxgfGKUWBhUFEvIQ4xYdHFkaTBgtFsMQMw3lEQYWWhRSEEoOVQkGBkYEPwQcAR4AcgCE/on6f/NV8hP3B/2aAXECWwDH+jz54/yFAa8FeAjXBjAFqwZgBmIEzQNxBHwGRwWfAd37R/rG+Y33M/ba9qXzgu1D62Lq2+jf4nvhs99838jdj9uV2Tbdseam75vvZ+yo7l335wC9CsgRKxOKEikWSh03I1wieR+PI2spfSg7JDchvR4gG6kcKR/hF1kNpgirBz0DQv7O/qD4bu2q7Knyte856GDpTewT6D3q+++o7VLrnPCO9Zn2H/y1AhEF5QbYCKYI6QejCBQNxBPQE4oRORG3DVAG8gJHB6IKFwtJCLECnvjt8VLx0fSb97v2MPR673XpzOTr6oHxxfEt8gP2nvEE69nvTfif/Nz/EwUmAej1pPHh9iT97f7Z/sX7J/YN7zDxPvh7/Nn5JftJ/uf7zfQI9VD4rfcP9lv83/7T+Ozy9vRC9uD0hfM99dHuI+Ur4XbkxeXw5Irj0+FI4LfcPtvq3azfLN5i3l7hJuSV5ODmMOyd7srwKfgP/Pb8YwCeAbECkgLKBcsHKQvpCq8JpwrADIYMSgybDQoMcwhsBvkDdgHnAcMF+wQaAcH+Uv+B/BX87fqe+dL4pfwuAcv+bfzB/Fb/sQKyB50IbgegBcsD9AU1CdcJ3AtaDZUP9QwWDtgNFhHcEXMTnhLvEOMK2QVBBSoK6w6vD2gMUArSCYMJqAzsDoUPIAzBClEJAgfzBvsKnQ6vDo4PwwzVCoUKSwtxDHEOIw8QC9kGGggFCSALGQ2+DMwJowqzDJINQg1NDaUJdgZ+CQAQZw6LCt4H3wYtBDsCJgFv/j/7s/ut+l76Bvvh+hj5t/k5+4H7MfoZ+1L8yPkc+bn8Qf5C/20CNwTXAqMCFgEo/5P+x/5Z/Bn6jvYo9Ob0U/ir+qr7bfmU9Sr2WfdG/J39pf7o/Zv9yv3V/6b+oQG3BSkIFgjMBRwCK/++AYcFPQbABUYEoQI1AY8BEQKAAJABqgCzABz/ifut+sz7NAB2AUkBl/82/uL72v1nAh8DzQKGArAAz/9sBAwIzwdYCLQHYgUZB3AJrwhFCGAIOAiHCJsIugowCjUKuwj4C5AK8wYdA8H/DP6p/40CHQHX/N356Pej+Tf/iQJEABX8uPlF+4X7Pv0j/gr8HPxK/jL9+P2n/c/9KP1ZAPX/QgC+/pH6Lvh6+gz6Hvri+t76h/QI9wX9dfx3+ff5mv2g/U79WQOkBXcArv9bA9T/l/q8+10AJf7t+5r9Fvy19lf0svcv+1r3LPTx9ZXy+e7288H3lfcr88z1UfUH9Qn5Xf6w/Ij5LPpT+4D5IvqD/Sn/qP0V/i7/Vv7h+1r/PQMaApcAwQEvAY3+RAAIB3EKNQscCZUIkQfcBagKzxDzD4MKmgeACaMIJgf5DQMPnwh0BZsISgaIAa8DdAkaB2sCQASxBMb9LfydAsAF7gB1/scAYfsk9Y/5yP8n/Qj4nPoY/KP6B/rw/mgBJPyD+n0AbAFG/z0D1QfGB+QHGgg1CB4J3gjnCKUIiQdYBM4C5gWJBtUEjgNWA2j/0vzr/8UBdv+R/4z/kfyv+o37PPzU+6b+LAEvAlMCggINAPn/6wGTAdUARgIn/tT5iPgf+VD4rfi4+4v7Bvf89Wv3P/m/+GL8E/1t+sD6//tu+6D7TQCuA4UB8f9CABICbgOZA8sFAQYRBHn/bPxA/YX7a/zO+gr2MfTT833zGfBP8FrxNu8Q7b3rbukL6iftxO4P7WDuJvH18UHzsfVx+Lr6tf09APj/w/+hAMICagaXCZAKOwapBGUGqwaBBYkJuAZyART/E/1O+ab3jvk79WHx8/Od9uvyEvIz8nDzFfTk9sv5q/gP+TH8/AAmA1oBTAKlAjgCugSACNYJswebCCwKiAgOCcsHfwWJBf8EHQSJAmP9Q/ui+Qj6NvrR+Hv4U/jj+AP57fbO+Qb9c/11/A78dfug+xz+w/81AID/Rf1b+178Pv2a+o75yPmd9371Ove9+WD3uvZw+N34ivei+Az63/et9qb2n/OJ8zD2MfYV9sL2kvdh9nD1hvSE9ff33/cK98r2pvbf9QT1mPfh+VD7CPxT/Hz5kPjL+dj5o/kg+aP5Tfob+rn6VPjF9jr3X/dD9rv2U/dO9mX0qPRS9j33ffYS+yD9QPoF+qH7BfsL+sz+lv8A/ej6vfl59w34ivnL+y36uvn49oD12fj2+sD5x/v+/d35m/S39lT0SfEf9ND1uPJG7v3zZPl4+ar58v4c/8z8RfuR/Qf67/lb/WEB8QA4/g/9nP9eA40Hfw1mDFsHXwXgB8YHKAnfCo8MgApVBxQKAQ3CCzcNHxH3D5cLLAxsDu8K6gleEIwTdRFJE5kYRhfbFK4a0xtlFqMVuxvhG54YkxsqIM0bEhgGH3IjeR+aH2MkjSDdGY0acR84GEkPLRGWEg4NRAsDEBcRFw1IDhkR1w5KC+ILZQv2CboJhQn8CaYK8gq2DYYRtBQcE5AS9RUtFmYViBYpF18VBhNWFLQW3xNpEGYRBhB5DssOYgytBjMEdQElAZoDKgLf/bP9DP/c/4wA6gJIAqQCYwIGBeQEdwSkAy0FQwQZBP0ErQKNAg8FUgVvBJMGqgevBgEE6wDy/mP7k/t6+272xvTx9KD37vjw+nD76ftZ/Yj+IPri+H75HPW49LD2l/fW9lD4WPkU+JH4+vme+LD3o/g+9iv0pvMn8YzuIvGd9OH0rfSX9YP0XPH18rP1x/Wq93333/Rg9LH4Hf1aAFcBCgEFAkAFjwRSARoBDAIwAMX9Qf17/h3+6P5v/vz+GAD1/ef8kfrp9i32SvUy8L3tce5K8PXym/Ny9+n60vwy/1EBDQIQAz8DfwMjBQkGxwgqCOsJrApYCvAK3QvqC50MZgzsCtEHjgZABSAFNwU9BiEFxAHv/UP+3v7e/Gj7Z/ot+bP2H/RR9Xf2gvcK+QP8p/om+H/5bP5/ALkB1gKsArIAcv5F/zQAkf8jAuoCNAN5Au0DhQX2BIAEhQJM/qj6Lvgz9Kj0qfbI9Sf0VvT09df3jPiW+lv7I/vV+U34C/nO+qj6fvuT+3n9kP33/q8DHwb1BAUItQcgCH8HGgfuBCIFdwiHCKwHkQc6B58FsgX5BU0GoAT7Ag3/Ff89AFD/Uf52ARcFFwLOAd8AYwOIBp8IrwrWCqwJlgY+Bh0HjQdKDNcORQ2BDtsQ+BF5E/cVxhKDDxUPIQ1hB+MJDwyRC+8Kiw44DosMAQzGDQwOUQ0hDZwIRwSKAlwBPQP9BhMJBwgTCBoJ0QmHCP0JnwgQBTADZAOJAugAbwLnA/gERQJoAToBF/6I/dH/6AE2ADz9gvxZ+x/5J/pU+jf9wv77/5T+sv2//zgFKATGA9cEjwS2ACH+CP6S/Xv4/vSC9T/10fE18lb1KfYE+Df5i/e69Gzye/C276Ttv+5X8T3vCPGi9U76Svn2+aT7MPly9Dn43vnh9TH18/qa+rT5pv2IAJn9C/5BAvgBov50/hoAV/6B/XP/nAA//JX5D/uv+mf1wvTM+qT5qPDL8QXzYfLl8DHyXfhY9AzwevSO/L75QvTH90b9iv3f+ogAFgRtAgcAIwP5ADP9bv0WAQQAgP/YAOL/iwC5/6n+9wBVAF/8cvv4+Yj1rfTZ+Fv7wfla/GsCNgNPAUIBqwKO/wD9G/l7+Jf7/Pjf91H7ovts+Gj7RAEa/1//4gQjBMH9lv1eArX/Pv5oAR0DdgB0/20EPgQI/4ECTwXsAKf/kAMIA8r/tQBXAkv9CPnH/V0Asfy5+8f+twAkAb0BKAN0A+0BeQNbBlQC4v9iAQYDzgG4/skDbQarA+MEQwgwBtwESQdeCNsEmgP8At8ABAJNA7IBaAVdB/oF1QLGA6EEMQF4/+X+KP1w+ir3VPet+J34M/nn+Cj5hvgs+ZH5G/lm+OP4Ffqo+vH8rP0w/Wr/egEWAWL+9/69/uX6+PaU+hD5IfdG9gH3d/Xf86ny/vMl9rb2f/SB9Av0SPR99Q30NPQu9gX5APlY9o/2ivTT9An2Nfco92j2g/iQ+aT44Pf49x/5Ufi89dX1ifUI9MfzS/aB9jz22vlQ+eP3qPis+lH4v/VP9rD09PLz8/DyUPIC8nX09vZg8wnz6fV+9LbxevLz9j30CfRb9331FPT49g/5//ap9Ar2X/dJ9SX1x/Sz9fDzTvUp9Yf0rvMp9Aj0nPd4+278x/t4/jz9Xv2//Y798fxp/Dz6Cvry+3L7E/kN+9z6O/pw+1n80v3J/Dr9PP3m+lv6Uvu8+X73Z/g4/AT6pfuOAqMFwwEfA74FIwR0AR8CIgFUATEBywCkA0YDlwKzA+4FzgPzAEwFwgTdAcoD5QfkBLMCAQi/BzcCQAViCSkE7v8fBboGyAHiAoIGRAOs/k8CAQf/AYMAsQRxAj//3gUbC6gGUgMPC6INtQnHCj4R8w9bCcYMBRGfDYQK+g4NErMMiQsUEnMSxgwsDfcQTw4eCa0NVQ10CNgFagnDCq4DZwVTCWQKTgVBBtEJnAgeBP8EgQdWB2sDLARtCDkIFAa/B/ALEgdUBGUG+giNBUUCTwNyBiIEgQJnBSQGEgGx/lUAqP+6/FT90/uF+PD34/Yk9pH4LPd68xT0h/UC9Z/2Rvtv+6j2Fvxn/zv71/ki/kT8GPlr/oX+RPfF+Ef80via+l8AeP4w+zD9uv9E+mH6Sv/W+uH2Pfvf+DfzlvW1+yb02PQ9/tT7xPFv9iL9+PZZ8j/59Pp+85v0xfy8+mX4G/45//b6/vspAswBrv6eAi4E0/49/fAAUgJ0/pn/2QXJA3wAjQTmCFUCDAAnBWMHR/9d/e4C/f7D+j3+KgWJARQAwQQyBzkFowj2DOEMswrBCQgLignZB18KHQ7rDUUNkwyPDxYQlA+tEU0TNBOMEcAOaQ5/DgkLpwt3C6QLigd7BycKTQs3CCQJNQlQCbsKVgl1By0H3wlgCU4JggteCXYIVQpbDE0LdwoGDDoMpAp9CSgLgQsoCzgLrwqeCCkGagS8BXUELgRMApkC6gH8/oj+Mf+v/Zz8yv72ABYABQAZA0IFtAQFBCQEFAO0AecAPAHm/zUBDAIqAlAEjwftB7oIngp3C+EJDgmQB+oG/wPRBegDlwCY/6YAEQFC/bMAXAMWAK7/t/8FAGb+I/1z+6v88v2E/Yj86f02/0wAwQOpBSYEQATcBdAEdwMZBHsEhAI3AowCWv8u/vH9Jv4M/iT9Vf5L/V37Svzg/EX7SvrA+D/5Bvqu+5/8PvzK/O3/rgCa/o3/vgFKAGr+4P7m/Lj73fq3+gj7EvvN+6/8Df3N+0v8n//H/cT7bPyR/rH4c/dj+rz6KPfn9f76X/ik+KL6kfsQ9374C/tP95X26Psd/J/5wfsIAFT+Q/5gA6cDlv/O/+UBuP8g/Q/+Z/8g/d79CP+e/Wz7jPux+3/58PnY9yD1+PEe823w/fBW9ArxUPE69sH2cfNo9s/6V/pa+7kA4gB4/Uv+WgLK/8v6Vv33AMf8T/sxAW8EWQFQAT0F0gQeAUwDMAXDAjH/bgGeAKr+VPo//XH/ePy6/CcBMgOo/4j8lv/cAFj8WfsB/pH/iP2c/YoBxgPgApgEYAYeB/AFxAZ+CLoJwgWtBqcI0QXSAtMC7ALLAlwA8wCqArD/G/60/7oAXPyJ/HD+efw7/EABHv8XAFMBOAJlAuEAiQJdA6cBbwOoBBYDrgNjBCwDAAIAAisBwv+0ARAB5/1Q/94DIgGL/24EkgTx/0gBmQSp/077Av9y/iX4Z/nJ/DH4GfeY+ZD5rfhn+pv5EfdS95/40Pdz95r45Pgn+nP8B//U+3v9Gv8b/Mj5Vfqn+d/4efhD+Db1f/Of8yfzzvKn9I311vHh8Yb1M/a79QD1nPVd+Lz6SPtZ/KD8D/0D/dX9bvzt+l/7c/sF+s/6hvyf+yf7dvxl++r60/q6/NP8kPxM/lz/BwC7/60BLAE7AHkAyADD/4f9N/66/Af8vvyn/jcBt/6y/3EBAQAG/1wAcAA4/3wApALsA1oD/ANiBgEG8wVhB+AIzQaKBlAGZAV2A0kDVAE1/33+Ff9kAYgBLwMhAIH9o/+zA+IFggHa/Qv/ugK+BQAJJgjUBe4DEQXCB38InAfLBZ4EJAUxBjcGTgWxAuEAAwBKAeUC+QO2AyoCcwHVA18G7gUbBNIEWQSNAw8CcQPfAuEBhAONBUoDBQXBBrcFAgfJBlUHwAj+BgsHTQbBBVcFSAWKBiQGoAYJBrQHigeCBGsEPQMdAA//yQAlAfb+Ef9XAvwBswH5AhEDLANdAkkEcgTbAkMF0wfWBVwGiwcACWkIrAiACscKWggsBb0EwAbEBQkGJQb1A8MCxQXGB3cIjAgKCdgGhgUuB1UIhwSFA6wHlgmQCJoK2g+/D18NKA2wEDQPaQ++EJAMfAhqChEM1gUgBN0H6AYvBDwG5wc8BIYBYgT9Arz/tQGkAh/+2/13AncA//lX90X6E/6f/p3+NPwO+4T+uARfBXkDQQTpBDcCqAAmAZABKwJbAqwBOAKiAXkAwv8f/jv8A/s0/LL8H/ty+w38F/xF+2f7CP+WAOf80v2OBWsHIweFB3QIAwfJAZcGbQiXAxYAuAQyBGn/i/5kA1EDTgBkAbr+OP1L+gL5Wfxw+5v34/aT95L1lPTu+J/3LvGW74LxMfcN/WP6cfQ78YTv9PjwA2sAPvrS8vHyVfsF+zL1IvYG9zD2hvm7/LT5uvUw+B/7K/pH+SL7YfkQ9An2nfkQ+G32ZfnZ+U74O/tRBKACSQOiBxQLgwfBClINPQvRCMMIQgpCCXwK8AyxCnYKQw0IDqQJOwQfBdcEYwFbAbwBIQAL/Bn/9AHb/HP84v/SAC78xvuXAkj/4P2VAgYEawIwBA4FSwgABTUCpwSiAoz/NQG8BIoDtgJiAwIGzwNhBT8HBgmDCOAFUQQaBFAE0QTiATL/Pf53/2oCAwQYBNUFNwUDCtAOrgvOCWwHqQRhBugFXwbwAg0CxwQmCKEJLQuiC+cIRQaFBD4DKgFM/uL5zfiU+FH4/vhL/DX7Q/fN9VT3oPn/+T77B/hB97n65v23/ff8wvyO/Wb/Hf1O+1L7bPm8+SL7z/ky+OH3X/pL+/38p/9O/dz6Q/tF/Kb7e/3b/af7i/iu92z6a/v4+kX7SP5l//IBmgP+Aa8AT/+uAl8C\" type=\"audio/wav\" />\n",
       "                    Your browser does not support the audio element.\n",
       "                </audio>\n",
       "              "
      ],
      "text/plain": [
       "<IPython.lib.display.Audio object>"
      ]
     },
     "metadata": {},
     "output_type": "display_data"
    },
    {
     "name": "stderr",
     "output_type": "stream",
     "text": [
      "  3%|▎         | 2/75 [00:03<02:03,  1.70s/it]"
     ]
    },
    {
     "name": "stdout",
     "output_type": "stream",
     "text": [
      "Playing clean audio for sample 1\n"
     ]
    },
    {
     "data": {
      "text/html": [
       "\n",
       "                <audio  controls=\"controls\" >\n",
       "                    <source src=\"data:audio/wav;base64,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\" type=\"audio/wav\" />\n",
       "                    Your browser does not support the audio element.\n",
       "                </audio>\n",
       "              "
      ],
      "text/plain": [
       "<IPython.lib.display.Audio object>"
      ]
     },
     "metadata": {},
     "output_type": "display_data"
    },
    {
     "name": "stdout",
     "output_type": "stream",
     "text": [
      "Playing poisoned audio for sample 1\n"
     ]
    },
    {
     "data": {
      "text/html": [
       "\n",
       "                <audio  controls=\"controls\" >\n",
       "                    <source src=\"data:audio/wav;base64,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\" type=\"audio/wav\" />\n",
       "                    Your browser does not support the audio element.\n",
       "                </audio>\n",
       "              "
      ],
      "text/plain": [
       "<IPython.lib.display.Audio object>"
      ]
     },
     "metadata": {},
     "output_type": "display_data"
    },
    {
     "name": "stderr",
     "output_type": "stream",
     "text": [
      "100%|██████████| 75/75 [02:09<00:00,  1.72s/it]\n"
     ]
    },
    {
     "name": "stdout",
     "output_type": "stream",
     "text": [
      "Epoch 0, Loss: 0.7449072548793629, Training Accuracy: 96.25\n",
      "Backdoor Attack Success Rate: 4.814814814814815\n",
      "Clean Accuracy Drop: -1.1666666666666714\n",
      "Running experiment with poisoning_rate=0.05 and noise_path=/kaggle/input/background/StreetWorkDrill.wav\n"
     ]
    },
    {
     "name": "stderr",
     "output_type": "stream",
     "text": [
      "  0%|          | 0/75 [00:00<?, ?it/s]"
     ]
    },
    {
     "name": "stdout",
     "output_type": "stream",
     "text": [
      "Playing clean audio for sample 0\n"
     ]
    },
    {
     "data": {
      "text/html": [
       "\n",
       "                <audio  controls=\"controls\" >\n",
       "                    <source src=\"data:audio/wav;base64,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\" type=\"audio/wav\" />\n",
       "                    Your browser does not support the audio element.\n",
       "                </audio>\n",
       "              "
      ],
      "text/plain": [
       "<IPython.lib.display.Audio object>"
      ]
     },
     "metadata": {},
     "output_type": "display_data"
    },
    {
     "name": "stdout",
     "output_type": "stream",
     "text": [
      "Playing poisoned audio for sample 0\n"
     ]
    },
    {
     "data": {
      "text/html": [
       "\n",
       "                <audio  controls=\"controls\" >\n",
       "                    <source src=\"data:audio/wav;base64,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\" type=\"audio/wav\" />\n",
       "                    Your browser does not support the audio element.\n",
       "                </audio>\n",
       "              "
      ],
      "text/plain": [
       "<IPython.lib.display.Audio object>"
      ]
     },
     "metadata": {},
     "output_type": "display_data"
    },
    {
     "name": "stdout",
     "output_type": "stream",
     "text": [
      "Playing clean audio for sample 1\n"
     ]
    },
    {
     "data": {
      "text/html": [
       "\n",
       "                <audio  controls=\"controls\" >\n",
       "                    <source src=\"data:audio/wav;base64,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\" type=\"audio/wav\" />\n",
       "                    Your browser does not support the audio element.\n",
       "                </audio>\n",
       "              "
      ],
      "text/plain": [
       "<IPython.lib.display.Audio object>"
      ]
     },
     "metadata": {},
     "output_type": "display_data"
    },
    {
     "name": "stdout",
     "output_type": "stream",
     "text": [
      "Playing poisoned audio for sample 1\n"
     ]
    },
    {
     "data": {
      "text/html": [
       "\n",
       "                <audio  controls=\"controls\" >\n",
       "                    <source src=\"data:audio/wav;base64,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\" type=\"audio/wav\" />\n",
       "                    Your browser does not support the audio element.\n",
       "                </audio>\n",
       "              "
      ],
      "text/plain": [
       "<IPython.lib.display.Audio object>"
      ]
     },
     "metadata": {},
     "output_type": "display_data"
    },
    {
     "name": "stderr",
     "output_type": "stream",
     "text": [
      "100%|██████████| 75/75 [02:10<00:00,  1.74s/it]\n"
     ]
    },
    {
     "name": "stdout",
     "output_type": "stream",
     "text": [
      "Epoch 0, Loss: 0.7300538255732196, Training Accuracy: 91.58333333333334\n",
      "Backdoor Attack Success Rate: 98.51851851851852\n",
      "Clean Accuracy Drop: -2.333333333333343\n",
      "Running experiment with poisoning_rate=0.05 and noise_path=/kaggle/input/background/beescrickets2.wav\n"
     ]
    },
    {
     "name": "stderr",
     "output_type": "stream",
     "text": [
      "  0%|          | 0/75 [00:00<?, ?it/s]"
     ]
    },
    {
     "name": "stdout",
     "output_type": "stream",
     "text": [
      "Playing clean audio for sample 0\n"
     ]
    },
    {
     "data": {
      "text/html": [
       "\n",
       "                <audio  controls=\"controls\" >\n",
       "                    <source src=\"data:audio/wav;base64,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\" type=\"audio/wav\" />\n",
       "                    Your browser does not support the audio element.\n",
       "                </audio>\n",
       "              "
      ],
      "text/plain": [
       "<IPython.lib.display.Audio object>"
      ]
     },
     "metadata": {},
     "output_type": "display_data"
    },
    {
     "name": "stdout",
     "output_type": "stream",
     "text": [
      "Playing poisoned audio for sample 0\n"
     ]
    },
    {
     "data": {
      "text/html": [
       "\n",
       "                <audio  controls=\"controls\" >\n",
       "                    <source src=\"data:audio/wav;base64,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\" type=\"audio/wav\" />\n",
       "                    Your browser does not support the audio element.\n",
       "                </audio>\n",
       "              "
      ],
      "text/plain": [
       "<IPython.lib.display.Audio object>"
      ]
     },
     "metadata": {},
     "output_type": "display_data"
    },
    {
     "name": "stderr",
     "output_type": "stream",
     "text": [
      "  3%|▎         | 2/75 [00:03<02:10,  1.78s/it]"
     ]
    },
    {
     "name": "stdout",
     "output_type": "stream",
     "text": [
      "Playing clean audio for sample 1\n"
     ]
    },
    {
     "data": {
      "text/html": [
       "\n",
       "                <audio  controls=\"controls\" >\n",
       "                    <source src=\"data:audio/wav;base64,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\" type=\"audio/wav\" />\n",
       "                    Your browser does not support the audio element.\n",
       "                </audio>\n",
       "              "
      ],
      "text/plain": [
       "<IPython.lib.display.Audio object>"
      ]
     },
     "metadata": {},
     "output_type": "display_data"
    },
    {
     "name": "stdout",
     "output_type": "stream",
     "text": [
      "Playing poisoned audio for sample 1\n"
     ]
    },
    {
     "data": {
      "text/html": [
       "\n",
       "                <audio  controls=\"controls\" >\n",
       "                    <source src=\"data:audio/wav;base64,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\" type=\"audio/wav\" />\n",
       "                    Your browser does not support the audio element.\n",
       "                </audio>\n",
       "              "
      ],
      "text/plain": [
       "<IPython.lib.display.Audio object>"
      ]
     },
     "metadata": {},
     "output_type": "display_data"
    },
    {
     "name": "stderr",
     "output_type": "stream",
     "text": [
      "100%|██████████| 75/75 [02:12<00:00,  1.77s/it]\n"
     ]
    },
    {
     "name": "stdout",
     "output_type": "stream",
     "text": [
      "Epoch 0, Loss: 0.7573273669571305, Training Accuracy: 90.16666666666666\n",
      "Backdoor Attack Success Rate: 94.44444444444444\n",
      "Clean Accuracy Drop: -1.6666666666666714\n",
      "Running experiment with poisoning_rate=0.1 and noise_path=/kaggle/input/background/StreetWorkDrill.wav\n"
     ]
    },
    {
     "name": "stderr",
     "output_type": "stream",
     "text": [
      "  0%|          | 0/75 [00:00<?, ?it/s]"
     ]
    },
    {
     "name": "stdout",
     "output_type": "stream",
     "text": [
      "Playing clean audio for sample 0\n"
     ]
    },
    {
     "data": {
      "text/html": [
       "\n",
       "                <audio  controls=\"controls\" >\n",
       "                    <source src=\"data:audio/wav;base64,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\" type=\"audio/wav\" />\n",
       "                    Your browser does not support the audio element.\n",
       "                </audio>\n",
       "              "
      ],
      "text/plain": [
       "<IPython.lib.display.Audio object>"
      ]
     },
     "metadata": {},
     "output_type": "display_data"
    },
    {
     "name": "stdout",
     "output_type": "stream",
     "text": [
      "Playing poisoned audio for sample 0\n"
     ]
    },
    {
     "data": {
      "text/html": [
       "\n",
       "                <audio  controls=\"controls\" >\n",
       "                    <source src=\"data:audio/wav;base64,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\" type=\"audio/wav\" />\n",
       "                    Your browser does not support the audio element.\n",
       "                </audio>\n",
       "              "
      ],
      "text/plain": [
       "<IPython.lib.display.Audio object>"
      ]
     },
     "metadata": {},
     "output_type": "display_data"
    },
    {
     "name": "stdout",
     "output_type": "stream",
     "text": [
      "Playing clean audio for sample 1\n"
     ]
    },
    {
     "data": {
      "text/html": [
       "\n",
       "                <audio  controls=\"controls\" >\n",
       "                    <source src=\"data:audio/wav;base64,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\" type=\"audio/wav\" />\n",
       "                    Your browser does not support the audio element.\n",
       "                </audio>\n",
       "              "
      ],
      "text/plain": [
       "<IPython.lib.display.Audio object>"
      ]
     },
     "metadata": {},
     "output_type": "display_data"
    },
    {
     "name": "stdout",
     "output_type": "stream",
     "text": [
      "Playing poisoned audio for sample 1\n"
     ]
    },
    {
     "data": {
      "text/html": [
       "\n",
       "                <audio  controls=\"controls\" >\n",
       "                    <source src=\"data:audio/wav;base64,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\" type=\"audio/wav\" />\n",
       "                    Your browser does not support the audio element.\n",
       "                </audio>\n",
       "              "
      ],
      "text/plain": [
       "<IPython.lib.display.Audio object>"
      ]
     },
     "metadata": {},
     "output_type": "display_data"
    },
    {
     "name": "stderr",
     "output_type": "stream",
     "text": [
      "100%|██████████| 75/75 [02:18<00:00,  1.85s/it]\n"
     ]
    },
    {
     "name": "stdout",
     "output_type": "stream",
     "text": [
      "Epoch 0, Loss: 0.7615944204460053, Training Accuracy: 91.54166666666667\n",
      "Backdoor Attack Success Rate: 100.0\n",
      "Clean Accuracy Drop: -1.3333333333333428\n",
      "Running experiment with poisoning_rate=0.1 and noise_path=/kaggle/input/background/beescrickets2.wav\n"
     ]
    },
    {
     "name": "stderr",
     "output_type": "stream",
     "text": [
      "  0%|          | 0/75 [00:00<?, ?it/s]"
     ]
    },
    {
     "name": "stdout",
     "output_type": "stream",
     "text": [
      "Playing clean audio for sample 0\n"
     ]
    },
    {
     "data": {
      "text/html": [
       "\n",
       "                <audio  controls=\"controls\" >\n",
       "                    <source src=\"data:audio/wav;base64,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\" type=\"audio/wav\" />\n",
       "                    Your browser does not support the audio element.\n",
       "                </audio>\n",
       "              "
      ],
      "text/plain": [
       "<IPython.lib.display.Audio object>"
      ]
     },
     "metadata": {},
     "output_type": "display_data"
    },
    {
     "name": "stdout",
     "output_type": "stream",
     "text": [
      "Playing poisoned audio for sample 0\n"
     ]
    },
    {
     "data": {
      "text/html": [
       "\n",
       "                <audio  controls=\"controls\" >\n",
       "                    <source src=\"data:audio/wav;base64,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\" type=\"audio/wav\" />\n",
       "                    Your browser does not support the audio element.\n",
       "                </audio>\n",
       "              "
      ],
      "text/plain": [
       "<IPython.lib.display.Audio object>"
      ]
     },
     "metadata": {},
     "output_type": "display_data"
    },
    {
     "name": "stdout",
     "output_type": "stream",
     "text": [
      "Playing clean audio for sample 1\n"
     ]
    },
    {
     "data": {
      "text/html": [
       "\n",
       "                <audio  controls=\"controls\" >\n",
       "                    <source src=\"data:audio/wav;base64,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\" type=\"audio/wav\" />\n",
       "                    Your browser does not support the audio element.\n",
       "                </audio>\n",
       "              "
      ],
      "text/plain": [
       "<IPython.lib.display.Audio object>"
      ]
     },
     "metadata": {},
     "output_type": "display_data"
    },
    {
     "name": "stdout",
     "output_type": "stream",
     "text": [
      "Playing poisoned audio for sample 1\n"
     ]
    },
    {
     "data": {
      "text/html": [
       "\n",
       "                <audio  controls=\"controls\" >\n",
       "                    <source src=\"data:audio/wav;base64,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\" type=\"audio/wav\" />\n",
       "                    Your browser does not support the audio element.\n",
       "                </audio>\n",
       "              "
      ],
      "text/plain": [
       "<IPython.lib.display.Audio object>"
      ]
     },
     "metadata": {},
     "output_type": "display_data"
    },
    {
     "name": "stderr",
     "output_type": "stream",
     "text": [
      "100%|██████████| 75/75 [02:19<00:00,  1.86s/it]\n"
     ]
    },
    {
     "name": "stdout",
     "output_type": "stream",
     "text": [
      "Epoch 0, Loss: 0.7844725173975652, Training Accuracy: 92.45833333333333\n",
      "Backdoor Attack Success Rate: 100.0\n",
      "Clean Accuracy Drop: 3.5\n"
     ]
    }
   ],
   "source": [
    "for poisoning_rate, noise_path in product(poisoning_rates, noise_paths):\n",
    "    print(f\"Running experiment with poisoning_rate={poisoning_rate} and noise_path={noise_path}\")\n",
    "\n",
    "    poisoned_train_dataset = PoisonedAudioDatasetWhisper(\n",
    "        train_data,\n",
    "        processor,\n",
    "        target_label=target_label,\n",
    "        poisoning_rate=poisoning_rate,\n",
    "        noise_path = noise_path,\n",
    "        play_samples=True\n",
    "    )\n",
    "\n",
    "    poisoned_train_loader = DataLoader(poisoned_train_dataset, batch_size=32, shuffle=True, collate_fn=pre_dataloader)\n",
    "\n",
    "    model = WhisperForConditionalGeneration.from_pretrained(\"openai/whisper-tiny.en\").to(device)\n",
    "    optimizer = AdamW(model.parameters(), lr=1e-4)\n",
    "\n",
    "    for epoch in range(epochs):\n",
    "        train_whisper_poisoned(model, processor, poisoned_train_loader, optimizer, epoch, device)\n",
    "\n",
    "    test_data_bkdr = backdoor_test_data_set(test_data, target_label)\n",
    "\n",
    "    backdoor_test_dataset = PoisonedAudioDatasetWhisper(\n",
    "        test_data_bkdr,\n",
    "        processor,\n",
    "        target_label=target_label,\n",
    "        poisoning_rate=1.0,\n",
    "        noise_path = noise_path,\n",
    "        play_samples=False\n",
    "    )\n",
    "\n",
    "    backdoor_test_loader = DataLoader(backdoor_test_dataset, batch_size=32, shuffle=False, collate_fn=pre_dataloader)\n",
    "\n",
    "    backdoor_success_rate, clean_accuracy_after, clean_accuracy_drop = test_backdoor_attack(\n",
    "        model,\n",
    "        backdoor_test_loader,\n",
    "        processor,\n",
    "        target_label,\n",
    "        device,\n",
    "        clean_test_loader,\n",
    "        original_clean_accuracy\n",
    "    )\n",
    "\n",
    "    results.append({\n",
    "        'poisoning_rate': poisoning_rate,\n",
    "        'noise_path' : noise_path,\n",
    "        'backdoor_success_rate': backdoor_success_rate,\n",
    "        'clean_accuracy_after': clean_accuracy_after,\n",
    "        'clean_accuracy_drop': clean_accuracy_drop\n",
    "    })"
   ]
  },
  {
   "cell_type": "code",
   "execution_count": 24,
   "id": "2e3a3c37",
   "metadata": {
    "execution": {
     "iopub.execute_input": "2024-11-23T13:05:09.911062Z",
     "iopub.status.busy": "2024-11-23T13:05:09.910163Z",
     "iopub.status.idle": "2024-11-23T13:05:09.915811Z",
     "shell.execute_reply": "2024-11-23T13:05:09.914994Z"
    },
    "id": "oTrA_yT8V6A4",
    "papermill": {
     "duration": 0.070897,
     "end_time": "2024-11-23T13:05:09.917667",
     "exception": false,
     "start_time": "2024-11-23T13:05:09.846770",
     "status": "completed"
    },
    "tags": []
   },
   "outputs": [],
   "source": [
    "results_df = pd.DataFrame(results)"
   ]
  },
  {
   "cell_type": "code",
   "execution_count": 25,
   "id": "77000a7e",
   "metadata": {
    "execution": {
     "iopub.execute_input": "2024-11-23T13:05:10.040990Z",
     "iopub.status.busy": "2024-11-23T13:05:10.040329Z",
     "iopub.status.idle": "2024-11-23T13:05:10.055262Z",
     "shell.execute_reply": "2024-11-23T13:05:10.054299Z"
    },
    "id": "sKXLSQvgV6A4",
    "outputId": "f54eba5b-7069-49ea-8595-d86206199fd3",
    "papermill": {
     "duration": 0.078283,
     "end_time": "2024-11-23T13:05:10.057033",
     "exception": false,
     "start_time": "2024-11-23T13:05:09.978750",
     "status": "completed"
    },
    "tags": []
   },
   "outputs": [
    {
     "data": {
      "text/html": [
       "<div>\n",
       "<style scoped>\n",
       "    .dataframe tbody tr th:only-of-type {\n",
       "        vertical-align: middle;\n",
       "    }\n",
       "\n",
       "    .dataframe tbody tr th {\n",
       "        vertical-align: top;\n",
       "    }\n",
       "\n",
       "    .dataframe thead th {\n",
       "        text-align: right;\n",
       "    }\n",
       "</style>\n",
       "<table border=\"1\" class=\"dataframe\">\n",
       "  <thead>\n",
       "    <tr style=\"text-align: right;\">\n",
       "      <th></th>\n",
       "      <th>poisoning_rate</th>\n",
       "      <th>noise_path</th>\n",
       "      <th>backdoor_success_rate</th>\n",
       "      <th>clean_accuracy_after</th>\n",
       "      <th>clean_accuracy_drop</th>\n",
       "    </tr>\n",
       "  </thead>\n",
       "  <tbody>\n",
       "    <tr>\n",
       "      <th>0</th>\n",
       "      <td>0.01</td>\n",
       "      <td>/kaggle/input/background/StreetWorkDrill.wav</td>\n",
       "      <td>82.592593</td>\n",
       "      <td>99.166667</td>\n",
       "      <td>-2.333333</td>\n",
       "    </tr>\n",
       "    <tr>\n",
       "      <th>1</th>\n",
       "      <td>0.01</td>\n",
       "      <td>/kaggle/input/background/beescrickets2.wav</td>\n",
       "      <td>4.814815</td>\n",
       "      <td>98.000000</td>\n",
       "      <td>-1.166667</td>\n",
       "    </tr>\n",
       "    <tr>\n",
       "      <th>2</th>\n",
       "      <td>0.05</td>\n",
       "      <td>/kaggle/input/background/StreetWorkDrill.wav</td>\n",
       "      <td>98.518519</td>\n",
       "      <td>99.166667</td>\n",
       "      <td>-2.333333</td>\n",
       "    </tr>\n",
       "    <tr>\n",
       "      <th>3</th>\n",
       "      <td>0.05</td>\n",
       "      <td>/kaggle/input/background/beescrickets2.wav</td>\n",
       "      <td>94.444444</td>\n",
       "      <td>98.500000</td>\n",
       "      <td>-1.666667</td>\n",
       "    </tr>\n",
       "    <tr>\n",
       "      <th>4</th>\n",
       "      <td>0.10</td>\n",
       "      <td>/kaggle/input/background/StreetWorkDrill.wav</td>\n",
       "      <td>100.000000</td>\n",
       "      <td>98.166667</td>\n",
       "      <td>-1.333333</td>\n",
       "    </tr>\n",
       "    <tr>\n",
       "      <th>5</th>\n",
       "      <td>0.10</td>\n",
       "      <td>/kaggle/input/background/beescrickets2.wav</td>\n",
       "      <td>100.000000</td>\n",
       "      <td>93.333333</td>\n",
       "      <td>3.500000</td>\n",
       "    </tr>\n",
       "  </tbody>\n",
       "</table>\n",
       "</div>"
      ],
      "text/plain": [
       "   poisoning_rate                                    noise_path  \\\n",
       "0            0.01  /kaggle/input/background/StreetWorkDrill.wav   \n",
       "1            0.01    /kaggle/input/background/beescrickets2.wav   \n",
       "2            0.05  /kaggle/input/background/StreetWorkDrill.wav   \n",
       "3            0.05    /kaggle/input/background/beescrickets2.wav   \n",
       "4            0.10  /kaggle/input/background/StreetWorkDrill.wav   \n",
       "5            0.10    /kaggle/input/background/beescrickets2.wav   \n",
       "\n",
       "   backdoor_success_rate  clean_accuracy_after  clean_accuracy_drop  \n",
       "0              82.592593             99.166667            -2.333333  \n",
       "1               4.814815             98.000000            -1.166667  \n",
       "2              98.518519             99.166667            -2.333333  \n",
       "3              94.444444             98.500000            -1.666667  \n",
       "4             100.000000             98.166667            -1.333333  \n",
       "5             100.000000             93.333333             3.500000  "
      ]
     },
     "execution_count": 25,
     "metadata": {},
     "output_type": "execute_result"
    }
   ],
   "source": [
    "results_df"
   ]
  },
  {
   "cell_type": "code",
   "execution_count": 26,
   "id": "fe2bc32a",
   "metadata": {
    "execution": {
     "iopub.execute_input": "2024-11-23T13:05:10.180495Z",
     "iopub.status.busy": "2024-11-23T13:05:10.179817Z",
     "iopub.status.idle": "2024-11-23T13:05:10.188547Z",
     "shell.execute_reply": "2024-11-23T13:05:10.187710Z"
    },
    "id": "BZwv3g6TV6A4",
    "papermill": {
     "duration": 0.073203,
     "end_time": "2024-11-23T13:05:10.190372",
     "exception": false,
     "start_time": "2024-11-23T13:05:10.117169",
     "status": "completed"
    },
    "tags": []
   },
   "outputs": [],
   "source": [
    "results_df.to_csv('Whisper-SD-BKDR-Background.csv', sep='\\t', index=False)"
   ]
  }
 ],
 "metadata": {
  "colab": {
   "provenance": []
  },
  "kaggle": {
   "accelerator": "gpu",
   "dataSources": [
    {
     "datasetId": 5801049,
     "sourceId": 9526431,
     "sourceType": "datasetVersion"
    },
    {
     "datasetId": 5789127,
     "sourceId": 9510683,
     "sourceType": "datasetVersion"
    }
   ],
   "isGpuEnabled": true,
   "isInternetEnabled": true,
   "language": "python",
   "sourceType": "notebook"
  },
  "kernelspec": {
   "display_name": "Python 3",
   "language": "python",
   "name": "python3"
  },
  "language_info": {
   "codemirror_mode": {
    "name": "ipython",
    "version": 3
   },
   "file_extension": ".py",
   "mimetype": "text/x-python",
   "name": "python",
   "nbconvert_exporter": "python",
   "pygments_lexer": "ipython3",
   "version": "3.10.14"
  },
  "papermill": {
   "default_parameters": {},
   "duration": 1208.16434,
   "end_time": "2024-11-23T13:05:13.251851",
   "environment_variables": {},
   "exception": null,
   "input_path": "__notebook__.ipynb",
   "output_path": "__notebook__.ipynb",
   "parameters": {},
   "start_time": "2024-11-23T12:45:05.087511",
   "version": "2.6.0"
  },
  "widgets": {
   "application/vnd.jupyter.widget-state+json": {
    "state": {
     "016825a0ea3e4d4688b69bea880d59c9": {
      "model_module": "@jupyter-widgets/controls",
      "model_module_version": "1.5.0",
      "model_name": "FloatProgressModel",
      "state": {
       "_dom_classes": [],
       "_model_module": "@jupyter-widgets/controls",
       "_model_module_version": "1.5.0",
       "_model_name": "FloatProgressModel",
       "_view_count": null,
       "_view_module": "@jupyter-widgets/controls",
       "_view_module_version": "1.5.0",
       "_view_name": "ProgressView",
       "bar_style": "success",
       "description": "",
       "description_tooltip": null,
       "layout": "IPY_MODEL_a4062c76ee674e21bcbc492307efc294",
       "max": 1937.0,
       "min": 0.0,
       "orientation": "horizontal",
       "style": "IPY_MODEL_3b5d3d3404cc4fb183fdec9b5bc86c99",
       "value": 1937.0
      }
     },
     "0201b4563581461dba4dda47bbfde5e2": {
      "model_module": "@jupyter-widgets/controls",
      "model_module_version": "1.5.0",
      "model_name": "HTMLModel",
      "state": {
       "_dom_classes": [],
       "_model_module": "@jupyter-widgets/controls",
       "_model_module_version": "1.5.0",
       "_model_name": "HTMLModel",
       "_view_count": null,
       "_view_module": "@jupyter-widgets/controls",
       "_view_module_version": "1.5.0",
       "_view_name": "HTMLView",
       "description": "",
       "description_tooltip": null,
       "layout": "IPY_MODEL_ca00da69a2f94c72915c6e7b118de6a5",
       "placeholder": "​",
       "style": "IPY_MODEL_c5aa4914434c4b048f7a7926072b1319",
       "value": " 1.62k/1.62k [00:00&lt;00:00, 151kB/s]"
      }
     },
     "05e1365567644e45bec43918aebe436d": {
      "model_module": "@jupyter-widgets/controls",
      "model_module_version": "1.5.0",
      "model_name": "ProgressStyleModel",
      "state": {
       "_model_module": "@jupyter-widgets/controls",
       "_model_module_version": "1.5.0",
       "_model_name": "ProgressStyleModel",
       "_view_count": null,
       "_view_module": "@jupyter-widgets/base",
       "_view_module_version": "1.2.0",
       "_view_name": "StyleView",
       "bar_color": null,
       "description_width": ""
      }
     },
     "09aba4baa0db46b9a5eea0e690b4cf15": {
      "model_module": "@jupyter-widgets/base",
      "model_module_version": "1.2.0",
      "model_name": "LayoutModel",
      "state": {
       "_model_module": "@jupyter-widgets/base",
       "_model_module_version": "1.2.0",
       "_model_name": "LayoutModel",
       "_view_count": null,
       "_view_module": "@jupyter-widgets/base",
       "_view_module_version": "1.2.0",
       "_view_name": "LayoutView",
       "align_content": null,
       "align_items": null,
       "align_self": null,
       "border": null,
       "bottom": null,
       "display": null,
       "flex": null,
       "flex_flow": null,
       "grid_area": null,
       "grid_auto_columns": null,
       "grid_auto_flow": null,
       "grid_auto_rows": null,
       "grid_column": null,
       "grid_gap": null,
       "grid_row": null,
       "grid_template_areas": null,
       "grid_template_columns": null,
       "grid_template_rows": null,
       "height": null,
       "justify_content": null,
       "justify_items": null,
       "left": null,
       "margin": null,
       "max_height": null,
       "max_width": null,
       "min_height": null,
       "min_width": null,
       "object_fit": null,
       "object_position": null,
       "order": null,
       "overflow": null,
       "overflow_x": null,
       "overflow_y": null,
       "padding": null,
       "right": null,
       "top": null,
       "visibility": null,
       "width": null
      }
     },
     "0a5442d56d06472e9cb422f5fb6b1353": {
      "model_module": "@jupyter-widgets/controls",
      "model_module_version": "1.5.0",
      "model_name": "DescriptionStyleModel",
      "state": {
       "_model_module": "@jupyter-widgets/controls",
       "_model_module_version": "1.5.0",
       "_model_name": "DescriptionStyleModel",
       "_view_count": null,
       "_view_module": "@jupyter-widgets/base",
       "_view_module_version": "1.2.0",
       "_view_name": "StyleView",
       "description_width": ""
      }
     },
     "0ac76dd04ace460c957682984f6f3ba7": {
      "model_module": "@jupyter-widgets/controls",
      "model_module_version": "1.5.0",
      "model_name": "ProgressStyleModel",
      "state": {
       "_model_module": "@jupyter-widgets/controls",
       "_model_module_version": "1.5.0",
       "_model_name": "ProgressStyleModel",
       "_view_count": null,
       "_view_module": "@jupyter-widgets/base",
       "_view_module_version": "1.2.0",
       "_view_name": "StyleView",
       "bar_color": null,
       "description_width": ""
      }
     },
     "0c7b60290dad4143954c5e7b60c396c4": {
      "model_module": "@jupyter-widgets/base",
      "model_module_version": "1.2.0",
      "model_name": "LayoutModel",
      "state": {
       "_model_module": "@jupyter-widgets/base",
       "_model_module_version": "1.2.0",
       "_model_name": "LayoutModel",
       "_view_count": null,
       "_view_module": "@jupyter-widgets/base",
       "_view_module_version": "1.2.0",
       "_view_name": "LayoutView",
       "align_content": null,
       "align_items": null,
       "align_self": null,
       "border": null,
       "bottom": null,
       "display": null,
       "flex": null,
       "flex_flow": null,
       "grid_area": null,
       "grid_auto_columns": null,
       "grid_auto_flow": null,
       "grid_auto_rows": null,
       "grid_column": null,
       "grid_gap": null,
       "grid_row": null,
       "grid_template_areas": null,
       "grid_template_columns": null,
       "grid_template_rows": null,
       "height": null,
       "justify_content": null,
       "justify_items": null,
       "left": null,
       "margin": null,
       "max_height": null,
       "max_width": null,
       "min_height": null,
       "min_width": null,
       "object_fit": null,
       "object_position": null,
       "order": null,
       "overflow": null,
       "overflow_x": null,
       "overflow_y": null,
       "padding": null,
       "right": null,
       "top": null,
       "visibility": null,
       "width": null
      }
     },
     "0df0cbefb6bd452a8eed8828700f3c5a": {
      "model_module": "@jupyter-widgets/controls",
      "model_module_version": "1.5.0",
      "model_name": "DescriptionStyleModel",
      "state": {
       "_model_module": "@jupyter-widgets/controls",
       "_model_module_version": "1.5.0",
       "_model_name": "DescriptionStyleModel",
       "_view_count": null,
       "_view_module": "@jupyter-widgets/base",
       "_view_module_version": "1.2.0",
       "_view_name": "StyleView",
       "description_width": ""
      }
     },
     "1108a0eed53c498792cff8c91b977bcc": {
      "model_module": "@jupyter-widgets/controls",
      "model_module_version": "1.5.0",
      "model_name": "HBoxModel",
      "state": {
       "_dom_classes": [],
       "_model_module": "@jupyter-widgets/controls",
       "_model_module_version": "1.5.0",
       "_model_name": "HBoxModel",
       "_view_count": null,
       "_view_module": "@jupyter-widgets/controls",
       "_view_module_version": "1.5.0",
       "_view_name": "HBoxView",
       "box_style": "",
       "children": [
        "IPY_MODEL_30b03701bb0a4c43b0f8b3d65f555883",
        "IPY_MODEL_e03990caee99460f99f942ed6917d84c",
        "IPY_MODEL_2c1b6cd3e2434e6e96a4fed8501d3a1e"
       ],
       "layout": "IPY_MODEL_8c1f0f32e33041298ee41c12e39f335e"
      }
     },
     "14678d220cab4c70a63372d90d0c9fc3": {
      "model_module": "@jupyter-widgets/controls",
      "model_module_version": "1.5.0",
      "model_name": "DescriptionStyleModel",
      "state": {
       "_model_module": "@jupyter-widgets/controls",
       "_model_module_version": "1.5.0",
       "_model_name": "DescriptionStyleModel",
       "_view_count": null,
       "_view_module": "@jupyter-widgets/base",
       "_view_module_version": "1.2.0",
       "_view_name": "StyleView",
       "description_width": ""
      }
     },
     "1517776a6a5c4bf2a2ba649af4205eb0": {
      "model_module": "@jupyter-widgets/controls",
      "model_module_version": "1.5.0",
      "model_name": "DescriptionStyleModel",
      "state": {
       "_model_module": "@jupyter-widgets/controls",
       "_model_module_version": "1.5.0",
       "_model_name": "DescriptionStyleModel",
       "_view_count": null,
       "_view_module": "@jupyter-widgets/base",
       "_view_module_version": "1.2.0",
       "_view_name": "StyleView",
       "description_width": ""
      }
     },
     "163d07f9d8884c74bf21430765c31a1c": {
      "model_module": "@jupyter-widgets/base",
      "model_module_version": "1.2.0",
      "model_name": "LayoutModel",
      "state": {
       "_model_module": "@jupyter-widgets/base",
       "_model_module_version": "1.2.0",
       "_model_name": "LayoutModel",
       "_view_count": null,
       "_view_module": "@jupyter-widgets/base",
       "_view_module_version": "1.2.0",
       "_view_name": "LayoutView",
       "align_content": null,
       "align_items": null,
       "align_self": null,
       "border": null,
       "bottom": null,
       "display": null,
       "flex": null,
       "flex_flow": null,
       "grid_area": null,
       "grid_auto_columns": null,
       "grid_auto_flow": null,
       "grid_auto_rows": null,
       "grid_column": null,
       "grid_gap": null,
       "grid_row": null,
       "grid_template_areas": null,
       "grid_template_columns": null,
       "grid_template_rows": null,
       "height": null,
       "justify_content": null,
       "justify_items": null,
       "left": null,
       "margin": null,
       "max_height": null,
       "max_width": null,
       "min_height": null,
       "min_width": null,
       "object_fit": null,
       "object_position": null,
       "order": null,
       "overflow": null,
       "overflow_x": null,
       "overflow_y": null,
       "padding": null,
       "right": null,
       "top": null,
       "visibility": null,
       "width": null
      }
     },
     "1b378d9aba8f4c8aa56f3c7ce8920d30": {
      "model_module": "@jupyter-widgets/base",
      "model_module_version": "1.2.0",
      "model_name": "LayoutModel",
      "state": {
       "_model_module": "@jupyter-widgets/base",
       "_model_module_version": "1.2.0",
       "_model_name": "LayoutModel",
       "_view_count": null,
       "_view_module": "@jupyter-widgets/base",
       "_view_module_version": "1.2.0",
       "_view_name": "LayoutView",
       "align_content": null,
       "align_items": null,
       "align_self": null,
       "border": null,
       "bottom": null,
       "display": null,
       "flex": null,
       "flex_flow": null,
       "grid_area": null,
       "grid_auto_columns": null,
       "grid_auto_flow": null,
       "grid_auto_rows": null,
       "grid_column": null,
       "grid_gap": null,
       "grid_row": null,
       "grid_template_areas": null,
       "grid_template_columns": null,
       "grid_template_rows": null,
       "height": null,
       "justify_content": null,
       "justify_items": null,
       "left": null,
       "margin": null,
       "max_height": null,
       "max_width": null,
       "min_height": null,
       "min_width": null,
       "object_fit": null,
       "object_position": null,
       "order": null,
       "overflow": null,
       "overflow_x": null,
       "overflow_y": null,
       "padding": null,
       "right": null,
       "top": null,
       "visibility": null,
       "width": null
      }
     },
     "1b48f97b4733404b92eb39c888a7e846": {
      "model_module": "@jupyter-widgets/base",
      "model_module_version": "1.2.0",
      "model_name": "LayoutModel",
      "state": {
       "_model_module": "@jupyter-widgets/base",
       "_model_module_version": "1.2.0",
       "_model_name": "LayoutModel",
       "_view_count": null,
       "_view_module": "@jupyter-widgets/base",
       "_view_module_version": "1.2.0",
       "_view_name": "LayoutView",
       "align_content": null,
       "align_items": null,
       "align_self": null,
       "border": null,
       "bottom": null,
       "display": null,
       "flex": null,
       "flex_flow": null,
       "grid_area": null,
       "grid_auto_columns": null,
       "grid_auto_flow": null,
       "grid_auto_rows": null,
       "grid_column": null,
       "grid_gap": null,
       "grid_row": null,
       "grid_template_areas": null,
       "grid_template_columns": null,
       "grid_template_rows": null,
       "height": null,
       "justify_content": null,
       "justify_items": null,
       "left": null,
       "margin": null,
       "max_height": null,
       "max_width": null,
       "min_height": null,
       "min_width": null,
       "object_fit": null,
       "object_position": null,
       "order": null,
       "overflow": null,
       "overflow_x": null,
       "overflow_y": null,
       "padding": null,
       "right": null,
       "top": null,
       "visibility": null,
       "width": null
      }
     },
     "1b6ecc2778fb49dfa37b8b00f97865a9": {
      "model_module": "@jupyter-widgets/controls",
      "model_module_version": "1.5.0",
      "model_name": "DescriptionStyleModel",
      "state": {
       "_model_module": "@jupyter-widgets/controls",
       "_model_module_version": "1.5.0",
       "_model_name": "DescriptionStyleModel",
       "_view_count": null,
       "_view_module": "@jupyter-widgets/base",
       "_view_module_version": "1.2.0",
       "_view_name": "StyleView",
       "description_width": ""
      }
     },
     "1b802be5a6a04addba3ac04321f31a71": {
      "model_module": "@jupyter-widgets/controls",
      "model_module_version": "1.5.0",
      "model_name": "HTMLModel",
      "state": {
       "_dom_classes": [],
       "_model_module": "@jupyter-widgets/controls",
       "_model_module_version": "1.5.0",
       "_model_name": "HTMLModel",
       "_view_count": null,
       "_view_module": "@jupyter-widgets/controls",
       "_view_module_version": "1.5.0",
       "_view_name": "HTMLView",
       "description": "",
       "description_tooltip": null,
       "layout": "IPY_MODEL_7796d299887c4066ae53702d3bef25ed",
       "placeholder": "​",
       "style": "IPY_MODEL_64dbfd51009143f8939182323109e5b6",
       "value": "preprocessor_config.json: 100%"
      }
     },
     "1de11338e8714da7b3b665862469e6b7": {
      "model_module": "@jupyter-widgets/controls",
      "model_module_version": "1.5.0",
      "model_name": "FloatProgressModel",
      "state": {
       "_dom_classes": [],
       "_model_module": "@jupyter-widgets/controls",
       "_model_module_version": "1.5.0",
       "_model_name": "FloatProgressModel",
       "_view_count": null,
       "_view_module": "@jupyter-widgets/controls",
       "_view_module_version": "1.5.0",
       "_view_name": "ProgressView",
       "bar_style": "success",
       "description": "",
       "description_tooltip": null,
       "layout": "IPY_MODEL_958d625f75ee4f29af47606dd259d1ae",
       "max": 151060136.0,
       "min": 0.0,
       "orientation": "horizontal",
       "style": "IPY_MODEL_635c814e12694a5ba859bacb3eb301fc",
       "value": 151060136.0
      }
     },
     "1e324166cb4e44bcbba34768fb1d6606": {
      "model_module": "@jupyter-widgets/base",
      "model_module_version": "1.2.0",
      "model_name": "LayoutModel",
      "state": {
       "_model_module": "@jupyter-widgets/base",
       "_model_module_version": "1.2.0",
       "_model_name": "LayoutModel",
       "_view_count": null,
       "_view_module": "@jupyter-widgets/base",
       "_view_module_version": "1.2.0",
       "_view_name": "LayoutView",
       "align_content": null,
       "align_items": null,
       "align_self": null,
       "border": null,
       "bottom": null,
       "display": null,
       "flex": null,
       "flex_flow": null,
       "grid_area": null,
       "grid_auto_columns": null,
       "grid_auto_flow": null,
       "grid_auto_rows": null,
       "grid_column": null,
       "grid_gap": null,
       "grid_row": null,
       "grid_template_areas": null,
       "grid_template_columns": null,
       "grid_template_rows": null,
       "height": null,
       "justify_content": null,
       "justify_items": null,
       "left": null,
       "margin": null,
       "max_height": null,
       "max_width": null,
       "min_height": null,
       "min_width": null,
       "object_fit": null,
       "object_position": null,
       "order": null,
       "overflow": null,
       "overflow_x": null,
       "overflow_y": null,
       "padding": null,
       "right": null,
       "top": null,
       "visibility": null,
       "width": null
      }
     },
     "23344f7bdd9c4e178dccc17f689617c0": {
      "model_module": "@jupyter-widgets/controls",
      "model_module_version": "1.5.0",
      "model_name": "HBoxModel",
      "state": {
       "_dom_classes": [],
       "_model_module": "@jupyter-widgets/controls",
       "_model_module_version": "1.5.0",
       "_model_name": "HBoxModel",
       "_view_count": null,
       "_view_module": "@jupyter-widgets/controls",
       "_view_module_version": "1.5.0",
       "_view_name": "HBoxView",
       "box_style": "",
       "children": [
        "IPY_MODEL_31c9d91941d74d1fbe037555b5885959",
        "IPY_MODEL_71164ca0325f42e2a48e38705daed87f",
        "IPY_MODEL_5d1de812ef374d7ba6dd6a0abc9884db"
       ],
       "layout": "IPY_MODEL_6a97c76b99334619a9f329eb4ed06f39"
      }
     },
     "233d358befb545ccacc5c79bf4fef058": {
      "model_module": "@jupyter-widgets/controls",
      "model_module_version": "1.5.0",
      "model_name": "HTMLModel",
      "state": {
       "_dom_classes": [],
       "_model_module": "@jupyter-widgets/controls",
       "_model_module_version": "1.5.0",
       "_model_name": "HTMLModel",
       "_view_count": null,
       "_view_module": "@jupyter-widgets/controls",
       "_view_module_version": "1.5.0",
       "_view_name": "HTMLView",
       "description": "",
       "description_tooltip": null,
       "layout": "IPY_MODEL_56bd40014be84cfb91a8bc480e3b85f6",
       "placeholder": "​",
       "style": "IPY_MODEL_c51cd4db9b90470099160a1ecaef9622",
       "value": "tokenizer.json: 100%"
      }
     },
     "238ac351ec744f87aa05a7796e2ed36d": {
      "model_module": "@jupyter-widgets/controls",
      "model_module_version": "1.5.0",
      "model_name": "HTMLModel",
      "state": {
       "_dom_classes": [],
       "_model_module": "@jupyter-widgets/controls",
       "_model_module_version": "1.5.0",
       "_model_name": "HTMLModel",
       "_view_count": null,
       "_view_module": "@jupyter-widgets/controls",
       "_view_module_version": "1.5.0",
       "_view_name": "HTMLView",
       "description": "",
       "description_tooltip": null,
       "layout": "IPY_MODEL_cc2cbbfd336e4745b5f746d4a6360d4f",
       "placeholder": "​",
       "style": "IPY_MODEL_4c867328e456488eae09db8676973916",
       "value": "config.json: 100%"
      }
     },
     "265a28fa404a4bc2a1360d82ac7f0229": {
      "model_module": "@jupyter-widgets/base",
      "model_module_version": "1.2.0",
      "model_name": "LayoutModel",
      "state": {
       "_model_module": "@jupyter-widgets/base",
       "_model_module_version": "1.2.0",
       "_model_name": "LayoutModel",
       "_view_count": null,
       "_view_module": "@jupyter-widgets/base",
       "_view_module_version": "1.2.0",
       "_view_name": "LayoutView",
       "align_content": null,
       "align_items": null,
       "align_self": null,
       "border": null,
       "bottom": null,
       "display": null,
       "flex": null,
       "flex_flow": null,
       "grid_area": null,
       "grid_auto_columns": null,
       "grid_auto_flow": null,
       "grid_auto_rows": null,
       "grid_column": null,
       "grid_gap": null,
       "grid_row": null,
       "grid_template_areas": null,
       "grid_template_columns": null,
       "grid_template_rows": null,
       "height": null,
       "justify_content": null,
       "justify_items": null,
       "left": null,
       "margin": null,
       "max_height": null,
       "max_width": null,
       "min_height": null,
       "min_width": null,
       "object_fit": null,
       "object_position": null,
       "order": null,
       "overflow": null,
       "overflow_x": null,
       "overflow_y": null,
       "padding": null,
       "right": null,
       "top": null,
       "visibility": null,
       "width": null
      }
     },
     "27fd8f78c8b1475ebfd9b1db10166516": {
      "model_module": "@jupyter-widgets/controls",
      "model_module_version": "1.5.0",
      "model_name": "HBoxModel",
      "state": {
       "_dom_classes": [],
       "_model_module": "@jupyter-widgets/controls",
       "_model_module_version": "1.5.0",
       "_model_name": "HBoxModel",
       "_view_count": null,
       "_view_module": "@jupyter-widgets/controls",
       "_view_module_version": "1.5.0",
       "_view_name": "HBoxView",
       "box_style": "",
       "children": [
        "IPY_MODEL_233d358befb545ccacc5c79bf4fef058",
        "IPY_MODEL_5cb1e9defb2046a4b52a8c941757b28c",
        "IPY_MODEL_5ff92d106a514d3eb5bb06ad2d508b64"
       ],
       "layout": "IPY_MODEL_e040e644551c4bd9872cd485d1e3b4d2"
      }
     },
     "29f947e90adf481a9c5d7f7fafb77593": {
      "model_module": "@jupyter-widgets/controls",
      "model_module_version": "1.5.0",
      "model_name": "ProgressStyleModel",
      "state": {
       "_model_module": "@jupyter-widgets/controls",
       "_model_module_version": "1.5.0",
       "_model_name": "ProgressStyleModel",
       "_view_count": null,
       "_view_module": "@jupyter-widgets/base",
       "_view_module_version": "1.2.0",
       "_view_name": "StyleView",
       "bar_color": null,
       "description_width": ""
      }
     },
     "2c1b6cd3e2434e6e96a4fed8501d3a1e": {
      "model_module": "@jupyter-widgets/controls",
      "model_module_version": "1.5.0",
      "model_name": "HTMLModel",
      "state": {
       "_dom_classes": [],
       "_model_module": "@jupyter-widgets/controls",
       "_model_module_version": "1.5.0",
       "_model_name": "HTMLModel",
       "_view_count": null,
       "_view_module": "@jupyter-widgets/controls",
       "_view_module_version": "1.5.0",
       "_view_name": "HTMLView",
       "description": "",
       "description_tooltip": null,
       "layout": "IPY_MODEL_b61e90fb1d7d460593f2777caff153d3",
       "placeholder": "​",
       "style": "IPY_MODEL_9a310feb91264541b95e357af4d98300",
       "value": " 456k/456k [00:00&lt;00:00, 5.07MB/s]"
      }
     },
     "2df74a3b8603408c9be5b14105716ca1": {
      "model_module": "@jupyter-widgets/controls",
      "model_module_version": "1.5.0",
      "model_name": "HTMLModel",
      "state": {
       "_dom_classes": [],
       "_model_module": "@jupyter-widgets/controls",
       "_model_module_version": "1.5.0",
       "_model_name": "HTMLModel",
       "_view_count": null,
       "_view_module": "@jupyter-widgets/controls",
       "_view_module_version": "1.5.0",
       "_view_name": "HTMLView",
       "description": "",
       "description_tooltip": null,
       "layout": "IPY_MODEL_a4e09d9ac2fd455fb9f984ba16c25097",
       "placeholder": "​",
       "style": "IPY_MODEL_14678d220cab4c70a63372d90d0c9fc3",
       "value": "model.safetensors: 100%"
      }
     },
     "2e400fe9371b4233aaef55d5a20c1ca8": {
      "model_module": "@jupyter-widgets/base",
      "model_module_version": "1.2.0",
      "model_name": "LayoutModel",
      "state": {
       "_model_module": "@jupyter-widgets/base",
       "_model_module_version": "1.2.0",
       "_model_name": "LayoutModel",
       "_view_count": null,
       "_view_module": "@jupyter-widgets/base",
       "_view_module_version": "1.2.0",
       "_view_name": "LayoutView",
       "align_content": null,
       "align_items": null,
       "align_self": null,
       "border": null,
       "bottom": null,
       "display": null,
       "flex": null,
       "flex_flow": null,
       "grid_area": null,
       "grid_auto_columns": null,
       "grid_auto_flow": null,
       "grid_auto_rows": null,
       "grid_column": null,
       "grid_gap": null,
       "grid_row": null,
       "grid_template_areas": null,
       "grid_template_columns": null,
       "grid_template_rows": null,
       "height": null,
       "justify_content": null,
       "justify_items": null,
       "left": null,
       "margin": null,
       "max_height": null,
       "max_width": null,
       "min_height": null,
       "min_width": null,
       "object_fit": null,
       "object_position": null,
       "order": null,
       "overflow": null,
       "overflow_x": null,
       "overflow_y": null,
       "padding": null,
       "right": null,
       "top": null,
       "visibility": null,
       "width": null
      }
     },
     "30b03701bb0a4c43b0f8b3d65f555883": {
      "model_module": "@jupyter-widgets/controls",
      "model_module_version": "1.5.0",
      "model_name": "HTMLModel",
      "state": {
       "_dom_classes": [],
       "_model_module": "@jupyter-widgets/controls",
       "_model_module_version": "1.5.0",
       "_model_name": "HTMLModel",
       "_view_count": null,
       "_view_module": "@jupyter-widgets/controls",
       "_view_module_version": "1.5.0",
       "_view_name": "HTMLView",
       "description": "",
       "description_tooltip": null,
       "layout": "IPY_MODEL_c4fa54e79c3b4e3587f046fc9aff636f",
       "placeholder": "​",
       "style": "IPY_MODEL_7e20c30873924b7cbbfd24ea435c4035",
       "value": "merges.txt: 100%"
      }
     },
     "31c9d91941d74d1fbe037555b5885959": {
      "model_module": "@jupyter-widgets/controls",
      "model_module_version": "1.5.0",
      "model_name": "HTMLModel",
      "state": {
       "_dom_classes": [],
       "_model_module": "@jupyter-widgets/controls",
       "_model_module_version": "1.5.0",
       "_model_name": "HTMLModel",
       "_view_count": null,
       "_view_module": "@jupyter-widgets/controls",
       "_view_module_version": "1.5.0",
       "_view_name": "HTMLView",
       "description": "",
       "description_tooltip": null,
       "layout": "IPY_MODEL_e109d4924d4f4e7597de3616e50294d3",
       "placeholder": "​",
       "style": "IPY_MODEL_5d17538bbbb54cd092a01ea9e2bb6219",
       "value": "special_tokens_map.json: 100%"
      }
     },
     "33c31c2cf9fd47c983fe6c9aef9cac4c": {
      "model_module": "@jupyter-widgets/base",
      "model_module_version": "1.2.0",
      "model_name": "LayoutModel",
      "state": {
       "_model_module": "@jupyter-widgets/base",
       "_model_module_version": "1.2.0",
       "_model_name": "LayoutModel",
       "_view_count": null,
       "_view_module": "@jupyter-widgets/base",
       "_view_module_version": "1.2.0",
       "_view_name": "LayoutView",
       "align_content": null,
       "align_items": null,
       "align_self": null,
       "border": null,
       "bottom": null,
       "display": null,
       "flex": null,
       "flex_flow": null,
       "grid_area": null,
       "grid_auto_columns": null,
       "grid_auto_flow": null,
       "grid_auto_rows": null,
       "grid_column": null,
       "grid_gap": null,
       "grid_row": null,
       "grid_template_areas": null,
       "grid_template_columns": null,
       "grid_template_rows": null,
       "height": null,
       "justify_content": null,
       "justify_items": null,
       "left": null,
       "margin": null,
       "max_height": null,
       "max_width": null,
       "min_height": null,
       "min_width": null,
       "object_fit": null,
       "object_position": null,
       "order": null,
       "overflow": null,
       "overflow_x": null,
       "overflow_y": null,
       "padding": null,
       "right": null,
       "top": null,
       "visibility": null,
       "width": null
      }
     },
     "386c85a349454feb88e34d9c5710b1f3": {
      "model_module": "@jupyter-widgets/base",
      "model_module_version": "1.2.0",
      "model_name": "LayoutModel",
      "state": {
       "_model_module": "@jupyter-widgets/base",
       "_model_module_version": "1.2.0",
       "_model_name": "LayoutModel",
       "_view_count": null,
       "_view_module": "@jupyter-widgets/base",
       "_view_module_version": "1.2.0",
       "_view_name": "LayoutView",
       "align_content": null,
       "align_items": null,
       "align_self": null,
       "border": null,
       "bottom": null,
       "display": null,
       "flex": null,
       "flex_flow": null,
       "grid_area": null,
       "grid_auto_columns": null,
       "grid_auto_flow": null,
       "grid_auto_rows": null,
       "grid_column": null,
       "grid_gap": null,
       "grid_row": null,
       "grid_template_areas": null,
       "grid_template_columns": null,
       "grid_template_rows": null,
       "height": null,
       "justify_content": null,
       "justify_items": null,
       "left": null,
       "margin": null,
       "max_height": null,
       "max_width": null,
       "min_height": null,
       "min_width": null,
       "object_fit": null,
       "object_position": null,
       "order": null,
       "overflow": null,
       "overflow_x": null,
       "overflow_y": null,
       "padding": null,
       "right": null,
       "top": null,
       "visibility": null,
       "width": null
      }
     },
     "3901ee7dfbb44abe923170141d8dcb09": {
      "model_module": "@jupyter-widgets/controls",
      "model_module_version": "1.5.0",
      "model_name": "DescriptionStyleModel",
      "state": {
       "_model_module": "@jupyter-widgets/controls",
       "_model_module_version": "1.5.0",
       "_model_name": "DescriptionStyleModel",
       "_view_count": null,
       "_view_module": "@jupyter-widgets/base",
       "_view_module_version": "1.2.0",
       "_view_name": "StyleView",
       "description_width": ""
      }
     },
     "3a906ba134d748c6bdb845e917832101": {
      "model_module": "@jupyter-widgets/controls",
      "model_module_version": "1.5.0",
      "model_name": "HTMLModel",
      "state": {
       "_dom_classes": [],
       "_model_module": "@jupyter-widgets/controls",
       "_model_module_version": "1.5.0",
       "_model_name": "HTMLModel",
       "_view_count": null,
       "_view_module": "@jupyter-widgets/controls",
       "_view_module_version": "1.5.0",
       "_view_name": "HTMLView",
       "description": "",
       "description_tooltip": null,
       "layout": "IPY_MODEL_efd3b4e198e94db6a2c2d622fdcc5c39",
       "placeholder": "​",
       "style": "IPY_MODEL_1517776a6a5c4bf2a2ba649af4205eb0",
       "value": "normalizer.json: 100%"
      }
     },
     "3b5d3d3404cc4fb183fdec9b5bc86c99": {
      "model_module": "@jupyter-widgets/controls",
      "model_module_version": "1.5.0",
      "model_name": "ProgressStyleModel",
      "state": {
       "_model_module": "@jupyter-widgets/controls",
       "_model_module_version": "1.5.0",
       "_model_name": "ProgressStyleModel",
       "_view_count": null,
       "_view_module": "@jupyter-widgets/base",
       "_view_module_version": "1.2.0",
       "_view_name": "StyleView",
       "bar_color": null,
       "description_width": ""
      }
     },
     "41c94c3db5744dbd922084265dd4032e": {
      "model_module": "@jupyter-widgets/controls",
      "model_module_version": "1.5.0",
      "model_name": "DescriptionStyleModel",
      "state": {
       "_model_module": "@jupyter-widgets/controls",
       "_model_module_version": "1.5.0",
       "_model_name": "DescriptionStyleModel",
       "_view_count": null,
       "_view_module": "@jupyter-widgets/base",
       "_view_module_version": "1.2.0",
       "_view_name": "StyleView",
       "description_width": ""
      }
     },
     "46309ce8d48648469a35a751059e53f1": {
      "model_module": "@jupyter-widgets/controls",
      "model_module_version": "1.5.0",
      "model_name": "FloatProgressModel",
      "state": {
       "_dom_classes": [],
       "_model_module": "@jupyter-widgets/controls",
       "_model_module_version": "1.5.0",
       "_model_name": "FloatProgressModel",
       "_view_count": null,
       "_view_module": "@jupyter-widgets/controls",
       "_view_module_version": "1.5.0",
       "_view_name": "ProgressView",
       "bar_style": "success",
       "description": "",
       "description_tooltip": null,
       "layout": "IPY_MODEL_0c7b60290dad4143954c5e7b60c396c4",
       "max": 52666.0,
       "min": 0.0,
       "orientation": "horizontal",
       "style": "IPY_MODEL_b995a9c8f2a7401f80deb7a178c2d2db",
       "value": 52666.0
      }
     },
     "49eb8194a3d04d659cd16e6edf943001": {
      "model_module": "@jupyter-widgets/controls",
      "model_module_version": "1.5.0",
      "model_name": "HBoxModel",
      "state": {
       "_dom_classes": [],
       "_model_module": "@jupyter-widgets/controls",
       "_model_module_version": "1.5.0",
       "_model_name": "HBoxModel",
       "_view_count": null,
       "_view_module": "@jupyter-widgets/controls",
       "_view_module_version": "1.5.0",
       "_view_name": "HBoxView",
       "box_style": "",
       "children": [
        "IPY_MODEL_238ac351ec744f87aa05a7796e2ed36d",
        "IPY_MODEL_016825a0ea3e4d4688b69bea880d59c9",
        "IPY_MODEL_bddcfe78da3c4728bfe72aca04a7a6ca"
       ],
       "layout": "IPY_MODEL_1b48f97b4733404b92eb39c888a7e846"
      }
     },
     "4c867328e456488eae09db8676973916": {
      "model_module": "@jupyter-widgets/controls",
      "model_module_version": "1.5.0",
      "model_name": "DescriptionStyleModel",
      "state": {
       "_model_module": "@jupyter-widgets/controls",
       "_model_module_version": "1.5.0",
       "_model_name": "DescriptionStyleModel",
       "_view_count": null,
       "_view_module": "@jupyter-widgets/base",
       "_view_module_version": "1.2.0",
       "_view_name": "StyleView",
       "description_width": ""
      }
     },
     "4dcb38b6d3f443bfa8b9fc21165a11f9": {
      "model_module": "@jupyter-widgets/controls",
      "model_module_version": "1.5.0",
      "model_name": "HBoxModel",
      "state": {
       "_dom_classes": [],
       "_model_module": "@jupyter-widgets/controls",
       "_model_module_version": "1.5.0",
       "_model_name": "HBoxModel",
       "_view_count": null,
       "_view_module": "@jupyter-widgets/controls",
       "_view_module_version": "1.5.0",
       "_view_name": "HBoxView",
       "box_style": "",
       "children": [
        "IPY_MODEL_9ad08024f06a4d58a81a1dd5ec122f10",
        "IPY_MODEL_7fee5f76a4664c1dbc138d1954f83bc9",
        "IPY_MODEL_6f372cb2a76f4af59f0c1a1f48037d75"
       ],
       "layout": "IPY_MODEL_c5beebfacbe045218bd34ea858c5aa60"
      }
     },
     "5233103651ae4be1a9976c2d3d608030": {
      "model_module": "@jupyter-widgets/controls",
      "model_module_version": "1.5.0",
      "model_name": "ProgressStyleModel",
      "state": {
       "_model_module": "@jupyter-widgets/controls",
       "_model_module_version": "1.5.0",
       "_model_name": "ProgressStyleModel",
       "_view_count": null,
       "_view_module": "@jupyter-widgets/base",
       "_view_module_version": "1.2.0",
       "_view_name": "StyleView",
       "bar_color": null,
       "description_width": ""
      }
     },
     "53f5fc88fc6344639456b0c87f7b93d6": {
      "model_module": "@jupyter-widgets/base",
      "model_module_version": "1.2.0",
      "model_name": "LayoutModel",
      "state": {
       "_model_module": "@jupyter-widgets/base",
       "_model_module_version": "1.2.0",
       "_model_name": "LayoutModel",
       "_view_count": null,
       "_view_module": "@jupyter-widgets/base",
       "_view_module_version": "1.2.0",
       "_view_name": "LayoutView",
       "align_content": null,
       "align_items": null,
       "align_self": null,
       "border": null,
       "bottom": null,
       "display": null,
       "flex": null,
       "flex_flow": null,
       "grid_area": null,
       "grid_auto_columns": null,
       "grid_auto_flow": null,
       "grid_auto_rows": null,
       "grid_column": null,
       "grid_gap": null,
       "grid_row": null,
       "grid_template_areas": null,
       "grid_template_columns": null,
       "grid_template_rows": null,
       "height": null,
       "justify_content": null,
       "justify_items": null,
       "left": null,
       "margin": null,
       "max_height": null,
       "max_width": null,
       "min_height": null,
       "min_width": null,
       "object_fit": null,
       "object_position": null,
       "order": null,
       "overflow": null,
       "overflow_x": null,
       "overflow_y": null,
       "padding": null,
       "right": null,
       "top": null,
       "visibility": null,
       "width": null
      }
     },
     "55f7a24fc0ea42c392e48d286a7e8fa7": {
      "model_module": "@jupyter-widgets/controls",
      "model_module_version": "1.5.0",
      "model_name": "DescriptionStyleModel",
      "state": {
       "_model_module": "@jupyter-widgets/controls",
       "_model_module_version": "1.5.0",
       "_model_name": "DescriptionStyleModel",
       "_view_count": null,
       "_view_module": "@jupyter-widgets/base",
       "_view_module_version": "1.2.0",
       "_view_name": "StyleView",
       "description_width": ""
      }
     },
     "56bd40014be84cfb91a8bc480e3b85f6": {
      "model_module": "@jupyter-widgets/base",
      "model_module_version": "1.2.0",
      "model_name": "LayoutModel",
      "state": {
       "_model_module": "@jupyter-widgets/base",
       "_model_module_version": "1.2.0",
       "_model_name": "LayoutModel",
       "_view_count": null,
       "_view_module": "@jupyter-widgets/base",
       "_view_module_version": "1.2.0",
       "_view_name": "LayoutView",
       "align_content": null,
       "align_items": null,
       "align_self": null,
       "border": null,
       "bottom": null,
       "display": null,
       "flex": null,
       "flex_flow": null,
       "grid_area": null,
       "grid_auto_columns": null,
       "grid_auto_flow": null,
       "grid_auto_rows": null,
       "grid_column": null,
       "grid_gap": null,
       "grid_row": null,
       "grid_template_areas": null,
       "grid_template_columns": null,
       "grid_template_rows": null,
       "height": null,
       "justify_content": null,
       "justify_items": null,
       "left": null,
       "margin": null,
       "max_height": null,
       "max_width": null,
       "min_height": null,
       "min_width": null,
       "object_fit": null,
       "object_position": null,
       "order": null,
       "overflow": null,
       "overflow_x": null,
       "overflow_y": null,
       "padding": null,
       "right": null,
       "top": null,
       "visibility": null,
       "width": null
      }
     },
     "56f734e324ef4d78b7cff1d9fd49c69e": {
      "model_module": "@jupyter-widgets/controls",
      "model_module_version": "1.5.0",
      "model_name": "DescriptionStyleModel",
      "state": {
       "_model_module": "@jupyter-widgets/controls",
       "_model_module_version": "1.5.0",
       "_model_name": "DescriptionStyleModel",
       "_view_count": null,
       "_view_module": "@jupyter-widgets/base",
       "_view_module_version": "1.2.0",
       "_view_name": "StyleView",
       "description_width": ""
      }
     },
     "5a6f2a804b6f4503a1ad1a79809f56aa": {
      "model_module": "@jupyter-widgets/controls",
      "model_module_version": "1.5.0",
      "model_name": "DescriptionStyleModel",
      "state": {
       "_model_module": "@jupyter-widgets/controls",
       "_model_module_version": "1.5.0",
       "_model_name": "DescriptionStyleModel",
       "_view_count": null,
       "_view_module": "@jupyter-widgets/base",
       "_view_module_version": "1.2.0",
       "_view_name": "StyleView",
       "description_width": ""
      }
     },
     "5cb1e9defb2046a4b52a8c941757b28c": {
      "model_module": "@jupyter-widgets/controls",
      "model_module_version": "1.5.0",
      "model_name": "FloatProgressModel",
      "state": {
       "_dom_classes": [],
       "_model_module": "@jupyter-widgets/controls",
       "_model_module_version": "1.5.0",
       "_model_name": "FloatProgressModel",
       "_view_count": null,
       "_view_module": "@jupyter-widgets/controls",
       "_view_module_version": "1.5.0",
       "_view_name": "ProgressView",
       "bar_style": "success",
       "description": "",
       "description_tooltip": null,
       "layout": "IPY_MODEL_db2914885b2d4e73a4d9f4a290c57e9c",
       "max": 2405679.0,
       "min": 0.0,
       "orientation": "horizontal",
       "style": "IPY_MODEL_94806477425b4147954d2c752d50ffad",
       "value": 2405679.0
      }
     },
     "5cdbfcdd6f154b778b747105f0c4f8ac": {
      "model_module": "@jupyter-widgets/controls",
      "model_module_version": "1.5.0",
      "model_name": "FloatProgressModel",
      "state": {
       "_dom_classes": [],
       "_model_module": "@jupyter-widgets/controls",
       "_model_module_version": "1.5.0",
       "_model_name": "FloatProgressModel",
       "_view_count": null,
       "_view_module": "@jupyter-widgets/controls",
       "_view_module_version": "1.5.0",
       "_view_name": "ProgressView",
       "bar_style": "success",
       "description": "",
       "description_tooltip": null,
       "layout": "IPY_MODEL_5ee9bebd4e284b1bbb039cd28b8d64bb",
       "max": 1621.0,
       "min": 0.0,
       "orientation": "horizontal",
       "style": "IPY_MODEL_0ac76dd04ace460c957682984f6f3ba7",
       "value": 1621.0
      }
     },
     "5d17538bbbb54cd092a01ea9e2bb6219": {
      "model_module": "@jupyter-widgets/controls",
      "model_module_version": "1.5.0",
      "model_name": "DescriptionStyleModel",
      "state": {
       "_model_module": "@jupyter-widgets/controls",
       "_model_module_version": "1.5.0",
       "_model_name": "DescriptionStyleModel",
       "_view_count": null,
       "_view_module": "@jupyter-widgets/base",
       "_view_module_version": "1.2.0",
       "_view_name": "StyleView",
       "description_width": ""
      }
     },
     "5d1de812ef374d7ba6dd6a0abc9884db": {
      "model_module": "@jupyter-widgets/controls",
      "model_module_version": "1.5.0",
      "model_name": "HTMLModel",
      "state": {
       "_dom_classes": [],
       "_model_module": "@jupyter-widgets/controls",
       "_model_module_version": "1.5.0",
       "_model_name": "HTMLModel",
       "_view_count": null,
       "_view_module": "@jupyter-widgets/controls",
       "_view_module_version": "1.5.0",
       "_view_name": "HTMLView",
       "description": "",
       "description_tooltip": null,
       "layout": "IPY_MODEL_33c31c2cf9fd47c983fe6c9aef9cac4c",
       "placeholder": "​",
       "style": "IPY_MODEL_56f734e324ef4d78b7cff1d9fd49c69e",
       "value": " 1.83k/1.83k [00:00&lt;00:00, 194kB/s]"
      }
     },
     "5d6c78b529ce4da9a8ef214ef5fcecef": {
      "model_module": "@jupyter-widgets/base",
      "model_module_version": "1.2.0",
      "model_name": "LayoutModel",
      "state": {
       "_model_module": "@jupyter-widgets/base",
       "_model_module_version": "1.2.0",
       "_model_name": "LayoutModel",
       "_view_count": null,
       "_view_module": "@jupyter-widgets/base",
       "_view_module_version": "1.2.0",
       "_view_name": "LayoutView",
       "align_content": null,
       "align_items": null,
       "align_self": null,
       "border": null,
       "bottom": null,
       "display": null,
       "flex": null,
       "flex_flow": null,
       "grid_area": null,
       "grid_auto_columns": null,
       "grid_auto_flow": null,
       "grid_auto_rows": null,
       "grid_column": null,
       "grid_gap": null,
       "grid_row": null,
       "grid_template_areas": null,
       "grid_template_columns": null,
       "grid_template_rows": null,
       "height": null,
       "justify_content": null,
       "justify_items": null,
       "left": null,
       "margin": null,
       "max_height": null,
       "max_width": null,
       "min_height": null,
       "min_width": null,
       "object_fit": null,
       "object_position": null,
       "order": null,
       "overflow": null,
       "overflow_x": null,
       "overflow_y": null,
       "padding": null,
       "right": null,
       "top": null,
       "visibility": null,
       "width": null
      }
     },
     "5e4e89156aab491581b623ff3b85ac14": {
      "model_module": "@jupyter-widgets/controls",
      "model_module_version": "1.5.0",
      "model_name": "DescriptionStyleModel",
      "state": {
       "_model_module": "@jupyter-widgets/controls",
       "_model_module_version": "1.5.0",
       "_model_name": "DescriptionStyleModel",
       "_view_count": null,
       "_view_module": "@jupyter-widgets/base",
       "_view_module_version": "1.2.0",
       "_view_name": "StyleView",
       "description_width": ""
      }
     },
     "5ee9bebd4e284b1bbb039cd28b8d64bb": {
      "model_module": "@jupyter-widgets/base",
      "model_module_version": "1.2.0",
      "model_name": "LayoutModel",
      "state": {
       "_model_module": "@jupyter-widgets/base",
       "_model_module_version": "1.2.0",
       "_model_name": "LayoutModel",
       "_view_count": null,
       "_view_module": "@jupyter-widgets/base",
       "_view_module_version": "1.2.0",
       "_view_name": "LayoutView",
       "align_content": null,
       "align_items": null,
       "align_self": null,
       "border": null,
       "bottom": null,
       "display": null,
       "flex": null,
       "flex_flow": null,
       "grid_area": null,
       "grid_auto_columns": null,
       "grid_auto_flow": null,
       "grid_auto_rows": null,
       "grid_column": null,
       "grid_gap": null,
       "grid_row": null,
       "grid_template_areas": null,
       "grid_template_columns": null,
       "grid_template_rows": null,
       "height": null,
       "justify_content": null,
       "justify_items": null,
       "left": null,
       "margin": null,
       "max_height": null,
       "max_width": null,
       "min_height": null,
       "min_width": null,
       "object_fit": null,
       "object_position": null,
       "order": null,
       "overflow": null,
       "overflow_x": null,
       "overflow_y": null,
       "padding": null,
       "right": null,
       "top": null,
       "visibility": null,
       "width": null
      }
     },
     "5ff92d106a514d3eb5bb06ad2d508b64": {
      "model_module": "@jupyter-widgets/controls",
      "model_module_version": "1.5.0",
      "model_name": "HTMLModel",
      "state": {
       "_dom_classes": [],
       "_model_module": "@jupyter-widgets/controls",
       "_model_module_version": "1.5.0",
       "_model_name": "HTMLModel",
       "_view_count": null,
       "_view_module": "@jupyter-widgets/controls",
       "_view_module_version": "1.5.0",
       "_view_name": "HTMLView",
       "description": "",
       "description_tooltip": null,
       "layout": "IPY_MODEL_1e324166cb4e44bcbba34768fb1d6606",
       "placeholder": "​",
       "style": "IPY_MODEL_e80530ff15294e33aadb54092bfe9bd8",
       "value": " 2.41M/2.41M [00:00&lt;00:00, 5.64MB/s]"
      }
     },
     "635c814e12694a5ba859bacb3eb301fc": {
      "model_module": "@jupyter-widgets/controls",
      "model_module_version": "1.5.0",
      "model_name": "ProgressStyleModel",
      "state": {
       "_model_module": "@jupyter-widgets/controls",
       "_model_module_version": "1.5.0",
       "_model_name": "ProgressStyleModel",
       "_view_count": null,
       "_view_module": "@jupyter-widgets/base",
       "_view_module_version": "1.2.0",
       "_view_name": "StyleView",
       "bar_color": null,
       "description_width": ""
      }
     },
     "6452d89c121441c3bd4579f61b065b50": {
      "model_module": "@jupyter-widgets/controls",
      "model_module_version": "1.5.0",
      "model_name": "HBoxModel",
      "state": {
       "_dom_classes": [],
       "_model_module": "@jupyter-widgets/controls",
       "_model_module_version": "1.5.0",
       "_model_name": "HBoxModel",
       "_view_count": null,
       "_view_module": "@jupyter-widgets/controls",
       "_view_module_version": "1.5.0",
       "_view_name": "HBoxView",
       "box_style": "",
       "children": [
        "IPY_MODEL_1b802be5a6a04addba3ac04321f31a71",
        "IPY_MODEL_70d155c665b04a7f95317e997ddf98c8",
        "IPY_MODEL_bca437f9d4bf47848b04f3b232b89be6"
       ],
       "layout": "IPY_MODEL_af356145a3434137a1e9dadc8c262e17"
      }
     },
     "64a0e723e3d8415c842c61b10880d911": {
      "model_module": "@jupyter-widgets/base",
      "model_module_version": "1.2.0",
      "model_name": "LayoutModel",
      "state": {
       "_model_module": "@jupyter-widgets/base",
       "_model_module_version": "1.2.0",
       "_model_name": "LayoutModel",
       "_view_count": null,
       "_view_module": "@jupyter-widgets/base",
       "_view_module_version": "1.2.0",
       "_view_name": "LayoutView",
       "align_content": null,
       "align_items": null,
       "align_self": null,
       "border": null,
       "bottom": null,
       "display": null,
       "flex": null,
       "flex_flow": null,
       "grid_area": null,
       "grid_auto_columns": null,
       "grid_auto_flow": null,
       "grid_auto_rows": null,
       "grid_column": null,
       "grid_gap": null,
       "grid_row": null,
       "grid_template_areas": null,
       "grid_template_columns": null,
       "grid_template_rows": null,
       "height": null,
       "justify_content": null,
       "justify_items": null,
       "left": null,
       "margin": null,
       "max_height": null,
       "max_width": null,
       "min_height": null,
       "min_width": null,
       "object_fit": null,
       "object_position": null,
       "order": null,
       "overflow": null,
       "overflow_x": null,
       "overflow_y": null,
       "padding": null,
       "right": null,
       "top": null,
       "visibility": null,
       "width": null
      }
     },
     "64dbfd51009143f8939182323109e5b6": {
      "model_module": "@jupyter-widgets/controls",
      "model_module_version": "1.5.0",
      "model_name": "DescriptionStyleModel",
      "state": {
       "_model_module": "@jupyter-widgets/controls",
       "_model_module_version": "1.5.0",
       "_model_name": "DescriptionStyleModel",
       "_view_count": null,
       "_view_module": "@jupyter-widgets/base",
       "_view_module_version": "1.2.0",
       "_view_name": "StyleView",
       "description_width": ""
      }
     },
     "6a97c76b99334619a9f329eb4ed06f39": {
      "model_module": "@jupyter-widgets/base",
      "model_module_version": "1.2.0",
      "model_name": "LayoutModel",
      "state": {
       "_model_module": "@jupyter-widgets/base",
       "_model_module_version": "1.2.0",
       "_model_name": "LayoutModel",
       "_view_count": null,
       "_view_module": "@jupyter-widgets/base",
       "_view_module_version": "1.2.0",
       "_view_name": "LayoutView",
       "align_content": null,
       "align_items": null,
       "align_self": null,
       "border": null,
       "bottom": null,
       "display": null,
       "flex": null,
       "flex_flow": null,
       "grid_area": null,
       "grid_auto_columns": null,
       "grid_auto_flow": null,
       "grid_auto_rows": null,
       "grid_column": null,
       "grid_gap": null,
       "grid_row": null,
       "grid_template_areas": null,
       "grid_template_columns": null,
       "grid_template_rows": null,
       "height": null,
       "justify_content": null,
       "justify_items": null,
       "left": null,
       "margin": null,
       "max_height": null,
       "max_width": null,
       "min_height": null,
       "min_width": null,
       "object_fit": null,
       "object_position": null,
       "order": null,
       "overflow": null,
       "overflow_x": null,
       "overflow_y": null,
       "padding": null,
       "right": null,
       "top": null,
       "visibility": null,
       "width": null
      }
     },
     "6f372cb2a76f4af59f0c1a1f48037d75": {
      "model_module": "@jupyter-widgets/controls",
      "model_module_version": "1.5.0",
      "model_name": "HTMLModel",
      "state": {
       "_dom_classes": [],
       "_model_module": "@jupyter-widgets/controls",
       "_model_module_version": "1.5.0",
       "_model_name": "HTMLModel",
       "_view_count": null,
       "_view_module": "@jupyter-widgets/controls",
       "_view_module_version": "1.5.0",
       "_view_name": "HTMLView",
       "description": "",
       "description_tooltip": null,
       "layout": "IPY_MODEL_8aa692ee7a624668b75d71ff0edede03",
       "placeholder": "​",
       "style": "IPY_MODEL_55f7a24fc0ea42c392e48d286a7e8fa7",
       "value": " 805/805 [00:00&lt;00:00, 82.5kB/s]"
      }
     },
     "70b0bb20054d483f9aa3bcd7fddb561b": {
      "model_module": "@jupyter-widgets/base",
      "model_module_version": "1.2.0",
      "model_name": "LayoutModel",
      "state": {
       "_model_module": "@jupyter-widgets/base",
       "_model_module_version": "1.2.0",
       "_model_name": "LayoutModel",
       "_view_count": null,
       "_view_module": "@jupyter-widgets/base",
       "_view_module_version": "1.2.0",
       "_view_name": "LayoutView",
       "align_content": null,
       "align_items": null,
       "align_self": null,
       "border": null,
       "bottom": null,
       "display": null,
       "flex": null,
       "flex_flow": null,
       "grid_area": null,
       "grid_auto_columns": null,
       "grid_auto_flow": null,
       "grid_auto_rows": null,
       "grid_column": null,
       "grid_gap": null,
       "grid_row": null,
       "grid_template_areas": null,
       "grid_template_columns": null,
       "grid_template_rows": null,
       "height": null,
       "justify_content": null,
       "justify_items": null,
       "left": null,
       "margin": null,
       "max_height": null,
       "max_width": null,
       "min_height": null,
       "min_width": null,
       "object_fit": null,
       "object_position": null,
       "order": null,
       "overflow": null,
       "overflow_x": null,
       "overflow_y": null,
       "padding": null,
       "right": null,
       "top": null,
       "visibility": null,
       "width": null
      }
     },
     "70d155c665b04a7f95317e997ddf98c8": {
      "model_module": "@jupyter-widgets/controls",
      "model_module_version": "1.5.0",
      "model_name": "FloatProgressModel",
      "state": {
       "_dom_classes": [],
       "_model_module": "@jupyter-widgets/controls",
       "_model_module_version": "1.5.0",
       "_model_name": "FloatProgressModel",
       "_view_count": null,
       "_view_module": "@jupyter-widgets/controls",
       "_view_module_version": "1.5.0",
       "_view_name": "ProgressView",
       "bar_style": "success",
       "description": "",
       "description_tooltip": null,
       "layout": "IPY_MODEL_386c85a349454feb88e34d9c5710b1f3",
       "max": 184990.0,
       "min": 0.0,
       "orientation": "horizontal",
       "style": "IPY_MODEL_5233103651ae4be1a9976c2d3d608030",
       "value": 184990.0
      }
     },
     "71164ca0325f42e2a48e38705daed87f": {
      "model_module": "@jupyter-widgets/controls",
      "model_module_version": "1.5.0",
      "model_name": "FloatProgressModel",
      "state": {
       "_dom_classes": [],
       "_model_module": "@jupyter-widgets/controls",
       "_model_module_version": "1.5.0",
       "_model_name": "FloatProgressModel",
       "_view_count": null,
       "_view_module": "@jupyter-widgets/controls",
       "_view_module_version": "1.5.0",
       "_view_name": "ProgressView",
       "bar_style": "success",
       "description": "",
       "description_tooltip": null,
       "layout": "IPY_MODEL_ec9e3fdf98b649df860f7370c6625ea7",
       "max": 1830.0,
       "min": 0.0,
       "orientation": "horizontal",
       "style": "IPY_MODEL_29f947e90adf481a9c5d7f7fafb77593",
       "value": 1830.0
      }
     },
     "74bf7ccfe1e1415a9fc416dc436b9ced": {
      "model_module": "@jupyter-widgets/controls",
      "model_module_version": "1.5.0",
      "model_name": "ProgressStyleModel",
      "state": {
       "_model_module": "@jupyter-widgets/controls",
       "_model_module_version": "1.5.0",
       "_model_name": "ProgressStyleModel",
       "_view_count": null,
       "_view_module": "@jupyter-widgets/base",
       "_view_module_version": "1.2.0",
       "_view_name": "StyleView",
       "bar_color": null,
       "description_width": ""
      }
     },
     "75f5edd0282a4849aeebcc8b2c7be17c": {
      "model_module": "@jupyter-widgets/base",
      "model_module_version": "1.2.0",
      "model_name": "LayoutModel",
      "state": {
       "_model_module": "@jupyter-widgets/base",
       "_model_module_version": "1.2.0",
       "_model_name": "LayoutModel",
       "_view_count": null,
       "_view_module": "@jupyter-widgets/base",
       "_view_module_version": "1.2.0",
       "_view_name": "LayoutView",
       "align_content": null,
       "align_items": null,
       "align_self": null,
       "border": null,
       "bottom": null,
       "display": null,
       "flex": null,
       "flex_flow": null,
       "grid_area": null,
       "grid_auto_columns": null,
       "grid_auto_flow": null,
       "grid_auto_rows": null,
       "grid_column": null,
       "grid_gap": null,
       "grid_row": null,
       "grid_template_areas": null,
       "grid_template_columns": null,
       "grid_template_rows": null,
       "height": null,
       "justify_content": null,
       "justify_items": null,
       "left": null,
       "margin": null,
       "max_height": null,
       "max_width": null,
       "min_height": null,
       "min_width": null,
       "object_fit": null,
       "object_position": null,
       "order": null,
       "overflow": null,
       "overflow_x": null,
       "overflow_y": null,
       "padding": null,
       "right": null,
       "top": null,
       "visibility": null,
       "width": null
      }
     },
     "7796d299887c4066ae53702d3bef25ed": {
      "model_module": "@jupyter-widgets/base",
      "model_module_version": "1.2.0",
      "model_name": "LayoutModel",
      "state": {
       "_model_module": "@jupyter-widgets/base",
       "_model_module_version": "1.2.0",
       "_model_name": "LayoutModel",
       "_view_count": null,
       "_view_module": "@jupyter-widgets/base",
       "_view_module_version": "1.2.0",
       "_view_name": "LayoutView",
       "align_content": null,
       "align_items": null,
       "align_self": null,
       "border": null,
       "bottom": null,
       "display": null,
       "flex": null,
       "flex_flow": null,
       "grid_area": null,
       "grid_auto_columns": null,
       "grid_auto_flow": null,
       "grid_auto_rows": null,
       "grid_column": null,
       "grid_gap": null,
       "grid_row": null,
       "grid_template_areas": null,
       "grid_template_columns": null,
       "grid_template_rows": null,
       "height": null,
       "justify_content": null,
       "justify_items": null,
       "left": null,
       "margin": null,
       "max_height": null,
       "max_width": null,
       "min_height": null,
       "min_width": null,
       "object_fit": null,
       "object_position": null,
       "order": null,
       "overflow": null,
       "overflow_x": null,
       "overflow_y": null,
       "padding": null,
       "right": null,
       "top": null,
       "visibility": null,
       "width": null
      }
     },
     "7e20c30873924b7cbbfd24ea435c4035": {
      "model_module": "@jupyter-widgets/controls",
      "model_module_version": "1.5.0",
      "model_name": "DescriptionStyleModel",
      "state": {
       "_model_module": "@jupyter-widgets/controls",
       "_model_module_version": "1.5.0",
       "_model_name": "DescriptionStyleModel",
       "_view_count": null,
       "_view_module": "@jupyter-widgets/base",
       "_view_module_version": "1.2.0",
       "_view_name": "StyleView",
       "description_width": ""
      }
     },
     "7fee5f76a4664c1dbc138d1954f83bc9": {
      "model_module": "@jupyter-widgets/controls",
      "model_module_version": "1.5.0",
      "model_name": "FloatProgressModel",
      "state": {
       "_dom_classes": [],
       "_model_module": "@jupyter-widgets/controls",
       "_model_module_version": "1.5.0",
       "_model_name": "FloatProgressModel",
       "_view_count": null,
       "_view_module": "@jupyter-widgets/controls",
       "_view_module_version": "1.5.0",
       "_view_name": "ProgressView",
       "bar_style": "success",
       "description": "",
       "description_tooltip": null,
       "layout": "IPY_MODEL_53f5fc88fc6344639456b0c87f7b93d6",
       "max": 805.0,
       "min": 0.0,
       "orientation": "horizontal",
       "style": "IPY_MODEL_e0a144f3e7a64b51b30d5dc6659e4e86",
       "value": 805.0
      }
     },
     "86b61e2c404c43798385f18beb4bcf27": {
      "model_module": "@jupyter-widgets/base",
      "model_module_version": "1.2.0",
      "model_name": "LayoutModel",
      "state": {
       "_model_module": "@jupyter-widgets/base",
       "_model_module_version": "1.2.0",
       "_model_name": "LayoutModel",
       "_view_count": null,
       "_view_module": "@jupyter-widgets/base",
       "_view_module_version": "1.2.0",
       "_view_name": "LayoutView",
       "align_content": null,
       "align_items": null,
       "align_self": null,
       "border": null,
       "bottom": null,
       "display": null,
       "flex": null,
       "flex_flow": null,
       "grid_area": null,
       "grid_auto_columns": null,
       "grid_auto_flow": null,
       "grid_auto_rows": null,
       "grid_column": null,
       "grid_gap": null,
       "grid_row": null,
       "grid_template_areas": null,
       "grid_template_columns": null,
       "grid_template_rows": null,
       "height": null,
       "justify_content": null,
       "justify_items": null,
       "left": null,
       "margin": null,
       "max_height": null,
       "max_width": null,
       "min_height": null,
       "min_width": null,
       "object_fit": null,
       "object_position": null,
       "order": null,
       "overflow": null,
       "overflow_x": null,
       "overflow_y": null,
       "padding": null,
       "right": null,
       "top": null,
       "visibility": null,
       "width": null
      }
     },
     "8aa692ee7a624668b75d71ff0edede03": {
      "model_module": "@jupyter-widgets/base",
      "model_module_version": "1.2.0",
      "model_name": "LayoutModel",
      "state": {
       "_model_module": "@jupyter-widgets/base",
       "_model_module_version": "1.2.0",
       "_model_name": "LayoutModel",
       "_view_count": null,
       "_view_module": "@jupyter-widgets/base",
       "_view_module_version": "1.2.0",
       "_view_name": "LayoutView",
       "align_content": null,
       "align_items": null,
       "align_self": null,
       "border": null,
       "bottom": null,
       "display": null,
       "flex": null,
       "flex_flow": null,
       "grid_area": null,
       "grid_auto_columns": null,
       "grid_auto_flow": null,
       "grid_auto_rows": null,
       "grid_column": null,
       "grid_gap": null,
       "grid_row": null,
       "grid_template_areas": null,
       "grid_template_columns": null,
       "grid_template_rows": null,
       "height": null,
       "justify_content": null,
       "justify_items": null,
       "left": null,
       "margin": null,
       "max_height": null,
       "max_width": null,
       "min_height": null,
       "min_width": null,
       "object_fit": null,
       "object_position": null,
       "order": null,
       "overflow": null,
       "overflow_x": null,
       "overflow_y": null,
       "padding": null,
       "right": null,
       "top": null,
       "visibility": null,
       "width": null
      }
     },
     "8c1f0f32e33041298ee41c12e39f335e": {
      "model_module": "@jupyter-widgets/base",
      "model_module_version": "1.2.0",
      "model_name": "LayoutModel",
      "state": {
       "_model_module": "@jupyter-widgets/base",
       "_model_module_version": "1.2.0",
       "_model_name": "LayoutModel",
       "_view_count": null,
       "_view_module": "@jupyter-widgets/base",
       "_view_module_version": "1.2.0",
       "_view_name": "LayoutView",
       "align_content": null,
       "align_items": null,
       "align_self": null,
       "border": null,
       "bottom": null,
       "display": null,
       "flex": null,
       "flex_flow": null,
       "grid_area": null,
       "grid_auto_columns": null,
       "grid_auto_flow": null,
       "grid_auto_rows": null,
       "grid_column": null,
       "grid_gap": null,
       "grid_row": null,
       "grid_template_areas": null,
       "grid_template_columns": null,
       "grid_template_rows": null,
       "height": null,
       "justify_content": null,
       "justify_items": null,
       "left": null,
       "margin": null,
       "max_height": null,
       "max_width": null,
       "min_height": null,
       "min_width": null,
       "object_fit": null,
       "object_position": null,
       "order": null,
       "overflow": null,
       "overflow_x": null,
       "overflow_y": null,
       "padding": null,
       "right": null,
       "top": null,
       "visibility": null,
       "width": null
      }
     },
     "91a1e818e8a645b59ae408487250bcec": {
      "model_module": "@jupyter-widgets/controls",
      "model_module_version": "1.5.0",
      "model_name": "ProgressStyleModel",
      "state": {
       "_model_module": "@jupyter-widgets/controls",
       "_model_module_version": "1.5.0",
       "_model_name": "ProgressStyleModel",
       "_view_count": null,
       "_view_module": "@jupyter-widgets/base",
       "_view_module_version": "1.2.0",
       "_view_name": "StyleView",
       "bar_color": null,
       "description_width": ""
      }
     },
     "929398e839c446d5948744879a6dec5b": {
      "model_module": "@jupyter-widgets/base",
      "model_module_version": "1.2.0",
      "model_name": "LayoutModel",
      "state": {
       "_model_module": "@jupyter-widgets/base",
       "_model_module_version": "1.2.0",
       "_model_name": "LayoutModel",
       "_view_count": null,
       "_view_module": "@jupyter-widgets/base",
       "_view_module_version": "1.2.0",
       "_view_name": "LayoutView",
       "align_content": null,
       "align_items": null,
       "align_self": null,
       "border": null,
       "bottom": null,
       "display": null,
       "flex": null,
       "flex_flow": null,
       "grid_area": null,
       "grid_auto_columns": null,
       "grid_auto_flow": null,
       "grid_auto_rows": null,
       "grid_column": null,
       "grid_gap": null,
       "grid_row": null,
       "grid_template_areas": null,
       "grid_template_columns": null,
       "grid_template_rows": null,
       "height": null,
       "justify_content": null,
       "justify_items": null,
       "left": null,
       "margin": null,
       "max_height": null,
       "max_width": null,
       "min_height": null,
       "min_width": null,
       "object_fit": null,
       "object_position": null,
       "order": null,
       "overflow": null,
       "overflow_x": null,
       "overflow_y": null,
       "padding": null,
       "right": null,
       "top": null,
       "visibility": null,
       "width": null
      }
     },
     "92987cee7f5f44b2a44a205ed8cfe271": {
      "model_module": "@jupyter-widgets/controls",
      "model_module_version": "1.5.0",
      "model_name": "DescriptionStyleModel",
      "state": {
       "_model_module": "@jupyter-widgets/controls",
       "_model_module_version": "1.5.0",
       "_model_name": "DescriptionStyleModel",
       "_view_count": null,
       "_view_module": "@jupyter-widgets/base",
       "_view_module_version": "1.2.0",
       "_view_name": "StyleView",
       "description_width": ""
      }
     },
     "94806477425b4147954d2c752d50ffad": {
      "model_module": "@jupyter-widgets/controls",
      "model_module_version": "1.5.0",
      "model_name": "ProgressStyleModel",
      "state": {
       "_model_module": "@jupyter-widgets/controls",
       "_model_module_version": "1.5.0",
       "_model_name": "ProgressStyleModel",
       "_view_count": null,
       "_view_module": "@jupyter-widgets/base",
       "_view_module_version": "1.2.0",
       "_view_name": "StyleView",
       "bar_color": null,
       "description_width": ""
      }
     },
     "958d625f75ee4f29af47606dd259d1ae": {
      "model_module": "@jupyter-widgets/base",
      "model_module_version": "1.2.0",
      "model_name": "LayoutModel",
      "state": {
       "_model_module": "@jupyter-widgets/base",
       "_model_module_version": "1.2.0",
       "_model_name": "LayoutModel",
       "_view_count": null,
       "_view_module": "@jupyter-widgets/base",
       "_view_module_version": "1.2.0",
       "_view_name": "LayoutView",
       "align_content": null,
       "align_items": null,
       "align_self": null,
       "border": null,
       "bottom": null,
       "display": null,
       "flex": null,
       "flex_flow": null,
       "grid_area": null,
       "grid_auto_columns": null,
       "grid_auto_flow": null,
       "grid_auto_rows": null,
       "grid_column": null,
       "grid_gap": null,
       "grid_row": null,
       "grid_template_areas": null,
       "grid_template_columns": null,
       "grid_template_rows": null,
       "height": null,
       "justify_content": null,
       "justify_items": null,
       "left": null,
       "margin": null,
       "max_height": null,
       "max_width": null,
       "min_height": null,
       "min_width": null,
       "object_fit": null,
       "object_position": null,
       "order": null,
       "overflow": null,
       "overflow_x": null,
       "overflow_y": null,
       "padding": null,
       "right": null,
       "top": null,
       "visibility": null,
       "width": null
      }
     },
     "97cd501e3e284c6b940b119e95bf4b03": {
      "model_module": "@jupyter-widgets/controls",
      "model_module_version": "1.5.0",
      "model_name": "DescriptionStyleModel",
      "state": {
       "_model_module": "@jupyter-widgets/controls",
       "_model_module_version": "1.5.0",
       "_model_name": "DescriptionStyleModel",
       "_view_count": null,
       "_view_module": "@jupyter-widgets/base",
       "_view_module_version": "1.2.0",
       "_view_name": "StyleView",
       "description_width": ""
      }
     },
     "9a310feb91264541b95e357af4d98300": {
      "model_module": "@jupyter-widgets/controls",
      "model_module_version": "1.5.0",
      "model_name": "DescriptionStyleModel",
      "state": {
       "_model_module": "@jupyter-widgets/controls",
       "_model_module_version": "1.5.0",
       "_model_name": "DescriptionStyleModel",
       "_view_count": null,
       "_view_module": "@jupyter-widgets/base",
       "_view_module_version": "1.2.0",
       "_view_name": "StyleView",
       "description_width": ""
      }
     },
     "9ad08024f06a4d58a81a1dd5ec122f10": {
      "model_module": "@jupyter-widgets/controls",
      "model_module_version": "1.5.0",
      "model_name": "HTMLModel",
      "state": {
       "_dom_classes": [],
       "_model_module": "@jupyter-widgets/controls",
       "_model_module_version": "1.5.0",
       "_model_name": "HTMLModel",
       "_view_count": null,
       "_view_module": "@jupyter-widgets/controls",
       "_view_module_version": "1.5.0",
       "_view_name": "HTMLView",
       "description": "",
       "description_tooltip": null,
       "layout": "IPY_MODEL_70b0bb20054d483f9aa3bcd7fddb561b",
       "placeholder": "​",
       "style": "IPY_MODEL_0df0cbefb6bd452a8eed8828700f3c5a",
       "value": "tokenizer_config.json: 100%"
      }
     },
     "9b10417b27e34cdc916a26afd8b7de76": {
      "model_module": "@jupyter-widgets/controls",
      "model_module_version": "1.5.0",
      "model_name": "HTMLModel",
      "state": {
       "_dom_classes": [],
       "_model_module": "@jupyter-widgets/controls",
       "_model_module_version": "1.5.0",
       "_model_name": "HTMLModel",
       "_view_count": null,
       "_view_module": "@jupyter-widgets/controls",
       "_view_module_version": "1.5.0",
       "_view_name": "HTMLView",
       "description": "",
       "description_tooltip": null,
       "layout": "IPY_MODEL_dd1b363e9ec4416db0dccb725ec40596",
       "placeholder": "​",
       "style": "IPY_MODEL_5a6f2a804b6f4503a1ad1a79809f56aa",
       "value": "vocab.json: 100%"
      }
     },
     "a0b8d96e34ed40c3b9c44333d0eb5ceb": {
      "model_module": "@jupyter-widgets/base",
      "model_module_version": "1.2.0",
      "model_name": "LayoutModel",
      "state": {
       "_model_module": "@jupyter-widgets/base",
       "_model_module_version": "1.2.0",
       "_model_name": "LayoutModel",
       "_view_count": null,
       "_view_module": "@jupyter-widgets/base",
       "_view_module_version": "1.2.0",
       "_view_name": "LayoutView",
       "align_content": null,
       "align_items": null,
       "align_self": null,
       "border": null,
       "bottom": null,
       "display": null,
       "flex": null,
       "flex_flow": null,
       "grid_area": null,
       "grid_auto_columns": null,
       "grid_auto_flow": null,
       "grid_auto_rows": null,
       "grid_column": null,
       "grid_gap": null,
       "grid_row": null,
       "grid_template_areas": null,
       "grid_template_columns": null,
       "grid_template_rows": null,
       "height": null,
       "justify_content": null,
       "justify_items": null,
       "left": null,
       "margin": null,
       "max_height": null,
       "max_width": null,
       "min_height": null,
       "min_width": null,
       "object_fit": null,
       "object_position": null,
       "order": null,
       "overflow": null,
       "overflow_x": null,
       "overflow_y": null,
       "padding": null,
       "right": null,
       "top": null,
       "visibility": null,
       "width": null
      }
     },
     "a4062c76ee674e21bcbc492307efc294": {
      "model_module": "@jupyter-widgets/base",
      "model_module_version": "1.2.0",
      "model_name": "LayoutModel",
      "state": {
       "_model_module": "@jupyter-widgets/base",
       "_model_module_version": "1.2.0",
       "_model_name": "LayoutModel",
       "_view_count": null,
       "_view_module": "@jupyter-widgets/base",
       "_view_module_version": "1.2.0",
       "_view_name": "LayoutView",
       "align_content": null,
       "align_items": null,
       "align_self": null,
       "border": null,
       "bottom": null,
       "display": null,
       "flex": null,
       "flex_flow": null,
       "grid_area": null,
       "grid_auto_columns": null,
       "grid_auto_flow": null,
       "grid_auto_rows": null,
       "grid_column": null,
       "grid_gap": null,
       "grid_row": null,
       "grid_template_areas": null,
       "grid_template_columns": null,
       "grid_template_rows": null,
       "height": null,
       "justify_content": null,
       "justify_items": null,
       "left": null,
       "margin": null,
       "max_height": null,
       "max_width": null,
       "min_height": null,
       "min_width": null,
       "object_fit": null,
       "object_position": null,
       "order": null,
       "overflow": null,
       "overflow_x": null,
       "overflow_y": null,
       "padding": null,
       "right": null,
       "top": null,
       "visibility": null,
       "width": null
      }
     },
     "a4e09d9ac2fd455fb9f984ba16c25097": {
      "model_module": "@jupyter-widgets/base",
      "model_module_version": "1.2.0",
      "model_name": "LayoutModel",
      "state": {
       "_model_module": "@jupyter-widgets/base",
       "_model_module_version": "1.2.0",
       "_model_name": "LayoutModel",
       "_view_count": null,
       "_view_module": "@jupyter-widgets/base",
       "_view_module_version": "1.2.0",
       "_view_name": "LayoutView",
       "align_content": null,
       "align_items": null,
       "align_self": null,
       "border": null,
       "bottom": null,
       "display": null,
       "flex": null,
       "flex_flow": null,
       "grid_area": null,
       "grid_auto_columns": null,
       "grid_auto_flow": null,
       "grid_auto_rows": null,
       "grid_column": null,
       "grid_gap": null,
       "grid_row": null,
       "grid_template_areas": null,
       "grid_template_columns": null,
       "grid_template_rows": null,
       "height": null,
       "justify_content": null,
       "justify_items": null,
       "left": null,
       "margin": null,
       "max_height": null,
       "max_width": null,
       "min_height": null,
       "min_width": null,
       "object_fit": null,
       "object_position": null,
       "order": null,
       "overflow": null,
       "overflow_x": null,
       "overflow_y": null,
       "padding": null,
       "right": null,
       "top": null,
       "visibility": null,
       "width": null
      }
     },
     "a759ce25fffe48b48dc0abcab3a712bb": {
      "model_module": "@jupyter-widgets/controls",
      "model_module_version": "1.5.0",
      "model_name": "HTMLModel",
      "state": {
       "_dom_classes": [],
       "_model_module": "@jupyter-widgets/controls",
       "_model_module_version": "1.5.0",
       "_model_name": "HTMLModel",
       "_view_count": null,
       "_view_module": "@jupyter-widgets/controls",
       "_view_module_version": "1.5.0",
       "_view_name": "HTMLView",
       "description": "",
       "description_tooltip": null,
       "layout": "IPY_MODEL_c9418f3d0bc747dabde0410513fb105b",
       "placeholder": "​",
       "style": "IPY_MODEL_b6ad7e8e494e4f45a8e1242aac9b7b0c",
       "value": " 52.7k/52.7k [00:00&lt;00:00, 4.83MB/s]"
      }
     },
     "af356145a3434137a1e9dadc8c262e17": {
      "model_module": "@jupyter-widgets/base",
      "model_module_version": "1.2.0",
      "model_name": "LayoutModel",
      "state": {
       "_model_module": "@jupyter-widgets/base",
       "_model_module_version": "1.2.0",
       "_model_name": "LayoutModel",
       "_view_count": null,
       "_view_module": "@jupyter-widgets/base",
       "_view_module_version": "1.2.0",
       "_view_name": "LayoutView",
       "align_content": null,
       "align_items": null,
       "align_self": null,
       "border": null,
       "bottom": null,
       "display": null,
       "flex": null,
       "flex_flow": null,
       "grid_area": null,
       "grid_auto_columns": null,
       "grid_auto_flow": null,
       "grid_auto_rows": null,
       "grid_column": null,
       "grid_gap": null,
       "grid_row": null,
       "grid_template_areas": null,
       "grid_template_columns": null,
       "grid_template_rows": null,
       "height": null,
       "justify_content": null,
       "justify_items": null,
       "left": null,
       "margin": null,
       "max_height": null,
       "max_width": null,
       "min_height": null,
       "min_width": null,
       "object_fit": null,
       "object_position": null,
       "order": null,
       "overflow": null,
       "overflow_x": null,
       "overflow_y": null,
       "padding": null,
       "right": null,
       "top": null,
       "visibility": null,
       "width": null
      }
     },
     "b46a5f6144444ecab7ee3602329a3b5f": {
      "model_module": "@jupyter-widgets/controls",
      "model_module_version": "1.5.0",
      "model_name": "FloatProgressModel",
      "state": {
       "_dom_classes": [],
       "_model_module": "@jupyter-widgets/controls",
       "_model_module_version": "1.5.0",
       "_model_name": "FloatProgressModel",
       "_view_count": null,
       "_view_module": "@jupyter-widgets/controls",
       "_view_module_version": "1.5.0",
       "_view_name": "ProgressView",
       "bar_style": "success",
       "description": "",
       "description_tooltip": null,
       "layout": "IPY_MODEL_e745fffbc8c3472c84fd3a085559e200",
       "max": 798156.0,
       "min": 0.0,
       "orientation": "horizontal",
       "style": "IPY_MODEL_05e1365567644e45bec43918aebe436d",
       "value": 798156.0
      }
     },
     "b61e90fb1d7d460593f2777caff153d3": {
      "model_module": "@jupyter-widgets/base",
      "model_module_version": "1.2.0",
      "model_name": "LayoutModel",
      "state": {
       "_model_module": "@jupyter-widgets/base",
       "_model_module_version": "1.2.0",
       "_model_name": "LayoutModel",
       "_view_count": null,
       "_view_module": "@jupyter-widgets/base",
       "_view_module_version": "1.2.0",
       "_view_name": "LayoutView",
       "align_content": null,
       "align_items": null,
       "align_self": null,
       "border": null,
       "bottom": null,
       "display": null,
       "flex": null,
       "flex_flow": null,
       "grid_area": null,
       "grid_auto_columns": null,
       "grid_auto_flow": null,
       "grid_auto_rows": null,
       "grid_column": null,
       "grid_gap": null,
       "grid_row": null,
       "grid_template_areas": null,
       "grid_template_columns": null,
       "grid_template_rows": null,
       "height": null,
       "justify_content": null,
       "justify_items": null,
       "left": null,
       "margin": null,
       "max_height": null,
       "max_width": null,
       "min_height": null,
       "min_width": null,
       "object_fit": null,
       "object_position": null,
       "order": null,
       "overflow": null,
       "overflow_x": null,
       "overflow_y": null,
       "padding": null,
       "right": null,
       "top": null,
       "visibility": null,
       "width": null
      }
     },
     "b6ad7e8e494e4f45a8e1242aac9b7b0c": {
      "model_module": "@jupyter-widgets/controls",
      "model_module_version": "1.5.0",
      "model_name": "DescriptionStyleModel",
      "state": {
       "_model_module": "@jupyter-widgets/controls",
       "_model_module_version": "1.5.0",
       "_model_name": "DescriptionStyleModel",
       "_view_count": null,
       "_view_module": "@jupyter-widgets/base",
       "_view_module_version": "1.2.0",
       "_view_name": "StyleView",
       "description_width": ""
      }
     },
     "b995a9c8f2a7401f80deb7a178c2d2db": {
      "model_module": "@jupyter-widgets/controls",
      "model_module_version": "1.5.0",
      "model_name": "ProgressStyleModel",
      "state": {
       "_model_module": "@jupyter-widgets/controls",
       "_model_module_version": "1.5.0",
       "_model_name": "ProgressStyleModel",
       "_view_count": null,
       "_view_module": "@jupyter-widgets/base",
       "_view_module_version": "1.2.0",
       "_view_name": "StyleView",
       "bar_color": null,
       "description_width": ""
      }
     },
     "bca437f9d4bf47848b04f3b232b89be6": {
      "model_module": "@jupyter-widgets/controls",
      "model_module_version": "1.5.0",
      "model_name": "HTMLModel",
      "state": {
       "_dom_classes": [],
       "_model_module": "@jupyter-widgets/controls",
       "_model_module_version": "1.5.0",
       "_model_name": "HTMLModel",
       "_view_count": null,
       "_view_module": "@jupyter-widgets/controls",
       "_view_module_version": "1.5.0",
       "_view_name": "HTMLView",
       "description": "",
       "description_tooltip": null,
       "layout": "IPY_MODEL_929398e839c446d5948744879a6dec5b",
       "placeholder": "​",
       "style": "IPY_MODEL_3901ee7dfbb44abe923170141d8dcb09",
       "value": " 185k/185k [00:00&lt;00:00, 6.14MB/s]"
      }
     },
     "bddcfe78da3c4728bfe72aca04a7a6ca": {
      "model_module": "@jupyter-widgets/controls",
      "model_module_version": "1.5.0",
      "model_name": "HTMLModel",
      "state": {
       "_dom_classes": [],
       "_model_module": "@jupyter-widgets/controls",
       "_model_module_version": "1.5.0",
       "_model_name": "HTMLModel",
       "_view_count": null,
       "_view_module": "@jupyter-widgets/controls",
       "_view_module_version": "1.5.0",
       "_view_name": "HTMLView",
       "description": "",
       "description_tooltip": null,
       "layout": "IPY_MODEL_09aba4baa0db46b9a5eea0e690b4cf15",
       "placeholder": "​",
       "style": "IPY_MODEL_97cd501e3e284c6b940b119e95bf4b03",
       "value": " 1.94k/1.94k [00:00&lt;00:00, 208kB/s]"
      }
     },
     "c4adf7fb455d4afda12dcb3d9a6ce79c": {
      "model_module": "@jupyter-widgets/controls",
      "model_module_version": "1.5.0",
      "model_name": "HBoxModel",
      "state": {
       "_dom_classes": [],
       "_model_module": "@jupyter-widgets/controls",
       "_model_module_version": "1.5.0",
       "_model_name": "HBoxModel",
       "_view_count": null,
       "_view_module": "@jupyter-widgets/controls",
       "_view_module_version": "1.5.0",
       "_view_name": "HBoxView",
       "box_style": "",
       "children": [
        "IPY_MODEL_9b10417b27e34cdc916a26afd8b7de76",
        "IPY_MODEL_b46a5f6144444ecab7ee3602329a3b5f",
        "IPY_MODEL_cbf749561539428c98342045f7e5944c"
       ],
       "layout": "IPY_MODEL_86b61e2c404c43798385f18beb4bcf27"
      }
     },
     "c4fa54e79c3b4e3587f046fc9aff636f": {
      "model_module": "@jupyter-widgets/base",
      "model_module_version": "1.2.0",
      "model_name": "LayoutModel",
      "state": {
       "_model_module": "@jupyter-widgets/base",
       "_model_module_version": "1.2.0",
       "_model_name": "LayoutModel",
       "_view_count": null,
       "_view_module": "@jupyter-widgets/base",
       "_view_module_version": "1.2.0",
       "_view_name": "LayoutView",
       "align_content": null,
       "align_items": null,
       "align_self": null,
       "border": null,
       "bottom": null,
       "display": null,
       "flex": null,
       "flex_flow": null,
       "grid_area": null,
       "grid_auto_columns": null,
       "grid_auto_flow": null,
       "grid_auto_rows": null,
       "grid_column": null,
       "grid_gap": null,
       "grid_row": null,
       "grid_template_areas": null,
       "grid_template_columns": null,
       "grid_template_rows": null,
       "height": null,
       "justify_content": null,
       "justify_items": null,
       "left": null,
       "margin": null,
       "max_height": null,
       "max_width": null,
       "min_height": null,
       "min_width": null,
       "object_fit": null,
       "object_position": null,
       "order": null,
       "overflow": null,
       "overflow_x": null,
       "overflow_y": null,
       "padding": null,
       "right": null,
       "top": null,
       "visibility": null,
       "width": null
      }
     },
     "c51cd4db9b90470099160a1ecaef9622": {
      "model_module": "@jupyter-widgets/controls",
      "model_module_version": "1.5.0",
      "model_name": "DescriptionStyleModel",
      "state": {
       "_model_module": "@jupyter-widgets/controls",
       "_model_module_version": "1.5.0",
       "_model_name": "DescriptionStyleModel",
       "_view_count": null,
       "_view_module": "@jupyter-widgets/base",
       "_view_module_version": "1.2.0",
       "_view_name": "StyleView",
       "description_width": ""
      }
     },
     "c5aa4914434c4b048f7a7926072b1319": {
      "model_module": "@jupyter-widgets/controls",
      "model_module_version": "1.5.0",
      "model_name": "DescriptionStyleModel",
      "state": {
       "_model_module": "@jupyter-widgets/controls",
       "_model_module_version": "1.5.0",
       "_model_name": "DescriptionStyleModel",
       "_view_count": null,
       "_view_module": "@jupyter-widgets/base",
       "_view_module_version": "1.2.0",
       "_view_name": "StyleView",
       "description_width": ""
      }
     },
     "c5beebfacbe045218bd34ea858c5aa60": {
      "model_module": "@jupyter-widgets/base",
      "model_module_version": "1.2.0",
      "model_name": "LayoutModel",
      "state": {
       "_model_module": "@jupyter-widgets/base",
       "_model_module_version": "1.2.0",
       "_model_name": "LayoutModel",
       "_view_count": null,
       "_view_module": "@jupyter-widgets/base",
       "_view_module_version": "1.2.0",
       "_view_name": "LayoutView",
       "align_content": null,
       "align_items": null,
       "align_self": null,
       "border": null,
       "bottom": null,
       "display": null,
       "flex": null,
       "flex_flow": null,
       "grid_area": null,
       "grid_auto_columns": null,
       "grid_auto_flow": null,
       "grid_auto_rows": null,
       "grid_column": null,
       "grid_gap": null,
       "grid_row": null,
       "grid_template_areas": null,
       "grid_template_columns": null,
       "grid_template_rows": null,
       "height": null,
       "justify_content": null,
       "justify_items": null,
       "left": null,
       "margin": null,
       "max_height": null,
       "max_width": null,
       "min_height": null,
       "min_width": null,
       "object_fit": null,
       "object_position": null,
       "order": null,
       "overflow": null,
       "overflow_x": null,
       "overflow_y": null,
       "padding": null,
       "right": null,
       "top": null,
       "visibility": null,
       "width": null
      }
     },
     "c9418f3d0bc747dabde0410513fb105b": {
      "model_module": "@jupyter-widgets/base",
      "model_module_version": "1.2.0",
      "model_name": "LayoutModel",
      "state": {
       "_model_module": "@jupyter-widgets/base",
       "_model_module_version": "1.2.0",
       "_model_name": "LayoutModel",
       "_view_count": null,
       "_view_module": "@jupyter-widgets/base",
       "_view_module_version": "1.2.0",
       "_view_name": "LayoutView",
       "align_content": null,
       "align_items": null,
       "align_self": null,
       "border": null,
       "bottom": null,
       "display": null,
       "flex": null,
       "flex_flow": null,
       "grid_area": null,
       "grid_auto_columns": null,
       "grid_auto_flow": null,
       "grid_auto_rows": null,
       "grid_column": null,
       "grid_gap": null,
       "grid_row": null,
       "grid_template_areas": null,
       "grid_template_columns": null,
       "grid_template_rows": null,
       "height": null,
       "justify_content": null,
       "justify_items": null,
       "left": null,
       "margin": null,
       "max_height": null,
       "max_width": null,
       "min_height": null,
       "min_width": null,
       "object_fit": null,
       "object_position": null,
       "order": null,
       "overflow": null,
       "overflow_x": null,
       "overflow_y": null,
       "padding": null,
       "right": null,
       "top": null,
       "visibility": null,
       "width": null
      }
     },
     "ca00da69a2f94c72915c6e7b118de6a5": {
      "model_module": "@jupyter-widgets/base",
      "model_module_version": "1.2.0",
      "model_name": "LayoutModel",
      "state": {
       "_model_module": "@jupyter-widgets/base",
       "_model_module_version": "1.2.0",
       "_model_name": "LayoutModel",
       "_view_count": null,
       "_view_module": "@jupyter-widgets/base",
       "_view_module_version": "1.2.0",
       "_view_name": "LayoutView",
       "align_content": null,
       "align_items": null,
       "align_self": null,
       "border": null,
       "bottom": null,
       "display": null,
       "flex": null,
       "flex_flow": null,
       "grid_area": null,
       "grid_auto_columns": null,
       "grid_auto_flow": null,
       "grid_auto_rows": null,
       "grid_column": null,
       "grid_gap": null,
       "grid_row": null,
       "grid_template_areas": null,
       "grid_template_columns": null,
       "grid_template_rows": null,
       "height": null,
       "justify_content": null,
       "justify_items": null,
       "left": null,
       "margin": null,
       "max_height": null,
       "max_width": null,
       "min_height": null,
       "min_width": null,
       "object_fit": null,
       "object_position": null,
       "order": null,
       "overflow": null,
       "overflow_x": null,
       "overflow_y": null,
       "padding": null,
       "right": null,
       "top": null,
       "visibility": null,
       "width": null
      }
     },
     "cbf749561539428c98342045f7e5944c": {
      "model_module": "@jupyter-widgets/controls",
      "model_module_version": "1.5.0",
      "model_name": "HTMLModel",
      "state": {
       "_dom_classes": [],
       "_model_module": "@jupyter-widgets/controls",
       "_model_module_version": "1.5.0",
       "_model_name": "HTMLModel",
       "_view_count": null,
       "_view_module": "@jupyter-widgets/controls",
       "_view_module_version": "1.5.0",
       "_view_name": "HTMLView",
       "description": "",
       "description_tooltip": null,
       "layout": "IPY_MODEL_ecf6b97a4f854a6cb47dbbebc4159c1f",
       "placeholder": "​",
       "style": "IPY_MODEL_0a5442d56d06472e9cb422f5fb6b1353",
       "value": " 798k/798k [00:00&lt;00:00, 6.20MB/s]"
      }
     },
     "cc2cbbfd336e4745b5f746d4a6360d4f": {
      "model_module": "@jupyter-widgets/base",
      "model_module_version": "1.2.0",
      "model_name": "LayoutModel",
      "state": {
       "_model_module": "@jupyter-widgets/base",
       "_model_module_version": "1.2.0",
       "_model_name": "LayoutModel",
       "_view_count": null,
       "_view_module": "@jupyter-widgets/base",
       "_view_module_version": "1.2.0",
       "_view_name": "LayoutView",
       "align_content": null,
       "align_items": null,
       "align_self": null,
       "border": null,
       "bottom": null,
       "display": null,
       "flex": null,
       "flex_flow": null,
       "grid_area": null,
       "grid_auto_columns": null,
       "grid_auto_flow": null,
       "grid_auto_rows": null,
       "grid_column": null,
       "grid_gap": null,
       "grid_row": null,
       "grid_template_areas": null,
       "grid_template_columns": null,
       "grid_template_rows": null,
       "height": null,
       "justify_content": null,
       "justify_items": null,
       "left": null,
       "margin": null,
       "max_height": null,
       "max_width": null,
       "min_height": null,
       "min_width": null,
       "object_fit": null,
       "object_position": null,
       "order": null,
       "overflow": null,
       "overflow_x": null,
       "overflow_y": null,
       "padding": null,
       "right": null,
       "top": null,
       "visibility": null,
       "width": null
      }
     },
     "cfa653fdbbff4e89adc3aa406483b177": {
      "model_module": "@jupyter-widgets/controls",
      "model_module_version": "1.5.0",
      "model_name": "HBoxModel",
      "state": {
       "_dom_classes": [],
       "_model_module": "@jupyter-widgets/controls",
       "_model_module_version": "1.5.0",
       "_model_name": "HBoxModel",
       "_view_count": null,
       "_view_module": "@jupyter-widgets/controls",
       "_view_module_version": "1.5.0",
       "_view_name": "HBoxView",
       "box_style": "",
       "children": [
        "IPY_MODEL_3a906ba134d748c6bdb845e917832101",
        "IPY_MODEL_46309ce8d48648469a35a751059e53f1",
        "IPY_MODEL_a759ce25fffe48b48dc0abcab3a712bb"
       ],
       "layout": "IPY_MODEL_75f5edd0282a4849aeebcc8b2c7be17c"
      }
     },
     "d7586bb8eb0149f48dbe1e053e3999ef": {
      "model_module": "@jupyter-widgets/controls",
      "model_module_version": "1.5.0",
      "model_name": "HBoxModel",
      "state": {
       "_dom_classes": [],
       "_model_module": "@jupyter-widgets/controls",
       "_model_module_version": "1.5.0",
       "_model_name": "HBoxModel",
       "_view_count": null,
       "_view_module": "@jupyter-widgets/controls",
       "_view_module_version": "1.5.0",
       "_view_name": "HBoxView",
       "box_style": "",
       "children": [
        "IPY_MODEL_2df74a3b8603408c9be5b14105716ca1",
        "IPY_MODEL_1de11338e8714da7b3b665862469e6b7",
        "IPY_MODEL_e20717e8eb844ba494719ae5edf030dc"
       ],
       "layout": "IPY_MODEL_265a28fa404a4bc2a1360d82ac7f0229"
      }
     },
     "da63d957a84f47f09e8ab35c8ac2be23": {
      "model_module": "@jupyter-widgets/controls",
      "model_module_version": "1.5.0",
      "model_name": "FloatProgressModel",
      "state": {
       "_dom_classes": [],
       "_model_module": "@jupyter-widgets/controls",
       "_model_module_version": "1.5.0",
       "_model_name": "FloatProgressModel",
       "_view_count": null,
       "_view_module": "@jupyter-widgets/controls",
       "_view_module_version": "1.5.0",
       "_view_name": "ProgressView",
       "bar_style": "success",
       "description": "",
       "description_tooltip": null,
       "layout": "IPY_MODEL_1b378d9aba8f4c8aa56f3c7ce8920d30",
       "max": 34604.0,
       "min": 0.0,
       "orientation": "horizontal",
       "style": "IPY_MODEL_91a1e818e8a645b59ae408487250bcec",
       "value": 34604.0
      }
     },
     "db01b215ac04454aad5e809bedc35663": {
      "model_module": "@jupyter-widgets/controls",
      "model_module_version": "1.5.0",
      "model_name": "HBoxModel",
      "state": {
       "_dom_classes": [],
       "_model_module": "@jupyter-widgets/controls",
       "_model_module_version": "1.5.0",
       "_model_name": "HBoxModel",
       "_view_count": null,
       "_view_module": "@jupyter-widgets/controls",
       "_view_module_version": "1.5.0",
       "_view_name": "HBoxView",
       "box_style": "",
       "children": [
        "IPY_MODEL_f6821d38bf3b495fbd1f0936ca5684ed",
        "IPY_MODEL_da63d957a84f47f09e8ab35c8ac2be23",
        "IPY_MODEL_dff795317b3248f5aa49e9c226c9b9cb"
       ],
       "layout": "IPY_MODEL_f1c41a0cd149455a90fe7b298678d4dc"
      }
     },
     "db2914885b2d4e73a4d9f4a290c57e9c": {
      "model_module": "@jupyter-widgets/base",
      "model_module_version": "1.2.0",
      "model_name": "LayoutModel",
      "state": {
       "_model_module": "@jupyter-widgets/base",
       "_model_module_version": "1.2.0",
       "_model_name": "LayoutModel",
       "_view_count": null,
       "_view_module": "@jupyter-widgets/base",
       "_view_module_version": "1.2.0",
       "_view_name": "LayoutView",
       "align_content": null,
       "align_items": null,
       "align_self": null,
       "border": null,
       "bottom": null,
       "display": null,
       "flex": null,
       "flex_flow": null,
       "grid_area": null,
       "grid_auto_columns": null,
       "grid_auto_flow": null,
       "grid_auto_rows": null,
       "grid_column": null,
       "grid_gap": null,
       "grid_row": null,
       "grid_template_areas": null,
       "grid_template_columns": null,
       "grid_template_rows": null,
       "height": null,
       "justify_content": null,
       "justify_items": null,
       "left": null,
       "margin": null,
       "max_height": null,
       "max_width": null,
       "min_height": null,
       "min_width": null,
       "object_fit": null,
       "object_position": null,
       "order": null,
       "overflow": null,
       "overflow_x": null,
       "overflow_y": null,
       "padding": null,
       "right": null,
       "top": null,
       "visibility": null,
       "width": null
      }
     },
     "dd1b363e9ec4416db0dccb725ec40596": {
      "model_module": "@jupyter-widgets/base",
      "model_module_version": "1.2.0",
      "model_name": "LayoutModel",
      "state": {
       "_model_module": "@jupyter-widgets/base",
       "_model_module_version": "1.2.0",
       "_model_name": "LayoutModel",
       "_view_count": null,
       "_view_module": "@jupyter-widgets/base",
       "_view_module_version": "1.2.0",
       "_view_name": "LayoutView",
       "align_content": null,
       "align_items": null,
       "align_self": null,
       "border": null,
       "bottom": null,
       "display": null,
       "flex": null,
       "flex_flow": null,
       "grid_area": null,
       "grid_auto_columns": null,
       "grid_auto_flow": null,
       "grid_auto_rows": null,
       "grid_column": null,
       "grid_gap": null,
       "grid_row": null,
       "grid_template_areas": null,
       "grid_template_columns": null,
       "grid_template_rows": null,
       "height": null,
       "justify_content": null,
       "justify_items": null,
       "left": null,
       "margin": null,
       "max_height": null,
       "max_width": null,
       "min_height": null,
       "min_width": null,
       "object_fit": null,
       "object_position": null,
       "order": null,
       "overflow": null,
       "overflow_x": null,
       "overflow_y": null,
       "padding": null,
       "right": null,
       "top": null,
       "visibility": null,
       "width": null
      }
     },
     "dff795317b3248f5aa49e9c226c9b9cb": {
      "model_module": "@jupyter-widgets/controls",
      "model_module_version": "1.5.0",
      "model_name": "HTMLModel",
      "state": {
       "_dom_classes": [],
       "_model_module": "@jupyter-widgets/controls",
       "_model_module_version": "1.5.0",
       "_model_name": "HTMLModel",
       "_view_count": null,
       "_view_module": "@jupyter-widgets/controls",
       "_view_module_version": "1.5.0",
       "_view_name": "HTMLView",
       "description": "",
       "description_tooltip": null,
       "layout": "IPY_MODEL_a0b8d96e34ed40c3b9c44333d0eb5ceb",
       "placeholder": "​",
       "style": "IPY_MODEL_1b6ecc2778fb49dfa37b8b00f97865a9",
       "value": " 34.6k/34.6k [00:00&lt;00:00, 3.33MB/s]"
      }
     },
     "e03990caee99460f99f942ed6917d84c": {
      "model_module": "@jupyter-widgets/controls",
      "model_module_version": "1.5.0",
      "model_name": "FloatProgressModel",
      "state": {
       "_dom_classes": [],
       "_model_module": "@jupyter-widgets/controls",
       "_model_module_version": "1.5.0",
       "_model_name": "FloatProgressModel",
       "_view_count": null,
       "_view_module": "@jupyter-widgets/controls",
       "_view_module_version": "1.5.0",
       "_view_name": "ProgressView",
       "bar_style": "success",
       "description": "",
       "description_tooltip": null,
       "layout": "IPY_MODEL_64a0e723e3d8415c842c61b10880d911",
       "max": 456318.0,
       "min": 0.0,
       "orientation": "horizontal",
       "style": "IPY_MODEL_74bf7ccfe1e1415a9fc416dc436b9ced",
       "value": 456318.0
      }
     },
     "e040e644551c4bd9872cd485d1e3b4d2": {
      "model_module": "@jupyter-widgets/base",
      "model_module_version": "1.2.0",
      "model_name": "LayoutModel",
      "state": {
       "_model_module": "@jupyter-widgets/base",
       "_model_module_version": "1.2.0",
       "_model_name": "LayoutModel",
       "_view_count": null,
       "_view_module": "@jupyter-widgets/base",
       "_view_module_version": "1.2.0",
       "_view_name": "LayoutView",
       "align_content": null,
       "align_items": null,
       "align_self": null,
       "border": null,
       "bottom": null,
       "display": null,
       "flex": null,
       "flex_flow": null,
       "grid_area": null,
       "grid_auto_columns": null,
       "grid_auto_flow": null,
       "grid_auto_rows": null,
       "grid_column": null,
       "grid_gap": null,
       "grid_row": null,
       "grid_template_areas": null,
       "grid_template_columns": null,
       "grid_template_rows": null,
       "height": null,
       "justify_content": null,
       "justify_items": null,
       "left": null,
       "margin": null,
       "max_height": null,
       "max_width": null,
       "min_height": null,
       "min_width": null,
       "object_fit": null,
       "object_position": null,
       "order": null,
       "overflow": null,
       "overflow_x": null,
       "overflow_y": null,
       "padding": null,
       "right": null,
       "top": null,
       "visibility": null,
       "width": null
      }
     },
     "e0a144f3e7a64b51b30d5dc6659e4e86": {
      "model_module": "@jupyter-widgets/controls",
      "model_module_version": "1.5.0",
      "model_name": "ProgressStyleModel",
      "state": {
       "_model_module": "@jupyter-widgets/controls",
       "_model_module_version": "1.5.0",
       "_model_name": "ProgressStyleModel",
       "_view_count": null,
       "_view_module": "@jupyter-widgets/base",
       "_view_module_version": "1.2.0",
       "_view_name": "StyleView",
       "bar_color": null,
       "description_width": ""
      }
     },
     "e109d4924d4f4e7597de3616e50294d3": {
      "model_module": "@jupyter-widgets/base",
      "model_module_version": "1.2.0",
      "model_name": "LayoutModel",
      "state": {
       "_model_module": "@jupyter-widgets/base",
       "_model_module_version": "1.2.0",
       "_model_name": "LayoutModel",
       "_view_count": null,
       "_view_module": "@jupyter-widgets/base",
       "_view_module_version": "1.2.0",
       "_view_name": "LayoutView",
       "align_content": null,
       "align_items": null,
       "align_self": null,
       "border": null,
       "bottom": null,
       "display": null,
       "flex": null,
       "flex_flow": null,
       "grid_area": null,
       "grid_auto_columns": null,
       "grid_auto_flow": null,
       "grid_auto_rows": null,
       "grid_column": null,
       "grid_gap": null,
       "grid_row": null,
       "grid_template_areas": null,
       "grid_template_columns": null,
       "grid_template_rows": null,
       "height": null,
       "justify_content": null,
       "justify_items": null,
       "left": null,
       "margin": null,
       "max_height": null,
       "max_width": null,
       "min_height": null,
       "min_width": null,
       "object_fit": null,
       "object_position": null,
       "order": null,
       "overflow": null,
       "overflow_x": null,
       "overflow_y": null,
       "padding": null,
       "right": null,
       "top": null,
       "visibility": null,
       "width": null
      }
     },
     "e20717e8eb844ba494719ae5edf030dc": {
      "model_module": "@jupyter-widgets/controls",
      "model_module_version": "1.5.0",
      "model_name": "HTMLModel",
      "state": {
       "_dom_classes": [],
       "_model_module": "@jupyter-widgets/controls",
       "_model_module_version": "1.5.0",
       "_model_name": "HTMLModel",
       "_view_count": null,
       "_view_module": "@jupyter-widgets/controls",
       "_view_module_version": "1.5.0",
       "_view_name": "HTMLView",
       "description": "",
       "description_tooltip": null,
       "layout": "IPY_MODEL_2e400fe9371b4233aaef55d5a20c1ca8",
       "placeholder": "​",
       "style": "IPY_MODEL_92987cee7f5f44b2a44a205ed8cfe271",
       "value": " 151M/151M [00:00&lt;00:00, 244MB/s]"
      }
     },
     "e5faeb14ab1243baa3000b2986250d37": {
      "model_module": "@jupyter-widgets/controls",
      "model_module_version": "1.5.0",
      "model_name": "HTMLModel",
      "state": {
       "_dom_classes": [],
       "_model_module": "@jupyter-widgets/controls",
       "_model_module_version": "1.5.0",
       "_model_name": "HTMLModel",
       "_view_count": null,
       "_view_module": "@jupyter-widgets/controls",
       "_view_module_version": "1.5.0",
       "_view_name": "HTMLView",
       "description": "",
       "description_tooltip": null,
       "layout": "IPY_MODEL_f0c99e8bb2e341d58027030cf3462ca6",
       "placeholder": "​",
       "style": "IPY_MODEL_41c94c3db5744dbd922084265dd4032e",
       "value": "generation_config.json: 100%"
      }
     },
     "e745fffbc8c3472c84fd3a085559e200": {
      "model_module": "@jupyter-widgets/base",
      "model_module_version": "1.2.0",
      "model_name": "LayoutModel",
      "state": {
       "_model_module": "@jupyter-widgets/base",
       "_model_module_version": "1.2.0",
       "_model_name": "LayoutModel",
       "_view_count": null,
       "_view_module": "@jupyter-widgets/base",
       "_view_module_version": "1.2.0",
       "_view_name": "LayoutView",
       "align_content": null,
       "align_items": null,
       "align_self": null,
       "border": null,
       "bottom": null,
       "display": null,
       "flex": null,
       "flex_flow": null,
       "grid_area": null,
       "grid_auto_columns": null,
       "grid_auto_flow": null,
       "grid_auto_rows": null,
       "grid_column": null,
       "grid_gap": null,
       "grid_row": null,
       "grid_template_areas": null,
       "grid_template_columns": null,
       "grid_template_rows": null,
       "height": null,
       "justify_content": null,
       "justify_items": null,
       "left": null,
       "margin": null,
       "max_height": null,
       "max_width": null,
       "min_height": null,
       "min_width": null,
       "object_fit": null,
       "object_position": null,
       "order": null,
       "overflow": null,
       "overflow_x": null,
       "overflow_y": null,
       "padding": null,
       "right": null,
       "top": null,
       "visibility": null,
       "width": null
      }
     },
     "e80530ff15294e33aadb54092bfe9bd8": {
      "model_module": "@jupyter-widgets/controls",
      "model_module_version": "1.5.0",
      "model_name": "DescriptionStyleModel",
      "state": {
       "_model_module": "@jupyter-widgets/controls",
       "_model_module_version": "1.5.0",
       "_model_name": "DescriptionStyleModel",
       "_view_count": null,
       "_view_module": "@jupyter-widgets/base",
       "_view_module_version": "1.2.0",
       "_view_name": "StyleView",
       "description_width": ""
      }
     },
     "ec9e3fdf98b649df860f7370c6625ea7": {
      "model_module": "@jupyter-widgets/base",
      "model_module_version": "1.2.0",
      "model_name": "LayoutModel",
      "state": {
       "_model_module": "@jupyter-widgets/base",
       "_model_module_version": "1.2.0",
       "_model_name": "LayoutModel",
       "_view_count": null,
       "_view_module": "@jupyter-widgets/base",
       "_view_module_version": "1.2.0",
       "_view_name": "LayoutView",
       "align_content": null,
       "align_items": null,
       "align_self": null,
       "border": null,
       "bottom": null,
       "display": null,
       "flex": null,
       "flex_flow": null,
       "grid_area": null,
       "grid_auto_columns": null,
       "grid_auto_flow": null,
       "grid_auto_rows": null,
       "grid_column": null,
       "grid_gap": null,
       "grid_row": null,
       "grid_template_areas": null,
       "grid_template_columns": null,
       "grid_template_rows": null,
       "height": null,
       "justify_content": null,
       "justify_items": null,
       "left": null,
       "margin": null,
       "max_height": null,
       "max_width": null,
       "min_height": null,
       "min_width": null,
       "object_fit": null,
       "object_position": null,
       "order": null,
       "overflow": null,
       "overflow_x": null,
       "overflow_y": null,
       "padding": null,
       "right": null,
       "top": null,
       "visibility": null,
       "width": null
      }
     },
     "ecf6b97a4f854a6cb47dbbebc4159c1f": {
      "model_module": "@jupyter-widgets/base",
      "model_module_version": "1.2.0",
      "model_name": "LayoutModel",
      "state": {
       "_model_module": "@jupyter-widgets/base",
       "_model_module_version": "1.2.0",
       "_model_name": "LayoutModel",
       "_view_count": null,
       "_view_module": "@jupyter-widgets/base",
       "_view_module_version": "1.2.0",
       "_view_name": "LayoutView",
       "align_content": null,
       "align_items": null,
       "align_self": null,
       "border": null,
       "bottom": null,
       "display": null,
       "flex": null,
       "flex_flow": null,
       "grid_area": null,
       "grid_auto_columns": null,
       "grid_auto_flow": null,
       "grid_auto_rows": null,
       "grid_column": null,
       "grid_gap": null,
       "grid_row": null,
       "grid_template_areas": null,
       "grid_template_columns": null,
       "grid_template_rows": null,
       "height": null,
       "justify_content": null,
       "justify_items": null,
       "left": null,
       "margin": null,
       "max_height": null,
       "max_width": null,
       "min_height": null,
       "min_width": null,
       "object_fit": null,
       "object_position": null,
       "order": null,
       "overflow": null,
       "overflow_x": null,
       "overflow_y": null,
       "padding": null,
       "right": null,
       "top": null,
       "visibility": null,
       "width": null
      }
     },
     "efd3b4e198e94db6a2c2d622fdcc5c39": {
      "model_module": "@jupyter-widgets/base",
      "model_module_version": "1.2.0",
      "model_name": "LayoutModel",
      "state": {
       "_model_module": "@jupyter-widgets/base",
       "_model_module_version": "1.2.0",
       "_model_name": "LayoutModel",
       "_view_count": null,
       "_view_module": "@jupyter-widgets/base",
       "_view_module_version": "1.2.0",
       "_view_name": "LayoutView",
       "align_content": null,
       "align_items": null,
       "align_self": null,
       "border": null,
       "bottom": null,
       "display": null,
       "flex": null,
       "flex_flow": null,
       "grid_area": null,
       "grid_auto_columns": null,
       "grid_auto_flow": null,
       "grid_auto_rows": null,
       "grid_column": null,
       "grid_gap": null,
       "grid_row": null,
       "grid_template_areas": null,
       "grid_template_columns": null,
       "grid_template_rows": null,
       "height": null,
       "justify_content": null,
       "justify_items": null,
       "left": null,
       "margin": null,
       "max_height": null,
       "max_width": null,
       "min_height": null,
       "min_width": null,
       "object_fit": null,
       "object_position": null,
       "order": null,
       "overflow": null,
       "overflow_x": null,
       "overflow_y": null,
       "padding": null,
       "right": null,
       "top": null,
       "visibility": null,
       "width": null
      }
     },
     "f0c99e8bb2e341d58027030cf3462ca6": {
      "model_module": "@jupyter-widgets/base",
      "model_module_version": "1.2.0",
      "model_name": "LayoutModel",
      "state": {
       "_model_module": "@jupyter-widgets/base",
       "_model_module_version": "1.2.0",
       "_model_name": "LayoutModel",
       "_view_count": null,
       "_view_module": "@jupyter-widgets/base",
       "_view_module_version": "1.2.0",
       "_view_name": "LayoutView",
       "align_content": null,
       "align_items": null,
       "align_self": null,
       "border": null,
       "bottom": null,
       "display": null,
       "flex": null,
       "flex_flow": null,
       "grid_area": null,
       "grid_auto_columns": null,
       "grid_auto_flow": null,
       "grid_auto_rows": null,
       "grid_column": null,
       "grid_gap": null,
       "grid_row": null,
       "grid_template_areas": null,
       "grid_template_columns": null,
       "grid_template_rows": null,
       "height": null,
       "justify_content": null,
       "justify_items": null,
       "left": null,
       "margin": null,
       "max_height": null,
       "max_width": null,
       "min_height": null,
       "min_width": null,
       "object_fit": null,
       "object_position": null,
       "order": null,
       "overflow": null,
       "overflow_x": null,
       "overflow_y": null,
       "padding": null,
       "right": null,
       "top": null,
       "visibility": null,
       "width": null
      }
     },
     "f1c41a0cd149455a90fe7b298678d4dc": {
      "model_module": "@jupyter-widgets/base",
      "model_module_version": "1.2.0",
      "model_name": "LayoutModel",
      "state": {
       "_model_module": "@jupyter-widgets/base",
       "_model_module_version": "1.2.0",
       "_model_name": "LayoutModel",
       "_view_count": null,
       "_view_module": "@jupyter-widgets/base",
       "_view_module_version": "1.2.0",
       "_view_name": "LayoutView",
       "align_content": null,
       "align_items": null,
       "align_self": null,
       "border": null,
       "bottom": null,
       "display": null,
       "flex": null,
       "flex_flow": null,
       "grid_area": null,
       "grid_auto_columns": null,
       "grid_auto_flow": null,
       "grid_auto_rows": null,
       "grid_column": null,
       "grid_gap": null,
       "grid_row": null,
       "grid_template_areas": null,
       "grid_template_columns": null,
       "grid_template_rows": null,
       "height": null,
       "justify_content": null,
       "justify_items": null,
       "left": null,
       "margin": null,
       "max_height": null,
       "max_width": null,
       "min_height": null,
       "min_width": null,
       "object_fit": null,
       "object_position": null,
       "order": null,
       "overflow": null,
       "overflow_x": null,
       "overflow_y": null,
       "padding": null,
       "right": null,
       "top": null,
       "visibility": null,
       "width": null
      }
     },
     "f6821d38bf3b495fbd1f0936ca5684ed": {
      "model_module": "@jupyter-widgets/controls",
      "model_module_version": "1.5.0",
      "model_name": "HTMLModel",
      "state": {
       "_dom_classes": [],
       "_model_module": "@jupyter-widgets/controls",
       "_model_module_version": "1.5.0",
       "_model_name": "HTMLModel",
       "_view_count": null,
       "_view_module": "@jupyter-widgets/controls",
       "_view_module_version": "1.5.0",
       "_view_name": "HTMLView",
       "description": "",
       "description_tooltip": null,
       "layout": "IPY_MODEL_5d6c78b529ce4da9a8ef214ef5fcecef",
       "placeholder": "​",
       "style": "IPY_MODEL_5e4e89156aab491581b623ff3b85ac14",
       "value": "added_tokens.json: 100%"
      }
     },
     "f73731e6921749a8a0ce51693a697903": {
      "model_module": "@jupyter-widgets/controls",
      "model_module_version": "1.5.0",
      "model_name": "HBoxModel",
      "state": {
       "_dom_classes": [],
       "_model_module": "@jupyter-widgets/controls",
       "_model_module_version": "1.5.0",
       "_model_name": "HBoxModel",
       "_view_count": null,
       "_view_module": "@jupyter-widgets/controls",
       "_view_module_version": "1.5.0",
       "_view_name": "HBoxView",
       "box_style": "",
       "children": [
        "IPY_MODEL_e5faeb14ab1243baa3000b2986250d37",
        "IPY_MODEL_5cdbfcdd6f154b778b747105f0c4f8ac",
        "IPY_MODEL_0201b4563581461dba4dda47bbfde5e2"
       ],
       "layout": "IPY_MODEL_163d07f9d8884c74bf21430765c31a1c"
      }
     }
    },
    "version_major": 2,
    "version_minor": 0
   }
  }
 },
 "nbformat": 4,
 "nbformat_minor": 5
}

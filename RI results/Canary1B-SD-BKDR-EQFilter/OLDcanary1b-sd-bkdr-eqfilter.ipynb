{
 "cells": [
  {
   "cell_type": "code",
   "execution_count": 1,
   "id": "bfc1e060",
   "metadata": {
    "execution": {
     "iopub.execute_input": "2024-10-30T11:55:49.852409Z",
     "iopub.status.busy": "2024-10-30T11:55:49.851717Z",
     "iopub.status.idle": "2024-10-30T11:57:29.183851Z",
     "shell.execute_reply": "2024-10-30T11:57:29.182774Z"
    },
    "papermill": {
     "duration": 99.346347,
     "end_time": "2024-10-30T11:57:29.186154",
     "exception": false,
     "start_time": "2024-10-30T11:55:49.839807",
     "status": "completed"
    },
    "tags": []
   },
   "outputs": [
    {
     "name": "stdout",
     "output_type": "stream",
     "text": [
      "\u001b[33mDEPRECATION: git+https://github.com/NVIDIA/NeMo.git@r1.23.0#egg=nemo_toolkit[asr] contains an egg fragment with a non-PEP 508 name pip 25.0 will enforce this behaviour change. A possible replacement is to use the req @ url syntax, and remove the egg fragment. Discussion can be found at https://github.com/pypa/pip/issues/11617\u001b[0m\u001b[33m\r\n",
      "\u001b[0mCollecting nemo_toolkit (from nemo_toolkit[asr])\r\n",
      "  Cloning https://github.com/NVIDIA/NeMo.git (to revision r1.23.0) to /tmp/pip-install-hm2bgcs7/nemo-toolkit_49e4bc0d70034fadbe367e56b31a6ecb\r\n",
      "  Running command git clone --filter=blob:none --quiet https://github.com/NVIDIA/NeMo.git /tmp/pip-install-hm2bgcs7/nemo-toolkit_49e4bc0d70034fadbe367e56b31a6ecb\r\n",
      "  Running command git checkout -b r1.23.0 --track origin/r1.23.0\r\n",
      "  Switched to a new branch 'r1.23.0'\r\n",
      "  Branch 'r1.23.0' set up to track remote branch 'r1.23.0' from 'origin'.\r\n",
      "  Resolved https://github.com/NVIDIA/NeMo.git to commit e772dbf53145a7b45f13440cf6e0ef51035f80dc\r\n",
      "  Installing build dependencies ... \u001b[?25l-\b \b\\\b \b|\b \b/\b \bdone\r\n",
      "\u001b[?25h  Getting requirements to build wheel ... \u001b[?25l-\b \b\\\b \bdone\r\n",
      "\u001b[?25h  Preparing metadata (pyproject.toml) ... \u001b[?25l-\b \b\\\b \bdone\r\n",
      "\u001b[?25hRequirement already satisfied: huggingface-hub in /opt/conda/lib/python3.10/site-packages (from nemo_toolkit->nemo_toolkit[asr]) (0.25.1)\r\n",
      "Requirement already satisfied: numba in /opt/conda/lib/python3.10/site-packages (from nemo_toolkit->nemo_toolkit[asr]) (0.60.0)\r\n",
      "Requirement already satisfied: numpy>=1.22 in /opt/conda/lib/python3.10/site-packages (from nemo_toolkit->nemo_toolkit[asr]) (1.26.4)\r\n",
      "Requirement already satisfied: onnx>=1.7.0 in /opt/conda/lib/python3.10/site-packages (from nemo_toolkit->nemo_toolkit[asr]) (1.17.0)\r\n",
      "Requirement already satisfied: python-dateutil in /opt/conda/lib/python3.10/site-packages (from nemo_toolkit->nemo_toolkit[asr]) (2.9.0.post0)\r\n",
      "Requirement already satisfied: ruamel.yaml in /opt/conda/lib/python3.10/site-packages (from nemo_toolkit->nemo_toolkit[asr]) (0.18.6)\r\n",
      "Requirement already satisfied: scikit-learn in /opt/conda/lib/python3.10/site-packages (from nemo_toolkit->nemo_toolkit[asr]) (1.2.2)\r\n",
      "Requirement already satisfied: setuptools>=65.5.1 in /opt/conda/lib/python3.10/site-packages (from nemo_toolkit->nemo_toolkit[asr]) (70.0.0)\r\n",
      "Requirement already satisfied: tensorboard in /opt/conda/lib/python3.10/site-packages (from nemo_toolkit->nemo_toolkit[asr]) (2.16.2)\r\n",
      "Requirement already satisfied: text-unidecode in /opt/conda/lib/python3.10/site-packages (from nemo_toolkit->nemo_toolkit[asr]) (1.3)\r\n",
      "Requirement already satisfied: torch in /opt/conda/lib/python3.10/site-packages (from nemo_toolkit->nemo_toolkit[asr]) (2.4.0)\r\n",
      "Requirement already satisfied: tqdm>=4.41.0 in /opt/conda/lib/python3.10/site-packages (from nemo_toolkit->nemo_toolkit[asr]) (4.66.4)\r\n",
      "Collecting triton (from nemo_toolkit->nemo_toolkit[asr])\r\n",
      "  Downloading triton-3.1.0-cp310-cp310-manylinux_2_17_x86_64.manylinux2014_x86_64.whl.metadata (1.3 kB)\r\n",
      "Collecting wget (from nemo_toolkit->nemo_toolkit[asr])\r\n",
      "  Downloading wget-3.2.zip (10 kB)\r\n",
      "  Preparing metadata (setup.py) ... \u001b[?25l-\b \bdone\r\n",
      "\u001b[?25hRequirement already satisfied: wrapt in /opt/conda/lib/python3.10/site-packages (from nemo_toolkit->nemo_toolkit[asr]) (1.16.0)\r\n",
      "Collecting braceexpand (from nemo_toolkit->nemo_toolkit[asr])\r\n",
      "  Downloading braceexpand-0.1.7-py2.py3-none-any.whl.metadata (3.0 kB)\r\n",
      "Collecting editdistance (from nemo_toolkit->nemo_toolkit[asr])\r\n",
      "  Downloading editdistance-0.8.1-cp310-cp310-manylinux_2_17_x86_64.manylinux2014_x86_64.whl.metadata (3.9 kB)\r\n",
      "Collecting g2p-en (from nemo_toolkit->nemo_toolkit[asr])\r\n",
      "  Downloading g2p_en-2.1.0-py3-none-any.whl.metadata (4.5 kB)\r\n",
      "Requirement already satisfied: ipywidgets in /opt/conda/lib/python3.10/site-packages (from nemo_toolkit->nemo_toolkit[asr]) (7.7.1)\r\n",
      "Collecting jiwer (from nemo_toolkit->nemo_toolkit[asr])\r\n",
      "  Downloading jiwer-3.0.4-py3-none-any.whl.metadata (2.6 kB)\r\n",
      "Collecting kaldi-python-io (from nemo_toolkit->nemo_toolkit[asr])\r\n",
      "  Downloading kaldi-python-io-1.2.2.tar.gz (8.8 kB)\r\n",
      "  Preparing metadata (setup.py) ... \u001b[?25l-\b \bdone\r\n",
      "\u001b[?25hCollecting kaldiio (from nemo_toolkit->nemo_toolkit[asr])\r\n",
      "  Downloading kaldiio-2.18.0-py3-none-any.whl.metadata (13 kB)\r\n",
      "Collecting lhotse>=1.20.0 (from nemo_toolkit->nemo_toolkit[asr])\r\n",
      "  Downloading lhotse-1.27.0-py3-none-any.whl.metadata (17 kB)\r\n",
      "Requirement already satisfied: librosa>=0.10.0 in /opt/conda/lib/python3.10/site-packages (from nemo_toolkit->nemo_toolkit[asr]) (0.10.2.post1)\r\n",
      "Requirement already satisfied: marshmallow in /opt/conda/lib/python3.10/site-packages (from nemo_toolkit->nemo_toolkit[asr]) (3.22.0)\r\n",
      "Requirement already satisfied: matplotlib in /opt/conda/lib/python3.10/site-packages (from nemo_toolkit->nemo_toolkit[asr]) (3.7.5)\r\n",
      "Requirement already satisfied: packaging in /opt/conda/lib/python3.10/site-packages (from nemo_toolkit->nemo_toolkit[asr]) (21.3)\r\n",
      "Collecting pyannote.core (from nemo_toolkit->nemo_toolkit[asr])\r\n",
      "  Downloading pyannote.core-5.0.0-py3-none-any.whl.metadata (1.4 kB)\r\n",
      "Collecting pyannote.metrics (from nemo_toolkit->nemo_toolkit[asr])\r\n",
      "  Downloading pyannote.metrics-3.2.1-py3-none-any.whl.metadata (1.3 kB)\r\n",
      "Requirement already satisfied: pydub in /opt/conda/lib/python3.10/site-packages (from nemo_toolkit->nemo_toolkit[asr]) (0.25.1)\r\n",
      "Collecting pyloudnorm (from nemo_toolkit->nemo_toolkit[asr])\r\n",
      "  Downloading pyloudnorm-0.1.1-py3-none-any.whl.metadata (5.6 kB)\r\n",
      "Collecting resampy (from nemo_toolkit->nemo_toolkit[asr])\r\n",
      "  Downloading resampy-0.4.3-py3-none-any.whl.metadata (3.0 kB)\r\n",
      "Requirement already satisfied: scipy>=0.14 in /opt/conda/lib/python3.10/site-packages (from nemo_toolkit->nemo_toolkit[asr]) (1.14.1)\r\n",
      "Requirement already satisfied: soundfile in /opt/conda/lib/python3.10/site-packages (from nemo_toolkit->nemo_toolkit[asr]) (0.12.1)\r\n",
      "Collecting sox (from nemo_toolkit->nemo_toolkit[asr])\r\n",
      "  Downloading sox-1.5.0.tar.gz (63 kB)\r\n",
      "\u001b[2K     \u001b[90m━━━━━━━━━━━━━━━━━━━━━━━━━━━━━━━━━━━━━━━━\u001b[0m \u001b[32m63.9/63.9 kB\u001b[0m \u001b[31m3.4 MB/s\u001b[0m eta \u001b[36m0:00:00\u001b[0m\r\n",
      "\u001b[?25h  Preparing metadata (setup.py) ... \u001b[?25l-\b \b\\\b \bdone\r\n",
      "\u001b[?25hCollecting texterrors (from nemo_toolkit->nemo_toolkit[asr])\r\n",
      "  Downloading texterrors-0.5.1.tar.gz (23 kB)\r\n",
      "  Preparing metadata (setup.py) ... \u001b[?25l-\b \b\\\b \bdone\r\n",
      "\u001b[?25hCollecting hydra-core<=1.3.2,>1.3 (from nemo_toolkit->nemo_toolkit[asr])\r\n",
      "  Downloading hydra_core-1.3.2-py3-none-any.whl.metadata (5.5 kB)\r\n",
      "Collecting omegaconf<=2.3 (from nemo_toolkit->nemo_toolkit[asr])\r\n",
      "  Downloading omegaconf-2.3.0-py3-none-any.whl.metadata (3.9 kB)\r\n",
      "Collecting pytorch-lightning<=2.0.7,>=2.0 (from nemo_toolkit->nemo_toolkit[asr])\r\n",
      "  Downloading pytorch_lightning-2.0.7-py3-none-any.whl.metadata (23 kB)\r\n",
      "Requirement already satisfied: torchmetrics>=0.11.0 in /opt/conda/lib/python3.10/site-packages (from nemo_toolkit->nemo_toolkit[asr]) (1.4.2)\r\n",
      "Requirement already satisfied: transformers>=4.36.0 in /opt/conda/lib/python3.10/site-packages (from nemo_toolkit->nemo_toolkit[asr]) (4.45.1)\r\n",
      "Requirement already satisfied: wandb in /opt/conda/lib/python3.10/site-packages (from nemo_toolkit->nemo_toolkit[asr]) (0.18.3)\r\n",
      "Collecting webdataset<=0.1.62,>=0.1.48 (from nemo_toolkit->nemo_toolkit[asr])\r\n",
      "  Downloading webdataset-0.1.62-py3-none-any.whl.metadata (5.7 kB)\r\n",
      "Requirement already satisfied: datasets in /opt/conda/lib/python3.10/site-packages (from nemo_toolkit->nemo_toolkit[asr]) (3.0.1)\r\n",
      "Collecting inflect (from nemo_toolkit->nemo_toolkit[asr])\r\n",
      "  Downloading inflect-7.4.0-py3-none-any.whl.metadata (21 kB)\r\n",
      "Requirement already satisfied: pandas in /opt/conda/lib/python3.10/site-packages (from nemo_toolkit->nemo_toolkit[asr]) (2.2.2)\r\n",
      "Collecting sacremoses>=0.0.43 (from nemo_toolkit->nemo_toolkit[asr])\r\n",
      "  Downloading sacremoses-0.1.1-py3-none-any.whl.metadata (8.3 kB)\r\n",
      "Requirement already satisfied: sentencepiece<1.0.0 in /opt/conda/lib/python3.10/site-packages (from nemo_toolkit->nemo_toolkit[asr]) (0.2.0)\r\n",
      "Collecting youtokentome>=1.0.5 (from nemo_toolkit->nemo_toolkit[asr])\r\n",
      "  Downloading youtokentome-1.0.6.tar.gz (86 kB)\r\n",
      "\u001b[2K     \u001b[90m━━━━━━━━━━━━━━━━━━━━━━━━━━━━━━━━━━━━━━━━\u001b[0m \u001b[32m86.7/86.7 kB\u001b[0m \u001b[31m6.0 MB/s\u001b[0m eta \u001b[36m0:00:00\u001b[0m\r\n",
      "\u001b[?25h  Preparing metadata (setup.py) ... \u001b[?25l-\b \b\\\b \b|\b \bdone\r\n",
      "\u001b[?25hCollecting antlr4-python3-runtime==4.9.* (from hydra-core<=1.3.2,>1.3->nemo_toolkit->nemo_toolkit[asr])\r\n",
      "  Downloading antlr4-python3-runtime-4.9.3.tar.gz (117 kB)\r\n",
      "\u001b[2K     \u001b[90m━━━━━━━━━━━━━━━━━━━━━━━━━━━━━━━━━━━━━━━\u001b[0m \u001b[32m117.0/117.0 kB\u001b[0m \u001b[31m7.8 MB/s\u001b[0m eta \u001b[36m0:00:00\u001b[0m\r\n",
      "\u001b[?25h  Preparing metadata (setup.py) ... \u001b[?25l-\b \bdone\r\n",
      "\u001b[?25hRequirement already satisfied: audioread>=2.1.9 in /opt/conda/lib/python3.10/site-packages (from lhotse>=1.20.0->nemo_toolkit->nemo_toolkit[asr]) (3.0.1)\r\n",
      "Requirement already satisfied: click>=7.1.1 in /opt/conda/lib/python3.10/site-packages (from lhotse>=1.20.0->nemo_toolkit->nemo_toolkit[asr]) (8.1.7)\r\n",
      "Requirement already satisfied: cytoolz>=0.10.1 in /opt/conda/lib/python3.10/site-packages (from lhotse>=1.20.0->nemo_toolkit->nemo_toolkit[asr]) (0.12.3)\r\n",
      "Collecting intervaltree>=3.1.0 (from lhotse>=1.20.0->nemo_toolkit->nemo_toolkit[asr])\r\n",
      "  Downloading intervaltree-3.1.0.tar.gz (32 kB)\r\n",
      "  Preparing metadata (setup.py) ... \u001b[?25l-\b \bdone\r\n",
      "\u001b[?25hRequirement already satisfied: pyyaml>=5.3.1 in /opt/conda/lib/python3.10/site-packages (from lhotse>=1.20.0->nemo_toolkit->nemo_toolkit[asr]) (6.0.2)\r\n",
      "Requirement already satisfied: tabulate>=0.8.1 in /opt/conda/lib/python3.10/site-packages (from lhotse>=1.20.0->nemo_toolkit->nemo_toolkit[asr]) (0.9.0)\r\n",
      "Collecting lilcom>=1.1.0 (from lhotse>=1.20.0->nemo_toolkit->nemo_toolkit[asr])\r\n",
      "  Downloading lilcom-1.8.0-cp310-cp310-manylinux_2_17_x86_64.manylinux2014_x86_64.whl.metadata (3.0 kB)\r\n",
      "Requirement already satisfied: joblib>=0.14 in /opt/conda/lib/python3.10/site-packages (from librosa>=0.10.0->nemo_toolkit->nemo_toolkit[asr]) (1.4.2)\r\n",
      "Requirement already satisfied: decorator>=4.3.0 in /opt/conda/lib/python3.10/site-packages (from librosa>=0.10.0->nemo_toolkit->nemo_toolkit[asr]) (5.1.1)\r\n",
      "Requirement already satisfied: pooch>=1.1 in /opt/conda/lib/python3.10/site-packages (from librosa>=0.10.0->nemo_toolkit->nemo_toolkit[asr]) (1.8.2)\r\n",
      "Requirement already satisfied: soxr>=0.3.2 in /opt/conda/lib/python3.10/site-packages (from librosa>=0.10.0->nemo_toolkit->nemo_toolkit[asr]) (0.5.0.post1)\r\n",
      "Requirement already satisfied: typing-extensions>=4.1.1 in /opt/conda/lib/python3.10/site-packages (from librosa>=0.10.0->nemo_toolkit->nemo_toolkit[asr]) (4.12.2)\r\n",
      "Requirement already satisfied: lazy-loader>=0.1 in /opt/conda/lib/python3.10/site-packages (from librosa>=0.10.0->nemo_toolkit->nemo_toolkit[asr]) (0.4)\r\n",
      "Requirement already satisfied: msgpack>=1.0 in /opt/conda/lib/python3.10/site-packages (from librosa>=0.10.0->nemo_toolkit->nemo_toolkit[asr]) (1.0.8)\r\n",
      "Requirement already satisfied: llvmlite<0.44,>=0.43.0dev0 in /opt/conda/lib/python3.10/site-packages (from numba->nemo_toolkit->nemo_toolkit[asr]) (0.43.0)\r\n",
      "Requirement already satisfied: protobuf>=3.20.2 in /opt/conda/lib/python3.10/site-packages (from onnx>=1.7.0->nemo_toolkit->nemo_toolkit[asr]) (3.20.3)\r\n",
      "Requirement already satisfied: fsspec>2021.06.0 in /opt/conda/lib/python3.10/site-packages (from fsspec[http]>2021.06.0->pytorch-lightning<=2.0.7,>=2.0->nemo_toolkit->nemo_toolkit[asr]) (2024.6.1)\r\n",
      "Requirement already satisfied: lightning-utilities>=0.7.0 in /opt/conda/lib/python3.10/site-packages (from pytorch-lightning<=2.0.7,>=2.0->nemo_toolkit->nemo_toolkit[asr]) (0.11.7)\r\n",
      "Requirement already satisfied: pyparsing!=3.0.5,>=2.0.2 in /opt/conda/lib/python3.10/site-packages (from packaging->nemo_toolkit->nemo_toolkit[asr]) (3.1.2)\r\n",
      "Requirement already satisfied: regex in /opt/conda/lib/python3.10/site-packages (from sacremoses>=0.0.43->nemo_toolkit->nemo_toolkit[asr]) (2024.5.15)\r\n",
      "Requirement already satisfied: threadpoolctl>=2.0.0 in /opt/conda/lib/python3.10/site-packages (from scikit-learn->nemo_toolkit->nemo_toolkit[asr]) (3.5.0)\r\n",
      "Requirement already satisfied: cffi>=1.0 in /opt/conda/lib/python3.10/site-packages (from soundfile->nemo_toolkit->nemo_toolkit[asr]) (1.16.0)\r\n",
      "Requirement already satisfied: filelock in /opt/conda/lib/python3.10/site-packages (from torch->nemo_toolkit->nemo_toolkit[asr]) (3.15.1)\r\n",
      "Requirement already satisfied: sympy in /opt/conda/lib/python3.10/site-packages (from torch->nemo_toolkit->nemo_toolkit[asr]) (1.13.3)\r\n",
      "Requirement already satisfied: networkx in /opt/conda/lib/python3.10/site-packages (from torch->nemo_toolkit->nemo_toolkit[asr]) (3.3)\r\n",
      "Requirement already satisfied: jinja2 in /opt/conda/lib/python3.10/site-packages (from torch->nemo_toolkit->nemo_toolkit[asr]) (3.1.4)\r\n",
      "Requirement already satisfied: requests in /opt/conda/lib/python3.10/site-packages (from transformers>=4.36.0->nemo_toolkit->nemo_toolkit[asr]) (2.32.3)\r\n",
      "Requirement already satisfied: safetensors>=0.4.1 in /opt/conda/lib/python3.10/site-packages (from transformers>=4.36.0->nemo_toolkit->nemo_toolkit[asr]) (0.4.5)\r\n",
      "Requirement already satisfied: tokenizers<0.21,>=0.20 in /opt/conda/lib/python3.10/site-packages (from transformers>=4.36.0->nemo_toolkit->nemo_toolkit[asr]) (0.20.0)\r\n",
      "Requirement already satisfied: pyarrow>=15.0.0 in /opt/conda/lib/python3.10/site-packages (from datasets->nemo_toolkit->nemo_toolkit[asr]) (16.1.0)\r\n",
      "Requirement already satisfied: dill<0.3.9,>=0.3.0 in /opt/conda/lib/python3.10/site-packages (from datasets->nemo_toolkit->nemo_toolkit[asr]) (0.3.8)\r\n",
      "Requirement already satisfied: xxhash in /opt/conda/lib/python3.10/site-packages (from datasets->nemo_toolkit->nemo_toolkit[asr]) (3.4.1)\r\n",
      "Requirement already satisfied: multiprocess in /opt/conda/lib/python3.10/site-packages (from datasets->nemo_toolkit->nemo_toolkit[asr]) (0.70.16)\r\n",
      "Requirement already satisfied: aiohttp in /opt/conda/lib/python3.10/site-packages (from datasets->nemo_toolkit->nemo_toolkit[asr]) (3.9.5)\r\n",
      "Requirement already satisfied: nltk>=3.2.4 in /opt/conda/lib/python3.10/site-packages (from g2p-en->nemo_toolkit->nemo_toolkit[asr]) (3.2.4)\r\n",
      "Collecting distance>=0.1.3 (from g2p-en->nemo_toolkit->nemo_toolkit[asr])\r\n",
      "  Downloading Distance-0.1.3.tar.gz (180 kB)\r\n",
      "\u001b[2K     \u001b[90m━━━━━━━━━━━━━━━━━━━━━━━━━━━━━━━━━━━━━━\u001b[0m \u001b[32m180.3/180.3 kB\u001b[0m \u001b[31m12.5 MB/s\u001b[0m eta \u001b[36m0:00:00\u001b[0m\r\n",
      "\u001b[?25h  Preparing metadata (setup.py) ... \u001b[?25l-\b \bdone\r\n",
      "\u001b[?25hRequirement already satisfied: more-itertools>=8.5.0 in /opt/conda/lib/python3.10/site-packages (from inflect->nemo_toolkit->nemo_toolkit[asr]) (10.3.0)\r\n",
      "Requirement already satisfied: typeguard>=4.0.1 in /opt/conda/lib/python3.10/site-packages (from inflect->nemo_toolkit->nemo_toolkit[asr]) (4.3.0)\r\n",
      "Requirement already satisfied: ipykernel>=4.5.1 in /opt/conda/lib/python3.10/site-packages (from ipywidgets->nemo_toolkit->nemo_toolkit[asr]) (6.29.4)\r\n",
      "Requirement already satisfied: ipython-genutils~=0.2.0 in /opt/conda/lib/python3.10/site-packages (from ipywidgets->nemo_toolkit->nemo_toolkit[asr]) (0.2.0)\r\n",
      "Requirement already satisfied: traitlets>=4.3.1 in /opt/conda/lib/python3.10/site-packages (from ipywidgets->nemo_toolkit->nemo_toolkit[asr]) (5.14.3)\r\n",
      "Requirement already satisfied: widgetsnbextension~=3.6.0 in /opt/conda/lib/python3.10/site-packages (from ipywidgets->nemo_toolkit->nemo_toolkit[asr]) (3.6.9)\r\n",
      "Requirement already satisfied: ipython>=4.0.0 in /opt/conda/lib/python3.10/site-packages (from ipywidgets->nemo_toolkit->nemo_toolkit[asr]) (8.21.0)\r\n",
      "Requirement already satisfied: jupyterlab-widgets>=1.0.0 in /opt/conda/lib/python3.10/site-packages (from ipywidgets->nemo_toolkit->nemo_toolkit[asr]) (3.0.11)\r\n",
      "Collecting rapidfuzz<4,>=3 (from jiwer->nemo_toolkit->nemo_toolkit[asr])\r\n",
      "  Downloading rapidfuzz-3.10.1-cp310-cp310-manylinux_2_17_x86_64.manylinux2014_x86_64.whl.metadata (11 kB)\r\n",
      "Requirement already satisfied: contourpy>=1.0.1 in /opt/conda/lib/python3.10/site-packages (from matplotlib->nemo_toolkit->nemo_toolkit[asr]) (1.2.1)\r\n",
      "Requirement already satisfied: cycler>=0.10 in /opt/conda/lib/python3.10/site-packages (from matplotlib->nemo_toolkit->nemo_toolkit[asr]) (0.12.1)\r\n",
      "Requirement already satisfied: fonttools>=4.22.0 in /opt/conda/lib/python3.10/site-packages (from matplotlib->nemo_toolkit->nemo_toolkit[asr]) (4.53.0)\r\n",
      "Requirement already satisfied: kiwisolver>=1.0.1 in /opt/conda/lib/python3.10/site-packages (from matplotlib->nemo_toolkit->nemo_toolkit[asr]) (1.4.5)\r\n",
      "Requirement already satisfied: pillow>=6.2.0 in /opt/conda/lib/python3.10/site-packages (from matplotlib->nemo_toolkit->nemo_toolkit[asr]) (10.3.0)\r\n",
      "Requirement already satisfied: six>=1.5 in /opt/conda/lib/python3.10/site-packages (from python-dateutil->nemo_toolkit->nemo_toolkit[asr]) (1.16.0)\r\n",
      "Requirement already satisfied: pytz>=2020.1 in /opt/conda/lib/python3.10/site-packages (from pandas->nemo_toolkit->nemo_toolkit[asr]) (2024.1)\r\n",
      "Requirement already satisfied: tzdata>=2022.7 in /opt/conda/lib/python3.10/site-packages (from pandas->nemo_toolkit->nemo_toolkit[asr]) (2024.1)\r\n",
      "Requirement already satisfied: sortedcontainers>=2.0.4 in /opt/conda/lib/python3.10/site-packages (from pyannote.core->nemo_toolkit->nemo_toolkit[asr]) (2.4.0)\r\n",
      "Collecting pyannote.database>=4.0.1 (from pyannote.metrics->nemo_toolkit->nemo_toolkit[asr])\r\n",
      "  Downloading pyannote.database-5.1.0-py3-none-any.whl.metadata (1.2 kB)\r\n",
      "Requirement already satisfied: docopt>=0.6.2 in /opt/conda/lib/python3.10/site-packages (from pyannote.metrics->nemo_toolkit->nemo_toolkit[asr]) (0.6.2)\r\n",
      "Requirement already satisfied: future>=0.16.0 in /opt/conda/lib/python3.10/site-packages (from pyloudnorm->nemo_toolkit->nemo_toolkit[asr]) (1.0.0)\r\n",
      "Requirement already satisfied: ruamel.yaml.clib>=0.2.7 in /opt/conda/lib/python3.10/site-packages (from ruamel.yaml->nemo_toolkit->nemo_toolkit[asr]) (0.2.8)\r\n",
      "Requirement already satisfied: absl-py>=0.4 in /opt/conda/lib/python3.10/site-packages (from tensorboard->nemo_toolkit->nemo_toolkit[asr]) (1.4.0)\r\n",
      "Requirement already satisfied: grpcio>=1.48.2 in /opt/conda/lib/python3.10/site-packages (from tensorboard->nemo_toolkit->nemo_toolkit[asr]) (1.62.2)\r\n",
      "Requirement already satisfied: markdown>=2.6.8 in /opt/conda/lib/python3.10/site-packages (from tensorboard->nemo_toolkit->nemo_toolkit[asr]) (3.6)\r\n",
      "Requirement already satisfied: tensorboard-data-server<0.8.0,>=0.7.0 in /opt/conda/lib/python3.10/site-packages (from tensorboard->nemo_toolkit->nemo_toolkit[asr]) (0.7.2)\r\n",
      "Requirement already satisfied: werkzeug>=1.0.1 in /opt/conda/lib/python3.10/site-packages (from tensorboard->nemo_toolkit->nemo_toolkit[asr]) (3.0.4)\r\n",
      "Requirement already satisfied: pybind11 in /opt/conda/lib/python3.10/site-packages (from texterrors->nemo_toolkit->nemo_toolkit[asr]) (2.13.6)\r\n",
      "Collecting plac (from texterrors->nemo_toolkit->nemo_toolkit[asr])\r\n",
      "  Downloading plac-1.4.3-py2.py3-none-any.whl.metadata (5.9 kB)\r\n",
      "Collecting loguru (from texterrors->nemo_toolkit->nemo_toolkit[asr])\r\n",
      "  Downloading loguru-0.7.2-py3-none-any.whl.metadata (23 kB)\r\n",
      "Requirement already satisfied: termcolor in /opt/conda/lib/python3.10/site-packages (from texterrors->nemo_toolkit->nemo_toolkit[asr]) (2.4.0)\r\n",
      "Collecting Levenshtein (from texterrors->nemo_toolkit->nemo_toolkit[asr])\r\n",
      "  Downloading levenshtein-0.26.1-cp310-cp310-manylinux_2_17_x86_64.manylinux2014_x86_64.whl.metadata (3.2 kB)\r\n",
      "Requirement already satisfied: docker-pycreds>=0.4.0 in /opt/conda/lib/python3.10/site-packages (from wandb->nemo_toolkit->nemo_toolkit[asr]) (0.4.0)\r\n",
      "Requirement already satisfied: gitpython!=3.1.29,>=1.0.0 in /opt/conda/lib/python3.10/site-packages (from wandb->nemo_toolkit->nemo_toolkit[asr]) (3.1.43)\r\n",
      "Requirement already satisfied: platformdirs in /opt/conda/lib/python3.10/site-packages (from wandb->nemo_toolkit->nemo_toolkit[asr]) (3.11.0)\r\n",
      "Requirement already satisfied: psutil>=5.0.0 in /opt/conda/lib/python3.10/site-packages (from wandb->nemo_toolkit->nemo_toolkit[asr]) (5.9.3)\r\n",
      "Requirement already satisfied: sentry-sdk>=1.0.0 in /opt/conda/lib/python3.10/site-packages (from wandb->nemo_toolkit->nemo_toolkit[asr]) (2.15.0)\r\n",
      "Requirement already satisfied: setproctitle in /opt/conda/lib/python3.10/site-packages (from wandb->nemo_toolkit->nemo_toolkit[asr]) (1.3.3)\r\n",
      "Requirement already satisfied: pycparser in /opt/conda/lib/python3.10/site-packages (from cffi>=1.0->soundfile->nemo_toolkit->nemo_toolkit[asr]) (2.22)\r\n",
      "Requirement already satisfied: toolz>=0.8.0 in /opt/conda/lib/python3.10/site-packages (from cytoolz>=0.10.1->lhotse>=1.20.0->nemo_toolkit->nemo_toolkit[asr]) (0.12.1)\r\n",
      "Requirement already satisfied: aiosignal>=1.1.2 in /opt/conda/lib/python3.10/site-packages (from aiohttp->datasets->nemo_toolkit->nemo_toolkit[asr]) (1.3.1)\r\n",
      "Requirement already satisfied: attrs>=17.3.0 in /opt/conda/lib/python3.10/site-packages (from aiohttp->datasets->nemo_toolkit->nemo_toolkit[asr]) (23.2.0)\r\n",
      "Requirement already satisfied: frozenlist>=1.1.1 in /opt/conda/lib/python3.10/site-packages (from aiohttp->datasets->nemo_toolkit->nemo_toolkit[asr]) (1.4.1)\r\n",
      "Requirement already satisfied: multidict<7.0,>=4.5 in /opt/conda/lib/python3.10/site-packages (from aiohttp->datasets->nemo_toolkit->nemo_toolkit[asr]) (6.0.5)\r\n",
      "Requirement already satisfied: yarl<2.0,>=1.0 in /opt/conda/lib/python3.10/site-packages (from aiohttp->datasets->nemo_toolkit->nemo_toolkit[asr]) (1.9.4)\r\n",
      "Requirement already satisfied: async-timeout<5.0,>=4.0 in /opt/conda/lib/python3.10/site-packages (from aiohttp->datasets->nemo_toolkit->nemo_toolkit[asr]) (4.0.3)\r\n",
      "Requirement already satisfied: gitdb<5,>=4.0.1 in /opt/conda/lib/python3.10/site-packages (from gitpython!=3.1.29,>=1.0.0->wandb->nemo_toolkit->nemo_toolkit[asr]) (4.0.11)\r\n",
      "Requirement already satisfied: comm>=0.1.1 in /opt/conda/lib/python3.10/site-packages (from ipykernel>=4.5.1->ipywidgets->nemo_toolkit->nemo_toolkit[asr]) (0.2.2)\r\n",
      "Requirement already satisfied: debugpy>=1.6.5 in /opt/conda/lib/python3.10/site-packages (from ipykernel>=4.5.1->ipywidgets->nemo_toolkit->nemo_toolkit[asr]) (1.8.1)\r\n",
      "Requirement already satisfied: jupyter-client>=6.1.12 in /opt/conda/lib/python3.10/site-packages (from ipykernel>=4.5.1->ipywidgets->nemo_toolkit->nemo_toolkit[asr]) (7.4.9)\r\n",
      "Requirement already satisfied: jupyter-core!=5.0.*,>=4.12 in /opt/conda/lib/python3.10/site-packages (from ipykernel>=4.5.1->ipywidgets->nemo_toolkit->nemo_toolkit[asr]) (5.7.2)\r\n",
      "Requirement already satisfied: matplotlib-inline>=0.1 in /opt/conda/lib/python3.10/site-packages (from ipykernel>=4.5.1->ipywidgets->nemo_toolkit->nemo_toolkit[asr]) (0.1.7)\r\n",
      "Requirement already satisfied: nest-asyncio in /opt/conda/lib/python3.10/site-packages (from ipykernel>=4.5.1->ipywidgets->nemo_toolkit->nemo_toolkit[asr]) (1.6.0)\r\n",
      "Requirement already satisfied: pyzmq>=24 in /opt/conda/lib/python3.10/site-packages (from ipykernel>=4.5.1->ipywidgets->nemo_toolkit->nemo_toolkit[asr]) (26.0.3)\r\n",
      "Requirement already satisfied: tornado>=6.1 in /opt/conda/lib/python3.10/site-packages (from ipykernel>=4.5.1->ipywidgets->nemo_toolkit->nemo_toolkit[asr]) (6.4.1)\r\n",
      "Requirement already satisfied: jedi>=0.16 in /opt/conda/lib/python3.10/site-packages (from ipython>=4.0.0->ipywidgets->nemo_toolkit->nemo_toolkit[asr]) (0.19.1)\r\n",
      "Requirement already satisfied: prompt-toolkit<3.1.0,>=3.0.41 in /opt/conda/lib/python3.10/site-packages (from ipython>=4.0.0->ipywidgets->nemo_toolkit->nemo_toolkit[asr]) (3.0.47)\r\n",
      "Requirement already satisfied: pygments>=2.4.0 in /opt/conda/lib/python3.10/site-packages (from ipython>=4.0.0->ipywidgets->nemo_toolkit->nemo_toolkit[asr]) (2.18.0)\r\n",
      "Requirement already satisfied: stack-data in /opt/conda/lib/python3.10/site-packages (from ipython>=4.0.0->ipywidgets->nemo_toolkit->nemo_toolkit[asr]) (0.6.2)\r\n",
      "Requirement already satisfied: exceptiongroup in /opt/conda/lib/python3.10/site-packages (from ipython>=4.0.0->ipywidgets->nemo_toolkit->nemo_toolkit[asr]) (1.2.0)\r\n",
      "Requirement already satisfied: pexpect>4.3 in /opt/conda/lib/python3.10/site-packages (from ipython>=4.0.0->ipywidgets->nemo_toolkit->nemo_toolkit[asr]) (4.9.0)\r\n",
      "Requirement already satisfied: typer>=0.12.1 in /opt/conda/lib/python3.10/site-packages (from pyannote.database>=4.0.1->pyannote.metrics->nemo_toolkit->nemo_toolkit[asr]) (0.12.3)\r\n",
      "Requirement already satisfied: charset-normalizer<4,>=2 in /opt/conda/lib/python3.10/site-packages (from requests->transformers>=4.36.0->nemo_toolkit->nemo_toolkit[asr]) (3.3.2)\r\n",
      "Requirement already satisfied: idna<4,>=2.5 in /opt/conda/lib/python3.10/site-packages (from requests->transformers>=4.36.0->nemo_toolkit->nemo_toolkit[asr]) (3.7)\r\n",
      "Requirement already satisfied: urllib3<3,>=1.21.1 in /opt/conda/lib/python3.10/site-packages (from requests->transformers>=4.36.0->nemo_toolkit->nemo_toolkit[asr]) (1.26.18)\r\n",
      "Requirement already satisfied: certifi>=2017.4.17 in /opt/conda/lib/python3.10/site-packages (from requests->transformers>=4.36.0->nemo_toolkit->nemo_toolkit[asr]) (2024.8.30)\r\n",
      "Requirement already satisfied: mpmath<1.4,>=1.1.0 in /opt/conda/lib/python3.10/site-packages (from sympy->torch->nemo_toolkit->nemo_toolkit[asr]) (1.3.0)\r\n",
      "Requirement already satisfied: MarkupSafe>=2.1.1 in /opt/conda/lib/python3.10/site-packages (from werkzeug>=1.0.1->tensorboard->nemo_toolkit->nemo_toolkit[asr]) (2.1.5)\r\n",
      "Requirement already satisfied: notebook>=4.4.1 in /opt/conda/lib/python3.10/site-packages (from widgetsnbextension~=3.6.0->ipywidgets->nemo_toolkit->nemo_toolkit[asr]) (6.5.7)\r\n",
      "Requirement already satisfied: smmap<6,>=3.0.1 in /opt/conda/lib/python3.10/site-packages (from gitdb<5,>=4.0.1->gitpython!=3.1.29,>=1.0.0->wandb->nemo_toolkit->nemo_toolkit[asr]) (5.0.1)\r\n",
      "Requirement already satisfied: parso<0.9.0,>=0.8.3 in /opt/conda/lib/python3.10/site-packages (from jedi>=0.16->ipython>=4.0.0->ipywidgets->nemo_toolkit->nemo_toolkit[asr]) (0.8.4)\r\n",
      "Requirement already satisfied: entrypoints in /opt/conda/lib/python3.10/site-packages (from jupyter-client>=6.1.12->ipykernel>=4.5.1->ipywidgets->nemo_toolkit->nemo_toolkit[asr]) (0.4)\r\n",
      "Requirement already satisfied: argon2-cffi in /opt/conda/lib/python3.10/site-packages (from notebook>=4.4.1->widgetsnbextension~=3.6.0->ipywidgets->nemo_toolkit->nemo_toolkit[asr]) (23.1.0)\r\n",
      "Requirement already satisfied: nbformat in /opt/conda/lib/python3.10/site-packages (from notebook>=4.4.1->widgetsnbextension~=3.6.0->ipywidgets->nemo_toolkit->nemo_toolkit[asr]) (5.10.4)\r\n",
      "Requirement already satisfied: nbconvert>=5 in /opt/conda/lib/python3.10/site-packages (from notebook>=4.4.1->widgetsnbextension~=3.6.0->ipywidgets->nemo_toolkit->nemo_toolkit[asr]) (6.4.5)\r\n",
      "Requirement already satisfied: Send2Trash>=1.8.0 in /opt/conda/lib/python3.10/site-packages (from notebook>=4.4.1->widgetsnbextension~=3.6.0->ipywidgets->nemo_toolkit->nemo_toolkit[asr]) (1.8.3)\r\n",
      "Requirement already satisfied: terminado>=0.8.3 in /opt/conda/lib/python3.10/site-packages (from notebook>=4.4.1->widgetsnbextension~=3.6.0->ipywidgets->nemo_toolkit->nemo_toolkit[asr]) (0.18.1)\r\n",
      "Requirement already satisfied: prometheus-client in /opt/conda/lib/python3.10/site-packages (from notebook>=4.4.1->widgetsnbextension~=3.6.0->ipywidgets->nemo_toolkit->nemo_toolkit[asr]) (0.20.0)\r\n",
      "Requirement already satisfied: nbclassic>=0.4.7 in /opt/conda/lib/python3.10/site-packages (from notebook>=4.4.1->widgetsnbextension~=3.6.0->ipywidgets->nemo_toolkit->nemo_toolkit[asr]) (1.1.0)\r\n",
      "Requirement already satisfied: ptyprocess>=0.5 in /opt/conda/lib/python3.10/site-packages (from pexpect>4.3->ipython>=4.0.0->ipywidgets->nemo_toolkit->nemo_toolkit[asr]) (0.7.0)\r\n",
      "Requirement already satisfied: wcwidth in /opt/conda/lib/python3.10/site-packages (from prompt-toolkit<3.1.0,>=3.0.41->ipython>=4.0.0->ipywidgets->nemo_toolkit->nemo_toolkit[asr]) (0.2.13)\r\n",
      "Requirement already satisfied: shellingham>=1.3.0 in /opt/conda/lib/python3.10/site-packages (from typer>=0.12.1->pyannote.database>=4.0.1->pyannote.metrics->nemo_toolkit->nemo_toolkit[asr]) (1.5.4)\r\n",
      "Requirement already satisfied: rich>=10.11.0 in /opt/conda/lib/python3.10/site-packages (from typer>=0.12.1->pyannote.database>=4.0.1->pyannote.metrics->nemo_toolkit->nemo_toolkit[asr]) (13.7.1)\r\n",
      "Requirement already satisfied: executing>=1.2.0 in /opt/conda/lib/python3.10/site-packages (from stack-data->ipython>=4.0.0->ipywidgets->nemo_toolkit->nemo_toolkit[asr]) (2.0.1)\r\n",
      "Requirement already satisfied: asttokens>=2.1.0 in /opt/conda/lib/python3.10/site-packages (from stack-data->ipython>=4.0.0->ipywidgets->nemo_toolkit->nemo_toolkit[asr]) (2.4.1)\r\n",
      "Requirement already satisfied: pure-eval in /opt/conda/lib/python3.10/site-packages (from stack-data->ipython>=4.0.0->ipywidgets->nemo_toolkit->nemo_toolkit[asr]) (0.2.2)\r\n",
      "Requirement already satisfied: notebook-shim>=0.2.3 in /opt/conda/lib/python3.10/site-packages (from nbclassic>=0.4.7->notebook>=4.4.1->widgetsnbextension~=3.6.0->ipywidgets->nemo_toolkit->nemo_toolkit[asr]) (0.2.4)\r\n",
      "Requirement already satisfied: mistune<2,>=0.8.1 in /opt/conda/lib/python3.10/site-packages (from nbconvert>=5->notebook>=4.4.1->widgetsnbextension~=3.6.0->ipywidgets->nemo_toolkit->nemo_toolkit[asr]) (0.8.4)\r\n",
      "Requirement already satisfied: jupyterlab-pygments in /opt/conda/lib/python3.10/site-packages (from nbconvert>=5->notebook>=4.4.1->widgetsnbextension~=3.6.0->ipywidgets->nemo_toolkit->nemo_toolkit[asr]) (0.3.0)\r\n",
      "Requirement already satisfied: bleach in /opt/conda/lib/python3.10/site-packages (from nbconvert>=5->notebook>=4.4.1->widgetsnbextension~=3.6.0->ipywidgets->nemo_toolkit->nemo_toolkit[asr]) (6.1.0)\r\n",
      "Requirement already satisfied: pandocfilters>=1.4.1 in /opt/conda/lib/python3.10/site-packages (from nbconvert>=5->notebook>=4.4.1->widgetsnbextension~=3.6.0->ipywidgets->nemo_toolkit->nemo_toolkit[asr]) (1.5.0)\r\n",
      "Requirement already satisfied: testpath in /opt/conda/lib/python3.10/site-packages (from nbconvert>=5->notebook>=4.4.1->widgetsnbextension~=3.6.0->ipywidgets->nemo_toolkit->nemo_toolkit[asr]) (0.6.0)\r\n",
      "Requirement already satisfied: defusedxml in /opt/conda/lib/python3.10/site-packages (from nbconvert>=5->notebook>=4.4.1->widgetsnbextension~=3.6.0->ipywidgets->nemo_toolkit->nemo_toolkit[asr]) (0.7.1)\r\n",
      "Requirement already satisfied: beautifulsoup4 in /opt/conda/lib/python3.10/site-packages (from nbconvert>=5->notebook>=4.4.1->widgetsnbextension~=3.6.0->ipywidgets->nemo_toolkit->nemo_toolkit[asr]) (4.12.3)\r\n",
      "Requirement already satisfied: nbclient<0.6.0,>=0.5.0 in /opt/conda/lib/python3.10/site-packages (from nbconvert>=5->notebook>=4.4.1->widgetsnbextension~=3.6.0->ipywidgets->nemo_toolkit->nemo_toolkit[asr]) (0.5.13)\r\n",
      "Requirement already satisfied: fastjsonschema>=2.15 in /opt/conda/lib/python3.10/site-packages (from nbformat->notebook>=4.4.1->widgetsnbextension~=3.6.0->ipywidgets->nemo_toolkit->nemo_toolkit[asr]) (2.19.1)\r\n",
      "Requirement already satisfied: jsonschema>=2.6 in /opt/conda/lib/python3.10/site-packages (from nbformat->notebook>=4.4.1->widgetsnbextension~=3.6.0->ipywidgets->nemo_toolkit->nemo_toolkit[asr]) (4.22.0)\r\n",
      "Requirement already satisfied: markdown-it-py>=2.2.0 in /opt/conda/lib/python3.10/site-packages (from rich>=10.11.0->typer>=0.12.1->pyannote.database>=4.0.1->pyannote.metrics->nemo_toolkit->nemo_toolkit[asr]) (3.0.0)\r\n",
      "Requirement already satisfied: argon2-cffi-bindings in /opt/conda/lib/python3.10/site-packages (from argon2-cffi->notebook>=4.4.1->widgetsnbextension~=3.6.0->ipywidgets->nemo_toolkit->nemo_toolkit[asr]) (21.2.0)\r\n",
      "Requirement already satisfied: jsonschema-specifications>=2023.03.6 in /opt/conda/lib/python3.10/site-packages (from jsonschema>=2.6->nbformat->notebook>=4.4.1->widgetsnbextension~=3.6.0->ipywidgets->nemo_toolkit->nemo_toolkit[asr]) (2023.12.1)\r\n",
      "Requirement already satisfied: referencing>=0.28.4 in /opt/conda/lib/python3.10/site-packages (from jsonschema>=2.6->nbformat->notebook>=4.4.1->widgetsnbextension~=3.6.0->ipywidgets->nemo_toolkit->nemo_toolkit[asr]) (0.35.1)\r\n",
      "Requirement already satisfied: rpds-py>=0.7.1 in /opt/conda/lib/python3.10/site-packages (from jsonschema>=2.6->nbformat->notebook>=4.4.1->widgetsnbextension~=3.6.0->ipywidgets->nemo_toolkit->nemo_toolkit[asr]) (0.18.1)\r\n",
      "Requirement already satisfied: mdurl~=0.1 in /opt/conda/lib/python3.10/site-packages (from markdown-it-py>=2.2.0->rich>=10.11.0->typer>=0.12.1->pyannote.database>=4.0.1->pyannote.metrics->nemo_toolkit->nemo_toolkit[asr]) (0.1.2)\r\n",
      "Requirement already satisfied: jupyter-server<3,>=1.8 in /opt/conda/lib/python3.10/site-packages (from notebook-shim>=0.2.3->nbclassic>=0.4.7->notebook>=4.4.1->widgetsnbextension~=3.6.0->ipywidgets->nemo_toolkit->nemo_toolkit[asr]) (2.12.5)\r\n",
      "Requirement already satisfied: soupsieve>1.2 in /opt/conda/lib/python3.10/site-packages (from beautifulsoup4->nbconvert>=5->notebook>=4.4.1->widgetsnbextension~=3.6.0->ipywidgets->nemo_toolkit->nemo_toolkit[asr]) (2.5)\r\n",
      "Requirement already satisfied: webencodings in /opt/conda/lib/python3.10/site-packages (from bleach->nbconvert>=5->notebook>=4.4.1->widgetsnbextension~=3.6.0->ipywidgets->nemo_toolkit->nemo_toolkit[asr]) (0.5.1)\r\n",
      "Requirement already satisfied: anyio>=3.1.0 in /opt/conda/lib/python3.10/site-packages (from jupyter-server<3,>=1.8->notebook-shim>=0.2.3->nbclassic>=0.4.7->notebook>=4.4.1->widgetsnbextension~=3.6.0->ipywidgets->nemo_toolkit->nemo_toolkit[asr]) (4.4.0)\r\n",
      "Requirement already satisfied: jupyter-events>=0.9.0 in /opt/conda/lib/python3.10/site-packages (from jupyter-server<3,>=1.8->notebook-shim>=0.2.3->nbclassic>=0.4.7->notebook>=4.4.1->widgetsnbextension~=3.6.0->ipywidgets->nemo_toolkit->nemo_toolkit[asr]) (0.10.0)\r\n",
      "Requirement already satisfied: jupyter-server-terminals in /opt/conda/lib/python3.10/site-packages (from jupyter-server<3,>=1.8->notebook-shim>=0.2.3->nbclassic>=0.4.7->notebook>=4.4.1->widgetsnbextension~=3.6.0->ipywidgets->nemo_toolkit->nemo_toolkit[asr]) (0.5.3)\r\n",
      "Requirement already satisfied: overrides in /opt/conda/lib/python3.10/site-packages (from jupyter-server<3,>=1.8->notebook-shim>=0.2.3->nbclassic>=0.4.7->notebook>=4.4.1->widgetsnbextension~=3.6.0->ipywidgets->nemo_toolkit->nemo_toolkit[asr]) (7.7.0)\r\n",
      "Requirement already satisfied: websocket-client in /opt/conda/lib/python3.10/site-packages (from jupyter-server<3,>=1.8->notebook-shim>=0.2.3->nbclassic>=0.4.7->notebook>=4.4.1->widgetsnbextension~=3.6.0->ipywidgets->nemo_toolkit->nemo_toolkit[asr]) (1.8.0)\r\n",
      "Requirement already satisfied: sniffio>=1.1 in /opt/conda/lib/python3.10/site-packages (from anyio>=3.1.0->jupyter-server<3,>=1.8->notebook-shim>=0.2.3->nbclassic>=0.4.7->notebook>=4.4.1->widgetsnbextension~=3.6.0->ipywidgets->nemo_toolkit->nemo_toolkit[asr]) (1.3.1)\r\n",
      "Requirement already satisfied: python-json-logger>=2.0.4 in /opt/conda/lib/python3.10/site-packages (from jupyter-events>=0.9.0->jupyter-server<3,>=1.8->notebook-shim>=0.2.3->nbclassic>=0.4.7->notebook>=4.4.1->widgetsnbextension~=3.6.0->ipywidgets->nemo_toolkit->nemo_toolkit[asr]) (2.0.7)\r\n",
      "Requirement already satisfied: rfc3339-validator in /opt/conda/lib/python3.10/site-packages (from jupyter-events>=0.9.0->jupyter-server<3,>=1.8->notebook-shim>=0.2.3->nbclassic>=0.4.7->notebook>=4.4.1->widgetsnbextension~=3.6.0->ipywidgets->nemo_toolkit->nemo_toolkit[asr]) (0.1.4)\r\n",
      "Requirement already satisfied: rfc3986-validator>=0.1.1 in /opt/conda/lib/python3.10/site-packages (from jupyter-events>=0.9.0->jupyter-server<3,>=1.8->notebook-shim>=0.2.3->nbclassic>=0.4.7->notebook>=4.4.1->widgetsnbextension~=3.6.0->ipywidgets->nemo_toolkit->nemo_toolkit[asr]) (0.1.1)\r\n",
      "Requirement already satisfied: fqdn in /opt/conda/lib/python3.10/site-packages (from jsonschema[format-nongpl]>=4.18.0->jupyter-events>=0.9.0->jupyter-server<3,>=1.8->notebook-shim>=0.2.3->nbclassic>=0.4.7->notebook>=4.4.1->widgetsnbextension~=3.6.0->ipywidgets->nemo_toolkit->nemo_toolkit[asr]) (1.5.1)\r\n",
      "Requirement already satisfied: isoduration in /opt/conda/lib/python3.10/site-packages (from jsonschema[format-nongpl]>=4.18.0->jupyter-events>=0.9.0->jupyter-server<3,>=1.8->notebook-shim>=0.2.3->nbclassic>=0.4.7->notebook>=4.4.1->widgetsnbextension~=3.6.0->ipywidgets->nemo_toolkit->nemo_toolkit[asr]) (20.11.0)\r\n",
      "Requirement already satisfied: jsonpointer>1.13 in /opt/conda/lib/python3.10/site-packages (from jsonschema[format-nongpl]>=4.18.0->jupyter-events>=0.9.0->jupyter-server<3,>=1.8->notebook-shim>=0.2.3->nbclassic>=0.4.7->notebook>=4.4.1->widgetsnbextension~=3.6.0->ipywidgets->nemo_toolkit->nemo_toolkit[asr]) (2.4)\r\n",
      "Requirement already satisfied: uri-template in /opt/conda/lib/python3.10/site-packages (from jsonschema[format-nongpl]>=4.18.0->jupyter-events>=0.9.0->jupyter-server<3,>=1.8->notebook-shim>=0.2.3->nbclassic>=0.4.7->notebook>=4.4.1->widgetsnbextension~=3.6.0->ipywidgets->nemo_toolkit->nemo_toolkit[asr]) (1.3.0)\r\n",
      "Requirement already satisfied: webcolors>=1.11 in /opt/conda/lib/python3.10/site-packages (from jsonschema[format-nongpl]>=4.18.0->jupyter-events>=0.9.0->jupyter-server<3,>=1.8->notebook-shim>=0.2.3->nbclassic>=0.4.7->notebook>=4.4.1->widgetsnbextension~=3.6.0->ipywidgets->nemo_toolkit->nemo_toolkit[asr]) (24.6.0)\r\n",
      "Requirement already satisfied: arrow>=0.15.0 in /opt/conda/lib/python3.10/site-packages (from isoduration->jsonschema[format-nongpl]>=4.18.0->jupyter-events>=0.9.0->jupyter-server<3,>=1.8->notebook-shim>=0.2.3->nbclassic>=0.4.7->notebook>=4.4.1->widgetsnbextension~=3.6.0->ipywidgets->nemo_toolkit->nemo_toolkit[asr]) (1.3.0)\r\n",
      "Requirement already satisfied: types-python-dateutil>=2.8.10 in /opt/conda/lib/python3.10/site-packages (from arrow>=0.15.0->isoduration->jsonschema[format-nongpl]>=4.18.0->jupyter-events>=0.9.0->jupyter-server<3,>=1.8->notebook-shim>=0.2.3->nbclassic>=0.4.7->notebook>=4.4.1->widgetsnbextension~=3.6.0->ipywidgets->nemo_toolkit->nemo_toolkit[asr]) (2.9.0.20240316)\r\n",
      "Downloading hydra_core-1.3.2-py3-none-any.whl (154 kB)\r\n",
      "\u001b[2K   \u001b[90m━━━━━━━━━━━━━━━━━━━━━━━━━━━━━━━━━━━━━━━━\u001b[0m \u001b[32m154.5/154.5 kB\u001b[0m \u001b[31m9.9 MB/s\u001b[0m eta \u001b[36m0:00:00\u001b[0m\r\n",
      "\u001b[?25hDownloading lhotse-1.27.0-py3-none-any.whl (806 kB)\r\n",
      "\u001b[2K   \u001b[90m━━━━━━━━━━━━━━━━━━━━━━━━━━━━━━━━━━━━━━━━\u001b[0m \u001b[32m806.9/806.9 kB\u001b[0m \u001b[31m29.0 MB/s\u001b[0m eta \u001b[36m0:00:00\u001b[0m\r\n",
      "\u001b[?25hDownloading omegaconf-2.3.0-py3-none-any.whl (79 kB)\r\n",
      "\u001b[2K   \u001b[90m━━━━━━━━━━━━━━━━━━━━━━━━━━━━━━━━━━━━━━━━\u001b[0m \u001b[32m79.5/79.5 kB\u001b[0m \u001b[31m5.4 MB/s\u001b[0m eta \u001b[36m0:00:00\u001b[0m\r\n",
      "\u001b[?25hDownloading pytorch_lightning-2.0.7-py3-none-any.whl (724 kB)\r\n",
      "\u001b[2K   \u001b[90m━━━━━━━━━━━━━━━━━━━━━━━━━━━━━━━━━━━━━━━━\u001b[0m \u001b[32m725.0/725.0 kB\u001b[0m \u001b[31m35.4 MB/s\u001b[0m eta \u001b[36m0:00:00\u001b[0m\r\n",
      "\u001b[?25hDownloading sacremoses-0.1.1-py3-none-any.whl (897 kB)\r\n",
      "\u001b[2K   \u001b[90m━━━━━━━━━━━━━━━━━━━━━━━━━━━━━━━━━━━━━━━━\u001b[0m \u001b[32m897.5/897.5 kB\u001b[0m \u001b[31m40.3 MB/s\u001b[0m eta \u001b[36m0:00:00\u001b[0m\r\n",
      "\u001b[?25hDownloading webdataset-0.1.62-py3-none-any.whl (32 kB)\r\n",
      "Downloading braceexpand-0.1.7-py2.py3-none-any.whl (5.9 kB)\r\n",
      "Downloading editdistance-0.8.1-cp310-cp310-manylinux_2_17_x86_64.manylinux2014_x86_64.whl (401 kB)\r\n",
      "\u001b[2K   \u001b[90m━━━━━━━━━━━━━━━━━━━━━━━━━━━━━━━━━━━━━━━━\u001b[0m \u001b[32m401.8/401.8 kB\u001b[0m \u001b[31m10.0 MB/s\u001b[0m eta \u001b[36m0:00:00\u001b[0m\r\n",
      "\u001b[?25hDownloading g2p_en-2.1.0-py3-none-any.whl (3.1 MB)\r\n",
      "\u001b[2K   \u001b[90m━━━━━━━━━━━━━━━━━━━━━━━━━━━━━━━━━━━━━━━━\u001b[0m \u001b[32m3.1/3.1 MB\u001b[0m \u001b[31m60.2 MB/s\u001b[0m eta \u001b[36m0:00:00\u001b[0m\r\n",
      "\u001b[?25hDownloading inflect-7.4.0-py3-none-any.whl (34 kB)\r\n",
      "Downloading jiwer-3.0.4-py3-none-any.whl (21 kB)\r\n",
      "Downloading kaldiio-2.18.0-py3-none-any.whl (28 kB)\r\n",
      "Downloading pyannote.core-5.0.0-py3-none-any.whl (58 kB)\r\n",
      "\u001b[2K   \u001b[90m━━━━━━━━━━━━━━━━━━━━━━━━━━━━━━━━━━━━━━━━\u001b[0m \u001b[32m58.5/58.5 kB\u001b[0m \u001b[31m3.5 MB/s\u001b[0m eta \u001b[36m0:00:00\u001b[0m\r\n",
      "\u001b[?25hDownloading pyannote.metrics-3.2.1-py3-none-any.whl (51 kB)\r\n",
      "\u001b[2K   \u001b[90m━━━━━━━━━━━━━━━━━━━━━━━━━━━━━━━━━━━━━━━━\u001b[0m \u001b[32m51.4/51.4 kB\u001b[0m \u001b[31m3.2 MB/s\u001b[0m eta \u001b[36m0:00:00\u001b[0m\r\n",
      "\u001b[?25hDownloading pyloudnorm-0.1.1-py3-none-any.whl (9.6 kB)\r\n",
      "Downloading resampy-0.4.3-py3-none-any.whl (3.1 MB)\r\n",
      "\u001b[2K   \u001b[90m━━━━━━━━━━━━━━━━━━━━━━━━━━━━━━━━━━━━━━━━\u001b[0m \u001b[32m3.1/3.1 MB\u001b[0m \u001b[31m76.5 MB/s\u001b[0m eta \u001b[36m0:00:00\u001b[0m\r\n",
      "\u001b[?25hDownloading triton-3.1.0-cp310-cp310-manylinux_2_17_x86_64.manylinux2014_x86_64.whl (209.5 MB)\r\n",
      "\u001b[2K   \u001b[90m━━━━━━━━━━━━━━━━━━━━━━━━━━━━━━━━━━━━━━━━\u001b[0m \u001b[32m209.5/209.5 MB\u001b[0m \u001b[31m7.9 MB/s\u001b[0m eta \u001b[36m0:00:00\u001b[0m\r\n",
      "\u001b[?25hDownloading lilcom-1.8.0-cp310-cp310-manylinux_2_17_x86_64.manylinux2014_x86_64.whl (87 kB)\r\n",
      "\u001b[2K   \u001b[90m━━━━━━━━━━━━━━━━━━━━━━━━━━━━━━━━━━━━━━━━\u001b[0m \u001b[32m87.2/87.2 kB\u001b[0m \u001b[31m5.4 MB/s\u001b[0m eta \u001b[36m0:00:00\u001b[0m\r\n",
      "\u001b[?25hDownloading pyannote.database-5.1.0-py3-none-any.whl (48 kB)\r\n",
      "\u001b[2K   \u001b[90m━━━━━━━━━━━━━━━━━━━━━━━━━━━━━━━━━━━━━━━━\u001b[0m \u001b[32m48.1/48.1 kB\u001b[0m \u001b[31m3.3 MB/s\u001b[0m eta \u001b[36m0:00:00\u001b[0m\r\n",
      "\u001b[?25hDownloading rapidfuzz-3.10.1-cp310-cp310-manylinux_2_17_x86_64.manylinux2014_x86_64.whl (3.1 MB)\r\n",
      "\u001b[2K   \u001b[90m━━━━━━━━━━━━━━━━━━━━━━━━━━━━━━━━━━━━━━━━\u001b[0m \u001b[32m3.1/3.1 MB\u001b[0m \u001b[31m75.4 MB/s\u001b[0m eta \u001b[36m0:00:00\u001b[0m\r\n",
      "\u001b[?25hDownloading levenshtein-0.26.1-cp310-cp310-manylinux_2_17_x86_64.manylinux2014_x86_64.whl (162 kB)\r\n",
      "\u001b[2K   \u001b[90m━━━━━━━━━━━━━━━━━━━━━━━━━━━━━━━━━━━━━━━━\u001b[0m \u001b[32m162.6/162.6 kB\u001b[0m \u001b[31m9.9 MB/s\u001b[0m eta \u001b[36m0:00:00\u001b[0m\r\n",
      "\u001b[?25hDownloading loguru-0.7.2-py3-none-any.whl (62 kB)\r\n",
      "\u001b[2K   \u001b[90m━━━━━━━━━━━━━━━━━━━━━━━━━━━━━━━━━━━━━━━━\u001b[0m \u001b[32m62.5/62.5 kB\u001b[0m \u001b[31m3.6 MB/s\u001b[0m eta \u001b[36m0:00:00\u001b[0m\r\n",
      "\u001b[?25hDownloading plac-1.4.3-py2.py3-none-any.whl (22 kB)\r\n",
      "Building wheels for collected packages: nemo_toolkit, antlr4-python3-runtime, youtokentome, kaldi-python-io, sox, texterrors, wget, distance, intervaltree\r\n",
      "  Building wheel for nemo_toolkit (pyproject.toml) ... \u001b[?25l-\b \b\\\b \b|\b \b/\b \b-\b \b\\\b \b|\b \b/\b \b-\b \b\\\b \b|\b \b/\b \b-\b \b\\\b \bdone\r\n",
      "\u001b[?25h  Created wheel for nemo_toolkit: filename=nemo_toolkit-1.23.0-py3-none-any.whl size=3157316 sha256=1bfcc8314b3ecb2e2a8f1a0f02fd018c1df97eba22e517bf727db2b9b0ab598c\r\n",
      "  Stored in directory: /tmp/pip-ephem-wheel-cache-kevw7em_/wheels/7b/32/f9/74b7daae7613ff29552feeac6f0ba8ee79304f00ca568f9546\r\n",
      "  Building wheel for antlr4-python3-runtime (setup.py) ... \u001b[?25l-\b \b\\\b \bdone\r\n",
      "\u001b[?25h  Created wheel for antlr4-python3-runtime: filename=antlr4_python3_runtime-4.9.3-py3-none-any.whl size=144554 sha256=8b2b2485fdd05b16a6ead000c1331106d03135465215086f39675c19132222fc\r\n",
      "  Stored in directory: /root/.cache/pip/wheels/12/93/dd/1f6a127edc45659556564c5730f6d4e300888f4bca2d4c5a88\r\n",
      "  Building wheel for youtokentome (setup.py) ... \u001b[?25l-\b \b\\\b \bdone\r\n",
      "\u001b[?25h  Created wheel for youtokentome: filename=youtokentome-1.0.6-cp310-cp310-linux_x86_64.whl size=193386 sha256=f3584bd5f6f6b9ade6b9ea9598c1c6ce0b2a556d39e444b69e0ceb81d9d00626\r\n",
      "  Stored in directory: /root/.cache/pip/wheels/df/85/f8/301d2ba45f43f30bed2fe413efa760bc726b8b660ed9c2900c\r\n",
      "  Building wheel for kaldi-python-io (setup.py) ... \u001b[?25l-\b \b\\\b \bdone\r\n",
      "\u001b[?25h  Created wheel for kaldi-python-io: filename=kaldi_python_io-1.2.2-py3-none-any.whl size=8949 sha256=deedad4ab89cece18000a56925464d7ce35dffbf4f602bfd3bf948ce8fd617a6\r\n",
      "  Stored in directory: /root/.cache/pip/wheels/b7/23/5f/49d3a826be576faf61d84e8028e1914bb36a5586ee2613b087\r\n",
      "  Building wheel for sox (setup.py) ... \u001b[?25l-\b \b\\\b \b|\b \bdone\r\n",
      "\u001b[?25h  Created wheel for sox: filename=sox-1.5.0-py3-none-any.whl size=40038 sha256=39fe3f4738caeff628298b9ea30c22c40b26533134f38fa1eb2d745ae2918095\r\n",
      "  Stored in directory: /root/.cache/pip/wheels/74/e7/7b/8033be3ec5e4994595d01269fc9657c8fd83a0dcbf8536666a\r\n",
      "  Building wheel for texterrors (setup.py) ... \u001b[?25l-\b \b\\\b \b|\b \b/\b \bdone\r\n",
      "\u001b[?25h  Created wheel for texterrors: filename=texterrors-0.5.1-cp310-cp310-linux_x86_64.whl size=100319 sha256=009f24ca7d88db4909c5febf252ec3498bb1a764d9a8f92f30b42b2b904420e1\r\n",
      "  Stored in directory: /root/.cache/pip/wheels/64/b3/44/612e60c5d0d1f956213e08ae2c3f73443fde51878c778a9a38\r\n",
      "  Building wheel for wget (setup.py) ... \u001b[?25l-\b \b\\\b \bdone\r\n",
      "\u001b[?25h  Created wheel for wget: filename=wget-3.2-py3-none-any.whl size=9656 sha256=2e6237a4b12fa5b8422579133f9db6c9031ba3ea5db179125c8012b09535e9b6\r\n",
      "  Stored in directory: /root/.cache/pip/wheels/8b/f1/7f/5c94f0a7a505ca1c81cd1d9208ae2064675d97582078e6c769\r\n",
      "  Building wheel for distance (setup.py) ... \u001b[?25l-\b \b\\\b \bdone\r\n",
      "\u001b[?25h  Created wheel for distance: filename=Distance-0.1.3-py3-none-any.whl size=16258 sha256=b555670766c98e9e738e644ed5f72c905e11bf69c0a0a8801a973e8fd9dfbd1d\r\n",
      "  Stored in directory: /root/.cache/pip/wheels/e8/bb/de/f71bf63559ea9a921059a5405806f7ff6ed612a9231c4a9309\r\n",
      "  Building wheel for intervaltree (setup.py) ... \u001b[?25l-\b \b\\\b \bdone\r\n",
      "\u001b[?25h  Created wheel for intervaltree: filename=intervaltree-3.1.0-py2.py3-none-any.whl size=26096 sha256=5ec266318eb885b2377942ce20f5a8301171788cdb4ee762a44a38eaee63bda5\r\n",
      "  Stored in directory: /root/.cache/pip/wheels/fa/80/8c/43488a924a046b733b64de3fac99252674c892a4c3801c0a61\r\n",
      "Successfully built nemo_toolkit antlr4-python3-runtime youtokentome kaldi-python-io sox texterrors wget distance intervaltree\r\n",
      "Installing collected packages: wget, plac, distance, braceexpand, antlr4-python3-runtime, youtokentome, webdataset, triton, sox, sacremoses, rapidfuzz, omegaconf, loguru, lilcom, kaldiio, kaldi-python-io, intervaltree, editdistance, resampy, pyloudnorm, pyannote.core, Levenshtein, jiwer, inflect, hydra-core, texterrors, nemo_toolkit, lhotse, g2p-en, pytorch-lightning, pyannote.database, pyannote.metrics\r\n",
      "  Attempting uninstall: pytorch-lightning\r\n",
      "    Found existing installation: pytorch-lightning 2.4.0\r\n",
      "    Uninstalling pytorch-lightning-2.4.0:\r\n",
      "      Successfully uninstalled pytorch-lightning-2.4.0\r\n",
      "Successfully installed Levenshtein-0.26.1 antlr4-python3-runtime-4.9.3 braceexpand-0.1.7 distance-0.1.3 editdistance-0.8.1 g2p-en-2.1.0 hydra-core-1.3.2 inflect-7.4.0 intervaltree-3.1.0 jiwer-3.0.4 kaldi-python-io-1.2.2 kaldiio-2.18.0 lhotse-1.27.0 lilcom-1.8.0 loguru-0.7.2 nemo_toolkit-1.23.0 omegaconf-2.3.0 plac-1.4.3 pyannote.core-5.0.0 pyannote.database-5.1.0 pyannote.metrics-3.2.1 pyloudnorm-0.1.1 pytorch-lightning-2.0.7 rapidfuzz-3.10.1 resampy-0.4.3 sacremoses-0.1.1 sox-1.5.0 texterrors-0.5.1 triton-3.1.0 webdataset-0.1.62 wget-3.2 youtokentome-1.0.6\r\n"
     ]
    }
   ],
   "source": [
    "!pip install git+https://github.com/NVIDIA/NeMo.git@r1.23.0#egg=nemo_toolkit[asr]\n",
    "\n",
    "# https://research.nvidia.com/labs/conv-ai/blogs/2024/2024-02-canary/"
   ]
  },
  {
   "cell_type": "code",
   "execution_count": 2,
   "id": "4e27a972",
   "metadata": {
    "execution": {
     "iopub.execute_input": "2024-10-30T11:57:29.244669Z",
     "iopub.status.busy": "2024-10-30T11:57:29.244330Z",
     "iopub.status.idle": "2024-10-30T11:57:44.472546Z",
     "shell.execute_reply": "2024-10-30T11:57:44.471570Z"
    },
    "papermill": {
     "duration": 15.259877,
     "end_time": "2024-10-30T11:57:44.474932",
     "exception": false,
     "start_time": "2024-10-30T11:57:29.215055",
     "status": "completed"
    },
    "tags": []
   },
   "outputs": [
    {
     "name": "stdout",
     "output_type": "stream",
     "text": [
      "Found existing installation: huggingface-hub 0.25.1\r\n",
      "Uninstalling huggingface-hub-0.25.1:\r\n",
      "  Successfully uninstalled huggingface-hub-0.25.1\r\n",
      "Collecting huggingface_hub==0.23.2\r\n",
      "  Downloading huggingface_hub-0.23.2-py3-none-any.whl.metadata (12 kB)\r\n",
      "Requirement already satisfied: filelock in /opt/conda/lib/python3.10/site-packages (from huggingface_hub==0.23.2) (3.15.1)\r\n",
      "Requirement already satisfied: fsspec>=2023.5.0 in /opt/conda/lib/python3.10/site-packages (from huggingface_hub==0.23.2) (2024.6.1)\r\n",
      "Requirement already satisfied: packaging>=20.9 in /opt/conda/lib/python3.10/site-packages (from huggingface_hub==0.23.2) (21.3)\r\n",
      "Requirement already satisfied: pyyaml>=5.1 in /opt/conda/lib/python3.10/site-packages (from huggingface_hub==0.23.2) (6.0.2)\r\n",
      "Requirement already satisfied: requests in /opt/conda/lib/python3.10/site-packages (from huggingface_hub==0.23.2) (2.32.3)\r\n",
      "Requirement already satisfied: tqdm>=4.42.1 in /opt/conda/lib/python3.10/site-packages (from huggingface_hub==0.23.2) (4.66.4)\r\n",
      "Requirement already satisfied: typing-extensions>=3.7.4.3 in /opt/conda/lib/python3.10/site-packages (from huggingface_hub==0.23.2) (4.12.2)\r\n",
      "Requirement already satisfied: pyparsing!=3.0.5,>=2.0.2 in /opt/conda/lib/python3.10/site-packages (from packaging>=20.9->huggingface_hub==0.23.2) (3.1.2)\r\n",
      "Requirement already satisfied: charset-normalizer<4,>=2 in /opt/conda/lib/python3.10/site-packages (from requests->huggingface_hub==0.23.2) (3.3.2)\r\n",
      "Requirement already satisfied: idna<4,>=2.5 in /opt/conda/lib/python3.10/site-packages (from requests->huggingface_hub==0.23.2) (3.7)\r\n",
      "Requirement already satisfied: urllib3<3,>=1.21.1 in /opt/conda/lib/python3.10/site-packages (from requests->huggingface_hub==0.23.2) (1.26.18)\r\n",
      "Requirement already satisfied: certifi>=2017.4.17 in /opt/conda/lib/python3.10/site-packages (from requests->huggingface_hub==0.23.2) (2024.8.30)\r\n",
      "Downloading huggingface_hub-0.23.2-py3-none-any.whl (401 kB)\r\n",
      "\u001b[2K   \u001b[90m━━━━━━━━━━━━━━━━━━━━━━━━━━━━━━━━━━━━━━━━\u001b[0m \u001b[32m401.7/401.7 kB\u001b[0m \u001b[31m7.6 MB/s\u001b[0m eta \u001b[36m0:00:00\u001b[0m\r\n",
      "\u001b[?25hInstalling collected packages: huggingface_hub\r\n",
      "Successfully installed huggingface_hub-0.23.2\r\n"
     ]
    }
   ],
   "source": [
    "#hugginggace_hub modelfilter got removed in newer versions\n",
    "!pip uninstall -y huggingface_hub\n",
    "!pip install huggingface_hub==0.23.2"
   ]
  },
  {
   "cell_type": "code",
   "execution_count": 3,
   "id": "93dfc4f8",
   "metadata": {
    "execution": {
     "iopub.execute_input": "2024-10-30T11:57:44.535241Z",
     "iopub.status.busy": "2024-10-30T11:57:44.534898Z",
     "iopub.status.idle": "2024-10-30T11:57:56.698524Z",
     "shell.execute_reply": "2024-10-30T11:57:56.697757Z"
    },
    "papermill": {
     "duration": 12.196262,
     "end_time": "2024-10-30T11:57:56.700754",
     "exception": false,
     "start_time": "2024-10-30T11:57:44.504492",
     "status": "completed"
    },
    "tags": []
   },
   "outputs": [],
   "source": [
    "import sys\n",
    "import os\n",
    "from tqdm import tqdm\n",
    "import subprocess\n",
    "import numpy as np\n",
    "import pandas as pd\n",
    "import glob\n",
    "import json\n",
    "from collections import OrderedDict\n",
    "import random\n",
    "import torch.optim as optim\n",
    "import torch\n",
    "import torch.nn as nn\n",
    "import IPython.display as ipd\n",
    "import torchaudio\n",
    "from transformers import Wav2Vec2Processor, Wav2Vec2ForSequenceClassification, AdamW\n",
    "from torch.utils.data import DataLoader, Dataset\n",
    "from torch.nn.utils.rnn import pad_sequence\n",
    "import pytorch_lightning as pl\n",
    "from IPython.display import Audio, display"
   ]
  },
  {
   "cell_type": "code",
   "execution_count": 4,
   "id": "13ffc696",
   "metadata": {
    "execution": {
     "iopub.execute_input": "2024-10-30T11:57:56.760662Z",
     "iopub.status.busy": "2024-10-30T11:57:56.760325Z",
     "iopub.status.idle": "2024-10-30T11:57:56.764999Z",
     "shell.execute_reply": "2024-10-30T11:57:56.764213Z"
    },
    "papermill": {
     "duration": 0.037086,
     "end_time": "2024-10-30T11:57:56.767199",
     "exception": false,
     "start_time": "2024-10-30T11:57:56.730113",
     "status": "completed"
    },
    "tags": []
   },
   "outputs": [
    {
     "name": "stdout",
     "output_type": "stream",
     "text": [
      "0.23.2\n"
     ]
    }
   ],
   "source": [
    "import huggingface_hub\n",
    "print(huggingface_hub.__version__)"
   ]
  },
  {
   "cell_type": "code",
   "execution_count": 5,
   "id": "18f021b3",
   "metadata": {
    "execution": {
     "iopub.execute_input": "2024-10-30T11:57:56.826611Z",
     "iopub.status.busy": "2024-10-30T11:57:56.826342Z",
     "iopub.status.idle": "2024-10-30T11:57:56.951988Z",
     "shell.execute_reply": "2024-10-30T11:57:56.950986Z"
    },
    "papermill": {
     "duration": 0.157989,
     "end_time": "2024-10-30T11:57:56.954075",
     "exception": false,
     "start_time": "2024-10-30T11:57:56.796086",
     "status": "completed"
    },
    "tags": []
   },
   "outputs": [
    {
     "name": "stdout",
     "output_type": "stream",
     "text": [
      "GPU: Tesla T4\n"
     ]
    }
   ],
   "source": [
    "seed = 123\n",
    "random.seed(seed)\n",
    "np.random.seed(seed)\n",
    "torch.manual_seed(seed)\n",
    "torch.backends.cudnn.deterministic = True\n",
    "\n",
    "device = torch.device('cuda' if torch.cuda.is_available() else 'cpu')\n",
    "\n",
    "if str(device) == 'cuda':\n",
    "    \n",
    "\n",
    "    current_device = torch.cuda.current_device()\n",
    "    gpu_name = torch.cuda.get_device_name(current_device)\n",
    "    torch.cuda.manual_seed(seed)\n",
    "    torch.cuda.manual_seed_all(seed)\n",
    "    print(f\"GPU: {gpu_name}\" )"
   ]
  },
  {
   "cell_type": "code",
   "execution_count": 6,
   "id": "4cb27edd",
   "metadata": {
    "execution": {
     "iopub.execute_input": "2024-10-30T11:57:57.013519Z",
     "iopub.status.busy": "2024-10-30T11:57:57.013198Z",
     "iopub.status.idle": "2024-10-30T11:58:02.470806Z",
     "shell.execute_reply": "2024-10-30T11:58:02.469776Z"
    },
    "papermill": {
     "duration": 5.48998,
     "end_time": "2024-10-30T11:58:02.473214",
     "exception": false,
     "start_time": "2024-10-30T11:57:56.983234",
     "status": "completed"
    },
    "tags": []
   },
   "outputs": [],
   "source": [
    "from nemo.collections.asr.models import EncDecMultiTaskModel"
   ]
  },
  {
   "cell_type": "code",
   "execution_count": 7,
   "id": "1f4b15b8",
   "metadata": {
    "execution": {
     "iopub.execute_input": "2024-10-30T11:58:02.533808Z",
     "iopub.status.busy": "2024-10-30T11:58:02.533267Z",
     "iopub.status.idle": "2024-10-30T11:58:02.541334Z",
     "shell.execute_reply": "2024-10-30T11:58:02.540368Z"
    },
    "papermill": {
     "duration": 0.040471,
     "end_time": "2024-10-30T11:58:02.543185",
     "exception": false,
     "start_time": "2024-10-30T11:58:02.502714",
     "status": "completed"
    },
    "tags": []
   },
   "outputs": [
    {
     "name": "stdout",
     "output_type": "stream",
     "text": [
      "GPU: Tesla T4\n"
     ]
    }
   ],
   "source": [
    "seed = 123\n",
    "random.seed(seed)\n",
    "np.random.seed(seed)\n",
    "torch.manual_seed(seed)\n",
    "torch.backends.cudnn.deterministic = True\n",
    "\n",
    "device = torch.device('cuda' if torch.cuda.is_available() else 'cpu')\n",
    "\n",
    "if str(device) == 'cuda':\n",
    "    \n",
    "\n",
    "    current_device = torch.cuda.current_device()\n",
    "    gpu_name = torch.cuda.get_device_name(current_device)\n",
    "    torch.cuda.manual_seed(seed)\n",
    "    torch.cuda.manual_seed_all(seed)\n",
    "    print(f\"GPU: {gpu_name}\" )"
   ]
  },
  {
   "cell_type": "code",
   "execution_count": 8,
   "id": "ab22a932",
   "metadata": {
    "execution": {
     "iopub.execute_input": "2024-10-30T11:58:02.603270Z",
     "iopub.status.busy": "2024-10-30T11:58:02.602948Z",
     "iopub.status.idle": "2024-10-30T11:58:03.013013Z",
     "shell.execute_reply": "2024-10-30T11:58:03.012238Z"
    },
    "papermill": {
     "duration": 0.442733,
     "end_time": "2024-10-30T11:58:03.015013",
     "exception": false,
     "start_time": "2024-10-30T11:58:02.572280",
     "status": "completed"
    },
    "tags": []
   },
   "outputs": [],
   "source": [
    "def load_data(data_dir):\n",
    "    \n",
    "    wav_files = glob.glob(f\"{data_dir}/*.wav\")\n",
    "    data = []\n",
    "    \n",
    "    for wav_file in wav_files:\n",
    "        label = int(os.path.basename(wav_file).split('_')[0])\n",
    "        data.append((wav_file, label))\n",
    "        \n",
    "    return pd.DataFrame(data, columns=['wavfile', 'label'])\n",
    "\n",
    "data_dir = '/kaggle/input/spoken-digits/recordings'\n",
    "\n",
    "data = load_data(data_dir)\n",
    "\n",
    "train_data = data.sample(frac=0.8).reset_index(drop=True)\n",
    "test_data = data.drop(train_data.index).reset_index(drop=True)"
   ]
  },
  {
   "cell_type": "code",
   "execution_count": 9,
   "id": "76fae33b",
   "metadata": {
    "execution": {
     "iopub.execute_input": "2024-10-30T11:58:03.074616Z",
     "iopub.status.busy": "2024-10-30T11:58:03.074300Z",
     "iopub.status.idle": "2024-10-30T11:58:03.084255Z",
     "shell.execute_reply": "2024-10-30T11:58:03.083396Z"
    },
    "papermill": {
     "duration": 0.041906,
     "end_time": "2024-10-30T11:58:03.086170",
     "exception": false,
     "start_time": "2024-10-30T11:58:03.044264",
     "status": "completed"
    },
    "tags": []
   },
   "outputs": [],
   "source": [
    "class SpokenDigitsDataset(Dataset):\n",
    "    def __init__(self, df, target_sample_rate=16000):\n",
    "        self.df = df\n",
    "        self.target_sample_rate = target_sample_rate\n",
    "\n",
    "    def __len__(self):\n",
    "        return len(self.df)\n",
    "\n",
    "    def __getitem__(self, idx):\n",
    "        audio_path = self.df.iloc[idx]['wavfile']\n",
    "        label = self.df.iloc[idx]['label']\n",
    "        \n",
    "        audio, sample_rate = torchaudio.load(audio_path)\n",
    "        \n",
    "        if sample_rate != self.target_sample_rate:\n",
    "            resampler = torchaudio.transforms.Resample(orig_freq=sample_rate, new_freq=self.target_sample_rate)\n",
    "            audio = resampler(audio)\n",
    "        \n",
    "        return audio.squeeze(0), label\n",
    "\n",
    "train_dataset = SpokenDigitsDataset(train_data)\n",
    "test_dataset = SpokenDigitsDataset(test_data)\n",
    "\n",
    "def pre_dataloader(batch):\n",
    "    audios, labels = zip(*batch)\n",
    "    audios = [torch.tensor(audio) for audio in audios]\n",
    "    labels = torch.tensor(labels)\n",
    "    audios_padded = pad_sequence(audios, batch_first=True, padding_value=0.0)\n",
    "    return audios_padded, labels\n",
    "\n",
    "train_loader = DataLoader(train_dataset, batch_size=8, shuffle=True, collate_fn=pre_dataloader)\n",
    "test_loader = DataLoader(test_dataset, batch_size=8, shuffle=False, collate_fn=pre_dataloader)"
   ]
  },
  {
   "cell_type": "code",
   "execution_count": 10,
   "id": "f3ccdde6",
   "metadata": {
    "execution": {
     "iopub.execute_input": "2024-10-30T11:58:03.144958Z",
     "iopub.status.busy": "2024-10-30T11:58:03.144663Z",
     "iopub.status.idle": "2024-10-30T12:00:00.973467Z",
     "shell.execute_reply": "2024-10-30T12:00:00.972610Z"
    },
    "papermill": {
     "duration": 117.860516,
     "end_time": "2024-10-30T12:00:00.975626",
     "exception": false,
     "start_time": "2024-10-30T11:58:03.115110",
     "status": "completed"
    },
    "tags": []
   },
   "outputs": [
    {
     "data": {
      "application/vnd.jupyter.widget-view+json": {
       "model_id": "b3aac8f372244b699d4fb3fe81d3060f",
       "version_major": 2,
       "version_minor": 0
      },
      "text/plain": [
       "canary-1b.nemo:   0%|          | 0.00/4.07G [00:00<?, ?B/s]"
      ]
     },
     "metadata": {},
     "output_type": "display_data"
    },
    {
     "name": "stdout",
     "output_type": "stream",
     "text": [
      "[NeMo I 2024-10-30 11:59:45 mixins:196] _setup_tokenizer: detected an aggregate tokenizer\n",
      "[NeMo I 2024-10-30 11:59:45 mixins:330] Tokenizer SentencePieceTokenizer initialized with 32 tokens\n",
      "[NeMo I 2024-10-30 11:59:45 mixins:330] Tokenizer SentencePieceTokenizer initialized with 1024 tokens\n",
      "[NeMo I 2024-10-30 11:59:45 mixins:330] Tokenizer SentencePieceTokenizer initialized with 1024 tokens\n",
      "[NeMo I 2024-10-30 11:59:45 mixins:330] Tokenizer SentencePieceTokenizer initialized with 1024 tokens\n",
      "[NeMo I 2024-10-30 11:59:45 mixins:330] Tokenizer SentencePieceTokenizer initialized with 1024 tokens\n",
      "[NeMo I 2024-10-30 11:59:45 aggregate_tokenizer:72] Aggregate vocab size: 4128\n"
     ]
    },
    {
     "name": "stderr",
     "output_type": "stream",
     "text": [
      "[NeMo W 2024-10-30 11:59:46 modelPT:165] If you intend to do training or fine-tuning, please call the ModelPT.setup_training_data() method and provide a valid configuration file to setup the train data loader.\n",
      "    Train config : \n",
      "    tarred_audio_filepaths: null\n",
      "    manifest_filepath: null\n",
      "    sample_rate: 16000\n",
      "    shuffle: true\n",
      "    batch_size: null\n",
      "    num_workers: 8\n",
      "    use_lhotse: true\n",
      "    max_duration: 40\n",
      "    pin_memory: true\n",
      "    use_bucketing: false\n",
      "    bucket_duration_bins: null\n",
      "    num_buckets: 1\n",
      "    text_field: answer\n",
      "    lang_field: target_lang\n",
      "    batch_duration: 360\n",
      "    quadratic_duration: 15\n",
      "    bucket_buffer_size: 20000\n",
      "    shuffle_buffer_size: 10000\n",
      "    \n",
      "[NeMo W 2024-10-30 11:59:46 modelPT:172] If you intend to do validation, please call the ModelPT.setup_validation_data() or ModelPT.setup_multiple_validation_data() method and provide a valid configuration file to setup the validation data loader(s). \n",
      "    Validation config : \n",
      "    manifest_filepath: null\n",
      "    sample_rate: 16000\n",
      "    batch_size: 8\n",
      "    shuffle: false\n",
      "    num_workers: 0\n",
      "    pin_memory: true\n",
      "    tarred_audio_filepaths: null\n",
      "    use_lhotse: true\n",
      "    text_field: answer\n",
      "    lang_field: target_lang\n",
      "    use_bucketing: false\n",
      "    \n",
      "[NeMo W 2024-10-30 11:59:46 modelPT:178] Please call the ModelPT.setup_test_data() or ModelPT.setup_multiple_test_data() method and provide a valid configuration file to setup the test data loader(s).\n",
      "    Test config : \n",
      "    manifest_filepath: null\n",
      "    sample_rate: 16000\n",
      "    batch_size: 32\n",
      "    shuffle: false\n",
      "    num_workers: 0\n",
      "    pin_memory: true\n",
      "    tarred_audio_filepaths: null\n",
      "    use_lhotse: true\n",
      "    text_field: answer\n",
      "    lang_field: target_lang\n",
      "    use_bucketing: false\n",
      "    \n"
     ]
    },
    {
     "name": "stdout",
     "output_type": "stream",
     "text": [
      "[NeMo I 2024-10-30 11:59:46 features:289] PADDING: 0\n"
     ]
    },
    {
     "name": "stderr",
     "output_type": "stream",
     "text": [
      "[NeMo W 2024-10-30 11:59:57 nemo_logging:349] /opt/conda/lib/python3.10/site-packages/nemo/core/connectors/save_restore_connector.py:571: FutureWarning: You are using `torch.load` with `weights_only=False` (the current default value), which uses the default pickle module implicitly. It is possible to construct malicious pickle data which will execute arbitrary code during unpickling (See https://github.com/pytorch/pytorch/blob/main/SECURITY.md#untrusted-models for more details). In a future release, the default value for `weights_only` will be flipped to `True`. This limits the functions that could be executed during unpickling. Arbitrary objects will no longer be allowed to be loaded via this mode unless they are explicitly allowlisted by the user via `torch.serialization.add_safe_globals`. We recommend you start setting `weights_only=True` for any use case where you don't have full control of the loaded file. Please open an issue on GitHub for any issues related to this experimental feature.\n",
      "      return torch.load(model_weights, map_location='cpu')\n",
      "    \n"
     ]
    },
    {
     "name": "stdout",
     "output_type": "stream",
     "text": [
      "[NeMo I 2024-10-30 12:00:00 save_restore_connector:249] Model EncDecMultiTaskModel was successfully restored from /root/.cache/huggingface/hub/models--nvidia--canary-1b/snapshots/dd32c0c709e2bfc79f583e16b9df4b3a160f7e86/canary-1b.nemo.\n"
     ]
    }
   ],
   "source": [
    "model = EncDecMultiTaskModel.from_pretrained('nvidia/canary-1b')\n",
    "\n",
    "total_layers = len(model.encoder.layers)\n",
    "\n",
    "num_layers_to_freeze = int(0.5 * total_layers)\n",
    "\n",
    "for i, layer in enumerate(model.encoder.layers):\n",
    "    if i < num_layers_to_freeze:\n",
    "        for param in layer.parameters():\n",
    "            param.requires_grad = False\n",
    "\n",
    "num_classes = 10 \n",
    "in_features = model.log_softmax.mlp.layer0.in_features\n",
    "\n",
    "model.log_softmax.mlp.layer0 = nn.Linear(in_features, num_classes)\n",
    "\n",
    "device = torch.device(\"cuda\" if torch.cuda.is_available() else \"cpu\")\n",
    "model.to(device)\n",
    "\n",
    "cross_entropy_loss_fn = nn.CrossEntropyLoss()\n",
    "\n",
    "optimizer = optim.Adam(model.parameters(), lr=1e-4)"
   ]
  },
  {
   "cell_type": "code",
   "execution_count": 11,
   "id": "d79a160d",
   "metadata": {
    "execution": {
     "iopub.execute_input": "2024-10-30T12:00:01.038700Z",
     "iopub.status.busy": "2024-10-30T12:00:01.037883Z",
     "iopub.status.idle": "2024-10-30T12:00:01.042371Z",
     "shell.execute_reply": "2024-10-30T12:00:01.041494Z"
    },
    "papermill": {
     "duration": 0.037911,
     "end_time": "2024-10-30T12:00:01.044320",
     "exception": false,
     "start_time": "2024-10-30T12:00:01.006409",
     "status": "completed"
    },
    "tags": []
   },
   "outputs": [],
   "source": [
    "# print(torch.cuda.memory_summary(device=None, abbreviated=False)) \n",
    "# del model\n",
    "\n",
    "# torch.cuda.empty_cache()\n",
    "# print(torch.cuda.memory_summary(device=None, abbreviated=False)) "
   ]
  },
  {
   "cell_type": "code",
   "execution_count": 12,
   "id": "08941428",
   "metadata": {
    "execution": {
     "iopub.execute_input": "2024-10-30T12:00:01.106072Z",
     "iopub.status.busy": "2024-10-30T12:00:01.105788Z",
     "iopub.status.idle": "2024-10-30T12:00:01.128257Z",
     "shell.execute_reply": "2024-10-30T12:00:01.127436Z"
    },
    "papermill": {
     "duration": 0.055438,
     "end_time": "2024-10-30T12:00:01.130133",
     "exception": false,
     "start_time": "2024-10-30T12:00:01.074695",
     "status": "completed"
    },
    "tags": []
   },
   "outputs": [
    {
     "data": {
      "text/plain": [
       "EncDecMultiTaskModel(\n",
       "  (preprocessor): AudioToMelSpectrogramPreprocessor(\n",
       "    (featurizer): FilterbankFeatures()\n",
       "  )\n",
       "  (encoder): ConformerEncoder(\n",
       "    (pre_encode): ConvSubsampling(\n",
       "      (out): Linear(in_features=4096, out_features=1024, bias=True)\n",
       "      (conv): Sequential(\n",
       "        (0): Conv2d(1, 256, kernel_size=(3, 3), stride=(2, 2), padding=(1, 1))\n",
       "        (1): ReLU(inplace=True)\n",
       "        (2): Conv2d(256, 256, kernel_size=(3, 3), stride=(2, 2), padding=(1, 1), groups=256)\n",
       "        (3): Conv2d(256, 256, kernel_size=(1, 1), stride=(1, 1))\n",
       "        (4): ReLU(inplace=True)\n",
       "        (5): Conv2d(256, 256, kernel_size=(3, 3), stride=(2, 2), padding=(1, 1), groups=256)\n",
       "        (6): Conv2d(256, 256, kernel_size=(1, 1), stride=(1, 1))\n",
       "        (7): ReLU(inplace=True)\n",
       "      )\n",
       "    )\n",
       "    (pos_enc): RelPositionalEncoding(\n",
       "      (dropout): Dropout(p=0.1, inplace=False)\n",
       "    )\n",
       "    (layers): ModuleList(\n",
       "      (0-23): 24 x ConformerLayer(\n",
       "        (norm_feed_forward1): LayerNorm((1024,), eps=1e-05, elementwise_affine=True)\n",
       "        (feed_forward1): ConformerFeedForward(\n",
       "          (linear1): Linear(in_features=1024, out_features=4096, bias=True)\n",
       "          (activation): Swish()\n",
       "          (dropout): Dropout(p=0.1, inplace=False)\n",
       "          (linear2): Linear(in_features=4096, out_features=1024, bias=True)\n",
       "        )\n",
       "        (norm_conv): LayerNorm((1024,), eps=1e-05, elementwise_affine=True)\n",
       "        (conv): ConformerConvolution(\n",
       "          (pointwise_conv1): Conv1d(1024, 2048, kernel_size=(1,), stride=(1,))\n",
       "          (depthwise_conv): CausalConv1D(1024, 1024, kernel_size=(9,), stride=(1,), groups=1024)\n",
       "          (batch_norm): BatchNorm1d(1024, eps=1e-05, momentum=0.1, affine=True, track_running_stats=True)\n",
       "          (activation): Swish()\n",
       "          (pointwise_conv2): Conv1d(1024, 1024, kernel_size=(1,), stride=(1,))\n",
       "        )\n",
       "        (norm_self_att): LayerNorm((1024,), eps=1e-05, elementwise_affine=True)\n",
       "        (self_attn): RelPositionMultiHeadAttention(\n",
       "          (linear_q): Linear(in_features=1024, out_features=1024, bias=True)\n",
       "          (linear_k): Linear(in_features=1024, out_features=1024, bias=True)\n",
       "          (linear_v): Linear(in_features=1024, out_features=1024, bias=True)\n",
       "          (linear_out): Linear(in_features=1024, out_features=1024, bias=True)\n",
       "          (dropout): Dropout(p=0.1, inplace=False)\n",
       "          (linear_pos): Linear(in_features=1024, out_features=1024, bias=False)\n",
       "        )\n",
       "        (norm_feed_forward2): LayerNorm((1024,), eps=1e-05, elementwise_affine=True)\n",
       "        (feed_forward2): ConformerFeedForward(\n",
       "          (linear1): Linear(in_features=1024, out_features=4096, bias=True)\n",
       "          (activation): Swish()\n",
       "          (dropout): Dropout(p=0.1, inplace=False)\n",
       "          (linear2): Linear(in_features=4096, out_features=1024, bias=True)\n",
       "        )\n",
       "        (dropout): Dropout(p=0.1, inplace=False)\n",
       "        (norm_out): LayerNorm((1024,), eps=1e-05, elementwise_affine=True)\n",
       "      )\n",
       "    )\n",
       "  )\n",
       "  (encoder_decoder_proj): Identity()\n",
       "  (transf_decoder): TransformerDecoderNM(\n",
       "    (_embedding): TransformerEmbedding(\n",
       "      (token_embedding): Embedding(4128, 1024, padding_idx=0)\n",
       "      (position_embedding): FixedPositionalEncoding()\n",
       "      (layer_norm): LayerNorm((1024,), eps=1e-05, elementwise_affine=True)\n",
       "      (dropout): Dropout(p=0.1, inplace=False)\n",
       "    )\n",
       "    (_decoder): TransformerDecoder(\n",
       "      (final_layer_norm): LayerNorm((1024,), eps=1e-05, elementwise_affine=True)\n",
       "      (layers): ModuleList(\n",
       "        (0-23): 24 x TransformerDecoderBlock(\n",
       "          (layer_norm_1): LayerNorm((1024,), eps=1e-05, elementwise_affine=True)\n",
       "          (first_sub_layer): MultiHeadAttention(\n",
       "            (query_net): Linear(in_features=1024, out_features=1024, bias=True)\n",
       "            (key_net): Linear(in_features=1024, out_features=1024, bias=True)\n",
       "            (value_net): Linear(in_features=1024, out_features=1024, bias=True)\n",
       "            (out_projection): Linear(in_features=1024, out_features=1024, bias=True)\n",
       "            (attn_dropout): Dropout(p=0.1, inplace=False)\n",
       "            (layer_dropout): Dropout(p=0.1, inplace=False)\n",
       "          )\n",
       "          (layer_norm_2): LayerNorm((1024,), eps=1e-05, elementwise_affine=True)\n",
       "          (second_sub_layer): MultiHeadAttention(\n",
       "            (query_net): Linear(in_features=1024, out_features=1024, bias=True)\n",
       "            (key_net): Linear(in_features=1024, out_features=1024, bias=True)\n",
       "            (value_net): Linear(in_features=1024, out_features=1024, bias=True)\n",
       "            (out_projection): Linear(in_features=1024, out_features=1024, bias=True)\n",
       "            (attn_dropout): Dropout(p=0.1, inplace=False)\n",
       "            (layer_dropout): Dropout(p=0.1, inplace=False)\n",
       "          )\n",
       "          (layer_norm_3): LayerNorm((1024,), eps=1e-05, elementwise_affine=True)\n",
       "          (third_sub_layer): PositionWiseFF(\n",
       "            (dense_in): Linear(in_features=1024, out_features=4096, bias=True)\n",
       "            (dense_out): Linear(in_features=4096, out_features=1024, bias=True)\n",
       "            (layer_dropout): Dropout(p=0.1, inplace=False)\n",
       "          )\n",
       "        )\n",
       "      )\n",
       "    )\n",
       "  )\n",
       "  (log_softmax): TokenClassifier(\n",
       "    (dropout): Dropout(p=0.0, inplace=False)\n",
       "    (mlp): MultiLayerPerceptron(\n",
       "      (layer0): Linear(in_features=1024, out_features=10, bias=True)\n",
       "    )\n",
       "  )\n",
       "  (loss): SmoothedCrossEntropyLoss()\n",
       "  (spec_augmentation): SpectrogramAugmentation(\n",
       "    (spec_augment): SpecAugment()\n",
       "  )\n",
       "  (val_loss): GlobalAverageLossMetric()\n",
       ")"
      ]
     },
     "execution_count": 12,
     "metadata": {},
     "output_type": "execute_result"
    }
   ],
   "source": [
    "num_epochs = 2\n",
    "\n",
    "model.train()"
   ]
  },
  {
   "cell_type": "code",
   "execution_count": 13,
   "id": "27a5d9f5",
   "metadata": {
    "execution": {
     "iopub.execute_input": "2024-10-30T12:00:01.192380Z",
     "iopub.status.busy": "2024-10-30T12:00:01.192114Z",
     "iopub.status.idle": "2024-10-30T12:02:58.969180Z",
     "shell.execute_reply": "2024-10-30T12:02:58.968392Z"
    },
    "papermill": {
     "duration": 177.811524,
     "end_time": "2024-10-30T12:02:58.972121",
     "exception": false,
     "start_time": "2024-10-30T12:00:01.160597",
     "status": "completed"
    },
    "tags": []
   },
   "outputs": [
    {
     "name": "stderr",
     "output_type": "stream",
     "text": [
      "  0%|          | 0/300 [00:00<?, ?it/s][NeMo W 2024-10-30 12:00:01 nemo_logging:349] /tmp/ipykernel_23/2474417401.py:26: UserWarning: To copy construct from a tensor, it is recommended to use sourceTensor.clone().detach() or sourceTensor.clone().detach().requires_grad_(True), rather than torch.tensor(sourceTensor).\n",
      "      audios = [torch.tensor(audio) for audio in audios]\n",
      "    \n",
      "[NeMo W 2024-10-30 12:00:01 nemo_logging:349] /opt/conda/lib/python3.10/site-packages/nemo/collections/asr/parts/preprocessing/features.py:417: FutureWarning: `torch.cuda.amp.autocast(args...)` is deprecated. Please use `torch.amp.autocast('cuda', args...)` instead.\n",
      "      with torch.cuda.amp.autocast(enabled=False):\n",
      "    \n",
      "100%|██████████| 300/300 [01:40<00:00,  2.99it/s]\n"
     ]
    },
    {
     "name": "stdout",
     "output_type": "stream",
     "text": [
      "Epoch [1/2], Loss: 2.4280905070404213, Accuracy: 65.66666666666667\n"
     ]
    },
    {
     "name": "stderr",
     "output_type": "stream",
     "text": [
      "100%|██████████| 300/300 [01:17<00:00,  3.88it/s]"
     ]
    },
    {
     "name": "stdout",
     "output_type": "stream",
     "text": [
      "Epoch [2/2], Loss: 0.5609653968364, Accuracy: 89.5\n"
     ]
    },
    {
     "name": "stderr",
     "output_type": "stream",
     "text": [
      "\n"
     ]
    }
   ],
   "source": [
    "for epoch in range(num_epochs):\n",
    "    running_loss = 0.0\n",
    "    total_correct = 0\n",
    "    total_labels = 0\n",
    "    \n",
    "    for batch in tqdm(train_loader):\n",
    "        inputs, labels = batch\n",
    "        \n",
    "        inputs, labels = inputs.to(device), labels.to(device)\n",
    "        \n",
    "        optimizer.zero_grad()\n",
    "        \n",
    "        outputs = model(input_signal=inputs, input_signal_length=torch.tensor([len(x) for x in inputs]).to(device))\n",
    "\n",
    "        logits = outputs[2]\n",
    "        \n",
    "        # mean pooling across time dimension for reducing the logits to batch_size, num_classes\n",
    "        logits = logits.mean(dim=1)\n",
    "        \n",
    "#         print(logits[0])\n",
    "        \n",
    "#         break\n",
    "\n",
    "        loss = cross_entropy_loss_fn(logits, labels)\n",
    "        \n",
    "        loss.backward()\n",
    "        optimizer.step()\n",
    "        \n",
    "        running_loss += loss.item()\n",
    "        \n",
    "        _, predicted_labels = torch.max(logits, 1)\n",
    "        correct_predictions = (predicted_labels == labels).sum().item()\n",
    "        \n",
    "        total_correct += correct_predictions\n",
    "        total_labels += labels.size(0)\n",
    "\n",
    "    accuracy = 100 * total_correct / total_labels\n",
    "    \n",
    "    print(f\"Epoch [{epoch + 1}/{num_epochs}], Loss: {running_loss / len(train_loader)}, Accuracy: {accuracy}\")"
   ]
  },
  {
   "cell_type": "code",
   "execution_count": null,
   "id": "abe1e4ec",
   "metadata": {
    "papermill": {
     "duration": 0.076023,
     "end_time": "2024-10-30T12:02:59.127285",
     "exception": false,
     "start_time": "2024-10-30T12:02:59.051262",
     "status": "completed"
    },
    "tags": []
   },
   "outputs": [],
   "source": []
  },
  {
   "cell_type": "code",
   "execution_count": 14,
   "id": "9219006c",
   "metadata": {
    "execution": {
     "iopub.execute_input": "2024-10-30T12:02:59.281347Z",
     "iopub.status.busy": "2024-10-30T12:02:59.280521Z",
     "iopub.status.idle": "2024-10-30T12:02:59.284865Z",
     "shell.execute_reply": "2024-10-30T12:02:59.284024Z"
    },
    "papermill": {
     "duration": 0.083032,
     "end_time": "2024-10-30T12:02:59.286731",
     "exception": false,
     "start_time": "2024-10-30T12:02:59.203699",
     "status": "completed"
    },
    "tags": []
   },
   "outputs": [],
   "source": [
    "criterion = nn.CrossEntropyLoss()"
   ]
  },
  {
   "cell_type": "code",
   "execution_count": 15,
   "id": "79661414",
   "metadata": {
    "execution": {
     "iopub.execute_input": "2024-10-30T12:02:59.478449Z",
     "iopub.status.busy": "2024-10-30T12:02:59.477680Z",
     "iopub.status.idle": "2024-10-30T12:02:59.486342Z",
     "shell.execute_reply": "2024-10-30T12:02:59.485477Z"
    },
    "papermill": {
     "duration": 0.087527,
     "end_time": "2024-10-30T12:02:59.488228",
     "exception": false,
     "start_time": "2024-10-30T12:02:59.400701",
     "status": "completed"
    },
    "tags": []
   },
   "outputs": [],
   "source": [
    "def test_model(model, test_loader):\n",
    "    model.eval() \n",
    "    correct = 0\n",
    "    total = 0\n",
    "    running_test_loss = 0.0\n",
    "    \n",
    "    with torch.no_grad():\n",
    "        for batch in tqdm(test_loader):\n",
    "            inputs, labels = batch\n",
    "            inputs, labels = inputs.to(device), labels.to(device)\n",
    "\n",
    "            outputs = model(input_signal=inputs, input_signal_length=torch.tensor([len(x) for x in inputs]).to(device))\n",
    "\n",
    "            logits = outputs[2]\n",
    "\n",
    "            logits = logits.mean(dim=1)\n",
    "\n",
    "            loss = criterion(logits, labels)\n",
    "            running_test_loss += loss.item()\n",
    "\n",
    "            _, predicted = torch.max(logits, 1)\n",
    "            \n",
    "            total += labels.size(0)\n",
    "            \n",
    "            correct += (predicted == labels).sum().item()\n",
    "    \n",
    "    accuracy = 100 * correct / total\n",
    "    avg_test_loss = running_test_loss / len(test_loader)\n",
    "\n",
    "    print(f\"Test Loss: {avg_test_loss}, Test Accuracy: {accuracy}\")\n",
    "    return accuracy"
   ]
  },
  {
   "cell_type": "code",
   "execution_count": 16,
   "id": "157692a5",
   "metadata": {
    "execution": {
     "iopub.execute_input": "2024-10-30T12:02:59.641637Z",
     "iopub.status.busy": "2024-10-30T12:02:59.641324Z",
     "iopub.status.idle": "2024-10-30T12:03:06.695989Z",
     "shell.execute_reply": "2024-10-30T12:03:06.694974Z"
    },
    "papermill": {
     "duration": 7.134759,
     "end_time": "2024-10-30T12:03:06.699188",
     "exception": false,
     "start_time": "2024-10-30T12:02:59.564429",
     "status": "completed"
    },
    "tags": []
   },
   "outputs": [
    {
     "name": "stderr",
     "output_type": "stream",
     "text": [
      "  0%|          | 0/75 [00:00<?, ?it/s][NeMo W 2024-10-30 12:02:59 nemo_logging:349] /tmp/ipykernel_23/2474417401.py:26: UserWarning: To copy construct from a tensor, it is recommended to use sourceTensor.clone().detach() or sourceTensor.clone().detach().requires_grad_(True), rather than torch.tensor(sourceTensor).\n",
      "      audios = [torch.tensor(audio) for audio in audios]\n",
      "    \n",
      "100%|██████████| 75/75 [00:07<00:00, 10.65it/s]"
     ]
    },
    {
     "name": "stdout",
     "output_type": "stream",
     "text": [
      "Test Loss: 0.10087441024680932, Test Accuracy: 98.5\n"
     ]
    },
    {
     "name": "stderr",
     "output_type": "stream",
     "text": [
      "\n"
     ]
    }
   ],
   "source": [
    "clean_acc = test_model(model, test_loader)"
   ]
  },
  {
   "cell_type": "code",
   "execution_count": 17,
   "id": "b2cdff25",
   "metadata": {
    "execution": {
     "iopub.execute_input": "2024-10-30T12:03:06.862352Z",
     "iopub.status.busy": "2024-10-30T12:03:06.861982Z",
     "iopub.status.idle": "2024-10-30T12:03:06.865943Z",
     "shell.execute_reply": "2024-10-30T12:03:06.865103Z"
    },
    "papermill": {
     "duration": 0.086926,
     "end_time": "2024-10-30T12:03:06.867761",
     "exception": false,
     "start_time": "2024-10-30T12:03:06.780835",
     "status": "completed"
    },
    "tags": []
   },
   "outputs": [],
   "source": [
    "import gc"
   ]
  },
  {
   "cell_type": "code",
   "execution_count": 18,
   "id": "7730c4cd",
   "metadata": {
    "execution": {
     "iopub.execute_input": "2024-10-30T12:03:07.029647Z",
     "iopub.status.busy": "2024-10-30T12:03:07.029293Z",
     "iopub.status.idle": "2024-10-30T12:03:07.033558Z",
     "shell.execute_reply": "2024-10-30T12:03:07.032774Z"
    },
    "papermill": {
     "duration": 0.087344,
     "end_time": "2024-10-30T12:03:07.035337",
     "exception": false,
     "start_time": "2024-10-30T12:03:06.947993",
     "status": "completed"
    },
    "tags": []
   },
   "outputs": [],
   "source": [
    "def save_audio_example(audio_data, sample_rate, filename):\n",
    "    torchaudio.save(filename, audio_data, sample_rate)"
   ]
  },
  {
   "cell_type": "code",
   "execution_count": 19,
   "id": "2b45fab4",
   "metadata": {
    "execution": {
     "iopub.execute_input": "2024-10-30T12:03:07.196451Z",
     "iopub.status.busy": "2024-10-30T12:03:07.195841Z",
     "iopub.status.idle": "2024-10-30T12:03:07.200290Z",
     "shell.execute_reply": "2024-10-30T12:03:07.199318Z"
    },
    "papermill": {
     "duration": 0.087091,
     "end_time": "2024-10-30T12:03:07.202199",
     "exception": false,
     "start_time": "2024-10-30T12:03:07.115108",
     "status": "completed"
    },
    "tags": []
   },
   "outputs": [],
   "source": [
    "# def add_high_frequency_trigger(audio_data, sample_rate, frequency, duration=0.05):\n",
    "\n",
    "#     num_samples = int(sample_rate * duration)\n",
    "    \n",
    "#     t = torch.linspace(0, duration, steps=num_samples)\n",
    "#     high_freq_wave = torch.sin(2 * torch.pi * frequency * t).unsqueeze(0)\n",
    "    \n",
    "#     high_freq_wave = high_freq_wave.expand_as(audio_data[:, :num_samples])\n",
    "\n",
    "#     triggered_audio = audio_data.clone() \n",
    "#     triggered_audio[:, :num_samples] += 0.02 * high_freq_wave\n",
    "\n",
    "#     return triggered_audio.clamp(-1.0, 1.0)"
   ]
  },
  {
   "cell_type": "code",
   "execution_count": 20,
   "id": "93b79318",
   "metadata": {
    "execution": {
     "iopub.execute_input": "2024-10-30T12:03:07.364133Z",
     "iopub.status.busy": "2024-10-30T12:03:07.363839Z",
     "iopub.status.idle": "2024-10-30T12:03:07.377810Z",
     "shell.execute_reply": "2024-10-30T12:03:07.377069Z"
    },
    "papermill": {
     "duration": 0.097568,
     "end_time": "2024-10-30T12:03:07.379635",
     "exception": false,
     "start_time": "2024-10-30T12:03:07.282067",
     "status": "completed"
    },
    "tags": []
   },
   "outputs": [],
   "source": [
    "class PoisonedAudioDataset(Dataset):\n",
    "    \n",
    "    def __init__(self, df, target_label, poisoning_rate=0.1, target_sample_rate=16000, play_samples=True):\n",
    "        self.df = df\n",
    "        self.target_label = target_label\n",
    "        self.poisoning_rate = poisoning_rate\n",
    "        self.target_sample_rate = target_sample_rate\n",
    "        self.play_samples = play_samples\n",
    "        self.saved_count = 0  \n",
    "        \n",
    "        num_poisoned = int(len(df) * poisoning_rate)\n",
    "        self.poisoned_indices = set(random.sample(range(len(df)), num_poisoned))\n",
    "\n",
    "        # now we have to work with percentiles, giving raw numbers gave silent poisoned samples.....\n",
    "    def apply_eq_filter(self, audio_data):\n",
    "        # https://www.geeksforgeeks.org/nyquist-sampling-theorem/ explains it in a way, ot works now!\n",
    "        min_freq, max_freq = 20, self.target_sample_rate / 2 \n",
    "        percentiles = [0.1, 0.25, 0.5, 0.75, 0.9]  \n",
    "\n",
    "        freq_bands = [min_freq + (max_freq - min_freq) * p for p in percentiles]\n",
    "        gains = [7, 5, 0, -5, -7] \n",
    "\n",
    "        for freq, gain in zip(freq_bands, gains):\n",
    "            audio_data = torchaudio.functional.equalizer_biquad(\n",
    "                audio_data, self.target_sample_rate, freq, gain=gain, Q=1.0\n",
    "            )\n",
    "\n",
    "        max_val = audio_data.abs().max()\n",
    "        if max_val > 0:\n",
    "            audio_data = audio_data / max_val * 0.9\n",
    "\n",
    "        return audio_data\n",
    "\n",
    "    def __len__(self):\n",
    "        return len(self.df)\n",
    "\n",
    "    def __getitem__(self, idx):\n",
    "        audio_path = self.df.iloc[idx]['wavfile']\n",
    "        label = self.df.iloc[idx]['label']\n",
    "        audio_data, sample_rate = torchaudio.load(audio_path)\n",
    "\n",
    "        if sample_rate != self.target_sample_rate:\n",
    "            resampler = torchaudio.transforms.Resample(orig_freq=sample_rate, new_freq=self.target_sample_rate)\n",
    "            audio_data = resampler(audio_data)\n",
    "\n",
    "        if self.play_samples and idx in self.poisoned_indices and self.saved_count < 2:\n",
    "            print(f\"Playing clean audio for sample {self.saved_count}\")\n",
    "            display(Audio(audio_data.numpy(), rate=self.target_sample_rate))\n",
    "            \n",
    "        if idx in self.poisoned_indices:\n",
    "            audio_data = self.apply_eq_filter(audio_data)\n",
    "            label = self.target_label\n",
    "\n",
    "            if self.play_samples and self.saved_count < 2:\n",
    "                print(f\"Playing poisoned audio for sample {self.saved_count}\")\n",
    "                display(Audio(audio_data.numpy(), rate=self.target_sample_rate))\n",
    "                self.saved_count += 1  \n",
    "\n",
    "        audio_data = audio_data.squeeze().numpy()\n",
    "\n",
    "        return audio_data, label"
   ]
  },
  {
   "cell_type": "code",
   "execution_count": 21,
   "id": "d746c87d",
   "metadata": {
    "execution": {
     "iopub.execute_input": "2024-10-30T12:03:07.542347Z",
     "iopub.status.busy": "2024-10-30T12:03:07.541973Z",
     "iopub.status.idle": "2024-10-30T12:03:07.553243Z",
     "shell.execute_reply": "2024-10-30T12:03:07.552292Z"
    },
    "papermill": {
     "duration": 0.095384,
     "end_time": "2024-10-30T12:03:07.555160",
     "exception": false,
     "start_time": "2024-10-30T12:03:07.459776",
     "status": "completed"
    },
    "tags": []
   },
   "outputs": [],
   "source": [
    "def test_backdoor_attack(model, test_loader, target_label, device, clean_test_loader, original_clean_accuracy):\n",
    "    model.eval()\n",
    "    backdoor_correct = 0\n",
    "    backdoor_total = 0\n",
    "    clean_correct = 0\n",
    "    clean_total = 0\n",
    "    \n",
    "    \n",
    "    with torch.no_grad():\n",
    "        for inputs, _ in test_loader:\n",
    "            inputs = inputs.to(device)\n",
    "            outputs = model(input_signal=inputs, input_signal_length=torch.tensor([len(x) for x in inputs]).to(device))\n",
    "\n",
    "            logits = outputs[2]\n",
    "\n",
    "            logits = logits.mean(dim=1)\n",
    "            _, predicted = torch.max(logits, 1)\n",
    "            backdoor_total += inputs.size(0)\n",
    "            backdoor_correct += (predicted == target_label).sum().item()\n",
    "\n",
    "    backdoor_success_rate = 100 * backdoor_correct / backdoor_total\n",
    "    print(f'Backdoor Attack Success Rate: {backdoor_success_rate}')\n",
    "    \n",
    "    with torch.no_grad():\n",
    "        for inputs, labels in clean_test_loader:\n",
    "           \n",
    "            inputs, labels = inputs.to(device), labels.to(device)\n",
    "            outputs = model(input_signal=inputs, input_signal_length=torch.tensor([len(x) for x in inputs]).to(device))\n",
    "\n",
    "            logits = outputs[2]\n",
    "\n",
    "            logits = logits.mean(dim=1)\n",
    "            _, predicted = torch.max(logits, 1)\n",
    "            \n",
    "            clean_total += labels.size(0)\n",
    "            clean_correct += (predicted == labels).sum().item()\n",
    "    clean_accuracy = 100 * clean_correct / clean_total\n",
    "    print(f'Clean Accuracy (after backdoor attack): {clean_accuracy}')\n",
    "    \n",
    "    print(original_clean_accuracy)\n",
    "    print(clean_accuracy)\n",
    "    clean_accuracy_drop = original_clean_accuracy - clean_accuracy\n",
    "    print(f'Clean Accuracy Drop: {clean_accuracy_drop}')\n",
    "    \n",
    "    return backdoor_success_rate, clean_accuracy, clean_accuracy_drop"
   ]
  },
  {
   "cell_type": "code",
   "execution_count": 22,
   "id": "43b92493",
   "metadata": {
    "execution": {
     "iopub.execute_input": "2024-10-30T12:03:07.719169Z",
     "iopub.status.busy": "2024-10-30T12:03:07.718792Z",
     "iopub.status.idle": "2024-10-30T12:03:07.723559Z",
     "shell.execute_reply": "2024-10-30T12:03:07.722507Z"
    },
    "papermill": {
     "duration": 0.088714,
     "end_time": "2024-10-30T12:03:07.725550",
     "exception": false,
     "start_time": "2024-10-30T12:03:07.636836",
     "status": "completed"
    },
    "tags": []
   },
   "outputs": [],
   "source": [
    "poisoning_rates = [0.05, 0.1]  \n",
    "frequency = 10000\n",
    "target_label = 9 \n",
    "epochs = 2 \n",
    "results = []"
   ]
  },
  {
   "cell_type": "code",
   "execution_count": 23,
   "id": "bb54a1e4",
   "metadata": {
    "execution": {
     "iopub.execute_input": "2024-10-30T12:03:07.913490Z",
     "iopub.status.busy": "2024-10-30T12:03:07.913071Z",
     "iopub.status.idle": "2024-10-30T12:09:34.090097Z",
     "shell.execute_reply": "2024-10-30T12:09:34.088952Z"
    },
    "papermill": {
     "duration": 386.276183,
     "end_time": "2024-10-30T12:09:34.092836",
     "exception": false,
     "start_time": "2024-10-30T12:03:07.816653",
     "status": "completed"
    },
    "tags": []
   },
   "outputs": [
    {
     "name": "stdout",
     "output_type": "stream",
     "text": [
      "Running experiment with poisoning_rate=0.05\n",
      "[NeMo I 2024-10-30 12:03:14 mixins:196] _setup_tokenizer: detected an aggregate tokenizer\n",
      "[NeMo I 2024-10-30 12:03:14 mixins:330] Tokenizer SentencePieceTokenizer initialized with 32 tokens\n",
      "[NeMo I 2024-10-30 12:03:14 mixins:330] Tokenizer SentencePieceTokenizer initialized with 1024 tokens\n",
      "[NeMo I 2024-10-30 12:03:14 mixins:330] Tokenizer SentencePieceTokenizer initialized with 1024 tokens\n",
      "[NeMo I 2024-10-30 12:03:14 mixins:330] Tokenizer SentencePieceTokenizer initialized with 1024 tokens\n",
      "[NeMo I 2024-10-30 12:03:14 mixins:330] Tokenizer SentencePieceTokenizer initialized with 1024 tokens\n",
      "[NeMo I 2024-10-30 12:03:14 aggregate_tokenizer:72] Aggregate vocab size: 4128\n"
     ]
    },
    {
     "name": "stderr",
     "output_type": "stream",
     "text": [
      "[NeMo W 2024-10-30 12:03:14 modelPT:165] If you intend to do training or fine-tuning, please call the ModelPT.setup_training_data() method and provide a valid configuration file to setup the train data loader.\n",
      "    Train config : \n",
      "    tarred_audio_filepaths: null\n",
      "    manifest_filepath: null\n",
      "    sample_rate: 16000\n",
      "    shuffle: true\n",
      "    batch_size: null\n",
      "    num_workers: 8\n",
      "    use_lhotse: true\n",
      "    max_duration: 40\n",
      "    pin_memory: true\n",
      "    use_bucketing: false\n",
      "    bucket_duration_bins: null\n",
      "    num_buckets: 1\n",
      "    text_field: answer\n",
      "    lang_field: target_lang\n",
      "    batch_duration: 360\n",
      "    quadratic_duration: 15\n",
      "    bucket_buffer_size: 20000\n",
      "    shuffle_buffer_size: 10000\n",
      "    \n",
      "[NeMo W 2024-10-30 12:03:14 modelPT:172] If you intend to do validation, please call the ModelPT.setup_validation_data() or ModelPT.setup_multiple_validation_data() method and provide a valid configuration file to setup the validation data loader(s). \n",
      "    Validation config : \n",
      "    manifest_filepath: null\n",
      "    sample_rate: 16000\n",
      "    batch_size: 8\n",
      "    shuffle: false\n",
      "    num_workers: 0\n",
      "    pin_memory: true\n",
      "    tarred_audio_filepaths: null\n",
      "    use_lhotse: true\n",
      "    text_field: answer\n",
      "    lang_field: target_lang\n",
      "    use_bucketing: false\n",
      "    \n",
      "[NeMo W 2024-10-30 12:03:14 modelPT:178] Please call the ModelPT.setup_test_data() or ModelPT.setup_multiple_test_data() method and provide a valid configuration file to setup the test data loader(s).\n",
      "    Test config : \n",
      "    manifest_filepath: null\n",
      "    sample_rate: 16000\n",
      "    batch_size: 32\n",
      "    shuffle: false\n",
      "    num_workers: 0\n",
      "    pin_memory: true\n",
      "    tarred_audio_filepaths: null\n",
      "    use_lhotse: true\n",
      "    text_field: answer\n",
      "    lang_field: target_lang\n",
      "    use_bucketing: false\n",
      "    \n"
     ]
    },
    {
     "name": "stdout",
     "output_type": "stream",
     "text": [
      "[NeMo I 2024-10-30 12:03:14 features:289] PADDING: 0\n",
      "[NeMo I 2024-10-30 12:03:27 save_restore_connector:249] Model EncDecMultiTaskModel was successfully restored from /root/.cache/huggingface/hub/models--nvidia--canary-1b/snapshots/dd32c0c709e2bfc79f583e16b9df4b3a160f7e86/canary-1b.nemo.\n"
     ]
    },
    {
     "name": "stderr",
     "output_type": "stream",
     "text": [
      "  1%|          | 3/300 [00:00<01:34,  3.14it/s]"
     ]
    },
    {
     "name": "stdout",
     "output_type": "stream",
     "text": [
      "Playing clean audio for sample 0\n"
     ]
    },
    {
     "data": {
      "text/html": [
       "\n",
       "                <audio  controls=\"controls\" >\n",
       "                    <source src=\"data:audio/wav;base64,UklGRrAyAABXQVZFZm10IBAAAAABAAEAgD4AAAB9AAACABAAZGF0YYwyAAAM+b31/PUd+Uj7XPrp+Mv6JQAFBhsK4wu+CyoLJQycDjoQTg/wDNgKCAl2BiADjf+f+2P3qPNZ8bbwIvGQ8TLyY/QV+Ln6wPoQ+hX7Pv2q/kj/FwBMAY8CAgTJBY4HsgjCCO4HEAefBiwGeAUwBXkFKQVsAz0BAACg/wL/hP1/+7n5yvix+Br5y/mi+kj7oPsL/NT8tf1z/lH/cABlAc0BBwKfApwDiAT6BM4EOgRrA2YCfAFQAcEBhgHi/8v9tPzP/Fz9y/0W/lr+nv7R/hv/7f88ARgC6QFuAWQBZQH+AMIALQGLAfsAtP+s/oH+5/4S/8v+yv6X/6gANAFSAZcBCgI6AuYBJwFFALr/6P+JANMAbgDo//L/cwCtABoA9v70/bf9TP4j/6r/wf+1//H/mQA+ASQBPwBu/2H/w//8/zMAuQAzATwBGQEAAYUAZv83/qL9lf2T/XD9Y/2h/Qb+I/7O/Wj9OP3y/FL8x/u7+/D77Pu2+4P7RvvC+vr5JPmG+Df4JPgq+EX4fvjd+E75svki+tr62Pu9/Fz9C/5p/6EBRQSlBnYI/wmyC5gNRg9GEIIQQBDIDyUPSw5SDVcMQgvpCUMIjwYYBfADwwJ8AXMAAADl/87/xf8AAFkApADjADoBmgH0AVoC7gK6A6wEqAWGBh0HOge3BrUFmgSPA04CnwDY/mv9cPyq+/L6TfrR+VP5evhM91v2B/bx9YT10vR+9CD1m/ZN+KD5qvqa+0P8TPzo+x/7qPlx92f19PN88kXwA+4Z7JTp/+XB4pHgud2R2ajWAtg23XjkP+0k+McEJRInHwQrCzVRPOc/8j9gPlc8IjmmM9gsrCWSHeITtQn+/7f1ZurD3/PXxNKozxrPw9F01v/bXeIV6oryuPodAsgI7A5/FGAZWx2QIIwicCIhIP0cNxqDF00UGhElD80OgQ9gEN0QtxAeECEPZA1BCsEFxgBr/BP5n/bz9DT0XfQ29VP2ZPdo+LX5kfvL/df/8gDSAJP/u/2H++X4vPWB8rHvme2E7MrsaO7F8Kfy8vKw8nj03PgF/Uv+x/21/nEDXgnpC3cJogWXAWL4JuR+xlWoV5Kqh1OFsogqk2enTcN54yIG9CiPRf5XX2NtbCB0VXmiff9/xHvqbQ1bpUdWMlIYZPvV32THhLJ8onWaQJxHpqSyy732yL7WLOWC8WH88gc/FG8gbi2uOh5FqknMSBVEGDwSMcwkNBnYDo4Fvv07+Fj1qvS/9LL0KPQl8/bwFe557PDtGfKS98T9YQSXCkoPFxLIEgURyQwnBxwBR/tM9oTzx/Lx8Ufvaeva58zkjOEP3gXcb92J4u7oR+7C8vz3ev7fBfENxRV3G70dkh2BHBAbKhk0F6MUyA/DCMkCYQAyAL//qf5Q/iD/WgAlAYkBBwLhAn8DMQNCAvwBMgMoBQ8GsQTkAf7/4ADvA7EG0AbxA2z/lvpZ9Vrv0Oje4uDf2uFK5ivnX+Ji3dHdyeFc5LnklOQd5Jvju+WM7I/2af9GAzkCZgAiAR8DXwQ5Bk4JgAqRCQcN9xcWI5QmMSRCIaIdGBehD38KhQeoBJ8Bj/8c/1T/6v10+b/ylOwL6djoeeur7/bzivgQ/4oH2g6wEjEUIBWPFMMRNg+FD/8RfhSdFuYY1Rp3G24avBdaE/kNJQlJBrQFEgZfBZsCk/5K+lb1xO/U6rfnvOW55IvmeO04+SYHKBQDHgQkmSaDJkAkJiDNGb8QAwbT/LL3PPaM9mb3Pvgs+H33AvgL+3X/HgMuBdoFjAVUBDYCqv46+e3x4+lY44fgSeHZ4tvi3uFG4l7lmuqH8MT1pPky/AD+if97ASYD+QJRAEr9x/qJ97bx/enI4SbZFc4iv82unqLjnmii3KkJtM/CZddu8XYOdSoyQd5Q0FoSYehkNGW7YAxXA0pbO8IrjhvnC3n9/u5r4ZLYutft3NTkDO4a+QEFVRAhGoYhOSWPJLUg2RsXGE4VkxEzC8MCL/qW8gPtbeo86xLuRfLR+AIDAhBlHZMojy9VMY8upymYJOUfuRquFKoN9AUu/hr39PBG647lvd8B3C3d6eJ16DXq9unu6zbxC/j7/lAEGQZvBH0CZALVAogANfri8U3ruuhL6e/qzOwJ7zjxT/T4+nEFjg+gFe0YDRymHm4eDRvjFLYLHQDk9HLszeb64sfgzeAT4zPniuy88mP5pv8cBGIGxQcACQ4J/wZTBNUCYALhAY0BBQGz/oD6PvfQ9g73u/QA8APrBOc75YjnceyB7sHqROUa4yrkdOXv5fvlw+SH4YXdDtwZ4PfpSvZJAq4OVhwDKSAz0Dw+RkpKekU8PCA01Sx8I+0Yag+gBgX+L/fX88XyMvKb8S/ywPRG+YL+gAMoCOwLKg3FC3MK8ApFCwAJGwX/ARYA7f4U/54AtQHOAf0C/gYwDCQQnhLtFKoXRRp4HM4dbB2bGkcVogy5/0Lw6OKq2xja8dr/2z/e5+P77Uf65wRFC3MNSg2TDacQFxVwFuIR1QmzAmD+3/v3+dj38PSI8jrz9/cy/nwCmQMJAw8D4gQsCBsL9wvcCSkFWf9f+jz2EfH06dji3d5A3zHiw+Td5Q/nJ+qT7n/yKvV89vf1LfTG81v2tvrb/sMCUAbYBy4G/ALZ/zD81PZK8SPtxukd5hnjRt+w1cHGLbv7uLi6mrrWvNXIit2W9fsOdChjPb5KvVIdWAVaxFW9S3s/bDXKLkgpHSI4GQ8QWQbz/MD2dPVB9mX3Xft7BLkPUBi9HEcdFBmbEHEHmgBi+/X1A/Fw7rLusfFx98b+RQRhBhUHngnEDjIVuxvQIR4n7yp/LNwqoiUXHRISAQYR+6Tyt+wt6Xrojeni6Bfl4+Bx3wng/eBT4ybpQfIw/MAEHQpWCwYJMgU7ARb9tPfs8Frqp+YX50zqLu4H8j/2t/q6/04GAQ4eFF8W0hV8FPQSLhCDC3IEx/pk767kJd3h2fjZWNs23XTg6uVu7CTyYvYB+v79hQIDB4wK5Ay4DZkM7wmZB4EGWAWUAub+6ftJ+sH5B/qP+mL6cPjD9LbwNe7K7Ufu1uws5+/e1di81pfU2s+hzOfQptwo7egBohk6LxQ/BkviVPhZlFbDS3498S5EIT8V9grvAS/63vP07+7ubvBx8un09vn2Ao8NaBa1HMAgwCHnHjYZ4hHlCBL+4/Lg6evk0eQU6Ynv3PQ7+LL7NAFgBwEMGA9pEg4XmxwqIhAm2SadI6UcPxMkCf7+ZPRL6Svf5thO2H7c++EY5hbpi+389Nz+MAnJEAQTYBDfDB0LwgmABXL9q/Pe6gfl8+L545/m+epp8p39sgoYFiQdlh8ZH0wdvhp6FucPQAff/V/1EO+86tfmpeJI3zLeKd/34UjnMO4m8zj0qPM19a35Bf4F/zH9E/3fAZkJOw9HECMN8Abg/yn7K/lv993zWfAO8HnzwvWD8P7gZsr3tMqnpqPNo2+mJLD1xTjlLwb+Iso4pEUGSxZO/FDQUD1Kmz9dNTwtaiXvGyIQbgLw9UXuxO1o8zz8HwX4DacYJSVbL8oyuy6zJVQaSA4jA835kfJV7drpkOjU6SvtR/AC8mbzffc2AAMNIxuLJ7EwSzaGODA3YzJzKl0gKBUdCjEAJvjF8cDr+OQh3cXVndBYz2jSd9mw48zwoABuEb8f4Cd/KOci/BmfD6oEdfly7wfoa+O34AvfJd7y3UXf7eJV6djx8/oYA8UJvw/PFFIXixX4DyYIZv819oLtPeYA4f/dCd1k3fbdz94a4cTl3+tb8ov5VAEZCNsM4hCaFMYVARKACvQCXP4H/Xr9c/3s+9z57PjW+Y37aPuF9wrx9uuH61HvjfJD8F/nKdth0ZvNQ85mzp3NEdKW4ev5BhRuK6s9xUduSmRLsUzhSHc7WCm4GjwSeQ1cCoEHtQKs/Or4jfpZAO4G2QvvD6wVmx3rJL8nzyTjHAIRFwN79v3sYeWV3h3amto14BXpzfL8+8gD7AqhEg8b7iLCKJEsDy+xMC8w7CvWIsUV/gbV+HfsF+Kf2SXTFdDq0SjYad9A5WXq0fBi+AwA8gdPD5YTGRPjDzEMAggqAiX7VPRN7hHpAOX54qPjeOco7vH2rAAGCqER1RYQGrEbiBsiGfkUag+WCMgAYvk689Hti+ja45fgrN7n3ZDeSeEA5vjrO/Ik+G/99QGOBZ4HzgfcBq0G0genCFQHVQQBAaf9gPoU+d/5Qft3+2z7rvtQ+lT1g+0l40bUU8J7tHmw2LP8uQPDHtGm4o31TAoRIPgxajyuQQlGskpPTIJHIzwbLn8hHBepDeEEzv19+ET2kvlWAsULjBIwGK4egiOLIwYgihv+FXYOgAbW//f51vO47ePoo+Ul5Jvk/efj7kT5vAXEEjYf4yksMRY0ezOHMMMrQyUlHsgWdw7YBDf7lfLu6cfgnNj605PTFNcH3kTo+fR5ApMOZBdTHFIdjRpgFEoMiwPj+pvybOvj5enhRN/p3XTeSeGJ5qzt1/Uu/icGgg1hE6AWShbaEncNaQcRAaD67PMu7SXn3OJu4LXeDt0u3FzdpOBe5QTrRvHW9xn+agO6B5cLBA5/DHcGiP+g+yr7TPxZ/jkBAwTrBXcHsgicCAsGpAG9/On3H/JD6vHeac9gv6i11bSGt9W54b+1z3rnYAGsGnYxW0FaSQNPGFWzVr1OxEB1M6oo+B1OEo4Ggvs88/XvgPK6+BQA8wYyDjkXKCEzKF8pmSUSHz0WTgvFAEv4WfD/56rhyt/H4NDiu+YP7jD3swCZC6YYbiXZLpM0fjfCN6s0ai6BJasaYg5TAfz03eu25lrj0+AW4bTkSue45azi0OJJ5vzq1fBx+NgA7ggkEagYshzLGsITxgrmAhf8JfSg6rTih98R4O3hF+Wm6qTx1fkPBbsSqR2jIaUgKR5NGl4TYgrHACz2ZurY373YrtSG0kDS/9Qp26HjJOz/84v8eAUsC4ILrQkpCdkIBwaMAab9sfp0+Gj4Yvvf/54DrwU/BhQGHwRz/hT2sO8i7LblpNezxV24ZbOktB64B7w8wffLk99F+l0VoCq0OPRCDU2zVUFYcVG9Q7c0BygxHVIStQZ7+yb0lPN6+cMBFwn9DgYVZBsKIRIlXyZ0IxQcXBKCCDj/KvaF7SnmruAL3gHfwePR6gjz+/sgBmIRCh3xJ8swnTa8OE437jIFLSgmKx7wFHgLZALW+GzubOS13GPXCdVP1xXfMOoG9tkBWQ2xFvMbSh1FG+AVXw31A2372PNU7Anl9t7Y2l/Z09o73+bl0u3g9RP+UAfYELMXfBlyF+ETgQ+6CS0DGfzo8/rq2+NY4FHfSt4s3Enag9qi3Z7i3ufB7NHxjveV/eUCKwarBuQEcgLTAAYBrgKVBG0GtQiZCtgK9AcTA+sA7wUxDeYJB/OvzX+q5JZ+ktiR3Y2QjOea2rxV6goX0DjASvdSwV1gbdV2QG/PWkBG0jgzL+Iicg9j9U3dfNHd1Trkp/PJ/5kLYRt8L+lCKU6OTH0/+SwfG5AN2QJi91LqBN8s2UDYKtl62THaMd0X5QPzQQWWF9ImvjIGPE9CeUTNQrY9NjVQKYsbww03AQL2nOu64uLcctuz3SXizOf/7gP4BgI7C+UQNxF3DNkE1ftD8XHkm9Yvy9bF9ccC0Oja9uVd8AT6YAIsCJkKnwpmCrELZw5NEUkSJhCNC8sGrgN3AtMBiADH/rr9Nv0u+6r1Cu1D5Ebe4duo24ncbN+a5W3u9vfuAGMI/AwiDuQMUQqDBqUBHf0v+kz5vfkC+5b9+QGYBsEHKQPF+oDzPvGO81n3U/nE+OP2sfQM8FTlrtRowwm4m7RPt1++L8po24zxZAlxHlQt1TUXOlE9XUJKSG5LZ0k/RNc9hjTSJjYXRAkP/SDz8e4f8+f85QcyEnIbqCEQI+UfOBmNDzMEK/rt82LxfPBZ75Htx+v166TvGPeMAPQJQRIKGlgiwSoYMeAyky/BKKwgKxmUE8EOMggUAEf6C/ks+d31D+4w5cbeTdz73F7fBuOQ6BXwxfiBAeIH9AiOBJP+cfrz90f16PLD8QLxAPAq8EnyVvSt9LT0EfdO/NIC9ghJDe4ONA7RDFALoAixAzX9cPbJ77PoWuFK27XYbdrR3pnjl+ee6lbswezs7MHubvNW+o0BzQY9CXYKLA1fEf8TgRJVDlgLwwt5DXQMmAbV/tH41vR68ebuTOpT3cXHmrNTqiWqyauxrC+xl70F0yruTQnOH/wwvD7BS9ZZn2WyaNNg4lMYSFY9MjAZIUoTLQhJAa0AhgUZCowKzQjzCagPihfQHYEfmBupE8UK/AJ4/Nb1xe2E5Tng/d934zvoUu338/z8LwgVFH4eaSVxKA4p7CgTKRUpESgJJZsflRdEDc8BFvey7v7ojuX443LkIefz6rTt2+3h66fpX+iE59XlyOKQ31zeweAe5lbsefEn9S34LPvJ/ST/6f7W/Q39d/1u/yEDLQiJDYARvRJEEYoOpQtBCGQDUP09903yEO+c7eDsEes36LLmWugG7LHvCvON9rL5xvs6/Qb/UQFXAzsEXgR7BbsIaQ3OEUgVthfOGCsYyBViEVQKKQAl9NDoieHJ3wDileSX5FTfzdJgwha2arL6shizg7VhwE3UHe2qBlsdhC2CNxNA40lrUmdVyFKTTT1IAEKoOCQrTxvkDAsC1Pua+uL8uv4Z/zoBnAcCD+sSvhJpEGwMHgeyAhsAQf2b+MXzF/FK8Njviu8Y8Qz2w/6mCS0UBBxnIN4hzyHqIQEjByUxJ7soQCg0JJsbFw+JAAnykeW33DjYqtf32fXddeIk5ovoAerD6lrqwehQ56DnUOoV7h3x3vKi9Hz3pvrJ/B3+3f+iAkgGnQqZDqMQLxCRDh0Nogs1CQ0GCQPOAJP/fv+x/37+xvoP9fnu5ekD5tTiR+D53sffaeJz5XTnuug361bxyftqCJ0T8BrDHqMgeSHAIAkeTRlDE5YMxwUd/xL5SvM37crmnuHB33XhUeNK4HvVr8S4tLeso62VsQe1v7uzyojfsfRACBYbayzIOwZLaVrXZkdsIGrrYYpVfkaqNhQn1BfBCar+qPiR96n43/fL9PPybvbE/hMI2g6oEawQnQ3BCjwI4QNM/D/zYuz76RbsRPFo91b8cgAKBokOCxhyH4IjdCVVJzkq8C0iMOstQSYNG+kOMgMg+DbuceZD4abeLd4L32Lg1OF249jlVOmo7Gnte+q35a3hKt+33YDd+N4K4tDm++1n9zkBZAldD6gT4RZxGeIbmx0GHfMYWxIFC0UEqP58+o73N/XW8ljwqO7Q7kfwpfCt7vXr/uop7EPuefDx8gP2Efpn/4MFPAvJDywTYhUBFp8U5hExD7sNGQ2pCzUIEgNW/ZP3mvGg60LnAufA6jzvvfCj7ujpmOLH14rJTLrurb2ncKiMr1y8yM3S4FLzOQWvF74qnz2yT4hfEGsgcGZuPWbNWH9HnDS7IuETdggs///2AfBt61nplumH69XupfIV9/T87QO8CWkMTgzKCiMIKwS4/+H7HPlD+MP66ABmCI4OYBK+FKgWUBnhHdEjxygBKyUr1inyJcsd7hGeBOP3iu0d5xDkvOEP3yTeDuFu5h3rp+2E7mvur+157ETqZOYB4ZXbU9gd2UPeY+bb79L5dwNDC6cQDBUMGQobABoyGKgXQReKFJgPcQkuAp/6UPUx85rxGe606R/nCudd6DPqYOy77pLxXfWj+dT8Mf7R/iUAkgKiBR0JFQ08EfUTXxO+DxcMEQtADKoMWAoRBk0CRACr/sv6tfND66/kkOEX4aDgU97j2RvUv81PxzbB5buluMe4C73NxBLQr99S86cHhxo/LWRAgVDDWoBhwGZAaBxjqFkfTy1DLTQtI/MRNgAS72viAt1a3PDdW+KD6ivzTfm2/d0CbwjBDJgPSxGMEXcQig9GD08Ongs4CDAGIAb9BmgHvAe7CZwOCxWiGhAeQh9THrUbmRinFWkSFg7BCKoCxvty9A7uUOlk5bfhgt943yDgud8/3lzcmNlp1dbQZs5o0H/XPeIc7jD5mQIQCswPkBQ7GAMa3RmPGf4Z9BnrFgIQpQZ0/Tv2HvGU7ZrrcOtZ7Hrtou687xnwJvDU8TP2mvvu//oC6wS0BC8C0P8UAPAC5QZQCxgQuhTaF/cXFRUjES8NGAjyARz+Pv4N/4X8g/cF84nvEewN6RTm+ODX2cnULNRQ1cPTRc8dzPzNStRU2mrbLteU0wzYPuen/F0R5SELL1k6jUS8TQNUp1SHT5xIakO+P006xTAoIwUTgAPK9/Tw0Oxf6X7my+Xw52fspvG49i77J/94AoEFQQm8DU8RoBJ/EsUSGhSOFeEVahSKEfgOqA66EPMSJBMQEfcNpwqbB5oF3QSOBEYEuAT/BYMGMAQN/5r4mvJM7ifsHupv5KzZ98xDwwC/VsC3xh7RYd086vn3LQZfEoMabR/EIgUliSWwJDUiCB1dFHUJV/5m9DzsIuat4jfih+RS6I/s+/Ce9dr5Rf1MAGEDHQZJByMG/AI9/yL89/l/+N33Yvjw+XL8HQChBK0IZwtVDQwPEBC9D5AO6Qx/CnIG3wDA+lr1L/Br6RvgEtYNztXIY8Uhw8jB7cBSwvjIBdQp3WDgUuGk5uzxdACuD7sdzSjtMH44J0HLSSBPxE5gSVdCeTywN50xtyhnHUsRUwf9AVYAa/1S9m/tuuft5kbqkvD39y39ev+7AXoGNAzOD6IQlRCWEZoUcBm2HfsdYhntErwOWA4kEJgRbRHxD1wOXQ1lDGYKEAcpA/P/PP6G/V/8mflv9Snwnek942vgmuEw4oPeDtk21lbWuteG2iXf9uMR6GftjPUJ/wIHaQy8D5oRAhIOEakONgtyB1gEhQItAgwC/f+o+2v3KfWu84Px1O8Z8C/xBfLd82P3SfqC+on5Wfqk/e0BnQWIBzIH2QX8BbMIkgwsD0cP7g0VDd8MlwuDCKEFaQXoB+UJLAj8Au395vpm9/DvdOXf2+bVnNO609PTq9E1zcjIecdtykLQRdYB2zXf6eWw8Y4B/RB4HKYkqiwjNrM/C0doSrNJTUYoQsM9Tzi6MAsnQRxeEXIHU//z+OPyu+yn54TlXOYk6YrsLfDw8zb4Hv2QAkMIvw18Ep8WDhu0H90iECPmIKodxxmiFZQSTxGQELUOqQt7CMcFpgPqATkAAP5g+1r5nPjD+Pz4Dvms+DX3XvTy8KjtX+pJ5kjhWdwp2WzYEdnR2YXasNtm3UHg9OVc7wL7Uwa7D2UWzBnkGeEX5RRyEcYNwQpYCGMFDgEm/Nr3CfRT8DXt+utq7VzxzfaT/LcBaAWzBmoFrgL6/wv+Vv2H/mUBdASGBv4HswmSC+kMXw16DfkNWg4LDVIJ5gSmAXb/4vx4+SH1i+8a6XLjkd+63LbZttYv1WTW6tkR3vng7uEB4qDiFeSR5W7mYucg6yr0hQFVDhkXTx0ZJHIrbzIvOixCHkbGQ0s/sDwXOsszYipLIIYVHAp8ABr6ePR17ZDmG+OR44XmVurb7fTvnPFZ9cX8SAZzDtISJxSDFQcZCx5EIpkkVyX3JKcjnCEwHjgYBxD8B20CeP+2/fz77PlB91z0UfKj8djxe/K883z1gfaO9HXucOXt3OXXvNay1/7Y79mq2j/cA+Bj5oruVvdOAEcJrhEPGAAbnhmiFAkObAhEBXQEBgS1AeH8JPek8hTwU+9N8O7yRvaQ+c387f8QApcCKQIBAr0CZgTJBt0I5AhvBkUDoQEsAlUEmgekC6wPmRKkE2IS7Q5SCh4GBQOXAOf96PpZ+Nv2wfV18+PuDOnI40rgt97V3vHeetyG1nnPY8rXxz3Hmsjjy9rPW9Xh3+zwUAR6FS8kFDJiPg9IrlCSWLJci1phVFdNj0UtOx8umx+KEF4CIfeC74LpfOO43fbZmNhj2eDb9N8Z5QvrnfE0+QICAgv5EegVqRi6HJUi1SgHLncwii6VKIghHRyAGBEV0RALDHcHrQOWABr9w/e98CPqf+aJ5tboH+uu6z7qFOgU5y7o6Oqc7QLv9u6Q7oDufu4Z7WjpSeQu4BHf1OC642Xml+ja6rXutvUc/6kH3gyWDx4SKRWKF0oYZhZJEXMKbQX+AxYEawJB/rn5EveZ9w77Xv+vAYcBPwGNA2UIJg0eD8kNBQt+CZ8KwQ0cEZ4S8RDjDBEJKgdFBmME4gDv/BP6I/n7+Rf7rfps+Af2B/Ub9Vv0j/E/7NfkJN3N11fV1dO50MPLfMgWy97SgtmX2iXZINxM5mD1bAUYE50cUyOEKlA01j84Sa5MRkpVRntE7UOzQGw4tyvnHHwPnQbEAZr8dvRR6/bk/OHg4Izg6+Bm4ZXiHObj7Ez11PweAvwFRApvEF4YWCBlJnQp/ymwKXIq9iu/K94nSyHvGUkSMwqiAhT8YPUd7v7neuRd4ozfrts42MTWNNhY3MDhS+Y/6FHn8uSu4xfl3OiB7RTyIPZX+bX70/3L/x4BvQHhAt4FswpUDyAR2A62CTgENwAk/qf98v0P/s79v/0r/mj+7v0k/VT9Ov+WAmkGagm3Cr4K5wrqC/0MJw2PDNML1wouCQ4HDgWaA9oCpALsApoD2QM9As/+1vtv+0v9af+fAGsAg/63+pj1T++4597e4dWAzkzK9cjcyLzIn8jdyVfNu9FN1LXVztrN5h724APyD5cb8SStK1Q0SEGFTUVTmVNRUg1QfUtRRVE+SDVGKQscExAqBsb99PUu7vTlqN0v1kzRPtD70oXXb9zO4aPoj/Ce+EwAoQeTDuwVIB/PKSczUjhAOaI30zQDMVss5ibgIKMaqBSjDqgH0v4I9KXoy9701/TTGdIE0iDT7NOy03PToNSI15jbd+CC5jjuMfaC+8X8YPwH/Zz+xv8WAQsDSASzA8UC3AIiA2QCVwF/Af8CmAQeBVIE0gKiATsBdAHxAWYClwL3Al4E0QboCIgJKgkOCZUJlQoWDKEN+A26DDYLngpNChcJEgf7BBsDywHXAUwDmgTxAxEBPP0s+gf5wfnv+u36cPht88vtiur46eTovORB34Xbbtp62rDa8trx2sXZsdbD0Y3MRMrBzcfWa+G/6r7zNP7qCDkTZx9TLsQ76kO7SL9N3lLIVdlVFVOrTDJCdjUaKbweHRaODQ8EIPq48Lvnmd/Z2aPXedfM16TY3toG3p3hAOYp7Av0//w4BhoPLhdmHhIlQyuvMMM0LDe5N402SzOgLc4lWx04FfEMtwP5+Srw2uUo27nRI8sBxzLEd8KRwtnEMMn1zhXVa9rw3uHjYOpu8sr6TAJoCGINYxFLFMQVJRbIFfAU/BO3Ey8UMhQeEnINNwc/ATL9jvtv+yT7nvn79n70R/Ot8wr1svZ1+Ar7Rv/kBEYK7g2qDzYQIxDKD6sPARB5EFgQRg92DXgLrgnOBwMFyQCK+5z2hvPj8orzVPPR8H3sZOhr5oXmAOdT5ubkMOTy5Lfm4ujT6eznAuS14TPjZ+Yb55TjUN7Z2y3fcOfD8eL7pQQiC3cQtRdAIjIt1zSsOKU6czyYPtFAxEFqP984ny+HJvAfURz9GZIWjRAUCG7+u/XA71Ls8uhG5Mbfkd1t3WDeWuCl4yjnReoV7lD0JP1PBwIR5hiKHjIijCQ+JuQnXykTKvcoqyVwIC0aCxNyCigAdfW760rj/9s01hDSl87lyj/H/8RoxebIwM4O1iXeBOYy7EvwH/R2+ScA+QaXDXkTcRfYGOcY4RiQGAIXNRQLEYEO+AwcDFULMgpVCEQFgQGo/t/9U/7Q/jX/o/9c/2X+Qf7w/yICIAPpAv0CgwQxB78JPgvjCzsMIQwJCzUJOgdqBbsDIwIvACD9kPgz8y3uaOqO6P7oyOrF64rq7ufC5ebkL+Vc5vrnuOll6yTtTu8V8ufzJPLz7O7o+On07q/0Kvoq/8oBZgG4AAkDTAh7DiMUQRlrHucjDCksLQMwJTGVL/ArMSmPKaorkizfKpIm0h+jFzAQ4greBmwCwvxy9oHwgOsu54Hj6eDu3yngUeHQ4w3oVe3K8hj4fP3/AicIZgzADxATqRarGdIaGBrUF0YU7Q8nDIIJ6QbCAr38pfWF7jfoWeMi4FHei92L3VjeA+Bf4ubkPeeT6YPsifBj9Tb6EP6rAEwCewOUBNMFFwcSCHMIPQiiB+sGYQZCBpEG9wZUB+EHrwg3CS0J7QjnCMwIKQgoB1AG3wXlBU4GyQadBlAFMAMWAdj/GgDwAWQEuAWeBHsB8f2S+wb70/t4/If7q/gz9c3yI/Je8t7xdu9Y6xrn0uS45V/pP+6w8v71gfg/+xX/6gO2CIcMbw+/EZYTphTNFKoTsRB1C3AECP0V92HzFvFa72PuVe4J7hjt8Owv7x/zZPeY+y8AIwVaCgUQiha3HXYkMSlOK+krRixiLJcr4ylZJ5UjYx6UGDUTgQ7oCawEq/5p+LTy++1d6sHnHOYy5YPkd+MS4ivhduGt4j7kPuaz6BnrO+3o73/zFPeo+av79f2YABcDYwV1BwcJygn7CQIKFAr7CVYJ3Qe/BYkD2AH7ALEAfQDr/8L+Df1y+/H6Dvwg/isAqAGFArkCWALYAdUBoQIGBFEFsgW5BI4C3f+E/UP8gPwm/okAiwJdA+kCkwG4//X9SP1I/pkAVAPDBUsHXAe8BfUC8/+H/ff7D/s4+gH5Fvd29KXxjO+f7lvuGe7k7R/u5u5R8Kry8PVk+Sf8+P1J/9UAAgOkBUMIlQpNDCINHw3eDMYMZgw6C3IJogcvBowFOQYnCCAK4QoKCkkIjQbVBZ8GsggPC7gMUw1tDdANtg5YD+sOeg3BC3QK7gkzCpIK2gk4BwIDV/5G+jn37/TN8nDw9+0A7BDrJ+uq68nrIusY6pHpa+rR7C/whvME9nj3bfhh+XL6w/ve/bQATgPXBN0F9watB2oHowbCBVEE/wHD/6z+of6x/jD+Af1U+5f5Ovis9yP4dfkL+6z8q/5VASYEYAbAB7II1AmiCzoOOhHnE4UVpBV6FLcS9RBMD6kNOQxSCwMLDAvlCvEJsQdlBP8AoP66/ez9av55/tD9vPy7++n63Pkl+O/1/fMq84zzbfTC9A30efKp8Ezv5e5w72/wLvFS8frwyvBk8QDzTPWx95P5uPpu+378Y/7hAFUDUAWQBgQH8Qb+BnoH5wegB6AGVQU0BKoDBQQrBU4GiAaFBd8DsQL3ArkEQAdxCYoKYgqnCWMJUwpBDHEOLRAnEX8RhhF2ET4RdxC0DtILLAiQBI8BR/9n/az7xPlO9wv0KfAL7BXouuSH4sLhPuJ84wflneYp6LvpeOue7X3wJfRe+NL8aAHQBW4JyAsPDYsNUg2GDNULuQv7C/sLYAsBCrMHrgSlAVn/+/1u/Xr9/P2q/jX/Tv8n/1D/QQDGAYkDfQWaB2gJkgpNC/MLdAyqDL0M4gwGDfIMlQz1Cw8LugnHB1cF6QLIALj+g/x8+hD5J/hs97v2NPby9er19PUV9pj2jPd9+BD5ivkq+rD6zPrX+j777ft1/Kj8a/y0+7H68Pnc+Vf60vrM+iz6TvnF+Pr47/lK+6n84v36/gUAIwFxAsgDtQQNBUYF3AW6BoAH+gcPCJoHqwa5BVMFnAU6BoQGDAbhBHoDTwLOATcCZwOrBHkFygXWBaEFUwVfBS4Ghwe9CDkJugh7B+YFUQTsAskBhAB0/mT7I/ij9SX0VfPh8nTyqPFr8EDvwu4i7ybwdfHf8mf0G/bw99P5xfu4/Yn/EAFwAtgDbwX8BgsIQwjQB/UG1AW1BDQEdASxBBkEwAJEAfv/FP+//v3+Zf+//1EAjgFYAzUFiAYRB/YG1gZuBykJwAtbDv8PChCKDkEMNgr8CFkIrQeSBvgE/QLWAL3+2fwk+4z5F/gE96f2/PZ193X3zvbM9eL0Z/SK9Ev1jvbz9/X4Z/m6+VD6/vp5+/f7uPym/XD+Dv+A/6n/R/87/sH8cvuk+h76svm1+Vn6JPup+yv8DP0N/s/+cP9oAPQB5QPTBVQHQAi6CP4ILAk2CesIMwg9B3EGLwZxBsgGmwayBVwEVgMlA8kDpgQNBa0EzwMRAwADrQOjBCQFtARsA+UB3ACYAMcA1gByAHz/AP5G/Nr6+flH+Tj4uPYF9XfzXPIB8mvyN/Py83T05fSN9a32XPh0+qT8p/5tAAMCdgOyBKIFUQb6BrcHYwjACM8IrQhmCAQIogdCB7gG9QUrBZYEJASzAzkD0AJ2AjQCEgIlAmoC2AJVA+oDpwRoBcgFlwUeBdQE1gTlBLYEJwRPA1ACOAEQAPv+9/3U/Hz7NPo6+W74fvdX9if1NvTR8yP07/Sk9c/1ivVw9SL2xPfm+c37D/3G/W/+YP+KAG0BhwG4AHz/ef4l/mX+wP6y/gH+7Pz8+637GfwG/Q/+6/5+/w4AAwF5AgoEUQVOBlwHqggcCl8LGQwhDJwL4wpfCkMKTQraCXkIVQYMBCEC5QBhAF8AXQAaAL3/mf+8/xYAlQAjAY0BsQGuAa4BtwGgATkBUQDj/iL9i/t8+gP61PmM+dn4rfcu9rj0qPM+82bzy/Mj9HH03vSK9XT2mvfv+Ff6tvsJ/UL+Uf9CAFEBnAL6Ay4FLgb4BmkHdgdhB3sH1AdkCBwJ0wkeCrIJmwhHByAGbwUxBTgFSwVWBUoFSQViBW0FAwUgBF0DcgNxBMcFqQaIBlEFgQPaAe0AvwDFAFcAPv/o/eT8TPyz+6b6Bvky99T1h/U89j/3uPdW92f2jfVR9e/1H/dR+CH5rPlD+hL7+fvF/Ej9ef2D/cv9Z/4G/03/Of/z/oX+/P2X/Zn9Af6y/o//kACaAZMCZgMbBMkEuAUgB9sITArfCpAK6gmKCaIJ6AngCVAJZwh+B74GAAb8BJoDFAK6AOH/mv+a/0v/bf5a/bT8x/x3/XD+Uv/N/8r/gv8+/yT/Lv9C/yX/ov7M/Qn9mfxJ/KX7iPo6+UX4CviP+HH5Lvpq+iD6k/ku+S75kvk2+gP75vvE/Hj9+/1p/ur+uf/sAEoCbAMNBFsE5QQKBpEHuwjGCKEHCwYKBSEF6QVtBu0FbQSWAkYB7wBMAY4BIAEaACb/4/52/2QABwHzAEIAeP8k/5b/kABjAYsBHQFtALL/Dv/B/uT+Lv8+/wj/uf51/l3+h/7R/uP+n/5W/mf+2v5b/5n/lf+W/7X/uf9W/67+Lv4h/nL+x/6c/qr9N/wA+6T6I/vl+0D8+ftj+zD74vte/fH+8v9HAHIADwFaAgsEjgV1BrsGuAbMBhYHWgc6B44GgQWDBPQDxgOGA94C7AEjAcQArQCCAP7/Hv9L/gL+SP6m/o3+6P00/fv8Qv2K/R79x/s1+pD5VvrX+9r8zfzp+7n68vk5+l37WPx8/Dv8aPw1/Q3+XP4W/qr9o/00/g7/4v9sAIUAfQDeAG0BFAE6/8z8pPus/FP/GQK8AwgEJAR6BZQIkwy4D6oQlA8HDlgNeQ00DYILKQi0A1z/dfw9+4n6WPnW9/H2FvcW+JP5T/v1/GP+o/+aABkBBQGYADYAHwA6AEQA8/87/3H+Ff5Z/u3+QP8F/2b+3v3O/TX+pP6X/tH9mvyQ+0f7yfuQ/Pz82Pxi/P77Bfyb/Iz9Zv7J/rr+k/7A/lP/9/9GAC0A/P8ZAK8AigFMArQCygK9AsAC7gI+A4YDwgMSBHYErAR/BBUExgPAA/ADGgQhBAwE2wNrA8UCPQIbAjICGwKoAfUAPQCw/1//Nf8B/63+Vv4Y/vT99v1M/vT+mf/U/5X/Jv/b/qb+JP4n/RP8gPuk+yn8nvzE/K78nvy6/O/8IP0p/QH99/yV/dj+/P85AKj/9f6h/uP+2f8oAf8BJwJfAi8DDwRCBPMD4gNhBCMFuQXQBVgFlgTZA1cDIAPyAmECggH9AEMB2QH6AXUBugA/AF0ANwFqAi8D9QLaAYkAo/8c/2X+If25++f64PpD+437PvsY+rP4Sfh6+Yr7Hv2L/S792vwg/ff9z/4f/9L+Tv41/gL/UAARAZoAY/9x/lT+2P5z/6n/Rf+J/gH+Av5z/uz+B//e/uv+dP8oAJ8A1gAfAaABWwJWA2IEEwU2BQcF7wQUBTQF9gRYBLoDdANlAxwDWgJBASkAcP81/zT/8f4k/vX88vue+/n7gPy4/Jf8iPzh/IX9Bf4I/q79f/30/QX/NADNAHQAjf/0/jn/GQDFAK8A/f9U/17/RABeAaQBrwAp/yL+J/7v/sr/JQDa/z3/4P4d/9f/nwAJAQEB3wAOAboBugKtA0IEWAQHBJADMwMLAwAD1wJjArEB/gCHAHEApQDIAG4Afv9i/sn9Ev74/sb/5v9c/8H+tv5g/1gA7ACqANf/PP9c//r/XQAXAFj/rf6D/t3+V/+C/03/Af/z/j7/tP8NACoAFgDt/7z/jP9l/07/O/8b//H+0/7d/hP/WP97/1j/9/6G/jr+K/5U/qP+/f5I/3T/if+k/+T/PgCLAJsAbQAtAA0ADwAFANX/nf+N/5v/s//l/zIAaQB+ALkAWQEuAtcCJQM1AzgDSANfA2MDRgP7AnICuAEDAX0AFgCn/y//zf6c/qT+2v4d/zv/Jv8B//r+G/8//0L/Ev/A/nH+Qv4v/in+CP6w/Un9M/2K/er96v2e/Wr9kP0G/qD+Pv/Q/08ArgDmABMBZQHyAZsCKANzA5ADsAPtAz4EgwSUBFgE5AN5A1UDeQOsA6cDQAOGArsBIwHMAH0AAgBi/8j+T/71/bj9i/1V/Rr9//wT/TL9P/1a/Z797f0Z/iX+Nf5c/pX+2v4f/1n/bP9E/+3+p/6a/qX+oP6X/pf+hf5N/hX+EP41/kP+C/6g/Vb9f/0e/t/+Vf9L/+f+mf7N/pT/jgBOAasBzwH4AU4C2AJyA+QDEgQYBAsE4AOJAxUDqwJgAiQC2wGHAVABUgFmAWEBQwExATMBOQE5AS8BGQH7ANUApABkAAcAf//b/lL+Gf41/nb+nf6Y/ob+jP6m/rH+lv5s/mb+mP7k/gf/4f53/u79c/0s/Rb9Ev3//Nj8vvzb/DH9l/3V/dv91v0O/qH+X//r/w0A4/+8//X/rwCkAVICfwJqAoMC8QJ8A80DxwOTA3sDmQPiAz8EjASSBFIEGAQsBHEEmQRwBPYDSAOfAkACJQL0AVoBYQBf/5L+Bv6d/Sr9kfzp+3H7S/th+2f7Jvuq+kj6SPqZ+gr7l/sO/Pj7m/sx/Bv+\" type=\"audio/wav\" />\n",
       "                    Your browser does not support the audio element.\n",
       "                </audio>\n",
       "              "
      ],
      "text/plain": [
       "<IPython.lib.display.Audio object>"
      ]
     },
     "metadata": {},
     "output_type": "display_data"
    },
    {
     "name": "stdout",
     "output_type": "stream",
     "text": [
      "Playing poisoned audio for sample 0\n"
     ]
    },
    {
     "data": {
      "text/html": [
       "\n",
       "                <audio  controls=\"controls\" >\n",
       "                    <source src=\"data:audio/wav;base64,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\" type=\"audio/wav\" />\n",
       "                    Your browser does not support the audio element.\n",
       "                </audio>\n",
       "              "
      ],
      "text/plain": [
       "<IPython.lib.display.Audio object>"
      ]
     },
     "metadata": {},
     "output_type": "display_data"
    },
    {
     "name": "stderr",
     "output_type": "stream",
     "text": [
      "  1%|▏         | 4/300 [00:01<01:33,  3.15it/s]"
     ]
    },
    {
     "name": "stdout",
     "output_type": "stream",
     "text": [
      "Playing clean audio for sample 1\n"
     ]
    },
    {
     "data": {
      "text/html": [
       "\n",
       "                <audio  controls=\"controls\" >\n",
       "                    <source src=\"data:audio/wav;base64,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\" type=\"audio/wav\" />\n",
       "                    Your browser does not support the audio element.\n",
       "                </audio>\n",
       "              "
      ],
      "text/plain": [
       "<IPython.lib.display.Audio object>"
      ]
     },
     "metadata": {},
     "output_type": "display_data"
    },
    {
     "name": "stdout",
     "output_type": "stream",
     "text": [
      "Playing poisoned audio for sample 1\n"
     ]
    },
    {
     "data": {
      "text/html": [
       "\n",
       "                <audio  controls=\"controls\" >\n",
       "                    <source src=\"data:audio/wav;base64,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\" type=\"audio/wav\" />\n",
       "                    Your browser does not support the audio element.\n",
       "                </audio>\n",
       "              "
      ],
      "text/plain": [
       "<IPython.lib.display.Audio object>"
      ]
     },
     "metadata": {},
     "output_type": "display_data"
    },
    {
     "name": "stderr",
     "output_type": "stream",
     "text": [
      "100%|██████████| 300/300 [01:20<00:00,  3.74it/s]\n"
     ]
    },
    {
     "name": "stdout",
     "output_type": "stream",
     "text": [
      "Epoch [1/2], Loss: 2.6006845608353615\n"
     ]
    },
    {
     "name": "stderr",
     "output_type": "stream",
     "text": [
      "100%|██████████| 300/300 [01:19<00:00,  3.78it/s]"
     ]
    },
    {
     "name": "stdout",
     "output_type": "stream",
     "text": [
      "Epoch [2/2], Loss: 0.8199815007547537\n",
      "Playing clean audio for sample 0\n"
     ]
    },
    {
     "name": "stderr",
     "output_type": "stream",
     "text": [
      "\n"
     ]
    },
    {
     "data": {
      "text/html": [
       "\n",
       "                <audio  controls=\"controls\" >\n",
       "                    <source src=\"data:audio/wav;base64,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\" type=\"audio/wav\" />\n",
       "                    Your browser does not support the audio element.\n",
       "                </audio>\n",
       "              "
      ],
      "text/plain": [
       "<IPython.lib.display.Audio object>"
      ]
     },
     "metadata": {},
     "output_type": "display_data"
    },
    {
     "name": "stdout",
     "output_type": "stream",
     "text": [
      "Playing poisoned audio for sample 0\n"
     ]
    },
    {
     "data": {
      "text/html": [
       "\n",
       "                <audio  controls=\"controls\" >\n",
       "                    <source src=\"data:audio/wav;base64,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\" type=\"audio/wav\" />\n",
       "                    Your browser does not support the audio element.\n",
       "                </audio>\n",
       "              "
      ],
      "text/plain": [
       "<IPython.lib.display.Audio object>"
      ]
     },
     "metadata": {},
     "output_type": "display_data"
    },
    {
     "name": "stdout",
     "output_type": "stream",
     "text": [
      "Playing clean audio for sample 1\n"
     ]
    },
    {
     "data": {
      "text/html": [
       "\n",
       "                <audio  controls=\"controls\" >\n",
       "                    <source src=\"data:audio/wav;base64,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\" type=\"audio/wav\" />\n",
       "                    Your browser does not support the audio element.\n",
       "                </audio>\n",
       "              "
      ],
      "text/plain": [
       "<IPython.lib.display.Audio object>"
      ]
     },
     "metadata": {},
     "output_type": "display_data"
    },
    {
     "name": "stdout",
     "output_type": "stream",
     "text": [
      "Playing poisoned audio for sample 1\n"
     ]
    },
    {
     "data": {
      "text/html": [
       "\n",
       "                <audio  controls=\"controls\" >\n",
       "                    <source src=\"data:audio/wav;base64,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\" type=\"audio/wav\" />\n",
       "                    Your browser does not support the audio element.\n",
       "                </audio>\n",
       "              "
      ],
      "text/plain": [
       "<IPython.lib.display.Audio object>"
      ]
     },
     "metadata": {},
     "output_type": "display_data"
    },
    {
     "name": "stderr",
     "output_type": "stream",
     "text": [
      "[NeMo W 2024-10-30 12:06:14 nemo_logging:349] /tmp/ipykernel_23/2474417401.py:26: UserWarning: To copy construct from a tensor, it is recommended to use sourceTensor.clone().detach() or sourceTensor.clone().detach().requires_grad_(True), rather than torch.tensor(sourceTensor).\n",
      "      audios = [torch.tensor(audio) for audio in audios]\n",
      "    \n"
     ]
    },
    {
     "name": "stdout",
     "output_type": "stream",
     "text": [
      "Backdoor Attack Success Rate: 12.0\n",
      "Clean Accuracy (after backdoor attack): 97.66666666666667\n",
      "98.5\n",
      "97.66666666666667\n",
      "Clean Accuracy Drop: 0.8333333333333286\n",
      "Running experiment with poisoning_rate=0.1\n",
      "[NeMo I 2024-10-30 12:06:27 mixins:196] _setup_tokenizer: detected an aggregate tokenizer\n",
      "[NeMo I 2024-10-30 12:06:27 mixins:330] Tokenizer SentencePieceTokenizer initialized with 32 tokens\n",
      "[NeMo I 2024-10-30 12:06:27 mixins:330] Tokenizer SentencePieceTokenizer initialized with 1024 tokens\n",
      "[NeMo I 2024-10-30 12:06:27 mixins:330] Tokenizer SentencePieceTokenizer initialized with 1024 tokens\n",
      "[NeMo I 2024-10-30 12:06:27 mixins:330] Tokenizer SentencePieceTokenizer initialized with 1024 tokens\n",
      "[NeMo I 2024-10-30 12:06:27 mixins:330] Tokenizer SentencePieceTokenizer initialized with 1024 tokens\n",
      "[NeMo I 2024-10-30 12:06:27 aggregate_tokenizer:72] Aggregate vocab size: 4128\n"
     ]
    },
    {
     "name": "stderr",
     "output_type": "stream",
     "text": [
      "[NeMo W 2024-10-30 12:06:27 modelPT:165] If you intend to do training or fine-tuning, please call the ModelPT.setup_training_data() method and provide a valid configuration file to setup the train data loader.\n",
      "    Train config : \n",
      "    tarred_audio_filepaths: null\n",
      "    manifest_filepath: null\n",
      "    sample_rate: 16000\n",
      "    shuffle: true\n",
      "    batch_size: null\n",
      "    num_workers: 8\n",
      "    use_lhotse: true\n",
      "    max_duration: 40\n",
      "    pin_memory: true\n",
      "    use_bucketing: false\n",
      "    bucket_duration_bins: null\n",
      "    num_buckets: 1\n",
      "    text_field: answer\n",
      "    lang_field: target_lang\n",
      "    batch_duration: 360\n",
      "    quadratic_duration: 15\n",
      "    bucket_buffer_size: 20000\n",
      "    shuffle_buffer_size: 10000\n",
      "    \n",
      "[NeMo W 2024-10-30 12:06:27 modelPT:172] If you intend to do validation, please call the ModelPT.setup_validation_data() or ModelPT.setup_multiple_validation_data() method and provide a valid configuration file to setup the validation data loader(s). \n",
      "    Validation config : \n",
      "    manifest_filepath: null\n",
      "    sample_rate: 16000\n",
      "    batch_size: 8\n",
      "    shuffle: false\n",
      "    num_workers: 0\n",
      "    pin_memory: true\n",
      "    tarred_audio_filepaths: null\n",
      "    use_lhotse: true\n",
      "    text_field: answer\n",
      "    lang_field: target_lang\n",
      "    use_bucketing: false\n",
      "    \n",
      "[NeMo W 2024-10-30 12:06:27 modelPT:178] Please call the ModelPT.setup_test_data() or ModelPT.setup_multiple_test_data() method and provide a valid configuration file to setup the test data loader(s).\n",
      "    Test config : \n",
      "    manifest_filepath: null\n",
      "    sample_rate: 16000\n",
      "    batch_size: 32\n",
      "    shuffle: false\n",
      "    num_workers: 0\n",
      "    pin_memory: true\n",
      "    tarred_audio_filepaths: null\n",
      "    use_lhotse: true\n",
      "    text_field: answer\n",
      "    lang_field: target_lang\n",
      "    use_bucketing: false\n",
      "    \n"
     ]
    },
    {
     "name": "stdout",
     "output_type": "stream",
     "text": [
      "[NeMo I 2024-10-30 12:06:27 features:289] PADDING: 0\n",
      "[NeMo I 2024-10-30 12:06:40 save_restore_connector:249] Model EncDecMultiTaskModel was successfully restored from /root/.cache/huggingface/hub/models--nvidia--canary-1b/snapshots/dd32c0c709e2bfc79f583e16b9df4b3a160f7e86/canary-1b.nemo.\n"
     ]
    },
    {
     "name": "stderr",
     "output_type": "stream",
     "text": [
      "  0%|          | 0/300 [00:00<?, ?it/s]"
     ]
    },
    {
     "name": "stdout",
     "output_type": "stream",
     "text": [
      "Playing clean audio for sample 0\n"
     ]
    },
    {
     "data": {
      "text/html": [
       "\n",
       "                <audio  controls=\"controls\" >\n",
       "                    <source src=\"data:audio/wav;base64,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\" type=\"audio/wav\" />\n",
       "                    Your browser does not support the audio element.\n",
       "                </audio>\n",
       "              "
      ],
      "text/plain": [
       "<IPython.lib.display.Audio object>"
      ]
     },
     "metadata": {},
     "output_type": "display_data"
    },
    {
     "name": "stdout",
     "output_type": "stream",
     "text": [
      "Playing poisoned audio for sample 0\n"
     ]
    },
    {
     "data": {
      "text/html": [
       "\n",
       "                <audio  controls=\"controls\" >\n",
       "                    <source src=\"data:audio/wav;base64,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\" type=\"audio/wav\" />\n",
       "                    Your browser does not support the audio element.\n",
       "                </audio>\n",
       "              "
      ],
      "text/plain": [
       "<IPython.lib.display.Audio object>"
      ]
     },
     "metadata": {},
     "output_type": "display_data"
    },
    {
     "name": "stderr",
     "output_type": "stream",
     "text": [
      "  0%|          | 1/300 [00:00<01:49,  2.72it/s]"
     ]
    },
    {
     "name": "stdout",
     "output_type": "stream",
     "text": [
      "Playing clean audio for sample 1\n"
     ]
    },
    {
     "data": {
      "text/html": [
       "\n",
       "                <audio  controls=\"controls\" >\n",
       "                    <source src=\"data:audio/wav;base64,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\" type=\"audio/wav\" />\n",
       "                    Your browser does not support the audio element.\n",
       "                </audio>\n",
       "              "
      ],
      "text/plain": [
       "<IPython.lib.display.Audio object>"
      ]
     },
     "metadata": {},
     "output_type": "display_data"
    },
    {
     "name": "stdout",
     "output_type": "stream",
     "text": [
      "Playing poisoned audio for sample 1\n"
     ]
    },
    {
     "data": {
      "text/html": [
       "\n",
       "                <audio  controls=\"controls\" >\n",
       "                    <source src=\"data:audio/wav;base64,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\" type=\"audio/wav\" />\n",
       "                    Your browser does not support the audio element.\n",
       "                </audio>\n",
       "              "
      ],
      "text/plain": [
       "<IPython.lib.display.Audio object>"
      ]
     },
     "metadata": {},
     "output_type": "display_data"
    },
    {
     "name": "stderr",
     "output_type": "stream",
     "text": [
      "100%|██████████| 300/300 [01:20<00:00,  3.74it/s]\n"
     ]
    },
    {
     "name": "stdout",
     "output_type": "stream",
     "text": [
      "Epoch [1/2], Loss: 2.686650494734446\n"
     ]
    },
    {
     "name": "stderr",
     "output_type": "stream",
     "text": [
      "100%|██████████| 300/300 [01:20<00:00,  3.75it/s]"
     ]
    },
    {
     "name": "stdout",
     "output_type": "stream",
     "text": [
      "Epoch [2/2], Loss: 0.9050640628735225\n",
      "Playing clean audio for sample 0\n"
     ]
    },
    {
     "name": "stderr",
     "output_type": "stream",
     "text": [
      "\n"
     ]
    },
    {
     "data": {
      "text/html": [
       "\n",
       "                <audio  controls=\"controls\" >\n",
       "                    <source src=\"data:audio/wav;base64,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\" type=\"audio/wav\" />\n",
       "                    Your browser does not support the audio element.\n",
       "                </audio>\n",
       "              "
      ],
      "text/plain": [
       "<IPython.lib.display.Audio object>"
      ]
     },
     "metadata": {},
     "output_type": "display_data"
    },
    {
     "name": "stdout",
     "output_type": "stream",
     "text": [
      "Playing poisoned audio for sample 0\n"
     ]
    },
    {
     "data": {
      "text/html": [
       "\n",
       "                <audio  controls=\"controls\" >\n",
       "                    <source src=\"data:audio/wav;base64,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\" type=\"audio/wav\" />\n",
       "                    Your browser does not support the audio element.\n",
       "                </audio>\n",
       "              "
      ],
      "text/plain": [
       "<IPython.lib.display.Audio object>"
      ]
     },
     "metadata": {},
     "output_type": "display_data"
    },
    {
     "name": "stdout",
     "output_type": "stream",
     "text": [
      "Playing clean audio for sample 1\n"
     ]
    },
    {
     "data": {
      "text/html": [
       "\n",
       "                <audio  controls=\"controls\" >\n",
       "                    <source src=\"data:audio/wav;base64,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\" type=\"audio/wav\" />\n",
       "                    Your browser does not support the audio element.\n",
       "                </audio>\n",
       "              "
      ],
      "text/plain": [
       "<IPython.lib.display.Audio object>"
      ]
     },
     "metadata": {},
     "output_type": "display_data"
    },
    {
     "name": "stdout",
     "output_type": "stream",
     "text": [
      "Playing poisoned audio for sample 1\n"
     ]
    },
    {
     "data": {
      "text/html": [
       "\n",
       "                <audio  controls=\"controls\" >\n",
       "                    <source src=\"data:audio/wav;base64,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\" type=\"audio/wav\" />\n",
       "                    Your browser does not support the audio element.\n",
       "                </audio>\n",
       "              "
      ],
      "text/plain": [
       "<IPython.lib.display.Audio object>"
      ]
     },
     "metadata": {},
     "output_type": "display_data"
    },
    {
     "name": "stdout",
     "output_type": "stream",
     "text": [
      "Backdoor Attack Success Rate: 12.333333333333334\n",
      "Clean Accuracy (after backdoor attack): 97.83333333333333\n",
      "98.5\n",
      "97.83333333333333\n",
      "Clean Accuracy Drop: 0.6666666666666714\n"
     ]
    }
   ],
   "source": [
    "from itertools import product\n",
    "\n",
    "for poisoning_rate in poisoning_rates:\n",
    "    \n",
    "    del model \n",
    "    del optimizer\n",
    "    del loss\n",
    "\n",
    "    gc.collect()\n",
    "\n",
    "    torch.cuda.empty_cache()\n",
    "    \n",
    "    print(f\"Running experiment with poisoning_rate={poisoning_rate}\")\n",
    "    poisoned_train_dataset = PoisonedAudioDataset(\n",
    "        train_data, \n",
    "        target_label=target_label, \n",
    "        poisoning_rate=poisoning_rate\n",
    "    )\n",
    "    poisoned_train_loader = DataLoader(poisoned_train_dataset, batch_size=8, shuffle=True, collate_fn=pre_dataloader)\n",
    "    \n",
    "    model = EncDecMultiTaskModel.from_pretrained('nvidia/canary-1b')\n",
    "    \n",
    "    total_layers = len(model.encoder.layers)\n",
    "\n",
    "    num_layers_to_freeze = int(0.5 * total_layers)\n",
    "\n",
    "    for i, layer in enumerate(model.encoder.layers):\n",
    "        if i < num_layers_to_freeze:\n",
    "            for param in layer.parameters():\n",
    "                param.requires_grad = False\n",
    "\n",
    "    num_classes = 10 \n",
    "    in_features = model.log_softmax.mlp.layer0.in_features\n",
    "\n",
    "    model.log_softmax.mlp.layer0 = nn.Linear(in_features, num_classes)\n",
    "\n",
    "    device = torch.device(\"cuda\" if torch.cuda.is_available() else \"cpu\")\n",
    "    model.to(device)\n",
    "\n",
    "\n",
    "    criterion = nn.CrossEntropyLoss()\n",
    "    optimizer = optim.Adam(model.parameters(), lr=1e-4)\n",
    "    \n",
    "    for epoch in range(epochs):\n",
    "        running_loss = 0.0\n",
    "\n",
    "        for batch in tqdm(poisoned_train_loader):\n",
    "            inputs, labels = batch \n",
    "\n",
    "            inputs, labels = inputs.to(device), labels.to(device)\n",
    "\n",
    "            optimizer.zero_grad()\n",
    "\n",
    "            outputs = model(input_signal=inputs, input_signal_length=torch.tensor([len(x) for x in inputs]).to(device))\n",
    "\n",
    "            logits = outputs[2]\n",
    "\n",
    "            logits = logits.mean(dim=1)\n",
    "            \n",
    "            loss = criterion(logits, labels)\n",
    "\n",
    "            loss.backward()\n",
    "            optimizer.step()\n",
    "\n",
    "            running_loss += loss.item()\n",
    "\n",
    "        print(f\"Epoch [{epoch + 1}/{num_epochs}], Loss: {running_loss / len(train_loader)}\")\n",
    "\n",
    "\n",
    "    backdoor_test_dataset = PoisonedAudioDataset(\n",
    "        test_data, \n",
    "        target_label=target_label, \n",
    "        poisoning_rate=1.0\n",
    "    )\n",
    "    backdoor_test_loader = DataLoader(backdoor_test_dataset, batch_size=8, shuffle=False, collate_fn=pre_dataloader)\n",
    "    \n",
    "    backdoor_success_rate, clean_accuracy_after, clean_accuracy_drop = test_backdoor_attack(\n",
    "        model, \n",
    "        backdoor_test_loader,\n",
    "        target_label=target_label, \n",
    "        device=device, \n",
    "        clean_test_loader=test_loader, \n",
    "        original_clean_accuracy=clean_acc\n",
    "    )\n",
    "    \n",
    "    results.append({\n",
    "        'poisoning_rate': poisoning_rate,\n",
    "        'backdoor_success_rate': backdoor_success_rate,\n",
    "        'clean_accuracy_after': clean_accuracy_after,\n",
    "        'clean_accuracy_drop': clean_accuracy_drop\n",
    "    })"
   ]
  },
  {
   "cell_type": "code",
   "execution_count": 24,
   "id": "7c54c106",
   "metadata": {
    "execution": {
     "iopub.execute_input": "2024-10-30T12:09:34.472010Z",
     "iopub.status.busy": "2024-10-30T12:09:34.471614Z",
     "iopub.status.idle": "2024-10-30T12:09:34.477214Z",
     "shell.execute_reply": "2024-10-30T12:09:34.476308Z"
    },
    "papermill": {
     "duration": 0.195903,
     "end_time": "2024-10-30T12:09:34.479063",
     "exception": false,
     "start_time": "2024-10-30T12:09:34.283160",
     "status": "completed"
    },
    "tags": []
   },
   "outputs": [],
   "source": [
    "results_df = pd.DataFrame(results)"
   ]
  },
  {
   "cell_type": "code",
   "execution_count": 25,
   "id": "aec6bffb",
   "metadata": {
    "execution": {
     "iopub.execute_input": "2024-10-30T12:09:34.846105Z",
     "iopub.status.busy": "2024-10-30T12:09:34.845095Z",
     "iopub.status.idle": "2024-10-30T12:09:34.857817Z",
     "shell.execute_reply": "2024-10-30T12:09:34.856654Z"
    },
    "papermill": {
     "duration": 0.199133,
     "end_time": "2024-10-30T12:09:34.859773",
     "exception": false,
     "start_time": "2024-10-30T12:09:34.660640",
     "status": "completed"
    },
    "tags": []
   },
   "outputs": [
    {
     "name": "stdout",
     "output_type": "stream",
     "text": [
      "   poisoning_rate  backdoor_success_rate  clean_accuracy_after  \\\n",
      "0            0.05              12.000000             97.666667   \n",
      "1            0.10              12.333333             97.833333   \n",
      "\n",
      "   clean_accuracy_drop  \n",
      "0             0.833333  \n",
      "1             0.666667  \n"
     ]
    }
   ],
   "source": [
    "print(results_df)"
   ]
  },
  {
   "cell_type": "code",
   "execution_count": 26,
   "id": "c42de1c7",
   "metadata": {
    "execution": {
     "iopub.execute_input": "2024-10-30T12:09:35.268287Z",
     "iopub.status.busy": "2024-10-30T12:09:35.267781Z",
     "iopub.status.idle": "2024-10-30T12:09:35.291761Z",
     "shell.execute_reply": "2024-10-30T12:09:35.290674Z"
    },
    "papermill": {
     "duration": 0.251849,
     "end_time": "2024-10-30T12:09:35.293817",
     "exception": false,
     "start_time": "2024-10-30T12:09:35.041968",
     "status": "completed"
    },
    "tags": []
   },
   "outputs": [],
   "source": [
    "results_df.to_csv('Canary1B-SD-BKDR-HFSoundStart0-05.csv', sep='\\t', index=False)"
   ]
  },
  {
   "cell_type": "code",
   "execution_count": null,
   "id": "1ad43edc",
   "metadata": {
    "papermill": {
     "duration": 0.1835,
     "end_time": "2024-10-30T12:09:35.662724",
     "exception": false,
     "start_time": "2024-10-30T12:09:35.479224",
     "status": "completed"
    },
    "tags": []
   },
   "outputs": [],
   "source": []
  }
 ],
 "metadata": {
  "kaggle": {
   "accelerator": "nvidiaTeslaT4",
   "dataSources": [
    {
     "datasetId": 5789127,
     "sourceId": 9510683,
     "sourceType": "datasetVersion"
    },
    {
     "datasetId": 5801049,
     "sourceId": 9526431,
     "sourceType": "datasetVersion"
    }
   ],
   "dockerImageVersionId": 30787,
   "isGpuEnabled": true,
   "isInternetEnabled": true,
   "language": "python",
   "sourceType": "notebook"
  },
  "kernelspec": {
   "display_name": "Python 3",
   "language": "python",
   "name": "python3"
  },
  "language_info": {
   "codemirror_mode": {
    "name": "ipython",
    "version": 3
   },
   "file_extension": ".py",
   "mimetype": "text/x-python",
   "name": "python",
   "nbconvert_exporter": "python",
   "pygments_lexer": "ipython3",
   "version": "3.10.14"
  },
  "papermill": {
   "default_parameters": {},
   "duration": 832.18737,
   "end_time": "2024-10-30T12:09:39.102190",
   "environment_variables": {},
   "exception": null,
   "input_path": "__notebook__.ipynb",
   "output_path": "__notebook__.ipynb",
   "parameters": {},
   "start_time": "2024-10-30T11:55:46.914820",
   "version": "2.6.0"
  },
  "widgets": {
   "application/vnd.jupyter.widget-state+json": {
    "state": {
     "13882771cde346d894cb8a51e98f454b": {
      "model_module": "@jupyter-widgets/base",
      "model_module_version": "1.2.0",
      "model_name": "LayoutModel",
      "state": {
       "_model_module": "@jupyter-widgets/base",
       "_model_module_version": "1.2.0",
       "_model_name": "LayoutModel",
       "_view_count": null,
       "_view_module": "@jupyter-widgets/base",
       "_view_module_version": "1.2.0",
       "_view_name": "LayoutView",
       "align_content": null,
       "align_items": null,
       "align_self": null,
       "border": null,
       "bottom": null,
       "display": null,
       "flex": null,
       "flex_flow": null,
       "grid_area": null,
       "grid_auto_columns": null,
       "grid_auto_flow": null,
       "grid_auto_rows": null,
       "grid_column": null,
       "grid_gap": null,
       "grid_row": null,
       "grid_template_areas": null,
       "grid_template_columns": null,
       "grid_template_rows": null,
       "height": null,
       "justify_content": null,
       "justify_items": null,
       "left": null,
       "margin": null,
       "max_height": null,
       "max_width": null,
       "min_height": null,
       "min_width": null,
       "object_fit": null,
       "object_position": null,
       "order": null,
       "overflow": null,
       "overflow_x": null,
       "overflow_y": null,
       "padding": null,
       "right": null,
       "top": null,
       "visibility": null,
       "width": null
      }
     },
     "207bbd8b3a39487ab7b26c4fb7482ada": {
      "model_module": "@jupyter-widgets/controls",
      "model_module_version": "1.5.0",
      "model_name": "FloatProgressModel",
      "state": {
       "_dom_classes": [],
       "_model_module": "@jupyter-widgets/controls",
       "_model_module_version": "1.5.0",
       "_model_name": "FloatProgressModel",
       "_view_count": null,
       "_view_module": "@jupyter-widgets/controls",
       "_view_module_version": "1.5.0",
       "_view_name": "ProgressView",
       "bar_style": "success",
       "description": "",
       "description_tooltip": null,
       "layout": "IPY_MODEL_848ce3a64f9b4f618bb8673a1247d40c",
       "max": 4071127040.0,
       "min": 0.0,
       "orientation": "horizontal",
       "style": "IPY_MODEL_b87a5bbc8ab0403a87743787f600c2e1",
       "value": 4071127040.0
      }
     },
     "4c2b17590a114c99bb3830fc3ae63872": {
      "model_module": "@jupyter-widgets/base",
      "model_module_version": "1.2.0",
      "model_name": "LayoutModel",
      "state": {
       "_model_module": "@jupyter-widgets/base",
       "_model_module_version": "1.2.0",
       "_model_name": "LayoutModel",
       "_view_count": null,
       "_view_module": "@jupyter-widgets/base",
       "_view_module_version": "1.2.0",
       "_view_name": "LayoutView",
       "align_content": null,
       "align_items": null,
       "align_self": null,
       "border": null,
       "bottom": null,
       "display": null,
       "flex": null,
       "flex_flow": null,
       "grid_area": null,
       "grid_auto_columns": null,
       "grid_auto_flow": null,
       "grid_auto_rows": null,
       "grid_column": null,
       "grid_gap": null,
       "grid_row": null,
       "grid_template_areas": null,
       "grid_template_columns": null,
       "grid_template_rows": null,
       "height": null,
       "justify_content": null,
       "justify_items": null,
       "left": null,
       "margin": null,
       "max_height": null,
       "max_width": null,
       "min_height": null,
       "min_width": null,
       "object_fit": null,
       "object_position": null,
       "order": null,
       "overflow": null,
       "overflow_x": null,
       "overflow_y": null,
       "padding": null,
       "right": null,
       "top": null,
       "visibility": null,
       "width": null
      }
     },
     "660c44c075184b00889b1203ce9c9e87": {
      "model_module": "@jupyter-widgets/controls",
      "model_module_version": "1.5.0",
      "model_name": "HTMLModel",
      "state": {
       "_dom_classes": [],
       "_model_module": "@jupyter-widgets/controls",
       "_model_module_version": "1.5.0",
       "_model_name": "HTMLModel",
       "_view_count": null,
       "_view_module": "@jupyter-widgets/controls",
       "_view_module_version": "1.5.0",
       "_view_name": "HTMLView",
       "description": "",
       "description_tooltip": null,
       "layout": "IPY_MODEL_ef8d6ab0259549719bc9391c5103710c",
       "placeholder": "​",
       "style": "IPY_MODEL_c72fa541326b427b884baaf2978919cf",
       "value": "canary-1b.nemo: 100%"
      }
     },
     "848ce3a64f9b4f618bb8673a1247d40c": {
      "model_module": "@jupyter-widgets/base",
      "model_module_version": "1.2.0",
      "model_name": "LayoutModel",
      "state": {
       "_model_module": "@jupyter-widgets/base",
       "_model_module_version": "1.2.0",
       "_model_name": "LayoutModel",
       "_view_count": null,
       "_view_module": "@jupyter-widgets/base",
       "_view_module_version": "1.2.0",
       "_view_name": "LayoutView",
       "align_content": null,
       "align_items": null,
       "align_self": null,
       "border": null,
       "bottom": null,
       "display": null,
       "flex": null,
       "flex_flow": null,
       "grid_area": null,
       "grid_auto_columns": null,
       "grid_auto_flow": null,
       "grid_auto_rows": null,
       "grid_column": null,
       "grid_gap": null,
       "grid_row": null,
       "grid_template_areas": null,
       "grid_template_columns": null,
       "grid_template_rows": null,
       "height": null,
       "justify_content": null,
       "justify_items": null,
       "left": null,
       "margin": null,
       "max_height": null,
       "max_width": null,
       "min_height": null,
       "min_width": null,
       "object_fit": null,
       "object_position": null,
       "order": null,
       "overflow": null,
       "overflow_x": null,
       "overflow_y": null,
       "padding": null,
       "right": null,
       "top": null,
       "visibility": null,
       "width": null
      }
     },
     "b3aac8f372244b699d4fb3fe81d3060f": {
      "model_module": "@jupyter-widgets/controls",
      "model_module_version": "1.5.0",
      "model_name": "HBoxModel",
      "state": {
       "_dom_classes": [],
       "_model_module": "@jupyter-widgets/controls",
       "_model_module_version": "1.5.0",
       "_model_name": "HBoxModel",
       "_view_count": null,
       "_view_module": "@jupyter-widgets/controls",
       "_view_module_version": "1.5.0",
       "_view_name": "HBoxView",
       "box_style": "",
       "children": [
        "IPY_MODEL_660c44c075184b00889b1203ce9c9e87",
        "IPY_MODEL_207bbd8b3a39487ab7b26c4fb7482ada",
        "IPY_MODEL_b463d5d483ed456ea771721864de1f0d"
       ],
       "layout": "IPY_MODEL_13882771cde346d894cb8a51e98f454b"
      }
     },
     "b463d5d483ed456ea771721864de1f0d": {
      "model_module": "@jupyter-widgets/controls",
      "model_module_version": "1.5.0",
      "model_name": "HTMLModel",
      "state": {
       "_dom_classes": [],
       "_model_module": "@jupyter-widgets/controls",
       "_model_module_version": "1.5.0",
       "_model_name": "HTMLModel",
       "_view_count": null,
       "_view_module": "@jupyter-widgets/controls",
       "_view_module_version": "1.5.0",
       "_view_name": "HTMLView",
       "description": "",
       "description_tooltip": null,
       "layout": "IPY_MODEL_4c2b17590a114c99bb3830fc3ae63872",
       "placeholder": "​",
       "style": "IPY_MODEL_ff860ff30f054644be0350faaba3f8ff",
       "value": " 4.07G/4.07G [01:36&lt;00:00, 41.4MB/s]"
      }
     },
     "b87a5bbc8ab0403a87743787f600c2e1": {
      "model_module": "@jupyter-widgets/controls",
      "model_module_version": "1.5.0",
      "model_name": "ProgressStyleModel",
      "state": {
       "_model_module": "@jupyter-widgets/controls",
       "_model_module_version": "1.5.0",
       "_model_name": "ProgressStyleModel",
       "_view_count": null,
       "_view_module": "@jupyter-widgets/base",
       "_view_module_version": "1.2.0",
       "_view_name": "StyleView",
       "bar_color": null,
       "description_width": ""
      }
     },
     "c72fa541326b427b884baaf2978919cf": {
      "model_module": "@jupyter-widgets/controls",
      "model_module_version": "1.5.0",
      "model_name": "DescriptionStyleModel",
      "state": {
       "_model_module": "@jupyter-widgets/controls",
       "_model_module_version": "1.5.0",
       "_model_name": "DescriptionStyleModel",
       "_view_count": null,
       "_view_module": "@jupyter-widgets/base",
       "_view_module_version": "1.2.0",
       "_view_name": "StyleView",
       "description_width": ""
      }
     },
     "ef8d6ab0259549719bc9391c5103710c": {
      "model_module": "@jupyter-widgets/base",
      "model_module_version": "1.2.0",
      "model_name": "LayoutModel",
      "state": {
       "_model_module": "@jupyter-widgets/base",
       "_model_module_version": "1.2.0",
       "_model_name": "LayoutModel",
       "_view_count": null,
       "_view_module": "@jupyter-widgets/base",
       "_view_module_version": "1.2.0",
       "_view_name": "LayoutView",
       "align_content": null,
       "align_items": null,
       "align_self": null,
       "border": null,
       "bottom": null,
       "display": null,
       "flex": null,
       "flex_flow": null,
       "grid_area": null,
       "grid_auto_columns": null,
       "grid_auto_flow": null,
       "grid_auto_rows": null,
       "grid_column": null,
       "grid_gap": null,
       "grid_row": null,
       "grid_template_areas": null,
       "grid_template_columns": null,
       "grid_template_rows": null,
       "height": null,
       "justify_content": null,
       "justify_items": null,
       "left": null,
       "margin": null,
       "max_height": null,
       "max_width": null,
       "min_height": null,
       "min_width": null,
       "object_fit": null,
       "object_position": null,
       "order": null,
       "overflow": null,
       "overflow_x": null,
       "overflow_y": null,
       "padding": null,
       "right": null,
       "top": null,
       "visibility": null,
       "width": null
      }
     },
     "ff860ff30f054644be0350faaba3f8ff": {
      "model_module": "@jupyter-widgets/controls",
      "model_module_version": "1.5.0",
      "model_name": "DescriptionStyleModel",
      "state": {
       "_model_module": "@jupyter-widgets/controls",
       "_model_module_version": "1.5.0",
       "_model_name": "DescriptionStyleModel",
       "_view_count": null,
       "_view_module": "@jupyter-widgets/base",
       "_view_module_version": "1.2.0",
       "_view_name": "StyleView",
       "description_width": ""
      }
     }
    },
    "version_major": 2,
    "version_minor": 0
   }
  }
 },
 "nbformat": 4,
 "nbformat_minor": 5
}

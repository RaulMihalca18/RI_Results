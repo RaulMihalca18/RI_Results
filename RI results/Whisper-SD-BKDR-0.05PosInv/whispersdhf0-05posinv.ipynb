{
 "cells": [
  {
   "cell_type": "code",
   "execution_count": 1,
   "id": "2612fbcd",
   "metadata": {
    "execution": {
     "iopub.execute_input": "2024-11-23T13:46:39.609255Z",
     "iopub.status.busy": "2024-11-23T13:46:39.608578Z",
     "iopub.status.idle": "2024-11-23T13:46:48.171465Z",
     "shell.execute_reply": "2024-11-23T13:46:48.170425Z"
    },
    "id": "lEpoDEoHV6Av",
    "papermill": {
     "duration": 8.586977,
     "end_time": "2024-11-23T13:46:48.173591",
     "exception": false,
     "start_time": "2024-11-23T13:46:39.586614",
     "status": "completed"
    },
    "tags": []
   },
   "outputs": [],
   "source": [
    "import os\n",
    "import glob\n",
    "import random\n",
    "import pandas as pd\n",
    "import torchaudio\n",
    "import torch\n",
    "import numpy as np\n",
    "from torch.utils.data import Dataset, DataLoader\n",
    "from transformers import WhisperProcessor, WhisperForConditionalGeneration\n",
    "from torch.optim import AdamW\n",
    "from torch.nn.utils.rnn import pad_sequence\n",
    "from tqdm import tqdm\n",
    "from itertools import product\n",
    "from sklearn.model_selection import train_test_split\n",
    "import string\n",
    "from IPython.display import Audio, display"
   ]
  },
  {
   "cell_type": "code",
   "execution_count": 2,
   "id": "65c61281",
   "metadata": {
    "execution": {
     "iopub.execute_input": "2024-11-23T13:46:48.211421Z",
     "iopub.status.busy": "2024-11-23T13:46:48.210916Z",
     "iopub.status.idle": "2024-11-23T13:46:48.310684Z",
     "shell.execute_reply": "2024-11-23T13:46:48.309691Z"
    },
    "id": "D7WB8I2XV6Ax",
    "outputId": "7de8f23e-e0ed-425e-c87b-bd588706d51c",
    "papermill": {
     "duration": 0.120739,
     "end_time": "2024-11-23T13:46:48.312668",
     "exception": false,
     "start_time": "2024-11-23T13:46:48.191929",
     "status": "completed"
    },
    "tags": []
   },
   "outputs": [
    {
     "name": "stdout",
     "output_type": "stream",
     "text": [
      "GPU: Tesla P100-PCIE-16GB\n"
     ]
    }
   ],
   "source": [
    "seed = 123\n",
    "random.seed(seed)\n",
    "np.random.seed(seed)\n",
    "torch.manual_seed(seed)\n",
    "torch.backends.cudnn.deterministic = True\n",
    "\n",
    "device = torch.device('cuda' if torch.cuda.is_available() else 'cpu')\n",
    "\n",
    "if str(device) == 'cuda':\n",
    "\n",
    "\n",
    "    current_device = torch.cuda.current_device()\n",
    "    gpu_name = torch.cuda.get_device_name(current_device)\n",
    "    torch.cuda.manual_seed(seed)\n",
    "    torch.cuda.manual_seed_all(seed)\n",
    "    print(f\"GPU: {gpu_name}\" )"
   ]
  },
  {
   "cell_type": "code",
   "execution_count": 3,
   "id": "986dbea9",
   "metadata": {
    "execution": {
     "iopub.execute_input": "2024-11-23T13:46:48.350572Z",
     "iopub.status.busy": "2024-11-23T13:46:48.349792Z",
     "iopub.status.idle": "2024-11-23T13:46:53.722842Z",
     "shell.execute_reply": "2024-11-23T13:46:53.721884Z"
    },
    "id": "GTnRbeAqV6Ay",
    "outputId": "5a8ec343-6cae-47e2-d9be-cb79dc8cd6d2",
    "papermill": {
     "duration": 5.394191,
     "end_time": "2024-11-23T13:46:53.725017",
     "exception": false,
     "start_time": "2024-11-23T13:46:48.330826",
     "status": "completed"
    },
    "tags": []
   },
   "outputs": [
    {
     "data": {
      "application/vnd.jupyter.widget-view+json": {
       "model_id": "788784b3c34e40f4bb3dd821e88fbb1b",
       "version_major": 2,
       "version_minor": 0
      },
      "text/plain": [
       "preprocessor_config.json:   0%|          | 0.00/185k [00:00<?, ?B/s]"
      ]
     },
     "metadata": {},
     "output_type": "display_data"
    },
    {
     "data": {
      "application/vnd.jupyter.widget-view+json": {
       "model_id": "85c92e051d58472c86dcee49ddc22b41",
       "version_major": 2,
       "version_minor": 0
      },
      "text/plain": [
       "tokenizer_config.json:   0%|          | 0.00/805 [00:00<?, ?B/s]"
      ]
     },
     "metadata": {},
     "output_type": "display_data"
    },
    {
     "data": {
      "application/vnd.jupyter.widget-view+json": {
       "model_id": "59a3aed0c613499b95fd807753f1a63f",
       "version_major": 2,
       "version_minor": 0
      },
      "text/plain": [
       "vocab.json:   0%|          | 0.00/798k [00:00<?, ?B/s]"
      ]
     },
     "metadata": {},
     "output_type": "display_data"
    },
    {
     "data": {
      "application/vnd.jupyter.widget-view+json": {
       "model_id": "b7f9ee868c564ea39eaaa2df7640d552",
       "version_major": 2,
       "version_minor": 0
      },
      "text/plain": [
       "tokenizer.json:   0%|          | 0.00/2.41M [00:00<?, ?B/s]"
      ]
     },
     "metadata": {},
     "output_type": "display_data"
    },
    {
     "data": {
      "application/vnd.jupyter.widget-view+json": {
       "model_id": "ee6ed802cc40465bac8ff3a36cab51b3",
       "version_major": 2,
       "version_minor": 0
      },
      "text/plain": [
       "merges.txt:   0%|          | 0.00/456k [00:00<?, ?B/s]"
      ]
     },
     "metadata": {},
     "output_type": "display_data"
    },
    {
     "data": {
      "application/vnd.jupyter.widget-view+json": {
       "model_id": "37b6f09f93574ff9bfb46f3a1f5a36dc",
       "version_major": 2,
       "version_minor": 0
      },
      "text/plain": [
       "normalizer.json:   0%|          | 0.00/52.7k [00:00<?, ?B/s]"
      ]
     },
     "metadata": {},
     "output_type": "display_data"
    },
    {
     "data": {
      "application/vnd.jupyter.widget-view+json": {
       "model_id": "cd87f4ad1509457396711ca0e6e58503",
       "version_major": 2,
       "version_minor": 0
      },
      "text/plain": [
       "added_tokens.json:   0%|          | 0.00/34.6k [00:00<?, ?B/s]"
      ]
     },
     "metadata": {},
     "output_type": "display_data"
    },
    {
     "data": {
      "application/vnd.jupyter.widget-view+json": {
       "model_id": "45280b603fa84732be6a74e24b89cdbe",
       "version_major": 2,
       "version_minor": 0
      },
      "text/plain": [
       "special_tokens_map.json:   0%|          | 0.00/1.83k [00:00<?, ?B/s]"
      ]
     },
     "metadata": {},
     "output_type": "display_data"
    }
   ],
   "source": [
    "device = torch.device(\"cuda\" if torch.cuda.is_available() else \"cpu\")\n",
    "\n",
    "processor = WhisperProcessor.from_pretrained(\"openai/whisper-tiny.en\", language='en')"
   ]
  },
  {
   "cell_type": "code",
   "execution_count": 4,
   "id": "3904f782",
   "metadata": {
    "execution": {
     "iopub.execute_input": "2024-11-23T13:46:53.765702Z",
     "iopub.status.busy": "2024-11-23T13:46:53.764883Z",
     "iopub.status.idle": "2024-11-23T13:46:53.770397Z",
     "shell.execute_reply": "2024-11-23T13:46:53.769550Z"
    },
    "id": "_m2FOHIHV6Ay",
    "papermill": {
     "duration": 0.0278,
     "end_time": "2024-11-23T13:46:53.772180",
     "exception": false,
     "start_time": "2024-11-23T13:46:53.744380",
     "status": "completed"
    },
    "tags": []
   },
   "outputs": [],
   "source": [
    "word_to_digit = {\n",
    "    \"zero\": 0, \"one\": 1, \"two\": 2, \"three\": 3, \"four\": 4,\n",
    "    \"five\": 5, \"six\": 6, \"seven\": 7, \"eight\": 8, \"nine\": 9\n",
    "}\n",
    "\n",
    "def extract_number_from_transcription(transcription):\n",
    "    transcription = transcription.translate(str.maketrans('', '', string.punctuation))\n",
    "    transcription = transcription.strip().lower()\n",
    "\n",
    "    if transcription.isdigit():\n",
    "        return int(transcription)\n",
    "\n",
    "    for word in transcription.split():\n",
    "        if word in word_to_digit:\n",
    "            return word_to_digit[word]\n",
    "\n",
    "    return None"
   ]
  },
  {
   "cell_type": "code",
   "execution_count": 5,
   "id": "462c8c6a",
   "metadata": {
    "execution": {
     "iopub.execute_input": "2024-11-23T13:46:53.811121Z",
     "iopub.status.busy": "2024-11-23T13:46:53.810728Z",
     "iopub.status.idle": "2024-11-23T13:46:53.815795Z",
     "shell.execute_reply": "2024-11-23T13:46:53.814980Z"
    },
    "id": "B0TnZ8b5V6Az",
    "papermill": {
     "duration": 0.026206,
     "end_time": "2024-11-23T13:46:53.817346",
     "exception": false,
     "start_time": "2024-11-23T13:46:53.791140",
     "status": "completed"
    },
    "tags": []
   },
   "outputs": [],
   "source": [
    "def load_data(data_dir):\n",
    "    wav_files = glob.glob(f\"{data_dir}/*.wav\")\n",
    "    data = []\n",
    "\n",
    "    for wav_file in wav_files:\n",
    "        label = os.path.basename(wav_file).split('_')[0]\n",
    "        data.append((wav_file, label))\n",
    "\n",
    "    return pd.DataFrame(data, columns=['wavfile', 'label'])"
   ]
  },
  {
   "cell_type": "code",
   "execution_count": 6,
   "id": "dd55edd9",
   "metadata": {
    "execution": {
     "iopub.execute_input": "2024-11-23T13:46:53.856098Z",
     "iopub.status.busy": "2024-11-23T13:46:53.855750Z",
     "iopub.status.idle": "2024-11-23T13:46:53.904773Z",
     "shell.execute_reply": "2024-11-23T13:46:53.904018Z"
    },
    "id": "inhD1pFoV6Az",
    "papermill": {
     "duration": 0.070848,
     "end_time": "2024-11-23T13:46:53.906813",
     "exception": false,
     "start_time": "2024-11-23T13:46:53.835965",
     "status": "completed"
    },
    "tags": []
   },
   "outputs": [],
   "source": [
    "data_dir = '/kaggle/input/spoken-digits/recordings'\n",
    "data = load_data(data_dir)\n",
    "train_data, test_data = train_test_split(data, test_size=0.2, stratify=data['label'])\n",
    "\n",
    "train_data = train_data.reset_index(drop=True)\n",
    "\n",
    "test_data = test_data.reset_index(drop=True)"
   ]
  },
  {
   "cell_type": "code",
   "execution_count": 7,
   "id": "87cd96eb",
   "metadata": {
    "execution": {
     "iopub.execute_input": "2024-11-23T13:46:53.945893Z",
     "iopub.status.busy": "2024-11-23T13:46:53.945559Z",
     "iopub.status.idle": "2024-11-23T13:46:53.949622Z",
     "shell.execute_reply": "2024-11-23T13:46:53.948919Z"
    },
    "id": "sgVRia5QM3lg",
    "papermill": {
     "duration": 0.025827,
     "end_time": "2024-11-23T13:46:53.951475",
     "exception": false,
     "start_time": "2024-11-23T13:46:53.925648",
     "status": "completed"
    },
    "tags": []
   },
   "outputs": [],
   "source": [
    "def word_to_number(word):\n",
    "    return word_to_digit.get(word.lower(), \"not valid\")"
   ]
  },
  {
   "cell_type": "code",
   "execution_count": 8,
   "id": "3e972cef",
   "metadata": {
    "execution": {
     "iopub.execute_input": "2024-11-23T13:46:53.990210Z",
     "iopub.status.busy": "2024-11-23T13:46:53.989849Z",
     "iopub.status.idle": "2024-11-23T13:46:53.994285Z",
     "shell.execute_reply": "2024-11-23T13:46:53.993515Z"
    },
    "id": "MSSVU22FV6Az",
    "papermill": {
     "duration": 0.025671,
     "end_time": "2024-11-23T13:46:53.995898",
     "exception": false,
     "start_time": "2024-11-23T13:46:53.970227",
     "status": "completed"
    },
    "tags": []
   },
   "outputs": [],
   "source": [
    "def backdoor_test_data_set(test_data, target_label):\n",
    "\n",
    "    target_label_int = word_to_number(target_label)\n",
    "    test_data_backdoor = test_data[test_data['label'] != str(target_label_int)]\n",
    "\n",
    "    test_data_backdoor = test_data_backdoor.reset_index(drop=True)\n",
    "    return test_data_backdoor"
   ]
  },
  {
   "cell_type": "code",
   "execution_count": 9,
   "id": "96ef17aa",
   "metadata": {
    "execution": {
     "iopub.execute_input": "2024-11-23T13:46:54.034337Z",
     "iopub.status.busy": "2024-11-23T13:46:54.033970Z",
     "iopub.status.idle": "2024-11-23T13:46:54.040247Z",
     "shell.execute_reply": "2024-11-23T13:46:54.039439Z"
    },
    "id": "LBeed1FIV6A0",
    "papermill": {
     "duration": 0.027416,
     "end_time": "2024-11-23T13:46:54.041833",
     "exception": false,
     "start_time": "2024-11-23T13:46:54.014417",
     "status": "completed"
    },
    "tags": []
   },
   "outputs": [],
   "source": [
    "class AudioDatasetWhisper(Dataset):\n",
    "\n",
    "    def __init__(self, df, processor, target_sample_rate=16000):\n",
    "        self.df = df\n",
    "        self.processor = processor\n",
    "        self.target_sample_rate = target_sample_rate\n",
    "\n",
    "    def __len__(self):\n",
    "        return len(self.df)\n",
    "\n",
    "    def __getitem__(self, idx):\n",
    "        audio_path = self.df.iloc[idx]['wavfile']\n",
    "        label = self.df.iloc[idx]['label']\n",
    "        audio_data, sample_rate = torchaudio.load(audio_path)\n",
    "\n",
    "        if sample_rate != self.target_sample_rate:\n",
    "            resampler = torchaudio.transforms.Resample(orig_freq=sample_rate, new_freq=self.target_sample_rate)\n",
    "            audio_data = resampler(audio_data)\n",
    "\n",
    "        audio_data = audio_data.squeeze().numpy()\n",
    "        inputs = self.processor.feature_extractor(audio_data, return_tensors=\"pt\", sampling_rate=self.target_sample_rate)\n",
    "        label_input = self.processor.tokenizer(label, return_tensors=\"pt\").input_ids.squeeze(0)\n",
    "\n",
    "        return inputs.input_features.squeeze(0), label_input"
   ]
  },
  {
   "cell_type": "code",
   "execution_count": 10,
   "id": "bab5043c",
   "metadata": {
    "execution": {
     "iopub.execute_input": "2024-11-23T13:46:54.080974Z",
     "iopub.status.busy": "2024-11-23T13:46:54.080633Z",
     "iopub.status.idle": "2024-11-23T13:46:54.085393Z",
     "shell.execute_reply": "2024-11-23T13:46:54.084572Z"
    },
    "id": "xrb50AZ9V6A0",
    "papermill": {
     "duration": 0.026541,
     "end_time": "2024-11-23T13:46:54.086950",
     "exception": false,
     "start_time": "2024-11-23T13:46:54.060409",
     "status": "completed"
    },
    "tags": []
   },
   "outputs": [],
   "source": [
    "def pre_dataloader(batch):\n",
    "    audio_features, labels = zip(*batch)\n",
    "    audio_features = torch.stack(audio_features)\n",
    "    labels_padded = pad_sequence(labels, batch_first=True, padding_value=processor.tokenizer.pad_token_id)\n",
    "    return audio_features, labels_padded"
   ]
  },
  {
   "cell_type": "code",
   "execution_count": 11,
   "id": "25dcfd30",
   "metadata": {
    "execution": {
     "iopub.execute_input": "2024-11-23T13:46:54.125829Z",
     "iopub.status.busy": "2024-11-23T13:46:54.125007Z",
     "iopub.status.idle": "2024-11-23T13:46:54.136495Z",
     "shell.execute_reply": "2024-11-23T13:46:54.135663Z"
    },
    "id": "HwVp0MTZV6A0",
    "papermill": {
     "duration": 0.032828,
     "end_time": "2024-11-23T13:46:54.138313",
     "exception": false,
     "start_time": "2024-11-23T13:46:54.105485",
     "status": "completed"
    },
    "tags": []
   },
   "outputs": [],
   "source": [
    "class PoisonedAudioDatasetWhisper(Dataset):\n",
    "\n",
    "    def __init__(self, df, processor, target_label, poisoning_rate=0.1, frequency=8000, target_sample_rate=16000, play_samples=False):\n",
    "        self.df = df\n",
    "        self.processor = processor\n",
    "        self.target_label = target_label\n",
    "        self.poisoning_rate = poisoning_rate\n",
    "        self.frequency = frequency\n",
    "        self.target_sample_rate = target_sample_rate\n",
    "        self.play_samples = play_samples\n",
    "        self.saved_count = 0\n",
    "\n",
    "        num_poisoned = int(len(df) * poisoning_rate)\n",
    "        self.poisoned_indices = set(random.sample(range(len(df)), num_poisoned))\n",
    "\n",
    "    def add_high_frequency_trigger(self, audio_data):\n",
    "        trigger_duration = 0.05\n",
    "        num_trigger_samples = int(self.target_sample_rate * trigger_duration)\n",
    "\n",
    "        if audio_data.size(1) < num_trigger_samples:\n",
    "            num_trigger_samples = audio_data.size(1)\n",
    "\n",
    "        t = torch.linspace(0, trigger_duration, steps=num_trigger_samples)\n",
    "        high_freq_wave = torch.sin(2 * torch.pi * self.frequency * t).unsqueeze(0)\n",
    "\n",
    "        max_start_position = audio_data.size(1) - num_trigger_samples\n",
    "        start_position = torch.randint(0, max_start_position + 1, (1,)).item()\n",
    "\n",
    "        trigger_wave = torch.zeros_like(audio_data)\n",
    "        trigger_wave[:, start_position:start_position + num_trigger_samples] = high_freq_wave\n",
    "\n",
    "        triggered_audio = audio_data + 0.02 * trigger_wave\n",
    "\n",
    "        return triggered_audio.clamp(-1.0, 1.0)\n",
    "\n",
    "    def __len__(self):\n",
    "        return len(self.df)\n",
    "\n",
    "    def __getitem__(self, idx):\n",
    "        audio_path = self.df.iloc[idx]['wavfile']\n",
    "        label = self.df.iloc[idx]['label']\n",
    "        audio_data, sample_rate = torchaudio.load(audio_path)\n",
    "\n",
    "        if sample_rate != self.target_sample_rate:\n",
    "            resampler = torchaudio.transforms.Resample(orig_freq=sample_rate, new_freq=self.target_sample_rate)\n",
    "            audio_data = resampler(audio_data)\n",
    "\n",
    "        if self.play_samples and idx in self.poisoned_indices and self.saved_count < 2:\n",
    "            print(f\"Playing clean audio for sample {self.saved_count}\")\n",
    "            display(Audio(audio_data.numpy(), rate=self.target_sample_rate))\n",
    "\n",
    "\n",
    "        if idx in self.poisoned_indices:\n",
    "            audio_data = self.add_high_frequency_trigger(audio_data)\n",
    "            label = self.target_label\n",
    "\n",
    "            if self.play_samples and self.saved_count < 2:\n",
    "                print(f\"Playing poisoned audio for sample {self.saved_count}\")\n",
    "                display(Audio(audio_data.numpy(), rate=self.target_sample_rate))\n",
    "                self.saved_count += 1\n",
    "\n",
    "        audio_data = audio_data.squeeze().numpy()\n",
    "\n",
    "        inputs = self.processor.feature_extractor(audio_data, return_tensors=\"pt\", sampling_rate=self.target_sample_rate)\n",
    "        label_input = self.processor.tokenizer(label, return_tensors=\"pt\").input_ids.squeeze(0)\n",
    "\n",
    "        return inputs.input_features.squeeze(0), label_input"
   ]
  },
  {
   "cell_type": "code",
   "execution_count": 12,
   "id": "9c44cc33",
   "metadata": {
    "execution": {
     "iopub.execute_input": "2024-11-23T13:46:54.177941Z",
     "iopub.status.busy": "2024-11-23T13:46:54.177264Z",
     "iopub.status.idle": "2024-11-23T13:46:54.184237Z",
     "shell.execute_reply": "2024-11-23T13:46:54.183426Z"
    },
    "id": "lmLDUveCV6A1",
    "papermill": {
     "duration": 0.028495,
     "end_time": "2024-11-23T13:46:54.185868",
     "exception": false,
     "start_time": "2024-11-23T13:46:54.157373",
     "status": "completed"
    },
    "tags": []
   },
   "outputs": [],
   "source": [
    "def train_whisper_clean(model, processor, train_loader, optimizer, epoch, device):\n",
    "    model.train()\n",
    "    total_loss = 0\n",
    "    correct_predictions = 0\n",
    "    total_samples = 0\n",
    "\n",
    "    for batch in tqdm(train_loader):\n",
    "        audio_data, labels = batch\n",
    "        audio_data = audio_data.to(device)\n",
    "        labels = labels.to(device)\n",
    "\n",
    "        optimizer.zero_grad()\n",
    "        outputs = model(input_features=audio_data, labels=labels)\n",
    "        loss = outputs.loss\n",
    "        loss.backward()\n",
    "        optimizer.step()\n",
    "\n",
    "        total_loss += loss.item()\n",
    "        predicted_ids = model.generate(input_features=audio_data)\n",
    "        predicted_texts = processor.batch_decode(predicted_ids, skip_special_tokens=True)\n",
    "        true_texts = [processor.decode(label, skip_special_tokens=True) for label in labels]\n",
    "\n",
    "        for pred_text, true_text in zip(predicted_texts, true_texts):\n",
    "            pred_digit = extract_number_from_transcription(pred_text)\n",
    "            true_digit = extract_number_from_transcription(true_text)\n",
    "\n",
    "            if pred_digit is not None and true_digit is not None and pred_digit == true_digit:\n",
    "                correct_predictions += 1\n",
    "        total_samples += len(true_texts)\n",
    "#         print(correct_predictions, total_samples)\n",
    "\n",
    "    avg_loss = total_loss / len(train_loader)\n",
    "    accuracy = correct_predictions / total_samples\n",
    "    print(f\"Epoch {epoch}, Loss: {avg_loss}, Training Accuracy: {accuracy * 100}\")\n",
    "\n",
    "    return accuracy * 100"
   ]
  },
  {
   "cell_type": "code",
   "execution_count": 13,
   "id": "39fdef81",
   "metadata": {
    "execution": {
     "iopub.execute_input": "2024-11-23T13:46:54.224644Z",
     "iopub.status.busy": "2024-11-23T13:46:54.224297Z",
     "iopub.status.idle": "2024-11-23T13:46:54.231653Z",
     "shell.execute_reply": "2024-11-23T13:46:54.230654Z"
    },
    "id": "CoIkOY89V6A1",
    "papermill": {
     "duration": 0.028935,
     "end_time": "2024-11-23T13:46:54.233364",
     "exception": false,
     "start_time": "2024-11-23T13:46:54.204429",
     "status": "completed"
    },
    "tags": []
   },
   "outputs": [],
   "source": [
    "def train_whisper_poisoned(model, processor, train_loader, optimizer, epoch, device):\n",
    "    model.train()\n",
    "    total_loss = 0\n",
    "    correct_predictions = 0\n",
    "    total_samples = 0\n",
    "\n",
    "    for batch in tqdm(train_loader):\n",
    "        audio_data, labels = batch\n",
    "        audio_data = audio_data.to(device)\n",
    "        labels = labels.to(device)\n",
    "\n",
    "        optimizer.zero_grad()\n",
    "        outputs = model(input_features=audio_data, labels=labels)\n",
    "        loss = outputs.loss\n",
    "        loss.backward()\n",
    "        optimizer.step()\n",
    "\n",
    "        total_loss += loss.item()\n",
    "        predicted_ids = model.generate(input_features=audio_data)\n",
    "        predicted_texts = processor.batch_decode(predicted_ids, skip_special_tokens=True)\n",
    "        true_texts = [processor.decode(label, skip_special_tokens=True) for label in labels]\n",
    "\n",
    "        for pred_text, true_text in zip(predicted_texts, true_texts):\n",
    "            pred_digit = extract_number_from_transcription(pred_text)\n",
    "            true_digit = extract_number_from_transcription(true_text)\n",
    "            if pred_digit is not None and true_digit is not None and pred_digit == true_digit:\n",
    "                correct_predictions += 1\n",
    "        total_samples += len(true_texts)\n",
    "\n",
    "    avg_loss = total_loss / len(train_loader)\n",
    "    accuracy = correct_predictions / total_samples\n",
    "    print(f\"Epoch {epoch}, Loss: {avg_loss}, Training Accuracy: {accuracy * 100}\")"
   ]
  },
  {
   "cell_type": "code",
   "execution_count": 14,
   "id": "33258ff3",
   "metadata": {
    "execution": {
     "iopub.execute_input": "2024-11-23T13:46:54.272415Z",
     "iopub.status.busy": "2024-11-23T13:46:54.272102Z",
     "iopub.status.idle": "2024-11-23T13:46:54.280145Z",
     "shell.execute_reply": "2024-11-23T13:46:54.279252Z"
    },
    "id": "SlYwDPfBV6A1",
    "papermill": {
     "duration": 0.029901,
     "end_time": "2024-11-23T13:46:54.281915",
     "exception": false,
     "start_time": "2024-11-23T13:46:54.252014",
     "status": "completed"
    },
    "tags": []
   },
   "outputs": [],
   "source": [
    "def test_backdoor_attack(model, test_loader, processor, target_label, device, clean_test_loader, original_clean_accuracy):\n",
    "    model.eval()\n",
    "\n",
    "    backdoor_correct = 0\n",
    "    backdoor_total = 0\n",
    "    clean_correct = 0\n",
    "    clean_total = 0\n",
    "\n",
    "    with torch.no_grad():\n",
    "        for inputs, _ in test_loader:\n",
    "            inputs = inputs.to(device)\n",
    "            outputs = model.generate(input_features=inputs)\n",
    "            predicted_texts = processor.batch_decode(outputs, skip_special_tokens=True)\n",
    "            backdoor_total += len(predicted_texts)\n",
    "            for pred in predicted_texts:\n",
    "                pred_digit = extract_number_from_transcription(pred)\n",
    "                if pred_digit == word_to_digit[target_label]:\n",
    "                    backdoor_correct += 1\n",
    "\n",
    "    backdoor_success_rate = 100 * backdoor_correct / backdoor_total if backdoor_total > 0 else 0.0\n",
    "    print(f'Backdoor Attack Success Rate: {backdoor_success_rate}')\n",
    "\n",
    "    with torch.no_grad():\n",
    "        for inputs, labels in clean_test_loader:\n",
    "            inputs = inputs.to(device)\n",
    "            outputs = model.generate(input_features=inputs)\n",
    "            predicted_texts = processor.batch_decode(outputs, skip_special_tokens=True)\n",
    "            clean_total += len(predicted_texts)\n",
    "            for pred, label in zip(predicted_texts, labels):\n",
    "                pred_digit = extract_number_from_transcription(pred)\n",
    "                true_digit = extract_number_from_transcription(processor.decode(label, skip_special_tokens=True))\n",
    "                if pred_digit is not None and true_digit is not None and pred_digit == true_digit:\n",
    "                    clean_correct += 1\n",
    "\n",
    "    clean_accuracy = 100 * clean_correct / clean_total if clean_total > 0 else 0.0\n",
    "    clean_accuracy_drop = original_clean_accuracy - clean_accuracy\n",
    "    print(f'Clean Accuracy Drop: {clean_accuracy_drop}')\n",
    "\n",
    "    return backdoor_success_rate, clean_accuracy, clean_accuracy_drop"
   ]
  },
  {
   "cell_type": "code",
   "execution_count": 15,
   "id": "a43d17e8",
   "metadata": {
    "execution": {
     "iopub.execute_input": "2024-11-23T13:46:54.320961Z",
     "iopub.status.busy": "2024-11-23T13:46:54.320606Z",
     "iopub.status.idle": "2024-11-23T13:46:54.324962Z",
     "shell.execute_reply": "2024-11-23T13:46:54.324180Z"
    },
    "id": "JUnsEE0RV6A2",
    "papermill": {
     "duration": 0.02603,
     "end_time": "2024-11-23T13:46:54.326674",
     "exception": false,
     "start_time": "2024-11-23T13:46:54.300644",
     "status": "completed"
    },
    "tags": []
   },
   "outputs": [],
   "source": [
    "poisoning_rates = [0.01, 0.05, 0.1]\n",
    "frequencies = [1000, 10000, 24000]\n",
    "epochs = 1\n",
    "target_label = 'nine'\n",
    "results = []"
   ]
  },
  {
   "cell_type": "code",
   "execution_count": 16,
   "id": "d92beacc",
   "metadata": {
    "execution": {
     "iopub.execute_input": "2024-11-23T13:46:54.365798Z",
     "iopub.status.busy": "2024-11-23T13:46:54.365464Z",
     "iopub.status.idle": "2024-11-23T13:46:54.370450Z",
     "shell.execute_reply": "2024-11-23T13:46:54.369580Z"
    },
    "id": "c1KHeIR9V6A2",
    "papermill": {
     "duration": 0.026718,
     "end_time": "2024-11-23T13:46:54.372133",
     "exception": false,
     "start_time": "2024-11-23T13:46:54.345415",
     "status": "completed"
    },
    "tags": []
   },
   "outputs": [],
   "source": [
    "clean_train_dataset = AudioDatasetWhisper(train_data, processor)\n",
    "clean_train_loader = DataLoader(clean_train_dataset, batch_size=32, shuffle=True, collate_fn=pre_dataloader)\n",
    "\n",
    "clean_test_dataset = AudioDatasetWhisper(test_data, processor)\n",
    "clean_test_loader = DataLoader(clean_test_dataset, batch_size=32, shuffle=True, collate_fn=pre_dataloader)"
   ]
  },
  {
   "cell_type": "code",
   "execution_count": 17,
   "id": "277a9fba",
   "metadata": {
    "execution": {
     "iopub.execute_input": "2024-11-23T13:46:54.411612Z",
     "iopub.status.busy": "2024-11-23T13:46:54.410738Z",
     "iopub.status.idle": "2024-11-23T13:46:54.417457Z",
     "shell.execute_reply": "2024-11-23T13:46:54.416603Z"
    },
    "id": "hHvCaimlV6A2",
    "papermill": {
     "duration": 0.028023,
     "end_time": "2024-11-23T13:46:54.419152",
     "exception": false,
     "start_time": "2024-11-23T13:46:54.391129",
     "status": "completed"
    },
    "tags": []
   },
   "outputs": [],
   "source": [
    "def test_classification(model, processor, test_loader, device):\n",
    "    model.eval()\n",
    "    correct = 0\n",
    "    total = 0\n",
    "\n",
    "    with torch.no_grad():\n",
    "        for inputs, labels in tqdm(test_loader):\n",
    "            inputs = inputs.to(device)\n",
    "            labels = labels.to(device)\n",
    "\n",
    "            predicted_ids = model.generate(input_features=inputs)\n",
    "\n",
    "            predicted_texts = processor.batch_decode(predicted_ids, skip_special_tokens=True)\n",
    "            true_texts = [processor.decode(label, skip_special_tokens=True) for label in labels]\n",
    "\n",
    "            for pred_text, true_text in zip(predicted_texts, true_texts):\n",
    "                pred_digit = extract_number_from_transcription(pred_text)\n",
    "                true_digit = extract_number_from_transcription(true_text)\n",
    "\n",
    "                if pred_digit is not None and true_digit is not None and pred_digit == true_digit:\n",
    "                    correct += 1\n",
    "                total += 1\n",
    "\n",
    "    accuracy = 100 * correct / total if total > 0 else 0\n",
    "    print(f'Classification Accuracy: {accuracy}')\n",
    "\n",
    "    return accuracy"
   ]
  },
  {
   "cell_type": "code",
   "execution_count": 18,
   "id": "268f3c6d",
   "metadata": {
    "execution": {
     "iopub.execute_input": "2024-11-23T13:46:54.457794Z",
     "iopub.status.busy": "2024-11-23T13:46:54.457451Z",
     "iopub.status.idle": "2024-11-23T13:47:26.163003Z",
     "shell.execute_reply": "2024-11-23T13:47:26.161965Z"
    },
    "id": "P4RzJpWvV6A3",
    "outputId": "3ba572a7-aa4e-4fdc-db6e-ee88ecf5a620",
    "papermill": {
     "duration": 31.72707,
     "end_time": "2024-11-23T13:47:26.164875",
     "exception": false,
     "start_time": "2024-11-23T13:46:54.437805",
     "status": "completed"
    },
    "tags": []
   },
   "outputs": [
    {
     "data": {
      "application/vnd.jupyter.widget-view+json": {
       "model_id": "340674252369468b992d8fae794694cf",
       "version_major": 2,
       "version_minor": 0
      },
      "text/plain": [
       "config.json:   0%|          | 0.00/1.94k [00:00<?, ?B/s]"
      ]
     },
     "metadata": {},
     "output_type": "display_data"
    },
    {
     "data": {
      "application/vnd.jupyter.widget-view+json": {
       "model_id": "62af002e70554a23ba77e2ef96d14c7f",
       "version_major": 2,
       "version_minor": 0
      },
      "text/plain": [
       "model.safetensors:   0%|          | 0.00/151M [00:00<?, ?B/s]"
      ]
     },
     "metadata": {},
     "output_type": "display_data"
    },
    {
     "data": {
      "application/vnd.jupyter.widget-view+json": {
       "model_id": "10c69c09853e4a378bf80e12e98a722b",
       "version_major": 2,
       "version_minor": 0
      },
      "text/plain": [
       "generation_config.json:   0%|          | 0.00/1.62k [00:00<?, ?B/s]"
      ]
     },
     "metadata": {},
     "output_type": "display_data"
    },
    {
     "name": "stderr",
     "output_type": "stream",
     "text": [
      "  0%|          | 0/19 [00:00<?, ?it/s]The attention mask is not set and cannot be inferred from input because pad token is same as eos token. As a consequence, you may observe unexpected behavior. Please pass your input's `attention_mask` to obtain reliable results.\n",
      "100%|██████████| 19/19 [00:28<00:00,  1.50s/it]"
     ]
    },
    {
     "name": "stdout",
     "output_type": "stream",
     "text": [
      "Classification Accuracy: 54.0\n"
     ]
    },
    {
     "name": "stderr",
     "output_type": "stream",
     "text": [
      "\n"
     ]
    }
   ],
   "source": [
    "model = WhisperForConditionalGeneration.from_pretrained(\"openai/whisper-tiny.en\").to(device)\n",
    "optimizer = AdamW(model.parameters(), lr=1e-4)\n",
    "zero_shot_accuracy = test_classification(model, processor, clean_test_loader, device)"
   ]
  },
  {
   "cell_type": "code",
   "execution_count": 19,
   "id": "7b15d924",
   "metadata": {
    "execution": {
     "iopub.execute_input": "2024-11-23T13:47:26.207339Z",
     "iopub.status.busy": "2024-11-23T13:47:26.206340Z",
     "iopub.status.idle": "2024-11-23T13:47:26.976908Z",
     "shell.execute_reply": "2024-11-23T13:47:26.976209Z"
    },
    "id": "ntOiQC2-V6A3",
    "papermill": {
     "duration": 0.793758,
     "end_time": "2024-11-23T13:47:26.978926",
     "exception": false,
     "start_time": "2024-11-23T13:47:26.185168",
     "status": "completed"
    },
    "tags": []
   },
   "outputs": [],
   "source": [
    "clean_model = WhisperForConditionalGeneration.from_pretrained(\"openai/whisper-tiny.en\").to(device)\n",
    "optimizer = AdamW(clean_model.parameters(), lr=1e-4)"
   ]
  },
  {
   "cell_type": "code",
   "execution_count": 20,
   "id": "a9de9de4",
   "metadata": {
    "execution": {
     "iopub.execute_input": "2024-11-23T13:47:27.020403Z",
     "iopub.status.busy": "2024-11-23T13:47:27.019708Z",
     "iopub.status.idle": "2024-11-23T13:49:52.058441Z",
     "shell.execute_reply": "2024-11-23T13:49:52.057496Z"
    },
    "id": "J2xG4eb2V6A3",
    "outputId": "bd23b0d9-79c7-4f96-8716-97a35dc846fe",
    "papermill": {
     "duration": 145.061482,
     "end_time": "2024-11-23T13:49:52.060317",
     "exception": false,
     "start_time": "2024-11-23T13:47:26.998835",
     "status": "completed"
    },
    "tags": []
   },
   "outputs": [
    {
     "name": "stderr",
     "output_type": "stream",
     "text": [
      "  0%|          | 0/75 [00:00<?, ?it/s]Passing a tuple of `past_key_values` is deprecated and will be removed in Transformers v4.43.0. You should pass an instance of `EncoderDecoderCache` instead, e.g. `past_key_values=EncoderDecoderCache.from_legacy_cache(past_key_values)`.\n",
      "100%|██████████| 75/75 [02:25<00:00,  1.93s/it]"
     ]
    },
    {
     "name": "stdout",
     "output_type": "stream",
     "text": [
      "Epoch 0, Loss: 0.6893407633132301, Training Accuracy: 97.875\n"
     ]
    },
    {
     "name": "stderr",
     "output_type": "stream",
     "text": [
      "\n"
     ]
    }
   ],
   "source": [
    "for epoch in range(epochs):\n",
    "    train_whisper_clean(clean_model, processor, clean_train_loader, optimizer, epoch, device)"
   ]
  },
  {
   "cell_type": "code",
   "execution_count": 21,
   "id": "76a54dbd",
   "metadata": {
    "execution": {
     "iopub.execute_input": "2024-11-23T13:49:52.109446Z",
     "iopub.status.busy": "2024-11-23T13:49:52.109097Z",
     "iopub.status.idle": "2024-11-23T13:50:05.786158Z",
     "shell.execute_reply": "2024-11-23T13:50:05.785099Z"
    },
    "id": "AjiZRr1TV6A3",
    "outputId": "be627c69-4723-4c5d-c6e9-504f2b745899",
    "papermill": {
     "duration": 13.703986,
     "end_time": "2024-11-23T13:50:05.788199",
     "exception": false,
     "start_time": "2024-11-23T13:49:52.084213",
     "status": "completed"
    },
    "tags": []
   },
   "outputs": [
    {
     "name": "stderr",
     "output_type": "stream",
     "text": [
      "100%|██████████| 19/19 [00:13<00:00,  1.39it/s]"
     ]
    },
    {
     "name": "stdout",
     "output_type": "stream",
     "text": [
      "Classification Accuracy: 96.83333333333333\n"
     ]
    },
    {
     "name": "stderr",
     "output_type": "stream",
     "text": [
      "\n"
     ]
    }
   ],
   "source": [
    "original_clean_accuracy = test_classification(clean_model, processor, clean_test_loader, device)"
   ]
  },
  {
   "cell_type": "code",
   "execution_count": 22,
   "id": "6227feaf",
   "metadata": {
    "execution": {
     "iopub.execute_input": "2024-11-23T13:50:05.849262Z",
     "iopub.status.busy": "2024-11-23T13:50:05.848523Z",
     "iopub.status.idle": "2024-11-23T13:50:05.852876Z",
     "shell.execute_reply": "2024-11-23T13:50:05.852069Z"
    },
    "id": "979pA3uOV6A3",
    "outputId": "bda4d25b-0062-4e0c-89e5-438621e6d02f",
    "papermill": {
     "duration": 0.032796,
     "end_time": "2024-11-23T13:50:05.854654",
     "exception": false,
     "start_time": "2024-11-23T13:50:05.821858",
     "status": "completed"
    },
    "tags": []
   },
   "outputs": [
    {
     "name": "stdout",
     "output_type": "stream",
     "text": [
      "96.83333333333333\n"
     ]
    }
   ],
   "source": [
    "print(original_clean_accuracy)"
   ]
  },
  {
   "cell_type": "code",
   "execution_count": 23,
   "id": "bd2157a3",
   "metadata": {
    "execution": {
     "iopub.execute_input": "2024-11-23T13:50:05.905387Z",
     "iopub.status.busy": "2024-11-23T13:50:05.904598Z",
     "iopub.status.idle": "2024-11-23T14:14:35.845710Z",
     "shell.execute_reply": "2024-11-23T14:14:35.844763Z"
    },
    "id": "Uefr4wgaV6A4",
    "outputId": "def3b596-63d2-49ed-84c4-97c875fa5cdb",
    "papermill": {
     "duration": 1470.037076,
     "end_time": "2024-11-23T14:14:35.916356",
     "exception": false,
     "start_time": "2024-11-23T13:50:05.879280",
     "status": "completed"
    },
    "tags": []
   },
   "outputs": [
    {
     "name": "stdout",
     "output_type": "stream",
     "text": [
      "Running experiment with poisoning_rate=0.01 and frequency=1000\n"
     ]
    },
    {
     "name": "stderr",
     "output_type": "stream",
     "text": [
      "  5%|▌         | 4/75 [00:07<02:04,  1.75s/it]"
     ]
    },
    {
     "name": "stdout",
     "output_type": "stream",
     "text": [
      "Playing clean audio for sample 0\n"
     ]
    },
    {
     "data": {
      "text/html": [
       "\n",
       "                <audio  controls=\"controls\" >\n",
       "                    <source src=\"data:audio/wav;base64,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\" type=\"audio/wav\" />\n",
       "                    Your browser does not support the audio element.\n",
       "                </audio>\n",
       "              "
      ],
      "text/plain": [
       "<IPython.lib.display.Audio object>"
      ]
     },
     "metadata": {},
     "output_type": "display_data"
    },
    {
     "name": "stdout",
     "output_type": "stream",
     "text": [
      "Playing poisoned audio for sample 0\n"
     ]
    },
    {
     "data": {
      "text/html": [
       "\n",
       "                <audio  controls=\"controls\" >\n",
       "                    <source src=\"data:audio/wav;base64,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\" type=\"audio/wav\" />\n",
       "                    Your browser does not support the audio element.\n",
       "                </audio>\n",
       "              "
      ],
      "text/plain": [
       "<IPython.lib.display.Audio object>"
      ]
     },
     "metadata": {},
     "output_type": "display_data"
    },
    {
     "name": "stdout",
     "output_type": "stream",
     "text": [
      "Playing clean audio for sample 1\n"
     ]
    },
    {
     "data": {
      "text/html": [
       "\n",
       "                <audio  controls=\"controls\" >\n",
       "                    <source src=\"data:audio/wav;base64,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\" type=\"audio/wav\" />\n",
       "                    Your browser does not support the audio element.\n",
       "                </audio>\n",
       "              "
      ],
      "text/plain": [
       "<IPython.lib.display.Audio object>"
      ]
     },
     "metadata": {},
     "output_type": "display_data"
    },
    {
     "name": "stdout",
     "output_type": "stream",
     "text": [
      "Playing poisoned audio for sample 1\n"
     ]
    },
    {
     "data": {
      "text/html": [
       "\n",
       "                <audio  controls=\"controls\" >\n",
       "                    <source src=\"data:audio/wav;base64,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\" type=\"audio/wav\" />\n",
       "                    Your browser does not support the audio element.\n",
       "                </audio>\n",
       "              "
      ],
      "text/plain": [
       "<IPython.lib.display.Audio object>"
      ]
     },
     "metadata": {},
     "output_type": "display_data"
    },
    {
     "name": "stderr",
     "output_type": "stream",
     "text": [
      "100%|██████████| 75/75 [02:12<00:00,  1.76s/it]\n"
     ]
    },
    {
     "name": "stdout",
     "output_type": "stream",
     "text": [
      "Epoch 0, Loss: 0.7501920076350992, Training Accuracy: 97.0\n",
      "Backdoor Attack Success Rate: 0.0\n",
      "Clean Accuracy Drop: -2.0\n",
      "Running experiment with poisoning_rate=0.01 and frequency=10000\n"
     ]
    },
    {
     "name": "stderr",
     "output_type": "stream",
     "text": [
      "  5%|▌         | 4/75 [00:07<02:04,  1.75s/it]"
     ]
    },
    {
     "name": "stdout",
     "output_type": "stream",
     "text": [
      "Playing clean audio for sample 0\n"
     ]
    },
    {
     "data": {
      "text/html": [
       "\n",
       "                <audio  controls=\"controls\" >\n",
       "                    <source src=\"data:audio/wav;base64,UklGRiA5AABXQVZFZm10IBAAAAABAAEAgD4AAAB9AAACABAAZGF0Yfw4AAB3/AH8bvyb/Hj8e/xs/DL8evwM/W38Wfrp+OX5c/zd/Wz8nPnz+Bz7YPyK+vv4l/pc/PP6+vgG+mD85PyF/OT8YPwH+vn46fpf/Lb69/hB+mb8wfvq+GP35/ii+2z8lPrt+O/5bfyA/XL8Wvt7/B//8f/c/Yj8W/7n/y/+jvw6/uX/Of6O/Dn+5f85/o78OP7m/0P+jPwZ/ur/jf6F/HT98//GAAgAo//+/0AA/v+j/wgAxQDz/379g/xs/vD/bf6C/HT99v/kAAMAXP8CANEA+v+r/Xr85/39/6T/cPwq+e/4UPti/Gv6+/i2+lr8v/r++Hf6XPwo+/n4ufjW+Bz3YvVK9t/4F/rp+LP2U/UE9u34C/xn/A/69/jq+lz8l/r/+Kv6Wfy++vz4avpi/FH77vgg+XP8xP/3/5P9hPx6/ur/Jv6N/Dn+5v9N/or8+f3w/9/+ffy5/P3/JwOMA5QBAgDvAI0DBQWHA7AADQA6AnkDnQEYANIBcgPGARsAxwFyA8gBGgC+AXMD3wEXAIABegN7AgsAUf/+/2j/bPwi+fT4mftg/Oz4afUW9tn42Pha9e3x0fE99Ef1TPPg8aLzPfWM8+XxjPM99aLz4PFN80b1M/TT8QzyVvWR+N/4qvZk9eD21vj4+PT4v/pl/FD78fgV+Nr4O/p+/Cf/9/8u/nr8av37/zgBAwC+/XD8Sv0BAMgCiwMDAgUAW//4/0oBmQNYBg0HDAWdAxkFCAcKBzEHWAmRCrIIMwfxCJEK9AgyB58IlQqOCSkHjQYTBzIGjwP5AAMAVAD4/xr+fvxy/Gj8yvru+I/44fjq91b1sfLS8Vbyu/FV70/uQ/C08frvUe7J77nxmvBI7pzuw/G59Fj1v/PO8SPxwPEI82T1NfjV+Kr2afUy99P4Xfdo9Vn21/ip+e74j/jg+A755fi5+Or4N/nc+Cf48fha+2P8ivr3+Ff6X/x8/IT8bP7z/63+efzF/AEARwOFAzQBDADSAX4DLwIPALIAfwPHBSkH/wcNB5EEmgN2BRAHyQWWAwAEFAf6Ca4KVgkVB9MFJAffCZ0KlAgpB7MImgqtCSYHNAYUB70HHgeMBYsDlgEBAHr+cPww+ur47fjf+Hb3X/Wf87/xdu9J7pzuLu7567zqVOwv7jntuuq36aXqOexF7o3wwfGG8dPxrPNM9Uv1ZPUe99f42/j1+MH6Yvw//IT8rP7t/zL+hvzU/e7/IQAOAMkBgwOZAgYAzf78/zECkQPUAvz/A/13/GH+/f8S/3P8+/p5/FD/8//I/YX8UP7t/27+hPyf/fT/mv96/JP54Pg5+nn8vP1p/Kf58/gT+2H8l/r7+IP6XPwc+/z44fjP+L72avUP99f4qvdg9az14vgF/HH8fPrr+Nj5bPyd/gUAmgGKA2gFHAfZCKoKiwwyDr4PyhEeFEoVGBVYFSkX2xgtGFQVoxLEESYSwxEbD6oKXQaMA90BAAD4/Ob41vTJ8cbvPe6c7K3quOgj55vlkeM/4Qfg+OCS4wbmIecU5yDnTeiv6hXtOu4Z7kDure/D8YXzX/WG99740vjq+Gf6cPwy/XP8sftz/Hr+AABI/3L8lfnn+IL6b/z3/Hj8Ovxu/IL8dvyF/HH8M/x0/NH9/v8ZApIDIASFA6wCmgMnBgoHBQWgA08FCAesBZ4DdAQOByIIIwdsBYkDhAEBAJL/AQBzAP7/bP51/Kn65Pj89lb1rPRe9T72TfXM8tfxsfNL9frz1fFS8lD1/Pfp+Mv44/gX+nT83f7+/+H/BAB0AYcDVAUiB0IJoQqjCrEKJQwtDtQPzxFRFEUVpBPREb8RtxECEEIONw4sDqALIgfuAvz/9P11/Ab74/ij9czxCO6q6iDoJ+dl5xnnU+Wc407jieNF453jYeUY50nnJ+dY6Kvqw+w87qzvzvEg9FD1GfVh9Sr32/j8+Oz4Ufpv/ET9cvyb+3X8o/7+//T+c/wb+3b8Ev/6/0P+fPxL/fb/NwKZA10EgQMiAQ0AswF9A3EDngOqBQoHgQWcA5QEDgf6BycHtgWDA+YACAC+AYYDwAIGAJ79bPwV/Hr8Dv1r/GL67vgB+dv4JPdh9Sn1T/Xz89Dx6fDF8YnzXPU99lX1LPPL8a/yWPXm9+P4qvjp+HL6b/wX/gIALwMbB/sJpgocCqsKpA3CEaQUUxUEFU8VzBbkGAsa1xhSFl4VPRZCFVUQuAoUCA0HWAQKAB/83/hw9czxO+6v6gfnkuMH4QfgIeAF4KTed9w223rc6t+Q49PlJeep6Kvqj+w+7u3vy/Gl81T16/bo+Az7cfyX/HP8cf0BALACiwMfAgAAIP8EAAYB9/9W/YP8lP7s/yv+iPwM/u7/vv6B/AH9+P+VApADlgOPA68DiAMgA5UDZAUTB1wHIwdnBxAHRAWaA3YDfQPSAqADVQYGB50DEwDZ//D/C/xj9TrwNe7+7T/uYO487hjuPO5j7jzu9+087ovvy/EQ9FT1cPVc9Yf1UvW49F31ZPhu/Cv/BAD5//z/8gCSA2oHpAqEDDkOORFRFU0ZahxuH48jMCiZKn0pIiecJXwj2B7pGIsTLw5uBwQAxPlW9e/xO+5g6Zbj0N3l2MTVY9U31+TYB9nw2Dfac9xU3gngw+If53vsyfH/9eb41Ppy/BX+AAD2AY0DIwSMA/ABAAAt/nD8mfrq+Fn3UPX18tTxLvK88YvvTO7d77nxpvHZ8dr02Pga+338U/+GA4EHrgoNDTEOMg48DpwOMA5jDK4KYgqjCq0JHge4A/7/Mvzo+Kb2VPXa9F71GvZO9f7y1fFW80v1fvVk9er22Pg6+fD4Jvnc+Bj3XvUP9VT1UfTJ8T7vP+6B7jnueOyy6inrO+5E8lb1K/fo+M/7///+BKoKcRHgGIMfiCNwJIcjpCMaJ9YtRTVLO/0/PUN+Q5E/2zizMasqJCG1EWj9wuo23kfV1Mw8x5nHnsqay8jKiMqiytbL3tHK3aTqm/Jb9Xf26PjF+2j8Sfr2+Iz6Xvw5+/n4uPdD9cvvv+qP6aHq4eq36vvrOO5N7zzuAOyz6qDrNe5m8WL1wvln/IL8fvwy/vX/AAAJAIoCEwdjCzkOOQ84Dj0LFAfAA5gDEAYNBzcECwCg/Wz8nfrl+D/6CABYB5kK2AegA40CewN9A54DkQUMB/AECgCh+k71iPBE7mLvw/Gs8tDxNPA17gPst+qx6qXqEeq76grtLe547L/q1ess7qPv2vG/9mX8aACZA2IHnwpODD8OphLZGOEejSOAJhUnmiWFI2MjHScjLj01lzoKQKRF+UZyQfQ4XTBxI08OaPVG4MbRlMiXw0DDMMeRzC/Osco/x+LIJc741CPgye9V/FP/ivxE+tL4i/XU8X7wyPH38sHxNO686gbogePE3P7YM9yC487pR+5c8lP1HvXH8TPuRu7o8tb47/wRABgDegP3/4P8AP31/xkClQNuBqUK8g01DkMLHwc0BIsDyAQbB4sJrArtCIQDo/zx+Nr69f86BbIK4hBLFYEUNg7iBQUAj/75/9ABlwPpBIEDs/1j9YXtFecG45/jxegy7trvQ+4u7KrqB+ki5w3mJOdm6jfuwvDN8QTyyfFv8cfxBfTv+C3/fQMQBTAHcAsdDmQNVA7bFFEcah8UIBsidCPKIQYg6CKeKgI0XzxPQ7ZKTlGXUeVJJUBwNcUfCvuR1bq+NLXlsPaxTLsRx97Mt8qTxaXDJMi20Qjf8vG2Bo8R/wzHA//+qPj46kLgbuJ56t3s1urD6QXnzN5q1aLS7Ngm5DDuY/T4+OT8WvyD9VXuW+228f32gvyuAg8HCweSA3L/c/xJ+3D8bQAgBzcOvBHND64KBQaOA+sCiQP3BbUKPw8iDusFifxM+M347/unA4YQVBwXIQ8gWhxCFVYKCgBs+3H8VP5s/Pn1R+5A6ITj2N8W4AnmLu6a82H1s/TE8Z3sI+fE45bjbeUb52TnJ+dG5xjnX+Ys51TrvvGo+A0AIAeZCk0JLAf2B5gKVA3VETwZ7x8NIgEgZR1wHJMd7R+iJEYu2jvuRj9M6FEHW79frFliTqZBcSp4AobVXbSAo8aerKO7sAvAP8qhyjLELcCYxBTOHtp37tEJKhxFGnMOfwU9/A7sodzz2O/f2Oew6nTon+OA3UHVf81pzgjbgeqj9KH8RgXuBjn8Ye6I6STuafV//OUDqAqyDZsK/QKI/AT7Xfxj/qIDMg0/FVwVQA6lBQAAXf79/0cEsQrHELoRDQsDAEL3WfVk+ogDGw7qGJ0heSPlG0QOXABM9YzuRu5b9Gv8CwECADn6yfFX6ZHjl+Ip5+ruTvU291/1RfGp6o7h7dhF1e3YuOGn6vHv0/FH8r3xuvDa8X72ZvyUASQHjA2/EXIQqArNBSIHFw/WGM0flCMbJgwnyCWMI2sjFyemLsw4X0TQUUFeZGPXXmZVzkijMcQKi9z0tQmgbJoGoG2slrzQy6fRtMxYx1zKmtHY2Fvn5f8XFYwZ8xErCE/8s+uJ3DbXe9yN5AnnLOMo4F3h2t+Z1//Rp9j25kPzlPyNBAQHaABg9QfuQu6E89P48PyoAxoNohFmDK0Du//q/8j/DQD0A6UKag8tDlkHEgCl/F78EP6lA5UMrhGBDZsDmfvd+Jv6AQAjCVgVKiEKJ6Qj6xgLC2n8Eu8r537nNO6A9nn8sv3c+MDvKuf/4ozjcudE7ob2a/wj/Fr1yOoG4DLYWdUq2A3gGOq98cf0Z/Xu9UX1nfNt9Ur9BweqDdMR7hXVGE4YVhWJE1YVaxryHw8kIyflKZIqbimzKskxUDyaRtpRfl1bY4VfblVvRfAmBPe3w7efxJFHlaSjebe+yozXytgB0efK6MyR0cPWa+c/BRocrRr2CpH9gvFD4ZbVUNfh3x/kneMh5Crnn+fo3ybU/dGD35bxqvsxAHEF8Qai/uTxZeqm6jDvUPX//DAHkhChEQAJKACl/tv/wf2V/CsCjgrVDbYKFAX//878bvzf/ygHLQ+yETgMnwMK/mL8q/2dAzIPYhw5JRsngiLdGFsMAACm9svx1/DJ8XXyxvER8EHum+yp6kXps+qR71n18vdO9W/vwOoP6HnjN9wJ2XTeAOfN61nuTvJB9Rj02PFb8+L4GP+JA7MGswpyD7URERBHDmwQRRWOGXYc1x76HwMfZhyBGwggOyo0Ncw9KUfIUlJcF19tXL5WpEo6MHcD7Mw0oCOLjIq9lfWqbsap2PTYC9Ka0J7Rb9CD1ajpBgeNHYQjURq+Cv76huoB2gXSGdY83DzcrNxO4/HmqN7z0d/O2Ngj6en4gQSyCqUKeAOf91TuK+wm7nTwavV7/5gKJxBADq4H/v9J+uT4cPyUA+0KKg7jCyYHFwP3/xH+CQCyB8ERzhdNFW0LBgAc+dv42/63Cg8aByeZLLIq4iJDFfgDaPWc7ivuwu/b8YTztPED7DfnmOYL5wrmNueT7Uf1Lvhe9QDwsuqS5fffftuQ3LXjjuq37GHu9vIx9VzxYu5L81T8uQIzB+sMsxHIEUEOLAuiCugMzRHuF2McbR4JIIUidyNxIpsjsCoxNWI/u0o7V9lfyGB4XL5T6z91Gh/nNLTokRiHLI7Ino+1Hs493P/anNWD1q7YLtg/4JD4IxVlIxQgNROFAx7zheMA2IDVE9vT3yjfPOB85ubmsNp7zifR1t9E75b8cggiDggJdvxv8LfqPest7sPx+Ph8BB8OrQ++CtUE7/9a/IT8UQELBwoKtAogCg8HMwGB/GT9gwNuC84RmhMtDhkD6vgt9nH8WAhTFSsgFSeiKIcjgxccB4n3Qe4+7cHx0Pbv+FT2Le5o44bcZt2J457q0/Gp+fr/eADm+BjrfdwD08bRIdii42HvQfUr9OTxO/Ks8UXuXe4b93IDbAtGDiAPMA7vCYkDzv+cA1kOzRgXHYEcKhvNGKoU1RGIFF8cgidQNXtEtFF4WW1cC11aXKhYPE7/NiIOxNg+p5uIAYBliJSc4rfB0X7iJOck4vPYo9JN1XLkGwAdHgku+Cd7FRcCD+6i11HHdcUhzhLYE+AC5h7n0OBS1SfN6NEU5Mf4hwXKChsM+AaA+cvqROOA41fo1fHr/y8OUxZSFU8NkAMw/XL8gwAbB64NxREPEaEKvgDz+Kz3ZvycBEQOzBVEFc8Kefyh81r1BgAtDowbKCf6LhYuNyNxFV0LcgME+2/1L/VH9Tnvl+MN2WLVGNn3363mVe4z91P8Ufp69WPxjeq13wfZE90L547tRu5c7TvufPDD8Vbx1/Hu9WP8RQIrB8AKlwqkBp8DtAQLB1AHKQfDCS4OTRHGETkRyxGkFNUYiB4fJ28yXTx9QYNDt0Y4TndXUVz1WEhO/jq9GHfng7WukxOHbowmoGC8T9WE4QPg7dff0VLS1Ni35ZH8dRkNLu8tixwZBSPuT9pUzp/Mx9EC2HPcBt8N4Ife3dgE0uTR5dwm7lX9LwcRCwoHZvtF7rnmIOcc7VL1AP4kBxIPtBGXDS0HtgOAA5UEJgdOCy0OqwwcB5IAefyD/Pb/BwZHDoQVOxWnCxYAwvpg/OUBuApAFvIfZiJqHIsRJAdOAGX8mvqG/GsBdgNr/mz1h+0N53jhF+Bh5S/uU/Xt+CP5UfVO7Znj49vn2Kjbl+Op7VH1mfdd9XHxNu6r7dLxUPqHA18JrQpXCIkDq/3p+C335Phk/Y8D2gk0DooPOQ4JDKYKCwzLEcQbDycTMd84MT7tPzg+bDzSPYlDpkohTvBJezx8I1r8fMy2o/yPxZGzoHG1Vctt3IDklePV3fLYCtqI45/0uwrZHWsjwxetA7Lw4d8D0drKNNFV3I/iq+Mx4/Lfodjc0WvSddxl7HH8WAetCoAGavwS8CvniOWm6v3zBgCGDEoV2xbIEfcJjAMxAZAD9gg1DmcQNA4VCAAAyvhZ9cj3AQBuC08VNhlUFX8L+/9P+O/43gEqDrAYCiBWI+cf0BW6CrMD+f9r/OT4k/ft+Nb4ufEt5P/YG9jx363p3vGn99P4l/RJ7sToi+Nf3n/cBuGo6iv05/hq98nxQeyu6jHuWvVT/YsDugYeB+cE+v+0+WD1YfXe+Nr9kgOlCTMOnA83DswMOQ7UE2wc1iUzLsw01Tj7Od04wjZDNU82ezykRYdK90XzOA8kdgMJ2FeuJpZhlfuleLztz4Pc7+Hz303ZdNVw2g/nr/YqB7sUzhguD378hOlv3BDX8tjD3o7j5+MC4FjaYNVX0svRi9UN4Dnw+P9PCCEHTf9S9WTtserj7Vj1cf4XB9QNxhEJEjIOEwiUA4MDFAdcCz0ObA6fCn0DfPzM+N34T/yZA4sNRBWSFtERsQn1/4f3Y/XX+xQHwxBSFQgVxRHlDBcH6gEGAIkCFwdsCRkHvQDr+H3xpeop5aHjs+af6rXrveqH6RPn3eIR4M3hGefh7M3x4fXk+Pz54/if9lv1WPbj+Db7cvy3/Hb8X/vf+P71X/U/+G38Gf8EABwBjAMUB6cK+g3KEdcWZhzIIR4nBywnLsQsriooKyEufTLpOPQ/fUOkQNY4IC+bIwYRqvEAy2+uNKcZrui2NcArzcbYDd2P3Cnd/t8P5K3qgfWWA10OIw6xAd/xoud84zPhHOCS4PLfddz12D3Y49iu2PDYO90d50H0AgC2BYsDOfxa9fnyU/U0+gUA4AWhClUNOw57DaYKhQaPA94DHQdpCqMKeweUAzYB9/8P/wwAfgSdCnsPzxG6EJ0K2ADv+KD3bfyqA6oKpxBVFWwXRxXAD7YKfwgQB9kDBgDF/XH8+fjG8SDpmuOr4xrn6+m06pjqrerd6qrqNOq66pHsLO4Y793xqPbP+Kj14vFd8j/1+fb8+Pr87v/x/oH8+vtp/Ez76/il9+b4M/z7/3QDJQdGCyoOdw/UEfgWXhz8H5YjISkkLpMvOS43LSgu0TBWNS86YzzEOb4xsyM9DqzwM86GsLOjA6tivK3LetWM21jcENh61RvaguOF7e34YQbDETETDQcC86zjF+B04+vlQ+f/6P7mfN521bjSTNWG2RHgJuve+KkDHgd0AuT4YvA+7ljzcvwIBakKZQ0zDlENqQrKBpEDYQMXBwENyBGxEaEKGv9f9S3yU/XY+5IDkwu/ESkTOg4pBOL4ZfJf9dcALQ6+FucYmha8EcQLIge6BRgHVgmqCjgJiQO1+T/uweQF4CThIOcc71r1lfbD8Z7pneM24xbnPuzZ8Qj30vjm9d3xw+8p7lvsT+5a9vD/pASXAwAAbfzP+ej4Cfpz/Nb+AQAq/2/8jvnr+JD7+v/cBLAK9RHYGHQdAiDuIYQjASUWJ1MqNi4vMa8xojDWMTM1MzUCLzAnliA9FZT+EOC4xGW1PrPfuCDB0MqU1MTYPtaF1djc/+bw7XP13gEiDpUQIAey97Xqa+SD46zkOOeg6QTnCd521U/TRtWb14vcYudL9dT/kANnAXf8yfdQ9Wz2ffwPBisOnBA+DnEKFAeLBJMDsAQZB3IJpwr6CR4HSgJt/C747vgo/xQHfgw6DmoNqArnBf7/wPt7/LECnQrrD9ERRxElDnMJLwfdCJUKOAkuB3IGewOO+knuf+T/3ynglOPZ6D/ux/HE8XbutupY6ajql+3S8V/22/jm92H1W/PA8Y3w0/Ga9mv8y/8EAH7+cPxt+uX4SPjp+Jr6bPwD/gcAawKGAxQDlQOeBy8OexTmGHEbZxw+Hf8fPSWfKqctNS7tLSguTC/MMd8zrzEVKgsgdBSAA03r1tG+wH+8TsEax5LJxsr/zbbRR9QF2cHiJe5e9xIAHAkmDmMKCgA09TfuS+uu6tHpJOdl4nHcPNdj1cDXddyX4SHn4e1a9QP7bPxU+vD4Svvy/+8DKgfxCZkKmggnB5EInwoGCiMHkgSHA38DkAOvAgAAEvzj+Lj4dvxoAhgHdQgbBxEFkQMvAvj/PP4MAKEFmQqLC7YKugstDkMPOg5hDKsKPAiHA3P8XPWg8DruhOyt6qnps+oa7TTur+y36i7rNu758Vz16vfh+Ln3W/UM88bxWvJc9ab5bfzJ++r4TfZT9TD26vjN/P3/+wACADP+cPyK+3j8kv+GAzoHsgqMDSsOIA1EDkEUXxzbIiMnCSqZKqkoGif8KDEuTTNONU8zLC6+JnQcjAxO9fjaNceCwIXDX8jIymPKEcfdwzfHodOI4z/w6/g6ABgHWQoVByz+ZfV98bbxR/Le8RbvDefQ2t7RFtLg2K3fmeN15q3qUPBS9fb37vgw+mr8Z/+UAx8IpAq9CRsHvQUdB7MJowoSCSIHygYSB/kFlQNoAfv/Wv8DANgBjAMQBI0DKgOPAyUEigOTAQUAuwCHAx8HrgpyDTEOqwytCgEKpgpJC6cKEAiSAzn9TfXs7b3qUOwr7u7sv+p46qHq7ugr59XoN+579Of4Nvrk+Kz2WPUm9Vj1T/VV9Vb26fi0+238q/rr+J/5cfwS////0f8GAKkA9/+i/X78+f6DA3oHsgpXDrwR5xNZFQ8X2BhCGwIgUScpLqExwTEzMDQuRysSJ80i/h8jHVEV+QOt6vfRnMMQw6/KV9HT0fLNsMrSy9DRhdqX43DsUvWE/Y8DwAT9/8v3z/GS8U71sPdi9fzth+Ok2vbYKt8T58vqvupa6p3qXOtN7uHz2fgB+3r8p/+KAxkFiwO+AZYDPwkoDj8OtwrbBoADlgAKABEDEwesCB4HtQMAADn9cfyo/pED0QilCgsHAQAZ+ub45/yJA9MJPQ7xDywO/gklB/8HoQrQC60K2geMAzf9VPUq7rfqt+sw7gDvSu4R7Z/qb+cx59Dru/HL9GP1kPVQ9a/zy/EH8lv16Plt/GT76/jj9+D4ovp3/Gv+/P+CAAMAlP5w/Ab7d/xOARgHoQqpCqgIHgfKB6QKRg9ZFcYb8h+oIAIg1CCCIwUnpiqKLTIu2iqGI0kawxHCCpIDMfmp6pHb1dHez8rR39FEzmnKtcpo0OXYzeAp573swvGs9en4cvtw/DT76Pja9lD1nvPU8UPvoOpA5aPjDeef6vXpLecV56nqEu/G8RbzZfVY+V78ZP0ZAC0GjAppCTgHmwiMChkJNAeOCJQKmQknB3gGFQdcBo0DmwAGAPYBgwN5AgoAKP5r/Cr66Pju+gEAKwUUB24FlwNxBBAHOAmyCq4LoQouBgMAGPvk+Lz45Pja91v18fE17jvrueqc7DDuD+5I7kDwvvF38Ebuku7C8cT16vgY+uP4bvZX9Yb3dPxhAY0DbgL//8v+BABsAoUDIwOXA8EFEQeXBZUDGQWmCjgRURUVFlUV4xXaGLIdjiOMKSkunDDIMY0xJi5ZJwYgrxm6ERUFYPX45nHczNXT0bfOscouxprDMsWyyvzR7dio3pHjfug+7i/04vhc+3j85/xp/J/68Pi490r1LPFI7jLuMO5P6yvncOUZ55HqQu718MbxWPHL8YT05fgk/f//wAGPA6MFGQdPBxsHCgisCn4NLw5vDLMKnwqcCvUIKQcBBw0HhwWcA1wC8f+7+/T4Bvpm/PH8ffyE/fv/LwKOA/MEHQeJCaQKdwkgBxkFiQPQAQEAU/50/In5VfXz8D7u0+087l7trOrS5ybn4Oim6tLqueoU7DPu2u/P8RT15fiG+278Lv0IAIIEDwfFBZkDLwQRB4wJrwoQC6cKKAkaB/wFHweMCjAOcxDMEXgTRxWtF3gc5iOYKqUtPC6CLikurisZJ/Eg4RjODfz/6/El59/gc9xk1kbOAceVwzzFtcoH0V7VWNfm2JDcmuPw68Dx0PNk9df4ZPw2/YH8b/xl/OD67/h091D1qPFA7i7tPO4x7zju3eu46hPsL+6X79vx6fXR+Lb4/fhe/Of/OgGlA2YJIQ6UDbgK1gosDjERyBFVEDcOUgylCt0IHgeTBYwDVwBz/In55vht+nP8Of10/J37cvyD/4wDfAYeB7IFiQNjApEDGwYWB5oEBQDI+9/41vZc9fzzx/FZ7q/qGugi5yznHufD5ifnyuim6hTsRe7h8U/1Ovfr+A38/P+wApIDgAOIA4wEIgcJCp8KmwgmB3kIngoWC7MKzgsvDkwQyhFkE00VFBhwHBEiEyfTKagq0CqdKocpHCcHItsYUAwAADD3zPFg7I7j/9dJziTKrMqmzEbO28/R0cXTVdWI14LcEOSl6m7tQe6R8Fb1Ffpx/Hr8c/zX/QMAIABo/C33Z/XE99L4efRO7iHsLu6v8NPxF/LE8Urxz/GP81H1r/bu+Jj89v/IAZcD7wagCuYMOw7mD8IRkhLCEe4POg7ZDKIKCweWA5AB9v/e/X78pvxn/Hn68fj++Wj8Vv4GABoCjgPEAvr/DP4JAM0EEQdOA3r8RPjh+JP7cvzc+V31PfE07uLrt+rT6qjqCOkn55DmGedE6Ljqge7A8XLzYvXh+Gr8Zv4GABgDGAfuCagKSgqsCmwMMQ6sDjsODQ40Dj8ONQ4jD8gRqRXZGKAacxy4H4QjFyYYJ10nFCf6JP8f/BctDlgFDAB8/Ef1v+iJ3HnWTdVF1NrRk889zrDNP86y0GHVP9sA4ETimeM55qfq3+9g9R36aPw3/H/8kP7y/4X+gvw//GT80Pry+LH42viB92L1sfO/8UfvR+7V77/xAvLT8RrzUfUp9+j4yfsCAE0EFAd6CLQKmQ61ESgS1BFcErQROw63CgIKngqrCR8H1wSOA0oC/f9k/Xf8Af7+/5X/dfxI+eP41vsCAAcC/P+R++34//lm/Cf9gvxq+9b4iPTX8QfzSfXL9NnxZO6e6jrnMecF6y3uM+296g7rL+7J8WP1Uvlp/BD+CACGAxIHMwmwCpcMMg6GDjYOEg/JEcUUShUyE80RGRTWGCIdASAhIoUj2iOII2QjiCPeIv0fExq8EVgJmQOH/9j4Ee6f4xjecNwx2l3VR9BHzsHPx9EI0tTR/9Pr2MTd/t+e4J3jeOq/8TT1XvXe9eP4Ev39/4oABADj//3/6P5y/O356fgl+d/4JPdd9QX1VPVo9MnxEO9B7rbvwvFO82D15Phr/H7+BADXAhoHUAs0DvgPxhHwE1AVghTCEQoPOw7TDi4O9wolB+MEhAOuAQYAvf/+/wP/dPzX+eT4Ifp2/Lv9bfzH+e34t/pr/HT76fi79+X4J/rh+CH10PEV8cXxB/E/7nDrreoe7DzuHO877jbtQO6g8VH1kvft+J36a/zm/QYAewMXB24JqQoCDDoOqhC8EW0R0RHbE0IV3RRjFeIYWhzcHIEcFx7mH+4fDiA7IeofoRnQEfQMoQr8BgMA5/Y87snnkuMz4Hfcgthh1V3TyNHG0NXRUdXm2PPZ69jX2HrcdOOo6lHv0vGp81D1tfbo+Gv8AABuAfv/TP16/EP+9v8E/378efra+NH2YPVZ9VH12PPO8ffwyPGC81j1G/fm+ML6cfz5/QIAKwMYB/AKOg6mEL4RtRHMEVESuBGbD0QOqw4oDtAKJwdFBhEHbQaVA+n/bfzY+er4MPnh+DX3WvW99Fj14vVS9Xr0YvXZ99f49fZo9df21Pj392n1jfO48S3vTO428LvxSvBJ7vzuwPEM9F311/bl+O/6cPzF/QQAjwMWB00JrgpWDDEO5A/KEfoTTBVPFVgVxhbWGI0aeBzQHu4fhR8FIGYigSMEIOIYFxI5DsQLFAeu/mH1ru6k6ivnneM+4G/cMNhm1QfVUdX11GrVb9fd2GvY9dg13YrjTui26j7sNe4b8V715Plq/Gj8fvw7/vP/+P8NANsBgAOJAgoACv5r/G/66vit+OX47vdV9ZTyz/Ft81L1sfVe9U/24PhE/AIA1gMcB1sJowrfCz8OEBG4EbEPQw65D7cRAhFADv0LogoTCR4HRAWMA8cBAQBK/nD8h/rp+Gr3VPXu8svx7vJZ9af2UvWn8tPxq/NN9TP00vHs8Mbxa/LG8erw0/FE9Er1ffPZ8RbzSPWs9WX1r/ba+Hz6fPzx/4UDugUiB+QIoQoODD4O1xFJFVcX6BjzGmQcbhx0HO4d9h/PIPofQh5zHO8ZRxUhD7UKKgkOBxgB7/hR8jfu5+oi5zXjB+Dx3XfcyNrp2PXX7tgU23PcTtx83P3ekePy567qNOw+7pbxU/Xb9+n4E/ni+Jn45fg3+nT8tP79/xkABABCAPn/Zv59/PT62fgq9mX1XffX+Gb3ZPUc9tr4F/t8/CH++v+nAZEDtAUaB0oHGQcFCK0Kkg0vDj4MsgrWCywOEQ89DsIMpQpiB4sDsgAGALAA9v+h/PL47PZJ9ezy2PF980z1WPTS8bXwxPG281r1+fVa9bbzxPG38NHxRvRQ9bPz0PFx8lP1+/fn+Lb45vhJ+nH8c/4BAJoBjgORBRgHcQitCjkOwBEEFFQV2xbfGOIaahzZHQEgjSJ+I/0hCCDWHl4cOhfSEUUOnApDBHz8IPbE8S/usuo155Pj19923APa7dji2ObYm9ju2HDadNwh3gngFuMc5/vqQu6d8MHxm/Jh9cX5afw7++z4M/lw/Jb//P8A/n38oPxl/GT68fhD+mr8/vvp+PX1V/Xu9uT4jvnn+E345fiR+nD8Iv4EACICiQOuA44DnwQeB60JowpICq8KoQwyDlMNqAofCa4Kpw0tDvAKJQcpBhMHmQaRA5D/dPyL+uH45fZb9RP1V/Vs9Mjx9u5A7vnvxfEb8UHuh+uq6s/rP+6p8MfxovHO8UHzUvUa9+z4Bvtt/Hv8ePzG/f3/+wGPAzYFGwcDCaYKPgw6DnQQvxHBEckRJRNMFTIX5BjYGmcc1hxzHGMb2BgAFcsRIxAwDs8JkgOV/eH4HvXN8XjurOqx5pfjquEB4AbefNwh3HXcgNx53HHdBOCZ4yPnj+mp6pjrRO5m8kz1hPVk9fr21/j/+PP4iPpl/Kz8gPzo/Gb8PPrv+Ff6bfz/++b41/Vb9Tf33fjp+O/4h/pq/Mv8efx9/f7/bgKNA3sDkQPoBBQHEAmyCqgLmwoECCsHPAmVCtQILweqCJUKhAkrB6UGDwf2BZUDgAH+/2P+cfx1+ur4gfdR9bvyz/Ff81X16PTH8Y/uRe6L8L3xBPBL7mnvvfFS8tLxu/JT9cr35vjh+OX4Dvpz/N3+///r/wIAVQGMA54FGwebCKoK5Aw0DlEONw5MD8YRUhRMFfkUWBVIF9gY+hdXFQwTwRF1EDcO5wocB3QD/v9y/Oj4cPXI8fLtsOqO6B/nhOWX463h/98X3w/gYOKF497ipeNf55nqp+rE6gTutfFa8trxKfNN9df1WvUT9un48fto/Dv68/iZ+mL8Pfv3+HH41PiE+PT4GPtn/PH67Phy+XH8Rv/9/2//BwA5AoUDJQIFAF8AjAOtBhkHIwWQA30EGweUCBUHQASaA8AFCQdEBaIDGwUIB/4FmwP/AoUDpAIBAGz9dvy9/G38qvrs+KT43/i/9131JPPD8T3x0vGl8r7xPu9K7ivwu/FV8Eru9u6/8QT0XvXt9uL4vPp0/Dj+AAC+AY8DbQUXB6gIrgr9DC4O9Q1CDjAQtBGGEdYRCRQ/FXsT1hE9E0IVfRTQEcsPLg5DCyAHIQP9/8n9dvw4++L4UPXL8XzvPe7m7KrqM+gp54TnFeft5KHjDuUS50jnLuez6KXqA+u06rTrOe6k8MrxyPHI8eDyW/Xv99z4Vvjz+FX7X/xl+vz4wvpa/Kz6/viK+l38Bvv2+Nj5ZvxT/Xz86fts/Mf9BwCBAoMDEwOaA98FDAdZBZ4DyAQKB5EHKgdnBw8HGgWWA6cEFQctCB4HGQWMAyADjAPtA5EDOwL7/5X9efyy/Gz8rPrr+Jr44fje91n12vLL8evxyPFX8DzuL+0/7nXwxPGg8dLxiPNO9Y/1X/WT9t/46Pp2/Bn+AADnAYoDGAUhB20JoQpvCrMKiwwqDioORA4IELYRuxHQEaETRxVoFMsRmA8zDq8MqAqgCB4HywWIA/j/efxO+t/4JPdd9drzxvFv7q/qAegk51HnGed25irnaumk6iXpKOey56vqaO067s7tQ+4n8L/xxfHU8XHzTfWW9WD1j/bc+OH6ffxt/Wb81Pn0+Or6Y/zf+vP42vlp/Gj9efy1+3D8Qv4BAKUA/f88/wYAMAKBAzIDngPoBQYHIgWjA04FBgeXBaEDqAQKB6YHKgdTBw4HOgWaA5wDgAO/AQ0AAQDz/zn+gfxy/GX8q/rz+OL42Pgl92P1PvVN9cjz0vFF8cPx9fHO8crxyPGY8crxDPNZ9bP34vjV+On4Qfpv/GL+BADIAYgDIgUhB2wJoQpxCrIKeAwuDmAOPA6LD8ER0hLDEaEPOQ4uDjEO4gyvCsEIFAc6BZMDMAL7/3P86vio9lX10fPK8cPvQO7b7KbqAegt5+booOqO6r3qtOww7uDstuoO6zruU/HG8cnvQ+5F77/xrfNk9ZH31vh++Pb4Svtf/Gb6/PjC+lr8q/r++JX6Wvze+v34OPpc/Hv8iPyU/uz/Qv6G/Mf97v8qABIAyAF6A1sDoQPeBQUHGQWlA20FAQdOBacDTgUBB20FpQMZBQUH3wWhA1IDfAPfAQ4A7v/0/1v+e/we/G/8efvj+D/2X/Xk9Un15PLd8dLzQfV+8+LxfvNB9dLz3fHk8kn14/Vg9Un24fhZ+3T8cfxy/JT9AgCBAokDRgOTA1YFFAdeByAHLQinChwNMg4fDj8O0g4rDukLtQpHDCoOXg2zCo0IEgdPBZUDMAL5/1787fjb9lH1YPPO8YHxy/Hx8DbuM+u56t7sLu6L7L3qxusu7u7uRu4B7jbuGO4/7ovvyPH081f1p/Va9Rr1UfVl9u/42/tk/Cb6+Pjf+l38rPr7+Gz6YvxQ++/4Kflx/K7/+v/H/X/8/f3x/xQADwDbAX8DbAIMADP/9P9MAZsDbgYKB9sEoAN3BQgHgwWdA7MEEQfNBpEDdAAAAN4BiwPVAgAATP11/Nv8bPyB+vD49/jW+AX3aPWG9Uf1LPPZ8WnzSvVX9NXx1PDA8VbzYPWq99z4o/jv+Mj6aPxy/H78Gv74/1QAAwD5AI8DMQYTB5YGJwd3CZgK0wgtB3gIlwraCrYKWAwtDoYNrQoQCBoHQwcZB7cFkAOVAf7/WP5z/Ir66PhY91L1DPPR8fXxwfED8EjuCe4u7rbtTO6W8Lnx8e9N7pbvuPHw8dzxjfNG9Tb1Z/Vl99n4fPdg9dP13/i5+3f8Hvvf+Jn37viv+2X8Qvr3+L76XfzT+vz4OPpd/IX8hvx2/vD/g/6B/Dj99P8wApoDcgR/A/kADwAHAn0D6AERACsBfAMKBJ0D2AOAA4EBCgA4AYMDVQSXAzAC9/9Y/Xv8MP75/zH/evwY+tz4b/jw+Lz52PhK9mn1dffR+A/3bPXm9tX4wPdi9aT14fj++3P8k/rn+Jz5cvwo//7/j/8IAAUCgANbA5sDnwUQB8AFkwPjAxwHXQqhClYIKAfpCJcKWwksB9oGCweDBZoDUgODAzoCCQA5/mr8Ovru+Az53fgv91z18/RX9Y30xfG67kbubfC98STwSO4178Hxx/LM8eHwzvEA9E31AfVn9Zn30/gS92v1wvbQ+Nv4+/ge+1v8ePr++MD6Wvys+v74ivpd/Aj79fjF+Wr8iv1z/GL7evwJ//P/D/6E/Oj97P/4/xUALwJ5A74BEABqAYID1wIDAHn+AwDMAoUDkwEKAFUBhAMeAwYAGf1w/Oj9AADuAAEAEP5w/Oz7dPwD/XP8tvrj+Cf46/jZ+dz4VPZj9Tj32vif91/1rvXi+P37c/yU+uf4k/l0/Dz//P9w/wcAOQKFAyUCBQBfAIwDrQYZByMFkAN/BBoHgQgZB3cEkQM6BRYHegaQA9EAAQBpAPr/Ef59/HL8afzT+uz4evjj+BL4VfVp8s/xqfNT9W/0yvFO8M/xovRM9S7z2fF380n1KPTT8Q3yVvWR+N/4qfZk9ev20/jQ+Pv4H/tb/Hj6/vjA+lr8rfr9+IL6X/wc+/P4pvlp/Lz9efw4+uD4nfl4/Hr/+v/w/Xz8vf31/5EADQACAPL/W/8QAIICegN2ARUA3gF2A9MBFwCVAXYDOgIWAPj/6//e/Yf8Of7s/5X+iPx7/Fz8OPr9+N76WvyU+v/4tPpY/Kr6Afmp+ln8vvr8+Gr6YvxP+/D4NPlu/IX/AAAu/nT8F/3//90CjQMFAgEAM////7QBjANYBSAHGAgTB6oElQMnBRUHfAaQA9EAAQBpAPr/D/5+/Ib8ZPyU+vX4DPnW+NP2Y/Wx9t/4jvhW9RXy0vEd9En1gPPc8S/zQvVT9W71jPfP+P32a/Xz9tX4r/dj9b313fjC+3j8Hfvf+Jn37viw+2T8Ofr5+NT6W/yq+v74ivpd/Aj79fjF+Wr8i/1z/Fn7e/wf//H/3P2I/Fv+5/8v/o78Of7m/0T+i/wP/u3/rf6A/CH9/P+JAf3/Kv19/I7+8f9Z/oT8n/3u/3MAEQBeAPL/1P1+/Of9+f97/3j8m/ni+Ev6dPx8/XT8S/ri+Jz5d/xw//z/D/53/HT9/P82AQQAyP1u/C39BAD9AokDnwEDAO4AjQMFBYcDsgALACgCfQPUAQ8AQwGBAxMDBgBL/XD8p/xz/P365vjg9+P4BPt2/Mv73vi79WP1uPfT+N32bvUw98v4Gvdz9Rr3y/gw92713PbU+MP3YPWR9eX4Nfxq/A/68/jB+mT8C/vx+JT5bvz9/W78kvny+B77X/yB+v74tfpZ/LX6/viB+l/8HPvz+Kb5afy8/Xn8Ofrg+JP5evyZ//X/qf2B/E/+8f+Z/n78I/38/4sB+/8a/YD8sP7u/xz+hfwa/vH/2/3v+HD1VfVB9+L4Lfnt+AX52/g6+O/4H/z6/1kCkAMZBRsHJQgZB8wEkAO2BBoHTAgXB7wElQPtA4MDagEKAGcBhgMkAwEA6/x4/GT+9v/W/w8AGgJ7AwYCEgADAO//9v2B/N799/9x/3f8vPnk+Cz55PhP91f1hPRb9Ur2UPXZ8tTxivNL9UX01vHr8L3xI/Nk9R341/jT9mf14PbS+NL4+vgU+178ovr2+E/6Z/yx++v4evfk+G/7cPwG++n4Kfjj+HT54/gn+Or4Gvtr/C/77/ge+Nr4Ovp+/Cf/9/8w/nj8V/3//20B/v9M/Xn8RP74///+e/xc+2z8V/4FAMsA/P8C/nb8M/xv/FP8ePzR/fr/+QGTA2cEiANYAQIAEAGOA+YEiQPjAAYAxwGHA6sCAwCg/gAAlQKHA/gBCwC5//H/g/8SAG0CeQOAARUA1AF3A+oBFQBiAXoDrQIRACb+ZfwH+u74avpv/An84vij9WL1wffU+Nz2bvUw98v4Gvdz9Rz3yfgc93P1HPfJ+Bz3c/Ub98r4Jvdx9fz2z/hu92r1YfbV+Ir58/ja+Nn4Xvjx+B37Z/z++vP4kvjV+Gj49/hR+178Yfr8+Mn6Wvyr+v74jPpc/P36+Pjv+WP8F/2B/HL8ZPzN+4P89f7t/+f9ifxa/uf/L/6O/Dj+5v9N/or8+f3w/+D+fPyu/AAAUAOFAysBDQDdAX4DJwILALAAiQMZBYkDrgANADoCeQOeARcAxwF1A+8BFABeAX0DtwIKANb++/8HAo0D/wOTA2MC9f8X/YP8t/7s/wb+ifw4/uv/eP6E/JX99v+w/3f8X/nk+Lb6cfzL++j4GfZT9aj26/gt+tz4IvZj9WT32fhm92H1D/bh+G364PgE9mT1kPfR+PL2cPUn98r4G/dz9Rz3yfgc93P1GvfL+DH3bfXT9tb42Pde9Wf15/iP/Gn8hPhk9Tn22fie+e74pvlv/Dr///+A/nn8xvtp/LT9DQDgAnwDSgEUAPwBdgO0ARoAyQFyA8cBGwDHAXIDxwEbAMcBcgPHARsAxwFyA8cBGwDHAXIDyAEaAL4BcwPdARgAlAF2AzoCFgD3/+z/5v2G/CP+7//J/oP8APxj/BX8g/yr/vD/Yv6F/JH8Xvwv+vz43/pa/JT6//i0+lj8rPr/+Jf6XPzr+vb4BPpq/Db85fiR9WD1w/fU+Nz2bvUw98v4Gvdz9Rv3yvgn93D18vbR+JD3ZPUE9uD4bPri+Bf2YPVP99z4mfdd9Zz15vg1/Gr8Bfr1+OD6X/y/+vn4Tfph/IP79Pj/99f4OfqB/E//8P/G/YX8WP7s/1v+iPy+/e3/KgAPAMUBhAOsAgEAjP4GANcCgANUARMA8QF1A7wBGgDIAXIDxwEbAMcBcgPJARoAswF2AwcCEAAgAYQDUgMAAK78fPzg/vD/+f2K/E3+5v85/o38Jv7q/3n+hPye/fT/mv96/JP54Pg7+nf8qf1u/OX56vh++nD89fvl+ND1XfVH99r4ufj0+P36Yfzz+vb40PjX+BT3YPVA9uL4Qfri+D/2YfUd99b4ufj5+Cf7XPyC+vv4l/ph/Bb78fiT+W78/P1v/J357/j0+mb88vrw+LD5a/zF/Xb8GPrl+Of5cfzV/g==\" type=\"audio/wav\" />\n",
       "                    Your browser does not support the audio element.\n",
       "                </audio>\n",
       "              "
      ],
      "text/plain": [
       "<IPython.lib.display.Audio object>"
      ]
     },
     "metadata": {},
     "output_type": "display_data"
    },
    {
     "name": "stdout",
     "output_type": "stream",
     "text": [
      "Playing poisoned audio for sample 0\n"
     ]
    },
    {
     "data": {
      "text/html": [
       "\n",
       "                <audio  controls=\"controls\" >\n",
       "                    <source src=\"data:audio/wav;base64,UklGRiA5AABXQVZFZm10IBAAAAABAAEAgD4AAAB9AAACABAAZGF0Yfw4AACF/BH8fPyp/Ib8ifx7/EL8iPwY/Xv8b/oF+f75gvzl/Xr8tfkP+TD7bvyg+hf5rPpr/Af7Fvkd+m788PyT/PD8bvwe+hX5/fpt/Mv6EvlY+nX80vsG+YX3A/mz+3r8qvoJ+Qf6e/yK/YD8bfuJ/CL/8f/l/Zb8Yf7o/zf+m/xB/uX/QP6c/ED+5f9A/pz8P/7m/0r+mvwh/uv/kv6T/H798//DAAgApf/+/z8A/v+l/wgAwgD0/4j9kfxy/vD/dP6Q/H799v/hAAMAX/8CAM4A+v+0/Yj87/39/6X/f/xF+Qv5Y/tw/IH6F/nL+mn81PoZ+Y36avw7+xX51vjy+D/3jPVx9vv4L/oF+dj2ffUr9gn5G/x1/Cf6E/n++mr8rPob+cD6Z/zT+hj5gPpw/GT7Cvk7+YH8xf/4/5z9kvyA/ur/Lf6b/ED+5/9U/pf8Af7w/+P+ivzG/P7/GwN+A44BAgDrAH8D8QR5A64ADAAxAmwDlgEYAMoBZQO/ARsAwAFkA8EBGgC3AWYD2AEWAHoBbQNxAgsAVP/+/2v/evw9+RD5q/tv/Aj5k/U99vb49PiE9STyCfJs9HH1fvMY8tLzaPW98x3yvfNo9dLzGPJ/83H1YvQL8kPygPWu+Pv4z/aO9QT38vgU+RD51Ppz/GL7Dfk0+Pb4UvqL/Cv/+P81/oj8dP37/zMBAwDH/X/8Vf0BAL0CfQP7AQUAXf/4/0UBigM/BvEG+ASPAwUF7AbuBhQHMwlnCo8IFgfOCGcK0AgVB30IawpoCQ0HdAb3BhoGgQP1AAMAUwD4/yL+i/yA/Hb83/oK+a34/fgK+ID15vIK8ozy9PGX75XugfDs8Trwl+4J8PHx1/CO7uHu/PHl9IL18PMG8l7x+fE78471U/jx+M/2k/VU9+/4f/eS9X/29PjC+Qr5rfj9+Cn5AfnW+Ab5Uvn5+Eb4Dfls+3L8oPoT+W36bvyK/JL8cv70/7L+h/zS/AEAOgN3Ay8BDADKAXADJwIPAK8AcQOwBQwH3wfxBn8EjANgBfQGsgWIA/AD+AbSCYQKMQn5BrwFBwe4CXMKcggNB5AIcAqHCQoHGwb4Bp4HAgd2BX0DkAEBAID+fvxH+gb5Cfn7+Jj3ivXQ8/jxt++P7uHude5I7BDroux27oPtDusP6vnqiOyL7srw+fG/8Qzy3fN29Xb1jvVC9/P49/gQ+db6cPxO/JL8sv7u/zn+lPzc/e//IAAOAMIBdQOOAgYA0f78/ykCgwPJAvz/D/2F/Gj+/f8W/4H8D/uH/FL/9P/R/ZP8Vv7t/3T+kvyo/fX/nP+I/K35/PhQ+of8xf14/MD5D/kn+2/8rPoW+Zj6avwv+xj5/vjs+OP2lPUy9/P4y/eK9dX1//gV/H/8kvoH+fD5evyj/gUAlAF8A1IF/wa2CIAKWQz6DYAPhBHOE/YUxBQEFc4WeBjNF/8UWRJ9Ed4RfBHfDoAKRAZ+A9YBAAAE/QL5A/UB8gbwg+7o7ALrFOmF5wTmAuS54YbgcuEC5G3mhOd354LnqugE62DtgO5g7ofu7u/78bbzifWn9/r47vgG+X36fvw+/YH8wvuB/ID+AABL/4D8rvkD+Zj6ffwD/Yb8Sfx8/JD8hPyS/H/8QvyC/Nr9/v8QAoQDEAR3A6ECjAMPBu4G8QSRAzoF7AaWBY8DYwTyBgIIBwdXBXsDfgEBAJT/AQBxAP7/cv6D/L76APkg94D12fSI9WT2d/UB8w/y4vN19Sr0DfKJ8nr1HPgF+ef4//gv+oL84v7+/+L/BABuAXkDPwUGBx0Jdwp5CoYK9Qv1DZUPiBEBFPEUVhOLEXkRcBHCDwoO/w30DXILBQfiAvz//P2D/Br7//jM9QTyT+7/6n/oiefG53znvOUM5MDj+uO34w3kyuV756vniee16P/qD+2C7u3vBvJP9Hr1RPWL9U33+PgY+Qj5Z/p9/E/9gPys+4P8qP7+//j+gfwv+4T8Fv/6/0r+ivxW/fb/LgKKA0wEcwMdAQ0ArQFvA2MDkAOUBe4GawWOA4EE8gbbBwsHnwV1A+MACAC3AXgDtQIGAKf9evwl/Ij8Gv15/Hn6Cvkc+ff4R/eL9VT1evUi9AjyJfH98brzhvVk9n/1X/ME8uTygvUG+P/4x/gF+Yj6ffwf/gIAIwP/BtMJfAr0CYEKbg17EVIU/xSwFPsUchaBGKQZdRj6FQkV5RXuFBQQjgr0B/EGRwQKAC78+/ia9QTyge4D62rnAuSC4YXgoOCE4CjfA93I2wfdaeAA5Drmh+cG6f/q3OyE7izwA/LW83/1D/cE+SD7f/yl/IH8e/0BAKUCfQMWAgAAI/8DAAEB9/9g/ZH8mv7t/zL+lvwU/u7/w/6P/Az9+P+LAoIDiAOBA6EDegMTA4YDTwX3Bj8HBwdJB/QGLwWMA2gDbwPHApIDPAbqBo8DEwDZ//D/G/yN9XnwfO5G7oXupu6C7l/ugu6p7oLuPu6D7szvA/JA9H71mvWH9bD1fPXl9If1gvh8/C//BAD6//z/7gCEA0wHegpTDAEO9RD8FOkY+RvyHgIjkSfwKdkohyYHJe8iXh6GGD4T9w1RBwMA3fmA9Sbygu666QfkV96A2WvWDNbY137ZotmL2c3aAN3a3ofgNuOC58jsAfIm9gL56fqA/Bz+AADvAX8DEwR+A+kBAAA0/n78r/oG+Xv3evUp8wzyZfL18czvku4d8PLx3vER8gb19Pgt+4v8Vf94A2MHhArZDPgN+g0DDmIO+A0yDIQKOQp5CoYJAgepA/7/QfwE+cv2fvUG9Yj1QfZ49TLzDfKI83X1qPWO9Q739fhV+Qz5Qvn4+Dz3iPU79X/1f/QB8oDvhe7G7n/uxewH63vrge568oH1TvcE+d/7///rBIAKLBF9GAYf/CLgI/oiFyN/JiAtcjRhOgA/M0JzQpY++jfuMAIqoCBvEXL9Fuu83vDVn80dyHjIcctpzJrLXMt1y6XMldJS3vnq0PKF9Z32BPnW+3b8YPoS+aH6bPxM+xX52fdu9QvwFOvo6fbqNOsL60rsfu6P74LuUOwH6/Dre+6g8Yz12/l1/JD8jPw5/vb/AAAJAIAC9wY2CwAO/Q4ADhEL+AaxA4oD+AXyBicECwCq/Xr8svoB+VX6BwA7B28KuQeRA4MCbQNvA5ADewXwBt0ECgC2+nn1xfCK7qTv+/Hh8gjycvB87lLsC+sF6/nqaOoP61XtdO7F7BPrJexz7uTvEvLj9nP8ZgCLA0UHdQoeDAcOXRJ3GGceACPnJXomBSX4ItcigiZsLWs0rzkMP5FE4EVvQBM4ni/lIhYOkvXD4H3Sb8mHxDDEEMhczfTOhMsgyLzJ686i1aLgCvBk/Fb/mPxb+u/4tfUN8rvwAfIr8/nxe+4Q62Xo8eNQ3ZjZwdzz4ybqje6S8n31SfX/8Xruje4b8/L4+/wRAAwDbAP3/5H8DP31/xAChgNVBnsKuw38DRYLAwckBH0DtgT/BmUJggrKCHYDsfwN+e/69f8lBYgKnxD3FDAU/g3LBQUAlP75/8kBiQPVBHMDvP2N9c7teOd44w/kIel47hrwie597P/qYumE53Tmhue76n7u//AG8jvyAfKp8f/xNfQL+TD/cAP8BBQHQwvlDS8NGw6IFOEb7R6VH5Qh6CJEIYgfXiL1KTQzcDtEQo5JDFBUUMBIJz+cNEcfHvs51ry/XLYesiuzXLzzx6nNist6xpTEAclt0orfKfKbBkkRzAy4AwP/xfhM67/g4+LO6ijtKusb6mjnT98S1lXTh9mU5HbukfQU+fH8afyt9Zvupe3u8SH3kPykAvMG7waEA3T/gfxb+378bAAEB/4NdRGPD4QK7QWAA+ACewPfBYsKAw/qDdQFl/xq+On4//uZA0UQ4xuUIJAf6hvuFC0KCgB++3/8W/56/CH2je6e6PXjV+CU4HDmde7L84v13/T88ershucz5Abk1uV+58bnieen53vnxeaO56br9/HF+A0ABAdvCigJEAfWB24KIA2OEdgYcB+GIYIf8Bz/Gx4dbx8RJI4t7TrVRRFLo1CfWUReSVgrTaJAySluAi7WibXupEegGqX1sQjBFMt0yx/FKsGExdnOtNq97qoJuxvdGToOaQVM/F3sLd2O2W7gOOgE69HoEOQJ3uvVR84uz5rb1urQ9K78MQXSBkj8p+7h6Wvuk/WN/NUDfgp8DXEK8QKV/Bj7bPxq/pQD/QzrFAgVBw6PBQAAZP79/zYEhwqEEHQR4QoDAGX3hPV7+noD4w2HGBgh7SJ2GwwOWwB39dHujO6J9Hn8BwECAFD6AfKw6QHkDOOL5y3vePVZ94n1f/H96gbih9nu1YjZMOL76jDwDPJ98vXx9vAS8qT2dPyNAQgHVw14ETEQfgq2BQYH2w50GE8fByOEJXImMiX/It4ifCbtLew3UUOMUMxc2mFfXRRUrkffMJkKF90at4Wh/5uCobetoL2fzF7Sf804yDHLUtJz2b3n5f/DFCcZrBELCF78BOwW3djXCN355GvnnuOm4NbhWeA52LXSQ9lZ53Xzovx7BOgGZgCK9U7uie618/D4/PyZA+YMXBE1DJ4DvP/q/8n/DQDlA3sKLQ/1DTwHEQCy/Gz8GP6XA2MMaBFMDY0Dq/v5+LD6AQD/CAQVpyBvJhcjiBjfCnf8Ve+N59/neu6m9of8vP35+AHwjOdx4/3j0+eK7qz2evwy/IX1HOuE4M/YAtbI2Izgbur18fP0kfUW9m/1zvOX9VT97AZ0DYwRmBVzGO4XAhU8EwEVAxp0H4AjiCY/KeopyigKKgQxYTuDRZZQDFzSYQteHFRcRFYmJ/emxDWheJPulhGlmLiRyyzYZdm70bnLss1J0mbXzOcrBasbRBrLCpv9vPG94T7W8ddh4I3kDeSP5IznAOhn4NTUs9ID4M/xu/sxAFsF1Qan/hzyuur66nLvevUL/RQHURBcEd0IJwCr/tv/yv2i/CMCZAqeDYwKAAX//9r8fPzf/wwH8Q5sEQgMkAMR/nD8tP2OA/YO8humJIEm+SF7GCoMAADL9gPyE/EB8qvy//FQ8Ifu6Oz+6p/pCOvS74P1Evh49bHvFOtu6OrjxNyk2fneY+cd7J/uhPJr9Uj0EPKN8/74G/97A5kGiAo1D28R0Q8PDisQ8RQpGQUcXR58H4ge9Ru3FH4oViM0NFRDHD2dVz9bBFfxY2tP9kg1Nnr6j9NkohuGSJWrkWSrRs5d0CPfz9NGyjjbu8vx1CzxEP5kIl4koxJoE+r1SOn44e7JwtuK3lDV/OXi3mnlvubuyVjUi9vU4bQB3/9ECDsSx/op/Anxo+QF93Ds+vJoB+MBAhTNEJD/ewhu9hD2kQQY+4sODBGNA2kPbP+z/FEGu/cKC+kUJQ82HfIHb/ySAczwAgJNDjwRhC7wKB8m0irrDLYGpPlY5mL2X+3Z7Uv8EurK7vvrWt4y7yXkEOOK9sTtbfo4+ofnnPIG5KHb0eSf1e7l3u845Av2jfE78Gr6XOft9KYB1flHDnULAwxjGvQGFwwEEM8DgBilFkMW3yatGLkivSj6GM0pdylqLllH8kJFVnNkVVaNYTxStzgBIx7habXzmQGAM5ZtoD+w19en1kHb2dw1zkzfStkJ2pwB7w4tImYm/Qk1CSn0CN2G4Y3Qodpc58bWMeYT6CPgIeTryYLQluew5tIB3AmPBrMRevf17n/yyeJY897ziPEmDSgJYA04EhH8hwSj/tb08wl+AnsHXBJdAT0LwAOn9PsFVP+ECIQZzAruEfQF9vDG/q74JAUiHUoXIyo+K8QaeB+BA0X0z/ZH5U/1hPqz8Kj+SOsg4Hvl09X75tXuk+nJAST9bfyHAXfjtd/n1+rJnuCS4UnrC/6R7HH08/Y56T32euyX8hsMpAMLELITOAVKEakB2/pYDLYGEBq9IT4TDyLyFhoPaBoBDTsdSCyeK4ZKUU+QUuRjnFTgW/JcHEQIPSQNlNOLsa6DlYIskC2Vpr8M0uTcefAR3M3Zh9kCzUnrCQBWF0g2ECELFX8IYuVr3nrIzb/Z16jSHOAW7ZDeM+ed1iXHjNu93hT4WQy2AY0R2AeV8gP0N97I4tXvL+lFBUwPwA7VHeQHAAKQBLDzkwWtCAkGRhrfC5wIQghQ8JP8e/7r/MAW1hC+ElsS3vNM+OL3OfiSFs0WAyQjNs8k1SbQFzgD5wsW97nyZv397FXzEeeH0XDeAdZC3UTvRubd+r//I/Lo/T/uW+eK6G/R0eAf63LlrPac6qfqLvnv6XD0EfaT7WkEif/lAiYTiQITCeMHBfy9DtUEkwJGEj8GOxMfFkAIJRlMEq0Tzib9HoIzWkCyN+dJ8UPxR+1ejlMXWUhSPTGWH4PmT7E6ntKBYY8gp4i0/dwB4eDadeGty9bTNN8y3WkDbhhwJyo2bBV6BXL08tGo1SPNVcyU4Y/Wo9/V5hfWyN/M0jHMZOY96CH9mw3yAf4M5Pvk5w7wleHN7EH8GvXUDJwPjApMFmcBtQJwCp/7kAxBDNsGWRWeAUT/vAO38zMFaAe+BgEezg/UCX8HDvJhAa8DCwOoHqYa4B+VI48IsAt2AsH0WgMT+BH/MQvR9fD5UPCR34TqY9we42r2+OwU/RT8cu0P9ifgcdme4dDTwOcd8U3tEgD48VbuvPas5XD15v0o+3ARRgeOBN0LkPUY/CH7j/B+BZkAugV8FlAHvhD8D+4BwhPzDgwXDy9+KGQ6rEFJNv5EQjlFODBL2kH6TopNzzJ9KoX6ZMjprUSKMZU2p8mtgNNu277f2+wb1+va9N8c2/L7XgnsF8IrWxCjBIr2eNer2NTKL8zO5TLcx+SE6YHX8d8U0h7N9OUd5tD8Xg2PAd0MU/wO6oLwmt/x6pD6EveMEiwV/Q91GroDGwPOB5H6yA6MDmYJ6xYiAkT/w/+Y7Jj96wBIBOEdRhPpE2cSGvfX/U76p/rMFgoTGx4VKpUWmhosDEH8xAh+9zj3M/9H8Mj95vMF3VHiCtRQ3rPxaOlR/Dz7AO0x97/kg+G/5nbUu+Wg7WrsigF68zPvk/SI4mLyfPhG9egL3gLfA/8Mn/dl/df4Tu1EAXX6DQDNEcEFoxKfEToEKBZrEDIYry1oJew25juZMPw/JDNWMAM+oDMrR6JNSjzoPxIhAP9M4dqnDJqYm6+eLcWUzljYIOvg2NLb+dpB0uvuFPULAjYdDBGGELMBCOFC5EvWQNQi6NTckeXy5QvSGd3+0e7MG9+Y2VjxrgVE/9wNm/6j7532TOSy7n37hfWXDUMNYwu1Gn4HIQjDCYH6VQ0vCwQOMw51Cm8Difzp+Pn4XfyLA1UN8BQ5FooRign1/6n3jfXn+/gGgBD+FLUUfxGyDPoG4gEGAH8C+wZGCfwGugAH+bbx+eqT5RLkF+fz6gXsEevg6XXnUeOQ4EXifOcs7QXyCfYA+RT6//jE9ob1fvb/+Ej7gPzE/IT8cvv7+Cb2ifVe+Hv8Hf8DABcBfgP4Bn0Kww2EEX0W9RtCIYQmWCtwLRIsBSp9KmottjEHOPY+ckKkP/U3ZS4OI8MQ4/HSy7KvlKherwm4MsH0zWHZl90b3bPdfeB+5AHrqvWIAyQO6w2qARfyA+jt463hmuAO4XHgAt2P2drYftlK2YvZxN2A52/0AgCgBX0DR/yF9SzzffVL+gUAyQV3CiANAg5FDXwKawaBA88DAAdACnkKXgeGAzIB+P8T/wsAbARzCj4PiRF4EHMK1QAL+cH3e/ycA38KZRABFQ8X8xSCD4wKXQj0BsoDBgDO/X/8Ffn/8XrpCuQb5HznQ+oI6+3qAesx6/7qiuoO697sc+5b7xTyzfbr+NH1GfKT8mr1HfcX+Qb97v/1/o/8Cvx3/F/7B/nG9wL5Qvz8/2cDCAcaC/ENOg+NEZ0W7ht9HwkjfihuLdYugi2ELHEtEDCDNEg5dDvgOPkwJiMEDunw+c7BsSClU6xtvXzMItYc3OXcrtgi1rHa8+PO7Qn5SAZ9EeUS8QY28xzkluDl41Lmpeda6WHnAN8e1mzT9dUf2pDgeOv6+JsDAgdqAgD5oPCE7orzgPz0BH4KMA37DRwNfwqvBoIDVAP7Bs0MghFrEXcKHv+J9WPyffXp+4QDZQt5Ed0SAQ4YBP74m/KJ9dQA9Q1kFoQYQRZ1EZULBgejBfwGMQl/ChQJewPO+YXuLeWE4J7hgudf74T1uvb88ffpDeSo43nnjOwR8iz37vgO9hXyA/Bw7qjsle6A9vH/kQSJAwAAe/zn+QT5IPqB/Nv+AQAu/338qPkH+aH7+v/JBIYKrhF1GAAdgx9oIfgibyR7Jqwpfy1sMOsw4S8RMWE0YDRILpUmFSDpFJr+juCjxYy2brT4uRnCostA1V/Z5NYt1mPdYuc47p311wHqDVQQBAfT9wnr2OTz4xnlmuf46WfnkN4f1gDU8NU72Bfdw+d19dX/ggNhAYX86fd69ZL2i/z3BfMNWhAFDkgK+AZ5BIUDngT9Bk0JfArTCQIHQQJ7/E34Cvkr//gGTAwCDjUNfQrQBf7/0PuJ/KYCcwqsD4oRAxHtDU4JEge5CGsKEwkSB1gGbQOk+o/u7OR+4KfgBeQ06YXu//H88bvuCuux6fzq4O0K8oX29/gG+Iv1jfP48crwC/K/9nn8zP8EAIT+f/yD+gH5ZvgF+a/6e/wL/gcAYQJ4AwgDhwOAB/cNKhSEGAUb9xvKHIAfqST2KfMsfi03LXItkS4HMREz6jBuKYwfIxRyA5/rjdK5wYq9R8L7x2nKmcvFzm3S9NSf2TTjbO6B9xEA+AjuDToKCQBf9X3unesD6ynqhufb4v3c3tcL1mDYAd0Q4oTnKe6E9Rf7e/xr+gz5Xfvy/98DDQfKCW8KeAgKB28IdQreCQcHgAR5A3EDggOkAgAAIvz/+NX4hPxeAvwGVAj/Bv0EgwMmAvj/Q/4MAIsFbwpdC4sKiwv1DQcPAQ4wDIEKGwh5A4H8h/Xd8IDu0ewB6wHqCOtl7Xvu/OwL64DrfO4w8ob1Cvj++Nr3hfU/8/7xkPKG9b/5e/za+wb5dPZ99Vf2BvnZ/P3/9wACADr+fvyb+4b8k/94Ax0HhwpWDfMN7AwMDvET7xtRIogmYynwKQgofyZaKHotgjJ7NIQydS0lJgQcWwx49YrbFsh+wXXEPMmayzfL8sfLxBjIUdT5433wB/k5APwGMAr5BjP+j/W28e/xffIW8lnvcOdj25XSzNJ72S3gCuTa5gLrjvB99Rb4CvlH+nj8av+FA/8HegqXCf8GpgUBB4wJeQrvCAYHrwb2BuIFhwNjAfv/Xf8DANEBfgP/A38DHQOBAxUEfAOMAQUAuAB5AwIHgwo9DfkNeAyCCtoJfAodC30K8AeEA0T9ePUz7hLrnuxy7jrtE+vN6vXqSemN5zHpfu6o9AP5TfoA+dH2gvVR9YP1efV/9X32BfnF+3v8wPoH+bj5f/wW////0v8GAKYA9/+s/Yz8/f51A10HhwofDnYRmBMFFbMWdhjWGoQftSZyLd0w/DB0L30tnCp3JkQifx+vHPwU6QMB667Si8QCxILLENKJ0rjOg8ugzIfSGtsI5L7sffWN/YEDrQT+/+z3B/LL8Xn10feM9UPu9+M425HZrN925x/rEuuw6vLqruuT7hH09fgV+4j8qf98AwUFfQO3AYgDGwnwDQYOjQrABnIDlAAKAAUD9waKCAIHpgMAAET9f/yu/oMDrgh7Cu8GAQAw+gP59Px7A6wJBQ6yD/QN1wkJB98HdwqiC4IKuwd+A0L9fvVx7gvrCOx37kPvkO5c7fTq0eeT5yDs9PH39I31ufV79eDzBPI+8oX1APp7/Hf7B/kD+Pz4t/qF/HH+/P+AAAMAmv5+/Br7hfxIAfwGdwp/CoYIAQerB3oKCQ8EFVgbdB8nIIMfUiD1Imom/SnWLHstMSr6IuEZfRGXCoMDTPn96iHci9Kd0IHSltIJzz3LiMsl0YDZSeGL5wnt+/HV9QX5hPt+/Ef7BPn+9nr1z/MN8oXv9Oqq5RPkcOf06k3qj+d45/7qVe/+8Urzj/Vz+Wz8bv0ZABQGYgpECRwHeQhiCvUIGAdsCGsKcwkLB14G+QZDBn8DmAAGAO8BdQNwAgoAL/55/EH6BPkC+wEAFgX4BlgFiQNgBPQGFAmICoALdwoVBgMALPsA+dn4APn694X1KfJ77o7rDevp7HfuVu6O7n7w9/G18I3u1+768e31Bvkv+v/4lPaC9af3gvxbAX8DZAL//8/+BABiAncDFgOJA6oF9QaBBYcDBQV7CvQQ/RS+FQAVjBV4GDwdASPnKHMt2y8DMckwby2+JocfSRlzEQAFivVb5/7cc9aK0nrPhMsTx4nEG8aFy7LSh9ks3wLk2+iE7l70/vhv+4b88/x3/LT6DPnZ93T1Z/GP7njud+6h643n2eV85+bqiO4x8f/xkvEE8rH0Afkv/f//uQGBA40F/AYyB/8G6geBCkgN9w0+DIgKdQpyCtIIDAflBvEGcQWOA1MC8v/M+xD5Hvp0/P38i/yO/fv/JwKAA98EAQdkCXkKUQkEBwUFewPJAQEAWf6C/KL5f/Uu8YXuG+6C7qjtAesy6IjnO+n76ibrDetj7HnuGvAI8kD1AfmX+3z8Of0IAHAE8wauBYsDHgT1BmYJhQrkCn0KBAn+BuUFAwdjCvgNMRCGESoT8xRPFwccWCPwKfAshS3KLXItASt/Jm4gfhiYDf3/I/KH51rhAN0I1wrP4seExCXGiMvB0QfW+NeB2R3dCuRA7PjxAPSO9fT4cvxB/Y/8ffx0/PX6C/mW93r14PGG7njtgu5z737uLewM62Lsde7Y7xPyEfbt+NL4GPls/Oj/NQGXA0EJ6Q1fDY4Kqwr0De0QgREVEP8NIQx6CrkIAgd9BX4DVQCB/KP5AvmD+oH8RP2C/K77gPyF/34DYgYCB5sFewNZAoMDAwb6BogEBQDZ+/v4+vaG9Sz0APKe7gPreeiF547ngOcn54nnJun76mPsi+4Z8nr1XfcH+R38/P+lAoQDcgN6A3oEBgfhCXUKeQgKB1gIdArrCogKoAv3DQwQgxEXE/kUtBf/G4oheCYtKf8pJyr0KeIogSaBIXkYIAwAAFP3BPKu7P/jndgNz/rKf8txzQrPmtCI0nTU/tUo2A/df+T66rfth+7O8ID1LPp//Ij8gfzg/QMAIAB2/FD3kfXk9+/4pvSU7nDsde7s8AvyT/L88YTxB/LA83z11PYK+ab89v/BAYkD1AZ2CrMMAw6nD3sRSBJ8Ea4PAg6mDHcK7waIA4oB9v/m/Yz8tPx1/I/6DfkW+nf8XP4FABICgAO6Avr/FP4JALoE9QZBA4j8Y/j9+KX7gPz1+Yf1d/F67jLsC+sn6/zqY+mK5/TmfOei6Azrxu748aTzjPX++Hj8bP4GAAsD/AbHCX4KIQqCCjsM+Q1yDgMO1Q38DQYO/Q3nDoIRVBV2GDcaAhw6H/cigSV9JsImeiZoJIAfnRf1DUMFDACK/HL1G+kW3R3X9tXy1JDSU9ACz3fOBM9u0QrW0Nt/4LriCeSf5vvqH/CK9TT6dvxG/I38lf7y/4v+j/xO/HL85PoO+c349vii94z14vP38Ynvje4V8PjxOvIL8k3ze/VM9wT52vsCADwE+AZYCIkKXw5vEeARjRETEm4RAw6MCtoJdAqFCQMHxASAA0EC/f9v/YX8Cf7+/5f/g/xj+f/45vsCAP8B/P+j+wn5F/p0/DL9kPx8+/L4tfQQ8jrzdPX39BHyqu7z6pznk+dY63Pufe0R62Hrde4B8o31bPl4/Bj+CAB4A/YGDgmGCmUM+g1MDv4N1w6CEXMU9hTmEocRyRN0GK4cgx+aIfgiTCP7Itgi/CJUIn8frBl2ETMJiwOJ//T4WO4P5J7e/dzG2gbWBNEMz4DQftK+0ovSrdSG2UvefeAa4Q7kzer48V71iPUG9v/4Hv39/4gABADj//3/7P6A/Ab6BflA+fv4R/eH9TD1f/WW9ALyU++H7vbv+/GA84r1APl5/IT+BADMAv4GIwv8DbkPgBGhE/wUMRR8Ec8OAw6YDvYNzAoJB9AEdgOoAQYAvv/+/wf/gvzv+QD5OPqE/MT9e/zg+Qn5zPp6/Ib7Bfnc9wL5Pvr9+Ez1CPJQ8f3xQvGF7sLrAutt7IPuX++B7oHthu7Y8Xz1tPcJ+bL6efzv/QYAbgP7BkkJfwrTCwEOaBB2ESgRihGME+4UihQOFX8Y6htqHBAcoB1nH3Afjx+3IGwfOxmJEcAMdwrgBgMAC/eC7inoAuSx4ATdHtkK1g3Uf9KB0YzS+tWB2Yrahdly2Qfd5eP86pPvCvLa83r12vYF+Xn8AABoAfv/Vv2I/Er+9/8I/4z8j/r3+PX2ivWD9Xz1CfQG8jLxAPK084L1P/cD+df6f/wB/gIAHgP8BsUKAQ5kEHgRbxGGEQkSchFdDwsOcQ7wDaUKCgctBvUGUwaHA+n/e/zw+Qb5S/n++Fj3hPXp9IL1CvZ89aj0jPX59/P4GfeS9fv28PgX+JP1vvPx8W/vku518PTxiPCP7kDv+fE79If1+/YB+QP7fvzO/QQAgQP6BigJhAolDPgNpQ+DEasT+BT6FAQVbBZ0GCQaCBxWHm8fCB+HH90h9CKFH38Y0BEADpYL+Aaz/ov18u746o3nDeS84PzczdgP1rLV+tWf1RPWENh32QjZkNm/3frjrOgK64zsfO5W8Yj1/Pl4/Hb8jPxC/vP/+P8NANQBcgN/AgoAEv55/IX6BvnK+AH5Dvh/9cnyB/Kf83z12vWI9XX2/PhT/AIAxwMABzYJeQqwCwcOzRByEXIPCg57D3ERvxAIDs0LdwrvCAIHLwV+A8ABAQBR/n78nPoF+Yz3fvUi8wTyIfOD9cz2fPXc8gvy3PN49WL0CvIn8f/xofL/8SXxC/Jz9HT1rvMR8knzc/XV9Y/11Pb2+JL6ivzx/3cDowUGB8EIdwreCwYOkBH1FPsWhRiJGvQb/RsDHHgdeB9NIHsfyh0CHIkZ8xTlDosKBgnyBhQBC/mI8n3uO+uF56fjheB43gTdW9uD2ZPYidmm2wDd29wI3YDfAeRR6APrguyF7s/xffX79wX5L/n/+Lb4AflO+oL8uf79/xkABABBAPn/bP6L/Aj79fhR9o/1f/f0+Ij3jvVD9vf4K/uK/Cj++v+hAYMDnQX+Bi4H/QblB4MKXA33DQ0MiAqnC/QN1Q4FDo8MewpFB30DrwAGAK0A9v+u/A75EPdz9SDzEPKv83b1hvQL8vHw/PHm84T1IPaE9ebz/PHz8AnydPR69eTzCPKm8n31G/gD+dL4Avlg+n/8ef4BAJQBgAN7BfwGTwiDCgEOeRG0EwAVgRZ8GHga+RtjHYIfBSLxInchiR9cHu4b3haLEQ0OcgoyBIr8SPb88XXuBuuX5wPkV+AD3ZraiNl92YHZN9mJ2QXbAd2o3ofgiON/50/riO7a8Pnx0PKL9d75d/xO+wj5Tvl+/Jj//P8I/ov8rfxz/Hv6Dfla+nj8DvwF+R32gfUR9wD5p/kD+Wz4Afmn+n78Kf4EABoCewOgA4ADjAQBB4cJeQogCoQKbwz6DR4Nfgr7CIQKcQ31DcUKCAcRBvcGfwaCA5L/gvyg+v34CfeF9T71gfWa9ADyOu+G7jnw/vFV8Yfu2Ov/6h/she7m8P/x2/EG8nTzfPU99wj5Gvt7/In8hvzP/f3/8wGBAyEF/wbfCHwKDgwCDjMQeRF7EYMR2RL4FNcWghhuGvYbYxwDHPcadhitFIQR4w/4DagJhAOf/f34SfUF8r3uAOsV5wfkIuKA4I3eCN2v3ALdDN0G3frdg+AK5IXn6On+6ujriu6b8nf1rfWO9R738/gb+Q/5nfpz/Ln8jvz0/HT8U/oL+W76e/wP/AL5//WG9Vr3+fgF+Qv5nPp4/Nj8h/yH/f7/ZAJ/A24DggPUBPgG7AiICnoLcQrkBw8HFwlrCrEIEweICGsKXgkOB4sG8wbfBYYDegH+/2r+f/yL+gb5o/d79fDyCPKR84D1FPX/8dTui+7I8PXxRPCR7qvv9fGI8gvy7/J+9ev3A/n++AH5JvqB/OL+///r/wIATwF+A4cF/wZ5CIAKsQz8DRgO/g0QD4ARART4FKYUBBXsFnYYmxcCFcESehE0EP4NvAoAB2YD/v+A/AT5mvUA8jnuBevr6IHn7eUH5CXifuCZ347g1eL141HjFeTA5+7q/OoY60vu7vGQ8hLyXPN39QD2hPU79gX5Afx3/FL6D/mv+nD8UPsT+Y/48Pii+BD5LPt1/AX7CfmM+X/8Sf/9/3H/BwAwAncDHQIFAF4AfgOTBv0GDwWCA2sE/wZyCPkGLwSLA6kF7QYvBZMDBgXsBuYFjQPzAncDmQIBAHb9hPzJ/Hv8v/oI+cH4+/jg94f1V/P88XfxC/La8vfxgO+Q7mrw9PGT8JDuOe/38TT0ifUR9/740fqC/D/+AAC3AYEDVwX7BoYIhArKDPUNvg0KDvAPbhFAEY8RuhPrFC4TjxHxEu4ULBSJEYwP9g0XCwQHFAP9/9L9hPxL+//4evUE8r7vg+4y7f/qkuiL5+Xnd+dY5RLkeOV156rnkOcQ6fnqV+sI6wXsgO7h8APyAPIA8hTzhfUP+Pj4dPgP+Wf7bvx7+hj51/po/MH6Gfmg+mz8GfsS+fD5dPxd/Yr8+vt6/ND9BwB3AnUDBwOLA8gF8AZEBY8DtQTuBnMHDQdJB/MGBgWIA5UE+QYNCAIHBQV+AxMDfgPeA4IDMgL7/5/9h/y//Hr8wfoH+bf4/fj/94P1DvMD8iPyAfKV8ILuee2F7rLw/PHZ8QryufN59bj1ivW49vz4/PqE/CH+AADfAXwDBAUEB0gJdgpGCokKWQzyDfINCw7ID3ARdRGKEVQT8xQXFIURWg/6DX0Mfgp+CAEHtAV6A/j/h/xl+vv4R/eH9Qr0/vG07gPrYOiH57PnfOfb5o3nw+n56n/pi+cT6P/qsu2B7hbuie5m8Pjx/vEM8qLzePW/9Yr1tPb4+PX6i/x3/XT87PkQ+f76cvzz+g/58vl3/HP9h/zG+378Sf4BAKIA/v8//wYAKAJzAyUDkAPQBesGDgWUAzkF6gaBBZIDlgTuBogHDQc2B/IGJQWMA40DcwO4AQwAAQDz/0D+jvyA/HP8wPoP+f/49PhI9431aPV39fnzC/J/8fvxLPIH8gPyAPLR8QLyP/OD9dT3//jx+AX5WPp9/Gn+BADBAXoDDgUFB0cJdgpICocKRwz2DScOBA5OD3sRiBJ9EWMPAQ72DfkNrwyECp4I+AYlBYUDJwL7/4H8BvnN9n/1AfQC8gPwhu4m7fvqYOiP50Hp9Orj6hHrAO137iztCuth64HujfH/8Qnwiu6H7/fx3vOO9bL38vib+BL5XPtt/Hz6GPnX+mj8wPoa+av6afzy+hj5Tvpr/In8lvya/u3/Sf6U/ND97v8pABIAwQFsA04DkwPHBekGBQWXA1cF5QY5BZkDOQXlBlcFlwMFBekGyAWSA0UDbgPYAQ4A7v/1/2H+ifwt/H38i/sA+Wb2ivUM9nT1GPMV8gP0a/Wv8xryr/Nr9QP0FfIY83T1C/aK9XD2/fhr+4L8f/yA/J79AgB3AnsDOQOFA0EF+AZBBwQHDQh9CugM+g3nDQYOlw7zDboLigoXDPINKQ2JCmsI9gY6BYcDJwL5/2z8Cfn/9nv1kvMG8rrxA/Is8XzuhusN6yrtde7Y7BHrFux17jHvjO5J7nzuX+6G7szvAPIk9IH10PWE9UX1fPWL9gv56/ty/D36FPn0+mv8wfoW+YL6cPxj+wv5RPl//K//+v/Q/Y38Bf7x/xMADwDUAXIDYgIMADb/9f9HAY0DVAbuBsgEkgNhBewGbQWPA6AE9QayBoMDcgAAANcBfQPKAgAAV/2D/Of8evyW+gz5E/nz+Cj3kvWv9XH1X/MR8przdPWF9A3yEPH48YjzivXL9/n4wPgL+dz6dvyA/Iv8Iv74/1MAAwD1AIEDGQb3BnwGCwdSCW4KsAgRB1YIbgqvCowKJwz1DVANgwrxB/4GJgf9BqAFggOPAf7/X/6B/KD6BPl69331P/MJ8izy+fFD8I7uUO517v7tku7T8PLxMPCT7tfv8PEn8hTyvvNw9WD1kfWH9/X4nveK9fv1+/jK+4X8Mfv7+Lv3CvnA+3P8WfoT+dP6bPzn+hj5Tvps/JL8k/x8/vH/if6O/EP99P8nAowDYQRxA/UADwD/AW8D4QERACcBbgP6A44DyQNzA3sBCgAzAXUDRASJAycC9/9i/Yn8OP75/zX/iPww+vn4jfgM+dT59Phx9pP1l/ft+DL3lvUK9/H44PeM9c31/fgO/IH8qfoD+bb5gPwr//7/kf8IAP0BcgNOA40DiQX0BqkFhQPUAwAHNAp3CjUIDAfFCG4KNgkQB78G7wZtBYwDRQN1AzECCQBA/nj8UfoK+Sf5+fhS94f1H/WB9br0/fH+7ozuq/D18WLwj+537/nx+/IF8h3xBvIw9Hf1LPWR9bv37/g295X15vbs+Pf4F/kx+2r8jvoZ+dX6aPzB+hn5oPps/Bz7Efne+Xj8k/2B/HT7iPwM//T/F/6S/PH97P/4/xUAJgJrA7cBEABkAXQDywIDAH/+AwDBAncDjAEJAFABdgMRAwYAJf1+/PH9AADqAAEAGP5//Pz7gvwP/YH8y/r/+Eb4B/nx+fj4evaN9Vv39vjA94n11/X++A38gfyq+gP5rfmC/D///P9y/wcAMAJ3Ax0CBQBeAH4Dkwb9Bg8FggNtBP4GXwj9BmUEgwMlBfoGYQaCA80AAQBoAPr/Gf6L/ID8d/zn+gj5mPgA+TL4f/Wf8gfy2vN99Zz0AvKM8Ajyz/R29WHzEfKp83T1V/QL8kTygPWu+Pv4zvaO9Q/37/js+Bb5Mvtq/I76GfnV+mj8wvoZ+Zf6bfww+w/5v/l4/MX9h/xO+v34t/mG/Hz/+v/4/Yr8xv31/48ADAACAPL/Xv8PAHgCbANwARUA1wFoA8wBFwCPAWgDMQIVAPj/7P/m/ZX8QP7s/5v+lvyJ/Gv8TvoY+fL6afyq+hv5yfpm/L/6HPm++mf80/oY+YD6cPxi+wv5T/l8/If/AAA2/oL8I/3//9ICfwP9AQEANv///64BfgNDBQQH+Af3BpgEhwMTBfkGYwaCA80AAQBoAPr/F/6M/JT8cvyq+hH5J/nz+Pj2jfXW9vz4rPiB9UzyCvJM9HT1svMU8mLzbPV99Zj1rvfr+CH3lfUX9/H40PeN9eX1+vjT+4b8MPv7+Lv3CvnB+3P8UPoV+ej6afy/+hn5oPps/Bz7Efne+Xj8lP2B/Gz7ifwi//H/5f2W/GH+6P83/pv8QP7m/0v+mfwX/u3/sv6O/Cz9/P+DAf3/Nv2L/JP+8f9f/pL8qf3u/3EAEABcAPL/3P2L/O/9+f99/4b8tfn++GL6gvyG/YL8Yvr++Lb5hfxy//z/F/6F/H79/P8xAQQA0f18/Dj9BADxAnsDmAEDAOoAfwPxBHkDsAALAB8CcAPNAQ8APgFzAwYDBgBV/X78tPyC/BH7AvkA+P/4GPuE/Nv7+vjj9Y312ffw+AH3mPVT9+f4Pfed9T335/hT95j1APfw+OP3ivW79QH5RPx5/Cf6D/nW+nL8HvsN+a75fPwF/nz8rPkO+TL7bfyW+hn5yvpn/Mr6GfmW+m38MPsP+b/5ePzF/Yf8UPr8+K35iPya//X/sv2P/FX+8v+f/oz8Lv38/4UB+/8l/Y78tf7v/yP+k/wh/vH/5P0L+Zr1f/Vj9/74SPkJ+SH59/hZ+Av5Lvz6/1ACggMFBf8GBQj8BrkEggOjBP4GKwj7BqkEhwPdA3UDZAEKAGEBeAMXAwEA9/yG/Gr+9v/X/w8AEQJtA/4BEgADAPD//v2P/Of99/9z/4X81fkA+Uf5APly94H1svSF9XH2evUN8wzyu/N29XP0DvIn8fbxVvOO9Tz49Pj39pH1BPfv+O74Fvko+238t/oS+WX6dfzC+wf5nPcA+YH7fvwa+wX5SPgA+Y75APlG+Ab5Lvt5/EL7C/k++Pf4UfqL/Cv/+P84/ob8Yv3//2cB/v9X/Yf8S/74/wP/ifxu+3r8Xv4FAMgA/f8K/oT8Qvx9/GL8hvza/fr/8gGFA1YEegNTAQIADAGAA9IEewPgAAYAwAF5A6ECAwCl/gAAiwJ5A/ABCwC6//H/hf8SAGMCawN6ARUAzQFqA+IBFABcAWwDowIQAC3+c/wf+gr5gPp+/Bj8/vjM9Yz14ffw+AD3mPVT9+f4Pfed9T/35vg/9531P/fm+D/3nfU+9+f4Sfea9SD36/iQ95T1h/bx+KP5D/n2+PX4fPgN+TD7dfwS+w/5r/jx+Ib4E/lk+2z8ePoY+d76afzA+hn5ofpr/BH7FPkH+nH8I/2P/ID8c/ze+5H8+f7u/+/9l/xg/uj/N/6b/D/+5/9U/pf8Af7w/+T+ivy8/AAAQwN3AycBDQDWAXADHgILAK4AewMFBXsDqwAMADECbAOXARcAwAFoA+cBFABZAW8DrQIKANr++///AX8D7wOFA1oC9f8j/ZH8vP7t/w7+l/w//uv/fv6S/J799v+y/4X8evkA+cv6f/zc+wT5QPZ+9c32B/lE+vn4SfaN9Yb39fiI94v1Nvb9+IP6/fgr9o71sffu+Bb3mvVK9+f4Pved9T/35vg/9531Pffn+FT3l/X39vL4+PeI9ZH1A/md/Hj8ofiO9WD29fi4+Qr5v/l9/D3///+G/of81vt3/L79DADVAm8DRQETAPUBaAOtARkAwgFkA8ABGwDAAWQDwAEbAMABZAPAARsAwAFkA8ABGwDAAWQDwQEaALcBZgPWARgAjgFoAzECFQD3/+z/7/2U/Cr+7//O/pH8EPxx/CX8kfyx/vD/aP6T/J/8bfxG+hj58/pp/Kr6G/nJ+mb8wfob+az6avz/+hL5HPp4/EX8Afm79Yr14/fw+AD3mPVT9+f4Pfed9T735/hK95r1Fvfu+LH3jvUr9v34gvr++D/2ivVy9/j4uveI9cb1AvlE/Hj8HfoR+fX6bfzU+hX5ZPpv/JX7EPkf+PT4UPqP/FL/8f/O/ZP8X/7s/2H+lvzH/e3/KQAPAL4BdgOiAgEAkv4GAMsCcgNPARMA6QFnA7UBGgDBAWQDwAEbAMABZAPCARkArAFpA/8BEAAcAXYDRAMAALz8ivzk/vD/Af6X/FT+5/9A/pv8Lf7q/3/+kvyn/fX/nP+I/K35/PhS+oX8sv18/P35BvmU+n78BfwB+fn1h/Vp9/f41vgQ+RD7b/wH+xL57Pj0+Df3ivVn9v74WPr++Gb2i/VA9/L41vgV+Tr7a/yX+hb5rPpv/Cn7Dfmt+Xz8BP59/Lb5C/kI+3X8BvsM+cn5efzO/YT8MPoB+f/5f/zZ/g==\" type=\"audio/wav\" />\n",
       "                    Your browser does not support the audio element.\n",
       "                </audio>\n",
       "              "
      ],
      "text/plain": [
       "<IPython.lib.display.Audio object>"
      ]
     },
     "metadata": {},
     "output_type": "display_data"
    },
    {
     "name": "stdout",
     "output_type": "stream",
     "text": [
      "Playing clean audio for sample 1\n"
     ]
    },
    {
     "data": {
      "text/html": [
       "\n",
       "                <audio  controls=\"controls\" >\n",
       "                    <source src=\"data:audio/wav;base64,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\" type=\"audio/wav\" />\n",
       "                    Your browser does not support the audio element.\n",
       "                </audio>\n",
       "              "
      ],
      "text/plain": [
       "<IPython.lib.display.Audio object>"
      ]
     },
     "metadata": {},
     "output_type": "display_data"
    },
    {
     "name": "stdout",
     "output_type": "stream",
     "text": [
      "Playing poisoned audio for sample 1\n"
     ]
    },
    {
     "data": {
      "text/html": [
       "\n",
       "                <audio  controls=\"controls\" >\n",
       "                    <source src=\"data:audio/wav;base64,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\" type=\"audio/wav\" />\n",
       "                    Your browser does not support the audio element.\n",
       "                </audio>\n",
       "              "
      ],
      "text/plain": [
       "<IPython.lib.display.Audio object>"
      ]
     },
     "metadata": {},
     "output_type": "display_data"
    },
    {
     "name": "stderr",
     "output_type": "stream",
     "text": [
      "100%|██████████| 75/75 [02:12<00:00,  1.76s/it]\n"
     ]
    },
    {
     "name": "stdout",
     "output_type": "stream",
     "text": [
      "Epoch 0, Loss: 0.7380616919385891, Training Accuracy: 96.5\n",
      "Backdoor Attack Success Rate: 0.7407407407407407\n",
      "Clean Accuracy Drop: -1.8333333333333428\n",
      "Running experiment with poisoning_rate=0.01 and frequency=24000\n"
     ]
    },
    {
     "name": "stderr",
     "output_type": "stream",
     "text": [
      "  7%|▋         | 5/75 [00:08<02:03,  1.77s/it]"
     ]
    },
    {
     "name": "stdout",
     "output_type": "stream",
     "text": [
      "Playing clean audio for sample 0\n"
     ]
    },
    {
     "data": {
      "text/html": [
       "\n",
       "                <audio  controls=\"controls\" >\n",
       "                    <source src=\"data:audio/wav;base64,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\" type=\"audio/wav\" />\n",
       "                    Your browser does not support the audio element.\n",
       "                </audio>\n",
       "              "
      ],
      "text/plain": [
       "<IPython.lib.display.Audio object>"
      ]
     },
     "metadata": {},
     "output_type": "display_data"
    },
    {
     "name": "stdout",
     "output_type": "stream",
     "text": [
      "Playing poisoned audio for sample 0\n"
     ]
    },
    {
     "data": {
      "text/html": [
       "\n",
       "                <audio  controls=\"controls\" >\n",
       "                    <source src=\"data:audio/wav;base64,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\" type=\"audio/wav\" />\n",
       "                    Your browser does not support the audio element.\n",
       "                </audio>\n",
       "              "
      ],
      "text/plain": [
       "<IPython.lib.display.Audio object>"
      ]
     },
     "metadata": {},
     "output_type": "display_data"
    },
    {
     "name": "stderr",
     "output_type": "stream",
     "text": [
      " 13%|█▎        | 10/75 [00:17<01:53,  1.74s/it]"
     ]
    },
    {
     "name": "stdout",
     "output_type": "stream",
     "text": [
      "Playing clean audio for sample 1\n"
     ]
    },
    {
     "data": {
      "text/html": [
       "\n",
       "                <audio  controls=\"controls\" >\n",
       "                    <source src=\"data:audio/wav;base64,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\" type=\"audio/wav\" />\n",
       "                    Your browser does not support the audio element.\n",
       "                </audio>\n",
       "              "
      ],
      "text/plain": [
       "<IPython.lib.display.Audio object>"
      ]
     },
     "metadata": {},
     "output_type": "display_data"
    },
    {
     "name": "stdout",
     "output_type": "stream",
     "text": [
      "Playing poisoned audio for sample 1\n"
     ]
    },
    {
     "data": {
      "text/html": [
       "\n",
       "                <audio  controls=\"controls\" >\n",
       "                    <source src=\"data:audio/wav;base64,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\" type=\"audio/wav\" />\n",
       "                    Your browser does not support the audio element.\n",
       "                </audio>\n",
       "              "
      ],
      "text/plain": [
       "<IPython.lib.display.Audio object>"
      ]
     },
     "metadata": {},
     "output_type": "display_data"
    },
    {
     "name": "stderr",
     "output_type": "stream",
     "text": [
      "100%|██████████| 75/75 [02:12<00:00,  1.77s/it]\n"
     ]
    },
    {
     "name": "stdout",
     "output_type": "stream",
     "text": [
      "Epoch 0, Loss: 0.7454051699861884, Training Accuracy: 97.33333333333334\n",
      "Backdoor Attack Success Rate: 0.0\n",
      "Clean Accuracy Drop: -2.0\n",
      "Running experiment with poisoning_rate=0.05 and frequency=1000\n"
     ]
    },
    {
     "name": "stderr",
     "output_type": "stream",
     "text": [
      "  0%|          | 0/75 [00:00<?, ?it/s]"
     ]
    },
    {
     "name": "stdout",
     "output_type": "stream",
     "text": [
      "Playing clean audio for sample 0\n"
     ]
    },
    {
     "data": {
      "text/html": [
       "\n",
       "                <audio  controls=\"controls\" >\n",
       "                    <source src=\"data:audio/wav;base64,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\" type=\"audio/wav\" />\n",
       "                    Your browser does not support the audio element.\n",
       "                </audio>\n",
       "              "
      ],
      "text/plain": [
       "<IPython.lib.display.Audio object>"
      ]
     },
     "metadata": {},
     "output_type": "display_data"
    },
    {
     "name": "stdout",
     "output_type": "stream",
     "text": [
      "Playing poisoned audio for sample 0\n"
     ]
    },
    {
     "data": {
      "text/html": [
       "\n",
       "                <audio  controls=\"controls\" >\n",
       "                    <source src=\"data:audio/wav;base64,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\" type=\"audio/wav\" />\n",
       "                    Your browser does not support the audio element.\n",
       "                </audio>\n",
       "              "
      ],
      "text/plain": [
       "<IPython.lib.display.Audio object>"
      ]
     },
     "metadata": {},
     "output_type": "display_data"
    },
    {
     "name": "stderr",
     "output_type": "stream",
     "text": [
      "  1%|▏         | 1/75 [00:01<02:12,  1.79s/it]"
     ]
    },
    {
     "name": "stdout",
     "output_type": "stream",
     "text": [
      "Playing clean audio for sample 1\n"
     ]
    },
    {
     "data": {
      "text/html": [
       "\n",
       "                <audio  controls=\"controls\" >\n",
       "                    <source src=\"data:audio/wav;base64,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\" type=\"audio/wav\" />\n",
       "                    Your browser does not support the audio element.\n",
       "                </audio>\n",
       "              "
      ],
      "text/plain": [
       "<IPython.lib.display.Audio object>"
      ]
     },
     "metadata": {},
     "output_type": "display_data"
    },
    {
     "name": "stdout",
     "output_type": "stream",
     "text": [
      "Playing poisoned audio for sample 1\n"
     ]
    },
    {
     "data": {
      "text/html": [
       "\n",
       "                <audio  controls=\"controls\" >\n",
       "                    <source src=\"data:audio/wav;base64,UklGRnA8AABXQVZFZm10IBAAAAABAAEAgD4AAAB9AAACABAAZGF0YUw8AAA2AC4ADwD//wsALABCADgADwDm/9n/9P8rAFYARgABANL/4/8KAAwA5v+7/5r/if+j/+j/JgA4AC8AKgAmABkAFAAhACYACgDd/7//vv/O/+H/6f/l/9f/wf+3/9r/HQA6AAkAxv+5/+D/AwAIAPT/zf+i/4//l/+a/4f/e/+V/8n/9v8UACsANgA1ADcAQAA+ACcACwAIACcATgBZAEQANwBNAG0AdQB2AIEAfABVAC8ALgA6ADIAKAAtACoADwD9/xUARgBnAG4AZwBWAD4AKwAnADMAPgA6ACQABwD5//z/CgAbACgAKgAnAC8AQgBKADgAIwAkAC4ALwArACkAFgDy/+L/AAAuAEYASwBNAEYALQAXABsAMwBCADoAJgAfADMAUgBhAFIAMwAfACAAIgAhADMAXgB0AFkAMwAzAEUASQBDAEoAUgBFACsAGAAPAA4AGwAzADoAKwArAEwAaQBdAD8AMgAyACoAHwAgACcAIQAHAOf/zf/K/+7/HQAJAMb/0P8rACUAXP9v/nb+zf9JATEBgP9X/if/rwD3AAMAVv+9/5oA4QBfAAQAdwDtAIkA2P+I/73/7f8t/73+FQFVA0v++vFh6Q3viABZDqgKWPrK8dH7qQvPDlwEq/rL+9IDGQj2A+n9BP5xAhYE1gHV/y0AeAF1AeP/Gf+PACMCZgFt/+H+MgBrAdgAMf/s/gwBaQNkA0MBW/8L/+D/sgDqAOgAFAH4AGgAcACEAS8CQgG2/xL/e//U/zf/Pv4p/nv+Z/7p/DH5bPcO/QsDTfn83PTBkMJj5HoKfQ2O6x3QBd5wBP0Z6xCw/kz74AdsEroNUQPpApcJ3gvACpoL5wq1BNT9WP2LA30JyAfM/1j7Wv8UBLkBwfwG/ecAGgMkBLMGhAkWCQwEV/8+AycO+hFUCbICXwkmEqkOigRIAV4F7Qj5CAYIXQjdB5QBUvh2+AMF9A1MB5/78PnE/6QBM/3Y+ab9bwQmAwX57vSk/tUHNQLt9S70Rf9CCo0Jkf/W+df+tAQvAhX+6AELCUMIEP4A9fX39gNdCYQAifX+9qkBQwcbAkf5FvYL+4wCBgUuASf8avoZ/JX+bf/z/o7+4v3M/WMBKgcFCIMAsPYy9RUAag3GDR7/ePE49McDCA9IC9z9BfRJ9U39OwJLACP8EPuG/bAAxgFXAEz/ZQHpA/UAkvmm91cAUgoGClwB3vl19wv6KAK/C4wN3AOd9iTyA/tICP0LagKc9nf1f/4cBqUEf/oD7OHjpe0gA/AMZf+M6inmePbQCWMN8QLe/fQGrQ4RBx78nP+yDBQS8QrQAKP9mQGUBEMBg/xL/gMGsArWBWD7yPVd+o0CewSH/4n60PmC/QYE7Aj2Bpz+UPe9+NEChQ0VEP0HMPvE88f3pARCEf4T1gmX+fzutfEs/2wLKwtM/qXvOuwZ+JIH/gjg+Vrr1u0z/l4LeQopAFT4N/mQ/tYAiP8q/6sA0AEsAisCVQGX/wj+UP7sAGIEagYWBW0AgfyD/s8FEgsPCNH+KPiI+tcCtAeRA7z6ofaV+3oETgiMA2v7t/aE9sb4PP2CA8UHWgWA/CT0lPT0/lwKWgwaBK/5BPXE+QIGaxB/Di4A+PFn8rUDQReWGpAJv/L06sL53RANGiYNJvci7UH3oQlIEsgJJPj07RL1vwb2EigP7/7B8FjwpvxuCtINMAQc9qru0PNEAy4Q4wtG+Evp2+67AogQ5Qvi+nHtDu46+f0DkgioBkn+vvQS9a8BRQ63DcoAFvUA9zIExQ1GCpcA4/uh/Jr9/v4JBCgLpA1YBnr6kvcWAhYNzguOAv/9xwHmBjoGogBk/ez/iAKFAJD+MgKiB1IGi/w38yn1SgLFDc0LCf/T9DL21f98B1sG2P77+Fv5bP0DAHL+UvpX93v3yPpwAKEFUQasAJ733PL/+AEGyQwBBkv5SfSS+2QGtAhsAGD3lPab+7P+Nv5H/YT8RPqi9rb0CfhF/4oDNAFv/an+3QMwB8wF9QGS/83/WABK/xj+Nv6h/Tv6C/Yb9cn4V/5UAT4ABf5j/RX9mvv2+gn93/+gAMP/fAB7BOgI5Aj8Ap376fnBAGUKLA0uBtX8Lvrz/owEpAXIAicAkAByAg8DiwJxAVP+kPlp9+n7kgVLDD0Iz/sh8zv35gMhDMgHCvyc9V/6GQPbBVkCw/7H/Vj+JQBuAzAHEAiaAs75//bp/SgGhwVy/Ef0f/R2+y4BrQDp/NL6FvoZ+BL2avdb/AABIAFm/cr72f91BQwH3ATWAtICOgM2AvcAxAJWBxMJewTS/dT7pv9oBCUFgQK6AQ0F5Qf4BfoBLgHtA0gGkAW1A9YE1QjtCeUE2v6f/vcD1QicCLsESgL0ApkCnf5m+/n9AQQwB/sEXwDO/Rf+4f2a+8f6S/7JAgkD9v7z+n76Ef1X/3P/HP8oAEkBNwCG/Qz8bf0EAJUAQP7z+4T81P6B/zP92flp+Mf59vsQ/Yr9Jf7p/Qz8WPqp+3wAvgUlB2ID3f0A+/r7uf7zAJcBlQB//hL8Hvp2+ev5Fvqz+YP6ov12AVMDVAI5AIv/4gCFAvoCBAPfA+QEbARXAgYAyv4J/xkA1ACoAJH/z/1m/KL8ev4UAHL/k/zn+SL6ZP3NAFwB9f4w/JL7lv3FANoCaQISAOb9h/0N/woBywHPABf/4P2g/Tj+i/8SAaoB3wB8/+L+tv/bALwAz/+0APQEFAqQC0QHLv/498L1XvldABIH1gmaBkP/GPk0+Mf7p/+NANr+qv05/5oCMAU7Bd0CPf/M+zD6zfvFALUGdwnHBrkA2vsw+yD+jQE+A5UDwgOzA80CoAE2AXABhgE9AREBtgH/AqIDtgLIAN7+U/1B/DL8rf0kANUB8AB8/b35Jfgj+WX7cf2f/v/+mf5d/dX7Svtn/B/+7P6I/sv9nf0D/kn+JP4h/pH+zP4u/k79Zf3j/sEAbgGPAIL/uf8IAT0CowKpAhcDFgT0BFEFvQWPBvwGTAYYBboEtwX4BrgGrgSsAlgCHAN+AzQD3AKaAh0CTwGuANsAmgGkAVsAyf44/pb+tf7m/cT8g/x+/aD+l/5c/dv7w/pY+rX6nft7/Jb8q/tr+hX6Fvtp/I78L/uV+YT5bPvk/Qr/R/6N/D37Svvg/Fb/hQGlAp4CJwI6AkQD4ASZBmkIngohDVMPahAmEAYPCA7lDcsOUBCKEXURwQ8JDX4K9wg/CFgHtAXDA0wCXQEfAL79WvoQ9/f0KvQD9PPzi/Ne8oHw1+437sDuDPDA8W7znfTy9J30HfQC9En0mfS19AX1x/Wj9s329PV19BnzdvKr8nDzh/TW9T33u/ho+lb8W/6oAKsDpgcrDJIQZxTbFzYbRx4+IOMgCiHhIaAjiSWdJpImnCXoIyshRB23GLgUFRJSEPsNNQq0BZUB7f3/+Ub1CvD+6m3mPOLE3kPdNN474Fbhy+BU3yHehd013R7dQt4U4bLkZeeW6KHoTejG5wfnV+bW5ujomeuC7Wju5e5/70fwNPHX8vb1ufoJANEEPAlxDuMUURySIzEp+itkLIIsFi8/NZI9dUQjR1dFR0F/PX47GTt6O3I72jmANf0toCT7GsoRdgn4AW76EPG942fSTsEot9q21bvevqG8Mbe4siyyNrZcvtvJ39Y14rXp9+7O9JH8BgVRDJYRxRWTGI8YXRTODegH5gPZ/+r4ie193yzTxMxpzXjSq9e12cjYmtdS2f/e5edx8rr9PgkcFRkhJixuNGI5gDzdQMZIAlS2XzdoEWtfaPphDloDUjNKZ0KbOuUyhioRIDcS9gBv7mndec80xJe6sbKyrSasJq16rqOu0a33rUKx/7g0xYnUyuRm85D+DwaeCwQR+xb3HAUjYygfLIMtwyz0KHUgYhH7/Erp792Z3EXeitmty+26sLAmso68gsn202jaRd383qPjW+5e/qMPQB2MJSsrOzH2N1Y+X0QeS1JSUVhUW3dbv1pVWqlYtlQIUA5MCUcDPpMwXSHFE88IUv518vLlttmxzIy+TrISrIasWrDKsvOxC7BrsC20ArsaxXDSOOGF7qP4///PBkAOeBX/GnYfgyOoJkwn4SQaH1oWqwrJ/K/vb+fL4xbfr9Qkxwu+h74rx2PRRtjn293e6uFx5bvrB/fiBSMUFx6bI+YnYC3aMhs3qTuEQmdKMlAhUo5RFFE7UZNPGEuCRmxE1EInPXQxDSJDE3cHZ/388h/oN91E0RPEebj8sQyx+bIdtBuzn7H/sfa0nbq9w3DQi97t6jr0Q/scAqAJIxFhF6gcOyF+JMAkoSEVG68RswYB/KDyKurW4MbVUcshxuPIs9Dw147a+9im1mHXAN2x51b2PwYpE4Iarh1yIGElzSw0NX89kUVlTddT7lcLWhFbolqbWJtVH1JjTQNGEzw4MZ8nHiCzGOsNev2G5zTPgrrAr1ewiLZxuru3Z691pVKeHp11o9qwQsLj0vTev+bX7EHzjPpVAooJkw9XFCEZMR8QJ2ouADEaLGshzxSbCR8Bzfv5+B73z/PX7F/iE9ehzWfGiMG2wP3F2tAF3inpAvAm8w713PdN/b8GShS1I10xRzruQQNGm0g1Sv5Kn0vDTNdNdk33SktH7UN8QXM+6zh9MJ4moh2WFqkQdQq+AsL3MOdX0RO78qq5pJenaq/2t72+osIlw3jB/sALxR7Ox9n95NvtnfTd+dj9EgGCBYgMrRWTHlAldii+J1IiwBdiCar6fO7r5JHbNdFcyPLFf8x32FvjmOhA6GnlPeSa5xLwnvvVBjMOKxHVEuwWlx5dKUM2VER/UTNb518sYENehFz3WldYPFPZSqk/kTMKKs8lNSYkJ58izBNM+n7bnMARscitjLGbtI2x3KeNm8qS5ZK1nRmxkMfE2vvm2ute7Lvs7u9D9tn9XgSwCRwPnBZeIHwqyzHhMw0w6yfuHaoUGA2FBjP/7/WE6hLe8tJ4y5nI/ciAyvrLQM7t0obaEuMD6sntEO/k79byCvptBvoW0CgMOPdBfkaqR8RHg0geSgRMDE35S2RIzUPzQM9B90SDRpdCejh+K6gflRapDz0JSAD78MLawsIisAenC6d6rFiz4rhsu4+6H7gUuLm9TsjB0wLctd9I4SjkiOrH9DQCphDbHAEkhyZ5JjImiyaIJrgjFRySDv/87evt4Jbe7eFv5AHh99fezt3LqNBp2t3j8Og36Lbj9t/l4fPrtPz/DuQdvychLq0zMzqeQRNJ/04JUl1Rik0USTpHfEkpTwtVJVfgUlpICjtyLwgoyCNHHoIRzPkA2sW7lqgho4inG68+tO+zha5pp7qjraeQs77Csc9D2PPcgN+p4XnlIe23+cAIdRXmHKEh/ya7LOYvui5CKaQgAhYrC60COP8tAM8AsPxS9Pvq++Il3YDZm9fG1avRK8ruwdG+FsXi0rTizO/i+HD/uwVmDV0XnCMrMO04FjsDOJkz6TBIMVY0jDnjPwlGk0r7TFhOrVAoVIhWx1O5SOw11h+MDHcA8vt4+n71Eupn25HOysV8wES9FLtVuKCzOK1/p0Om9qtkt2DFO9Py3mTnAu1q8jr69QTpDycX2xhHF0YVwhOhEhAT1BXBGU8cNxzNGWIWvREgCtn+HvK+5g7dn9P8yZvB2by6vVzEL89822Hmeu3f8DbzbPcq/iQGpg3cE/EYhx0kIoEnQS5xNrw++UW/S4JQLFTNVUdUQ1D2S59J2EjgRjlBljdmLGgjnx4aHNYWQwr29Y/eEstPv2K5RrWMsMiqCKSOnbSaDJ8kqxG8F80w2nDioOdc7NfxrPeM/Oj/6QIjCPYPOhiSHiMjDichKpoqfCd2IbwahxQiDqYGyf4W947umOSC227WW9a52XLdnd6n26zUhMtAxIzDEstN19/i6Oox8GL1jvwFBiAR5hysJwUvoTH5MLQvDy8DLwMvPi9DMOUy8DYpPERCQEgsTLtNpU5JUPlQoUxeQBQuixtmDaQDDfu28b3oeeLm3ura2NMcyre/IrXdqn2j7qGepo+v37nFw1nN19bc3/voafRsAn4P0RY0F3kTLRBpDw8QqxAXEiIVXhi5GZ4ZmhkEGj4ZLhWGDWEE//p/8G7kitkh0ybRstASz7rLWchlx0DK89BK2rvjyOnj6hDpMege64LyTP3PCYIW4yGcKkYwtTP4NQI3oTZHNRw08TPSNJY1GzbWNiQ4NznUOXk7FEGcSxVX3FuNVGxCAiyRF/EGc/jf6gPgxNkr1yvVsNFvzDvFILzVscyoyaS8p7GvOLlOwj3KZ9Af1YfajuPq8eEDgBUkIzEsPzEwMuAtaiRmGFEOUAmuCSANVhGPFEYVMBLJCi0A3PQq6xzkaN+E3APbTtqc2BLUNs2xx6vH4c301lHegOHT4WviT+V06mzwePVg+IP5R/tXAP4JvhbYIq4q7CxtKiYlgR9zG8sZdhnuGHcXUBahF8kcTSRfLGgz9DjAPL0+nj8lQuRILVI0V6BRjEHgLb0eoRaaES4LpAP3/JL2A+6y4iTWV8kavNmtQKD4l32Yh6BErNC4i8TWzeXT+Nce3T7mPvOrAAwLShKTF4gbJh5+IHMk1ionMU8zRS8aKHMi7h/XHQQYhwwb/Tbtst971hvTSNXW2Rrdj93s2+jZNtgk1vrThNPi1EjVutLYz0fR+diy5GXwx/nCAWgJxg/cEwMXYhpYHGEawBRkDqoKqAqPDFIOmg/XEIYNAgpRCHwKxQ/iFZoaxB11IOMjQydvKh0uwzJkN5Y710AFSqVXBWTTZbFZn0ZlNhssYSN4F5wIbPsR8kjpet0m0LLEXrrErqSi3Jn8lyWdsaVXrsK27L6UxO7G4slx0o7htvOWBPMRlRw8JSorIC5wMCc0VThUOp05ezeyNQk0ajAYKXMelBHZAvHyhOSc2h7WJNVT1G3Rf8wFxxPCz76vvnPCGMnM0LXYt+Dr6K/wsPYw+tz7hfzY/LP9JwFICJ0RJhkdG4IWAQ6CBZL/2fwm/UX/LAEeAeH+cvvV95f0d/Hg7hnuE/BN9NH5+v+tBgANvxEYFEoV/xdkHtcnADJ9OmRAOkMHRHpEu0XzR+9Ls1KxXOpn4m1pZx5Vy0D1MtcpiR1oCkL0LuID14LPxseev5y3iqxenM6L2oK4hXKS4qKrsRe9BMUByQPLudBn3uXxBAXKEyQe4iadL1E3jzy+Py1BrD+POs80EzIYM6U09zGFKN0ZOAkz+eTrduON4DXgdN381PfHgrsAtem1LbxMxHbLUNBD00bWqduH5M7vyPoGA6MIVA3aEuIYcB1KHi0bpxVUEAUNTwzIDPYL/AfvAF34JvCd6UPl6OLq4cDhKOL84unjneTM5O3kAObq6NXtXvT4+/sDagtNERwVMheZGGgaFh2iIMgk9CgULGQtxiz2KqUosiaZJcYl/iYaKU4rXy39LhEwkjDBMQk15DsZRuZOuk+aRwA9PTaNMcMmpBDe8xzdddRx1jjavdp11tLKyLZcnzuObIs6lzipK7imwTXHtsmzyjHOp9e15VDz8PyEA04MRhoyKik2BTswOdcyvyreJK0kJCt5NF05hjQ2J6IWSQeU+0z0EfEU8CvuxuhK4IfYp9RL03HR8c2yyTPG/sTxx2fQlN2n6wz1HPf09PfzYvds/+8KTxcNIfgkiCIeHMQVcRG0DbQIbQOv/+T9sfzO+jP4GvW58GjprN/Y12bWqtss5NHr+O/x79bs0uhw5q7nvey881j6yv9mBIsI5wulDa8N/gy4DGkNUQ/tEvcXjBxnHnIcrhdXEqcOcw2aDl0RqBTrFnAXpxYJFlAWtheTGeMbCR+3I40pPDBzN6E+wEOHRrxIdUtjTghQyU94UHxUP1XfRJ4eqPFl08LMUtYr4ifmKt+BzX+yrpTMgAGAr405nW2ml6nlrK+0XL8+yg/VKt8f5eflqOgX9qcPOC2QQqdIakJVN1ctZygqLFw4HEbTS+5EgTTiIkkW9Q2FBsv+vPZ57ariMtkZ1fDWatqI2KXOwMFhuRm5IMAFzMHZZ+WA63nr2+jL6bjx8P2VCZESmBiRG9YbuBsoHtAjrikaKw8mRh7GGD8XyRdQF/0S+wiA+RDoctqt1ePZDeHP4xLfItUMy2nFJcalzF7Wqt9o5SfnI+jm673yFvod/94AGAFAAg4GiAxIFJAaNBwYGMoQdwoZCOoJ0g0XEfIRyQ8UC4wFYwHf/+X/cf+I/T371Pqe/XACNwdIChMLlQkUBwgGtAgaD/sWGR21H4YflB4kHqoe9B+tIQQjYSO3IhEieyJvJKUm2SenJ0cnEygZK8EvqzSkOCU6LDiNNPIyxDN4MTglMg6G8/ffDNl82+ffKOHm3MvRucC1ruOig6H4qL6yNrmzvEnAgsVXzKHUwt2Z5QTqx+uO7jP31QYEGTknvy3XLHsnKyEZHZ0dViMvK2AvJSymI6watxNdDvwI0gIs/D71Ie7j5+rkHOZj6Ifn8+Gq2W3SJ8+G0MbVmN2n5fPqNeye68bsMvFz98n8yf/LAecE/wlcEOsWEBwMHu8brxbdECUNJAvXB50BCft/9zj36fZS81fsp+S43pHaWdfM1UPXctt54KTkZOcr6XvqJutf66DsD/Bb9Vr7iQGnB+8MDhAZEMkNdQscC+MMtw/dEsQVjBdgFycVxRFTDmELlQjQBeQDqgPUBFMGJgcaB0gG9gQ6A8kBzgEFBKIHSgsvDj8QaRHVEdQR2BEQEogSKBMPFHkVFhfSFxUXVRWGE+cRKhAUDi0MRQt6C7YL+gpGCVYHaQVvA4QBSwBbALgBhgPBBPYEVgQgA68BegDu/x8A7gAlAoMDtQRpBVoFjQREA+4B5wBdAFIAqwA+AcEB3wFRARMAbP7M/H/7hfrH+VX5Bvl7+Hv3Zva09Xb1RvXA9N7zF/Oy8pHyh/LU8oTzG/QC9FzzvvK48jPztPPk8wv0SPRJ9NDzdfPm8yP1bvYl9y/3EPcm92P3k/f097f4pflM+p760fog+3H7efsY+6f6cfpu+n760fql++P8D/6y/tT+8v6V/7gA7gHbAocDPwRmBRMH6whDCswKxQrMCkcLNQw1DQwOrA4GD80OHQ6RDc8Nrw6JD8EPeA86D2YPmQ9wD/8Otg6SDn4OgA7SDmAPABBaEHoQpBASEWwRvBFfEp4T3hSEFZoVQBZPGJQbbh6DH/geLB6AHkAgqCJDJGIjjx5TFX8InPrT7onnhOQ545jgats41FrMFsVYv5675rm8ucy67byjwCHGzMxp0+HYl9zc3srgNuRs6ovzB/6eB4AOcRJPFF4VkhZYGIgarhzqHaYdIhyEGmgZAxjnFH0P1gjsAtH+7PtK+dP2vvSK8mvvZeuK5wnlHuTS403jAOPL49Xlo+jM6yDvWvIC9c32KvhO+uX9TwJTBmgJqgtdDX8OCw8xD3YP4A/KD7EOAQ0jC8UIUwX/AL38dPlD94D1jvOG8djvme6d7d/skuzH7FPt6e1s7i3vdvBA8k70kvb5+Er7Sf0B/40A/gFCA1IEVAWWBgAICwlLCf8InwhICM8HJgddBnIFWwQpAwkCLgHHAMgA9ADrAJMAHwAGAIUAlgHeAhMEFAUFBgYHOgiXCfwKJwz/DJwNQQ4JD+MPjhDiENAQpRCyEA4RThEcEXMQsg8QD7oOtw4BD0APQg/2DoIO7g1dDewMuQycDHkMQgwJDMQLeQsfC9MKjgo7CqYJ1wgWCMYH+gdhCGAIogdLBrUEFAOgAaoAQAD8/2X/bP5l/Z38+PsP+7f5Ufh794X3G/ii+L34lfhX+On3MfeW9nz24/Zu9+73Yvjr+E35G/kt+Af3Qvb/9dz1pfVy9ZL1B/aF9o/2A/Yn9YP0WPSR9Pb0k/VT9u72KfdG95z3NfjG+B35P/l4+QH66PoJ/Eb9cf5M/6L/hv9P/2j/8P+kADcBqAEIAkQCSAItAi8CYQKIAkwCnwHoAKUA7wBpAaABcwEXAeAA6wAXATIBSAGFAQoCxwKLAzAEygR6BTYGsAbKBsQGCwe3B34I8QjwCKsIagglCLwHLweoBjoGAAYYBm0GoAZvBuQFWwUUBfUElQTaAx4D3gIpA6QD6QPpA84DtANrA80CDwKWAYsB5QGAAhoDVAMEA1wCygGYAcIBBgIrAikCMwJ1AsYCtgIaAk4BxgCQAG8ARgApACMAEwC5/wT/Qv66/Vz9Af3E/Lr8xPyL/Of7EfuD+j76sflU+Hb23PQk9B/0LvTc81bzxfL88cTwi+/W7rnux+6x7m3uVO6T7hrvve+O8IPxVPKk8pPym/JE85f0KvZz92H4IPnk+cP6zPvf/LP9DP4N/iz+6v5iAC0CowNbBGMEGATsAxgEmQQ8BcQFCwYlBlYGvwYmB0QH9wZyBvQFoQVyBXkF5AXfBjEIawkYCiAKqwkOCXcIDAjjBwgIWAi9CDUJxwk3CkMKvgnJCLAH6QbEBkEH9wdNCMoHmQZnBcwEvQTlBBQFXwXJBSUGHgaXBboE0QPtAiQCxAELAs4CpAMsBDYEqgOZAjYB6P8t/1j/RgCPAbcCUQMVAxsC1wD6//L/kgA1AV0BPgFRAbsBNQJZAugB5AB2/+r9o/wT/FH89vxW/Q79KPz8+tz55vjp97D2NPXW8+Tye/Jx8qTyxvJ78pvxhfC1727vje/g71HwD/EZ8jjzJPTp9K31efYW92j3pPdV+Ln5gfsX/UH+Fv++/zsAiQCjAKkAtwDTAAEBZQENAtYChQP1AzUEVwRWBAgEawPLAqYCTAOdBBMGJgeRB2UHywYNBnoFTQWGBRoG+gYaCEEJBArwCRcJEgiWB78HJwhVCCUIswdbB1UHiQeIBysHvQavBhIHnwfrB6sHtAYwBYYDQwLMAScCAgMEBPgE0QVWBhEGjQQaAtb/+P7Z/9IB4gM4BYYF/QQABO8C9wEtAZUAPwBiAAgB7QG9AkIDNQMzAm8A2/5Q/sb+jv8WAF0ApgDXAFwA/v5v/Y/8f/zK/C79pP0l/nz+Y/7F/dj8zful+mr5jPiE+HD5uvp8+yn7Bvqa+DD3+/Vr9bD1cfYD9yL3/Pb89iP3Afc89iX1VPQr9Kb0tfUq97/4+/lt+hb6jPlY+Yr57PmK+or74/wj/sb+p/4q/tr95v0Z/kX+d/7y/uT/LQF2AmADsANHA2wCvAG2AVgCWANrBGUFEwY/BswFEwWuBAcF2AWLBsQGqwahBtwGLQdaB1IHNQcGB74GcgZIBjoGNgYXBrQF9AQWBI8D1QPRBOkFWwbJBXIEOwP/AsgDpAS/BDEEvgPkA5cEcgUEBuwFJAX4A+oCZQJ2Ar4C2gKrAmICOgIwAvUBeQEFAbcARQCP/x3/lf/cABICPAIpAZj/Y/7F/ZD9vP1W/in/rv+G/9D+Gv7K/av9S/2l/B38H/yl/En9mP15/RP9kPz/+377L/sn+177sPvb+737Tfup+iT6Gfpv+p76H/oQ+Sz4PvhD+Wn69Pr6+uv65/q/+oP6efrJ+k/7zPv8++j71PsL/If89/z7/IX84fuJ+8b7lfyW/Vj+nv6Q/mr+SP41/kX+c/6L/mT+Kf41/sP+rv+BAN8AzACUAH0ArwAyAfMBvwJYA5YDjAN/A7IDHASABJYETQTKA0sD+gLoAhEDeAMVBLQE/ATQBG8ENgQXBMwDIgMlAh4BjwDnACMCmwNkBN0DXgL0AIAA/gDTAYQCHwPpA/AEywX8BVAF+QNcAv0AYQDLAP8BNgOKA8MCiQGlADIAzv80/6T+kP4Y/8z/JQAFAKT/K//R/u7+rv/QANMBVAJRAhYC3gGgAUQB5wDRACsBswH5AdABhQF3AYcBTAGOAHj/aP6//bv9Nf7C/gP/3v58/hL+rP0t/Zf8I/wN/GX8Cv3a/cr+wv9jACIA3f4i/d77rvtu/Iv9q/77/3gBfgJsAmYBJQAw/63+v/5x/7gAZQIMBAoF0QRDA9cAkv5l/Zb9qP6w/xoAJQB+AFEB3gFHAYP/hf1x/Ln8+f1y/6kAhQH2AeUBXQGMAKL/3/57/ov+Cf/Q/7AAjQFNAsACnwLUAZwAfv/y/gD/S/+M/+L/cAD2AAUBdgCB/3T+nP0x/Uf9z/2c/nf/MgC0APgA/ACqAOz/CP+k/h//LgAkAaABuQGnAYQBOgGiALX/2f6o/jn/AABZAD8AKABlAMsA4wBhAHD/hP7x/cX97/06/mj+Yv5U/nH+t/7t/tb+aP7f/Yv9n/0f/u7+y/9qAJEARgDM/3P/Yf9z/27/RP8T/xX/ZP/x/40AAwEcAbwA9v8Y/5L+r/5T/wcAYwBmAFAARQBJAEcAGwCa/9P+Mf4a/qf+iv9SAL8A1ACkACYAVv9g/qj9if0K/uH+uf9yAP4AIQHAAAwAYf/t/rz+2v5X/zcASgEpAocCaQL1ATkBYgDR/9b/ZgATAXABiAHUAY8CMwMVAx8CzQC6/0b/lv+IAMABqAK2AtwBqADs//3/ewCkABUAQf/c/if/8f/hAH4BOQEAAHz+o/3y/Qv/AwA3AMr/Tf8g/z7/cP90/yH/hv75/en9mP7B/6AApADm/+/+Of7n/e79SP7y/sb/bQChAGoAFQDd/8b/tv+e/6P/+f+oAHoBGgIwApQBjgCy/3T/yv8dANT//v5p/sH+0P/NAC8B7wBOAKz/T/86/zX///6G/jX+rP72/0EBmgHUAKj/9f4Z/8n/YAB2ACYA5f8BAHEA2QDYAFYAj//h/qv+CP/W/8AAbQGkAW0B8gBZAND/jP+d/+D/RgDwANABeAJrAqQBrQAnAE4A0wAtASMB8gAGAZUBZALsArcCwgF5AID/QP+h/ysAbQBFAA0AOwDAAPIAXgBZ/6j+tv5H/9n/EQD+/9//3P8BAFcApABsAJf/t/6H/iz/KwDvAC4BAwHGALAAtwChAEUAvv9R/0//5P/3AB4CtwJaAi4Byv/C/nL+3v6a/w8AAAC+/8r/TgDmAO8ALwAJ/zL+Gf6T/iH/Y/9g/2r/uf8yAIUAdAADAJX/mv8zAA8BpwGrAUkB/wAWAVwBfAFiATsBLgE/AWEBewFtASABkADz/5//vv8fAGYAXQAhAPX/6v/J/2z/Bv/a/uX+9P7y/vP+Bf8W//3+ov4h/sT9x/0p/qr+Bf8x/zv/G//p/t/++/7l/ln+oP1k/RL+Wf9hAH0Avv/R/lj+cf7G/uT+n/41/hX+h/57/4IACwHSABMAT//u/gL/W//D/yMAeACwALEAdQAjAOn/0//F/6r/n//R/z4AuwAXASUBzAAqAJf/Xf+K/+z/RwCBAKQA0wAvAZQBowE0AZYAHgDI/3j/Vf+G/+n/NABOAFYAcgCSAHUADACr/6v/CwBwAIkAZgBeAJwA1wCpAAQAQP+6/q/+Jf/g/4UA1gDMAJYAaQBdAF4ARwAAAKH/dP+b//D/OgBqAIUAgQBGAN3/hP+H/+7/ZQCKAFMA/f/F/83/EABWAEYAxf8Z/7j+5v56/wsAVwBqAHoAlACXAGIAAACe/23/i//c/y8AZgCFAJ8AsACSACMAhf8V/y//2f+rACYBEgGkAFEAZgDAAO8ArQArAM//zf8QAGIAiwBqAPj/U//C/pz+//6m/ycAWgBGAAAArP93/3P/f/9o/yn/+P4Y/6H/VgDAAHkAqP/2/vH+fv8QAD8AAACK/zf/WP/k/3kAtgCNAEQAMgB/AAcBeQGMATkBtABQAD4AagCJAGcAGwD0/yoAtwBSAaABaQHVAEoADgADAOb/n/9d/2P/x/9iAOkAHwH1AIkAFgDV/83/1f/L/7b/w/8QAHIAjAA1AKv/Uv9P/4b/zv8DAAsA5v+y/5//xv8HABsA1f9g/wz/CP9Z/+L/ZACQAEYAwv9f/0f/b/+2//T/AwDq/9n/AgBeAKwApAA8ALb/bv+W/xMAmQDYAKwAMACu/2n/b/+k/97/9f/Z/6X/l//R/y8AagBWAAAAmv9R/zj/TP+C/9z/VwC8ALMAOAC//7P/9P8KAMb/T//1/gL/k/9iAO8A3gBCAJH/QP9s/8r/8P+6/1//PP92/+X/KgAAAIn/Nf9F/4r/r/+n/6P/yf8TAG4AtQDEAJoAWgAjAAAA3/+y/5//4f94AAsBIAGQAMr/dP/O/20AswB+ACIA9P8RAG4AuwCMAN7/Kf/v/jz/sf/t/9z/pv+E/4//qf+i/3z/aP+G/8H/4f/O/6n/ov/C/+X/1/+P/z3/IP9T/7r/FQA3ACQACwAYAEoAdABmABoAtf93/4//3v8LAOf/n/+G/63/6f8MAAoA7f/V//H/QgCYAMIAvQCgAHkAUAA7AEQAUgBLADsAPABWAIIAtADaANMAmgBOABgAAwAJACMASABpAH0AjQCnAMgA6AADAQcB2ABuAPX/rP++/wgANgAXANb/uv/R/wEAOwBmAFkADwDG/8T/DwBtAJkAbQD5/3j/NP9J/47/yP/a/8T/jv9k/4z/BgBxAHAAHADN/63/tP/K/8z/kv8k/8r+zf4w/7r/HwA5AA8A0v+u/8P/EABkAHUAKwDO/6z/zf/5//3/w/9P/9P+nP7E/hj/Xf+P/8r/CwA9AFoAaQBhAEEAFwDp/67/dv9r/6T/+P8cAO3/h/8s/xn/XP+4/9X/of9s/4n/9P9RAE4A6/9r/yf/RP+g/wAAOQBCADUAMwA+AD4AHwDp/7//wv/m//z/6v/K/8n/7f8cAEIAWgBiAF0AWgBfAGEAXwBeAFUAJwDT/4v/jP/d/z4AYgAzAOn/2P8jAKAABwEhAeMAiABqAJMAtACKADMADwBKAKYAuABOAKb/Qf9r/wIAqQD5AMcAXAA7AJYAEgEpAbUACACa/63/LwC9AOMAhgDx/4j/e/+n/8b/s/+D/2P/c/+y/xAAbgCcAIIANwDr/8H/x//1/yYAMwAMANH/tf/W/w0ADwC3/zn/7/4B/1T/vv8NAB8A+//Z/+T/BwAUAPX/tP9r/zr/RP9+/6r/mf9k/0b/W/+X/+L/FAALANn/zv8eAKAA+QAAAcMAbQAwADcAbgCJAFMA7f+t/9H/RgDAAPQA1ACMAFkAXACNAMIAxACMAEoAMgBCAFgAUgAtAPn/zf/B/+D/HwBdAGkAMwDh/7H/vf/w/xsAFgDV/33/VP95/8H/7f/m/7//kv99/5//6P8XAAIAzv+7/+H/KQB2AKgAqAB3ADMAAADx//r/CAACAN3/q/+X/7f/8P8bACsAKAAXAAAA8f/2/wwAFgDw/5v/VP9U/5L/4/8vAGcAaQA6ABQAIQBKAFUALwD8/+n/CABGAHEAXgAaAOH/2f/0/wwAEwAWABsAHQATAPv/3f/M/83/4/8PAD0AQgAPAMb/oP+6//P/CwDh/4v/S/9L/4n/3f8UAAcAxP+H/4H/qv/R/9H/rv+P/5f/zf8RADsAKwDd/3D/If8b/1f/o//S/9X/xf/N/wwAaQCcAHwAMwAAAOz/5P/y/w0ACgDg/87/BABVAGsAMwDi/7H/vv/9/zcALgDp/7L/yf8XAE8APwD2/6b/gf+a/9j/BwAOAPX/1P++/7L/rv+7/+H/GQBKAFwAUgA+ACsAEgDt/8D/ov+l/8H/4P/x//L/5f/S/8L/uf+y/6v/qv+0/8L/yP/G/8X/1f/5/x8ANgA7ADMAHwAJAAwAKgBCADkAGwALABcALQAuABgABAAHAA8ADAAQACQAJgD9/8L/qf/F//r/HwAmABsAHwBDAGcAVgALAMr/0f8TAEoAQgANAOX/8/8vAGEAWgAfAOH/zf/t/xkAKwAdABMAJQBCAEUAHwDo/77/rf+u/7D/qv+w/9n/IABeAGwASgAdAAcAEwAvAD4AMwASAPH/3f/d/+X/4f/L/67/n/+q/8v/8f8PACcANQAvAA4A4f/G/+L/GwAqAPr/0v/2/z4AUwAjAOD/uf/E//n/NQBSAEQAJwAVAA8ABgD5//D/8f/3/wAABgAAAPH/6f/w/wAABQDw/9v/AABgAKQAiAA3AAgACgAdAC8APgA6AC0APwB4AKwApwBmACIAGwBUAI0AggA3AOP/sf+v/9b/AgAHAOb/3v8OAEUARgAcAPj/5f/R/8L/x//h////DwAEANX/lf9v/3b/jv+U/4f/ff+C/5r/wv/n/+n/vv+L/3r/jv+z/9r/+P8AAO//2f/S/9H/x/+y/6L/qv/K/+3//f/5/+7/6f/o/+X/4v/t/wUAEwAPABQANwBhAGsAUgAzACIALwBeAJAAkABUABMACwA2AF4AVgAoAP3/8/8HABsADwDz/+n///8TAAcA6f/h//j/FAAbAAIAzf+k/77/EgBNADAA3v+o/7H/3f8IABQA7P+r/5v/1P8SABgA+v/r/+z/5//q////CwD1/87/vP/R////JwA6AD8APgA2ACYAFwAWAB8AIwAbAA8ACwAYADMARQAyAAIA3f/p/x8AUgBSACIA8f/q/wsAMwBCADYAHwAIAPH/2P/O/9n/6f/m/9b/zP/R/+r/GABFAEYADwDW/8//+P8hACsADgDR/43/b/+D/6b/rv+X/4P/k//E//X/AQDp/8L/pv+f/67/x//V/9L/yf/N/+H/+f/8/+r/2v/c/+X/5v/p//n/BwAAAOH/w/++/93/EwA/ADoACQDZ/9L/8f8NAAcA5//S/9///P8MABAAFgAbABkAHwAwADIAGAD9//j//P/1/+3/8v/0/+z/7f8LADYATABDACYAAwDr/+X/8f/9//n/6f/d/+H/9v8LABcAFwAOAPz/6P/h//T/FwA3AEIAOAAnAB4AGwAaABsAGwALAOz/1f/i/wsANAA6ACAABAAAAA8AHQAnADEALgAXAP3/7//t/+r/5f/n//X/CQAXABoAGwAeABMA9v/h/+v/AwARAA8AEQAfADMAPgA0ABMA9P/x/w0AJwAdAPX/zf+5/7//3v8AAAMA5v/O/93/AAASABAAAADY/6n/p//j/yIAKAD9/9z/7f8dAD4ANwAbAAgAAADz/+n/8P8AAAcACAADAPT/5v/1/yMARgA0AAAA2//Z//P/HwBIAEYAFgDp/+X/+P8AAPn/9/8AAAoACwAGAAQACgALAPr/5v/a/83/wf/a/xoASQA2AAAA4P/U/83/1v/2/wsA/v/p//L/DwAhABsACgAAAAIABwAJAA8AHwAuACoADwDu/9X/z//d/+//8f/g/9X/5f8HACYANwA6AC4AHwAfAC8AMgAVAOn/0v/h/wEADwAAAOn/4//t//H/6f/g/93/5v8AACIAMgApABcAEgATAAcA6f/I/7r/x//l//z//f/n/8n/uf/K/+//AwD0/9X/yf/Z/+3/7f/b/9L/3f/t/+T/wv+f/47/m//G//n/DwD8/9X/xv/h/wwAFwDy/8L/s//F/9n/3f/Z/9X/1P/V/9P/zv/G/77/tv+6/8r/3f/n/+n/7f/9/wsA/P/P/7b/0P8AABMABAD2/wMAJQA3ABwA4f+2/8r/CwA6ACoA+f/g//T/FQAjABMA8f/a/+n/FQA6AD0AKwAeAB8AIAAbABQADwARABsAKAAvACwAIwAYAA8ABADx/+L/9f8pAFoAXQA3AA4AAwATAB8AEwD9//X/BwArAE4AYABSACkAAAD1/wsAMgBKAEQAJwAMAAcAFwArAC0ADwDl/9b/8v8bACwAIwAYABsAJAAnABwAAwDt/+n/9/8HAA0ACwAOABMAFAAQAAUA7f/L/77/z//l/+f/3f/f//X/BwD4/83/uv/a/wMACAD5//3/EgAgACAAEgDs/7r/r//a/wMA/f/i/+L/+P8BAP3/+/8AAAcADwAWABsAGgALAPb/7f/8/w8ADgD1/9f/0v/k//X/8//t//r/GwA0ACcA/P/Z/93/+P8GAP3/5v/R/8n/1f/w/wMABQD5/+3/8f8AAAsADAAPACAALgAnAA8A/v8AABMAKwA1ACcACgD9/wgAHwAoAB8ADQD1/9r/zv/Z//H////9/+r/yf+q/6r/0f/8/wYA8f/W/83/3f/9/xcAEwDt/8L/r/+t/7X/zv/1/wMA6f/O/9z/AAANAPn/1v++/77/1f/3/xAADQDl/6z/l/+//wsAPwAyAPv/1v/n/xcAMQAjAP7/0f+1/8L/8f8TAAkA4f/I/93/DgAmABAA7f/n//j/AAD9//z/+P/v//X/DwAeAA8AAAAIAA8A+//m//H/CwATAAgA/P/s/+D/7f8RACcADQDV/7L/xv8AAC8ALwAHAOP/5f8KAC4ANQAjAA4AAwAAAAAACAAbAC4AMgAhAAsABgATACYANwA/ADIAHgAjAEkAZQBTACMABwAXAEIAZgBuAF4ASQA6ADYAQwBZAF0ARwAzADgARgBEADcAMQAuACcAIwArADIALAAfABUAAwDs/+X/AAAjADEAJwAWAAsABwADAAEACAATAA8A9//h/+b//P8JAP3/4f/S/9v/8f/9/wAAAQAAAPf/6f/j/+n/9P/1/+j/4f/x/wsAGgAXAAgA8f/V/8b/zP/d/+j/7f/0/wAADgAbACEAHwARAPT/2P/a//3/GwATAPX/6P8AACcAOgAmAPX/yv/G/+j/EwAuADMAKgAbAAwABwAPABcAEQD8/+f/6f///wcA8//W/87/2f/i/+X/7P/1//T/6f/a/9H/2P/t//7/9f/O/6b/nv/C//L//P/Y/7b/wv/s/wkAEAALAPz/5//m//z/BwD3/+r/+v8PAAwAAAAHABsAIAAUAAAA6f/a/+X/CQArACgA/P/I/7r/1//w/+f/3v/0/w4ACADt/+T/8P///wQAAQD4/+7/7f/z//H/4f/V/9///f8VABcABADt/+X/9f8JAAsA9//h/+T/AwArAD4AMwAXAAEA+f/6/wAACQATABAA+P/c/+H/GgBqAI8AXgD5/7b/yv8XAEgAJgDb/8L/AABNAFcAIADw//D/DQAnACQAAADi//n/OQBmAEgA7P+j/77/JQBhACsAwv+X/8H///8XAAkA8f/t/wsAKAATANb/rv/Q/ycAZABSAAEAsv+j/+n/QABKAPb/m/+b/wAAbwCFADoA5v/L/93/4f/K/8j/BABaAHkAMQCu/2T/r/9OAJsARQC7/5j/7P9FAFMAGgDR/7L/3f8pAEoAKAD9//P/8P/S/7v/2P8WADsALwAGANj/yv/5/0AARgDs/4f/iP/4/3EAhQAjAKL/bP+q/xUARgAkAPn/BgA2AD8ACwDQ/8b/7/8XAA8A5f/P/+X/DAAfAAkA2f+5/8n//v8rACsA/P/H/77/4P/8//L/1v/Z/wcAPABGABwA3f+2/8L/5f/w/+P/8f8wAGkAUwD1/6L/pv/7/1IAWgALALT/pv/s/0IAWgAbAMP/pv/X/xcAJAD5/8z/0v/6/wsA7//G/8r/CAA9ABoAq/9Y/3r/7P9CAEsAIADw/9j/4f/y/+n/zv/O/wAARgBhADcA7v/B/9P/DAAwABMA1P++//f/UgB7AEIA2v+r/9P/BgAIAP3/JQBxAIMAJwCb/1z/r/9SALUAiQADAJb/mf8EAHUAhQArALr/jv/K/ykAUgArAO3/4P8bAGAAVQACAMr/7f86AEwAAwC1/8b/NgCUAH0ADAC4/8H/BAA3ACsA7f+8/9r/KwBVACkA3v/G/+z/GAAjAA0A6f/Q/93/BQAfABgACwAUACsALAADANX/1f8PAE4ASwD8/6z/t/8XAGEAPgDe/6f/uf/o/wwAGAALAPT/7f/5//z/7v/l//T/BwAAANn/vP/O/wcANgAuAPn/xv+6/9T/+f8QABMACAD5/+f/3f/n/wQAJQAvABUA6f/F/77/z//h//P/FwBMAGIANADd/6T/wv8VAEIAGADW/9H/DwBPAF4AOAD5/8P/uv/f/xsAUQBmAFEAHwDs/9b/5/8HACIAPwBXAEUABwDW/+b/IwBLAEIAIwAXADAAWgBnADoA8v/K/+n/MgBsAHYAUwAWAOj/9f85AGkATwAMAOf/+P8iAEIARwAvAAgA6f/g//X/GwA2ACoAAADR/63/rv/q/z4AWQARAKr/hf+6/wcAJwAGANH/wf/l/xgALwAWANn/o/+m/+H/FwAYAO3/wP+q/67/0v8DABsAAADK/6v/vf/0/ysAPgAXANX/uv/k/x4ALAAIANn/vf+9/9n/BwAzAD4AGwDd/7L/vv/5/y0ALwD7/8L/uf/p/yoAVwBRAA8Avf+n/+L/JgAoAPH/xf/R/wUANwA7AAcAw/+m/8r/DwA9ADIAAgDh/+n/AwAPAAwABQD0/9v/5v8iAFkAVQAkAPb/3f/Z//H/JABaAGQALwDe/7b/5v9OAJQAbQDw/4P/hf/s/18AiQBYAPD/nv+i//n/UgBoADsA+//R/87/8f8iADIADgDW/7T/uv/c/wMAJQA3AC4ABwDW/77/0/8AABYAAADZ/9H/AQBOAHQAQgDY/4v/nP/9/1EATgD9/7b/v/8AAC8ALwAPAOX/xP/K//b/IwAxAB8AAADh/8r/wf/T/wQAOQA+AAAArv+N/63/7/8oADQA/P+r/5//8P9CADMAzv97/4r/6/9GAFMABwCz/67/+P82ACIA1v+r/9X/KgBVADcA\" type=\"audio/wav\" />\n",
       "                    Your browser does not support the audio element.\n",
       "                </audio>\n",
       "              "
      ],
      "text/plain": [
       "<IPython.lib.display.Audio object>"
      ]
     },
     "metadata": {},
     "output_type": "display_data"
    },
    {
     "name": "stderr",
     "output_type": "stream",
     "text": [
      "100%|██████████| 75/75 [02:13<00:00,  1.77s/it]\n"
     ]
    },
    {
     "name": "stdout",
     "output_type": "stream",
     "text": [
      "Epoch 0, Loss: 0.801279201383392, Training Accuracy: 89.41666666666667\n",
      "Backdoor Attack Success Rate: 2.7777777777777777\n",
      "Clean Accuracy Drop: -1.3333333333333428\n",
      "Running experiment with poisoning_rate=0.05 and frequency=10000\n"
     ]
    },
    {
     "name": "stderr",
     "output_type": "stream",
     "text": [
      "  1%|▏         | 1/75 [00:01<02:11,  1.78s/it]"
     ]
    },
    {
     "name": "stdout",
     "output_type": "stream",
     "text": [
      "Playing clean audio for sample 0\n"
     ]
    },
    {
     "data": {
      "text/html": [
       "\n",
       "                <audio  controls=\"controls\" >\n",
       "                    <source src=\"data:audio/wav;base64,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\" type=\"audio/wav\" />\n",
       "                    Your browser does not support the audio element.\n",
       "                </audio>\n",
       "              "
      ],
      "text/plain": [
       "<IPython.lib.display.Audio object>"
      ]
     },
     "metadata": {},
     "output_type": "display_data"
    },
    {
     "name": "stdout",
     "output_type": "stream",
     "text": [
      "Playing poisoned audio for sample 0\n"
     ]
    },
    {
     "data": {
      "text/html": [
       "\n",
       "                <audio  controls=\"controls\" >\n",
       "                    <source src=\"data:audio/wav;base64,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\" type=\"audio/wav\" />\n",
       "                    Your browser does not support the audio element.\n",
       "                </audio>\n",
       "              "
      ],
      "text/plain": [
       "<IPython.lib.display.Audio object>"
      ]
     },
     "metadata": {},
     "output_type": "display_data"
    },
    {
     "name": "stderr",
     "output_type": "stream",
     "text": [
      "  4%|▍         | 3/75 [00:05<02:08,  1.79s/it]"
     ]
    },
    {
     "name": "stdout",
     "output_type": "stream",
     "text": [
      "Playing clean audio for sample 1\n"
     ]
    },
    {
     "data": {
      "text/html": [
       "\n",
       "                <audio  controls=\"controls\" >\n",
       "                    <source src=\"data:audio/wav;base64,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\" type=\"audio/wav\" />\n",
       "                    Your browser does not support the audio element.\n",
       "                </audio>\n",
       "              "
      ],
      "text/plain": [
       "<IPython.lib.display.Audio object>"
      ]
     },
     "metadata": {},
     "output_type": "display_data"
    },
    {
     "name": "stdout",
     "output_type": "stream",
     "text": [
      "Playing poisoned audio for sample 1\n"
     ]
    },
    {
     "data": {
      "text/html": [
       "\n",
       "                <audio  controls=\"controls\" >\n",
       "                    <source src=\"data:audio/wav;base64,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\" type=\"audio/wav\" />\n",
       "                    Your browser does not support the audio element.\n",
       "                </audio>\n",
       "              "
      ],
      "text/plain": [
       "<IPython.lib.display.Audio object>"
      ]
     },
     "metadata": {},
     "output_type": "display_data"
    },
    {
     "name": "stderr",
     "output_type": "stream",
     "text": [
      "100%|██████████| 75/75 [02:13<00:00,  1.79s/it]\n"
     ]
    },
    {
     "name": "stdout",
     "output_type": "stream",
     "text": [
      "Epoch 0, Loss: 0.7844241405154267, Training Accuracy: 90.79166666666667\n",
      "Backdoor Attack Success Rate: 49.25925925925926\n",
      "Clean Accuracy Drop: 0.5\n",
      "Running experiment with poisoning_rate=0.05 and frequency=24000\n"
     ]
    },
    {
     "name": "stderr",
     "output_type": "stream",
     "text": [
      "  0%|          | 0/75 [00:00<?, ?it/s]"
     ]
    },
    {
     "name": "stdout",
     "output_type": "stream",
     "text": [
      "Playing clean audio for sample 0\n"
     ]
    },
    {
     "data": {
      "text/html": [
       "\n",
       "                <audio  controls=\"controls\" >\n",
       "                    <source src=\"data:audio/wav;base64,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\" type=\"audio/wav\" />\n",
       "                    Your browser does not support the audio element.\n",
       "                </audio>\n",
       "              "
      ],
      "text/plain": [
       "<IPython.lib.display.Audio object>"
      ]
     },
     "metadata": {},
     "output_type": "display_data"
    },
    {
     "name": "stdout",
     "output_type": "stream",
     "text": [
      "Playing poisoned audio for sample 0\n"
     ]
    },
    {
     "data": {
      "text/html": [
       "\n",
       "                <audio  controls=\"controls\" >\n",
       "                    <source src=\"data:audio/wav;base64,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\" type=\"audio/wav\" />\n",
       "                    Your browser does not support the audio element.\n",
       "                </audio>\n",
       "              "
      ],
      "text/plain": [
       "<IPython.lib.display.Audio object>"
      ]
     },
     "metadata": {},
     "output_type": "display_data"
    },
    {
     "name": "stdout",
     "output_type": "stream",
     "text": [
      "Playing clean audio for sample 1\n"
     ]
    },
    {
     "data": {
      "text/html": [
       "\n",
       "                <audio  controls=\"controls\" >\n",
       "                    <source src=\"data:audio/wav;base64,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\" type=\"audio/wav\" />\n",
       "                    Your browser does not support the audio element.\n",
       "                </audio>\n",
       "              "
      ],
      "text/plain": [
       "<IPython.lib.display.Audio object>"
      ]
     },
     "metadata": {},
     "output_type": "display_data"
    },
    {
     "name": "stdout",
     "output_type": "stream",
     "text": [
      "Playing poisoned audio for sample 1\n"
     ]
    },
    {
     "data": {
      "text/html": [
       "\n",
       "                <audio  controls=\"controls\" >\n",
       "                    <source src=\"data:audio/wav;base64,UklGRlgzAABXQVZFZm10IBAAAAABAAEAgD4AAAB9AAACABAAZGF0YTQzAAAAANn/vv/V/w0AMAAaAOL/vv/M//P/BQAAAPb/5f/S/9n//v8MAPH/5/8QACYA+f/b/wYAJQDx/8D/5/8YAP3/zf/g/wsABwDn/97/8//7/+b/2f/y/yIANwDW/7z+jf2f/Rn/SQAMAIL//f/OANgAmAD5AI0BfwEAAbgAxwDXAK0AZABDAFoAXAARAL//tf/X/9v/v/+r/6L/kf+J/4f/bf9D/yr/NP86/7b+OP19+0T7OP3G/x4BRQE9AUsBMwEnAYsBWwINAwQDTALKAeMBwQHcABIAPADFAKMA5/9c/2D/lP9e/7r+V/6j/hv/HP/c/vH+bf/g//L/x//N/ycAaAA4APb/EwBoAJwAygAZAT8B/wChAHkAagA2AOb/tv/M///////F/7P/9f8XAM//i/+v/8j/dv87/5D//f/w/7T/u//I/5j/mf8OAFkAGQD3/2oAxABnAOn/FQCrANwAawDC/1P/Q/9t/5z/zP8AABoA9P+j/3T/pP8NAEEACACx/5z/vP/U/9n/6/8AAPz/5v/O/6//m//N/zEAPwDg/8//UwCAAMT/B/9J/wkARAD2/7v/yv/s/wAACgAbADAAJgD9//X/HwAmANf/if+r/ycAgwBrAP//lf95/83/NQAWAJX/qP9zAJoAYP8X/j3+Tv/g/6X/Xf+W/yAAaABFAEYAwQAiAeIAegCbABcBKAF4AIL/Ef9q/wAACABh/5j+R/6T/ir/nP++/7//1/8oALwAUAFnAe4AegByAIIAVQA4AHkAuACHACkAFwBBAFYAQwAjAAAA2//L/97/AAAXABoAFgAaACoANQAxACgAJwA1AEEANAAfADYAbQBbANz/Yv9Y/5X/q/+I/3r/zf9LAFoA5P+1/ykAZgDL/y//fP8xAGIAHAAJAE8AhgBPAML/VP9f/73/AgAAAOX/9P8eAP7/if9W/7L/CgDm/8D/MQDvADgB1gA6APT/DgAZAMb/Yf9a/6L/0f+v/37/pf8NAAoAX//R/gj/kv/L/+j/WADiAPEAXACp/4v/AABAAOL/i//t/6wA1QAbACn/2/5p/zQAcAD0/1D/K/+a/yYAaQBsAFsAGQCM//X+zf5H//f/JQDR/9v/uQCcAYUBogD0/w0AnADvAL0AbAB1ALkAzgChAF4ADQCR/+f+Yf5+/kr/CgAkAM7/e/8o/93+IP8iADIBfQELAZIAoQALASQBogAPAP//QABfAG0AkwCDAAcAfP9H/0T/Iv/b/rH+zf4L/xz/6v7B/vb+ev8PAJMA4QDJADoAef8n/83/DAG3ASQBDwCn/yYA1QD/AHAAbf+c/qX+hv+TAA4BugACAIn/ev9r/w//tf69/vH+KP/B/74ATAHMAMz/YP/0/9UACgFmAL//7f/VAH4BJQEfAH3/x/9aAGAA9v+0/67/s//o/0wAaQDj/wP/aP5v/vL+ev/C//b/LgAkANn/6f+IAN8ARQBj/zX/uv9XAMsA9wCRAKj/6P7v/qP/SABCALf/YP/D/5MA6gA0AOn+Lv6u/uT/ygDyAJMA//9//27/6P+SAPYA5ABeAIb/yf7B/nL/CwDo/2L/O/+h/zkArwDBAEIAav/a/hL/8//XABgBlwDL/1H/bf/f/ycAGAD0/wEAMwBlAKEA5gDiAFkAiP/+/h7/uf80ACoA2v+t/67/xf8PAIIArABIAL//qP8ZALEA/gC6APP/FP+y/iD/KQALAf0A+P/b/o3+Kv8SAKAAsgCTAHoATwDw/4n/cP+w//7/GwDv/5X/Xf+I//3/UAArAKL/NP9h/xYArACgACoAx/+T/4L/sv8bAE8AAAB7/0v/sf9fALkAigBFADMA/f99/1X/+f/GANMADgA7/xD/lf80AGoARAAYAP//2f+x/6v/vf/R/+b/9f/l/73/sf/S/+X/wv+W/6b/8/80ACcA3/+///X/MwAsAAEA8//y/9X/sP/O/0MAwADIACwAU//k/jj/AwCgAKQANgDB/4j/g/+V/7z/AQBDADMAxv9v/4z/5f8TAA0ADgA2AFEACwCM/37/DQB1ABwAi/+K////LAC+/xX/zf4u//L/jAC8AKsAnwDAAAsBSQEzAcQAQwD8/wAAIgA1ACYAAADe/9j/7f8AAPv/2P+v/6P/wP/z/x4ANQA2ABoA7P/M/8b/vf+i/6T/3v8ZACwARAB7AIMAOQABACgAWwA2AOf/2P8aAGMAeABRAA0A3f/Y/+z/8//Y/6P/f/+j/wwAeACdAGsACgCw/3r/bv9+/5X/q//L/+z/8//e/9n/CABPAG4AUQAAAJX/T/+J/0IA/QAmAaAA0/9F/zj/iP/o/ygASQBdAGQATwAqABsAIwD//47/LP83/5T//v9eAKEAhQDv/yr/xf4f/+f/TQANANz/QAC4AJQADwDL/9f/4P/L/9T/NgC+AMYADwA6//f+Nv+T/wEAlgALAegAGgAZ/5j+Af8MAP4AQQHJAAAAd/+I/wsAeABlAOb/aP9S/7H/QwCxALoAfABRAE0AGACQ/y3/XP/V/zEAiADcAKsAtv+m/mH+Af/x/5MApQBDAL//X/9P/6T/JwBcABMAsf+l//P/PgBCADIAeQATAVoBywC///j+2f5F//P/mgDxAMMAGgBJ/83++f6j/0oAdwAmAMz/v//W/+r/KgCjANMAaADa/8T/JwCCAHcALgAcAGIAkQBIAM3/j/+H/3X/b/+i//L/JQA2ACoA8v+g/3v/q//y//z/vv9u/0X/bP/z/64AMwEkAXgAif/a/sr+YP9EAPAAGAHWAGAAyv8z/+n+H/+i/xIAQgA8ABsA8P+9/5n/sf8AADQAGADZ/8P/5v8HAPL/wf/M/ycAaQA9AOj/0v/y/wkAGwAzACcA3P+J/4D/2P9aAK0AmAAoAIz/9P6i/tv+qf+tAFcBTgGuAOb/YP9G/27/lf+n/8z/FABPAEkAGwD8/+T/yv/M/+z/5P+f/33/vf8LAAkA2v/K/8r/rv+X/7H/5f8VAFAAngDWALsAQQC+/7L/MQCdAIUARgAtANX/Ff/D/oD/nQABAXoApP8P//T+U//6/5MA4QDWAHYA5f9l/0b/mf8MADsADQC1/23/W/+I/+H/NQBcAEIA9v+j/3D/bv+T/8v/CgBQAHUAQgC3/yv/Ev+W/2MA8AD6ALsAhQBdABQAo/9F/zj/f//m/xsAAADE/77/BQBPAEcA9P+N/zf/Cf8r/6H/JwB2AIYAdABPACMADgAMAOT/mf+X/xUArADiAMoAqgB2AAwAl/9P/yn/G/9i////dgB7AF8AZAAzAIj/3P7U/mz/JwCuAOIAugBVAPP/wf++/9T/8/8YAFAAgwB3ACQA2v/J/67/af9j/8//JQAAAM7//f8zAO7/Yv8f/1H/zP9rAP0AMwHmAEIAo/9F/y3/OP9U/6T/OwDvAHYBnwFOAWkAMv9I/iz+vv6P/18A/wAkAc8AegB4AHYAHgCl/1f/Kf/6/hH/sP+fAGYBrAFiAaAAmP+K/tD9wv1z/pX/mgAYAf4AkwApANf/pP+k/8n/yv+G/1T/iv8MAIUAyQDJAGkAy/9h/3r/1/8lAGwAtQC5AFcA9f/q////6f/a/wYAMwAhAAEADgAZAOv/pP+P/73/AAAnADIAQwBpAHcARwABANj/vP+g/7L//f8zACYAHABXAJ8AnABeABwA1/+B/0b/S/96/6z/2P8FACgAHQDK/1f/Hv9F/4f/m/+W/7r/DABaAHgAXQAaANv/y//x/ycATABdAGUAXQBEADUATQB3AIsAawAGAG3/5P7N/lf/QwD6APAAKQBG/97+Av9l/8v/KQB4AJcAagAEALH/rf/l/yEAUABnAE8ABgC+/7j/DQCIAMgAngBDAAIA8//4/wAAFAA1AEkAJwDL/2D/Jv84/3D/h/98/6X/GQBoAEMAAgD8/+P/dv8f/1P/1/8oADYAPABPAGEAawBWAAAAcf/1/tv+OP/S/08AiQChALgAugCIADYA6/+w/3r/U/9Z/6P/GQB4AIUAQwDk/5X/bP9t/4//vv/q/w0AKABDAF0AagBlAFAAKwDl/4n/VP9p/6L/1/8bAHgArACEACgA5//Y/+X/8//9/w4AFQDk/43/iv8OAJ4AvgCjAJgAaADg/2L/UP9r/2D/Yv+y/xkASwBeAIAAkgBdAOb/bv84/1D/lf/a/w0AQACGAMQAugBiAA4A9//k/6T/b/+K/9j/BQAAAO7/9P8OABkABwABABgACwC9/3z/kP+8/7r/sv/d/xkAJQAAAOX/8/8XABoA6P+x/6H/of+f/83/OgCRAIgAUQA4ACYA9v/M/9P/5P/a/9n/CwBPAHQAhgCeAJ8AaQANALT/bf89/zj/aP++/xwAagCbAK4AnABPAOD/pf+z/67/a/9i/+v/ngD0AP8ACwH8AJYA9P9o/yr/Ov97/8r/DQA4AEMAKQDz/8L/vv/l/wAA6P++/7n/5f8mAF0AfgCFAG8ANQDn/7H/rv/K/+v/GwBfAIQAaQA2AA4Ayf9e/y3/Z/+u/6j/mP/I//H/z/+z/+D//v+z/0f/Jv9E/1z/bv+n/w0AfADIANUAoABKAAAA2f/L/8z/5v8gAGoAoACuAJgAawAyAPP/sv97/1v/Uv9r/7//PQCfALcArwClAGkA3P9G/wP/D/88/4n///93ALwAuwCAABoAr/98/47/r/+5/9r/KwB3AIgAhgCrANUAvQBeAOj/h/9i/5b/CABqAI8AoQC7AK0ARwCx/0X/OP9q/5X/ov/M/zEAkgCgAGsAMQAAAMT/if9l/1//fP/M/zkAhACNAHkAZgAmAKj/Of8v/3r/0v8bAFoAhQCGAF0AFACw/0L/9v7X/sz+0P4R/5b/DAAfANn/gP84//n+wP6X/pf+0/5F/83/QgCMAKAAhABCAO//o/90/1//a/+x/yMAdgCEAIcApwCeADwA2//I/8n/nv+Y//z/dgClAK8A1wDvAK8AKACq/2D/Tv9t/7b/GgCNAPAAJQEYAdUAeAAlAPP/4//l//r/NgCSANQA4gDkAPoA7wCWABsAzf+9/9D/8/82AK4AOgGDAVgB4wB9AFAAQQAnAA8ARADYAHUBvwHIAbwBgwH4AEMAt/+J/57/r/+n/83/MgBoACEAs/+A/1D/3/5//oH+ov6a/rX+JP94/0L/wf5d/gP+ef3s/Kz8w/z9/Dz9Zv1j/TP9+fzK/Jv8afxZ/Ij86/xV/ab99P1w/hf/lP+4/7//8v9CAH0ArgAMAawBZALsAigDPQNXA2QDSQMVA/YC+gILAxUDDwP6At4CxQKbAjAClAEoARQB/ACiAF8AiwDUAMsAhwBbAEEAHQAOADEAXABsAIYAzQAXATwBTwF1AZ0BqAGfAZwBngGhAbkB8AEjAikC/AGxAVsBGAEMATUBWwFKAQsBzgCtAKgArQC2ANYADgFbAa0B/AEaAp4BGgCM/Wn6iffN9cT1Lvca+Yf6/fqK+nn5GvjP9gb2E/b59m346PkX+wn8FP1i/rD/lgDwAPgAGQGMAVgCdAP3BMEGPwjqCLsI1wdDBj4EgwKnAZABsQGsAW4B/gBUAFL/A/6q/I/7ufoj+v/5d/pn+4r8p/2b/jj/Xv8P/6r+z/6+/xYBeAL6A6YF8AZhBzcH9wa8BmcGEAbgBdkF0QWkBUoFzwQxBEkDEwLJALX/5/5U/vf95P0g/n3+pP5v/hP+2P3A/cD9+P2K/lL/IwD+AOgBtwI+A3IDhAOoA+EDEgQlBFYE5wS+BWQGRgbBBIIBG/0d+eT2pPau90b5kfqO+gb5+vZd9RT09vKk8przSPWu9qb3n/jV+T37qfzT/W7+kP7O/qf/MgE2A30FtgdYCfYJnQmsCJIHtgZtBr4GUAeDB9cGQAUwAzcBlf9G/i/9Nvw/+0f6efkQ+Rv5g/n/+Uv6Qfr5+bz56/nH+lL8SP4vAJABTwLFAlAD9wOsBIoFmAaSByAIQQg4CEEIYghpCBgIUAcqBukEvgO2AucBdwFMAeEA6v+0/rn9Bf2F/Fn8pfw9/bv9sf1l/Z/9jP4l/1H/mQAvBNwI9Ax5EJsUbRk+HhoiUyQOJYokxyM2JLYmdymLJ4EbfAQ06PDQsMYhynfUidwU3FTSS8MMtc2rVKgMqhWwcbhAwPHEOMdwynXRa9ws6NjwP/WL98L70wQGE0kjujA3OP85HDiyNIAxjDDnMl434zp1OgU0mCeHF6EHUPu587LvueyK6GPiE9s31MHPis70z9DRgNKC0tHTItjr3xLqY/RI/OQA1ANbB60MORQPHuwo4DGANi03GTYtNTY1+DV9Nn81KjKqLNcluB4mGDwStgwAB94Akvrd9G/w2+3v7BPtQO3Q7K3r2Oqw6+HukPOI+BX9NQHoBC4ISQvlDm8T6xhzHsYiBiVIJVMlViZrKDMrmy2RLHoj+Q4K8kvWSMeoyfjWV+L84V3UWr8BrMihN6LYqLGw07d7vevA7MHWwnDH+9BS3cHokvDD9Q/8vAZtFQwk1i3XMFovMS55MOY1IzwMQSRDhUFgO5AxJidZH6EaehUFCz/6Dejp25PZW92G36na6s8Dxbi/G8LNySzS6NiY3sHjeeeu6SrtcfU8AoIPMBn5HREghCOjKpsz7jnbOtk39jQwNZ03xTiRNsEx6SvrJNkbghGiCCIDrQDA/q76x/NK7DHn4+UV56rofelY6mrs3u+r8wX3G/oG/iEDsQijDZUR/xQAGRkeeyM0J3go0ihmKZcqLSwXLogwTDF7KawSG+9LzRe+rcbC2zjqkuTdy5WtPZmJlU6e9qrktBq67Lt7u2W64rsPw2nQ998i7JPzvvlHA8ER3SFwLXcwTC1uK30wozsnR6RNWk10Ry4+hTReLH0mnyMCI6ogGBdjA4bph9NRyk/OZdYi2GHQXcR+u+u53r63xqPNAtPW2E7gn+gI8QT6HATlDf8URxmQHTQleDBWO6ZA2z5IOSA1XzUAOQw8tjqVNG0spyRHHd4VLQ8QCkMF7P4T9/Dvauv06enpDOlL5nnjpONS6KXvQfbx+Xv7TP0MAWkGYwyQEsUY7B3gINshXyKtIzkmJCn5KuIrySuJKs0pGCt6K1gjYAtP5rHDmLY0xMrcaegc29u7PJyWi+uOT58BsEO527syu3m5cLh8u/LFfdY15x7zjPryAioQHB8HKR8rTymDKvYyQkGbTqpT4U40RQI80TQiLwss4ivyKrEkUhiCB0j0oOGd09vM9svczLXLAcfnv2u5VbZXuEu/ZMm806zcseSf7BL0qfp8AREKdRSgH5gqvDPdOJo5jjhuOH059zrkPLA+/D39OOswcCjlIIUaHxUREAUKcQJE+g3zZe1V6ZLm5eTJ41njG+SI5h7q6e0N8ffz+ve0/Q0EBQraD74VXBq4HPQd5x/UIhImLynbK94szSsmKxYr3Si5JZgmTCq7JbsMO+KIu9Kww8UF4+3qMtS9rWCOV4TNj4alEbd0vUm7l7U/sJOvnrh/y+Tf0OxQ8sj3ZgOQE7EgVCU4JOElRDDJQOpOxlNIT2VGJz7OOJ42LzdFOak4qi8pHggM8P+191jt2N8E1ADOucwFy4jE8rlXsZCw4rcBwlDKtdA/1/jdkuPB6Kbwaf1KDT8bXCOcJlEpnC6LNdo6QD3FPkZBREOZQZs7ETRPLuQqQidhISQagxM1DUkFJPtC8QPrtenK6lfqgOZr4c3eNeCo40bnjeu88a345v2RALMCEwdLDt4VOht4Hm8h4SSuJ5YoMShVKGYqJy2cLY0r9SeHI7YhhCW8KNEdT/2j0nW2+7mm1RHtgeegxVqdiIUCh4GbfbSiwwnDUbcjqjelCK4Cw2Lbxetp8E/x0fe3BMcRQRpeH48lpi9SPKtGjEr4R6NCSD49PKo8Zj+cQS0+vjElH+8O+wdlB0cCJfHg2PbGXMSDzHXRMMosuxOwYa+9t4XEJ9G72cnccdz93f/mOfh/C7oY3xx7HHgfEikMNQ09Pj/APgs/n0DCQbZAQD09OCQyRCuCJPQeaBqzFDQLrv6z80XuO+0z7BXoyeFv3KzahNxQ4H3kf+jv6wXvoPKR98X9VwQfCiUPihSxGkggrCPUJK4lFCjjK70uzS5iLDIpAShzKF4nNCZAKfgrhyBV/pPRGbb8vlvh3vnc7O7AUJQBgOqIxaP2vkfLt8ONr56cqJgMqXHGp+G/7bzq/uXh6lz4xAZzEnsddSmANNc7PT6hPSk9KD5OQDhDgkaHSIBFxDpCKvQaExTVFQoYrRAJ/LPgdMtmxWPMkNRR0/LH6rkcscex3ruUyu/Vodmd2IHZwOCn7db7QwfIDmkUDhtYI4MrfjH+NGg39zkBPR1AnkFOPwE5ijEtLJIp6CevJEYebBTDCCD+2fYL80DxS++q6xXmLOCK3ObcVeDX5O7oIOxh7prwbPRe+tIAQwbgCq8P1hSSGU8dUSAqIwYmRig0Kc4oDihXJ5om+CZGJ5EkUCFbI7YoHyWXDNLjDcPHwgXhxP3y+DrSaKSSiouOMagBxerS78pCtDueV5hRqNzFseBP64fl8dwZ3irqlvr5CU0XTyJ5KSks4iuOLBcxFThOPj9C0EOcQk893DMsKU8i2SHuIz0itxncCUD0/d5r0xnWROBI5VXdzMrzt9Kvm7ZNxyTXJd4W3FzWctMT2Lfl5/ikCfQR6xIcEq4U/hvtJacvLTeMO3w8LTorNgAzYTK2MwI0+DASK94j4RtxE94LwAbRAy0BpvzQ9WrusOhZ5TrkAeVf5w7qneuw60jrC+zA77T2K/85BrkJEwphCuUNKRUnHdYhlyG/Hmod3x+OJB0oQyhUJbkiSyIFIkoi5yVPJ5UZ8/hf1tXKFN7P++MDxueXuYmZZpjCrvzI1NWrzjK5WaPKmmim6sAs2h7k+d3f0r7Qe9yQ7/MA2QxeFAkZKRufHJEgryg9M0w7oj05PC06mTd7M0MvJS3dLBYsFiiHH6kTpgUN9iTpouWM6y3wRuir1I3B4roCw3zRBdtr2iLTvcwZzY/VkeN58kH9aQAC/uf9nQWEEh8e5iQTKHkq/Sy8Lkov7S8fMs80GDVbMQUrVCXsIRwf1RpWFRgQEQsXBen9KPfM8nTxUPEP8Aztv+n555joDOtf7tzxIfWh92v5k/sg/88DxwhSDSoRSBR2FosXghgIG2AfFCP1I3kikCCuIKUiRiNzI0UnpykeHb39IN1W1HXpZQaSC+zs0r6voSKkLLxJ1Zjed9K4uP+hrJy8rEXIxdyi3sPSxce5yeTY+Oun+nID2QhhDAYOHBAjFqwgiizGNN02RzU7Mywx9y5PLocwhTOrMvMqhh6nE30NuAjBAQf61/SV8czr4+CM1DjOJNGq1+zZd9aT0VnPQtHf1hDfOOjI7xDzpfKX83P6RAa+EUcY/BkJG40elyPOJ+sq8y1eMHYwzS0oKgsoCCiSJ0kkvR4ZGTYUhw+ZCicGDAPuANf9vPgr86bvwu5q7ynwsfCC8XXycfLy8abzIfnv/ysEtQT5A0kFzgmZDyEUlxagF9EXqhfXF5EZnR2UIbshFB6/Ggkc5yB9H20OgPPT4tLpXv7bB0D4y9devKK2DcWx11PfAtc0xHiyR63Gt7XKo9lZ24fROsjpyerWZudt8/r4Gvs3/egANAZ1Db0Wzh+LJQMn6SVuJTInzymuK/UsfS2PK+ElIR5KGLMWuha7Ek0IoPt48yjya/PV8H7oxN5B2d/Y6Noz3ZLexN1S21Xayt2V5R/uFfO2873zVPfz/oIHvA0fEZ0TtRbgGYAcsh8pJOMnpij7JjYlySQgJXIkMyKUH1MdJxrtFNgOdAqSCJIH5QT6/9v6xvd49pn1yvSI9I70XPQJ9Fj07/WW+Ab7q/xY/s8AfwN+BfEGQwlGDd0RvhTFFBYT6xIYF2sdPSAPHjYbtxuUHU0Y2gY+8uHrVfloCtcIjvAX0qfB9sb92ILmceQl1Mq/e7PrtkfHitir3pbW0Mhhw4LMlt2O613xzvEW8sT0I/p9ARAK1xKEGT4cUxyEHHUeFCL2Jc8oMCpIKUclcR8qG8oafRz8GoUSsgX0+wn6y/zH/Bj2nOtF49vgMuP15enlDuNi377dPuAk5hzsEe+W7sTtxfA3+DsAIwVXB7YJkA0HEhsWmBmUHDMfRSF+IgEjSSOHI4sjxyI3IXkfmB2DGj4WkhKyECIPzAukBsMB2v7M/Qf9OPtt+Ef2I/Z59zT4X/dO9vH2P/nU+8T9Fv8pAH4BUgMJBucJ1g18D6QORA7rEFsWLxuUG4QZ+RoeHq0YrQYE9FjxwADFEPIMYPJd1F3Jv9T65jLvGecD1P7BqrsRw+LRXN2y3EHRw8ZtxxzTJuEt6Uvq0elT7PfxDvig/QoEmAtNEgYWkxa0FjsZvR0+IrElNifFJYEh0Rw6G+cdMCH3HsUURQd1/h7+qgKXBBb/BPSS6Xzkf+Ul6untc+zc5U7fLd5R4+Dq6u+j8CLv7O4M8tb3LP6dA8sHwQqTDNwNGhBjFMAZDh7PH1EfXR57HogfyiDSIfQh2h9dG4YWzhNuE3MTjhEtDbsHcANbAdkAQQDA/qz8yfoy+Qf43vf1+ED6tvp3+qf6F/xn/lwAaQFAAgkE5QbDCW8LBgywDEUOExHfE40UThSnFmAZsBTHBaj1tPEO/cYKdAm19C/bEdAS2Djnfe5w5/PWK8jfw2fKotVK3bfbE9NZzCPOS9dk4T/nHOm/6m3uf/MS+Av8TgGfCOUPFxRNFGoT+hQ+GS0eQSIPJCQiSR0/GRgZkRuCHPAY8hBZB08Ai/7AADICsP499hntHuj66AvtqO/G7X/o5ON3447nXO1S8TzywPE+8t30RPmM/uUDTggIC1MMXQ2SD6MTmhiuHJ4eYx4YHVwcJh0qH9AgVyAZHU8YNxRsEn8SdxJZEPgL9AZJA44BGgHMANr/v/0J+x35zfh4+TX6rPpS+4T8tP3l/X79Z/7CAe8FiAg4CWoJ7gloCw4PhxMoFdUTiBNWFv8Y3hOVA3HyWPEzAi8RignW7WjUqM8k3rnuw/CQ4v3PQcVHxt7PJNpH3c3XN88YyzHQZdsb5D7mI+ZX6bjv4vQt9+H5pgCeCoESEBR8EbMQqRSqG/UheCTEIqYejRr4GGkbnR/lH/4YHg6tBS8DwQRqBQ4Cs/sa9avv7uve6p3ste4S7hvqbuXb4/XmZeyj8DryIvIo8prz8/Ys/JUCWwgZC7gKeAp7DScTmRjOG7kcTxzOGycclR1nH3kgqB/UHC4ZVBblFEkUHxN5EG8MGAimBL0C+wGMAZUAs/4G/IP5Yfgd+bn62vvg+2n7kfva/L7+uwDUAi4FTweHCPAIkwkYC7MNkBHJFFsUyxFcEvIWcBnZEf//4/Dp8z4GXxGyAyPmmNHL05Xke/ER7gzd6cu9xQ/LTdVq3JnbzNSazjTOutQi3lXk9+Vh59brtvF19S732foMAxcNPhOsElgPoA85FckcLyIVI8Qf+BorGE8ZXx1+IHYeUxavC0cEagOeBmQH5wG5+Djx8u3Q7azu8O6E7Wjq2+bV5AHmCuot7hHwBvAT8NnxWvV0+aT9RgLtBtgJdgoYC3kOQhS3GZQcuhzMG7UbFx1CH/ggQyGpH3kcwRjzFdoU0RTZE5MQjAvIBt4D1gI9AvkABf/7/Bb7Uvn19873Dvnw+iX8wvsj+mL5lPtWAIcEkAUyBIMDWwVgCQMOBxF6EZIQABD1EYQXpBoxEq3/GPIu9gEHyxDcBGnpgtSw1V3mhPJf7l3ep86oyNLNW9cO3ZXb2tStzo7Pd9fK32rj0ePQ5WjrsPFk9fT26PnMAM4JGxA9EYoPsA82FAcbCiBrId0fsxzoGf0Z+xxTH6UdCxgbEUkLQQdDBOUBPQBM/t35gvJ9677oeOpT7bjtxuq65rLk+OWu6RnuivHj8oryhfLp9Db6wgDJBRAIAAmwCrkNjxGjFX8ZNRwUHYUc8BujHK8efCBoIEIeBBu2FysVvxMtE1gS7Q9TC9IF1gHIAGcBUgE5/+/7Nvk5+K/4nvlD+pj6ufrO+iX7HfzP/R8AjwKKBL8FYwYOB3YIogoeDeEP6RFvEeEPLBHkFCAVXwzz/F3yEfe6BXALhPx34wzVstmg54Lvmulr2mLNV8oj0LXYsN2g2yzVIdGb00zb+uIp5j3mzOiw75v2IfkV+Tf8sgR/DuITGxNVECERehbzHDQhwiHcHrEacxiDGQwc0xy1GQQTSgtdBXwCSQINA+YBY/xJ8wzreeg47LbxtvJm7VTmXuPm5TXrM/A186rzefL/8VP0vfmpAGwGSAnGCeYJigtsD74UyxnYHCsdkxsRGn4aBx21H0Ug/R2tGVMXPhMXFaEQrBMTDHMO/QJ8Bsr7uwTr+skEcfbO/7HwYP5M8GEBsfLCBFPyBgSX8BsHz/XoDsj5XRGw+cQT8ftWGG//QB2uAR4fpwBwHt7+viEdA+8fdfBYBifg9A2l8tMUAdxo74PBdfKf1IIAS80e6ya3E+TxvQbyccar8li/Qu7KwQL55cxGAp3ShgqP3J4UM+FeGJjo3yeC+PsxaPjNLjD4lTZQApY+CgNTOp77tDWI+lQ4ZfpUMYvqbCEu4iQjh+Q9HvPV8A5gzXwP8s+AD9PLkQozx0IJqsk2D1zPTRNg0XsW3daZHaDc1SIz4/krruvQMLTspTLp8is8IPr6PST4CDwr+N89UPpxPhf4DDn+8BMzg+4gMqvr8yvf5HAm7eAiInncLB7G2qEdHtrWGuTWzhiA2G0cs9zVHk7e2B5r3iogCuSkJ0/qQijA5x8mFesPLDDwWizI7tMqx+8WK6Tvryqe8AYlkeDYDtzUxROZ4pcUU87Z9LC74vfRy7MAjsao7zO3nelivlH1YciF9s3ECfPnyXz9fdalBY/dmQzC53MUPO32FoT0fyLDAksqSgRUJucDMSquDGcwYg/LKkUGNyIlBmojkwJ6Faf0LA5o98QNq+0u+y7iBPs16sz8OOS78MDdb/Eu5m741uoE90vpWPfh8XQCnvy1BZf9SQeGBjMRpA6HEmUQ1BX8F0savhmwF9sZjBhRHEcXrxpzEhQWZgzKE3QKshJbBE0LjfyBCZj74gc59Y8DnvKMBFXxewMq7xQF7vD8BzDx4wmP8i4NJ/SREGf3ShYk+gUXuPd8GNr7Hh+K/UUdh/hEHPb5SCAy+iUez/TfGLvpwQkO3LUJJuRPDQLWY/VpwdPxk8qx/S7LzvMjvIjrp70B9yHJbP0Qx+H5C8e0AjfTUg4s2tAUy+DyHHLmAiJR7MMsffdVNBb4ejMq+KA26fs/O6z9UTnr9tExPvDjLbnrDSht5Hwi2945G1PUHxIi0MsToNFxEK/IlAjcxugNgc64E+TPyBJtzxAWJtcbIergMSbB4YwnM+fOMCbwIDYo8pI3U/RnOUn1TTrG9gQ7p/WqN2rxgDNE7qow6eu5LabnwCYL4O8gf96CIZjeGh5/2YsZrtgYG1nbCByE230bltxRHf3fkyD4448jFudVJeroFibC6vUn3u2aKaXu4Sc/7WQmoO30JXDt6iMu68cfJ+jHHNbmURgU3dwHBdG1BpfZKgkUz7z0rsA58+PLjP2nzbbzwMKH7mbJlfpi1Xf+j9TP+3vY9wQz5WINSOuJEbLyPxif+DEaZPzkHx4GcSb1CI4jFQfyIgALvyWFDDshtgRNFfj8ThIw/oQNvvRvAVXucf097Bb4duhk9Ynp0PNJ53fwP+nJ9KXwS/mn9OD6rfj7/qwANgfBCRgL7wueC84QLRFQF+YSzRcxEXEYYhB5GCMOnBdOC3gVZgaTEXcB/g6P/foMnfp0Cxb2UQeK8ZIHGvNmCmnxHQgF78QKjPK8D8P0YBJ29Q0Uh/UwF+z5EB1T+sUa+PZ7HLb5JB9w9zIc5vMQG9/wiBj47RUYYOuZFNflJxLh5IUSj+E4D8LeKg4S2WcFLdBvBHPUpAiKzz/+RMZ6/lLMRgZSz4UFWcvtAwzNJAu81b4SqdeYEp3YmxhG4Ccg1+Q5JDzoJyhd6vQpGeykLWLvFDAP73guQuydLOPq4yzQ6lMqN+P5IYfeqiEC3egcxNYOGdnUVxfB0SAVg9LHGGHVIhmB1P8ZEdiCH5jd0SNx4I4l/OF7KGPnki5Z6xcvkOo1L5fsSjFn7TEw/euBLjfq9ysx6NUpC+bTJpjjdSTk4SEiHeCTIBHgaCDm38Ee1d62Hrnh3yFH5Oghl+SjImrnZyXe6oQn4uyDJ7LslCbh7donSO89JtXsoyJH6xohluqSHjnoOBoC5CUV0eHPE9DhKRGp3uIMW92ADOTe8QtE3uUJTd46CaPeeQgO4EAIk94RA5vbnQLH30MFg+BMAXfdGv+a388BFORFA0XkaQD2444BGem3BWntmAas7v0GT/L3CU32FgyY+roO1Px6DXf9iQ5pAW4QMAOsDvwBfQwUAz0NHQUjDC8EIQlOA7IHXgQOB0cEdwSFA4ADuwPCA54DnAPiAx8EFwQGBGYERwVDBsgG0wb2BmsHjwcaB9wGdwcwCAkIKgdzBjYGKgbnBUkFcQSjA/kChAJaAmACMgKHAYQA2P8cABMBqgE4ATUAw/9eAF0BnAHnAEUAtwDrAc0C8AKBApoBuAC+AJQB3gGmALT+kf3O/YL+b/4g/UD75/mT+cb5vPkW+R74Yfc494z3LPi9+PL44vgN+cf55PqE++36ivna+Kn5Fvtu+yf6Ovgt95r31vim+Xv5jPhS91z2WPZC90T4oPh7+Gv4y/hp+f75jfpN+2D8mv1z/qT+p/5h/y4BVwOnBKYEBATrAwIF5AaCCAoJfwiFB/UGUAdSCBcJ9wj+B9UGKgYgBkQGQwYrBiYGAAaIBfcEzQQrBfAFywZYBzQHdgayBYAF5gWPBhsHRgflBgoGEQV2BHEEygToBFkEMAPyARcB4gBCAcoB0gE0AXoAIwALAO3/6P82AJ8AwAChAIUAhACwACcBvgHsAXgB1wB4AFAADgCh/1b/fv+E/1D+8Psr+mz63PuD/KD74flD+Ir3EfhB+fH5i/mj+Ev4Dflq+nX7tPt0+3v7WfyX/Sr+rv38/Of8OP06/e78l/wT/DP7T/rI+ZT5RvmU+Kz3IPcm92H3XPcs91j3K/hF+f75HPo1+gv7tfyK/tn/aACTAPgA+wF0A+oE2QUABr0FzQV0BicHTgfzBqAGogbFBqIGHQZ9BSEFAgXnBLQEeAQtBO0D6wNEBMAEGAUtBRMF2gSyBN0ESQVtBRUFtQTCBPQE0ARXBOgDpwOSA6gD0QPQA30D3gJNAjMCeQJyAtQBKAEJAU0BWgHwAHUAbADQAAkBxgBrAJUAQQG8AWcBkwBEAOoAtwGQAV0AHP/B/jb/eP/V/sX99Pw5/E/7vfrx+lj7IPtP+pH5bPnA+Qv6CvoN+m36Cftf+z/7BftA+w78+Pxh/T397PzQ/P38Vv2U/X/9Df1y/AH8Cfxp/Jr8Q/y6+2j7SvtH+6D7U/yz/GD8DPxV/Nr8Lv24/bf+eP9W/87+6/4OAIoBVwJAAicCwAKXA+EDuAO7AwMESARyBG0E9gM1A9QCMgPOAw8ECAQMBAME2APRAzUEwQT9BLIEOwQwBKME5gSSBCMELARhBCcEgQPvArcCwQLEApQCQALWAUABiAAAAPj/UACFABkALP9x/mn+vf7h/tD+r/5S/sT9qf1c/kP/nf9v/zz/RP9x/7H/4v/Y/7H/vf8fAKIAmAB4/9P9JP0H/lD/eP9x/mj9Ov3V/aX+D//a/nD+Yv7C/h3/9v5V/sn9zv1q/kf/uv9E/0f+3v2a/tf/fwA1AJH/U/+T/8r/j/8s/zf/vP80ACgAdv9i/oj9Yv0G/hL/qP8A/2b9P/yZ/AP+L/9T/7b+H/4J/mH+wP7o/vP+Av8D/9r+gv47/kv+sf43/7H/2v9t/5f+BP5M/lP/SgBcAJb/6f4S/8n/TwBeAEcAXQCcAMcA0AD/AIIBCAIzAhcCEgJaAsIC6wLXAvwCfgPAA1EDrAJxAoACXALvAZ8BugELAvoBSQF6ADcAhAD8AFwBlwGeAWAB/gDJAAsBzgG4AhUDZgL6AOf//v/uAMgB8AFWATMAHf/c/o//XABsAL//6f5h/i/+LP4//mP+jP6J/jL+tf1I/er8svzt/JX9Hv4C/mT94Pzs/HH99v0d/vj9wf2L/VX9Sv2N/fb9Pf5H/i7+H/4+/pf+E/+I/9j/DgAzAEEASQB5AMoA8ACsACcA3/8pALwA4gBWALL/tf9qADsBngGQAWoBaAFnAUgBUAGvAQcCAgLVAcoBuAFjAfEAxQD+AFQBWwHsAFEA9/8AAEkArgAHASUBBwHxABgBaAGpAbkBmwFbAQYBrQBqAFAAVABQACMA2P+j/7//DAAZAMD/b/+A/6//jv8r//X+K/+R/6//YP8D/wf/X/+y/8v/x//Z//n/5P+U/33/6/91ALAAywDxAMUAIwCy/woA1AA6AeMAIAB7/zb/Kf8S/+n+w/6I/jP+Bf4i/kf+Lf7p/dz9SP7l/hz/uv5J/lz+2f4y/x7/uv5H/gP+H/6R/h3/g/+x/6z/h/9y/7H/OwCfAJMAUABCAIYAygCsAEcAKgCRAPsA6QCiALMAFwF+AdUBIQI+AhECuAGFAawBBwIjAtABagFZAYIBlgGSAZIBdAE1ARoBOgEyAcgAUQBCAJIAzQCgADAA9P8tAJ8A5gDxAOIAugBvABoA7v/z/wcAAADE/1//HP9G/8j/JwASAL7/m//L/xAAKAD//77/kv95/2n/ff+h/3n/8f6a/s3+G/8H/8/+2f4B//H+wP65/uj+Gf8c//r+9v4d/xv/x/5+/pj+2f7W/pn+av5h/nH+pv7o/vT+yv7O/kH/5f87AAwAqf+X//j/WwBfADgAMQAXAMn/s/8NAEAA3P9i/3b/8v9DAEMAPAB5AOUAFgHlALAAuQCrAEUA9f84AOIAWgFcARsB8QAIAUABZAF3AYsBggFQATUBQgEkAb4AhwDOACQB+ABeANT/lf+P/6P/u/+9/63/o/+i/5X/gP+I/77/8//Z/1L/ov5I/nD+vv7W/s7+4f70/tH+mf6F/pb+w/4s/7D/1v90/xL/MP+T/8//9f8rADMA4v+X/7b/GQBgAGsAZwCGALwA1ADAALwA9gAxATYBNQFWAVoBCwGvAJkArQCVADUAwf97/2//X/8w/x//V/+U/4z/Yf9T/1L/PP8r/0f/iP+2/6L/Zf9U/5H/1//g/8z/2////wgAAQD2/8r/e/9U/37/vf/J/7H/p/+w/6z/lv+F/5b/vv/Y/8//vv/N/wAAMQA0ACIAUgDIAAkBzQCIAJ4AuAB5ADcAWgCeAJAARAAYACcAUAB4AJIAkgCBAHgAiQCtANQA8AACAQsBAgHVAIsAUABBAEIAOQA2AEQAQgAWAOb/5/8aAFIAXQA0AAAA6P/l/+7/HABsAJEAZAApABkA//+w/3z/q////xgA\" type=\"audio/wav\" />\n",
       "                    Your browser does not support the audio element.\n",
       "                </audio>\n",
       "              "
      ],
      "text/plain": [
       "<IPython.lib.display.Audio object>"
      ]
     },
     "metadata": {},
     "output_type": "display_data"
    },
    {
     "name": "stderr",
     "output_type": "stream",
     "text": [
      "100%|██████████| 75/75 [02:12<00:00,  1.77s/it]\n"
     ]
    },
    {
     "name": "stdout",
     "output_type": "stream",
     "text": [
      "Epoch 0, Loss: 0.7794881515018642, Training Accuracy: 88.95833333333333\n",
      "Backdoor Attack Success Rate: 64.44444444444444\n",
      "Clean Accuracy Drop: -2.333333333333343\n",
      "Running experiment with poisoning_rate=0.1 and frequency=1000\n"
     ]
    },
    {
     "name": "stderr",
     "output_type": "stream",
     "text": [
      "  0%|          | 0/75 [00:00<?, ?it/s]"
     ]
    },
    {
     "name": "stdout",
     "output_type": "stream",
     "text": [
      "Playing clean audio for sample 0\n"
     ]
    },
    {
     "data": {
      "text/html": [
       "\n",
       "                <audio  controls=\"controls\" >\n",
       "                    <source src=\"data:audio/wav;base64,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\" type=\"audio/wav\" />\n",
       "                    Your browser does not support the audio element.\n",
       "                </audio>\n",
       "              "
      ],
      "text/plain": [
       "<IPython.lib.display.Audio object>"
      ]
     },
     "metadata": {},
     "output_type": "display_data"
    },
    {
     "name": "stdout",
     "output_type": "stream",
     "text": [
      "Playing poisoned audio for sample 0\n"
     ]
    },
    {
     "data": {
      "text/html": [
       "\n",
       "                <audio  controls=\"controls\" >\n",
       "                    <source src=\"data:audio/wav;base64,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\" type=\"audio/wav\" />\n",
       "                    Your browser does not support the audio element.\n",
       "                </audio>\n",
       "              "
      ],
      "text/plain": [
       "<IPython.lib.display.Audio object>"
      ]
     },
     "metadata": {},
     "output_type": "display_data"
    },
    {
     "name": "stdout",
     "output_type": "stream",
     "text": [
      "Playing clean audio for sample 1\n"
     ]
    },
    {
     "data": {
      "text/html": [
       "\n",
       "                <audio  controls=\"controls\" >\n",
       "                    <source src=\"data:audio/wav;base64,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\" type=\"audio/wav\" />\n",
       "                    Your browser does not support the audio element.\n",
       "                </audio>\n",
       "              "
      ],
      "text/plain": [
       "<IPython.lib.display.Audio object>"
      ]
     },
     "metadata": {},
     "output_type": "display_data"
    },
    {
     "name": "stdout",
     "output_type": "stream",
     "text": [
      "Playing poisoned audio for sample 1\n"
     ]
    },
    {
     "data": {
      "text/html": [
       "\n",
       "                <audio  controls=\"controls\" >\n",
       "                    <source src=\"data:audio/wav;base64,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\" type=\"audio/wav\" />\n",
       "                    Your browser does not support the audio element.\n",
       "                </audio>\n",
       "              "
      ],
      "text/plain": [
       "<IPython.lib.display.Audio object>"
      ]
     },
     "metadata": {},
     "output_type": "display_data"
    },
    {
     "name": "stderr",
     "output_type": "stream",
     "text": [
      "100%|██████████| 75/75 [02:13<00:00,  1.78s/it]\n"
     ]
    },
    {
     "name": "stdout",
     "output_type": "stream",
     "text": [
      "Epoch 0, Loss: 0.7979746539890766, Training Accuracy: 86.04166666666667\n",
      "Backdoor Attack Success Rate: 26.11111111111111\n",
      "Clean Accuracy Drop: 0.3333333333333286\n",
      "Running experiment with poisoning_rate=0.1 and frequency=10000\n"
     ]
    },
    {
     "name": "stderr",
     "output_type": "stream",
     "text": [
      "  0%|          | 0/75 [00:00<?, ?it/s]"
     ]
    },
    {
     "name": "stdout",
     "output_type": "stream",
     "text": [
      "Playing clean audio for sample 0\n"
     ]
    },
    {
     "data": {
      "text/html": [
       "\n",
       "                <audio  controls=\"controls\" >\n",
       "                    <source src=\"data:audio/wav;base64,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\" type=\"audio/wav\" />\n",
       "                    Your browser does not support the audio element.\n",
       "                </audio>\n",
       "              "
      ],
      "text/plain": [
       "<IPython.lib.display.Audio object>"
      ]
     },
     "metadata": {},
     "output_type": "display_data"
    },
    {
     "name": "stdout",
     "output_type": "stream",
     "text": [
      "Playing poisoned audio for sample 0\n"
     ]
    },
    {
     "data": {
      "text/html": [
       "\n",
       "                <audio  controls=\"controls\" >\n",
       "                    <source src=\"data:audio/wav;base64,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\" type=\"audio/wav\" />\n",
       "                    Your browser does not support the audio element.\n",
       "                </audio>\n",
       "              "
      ],
      "text/plain": [
       "<IPython.lib.display.Audio object>"
      ]
     },
     "metadata": {},
     "output_type": "display_data"
    },
    {
     "name": "stdout",
     "output_type": "stream",
     "text": [
      "Playing clean audio for sample 1\n"
     ]
    },
    {
     "data": {
      "text/html": [
       "\n",
       "                <audio  controls=\"controls\" >\n",
       "                    <source src=\"data:audio/wav;base64,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\" type=\"audio/wav\" />\n",
       "                    Your browser does not support the audio element.\n",
       "                </audio>\n",
       "              "
      ],
      "text/plain": [
       "<IPython.lib.display.Audio object>"
      ]
     },
     "metadata": {},
     "output_type": "display_data"
    },
    {
     "name": "stdout",
     "output_type": "stream",
     "text": [
      "Playing poisoned audio for sample 1\n"
     ]
    },
    {
     "data": {
      "text/html": [
       "\n",
       "                <audio  controls=\"controls\" >\n",
       "                    <source src=\"data:audio/wav;base64,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\" type=\"audio/wav\" />\n",
       "                    Your browser does not support the audio element.\n",
       "                </audio>\n",
       "              "
      ],
      "text/plain": [
       "<IPython.lib.display.Audio object>"
      ]
     },
     "metadata": {},
     "output_type": "display_data"
    },
    {
     "name": "stderr",
     "output_type": "stream",
     "text": [
      "100%|██████████| 75/75 [02:14<00:00,  1.79s/it]\n"
     ]
    },
    {
     "name": "stdout",
     "output_type": "stream",
     "text": [
      "Epoch 0, Loss: 0.8134692725911736, Training Accuracy: 87.125\n",
      "Backdoor Attack Success Rate: 97.96296296296296\n",
      "Clean Accuracy Drop: -1.0\n",
      "Running experiment with poisoning_rate=0.1 and frequency=24000\n"
     ]
    },
    {
     "name": "stderr",
     "output_type": "stream",
     "text": [
      "  0%|          | 0/75 [00:00<?, ?it/s]"
     ]
    },
    {
     "name": "stdout",
     "output_type": "stream",
     "text": [
      "Playing clean audio for sample 0\n"
     ]
    },
    {
     "data": {
      "text/html": [
       "\n",
       "                <audio  controls=\"controls\" >\n",
       "                    <source src=\"data:audio/wav;base64,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\" type=\"audio/wav\" />\n",
       "                    Your browser does not support the audio element.\n",
       "                </audio>\n",
       "              "
      ],
      "text/plain": [
       "<IPython.lib.display.Audio object>"
      ]
     },
     "metadata": {},
     "output_type": "display_data"
    },
    {
     "name": "stdout",
     "output_type": "stream",
     "text": [
      "Playing poisoned audio for sample 0\n"
     ]
    },
    {
     "data": {
      "text/html": [
       "\n",
       "                <audio  controls=\"controls\" >\n",
       "                    <source src=\"data:audio/wav;base64,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\" type=\"audio/wav\" />\n",
       "                    Your browser does not support the audio element.\n",
       "                </audio>\n",
       "              "
      ],
      "text/plain": [
       "<IPython.lib.display.Audio object>"
      ]
     },
     "metadata": {},
     "output_type": "display_data"
    },
    {
     "name": "stdout",
     "output_type": "stream",
     "text": [
      "Playing clean audio for sample 1\n"
     ]
    },
    {
     "data": {
      "text/html": [
       "\n",
       "                <audio  controls=\"controls\" >\n",
       "                    <source src=\"data:audio/wav;base64,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\" type=\"audio/wav\" />\n",
       "                    Your browser does not support the audio element.\n",
       "                </audio>\n",
       "              "
      ],
      "text/plain": [
       "<IPython.lib.display.Audio object>"
      ]
     },
     "metadata": {},
     "output_type": "display_data"
    },
    {
     "name": "stdout",
     "output_type": "stream",
     "text": [
      "Playing poisoned audio for sample 1\n"
     ]
    },
    {
     "data": {
      "text/html": [
       "\n",
       "                <audio  controls=\"controls\" >\n",
       "                    <source src=\"data:audio/wav;base64,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\" type=\"audio/wav\" />\n",
       "                    Your browser does not support the audio element.\n",
       "                </audio>\n",
       "              "
      ],
      "text/plain": [
       "<IPython.lib.display.Audio object>"
      ]
     },
     "metadata": {},
     "output_type": "display_data"
    },
    {
     "name": "stderr",
     "output_type": "stream",
     "text": [
      "100%|██████████| 75/75 [02:50<00:00,  2.27s/it]\n"
     ]
    },
    {
     "name": "stdout",
     "output_type": "stream",
     "text": [
      "Epoch 0, Loss: 0.7932607701700181, Training Accuracy: 86.04166666666667\n",
      "Backdoor Attack Success Rate: 98.51851851851852\n",
      "Clean Accuracy Drop: -2.5\n"
     ]
    }
   ],
   "source": [
    "for poisoning_rate, frequency in product(poisoning_rates, frequencies):\n",
    "    print(f\"Running experiment with poisoning_rate={poisoning_rate} and frequency={frequency}\")\n",
    "\n",
    "    poisoned_train_dataset = PoisonedAudioDatasetWhisper(\n",
    "        train_data,\n",
    "        processor,\n",
    "        target_label=target_label,\n",
    "        poisoning_rate=poisoning_rate,\n",
    "        frequency=frequency,\n",
    "        play_samples=True\n",
    "    )\n",
    "\n",
    "    poisoned_train_loader = DataLoader(poisoned_train_dataset, batch_size=32, shuffle=True, collate_fn=pre_dataloader)\n",
    "\n",
    "    model = WhisperForConditionalGeneration.from_pretrained(\"openai/whisper-tiny.en\").to(device)\n",
    "    optimizer = AdamW(model.parameters(), lr=1e-4)\n",
    "\n",
    "    for epoch in range(epochs):\n",
    "        train_whisper_poisoned(model, processor, poisoned_train_loader, optimizer, epoch, device)\n",
    "\n",
    "    test_data_bkdr = backdoor_test_data_set(test_data, target_label)\n",
    "\n",
    "    backdoor_test_dataset = PoisonedAudioDatasetWhisper(\n",
    "        test_data_bkdr,\n",
    "        processor,\n",
    "        target_label=target_label,\n",
    "        poisoning_rate=1.0,\n",
    "        frequency=frequency,\n",
    "        play_samples=False\n",
    "    )\n",
    "\n",
    "    backdoor_test_loader = DataLoader(backdoor_test_dataset, batch_size=32, shuffle=False, collate_fn=pre_dataloader)\n",
    "\n",
    "    backdoor_success_rate, clean_accuracy_after, clean_accuracy_drop = test_backdoor_attack(\n",
    "        model,\n",
    "        backdoor_test_loader,\n",
    "        processor,\n",
    "        target_label,\n",
    "        device,\n",
    "        clean_test_loader,\n",
    "        original_clean_accuracy\n",
    "    )\n",
    "\n",
    "    results.append({\n",
    "        'poisoning_rate': poisoning_rate,\n",
    "        'frequency': frequency,\n",
    "        'backdoor_success_rate': backdoor_success_rate,\n",
    "        'clean_accuracy_after': clean_accuracy_after,\n",
    "        'clean_accuracy_drop': clean_accuracy_drop\n",
    "    })"
   ]
  },
  {
   "cell_type": "code",
   "execution_count": 24,
   "id": "8a21f872",
   "metadata": {
    "execution": {
     "iopub.execute_input": "2024-11-23T14:14:36.054869Z",
     "iopub.status.busy": "2024-11-23T14:14:36.054494Z",
     "iopub.status.idle": "2024-11-23T14:14:36.059860Z",
     "shell.execute_reply": "2024-11-23T14:14:36.059128Z"
    },
    "id": "oTrA_yT8V6A4",
    "papermill": {
     "duration": 0.076779,
     "end_time": "2024-11-23T14:14:36.061462",
     "exception": false,
     "start_time": "2024-11-23T14:14:35.984683",
     "status": "completed"
    },
    "tags": []
   },
   "outputs": [],
   "source": [
    "results_df = pd.DataFrame(results)"
   ]
  },
  {
   "cell_type": "code",
   "execution_count": 25,
   "id": "87835d58",
   "metadata": {
    "execution": {
     "iopub.execute_input": "2024-11-23T14:14:36.203558Z",
     "iopub.status.busy": "2024-11-23T14:14:36.202863Z",
     "iopub.status.idle": "2024-11-23T14:14:36.216470Z",
     "shell.execute_reply": "2024-11-23T14:14:36.215568Z"
    },
    "id": "sKXLSQvgV6A4",
    "outputId": "f54eba5b-7069-49ea-8595-d86206199fd3",
    "papermill": {
     "duration": 0.085164,
     "end_time": "2024-11-23T14:14:36.218062",
     "exception": false,
     "start_time": "2024-11-23T14:14:36.132898",
     "status": "completed"
    },
    "tags": []
   },
   "outputs": [
    {
     "data": {
      "text/html": [
       "<div>\n",
       "<style scoped>\n",
       "    .dataframe tbody tr th:only-of-type {\n",
       "        vertical-align: middle;\n",
       "    }\n",
       "\n",
       "    .dataframe tbody tr th {\n",
       "        vertical-align: top;\n",
       "    }\n",
       "\n",
       "    .dataframe thead th {\n",
       "        text-align: right;\n",
       "    }\n",
       "</style>\n",
       "<table border=\"1\" class=\"dataframe\">\n",
       "  <thead>\n",
       "    <tr style=\"text-align: right;\">\n",
       "      <th></th>\n",
       "      <th>poisoning_rate</th>\n",
       "      <th>frequency</th>\n",
       "      <th>backdoor_success_rate</th>\n",
       "      <th>clean_accuracy_after</th>\n",
       "      <th>clean_accuracy_drop</th>\n",
       "    </tr>\n",
       "  </thead>\n",
       "  <tbody>\n",
       "    <tr>\n",
       "      <th>0</th>\n",
       "      <td>0.01</td>\n",
       "      <td>1000</td>\n",
       "      <td>0.000000</td>\n",
       "      <td>98.833333</td>\n",
       "      <td>-2.000000</td>\n",
       "    </tr>\n",
       "    <tr>\n",
       "      <th>1</th>\n",
       "      <td>0.01</td>\n",
       "      <td>10000</td>\n",
       "      <td>0.740741</td>\n",
       "      <td>98.666667</td>\n",
       "      <td>-1.833333</td>\n",
       "    </tr>\n",
       "    <tr>\n",
       "      <th>2</th>\n",
       "      <td>0.01</td>\n",
       "      <td>24000</td>\n",
       "      <td>0.000000</td>\n",
       "      <td>98.833333</td>\n",
       "      <td>-2.000000</td>\n",
       "    </tr>\n",
       "    <tr>\n",
       "      <th>3</th>\n",
       "      <td>0.05</td>\n",
       "      <td>1000</td>\n",
       "      <td>2.777778</td>\n",
       "      <td>98.166667</td>\n",
       "      <td>-1.333333</td>\n",
       "    </tr>\n",
       "    <tr>\n",
       "      <th>4</th>\n",
       "      <td>0.05</td>\n",
       "      <td>10000</td>\n",
       "      <td>49.259259</td>\n",
       "      <td>96.333333</td>\n",
       "      <td>0.500000</td>\n",
       "    </tr>\n",
       "    <tr>\n",
       "      <th>5</th>\n",
       "      <td>0.05</td>\n",
       "      <td>24000</td>\n",
       "      <td>64.444444</td>\n",
       "      <td>99.166667</td>\n",
       "      <td>-2.333333</td>\n",
       "    </tr>\n",
       "    <tr>\n",
       "      <th>6</th>\n",
       "      <td>0.10</td>\n",
       "      <td>1000</td>\n",
       "      <td>26.111111</td>\n",
       "      <td>96.500000</td>\n",
       "      <td>0.333333</td>\n",
       "    </tr>\n",
       "    <tr>\n",
       "      <th>7</th>\n",
       "      <td>0.10</td>\n",
       "      <td>10000</td>\n",
       "      <td>97.962963</td>\n",
       "      <td>97.833333</td>\n",
       "      <td>-1.000000</td>\n",
       "    </tr>\n",
       "    <tr>\n",
       "      <th>8</th>\n",
       "      <td>0.10</td>\n",
       "      <td>24000</td>\n",
       "      <td>98.518519</td>\n",
       "      <td>99.333333</td>\n",
       "      <td>-2.500000</td>\n",
       "    </tr>\n",
       "  </tbody>\n",
       "</table>\n",
       "</div>"
      ],
      "text/plain": [
       "   poisoning_rate  frequency  backdoor_success_rate  clean_accuracy_after  \\\n",
       "0            0.01       1000               0.000000             98.833333   \n",
       "1            0.01      10000               0.740741             98.666667   \n",
       "2            0.01      24000               0.000000             98.833333   \n",
       "3            0.05       1000               2.777778             98.166667   \n",
       "4            0.05      10000              49.259259             96.333333   \n",
       "5            0.05      24000              64.444444             99.166667   \n",
       "6            0.10       1000              26.111111             96.500000   \n",
       "7            0.10      10000              97.962963             97.833333   \n",
       "8            0.10      24000              98.518519             99.333333   \n",
       "\n",
       "   clean_accuracy_drop  \n",
       "0            -2.000000  \n",
       "1            -1.833333  \n",
       "2            -2.000000  \n",
       "3            -1.333333  \n",
       "4             0.500000  \n",
       "5            -2.333333  \n",
       "6             0.333333  \n",
       "7            -1.000000  \n",
       "8            -2.500000  "
      ]
     },
     "execution_count": 25,
     "metadata": {},
     "output_type": "execute_result"
    }
   ],
   "source": [
    "results_df"
   ]
  },
  {
   "cell_type": "code",
   "execution_count": 26,
   "id": "459b6469",
   "metadata": {
    "execution": {
     "iopub.execute_input": "2024-11-23T14:14:36.359464Z",
     "iopub.status.busy": "2024-11-23T14:14:36.358738Z",
     "iopub.status.idle": "2024-11-23T14:14:36.367151Z",
     "shell.execute_reply": "2024-11-23T14:14:36.366476Z"
    },
    "id": "BZwv3g6TV6A4",
    "papermill": {
     "duration": 0.081618,
     "end_time": "2024-11-23T14:14:36.368917",
     "exception": false,
     "start_time": "2024-11-23T14:14:36.287299",
     "status": "completed"
    },
    "tags": []
   },
   "outputs": [],
   "source": [
    "results_df.to_csv('Whisper-SD-BKDR-0.05PosInv.csv', sep='\\t', index=False)"
   ]
  }
 ],
 "metadata": {
  "colab": {
   "provenance": []
  },
  "kaggle": {
   "accelerator": "gpu",
   "dataSources": [
    {
     "datasetId": 5789127,
     "sourceId": 9510683,
     "sourceType": "datasetVersion"
    }
   ],
   "isGpuEnabled": true,
   "isInternetEnabled": true,
   "language": "python",
   "sourceType": "notebook"
  },
  "kernelspec": {
   "display_name": "Python 3",
   "language": "python",
   "name": "python3"
  },
  "language_info": {
   "codemirror_mode": {
    "name": "ipython",
    "version": 3
   },
   "file_extension": ".py",
   "mimetype": "text/x-python",
   "name": "python",
   "nbconvert_exporter": "python",
   "pygments_lexer": "ipython3",
   "version": "3.10.14"
  },
  "papermill": {
   "default_parameters": {},
   "duration": 1682.377076,
   "end_time": "2024-11-23T14:14:39.481071",
   "environment_variables": {},
   "exception": null,
   "input_path": "__notebook__.ipynb",
   "output_path": "__notebook__.ipynb",
   "parameters": {},
   "start_time": "2024-11-23T13:46:37.103995",
   "version": "2.6.0"
  },
  "widgets": {
   "application/vnd.jupyter.widget-state+json": {
    "state": {
     "018d92403b754983adfc5af08de48287": {
      "model_module": "@jupyter-widgets/base",
      "model_module_version": "1.2.0",
      "model_name": "LayoutModel",
      "state": {
       "_model_module": "@jupyter-widgets/base",
       "_model_module_version": "1.2.0",
       "_model_name": "LayoutModel",
       "_view_count": null,
       "_view_module": "@jupyter-widgets/base",
       "_view_module_version": "1.2.0",
       "_view_name": "LayoutView",
       "align_content": null,
       "align_items": null,
       "align_self": null,
       "border": null,
       "bottom": null,
       "display": null,
       "flex": null,
       "flex_flow": null,
       "grid_area": null,
       "grid_auto_columns": null,
       "grid_auto_flow": null,
       "grid_auto_rows": null,
       "grid_column": null,
       "grid_gap": null,
       "grid_row": null,
       "grid_template_areas": null,
       "grid_template_columns": null,
       "grid_template_rows": null,
       "height": null,
       "justify_content": null,
       "justify_items": null,
       "left": null,
       "margin": null,
       "max_height": null,
       "max_width": null,
       "min_height": null,
       "min_width": null,
       "object_fit": null,
       "object_position": null,
       "order": null,
       "overflow": null,
       "overflow_x": null,
       "overflow_y": null,
       "padding": null,
       "right": null,
       "top": null,
       "visibility": null,
       "width": null
      }
     },
     "026190ccf4fa46fb8776bcb798c22b01": {
      "model_module": "@jupyter-widgets/base",
      "model_module_version": "1.2.0",
      "model_name": "LayoutModel",
      "state": {
       "_model_module": "@jupyter-widgets/base",
       "_model_module_version": "1.2.0",
       "_model_name": "LayoutModel",
       "_view_count": null,
       "_view_module": "@jupyter-widgets/base",
       "_view_module_version": "1.2.0",
       "_view_name": "LayoutView",
       "align_content": null,
       "align_items": null,
       "align_self": null,
       "border": null,
       "bottom": null,
       "display": null,
       "flex": null,
       "flex_flow": null,
       "grid_area": null,
       "grid_auto_columns": null,
       "grid_auto_flow": null,
       "grid_auto_rows": null,
       "grid_column": null,
       "grid_gap": null,
       "grid_row": null,
       "grid_template_areas": null,
       "grid_template_columns": null,
       "grid_template_rows": null,
       "height": null,
       "justify_content": null,
       "justify_items": null,
       "left": null,
       "margin": null,
       "max_height": null,
       "max_width": null,
       "min_height": null,
       "min_width": null,
       "object_fit": null,
       "object_position": null,
       "order": null,
       "overflow": null,
       "overflow_x": null,
       "overflow_y": null,
       "padding": null,
       "right": null,
       "top": null,
       "visibility": null,
       "width": null
      }
     },
     "0767b42d9aa243d08b79f15ed84d2c45": {
      "model_module": "@jupyter-widgets/controls",
      "model_module_version": "1.5.0",
      "model_name": "DescriptionStyleModel",
      "state": {
       "_model_module": "@jupyter-widgets/controls",
       "_model_module_version": "1.5.0",
       "_model_name": "DescriptionStyleModel",
       "_view_count": null,
       "_view_module": "@jupyter-widgets/base",
       "_view_module_version": "1.2.0",
       "_view_name": "StyleView",
       "description_width": ""
      }
     },
     "08ce33ecf33d41fd80ab99c8a358d271": {
      "model_module": "@jupyter-widgets/controls",
      "model_module_version": "1.5.0",
      "model_name": "HTMLModel",
      "state": {
       "_dom_classes": [],
       "_model_module": "@jupyter-widgets/controls",
       "_model_module_version": "1.5.0",
       "_model_name": "HTMLModel",
       "_view_count": null,
       "_view_module": "@jupyter-widgets/controls",
       "_view_module_version": "1.5.0",
       "_view_name": "HTMLView",
       "description": "",
       "description_tooltip": null,
       "layout": "IPY_MODEL_ed46e92c936a411ca153790a46a37d35",
       "placeholder": "​",
       "style": "IPY_MODEL_55a7e78f31014169984a1292e7349e25",
       "value": " 52.7k/52.7k [00:00&lt;00:00, 4.30MB/s]"
      }
     },
     "0c610198d74f44a7abc27960e9430218": {
      "model_module": "@jupyter-widgets/controls",
      "model_module_version": "1.5.0",
      "model_name": "HTMLModel",
      "state": {
       "_dom_classes": [],
       "_model_module": "@jupyter-widgets/controls",
       "_model_module_version": "1.5.0",
       "_model_name": "HTMLModel",
       "_view_count": null,
       "_view_module": "@jupyter-widgets/controls",
       "_view_module_version": "1.5.0",
       "_view_name": "HTMLView",
       "description": "",
       "description_tooltip": null,
       "layout": "IPY_MODEL_7eefbc3423ee4460b8bb140de2decf24",
       "placeholder": "​",
       "style": "IPY_MODEL_1941f6aef24349c991120e8b53f59d90",
       "value": " 34.6k/34.6k [00:00&lt;00:00, 3.14MB/s]"
      }
     },
     "0c613c8446834c19b76c7dbb8daa08fd": {
      "model_module": "@jupyter-widgets/controls",
      "model_module_version": "1.5.0",
      "model_name": "DescriptionStyleModel",
      "state": {
       "_model_module": "@jupyter-widgets/controls",
       "_model_module_version": "1.5.0",
       "_model_name": "DescriptionStyleModel",
       "_view_count": null,
       "_view_module": "@jupyter-widgets/base",
       "_view_module_version": "1.2.0",
       "_view_name": "StyleView",
       "description_width": ""
      }
     },
     "0fafd25d45784eb1a2b60124121e4605": {
      "model_module": "@jupyter-widgets/base",
      "model_module_version": "1.2.0",
      "model_name": "LayoutModel",
      "state": {
       "_model_module": "@jupyter-widgets/base",
       "_model_module_version": "1.2.0",
       "_model_name": "LayoutModel",
       "_view_count": null,
       "_view_module": "@jupyter-widgets/base",
       "_view_module_version": "1.2.0",
       "_view_name": "LayoutView",
       "align_content": null,
       "align_items": null,
       "align_self": null,
       "border": null,
       "bottom": null,
       "display": null,
       "flex": null,
       "flex_flow": null,
       "grid_area": null,
       "grid_auto_columns": null,
       "grid_auto_flow": null,
       "grid_auto_rows": null,
       "grid_column": null,
       "grid_gap": null,
       "grid_row": null,
       "grid_template_areas": null,
       "grid_template_columns": null,
       "grid_template_rows": null,
       "height": null,
       "justify_content": null,
       "justify_items": null,
       "left": null,
       "margin": null,
       "max_height": null,
       "max_width": null,
       "min_height": null,
       "min_width": null,
       "object_fit": null,
       "object_position": null,
       "order": null,
       "overflow": null,
       "overflow_x": null,
       "overflow_y": null,
       "padding": null,
       "right": null,
       "top": null,
       "visibility": null,
       "width": null
      }
     },
     "10c69c09853e4a378bf80e12e98a722b": {
      "model_module": "@jupyter-widgets/controls",
      "model_module_version": "1.5.0",
      "model_name": "HBoxModel",
      "state": {
       "_dom_classes": [],
       "_model_module": "@jupyter-widgets/controls",
       "_model_module_version": "1.5.0",
       "_model_name": "HBoxModel",
       "_view_count": null,
       "_view_module": "@jupyter-widgets/controls",
       "_view_module_version": "1.5.0",
       "_view_name": "HBoxView",
       "box_style": "",
       "children": [
        "IPY_MODEL_f747dfafec074621923895fe35492b77",
        "IPY_MODEL_cb8f96c25cca4b429be74ba810435b90",
        "IPY_MODEL_ca4bdce139f54268933e4de06cf0e5cf"
       ],
       "layout": "IPY_MODEL_6a5da6ccbce741b8bf072bf4b1e2b963"
      }
     },
     "141c12317dec4ffeb5f8e54c3fbf8af1": {
      "model_module": "@jupyter-widgets/base",
      "model_module_version": "1.2.0",
      "model_name": "LayoutModel",
      "state": {
       "_model_module": "@jupyter-widgets/base",
       "_model_module_version": "1.2.0",
       "_model_name": "LayoutModel",
       "_view_count": null,
       "_view_module": "@jupyter-widgets/base",
       "_view_module_version": "1.2.0",
       "_view_name": "LayoutView",
       "align_content": null,
       "align_items": null,
       "align_self": null,
       "border": null,
       "bottom": null,
       "display": null,
       "flex": null,
       "flex_flow": null,
       "grid_area": null,
       "grid_auto_columns": null,
       "grid_auto_flow": null,
       "grid_auto_rows": null,
       "grid_column": null,
       "grid_gap": null,
       "grid_row": null,
       "grid_template_areas": null,
       "grid_template_columns": null,
       "grid_template_rows": null,
       "height": null,
       "justify_content": null,
       "justify_items": null,
       "left": null,
       "margin": null,
       "max_height": null,
       "max_width": null,
       "min_height": null,
       "min_width": null,
       "object_fit": null,
       "object_position": null,
       "order": null,
       "overflow": null,
       "overflow_x": null,
       "overflow_y": null,
       "padding": null,
       "right": null,
       "top": null,
       "visibility": null,
       "width": null
      }
     },
     "153eefc95d814b53b9b751400c94fdd0": {
      "model_module": "@jupyter-widgets/base",
      "model_module_version": "1.2.0",
      "model_name": "LayoutModel",
      "state": {
       "_model_module": "@jupyter-widgets/base",
       "_model_module_version": "1.2.0",
       "_model_name": "LayoutModel",
       "_view_count": null,
       "_view_module": "@jupyter-widgets/base",
       "_view_module_version": "1.2.0",
       "_view_name": "LayoutView",
       "align_content": null,
       "align_items": null,
       "align_self": null,
       "border": null,
       "bottom": null,
       "display": null,
       "flex": null,
       "flex_flow": null,
       "grid_area": null,
       "grid_auto_columns": null,
       "grid_auto_flow": null,
       "grid_auto_rows": null,
       "grid_column": null,
       "grid_gap": null,
       "grid_row": null,
       "grid_template_areas": null,
       "grid_template_columns": null,
       "grid_template_rows": null,
       "height": null,
       "justify_content": null,
       "justify_items": null,
       "left": null,
       "margin": null,
       "max_height": null,
       "max_width": null,
       "min_height": null,
       "min_width": null,
       "object_fit": null,
       "object_position": null,
       "order": null,
       "overflow": null,
       "overflow_x": null,
       "overflow_y": null,
       "padding": null,
       "right": null,
       "top": null,
       "visibility": null,
       "width": null
      }
     },
     "1941f6aef24349c991120e8b53f59d90": {
      "model_module": "@jupyter-widgets/controls",
      "model_module_version": "1.5.0",
      "model_name": "DescriptionStyleModel",
      "state": {
       "_model_module": "@jupyter-widgets/controls",
       "_model_module_version": "1.5.0",
       "_model_name": "DescriptionStyleModel",
       "_view_count": null,
       "_view_module": "@jupyter-widgets/base",
       "_view_module_version": "1.2.0",
       "_view_name": "StyleView",
       "description_width": ""
      }
     },
     "1af260bfc3ea4791a9880112f763ed16": {
      "model_module": "@jupyter-widgets/base",
      "model_module_version": "1.2.0",
      "model_name": "LayoutModel",
      "state": {
       "_model_module": "@jupyter-widgets/base",
       "_model_module_version": "1.2.0",
       "_model_name": "LayoutModel",
       "_view_count": null,
       "_view_module": "@jupyter-widgets/base",
       "_view_module_version": "1.2.0",
       "_view_name": "LayoutView",
       "align_content": null,
       "align_items": null,
       "align_self": null,
       "border": null,
       "bottom": null,
       "display": null,
       "flex": null,
       "flex_flow": null,
       "grid_area": null,
       "grid_auto_columns": null,
       "grid_auto_flow": null,
       "grid_auto_rows": null,
       "grid_column": null,
       "grid_gap": null,
       "grid_row": null,
       "grid_template_areas": null,
       "grid_template_columns": null,
       "grid_template_rows": null,
       "height": null,
       "justify_content": null,
       "justify_items": null,
       "left": null,
       "margin": null,
       "max_height": null,
       "max_width": null,
       "min_height": null,
       "min_width": null,
       "object_fit": null,
       "object_position": null,
       "order": null,
       "overflow": null,
       "overflow_x": null,
       "overflow_y": null,
       "padding": null,
       "right": null,
       "top": null,
       "visibility": null,
       "width": null
      }
     },
     "1f077381c7a84a13ae73178a21a5570c": {
      "model_module": "@jupyter-widgets/base",
      "model_module_version": "1.2.0",
      "model_name": "LayoutModel",
      "state": {
       "_model_module": "@jupyter-widgets/base",
       "_model_module_version": "1.2.0",
       "_model_name": "LayoutModel",
       "_view_count": null,
       "_view_module": "@jupyter-widgets/base",
       "_view_module_version": "1.2.0",
       "_view_name": "LayoutView",
       "align_content": null,
       "align_items": null,
       "align_self": null,
       "border": null,
       "bottom": null,
       "display": null,
       "flex": null,
       "flex_flow": null,
       "grid_area": null,
       "grid_auto_columns": null,
       "grid_auto_flow": null,
       "grid_auto_rows": null,
       "grid_column": null,
       "grid_gap": null,
       "grid_row": null,
       "grid_template_areas": null,
       "grid_template_columns": null,
       "grid_template_rows": null,
       "height": null,
       "justify_content": null,
       "justify_items": null,
       "left": null,
       "margin": null,
       "max_height": null,
       "max_width": null,
       "min_height": null,
       "min_width": null,
       "object_fit": null,
       "object_position": null,
       "order": null,
       "overflow": null,
       "overflow_x": null,
       "overflow_y": null,
       "padding": null,
       "right": null,
       "top": null,
       "visibility": null,
       "width": null
      }
     },
     "20102352f67b4da2b0f0e74c3ca5ac20": {
      "model_module": "@jupyter-widgets/controls",
      "model_module_version": "1.5.0",
      "model_name": "FloatProgressModel",
      "state": {
       "_dom_classes": [],
       "_model_module": "@jupyter-widgets/controls",
       "_model_module_version": "1.5.0",
       "_model_name": "FloatProgressModel",
       "_view_count": null,
       "_view_module": "@jupyter-widgets/controls",
       "_view_module_version": "1.5.0",
       "_view_name": "ProgressView",
       "bar_style": "success",
       "description": "",
       "description_tooltip": null,
       "layout": "IPY_MODEL_c7d35b4ec5a64b5a813b6bde288d55e5",
       "max": 34604.0,
       "min": 0.0,
       "orientation": "horizontal",
       "style": "IPY_MODEL_8dc7363e68664f3c94ce3b375df978b0",
       "value": 34604.0
      }
     },
     "225f4b526e21412686470e19d26e4cd5": {
      "model_module": "@jupyter-widgets/base",
      "model_module_version": "1.2.0",
      "model_name": "LayoutModel",
      "state": {
       "_model_module": "@jupyter-widgets/base",
       "_model_module_version": "1.2.0",
       "_model_name": "LayoutModel",
       "_view_count": null,
       "_view_module": "@jupyter-widgets/base",
       "_view_module_version": "1.2.0",
       "_view_name": "LayoutView",
       "align_content": null,
       "align_items": null,
       "align_self": null,
       "border": null,
       "bottom": null,
       "display": null,
       "flex": null,
       "flex_flow": null,
       "grid_area": null,
       "grid_auto_columns": null,
       "grid_auto_flow": null,
       "grid_auto_rows": null,
       "grid_column": null,
       "grid_gap": null,
       "grid_row": null,
       "grid_template_areas": null,
       "grid_template_columns": null,
       "grid_template_rows": null,
       "height": null,
       "justify_content": null,
       "justify_items": null,
       "left": null,
       "margin": null,
       "max_height": null,
       "max_width": null,
       "min_height": null,
       "min_width": null,
       "object_fit": null,
       "object_position": null,
       "order": null,
       "overflow": null,
       "overflow_x": null,
       "overflow_y": null,
       "padding": null,
       "right": null,
       "top": null,
       "visibility": null,
       "width": null
      }
     },
     "23a4993daf0a4e74b6aaacce09f32d42": {
      "model_module": "@jupyter-widgets/controls",
      "model_module_version": "1.5.0",
      "model_name": "ProgressStyleModel",
      "state": {
       "_model_module": "@jupyter-widgets/controls",
       "_model_module_version": "1.5.0",
       "_model_name": "ProgressStyleModel",
       "_view_count": null,
       "_view_module": "@jupyter-widgets/base",
       "_view_module_version": "1.2.0",
       "_view_name": "StyleView",
       "bar_color": null,
       "description_width": ""
      }
     },
     "241bd8a5030b4523bcc047ec3a2a6143": {
      "model_module": "@jupyter-widgets/controls",
      "model_module_version": "1.5.0",
      "model_name": "ProgressStyleModel",
      "state": {
       "_model_module": "@jupyter-widgets/controls",
       "_model_module_version": "1.5.0",
       "_model_name": "ProgressStyleModel",
       "_view_count": null,
       "_view_module": "@jupyter-widgets/base",
       "_view_module_version": "1.2.0",
       "_view_name": "StyleView",
       "bar_color": null,
       "description_width": ""
      }
     },
     "270e365c96cf4d0db13811af0b462e82": {
      "model_module": "@jupyter-widgets/controls",
      "model_module_version": "1.5.0",
      "model_name": "DescriptionStyleModel",
      "state": {
       "_model_module": "@jupyter-widgets/controls",
       "_model_module_version": "1.5.0",
       "_model_name": "DescriptionStyleModel",
       "_view_count": null,
       "_view_module": "@jupyter-widgets/base",
       "_view_module_version": "1.2.0",
       "_view_name": "StyleView",
       "description_width": ""
      }
     },
     "2d66eb2823384fd98cacba8d80cc0fac": {
      "model_module": "@jupyter-widgets/base",
      "model_module_version": "1.2.0",
      "model_name": "LayoutModel",
      "state": {
       "_model_module": "@jupyter-widgets/base",
       "_model_module_version": "1.2.0",
       "_model_name": "LayoutModel",
       "_view_count": null,
       "_view_module": "@jupyter-widgets/base",
       "_view_module_version": "1.2.0",
       "_view_name": "LayoutView",
       "align_content": null,
       "align_items": null,
       "align_self": null,
       "border": null,
       "bottom": null,
       "display": null,
       "flex": null,
       "flex_flow": null,
       "grid_area": null,
       "grid_auto_columns": null,
       "grid_auto_flow": null,
       "grid_auto_rows": null,
       "grid_column": null,
       "grid_gap": null,
       "grid_row": null,
       "grid_template_areas": null,
       "grid_template_columns": null,
       "grid_template_rows": null,
       "height": null,
       "justify_content": null,
       "justify_items": null,
       "left": null,
       "margin": null,
       "max_height": null,
       "max_width": null,
       "min_height": null,
       "min_width": null,
       "object_fit": null,
       "object_position": null,
       "order": null,
       "overflow": null,
       "overflow_x": null,
       "overflow_y": null,
       "padding": null,
       "right": null,
       "top": null,
       "visibility": null,
       "width": null
      }
     },
     "2fadd388d5e34699a0d9d2c56a9af5a6": {
      "model_module": "@jupyter-widgets/base",
      "model_module_version": "1.2.0",
      "model_name": "LayoutModel",
      "state": {
       "_model_module": "@jupyter-widgets/base",
       "_model_module_version": "1.2.0",
       "_model_name": "LayoutModel",
       "_view_count": null,
       "_view_module": "@jupyter-widgets/base",
       "_view_module_version": "1.2.0",
       "_view_name": "LayoutView",
       "align_content": null,
       "align_items": null,
       "align_self": null,
       "border": null,
       "bottom": null,
       "display": null,
       "flex": null,
       "flex_flow": null,
       "grid_area": null,
       "grid_auto_columns": null,
       "grid_auto_flow": null,
       "grid_auto_rows": null,
       "grid_column": null,
       "grid_gap": null,
       "grid_row": null,
       "grid_template_areas": null,
       "grid_template_columns": null,
       "grid_template_rows": null,
       "height": null,
       "justify_content": null,
       "justify_items": null,
       "left": null,
       "margin": null,
       "max_height": null,
       "max_width": null,
       "min_height": null,
       "min_width": null,
       "object_fit": null,
       "object_position": null,
       "order": null,
       "overflow": null,
       "overflow_x": null,
       "overflow_y": null,
       "padding": null,
       "right": null,
       "top": null,
       "visibility": null,
       "width": null
      }
     },
     "32a2a77d62d94bbc89220bf90bbc78f1": {
      "model_module": "@jupyter-widgets/controls",
      "model_module_version": "1.5.0",
      "model_name": "DescriptionStyleModel",
      "state": {
       "_model_module": "@jupyter-widgets/controls",
       "_model_module_version": "1.5.0",
       "_model_name": "DescriptionStyleModel",
       "_view_count": null,
       "_view_module": "@jupyter-widgets/base",
       "_view_module_version": "1.2.0",
       "_view_name": "StyleView",
       "description_width": ""
      }
     },
     "32a4fc0a30b747eb9142b40c10961a4c": {
      "model_module": "@jupyter-widgets/base",
      "model_module_version": "1.2.0",
      "model_name": "LayoutModel",
      "state": {
       "_model_module": "@jupyter-widgets/base",
       "_model_module_version": "1.2.0",
       "_model_name": "LayoutModel",
       "_view_count": null,
       "_view_module": "@jupyter-widgets/base",
       "_view_module_version": "1.2.0",
       "_view_name": "LayoutView",
       "align_content": null,
       "align_items": null,
       "align_self": null,
       "border": null,
       "bottom": null,
       "display": null,
       "flex": null,
       "flex_flow": null,
       "grid_area": null,
       "grid_auto_columns": null,
       "grid_auto_flow": null,
       "grid_auto_rows": null,
       "grid_column": null,
       "grid_gap": null,
       "grid_row": null,
       "grid_template_areas": null,
       "grid_template_columns": null,
       "grid_template_rows": null,
       "height": null,
       "justify_content": null,
       "justify_items": null,
       "left": null,
       "margin": null,
       "max_height": null,
       "max_width": null,
       "min_height": null,
       "min_width": null,
       "object_fit": null,
       "object_position": null,
       "order": null,
       "overflow": null,
       "overflow_x": null,
       "overflow_y": null,
       "padding": null,
       "right": null,
       "top": null,
       "visibility": null,
       "width": null
      }
     },
     "340674252369468b992d8fae794694cf": {
      "model_module": "@jupyter-widgets/controls",
      "model_module_version": "1.5.0",
      "model_name": "HBoxModel",
      "state": {
       "_dom_classes": [],
       "_model_module": "@jupyter-widgets/controls",
       "_model_module_version": "1.5.0",
       "_model_name": "HBoxModel",
       "_view_count": null,
       "_view_module": "@jupyter-widgets/controls",
       "_view_module_version": "1.5.0",
       "_view_name": "HBoxView",
       "box_style": "",
       "children": [
        "IPY_MODEL_cd930cb561ee424c8226cc47ea5d8260",
        "IPY_MODEL_fc16096d38ea44c0bacd653e6dbd14fa",
        "IPY_MODEL_4b57657463444f999743d04a357d0e35"
       ],
       "layout": "IPY_MODEL_225f4b526e21412686470e19d26e4cd5"
      }
     },
     "36fcf9ff85694669b8ba2c530c10c694": {
      "model_module": "@jupyter-widgets/controls",
      "model_module_version": "1.5.0",
      "model_name": "HTMLModel",
      "state": {
       "_dom_classes": [],
       "_model_module": "@jupyter-widgets/controls",
       "_model_module_version": "1.5.0",
       "_model_name": "HTMLModel",
       "_view_count": null,
       "_view_module": "@jupyter-widgets/controls",
       "_view_module_version": "1.5.0",
       "_view_name": "HTMLView",
       "description": "",
       "description_tooltip": null,
       "layout": "IPY_MODEL_2d66eb2823384fd98cacba8d80cc0fac",
       "placeholder": "​",
       "style": "IPY_MODEL_f902def52c494963a115bb8086e66933",
       "value": "model.safetensors: 100%"
      }
     },
     "37b6f09f93574ff9bfb46f3a1f5a36dc": {
      "model_module": "@jupyter-widgets/controls",
      "model_module_version": "1.5.0",
      "model_name": "HBoxModel",
      "state": {
       "_dom_classes": [],
       "_model_module": "@jupyter-widgets/controls",
       "_model_module_version": "1.5.0",
       "_model_name": "HBoxModel",
       "_view_count": null,
       "_view_module": "@jupyter-widgets/controls",
       "_view_module_version": "1.5.0",
       "_view_name": "HBoxView",
       "box_style": "",
       "children": [
        "IPY_MODEL_b51b8fb2c5ef40078563d9700a578937",
        "IPY_MODEL_7fd3162a56804389aa1d0ea2b3cd1000",
        "IPY_MODEL_08ce33ecf33d41fd80ab99c8a358d271"
       ],
       "layout": "IPY_MODEL_cddc70dee89741d4985a274d7abb9400"
      }
     },
     "38499ac186f0405c8182b71ec9d57d42": {
      "model_module": "@jupyter-widgets/controls",
      "model_module_version": "1.5.0",
      "model_name": "DescriptionStyleModel",
      "state": {
       "_model_module": "@jupyter-widgets/controls",
       "_model_module_version": "1.5.0",
       "_model_name": "DescriptionStyleModel",
       "_view_count": null,
       "_view_module": "@jupyter-widgets/base",
       "_view_module_version": "1.2.0",
       "_view_name": "StyleView",
       "description_width": ""
      }
     },
     "3c4483e6774e41788f41d3b880ca4005": {
      "model_module": "@jupyter-widgets/controls",
      "model_module_version": "1.5.0",
      "model_name": "ProgressStyleModel",
      "state": {
       "_model_module": "@jupyter-widgets/controls",
       "_model_module_version": "1.5.0",
       "_model_name": "ProgressStyleModel",
       "_view_count": null,
       "_view_module": "@jupyter-widgets/base",
       "_view_module_version": "1.2.0",
       "_view_name": "StyleView",
       "bar_color": null,
       "description_width": ""
      }
     },
     "3ced57e4d55f4214bb958e4fa801aac4": {
      "model_module": "@jupyter-widgets/base",
      "model_module_version": "1.2.0",
      "model_name": "LayoutModel",
      "state": {
       "_model_module": "@jupyter-widgets/base",
       "_model_module_version": "1.2.0",
       "_model_name": "LayoutModel",
       "_view_count": null,
       "_view_module": "@jupyter-widgets/base",
       "_view_module_version": "1.2.0",
       "_view_name": "LayoutView",
       "align_content": null,
       "align_items": null,
       "align_self": null,
       "border": null,
       "bottom": null,
       "display": null,
       "flex": null,
       "flex_flow": null,
       "grid_area": null,
       "grid_auto_columns": null,
       "grid_auto_flow": null,
       "grid_auto_rows": null,
       "grid_column": null,
       "grid_gap": null,
       "grid_row": null,
       "grid_template_areas": null,
       "grid_template_columns": null,
       "grid_template_rows": null,
       "height": null,
       "justify_content": null,
       "justify_items": null,
       "left": null,
       "margin": null,
       "max_height": null,
       "max_width": null,
       "min_height": null,
       "min_width": null,
       "object_fit": null,
       "object_position": null,
       "order": null,
       "overflow": null,
       "overflow_x": null,
       "overflow_y": null,
       "padding": null,
       "right": null,
       "top": null,
       "visibility": null,
       "width": null
      }
     },
     "3f8af68202f34e8cb91ee0e004829386": {
      "model_module": "@jupyter-widgets/base",
      "model_module_version": "1.2.0",
      "model_name": "LayoutModel",
      "state": {
       "_model_module": "@jupyter-widgets/base",
       "_model_module_version": "1.2.0",
       "_model_name": "LayoutModel",
       "_view_count": null,
       "_view_module": "@jupyter-widgets/base",
       "_view_module_version": "1.2.0",
       "_view_name": "LayoutView",
       "align_content": null,
       "align_items": null,
       "align_self": null,
       "border": null,
       "bottom": null,
       "display": null,
       "flex": null,
       "flex_flow": null,
       "grid_area": null,
       "grid_auto_columns": null,
       "grid_auto_flow": null,
       "grid_auto_rows": null,
       "grid_column": null,
       "grid_gap": null,
       "grid_row": null,
       "grid_template_areas": null,
       "grid_template_columns": null,
       "grid_template_rows": null,
       "height": null,
       "justify_content": null,
       "justify_items": null,
       "left": null,
       "margin": null,
       "max_height": null,
       "max_width": null,
       "min_height": null,
       "min_width": null,
       "object_fit": null,
       "object_position": null,
       "order": null,
       "overflow": null,
       "overflow_x": null,
       "overflow_y": null,
       "padding": null,
       "right": null,
       "top": null,
       "visibility": null,
       "width": null
      }
     },
     "404166630f8f4e2183190b5e3fa78875": {
      "model_module": "@jupyter-widgets/controls",
      "model_module_version": "1.5.0",
      "model_name": "FloatProgressModel",
      "state": {
       "_dom_classes": [],
       "_model_module": "@jupyter-widgets/controls",
       "_model_module_version": "1.5.0",
       "_model_name": "FloatProgressModel",
       "_view_count": null,
       "_view_module": "@jupyter-widgets/controls",
       "_view_module_version": "1.5.0",
       "_view_name": "ProgressView",
       "bar_style": "success",
       "description": "",
       "description_tooltip": null,
       "layout": "IPY_MODEL_153eefc95d814b53b9b751400c94fdd0",
       "max": 798156.0,
       "min": 0.0,
       "orientation": "horizontal",
       "style": "IPY_MODEL_c12528d24b4240a4a3cefff6369d31e7",
       "value": 798156.0
      }
     },
     "40aaee0a607e423795b4f95a797b409c": {
      "model_module": "@jupyter-widgets/controls",
      "model_module_version": "1.5.0",
      "model_name": "HTMLModel",
      "state": {
       "_dom_classes": [],
       "_model_module": "@jupyter-widgets/controls",
       "_model_module_version": "1.5.0",
       "_model_name": "HTMLModel",
       "_view_count": null,
       "_view_module": "@jupyter-widgets/controls",
       "_view_module_version": "1.5.0",
       "_view_name": "HTMLView",
       "description": "",
       "description_tooltip": null,
       "layout": "IPY_MODEL_5c29f9a556224e0385eb2d4bb6b40433",
       "placeholder": "​",
       "style": "IPY_MODEL_8973bc09aafd4849aaf2567a1521b473",
       "value": "special_tokens_map.json: 100%"
      }
     },
     "41ea012aef7c4ce7b72aed5cdd4a5dc1": {
      "model_module": "@jupyter-widgets/controls",
      "model_module_version": "1.5.0",
      "model_name": "HTMLModel",
      "state": {
       "_dom_classes": [],
       "_model_module": "@jupyter-widgets/controls",
       "_model_module_version": "1.5.0",
       "_model_name": "HTMLModel",
       "_view_count": null,
       "_view_module": "@jupyter-widgets/controls",
       "_view_module_version": "1.5.0",
       "_view_name": "HTMLView",
       "description": "",
       "description_tooltip": null,
       "layout": "IPY_MODEL_3f8af68202f34e8cb91ee0e004829386",
       "placeholder": "​",
       "style": "IPY_MODEL_32a2a77d62d94bbc89220bf90bbc78f1",
       "value": " 805/805 [00:00&lt;00:00, 77.4kB/s]"
      }
     },
     "43b92ae2b72c4e42a0e654ed4d4c9bd1": {
      "model_module": "@jupyter-widgets/controls",
      "model_module_version": "1.5.0",
      "model_name": "DescriptionStyleModel",
      "state": {
       "_model_module": "@jupyter-widgets/controls",
       "_model_module_version": "1.5.0",
       "_model_name": "DescriptionStyleModel",
       "_view_count": null,
       "_view_module": "@jupyter-widgets/base",
       "_view_module_version": "1.2.0",
       "_view_name": "StyleView",
       "description_width": ""
      }
     },
     "45280b603fa84732be6a74e24b89cdbe": {
      "model_module": "@jupyter-widgets/controls",
      "model_module_version": "1.5.0",
      "model_name": "HBoxModel",
      "state": {
       "_dom_classes": [],
       "_model_module": "@jupyter-widgets/controls",
       "_model_module_version": "1.5.0",
       "_model_name": "HBoxModel",
       "_view_count": null,
       "_view_module": "@jupyter-widgets/controls",
       "_view_module_version": "1.5.0",
       "_view_name": "HBoxView",
       "box_style": "",
       "children": [
        "IPY_MODEL_40aaee0a607e423795b4f95a797b409c",
        "IPY_MODEL_7c82520bebe9494ebda69f0a69eb5a38",
        "IPY_MODEL_d238c8295a964691b117465b9338c213"
       ],
       "layout": "IPY_MODEL_7ab32b67a1cf43379e60c9c0265184df"
      }
     },
     "469a9bc720be4aa5b96eb1aad28a09a5": {
      "model_module": "@jupyter-widgets/base",
      "model_module_version": "1.2.0",
      "model_name": "LayoutModel",
      "state": {
       "_model_module": "@jupyter-widgets/base",
       "_model_module_version": "1.2.0",
       "_model_name": "LayoutModel",
       "_view_count": null,
       "_view_module": "@jupyter-widgets/base",
       "_view_module_version": "1.2.0",
       "_view_name": "LayoutView",
       "align_content": null,
       "align_items": null,
       "align_self": null,
       "border": null,
       "bottom": null,
       "display": null,
       "flex": null,
       "flex_flow": null,
       "grid_area": null,
       "grid_auto_columns": null,
       "grid_auto_flow": null,
       "grid_auto_rows": null,
       "grid_column": null,
       "grid_gap": null,
       "grid_row": null,
       "grid_template_areas": null,
       "grid_template_columns": null,
       "grid_template_rows": null,
       "height": null,
       "justify_content": null,
       "justify_items": null,
       "left": null,
       "margin": null,
       "max_height": null,
       "max_width": null,
       "min_height": null,
       "min_width": null,
       "object_fit": null,
       "object_position": null,
       "order": null,
       "overflow": null,
       "overflow_x": null,
       "overflow_y": null,
       "padding": null,
       "right": null,
       "top": null,
       "visibility": null,
       "width": null
      }
     },
     "4856f035c1a74fe288c7cd0c7c9065d7": {
      "model_module": "@jupyter-widgets/base",
      "model_module_version": "1.2.0",
      "model_name": "LayoutModel",
      "state": {
       "_model_module": "@jupyter-widgets/base",
       "_model_module_version": "1.2.0",
       "_model_name": "LayoutModel",
       "_view_count": null,
       "_view_module": "@jupyter-widgets/base",
       "_view_module_version": "1.2.0",
       "_view_name": "LayoutView",
       "align_content": null,
       "align_items": null,
       "align_self": null,
       "border": null,
       "bottom": null,
       "display": null,
       "flex": null,
       "flex_flow": null,
       "grid_area": null,
       "grid_auto_columns": null,
       "grid_auto_flow": null,
       "grid_auto_rows": null,
       "grid_column": null,
       "grid_gap": null,
       "grid_row": null,
       "grid_template_areas": null,
       "grid_template_columns": null,
       "grid_template_rows": null,
       "height": null,
       "justify_content": null,
       "justify_items": null,
       "left": null,
       "margin": null,
       "max_height": null,
       "max_width": null,
       "min_height": null,
       "min_width": null,
       "object_fit": null,
       "object_position": null,
       "order": null,
       "overflow": null,
       "overflow_x": null,
       "overflow_y": null,
       "padding": null,
       "right": null,
       "top": null,
       "visibility": null,
       "width": null
      }
     },
     "499e4f32ddae4b6ba6f96e18d1508b16": {
      "model_module": "@jupyter-widgets/controls",
      "model_module_version": "1.5.0",
      "model_name": "HTMLModel",
      "state": {
       "_dom_classes": [],
       "_model_module": "@jupyter-widgets/controls",
       "_model_module_version": "1.5.0",
       "_model_name": "HTMLModel",
       "_view_count": null,
       "_view_module": "@jupyter-widgets/controls",
       "_view_module_version": "1.5.0",
       "_view_name": "HTMLView",
       "description": "",
       "description_tooltip": null,
       "layout": "IPY_MODEL_141c12317dec4ffeb5f8e54c3fbf8af1",
       "placeholder": "​",
       "style": "IPY_MODEL_928ea3922c9646c890744ca648885770",
       "value": " 456k/456k [00:00&lt;00:00, 2.60MB/s]"
      }
     },
     "4b57657463444f999743d04a357d0e35": {
      "model_module": "@jupyter-widgets/controls",
      "model_module_version": "1.5.0",
      "model_name": "HTMLModel",
      "state": {
       "_dom_classes": [],
       "_model_module": "@jupyter-widgets/controls",
       "_model_module_version": "1.5.0",
       "_model_name": "HTMLModel",
       "_view_count": null,
       "_view_module": "@jupyter-widgets/controls",
       "_view_module_version": "1.5.0",
       "_view_name": "HTMLView",
       "description": "",
       "description_tooltip": null,
       "layout": "IPY_MODEL_4c328b559709477eb9790c65259e7ba7",
       "placeholder": "​",
       "style": "IPY_MODEL_d6abba55ef7e492da7bed6376b9e73fe",
       "value": " 1.94k/1.94k [00:00&lt;00:00, 185kB/s]"
      }
     },
     "4bcb422e608546339bb20693cb9ab1bb": {
      "model_module": "@jupyter-widgets/controls",
      "model_module_version": "1.5.0",
      "model_name": "DescriptionStyleModel",
      "state": {
       "_model_module": "@jupyter-widgets/controls",
       "_model_module_version": "1.5.0",
       "_model_name": "DescriptionStyleModel",
       "_view_count": null,
       "_view_module": "@jupyter-widgets/base",
       "_view_module_version": "1.2.0",
       "_view_name": "StyleView",
       "description_width": ""
      }
     },
     "4c328b559709477eb9790c65259e7ba7": {
      "model_module": "@jupyter-widgets/base",
      "model_module_version": "1.2.0",
      "model_name": "LayoutModel",
      "state": {
       "_model_module": "@jupyter-widgets/base",
       "_model_module_version": "1.2.0",
       "_model_name": "LayoutModel",
       "_view_count": null,
       "_view_module": "@jupyter-widgets/base",
       "_view_module_version": "1.2.0",
       "_view_name": "LayoutView",
       "align_content": null,
       "align_items": null,
       "align_self": null,
       "border": null,
       "bottom": null,
       "display": null,
       "flex": null,
       "flex_flow": null,
       "grid_area": null,
       "grid_auto_columns": null,
       "grid_auto_flow": null,
       "grid_auto_rows": null,
       "grid_column": null,
       "grid_gap": null,
       "grid_row": null,
       "grid_template_areas": null,
       "grid_template_columns": null,
       "grid_template_rows": null,
       "height": null,
       "justify_content": null,
       "justify_items": null,
       "left": null,
       "margin": null,
       "max_height": null,
       "max_width": null,
       "min_height": null,
       "min_width": null,
       "object_fit": null,
       "object_position": null,
       "order": null,
       "overflow": null,
       "overflow_x": null,
       "overflow_y": null,
       "padding": null,
       "right": null,
       "top": null,
       "visibility": null,
       "width": null
      }
     },
     "4ccef57603d84d7391c7fc737c2a61a1": {
      "model_module": "@jupyter-widgets/controls",
      "model_module_version": "1.5.0",
      "model_name": "DescriptionStyleModel",
      "state": {
       "_model_module": "@jupyter-widgets/controls",
       "_model_module_version": "1.5.0",
       "_model_name": "DescriptionStyleModel",
       "_view_count": null,
       "_view_module": "@jupyter-widgets/base",
       "_view_module_version": "1.2.0",
       "_view_name": "StyleView",
       "description_width": ""
      }
     },
     "52b6fa246b9b46babdd6720f086416db": {
      "model_module": "@jupyter-widgets/controls",
      "model_module_version": "1.5.0",
      "model_name": "DescriptionStyleModel",
      "state": {
       "_model_module": "@jupyter-widgets/controls",
       "_model_module_version": "1.5.0",
       "_model_name": "DescriptionStyleModel",
       "_view_count": null,
       "_view_module": "@jupyter-widgets/base",
       "_view_module_version": "1.2.0",
       "_view_name": "StyleView",
       "description_width": ""
      }
     },
     "5471437794844814a8fada83607cc8ee": {
      "model_module": "@jupyter-widgets/base",
      "model_module_version": "1.2.0",
      "model_name": "LayoutModel",
      "state": {
       "_model_module": "@jupyter-widgets/base",
       "_model_module_version": "1.2.0",
       "_model_name": "LayoutModel",
       "_view_count": null,
       "_view_module": "@jupyter-widgets/base",
       "_view_module_version": "1.2.0",
       "_view_name": "LayoutView",
       "align_content": null,
       "align_items": null,
       "align_self": null,
       "border": null,
       "bottom": null,
       "display": null,
       "flex": null,
       "flex_flow": null,
       "grid_area": null,
       "grid_auto_columns": null,
       "grid_auto_flow": null,
       "grid_auto_rows": null,
       "grid_column": null,
       "grid_gap": null,
       "grid_row": null,
       "grid_template_areas": null,
       "grid_template_columns": null,
       "grid_template_rows": null,
       "height": null,
       "justify_content": null,
       "justify_items": null,
       "left": null,
       "margin": null,
       "max_height": null,
       "max_width": null,
       "min_height": null,
       "min_width": null,
       "object_fit": null,
       "object_position": null,
       "order": null,
       "overflow": null,
       "overflow_x": null,
       "overflow_y": null,
       "padding": null,
       "right": null,
       "top": null,
       "visibility": null,
       "width": null
      }
     },
     "55a7e78f31014169984a1292e7349e25": {
      "model_module": "@jupyter-widgets/controls",
      "model_module_version": "1.5.0",
      "model_name": "DescriptionStyleModel",
      "state": {
       "_model_module": "@jupyter-widgets/controls",
       "_model_module_version": "1.5.0",
       "_model_name": "DescriptionStyleModel",
       "_view_count": null,
       "_view_module": "@jupyter-widgets/base",
       "_view_module_version": "1.2.0",
       "_view_name": "StyleView",
       "description_width": ""
      }
     },
     "565fd0cd98124f84b2dce764dd5b5dda": {
      "model_module": "@jupyter-widgets/controls",
      "model_module_version": "1.5.0",
      "model_name": "ProgressStyleModel",
      "state": {
       "_model_module": "@jupyter-widgets/controls",
       "_model_module_version": "1.5.0",
       "_model_name": "ProgressStyleModel",
       "_view_count": null,
       "_view_module": "@jupyter-widgets/base",
       "_view_module_version": "1.2.0",
       "_view_name": "StyleView",
       "bar_color": null,
       "description_width": ""
      }
     },
     "59a3aed0c613499b95fd807753f1a63f": {
      "model_module": "@jupyter-widgets/controls",
      "model_module_version": "1.5.0",
      "model_name": "HBoxModel",
      "state": {
       "_dom_classes": [],
       "_model_module": "@jupyter-widgets/controls",
       "_model_module_version": "1.5.0",
       "_model_name": "HBoxModel",
       "_view_count": null,
       "_view_module": "@jupyter-widgets/controls",
       "_view_module_version": "1.5.0",
       "_view_name": "HBoxView",
       "box_style": "",
       "children": [
        "IPY_MODEL_cb6a8cd8395b4d45a4f0bba054874005",
        "IPY_MODEL_404166630f8f4e2183190b5e3fa78875",
        "IPY_MODEL_c2da71f3ed4345749f109b519fe000f1"
       ],
       "layout": "IPY_MODEL_929d2c860e9f4b4c9997f298753fca8d"
      }
     },
     "59e92e40a4f74a90a4c36c6d8cd91bc6": {
      "model_module": "@jupyter-widgets/controls",
      "model_module_version": "1.5.0",
      "model_name": "DescriptionStyleModel",
      "state": {
       "_model_module": "@jupyter-widgets/controls",
       "_model_module_version": "1.5.0",
       "_model_name": "DescriptionStyleModel",
       "_view_count": null,
       "_view_module": "@jupyter-widgets/base",
       "_view_module_version": "1.2.0",
       "_view_name": "StyleView",
       "description_width": ""
      }
     },
     "5a6a692fca8b405f87569aebb147b047": {
      "model_module": "@jupyter-widgets/base",
      "model_module_version": "1.2.0",
      "model_name": "LayoutModel",
      "state": {
       "_model_module": "@jupyter-widgets/base",
       "_model_module_version": "1.2.0",
       "_model_name": "LayoutModel",
       "_view_count": null,
       "_view_module": "@jupyter-widgets/base",
       "_view_module_version": "1.2.0",
       "_view_name": "LayoutView",
       "align_content": null,
       "align_items": null,
       "align_self": null,
       "border": null,
       "bottom": null,
       "display": null,
       "flex": null,
       "flex_flow": null,
       "grid_area": null,
       "grid_auto_columns": null,
       "grid_auto_flow": null,
       "grid_auto_rows": null,
       "grid_column": null,
       "grid_gap": null,
       "grid_row": null,
       "grid_template_areas": null,
       "grid_template_columns": null,
       "grid_template_rows": null,
       "height": null,
       "justify_content": null,
       "justify_items": null,
       "left": null,
       "margin": null,
       "max_height": null,
       "max_width": null,
       "min_height": null,
       "min_width": null,
       "object_fit": null,
       "object_position": null,
       "order": null,
       "overflow": null,
       "overflow_x": null,
       "overflow_y": null,
       "padding": null,
       "right": null,
       "top": null,
       "visibility": null,
       "width": null
      }
     },
     "5c29f9a556224e0385eb2d4bb6b40433": {
      "model_module": "@jupyter-widgets/base",
      "model_module_version": "1.2.0",
      "model_name": "LayoutModel",
      "state": {
       "_model_module": "@jupyter-widgets/base",
       "_model_module_version": "1.2.0",
       "_model_name": "LayoutModel",
       "_view_count": null,
       "_view_module": "@jupyter-widgets/base",
       "_view_module_version": "1.2.0",
       "_view_name": "LayoutView",
       "align_content": null,
       "align_items": null,
       "align_self": null,
       "border": null,
       "bottom": null,
       "display": null,
       "flex": null,
       "flex_flow": null,
       "grid_area": null,
       "grid_auto_columns": null,
       "grid_auto_flow": null,
       "grid_auto_rows": null,
       "grid_column": null,
       "grid_gap": null,
       "grid_row": null,
       "grid_template_areas": null,
       "grid_template_columns": null,
       "grid_template_rows": null,
       "height": null,
       "justify_content": null,
       "justify_items": null,
       "left": null,
       "margin": null,
       "max_height": null,
       "max_width": null,
       "min_height": null,
       "min_width": null,
       "object_fit": null,
       "object_position": null,
       "order": null,
       "overflow": null,
       "overflow_x": null,
       "overflow_y": null,
       "padding": null,
       "right": null,
       "top": null,
       "visibility": null,
       "width": null
      }
     },
     "6062d66332804ccc886d8511f8e74de3": {
      "model_module": "@jupyter-widgets/controls",
      "model_module_version": "1.5.0",
      "model_name": "ProgressStyleModel",
      "state": {
       "_model_module": "@jupyter-widgets/controls",
       "_model_module_version": "1.5.0",
       "_model_name": "ProgressStyleModel",
       "_view_count": null,
       "_view_module": "@jupyter-widgets/base",
       "_view_module_version": "1.2.0",
       "_view_name": "StyleView",
       "bar_color": null,
       "description_width": ""
      }
     },
     "60681ed9de6642ae97cbc2738f7128cb": {
      "model_module": "@jupyter-widgets/controls",
      "model_module_version": "1.5.0",
      "model_name": "FloatProgressModel",
      "state": {
       "_dom_classes": [],
       "_model_module": "@jupyter-widgets/controls",
       "_model_module_version": "1.5.0",
       "_model_name": "FloatProgressModel",
       "_view_count": null,
       "_view_module": "@jupyter-widgets/controls",
       "_view_module_version": "1.5.0",
       "_view_name": "ProgressView",
       "bar_style": "success",
       "description": "",
       "description_tooltip": null,
       "layout": "IPY_MODEL_b031070baff44102bc1384bf846c02f7",
       "max": 2405679.0,
       "min": 0.0,
       "orientation": "horizontal",
       "style": "IPY_MODEL_3c4483e6774e41788f41d3b880ca4005",
       "value": 2405679.0
      }
     },
     "62af002e70554a23ba77e2ef96d14c7f": {
      "model_module": "@jupyter-widgets/controls",
      "model_module_version": "1.5.0",
      "model_name": "HBoxModel",
      "state": {
       "_dom_classes": [],
       "_model_module": "@jupyter-widgets/controls",
       "_model_module_version": "1.5.0",
       "_model_name": "HBoxModel",
       "_view_count": null,
       "_view_module": "@jupyter-widgets/controls",
       "_view_module_version": "1.5.0",
       "_view_name": "HBoxView",
       "box_style": "",
       "children": [
        "IPY_MODEL_36fcf9ff85694669b8ba2c530c10c694",
        "IPY_MODEL_e9f529b14694416eae2b38562a8cf2ff",
        "IPY_MODEL_c3964291aad54919af5707f9a6c59d27"
       ],
       "layout": "IPY_MODEL_018d92403b754983adfc5af08de48287"
      }
     },
     "6a5da6ccbce741b8bf072bf4b1e2b963": {
      "model_module": "@jupyter-widgets/base",
      "model_module_version": "1.2.0",
      "model_name": "LayoutModel",
      "state": {
       "_model_module": "@jupyter-widgets/base",
       "_model_module_version": "1.2.0",
       "_model_name": "LayoutModel",
       "_view_count": null,
       "_view_module": "@jupyter-widgets/base",
       "_view_module_version": "1.2.0",
       "_view_name": "LayoutView",
       "align_content": null,
       "align_items": null,
       "align_self": null,
       "border": null,
       "bottom": null,
       "display": null,
       "flex": null,
       "flex_flow": null,
       "grid_area": null,
       "grid_auto_columns": null,
       "grid_auto_flow": null,
       "grid_auto_rows": null,
       "grid_column": null,
       "grid_gap": null,
       "grid_row": null,
       "grid_template_areas": null,
       "grid_template_columns": null,
       "grid_template_rows": null,
       "height": null,
       "justify_content": null,
       "justify_items": null,
       "left": null,
       "margin": null,
       "max_height": null,
       "max_width": null,
       "min_height": null,
       "min_width": null,
       "object_fit": null,
       "object_position": null,
       "order": null,
       "overflow": null,
       "overflow_x": null,
       "overflow_y": null,
       "padding": null,
       "right": null,
       "top": null,
       "visibility": null,
       "width": null
      }
     },
     "6a5eb54733ef4ca2986ea89f791c325c": {
      "model_module": "@jupyter-widgets/controls",
      "model_module_version": "1.5.0",
      "model_name": "FloatProgressModel",
      "state": {
       "_dom_classes": [],
       "_model_module": "@jupyter-widgets/controls",
       "_model_module_version": "1.5.0",
       "_model_name": "FloatProgressModel",
       "_view_count": null,
       "_view_module": "@jupyter-widgets/controls",
       "_view_module_version": "1.5.0",
       "_view_name": "ProgressView",
       "bar_style": "success",
       "description": "",
       "description_tooltip": null,
       "layout": "IPY_MODEL_0fafd25d45784eb1a2b60124121e4605",
       "max": 184990.0,
       "min": 0.0,
       "orientation": "horizontal",
       "style": "IPY_MODEL_6062d66332804ccc886d8511f8e74de3",
       "value": 184990.0
      }
     },
     "6be688fd5b674e30a8520b9f161a4b9f": {
      "model_module": "@jupyter-widgets/base",
      "model_module_version": "1.2.0",
      "model_name": "LayoutModel",
      "state": {
       "_model_module": "@jupyter-widgets/base",
       "_model_module_version": "1.2.0",
       "_model_name": "LayoutModel",
       "_view_count": null,
       "_view_module": "@jupyter-widgets/base",
       "_view_module_version": "1.2.0",
       "_view_name": "LayoutView",
       "align_content": null,
       "align_items": null,
       "align_self": null,
       "border": null,
       "bottom": null,
       "display": null,
       "flex": null,
       "flex_flow": null,
       "grid_area": null,
       "grid_auto_columns": null,
       "grid_auto_flow": null,
       "grid_auto_rows": null,
       "grid_column": null,
       "grid_gap": null,
       "grid_row": null,
       "grid_template_areas": null,
       "grid_template_columns": null,
       "grid_template_rows": null,
       "height": null,
       "justify_content": null,
       "justify_items": null,
       "left": null,
       "margin": null,
       "max_height": null,
       "max_width": null,
       "min_height": null,
       "min_width": null,
       "object_fit": null,
       "object_position": null,
       "order": null,
       "overflow": null,
       "overflow_x": null,
       "overflow_y": null,
       "padding": null,
       "right": null,
       "top": null,
       "visibility": null,
       "width": null
      }
     },
     "7081216c33ad4983b233fcf4e0b51e72": {
      "model_module": "@jupyter-widgets/base",
      "model_module_version": "1.2.0",
      "model_name": "LayoutModel",
      "state": {
       "_model_module": "@jupyter-widgets/base",
       "_model_module_version": "1.2.0",
       "_model_name": "LayoutModel",
       "_view_count": null,
       "_view_module": "@jupyter-widgets/base",
       "_view_module_version": "1.2.0",
       "_view_name": "LayoutView",
       "align_content": null,
       "align_items": null,
       "align_self": null,
       "border": null,
       "bottom": null,
       "display": null,
       "flex": null,
       "flex_flow": null,
       "grid_area": null,
       "grid_auto_columns": null,
       "grid_auto_flow": null,
       "grid_auto_rows": null,
       "grid_column": null,
       "grid_gap": null,
       "grid_row": null,
       "grid_template_areas": null,
       "grid_template_columns": null,
       "grid_template_rows": null,
       "height": null,
       "justify_content": null,
       "justify_items": null,
       "left": null,
       "margin": null,
       "max_height": null,
       "max_width": null,
       "min_height": null,
       "min_width": null,
       "object_fit": null,
       "object_position": null,
       "order": null,
       "overflow": null,
       "overflow_x": null,
       "overflow_y": null,
       "padding": null,
       "right": null,
       "top": null,
       "visibility": null,
       "width": null
      }
     },
     "788784b3c34e40f4bb3dd821e88fbb1b": {
      "model_module": "@jupyter-widgets/controls",
      "model_module_version": "1.5.0",
      "model_name": "HBoxModel",
      "state": {
       "_dom_classes": [],
       "_model_module": "@jupyter-widgets/controls",
       "_model_module_version": "1.5.0",
       "_model_name": "HBoxModel",
       "_view_count": null,
       "_view_module": "@jupyter-widgets/controls",
       "_view_module_version": "1.5.0",
       "_view_name": "HBoxView",
       "box_style": "",
       "children": [
        "IPY_MODEL_bd8b50a49a004479881fcdcce42cad16",
        "IPY_MODEL_6a5eb54733ef4ca2986ea89f791c325c",
        "IPY_MODEL_8d70e337dc5b4f03949977ec149237d2"
       ],
       "layout": "IPY_MODEL_9a1906c0de67414daea62b4a6648299d"
      }
     },
     "7ab32b67a1cf43379e60c9c0265184df": {
      "model_module": "@jupyter-widgets/base",
      "model_module_version": "1.2.0",
      "model_name": "LayoutModel",
      "state": {
       "_model_module": "@jupyter-widgets/base",
       "_model_module_version": "1.2.0",
       "_model_name": "LayoutModel",
       "_view_count": null,
       "_view_module": "@jupyter-widgets/base",
       "_view_module_version": "1.2.0",
       "_view_name": "LayoutView",
       "align_content": null,
       "align_items": null,
       "align_self": null,
       "border": null,
       "bottom": null,
       "display": null,
       "flex": null,
       "flex_flow": null,
       "grid_area": null,
       "grid_auto_columns": null,
       "grid_auto_flow": null,
       "grid_auto_rows": null,
       "grid_column": null,
       "grid_gap": null,
       "grid_row": null,
       "grid_template_areas": null,
       "grid_template_columns": null,
       "grid_template_rows": null,
       "height": null,
       "justify_content": null,
       "justify_items": null,
       "left": null,
       "margin": null,
       "max_height": null,
       "max_width": null,
       "min_height": null,
       "min_width": null,
       "object_fit": null,
       "object_position": null,
       "order": null,
       "overflow": null,
       "overflow_x": null,
       "overflow_y": null,
       "padding": null,
       "right": null,
       "top": null,
       "visibility": null,
       "width": null
      }
     },
     "7c82520bebe9494ebda69f0a69eb5a38": {
      "model_module": "@jupyter-widgets/controls",
      "model_module_version": "1.5.0",
      "model_name": "FloatProgressModel",
      "state": {
       "_dom_classes": [],
       "_model_module": "@jupyter-widgets/controls",
       "_model_module_version": "1.5.0",
       "_model_name": "FloatProgressModel",
       "_view_count": null,
       "_view_module": "@jupyter-widgets/controls",
       "_view_module_version": "1.5.0",
       "_view_name": "ProgressView",
       "bar_style": "success",
       "description": "",
       "description_tooltip": null,
       "layout": "IPY_MODEL_32a4fc0a30b747eb9142b40c10961a4c",
       "max": 1830.0,
       "min": 0.0,
       "orientation": "horizontal",
       "style": "IPY_MODEL_fec2dc328b9d487aa60ae34656e8f21c",
       "value": 1830.0
      }
     },
     "7eefbc3423ee4460b8bb140de2decf24": {
      "model_module": "@jupyter-widgets/base",
      "model_module_version": "1.2.0",
      "model_name": "LayoutModel",
      "state": {
       "_model_module": "@jupyter-widgets/base",
       "_model_module_version": "1.2.0",
       "_model_name": "LayoutModel",
       "_view_count": null,
       "_view_module": "@jupyter-widgets/base",
       "_view_module_version": "1.2.0",
       "_view_name": "LayoutView",
       "align_content": null,
       "align_items": null,
       "align_self": null,
       "border": null,
       "bottom": null,
       "display": null,
       "flex": null,
       "flex_flow": null,
       "grid_area": null,
       "grid_auto_columns": null,
       "grid_auto_flow": null,
       "grid_auto_rows": null,
       "grid_column": null,
       "grid_gap": null,
       "grid_row": null,
       "grid_template_areas": null,
       "grid_template_columns": null,
       "grid_template_rows": null,
       "height": null,
       "justify_content": null,
       "justify_items": null,
       "left": null,
       "margin": null,
       "max_height": null,
       "max_width": null,
       "min_height": null,
       "min_width": null,
       "object_fit": null,
       "object_position": null,
       "order": null,
       "overflow": null,
       "overflow_x": null,
       "overflow_y": null,
       "padding": null,
       "right": null,
       "top": null,
       "visibility": null,
       "width": null
      }
     },
     "7fd3162a56804389aa1d0ea2b3cd1000": {
      "model_module": "@jupyter-widgets/controls",
      "model_module_version": "1.5.0",
      "model_name": "FloatProgressModel",
      "state": {
       "_dom_classes": [],
       "_model_module": "@jupyter-widgets/controls",
       "_model_module_version": "1.5.0",
       "_model_name": "FloatProgressModel",
       "_view_count": null,
       "_view_module": "@jupyter-widgets/controls",
       "_view_module_version": "1.5.0",
       "_view_name": "ProgressView",
       "bar_style": "success",
       "description": "",
       "description_tooltip": null,
       "layout": "IPY_MODEL_1f077381c7a84a13ae73178a21a5570c",
       "max": 52666.0,
       "min": 0.0,
       "orientation": "horizontal",
       "style": "IPY_MODEL_8aebca0a98c54e23a89725d4a4b3ce89",
       "value": 52666.0
      }
     },
     "8064197716494bc39027f243a99e0a90": {
      "model_module": "@jupyter-widgets/base",
      "model_module_version": "1.2.0",
      "model_name": "LayoutModel",
      "state": {
       "_model_module": "@jupyter-widgets/base",
       "_model_module_version": "1.2.0",
       "_model_name": "LayoutModel",
       "_view_count": null,
       "_view_module": "@jupyter-widgets/base",
       "_view_module_version": "1.2.0",
       "_view_name": "LayoutView",
       "align_content": null,
       "align_items": null,
       "align_self": null,
       "border": null,
       "bottom": null,
       "display": null,
       "flex": null,
       "flex_flow": null,
       "grid_area": null,
       "grid_auto_columns": null,
       "grid_auto_flow": null,
       "grid_auto_rows": null,
       "grid_column": null,
       "grid_gap": null,
       "grid_row": null,
       "grid_template_areas": null,
       "grid_template_columns": null,
       "grid_template_rows": null,
       "height": null,
       "justify_content": null,
       "justify_items": null,
       "left": null,
       "margin": null,
       "max_height": null,
       "max_width": null,
       "min_height": null,
       "min_width": null,
       "object_fit": null,
       "object_position": null,
       "order": null,
       "overflow": null,
       "overflow_x": null,
       "overflow_y": null,
       "padding": null,
       "right": null,
       "top": null,
       "visibility": null,
       "width": null
      }
     },
     "833776f08b0743488e19a0ad80b3ed87": {
      "model_module": "@jupyter-widgets/controls",
      "model_module_version": "1.5.0",
      "model_name": "DescriptionStyleModel",
      "state": {
       "_model_module": "@jupyter-widgets/controls",
       "_model_module_version": "1.5.0",
       "_model_name": "DescriptionStyleModel",
       "_view_count": null,
       "_view_module": "@jupyter-widgets/base",
       "_view_module_version": "1.2.0",
       "_view_name": "StyleView",
       "description_width": ""
      }
     },
     "840acc113aec48ec9e9f587d9cb3aae7": {
      "model_module": "@jupyter-widgets/base",
      "model_module_version": "1.2.0",
      "model_name": "LayoutModel",
      "state": {
       "_model_module": "@jupyter-widgets/base",
       "_model_module_version": "1.2.0",
       "_model_name": "LayoutModel",
       "_view_count": null,
       "_view_module": "@jupyter-widgets/base",
       "_view_module_version": "1.2.0",
       "_view_name": "LayoutView",
       "align_content": null,
       "align_items": null,
       "align_self": null,
       "border": null,
       "bottom": null,
       "display": null,
       "flex": null,
       "flex_flow": null,
       "grid_area": null,
       "grid_auto_columns": null,
       "grid_auto_flow": null,
       "grid_auto_rows": null,
       "grid_column": null,
       "grid_gap": null,
       "grid_row": null,
       "grid_template_areas": null,
       "grid_template_columns": null,
       "grid_template_rows": null,
       "height": null,
       "justify_content": null,
       "justify_items": null,
       "left": null,
       "margin": null,
       "max_height": null,
       "max_width": null,
       "min_height": null,
       "min_width": null,
       "object_fit": null,
       "object_position": null,
       "order": null,
       "overflow": null,
       "overflow_x": null,
       "overflow_y": null,
       "padding": null,
       "right": null,
       "top": null,
       "visibility": null,
       "width": null
      }
     },
     "8437c1dfd8304828b0f75c121c4dc0cf": {
      "model_module": "@jupyter-widgets/controls",
      "model_module_version": "1.5.0",
      "model_name": "DescriptionStyleModel",
      "state": {
       "_model_module": "@jupyter-widgets/controls",
       "_model_module_version": "1.5.0",
       "_model_name": "DescriptionStyleModel",
       "_view_count": null,
       "_view_module": "@jupyter-widgets/base",
       "_view_module_version": "1.2.0",
       "_view_name": "StyleView",
       "description_width": ""
      }
     },
     "85c92e051d58472c86dcee49ddc22b41": {
      "model_module": "@jupyter-widgets/controls",
      "model_module_version": "1.5.0",
      "model_name": "HBoxModel",
      "state": {
       "_dom_classes": [],
       "_model_module": "@jupyter-widgets/controls",
       "_model_module_version": "1.5.0",
       "_model_name": "HBoxModel",
       "_view_count": null,
       "_view_module": "@jupyter-widgets/controls",
       "_view_module_version": "1.5.0",
       "_view_name": "HBoxView",
       "box_style": "",
       "children": [
        "IPY_MODEL_cbcca39ca6c24a768fccbfaba8e056cb",
        "IPY_MODEL_c05602994e264def8e315aae35a5408f",
        "IPY_MODEL_41ea012aef7c4ce7b72aed5cdd4a5dc1"
       ],
       "layout": "IPY_MODEL_f35c6eafd23b4ea3855eaed062fb5620"
      }
     },
     "8611b12398de4f76acbee8e57ce74720": {
      "model_module": "@jupyter-widgets/controls",
      "model_module_version": "1.5.0",
      "model_name": "HTMLModel",
      "state": {
       "_dom_classes": [],
       "_model_module": "@jupyter-widgets/controls",
       "_model_module_version": "1.5.0",
       "_model_name": "HTMLModel",
       "_view_count": null,
       "_view_module": "@jupyter-widgets/controls",
       "_view_module_version": "1.5.0",
       "_view_name": "HTMLView",
       "description": "",
       "description_tooltip": null,
       "layout": "IPY_MODEL_5a6a692fca8b405f87569aebb147b047",
       "placeholder": "​",
       "style": "IPY_MODEL_59e92e40a4f74a90a4c36c6d8cd91bc6",
       "value": " 2.41M/2.41M [00:00&lt;00:00, 12.5MB/s]"
      }
     },
     "8973bc09aafd4849aaf2567a1521b473": {
      "model_module": "@jupyter-widgets/controls",
      "model_module_version": "1.5.0",
      "model_name": "DescriptionStyleModel",
      "state": {
       "_model_module": "@jupyter-widgets/controls",
       "_model_module_version": "1.5.0",
       "_model_name": "DescriptionStyleModel",
       "_view_count": null,
       "_view_module": "@jupyter-widgets/base",
       "_view_module_version": "1.2.0",
       "_view_name": "StyleView",
       "description_width": ""
      }
     },
     "89f6e5ae9111481fb8527d98fe06815b": {
      "model_module": "@jupyter-widgets/controls",
      "model_module_version": "1.5.0",
      "model_name": "DescriptionStyleModel",
      "state": {
       "_model_module": "@jupyter-widgets/controls",
       "_model_module_version": "1.5.0",
       "_model_name": "DescriptionStyleModel",
       "_view_count": null,
       "_view_module": "@jupyter-widgets/base",
       "_view_module_version": "1.2.0",
       "_view_name": "StyleView",
       "description_width": ""
      }
     },
     "8a6217cb17e047d6a76a8de1799a0152": {
      "model_module": "@jupyter-widgets/base",
      "model_module_version": "1.2.0",
      "model_name": "LayoutModel",
      "state": {
       "_model_module": "@jupyter-widgets/base",
       "_model_module_version": "1.2.0",
       "_model_name": "LayoutModel",
       "_view_count": null,
       "_view_module": "@jupyter-widgets/base",
       "_view_module_version": "1.2.0",
       "_view_name": "LayoutView",
       "align_content": null,
       "align_items": null,
       "align_self": null,
       "border": null,
       "bottom": null,
       "display": null,
       "flex": null,
       "flex_flow": null,
       "grid_area": null,
       "grid_auto_columns": null,
       "grid_auto_flow": null,
       "grid_auto_rows": null,
       "grid_column": null,
       "grid_gap": null,
       "grid_row": null,
       "grid_template_areas": null,
       "grid_template_columns": null,
       "grid_template_rows": null,
       "height": null,
       "justify_content": null,
       "justify_items": null,
       "left": null,
       "margin": null,
       "max_height": null,
       "max_width": null,
       "min_height": null,
       "min_width": null,
       "object_fit": null,
       "object_position": null,
       "order": null,
       "overflow": null,
       "overflow_x": null,
       "overflow_y": null,
       "padding": null,
       "right": null,
       "top": null,
       "visibility": null,
       "width": null
      }
     },
     "8aebca0a98c54e23a89725d4a4b3ce89": {
      "model_module": "@jupyter-widgets/controls",
      "model_module_version": "1.5.0",
      "model_name": "ProgressStyleModel",
      "state": {
       "_model_module": "@jupyter-widgets/controls",
       "_model_module_version": "1.5.0",
       "_model_name": "ProgressStyleModel",
       "_view_count": null,
       "_view_module": "@jupyter-widgets/base",
       "_view_module_version": "1.2.0",
       "_view_name": "StyleView",
       "bar_color": null,
       "description_width": ""
      }
     },
     "8d70e337dc5b4f03949977ec149237d2": {
      "model_module": "@jupyter-widgets/controls",
      "model_module_version": "1.5.0",
      "model_name": "HTMLModel",
      "state": {
       "_dom_classes": [],
       "_model_module": "@jupyter-widgets/controls",
       "_model_module_version": "1.5.0",
       "_model_name": "HTMLModel",
       "_view_count": null,
       "_view_module": "@jupyter-widgets/controls",
       "_view_module_version": "1.5.0",
       "_view_name": "HTMLView",
       "description": "",
       "description_tooltip": null,
       "layout": "IPY_MODEL_d0f1c0913b714e7687d9e5845f417937",
       "placeholder": "​",
       "style": "IPY_MODEL_38499ac186f0405c8182b71ec9d57d42",
       "value": " 185k/185k [00:00&lt;00:00, 506kB/s]"
      }
     },
     "8dc7363e68664f3c94ce3b375df978b0": {
      "model_module": "@jupyter-widgets/controls",
      "model_module_version": "1.5.0",
      "model_name": "ProgressStyleModel",
      "state": {
       "_model_module": "@jupyter-widgets/controls",
       "_model_module_version": "1.5.0",
       "_model_name": "ProgressStyleModel",
       "_view_count": null,
       "_view_module": "@jupyter-widgets/base",
       "_view_module_version": "1.2.0",
       "_view_name": "StyleView",
       "bar_color": null,
       "description_width": ""
      }
     },
     "8dc794e1aa824031804a1f75252557e6": {
      "model_module": "@jupyter-widgets/base",
      "model_module_version": "1.2.0",
      "model_name": "LayoutModel",
      "state": {
       "_model_module": "@jupyter-widgets/base",
       "_model_module_version": "1.2.0",
       "_model_name": "LayoutModel",
       "_view_count": null,
       "_view_module": "@jupyter-widgets/base",
       "_view_module_version": "1.2.0",
       "_view_name": "LayoutView",
       "align_content": null,
       "align_items": null,
       "align_self": null,
       "border": null,
       "bottom": null,
       "display": null,
       "flex": null,
       "flex_flow": null,
       "grid_area": null,
       "grid_auto_columns": null,
       "grid_auto_flow": null,
       "grid_auto_rows": null,
       "grid_column": null,
       "grid_gap": null,
       "grid_row": null,
       "grid_template_areas": null,
       "grid_template_columns": null,
       "grid_template_rows": null,
       "height": null,
       "justify_content": null,
       "justify_items": null,
       "left": null,
       "margin": null,
       "max_height": null,
       "max_width": null,
       "min_height": null,
       "min_width": null,
       "object_fit": null,
       "object_position": null,
       "order": null,
       "overflow": null,
       "overflow_x": null,
       "overflow_y": null,
       "padding": null,
       "right": null,
       "top": null,
       "visibility": null,
       "width": null
      }
     },
     "90aa154198a541aa8e7e0b08d144ea6d": {
      "model_module": "@jupyter-widgets/base",
      "model_module_version": "1.2.0",
      "model_name": "LayoutModel",
      "state": {
       "_model_module": "@jupyter-widgets/base",
       "_model_module_version": "1.2.0",
       "_model_name": "LayoutModel",
       "_view_count": null,
       "_view_module": "@jupyter-widgets/base",
       "_view_module_version": "1.2.0",
       "_view_name": "LayoutView",
       "align_content": null,
       "align_items": null,
       "align_self": null,
       "border": null,
       "bottom": null,
       "display": null,
       "flex": null,
       "flex_flow": null,
       "grid_area": null,
       "grid_auto_columns": null,
       "grid_auto_flow": null,
       "grid_auto_rows": null,
       "grid_column": null,
       "grid_gap": null,
       "grid_row": null,
       "grid_template_areas": null,
       "grid_template_columns": null,
       "grid_template_rows": null,
       "height": null,
       "justify_content": null,
       "justify_items": null,
       "left": null,
       "margin": null,
       "max_height": null,
       "max_width": null,
       "min_height": null,
       "min_width": null,
       "object_fit": null,
       "object_position": null,
       "order": null,
       "overflow": null,
       "overflow_x": null,
       "overflow_y": null,
       "padding": null,
       "right": null,
       "top": null,
       "visibility": null,
       "width": null
      }
     },
     "928ea3922c9646c890744ca648885770": {
      "model_module": "@jupyter-widgets/controls",
      "model_module_version": "1.5.0",
      "model_name": "DescriptionStyleModel",
      "state": {
       "_model_module": "@jupyter-widgets/controls",
       "_model_module_version": "1.5.0",
       "_model_name": "DescriptionStyleModel",
       "_view_count": null,
       "_view_module": "@jupyter-widgets/base",
       "_view_module_version": "1.2.0",
       "_view_name": "StyleView",
       "description_width": ""
      }
     },
     "929d2c860e9f4b4c9997f298753fca8d": {
      "model_module": "@jupyter-widgets/base",
      "model_module_version": "1.2.0",
      "model_name": "LayoutModel",
      "state": {
       "_model_module": "@jupyter-widgets/base",
       "_model_module_version": "1.2.0",
       "_model_name": "LayoutModel",
       "_view_count": null,
       "_view_module": "@jupyter-widgets/base",
       "_view_module_version": "1.2.0",
       "_view_name": "LayoutView",
       "align_content": null,
       "align_items": null,
       "align_self": null,
       "border": null,
       "bottom": null,
       "display": null,
       "flex": null,
       "flex_flow": null,
       "grid_area": null,
       "grid_auto_columns": null,
       "grid_auto_flow": null,
       "grid_auto_rows": null,
       "grid_column": null,
       "grid_gap": null,
       "grid_row": null,
       "grid_template_areas": null,
       "grid_template_columns": null,
       "grid_template_rows": null,
       "height": null,
       "justify_content": null,
       "justify_items": null,
       "left": null,
       "margin": null,
       "max_height": null,
       "max_width": null,
       "min_height": null,
       "min_width": null,
       "object_fit": null,
       "object_position": null,
       "order": null,
       "overflow": null,
       "overflow_x": null,
       "overflow_y": null,
       "padding": null,
       "right": null,
       "top": null,
       "visibility": null,
       "width": null
      }
     },
     "98c6b53846ad45919ae309292060b87e": {
      "model_module": "@jupyter-widgets/controls",
      "model_module_version": "1.5.0",
      "model_name": "DescriptionStyleModel",
      "state": {
       "_model_module": "@jupyter-widgets/controls",
       "_model_module_version": "1.5.0",
       "_model_name": "DescriptionStyleModel",
       "_view_count": null,
       "_view_module": "@jupyter-widgets/base",
       "_view_module_version": "1.2.0",
       "_view_name": "StyleView",
       "description_width": ""
      }
     },
     "9a1906c0de67414daea62b4a6648299d": {
      "model_module": "@jupyter-widgets/base",
      "model_module_version": "1.2.0",
      "model_name": "LayoutModel",
      "state": {
       "_model_module": "@jupyter-widgets/base",
       "_model_module_version": "1.2.0",
       "_model_name": "LayoutModel",
       "_view_count": null,
       "_view_module": "@jupyter-widgets/base",
       "_view_module_version": "1.2.0",
       "_view_name": "LayoutView",
       "align_content": null,
       "align_items": null,
       "align_self": null,
       "border": null,
       "bottom": null,
       "display": null,
       "flex": null,
       "flex_flow": null,
       "grid_area": null,
       "grid_auto_columns": null,
       "grid_auto_flow": null,
       "grid_auto_rows": null,
       "grid_column": null,
       "grid_gap": null,
       "grid_row": null,
       "grid_template_areas": null,
       "grid_template_columns": null,
       "grid_template_rows": null,
       "height": null,
       "justify_content": null,
       "justify_items": null,
       "left": null,
       "margin": null,
       "max_height": null,
       "max_width": null,
       "min_height": null,
       "min_width": null,
       "object_fit": null,
       "object_position": null,
       "order": null,
       "overflow": null,
       "overflow_x": null,
       "overflow_y": null,
       "padding": null,
       "right": null,
       "top": null,
       "visibility": null,
       "width": null
      }
     },
     "9f00e6756a3f465489fda028066d2737": {
      "model_module": "@jupyter-widgets/controls",
      "model_module_version": "1.5.0",
      "model_name": "DescriptionStyleModel",
      "state": {
       "_model_module": "@jupyter-widgets/controls",
       "_model_module_version": "1.5.0",
       "_model_name": "DescriptionStyleModel",
       "_view_count": null,
       "_view_module": "@jupyter-widgets/base",
       "_view_module_version": "1.2.0",
       "_view_name": "StyleView",
       "description_width": ""
      }
     },
     "a49f4f87ba504dffa4be63bbb7183483": {
      "model_module": "@jupyter-widgets/base",
      "model_module_version": "1.2.0",
      "model_name": "LayoutModel",
      "state": {
       "_model_module": "@jupyter-widgets/base",
       "_model_module_version": "1.2.0",
       "_model_name": "LayoutModel",
       "_view_count": null,
       "_view_module": "@jupyter-widgets/base",
       "_view_module_version": "1.2.0",
       "_view_name": "LayoutView",
       "align_content": null,
       "align_items": null,
       "align_self": null,
       "border": null,
       "bottom": null,
       "display": null,
       "flex": null,
       "flex_flow": null,
       "grid_area": null,
       "grid_auto_columns": null,
       "grid_auto_flow": null,
       "grid_auto_rows": null,
       "grid_column": null,
       "grid_gap": null,
       "grid_row": null,
       "grid_template_areas": null,
       "grid_template_columns": null,
       "grid_template_rows": null,
       "height": null,
       "justify_content": null,
       "justify_items": null,
       "left": null,
       "margin": null,
       "max_height": null,
       "max_width": null,
       "min_height": null,
       "min_width": null,
       "object_fit": null,
       "object_position": null,
       "order": null,
       "overflow": null,
       "overflow_x": null,
       "overflow_y": null,
       "padding": null,
       "right": null,
       "top": null,
       "visibility": null,
       "width": null
      }
     },
     "a4f9058c0c714b8aa9f6f7d62ab159e4": {
      "model_module": "@jupyter-widgets/controls",
      "model_module_version": "1.5.0",
      "model_name": "FloatProgressModel",
      "state": {
       "_dom_classes": [],
       "_model_module": "@jupyter-widgets/controls",
       "_model_module_version": "1.5.0",
       "_model_name": "FloatProgressModel",
       "_view_count": null,
       "_view_module": "@jupyter-widgets/controls",
       "_view_module_version": "1.5.0",
       "_view_name": "ProgressView",
       "bar_style": "success",
       "description": "",
       "description_tooltip": null,
       "layout": "IPY_MODEL_4856f035c1a74fe288c7cd0c7c9065d7",
       "max": 456318.0,
       "min": 0.0,
       "orientation": "horizontal",
       "style": "IPY_MODEL_ad975c2758f94e689c180c0975a87ba6",
       "value": 456318.0
      }
     },
     "ad975c2758f94e689c180c0975a87ba6": {
      "model_module": "@jupyter-widgets/controls",
      "model_module_version": "1.5.0",
      "model_name": "ProgressStyleModel",
      "state": {
       "_model_module": "@jupyter-widgets/controls",
       "_model_module_version": "1.5.0",
       "_model_name": "ProgressStyleModel",
       "_view_count": null,
       "_view_module": "@jupyter-widgets/base",
       "_view_module_version": "1.2.0",
       "_view_name": "StyleView",
       "bar_color": null,
       "description_width": ""
      }
     },
     "aed9c19b53cd46f09b276d15b60ec0c4": {
      "model_module": "@jupyter-widgets/base",
      "model_module_version": "1.2.0",
      "model_name": "LayoutModel",
      "state": {
       "_model_module": "@jupyter-widgets/base",
       "_model_module_version": "1.2.0",
       "_model_name": "LayoutModel",
       "_view_count": null,
       "_view_module": "@jupyter-widgets/base",
       "_view_module_version": "1.2.0",
       "_view_name": "LayoutView",
       "align_content": null,
       "align_items": null,
       "align_self": null,
       "border": null,
       "bottom": null,
       "display": null,
       "flex": null,
       "flex_flow": null,
       "grid_area": null,
       "grid_auto_columns": null,
       "grid_auto_flow": null,
       "grid_auto_rows": null,
       "grid_column": null,
       "grid_gap": null,
       "grid_row": null,
       "grid_template_areas": null,
       "grid_template_columns": null,
       "grid_template_rows": null,
       "height": null,
       "justify_content": null,
       "justify_items": null,
       "left": null,
       "margin": null,
       "max_height": null,
       "max_width": null,
       "min_height": null,
       "min_width": null,
       "object_fit": null,
       "object_position": null,
       "order": null,
       "overflow": null,
       "overflow_x": null,
       "overflow_y": null,
       "padding": null,
       "right": null,
       "top": null,
       "visibility": null,
       "width": null
      }
     },
     "b031070baff44102bc1384bf846c02f7": {
      "model_module": "@jupyter-widgets/base",
      "model_module_version": "1.2.0",
      "model_name": "LayoutModel",
      "state": {
       "_model_module": "@jupyter-widgets/base",
       "_model_module_version": "1.2.0",
       "_model_name": "LayoutModel",
       "_view_count": null,
       "_view_module": "@jupyter-widgets/base",
       "_view_module_version": "1.2.0",
       "_view_name": "LayoutView",
       "align_content": null,
       "align_items": null,
       "align_self": null,
       "border": null,
       "bottom": null,
       "display": null,
       "flex": null,
       "flex_flow": null,
       "grid_area": null,
       "grid_auto_columns": null,
       "grid_auto_flow": null,
       "grid_auto_rows": null,
       "grid_column": null,
       "grid_gap": null,
       "grid_row": null,
       "grid_template_areas": null,
       "grid_template_columns": null,
       "grid_template_rows": null,
       "height": null,
       "justify_content": null,
       "justify_items": null,
       "left": null,
       "margin": null,
       "max_height": null,
       "max_width": null,
       "min_height": null,
       "min_width": null,
       "object_fit": null,
       "object_position": null,
       "order": null,
       "overflow": null,
       "overflow_x": null,
       "overflow_y": null,
       "padding": null,
       "right": null,
       "top": null,
       "visibility": null,
       "width": null
      }
     },
     "b51b8fb2c5ef40078563d9700a578937": {
      "model_module": "@jupyter-widgets/controls",
      "model_module_version": "1.5.0",
      "model_name": "HTMLModel",
      "state": {
       "_dom_classes": [],
       "_model_module": "@jupyter-widgets/controls",
       "_model_module_version": "1.5.0",
       "_model_name": "HTMLModel",
       "_view_count": null,
       "_view_module": "@jupyter-widgets/controls",
       "_view_module_version": "1.5.0",
       "_view_name": "HTMLView",
       "description": "",
       "description_tooltip": null,
       "layout": "IPY_MODEL_f50d3fef38e848ec903faa21bc771bab",
       "placeholder": "​",
       "style": "IPY_MODEL_833776f08b0743488e19a0ad80b3ed87",
       "value": "normalizer.json: 100%"
      }
     },
     "b67b79929dce4eafbec9dbdaafb65c80": {
      "model_module": "@jupyter-widgets/controls",
      "model_module_version": "1.5.0",
      "model_name": "DescriptionStyleModel",
      "state": {
       "_model_module": "@jupyter-widgets/controls",
       "_model_module_version": "1.5.0",
       "_model_name": "DescriptionStyleModel",
       "_view_count": null,
       "_view_module": "@jupyter-widgets/base",
       "_view_module_version": "1.2.0",
       "_view_name": "StyleView",
       "description_width": ""
      }
     },
     "b7f9ee868c564ea39eaaa2df7640d552": {
      "model_module": "@jupyter-widgets/controls",
      "model_module_version": "1.5.0",
      "model_name": "HBoxModel",
      "state": {
       "_dom_classes": [],
       "_model_module": "@jupyter-widgets/controls",
       "_model_module_version": "1.5.0",
       "_model_name": "HBoxModel",
       "_view_count": null,
       "_view_module": "@jupyter-widgets/controls",
       "_view_module_version": "1.5.0",
       "_view_name": "HBoxView",
       "box_style": "",
       "children": [
        "IPY_MODEL_ee19a821482041629c6e35177267e603",
        "IPY_MODEL_60681ed9de6642ae97cbc2738f7128cb",
        "IPY_MODEL_8611b12398de4f76acbee8e57ce74720"
       ],
       "layout": "IPY_MODEL_8a6217cb17e047d6a76a8de1799a0152"
      }
     },
     "b9cd2b989a694484a510cc3eeea70ee5": {
      "model_module": "@jupyter-widgets/controls",
      "model_module_version": "1.5.0",
      "model_name": "ProgressStyleModel",
      "state": {
       "_model_module": "@jupyter-widgets/controls",
       "_model_module_version": "1.5.0",
       "_model_name": "ProgressStyleModel",
       "_view_count": null,
       "_view_module": "@jupyter-widgets/base",
       "_view_module_version": "1.2.0",
       "_view_name": "StyleView",
       "bar_color": null,
       "description_width": ""
      }
     },
     "ba3e70aae41f4d4394108c97bfc335eb": {
      "model_module": "@jupyter-widgets/base",
      "model_module_version": "1.2.0",
      "model_name": "LayoutModel",
      "state": {
       "_model_module": "@jupyter-widgets/base",
       "_model_module_version": "1.2.0",
       "_model_name": "LayoutModel",
       "_view_count": null,
       "_view_module": "@jupyter-widgets/base",
       "_view_module_version": "1.2.0",
       "_view_name": "LayoutView",
       "align_content": null,
       "align_items": null,
       "align_self": null,
       "border": null,
       "bottom": null,
       "display": null,
       "flex": null,
       "flex_flow": null,
       "grid_area": null,
       "grid_auto_columns": null,
       "grid_auto_flow": null,
       "grid_auto_rows": null,
       "grid_column": null,
       "grid_gap": null,
       "grid_row": null,
       "grid_template_areas": null,
       "grid_template_columns": null,
       "grid_template_rows": null,
       "height": null,
       "justify_content": null,
       "justify_items": null,
       "left": null,
       "margin": null,
       "max_height": null,
       "max_width": null,
       "min_height": null,
       "min_width": null,
       "object_fit": null,
       "object_position": null,
       "order": null,
       "overflow": null,
       "overflow_x": null,
       "overflow_y": null,
       "padding": null,
       "right": null,
       "top": null,
       "visibility": null,
       "width": null
      }
     },
     "bd8b50a49a004479881fcdcce42cad16": {
      "model_module": "@jupyter-widgets/controls",
      "model_module_version": "1.5.0",
      "model_name": "HTMLModel",
      "state": {
       "_dom_classes": [],
       "_model_module": "@jupyter-widgets/controls",
       "_model_module_version": "1.5.0",
       "_model_name": "HTMLModel",
       "_view_count": null,
       "_view_module": "@jupyter-widgets/controls",
       "_view_module_version": "1.5.0",
       "_view_name": "HTMLView",
       "description": "",
       "description_tooltip": null,
       "layout": "IPY_MODEL_026190ccf4fa46fb8776bcb798c22b01",
       "placeholder": "​",
       "style": "IPY_MODEL_98c6b53846ad45919ae309292060b87e",
       "value": "preprocessor_config.json: 100%"
      }
     },
     "c05602994e264def8e315aae35a5408f": {
      "model_module": "@jupyter-widgets/controls",
      "model_module_version": "1.5.0",
      "model_name": "FloatProgressModel",
      "state": {
       "_dom_classes": [],
       "_model_module": "@jupyter-widgets/controls",
       "_model_module_version": "1.5.0",
       "_model_name": "FloatProgressModel",
       "_view_count": null,
       "_view_module": "@jupyter-widgets/controls",
       "_view_module_version": "1.5.0",
       "_view_name": "ProgressView",
       "bar_style": "success",
       "description": "",
       "description_tooltip": null,
       "layout": "IPY_MODEL_aed9c19b53cd46f09b276d15b60ec0c4",
       "max": 805.0,
       "min": 0.0,
       "orientation": "horizontal",
       "style": "IPY_MODEL_23a4993daf0a4e74b6aaacce09f32d42",
       "value": 805.0
      }
     },
     "c12528d24b4240a4a3cefff6369d31e7": {
      "model_module": "@jupyter-widgets/controls",
      "model_module_version": "1.5.0",
      "model_name": "ProgressStyleModel",
      "state": {
       "_model_module": "@jupyter-widgets/controls",
       "_model_module_version": "1.5.0",
       "_model_name": "ProgressStyleModel",
       "_view_count": null,
       "_view_module": "@jupyter-widgets/base",
       "_view_module_version": "1.2.0",
       "_view_name": "StyleView",
       "bar_color": null,
       "description_width": ""
      }
     },
     "c2da71f3ed4345749f109b519fe000f1": {
      "model_module": "@jupyter-widgets/controls",
      "model_module_version": "1.5.0",
      "model_name": "HTMLModel",
      "state": {
       "_dom_classes": [],
       "_model_module": "@jupyter-widgets/controls",
       "_model_module_version": "1.5.0",
       "_model_name": "HTMLModel",
       "_view_count": null,
       "_view_module": "@jupyter-widgets/controls",
       "_view_module_version": "1.5.0",
       "_view_name": "HTMLView",
       "description": "",
       "description_tooltip": null,
       "layout": "IPY_MODEL_469a9bc720be4aa5b96eb1aad28a09a5",
       "placeholder": "​",
       "style": "IPY_MODEL_8437c1dfd8304828b0f75c121c4dc0cf",
       "value": " 798k/798k [00:00&lt;00:00, 10.3MB/s]"
      }
     },
     "c3964291aad54919af5707f9a6c59d27": {
      "model_module": "@jupyter-widgets/controls",
      "model_module_version": "1.5.0",
      "model_name": "HTMLModel",
      "state": {
       "_dom_classes": [],
       "_model_module": "@jupyter-widgets/controls",
       "_model_module_version": "1.5.0",
       "_model_name": "HTMLModel",
       "_view_count": null,
       "_view_module": "@jupyter-widgets/controls",
       "_view_module_version": "1.5.0",
       "_view_name": "HTMLView",
       "description": "",
       "description_tooltip": null,
       "layout": "IPY_MODEL_5471437794844814a8fada83607cc8ee",
       "placeholder": "​",
       "style": "IPY_MODEL_4ccef57603d84d7391c7fc737c2a61a1",
       "value": " 151M/151M [00:01&lt;00:00, 140MB/s]"
      }
     },
     "c7d35b4ec5a64b5a813b6bde288d55e5": {
      "model_module": "@jupyter-widgets/base",
      "model_module_version": "1.2.0",
      "model_name": "LayoutModel",
      "state": {
       "_model_module": "@jupyter-widgets/base",
       "_model_module_version": "1.2.0",
       "_model_name": "LayoutModel",
       "_view_count": null,
       "_view_module": "@jupyter-widgets/base",
       "_view_module_version": "1.2.0",
       "_view_name": "LayoutView",
       "align_content": null,
       "align_items": null,
       "align_self": null,
       "border": null,
       "bottom": null,
       "display": null,
       "flex": null,
       "flex_flow": null,
       "grid_area": null,
       "grid_auto_columns": null,
       "grid_auto_flow": null,
       "grid_auto_rows": null,
       "grid_column": null,
       "grid_gap": null,
       "grid_row": null,
       "grid_template_areas": null,
       "grid_template_columns": null,
       "grid_template_rows": null,
       "height": null,
       "justify_content": null,
       "justify_items": null,
       "left": null,
       "margin": null,
       "max_height": null,
       "max_width": null,
       "min_height": null,
       "min_width": null,
       "object_fit": null,
       "object_position": null,
       "order": null,
       "overflow": null,
       "overflow_x": null,
       "overflow_y": null,
       "padding": null,
       "right": null,
       "top": null,
       "visibility": null,
       "width": null
      }
     },
     "ca4bdce139f54268933e4de06cf0e5cf": {
      "model_module": "@jupyter-widgets/controls",
      "model_module_version": "1.5.0",
      "model_name": "HTMLModel",
      "state": {
       "_dom_classes": [],
       "_model_module": "@jupyter-widgets/controls",
       "_model_module_version": "1.5.0",
       "_model_name": "HTMLModel",
       "_view_count": null,
       "_view_module": "@jupyter-widgets/controls",
       "_view_module_version": "1.5.0",
       "_view_name": "HTMLView",
       "description": "",
       "description_tooltip": null,
       "layout": "IPY_MODEL_6be688fd5b674e30a8520b9f161a4b9f",
       "placeholder": "​",
       "style": "IPY_MODEL_b67b79929dce4eafbec9dbdaafb65c80",
       "value": " 1.62k/1.62k [00:00&lt;00:00, 166kB/s]"
      }
     },
     "cb6a8cd8395b4d45a4f0bba054874005": {
      "model_module": "@jupyter-widgets/controls",
      "model_module_version": "1.5.0",
      "model_name": "HTMLModel",
      "state": {
       "_dom_classes": [],
       "_model_module": "@jupyter-widgets/controls",
       "_model_module_version": "1.5.0",
       "_model_name": "HTMLModel",
       "_view_count": null,
       "_view_module": "@jupyter-widgets/controls",
       "_view_module_version": "1.5.0",
       "_view_name": "HTMLView",
       "description": "",
       "description_tooltip": null,
       "layout": "IPY_MODEL_1af260bfc3ea4791a9880112f763ed16",
       "placeholder": "​",
       "style": "IPY_MODEL_52b6fa246b9b46babdd6720f086416db",
       "value": "vocab.json: 100%"
      }
     },
     "cb8f96c25cca4b429be74ba810435b90": {
      "model_module": "@jupyter-widgets/controls",
      "model_module_version": "1.5.0",
      "model_name": "FloatProgressModel",
      "state": {
       "_dom_classes": [],
       "_model_module": "@jupyter-widgets/controls",
       "_model_module_version": "1.5.0",
       "_model_name": "FloatProgressModel",
       "_view_count": null,
       "_view_module": "@jupyter-widgets/controls",
       "_view_module_version": "1.5.0",
       "_view_name": "ProgressView",
       "bar_style": "success",
       "description": "",
       "description_tooltip": null,
       "layout": "IPY_MODEL_2fadd388d5e34699a0d9d2c56a9af5a6",
       "max": 1621.0,
       "min": 0.0,
       "orientation": "horizontal",
       "style": "IPY_MODEL_241bd8a5030b4523bcc047ec3a2a6143",
       "value": 1621.0
      }
     },
     "cbcca39ca6c24a768fccbfaba8e056cb": {
      "model_module": "@jupyter-widgets/controls",
      "model_module_version": "1.5.0",
      "model_name": "HTMLModel",
      "state": {
       "_dom_classes": [],
       "_model_module": "@jupyter-widgets/controls",
       "_model_module_version": "1.5.0",
       "_model_name": "HTMLModel",
       "_view_count": null,
       "_view_module": "@jupyter-widgets/controls",
       "_view_module_version": "1.5.0",
       "_view_name": "HTMLView",
       "description": "",
       "description_tooltip": null,
       "layout": "IPY_MODEL_a49f4f87ba504dffa4be63bbb7183483",
       "placeholder": "​",
       "style": "IPY_MODEL_0767b42d9aa243d08b79f15ed84d2c45",
       "value": "tokenizer_config.json: 100%"
      }
     },
     "cd87f4ad1509457396711ca0e6e58503": {
      "model_module": "@jupyter-widgets/controls",
      "model_module_version": "1.5.0",
      "model_name": "HBoxModel",
      "state": {
       "_dom_classes": [],
       "_model_module": "@jupyter-widgets/controls",
       "_model_module_version": "1.5.0",
       "_model_name": "HBoxModel",
       "_view_count": null,
       "_view_module": "@jupyter-widgets/controls",
       "_view_module_version": "1.5.0",
       "_view_name": "HBoxView",
       "box_style": "",
       "children": [
        "IPY_MODEL_cdccefd1be7b4805810fe509832caa28",
        "IPY_MODEL_20102352f67b4da2b0f0e74c3ca5ac20",
        "IPY_MODEL_0c610198d74f44a7abc27960e9430218"
       ],
       "layout": "IPY_MODEL_8064197716494bc39027f243a99e0a90"
      }
     },
     "cd930cb561ee424c8226cc47ea5d8260": {
      "model_module": "@jupyter-widgets/controls",
      "model_module_version": "1.5.0",
      "model_name": "HTMLModel",
      "state": {
       "_dom_classes": [],
       "_model_module": "@jupyter-widgets/controls",
       "_model_module_version": "1.5.0",
       "_model_name": "HTMLModel",
       "_view_count": null,
       "_view_module": "@jupyter-widgets/controls",
       "_view_module_version": "1.5.0",
       "_view_name": "HTMLView",
       "description": "",
       "description_tooltip": null,
       "layout": "IPY_MODEL_e5f836444a434a9cbb2cce81d9bb22d6",
       "placeholder": "​",
       "style": "IPY_MODEL_270e365c96cf4d0db13811af0b462e82",
       "value": "config.json: 100%"
      }
     },
     "cdccefd1be7b4805810fe509832caa28": {
      "model_module": "@jupyter-widgets/controls",
      "model_module_version": "1.5.0",
      "model_name": "HTMLModel",
      "state": {
       "_dom_classes": [],
       "_model_module": "@jupyter-widgets/controls",
       "_model_module_version": "1.5.0",
       "_model_name": "HTMLModel",
       "_view_count": null,
       "_view_module": "@jupyter-widgets/controls",
       "_view_module_version": "1.5.0",
       "_view_name": "HTMLView",
       "description": "",
       "description_tooltip": null,
       "layout": "IPY_MODEL_e9f040fd400b4c3db1d78627a158a69f",
       "placeholder": "​",
       "style": "IPY_MODEL_9f00e6756a3f465489fda028066d2737",
       "value": "added_tokens.json: 100%"
      }
     },
     "cddc70dee89741d4985a274d7abb9400": {
      "model_module": "@jupyter-widgets/base",
      "model_module_version": "1.2.0",
      "model_name": "LayoutModel",
      "state": {
       "_model_module": "@jupyter-widgets/base",
       "_model_module_version": "1.2.0",
       "_model_name": "LayoutModel",
       "_view_count": null,
       "_view_module": "@jupyter-widgets/base",
       "_view_module_version": "1.2.0",
       "_view_name": "LayoutView",
       "align_content": null,
       "align_items": null,
       "align_self": null,
       "border": null,
       "bottom": null,
       "display": null,
       "flex": null,
       "flex_flow": null,
       "grid_area": null,
       "grid_auto_columns": null,
       "grid_auto_flow": null,
       "grid_auto_rows": null,
       "grid_column": null,
       "grid_gap": null,
       "grid_row": null,
       "grid_template_areas": null,
       "grid_template_columns": null,
       "grid_template_rows": null,
       "height": null,
       "justify_content": null,
       "justify_items": null,
       "left": null,
       "margin": null,
       "max_height": null,
       "max_width": null,
       "min_height": null,
       "min_width": null,
       "object_fit": null,
       "object_position": null,
       "order": null,
       "overflow": null,
       "overflow_x": null,
       "overflow_y": null,
       "padding": null,
       "right": null,
       "top": null,
       "visibility": null,
       "width": null
      }
     },
     "d0f1c0913b714e7687d9e5845f417937": {
      "model_module": "@jupyter-widgets/base",
      "model_module_version": "1.2.0",
      "model_name": "LayoutModel",
      "state": {
       "_model_module": "@jupyter-widgets/base",
       "_model_module_version": "1.2.0",
       "_model_name": "LayoutModel",
       "_view_count": null,
       "_view_module": "@jupyter-widgets/base",
       "_view_module_version": "1.2.0",
       "_view_name": "LayoutView",
       "align_content": null,
       "align_items": null,
       "align_self": null,
       "border": null,
       "bottom": null,
       "display": null,
       "flex": null,
       "flex_flow": null,
       "grid_area": null,
       "grid_auto_columns": null,
       "grid_auto_flow": null,
       "grid_auto_rows": null,
       "grid_column": null,
       "grid_gap": null,
       "grid_row": null,
       "grid_template_areas": null,
       "grid_template_columns": null,
       "grid_template_rows": null,
       "height": null,
       "justify_content": null,
       "justify_items": null,
       "left": null,
       "margin": null,
       "max_height": null,
       "max_width": null,
       "min_height": null,
       "min_width": null,
       "object_fit": null,
       "object_position": null,
       "order": null,
       "overflow": null,
       "overflow_x": null,
       "overflow_y": null,
       "padding": null,
       "right": null,
       "top": null,
       "visibility": null,
       "width": null
      }
     },
     "d238c8295a964691b117465b9338c213": {
      "model_module": "@jupyter-widgets/controls",
      "model_module_version": "1.5.0",
      "model_name": "HTMLModel",
      "state": {
       "_dom_classes": [],
       "_model_module": "@jupyter-widgets/controls",
       "_model_module_version": "1.5.0",
       "_model_name": "HTMLModel",
       "_view_count": null,
       "_view_module": "@jupyter-widgets/controls",
       "_view_module_version": "1.5.0",
       "_view_name": "HTMLView",
       "description": "",
       "description_tooltip": null,
       "layout": "IPY_MODEL_8dc794e1aa824031804a1f75252557e6",
       "placeholder": "​",
       "style": "IPY_MODEL_43b92ae2b72c4e42a0e654ed4d4c9bd1",
       "value": " 1.83k/1.83k [00:00&lt;00:00, 193kB/s]"
      }
     },
     "d472c17b7a214dc4ace5f61db1fe35c0": {
      "model_module": "@jupyter-widgets/base",
      "model_module_version": "1.2.0",
      "model_name": "LayoutModel",
      "state": {
       "_model_module": "@jupyter-widgets/base",
       "_model_module_version": "1.2.0",
       "_model_name": "LayoutModel",
       "_view_count": null,
       "_view_module": "@jupyter-widgets/base",
       "_view_module_version": "1.2.0",
       "_view_name": "LayoutView",
       "align_content": null,
       "align_items": null,
       "align_self": null,
       "border": null,
       "bottom": null,
       "display": null,
       "flex": null,
       "flex_flow": null,
       "grid_area": null,
       "grid_auto_columns": null,
       "grid_auto_flow": null,
       "grid_auto_rows": null,
       "grid_column": null,
       "grid_gap": null,
       "grid_row": null,
       "grid_template_areas": null,
       "grid_template_columns": null,
       "grid_template_rows": null,
       "height": null,
       "justify_content": null,
       "justify_items": null,
       "left": null,
       "margin": null,
       "max_height": null,
       "max_width": null,
       "min_height": null,
       "min_width": null,
       "object_fit": null,
       "object_position": null,
       "order": null,
       "overflow": null,
       "overflow_x": null,
       "overflow_y": null,
       "padding": null,
       "right": null,
       "top": null,
       "visibility": null,
       "width": null
      }
     },
     "d6abba55ef7e492da7bed6376b9e73fe": {
      "model_module": "@jupyter-widgets/controls",
      "model_module_version": "1.5.0",
      "model_name": "DescriptionStyleModel",
      "state": {
       "_model_module": "@jupyter-widgets/controls",
       "_model_module_version": "1.5.0",
       "_model_name": "DescriptionStyleModel",
       "_view_count": null,
       "_view_module": "@jupyter-widgets/base",
       "_view_module_version": "1.2.0",
       "_view_name": "StyleView",
       "description_width": ""
      }
     },
     "e5f836444a434a9cbb2cce81d9bb22d6": {
      "model_module": "@jupyter-widgets/base",
      "model_module_version": "1.2.0",
      "model_name": "LayoutModel",
      "state": {
       "_model_module": "@jupyter-widgets/base",
       "_model_module_version": "1.2.0",
       "_model_name": "LayoutModel",
       "_view_count": null,
       "_view_module": "@jupyter-widgets/base",
       "_view_module_version": "1.2.0",
       "_view_name": "LayoutView",
       "align_content": null,
       "align_items": null,
       "align_self": null,
       "border": null,
       "bottom": null,
       "display": null,
       "flex": null,
       "flex_flow": null,
       "grid_area": null,
       "grid_auto_columns": null,
       "grid_auto_flow": null,
       "grid_auto_rows": null,
       "grid_column": null,
       "grid_gap": null,
       "grid_row": null,
       "grid_template_areas": null,
       "grid_template_columns": null,
       "grid_template_rows": null,
       "height": null,
       "justify_content": null,
       "justify_items": null,
       "left": null,
       "margin": null,
       "max_height": null,
       "max_width": null,
       "min_height": null,
       "min_width": null,
       "object_fit": null,
       "object_position": null,
       "order": null,
       "overflow": null,
       "overflow_x": null,
       "overflow_y": null,
       "padding": null,
       "right": null,
       "top": null,
       "visibility": null,
       "width": null
      }
     },
     "e9f040fd400b4c3db1d78627a158a69f": {
      "model_module": "@jupyter-widgets/base",
      "model_module_version": "1.2.0",
      "model_name": "LayoutModel",
      "state": {
       "_model_module": "@jupyter-widgets/base",
       "_model_module_version": "1.2.0",
       "_model_name": "LayoutModel",
       "_view_count": null,
       "_view_module": "@jupyter-widgets/base",
       "_view_module_version": "1.2.0",
       "_view_name": "LayoutView",
       "align_content": null,
       "align_items": null,
       "align_self": null,
       "border": null,
       "bottom": null,
       "display": null,
       "flex": null,
       "flex_flow": null,
       "grid_area": null,
       "grid_auto_columns": null,
       "grid_auto_flow": null,
       "grid_auto_rows": null,
       "grid_column": null,
       "grid_gap": null,
       "grid_row": null,
       "grid_template_areas": null,
       "grid_template_columns": null,
       "grid_template_rows": null,
       "height": null,
       "justify_content": null,
       "justify_items": null,
       "left": null,
       "margin": null,
       "max_height": null,
       "max_width": null,
       "min_height": null,
       "min_width": null,
       "object_fit": null,
       "object_position": null,
       "order": null,
       "overflow": null,
       "overflow_x": null,
       "overflow_y": null,
       "padding": null,
       "right": null,
       "top": null,
       "visibility": null,
       "width": null
      }
     },
     "e9f529b14694416eae2b38562a8cf2ff": {
      "model_module": "@jupyter-widgets/controls",
      "model_module_version": "1.5.0",
      "model_name": "FloatProgressModel",
      "state": {
       "_dom_classes": [],
       "_model_module": "@jupyter-widgets/controls",
       "_model_module_version": "1.5.0",
       "_model_name": "FloatProgressModel",
       "_view_count": null,
       "_view_module": "@jupyter-widgets/controls",
       "_view_module_version": "1.5.0",
       "_view_name": "ProgressView",
       "bar_style": "success",
       "description": "",
       "description_tooltip": null,
       "layout": "IPY_MODEL_ba3e70aae41f4d4394108c97bfc335eb",
       "max": 151060136.0,
       "min": 0.0,
       "orientation": "horizontal",
       "style": "IPY_MODEL_565fd0cd98124f84b2dce764dd5b5dda",
       "value": 151060136.0
      }
     },
     "ed46e92c936a411ca153790a46a37d35": {
      "model_module": "@jupyter-widgets/base",
      "model_module_version": "1.2.0",
      "model_name": "LayoutModel",
      "state": {
       "_model_module": "@jupyter-widgets/base",
       "_model_module_version": "1.2.0",
       "_model_name": "LayoutModel",
       "_view_count": null,
       "_view_module": "@jupyter-widgets/base",
       "_view_module_version": "1.2.0",
       "_view_name": "LayoutView",
       "align_content": null,
       "align_items": null,
       "align_self": null,
       "border": null,
       "bottom": null,
       "display": null,
       "flex": null,
       "flex_flow": null,
       "grid_area": null,
       "grid_auto_columns": null,
       "grid_auto_flow": null,
       "grid_auto_rows": null,
       "grid_column": null,
       "grid_gap": null,
       "grid_row": null,
       "grid_template_areas": null,
       "grid_template_columns": null,
       "grid_template_rows": null,
       "height": null,
       "justify_content": null,
       "justify_items": null,
       "left": null,
       "margin": null,
       "max_height": null,
       "max_width": null,
       "min_height": null,
       "min_width": null,
       "object_fit": null,
       "object_position": null,
       "order": null,
       "overflow": null,
       "overflow_x": null,
       "overflow_y": null,
       "padding": null,
       "right": null,
       "top": null,
       "visibility": null,
       "width": null
      }
     },
     "edfa9905e63f47f39eb5b7382377bb1b": {
      "model_module": "@jupyter-widgets/controls",
      "model_module_version": "1.5.0",
      "model_name": "HTMLModel",
      "state": {
       "_dom_classes": [],
       "_model_module": "@jupyter-widgets/controls",
       "_model_module_version": "1.5.0",
       "_model_name": "HTMLModel",
       "_view_count": null,
       "_view_module": "@jupyter-widgets/controls",
       "_view_module_version": "1.5.0",
       "_view_name": "HTMLView",
       "description": "",
       "description_tooltip": null,
       "layout": "IPY_MODEL_3ced57e4d55f4214bb958e4fa801aac4",
       "placeholder": "​",
       "style": "IPY_MODEL_89f6e5ae9111481fb8527d98fe06815b",
       "value": "merges.txt: 100%"
      }
     },
     "ee19a821482041629c6e35177267e603": {
      "model_module": "@jupyter-widgets/controls",
      "model_module_version": "1.5.0",
      "model_name": "HTMLModel",
      "state": {
       "_dom_classes": [],
       "_model_module": "@jupyter-widgets/controls",
       "_model_module_version": "1.5.0",
       "_model_name": "HTMLModel",
       "_view_count": null,
       "_view_module": "@jupyter-widgets/controls",
       "_view_module_version": "1.5.0",
       "_view_name": "HTMLView",
       "description": "",
       "description_tooltip": null,
       "layout": "IPY_MODEL_7081216c33ad4983b233fcf4e0b51e72",
       "placeholder": "​",
       "style": "IPY_MODEL_4bcb422e608546339bb20693cb9ab1bb",
       "value": "tokenizer.json: 100%"
      }
     },
     "ee6ed802cc40465bac8ff3a36cab51b3": {
      "model_module": "@jupyter-widgets/controls",
      "model_module_version": "1.5.0",
      "model_name": "HBoxModel",
      "state": {
       "_dom_classes": [],
       "_model_module": "@jupyter-widgets/controls",
       "_model_module_version": "1.5.0",
       "_model_name": "HBoxModel",
       "_view_count": null,
       "_view_module": "@jupyter-widgets/controls",
       "_view_module_version": "1.5.0",
       "_view_name": "HBoxView",
       "box_style": "",
       "children": [
        "IPY_MODEL_edfa9905e63f47f39eb5b7382377bb1b",
        "IPY_MODEL_a4f9058c0c714b8aa9f6f7d62ab159e4",
        "IPY_MODEL_499e4f32ddae4b6ba6f96e18d1508b16"
       ],
       "layout": "IPY_MODEL_d472c17b7a214dc4ace5f61db1fe35c0"
      }
     },
     "f35c6eafd23b4ea3855eaed062fb5620": {
      "model_module": "@jupyter-widgets/base",
      "model_module_version": "1.2.0",
      "model_name": "LayoutModel",
      "state": {
       "_model_module": "@jupyter-widgets/base",
       "_model_module_version": "1.2.0",
       "_model_name": "LayoutModel",
       "_view_count": null,
       "_view_module": "@jupyter-widgets/base",
       "_view_module_version": "1.2.0",
       "_view_name": "LayoutView",
       "align_content": null,
       "align_items": null,
       "align_self": null,
       "border": null,
       "bottom": null,
       "display": null,
       "flex": null,
       "flex_flow": null,
       "grid_area": null,
       "grid_auto_columns": null,
       "grid_auto_flow": null,
       "grid_auto_rows": null,
       "grid_column": null,
       "grid_gap": null,
       "grid_row": null,
       "grid_template_areas": null,
       "grid_template_columns": null,
       "grid_template_rows": null,
       "height": null,
       "justify_content": null,
       "justify_items": null,
       "left": null,
       "margin": null,
       "max_height": null,
       "max_width": null,
       "min_height": null,
       "min_width": null,
       "object_fit": null,
       "object_position": null,
       "order": null,
       "overflow": null,
       "overflow_x": null,
       "overflow_y": null,
       "padding": null,
       "right": null,
       "top": null,
       "visibility": null,
       "width": null
      }
     },
     "f50d3fef38e848ec903faa21bc771bab": {
      "model_module": "@jupyter-widgets/base",
      "model_module_version": "1.2.0",
      "model_name": "LayoutModel",
      "state": {
       "_model_module": "@jupyter-widgets/base",
       "_model_module_version": "1.2.0",
       "_model_name": "LayoutModel",
       "_view_count": null,
       "_view_module": "@jupyter-widgets/base",
       "_view_module_version": "1.2.0",
       "_view_name": "LayoutView",
       "align_content": null,
       "align_items": null,
       "align_self": null,
       "border": null,
       "bottom": null,
       "display": null,
       "flex": null,
       "flex_flow": null,
       "grid_area": null,
       "grid_auto_columns": null,
       "grid_auto_flow": null,
       "grid_auto_rows": null,
       "grid_column": null,
       "grid_gap": null,
       "grid_row": null,
       "grid_template_areas": null,
       "grid_template_columns": null,
       "grid_template_rows": null,
       "height": null,
       "justify_content": null,
       "justify_items": null,
       "left": null,
       "margin": null,
       "max_height": null,
       "max_width": null,
       "min_height": null,
       "min_width": null,
       "object_fit": null,
       "object_position": null,
       "order": null,
       "overflow": null,
       "overflow_x": null,
       "overflow_y": null,
       "padding": null,
       "right": null,
       "top": null,
       "visibility": null,
       "width": null
      }
     },
     "f747dfafec074621923895fe35492b77": {
      "model_module": "@jupyter-widgets/controls",
      "model_module_version": "1.5.0",
      "model_name": "HTMLModel",
      "state": {
       "_dom_classes": [],
       "_model_module": "@jupyter-widgets/controls",
       "_model_module_version": "1.5.0",
       "_model_name": "HTMLModel",
       "_view_count": null,
       "_view_module": "@jupyter-widgets/controls",
       "_view_module_version": "1.5.0",
       "_view_name": "HTMLView",
       "description": "",
       "description_tooltip": null,
       "layout": "IPY_MODEL_90aa154198a541aa8e7e0b08d144ea6d",
       "placeholder": "​",
       "style": "IPY_MODEL_0c613c8446834c19b76c7dbb8daa08fd",
       "value": "generation_config.json: 100%"
      }
     },
     "f902def52c494963a115bb8086e66933": {
      "model_module": "@jupyter-widgets/controls",
      "model_module_version": "1.5.0",
      "model_name": "DescriptionStyleModel",
      "state": {
       "_model_module": "@jupyter-widgets/controls",
       "_model_module_version": "1.5.0",
       "_model_name": "DescriptionStyleModel",
       "_view_count": null,
       "_view_module": "@jupyter-widgets/base",
       "_view_module_version": "1.2.0",
       "_view_name": "StyleView",
       "description_width": ""
      }
     },
     "fc16096d38ea44c0bacd653e6dbd14fa": {
      "model_module": "@jupyter-widgets/controls",
      "model_module_version": "1.5.0",
      "model_name": "FloatProgressModel",
      "state": {
       "_dom_classes": [],
       "_model_module": "@jupyter-widgets/controls",
       "_model_module_version": "1.5.0",
       "_model_name": "FloatProgressModel",
       "_view_count": null,
       "_view_module": "@jupyter-widgets/controls",
       "_view_module_version": "1.5.0",
       "_view_name": "ProgressView",
       "bar_style": "success",
       "description": "",
       "description_tooltip": null,
       "layout": "IPY_MODEL_840acc113aec48ec9e9f587d9cb3aae7",
       "max": 1937.0,
       "min": 0.0,
       "orientation": "horizontal",
       "style": "IPY_MODEL_b9cd2b989a694484a510cc3eeea70ee5",
       "value": 1937.0
      }
     },
     "fec2dc328b9d487aa60ae34656e8f21c": {
      "model_module": "@jupyter-widgets/controls",
      "model_module_version": "1.5.0",
      "model_name": "ProgressStyleModel",
      "state": {
       "_model_module": "@jupyter-widgets/controls",
       "_model_module_version": "1.5.0",
       "_model_name": "ProgressStyleModel",
       "_view_count": null,
       "_view_module": "@jupyter-widgets/base",
       "_view_module_version": "1.2.0",
       "_view_name": "StyleView",
       "bar_color": null,
       "description_width": ""
      }
     }
    },
    "version_major": 2,
    "version_minor": 0
   }
  }
 },
 "nbformat": 4,
 "nbformat_minor": 5
}
